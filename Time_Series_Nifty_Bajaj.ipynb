{
 "cells": [
  {
   "cell_type": "markdown",
   "metadata": {},
   "source": [
    "#### Nifty-Stock Market Data"
   ]
  },
  {
   "cell_type": "code",
   "execution_count": null,
   "metadata": {},
   "outputs": [],
   "source": [
    "import lightgbm as lgb\n",
    "import numpy as np\n",
    "import pandas as pd\n",
    "\n",
    "from fbprophet import Prophet\n",
    "from matplotlib import pyplot as plt\n",
    "from pmdarima import auto_arima\n",
    "from sklearn.metrics import mean_absolute_error, mean_squared_error\n",
    "\n",
    "myfavouritenumber = 13\n",
    "seed = myfavouritenumber\n",
    "np.random.seed(seed)"
   ]
  },
  {
   "cell_type": "code",
   "execution_count": 123,
   "metadata": {},
   "outputs": [],
   "source": [
    "from statsmodels.tsa.arima_model import ARIMA\n",
    "import numpy as np\n",
    "import pandas as pd\n",
    "\n",
    "from matplotlib import pyplot as plt\n",
    "from sklearn.metrics import mean_absolute_error, mean_squared_error\n"
   ]
  },
  {
   "cell_type": "code",
   "execution_count": 73,
   "metadata": {},
   "outputs": [],
   "source": [
    "from warnings import filterwarnings\n",
    "filterwarnings('ignore')"
   ]
  },
  {
   "cell_type": "markdown",
   "metadata": {},
   "source": [
    "#### Reading the market data of BAJAJFINSV stock and preparing a training dataset and validation dataset."
   ]
  },
  {
   "cell_type": "code",
   "execution_count": 74,
   "metadata": {},
   "outputs": [
    {
     "data": {
      "text/html": [
       "<div>\n",
       "<style scoped>\n",
       "    .dataframe tbody tr th:only-of-type {\n",
       "        vertical-align: middle;\n",
       "    }\n",
       "\n",
       "    .dataframe tbody tr th {\n",
       "        vertical-align: top;\n",
       "    }\n",
       "\n",
       "    .dataframe thead th {\n",
       "        text-align: right;\n",
       "    }\n",
       "</style>\n",
       "<table border=\"1\" class=\"dataframe\">\n",
       "  <thead>\n",
       "    <tr style=\"text-align: right;\">\n",
       "      <th></th>\n",
       "      <th>Date</th>\n",
       "      <th>Symbol</th>\n",
       "      <th>Series</th>\n",
       "      <th>Prev Close</th>\n",
       "      <th>Open</th>\n",
       "      <th>High</th>\n",
       "      <th>Low</th>\n",
       "      <th>Last</th>\n",
       "      <th>Close</th>\n",
       "      <th>VWAP</th>\n",
       "      <th>Volume</th>\n",
       "      <th>Turnover</th>\n",
       "      <th>Trades</th>\n",
       "      <th>Deliverable Volume</th>\n",
       "      <th>%Deliverble</th>\n",
       "    </tr>\n",
       "  </thead>\n",
       "  <tbody>\n",
       "    <tr>\n",
       "      <th>0</th>\n",
       "      <td>2008-05-26</td>\n",
       "      <td>BAJAJFINSV</td>\n",
       "      <td>EQ</td>\n",
       "      <td>2101.05</td>\n",
       "      <td>600.00</td>\n",
       "      <td>619.00</td>\n",
       "      <td>501.0</td>\n",
       "      <td>505.1</td>\n",
       "      <td>509.10</td>\n",
       "      <td>548.85</td>\n",
       "      <td>3145446</td>\n",
       "      <td>1.726368e+14</td>\n",
       "      <td>NaN</td>\n",
       "      <td>908264</td>\n",
       "      <td>0.2888</td>\n",
       "    </tr>\n",
       "    <tr>\n",
       "      <th>1</th>\n",
       "      <td>2008-05-27</td>\n",
       "      <td>BAJAJFINSV</td>\n",
       "      <td>EQ</td>\n",
       "      <td>509.10</td>\n",
       "      <td>505.00</td>\n",
       "      <td>610.95</td>\n",
       "      <td>491.1</td>\n",
       "      <td>564.0</td>\n",
       "      <td>554.65</td>\n",
       "      <td>572.15</td>\n",
       "      <td>4349144</td>\n",
       "      <td>2.488370e+14</td>\n",
       "      <td>NaN</td>\n",
       "      <td>677627</td>\n",
       "      <td>0.1558</td>\n",
       "    </tr>\n",
       "    <tr>\n",
       "      <th>2</th>\n",
       "      <td>2008-05-28</td>\n",
       "      <td>BAJAJFINSV</td>\n",
       "      <td>EQ</td>\n",
       "      <td>554.65</td>\n",
       "      <td>564.00</td>\n",
       "      <td>665.60</td>\n",
       "      <td>564.0</td>\n",
       "      <td>643.0</td>\n",
       "      <td>640.95</td>\n",
       "      <td>618.37</td>\n",
       "      <td>4588759</td>\n",
       "      <td>2.837530e+14</td>\n",
       "      <td>NaN</td>\n",
       "      <td>774895</td>\n",
       "      <td>0.1689</td>\n",
       "    </tr>\n",
       "    <tr>\n",
       "      <th>3</th>\n",
       "      <td>2008-05-29</td>\n",
       "      <td>BAJAJFINSV</td>\n",
       "      <td>EQ</td>\n",
       "      <td>640.95</td>\n",
       "      <td>656.65</td>\n",
       "      <td>703.00</td>\n",
       "      <td>608.0</td>\n",
       "      <td>634.5</td>\n",
       "      <td>632.40</td>\n",
       "      <td>659.60</td>\n",
       "      <td>4522302</td>\n",
       "      <td>2.982921e+14</td>\n",
       "      <td>NaN</td>\n",
       "      <td>1006161</td>\n",
       "      <td>0.2225</td>\n",
       "    </tr>\n",
       "    <tr>\n",
       "      <th>4</th>\n",
       "      <td>2008-05-30</td>\n",
       "      <td>BAJAJFINSV</td>\n",
       "      <td>EQ</td>\n",
       "      <td>632.40</td>\n",
       "      <td>642.40</td>\n",
       "      <td>668.00</td>\n",
       "      <td>588.3</td>\n",
       "      <td>647.0</td>\n",
       "      <td>644.00</td>\n",
       "      <td>636.41</td>\n",
       "      <td>3057669</td>\n",
       "      <td>1.945929e+14</td>\n",
       "      <td>NaN</td>\n",
       "      <td>462832</td>\n",
       "      <td>0.1514</td>\n",
       "    </tr>\n",
       "  </tbody>\n",
       "</table>\n",
       "</div>"
      ],
      "text/plain": [
       "         Date      Symbol Series  Prev Close    Open    High    Low   Last  \\\n",
       "0  2008-05-26  BAJAJFINSV     EQ     2101.05  600.00  619.00  501.0  505.1   \n",
       "1  2008-05-27  BAJAJFINSV     EQ      509.10  505.00  610.95  491.1  564.0   \n",
       "2  2008-05-28  BAJAJFINSV     EQ      554.65  564.00  665.60  564.0  643.0   \n",
       "3  2008-05-29  BAJAJFINSV     EQ      640.95  656.65  703.00  608.0  634.5   \n",
       "4  2008-05-30  BAJAJFINSV     EQ      632.40  642.40  668.00  588.3  647.0   \n",
       "\n",
       "    Close    VWAP   Volume      Turnover  Trades  Deliverable Volume  \\\n",
       "0  509.10  548.85  3145446  1.726368e+14     NaN              908264   \n",
       "1  554.65  572.15  4349144  2.488370e+14     NaN              677627   \n",
       "2  640.95  618.37  4588759  2.837530e+14     NaN              774895   \n",
       "3  632.40  659.60  4522302  2.982921e+14     NaN             1006161   \n",
       "4  644.00  636.41  3057669  1.945929e+14     NaN              462832   \n",
       "\n",
       "   %Deliverble  \n",
       "0       0.2888  \n",
       "1       0.1558  \n",
       "2       0.1689  \n",
       "3       0.2225  \n",
       "4       0.1514  "
      ]
     },
     "execution_count": 74,
     "metadata": {},
     "output_type": "execute_result"
    }
   ],
   "source": [
    "df = pd.read_csv(\"F:/Data Science projects/EDA/NIFTY-Stock market Data/BAJAJFINSV.csv\")\n",
    "df.head()"
   ]
  },
  {
   "cell_type": "code",
   "execution_count": 75,
   "metadata": {},
   "outputs": [],
   "source": [
    "df.set_index('Date',inplace=True)"
   ]
  },
  {
   "cell_type": "markdown",
   "metadata": {},
   "source": [
    "#### Plotting the target variable VWAP over time"
   ]
  },
  {
   "cell_type": "code",
   "execution_count": 76,
   "metadata": {},
   "outputs": [
    {
     "data": {
      "text/plain": [
       "<matplotlib.axes._subplots.AxesSubplot at 0xc8dd6ca88>"
      ]
     },
     "execution_count": 76,
     "metadata": {},
     "output_type": "execute_result"
    },
    {
     "data": {
      "image/png": "[encoded data removed]",
      "text/plain": [
       "<Figure size 1008x504 with 1 Axes>"
      ]
     },
     "metadata": {
      "needs_background": "light"
     },
     "output_type": "display_data"
    }
   ],
   "source": [
    "df['VWAP'].plot(figsize=(14, 7))"
   ]
  },
  {
   "cell_type": "markdown",
   "metadata": {},
   "source": [
    "#### so u can observe here some kind of Seasonality"
   ]
  },
  {
   "cell_type": "raw",
   "metadata": {},
   "source": [
    "Feature Engineering\n",
    "Almost every time series problem will have some external features or some internal feature engineering to help the model.\n",
    "\n",
    "Let's add some basic features like lag values of available numeric features that are widely used for time series problems. Since we need to predict the price of the stock for a day, we cannot use the feature values of the same day since they will be unavailable at actual inference time. We need to use statistics like mean, standard deviation of their lagged values.\n",
    "\n",
    "We will use three sets of lagged values, one previous day, one looking back 7 days and another looking back 30 days as a proxy for last week and last month metrics."
   ]
  },
  {
   "cell_type": "code",
   "execution_count": 7,
   "metadata": {},
   "outputs": [
    {
     "data": {
      "text/html": [
       "<div>\n",
       "<style scoped>\n",
       "    .dataframe tbody tr th:only-of-type {\n",
       "        vertical-align: middle;\n",
       "    }\n",
       "\n",
       "    .dataframe tbody tr th {\n",
       "        vertical-align: top;\n",
       "    }\n",
       "\n",
       "    .dataframe thead th {\n",
       "        text-align: right;\n",
       "    }\n",
       "</style>\n",
       "<table border=\"1\" class=\"dataframe\">\n",
       "  <thead>\n",
       "    <tr style=\"text-align: right;\">\n",
       "      <th></th>\n",
       "      <th>Symbol</th>\n",
       "      <th>Series</th>\n",
       "      <th>Prev Close</th>\n",
       "      <th>Open</th>\n",
       "      <th>High</th>\n",
       "      <th>Low</th>\n",
       "      <th>Last</th>\n",
       "      <th>Close</th>\n",
       "      <th>VWAP</th>\n",
       "      <th>Volume</th>\n",
       "      <th>Turnover</th>\n",
       "      <th>Trades</th>\n",
       "      <th>Deliverable Volume</th>\n",
       "      <th>%Deliverble</th>\n",
       "    </tr>\n",
       "    <tr>\n",
       "      <th>Date</th>\n",
       "      <th></th>\n",
       "      <th></th>\n",
       "      <th></th>\n",
       "      <th></th>\n",
       "      <th></th>\n",
       "      <th></th>\n",
       "      <th></th>\n",
       "      <th></th>\n",
       "      <th></th>\n",
       "      <th></th>\n",
       "      <th></th>\n",
       "      <th></th>\n",
       "      <th></th>\n",
       "      <th></th>\n",
       "    </tr>\n",
       "  </thead>\n",
       "  <tbody>\n",
       "    <tr>\n",
       "      <th>2008-05-26</th>\n",
       "      <td>BAJAJFINSV</td>\n",
       "      <td>EQ</td>\n",
       "      <td>2101.05</td>\n",
       "      <td>600.00</td>\n",
       "      <td>619.00</td>\n",
       "      <td>501.0</td>\n",
       "      <td>505.1</td>\n",
       "      <td>509.10</td>\n",
       "      <td>548.85</td>\n",
       "      <td>3145446</td>\n",
       "      <td>1.726368e+14</td>\n",
       "      <td>NaN</td>\n",
       "      <td>908264</td>\n",
       "      <td>0.2888</td>\n",
       "    </tr>\n",
       "    <tr>\n",
       "      <th>2008-05-27</th>\n",
       "      <td>BAJAJFINSV</td>\n",
       "      <td>EQ</td>\n",
       "      <td>509.10</td>\n",
       "      <td>505.00</td>\n",
       "      <td>610.95</td>\n",
       "      <td>491.1</td>\n",
       "      <td>564.0</td>\n",
       "      <td>554.65</td>\n",
       "      <td>572.15</td>\n",
       "      <td>4349144</td>\n",
       "      <td>2.488370e+14</td>\n",
       "      <td>NaN</td>\n",
       "      <td>677627</td>\n",
       "      <td>0.1558</td>\n",
       "    </tr>\n",
       "    <tr>\n",
       "      <th>2008-05-28</th>\n",
       "      <td>BAJAJFINSV</td>\n",
       "      <td>EQ</td>\n",
       "      <td>554.65</td>\n",
       "      <td>564.00</td>\n",
       "      <td>665.60</td>\n",
       "      <td>564.0</td>\n",
       "      <td>643.0</td>\n",
       "      <td>640.95</td>\n",
       "      <td>618.37</td>\n",
       "      <td>4588759</td>\n",
       "      <td>2.837530e+14</td>\n",
       "      <td>NaN</td>\n",
       "      <td>774895</td>\n",
       "      <td>0.1689</td>\n",
       "    </tr>\n",
       "    <tr>\n",
       "      <th>2008-05-29</th>\n",
       "      <td>BAJAJFINSV</td>\n",
       "      <td>EQ</td>\n",
       "      <td>640.95</td>\n",
       "      <td>656.65</td>\n",
       "      <td>703.00</td>\n",
       "      <td>608.0</td>\n",
       "      <td>634.5</td>\n",
       "      <td>632.40</td>\n",
       "      <td>659.60</td>\n",
       "      <td>4522302</td>\n",
       "      <td>2.982921e+14</td>\n",
       "      <td>NaN</td>\n",
       "      <td>1006161</td>\n",
       "      <td>0.2225</td>\n",
       "    </tr>\n",
       "    <tr>\n",
       "      <th>2008-05-30</th>\n",
       "      <td>BAJAJFINSV</td>\n",
       "      <td>EQ</td>\n",
       "      <td>632.40</td>\n",
       "      <td>642.40</td>\n",
       "      <td>668.00</td>\n",
       "      <td>588.3</td>\n",
       "      <td>647.0</td>\n",
       "      <td>644.00</td>\n",
       "      <td>636.41</td>\n",
       "      <td>3057669</td>\n",
       "      <td>1.945929e+14</td>\n",
       "      <td>NaN</td>\n",
       "      <td>462832</td>\n",
       "      <td>0.1514</td>\n",
       "    </tr>\n",
       "  </tbody>\n",
       "</table>\n",
       "</div>"
      ],
      "text/plain": [
       "                Symbol Series  Prev Close    Open    High    Low   Last  \\\n",
       "Date                                                                      \n",
       "2008-05-26  BAJAJFINSV     EQ     2101.05  600.00  619.00  501.0  505.1   \n",
       "2008-05-27  BAJAJFINSV     EQ      509.10  505.00  610.95  491.1  564.0   \n",
       "2008-05-28  BAJAJFINSV     EQ      554.65  564.00  665.60  564.0  643.0   \n",
       "2008-05-29  BAJAJFINSV     EQ      640.95  656.65  703.00  608.0  634.5   \n",
       "2008-05-30  BAJAJFINSV     EQ      632.40  642.40  668.00  588.3  647.0   \n",
       "\n",
       "             Close    VWAP   Volume      Turnover  Trades  Deliverable Volume  \\\n",
       "Date                                                                            \n",
       "2008-05-26  509.10  548.85  3145446  1.726368e+14     NaN              908264   \n",
       "2008-05-27  554.65  572.15  4349144  2.488370e+14     NaN              677627   \n",
       "2008-05-28  640.95  618.37  4588759  2.837530e+14     NaN              774895   \n",
       "2008-05-29  632.40  659.60  4522302  2.982921e+14     NaN             1006161   \n",
       "2008-05-30  644.00  636.41  3057669  1.945929e+14     NaN              462832   \n",
       "\n",
       "            %Deliverble  \n",
       "Date                     \n",
       "2008-05-26       0.2888  \n",
       "2008-05-27       0.1558  \n",
       "2008-05-28       0.1689  \n",
       "2008-05-29       0.2225  \n",
       "2008-05-30       0.1514  "
      ]
     },
     "execution_count": 7,
     "metadata": {},
     "output_type": "execute_result"
    }
   ],
   "source": [
    "df.head()"
   ]
  },
  {
   "cell_type": "code",
   "execution_count": 124,
   "metadata": {},
   "outputs": [],
   "source": [
    "data=df.copy()"
   ]
  },
  {
   "cell_type": "code",
   "execution_count": null,
   "metadata": {},
   "outputs": [],
   "source": []
  },
  {
   "cell_type": "code",
   "execution_count": null,
   "metadata": {},
   "outputs": [],
   "source": []
  },
  {
   "cell_type": "code",
   "execution_count": 48,
   "metadata": {},
   "outputs": [
    {
     "data": {
      "text/plain": [
       "Symbol                  0\n",
       "Series                  0\n",
       "Prev Close              0\n",
       "Open                    0\n",
       "High                    0\n",
       "Low                     0\n",
       "Last                    0\n",
       "Close                   0\n",
       "VWAP                    0\n",
       "Volume                  0\n",
       "Turnover                0\n",
       "Trades                745\n",
       "Deliverable Volume      0\n",
       "%Deliverble             0\n",
       "dtype: int64"
      ]
     },
     "execution_count": 48,
     "metadata": {},
     "output_type": "execute_result"
    }
   ],
   "source": [
    "data.isna().sum()"
   ]
  },
  {
   "cell_type": "code",
   "execution_count": 125,
   "metadata": {},
   "outputs": [],
   "source": [
    "data.dropna(inplace=True)"
   ]
  },
  {
   "cell_type": "code",
   "execution_count": 50,
   "metadata": {},
   "outputs": [
    {
     "data": {
      "text/plain": [
       "(2291, 14)"
      ]
     },
     "execution_count": 50,
     "metadata": {},
     "output_type": "execute_result"
    }
   ],
   "source": [
    "data.shape"
   ]
  },
  {
   "cell_type": "code",
   "execution_count": 51,
   "metadata": {},
   "outputs": [
    {
     "data": {
      "text/plain": [
       "Symbol                 object\n",
       "Series                 object\n",
       "Prev Close            float64\n",
       "Open                  float64\n",
       "High                  float64\n",
       "Low                   float64\n",
       "Last                  float64\n",
       "Close                 float64\n",
       "VWAP                  float64\n",
       "Volume                  int64\n",
       "Turnover              float64\n",
       "Trades                float64\n",
       "Deliverable Volume      int64\n",
       "%Deliverble           float64\n",
       "dtype: object"
      ]
     },
     "execution_count": 51,
     "metadata": {},
     "output_type": "execute_result"
    }
   ],
   "source": [
    "data.dtypes"
   ]
  },
  {
   "cell_type": "code",
   "execution_count": 52,
   "metadata": {},
   "outputs": [
    {
     "data": {
      "text/plain": [
       "<matplotlib.axes._subplots.AxesSubplot at 0xca45fe548>"
      ]
     },
     "execution_count": 52,
     "metadata": {},
     "output_type": "execute_result"
    },
    {
     "data": {
      "image/png": "[encoded data removed]",
      "text/plain": [
       "<Figure size 432x288 with 1 Axes>"
      ]
     },
     "metadata": {
      "needs_background": "light"
     },
     "output_type": "display_data"
    }
   ],
   "source": [
    "import seaborn as sns\n",
    "sns.distplot(data['Trades'])"
   ]
  },
  {
   "cell_type": "code",
   "execution_count": null,
   "metadata": {},
   "outputs": [],
   "source": []
  },
  {
   "cell_type": "code",
   "execution_count": 126,
   "metadata": {},
   "outputs": [],
   "source": [
    "lag_features = [\"High\", \"Low\", \"Volume\", \"Turnover\", \"Trades\"]\n",
    "window1 = 3\n",
    "window2 = 7"
   ]
  },
  {
   "cell_type": "code",
   "execution_count": 127,
   "metadata": {},
   "outputs": [],
   "source": [
    "for feature in lag_features:\n",
    "    data[feature+'rolling_mean_3'] = data[feature].rolling(window=window1).mean()\n",
    "    data[feature+'rolling_mean_7'] = data[feature].rolling(window=window2).mean()"
   ]
  },
  {
   "cell_type": "code",
   "execution_count": 128,
   "metadata": {},
   "outputs": [],
   "source": [
    "for feature in lag_features:\n",
    "    data[feature+'rolling_std_3'] = data[feature].rolling(window=window1).std()\n",
    "    data[feature+'rolling_std_7'] = data[feature].rolling(window=window2).std()"
   ]
  },
  {
   "cell_type": "code",
   "execution_count": 129,
   "metadata": {},
   "outputs": [
    {
     "data": {
      "text/html": [
       "<div>\n",
       "<style scoped>\n",
       "    .dataframe tbody tr th:only-of-type {\n",
       "        vertical-align: middle;\n",
       "    }\n",
       "\n",
       "    .dataframe tbody tr th {\n",
       "        vertical-align: top;\n",
       "    }\n",
       "\n",
       "    .dataframe thead th {\n",
       "        text-align: right;\n",
       "    }\n",
       "</style>\n",
       "<table border=\"1\" class=\"dataframe\">\n",
       "  <thead>\n",
       "    <tr style=\"text-align: right;\">\n",
       "      <th></th>\n",
       "      <th>Symbol</th>\n",
       "      <th>Series</th>\n",
       "      <th>Prev Close</th>\n",
       "      <th>Open</th>\n",
       "      <th>High</th>\n",
       "      <th>Low</th>\n",
       "      <th>Last</th>\n",
       "      <th>Close</th>\n",
       "      <th>VWAP</th>\n",
       "      <th>Volume</th>\n",
       "      <th>...</th>\n",
       "      <th>Highrolling_std_3</th>\n",
       "      <th>Highrolling_std_7</th>\n",
       "      <th>Lowrolling_std_3</th>\n",
       "      <th>Lowrolling_std_7</th>\n",
       "      <th>Volumerolling_std_3</th>\n",
       "      <th>Volumerolling_std_7</th>\n",
       "      <th>Turnoverrolling_std_3</th>\n",
       "      <th>Turnoverrolling_std_7</th>\n",
       "      <th>Tradesrolling_std_3</th>\n",
       "      <th>Tradesrolling_std_7</th>\n",
       "    </tr>\n",
       "    <tr>\n",
       "      <th>Date</th>\n",
       "      <th></th>\n",
       "      <th></th>\n",
       "      <th></th>\n",
       "      <th></th>\n",
       "      <th></th>\n",
       "      <th></th>\n",
       "      <th></th>\n",
       "      <th></th>\n",
       "      <th></th>\n",
       "      <th></th>\n",
       "      <th></th>\n",
       "      <th></th>\n",
       "      <th></th>\n",
       "      <th></th>\n",
       "      <th></th>\n",
       "      <th></th>\n",
       "      <th></th>\n",
       "      <th></th>\n",
       "      <th></th>\n",
       "      <th></th>\n",
       "      <th></th>\n",
       "    </tr>\n",
       "  </thead>\n",
       "  <tbody>\n",
       "    <tr>\n",
       "      <th>2011-06-01</th>\n",
       "      <td>BAJAJFINSV</td>\n",
       "      <td>EQ</td>\n",
       "      <td>518.40</td>\n",
       "      <td>521.8</td>\n",
       "      <td>528.95</td>\n",
       "      <td>517.1</td>\n",
       "      <td>521.10</td>\n",
       "      <td>521.05</td>\n",
       "      <td>522.81</td>\n",
       "      <td>113360</td>\n",
       "      <td>...</td>\n",
       "      <td>NaN</td>\n",
       "      <td>NaN</td>\n",
       "      <td>NaN</td>\n",
       "      <td>NaN</td>\n",
       "      <td>NaN</td>\n",
       "      <td>NaN</td>\n",
       "      <td>NaN</td>\n",
       "      <td>NaN</td>\n",
       "      <td>NaN</td>\n",
       "      <td>NaN</td>\n",
       "    </tr>\n",
       "    <tr>\n",
       "      <th>2011-06-02</th>\n",
       "      <td>BAJAJFINSV</td>\n",
       "      <td>EQ</td>\n",
       "      <td>521.05</td>\n",
       "      <td>518.8</td>\n",
       "      <td>519.85</td>\n",
       "      <td>504.0</td>\n",
       "      <td>514.95</td>\n",
       "      <td>512.45</td>\n",
       "      <td>513.71</td>\n",
       "      <td>62967</td>\n",
       "      <td>...</td>\n",
       "      <td>NaN</td>\n",
       "      <td>NaN</td>\n",
       "      <td>NaN</td>\n",
       "      <td>NaN</td>\n",
       "      <td>NaN</td>\n",
       "      <td>NaN</td>\n",
       "      <td>NaN</td>\n",
       "      <td>NaN</td>\n",
       "      <td>NaN</td>\n",
       "      <td>NaN</td>\n",
       "    </tr>\n",
       "    <tr>\n",
       "      <th>2011-06-03</th>\n",
       "      <td>BAJAJFINSV</td>\n",
       "      <td>EQ</td>\n",
       "      <td>512.45</td>\n",
       "      <td>512.5</td>\n",
       "      <td>520.00</td>\n",
       "      <td>506.0</td>\n",
       "      <td>507.10</td>\n",
       "      <td>508.40</td>\n",
       "      <td>513.11</td>\n",
       "      <td>36445</td>\n",
       "      <td>...</td>\n",
       "      <td>5.211126</td>\n",
       "      <td>NaN</td>\n",
       "      <td>7.057148</td>\n",
       "      <td>NaN</td>\n",
       "      <td>39069.997351</td>\n",
       "      <td>NaN</td>\n",
       "      <td>2.064161e+12</td>\n",
       "      <td>NaN</td>\n",
       "      <td>1237.121255</td>\n",
       "      <td>NaN</td>\n",
       "    </tr>\n",
       "    <tr>\n",
       "      <th>2011-06-06</th>\n",
       "      <td>BAJAJFINSV</td>\n",
       "      <td>EQ</td>\n",
       "      <td>508.40</td>\n",
       "      <td>508.0</td>\n",
       "      <td>508.00</td>\n",
       "      <td>496.0</td>\n",
       "      <td>502.25</td>\n",
       "      <td>502.25</td>\n",
       "      <td>501.92</td>\n",
       "      <td>33537</td>\n",
       "      <td>...</td>\n",
       "      <td>6.885310</td>\n",
       "      <td>NaN</td>\n",
       "      <td>5.291503</td>\n",
       "      <td>NaN</td>\n",
       "      <td>16217.263682</td>\n",
       "      <td>NaN</td>\n",
       "      <td>8.469340e+11</td>\n",
       "      <td>NaN</td>\n",
       "      <td>551.246164</td>\n",
       "      <td>NaN</td>\n",
       "    </tr>\n",
       "    <tr>\n",
       "      <th>2011-06-07</th>\n",
       "      <td>BAJAJFINSV</td>\n",
       "      <td>EQ</td>\n",
       "      <td>502.25</td>\n",
       "      <td>503.0</td>\n",
       "      <td>552.00</td>\n",
       "      <td>503.0</td>\n",
       "      <td>546.50</td>\n",
       "      <td>545.50</td>\n",
       "      <td>536.79</td>\n",
       "      <td>1237385</td>\n",
       "      <td>...</td>\n",
       "      <td>22.744963</td>\n",
       "      <td>NaN</td>\n",
       "      <td>5.131601</td>\n",
       "      <td>NaN</td>\n",
       "      <td>694204.022264</td>\n",
       "      <td>NaN</td>\n",
       "      <td>3.732262e+13</td>\n",
       "      <td>NaN</td>\n",
       "      <td>20032.206344</td>\n",
       "      <td>NaN</td>\n",
       "    </tr>\n",
       "  </tbody>\n",
       "</table>\n",
       "<p>5 rows × 34 columns</p>\n",
       "</div>"
      ],
      "text/plain": [
       "                Symbol Series  Prev Close   Open    High    Low    Last  \\\n",
       "Date                                                                      \n",
       "2011-06-01  BAJAJFINSV     EQ      518.40  521.8  528.95  517.1  521.10   \n",
       "2011-06-02  BAJAJFINSV     EQ      521.05  518.8  519.85  504.0  514.95   \n",
       "2011-06-03  BAJAJFINSV     EQ      512.45  512.5  520.00  506.0  507.10   \n",
       "2011-06-06  BAJAJFINSV     EQ      508.40  508.0  508.00  496.0  502.25   \n",
       "2011-06-07  BAJAJFINSV     EQ      502.25  503.0  552.00  503.0  546.50   \n",
       "\n",
       "             Close    VWAP   Volume  ...  Highrolling_std_3  \\\n",
       "Date                                 ...                      \n",
       "2011-06-01  521.05  522.81   113360  ...                NaN   \n",
       "2011-06-02  512.45  513.71    62967  ...                NaN   \n",
       "2011-06-03  508.40  513.11    36445  ...           5.211126   \n",
       "2011-06-06  502.25  501.92    33537  ...           6.885310   \n",
       "2011-06-07  545.50  536.79  1237385  ...          22.744963   \n",
       "\n",
       "            Highrolling_std_7  Lowrolling_std_3  Lowrolling_std_7  \\\n",
       "Date                                                                \n",
       "2011-06-01                NaN               NaN               NaN   \n",
       "2011-06-02                NaN               NaN               NaN   \n",
       "2011-06-03                NaN          7.057148               NaN   \n",
       "2011-06-06                NaN          5.291503               NaN   \n",
       "2011-06-07                NaN          5.131601               NaN   \n",
       "\n",
       "            Volumerolling_std_3  Volumerolling_std_7  Turnoverrolling_std_3  \\\n",
       "Date                                                                          \n",
       "2011-06-01                  NaN                  NaN                    NaN   \n",
       "2011-06-02                  NaN                  NaN                    NaN   \n",
       "2011-06-03         39069.997351                  NaN           2.064161e+12   \n",
       "2011-06-06         16217.263682                  NaN           8.469340e+11   \n",
       "2011-06-07        694204.022264                  NaN           3.732262e+13   \n",
       "\n",
       "            Turnoverrolling_std_7  Tradesrolling_std_3  Tradesrolling_std_7  \n",
       "Date                                                                         \n",
       "2011-06-01                    NaN                  NaN                  NaN  \n",
       "2011-06-02                    NaN                  NaN                  NaN  \n",
       "2011-06-03                    NaN          1237.121255                  NaN  \n",
       "2011-06-06                    NaN           551.246164                  NaN  \n",
       "2011-06-07                    NaN         20032.206344                  NaN  \n",
       "\n",
       "[5 rows x 34 columns]"
      ]
     },
     "execution_count": 129,
     "metadata": {},
     "output_type": "execute_result"
    }
   ],
   "source": [
    "data.head()"
   ]
  },
  {
   "cell_type": "code",
   "execution_count": null,
   "metadata": {},
   "outputs": [],
   "source": []
  },
  {
   "cell_type": "code",
   "execution_count": 83,
   "metadata": {},
   "outputs": [
    {
     "data": {
      "text/plain": [
       "(2291, 34)"
      ]
     },
     "execution_count": 83,
     "metadata": {},
     "output_type": "execute_result"
    }
   ],
   "source": [
    "data.shape"
   ]
  },
  {
   "cell_type": "code",
   "execution_count": 84,
   "metadata": {},
   "outputs": [
    {
     "data": {
      "text/plain": [
       "Symbol                    0\n",
       "Series                    0\n",
       "Prev Close                0\n",
       "Open                      0\n",
       "High                      0\n",
       "Low                       0\n",
       "Last                      0\n",
       "Close                     0\n",
       "VWAP                      0\n",
       "Volume                    0\n",
       "Turnover                  0\n",
       "Trades                    0\n",
       "Deliverable Volume        0\n",
       "%Deliverble               0\n",
       "Highrolling_mean_3        2\n",
       "Highrolling_mean_7        6\n",
       "Lowrolling_mean_3         2\n",
       "Lowrolling_mean_7         6\n",
       "Volumerolling_mean_3      2\n",
       "Volumerolling_mean_7      6\n",
       "Turnoverrolling_mean_3    2\n",
       "Turnoverrolling_mean_7    6\n",
       "Tradesrolling_mean_3      2\n",
       "Tradesrolling_mean_7      6\n",
       "Highrolling_std_3         2\n",
       "Highrolling_std_7         6\n",
       "Lowrolling_std_3          2\n",
       "Lowrolling_std_7          6\n",
       "Volumerolling_std_3       2\n",
       "Volumerolling_std_7       6\n",
       "Turnoverrolling_std_3     2\n",
       "Turnoverrolling_std_7     6\n",
       "Tradesrolling_std_3       2\n",
       "Tradesrolling_std_7       6\n",
       "dtype: int64"
      ]
     },
     "execution_count": 84,
     "metadata": {},
     "output_type": "execute_result"
    }
   ],
   "source": [
    "data.isna().sum()"
   ]
  },
  {
   "cell_type": "code",
   "execution_count": 130,
   "metadata": {},
   "outputs": [],
   "source": [
    "data.dropna(inplace=True)"
   ]
  },
  {
   "cell_type": "code",
   "execution_count": 131,
   "metadata": {},
   "outputs": [
    {
     "data": {
      "text/plain": [
       "Index(['Symbol', 'Series', 'Prev Close', 'Open', 'High', 'Low', 'Last',\n",
       "       'Close', 'VWAP', 'Volume', 'Turnover', 'Trades', 'Deliverable Volume',\n",
       "       '%Deliverble', 'Highrolling_mean_3', 'Highrolling_mean_7',\n",
       "       'Lowrolling_mean_3', 'Lowrolling_mean_7', 'Volumerolling_mean_3',\n",
       "       'Volumerolling_mean_7', 'Turnoverrolling_mean_3',\n",
       "       'Turnoverrolling_mean_7', 'Tradesrolling_mean_3',\n",
       "       'Tradesrolling_mean_7', 'Highrolling_std_3', 'Highrolling_std_7',\n",
       "       'Lowrolling_std_3', 'Lowrolling_std_7', 'Volumerolling_std_3',\n",
       "       'Volumerolling_std_7', 'Turnoverrolling_std_3', 'Turnoverrolling_std_7',\n",
       "       'Tradesrolling_std_3', 'Tradesrolling_std_7'],\n",
       "      dtype='object')"
      ]
     },
     "execution_count": 131,
     "metadata": {},
     "output_type": "execute_result"
    }
   ],
   "source": [
    "data.columns"
   ]
  },
  {
   "cell_type": "code",
   "execution_count": 132,
   "metadata": {},
   "outputs": [],
   "source": [
    "ind_features=['Highrolling_mean_3', 'Highrolling_mean_7',\n",
    "       'Lowrolling_mean_3', 'Lowrolling_mean_7', 'Volumerolling_mean_3',\n",
    "       'Volumerolling_mean_7', 'Turnoverrolling_mean_3',\n",
    "       'Turnoverrolling_mean_7', 'Tradesrolling_mean_3',\n",
    "       'Tradesrolling_mean_7', 'Highrolling_std_3', 'Highrolling_std_7',\n",
    "       'Lowrolling_std_3', 'Lowrolling_std_7', 'Volumerolling_std_3',\n",
    "       'Volumerolling_std_7', 'Turnoverrolling_std_3', 'Turnoverrolling_std_7',\n",
    "       'Tradesrolling_std_3', 'Tradesrolling_std_7']"
   ]
  },
  {
   "cell_type": "code",
   "execution_count": 110,
   "metadata": {},
   "outputs": [
    {
     "data": {
      "text/plain": [
       "(2285, 44)"
      ]
     },
     "execution_count": 110,
     "metadata": {},
     "output_type": "execute_result"
    }
   ],
   "source": [
    "data.shape"
   ]
  },
  {
   "cell_type": "code",
   "execution_count": 133,
   "metadata": {},
   "outputs": [],
   "source": [
    "training_data=data[0:1800]\n",
    "test_data=data[1800:]"
   ]
  },
  {
   "cell_type": "code",
   "execution_count": 134,
   "metadata": {},
   "outputs": [
    {
     "data": {
      "text/plain": [
       "(1800, 34)"
      ]
     },
     "execution_count": 134,
     "metadata": {},
     "output_type": "execute_result"
    }
   ],
   "source": [
    "training_data.shape"
   ]
  },
  {
   "cell_type": "code",
   "execution_count": 27,
   "metadata": {},
   "outputs": [
    {
     "name": "stdout",
     "output_type": "stream",
     "text": [
      "Requirement already satisfied: pmdarima in c:\\users\\mcr\\anaconda3\\lib\\site-packages (1.7.1)\n",
      "Requirement already satisfied: joblib>=0.11 in c:\\users\\mcr\\anaconda3\\lib\\site-packages (from pmdarima) (0.16.0)\n",
      "Requirement already satisfied: numpy>=1.17.3 in c:\\users\\mcr\\anaconda3\\lib\\site-packages (from pmdarima) (1.19.1)\n",
      "Requirement already satisfied: setuptools<50.0.0 in c:\\users\\mcr\\anaconda3\\lib\\site-packages (from pmdarima) (49.6.0)\n",
      "Requirement already satisfied: Cython<0.29.18,>=0.29 in c:\\users\\mcr\\anaconda3\\lib\\site-packages (from pmdarima) (0.29.13)\n",
      "Requirement already satisfied: statsmodels<0.12,>=0.11 in c:\\users\\mcr\\anaconda3\\lib\\site-packages (from pmdarima) (0.11.1)\n",
      "Requirement already satisfied: urllib3 in c:\\users\\mcr\\anaconda3\\lib\\site-packages (from pmdarima) (1.25.8)\n",
      "Requirement already satisfied: pandas>=0.19 in c:\\users\\mcr\\anaconda3\\lib\\site-packages (from pmdarima) (1.1.3)\n",
      "Requirement already satisfied: scikit-learn>=0.22 in c:\\users\\mcr\\anaconda3\\lib\\site-packages (from pmdarima) (0.22.2.post1)\n",
      "Requirement already satisfied: scipy>=1.3.2 in c:\\users\\mcr\\anaconda3\\lib\\site-packages (from pmdarima) (1.4.1)\n",
      "Requirement already satisfied: patsy>=0.5 in c:\\users\\mcr\\anaconda3\\lib\\site-packages (from statsmodels<0.12,>=0.11->pmdarima) (0.5.1)\n",
      "Requirement already satisfied: python-dateutil>=2.7.3 in c:\\users\\mcr\\anaconda3\\lib\\site-packages (from pandas>=0.19->pmdarima) (2.8.1)\n",
      "Requirement already satisfied: pytz>=2017.2 in c:\\users\\mcr\\anaconda3\\lib\\site-packages (from pandas>=0.19->pmdarima) (2019.3)\n",
      "Requirement already satisfied: six in c:\\users\\mcr\\anaconda3\\lib\\site-packages (from patsy>=0.5->statsmodels<0.12,>=0.11->pmdarima) (1.14.0)\n"
     ]
    }
   ],
   "source": [
    "!pip install pmdarima"
   ]
  },
  {
   "cell_type": "code",
   "execution_count": 135,
   "metadata": {},
   "outputs": [],
   "source": [
    "from pmdarima import auto_arima"
   ]
  },
  {
   "cell_type": "code",
   "execution_count": 136,
   "metadata": {},
   "outputs": [
    {
     "data": {
      "text/plain": [
       "Highrolling_mean_3        float64\n",
       "Highrolling_mean_7        float64\n",
       "Lowrolling_mean_3         float64\n",
       "Lowrolling_mean_7         float64\n",
       "Volumerolling_mean_3      float64\n",
       "Volumerolling_mean_7      float64\n",
       "Turnoverrolling_mean_3    float64\n",
       "Turnoverrolling_mean_7    float64\n",
       "Tradesrolling_mean_3      float64\n",
       "Tradesrolling_mean_7      float64\n",
       "Highrolling_std_3         float64\n",
       "Highrolling_std_7         float64\n",
       "Lowrolling_std_3          float64\n",
       "Lowrolling_std_7          float64\n",
       "Volumerolling_std_3       float64\n",
       "Volumerolling_std_7       float64\n",
       "Turnoverrolling_std_3     float64\n",
       "Turnoverrolling_std_7     float64\n",
       "Tradesrolling_std_3       float64\n",
       "Tradesrolling_std_7       float64\n",
       "dtype: object"
      ]
     },
     "execution_count": 136,
     "metadata": {},
     "output_type": "execute_result"
    }
   ],
   "source": [
    "training_data[ind_features].dtypes"
   ]
  },
  {
   "cell_type": "markdown",
   "metadata": {},
   "source": [
    "### take somewhere 5 mins"
   ]
  },
  {
   "cell_type": "code",
   "execution_count": 144,
   "metadata": {},
   "outputs": [
    {
     "name": "stdout",
     "output_type": "stream",
     "text": [
      "Performing stepwise search to minimize aic\n",
      " ARIMA(2,0,2)(0,0,0)[0] intercept   : AIC=17180.287, Time=4.64 sec\n",
      " ARIMA(0,0,0)(0,0,0)[0] intercept   : AIC=17878.399, Time=2.58 sec\n",
      " ARIMA(1,0,0)(0,0,0)[0] intercept   : AIC=17495.745, Time=2.74 sec\n",
      " ARIMA(0,0,1)(0,0,0)[0] intercept   : AIC=17239.580, Time=3.68 sec\n",
      " ARIMA(0,0,0)(0,0,0)[0]             : AIC=29569.396, Time=2.64 sec\n",
      " ARIMA(1,0,2)(0,0,0)[0] intercept   : AIC=18192.160, Time=4.74 sec\n",
      " ARIMA(2,0,1)(0,0,0)[0] intercept   : AIC=17218.123, Time=3.96 sec\n",
      " ARIMA(3,0,2)(0,0,0)[0] intercept   : AIC=17371.732, Time=5.15 sec\n",
      " ARIMA(2,0,3)(0,0,0)[0] intercept   : AIC=17165.559, Time=5.17 sec\n",
      " ARIMA(1,0,3)(0,0,0)[0] intercept   : AIC=17164.369, Time=4.89 sec\n",
      " ARIMA(0,0,3)(0,0,0)[0] intercept   : AIC=17208.282, Time=4.70 sec\n",
      " ARIMA(1,0,4)(0,0,0)[0] intercept   : AIC=17166.364, Time=5.61 sec\n",
      " ARIMA(0,0,2)(0,0,0)[0] intercept   : AIC=17277.387, Time=4.09 sec\n",
      " ARIMA(0,0,4)(0,0,0)[0] intercept   : AIC=17204.826, Time=6.40 sec\n",
      " ARIMA(2,0,4)(0,0,0)[0] intercept   : AIC=17166.921, Time=5.74 sec\n",
      " ARIMA(1,0,3)(0,0,0)[0]             : AIC=17162.285, Time=4.62 sec\n",
      " ARIMA(0,0,3)(0,0,0)[0]             : AIC=17206.288, Time=4.33 sec\n",
      " ARIMA(1,0,2)(0,0,0)[0]             : AIC=18189.951, Time=4.71 sec\n",
      " ARIMA(2,0,3)(0,0,0)[0]             : AIC=17163.518, Time=7.03 sec\n",
      " ARIMA(1,0,4)(0,0,0)[0]             : AIC=17164.259, Time=5.82 sec\n",
      " ARIMA(0,0,2)(0,0,0)[0]             : AIC=17275.390, Time=4.30 sec\n",
      " ARIMA(0,0,4)(0,0,0)[0]             : AIC=17202.835, Time=5.50 sec\n",
      " ARIMA(2,0,2)(0,0,0)[0]             : AIC=17178.104, Time=5.16 sec\n",
      " ARIMA(2,0,4)(0,0,0)[0]             : AIC=17164.815, Time=6.39 sec\n",
      "\n",
      "Best model:  ARIMA(1,0,3)(0,0,0)[0]          \n",
      "Total fit time: 114.648 seconds\n"
     ]
    }
   ],
   "source": [
    "model = auto_arima(y=training_data['VWAP'], exogenous=training_data[ind_features], trace=True)"
   ]
  },
  {
   "cell_type": "code",
   "execution_count": 145,
   "metadata": {},
   "outputs": [
    {
     "data": {
      "text/plain": [
       "ARIMA(maxiter=50, method='lbfgs', order=(1, 0, 3), out_of_sample_size=0,\n",
       "      scoring='mse', scoring_args={}, seasonal_order=(0, 0, 0, 0),\n",
       "      start_params=None, suppress_warnings=True, trend=None,\n",
       "      with_intercept=False)"
      ]
     },
     "execution_count": 145,
     "metadata": {},
     "output_type": "execute_result"
    }
   ],
   "source": [
    "model.fit(training_data['VWAP'], exogenous=training_data[ind_features])\n"
   ]
  },
  {
   "cell_type": "code",
   "execution_count": 146,
   "metadata": {},
   "outputs": [
    {
     "data": {
      "text/html": [
       "<div>\n",
       "<style scoped>\n",
       "    .dataframe tbody tr th:only-of-type {\n",
       "        vertical-align: middle;\n",
       "    }\n",
       "\n",
       "    .dataframe tbody tr th {\n",
       "        vertical-align: top;\n",
       "    }\n",
       "\n",
       "    .dataframe thead th {\n",
       "        text-align: right;\n",
       "    }\n",
       "</style>\n",
       "<table border=\"1\" class=\"dataframe\">\n",
       "  <thead>\n",
       "    <tr style=\"text-align: right;\">\n",
       "      <th></th>\n",
       "      <th>Symbol</th>\n",
       "      <th>Series</th>\n",
       "      <th>Prev Close</th>\n",
       "      <th>Open</th>\n",
       "      <th>High</th>\n",
       "      <th>Low</th>\n",
       "      <th>Last</th>\n",
       "      <th>Close</th>\n",
       "      <th>VWAP</th>\n",
       "      <th>Volume</th>\n",
       "      <th>...</th>\n",
       "      <th>Highrolling_std_7</th>\n",
       "      <th>Lowrolling_std_3</th>\n",
       "      <th>Lowrolling_std_7</th>\n",
       "      <th>Volumerolling_std_3</th>\n",
       "      <th>Volumerolling_std_7</th>\n",
       "      <th>Turnoverrolling_std_3</th>\n",
       "      <th>Turnoverrolling_std_7</th>\n",
       "      <th>Tradesrolling_std_3</th>\n",
       "      <th>Tradesrolling_std_7</th>\n",
       "      <th>Forecast_ARIMA</th>\n",
       "    </tr>\n",
       "    <tr>\n",
       "      <th>Date</th>\n",
       "      <th></th>\n",
       "      <th></th>\n",
       "      <th></th>\n",
       "      <th></th>\n",
       "      <th></th>\n",
       "      <th></th>\n",
       "      <th></th>\n",
       "      <th></th>\n",
       "      <th></th>\n",
       "      <th></th>\n",
       "      <th></th>\n",
       "      <th></th>\n",
       "      <th></th>\n",
       "      <th></th>\n",
       "      <th></th>\n",
       "      <th></th>\n",
       "      <th></th>\n",
       "      <th></th>\n",
       "      <th></th>\n",
       "      <th></th>\n",
       "      <th></th>\n",
       "    </tr>\n",
       "  </thead>\n",
       "  <tbody>\n",
       "    <tr>\n",
       "      <th>2018-09-11</th>\n",
       "      <td>BAJAJFINSV</td>\n",
       "      <td>EQ</td>\n",
       "      <td>6347.45</td>\n",
       "      <td>6351.10</td>\n",
       "      <td>6479.20</td>\n",
       "      <td>6252.00</td>\n",
       "      <td>6362.00</td>\n",
       "      <td>6362.15</td>\n",
       "      <td>6393.90</td>\n",
       "      <td>358140</td>\n",
       "      <td>...</td>\n",
       "      <td>114.558271</td>\n",
       "      <td>131.705480</td>\n",
       "      <td>124.255419</td>\n",
       "      <td>121287.177191</td>\n",
       "      <td>103615.946112</td>\n",
       "      <td>7.642671e+13</td>\n",
       "      <td>6.657483e+13</td>\n",
       "      <td>11308.044496</td>\n",
       "      <td>11621.163994</td>\n",
       "      <td>6367.431996</td>\n",
       "    </tr>\n",
       "    <tr>\n",
       "      <th>2018-09-12</th>\n",
       "      <td>BAJAJFINSV</td>\n",
       "      <td>EQ</td>\n",
       "      <td>6362.15</td>\n",
       "      <td>6351.00</td>\n",
       "      <td>6474.00</td>\n",
       "      <td>6320.00</td>\n",
       "      <td>6413.90</td>\n",
       "      <td>6412.95</td>\n",
       "      <td>6403.48</td>\n",
       "      <td>193742</td>\n",
       "      <td>...</td>\n",
       "      <td>74.486703</td>\n",
       "      <td>37.898989</td>\n",
       "      <td>96.411159</td>\n",
       "      <td>84950.093127</td>\n",
       "      <td>103771.162197</td>\n",
       "      <td>5.421933e+13</td>\n",
       "      <td>6.707463e+13</td>\n",
       "      <td>5934.986633</td>\n",
       "      <td>11075.199936</td>\n",
       "      <td>6394.310134</td>\n",
       "    </tr>\n",
       "    <tr>\n",
       "      <th>2018-09-14</th>\n",
       "      <td>BAJAJFINSV</td>\n",
       "      <td>EQ</td>\n",
       "      <td>6412.95</td>\n",
       "      <td>6479.00</td>\n",
       "      <td>6799.00</td>\n",
       "      <td>6402.00</td>\n",
       "      <td>6775.00</td>\n",
       "      <td>6709.65</td>\n",
       "      <td>6609.93</td>\n",
       "      <td>265042</td>\n",
       "      <td>...</td>\n",
       "      <td>110.322486</td>\n",
       "      <td>75.108810</td>\n",
       "      <td>88.486246</td>\n",
       "      <td>82439.503080</td>\n",
       "      <td>80042.329734</td>\n",
       "      <td>5.247017e+13</td>\n",
       "      <td>5.096397e+13</td>\n",
       "      <td>6070.325966</td>\n",
       "      <td>7019.469306</td>\n",
       "      <td>6532.729661</td>\n",
       "    </tr>\n",
       "    <tr>\n",
       "      <th>2018-09-17</th>\n",
       "      <td>BAJAJFINSV</td>\n",
       "      <td>EQ</td>\n",
       "      <td>6709.65</td>\n",
       "      <td>6691.20</td>\n",
       "      <td>6699.95</td>\n",
       "      <td>6530.00</td>\n",
       "      <td>6540.15</td>\n",
       "      <td>6549.95</td>\n",
       "      <td>6595.67</td>\n",
       "      <td>165064</td>\n",
       "      <td>...</td>\n",
       "      <td>117.100280</td>\n",
       "      <td>105.836352</td>\n",
       "      <td>105.582067</td>\n",
       "      <td>51480.932017</td>\n",
       "      <td>81532.494680</td>\n",
       "      <td>3.474497e+13</td>\n",
       "      <td>5.176651e+13</td>\n",
       "      <td>5314.887989</td>\n",
       "      <td>7683.203846</td>\n",
       "      <td>6604.595870</td>\n",
       "    </tr>\n",
       "    <tr>\n",
       "      <th>2018-09-18</th>\n",
       "      <td>BAJAJFINSV</td>\n",
       "      <td>EQ</td>\n",
       "      <td>6549.95</td>\n",
       "      <td>6570.00</td>\n",
       "      <td>6635.60</td>\n",
       "      <td>6495.00</td>\n",
       "      <td>6520.00</td>\n",
       "      <td>6527.60</td>\n",
       "      <td>6551.14</td>\n",
       "      <td>222470</td>\n",
       "      <td>...</td>\n",
       "      <td>116.593785</td>\n",
       "      <td>66.153861</td>\n",
       "      <td>109.872220</td>\n",
       "      <td>50172.078065</td>\n",
       "      <td>77494.187158</td>\n",
       "      <td>3.322927e+13</td>\n",
       "      <td>4.918007e+13</td>\n",
       "      <td>7904.081245</td>\n",
       "      <td>8033.952902</td>\n",
       "      <td>6640.649672</td>\n",
       "    </tr>\n",
       "    <tr>\n",
       "      <th>...</th>\n",
       "      <td>...</td>\n",
       "      <td>...</td>\n",
       "      <td>...</td>\n",
       "      <td>...</td>\n",
       "      <td>...</td>\n",
       "      <td>...</td>\n",
       "      <td>...</td>\n",
       "      <td>...</td>\n",
       "      <td>...</td>\n",
       "      <td>...</td>\n",
       "      <td>...</td>\n",
       "      <td>...</td>\n",
       "      <td>...</td>\n",
       "      <td>...</td>\n",
       "      <td>...</td>\n",
       "      <td>...</td>\n",
       "      <td>...</td>\n",
       "      <td>...</td>\n",
       "      <td>...</td>\n",
       "      <td>...</td>\n",
       "      <td>...</td>\n",
       "    </tr>\n",
       "    <tr>\n",
       "      <th>2020-08-25</th>\n",
       "      <td>BAJAJFINSV</td>\n",
       "      <td>EQ</td>\n",
       "      <td>6400.45</td>\n",
       "      <td>6439.95</td>\n",
       "      <td>6522.00</td>\n",
       "      <td>6401.00</td>\n",
       "      <td>6519.70</td>\n",
       "      <td>6502.60</td>\n",
       "      <td>6470.44</td>\n",
       "      <td>748345</td>\n",
       "      <td>...</td>\n",
       "      <td>75.450540</td>\n",
       "      <td>73.529320</td>\n",
       "      <td>64.557085</td>\n",
       "      <td>225260.535041</td>\n",
       "      <td>155093.908117</td>\n",
       "      <td>1.477920e+14</td>\n",
       "      <td>1.022106e+14</td>\n",
       "      <td>19538.021249</td>\n",
       "      <td>12867.578429</td>\n",
       "      <td>6429.643057</td>\n",
       "    </tr>\n",
       "    <tr>\n",
       "      <th>2020-08-26</th>\n",
       "      <td>BAJAJFINSV</td>\n",
       "      <td>EQ</td>\n",
       "      <td>6502.60</td>\n",
       "      <td>6535.00</td>\n",
       "      <td>6700.00</td>\n",
       "      <td>6520.75</td>\n",
       "      <td>6550.00</td>\n",
       "      <td>6564.40</td>\n",
       "      <td>6618.47</td>\n",
       "      <td>1001348</td>\n",
       "      <td>...</td>\n",
       "      <td>128.778116</td>\n",
       "      <td>113.336670</td>\n",
       "      <td>105.259424</td>\n",
       "      <td>209266.363289</td>\n",
       "      <td>248978.657341</td>\n",
       "      <td>1.454793e+14</td>\n",
       "      <td>1.679119e+14</td>\n",
       "      <td>18103.612632</td>\n",
       "      <td>20036.233914</td>\n",
       "      <td>6629.598678</td>\n",
       "    </tr>\n",
       "    <tr>\n",
       "      <th>2020-08-27</th>\n",
       "      <td>BAJAJFINSV</td>\n",
       "      <td>EQ</td>\n",
       "      <td>6564.40</td>\n",
       "      <td>6604.95</td>\n",
       "      <td>6604.95</td>\n",
       "      <td>6487.50</td>\n",
       "      <td>6535.95</td>\n",
       "      <td>6530.75</td>\n",
       "      <td>6540.01</td>\n",
       "      <td>461882</td>\n",
       "      <td>...</td>\n",
       "      <td>135.328871</td>\n",
       "      <td>61.816766</td>\n",
       "      <td>115.756302</td>\n",
       "      <td>269905.889010</td>\n",
       "      <td>248666.038849</td>\n",
       "      <td>1.803370e+14</td>\n",
       "      <td>1.670642e+14</td>\n",
       "      <td>21717.379492</td>\n",
       "      <td>20120.660099</td>\n",
       "      <td>6655.551617</td>\n",
       "    </tr>\n",
       "    <tr>\n",
       "      <th>2020-08-28</th>\n",
       "      <td>BAJAJFINSV</td>\n",
       "      <td>EQ</td>\n",
       "      <td>6530.75</td>\n",
       "      <td>6580.00</td>\n",
       "      <td>6650.00</td>\n",
       "      <td>6515.00</td>\n",
       "      <td>6542.00</td>\n",
       "      <td>6545.55</td>\n",
       "      <td>6568.50</td>\n",
       "      <td>490168</td>\n",
       "      <td>...</td>\n",
       "      <td>145.375043</td>\n",
       "      <td>17.771114</td>\n",
       "      <td>124.911845</td>\n",
       "      <td>303624.948292</td>\n",
       "      <td>248795.621020</td>\n",
       "      <td>2.027326e+14</td>\n",
       "      <td>1.667063e+14</td>\n",
       "      <td>24444.727557</td>\n",
       "      <td>20199.688214</td>\n",
       "      <td>6643.670850</td>\n",
       "    </tr>\n",
       "    <tr>\n",
       "      <th>2020-08-31</th>\n",
       "      <td>BAJAJFINSV</td>\n",
       "      <td>EQ</td>\n",
       "      <td>6545.55</td>\n",
       "      <td>6604.50</td>\n",
       "      <td>6670.00</td>\n",
       "      <td>6135.00</td>\n",
       "      <td>6210.00</td>\n",
       "      <td>6190.35</td>\n",
       "      <td>6366.14</td>\n",
       "      <td>1179922</td>\n",
       "      <td>...</td>\n",
       "      <td>123.579003</td>\n",
       "      <td>211.901117</td>\n",
       "      <td>148.041977</td>\n",
       "      <td>406641.143990</td>\n",
       "      <td>314169.678173</td>\n",
       "      <td>2.537304e+14</td>\n",
       "      <td>2.030162e+14</td>\n",
       "      <td>33678.767376</td>\n",
       "      <td>26013.658412</td>\n",
       "      <td>6512.126165</td>\n",
       "    </tr>\n",
       "  </tbody>\n",
       "</table>\n",
       "<p>485 rows × 35 columns</p>\n",
       "</div>"
      ],
      "text/plain": [
       "                Symbol Series  Prev Close     Open     High      Low     Last  \\\n",
       "Date                                                                            \n",
       "2018-09-11  BAJAJFINSV     EQ     6347.45  6351.10  6479.20  6252.00  6362.00   \n",
       "2018-09-12  BAJAJFINSV     EQ     6362.15  6351.00  6474.00  6320.00  6413.90   \n",
       "2018-09-14  BAJAJFINSV     EQ     6412.95  6479.00  6799.00  6402.00  6775.00   \n",
       "2018-09-17  BAJAJFINSV     EQ     6709.65  6691.20  6699.95  6530.00  6540.15   \n",
       "2018-09-18  BAJAJFINSV     EQ     6549.95  6570.00  6635.60  6495.00  6520.00   \n",
       "...                ...    ...         ...      ...      ...      ...      ...   \n",
       "2020-08-25  BAJAJFINSV     EQ     6400.45  6439.95  6522.00  6401.00  6519.70   \n",
       "2020-08-26  BAJAJFINSV     EQ     6502.60  6535.00  6700.00  6520.75  6550.00   \n",
       "2020-08-27  BAJAJFINSV     EQ     6564.40  6604.95  6604.95  6487.50  6535.95   \n",
       "2020-08-28  BAJAJFINSV     EQ     6530.75  6580.00  6650.00  6515.00  6542.00   \n",
       "2020-08-31  BAJAJFINSV     EQ     6545.55  6604.50  6670.00  6135.00  6210.00   \n",
       "\n",
       "              Close     VWAP   Volume  ...  Highrolling_std_7  \\\n",
       "Date                                   ...                      \n",
       "2018-09-11  6362.15  6393.90   358140  ...         114.558271   \n",
       "2018-09-12  6412.95  6403.48   193742  ...          74.486703   \n",
       "2018-09-14  6709.65  6609.93   265042  ...         110.322486   \n",
       "2018-09-17  6549.95  6595.67   165064  ...         117.100280   \n",
       "2018-09-18  6527.60  6551.14   222470  ...         116.593785   \n",
       "...             ...      ...      ...  ...                ...   \n",
       "2020-08-25  6502.60  6470.44   748345  ...          75.450540   \n",
       "2020-08-26  6564.40  6618.47  1001348  ...         128.778116   \n",
       "2020-08-27  6530.75  6540.01   461882  ...         135.328871   \n",
       "2020-08-28  6545.55  6568.50   490168  ...         145.375043   \n",
       "2020-08-31  6190.35  6366.14  1179922  ...         123.579003   \n",
       "\n",
       "            Lowrolling_std_3  Lowrolling_std_7  Volumerolling_std_3  \\\n",
       "Date                                                                  \n",
       "2018-09-11        131.705480        124.255419        121287.177191   \n",
       "2018-09-12         37.898989         96.411159         84950.093127   \n",
       "2018-09-14         75.108810         88.486246         82439.503080   \n",
       "2018-09-17        105.836352        105.582067         51480.932017   \n",
       "2018-09-18         66.153861        109.872220         50172.078065   \n",
       "...                      ...               ...                  ...   \n",
       "2020-08-25         73.529320         64.557085        225260.535041   \n",
       "2020-08-26        113.336670        105.259424        209266.363289   \n",
       "2020-08-27         61.816766        115.756302        269905.889010   \n",
       "2020-08-28         17.771114        124.911845        303624.948292   \n",
       "2020-08-31        211.901117        148.041977        406641.143990   \n",
       "\n",
       "            Volumerolling_std_7  Turnoverrolling_std_3  Turnoverrolling_std_7  \\\n",
       "Date                                                                            \n",
       "2018-09-11        103615.946112           7.642671e+13           6.657483e+13   \n",
       "2018-09-12        103771.162197           5.421933e+13           6.707463e+13   \n",
       "2018-09-14         80042.329734           5.247017e+13           5.096397e+13   \n",
       "2018-09-17         81532.494680           3.474497e+13           5.176651e+13   \n",
       "2018-09-18         77494.187158           3.322927e+13           4.918007e+13   \n",
       "...                         ...                    ...                    ...   \n",
       "2020-08-25        155093.908117           1.477920e+14           1.022106e+14   \n",
       "2020-08-26        248978.657341           1.454793e+14           1.679119e+14   \n",
       "2020-08-27        248666.038849           1.803370e+14           1.670642e+14   \n",
       "2020-08-28        248795.621020           2.027326e+14           1.667063e+14   \n",
       "2020-08-31        314169.678173           2.537304e+14           2.030162e+14   \n",
       "\n",
       "            Tradesrolling_std_3  Tradesrolling_std_7  Forecast_ARIMA  \n",
       "Date                                                                  \n",
       "2018-09-11         11308.044496         11621.163994     6367.431996  \n",
       "2018-09-12          5934.986633         11075.199936     6394.310134  \n",
       "2018-09-14          6070.325966          7019.469306     6532.729661  \n",
       "2018-09-17          5314.887989          7683.203846     6604.595870  \n",
       "2018-09-18          7904.081245          8033.952902     6640.649672  \n",
       "...                         ...                  ...             ...  \n",
       "2020-08-25         19538.021249         12867.578429     6429.643057  \n",
       "2020-08-26         18103.612632         20036.233914     6629.598678  \n",
       "2020-08-27         21717.379492         20120.660099     6655.551617  \n",
       "2020-08-28         24444.727557         20199.688214     6643.670850  \n",
       "2020-08-31         33678.767376         26013.658412     6512.126165  \n",
       "\n",
       "[485 rows x 35 columns]"
      ]
     },
     "execution_count": 146,
     "metadata": {},
     "output_type": "execute_result"
    }
   ],
   "source": [
    "test_data"
   ]
  },
  {
   "cell_type": "code",
   "execution_count": 147,
   "metadata": {},
   "outputs": [],
   "source": [
    "forecast = model.predict(n_periods=len(test_data), exogenous=test_data[ind_features])"
   ]
  },
  {
   "cell_type": "code",
   "execution_count": 148,
   "metadata": {},
   "outputs": [],
   "source": [
    "test_data[\"Forecast_ARIMA\"] = forecast"
   ]
  },
  {
   "cell_type": "code",
   "execution_count": 149,
   "metadata": {},
   "outputs": [
    {
     "data": {
      "text/plain": [
       "<matplotlib.axes._subplots.AxesSubplot at 0xc8de13f08>"
      ]
     },
     "execution_count": 149,
     "metadata": {},
     "output_type": "execute_result"
    },
    {
     "data": {
      "image/png": "[encoded data removed]",
      "text/plain": [
       "<Figure size 1008x504 with 1 Axes>"
      ]
     },
     "metadata": {
      "needs_background": "light"
     },
     "output_type": "display_data"
    }
   ],
   "source": [
    "test_data[[\"VWAP\", \"Forecast_ARIMA\"]].plot(figsize=(14, 7))"
   ]
  },
  {
   "cell_type": "code",
   "execution_count": 151,
   "metadata": {},
   "outputs": [
    {
     "name": "stdout",
     "output_type": "stream",
     "text": [
      "RMSE of Auto ARIMAX: 120.19514865814408\n",
      "\n",
      "MAE of Auto ARIMAX: 79.96094611533638\n"
     ]
    }
   ],
   "source": [
    "print(\"RMSE of Auto ARIMAX:\", np.sqrt(mean_squared_error(test_data.VWAP, test_data.Forecast_ARIMA)))\n",
    "print(\"\\nMAE of Auto ARIMAX:\", mean_absolute_error(test_data.VWAP, test_data.Forecast_ARIMA))"
   ]
  },
  {
   "cell_type": "code",
   "execution_count": null,
   "metadata": {},
   "outputs": [],
   "source": []
  },
  {
   "cell_type": "markdown",
   "metadata": {},
   "source": [
    "##### The Auto ARIMA model seems to do a fairly good job in predicting the stock price given data till the previous day. Can other models beat this benchmark?"
   ]
  },
  {
   "cell_type": "code",
   "execution_count": null,
   "metadata": {},
   "outputs": [],
   "source": []
  },
  {
   "cell_type": "code",
   "execution_count": null,
   "metadata": {},
   "outputs": [],
   "source": []
  },
  {
   "cell_type": "code",
   "execution_count": null,
   "metadata": {},
   "outputs": [],
   "source": [
    "### mean, var, std--> gives worst prediction RMSE 1484, MAE 1228\n",
    "### mean --> gives 122 RMSE, gives 82 MAE\n",
    "### mean,std--> gives 120,79"
   ]
  }
 ],
 "metadata": {
  "kernelspec": {
   "display_name": "Python 3",
   "language": "python",
   "name": "python3"
  },
  "language_info": {
   "codemirror_mode": {
    "name": "ipython",
    "version": 3
   },
   "file_extension": ".py",
   "mimetype": "text/x-python",
   "name": "python",
   "nbconvert_exporter": "python",
   "pygments_lexer": "ipython3",
   "version": "3.7.4"
  }
 },
 "nbformat": 4,
 "nbformat_minor": 2
}
