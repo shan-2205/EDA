{
 "cells": [
  {
   "cell_type": "code",
   "execution_count": null,
   "id": "d1718afd",
   "metadata": {},
   "outputs": [],
   "source": []
  },
  {
   "cell_type": "code",
   "execution_count": null,
   "id": "c9101cad",
   "metadata": {},
   "outputs": [],
   "source": []
  },
  {
   "cell_type": "code",
   "execution_count": null,
   "id": "100388d7",
   "metadata": {},
   "outputs": [],
   "source": []
  },
  {
   "cell_type": "code",
   "execution_count": 1,
   "id": "45d74269",
   "metadata": {},
   "outputs": [],
   "source": [
    "import pandas as pd\n",
    "\n",
    "\n",
    "### so that u dont have warnings\n",
    "from warnings import filterwarnings\n",
    "filterwarnings('ignore')\n",
    "\n"
   ]
  },
  {
   "cell_type": "markdown",
   "id": "a074f232",
   "metadata": {},
   "source": [
    "# 1.. lets read_data & figure out missing values in data or not.."
   ]
  },
  {
   "cell_type": "code",
   "execution_count": 2,
   "id": "015c80f6",
   "metadata": {},
   "outputs": [
    {
     "data": {
      "text/plain": [
       "\"\\nPossible reasons of getting this error:\\n\\n1..\\n## The parser is getting confused by the header of the file. It reads \\nthe first row and infers the number of columns from that row. \\nBut the first two rows aren't representative of the actual data in the file.\\n\\n\\n2..\\n## This is definitely an issue of delimiter, as most of the csv CSV \\ngot created using sep='/t' so \\n# try to use read_csv using the tab character (\\t) using separator /t. \\nso, try to open using following code line.\\n\\nread_csv(sep='\\t'))\\n\\n\\n3.. due to diff diff file structure for diff diff OS \\n\\n\""
      ]
     },
     "execution_count": 2,
     "metadata": {},
     "output_type": "execute_result"
    }
   ],
   "source": [
    "#read dataset\n",
    "\n",
    "videos=pd.read_csv(r'G:\\Data Science projects\\EDA_Projects\\Youtube\\Updated_data/USvideos.csv',\\\n",
    "                   error_bad_lines=False)\n",
    "videos.head(3)\n",
    "\n",
    "\n",
    "'''\n",
    "Possible reasons of getting this error:\n",
    "\n",
    "1..\n",
    "## The parser is getting confused by the header of the file. It reads \n",
    "the first row and infers the number of columns from that row. \n",
    "But the first two rows aren't representative of the actual data in the file.\n",
    "\n",
    "\n",
    "2..\n",
    "## This is definitely an issue of delimiter, as most of the csv CSV \n",
    "got created using sep='/t' so \n",
    "# try to use read_csv using the tab character (\\t) using separator /t. \n",
    "so, try to open using following code line.\n",
    "\n",
    "read_csv(sep='\\t'))\n",
    "\n",
    "\n",
    "3.. due to diff diff file structure for diff diff OS \n",
    "\n",
    "'''"
   ]
  },
  {
   "cell_type": "code",
   "execution_count": 3,
   "id": "e90bb8c8",
   "metadata": {},
   "outputs": [
    {
     "data": {
      "text/html": [
       "<div>\n",
       "<style scoped>\n",
       "    .dataframe tbody tr th:only-of-type {\n",
       "        vertical-align: middle;\n",
       "    }\n",
       "\n",
       "    .dataframe tbody tr th {\n",
       "        vertical-align: top;\n",
       "    }\n",
       "\n",
       "    .dataframe thead th {\n",
       "        text-align: right;\n",
       "    }\n",
       "</style>\n",
       "<table border=\"1\" class=\"dataframe\">\n",
       "  <thead>\n",
       "    <tr style=\"text-align: right;\">\n",
       "      <th></th>\n",
       "      <th>count</th>\n",
       "      <th>mean</th>\n",
       "      <th>std</th>\n",
       "      <th>min</th>\n",
       "      <th>25%</th>\n",
       "      <th>50%</th>\n",
       "      <th>75%</th>\n",
       "      <th>max</th>\n",
       "    </tr>\n",
       "  </thead>\n",
       "  <tbody>\n",
       "    <tr>\n",
       "      <th>category_id</th>\n",
       "      <td>40949.0</td>\n",
       "      <td>1.997243e+01</td>\n",
       "      <td>7.568327e+00</td>\n",
       "      <td>1.0</td>\n",
       "      <td>17.0</td>\n",
       "      <td>24.0</td>\n",
       "      <td>25.0</td>\n",
       "      <td>43.0</td>\n",
       "    </tr>\n",
       "    <tr>\n",
       "      <th>views</th>\n",
       "      <td>40949.0</td>\n",
       "      <td>2.360785e+06</td>\n",
       "      <td>7.394114e+06</td>\n",
       "      <td>549.0</td>\n",
       "      <td>242329.0</td>\n",
       "      <td>681861.0</td>\n",
       "      <td>1823157.0</td>\n",
       "      <td>225211923.0</td>\n",
       "    </tr>\n",
       "    <tr>\n",
       "      <th>likes</th>\n",
       "      <td>40949.0</td>\n",
       "      <td>7.426670e+04</td>\n",
       "      <td>2.288853e+05</td>\n",
       "      <td>0.0</td>\n",
       "      <td>5424.0</td>\n",
       "      <td>18091.0</td>\n",
       "      <td>55417.0</td>\n",
       "      <td>5613827.0</td>\n",
       "    </tr>\n",
       "    <tr>\n",
       "      <th>dislikes</th>\n",
       "      <td>40949.0</td>\n",
       "      <td>3.711401e+03</td>\n",
       "      <td>2.902971e+04</td>\n",
       "      <td>0.0</td>\n",
       "      <td>202.0</td>\n",
       "      <td>631.0</td>\n",
       "      <td>1938.0</td>\n",
       "      <td>1674420.0</td>\n",
       "    </tr>\n",
       "    <tr>\n",
       "      <th>comment_count</th>\n",
       "      <td>40949.0</td>\n",
       "      <td>8.446804e+03</td>\n",
       "      <td>3.743049e+04</td>\n",
       "      <td>0.0</td>\n",
       "      <td>614.0</td>\n",
       "      <td>1856.0</td>\n",
       "      <td>5755.0</td>\n",
       "      <td>1361580.0</td>\n",
       "    </tr>\n",
       "  </tbody>\n",
       "</table>\n",
       "</div>"
      ],
      "text/plain": [
       "                 count          mean           std    min       25%       50%  \\\n",
       "category_id    40949.0  1.997243e+01  7.568327e+00    1.0      17.0      24.0   \n",
       "views          40949.0  2.360785e+06  7.394114e+06  549.0  242329.0  681861.0   \n",
       "likes          40949.0  7.426670e+04  2.288853e+05    0.0    5424.0   18091.0   \n",
       "dislikes       40949.0  3.711401e+03  2.902971e+04    0.0     202.0     631.0   \n",
       "comment_count  40949.0  8.446804e+03  3.743049e+04    0.0     614.0    1856.0   \n",
       "\n",
       "                     75%          max  \n",
       "category_id         25.0         43.0  \n",
       "views          1823157.0  225211923.0  \n",
       "likes            55417.0    5613827.0  \n",
       "dislikes          1938.0    1674420.0  \n",
       "comment_count     5755.0    1361580.0  "
      ]
     },
     "execution_count": 3,
     "metadata": {},
     "output_type": "execute_result"
    }
   ],
   "source": [
    "### getting descriptive stats of data...\n",
    "videos.describe().T"
   ]
  },
  {
   "cell_type": "code",
   "execution_count": null,
   "id": "7b552c8d",
   "metadata": {},
   "outputs": [],
   "source": []
  },
  {
   "cell_type": "code",
   "execution_count": null,
   "id": "a157eae5",
   "metadata": {},
   "outputs": [],
   "source": []
  },
  {
   "cell_type": "code",
   "execution_count": 4,
   "id": "86053b63",
   "metadata": {},
   "outputs": [
    {
     "data": {
      "text/plain": [
       "video_id                    0\n",
       "trending_date               0\n",
       "title                       0\n",
       "channel_title               0\n",
       "category_id                 0\n",
       "publish_time                0\n",
       "tags                        0\n",
       "views                       0\n",
       "likes                       0\n",
       "dislikes                    0\n",
       "comment_count               0\n",
       "thumbnail_link              0\n",
       "comments_disabled           0\n",
       "ratings_disabled            0\n",
       "video_error_or_removed      0\n",
       "description               570\n",
       "dtype: int64"
      ]
     },
     "execution_count": 4,
     "metadata": {},
     "output_type": "execute_result"
    }
   ],
   "source": [
    "videos.isnull().sum()\n",
    "\n",
    "## videos.isna().sum()\n",
    "## videos.apply(lambda x : pd.isna(x).sum())\n",
    "## videos.apply(lambda x : pd.isnull(x).sum())"
   ]
  },
  {
   "cell_type": "code",
   "execution_count": null,
   "id": "fe02d5dd",
   "metadata": {},
   "outputs": [],
   "source": []
  },
  {
   "cell_type": "code",
   "execution_count": null,
   "id": "5f18aec6",
   "metadata": {},
   "outputs": [],
   "source": []
  },
  {
   "cell_type": "code",
   "execution_count": null,
   "id": "ee3c5cd0",
   "metadata": {},
   "outputs": [],
   "source": []
  },
  {
   "cell_type": "markdown",
   "id": "1988cbaa",
   "metadata": {},
   "source": [
    "#  2.. Which video category has the \n",
    "        largest number of trending videos?"
   ]
  },
  {
   "cell_type": "code",
   "execution_count": 4,
   "id": "a9331073",
   "metadata": {},
   "outputs": [
    {
     "data": {
      "text/plain": [
       "array([22, 24, 23, 28,  1, 25, 17, 10, 15, 27, 26,  2, 19, 20, 29, 43],\n",
       "      dtype=int64)"
      ]
     },
     "execution_count": 4,
     "metadata": {},
     "output_type": "execute_result"
    }
   ],
   "source": [
    "videos['category_id'].unique()"
   ]
  },
  {
   "cell_type": "code",
   "execution_count": 6,
   "id": "4e8c8462",
   "metadata": {},
   "outputs": [],
   "source": [
    "import json\n",
    "with open(r\"G:\\Data Science projects\\EDA_Projects\\Youtube\\\n",
    "                    Updated_data/US_category_id.json\") as f:\n",
    "    categories = json.load(f)"
   ]
  },
  {
   "cell_type": "code",
   "execution_count": 7,
   "id": "2a06b9f6",
   "metadata": {},
   "outputs": [
    {
     "data": {
      "text/plain": [
       "dict"
      ]
     },
     "execution_count": 7,
     "metadata": {},
     "output_type": "execute_result"
    }
   ],
   "source": [
    "type(categories)"
   ]
  },
  {
   "cell_type": "code",
   "execution_count": null,
   "id": "2d938996",
   "metadata": {},
   "outputs": [],
   "source": [
    "categories\n",
    "\n",
    "### lets access 'items' key from dictionary..  \n",
    "### bcz for each dict , [\"snippet\"][\"title\"] gives 'title_name' .."
   ]
  },
  {
   "cell_type": "code",
   "execution_count": null,
   "id": "8411d3fa",
   "metadata": {},
   "outputs": [],
   "source": []
  },
  {
   "cell_type": "code",
   "execution_count": null,
   "id": "b924a849",
   "metadata": {},
   "outputs": [],
   "source": [
    "categories['items']"
   ]
  },
  {
   "cell_type": "code",
   "execution_count": null,
   "id": "6bc3bca6",
   "metadata": {},
   "outputs": [],
   "source": []
  },
  {
   "cell_type": "code",
   "execution_count": null,
   "id": "2a81d2ec",
   "metadata": {},
   "outputs": [],
   "source": []
  },
  {
   "cell_type": "code",
   "execution_count": null,
   "id": "509c3de8",
   "metadata": {},
   "outputs": [],
   "source": [
    "#### now lets create one more dictionary & store data(category_id : category_name) in the form of key:value pairs.."
   ]
  },
  {
   "cell_type": "code",
   "execution_count": 27,
   "id": "1883e6fb",
   "metadata": {},
   "outputs": [],
   "source": [
    "cat_dict = {}\n",
    "for cat in categories['items']:\n",
    "    ## cat[key]=value\n",
    "    cat_dict[int(cat[\"id\"])] = cat[\"snippet\"][\"title\"]"
   ]
  },
  {
   "cell_type": "code",
   "execution_count": 28,
   "id": "83aa2fe4",
   "metadata": {},
   "outputs": [
    {
     "data": {
      "text/plain": [
       "{1: 'Film & Animation',\n",
       " 2: 'Autos & Vehicles',\n",
       " 10: 'Music',\n",
       " 15: 'Pets & Animals',\n",
       " 17: 'Sports',\n",
       " 18: 'Short Movies',\n",
       " 19: 'Travel & Events',\n",
       " 20: 'Gaming',\n",
       " 21: 'Videoblogging',\n",
       " 22: 'People & Blogs',\n",
       " 23: 'Comedy',\n",
       " 24: 'Entertainment',\n",
       " 25: 'News & Politics',\n",
       " 26: 'Howto & Style',\n",
       " 27: 'Education',\n",
       " 28: 'Science & Technology',\n",
       " 29: 'Nonprofits & Activism',\n",
       " 30: 'Movies',\n",
       " 31: 'Anime/Animation',\n",
       " 32: 'Action/Adventure',\n",
       " 33: 'Classics',\n",
       " 34: 'Comedy',\n",
       " 35: 'Documentary',\n",
       " 36: 'Drama',\n",
       " 37: 'Family',\n",
       " 38: 'Foreign',\n",
       " 39: 'Horror',\n",
       " 40: 'Sci-Fi/Fantasy',\n",
       " 41: 'Thriller',\n",
       " 42: 'Shorts',\n",
       " 43: 'Shows',\n",
       " 44: 'Trailers'}"
      ]
     },
     "execution_count": 28,
     "metadata": {},
     "output_type": "execute_result"
    }
   ],
   "source": [
    "cat_dict"
   ]
  },
  {
   "cell_type": "code",
   "execution_count": 29,
   "id": "777236e6",
   "metadata": {},
   "outputs": [],
   "source": [
    "videos['category_name']=videos['category_id'].map(cat_dict)"
   ]
  },
  {
   "cell_type": "code",
   "execution_count": 30,
   "id": "1fa66395",
   "metadata": {},
   "outputs": [
    {
     "data": {
      "text/html": [
       "<div>\n",
       "<style scoped>\n",
       "    .dataframe tbody tr th:only-of-type {\n",
       "        vertical-align: middle;\n",
       "    }\n",
       "\n",
       "    .dataframe tbody tr th {\n",
       "        vertical-align: top;\n",
       "    }\n",
       "\n",
       "    .dataframe thead th {\n",
       "        text-align: right;\n",
       "    }\n",
       "</style>\n",
       "<table border=\"1\" class=\"dataframe\">\n",
       "  <thead>\n",
       "    <tr style=\"text-align: right;\">\n",
       "      <th></th>\n",
       "      <th>video_id</th>\n",
       "      <th>trending_date</th>\n",
       "      <th>title</th>\n",
       "      <th>channel_title</th>\n",
       "      <th>category_id</th>\n",
       "      <th>publish_time</th>\n",
       "      <th>tags</th>\n",
       "      <th>views</th>\n",
       "      <th>likes</th>\n",
       "      <th>dislikes</th>\n",
       "      <th>comment_count</th>\n",
       "      <th>thumbnail_link</th>\n",
       "      <th>comments_disabled</th>\n",
       "      <th>ratings_disabled</th>\n",
       "      <th>video_error_or_removed</th>\n",
       "      <th>description</th>\n",
       "      <th>category_name</th>\n",
       "    </tr>\n",
       "  </thead>\n",
       "  <tbody>\n",
       "    <tr>\n",
       "      <th>0</th>\n",
       "      <td>2kyS6SvSYSE</td>\n",
       "      <td>17.14.11</td>\n",
       "      <td>WE WANT TO TALK ABOUT OUR MARRIAGE</td>\n",
       "      <td>CaseyNeistat</td>\n",
       "      <td>22</td>\n",
       "      <td>2017-11-13T17:13:01.000Z</td>\n",
       "      <td>SHANtell martin</td>\n",
       "      <td>748374</td>\n",
       "      <td>57527</td>\n",
       "      <td>2966</td>\n",
       "      <td>15954</td>\n",
       "      <td>https://i.ytimg.com/vi/2kyS6SvSYSE/default.jpg</td>\n",
       "      <td>False</td>\n",
       "      <td>False</td>\n",
       "      <td>False</td>\n",
       "      <td>SHANTELL'S CHANNEL - https://www.youtube.com/s...</td>\n",
       "      <td>People &amp; Blogs</td>\n",
       "    </tr>\n",
       "    <tr>\n",
       "      <th>1</th>\n",
       "      <td>1ZAPwfrtAFY</td>\n",
       "      <td>17.14.11</td>\n",
       "      <td>The Trump Presidency: Last Week Tonight with J...</td>\n",
       "      <td>LastWeekTonight</td>\n",
       "      <td>24</td>\n",
       "      <td>2017-11-13T07:30:00.000Z</td>\n",
       "      <td>last week tonight trump presidency|\"last week ...</td>\n",
       "      <td>2418783</td>\n",
       "      <td>97185</td>\n",
       "      <td>6146</td>\n",
       "      <td>12703</td>\n",
       "      <td>https://i.ytimg.com/vi/1ZAPwfrtAFY/default.jpg</td>\n",
       "      <td>False</td>\n",
       "      <td>False</td>\n",
       "      <td>False</td>\n",
       "      <td>One year after the presidential election, John...</td>\n",
       "      <td>Entertainment</td>\n",
       "    </tr>\n",
       "  </tbody>\n",
       "</table>\n",
       "</div>"
      ],
      "text/plain": [
       "      video_id trending_date  \\\n",
       "0  2kyS6SvSYSE      17.14.11   \n",
       "1  1ZAPwfrtAFY      17.14.11   \n",
       "\n",
       "                                               title    channel_title  \\\n",
       "0                 WE WANT TO TALK ABOUT OUR MARRIAGE     CaseyNeistat   \n",
       "1  The Trump Presidency: Last Week Tonight with J...  LastWeekTonight   \n",
       "\n",
       "   category_id              publish_time  \\\n",
       "0           22  2017-11-13T17:13:01.000Z   \n",
       "1           24  2017-11-13T07:30:00.000Z   \n",
       "\n",
       "                                                tags    views  likes  \\\n",
       "0                                    SHANtell martin   748374  57527   \n",
       "1  last week tonight trump presidency|\"last week ...  2418783  97185   \n",
       "\n",
       "   dislikes  comment_count                                  thumbnail_link  \\\n",
       "0      2966          15954  https://i.ytimg.com/vi/2kyS6SvSYSE/default.jpg   \n",
       "1      6146          12703  https://i.ytimg.com/vi/1ZAPwfrtAFY/default.jpg   \n",
       "\n",
       "   comments_disabled  ratings_disabled  video_error_or_removed  \\\n",
       "0              False             False                   False   \n",
       "1              False             False                   False   \n",
       "\n",
       "                                         description   category_name  \n",
       "0  SHANTELL'S CHANNEL - https://www.youtube.com/s...  People & Blogs  \n",
       "1  One year after the presidential election, John...   Entertainment  "
      ]
     },
     "execution_count": 30,
     "metadata": {},
     "output_type": "execute_result"
    }
   ],
   "source": [
    "videos.head(2)"
   ]
  },
  {
   "cell_type": "code",
   "execution_count": 31,
   "id": "ca6498b5",
   "metadata": {},
   "outputs": [
    {
     "data": {
      "text/plain": [
       "<AxesSubplot:>"
      ]
     },
     "execution_count": 31,
     "metadata": {},
     "output_type": "execute_result"
    },
    {
     "data": {
      "image/png": "[encoded data removed]",
      "text/plain": [
       "<Figure size 864x432 with 1 Axes>"
      ]
     },
     "metadata": {
      "needs_background": "light"
     },
     "output_type": "display_data"
    }
   ],
   "source": [
    "pd.value_counts(videos['category_name']).plot(kind='bar',\\\n",
    "                              color='green',figsize=(12,6))"
   ]
  },
  {
   "cell_type": "code",
   "execution_count": 82,
   "id": "d638ffe4",
   "metadata": {},
   "outputs": [
    {
     "data": {
      "text/plain": [
       "<AxesSubplot:ylabel='category_name'>"
      ]
     },
     "execution_count": 82,
     "metadata": {},
     "output_type": "execute_result"
    },
    {
     "data": {
      "image/png": "[encoded data removed]",
      "text/plain": [
       "<Figure size 864x432 with 1 Axes>"
      ]
     },
     "metadata": {},
     "output_type": "display_data"
    }
   ],
   "source": [
    "pd.value_counts(videos['category_name']).plot(kind='pie',\\\n",
    "                                      figsize=(12,6))"
   ]
  },
  {
   "cell_type": "code",
   "execution_count": null,
   "id": "b76b37b8",
   "metadata": {},
   "outputs": [],
   "source": [
    "'''\n",
    "\n",
    "#read text file..\n",
    "\n",
    "category =pd.read_csv(r'G:\\Data Science projects\\EDA_Projects\\Youtube\n",
    "             /category_file.txt',sep=':')\n",
    "             \n",
    "category.head(3)\n",
    "\n",
    "category.reset_index(inplace=True)\n",
    "category.columns=['category_id','category_columns']\n",
    "\n",
    "category.set_index('category_id',inplace=True)\n",
    "\n",
    "\n",
    "dct=category.to_dict()\n",
    "\n",
    "videos['category_name']=videos['category_id'].map(dct['category_columns'])\n",
    "\n",
    "\n",
    "'''"
   ]
  },
  {
   "cell_type": "code",
   "execution_count": null,
   "id": "e5504a60",
   "metadata": {},
   "outputs": [],
   "source": []
  },
  {
   "cell_type": "code",
   "execution_count": 15,
   "id": "a1f14ff6",
   "metadata": {},
   "outputs": [],
   "source": []
  },
  {
   "cell_type": "raw",
   "id": "f5199d2b",
   "metadata": {},
   "source": [
    "We see that the Entertainment category contains the largest \n",
    "number of trending videos among other categories: around 10K videos, \n",
    "followed by Music category with around 6,200 videos, followed \n",
    "by Howto & Style category with around 4,100 videos, and so on."
   ]
  },
  {
   "cell_type": "code",
   "execution_count": null,
   "id": "af9180e5",
   "metadata": {},
   "outputs": [],
   "source": [
    "### Lets perform above similar stuff using some alternative -- \n",
    "follow DA_Youtube_USvideos_2"
   ]
  },
  {
   "cell_type": "code",
   "execution_count": null,
   "id": "3d8c9de1",
   "metadata": {},
   "outputs": [],
   "source": []
  },
  {
   "cell_type": "code",
   "execution_count": null,
   "id": "f9f02424",
   "metadata": {},
   "outputs": [],
   "source": []
  },
  {
   "cell_type": "code",
   "execution_count": null,
   "id": "4f3553a5",
   "metadata": {},
   "outputs": [],
   "source": []
  },
  {
   "cell_type": "code",
   "execution_count": null,
   "id": "95bbef7e",
   "metadata": {},
   "outputs": [],
   "source": []
  },
  {
   "cell_type": "code",
   "execution_count": null,
   "id": "7721886c",
   "metadata": {},
   "outputs": [],
   "source": []
  },
  {
   "cell_type": "code",
   "execution_count": null,
   "id": "e80044f1",
   "metadata": {},
   "outputs": [],
   "source": []
  },
  {
   "cell_type": "code",
   "execution_count": null,
   "id": "19e0fdbe",
   "metadata": {},
   "outputs": [],
   "source": []
  },
  {
   "cell_type": "markdown",
   "id": "2fc598dc",
   "metadata": {},
   "source": [
    "# 3.. Does Title length has a significant impact on views??"
   ]
  },
  {
   "cell_type": "code",
   "execution_count": 32,
   "id": "d47fb777",
   "metadata": {},
   "outputs": [],
   "source": [
    "def calc_len(x):\n",
    "    return len(str(x).split())"
   ]
  },
  {
   "cell_type": "code",
   "execution_count": 33,
   "id": "b5fdce8d",
   "metadata": {},
   "outputs": [
    {
     "data": {
      "text/plain": [
       "0                       WE WANT TO TALK ABOUT OUR MARRIAGE\n",
       "1        The Trump Presidency: Last Week Tonight with J...\n",
       "2        Racist Superman | Rudy Mancuso, King Bach & Le...\n",
       "3                         Nickelback Lyrics: Real or Fake?\n",
       "4                                 I Dare You: GOING BALD!?\n",
       "                               ...                        \n",
       "40944                         The Cat Who Caught the Laser\n",
       "40945                           True Facts : Ant Mutualism\n",
       "40946    I GAVE SAFIYA NYGAARD A PERFECT HAIR MAKEOVER ...\n",
       "40947                  How Black Panther Should Have Ended\n",
       "40948    Official Call of Duty®: Black Ops 4 — Multipla...\n",
       "Name: title, Length: 40949, dtype: object"
      ]
     },
     "execution_count": 33,
     "metadata": {},
     "output_type": "execute_result"
    }
   ],
   "source": [
    "videos[\"title\"]"
   ]
  },
  {
   "cell_type": "code",
   "execution_count": 34,
   "id": "8c005ea1",
   "metadata": {},
   "outputs": [],
   "source": [
    "## df['count_word']=df[\"title\"].apply(lambda x: len(str(x).split()))\n",
    "\n",
    "videos['count_word'] = videos[\"title\"].apply(calc_len)"
   ]
  },
  {
   "cell_type": "code",
   "execution_count": 35,
   "id": "1c181968",
   "metadata": {},
   "outputs": [
    {
     "data": {
      "text/plain": [
       "\"\\nimport matplotlib.pyplot as plt\\nplt.scatter(x=videos['views'], y=videos['count_word'])\\n\\n\""
      ]
     },
     "execution_count": 35,
     "metadata": {},
     "output_type": "execute_result"
    },
    {
     "data": {
      "image/png": "[encoded data removed]",
      "text/plain": [
       "<Figure size 432x288 with 1 Axes>"
      ]
     },
     "metadata": {
      "needs_background": "light"
     },
     "output_type": "display_data"
    }
   ],
   "source": [
    "# Draw a scatter plot\n",
    "videos.plot.scatter(x = 'views', y = 'count_word')\n",
    "\n",
    "## videos.plot(x = 'views', y = 'count_word' , kind='scatter')\n",
    "\n",
    "'''\n",
    "import matplotlib.pyplot as plt\n",
    "plt.scatter(x=videos['views'], y=videos['count_word'])\n",
    "\n",
    "'''"
   ]
  },
  {
   "cell_type": "code",
   "execution_count": null,
   "id": "6c5dfe19",
   "metadata": {},
   "outputs": [],
   "source": []
  },
  {
   "cell_type": "code",
   "execution_count": null,
   "id": "efe54760",
   "metadata": {},
   "outputs": [],
   "source": []
  },
  {
   "cell_type": "code",
   "execution_count": null,
   "id": "2158fa5b",
   "metadata": {},
   "outputs": [],
   "source": []
  },
  {
   "cell_type": "code",
   "execution_count": null,
   "id": "032d0541",
   "metadata": {},
   "outputs": [],
   "source": []
  },
  {
   "cell_type": "code",
   "execution_count": null,
   "id": "a4a173b5",
   "metadata": {},
   "outputs": [],
   "source": []
  },
  {
   "cell_type": "code",
   "execution_count": null,
   "id": "77019987",
   "metadata": {},
   "outputs": [],
   "source": []
  },
  {
   "cell_type": "markdown",
   "id": "dd2ba7f6",
   "metadata": {},
   "source": [
    "# 4.. lets collect entire data of youtube .."
   ]
  },
  {
   "cell_type": "code",
   "execution_count": null,
   "id": "ebf3eed3",
   "metadata": {},
   "outputs": [],
   "source": [
    "## follow Utube1_data_collection_preparation"
   ]
  },
  {
   "cell_type": "code",
   "execution_count": null,
   "id": "17a18747",
   "metadata": {},
   "outputs": [],
   "source": []
  },
  {
   "cell_type": "code",
   "execution_count": 41,
   "id": "a7aec299",
   "metadata": {},
   "outputs": [],
   "source": [
    "path=r'G:\\Data Science projects\\EDA_Projects\\Youtube\\Updated_data'"
   ]
  },
  {
   "cell_type": "code",
   "execution_count": 42,
   "id": "ec829465",
   "metadata": {},
   "outputs": [
    {
     "data": {
      "text/plain": [
       "['CA_category_id.json',\n",
       " 'CAvideos.csv',\n",
       " 'DE_category_id.json',\n",
       " 'DEvideos.csv',\n",
       " 'FR_category_id.json',\n",
       " 'FRvideos.csv',\n",
       " 'GB_category_id.json',\n",
       " 'GBvideos.csv',\n",
       " 'IN_category_id.json',\n",
       " 'INvideos.csv',\n",
       " 'JP_category_id.json',\n",
       " 'JPvideos.csv',\n",
       " 'KR_category_id.json',\n",
       " 'KRvideos.csv',\n",
       " 'MX_category_id.json',\n",
       " 'MXvideos.csv',\n",
       " 'RU_category_id.json',\n",
       " 'RUvideos.csv',\n",
       " 'US_category_id.json',\n",
       " 'USvideos.csv']"
      ]
     },
     "execution_count": 42,
     "metadata": {},
     "output_type": "execute_result"
    }
   ],
   "source": [
    "import os\n",
    "os.listdir(path)"
   ]
  },
  {
   "cell_type": "code",
   "execution_count": 43,
   "id": "22310ffb",
   "metadata": {},
   "outputs": [
    {
     "data": {
      "text/plain": [
       "['CA_category_id.json',\n",
       " 'CAvideos.csv',\n",
       " 'DE_category_id.json',\n",
       " 'DEvideos.csv',\n",
       " 'FR_category_id.json',\n",
       " 'FRvideos.csv',\n",
       " 'GB_category_id.json',\n",
       " 'GBvideos.csv',\n",
       " 'IN_category_id.json',\n",
       " 'INvideos.csv',\n",
       " 'JP_category_id.json',\n",
       " 'JPvideos.csv',\n",
       " 'KR_category_id.json',\n",
       " 'KRvideos.csv',\n",
       " 'MX_category_id.json',\n",
       " 'MXvideos.csv',\n",
       " 'RU_category_id.json',\n",
       " 'RUvideos.csv',\n",
       " 'US_category_id.json',\n",
       " 'USvideos.csv']"
      ]
     },
     "execution_count": 43,
     "metadata": {},
     "output_type": "execute_result"
    }
   ],
   "source": [
    "files=os.listdir(path)\n",
    "files"
   ]
  },
  {
   "cell_type": "code",
   "execution_count": 44,
   "id": "85c30e4c",
   "metadata": {},
   "outputs": [],
   "source": [
    "files_csv=[]\n",
    "for i in range(len(files)):\n",
    "    if '.csv' in files[i]:\n",
    "        files_csv.append(files[i])\n",
    "        \n",
    "### files_csv2=[files[i] for i in range(len(files)) if \n",
    "       '.csv' in files[i]]"
   ]
  },
  {
   "cell_type": "code",
   "execution_count": 45,
   "id": "cd2fcac3",
   "metadata": {},
   "outputs": [
    {
     "data": {
      "text/plain": [
       "['CAvideos.csv',\n",
       " 'DEvideos.csv',\n",
       " 'FRvideos.csv',\n",
       " 'GBvideos.csv',\n",
       " 'INvideos.csv',\n",
       " 'JPvideos.csv',\n",
       " 'KRvideos.csv',\n",
       " 'MXvideos.csv',\n",
       " 'RUvideos.csv',\n",
       " 'USvideos.csv']"
      ]
     },
     "execution_count": 45,
     "metadata": {},
     "output_type": "execute_result"
    }
   ],
   "source": [
    "files_csv"
   ]
  },
  {
   "cell_type": "code",
   "execution_count": null,
   "id": "9018fe0e",
   "metadata": {},
   "outputs": [],
   "source": []
  },
  {
   "cell_type": "markdown",
   "id": "ed27c226",
   "metadata": {},
   "source": [
    "### different types of encoding-->> \n",
    "    Try calling read_csv with encoding='latin1', \n",
    "    encoding='iso-8859-1' or encoding='cp1252'\n",
    "    By-default is UTF-8\n",
    "    \n",
    "    Again , encoding may change depending upon data  , \n",
    "    country data , sometimes regional data as well.\n",
    "    \n",
    "    Fore more inforation on Encoding -- Follow below\n",
    "https://docs.python.org/3/library/codecs.html#standard-encodings"
   ]
  },
  {
   "cell_type": "code",
   "execution_count": 46,
   "id": "1da035f9",
   "metadata": {},
   "outputs": [],
   "source": [
    "# now to create a final dataframe with all the datapoints in it of all the countries..\n",
    "\n",
    "\n",
    "full_df = pd.DataFrame()\n",
    "for file in files_csv:\n",
    "    \n",
    "    ## define encoding as in japanese data , we are getting UnicodeDecode error..\n",
    "    current_df = pd.read_csv(path+'/'+file,encoding=\\\n",
    "                 'iso-8859-1',error_bad_lines=False)\n",
    "    \n",
    "    ### inserting country column in dataframe..\n",
    "    current_df['country'] = file.split('.')[0][0:2]\n",
    "    full_df=pd.concat([full_df,current_df])\n",
    "\n"
   ]
  },
  {
   "cell_type": "code",
   "execution_count": 31,
   "id": "c273a937",
   "metadata": {},
   "outputs": [
    {
     "data": {
      "text/plain": [
       "(375942, 17)"
      ]
     },
     "execution_count": 31,
     "metadata": {},
     "output_type": "execute_result"
    }
   ],
   "source": [
    "full_df.shape"
   ]
  },
  {
   "cell_type": "code",
   "execution_count": 32,
   "id": "9e322fa1",
   "metadata": {},
   "outputs": [
    {
     "data": {
      "text/plain": [
       "video_id                      0\n",
       "trending_date                 0\n",
       "title                         0\n",
       "channel_title                 0\n",
       "category_id                   0\n",
       "publish_time                  0\n",
       "tags                          0\n",
       "views                         0\n",
       "likes                         0\n",
       "dislikes                      0\n",
       "comment_count                 0\n",
       "thumbnail_link                0\n",
       "comments_disabled             0\n",
       "ratings_disabled              0\n",
       "video_error_or_removed        0\n",
       "description               19478\n",
       "country                       0\n",
       "dtype: int64"
      ]
     },
     "execution_count": 32,
     "metadata": {},
     "output_type": "execute_result"
    }
   ],
   "source": [
    "full_df.isnull().sum()\n",
    "\n",
    "## full_df.isna().sum()\n",
    "## full_df.apply(lambda x : pd.notna(x).sum())\n",
    "## full_df.apply(lambda x : pd.notnull(x).sum())"
   ]
  },
  {
   "cell_type": "code",
   "execution_count": null,
   "id": "9e41cc5f",
   "metadata": {},
   "outputs": [],
   "source": []
  },
  {
   "cell_type": "code",
   "execution_count": null,
   "id": "60332e71",
   "metadata": {},
   "outputs": [],
   "source": []
  },
  {
   "cell_type": "code",
   "execution_count": null,
   "id": "bffbd9b3",
   "metadata": {},
   "outputs": [],
   "source": []
  },
  {
   "cell_type": "code",
   "execution_count": null,
   "id": "1cdffa8e",
   "metadata": {},
   "outputs": [],
   "source": []
  },
  {
   "cell_type": "code",
   "execution_count": null,
   "id": "dcb985ad",
   "metadata": {},
   "outputs": [],
   "source": []
  },
  {
   "cell_type": "markdown",
   "id": "ae3dfe98",
   "metadata": {},
   "source": [
    "# 5.. how to extract derived attributes from data.."
   ]
  },
  {
   "cell_type": "markdown",
   "id": "85bd8a18",
   "metadata": {},
   "source": [
    "### Follow for time series stuffs..->>  _21.. Pandas_time series.ipynb"
   ]
  },
  {
   "cell_type": "code",
   "execution_count": null,
   "id": "e3b7b9ee",
   "metadata": {},
   "outputs": [],
   "source": [
    "### By-default Pandas consider trending_date & publish_time into date-time as of object nature..\n",
    "\n",
    "### first convert trending_date & publish_time into date-time in order to fetch date-time features from trending_date & publish_time"
   ]
  },
  {
   "cell_type": "code",
   "execution_count": 47,
   "id": "0f58f3fe",
   "metadata": {},
   "outputs": [
    {
     "data": {
      "text/plain": [
       "0        17.14.11\n",
       "1        17.14.11\n",
       "2        17.14.11\n",
       "3        17.14.11\n",
       "4        17.14.11\n",
       "           ...   \n",
       "40944    18.14.06\n",
       "40945    18.14.06\n",
       "40946    18.14.06\n",
       "40947    18.14.06\n",
       "40948    18.14.06\n",
       "Name: trending_date, Length: 375942, dtype: object"
      ]
     },
     "execution_count": 47,
     "metadata": {},
     "output_type": "execute_result"
    }
   ],
   "source": [
    "full_df['trending_date']"
   ]
  },
  {
   "cell_type": "code",
   "execution_count": 48,
   "id": "fecbabd6",
   "metadata": {},
   "outputs": [],
   "source": [
    "full_df['trending_date'] = pd.to_datetime(full_df['trending_date'],errors='coerce',format='%y.%d.%m')"
   ]
  },
  {
   "cell_type": "code",
   "execution_count": 49,
   "id": "fdfefb55",
   "metadata": {},
   "outputs": [],
   "source": [
    "full_df['publish_time'] = pd.to_datetime(full_df['publish_time'],errors='coerce')"
   ]
  },
  {
   "cell_type": "code",
   "execution_count": 50,
   "id": "d5ca69c8",
   "metadata": {},
   "outputs": [
    {
     "data": {
      "text/plain": [
       "0       2017-11-10 17:00:03+00:00\n",
       "1       2017-11-13 17:00:00+00:00\n",
       "2       2017-11-12 19:05:24+00:00\n",
       "3       2017-11-12 18:01:41+00:00\n",
       "4       2017-11-09 11:04:14+00:00\n",
       "                   ...           \n",
       "40944   2018-05-18 13:00:04+00:00\n",
       "40945   2018-05-18 01:00:06+00:00\n",
       "40946   2018-05-18 17:34:22+00:00\n",
       "40947   2018-05-17 17:00:04+00:00\n",
       "40948   2018-05-17 17:09:38+00:00\n",
       "Name: publish_time, Length: 375942, dtype: datetime64[ns, UTC]"
      ]
     },
     "execution_count": 50,
     "metadata": {},
     "output_type": "execute_result"
    }
   ],
   "source": [
    "full_df['publish_time']"
   ]
  },
  {
   "cell_type": "code",
   "execution_count": 51,
   "id": "aa15bf7a",
   "metadata": {},
   "outputs": [],
   "source": [
    "full_df['publish_month']=full_df['publish_time'].dt.month"
   ]
  },
  {
   "cell_type": "code",
   "execution_count": 52,
   "id": "f968855d",
   "metadata": {},
   "outputs": [],
   "source": [
    "full_df['publish_hour']=full_df['publish_time'].dt.hour\n",
    "\n",
    "### without converting publishing_hour into date-time\n",
    "### df[\"publishing_hour\"] = df[\"publish_time\"].apply(lambda x: x[11:13])"
   ]
  },
  {
   "cell_type": "code",
   "execution_count": 53,
   "id": "54aff92d",
   "metadata": {},
   "outputs": [],
   "source": [
    "full_df['publish_date']=full_df['publish_time'].dt.date\n",
    "\n",
    "### to insert column at particular location..\n",
    "### syntax-->> full_df.insert(loc, column, value)\n",
    "### full_df.insert(4, 'publish_date', my_df['publish_time'].dt.date)"
   ]
  },
  {
   "cell_type": "code",
   "execution_count": 54,
   "id": "45a62a5b",
   "metadata": {},
   "outputs": [],
   "source": [
    "full_df[\"publishing_day\"] = full_df[\"publish_time\"].dt.weekday\n",
    "\n",
    "## without converting publishing_hour into date-time\n",
    "### df[\"publishing_day\"] = df[\"publish_time\"].apply(lambda x: datetime.datetime.strptime(x[:10], \"%Y-%m-%d\").date().strftime('%a'))"
   ]
  },
  {
   "cell_type": "code",
   "execution_count": 55,
   "id": "6cc69052",
   "metadata": {},
   "outputs": [
    {
     "data": {
      "text/plain": [
       "0        4\n",
       "1        0\n",
       "2        6\n",
       "3        6\n",
       "4        3\n",
       "        ..\n",
       "40944    4\n",
       "40945    4\n",
       "40946    4\n",
       "40947    3\n",
       "40948    3\n",
       "Name: publishing_day, Length: 375942, dtype: int64"
      ]
     },
     "execution_count": 55,
     "metadata": {},
     "output_type": "execute_result"
    }
   ],
   "source": [
    "full_df['publishing_day']"
   ]
  },
  {
   "cell_type": "code",
   "execution_count": 56,
   "id": "0439c924",
   "metadata": {},
   "outputs": [],
   "source": [
    "day={0:'Monday', 1:'Tuesday' ,2:'Wednesday', 3:'Thursday' ,4:'Friday' ,5:'Saturday' ,6:'Sunday'}"
   ]
  },
  {
   "cell_type": "code",
   "execution_count": 57,
   "id": "db466867",
   "metadata": {},
   "outputs": [],
   "source": [
    "full_df[\"publishing_day\"] = full_df[\"publishing_day\"].map(day)"
   ]
  },
  {
   "cell_type": "code",
   "execution_count": null,
   "id": "f78abf78",
   "metadata": {},
   "outputs": [],
   "source": []
  },
  {
   "cell_type": "code",
   "execution_count": null,
   "id": "d6a925a4",
   "metadata": {},
   "outputs": [],
   "source": []
  },
  {
   "cell_type": "code",
   "execution_count": null,
   "id": "44d3312c",
   "metadata": {},
   "outputs": [],
   "source": []
  },
  {
   "cell_type": "code",
   "execution_count": null,
   "id": "40e3d5a4",
   "metadata": {},
   "outputs": [],
   "source": []
  },
  {
   "cell_type": "markdown",
   "id": "160d83d7",
   "metadata": {},
   "source": [
    "# 6.. how to export your data "
   ]
  },
  {
   "cell_type": "code",
   "execution_count": null,
   "id": "b66f014c",
   "metadata": {},
   "outputs": [],
   "source": [
    "## lets figure it out whether we have dupliate rows in our data or not !"
   ]
  },
  {
   "cell_type": "code",
   "execution_count": 58,
   "id": "8e2109b3",
   "metadata": {},
   "outputs": [
    {
     "data": {
      "text/plain": [
       "12570"
      ]
     },
     "execution_count": 58,
     "metadata": {},
     "output_type": "execute_result"
    }
   ],
   "source": [
    "full_df.duplicated().sum()"
   ]
  },
  {
   "cell_type": "code",
   "execution_count": null,
   "id": "dc27f5fe",
   "metadata": {},
   "outputs": [],
   "source": [
    "full_df.duplicated()"
   ]
  },
  {
   "cell_type": "code",
   "execution_count": null,
   "id": "1a3af5eb",
   "metadata": {},
   "outputs": [],
   "source": []
  },
  {
   "cell_type": "code",
   "execution_count": null,
   "id": "0b35c1cc",
   "metadata": {},
   "outputs": [],
   "source": [
    "### how to find duplicated observations in your data\n",
    "full_df[full_df.duplicated(keep=False)]\n",
    "\n",
    "### duplicated() function of pandas , follow DA_Sales_analysis_production"
   ]
  },
  {
   "cell_type": "code",
   "execution_count": null,
   "id": "bf0b1f7f",
   "metadata": {},
   "outputs": [],
   "source": []
  },
  {
   "cell_type": "code",
   "execution_count": null,
   "id": "e386c8bc",
   "metadata": {},
   "outputs": [],
   "source": []
  },
  {
   "cell_type": "code",
   "execution_count": null,
   "id": "ac9a5d62",
   "metadata": {},
   "outputs": [],
   "source": [
    "## lets figure it out what are the rows of 'description' that have missing value.. "
   ]
  },
  {
   "cell_type": "code",
   "execution_count": null,
   "id": "02eaf85e",
   "metadata": {},
   "outputs": [],
   "source": [
    "full_df[full_df[\"description\"].apply(lambda x: pd.isna(x))]\n",
    "\n",
    "### full_df[full_df['description'].isnull()]"
   ]
  },
  {
   "cell_type": "code",
   "execution_count": null,
   "id": "6d2cba46",
   "metadata": {},
   "outputs": [],
   "source": [
    "### takes 5 minute \n",
    "my_df.to_csv(r'G:\\Data Science projects\\EDA_Projects\\Youtube\\clean_Data/my_df.csv',index=False)\n",
    "\n",
    "### as its a huge real world data , it takes times \n",
    "### we can consider sample of data depending on how efficient system is..\n",
    "### my_df.sample(10000).to_csv(r'G:\\Data Science projects\\EDA_Projects\\Youtube/my_df2.csv',index=False)\n",
    "\n",
    "### takes around 13 mins\n",
    "my_df_full.to_csv(r'G:\\Data Science projects\\EDA_Projects\\Youtube\\clean_data/my_df_full.csv',index=False)"
   ]
  },
  {
   "cell_type": "code",
   "execution_count": null,
   "id": "430c8414",
   "metadata": {},
   "outputs": [],
   "source": []
  },
  {
   "cell_type": "code",
   "execution_count": null,
   "id": "dfac9836",
   "metadata": {},
   "outputs": [],
   "source": []
  },
  {
   "cell_type": "code",
   "execution_count": null,
   "id": "f8d32049",
   "metadata": {},
   "outputs": [],
   "source": []
  },
  {
   "cell_type": "code",
   "execution_count": null,
   "id": "05c48392",
   "metadata": {},
   "outputs": [],
   "source": []
  },
  {
   "cell_type": "markdown",
   "id": "f9b75245",
   "metadata": {},
   "source": [
    "# 7.. What are Top trending videos_title that trend alot in US ?"
   ]
  },
  {
   "cell_type": "code",
   "execution_count": 59,
   "id": "efd9fee0",
   "metadata": {},
   "outputs": [
    {
     "data": {
      "text/plain": [
       "(375942, 21)"
      ]
     },
     "execution_count": 59,
     "metadata": {},
     "output_type": "execute_result"
    }
   ],
   "source": [
    "full_df.shape"
   ]
  },
  {
   "cell_type": "code",
   "execution_count": 60,
   "id": "75e83655",
   "metadata": {},
   "outputs": [],
   "source": [
    "usa=full_df[full_df['country']=='US']"
   ]
  },
  {
   "cell_type": "code",
   "execution_count": 61,
   "id": "8416fc21",
   "metadata": {},
   "outputs": [
    {
     "data": {
      "text/plain": [
       "(40949, 21)"
      ]
     },
     "execution_count": 61,
     "metadata": {},
     "output_type": "execute_result"
    }
   ],
   "source": [
    "usa.shape"
   ]
  },
  {
   "cell_type": "code",
   "execution_count": 62,
   "id": "6460015b",
   "metadata": {},
   "outputs": [
    {
     "data": {
      "text/html": [
       "<div>\n",
       "<style scoped>\n",
       "    .dataframe tbody tr th:only-of-type {\n",
       "        vertical-align: middle;\n",
       "    }\n",
       "\n",
       "    .dataframe tbody tr th {\n",
       "        vertical-align: top;\n",
       "    }\n",
       "\n",
       "    .dataframe thead th {\n",
       "        text-align: right;\n",
       "    }\n",
       "</style>\n",
       "<table border=\"1\" class=\"dataframe\">\n",
       "  <thead>\n",
       "    <tr style=\"text-align: right;\">\n",
       "      <th></th>\n",
       "      <th>trending_date</th>\n",
       "      <th>title</th>\n",
       "      <th>channel_title</th>\n",
       "      <th>category_id</th>\n",
       "      <th>publish_time</th>\n",
       "      <th>tags</th>\n",
       "      <th>views</th>\n",
       "      <th>likes</th>\n",
       "      <th>dislikes</th>\n",
       "      <th>comment_count</th>\n",
       "      <th>thumbnail_link</th>\n",
       "      <th>comments_disabled</th>\n",
       "      <th>ratings_disabled</th>\n",
       "      <th>video_error_or_removed</th>\n",
       "      <th>description</th>\n",
       "      <th>country</th>\n",
       "      <th>publish_month</th>\n",
       "      <th>publish_hour</th>\n",
       "      <th>publish_date</th>\n",
       "      <th>publishing_day</th>\n",
       "    </tr>\n",
       "    <tr>\n",
       "      <th>video_id</th>\n",
       "      <th></th>\n",
       "      <th></th>\n",
       "      <th></th>\n",
       "      <th></th>\n",
       "      <th></th>\n",
       "      <th></th>\n",
       "      <th></th>\n",
       "      <th></th>\n",
       "      <th></th>\n",
       "      <th></th>\n",
       "      <th></th>\n",
       "      <th></th>\n",
       "      <th></th>\n",
       "      <th></th>\n",
       "      <th></th>\n",
       "      <th></th>\n",
       "      <th></th>\n",
       "      <th></th>\n",
       "      <th></th>\n",
       "      <th></th>\n",
       "    </tr>\n",
       "  </thead>\n",
       "  <tbody>\n",
       "    <tr>\n",
       "      <th>-0CMnp02rNY</th>\n",
       "      <td>6</td>\n",
       "      <td>6</td>\n",
       "      <td>6</td>\n",
       "      <td>6</td>\n",
       "      <td>6</td>\n",
       "      <td>6</td>\n",
       "      <td>6</td>\n",
       "      <td>6</td>\n",
       "      <td>6</td>\n",
       "      <td>6</td>\n",
       "      <td>6</td>\n",
       "      <td>6</td>\n",
       "      <td>6</td>\n",
       "      <td>6</td>\n",
       "      <td>6</td>\n",
       "      <td>6</td>\n",
       "      <td>6</td>\n",
       "      <td>6</td>\n",
       "      <td>6</td>\n",
       "      <td>6</td>\n",
       "    </tr>\n",
       "    <tr>\n",
       "      <th>-0NYY8cqdiQ</th>\n",
       "      <td>1</td>\n",
       "      <td>1</td>\n",
       "      <td>1</td>\n",
       "      <td>1</td>\n",
       "      <td>1</td>\n",
       "      <td>1</td>\n",
       "      <td>1</td>\n",
       "      <td>1</td>\n",
       "      <td>1</td>\n",
       "      <td>1</td>\n",
       "      <td>1</td>\n",
       "      <td>1</td>\n",
       "      <td>1</td>\n",
       "      <td>1</td>\n",
       "      <td>1</td>\n",
       "      <td>1</td>\n",
       "      <td>1</td>\n",
       "      <td>1</td>\n",
       "      <td>1</td>\n",
       "      <td>1</td>\n",
       "    </tr>\n",
       "    <tr>\n",
       "      <th>-1Hm41N0dUs</th>\n",
       "      <td>3</td>\n",
       "      <td>3</td>\n",
       "      <td>3</td>\n",
       "      <td>3</td>\n",
       "      <td>3</td>\n",
       "      <td>3</td>\n",
       "      <td>3</td>\n",
       "      <td>3</td>\n",
       "      <td>3</td>\n",
       "      <td>3</td>\n",
       "      <td>3</td>\n",
       "      <td>3</td>\n",
       "      <td>3</td>\n",
       "      <td>3</td>\n",
       "      <td>3</td>\n",
       "      <td>3</td>\n",
       "      <td>3</td>\n",
       "      <td>3</td>\n",
       "      <td>3</td>\n",
       "      <td>3</td>\n",
       "    </tr>\n",
       "    <tr>\n",
       "      <th>-1yT-K3c6YI</th>\n",
       "      <td>4</td>\n",
       "      <td>4</td>\n",
       "      <td>4</td>\n",
       "      <td>4</td>\n",
       "      <td>4</td>\n",
       "      <td>4</td>\n",
       "      <td>4</td>\n",
       "      <td>4</td>\n",
       "      <td>4</td>\n",
       "      <td>4</td>\n",
       "      <td>4</td>\n",
       "      <td>4</td>\n",
       "      <td>4</td>\n",
       "      <td>4</td>\n",
       "      <td>4</td>\n",
       "      <td>4</td>\n",
       "      <td>4</td>\n",
       "      <td>4</td>\n",
       "      <td>4</td>\n",
       "      <td>4</td>\n",
       "    </tr>\n",
       "    <tr>\n",
       "      <th>-2RVw2_QyxQ</th>\n",
       "      <td>3</td>\n",
       "      <td>3</td>\n",
       "      <td>3</td>\n",
       "      <td>3</td>\n",
       "      <td>3</td>\n",
       "      <td>3</td>\n",
       "      <td>3</td>\n",
       "      <td>3</td>\n",
       "      <td>3</td>\n",
       "      <td>3</td>\n",
       "      <td>3</td>\n",
       "      <td>3</td>\n",
       "      <td>3</td>\n",
       "      <td>3</td>\n",
       "      <td>3</td>\n",
       "      <td>3</td>\n",
       "      <td>3</td>\n",
       "      <td>3</td>\n",
       "      <td>3</td>\n",
       "      <td>3</td>\n",
       "    </tr>\n",
       "    <tr>\n",
       "      <th>...</th>\n",
       "      <td>...</td>\n",
       "      <td>...</td>\n",
       "      <td>...</td>\n",
       "      <td>...</td>\n",
       "      <td>...</td>\n",
       "      <td>...</td>\n",
       "      <td>...</td>\n",
       "      <td>...</td>\n",
       "      <td>...</td>\n",
       "      <td>...</td>\n",
       "      <td>...</td>\n",
       "      <td>...</td>\n",
       "      <td>...</td>\n",
       "      <td>...</td>\n",
       "      <td>...</td>\n",
       "      <td>...</td>\n",
       "      <td>...</td>\n",
       "      <td>...</td>\n",
       "      <td>...</td>\n",
       "      <td>...</td>\n",
       "    </tr>\n",
       "    <tr>\n",
       "      <th>zwEn-ambXLw</th>\n",
       "      <td>12</td>\n",
       "      <td>12</td>\n",
       "      <td>12</td>\n",
       "      <td>12</td>\n",
       "      <td>12</td>\n",
       "      <td>12</td>\n",
       "      <td>12</td>\n",
       "      <td>12</td>\n",
       "      <td>12</td>\n",
       "      <td>12</td>\n",
       "      <td>12</td>\n",
       "      <td>12</td>\n",
       "      <td>12</td>\n",
       "      <td>12</td>\n",
       "      <td>12</td>\n",
       "      <td>12</td>\n",
       "      <td>12</td>\n",
       "      <td>12</td>\n",
       "      <td>12</td>\n",
       "      <td>12</td>\n",
       "    </tr>\n",
       "    <tr>\n",
       "      <th>zxUwbflE1SY</th>\n",
       "      <td>5</td>\n",
       "      <td>5</td>\n",
       "      <td>5</td>\n",
       "      <td>5</td>\n",
       "      <td>5</td>\n",
       "      <td>5</td>\n",
       "      <td>5</td>\n",
       "      <td>5</td>\n",
       "      <td>5</td>\n",
       "      <td>5</td>\n",
       "      <td>5</td>\n",
       "      <td>5</td>\n",
       "      <td>5</td>\n",
       "      <td>5</td>\n",
       "      <td>5</td>\n",
       "      <td>5</td>\n",
       "      <td>5</td>\n",
       "      <td>5</td>\n",
       "      <td>5</td>\n",
       "      <td>5</td>\n",
       "    </tr>\n",
       "    <tr>\n",
       "      <th>zxwfDlhJIpw</th>\n",
       "      <td>23</td>\n",
       "      <td>23</td>\n",
       "      <td>23</td>\n",
       "      <td>23</td>\n",
       "      <td>23</td>\n",
       "      <td>23</td>\n",
       "      <td>23</td>\n",
       "      <td>23</td>\n",
       "      <td>23</td>\n",
       "      <td>23</td>\n",
       "      <td>23</td>\n",
       "      <td>23</td>\n",
       "      <td>23</td>\n",
       "      <td>23</td>\n",
       "      <td>0</td>\n",
       "      <td>23</td>\n",
       "      <td>23</td>\n",
       "      <td>23</td>\n",
       "      <td>23</td>\n",
       "      <td>23</td>\n",
       "    </tr>\n",
       "    <tr>\n",
       "      <th>zy0b9e40tK8</th>\n",
       "      <td>1</td>\n",
       "      <td>1</td>\n",
       "      <td>1</td>\n",
       "      <td>1</td>\n",
       "      <td>1</td>\n",
       "      <td>1</td>\n",
       "      <td>1</td>\n",
       "      <td>1</td>\n",
       "      <td>1</td>\n",
       "      <td>1</td>\n",
       "      <td>1</td>\n",
       "      <td>1</td>\n",
       "      <td>1</td>\n",
       "      <td>1</td>\n",
       "      <td>1</td>\n",
       "      <td>1</td>\n",
       "      <td>1</td>\n",
       "      <td>1</td>\n",
       "      <td>1</td>\n",
       "      <td>1</td>\n",
       "    </tr>\n",
       "    <tr>\n",
       "      <th>zzQsGL_F9_c</th>\n",
       "      <td>2</td>\n",
       "      <td>2</td>\n",
       "      <td>2</td>\n",
       "      <td>2</td>\n",
       "      <td>2</td>\n",
       "      <td>2</td>\n",
       "      <td>2</td>\n",
       "      <td>2</td>\n",
       "      <td>2</td>\n",
       "      <td>2</td>\n",
       "      <td>2</td>\n",
       "      <td>2</td>\n",
       "      <td>2</td>\n",
       "      <td>2</td>\n",
       "      <td>2</td>\n",
       "      <td>2</td>\n",
       "      <td>2</td>\n",
       "      <td>2</td>\n",
       "      <td>2</td>\n",
       "      <td>2</td>\n",
       "    </tr>\n",
       "  </tbody>\n",
       "</table>\n",
       "<p>6351 rows × 20 columns</p>\n",
       "</div>"
      ],
      "text/plain": [
       "             trending_date  title  channel_title  category_id  publish_time  \\\n",
       "video_id                                                                      \n",
       "-0CMnp02rNY              6      6              6            6             6   \n",
       "-0NYY8cqdiQ              1      1              1            1             1   \n",
       "-1Hm41N0dUs              3      3              3            3             3   \n",
       "-1yT-K3c6YI              4      4              4            4             4   \n",
       "-2RVw2_QyxQ              3      3              3            3             3   \n",
       "...                    ...    ...            ...          ...           ...   \n",
       "zwEn-ambXLw             12     12             12           12            12   \n",
       "zxUwbflE1SY              5      5              5            5             5   \n",
       "zxwfDlhJIpw             23     23             23           23            23   \n",
       "zy0b9e40tK8              1      1              1            1             1   \n",
       "zzQsGL_F9_c              2      2              2            2             2   \n",
       "\n",
       "             tags  views  likes  dislikes  comment_count  thumbnail_link  \\\n",
       "video_id                                                                   \n",
       "-0CMnp02rNY     6      6      6         6              6               6   \n",
       "-0NYY8cqdiQ     1      1      1         1              1               1   \n",
       "-1Hm41N0dUs     3      3      3         3              3               3   \n",
       "-1yT-K3c6YI     4      4      4         4              4               4   \n",
       "-2RVw2_QyxQ     3      3      3         3              3               3   \n",
       "...           ...    ...    ...       ...            ...             ...   \n",
       "zwEn-ambXLw    12     12     12        12             12              12   \n",
       "zxUwbflE1SY     5      5      5         5              5               5   \n",
       "zxwfDlhJIpw    23     23     23        23             23              23   \n",
       "zy0b9e40tK8     1      1      1         1              1               1   \n",
       "zzQsGL_F9_c     2      2      2         2              2               2   \n",
       "\n",
       "             comments_disabled  ratings_disabled  video_error_or_removed  \\\n",
       "video_id                                                                   \n",
       "-0CMnp02rNY                  6                 6                       6   \n",
       "-0NYY8cqdiQ                  1                 1                       1   \n",
       "-1Hm41N0dUs                  3                 3                       3   \n",
       "-1yT-K3c6YI                  4                 4                       4   \n",
       "-2RVw2_QyxQ                  3                 3                       3   \n",
       "...                        ...               ...                     ...   \n",
       "zwEn-ambXLw                 12                12                      12   \n",
       "zxUwbflE1SY                  5                 5                       5   \n",
       "zxwfDlhJIpw                 23                23                      23   \n",
       "zy0b9e40tK8                  1                 1                       1   \n",
       "zzQsGL_F9_c                  2                 2                       2   \n",
       "\n",
       "             description  country  publish_month  publish_hour  publish_date  \\\n",
       "video_id                                                                       \n",
       "-0CMnp02rNY            6        6              6             6             6   \n",
       "-0NYY8cqdiQ            1        1              1             1             1   \n",
       "-1Hm41N0dUs            3        3              3             3             3   \n",
       "-1yT-K3c6YI            4        4              4             4             4   \n",
       "-2RVw2_QyxQ            3        3              3             3             3   \n",
       "...                  ...      ...            ...           ...           ...   \n",
       "zwEn-ambXLw           12       12             12            12            12   \n",
       "zxUwbflE1SY            5        5              5             5             5   \n",
       "zxwfDlhJIpw            0       23             23            23            23   \n",
       "zy0b9e40tK8            1        1              1             1             1   \n",
       "zzQsGL_F9_c            2        2              2             2             2   \n",
       "\n",
       "             publishing_day  \n",
       "video_id                     \n",
       "-0CMnp02rNY               6  \n",
       "-0NYY8cqdiQ               1  \n",
       "-1Hm41N0dUs               3  \n",
       "-1yT-K3c6YI               4  \n",
       "-2RVw2_QyxQ               3  \n",
       "...                     ...  \n",
       "zwEn-ambXLw              12  \n",
       "zxUwbflE1SY               5  \n",
       "zxwfDlhJIpw              23  \n",
       "zy0b9e40tK8               1  \n",
       "zzQsGL_F9_c               2  \n",
       "\n",
       "[6351 rows x 20 columns]"
      ]
     },
     "execution_count": 62,
     "metadata": {},
     "output_type": "execute_result"
    }
   ],
   "source": [
    "### ie, title is -0CMnp02rNY , we have total trending_date as 6 or it trends for 6 days .\n",
    "usa.groupby(['video_id']).count()\n",
    "\n"
   ]
  },
  {
   "cell_type": "code",
   "execution_count": 63,
   "id": "1a5640c1",
   "metadata": {},
   "outputs": [
    {
     "data": {
      "text/plain": [
       "video_id\n",
       "-0CMnp02rNY     6\n",
       "-0NYY8cqdiQ     1\n",
       "-1Hm41N0dUs     3\n",
       "-1yT-K3c6YI     4\n",
       "-2RVw2_QyxQ     3\n",
       "               ..\n",
       "zwEn-ambXLw    12\n",
       "zxUwbflE1SY     5\n",
       "zxwfDlhJIpw    23\n",
       "zy0b9e40tK8     1\n",
       "zzQsGL_F9_c     2\n",
       "Name: title, Length: 6351, dtype: int64"
      ]
     },
     "execution_count": 63,
     "metadata": {},
     "output_type": "execute_result"
    }
   ],
   "source": [
    "usa.groupby(['video_id']).count()['title']"
   ]
  },
  {
   "cell_type": "code",
   "execution_count": 64,
   "id": "f57f783d",
   "metadata": {},
   "outputs": [
    {
     "data": {
      "text/plain": [
       "video_id\n",
       "j4KvrAUjn6c    30\n",
       "MAjY8mCTXWk    29\n",
       "r-3iathMo7o    29\n",
       "QBL8IRJ5yHU    29\n",
       "8h--kFui1JA    29\n",
       "               ..\n",
       "FchkqXEg0qs     1\n",
       "34By94AKkZE     1\n",
       "bT9HPXKP5dI     1\n",
       "7Nv1KoqM6vc     1\n",
       "YPHDFdk_BW8     1\n",
       "Name: title, Length: 6351, dtype: int64"
      ]
     },
     "execution_count": 64,
     "metadata": {},
     "output_type": "execute_result"
    }
   ],
   "source": [
    "usa.groupby(['video_id']).count()['title'].sort_values(ascending=False)"
   ]
  },
  {
   "cell_type": "code",
   "execution_count": null,
   "id": "8781d66e",
   "metadata": {},
   "outputs": [],
   "source": []
  },
  {
   "cell_type": "code",
   "execution_count": null,
   "id": "2d673b13",
   "metadata": {},
   "outputs": [],
   "source": []
  },
  {
   "cell_type": "code",
   "execution_count": null,
   "id": "0199b03e",
   "metadata": {},
   "outputs": [],
   "source": []
  },
  {
   "cell_type": "markdown",
   "id": "976f9a12",
   "metadata": {},
   "source": [
    "# 8.. Most common words(Trending words) in video titles"
   ]
  },
  {
   "cell_type": "raw",
   "id": "5d3ea4f9",
   "metadata": {},
   "source": [
    "Let's see if there are some words that are used significantly in trending video titles. We will display the 25 most common words in all trending video titles"
   ]
  },
  {
   "cell_type": "code",
   "execution_count": 65,
   "id": "3085b3d1",
   "metadata": {},
   "outputs": [],
   "source": [
    "title_words = list(full_df[\"title\"].apply(lambda x: x.split()))"
   ]
  },
  {
   "cell_type": "code",
   "execution_count": 66,
   "id": "89b83c46",
   "metadata": {},
   "outputs": [
    {
     "data": {
      "text/plain": [
       "list"
      ]
     },
     "execution_count": 66,
     "metadata": {},
     "output_type": "execute_result"
    }
   ],
   "source": [
    "type(title_words)"
   ]
  },
  {
   "cell_type": "code",
   "execution_count": 67,
   "id": "4b6f0fe6",
   "metadata": {},
   "outputs": [
    {
     "data": {
      "text/plain": [
       "375942"
      ]
     },
     "execution_count": 67,
     "metadata": {},
     "output_type": "execute_result"
    }
   ],
   "source": [
    "len(title_words)"
   ]
  },
  {
   "cell_type": "code",
   "execution_count": 68,
   "id": "597a9f4a",
   "metadata": {},
   "outputs": [
    {
     "data": {
      "text/plain": [
       "[['Eminem', '-', 'Walk', 'On', 'Water', '(Audio)', 'ft.', 'BeyoncÃ©'],\n",
       " ['PLUSH', '-', 'Bad', 'Unboxing', 'Fan', 'Mail'],\n",
       " ['Racist',\n",
       "  'Superman',\n",
       "  '|',\n",
       "  'Rudy',\n",
       "  'Mancuso,',\n",
       "  'King',\n",
       "  'Bach',\n",
       "  '&',\n",
       "  'Lele',\n",
       "  'Pons'],\n",
       " ['I', 'Dare', 'You:', 'GOING', 'BALD!?'],\n",
       " ['Ed', 'Sheeran', '-', 'Perfect', '(Official', 'Music', 'Video)']]"
      ]
     },
     "execution_count": 68,
     "metadata": {},
     "output_type": "execute_result"
    }
   ],
   "source": [
    "title_words[0:5]"
   ]
  },
  {
   "cell_type": "code",
   "execution_count": 70,
   "id": "ef41e7b3",
   "metadata": {},
   "outputs": [
    {
     "data": {
      "text/plain": [
       "'\\ntitle_words_1D=[]\\nfor y in title_words:\\n    for x in y:\\n        title_words_1D.append(x)\\n'"
      ]
     },
     "execution_count": 70,
     "metadata": {},
     "output_type": "execute_result"
    }
   ],
   "source": [
    "### as title_words is a 2-D list , so we have to make it 1-D list to compute frequency of each word,so we have to iterate as->> \n",
    "\n",
    "title_words_1D = [x for y in title_words for x in y]\n",
    "\n",
    "\n",
    "### alternate \n",
    "'''\n",
    "title_words_1D=[]\n",
    "for y in title_words:\n",
    "    for x in y:\n",
    "        title_words_1D.append(x)\n",
    "'''        "
   ]
  },
  {
   "cell_type": "code",
   "execution_count": 71,
   "id": "70aeac5d",
   "metadata": {},
   "outputs": [
    {
     "data": {
      "text/plain": [
       "['Eminem',\n",
       " '-',\n",
       " 'Walk',\n",
       " 'On',\n",
       " 'Water',\n",
       " '(Audio)',\n",
       " 'ft.',\n",
       " 'BeyoncÃ©',\n",
       " 'PLUSH',\n",
       " '-']"
      ]
     },
     "execution_count": 71,
     "metadata": {},
     "output_type": "execute_result"
    }
   ],
   "source": [
    "title_words_1D[0:10]"
   ]
  },
  {
   "cell_type": "code",
   "execution_count": 74,
   "id": "330f4ece",
   "metadata": {},
   "outputs": [],
   "source": [
    "from collections import Counter"
   ]
  },
  {
   "cell_type": "code",
   "execution_count": 75,
   "id": "6872e107",
   "metadata": {},
   "outputs": [
    {
     "data": {
      "text/plain": [
       "[('-', 114525),\n",
       " ('|', 110473),\n",
       " ('2018', 27991),\n",
       " ('The', 22448),\n",
       " ('de', 20671),\n",
       " ('&', 15091),\n",
       " ('a', 10835),\n",
       " ('/', 10808),\n",
       " ('the', 10802),\n",
       " ('Episode', 10244),\n",
       " ('in', 9396),\n",
       " ('A', 9178),\n",
       " ('of', 8545),\n",
       " ('Video)', 8540),\n",
       " ('2017', 8327),\n",
       " ('2', 8077),\n",
       " ('to', 7839),\n",
       " ('Ð', 7639),\n",
       " ('Trailer', 7552),\n",
       " ('\\x8bã', 7545),\n",
       " ('(Official', 7543),\n",
       " ('and', 7463),\n",
       " ('DE', 7405),\n",
       " ('vs', 7332),\n",
       " ('!', 7251)]"
      ]
     },
     "execution_count": 75,
     "metadata": {},
     "output_type": "execute_result"
    }
   ],
   "source": [
    "Counter(title_words_1D).most_common(25)"
   ]
  },
  {
   "cell_type": "raw",
   "id": "35931682",
   "metadata": {},
   "source": [
    "Ignoring words like \"the\" and \"of\", we can see that \"-\" and \"|\" symbols occured a lot : 114525 times and 110473 times respectively. \n",
    "We notice also that words \"Video\", \"Trailer\", 'Episode'  , \"Official\", and \"2018\" are common in trending video titles; each occured alot.."
   ]
  },
  {
   "cell_type": "code",
   "execution_count": null,
   "id": "1f30fc91",
   "metadata": {},
   "outputs": [],
   "source": []
  },
  {
   "cell_type": "code",
   "execution_count": null,
   "id": "f0bb5ae8",
   "metadata": {},
   "outputs": [],
   "source": []
  },
  {
   "cell_type": "code",
   "execution_count": null,
   "id": "0c7dccb7",
   "metadata": {},
   "outputs": [],
   "source": []
  },
  {
   "cell_type": "code",
   "execution_count": null,
   "id": "aa6170da",
   "metadata": {},
   "outputs": [],
   "source": []
  },
  {
   "cell_type": "code",
   "execution_count": null,
   "id": "d383b457",
   "metadata": {},
   "outputs": [],
   "source": []
  },
  {
   "cell_type": "code",
   "execution_count": null,
   "id": "cb25a94c",
   "metadata": {},
   "outputs": [],
   "source": []
  }
 ],
 "metadata": {
  "kernelspec": {
   "display_name": "Python 3",
   "language": "python",
   "name": "python3"
  },
  "language_info": {
   "codemirror_mode": {
    "name": "ipython",
    "version": 3
   },
   "file_extension": ".py",
   "mimetype": "text/x-python",
   "name": "python",
   "nbconvert_exporter": "python",
   "pygments_lexer": "ipython3",
   "version": "3.8.8"
  }
 },
 "nbformat": 4,
 "nbformat_minor": 5
}
