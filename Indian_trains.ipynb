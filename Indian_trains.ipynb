{
 "cells": [
  {
   "cell_type": "markdown",
   "metadata": {},
   "source": [
    "# import all necessary libraries"
   ]
  },
  {
   "cell_type": "code",
   "execution_count": 98,
   "metadata": {},
   "outputs": [],
   "source": [
    "import pandas as pd\n",
    "import numpy as np\n",
    "import matplotlib.pyplot as plt\n",
    "import seaborn as sns"
   ]
  },
  {
   "cell_type": "markdown",
   "metadata": {},
   "source": [
    "# reading our file"
   ]
  },
  {
   "cell_type": "code",
   "execution_count": 91,
   "metadata": {},
   "outputs": [
    {
     "data": {
      "text/plain": [
       "Index(['Unnamed: 0', 'Train no.', 'Train name', 'Starts', 'Ends'], dtype='object')"
      ]
     },
     "execution_count": 91,
     "metadata": {},
     "output_type": "execute_result"
    }
   ],
   "source": [
    "df=pd.read_csv('F:/Data Science projects/by_me/indiantrains/All_Indian_Trains.csv')\n",
    "df.columns"
   ]
  },
  {
   "cell_type": "code",
   "execution_count": 3,
   "metadata": {},
   "outputs": [
    {
     "data": {
      "text/html": [
       "<div>\n",
       "<style scoped>\n",
       "    .dataframe tbody tr th:only-of-type {\n",
       "        vertical-align: middle;\n",
       "    }\n",
       "\n",
       "    .dataframe tbody tr th {\n",
       "        vertical-align: top;\n",
       "    }\n",
       "\n",
       "    .dataframe thead th {\n",
       "        text-align: right;\n",
       "    }\n",
       "</style>\n",
       "<table border=\"1\" class=\"dataframe\">\n",
       "  <thead>\n",
       "    <tr style=\"text-align: right;\">\n",
       "      <th></th>\n",
       "      <th>Unnamed: 0</th>\n",
       "      <th>Train no.</th>\n",
       "      <th>Train name</th>\n",
       "      <th>Starts</th>\n",
       "      <th>Ends</th>\n",
       "    </tr>\n",
       "  </thead>\n",
       "  <tbody>\n",
       "    <tr>\n",
       "      <td>0</td>\n",
       "      <td>0</td>\n",
       "      <td>12723</td>\n",
       "      <td>Andhra Pradesh Express</td>\n",
       "      <td>Hyderabad Decan</td>\n",
       "      <td>New Delhi</td>\n",
       "    </tr>\n",
       "    <tr>\n",
       "      <td>1</td>\n",
       "      <td>1</td>\n",
       "      <td>22416</td>\n",
       "      <td>Andhra Pradesh Express</td>\n",
       "      <td>New Delhi</td>\n",
       "      <td>Vishakapatnam</td>\n",
       "    </tr>\n",
       "    <tr>\n",
       "      <td>2</td>\n",
       "      <td>2</td>\n",
       "      <td>12724</td>\n",
       "      <td>Andhra Pradesh Express</td>\n",
       "      <td>New Delhi</td>\n",
       "      <td>Hyderabad Decan</td>\n",
       "    </tr>\n",
       "    <tr>\n",
       "      <td>3</td>\n",
       "      <td>3</td>\n",
       "      <td>12707</td>\n",
       "      <td>Andhra Pradesh Sampark Kranti</td>\n",
       "      <td>Tirupati</td>\n",
       "      <td>H Nizamuddin</td>\n",
       "    </tr>\n",
       "    <tr>\n",
       "      <td>4</td>\n",
       "      <td>4</td>\n",
       "      <td>15909</td>\n",
       "      <td>Abadh Assam Express</td>\n",
       "      <td>New Tinsukia Junction</td>\n",
       "      <td>Darbhanga Junction</td>\n",
       "    </tr>\n",
       "  </tbody>\n",
       "</table>\n",
       "</div>"
      ],
      "text/plain": [
       "   Unnamed: 0  Train no.                     Train name  \\\n",
       "0           0      12723         Andhra Pradesh Express   \n",
       "1           1      22416         Andhra Pradesh Express   \n",
       "2           2      12724         Andhra Pradesh Express   \n",
       "3           3      12707  Andhra Pradesh Sampark Kranti   \n",
       "4           4      15909            Abadh Assam Express   \n",
       "\n",
       "                  Starts                Ends  \n",
       "0        Hyderabad Decan           New Delhi  \n",
       "1              New Delhi       Vishakapatnam  \n",
       "2              New Delhi     Hyderabad Decan  \n",
       "3               Tirupati        H Nizamuddin  \n",
       "4  New Tinsukia Junction  Darbhanga Junction  "
      ]
     },
     "execution_count": 3,
     "metadata": {},
     "output_type": "execute_result"
    }
   ],
   "source": [
    "df.head()"
   ]
  },
  {
   "cell_type": "code",
   "execution_count": 46,
   "metadata": {},
   "outputs": [
    {
     "data": {
      "text/plain": [
       "(4024, 5)"
      ]
     },
     "execution_count": 46,
     "metadata": {},
     "output_type": "execute_result"
    }
   ],
   "source": [
    "df.shape"
   ]
  },
  {
   "cell_type": "code",
   "execution_count": null,
   "metadata": {},
   "outputs": [],
   "source": []
  },
  {
   "cell_type": "markdown",
   "metadata": {},
   "source": [
    "# Part-1"
   ]
  },
  {
   "cell_type": "code",
   "execution_count": null,
   "metadata": {},
   "outputs": [],
   "source": [
    "total unique trains\n",
    "entire data of index 0\n",
    "data of first 5 trains with their train no and train name\n",
    "calculate all express trains\n",
    "calc all different express trains\n",
    "\n",
    "find all special trains\n",
    "find all different special trains"
   ]
  },
  {
   "cell_type": "markdown",
   "metadata": {},
   "source": [
    "# total unique trains"
   ]
  },
  {
   "cell_type": "code",
   "execution_count": 53,
   "metadata": {},
   "outputs": [
    {
     "data": {
      "text/plain": [
       "2970"
      ]
     },
     "execution_count": 53,
     "metadata": {},
     "output_type": "execute_result"
    }
   ],
   "source": [
    "\n",
    "len(df['Train name'].unique())"
   ]
  },
  {
   "cell_type": "markdown",
   "metadata": {},
   "source": [
    "# #entire data of index 0"
   ]
  },
  {
   "cell_type": "code",
   "execution_count": 21,
   "metadata": {},
   "outputs": [
    {
     "data": {
      "text/plain": [
       "Unnamed: 0                         0\n",
       "Train no.                      12723\n",
       "Train name    Andhra Pradesh Express\n",
       "Starts               Hyderabad Decan\n",
       "Ends                       New Delhi\n",
       "Name: 0, dtype: object"
      ]
     },
     "execution_count": 21,
     "metadata": {},
     "output_type": "execute_result"
    }
   ],
   "source": [
    "\n",
    "\n",
    "df.loc[0]\n",
    "#or by\n",
    "df.iloc[0]"
   ]
  },
  {
   "cell_type": "code",
   "execution_count": 23,
   "metadata": {},
   "outputs": [
    {
     "data": {
      "text/plain": [
       "'Andhra Pradesh Express'"
      ]
     },
     "execution_count": 23,
     "metadata": {},
     "output_type": "execute_result"
    }
   ],
   "source": [
    "df.loc[0,'Train name']\n",
    "#df.iloc[0,2]"
   ]
  },
  {
   "cell_type": "markdown",
   "metadata": {},
   "source": [
    "# data of first 5 trains with their train no and train name"
   ]
  },
  {
   "cell_type": "code",
   "execution_count": 25,
   "metadata": {},
   "outputs": [
    {
     "data": {
      "text/html": [
       "<div>\n",
       "<style scoped>\n",
       "    .dataframe tbody tr th:only-of-type {\n",
       "        vertical-align: middle;\n",
       "    }\n",
       "\n",
       "    .dataframe tbody tr th {\n",
       "        vertical-align: top;\n",
       "    }\n",
       "\n",
       "    .dataframe thead th {\n",
       "        text-align: right;\n",
       "    }\n",
       "</style>\n",
       "<table border=\"1\" class=\"dataframe\">\n",
       "  <thead>\n",
       "    <tr style=\"text-align: right;\">\n",
       "      <th></th>\n",
       "      <th>Train no.</th>\n",
       "      <th>Train name</th>\n",
       "    </tr>\n",
       "  </thead>\n",
       "  <tbody>\n",
       "    <tr>\n",
       "      <td>0</td>\n",
       "      <td>12723</td>\n",
       "      <td>Andhra Pradesh Express</td>\n",
       "    </tr>\n",
       "    <tr>\n",
       "      <td>1</td>\n",
       "      <td>22416</td>\n",
       "      <td>Andhra Pradesh Express</td>\n",
       "    </tr>\n",
       "    <tr>\n",
       "      <td>2</td>\n",
       "      <td>12724</td>\n",
       "      <td>Andhra Pradesh Express</td>\n",
       "    </tr>\n",
       "    <tr>\n",
       "      <td>3</td>\n",
       "      <td>12707</td>\n",
       "      <td>Andhra Pradesh Sampark Kranti</td>\n",
       "    </tr>\n",
       "    <tr>\n",
       "      <td>4</td>\n",
       "      <td>15909</td>\n",
       "      <td>Abadh Assam Express</td>\n",
       "    </tr>\n",
       "    <tr>\n",
       "      <td>5</td>\n",
       "      <td>18242</td>\n",
       "      <td>Abkp Durg Passenger E</td>\n",
       "    </tr>\n",
       "  </tbody>\n",
       "</table>\n",
       "</div>"
      ],
      "text/plain": [
       "   Train no.                     Train name\n",
       "0      12723         Andhra Pradesh Express\n",
       "1      22416         Andhra Pradesh Express\n",
       "2      12724         Andhra Pradesh Express\n",
       "3      12707  Andhra Pradesh Sampark Kranti\n",
       "4      15909            Abadh Assam Express\n",
       "5      18242          Abkp Durg Passenger E"
      ]
     },
     "execution_count": 25,
     "metadata": {},
     "output_type": "execute_result"
    }
   ],
   "source": [
    "\n",
    "df.loc[0:5,'Train no.':'Train name']\n",
    "#df.loc[[0,1,2,3,4],'Train no.':'Train name']"
   ]
  },
  {
   "cell_type": "markdown",
   "metadata": {},
   "source": [
    "# calculate all express trains"
   ]
  },
  {
   "cell_type": "code",
   "execution_count": 24,
   "metadata": {},
   "outputs": [
    {
     "data": {
      "text/plain": [
       "2397"
      ]
     },
     "execution_count": 24,
     "metadata": {},
     "output_type": "execute_result"
    }
   ],
   "source": [
    "list1=list(df['Train name'])\n",
    "\n",
    "#declare a empty list so that we will store all our express trains here\n",
    "exptrain=[]\n",
    "for train in list1:\n",
    "    if 'Express' in train:\n",
    "        exptrain.append(train)\n",
    "len(exptrain)        "
   ]
  },
  {
   "cell_type": "markdown",
   "metadata": {},
   "source": [
    "# calculate all express trains using list comprehension"
   ]
  },
  {
   "cell_type": "code",
   "execution_count": 25,
   "metadata": {},
   "outputs": [
    {
     "data": {
      "text/plain": [
       "2397"
      ]
     },
     "execution_count": 25,
     "metadata": {},
     "output_type": "execute_result"
    }
   ],
   "source": [
    "list1=list(df['Train name'])\n",
    "len([train for train in list1 if 'Express' in train])"
   ]
  },
  {
   "cell_type": "code",
   "execution_count": null,
   "metadata": {},
   "outputs": [],
   "source": []
  },
  {
   "cell_type": "markdown",
   "metadata": {},
   "source": [
    "# calc all different express trains"
   ]
  },
  {
   "cell_type": "code",
   "execution_count": 26,
   "metadata": {},
   "outputs": [
    {
     "data": {
      "text/plain": [
       "1634"
      ]
     },
     "execution_count": 26,
     "metadata": {},
     "output_type": "execute_result"
    }
   ],
   "source": [
    "list1=list(df['Train name'])\n",
    "\n",
    "#declare a empty list so that we will store all our express trains here\n",
    "exptrain=[]\n",
    "for train in list1:\n",
    "    if 'Express' in train:\n",
    "        exptrain.append(train)\n",
    "len(set((exptrain)) )"
   ]
  },
  {
   "cell_type": "markdown",
   "metadata": {},
   "source": [
    "# Same task using List comprehension"
   ]
  },
  {
   "cell_type": "code",
   "execution_count": 9,
   "metadata": {},
   "outputs": [
    {
     "data": {
      "text/plain": [
       "1634"
      ]
     },
     "execution_count": 9,
     "metadata": {},
     "output_type": "execute_result"
    }
   ],
   "source": [
    "list1=list(df['Train name'])\n",
    "len(set([train for train in list1 if 'Express' in train]))"
   ]
  },
  {
   "cell_type": "markdown",
   "metadata": {},
   "source": [
    "# # alternate way,find all express trains"
   ]
  },
  {
   "cell_type": "code",
   "execution_count": 20,
   "metadata": {},
   "outputs": [
    {
     "data": {
      "text/plain": [
       "2397"
      ]
     },
     "execution_count": 20,
     "metadata": {},
     "output_type": "execute_result"
    }
   ],
   "source": [
    "df['Train name'].str.contains('Express').sum()"
   ]
  },
  {
   "cell_type": "code",
   "execution_count": null,
   "metadata": {},
   "outputs": [],
   "source": []
  },
  {
   "cell_type": "markdown",
   "metadata": {},
   "source": [
    "# find all special trains"
   ]
  },
  {
   "cell_type": "code",
   "execution_count": 26,
   "metadata": {},
   "outputs": [
    {
     "data": {
      "text/plain": [
       "850"
      ]
     },
     "execution_count": 26,
     "metadata": {},
     "output_type": "execute_result"
    }
   ],
   "source": [
    "list1=list(df['Train name'])\n",
    "special_train=[feature for feature in list1 if 'Special' in feature]\n",
    "len(special_train)"
   ]
  },
  {
   "cell_type": "code",
   "execution_count": null,
   "metadata": {},
   "outputs": [],
   "source": []
  },
  {
   "cell_type": "markdown",
   "metadata": {},
   "source": [
    "# find all different special trains"
   ]
  },
  {
   "cell_type": "code",
   "execution_count": 27,
   "metadata": {},
   "outputs": [
    {
     "data": {
      "text/plain": [
       "686"
      ]
     },
     "execution_count": 27,
     "metadata": {},
     "output_type": "execute_result"
    }
   ],
   "source": [
    "list1=list(df['Train name'])\n",
    "special_train=[feature for feature in list1 if 'Special' in feature]\n",
    "len(set(special_train))"
   ]
  },
  {
   "cell_type": "code",
   "execution_count": null,
   "metadata": {},
   "outputs": [],
   "source": []
  },
  {
   "cell_type": "code",
   "execution_count": null,
   "metadata": {},
   "outputs": [],
   "source": []
  },
  {
   "cell_type": "markdown",
   "metadata": {},
   "source": [
    "# Part2"
   ]
  },
  {
   "cell_type": "code",
   "execution_count": null,
   "metadata": {},
   "outputs": [],
   "source": [
    "create a func to calc all express trains,special trains\n",
    "\n",
    "create a func to calc all different express trains,special trains \n",
    "\n",
    "Get different different trains and create dataframe of it with their count\n",
    "#columns are 'typeoftrain' and 'count'\n",
    "\n",
    "filtering all data where train is intercity express\n",
    "\n",
    "5 source stations with max frequency of a train\n",
    "\n",
    "10 end stations with max frequency of a train\n",
    "\n",
    "filtering all data where train starts from howrah junction"
   ]
  },
  {
   "cell_type": "markdown",
   "metadata": {},
   "source": [
    "# now using function"
   ]
  },
  {
   "cell_type": "markdown",
   "metadata": {},
   "source": [
    "# create a func to calc all express trains¶"
   ]
  },
  {
   "cell_type": "code",
   "execution_count": 39,
   "metadata": {},
   "outputs": [],
   "source": [
    "def count(col_name,keyword):\n",
    "    list1=list(df[col_name])\n",
    "    return (len([feature for feature in list1 if keyword in feature]))"
   ]
  },
  {
   "cell_type": "code",
   "execution_count": 31,
   "metadata": {},
   "outputs": [
    {
     "data": {
      "text/plain": [
       "2397"
      ]
     },
     "execution_count": 31,
     "metadata": {},
     "output_type": "execute_result"
    }
   ],
   "source": [
    "count('Train name','Express')"
   ]
  },
  {
   "cell_type": "code",
   "execution_count": 40,
   "metadata": {},
   "outputs": [
    {
     "data": {
      "text/plain": [
       "157"
      ]
     },
     "execution_count": 40,
     "metadata": {},
     "output_type": "execute_result"
    }
   ],
   "source": [
    "count('Train name','Passenger')"
   ]
  },
  {
   "cell_type": "markdown",
   "metadata": {},
   "source": [
    "# create a func to calc all different express trains "
   ]
  },
  {
   "cell_type": "code",
   "execution_count": 33,
   "metadata": {},
   "outputs": [],
   "source": [
    "def countdiff(col_name,keyword):\n",
    "    list1=list(df[col_name])\n",
    "    return (len(set([feature for feature in list1 if keyword in feature])))\n",
    "    "
   ]
  },
  {
   "cell_type": "code",
   "execution_count": 34,
   "metadata": {},
   "outputs": [
    {
     "data": {
      "text/plain": [
       "1634"
      ]
     },
     "execution_count": 34,
     "metadata": {},
     "output_type": "execute_result"
    }
   ],
   "source": [
    "countdiff('Train name','Express')"
   ]
  },
  {
   "cell_type": "code",
   "execution_count": 32,
   "metadata": {},
   "outputs": [
    {
     "data": {
      "text/plain": [
       "850"
      ]
     },
     "execution_count": 32,
     "metadata": {},
     "output_type": "execute_result"
    }
   ],
   "source": [
    "count('Train name','Special')"
   ]
  },
  {
   "cell_type": "code",
   "execution_count": 35,
   "metadata": {},
   "outputs": [
    {
     "data": {
      "text/plain": [
       "686"
      ]
     },
     "execution_count": 35,
     "metadata": {},
     "output_type": "execute_result"
    }
   ],
   "source": [
    "countdiff('Train name','Special')"
   ]
  },
  {
   "cell_type": "code",
   "execution_count": 37,
   "metadata": {},
   "outputs": [
    {
     "data": {
      "text/plain": [
       "2"
      ]
     },
     "execution_count": 37,
     "metadata": {},
     "output_type": "execute_result"
    }
   ],
   "source": [
    "countdiff('Train name','special')"
   ]
  },
  {
   "cell_type": "code",
   "execution_count": null,
   "metadata": {},
   "outputs": [],
   "source": []
  },
  {
   "cell_type": "code",
   "execution_count": null,
   "metadata": {},
   "outputs": [],
   "source": []
  },
  {
   "cell_type": "code",
   "execution_count": 83,
   "metadata": {},
   "outputs": [
    {
     "data": {
      "text/plain": [
       "'Pradesh'"
      ]
     },
     "execution_count": 83,
     "metadata": {},
     "output_type": "execute_result"
    }
   ],
   "source": [
    "'Andhra Pradesh Express'.split(' ')[-1]"
   ]
  },
  {
   "cell_type": "markdown",
   "metadata": {},
   "source": [
    "# Get different different trains ie their types"
   ]
  },
  {
   "cell_type": "code",
   "execution_count": 65,
   "metadata": {},
   "outputs": [],
   "source": [
    "def split(x):\n",
    "    return x.split()[-1]"
   ]
  },
  {
   "cell_type": "code",
   "execution_count": 66,
   "metadata": {},
   "outputs": [],
   "source": [
    "df['type']=df['Train name'].apply(split)"
   ]
  },
  {
   "cell_type": "code",
   "execution_count": null,
   "metadata": {},
   "outputs": [],
   "source": []
  },
  {
   "cell_type": "code",
   "execution_count": 69,
   "metadata": {},
   "outputs": [
    {
     "data": {
      "text/html": [
       "<div>\n",
       "<style scoped>\n",
       "    .dataframe tbody tr th:only-of-type {\n",
       "        vertical-align: middle;\n",
       "    }\n",
       "\n",
       "    .dataframe tbody tr th {\n",
       "        vertical-align: top;\n",
       "    }\n",
       "\n",
       "    .dataframe thead th {\n",
       "        text-align: right;\n",
       "    }\n",
       "</style>\n",
       "<table border=\"1\" class=\"dataframe\">\n",
       "  <thead>\n",
       "    <tr style=\"text-align: right;\">\n",
       "      <th></th>\n",
       "      <th>Unnamed: 0</th>\n",
       "      <th>Train no.</th>\n",
       "      <th>Train name</th>\n",
       "      <th>Starts</th>\n",
       "      <th>Ends</th>\n",
       "      <th>type</th>\n",
       "    </tr>\n",
       "  </thead>\n",
       "  <tbody>\n",
       "    <tr>\n",
       "      <td>0</td>\n",
       "      <td>0</td>\n",
       "      <td>12723</td>\n",
       "      <td>Andhra Pradesh Express</td>\n",
       "      <td>Hyderabad Decan</td>\n",
       "      <td>New Delhi</td>\n",
       "      <td>Express</td>\n",
       "    </tr>\n",
       "    <tr>\n",
       "      <td>1</td>\n",
       "      <td>1</td>\n",
       "      <td>22416</td>\n",
       "      <td>Andhra Pradesh Express</td>\n",
       "      <td>New Delhi</td>\n",
       "      <td>Vishakapatnam</td>\n",
       "      <td>Express</td>\n",
       "    </tr>\n",
       "    <tr>\n",
       "      <td>2</td>\n",
       "      <td>2</td>\n",
       "      <td>12724</td>\n",
       "      <td>Andhra Pradesh Express</td>\n",
       "      <td>New Delhi</td>\n",
       "      <td>Hyderabad Decan</td>\n",
       "      <td>Express</td>\n",
       "    </tr>\n",
       "    <tr>\n",
       "      <td>3</td>\n",
       "      <td>3</td>\n",
       "      <td>12707</td>\n",
       "      <td>Andhra Pradesh Sampark Kranti</td>\n",
       "      <td>Tirupati</td>\n",
       "      <td>H Nizamuddin</td>\n",
       "      <td>Kranti</td>\n",
       "    </tr>\n",
       "    <tr>\n",
       "      <td>4</td>\n",
       "      <td>4</td>\n",
       "      <td>15909</td>\n",
       "      <td>Abadh Assam Express</td>\n",
       "      <td>New Tinsukia Junction</td>\n",
       "      <td>Darbhanga Junction</td>\n",
       "      <td>Express</td>\n",
       "    </tr>\n",
       "  </tbody>\n",
       "</table>\n",
       "</div>"
      ],
      "text/plain": [
       "   Unnamed: 0  Train no.                     Train name  \\\n",
       "0           0      12723         Andhra Pradesh Express   \n",
       "1           1      22416         Andhra Pradesh Express   \n",
       "2           2      12724         Andhra Pradesh Express   \n",
       "3           3      12707  Andhra Pradesh Sampark Kranti   \n",
       "4           4      15909            Abadh Assam Express   \n",
       "\n",
       "                  Starts                Ends     type  \n",
       "0        Hyderabad Decan           New Delhi  Express  \n",
       "1              New Delhi       Vishakapatnam  Express  \n",
       "2              New Delhi     Hyderabad Decan  Express  \n",
       "3               Tirupati        H Nizamuddin   Kranti  \n",
       "4  New Tinsukia Junction  Darbhanga Junction  Express  "
      ]
     },
     "execution_count": 69,
     "metadata": {},
     "output_type": "execute_result"
    }
   ],
   "source": [
    "df.head()"
   ]
  },
  {
   "cell_type": "code",
   "execution_count": 72,
   "metadata": {},
   "outputs": [
    {
     "data": {
      "text/plain": [
       "2393"
      ]
     },
     "execution_count": 72,
     "metadata": {},
     "output_type": "execute_result"
    }
   ],
   "source": [
    "len(df[df['type']=='Express'])"
   ]
  },
  {
   "cell_type": "code",
   "execution_count": 74,
   "metadata": {},
   "outputs": [
    {
     "data": {
      "text/plain": [
       "array(['Express', 'Kranti', 'E', 'Passenger', 'Passengr', 'Special',\n",
       "       'Intercity', 'Premium', 'Deck', 'Rajdhani', 'Shatabdi', 'Fast',\n",
       "       'Rath', 'Shatabd', 'Duronto', 'Mail', 'Link', 'Superfast',\n",
       "       'Jnshtbdi', 'Psgr', 'Sina', 'Rajdhn', 'Janshatabdi', 'Premiu',\n",
       "       'Doubledecke', 'Psngr', 'Sbcexp', 'Ubl', 'Passenge', 'F',\n",
       "       'Supfast', 'Inaug', 'Bgktspecial', 'Pg', 'S', 'Inaugra',\n",
       "       'Chaurichauraexp', 'Pgr', 'Rajdhni', 'Garibrath', 'Rajex',\n",
       "       'Janshtbdi', 'Queen', 'Dcke', 'Duront', 'Pa', 'Train', 'Suvidh',\n",
       "       'Exxpress', 'Intcit', 'Karaikalexp', 'Ersgaribrath', 'Ranee',\n",
       "       'Janta', 'Garibrathsp', 'Ml', 'K', 'Super', 'Jsh', 'Mai', 'Okhaex',\n",
       "       'Passgn', 'Rat', 'Krant', 'Delx', 'Jnaneswarisupdl', 'Joyride',\n",
       "       'Diesel', 'Passnger', 'Dcker', 'Fastpass', 'Suvidha', 'Pgs',\n",
       "       'Pasenger', 'Jsmspl', 'Safari', 'Psr', 'Kalingautkalexp',\n",
       "       'Fastpas', 'Exres', 'Acex', 'Gr', 'Kaviguru', 'R', 'Dkr', 'Shtbd',\n",
       "       'Raj', 'Doubledecker', 'Ldweep', 'Mangaloreexp', 'Doubledeckr',\n",
       "       'Garibrat', 'Splq', 'Yuva', 'Janshatabd', 'Pasngr',\n",
       "       'Nrl/Matheranpas', 'Li', 'Patliputraexp', 'Premi', 'Holi', 'Sngrm',\n",
       "       'Motor', 'Chennamma', 'Psgnr', 'Panda', 'Nawaz', 'Intrct',\n",
       "       'Kranthi', 'Santinikatanexp', 'Santiniketanexp', 'Psgn', 'Nawaj',\n",
       "       'Fstpgr', 'Rajdhaniex', 'Rjdhani', 'Punjab', 'Bahl', 'Inter',\n",
       "       'Srijagannathexp', 'Prmiu', 'Suvdha', 'Jayanthi', 'Jayanti',\n",
       "       'Tiruchchiexp', 'Dec', 'Apexp', 'Skrantiexp', 'Ghyspecial'],\n",
       "      dtype=object)"
      ]
     },
     "execution_count": 74,
     "metadata": {},
     "output_type": "execute_result"
    }
   ],
   "source": [
    "df['type'].unique()"
   ]
  },
  {
   "cell_type": "code",
   "execution_count": 42,
   "metadata": {},
   "outputs": [
    {
     "data": {
      "text/plain": [
       "129"
      ]
     },
     "execution_count": 42,
     "metadata": {},
     "output_type": "execute_result"
    }
   ],
   "source": [
    "len(df['type'].unique())"
   ]
  },
  {
   "cell_type": "code",
   "execution_count": 45,
   "metadata": {},
   "outputs": [
    {
     "data": {
      "text/plain": [
       "Express      2393\n",
       "Special       848\n",
       "Passenger     150\n",
       "Premium        83\n",
       "Intercity      58\n",
       "Rath           43\n",
       "Mail           40\n",
       "Shatabdi       36\n",
       "E              33\n",
       "Kranti         28\n",
       "Name: type, dtype: int64"
      ]
     },
     "execution_count": 45,
     "metadata": {},
     "output_type": "execute_result"
    }
   ],
   "source": [
    "df['type'].value_counts().nlargest(10)"
   ]
  },
  {
   "cell_type": "code",
   "execution_count": 46,
   "metadata": {},
   "outputs": [
    {
     "data": {
      "text/plain": [
       "<matplotlib.axes._subplots.AxesSubplot at 0x6885eb4cc8>"
      ]
     },
     "execution_count": 46,
     "metadata": {},
     "output_type": "execute_result"
    },
    {
     "data": {
      "image/png": "[encoded data removed]",
      "text/plain": [
       "<Figure size 432x288 with 1 Axes>"
      ]
     },
     "metadata": {
      "needs_background": "light"
     },
     "output_type": "display_data"
    }
   ],
   "source": [
    "df['type'].value_counts().nlargest(10).plot.bar()"
   ]
  },
  {
   "cell_type": "code",
   "execution_count": 9,
   "metadata": {},
   "outputs": [],
   "source": [
    "value=df['type'].value_counts()"
   ]
  },
  {
   "cell_type": "code",
   "execution_count": 47,
   "metadata": {},
   "outputs": [
    {
     "data": {
      "text/html": [
       "<div>\n",
       "<style scoped>\n",
       "    .dataframe tbody tr th:only-of-type {\n",
       "        vertical-align: middle;\n",
       "    }\n",
       "\n",
       "    .dataframe tbody tr th {\n",
       "        vertical-align: top;\n",
       "    }\n",
       "\n",
       "    .dataframe thead th {\n",
       "        text-align: right;\n",
       "    }\n",
       "</style>\n",
       "<table border=\"1\" class=\"dataframe\">\n",
       "  <thead>\n",
       "    <tr style=\"text-align: right;\">\n",
       "      <th></th>\n",
       "      <th>type</th>\n",
       "    </tr>\n",
       "  </thead>\n",
       "  <tbody>\n",
       "    <tr>\n",
       "      <td>Express</td>\n",
       "      <td>2393</td>\n",
       "    </tr>\n",
       "    <tr>\n",
       "      <td>Special</td>\n",
       "      <td>848</td>\n",
       "    </tr>\n",
       "    <tr>\n",
       "      <td>Passenger</td>\n",
       "      <td>150</td>\n",
       "    </tr>\n",
       "    <tr>\n",
       "      <td>Premium</td>\n",
       "      <td>83</td>\n",
       "    </tr>\n",
       "    <tr>\n",
       "      <td>Intercity</td>\n",
       "      <td>58</td>\n",
       "    </tr>\n",
       "  </tbody>\n",
       "</table>\n",
       "</div>"
      ],
      "text/plain": [
       "           type\n",
       "Express    2393\n",
       "Special     848\n",
       "Passenger   150\n",
       "Premium      83\n",
       "Intercity    58"
      ]
     },
     "execution_count": 47,
     "metadata": {},
     "output_type": "execute_result"
    }
   ],
   "source": [
    "df2=pd.DataFrame(value)\n",
    "\n",
    "df2.head()"
   ]
  },
  {
   "cell_type": "code",
   "execution_count": null,
   "metadata": {},
   "outputs": [],
   "source": [
    "df2['type']"
   ]
  },
  {
   "cell_type": "code",
   "execution_count": 11,
   "metadata": {},
   "outputs": [
    {
     "data": {
      "text/plain": [
       "(129, 1)"
      ]
     },
     "execution_count": 11,
     "metadata": {},
     "output_type": "execute_result"
    }
   ],
   "source": [
    "df2.shape"
   ]
  },
  {
   "cell_type": "code",
   "execution_count": 48,
   "metadata": {},
   "outputs": [],
   "source": [
    "df2.reset_index(inplace=True)"
   ]
  },
  {
   "cell_type": "code",
   "execution_count": 49,
   "metadata": {},
   "outputs": [
    {
     "data": {
      "text/html": [
       "<div>\n",
       "<style scoped>\n",
       "    .dataframe tbody tr th:only-of-type {\n",
       "        vertical-align: middle;\n",
       "    }\n",
       "\n",
       "    .dataframe tbody tr th {\n",
       "        vertical-align: top;\n",
       "    }\n",
       "\n",
       "    .dataframe thead th {\n",
       "        text-align: right;\n",
       "    }\n",
       "</style>\n",
       "<table border=\"1\" class=\"dataframe\">\n",
       "  <thead>\n",
       "    <tr style=\"text-align: right;\">\n",
       "      <th></th>\n",
       "      <th>index</th>\n",
       "      <th>type</th>\n",
       "    </tr>\n",
       "  </thead>\n",
       "  <tbody>\n",
       "    <tr>\n",
       "      <td>0</td>\n",
       "      <td>Express</td>\n",
       "      <td>2393</td>\n",
       "    </tr>\n",
       "    <tr>\n",
       "      <td>1</td>\n",
       "      <td>Special</td>\n",
       "      <td>848</td>\n",
       "    </tr>\n",
       "    <tr>\n",
       "      <td>2</td>\n",
       "      <td>Passenger</td>\n",
       "      <td>150</td>\n",
       "    </tr>\n",
       "    <tr>\n",
       "      <td>3</td>\n",
       "      <td>Premium</td>\n",
       "      <td>83</td>\n",
       "    </tr>\n",
       "    <tr>\n",
       "      <td>4</td>\n",
       "      <td>Intercity</td>\n",
       "      <td>58</td>\n",
       "    </tr>\n",
       "  </tbody>\n",
       "</table>\n",
       "</div>"
      ],
      "text/plain": [
       "       index  type\n",
       "0    Express  2393\n",
       "1    Special   848\n",
       "2  Passenger   150\n",
       "3    Premium    83\n",
       "4  Intercity    58"
      ]
     },
     "execution_count": 49,
     "metadata": {},
     "output_type": "execute_result"
    }
   ],
   "source": [
    "df2.head()"
   ]
  },
  {
   "cell_type": "code",
   "execution_count": 55,
   "metadata": {},
   "outputs": [],
   "source": [
    "df2.rename(columns = {'index': 'typeoftrain','type':'count'},inplace=True)"
   ]
  },
  {
   "cell_type": "code",
   "execution_count": 56,
   "metadata": {},
   "outputs": [
    {
     "data": {
      "text/html": [
       "<div>\n",
       "<style scoped>\n",
       "    .dataframe tbody tr th:only-of-type {\n",
       "        vertical-align: middle;\n",
       "    }\n",
       "\n",
       "    .dataframe tbody tr th {\n",
       "        vertical-align: top;\n",
       "    }\n",
       "\n",
       "    .dataframe thead th {\n",
       "        text-align: right;\n",
       "    }\n",
       "</style>\n",
       "<table border=\"1\" class=\"dataframe\">\n",
       "  <thead>\n",
       "    <tr style=\"text-align: right;\">\n",
       "      <th></th>\n",
       "      <th>typeoftrain</th>\n",
       "      <th>count</th>\n",
       "    </tr>\n",
       "  </thead>\n",
       "  <tbody>\n",
       "    <tr>\n",
       "      <td>0</td>\n",
       "      <td>Express</td>\n",
       "      <td>2393</td>\n",
       "    </tr>\n",
       "    <tr>\n",
       "      <td>1</td>\n",
       "      <td>Special</td>\n",
       "      <td>848</td>\n",
       "    </tr>\n",
       "    <tr>\n",
       "      <td>2</td>\n",
       "      <td>Passenger</td>\n",
       "      <td>150</td>\n",
       "    </tr>\n",
       "    <tr>\n",
       "      <td>3</td>\n",
       "      <td>Premium</td>\n",
       "      <td>83</td>\n",
       "    </tr>\n",
       "    <tr>\n",
       "      <td>4</td>\n",
       "      <td>Intercity</td>\n",
       "      <td>58</td>\n",
       "    </tr>\n",
       "  </tbody>\n",
       "</table>\n",
       "</div>"
      ],
      "text/plain": [
       "  typeoftrain  count\n",
       "0     Express   2393\n",
       "1     Special    848\n",
       "2   Passenger    150\n",
       "3     Premium     83\n",
       "4   Intercity     58"
      ]
     },
     "execution_count": 56,
     "metadata": {},
     "output_type": "execute_result"
    }
   ],
   "source": [
    "df2.head()"
   ]
  },
  {
   "cell_type": "code",
   "execution_count": 78,
   "metadata": {},
   "outputs": [
    {
     "data": {
      "text/plain": [
       "2258"
      ]
     },
     "execution_count": 78,
     "metadata": {},
     "output_type": "execute_result"
    }
   ],
   "source": [
    "list1=list(df['Train name'])\n",
    "len([train for train in list1 if 'Express' in train and 'Superfast' not in train])"
   ]
  },
  {
   "cell_type": "code",
   "execution_count": null,
   "metadata": {},
   "outputs": [],
   "source": []
  },
  {
   "cell_type": "code",
   "execution_count": 57,
   "metadata": {},
   "outputs": [
    {
     "data": {
      "text/plain": [
       "typeoftrain    object\n",
       "count           int64\n",
       "dtype: object"
      ]
     },
     "execution_count": 57,
     "metadata": {},
     "output_type": "execute_result"
    }
   ],
   "source": [
    "df2.dtypes"
   ]
  },
  {
   "cell_type": "code",
   "execution_count": 58,
   "metadata": {},
   "outputs": [
    {
     "data": {
      "text/plain": [
       "Index(['typeoftrain', 'count'], dtype='object')"
      ]
     },
     "execution_count": 58,
     "metadata": {},
     "output_type": "execute_result"
    }
   ],
   "source": [
    "df2.columns"
   ]
  },
  {
   "cell_type": "code",
   "execution_count": 21,
   "metadata": {},
   "outputs": [
    {
     "data": {
      "text/plain": [
       "',index,type\\r\\n0,Express,2393\\r\\n1,Special,848\\r\\n2,Passenger,150\\r\\n3,Premium,83\\r\\n4,Intercity,58\\r\\n5,Rath,43\\r\\n6,Mail,40\\r\\n7,Shatabdi,36\\r\\n8,E,33\\r\\n9,Kranti,28\\r\\n10,Premiu,26\\r\\n11,Superfast,24\\r\\n12,Rajdhani,22\\r\\n13,Duronto,21\\r\\n14,Deck,10\\r\\n15,Queen,10\\r\\n16,Train,9\\r\\n17,S,8\\r\\n18,Shatabd,6\\r\\n19,Pgr,6\\r\\n20,Duront,6\\r\\n21,Janshatabdi,6\\r\\n22,Garibrath,5\\r\\n23,Pa,5\\r\\n24,Joyride,4\\r\\n25,Fast,4\\r\\n26,Psgr,4\\r\\n27,Janshtbdi,3\\r\\n28,Supfast,3\\r\\n29,Raj,3\\r\\n30,Intcit,3\\r\\n31,Fastpass,2\\r\\n32,Passenge,2\\r\\n33,Chaurichauraexp,2\\r\\n34,Pgs,2\\r\\n35,Punjab,2\\r\\n36,Jsh,2\\r\\n37,Shtbd,2\\r\\n38,Rajdhn,2\\r\\n39,Intrct,2\\r\\n40,Yuva,2\\r\\n41,Garibrat,2\\r\\n42,Dcke,2\\r\\n43,Jayanthi,2\\r\\n44,Ml,2\\r\\n45,Passengr,2\\r\\n46,Jnshtbdi,2\\r\\n47,Safari,2\\r\\n48,Psgn,2\\r\\n49,Motor,2\\r\\n50,Ranee,2\\r\\n51,Psngr,2\\r\\n52,Janshatabd,2\\r\\n53,Link,2\\r\\n54,Krant,2\\r\\n55,Dcker,2\\r\\n56,Rajdhni,2\\r\\n57,Rajdhaniex,1\\r\\n58,Tiruchchiexp,1\\r\\n59,Fastpas,1\\r\\n60,Li,1\\r\\n61,Psgnr,1\\r\\n62,Exxpress,1\\r\\n63,Pasngr,1\\r\\n64,Suvidh,1\\r\\n65,Nrl/Matheranpas,1\\r\\n66,Patliputraexp,1\\r\\n67,Skrantiexp,1\\r\\n68,Chennamma,1\\r\\n69,Karaikalexp,1\\r\\n70,Santiniketanexp,1\\r\\n71,Diesel,1\\r\\n72,Holi,1\\r\\n73,Nawaz,1\\r\\n74,Sina,1\\r\\n75,Psr,1\\r\\n76,Rjdhani,1\\r\\n77,Jayanti,1\\r\\n78,Passgn,1\\r\\n79,K,1\\r\\n80,Apexp,1\\r\\n81,Acex,1\\r\\n82,Doubledecker,1\\r\\n83,Splq,1\\r\\n84,Doubledeckr,1\\r\\n85,Santinikatanexp,1\\r\\n86,Inaugra,1\\r\\n87,Jnaneswarisupdl,1\\r\\n88,Nawaj,1\\r\\n89,Doubledecke,1\\r\\n90,Delx,1\\r\\n91,Jsmspl,1\\r\\n92,Ghyspecial,1\\r\\n93,Srijagannathexp,1\\r\\n94,Passnger,1\\r\\n95,Premi,1\\r\\n96,Rajex,1\\r\\n97,Kaviguru,1\\r\\n98,Dec,1\\r\\n99,Ersgaribrath,1\\r\\n100,Garibrathsp,1\\r\\n101,Suvidha,1\\r\\n102,Pg,1\\r\\n103,Inter,1\\r\\n104,Bgktspecial,1\\r\\n105,Ldweep,1\\r\\n106,Panda,1\\r\\n107,Fstpgr,1\\r\\n108,Gr,1\\r\\n109,Mangaloreexp,1\\r\\n110,Inaug,1\\r\\n111,Suvdha,1\\r\\n112,Mai,1\\r\\n113,Bahl,1\\r\\n114,Janta,1\\r\\n115,Okhaex,1\\r\\n116,Rat,1\\r\\n117,Dkr,1\\r\\n118,Kranthi,1\\r\\n119,Kalingautkalexp,1\\r\\n120,Super,1\\r\\n121,Sngrm,1\\r\\n122,Sbcexp,1\\r\\n123,R,1\\r\\n124,Exres,1\\r\\n125,Pasenger,1\\r\\n126,F,1\\r\\n127,Prmiu,1\\r\\n128,Ubl,1\\r\\n'"
      ]
     },
     "execution_count": 21,
     "metadata": {},
     "output_type": "execute_result"
    }
   ],
   "source": [
    "df2.to_csv()"
   ]
  },
  {
   "cell_type": "code",
   "execution_count": null,
   "metadata": {},
   "outputs": [],
   "source": []
  },
  {
   "cell_type": "code",
   "execution_count": null,
   "metadata": {},
   "outputs": [],
   "source": []
  },
  {
   "cell_type": "code",
   "execution_count": 75,
   "metadata": {},
   "outputs": [
    {
     "data": {
      "text/html": [
       "<div>\n",
       "<style scoped>\n",
       "    .dataframe tbody tr th:only-of-type {\n",
       "        vertical-align: middle;\n",
       "    }\n",
       "\n",
       "    .dataframe tbody tr th {\n",
       "        vertical-align: top;\n",
       "    }\n",
       "\n",
       "    .dataframe thead th {\n",
       "        text-align: right;\n",
       "    }\n",
       "</style>\n",
       "<table border=\"1\" class=\"dataframe\">\n",
       "  <thead>\n",
       "    <tr style=\"text-align: right;\">\n",
       "      <th></th>\n",
       "      <th>Unnamed: 0</th>\n",
       "      <th>Train no.</th>\n",
       "      <th>Train name</th>\n",
       "      <th>Starts</th>\n",
       "      <th>Ends</th>\n",
       "      <th>type</th>\n",
       "    </tr>\n",
       "  </thead>\n",
       "  <tbody>\n",
       "    <tr>\n",
       "      <td>0</td>\n",
       "      <td>0</td>\n",
       "      <td>12723</td>\n",
       "      <td>Andhra Pradesh Express</td>\n",
       "      <td>Hyderabad Decan</td>\n",
       "      <td>New Delhi</td>\n",
       "      <td>Express</td>\n",
       "    </tr>\n",
       "    <tr>\n",
       "      <td>1</td>\n",
       "      <td>1</td>\n",
       "      <td>22416</td>\n",
       "      <td>Andhra Pradesh Express</td>\n",
       "      <td>New Delhi</td>\n",
       "      <td>Vishakapatnam</td>\n",
       "      <td>Express</td>\n",
       "    </tr>\n",
       "    <tr>\n",
       "      <td>2</td>\n",
       "      <td>2</td>\n",
       "      <td>12724</td>\n",
       "      <td>Andhra Pradesh Express</td>\n",
       "      <td>New Delhi</td>\n",
       "      <td>Hyderabad Decan</td>\n",
       "      <td>Express</td>\n",
       "    </tr>\n",
       "    <tr>\n",
       "      <td>3</td>\n",
       "      <td>3</td>\n",
       "      <td>12707</td>\n",
       "      <td>Andhra Pradesh Sampark Kranti</td>\n",
       "      <td>Tirupati</td>\n",
       "      <td>H Nizamuddin</td>\n",
       "      <td>Kranti</td>\n",
       "    </tr>\n",
       "    <tr>\n",
       "      <td>4</td>\n",
       "      <td>4</td>\n",
       "      <td>15909</td>\n",
       "      <td>Abadh Assam Express</td>\n",
       "      <td>New Tinsukia Junction</td>\n",
       "      <td>Darbhanga Junction</td>\n",
       "      <td>Express</td>\n",
       "    </tr>\n",
       "  </tbody>\n",
       "</table>\n",
       "</div>"
      ],
      "text/plain": [
       "   Unnamed: 0  Train no.                     Train name  \\\n",
       "0           0      12723         Andhra Pradesh Express   \n",
       "1           1      22416         Andhra Pradesh Express   \n",
       "2           2      12724         Andhra Pradesh Express   \n",
       "3           3      12707  Andhra Pradesh Sampark Kranti   \n",
       "4           4      15909            Abadh Assam Express   \n",
       "\n",
       "                  Starts                Ends     type  \n",
       "0        Hyderabad Decan           New Delhi  Express  \n",
       "1              New Delhi       Vishakapatnam  Express  \n",
       "2              New Delhi     Hyderabad Decan  Express  \n",
       "3               Tirupati        H Nizamuddin   Kranti  \n",
       "4  New Tinsukia Junction  Darbhanga Junction  Express  "
      ]
     },
     "execution_count": 75,
     "metadata": {},
     "output_type": "execute_result"
    }
   ],
   "source": [
    "df.head()"
   ]
  },
  {
   "cell_type": "markdown",
   "metadata": {},
   "source": [
    "# 10 end stations with max frequency of a train"
   ]
  },
  {
   "cell_type": "code",
   "execution_count": 7,
   "metadata": {},
   "outputs": [
    {
     "data": {
      "text/plain": [
       "<matplotlib.axes._subplots.AxesSubplot at 0xda38065ac8>"
      ]
     },
     "execution_count": 7,
     "metadata": {},
     "output_type": "execute_result"
    },
    {
     "data": {
      "image/png": "[encoded data removed]",
      "text/plain": [
       "<Figure size 432x288 with 1 Axes>"
      ]
     },
     "metadata": {
      "needs_background": "light"
     },
     "output_type": "display_data"
    }
   ],
   "source": [
    "df['Ends'].value_counts().nlargest(10).plot.bar()"
   ]
  },
  {
   "cell_type": "markdown",
   "metadata": {},
   "source": [
    "# filtering all data where train is intercity express"
   ]
  },
  {
   "cell_type": "code",
   "execution_count": 8,
   "metadata": {},
   "outputs": [
    {
     "data": {
      "text/plain": [
       "(45, 5)"
      ]
     },
     "execution_count": 8,
     "metadata": {},
     "output_type": "execute_result"
    }
   ],
   "source": [
    "\n",
    "filt=df['Train name']=='Intercity Express'\n",
    "df_inter=df[filt]\n",
    "df_inter.shape"
   ]
  },
  {
   "cell_type": "markdown",
   "metadata": {},
   "source": [
    "# 5 source stations with max frequency of a train"
   ]
  },
  {
   "cell_type": "code",
   "execution_count": 9,
   "metadata": {},
   "outputs": [
    {
     "data": {
      "text/plain": [
       "<matplotlib.axes._subplots.AxesSubplot at 0xda3811b648>"
      ]
     },
     "execution_count": 9,
     "metadata": {},
     "output_type": "execute_result"
    },
    {
     "data": {
      "image/png": "[encoded data removed]",
      "text/plain": [
       "<Figure size 432x288 with 1 Axes>"
      ]
     },
     "metadata": {
      "needs_background": "light"
     },
     "output_type": "display_data"
    }
   ],
   "source": [
    "\n",
    "df_inter['Starts'].value_counts().nlargest(5).plot.bar()"
   ]
  },
  {
   "cell_type": "markdown",
   "metadata": {},
   "source": [
    "# filtering all data where train starts from howrah junction"
   ]
  },
  {
   "cell_type": "code",
   "execution_count": 87,
   "metadata": {},
   "outputs": [
    {
     "data": {
      "text/html": [
       "<div>\n",
       "<style scoped>\n",
       "    .dataframe tbody tr th:only-of-type {\n",
       "        vertical-align: middle;\n",
       "    }\n",
       "\n",
       "    .dataframe tbody tr th {\n",
       "        vertical-align: top;\n",
       "    }\n",
       "\n",
       "    .dataframe thead th {\n",
       "        text-align: right;\n",
       "    }\n",
       "</style>\n",
       "<table border=\"1\" class=\"dataframe\">\n",
       "  <thead>\n",
       "    <tr style=\"text-align: right;\">\n",
       "      <th></th>\n",
       "      <th>Unnamed: 0</th>\n",
       "      <th>Train no.</th>\n",
       "      <th>Train name</th>\n",
       "      <th>Starts</th>\n",
       "      <th>Ends</th>\n",
       "    </tr>\n",
       "  </thead>\n",
       "  <tbody>\n",
       "    <tr>\n",
       "      <td>50</td>\n",
       "      <td>50</td>\n",
       "      <td>12341</td>\n",
       "      <td>Agnibina Express</td>\n",
       "      <td>Howrah Junction</td>\n",
       "      <td>Asansol Junction</td>\n",
       "    </tr>\n",
       "    <tr>\n",
       "      <td>154</td>\n",
       "      <td>154</td>\n",
       "      <td>18047</td>\n",
       "      <td>Amaravathi Express</td>\n",
       "      <td>Howrah Junction</td>\n",
       "      <td>Vasco Da Gama</td>\n",
       "    </tr>\n",
       "    <tr>\n",
       "      <td>174</td>\n",
       "      <td>174</td>\n",
       "      <td>13049</td>\n",
       "      <td>Amritsar Express</td>\n",
       "      <td>Howrah Junction</td>\n",
       "      <td>Amritsar Junction</td>\n",
       "    </tr>\n",
       "    <tr>\n",
       "      <td>176</td>\n",
       "      <td>176</td>\n",
       "      <td>13005</td>\n",
       "      <td>Amritsar Mail</td>\n",
       "      <td>Howrah Junction</td>\n",
       "      <td>Amritsar Junction</td>\n",
       "    </tr>\n",
       "    <tr>\n",
       "      <td>285</td>\n",
       "      <td>285</td>\n",
       "      <td>12130</td>\n",
       "      <td>Azad Hind Express</td>\n",
       "      <td>Howrah Junction</td>\n",
       "      <td>Pune Junction</td>\n",
       "    </tr>\n",
       "  </tbody>\n",
       "</table>\n",
       "</div>"
      ],
      "text/plain": [
       "     Unnamed: 0  Train no.          Train name           Starts  \\\n",
       "50           50      12341    Agnibina Express  Howrah Junction   \n",
       "154         154      18047  Amaravathi Express  Howrah Junction   \n",
       "174         174      13049    Amritsar Express  Howrah Junction   \n",
       "176         176      13005       Amritsar Mail  Howrah Junction   \n",
       "285         285      12130   Azad Hind Express  Howrah Junction   \n",
       "\n",
       "                  Ends  \n",
       "50    Asansol Junction  \n",
       "154      Vasco Da Gama  \n",
       "174  Amritsar Junction  \n",
       "176  Amritsar Junction  \n",
       "285      Pune Junction  "
      ]
     },
     "execution_count": 87,
     "metadata": {},
     "output_type": "execute_result"
    }
   ],
   "source": [
    "\n",
    "df_howrah=df[df['Starts']=='Howrah Junction']\n",
    "df_howrah.head()"
   ]
  },
  {
   "cell_type": "code",
   "execution_count": 88,
   "metadata": {},
   "outputs": [
    {
     "data": {
      "text/plain": [
       "Howrah Junction    126\n",
       "Name: Starts, dtype: int64"
      ]
     },
     "execution_count": 88,
     "metadata": {},
     "output_type": "execute_result"
    }
   ],
   "source": [
    "df_howrah['Starts'].value_counts().nlargest(5)"
   ]
  },
  {
   "cell_type": "code",
   "execution_count": 13,
   "metadata": {},
   "outputs": [
    {
     "data": {
      "text/plain": [
       "Howrah Junction          126\n",
       "New Delhi                120\n",
       "Lokmanyatilak T          115\n",
       "Chennai Central           98\n",
       "Yesvantpur Junction       84\n",
       "Secunderabad Junction     81\n",
       "Pune Junction             76\n",
       "Patna Junction            69\n",
       "Mumbai Cst                69\n",
       "Bandra Terminus           67\n",
       "Name: Starts, dtype: int64"
      ]
     },
     "execution_count": 13,
     "metadata": {},
     "output_type": "execute_result"
    }
   ],
   "source": [
    "city=df['Starts'].value_counts().nlargest(10)\n",
    "city"
   ]
  },
  {
   "cell_type": "markdown",
   "metadata": {},
   "source": [
    "# Part3"
   ]
  },
  {
   "cell_type": "code",
   "execution_count": null,
   "metadata": {},
   "outputs": [],
   "source": [
    "filtering all data where train ends at new delhi\n",
    "#all trains name whose destination is new delhi,and origin is howrah\n",
    "#create a function that will grab data where destination is new delhi,and origin is howrah\n",
    "whose start is either new delhi or mumbai\n",
    "whose start is either either delhi or mumbai but ends at lucknow\n",
    "find all trains start from 12 as they are superfast trains"
   ]
  },
  {
   "cell_type": "markdown",
   "metadata": {},
   "source": [
    "# filtering all data where train ends at new delhi"
   ]
  },
  {
   "cell_type": "code",
   "execution_count": 14,
   "metadata": {},
   "outputs": [
    {
     "data": {
      "text/plain": [
       "(123, 5)"
      ]
     },
     "execution_count": 14,
     "metadata": {},
     "output_type": "execute_result"
    }
   ],
   "source": [
    "\n",
    "df_end_delhi=df[df['Ends']=='New Delhi']\n",
    "df_end_delhi.shape\n"
   ]
  },
  {
   "cell_type": "code",
   "execution_count": 15,
   "metadata": {},
   "outputs": [
    {
     "data": {
      "text/plain": [
       "array(['Hyderabad Decan', 'Ajmer Junction', 'Allahabad Junction',\n",
       "       'Amritsar Junction', 'Bhubaneswar', 'Mumbai Central', 'Bhagalpur',\n",
       "       'Darbhanga Junction', 'Barauni Junction', 'Varanasi Junction',\n",
       "       'Bilaspur Junction', 'Bhatinda Junction', 'Chandigarh',\n",
       "       'Kanpur Central', 'Dibrugarh', 'Dibrugarh Town', 'Dehradun',\n",
       "       'Lucknow Nr', 'Chennai Central', 'Howrah Junction', 'Agra Cantt',\n",
       "       'Bareilly', 'Jammu Tawi', 'Jabalpur', 'Ranchi', 'Jalandhar City',\n",
       "       'Kalka', 'Bangalore Cy Junction', 'Trivandrum Cntl', 'Kolkata',\n",
       "       'Kamakhya', 'Ludhiana Junction', 'Lucknow Ne', 'Lal Kuan',\n",
       "       'Islampur', 'Gaya Junction', 'Madgaon', 'Puri', 'Sealdah',\n",
       "       'Una Himachal', 'Sainagar Shirdi', 'Shmata V D Ktra', 'Moga',\n",
       "       'Habibganj', 'Malda Town', 'Naharlagun', 'New Jalpaiguri',\n",
       "       'Puducherry', 'Patna Junction', 'Guwahati', 'Silchar',\n",
       "       'Rjndr Ngr Bihar', 'Rohtak Junction', 'Manduadih', 'Rajgir',\n",
       "       'Ahmedabad Junction', 'Udhampur', 'Vishakapatnam',\n",
       "       'Yesvantpur Junction'], dtype=object)"
      ]
     },
     "execution_count": 15,
     "metadata": {},
     "output_type": "execute_result"
    }
   ],
   "source": [
    "df_end_delhi['Starts'].unique()"
   ]
  },
  {
   "cell_type": "markdown",
   "metadata": {},
   "source": [
    "# all trains name whose destination is new delhi,and origin is howrah"
   ]
  },
  {
   "cell_type": "code",
   "execution_count": 89,
   "metadata": {},
   "outputs": [
    {
     "data": {
      "text/html": [
       "<div>\n",
       "<style scoped>\n",
       "    .dataframe tbody tr th:only-of-type {\n",
       "        vertical-align: middle;\n",
       "    }\n",
       "\n",
       "    .dataframe tbody tr th {\n",
       "        vertical-align: top;\n",
       "    }\n",
       "\n",
       "    .dataframe thead th {\n",
       "        text-align: right;\n",
       "    }\n",
       "</style>\n",
       "<table border=\"1\" class=\"dataframe\">\n",
       "  <thead>\n",
       "    <tr style=\"text-align: right;\">\n",
       "      <th></th>\n",
       "      <th>Unnamed: 0</th>\n",
       "      <th>Train no.</th>\n",
       "      <th>Train name</th>\n",
       "      <th>Starts</th>\n",
       "      <th>Ends</th>\n",
       "    </tr>\n",
       "  </thead>\n",
       "  <tbody>\n",
       "    <tr>\n",
       "      <td>1452</td>\n",
       "      <td>515</td>\n",
       "      <td>12323</td>\n",
       "      <td>Hwh Ndls Express</td>\n",
       "      <td>Howrah Junction</td>\n",
       "      <td>New Delhi</td>\n",
       "    </tr>\n",
       "    <tr>\n",
       "      <td>1453</td>\n",
       "      <td>516</td>\n",
       "      <td>12249</td>\n",
       "      <td>Hwh Ndls Yuva E</td>\n",
       "      <td>Howrah Junction</td>\n",
       "      <td>New Delhi</td>\n",
       "    </tr>\n",
       "    <tr>\n",
       "      <td>1987</td>\n",
       "      <td>83</td>\n",
       "      <td>12301</td>\n",
       "      <td>Kolkata Rajdhni</td>\n",
       "      <td>Howrah Junction</td>\n",
       "      <td>New Delhi</td>\n",
       "    </tr>\n",
       "    <tr>\n",
       "      <td>1988</td>\n",
       "      <td>84</td>\n",
       "      <td>12305</td>\n",
       "      <td>Kolkata Rajdhani</td>\n",
       "      <td>Howrah Junction</td>\n",
       "      <td>New Delhi</td>\n",
       "    </tr>\n",
       "    <tr>\n",
       "      <td>2540</td>\n",
       "      <td>636</td>\n",
       "      <td>12273</td>\n",
       "      <td>Ndls Duronto</td>\n",
       "      <td>Howrah Junction</td>\n",
       "      <td>New Delhi</td>\n",
       "    </tr>\n",
       "  </tbody>\n",
       "</table>\n",
       "</div>"
      ],
      "text/plain": [
       "      Unnamed: 0  Train no.        Train name           Starts       Ends\n",
       "1452         515      12323  Hwh Ndls Express  Howrah Junction  New Delhi\n",
       "1453         516      12249   Hwh Ndls Yuva E  Howrah Junction  New Delhi\n",
       "1987          83      12301   Kolkata Rajdhni  Howrah Junction  New Delhi\n",
       "1988          84      12305  Kolkata Rajdhani  Howrah Junction  New Delhi\n",
       "2540         636      12273      Ndls Duronto  Howrah Junction  New Delhi"
      ]
     },
     "execution_count": 89,
     "metadata": {},
     "output_type": "execute_result"
    }
   ],
   "source": [
    "\n",
    "filt=(df['Starts']=='Howrah Junction') & (df['Ends']=='New Delhi')\n",
    "df_howrah_delhi=df[filt]\n",
    "df_howrah_delhi.head()"
   ]
  },
  {
   "cell_type": "markdown",
   "metadata": {},
   "source": [
    "# #create a function that will grab data where destination is new delhi,and origin is howrah"
   ]
  },
  {
   "cell_type": "code",
   "execution_count": 71,
   "metadata": {},
   "outputs": [],
   "source": [
    "\n",
    "def dataframe(df,source_name,destination):\n",
    "    filt=(df['Starts']==source_name) & (df['Ends']==destination)\n",
    "    df_output=df[filt]\n",
    "    return (df_output.head())\n",
    "    "
   ]
  },
  {
   "cell_type": "code",
   "execution_count": 73,
   "metadata": {},
   "outputs": [
    {
     "data": {
      "text/html": [
       "<div>\n",
       "<style scoped>\n",
       "    .dataframe tbody tr th:only-of-type {\n",
       "        vertical-align: middle;\n",
       "    }\n",
       "\n",
       "    .dataframe tbody tr th {\n",
       "        vertical-align: top;\n",
       "    }\n",
       "\n",
       "    .dataframe thead th {\n",
       "        text-align: right;\n",
       "    }\n",
       "</style>\n",
       "<table border=\"1\" class=\"dataframe\">\n",
       "  <thead>\n",
       "    <tr style=\"text-align: right;\">\n",
       "      <th></th>\n",
       "      <th>Unnamed: 0</th>\n",
       "      <th>Train no.</th>\n",
       "      <th>Train name</th>\n",
       "      <th>Starts</th>\n",
       "      <th>Ends</th>\n",
       "    </tr>\n",
       "  </thead>\n",
       "  <tbody>\n",
       "    <tr>\n",
       "      <td>1452</td>\n",
       "      <td>515</td>\n",
       "      <td>12323</td>\n",
       "      <td>Hwh Ndls Express</td>\n",
       "      <td>Howrah Junction</td>\n",
       "      <td>New Delhi</td>\n",
       "    </tr>\n",
       "    <tr>\n",
       "      <td>1453</td>\n",
       "      <td>516</td>\n",
       "      <td>12249</td>\n",
       "      <td>Hwh Ndls Yuva E</td>\n",
       "      <td>Howrah Junction</td>\n",
       "      <td>New Delhi</td>\n",
       "    </tr>\n",
       "    <tr>\n",
       "      <td>1987</td>\n",
       "      <td>83</td>\n",
       "      <td>12301</td>\n",
       "      <td>Kolkata Rajdhni</td>\n",
       "      <td>Howrah Junction</td>\n",
       "      <td>New Delhi</td>\n",
       "    </tr>\n",
       "    <tr>\n",
       "      <td>1988</td>\n",
       "      <td>84</td>\n",
       "      <td>12305</td>\n",
       "      <td>Kolkata Rajdhani</td>\n",
       "      <td>Howrah Junction</td>\n",
       "      <td>New Delhi</td>\n",
       "    </tr>\n",
       "    <tr>\n",
       "      <td>2540</td>\n",
       "      <td>636</td>\n",
       "      <td>12273</td>\n",
       "      <td>Ndls Duronto</td>\n",
       "      <td>Howrah Junction</td>\n",
       "      <td>New Delhi</td>\n",
       "    </tr>\n",
       "  </tbody>\n",
       "</table>\n",
       "</div>"
      ],
      "text/plain": [
       "      Unnamed: 0 Train no.        Train name           Starts       Ends\n",
       "1452         515     12323  Hwh Ndls Express  Howrah Junction  New Delhi\n",
       "1453         516     12249   Hwh Ndls Yuva E  Howrah Junction  New Delhi\n",
       "1987          83     12301   Kolkata Rajdhni  Howrah Junction  New Delhi\n",
       "1988          84     12305  Kolkata Rajdhani  Howrah Junction  New Delhi\n",
       "2540         636     12273      Ndls Duronto  Howrah Junction  New Delhi"
      ]
     },
     "execution_count": 73,
     "metadata": {},
     "output_type": "execute_result"
    }
   ],
   "source": [
    "dataframe(df,'Howrah Junction','New Delhi')"
   ]
  },
  {
   "cell_type": "markdown",
   "metadata": {},
   "source": [
    "# whose start is either new delhi or mumbai"
   ]
  },
  {
   "cell_type": "code",
   "execution_count": 18,
   "metadata": {},
   "outputs": [
    {
     "data": {
      "text/html": [
       "<div>\n",
       "<style scoped>\n",
       "    .dataframe tbody tr th:only-of-type {\n",
       "        vertical-align: middle;\n",
       "    }\n",
       "\n",
       "    .dataframe tbody tr th {\n",
       "        vertical-align: top;\n",
       "    }\n",
       "\n",
       "    .dataframe thead th {\n",
       "        text-align: right;\n",
       "    }\n",
       "</style>\n",
       "<table border=\"1\" class=\"dataframe\">\n",
       "  <thead>\n",
       "    <tr style=\"text-align: right;\">\n",
       "      <th></th>\n",
       "      <th>Unnamed: 0</th>\n",
       "      <th>Train no.</th>\n",
       "      <th>Train name</th>\n",
       "      <th>Starts</th>\n",
       "      <th>Ends</th>\n",
       "    </tr>\n",
       "  </thead>\n",
       "  <tbody>\n",
       "    <tr>\n",
       "      <td>1</td>\n",
       "      <td>1</td>\n",
       "      <td>22416</td>\n",
       "      <td>Andhra Pradesh Express</td>\n",
       "      <td>New Delhi</td>\n",
       "      <td>Vishakapatnam</td>\n",
       "    </tr>\n",
       "    <tr>\n",
       "      <td>2</td>\n",
       "      <td>2</td>\n",
       "      <td>12724</td>\n",
       "      <td>Andhra Pradesh Express</td>\n",
       "      <td>New Delhi</td>\n",
       "      <td>Hyderabad Decan</td>\n",
       "    </tr>\n",
       "    <tr>\n",
       "      <td>21</td>\n",
       "      <td>21</td>\n",
       "      <td>12931</td>\n",
       "      <td>Adi Double Deck</td>\n",
       "      <td>Mumbai Central</td>\n",
       "      <td>Ahmedabad Junction</td>\n",
       "    </tr>\n",
       "    <tr>\n",
       "      <td>22</td>\n",
       "      <td>22</td>\n",
       "      <td>12267</td>\n",
       "      <td>Adi Duronto Express</td>\n",
       "      <td>Mumbai Central</td>\n",
       "      <td>Ahmedabad Junction</td>\n",
       "    </tr>\n",
       "    <tr>\n",
       "      <td>35</td>\n",
       "      <td>35</td>\n",
       "      <td>12958</td>\n",
       "      <td>Adi Sj Rajdhani</td>\n",
       "      <td>New Delhi</td>\n",
       "      <td>Ahmedabad Junction</td>\n",
       "    </tr>\n",
       "  </tbody>\n",
       "</table>\n",
       "</div>"
      ],
      "text/plain": [
       "    Unnamed: 0  Train no.              Train name          Starts  \\\n",
       "1            1      22416  Andhra Pradesh Express       New Delhi   \n",
       "2            2      12724  Andhra Pradesh Express       New Delhi   \n",
       "21          21      12931         Adi Double Deck  Mumbai Central   \n",
       "22          22      12267     Adi Duronto Express  Mumbai Central   \n",
       "35          35      12958         Adi Sj Rajdhani       New Delhi   \n",
       "\n",
       "                  Ends  \n",
       "1        Vishakapatnam  \n",
       "2      Hyderabad Decan  \n",
       "21  Ahmedabad Junction  \n",
       "22  Ahmedabad Junction  \n",
       "35  Ahmedabad Junction  "
      ]
     },
     "execution_count": 18,
     "metadata": {},
     "output_type": "execute_result"
    }
   ],
   "source": [
    "\n",
    "filt_3=(df['Starts']=='New Delhi') | (df['Starts']=='Mumbai Central')\n",
    "df_nd_mumbai=df[filt_3]\n",
    "df_nd_mumbai.head()"
   ]
  },
  {
   "cell_type": "markdown",
   "metadata": {},
   "source": [
    "# whose start is either either delhi or mumbai but ends at lucknow"
   ]
  },
  {
   "cell_type": "code",
   "execution_count": 92,
   "metadata": {},
   "outputs": [
    {
     "data": {
      "text/html": [
       "<div>\n",
       "<style scoped>\n",
       "    .dataframe tbody tr th:only-of-type {\n",
       "        vertical-align: middle;\n",
       "    }\n",
       "\n",
       "    .dataframe tbody tr th {\n",
       "        vertical-align: top;\n",
       "    }\n",
       "\n",
       "    .dataframe thead th {\n",
       "        text-align: right;\n",
       "    }\n",
       "</style>\n",
       "<table border=\"1\" class=\"dataframe\">\n",
       "  <thead>\n",
       "    <tr style=\"text-align: right;\">\n",
       "      <th></th>\n",
       "      <th>Unnamed: 0</th>\n",
       "      <th>Train no.</th>\n",
       "      <th>Train name</th>\n",
       "      <th>Starts</th>\n",
       "      <th>Ends</th>\n",
       "    </tr>\n",
       "  </thead>\n",
       "  <tbody>\n",
       "    <tr>\n",
       "      <td>1240</td>\n",
       "      <td>303</td>\n",
       "      <td>12420</td>\n",
       "      <td>Gomti Express</td>\n",
       "      <td>New Delhi</td>\n",
       "      <td>Lucknow Nr</td>\n",
       "    </tr>\n",
       "    <tr>\n",
       "      <td>2148</td>\n",
       "      <td>244</td>\n",
       "      <td>12272</td>\n",
       "      <td>Lko Duronto Express</td>\n",
       "      <td>New Delhi</td>\n",
       "      <td>Lucknow Nr</td>\n",
       "    </tr>\n",
       "    <tr>\n",
       "      <td>2260</td>\n",
       "      <td>356</td>\n",
       "      <td>12230</td>\n",
       "      <td>Lucknow Mail</td>\n",
       "      <td>New Delhi</td>\n",
       "      <td>Lucknow Nr</td>\n",
       "    </tr>\n",
       "    <tr>\n",
       "      <td>2574</td>\n",
       "      <td>670</td>\n",
       "      <td>2234</td>\n",
       "      <td>Ndls Lko Ac Special</td>\n",
       "      <td>New Delhi</td>\n",
       "      <td>Lucknow Nr</td>\n",
       "    </tr>\n",
       "    <tr>\n",
       "      <td>2575</td>\n",
       "      <td>671</td>\n",
       "      <td>4440</td>\n",
       "      <td>Ndls Lko Ac Special</td>\n",
       "      <td>New Delhi</td>\n",
       "      <td>Lucknow Nr</td>\n",
       "    </tr>\n",
       "    <tr>\n",
       "      <td>2576</td>\n",
       "      <td>672</td>\n",
       "      <td>4934</td>\n",
       "      <td>Ndls Lko Premiu</td>\n",
       "      <td>New Delhi</td>\n",
       "      <td>Lucknow Nr</td>\n",
       "    </tr>\n",
       "    <tr>\n",
       "      <td>2577</td>\n",
       "      <td>673</td>\n",
       "      <td>4944</td>\n",
       "      <td>Ndls Lko Premiu</td>\n",
       "      <td>New Delhi</td>\n",
       "      <td>Lucknow Nr</td>\n",
       "    </tr>\n",
       "    <tr>\n",
       "      <td>2578</td>\n",
       "      <td>674</td>\n",
       "      <td>12430</td>\n",
       "      <td>Ndls Lko Raj</td>\n",
       "      <td>New Delhi</td>\n",
       "      <td>Lucknow Nr</td>\n",
       "    </tr>\n",
       "    <tr>\n",
       "      <td>2579</td>\n",
       "      <td>675</td>\n",
       "      <td>4434</td>\n",
       "      <td>Ndls Lko Special</td>\n",
       "      <td>New Delhi</td>\n",
       "      <td>Lucknow Nr</td>\n",
       "    </tr>\n",
       "    <tr>\n",
       "      <td>2580</td>\n",
       "      <td>676</td>\n",
       "      <td>4942</td>\n",
       "      <td>Ndls Lko Special</td>\n",
       "      <td>New Delhi</td>\n",
       "      <td>Lucknow Nr</td>\n",
       "    </tr>\n",
       "    <tr>\n",
       "      <td>2581</td>\n",
       "      <td>677</td>\n",
       "      <td>4030</td>\n",
       "      <td>Ndls Lko Special</td>\n",
       "      <td>New Delhi</td>\n",
       "      <td>Lucknow Nr</td>\n",
       "    </tr>\n",
       "    <tr>\n",
       "      <td>2582</td>\n",
       "      <td>678</td>\n",
       "      <td>4202</td>\n",
       "      <td>Ndls Lko Special</td>\n",
       "      <td>New Delhi</td>\n",
       "      <td>Lucknow Nr</td>\n",
       "    </tr>\n",
       "  </tbody>\n",
       "</table>\n",
       "</div>"
      ],
      "text/plain": [
       "      Unnamed: 0  Train no.           Train name     Starts        Ends\n",
       "1240         303      12420        Gomti Express  New Delhi  Lucknow Nr\n",
       "2148         244      12272  Lko Duronto Express  New Delhi  Lucknow Nr\n",
       "2260         356      12230         Lucknow Mail  New Delhi  Lucknow Nr\n",
       "2574         670       2234  Ndls Lko Ac Special  New Delhi  Lucknow Nr\n",
       "2575         671       4440  Ndls Lko Ac Special  New Delhi  Lucknow Nr\n",
       "2576         672       4934      Ndls Lko Premiu  New Delhi  Lucknow Nr\n",
       "2577         673       4944      Ndls Lko Premiu  New Delhi  Lucknow Nr\n",
       "2578         674      12430         Ndls Lko Raj  New Delhi  Lucknow Nr\n",
       "2579         675       4434     Ndls Lko Special  New Delhi  Lucknow Nr\n",
       "2580         676       4942     Ndls Lko Special  New Delhi  Lucknow Nr\n",
       "2581         677       4030     Ndls Lko Special  New Delhi  Lucknow Nr\n",
       "2582         678       4202     Ndls Lko Special  New Delhi  Lucknow Nr"
      ]
     },
     "execution_count": 92,
     "metadata": {},
     "output_type": "execute_result"
    }
   ],
   "source": [
    "\n",
    "\n",
    "filt_4=((df['Starts']=='New Delhi') | (df['Starts']=='Mumbai Central')) & (df['Ends']=='Lucknow Nr')\n",
    "df_nd_mum_lko=df[filt_4]\n",
    "df_nd_mum_lko"
   ]
  },
  {
   "cell_type": "markdown",
   "metadata": {},
   "source": [
    "# find all trains start from 12 as they are superfast trains"
   ]
  },
  {
   "cell_type": "code",
   "execution_count": 102,
   "metadata": {},
   "outputs": [],
   "source": [
    "df['Train no.']=df['Train no.'].astype(str)"
   ]
  },
  {
   "cell_type": "code",
   "execution_count": 100,
   "metadata": {},
   "outputs": [],
   "source": [
    "def split(x):\n",
    "    return x[0:2]"
   ]
  },
  {
   "cell_type": "code",
   "execution_count": 103,
   "metadata": {},
   "outputs": [],
   "source": [
    "df['initial']=df['Train no.'].apply(split)"
   ]
  },
  {
   "cell_type": "code",
   "execution_count": 104,
   "metadata": {},
   "outputs": [
    {
     "data": {
      "text/html": [
       "<div>\n",
       "<style scoped>\n",
       "    .dataframe tbody tr th:only-of-type {\n",
       "        vertical-align: middle;\n",
       "    }\n",
       "\n",
       "    .dataframe tbody tr th {\n",
       "        vertical-align: top;\n",
       "    }\n",
       "\n",
       "    .dataframe thead th {\n",
       "        text-align: right;\n",
       "    }\n",
       "</style>\n",
       "<table border=\"1\" class=\"dataframe\">\n",
       "  <thead>\n",
       "    <tr style=\"text-align: right;\">\n",
       "      <th></th>\n",
       "      <th>Unnamed: 0</th>\n",
       "      <th>Train no.</th>\n",
       "      <th>Train name</th>\n",
       "      <th>Starts</th>\n",
       "      <th>Ends</th>\n",
       "      <th>initial</th>\n",
       "    </tr>\n",
       "  </thead>\n",
       "  <tbody>\n",
       "    <tr>\n",
       "      <td>0</td>\n",
       "      <td>0</td>\n",
       "      <td>12723</td>\n",
       "      <td>Andhra Pradesh Express</td>\n",
       "      <td>Hyderabad Decan</td>\n",
       "      <td>New Delhi</td>\n",
       "      <td>12</td>\n",
       "    </tr>\n",
       "    <tr>\n",
       "      <td>1</td>\n",
       "      <td>1</td>\n",
       "      <td>22416</td>\n",
       "      <td>Andhra Pradesh Express</td>\n",
       "      <td>New Delhi</td>\n",
       "      <td>Vishakapatnam</td>\n",
       "      <td>22</td>\n",
       "    </tr>\n",
       "    <tr>\n",
       "      <td>2</td>\n",
       "      <td>2</td>\n",
       "      <td>12724</td>\n",
       "      <td>Andhra Pradesh Express</td>\n",
       "      <td>New Delhi</td>\n",
       "      <td>Hyderabad Decan</td>\n",
       "      <td>12</td>\n",
       "    </tr>\n",
       "    <tr>\n",
       "      <td>3</td>\n",
       "      <td>3</td>\n",
       "      <td>12707</td>\n",
       "      <td>Andhra Pradesh Sampark Kranti</td>\n",
       "      <td>Tirupati</td>\n",
       "      <td>H Nizamuddin</td>\n",
       "      <td>12</td>\n",
       "    </tr>\n",
       "    <tr>\n",
       "      <td>4</td>\n",
       "      <td>4</td>\n",
       "      <td>15909</td>\n",
       "      <td>Abadh Assam Express</td>\n",
       "      <td>New Tinsukia Junction</td>\n",
       "      <td>Darbhanga Junction</td>\n",
       "      <td>15</td>\n",
       "    </tr>\n",
       "  </tbody>\n",
       "</table>\n",
       "</div>"
      ],
      "text/plain": [
       "   Unnamed: 0 Train no.                     Train name                 Starts  \\\n",
       "0           0     12723         Andhra Pradesh Express        Hyderabad Decan   \n",
       "1           1     22416         Andhra Pradesh Express              New Delhi   \n",
       "2           2     12724         Andhra Pradesh Express              New Delhi   \n",
       "3           3     12707  Andhra Pradesh Sampark Kranti               Tirupati   \n",
       "4           4     15909            Abadh Assam Express  New Tinsukia Junction   \n",
       "\n",
       "                 Ends initial  \n",
       "0           New Delhi      12  \n",
       "1       Vishakapatnam      22  \n",
       "2     Hyderabad Decan      12  \n",
       "3        H Nizamuddin      12  \n",
       "4  Darbhanga Junction      15  "
      ]
     },
     "execution_count": 104,
     "metadata": {},
     "output_type": "execute_result"
    }
   ],
   "source": [
    "df.head()"
   ]
  },
  {
   "cell_type": "code",
   "execution_count": 105,
   "metadata": {},
   "outputs": [
    {
     "data": {
      "text/plain": [
       "945"
      ]
     },
     "execution_count": 105,
     "metadata": {},
     "output_type": "execute_result"
    }
   ],
   "source": [
    "len(df[df['initial']=='12'])"
   ]
  },
  {
   "cell_type": "code",
   "execution_count": null,
   "metadata": {},
   "outputs": [],
   "source": []
  }
 ],
 "metadata": {
  "kernelspec": {
   "display_name": "Python 3",
   "language": "python",
   "name": "python3"
  },
  "language_info": {
   "codemirror_mode": {
    "name": "ipython",
    "version": 3
   },
   "file_extension": ".py",
   "mimetype": "text/x-python",
   "name": "python",
   "nbconvert_exporter": "python",
   "pygments_lexer": "ipython3",
   "version": "3.7.4"
  }
 },
 "nbformat": 4,
 "nbformat_minor": 2
}
