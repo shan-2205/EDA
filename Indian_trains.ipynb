{
 "cells": [
  {
   "cell_type": "code",
   "execution_count": 1,
   "metadata": {},
   "outputs": [],
   "source": [
    "import pandas as pd\n",
    "import numpy as np\n",
    "import matplotlib.pyplot as plt\n",
    "import seaborn as sns"
   ]
  },
  {
   "cell_type": "code",
   "execution_count": 2,
   "metadata": {},
   "outputs": [
    {
     "data": {
      "text/plain": [
       "Index(['Unnamed: 0', 'Train no.', 'Train name', 'Starts', 'Ends'], dtype='object')"
      ]
     },
     "execution_count": 2,
     "metadata": {},
     "output_type": "execute_result"
    }
   ],
   "source": [
    "df=pd.read_csv('F:/Data Science projects/by_me/indiantrains/All_Indian_Trains.csv')\n",
    "df.columns"
   ]
  },
  {
   "cell_type": "code",
   "execution_count": 3,
   "metadata": {},
   "outputs": [
    {
     "data": {
      "text/html": [
       "<div>\n",
       "<style scoped>\n",
       "    .dataframe tbody tr th:only-of-type {\n",
       "        vertical-align: middle;\n",
       "    }\n",
       "\n",
       "    .dataframe tbody tr th {\n",
       "        vertical-align: top;\n",
       "    }\n",
       "\n",
       "    .dataframe thead th {\n",
       "        text-align: right;\n",
       "    }\n",
       "</style>\n",
       "<table border=\"1\" class=\"dataframe\">\n",
       "  <thead>\n",
       "    <tr style=\"text-align: right;\">\n",
       "      <th></th>\n",
       "      <th>Unnamed: 0</th>\n",
       "      <th>Train no.</th>\n",
       "      <th>Train name</th>\n",
       "      <th>Starts</th>\n",
       "      <th>Ends</th>\n",
       "    </tr>\n",
       "  </thead>\n",
       "  <tbody>\n",
       "    <tr>\n",
       "      <td>0</td>\n",
       "      <td>0</td>\n",
       "      <td>12723</td>\n",
       "      <td>Andhra Pradesh Express</td>\n",
       "      <td>Hyderabad Decan</td>\n",
       "      <td>New Delhi</td>\n",
       "    </tr>\n",
       "    <tr>\n",
       "      <td>1</td>\n",
       "      <td>1</td>\n",
       "      <td>22416</td>\n",
       "      <td>Andhra Pradesh Express</td>\n",
       "      <td>New Delhi</td>\n",
       "      <td>Vishakapatnam</td>\n",
       "    </tr>\n",
       "    <tr>\n",
       "      <td>2</td>\n",
       "      <td>2</td>\n",
       "      <td>12724</td>\n",
       "      <td>Andhra Pradesh Express</td>\n",
       "      <td>New Delhi</td>\n",
       "      <td>Hyderabad Decan</td>\n",
       "    </tr>\n",
       "    <tr>\n",
       "      <td>3</td>\n",
       "      <td>3</td>\n",
       "      <td>12707</td>\n",
       "      <td>Andhra Pradesh Sampark Kranti</td>\n",
       "      <td>Tirupati</td>\n",
       "      <td>H Nizamuddin</td>\n",
       "    </tr>\n",
       "    <tr>\n",
       "      <td>4</td>\n",
       "      <td>4</td>\n",
       "      <td>15909</td>\n",
       "      <td>Abadh Assam Express</td>\n",
       "      <td>New Tinsukia Junction</td>\n",
       "      <td>Darbhanga Junction</td>\n",
       "    </tr>\n",
       "  </tbody>\n",
       "</table>\n",
       "</div>"
      ],
      "text/plain": [
       "   Unnamed: 0  Train no.                     Train name  \\\n",
       "0           0      12723         Andhra Pradesh Express   \n",
       "1           1      22416         Andhra Pradesh Express   \n",
       "2           2      12724         Andhra Pradesh Express   \n",
       "3           3      12707  Andhra Pradesh Sampark Kranti   \n",
       "4           4      15909            Abadh Assam Express   \n",
       "\n",
       "                  Starts                Ends  \n",
       "0        Hyderabad Decan           New Delhi  \n",
       "1              New Delhi       Vishakapatnam  \n",
       "2              New Delhi     Hyderabad Decan  \n",
       "3               Tirupati        H Nizamuddin  \n",
       "4  New Tinsukia Junction  Darbhanga Junction  "
      ]
     },
     "execution_count": 3,
     "metadata": {},
     "output_type": "execute_result"
    }
   ],
   "source": [
    "df.head()"
   ]
  },
  {
   "cell_type": "code",
   "execution_count": 46,
   "metadata": {},
   "outputs": [
    {
     "data": {
      "text/plain": [
       "(4024, 5)"
      ]
     },
     "execution_count": 46,
     "metadata": {},
     "output_type": "execute_result"
    }
   ],
   "source": [
    "df.shape"
   ]
  },
  {
   "cell_type": "code",
   "execution_count": 53,
   "metadata": {},
   "outputs": [
    {
     "data": {
      "text/plain": [
       "2970"
      ]
     },
     "execution_count": 53,
     "metadata": {},
     "output_type": "execute_result"
    }
   ],
   "source": [
    "#total unique trains\n",
    "len(df['Train name'].unique())"
   ]
  },
  {
   "cell_type": "code",
   "execution_count": 21,
   "metadata": {},
   "outputs": [
    {
     "data": {
      "text/plain": [
       "Unnamed: 0                         0\n",
       "Train no.                      12723\n",
       "Train name    Andhra Pradesh Express\n",
       "Starts               Hyderabad Decan\n",
       "Ends                       New Delhi\n",
       "Name: 0, dtype: object"
      ]
     },
     "execution_count": 21,
     "metadata": {},
     "output_type": "execute_result"
    }
   ],
   "source": [
    "\n",
    "#entire data of index 0\n",
    "df.loc[0]\n",
    "#or by\n",
    "df.iloc[0]"
   ]
  },
  {
   "cell_type": "code",
   "execution_count": 23,
   "metadata": {},
   "outputs": [
    {
     "data": {
      "text/plain": [
       "'Andhra Pradesh Express'"
      ]
     },
     "execution_count": 23,
     "metadata": {},
     "output_type": "execute_result"
    }
   ],
   "source": [
    "df.loc[0,'Train name']\n",
    "#df.iloc[0,2]"
   ]
  },
  {
   "cell_type": "code",
   "execution_count": 25,
   "metadata": {},
   "outputs": [
    {
     "data": {
      "text/html": [
       "<div>\n",
       "<style scoped>\n",
       "    .dataframe tbody tr th:only-of-type {\n",
       "        vertical-align: middle;\n",
       "    }\n",
       "\n",
       "    .dataframe tbody tr th {\n",
       "        vertical-align: top;\n",
       "    }\n",
       "\n",
       "    .dataframe thead th {\n",
       "        text-align: right;\n",
       "    }\n",
       "</style>\n",
       "<table border=\"1\" class=\"dataframe\">\n",
       "  <thead>\n",
       "    <tr style=\"text-align: right;\">\n",
       "      <th></th>\n",
       "      <th>Train no.</th>\n",
       "      <th>Train name</th>\n",
       "    </tr>\n",
       "  </thead>\n",
       "  <tbody>\n",
       "    <tr>\n",
       "      <td>0</td>\n",
       "      <td>12723</td>\n",
       "      <td>Andhra Pradesh Express</td>\n",
       "    </tr>\n",
       "    <tr>\n",
       "      <td>1</td>\n",
       "      <td>22416</td>\n",
       "      <td>Andhra Pradesh Express</td>\n",
       "    </tr>\n",
       "    <tr>\n",
       "      <td>2</td>\n",
       "      <td>12724</td>\n",
       "      <td>Andhra Pradesh Express</td>\n",
       "    </tr>\n",
       "    <tr>\n",
       "      <td>3</td>\n",
       "      <td>12707</td>\n",
       "      <td>Andhra Pradesh Sampark Kranti</td>\n",
       "    </tr>\n",
       "    <tr>\n",
       "      <td>4</td>\n",
       "      <td>15909</td>\n",
       "      <td>Abadh Assam Express</td>\n",
       "    </tr>\n",
       "    <tr>\n",
       "      <td>5</td>\n",
       "      <td>18242</td>\n",
       "      <td>Abkp Durg Passenger E</td>\n",
       "    </tr>\n",
       "  </tbody>\n",
       "</table>\n",
       "</div>"
      ],
      "text/plain": [
       "   Train no.                     Train name\n",
       "0      12723         Andhra Pradesh Express\n",
       "1      22416         Andhra Pradesh Express\n",
       "2      12724         Andhra Pradesh Express\n",
       "3      12707  Andhra Pradesh Sampark Kranti\n",
       "4      15909            Abadh Assam Express\n",
       "5      18242          Abkp Durg Passenger E"
      ]
     },
     "execution_count": 25,
     "metadata": {},
     "output_type": "execute_result"
    }
   ],
   "source": [
    "#data of first 5 trains with their train no and train name\n",
    "df.loc[0:5,'Train no.':'Train name']\n",
    "#df.loc[[0,1,2,3,4],'Train no.':'Train name']"
   ]
  },
  {
   "cell_type": "code",
   "execution_count": 62,
   "metadata": {},
   "outputs": [],
   "source": [
    "#create a func to calc all express trains\n",
    "def count(col_name,keyword):\n",
    "    list1=list(df[col_name])\n",
    "    return (len(set([feature for feature in list1 if keyword in feature])))\n",
    "    "
   ]
  },
  {
   "cell_type": "code",
   "execution_count": 63,
   "metadata": {},
   "outputs": [
    {
     "data": {
      "text/plain": [
       "1634"
      ]
     },
     "execution_count": 63,
     "metadata": {},
     "output_type": "execute_result"
    }
   ],
   "source": [
    "count('Train name','Express')"
   ]
  },
  {
   "cell_type": "code",
   "execution_count": 29,
   "metadata": {},
   "outputs": [
    {
     "data": {
      "text/plain": [
       "2397"
      ]
     },
     "execution_count": 29,
     "metadata": {},
     "output_type": "execute_result"
    }
   ],
   "source": [
    "#alternatew way,find all express trains\n",
    "df['Train name'].str.contains('Express').sum()"
   ]
  },
  {
   "cell_type": "code",
   "execution_count": 45,
   "metadata": {},
   "outputs": [
    {
     "data": {
      "text/plain": [
       "1634"
      ]
     },
     "execution_count": 45,
     "metadata": {},
     "output_type": "execute_result"
    }
   ],
   "source": [
    "#total diff express trains\n",
    "len(set(express_train))"
   ]
  },
  {
   "cell_type": "code",
   "execution_count": 48,
   "metadata": {},
   "outputs": [
    {
     "data": {
      "text/plain": [
       "850"
      ]
     },
     "execution_count": 48,
     "metadata": {},
     "output_type": "execute_result"
    }
   ],
   "source": [
    "#find all special trains\n",
    "list1=list(df['Train name'])\n",
    "special_train=[feature for feature in list1 if 'Special' in feature]\n",
    "len(special_train)"
   ]
  },
  {
   "cell_type": "code",
   "execution_count": 50,
   "metadata": {},
   "outputs": [
    {
     "data": {
      "text/plain": [
       "686"
      ]
     },
     "execution_count": 50,
     "metadata": {},
     "output_type": "execute_result"
    }
   ],
   "source": [
    "#total diff special trains\n",
    "len(set(special_train))"
   ]
  },
  {
   "cell_type": "code",
   "execution_count": 6,
   "metadata": {},
   "outputs": [
    {
     "data": {
      "text/plain": [
       "<matplotlib.axes._subplots.AxesSubplot at 0xda37f56b08>"
      ]
     },
     "execution_count": 6,
     "metadata": {},
     "output_type": "execute_result"
    },
    {
     "data": {
      "image/png": "[encoded data removed]",
      "text/plain": [
       "<Figure size 432x288 with 1 Axes>"
      ]
     },
     "metadata": {
      "needs_background": "light"
     },
     "output_type": "display_data"
    }
   ],
   "source": [
    "df['Starts'].value_counts().nlargest(10).plot.bar()\n"
   ]
  },
  {
   "cell_type": "code",
   "execution_count": 7,
   "metadata": {},
   "outputs": [
    {
     "data": {
      "text/plain": [
       "<matplotlib.axes._subplots.AxesSubplot at 0xda38065ac8>"
      ]
     },
     "execution_count": 7,
     "metadata": {},
     "output_type": "execute_result"
    },
    {
     "data": {
      "image/png": "[encoded data removed]",
      "text/plain": [
       "<Figure size 432x288 with 1 Axes>"
      ]
     },
     "metadata": {
      "needs_background": "light"
     },
     "output_type": "display_data"
    }
   ],
   "source": [
    "df['Ends'].value_counts().nlargest(10).plot.bar()"
   ]
  },
  {
   "cell_type": "code",
   "execution_count": 8,
   "metadata": {},
   "outputs": [
    {
     "data": {
      "text/plain": [
       "(45, 5)"
      ]
     },
     "execution_count": 8,
     "metadata": {},
     "output_type": "execute_result"
    }
   ],
   "source": [
    "#filtering all data where train is intercity express\n",
    "filt=df['Train name']=='Intercity Express'\n",
    "df_inter=df[filt]\n",
    "df_inter.shape"
   ]
  },
  {
   "cell_type": "code",
   "execution_count": 9,
   "metadata": {},
   "outputs": [
    {
     "data": {
      "text/plain": [
       "<matplotlib.axes._subplots.AxesSubplot at 0xda3811b648>"
      ]
     },
     "execution_count": 9,
     "metadata": {},
     "output_type": "execute_result"
    },
    {
     "data": {
      "image/png": "[encoded data removed]",
      "text/plain": [
       "<Figure size 432x288 with 1 Axes>"
      ]
     },
     "metadata": {
      "needs_background": "light"
     },
     "output_type": "display_data"
    }
   ],
   "source": [
    "#5 source stations with max frequency of a train\n",
    "df_inter['Starts'].value_counts().nlargest(5).plot.bar()"
   ]
  },
  {
   "cell_type": "code",
   "execution_count": 10,
   "metadata": {},
   "outputs": [
    {
     "data": {
      "text/html": [
       "<div>\n",
       "<style scoped>\n",
       "    .dataframe tbody tr th:only-of-type {\n",
       "        vertical-align: middle;\n",
       "    }\n",
       "\n",
       "    .dataframe tbody tr th {\n",
       "        vertical-align: top;\n",
       "    }\n",
       "\n",
       "    .dataframe thead th {\n",
       "        text-align: right;\n",
       "    }\n",
       "</style>\n",
       "<table border=\"1\" class=\"dataframe\">\n",
       "  <thead>\n",
       "    <tr style=\"text-align: right;\">\n",
       "      <th></th>\n",
       "      <th>Unnamed: 0</th>\n",
       "      <th>Train no.</th>\n",
       "      <th>Train name</th>\n",
       "      <th>Starts</th>\n",
       "      <th>Ends</th>\n",
       "    </tr>\n",
       "  </thead>\n",
       "  <tbody>\n",
       "    <tr>\n",
       "      <td>50</td>\n",
       "      <td>50</td>\n",
       "      <td>12341</td>\n",
       "      <td>Agnibina Express</td>\n",
       "      <td>Howrah Junction</td>\n",
       "      <td>Asansol Junction</td>\n",
       "    </tr>\n",
       "    <tr>\n",
       "      <td>154</td>\n",
       "      <td>154</td>\n",
       "      <td>18047</td>\n",
       "      <td>Amaravathi Express</td>\n",
       "      <td>Howrah Junction</td>\n",
       "      <td>Vasco Da Gama</td>\n",
       "    </tr>\n",
       "    <tr>\n",
       "      <td>174</td>\n",
       "      <td>174</td>\n",
       "      <td>13049</td>\n",
       "      <td>Amritsar Express</td>\n",
       "      <td>Howrah Junction</td>\n",
       "      <td>Amritsar Junction</td>\n",
       "    </tr>\n",
       "    <tr>\n",
       "      <td>176</td>\n",
       "      <td>176</td>\n",
       "      <td>13005</td>\n",
       "      <td>Amritsar Mail</td>\n",
       "      <td>Howrah Junction</td>\n",
       "      <td>Amritsar Junction</td>\n",
       "    </tr>\n",
       "    <tr>\n",
       "      <td>285</td>\n",
       "      <td>285</td>\n",
       "      <td>12130</td>\n",
       "      <td>Azad Hind Express</td>\n",
       "      <td>Howrah Junction</td>\n",
       "      <td>Pune Junction</td>\n",
       "    </tr>\n",
       "  </tbody>\n",
       "</table>\n",
       "</div>"
      ],
      "text/plain": [
       "     Unnamed: 0  Train no.          Train name           Starts  \\\n",
       "50           50      12341    Agnibina Express  Howrah Junction   \n",
       "154         154      18047  Amaravathi Express  Howrah Junction   \n",
       "174         174      13049    Amritsar Express  Howrah Junction   \n",
       "176         176      13005       Amritsar Mail  Howrah Junction   \n",
       "285         285      12130   Azad Hind Express  Howrah Junction   \n",
       "\n",
       "                  Ends  \n",
       "50    Asansol Junction  \n",
       "154      Vasco Da Gama  \n",
       "174  Amritsar Junction  \n",
       "176  Amritsar Junction  \n",
       "285      Pune Junction  "
      ]
     },
     "execution_count": 10,
     "metadata": {},
     "output_type": "execute_result"
    }
   ],
   "source": [
    "#filtering all data where train starts from howrah junction\n",
    "df_howrah=df[df['Starts']=='Howrah Junction']\n",
    "df_howrah.head()"
   ]
  },
  {
   "cell_type": "code",
   "execution_count": 11,
   "metadata": {},
   "outputs": [
    {
     "data": {
      "text/plain": [
       "Howrah Junction    126\n",
       "Name: Starts, dtype: int64"
      ]
     },
     "execution_count": 11,
     "metadata": {},
     "output_type": "execute_result"
    }
   ],
   "source": [
    "df_howrah['Starts'].value_counts().nlargest(5)"
   ]
  },
  {
   "cell_type": "code",
   "execution_count": 13,
   "metadata": {},
   "outputs": [
    {
     "data": {
      "text/plain": [
       "Howrah Junction          126\n",
       "New Delhi                120\n",
       "Lokmanyatilak T          115\n",
       "Chennai Central           98\n",
       "Yesvantpur Junction       84\n",
       "Secunderabad Junction     81\n",
       "Pune Junction             76\n",
       "Patna Junction            69\n",
       "Mumbai Cst                69\n",
       "Bandra Terminus           67\n",
       "Name: Starts, dtype: int64"
      ]
     },
     "execution_count": 13,
     "metadata": {},
     "output_type": "execute_result"
    }
   ],
   "source": [
    "city=df['Starts'].value_counts().nlargest(10)\n",
    "city"
   ]
  },
  {
   "cell_type": "code",
   "execution_count": 14,
   "metadata": {},
   "outputs": [
    {
     "data": {
      "text/plain": [
       "(123, 5)"
      ]
     },
     "execution_count": 14,
     "metadata": {},
     "output_type": "execute_result"
    }
   ],
   "source": [
    "#filtering all data where train ends at new delhi\n",
    "df_end_delhi=df[df['Ends']=='New Delhi']\n",
    "df_end_delhi.shape\n"
   ]
  },
  {
   "cell_type": "code",
   "execution_count": 15,
   "metadata": {},
   "outputs": [
    {
     "data": {
      "text/plain": [
       "array(['Hyderabad Decan', 'Ajmer Junction', 'Allahabad Junction',\n",
       "       'Amritsar Junction', 'Bhubaneswar', 'Mumbai Central', 'Bhagalpur',\n",
       "       'Darbhanga Junction', 'Barauni Junction', 'Varanasi Junction',\n",
       "       'Bilaspur Junction', 'Bhatinda Junction', 'Chandigarh',\n",
       "       'Kanpur Central', 'Dibrugarh', 'Dibrugarh Town', 'Dehradun',\n",
       "       'Lucknow Nr', 'Chennai Central', 'Howrah Junction', 'Agra Cantt',\n",
       "       'Bareilly', 'Jammu Tawi', 'Jabalpur', 'Ranchi', 'Jalandhar City',\n",
       "       'Kalka', 'Bangalore Cy Junction', 'Trivandrum Cntl', 'Kolkata',\n",
       "       'Kamakhya', 'Ludhiana Junction', 'Lucknow Ne', 'Lal Kuan',\n",
       "       'Islampur', 'Gaya Junction', 'Madgaon', 'Puri', 'Sealdah',\n",
       "       'Una Himachal', 'Sainagar Shirdi', 'Shmata V D Ktra', 'Moga',\n",
       "       'Habibganj', 'Malda Town', 'Naharlagun', 'New Jalpaiguri',\n",
       "       'Puducherry', 'Patna Junction', 'Guwahati', 'Silchar',\n",
       "       'Rjndr Ngr Bihar', 'Rohtak Junction', 'Manduadih', 'Rajgir',\n",
       "       'Ahmedabad Junction', 'Udhampur', 'Vishakapatnam',\n",
       "       'Yesvantpur Junction'], dtype=object)"
      ]
     },
     "execution_count": 15,
     "metadata": {},
     "output_type": "execute_result"
    }
   ],
   "source": [
    "df_end_delhi['Starts'].unique()"
   ]
  },
  {
   "cell_type": "code",
   "execution_count": 16,
   "metadata": {},
   "outputs": [
    {
     "data": {
      "text/html": [
       "<div>\n",
       "<style scoped>\n",
       "    .dataframe tbody tr th:only-of-type {\n",
       "        vertical-align: middle;\n",
       "    }\n",
       "\n",
       "    .dataframe tbody tr th {\n",
       "        vertical-align: top;\n",
       "    }\n",
       "\n",
       "    .dataframe thead th {\n",
       "        text-align: right;\n",
       "    }\n",
       "</style>\n",
       "<table border=\"1\" class=\"dataframe\">\n",
       "  <thead>\n",
       "    <tr style=\"text-align: right;\">\n",
       "      <th></th>\n",
       "      <th>Unnamed: 0</th>\n",
       "      <th>Train no.</th>\n",
       "      <th>Train name</th>\n",
       "      <th>Starts</th>\n",
       "      <th>Ends</th>\n",
       "    </tr>\n",
       "  </thead>\n",
       "  <tbody>\n",
       "    <tr>\n",
       "      <td>1452</td>\n",
       "      <td>515</td>\n",
       "      <td>12323</td>\n",
       "      <td>Hwh Ndls Express</td>\n",
       "      <td>Howrah Junction</td>\n",
       "      <td>New Delhi</td>\n",
       "    </tr>\n",
       "    <tr>\n",
       "      <td>1453</td>\n",
       "      <td>516</td>\n",
       "      <td>12249</td>\n",
       "      <td>Hwh Ndls Yuva E</td>\n",
       "      <td>Howrah Junction</td>\n",
       "      <td>New Delhi</td>\n",
       "    </tr>\n",
       "    <tr>\n",
       "      <td>1987</td>\n",
       "      <td>83</td>\n",
       "      <td>12301</td>\n",
       "      <td>Kolkata Rajdhni</td>\n",
       "      <td>Howrah Junction</td>\n",
       "      <td>New Delhi</td>\n",
       "    </tr>\n",
       "    <tr>\n",
       "      <td>1988</td>\n",
       "      <td>84</td>\n",
       "      <td>12305</td>\n",
       "      <td>Kolkata Rajdhani</td>\n",
       "      <td>Howrah Junction</td>\n",
       "      <td>New Delhi</td>\n",
       "    </tr>\n",
       "    <tr>\n",
       "      <td>2540</td>\n",
       "      <td>636</td>\n",
       "      <td>12273</td>\n",
       "      <td>Ndls Duronto</td>\n",
       "      <td>Howrah Junction</td>\n",
       "      <td>New Delhi</td>\n",
       "    </tr>\n",
       "  </tbody>\n",
       "</table>\n",
       "</div>"
      ],
      "text/plain": [
       "      Unnamed: 0  Train no.        Train name           Starts       Ends\n",
       "1452         515      12323  Hwh Ndls Express  Howrah Junction  New Delhi\n",
       "1453         516      12249   Hwh Ndls Yuva E  Howrah Junction  New Delhi\n",
       "1987          83      12301   Kolkata Rajdhni  Howrah Junction  New Delhi\n",
       "1988          84      12305  Kolkata Rajdhani  Howrah Junction  New Delhi\n",
       "2540         636      12273      Ndls Duronto  Howrah Junction  New Delhi"
      ]
     },
     "execution_count": 16,
     "metadata": {},
     "output_type": "execute_result"
    }
   ],
   "source": [
    "#all trains name whose destination is new delhi,and origin is howrah\n",
    "filt=(df['Starts']=='Howrah Junction') & (df['Ends']=='New Delhi')\n",
    "df_howrah_delhi=df[filt]\n",
    "df_howrah_delhi.head()"
   ]
  },
  {
   "cell_type": "code",
   "execution_count": 71,
   "metadata": {},
   "outputs": [],
   "source": [
    "#create a function that will grab data where destination is new delhi,and origin is howrah\n",
    "def dataframe(df,source_name,destination):\n",
    "    filt=(df['Starts']==source_name) & (df['Ends']==destination)\n",
    "    df_output=df[filt]\n",
    "    return (df_output.head())\n",
    "    "
   ]
  },
  {
   "cell_type": "code",
   "execution_count": 73,
   "metadata": {},
   "outputs": [
    {
     "data": {
      "text/html": [
       "<div>\n",
       "<style scoped>\n",
       "    .dataframe tbody tr th:only-of-type {\n",
       "        vertical-align: middle;\n",
       "    }\n",
       "\n",
       "    .dataframe tbody tr th {\n",
       "        vertical-align: top;\n",
       "    }\n",
       "\n",
       "    .dataframe thead th {\n",
       "        text-align: right;\n",
       "    }\n",
       "</style>\n",
       "<table border=\"1\" class=\"dataframe\">\n",
       "  <thead>\n",
       "    <tr style=\"text-align: right;\">\n",
       "      <th></th>\n",
       "      <th>Unnamed: 0</th>\n",
       "      <th>Train no.</th>\n",
       "      <th>Train name</th>\n",
       "      <th>Starts</th>\n",
       "      <th>Ends</th>\n",
       "    </tr>\n",
       "  </thead>\n",
       "  <tbody>\n",
       "    <tr>\n",
       "      <td>1452</td>\n",
       "      <td>515</td>\n",
       "      <td>12323</td>\n",
       "      <td>Hwh Ndls Express</td>\n",
       "      <td>Howrah Junction</td>\n",
       "      <td>New Delhi</td>\n",
       "    </tr>\n",
       "    <tr>\n",
       "      <td>1453</td>\n",
       "      <td>516</td>\n",
       "      <td>12249</td>\n",
       "      <td>Hwh Ndls Yuva E</td>\n",
       "      <td>Howrah Junction</td>\n",
       "      <td>New Delhi</td>\n",
       "    </tr>\n",
       "    <tr>\n",
       "      <td>1987</td>\n",
       "      <td>83</td>\n",
       "      <td>12301</td>\n",
       "      <td>Kolkata Rajdhni</td>\n",
       "      <td>Howrah Junction</td>\n",
       "      <td>New Delhi</td>\n",
       "    </tr>\n",
       "    <tr>\n",
       "      <td>1988</td>\n",
       "      <td>84</td>\n",
       "      <td>12305</td>\n",
       "      <td>Kolkata Rajdhani</td>\n",
       "      <td>Howrah Junction</td>\n",
       "      <td>New Delhi</td>\n",
       "    </tr>\n",
       "    <tr>\n",
       "      <td>2540</td>\n",
       "      <td>636</td>\n",
       "      <td>12273</td>\n",
       "      <td>Ndls Duronto</td>\n",
       "      <td>Howrah Junction</td>\n",
       "      <td>New Delhi</td>\n",
       "    </tr>\n",
       "  </tbody>\n",
       "</table>\n",
       "</div>"
      ],
      "text/plain": [
       "      Unnamed: 0 Train no.        Train name           Starts       Ends\n",
       "1452         515     12323  Hwh Ndls Express  Howrah Junction  New Delhi\n",
       "1453         516     12249   Hwh Ndls Yuva E  Howrah Junction  New Delhi\n",
       "1987          83     12301   Kolkata Rajdhni  Howrah Junction  New Delhi\n",
       "1988          84     12305  Kolkata Rajdhani  Howrah Junction  New Delhi\n",
       "2540         636     12273      Ndls Duronto  Howrah Junction  New Delhi"
      ]
     },
     "execution_count": 73,
     "metadata": {},
     "output_type": "execute_result"
    }
   ],
   "source": [
    "dataframe(df,'Howrah Junction','New Delhi')"
   ]
  },
  {
   "cell_type": "code",
   "execution_count": 18,
   "metadata": {},
   "outputs": [
    {
     "data": {
      "text/html": [
       "<div>\n",
       "<style scoped>\n",
       "    .dataframe tbody tr th:only-of-type {\n",
       "        vertical-align: middle;\n",
       "    }\n",
       "\n",
       "    .dataframe tbody tr th {\n",
       "        vertical-align: top;\n",
       "    }\n",
       "\n",
       "    .dataframe thead th {\n",
       "        text-align: right;\n",
       "    }\n",
       "</style>\n",
       "<table border=\"1\" class=\"dataframe\">\n",
       "  <thead>\n",
       "    <tr style=\"text-align: right;\">\n",
       "      <th></th>\n",
       "      <th>Unnamed: 0</th>\n",
       "      <th>Train no.</th>\n",
       "      <th>Train name</th>\n",
       "      <th>Starts</th>\n",
       "      <th>Ends</th>\n",
       "    </tr>\n",
       "  </thead>\n",
       "  <tbody>\n",
       "    <tr>\n",
       "      <td>1</td>\n",
       "      <td>1</td>\n",
       "      <td>22416</td>\n",
       "      <td>Andhra Pradesh Express</td>\n",
       "      <td>New Delhi</td>\n",
       "      <td>Vishakapatnam</td>\n",
       "    </tr>\n",
       "    <tr>\n",
       "      <td>2</td>\n",
       "      <td>2</td>\n",
       "      <td>12724</td>\n",
       "      <td>Andhra Pradesh Express</td>\n",
       "      <td>New Delhi</td>\n",
       "      <td>Hyderabad Decan</td>\n",
       "    </tr>\n",
       "    <tr>\n",
       "      <td>21</td>\n",
       "      <td>21</td>\n",
       "      <td>12931</td>\n",
       "      <td>Adi Double Deck</td>\n",
       "      <td>Mumbai Central</td>\n",
       "      <td>Ahmedabad Junction</td>\n",
       "    </tr>\n",
       "    <tr>\n",
       "      <td>22</td>\n",
       "      <td>22</td>\n",
       "      <td>12267</td>\n",
       "      <td>Adi Duronto Express</td>\n",
       "      <td>Mumbai Central</td>\n",
       "      <td>Ahmedabad Junction</td>\n",
       "    </tr>\n",
       "    <tr>\n",
       "      <td>35</td>\n",
       "      <td>35</td>\n",
       "      <td>12958</td>\n",
       "      <td>Adi Sj Rajdhani</td>\n",
       "      <td>New Delhi</td>\n",
       "      <td>Ahmedabad Junction</td>\n",
       "    </tr>\n",
       "  </tbody>\n",
       "</table>\n",
       "</div>"
      ],
      "text/plain": [
       "    Unnamed: 0  Train no.              Train name          Starts  \\\n",
       "1            1      22416  Andhra Pradesh Express       New Delhi   \n",
       "2            2      12724  Andhra Pradesh Express       New Delhi   \n",
       "21          21      12931         Adi Double Deck  Mumbai Central   \n",
       "22          22      12267     Adi Duronto Express  Mumbai Central   \n",
       "35          35      12958         Adi Sj Rajdhani       New Delhi   \n",
       "\n",
       "                  Ends  \n",
       "1        Vishakapatnam  \n",
       "2      Hyderabad Decan  \n",
       "21  Ahmedabad Junction  \n",
       "22  Ahmedabad Junction  \n",
       "35  Ahmedabad Junction  "
      ]
     },
     "execution_count": 18,
     "metadata": {},
     "output_type": "execute_result"
    }
   ],
   "source": [
    "#whose start is either new delhi or mumbai\n",
    "filt_3=(df['Starts']=='New Delhi') | (df['Starts']=='Mumbai Central')\n",
    "df_nd_mumbai=df[filt_3]\n",
    "df_nd_mumbai.head()"
   ]
  },
  {
   "cell_type": "code",
   "execution_count": 19,
   "metadata": {},
   "outputs": [
    {
     "data": {
      "text/html": [
       "<div>\n",
       "<style scoped>\n",
       "    .dataframe tbody tr th:only-of-type {\n",
       "        vertical-align: middle;\n",
       "    }\n",
       "\n",
       "    .dataframe tbody tr th {\n",
       "        vertical-align: top;\n",
       "    }\n",
       "\n",
       "    .dataframe thead th {\n",
       "        text-align: right;\n",
       "    }\n",
       "</style>\n",
       "<table border=\"1\" class=\"dataframe\">\n",
       "  <thead>\n",
       "    <tr style=\"text-align: right;\">\n",
       "      <th></th>\n",
       "      <th>Unnamed: 0</th>\n",
       "      <th>Train no.</th>\n",
       "      <th>Train name</th>\n",
       "      <th>Starts</th>\n",
       "      <th>Ends</th>\n",
       "    </tr>\n",
       "  </thead>\n",
       "  <tbody>\n",
       "    <tr>\n",
       "      <td>1240</td>\n",
       "      <td>303</td>\n",
       "      <td>12420</td>\n",
       "      <td>Gomti Express</td>\n",
       "      <td>New Delhi</td>\n",
       "      <td>Lucknow Nr</td>\n",
       "    </tr>\n",
       "    <tr>\n",
       "      <td>2148</td>\n",
       "      <td>244</td>\n",
       "      <td>12272</td>\n",
       "      <td>Lko Duronto Express</td>\n",
       "      <td>New Delhi</td>\n",
       "      <td>Lucknow Nr</td>\n",
       "    </tr>\n",
       "    <tr>\n",
       "      <td>2260</td>\n",
       "      <td>356</td>\n",
       "      <td>12230</td>\n",
       "      <td>Lucknow Mail</td>\n",
       "      <td>New Delhi</td>\n",
       "      <td>Lucknow Nr</td>\n",
       "    </tr>\n",
       "    <tr>\n",
       "      <td>2574</td>\n",
       "      <td>670</td>\n",
       "      <td>2234</td>\n",
       "      <td>Ndls Lko Ac Special</td>\n",
       "      <td>New Delhi</td>\n",
       "      <td>Lucknow Nr</td>\n",
       "    </tr>\n",
       "    <tr>\n",
       "      <td>2575</td>\n",
       "      <td>671</td>\n",
       "      <td>4440</td>\n",
       "      <td>Ndls Lko Ac Special</td>\n",
       "      <td>New Delhi</td>\n",
       "      <td>Lucknow Nr</td>\n",
       "    </tr>\n",
       "    <tr>\n",
       "      <td>2576</td>\n",
       "      <td>672</td>\n",
       "      <td>4934</td>\n",
       "      <td>Ndls Lko Premiu</td>\n",
       "      <td>New Delhi</td>\n",
       "      <td>Lucknow Nr</td>\n",
       "    </tr>\n",
       "    <tr>\n",
       "      <td>2577</td>\n",
       "      <td>673</td>\n",
       "      <td>4944</td>\n",
       "      <td>Ndls Lko Premiu</td>\n",
       "      <td>New Delhi</td>\n",
       "      <td>Lucknow Nr</td>\n",
       "    </tr>\n",
       "    <tr>\n",
       "      <td>2578</td>\n",
       "      <td>674</td>\n",
       "      <td>12430</td>\n",
       "      <td>Ndls Lko Raj</td>\n",
       "      <td>New Delhi</td>\n",
       "      <td>Lucknow Nr</td>\n",
       "    </tr>\n",
       "    <tr>\n",
       "      <td>2579</td>\n",
       "      <td>675</td>\n",
       "      <td>4434</td>\n",
       "      <td>Ndls Lko Special</td>\n",
       "      <td>New Delhi</td>\n",
       "      <td>Lucknow Nr</td>\n",
       "    </tr>\n",
       "    <tr>\n",
       "      <td>2580</td>\n",
       "      <td>676</td>\n",
       "      <td>4942</td>\n",
       "      <td>Ndls Lko Special</td>\n",
       "      <td>New Delhi</td>\n",
       "      <td>Lucknow Nr</td>\n",
       "    </tr>\n",
       "    <tr>\n",
       "      <td>2581</td>\n",
       "      <td>677</td>\n",
       "      <td>4030</td>\n",
       "      <td>Ndls Lko Special</td>\n",
       "      <td>New Delhi</td>\n",
       "      <td>Lucknow Nr</td>\n",
       "    </tr>\n",
       "    <tr>\n",
       "      <td>2582</td>\n",
       "      <td>678</td>\n",
       "      <td>4202</td>\n",
       "      <td>Ndls Lko Special</td>\n",
       "      <td>New Delhi</td>\n",
       "      <td>Lucknow Nr</td>\n",
       "    </tr>\n",
       "  </tbody>\n",
       "</table>\n",
       "</div>"
      ],
      "text/plain": [
       "      Unnamed: 0  Train no.           Train name     Starts        Ends\n",
       "1240         303      12420        Gomti Express  New Delhi  Lucknow Nr\n",
       "2148         244      12272  Lko Duronto Express  New Delhi  Lucknow Nr\n",
       "2260         356      12230         Lucknow Mail  New Delhi  Lucknow Nr\n",
       "2574         670       2234  Ndls Lko Ac Special  New Delhi  Lucknow Nr\n",
       "2575         671       4440  Ndls Lko Ac Special  New Delhi  Lucknow Nr\n",
       "2576         672       4934      Ndls Lko Premiu  New Delhi  Lucknow Nr\n",
       "2577         673       4944      Ndls Lko Premiu  New Delhi  Lucknow Nr\n",
       "2578         674      12430         Ndls Lko Raj  New Delhi  Lucknow Nr\n",
       "2579         675       4434     Ndls Lko Special  New Delhi  Lucknow Nr\n",
       "2580         676       4942     Ndls Lko Special  New Delhi  Lucknow Nr\n",
       "2581         677       4030     Ndls Lko Special  New Delhi  Lucknow Nr\n",
       "2582         678       4202     Ndls Lko Special  New Delhi  Lucknow Nr"
      ]
     },
     "execution_count": 19,
     "metadata": {},
     "output_type": "execute_result"
    }
   ],
   "source": [
    "\n",
    "#whose start is either either delhi or mumbai but ends at lucknow\n",
    "filt_4=((df['Starts']=='New Delhi') | (df['Starts']=='Mumbai Central')) & (df['Ends']=='Lucknow Nr')\n",
    "df_nd_mum_lko=df[filt_4]\n",
    "df_nd_mum_lko"
   ]
  },
  {
   "cell_type": "code",
   "execution_count": 65,
   "metadata": {},
   "outputs": [],
   "source": [
    "df['Train no.']=df['Train no.'].astype(str)"
   ]
  },
  {
   "cell_type": "code",
   "execution_count": 67,
   "metadata": {},
   "outputs": [
    {
     "data": {
      "text/plain": [
       "1056"
      ]
     },
     "execution_count": 67,
     "metadata": {},
     "output_type": "execute_result"
    }
   ],
   "source": [
    "#find all trains start from 12 as they are superfast trains\n",
    "df['Train no.'].str.contains('12').sum()"
   ]
  },
  {
   "cell_type": "code",
   "execution_count": null,
   "metadata": {},
   "outputs": [],
   "source": []
  }
 ],
 "metadata": {
  "kernelspec": {
   "display_name": "Python 3",
   "language": "python",
   "name": "python3"
  },
  "language_info": {
   "codemirror_mode": {
    "name": "ipython",
    "version": 3
   },
   "file_extension": ".py",
   "mimetype": "text/x-python",
   "name": "python",
   "nbconvert_exporter": "python",
   "pygments_lexer": "ipython3",
   "version": "3.7.4"
  }
 },
 "nbformat": 4,
 "nbformat_minor": 2
}
