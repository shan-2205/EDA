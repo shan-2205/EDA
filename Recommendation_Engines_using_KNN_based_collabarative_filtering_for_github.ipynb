{
 "cells": [
  {
   "cell_type": "code",
   "execution_count": null,
   "id": "4490e22d",
   "metadata": {},
   "outputs": [],
   "source": []
  },
  {
   "cell_type": "code",
   "execution_count": null,
   "id": "f22ee5db",
   "metadata": {},
   "outputs": [],
   "source": []
  },
  {
   "cell_type": "code",
   "execution_count": null,
   "id": "5a2e67c5",
   "metadata": {},
   "outputs": [],
   "source": []
  },
  {
   "cell_type": "raw",
   "id": "d26cdcd0",
   "metadata": {},
   "source": [
    "3 Types of Recommender Systems:\n",
    "Collaborative Filtering => Recommend based on items bought by User (Same recommendations if two persons buy same product)\n",
    "\n",
    "Content-Based Filtering => Focus completely on Content (Same recommendations to two persons if both give same rating to an article)\n",
    "\n",
    "Hybrid Filtering (Combining Collaborative and Content-Based)"
   ]
  },
  {
   "cell_type": "code",
   "execution_count": 1,
   "id": "5a33658f",
   "metadata": {},
   "outputs": [],
   "source": [
    "### we need four features as userId , movieId , rating & title to build KNN_based_collabarative_filtering\n",
    "\n",
    "\n",
    "\n",
    "## ['userId', 'movieId', 'rating']  in  rating.csv\n",
    "## ['movieId','title']  in   movie.csv"
   ]
  },
  {
   "cell_type": "code",
   "execution_count": 2,
   "id": "ede808b4",
   "metadata": {},
   "outputs": [],
   "source": [
    "import pandas as pd\n",
    "import numpy as np\n",
    "import matplotlib.pyplot as plt"
   ]
  },
  {
   "cell_type": "code",
   "execution_count": 3,
   "id": "1606419d",
   "metadata": {},
   "outputs": [],
   "source": [
    "### takes 20/30 sec..\n",
    "###  we will use_cols parameter to load some specific features so that data will get load faster..\n",
    "\n",
    "data = pd.read_csv(r\"F:\\Data_science_projects\\Recommendation_sytem\\Movielens\\datasets/clean_data.csv\")\n"
   ]
  },
  {
   "cell_type": "code",
   "execution_count": 4,
   "id": "2b6f7c5c",
   "metadata": {},
   "outputs": [
    {
     "data": {
      "text/html": [
       "<div>\n",
       "<style scoped>\n",
       "    .dataframe tbody tr th:only-of-type {\n",
       "        vertical-align: middle;\n",
       "    }\n",
       "\n",
       "    .dataframe tbody tr th {\n",
       "        vertical-align: top;\n",
       "    }\n",
       "\n",
       "    .dataframe thead th {\n",
       "        text-align: right;\n",
       "    }\n",
       "</style>\n",
       "<table border=\"1\" class=\"dataframe\">\n",
       "  <thead>\n",
       "    <tr style=\"text-align: right;\">\n",
       "      <th></th>\n",
       "      <th>userId</th>\n",
       "      <th>movieId</th>\n",
       "      <th>rating</th>\n",
       "      <th>title</th>\n",
       "      <th>genres</th>\n",
       "      <th>TotalRatingCount</th>\n",
       "    </tr>\n",
       "  </thead>\n",
       "  <tbody>\n",
       "    <tr>\n",
       "      <th>0</th>\n",
       "      <td>1</td>\n",
       "      <td>2</td>\n",
       "      <td>3.5</td>\n",
       "      <td>Jumanji (1995)</td>\n",
       "      <td>Adventure|Children|Fantasy</td>\n",
       "      <td>112</td>\n",
       "    </tr>\n",
       "    <tr>\n",
       "      <th>1</th>\n",
       "      <td>5</td>\n",
       "      <td>2</td>\n",
       "      <td>3.0</td>\n",
       "      <td>Jumanji (1995)</td>\n",
       "      <td>Adventure|Children|Fantasy</td>\n",
       "      <td>112</td>\n",
       "    </tr>\n",
       "  </tbody>\n",
       "</table>\n",
       "</div>"
      ],
      "text/plain": [
       "   userId  movieId  rating           title                      genres  \\\n",
       "0       1        2     3.5  Jumanji (1995)  Adventure|Children|Fantasy   \n",
       "1       5        2     3.0  Jumanji (1995)  Adventure|Children|Fantasy   \n",
       "\n",
       "   TotalRatingCount  \n",
       "0               112  \n",
       "1               112  "
      ]
     },
     "execution_count": 4,
     "metadata": {},
     "output_type": "execute_result"
    }
   ],
   "source": [
    "data.head(2)"
   ]
  },
  {
   "cell_type": "code",
   "execution_count": 5,
   "id": "34f71a80",
   "metadata": {},
   "outputs": [
    {
     "data": {
      "text/plain": [
       "8225"
      ]
     },
     "execution_count": 5,
     "metadata": {},
     "output_type": "execute_result"
    }
   ],
   "source": [
    "s = set(data['title'])\n",
    "len(s)"
   ]
  },
  {
   "cell_type": "code",
   "execution_count": 6,
   "id": "976837fc",
   "metadata": {},
   "outputs": [],
   "source": [
    "## takes 1 min...\n",
    "\n",
    "# Create a Pivot Table\n",
    "\n",
    "\n",
    "##for user 1,we want to check for all movies all movies,ie ,\n",
    "#(index=title of movies & columns=users)\n",
    "\n",
    "pivot_table = data.pivot_table(index='title', columns='userId',\\\n",
    "                               values='rating').fillna(0)\n"
   ]
  },
  {
   "cell_type": "code",
   "execution_count": 7,
   "id": "da19221a",
   "metadata": {},
   "outputs": [
    {
     "data": {
      "text/html": [
       "<div>\n",
       "<style scoped>\n",
       "    .dataframe tbody tr th:only-of-type {\n",
       "        vertical-align: middle;\n",
       "    }\n",
       "\n",
       "    .dataframe tbody tr th {\n",
       "        vertical-align: top;\n",
       "    }\n",
       "\n",
       "    .dataframe thead th {\n",
       "        text-align: right;\n",
       "    }\n",
       "</style>\n",
       "<table border=\"1\" class=\"dataframe\">\n",
       "  <thead>\n",
       "    <tr style=\"text-align: right;\">\n",
       "      <th>userId</th>\n",
       "      <th>1</th>\n",
       "      <th>2</th>\n",
       "      <th>3</th>\n",
       "      <th>4</th>\n",
       "      <th>5</th>\n",
       "      <th>6</th>\n",
       "      <th>7</th>\n",
       "      <th>8</th>\n",
       "      <th>9</th>\n",
       "      <th>10</th>\n",
       "      <th>...</th>\n",
       "      <th>693</th>\n",
       "      <th>694</th>\n",
       "      <th>695</th>\n",
       "      <th>696</th>\n",
       "      <th>697</th>\n",
       "      <th>698</th>\n",
       "      <th>699</th>\n",
       "      <th>700</th>\n",
       "      <th>701</th>\n",
       "      <th>702</th>\n",
       "    </tr>\n",
       "    <tr>\n",
       "      <th>title</th>\n",
       "      <th></th>\n",
       "      <th></th>\n",
       "      <th></th>\n",
       "      <th></th>\n",
       "      <th></th>\n",
       "      <th></th>\n",
       "      <th></th>\n",
       "      <th></th>\n",
       "      <th></th>\n",
       "      <th></th>\n",
       "      <th></th>\n",
       "      <th></th>\n",
       "      <th></th>\n",
       "      <th></th>\n",
       "      <th></th>\n",
       "      <th></th>\n",
       "      <th></th>\n",
       "      <th></th>\n",
       "      <th></th>\n",
       "      <th></th>\n",
       "      <th></th>\n",
       "    </tr>\n",
       "  </thead>\n",
       "  <tbody>\n",
       "    <tr>\n",
       "      <th>'Hellboy': The Seeds of Creation (2004)</th>\n",
       "      <td>0.0</td>\n",
       "      <td>0.0</td>\n",
       "      <td>0.0</td>\n",
       "      <td>0.0</td>\n",
       "      <td>0.0</td>\n",
       "      <td>0.0</td>\n",
       "      <td>0.0</td>\n",
       "      <td>0.0</td>\n",
       "      <td>0.0</td>\n",
       "      <td>0.0</td>\n",
       "      <td>...</td>\n",
       "      <td>0.0</td>\n",
       "      <td>0.0</td>\n",
       "      <td>0.0</td>\n",
       "      <td>0.0</td>\n",
       "      <td>0.0</td>\n",
       "      <td>0.0</td>\n",
       "      <td>0.0</td>\n",
       "      <td>0.0</td>\n",
       "      <td>0.0</td>\n",
       "      <td>0.0</td>\n",
       "    </tr>\n",
       "    <tr>\n",
       "      <th>'Neath the Arizona Skies (1934)</th>\n",
       "      <td>0.0</td>\n",
       "      <td>0.0</td>\n",
       "      <td>0.0</td>\n",
       "      <td>0.0</td>\n",
       "      <td>0.0</td>\n",
       "      <td>0.0</td>\n",
       "      <td>0.0</td>\n",
       "      <td>0.0</td>\n",
       "      <td>0.0</td>\n",
       "      <td>0.0</td>\n",
       "      <td>...</td>\n",
       "      <td>0.0</td>\n",
       "      <td>0.0</td>\n",
       "      <td>0.0</td>\n",
       "      <td>0.0</td>\n",
       "      <td>0.0</td>\n",
       "      <td>0.0</td>\n",
       "      <td>0.0</td>\n",
       "      <td>0.0</td>\n",
       "      <td>0.0</td>\n",
       "      <td>0.0</td>\n",
       "    </tr>\n",
       "    <tr>\n",
       "      <th>'Round Midnight (1986)</th>\n",
       "      <td>0.0</td>\n",
       "      <td>0.0</td>\n",
       "      <td>0.0</td>\n",
       "      <td>0.0</td>\n",
       "      <td>0.0</td>\n",
       "      <td>0.0</td>\n",
       "      <td>0.0</td>\n",
       "      <td>0.0</td>\n",
       "      <td>0.0</td>\n",
       "      <td>0.0</td>\n",
       "      <td>...</td>\n",
       "      <td>0.0</td>\n",
       "      <td>0.0</td>\n",
       "      <td>0.0</td>\n",
       "      <td>0.0</td>\n",
       "      <td>0.0</td>\n",
       "      <td>0.0</td>\n",
       "      <td>0.0</td>\n",
       "      <td>0.0</td>\n",
       "      <td>0.0</td>\n",
       "      <td>0.0</td>\n",
       "    </tr>\n",
       "    <tr>\n",
       "      <th>'Til There Was You (1997)</th>\n",
       "      <td>0.0</td>\n",
       "      <td>0.0</td>\n",
       "      <td>0.0</td>\n",
       "      <td>0.0</td>\n",
       "      <td>0.0</td>\n",
       "      <td>0.0</td>\n",
       "      <td>0.0</td>\n",
       "      <td>0.0</td>\n",
       "      <td>0.0</td>\n",
       "      <td>0.0</td>\n",
       "      <td>...</td>\n",
       "      <td>0.0</td>\n",
       "      <td>0.0</td>\n",
       "      <td>0.0</td>\n",
       "      <td>0.0</td>\n",
       "      <td>0.0</td>\n",
       "      <td>0.0</td>\n",
       "      <td>0.0</td>\n",
       "      <td>0.0</td>\n",
       "      <td>0.0</td>\n",
       "      <td>0.0</td>\n",
       "    </tr>\n",
       "    <tr>\n",
       "      <th>'burbs, The (1989)</th>\n",
       "      <td>0.0</td>\n",
       "      <td>0.0</td>\n",
       "      <td>0.0</td>\n",
       "      <td>0.0</td>\n",
       "      <td>0.0</td>\n",
       "      <td>0.0</td>\n",
       "      <td>0.0</td>\n",
       "      <td>0.0</td>\n",
       "      <td>0.0</td>\n",
       "      <td>0.0</td>\n",
       "      <td>...</td>\n",
       "      <td>0.0</td>\n",
       "      <td>0.0</td>\n",
       "      <td>0.0</td>\n",
       "      <td>0.0</td>\n",
       "      <td>0.0</td>\n",
       "      <td>0.0</td>\n",
       "      <td>0.0</td>\n",
       "      <td>3.5</td>\n",
       "      <td>0.0</td>\n",
       "      <td>0.0</td>\n",
       "    </tr>\n",
       "    <tr>\n",
       "      <th>...</th>\n",
       "      <td>...</td>\n",
       "      <td>...</td>\n",
       "      <td>...</td>\n",
       "      <td>...</td>\n",
       "      <td>...</td>\n",
       "      <td>...</td>\n",
       "      <td>...</td>\n",
       "      <td>...</td>\n",
       "      <td>...</td>\n",
       "      <td>...</td>\n",
       "      <td>...</td>\n",
       "      <td>...</td>\n",
       "      <td>...</td>\n",
       "      <td>...</td>\n",
       "      <td>...</td>\n",
       "      <td>...</td>\n",
       "      <td>...</td>\n",
       "      <td>...</td>\n",
       "      <td>...</td>\n",
       "      <td>...</td>\n",
       "      <td>...</td>\n",
       "    </tr>\n",
       "    <tr>\n",
       "      <th>\\\\\"Great Performances\\\"\\\" Cats (1998)\"</th>\n",
       "      <td>0.0</td>\n",
       "      <td>0.0</td>\n",
       "      <td>0.0</td>\n",
       "      <td>0.0</td>\n",
       "      <td>0.0</td>\n",
       "      <td>0.0</td>\n",
       "      <td>0.0</td>\n",
       "      <td>0.0</td>\n",
       "      <td>0.0</td>\n",
       "      <td>0.0</td>\n",
       "      <td>...</td>\n",
       "      <td>0.0</td>\n",
       "      <td>0.0</td>\n",
       "      <td>0.0</td>\n",
       "      <td>0.0</td>\n",
       "      <td>0.0</td>\n",
       "      <td>0.0</td>\n",
       "      <td>0.0</td>\n",
       "      <td>0.0</td>\n",
       "      <td>0.0</td>\n",
       "      <td>0.0</td>\n",
       "    </tr>\n",
       "    <tr>\n",
       "      <th>eXistenZ (1999)</th>\n",
       "      <td>0.0</td>\n",
       "      <td>0.0</td>\n",
       "      <td>0.0</td>\n",
       "      <td>0.0</td>\n",
       "      <td>0.0</td>\n",
       "      <td>0.0</td>\n",
       "      <td>0.0</td>\n",
       "      <td>0.0</td>\n",
       "      <td>0.0</td>\n",
       "      <td>0.0</td>\n",
       "      <td>...</td>\n",
       "      <td>0.0</td>\n",
       "      <td>0.0</td>\n",
       "      <td>0.0</td>\n",
       "      <td>0.0</td>\n",
       "      <td>0.0</td>\n",
       "      <td>0.0</td>\n",
       "      <td>0.0</td>\n",
       "      <td>0.0</td>\n",
       "      <td>0.0</td>\n",
       "      <td>0.0</td>\n",
       "    </tr>\n",
       "    <tr>\n",
       "      <th>xXx (2002)</th>\n",
       "      <td>0.0</td>\n",
       "      <td>0.0</td>\n",
       "      <td>0.0</td>\n",
       "      <td>0.0</td>\n",
       "      <td>0.0</td>\n",
       "      <td>0.0</td>\n",
       "      <td>0.0</td>\n",
       "      <td>0.0</td>\n",
       "      <td>0.0</td>\n",
       "      <td>0.0</td>\n",
       "      <td>...</td>\n",
       "      <td>0.0</td>\n",
       "      <td>0.0</td>\n",
       "      <td>0.0</td>\n",
       "      <td>0.0</td>\n",
       "      <td>0.0</td>\n",
       "      <td>0.0</td>\n",
       "      <td>0.0</td>\n",
       "      <td>0.0</td>\n",
       "      <td>0.0</td>\n",
       "      <td>0.0</td>\n",
       "    </tr>\n",
       "    <tr>\n",
       "      <th>xXx: State of the Union (2005)</th>\n",
       "      <td>0.0</td>\n",
       "      <td>0.0</td>\n",
       "      <td>0.0</td>\n",
       "      <td>0.0</td>\n",
       "      <td>0.0</td>\n",
       "      <td>0.0</td>\n",
       "      <td>0.0</td>\n",
       "      <td>0.0</td>\n",
       "      <td>0.0</td>\n",
       "      <td>0.0</td>\n",
       "      <td>...</td>\n",
       "      <td>0.0</td>\n",
       "      <td>0.0</td>\n",
       "      <td>0.0</td>\n",
       "      <td>0.0</td>\n",
       "      <td>0.0</td>\n",
       "      <td>0.0</td>\n",
       "      <td>0.0</td>\n",
       "      <td>0.0</td>\n",
       "      <td>0.0</td>\n",
       "      <td>0.0</td>\n",
       "    </tr>\n",
       "    <tr>\n",
       "      <th>¡Three Amigos! (1986)</th>\n",
       "      <td>0.0</td>\n",
       "      <td>0.0</td>\n",
       "      <td>0.0</td>\n",
       "      <td>0.0</td>\n",
       "      <td>0.0</td>\n",
       "      <td>0.0</td>\n",
       "      <td>2.0</td>\n",
       "      <td>0.0</td>\n",
       "      <td>0.0</td>\n",
       "      <td>0.0</td>\n",
       "      <td>...</td>\n",
       "      <td>0.0</td>\n",
       "      <td>4.0</td>\n",
       "      <td>0.0</td>\n",
       "      <td>3.0</td>\n",
       "      <td>0.0</td>\n",
       "      <td>0.0</td>\n",
       "      <td>0.0</td>\n",
       "      <td>0.0</td>\n",
       "      <td>0.0</td>\n",
       "      <td>0.0</td>\n",
       "    </tr>\n",
       "  </tbody>\n",
       "</table>\n",
       "<p>8225 rows × 702 columns</p>\n",
       "</div>"
      ],
      "text/plain": [
       "userId                                   1    2    3    4    5    6    7    \\\n",
       "title                                                                        \n",
       "'Hellboy': The Seeds of Creation (2004)  0.0  0.0  0.0  0.0  0.0  0.0  0.0   \n",
       "'Neath the Arizona Skies (1934)          0.0  0.0  0.0  0.0  0.0  0.0  0.0   \n",
       "'Round Midnight (1986)                   0.0  0.0  0.0  0.0  0.0  0.0  0.0   \n",
       "'Til There Was You (1997)                0.0  0.0  0.0  0.0  0.0  0.0  0.0   \n",
       "'burbs, The (1989)                       0.0  0.0  0.0  0.0  0.0  0.0  0.0   \n",
       "...                                      ...  ...  ...  ...  ...  ...  ...   \n",
       "\\\\\"Great Performances\\\"\\\" Cats (1998)\"   0.0  0.0  0.0  0.0  0.0  0.0  0.0   \n",
       "eXistenZ (1999)                          0.0  0.0  0.0  0.0  0.0  0.0  0.0   \n",
       "xXx (2002)                               0.0  0.0  0.0  0.0  0.0  0.0  0.0   \n",
       "xXx: State of the Union (2005)           0.0  0.0  0.0  0.0  0.0  0.0  0.0   \n",
       "¡Three Amigos! (1986)                    0.0  0.0  0.0  0.0  0.0  0.0  2.0   \n",
       "\n",
       "userId                                   8    9    10   ...  693  694  695  \\\n",
       "title                                                   ...                  \n",
       "'Hellboy': The Seeds of Creation (2004)  0.0  0.0  0.0  ...  0.0  0.0  0.0   \n",
       "'Neath the Arizona Skies (1934)          0.0  0.0  0.0  ...  0.0  0.0  0.0   \n",
       "'Round Midnight (1986)                   0.0  0.0  0.0  ...  0.0  0.0  0.0   \n",
       "'Til There Was You (1997)                0.0  0.0  0.0  ...  0.0  0.0  0.0   \n",
       "'burbs, The (1989)                       0.0  0.0  0.0  ...  0.0  0.0  0.0   \n",
       "...                                      ...  ...  ...  ...  ...  ...  ...   \n",
       "\\\\\"Great Performances\\\"\\\" Cats (1998)\"   0.0  0.0  0.0  ...  0.0  0.0  0.0   \n",
       "eXistenZ (1999)                          0.0  0.0  0.0  ...  0.0  0.0  0.0   \n",
       "xXx (2002)                               0.0  0.0  0.0  ...  0.0  0.0  0.0   \n",
       "xXx: State of the Union (2005)           0.0  0.0  0.0  ...  0.0  0.0  0.0   \n",
       "¡Three Amigos! (1986)                    0.0  0.0  0.0  ...  0.0  4.0  0.0   \n",
       "\n",
       "userId                                   696  697  698  699  700  701  702  \n",
       "title                                                                       \n",
       "'Hellboy': The Seeds of Creation (2004)  0.0  0.0  0.0  0.0  0.0  0.0  0.0  \n",
       "'Neath the Arizona Skies (1934)          0.0  0.0  0.0  0.0  0.0  0.0  0.0  \n",
       "'Round Midnight (1986)                   0.0  0.0  0.0  0.0  0.0  0.0  0.0  \n",
       "'Til There Was You (1997)                0.0  0.0  0.0  0.0  0.0  0.0  0.0  \n",
       "'burbs, The (1989)                       0.0  0.0  0.0  0.0  3.5  0.0  0.0  \n",
       "...                                      ...  ...  ...  ...  ...  ...  ...  \n",
       "\\\\\"Great Performances\\\"\\\" Cats (1998)\"   0.0  0.0  0.0  0.0  0.0  0.0  0.0  \n",
       "eXistenZ (1999)                          0.0  0.0  0.0  0.0  0.0  0.0  0.0  \n",
       "xXx (2002)                               0.0  0.0  0.0  0.0  0.0  0.0  0.0  \n",
       "xXx: State of the Union (2005)           0.0  0.0  0.0  0.0  0.0  0.0  0.0  \n",
       "¡Three Amigos! (1986)                    3.0  0.0  0.0  0.0  0.0  0.0  0.0  \n",
       "\n",
       "[8225 rows x 702 columns]"
      ]
     },
     "execution_count": 7,
     "metadata": {},
     "output_type": "execute_result"
    }
   ],
   "source": [
    "pivot_table"
   ]
  },
  {
   "cell_type": "code",
   "execution_count": 8,
   "id": "e0b8485b",
   "metadata": {},
   "outputs": [
    {
     "data": {
      "text/plain": [
       "(8225, 702)"
      ]
     },
     "execution_count": 8,
     "metadata": {},
     "output_type": "execute_result"
    }
   ],
   "source": [
    "pivot_table.shape"
   ]
  },
  {
   "cell_type": "code",
   "execution_count": 9,
   "id": "8070d871",
   "metadata": {},
   "outputs": [],
   "source": [
    "#its shape will be (unique Title * unique User ID)"
   ]
  },
  {
   "cell_type": "code",
   "execution_count": null,
   "id": "a1d9b20c",
   "metadata": {},
   "outputs": [],
   "source": []
  },
  {
   "cell_type": "code",
   "execution_count": null,
   "id": "0a640637",
   "metadata": {},
   "outputs": [],
   "source": []
  },
  {
   "cell_type": "code",
   "execution_count": 10,
   "id": "995871c3",
   "metadata": {},
   "outputs": [
    {
     "data": {
      "text/plain": [
       "<8225x702 sparse matrix of type '<class 'numpy.float64'>'\n",
       "\twith 99997 stored elements in Compressed Sparse Row format>"
      ]
     },
     "execution_count": 10,
     "metadata": {},
     "output_type": "execute_result"
    }
   ],
   "source": [
    "# Convert the pivot_table into an array matrix\n",
    "\n",
    "from scipy.sparse import csr_matrix\n",
    "features_matrix = csr_matrix(pivot_table.values)    \n",
    "# All info of pivot table converted into an array\n",
    "\n",
    "features_matrix"
   ]
  },
  {
   "cell_type": "code",
   "execution_count": 11,
   "id": "1e7dcdbb",
   "metadata": {},
   "outputs": [
    {
     "data": {
      "text/plain": [
       "NearestNeighbors(algorithm='brute', metric='cosine')"
      ]
     },
     "execution_count": 11,
     "metadata": {},
     "output_type": "execute_result"
    }
   ],
   "source": [
    "from sklearn.neighbors import NearestNeighbors   \n",
    "# it is Not KNearestNeighbors, NearestNeighbors => Unsupervised Algo\n",
    "\n",
    "model = NearestNeighbors(metric = \"cosine\", algorithm=\"brute\")\n",
    "model.fit(features_matrix)    # p=2 => Euclidean Distance Parameter"
   ]
  },
  {
   "cell_type": "code",
   "execution_count": null,
   "id": "c67c3c0f",
   "metadata": {},
   "outputs": [],
   "source": []
  },
  {
   "cell_type": "code",
   "execution_count": 12,
   "id": "48e10d2a",
   "metadata": {},
   "outputs": [
    {
     "data": {
      "text/plain": [
       "1309"
      ]
     },
     "execution_count": 12,
     "metadata": {},
     "output_type": "execute_result"
    }
   ],
   "source": [
    "#picking up one random record/row\n",
    "query_index = np.random.choice(pivot_table.shape[0])\n",
    "query_index"
   ]
  },
  {
   "cell_type": "code",
   "execution_count": 13,
   "id": "9d1bbf9b",
   "metadata": {},
   "outputs": [
    {
     "data": {
      "text/plain": [
       "33"
      ]
     },
     "execution_count": 13,
     "metadata": {},
     "output_type": "execute_result"
    }
   ],
   "source": [
    "#picking up one random column\n",
    "query_ind=np.random.choice(pivot_table.shape[1])\n",
    "query_ind"
   ]
  },
  {
   "cell_type": "code",
   "execution_count": 14,
   "id": "20749fd9",
   "metadata": {},
   "outputs": [],
   "source": [
    "#to check similar movie for 7480 where 7480 is a movie_ID\n",
    "#values.reshape(1, -1),to get in the form of series\n",
    "\n",
    "distances, indices = model.kneighbors\\\n",
    "(pivot_table.iloc[query_index,:].values.reshape(1, -1), n_neighbors = 8)\n",
    "\n",
    "#knn returns distance value ie how far a movie is situated from this movie and their indices also"
   ]
  },
  {
   "cell_type": "code",
   "execution_count": 15,
   "id": "147c912a",
   "metadata": {},
   "outputs": [
    {
     "data": {
      "text/plain": [
       "'Career Girls (1997)'"
      ]
     },
     "execution_count": 15,
     "metadata": {},
     "output_type": "execute_result"
    }
   ],
   "source": [
    "pivot_table.index[query_index]"
   ]
  },
  {
   "cell_type": "code",
   "execution_count": 16,
   "id": "22c94034",
   "metadata": {},
   "outputs": [
    {
     "data": {
      "text/plain": [
       "array([[0.        , 0.21913119, 0.33041052, 0.37530495, 0.39736947,\n",
       "        0.44784237, 0.44784237, 0.44784237]])"
      ]
     },
     "execution_count": 16,
     "metadata": {},
     "output_type": "execute_result"
    }
   ],
   "source": [
    "distances\n",
    "\n",
    "### ie 'Tower Heist (2011)' is situated at a distance of 0.03847605 with respect to 'Born American (1986)'..\n"
   ]
  },
  {
   "cell_type": "code",
   "execution_count": 17,
   "id": "147f80c5",
   "metadata": {},
   "outputs": [
    {
     "data": {
      "text/plain": [
       "array([1309, 1820, 4659, 3415, 7746, 6756, 5121, 4626], dtype=int64)"
      ]
     },
     "execution_count": 17,
     "metadata": {},
     "output_type": "execute_result"
    }
   ],
   "source": [
    "indices.flatten()"
   ]
  },
  {
   "cell_type": "code",
   "execution_count": 18,
   "id": "db3af775",
   "metadata": {},
   "outputs": [
    {
     "data": {
      "text/plain": [
       "'Born American (1986)'"
      ]
     },
     "execution_count": 18,
     "metadata": {},
     "output_type": "execute_result"
    }
   ],
   "source": [
    "pivot_table.index[1059]"
   ]
  },
  {
   "cell_type": "code",
   "execution_count": 19,
   "id": "8ff15252",
   "metadata": {},
   "outputs": [
    {
     "data": {
      "text/plain": [
       "Index(['Career Girls (1997)', 'Dancemaker (1998)',\n",
       "       'Marcello Mastroianni: I Remember Yes, I Remember (Marcello Mastroianni: mi ricordo, sì, io mi ricordo) (1997)',\n",
       "       'Hollow Reed (1996)', 'Vanya on 42nd Street (1994)',\n",
       "       'Some Mother's Son (1996)', 'My Son the Fanatic (1997)',\n",
       "       'Man of No Importance, A (1994)'],\n",
       "      dtype='object', name='title')"
      ]
     },
     "execution_count": 19,
     "metadata": {},
     "output_type": "execute_result"
    }
   ],
   "source": [
    "pivot_table.iloc[indices.flatten()].index\n"
   ]
  },
  {
   "cell_type": "code",
   "execution_count": null,
   "id": "ff8a3856",
   "metadata": {},
   "outputs": [],
   "source": []
  },
  {
   "cell_type": "code",
   "execution_count": null,
   "id": "05f29db0",
   "metadata": {},
   "outputs": [],
   "source": []
  },
  {
   "cell_type": "code",
   "execution_count": 20,
   "id": "6f39e782",
   "metadata": {},
   "outputs": [
    {
     "data": {
      "text/html": [
       "<div>\n",
       "<style scoped>\n",
       "    .dataframe tbody tr th:only-of-type {\n",
       "        vertical-align: middle;\n",
       "    }\n",
       "\n",
       "    .dataframe tbody tr th {\n",
       "        vertical-align: top;\n",
       "    }\n",
       "\n",
       "    .dataframe thead th {\n",
       "        text-align: right;\n",
       "    }\n",
       "</style>\n",
       "<table border=\"1\" class=\"dataframe\">\n",
       "  <thead>\n",
       "    <tr style=\"text-align: right;\">\n",
       "      <th>userId</th>\n",
       "      <th>1</th>\n",
       "      <th>2</th>\n",
       "      <th>3</th>\n",
       "      <th>4</th>\n",
       "      <th>5</th>\n",
       "      <th>6</th>\n",
       "      <th>7</th>\n",
       "      <th>8</th>\n",
       "      <th>9</th>\n",
       "      <th>10</th>\n",
       "      <th>...</th>\n",
       "      <th>693</th>\n",
       "      <th>694</th>\n",
       "      <th>695</th>\n",
       "      <th>696</th>\n",
       "      <th>697</th>\n",
       "      <th>698</th>\n",
       "      <th>699</th>\n",
       "      <th>700</th>\n",
       "      <th>701</th>\n",
       "      <th>702</th>\n",
       "    </tr>\n",
       "    <tr>\n",
       "      <th>title</th>\n",
       "      <th></th>\n",
       "      <th></th>\n",
       "      <th></th>\n",
       "      <th></th>\n",
       "      <th></th>\n",
       "      <th></th>\n",
       "      <th></th>\n",
       "      <th></th>\n",
       "      <th></th>\n",
       "      <th></th>\n",
       "      <th></th>\n",
       "      <th></th>\n",
       "      <th></th>\n",
       "      <th></th>\n",
       "      <th></th>\n",
       "      <th></th>\n",
       "      <th></th>\n",
       "      <th></th>\n",
       "      <th></th>\n",
       "      <th></th>\n",
       "      <th></th>\n",
       "    </tr>\n",
       "  </thead>\n",
       "  <tbody>\n",
       "    <tr>\n",
       "      <th>'Hellboy': The Seeds of Creation (2004)</th>\n",
       "      <td>0.0</td>\n",
       "      <td>0.0</td>\n",
       "      <td>0.0</td>\n",
       "      <td>0.0</td>\n",
       "      <td>0.0</td>\n",
       "      <td>0.0</td>\n",
       "      <td>0.0</td>\n",
       "      <td>0.0</td>\n",
       "      <td>0.0</td>\n",
       "      <td>0.0</td>\n",
       "      <td>...</td>\n",
       "      <td>0.0</td>\n",
       "      <td>0.0</td>\n",
       "      <td>0.0</td>\n",
       "      <td>0.0</td>\n",
       "      <td>0.0</td>\n",
       "      <td>0.0</td>\n",
       "      <td>0.0</td>\n",
       "      <td>0.0</td>\n",
       "      <td>0.0</td>\n",
       "      <td>0.0</td>\n",
       "    </tr>\n",
       "    <tr>\n",
       "      <th>'Neath the Arizona Skies (1934)</th>\n",
       "      <td>0.0</td>\n",
       "      <td>0.0</td>\n",
       "      <td>0.0</td>\n",
       "      <td>0.0</td>\n",
       "      <td>0.0</td>\n",
       "      <td>0.0</td>\n",
       "      <td>0.0</td>\n",
       "      <td>0.0</td>\n",
       "      <td>0.0</td>\n",
       "      <td>0.0</td>\n",
       "      <td>...</td>\n",
       "      <td>0.0</td>\n",
       "      <td>0.0</td>\n",
       "      <td>0.0</td>\n",
       "      <td>0.0</td>\n",
       "      <td>0.0</td>\n",
       "      <td>0.0</td>\n",
       "      <td>0.0</td>\n",
       "      <td>0.0</td>\n",
       "      <td>0.0</td>\n",
       "      <td>0.0</td>\n",
       "    </tr>\n",
       "    <tr>\n",
       "      <th>'Round Midnight (1986)</th>\n",
       "      <td>0.0</td>\n",
       "      <td>0.0</td>\n",
       "      <td>0.0</td>\n",
       "      <td>0.0</td>\n",
       "      <td>0.0</td>\n",
       "      <td>0.0</td>\n",
       "      <td>0.0</td>\n",
       "      <td>0.0</td>\n",
       "      <td>0.0</td>\n",
       "      <td>0.0</td>\n",
       "      <td>...</td>\n",
       "      <td>0.0</td>\n",
       "      <td>0.0</td>\n",
       "      <td>0.0</td>\n",
       "      <td>0.0</td>\n",
       "      <td>0.0</td>\n",
       "      <td>0.0</td>\n",
       "      <td>0.0</td>\n",
       "      <td>0.0</td>\n",
       "      <td>0.0</td>\n",
       "      <td>0.0</td>\n",
       "    </tr>\n",
       "    <tr>\n",
       "      <th>'Til There Was You (1997)</th>\n",
       "      <td>0.0</td>\n",
       "      <td>0.0</td>\n",
       "      <td>0.0</td>\n",
       "      <td>0.0</td>\n",
       "      <td>0.0</td>\n",
       "      <td>0.0</td>\n",
       "      <td>0.0</td>\n",
       "      <td>0.0</td>\n",
       "      <td>0.0</td>\n",
       "      <td>0.0</td>\n",
       "      <td>...</td>\n",
       "      <td>0.0</td>\n",
       "      <td>0.0</td>\n",
       "      <td>0.0</td>\n",
       "      <td>0.0</td>\n",
       "      <td>0.0</td>\n",
       "      <td>0.0</td>\n",
       "      <td>0.0</td>\n",
       "      <td>0.0</td>\n",
       "      <td>0.0</td>\n",
       "      <td>0.0</td>\n",
       "    </tr>\n",
       "    <tr>\n",
       "      <th>'burbs, The (1989)</th>\n",
       "      <td>0.0</td>\n",
       "      <td>0.0</td>\n",
       "      <td>0.0</td>\n",
       "      <td>0.0</td>\n",
       "      <td>0.0</td>\n",
       "      <td>0.0</td>\n",
       "      <td>0.0</td>\n",
       "      <td>0.0</td>\n",
       "      <td>0.0</td>\n",
       "      <td>0.0</td>\n",
       "      <td>...</td>\n",
       "      <td>0.0</td>\n",
       "      <td>0.0</td>\n",
       "      <td>0.0</td>\n",
       "      <td>0.0</td>\n",
       "      <td>0.0</td>\n",
       "      <td>0.0</td>\n",
       "      <td>0.0</td>\n",
       "      <td>3.5</td>\n",
       "      <td>0.0</td>\n",
       "      <td>0.0</td>\n",
       "    </tr>\n",
       "    <tr>\n",
       "      <th>...</th>\n",
       "      <td>...</td>\n",
       "      <td>...</td>\n",
       "      <td>...</td>\n",
       "      <td>...</td>\n",
       "      <td>...</td>\n",
       "      <td>...</td>\n",
       "      <td>...</td>\n",
       "      <td>...</td>\n",
       "      <td>...</td>\n",
       "      <td>...</td>\n",
       "      <td>...</td>\n",
       "      <td>...</td>\n",
       "      <td>...</td>\n",
       "      <td>...</td>\n",
       "      <td>...</td>\n",
       "      <td>...</td>\n",
       "      <td>...</td>\n",
       "      <td>...</td>\n",
       "      <td>...</td>\n",
       "      <td>...</td>\n",
       "      <td>...</td>\n",
       "    </tr>\n",
       "    <tr>\n",
       "      <th>\\\\\"Great Performances\\\"\\\" Cats (1998)\"</th>\n",
       "      <td>0.0</td>\n",
       "      <td>0.0</td>\n",
       "      <td>0.0</td>\n",
       "      <td>0.0</td>\n",
       "      <td>0.0</td>\n",
       "      <td>0.0</td>\n",
       "      <td>0.0</td>\n",
       "      <td>0.0</td>\n",
       "      <td>0.0</td>\n",
       "      <td>0.0</td>\n",
       "      <td>...</td>\n",
       "      <td>0.0</td>\n",
       "      <td>0.0</td>\n",
       "      <td>0.0</td>\n",
       "      <td>0.0</td>\n",
       "      <td>0.0</td>\n",
       "      <td>0.0</td>\n",
       "      <td>0.0</td>\n",
       "      <td>0.0</td>\n",
       "      <td>0.0</td>\n",
       "      <td>0.0</td>\n",
       "    </tr>\n",
       "    <tr>\n",
       "      <th>eXistenZ (1999)</th>\n",
       "      <td>0.0</td>\n",
       "      <td>0.0</td>\n",
       "      <td>0.0</td>\n",
       "      <td>0.0</td>\n",
       "      <td>0.0</td>\n",
       "      <td>0.0</td>\n",
       "      <td>0.0</td>\n",
       "      <td>0.0</td>\n",
       "      <td>0.0</td>\n",
       "      <td>0.0</td>\n",
       "      <td>...</td>\n",
       "      <td>0.0</td>\n",
       "      <td>0.0</td>\n",
       "      <td>0.0</td>\n",
       "      <td>0.0</td>\n",
       "      <td>0.0</td>\n",
       "      <td>0.0</td>\n",
       "      <td>0.0</td>\n",
       "      <td>0.0</td>\n",
       "      <td>0.0</td>\n",
       "      <td>0.0</td>\n",
       "    </tr>\n",
       "    <tr>\n",
       "      <th>xXx (2002)</th>\n",
       "      <td>0.0</td>\n",
       "      <td>0.0</td>\n",
       "      <td>0.0</td>\n",
       "      <td>0.0</td>\n",
       "      <td>0.0</td>\n",
       "      <td>0.0</td>\n",
       "      <td>0.0</td>\n",
       "      <td>0.0</td>\n",
       "      <td>0.0</td>\n",
       "      <td>0.0</td>\n",
       "      <td>...</td>\n",
       "      <td>0.0</td>\n",
       "      <td>0.0</td>\n",
       "      <td>0.0</td>\n",
       "      <td>0.0</td>\n",
       "      <td>0.0</td>\n",
       "      <td>0.0</td>\n",
       "      <td>0.0</td>\n",
       "      <td>0.0</td>\n",
       "      <td>0.0</td>\n",
       "      <td>0.0</td>\n",
       "    </tr>\n",
       "    <tr>\n",
       "      <th>xXx: State of the Union (2005)</th>\n",
       "      <td>0.0</td>\n",
       "      <td>0.0</td>\n",
       "      <td>0.0</td>\n",
       "      <td>0.0</td>\n",
       "      <td>0.0</td>\n",
       "      <td>0.0</td>\n",
       "      <td>0.0</td>\n",
       "      <td>0.0</td>\n",
       "      <td>0.0</td>\n",
       "      <td>0.0</td>\n",
       "      <td>...</td>\n",
       "      <td>0.0</td>\n",
       "      <td>0.0</td>\n",
       "      <td>0.0</td>\n",
       "      <td>0.0</td>\n",
       "      <td>0.0</td>\n",
       "      <td>0.0</td>\n",
       "      <td>0.0</td>\n",
       "      <td>0.0</td>\n",
       "      <td>0.0</td>\n",
       "      <td>0.0</td>\n",
       "    </tr>\n",
       "    <tr>\n",
       "      <th>¡Three Amigos! (1986)</th>\n",
       "      <td>0.0</td>\n",
       "      <td>0.0</td>\n",
       "      <td>0.0</td>\n",
       "      <td>0.0</td>\n",
       "      <td>0.0</td>\n",
       "      <td>0.0</td>\n",
       "      <td>2.0</td>\n",
       "      <td>0.0</td>\n",
       "      <td>0.0</td>\n",
       "      <td>0.0</td>\n",
       "      <td>...</td>\n",
       "      <td>0.0</td>\n",
       "      <td>4.0</td>\n",
       "      <td>0.0</td>\n",
       "      <td>3.0</td>\n",
       "      <td>0.0</td>\n",
       "      <td>0.0</td>\n",
       "      <td>0.0</td>\n",
       "      <td>0.0</td>\n",
       "      <td>0.0</td>\n",
       "      <td>0.0</td>\n",
       "    </tr>\n",
       "  </tbody>\n",
       "</table>\n",
       "<p>8225 rows × 702 columns</p>\n",
       "</div>"
      ],
      "text/plain": [
       "userId                                   1    2    3    4    5    6    7    \\\n",
       "title                                                                        \n",
       "'Hellboy': The Seeds of Creation (2004)  0.0  0.0  0.0  0.0  0.0  0.0  0.0   \n",
       "'Neath the Arizona Skies (1934)          0.0  0.0  0.0  0.0  0.0  0.0  0.0   \n",
       "'Round Midnight (1986)                   0.0  0.0  0.0  0.0  0.0  0.0  0.0   \n",
       "'Til There Was You (1997)                0.0  0.0  0.0  0.0  0.0  0.0  0.0   \n",
       "'burbs, The (1989)                       0.0  0.0  0.0  0.0  0.0  0.0  0.0   \n",
       "...                                      ...  ...  ...  ...  ...  ...  ...   \n",
       "\\\\\"Great Performances\\\"\\\" Cats (1998)\"   0.0  0.0  0.0  0.0  0.0  0.0  0.0   \n",
       "eXistenZ (1999)                          0.0  0.0  0.0  0.0  0.0  0.0  0.0   \n",
       "xXx (2002)                               0.0  0.0  0.0  0.0  0.0  0.0  0.0   \n",
       "xXx: State of the Union (2005)           0.0  0.0  0.0  0.0  0.0  0.0  0.0   \n",
       "¡Three Amigos! (1986)                    0.0  0.0  0.0  0.0  0.0  0.0  2.0   \n",
       "\n",
       "userId                                   8    9    10   ...  693  694  695  \\\n",
       "title                                                   ...                  \n",
       "'Hellboy': The Seeds of Creation (2004)  0.0  0.0  0.0  ...  0.0  0.0  0.0   \n",
       "'Neath the Arizona Skies (1934)          0.0  0.0  0.0  ...  0.0  0.0  0.0   \n",
       "'Round Midnight (1986)                   0.0  0.0  0.0  ...  0.0  0.0  0.0   \n",
       "'Til There Was You (1997)                0.0  0.0  0.0  ...  0.0  0.0  0.0   \n",
       "'burbs, The (1989)                       0.0  0.0  0.0  ...  0.0  0.0  0.0   \n",
       "...                                      ...  ...  ...  ...  ...  ...  ...   \n",
       "\\\\\"Great Performances\\\"\\\" Cats (1998)\"   0.0  0.0  0.0  ...  0.0  0.0  0.0   \n",
       "eXistenZ (1999)                          0.0  0.0  0.0  ...  0.0  0.0  0.0   \n",
       "xXx (2002)                               0.0  0.0  0.0  ...  0.0  0.0  0.0   \n",
       "xXx: State of the Union (2005)           0.0  0.0  0.0  ...  0.0  0.0  0.0   \n",
       "¡Three Amigos! (1986)                    0.0  0.0  0.0  ...  0.0  4.0  0.0   \n",
       "\n",
       "userId                                   696  697  698  699  700  701  702  \n",
       "title                                                                       \n",
       "'Hellboy': The Seeds of Creation (2004)  0.0  0.0  0.0  0.0  0.0  0.0  0.0  \n",
       "'Neath the Arizona Skies (1934)          0.0  0.0  0.0  0.0  0.0  0.0  0.0  \n",
       "'Round Midnight (1986)                   0.0  0.0  0.0  0.0  0.0  0.0  0.0  \n",
       "'Til There Was You (1997)                0.0  0.0  0.0  0.0  0.0  0.0  0.0  \n",
       "'burbs, The (1989)                       0.0  0.0  0.0  0.0  3.5  0.0  0.0  \n",
       "...                                      ...  ...  ...  ...  ...  ...  ...  \n",
       "\\\\\"Great Performances\\\"\\\" Cats (1998)\"   0.0  0.0  0.0  0.0  0.0  0.0  0.0  \n",
       "eXistenZ (1999)                          0.0  0.0  0.0  0.0  0.0  0.0  0.0  \n",
       "xXx (2002)                               0.0  0.0  0.0  0.0  0.0  0.0  0.0  \n",
       "xXx: State of the Union (2005)           0.0  0.0  0.0  0.0  0.0  0.0  0.0  \n",
       "¡Three Amigos! (1986)                    3.0  0.0  0.0  0.0  0.0  0.0  0.0  \n",
       "\n",
       "[8225 rows x 702 columns]"
      ]
     },
     "execution_count": 20,
     "metadata": {},
     "output_type": "execute_result"
    }
   ],
   "source": [
    "pivot_table"
   ]
  },
  {
   "cell_type": "code",
   "execution_count": 21,
   "id": "8d062db5",
   "metadata": {},
   "outputs": [
    {
     "data": {
      "text/plain": [
       "'Career Girls (1997)'"
      ]
     },
     "execution_count": 21,
     "metadata": {},
     "output_type": "execute_result"
    }
   ],
   "source": [
    "pivot_table.index[query_index]\n",
    "\n",
    "## e.g ,  pivot_table.index[7480]"
   ]
  },
  {
   "cell_type": "code",
   "execution_count": 22,
   "id": "4a43a208",
   "metadata": {},
   "outputs": [
    {
     "data": {
      "text/plain": [
       "Index(['Career Girls (1997)', 'Dancemaker (1998)',\n",
       "       'Marcello Mastroianni: I Remember Yes, I Remember (Marcello Mastroianni: mi ricordo, sì, io mi ricordo) (1997)',\n",
       "       'Hollow Reed (1996)', 'Vanya on 42nd Street (1994)',\n",
       "       'Some Mother's Son (1996)', 'My Son the Fanatic (1997)',\n",
       "       'Man of No Importance, A (1994)'],\n",
       "      dtype='object', name='title')"
      ]
     },
     "execution_count": 22,
     "metadata": {},
     "output_type": "execute_result"
    }
   ],
   "source": [
    "### so below are the most recommended movies for'Who Framed Roger Rabbit? (1988)'\n",
    "\n",
    "pivot_table.iloc[indices.flatten()].index"
   ]
  },
  {
   "cell_type": "code",
   "execution_count": null,
   "id": "aa19d9ed",
   "metadata": {},
   "outputs": [],
   "source": []
  },
  {
   "cell_type": "markdown",
   "id": "c76b396e",
   "metadata": {},
   "source": [
    "#### lets try to make results more user-friendly..."
   ]
  },
  {
   "cell_type": "code",
   "execution_count": 23,
   "id": "1b74ce0e",
   "metadata": {},
   "outputs": [
    {
     "data": {
      "text/plain": [
       "array([1309, 1820, 4659, 3415, 7746, 6756, 5121, 4626], dtype=int64)"
      ]
     },
     "execution_count": 23,
     "metadata": {},
     "output_type": "execute_result"
    }
   ],
   "source": [
    "indices.flatten()"
   ]
  },
  {
   "cell_type": "code",
   "execution_count": 24,
   "id": "b99ec20a",
   "metadata": {},
   "outputs": [
    {
     "data": {
      "text/plain": [
       "array([0.        , 0.21913119, 0.33041052, 0.37530495, 0.39736947,\n",
       "       0.44784237, 0.44784237, 0.44784237])"
      ]
     },
     "execution_count": 24,
     "metadata": {},
     "output_type": "execute_result"
    }
   ],
   "source": [
    "distances.flatten()"
   ]
  },
  {
   "cell_type": "code",
   "execution_count": null,
   "id": "9cb02e60",
   "metadata": {},
   "outputs": [],
   "source": []
  },
  {
   "cell_type": "code",
   "execution_count": 25,
   "id": "dbb82123",
   "metadata": {},
   "outputs": [
    {
     "name": "stdout",
     "output_type": "stream",
     "text": [
      "Recommendations for Career Girls (1997):\n",
      "\n",
      "1: Dancemaker (1998), with distance of 0.2191311905569696:\n",
      "2: Marcello Mastroianni: I Remember Yes, I Remember (Marcello Mastroianni: mi ricordo, sì, io mi ricordo) (1997), with distance of 0.33041051999302484:\n",
      "3: Hollow Reed (1996), with distance of 0.3753049524455757:\n",
      "4: Vanya on 42nd Street (1994), with distance of 0.3973694679937223:\n",
      "5: Some Mother's Son (1996), with distance of 0.4478423696257673:\n",
      "6: My Son the Fanatic (1997), with distance of 0.4478423696257673:\n",
      "7: Man of No Importance, A (1994), with distance of 0.4478423696257673:\n"
     ]
    }
   ],
   "source": [
    "for i in range(0,len(distances.flatten())):\n",
    "    if i == 0:\n",
    "        print('Recommendations for {0}:\\n'.format(pivot_table.index[query_index]))\n",
    "    else:\n",
    "        print('{0}: {1}, with distance of {2}:'.\\\n",
    "      format(i, pivot_table.index[indices.flatten()[i]], distances.flatten()[i]))"
   ]
  },
  {
   "cell_type": "code",
   "execution_count": null,
   "id": "1582ddcd",
   "metadata": {},
   "outputs": [],
   "source": []
  },
  {
   "cell_type": "code",
   "execution_count": null,
   "id": "5ad77567",
   "metadata": {},
   "outputs": [],
   "source": []
  },
  {
   "cell_type": "code",
   "execution_count": null,
   "id": "c0ef5a9f",
   "metadata": {},
   "outputs": [],
   "source": []
  },
  {
   "cell_type": "code",
   "execution_count": null,
   "id": "783ca5cc",
   "metadata": {},
   "outputs": [],
   "source": []
  },
  {
   "cell_type": "code",
   "execution_count": null,
   "id": "ad74a028",
   "metadata": {},
   "outputs": [],
   "source": []
  },
  {
   "cell_type": "code",
   "execution_count": null,
   "id": "5273c762",
   "metadata": {},
   "outputs": [],
   "source": []
  },
  {
   "cell_type": "code",
   "execution_count": null,
   "id": "89111d07",
   "metadata": {},
   "outputs": [],
   "source": []
  },
  {
   "cell_type": "code",
   "execution_count": null,
   "id": "7530c426",
   "metadata": {},
   "outputs": [],
   "source": []
  },
  {
   "cell_type": "code",
   "execution_count": null,
   "id": "7bc2a3eb",
   "metadata": {},
   "outputs": [],
   "source": []
  },
  {
   "cell_type": "code",
   "execution_count": null,
   "id": "0941eb6c",
   "metadata": {},
   "outputs": [],
   "source": []
  }
 ],
 "metadata": {
  "kernelspec": {
   "display_name": "Python 3",
   "language": "python",
   "name": "python3"
  },
  "language_info": {
   "codemirror_mode": {
    "name": "ipython",
    "version": 3
   },
   "file_extension": ".py",
   "mimetype": "text/x-python",
   "name": "python",
   "nbconvert_exporter": "python",
   "pygments_lexer": "ipython3",
   "version": "3.8.8"
  }
 },
 "nbformat": 4,
 "nbformat_minor": 5
}
