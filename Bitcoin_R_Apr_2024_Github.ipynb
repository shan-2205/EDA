{
 "cells": [
  {
   "cell_type": "code",
   "execution_count": null,
   "id": "9857f872",
   "metadata": {},
   "outputs": [],
   "source": []
  },
  {
   "cell_type": "code",
   "execution_count": null,
   "id": "54a4925e",
   "metadata": {},
   "outputs": [],
   "source": []
  },
  {
   "cell_type": "code",
   "execution_count": null,
   "id": "9d7d68cb-bec3-496d-876d-c3650e9421fd",
   "metadata": {},
   "outputs": [],
   "source": []
  },
  {
   "cell_type": "code",
   "execution_count": null,
   "id": "42bc4315-e3b2-48e8-81fd-b002ba55c44a",
   "metadata": {},
   "outputs": [],
   "source": []
  },
  {
   "cell_type": "markdown",
   "id": "b838e32f",
   "metadata": {},
   "source": [
    "# 1.. Lets Read data & perform basic basic analysis !"
   ]
  },
  {
   "cell_type": "code",
   "execution_count": 2,
   "id": "e9bafcbc-6242-4a3e-a4ea-162338a1f5e1",
   "metadata": {},
   "outputs": [],
   "source": [
    "library(dplyr)\n",
    "library(ggplot2)\n",
    "library(plotly)"
   ]
  },
  {
   "cell_type": "code",
   "execution_count": 3,
   "id": "a7010835",
   "metadata": {},
   "outputs": [
    {
     "data": {
      "text/html": [
       "<pre class=language-r><code>function (file, header = TRUE, sep = \",\", quote = \"\\\"\", dec = \".\", \n",
       "<span style=white-space:pre-wrap>    fill = TRUE, comment.char = \"\", ...) </span>\n",
       "NULL</code></pre>"
      ],
      "text/latex": [
       "\\begin{minted}{r}\n",
       "function (file, header = TRUE, sep = \",\", quote = \"\\textbackslash{}\"\", dec = \".\", \n",
       "    fill = TRUE, comment.char = \"\", ...) \n",
       "NULL\n",
       "\\end{minted}"
      ],
      "text/markdown": [
       "```r\n",
       "function (file, header = TRUE, sep = \",\", quote = \"\\\"\", dec = \".\", \n",
       "    fill = TRUE, comment.char = \"\", ...) \n",
       "NULL\n",
       "```"
      ],
      "text/plain": [
       "function (file, header = TRUE, sep = \",\", quote = \"\\\"\", dec = \".\", \n",
       "    fill = TRUE, comment.char = \"\", ...) \n",
       "NULL"
      ]
     },
     "metadata": {},
     "output_type": "display_data"
    }
   ],
   "source": [
    "args(read.csv)"
   ]
  },
  {
   "cell_type": "code",
   "execution_count": null,
   "id": "cd5b033a",
   "metadata": {},
   "outputs": [],
   "source": [
    "help(read.csv)\n",
    "\n",
    "### Reads a file in table format and creates a data frame from it"
   ]
  },
  {
   "cell_type": "code",
   "execution_count": null,
   "id": "2dfee288",
   "metadata": {},
   "outputs": [],
   "source": [
    "\"\n",
    "\n",
    "Parameters:\n",
    "\n",
    "file : The path to the CSV file to be read.\n",
    "header : A logical value indicating whether the file contains the names of the variables as the first line (header). \n",
    "         Default is TRUE.\n",
    "sep : The separator character used in the CSV file. Default is \",\"\n",
    "quote : The character used to enclose fields that contain special characters, such as commas or line breaks. \n",
    "        Default is \"\\\"\"\n",
    "dec : The character used in the file for decimal points. Default is \".\" ..\n",
    "fill : A logical value indicating whether to fill missing fields with NA. Default is TRUE.\n",
    "comment.char : The character used to indicate comments in the file. Default is an empty string.\n",
    "... : Additional arguments to be passed to read.table().\n",
    "\n",
    "\n",
    "\n",
    "\""
   ]
  },
  {
   "cell_type": "code",
   "execution_count": 4,
   "id": "40521ba0",
   "metadata": {},
   "outputs": [],
   "source": [
    "# Assuming the file path is 'Z:\\\\Data_Analysis_Projects\\\\Bitcoin/bitcoin_price_Training - Training.csv'\n",
    "## file_path = 'Z:\\\\Data_Analysis_Projects\\\\Bitcoin/bitcoin_price_Training - Training.csv' # OLD PC\n",
    "\n",
    "file_path = \"R:/All_Datasets/Data_Analysis_Projects/Bitcoin/\n",
    "            bitcoin_price_Training - Training.csv\"\n",
    "\n",
    "df = read.csv(file_path)\n",
    "\n",
    "## while mentioning file path , mention either '/' or '\\\\' or '//'\n",
    "## Note : '\\'(single backward slash) will not work .. \n",
    "## ie R uses forward slash instead of single backward slash in filename"
   ]
  },
  {
   "cell_type": "code",
   "execution_count": 5,
   "id": "12878aa0",
   "metadata": {},
   "outputs": [
    {
     "data": {
      "text/html": [
       "<table class=\"dataframe\">\n",
       "<caption>A data.frame: 3 × 7</caption>\n",
       "<thead>\n",
       "\t<tr><th></th><th scope=col>Date</th><th scope=col>Open</th><th scope=col>High</th><th scope=col>Low</th><th scope=col>Close</th><th scope=col>Volume</th><th scope=col>Market.Cap</th></tr>\n",
       "\t<tr><th></th><th scope=col>&lt;chr&gt;</th><th scope=col>&lt;dbl&gt;</th><th scope=col>&lt;dbl&gt;</th><th scope=col>&lt;dbl&gt;</th><th scope=col>&lt;dbl&gt;</th><th scope=col>&lt;chr&gt;</th><th scope=col>&lt;chr&gt;</th></tr>\n",
       "</thead>\n",
       "<tbody>\n",
       "\t<tr><th scope=row>1</th><td>Jul 31, 2017</td><td>2763.24</td><td>2889.62</td><td>2720.61</td><td>2875.34</td><td>860,575,000</td><td>45,535,800,000</td></tr>\n",
       "\t<tr><th scope=row>2</th><td>Jul 30, 2017</td><td>2724.39</td><td>2758.53</td><td>2644.85</td><td>2757.18</td><td>705,943,000</td><td>44,890,700,000</td></tr>\n",
       "\t<tr><th scope=row>3</th><td>Jul 29, 2017</td><td>2807.02</td><td>2808.76</td><td>2692.80</td><td>2726.45</td><td>803,746,000</td><td>46,246,700,000</td></tr>\n",
       "</tbody>\n",
       "</table>\n"
      ],
      "text/latex": [
       "A data.frame: 3 × 7\n",
       "\\begin{tabular}{r|lllllll}\n",
       "  & Date & Open & High & Low & Close & Volume & Market.Cap\\\\\n",
       "  & <chr> & <dbl> & <dbl> & <dbl> & <dbl> & <chr> & <chr>\\\\\n",
       "\\hline\n",
       "\t1 & Jul 31, 2017 & 2763.24 & 2889.62 & 2720.61 & 2875.34 & 860,575,000 & 45,535,800,000\\\\\n",
       "\t2 & Jul 30, 2017 & 2724.39 & 2758.53 & 2644.85 & 2757.18 & 705,943,000 & 44,890,700,000\\\\\n",
       "\t3 & Jul 29, 2017 & 2807.02 & 2808.76 & 2692.80 & 2726.45 & 803,746,000 & 46,246,700,000\\\\\n",
       "\\end{tabular}\n"
      ],
      "text/markdown": [
       "\n",
       "A data.frame: 3 × 7\n",
       "\n",
       "| <!--/--> | Date &lt;chr&gt; | Open &lt;dbl&gt; | High &lt;dbl&gt; | Low &lt;dbl&gt; | Close &lt;dbl&gt; | Volume &lt;chr&gt; | Market.Cap &lt;chr&gt; |\n",
       "|---|---|---|---|---|---|---|---|\n",
       "| 1 | Jul 31, 2017 | 2763.24 | 2889.62 | 2720.61 | 2875.34 | 860,575,000 | 45,535,800,000 |\n",
       "| 2 | Jul 30, 2017 | 2724.39 | 2758.53 | 2644.85 | 2757.18 | 705,943,000 | 44,890,700,000 |\n",
       "| 3 | Jul 29, 2017 | 2807.02 | 2808.76 | 2692.80 | 2726.45 | 803,746,000 | 46,246,700,000 |\n",
       "\n"
      ],
      "text/plain": [
       "  Date         Open    High    Low     Close   Volume      Market.Cap    \n",
       "1 Jul 31, 2017 2763.24 2889.62 2720.61 2875.34 860,575,000 45,535,800,000\n",
       "2 Jul 30, 2017 2724.39 2758.53 2644.85 2757.18 705,943,000 44,890,700,000\n",
       "3 Jul 29, 2017 2807.02 2808.76 2692.80 2726.45 803,746,000 46,246,700,000"
      ]
     },
     "metadata": {},
     "output_type": "display_data"
    }
   ],
   "source": [
    "head(df , 3)"
   ]
  },
  {
   "cell_type": "code",
   "execution_count": 6,
   "id": "5314922d",
   "metadata": {},
   "outputs": [],
   "source": [
    "## help(names)\n",
    "\n",
    "## names() is used to get or set the names of the elements in an \n",
    "## object(vector, matrix , list or data frame)"
   ]
  },
  {
   "cell_type": "code",
   "execution_count": 7,
   "id": "16f53def",
   "metadata": {},
   "outputs": [
    {
     "data": {
      "text/html": [
       "<style>\n",
       ".list-inline {list-style: none; margin:0; padding: 0}\n",
       ".list-inline>li {display: inline-block}\n",
       ".list-inline>li:not(:last-child)::after {content: \"\\00b7\"; padding: 0 .5ex}\n",
       "</style>\n",
       "<ol class=list-inline><li>'Date'</li><li>'Open'</li><li>'High'</li><li>'Low'</li><li>'Close'</li><li>'Volume'</li><li>'Market.Cap'</li></ol>\n"
      ],
      "text/latex": [
       "\\begin{enumerate*}\n",
       "\\item 'Date'\n",
       "\\item 'Open'\n",
       "\\item 'High'\n",
       "\\item 'Low'\n",
       "\\item 'Close'\n",
       "\\item 'Volume'\n",
       "\\item 'Market.Cap'\n",
       "\\end{enumerate*}\n"
      ],
      "text/markdown": [
       "1. 'Date'\n",
       "2. 'Open'\n",
       "3. 'High'\n",
       "4. 'Low'\n",
       "5. 'Close'\n",
       "6. 'Volume'\n",
       "7. 'Market.Cap'\n",
       "\n",
       "\n"
      ],
      "text/plain": [
       "[1] \"Date\"       \"Open\"       \"High\"       \"Low\"        \"Close\"     \n",
       "[6] \"Volume\"     \"Market.Cap\""
      ]
     },
     "metadata": {},
     "output_type": "display_data"
    }
   ],
   "source": [
    "names(df)"
   ]
  },
  {
   "cell_type": "code",
   "execution_count": null,
   "id": "644725a3",
   "metadata": {},
   "outputs": [],
   "source": []
  },
  {
   "cell_type": "code",
   "execution_count": null,
   "id": "eb7276d0",
   "metadata": {},
   "outputs": [],
   "source": [
    "## help(dim)\n",
    "## dim() in R is used to retrieve or set the dimensions of an array-like object \n",
    "## such as matrices, arrays or data frames"
   ]
  },
  {
   "cell_type": "code",
   "execution_count": 8,
   "id": "22ab3dbf",
   "metadata": {},
   "outputs": [
    {
     "data": {
      "text/html": [
       "<style>\n",
       ".list-inline {list-style: none; margin:0; padding: 0}\n",
       ".list-inline>li {display: inline-block}\n",
       ".list-inline>li:not(:last-child)::after {content: \"\\00b7\"; padding: 0 .5ex}\n",
       "</style>\n",
       "<ol class=list-inline><li>1556</li><li>7</li></ol>\n"
      ],
      "text/latex": [
       "\\begin{enumerate*}\n",
       "\\item 1556\n",
       "\\item 7\n",
       "\\end{enumerate*}\n"
      ],
      "text/markdown": [
       "1. 1556\n",
       "2. 7\n",
       "\n",
       "\n"
      ],
      "text/plain": [
       "[1] 1556    7"
      ]
     },
     "metadata": {},
     "output_type": "display_data"
    }
   ],
   "source": [
    "dim(df)"
   ]
  },
  {
   "cell_type": "code",
   "execution_count": null,
   "id": "cbbb6d97",
   "metadata": {},
   "outputs": [],
   "source": []
  },
  {
   "cell_type": "code",
   "execution_count": null,
   "id": "a119cf6a",
   "metadata": {},
   "outputs": [],
   "source": []
  },
  {
   "cell_type": "code",
   "execution_count": 7,
   "id": "f31a30b3",
   "metadata": {},
   "outputs": [],
   "source": [
    "help(summary)\n",
    "\n",
    "## Object Summaries"
   ]
  },
  {
   "cell_type": "code",
   "execution_count": 9,
   "id": "05800e61",
   "metadata": {},
   "outputs": [
    {
     "data": {
      "text/html": [
       "<pre class=language-r><code>function (object, ...) \n",
       "NULL</code></pre>"
      ],
      "text/latex": [
       "\\begin{minted}{r}\n",
       "function (object, ...) \n",
       "NULL\n",
       "\\end{minted}"
      ],
      "text/markdown": [
       "```r\n",
       "function (object, ...) \n",
       "NULL\n",
       "```"
      ],
      "text/plain": [
       "function (object, ...) \n",
       "NULL"
      ]
     },
     "metadata": {},
     "output_type": "display_data"
    }
   ],
   "source": [
    "args(summary)"
   ]
  },
  {
   "cell_type": "code",
   "execution_count": 10,
   "id": "31ab8a55",
   "metadata": {},
   "outputs": [
    {
     "data": {
      "text/plain": [
       "     Date                Open             High              Low         \n",
       " Length:1556        Min.   :  68.5   Min.   :  74.56   Min.   :  65.53  \n",
       " Class :character   1st Qu.: 254.3   1st Qu.: 260.33   1st Qu.: 248.84  \n",
       " Mode  :character   Median : 438.6   Median : 447.56   Median : 430.57  \n",
       "                    Mean   : 582.6   Mean   : 597.99   Mean   : 567.85  \n",
       "                    3rd Qu.: 662.4   3rd Qu.: 674.52   3rd Qu.: 646.74  \n",
       "                    Max.   :2953.2   Max.   :2999.91   Max.   :2840.53  \n",
       "     Close            Volume           Market.Cap       \n",
       " Min.   :  68.43   Length:1556        Length:1556       \n",
       " 1st Qu.: 254.32   Class :character   Class :character  \n",
       " Median : 438.86   Mode  :character   Mode  :character  \n",
       " Mean   : 584.24                                        \n",
       " 3rd Qu.: 663.40                                        \n",
       " Max.   :2958.11                                        "
      ]
     },
     "metadata": {},
     "output_type": "display_data"
    }
   ],
   "source": [
    "summary(df)"
   ]
  },
  {
   "cell_type": "code",
   "execution_count": null,
   "id": "5f637336",
   "metadata": {},
   "outputs": [],
   "source": []
  },
  {
   "cell_type": "code",
   "execution_count": null,
   "id": "668b8c11",
   "metadata": {},
   "outputs": [],
   "source": []
  },
  {
   "cell_type": "code",
   "execution_count": null,
   "id": "0eb32d59",
   "metadata": {},
   "outputs": [],
   "source": []
  },
  {
   "cell_type": "code",
   "execution_count": null,
   "id": "fb4a8ac3",
   "metadata": {},
   "outputs": [],
   "source": []
  },
  {
   "cell_type": "code",
   "execution_count": null,
   "id": "dcde795b",
   "metadata": {},
   "outputs": [],
   "source": []
  },
  {
   "cell_type": "markdown",
   "id": "e5e0476d",
   "metadata": {},
   "source": [
    "# 2.. Doing Data Pre-processing !\n",
    "        Check whether data-types are correct or not \n",
    "        check whether Data have missing value or not \n",
    "        check whether data have duplicate entries or not !"
   ]
  },
  {
   "cell_type": "code",
   "execution_count": null,
   "id": "90c66e8f",
   "metadata": {},
   "outputs": [],
   "source": [
    "help(lapply)\n",
    "\n",
    "## lapply returns a list \n",
    "\n",
    "## lapply( x , fun )\n",
    "## X : a vector (atomic or list) \n",
    "## FUN : the function to be applied to each element of "
   ]
  },
  {
   "cell_type": "code",
   "execution_count": 11,
   "id": "feb9214f",
   "metadata": {},
   "outputs": [
    {
     "data": {
      "text/html": [
       "<pre class=language-r><code>function (X, FUN, ...) \n",
       "NULL</code></pre>"
      ],
      "text/latex": [
       "\\begin{minted}{r}\n",
       "function (X, FUN, ...) \n",
       "NULL\n",
       "\\end{minted}"
      ],
      "text/markdown": [
       "```r\n",
       "function (X, FUN, ...) \n",
       "NULL\n",
       "```"
      ],
      "text/plain": [
       "function (X, FUN, ...) \n",
       "NULL"
      ]
     },
     "metadata": {},
     "output_type": "display_data"
    }
   ],
   "source": [
    "args(lapply)"
   ]
  },
  {
   "cell_type": "code",
   "execution_count": null,
   "id": "51310002",
   "metadata": {},
   "outputs": [],
   "source": [
    "\"\n",
    "\n",
    "X : This is the list (or vector) , dataframe on which u want to apply \n",
    "    function FUN ..\n",
    "\n",
    "FUN : This is the function to be applied to each element of the list X..\n",
    "\n",
    "... : These are additional arguments that can be passed to the lapply as per need..\n",
    "\n",
    "\n",
    "\""
   ]
  },
  {
   "cell_type": "code",
   "execution_count": 12,
   "id": "414e7a3d",
   "metadata": {},
   "outputs": [
    {
     "data": {
      "text/html": [
       "<dl>\n",
       "\t<dt>$Date</dt>\n",
       "\t\t<dd>'character'</dd>\n",
       "\t<dt>$Open</dt>\n",
       "\t\t<dd>'numeric'</dd>\n",
       "\t<dt>$High</dt>\n",
       "\t\t<dd>'numeric'</dd>\n",
       "\t<dt>$Low</dt>\n",
       "\t\t<dd>'numeric'</dd>\n",
       "\t<dt>$Close</dt>\n",
       "\t\t<dd>'numeric'</dd>\n",
       "\t<dt>$Volume</dt>\n",
       "\t\t<dd>'character'</dd>\n",
       "\t<dt>$Market.Cap</dt>\n",
       "\t\t<dd>'character'</dd>\n",
       "</dl>\n"
      ],
      "text/latex": [
       "\\begin{description}\n",
       "\\item[\\$Date] 'character'\n",
       "\\item[\\$Open] 'numeric'\n",
       "\\item[\\$High] 'numeric'\n",
       "\\item[\\$Low] 'numeric'\n",
       "\\item[\\$Close] 'numeric'\n",
       "\\item[\\$Volume] 'character'\n",
       "\\item[\\$Market.Cap] 'character'\n",
       "\\end{description}\n"
      ],
      "text/markdown": [
       "$Date\n",
       ":   'character'\n",
       "$Open\n",
       ":   'numeric'\n",
       "$High\n",
       ":   'numeric'\n",
       "$Low\n",
       ":   'numeric'\n",
       "$Close\n",
       ":   'numeric'\n",
       "$Volume\n",
       ":   'character'\n",
       "$Market.Cap\n",
       ":   'character'\n",
       "\n",
       "\n"
      ],
      "text/plain": [
       "$Date\n",
       "[1] \"character\"\n",
       "\n",
       "$Open\n",
       "[1] \"numeric\"\n",
       "\n",
       "$High\n",
       "[1] \"numeric\"\n",
       "\n",
       "$Low\n",
       "[1] \"numeric\"\n",
       "\n",
       "$Close\n",
       "[1] \"numeric\"\n",
       "\n",
       "$Volume\n",
       "[1] \"character\"\n",
       "\n",
       "$Market.Cap\n",
       "[1] \"character\"\n"
      ]
     },
     "metadata": {},
     "output_type": "display_data"
    }
   ],
   "source": [
    "lapply(df, class)"
   ]
  },
  {
   "cell_type": "code",
   "execution_count": null,
   "id": "a0f5a5c1",
   "metadata": {},
   "outputs": [],
   "source": [
    "\"\n",
    "\n",
    "So, when you run lapply(df, class) , \n",
    "it takes each column of the 'df' dataframe & applies the class() function to it, \n",
    "\n",
    "and returns a Output as list where each element/col tells class (data type) \n",
    "of a column in the 'df' dataframe.\n",
    "\n",
    "\n",
    "\""
   ]
  },
  {
   "cell_type": "code",
   "execution_count": null,
   "id": "d89896fc",
   "metadata": {},
   "outputs": [],
   "source": [
    "   \n",
    "### it says that \"date\" has character(string) values , \n",
    "### but it should have date-time values , ie in context of R ,\n",
    "### it should have 'POSIXlt' or 'POSIXt' data-types"
   ]
  },
  {
   "cell_type": "code",
   "execution_count": null,
   "id": "d73d2901",
   "metadata": {},
   "outputs": [],
   "source": [
    "\"\n",
    "\n",
    "In R,  there are several data types that can be used to represent dates...\n",
    "R's base package provides some basic date and time classes and functions, \n",
    "such as Date, POSIXct, POSIXlt\n",
    ")..and functions like Sys.Date(), Sys.time(), and as.Date()\n",
    "\n",
    "1) Date: base-R\n",
    "The Date data type in R is used to represent dates without a time component. \n",
    "It's suitable for applications where you only need to work with dates, \n",
    "such as tracking events or appointments.\n",
    "\n",
    "\n",
    "\n",
    "2) 'POSIXlt' and 'POSIXt' of base-R\n",
    "Portable Operating System Interface (POSIX) Time, List format.\n",
    "These are data types that which are used to represent date and time values. \n",
    "These data types are part of the base R system and are commonly used \n",
    "for handling date and time-related operations\n",
    "\n",
    "\n",
    "a) 'POSIXlt' (List-Based Date-Time):\n",
    "'POSIXlt' : Portable Operating System Interface (POSIX) Time, List format.\n",
    "ie , 'POSIXlt' stands for \"List-Based Date-Time\"\n",
    "\n",
    "It represents date and time values as a list of components, \n",
    "including year, month, day, hour, minute, second, etc..\n",
    "\n",
    "Each component is stored as a separate element in the list.\n",
    "'POSIXlt' objects are more flexible and provide access to individual date and time components, \n",
    "making them suitable for various date and time calculations.\n",
    "They are less memory-efficient compared to 'POSIXct' because of the storage of individual components..\n",
    "\n",
    "\n",
    "\n",
    "\n",
    "b) 'POSIXct' (Calendar-Based Date-Time):\n",
    "\n",
    "POSIXct() : \"Portable Operating System Interface (POSIX) , compliant date and time\n",
    "POSIXct is a data type in R that represents date and time with fractional seconds..\n",
    "\n",
    "in short , 'POSIXct' stands for \"Calendar-Based Date-Time.\"\n",
    "It represents date and time values as a numeric value, \n",
    "which is the number of seconds since the Unix epoch (January 1, 1970, at 00:00:00 UTC)..\n",
    "'POSIXct' objects are more memory-efficient because \n",
    "they store date and time values as a single numeric value.\n",
    "They are less flexible for accessing individual components directly, \n",
    "but they are faster for certain operations that involve arithmetic with date and time values.\n",
    "\n",
    "\n",
    "\n",
    "\""
   ]
  },
  {
   "cell_type": "code",
   "execution_count": null,
   "id": "4df4d1c4",
   "metadata": {},
   "outputs": [],
   "source": []
  },
  {
   "cell_type": "code",
   "execution_count": null,
   "id": "0646f560",
   "metadata": {},
   "outputs": [],
   "source": []
  },
  {
   "cell_type": "code",
   "execution_count": null,
   "id": "ca5bea80",
   "metadata": {},
   "outputs": [],
   "source": [
    "## In uber case-study , we have used as.POSIXct() to convert into \n",
    "## date-time objects in 2nd & 8th tutorial !"
   ]
  },
  {
   "cell_type": "code",
   "execution_count": null,
   "id": "618f1709",
   "metadata": {},
   "outputs": [],
   "source": [
    "## Lets use as.Date() to convert into date objects \n",
    "## bcz here we do not  have time component & as.Date() doesn't consider time\n",
    "## component as well !"
   ]
  },
  {
   "cell_type": "code",
   "execution_count": 13,
   "id": "2be9aa93",
   "metadata": {},
   "outputs": [
    {
     "ename": "ERROR",
     "evalue": "Error in charToDate(x): character string is not in a standard unambiguous format\n",
     "output_type": "error",
     "traceback": [
      "Error in charToDate(x): character string is not in a standard unambiguous format\nTraceback:\n",
      "1. as.Date(\"Jul 31, 2017\")",
      "2. as.Date.character(\"Jul 31, 2017\")",
      "3. charToDate(x)",
      "4. stop(\"character string is not in a standard unambiguous format\")"
     ]
    }
   ],
   "source": [
    "as.Date(\"Jul 31, 2017\")"
   ]
  },
  {
   "cell_type": "code",
   "execution_count": null,
   "id": "d7bf5dba",
   "metadata": {},
   "outputs": [],
   "source": [
    "\"\n",
    "\n",
    "The error message indicates that the character string is not in a \n",
    "standard unambiguous format that can be directly converted to a date..\n",
    "\n",
    "\n",
    "\"Jul 31, 2017\" is not in the default format.. \n",
    "To resolve this issue, you can specify the format using the format parameter.. \n",
    "In your case, the correct format would be \"%b %d, %Y\", where :\n",
    "\n",
    "%b: Abbreviated month name (e.g., \"Jul\").\n",
    "%d: Day of the month in numeric(01, 02, ..., 31).\n",
    "%Y: Four-digit year \n",
    "\n",
    "\""
   ]
  },
  {
   "cell_type": "code",
   "execution_count": 14,
   "id": "ef729439",
   "metadata": {},
   "outputs": [
    {
     "data": {
      "text/html": [
       "<time datetime=\"2017-07-31\">2017-07-31</time>"
      ],
      "text/latex": [
       "2017-07-31"
      ],
      "text/markdown": [
       "2017-07-31"
      ],
      "text/plain": [
       "[1] \"2017-07-31\""
      ]
     },
     "metadata": {},
     "output_type": "display_data"
    }
   ],
   "source": [
    "as.Date(\"Jul 31, 2017\", format = \"%b %d, %Y\")"
   ]
  },
  {
   "cell_type": "code",
   "execution_count": 15,
   "id": "bcd3a053",
   "metadata": {},
   "outputs": [
    {
     "data": {
      "text/html": [
       "<style>\n",
       ".list-inline {list-style: none; margin:0; padding: 0}\n",
       ".list-inline>li {display: inline-block}\n",
       ".list-inline>li:not(:last-child)::after {content: \"\\00b7\"; padding: 0 .5ex}\n",
       "</style>\n",
       "<ol class=list-inline><li>'Jul 31, 2017'</li><li>'Jul 30, 2017'</li><li>'Jul 29, 2017'</li><li>'Jul 28, 2017'</li><li>'Jul 27, 2017'</li></ol>\n"
      ],
      "text/latex": [
       "\\begin{enumerate*}\n",
       "\\item 'Jul 31, 2017'\n",
       "\\item 'Jul 30, 2017'\n",
       "\\item 'Jul 29, 2017'\n",
       "\\item 'Jul 28, 2017'\n",
       "\\item 'Jul 27, 2017'\n",
       "\\end{enumerate*}\n"
      ],
      "text/markdown": [
       "1. 'Jul 31, 2017'\n",
       "2. 'Jul 30, 2017'\n",
       "3. 'Jul 29, 2017'\n",
       "4. 'Jul 28, 2017'\n",
       "5. 'Jul 27, 2017'\n",
       "\n",
       "\n"
      ],
      "text/plain": [
       "[1] \"Jul 31, 2017\" \"Jul 30, 2017\" \"Jul 29, 2017\" \"Jul 28, 2017\" \"Jul 27, 2017\""
      ]
     },
     "metadata": {},
     "output_type": "display_data"
    }
   ],
   "source": [
    "df$Date[1:5]"
   ]
  },
  {
   "cell_type": "code",
   "execution_count": 16,
   "id": "01c711e7",
   "metadata": {},
   "outputs": [
    {
     "data": {
      "text/html": [
       "'character'"
      ],
      "text/latex": [
       "'character'"
      ],
      "text/markdown": [
       "'character'"
      ],
      "text/plain": [
       "[1] \"character\""
      ]
     },
     "metadata": {},
     "output_type": "display_data"
    }
   ],
   "source": [
    "class(df$Date[1:5])"
   ]
  },
  {
   "cell_type": "code",
   "execution_count": 17,
   "id": "f08f1d8c",
   "metadata": {},
   "outputs": [
    {
     "data": {
      "text/html": [
       "<style>\n",
       ".list-inline {list-style: none; margin:0; padding: 0}\n",
       ".list-inline>li {display: inline-block}\n",
       ".list-inline>li:not(:last-child)::after {content: \"\\00b7\"; padding: 0 .5ex}\n",
       "</style>\n",
       "<ol class=list-inline><li><time datetime=\"2017-07-31\">2017-07-31</time></li><li><time datetime=\"2017-07-30\">2017-07-30</time></li><li><time datetime=\"2017-07-29\">2017-07-29</time></li><li><time datetime=\"2017-07-28\">2017-07-28</time></li><li><time datetime=\"2017-07-27\">2017-07-27</time></li></ol>\n"
      ],
      "text/latex": [
       "\\begin{enumerate*}\n",
       "\\item 2017-07-31\n",
       "\\item 2017-07-30\n",
       "\\item 2017-07-29\n",
       "\\item 2017-07-28\n",
       "\\item 2017-07-27\n",
       "\\end{enumerate*}\n"
      ],
      "text/markdown": [
       "1. 2017-07-31\n",
       "2. 2017-07-30\n",
       "3. 2017-07-29\n",
       "4. 2017-07-28\n",
       "5. 2017-07-27\n",
       "\n",
       "\n"
      ],
      "text/plain": [
       "[1] \"2017-07-31\" \"2017-07-30\" \"2017-07-29\" \"2017-07-28\" \"2017-07-27\""
      ]
     },
     "metadata": {},
     "output_type": "display_data"
    }
   ],
   "source": [
    "as.Date(df$Date[1:5] , format = \"%b %d, %Y\")"
   ]
  },
  {
   "cell_type": "code",
   "execution_count": null,
   "id": "40d62d6c",
   "metadata": {},
   "outputs": [],
   "source": []
  },
  {
   "cell_type": "code",
   "execution_count": null,
   "id": "375dbb04",
   "metadata": {},
   "outputs": [],
   "source": []
  },
  {
   "cell_type": "code",
   "execution_count": null,
   "id": "514b5a73",
   "metadata": {},
   "outputs": [],
   "source": []
  },
  {
   "cell_type": "code",
   "execution_count": null,
   "id": "ea6baaa7",
   "metadata": {},
   "outputs": [],
   "source": []
  },
  {
   "cell_type": "code",
   "execution_count": 18,
   "id": "13d53577",
   "metadata": {},
   "outputs": [
    {
     "ename": "ERROR",
     "evalue": "Error in as.POSIXlt.character(x, tz, ...): character string is not in a standard unambiguous format\n",
     "output_type": "error",
     "traceback": [
      "Error in as.POSIXlt.character(x, tz, ...): character string is not in a standard unambiguous format\nTraceback:\n",
      "1. as.POSIXct(df$Date[1:5])",
      "2. as.POSIXct.default(df$Date[1:5])",
      "3. as.POSIXct(as.POSIXlt(x, tz, ...), tz, ...)",
      "4. as.POSIXlt(x, tz, ...)",
      "5. as.POSIXlt.character(x, tz, ...)",
      "6. stop(\"character string is not in a standard unambiguous format\")"
     ]
    }
   ],
   "source": [
    "as.POSIXct(df$Date[1:5])"
   ]
  },
  {
   "cell_type": "code",
   "execution_count": 19,
   "id": "4d4ec8dd",
   "metadata": {},
   "outputs": [
    {
     "data": {
      "text/plain": [
       "[1] NA NA NA NA NA"
      ]
     },
     "metadata": {},
     "output_type": "display_data"
    }
   ],
   "source": [
    "as.POSIXct(df$Date[1:5], format = \"%Y-%m-%d\")"
   ]
  },
  {
   "cell_type": "code",
   "execution_count": null,
   "id": "680fb97c",
   "metadata": {},
   "outputs": [],
   "source": []
  },
  {
   "cell_type": "code",
   "execution_count": null,
   "id": "f680b757",
   "metadata": {},
   "outputs": [],
   "source": []
  },
  {
   "cell_type": "code",
   "execution_count": 20,
   "id": "dc8f2b0a",
   "metadata": {},
   "outputs": [
    {
     "data": {
      "text/html": [
       "'Jul 31, 2017'"
      ],
      "text/latex": [
       "'Jul 31, 2017'"
      ],
      "text/markdown": [
       "'Jul 31, 2017'"
      ],
      "text/plain": [
       "[1] \"Jul 31, 2017\""
      ]
     },
     "metadata": {},
     "output_type": "display_data"
    }
   ],
   "source": [
    "df$Date[1]\n",
    "\n",
    "### ie format is Month name day , year"
   ]
  },
  {
   "cell_type": "code",
   "execution_count": 21,
   "id": "57f81fb7",
   "metadata": {},
   "outputs": [
    {
     "data": {
      "text/plain": [
       "[1] \"2017-07-31 IST\" \"2017-07-30 IST\" \"2017-07-29 IST\" \"2017-07-28 IST\"\n",
       "[5] \"2017-07-27 IST\""
      ]
     },
     "metadata": {},
     "output_type": "display_data"
    }
   ],
   "source": [
    "as.POSIXct(df$Date[1:5], format = \"%b %d, %Y\")"
   ]
  },
  {
   "cell_type": "code",
   "execution_count": null,
   "id": "c0530ef5",
   "metadata": {},
   "outputs": [],
   "source": [
    "\"\n",
    "\n",
    "Explanation of the format : \n",
    "\n",
    "%b: Abbreviated month name (e.g., \"Jul\").\n",
    "%d: Day of the month as decimal number (01, 02, ..., 31).\n",
    "%Y: Year with century as a decimal number.\n",
    "\n",
    "\n",
    "\""
   ]
  },
  {
   "cell_type": "code",
   "execution_count": 22,
   "id": "c175e27a",
   "metadata": {},
   "outputs": [
    {
     "data": {
      "text/html": [
       "<style>\n",
       ".list-inline {list-style: none; margin:0; padding: 0}\n",
       ".list-inline>li {display: inline-block}\n",
       ".list-inline>li:not(:last-child)::after {content: \"\\00b7\"; padding: 0 .5ex}\n",
       "</style>\n",
       "<ol class=list-inline><li>'POSIXct'</li><li>'POSIXt'</li></ol>\n"
      ],
      "text/latex": [
       "\\begin{enumerate*}\n",
       "\\item 'POSIXct'\n",
       "\\item 'POSIXt'\n",
       "\\end{enumerate*}\n"
      ],
      "text/markdown": [
       "1. 'POSIXct'\n",
       "2. 'POSIXt'\n",
       "\n",
       "\n"
      ],
      "text/plain": [
       "[1] \"POSIXct\" \"POSIXt\" "
      ]
     },
     "metadata": {},
     "output_type": "display_data"
    }
   ],
   "source": [
    "class(as.POSIXct(df$Date[1:5], format = \"%b %d, %Y\"))"
   ]
  },
  {
   "cell_type": "code",
   "execution_count": null,
   "id": "1c4bf755",
   "metadata": {},
   "outputs": [],
   "source": []
  },
  {
   "cell_type": "code",
   "execution_count": null,
   "id": "7c696957",
   "metadata": {},
   "outputs": [],
   "source": [
    "\"\n",
    "as.POSIXct(df$Date[1:5], format = \"%Y-%m-%d %H:%M:%S\")\n",
    "\n",
    "## returns NA value..\n",
    "\n",
    "\""
   ]
  },
  {
   "cell_type": "code",
   "execution_count": null,
   "id": "51f3332c",
   "metadata": {},
   "outputs": [],
   "source": []
  },
  {
   "cell_type": "code",
   "execution_count": null,
   "id": "eb861a99",
   "metadata": {},
   "outputs": [],
   "source": []
  },
  {
   "cell_type": "code",
   "execution_count": 23,
   "id": "53826ec3",
   "metadata": {},
   "outputs": [],
   "source": [
    "df$Date = as.Date(df$Date , format = \"%b %d, %Y\")"
   ]
  },
  {
   "cell_type": "code",
   "execution_count": 24,
   "id": "b3e3ca97",
   "metadata": {},
   "outputs": [
    {
     "data": {
      "text/html": [
       "<time datetime=\"2013-04-28\">2013-04-28</time>"
      ],
      "text/latex": [
       "2013-04-28"
      ],
      "text/markdown": [
       "2013-04-28"
      ],
      "text/plain": [
       "[1] \"2013-04-28\""
      ]
     },
     "metadata": {},
     "output_type": "display_data"
    }
   ],
   "source": [
    "min(df$Date)"
   ]
  },
  {
   "cell_type": "code",
   "execution_count": 25,
   "id": "cc9e3e20",
   "metadata": {},
   "outputs": [
    {
     "data": {
      "text/html": [
       "<time datetime=\"2017-07-31\">2017-07-31</time>"
      ],
      "text/latex": [
       "2017-07-31"
      ],
      "text/markdown": [
       "2017-07-31"
      ],
      "text/plain": [
       "[1] \"2017-07-31\""
      ]
     },
     "metadata": {},
     "output_type": "display_data"
    }
   ],
   "source": [
    "max(df$Date)"
   ]
  },
  {
   "cell_type": "code",
   "execution_count": null,
   "id": "c580564c",
   "metadata": {},
   "outputs": [],
   "source": [
    "'''\n",
    "\n",
    "ie data is collected from \"28th April 2013\" to \"31st July 2017\"\n",
    "\n",
    "'''"
   ]
  },
  {
   "cell_type": "code",
   "execution_count": null,
   "id": "2abc1038",
   "metadata": {},
   "outputs": [],
   "source": []
  },
  {
   "cell_type": "code",
   "execution_count": null,
   "id": "31266d00",
   "metadata": {},
   "outputs": [],
   "source": []
  },
  {
   "cell_type": "markdown",
   "id": "00125a3c",
   "metadata": {},
   "source": [
    "    is: This is a prefix commonly used in R for functions that perform logical tests or checks. \n",
    "        It's not a class , ie it is an indication that the function is checking a condition..\n",
    "\n",
    "    na(): This is the function that checks for missing values (NA) in R. \n",
    "          It returns a logical vector indicating whether each element in a vector or data frame is missing or not."
   ]
  },
  {
   "cell_type": "code",
   "execution_count": null,
   "id": "fd0a2bb8",
   "metadata": {},
   "outputs": [],
   "source": [
    "help(is.na)\n",
    "\n",
    "## The generic function is.na indicates which elements are missing in vectors and data frames in R\n",
    "\n",
    "## is.na(x)\n",
    "## anyNA(x, recursive = FALSE)"
   ]
  },
  {
   "cell_type": "code",
   "execution_count": null,
   "id": "d538d48d",
   "metadata": {},
   "outputs": [],
   "source": [
    "is.na(df) ## returns logical dataframe ie (True/False)"
   ]
  },
  {
   "cell_type": "code",
   "execution_count": 26,
   "id": "d31898e8",
   "metadata": {},
   "outputs": [
    {
     "data": {
      "text/html": [
       "<style>\n",
       ".dl-inline {width: auto; margin:0; padding: 0}\n",
       ".dl-inline>dt, .dl-inline>dd {float: none; width: auto; display: inline-block}\n",
       ".dl-inline>dt::after {content: \":\\0020\"; padding-right: .5ex}\n",
       ".dl-inline>dt:not(:first-of-type) {padding-left: .5ex}\n",
       "</style><dl class=dl-inline><dt>Date</dt><dd>0</dd><dt>Open</dt><dd>0</dd><dt>High</dt><dd>0</dd><dt>Low</dt><dd>0</dd><dt>Close</dt><dd>0</dd><dt>Volume</dt><dd>0</dd><dt>Market.Cap</dt><dd>0</dd></dl>\n"
      ],
      "text/latex": [
       "\\begin{description*}\n",
       "\\item[Date] 0\n",
       "\\item[Open] 0\n",
       "\\item[High] 0\n",
       "\\item[Low] 0\n",
       "\\item[Close] 0\n",
       "\\item[Volume] 0\n",
       "\\item[Market.Cap] 0\n",
       "\\end{description*}\n"
      ],
      "text/markdown": [
       "Date\n",
       ":   0Open\n",
       ":   0High\n",
       ":   0Low\n",
       ":   0Close\n",
       ":   0Volume\n",
       ":   0Market.Cap\n",
       ":   0\n",
       "\n"
      ],
      "text/plain": [
       "      Date       Open       High        Low      Close     Volume Market.Cap \n",
       "         0          0          0          0          0          0          0 "
      ]
     },
     "metadata": {},
     "output_type": "display_data"
    }
   ],
   "source": [
    "colSums(is.na(df)) ## return missing values in every col.."
   ]
  },
  {
   "cell_type": "code",
   "execution_count": null,
   "id": "81da5ef3",
   "metadata": {},
   "outputs": [],
   "source": []
  },
  {
   "cell_type": "code",
   "execution_count": null,
   "id": "f4b4b35e",
   "metadata": {},
   "outputs": [],
   "source": []
  },
  {
   "cell_type": "code",
   "execution_count": 2,
   "id": "6a3283a0",
   "metadata": {},
   "outputs": [
    {
     "data": {
      "text/html": [
       "<pre class=language-r><code>function (x, incomparables = FALSE, ...) \n",
       "NULL</code></pre>"
      ],
      "text/latex": [
       "\\begin{minted}{r}\n",
       "function (x, incomparables = FALSE, ...) \n",
       "NULL\n",
       "\\end{minted}"
      ],
      "text/markdown": [
       "```r\n",
       "function (x, incomparables = FALSE, ...) \n",
       "NULL\n",
       "```"
      ],
      "text/plain": [
       "function (x, incomparables = FALSE, ...) \n",
       "NULL"
      ]
     },
     "metadata": {},
     "output_type": "display_data"
    }
   ],
   "source": [
    "args(duplicated)"
   ]
  },
  {
   "cell_type": "code",
   "execution_count": null,
   "id": "0c058843",
   "metadata": {},
   "outputs": [],
   "source": [
    "help(duplicated)"
   ]
  },
  {
   "cell_type": "code",
   "execution_count": null,
   "id": "458674e4",
   "metadata": {},
   "outputs": [],
   "source": [
    "\"\n",
    "\n",
    "duplicated(x, incomparables = FALSE, ...)\n",
    "\n",
    "## Default S3 method:\n",
    "duplicated(x, incomparables = FALSE,\n",
    "           fromLast = FALSE, nmax = NA, ...)\n",
    "\n",
    "## S3 method for class 'array'\n",
    "duplicated(x, incomparables = FALSE, MARGIN = 1,\n",
    "           fromLast = FALSE, ...)\n",
    "\n",
    "\n",
    "\n",
    "\n",
    "\n",
    "\n",
    "1.. duplicated(x, incomparables = FALSE, ...)\n",
    "    duplicated() in R is used to identify duplicate elements in a vector, data frame or array\n",
    "\n",
    "    x : The vector, array, or data frame to check for duplicates..\n",
    "\n",
    "    incomparables : A vector of values that should be considered as unique and not compared for duplication..\n",
    "                            OR\n",
    "                    A vector of values that should not be considered when determining duplicates.\n",
    "                    Default is FALSE..\n",
    "\n",
    "\n",
    "\n",
    "\n",
    "2.. Default S3 method:\n",
    "    duplicated(x, incomparables = FALSE,\n",
    "           fromLast = FALSE, nmax = NA, ...)\n",
    "\n",
    "    This is the default method of the duplicated function, suitable for most objects \n",
    "    like vectors, data frames, etc.\n",
    "    In simple terms in R, S3 stands for \"Simple, Structured, and Sensible.\" \n",
    "    It's a basic system for object-oriented programming\n",
    "                OR\n",
    "    In R, S3 methods are a way to implement object-oriented programming.\n",
    "\n",
    "\n",
    "    x : The vector, array, or data frame to check for duplicates..\n",
    "\n",
    "    incomparables : A vector of values that should be considered as unique \n",
    "                    and not compared for duplication..\n",
    "                            OR\n",
    "                    A vector specifying values that should not be considered \n",
    "                    when determining duplicates.\n",
    "                    Default is FALSE..\n",
    "\n",
    "    fromLast : A logical value indicating whether to identify duplicates from the last occurrence. \n",
    "               Default is FALSE..\n",
    "\n",
    "    nmax : An integer specifying the maximum number of duplicates to return. \n",
    "           Default is NA, meaning all duplicates are returned..\n",
    "\n",
    "\n",
    "\n",
    "\n",
    "3.. S3 method for class 'array':\n",
    "    duplicated(x, incomparables = FALSE, MARGIN = 1,\n",
    "           fromLast = FALSE, ...)\n",
    "\n",
    "    This method is specifically for arrays.\n",
    "    It identifies duplicates along a specific margin (dimension) of the array.\n",
    "\n",
    "\n",
    "    MARGIN: An integer indicating which margin to check for duplicates. \n",
    "            Default is 1 (rows).\n",
    "            columns (if MARGIN = 2)\n",
    "\n",
    "\n",
    "\""
   ]
  },
  {
   "cell_type": "code",
   "execution_count": null,
   "id": "68420602",
   "metadata": {},
   "outputs": [],
   "source": [
    "### since u are working dataframes , hence u can use 1st & 2nd one , as 3rd one is for \"array\".."
   ]
  },
  {
   "cell_type": "code",
   "execution_count": 27,
   "id": "90699348",
   "metadata": {},
   "outputs": [
    {
     "data": {
      "text/html": [
       "0"
      ],
      "text/latex": [
       "0"
      ],
      "text/markdown": [
       "0"
      ],
      "text/plain": [
       "[1] 0"
      ]
     },
     "metadata": {},
     "output_type": "display_data"
    }
   ],
   "source": [
    "sum(duplicated(df))"
   ]
  },
  {
   "cell_type": "markdown",
   "id": "91c82bac",
   "metadata": {},
   "source": [
    "#### Now sort the dataset from oldest - recent"
   ]
  },
  {
   "cell_type": "code",
   "execution_count": 28,
   "id": "1d133d17",
   "metadata": {},
   "outputs": [
    {
     "data": {
      "text/html": [
       "<table class=\"dataframe\">\n",
       "<caption>A data.frame: 3 × 7</caption>\n",
       "<thead>\n",
       "\t<tr><th></th><th scope=col>Date</th><th scope=col>Open</th><th scope=col>High</th><th scope=col>Low</th><th scope=col>Close</th><th scope=col>Volume</th><th scope=col>Market.Cap</th></tr>\n",
       "\t<tr><th></th><th scope=col>&lt;date&gt;</th><th scope=col>&lt;dbl&gt;</th><th scope=col>&lt;dbl&gt;</th><th scope=col>&lt;dbl&gt;</th><th scope=col>&lt;dbl&gt;</th><th scope=col>&lt;chr&gt;</th><th scope=col>&lt;chr&gt;</th></tr>\n",
       "</thead>\n",
       "<tbody>\n",
       "\t<tr><th scope=row>1</th><td>2017-07-31</td><td>2763.24</td><td>2889.62</td><td>2720.61</td><td>2875.34</td><td>860,575,000</td><td>45,535,800,000</td></tr>\n",
       "\t<tr><th scope=row>2</th><td>2017-07-30</td><td>2724.39</td><td>2758.53</td><td>2644.85</td><td>2757.18</td><td>705,943,000</td><td>44,890,700,000</td></tr>\n",
       "\t<tr><th scope=row>3</th><td>2017-07-29</td><td>2807.02</td><td>2808.76</td><td>2692.80</td><td>2726.45</td><td>803,746,000</td><td>46,246,700,000</td></tr>\n",
       "</tbody>\n",
       "</table>\n"
      ],
      "text/latex": [
       "A data.frame: 3 × 7\n",
       "\\begin{tabular}{r|lllllll}\n",
       "  & Date & Open & High & Low & Close & Volume & Market.Cap\\\\\n",
       "  & <date> & <dbl> & <dbl> & <dbl> & <dbl> & <chr> & <chr>\\\\\n",
       "\\hline\n",
       "\t1 & 2017-07-31 & 2763.24 & 2889.62 & 2720.61 & 2875.34 & 860,575,000 & 45,535,800,000\\\\\n",
       "\t2 & 2017-07-30 & 2724.39 & 2758.53 & 2644.85 & 2757.18 & 705,943,000 & 44,890,700,000\\\\\n",
       "\t3 & 2017-07-29 & 2807.02 & 2808.76 & 2692.80 & 2726.45 & 803,746,000 & 46,246,700,000\\\\\n",
       "\\end{tabular}\n"
      ],
      "text/markdown": [
       "\n",
       "A data.frame: 3 × 7\n",
       "\n",
       "| <!--/--> | Date &lt;date&gt; | Open &lt;dbl&gt; | High &lt;dbl&gt; | Low &lt;dbl&gt; | Close &lt;dbl&gt; | Volume &lt;chr&gt; | Market.Cap &lt;chr&gt; |\n",
       "|---|---|---|---|---|---|---|---|\n",
       "| 1 | 2017-07-31 | 2763.24 | 2889.62 | 2720.61 | 2875.34 | 860,575,000 | 45,535,800,000 |\n",
       "| 2 | 2017-07-30 | 2724.39 | 2758.53 | 2644.85 | 2757.18 | 705,943,000 | 44,890,700,000 |\n",
       "| 3 | 2017-07-29 | 2807.02 | 2808.76 | 2692.80 | 2726.45 | 803,746,000 | 46,246,700,000 |\n",
       "\n"
      ],
      "text/plain": [
       "  Date       Open    High    Low     Close   Volume      Market.Cap    \n",
       "1 2017-07-31 2763.24 2889.62 2720.61 2875.34 860,575,000 45,535,800,000\n",
       "2 2017-07-30 2724.39 2758.53 2644.85 2757.18 705,943,000 44,890,700,000\n",
       "3 2017-07-29 2807.02 2808.76 2692.80 2726.45 803,746,000 46,246,700,000"
      ]
     },
     "metadata": {},
     "output_type": "display_data"
    }
   ],
   "source": [
    "head(df , 3)"
   ]
  },
  {
   "cell_type": "code",
   "execution_count": 29,
   "id": "2294b607",
   "metadata": {},
   "outputs": [
    {
     "data": {
      "text/html": [
       "<table class=\"dataframe\">\n",
       "<caption>A data.frame: 5 × 7</caption>\n",
       "<thead>\n",
       "\t<tr><th></th><th scope=col>Date</th><th scope=col>Open</th><th scope=col>High</th><th scope=col>Low</th><th scope=col>Close</th><th scope=col>Volume</th><th scope=col>Market.Cap</th></tr>\n",
       "\t<tr><th></th><th scope=col>&lt;date&gt;</th><th scope=col>&lt;dbl&gt;</th><th scope=col>&lt;dbl&gt;</th><th scope=col>&lt;dbl&gt;</th><th scope=col>&lt;dbl&gt;</th><th scope=col>&lt;chr&gt;</th><th scope=col>&lt;chr&gt;</th></tr>\n",
       "</thead>\n",
       "<tbody>\n",
       "\t<tr><th scope=row>1552</th><td>2013-05-02</td><td>116.38</td><td>125.60</td><td> 92.28</td><td>105.21</td><td>-</td><td>1,292,190,000</td></tr>\n",
       "\t<tr><th scope=row>1553</th><td>2013-05-01</td><td>139.00</td><td>139.89</td><td>107.72</td><td>116.99</td><td>-</td><td>1,542,820,000</td></tr>\n",
       "\t<tr><th scope=row>1554</th><td>2013-04-30</td><td>144.00</td><td>146.93</td><td>134.05</td><td>139.00</td><td>-</td><td>1,597,780,000</td></tr>\n",
       "\t<tr><th scope=row>1555</th><td>2013-04-29</td><td>134.44</td><td>147.49</td><td>134.00</td><td>144.54</td><td>-</td><td>1,491,160,000</td></tr>\n",
       "\t<tr><th scope=row>1556</th><td>2013-04-28</td><td>135.30</td><td>135.98</td><td>132.10</td><td>134.21</td><td>-</td><td>1,500,520,000</td></tr>\n",
       "</tbody>\n",
       "</table>\n"
      ],
      "text/latex": [
       "A data.frame: 5 × 7\n",
       "\\begin{tabular}{r|lllllll}\n",
       "  & Date & Open & High & Low & Close & Volume & Market.Cap\\\\\n",
       "  & <date> & <dbl> & <dbl> & <dbl> & <dbl> & <chr> & <chr>\\\\\n",
       "\\hline\n",
       "\t1552 & 2013-05-02 & 116.38 & 125.60 &  92.28 & 105.21 & - & 1,292,190,000\\\\\n",
       "\t1553 & 2013-05-01 & 139.00 & 139.89 & 107.72 & 116.99 & - & 1,542,820,000\\\\\n",
       "\t1554 & 2013-04-30 & 144.00 & 146.93 & 134.05 & 139.00 & - & 1,597,780,000\\\\\n",
       "\t1555 & 2013-04-29 & 134.44 & 147.49 & 134.00 & 144.54 & - & 1,491,160,000\\\\\n",
       "\t1556 & 2013-04-28 & 135.30 & 135.98 & 132.10 & 134.21 & - & 1,500,520,000\\\\\n",
       "\\end{tabular}\n"
      ],
      "text/markdown": [
       "\n",
       "A data.frame: 5 × 7\n",
       "\n",
       "| <!--/--> | Date &lt;date&gt; | Open &lt;dbl&gt; | High &lt;dbl&gt; | Low &lt;dbl&gt; | Close &lt;dbl&gt; | Volume &lt;chr&gt; | Market.Cap &lt;chr&gt; |\n",
       "|---|---|---|---|---|---|---|---|\n",
       "| 1552 | 2013-05-02 | 116.38 | 125.60 |  92.28 | 105.21 | - | 1,292,190,000 |\n",
       "| 1553 | 2013-05-01 | 139.00 | 139.89 | 107.72 | 116.99 | - | 1,542,820,000 |\n",
       "| 1554 | 2013-04-30 | 144.00 | 146.93 | 134.05 | 139.00 | - | 1,597,780,000 |\n",
       "| 1555 | 2013-04-29 | 134.44 | 147.49 | 134.00 | 144.54 | - | 1,491,160,000 |\n",
       "| 1556 | 2013-04-28 | 135.30 | 135.98 | 132.10 | 134.21 | - | 1,500,520,000 |\n",
       "\n"
      ],
      "text/plain": [
       "     Date       Open   High   Low    Close  Volume Market.Cap   \n",
       "1552 2013-05-02 116.38 125.60  92.28 105.21 -      1,292,190,000\n",
       "1553 2013-05-01 139.00 139.89 107.72 116.99 -      1,542,820,000\n",
       "1554 2013-04-30 144.00 146.93 134.05 139.00 -      1,597,780,000\n",
       "1555 2013-04-29 134.44 147.49 134.00 144.54 -      1,491,160,000\n",
       "1556 2013-04-28 135.30 135.98 132.10 134.21 -      1,500,520,000"
      ]
     },
     "metadata": {},
     "output_type": "display_data"
    }
   ],
   "source": [
    "tail(df , 5)"
   ]
  },
  {
   "cell_type": "code",
   "execution_count": null,
   "id": "c2f7ed39",
   "metadata": {},
   "outputs": [],
   "source": []
  },
  {
   "cell_type": "code",
   "execution_count": 30,
   "id": "9d9c1f75",
   "metadata": {},
   "outputs": [
    {
     "data": {
      "text/html": [
       "<style>\n",
       ".list-inline {list-style: none; margin:0; padding: 0}\n",
       ".list-inline>li {display: inline-block}\n",
       ".list-inline>li:not(:last-child)::after {content: \"\\00b7\"; padding: 0 .5ex}\n",
       "</style>\n",
       "<ol class=list-inline><li>'1'</li><li>'2'</li><li>'3'</li><li>'4'</li><li>'5'</li><li>'6'</li><li>'7'</li><li>'8'</li><li>'9'</li><li>'10'</li><li>'11'</li><li>'12'</li><li>'13'</li><li>'14'</li><li>'15'</li><li>'16'</li><li>'17'</li><li>'18'</li><li>'19'</li><li>'20'</li><li>'21'</li><li>'22'</li><li>'23'</li><li>'24'</li><li>'25'</li><li>'26'</li><li>'27'</li><li>'28'</li><li>'29'</li><li>'30'</li><li>'31'</li><li>'32'</li><li>'33'</li><li>'34'</li><li>'35'</li><li>'36'</li><li>'37'</li><li>'38'</li><li>'39'</li><li>'40'</li><li>'41'</li><li>'42'</li><li>'43'</li><li>'44'</li><li>'45'</li><li>'46'</li><li>'47'</li><li>'48'</li><li>'49'</li><li>'50'</li><li>'51'</li><li>'52'</li><li>'53'</li><li>'54'</li><li>'55'</li><li>'56'</li><li>'57'</li><li>'58'</li><li>'59'</li><li>'60'</li><li>'61'</li><li>'62'</li><li>'63'</li><li>'64'</li><li>'65'</li><li>'66'</li><li>'67'</li><li>'68'</li><li>'69'</li><li>'70'</li><li>'71'</li><li>'72'</li><li>'73'</li><li>'74'</li><li>'75'</li><li>'76'</li><li>'77'</li><li>'78'</li><li>'79'</li><li>'80'</li><li>'81'</li><li>'82'</li><li>'83'</li><li>'84'</li><li>'85'</li><li>'86'</li><li>'87'</li><li>'88'</li><li>'89'</li><li>'90'</li><li>'91'</li><li>'92'</li><li>'93'</li><li>'94'</li><li>'95'</li><li>'96'</li><li>'97'</li><li>'98'</li><li>'99'</li><li>'100'</li><li>'101'</li><li>'102'</li><li>'103'</li><li>'104'</li><li>'105'</li><li>'106'</li><li>'107'</li><li>'108'</li><li>'109'</li><li>'110'</li><li>'111'</li><li>'112'</li><li>'113'</li><li>'114'</li><li>'115'</li><li>'116'</li><li>'117'</li><li>'118'</li><li>'119'</li><li>'120'</li><li>'121'</li><li>'122'</li><li>'123'</li><li>'124'</li><li>'125'</li><li>'126'</li><li>'127'</li><li>'128'</li><li>'129'</li><li>'130'</li><li>'131'</li><li>'132'</li><li>'133'</li><li>'134'</li><li>'135'</li><li>'136'</li><li>'137'</li><li>'138'</li><li>'139'</li><li>'140'</li><li>'141'</li><li>'142'</li><li>'143'</li><li>'144'</li><li>'145'</li><li>'146'</li><li>'147'</li><li>'148'</li><li>'149'</li><li>'150'</li><li>'151'</li><li>'152'</li><li>'153'</li><li>'154'</li><li>'155'</li><li>'156'</li><li>'157'</li><li>'158'</li><li>'159'</li><li>'160'</li><li>'161'</li><li>'162'</li><li>'163'</li><li>'164'</li><li>'165'</li><li>'166'</li><li>'167'</li><li>'168'</li><li>'169'</li><li>'170'</li><li>'171'</li><li>'172'</li><li>'173'</li><li>'174'</li><li>'175'</li><li>'176'</li><li>'177'</li><li>'178'</li><li>'179'</li><li>'180'</li><li>'181'</li><li>'182'</li><li>'183'</li><li>'184'</li><li>'185'</li><li>'186'</li><li>'187'</li><li>'188'</li><li>'189'</li><li>'190'</li><li>'191'</li><li>'192'</li><li>'193'</li><li>'194'</li><li>'195'</li><li>'196'</li><li>'197'</li><li>'198'</li><li>'199'</li><li>'200'</li><li>⋯</li><li>'1357'</li><li>'1358'</li><li>'1359'</li><li>'1360'</li><li>'1361'</li><li>'1362'</li><li>'1363'</li><li>'1364'</li><li>'1365'</li><li>'1366'</li><li>'1367'</li><li>'1368'</li><li>'1369'</li><li>'1370'</li><li>'1371'</li><li>'1372'</li><li>'1373'</li><li>'1374'</li><li>'1375'</li><li>'1376'</li><li>'1377'</li><li>'1378'</li><li>'1379'</li><li>'1380'</li><li>'1381'</li><li>'1382'</li><li>'1383'</li><li>'1384'</li><li>'1385'</li><li>'1386'</li><li>'1387'</li><li>'1388'</li><li>'1389'</li><li>'1390'</li><li>'1391'</li><li>'1392'</li><li>'1393'</li><li>'1394'</li><li>'1395'</li><li>'1396'</li><li>'1397'</li><li>'1398'</li><li>'1399'</li><li>'1400'</li><li>'1401'</li><li>'1402'</li><li>'1403'</li><li>'1404'</li><li>'1405'</li><li>'1406'</li><li>'1407'</li><li>'1408'</li><li>'1409'</li><li>'1410'</li><li>'1411'</li><li>'1412'</li><li>'1413'</li><li>'1414'</li><li>'1415'</li><li>'1416'</li><li>'1417'</li><li>'1418'</li><li>'1419'</li><li>'1420'</li><li>'1421'</li><li>'1422'</li><li>'1423'</li><li>'1424'</li><li>'1425'</li><li>'1426'</li><li>'1427'</li><li>'1428'</li><li>'1429'</li><li>'1430'</li><li>'1431'</li><li>'1432'</li><li>'1433'</li><li>'1434'</li><li>'1435'</li><li>'1436'</li><li>'1437'</li><li>'1438'</li><li>'1439'</li><li>'1440'</li><li>'1441'</li><li>'1442'</li><li>'1443'</li><li>'1444'</li><li>'1445'</li><li>'1446'</li><li>'1447'</li><li>'1448'</li><li>'1449'</li><li>'1450'</li><li>'1451'</li><li>'1452'</li><li>'1453'</li><li>'1454'</li><li>'1455'</li><li>'1456'</li><li>'1457'</li><li>'1458'</li><li>'1459'</li><li>'1460'</li><li>'1461'</li><li>'1462'</li><li>'1463'</li><li>'1464'</li><li>'1465'</li><li>'1466'</li><li>'1467'</li><li>'1468'</li><li>'1469'</li><li>'1470'</li><li>'1471'</li><li>'1472'</li><li>'1473'</li><li>'1474'</li><li>'1475'</li><li>'1476'</li><li>'1477'</li><li>'1478'</li><li>'1479'</li><li>'1480'</li><li>'1481'</li><li>'1482'</li><li>'1483'</li><li>'1484'</li><li>'1485'</li><li>'1486'</li><li>'1487'</li><li>'1488'</li><li>'1489'</li><li>'1490'</li><li>'1491'</li><li>'1492'</li><li>'1493'</li><li>'1494'</li><li>'1495'</li><li>'1496'</li><li>'1497'</li><li>'1498'</li><li>'1499'</li><li>'1500'</li><li>'1501'</li><li>'1502'</li><li>'1503'</li><li>'1504'</li><li>'1505'</li><li>'1506'</li><li>'1507'</li><li>'1508'</li><li>'1509'</li><li>'1510'</li><li>'1511'</li><li>'1512'</li><li>'1513'</li><li>'1514'</li><li>'1515'</li><li>'1516'</li><li>'1517'</li><li>'1518'</li><li>'1519'</li><li>'1520'</li><li>'1521'</li><li>'1522'</li><li>'1523'</li><li>'1524'</li><li>'1525'</li><li>'1526'</li><li>'1527'</li><li>'1528'</li><li>'1529'</li><li>'1530'</li><li>'1531'</li><li>'1532'</li><li>'1533'</li><li>'1534'</li><li>'1535'</li><li>'1536'</li><li>'1537'</li><li>'1538'</li><li>'1539'</li><li>'1540'</li><li>'1541'</li><li>'1542'</li><li>'1543'</li><li>'1544'</li><li>'1545'</li><li>'1546'</li><li>'1547'</li><li>'1548'</li><li>'1549'</li><li>'1550'</li><li>'1551'</li><li>'1552'</li><li>'1553'</li><li>'1554'</li><li>'1555'</li><li>'1556'</li></ol>\n"
      ],
      "text/latex": [
       "\\begin{enumerate*}\n",
       "\\item '1'\n",
       "\\item '2'\n",
       "\\item '3'\n",
       "\\item '4'\n",
       "\\item '5'\n",
       "\\item '6'\n",
       "\\item '7'\n",
       "\\item '8'\n",
       "\\item '9'\n",
       "\\item '10'\n",
       "\\item '11'\n",
       "\\item '12'\n",
       "\\item '13'\n",
       "\\item '14'\n",
       "\\item '15'\n",
       "\\item '16'\n",
       "\\item '17'\n",
       "\\item '18'\n",
       "\\item '19'\n",
       "\\item '20'\n",
       "\\item '21'\n",
       "\\item '22'\n",
       "\\item '23'\n",
       "\\item '24'\n",
       "\\item '25'\n",
       "\\item '26'\n",
       "\\item '27'\n",
       "\\item '28'\n",
       "\\item '29'\n",
       "\\item '30'\n",
       "\\item '31'\n",
       "\\item '32'\n",
       "\\item '33'\n",
       "\\item '34'\n",
       "\\item '35'\n",
       "\\item '36'\n",
       "\\item '37'\n",
       "\\item '38'\n",
       "\\item '39'\n",
       "\\item '40'\n",
       "\\item '41'\n",
       "\\item '42'\n",
       "\\item '43'\n",
       "\\item '44'\n",
       "\\item '45'\n",
       "\\item '46'\n",
       "\\item '47'\n",
       "\\item '48'\n",
       "\\item '49'\n",
       "\\item '50'\n",
       "\\item '51'\n",
       "\\item '52'\n",
       "\\item '53'\n",
       "\\item '54'\n",
       "\\item '55'\n",
       "\\item '56'\n",
       "\\item '57'\n",
       "\\item '58'\n",
       "\\item '59'\n",
       "\\item '60'\n",
       "\\item '61'\n",
       "\\item '62'\n",
       "\\item '63'\n",
       "\\item '64'\n",
       "\\item '65'\n",
       "\\item '66'\n",
       "\\item '67'\n",
       "\\item '68'\n",
       "\\item '69'\n",
       "\\item '70'\n",
       "\\item '71'\n",
       "\\item '72'\n",
       "\\item '73'\n",
       "\\item '74'\n",
       "\\item '75'\n",
       "\\item '76'\n",
       "\\item '77'\n",
       "\\item '78'\n",
       "\\item '79'\n",
       "\\item '80'\n",
       "\\item '81'\n",
       "\\item '82'\n",
       "\\item '83'\n",
       "\\item '84'\n",
       "\\item '85'\n",
       "\\item '86'\n",
       "\\item '87'\n",
       "\\item '88'\n",
       "\\item '89'\n",
       "\\item '90'\n",
       "\\item '91'\n",
       "\\item '92'\n",
       "\\item '93'\n",
       "\\item '94'\n",
       "\\item '95'\n",
       "\\item '96'\n",
       "\\item '97'\n",
       "\\item '98'\n",
       "\\item '99'\n",
       "\\item '100'\n",
       "\\item '101'\n",
       "\\item '102'\n",
       "\\item '103'\n",
       "\\item '104'\n",
       "\\item '105'\n",
       "\\item '106'\n",
       "\\item '107'\n",
       "\\item '108'\n",
       "\\item '109'\n",
       "\\item '110'\n",
       "\\item '111'\n",
       "\\item '112'\n",
       "\\item '113'\n",
       "\\item '114'\n",
       "\\item '115'\n",
       "\\item '116'\n",
       "\\item '117'\n",
       "\\item '118'\n",
       "\\item '119'\n",
       "\\item '120'\n",
       "\\item '121'\n",
       "\\item '122'\n",
       "\\item '123'\n",
       "\\item '124'\n",
       "\\item '125'\n",
       "\\item '126'\n",
       "\\item '127'\n",
       "\\item '128'\n",
       "\\item '129'\n",
       "\\item '130'\n",
       "\\item '131'\n",
       "\\item '132'\n",
       "\\item '133'\n",
       "\\item '134'\n",
       "\\item '135'\n",
       "\\item '136'\n",
       "\\item '137'\n",
       "\\item '138'\n",
       "\\item '139'\n",
       "\\item '140'\n",
       "\\item '141'\n",
       "\\item '142'\n",
       "\\item '143'\n",
       "\\item '144'\n",
       "\\item '145'\n",
       "\\item '146'\n",
       "\\item '147'\n",
       "\\item '148'\n",
       "\\item '149'\n",
       "\\item '150'\n",
       "\\item '151'\n",
       "\\item '152'\n",
       "\\item '153'\n",
       "\\item '154'\n",
       "\\item '155'\n",
       "\\item '156'\n",
       "\\item '157'\n",
       "\\item '158'\n",
       "\\item '159'\n",
       "\\item '160'\n",
       "\\item '161'\n",
       "\\item '162'\n",
       "\\item '163'\n",
       "\\item '164'\n",
       "\\item '165'\n",
       "\\item '166'\n",
       "\\item '167'\n",
       "\\item '168'\n",
       "\\item '169'\n",
       "\\item '170'\n",
       "\\item '171'\n",
       "\\item '172'\n",
       "\\item '173'\n",
       "\\item '174'\n",
       "\\item '175'\n",
       "\\item '176'\n",
       "\\item '177'\n",
       "\\item '178'\n",
       "\\item '179'\n",
       "\\item '180'\n",
       "\\item '181'\n",
       "\\item '182'\n",
       "\\item '183'\n",
       "\\item '184'\n",
       "\\item '185'\n",
       "\\item '186'\n",
       "\\item '187'\n",
       "\\item '188'\n",
       "\\item '189'\n",
       "\\item '190'\n",
       "\\item '191'\n",
       "\\item '192'\n",
       "\\item '193'\n",
       "\\item '194'\n",
       "\\item '195'\n",
       "\\item '196'\n",
       "\\item '197'\n",
       "\\item '198'\n",
       "\\item '199'\n",
       "\\item '200'\n",
       "\\item ⋯\n",
       "\\item '1357'\n",
       "\\item '1358'\n",
       "\\item '1359'\n",
       "\\item '1360'\n",
       "\\item '1361'\n",
       "\\item '1362'\n",
       "\\item '1363'\n",
       "\\item '1364'\n",
       "\\item '1365'\n",
       "\\item '1366'\n",
       "\\item '1367'\n",
       "\\item '1368'\n",
       "\\item '1369'\n",
       "\\item '1370'\n",
       "\\item '1371'\n",
       "\\item '1372'\n",
       "\\item '1373'\n",
       "\\item '1374'\n",
       "\\item '1375'\n",
       "\\item '1376'\n",
       "\\item '1377'\n",
       "\\item '1378'\n",
       "\\item '1379'\n",
       "\\item '1380'\n",
       "\\item '1381'\n",
       "\\item '1382'\n",
       "\\item '1383'\n",
       "\\item '1384'\n",
       "\\item '1385'\n",
       "\\item '1386'\n",
       "\\item '1387'\n",
       "\\item '1388'\n",
       "\\item '1389'\n",
       "\\item '1390'\n",
       "\\item '1391'\n",
       "\\item '1392'\n",
       "\\item '1393'\n",
       "\\item '1394'\n",
       "\\item '1395'\n",
       "\\item '1396'\n",
       "\\item '1397'\n",
       "\\item '1398'\n",
       "\\item '1399'\n",
       "\\item '1400'\n",
       "\\item '1401'\n",
       "\\item '1402'\n",
       "\\item '1403'\n",
       "\\item '1404'\n",
       "\\item '1405'\n",
       "\\item '1406'\n",
       "\\item '1407'\n",
       "\\item '1408'\n",
       "\\item '1409'\n",
       "\\item '1410'\n",
       "\\item '1411'\n",
       "\\item '1412'\n",
       "\\item '1413'\n",
       "\\item '1414'\n",
       "\\item '1415'\n",
       "\\item '1416'\n",
       "\\item '1417'\n",
       "\\item '1418'\n",
       "\\item '1419'\n",
       "\\item '1420'\n",
       "\\item '1421'\n",
       "\\item '1422'\n",
       "\\item '1423'\n",
       "\\item '1424'\n",
       "\\item '1425'\n",
       "\\item '1426'\n",
       "\\item '1427'\n",
       "\\item '1428'\n",
       "\\item '1429'\n",
       "\\item '1430'\n",
       "\\item '1431'\n",
       "\\item '1432'\n",
       "\\item '1433'\n",
       "\\item '1434'\n",
       "\\item '1435'\n",
       "\\item '1436'\n",
       "\\item '1437'\n",
       "\\item '1438'\n",
       "\\item '1439'\n",
       "\\item '1440'\n",
       "\\item '1441'\n",
       "\\item '1442'\n",
       "\\item '1443'\n",
       "\\item '1444'\n",
       "\\item '1445'\n",
       "\\item '1446'\n",
       "\\item '1447'\n",
       "\\item '1448'\n",
       "\\item '1449'\n",
       "\\item '1450'\n",
       "\\item '1451'\n",
       "\\item '1452'\n",
       "\\item '1453'\n",
       "\\item '1454'\n",
       "\\item '1455'\n",
       "\\item '1456'\n",
       "\\item '1457'\n",
       "\\item '1458'\n",
       "\\item '1459'\n",
       "\\item '1460'\n",
       "\\item '1461'\n",
       "\\item '1462'\n",
       "\\item '1463'\n",
       "\\item '1464'\n",
       "\\item '1465'\n",
       "\\item '1466'\n",
       "\\item '1467'\n",
       "\\item '1468'\n",
       "\\item '1469'\n",
       "\\item '1470'\n",
       "\\item '1471'\n",
       "\\item '1472'\n",
       "\\item '1473'\n",
       "\\item '1474'\n",
       "\\item '1475'\n",
       "\\item '1476'\n",
       "\\item '1477'\n",
       "\\item '1478'\n",
       "\\item '1479'\n",
       "\\item '1480'\n",
       "\\item '1481'\n",
       "\\item '1482'\n",
       "\\item '1483'\n",
       "\\item '1484'\n",
       "\\item '1485'\n",
       "\\item '1486'\n",
       "\\item '1487'\n",
       "\\item '1488'\n",
       "\\item '1489'\n",
       "\\item '1490'\n",
       "\\item '1491'\n",
       "\\item '1492'\n",
       "\\item '1493'\n",
       "\\item '1494'\n",
       "\\item '1495'\n",
       "\\item '1496'\n",
       "\\item '1497'\n",
       "\\item '1498'\n",
       "\\item '1499'\n",
       "\\item '1500'\n",
       "\\item '1501'\n",
       "\\item '1502'\n",
       "\\item '1503'\n",
       "\\item '1504'\n",
       "\\item '1505'\n",
       "\\item '1506'\n",
       "\\item '1507'\n",
       "\\item '1508'\n",
       "\\item '1509'\n",
       "\\item '1510'\n",
       "\\item '1511'\n",
       "\\item '1512'\n",
       "\\item '1513'\n",
       "\\item '1514'\n",
       "\\item '1515'\n",
       "\\item '1516'\n",
       "\\item '1517'\n",
       "\\item '1518'\n",
       "\\item '1519'\n",
       "\\item '1520'\n",
       "\\item '1521'\n",
       "\\item '1522'\n",
       "\\item '1523'\n",
       "\\item '1524'\n",
       "\\item '1525'\n",
       "\\item '1526'\n",
       "\\item '1527'\n",
       "\\item '1528'\n",
       "\\item '1529'\n",
       "\\item '1530'\n",
       "\\item '1531'\n",
       "\\item '1532'\n",
       "\\item '1533'\n",
       "\\item '1534'\n",
       "\\item '1535'\n",
       "\\item '1536'\n",
       "\\item '1537'\n",
       "\\item '1538'\n",
       "\\item '1539'\n",
       "\\item '1540'\n",
       "\\item '1541'\n",
       "\\item '1542'\n",
       "\\item '1543'\n",
       "\\item '1544'\n",
       "\\item '1545'\n",
       "\\item '1546'\n",
       "\\item '1547'\n",
       "\\item '1548'\n",
       "\\item '1549'\n",
       "\\item '1550'\n",
       "\\item '1551'\n",
       "\\item '1552'\n",
       "\\item '1553'\n",
       "\\item '1554'\n",
       "\\item '1555'\n",
       "\\item '1556'\n",
       "\\end{enumerate*}\n"
      ],
      "text/markdown": [
       "1. '1'\n",
       "2. '2'\n",
       "3. '3'\n",
       "4. '4'\n",
       "5. '5'\n",
       "6. '6'\n",
       "7. '7'\n",
       "8. '8'\n",
       "9. '9'\n",
       "10. '10'\n",
       "11. '11'\n",
       "12. '12'\n",
       "13. '13'\n",
       "14. '14'\n",
       "15. '15'\n",
       "16. '16'\n",
       "17. '17'\n",
       "18. '18'\n",
       "19. '19'\n",
       "20. '20'\n",
       "21. '21'\n",
       "22. '22'\n",
       "23. '23'\n",
       "24. '24'\n",
       "25. '25'\n",
       "26. '26'\n",
       "27. '27'\n",
       "28. '28'\n",
       "29. '29'\n",
       "30. '30'\n",
       "31. '31'\n",
       "32. '32'\n",
       "33. '33'\n",
       "34. '34'\n",
       "35. '35'\n",
       "36. '36'\n",
       "37. '37'\n",
       "38. '38'\n",
       "39. '39'\n",
       "40. '40'\n",
       "41. '41'\n",
       "42. '42'\n",
       "43. '43'\n",
       "44. '44'\n",
       "45. '45'\n",
       "46. '46'\n",
       "47. '47'\n",
       "48. '48'\n",
       "49. '49'\n",
       "50. '50'\n",
       "51. '51'\n",
       "52. '52'\n",
       "53. '53'\n",
       "54. '54'\n",
       "55. '55'\n",
       "56. '56'\n",
       "57. '57'\n",
       "58. '58'\n",
       "59. '59'\n",
       "60. '60'\n",
       "61. '61'\n",
       "62. '62'\n",
       "63. '63'\n",
       "64. '64'\n",
       "65. '65'\n",
       "66. '66'\n",
       "67. '67'\n",
       "68. '68'\n",
       "69. '69'\n",
       "70. '70'\n",
       "71. '71'\n",
       "72. '72'\n",
       "73. '73'\n",
       "74. '74'\n",
       "75. '75'\n",
       "76. '76'\n",
       "77. '77'\n",
       "78. '78'\n",
       "79. '79'\n",
       "80. '80'\n",
       "81. '81'\n",
       "82. '82'\n",
       "83. '83'\n",
       "84. '84'\n",
       "85. '85'\n",
       "86. '86'\n",
       "87. '87'\n",
       "88. '88'\n",
       "89. '89'\n",
       "90. '90'\n",
       "91. '91'\n",
       "92. '92'\n",
       "93. '93'\n",
       "94. '94'\n",
       "95. '95'\n",
       "96. '96'\n",
       "97. '97'\n",
       "98. '98'\n",
       "99. '99'\n",
       "100. '100'\n",
       "101. '101'\n",
       "102. '102'\n",
       "103. '103'\n",
       "104. '104'\n",
       "105. '105'\n",
       "106. '106'\n",
       "107. '107'\n",
       "108. '108'\n",
       "109. '109'\n",
       "110. '110'\n",
       "111. '111'\n",
       "112. '112'\n",
       "113. '113'\n",
       "114. '114'\n",
       "115. '115'\n",
       "116. '116'\n",
       "117. '117'\n",
       "118. '118'\n",
       "119. '119'\n",
       "120. '120'\n",
       "121. '121'\n",
       "122. '122'\n",
       "123. '123'\n",
       "124. '124'\n",
       "125. '125'\n",
       "126. '126'\n",
       "127. '127'\n",
       "128. '128'\n",
       "129. '129'\n",
       "130. '130'\n",
       "131. '131'\n",
       "132. '132'\n",
       "133. '133'\n",
       "134. '134'\n",
       "135. '135'\n",
       "136. '136'\n",
       "137. '137'\n",
       "138. '138'\n",
       "139. '139'\n",
       "140. '140'\n",
       "141. '141'\n",
       "142. '142'\n",
       "143. '143'\n",
       "144. '144'\n",
       "145. '145'\n",
       "146. '146'\n",
       "147. '147'\n",
       "148. '148'\n",
       "149. '149'\n",
       "150. '150'\n",
       "151. '151'\n",
       "152. '152'\n",
       "153. '153'\n",
       "154. '154'\n",
       "155. '155'\n",
       "156. '156'\n",
       "157. '157'\n",
       "158. '158'\n",
       "159. '159'\n",
       "160. '160'\n",
       "161. '161'\n",
       "162. '162'\n",
       "163. '163'\n",
       "164. '164'\n",
       "165. '165'\n",
       "166. '166'\n",
       "167. '167'\n",
       "168. '168'\n",
       "169. '169'\n",
       "170. '170'\n",
       "171. '171'\n",
       "172. '172'\n",
       "173. '173'\n",
       "174. '174'\n",
       "175. '175'\n",
       "176. '176'\n",
       "177. '177'\n",
       "178. '178'\n",
       "179. '179'\n",
       "180. '180'\n",
       "181. '181'\n",
       "182. '182'\n",
       "183. '183'\n",
       "184. '184'\n",
       "185. '185'\n",
       "186. '186'\n",
       "187. '187'\n",
       "188. '188'\n",
       "189. '189'\n",
       "190. '190'\n",
       "191. '191'\n",
       "192. '192'\n",
       "193. '193'\n",
       "194. '194'\n",
       "195. '195'\n",
       "196. '196'\n",
       "197. '197'\n",
       "198. '198'\n",
       "199. '199'\n",
       "200. '200'\n",
       "201. ⋯\n",
       "202. '1357'\n",
       "203. '1358'\n",
       "204. '1359'\n",
       "205. '1360'\n",
       "206. '1361'\n",
       "207. '1362'\n",
       "208. '1363'\n",
       "209. '1364'\n",
       "210. '1365'\n",
       "211. '1366'\n",
       "212. '1367'\n",
       "213. '1368'\n",
       "214. '1369'\n",
       "215. '1370'\n",
       "216. '1371'\n",
       "217. '1372'\n",
       "218. '1373'\n",
       "219. '1374'\n",
       "220. '1375'\n",
       "221. '1376'\n",
       "222. '1377'\n",
       "223. '1378'\n",
       "224. '1379'\n",
       "225. '1380'\n",
       "226. '1381'\n",
       "227. '1382'\n",
       "228. '1383'\n",
       "229. '1384'\n",
       "230. '1385'\n",
       "231. '1386'\n",
       "232. '1387'\n",
       "233. '1388'\n",
       "234. '1389'\n",
       "235. '1390'\n",
       "236. '1391'\n",
       "237. '1392'\n",
       "238. '1393'\n",
       "239. '1394'\n",
       "240. '1395'\n",
       "241. '1396'\n",
       "242. '1397'\n",
       "243. '1398'\n",
       "244. '1399'\n",
       "245. '1400'\n",
       "246. '1401'\n",
       "247. '1402'\n",
       "248. '1403'\n",
       "249. '1404'\n",
       "250. '1405'\n",
       "251. '1406'\n",
       "252. '1407'\n",
       "253. '1408'\n",
       "254. '1409'\n",
       "255. '1410'\n",
       "256. '1411'\n",
       "257. '1412'\n",
       "258. '1413'\n",
       "259. '1414'\n",
       "260. '1415'\n",
       "261. '1416'\n",
       "262. '1417'\n",
       "263. '1418'\n",
       "264. '1419'\n",
       "265. '1420'\n",
       "266. '1421'\n",
       "267. '1422'\n",
       "268. '1423'\n",
       "269. '1424'\n",
       "270. '1425'\n",
       "271. '1426'\n",
       "272. '1427'\n",
       "273. '1428'\n",
       "274. '1429'\n",
       "275. '1430'\n",
       "276. '1431'\n",
       "277. '1432'\n",
       "278. '1433'\n",
       "279. '1434'\n",
       "280. '1435'\n",
       "281. '1436'\n",
       "282. '1437'\n",
       "283. '1438'\n",
       "284. '1439'\n",
       "285. '1440'\n",
       "286. '1441'\n",
       "287. '1442'\n",
       "288. '1443'\n",
       "289. '1444'\n",
       "290. '1445'\n",
       "291. '1446'\n",
       "292. '1447'\n",
       "293. '1448'\n",
       "294. '1449'\n",
       "295. '1450'\n",
       "296. '1451'\n",
       "297. '1452'\n",
       "298. '1453'\n",
       "299. '1454'\n",
       "300. '1455'\n",
       "301. '1456'\n",
       "302. '1457'\n",
       "303. '1458'\n",
       "304. '1459'\n",
       "305. '1460'\n",
       "306. '1461'\n",
       "307. '1462'\n",
       "308. '1463'\n",
       "309. '1464'\n",
       "310. '1465'\n",
       "311. '1466'\n",
       "312. '1467'\n",
       "313. '1468'\n",
       "314. '1469'\n",
       "315. '1470'\n",
       "316. '1471'\n",
       "317. '1472'\n",
       "318. '1473'\n",
       "319. '1474'\n",
       "320. '1475'\n",
       "321. '1476'\n",
       "322. '1477'\n",
       "323. '1478'\n",
       "324. '1479'\n",
       "325. '1480'\n",
       "326. '1481'\n",
       "327. '1482'\n",
       "328. '1483'\n",
       "329. '1484'\n",
       "330. '1485'\n",
       "331. '1486'\n",
       "332. '1487'\n",
       "333. '1488'\n",
       "334. '1489'\n",
       "335. '1490'\n",
       "336. '1491'\n",
       "337. '1492'\n",
       "338. '1493'\n",
       "339. '1494'\n",
       "340. '1495'\n",
       "341. '1496'\n",
       "342. '1497'\n",
       "343. '1498'\n",
       "344. '1499'\n",
       "345. '1500'\n",
       "346. '1501'\n",
       "347. '1502'\n",
       "348. '1503'\n",
       "349. '1504'\n",
       "350. '1505'\n",
       "351. '1506'\n",
       "352. '1507'\n",
       "353. '1508'\n",
       "354. '1509'\n",
       "355. '1510'\n",
       "356. '1511'\n",
       "357. '1512'\n",
       "358. '1513'\n",
       "359. '1514'\n",
       "360. '1515'\n",
       "361. '1516'\n",
       "362. '1517'\n",
       "363. '1518'\n",
       "364. '1519'\n",
       "365. '1520'\n",
       "366. '1521'\n",
       "367. '1522'\n",
       "368. '1523'\n",
       "369. '1524'\n",
       "370. '1525'\n",
       "371. '1526'\n",
       "372. '1527'\n",
       "373. '1528'\n",
       "374. '1529'\n",
       "375. '1530'\n",
       "376. '1531'\n",
       "377. '1532'\n",
       "378. '1533'\n",
       "379. '1534'\n",
       "380. '1535'\n",
       "381. '1536'\n",
       "382. '1537'\n",
       "383. '1538'\n",
       "384. '1539'\n",
       "385. '1540'\n",
       "386. '1541'\n",
       "387. '1542'\n",
       "388. '1543'\n",
       "389. '1544'\n",
       "390. '1545'\n",
       "391. '1546'\n",
       "392. '1547'\n",
       "393. '1548'\n",
       "394. '1549'\n",
       "395. '1550'\n",
       "396. '1551'\n",
       "397. '1552'\n",
       "398. '1553'\n",
       "399. '1554'\n",
       "400. '1555'\n",
       "401. '1556'\n",
       "\n",
       "\n"
      ],
      "text/plain": [
       "   [1] \"1\"    \"2\"    \"3\"    \"4\"    \"5\"    \"6\"    \"7\"    \"8\"    \"9\"    \"10\"  \n",
       "  [11] \"11\"   \"12\"   \"13\"   \"14\"   \"15\"   \"16\"   \"17\"   \"18\"   \"19\"   \"20\"  \n",
       "  [21] \"21\"   \"22\"   \"23\"   \"24\"   \"25\"   \"26\"   \"27\"   \"28\"   \"29\"   \"30\"  \n",
       "  [31] \"31\"   \"32\"   \"33\"   \"34\"   \"35\"   \"36\"   \"37\"   \"38\"   \"39\"   \"40\"  \n",
       "  [41] \"41\"   \"42\"   \"43\"   \"44\"   \"45\"   \"46\"   \"47\"   \"48\"   \"49\"   \"50\"  \n",
       "  [51] \"51\"   \"52\"   \"53\"   \"54\"   \"55\"   \"56\"   \"57\"   \"58\"   \"59\"   \"60\"  \n",
       "  [61] \"61\"   \"62\"   \"63\"   \"64\"   \"65\"   \"66\"   \"67\"   \"68\"   \"69\"   \"70\"  \n",
       "  [71] \"71\"   \"72\"   \"73\"   \"74\"   \"75\"   \"76\"   \"77\"   \"78\"   \"79\"   \"80\"  \n",
       "  [81] \"81\"   \"82\"   \"83\"   \"84\"   \"85\"   \"86\"   \"87\"   \"88\"   \"89\"   \"90\"  \n",
       "  [91] \"91\"   \"92\"   \"93\"   \"94\"   \"95\"   \"96\"   \"97\"   \"98\"   \"99\"   \"100\" \n",
       " [101] \"101\"  \"102\"  \"103\"  \"104\"  \"105\"  \"106\"  \"107\"  \"108\"  \"109\"  \"110\" \n",
       " [111] \"111\"  \"112\"  \"113\"  \"114\"  \"115\"  \"116\"  \"117\"  \"118\"  \"119\"  \"120\" \n",
       " [121] \"121\"  \"122\"  \"123\"  \"124\"  \"125\"  \"126\"  \"127\"  \"128\"  \"129\"  \"130\" \n",
       " [131] \"131\"  \"132\"  \"133\"  \"134\"  \"135\"  \"136\"  \"137\"  \"138\"  \"139\"  \"140\" \n",
       " [141] \"141\"  \"142\"  \"143\"  \"144\"  \"145\"  \"146\"  \"147\"  \"148\"  \"149\"  \"150\" \n",
       " [151] \"151\"  \"152\"  \"153\"  \"154\"  \"155\"  \"156\"  \"157\"  \"158\"  \"159\"  \"160\" \n",
       " [161] \"161\"  \"162\"  \"163\"  \"164\"  \"165\"  \"166\"  \"167\"  \"168\"  \"169\"  \"170\" \n",
       " [171] \"171\"  \"172\"  \"173\"  \"174\"  \"175\"  \"176\"  \"177\"  \"178\"  \"179\"  \"180\" \n",
       " [181] \"181\"  \"182\"  \"183\"  \"184\"  \"185\"  \"186\"  \"187\"  \"188\"  \"189\"  \"190\" \n",
       " [191] \"191\"  \"192\"  \"193\"  \"194\"  \"195\"  \"196\"  \"197\"  \"198\"  \"199\"  \"200\" \n",
       " [201] \"201\"  \"202\"  \"203\"  \"204\"  \"205\"  \"206\"  \"207\"  \"208\"  \"209\"  \"210\" \n",
       " [211] \"211\"  \"212\"  \"213\"  \"214\"  \"215\"  \"216\"  \"217\"  \"218\"  \"219\"  \"220\" \n",
       " [221] \"221\"  \"222\"  \"223\"  \"224\"  \"225\"  \"226\"  \"227\"  \"228\"  \"229\"  \"230\" \n",
       " [231] \"231\"  \"232\"  \"233\"  \"234\"  \"235\"  \"236\"  \"237\"  \"238\"  \"239\"  \"240\" \n",
       " [241] \"241\"  \"242\"  \"243\"  \"244\"  \"245\"  \"246\"  \"247\"  \"248\"  \"249\"  \"250\" \n",
       " [251] \"251\"  \"252\"  \"253\"  \"254\"  \"255\"  \"256\"  \"257\"  \"258\"  \"259\"  \"260\" \n",
       " [261] \"261\"  \"262\"  \"263\"  \"264\"  \"265\"  \"266\"  \"267\"  \"268\"  \"269\"  \"270\" \n",
       " [271] \"271\"  \"272\"  \"273\"  \"274\"  \"275\"  \"276\"  \"277\"  \"278\"  \"279\"  \"280\" \n",
       " [281] \"281\"  \"282\"  \"283\"  \"284\"  \"285\"  \"286\"  \"287\"  \"288\"  \"289\"  \"290\" \n",
       " [291] \"291\"  \"292\"  \"293\"  \"294\"  \"295\"  \"296\"  \"297\"  \"298\"  \"299\"  \"300\" \n",
       " [301] \"301\"  \"302\"  \"303\"  \"304\"  \"305\"  \"306\"  \"307\"  \"308\"  \"309\"  \"310\" \n",
       " [311] \"311\"  \"312\"  \"313\"  \"314\"  \"315\"  \"316\"  \"317\"  \"318\"  \"319\"  \"320\" \n",
       " [321] \"321\"  \"322\"  \"323\"  \"324\"  \"325\"  \"326\"  \"327\"  \"328\"  \"329\"  \"330\" \n",
       " [331] \"331\"  \"332\"  \"333\"  \"334\"  \"335\"  \"336\"  \"337\"  \"338\"  \"339\"  \"340\" \n",
       " [341] \"341\"  \"342\"  \"343\"  \"344\"  \"345\"  \"346\"  \"347\"  \"348\"  \"349\"  \"350\" \n",
       " [351] \"351\"  \"352\"  \"353\"  \"354\"  \"355\"  \"356\"  \"357\"  \"358\"  \"359\"  \"360\" \n",
       " [361] \"361\"  \"362\"  \"363\"  \"364\"  \"365\"  \"366\"  \"367\"  \"368\"  \"369\"  \"370\" \n",
       " [371] \"371\"  \"372\"  \"373\"  \"374\"  \"375\"  \"376\"  \"377\"  \"378\"  \"379\"  \"380\" \n",
       " [381] \"381\"  \"382\"  \"383\"  \"384\"  \"385\"  \"386\"  \"387\"  \"388\"  \"389\"  \"390\" \n",
       " [391] \"391\"  \"392\"  \"393\"  \"394\"  \"395\"  \"396\"  \"397\"  \"398\"  \"399\"  \"400\" \n",
       " [401] \"401\"  \"402\"  \"403\"  \"404\"  \"405\"  \"406\"  \"407\"  \"408\"  \"409\"  \"410\" \n",
       " [411] \"411\"  \"412\"  \"413\"  \"414\"  \"415\"  \"416\"  \"417\"  \"418\"  \"419\"  \"420\" \n",
       " [421] \"421\"  \"422\"  \"423\"  \"424\"  \"425\"  \"426\"  \"427\"  \"428\"  \"429\"  \"430\" \n",
       " [431] \"431\"  \"432\"  \"433\"  \"434\"  \"435\"  \"436\"  \"437\"  \"438\"  \"439\"  \"440\" \n",
       " [441] \"441\"  \"442\"  \"443\"  \"444\"  \"445\"  \"446\"  \"447\"  \"448\"  \"449\"  \"450\" \n",
       " [451] \"451\"  \"452\"  \"453\"  \"454\"  \"455\"  \"456\"  \"457\"  \"458\"  \"459\"  \"460\" \n",
       " [461] \"461\"  \"462\"  \"463\"  \"464\"  \"465\"  \"466\"  \"467\"  \"468\"  \"469\"  \"470\" \n",
       " [471] \"471\"  \"472\"  \"473\"  \"474\"  \"475\"  \"476\"  \"477\"  \"478\"  \"479\"  \"480\" \n",
       " [481] \"481\"  \"482\"  \"483\"  \"484\"  \"485\"  \"486\"  \"487\"  \"488\"  \"489\"  \"490\" \n",
       " [491] \"491\"  \"492\"  \"493\"  \"494\"  \"495\"  \"496\"  \"497\"  \"498\"  \"499\"  \"500\" \n",
       " [501] \"501\"  \"502\"  \"503\"  \"504\"  \"505\"  \"506\"  \"507\"  \"508\"  \"509\"  \"510\" \n",
       " [511] \"511\"  \"512\"  \"513\"  \"514\"  \"515\"  \"516\"  \"517\"  \"518\"  \"519\"  \"520\" \n",
       " [521] \"521\"  \"522\"  \"523\"  \"524\"  \"525\"  \"526\"  \"527\"  \"528\"  \"529\"  \"530\" \n",
       " [531] \"531\"  \"532\"  \"533\"  \"534\"  \"535\"  \"536\"  \"537\"  \"538\"  \"539\"  \"540\" \n",
       " [541] \"541\"  \"542\"  \"543\"  \"544\"  \"545\"  \"546\"  \"547\"  \"548\"  \"549\"  \"550\" \n",
       " [551] \"551\"  \"552\"  \"553\"  \"554\"  \"555\"  \"556\"  \"557\"  \"558\"  \"559\"  \"560\" \n",
       " [561] \"561\"  \"562\"  \"563\"  \"564\"  \"565\"  \"566\"  \"567\"  \"568\"  \"569\"  \"570\" \n",
       " [571] \"571\"  \"572\"  \"573\"  \"574\"  \"575\"  \"576\"  \"577\"  \"578\"  \"579\"  \"580\" \n",
       " [581] \"581\"  \"582\"  \"583\"  \"584\"  \"585\"  \"586\"  \"587\"  \"588\"  \"589\"  \"590\" \n",
       " [591] \"591\"  \"592\"  \"593\"  \"594\"  \"595\"  \"596\"  \"597\"  \"598\"  \"599\"  \"600\" \n",
       " [601] \"601\"  \"602\"  \"603\"  \"604\"  \"605\"  \"606\"  \"607\"  \"608\"  \"609\"  \"610\" \n",
       " [611] \"611\"  \"612\"  \"613\"  \"614\"  \"615\"  \"616\"  \"617\"  \"618\"  \"619\"  \"620\" \n",
       " [621] \"621\"  \"622\"  \"623\"  \"624\"  \"625\"  \"626\"  \"627\"  \"628\"  \"629\"  \"630\" \n",
       " [631] \"631\"  \"632\"  \"633\"  \"634\"  \"635\"  \"636\"  \"637\"  \"638\"  \"639\"  \"640\" \n",
       " [641] \"641\"  \"642\"  \"643\"  \"644\"  \"645\"  \"646\"  \"647\"  \"648\"  \"649\"  \"650\" \n",
       " [651] \"651\"  \"652\"  \"653\"  \"654\"  \"655\"  \"656\"  \"657\"  \"658\"  \"659\"  \"660\" \n",
       " [661] \"661\"  \"662\"  \"663\"  \"664\"  \"665\"  \"666\"  \"667\"  \"668\"  \"669\"  \"670\" \n",
       " [671] \"671\"  \"672\"  \"673\"  \"674\"  \"675\"  \"676\"  \"677\"  \"678\"  \"679\"  \"680\" \n",
       " [681] \"681\"  \"682\"  \"683\"  \"684\"  \"685\"  \"686\"  \"687\"  \"688\"  \"689\"  \"690\" \n",
       " [691] \"691\"  \"692\"  \"693\"  \"694\"  \"695\"  \"696\"  \"697\"  \"698\"  \"699\"  \"700\" \n",
       " [701] \"701\"  \"702\"  \"703\"  \"704\"  \"705\"  \"706\"  \"707\"  \"708\"  \"709\"  \"710\" \n",
       " [711] \"711\"  \"712\"  \"713\"  \"714\"  \"715\"  \"716\"  \"717\"  \"718\"  \"719\"  \"720\" \n",
       " [721] \"721\"  \"722\"  \"723\"  \"724\"  \"725\"  \"726\"  \"727\"  \"728\"  \"729\"  \"730\" \n",
       " [731] \"731\"  \"732\"  \"733\"  \"734\"  \"735\"  \"736\"  \"737\"  \"738\"  \"739\"  \"740\" \n",
       " [741] \"741\"  \"742\"  \"743\"  \"744\"  \"745\"  \"746\"  \"747\"  \"748\"  \"749\"  \"750\" \n",
       " [751] \"751\"  \"752\"  \"753\"  \"754\"  \"755\"  \"756\"  \"757\"  \"758\"  \"759\"  \"760\" \n",
       " [761] \"761\"  \"762\"  \"763\"  \"764\"  \"765\"  \"766\"  \"767\"  \"768\"  \"769\"  \"770\" \n",
       " [771] \"771\"  \"772\"  \"773\"  \"774\"  \"775\"  \"776\"  \"777\"  \"778\"  \"779\"  \"780\" \n",
       " [781] \"781\"  \"782\"  \"783\"  \"784\"  \"785\"  \"786\"  \"787\"  \"788\"  \"789\"  \"790\" \n",
       " [791] \"791\"  \"792\"  \"793\"  \"794\"  \"795\"  \"796\"  \"797\"  \"798\"  \"799\"  \"800\" \n",
       " [801] \"801\"  \"802\"  \"803\"  \"804\"  \"805\"  \"806\"  \"807\"  \"808\"  \"809\"  \"810\" \n",
       " [811] \"811\"  \"812\"  \"813\"  \"814\"  \"815\"  \"816\"  \"817\"  \"818\"  \"819\"  \"820\" \n",
       " [821] \"821\"  \"822\"  \"823\"  \"824\"  \"825\"  \"826\"  \"827\"  \"828\"  \"829\"  \"830\" \n",
       " [831] \"831\"  \"832\"  \"833\"  \"834\"  \"835\"  \"836\"  \"837\"  \"838\"  \"839\"  \"840\" \n",
       " [841] \"841\"  \"842\"  \"843\"  \"844\"  \"845\"  \"846\"  \"847\"  \"848\"  \"849\"  \"850\" \n",
       " [851] \"851\"  \"852\"  \"853\"  \"854\"  \"855\"  \"856\"  \"857\"  \"858\"  \"859\"  \"860\" \n",
       " [861] \"861\"  \"862\"  \"863\"  \"864\"  \"865\"  \"866\"  \"867\"  \"868\"  \"869\"  \"870\" \n",
       " [871] \"871\"  \"872\"  \"873\"  \"874\"  \"875\"  \"876\"  \"877\"  \"878\"  \"879\"  \"880\" \n",
       " [881] \"881\"  \"882\"  \"883\"  \"884\"  \"885\"  \"886\"  \"887\"  \"888\"  \"889\"  \"890\" \n",
       " [891] \"891\"  \"892\"  \"893\"  \"894\"  \"895\"  \"896\"  \"897\"  \"898\"  \"899\"  \"900\" \n",
       " [901] \"901\"  \"902\"  \"903\"  \"904\"  \"905\"  \"906\"  \"907\"  \"908\"  \"909\"  \"910\" \n",
       " [911] \"911\"  \"912\"  \"913\"  \"914\"  \"915\"  \"916\"  \"917\"  \"918\"  \"919\"  \"920\" \n",
       " [921] \"921\"  \"922\"  \"923\"  \"924\"  \"925\"  \"926\"  \"927\"  \"928\"  \"929\"  \"930\" \n",
       " [931] \"931\"  \"932\"  \"933\"  \"934\"  \"935\"  \"936\"  \"937\"  \"938\"  \"939\"  \"940\" \n",
       " [941] \"941\"  \"942\"  \"943\"  \"944\"  \"945\"  \"946\"  \"947\"  \"948\"  \"949\"  \"950\" \n",
       " [951] \"951\"  \"952\"  \"953\"  \"954\"  \"955\"  \"956\"  \"957\"  \"958\"  \"959\"  \"960\" \n",
       " [961] \"961\"  \"962\"  \"963\"  \"964\"  \"965\"  \"966\"  \"967\"  \"968\"  \"969\"  \"970\" \n",
       " [971] \"971\"  \"972\"  \"973\"  \"974\"  \"975\"  \"976\"  \"977\"  \"978\"  \"979\"  \"980\" \n",
       " [981] \"981\"  \"982\"  \"983\"  \"984\"  \"985\"  \"986\"  \"987\"  \"988\"  \"989\"  \"990\" \n",
       " [991] \"991\"  \"992\"  \"993\"  \"994\"  \"995\"  \"996\"  \"997\"  \"998\"  \"999\"  \"1000\"\n",
       "[1001] \"1001\" \"1002\" \"1003\" \"1004\" \"1005\" \"1006\" \"1007\" \"1008\" \"1009\" \"1010\"\n",
       "[1011] \"1011\" \"1012\" \"1013\" \"1014\" \"1015\" \"1016\" \"1017\" \"1018\" \"1019\" \"1020\"\n",
       "[1021] \"1021\" \"1022\" \"1023\" \"1024\" \"1025\" \"1026\" \"1027\" \"1028\" \"1029\" \"1030\"\n",
       "[1031] \"1031\" \"1032\" \"1033\" \"1034\" \"1035\" \"1036\" \"1037\" \"1038\" \"1039\" \"1040\"\n",
       "[1041] \"1041\" \"1042\" \"1043\" \"1044\" \"1045\" \"1046\" \"1047\" \"1048\" \"1049\" \"1050\"\n",
       "[1051] \"1051\" \"1052\" \"1053\" \"1054\" \"1055\" \"1056\" \"1057\" \"1058\" \"1059\" \"1060\"\n",
       "[1061] \"1061\" \"1062\" \"1063\" \"1064\" \"1065\" \"1066\" \"1067\" \"1068\" \"1069\" \"1070\"\n",
       "[1071] \"1071\" \"1072\" \"1073\" \"1074\" \"1075\" \"1076\" \"1077\" \"1078\" \"1079\" \"1080\"\n",
       "[1081] \"1081\" \"1082\" \"1083\" \"1084\" \"1085\" \"1086\" \"1087\" \"1088\" \"1089\" \"1090\"\n",
       "[1091] \"1091\" \"1092\" \"1093\" \"1094\" \"1095\" \"1096\" \"1097\" \"1098\" \"1099\" \"1100\"\n",
       "[1101] \"1101\" \"1102\" \"1103\" \"1104\" \"1105\" \"1106\" \"1107\" \"1108\" \"1109\" \"1110\"\n",
       "[1111] \"1111\" \"1112\" \"1113\" \"1114\" \"1115\" \"1116\" \"1117\" \"1118\" \"1119\" \"1120\"\n",
       "[1121] \"1121\" \"1122\" \"1123\" \"1124\" \"1125\" \"1126\" \"1127\" \"1128\" \"1129\" \"1130\"\n",
       "[1131] \"1131\" \"1132\" \"1133\" \"1134\" \"1135\" \"1136\" \"1137\" \"1138\" \"1139\" \"1140\"\n",
       "[1141] \"1141\" \"1142\" \"1143\" \"1144\" \"1145\" \"1146\" \"1147\" \"1148\" \"1149\" \"1150\"\n",
       "[1151] \"1151\" \"1152\" \"1153\" \"1154\" \"1155\" \"1156\" \"1157\" \"1158\" \"1159\" \"1160\"\n",
       "[1161] \"1161\" \"1162\" \"1163\" \"1164\" \"1165\" \"1166\" \"1167\" \"1168\" \"1169\" \"1170\"\n",
       "[1171] \"1171\" \"1172\" \"1173\" \"1174\" \"1175\" \"1176\" \"1177\" \"1178\" \"1179\" \"1180\"\n",
       "[1181] \"1181\" \"1182\" \"1183\" \"1184\" \"1185\" \"1186\" \"1187\" \"1188\" \"1189\" \"1190\"\n",
       "[1191] \"1191\" \"1192\" \"1193\" \"1194\" \"1195\" \"1196\" \"1197\" \"1198\" \"1199\" \"1200\"\n",
       "[1201] \"1201\" \"1202\" \"1203\" \"1204\" \"1205\" \"1206\" \"1207\" \"1208\" \"1209\" \"1210\"\n",
       "[1211] \"1211\" \"1212\" \"1213\" \"1214\" \"1215\" \"1216\" \"1217\" \"1218\" \"1219\" \"1220\"\n",
       "[1221] \"1221\" \"1222\" \"1223\" \"1224\" \"1225\" \"1226\" \"1227\" \"1228\" \"1229\" \"1230\"\n",
       "[1231] \"1231\" \"1232\" \"1233\" \"1234\" \"1235\" \"1236\" \"1237\" \"1238\" \"1239\" \"1240\"\n",
       "[1241] \"1241\" \"1242\" \"1243\" \"1244\" \"1245\" \"1246\" \"1247\" \"1248\" \"1249\" \"1250\"\n",
       "[1251] \"1251\" \"1252\" \"1253\" \"1254\" \"1255\" \"1256\" \"1257\" \"1258\" \"1259\" \"1260\"\n",
       "[1261] \"1261\" \"1262\" \"1263\" \"1264\" \"1265\" \"1266\" \"1267\" \"1268\" \"1269\" \"1270\"\n",
       "[1271] \"1271\" \"1272\" \"1273\" \"1274\" \"1275\" \"1276\" \"1277\" \"1278\" \"1279\" \"1280\"\n",
       "[1281] \"1281\" \"1282\" \"1283\" \"1284\" \"1285\" \"1286\" \"1287\" \"1288\" \"1289\" \"1290\"\n",
       "[1291] \"1291\" \"1292\" \"1293\" \"1294\" \"1295\" \"1296\" \"1297\" \"1298\" \"1299\" \"1300\"\n",
       "[1301] \"1301\" \"1302\" \"1303\" \"1304\" \"1305\" \"1306\" \"1307\" \"1308\" \"1309\" \"1310\"\n",
       "[1311] \"1311\" \"1312\" \"1313\" \"1314\" \"1315\" \"1316\" \"1317\" \"1318\" \"1319\" \"1320\"\n",
       "[1321] \"1321\" \"1322\" \"1323\" \"1324\" \"1325\" \"1326\" \"1327\" \"1328\" \"1329\" \"1330\"\n",
       "[1331] \"1331\" \"1332\" \"1333\" \"1334\" \"1335\" \"1336\" \"1337\" \"1338\" \"1339\" \"1340\"\n",
       "[1341] \"1341\" \"1342\" \"1343\" \"1344\" \"1345\" \"1346\" \"1347\" \"1348\" \"1349\" \"1350\"\n",
       "[1351] \"1351\" \"1352\" \"1353\" \"1354\" \"1355\" \"1356\" \"1357\" \"1358\" \"1359\" \"1360\"\n",
       "[1361] \"1361\" \"1362\" \"1363\" \"1364\" \"1365\" \"1366\" \"1367\" \"1368\" \"1369\" \"1370\"\n",
       "[1371] \"1371\" \"1372\" \"1373\" \"1374\" \"1375\" \"1376\" \"1377\" \"1378\" \"1379\" \"1380\"\n",
       "[1381] \"1381\" \"1382\" \"1383\" \"1384\" \"1385\" \"1386\" \"1387\" \"1388\" \"1389\" \"1390\"\n",
       "[1391] \"1391\" \"1392\" \"1393\" \"1394\" \"1395\" \"1396\" \"1397\" \"1398\" \"1399\" \"1400\"\n",
       "[1401] \"1401\" \"1402\" \"1403\" \"1404\" \"1405\" \"1406\" \"1407\" \"1408\" \"1409\" \"1410\"\n",
       "[1411] \"1411\" \"1412\" \"1413\" \"1414\" \"1415\" \"1416\" \"1417\" \"1418\" \"1419\" \"1420\"\n",
       "[1421] \"1421\" \"1422\" \"1423\" \"1424\" \"1425\" \"1426\" \"1427\" \"1428\" \"1429\" \"1430\"\n",
       "[1431] \"1431\" \"1432\" \"1433\" \"1434\" \"1435\" \"1436\" \"1437\" \"1438\" \"1439\" \"1440\"\n",
       "[1441] \"1441\" \"1442\" \"1443\" \"1444\" \"1445\" \"1446\" \"1447\" \"1448\" \"1449\" \"1450\"\n",
       "[1451] \"1451\" \"1452\" \"1453\" \"1454\" \"1455\" \"1456\" \"1457\" \"1458\" \"1459\" \"1460\"\n",
       "[1461] \"1461\" \"1462\" \"1463\" \"1464\" \"1465\" \"1466\" \"1467\" \"1468\" \"1469\" \"1470\"\n",
       "[1471] \"1471\" \"1472\" \"1473\" \"1474\" \"1475\" \"1476\" \"1477\" \"1478\" \"1479\" \"1480\"\n",
       "[1481] \"1481\" \"1482\" \"1483\" \"1484\" \"1485\" \"1486\" \"1487\" \"1488\" \"1489\" \"1490\"\n",
       "[1491] \"1491\" \"1492\" \"1493\" \"1494\" \"1495\" \"1496\" \"1497\" \"1498\" \"1499\" \"1500\"\n",
       "[1501] \"1501\" \"1502\" \"1503\" \"1504\" \"1505\" \"1506\" \"1507\" \"1508\" \"1509\" \"1510\"\n",
       "[1511] \"1511\" \"1512\" \"1513\" \"1514\" \"1515\" \"1516\" \"1517\" \"1518\" \"1519\" \"1520\"\n",
       "[1521] \"1521\" \"1522\" \"1523\" \"1524\" \"1525\" \"1526\" \"1527\" \"1528\" \"1529\" \"1530\"\n",
       "[1531] \"1531\" \"1532\" \"1533\" \"1534\" \"1535\" \"1536\" \"1537\" \"1538\" \"1539\" \"1540\"\n",
       "[1541] \"1541\" \"1542\" \"1543\" \"1544\" \"1545\" \"1546\" \"1547\" \"1548\" \"1549\" \"1550\"\n",
       "[1551] \"1551\" \"1552\" \"1553\" \"1554\" \"1555\" \"1556\""
      ]
     },
     "metadata": {},
     "output_type": "display_data"
    }
   ],
   "source": [
    "rownames(df)"
   ]
  },
  {
   "cell_type": "code",
   "execution_count": null,
   "id": "1d2b6c1a",
   "metadata": {},
   "outputs": [],
   "source": []
  },
  {
   "cell_type": "code",
   "execution_count": 5,
   "id": "f20875b4",
   "metadata": {},
   "outputs": [],
   "source": [
    "help(order)"
   ]
  },
  {
   "cell_type": "code",
   "execution_count": null,
   "id": "9da00ded",
   "metadata": {},
   "outputs": [],
   "source": [
    "\"\n",
    "\n",
    "... : a sequence of numeric, complex, character or logical vectors\n",
    "\n",
    "decreasing :  logical value , ie FALSE/TRUE , ie it Should the sort order be \n",
    "                increasing or decreasing\n",
    "\n",
    "\n",
    "\""
   ]
  },
  {
   "cell_type": "code",
   "execution_count": 31,
   "id": "cf749f2a",
   "metadata": {},
   "outputs": [
    {
     "data": {
      "text/html": [
       "<pre class=language-r><code>function (..., na.last = TRUE, decreasing = FALSE, method = c(\"auto\", \n",
       "<span style=white-space:pre-wrap>    \"shell\", \"radix\")) </span>\n",
       "NULL</code></pre>"
      ],
      "text/latex": [
       "\\begin{minted}{r}\n",
       "function (..., na.last = TRUE, decreasing = FALSE, method = c(\"auto\", \n",
       "    \"shell\", \"radix\")) \n",
       "NULL\n",
       "\\end{minted}"
      ],
      "text/markdown": [
       "```r\n",
       "function (..., na.last = TRUE, decreasing = FALSE, method = c(\"auto\", \n",
       "    \"shell\", \"radix\")) \n",
       "NULL\n",
       "```"
      ],
      "text/plain": [
       "function (..., na.last = TRUE, decreasing = FALSE, method = c(\"auto\", \n",
       "    \"shell\", \"radix\")) \n",
       "NULL"
      ]
     },
     "metadata": {},
     "output_type": "display_data"
    }
   ],
   "source": [
    "args(order)"
   ]
  },
  {
   "cell_type": "code",
   "execution_count": null,
   "id": "228390e7",
   "metadata": {},
   "outputs": [],
   "source": [
    "## order(rownames(df), decreasing = TRUE)\n",
    "## returns improper results !"
   ]
  },
  {
   "cell_type": "code",
   "execution_count": 32,
   "id": "c28d1233",
   "metadata": {},
   "outputs": [
    {
     "data": {
      "text/html": [
       "<style>\n",
       ".list-inline {list-style: none; margin:0; padding: 0}\n",
       ".list-inline>li {display: inline-block}\n",
       ".list-inline>li:not(:last-child)::after {content: \"\\00b7\"; padding: 0 .5ex}\n",
       "</style>\n",
       "<ol class=list-inline><li>1556</li><li>1555</li><li>1554</li><li>1553</li><li>1552</li><li>1551</li><li>1550</li><li>1549</li><li>1548</li><li>1547</li><li>1546</li><li>1545</li><li>1544</li><li>1543</li><li>1542</li><li>1541</li><li>1540</li><li>1539</li><li>1538</li><li>1537</li><li>1536</li><li>1535</li><li>1534</li><li>1533</li><li>1532</li><li>1531</li><li>1530</li><li>1529</li><li>1528</li><li>1527</li><li>1526</li><li>1525</li><li>1524</li><li>1523</li><li>1522</li><li>1521</li><li>1520</li><li>1519</li><li>1518</li><li>1517</li><li>1516</li><li>1515</li><li>1514</li><li>1513</li><li>1512</li><li>1511</li><li>1510</li><li>1509</li><li>1508</li><li>1507</li><li>1506</li><li>1505</li><li>1504</li><li>1503</li><li>1502</li><li>1501</li><li>1500</li><li>1499</li><li>1498</li><li>1497</li><li>1496</li><li>1495</li><li>1494</li><li>1493</li><li>1492</li><li>1491</li><li>1490</li><li>1489</li><li>1488</li><li>1487</li><li>1486</li><li>1485</li><li>1484</li><li>1483</li><li>1482</li><li>1481</li><li>1480</li><li>1479</li><li>1478</li><li>1477</li><li>1476</li><li>1475</li><li>1474</li><li>1473</li><li>1472</li><li>1471</li><li>1470</li><li>1469</li><li>1468</li><li>1467</li><li>1466</li><li>1465</li><li>1464</li><li>1463</li><li>1462</li><li>1461</li><li>1460</li><li>1459</li><li>1458</li><li>1457</li><li>1456</li><li>1455</li><li>1454</li><li>1453</li><li>1452</li><li>1451</li><li>1450</li><li>1449</li><li>1448</li><li>1447</li><li>1446</li><li>1445</li><li>1444</li><li>1443</li><li>1442</li><li>1441</li><li>1440</li><li>1439</li><li>1438</li><li>1437</li><li>1436</li><li>1435</li><li>1434</li><li>1433</li><li>1432</li><li>1431</li><li>1430</li><li>1429</li><li>1428</li><li>1427</li><li>1426</li><li>1425</li><li>1424</li><li>1423</li><li>1422</li><li>1421</li><li>1420</li><li>1419</li><li>1418</li><li>1417</li><li>1416</li><li>1415</li><li>1414</li><li>1413</li><li>1412</li><li>1411</li><li>1410</li><li>1409</li><li>1408</li><li>1407</li><li>1406</li><li>1405</li><li>1404</li><li>1403</li><li>1402</li><li>1401</li><li>1400</li><li>1399</li><li>1398</li><li>1397</li><li>1396</li><li>1395</li><li>1394</li><li>1393</li><li>1392</li><li>1391</li><li>1390</li><li>1389</li><li>1388</li><li>1387</li><li>1386</li><li>1385</li><li>1384</li><li>1383</li><li>1382</li><li>1381</li><li>1380</li><li>1379</li><li>1378</li><li>1377</li><li>1376</li><li>1375</li><li>1374</li><li>1373</li><li>1372</li><li>1371</li><li>1370</li><li>1369</li><li>1368</li><li>1367</li><li>1366</li><li>1365</li><li>1364</li><li>1363</li><li>1362</li><li>1361</li><li>1360</li><li>1359</li><li>1358</li><li>1357</li><li>⋯</li><li>200</li><li>199</li><li>198</li><li>197</li><li>196</li><li>195</li><li>194</li><li>193</li><li>192</li><li>191</li><li>190</li><li>189</li><li>188</li><li>187</li><li>186</li><li>185</li><li>184</li><li>183</li><li>182</li><li>181</li><li>180</li><li>179</li><li>178</li><li>177</li><li>176</li><li>175</li><li>174</li><li>173</li><li>172</li><li>171</li><li>170</li><li>169</li><li>168</li><li>167</li><li>166</li><li>165</li><li>164</li><li>163</li><li>162</li><li>161</li><li>160</li><li>159</li><li>158</li><li>157</li><li>156</li><li>155</li><li>154</li><li>153</li><li>152</li><li>151</li><li>150</li><li>149</li><li>148</li><li>147</li><li>146</li><li>145</li><li>144</li><li>143</li><li>142</li><li>141</li><li>140</li><li>139</li><li>138</li><li>137</li><li>136</li><li>135</li><li>134</li><li>133</li><li>132</li><li>131</li><li>130</li><li>129</li><li>128</li><li>127</li><li>126</li><li>125</li><li>124</li><li>123</li><li>122</li><li>121</li><li>120</li><li>119</li><li>118</li><li>117</li><li>116</li><li>115</li><li>114</li><li>113</li><li>112</li><li>111</li><li>110</li><li>109</li><li>108</li><li>107</li><li>106</li><li>105</li><li>104</li><li>103</li><li>102</li><li>101</li><li>100</li><li>99</li><li>98</li><li>97</li><li>96</li><li>95</li><li>94</li><li>93</li><li>92</li><li>91</li><li>90</li><li>89</li><li>88</li><li>87</li><li>86</li><li>85</li><li>84</li><li>83</li><li>82</li><li>81</li><li>80</li><li>79</li><li>78</li><li>77</li><li>76</li><li>75</li><li>74</li><li>73</li><li>72</li><li>71</li><li>70</li><li>69</li><li>68</li><li>67</li><li>66</li><li>65</li><li>64</li><li>63</li><li>62</li><li>61</li><li>60</li><li>59</li><li>58</li><li>57</li><li>56</li><li>55</li><li>54</li><li>53</li><li>52</li><li>51</li><li>50</li><li>49</li><li>48</li><li>47</li><li>46</li><li>45</li><li>44</li><li>43</li><li>42</li><li>41</li><li>40</li><li>39</li><li>38</li><li>37</li><li>36</li><li>35</li><li>34</li><li>33</li><li>32</li><li>31</li><li>30</li><li>29</li><li>28</li><li>27</li><li>26</li><li>25</li><li>24</li><li>23</li><li>22</li><li>21</li><li>20</li><li>19</li><li>18</li><li>17</li><li>16</li><li>15</li><li>14</li><li>13</li><li>12</li><li>11</li><li>10</li><li>9</li><li>8</li><li>7</li><li>6</li><li>5</li><li>4</li><li>3</li><li>2</li><li>1</li></ol>\n"
      ],
      "text/latex": [
       "\\begin{enumerate*}\n",
       "\\item 1556\n",
       "\\item 1555\n",
       "\\item 1554\n",
       "\\item 1553\n",
       "\\item 1552\n",
       "\\item 1551\n",
       "\\item 1550\n",
       "\\item 1549\n",
       "\\item 1548\n",
       "\\item 1547\n",
       "\\item 1546\n",
       "\\item 1545\n",
       "\\item 1544\n",
       "\\item 1543\n",
       "\\item 1542\n",
       "\\item 1541\n",
       "\\item 1540\n",
       "\\item 1539\n",
       "\\item 1538\n",
       "\\item 1537\n",
       "\\item 1536\n",
       "\\item 1535\n",
       "\\item 1534\n",
       "\\item 1533\n",
       "\\item 1532\n",
       "\\item 1531\n",
       "\\item 1530\n",
       "\\item 1529\n",
       "\\item 1528\n",
       "\\item 1527\n",
       "\\item 1526\n",
       "\\item 1525\n",
       "\\item 1524\n",
       "\\item 1523\n",
       "\\item 1522\n",
       "\\item 1521\n",
       "\\item 1520\n",
       "\\item 1519\n",
       "\\item 1518\n",
       "\\item 1517\n",
       "\\item 1516\n",
       "\\item 1515\n",
       "\\item 1514\n",
       "\\item 1513\n",
       "\\item 1512\n",
       "\\item 1511\n",
       "\\item 1510\n",
       "\\item 1509\n",
       "\\item 1508\n",
       "\\item 1507\n",
       "\\item 1506\n",
       "\\item 1505\n",
       "\\item 1504\n",
       "\\item 1503\n",
       "\\item 1502\n",
       "\\item 1501\n",
       "\\item 1500\n",
       "\\item 1499\n",
       "\\item 1498\n",
       "\\item 1497\n",
       "\\item 1496\n",
       "\\item 1495\n",
       "\\item 1494\n",
       "\\item 1493\n",
       "\\item 1492\n",
       "\\item 1491\n",
       "\\item 1490\n",
       "\\item 1489\n",
       "\\item 1488\n",
       "\\item 1487\n",
       "\\item 1486\n",
       "\\item 1485\n",
       "\\item 1484\n",
       "\\item 1483\n",
       "\\item 1482\n",
       "\\item 1481\n",
       "\\item 1480\n",
       "\\item 1479\n",
       "\\item 1478\n",
       "\\item 1477\n",
       "\\item 1476\n",
       "\\item 1475\n",
       "\\item 1474\n",
       "\\item 1473\n",
       "\\item 1472\n",
       "\\item 1471\n",
       "\\item 1470\n",
       "\\item 1469\n",
       "\\item 1468\n",
       "\\item 1467\n",
       "\\item 1466\n",
       "\\item 1465\n",
       "\\item 1464\n",
       "\\item 1463\n",
       "\\item 1462\n",
       "\\item 1461\n",
       "\\item 1460\n",
       "\\item 1459\n",
       "\\item 1458\n",
       "\\item 1457\n",
       "\\item 1456\n",
       "\\item 1455\n",
       "\\item 1454\n",
       "\\item 1453\n",
       "\\item 1452\n",
       "\\item 1451\n",
       "\\item 1450\n",
       "\\item 1449\n",
       "\\item 1448\n",
       "\\item 1447\n",
       "\\item 1446\n",
       "\\item 1445\n",
       "\\item 1444\n",
       "\\item 1443\n",
       "\\item 1442\n",
       "\\item 1441\n",
       "\\item 1440\n",
       "\\item 1439\n",
       "\\item 1438\n",
       "\\item 1437\n",
       "\\item 1436\n",
       "\\item 1435\n",
       "\\item 1434\n",
       "\\item 1433\n",
       "\\item 1432\n",
       "\\item 1431\n",
       "\\item 1430\n",
       "\\item 1429\n",
       "\\item 1428\n",
       "\\item 1427\n",
       "\\item 1426\n",
       "\\item 1425\n",
       "\\item 1424\n",
       "\\item 1423\n",
       "\\item 1422\n",
       "\\item 1421\n",
       "\\item 1420\n",
       "\\item 1419\n",
       "\\item 1418\n",
       "\\item 1417\n",
       "\\item 1416\n",
       "\\item 1415\n",
       "\\item 1414\n",
       "\\item 1413\n",
       "\\item 1412\n",
       "\\item 1411\n",
       "\\item 1410\n",
       "\\item 1409\n",
       "\\item 1408\n",
       "\\item 1407\n",
       "\\item 1406\n",
       "\\item 1405\n",
       "\\item 1404\n",
       "\\item 1403\n",
       "\\item 1402\n",
       "\\item 1401\n",
       "\\item 1400\n",
       "\\item 1399\n",
       "\\item 1398\n",
       "\\item 1397\n",
       "\\item 1396\n",
       "\\item 1395\n",
       "\\item 1394\n",
       "\\item 1393\n",
       "\\item 1392\n",
       "\\item 1391\n",
       "\\item 1390\n",
       "\\item 1389\n",
       "\\item 1388\n",
       "\\item 1387\n",
       "\\item 1386\n",
       "\\item 1385\n",
       "\\item 1384\n",
       "\\item 1383\n",
       "\\item 1382\n",
       "\\item 1381\n",
       "\\item 1380\n",
       "\\item 1379\n",
       "\\item 1378\n",
       "\\item 1377\n",
       "\\item 1376\n",
       "\\item 1375\n",
       "\\item 1374\n",
       "\\item 1373\n",
       "\\item 1372\n",
       "\\item 1371\n",
       "\\item 1370\n",
       "\\item 1369\n",
       "\\item 1368\n",
       "\\item 1367\n",
       "\\item 1366\n",
       "\\item 1365\n",
       "\\item 1364\n",
       "\\item 1363\n",
       "\\item 1362\n",
       "\\item 1361\n",
       "\\item 1360\n",
       "\\item 1359\n",
       "\\item 1358\n",
       "\\item 1357\n",
       "\\item ⋯\n",
       "\\item 200\n",
       "\\item 199\n",
       "\\item 198\n",
       "\\item 197\n",
       "\\item 196\n",
       "\\item 195\n",
       "\\item 194\n",
       "\\item 193\n",
       "\\item 192\n",
       "\\item 191\n",
       "\\item 190\n",
       "\\item 189\n",
       "\\item 188\n",
       "\\item 187\n",
       "\\item 186\n",
       "\\item 185\n",
       "\\item 184\n",
       "\\item 183\n",
       "\\item 182\n",
       "\\item 181\n",
       "\\item 180\n",
       "\\item 179\n",
       "\\item 178\n",
       "\\item 177\n",
       "\\item 176\n",
       "\\item 175\n",
       "\\item 174\n",
       "\\item 173\n",
       "\\item 172\n",
       "\\item 171\n",
       "\\item 170\n",
       "\\item 169\n",
       "\\item 168\n",
       "\\item 167\n",
       "\\item 166\n",
       "\\item 165\n",
       "\\item 164\n",
       "\\item 163\n",
       "\\item 162\n",
       "\\item 161\n",
       "\\item 160\n",
       "\\item 159\n",
       "\\item 158\n",
       "\\item 157\n",
       "\\item 156\n",
       "\\item 155\n",
       "\\item 154\n",
       "\\item 153\n",
       "\\item 152\n",
       "\\item 151\n",
       "\\item 150\n",
       "\\item 149\n",
       "\\item 148\n",
       "\\item 147\n",
       "\\item 146\n",
       "\\item 145\n",
       "\\item 144\n",
       "\\item 143\n",
       "\\item 142\n",
       "\\item 141\n",
       "\\item 140\n",
       "\\item 139\n",
       "\\item 138\n",
       "\\item 137\n",
       "\\item 136\n",
       "\\item 135\n",
       "\\item 134\n",
       "\\item 133\n",
       "\\item 132\n",
       "\\item 131\n",
       "\\item 130\n",
       "\\item 129\n",
       "\\item 128\n",
       "\\item 127\n",
       "\\item 126\n",
       "\\item 125\n",
       "\\item 124\n",
       "\\item 123\n",
       "\\item 122\n",
       "\\item 121\n",
       "\\item 120\n",
       "\\item 119\n",
       "\\item 118\n",
       "\\item 117\n",
       "\\item 116\n",
       "\\item 115\n",
       "\\item 114\n",
       "\\item 113\n",
       "\\item 112\n",
       "\\item 111\n",
       "\\item 110\n",
       "\\item 109\n",
       "\\item 108\n",
       "\\item 107\n",
       "\\item 106\n",
       "\\item 105\n",
       "\\item 104\n",
       "\\item 103\n",
       "\\item 102\n",
       "\\item 101\n",
       "\\item 100\n",
       "\\item 99\n",
       "\\item 98\n",
       "\\item 97\n",
       "\\item 96\n",
       "\\item 95\n",
       "\\item 94\n",
       "\\item 93\n",
       "\\item 92\n",
       "\\item 91\n",
       "\\item 90\n",
       "\\item 89\n",
       "\\item 88\n",
       "\\item 87\n",
       "\\item 86\n",
       "\\item 85\n",
       "\\item 84\n",
       "\\item 83\n",
       "\\item 82\n",
       "\\item 81\n",
       "\\item 80\n",
       "\\item 79\n",
       "\\item 78\n",
       "\\item 77\n",
       "\\item 76\n",
       "\\item 75\n",
       "\\item 74\n",
       "\\item 73\n",
       "\\item 72\n",
       "\\item 71\n",
       "\\item 70\n",
       "\\item 69\n",
       "\\item 68\n",
       "\\item 67\n",
       "\\item 66\n",
       "\\item 65\n",
       "\\item 64\n",
       "\\item 63\n",
       "\\item 62\n",
       "\\item 61\n",
       "\\item 60\n",
       "\\item 59\n",
       "\\item 58\n",
       "\\item 57\n",
       "\\item 56\n",
       "\\item 55\n",
       "\\item 54\n",
       "\\item 53\n",
       "\\item 52\n",
       "\\item 51\n",
       "\\item 50\n",
       "\\item 49\n",
       "\\item 48\n",
       "\\item 47\n",
       "\\item 46\n",
       "\\item 45\n",
       "\\item 44\n",
       "\\item 43\n",
       "\\item 42\n",
       "\\item 41\n",
       "\\item 40\n",
       "\\item 39\n",
       "\\item 38\n",
       "\\item 37\n",
       "\\item 36\n",
       "\\item 35\n",
       "\\item 34\n",
       "\\item 33\n",
       "\\item 32\n",
       "\\item 31\n",
       "\\item 30\n",
       "\\item 29\n",
       "\\item 28\n",
       "\\item 27\n",
       "\\item 26\n",
       "\\item 25\n",
       "\\item 24\n",
       "\\item 23\n",
       "\\item 22\n",
       "\\item 21\n",
       "\\item 20\n",
       "\\item 19\n",
       "\\item 18\n",
       "\\item 17\n",
       "\\item 16\n",
       "\\item 15\n",
       "\\item 14\n",
       "\\item 13\n",
       "\\item 12\n",
       "\\item 11\n",
       "\\item 10\n",
       "\\item 9\n",
       "\\item 8\n",
       "\\item 7\n",
       "\\item 6\n",
       "\\item 5\n",
       "\\item 4\n",
       "\\item 3\n",
       "\\item 2\n",
       "\\item 1\n",
       "\\end{enumerate*}\n"
      ],
      "text/markdown": [
       "1. 1556\n",
       "2. 1555\n",
       "3. 1554\n",
       "4. 1553\n",
       "5. 1552\n",
       "6. 1551\n",
       "7. 1550\n",
       "8. 1549\n",
       "9. 1548\n",
       "10. 1547\n",
       "11. 1546\n",
       "12. 1545\n",
       "13. 1544\n",
       "14. 1543\n",
       "15. 1542\n",
       "16. 1541\n",
       "17. 1540\n",
       "18. 1539\n",
       "19. 1538\n",
       "20. 1537\n",
       "21. 1536\n",
       "22. 1535\n",
       "23. 1534\n",
       "24. 1533\n",
       "25. 1532\n",
       "26. 1531\n",
       "27. 1530\n",
       "28. 1529\n",
       "29. 1528\n",
       "30. 1527\n",
       "31. 1526\n",
       "32. 1525\n",
       "33. 1524\n",
       "34. 1523\n",
       "35. 1522\n",
       "36. 1521\n",
       "37. 1520\n",
       "38. 1519\n",
       "39. 1518\n",
       "40. 1517\n",
       "41. 1516\n",
       "42. 1515\n",
       "43. 1514\n",
       "44. 1513\n",
       "45. 1512\n",
       "46. 1511\n",
       "47. 1510\n",
       "48. 1509\n",
       "49. 1508\n",
       "50. 1507\n",
       "51. 1506\n",
       "52. 1505\n",
       "53. 1504\n",
       "54. 1503\n",
       "55. 1502\n",
       "56. 1501\n",
       "57. 1500\n",
       "58. 1499\n",
       "59. 1498\n",
       "60. 1497\n",
       "61. 1496\n",
       "62. 1495\n",
       "63. 1494\n",
       "64. 1493\n",
       "65. 1492\n",
       "66. 1491\n",
       "67. 1490\n",
       "68. 1489\n",
       "69. 1488\n",
       "70. 1487\n",
       "71. 1486\n",
       "72. 1485\n",
       "73. 1484\n",
       "74. 1483\n",
       "75. 1482\n",
       "76. 1481\n",
       "77. 1480\n",
       "78. 1479\n",
       "79. 1478\n",
       "80. 1477\n",
       "81. 1476\n",
       "82. 1475\n",
       "83. 1474\n",
       "84. 1473\n",
       "85. 1472\n",
       "86. 1471\n",
       "87. 1470\n",
       "88. 1469\n",
       "89. 1468\n",
       "90. 1467\n",
       "91. 1466\n",
       "92. 1465\n",
       "93. 1464\n",
       "94. 1463\n",
       "95. 1462\n",
       "96. 1461\n",
       "97. 1460\n",
       "98. 1459\n",
       "99. 1458\n",
       "100. 1457\n",
       "101. 1456\n",
       "102. 1455\n",
       "103. 1454\n",
       "104. 1453\n",
       "105. 1452\n",
       "106. 1451\n",
       "107. 1450\n",
       "108. 1449\n",
       "109. 1448\n",
       "110. 1447\n",
       "111. 1446\n",
       "112. 1445\n",
       "113. 1444\n",
       "114. 1443\n",
       "115. 1442\n",
       "116. 1441\n",
       "117. 1440\n",
       "118. 1439\n",
       "119. 1438\n",
       "120. 1437\n",
       "121. 1436\n",
       "122. 1435\n",
       "123. 1434\n",
       "124. 1433\n",
       "125. 1432\n",
       "126. 1431\n",
       "127. 1430\n",
       "128. 1429\n",
       "129. 1428\n",
       "130. 1427\n",
       "131. 1426\n",
       "132. 1425\n",
       "133. 1424\n",
       "134. 1423\n",
       "135. 1422\n",
       "136. 1421\n",
       "137. 1420\n",
       "138. 1419\n",
       "139. 1418\n",
       "140. 1417\n",
       "141. 1416\n",
       "142. 1415\n",
       "143. 1414\n",
       "144. 1413\n",
       "145. 1412\n",
       "146. 1411\n",
       "147. 1410\n",
       "148. 1409\n",
       "149. 1408\n",
       "150. 1407\n",
       "151. 1406\n",
       "152. 1405\n",
       "153. 1404\n",
       "154. 1403\n",
       "155. 1402\n",
       "156. 1401\n",
       "157. 1400\n",
       "158. 1399\n",
       "159. 1398\n",
       "160. 1397\n",
       "161. 1396\n",
       "162. 1395\n",
       "163. 1394\n",
       "164. 1393\n",
       "165. 1392\n",
       "166. 1391\n",
       "167. 1390\n",
       "168. 1389\n",
       "169. 1388\n",
       "170. 1387\n",
       "171. 1386\n",
       "172. 1385\n",
       "173. 1384\n",
       "174. 1383\n",
       "175. 1382\n",
       "176. 1381\n",
       "177. 1380\n",
       "178. 1379\n",
       "179. 1378\n",
       "180. 1377\n",
       "181. 1376\n",
       "182. 1375\n",
       "183. 1374\n",
       "184. 1373\n",
       "185. 1372\n",
       "186. 1371\n",
       "187. 1370\n",
       "188. 1369\n",
       "189. 1368\n",
       "190. 1367\n",
       "191. 1366\n",
       "192. 1365\n",
       "193. 1364\n",
       "194. 1363\n",
       "195. 1362\n",
       "196. 1361\n",
       "197. 1360\n",
       "198. 1359\n",
       "199. 1358\n",
       "200. 1357\n",
       "201. ⋯\n",
       "202. 200\n",
       "203. 199\n",
       "204. 198\n",
       "205. 197\n",
       "206. 196\n",
       "207. 195\n",
       "208. 194\n",
       "209. 193\n",
       "210. 192\n",
       "211. 191\n",
       "212. 190\n",
       "213. 189\n",
       "214. 188\n",
       "215. 187\n",
       "216. 186\n",
       "217. 185\n",
       "218. 184\n",
       "219. 183\n",
       "220. 182\n",
       "221. 181\n",
       "222. 180\n",
       "223. 179\n",
       "224. 178\n",
       "225. 177\n",
       "226. 176\n",
       "227. 175\n",
       "228. 174\n",
       "229. 173\n",
       "230. 172\n",
       "231. 171\n",
       "232. 170\n",
       "233. 169\n",
       "234. 168\n",
       "235. 167\n",
       "236. 166\n",
       "237. 165\n",
       "238. 164\n",
       "239. 163\n",
       "240. 162\n",
       "241. 161\n",
       "242. 160\n",
       "243. 159\n",
       "244. 158\n",
       "245. 157\n",
       "246. 156\n",
       "247. 155\n",
       "248. 154\n",
       "249. 153\n",
       "250. 152\n",
       "251. 151\n",
       "252. 150\n",
       "253. 149\n",
       "254. 148\n",
       "255. 147\n",
       "256. 146\n",
       "257. 145\n",
       "258. 144\n",
       "259. 143\n",
       "260. 142\n",
       "261. 141\n",
       "262. 140\n",
       "263. 139\n",
       "264. 138\n",
       "265. 137\n",
       "266. 136\n",
       "267. 135\n",
       "268. 134\n",
       "269. 133\n",
       "270. 132\n",
       "271. 131\n",
       "272. 130\n",
       "273. 129\n",
       "274. 128\n",
       "275. 127\n",
       "276. 126\n",
       "277. 125\n",
       "278. 124\n",
       "279. 123\n",
       "280. 122\n",
       "281. 121\n",
       "282. 120\n",
       "283. 119\n",
       "284. 118\n",
       "285. 117\n",
       "286. 116\n",
       "287. 115\n",
       "288. 114\n",
       "289. 113\n",
       "290. 112\n",
       "291. 111\n",
       "292. 110\n",
       "293. 109\n",
       "294. 108\n",
       "295. 107\n",
       "296. 106\n",
       "297. 105\n",
       "298. 104\n",
       "299. 103\n",
       "300. 102\n",
       "301. 101\n",
       "302. 100\n",
       "303. 99\n",
       "304. 98\n",
       "305. 97\n",
       "306. 96\n",
       "307. 95\n",
       "308. 94\n",
       "309. 93\n",
       "310. 92\n",
       "311. 91\n",
       "312. 90\n",
       "313. 89\n",
       "314. 88\n",
       "315. 87\n",
       "316. 86\n",
       "317. 85\n",
       "318. 84\n",
       "319. 83\n",
       "320. 82\n",
       "321. 81\n",
       "322. 80\n",
       "323. 79\n",
       "324. 78\n",
       "325. 77\n",
       "326. 76\n",
       "327. 75\n",
       "328. 74\n",
       "329. 73\n",
       "330. 72\n",
       "331. 71\n",
       "332. 70\n",
       "333. 69\n",
       "334. 68\n",
       "335. 67\n",
       "336. 66\n",
       "337. 65\n",
       "338. 64\n",
       "339. 63\n",
       "340. 62\n",
       "341. 61\n",
       "342. 60\n",
       "343. 59\n",
       "344. 58\n",
       "345. 57\n",
       "346. 56\n",
       "347. 55\n",
       "348. 54\n",
       "349. 53\n",
       "350. 52\n",
       "351. 51\n",
       "352. 50\n",
       "353. 49\n",
       "354. 48\n",
       "355. 47\n",
       "356. 46\n",
       "357. 45\n",
       "358. 44\n",
       "359. 43\n",
       "360. 42\n",
       "361. 41\n",
       "362. 40\n",
       "363. 39\n",
       "364. 38\n",
       "365. 37\n",
       "366. 36\n",
       "367. 35\n",
       "368. 34\n",
       "369. 33\n",
       "370. 32\n",
       "371. 31\n",
       "372. 30\n",
       "373. 29\n",
       "374. 28\n",
       "375. 27\n",
       "376. 26\n",
       "377. 25\n",
       "378. 24\n",
       "379. 23\n",
       "380. 22\n",
       "381. 21\n",
       "382. 20\n",
       "383. 19\n",
       "384. 18\n",
       "385. 17\n",
       "386. 16\n",
       "387. 15\n",
       "388. 14\n",
       "389. 13\n",
       "390. 12\n",
       "391. 11\n",
       "392. 10\n",
       "393. 9\n",
       "394. 8\n",
       "395. 7\n",
       "396. 6\n",
       "397. 5\n",
       "398. 4\n",
       "399. 3\n",
       "400. 2\n",
       "401. 1\n",
       "\n",
       "\n"
      ],
      "text/plain": [
       "   [1] 1556 1555 1554 1553 1552 1551 1550 1549 1548 1547 1546 1545 1544 1543\n",
       "  [15] 1542 1541 1540 1539 1538 1537 1536 1535 1534 1533 1532 1531 1530 1529\n",
       "  [29] 1528 1527 1526 1525 1524 1523 1522 1521 1520 1519 1518 1517 1516 1515\n",
       "  [43] 1514 1513 1512 1511 1510 1509 1508 1507 1506 1505 1504 1503 1502 1501\n",
       "  [57] 1500 1499 1498 1497 1496 1495 1494 1493 1492 1491 1490 1489 1488 1487\n",
       "  [71] 1486 1485 1484 1483 1482 1481 1480 1479 1478 1477 1476 1475 1474 1473\n",
       "  [85] 1472 1471 1470 1469 1468 1467 1466 1465 1464 1463 1462 1461 1460 1459\n",
       "  [99] 1458 1457 1456 1455 1454 1453 1452 1451 1450 1449 1448 1447 1446 1445\n",
       " [113] 1444 1443 1442 1441 1440 1439 1438 1437 1436 1435 1434 1433 1432 1431\n",
       " [127] 1430 1429 1428 1427 1426 1425 1424 1423 1422 1421 1420 1419 1418 1417\n",
       " [141] 1416 1415 1414 1413 1412 1411 1410 1409 1408 1407 1406 1405 1404 1403\n",
       " [155] 1402 1401 1400 1399 1398 1397 1396 1395 1394 1393 1392 1391 1390 1389\n",
       " [169] 1388 1387 1386 1385 1384 1383 1382 1381 1380 1379 1378 1377 1376 1375\n",
       " [183] 1374 1373 1372 1371 1370 1369 1368 1367 1366 1365 1364 1363 1362 1361\n",
       " [197] 1360 1359 1358 1357 1356 1355 1354 1353 1352 1351 1350 1349 1348 1347\n",
       " [211] 1346 1345 1344 1343 1342 1341 1340 1339 1338 1337 1336 1335 1334 1333\n",
       " [225] 1332 1331 1330 1329 1328 1327 1326 1325 1324 1323 1322 1321 1320 1319\n",
       " [239] 1318 1317 1316 1315 1314 1313 1312 1311 1310 1309 1308 1307 1306 1305\n",
       " [253] 1304 1303 1302 1301 1300 1299 1298 1297 1296 1295 1294 1293 1292 1291\n",
       " [267] 1290 1289 1288 1287 1286 1285 1284 1283 1282 1281 1280 1279 1278 1277\n",
       " [281] 1276 1275 1274 1273 1272 1271 1270 1269 1268 1267 1266 1265 1264 1263\n",
       " [295] 1262 1261 1260 1259 1258 1257 1256 1255 1254 1253 1252 1251 1250 1249\n",
       " [309] 1248 1247 1246 1245 1244 1243 1242 1241 1240 1239 1238 1237 1236 1235\n",
       " [323] 1234 1233 1232 1231 1230 1229 1228 1227 1226 1225 1224 1223 1222 1221\n",
       " [337] 1220 1219 1218 1217 1216 1215 1214 1213 1212 1211 1210 1209 1208 1207\n",
       " [351] 1206 1205 1204 1203 1202 1201 1200 1199 1198 1197 1196 1195 1194 1193\n",
       " [365] 1192 1191 1190 1189 1188 1187 1186 1185 1184 1183 1182 1181 1180 1179\n",
       " [379] 1178 1177 1176 1175 1174 1173 1172 1171 1170 1169 1168 1167 1166 1165\n",
       " [393] 1164 1163 1162 1161 1160 1159 1158 1157 1156 1155 1154 1153 1152 1151\n",
       " [407] 1150 1149 1148 1147 1146 1145 1144 1143 1142 1141 1140 1139 1138 1137\n",
       " [421] 1136 1135 1134 1133 1132 1131 1130 1129 1128 1127 1126 1125 1124 1123\n",
       " [435] 1122 1121 1120 1119 1118 1117 1116 1115 1114 1113 1112 1111 1110 1109\n",
       " [449] 1108 1107 1106 1105 1104 1103 1102 1101 1100 1099 1098 1097 1096 1095\n",
       " [463] 1094 1093 1092 1091 1090 1089 1088 1087 1086 1085 1084 1083 1082 1081\n",
       " [477] 1080 1079 1078 1077 1076 1075 1074 1073 1072 1071 1070 1069 1068 1067\n",
       " [491] 1066 1065 1064 1063 1062 1061 1060 1059 1058 1057 1056 1055 1054 1053\n",
       " [505] 1052 1051 1050 1049 1048 1047 1046 1045 1044 1043 1042 1041 1040 1039\n",
       " [519] 1038 1037 1036 1035 1034 1033 1032 1031 1030 1029 1028 1027 1026 1025\n",
       " [533] 1024 1023 1022 1021 1020 1019 1018 1017 1016 1015 1014 1013 1012 1011\n",
       " [547] 1010 1009 1008 1007 1006 1005 1004 1003 1002 1001 1000  999  998  997\n",
       " [561]  996  995  994  993  992  991  990  989  988  987  986  985  984  983\n",
       " [575]  982  981  980  979  978  977  976  975  974  973  972  971  970  969\n",
       " [589]  968  967  966  965  964  963  962  961  960  959  958  957  956  955\n",
       " [603]  954  953  952  951  950  949  948  947  946  945  944  943  942  941\n",
       " [617]  940  939  938  937  936  935  934  933  932  931  930  929  928  927\n",
       " [631]  926  925  924  923  922  921  920  919  918  917  916  915  914  913\n",
       " [645]  912  911  910  909  908  907  906  905  904  903  902  901  900  899\n",
       " [659]  898  897  896  895  894  893  892  891  890  889  888  887  886  885\n",
       " [673]  884  883  882  881  880  879  878  877  876  875  874  873  872  871\n",
       " [687]  870  869  868  867  866  865  864  863  862  861  860  859  858  857\n",
       " [701]  856  855  854  853  852  851  850  849  848  847  846  845  844  843\n",
       " [715]  842  841  840  839  838  837  836  835  834  833  832  831  830  829\n",
       " [729]  828  827  826  825  824  823  822  821  820  819  818  817  816  815\n",
       " [743]  814  813  812  811  810  809  808  807  806  805  804  803  802  801\n",
       " [757]  800  799  798  797  796  795  794  793  792  791  790  789  788  787\n",
       " [771]  786  785  784  783  782  781  780  779  778  777  776  775  774  773\n",
       " [785]  772  771  770  769  768  767  766  765  764  763  762  761  760  759\n",
       " [799]  758  757  756  755  754  753  752  751  750  749  748  747  746  745\n",
       " [813]  744  743  742  741  740  739  738  737  736  735  734  733  732  731\n",
       " [827]  730  729  728  727  726  725  724  723  722  721  720  719  718  717\n",
       " [841]  716  715  714  713  712  711  710  709  708  707  706  705  704  703\n",
       " [855]  702  701  700  699  698  697  696  695  694  693  692  691  690  689\n",
       " [869]  688  687  686  685  684  683  682  681  680  679  678  677  676  675\n",
       " [883]  674  673  672  671  670  669  668  667  666  665  664  663  662  661\n",
       " [897]  660  659  658  657  656  655  654  653  652  651  650  649  648  647\n",
       " [911]  646  645  644  643  642  641  640  639  638  637  636  635  634  633\n",
       " [925]  632  631  630  629  628  627  626  625  624  623  622  621  620  619\n",
       " [939]  618  617  616  615  614  613  612  611  610  609  608  607  606  605\n",
       " [953]  604  603  602  601  600  599  598  597  596  595  594  593  592  591\n",
       " [967]  590  589  588  587  586  585  584  583  582  581  580  579  578  577\n",
       " [981]  576  575  574  573  572  571  570  569  568  567  566  565  564  563\n",
       " [995]  562  561  560  559  558  557  556  555  554  553  552  551  550  549\n",
       "[1009]  548  547  546  545  544  543  542  541  540  539  538  537  536  535\n",
       "[1023]  534  533  532  531  530  529  528  527  526  525  524  523  522  521\n",
       "[1037]  520  519  518  517  516  515  514  513  512  511  510  509  508  507\n",
       "[1051]  506  505  504  503  502  501  500  499  498  497  496  495  494  493\n",
       "[1065]  492  491  490  489  488  487  486  485  484  483  482  481  480  479\n",
       "[1079]  478  477  476  475  474  473  472  471  470  469  468  467  466  465\n",
       "[1093]  464  463  462  461  460  459  458  457  456  455  454  453  452  451\n",
       "[1107]  450  449  448  447  446  445  444  443  442  441  440  439  438  437\n",
       "[1121]  436  435  434  433  432  431  430  429  428  427  426  425  424  423\n",
       "[1135]  422  421  420  419  418  417  416  415  414  413  412  411  410  409\n",
       "[1149]  408  407  406  405  404  403  402  401  400  399  398  397  396  395\n",
       "[1163]  394  393  392  391  390  389  388  387  386  385  384  383  382  381\n",
       "[1177]  380  379  378  377  376  375  374  373  372  371  370  369  368  367\n",
       "[1191]  366  365  364  363  362  361  360  359  358  357  356  355  354  353\n",
       "[1205]  352  351  350  349  348  347  346  345  344  343  342  341  340  339\n",
       "[1219]  338  337  336  335  334  333  332  331  330  329  328  327  326  325\n",
       "[1233]  324  323  322  321  320  319  318  317  316  315  314  313  312  311\n",
       "[1247]  310  309  308  307  306  305  304  303  302  301  300  299  298  297\n",
       "[1261]  296  295  294  293  292  291  290  289  288  287  286  285  284  283\n",
       "[1275]  282  281  280  279  278  277  276  275  274  273  272  271  270  269\n",
       "[1289]  268  267  266  265  264  263  262  261  260  259  258  257  256  255\n",
       "[1303]  254  253  252  251  250  249  248  247  246  245  244  243  242  241\n",
       "[1317]  240  239  238  237  236  235  234  233  232  231  230  229  228  227\n",
       "[1331]  226  225  224  223  222  221  220  219  218  217  216  215  214  213\n",
       "[1345]  212  211  210  209  208  207  206  205  204  203  202  201  200  199\n",
       "[1359]  198  197  196  195  194  193  192  191  190  189  188  187  186  185\n",
       "[1373]  184  183  182  181  180  179  178  177  176  175  174  173  172  171\n",
       "[1387]  170  169  168  167  166  165  164  163  162  161  160  159  158  157\n",
       "[1401]  156  155  154  153  152  151  150  149  148  147  146  145  144  143\n",
       "[1415]  142  141  140  139  138  137  136  135  134  133  132  131  130  129\n",
       "[1429]  128  127  126  125  124  123  122  121  120  119  118  117  116  115\n",
       "[1443]  114  113  112  111  110  109  108  107  106  105  104  103  102  101\n",
       "[1457]  100   99   98   97   96   95   94   93   92   91   90   89   88   87\n",
       "[1471]   86   85   84   83   82   81   80   79   78   77   76   75   74   73\n",
       "[1485]   72   71   70   69   68   67   66   65   64   63   62   61   60   59\n",
       "[1499]   58   57   56   55   54   53   52   51   50   49   48   47   46   45\n",
       "[1513]   44   43   42   41   40   39   38   37   36   35   34   33   32   31\n",
       "[1527]   30   29   28   27   26   25   24   23   22   21   20   19   18   17\n",
       "[1541]   16   15   14   13   12   11   10    9    8    7    6    5    4    3\n",
       "[1555]    2    1"
      ]
     },
     "metadata": {},
     "output_type": "display_data"
    }
   ],
   "source": [
    "order(as.numeric(rownames(df)), decreasing = TRUE)"
   ]
  },
  {
   "cell_type": "code",
   "execution_count": null,
   "id": "e163328c",
   "metadata": {},
   "outputs": [],
   "source": []
  },
  {
   "cell_type": "code",
   "execution_count": null,
   "id": "6e9183ec",
   "metadata": {},
   "outputs": [],
   "source": []
  },
  {
   "cell_type": "code",
   "execution_count": 33,
   "id": "f0d2eb9b",
   "metadata": {},
   "outputs": [
    {
     "data": {
      "text/html": [
       "<table class=\"dataframe\">\n",
       "<caption>A data.frame: 1556 × 7</caption>\n",
       "<thead>\n",
       "\t<tr><th></th><th scope=col>Date</th><th scope=col>Open</th><th scope=col>High</th><th scope=col>Low</th><th scope=col>Close</th><th scope=col>Volume</th><th scope=col>Market.Cap</th></tr>\n",
       "\t<tr><th></th><th scope=col>&lt;date&gt;</th><th scope=col>&lt;dbl&gt;</th><th scope=col>&lt;dbl&gt;</th><th scope=col>&lt;dbl&gt;</th><th scope=col>&lt;dbl&gt;</th><th scope=col>&lt;chr&gt;</th><th scope=col>&lt;chr&gt;</th></tr>\n",
       "</thead>\n",
       "<tbody>\n",
       "\t<tr><th scope=row>1556</th><td>2013-04-28</td><td>135.30</td><td>135.98</td><td>132.10</td><td>134.21</td><td>-</td><td>1,500,520,000</td></tr>\n",
       "\t<tr><th scope=row>1555</th><td>2013-04-29</td><td>134.44</td><td>147.49</td><td>134.00</td><td>144.54</td><td>-</td><td>1,491,160,000</td></tr>\n",
       "\t<tr><th scope=row>1554</th><td>2013-04-30</td><td>144.00</td><td>146.93</td><td>134.05</td><td>139.00</td><td>-</td><td>1,597,780,000</td></tr>\n",
       "\t<tr><th scope=row>1553</th><td>2013-05-01</td><td>139.00</td><td>139.89</td><td>107.72</td><td>116.99</td><td>-</td><td>1,542,820,000</td></tr>\n",
       "\t<tr><th scope=row>1552</th><td>2013-05-02</td><td>116.38</td><td>125.60</td><td> 92.28</td><td>105.21</td><td>-</td><td>1,292,190,000</td></tr>\n",
       "\t<tr><th scope=row>1551</th><td>2013-05-03</td><td>106.25</td><td>108.13</td><td> 79.10</td><td> 97.75</td><td>-</td><td>1,180,070,000</td></tr>\n",
       "\t<tr><th scope=row>1550</th><td>2013-05-04</td><td> 98.10</td><td>115.00</td><td> 92.50</td><td>112.50</td><td>-</td><td>1,089,890,000</td></tr>\n",
       "\t<tr><th scope=row>1549</th><td>2013-05-05</td><td>112.90</td><td>118.80</td><td>107.14</td><td>115.91</td><td>-</td><td>1,254,760,000</td></tr>\n",
       "\t<tr><th scope=row>1548</th><td>2013-05-06</td><td>115.98</td><td>124.66</td><td>106.64</td><td>112.30</td><td>-</td><td>1,289,470,000</td></tr>\n",
       "\t<tr><th scope=row>1547</th><td>2013-05-07</td><td>112.25</td><td>113.44</td><td> 97.70</td><td>111.50</td><td>-</td><td>1,248,470,000</td></tr>\n",
       "\t<tr><th scope=row>1546</th><td>2013-05-08</td><td>109.60</td><td>115.78</td><td>109.60</td><td>113.57</td><td>-</td><td>1,219,450,000</td></tr>\n",
       "\t<tr><th scope=row>1545</th><td>2013-05-09</td><td>113.20</td><td>113.46</td><td>109.26</td><td>112.67</td><td>-</td><td>1,259,980,000</td></tr>\n",
       "\t<tr><th scope=row>1544</th><td>2013-05-10</td><td>112.80</td><td>122.00</td><td>111.55</td><td>117.20</td><td>-</td><td>1,255,970,000</td></tr>\n",
       "\t<tr><th scope=row>1543</th><td>2013-05-11</td><td>117.70</td><td>118.68</td><td>113.01</td><td>115.24</td><td>-</td><td>1,311,050,000</td></tr>\n",
       "\t<tr><th scope=row>1542</th><td>2013-05-12</td><td>115.64</td><td>117.45</td><td>113.44</td><td>115.00</td><td>-</td><td>1,288,630,000</td></tr>\n",
       "\t<tr><th scope=row>1541</th><td>2013-05-13</td><td>114.82</td><td>118.70</td><td>114.50</td><td>117.98</td><td>-</td><td>1,279,980,000</td></tr>\n",
       "\t<tr><th scope=row>1540</th><td>2013-05-14</td><td>117.98</td><td>119.80</td><td>110.25</td><td>111.50</td><td>-</td><td>1,315,720,000</td></tr>\n",
       "\t<tr><th scope=row>1539</th><td>2013-05-15</td><td>111.40</td><td>115.81</td><td>103.50</td><td>114.22</td><td>-</td><td>1,242,760,000</td></tr>\n",
       "\t<tr><th scope=row>1538</th><td>2013-05-16</td><td>114.22</td><td>118.76</td><td>112.20</td><td>118.76</td><td>-</td><td>1,274,620,000</td></tr>\n",
       "\t<tr><th scope=row>1537</th><td>2013-05-17</td><td>118.21</td><td>125.30</td><td>116.57</td><td>123.02</td><td>-</td><td>1,319,590,000</td></tr>\n",
       "\t<tr><th scope=row>1536</th><td>2013-05-18</td><td>123.50</td><td>125.25</td><td>122.30</td><td>123.50</td><td>-</td><td>1,379,140,000</td></tr>\n",
       "\t<tr><th scope=row>1535</th><td>2013-05-19</td><td>123.21</td><td>124.50</td><td>119.57</td><td>121.99</td><td>-</td><td>1,376,370,000</td></tr>\n",
       "\t<tr><th scope=row>1534</th><td>2013-05-20</td><td>122.50</td><td>123.62</td><td>120.12</td><td>122.00</td><td>-</td><td>1,368,910,000</td></tr>\n",
       "\t<tr><th scope=row>1533</th><td>2013-05-21</td><td>122.02</td><td>123.00</td><td>121.21</td><td>122.88</td><td>-</td><td>1,363,940,000</td></tr>\n",
       "\t<tr><th scope=row>1532</th><td>2013-05-22</td><td>122.89</td><td>124.00</td><td>122.00</td><td>123.89</td><td>-</td><td>1,374,130,000</td></tr>\n",
       "\t<tr><th scope=row>1531</th><td>2013-05-23</td><td>123.80</td><td>126.93</td><td>123.10</td><td>126.70</td><td>-</td><td>1,384,780,000</td></tr>\n",
       "\t<tr><th scope=row>1530</th><td>2013-05-24</td><td>126.30</td><td>133.85</td><td>125.72</td><td>133.20</td><td>-</td><td>1,413,300,000</td></tr>\n",
       "\t<tr><th scope=row>1529</th><td>2013-05-25</td><td>133.10</td><td>133.22</td><td>128.90</td><td>131.98</td><td>-</td><td>1,489,950,000</td></tr>\n",
       "\t<tr><th scope=row>1528</th><td>2013-05-26</td><td>131.99</td><td>136.00</td><td>130.62</td><td>133.48</td><td>-</td><td>1,478,030,000</td></tr>\n",
       "\t<tr><th scope=row>1527</th><td>2013-05-27</td><td>133.50</td><td>135.47</td><td>124.70</td><td>129.75</td><td>-</td><td>1,495,520,000</td></tr>\n",
       "\t<tr><th scope=row>⋮</th><td>⋮</td><td>⋮</td><td>⋮</td><td>⋮</td><td>⋮</td><td>⋮</td><td>⋮</td></tr>\n",
       "\t<tr><th scope=row>30</th><td>2017-07-02</td><td>2436.40</td><td>2514.28</td><td>2394.84</td><td>2506.47</td><td>803,747,000  </td><td>40,010,500,000</td></tr>\n",
       "\t<tr><th scope=row>29</th><td>2017-07-03</td><td>2498.56</td><td>2595.00</td><td>2480.47</td><td>2564.06</td><td>964,112,000  </td><td>41,037,200,000</td></tr>\n",
       "\t<tr><th scope=row>28</th><td>2017-07-04</td><td>2561.00</td><td>2631.59</td><td>2559.35</td><td>2601.64</td><td>985,516,000  </td><td>42,067,900,000</td></tr>\n",
       "\t<tr><th scope=row>27</th><td>2017-07-05</td><td>2602.87</td><td>2622.65</td><td>2538.55</td><td>2601.99</td><td>941,566,000  </td><td>42,760,800,000</td></tr>\n",
       "\t<tr><th scope=row>26</th><td>2017-07-06</td><td>2608.10</td><td>2616.72</td><td>2581.69</td><td>2608.56</td><td>761,957,000  </td><td>42,851,400,000</td></tr>\n",
       "\t<tr><th scope=row>25</th><td>2017-07-07</td><td>2608.59</td><td>2916.14</td><td>2498.87</td><td>2518.66</td><td>917,412,000  </td><td>42,864,200,000</td></tr>\n",
       "\t<tr><th scope=row>24</th><td>2017-07-08</td><td>2520.27</td><td>2571.34</td><td>2492.31</td><td>2571.34</td><td>733,330,000  </td><td>41,417,700,000</td></tr>\n",
       "\t<tr><th scope=row>23</th><td>2017-07-09</td><td>2572.61</td><td>2635.49</td><td>2517.59</td><td>2518.44</td><td>527,856,000  </td><td>42,283,200,000</td></tr>\n",
       "\t<tr><th scope=row>22</th><td>2017-07-10</td><td>2525.25</td><td>2537.16</td><td>2321.13</td><td>2372.56</td><td>1,111,200,000</td><td>41,509,000,000</td></tr>\n",
       "\t<tr><th scope=row>21</th><td>2017-07-11</td><td>2385.89</td><td>2413.47</td><td>2296.81</td><td>2337.79</td><td>1,329,760,000</td><td>39,224,200,000</td></tr>\n",
       "\t<tr><th scope=row>20</th><td>2017-07-12</td><td>2332.77</td><td>2423.71</td><td>2275.14</td><td>2398.84</td><td>1,117,410,000</td><td>38,355,900,000</td></tr>\n",
       "\t<tr><th scope=row>19</th><td>2017-07-13</td><td>2402.70</td><td>2425.22</td><td>2340.83</td><td>2357.90</td><td>835,770,000  </td><td>39,511,000,000</td></tr>\n",
       "\t<tr><th scope=row>18</th><td>2017-07-14</td><td>2360.59</td><td>2363.25</td><td>2183.22</td><td>2233.34</td><td>882,503,000  </td><td>38,823,100,000</td></tr>\n",
       "\t<tr><th scope=row>17</th><td>2017-07-15</td><td>2230.12</td><td>2231.14</td><td>1990.41</td><td>1998.86</td><td>993,608,000  </td><td>36,681,300,000</td></tr>\n",
       "\t<tr><th scope=row>16</th><td>2017-07-16</td><td>1991.98</td><td>2058.77</td><td>1843.03</td><td>1929.82</td><td>1,182,870,000</td><td>32,767,600,000</td></tr>\n",
       "\t<tr><th scope=row>15</th><td>2017-07-17</td><td>1932.62</td><td>2230.49</td><td>1932.62</td><td>2228.41</td><td>1,201,760,000</td><td>31,795,000,000</td></tr>\n",
       "\t<tr><th scope=row>14</th><td>2017-07-18</td><td>2233.52</td><td>2387.61</td><td>2164.77</td><td>2318.88</td><td>1,512,450,000</td><td>36,749,400,000</td></tr>\n",
       "\t<tr><th scope=row>13</th><td>2017-07-19</td><td>2323.08</td><td>2397.17</td><td>2260.23</td><td>2273.43</td><td>1,245,100,000</td><td>38,227,800,000</td></tr>\n",
       "\t<tr><th scope=row>12</th><td>2017-07-20</td><td>2269.89</td><td>2900.70</td><td>2269.89</td><td>2817.60</td><td>2,249,260,000</td><td>37,356,800,000</td></tr>\n",
       "\t<tr><th scope=row>11</th><td>2017-07-21</td><td>2838.41</td><td>2838.41</td><td>2621.85</td><td>2667.76</td><td>1,489,450,000</td><td>46,719,000,000</td></tr>\n",
       "\t<tr><th scope=row>10</th><td>2017-07-22</td><td>2668.63</td><td>2862.42</td><td>2657.71</td><td>2810.12</td><td>1,177,130,000</td><td>43,929,600,000</td></tr>\n",
       "\t<tr><th scope=row>9</th><td>2017-07-23</td><td>2808.10</td><td>2832.18</td><td>2653.94</td><td>2730.40</td><td>1,072,840,000</td><td>46,231,100,000</td></tr>\n",
       "\t<tr><th scope=row>8</th><td>2017-07-24</td><td>2732.70</td><td>2777.26</td><td>2699.19</td><td>2754.86</td><td>866,474,000  </td><td>44,995,600,000</td></tr>\n",
       "\t<tr><th scope=row>7</th><td>2017-07-25</td><td>2757.50</td><td>2768.08</td><td>2480.96</td><td>2576.48</td><td>1,460,090,000</td><td>45,410,100,000</td></tr>\n",
       "\t<tr><th scope=row>6</th><td>2017-07-26</td><td>2577.77</td><td>2610.76</td><td>2450.80</td><td>2529.45</td><td>937,404,000  </td><td>42,455,000,000</td></tr>\n",
       "\t<tr><th scope=row>5</th><td>2017-07-27</td><td>2538.71</td><td>2693.32</td><td>2529.34</td><td>2671.78</td><td>789,104,000  </td><td>41,816,500,000</td></tr>\n",
       "\t<tr><th scope=row>4</th><td>2017-07-28</td><td>2679.73</td><td>2897.45</td><td>2679.73</td><td>2809.01</td><td>1,380,100,000</td><td>44,144,400,000</td></tr>\n",
       "\t<tr><th scope=row>3</th><td>2017-07-29</td><td>2807.02</td><td>2808.76</td><td>2692.80</td><td>2726.45</td><td>803,746,000  </td><td>46,246,700,000</td></tr>\n",
       "\t<tr><th scope=row>2</th><td>2017-07-30</td><td>2724.39</td><td>2758.53</td><td>2644.85</td><td>2757.18</td><td>705,943,000  </td><td>44,890,700,000</td></tr>\n",
       "\t<tr><th scope=row>1</th><td>2017-07-31</td><td>2763.24</td><td>2889.62</td><td>2720.61</td><td>2875.34</td><td>860,575,000  </td><td>45,535,800,000</td></tr>\n",
       "</tbody>\n",
       "</table>\n"
      ],
      "text/latex": [
       "A data.frame: 1556 × 7\n",
       "\\begin{tabular}{r|lllllll}\n",
       "  & Date & Open & High & Low & Close & Volume & Market.Cap\\\\\n",
       "  & <date> & <dbl> & <dbl> & <dbl> & <dbl> & <chr> & <chr>\\\\\n",
       "\\hline\n",
       "\t1556 & 2013-04-28 & 135.30 & 135.98 & 132.10 & 134.21 & - & 1,500,520,000\\\\\n",
       "\t1555 & 2013-04-29 & 134.44 & 147.49 & 134.00 & 144.54 & - & 1,491,160,000\\\\\n",
       "\t1554 & 2013-04-30 & 144.00 & 146.93 & 134.05 & 139.00 & - & 1,597,780,000\\\\\n",
       "\t1553 & 2013-05-01 & 139.00 & 139.89 & 107.72 & 116.99 & - & 1,542,820,000\\\\\n",
       "\t1552 & 2013-05-02 & 116.38 & 125.60 &  92.28 & 105.21 & - & 1,292,190,000\\\\\n",
       "\t1551 & 2013-05-03 & 106.25 & 108.13 &  79.10 &  97.75 & - & 1,180,070,000\\\\\n",
       "\t1550 & 2013-05-04 &  98.10 & 115.00 &  92.50 & 112.50 & - & 1,089,890,000\\\\\n",
       "\t1549 & 2013-05-05 & 112.90 & 118.80 & 107.14 & 115.91 & - & 1,254,760,000\\\\\n",
       "\t1548 & 2013-05-06 & 115.98 & 124.66 & 106.64 & 112.30 & - & 1,289,470,000\\\\\n",
       "\t1547 & 2013-05-07 & 112.25 & 113.44 &  97.70 & 111.50 & - & 1,248,470,000\\\\\n",
       "\t1546 & 2013-05-08 & 109.60 & 115.78 & 109.60 & 113.57 & - & 1,219,450,000\\\\\n",
       "\t1545 & 2013-05-09 & 113.20 & 113.46 & 109.26 & 112.67 & - & 1,259,980,000\\\\\n",
       "\t1544 & 2013-05-10 & 112.80 & 122.00 & 111.55 & 117.20 & - & 1,255,970,000\\\\\n",
       "\t1543 & 2013-05-11 & 117.70 & 118.68 & 113.01 & 115.24 & - & 1,311,050,000\\\\\n",
       "\t1542 & 2013-05-12 & 115.64 & 117.45 & 113.44 & 115.00 & - & 1,288,630,000\\\\\n",
       "\t1541 & 2013-05-13 & 114.82 & 118.70 & 114.50 & 117.98 & - & 1,279,980,000\\\\\n",
       "\t1540 & 2013-05-14 & 117.98 & 119.80 & 110.25 & 111.50 & - & 1,315,720,000\\\\\n",
       "\t1539 & 2013-05-15 & 111.40 & 115.81 & 103.50 & 114.22 & - & 1,242,760,000\\\\\n",
       "\t1538 & 2013-05-16 & 114.22 & 118.76 & 112.20 & 118.76 & - & 1,274,620,000\\\\\n",
       "\t1537 & 2013-05-17 & 118.21 & 125.30 & 116.57 & 123.02 & - & 1,319,590,000\\\\\n",
       "\t1536 & 2013-05-18 & 123.50 & 125.25 & 122.30 & 123.50 & - & 1,379,140,000\\\\\n",
       "\t1535 & 2013-05-19 & 123.21 & 124.50 & 119.57 & 121.99 & - & 1,376,370,000\\\\\n",
       "\t1534 & 2013-05-20 & 122.50 & 123.62 & 120.12 & 122.00 & - & 1,368,910,000\\\\\n",
       "\t1533 & 2013-05-21 & 122.02 & 123.00 & 121.21 & 122.88 & - & 1,363,940,000\\\\\n",
       "\t1532 & 2013-05-22 & 122.89 & 124.00 & 122.00 & 123.89 & - & 1,374,130,000\\\\\n",
       "\t1531 & 2013-05-23 & 123.80 & 126.93 & 123.10 & 126.70 & - & 1,384,780,000\\\\\n",
       "\t1530 & 2013-05-24 & 126.30 & 133.85 & 125.72 & 133.20 & - & 1,413,300,000\\\\\n",
       "\t1529 & 2013-05-25 & 133.10 & 133.22 & 128.90 & 131.98 & - & 1,489,950,000\\\\\n",
       "\t1528 & 2013-05-26 & 131.99 & 136.00 & 130.62 & 133.48 & - & 1,478,030,000\\\\\n",
       "\t1527 & 2013-05-27 & 133.50 & 135.47 & 124.70 & 129.75 & - & 1,495,520,000\\\\\n",
       "\t⋮ & ⋮ & ⋮ & ⋮ & ⋮ & ⋮ & ⋮ & ⋮\\\\\n",
       "\t30 & 2017-07-02 & 2436.40 & 2514.28 & 2394.84 & 2506.47 & 803,747,000   & 40,010,500,000\\\\\n",
       "\t29 & 2017-07-03 & 2498.56 & 2595.00 & 2480.47 & 2564.06 & 964,112,000   & 41,037,200,000\\\\\n",
       "\t28 & 2017-07-04 & 2561.00 & 2631.59 & 2559.35 & 2601.64 & 985,516,000   & 42,067,900,000\\\\\n",
       "\t27 & 2017-07-05 & 2602.87 & 2622.65 & 2538.55 & 2601.99 & 941,566,000   & 42,760,800,000\\\\\n",
       "\t26 & 2017-07-06 & 2608.10 & 2616.72 & 2581.69 & 2608.56 & 761,957,000   & 42,851,400,000\\\\\n",
       "\t25 & 2017-07-07 & 2608.59 & 2916.14 & 2498.87 & 2518.66 & 917,412,000   & 42,864,200,000\\\\\n",
       "\t24 & 2017-07-08 & 2520.27 & 2571.34 & 2492.31 & 2571.34 & 733,330,000   & 41,417,700,000\\\\\n",
       "\t23 & 2017-07-09 & 2572.61 & 2635.49 & 2517.59 & 2518.44 & 527,856,000   & 42,283,200,000\\\\\n",
       "\t22 & 2017-07-10 & 2525.25 & 2537.16 & 2321.13 & 2372.56 & 1,111,200,000 & 41,509,000,000\\\\\n",
       "\t21 & 2017-07-11 & 2385.89 & 2413.47 & 2296.81 & 2337.79 & 1,329,760,000 & 39,224,200,000\\\\\n",
       "\t20 & 2017-07-12 & 2332.77 & 2423.71 & 2275.14 & 2398.84 & 1,117,410,000 & 38,355,900,000\\\\\n",
       "\t19 & 2017-07-13 & 2402.70 & 2425.22 & 2340.83 & 2357.90 & 835,770,000   & 39,511,000,000\\\\\n",
       "\t18 & 2017-07-14 & 2360.59 & 2363.25 & 2183.22 & 2233.34 & 882,503,000   & 38,823,100,000\\\\\n",
       "\t17 & 2017-07-15 & 2230.12 & 2231.14 & 1990.41 & 1998.86 & 993,608,000   & 36,681,300,000\\\\\n",
       "\t16 & 2017-07-16 & 1991.98 & 2058.77 & 1843.03 & 1929.82 & 1,182,870,000 & 32,767,600,000\\\\\n",
       "\t15 & 2017-07-17 & 1932.62 & 2230.49 & 1932.62 & 2228.41 & 1,201,760,000 & 31,795,000,000\\\\\n",
       "\t14 & 2017-07-18 & 2233.52 & 2387.61 & 2164.77 & 2318.88 & 1,512,450,000 & 36,749,400,000\\\\\n",
       "\t13 & 2017-07-19 & 2323.08 & 2397.17 & 2260.23 & 2273.43 & 1,245,100,000 & 38,227,800,000\\\\\n",
       "\t12 & 2017-07-20 & 2269.89 & 2900.70 & 2269.89 & 2817.60 & 2,249,260,000 & 37,356,800,000\\\\\n",
       "\t11 & 2017-07-21 & 2838.41 & 2838.41 & 2621.85 & 2667.76 & 1,489,450,000 & 46,719,000,000\\\\\n",
       "\t10 & 2017-07-22 & 2668.63 & 2862.42 & 2657.71 & 2810.12 & 1,177,130,000 & 43,929,600,000\\\\\n",
       "\t9 & 2017-07-23 & 2808.10 & 2832.18 & 2653.94 & 2730.40 & 1,072,840,000 & 46,231,100,000\\\\\n",
       "\t8 & 2017-07-24 & 2732.70 & 2777.26 & 2699.19 & 2754.86 & 866,474,000   & 44,995,600,000\\\\\n",
       "\t7 & 2017-07-25 & 2757.50 & 2768.08 & 2480.96 & 2576.48 & 1,460,090,000 & 45,410,100,000\\\\\n",
       "\t6 & 2017-07-26 & 2577.77 & 2610.76 & 2450.80 & 2529.45 & 937,404,000   & 42,455,000,000\\\\\n",
       "\t5 & 2017-07-27 & 2538.71 & 2693.32 & 2529.34 & 2671.78 & 789,104,000   & 41,816,500,000\\\\\n",
       "\t4 & 2017-07-28 & 2679.73 & 2897.45 & 2679.73 & 2809.01 & 1,380,100,000 & 44,144,400,000\\\\\n",
       "\t3 & 2017-07-29 & 2807.02 & 2808.76 & 2692.80 & 2726.45 & 803,746,000   & 46,246,700,000\\\\\n",
       "\t2 & 2017-07-30 & 2724.39 & 2758.53 & 2644.85 & 2757.18 & 705,943,000   & 44,890,700,000\\\\\n",
       "\t1 & 2017-07-31 & 2763.24 & 2889.62 & 2720.61 & 2875.34 & 860,575,000   & 45,535,800,000\\\\\n",
       "\\end{tabular}\n"
      ],
      "text/markdown": [
       "\n",
       "A data.frame: 1556 × 7\n",
       "\n",
       "| <!--/--> | Date &lt;date&gt; | Open &lt;dbl&gt; | High &lt;dbl&gt; | Low &lt;dbl&gt; | Close &lt;dbl&gt; | Volume &lt;chr&gt; | Market.Cap &lt;chr&gt; |\n",
       "|---|---|---|---|---|---|---|---|\n",
       "| 1556 | 2013-04-28 | 135.30 | 135.98 | 132.10 | 134.21 | - | 1,500,520,000 |\n",
       "| 1555 | 2013-04-29 | 134.44 | 147.49 | 134.00 | 144.54 | - | 1,491,160,000 |\n",
       "| 1554 | 2013-04-30 | 144.00 | 146.93 | 134.05 | 139.00 | - | 1,597,780,000 |\n",
       "| 1553 | 2013-05-01 | 139.00 | 139.89 | 107.72 | 116.99 | - | 1,542,820,000 |\n",
       "| 1552 | 2013-05-02 | 116.38 | 125.60 |  92.28 | 105.21 | - | 1,292,190,000 |\n",
       "| 1551 | 2013-05-03 | 106.25 | 108.13 |  79.10 |  97.75 | - | 1,180,070,000 |\n",
       "| 1550 | 2013-05-04 |  98.10 | 115.00 |  92.50 | 112.50 | - | 1,089,890,000 |\n",
       "| 1549 | 2013-05-05 | 112.90 | 118.80 | 107.14 | 115.91 | - | 1,254,760,000 |\n",
       "| 1548 | 2013-05-06 | 115.98 | 124.66 | 106.64 | 112.30 | - | 1,289,470,000 |\n",
       "| 1547 | 2013-05-07 | 112.25 | 113.44 |  97.70 | 111.50 | - | 1,248,470,000 |\n",
       "| 1546 | 2013-05-08 | 109.60 | 115.78 | 109.60 | 113.57 | - | 1,219,450,000 |\n",
       "| 1545 | 2013-05-09 | 113.20 | 113.46 | 109.26 | 112.67 | - | 1,259,980,000 |\n",
       "| 1544 | 2013-05-10 | 112.80 | 122.00 | 111.55 | 117.20 | - | 1,255,970,000 |\n",
       "| 1543 | 2013-05-11 | 117.70 | 118.68 | 113.01 | 115.24 | - | 1,311,050,000 |\n",
       "| 1542 | 2013-05-12 | 115.64 | 117.45 | 113.44 | 115.00 | - | 1,288,630,000 |\n",
       "| 1541 | 2013-05-13 | 114.82 | 118.70 | 114.50 | 117.98 | - | 1,279,980,000 |\n",
       "| 1540 | 2013-05-14 | 117.98 | 119.80 | 110.25 | 111.50 | - | 1,315,720,000 |\n",
       "| 1539 | 2013-05-15 | 111.40 | 115.81 | 103.50 | 114.22 | - | 1,242,760,000 |\n",
       "| 1538 | 2013-05-16 | 114.22 | 118.76 | 112.20 | 118.76 | - | 1,274,620,000 |\n",
       "| 1537 | 2013-05-17 | 118.21 | 125.30 | 116.57 | 123.02 | - | 1,319,590,000 |\n",
       "| 1536 | 2013-05-18 | 123.50 | 125.25 | 122.30 | 123.50 | - | 1,379,140,000 |\n",
       "| 1535 | 2013-05-19 | 123.21 | 124.50 | 119.57 | 121.99 | - | 1,376,370,000 |\n",
       "| 1534 | 2013-05-20 | 122.50 | 123.62 | 120.12 | 122.00 | - | 1,368,910,000 |\n",
       "| 1533 | 2013-05-21 | 122.02 | 123.00 | 121.21 | 122.88 | - | 1,363,940,000 |\n",
       "| 1532 | 2013-05-22 | 122.89 | 124.00 | 122.00 | 123.89 | - | 1,374,130,000 |\n",
       "| 1531 | 2013-05-23 | 123.80 | 126.93 | 123.10 | 126.70 | - | 1,384,780,000 |\n",
       "| 1530 | 2013-05-24 | 126.30 | 133.85 | 125.72 | 133.20 | - | 1,413,300,000 |\n",
       "| 1529 | 2013-05-25 | 133.10 | 133.22 | 128.90 | 131.98 | - | 1,489,950,000 |\n",
       "| 1528 | 2013-05-26 | 131.99 | 136.00 | 130.62 | 133.48 | - | 1,478,030,000 |\n",
       "| 1527 | 2013-05-27 | 133.50 | 135.47 | 124.70 | 129.75 | - | 1,495,520,000 |\n",
       "| ⋮ | ⋮ | ⋮ | ⋮ | ⋮ | ⋮ | ⋮ | ⋮ |\n",
       "| 30 | 2017-07-02 | 2436.40 | 2514.28 | 2394.84 | 2506.47 | 803,747,000   | 40,010,500,000 |\n",
       "| 29 | 2017-07-03 | 2498.56 | 2595.00 | 2480.47 | 2564.06 | 964,112,000   | 41,037,200,000 |\n",
       "| 28 | 2017-07-04 | 2561.00 | 2631.59 | 2559.35 | 2601.64 | 985,516,000   | 42,067,900,000 |\n",
       "| 27 | 2017-07-05 | 2602.87 | 2622.65 | 2538.55 | 2601.99 | 941,566,000   | 42,760,800,000 |\n",
       "| 26 | 2017-07-06 | 2608.10 | 2616.72 | 2581.69 | 2608.56 | 761,957,000   | 42,851,400,000 |\n",
       "| 25 | 2017-07-07 | 2608.59 | 2916.14 | 2498.87 | 2518.66 | 917,412,000   | 42,864,200,000 |\n",
       "| 24 | 2017-07-08 | 2520.27 | 2571.34 | 2492.31 | 2571.34 | 733,330,000   | 41,417,700,000 |\n",
       "| 23 | 2017-07-09 | 2572.61 | 2635.49 | 2517.59 | 2518.44 | 527,856,000   | 42,283,200,000 |\n",
       "| 22 | 2017-07-10 | 2525.25 | 2537.16 | 2321.13 | 2372.56 | 1,111,200,000 | 41,509,000,000 |\n",
       "| 21 | 2017-07-11 | 2385.89 | 2413.47 | 2296.81 | 2337.79 | 1,329,760,000 | 39,224,200,000 |\n",
       "| 20 | 2017-07-12 | 2332.77 | 2423.71 | 2275.14 | 2398.84 | 1,117,410,000 | 38,355,900,000 |\n",
       "| 19 | 2017-07-13 | 2402.70 | 2425.22 | 2340.83 | 2357.90 | 835,770,000   | 39,511,000,000 |\n",
       "| 18 | 2017-07-14 | 2360.59 | 2363.25 | 2183.22 | 2233.34 | 882,503,000   | 38,823,100,000 |\n",
       "| 17 | 2017-07-15 | 2230.12 | 2231.14 | 1990.41 | 1998.86 | 993,608,000   | 36,681,300,000 |\n",
       "| 16 | 2017-07-16 | 1991.98 | 2058.77 | 1843.03 | 1929.82 | 1,182,870,000 | 32,767,600,000 |\n",
       "| 15 | 2017-07-17 | 1932.62 | 2230.49 | 1932.62 | 2228.41 | 1,201,760,000 | 31,795,000,000 |\n",
       "| 14 | 2017-07-18 | 2233.52 | 2387.61 | 2164.77 | 2318.88 | 1,512,450,000 | 36,749,400,000 |\n",
       "| 13 | 2017-07-19 | 2323.08 | 2397.17 | 2260.23 | 2273.43 | 1,245,100,000 | 38,227,800,000 |\n",
       "| 12 | 2017-07-20 | 2269.89 | 2900.70 | 2269.89 | 2817.60 | 2,249,260,000 | 37,356,800,000 |\n",
       "| 11 | 2017-07-21 | 2838.41 | 2838.41 | 2621.85 | 2667.76 | 1,489,450,000 | 46,719,000,000 |\n",
       "| 10 | 2017-07-22 | 2668.63 | 2862.42 | 2657.71 | 2810.12 | 1,177,130,000 | 43,929,600,000 |\n",
       "| 9 | 2017-07-23 | 2808.10 | 2832.18 | 2653.94 | 2730.40 | 1,072,840,000 | 46,231,100,000 |\n",
       "| 8 | 2017-07-24 | 2732.70 | 2777.26 | 2699.19 | 2754.86 | 866,474,000   | 44,995,600,000 |\n",
       "| 7 | 2017-07-25 | 2757.50 | 2768.08 | 2480.96 | 2576.48 | 1,460,090,000 | 45,410,100,000 |\n",
       "| 6 | 2017-07-26 | 2577.77 | 2610.76 | 2450.80 | 2529.45 | 937,404,000   | 42,455,000,000 |\n",
       "| 5 | 2017-07-27 | 2538.71 | 2693.32 | 2529.34 | 2671.78 | 789,104,000   | 41,816,500,000 |\n",
       "| 4 | 2017-07-28 | 2679.73 | 2897.45 | 2679.73 | 2809.01 | 1,380,100,000 | 44,144,400,000 |\n",
       "| 3 | 2017-07-29 | 2807.02 | 2808.76 | 2692.80 | 2726.45 | 803,746,000   | 46,246,700,000 |\n",
       "| 2 | 2017-07-30 | 2724.39 | 2758.53 | 2644.85 | 2757.18 | 705,943,000   | 44,890,700,000 |\n",
       "| 1 | 2017-07-31 | 2763.24 | 2889.62 | 2720.61 | 2875.34 | 860,575,000   | 45,535,800,000 |\n",
       "\n"
      ],
      "text/plain": [
       "     Date       Open    High    Low     Close   Volume        Market.Cap    \n",
       "1556 2013-04-28 135.30  135.98  132.10  134.21  -             1,500,520,000 \n",
       "1555 2013-04-29 134.44  147.49  134.00  144.54  -             1,491,160,000 \n",
       "1554 2013-04-30 144.00  146.93  134.05  139.00  -             1,597,780,000 \n",
       "1553 2013-05-01 139.00  139.89  107.72  116.99  -             1,542,820,000 \n",
       "1552 2013-05-02 116.38  125.60   92.28  105.21  -             1,292,190,000 \n",
       "1551 2013-05-03 106.25  108.13   79.10   97.75  -             1,180,070,000 \n",
       "1550 2013-05-04  98.10  115.00   92.50  112.50  -             1,089,890,000 \n",
       "1549 2013-05-05 112.90  118.80  107.14  115.91  -             1,254,760,000 \n",
       "1548 2013-05-06 115.98  124.66  106.64  112.30  -             1,289,470,000 \n",
       "1547 2013-05-07 112.25  113.44   97.70  111.50  -             1,248,470,000 \n",
       "1546 2013-05-08 109.60  115.78  109.60  113.57  -             1,219,450,000 \n",
       "1545 2013-05-09 113.20  113.46  109.26  112.67  -             1,259,980,000 \n",
       "1544 2013-05-10 112.80  122.00  111.55  117.20  -             1,255,970,000 \n",
       "1543 2013-05-11 117.70  118.68  113.01  115.24  -             1,311,050,000 \n",
       "1542 2013-05-12 115.64  117.45  113.44  115.00  -             1,288,630,000 \n",
       "1541 2013-05-13 114.82  118.70  114.50  117.98  -             1,279,980,000 \n",
       "1540 2013-05-14 117.98  119.80  110.25  111.50  -             1,315,720,000 \n",
       "1539 2013-05-15 111.40  115.81  103.50  114.22  -             1,242,760,000 \n",
       "1538 2013-05-16 114.22  118.76  112.20  118.76  -             1,274,620,000 \n",
       "1537 2013-05-17 118.21  125.30  116.57  123.02  -             1,319,590,000 \n",
       "1536 2013-05-18 123.50  125.25  122.30  123.50  -             1,379,140,000 \n",
       "1535 2013-05-19 123.21  124.50  119.57  121.99  -             1,376,370,000 \n",
       "1534 2013-05-20 122.50  123.62  120.12  122.00  -             1,368,910,000 \n",
       "1533 2013-05-21 122.02  123.00  121.21  122.88  -             1,363,940,000 \n",
       "1532 2013-05-22 122.89  124.00  122.00  123.89  -             1,374,130,000 \n",
       "1531 2013-05-23 123.80  126.93  123.10  126.70  -             1,384,780,000 \n",
       "1530 2013-05-24 126.30  133.85  125.72  133.20  -             1,413,300,000 \n",
       "1529 2013-05-25 133.10  133.22  128.90  131.98  -             1,489,950,000 \n",
       "1528 2013-05-26 131.99  136.00  130.62  133.48  -             1,478,030,000 \n",
       "1527 2013-05-27 133.50  135.47  124.70  129.75  -             1,495,520,000 \n",
       "⋮    ⋮          ⋮       ⋮       ⋮       ⋮       ⋮             ⋮             \n",
       "30   2017-07-02 2436.40 2514.28 2394.84 2506.47 803,747,000   40,010,500,000\n",
       "29   2017-07-03 2498.56 2595.00 2480.47 2564.06 964,112,000   41,037,200,000\n",
       "28   2017-07-04 2561.00 2631.59 2559.35 2601.64 985,516,000   42,067,900,000\n",
       "27   2017-07-05 2602.87 2622.65 2538.55 2601.99 941,566,000   42,760,800,000\n",
       "26   2017-07-06 2608.10 2616.72 2581.69 2608.56 761,957,000   42,851,400,000\n",
       "25   2017-07-07 2608.59 2916.14 2498.87 2518.66 917,412,000   42,864,200,000\n",
       "24   2017-07-08 2520.27 2571.34 2492.31 2571.34 733,330,000   41,417,700,000\n",
       "23   2017-07-09 2572.61 2635.49 2517.59 2518.44 527,856,000   42,283,200,000\n",
       "22   2017-07-10 2525.25 2537.16 2321.13 2372.56 1,111,200,000 41,509,000,000\n",
       "21   2017-07-11 2385.89 2413.47 2296.81 2337.79 1,329,760,000 39,224,200,000\n",
       "20   2017-07-12 2332.77 2423.71 2275.14 2398.84 1,117,410,000 38,355,900,000\n",
       "19   2017-07-13 2402.70 2425.22 2340.83 2357.90 835,770,000   39,511,000,000\n",
       "18   2017-07-14 2360.59 2363.25 2183.22 2233.34 882,503,000   38,823,100,000\n",
       "17   2017-07-15 2230.12 2231.14 1990.41 1998.86 993,608,000   36,681,300,000\n",
       "16   2017-07-16 1991.98 2058.77 1843.03 1929.82 1,182,870,000 32,767,600,000\n",
       "15   2017-07-17 1932.62 2230.49 1932.62 2228.41 1,201,760,000 31,795,000,000\n",
       "14   2017-07-18 2233.52 2387.61 2164.77 2318.88 1,512,450,000 36,749,400,000\n",
       "13   2017-07-19 2323.08 2397.17 2260.23 2273.43 1,245,100,000 38,227,800,000\n",
       "12   2017-07-20 2269.89 2900.70 2269.89 2817.60 2,249,260,000 37,356,800,000\n",
       "11   2017-07-21 2838.41 2838.41 2621.85 2667.76 1,489,450,000 46,719,000,000\n",
       "10   2017-07-22 2668.63 2862.42 2657.71 2810.12 1,177,130,000 43,929,600,000\n",
       "9    2017-07-23 2808.10 2832.18 2653.94 2730.40 1,072,840,000 46,231,100,000\n",
       "8    2017-07-24 2732.70 2777.26 2699.19 2754.86 866,474,000   44,995,600,000\n",
       "7    2017-07-25 2757.50 2768.08 2480.96 2576.48 1,460,090,000 45,410,100,000\n",
       "6    2017-07-26 2577.77 2610.76 2450.80 2529.45 937,404,000   42,455,000,000\n",
       "5    2017-07-27 2538.71 2693.32 2529.34 2671.78 789,104,000   41,816,500,000\n",
       "4    2017-07-28 2679.73 2897.45 2679.73 2809.01 1,380,100,000 44,144,400,000\n",
       "3    2017-07-29 2807.02 2808.76 2692.80 2726.45 803,746,000   46,246,700,000\n",
       "2    2017-07-30 2724.39 2758.53 2644.85 2757.18 705,943,000   44,890,700,000\n",
       "1    2017-07-31 2763.24 2889.62 2720.61 2875.34 860,575,000   45,535,800,000"
      ]
     },
     "metadata": {},
     "output_type": "display_data"
    }
   ],
   "source": [
    "df[order(as.numeric(rownames(df)), decreasing = TRUE), ] ## data[rows , cols ]"
   ]
  },
  {
   "cell_type": "code",
   "execution_count": 34,
   "id": "eb9f3bd1",
   "metadata": {},
   "outputs": [],
   "source": [
    "temp_df = df[order(as.numeric(rownames(df)), decreasing = TRUE), ]"
   ]
  },
  {
   "cell_type": "code",
   "execution_count": null,
   "id": "a9590f18",
   "metadata": {},
   "outputs": [],
   "source": []
  },
  {
   "cell_type": "code",
   "execution_count": null,
   "id": "37d99e00",
   "metadata": {},
   "outputs": [],
   "source": []
  },
  {
   "cell_type": "code",
   "execution_count": null,
   "id": "a78bb450",
   "metadata": {},
   "outputs": [],
   "source": []
  },
  {
   "cell_type": "code",
   "execution_count": null,
   "id": "391efd5f",
   "metadata": {},
   "outputs": [],
   "source": []
  },
  {
   "cell_type": "code",
   "execution_count": null,
   "id": "a823eeb8",
   "metadata": {},
   "outputs": [],
   "source": []
  },
  {
   "cell_type": "markdown",
   "id": "f25bf387",
   "metadata": {},
   "source": [
    "# 3.. Analysing change in price of the stock overtime?"
   ]
  },
  {
   "cell_type": "code",
   "execution_count": 21,
   "id": "80b1524d",
   "metadata": {},
   "outputs": [
    {
     "data": {
      "text/html": [
       "<table class=\"dataframe\">\n",
       "<caption>A data.frame: 2 × 7</caption>\n",
       "<thead>\n",
       "\t<tr><th></th><th scope=col>Date</th><th scope=col>Open</th><th scope=col>High</th><th scope=col>Low</th><th scope=col>Close</th><th scope=col>Volume</th><th scope=col>Market.Cap</th></tr>\n",
       "\t<tr><th></th><th scope=col>&lt;date&gt;</th><th scope=col>&lt;dbl&gt;</th><th scope=col>&lt;dbl&gt;</th><th scope=col>&lt;dbl&gt;</th><th scope=col>&lt;dbl&gt;</th><th scope=col>&lt;chr&gt;</th><th scope=col>&lt;chr&gt;</th></tr>\n",
       "</thead>\n",
       "<tbody>\n",
       "\t<tr><th scope=row>1556</th><td>2013-04-28</td><td>135.30</td><td>135.98</td><td>132.1</td><td>134.21</td><td>-</td><td>1,500,520,000</td></tr>\n",
       "\t<tr><th scope=row>1555</th><td>2013-04-29</td><td>134.44</td><td>147.49</td><td>134.0</td><td>144.54</td><td>-</td><td>1,491,160,000</td></tr>\n",
       "</tbody>\n",
       "</table>\n"
      ],
      "text/latex": [
       "A data.frame: 2 × 7\n",
       "\\begin{tabular}{r|lllllll}\n",
       "  & Date & Open & High & Low & Close & Volume & Market.Cap\\\\\n",
       "  & <date> & <dbl> & <dbl> & <dbl> & <dbl> & <chr> & <chr>\\\\\n",
       "\\hline\n",
       "\t1556 & 2013-04-28 & 135.30 & 135.98 & 132.1 & 134.21 & - & 1,500,520,000\\\\\n",
       "\t1555 & 2013-04-29 & 134.44 & 147.49 & 134.0 & 144.54 & - & 1,491,160,000\\\\\n",
       "\\end{tabular}\n"
      ],
      "text/markdown": [
       "\n",
       "A data.frame: 2 × 7\n",
       "\n",
       "| <!--/--> | Date &lt;date&gt; | Open &lt;dbl&gt; | High &lt;dbl&gt; | Low &lt;dbl&gt; | Close &lt;dbl&gt; | Volume &lt;chr&gt; | Market.Cap &lt;chr&gt; |\n",
       "|---|---|---|---|---|---|---|---|\n",
       "| 1556 | 2013-04-28 | 135.30 | 135.98 | 132.1 | 134.21 | - | 1,500,520,000 |\n",
       "| 1555 | 2013-04-29 | 134.44 | 147.49 | 134.0 | 144.54 | - | 1,491,160,000 |\n",
       "\n"
      ],
      "text/plain": [
       "     Date       Open   High   Low   Close  Volume Market.Cap   \n",
       "1556 2013-04-28 135.30 135.98 132.1 134.21 -      1,500,520,000\n",
       "1555 2013-04-29 134.44 147.49 134.0 144.54 -      1,491,160,000"
      ]
     },
     "metadata": {},
     "output_type": "display_data"
    }
   ],
   "source": [
    "head(temp_df , 2)"
   ]
  },
  {
   "cell_type": "code",
   "execution_count": null,
   "id": "49c8393c",
   "metadata": {},
   "outputs": [],
   "source": [
    "## I want indexes as 1 , 2 , 3 ---\n",
    "## so very first let me assign feature as \"index\" having values as \n",
    "## 1556 , 1555 , 1554 etc-- & then we will drop this feature..\n",
    "\n",
    "## Then we will automatically end up getting values as : 1 ,2  3 ----- "
   ]
  },
  {
   "cell_type": "code",
   "execution_count": null,
   "id": "381f828b",
   "metadata": {},
   "outputs": [],
   "source": []
  },
  {
   "cell_type": "code",
   "execution_count": 6,
   "id": "1173f8b3",
   "metadata": {},
   "outputs": [],
   "source": [
    "library(tibble)"
   ]
  },
  {
   "cell_type": "code",
   "execution_count": 8,
   "id": "2305db15",
   "metadata": {},
   "outputs": [],
   "source": [
    "help(rownames_to_column)"
   ]
  },
  {
   "cell_type": "code",
   "execution_count": 7,
   "id": "8379322e",
   "metadata": {},
   "outputs": [
    {
     "data": {
      "text/html": [
       "<pre class=language-r><code>function (.data, var = \"rowname\") \n",
       "NULL</code></pre>"
      ],
      "text/latex": [
       "\\begin{minted}{r}\n",
       "function (.data, var = \"rowname\") \n",
       "NULL\n",
       "\\end{minted}"
      ],
      "text/markdown": [
       "```r\n",
       "function (.data, var = \"rowname\") \n",
       "NULL\n",
       "```"
      ],
      "text/plain": [
       "function (.data, var = \"rowname\") \n",
       "NULL"
      ]
     },
     "metadata": {},
     "output_type": "display_data"
    }
   ],
   "source": [
    "args(rownames_to_column)\n",
    "\n",
    "## help(rownames_to_column)"
   ]
  },
  {
   "cell_type": "markdown",
   "id": "785e3cd4",
   "metadata": {},
   "source": [
    "    .data : This is the data frame for which you want to convert row names to a column..\n",
    "    var : This is the name of the new column that will store the row names. The default is \"rowname\"."
   ]
  },
  {
   "cell_type": "code",
   "execution_count": 22,
   "id": "b52d76f8",
   "metadata": {},
   "outputs": [],
   "source": [
    "temp_df = tibble :: rownames_to_column(temp_df, var = \"index\")"
   ]
  },
  {
   "cell_type": "code",
   "execution_count": 27,
   "id": "1ff96f51",
   "metadata": {},
   "outputs": [
    {
     "data": {
      "text/html": [
       "<table class=\"dataframe\">\n",
       "<caption>A data.frame: 2 × 8</caption>\n",
       "<thead>\n",
       "\t<tr><th></th><th scope=col>index</th><th scope=col>Date</th><th scope=col>Open</th><th scope=col>High</th><th scope=col>Low</th><th scope=col>Close</th><th scope=col>Volume</th><th scope=col>Market.Cap</th></tr>\n",
       "\t<tr><th></th><th scope=col>&lt;chr&gt;</th><th scope=col>&lt;date&gt;</th><th scope=col>&lt;dbl&gt;</th><th scope=col>&lt;dbl&gt;</th><th scope=col>&lt;dbl&gt;</th><th scope=col>&lt;dbl&gt;</th><th scope=col>&lt;chr&gt;</th><th scope=col>&lt;chr&gt;</th></tr>\n",
       "</thead>\n",
       "<tbody>\n",
       "\t<tr><th scope=row>1</th><td>1556</td><td>2013-04-28</td><td>135.30</td><td>135.98</td><td>132.1</td><td>134.21</td><td>-</td><td>1,500,520,000</td></tr>\n",
       "\t<tr><th scope=row>2</th><td>1555</td><td>2013-04-29</td><td>134.44</td><td>147.49</td><td>134.0</td><td>144.54</td><td>-</td><td>1,491,160,000</td></tr>\n",
       "</tbody>\n",
       "</table>\n"
      ],
      "text/latex": [
       "A data.frame: 2 × 8\n",
       "\\begin{tabular}{r|llllllll}\n",
       "  & index & Date & Open & High & Low & Close & Volume & Market.Cap\\\\\n",
       "  & <chr> & <date> & <dbl> & <dbl> & <dbl> & <dbl> & <chr> & <chr>\\\\\n",
       "\\hline\n",
       "\t1 & 1556 & 2013-04-28 & 135.30 & 135.98 & 132.1 & 134.21 & - & 1,500,520,000\\\\\n",
       "\t2 & 1555 & 2013-04-29 & 134.44 & 147.49 & 134.0 & 144.54 & - & 1,491,160,000\\\\\n",
       "\\end{tabular}\n"
      ],
      "text/markdown": [
       "\n",
       "A data.frame: 2 × 8\n",
       "\n",
       "| <!--/--> | index &lt;chr&gt; | Date &lt;date&gt; | Open &lt;dbl&gt; | High &lt;dbl&gt; | Low &lt;dbl&gt; | Close &lt;dbl&gt; | Volume &lt;chr&gt; | Market.Cap &lt;chr&gt; |\n",
       "|---|---|---|---|---|---|---|---|---|\n",
       "| 1 | 1556 | 2013-04-28 | 135.30 | 135.98 | 132.1 | 134.21 | - | 1,500,520,000 |\n",
       "| 2 | 1555 | 2013-04-29 | 134.44 | 147.49 | 134.0 | 144.54 | - | 1,491,160,000 |\n",
       "\n"
      ],
      "text/plain": [
       "  index Date       Open   High   Low   Close  Volume Market.Cap   \n",
       "1 1556  2013-04-28 135.30 135.98 132.1 134.21 -      1,500,520,000\n",
       "2 1555  2013-04-29 134.44 147.49 134.0 144.54 -      1,491,160,000"
      ]
     },
     "metadata": {},
     "output_type": "display_data"
    }
   ],
   "source": [
    "head(temp_df , 2)"
   ]
  },
  {
   "cell_type": "code",
   "execution_count": null,
   "id": "ab91391e",
   "metadata": {},
   "outputs": [],
   "source": []
  },
  {
   "cell_type": "code",
   "execution_count": 10,
   "id": "17b64ba7",
   "metadata": {},
   "outputs": [],
   "source": [
    "help(subset)"
   ]
  },
  {
   "cell_type": "code",
   "execution_count": null,
   "id": "dcbb7898",
   "metadata": {},
   "outputs": [],
   "source": [
    "\"\n",
    "\n",
    "subset(x, ...)\n",
    "\n",
    "## Default S3 method:\n",
    "subset(x, subset, ...)\n",
    "\n",
    "    This is the default method of the subset function, suitable for \n",
    "    most objects like vectors, data frames, etc..\n",
    "\n",
    "    In simple terms in R, S3 stands for \"Simple, Structured, and Sensible.\" \n",
    "    It's a basic system for object-oriented programming\n",
    "                OR\n",
    "    In R, S3 methods are a way to implement object-oriented programming.\n",
    "\n",
    "\n",
    "\n",
    "## S3 method for class 'matrix'\n",
    "subset(x, subset, select, drop = FALSE, ...)\n",
    "\n",
    "## S3 method for class 'data.frame'\n",
    "subset(x, subset, select, drop = FALSE, ...)\n",
    "\n",
    "\"\n",
    "\n",
    "\n",
    "\n",
    "\n",
    "## S3 method for class 'data.frame'\n",
    "subset(x, subset, select, drop = FALSE, ...)\n",
    "\n",
    "\"\n",
    "x : object to be subsetted.\n",
    "\n",
    "select : expression, indicating columns to select from a data frame..\n",
    "\n",
    "\""
   ]
  },
  {
   "cell_type": "code",
   "execution_count": 9,
   "id": "4e29663f",
   "metadata": {},
   "outputs": [
    {
     "data": {
      "text/html": [
       "<pre class=language-r><code>function (x, ...) \n",
       "NULL</code></pre>"
      ],
      "text/latex": [
       "\\begin{minted}{r}\n",
       "function (x, ...) \n",
       "NULL\n",
       "\\end{minted}"
      ],
      "text/markdown": [
       "```r\n",
       "function (x, ...) \n",
       "NULL\n",
       "```"
      ],
      "text/plain": [
       "function (x, ...) \n",
       "NULL"
      ]
     },
     "metadata": {},
     "output_type": "display_data"
    }
   ],
   "source": [
    "args(subset)"
   ]
  },
  {
   "cell_type": "code",
   "execution_count": 6,
   "id": "cb02f37c",
   "metadata": {},
   "outputs": [],
   "source": []
  },
  {
   "cell_type": "code",
   "execution_count": 32,
   "id": "eea6c30d",
   "metadata": {},
   "outputs": [],
   "source": [
    "data = subset(temp_df, select = -index)"
   ]
  },
  {
   "cell_type": "code",
   "execution_count": 33,
   "id": "73d362a1",
   "metadata": {},
   "outputs": [
    {
     "data": {
      "text/html": [
       "<table class=\"dataframe\">\n",
       "<caption>A data.frame: 2 × 7</caption>\n",
       "<thead>\n",
       "\t<tr><th></th><th scope=col>Date</th><th scope=col>Open</th><th scope=col>High</th><th scope=col>Low</th><th scope=col>Close</th><th scope=col>Volume</th><th scope=col>Market.Cap</th></tr>\n",
       "\t<tr><th></th><th scope=col>&lt;date&gt;</th><th scope=col>&lt;dbl&gt;</th><th scope=col>&lt;dbl&gt;</th><th scope=col>&lt;dbl&gt;</th><th scope=col>&lt;dbl&gt;</th><th scope=col>&lt;chr&gt;</th><th scope=col>&lt;chr&gt;</th></tr>\n",
       "</thead>\n",
       "<tbody>\n",
       "\t<tr><th scope=row>1</th><td>2013-04-28</td><td>135.30</td><td>135.98</td><td>132.1</td><td>134.21</td><td>-</td><td>1,500,520,000</td></tr>\n",
       "\t<tr><th scope=row>2</th><td>2013-04-29</td><td>134.44</td><td>147.49</td><td>134.0</td><td>144.54</td><td>-</td><td>1,491,160,000</td></tr>\n",
       "</tbody>\n",
       "</table>\n"
      ],
      "text/latex": [
       "A data.frame: 2 × 7\n",
       "\\begin{tabular}{r|lllllll}\n",
       "  & Date & Open & High & Low & Close & Volume & Market.Cap\\\\\n",
       "  & <date> & <dbl> & <dbl> & <dbl> & <dbl> & <chr> & <chr>\\\\\n",
       "\\hline\n",
       "\t1 & 2013-04-28 & 135.30 & 135.98 & 132.1 & 134.21 & - & 1,500,520,000\\\\\n",
       "\t2 & 2013-04-29 & 134.44 & 147.49 & 134.0 & 144.54 & - & 1,491,160,000\\\\\n",
       "\\end{tabular}\n"
      ],
      "text/markdown": [
       "\n",
       "A data.frame: 2 × 7\n",
       "\n",
       "| <!--/--> | Date &lt;date&gt; | Open &lt;dbl&gt; | High &lt;dbl&gt; | Low &lt;dbl&gt; | Close &lt;dbl&gt; | Volume &lt;chr&gt; | Market.Cap &lt;chr&gt; |\n",
       "|---|---|---|---|---|---|---|---|\n",
       "| 1 | 2013-04-28 | 135.30 | 135.98 | 132.1 | 134.21 | - | 1,500,520,000 |\n",
       "| 2 | 2013-04-29 | 134.44 | 147.49 | 134.0 | 144.54 | - | 1,491,160,000 |\n",
       "\n"
      ],
      "text/plain": [
       "  Date       Open   High   Low   Close  Volume Market.Cap   \n",
       "1 2013-04-28 135.30 135.98 132.1 134.21 -      1,500,520,000\n",
       "2 2013-04-29 134.44 147.49 134.0 144.54 -      1,491,160,000"
      ]
     },
     "metadata": {},
     "output_type": "display_data"
    }
   ],
   "source": [
    "head(data , 2)"
   ]
  },
  {
   "cell_type": "code",
   "execution_count": 34,
   "id": "b9387d9e",
   "metadata": {},
   "outputs": [
    {
     "data": {
      "text/html": [
       "<style>\n",
       ".list-inline {list-style: none; margin:0; padding: 0}\n",
       ".list-inline>li {display: inline-block}\n",
       ".list-inline>li:not(:last-child)::after {content: \"\\00b7\"; padding: 0 .5ex}\n",
       "</style>\n",
       "<ol class=list-inline><li>'Date'</li><li>'Open'</li><li>'High'</li><li>'Low'</li><li>'Close'</li><li>'Volume'</li><li>'Market.Cap'</li></ol>\n"
      ],
      "text/latex": [
       "\\begin{enumerate*}\n",
       "\\item 'Date'\n",
       "\\item 'Open'\n",
       "\\item 'High'\n",
       "\\item 'Low'\n",
       "\\item 'Close'\n",
       "\\item 'Volume'\n",
       "\\item 'Market.Cap'\n",
       "\\end{enumerate*}\n"
      ],
      "text/markdown": [
       "1. 'Date'\n",
       "2. 'Open'\n",
       "3. 'High'\n",
       "4. 'Low'\n",
       "5. 'Close'\n",
       "6. 'Volume'\n",
       "7. 'Market.Cap'\n",
       "\n",
       "\n"
      ],
      "text/plain": [
       "[1] \"Date\"       \"Open\"       \"High\"       \"Low\"        \"Close\"     \n",
       "[6] \"Volume\"     \"Market.Cap\""
      ]
     },
     "metadata": {},
     "output_type": "display_data"
    }
   ],
   "source": [
    "names(data)"
   ]
  },
  {
   "cell_type": "code",
   "execution_count": null,
   "id": "174b0c05",
   "metadata": {},
   "outputs": [],
   "source": []
  },
  {
   "cell_type": "code",
   "execution_count": null,
   "id": "05e3ce39",
   "metadata": {},
   "outputs": [],
   "source": []
  },
  {
   "cell_type": "code",
   "execution_count": null,
   "id": "01106182",
   "metadata": {},
   "outputs": [],
   "source": [
    "help(plot)"
   ]
  },
  {
   "cell_type": "code",
   "execution_count": null,
   "id": "5f2a24b5",
   "metadata": {},
   "outputs": [],
   "source": [
    "\"\n",
    "\n",
    "## Default S3 method :\n",
    "plot(x, y = NULL, type = \"p\",  xlim = NULL, ylim = NULL,\n",
    "     log = \"\", main = NULL, sub = NULL, xlab = NULL, ylab = NULL,\n",
    "     ann = par(\"ann\"), axes = TRUE, frame.plot = axes,\n",
    "     panel.first = NULL, panel.last = NULL, asp = NA,\n",
    "     xgap.axis = NA, ygap.axis = NA,\n",
    "     ...)\n",
    "\n",
    "\""
   ]
  },
  {
   "cell_type": "code",
   "execution_count": 1,
   "id": "e1382f34",
   "metadata": {},
   "outputs": [
    {
     "data": {
      "text/html": [
       "<pre class=language-r><code>function (x, y, ...) \n",
       "NULL</code></pre>"
      ],
      "text/latex": [
       "\\begin{minted}{r}\n",
       "function (x, y, ...) \n",
       "NULL\n",
       "\\end{minted}"
      ],
      "text/markdown": [
       "```r\n",
       "function (x, y, ...) \n",
       "NULL\n",
       "```"
      ],
      "text/plain": [
       "function (x, y, ...) \n",
       "NULL"
      ]
     },
     "metadata": {},
     "output_type": "display_data"
    }
   ],
   "source": [
    "args(plot)"
   ]
  },
  {
   "cell_type": "markdown",
   "id": "0d17c86a",
   "metadata": {},
   "source": [
    "\n",
    "\n",
    "    x: The x-axis values.. (should be a numerical vector)\n",
    "    y: The y-axis values.. (should be a numerical vector)\n",
    "    ...: Additional arguments. These can include various graphical parameters, such as type, \n",
    "                               col (color), main (main title), xlab (x-axis label), ylab (y-axis label), etc."
   ]
  },
  {
   "cell_type": "markdown",
   "id": "af0ab4aa",
   "metadata": {},
   "source": [
    "\n",
    "\n",
    "    x: The x-axis values.. (should be a numerical vector)\n",
    "    y: The y-axis values.. (should be a numerical vector)\n",
    "    ...: Additional arguments. These can include various graphical parameters, such as type, \n",
    "                               col (color), main (main title), xlab (x-axis label), ylab (y-axis label), etc."
   ]
  },
  {
   "cell_type": "code",
   "execution_count": null,
   "id": "0d7611b1",
   "metadata": {},
   "outputs": [],
   "source": []
  },
  {
   "cell_type": "code",
   "execution_count": 11,
   "id": "94e84f38",
   "metadata": {},
   "outputs": [],
   "source": [
    "help(layout)"
   ]
  },
  {
   "cell_type": "code",
   "execution_count": 7,
   "id": "6503b569",
   "metadata": {},
   "outputs": [
    {
     "data": {
      "text/html": [
       "<pre class=language-r><code>function (mat, widths = rep.int(1, ncol(mat)), heights = rep.int(1, \n",
       "<span style=white-space:pre-wrap>    nrow(mat)), respect = FALSE) </span>\n",
       "NULL</code></pre>"
      ],
      "text/latex": [
       "\\begin{minted}{r}\n",
       "function (mat, widths = rep.int(1, ncol(mat)), heights = rep.int(1, \n",
       "    nrow(mat)), respect = FALSE) \n",
       "NULL\n",
       "\\end{minted}"
      ],
      "text/markdown": [
       "```r\n",
       "function (mat, widths = rep.int(1, ncol(mat)), heights = rep.int(1, \n",
       "    nrow(mat)), respect = FALSE) \n",
       "NULL\n",
       "```"
      ],
      "text/plain": [
       "function (mat, widths = rep.int(1, ncol(mat)), heights = rep.int(1, \n",
       "    nrow(mat)), respect = FALSE) \n",
       "NULL"
      ]
     },
     "metadata": {},
     "output_type": "display_data"
    }
   ],
   "source": [
    "args(layout)"
   ]
  },
  {
   "cell_type": "markdown",
   "id": "9f44edca",
   "metadata": {},
   "source": [
    "    mat : A matrix specifying the layout. \n",
    "         It can be a numeric matrix, or a two-column matrix of the form cbind(row, col), \n",
    "         where each row represents a separate plot..\n",
    "\n",
    "\n",
    "    widths : A numeric vector specifying the relative widths of the columns in the layout. \n",
    "             The default is rep.int(1, ncol(mat)), which means each column has the same width.\n",
    "\n",
    "    heights : A numeric vector specifying the relative heights of the rows in the layout. \n",
    "              The default is rep.int(1, nrow(mat)), which means each row has the same height.\n"
   ]
  },
  {
   "cell_type": "code",
   "execution_count": 35,
   "id": "048add69",
   "metadata": {},
   "outputs": [
    {
     "data": {
      "image/png": "[encoded data removed]",
      "text/plain": [
       "Plot with title \"Close\""
      ]
     },
     "metadata": {
      "image/png": {
       "height": 720,
       "width": 1200
      }
     },
     "output_type": "display_data"
    }
   ],
   "source": [
    "\n",
    "# Set the plot size\n",
    "# Lets customize the plot size using options() , u can use the repr package !\n",
    "options(repr.plot.width=20, repr.plot.height=12)\n",
    "\n",
    "# Create a layout for subplots\n",
    "layout(matrix(1:4, nrow = 2, ncol = 2))\n",
    "## create layout matrix using layout() to create subplots as a 2x2 grid\n",
    "\n",
    "# Loop through each col\n",
    "for (col in c('Open', 'High', 'Low', 'Close'))\n",
    "{\n",
    "  \n",
    "  # plot this on subplot\n",
    "  plot(data$Date, data[[col]], type = \"l\", xlab = \"Date\", ylab = \"Close\",\n",
    "       main = col)\n",
    "}\n",
    "\n",
    "\n",
    "### do not use data$col , else u will end up getting improper plots !"
   ]
  },
  {
   "cell_type": "code",
   "execution_count": null,
   "id": "32b93688",
   "metadata": {},
   "outputs": [],
   "source": [
    "\"\n",
    "Why data[[col]] in below code instead of data$col :\n",
    "plot(data$Date, data[[col]], type = \"l\", xlab = \"Date\", ylab = \"Close\", main = col)\n",
    "\n",
    "\n",
    "\n",
    "\n",
    "Here's a simple explanation:\n",
    "\n",
    "data$col :  This is used when you know the exact name of the column you want, and you provide it directly. \n",
    "            It's like saying, \"Give me the column named y_axis_fea from the data frame df..\"\n",
    "\n",
    "data[[col]] : This is used when the column name is stored in a variable (col in this case).. \n",
    "              or the column name is generated dynamically using some operation..\n",
    "              It's like saying \"Give me the column whose name is stored in the variable \"col\" from the data frame data\"\n",
    "              ie , Here \"col\" is a variable containing the column name, thats why we will use data[[col]]\n",
    "              As we are accessing col-name via loop , hence we don't know col-name , thats why its good to use data[[col]]\n",
    "\n",
    "Summary:\n",
    "\n",
    "data$col: Use when you know the exact column name.\n",
    "data[[col]]: Use when the column name is stored in a variable or generated dynamically.\n",
    "\n",
    "\n",
    "data[col] ->> is used if u want o/p in dataframe else everything is same..\n",
    "\"\n",
    "\n",
    "\""
   ]
  },
  {
   "cell_type": "code",
   "execution_count": null,
   "id": "0669a3df",
   "metadata": {},
   "outputs": [],
   "source": [
    "\"\n",
    "\n",
    "When you execute :\n",
    "\n",
    "par(mfrow = c(2, 2))\n",
    "OR\n",
    "layout(matrix(1:4, nrow = 2, ncol = 2))\n",
    "\n",
    "par() : function in R that is used to set various graphical parameters for plotting.\n",
    "mfrow : It stands for \"multiple figures in a row,\" and it controls the arrangement of plots.\n",
    "\n",
    "\n",
    "R will create a layout/subplots with 2 rows and 2 columns \n",
    "and subsequent plots that you create using functions \n",
    "like plot() or hist() will be arranged in this grid..\n",
    "\n",
    "Each plot will take up one of the four subplots in the grid\n",
    "\n",
    "\n",
    "\""
   ]
  },
  {
   "cell_type": "code",
   "execution_count": null,
   "id": "906d8d2a",
   "metadata": {},
   "outputs": [],
   "source": []
  },
  {
   "cell_type": "code",
   "execution_count": null,
   "id": "89b2ed13",
   "metadata": {},
   "outputs": [],
   "source": []
  },
  {
   "cell_type": "code",
   "execution_count": null,
   "id": "ae701647",
   "metadata": {},
   "outputs": [],
   "source": []
  },
  {
   "cell_type": "code",
   "execution_count": null,
   "id": "64c2b24e",
   "metadata": {},
   "outputs": [],
   "source": []
  },
  {
   "cell_type": "markdown",
   "id": "66761c09",
   "metadata": {},
   "source": [
    "# 4.. Analysing open , high , low , close value of Bitcoin !\n",
    "    try out candle-stick/ohlc charts ! , both are same .."
   ]
  },
  {
   "cell_type": "code",
   "execution_count": 36,
   "id": "a766ae21",
   "metadata": {},
   "outputs": [
    {
     "data": {
      "text/html": [
       "<style>\n",
       ".list-inline {list-style: none; margin:0; padding: 0}\n",
       ".list-inline>li {display: inline-block}\n",
       ".list-inline>li:not(:last-child)::after {content: \"\\00b7\"; padding: 0 .5ex}\n",
       "</style>\n",
       "<ol class=list-inline><li>1556</li><li>7</li></ol>\n"
      ],
      "text/latex": [
       "\\begin{enumerate*}\n",
       "\\item 1556\n",
       "\\item 7\n",
       "\\end{enumerate*}\n"
      ],
      "text/markdown": [
       "1. 1556\n",
       "2. 7\n",
       "\n",
       "\n"
      ],
      "text/plain": [
       "[1] 1556    7"
      ]
     },
     "metadata": {},
     "output_type": "display_data"
    }
   ],
   "source": [
    "dim(data)"
   ]
  },
  {
   "cell_type": "code",
   "execution_count": 37,
   "id": "be5a4f80",
   "metadata": {},
   "outputs": [],
   "source": [
    "bitcoin_sample = data[1:50 , ]\n",
    "\n",
    "### consider sample of data if u dont have good specifications pc/laptop ..."
   ]
  },
  {
   "cell_type": "code",
   "execution_count": 13,
   "id": "4e75435c",
   "metadata": {},
   "outputs": [],
   "source": [
    "library(plotly)"
   ]
  },
  {
   "cell_type": "code",
   "execution_count": 14,
   "id": "8b287c30",
   "metadata": {},
   "outputs": [
    {
     "data": {
      "text/html": [
       "<pre class=language-r><code>function (data = data.frame(), ..., type = NULL, name, color, \n",
       "<span style=white-space:pre-wrap>    colors = NULL, alpha = NULL, stroke, strokes = NULL, alpha_stroke = 1, </span>\n",
       "<span style=white-space:pre-wrap>    size, sizes = c(10, 100), span, spans = c(1, 20), symbol, </span>\n",
       "<span style=white-space:pre-wrap>    symbols = NULL, linetype, linetypes = NULL, split, frame, </span>\n",
       "<span style=white-space:pre-wrap>    width = NULL, height = NULL, source = \"A\") </span>\n",
       "NULL</code></pre>"
      ],
      "text/latex": [
       "\\begin{minted}{r}\n",
       "function (data = data.frame(), ..., type = NULL, name, color, \n",
       "    colors = NULL, alpha = NULL, stroke, strokes = NULL, alpha\\_stroke = 1, \n",
       "    size, sizes = c(10, 100), span, spans = c(1, 20), symbol, \n",
       "    symbols = NULL, linetype, linetypes = NULL, split, frame, \n",
       "    width = NULL, height = NULL, source = \"A\") \n",
       "NULL\n",
       "\\end{minted}"
      ],
      "text/markdown": [
       "```r\n",
       "function (data = data.frame(), ..., type = NULL, name, color, \n",
       "    colors = NULL, alpha = NULL, stroke, strokes = NULL, alpha_stroke = 1, \n",
       "    size, sizes = c(10, 100), span, spans = c(1, 20), symbol, \n",
       "    symbols = NULL, linetype, linetypes = NULL, split, frame, \n",
       "    width = NULL, height = NULL, source = \"A\") \n",
       "NULL\n",
       "```"
      ],
      "text/plain": [
       "function (data = data.frame(), ..., type = NULL, name, color, \n",
       "    colors = NULL, alpha = NULL, stroke, strokes = NULL, alpha_stroke = 1, \n",
       "    size, sizes = c(10, 100), span, spans = c(1, 20), symbol, \n",
       "    symbols = NULL, linetype, linetypes = NULL, split, frame, \n",
       "    width = NULL, height = NULL, source = \"A\") \n",
       "NULL"
      ]
     },
     "metadata": {},
     "output_type": "display_data"
    }
   ],
   "source": [
    "args(plot_ly)"
   ]
  },
  {
   "cell_type": "code",
   "execution_count": 39,
   "id": "7e0b4f0d",
   "metadata": {},
   "outputs": [],
   "source": [
    "\n",
    "# Assuming bitcoin_sample is your data frame\n",
    "\n",
    "candlestick = plot_ly(\n",
    "  x = bitcoin_sample$Date , ## make sure \"Date\" col should be in date-time format for better plot \n",
    "  type = \"candlestick\" ,\n",
    "  open = bitcoin_sample$Open ,\n",
    "  high = bitcoin_sample$High ,\n",
    "  low = bitcoin_sample$Low ,\n",
    "  close = bitcoin_sample$Close \n",
    ")\n",
    "\n",
    "\n",
    "## plot_ly(bitcoin_sample, type = \"candlestick\", x = ~Date, open = ~Open, high = ~High, low = ~Low, close = ~Close)"
   ]
  },
  {
   "cell_type": "code",
   "execution_count": null,
   "id": "4243a365",
   "metadata": {},
   "outputs": [],
   "source": [
    "# Show the candlestick chart\n",
    "candlestick"
   ]
  },
  {
   "cell_type": "code",
   "execution_count": 42,
   "id": "04b5f33d",
   "metadata": {},
   "outputs": [],
   "source": []
  },
  {
   "cell_type": "code",
   "execution_count": null,
   "id": "bf4fd93a",
   "metadata": {},
   "outputs": [],
   "source": [
    "?plotly :: layout\n",
    "\n",
    "###  help(plotly :: layout) => will not work..\n",
    "\n",
    "## This function is used to set layout properties for the plot or Modify the layout of a plotly visualization"
   ]
  },
  {
   "cell_type": "code",
   "execution_count": null,
   "id": "744f8f50",
   "metadata": {},
   "outputs": [],
   "source": [
    "\"\n",
    "From official documentation : \n",
    "\n",
    "layout(p, ..., data = NULL)\n",
    "\n",
    "p = plotly graph object\n",
    "\n",
    "\""
   ]
  },
  {
   "cell_type": "code",
   "execution_count": null,
   "id": "beaae2c7",
   "metadata": {},
   "outputs": [],
   "source": [
    "\"\n",
    "\n",
    "from chatgpt : \n",
    "Here's a summary of the layout() function and some of its commonly used parameters : \n",
    "\n",
    "layout(\n",
    "  title = NULL,\n",
    "  xaxis = NULL,\n",
    "  yaxis = NULL,\n",
    "  annotations = NULL,\n",
    "  legend = NULL,\n",
    "  margin = NULL,\n",
    "  hovermode = NULL,\n",
    "  barmode = NULL,\n",
    "  plot_bgcolor = NULL,\n",
    "  paper_bgcolor = NULL,\n",
    "  ...\n",
    ")\n",
    "\n",
    "\n",
    "\""
   ]
  },
  {
   "cell_type": "code",
   "execution_count": 10,
   "id": "54cb03e2",
   "metadata": {},
   "outputs": [
    {
     "data": {
      "text/html": [
       "<pre class=language-r><code>function (p, ..., data = NULL) \n",
       "NULL</code></pre>"
      ],
      "text/latex": [
       "\\begin{minted}{r}\n",
       "function (p, ..., data = NULL) \n",
       "NULL\n",
       "\\end{minted}"
      ],
      "text/markdown": [
       "```r\n",
       "function (p, ..., data = NULL) \n",
       "NULL\n",
       "```"
      ],
      "text/plain": [
       "function (p, ..., data = NULL) \n",
       "NULL"
      ]
     },
     "metadata": {},
     "output_type": "display_data"
    }
   ],
   "source": [
    "args(plotly :: layout)\n",
    "\n",
    "### as we have layout in base-R as well , \n",
    "### that's why it is good to use plotly :: layout"
   ]
  },
  {
   "cell_type": "markdown",
   "id": "b79a7087",
   "metadata": {},
   "source": [
    "        p : This is typically a plotly object (e.g., the result of a plot_ly() call). \n",
    "            The layout function is applied to this plotly object to customize plot \n",
    "\n",
    "        ... : This ellipsis (...) is telling , it can receive multiple arguments.. \n",
    "              In case of the layout function, it allows you to pass those parameters \n",
    "              which can customize title, axis labels, annotations, etc."
   ]
  },
  {
   "cell_type": "code",
   "execution_count": null,
   "id": "865d6e71",
   "metadata": {},
   "outputs": [],
   "source": [
    "\"\n",
    "\n",
    "fig = layout(candlestick , list(\n",
    "  title = \"Bitcoin Candlestick Chart\",\n",
    "  xaxis = list(title = \"Date\"),\n",
    "  yaxis = list(title = \"Price\")\n",
    ")\n",
    "\n",
    "\n",
    "fig\n",
    "\n",
    "\"\n",
    "\n",
    "### lets apply dplyr chaining to make it more interactive !\n",
    "### Make sure u have imported dplyr , bcz %>% (pipe) operator is defined in this package.."
   ]
  },
  {
   "cell_type": "code",
   "execution_count": null,
   "id": "35dc5c52",
   "metadata": {},
   "outputs": [],
   "source": [
    "\n",
    "# Set Layout\n",
    "layout = list(\n",
    "  title = \"Bitcoin Candlestick Chart\",\n",
    "  xaxis = list(title = \"Date\"),\n",
    "  yaxis = list(title = \"Price\")\n",
    ")\n",
    "\n",
    "\n",
    "# Create Figure\n",
    "fig = candlestick %>% layout(layout)\n",
    "\n",
    "# Display the Plot\n",
    "# fig"
   ]
  },
  {
   "cell_type": "code",
   "execution_count": null,
   "id": "dbd06edd",
   "metadata": {},
   "outputs": [],
   "source": []
  },
  {
   "cell_type": "code",
   "execution_count": null,
   "id": "b69fcac7",
   "metadata": {},
   "outputs": [],
   "source": []
  },
  {
   "cell_type": "code",
   "execution_count": null,
   "id": "727c1823",
   "metadata": {},
   "outputs": [],
   "source": []
  },
  {
   "cell_type": "code",
   "execution_count": null,
   "id": "f36614ca",
   "metadata": {},
   "outputs": [],
   "source": []
  },
  {
   "cell_type": "code",
   "execution_count": null,
   "id": "9a68d505",
   "metadata": {},
   "outputs": [],
   "source": []
  },
  {
   "cell_type": "code",
   "execution_count": null,
   "id": "cc63210d",
   "metadata": {},
   "outputs": [],
   "source": []
  },
  {
   "cell_type": "code",
   "execution_count": null,
   "id": "5b18fda5",
   "metadata": {},
   "outputs": [],
   "source": []
  },
  {
   "cell_type": "markdown",
   "id": "4f094ef1",
   "metadata": {},
   "source": [
    "# 5.. Analysing closing price (on normal scale & log-scale)"
   ]
  },
  {
   "cell_type": "code",
   "execution_count": 43,
   "id": "9edacd7c",
   "metadata": {},
   "outputs": [
    {
     "data": {
      "text/html": [
       "<table class=\"dataframe\">\n",
       "<caption>A data.frame: 2 × 7</caption>\n",
       "<thead>\n",
       "\t<tr><th></th><th scope=col>Date</th><th scope=col>Open</th><th scope=col>High</th><th scope=col>Low</th><th scope=col>Close</th><th scope=col>Volume</th><th scope=col>Market.Cap</th></tr>\n",
       "\t<tr><th></th><th scope=col>&lt;date&gt;</th><th scope=col>&lt;dbl&gt;</th><th scope=col>&lt;dbl&gt;</th><th scope=col>&lt;dbl&gt;</th><th scope=col>&lt;dbl&gt;</th><th scope=col>&lt;chr&gt;</th><th scope=col>&lt;chr&gt;</th></tr>\n",
       "</thead>\n",
       "<tbody>\n",
       "\t<tr><th scope=row>1</th><td>2013-04-28</td><td>135.30</td><td>135.98</td><td>132.1</td><td>134.21</td><td>-</td><td>1,500,520,000</td></tr>\n",
       "\t<tr><th scope=row>2</th><td>2013-04-29</td><td>134.44</td><td>147.49</td><td>134.0</td><td>144.54</td><td>-</td><td>1,491,160,000</td></tr>\n",
       "</tbody>\n",
       "</table>\n"
      ],
      "text/latex": [
       "A data.frame: 2 × 7\n",
       "\\begin{tabular}{r|lllllll}\n",
       "  & Date & Open & High & Low & Close & Volume & Market.Cap\\\\\n",
       "  & <date> & <dbl> & <dbl> & <dbl> & <dbl> & <chr> & <chr>\\\\\n",
       "\\hline\n",
       "\t1 & 2013-04-28 & 135.30 & 135.98 & 132.1 & 134.21 & - & 1,500,520,000\\\\\n",
       "\t2 & 2013-04-29 & 134.44 & 147.49 & 134.0 & 144.54 & - & 1,491,160,000\\\\\n",
       "\\end{tabular}\n"
      ],
      "text/markdown": [
       "\n",
       "A data.frame: 2 × 7\n",
       "\n",
       "| <!--/--> | Date &lt;date&gt; | Open &lt;dbl&gt; | High &lt;dbl&gt; | Low &lt;dbl&gt; | Close &lt;dbl&gt; | Volume &lt;chr&gt; | Market.Cap &lt;chr&gt; |\n",
       "|---|---|---|---|---|---|---|---|\n",
       "| 1 | 2013-04-28 | 135.30 | 135.98 | 132.1 | 134.21 | - | 1,500,520,000 |\n",
       "| 2 | 2013-04-29 | 134.44 | 147.49 | 134.0 | 144.54 | - | 1,491,160,000 |\n",
       "\n"
      ],
      "text/plain": [
       "  Date       Open   High   Low   Close  Volume Market.Cap   \n",
       "1 2013-04-28 135.30 135.98 132.1 134.21 -      1,500,520,000\n",
       "2 2013-04-29 134.44 147.49 134.0 144.54 -      1,491,160,000"
      ]
     },
     "metadata": {},
     "output_type": "display_data"
    }
   ],
   "source": [
    "head(data , 2)"
   ]
  },
  {
   "cell_type": "code",
   "execution_count": 1,
   "id": "180ff8db",
   "metadata": {},
   "outputs": [],
   "source": [
    "help(plot)"
   ]
  },
  {
   "cell_type": "code",
   "execution_count": null,
   "id": "810f74c0",
   "metadata": {},
   "outputs": [],
   "source": [
    "\"\n",
    "\n",
    "## Default S3 method :\n",
    "plot(x, y = NULL, type = \"p\",  xlim = NULL, ylim = NULL,\n",
    "     log = \"\", main = NULL, sub = NULL, xlab = NULL, ylab = NULL,\n",
    "     ann = par(\"ann\"), axes = TRUE, frame.plot = axes,\n",
    "     panel.first = NULL, panel.last = NULL, asp = NA,\n",
    "     xgap.axis = NA, ygap.axis = NA,\n",
    "     ...)\n",
    "\n",
    "\""
   ]
  },
  {
   "cell_type": "code",
   "execution_count": 11,
   "id": "8a25bbe6",
   "metadata": {},
   "outputs": [
    {
     "data": {
      "text/html": [
       "<pre class=language-r><code>function (x, y, ...) \n",
       "NULL</code></pre>"
      ],
      "text/latex": [
       "\\begin{minted}{r}\n",
       "function (x, y, ...) \n",
       "NULL\n",
       "\\end{minted}"
      ],
      "text/markdown": [
       "```r\n",
       "function (x, y, ...) \n",
       "NULL\n",
       "```"
      ],
      "text/plain": [
       "function (x, y, ...) \n",
       "NULL"
      ]
     },
     "metadata": {},
     "output_type": "display_data"
    }
   ],
   "source": [
    "args(plot)"
   ]
  },
  {
   "cell_type": "markdown",
   "id": "fb819fc8",
   "metadata": {},
   "source": [
    "\n",
    "\n",
    "    x: The x-axis values.. (should be a numerical vector)\n",
    "    y: The y-axis values.. (should be a numerical vector)\n",
    "    ...: Additional arguments. These can include various graphical parameters, such as type, \n",
    "                               col (color), main (main title), xlab (x-axis label), ylab (y-axis label), etc."
   ]
  },
  {
   "cell_type": "code",
   "execution_count": 82,
   "id": "09596b4d",
   "metadata": {},
   "outputs": [
    {
     "data": {
      "image/png": "[encoded data removed]",
      "text/plain": [
       "plot without title"
      ]
     },
     "metadata": {
      "image/png": {
       "height": 480,
       "width": 720
      }
     },
     "output_type": "display_data"
    }
   ],
   "source": [
    "options(repr.plot.width=12, repr.plot.height=8) \n",
    "# Lets customize the plot size using options() , u can use the repr package !\n",
    "\n",
    "plot(data$Date, data$Close , type=\"l\")"
   ]
  },
  {
   "cell_type": "code",
   "execution_count": null,
   "id": "6bea6670",
   "metadata": {},
   "outputs": [],
   "source": []
  },
  {
   "cell_type": "code",
   "execution_count": null,
   "id": "3fe6f244",
   "metadata": {},
   "outputs": [],
   "source": []
  },
  {
   "cell_type": "code",
   "execution_count": 85,
   "id": "78847aa6",
   "metadata": {},
   "outputs": [
    {
     "data": {
      "text/html": [
       "<style>\n",
       ".list-inline {list-style: none; margin:0; padding: 0}\n",
       ".list-inline>li {display: inline-block}\n",
       ".list-inline>li:not(:last-child)::after {content: \"\\00b7\"; padding: 0 .5ex}\n",
       "</style>\n",
       "<ol class=list-inline><li>134.21</li><li>144.54</li><li>139</li><li>116.99</li><li>105.21</li><li>97.75</li><li>112.5</li><li>115.91</li><li>112.3</li><li>111.5</li></ol>\n"
      ],
      "text/latex": [
       "\\begin{enumerate*}\n",
       "\\item 134.21\n",
       "\\item 144.54\n",
       "\\item 139\n",
       "\\item 116.99\n",
       "\\item 105.21\n",
       "\\item 97.75\n",
       "\\item 112.5\n",
       "\\item 115.91\n",
       "\\item 112.3\n",
       "\\item 111.5\n",
       "\\end{enumerate*}\n"
      ],
      "text/markdown": [
       "1. 134.21\n",
       "2. 144.54\n",
       "3. 139\n",
       "4. 116.99\n",
       "5. 105.21\n",
       "6. 97.75\n",
       "7. 112.5\n",
       "8. 115.91\n",
       "9. 112.3\n",
       "10. 111.5\n",
       "\n",
       "\n"
      ],
      "text/plain": [
       " [1] 134.21 144.54 139.00 116.99 105.21  97.75 112.50 115.91 112.30 111.50"
      ]
     },
     "metadata": {},
     "output_type": "display_data"
    }
   ],
   "source": [
    "data$Close[1:10]"
   ]
  },
  {
   "cell_type": "code",
   "execution_count": 84,
   "id": "4c768e14",
   "metadata": {},
   "outputs": [
    {
     "data": {
      "text/html": [
       "<style>\n",
       ".list-inline {list-style: none; margin:0; padding: 0}\n",
       ".list-inline>li {display: inline-block}\n",
       ".list-inline>li:not(:last-child)::after {content: \"\\00b7\"; padding: 0 .5ex}\n",
       "</style>\n",
       "<ol class=list-inline><li>4.90682912537067</li><li>4.98045096291894</li><li>4.9416424226093</li><li>4.77059987511183</li><li>4.66541826633345</li><li>4.59259140378123</li><li>4.73180283692146</li><li>4.76140440801873</li><li>4.73003916803396</li><li>4.72295322164447</li></ol>\n"
      ],
      "text/latex": [
       "\\begin{enumerate*}\n",
       "\\item 4.90682912537067\n",
       "\\item 4.98045096291894\n",
       "\\item 4.9416424226093\n",
       "\\item 4.77059987511183\n",
       "\\item 4.66541826633345\n",
       "\\item 4.59259140378123\n",
       "\\item 4.73180283692146\n",
       "\\item 4.76140440801873\n",
       "\\item 4.73003916803396\n",
       "\\item 4.72295322164447\n",
       "\\end{enumerate*}\n"
      ],
      "text/markdown": [
       "1. 4.90682912537067\n",
       "2. 4.98045096291894\n",
       "3. 4.9416424226093\n",
       "4. 4.77059987511183\n",
       "5. 4.66541826633345\n",
       "6. 4.59259140378123\n",
       "7. 4.73180283692146\n",
       "8. 4.76140440801873\n",
       "9. 4.73003916803396\n",
       "10. 4.72295322164447\n",
       "\n",
       "\n"
      ],
      "text/plain": [
       " [1] 4.906829 4.980451 4.941642 4.770600 4.665418 4.592591 4.731803 4.761404\n",
       " [9] 4.730039 4.722953"
      ]
     },
     "metadata": {},
     "output_type": "display_data"
    }
   ],
   "source": [
    "log1p(data$Close)[1:10]"
   ]
  },
  {
   "cell_type": "code",
   "execution_count": null,
   "id": "d6a144d6",
   "metadata": {},
   "outputs": [],
   "source": []
  },
  {
   "cell_type": "code",
   "execution_count": 86,
   "id": "a90dd6e6",
   "metadata": {},
   "outputs": [
    {
     "data": {
      "image/png": "[encoded data removed]",
      "text/plain": [
       "plot without title"
      ]
     },
     "metadata": {
      "image/png": {
       "height": 480,
       "width": 720
      }
     },
     "output_type": "display_data"
    }
   ],
   "source": [
    "options(repr.plot.width=12 , repr.plot.height=8)\n",
    "plot(data$Date , log1p(data$Close) , type=\"l\")"
   ]
  },
  {
   "cell_type": "code",
   "execution_count": null,
   "id": "fa0ee05f",
   "metadata": {},
   "outputs": [],
   "source": []
  },
  {
   "cell_type": "code",
   "execution_count": 89,
   "id": "d309437e",
   "metadata": {},
   "outputs": [
    {
     "data": {
      "image/png": "[encoded data removed]",
      "text/plain": [
       "Plot with title \"Log scaling\""
      ]
     },
     "metadata": {
      "image/png": {
       "height": 480,
       "width": 720
      }
     },
     "output_type": "display_data"
    }
   ],
   "source": [
    "# Set the plot size\n",
    "layout(matrix(1:2, nrow = 1, ncol = 2))\n",
    "## create layout matrix using layout() to create subplots as a 1x2 grid\n",
    "\n",
    "# Plot 1: No scaling\n",
    "plot(data$Date , data$Close, type='l', main='No scaling', \n",
    "     ylab='Close', xlab='Date')\n",
    "\n",
    "# Plot 2: Log scaling\n",
    "plot(data$Date , log1p(data$Close), type='l', main='Log scaling', \n",
    "     ylab='log(Close)', xlab='Date')\n"
   ]
  },
  {
   "cell_type": "code",
   "execution_count": null,
   "id": "115b5618",
   "metadata": {},
   "outputs": [],
   "source": [
    "### Logarithmic price scales are better than linear price scales at \n",
    "### showing less severe price increases or decreases..\n",
    "\n",
    "### log scale is always better if u have outliers or some high values in data"
   ]
  },
  {
   "cell_type": "code",
   "execution_count": null,
   "id": "0ad436c9",
   "metadata": {},
   "outputs": [],
   "source": [
    "'''\n",
    "\n",
    "\n",
    "Some features of the plot above:\n",
    "\n",
    "    There is an up-ward trend from 2016 for each graph\n",
    "    There is no seasonality\n",
    "    There are no outliers\n",
    "\n",
    "\n",
    "'''"
   ]
  },
  {
   "cell_type": "code",
   "execution_count": null,
   "id": "6832725d",
   "metadata": {},
   "outputs": [],
   "source": []
  },
  {
   "cell_type": "code",
   "execution_count": null,
   "id": "ca99fe5b",
   "metadata": {},
   "outputs": [],
   "source": []
  },
  {
   "cell_type": "code",
   "execution_count": null,
   "id": "956086cb",
   "metadata": {},
   "outputs": [],
   "source": []
  },
  {
   "cell_type": "code",
   "execution_count": null,
   "id": "1eeb74e1",
   "metadata": {},
   "outputs": [],
   "source": []
  },
  {
   "cell_type": "markdown",
   "id": "99e464bb",
   "metadata": {},
   "source": [
    "# 6.. Analyse closing Price on Yearly , Quarterly , monthly basis !"
   ]
  },
  {
   "cell_type": "code",
   "execution_count": null,
   "id": "0f9bb9ee",
   "metadata": {},
   "outputs": [],
   "source": [
    "'''\n",
    "    \n",
    "    a..yearly('Y')  , \n",
    "    b..quarterly('Q')   ,\n",
    "    c..monthly('M') ,\n",
    "    d..weekly basis ('W'), \n",
    "    e..Daily_basis('D')  \n",
    "    f..minutes ('3T') , \n",
    "    g..30 second bins('30S')   ,\n",
    "    h..resample('17min')\n",
    "    \n",
    "'''"
   ]
  },
  {
   "cell_type": "code",
   "execution_count": 90,
   "id": "553524dc",
   "metadata": {},
   "outputs": [
    {
     "data": {
      "text/html": [
       "<table class=\"dataframe\">\n",
       "<caption>A data.frame: 2 × 7</caption>\n",
       "<thead>\n",
       "\t<tr><th></th><th scope=col>Date</th><th scope=col>Open</th><th scope=col>High</th><th scope=col>Low</th><th scope=col>Close</th><th scope=col>Volume</th><th scope=col>Market.Cap</th></tr>\n",
       "\t<tr><th></th><th scope=col>&lt;dttm&gt;</th><th scope=col>&lt;dbl&gt;</th><th scope=col>&lt;dbl&gt;</th><th scope=col>&lt;dbl&gt;</th><th scope=col>&lt;dbl&gt;</th><th scope=col>&lt;chr&gt;</th><th scope=col>&lt;chr&gt;</th></tr>\n",
       "</thead>\n",
       "<tbody>\n",
       "\t<tr><th scope=row>1</th><td>2013-04-28</td><td>135.30</td><td>135.98</td><td>132.1</td><td>134.21</td><td>-</td><td>1,500,520,000</td></tr>\n",
       "\t<tr><th scope=row>2</th><td>2013-04-29</td><td>134.44</td><td>147.49</td><td>134.0</td><td>144.54</td><td>-</td><td>1,491,160,000</td></tr>\n",
       "</tbody>\n",
       "</table>\n"
      ],
      "text/latex": [
       "A data.frame: 2 × 7\n",
       "\\begin{tabular}{r|lllllll}\n",
       "  & Date & Open & High & Low & Close & Volume & Market.Cap\\\\\n",
       "  & <dttm> & <dbl> & <dbl> & <dbl> & <dbl> & <chr> & <chr>\\\\\n",
       "\\hline\n",
       "\t1 & 2013-04-28 & 135.30 & 135.98 & 132.1 & 134.21 & - & 1,500,520,000\\\\\n",
       "\t2 & 2013-04-29 & 134.44 & 147.49 & 134.0 & 144.54 & - & 1,491,160,000\\\\\n",
       "\\end{tabular}\n"
      ],
      "text/markdown": [
       "\n",
       "A data.frame: 2 × 7\n",
       "\n",
       "| <!--/--> | Date &lt;dttm&gt; | Open &lt;dbl&gt; | High &lt;dbl&gt; | Low &lt;dbl&gt; | Close &lt;dbl&gt; | Volume &lt;chr&gt; | Market.Cap &lt;chr&gt; |\n",
       "|---|---|---|---|---|---|---|---|\n",
       "| 1 | 2013-04-28 | 135.30 | 135.98 | 132.1 | 134.21 | - | 1,500,520,000 |\n",
       "| 2 | 2013-04-29 | 134.44 | 147.49 | 134.0 | 144.54 | - | 1,491,160,000 |\n",
       "\n"
      ],
      "text/plain": [
       "  Date       Open   High   Low   Close  Volume Market.Cap   \n",
       "1 2013-04-28 135.30 135.98 132.1 134.21 -      1,500,520,000\n",
       "2 2013-04-29 134.44 147.49 134.0 144.54 -      1,491,160,000"
      ]
     },
     "metadata": {},
     "output_type": "display_data"
    }
   ],
   "source": [
    "head(data , 2)\n",
    "\n",
    "### it date belongs to character "
   ]
  },
  {
   "cell_type": "code",
   "execution_count": null,
   "id": "1b20f8db",
   "metadata": {},
   "outputs": [],
   "source": []
  },
  {
   "cell_type": "code",
   "execution_count": 1,
   "id": "de82230a",
   "metadata": {},
   "outputs": [],
   "source": [
    "help(format)"
   ]
  },
  {
   "cell_type": "code",
   "execution_count": null,
   "id": "5134f943",
   "metadata": {},
   "outputs": [],
   "source": [
    "\"\n",
    "\n",
    "x : This parameter represents the object you want to format. It could be a numeric value, a date,\n",
    "    or any other data type that the format() function can handle.\n",
    "\n",
    "\n",
    "... : The ellipsis (...) allows you to pass additional arguments to the format() function. \n",
    "        These arguments vary depending on the type of object you are formatting. \n",
    "        For example, if you're formatting a date, you might pass arguments to specify the format in which you want the date \n",
    "        to appear.\n",
    "\n",
    "\n",
    "\""
   ]
  },
  {
   "cell_type": "code",
   "execution_count": 3,
   "id": "a66cbec3",
   "metadata": {},
   "outputs": [
    {
     "data": {
      "text/html": [
       "<pre class=language-r><code>function (x, ...) \n",
       "NULL</code></pre>"
      ],
      "text/latex": [
       "\\begin{minted}{r}\n",
       "function (x, ...) \n",
       "NULL\n",
       "\\end{minted}"
      ],
      "text/markdown": [
       "```r\n",
       "function (x, ...) \n",
       "NULL\n",
       "```"
      ],
      "text/plain": [
       "function (x, ...) \n",
       "NULL"
      ]
     },
     "metadata": {},
     "output_type": "display_data"
    }
   ],
   "source": [
    "args(format)"
   ]
  },
  {
   "cell_type": "code",
   "execution_count": null,
   "id": "8a5ea7ea",
   "metadata": {},
   "outputs": [],
   "source": []
  },
  {
   "cell_type": "code",
   "execution_count": 91,
   "id": "72c784b3",
   "metadata": {},
   "outputs": [],
   "source": [
    "# Extract year and month from the 'date' column\n",
    "data$year = base :: format(data$Date, \"%Y\")\n",
    "## data$year = base :: format(x = data$Date, format = \"%Y\") \n",
    "\n",
    "data$month = base :: format(data$Date, \"%m\")"
   ]
  },
  {
   "cell_type": "code",
   "execution_count": 92,
   "id": "05205a32",
   "metadata": {},
   "outputs": [
    {
     "data": {
      "text/html": [
       "2"
      ],
      "text/latex": [
       "2"
      ],
      "text/markdown": [
       "2"
      ],
      "text/plain": [
       "[1] 2"
      ]
     },
     "metadata": {},
     "output_type": "display_data"
    }
   ],
   "source": [
    "ceiling(4/3)\n",
    "\n",
    "## ie if month is 4 , then it is 2nd quarter !"
   ]
  },
  {
   "cell_type": "code",
   "execution_count": 93,
   "id": "f84f7eb3",
   "metadata": {},
   "outputs": [],
   "source": [
    "# Calculate the quarter based on the month\n",
    "data$quarter = ceiling(as.numeric(data$month) / 3)"
   ]
  },
  {
   "cell_type": "code",
   "execution_count": 94,
   "id": "7284a984",
   "metadata": {},
   "outputs": [],
   "source": [
    "data$day_name = format(data$Date, \"%A\")"
   ]
  },
  {
   "cell_type": "code",
   "execution_count": null,
   "id": "a71ff0ed",
   "metadata": {},
   "outputs": [],
   "source": []
  },
  {
   "cell_type": "code",
   "execution_count": null,
   "id": "77645173",
   "metadata": {},
   "outputs": [],
   "source": []
  },
  {
   "cell_type": "markdown",
   "id": "28d01e9f",
   "metadata": {},
   "source": [
    "### Perform Resample analysis on Monthly basis !"
   ]
  },
  {
   "cell_type": "code",
   "execution_count": 98,
   "id": "7c6e40ff",
   "metadata": {},
   "outputs": [
    {
     "data": {
      "text/html": [
       "<table class=\"dataframe\">\n",
       "<caption>A data.frame: 5 × 11</caption>\n",
       "<thead>\n",
       "\t<tr><th></th><th scope=col>Date</th><th scope=col>Open</th><th scope=col>High</th><th scope=col>Low</th><th scope=col>Close</th><th scope=col>Volume</th><th scope=col>Market.Cap</th><th scope=col>year</th><th scope=col>month</th><th scope=col>quarter</th><th scope=col>weekday</th></tr>\n",
       "\t<tr><th></th><th scope=col>&lt;dttm&gt;</th><th scope=col>&lt;dbl&gt;</th><th scope=col>&lt;dbl&gt;</th><th scope=col>&lt;dbl&gt;</th><th scope=col>&lt;dbl&gt;</th><th scope=col>&lt;chr&gt;</th><th scope=col>&lt;chr&gt;</th><th scope=col>&lt;chr&gt;</th><th scope=col>&lt;chr&gt;</th><th scope=col>&lt;dbl&gt;</th><th scope=col>&lt;chr&gt;</th></tr>\n",
       "</thead>\n",
       "<tbody>\n",
       "\t<tr><th scope=row>1</th><td>2013-04-28</td><td>135.30</td><td>135.98</td><td>132.10</td><td>134.21</td><td>-</td><td>1,500,520,000</td><td>2013</td><td>04</td><td>2</td><td>Sunday   </td></tr>\n",
       "\t<tr><th scope=row>2</th><td>2013-04-29</td><td>134.44</td><td>147.49</td><td>134.00</td><td>144.54</td><td>-</td><td>1,491,160,000</td><td>2013</td><td>04</td><td>2</td><td>Monday   </td></tr>\n",
       "\t<tr><th scope=row>3</th><td>2013-04-30</td><td>144.00</td><td>146.93</td><td>134.05</td><td>139.00</td><td>-</td><td>1,597,780,000</td><td>2013</td><td>04</td><td>2</td><td>Tuesday  </td></tr>\n",
       "\t<tr><th scope=row>4</th><td>2013-05-01</td><td>139.00</td><td>139.89</td><td>107.72</td><td>116.99</td><td>-</td><td>1,542,820,000</td><td>2013</td><td>05</td><td>2</td><td>Wednesday</td></tr>\n",
       "\t<tr><th scope=row>5</th><td>2013-05-02</td><td>116.38</td><td>125.60</td><td> 92.28</td><td>105.21</td><td>-</td><td>1,292,190,000</td><td>2013</td><td>05</td><td>2</td><td>Thursday </td></tr>\n",
       "</tbody>\n",
       "</table>\n"
      ],
      "text/latex": [
       "A data.frame: 5 × 11\n",
       "\\begin{tabular}{r|lllllllllll}\n",
       "  & Date & Open & High & Low & Close & Volume & Market.Cap & year & month & quarter & weekday\\\\\n",
       "  & <dttm> & <dbl> & <dbl> & <dbl> & <dbl> & <chr> & <chr> & <chr> & <chr> & <dbl> & <chr>\\\\\n",
       "\\hline\n",
       "\t1 & 2013-04-28 & 135.30 & 135.98 & 132.10 & 134.21 & - & 1,500,520,000 & 2013 & 04 & 2 & Sunday   \\\\\n",
       "\t2 & 2013-04-29 & 134.44 & 147.49 & 134.00 & 144.54 & - & 1,491,160,000 & 2013 & 04 & 2 & Monday   \\\\\n",
       "\t3 & 2013-04-30 & 144.00 & 146.93 & 134.05 & 139.00 & - & 1,597,780,000 & 2013 & 04 & 2 & Tuesday  \\\\\n",
       "\t4 & 2013-05-01 & 139.00 & 139.89 & 107.72 & 116.99 & - & 1,542,820,000 & 2013 & 05 & 2 & Wednesday\\\\\n",
       "\t5 & 2013-05-02 & 116.38 & 125.60 &  92.28 & 105.21 & - & 1,292,190,000 & 2013 & 05 & 2 & Thursday \\\\\n",
       "\\end{tabular}\n"
      ],
      "text/markdown": [
       "\n",
       "A data.frame: 5 × 11\n",
       "\n",
       "| <!--/--> | Date &lt;dttm&gt; | Open &lt;dbl&gt; | High &lt;dbl&gt; | Low &lt;dbl&gt; | Close &lt;dbl&gt; | Volume &lt;chr&gt; | Market.Cap &lt;chr&gt; | year &lt;chr&gt; | month &lt;chr&gt; | quarter &lt;dbl&gt; | weekday &lt;chr&gt; |\n",
       "|---|---|---|---|---|---|---|---|---|---|---|---|\n",
       "| 1 | 2013-04-28 | 135.30 | 135.98 | 132.10 | 134.21 | - | 1,500,520,000 | 2013 | 04 | 2 | Sunday    |\n",
       "| 2 | 2013-04-29 | 134.44 | 147.49 | 134.00 | 144.54 | - | 1,491,160,000 | 2013 | 04 | 2 | Monday    |\n",
       "| 3 | 2013-04-30 | 144.00 | 146.93 | 134.05 | 139.00 | - | 1,597,780,000 | 2013 | 04 | 2 | Tuesday   |\n",
       "| 4 | 2013-05-01 | 139.00 | 139.89 | 107.72 | 116.99 | - | 1,542,820,000 | 2013 | 05 | 2 | Wednesday |\n",
       "| 5 | 2013-05-02 | 116.38 | 125.60 |  92.28 | 105.21 | - | 1,292,190,000 | 2013 | 05 | 2 | Thursday  |\n",
       "\n"
      ],
      "text/plain": [
       "  Date       Open   High   Low    Close  Volume Market.Cap    year month\n",
       "1 2013-04-28 135.30 135.98 132.10 134.21 -      1,500,520,000 2013 04   \n",
       "2 2013-04-29 134.44 147.49 134.00 144.54 -      1,491,160,000 2013 04   \n",
       "3 2013-04-30 144.00 146.93 134.05 139.00 -      1,597,780,000 2013 04   \n",
       "4 2013-05-01 139.00 139.89 107.72 116.99 -      1,542,820,000 2013 05   \n",
       "5 2013-05-02 116.38 125.60  92.28 105.21 -      1,292,190,000 2013 05   \n",
       "  quarter weekday  \n",
       "1 2       Sunday   \n",
       "2 2       Monday   \n",
       "3 2       Tuesday  \n",
       "4 2       Wednesday\n",
       "5 2       Thursday "
      ]
     },
     "metadata": {},
     "output_type": "display_data"
    }
   ],
   "source": [
    "head(data , 5)"
   ]
  },
  {
   "cell_type": "code",
   "execution_count": null,
   "id": "09faa892",
   "metadata": {},
   "outputs": [],
   "source": []
  },
  {
   "cell_type": "code",
   "execution_count": null,
   "id": "9916c9d6",
   "metadata": {},
   "outputs": [],
   "source": []
  },
  {
   "cell_type": "code",
   "execution_count": 6,
   "id": "04b86916",
   "metadata": {},
   "outputs": [],
   "source": [
    "library(dplyr)"
   ]
  },
  {
   "cell_type": "code",
   "execution_count": null,
   "id": "79f40501",
   "metadata": {},
   "outputs": [],
   "source": [
    "help(group_by)\n",
    "\n",
    "### Group by one or more variables !"
   ]
  },
  {
   "cell_type": "code",
   "execution_count": 7,
   "id": "6813e5ed",
   "metadata": {},
   "outputs": [
    {
     "data": {
      "text/html": [
       "<pre class=language-r><code>function (.data, ..., .add = FALSE, .drop = group_by_drop_default(.data)) \n",
       "NULL</code></pre>"
      ],
      "text/latex": [
       "\\begin{minted}{r}\n",
       "function (.data, ..., .add = FALSE, .drop = group\\_by\\_drop\\_default(.data)) \n",
       "NULL\n",
       "\\end{minted}"
      ],
      "text/markdown": [
       "```r\n",
       "function (.data, ..., .add = FALSE, .drop = group_by_drop_default(.data)) \n",
       "NULL\n",
       "```"
      ],
      "text/plain": [
       "function (.data, ..., .add = FALSE, .drop = group_by_drop_default(.data)) \n",
       "NULL"
      ]
     },
     "metadata": {},
     "output_type": "display_data"
    }
   ],
   "source": [
    "args(group_by)"
   ]
  },
  {
   "cell_type": "markdown",
   "id": "37b3dd70",
   "metadata": {},
   "source": [
    "    .data: This is the data frame that you want to group. \n",
    "            It represents the dataset on which u want to apply groupby()\n",
    "\n",
    "    ...: The ellipsis (...) is a placeholder for additional arguments. \n",
    "        In the case of group_by(), it allows you to specify the grouping columns. \n",
    "        You can provide column names, expressions, or functions that generate the grouping variables.\n"
   ]
  },
  {
   "cell_type": "code",
   "execution_count": null,
   "id": "54592989",
   "metadata": {},
   "outputs": [],
   "source": []
  },
  {
   "cell_type": "code",
   "execution_count": null,
   "id": "50125723",
   "metadata": {},
   "outputs": [],
   "source": [
    "help(summarise)"
   ]
  },
  {
   "cell_type": "code",
   "execution_count": null,
   "id": "7171a63f",
   "metadata": {},
   "outputs": [],
   "source": [
    "\"\n",
    "\n",
    "summarise() creates a new data frame..\n",
    "It returns one value/row for each combination of grouping variables ;\n",
    "                    OR\n",
    "It returns one value for every sub-category in grouping variables ;\n",
    "eg avg price of category col\n",
    "                    OR\n",
    "for every year & month , it returns 1 value (avg_close)\n",
    "\n",
    "\n",
    "if there are no grouping variables, the output will have a single value \n",
    "which is summarising rows of a column..\n",
    "\n",
    "\""
   ]
  },
  {
   "cell_type": "code",
   "execution_count": 8,
   "id": "256e9d9e",
   "metadata": {},
   "outputs": [
    {
     "data": {
      "text/html": [
       "<pre class=language-r><code>function (.data, ..., .by = NULL, .groups = NULL) \n",
       "NULL</code></pre>"
      ],
      "text/latex": [
       "\\begin{minted}{r}\n",
       "function (.data, ..., .by = NULL, .groups = NULL) \n",
       "NULL\n",
       "\\end{minted}"
      ],
      "text/markdown": [
       "```r\n",
       "function (.data, ..., .by = NULL, .groups = NULL) \n",
       "NULL\n",
       "```"
      ],
      "text/plain": [
       "function (.data, ..., .by = NULL, .groups = NULL) \n",
       "NULL"
      ]
     },
     "metadata": {},
     "output_type": "display_data"
    }
   ],
   "source": [
    "args(summarise)"
   ]
  },
  {
   "cell_type": "markdown",
   "id": "61abee4c",
   "metadata": {},
   "source": [
    "    .data : data frame or tibble you want to summarize..\n",
    "\n",
    "    ... : The ellipsis (...) means I can pass additional arguments, \n",
    "          which are typically expressions that define the new columns or summary statistics you want to calculate.."
   ]
  },
  {
   "cell_type": "code",
   "execution_count": null,
   "id": "5e6cf95a",
   "metadata": {},
   "outputs": [],
   "source": []
  },
  {
   "cell_type": "code",
   "execution_count": null,
   "id": "b17c3dd1",
   "metadata": {},
   "outputs": [],
   "source": [
    "gdf = group_by(data , year , month )\n",
    "summarise(gdf , avg_closing = mean(Close))\n",
    "\n",
    "## summarise(group_by(data , year , month ) , avg_closing = mean(Close))"
   ]
  },
  {
   "cell_type": "code",
   "execution_count": null,
   "id": "5cfe3413",
   "metadata": {},
   "outputs": [],
   "source": [
    "### lets write similar code using dplyr chaining , \n",
    "### as chaining makes code more readable !\n",
    "\n",
    "### before executing below code , make sure u have \n",
    "### installed & imported dplyr as pipe operator is defined in dplyr package"
   ]
  },
  {
   "cell_type": "code",
   "execution_count": 102,
   "id": "949b4b3e",
   "metadata": {},
   "outputs": [
    {
     "name": "stderr",
     "output_type": "stream",
     "text": [
      "\u001b[1m\u001b[22m`summarise()` has grouped output by 'year'. You can override using the `.groups` argument.\n",
      "\u001b[1m\u001b[22m`summarise()` has grouped output by 'year'. You can override using the `.groups` argument.\n"
     ]
    }
   ],
   "source": [
    "monthly_mean = data %>% group_by(year , month) %>% \n",
    "                summarise(avg_closing = mean(Close)) \n",
    "\n",
    "yearly_mean = data %>% group_by(year) %>% \n",
    "                summarise(avg_closing = mean(Close)) \n",
    "\n",
    "quarter_mean = data %>% group_by(year , quarter) %>% \n",
    "                summarise(avg_closing = mean(Close)) \n",
    "\n",
    "\n",
    "\n",
    "\n",
    "\n",
    "## if getting Warning : `summarise()` has grouped output by 'year'. You can override using the `.groups` argument..\n",
    "## such warnings occur in group_by , when we group our data using 2 or more features.. \n",
    "## .groups = \"drop\" in summarise() says that you want to drop the grouping after summarization\n",
    "## which results in suppressing the warning message..\n",
    "## ie .groups = 'drop' remove the grouping imposed by group_by() and return an ungrouped data frame."
   ]
  },
  {
   "cell_type": "code",
   "execution_count": null,
   "id": "db64534d",
   "metadata": {},
   "outputs": [],
   "source": []
  },
  {
   "cell_type": "code",
   "execution_count": null,
   "id": "6e1cab02",
   "metadata": {},
   "outputs": [],
   "source": []
  },
  {
   "cell_type": "code",
   "execution_count": 103,
   "id": "6b15735f",
   "metadata": {},
   "outputs": [
    {
     "data": {
      "text/html": [
       "<table class=\"dataframe\">\n",
       "<caption>A grouped_df: 3 × 3</caption>\n",
       "<thead>\n",
       "\t<tr><th scope=col>year</th><th scope=col>quarter</th><th scope=col>avg_closing</th></tr>\n",
       "\t<tr><th scope=col>&lt;chr&gt;</th><th scope=col>&lt;dbl&gt;</th><th scope=col>&lt;dbl&gt;</th></tr>\n",
       "</thead>\n",
       "<tbody>\n",
       "\t<tr><td>2013</td><td>2</td><td>115.1622</td></tr>\n",
       "\t<tr><td>2013</td><td>3</td><td>111.2912</td></tr>\n",
       "\t<tr><td>2013</td><td>4</td><td>502.6576</td></tr>\n",
       "</tbody>\n",
       "</table>\n"
      ],
      "text/latex": [
       "A grouped\\_df: 3 × 3\n",
       "\\begin{tabular}{lll}\n",
       " year & quarter & avg\\_closing\\\\\n",
       " <chr> & <dbl> & <dbl>\\\\\n",
       "\\hline\n",
       "\t 2013 & 2 & 115.1622\\\\\n",
       "\t 2013 & 3 & 111.2912\\\\\n",
       "\t 2013 & 4 & 502.6576\\\\\n",
       "\\end{tabular}\n"
      ],
      "text/markdown": [
       "\n",
       "A grouped_df: 3 × 3\n",
       "\n",
       "| year &lt;chr&gt; | quarter &lt;dbl&gt; | avg_closing &lt;dbl&gt; |\n",
       "|---|---|---|\n",
       "| 2013 | 2 | 115.1622 |\n",
       "| 2013 | 3 | 111.2912 |\n",
       "| 2013 | 4 | 502.6576 |\n",
       "\n"
      ],
      "text/plain": [
       "  year quarter avg_closing\n",
       "1 2013 2       115.1622   \n",
       "2 2013 3       111.2912   \n",
       "3 2013 4       502.6576   "
      ]
     },
     "metadata": {},
     "output_type": "display_data"
    }
   ],
   "source": [
    "head(quarter_mean , 3)"
   ]
  },
  {
   "cell_type": "code",
   "execution_count": null,
   "id": "0874df96",
   "metadata": {},
   "outputs": [],
   "source": [
    "### now I have to plot x vs y \n",
    "## on x-axis , I must have Date as : [2013-03-01,  2013-06-01 , 2013-09-01 , 2014-01-01 , 2014-04-01]\n",
    "## on y-axis , I must have avg_closing values as : [63.90 , 61.53 , 66.32]\n",
    "\n",
    "## Note : If u will directly plot year vs avg_closing , u will get irelevant plot"
   ]
  },
  {
   "cell_type": "code",
   "execution_count": null,
   "id": "e0f95b29",
   "metadata": {},
   "outputs": [],
   "source": []
  },
  {
   "cell_type": "code",
   "execution_count": null,
   "id": "9fdb314d",
   "metadata": {},
   "outputs": [],
   "source": [
    "help(paste)\n",
    "\n",
    "## Concatenate Strings"
   ]
  },
  {
   "cell_type": "code",
   "execution_count": 9,
   "id": "f03ceea6",
   "metadata": {},
   "outputs": [
    {
     "data": {
      "text/html": [
       "<pre class=language-r><code>function (..., sep = \" \", collapse = NULL, recycle0 = FALSE) \n",
       "NULL</code></pre>"
      ],
      "text/latex": [
       "\\begin{minted}{r}\n",
       "function (..., sep = \" \", collapse = NULL, recycle0 = FALSE) \n",
       "NULL\n",
       "\\end{minted}"
      ],
      "text/markdown": [
       "```r\n",
       "function (..., sep = \" \", collapse = NULL, recycle0 = FALSE) \n",
       "NULL\n",
       "```"
      ],
      "text/plain": [
       "function (..., sep = \" \", collapse = NULL, recycle0 = FALSE) \n",
       "NULL"
      ]
     },
     "metadata": {},
     "output_type": "display_data"
    }
   ],
   "source": [
    "args(paste)"
   ]
  },
  {
   "cell_type": "code",
   "execution_count": null,
   "id": "a8720c2a",
   "metadata": {},
   "outputs": [],
   "source": [
    "\"\n",
    "\n",
    "... : These are the objects to be concatenated together. \n",
    "        You can provide multiple objects separated by commas (x, y, z, etc.).\n",
    "\n",
    "sep : This is the separator to use between the objects. \n",
    "        By default, it is set to a single space \" \"\n",
    "\n",
    "\n",
    "\""
   ]
  },
  {
   "cell_type": "code",
   "execution_count": 101,
   "id": "c8a4ba03",
   "metadata": {},
   "outputs": [
    {
     "data": {
      "text/html": [
       "<time datetime=\"2013-06-04\">2013-06-04</time>"
      ],
      "text/latex": [
       "2013-06-04"
      ],
      "text/markdown": [
       "2013-06-04"
      ],
      "text/plain": [
       "[1] \"2013-06-04\""
      ]
     },
     "metadata": {},
     "output_type": "display_data"
    }
   ],
   "source": [
    "as.Date(paste(2013, 02*3, \"04\", sep = \"-\"))\n",
    "## ie date should be : 2013-06-04\n",
    "\n",
    "## year is 2013 , quarter is 2 ie lets consider month is 6 , day is 4"
   ]
  },
  {
   "cell_type": "code",
   "execution_count": 104,
   "id": "1a875be4",
   "metadata": {},
   "outputs": [],
   "source": [
    "quarter_mean$Date = as.Date(paste(quarter_mean$year, \n",
    "                                  quarter_mean$quarter*3, \"01\", sep = \"-\"))"
   ]
  },
  {
   "cell_type": "code",
   "execution_count": 109,
   "id": "6ca8d6e0",
   "metadata": {},
   "outputs": [
    {
     "data": {
      "text/html": [
       "<table class=\"dataframe\">\n",
       "<caption>A grouped_df: 3 × 4</caption>\n",
       "<thead>\n",
       "\t<tr><th scope=col>year</th><th scope=col>quarter</th><th scope=col>avg_closing</th><th scope=col>Date</th></tr>\n",
       "\t<tr><th scope=col>&lt;chr&gt;</th><th scope=col>&lt;dbl&gt;</th><th scope=col>&lt;dbl&gt;</th><th scope=col>&lt;date&gt;</th></tr>\n",
       "</thead>\n",
       "<tbody>\n",
       "\t<tr><td>2013</td><td>2</td><td>115.1622</td><td>2013-06-01</td></tr>\n",
       "\t<tr><td>2013</td><td>3</td><td>111.2912</td><td>2013-09-01</td></tr>\n",
       "\t<tr><td>2013</td><td>4</td><td>502.6576</td><td>2013-12-01</td></tr>\n",
       "</tbody>\n",
       "</table>\n"
      ],
      "text/latex": [
       "A grouped\\_df: 3 × 4\n",
       "\\begin{tabular}{llll}\n",
       " year & quarter & avg\\_closing & Date\\\\\n",
       " <chr> & <dbl> & <dbl> & <date>\\\\\n",
       "\\hline\n",
       "\t 2013 & 2 & 115.1622 & 2013-06-01\\\\\n",
       "\t 2013 & 3 & 111.2912 & 2013-09-01\\\\\n",
       "\t 2013 & 4 & 502.6576 & 2013-12-01\\\\\n",
       "\\end{tabular}\n"
      ],
      "text/markdown": [
       "\n",
       "A grouped_df: 3 × 4\n",
       "\n",
       "| year &lt;chr&gt; | quarter &lt;dbl&gt; | avg_closing &lt;dbl&gt; | Date &lt;date&gt; |\n",
       "|---|---|---|---|\n",
       "| 2013 | 2 | 115.1622 | 2013-06-01 |\n",
       "| 2013 | 3 | 111.2912 | 2013-09-01 |\n",
       "| 2013 | 4 | 502.6576 | 2013-12-01 |\n",
       "\n"
      ],
      "text/plain": [
       "  year quarter avg_closing Date      \n",
       "1 2013 2       115.1622    2013-06-01\n",
       "2 2013 3       111.2912    2013-09-01\n",
       "3 2013 4       502.6576    2013-12-01"
      ]
     },
     "metadata": {},
     "output_type": "display_data"
    }
   ],
   "source": [
    "head(quarter_mean , 3)"
   ]
  },
  {
   "cell_type": "code",
   "execution_count": null,
   "id": "84e0264e",
   "metadata": {},
   "outputs": [],
   "source": []
  },
  {
   "cell_type": "code",
   "execution_count": null,
   "id": "5af2a319",
   "metadata": {},
   "outputs": [],
   "source": []
  },
  {
   "cell_type": "code",
   "execution_count": 10,
   "id": "1e91fb09",
   "metadata": {},
   "outputs": [
    {
     "data": {
      "text/html": [
       "<pre class=language-r><code>function (x, y, ...) \n",
       "NULL</code></pre>"
      ],
      "text/latex": [
       "\\begin{minted}{r}\n",
       "function (x, y, ...) \n",
       "NULL\n",
       "\\end{minted}"
      ],
      "text/markdown": [
       "```r\n",
       "function (x, y, ...) \n",
       "NULL\n",
       "```"
      ],
      "text/plain": [
       "function (x, y, ...) \n",
       "NULL"
      ]
     },
     "metadata": {},
     "output_type": "display_data"
    }
   ],
   "source": [
    "args(plot)"
   ]
  },
  {
   "cell_type": "code",
   "execution_count": 105,
   "id": "18474969",
   "metadata": {},
   "outputs": [
    {
     "data": {
      "image/png": "[encoded data removed]",
      "text/plain": [
       "Plot with title \"quarter Mean Close\""
      ]
     },
     "metadata": {
      "image/png": {
       "height": 480,
       "width": 720
      }
     },
     "output_type": "display_data"
    }
   ],
   "source": [
    "# Create a line plot\n",
    "plot(quarter_mean$Date ,  quarter_mean$avg_closing, type = \"l\", \n",
    "     xlab = \"Date\", ylab = \"quarter Close\",\n",
    "     main = \"quarter Mean Close\")"
   ]
  },
  {
   "cell_type": "code",
   "execution_count": null,
   "id": "4ec8d459",
   "metadata": {},
   "outputs": [],
   "source": []
  },
  {
   "cell_type": "code",
   "execution_count": null,
   "id": "7c7014f3",
   "metadata": {},
   "outputs": [],
   "source": []
  },
  {
   "cell_type": "code",
   "execution_count": null,
   "id": "81cef963",
   "metadata": {},
   "outputs": [],
   "source": []
  },
  {
   "cell_type": "code",
   "execution_count": 106,
   "id": "9fbf3eb9",
   "metadata": {},
   "outputs": [
    {
     "data": {
      "text/html": [
       "<table class=\"dataframe\">\n",
       "<caption>A grouped_df: 2 × 3</caption>\n",
       "<thead>\n",
       "\t<tr><th scope=col>year</th><th scope=col>month</th><th scope=col>avg_closing</th></tr>\n",
       "\t<tr><th scope=col>&lt;chr&gt;</th><th scope=col>&lt;chr&gt;</th><th scope=col>&lt;dbl&gt;</th></tr>\n",
       "</thead>\n",
       "<tbody>\n",
       "\t<tr><td>2013</td><td>04</td><td>139.2500</td></tr>\n",
       "\t<tr><td>2013</td><td>05</td><td>119.9932</td></tr>\n",
       "</tbody>\n",
       "</table>\n"
      ],
      "text/latex": [
       "A grouped\\_df: 2 × 3\n",
       "\\begin{tabular}{lll}\n",
       " year & month & avg\\_closing\\\\\n",
       " <chr> & <chr> & <dbl>\\\\\n",
       "\\hline\n",
       "\t 2013 & 04 & 139.2500\\\\\n",
       "\t 2013 & 05 & 119.9932\\\\\n",
       "\\end{tabular}\n"
      ],
      "text/markdown": [
       "\n",
       "A grouped_df: 2 × 3\n",
       "\n",
       "| year &lt;chr&gt; | month &lt;chr&gt; | avg_closing &lt;dbl&gt; |\n",
       "|---|---|---|\n",
       "| 2013 | 04 | 139.2500 |\n",
       "| 2013 | 05 | 119.9932 |\n",
       "\n"
      ],
      "text/plain": [
       "  year month avg_closing\n",
       "1 2013 04    139.2500   \n",
       "2 2013 05    119.9932   "
      ]
     },
     "metadata": {},
     "output_type": "display_data"
    }
   ],
   "source": [
    "head(monthly_mean , 2)"
   ]
  },
  {
   "cell_type": "code",
   "execution_count": 107,
   "id": "1c17abc0",
   "metadata": {},
   "outputs": [],
   "source": [
    "monthly_mean$Date = as.Date(paste(monthly_mean$year, monthly_mean$month, \"01\", sep = \"-\"))"
   ]
  },
  {
   "cell_type": "code",
   "execution_count": 108,
   "id": "8e038d54",
   "metadata": {},
   "outputs": [
    {
     "data": {
      "text/html": [
       "<table class=\"dataframe\">\n",
       "<caption>A grouped_df: 2 × 4</caption>\n",
       "<thead>\n",
       "\t<tr><th scope=col>year</th><th scope=col>month</th><th scope=col>avg_closing</th><th scope=col>Date</th></tr>\n",
       "\t<tr><th scope=col>&lt;chr&gt;</th><th scope=col>&lt;chr&gt;</th><th scope=col>&lt;dbl&gt;</th><th scope=col>&lt;date&gt;</th></tr>\n",
       "</thead>\n",
       "<tbody>\n",
       "\t<tr><td>2013</td><td>04</td><td>139.2500</td><td>2013-04-01</td></tr>\n",
       "\t<tr><td>2013</td><td>05</td><td>119.9932</td><td>2013-05-01</td></tr>\n",
       "</tbody>\n",
       "</table>\n"
      ],
      "text/latex": [
       "A grouped\\_df: 2 × 4\n",
       "\\begin{tabular}{llll}\n",
       " year & month & avg\\_closing & Date\\\\\n",
       " <chr> & <chr> & <dbl> & <date>\\\\\n",
       "\\hline\n",
       "\t 2013 & 04 & 139.2500 & 2013-04-01\\\\\n",
       "\t 2013 & 05 & 119.9932 & 2013-05-01\\\\\n",
       "\\end{tabular}\n"
      ],
      "text/markdown": [
       "\n",
       "A grouped_df: 2 × 4\n",
       "\n",
       "| year &lt;chr&gt; | month &lt;chr&gt; | avg_closing &lt;dbl&gt; | Date &lt;date&gt; |\n",
       "|---|---|---|---|\n",
       "| 2013 | 04 | 139.2500 | 2013-04-01 |\n",
       "| 2013 | 05 | 119.9932 | 2013-05-01 |\n",
       "\n"
      ],
      "text/plain": [
       "  year month avg_closing Date      \n",
       "1 2013 04    139.2500    2013-04-01\n",
       "2 2013 05    119.9932    2013-05-01"
      ]
     },
     "metadata": {},
     "output_type": "display_data"
    }
   ],
   "source": [
    "head(monthly_mean , 2)"
   ]
  },
  {
   "cell_type": "code",
   "execution_count": 111,
   "id": "91b9d8d9",
   "metadata": {},
   "outputs": [
    {
     "data": {
      "image/png": "[encoded data removed]",
      "text/plain": [
       "Plot with title \"month Mean Close\""
      ]
     },
     "metadata": {
      "image/png": {
       "height": 480,
       "width": 720
      }
     },
     "output_type": "display_data"
    }
   ],
   "source": [
    "# Create a line plot\n",
    "plot(monthly_mean$Date , monthly_mean$avg_closing, type = \"l\", \n",
    "     xlab = \"Date\", ylab = \"month Close\",\n",
    "     main = \"month Mean Close\")\n",
    "\n",
    "\n",
    "### plotly :: plot_ly(x = monthly_mean$Date , y = monthly_mean$avg_closing, type = \"scatter\", mode = \"lines\")"
   ]
  },
  {
   "cell_type": "code",
   "execution_count": null,
   "id": "2b1840b3",
   "metadata": {},
   "outputs": [],
   "source": []
  },
  {
   "cell_type": "code",
   "execution_count": null,
   "id": "1f588623",
   "metadata": {},
   "outputs": [],
   "source": []
  },
  {
   "cell_type": "code",
   "execution_count": null,
   "id": "7c4cb2a6",
   "metadata": {},
   "outputs": [],
   "source": []
  },
  {
   "cell_type": "code",
   "execution_count": null,
   "id": "d403a3bd",
   "metadata": {},
   "outputs": [],
   "source": []
  },
  {
   "cell_type": "code",
   "execution_count": null,
   "id": "98c74e56",
   "metadata": {},
   "outputs": [],
   "source": []
  },
  {
   "cell_type": "markdown",
   "id": "97118848",
   "metadata": {},
   "source": [
    "# 7..  analysing Daily change in Closing price of stocks"
   ]
  },
  {
   "cell_type": "markdown",
   "id": "759b1074",
   "metadata": {},
   "source": [
    "##### Daily Stock Return Formula\n",
    "    To calculate how much you gained or lost per day for a stock, subtract the opening price from the closing price. Then,\n",
    "    multiply the result by the number of shares you own in the company. "
   ]
  },
  {
   "cell_type": "code",
   "execution_count": 113,
   "id": "3b9d9061",
   "metadata": {},
   "outputs": [
    {
     "data": {
      "text/html": [
       "<table class=\"dataframe\">\n",
       "<caption>A data.frame: 3 × 11</caption>\n",
       "<thead>\n",
       "\t<tr><th></th><th scope=col>Date</th><th scope=col>Open</th><th scope=col>High</th><th scope=col>Low</th><th scope=col>Close</th><th scope=col>Volume</th><th scope=col>Market.Cap</th><th scope=col>year</th><th scope=col>month</th><th scope=col>quarter</th><th scope=col>weekday</th></tr>\n",
       "\t<tr><th></th><th scope=col>&lt;dttm&gt;</th><th scope=col>&lt;dbl&gt;</th><th scope=col>&lt;dbl&gt;</th><th scope=col>&lt;dbl&gt;</th><th scope=col>&lt;dbl&gt;</th><th scope=col>&lt;chr&gt;</th><th scope=col>&lt;chr&gt;</th><th scope=col>&lt;chr&gt;</th><th scope=col>&lt;chr&gt;</th><th scope=col>&lt;dbl&gt;</th><th scope=col>&lt;chr&gt;</th></tr>\n",
       "</thead>\n",
       "<tbody>\n",
       "\t<tr><th scope=row>1</th><td>2013-04-28</td><td>135.30</td><td>135.98</td><td>132.10</td><td>134.21</td><td>-</td><td>1,500,520,000</td><td>2013</td><td>04</td><td>2</td><td>Sunday </td></tr>\n",
       "\t<tr><th scope=row>2</th><td>2013-04-29</td><td>134.44</td><td>147.49</td><td>134.00</td><td>144.54</td><td>-</td><td>1,491,160,000</td><td>2013</td><td>04</td><td>2</td><td>Monday </td></tr>\n",
       "\t<tr><th scope=row>3</th><td>2013-04-30</td><td>144.00</td><td>146.93</td><td>134.05</td><td>139.00</td><td>-</td><td>1,597,780,000</td><td>2013</td><td>04</td><td>2</td><td>Tuesday</td></tr>\n",
       "</tbody>\n",
       "</table>\n"
      ],
      "text/latex": [
       "A data.frame: 3 × 11\n",
       "\\begin{tabular}{r|lllllllllll}\n",
       "  & Date & Open & High & Low & Close & Volume & Market.Cap & year & month & quarter & weekday\\\\\n",
       "  & <dttm> & <dbl> & <dbl> & <dbl> & <dbl> & <chr> & <chr> & <chr> & <chr> & <dbl> & <chr>\\\\\n",
       "\\hline\n",
       "\t1 & 2013-04-28 & 135.30 & 135.98 & 132.10 & 134.21 & - & 1,500,520,000 & 2013 & 04 & 2 & Sunday \\\\\n",
       "\t2 & 2013-04-29 & 134.44 & 147.49 & 134.00 & 144.54 & - & 1,491,160,000 & 2013 & 04 & 2 & Monday \\\\\n",
       "\t3 & 2013-04-30 & 144.00 & 146.93 & 134.05 & 139.00 & - & 1,597,780,000 & 2013 & 04 & 2 & Tuesday\\\\\n",
       "\\end{tabular}\n"
      ],
      "text/markdown": [
       "\n",
       "A data.frame: 3 × 11\n",
       "\n",
       "| <!--/--> | Date &lt;dttm&gt; | Open &lt;dbl&gt; | High &lt;dbl&gt; | Low &lt;dbl&gt; | Close &lt;dbl&gt; | Volume &lt;chr&gt; | Market.Cap &lt;chr&gt; | year &lt;chr&gt; | month &lt;chr&gt; | quarter &lt;dbl&gt; | weekday &lt;chr&gt; |\n",
       "|---|---|---|---|---|---|---|---|---|---|---|---|\n",
       "| 1 | 2013-04-28 | 135.30 | 135.98 | 132.10 | 134.21 | - | 1,500,520,000 | 2013 | 04 | 2 | Sunday  |\n",
       "| 2 | 2013-04-29 | 134.44 | 147.49 | 134.00 | 144.54 | - | 1,491,160,000 | 2013 | 04 | 2 | Monday  |\n",
       "| 3 | 2013-04-30 | 144.00 | 146.93 | 134.05 | 139.00 | - | 1,597,780,000 | 2013 | 04 | 2 | Tuesday |\n",
       "\n"
      ],
      "text/plain": [
       "  Date       Open   High   Low    Close  Volume Market.Cap    year month\n",
       "1 2013-04-28 135.30 135.98 132.10 134.21 -      1,500,520,000 2013 04   \n",
       "2 2013-04-29 134.44 147.49 134.00 144.54 -      1,491,160,000 2013 04   \n",
       "3 2013-04-30 144.00 146.93 134.05 139.00 -      1,597,780,000 2013 04   \n",
       "  quarter weekday\n",
       "1 2       Sunday \n",
       "2 2       Monday \n",
       "3 2       Tuesday"
      ]
     },
     "metadata": {},
     "output_type": "display_data"
    }
   ],
   "source": [
    "head(data , 3)"
   ]
  },
  {
   "cell_type": "code",
   "execution_count": null,
   "id": "32297d7d",
   "metadata": {},
   "outputs": [],
   "source": [
    "### compute % changes for \"Close\" col..."
   ]
  },
  {
   "cell_type": "code",
   "execution_count": 114,
   "id": "5a7d874f",
   "metadata": {},
   "outputs": [
    {
     "data": {
      "text/html": [
       "<style>\n",
       ".list-inline {list-style: none; margin:0; padding: 0}\n",
       ".list-inline>li {display: inline-block}\n",
       ".list-inline>li:not(:last-child)::after {content: \"\\00b7\"; padding: 0 .5ex}\n",
       "</style>\n",
       "<ol class=list-inline><li>134.21</li><li>144.54</li><li>139</li><li>116.99</li><li>105.21</li></ol>\n"
      ],
      "text/latex": [
       "\\begin{enumerate*}\n",
       "\\item 134.21\n",
       "\\item 144.54\n",
       "\\item 139\n",
       "\\item 116.99\n",
       "\\item 105.21\n",
       "\\end{enumerate*}\n"
      ],
      "text/markdown": [
       "1. 134.21\n",
       "2. 144.54\n",
       "3. 139\n",
       "4. 116.99\n",
       "5. 105.21\n",
       "\n",
       "\n"
      ],
      "text/plain": [
       "[1] 134.21 144.54 139.00 116.99 105.21"
      ]
     },
     "metadata": {},
     "output_type": "display_data"
    }
   ],
   "source": [
    "data$Close[1:5]\n",
    "\n",
    "\n",
    "### for 2nd index % change , it should be : \n",
    "## [(current_value - previous_value) / previous_value] * 100\n",
    "## [(144.54 - 134.21) / 134.21] * 100 = +7.7 % change"
   ]
  },
  {
   "cell_type": "code",
   "execution_count": null,
   "id": "b741ac2f",
   "metadata": {},
   "outputs": [],
   "source": []
  },
  {
   "cell_type": "code",
   "execution_count": 13,
   "id": "8f4b0d1f",
   "metadata": {},
   "outputs": [],
   "source": [
    "help(lag)\n",
    "\n",
    "## Find the \"previous\" (lag()) or \"next\" (lead()) values in a vector."
   ]
  },
  {
   "cell_type": "code",
   "execution_count": null,
   "id": "1d760ad1",
   "metadata": {},
   "outputs": [],
   "source": [
    "\"\n",
    "\n",
    "lag(x, n = 1L, default = NULL, order_by = NULL, ...)\n",
    "\n",
    "\"\n",
    "\n",
    "\n",
    "\"\n",
    "\n",
    "x : This is the vector or data frame column on which u want to perform shift operation..\n",
    "\n",
    "\n",
    "k : This argument specifies the number of positions by which shifting occurs.. \n",
    "    If k is +ve, the vector or column is shifted forwards ; \n",
    "    if k is -ve, the vector or column is shifted backwards.. \n",
    "    The default value is 1, meaning the vector or column is shifted one position.\n",
    "\n",
    "\n",
    "order.by : This argument is only applicable when x is a time series object. \n",
    "            It allows you to specify an optional time index for the time series..\n",
    "\n",
    "\""
   ]
  },
  {
   "cell_type": "code",
   "execution_count": 12,
   "id": "6772f37d",
   "metadata": {},
   "outputs": [
    {
     "data": {
      "text/html": [
       "<pre class=language-r><code>function (x, ...) \n",
       "NULL</code></pre>"
      ],
      "text/latex": [
       "\\begin{minted}{r}\n",
       "function (x, ...) \n",
       "NULL\n",
       "\\end{minted}"
      ],
      "text/markdown": [
       "```r\n",
       "function (x, ...) \n",
       "NULL\n",
       "```"
      ],
      "text/plain": [
       "function (x, ...) \n",
       "NULL"
      ]
     },
     "metadata": {},
     "output_type": "display_data"
    }
   ],
   "source": [
    "args(lag)\n",
    "\n",
    "## x : i/p data "
   ]
  },
  {
   "cell_type": "code",
   "execution_count": 115,
   "id": "f7c52635",
   "metadata": {},
   "outputs": [
    {
     "data": {
      "text/html": [
       "<style>\n",
       ".list-inline {list-style: none; margin:0; padding: 0}\n",
       ".list-inline>li {display: inline-block}\n",
       ".list-inline>li:not(:last-child)::after {content: \"\\00b7\"; padding: 0 .5ex}\n",
       "</style>\n",
       "<ol class=list-inline><li>&lt;NA&gt;</li><li>134.21</li><li>144.54</li><li>139</li><li>116.99</li></ol>\n"
      ],
      "text/latex": [
       "\\begin{enumerate*}\n",
       "\\item <NA>\n",
       "\\item 134.21\n",
       "\\item 144.54\n",
       "\\item 139\n",
       "\\item 116.99\n",
       "\\end{enumerate*}\n"
      ],
      "text/markdown": [
       "1. &lt;NA&gt;\n",
       "2. 134.21\n",
       "3. 144.54\n",
       "4. 139\n",
       "5. 116.99\n",
       "\n",
       "\n"
      ],
      "text/plain": [
       "[1]     NA 134.21 144.54 139.00 116.99"
      ]
     },
     "metadata": {},
     "output_type": "display_data"
    }
   ],
   "source": [
    "lag(data$Close[1:5])"
   ]
  },
  {
   "cell_type": "code",
   "execution_count": 116,
   "id": "a6d8b411",
   "metadata": {},
   "outputs": [
    {
     "data": {
      "text/html": [
       "<style>\n",
       ".list-inline {list-style: none; margin:0; padding: 0}\n",
       ".list-inline>li {display: inline-block}\n",
       ".list-inline>li:not(:last-child)::after {content: \"\\00b7\"; padding: 0 .5ex}\n",
       "</style>\n",
       "<ol class=list-inline><li>&lt;NA&gt;</li><li>7.69689292899187</li><li>-3.83284903832848</li><li>-15.8345323741007</li><li>-10.0692366868963</li></ol>\n"
      ],
      "text/latex": [
       "\\begin{enumerate*}\n",
       "\\item <NA>\n",
       "\\item 7.69689292899187\n",
       "\\item -3.83284903832848\n",
       "\\item -15.8345323741007\n",
       "\\item -10.0692366868963\n",
       "\\end{enumerate*}\n"
      ],
      "text/markdown": [
       "1. &lt;NA&gt;\n",
       "2. 7.69689292899187\n",
       "3. -3.83284903832848\n",
       "4. -15.8345323741007\n",
       "5. -10.0692366868963\n",
       "\n",
       "\n"
      ],
      "text/plain": [
       "[1]         NA   7.696893  -3.832849 -15.834532 -10.069237"
      ]
     },
     "metadata": {},
     "output_type": "display_data"
    }
   ],
   "source": [
    "((data$Close - lag(data$Close))/lag(data$Close) * 100)[1:5]"
   ]
  },
  {
   "cell_type": "code",
   "execution_count": null,
   "id": "9523e487",
   "metadata": {},
   "outputs": [],
   "source": []
  },
  {
   "cell_type": "code",
   "execution_count": 117,
   "id": "3b93a35c",
   "metadata": {},
   "outputs": [],
   "source": [
    "data$Close_price_pct_change = ((data$Close - lag(data$Close))/lag(data$Close) * 100)"
   ]
  },
  {
   "cell_type": "code",
   "execution_count": 120,
   "id": "4cdecc2c",
   "metadata": {},
   "outputs": [
    {
     "data": {
      "text/html": [
       "<table class=\"dataframe\">\n",
       "<caption>A data.frame: 4 × 12</caption>\n",
       "<thead>\n",
       "\t<tr><th></th><th scope=col>Date</th><th scope=col>Open</th><th scope=col>High</th><th scope=col>Low</th><th scope=col>Close</th><th scope=col>Volume</th><th scope=col>Market.Cap</th><th scope=col>year</th><th scope=col>month</th><th scope=col>quarter</th><th scope=col>weekday</th><th scope=col>Close_price_pct_change</th></tr>\n",
       "\t<tr><th></th><th scope=col>&lt;dttm&gt;</th><th scope=col>&lt;dbl&gt;</th><th scope=col>&lt;dbl&gt;</th><th scope=col>&lt;dbl&gt;</th><th scope=col>&lt;dbl&gt;</th><th scope=col>&lt;chr&gt;</th><th scope=col>&lt;chr&gt;</th><th scope=col>&lt;chr&gt;</th><th scope=col>&lt;chr&gt;</th><th scope=col>&lt;dbl&gt;</th><th scope=col>&lt;chr&gt;</th><th scope=col>&lt;dbl&gt;</th></tr>\n",
       "</thead>\n",
       "<tbody>\n",
       "\t<tr><th scope=row>1</th><td>2013-04-28</td><td>135.30</td><td>135.98</td><td>132.10</td><td>134.21</td><td>-</td><td>1,500,520,000</td><td>2013</td><td>04</td><td>2</td><td>Sunday   </td><td>        NA</td></tr>\n",
       "\t<tr><th scope=row>2</th><td>2013-04-29</td><td>134.44</td><td>147.49</td><td>134.00</td><td>144.54</td><td>-</td><td>1,491,160,000</td><td>2013</td><td>04</td><td>2</td><td>Monday   </td><td>  7.696893</td></tr>\n",
       "\t<tr><th scope=row>3</th><td>2013-04-30</td><td>144.00</td><td>146.93</td><td>134.05</td><td>139.00</td><td>-</td><td>1,597,780,000</td><td>2013</td><td>04</td><td>2</td><td>Tuesday  </td><td> -3.832849</td></tr>\n",
       "\t<tr><th scope=row>4</th><td>2013-05-01</td><td>139.00</td><td>139.89</td><td>107.72</td><td>116.99</td><td>-</td><td>1,542,820,000</td><td>2013</td><td>05</td><td>2</td><td>Wednesday</td><td>-15.834532</td></tr>\n",
       "</tbody>\n",
       "</table>\n"
      ],
      "text/latex": [
       "A data.frame: 4 × 12\n",
       "\\begin{tabular}{r|llllllllllll}\n",
       "  & Date & Open & High & Low & Close & Volume & Market.Cap & year & month & quarter & weekday & Close\\_price\\_pct\\_change\\\\\n",
       "  & <dttm> & <dbl> & <dbl> & <dbl> & <dbl> & <chr> & <chr> & <chr> & <chr> & <dbl> & <chr> & <dbl>\\\\\n",
       "\\hline\n",
       "\t1 & 2013-04-28 & 135.30 & 135.98 & 132.10 & 134.21 & - & 1,500,520,000 & 2013 & 04 & 2 & Sunday    &         NA\\\\\n",
       "\t2 & 2013-04-29 & 134.44 & 147.49 & 134.00 & 144.54 & - & 1,491,160,000 & 2013 & 04 & 2 & Monday    &   7.696893\\\\\n",
       "\t3 & 2013-04-30 & 144.00 & 146.93 & 134.05 & 139.00 & - & 1,597,780,000 & 2013 & 04 & 2 & Tuesday   &  -3.832849\\\\\n",
       "\t4 & 2013-05-01 & 139.00 & 139.89 & 107.72 & 116.99 & - & 1,542,820,000 & 2013 & 05 & 2 & Wednesday & -15.834532\\\\\n",
       "\\end{tabular}\n"
      ],
      "text/markdown": [
       "\n",
       "A data.frame: 4 × 12\n",
       "\n",
       "| <!--/--> | Date &lt;dttm&gt; | Open &lt;dbl&gt; | High &lt;dbl&gt; | Low &lt;dbl&gt; | Close &lt;dbl&gt; | Volume &lt;chr&gt; | Market.Cap &lt;chr&gt; | year &lt;chr&gt; | month &lt;chr&gt; | quarter &lt;dbl&gt; | weekday &lt;chr&gt; | Close_price_pct_change &lt;dbl&gt; |\n",
       "|---|---|---|---|---|---|---|---|---|---|---|---|---|\n",
       "| 1 | 2013-04-28 | 135.30 | 135.98 | 132.10 | 134.21 | - | 1,500,520,000 | 2013 | 04 | 2 | Sunday    |         NA |\n",
       "| 2 | 2013-04-29 | 134.44 | 147.49 | 134.00 | 144.54 | - | 1,491,160,000 | 2013 | 04 | 2 | Monday    |   7.696893 |\n",
       "| 3 | 2013-04-30 | 144.00 | 146.93 | 134.05 | 139.00 | - | 1,597,780,000 | 2013 | 04 | 2 | Tuesday   |  -3.832849 |\n",
       "| 4 | 2013-05-01 | 139.00 | 139.89 | 107.72 | 116.99 | - | 1,542,820,000 | 2013 | 05 | 2 | Wednesday | -15.834532 |\n",
       "\n"
      ],
      "text/plain": [
       "  Date       Open   High   Low    Close  Volume Market.Cap    year month\n",
       "1 2013-04-28 135.30 135.98 132.10 134.21 -      1,500,520,000 2013 04   \n",
       "2 2013-04-29 134.44 147.49 134.00 144.54 -      1,491,160,000 2013 04   \n",
       "3 2013-04-30 144.00 146.93 134.05 139.00 -      1,597,780,000 2013 04   \n",
       "4 2013-05-01 139.00 139.89 107.72 116.99 -      1,542,820,000 2013 05   \n",
       "  quarter weekday   Close_price_pct_change\n",
       "1 2       Sunday            NA            \n",
       "2 2       Monday      7.696893            \n",
       "3 2       Tuesday    -3.832849            \n",
       "4 2       Wednesday -15.834532            "
      ]
     },
     "metadata": {},
     "output_type": "display_data"
    }
   ],
   "source": [
    "head(data , 4)"
   ]
  },
  {
   "cell_type": "code",
   "execution_count": 121,
   "id": "5acffc09",
   "metadata": {},
   "outputs": [
    {
     "data": {
      "image/png": "[encoded data removed]",
      "text/plain": [
       "plot without title"
      ]
     },
     "metadata": {
      "image/png": {
       "height": 480,
       "width": 720
      }
     },
     "output_type": "display_data"
    }
   ],
   "source": [
    "plot(data$Date , data$Close_price_pct_change , type=\"l\")"
   ]
  },
  {
   "cell_type": "code",
   "execution_count": null,
   "id": "98b008f3",
   "metadata": {},
   "outputs": [],
   "source": [
    "'''\n",
    "\n",
    "If u want to make this base-R plot interactive , u can think of using Plotly \n",
    "\n",
    "\n",
    "'''"
   ]
  },
  {
   "cell_type": "code",
   "execution_count": null,
   "id": "0706da04",
   "metadata": {},
   "outputs": [],
   "source": []
  },
  {
   "cell_type": "code",
   "execution_count": 16,
   "id": "f3d59943",
   "metadata": {},
   "outputs": [],
   "source": [
    "library(plotly)"
   ]
  },
  {
   "cell_type": "code",
   "execution_count": 17,
   "id": "d48dd5f3",
   "metadata": {},
   "outputs": [
    {
     "data": {
      "text/html": [
       "<pre class=language-r><code>function (data = data.frame(), ..., type = NULL, name, color, \n",
       "<span style=white-space:pre-wrap>    colors = NULL, alpha = NULL, stroke, strokes = NULL, alpha_stroke = 1, </span>\n",
       "<span style=white-space:pre-wrap>    size, sizes = c(10, 100), span, spans = c(1, 20), symbol, </span>\n",
       "<span style=white-space:pre-wrap>    symbols = NULL, linetype, linetypes = NULL, split, frame, </span>\n",
       "<span style=white-space:pre-wrap>    width = NULL, height = NULL, source = \"A\") </span>\n",
       "NULL</code></pre>"
      ],
      "text/latex": [
       "\\begin{minted}{r}\n",
       "function (data = data.frame(), ..., type = NULL, name, color, \n",
       "    colors = NULL, alpha = NULL, stroke, strokes = NULL, alpha\\_stroke = 1, \n",
       "    size, sizes = c(10, 100), span, spans = c(1, 20), symbol, \n",
       "    symbols = NULL, linetype, linetypes = NULL, split, frame, \n",
       "    width = NULL, height = NULL, source = \"A\") \n",
       "NULL\n",
       "\\end{minted}"
      ],
      "text/markdown": [
       "```r\n",
       "function (data = data.frame(), ..., type = NULL, name, color, \n",
       "    colors = NULL, alpha = NULL, stroke, strokes = NULL, alpha_stroke = 1, \n",
       "    size, sizes = c(10, 100), span, spans = c(1, 20), symbol, \n",
       "    symbols = NULL, linetype, linetypes = NULL, split, frame, \n",
       "    width = NULL, height = NULL, source = \"A\") \n",
       "NULL\n",
       "```"
      ],
      "text/plain": [
       "function (data = data.frame(), ..., type = NULL, name, color, \n",
       "    colors = NULL, alpha = NULL, stroke, strokes = NULL, alpha_stroke = 1, \n",
       "    size, sizes = c(10, 100), span, spans = c(1, 20), symbol, \n",
       "    symbols = NULL, linetype, linetypes = NULL, split, frame, \n",
       "    width = NULL, height = NULL, source = \"A\") \n",
       "NULL"
      ]
     },
     "metadata": {},
     "output_type": "display_data"
    }
   ],
   "source": [
    "args(plot_ly)"
   ]
  },
  {
   "cell_type": "code",
   "execution_count": null,
   "id": "8ec6ecd3",
   "metadata": {},
   "outputs": [],
   "source": [
    "### plotly :: plot_ly(x = data$Date , y = data$Close_price_pct_change , type = \"scatter\" , mode = \"lines\")"
   ]
  },
  {
   "cell_type": "code",
   "execution_count": null,
   "id": "d3d02a44",
   "metadata": {},
   "outputs": [],
   "source": []
  },
  {
   "cell_type": "code",
   "execution_count": null,
   "id": "81914701",
   "metadata": {},
   "outputs": [],
   "source": []
  },
  {
   "cell_type": "code",
   "execution_count": null,
   "id": "e825a844",
   "metadata": {},
   "outputs": [],
   "source": []
  },
  {
   "cell_type": "code",
   "execution_count": null,
   "id": "63d408f5",
   "metadata": {},
   "outputs": [],
   "source": []
  },
  {
   "cell_type": "code",
   "execution_count": null,
   "id": "048a884a",
   "metadata": {},
   "outputs": [],
   "source": []
  },
  {
   "cell_type": "code",
   "execution_count": null,
   "id": "a504e1f3",
   "metadata": {},
   "outputs": [],
   "source": []
  },
  {
   "cell_type": "code",
   "execution_count": null,
   "id": "85b74137",
   "metadata": {},
   "outputs": [],
   "source": []
  },
  {
   "cell_type": "code",
   "execution_count": null,
   "id": "c3b7adff",
   "metadata": {},
   "outputs": [],
   "source": []
  },
  {
   "cell_type": "code",
   "execution_count": null,
   "id": "69e7c2f3",
   "metadata": {},
   "outputs": [],
   "source": []
  },
  {
   "cell_type": "code",
   "execution_count": null,
   "id": "4c9c496f",
   "metadata": {},
   "outputs": [],
   "source": []
  }
 ],
 "metadata": {
  "kernelspec": {
   "display_name": "R 4.4.1",
   "language": "R",
   "name": "ir41"
  },
  "language_info": {
   "codemirror_mode": "r",
   "file_extension": ".r",
   "mimetype": "text/x-r-source",
   "name": "R",
   "pygments_lexer": "r",
   "version": "4.4.1"
  }
 },
 "nbformat": 4,
 "nbformat_minor": 5
}
