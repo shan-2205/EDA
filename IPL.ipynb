{
 "cells": [
  {
   "cell_type": "code",
   "execution_count": 5,
   "metadata": {},
   "outputs": [
    {
     "data": {
      "text/html": [
       "<div>\n",
       "<style scoped>\n",
       "    .dataframe tbody tr th:only-of-type {\n",
       "        vertical-align: middle;\n",
       "    }\n",
       "\n",
       "    .dataframe tbody tr th {\n",
       "        vertical-align: top;\n",
       "    }\n",
       "\n",
       "    .dataframe thead th {\n",
       "        text-align: right;\n",
       "    }\n",
       "</style>\n",
       "<table border=\"1\" class=\"dataframe\">\n",
       "  <thead>\n",
       "    <tr style=\"text-align: right;\">\n",
       "      <th></th>\n",
       "      <th>id</th>\n",
       "      <th>season</th>\n",
       "      <th>city</th>\n",
       "      <th>date</th>\n",
       "      <th>team1</th>\n",
       "      <th>team2</th>\n",
       "      <th>toss_winner</th>\n",
       "      <th>toss_decision</th>\n",
       "      <th>result</th>\n",
       "      <th>dl_applied</th>\n",
       "      <th>winner</th>\n",
       "      <th>win_by_runs</th>\n",
       "      <th>win_by_wickets</th>\n",
       "      <th>player_of_match</th>\n",
       "      <th>venue</th>\n",
       "      <th>umpire1</th>\n",
       "      <th>umpire2</th>\n",
       "      <th>umpire3</th>\n",
       "    </tr>\n",
       "  </thead>\n",
       "  <tbody>\n",
       "    <tr>\n",
       "      <td>0</td>\n",
       "      <td>1</td>\n",
       "      <td>2017</td>\n",
       "      <td>Hyderabad</td>\n",
       "      <td>4/5/2017</td>\n",
       "      <td>Sunrisers Hyderabad</td>\n",
       "      <td>Royal Challengers Bangalore</td>\n",
       "      <td>Royal Challengers Bangalore</td>\n",
       "      <td>field</td>\n",
       "      <td>normal</td>\n",
       "      <td>0</td>\n",
       "      <td>Sunrisers Hyderabad</td>\n",
       "      <td>35</td>\n",
       "      <td>0</td>\n",
       "      <td>Yuvraj Singh</td>\n",
       "      <td>Rajiv Gandhi International Stadium, Uppal</td>\n",
       "      <td>AY Dandekar</td>\n",
       "      <td>NJ Llong</td>\n",
       "      <td>NaN</td>\n",
       "    </tr>\n",
       "    <tr>\n",
       "      <td>1</td>\n",
       "      <td>2</td>\n",
       "      <td>2017</td>\n",
       "      <td>Pune</td>\n",
       "      <td>4/6/2017</td>\n",
       "      <td>Mumbai Indians</td>\n",
       "      <td>Rising Pune Supergiant</td>\n",
       "      <td>Rising Pune Supergiant</td>\n",
       "      <td>field</td>\n",
       "      <td>normal</td>\n",
       "      <td>0</td>\n",
       "      <td>Rising Pune Supergiant</td>\n",
       "      <td>0</td>\n",
       "      <td>7</td>\n",
       "      <td>SPD Smith</td>\n",
       "      <td>Maharashtra Cricket Association Stadium</td>\n",
       "      <td>A Nand Kishore</td>\n",
       "      <td>S Ravi</td>\n",
       "      <td>NaN</td>\n",
       "    </tr>\n",
       "    <tr>\n",
       "      <td>2</td>\n",
       "      <td>3</td>\n",
       "      <td>2017</td>\n",
       "      <td>Rajkot</td>\n",
       "      <td>4/7/2017</td>\n",
       "      <td>Gujarat Lions</td>\n",
       "      <td>Kolkata Knight Riders</td>\n",
       "      <td>Kolkata Knight Riders</td>\n",
       "      <td>field</td>\n",
       "      <td>normal</td>\n",
       "      <td>0</td>\n",
       "      <td>Kolkata Knight Riders</td>\n",
       "      <td>0</td>\n",
       "      <td>10</td>\n",
       "      <td>CA Lynn</td>\n",
       "      <td>Saurashtra Cricket Association Stadium</td>\n",
       "      <td>Nitin Menon</td>\n",
       "      <td>CK Nandan</td>\n",
       "      <td>NaN</td>\n",
       "    </tr>\n",
       "    <tr>\n",
       "      <td>3</td>\n",
       "      <td>4</td>\n",
       "      <td>2017</td>\n",
       "      <td>Indore</td>\n",
       "      <td>4/8/2017</td>\n",
       "      <td>Rising Pune Supergiant</td>\n",
       "      <td>Kings XI Punjab</td>\n",
       "      <td>Kings XI Punjab</td>\n",
       "      <td>field</td>\n",
       "      <td>normal</td>\n",
       "      <td>0</td>\n",
       "      <td>Kings XI Punjab</td>\n",
       "      <td>0</td>\n",
       "      <td>6</td>\n",
       "      <td>GJ Maxwell</td>\n",
       "      <td>Holkar Cricket Stadium</td>\n",
       "      <td>AK Chaudhary</td>\n",
       "      <td>C Shamshuddin</td>\n",
       "      <td>NaN</td>\n",
       "    </tr>\n",
       "    <tr>\n",
       "      <td>4</td>\n",
       "      <td>5</td>\n",
       "      <td>2017</td>\n",
       "      <td>Bangalore</td>\n",
       "      <td>4/8/2017</td>\n",
       "      <td>Royal Challengers Bangalore</td>\n",
       "      <td>Delhi Daredevils</td>\n",
       "      <td>Royal Challengers Bangalore</td>\n",
       "      <td>bat</td>\n",
       "      <td>normal</td>\n",
       "      <td>0</td>\n",
       "      <td>Royal Challengers Bangalore</td>\n",
       "      <td>15</td>\n",
       "      <td>0</td>\n",
       "      <td>KM Jadhav</td>\n",
       "      <td>M Chinnaswamy Stadium</td>\n",
       "      <td>NaN</td>\n",
       "      <td>NaN</td>\n",
       "      <td>NaN</td>\n",
       "    </tr>\n",
       "  </tbody>\n",
       "</table>\n",
       "</div>"
      ],
      "text/plain": [
       "   id  season       city      date                        team1  \\\n",
       "0   1    2017  Hyderabad  4/5/2017          Sunrisers Hyderabad   \n",
       "1   2    2017       Pune  4/6/2017               Mumbai Indians   \n",
       "2   3    2017     Rajkot  4/7/2017                Gujarat Lions   \n",
       "3   4    2017     Indore  4/8/2017       Rising Pune Supergiant   \n",
       "4   5    2017  Bangalore  4/8/2017  Royal Challengers Bangalore   \n",
       "\n",
       "                         team2                  toss_winner toss_decision  \\\n",
       "0  Royal Challengers Bangalore  Royal Challengers Bangalore         field   \n",
       "1       Rising Pune Supergiant       Rising Pune Supergiant         field   \n",
       "2        Kolkata Knight Riders        Kolkata Knight Riders         field   \n",
       "3              Kings XI Punjab              Kings XI Punjab         field   \n",
       "4             Delhi Daredevils  Royal Challengers Bangalore           bat   \n",
       "\n",
       "   result  dl_applied                       winner  win_by_runs  \\\n",
       "0  normal           0          Sunrisers Hyderabad           35   \n",
       "1  normal           0       Rising Pune Supergiant            0   \n",
       "2  normal           0        Kolkata Knight Riders            0   \n",
       "3  normal           0              Kings XI Punjab            0   \n",
       "4  normal           0  Royal Challengers Bangalore           15   \n",
       "\n",
       "   win_by_wickets player_of_match                                      venue  \\\n",
       "0               0    Yuvraj Singh  Rajiv Gandhi International Stadium, Uppal   \n",
       "1               7       SPD Smith    Maharashtra Cricket Association Stadium   \n",
       "2              10         CA Lynn     Saurashtra Cricket Association Stadium   \n",
       "3               6      GJ Maxwell                     Holkar Cricket Stadium   \n",
       "4               0       KM Jadhav                      M Chinnaswamy Stadium   \n",
       "\n",
       "          umpire1        umpire2  umpire3  \n",
       "0     AY Dandekar       NJ Llong      NaN  \n",
       "1  A Nand Kishore         S Ravi      NaN  \n",
       "2     Nitin Menon      CK Nandan      NaN  \n",
       "3    AK Chaudhary  C Shamshuddin      NaN  \n",
       "4             NaN            NaN      NaN  "
      ]
     },
     "execution_count": 5,
     "metadata": {},
     "output_type": "execute_result"
    }
   ],
   "source": [
    "import pandas as pd\n",
    "import numpy as np\n",
    "import matplotlib.pyplot as plt\n",
    "import seaborn as sns\n",
    "\n",
    "df=pd.read_csv('F:/EDA_projects/IPL/matches.csv')\n",
    "df.head()"
   ]
  },
  {
   "cell_type": "code",
   "execution_count": 2,
   "metadata": {},
   "outputs": [
    {
     "data": {
      "text/plain": [
       "id                   0\n",
       "season               0\n",
       "city                 7\n",
       "date                 0\n",
       "team1                0\n",
       "team2                0\n",
       "toss_winner          0\n",
       "toss_decision        0\n",
       "result               0\n",
       "dl_applied           0\n",
       "winner               3\n",
       "win_by_runs          0\n",
       "win_by_wickets       0\n",
       "player_of_match      3\n",
       "venue                0\n",
       "umpire1              1\n",
       "umpire2              1\n",
       "umpire3            636\n",
       "dtype: int64"
      ]
     },
     "execution_count": 2,
     "metadata": {},
     "output_type": "execute_result"
    }
   ],
   "source": [
    "df.isnull().sum()"
   ]
  },
  {
   "cell_type": "code",
   "execution_count": 3,
   "metadata": {},
   "outputs": [
    {
     "data": {
      "text/plain": [
       "['city', 'winner', 'player_of_match', 'umpire1', 'umpire2', 'umpire3']"
      ]
     },
     "execution_count": 3,
     "metadata": {},
     "output_type": "execute_result"
    }
   ],
   "source": [
    "features_with_na=[features for features in df.columns if df[features].isnull().sum()>=1]\n",
    "features_with_na"
   ]
  },
  {
   "cell_type": "code",
   "execution_count": null,
   "metadata": {},
   "outputs": [],
   "source": []
  },
  {
   "cell_type": "markdown",
   "metadata": {},
   "source": [
    "# Part 1- EDA"
   ]
  },
  {
   "cell_type": "code",
   "execution_count": null,
   "metadata": {},
   "outputs": [],
   "source": [
    "Count Total matches played in each season of IPL\n",
    "Most of the matches are played in which city\n",
    "total teams\n",
    "most of the matches are played on which ground\n",
    "most of the matches are played on which ground\n",
    "Most winner\n",
    "how many times fielding and batting are being choosen\n",
    "Fetch Data of 2017 season\n",
    "In 2017,When was first and last match played?"
   ]
  },
  {
   "cell_type": "markdown",
   "metadata": {},
   "source": [
    "# Count Total matches played in each season of IPL"
   ]
  },
  {
   "cell_type": "code",
   "execution_count": 5,
   "metadata": {},
   "outputs": [
    {
     "data": {
      "text/plain": [
       "2013    76\n",
       "2012    74\n",
       "2011    73\n",
       "2016    60\n",
       "2014    60\n",
       "2010    60\n",
       "2017    59\n",
       "2015    59\n",
       "2008    58\n",
       "2009    57\n",
       "Name: season, dtype: int64"
      ]
     },
     "execution_count": 5,
     "metadata": {},
     "output_type": "execute_result"
    }
   ],
   "source": [
    "\n",
    "df['season'].value_counts()"
   ]
  },
  {
   "cell_type": "code",
   "execution_count": 6,
   "metadata": {},
   "outputs": [
    {
     "data": {
      "text/plain": [
       "636"
      ]
     },
     "execution_count": 6,
     "metadata": {},
     "output_type": "execute_result"
    }
   ],
   "source": [
    "#count total matches\n",
    "len(df)\n"
   ]
  },
  {
   "cell_type": "markdown",
   "metadata": {},
   "source": [
    "# Most of the matches are played in which city"
   ]
  },
  {
   "cell_type": "code",
   "execution_count": 7,
   "metadata": {},
   "outputs": [
    {
     "data": {
      "text/plain": [
       "<matplotlib.axes._subplots.AxesSubplot at 0x28c45a8608>"
      ]
     },
     "execution_count": 7,
     "metadata": {},
     "output_type": "execute_result"
    },
    {
     "data": {
      "image/png": "[encoded data removed]",
      "text/plain": [
       "<Figure size 432x288 with 1 Axes>"
      ]
     },
     "metadata": {
      "needs_background": "light"
     },
     "output_type": "display_data"
    }
   ],
   "source": [
    "\n",
    "df['city'].value_counts().nlargest(10).plot.bar()\n"
   ]
  },
  {
   "cell_type": "markdown",
   "metadata": {},
   "source": [
    "# total teams"
   ]
  },
  {
   "cell_type": "code",
   "execution_count": 8,
   "metadata": {},
   "outputs": [
    {
     "data": {
      "text/plain": [
       "array(['Sunrisers Hyderabad', 'Mumbai Indians', 'Gujarat Lions',\n",
       "       'Rising Pune Supergiant', 'Royal Challengers Bangalore',\n",
       "       'Kolkata Knight Riders', 'Delhi Daredevils', 'Kings XI Punjab',\n",
       "       'Chennai Super Kings', 'Rajasthan Royals', 'Deccan Chargers',\n",
       "       'Kochi Tuskers Kerala', 'Pune Warriors', 'Rising Pune Supergiants'],\n",
       "      dtype=object)"
      ]
     },
     "execution_count": 8,
     "metadata": {},
     "output_type": "execute_result"
    }
   ],
   "source": [
    "\n",
    "df['team1'].unique()"
   ]
  },
  {
   "cell_type": "code",
   "execution_count": null,
   "metadata": {},
   "outputs": [],
   "source": []
  },
  {
   "cell_type": "markdown",
   "metadata": {},
   "source": [
    "# most of the matches are played on which ground"
   ]
  },
  {
   "cell_type": "code",
   "execution_count": 9,
   "metadata": {},
   "outputs": [
    {
     "data": {
      "text/plain": [
       "M Chinnaswamy Stadium                                   66\n",
       "Eden Gardens                                            61\n",
       "Feroz Shah Kotla                                        60\n",
       "Wankhede Stadium                                        57\n",
       "Rajiv Gandhi International Stadium, Uppal               49\n",
       "MA Chidambaram Stadium, Chepauk                         48\n",
       "Punjab Cricket Association Stadium, Mohali              35\n",
       "Sawai Mansingh Stadium                                  33\n",
       "Subrata Roy Sahara Stadium                              17\n",
       "Dr DY Patil Sports Academy                              17\n",
       "Maharashtra Cricket Association Stadium                 15\n",
       "Kingsmead                                               15\n",
       "Sardar Patel Stadium, Motera                            12\n",
       "SuperSport Park                                         12\n",
       "Brabourne Stadium                                       11\n",
       "Dr. Y.S. Rajasekhara Reddy ACA-VDCA Cricket Stadium     11\n",
       "Punjab Cricket Association IS Bindra Stadium, Mohali    11\n",
       "Saurashtra Cricket Association Stadium                  10\n",
       "Himachal Pradesh Cricket Association Stadium             9\n",
       "New Wanderers Stadium                                    8\n",
       "Sheikh Zayed Stadium                                     7\n",
       "St George's Park                                         7\n",
       "Barabati Stadium                                         7\n",
       "JSCA International Stadium Complex                       7\n",
       "Dubai International Cricket Stadium                      7\n",
       "Newlands                                                 7\n",
       "Shaheed Veer Narayan Singh International Stadium         6\n",
       "Sharjah Cricket Stadium                                  6\n",
       "Holkar Cricket Stadium                                   5\n",
       "Nehru Stadium                                            5\n",
       "Green Park                                               4\n",
       "De Beers Diamond Oval                                    3\n",
       "Buffalo Park                                             3\n",
       "Vidarbha Cricket Association Stadium, Jamtha             3\n",
       "OUTsurance Oval                                          2\n",
       "Name: venue, dtype: int64"
      ]
     },
     "execution_count": 9,
     "metadata": {},
     "output_type": "execute_result"
    }
   ],
   "source": [
    "\n",
    "df['venue'].value_counts()"
   ]
  },
  {
   "cell_type": "code",
   "execution_count": 10,
   "metadata": {},
   "outputs": [
    {
     "data": {
      "text/plain": [
       "<matplotlib.axes._subplots.AxesSubplot at 0x28c840fec8>"
      ]
     },
     "execution_count": 10,
     "metadata": {},
     "output_type": "execute_result"
    },
    {
     "data": {
      "image/png": "[encoded data removed]",
      "text/plain": [
       "<Figure size 432x288 with 1 Axes>"
      ]
     },
     "metadata": {
      "needs_background": "light"
     },
     "output_type": "display_data"
    }
   ],
   "source": [
    "df['venue'].value_counts().nlargest(10).plot.bar()"
   ]
  },
  {
   "cell_type": "markdown",
   "metadata": {},
   "source": [
    "# Most Times player of the match "
   ]
  },
  {
   "cell_type": "code",
   "execution_count": 11,
   "metadata": {},
   "outputs": [
    {
     "data": {
      "text/plain": [
       "<matplotlib.axes._subplots.AxesSubplot at 0x28c8516908>"
      ]
     },
     "execution_count": 11,
     "metadata": {},
     "output_type": "execute_result"
    },
    {
     "data": {
      "image/png": "[encoded data removed]",
      "text/plain": [
       "<Figure size 432x288 with 1 Axes>"
      ]
     },
     "metadata": {
      "needs_background": "light"
     },
     "output_type": "display_data"
    }
   ],
   "source": [
    "\n",
    "df['player_of_match'].value_counts().nlargest(10).plot.bar()\n"
   ]
  },
  {
   "cell_type": "markdown",
   "metadata": {},
   "source": [
    "# Most winner "
   ]
  },
  {
   "cell_type": "code",
   "execution_count": 12,
   "metadata": {},
   "outputs": [
    {
     "data": {
      "text/plain": [
       "<matplotlib.axes._subplots.AxesSubplot at 0x28c85a27c8>"
      ]
     },
     "execution_count": 12,
     "metadata": {},
     "output_type": "execute_result"
    },
    {
     "data": {
      "image/png": "[encoded data removed]",
      "text/plain": [
       "<Figure size 432x288 with 1 Axes>"
      ]
     },
     "metadata": {
      "needs_background": "light"
     },
     "output_type": "display_data"
    }
   ],
   "source": [
    "\n",
    "df['winner'].value_counts().plot.bar()"
   ]
  },
  {
   "cell_type": "markdown",
   "metadata": {},
   "source": [
    "# how many times fielding and batting are being choosen"
   ]
  },
  {
   "cell_type": "code",
   "execution_count": 13,
   "metadata": {},
   "outputs": [
    {
     "data": {
      "text/plain": [
       "field    363\n",
       "bat      273\n",
       "Name: toss_decision, dtype: int64"
      ]
     },
     "execution_count": 13,
     "metadata": {},
     "output_type": "execute_result"
    }
   ],
   "source": [
    "\n",
    "df['toss_decision'].value_counts()"
   ]
  },
  {
   "cell_type": "code",
   "execution_count": 188,
   "metadata": {},
   "outputs": [
    {
     "data": {
      "text/plain": [
       "Text(0.5, 1.0, 'Fielding vs batting percenatge in IPL')"
      ]
     },
     "execution_count": 188,
     "metadata": {},
     "output_type": "execute_result"
    },
    {
     "data": {
      "image/png": "[encoded data removed]",
      "text/plain": [
       "<Figure size 432x288 with 1 Axes>"
      ]
     },
     "metadata": {},
     "output_type": "display_data"
    }
   ],
   "source": [
    "slices=[363,273]\n",
    "labels=['field','bat']\n",
    "explode=[0.1,0]\n",
    "plt.pie(slices,labels=labels,explode=explode,shadow=True, autopct='%1.1f%%')\n",
    "plt.title('Fielding vs batting percenatge in IPL')"
   ]
  },
  {
   "cell_type": "markdown",
   "metadata": {},
   "source": [
    "# Fetch Data of 2017 season"
   ]
  },
  {
   "cell_type": "code",
   "execution_count": 3,
   "metadata": {},
   "outputs": [
    {
     "data": {
      "text/plain": [
       "(59, 18)"
      ]
     },
     "execution_count": 3,
     "metadata": {},
     "output_type": "execute_result"
    }
   ],
   "source": [
    "\n",
    "df_2017=df[df['season']==2017]\n",
    "df_2017.shape"
   ]
  },
  {
   "cell_type": "code",
   "execution_count": 23,
   "metadata": {},
   "outputs": [
    {
     "data": {
      "text/html": [
       "<div>\n",
       "<style scoped>\n",
       "    .dataframe tbody tr th:only-of-type {\n",
       "        vertical-align: middle;\n",
       "    }\n",
       "\n",
       "    .dataframe tbody tr th {\n",
       "        vertical-align: top;\n",
       "    }\n",
       "\n",
       "    .dataframe thead th {\n",
       "        text-align: right;\n",
       "    }\n",
       "</style>\n",
       "<table border=\"1\" class=\"dataframe\">\n",
       "  <thead>\n",
       "    <tr style=\"text-align: right;\">\n",
       "      <th></th>\n",
       "      <th>id</th>\n",
       "      <th>season</th>\n",
       "      <th>city</th>\n",
       "      <th>date</th>\n",
       "      <th>team1</th>\n",
       "      <th>team2</th>\n",
       "      <th>toss_winner</th>\n",
       "      <th>toss_decision</th>\n",
       "      <th>result</th>\n",
       "      <th>dl_applied</th>\n",
       "      <th>winner</th>\n",
       "      <th>win_by_runs</th>\n",
       "      <th>win_by_wickets</th>\n",
       "      <th>player_of_match</th>\n",
       "      <th>venue</th>\n",
       "      <th>umpire1</th>\n",
       "      <th>umpire2</th>\n",
       "      <th>umpire3</th>\n",
       "    </tr>\n",
       "  </thead>\n",
       "  <tbody>\n",
       "    <tr>\n",
       "      <td>0</td>\n",
       "      <td>1</td>\n",
       "      <td>2017</td>\n",
       "      <td>Hyderabad</td>\n",
       "      <td>2017-04-05</td>\n",
       "      <td>Sunrisers Hyderabad</td>\n",
       "      <td>Royal Challengers Bangalore</td>\n",
       "      <td>Royal Challengers Bangalore</td>\n",
       "      <td>field</td>\n",
       "      <td>normal</td>\n",
       "      <td>0</td>\n",
       "      <td>Sunrisers Hyderabad</td>\n",
       "      <td>35</td>\n",
       "      <td>0</td>\n",
       "      <td>Yuvraj Singh</td>\n",
       "      <td>Rajiv Gandhi International Stadium, Uppal</td>\n",
       "      <td>AY Dandekar</td>\n",
       "      <td>NJ Llong</td>\n",
       "      <td>NaN</td>\n",
       "    </tr>\n",
       "    <tr>\n",
       "      <td>1</td>\n",
       "      <td>2</td>\n",
       "      <td>2017</td>\n",
       "      <td>Pune</td>\n",
       "      <td>2017-04-06</td>\n",
       "      <td>Mumbai Indians</td>\n",
       "      <td>Rising Pune Supergiant</td>\n",
       "      <td>Rising Pune Supergiant</td>\n",
       "      <td>field</td>\n",
       "      <td>normal</td>\n",
       "      <td>0</td>\n",
       "      <td>Rising Pune Supergiant</td>\n",
       "      <td>0</td>\n",
       "      <td>7</td>\n",
       "      <td>SPD Smith</td>\n",
       "      <td>Maharashtra Cricket Association Stadium</td>\n",
       "      <td>A Nand Kishore</td>\n",
       "      <td>S Ravi</td>\n",
       "      <td>NaN</td>\n",
       "    </tr>\n",
       "    <tr>\n",
       "      <td>2</td>\n",
       "      <td>3</td>\n",
       "      <td>2017</td>\n",
       "      <td>Rajkot</td>\n",
       "      <td>2017-04-07</td>\n",
       "      <td>Gujarat Lions</td>\n",
       "      <td>Kolkata Knight Riders</td>\n",
       "      <td>Kolkata Knight Riders</td>\n",
       "      <td>field</td>\n",
       "      <td>normal</td>\n",
       "      <td>0</td>\n",
       "      <td>Kolkata Knight Riders</td>\n",
       "      <td>0</td>\n",
       "      <td>10</td>\n",
       "      <td>CA Lynn</td>\n",
       "      <td>Saurashtra Cricket Association Stadium</td>\n",
       "      <td>Nitin Menon</td>\n",
       "      <td>CK Nandan</td>\n",
       "      <td>NaN</td>\n",
       "    </tr>\n",
       "    <tr>\n",
       "      <td>3</td>\n",
       "      <td>4</td>\n",
       "      <td>2017</td>\n",
       "      <td>Indore</td>\n",
       "      <td>2017-04-08</td>\n",
       "      <td>Rising Pune Supergiant</td>\n",
       "      <td>Kings XI Punjab</td>\n",
       "      <td>Kings XI Punjab</td>\n",
       "      <td>field</td>\n",
       "      <td>normal</td>\n",
       "      <td>0</td>\n",
       "      <td>Kings XI Punjab</td>\n",
       "      <td>0</td>\n",
       "      <td>6</td>\n",
       "      <td>GJ Maxwell</td>\n",
       "      <td>Holkar Cricket Stadium</td>\n",
       "      <td>AK Chaudhary</td>\n",
       "      <td>C Shamshuddin</td>\n",
       "      <td>NaN</td>\n",
       "    </tr>\n",
       "    <tr>\n",
       "      <td>4</td>\n",
       "      <td>5</td>\n",
       "      <td>2017</td>\n",
       "      <td>Bangalore</td>\n",
       "      <td>2017-04-08</td>\n",
       "      <td>Royal Challengers Bangalore</td>\n",
       "      <td>Delhi Daredevils</td>\n",
       "      <td>Royal Challengers Bangalore</td>\n",
       "      <td>bat</td>\n",
       "      <td>normal</td>\n",
       "      <td>0</td>\n",
       "      <td>Royal Challengers Bangalore</td>\n",
       "      <td>15</td>\n",
       "      <td>0</td>\n",
       "      <td>KM Jadhav</td>\n",
       "      <td>M Chinnaswamy Stadium</td>\n",
       "      <td>NaN</td>\n",
       "      <td>NaN</td>\n",
       "      <td>NaN</td>\n",
       "    </tr>\n",
       "  </tbody>\n",
       "</table>\n",
       "</div>"
      ],
      "text/plain": [
       "   id  season       city        date                        team1  \\\n",
       "0   1    2017  Hyderabad  2017-04-05          Sunrisers Hyderabad   \n",
       "1   2    2017       Pune  2017-04-06               Mumbai Indians   \n",
       "2   3    2017     Rajkot  2017-04-07                Gujarat Lions   \n",
       "3   4    2017     Indore  2017-04-08       Rising Pune Supergiant   \n",
       "4   5    2017  Bangalore  2017-04-08  Royal Challengers Bangalore   \n",
       "\n",
       "                         team2                  toss_winner toss_decision  \\\n",
       "0  Royal Challengers Bangalore  Royal Challengers Bangalore         field   \n",
       "1       Rising Pune Supergiant       Rising Pune Supergiant         field   \n",
       "2        Kolkata Knight Riders        Kolkata Knight Riders         field   \n",
       "3              Kings XI Punjab              Kings XI Punjab         field   \n",
       "4             Delhi Daredevils  Royal Challengers Bangalore           bat   \n",
       "\n",
       "   result  dl_applied                       winner  win_by_runs  \\\n",
       "0  normal           0          Sunrisers Hyderabad           35   \n",
       "1  normal           0       Rising Pune Supergiant            0   \n",
       "2  normal           0        Kolkata Knight Riders            0   \n",
       "3  normal           0              Kings XI Punjab            0   \n",
       "4  normal           0  Royal Challengers Bangalore           15   \n",
       "\n",
       "   win_by_wickets player_of_match                                      venue  \\\n",
       "0               0    Yuvraj Singh  Rajiv Gandhi International Stadium, Uppal   \n",
       "1               7       SPD Smith    Maharashtra Cricket Association Stadium   \n",
       "2              10         CA Lynn     Saurashtra Cricket Association Stadium   \n",
       "3               6      GJ Maxwell                     Holkar Cricket Stadium   \n",
       "4               0       KM Jadhav                      M Chinnaswamy Stadium   \n",
       "\n",
       "          umpire1        umpire2  umpire3  \n",
       "0     AY Dandekar       NJ Llong      NaN  \n",
       "1  A Nand Kishore         S Ravi      NaN  \n",
       "2     Nitin Menon      CK Nandan      NaN  \n",
       "3    AK Chaudhary  C Shamshuddin      NaN  \n",
       "4             NaN            NaN      NaN  "
      ]
     },
     "execution_count": 23,
     "metadata": {},
     "output_type": "execute_result"
    }
   ],
   "source": [
    "df_2017.head()"
   ]
  },
  {
   "cell_type": "markdown",
   "metadata": {},
   "source": [
    "# in 2017 which team wins most"
   ]
  },
  {
   "cell_type": "code",
   "execution_count": 14,
   "metadata": {},
   "outputs": [
    {
     "data": {
      "text/plain": [
       "<matplotlib.axes._subplots.AxesSubplot at 0x28c863d908>"
      ]
     },
     "execution_count": 14,
     "metadata": {},
     "output_type": "execute_result"
    },
    {
     "data": {
      "image/png": "[encoded data removed]",
      "text/plain": [
       "<Figure size 432x288 with 1 Axes>"
      ]
     },
     "metadata": {
      "needs_background": "light"
     },
     "output_type": "display_data"
    }
   ],
   "source": [
    "\n",
    "df_2017['winner'].value_counts().plot.bar()"
   ]
  },
  {
   "cell_type": "markdown",
   "metadata": {},
   "source": [
    "# in 2017,When was first and last match played?"
   ]
  },
  {
   "cell_type": "code",
   "execution_count": 15,
   "metadata": {},
   "outputs": [
    {
     "name": "stderr",
     "output_type": "stream",
     "text": [
      "C:\\Users\\mcr\\Anaconda3\\lib\\site-packages\\ipykernel_launcher.py:2: SettingWithCopyWarning: \n",
      "A value is trying to be set on a copy of a slice from a DataFrame.\n",
      "Try using .loc[row_indexer,col_indexer] = value instead\n",
      "\n",
      "See the caveats in the documentation: http://pandas.pydata.org/pandas-docs/stable/user_guide/indexing.html#returning-a-view-versus-a-copy\n",
      "  \n"
     ]
    }
   ],
   "source": [
    "\n",
    "df_2017['date']=pd.to_datetime(df_2017['date'])\n"
   ]
  },
  {
   "cell_type": "code",
   "execution_count": 17,
   "metadata": {},
   "outputs": [
    {
     "data": {
      "text/plain": [
       "Timestamp('2017-04-05 00:00:00')"
      ]
     },
     "execution_count": 17,
     "metadata": {},
     "output_type": "execute_result"
    }
   ],
   "source": [
    "#1st match of season 2017\n",
    "df_2017['date'].min()\n"
   ]
  },
  {
   "cell_type": "code",
   "execution_count": 18,
   "metadata": {},
   "outputs": [
    {
     "data": {
      "text/plain": [
       "Timestamp('2017-05-21 00:00:00')"
      ]
     },
     "execution_count": 18,
     "metadata": {},
     "output_type": "execute_result"
    }
   ],
   "source": [
    "#last match of season 2017\n",
    "df_2017['date'].max()"
   ]
  },
  {
   "cell_type": "code",
   "execution_count": null,
   "metadata": {},
   "outputs": [],
   "source": []
  },
  {
   "cell_type": "code",
   "execution_count": null,
   "metadata": {},
   "outputs": [],
   "source": []
  },
  {
   "cell_type": "markdown",
   "metadata": {},
   "source": [
    "# Part-2"
   ]
  },
  {
   "cell_type": "code",
   "execution_count": null,
   "metadata": {},
   "outputs": [],
   "source": []
  },
  {
   "cell_type": "markdown",
   "metadata": {},
   "source": [
    "# in 2017,how many matches did MI plays"
   ]
  },
  {
   "cell_type": "code",
   "execution_count": 21,
   "metadata": {},
   "outputs": [
    {
     "name": "stdout",
     "output_type": "stream",
     "text": [
      "total matches played by Mumbai Indians are 17\n"
     ]
    }
   ],
   "source": [
    "\n",
    "df_2017['team1'].value_counts()\n",
    "df_2017['team2'].value_counts()\n",
    "\n",
    "dict1=dict(df_2017['team1'].value_counts())\n",
    "\n",
    "dict2=dict(df_2017['team2'].value_counts())\n",
    "\n",
    "\n",
    "print('total matches played by Mumbai Indians are {}'.format( dict1['Mumbai Indians']+dict2['Mumbai Indians']))"
   ]
  },
  {
   "cell_type": "markdown",
   "metadata": {},
   "source": [
    "# to acess which team play how many matches in 2017"
   ]
  },
  {
   "cell_type": "code",
   "execution_count": 31,
   "metadata": {},
   "outputs": [
    {
     "name": "stdout",
     "output_type": "stream",
     "text": [
      "total matches played by Sunrisers Hyderabad are 14\n",
      "total matches played by Mumbai Indians are 17\n",
      "total matches played by Gujarat Lions are 14\n",
      "total matches played by Rising Pune Supergiant are 16\n",
      "total matches played by Royal Challengers Bangalore are 13\n",
      "total matches played by Kolkata Knight Riders are 16\n",
      "total matches played by Delhi Daredevils are 14\n",
      "total matches played by Kings XI Punjab are 14\n"
     ]
    }
   ],
   "source": [
    "\n",
    "list1=list(df_2017['team1'].unique())\n",
    "for feature in list1:   \n",
    "    dict1=dict(df_2017['team1'].value_counts())\n",
    "    dict2=dict(df_2017['team2'].value_counts())\n",
    "    print('total matches played by {} are {}'.format( feature,dict1[feature]+dict2[feature]))"
   ]
  },
  {
   "cell_type": "markdown",
   "metadata": {},
   "source": [
    "# in 2017,most matches are played in which city"
   ]
  },
  {
   "cell_type": "code",
   "execution_count": 25,
   "metadata": {},
   "outputs": [
    {
     "data": {
      "text/plain": [
       "<matplotlib.axes._subplots.AxesSubplot at 0x28c862a308>"
      ]
     },
     "execution_count": 25,
     "metadata": {},
     "output_type": "execute_result"
    },
    {
     "data": {
      "image/png": "[encoded data removed]",
      "text/plain": [
       "<Figure size 432x288 with 1 Axes>"
      ]
     },
     "metadata": {
      "needs_background": "light"
     },
     "output_type": "display_data"
    }
   ],
   "source": [
    "\n",
    "df_2017['city'].value_counts().plot.bar()"
   ]
  },
  {
   "cell_type": "markdown",
   "metadata": {},
   "source": [
    "# in 2017,which team wins most"
   ]
  },
  {
   "cell_type": "code",
   "execution_count": 4,
   "metadata": {},
   "outputs": [
    {
     "data": {
      "text/plain": [
       "<matplotlib.axes._subplots.AxesSubplot at 0xd53e0cb748>"
      ]
     },
     "execution_count": 4,
     "metadata": {},
     "output_type": "execute_result"
    },
    {
     "data": {
      "image/png": "[encoded data removed]",
      "text/plain": [
       "<Figure size 432x288 with 1 Axes>"
      ]
     },
     "metadata": {
      "needs_background": "light"
     },
     "output_type": "display_data"
    }
   ],
   "source": [
    "df_2017['winner'].value_counts().plot.bar()"
   ]
  },
  {
   "cell_type": "markdown",
   "metadata": {},
   "source": [
    "# how many times dl is applied in 2017"
   ]
  },
  {
   "cell_type": "code",
   "execution_count": 40,
   "metadata": {},
   "outputs": [
    {
     "data": {
      "text/plain": [
       "<matplotlib.axes._subplots.AxesSubplot at 0x28cb991d08>"
      ]
     },
     "execution_count": 40,
     "metadata": {},
     "output_type": "execute_result"
    },
    {
     "data": {
      "image/png": "[encoded data removed]",
      "text/plain": [
       "<Figure size 432x288 with 1 Axes>"
      ]
     },
     "metadata": {
      "needs_background": "light"
     },
     "output_type": "display_data"
    }
   ],
   "source": [
    "\n",
    "df_2017['dl_applied'].value_counts().plot.bar()"
   ]
  },
  {
   "cell_type": "markdown",
   "metadata": {},
   "source": [
    "# in 2017,how many times teams won by runs"
   ]
  },
  {
   "cell_type": "code",
   "execution_count": 47,
   "metadata": {},
   "outputs": [
    {
     "data": {
      "text/plain": [
       "26"
      ]
     },
     "execution_count": 47,
     "metadata": {},
     "output_type": "execute_result"
    }
   ],
   "source": [
    "\n",
    "filter=df_2017['win_by_runs']==0\n",
    "df_2017_runs=df_2017[~filter]\n",
    "len(df_2017_runs['win_by_runs'])"
   ]
  },
  {
   "cell_type": "markdown",
   "metadata": {},
   "source": [
    "# in 2017,how many times,teams won by wickets"
   ]
  },
  {
   "cell_type": "code",
   "execution_count": 48,
   "metadata": {},
   "outputs": [
    {
     "data": {
      "text/plain": [
       "32"
      ]
     },
     "execution_count": 48,
     "metadata": {},
     "output_type": "execute_result"
    }
   ],
   "source": [
    "\n",
    "filter=df_2017['win_by_wickets']==0\n",
    "df_2017_wickets=df_2017[~filter]\n",
    "len(df_2017_wickets['win_by_wickets'])"
   ]
  },
  {
   "cell_type": "markdown",
   "metadata": {},
   "source": [
    "# 2017,most time player of the match"
   ]
  },
  {
   "cell_type": "code",
   "execution_count": 50,
   "metadata": {},
   "outputs": [
    {
     "data": {
      "text/plain": [
       "<matplotlib.axes._subplots.AxesSubplot at 0x28cbb542c8>"
      ]
     },
     "execution_count": 50,
     "metadata": {},
     "output_type": "execute_result"
    },
    {
     "data": {
      "image/png": "[encoded data removed]",
      "text/plain": [
       "<Figure size 432x288 with 1 Axes>"
      ]
     },
     "metadata": {
      "needs_background": "light"
     },
     "output_type": "display_data"
    }
   ],
   "source": [
    "\n",
    "df_2017['player_of_match'].value_counts().nlargest(10).plot.bar()"
   ]
  },
  {
   "cell_type": "markdown",
   "metadata": {},
   "source": [
    "# most of the matches played in which ground in 2017"
   ]
  },
  {
   "cell_type": "code",
   "execution_count": 51,
   "metadata": {},
   "outputs": [
    {
     "data": {
      "text/plain": [
       "Wankhede Stadium                                        8\n",
       "Rajiv Gandhi International Stadium, Uppal               8\n",
       "M Chinnaswamy Stadium                                   8\n",
       "Eden Gardens                                            7\n",
       "Maharashtra Cricket Association Stadium                 7\n",
       "Feroz Shah Kotla                                        7\n",
       "Saurashtra Cricket Association Stadium                  5\n",
       "Punjab Cricket Association IS Bindra Stadium, Mohali    4\n",
       "Holkar Cricket Stadium                                  3\n",
       "Green Park                                              2\n",
       "Name: venue, dtype: int64"
      ]
     },
     "execution_count": 51,
     "metadata": {},
     "output_type": "execute_result"
    }
   ],
   "source": [
    "\n",
    "df_2017['venue'].value_counts()"
   ]
  },
  {
   "cell_type": "markdown",
   "metadata": {},
   "source": [
    "# Umpiring is done by umpires in how many matches"
   ]
  },
  {
   "cell_type": "code",
   "execution_count": 52,
   "metadata": {},
   "outputs": [
    {
     "data": {
      "text/plain": [
       "AY Dandekar              9\n",
       "A Nand Kishore           8\n",
       "AK Chaudhary             8\n",
       "KN Ananthapadmanabhan    7\n",
       "Nitin Menon              6\n",
       "YC Barde                 4\n",
       "CB Gaffaney              4\n",
       "NJ Llong                 3\n",
       "A Deshmukh               3\n",
       "M Erasmus                3\n",
       "S Ravi                   2\n",
       "CK Nandan                1\n",
       "Name: umpire1, dtype: int64"
      ]
     },
     "execution_count": 52,
     "metadata": {},
     "output_type": "execute_result"
    }
   ],
   "source": [
    "df_2017['umpire1'].value_counts()"
   ]
  },
  {
   "cell_type": "markdown",
   "metadata": {},
   "source": [
    "# all matches of MI "
   ]
  },
  {
   "cell_type": "code",
   "execution_count": 7,
   "metadata": {},
   "outputs": [
    {
     "data": {
      "text/html": [
       "<div>\n",
       "<style scoped>\n",
       "    .dataframe tbody tr th:only-of-type {\n",
       "        vertical-align: middle;\n",
       "    }\n",
       "\n",
       "    .dataframe tbody tr th {\n",
       "        vertical-align: top;\n",
       "    }\n",
       "\n",
       "    .dataframe thead th {\n",
       "        text-align: right;\n",
       "    }\n",
       "</style>\n",
       "<table border=\"1\" class=\"dataframe\">\n",
       "  <thead>\n",
       "    <tr style=\"text-align: right;\">\n",
       "      <th></th>\n",
       "      <th>id</th>\n",
       "      <th>season</th>\n",
       "      <th>city</th>\n",
       "      <th>date</th>\n",
       "      <th>team1</th>\n",
       "      <th>team2</th>\n",
       "      <th>toss_winner</th>\n",
       "      <th>toss_decision</th>\n",
       "      <th>result</th>\n",
       "      <th>dl_applied</th>\n",
       "      <th>winner</th>\n",
       "      <th>win_by_runs</th>\n",
       "      <th>win_by_wickets</th>\n",
       "      <th>player_of_match</th>\n",
       "      <th>venue</th>\n",
       "      <th>umpire1</th>\n",
       "      <th>umpire2</th>\n",
       "      <th>umpire3</th>\n",
       "    </tr>\n",
       "  </thead>\n",
       "  <tbody>\n",
       "    <tr>\n",
       "      <td>1</td>\n",
       "      <td>2</td>\n",
       "      <td>2017</td>\n",
       "      <td>Pune</td>\n",
       "      <td>4/6/2017</td>\n",
       "      <td>Mumbai Indians</td>\n",
       "      <td>Rising Pune Supergiant</td>\n",
       "      <td>Rising Pune Supergiant</td>\n",
       "      <td>field</td>\n",
       "      <td>normal</td>\n",
       "      <td>0</td>\n",
       "      <td>Rising Pune Supergiant</td>\n",
       "      <td>0</td>\n",
       "      <td>7</td>\n",
       "      <td>SPD Smith</td>\n",
       "      <td>Maharashtra Cricket Association Stadium</td>\n",
       "      <td>A Nand Kishore</td>\n",
       "      <td>S Ravi</td>\n",
       "      <td>NaN</td>\n",
       "    </tr>\n",
       "    <tr>\n",
       "      <td>6</td>\n",
       "      <td>7</td>\n",
       "      <td>2017</td>\n",
       "      <td>Mumbai</td>\n",
       "      <td>4/9/2017</td>\n",
       "      <td>Kolkata Knight Riders</td>\n",
       "      <td>Mumbai Indians</td>\n",
       "      <td>Mumbai Indians</td>\n",
       "      <td>field</td>\n",
       "      <td>normal</td>\n",
       "      <td>0</td>\n",
       "      <td>Mumbai Indians</td>\n",
       "      <td>0</td>\n",
       "      <td>4</td>\n",
       "      <td>N Rana</td>\n",
       "      <td>Wankhede Stadium</td>\n",
       "      <td>Nitin Menon</td>\n",
       "      <td>CK Nandan</td>\n",
       "      <td>NaN</td>\n",
       "    </tr>\n",
       "    <tr>\n",
       "      <td>9</td>\n",
       "      <td>10</td>\n",
       "      <td>2017</td>\n",
       "      <td>Mumbai</td>\n",
       "      <td>4/12/2017</td>\n",
       "      <td>Sunrisers Hyderabad</td>\n",
       "      <td>Mumbai Indians</td>\n",
       "      <td>Mumbai Indians</td>\n",
       "      <td>field</td>\n",
       "      <td>normal</td>\n",
       "      <td>0</td>\n",
       "      <td>Mumbai Indians</td>\n",
       "      <td>0</td>\n",
       "      <td>4</td>\n",
       "      <td>JJ Bumrah</td>\n",
       "      <td>Wankhede Stadium</td>\n",
       "      <td>Nitin Menon</td>\n",
       "      <td>CK Nandan</td>\n",
       "      <td>NaN</td>\n",
       "    </tr>\n",
       "    <tr>\n",
       "      <td>11</td>\n",
       "      <td>12</td>\n",
       "      <td>2017</td>\n",
       "      <td>Bangalore</td>\n",
       "      <td>4/14/2017</td>\n",
       "      <td>Royal Challengers Bangalore</td>\n",
       "      <td>Mumbai Indians</td>\n",
       "      <td>Mumbai Indians</td>\n",
       "      <td>field</td>\n",
       "      <td>normal</td>\n",
       "      <td>0</td>\n",
       "      <td>Mumbai Indians</td>\n",
       "      <td>0</td>\n",
       "      <td>4</td>\n",
       "      <td>KA Pollard</td>\n",
       "      <td>M Chinnaswamy Stadium</td>\n",
       "      <td>KN Ananthapadmanabhan</td>\n",
       "      <td>AK Chaudhary</td>\n",
       "      <td>NaN</td>\n",
       "    </tr>\n",
       "    <tr>\n",
       "      <td>15</td>\n",
       "      <td>16</td>\n",
       "      <td>2017</td>\n",
       "      <td>Mumbai</td>\n",
       "      <td>4/16/2017</td>\n",
       "      <td>Gujarat Lions</td>\n",
       "      <td>Mumbai Indians</td>\n",
       "      <td>Mumbai Indians</td>\n",
       "      <td>field</td>\n",
       "      <td>normal</td>\n",
       "      <td>0</td>\n",
       "      <td>Mumbai Indians</td>\n",
       "      <td>0</td>\n",
       "      <td>6</td>\n",
       "      <td>N Rana</td>\n",
       "      <td>Wankhede Stadium</td>\n",
       "      <td>A Nand Kishore</td>\n",
       "      <td>S Ravi</td>\n",
       "      <td>NaN</td>\n",
       "    </tr>\n",
       "  </tbody>\n",
       "</table>\n",
       "</div>"
      ],
      "text/plain": [
       "    id  season       city       date                        team1  \\\n",
       "1    2    2017       Pune   4/6/2017               Mumbai Indians   \n",
       "6    7    2017     Mumbai   4/9/2017        Kolkata Knight Riders   \n",
       "9   10    2017     Mumbai  4/12/2017          Sunrisers Hyderabad   \n",
       "11  12    2017  Bangalore  4/14/2017  Royal Challengers Bangalore   \n",
       "15  16    2017     Mumbai  4/16/2017                Gujarat Lions   \n",
       "\n",
       "                     team2             toss_winner toss_decision  result  \\\n",
       "1   Rising Pune Supergiant  Rising Pune Supergiant         field  normal   \n",
       "6           Mumbai Indians          Mumbai Indians         field  normal   \n",
       "9           Mumbai Indians          Mumbai Indians         field  normal   \n",
       "11          Mumbai Indians          Mumbai Indians         field  normal   \n",
       "15          Mumbai Indians          Mumbai Indians         field  normal   \n",
       "\n",
       "    dl_applied                  winner  win_by_runs  win_by_wickets  \\\n",
       "1            0  Rising Pune Supergiant            0               7   \n",
       "6            0          Mumbai Indians            0               4   \n",
       "9            0          Mumbai Indians            0               4   \n",
       "11           0          Mumbai Indians            0               4   \n",
       "15           0          Mumbai Indians            0               6   \n",
       "\n",
       "   player_of_match                                    venue  \\\n",
       "1        SPD Smith  Maharashtra Cricket Association Stadium   \n",
       "6           N Rana                         Wankhede Stadium   \n",
       "9        JJ Bumrah                         Wankhede Stadium   \n",
       "11      KA Pollard                    M Chinnaswamy Stadium   \n",
       "15          N Rana                         Wankhede Stadium   \n",
       "\n",
       "                  umpire1       umpire2  umpire3  \n",
       "1          A Nand Kishore        S Ravi      NaN  \n",
       "6             Nitin Menon     CK Nandan      NaN  \n",
       "9             Nitin Menon     CK Nandan      NaN  \n",
       "11  KN Ananthapadmanabhan  AK Chaudhary      NaN  \n",
       "15         A Nand Kishore        S Ravi      NaN  "
      ]
     },
     "execution_count": 7,
     "metadata": {},
     "output_type": "execute_result"
    }
   ],
   "source": [
    "\n",
    "filter=(df['team1']=='Mumbai Indians') | (df['team2']=='Mumbai Indians')\n",
    "df_mi=df[filter]\n",
    "df_mi.head().head(5)"
   ]
  },
  {
   "cell_type": "code",
   "execution_count": 63,
   "metadata": {},
   "outputs": [
    {
     "data": {
      "text/plain": [
       "(157, 18)"
      ]
     },
     "execution_count": 63,
     "metadata": {},
     "output_type": "execute_result"
    }
   ],
   "source": [
    "df_mi.shape"
   ]
  },
  {
   "cell_type": "markdown",
   "metadata": {},
   "source": [
    "# how much times mumbai wins the toss"
   ]
  },
  {
   "cell_type": "code",
   "execution_count": 192,
   "metadata": {},
   "outputs": [
    {
     "data": {
      "text/plain": [
       "85"
      ]
     },
     "execution_count": 192,
     "metadata": {},
     "output_type": "execute_result"
    }
   ],
   "source": [
    "\n",
    "len(df_mi[df_mi['toss_winner']=='Mumbai Indians'])"
   ]
  },
  {
   "cell_type": "markdown",
   "metadata": {},
   "source": [
    "# total matches between MI and CSK"
   ]
  },
  {
   "cell_type": "code",
   "execution_count": 139,
   "metadata": {},
   "outputs": [
    {
     "data": {
      "text/plain": [
       "22"
      ]
     },
     "execution_count": 139,
     "metadata": {},
     "output_type": "execute_result"
    }
   ],
   "source": [
    "\n",
    "len(df_mi[(df_mi['team1']=='Chennai Super Kings') | (df_mi['team2']=='Chennai Super Kings')])"
   ]
  },
  {
   "cell_type": "markdown",
   "metadata": {},
   "source": [
    "# among all matches between MI and CSK,how many MI wins"
   ]
  },
  {
   "cell_type": "code",
   "execution_count": 144,
   "metadata": {},
   "outputs": [
    {
     "data": {
      "text/plain": [
       "12"
      ]
     },
     "execution_count": 144,
     "metadata": {},
     "output_type": "execute_result"
    }
   ],
   "source": [
    "\n",
    "df_mi_csk=df_mi[(df_mi['team1']=='Chennai Super Kings') | (df_mi['team2']=='Chennai Super Kings')]\n",
    "len(df_mi_csk[df_mi_csk['winner']=='Mumbai Indians'])"
   ]
  },
  {
   "cell_type": "markdown",
   "metadata": {},
   "source": [
    "# among all matches between MI and CSK,how many MI winz and how many csk wins"
   ]
  },
  {
   "cell_type": "code",
   "execution_count": 148,
   "metadata": {},
   "outputs": [
    {
     "data": {
      "text/plain": [
       "<matplotlib.axes._subplots.AxesSubplot at 0x28cf202ac8>"
      ]
     },
     "execution_count": 148,
     "metadata": {},
     "output_type": "execute_result"
    },
    {
     "data": {
      "image/png": "[encoded data removed]",
      "text/plain": [
       "<Figure size 432x288 with 1 Axes>"
      ]
     },
     "metadata": {
      "needs_background": "light"
     },
     "output_type": "display_data"
    }
   ],
   "source": [
    "\n",
    "sns.countplot(x='winner',data=df_mi_csk)\n"
   ]
  },
  {
   "cell_type": "markdown",
   "metadata": {},
   "source": [
    "# during winning of MI,how many times he bowls and how many times bats first"
   ]
  },
  {
   "cell_type": "code",
   "execution_count": 194,
   "metadata": {},
   "outputs": [
    {
     "data": {
      "text/plain": [
       "Mumbai Indians         13\n",
       "Chennai Super Kings     9\n",
       "Name: toss_winner, dtype: int64"
      ]
     },
     "execution_count": 194,
     "metadata": {},
     "output_type": "execute_result"
    }
   ],
   "source": [
    "\n",
    "df_mi_csk['toss_winner'].value_counts()"
   ]
  },
  {
   "cell_type": "markdown",
   "metadata": {},
   "source": [
    "# how many times he choose bowl first after winning the toss"
   ]
  },
  {
   "cell_type": "code",
   "execution_count": 193,
   "metadata": {},
   "outputs": [
    {
     "data": {
      "text/plain": [
       "bat      7\n",
       "field    6\n",
       "Name: toss_decision, dtype: int64"
      ]
     },
     "execution_count": 193,
     "metadata": {},
     "output_type": "execute_result"
    }
   ],
   "source": [
    "\n",
    "df_mi_csk[df_mi_csk['toss_winner']=='Mumbai Indians']['toss_decision'].value_counts()"
   ]
  },
  {
   "cell_type": "markdown",
   "metadata": {},
   "source": [
    "# how many times MI wins when he bats first"
   ]
  },
  {
   "cell_type": "code",
   "execution_count": 211,
   "metadata": {},
   "outputs": [
    {
     "data": {
      "text/plain": [
       "161    False\n",
       "210    False\n",
       "233    False\n",
       "385     True\n",
       "429     True\n",
       "453    False\n",
       "456     True\n",
       "469    False\n",
       "529    False\n",
       "558     True\n",
       "572     True\n",
       "Name: winner, dtype: bool"
      ]
     },
     "execution_count": 211,
     "metadata": {},
     "output_type": "execute_result"
    }
   ],
   "source": [
    "\n",
    "(df_mi_csk[df_mi_csk['toss_decision']=='bat'])['winner']=='Mumbai Indians'\n"
   ]
  },
  {
   "cell_type": "markdown",
   "metadata": {},
   "source": [
    "# among mumbai wins aginst CSK,how many times he bats first "
   ]
  },
  {
   "cell_type": "code",
   "execution_count": 161,
   "metadata": {},
   "outputs": [
    {
     "data": {
      "text/plain": [
       "field    7\n",
       "bat      5\n",
       "Name: toss_decision, dtype: int64"
      ]
     },
     "execution_count": 161,
     "metadata": {},
     "output_type": "execute_result"
    }
   ],
   "source": [
    "df_mi_csk[df_mi_csk['winner']=='Mumbai Indians']['toss_decision'].value_counts()"
   ]
  },
  {
   "cell_type": "markdown",
   "metadata": {},
   "source": [
    "# whenever MI wins by batting first,what exactly will be its best ground"
   ]
  },
  {
   "cell_type": "code",
   "execution_count": 165,
   "metadata": {},
   "outputs": [
    {
     "data": {
      "text/plain": [
       "MA Chidambaram Stadium, Chepauk    2\n",
       "Wankhede Stadium                   2\n",
       "Eden Gardens                       1\n",
       "Name: venue, dtype: int64"
      ]
     },
     "execution_count": 165,
     "metadata": {},
     "output_type": "execute_result"
    }
   ],
   "source": [
    "\n",
    "df_mi_csk[(df_mi_csk['winner']=='Mumbai Indians') & (df_mi_csk['toss_decision']=='bat')]['venue'].value_counts()"
   ]
  },
  {
   "cell_type": "code",
   "execution_count": 212,
   "metadata": {},
   "outputs": [
    {
     "data": {
      "text/plain": [
       "Text(0.5, 1.0, 'best grounds for MI when he bats first in IPL')"
      ]
     },
     "execution_count": 212,
     "metadata": {},
     "output_type": "execute_result"
    },
    {
     "data": {
      "image/png": "[encoded data removed]",
      "text/plain": [
       "<Figure size 432x288 with 1 Axes>"
      ]
     },
     "metadata": {},
     "output_type": "display_data"
    }
   ],
   "source": [
    "slices=[2,2,1]\n",
    "labels=['MA Chidambaram Stadium, Chepauk',   \n",
    "'Wankhede Stadium',                   \n",
    "'Eden Gardens']\n",
    "explode=[0,0.1,0]\n",
    "plt.pie(slices,labels=labels,explode=explode,shadow=True, autopct='%1.1f%%')\n",
    "plt.title('best grounds for MI when he bats first in IPL')"
   ]
  },
  {
   "cell_type": "markdown",
   "metadata": {},
   "source": [
    "# total matches he played with csk at wankhede"
   ]
  },
  {
   "cell_type": "code",
   "execution_count": 166,
   "metadata": {},
   "outputs": [
    {
     "data": {
      "text/html": [
       "<div>\n",
       "<style scoped>\n",
       "    .dataframe tbody tr th:only-of-type {\n",
       "        vertical-align: middle;\n",
       "    }\n",
       "\n",
       "    .dataframe tbody tr th {\n",
       "        vertical-align: top;\n",
       "    }\n",
       "\n",
       "    .dataframe thead th {\n",
       "        text-align: right;\n",
       "    }\n",
       "</style>\n",
       "<table border=\"1\" class=\"dataframe\">\n",
       "  <thead>\n",
       "    <tr style=\"text-align: right;\">\n",
       "      <th></th>\n",
       "      <th>id</th>\n",
       "      <th>season</th>\n",
       "      <th>city</th>\n",
       "      <th>date</th>\n",
       "      <th>team1</th>\n",
       "      <th>team2</th>\n",
       "      <th>toss_winner</th>\n",
       "      <th>toss_decision</th>\n",
       "      <th>result</th>\n",
       "      <th>dl_applied</th>\n",
       "      <th>winner</th>\n",
       "      <th>win_by_runs</th>\n",
       "      <th>win_by_wickets</th>\n",
       "      <th>player_of_match</th>\n",
       "      <th>venue</th>\n",
       "      <th>umpire1</th>\n",
       "      <th>umpire2</th>\n",
       "      <th>umpire3</th>\n",
       "    </tr>\n",
       "  </thead>\n",
       "  <tbody>\n",
       "    <tr>\n",
       "      <td>95</td>\n",
       "      <td>96</td>\n",
       "      <td>2008</td>\n",
       "      <td>Mumbai</td>\n",
       "      <td>2008-05-14</td>\n",
       "      <td>Chennai Super Kings</td>\n",
       "      <td>Mumbai Indians</td>\n",
       "      <td>Mumbai Indians</td>\n",
       "      <td>field</td>\n",
       "      <td>normal</td>\n",
       "      <td>0</td>\n",
       "      <td>Mumbai Indians</td>\n",
       "      <td>0</td>\n",
       "      <td>9</td>\n",
       "      <td>ST Jayasuriya</td>\n",
       "      <td>Wankhede Stadium</td>\n",
       "      <td>BR Doctrove</td>\n",
       "      <td>AM Saheba</td>\n",
       "      <td>NaN</td>\n",
       "    </tr>\n",
       "    <tr>\n",
       "      <td>256</td>\n",
       "      <td>257</td>\n",
       "      <td>2011</td>\n",
       "      <td>Mumbai</td>\n",
       "      <td>2011-04-22</td>\n",
       "      <td>Mumbai Indians</td>\n",
       "      <td>Chennai Super Kings</td>\n",
       "      <td>Chennai Super Kings</td>\n",
       "      <td>field</td>\n",
       "      <td>normal</td>\n",
       "      <td>0</td>\n",
       "      <td>Mumbai Indians</td>\n",
       "      <td>8</td>\n",
       "      <td>0</td>\n",
       "      <td>Harbhajan Singh</td>\n",
       "      <td>Wankhede Stadium</td>\n",
       "      <td>Asad Rauf</td>\n",
       "      <td>AM Saheba</td>\n",
       "      <td>NaN</td>\n",
       "    </tr>\n",
       "    <tr>\n",
       "      <td>354</td>\n",
       "      <td>355</td>\n",
       "      <td>2012</td>\n",
       "      <td>Mumbai</td>\n",
       "      <td>2012-05-06</td>\n",
       "      <td>Chennai Super Kings</td>\n",
       "      <td>Mumbai Indians</td>\n",
       "      <td>Mumbai Indians</td>\n",
       "      <td>field</td>\n",
       "      <td>normal</td>\n",
       "      <td>0</td>\n",
       "      <td>Mumbai Indians</td>\n",
       "      <td>0</td>\n",
       "      <td>2</td>\n",
       "      <td>DR Smith</td>\n",
       "      <td>Wankhede Stadium</td>\n",
       "      <td>Asad Rauf</td>\n",
       "      <td>S Asnani</td>\n",
       "      <td>NaN</td>\n",
       "    </tr>\n",
       "    <tr>\n",
       "      <td>429</td>\n",
       "      <td>430</td>\n",
       "      <td>2013</td>\n",
       "      <td>Mumbai</td>\n",
       "      <td>2013-05-05</td>\n",
       "      <td>Mumbai Indians</td>\n",
       "      <td>Chennai Super Kings</td>\n",
       "      <td>Mumbai Indians</td>\n",
       "      <td>bat</td>\n",
       "      <td>normal</td>\n",
       "      <td>0</td>\n",
       "      <td>Mumbai Indians</td>\n",
       "      <td>60</td>\n",
       "      <td>0</td>\n",
       "      <td>MG Johnson</td>\n",
       "      <td>Wankhede Stadium</td>\n",
       "      <td>HDPK Dharmasena</td>\n",
       "      <td>CK Nandan</td>\n",
       "      <td>NaN</td>\n",
       "    </tr>\n",
       "    <tr>\n",
       "      <td>489</td>\n",
       "      <td>490</td>\n",
       "      <td>2014</td>\n",
       "      <td>Mumbai</td>\n",
       "      <td>2014-05-10</td>\n",
       "      <td>Mumbai Indians</td>\n",
       "      <td>Chennai Super Kings</td>\n",
       "      <td>Chennai Super Kings</td>\n",
       "      <td>field</td>\n",
       "      <td>normal</td>\n",
       "      <td>0</td>\n",
       "      <td>Chennai Super Kings</td>\n",
       "      <td>0</td>\n",
       "      <td>4</td>\n",
       "      <td>DR Smith</td>\n",
       "      <td>Wankhede Stadium</td>\n",
       "      <td>HDPK Dharmasena</td>\n",
       "      <td>VA Kulkarni</td>\n",
       "      <td>NaN</td>\n",
       "    </tr>\n",
       "    <tr>\n",
       "      <td>529</td>\n",
       "      <td>530</td>\n",
       "      <td>2015</td>\n",
       "      <td>Mumbai</td>\n",
       "      <td>2015-04-17</td>\n",
       "      <td>Mumbai Indians</td>\n",
       "      <td>Chennai Super Kings</td>\n",
       "      <td>Mumbai Indians</td>\n",
       "      <td>bat</td>\n",
       "      <td>normal</td>\n",
       "      <td>0</td>\n",
       "      <td>Chennai Super Kings</td>\n",
       "      <td>0</td>\n",
       "      <td>6</td>\n",
       "      <td>A Nehra</td>\n",
       "      <td>Wankhede Stadium</td>\n",
       "      <td>AK Chaudhary</td>\n",
       "      <td>M Erasmus</td>\n",
       "      <td>NaN</td>\n",
       "    </tr>\n",
       "    <tr>\n",
       "      <td>572</td>\n",
       "      <td>573</td>\n",
       "      <td>2015</td>\n",
       "      <td>Mumbai</td>\n",
       "      <td>2015-05-19</td>\n",
       "      <td>Mumbai Indians</td>\n",
       "      <td>Chennai Super Kings</td>\n",
       "      <td>Mumbai Indians</td>\n",
       "      <td>bat</td>\n",
       "      <td>normal</td>\n",
       "      <td>0</td>\n",
       "      <td>Mumbai Indians</td>\n",
       "      <td>25</td>\n",
       "      <td>0</td>\n",
       "      <td>KA Pollard</td>\n",
       "      <td>Wankhede Stadium</td>\n",
       "      <td>HDPK Dharmasena</td>\n",
       "      <td>RK Illingworth</td>\n",
       "      <td>NaN</td>\n",
       "    </tr>\n",
       "  </tbody>\n",
       "</table>\n",
       "</div>"
      ],
      "text/plain": [
       "      id  season    city        date                team1  \\\n",
       "95    96    2008  Mumbai  2008-05-14  Chennai Super Kings   \n",
       "256  257    2011  Mumbai  2011-04-22       Mumbai Indians   \n",
       "354  355    2012  Mumbai  2012-05-06  Chennai Super Kings   \n",
       "429  430    2013  Mumbai  2013-05-05       Mumbai Indians   \n",
       "489  490    2014  Mumbai  2014-05-10       Mumbai Indians   \n",
       "529  530    2015  Mumbai  2015-04-17       Mumbai Indians   \n",
       "572  573    2015  Mumbai  2015-05-19       Mumbai Indians   \n",
       "\n",
       "                   team2          toss_winner toss_decision  result  \\\n",
       "95        Mumbai Indians       Mumbai Indians         field  normal   \n",
       "256  Chennai Super Kings  Chennai Super Kings         field  normal   \n",
       "354       Mumbai Indians       Mumbai Indians         field  normal   \n",
       "429  Chennai Super Kings       Mumbai Indians           bat  normal   \n",
       "489  Chennai Super Kings  Chennai Super Kings         field  normal   \n",
       "529  Chennai Super Kings       Mumbai Indians           bat  normal   \n",
       "572  Chennai Super Kings       Mumbai Indians           bat  normal   \n",
       "\n",
       "     dl_applied               winner  win_by_runs  win_by_wickets  \\\n",
       "95            0       Mumbai Indians            0               9   \n",
       "256           0       Mumbai Indians            8               0   \n",
       "354           0       Mumbai Indians            0               2   \n",
       "429           0       Mumbai Indians           60               0   \n",
       "489           0  Chennai Super Kings            0               4   \n",
       "529           0  Chennai Super Kings            0               6   \n",
       "572           0       Mumbai Indians           25               0   \n",
       "\n",
       "     player_of_match             venue          umpire1         umpire2  \\\n",
       "95     ST Jayasuriya  Wankhede Stadium      BR Doctrove       AM Saheba   \n",
       "256  Harbhajan Singh  Wankhede Stadium        Asad Rauf       AM Saheba   \n",
       "354         DR Smith  Wankhede Stadium        Asad Rauf        S Asnani   \n",
       "429       MG Johnson  Wankhede Stadium  HDPK Dharmasena       CK Nandan   \n",
       "489         DR Smith  Wankhede Stadium  HDPK Dharmasena     VA Kulkarni   \n",
       "529          A Nehra  Wankhede Stadium     AK Chaudhary       M Erasmus   \n",
       "572       KA Pollard  Wankhede Stadium  HDPK Dharmasena  RK Illingworth   \n",
       "\n",
       "     umpire3  \n",
       "95       NaN  \n",
       "256      NaN  \n",
       "354      NaN  \n",
       "429      NaN  \n",
       "489      NaN  \n",
       "529      NaN  \n",
       "572      NaN  "
      ]
     },
     "execution_count": 166,
     "metadata": {},
     "output_type": "execute_result"
    }
   ],
   "source": [
    "\n",
    "df_mi_csk[df_mi_csk['venue']=='Wankhede Stadium']"
   ]
  },
  {
   "cell_type": "code",
   "execution_count": 213,
   "metadata": {},
   "outputs": [
    {
     "data": {
      "text/plain": [
       "7"
      ]
     },
     "execution_count": 213,
     "metadata": {},
     "output_type": "execute_result"
    }
   ],
   "source": [
    "len(df_mi_csk[df_mi_csk['venue']=='Wankhede Stadium'])"
   ]
  },
  {
   "cell_type": "markdown",
   "metadata": {},
   "source": [
    "# total matches he played with csk at wankhede and selects bats first"
   ]
  },
  {
   "cell_type": "code",
   "execution_count": 167,
   "metadata": {},
   "outputs": [
    {
     "data": {
      "text/html": [
       "<div>\n",
       "<style scoped>\n",
       "    .dataframe tbody tr th:only-of-type {\n",
       "        vertical-align: middle;\n",
       "    }\n",
       "\n",
       "    .dataframe tbody tr th {\n",
       "        vertical-align: top;\n",
       "    }\n",
       "\n",
       "    .dataframe thead th {\n",
       "        text-align: right;\n",
       "    }\n",
       "</style>\n",
       "<table border=\"1\" class=\"dataframe\">\n",
       "  <thead>\n",
       "    <tr style=\"text-align: right;\">\n",
       "      <th></th>\n",
       "      <th>id</th>\n",
       "      <th>season</th>\n",
       "      <th>city</th>\n",
       "      <th>date</th>\n",
       "      <th>team1</th>\n",
       "      <th>team2</th>\n",
       "      <th>toss_winner</th>\n",
       "      <th>toss_decision</th>\n",
       "      <th>result</th>\n",
       "      <th>dl_applied</th>\n",
       "      <th>winner</th>\n",
       "      <th>win_by_runs</th>\n",
       "      <th>win_by_wickets</th>\n",
       "      <th>player_of_match</th>\n",
       "      <th>venue</th>\n",
       "      <th>umpire1</th>\n",
       "      <th>umpire2</th>\n",
       "      <th>umpire3</th>\n",
       "    </tr>\n",
       "  </thead>\n",
       "  <tbody>\n",
       "    <tr>\n",
       "      <td>429</td>\n",
       "      <td>430</td>\n",
       "      <td>2013</td>\n",
       "      <td>Mumbai</td>\n",
       "      <td>2013-05-05</td>\n",
       "      <td>Mumbai Indians</td>\n",
       "      <td>Chennai Super Kings</td>\n",
       "      <td>Mumbai Indians</td>\n",
       "      <td>bat</td>\n",
       "      <td>normal</td>\n",
       "      <td>0</td>\n",
       "      <td>Mumbai Indians</td>\n",
       "      <td>60</td>\n",
       "      <td>0</td>\n",
       "      <td>MG Johnson</td>\n",
       "      <td>Wankhede Stadium</td>\n",
       "      <td>HDPK Dharmasena</td>\n",
       "      <td>CK Nandan</td>\n",
       "      <td>NaN</td>\n",
       "    </tr>\n",
       "    <tr>\n",
       "      <td>529</td>\n",
       "      <td>530</td>\n",
       "      <td>2015</td>\n",
       "      <td>Mumbai</td>\n",
       "      <td>2015-04-17</td>\n",
       "      <td>Mumbai Indians</td>\n",
       "      <td>Chennai Super Kings</td>\n",
       "      <td>Mumbai Indians</td>\n",
       "      <td>bat</td>\n",
       "      <td>normal</td>\n",
       "      <td>0</td>\n",
       "      <td>Chennai Super Kings</td>\n",
       "      <td>0</td>\n",
       "      <td>6</td>\n",
       "      <td>A Nehra</td>\n",
       "      <td>Wankhede Stadium</td>\n",
       "      <td>AK Chaudhary</td>\n",
       "      <td>M Erasmus</td>\n",
       "      <td>NaN</td>\n",
       "    </tr>\n",
       "    <tr>\n",
       "      <td>572</td>\n",
       "      <td>573</td>\n",
       "      <td>2015</td>\n",
       "      <td>Mumbai</td>\n",
       "      <td>2015-05-19</td>\n",
       "      <td>Mumbai Indians</td>\n",
       "      <td>Chennai Super Kings</td>\n",
       "      <td>Mumbai Indians</td>\n",
       "      <td>bat</td>\n",
       "      <td>normal</td>\n",
       "      <td>0</td>\n",
       "      <td>Mumbai Indians</td>\n",
       "      <td>25</td>\n",
       "      <td>0</td>\n",
       "      <td>KA Pollard</td>\n",
       "      <td>Wankhede Stadium</td>\n",
       "      <td>HDPK Dharmasena</td>\n",
       "      <td>RK Illingworth</td>\n",
       "      <td>NaN</td>\n",
       "    </tr>\n",
       "  </tbody>\n",
       "</table>\n",
       "</div>"
      ],
      "text/plain": [
       "      id  season    city        date           team1                team2  \\\n",
       "429  430    2013  Mumbai  2013-05-05  Mumbai Indians  Chennai Super Kings   \n",
       "529  530    2015  Mumbai  2015-04-17  Mumbai Indians  Chennai Super Kings   \n",
       "572  573    2015  Mumbai  2015-05-19  Mumbai Indians  Chennai Super Kings   \n",
       "\n",
       "        toss_winner toss_decision  result  dl_applied               winner  \\\n",
       "429  Mumbai Indians           bat  normal           0       Mumbai Indians   \n",
       "529  Mumbai Indians           bat  normal           0  Chennai Super Kings   \n",
       "572  Mumbai Indians           bat  normal           0       Mumbai Indians   \n",
       "\n",
       "     win_by_runs  win_by_wickets player_of_match             venue  \\\n",
       "429           60               0      MG Johnson  Wankhede Stadium   \n",
       "529            0               6         A Nehra  Wankhede Stadium   \n",
       "572           25               0      KA Pollard  Wankhede Stadium   \n",
       "\n",
       "             umpire1         umpire2  umpire3  \n",
       "429  HDPK Dharmasena       CK Nandan      NaN  \n",
       "529     AK Chaudhary       M Erasmus      NaN  \n",
       "572  HDPK Dharmasena  RK Illingworth      NaN  "
      ]
     },
     "execution_count": 167,
     "metadata": {},
     "output_type": "execute_result"
    }
   ],
   "source": [
    "\n",
    "df_mi_csk[(df_mi_csk['toss_decision']=='bat') & (df_mi_csk['venue']=='Wankhede Stadium')]"
   ]
  },
  {
   "cell_type": "markdown",
   "metadata": {},
   "source": [
    "# how many times MI wins against all teams"
   ]
  },
  {
   "cell_type": "code",
   "execution_count": 136,
   "metadata": {},
   "outputs": [
    {
     "data": {
      "text/plain": [
       "Mumbai Indians                 92\n",
       "Chennai Super Kings            10\n",
       "Kings XI Punjab                10\n",
       "Delhi Daredevils                9\n",
       "Royal Challengers Bangalore     8\n",
       "Rajasthan Royals                6\n",
       "Kolkata Knight Riders           5\n",
       "Sunrisers Hyderabad             5\n",
       "Deccan Chargers                 4\n",
       "Rising Pune Supergiant          3\n",
       "Gujarat Lions                   2\n",
       "Pune Warriors                   1\n",
       "Kochi Tuskers Kerala            1\n",
       "Rising Pune Supergiants         1\n",
       "Name: winner, dtype: int64"
      ]
     },
     "execution_count": 136,
     "metadata": {},
     "output_type": "execute_result"
    }
   ],
   "source": [
    "\n",
    "df_mi['winner'].value_counts()"
   ]
  },
  {
   "cell_type": "markdown",
   "metadata": {},
   "source": [
    "# percentage of his winning"
   ]
  },
  {
   "cell_type": "code",
   "execution_count": 138,
   "metadata": {},
   "outputs": [
    {
     "data": {
      "text/plain": [
       "58.59872611464968"
      ]
     },
     "execution_count": 138,
     "metadata": {},
     "output_type": "execute_result"
    }
   ],
   "source": [
    "\n",
    "dict1=list(df_mi['winner'].value_counts())\n",
    "percentage_win=(dict1[0])/(len(df_mi))*100\n",
    "percentage_win\n"
   ]
  },
  {
   "cell_type": "markdown",
   "metadata": {},
   "source": [
    "# how many times MI plays on its home ground"
   ]
  },
  {
   "cell_type": "code",
   "execution_count": 102,
   "metadata": {},
   "outputs": [
    {
     "data": {
      "text/plain": [
       "68"
      ]
     },
     "execution_count": 102,
     "metadata": {},
     "output_type": "execute_result"
    }
   ],
   "source": [
    "\n",
    "len(df_mi[df_mi['city']=='Mumbai'])"
   ]
  },
  {
   "cell_type": "markdown",
   "metadata": {},
   "source": [
    "# #percentage he plays on its home ground,"
   ]
  },
  {
   "cell_type": "code",
   "execution_count": 107,
   "metadata": {},
   "outputs": [
    {
     "data": {
      "text/plain": [
       "43.31210191082803"
      ]
     },
     "execution_count": 107,
     "metadata": {},
     "output_type": "execute_result"
    }
   ],
   "source": [
    "\n",
    "percentage=(len(df_mi[df_mi['city']=='Mumbai']))/(len(df_mi))*100\n",
    "percentage"
   ]
  },
  {
   "cell_type": "markdown",
   "metadata": {},
   "source": [
    "# calc percentage in how many matches,mi won toss"
   ]
  },
  {
   "cell_type": "code",
   "execution_count": 78,
   "metadata": {},
   "outputs": [
    {
     "data": {
      "text/plain": [
       "54.14012738853503"
      ]
     },
     "execution_count": 78,
     "metadata": {},
     "output_type": "execute_result"
    }
   ],
   "source": [
    "\n",
    "percentage=(len(df_mi[df_mi['toss_winner']=='Mumbai Indians'])/len(df_mi['toss_winner']))*100\n",
    "percentage"
   ]
  },
  {
   "cell_type": "markdown",
   "metadata": {},
   "source": [
    "# #how many times mumbai wins in 2017"
   ]
  },
  {
   "cell_type": "code",
   "execution_count": 214,
   "metadata": {},
   "outputs": [
    {
     "name": "stdout",
     "output_type": "stream",
     "text": [
      "matches in which mumbai wins are 92\n"
     ]
    }
   ],
   "source": [
    "\n",
    "print('matches in which mumbai wins are {}'.format(len(df_mi[df_mi['winner']=='Mumbai Indians'])))"
   ]
  },
  {
   "cell_type": "markdown",
   "metadata": {},
   "source": [
    "# how many times m1 won by runs in 2017"
   ]
  },
  {
   "cell_type": "code",
   "execution_count": 94,
   "metadata": {},
   "outputs": [
    {
     "name": "stdout",
     "output_type": "stream",
     "text": [
      "total matches in whicb MI wins by runs  are 47\n"
     ]
    }
   ],
   "source": [
    "\n",
    "filt=(df_mi['win_by_runs']==0)\n",
    "df_win_runs=df_mi[~filt]\n",
    "\n",
    "print('total matches in whicb MI wins by runs  are {}'.format(len(df_win_runs[df_win_runs['winner']=='Mumbai Indians'])))"
   ]
  },
  {
   "cell_type": "markdown",
   "metadata": {},
   "source": [
    "# how many times m1 won by wickets in 2017"
   ]
  },
  {
   "cell_type": "code",
   "execution_count": 89,
   "metadata": {},
   "outputs": [
    {
     "name": "stdout",
     "output_type": "stream",
     "text": [
      "total matches in which MI wins by wickets are 44\n"
     ]
    }
   ],
   "source": [
    "\n",
    "filt=(df_mi['win_by_wickets']==0)\n",
    "df_win_wickets=df_mi[~filt]\n",
    "\n",
    "print('total matches in which MI wins by wickets are {}'.format(len(df_win_wickets[df_win_wickets['winner']=='Mumbai Indians'])))"
   ]
  },
  {
   "cell_type": "markdown",
   "metadata": {},
   "source": [
    "# biggest wins in terms of runs for mumbai in 2017"
   ]
  },
  {
   "cell_type": "code",
   "execution_count": 98,
   "metadata": {},
   "outputs": [
    {
     "data": {
      "text/plain": [
       "43     146\n",
       "182     98\n",
       "131     92\n",
       "402     87\n",
       "612     85\n",
       "622     80\n",
       "286     76\n",
       "68      66\n",
       "433     65\n",
       "206     63\n",
       "Name: win_by_runs, dtype: int64"
      ]
     },
     "execution_count": 98,
     "metadata": {},
     "output_type": "execute_result"
    }
   ],
   "source": [
    "\n",
    "df_win_runs['win_by_runs'].nlargest(10)"
   ]
  },
  {
   "cell_type": "code",
   "execution_count": 101,
   "metadata": {},
   "outputs": [
    {
     "data": {
      "text/plain": [
       "<matplotlib.axes._subplots.AxesSubplot at 0x28cdfdc648>"
      ]
     },
     "execution_count": 101,
     "metadata": {},
     "output_type": "execute_result"
    },
    {
     "data": {
      "image/png": "[encoded data removed]",
      "text/plain": [
       "<Figure size 432x288 with 1 Axes>"
      ]
     },
     "metadata": {
      "needs_background": "light"
     },
     "output_type": "display_data"
    }
   ],
   "source": [
    "df_win_runs['win_by_runs'].nlargest(10).plot.bar()"
   ]
  },
  {
   "cell_type": "markdown",
   "metadata": {},
   "source": [
    "# #biggest wins in terms of wickets for mumbai in 2017"
   ]
  },
  {
   "cell_type": "code",
   "execution_count": 100,
   "metadata": {},
   "outputs": [
    {
     "data": {
      "text/plain": [
       "10"
      ]
     },
     "execution_count": 100,
     "metadata": {},
     "output_type": "execute_result"
    }
   ],
   "source": [
    "\n",
    "df_win_wickets['win_by_wickets'].max()"
   ]
  },
  {
   "cell_type": "markdown",
   "metadata": {},
   "source": [
    "# player of the match count when mumbai wins"
   ]
  },
  {
   "cell_type": "code",
   "execution_count": 116,
   "metadata": {},
   "outputs": [
    {
     "data": {
      "text/plain": [
       "RG Sharma          11\n",
       "KA Pollard          9\n",
       "SR Tendulkar        8\n",
       "AT Rayudu           7\n",
       "Harbhajan Singh     6\n",
       "SL Malinga          5\n",
       "KH Pandya           4\n",
       "DR Smith            4\n",
       "LMP Simmons         3\n",
       "JP Duminy           2\n",
       "MEK Hussey          2\n",
       "CJ Anderson         2\n",
       "MM Patel            2\n",
       "N Rana              2\n",
       "SM Pollock          2\n",
       "HH Pandya           2\n",
       "ST Jayasuriya       2\n",
       "MJ McClenaghan      2\n",
       "MG Johnson          2\n",
       "RE Levi             1\n",
       "PA Patel            1\n",
       "KV Sharma           1\n",
       "JEC Franklin        1\n",
       "JC Buttler          1\n",
       "AP Tare             1\n",
       "R Sharma            1\n",
       "KD Karthik          1\n",
       "JJ Bumrah           1\n",
       "A Nehra             1\n",
       "DW Steyn            1\n",
       "CRD Fernando        1\n",
       "YK Pathan           1\n",
       "R McLaren           1\n",
       "DJ Bravo            1\n",
       "Name: player_of_match, dtype: int64"
      ]
     },
     "execution_count": 116,
     "metadata": {},
     "output_type": "execute_result"
    }
   ],
   "source": [
    "\n",
    "df_mi[df_mi['winner']=='Mumbai Indians']['player_of_match'].value_counts()"
   ]
  },
  {
   "cell_type": "code",
   "execution_count": 119,
   "metadata": {},
   "outputs": [
    {
     "data": {
      "text/plain": [
       "<matplotlib.axes._subplots.AxesSubplot at 0x28ce15db08>"
      ]
     },
     "execution_count": 119,
     "metadata": {},
     "output_type": "execute_result"
    },
    {
     "data": {
      "image/png": "[encoded data removed]",
      "text/plain": [
       "<Figure size 432x288 with 1 Axes>"
      ]
     },
     "metadata": {
      "needs_background": "light"
     },
     "output_type": "display_data"
    }
   ],
   "source": [
    "df_mi[df_mi['winner']=='Mumbai Indians']['player_of_match'].value_counts().nlargest(10).plot.bar()"
   ]
  },
  {
   "cell_type": "markdown",
   "metadata": {},
   "source": [
    "# Total match mumbai wins at Wankhede"
   ]
  },
  {
   "cell_type": "code",
   "execution_count": 124,
   "metadata": {},
   "outputs": [
    {
     "data": {
      "text/plain": [
       "34"
      ]
     },
     "execution_count": 124,
     "metadata": {},
     "output_type": "execute_result"
    }
   ],
   "source": [
    "\n",
    "df_mi_venue=df_mi[df_mi['winner']=='Mumbai Indians']\n",
    "len(df_mi_venue[df_mi_venue['venue']=='Wankhede Stadium'])"
   ]
  },
  {
   "cell_type": "markdown",
   "metadata": {},
   "source": [
    "# most 5 lucky grounds for mumbai or where mumbai most wins"
   ]
  },
  {
   "cell_type": "code",
   "execution_count": 176,
   "metadata": {},
   "outputs": [
    {
     "data": {
      "text/plain": [
       "Wankhede Stadium              34\n",
       "Eden Gardens                   9\n",
       "M Chinnaswamy Stadium          8\n",
       "Brabourne Stadium              6\n",
       "Dr DY Patil Sports Academy     5\n",
       "Name: venue, dtype: int64"
      ]
     },
     "execution_count": 176,
     "metadata": {},
     "output_type": "execute_result"
    }
   ],
   "source": [
    "\n",
    "df_mi[df_mi['winner']=='Mumbai Indians']['venue'].value_counts().nlargest(5)"
   ]
  },
  {
   "cell_type": "code",
   "execution_count": 186,
   "metadata": {},
   "outputs": [
    {
     "data": {
      "text/plain": [
       "Text(0.5, 1.0, 'most lucky grounds for mumbai')"
      ]
     },
     "execution_count": 186,
     "metadata": {},
     "output_type": "execute_result"
    },
    {
     "data": {
      "image/png": "[encoded data removed]",
      "text/plain": [
       "<Figure size 432x288 with 1 Axes>"
      ]
     },
     "metadata": {},
     "output_type": "display_data"
    }
   ],
   "source": [
    "slices=[34,9,8,6,5]\n",
    "labels=['Wankhede Stadium','Eden Gardeen','M Chinnaswamy Stadium','Brabourne Stadium','Dr DY Patil Sports Academy']\n",
    "explode=[0.1,0,0,0,0]\n",
    "plt.pie(slices,labels=labels,explode=explode,shadow=True, autopct='%1.1f%%')\n",
    "plt.title('most lucky grounds for mumbai Indians')"
   ]
  },
  {
   "cell_type": "markdown",
   "metadata": {},
   "source": [
    "# total season"
   ]
  },
  {
   "cell_type": "code",
   "execution_count": 2,
   "metadata": {},
   "outputs": [
    {
     "data": {
      "text/plain": [
       "[2017, 2008, 2009, 2010, 2011, 2012, 2013, 2014, 2015, 2016]"
      ]
     },
     "execution_count": 2,
     "metadata": {},
     "output_type": "execute_result"
    }
   ],
   "source": [
    "\n",
    "season=list(df['season'].unique())\n",
    "season"
   ]
  },
  {
   "cell_type": "markdown",
   "metadata": {},
   "source": [
    "# calc wins for each team in each season"
   ]
  },
  {
   "cell_type": "code",
   "execution_count": 15,
   "metadata": {},
   "outputs": [
    {
     "name": "stdout",
     "output_type": "stream",
     "text": [
      "wins in season 2017 \n",
      " Mumbai Indians                 12\n",
      "Rising Pune Supergiant         10\n",
      "Kolkata Knight Riders           9\n",
      "Sunrisers Hyderabad             8\n",
      "Kings XI Punjab                 7\n",
      "Delhi Daredevils                6\n",
      "Gujarat Lions                   4\n",
      "Royal Challengers Bangalore     3\n",
      "Name: winner, dtype: int64\n",
      "\n",
      "\n",
      "wins in season 2008 \n",
      " Rajasthan Royals               13\n",
      "Kings XI Punjab                10\n",
      "Chennai Super Kings             9\n",
      "Delhi Daredevils                7\n",
      "Mumbai Indians                  7\n",
      "Kolkata Knight Riders           6\n",
      "Royal Challengers Bangalore     4\n",
      "Deccan Chargers                 2\n",
      "Name: winner, dtype: int64\n",
      "\n",
      "\n",
      "wins in season 2009 \n",
      " Delhi Daredevils               10\n",
      "Deccan Chargers                 9\n",
      "Royal Challengers Bangalore     9\n",
      "Chennai Super Kings             8\n",
      "Kings XI Punjab                 7\n",
      "Rajasthan Royals                6\n",
      "Mumbai Indians                  5\n",
      "Kolkata Knight Riders           3\n",
      "Name: winner, dtype: int64\n",
      "\n",
      "\n",
      "wins in season 2010 \n",
      " Mumbai Indians                 11\n",
      "Chennai Super Kings             9\n",
      "Deccan Chargers                 8\n",
      "Royal Challengers Bangalore     8\n",
      "Delhi Daredevils                7\n",
      "Kolkata Knight Riders           7\n",
      "Rajasthan Royals                6\n",
      "Kings XI Punjab                 4\n",
      "Name: winner, dtype: int64\n",
      "\n",
      "\n",
      "wins in season 2011 \n",
      " Chennai Super Kings            11\n",
      "Mumbai Indians                 10\n",
      "Royal Challengers Bangalore    10\n",
      "Kolkata Knight Riders           8\n",
      "Kings XI Punjab                 7\n",
      "Deccan Chargers                 6\n",
      "Rajasthan Royals                6\n",
      "Kochi Tuskers Kerala            6\n",
      "Delhi Daredevils                4\n",
      "Pune Warriors                   4\n",
      "Name: winner, dtype: int64\n",
      "\n",
      "\n",
      "wins in season 2012 \n",
      " Kolkata Knight Riders          12\n",
      "Delhi Daredevils               11\n",
      "Chennai Super Kings            10\n",
      "Mumbai Indians                 10\n",
      "Kings XI Punjab                 8\n",
      "Royal Challengers Bangalore     8\n",
      "Rajasthan Royals                7\n",
      "Pune Warriors                   4\n",
      "Deccan Chargers                 4\n",
      "Name: winner, dtype: int64\n",
      "\n",
      "\n",
      "wins in season 2013 \n",
      " Mumbai Indians                 13\n",
      "Chennai Super Kings            12\n",
      "Rajasthan Royals               11\n",
      "Sunrisers Hyderabad            10\n",
      "Royal Challengers Bangalore     9\n",
      "Kings XI Punjab                 8\n",
      "Kolkata Knight Riders           6\n",
      "Pune Warriors                   4\n",
      "Delhi Daredevils                3\n",
      "Name: winner, dtype: int64\n",
      "\n",
      "\n",
      "wins in season 2014 \n",
      " Kings XI Punjab                12\n",
      "Kolkata Knight Riders          11\n",
      "Chennai Super Kings            10\n",
      "Rajasthan Royals                7\n",
      "Mumbai Indians                  7\n",
      "Sunrisers Hyderabad             6\n",
      "Royal Challengers Bangalore     5\n",
      "Delhi Daredevils                2\n",
      "Name: winner, dtype: int64\n",
      "\n",
      "\n",
      "wins in season 2015 \n",
      " Chennai Super Kings            10\n",
      "Mumbai Indians                 10\n",
      "Royal Challengers Bangalore     8\n",
      "Rajasthan Royals                7\n",
      "Kolkata Knight Riders           7\n",
      "Sunrisers Hyderabad             7\n",
      "Delhi Daredevils                5\n",
      "Kings XI Punjab                 3\n",
      "Name: winner, dtype: int64\n",
      "\n",
      "\n",
      "wins in season 2016 \n",
      " Sunrisers Hyderabad            11\n",
      "Gujarat Lions                   9\n",
      "Royal Challengers Bangalore     9\n",
      "Kolkata Knight Riders           8\n",
      "Delhi Daredevils                7\n",
      "Mumbai Indians                  7\n",
      "Rising Pune Supergiants         5\n",
      "Kings XI Punjab                 4\n",
      "Name: winner, dtype: int64\n",
      "\n",
      "\n"
     ]
    }
   ],
   "source": [
    "\n",
    "for year in season:\n",
    "    print('wins in season {} \\n {}\\n\\n'.format(year,df[df['season']==year]['winner'].value_counts()))"
   ]
  },
  {
   "cell_type": "code",
   "execution_count": 19,
   "metadata": {},
   "outputs": [
    {
     "data": {
      "text/plain": [
       "id                   int64\n",
       "season               int64\n",
       "city                object\n",
       "date                object\n",
       "team1               object\n",
       "team2               object\n",
       "toss_winner         object\n",
       "toss_decision       object\n",
       "result              object\n",
       "dl_applied           int64\n",
       "winner              object\n",
       "win_by_runs          int64\n",
       "win_by_wickets       int64\n",
       "player_of_match     object\n",
       "venue               object\n",
       "umpire1             object\n",
       "umpire2             object\n",
       "umpire3            float64\n",
       "dtype: object"
      ]
     },
     "execution_count": 19,
     "metadata": {},
     "output_type": "execute_result"
    }
   ],
   "source": [
    "df.dtypes"
   ]
  },
  {
   "cell_type": "markdown",
   "metadata": {},
   "source": [
    "# create a func that will return total matches played by each team in particular Season"
   ]
  },
  {
   "cell_type": "code",
   "execution_count": 24,
   "metadata": {},
   "outputs": [],
   "source": [
    "\n",
    "\n",
    "\n",
    "def total_matches(seasonn,teamm):\n",
    "    df_season=df[df['season']==seasonn]\n",
    "    team1=list(df_season['team1'])\n",
    "    count=0\n",
    "    team=teamm\n",
    "    for i in team1:\n",
    "        if i==team:\n",
    "            count+=1\n",
    "    count\n",
    "    \n",
    "    team2=list(df_season['team2'])\n",
    "    count_new=0\n",
    "    team=teamm\n",
    "    for i in team2:\n",
    "        if i==teamm:\n",
    "            count_new+=1\n",
    "    count_new\n",
    "\n",
    "    return('total_matches played by {} are {}'.format(teamm,count+count_new))\n"
   ]
  },
  {
   "cell_type": "code",
   "execution_count": 25,
   "metadata": {},
   "outputs": [
    {
     "data": {
      "text/plain": [
       "'total_matches played by Mumbai Indians are 17'"
      ]
     },
     "execution_count": 25,
     "metadata": {},
     "output_type": "execute_result"
    }
   ],
   "source": [
    "total_matches(2017,'Mumbai Indians')"
   ]
  },
  {
   "cell_type": "code",
   "execution_count": 5,
   "metadata": {},
   "outputs": [
    {
     "data": {
      "text/plain": [
       "Chennai Super Kings             22.0\n",
       "Deccan Chargers                 10.0\n",
       "Delhi Daredevils                20.0\n",
       "Gujarat Lions                    4.0\n",
       "Kings XI Punjab                 20.0\n",
       "Kochi Tuskers Kerala             NaN\n",
       "Kolkata Knight Riders           21.0\n",
       "Mumbai Indians                 157.0\n",
       "Pune Warriors                    6.0\n",
       "Rajasthan Royals                16.0\n",
       "Rising Pune Supergiant           4.0\n",
       "Rising Pune Supergiants          2.0\n",
       "Royal Challengers Bangalore     21.0\n",
       "Sunrisers Hyderabad             10.0\n",
       "dtype: float64"
      ]
     },
     "execution_count": 5,
     "metadata": {},
     "output_type": "execute_result"
    }
   ],
   "source": [
    "df_mi['team1'].value_counts()+ df_mi['team2'].value_counts()"
   ]
  },
  {
   "cell_type": "markdown",
   "metadata": {},
   "source": [
    "# among all matches,mumbai plays most matches against which team"
   ]
  },
  {
   "cell_type": "code",
   "execution_count": 9,
   "metadata": {},
   "outputs": [
    {
     "data": {
      "text/html": [
       "<div>\n",
       "<style scoped>\n",
       "    .dataframe tbody tr th:only-of-type {\n",
       "        vertical-align: middle;\n",
       "    }\n",
       "\n",
       "    .dataframe tbody tr th {\n",
       "        vertical-align: top;\n",
       "    }\n",
       "\n",
       "    .dataframe thead th {\n",
       "        text-align: right;\n",
       "    }\n",
       "</style>\n",
       "<table border=\"1\" class=\"dataframe\">\n",
       "  <thead>\n",
       "    <tr style=\"text-align: right;\">\n",
       "      <th></th>\n",
       "      <th>matches</th>\n",
       "    </tr>\n",
       "  </thead>\n",
       "  <tbody>\n",
       "    <tr>\n",
       "      <td>Chennai Super Kings</td>\n",
       "      <td>22.0</td>\n",
       "    </tr>\n",
       "    <tr>\n",
       "      <td>Deccan Chargers</td>\n",
       "      <td>10.0</td>\n",
       "    </tr>\n",
       "    <tr>\n",
       "      <td>Delhi Daredevils</td>\n",
       "      <td>20.0</td>\n",
       "    </tr>\n",
       "    <tr>\n",
       "      <td>Gujarat Lions</td>\n",
       "      <td>4.0</td>\n",
       "    </tr>\n",
       "    <tr>\n",
       "      <td>Kings XI Punjab</td>\n",
       "      <td>20.0</td>\n",
       "    </tr>\n",
       "    <tr>\n",
       "      <td>Kochi Tuskers Kerala</td>\n",
       "      <td>NaN</td>\n",
       "    </tr>\n",
       "    <tr>\n",
       "      <td>Kolkata Knight Riders</td>\n",
       "      <td>21.0</td>\n",
       "    </tr>\n",
       "    <tr>\n",
       "      <td>Mumbai Indians</td>\n",
       "      <td>157.0</td>\n",
       "    </tr>\n",
       "    <tr>\n",
       "      <td>Pune Warriors</td>\n",
       "      <td>6.0</td>\n",
       "    </tr>\n",
       "    <tr>\n",
       "      <td>Rajasthan Royals</td>\n",
       "      <td>16.0</td>\n",
       "    </tr>\n",
       "    <tr>\n",
       "      <td>Rising Pune Supergiant</td>\n",
       "      <td>4.0</td>\n",
       "    </tr>\n",
       "    <tr>\n",
       "      <td>Rising Pune Supergiants</td>\n",
       "      <td>2.0</td>\n",
       "    </tr>\n",
       "    <tr>\n",
       "      <td>Royal Challengers Bangalore</td>\n",
       "      <td>21.0</td>\n",
       "    </tr>\n",
       "    <tr>\n",
       "      <td>Sunrisers Hyderabad</td>\n",
       "      <td>10.0</td>\n",
       "    </tr>\n",
       "  </tbody>\n",
       "</table>\n",
       "</div>"
      ],
      "text/plain": [
       "                             matches\n",
       "Chennai Super Kings             22.0\n",
       "Deccan Chargers                 10.0\n",
       "Delhi Daredevils                20.0\n",
       "Gujarat Lions                    4.0\n",
       "Kings XI Punjab                 20.0\n",
       "Kochi Tuskers Kerala             NaN\n",
       "Kolkata Knight Riders           21.0\n",
       "Mumbai Indians                 157.0\n",
       "Pune Warriors                    6.0\n",
       "Rajasthan Royals                16.0\n",
       "Rising Pune Supergiant           4.0\n",
       "Rising Pune Supergiants          2.0\n",
       "Royal Challengers Bangalore     21.0\n",
       "Sunrisers Hyderabad             10.0"
      ]
     },
     "execution_count": 9,
     "metadata": {},
     "output_type": "execute_result"
    }
   ],
   "source": [
    "\n",
    "team=pd.DataFrame(df_mi['team1'].value_counts()+ df_mi['team2'].value_counts())\n",
    "team.columns=['matches']\n",
    "team"
   ]
  },
  {
   "cell_type": "code",
   "execution_count": 10,
   "metadata": {},
   "outputs": [
    {
     "data": {
      "text/plain": [
       "matches    float64\n",
       "dtype: object"
      ]
     },
     "execution_count": 10,
     "metadata": {},
     "output_type": "execute_result"
    }
   ],
   "source": [
    "team.dtypes"
   ]
  },
  {
   "cell_type": "code",
   "execution_count": 11,
   "metadata": {},
   "outputs": [
    {
     "data": {
      "image/png": "[encoded data removed]",
      "text/plain": [
       "<Figure size 432x288 with 1 Axes>"
      ]
     },
     "metadata": {
      "needs_background": "light"
     },
     "output_type": "display_data"
    }
   ],
   "source": [
    "\n",
    "team.dropna(inplace=True)\n",
    "team['matches']=team['matches'].astype(int)\n",
    "team.drop('Mumbai Indians').plot.bar()\n",
    "plt.title('Matches played by Mumbai against all IPL teams')\n",
    "plt.xlabel('Teams')\n",
    "plt.ylabel('Total matches')\n",
    "plt.show()\n"
   ]
  },
  {
   "cell_type": "markdown",
   "metadata": {},
   "source": [
    "# create a func that will count how many matches played by each team against which teams"
   ]
  },
  {
   "cell_type": "code",
   "execution_count": 35,
   "metadata": {},
   "outputs": [],
   "source": [
    "\n",
    "\n",
    "\n",
    "def matches(team_name):\n",
    "    df_team=df[(df['team1']==team_name) | (df['team2']==team_name)]\n",
    "    team=pd.DataFrame(df_team['team1'].value_counts()+ df_team['team2'].value_counts())\n",
    "    team\n",
    "    team.columns=['matches']\n",
    "    team.dropna(inplace=True)\n",
    "    team['matches']=team['matches'].astype(int)\n",
    "    team.drop(team_name).plot.bar()\n",
    "    print('this is a record of {}'.format(team_name))\n",
    "    plt.title('Matches played against all IPL teams')\n",
    "    plt.xlabel('Teams')\n",
    "    plt.ylabel('Total matches')\n",
    "    plt.show()\n",
    "    \n",
    "    "
   ]
  },
  {
   "cell_type": "code",
   "execution_count": 36,
   "metadata": {},
   "outputs": [
    {
     "name": "stdout",
     "output_type": "stream",
     "text": [
      "this is a record of Deccan Chargers\n"
     ]
    },
    {
     "data": {
      "image/png": "[encoded data removed]",
      "text/plain": [
       "<Figure size 432x288 with 1 Axes>"
      ]
     },
     "metadata": {
      "needs_background": "light"
     },
     "output_type": "display_data"
    }
   ],
   "source": [
    "matches('Deccan Chargers')"
   ]
  },
  {
   "cell_type": "markdown",
   "metadata": {},
   "source": [
    "# among all matches,which team plays most matches against which team in particular season"
   ]
  },
  {
   "cell_type": "code",
   "execution_count": 48,
   "metadata": {},
   "outputs": [],
   "source": [
    "\n",
    "\n",
    "def matches(year,team_name):\n",
    "    df_season=df[df['season']==year]\n",
    "    df_team=df_season[(df_season['team1']==team_name) | (df_season['team2']==team_name)]\n",
    "    team=pd.DataFrame(df_team['team1'].value_counts()+ df_team['team2'].value_counts())\n",
    "    team\n",
    "    team.columns=['matches']\n",
    "    team.dropna(inplace=True)\n",
    "    team['matches']=team['matches'].astype(int)\n",
    "    team.drop(team_name).plot.bar()\n",
    "    print('this is a record of {} of year {}'.format(team_name,year))\n",
    "    plt.title('Matches played against all IPL teams')\n",
    "    plt.xlabel('Teams')\n",
    "    plt.ylabel('Total matches')\n",
    "    plt.show()"
   ]
  },
  {
   "cell_type": "code",
   "execution_count": 49,
   "metadata": {},
   "outputs": [
    {
     "name": "stdout",
     "output_type": "stream",
     "text": [
      "this is a record of Mumbai Indians of year 2011\n"
     ]
    },
    {
     "data": {
      "image/png": "[encoded data removed]",
      "text/plain": [
       "<Figure size 432x288 with 1 Axes>"
      ]
     },
     "metadata": {
      "needs_background": "light"
     },
     "output_type": "display_data"
    }
   ],
   "source": [
    "matches(2011,'Mumbai Indians')"
   ]
  },
  {
   "cell_type": "code",
   "execution_count": null,
   "metadata": {},
   "outputs": [],
   "source": []
  }
 ],
 "metadata": {
  "kernelspec": {
   "display_name": "Python 3",
   "language": "python",
   "name": "python3"
  },
  "language_info": {
   "codemirror_mode": {
    "name": "ipython",
    "version": 3
   },
   "file_extension": ".py",
   "mimetype": "text/x-python",
   "name": "python",
   "nbconvert_exporter": "python",
   "pygments_lexer": "ipython3",
   "version": "3.7.4"
  }
 },
 "nbformat": 4,
 "nbformat_minor": 2
}
