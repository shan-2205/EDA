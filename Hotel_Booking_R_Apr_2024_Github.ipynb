{
 "cells": [
  {
   "cell_type": "code",
   "execution_count": null,
   "id": "5651d354",
   "metadata": {},
   "outputs": [],
   "source": []
  },
  {
   "cell_type": "code",
   "execution_count": null,
   "id": "55ec3054",
   "metadata": {},
   "outputs": [],
   "source": []
  },
  {
   "cell_type": "code",
   "execution_count": null,
   "id": "6495a5a7",
   "metadata": {},
   "outputs": [],
   "source": []
  },
  {
   "cell_type": "markdown",
   "id": "2255ee8d",
   "metadata": {},
   "source": [
    "## 1.. Lets read data & do basic cleaning !"
   ]
  },
  {
   "cell_type": "code",
   "execution_count": null,
   "id": "00320c67",
   "metadata": {},
   "outputs": [],
   "source": [
    "help(read.csv)\n",
    "\n",
    "### Reads a file in table format and creates a data frame from it !"
   ]
  },
  {
   "cell_type": "code",
   "execution_count": null,
   "id": "3f4c150a",
   "metadata": {},
   "outputs": [],
   "source": [
    "\"\n",
    "\n",
    "Parameters:\n",
    "\n",
    "file : The path to the CSV file to be read.\n",
    "header : A logical value indicating whether the file contains the names of \n",
    "         the variables as the first line (header). \n",
    "         Default is TRUE..\n",
    "\n",
    "sep : The separator character used in the CSV file. Default is \",\"\n",
    "quote : The character used to enclose fields that contain special characters, such as commas or line breaks. \n",
    "        Default is \"\\\"\"\n",
    "dec : The character used in the file for decimal points. Default is \".\" ..\n",
    "fill : A logical value indicating whether to fill missing fields with NA. Default is TRUE.\n",
    "comment.char : The character used to indicate comments in the file. Default is an empty string.\n",
    "... : Additional arguments to be passed to read.table().\n",
    "\n",
    "\n",
    "\n",
    "\""
   ]
  },
  {
   "cell_type": "code",
   "execution_count": 1,
   "id": "dc51ff26",
   "metadata": {},
   "outputs": [
    {
     "data": {
      "text/html": [
       "<pre class=language-r><code>function (file, header = TRUE, sep = \",\", quote = \"\\\"\", dec = \".\", \n",
       "<span style=white-space:pre-wrap>    fill = TRUE, comment.char = \"\", ...) </span>\n",
       "NULL</code></pre>"
      ],
      "text/latex": [
       "\\begin{minted}{r}\n",
       "function (file, header = TRUE, sep = \",\", quote = \"\\textbackslash{}\"\", dec = \".\", \n",
       "    fill = TRUE, comment.char = \"\", ...) \n",
       "NULL\n",
       "\\end{minted}"
      ],
      "text/markdown": [
       "```r\n",
       "function (file, header = TRUE, sep = \",\", quote = \"\\\"\", dec = \".\", \n",
       "    fill = TRUE, comment.char = \"\", ...) \n",
       "NULL\n",
       "```"
      ],
      "text/plain": [
       "function (file, header = TRUE, sep = \",\", quote = \"\\\"\", dec = \".\", \n",
       "    fill = TRUE, comment.char = \"\", ...) \n",
       "NULL"
      ]
     },
     "metadata": {},
     "output_type": "display_data"
    }
   ],
   "source": [
    "args(read.csv)"
   ]
  },
  {
   "cell_type": "code",
   "execution_count": 2,
   "id": "656e053c",
   "metadata": {},
   "outputs": [],
   "source": [
    "df = read.csv(\"R:/All_Datasets/Data_Analysis_Projects/Hotel_Booking/\n",
    "              hotel_bookings.csv\")\n",
    "\n",
    "## while mentioning file path , mention either '/' or '\\\\' or '//'\n",
    "## Note : '\\'(single backward slash) will not work .. \n",
    "## ie R uses forward slash instead or single backward slash in filename\n",
    "\n",
    "\n",
    "## df = read.csv('G:/Data Science projects/EDA_Projects/Hotel_booking/hotel_bookings.csv') # OLD_PC"
   ]
  },
  {
   "cell_type": "markdown",
   "id": "28fda44e",
   "metadata": {},
   "source": [
    "\n",
    "#### what is Dataframe ?? \n",
    "    Its all about data in the form of Rows & colums , ie It is exactly equal to csv data (excel)\n",
    "    If you're familiar with the Table in Excel then you already have a grasp of what a R dataframe is. \n",
    "    It's a table of data. It has rows and columns\n",
    "    Its 2-D data structure\n",
    "    Its like a Table or a matrix\n",
    "    \n",
    "    If we see internally , implementation of R dataframe is all about ' Sequence/collection of vector '\n",
    "    \n",
    "    \n",
    "    From Programming - point of view , we have data-structure called List..\n",
    "    It is just a extension of List (data-structure of R) \n",
    "    e.g->> l1 = list(first_name = c('Shan' , 'Rahul') ,\n",
    "                      last_name = c('Singh' , 'Singh')\n",
    "                  )\n",
    "    ie , R Dataframe is exactly a extended form of R List(key-value pairs) , key becomes feature/col & value becomes rows..\n",
    "    \n",
    "     \n",
    "     list & vector are 2 different classes in R..\n",
    "     \n",
    "     "
   ]
  },
  {
   "cell_type": "code",
   "execution_count": 3,
   "id": "c751984e",
   "metadata": {},
   "outputs": [
    {
     "data": {
      "text/html": [
       "<table class=\"dataframe\">\n",
       "<caption>A data.frame: 3 × 32</caption>\n",
       "<thead>\n",
       "\t<tr><th></th><th scope=col>hotel</th><th scope=col>is_canceled</th><th scope=col>lead_time</th><th scope=col>arrival_date_year</th><th scope=col>arrival_date_month</th><th scope=col>arrival_date_week_number</th><th scope=col>arrival_date_day_of_month</th><th scope=col>stays_in_weekend_nights</th><th scope=col>stays_in_week_nights</th><th scope=col>adults</th><th scope=col>...</th><th scope=col>deposit_type</th><th scope=col>agent</th><th scope=col>company</th><th scope=col>days_in_waiting_list</th><th scope=col>customer_type</th><th scope=col>adr</th><th scope=col>required_car_parking_spaces</th><th scope=col>total_of_special_requests</th><th scope=col>reservation_status</th><th scope=col>reservation_status_date</th></tr>\n",
       "\t<tr><th></th><th scope=col>&lt;chr&gt;</th><th scope=col>&lt;int&gt;</th><th scope=col>&lt;int&gt;</th><th scope=col>&lt;int&gt;</th><th scope=col>&lt;chr&gt;</th><th scope=col>&lt;int&gt;</th><th scope=col>&lt;int&gt;</th><th scope=col>&lt;int&gt;</th><th scope=col>&lt;int&gt;</th><th scope=col>&lt;int&gt;</th><th scope=col>...</th><th scope=col>&lt;chr&gt;</th><th scope=col>&lt;chr&gt;</th><th scope=col>&lt;chr&gt;</th><th scope=col>&lt;int&gt;</th><th scope=col>&lt;chr&gt;</th><th scope=col>&lt;dbl&gt;</th><th scope=col>&lt;int&gt;</th><th scope=col>&lt;int&gt;</th><th scope=col>&lt;chr&gt;</th><th scope=col>&lt;chr&gt;</th></tr>\n",
       "</thead>\n",
       "<tbody>\n",
       "\t<tr><th scope=row>1</th><td>Resort Hotel</td><td>0</td><td>342</td><td>2015</td><td>July</td><td>27</td><td>1</td><td>0</td><td>0</td><td>2</td><td>...</td><td>No Deposit</td><td>NULL</td><td>NULL</td><td>0</td><td>Transient</td><td> 0</td><td>0</td><td>0</td><td>Check-Out</td><td>7/1/2015</td></tr>\n",
       "\t<tr><th scope=row>2</th><td>Resort Hotel</td><td>0</td><td>737</td><td>2015</td><td>July</td><td>27</td><td>1</td><td>0</td><td>0</td><td>2</td><td>...</td><td>No Deposit</td><td>NULL</td><td>NULL</td><td>0</td><td>Transient</td><td> 0</td><td>0</td><td>0</td><td>Check-Out</td><td>7/1/2015</td></tr>\n",
       "\t<tr><th scope=row>3</th><td>Resort Hotel</td><td>0</td><td>  7</td><td>2015</td><td>July</td><td>27</td><td>1</td><td>0</td><td>1</td><td>1</td><td>...</td><td>No Deposit</td><td>NULL</td><td>NULL</td><td>0</td><td>Transient</td><td>75</td><td>0</td><td>0</td><td>Check-Out</td><td>7/2/2015</td></tr>\n",
       "</tbody>\n",
       "</table>\n"
      ],
      "text/latex": [
       "A data.frame: 3 × 32\n",
       "\\begin{tabular}{r|lllllllllllllllllllll}\n",
       "  & hotel & is\\_canceled & lead\\_time & arrival\\_date\\_year & arrival\\_date\\_month & arrival\\_date\\_week\\_number & arrival\\_date\\_day\\_of\\_month & stays\\_in\\_weekend\\_nights & stays\\_in\\_week\\_nights & adults & ... & deposit\\_type & agent & company & days\\_in\\_waiting\\_list & customer\\_type & adr & required\\_car\\_parking\\_spaces & total\\_of\\_special\\_requests & reservation\\_status & reservation\\_status\\_date\\\\\n",
       "  & <chr> & <int> & <int> & <int> & <chr> & <int> & <int> & <int> & <int> & <int> & ... & <chr> & <chr> & <chr> & <int> & <chr> & <dbl> & <int> & <int> & <chr> & <chr>\\\\\n",
       "\\hline\n",
       "\t1 & Resort Hotel & 0 & 342 & 2015 & July & 27 & 1 & 0 & 0 & 2 & ... & No Deposit & NULL & NULL & 0 & Transient &  0 & 0 & 0 & Check-Out & 7/1/2015\\\\\n",
       "\t2 & Resort Hotel & 0 & 737 & 2015 & July & 27 & 1 & 0 & 0 & 2 & ... & No Deposit & NULL & NULL & 0 & Transient &  0 & 0 & 0 & Check-Out & 7/1/2015\\\\\n",
       "\t3 & Resort Hotel & 0 &   7 & 2015 & July & 27 & 1 & 0 & 1 & 1 & ... & No Deposit & NULL & NULL & 0 & Transient & 75 & 0 & 0 & Check-Out & 7/2/2015\\\\\n",
       "\\end{tabular}\n"
      ],
      "text/markdown": [
       "\n",
       "A data.frame: 3 × 32\n",
       "\n",
       "| <!--/--> | hotel &lt;chr&gt; | is_canceled &lt;int&gt; | lead_time &lt;int&gt; | arrival_date_year &lt;int&gt; | arrival_date_month &lt;chr&gt; | arrival_date_week_number &lt;int&gt; | arrival_date_day_of_month &lt;int&gt; | stays_in_weekend_nights &lt;int&gt; | stays_in_week_nights &lt;int&gt; | adults &lt;int&gt; | ... ... | deposit_type &lt;chr&gt; | agent &lt;chr&gt; | company &lt;chr&gt; | days_in_waiting_list &lt;int&gt; | customer_type &lt;chr&gt; | adr &lt;dbl&gt; | required_car_parking_spaces &lt;int&gt; | total_of_special_requests &lt;int&gt; | reservation_status &lt;chr&gt; | reservation_status_date &lt;chr&gt; |\n",
       "|---|---|---|---|---|---|---|---|---|---|---|---|---|---|---|---|---|---|---|---|---|---|\n",
       "| 1 | Resort Hotel | 0 | 342 | 2015 | July | 27 | 1 | 0 | 0 | 2 | ... | No Deposit | NULL | NULL | 0 | Transient |  0 | 0 | 0 | Check-Out | 7/1/2015 |\n",
       "| 2 | Resort Hotel | 0 | 737 | 2015 | July | 27 | 1 | 0 | 0 | 2 | ... | No Deposit | NULL | NULL | 0 | Transient |  0 | 0 | 0 | Check-Out | 7/1/2015 |\n",
       "| 3 | Resort Hotel | 0 |   7 | 2015 | July | 27 | 1 | 0 | 1 | 1 | ... | No Deposit | NULL | NULL | 0 | Transient | 75 | 0 | 0 | Check-Out | 7/2/2015 |\n",
       "\n"
      ],
      "text/plain": [
       "  hotel        is_canceled lead_time arrival_date_year arrival_date_month\n",
       "1 Resort Hotel 0           342       2015              July              \n",
       "2 Resort Hotel 0           737       2015              July              \n",
       "3 Resort Hotel 0             7       2015              July              \n",
       "  arrival_date_week_number arrival_date_day_of_month stays_in_weekend_nights\n",
       "1 27                       1                         0                      \n",
       "2 27                       1                         0                      \n",
       "3 27                       1                         0                      \n",
       "  stays_in_week_nights adults ... deposit_type agent company\n",
       "1 0                    2      ... No Deposit   NULL  NULL   \n",
       "2 0                    2      ... No Deposit   NULL  NULL   \n",
       "3 1                    1      ... No Deposit   NULL  NULL   \n",
       "  days_in_waiting_list customer_type adr required_car_parking_spaces\n",
       "1 0                    Transient      0  0                          \n",
       "2 0                    Transient      0  0                          \n",
       "3 0                    Transient     75  0                          \n",
       "  total_of_special_requests reservation_status reservation_status_date\n",
       "1 0                         Check-Out          7/1/2015               \n",
       "2 0                         Check-Out          7/1/2015               \n",
       "3 0                         Check-Out          7/2/2015               "
      ]
     },
     "metadata": {},
     "output_type": "display_data"
    }
   ],
   "source": [
    "head(df , 3)"
   ]
  },
  {
   "cell_type": "code",
   "execution_count": 4,
   "id": "d25bae5c",
   "metadata": {},
   "outputs": [
    {
     "data": {
      "text/html": [
       "'data.frame'"
      ],
      "text/latex": [
       "'data.frame'"
      ],
      "text/markdown": [
       "'data.frame'"
      ],
      "text/plain": [
       "[1] \"data.frame\""
      ]
     },
     "metadata": {},
     "output_type": "display_data"
    }
   ],
   "source": [
    "class(df)"
   ]
  },
  {
   "cell_type": "code",
   "execution_count": 5,
   "id": "3a6fc753",
   "metadata": {},
   "outputs": [
    {
     "data": {
      "text/html": [
       "<style>\n",
       ".list-inline {list-style: none; margin:0; padding: 0}\n",
       ".list-inline>li {display: inline-block}\n",
       ".list-inline>li:not(:last-child)::after {content: \"\\00b7\"; padding: 0 .5ex}\n",
       "</style>\n",
       "<ol class=list-inline><li>119390</li><li>32</li></ol>\n"
      ],
      "text/latex": [
       "\\begin{enumerate*}\n",
       "\\item 119390\n",
       "\\item 32\n",
       "\\end{enumerate*}\n"
      ],
      "text/markdown": [
       "1. 119390\n",
       "2. 32\n",
       "\n",
       "\n"
      ],
      "text/plain": [
       "[1] 119390     32"
      ]
     },
     "metadata": {},
     "output_type": "display_data"
    }
   ],
   "source": [
    "dim(df)"
   ]
  },
  {
   "cell_type": "code",
   "execution_count": null,
   "id": "353ff0a8",
   "metadata": {},
   "outputs": [],
   "source": []
  },
  {
   "cell_type": "code",
   "execution_count": 6,
   "id": "6d5a5c63",
   "metadata": {},
   "outputs": [],
   "source": [
    "help(lapply)\n",
    "\n",
    "## lapply returns a list \n",
    "\n",
    "## lapply( x , fun )\n",
    "## X : a vector (atomic or list) \n",
    "## FUN : the function to be applied to each element of x"
   ]
  },
  {
   "cell_type": "code",
   "execution_count": 6,
   "id": "74aeb4b4",
   "metadata": {},
   "outputs": [
    {
     "data": {
      "text/html": [
       "<pre class=language-r><code>function (X, FUN, ...) \n",
       "NULL</code></pre>"
      ],
      "text/latex": [
       "\\begin{minted}{r}\n",
       "function (X, FUN, ...) \n",
       "NULL\n",
       "\\end{minted}"
      ],
      "text/markdown": [
       "```r\n",
       "function (X, FUN, ...) \n",
       "NULL\n",
       "```"
      ],
      "text/plain": [
       "function (X, FUN, ...) \n",
       "NULL"
      ]
     },
     "metadata": {},
     "output_type": "display_data"
    }
   ],
   "source": [
    "args(lapply)"
   ]
  },
  {
   "cell_type": "code",
   "execution_count": null,
   "id": "90e6de50",
   "metadata": {},
   "outputs": [],
   "source": [
    "\"\n",
    "\n",
    "X : This is the list (or vector) , dataframe on which u want to apply function FUN ..\n",
    "\n",
    "FUN : This is the function to be applied to each element of the list X..\n",
    "\n",
    "... : These are additional arguments that can be passed to the lapply as per need..\n",
    "\n",
    "\n",
    "\""
   ]
  },
  {
   "cell_type": "code",
   "execution_count": 7,
   "id": "e4dca026",
   "metadata": {},
   "outputs": [
    {
     "data": {
      "text/html": [
       "<dl>\n",
       "\t<dt>$hotel</dt>\n",
       "\t\t<dd>'character'</dd>\n",
       "\t<dt>$is_canceled</dt>\n",
       "\t\t<dd>'integer'</dd>\n",
       "\t<dt>$lead_time</dt>\n",
       "\t\t<dd>'integer'</dd>\n",
       "\t<dt>$arrival_date_year</dt>\n",
       "\t\t<dd>'integer'</dd>\n",
       "\t<dt>$arrival_date_month</dt>\n",
       "\t\t<dd>'character'</dd>\n",
       "\t<dt>$arrival_date_week_number</dt>\n",
       "\t\t<dd>'integer'</dd>\n",
       "\t<dt>$arrival_date_day_of_month</dt>\n",
       "\t\t<dd>'integer'</dd>\n",
       "\t<dt>$stays_in_weekend_nights</dt>\n",
       "\t\t<dd>'integer'</dd>\n",
       "\t<dt>$stays_in_week_nights</dt>\n",
       "\t\t<dd>'integer'</dd>\n",
       "\t<dt>$adults</dt>\n",
       "\t\t<dd>'integer'</dd>\n",
       "\t<dt>$children</dt>\n",
       "\t\t<dd>'integer'</dd>\n",
       "\t<dt>$babies</dt>\n",
       "\t\t<dd>'integer'</dd>\n",
       "\t<dt>$meal</dt>\n",
       "\t\t<dd>'character'</dd>\n",
       "\t<dt>$country</dt>\n",
       "\t\t<dd>'character'</dd>\n",
       "\t<dt>$market_segment</dt>\n",
       "\t\t<dd>'character'</dd>\n",
       "\t<dt>$distribution_channel</dt>\n",
       "\t\t<dd>'character'</dd>\n",
       "\t<dt>$is_repeated_guest</dt>\n",
       "\t\t<dd>'integer'</dd>\n",
       "\t<dt>$previous_cancellations</dt>\n",
       "\t\t<dd>'integer'</dd>\n",
       "\t<dt>$previous_bookings_not_canceled</dt>\n",
       "\t\t<dd>'integer'</dd>\n",
       "\t<dt>$reserved_room_type</dt>\n",
       "\t\t<dd>'character'</dd>\n",
       "\t<dt>$assigned_room_type</dt>\n",
       "\t\t<dd>'character'</dd>\n",
       "\t<dt>$booking_changes</dt>\n",
       "\t\t<dd>'integer'</dd>\n",
       "\t<dt>$deposit_type</dt>\n",
       "\t\t<dd>'character'</dd>\n",
       "\t<dt>$agent</dt>\n",
       "\t\t<dd>'character'</dd>\n",
       "\t<dt>$company</dt>\n",
       "\t\t<dd>'character'</dd>\n",
       "\t<dt>$days_in_waiting_list</dt>\n",
       "\t\t<dd>'integer'</dd>\n",
       "\t<dt>$customer_type</dt>\n",
       "\t\t<dd>'character'</dd>\n",
       "\t<dt>$adr</dt>\n",
       "\t\t<dd>'numeric'</dd>\n",
       "\t<dt>$required_car_parking_spaces</dt>\n",
       "\t\t<dd>'integer'</dd>\n",
       "\t<dt>$total_of_special_requests</dt>\n",
       "\t\t<dd>'integer'</dd>\n",
       "\t<dt>$reservation_status</dt>\n",
       "\t\t<dd>'character'</dd>\n",
       "\t<dt>$reservation_status_date</dt>\n",
       "\t\t<dd>'character'</dd>\n",
       "</dl>\n"
      ],
      "text/latex": [
       "\\begin{description}\n",
       "\\item[\\$hotel] 'character'\n",
       "\\item[\\$is\\_canceled] 'integer'\n",
       "\\item[\\$lead\\_time] 'integer'\n",
       "\\item[\\$arrival\\_date\\_year] 'integer'\n",
       "\\item[\\$arrival\\_date\\_month] 'character'\n",
       "\\item[\\$arrival\\_date\\_week\\_number] 'integer'\n",
       "\\item[\\$arrival\\_date\\_day\\_of\\_month] 'integer'\n",
       "\\item[\\$stays\\_in\\_weekend\\_nights] 'integer'\n",
       "\\item[\\$stays\\_in\\_week\\_nights] 'integer'\n",
       "\\item[\\$adults] 'integer'\n",
       "\\item[\\$children] 'integer'\n",
       "\\item[\\$babies] 'integer'\n",
       "\\item[\\$meal] 'character'\n",
       "\\item[\\$country] 'character'\n",
       "\\item[\\$market\\_segment] 'character'\n",
       "\\item[\\$distribution\\_channel] 'character'\n",
       "\\item[\\$is\\_repeated\\_guest] 'integer'\n",
       "\\item[\\$previous\\_cancellations] 'integer'\n",
       "\\item[\\$previous\\_bookings\\_not\\_canceled] 'integer'\n",
       "\\item[\\$reserved\\_room\\_type] 'character'\n",
       "\\item[\\$assigned\\_room\\_type] 'character'\n",
       "\\item[\\$booking\\_changes] 'integer'\n",
       "\\item[\\$deposit\\_type] 'character'\n",
       "\\item[\\$agent] 'character'\n",
       "\\item[\\$company] 'character'\n",
       "\\item[\\$days\\_in\\_waiting\\_list] 'integer'\n",
       "\\item[\\$customer\\_type] 'character'\n",
       "\\item[\\$adr] 'numeric'\n",
       "\\item[\\$required\\_car\\_parking\\_spaces] 'integer'\n",
       "\\item[\\$total\\_of\\_special\\_requests] 'integer'\n",
       "\\item[\\$reservation\\_status] 'character'\n",
       "\\item[\\$reservation\\_status\\_date] 'character'\n",
       "\\end{description}\n"
      ],
      "text/markdown": [
       "$hotel\n",
       ":   'character'\n",
       "$is_canceled\n",
       ":   'integer'\n",
       "$lead_time\n",
       ":   'integer'\n",
       "$arrival_date_year\n",
       ":   'integer'\n",
       "$arrival_date_month\n",
       ":   'character'\n",
       "$arrival_date_week_number\n",
       ":   'integer'\n",
       "$arrival_date_day_of_month\n",
       ":   'integer'\n",
       "$stays_in_weekend_nights\n",
       ":   'integer'\n",
       "$stays_in_week_nights\n",
       ":   'integer'\n",
       "$adults\n",
       ":   'integer'\n",
       "$children\n",
       ":   'integer'\n",
       "$babies\n",
       ":   'integer'\n",
       "$meal\n",
       ":   'character'\n",
       "$country\n",
       ":   'character'\n",
       "$market_segment\n",
       ":   'character'\n",
       "$distribution_channel\n",
       ":   'character'\n",
       "$is_repeated_guest\n",
       ":   'integer'\n",
       "$previous_cancellations\n",
       ":   'integer'\n",
       "$previous_bookings_not_canceled\n",
       ":   'integer'\n",
       "$reserved_room_type\n",
       ":   'character'\n",
       "$assigned_room_type\n",
       ":   'character'\n",
       "$booking_changes\n",
       ":   'integer'\n",
       "$deposit_type\n",
       ":   'character'\n",
       "$agent\n",
       ":   'character'\n",
       "$company\n",
       ":   'character'\n",
       "$days_in_waiting_list\n",
       ":   'integer'\n",
       "$customer_type\n",
       ":   'character'\n",
       "$adr\n",
       ":   'numeric'\n",
       "$required_car_parking_spaces\n",
       ":   'integer'\n",
       "$total_of_special_requests\n",
       ":   'integer'\n",
       "$reservation_status\n",
       ":   'character'\n",
       "$reservation_status_date\n",
       ":   'character'\n",
       "\n",
       "\n"
      ],
      "text/plain": [
       "$hotel\n",
       "[1] \"character\"\n",
       "\n",
       "$is_canceled\n",
       "[1] \"integer\"\n",
       "\n",
       "$lead_time\n",
       "[1] \"integer\"\n",
       "\n",
       "$arrival_date_year\n",
       "[1] \"integer\"\n",
       "\n",
       "$arrival_date_month\n",
       "[1] \"character\"\n",
       "\n",
       "$arrival_date_week_number\n",
       "[1] \"integer\"\n",
       "\n",
       "$arrival_date_day_of_month\n",
       "[1] \"integer\"\n",
       "\n",
       "$stays_in_weekend_nights\n",
       "[1] \"integer\"\n",
       "\n",
       "$stays_in_week_nights\n",
       "[1] \"integer\"\n",
       "\n",
       "$adults\n",
       "[1] \"integer\"\n",
       "\n",
       "$children\n",
       "[1] \"integer\"\n",
       "\n",
       "$babies\n",
       "[1] \"integer\"\n",
       "\n",
       "$meal\n",
       "[1] \"character\"\n",
       "\n",
       "$country\n",
       "[1] \"character\"\n",
       "\n",
       "$market_segment\n",
       "[1] \"character\"\n",
       "\n",
       "$distribution_channel\n",
       "[1] \"character\"\n",
       "\n",
       "$is_repeated_guest\n",
       "[1] \"integer\"\n",
       "\n",
       "$previous_cancellations\n",
       "[1] \"integer\"\n",
       "\n",
       "$previous_bookings_not_canceled\n",
       "[1] \"integer\"\n",
       "\n",
       "$reserved_room_type\n",
       "[1] \"character\"\n",
       "\n",
       "$assigned_room_type\n",
       "[1] \"character\"\n",
       "\n",
       "$booking_changes\n",
       "[1] \"integer\"\n",
       "\n",
       "$deposit_type\n",
       "[1] \"character\"\n",
       "\n",
       "$agent\n",
       "[1] \"character\"\n",
       "\n",
       "$company\n",
       "[1] \"character\"\n",
       "\n",
       "$days_in_waiting_list\n",
       "[1] \"integer\"\n",
       "\n",
       "$customer_type\n",
       "[1] \"character\"\n",
       "\n",
       "$adr\n",
       "[1] \"numeric\"\n",
       "\n",
       "$required_car_parking_spaces\n",
       "[1] \"integer\"\n",
       "\n",
       "$total_of_special_requests\n",
       "[1] \"integer\"\n",
       "\n",
       "$reservation_status\n",
       "[1] \"character\"\n",
       "\n",
       "$reservation_status_date\n",
       "[1] \"character\"\n"
      ]
     },
     "metadata": {},
     "output_type": "display_data"
    }
   ],
   "source": [
    "lapply(df , class)"
   ]
  },
  {
   "cell_type": "code",
   "execution_count": null,
   "id": "e9611f4f",
   "metadata": {},
   "outputs": [],
   "source": [
    "\"\n",
    "\n",
    "lapply: lapply is a function in R that stands for 'list apply.''\n",
    "It is used to apply a specified function to each element of a list \n",
    "        or a vector and returns the results as a list..\n",
    "\n",
    "\n",
    "So, when you run lapply(data, class) , \n",
    "it takes each column of the 'data' dataframe & \n",
    "        applies the class() function to it, \n",
    "\n",
    "and returns a Output as list where each element/col tells class \n",
    "        (data type) of a column in the data object..\n",
    "\n",
    "\""
   ]
  },
  {
   "cell_type": "code",
   "execution_count": null,
   "id": "faf832c2",
   "metadata": {},
   "outputs": [],
   "source": []
  },
  {
   "cell_type": "code",
   "execution_count": null,
   "id": "007defba",
   "metadata": {},
   "outputs": [],
   "source": [
    "'''\n",
    "\n",
    "\n",
    "Discuss about data-types in R :\n",
    "\n",
    "\n",
    "1) $hotel\n",
    "    'character'\n",
    "\n",
    "    $hotel : \n",
    "\n",
    "    Since dataframe is all about extension of R list bcz \n",
    "    R list is all about collection of key-value pairs , \n",
    "    where key is all about col-name & value are the values of that corresponding col..\n",
    "    In this , hotelseems is a key/col of dataframe \n",
    "              and the $ symbol is used to access this key. \n",
    "\n",
    "    Character: it is Used to store text and are enclosed in double or single quotes.\n",
    "    Examples: \"Hello, World!\", 'R Programming'.\n",
    "\n",
    "\n",
    "2) $lead_time\n",
    "    'integer'\n",
    "    Numeric:\n",
    "\n",
    "    Numeric data-type is used to represent numeric values, ie \n",
    "    both integers and Decimal values..\n",
    "    Examples: 5, 3.14, -42.\n",
    "\n",
    "\n",
    "\n",
    "\n",
    "'''"
   ]
  },
  {
   "cell_type": "code",
   "execution_count": null,
   "id": "5b2ddd54",
   "metadata": {},
   "outputs": [],
   "source": []
  },
  {
   "cell_type": "code",
   "execution_count": null,
   "id": "c1e797a8",
   "metadata": {},
   "outputs": [],
   "source": []
  },
  {
   "cell_type": "code",
   "execution_count": null,
   "id": "603428f8",
   "metadata": {},
   "outputs": [],
   "source": []
  },
  {
   "cell_type": "code",
   "execution_count": null,
   "id": "3740b23c",
   "metadata": {},
   "outputs": [],
   "source": []
  },
  {
   "cell_type": "code",
   "execution_count": null,
   "id": "5f97914d",
   "metadata": {},
   "outputs": [],
   "source": []
  },
  {
   "cell_type": "markdown",
   "id": "fa47e4c5",
   "metadata": {},
   "source": [
    "## 2.. Lets do Data cleaning !\n",
    "    Removing invalid rows"
   ]
  },
  {
   "cell_type": "code",
   "execution_count": 8,
   "id": "4f8ac735",
   "metadata": {},
   "outputs": [
    {
     "data": {
      "text/html": [
       "<style>\n",
       ".list-inline {list-style: none; margin:0; padding: 0}\n",
       ".list-inline>li {display: inline-block}\n",
       ".list-inline>li:not(:last-child)::after {content: \"\\00b7\"; padding: 0 .5ex}\n",
       "</style>\n",
       "<ol class=list-inline><li>'hotel'</li><li>'is_canceled'</li><li>'lead_time'</li><li>'arrival_date_year'</li><li>'arrival_date_month'</li><li>'arrival_date_week_number'</li><li>'arrival_date_day_of_month'</li><li>'stays_in_weekend_nights'</li><li>'stays_in_week_nights'</li><li>'adults'</li><li>'children'</li><li>'babies'</li><li>'meal'</li><li>'country'</li><li>'market_segment'</li><li>'distribution_channel'</li><li>'is_repeated_guest'</li><li>'previous_cancellations'</li><li>'previous_bookings_not_canceled'</li><li>'reserved_room_type'</li><li>'assigned_room_type'</li><li>'booking_changes'</li><li>'deposit_type'</li><li>'agent'</li><li>'company'</li><li>'days_in_waiting_list'</li><li>'customer_type'</li><li>'adr'</li><li>'required_car_parking_spaces'</li><li>'total_of_special_requests'</li><li>'reservation_status'</li><li>'reservation_status_date'</li></ol>\n"
      ],
      "text/latex": [
       "\\begin{enumerate*}\n",
       "\\item 'hotel'\n",
       "\\item 'is\\_canceled'\n",
       "\\item 'lead\\_time'\n",
       "\\item 'arrival\\_date\\_year'\n",
       "\\item 'arrival\\_date\\_month'\n",
       "\\item 'arrival\\_date\\_week\\_number'\n",
       "\\item 'arrival\\_date\\_day\\_of\\_month'\n",
       "\\item 'stays\\_in\\_weekend\\_nights'\n",
       "\\item 'stays\\_in\\_week\\_nights'\n",
       "\\item 'adults'\n",
       "\\item 'children'\n",
       "\\item 'babies'\n",
       "\\item 'meal'\n",
       "\\item 'country'\n",
       "\\item 'market\\_segment'\n",
       "\\item 'distribution\\_channel'\n",
       "\\item 'is\\_repeated\\_guest'\n",
       "\\item 'previous\\_cancellations'\n",
       "\\item 'previous\\_bookings\\_not\\_canceled'\n",
       "\\item 'reserved\\_room\\_type'\n",
       "\\item 'assigned\\_room\\_type'\n",
       "\\item 'booking\\_changes'\n",
       "\\item 'deposit\\_type'\n",
       "\\item 'agent'\n",
       "\\item 'company'\n",
       "\\item 'days\\_in\\_waiting\\_list'\n",
       "\\item 'customer\\_type'\n",
       "\\item 'adr'\n",
       "\\item 'required\\_car\\_parking\\_spaces'\n",
       "\\item 'total\\_of\\_special\\_requests'\n",
       "\\item 'reservation\\_status'\n",
       "\\item 'reservation\\_status\\_date'\n",
       "\\end{enumerate*}\n"
      ],
      "text/markdown": [
       "1. 'hotel'\n",
       "2. 'is_canceled'\n",
       "3. 'lead_time'\n",
       "4. 'arrival_date_year'\n",
       "5. 'arrival_date_month'\n",
       "6. 'arrival_date_week_number'\n",
       "7. 'arrival_date_day_of_month'\n",
       "8. 'stays_in_weekend_nights'\n",
       "9. 'stays_in_week_nights'\n",
       "10. 'adults'\n",
       "11. 'children'\n",
       "12. 'babies'\n",
       "13. 'meal'\n",
       "14. 'country'\n",
       "15. 'market_segment'\n",
       "16. 'distribution_channel'\n",
       "17. 'is_repeated_guest'\n",
       "18. 'previous_cancellations'\n",
       "19. 'previous_bookings_not_canceled'\n",
       "20. 'reserved_room_type'\n",
       "21. 'assigned_room_type'\n",
       "22. 'booking_changes'\n",
       "23. 'deposit_type'\n",
       "24. 'agent'\n",
       "25. 'company'\n",
       "26. 'days_in_waiting_list'\n",
       "27. 'customer_type'\n",
       "28. 'adr'\n",
       "29. 'required_car_parking_spaces'\n",
       "30. 'total_of_special_requests'\n",
       "31. 'reservation_status'\n",
       "32. 'reservation_status_date'\n",
       "\n",
       "\n"
      ],
      "text/plain": [
       " [1] \"hotel\"                          \"is_canceled\"                   \n",
       " [3] \"lead_time\"                      \"arrival_date_year\"             \n",
       " [5] \"arrival_date_month\"             \"arrival_date_week_number\"      \n",
       " [7] \"arrival_date_day_of_month\"      \"stays_in_weekend_nights\"       \n",
       " [9] \"stays_in_week_nights\"           \"adults\"                        \n",
       "[11] \"children\"                       \"babies\"                        \n",
       "[13] \"meal\"                           \"country\"                       \n",
       "[15] \"market_segment\"                 \"distribution_channel\"          \n",
       "[17] \"is_repeated_guest\"              \"previous_cancellations\"        \n",
       "[19] \"previous_bookings_not_canceled\" \"reserved_room_type\"            \n",
       "[21] \"assigned_room_type\"             \"booking_changes\"               \n",
       "[23] \"deposit_type\"                   \"agent\"                         \n",
       "[25] \"company\"                        \"days_in_waiting_list\"          \n",
       "[27] \"customer_type\"                  \"adr\"                           \n",
       "[29] \"required_car_parking_spaces\"    \"total_of_special_requests\"     \n",
       "[31] \"reservation_status\"             \"reservation_status_date\"       "
      ]
     },
     "metadata": {},
     "output_type": "display_data"
    }
   ],
   "source": [
    "colnames(df)"
   ]
  },
  {
   "cell_type": "code",
   "execution_count": null,
   "id": "ffc27228",
   "metadata": {},
   "outputs": [],
   "source": []
  },
  {
   "cell_type": "code",
   "execution_count": null,
   "id": "eb3cfd48",
   "metadata": {},
   "outputs": [],
   "source": [
    "help(cat)\n",
    "\n",
    "## Concatenate and Print"
   ]
  },
  {
   "cell_type": "code",
   "execution_count": 9,
   "id": "40976ea5",
   "metadata": {},
   "outputs": [
    {
     "data": {
      "text/html": [
       "<pre class=language-r><code>function (..., file = \"\", sep = \" \", fill = FALSE, labels = NULL, \n",
       "<span style=white-space:pre-wrap>    append = FALSE) </span>\n",
       "NULL</code></pre>"
      ],
      "text/latex": [
       "\\begin{minted}{r}\n",
       "function (..., file = \"\", sep = \" \", fill = FALSE, labels = NULL, \n",
       "    append = FALSE) \n",
       "NULL\n",
       "\\end{minted}"
      ],
      "text/markdown": [
       "```r\n",
       "function (..., file = \"\", sep = \" \", fill = FALSE, labels = NULL, \n",
       "    append = FALSE) \n",
       "NULL\n",
       "```"
      ],
      "text/plain": [
       "function (..., file = \"\", sep = \" \", fill = FALSE, labels = NULL, \n",
       "    append = FALSE) \n",
       "NULL"
      ]
     },
     "metadata": {},
     "output_type": "display_data"
    }
   ],
   "source": [
    "args(cat)\n",
    "\n",
    "## cat() is a base-R function() ..\n",
    "        \n",
    "## we can perform concatenation using cat() function with the help of which we can perform character-wise concatenation "
   ]
  },
  {
   "cell_type": "code",
   "execution_count": 11,
   "id": "30c264c9",
   "metadata": {},
   "outputs": [],
   "source": [
    "col_vector = c('children','adults','babies')\n",
    "\n",
    "for (col in col_vector)\n",
    "{\n",
    "    sprintf(\" %s has unique values as : %s \" , col, unique(df[col]))\n",
    "    \n",
    "    ## sprintf() creates a formatted string but doesn't print it , \n",
    "    ## for print u have to use cat()\n",
    "    ## The cat() is used for concatenating and printing multiple values\n",
    "    \n",
    "}"
   ]
  },
  {
   "cell_type": "code",
   "execution_count": 20,
   "id": "40622807",
   "metadata": {},
   "outputs": [
    {
     "name": "stdout",
     "output_type": "stream",
     "text": [
      " children has unique values as : c(0, 1, 2, 10, 3, NA) \n",
      " adults has unique values as : c(2, 1, 3, 4, 40, 26, 50, 27, 55, 0, 20, 6, 5, 10) \n",
      " babies has unique values as : c(0, 1, 2, 10, 9) \n"
     ]
    }
   ],
   "source": [
    "col_vector = c('children','adults','babies')\n",
    "\n",
    "for (col in col_vector)\n",
    "{\n",
    "    cat(sprintf(\" %s has unique values as : %s \" , col, unique(df[col])))\n",
    "    cat('\\n')\n",
    "    ## The cat() is used for concatenating and printing multiple values\n",
    "    \n",
    "}"
   ]
  },
  {
   "cell_type": "code",
   "execution_count": null,
   "id": "6fe27054",
   "metadata": {},
   "outputs": [],
   "source": []
  },
  {
   "cell_type": "code",
   "execution_count": null,
   "id": "983af60a",
   "metadata": {},
   "outputs": [],
   "source": []
  },
  {
   "cell_type": "code",
   "execution_count": null,
   "id": "56e43c7f",
   "metadata": {},
   "outputs": [],
   "source": [
    "### only using cat() , ie without sprintf()"
   ]
  },
  {
   "cell_type": "code",
   "execution_count": 18,
   "id": "fee1e493",
   "metadata": {},
   "outputs": [
    {
     "name": "stdout",
     "output_type": "stream",
     "text": [
      "children has unique values as :  0 1 2 10 3 NA\n",
      "adults has unique values as :  2 1 3 4 40 26 50 27 55 0 20 6 5 10\n",
      "babies has unique values as :  0 1 2 10 9\n"
     ]
    }
   ],
   "source": [
    "col_vector = c('children','adults','babies')\n",
    "\n",
    "for (col in col_vector)\n",
    "{\n",
    "    cat(col , \"has unique values as : \"  , unique(df[[col]]))\n",
    "    cat('\\n')\n",
    "    ## The cat() is used for concatenating and printing multiple values\n",
    "    \n",
    "}"
   ]
  },
  {
   "cell_type": "code",
   "execution_count": null,
   "id": "c54c7cc3",
   "metadata": {},
   "outputs": [],
   "source": [
    "\"\n",
    "\n",
    "by using df$col , it is actually returning NA for quantile values ..\n",
    "\n",
    "Why df[[col]] in below code instead of df$col :\n",
    "cat(col , \"has unique values as : \"  , unique(df[[col]]))\n",
    "\n",
    "\n",
    "\n",
    "\n",
    "Here's a simple explanation:\n",
    "\n",
    "data$col :  This is used when you know the exact name of the column you want, and you provide it directly. \n",
    "            It's like saying, \"Give me the column named y_axis_fea from the data frame df..\"\n",
    "\n",
    "data[[col]] : This is used when the column name is stored in a variable (col in this case).. \n",
    "              or the column name is generated dynamically using some operation..\n",
    "              It's like saying \"Give me the column whose name is stored in the variable \"col\" from the data frame data\"\n",
    "              ie , Here \"col\" is a variable containing the column name, thats why we will use data[[col]]\n",
    "              As we are accessing col-name via loop , hence we don't know col-name , thats why its good to use data[[col]]\n",
    "\n",
    "Summary:\n",
    "\n",
    "data$col: Use when you know the exact column name.\n",
    "data[[col]]: Use when the column name is stored in a variable or generated dynamically.\n",
    "\n",
    "\n",
    "data[col] ->> is used if u want o/p in dataframe else everything is same..\n",
    "\n",
    "\n",
    "\n",
    "\""
   ]
  },
  {
   "cell_type": "code",
   "execution_count": null,
   "id": "998c764b-9e4a-4a5b-a3fb-16d2cb514e05",
   "metadata": {},
   "outputs": [],
   "source": []
  },
  {
   "cell_type": "code",
   "execution_count": null,
   "id": "dcaa3437-f99f-4aca-8148-3945a7269474",
   "metadata": {},
   "outputs": [],
   "source": []
  },
  {
   "cell_type": "code",
   "execution_count": null,
   "id": "4e4958f1",
   "metadata": {},
   "outputs": [],
   "source": [
    "### seems to have some dirtiness in data as \n",
    "### Adults,babies & children cant be zero at a same time"
   ]
  },
  {
   "cell_type": "markdown",
   "id": "d6acec7b",
   "metadata": {},
   "source": [
    "'''\n",
    "\n",
    "(df['children']==0) & (df['adults']==0) & (df['babies']==0)\n",
    "\n",
    "these were typically my invalid entries that's why we have to eliminate it..\n",
    "\n",
    "As it makes no sense that if We have adults , children & babies as 0 then how can a booking be possible ?\n",
    "\n",
    "hence we have to clean it.\n",
    "\n",
    "'''"
   ]
  },
  {
   "cell_type": "code",
   "execution_count": 23,
   "id": "99485574",
   "metadata": {},
   "outputs": [
    {
     "data": {
      "text/html": [
       "<table class=\"dataframe\">\n",
       "<caption>A data.frame: 180 × 32</caption>\n",
       "<thead>\n",
       "\t<tr><th></th><th scope=col>hotel</th><th scope=col>is_canceled</th><th scope=col>lead_time</th><th scope=col>arrival_date_year</th><th scope=col>arrival_date_month</th><th scope=col>arrival_date_week_number</th><th scope=col>arrival_date_day_of_month</th><th scope=col>stays_in_weekend_nights</th><th scope=col>stays_in_week_nights</th><th scope=col>adults</th><th scope=col>...</th><th scope=col>deposit_type</th><th scope=col>agent</th><th scope=col>company</th><th scope=col>days_in_waiting_list</th><th scope=col>customer_type</th><th scope=col>adr</th><th scope=col>required_car_parking_spaces</th><th scope=col>total_of_special_requests</th><th scope=col>reservation_status</th><th scope=col>reservation_status_date</th></tr>\n",
       "\t<tr><th></th><th scope=col>&lt;chr&gt;</th><th scope=col>&lt;int&gt;</th><th scope=col>&lt;int&gt;</th><th scope=col>&lt;int&gt;</th><th scope=col>&lt;chr&gt;</th><th scope=col>&lt;int&gt;</th><th scope=col>&lt;int&gt;</th><th scope=col>&lt;int&gt;</th><th scope=col>&lt;int&gt;</th><th scope=col>&lt;int&gt;</th><th scope=col>...</th><th scope=col>&lt;chr&gt;</th><th scope=col>&lt;chr&gt;</th><th scope=col>&lt;chr&gt;</th><th scope=col>&lt;int&gt;</th><th scope=col>&lt;chr&gt;</th><th scope=col>&lt;dbl&gt;</th><th scope=col>&lt;int&gt;</th><th scope=col>&lt;int&gt;</th><th scope=col>&lt;chr&gt;</th><th scope=col>&lt;chr&gt;</th></tr>\n",
       "</thead>\n",
       "<tbody>\n",
       "\t<tr><th scope=row>2225</th><td>Resort Hotel</td><td>0</td><td>  1</td><td>2015</td><td>October  </td><td>41</td><td> 6</td><td>0</td><td> 3</td><td>0</td><td>...</td><td>No Deposit</td><td>NULL</td><td>174 </td><td>  0</td><td>Transient-Party</td><td> 0.00</td><td>0</td><td>0</td><td>Check-Out</td><td>10/6/2015 </td></tr>\n",
       "\t<tr><th scope=row>2410</th><td>Resort Hotel</td><td>0</td><td>  0</td><td>2015</td><td>October  </td><td>42</td><td>12</td><td>0</td><td> 0</td><td>0</td><td>...</td><td>No Deposit</td><td>NULL</td><td>174 </td><td>  0</td><td>Transient      </td><td> 0.00</td><td>0</td><td>0</td><td>Check-Out</td><td>10/12/2015</td></tr>\n",
       "\t<tr><th scope=row>3182</th><td>Resort Hotel</td><td>0</td><td> 36</td><td>2015</td><td>November </td><td>47</td><td>20</td><td>1</td><td> 2</td><td>0</td><td>...</td><td>No Deposit</td><td>38  </td><td>NULL</td><td>  0</td><td>Transient-Party</td><td> 0.00</td><td>0</td><td>0</td><td>Check-Out</td><td>11/23/2015</td></tr>\n",
       "\t<tr><th scope=row>3685</th><td>Resort Hotel</td><td>0</td><td>165</td><td>2015</td><td>December </td><td>53</td><td>30</td><td>1</td><td> 4</td><td>0</td><td>...</td><td>No Deposit</td><td>308 </td><td>NULL</td><td>122</td><td>Transient-Party</td><td> 0.00</td><td>0</td><td>0</td><td>Check-Out</td><td>1/4/2016  </td></tr>\n",
       "\t<tr><th scope=row>3709</th><td>Resort Hotel</td><td>0</td><td>165</td><td>2015</td><td>December </td><td>53</td><td>30</td><td>2</td><td> 4</td><td>0</td><td>...</td><td>No Deposit</td><td>308 </td><td>NULL</td><td>122</td><td>Transient-Party</td><td> 0.00</td><td>0</td><td>0</td><td>Check-Out</td><td>1/5/2016  </td></tr>\n",
       "\t<tr><th scope=row>4128</th><td>Resort Hotel</td><td>1</td><td>  0</td><td>2016</td><td>February </td><td> 8</td><td>15</td><td>0</td><td> 0</td><td>0</td><td>...</td><td>No Deposit</td><td>NULL</td><td>383 </td><td>  0</td><td>Transient      </td><td> 0.00</td><td>0</td><td>0</td><td>Canceled </td><td>2/15/2016 </td></tr>\n",
       "\t<tr><th scope=row>9377</th><td>Resort Hotel</td><td>1</td><td>  0</td><td>2016</td><td>November </td><td>48</td><td>21</td><td>0</td><td> 0</td><td>0</td><td>...</td><td>No Deposit</td><td>NULL</td><td>386 </td><td>  0</td><td>Group          </td><td> 0.00</td><td>0</td><td>0</td><td>Canceled </td><td>11/21/2016</td></tr>\n",
       "\t<tr><th scope=row>31766</th><td>Resort Hotel</td><td>0</td><td> 31</td><td>2016</td><td>December </td><td>53</td><td>27</td><td>2</td><td> 8</td><td>0</td><td>...</td><td>No Deposit</td><td>NULL</td><td>NULL</td><td>  0</td><td>Transient      </td><td>28.00</td><td>1</td><td>0</td><td>Check-Out</td><td>1/6/2017  </td></tr>\n",
       "\t<tr><th scope=row>32030</th><td>Resort Hotel</td><td>0</td><td>  4</td><td>2017</td><td>January  </td><td> 2</td><td>14</td><td>0</td><td> 1</td><td>0</td><td>...</td><td>No Deposit</td><td>168 </td><td>NULL</td><td>  0</td><td>Transient-Party</td><td> 0.00</td><td>0</td><td>0</td><td>Check-Out</td><td>1/15/2017 </td></tr>\n",
       "\t<tr><th scope=row>32828</th><td>Resort Hotel</td><td>0</td><td> 46</td><td>2017</td><td>January  </td><td> 4</td><td>25</td><td>3</td><td> 9</td><td>0</td><td>...</td><td>No Deposit</td><td>NULL</td><td>NULL</td><td>  0</td><td>Transient      </td><td> 0.00</td><td>0</td><td>0</td><td>Check-Out</td><td>2/6/2017  </td></tr>\n",
       "\t<tr><th scope=row>34850</th><td>Resort Hotel</td><td>0</td><td> 15</td><td>2017</td><td>March    </td><td>13</td><td>30</td><td>2</td><td> 6</td><td>0</td><td>...</td><td>No Deposit</td><td>NULL</td><td>523 </td><td>  0</td><td>Transient-Party</td><td> 0.00</td><td>0</td><td>0</td><td>Check-Out</td><td>4/7/2017  </td></tr>\n",
       "\t<tr><th scope=row>34856</th><td>Resort Hotel</td><td>0</td><td> 15</td><td>2017</td><td>March    </td><td>13</td><td>30</td><td>2</td><td> 6</td><td>0</td><td>...</td><td>No Deposit</td><td>NULL</td><td>523 </td><td>  0</td><td>Transient-Party</td><td> 0.00</td><td>0</td><td>0</td><td>Check-Out</td><td>4/7/2017  </td></tr>\n",
       "\t<tr><th scope=row>37460</th><td>Resort Hotel</td><td>0</td><td>  1</td><td>2017</td><td>June     </td><td>25</td><td>18</td><td>2</td><td> 5</td><td>0</td><td>...</td><td>No Deposit</td><td>NULL</td><td>NULL</td><td>  0</td><td>Transient      </td><td> 0.00</td><td>0</td><td>0</td><td>Check-Out</td><td>6/25/2017 </td></tr>\n",
       "\t<tr><th scope=row>40393</th><td>City Hotel  </td><td>0</td><td>132</td><td>2015</td><td>July     </td><td>30</td><td>23</td><td>2</td><td> 5</td><td>0</td><td>...</td><td>No Deposit</td><td>1   </td><td>NULL</td><td>  0</td><td>Transient-Party</td><td> 0.00</td><td>0</td><td>0</td><td>Check-Out</td><td>7/30/2015 </td></tr>\n",
       "\t<tr><th scope=row>40923</th><td>City Hotel  </td><td>0</td><td>  0</td><td>2015</td><td>August   </td><td>33</td><td> 9</td><td>2</td><td> 0</td><td>0</td><td>...</td><td>No Deposit</td><td>9   </td><td>NULL</td><td>  0</td><td>Contract       </td><td> 0.00</td><td>0</td><td>0</td><td>Check-Out</td><td>8/11/2015 </td></tr>\n",
       "\t<tr><th scope=row>41021</th><td>City Hotel  </td><td>0</td><td>  0</td><td>2015</td><td>August   </td><td>33</td><td>10</td><td>9</td><td>20</td><td>0</td><td>...</td><td>No Deposit</td><td>NULL</td><td>47  </td><td>  0</td><td>Transient      </td><td> 0.00</td><td>0</td><td>0</td><td>Check-Out</td><td>9/8/2015  </td></tr>\n",
       "\t<tr><th scope=row>41057</th><td>City Hotel  </td><td>0</td><td>  0</td><td>2015</td><td>August   </td><td>33</td><td>11</td><td>0</td><td> 4</td><td>0</td><td>...</td><td>No Deposit</td><td>NULL</td><td>49  </td><td>  0</td><td>Transient-Party</td><td> 0.00</td><td>0</td><td>1</td><td>Check-Out</td><td>8/15/2015 </td></tr>\n",
       "\t<tr><th scope=row>42453</th><td>City Hotel  </td><td>1</td><td>  1</td><td>2015</td><td>September</td><td>37</td><td> 6</td><td>2</td><td> 0</td><td>0</td><td>...</td><td>No Deposit</td><td>1   </td><td>NULL</td><td>  0</td><td>Transient-Party</td><td> 0.00</td><td>0</td><td>0</td><td>Canceled </td><td>9/5/2015  </td></tr>\n",
       "\t<tr><th scope=row>42592</th><td>City Hotel  </td><td>0</td><td>  0</td><td>2015</td><td>September</td><td>37</td><td> 7</td><td>1</td><td> 4</td><td>0</td><td>...</td><td>No Deposit</td><td>11  </td><td>NULL</td><td>  0</td><td>Transient      </td><td> 0.00</td><td>0</td><td>1</td><td>Check-Out</td><td>9/12/2015 </td></tr>\n",
       "\t<tr><th scope=row>42872</th><td>City Hotel  </td><td>0</td><td>  0</td><td>2015</td><td>September</td><td>37</td><td>11</td><td>0</td><td> 2</td><td>0</td><td>...</td><td>No Deposit</td><td>NULL</td><td>NULL</td><td>  0</td><td>Transient      </td><td> 0.00</td><td>0</td><td>0</td><td>Check-Out</td><td>9/13/2015 </td></tr>\n",
       "\t<tr><th scope=row>42935</th><td>City Hotel  </td><td>0</td><td>  4</td><td>2015</td><td>September</td><td>37</td><td>11</td><td>0</td><td> 1</td><td>0</td><td>...</td><td>No Deposit</td><td>NULL</td><td>NULL</td><td>  0</td><td>Transient      </td><td> 0.00</td><td>0</td><td>0</td><td>Check-Out</td><td>9/12/2015 </td></tr>\n",
       "\t<tr><th scope=row>47167</th><td>City Hotel  </td><td>1</td><td>  1</td><td>2016</td><td>February </td><td> 7</td><td>11</td><td>0</td><td> 3</td><td>0</td><td>...</td><td>No Deposit</td><td>9   </td><td>NULL</td><td>  0</td><td>Transient      </td><td> 0.00</td><td>0</td><td>1</td><td>No-Show  </td><td>2/11/2016 </td></tr>\n",
       "\t<tr><th scope=row>47181</th><td>City Hotel  </td><td>0</td><td>  0</td><td>2016</td><td>February </td><td> 7</td><td>12</td><td>0</td><td> 1</td><td>0</td><td>...</td><td>No Deposit</td><td>NULL</td><td>45  </td><td>  0</td><td>Transient      </td><td> 0.00</td><td>0</td><td>2</td><td>Check-Out</td><td>2/13/2016 </td></tr>\n",
       "\t<tr><th scope=row>47445</th><td>City Hotel  </td><td>0</td><td> 48</td><td>2016</td><td>February </td><td> 9</td><td>21</td><td>2</td><td> 4</td><td>0</td><td>...</td><td>No Deposit</td><td>14  </td><td>NULL</td><td>  0</td><td>Transient-Party</td><td>56.27</td><td>0</td><td>0</td><td>Check-Out</td><td>2/27/2016 </td></tr>\n",
       "\t<tr><th scope=row>49265</th><td>City Hotel  </td><td>1</td><td>173</td><td>2016</td><td>April    </td><td>15</td><td> 8</td><td>2</td><td> 3</td><td>0</td><td>...</td><td>No Deposit</td><td>21  </td><td>NULL</td><td>  0</td><td>Transient-Party</td><td> 0.00</td><td>0</td><td>0</td><td>Canceled </td><td>3/29/2016 </td></tr>\n",
       "\t<tr><th scope=row>50702</th><td>City Hotel  </td><td>0</td><td>122</td><td>2016</td><td>May      </td><td>19</td><td> 5</td><td>2</td><td> 4</td><td>0</td><td>...</td><td>No Deposit</td><td>11  </td><td>NULL</td><td>  0</td><td>Transient      </td><td>50.87</td><td>0</td><td>0</td><td>Check-Out</td><td>5/11/2016 </td></tr>\n",
       "\t<tr><th scope=row>50703</th><td>City Hotel  </td><td>0</td><td>122</td><td>2016</td><td>May      </td><td>19</td><td> 5</td><td>2</td><td> 4</td><td>0</td><td>...</td><td>No Deposit</td><td>11  </td><td>NULL</td><td>  0</td><td>Transient      </td><td>50.87</td><td>0</td><td>0</td><td>Check-Out</td><td>5/11/2016 </td></tr>\n",
       "\t<tr><th scope=row>54026</th><td>City Hotel  </td><td>0</td><td>198</td><td>2016</td><td>July     </td><td>28</td><td> 6</td><td>0</td><td> 4</td><td>0</td><td>...</td><td>No Deposit</td><td>9   </td><td>NULL</td><td>  0</td><td>Transient      </td><td> 0.00</td><td>0</td><td>1</td><td>Check-Out</td><td>7/10/2016 </td></tr>\n",
       "\t<tr><th scope=row>54038</th><td>City Hotel  </td><td>1</td><td>244</td><td>2016</td><td>July     </td><td>28</td><td> 6</td><td>2</td><td> 4</td><td>0</td><td>...</td><td>No Deposit</td><td>19  </td><td>NULL</td><td>  0</td><td>Transient      </td><td> 0.00</td><td>0</td><td>0</td><td>Canceled </td><td>2/23/2016 </td></tr>\n",
       "\t<tr><th scope=row>54048</th><td>City Hotel  </td><td>1</td><td>244</td><td>2016</td><td>July     </td><td>28</td><td> 6</td><td>2</td><td> 4</td><td>0</td><td>...</td><td>No Deposit</td><td>19  </td><td>NULL</td><td>  0</td><td>Transient      </td><td> 0.00</td><td>0</td><td>0</td><td>Canceled </td><td>2/23/2016 </td></tr>\n",
       "\t<tr><th scope=row>...</th><td>...</td><td>...</td><td>...</td><td>...</td><td>...</td><td>...</td><td>...</td><td>...</td><td>...</td><td>...</td><td></td><td>...</td><td>...</td><td>...</td><td>...</td><td>...</td><td>...</td><td>...</td><td>...</td><td>...</td><td>...</td></tr>\n",
       "\t<tr><th scope=row>107544</th><td>City Hotel</td><td>0</td><td>  0</td><td>2017</td><td>March</td><td>11</td><td>15</td><td>0</td><td> 0</td><td>0</td><td>...</td><td>No Deposit</td><td>132 </td><td>NULL</td><td>0</td><td>Transient      </td><td>  0.00</td><td>0</td><td>0</td><td>Check-Out</td><td>3/15/2017</td></tr>\n",
       "\t<tr><th scope=row>107595</th><td>City Hotel</td><td>0</td><td>  0</td><td>2017</td><td>March</td><td> 9</td><td> 4</td><td>4</td><td> 7</td><td>0</td><td>...</td><td>No Deposit</td><td>9   </td><td>NULL</td><td>0</td><td>Transient      </td><td>  8.00</td><td>0</td><td>0</td><td>Check-Out</td><td>3/15/2017</td></tr>\n",
       "\t<tr><th scope=row>107677</th><td>City Hotel</td><td>0</td><td>  0</td><td>2017</td><td>March</td><td>11</td><td>17</td><td>0</td><td> 0</td><td>0</td><td>...</td><td>No Deposit</td><td>9   </td><td>NULL</td><td>0</td><td>Transient      </td><td>  0.00</td><td>0</td><td>0</td><td>Check-Out</td><td>3/17/2017</td></tr>\n",
       "\t<tr><th scope=row>107978</th><td>City Hotel</td><td>0</td><td>  0</td><td>2017</td><td>March</td><td>12</td><td>21</td><td>0</td><td> 0</td><td>0</td><td>...</td><td>No Deposit</td><td>9   </td><td>NULL</td><td>0</td><td>Transient      </td><td>  0.00</td><td>1</td><td>1</td><td>Check-Out</td><td>3/21/2017</td></tr>\n",
       "\t<tr><th scope=row>107993</th><td>City Hotel</td><td>0</td><td>  0</td><td>2017</td><td>March</td><td>10</td><td> 7</td><td>4</td><td>10</td><td>0</td><td>...</td><td>No Deposit</td><td>NULL</td><td>NULL</td><td>0</td><td>Transient      </td><td>  0.00</td><td>0</td><td>1</td><td>Check-Out</td><td>3/21/2017</td></tr>\n",
       "\t<tr><th scope=row>108234</th><td>City Hotel</td><td>0</td><td>  0</td><td>2017</td><td>March</td><td>12</td><td>24</td><td>0</td><td> 0</td><td>0</td><td>...</td><td>No Deposit</td><td>155 </td><td>NULL</td><td>0</td><td>Transient      </td><td>  0.00</td><td>0</td><td>1</td><td>Check-Out</td><td>3/24/2017</td></tr>\n",
       "\t<tr><th scope=row>108235</th><td>City Hotel</td><td>0</td><td>  0</td><td>2017</td><td>March</td><td>12</td><td>24</td><td>0</td><td> 0</td><td>0</td><td>...</td><td>No Deposit</td><td>86  </td><td>NULL</td><td>0</td><td>Transient      </td><td>  0.00</td><td>0</td><td>0</td><td>Check-Out</td><td>3/24/2017</td></tr>\n",
       "\t<tr><th scope=row>108236</th><td>City Hotel</td><td>0</td><td>  0</td><td>2017</td><td>March</td><td>12</td><td>24</td><td>0</td><td> 0</td><td>0</td><td>...</td><td>No Deposit</td><td>86  </td><td>NULL</td><td>0</td><td>Transient      </td><td>  0.00</td><td>0</td><td>0</td><td>Check-Out</td><td>3/24/2017</td></tr>\n",
       "\t<tr><th scope=row>109039</th><td>City Hotel</td><td>0</td><td>  2</td><td>2017</td><td>March</td><td>10</td><td> 9</td><td>8</td><td>19</td><td>0</td><td>...</td><td>No Deposit</td><td>NULL</td><td>NULL</td><td>0</td><td>Transient      </td><td>  0.00</td><td>0</td><td>0</td><td>Check-Out</td><td>4/5/2017 </td></tr>\n",
       "\t<tr><th scope=row>109946</th><td>City Hotel</td><td>0</td><td> 10</td><td>2017</td><td>April</td><td>15</td><td>14</td><td>2</td><td> 3</td><td>0</td><td>...</td><td>No Deposit</td><td>14  </td><td>NULL</td><td>0</td><td>Transient      </td><td>  0.00</td><td>0</td><td>1</td><td>Check-Out</td><td>4/19/2017</td></tr>\n",
       "\t<tr><th scope=row>110281</th><td>City Hotel</td><td>1</td><td>132</td><td>2017</td><td>April</td><td>17</td><td>25</td><td>0</td><td> 0</td><td>0</td><td>...</td><td>No Deposit</td><td>9   </td><td>NULL</td><td>0</td><td>Transient      </td><td>  0.00</td><td>0</td><td>3</td><td>Canceled </td><td>4/25/2017</td></tr>\n",
       "\t<tr><th scope=row>110302</th><td>City Hotel</td><td>0</td><td>  7</td><td>2017</td><td>April</td><td>16</td><td>20</td><td>2</td><td> 3</td><td>0</td><td>...</td><td>No Deposit</td><td>NULL</td><td>460 </td><td>0</td><td>Transient      </td><td>  0.00</td><td>0</td><td>1</td><td>Check-Out</td><td>4/25/2017</td></tr>\n",
       "\t<tr><th scope=row>111028</th><td>City Hotel</td><td>0</td><td>  0</td><td>2017</td><td>May  </td><td>18</td><td> 5</td><td>0</td><td> 0</td><td>0</td><td>...</td><td>No Deposit</td><td>NULL</td><td>NULL</td><td>0</td><td>Transient      </td><td>  0.00</td><td>0</td><td>0</td><td>Check-Out</td><td>5/5/2017 </td></tr>\n",
       "\t<tr><th scope=row>111043</th><td>City Hotel</td><td>0</td><td> 17</td><td>2017</td><td>April</td><td>17</td><td>27</td><td>2</td><td> 6</td><td>0</td><td>...</td><td>No Deposit</td><td>290 </td><td>NULL</td><td>0</td><td>Transient      </td><td>  0.00</td><td>0</td><td>0</td><td>Check-Out</td><td>5/5/2017 </td></tr>\n",
       "\t<tr><th scope=row>111407</th><td>City Hotel</td><td>0</td><td> 33</td><td>2017</td><td>May  </td><td>19</td><td> 9</td><td>0</td><td> 1</td><td>0</td><td>...</td><td>No Deposit</td><td>87  </td><td>NULL</td><td>0</td><td>Transient      </td><td>200.00</td><td>0</td><td>0</td><td>Check-Out</td><td>5/10/2017</td></tr>\n",
       "\t<tr><th scope=row>111532</th><td>City Hotel</td><td>0</td><td> 35</td><td>2017</td><td>May  </td><td>19</td><td>10</td><td>0</td><td> 2</td><td>0</td><td>...</td><td>No Deposit</td><td>39  </td><td>NULL</td><td>0</td><td>Transient-Party</td><td>  0.00</td><td>0</td><td>0</td><td>Check-Out</td><td>5/12/2017</td></tr>\n",
       "\t<tr><th scope=row>111710</th><td>City Hotel</td><td>0</td><td> 31</td><td>2017</td><td>May  </td><td>20</td><td>14</td><td>0</td><td> 0</td><td>0</td><td>...</td><td>No Deposit</td><td>459 </td><td>NULL</td><td>0</td><td>Transient-Party</td><td>  0.00</td><td>0</td><td>0</td><td>Check-Out</td><td>5/14/2017</td></tr>\n",
       "\t<tr><th scope=row>111711</th><td>City Hotel</td><td>0</td><td>  6</td><td>2017</td><td>May  </td><td>20</td><td>14</td><td>0</td><td> 0</td><td>0</td><td>...</td><td>No Deposit</td><td>NULL</td><td>169 </td><td>0</td><td>Transient-Party</td><td>  0.00</td><td>0</td><td>0</td><td>Check-Out</td><td>5/14/2017</td></tr>\n",
       "\t<tr><th scope=row>111981</th><td>City Hotel</td><td>0</td><td>  0</td><td>2017</td><td>May  </td><td>20</td><td>17</td><td>0</td><td> 1</td><td>0</td><td>...</td><td>No Deposit</td><td>NULL</td><td>NULL</td><td>0</td><td>Transient      </td><td>  0.00</td><td>0</td><td>0</td><td>Check-Out</td><td>5/18/2017</td></tr>\n",
       "\t<tr><th scope=row>112472</th><td>City Hotel</td><td>0</td><td> 75</td><td>2017</td><td>May  </td><td>20</td><td>20</td><td>2</td><td> 2</td><td>0</td><td>...</td><td>No Deposit</td><td>229 </td><td>NULL</td><td>0</td><td>Transient-Party</td><td>  0.00</td><td>0</td><td>1</td><td>Check-Out</td><td>5/24/2017</td></tr>\n",
       "\t<tr><th scope=row>112559</th><td>City Hotel</td><td>0</td><td>  1</td><td>2017</td><td>May  </td><td>21</td><td>23</td><td>0</td><td> 2</td><td>0</td><td>...</td><td>No Deposit</td><td>NULL</td><td>NULL</td><td>0</td><td>Transient      </td><td>  0.00</td><td>1</td><td>0</td><td>Check-Out</td><td>5/25/2017</td></tr>\n",
       "\t<tr><th scope=row>113189</th><td>City Hotel</td><td>0</td><td>  0</td><td>2017</td><td>June </td><td>23</td><td> 4</td><td>0</td><td> 0</td><td>0</td><td>...</td><td>No Deposit</td><td>229 </td><td>NULL</td><td>0</td><td>Transient-Party</td><td>  0.00</td><td>0</td><td>1</td><td>Check-Out</td><td>6/4/2017 </td></tr>\n",
       "\t<tr><th scope=row>114584</th><td>City Hotel</td><td>0</td><td> 26</td><td>2017</td><td>June </td><td>25</td><td>19</td><td>1</td><td> 4</td><td>0</td><td>...</td><td>No Deposit</td><td>9   </td><td>NULL</td><td>0</td><td>Transient      </td><td> 90.00</td><td>0</td><td>1</td><td>Check-Out</td><td>6/24/2017</td></tr>\n",
       "\t<tr><th scope=row>114909</th><td>City Hotel</td><td>0</td><td>  1</td><td>2017</td><td>June </td><td>26</td><td>28</td><td>0</td><td> 0</td><td>0</td><td>...</td><td>No Deposit</td><td>NULL</td><td>153 </td><td>0</td><td>Transient      </td><td>  0.00</td><td>0</td><td>0</td><td>Check-Out</td><td>6/28/2017</td></tr>\n",
       "\t<tr><th scope=row>114912</th><td>City Hotel</td><td>0</td><td>  1</td><td>2017</td><td>June </td><td>26</td><td>28</td><td>0</td><td> 0</td><td>0</td><td>...</td><td>No Deposit</td><td>NULL</td><td>153 </td><td>0</td><td>Transient      </td><td>  0.00</td><td>0</td><td>0</td><td>Check-Out</td><td>6/28/2017</td></tr>\n",
       "\t<tr><th scope=row>115030</th><td>City Hotel</td><td>0</td><td>107</td><td>2017</td><td>June </td><td>26</td><td>27</td><td>0</td><td> 3</td><td>0</td><td>...</td><td>No Deposit</td><td>7   </td><td>NULL</td><td>0</td><td>Transient      </td><td>100.80</td><td>0</td><td>0</td><td>Check-Out</td><td>6/30/2017</td></tr>\n",
       "\t<tr><th scope=row>115092</th><td>City Hotel</td><td>0</td><td>  1</td><td>2017</td><td>June </td><td>26</td><td>30</td><td>0</td><td> 1</td><td>0</td><td>...</td><td>No Deposit</td><td>NULL</td><td>NULL</td><td>0</td><td>Transient      </td><td>  0.00</td><td>1</td><td>1</td><td>Check-Out</td><td>7/1/2017 </td></tr>\n",
       "\t<tr><th scope=row>116252</th><td>City Hotel</td><td>0</td><td> 44</td><td>2017</td><td>July </td><td>28</td><td>15</td><td>1</td><td> 1</td><td>0</td><td>...</td><td>No Deposit</td><td>425 </td><td>NULL</td><td>0</td><td>Transient      </td><td> 73.80</td><td>0</td><td>0</td><td>Check-Out</td><td>7/17/2017</td></tr>\n",
       "\t<tr><th scope=row>116535</th><td>City Hotel</td><td>0</td><td>  2</td><td>2017</td><td>July </td><td>28</td><td>15</td><td>2</td><td> 5</td><td>0</td><td>...</td><td>No Deposit</td><td>9   </td><td>NULL</td><td>0</td><td>Transient-Party</td><td> 22.86</td><td>0</td><td>1</td><td>Check-Out</td><td>7/22/2017</td></tr>\n",
       "\t<tr><th scope=row>117088</th><td>City Hotel</td><td>0</td><td>170</td><td>2017</td><td>July </td><td>30</td><td>27</td><td>0</td><td> 2</td><td>0</td><td>...</td><td>No Deposit</td><td>52  </td><td>NULL</td><td>0</td><td>Transient      </td><td>  0.00</td><td>0</td><td>0</td><td>Check-Out</td><td>7/29/2017</td></tr>\n",
       "</tbody>\n",
       "</table>\n"
      ],
      "text/latex": [
       "A data.frame: 180 × 32\n",
       "\\begin{tabular}{r|lllllllllllllllllllll}\n",
       "  & hotel & is\\_canceled & lead\\_time & arrival\\_date\\_year & arrival\\_date\\_month & arrival\\_date\\_week\\_number & arrival\\_date\\_day\\_of\\_month & stays\\_in\\_weekend\\_nights & stays\\_in\\_week\\_nights & adults & ... & deposit\\_type & agent & company & days\\_in\\_waiting\\_list & customer\\_type & adr & required\\_car\\_parking\\_spaces & total\\_of\\_special\\_requests & reservation\\_status & reservation\\_status\\_date\\\\\n",
       "  & <chr> & <int> & <int> & <int> & <chr> & <int> & <int> & <int> & <int> & <int> & ... & <chr> & <chr> & <chr> & <int> & <chr> & <dbl> & <int> & <int> & <chr> & <chr>\\\\\n",
       "\\hline\n",
       "\t2225 & Resort Hotel & 0 &   1 & 2015 & October   & 41 &  6 & 0 &  3 & 0 & ... & No Deposit & NULL & 174  &   0 & Transient-Party &  0.00 & 0 & 0 & Check-Out & 10/6/2015 \\\\\n",
       "\t2410 & Resort Hotel & 0 &   0 & 2015 & October   & 42 & 12 & 0 &  0 & 0 & ... & No Deposit & NULL & 174  &   0 & Transient       &  0.00 & 0 & 0 & Check-Out & 10/12/2015\\\\\n",
       "\t3182 & Resort Hotel & 0 &  36 & 2015 & November  & 47 & 20 & 1 &  2 & 0 & ... & No Deposit & 38   & NULL &   0 & Transient-Party &  0.00 & 0 & 0 & Check-Out & 11/23/2015\\\\\n",
       "\t3685 & Resort Hotel & 0 & 165 & 2015 & December  & 53 & 30 & 1 &  4 & 0 & ... & No Deposit & 308  & NULL & 122 & Transient-Party &  0.00 & 0 & 0 & Check-Out & 1/4/2016  \\\\\n",
       "\t3709 & Resort Hotel & 0 & 165 & 2015 & December  & 53 & 30 & 2 &  4 & 0 & ... & No Deposit & 308  & NULL & 122 & Transient-Party &  0.00 & 0 & 0 & Check-Out & 1/5/2016  \\\\\n",
       "\t4128 & Resort Hotel & 1 &   0 & 2016 & February  &  8 & 15 & 0 &  0 & 0 & ... & No Deposit & NULL & 383  &   0 & Transient       &  0.00 & 0 & 0 & Canceled  & 2/15/2016 \\\\\n",
       "\t9377 & Resort Hotel & 1 &   0 & 2016 & November  & 48 & 21 & 0 &  0 & 0 & ... & No Deposit & NULL & 386  &   0 & Group           &  0.00 & 0 & 0 & Canceled  & 11/21/2016\\\\\n",
       "\t31766 & Resort Hotel & 0 &  31 & 2016 & December  & 53 & 27 & 2 &  8 & 0 & ... & No Deposit & NULL & NULL &   0 & Transient       & 28.00 & 1 & 0 & Check-Out & 1/6/2017  \\\\\n",
       "\t32030 & Resort Hotel & 0 &   4 & 2017 & January   &  2 & 14 & 0 &  1 & 0 & ... & No Deposit & 168  & NULL &   0 & Transient-Party &  0.00 & 0 & 0 & Check-Out & 1/15/2017 \\\\\n",
       "\t32828 & Resort Hotel & 0 &  46 & 2017 & January   &  4 & 25 & 3 &  9 & 0 & ... & No Deposit & NULL & NULL &   0 & Transient       &  0.00 & 0 & 0 & Check-Out & 2/6/2017  \\\\\n",
       "\t34850 & Resort Hotel & 0 &  15 & 2017 & March     & 13 & 30 & 2 &  6 & 0 & ... & No Deposit & NULL & 523  &   0 & Transient-Party &  0.00 & 0 & 0 & Check-Out & 4/7/2017  \\\\\n",
       "\t34856 & Resort Hotel & 0 &  15 & 2017 & March     & 13 & 30 & 2 &  6 & 0 & ... & No Deposit & NULL & 523  &   0 & Transient-Party &  0.00 & 0 & 0 & Check-Out & 4/7/2017  \\\\\n",
       "\t37460 & Resort Hotel & 0 &   1 & 2017 & June      & 25 & 18 & 2 &  5 & 0 & ... & No Deposit & NULL & NULL &   0 & Transient       &  0.00 & 0 & 0 & Check-Out & 6/25/2017 \\\\\n",
       "\t40393 & City Hotel   & 0 & 132 & 2015 & July      & 30 & 23 & 2 &  5 & 0 & ... & No Deposit & 1    & NULL &   0 & Transient-Party &  0.00 & 0 & 0 & Check-Out & 7/30/2015 \\\\\n",
       "\t40923 & City Hotel   & 0 &   0 & 2015 & August    & 33 &  9 & 2 &  0 & 0 & ... & No Deposit & 9    & NULL &   0 & Contract        &  0.00 & 0 & 0 & Check-Out & 8/11/2015 \\\\\n",
       "\t41021 & City Hotel   & 0 &   0 & 2015 & August    & 33 & 10 & 9 & 20 & 0 & ... & No Deposit & NULL & 47   &   0 & Transient       &  0.00 & 0 & 0 & Check-Out & 9/8/2015  \\\\\n",
       "\t41057 & City Hotel   & 0 &   0 & 2015 & August    & 33 & 11 & 0 &  4 & 0 & ... & No Deposit & NULL & 49   &   0 & Transient-Party &  0.00 & 0 & 1 & Check-Out & 8/15/2015 \\\\\n",
       "\t42453 & City Hotel   & 1 &   1 & 2015 & September & 37 &  6 & 2 &  0 & 0 & ... & No Deposit & 1    & NULL &   0 & Transient-Party &  0.00 & 0 & 0 & Canceled  & 9/5/2015  \\\\\n",
       "\t42592 & City Hotel   & 0 &   0 & 2015 & September & 37 &  7 & 1 &  4 & 0 & ... & No Deposit & 11   & NULL &   0 & Transient       &  0.00 & 0 & 1 & Check-Out & 9/12/2015 \\\\\n",
       "\t42872 & City Hotel   & 0 &   0 & 2015 & September & 37 & 11 & 0 &  2 & 0 & ... & No Deposit & NULL & NULL &   0 & Transient       &  0.00 & 0 & 0 & Check-Out & 9/13/2015 \\\\\n",
       "\t42935 & City Hotel   & 0 &   4 & 2015 & September & 37 & 11 & 0 &  1 & 0 & ... & No Deposit & NULL & NULL &   0 & Transient       &  0.00 & 0 & 0 & Check-Out & 9/12/2015 \\\\\n",
       "\t47167 & City Hotel   & 1 &   1 & 2016 & February  &  7 & 11 & 0 &  3 & 0 & ... & No Deposit & 9    & NULL &   0 & Transient       &  0.00 & 0 & 1 & No-Show   & 2/11/2016 \\\\\n",
       "\t47181 & City Hotel   & 0 &   0 & 2016 & February  &  7 & 12 & 0 &  1 & 0 & ... & No Deposit & NULL & 45   &   0 & Transient       &  0.00 & 0 & 2 & Check-Out & 2/13/2016 \\\\\n",
       "\t47445 & City Hotel   & 0 &  48 & 2016 & February  &  9 & 21 & 2 &  4 & 0 & ... & No Deposit & 14   & NULL &   0 & Transient-Party & 56.27 & 0 & 0 & Check-Out & 2/27/2016 \\\\\n",
       "\t49265 & City Hotel   & 1 & 173 & 2016 & April     & 15 &  8 & 2 &  3 & 0 & ... & No Deposit & 21   & NULL &   0 & Transient-Party &  0.00 & 0 & 0 & Canceled  & 3/29/2016 \\\\\n",
       "\t50702 & City Hotel   & 0 & 122 & 2016 & May       & 19 &  5 & 2 &  4 & 0 & ... & No Deposit & 11   & NULL &   0 & Transient       & 50.87 & 0 & 0 & Check-Out & 5/11/2016 \\\\\n",
       "\t50703 & City Hotel   & 0 & 122 & 2016 & May       & 19 &  5 & 2 &  4 & 0 & ... & No Deposit & 11   & NULL &   0 & Transient       & 50.87 & 0 & 0 & Check-Out & 5/11/2016 \\\\\n",
       "\t54026 & City Hotel   & 0 & 198 & 2016 & July      & 28 &  6 & 0 &  4 & 0 & ... & No Deposit & 9    & NULL &   0 & Transient       &  0.00 & 0 & 1 & Check-Out & 7/10/2016 \\\\\n",
       "\t54038 & City Hotel   & 1 & 244 & 2016 & July      & 28 &  6 & 2 &  4 & 0 & ... & No Deposit & 19   & NULL &   0 & Transient       &  0.00 & 0 & 0 & Canceled  & 2/23/2016 \\\\\n",
       "\t54048 & City Hotel   & 1 & 244 & 2016 & July      & 28 &  6 & 2 &  4 & 0 & ... & No Deposit & 19   & NULL &   0 & Transient       &  0.00 & 0 & 0 & Canceled  & 2/23/2016 \\\\\n",
       "\t... & ... & ... & ... & ... & ... & ... & ... & ... & ... & ... &  & ... & ... & ... & ... & ... & ... & ... & ... & ... & ...\\\\\n",
       "\t107544 & City Hotel & 0 &   0 & 2017 & March & 11 & 15 & 0 &  0 & 0 & ... & No Deposit & 132  & NULL & 0 & Transient       &   0.00 & 0 & 0 & Check-Out & 3/15/2017\\\\\n",
       "\t107595 & City Hotel & 0 &   0 & 2017 & March &  9 &  4 & 4 &  7 & 0 & ... & No Deposit & 9    & NULL & 0 & Transient       &   8.00 & 0 & 0 & Check-Out & 3/15/2017\\\\\n",
       "\t107677 & City Hotel & 0 &   0 & 2017 & March & 11 & 17 & 0 &  0 & 0 & ... & No Deposit & 9    & NULL & 0 & Transient       &   0.00 & 0 & 0 & Check-Out & 3/17/2017\\\\\n",
       "\t107978 & City Hotel & 0 &   0 & 2017 & March & 12 & 21 & 0 &  0 & 0 & ... & No Deposit & 9    & NULL & 0 & Transient       &   0.00 & 1 & 1 & Check-Out & 3/21/2017\\\\\n",
       "\t107993 & City Hotel & 0 &   0 & 2017 & March & 10 &  7 & 4 & 10 & 0 & ... & No Deposit & NULL & NULL & 0 & Transient       &   0.00 & 0 & 1 & Check-Out & 3/21/2017\\\\\n",
       "\t108234 & City Hotel & 0 &   0 & 2017 & March & 12 & 24 & 0 &  0 & 0 & ... & No Deposit & 155  & NULL & 0 & Transient       &   0.00 & 0 & 1 & Check-Out & 3/24/2017\\\\\n",
       "\t108235 & City Hotel & 0 &   0 & 2017 & March & 12 & 24 & 0 &  0 & 0 & ... & No Deposit & 86   & NULL & 0 & Transient       &   0.00 & 0 & 0 & Check-Out & 3/24/2017\\\\\n",
       "\t108236 & City Hotel & 0 &   0 & 2017 & March & 12 & 24 & 0 &  0 & 0 & ... & No Deposit & 86   & NULL & 0 & Transient       &   0.00 & 0 & 0 & Check-Out & 3/24/2017\\\\\n",
       "\t109039 & City Hotel & 0 &   2 & 2017 & March & 10 &  9 & 8 & 19 & 0 & ... & No Deposit & NULL & NULL & 0 & Transient       &   0.00 & 0 & 0 & Check-Out & 4/5/2017 \\\\\n",
       "\t109946 & City Hotel & 0 &  10 & 2017 & April & 15 & 14 & 2 &  3 & 0 & ... & No Deposit & 14   & NULL & 0 & Transient       &   0.00 & 0 & 1 & Check-Out & 4/19/2017\\\\\n",
       "\t110281 & City Hotel & 1 & 132 & 2017 & April & 17 & 25 & 0 &  0 & 0 & ... & No Deposit & 9    & NULL & 0 & Transient       &   0.00 & 0 & 3 & Canceled  & 4/25/2017\\\\\n",
       "\t110302 & City Hotel & 0 &   7 & 2017 & April & 16 & 20 & 2 &  3 & 0 & ... & No Deposit & NULL & 460  & 0 & Transient       &   0.00 & 0 & 1 & Check-Out & 4/25/2017\\\\\n",
       "\t111028 & City Hotel & 0 &   0 & 2017 & May   & 18 &  5 & 0 &  0 & 0 & ... & No Deposit & NULL & NULL & 0 & Transient       &   0.00 & 0 & 0 & Check-Out & 5/5/2017 \\\\\n",
       "\t111043 & City Hotel & 0 &  17 & 2017 & April & 17 & 27 & 2 &  6 & 0 & ... & No Deposit & 290  & NULL & 0 & Transient       &   0.00 & 0 & 0 & Check-Out & 5/5/2017 \\\\\n",
       "\t111407 & City Hotel & 0 &  33 & 2017 & May   & 19 &  9 & 0 &  1 & 0 & ... & No Deposit & 87   & NULL & 0 & Transient       & 200.00 & 0 & 0 & Check-Out & 5/10/2017\\\\\n",
       "\t111532 & City Hotel & 0 &  35 & 2017 & May   & 19 & 10 & 0 &  2 & 0 & ... & No Deposit & 39   & NULL & 0 & Transient-Party &   0.00 & 0 & 0 & Check-Out & 5/12/2017\\\\\n",
       "\t111710 & City Hotel & 0 &  31 & 2017 & May   & 20 & 14 & 0 &  0 & 0 & ... & No Deposit & 459  & NULL & 0 & Transient-Party &   0.00 & 0 & 0 & Check-Out & 5/14/2017\\\\\n",
       "\t111711 & City Hotel & 0 &   6 & 2017 & May   & 20 & 14 & 0 &  0 & 0 & ... & No Deposit & NULL & 169  & 0 & Transient-Party &   0.00 & 0 & 0 & Check-Out & 5/14/2017\\\\\n",
       "\t111981 & City Hotel & 0 &   0 & 2017 & May   & 20 & 17 & 0 &  1 & 0 & ... & No Deposit & NULL & NULL & 0 & Transient       &   0.00 & 0 & 0 & Check-Out & 5/18/2017\\\\\n",
       "\t112472 & City Hotel & 0 &  75 & 2017 & May   & 20 & 20 & 2 &  2 & 0 & ... & No Deposit & 229  & NULL & 0 & Transient-Party &   0.00 & 0 & 1 & Check-Out & 5/24/2017\\\\\n",
       "\t112559 & City Hotel & 0 &   1 & 2017 & May   & 21 & 23 & 0 &  2 & 0 & ... & No Deposit & NULL & NULL & 0 & Transient       &   0.00 & 1 & 0 & Check-Out & 5/25/2017\\\\\n",
       "\t113189 & City Hotel & 0 &   0 & 2017 & June  & 23 &  4 & 0 &  0 & 0 & ... & No Deposit & 229  & NULL & 0 & Transient-Party &   0.00 & 0 & 1 & Check-Out & 6/4/2017 \\\\\n",
       "\t114584 & City Hotel & 0 &  26 & 2017 & June  & 25 & 19 & 1 &  4 & 0 & ... & No Deposit & 9    & NULL & 0 & Transient       &  90.00 & 0 & 1 & Check-Out & 6/24/2017\\\\\n",
       "\t114909 & City Hotel & 0 &   1 & 2017 & June  & 26 & 28 & 0 &  0 & 0 & ... & No Deposit & NULL & 153  & 0 & Transient       &   0.00 & 0 & 0 & Check-Out & 6/28/2017\\\\\n",
       "\t114912 & City Hotel & 0 &   1 & 2017 & June  & 26 & 28 & 0 &  0 & 0 & ... & No Deposit & NULL & 153  & 0 & Transient       &   0.00 & 0 & 0 & Check-Out & 6/28/2017\\\\\n",
       "\t115030 & City Hotel & 0 & 107 & 2017 & June  & 26 & 27 & 0 &  3 & 0 & ... & No Deposit & 7    & NULL & 0 & Transient       & 100.80 & 0 & 0 & Check-Out & 6/30/2017\\\\\n",
       "\t115092 & City Hotel & 0 &   1 & 2017 & June  & 26 & 30 & 0 &  1 & 0 & ... & No Deposit & NULL & NULL & 0 & Transient       &   0.00 & 1 & 1 & Check-Out & 7/1/2017 \\\\\n",
       "\t116252 & City Hotel & 0 &  44 & 2017 & July  & 28 & 15 & 1 &  1 & 0 & ... & No Deposit & 425  & NULL & 0 & Transient       &  73.80 & 0 & 0 & Check-Out & 7/17/2017\\\\\n",
       "\t116535 & City Hotel & 0 &   2 & 2017 & July  & 28 & 15 & 2 &  5 & 0 & ... & No Deposit & 9    & NULL & 0 & Transient-Party &  22.86 & 0 & 1 & Check-Out & 7/22/2017\\\\\n",
       "\t117088 & City Hotel & 0 & 170 & 2017 & July  & 30 & 27 & 0 &  2 & 0 & ... & No Deposit & 52   & NULL & 0 & Transient       &   0.00 & 0 & 0 & Check-Out & 7/29/2017\\\\\n",
       "\\end{tabular}\n"
      ],
      "text/markdown": [
       "\n",
       "A data.frame: 180 × 32\n",
       "\n",
       "| <!--/--> | hotel &lt;chr&gt; | is_canceled &lt;int&gt; | lead_time &lt;int&gt; | arrival_date_year &lt;int&gt; | arrival_date_month &lt;chr&gt; | arrival_date_week_number &lt;int&gt; | arrival_date_day_of_month &lt;int&gt; | stays_in_weekend_nights &lt;int&gt; | stays_in_week_nights &lt;int&gt; | adults &lt;int&gt; | ... ... | deposit_type &lt;chr&gt; | agent &lt;chr&gt; | company &lt;chr&gt; | days_in_waiting_list &lt;int&gt; | customer_type &lt;chr&gt; | adr &lt;dbl&gt; | required_car_parking_spaces &lt;int&gt; | total_of_special_requests &lt;int&gt; | reservation_status &lt;chr&gt; | reservation_status_date &lt;chr&gt; |\n",
       "|---|---|---|---|---|---|---|---|---|---|---|---|---|---|---|---|---|---|---|---|---|---|\n",
       "| 2225 | Resort Hotel | 0 |   1 | 2015 | October   | 41 |  6 | 0 |  3 | 0 | ... | No Deposit | NULL | 174  |   0 | Transient-Party |  0.00 | 0 | 0 | Check-Out | 10/6/2015  |\n",
       "| 2410 | Resort Hotel | 0 |   0 | 2015 | October   | 42 | 12 | 0 |  0 | 0 | ... | No Deposit | NULL | 174  |   0 | Transient       |  0.00 | 0 | 0 | Check-Out | 10/12/2015 |\n",
       "| 3182 | Resort Hotel | 0 |  36 | 2015 | November  | 47 | 20 | 1 |  2 | 0 | ... | No Deposit | 38   | NULL |   0 | Transient-Party |  0.00 | 0 | 0 | Check-Out | 11/23/2015 |\n",
       "| 3685 | Resort Hotel | 0 | 165 | 2015 | December  | 53 | 30 | 1 |  4 | 0 | ... | No Deposit | 308  | NULL | 122 | Transient-Party |  0.00 | 0 | 0 | Check-Out | 1/4/2016   |\n",
       "| 3709 | Resort Hotel | 0 | 165 | 2015 | December  | 53 | 30 | 2 |  4 | 0 | ... | No Deposit | 308  | NULL | 122 | Transient-Party |  0.00 | 0 | 0 | Check-Out | 1/5/2016   |\n",
       "| 4128 | Resort Hotel | 1 |   0 | 2016 | February  |  8 | 15 | 0 |  0 | 0 | ... | No Deposit | NULL | 383  |   0 | Transient       |  0.00 | 0 | 0 | Canceled  | 2/15/2016  |\n",
       "| 9377 | Resort Hotel | 1 |   0 | 2016 | November  | 48 | 21 | 0 |  0 | 0 | ... | No Deposit | NULL | 386  |   0 | Group           |  0.00 | 0 | 0 | Canceled  | 11/21/2016 |\n",
       "| 31766 | Resort Hotel | 0 |  31 | 2016 | December  | 53 | 27 | 2 |  8 | 0 | ... | No Deposit | NULL | NULL |   0 | Transient       | 28.00 | 1 | 0 | Check-Out | 1/6/2017   |\n",
       "| 32030 | Resort Hotel | 0 |   4 | 2017 | January   |  2 | 14 | 0 |  1 | 0 | ... | No Deposit | 168  | NULL |   0 | Transient-Party |  0.00 | 0 | 0 | Check-Out | 1/15/2017  |\n",
       "| 32828 | Resort Hotel | 0 |  46 | 2017 | January   |  4 | 25 | 3 |  9 | 0 | ... | No Deposit | NULL | NULL |   0 | Transient       |  0.00 | 0 | 0 | Check-Out | 2/6/2017   |\n",
       "| 34850 | Resort Hotel | 0 |  15 | 2017 | March     | 13 | 30 | 2 |  6 | 0 | ... | No Deposit | NULL | 523  |   0 | Transient-Party |  0.00 | 0 | 0 | Check-Out | 4/7/2017   |\n",
       "| 34856 | Resort Hotel | 0 |  15 | 2017 | March     | 13 | 30 | 2 |  6 | 0 | ... | No Deposit | NULL | 523  |   0 | Transient-Party |  0.00 | 0 | 0 | Check-Out | 4/7/2017   |\n",
       "| 37460 | Resort Hotel | 0 |   1 | 2017 | June      | 25 | 18 | 2 |  5 | 0 | ... | No Deposit | NULL | NULL |   0 | Transient       |  0.00 | 0 | 0 | Check-Out | 6/25/2017  |\n",
       "| 40393 | City Hotel   | 0 | 132 | 2015 | July      | 30 | 23 | 2 |  5 | 0 | ... | No Deposit | 1    | NULL |   0 | Transient-Party |  0.00 | 0 | 0 | Check-Out | 7/30/2015  |\n",
       "| 40923 | City Hotel   | 0 |   0 | 2015 | August    | 33 |  9 | 2 |  0 | 0 | ... | No Deposit | 9    | NULL |   0 | Contract        |  0.00 | 0 | 0 | Check-Out | 8/11/2015  |\n",
       "| 41021 | City Hotel   | 0 |   0 | 2015 | August    | 33 | 10 | 9 | 20 | 0 | ... | No Deposit | NULL | 47   |   0 | Transient       |  0.00 | 0 | 0 | Check-Out | 9/8/2015   |\n",
       "| 41057 | City Hotel   | 0 |   0 | 2015 | August    | 33 | 11 | 0 |  4 | 0 | ... | No Deposit | NULL | 49   |   0 | Transient-Party |  0.00 | 0 | 1 | Check-Out | 8/15/2015  |\n",
       "| 42453 | City Hotel   | 1 |   1 | 2015 | September | 37 |  6 | 2 |  0 | 0 | ... | No Deposit | 1    | NULL |   0 | Transient-Party |  0.00 | 0 | 0 | Canceled  | 9/5/2015   |\n",
       "| 42592 | City Hotel   | 0 |   0 | 2015 | September | 37 |  7 | 1 |  4 | 0 | ... | No Deposit | 11   | NULL |   0 | Transient       |  0.00 | 0 | 1 | Check-Out | 9/12/2015  |\n",
       "| 42872 | City Hotel   | 0 |   0 | 2015 | September | 37 | 11 | 0 |  2 | 0 | ... | No Deposit | NULL | NULL |   0 | Transient       |  0.00 | 0 | 0 | Check-Out | 9/13/2015  |\n",
       "| 42935 | City Hotel   | 0 |   4 | 2015 | September | 37 | 11 | 0 |  1 | 0 | ... | No Deposit | NULL | NULL |   0 | Transient       |  0.00 | 0 | 0 | Check-Out | 9/12/2015  |\n",
       "| 47167 | City Hotel   | 1 |   1 | 2016 | February  |  7 | 11 | 0 |  3 | 0 | ... | No Deposit | 9    | NULL |   0 | Transient       |  0.00 | 0 | 1 | No-Show   | 2/11/2016  |\n",
       "| 47181 | City Hotel   | 0 |   0 | 2016 | February  |  7 | 12 | 0 |  1 | 0 | ... | No Deposit | NULL | 45   |   0 | Transient       |  0.00 | 0 | 2 | Check-Out | 2/13/2016  |\n",
       "| 47445 | City Hotel   | 0 |  48 | 2016 | February  |  9 | 21 | 2 |  4 | 0 | ... | No Deposit | 14   | NULL |   0 | Transient-Party | 56.27 | 0 | 0 | Check-Out | 2/27/2016  |\n",
       "| 49265 | City Hotel   | 1 | 173 | 2016 | April     | 15 |  8 | 2 |  3 | 0 | ... | No Deposit | 21   | NULL |   0 | Transient-Party |  0.00 | 0 | 0 | Canceled  | 3/29/2016  |\n",
       "| 50702 | City Hotel   | 0 | 122 | 2016 | May       | 19 |  5 | 2 |  4 | 0 | ... | No Deposit | 11   | NULL |   0 | Transient       | 50.87 | 0 | 0 | Check-Out | 5/11/2016  |\n",
       "| 50703 | City Hotel   | 0 | 122 | 2016 | May       | 19 |  5 | 2 |  4 | 0 | ... | No Deposit | 11   | NULL |   0 | Transient       | 50.87 | 0 | 0 | Check-Out | 5/11/2016  |\n",
       "| 54026 | City Hotel   | 0 | 198 | 2016 | July      | 28 |  6 | 0 |  4 | 0 | ... | No Deposit | 9    | NULL |   0 | Transient       |  0.00 | 0 | 1 | Check-Out | 7/10/2016  |\n",
       "| 54038 | City Hotel   | 1 | 244 | 2016 | July      | 28 |  6 | 2 |  4 | 0 | ... | No Deposit | 19   | NULL |   0 | Transient       |  0.00 | 0 | 0 | Canceled  | 2/23/2016  |\n",
       "| 54048 | City Hotel   | 1 | 244 | 2016 | July      | 28 |  6 | 2 |  4 | 0 | ... | No Deposit | 19   | NULL |   0 | Transient       |  0.00 | 0 | 0 | Canceled  | 2/23/2016  |\n",
       "| ... | ... | ... | ... | ... | ... | ... | ... | ... | ... | ... | <!----> | ... | ... | ... | ... | ... | ... | ... | ... | ... | ... |\n",
       "| 107544 | City Hotel | 0 |   0 | 2017 | March | 11 | 15 | 0 |  0 | 0 | ... | No Deposit | 132  | NULL | 0 | Transient       |   0.00 | 0 | 0 | Check-Out | 3/15/2017 |\n",
       "| 107595 | City Hotel | 0 |   0 | 2017 | March |  9 |  4 | 4 |  7 | 0 | ... | No Deposit | 9    | NULL | 0 | Transient       |   8.00 | 0 | 0 | Check-Out | 3/15/2017 |\n",
       "| 107677 | City Hotel | 0 |   0 | 2017 | March | 11 | 17 | 0 |  0 | 0 | ... | No Deposit | 9    | NULL | 0 | Transient       |   0.00 | 0 | 0 | Check-Out | 3/17/2017 |\n",
       "| 107978 | City Hotel | 0 |   0 | 2017 | March | 12 | 21 | 0 |  0 | 0 | ... | No Deposit | 9    | NULL | 0 | Transient       |   0.00 | 1 | 1 | Check-Out | 3/21/2017 |\n",
       "| 107993 | City Hotel | 0 |   0 | 2017 | March | 10 |  7 | 4 | 10 | 0 | ... | No Deposit | NULL | NULL | 0 | Transient       |   0.00 | 0 | 1 | Check-Out | 3/21/2017 |\n",
       "| 108234 | City Hotel | 0 |   0 | 2017 | March | 12 | 24 | 0 |  0 | 0 | ... | No Deposit | 155  | NULL | 0 | Transient       |   0.00 | 0 | 1 | Check-Out | 3/24/2017 |\n",
       "| 108235 | City Hotel | 0 |   0 | 2017 | March | 12 | 24 | 0 |  0 | 0 | ... | No Deposit | 86   | NULL | 0 | Transient       |   0.00 | 0 | 0 | Check-Out | 3/24/2017 |\n",
       "| 108236 | City Hotel | 0 |   0 | 2017 | March | 12 | 24 | 0 |  0 | 0 | ... | No Deposit | 86   | NULL | 0 | Transient       |   0.00 | 0 | 0 | Check-Out | 3/24/2017 |\n",
       "| 109039 | City Hotel | 0 |   2 | 2017 | March | 10 |  9 | 8 | 19 | 0 | ... | No Deposit | NULL | NULL | 0 | Transient       |   0.00 | 0 | 0 | Check-Out | 4/5/2017  |\n",
       "| 109946 | City Hotel | 0 |  10 | 2017 | April | 15 | 14 | 2 |  3 | 0 | ... | No Deposit | 14   | NULL | 0 | Transient       |   0.00 | 0 | 1 | Check-Out | 4/19/2017 |\n",
       "| 110281 | City Hotel | 1 | 132 | 2017 | April | 17 | 25 | 0 |  0 | 0 | ... | No Deposit | 9    | NULL | 0 | Transient       |   0.00 | 0 | 3 | Canceled  | 4/25/2017 |\n",
       "| 110302 | City Hotel | 0 |   7 | 2017 | April | 16 | 20 | 2 |  3 | 0 | ... | No Deposit | NULL | 460  | 0 | Transient       |   0.00 | 0 | 1 | Check-Out | 4/25/2017 |\n",
       "| 111028 | City Hotel | 0 |   0 | 2017 | May   | 18 |  5 | 0 |  0 | 0 | ... | No Deposit | NULL | NULL | 0 | Transient       |   0.00 | 0 | 0 | Check-Out | 5/5/2017  |\n",
       "| 111043 | City Hotel | 0 |  17 | 2017 | April | 17 | 27 | 2 |  6 | 0 | ... | No Deposit | 290  | NULL | 0 | Transient       |   0.00 | 0 | 0 | Check-Out | 5/5/2017  |\n",
       "| 111407 | City Hotel | 0 |  33 | 2017 | May   | 19 |  9 | 0 |  1 | 0 | ... | No Deposit | 87   | NULL | 0 | Transient       | 200.00 | 0 | 0 | Check-Out | 5/10/2017 |\n",
       "| 111532 | City Hotel | 0 |  35 | 2017 | May   | 19 | 10 | 0 |  2 | 0 | ... | No Deposit | 39   | NULL | 0 | Transient-Party |   0.00 | 0 | 0 | Check-Out | 5/12/2017 |\n",
       "| 111710 | City Hotel | 0 |  31 | 2017 | May   | 20 | 14 | 0 |  0 | 0 | ... | No Deposit | 459  | NULL | 0 | Transient-Party |   0.00 | 0 | 0 | Check-Out | 5/14/2017 |\n",
       "| 111711 | City Hotel | 0 |   6 | 2017 | May   | 20 | 14 | 0 |  0 | 0 | ... | No Deposit | NULL | 169  | 0 | Transient-Party |   0.00 | 0 | 0 | Check-Out | 5/14/2017 |\n",
       "| 111981 | City Hotel | 0 |   0 | 2017 | May   | 20 | 17 | 0 |  1 | 0 | ... | No Deposit | NULL | NULL | 0 | Transient       |   0.00 | 0 | 0 | Check-Out | 5/18/2017 |\n",
       "| 112472 | City Hotel | 0 |  75 | 2017 | May   | 20 | 20 | 2 |  2 | 0 | ... | No Deposit | 229  | NULL | 0 | Transient-Party |   0.00 | 0 | 1 | Check-Out | 5/24/2017 |\n",
       "| 112559 | City Hotel | 0 |   1 | 2017 | May   | 21 | 23 | 0 |  2 | 0 | ... | No Deposit | NULL | NULL | 0 | Transient       |   0.00 | 1 | 0 | Check-Out | 5/25/2017 |\n",
       "| 113189 | City Hotel | 0 |   0 | 2017 | June  | 23 |  4 | 0 |  0 | 0 | ... | No Deposit | 229  | NULL | 0 | Transient-Party |   0.00 | 0 | 1 | Check-Out | 6/4/2017  |\n",
       "| 114584 | City Hotel | 0 |  26 | 2017 | June  | 25 | 19 | 1 |  4 | 0 | ... | No Deposit | 9    | NULL | 0 | Transient       |  90.00 | 0 | 1 | Check-Out | 6/24/2017 |\n",
       "| 114909 | City Hotel | 0 |   1 | 2017 | June  | 26 | 28 | 0 |  0 | 0 | ... | No Deposit | NULL | 153  | 0 | Transient       |   0.00 | 0 | 0 | Check-Out | 6/28/2017 |\n",
       "| 114912 | City Hotel | 0 |   1 | 2017 | June  | 26 | 28 | 0 |  0 | 0 | ... | No Deposit | NULL | 153  | 0 | Transient       |   0.00 | 0 | 0 | Check-Out | 6/28/2017 |\n",
       "| 115030 | City Hotel | 0 | 107 | 2017 | June  | 26 | 27 | 0 |  3 | 0 | ... | No Deposit | 7    | NULL | 0 | Transient       | 100.80 | 0 | 0 | Check-Out | 6/30/2017 |\n",
       "| 115092 | City Hotel | 0 |   1 | 2017 | June  | 26 | 30 | 0 |  1 | 0 | ... | No Deposit | NULL | NULL | 0 | Transient       |   0.00 | 1 | 1 | Check-Out | 7/1/2017  |\n",
       "| 116252 | City Hotel | 0 |  44 | 2017 | July  | 28 | 15 | 1 |  1 | 0 | ... | No Deposit | 425  | NULL | 0 | Transient       |  73.80 | 0 | 0 | Check-Out | 7/17/2017 |\n",
       "| 116535 | City Hotel | 0 |   2 | 2017 | July  | 28 | 15 | 2 |  5 | 0 | ... | No Deposit | 9    | NULL | 0 | Transient-Party |  22.86 | 0 | 1 | Check-Out | 7/22/2017 |\n",
       "| 117088 | City Hotel | 0 | 170 | 2017 | July  | 30 | 27 | 0 |  2 | 0 | ... | No Deposit | 52   | NULL | 0 | Transient       |   0.00 | 0 | 0 | Check-Out | 7/29/2017 |\n",
       "\n"
      ],
      "text/plain": [
       "       hotel        is_canceled lead_time arrival_date_year arrival_date_month\n",
       "2225   Resort Hotel 0             1       2015              October           \n",
       "2410   Resort Hotel 0             0       2015              October           \n",
       "3182   Resort Hotel 0            36       2015              November          \n",
       "3685   Resort Hotel 0           165       2015              December          \n",
       "3709   Resort Hotel 0           165       2015              December          \n",
       "4128   Resort Hotel 1             0       2016              February          \n",
       "9377   Resort Hotel 1             0       2016              November          \n",
       "31766  Resort Hotel 0            31       2016              December          \n",
       "32030  Resort Hotel 0             4       2017              January           \n",
       "32828  Resort Hotel 0            46       2017              January           \n",
       "34850  Resort Hotel 0            15       2017              March             \n",
       "34856  Resort Hotel 0            15       2017              March             \n",
       "37460  Resort Hotel 0             1       2017              June              \n",
       "40393  City Hotel   0           132       2015              July              \n",
       "40923  City Hotel   0             0       2015              August            \n",
       "41021  City Hotel   0             0       2015              August            \n",
       "41057  City Hotel   0             0       2015              August            \n",
       "42453  City Hotel   1             1       2015              September         \n",
       "42592  City Hotel   0             0       2015              September         \n",
       "42872  City Hotel   0             0       2015              September         \n",
       "42935  City Hotel   0             4       2015              September         \n",
       "47167  City Hotel   1             1       2016              February          \n",
       "47181  City Hotel   0             0       2016              February          \n",
       "47445  City Hotel   0            48       2016              February          \n",
       "49265  City Hotel   1           173       2016              April             \n",
       "50702  City Hotel   0           122       2016              May               \n",
       "50703  City Hotel   0           122       2016              May               \n",
       "54026  City Hotel   0           198       2016              July              \n",
       "54038  City Hotel   1           244       2016              July              \n",
       "54048  City Hotel   1           244       2016              July              \n",
       "...    ...          ...         ...       ...               ...               \n",
       "107544 City Hotel   0             0       2017              March             \n",
       "107595 City Hotel   0             0       2017              March             \n",
       "107677 City Hotel   0             0       2017              March             \n",
       "107978 City Hotel   0             0       2017              March             \n",
       "107993 City Hotel   0             0       2017              March             \n",
       "108234 City Hotel   0             0       2017              March             \n",
       "108235 City Hotel   0             0       2017              March             \n",
       "108236 City Hotel   0             0       2017              March             \n",
       "109039 City Hotel   0             2       2017              March             \n",
       "109946 City Hotel   0            10       2017              April             \n",
       "110281 City Hotel   1           132       2017              April             \n",
       "110302 City Hotel   0             7       2017              April             \n",
       "111028 City Hotel   0             0       2017              May               \n",
       "111043 City Hotel   0            17       2017              April             \n",
       "111407 City Hotel   0            33       2017              May               \n",
       "111532 City Hotel   0            35       2017              May               \n",
       "111710 City Hotel   0            31       2017              May               \n",
       "111711 City Hotel   0             6       2017              May               \n",
       "111981 City Hotel   0             0       2017              May               \n",
       "112472 City Hotel   0            75       2017              May               \n",
       "112559 City Hotel   0             1       2017              May               \n",
       "113189 City Hotel   0             0       2017              June              \n",
       "114584 City Hotel   0            26       2017              June              \n",
       "114909 City Hotel   0             1       2017              June              \n",
       "114912 City Hotel   0             1       2017              June              \n",
       "115030 City Hotel   0           107       2017              June              \n",
       "115092 City Hotel   0             1       2017              June              \n",
       "116252 City Hotel   0            44       2017              July              \n",
       "116535 City Hotel   0             2       2017              July              \n",
       "117088 City Hotel   0           170       2017              July              \n",
       "       arrival_date_week_number arrival_date_day_of_month\n",
       "2225   41                        6                       \n",
       "2410   42                       12                       \n",
       "3182   47                       20                       \n",
       "3685   53                       30                       \n",
       "3709   53                       30                       \n",
       "4128    8                       15                       \n",
       "9377   48                       21                       \n",
       "31766  53                       27                       \n",
       "32030   2                       14                       \n",
       "32828   4                       25                       \n",
       "34850  13                       30                       \n",
       "34856  13                       30                       \n",
       "37460  25                       18                       \n",
       "40393  30                       23                       \n",
       "40923  33                        9                       \n",
       "41021  33                       10                       \n",
       "41057  33                       11                       \n",
       "42453  37                        6                       \n",
       "42592  37                        7                       \n",
       "42872  37                       11                       \n",
       "42935  37                       11                       \n",
       "47167   7                       11                       \n",
       "47181   7                       12                       \n",
       "47445   9                       21                       \n",
       "49265  15                        8                       \n",
       "50702  19                        5                       \n",
       "50703  19                        5                       \n",
       "54026  28                        6                       \n",
       "54038  28                        6                       \n",
       "54048  28                        6                       \n",
       "...    ...                      ...                      \n",
       "107544 11                       15                       \n",
       "107595  9                        4                       \n",
       "107677 11                       17                       \n",
       "107978 12                       21                       \n",
       "107993 10                        7                       \n",
       "108234 12                       24                       \n",
       "108235 12                       24                       \n",
       "108236 12                       24                       \n",
       "109039 10                        9                       \n",
       "109946 15                       14                       \n",
       "110281 17                       25                       \n",
       "110302 16                       20                       \n",
       "111028 18                        5                       \n",
       "111043 17                       27                       \n",
       "111407 19                        9                       \n",
       "111532 19                       10                       \n",
       "111710 20                       14                       \n",
       "111711 20                       14                       \n",
       "111981 20                       17                       \n",
       "112472 20                       20                       \n",
       "112559 21                       23                       \n",
       "113189 23                        4                       \n",
       "114584 25                       19                       \n",
       "114909 26                       28                       \n",
       "114912 26                       28                       \n",
       "115030 26                       27                       \n",
       "115092 26                       30                       \n",
       "116252 28                       15                       \n",
       "116535 28                       15                       \n",
       "117088 30                       27                       \n",
       "       stays_in_weekend_nights stays_in_week_nights adults ... deposit_type\n",
       "2225   0                        3                   0      ... No Deposit  \n",
       "2410   0                        0                   0      ... No Deposit  \n",
       "3182   1                        2                   0      ... No Deposit  \n",
       "3685   1                        4                   0      ... No Deposit  \n",
       "3709   2                        4                   0      ... No Deposit  \n",
       "4128   0                        0                   0      ... No Deposit  \n",
       "9377   0                        0                   0      ... No Deposit  \n",
       "31766  2                        8                   0      ... No Deposit  \n",
       "32030  0                        1                   0      ... No Deposit  \n",
       "32828  3                        9                   0      ... No Deposit  \n",
       "34850  2                        6                   0      ... No Deposit  \n",
       "34856  2                        6                   0      ... No Deposit  \n",
       "37460  2                        5                   0      ... No Deposit  \n",
       "40393  2                        5                   0      ... No Deposit  \n",
       "40923  2                        0                   0      ... No Deposit  \n",
       "41021  9                       20                   0      ... No Deposit  \n",
       "41057  0                        4                   0      ... No Deposit  \n",
       "42453  2                        0                   0      ... No Deposit  \n",
       "42592  1                        4                   0      ... No Deposit  \n",
       "42872  0                        2                   0      ... No Deposit  \n",
       "42935  0                        1                   0      ... No Deposit  \n",
       "47167  0                        3                   0      ... No Deposit  \n",
       "47181  0                        1                   0      ... No Deposit  \n",
       "47445  2                        4                   0      ... No Deposit  \n",
       "49265  2                        3                   0      ... No Deposit  \n",
       "50702  2                        4                   0      ... No Deposit  \n",
       "50703  2                        4                   0      ... No Deposit  \n",
       "54026  0                        4                   0      ... No Deposit  \n",
       "54038  2                        4                   0      ... No Deposit  \n",
       "54048  2                        4                   0      ... No Deposit  \n",
       "...    ...                     ...                  ...        ...         \n",
       "107544 0                        0                   0      ... No Deposit  \n",
       "107595 4                        7                   0      ... No Deposit  \n",
       "107677 0                        0                   0      ... No Deposit  \n",
       "107978 0                        0                   0      ... No Deposit  \n",
       "107993 4                       10                   0      ... No Deposit  \n",
       "108234 0                        0                   0      ... No Deposit  \n",
       "108235 0                        0                   0      ... No Deposit  \n",
       "108236 0                        0                   0      ... No Deposit  \n",
       "109039 8                       19                   0      ... No Deposit  \n",
       "109946 2                        3                   0      ... No Deposit  \n",
       "110281 0                        0                   0      ... No Deposit  \n",
       "110302 2                        3                   0      ... No Deposit  \n",
       "111028 0                        0                   0      ... No Deposit  \n",
       "111043 2                        6                   0      ... No Deposit  \n",
       "111407 0                        1                   0      ... No Deposit  \n",
       "111532 0                        2                   0      ... No Deposit  \n",
       "111710 0                        0                   0      ... No Deposit  \n",
       "111711 0                        0                   0      ... No Deposit  \n",
       "111981 0                        1                   0      ... No Deposit  \n",
       "112472 2                        2                   0      ... No Deposit  \n",
       "112559 0                        2                   0      ... No Deposit  \n",
       "113189 0                        0                   0      ... No Deposit  \n",
       "114584 1                        4                   0      ... No Deposit  \n",
       "114909 0                        0                   0      ... No Deposit  \n",
       "114912 0                        0                   0      ... No Deposit  \n",
       "115030 0                        3                   0      ... No Deposit  \n",
       "115092 0                        1                   0      ... No Deposit  \n",
       "116252 1                        1                   0      ... No Deposit  \n",
       "116535 2                        5                   0      ... No Deposit  \n",
       "117088 0                        2                   0      ... No Deposit  \n",
       "       agent company days_in_waiting_list customer_type   adr   \n",
       "2225   NULL  174       0                  Transient-Party  0.00 \n",
       "2410   NULL  174       0                  Transient        0.00 \n",
       "3182   38    NULL      0                  Transient-Party  0.00 \n",
       "3685   308   NULL    122                  Transient-Party  0.00 \n",
       "3709   308   NULL    122                  Transient-Party  0.00 \n",
       "4128   NULL  383       0                  Transient        0.00 \n",
       "9377   NULL  386       0                  Group            0.00 \n",
       "31766  NULL  NULL      0                  Transient       28.00 \n",
       "32030  168   NULL      0                  Transient-Party  0.00 \n",
       "32828  NULL  NULL      0                  Transient        0.00 \n",
       "34850  NULL  523       0                  Transient-Party  0.00 \n",
       "34856  NULL  523       0                  Transient-Party  0.00 \n",
       "37460  NULL  NULL      0                  Transient        0.00 \n",
       "40393  1     NULL      0                  Transient-Party  0.00 \n",
       "40923  9     NULL      0                  Contract         0.00 \n",
       "41021  NULL  47        0                  Transient        0.00 \n",
       "41057  NULL  49        0                  Transient-Party  0.00 \n",
       "42453  1     NULL      0                  Transient-Party  0.00 \n",
       "42592  11    NULL      0                  Transient        0.00 \n",
       "42872  NULL  NULL      0                  Transient        0.00 \n",
       "42935  NULL  NULL      0                  Transient        0.00 \n",
       "47167  9     NULL      0                  Transient        0.00 \n",
       "47181  NULL  45        0                  Transient        0.00 \n",
       "47445  14    NULL      0                  Transient-Party 56.27 \n",
       "49265  21    NULL      0                  Transient-Party  0.00 \n",
       "50702  11    NULL      0                  Transient       50.87 \n",
       "50703  11    NULL      0                  Transient       50.87 \n",
       "54026  9     NULL      0                  Transient        0.00 \n",
       "54038  19    NULL      0                  Transient        0.00 \n",
       "54048  19    NULL      0                  Transient        0.00 \n",
       "...    ...   ...     ...                  ...             ...   \n",
       "107544 132   NULL    0                    Transient         0.00\n",
       "107595 9     NULL    0                    Transient         8.00\n",
       "107677 9     NULL    0                    Transient         0.00\n",
       "107978 9     NULL    0                    Transient         0.00\n",
       "107993 NULL  NULL    0                    Transient         0.00\n",
       "108234 155   NULL    0                    Transient         0.00\n",
       "108235 86    NULL    0                    Transient         0.00\n",
       "108236 86    NULL    0                    Transient         0.00\n",
       "109039 NULL  NULL    0                    Transient         0.00\n",
       "109946 14    NULL    0                    Transient         0.00\n",
       "110281 9     NULL    0                    Transient         0.00\n",
       "110302 NULL  460     0                    Transient         0.00\n",
       "111028 NULL  NULL    0                    Transient         0.00\n",
       "111043 290   NULL    0                    Transient         0.00\n",
       "111407 87    NULL    0                    Transient       200.00\n",
       "111532 39    NULL    0                    Transient-Party   0.00\n",
       "111710 459   NULL    0                    Transient-Party   0.00\n",
       "111711 NULL  169     0                    Transient-Party   0.00\n",
       "111981 NULL  NULL    0                    Transient         0.00\n",
       "112472 229   NULL    0                    Transient-Party   0.00\n",
       "112559 NULL  NULL    0                    Transient         0.00\n",
       "113189 229   NULL    0                    Transient-Party   0.00\n",
       "114584 9     NULL    0                    Transient        90.00\n",
       "114909 NULL  153     0                    Transient         0.00\n",
       "114912 NULL  153     0                    Transient         0.00\n",
       "115030 7     NULL    0                    Transient       100.80\n",
       "115092 NULL  NULL    0                    Transient         0.00\n",
       "116252 425   NULL    0                    Transient        73.80\n",
       "116535 9     NULL    0                    Transient-Party  22.86\n",
       "117088 52    NULL    0                    Transient         0.00\n",
       "       required_car_parking_spaces total_of_special_requests reservation_status\n",
       "2225   0                           0                         Check-Out         \n",
       "2410   0                           0                         Check-Out         \n",
       "3182   0                           0                         Check-Out         \n",
       "3685   0                           0                         Check-Out         \n",
       "3709   0                           0                         Check-Out         \n",
       "4128   0                           0                         Canceled          \n",
       "9377   0                           0                         Canceled          \n",
       "31766  1                           0                         Check-Out         \n",
       "32030  0                           0                         Check-Out         \n",
       "32828  0                           0                         Check-Out         \n",
       "34850  0                           0                         Check-Out         \n",
       "34856  0                           0                         Check-Out         \n",
       "37460  0                           0                         Check-Out         \n",
       "40393  0                           0                         Check-Out         \n",
       "40923  0                           0                         Check-Out         \n",
       "41021  0                           0                         Check-Out         \n",
       "41057  0                           1                         Check-Out         \n",
       "42453  0                           0                         Canceled          \n",
       "42592  0                           1                         Check-Out         \n",
       "42872  0                           0                         Check-Out         \n",
       "42935  0                           0                         Check-Out         \n",
       "47167  0                           1                         No-Show           \n",
       "47181  0                           2                         Check-Out         \n",
       "47445  0                           0                         Check-Out         \n",
       "49265  0                           0                         Canceled          \n",
       "50702  0                           0                         Check-Out         \n",
       "50703  0                           0                         Check-Out         \n",
       "54026  0                           1                         Check-Out         \n",
       "54038  0                           0                         Canceled          \n",
       "54048  0                           0                         Canceled          \n",
       "...    ...                         ...                       ...               \n",
       "107544 0                           0                         Check-Out         \n",
       "107595 0                           0                         Check-Out         \n",
       "107677 0                           0                         Check-Out         \n",
       "107978 1                           1                         Check-Out         \n",
       "107993 0                           1                         Check-Out         \n",
       "108234 0                           1                         Check-Out         \n",
       "108235 0                           0                         Check-Out         \n",
       "108236 0                           0                         Check-Out         \n",
       "109039 0                           0                         Check-Out         \n",
       "109946 0                           1                         Check-Out         \n",
       "110281 0                           3                         Canceled          \n",
       "110302 0                           1                         Check-Out         \n",
       "111028 0                           0                         Check-Out         \n",
       "111043 0                           0                         Check-Out         \n",
       "111407 0                           0                         Check-Out         \n",
       "111532 0                           0                         Check-Out         \n",
       "111710 0                           0                         Check-Out         \n",
       "111711 0                           0                         Check-Out         \n",
       "111981 0                           0                         Check-Out         \n",
       "112472 0                           1                         Check-Out         \n",
       "112559 1                           0                         Check-Out         \n",
       "113189 0                           1                         Check-Out         \n",
       "114584 0                           1                         Check-Out         \n",
       "114909 0                           0                         Check-Out         \n",
       "114912 0                           0                         Check-Out         \n",
       "115030 0                           0                         Check-Out         \n",
       "115092 1                           1                         Check-Out         \n",
       "116252 0                           0                         Check-Out         \n",
       "116535 0                           1                         Check-Out         \n",
       "117088 0                           0                         Check-Out         \n",
       "       reservation_status_date\n",
       "2225   10/6/2015              \n",
       "2410   10/12/2015             \n",
       "3182   11/23/2015             \n",
       "3685   1/4/2016               \n",
       "3709   1/5/2016               \n",
       "4128   2/15/2016              \n",
       "9377   11/21/2016             \n",
       "31766  1/6/2017               \n",
       "32030  1/15/2017              \n",
       "32828  2/6/2017               \n",
       "34850  4/7/2017               \n",
       "34856  4/7/2017               \n",
       "37460  6/25/2017              \n",
       "40393  7/30/2015              \n",
       "40923  8/11/2015              \n",
       "41021  9/8/2015               \n",
       "41057  8/15/2015              \n",
       "42453  9/5/2015               \n",
       "42592  9/12/2015              \n",
       "42872  9/13/2015              \n",
       "42935  9/12/2015              \n",
       "47167  2/11/2016              \n",
       "47181  2/13/2016              \n",
       "47445  2/27/2016              \n",
       "49265  3/29/2016              \n",
       "50702  5/11/2016              \n",
       "50703  5/11/2016              \n",
       "54026  7/10/2016              \n",
       "54038  2/23/2016              \n",
       "54048  2/23/2016              \n",
       "...    ...                    \n",
       "107544 3/15/2017              \n",
       "107595 3/15/2017              \n",
       "107677 3/17/2017              \n",
       "107978 3/21/2017              \n",
       "107993 3/21/2017              \n",
       "108234 3/24/2017              \n",
       "108235 3/24/2017              \n",
       "108236 3/24/2017              \n",
       "109039 4/5/2017               \n",
       "109946 4/19/2017              \n",
       "110281 4/25/2017              \n",
       "110302 4/25/2017              \n",
       "111028 5/5/2017               \n",
       "111043 5/5/2017               \n",
       "111407 5/10/2017              \n",
       "111532 5/12/2017              \n",
       "111710 5/14/2017              \n",
       "111711 5/14/2017              \n",
       "111981 5/18/2017              \n",
       "112472 5/24/2017              \n",
       "112559 5/25/2017              \n",
       "113189 6/4/2017               \n",
       "114584 6/24/2017              \n",
       "114909 6/28/2017              \n",
       "114912 6/28/2017              \n",
       "115030 6/30/2017              \n",
       "115092 7/1/2017               \n",
       "116252 7/17/2017              \n",
       "116535 7/22/2017              \n",
       "117088 7/29/2017              "
      ]
     },
     "metadata": {},
     "output_type": "display_data"
    }
   ],
   "source": [
    "filter1 = (df$children==0) & (df$adults==0) & (df$babies==0)\n",
    "df[filter1 , ]   ## data[rows , cols]"
   ]
  },
  {
   "cell_type": "code",
   "execution_count": 24,
   "id": "0b67d1e7",
   "metadata": {},
   "outputs": [],
   "source": [
    "df2 = df[!filter1 , ] ## data[rows , cols]"
   ]
  },
  {
   "cell_type": "code",
   "execution_count": 25,
   "id": "2c8fd2f6",
   "metadata": {},
   "outputs": [
    {
     "data": {
      "text/html": [
       "<style>\n",
       ".list-inline {list-style: none; margin:0; padding: 0}\n",
       ".list-inline>li {display: inline-block}\n",
       ".list-inline>li:not(:last-child)::after {content: \"\\00b7\"; padding: 0 .5ex}\n",
       "</style>\n",
       "<ol class=list-inline><li>119210</li><li>32</li></ol>\n"
      ],
      "text/latex": [
       "\\begin{enumerate*}\n",
       "\\item 119210\n",
       "\\item 32\n",
       "\\end{enumerate*}\n"
      ],
      "text/markdown": [
       "1. 119210\n",
       "2. 32\n",
       "\n",
       "\n"
      ],
      "text/plain": [
       "[1] 119210     32"
      ]
     },
     "metadata": {},
     "output_type": "display_data"
    }
   ],
   "source": [
    "dim(df2)"
   ]
  },
  {
   "cell_type": "code",
   "execution_count": 11,
   "id": "9ca9e3d6",
   "metadata": {},
   "outputs": [
    {
     "name": "stderr",
     "output_type": "stream",
     "text": [
      "Warning message in cbind(parts$left, chars$ellip_h, parts$right, deparse.level = 0L):\n",
      "\"number of rows of result is not a multiple of vector length (arg 2)\"\n",
      "Warning message in cbind(parts$left, chars$ellip_h, parts$right, deparse.level = 0L):\n",
      "\"number of rows of result is not a multiple of vector length (arg 2)\"\n",
      "Warning message in cbind(parts$left, chars$ellip_h, parts$right, deparse.level = 0L):\n",
      "\"number of rows of result is not a multiple of vector length (arg 2)\"\n",
      "Warning message in cbind(parts$left, chars$ellip_h, parts$right, deparse.level = 0L):\n",
      "\"number of rows of result is not a multiple of vector length (arg 2)\"\n"
     ]
    },
    {
     "data": {
      "text/html": [
       "<table class=\"dataframe\">\n",
       "<caption>A data.frame: 0 × 32</caption>\n",
       "<thead>\n",
       "\t<tr><th scope=col>hotel</th><th scope=col>is_canceled</th><th scope=col>lead_time</th><th scope=col>arrival_date_year</th><th scope=col>arrival_date_month</th><th scope=col>arrival_date_week_number</th><th scope=col>arrival_date_day_of_month</th><th scope=col>stays_in_weekend_nights</th><th scope=col>stays_in_week_nights</th><th scope=col>adults</th><th scope=col>...</th><th scope=col>deposit_type</th><th scope=col>agent</th><th scope=col>company</th><th scope=col>days_in_waiting_list</th><th scope=col>customer_type</th><th scope=col>adr</th><th scope=col>required_car_parking_spaces</th><th scope=col>total_of_special_requests</th><th scope=col>reservation_status</th><th scope=col>reservation_status_date</th></tr>\n",
       "\t<tr><th scope=col>&lt;chr&gt;</th><th scope=col>&lt;int&gt;</th><th scope=col>&lt;int&gt;</th><th scope=col>&lt;int&gt;</th><th scope=col>&lt;chr&gt;</th><th scope=col>&lt;int&gt;</th><th scope=col>&lt;int&gt;</th><th scope=col>&lt;int&gt;</th><th scope=col>&lt;int&gt;</th><th scope=col>&lt;int&gt;</th><th scope=col>...</th><th scope=col>&lt;chr&gt;</th><th scope=col>&lt;chr&gt;</th><th scope=col>&lt;chr&gt;</th><th scope=col>&lt;int&gt;</th><th scope=col>&lt;chr&gt;</th><th scope=col>&lt;dbl&gt;</th><th scope=col>&lt;int&gt;</th><th scope=col>&lt;int&gt;</th><th scope=col>&lt;chr&gt;</th><th scope=col>&lt;chr&gt;</th></tr>\n",
       "</thead>\n",
       "<tbody>\n",
       "</tbody>\n",
       "</table>\n"
      ],
      "text/latex": [
       "A data.frame: 0 × 32\n",
       "\\begin{tabular}{lllllllllllllllllllll}\n",
       " hotel & is\\_canceled & lead\\_time & arrival\\_date\\_year & arrival\\_date\\_month & arrival\\_date\\_week\\_number & arrival\\_date\\_day\\_of\\_month & stays\\_in\\_weekend\\_nights & stays\\_in\\_week\\_nights & adults & ... & deposit\\_type & agent & company & days\\_in\\_waiting\\_list & customer\\_type & adr & required\\_car\\_parking\\_spaces & total\\_of\\_special\\_requests & reservation\\_status & reservation\\_status\\_date\\\\\n",
       " <chr> & <int> & <int> & <int> & <chr> & <int> & <int> & <int> & <int> & <int> & ... & <chr> & <chr> & <chr> & <int> & <chr> & <dbl> & <int> & <int> & <chr> & <chr>\\\\\n",
       "\\hline\n",
       "\\end{tabular}\n"
      ],
      "text/markdown": [
       "\n",
       "A data.frame: 0 × 32\n",
       "\n",
       "| hotel &lt;chr&gt; | is_canceled &lt;int&gt; | lead_time &lt;int&gt; | arrival_date_year &lt;int&gt; | arrival_date_month &lt;chr&gt; | arrival_date_week_number &lt;int&gt; | arrival_date_day_of_month &lt;int&gt; | stays_in_weekend_nights &lt;int&gt; | stays_in_week_nights &lt;int&gt; | adults &lt;int&gt; | ... ... | deposit_type &lt;chr&gt; | agent &lt;chr&gt; | company &lt;chr&gt; | days_in_waiting_list &lt;int&gt; | customer_type &lt;chr&gt; | adr &lt;dbl&gt; | required_car_parking_spaces &lt;int&gt; | total_of_special_requests &lt;int&gt; | reservation_status &lt;chr&gt; | reservation_status_date &lt;chr&gt; |\n",
       "|---|---|---|---|---|---|---|---|---|---|---|---|---|---|---|---|---|---|---|---|---|\n",
       "\n"
      ],
      "text/plain": [
       "     hotel is_canceled lead_time arrival_date_year arrival_date_month\n",
       "     arrival_date_week_number arrival_date_day_of_month stays_in_weekend_nights\n",
       "     stays_in_week_nights adults ... deposit_type agent company\n",
       "     days_in_waiting_list customer_type adr required_car_parking_spaces\n",
       "     total_of_special_requests reservation_status reservation_status_date"
      ]
     },
     "metadata": {},
     "output_type": "display_data"
    }
   ],
   "source": [
    "df2[(df2['children']==0) & (df2['adults']==0) & (df2['babies']==0) , ] \n",
    "\n",
    "## data[rows , cols]\n"
   ]
  },
  {
   "cell_type": "code",
   "execution_count": null,
   "id": "d87ef085",
   "metadata": {},
   "outputs": [],
   "source": []
  },
  {
   "cell_type": "code",
   "execution_count": null,
   "id": "5edb8dba",
   "metadata": {},
   "outputs": [],
   "source": []
  },
  {
   "cell_type": "markdown",
   "id": "6f416b9b",
   "metadata": {},
   "source": [
    "### Removing Duplicated data"
   ]
  },
  {
   "cell_type": "code",
   "execution_count": 7,
   "id": "681a947c",
   "metadata": {},
   "outputs": [
    {
     "data": {
      "text/html": [
       "<pre class=language-r><code>function (x, incomparables = FALSE, ...) \n",
       "NULL</code></pre>"
      ],
      "text/latex": [
       "\\begin{minted}{r}\n",
       "function (x, incomparables = FALSE, ...) \n",
       "NULL\n",
       "\\end{minted}"
      ],
      "text/markdown": [
       "```r\n",
       "function (x, incomparables = FALSE, ...) \n",
       "NULL\n",
       "```"
      ],
      "text/plain": [
       "function (x, incomparables = FALSE, ...) \n",
       "NULL"
      ]
     },
     "metadata": {},
     "output_type": "display_data"
    }
   ],
   "source": [
    "args(duplicated)"
   ]
  },
  {
   "cell_type": "code",
   "execution_count": null,
   "id": "20ea0c4f",
   "metadata": {},
   "outputs": [],
   "source": [
    "help(duplicated)"
   ]
  },
  {
   "cell_type": "code",
   "execution_count": null,
   "id": "88a785af",
   "metadata": {},
   "outputs": [],
   "source": [
    "\"\n",
    "\n",
    "duplicated(x, incomparables = FALSE, ...)\n",
    "\n",
    "## Default S3 method:\n",
    "duplicated(x, incomparables = FALSE,\n",
    "           fromLast = FALSE, nmax = NA, ...)\n",
    "\n",
    "## S3 method for class 'array'\n",
    "duplicated(x, incomparables = FALSE, MARGIN = 1,\n",
    "           fromLast = FALSE, ...)\n",
    "\n",
    "\n",
    "\n",
    "\n",
    "\n",
    "\n",
    "1.. duplicated(x, incomparables = FALSE, ...)\n",
    "    duplicated() in R is used to identify duplicate elements in a \n",
    "    vector, data frame or array\n",
    "\n",
    "    x : The vector, array, or data frame to check for duplicates..\n",
    "\n",
    "    incomparables : A vector of values that should be considered as unique \n",
    "                    and not compared for duplication..\n",
    "                            OR\n",
    "                    A vector of values that should not be considered when determining duplicates.\n",
    "                    Default is FALSE..\n",
    "\n",
    "\n",
    "\n",
    "\n",
    "2.. Default S3 method:\n",
    "    duplicated(x, incomparables = FALSE,\n",
    "           fromLast = FALSE, nmax = NA, ...)\n",
    "\n",
    "    This is the default method of the duplicated function, suitable for \n",
    "    most objects like vectors, data frames, etc.\n",
    "    In simple terms in R, S3 stands for \"Simple, Structured, and Sensible.\" \n",
    "    It's a basic system for object-oriented programming\n",
    "                OR\n",
    "    In R, S3 methods are a way to implement object-oriented programming.\n",
    "\n",
    "\n",
    "    x : The vector, array, or data frame to check for duplicates..\n",
    "\n",
    "    incomparables : A vector of values that should be considered as unique \n",
    "                    and not compared for duplication..\n",
    "                            OR\n",
    "                    A vector specifying values that should not be considered \n",
    "                    when determining duplicates.\n",
    "                    Default is FALSE..\n",
    "\n",
    "    fromLast : A logical value indicating whether to identify duplicates \n",
    "                from the last occurrence. \n",
    "               Default is FALSE..\n",
    "\n",
    "    nmax : An integer specifying the maximum number of duplicates to return. \n",
    "           Default is NA, meaning all duplicates are returned..\n",
    "\n",
    "\n",
    "\n",
    "\n",
    "3.. S3 method for class 'array':\n",
    "    duplicated(x, incomparables = FALSE, MARGIN = 1,\n",
    "           fromLast = FALSE, ...)\n",
    "\n",
    "    This method is specifically for arrays.\n",
    "    It identifies duplicates along a specific margin (dimension) of the array.\n",
    "\n",
    "\n",
    "    MARGIN: An integer indicating which margin to check for duplicates. \n",
    "            Default is 1 (rows).\n",
    "            columns (if MARGIN = 2)\n",
    "\n",
    "\n",
    "\""
   ]
  },
  {
   "cell_type": "code",
   "execution_count": null,
   "id": "b502f093",
   "metadata": {},
   "outputs": [],
   "source": [
    "### since u are working dataframes , hence u can use 1st & 2nd one , \n",
    "### as 3rd one is for \"array\".."
   ]
  },
  {
   "cell_type": "code",
   "execution_count": null,
   "id": "f63d37ca",
   "metadata": {},
   "outputs": [],
   "source": []
  },
  {
   "cell_type": "code",
   "execution_count": null,
   "id": "71ab28f0",
   "metadata": {},
   "outputs": [],
   "source": [
    "### duplicated(df2) : return logical vector or array as \"TRUE\" or \"FALSE\"\n",
    "\n",
    "## \"TRUE\" means : We have duplicated instance at that row-index \n",
    "## \"FALSE\" means : We do not have duplicated instance at that row-index "
   ]
  },
  {
   "cell_type": "code",
   "execution_count": 11,
   "id": "0e000c88",
   "metadata": {},
   "outputs": [
    {
     "data": {
      "text/html": [
       "<style>\n",
       ".list-inline {list-style: none; margin:0; padding: 0}\n",
       ".list-inline>li {display: inline-block}\n",
       ".list-inline>li:not(:last-child)::after {content: \"\\00b7\"; padding: 0 .5ex}\n",
       "</style>\n",
       "<ol class=list-inline><li>31980</li><li>32</li></ol>\n"
      ],
      "text/latex": [
       "\\begin{enumerate*}\n",
       "\\item 31980\n",
       "\\item 32\n",
       "\\end{enumerate*}\n"
      ],
      "text/markdown": [
       "1. 31980\n",
       "2. 32\n",
       "\n",
       "\n"
      ],
      "text/plain": [
       "[1] 31980    32"
      ]
     },
     "metadata": {},
     "output_type": "display_data"
    }
   ],
   "source": [
    "dim(df2[duplicated(df2) ,]) ## Detection of Duplicate rows\n",
    "\n",
    "## data[rows , cols]\n",
    "## takes 5 sec"
   ]
  },
  {
   "cell_type": "code",
   "execution_count": 4,
   "id": "88691259",
   "metadata": {},
   "outputs": [],
   "source": [
    "library(dplyr)"
   ]
  },
  {
   "cell_type": "code",
   "execution_count": 5,
   "id": "d760277d",
   "metadata": {},
   "outputs": [
    {
     "data": {
      "text/html": [
       "<pre class=language-r><code>function (.data, ..., .keep_all = FALSE) \n",
       "NULL</code></pre>"
      ],
      "text/latex": [
       "\\begin{minted}{r}\n",
       "function (.data, ..., .keep\\_all = FALSE) \n",
       "NULL\n",
       "\\end{minted}"
      ],
      "text/markdown": [
       "```r\n",
       "function (.data, ..., .keep_all = FALSE) \n",
       "NULL\n",
       "```"
      ],
      "text/plain": [
       "function (.data, ..., .keep_all = FALSE) \n",
       "NULL"
      ]
     },
     "metadata": {},
     "output_type": "display_data"
    }
   ],
   "source": [
    "args(dplyr :: distinct)"
   ]
  },
  {
   "cell_type": "markdown",
   "id": "87acb627",
   "metadata": {},
   "source": [
    "     .data = data frame or tibble from which to select distinct rows..\n",
    "\n",
    "    .keep_all : parameter that controls whether to keep all columns or only those used for identifying distinct rows..\n",
    "                The default value is FALSE.."
   ]
  },
  {
   "cell_type": "code",
   "execution_count": null,
   "id": "5f158414",
   "metadata": {},
   "outputs": [],
   "source": [
    "### drop duplicate values..\n",
    "### By default, it removes duplicate rows based on all columns..\n"
   ]
  },
  {
   "cell_type": "code",
   "execution_count": 26,
   "id": "f349ee90",
   "metadata": {},
   "outputs": [],
   "source": [
    "## distinct() is a function of dplyr to drop duplicate rows..\n",
    "data = dplyr :: distinct(df2)\n",
    "\n",
    "## Note :  we have already used duplicated() ie data[rows , cols ] in 2nd session Uber & dplyr :: distinct() in 6th session Uber to remove duplicate rows.."
   ]
  },
  {
   "cell_type": "code",
   "execution_count": 27,
   "id": "aa04ff56",
   "metadata": {},
   "outputs": [
    {
     "data": {
      "text/html": [
       "<style>\n",
       ".list-inline {list-style: none; margin:0; padding: 0}\n",
       ".list-inline>li {display: inline-block}\n",
       ".list-inline>li:not(:last-child)::after {content: \"\\00b7\"; padding: 0 .5ex}\n",
       "</style>\n",
       "<ol class=list-inline><li>87230</li><li>32</li></ol>\n"
      ],
      "text/latex": [
       "\\begin{enumerate*}\n",
       "\\item 87230\n",
       "\\item 32\n",
       "\\end{enumerate*}\n"
      ],
      "text/markdown": [
       "1. 87230\n",
       "2. 32\n",
       "\n",
       "\n"
      ],
      "text/plain": [
       "[1] 87230    32"
      ]
     },
     "metadata": {},
     "output_type": "display_data"
    }
   ],
   "source": [
    "dim(data)"
   ]
  },
  {
   "cell_type": "code",
   "execution_count": null,
   "id": "93bd646f",
   "metadata": {},
   "outputs": [],
   "source": []
  },
  {
   "cell_type": "code",
   "execution_count": null,
   "id": "04c62bfb",
   "metadata": {},
   "outputs": [],
   "source": []
  },
  {
   "cell_type": "code",
   "execution_count": null,
   "id": "58b59e64",
   "metadata": {},
   "outputs": [],
   "source": []
  },
  {
   "cell_type": "code",
   "execution_count": null,
   "id": "669728aa",
   "metadata": {},
   "outputs": [],
   "source": []
  },
  {
   "cell_type": "markdown",
   "id": "e3f0468f",
   "metadata": {},
   "source": [
    "## 3.. Performing descriptive analysis !"
   ]
  },
  {
   "cell_type": "code",
   "execution_count": 8,
   "id": "5c73251f",
   "metadata": {},
   "outputs": [
    {
     "data": {
      "text/html": [
       "<pre class=language-r><code>function (object, ...) \n",
       "NULL</code></pre>"
      ],
      "text/latex": [
       "\\begin{minted}{r}\n",
       "function (object, ...) \n",
       "NULL\n",
       "\\end{minted}"
      ],
      "text/markdown": [
       "```r\n",
       "function (object, ...) \n",
       "NULL\n",
       "```"
      ],
      "text/plain": [
       "function (object, ...) \n",
       "NULL"
      ]
     },
     "metadata": {},
     "output_type": "display_data"
    }
   ],
   "source": [
    "args(str)"
   ]
  },
  {
   "cell_type": "code",
   "execution_count": 9,
   "id": "8684e4fe",
   "metadata": {},
   "outputs": [],
   "source": [
    "help(str)\n",
    "\n",
    "### Compactly Display the Structure of an Arbitrary R Object"
   ]
  },
  {
   "cell_type": "code",
   "execution_count": 16,
   "id": "cbf4bd5e",
   "metadata": {},
   "outputs": [
    {
     "name": "stdout",
     "output_type": "stream",
     "text": [
      "'data.frame':\t87230 obs. of  32 variables:\n",
      " $ hotel                         : chr  \"Resort Hotel\" \"Resort Hotel\" \"Resort Hotel\" \"Resort Hotel\" ...\n",
      " $ is_canceled                   : int  0 0 0 0 0 0 0 1 1 1 ...\n",
      " $ lead_time                     : int  342 737 7 13 14 0 9 85 75 23 ...\n",
      " $ arrival_date_year             : int  2015 2015 2015 2015 2015 2015 2015 2015 2015 2015 ...\n",
      " $ arrival_date_month            : chr  \"July\" \"July\" \"July\" \"July\" ...\n",
      " $ arrival_date_week_number      : int  27 27 27 27 27 27 27 27 27 27 ...\n",
      " $ arrival_date_day_of_month     : int  1 1 1 1 1 1 1 1 1 1 ...\n",
      " $ stays_in_weekend_nights       : int  0 0 0 0 0 0 0 0 0 0 ...\n",
      " $ stays_in_week_nights          : int  0 0 1 1 2 2 2 3 3 4 ...\n",
      " $ adults                        : int  2 2 1 1 2 2 2 2 2 2 ...\n",
      " $ children                      : int  0 0 0 0 0 0 0 0 0 0 ...\n",
      " $ babies                        : int  0 0 0 0 0 0 0 0 0 0 ...\n",
      " $ meal                          : chr  \"BB\" \"BB\" \"BB\" \"BB\" ...\n",
      " $ country                       : chr  \"PRT\" \"PRT\" \"GBR\" \"GBR\" ...\n",
      " $ market_segment                : chr  \"Direct\" \"Direct\" \"Direct\" \"Corporate\" ...\n",
      " $ distribution_channel          : chr  \"Direct\" \"Direct\" \"Direct\" \"Corporate\" ...\n",
      " $ is_repeated_guest             : int  0 0 0 0 0 0 0 0 0 0 ...\n",
      " $ previous_cancellations        : int  0 0 0 0 0 0 0 0 0 0 ...\n",
      " $ previous_bookings_not_canceled: int  0 0 0 0 0 0 0 0 0 0 ...\n",
      " $ reserved_room_type            : chr  \"C\" \"C\" \"A\" \"A\" ...\n",
      " $ assigned_room_type            : chr  \"C\" \"C\" \"C\" \"A\" ...\n",
      " $ booking_changes               : int  3 4 0 0 0 0 0 0 0 0 ...\n",
      " $ deposit_type                  : chr  \"No Deposit\" \"No Deposit\" \"No Deposit\" \"No Deposit\" ...\n",
      " $ agent                         : chr  \"NULL\" \"NULL\" \"NULL\" \"304\" ...\n",
      " $ company                       : chr  \"NULL\" \"NULL\" \"NULL\" \"NULL\" ...\n",
      " $ days_in_waiting_list          : int  0 0 0 0 0 0 0 0 0 0 ...\n",
      " $ customer_type                 : chr  \"Transient\" \"Transient\" \"Transient\" \"Transient\" ...\n",
      " $ adr                           : num  0 0 75 75 98 ...\n",
      " $ required_car_parking_spaces   : int  0 0 0 0 0 0 0 0 0 0 ...\n",
      " $ total_of_special_requests     : int  0 0 0 0 1 0 1 1 0 0 ...\n",
      " $ reservation_status            : chr  \"Check-Out\" \"Check-Out\" \"Check-Out\" \"Check-Out\" ...\n",
      " $ reservation_status_date       : chr  \"7/1/2015\" \"7/1/2015\" \"7/2/2015\" \"7/2/2015\" ...\n"
     ]
    }
   ],
   "source": [
    "str(data)"
   ]
  },
  {
   "cell_type": "code",
   "execution_count": 17,
   "id": "083ec0b3",
   "metadata": {},
   "outputs": [
    {
     "data": {
      "text/plain": [
       "16515288 bytes"
      ]
     },
     "metadata": {},
     "output_type": "display_data"
    }
   ],
   "source": [
    "object.size(data)\n",
    "\n",
    "## 16.5 MB"
   ]
  },
  {
   "cell_type": "code",
   "execution_count": 18,
   "id": "e2a87dbd",
   "metadata": {},
   "outputs": [
    {
     "data": {
      "text/html": [
       "<style>\n",
       ".list-inline {list-style: none; margin:0; padding: 0}\n",
       ".list-inline>li {display: inline-block}\n",
       ".list-inline>li:not(:last-child)::after {content: \"\\00b7\"; padding: 0 .5ex}\n",
       "</style>\n",
       "<ol class=list-inline><li>'hotel'</li><li>'is_canceled'</li><li>'lead_time'</li><li>'arrival_date_year'</li><li>'arrival_date_month'</li><li>'arrival_date_week_number'</li><li>'arrival_date_day_of_month'</li><li>'stays_in_weekend_nights'</li><li>'stays_in_week_nights'</li><li>'adults'</li><li>'children'</li><li>'babies'</li><li>'meal'</li><li>'country'</li><li>'market_segment'</li><li>'distribution_channel'</li><li>'is_repeated_guest'</li><li>'previous_cancellations'</li><li>'previous_bookings_not_canceled'</li><li>'reserved_room_type'</li><li>'assigned_room_type'</li><li>'booking_changes'</li><li>'deposit_type'</li><li>'agent'</li><li>'company'</li><li>'days_in_waiting_list'</li><li>'customer_type'</li><li>'adr'</li><li>'required_car_parking_spaces'</li><li>'total_of_special_requests'</li><li>'reservation_status'</li><li>'reservation_status_date'</li></ol>\n"
      ],
      "text/latex": [
       "\\begin{enumerate*}\n",
       "\\item 'hotel'\n",
       "\\item 'is\\_canceled'\n",
       "\\item 'lead\\_time'\n",
       "\\item 'arrival\\_date\\_year'\n",
       "\\item 'arrival\\_date\\_month'\n",
       "\\item 'arrival\\_date\\_week\\_number'\n",
       "\\item 'arrival\\_date\\_day\\_of\\_month'\n",
       "\\item 'stays\\_in\\_weekend\\_nights'\n",
       "\\item 'stays\\_in\\_week\\_nights'\n",
       "\\item 'adults'\n",
       "\\item 'children'\n",
       "\\item 'babies'\n",
       "\\item 'meal'\n",
       "\\item 'country'\n",
       "\\item 'market\\_segment'\n",
       "\\item 'distribution\\_channel'\n",
       "\\item 'is\\_repeated\\_guest'\n",
       "\\item 'previous\\_cancellations'\n",
       "\\item 'previous\\_bookings\\_not\\_canceled'\n",
       "\\item 'reserved\\_room\\_type'\n",
       "\\item 'assigned\\_room\\_type'\n",
       "\\item 'booking\\_changes'\n",
       "\\item 'deposit\\_type'\n",
       "\\item 'agent'\n",
       "\\item 'company'\n",
       "\\item 'days\\_in\\_waiting\\_list'\n",
       "\\item 'customer\\_type'\n",
       "\\item 'adr'\n",
       "\\item 'required\\_car\\_parking\\_spaces'\n",
       "\\item 'total\\_of\\_special\\_requests'\n",
       "\\item 'reservation\\_status'\n",
       "\\item 'reservation\\_status\\_date'\n",
       "\\end{enumerate*}\n"
      ],
      "text/markdown": [
       "1. 'hotel'\n",
       "2. 'is_canceled'\n",
       "3. 'lead_time'\n",
       "4. 'arrival_date_year'\n",
       "5. 'arrival_date_month'\n",
       "6. 'arrival_date_week_number'\n",
       "7. 'arrival_date_day_of_month'\n",
       "8. 'stays_in_weekend_nights'\n",
       "9. 'stays_in_week_nights'\n",
       "10. 'adults'\n",
       "11. 'children'\n",
       "12. 'babies'\n",
       "13. 'meal'\n",
       "14. 'country'\n",
       "15. 'market_segment'\n",
       "16. 'distribution_channel'\n",
       "17. 'is_repeated_guest'\n",
       "18. 'previous_cancellations'\n",
       "19. 'previous_bookings_not_canceled'\n",
       "20. 'reserved_room_type'\n",
       "21. 'assigned_room_type'\n",
       "22. 'booking_changes'\n",
       "23. 'deposit_type'\n",
       "24. 'agent'\n",
       "25. 'company'\n",
       "26. 'days_in_waiting_list'\n",
       "27. 'customer_type'\n",
       "28. 'adr'\n",
       "29. 'required_car_parking_spaces'\n",
       "30. 'total_of_special_requests'\n",
       "31. 'reservation_status'\n",
       "32. 'reservation_status_date'\n",
       "\n",
       "\n"
      ],
      "text/plain": [
       " [1] \"hotel\"                          \"is_canceled\"                   \n",
       " [3] \"lead_time\"                      \"arrival_date_year\"             \n",
       " [5] \"arrival_date_month\"             \"arrival_date_week_number\"      \n",
       " [7] \"arrival_date_day_of_month\"      \"stays_in_weekend_nights\"       \n",
       " [9] \"stays_in_week_nights\"           \"adults\"                        \n",
       "[11] \"children\"                       \"babies\"                        \n",
       "[13] \"meal\"                           \"country\"                       \n",
       "[15] \"market_segment\"                 \"distribution_channel\"          \n",
       "[17] \"is_repeated_guest\"              \"previous_cancellations\"        \n",
       "[19] \"previous_bookings_not_canceled\" \"reserved_room_type\"            \n",
       "[21] \"assigned_room_type\"             \"booking_changes\"               \n",
       "[23] \"deposit_type\"                   \"agent\"                         \n",
       "[25] \"company\"                        \"days_in_waiting_list\"          \n",
       "[27] \"customer_type\"                  \"adr\"                           \n",
       "[29] \"required_car_parking_spaces\"    \"total_of_special_requests\"     \n",
       "[31] \"reservation_status\"             \"reservation_status_date\"       "
      ]
     },
     "metadata": {},
     "output_type": "display_data"
    }
   ],
   "source": [
    "colnames(data)"
   ]
  },
  {
   "cell_type": "code",
   "execution_count": null,
   "id": "1c51433d",
   "metadata": {},
   "outputs": [],
   "source": []
  },
  {
   "cell_type": "code",
   "execution_count": 11,
   "id": "86be23c9",
   "metadata": {},
   "outputs": [],
   "source": [
    "help(summary)\n",
    "\n",
    "## Object Summaries"
   ]
  },
  {
   "cell_type": "code",
   "execution_count": 10,
   "id": "5165370d",
   "metadata": {},
   "outputs": [
    {
     "data": {
      "text/html": [
       "<pre class=language-r><code>function (object, ...) \n",
       "NULL</code></pre>"
      ],
      "text/latex": [
       "\\begin{minted}{r}\n",
       "function (object, ...) \n",
       "NULL\n",
       "\\end{minted}"
      ],
      "text/markdown": [
       "```r\n",
       "function (object, ...) \n",
       "NULL\n",
       "```"
      ],
      "text/plain": [
       "function (object, ...) \n",
       "NULL"
      ]
     },
     "metadata": {},
     "output_type": "display_data"
    }
   ],
   "source": [
    "args(summary)"
   ]
  },
  {
   "cell_type": "code",
   "execution_count": 19,
   "id": "8c563c53",
   "metadata": {},
   "outputs": [
    {
     "data": {
      "text/plain": [
       "   lead_time           adr          total_of_special_requests\n",
       " Min.   :  0.00   Min.   :  -6.38   Min.   :0.0000           \n",
       " 1st Qu.: 11.00   1st Qu.:  72.25   1st Qu.:0.0000           \n",
       " Median : 49.00   Median :  98.20   Median :0.0000           \n",
       " Mean   : 79.97   Mean   : 106.52   Mean   :0.6989           \n",
       " 3rd Qu.:125.00   3rd Qu.: 134.10   3rd Qu.:1.0000           \n",
       " Max.   :737.00   Max.   :5400.00   Max.   :5.0000           "
      ]
     },
     "metadata": {},
     "output_type": "display_data"
    }
   ],
   "source": [
    "summary(data[c('lead_time' ,'adr' ,'total_of_special_requests')])"
   ]
  },
  {
   "cell_type": "code",
   "execution_count": null,
   "id": "98453ae7",
   "metadata": {},
   "outputs": [],
   "source": [
    "'''\n",
    "\n",
    "print quantile values for these 3 cols..\n",
    "\n",
    "'''"
   ]
  },
  {
   "cell_type": "code",
   "execution_count": null,
   "id": "26f1ad50",
   "metadata": {},
   "outputs": [],
   "source": []
  },
  {
   "cell_type": "code",
   "execution_count": 1,
   "id": "826a0ca5",
   "metadata": {},
   "outputs": [],
   "source": [
    "help(quantile)\n",
    "\n",
    "## Sample Quantiles"
   ]
  },
  {
   "cell_type": "code",
   "execution_count": null,
   "id": "ce2d4ad3",
   "metadata": {},
   "outputs": [],
   "source": [
    "\"\n",
    "quantile(x, ...)\n",
    "\n",
    "## Default S3 method:\n",
    "quantile(x, probs = seq(0, 1, 0.25), na.rm = FALSE,\n",
    "         names = TRUE, type = 7, digits = 7, ...)\n",
    "\n",
    "\n",
    "\n",
    "x : A numeric vector for which you want to compute quantiles.\n",
    "\n",
    "probs : A numeric vector specifying the quantile(s) to be computed. \n",
    "        The default is seq(0, 1, 0.25), which computes quartiles \n",
    "        (i.e., 0th, 25th, 50th, 75th, and 100th percentiles)..\n",
    "        We can set it to some specific value as well , ie 0.30 [30th percentile value]\n",
    "\n",
    "na.rm : A logical value indicating whether missing values (NA) should be removed from x before computation. \n",
    "        If set to TRUE, missing values will be removed.\n",
    "\n",
    "\""
   ]
  },
  {
   "cell_type": "code",
   "execution_count": 13,
   "id": "77d71f19",
   "metadata": {},
   "outputs": [],
   "source": [
    "help(cat)\n",
    "\n",
    "## Concatenate and Print"
   ]
  },
  {
   "cell_type": "code",
   "execution_count": 12,
   "id": "5a54d83a",
   "metadata": {},
   "outputs": [
    {
     "data": {
      "text/html": [
       "<pre class=language-r><code>function (..., file = \"\", sep = \" \", fill = FALSE, labels = NULL, \n",
       "<span style=white-space:pre-wrap>    append = FALSE) </span>\n",
       "NULL</code></pre>"
      ],
      "text/latex": [
       "\\begin{minted}{r}\n",
       "function (..., file = \"\", sep = \" \", fill = FALSE, labels = NULL, \n",
       "    append = FALSE) \n",
       "NULL\n",
       "\\end{minted}"
      ],
      "text/markdown": [
       "```r\n",
       "function (..., file = \"\", sep = \" \", fill = FALSE, labels = NULL, \n",
       "    append = FALSE) \n",
       "NULL\n",
       "```"
      ],
      "text/plain": [
       "function (..., file = \"\", sep = \" \", fill = FALSE, labels = NULL, \n",
       "    append = FALSE) \n",
       "NULL"
      ]
     },
     "metadata": {},
     "output_type": "display_data"
    }
   ],
   "source": [
    "args(cat)\n",
    "\n",
    "## cat() is a base-R function() ..\n",
    "        \n",
    "## we can perform concatenation using cat() function \n",
    "## with the help of which we can perform character-wise concatenation "
   ]
  },
  {
   "cell_type": "code",
   "execution_count": 20,
   "id": "2bff3775",
   "metadata": {},
   "outputs": [
    {
     "name": "stdout",
     "output_type": "stream",
     "text": [
      "feature name:  lead_time\n",
      "90 quantile value is 204\n",
      "91 quantile value is 212\n",
      "92 quantile value is 220\n",
      "93 quantile value is 230\n",
      "94 quantile value is 241\n",
      "95 quantile value is 256\n",
      "96 quantile value is 272\n",
      "97 quantile value is 291\n",
      "98 quantile value is 315\n",
      "99 quantile value is 347\n",
      "100 quantile value is 737\n",
      "\n",
      "feature name:  adr\n",
      "90 quantile value is 174\n",
      "91 quantile value is 179\n",
      "92 quantile value is 185\n",
      "93 quantile value is 190\n",
      "94 quantile value is 197.1\n",
      "95 quantile value is 204.133\n",
      "96 quantile value is 213\n",
      "97 quantile value is 225\n",
      "98 quantile value is 239\n",
      "99 quantile value is 261.6207\n",
      "100 quantile value is 5400\n",
      "\n",
      "feature name:  total_of_special_requests\n",
      "90 quantile value is 2\n",
      "91 quantile value is 2\n",
      "92 quantile value is 2\n",
      "93 quantile value is 2\n",
      "94 quantile value is 2\n",
      "95 quantile value is 2\n",
      "96 quantile value is 2\n",
      "97 quantile value is 3\n",
      "98 quantile value is 3\n",
      "99 quantile value is 3\n",
      "100 quantile value is 5\n",
      "\n"
     ]
    }
   ],
   "source": [
    "feature_vector = c('lead_time', 'adr', 'total_of_special_requests')\n",
    "\n",
    "for (col in feature_vector) \n",
    "{\n",
    "    ## The cat() is used for concatenating and printing multiple values\n",
    "  cat(\"feature name: \", col) ## cat(\"feature name: \", col, \"\\n\")\n",
    "  cat('\\n')\n",
    "  for (i in seq(from = 90, to = 100, by = 1)) \n",
    "  {\n",
    "    quantile_value = quantile(data[[col]], probs = i/100)\n",
    "    cat(i, \"quantile value is\", quantile_value)\n",
    "    ## or use this : cat(i, \"quantile value is\", quantile_value, \"\\n\")\n",
    "      \n",
    "    cat(\"\\n\")\n",
    "    \n",
    "  }\n",
    "  \n",
    "  cat('\\n')\n",
    "}\n",
    "\n",
    "### by using data$col , it is actually returning NA for quantile values "
   ]
  },
  {
   "cell_type": "code",
   "execution_count": null,
   "id": "7afb5799-41fb-4bad-a5e3-24049d5f9dba",
   "metadata": {},
   "outputs": [],
   "source": [
    "\"\n",
    "\n",
    "by using data$col , it is actually returning NA for quantile values ..\n",
    "\n",
    "Why data[[col]] in below code instead of data$col :\n",
    "quantile_value = quantile(data[[col]], probs = i/100)\n",
    "\n",
    "\n",
    "\n",
    "\n",
    "Here's a simple explanation:\n",
    "\n",
    "data$col :  This is used when you know the exact name of the column you want, and you provide it directly. \n",
    "            It's like saying, \"Give me the column named y_axis_fea from the data frame df..\"\n",
    "\n",
    "data[[col]] : This is used when the column name is stored in a variable (col in this case).. \n",
    "              or the column name is generated dynamically using some operation..\n",
    "              It's like saying \"Give me the column whose name is stored in the variable \"col\" from the data frame data\"\n",
    "              ie , Here \"col\" is a variable containing the column name, thats why we will use data[[col]]\n",
    "              As we are accessing col-name via loop , hence we don't know col-name , thats why its good to use data[[col]]\n",
    "\n",
    "Summary:\n",
    "\n",
    "data$col: Use when you know the exact column name.\n",
    "data[[col]]: Use when the column name is stored in a variable or generated dynamically.\n",
    "\n",
    "\n",
    "data[col] ->> is used if u want o/p in dataframe else everything is same..\n",
    "\n",
    "\n",
    "\n",
    "\""
   ]
  },
  {
   "cell_type": "code",
   "execution_count": null,
   "id": "f571fe80",
   "metadata": {},
   "outputs": [],
   "source": []
  },
  {
   "cell_type": "code",
   "execution_count": null,
   "id": "fc029f7b",
   "metadata": {},
   "outputs": [],
   "source": [
    "'''\n",
    "\n",
    "\"adr\" feature seems to have Outlier as 99th percentile value is 261 but 100th percentile(max value) is 5400 .. \n",
    "\n",
    "\n",
    "'''"
   ]
  },
  {
   "cell_type": "code",
   "execution_count": null,
   "id": "055ff027",
   "metadata": {},
   "outputs": [],
   "source": []
  },
  {
   "cell_type": "code",
   "execution_count": null,
   "id": "921e06ed",
   "metadata": {},
   "outputs": [],
   "source": []
  },
  {
   "cell_type": "code",
   "execution_count": null,
   "id": "f706fa3f",
   "metadata": {},
   "outputs": [],
   "source": []
  },
  {
   "cell_type": "code",
   "execution_count": null,
   "id": "8c5e6fb4",
   "metadata": {},
   "outputs": [],
   "source": []
  },
  {
   "cell_type": "markdown",
   "id": "592df881",
   "metadata": {},
   "source": [
    "## 4.. Home country of Guests, perform Spatial Analysis\n",
    "        Where do the guests come from ?"
   ]
  },
  {
   "cell_type": "code",
   "execution_count": 21,
   "id": "63c31458",
   "metadata": {},
   "outputs": [],
   "source": [
    "not_cancelled = data[data$is_canceled==0 , ] ## data[rows , cols]"
   ]
  },
  {
   "cell_type": "code",
   "execution_count": null,
   "id": "f37d3332",
   "metadata": {},
   "outputs": [],
   "source": []
  },
  {
   "cell_type": "code",
   "execution_count": null,
   "id": "74c92024",
   "metadata": {},
   "outputs": [],
   "source": [
    "help(table)\n",
    "\n",
    "## belongs to base package \n",
    "## Cross Tabulation and Table Creation "
   ]
  },
  {
   "cell_type": "code",
   "execution_count": 1,
   "id": "66423632",
   "metadata": {},
   "outputs": [
    {
     "data": {
      "text/html": [
       "<pre class=language-r><code>function (..., exclude = if (useNA == \"no\") c(NA, NaN), useNA = c(\"no\", \n",
       "<span style=white-space:pre-wrap>    \"ifany\", \"always\"), dnn = list.names(...), deparse.level = 1) </span>\n",
       "NULL</code></pre>"
      ],
      "text/latex": [
       "\\begin{minted}{r}\n",
       "function (..., exclude = if (useNA == \"no\") c(NA, NaN), useNA = c(\"no\", \n",
       "    \"ifany\", \"always\"), dnn = list.names(...), deparse.level = 1) \n",
       "NULL\n",
       "\\end{minted}"
      ],
      "text/markdown": [
       "```r\n",
       "function (..., exclude = if (useNA == \"no\") c(NA, NaN), useNA = c(\"no\", \n",
       "    \"ifany\", \"always\"), dnn = list.names(...), deparse.level = 1) \n",
       "NULL\n",
       "```"
      ],
      "text/plain": [
       "function (..., exclude = if (useNA == \"no\") c(NA, NaN), useNA = c(\"no\", \n",
       "    \"ifany\", \"always\"), dnn = list.names(...), deparse.level = 1) \n",
       "NULL"
      ]
     },
     "metadata": {},
     "output_type": "display_data"
    }
   ],
   "source": [
    "args(table)"
   ]
  },
  {
   "cell_type": "code",
   "execution_count": null,
   "id": "de9488cc",
   "metadata": {},
   "outputs": [],
   "source": [
    "\"\n",
    "\n",
    "table(...,\n",
    "      exclude = if (useNA == \"no\") c(NA, NaN),\n",
    "      useNA = c(\"no\", \"ifany\", \"always\"),\n",
    "      dnn = list.names(...), deparse.level = 1)\n",
    "\n",
    "\n",
    "\n",
    "\n",
    "... : This refers to the variables for which you want to create the frequency table.. \n",
    "        You can provide one or more variables separated by commas..\n",
    "\n",
    "exclude : This parameter allows you to specify which values should be excluded from the table. \n",
    "          By default, if useNA is set to \"no\", it excludes NA and NaN values.\n",
    "          However, you can override this behavior by specifying the values you want to exclude explicitly..\n",
    "\n",
    "useNA : This parameter determines how NA values should be handled. It can take three values:\n",
    "        \"no\" : Excludes NA values from the table.\n",
    "        \"ifany\" : Includes NA values in the table if they are present.\n",
    "        \"always\" : Treats NA values as a separate category and includes them in the table.\n",
    "\n",
    "\n",
    "\n",
    "\n",
    "\""
   ]
  },
  {
   "cell_type": "code",
   "execution_count": 22,
   "id": "31117612",
   "metadata": {},
   "outputs": [
    {
     "data": {
      "text/plain": [
       "\n",
       "  ABW   AGO   AIA   ALB   AND   ARE   ARG   ARM   ASM   ATA   ATF   AUS   AUT \n",
       "    2   149     1     9     2     7   152     6     1     2     1   286   777 \n",
       "  AZE   BDI   BEL   BFA   BGD   BGR   BHR   BHS   BIH   BLR   BOL   BRA   BRB \n",
       "    8     1  1670     1     3    59     1     1     9    16     3  1266     2 \n",
       "  BWA   CAF   CHE   CHL   CHN   CIV   CMR    CN   COL   COM   CPV   CRI   CUB \n",
       "    1     5  1182    49   424     4    10   868    46     2    11    17     8 \n",
       "  CYM   CYP   CZE   DEU   DJI   DMA   DNK   DOM   DZA   ECU   EGY   ESP   EST \n",
       "    1    36   103  4332     1     1   293     6    61    18    21  5382    61 \n",
       "  ETH   FIN   FRA   FRO   GAB   GBR   GEO   GHA   GIB   GNB   GRC   GTM   GUY \n",
       "    2   357  7091     1     2  8440     5     2     4     8    84     3     1 \n",
       "  HKG   HRV   HUN   IDN   IND   IRL   IRN   IRQ   ISL   ISR   ITA   JAM   JOR \n",
       "    2    68   137    11   108  2347    57    11    22   270  1986     6    16 \n",
       "  JPN   KAZ   KEN   KIR   KNA   KOR   KWT   LAO   LBN   LBY   LCA   LIE   LKA \n",
       "  158    14     4     1     2    76    10     2    22     8     1     2     6 \n",
       "  LTU   LUX   LVA   MAC   MAR   MCO   MDG   MDV   MEX   MKD   MLI   MLT   MMR \n",
       "   66   158    43     1   128     3     1     3    65     7     1    12     1 \n",
       "  MNE   MOZ   MRT   MUS   MWI   MYS   NAM   NCL   NGA   NLD   NOR   NPL  NULL \n",
       "    3    39     1     6     2    21     1     1    13  1560   370     1   418 \n",
       "  NZL   OMN   PAK   PAN   PER   PHL   PLW   POL   PRI   PRT   PRY   PYF   QAT \n",
       "   59    14     5     8    20    13     1   600    10 17573     4     1     4 \n",
       "  ROU   RUS   RWA   SAU   SDN   SEN   SGP   SLE   SLV   SMR   SRB   STP   SUR \n",
       "  340   337     2    15     1     3    21     1     2     1    51     2     5 \n",
       "  SVK   SVN   SWE   SYC   SYR   TGO   THA   TJK   TMP   TUN   TUR   TWN   TZA \n",
       "   38    34   656     1     3     2    24     1     2    19   116    30     2 \n",
       "  UGA   UKR   URY   USA   UZB   VEN   VNM   ZAF   ZMB   ZWE \n",
       "    2    42    21  1412     2    13     6    49     1     2 "
      ]
     },
     "metadata": {},
     "output_type": "display_data"
    }
   ],
   "source": [
    "table(not_cancelled$country) ## freq_table "
   ]
  },
  {
   "cell_type": "code",
   "execution_count": 23,
   "id": "61e905ce",
   "metadata": {},
   "outputs": [
    {
     "data": {
      "text/html": [
       "<table class=\"dataframe\">\n",
       "<caption>A data.frame: 166 × 2</caption>\n",
       "<thead>\n",
       "\t<tr><th scope=col>country</th><th scope=col>No_of_guests</th></tr>\n",
       "\t<tr><th scope=col>&lt;fct&gt;</th><th scope=col>&lt;int&gt;</th></tr>\n",
       "</thead>\n",
       "<tbody>\n",
       "\t<tr><td>ABW</td><td>   2</td></tr>\n",
       "\t<tr><td>AGO</td><td> 149</td></tr>\n",
       "\t<tr><td>AIA</td><td>   1</td></tr>\n",
       "\t<tr><td>ALB</td><td>   9</td></tr>\n",
       "\t<tr><td>AND</td><td>   2</td></tr>\n",
       "\t<tr><td>ARE</td><td>   7</td></tr>\n",
       "\t<tr><td>ARG</td><td> 152</td></tr>\n",
       "\t<tr><td>ARM</td><td>   6</td></tr>\n",
       "\t<tr><td>ASM</td><td>   1</td></tr>\n",
       "\t<tr><td>ATA</td><td>   2</td></tr>\n",
       "\t<tr><td>ATF</td><td>   1</td></tr>\n",
       "\t<tr><td>AUS</td><td> 286</td></tr>\n",
       "\t<tr><td>AUT</td><td> 777</td></tr>\n",
       "\t<tr><td>AZE</td><td>   8</td></tr>\n",
       "\t<tr><td>BDI</td><td>   1</td></tr>\n",
       "\t<tr><td>BEL</td><td>1670</td></tr>\n",
       "\t<tr><td>BFA</td><td>   1</td></tr>\n",
       "\t<tr><td>BGD</td><td>   3</td></tr>\n",
       "\t<tr><td>BGR</td><td>  59</td></tr>\n",
       "\t<tr><td>BHR</td><td>   1</td></tr>\n",
       "\t<tr><td>BHS</td><td>   1</td></tr>\n",
       "\t<tr><td>BIH</td><td>   9</td></tr>\n",
       "\t<tr><td>BLR</td><td>  16</td></tr>\n",
       "\t<tr><td>BOL</td><td>   3</td></tr>\n",
       "\t<tr><td>BRA</td><td>1266</td></tr>\n",
       "\t<tr><td>BRB</td><td>   2</td></tr>\n",
       "\t<tr><td>BWA</td><td>   1</td></tr>\n",
       "\t<tr><td>CAF</td><td>   5</td></tr>\n",
       "\t<tr><td>CHE</td><td>1182</td></tr>\n",
       "\t<tr><td>CHL</td><td>  49</td></tr>\n",
       "\t<tr><td>...</td><td>...</td></tr>\n",
       "\t<tr><td>SGP</td><td>  21</td></tr>\n",
       "\t<tr><td>SLE</td><td>   1</td></tr>\n",
       "\t<tr><td>SLV</td><td>   2</td></tr>\n",
       "\t<tr><td>SMR</td><td>   1</td></tr>\n",
       "\t<tr><td>SRB</td><td>  51</td></tr>\n",
       "\t<tr><td>STP</td><td>   2</td></tr>\n",
       "\t<tr><td>SUR</td><td>   5</td></tr>\n",
       "\t<tr><td>SVK</td><td>  38</td></tr>\n",
       "\t<tr><td>SVN</td><td>  34</td></tr>\n",
       "\t<tr><td>SWE</td><td> 656</td></tr>\n",
       "\t<tr><td>SYC</td><td>   1</td></tr>\n",
       "\t<tr><td>SYR</td><td>   3</td></tr>\n",
       "\t<tr><td>TGO</td><td>   2</td></tr>\n",
       "\t<tr><td>THA</td><td>  24</td></tr>\n",
       "\t<tr><td>TJK</td><td>   1</td></tr>\n",
       "\t<tr><td>TMP</td><td>   2</td></tr>\n",
       "\t<tr><td>TUN</td><td>  19</td></tr>\n",
       "\t<tr><td>TUR</td><td> 116</td></tr>\n",
       "\t<tr><td>TWN</td><td>  30</td></tr>\n",
       "\t<tr><td>TZA</td><td>   2</td></tr>\n",
       "\t<tr><td>UGA</td><td>   2</td></tr>\n",
       "\t<tr><td>UKR</td><td>  42</td></tr>\n",
       "\t<tr><td>URY</td><td>  21</td></tr>\n",
       "\t<tr><td>USA</td><td>1412</td></tr>\n",
       "\t<tr><td>UZB</td><td>   2</td></tr>\n",
       "\t<tr><td>VEN</td><td>  13</td></tr>\n",
       "\t<tr><td>VNM</td><td>   6</td></tr>\n",
       "\t<tr><td>ZAF</td><td>  49</td></tr>\n",
       "\t<tr><td>ZMB</td><td>   1</td></tr>\n",
       "\t<tr><td>ZWE</td><td>   2</td></tr>\n",
       "</tbody>\n",
       "</table>\n"
      ],
      "text/latex": [
       "A data.frame: 166 × 2\n",
       "\\begin{tabular}{ll}\n",
       " country & No\\_of\\_guests\\\\\n",
       " <fct> & <int>\\\\\n",
       "\\hline\n",
       "\t ABW &    2\\\\\n",
       "\t AGO &  149\\\\\n",
       "\t AIA &    1\\\\\n",
       "\t ALB &    9\\\\\n",
       "\t AND &    2\\\\\n",
       "\t ARE &    7\\\\\n",
       "\t ARG &  152\\\\\n",
       "\t ARM &    6\\\\\n",
       "\t ASM &    1\\\\\n",
       "\t ATA &    2\\\\\n",
       "\t ATF &    1\\\\\n",
       "\t AUS &  286\\\\\n",
       "\t AUT &  777\\\\\n",
       "\t AZE &    8\\\\\n",
       "\t BDI &    1\\\\\n",
       "\t BEL & 1670\\\\\n",
       "\t BFA &    1\\\\\n",
       "\t BGD &    3\\\\\n",
       "\t BGR &   59\\\\\n",
       "\t BHR &    1\\\\\n",
       "\t BHS &    1\\\\\n",
       "\t BIH &    9\\\\\n",
       "\t BLR &   16\\\\\n",
       "\t BOL &    3\\\\\n",
       "\t BRA & 1266\\\\\n",
       "\t BRB &    2\\\\\n",
       "\t BWA &    1\\\\\n",
       "\t CAF &    5\\\\\n",
       "\t CHE & 1182\\\\\n",
       "\t CHL &   49\\\\\n",
       "\t ... & ...\\\\\n",
       "\t SGP &   21\\\\\n",
       "\t SLE &    1\\\\\n",
       "\t SLV &    2\\\\\n",
       "\t SMR &    1\\\\\n",
       "\t SRB &   51\\\\\n",
       "\t STP &    2\\\\\n",
       "\t SUR &    5\\\\\n",
       "\t SVK &   38\\\\\n",
       "\t SVN &   34\\\\\n",
       "\t SWE &  656\\\\\n",
       "\t SYC &    1\\\\\n",
       "\t SYR &    3\\\\\n",
       "\t TGO &    2\\\\\n",
       "\t THA &   24\\\\\n",
       "\t TJK &    1\\\\\n",
       "\t TMP &    2\\\\\n",
       "\t TUN &   19\\\\\n",
       "\t TUR &  116\\\\\n",
       "\t TWN &   30\\\\\n",
       "\t TZA &    2\\\\\n",
       "\t UGA &    2\\\\\n",
       "\t UKR &   42\\\\\n",
       "\t URY &   21\\\\\n",
       "\t USA & 1412\\\\\n",
       "\t UZB &    2\\\\\n",
       "\t VEN &   13\\\\\n",
       "\t VNM &    6\\\\\n",
       "\t ZAF &   49\\\\\n",
       "\t ZMB &    1\\\\\n",
       "\t ZWE &    2\\\\\n",
       "\\end{tabular}\n"
      ],
      "text/markdown": [
       "\n",
       "A data.frame: 166 × 2\n",
       "\n",
       "| country &lt;fct&gt; | No_of_guests &lt;int&gt; |\n",
       "|---|---|\n",
       "| ABW |    2 |\n",
       "| AGO |  149 |\n",
       "| AIA |    1 |\n",
       "| ALB |    9 |\n",
       "| AND |    2 |\n",
       "| ARE |    7 |\n",
       "| ARG |  152 |\n",
       "| ARM |    6 |\n",
       "| ASM |    1 |\n",
       "| ATA |    2 |\n",
       "| ATF |    1 |\n",
       "| AUS |  286 |\n",
       "| AUT |  777 |\n",
       "| AZE |    8 |\n",
       "| BDI |    1 |\n",
       "| BEL | 1670 |\n",
       "| BFA |    1 |\n",
       "| BGD |    3 |\n",
       "| BGR |   59 |\n",
       "| BHR |    1 |\n",
       "| BHS |    1 |\n",
       "| BIH |    9 |\n",
       "| BLR |   16 |\n",
       "| BOL |    3 |\n",
       "| BRA | 1266 |\n",
       "| BRB |    2 |\n",
       "| BWA |    1 |\n",
       "| CAF |    5 |\n",
       "| CHE | 1182 |\n",
       "| CHL |   49 |\n",
       "| ... | ... |\n",
       "| SGP |   21 |\n",
       "| SLE |    1 |\n",
       "| SLV |    2 |\n",
       "| SMR |    1 |\n",
       "| SRB |   51 |\n",
       "| STP |    2 |\n",
       "| SUR |    5 |\n",
       "| SVK |   38 |\n",
       "| SVN |   34 |\n",
       "| SWE |  656 |\n",
       "| SYC |    1 |\n",
       "| SYR |    3 |\n",
       "| TGO |    2 |\n",
       "| THA |   24 |\n",
       "| TJK |    1 |\n",
       "| TMP |    2 |\n",
       "| TUN |   19 |\n",
       "| TUR |  116 |\n",
       "| TWN |   30 |\n",
       "| TZA |    2 |\n",
       "| UGA |    2 |\n",
       "| UKR |   42 |\n",
       "| URY |   21 |\n",
       "| USA | 1412 |\n",
       "| UZB |    2 |\n",
       "| VEN |   13 |\n",
       "| VNM |    6 |\n",
       "| ZAF |   49 |\n",
       "| ZMB |    1 |\n",
       "| ZWE |    2 |\n",
       "\n"
      ],
      "text/plain": [
       "    country No_of_guests\n",
       "1   ABW        2        \n",
       "2   AGO      149        \n",
       "3   AIA        1        \n",
       "4   ALB        9        \n",
       "5   AND        2        \n",
       "6   ARE        7        \n",
       "7   ARG      152        \n",
       "8   ARM        6        \n",
       "9   ASM        1        \n",
       "10  ATA        2        \n",
       "11  ATF        1        \n",
       "12  AUS      286        \n",
       "13  AUT      777        \n",
       "14  AZE        8        \n",
       "15  BDI        1        \n",
       "16  BEL     1670        \n",
       "17  BFA        1        \n",
       "18  BGD        3        \n",
       "19  BGR       59        \n",
       "20  BHR        1        \n",
       "21  BHS        1        \n",
       "22  BIH        9        \n",
       "23  BLR       16        \n",
       "24  BOL        3        \n",
       "25  BRA     1266        \n",
       "26  BRB        2        \n",
       "27  BWA        1        \n",
       "28  CAF        5        \n",
       "29  CHE     1182        \n",
       "30  CHL       49        \n",
       "... ...     ...         \n",
       "137 SGP       21        \n",
       "138 SLE        1        \n",
       "139 SLV        2        \n",
       "140 SMR        1        \n",
       "141 SRB       51        \n",
       "142 STP        2        \n",
       "143 SUR        5        \n",
       "144 SVK       38        \n",
       "145 SVN       34        \n",
       "146 SWE      656        \n",
       "147 SYC        1        \n",
       "148 SYR        3        \n",
       "149 TGO        2        \n",
       "150 THA       24        \n",
       "151 TJK        1        \n",
       "152 TMP        2        \n",
       "153 TUN       19        \n",
       "154 TUR      116        \n",
       "155 TWN       30        \n",
       "156 TZA        2        \n",
       "157 UGA        2        \n",
       "158 UKR       42        \n",
       "159 URY       21        \n",
       "160 USA     1412        \n",
       "161 UZB        2        \n",
       "162 VEN       13        \n",
       "163 VNM        6        \n",
       "164 ZAF       49        \n",
       "165 ZMB        1        \n",
       "166 ZWE        2        "
      ]
     },
     "metadata": {},
     "output_type": "display_data"
    }
   ],
   "source": [
    "country_wise_data  = as.data.frame(table(not_cancelled$country))\n",
    "names(country_wise_data) = c('country','No_of_guests')\n",
    "country_wise_data"
   ]
  },
  {
   "cell_type": "code",
   "execution_count": null,
   "id": "0ecc3baa",
   "metadata": {},
   "outputs": [],
   "source": []
  },
  {
   "cell_type": "code",
   "execution_count": 15,
   "id": "f86349cd",
   "metadata": {},
   "outputs": [],
   "source": [
    "library(dplyr)"
   ]
  },
  {
   "cell_type": "code",
   "execution_count": null,
   "id": "ecff6c6d",
   "metadata": {},
   "outputs": [],
   "source": [
    "help(arrange)\n",
    "\n",
    "### orders the rows of a data frame by the values of selected columns.."
   ]
  },
  {
   "cell_type": "code",
   "execution_count": null,
   "id": "2bb511c3",
   "metadata": {},
   "outputs": [],
   "source": [
    "\"\n",
    "\n",
    "function (.data, ..., .by_group = FALSE)\n",
    "    .data : dataframe on which we are working \n",
    "    ... :  <data-masking> Variables, or functions of variables. \n",
    "            Use desc() to sort a variable in descending order\n",
    "\n",
    "\""
   ]
  },
  {
   "cell_type": "code",
   "execution_count": 9,
   "id": "750d213a",
   "metadata": {},
   "outputs": [
    {
     "data": {
      "text/html": [
       "<pre class=language-r><code>function (.data, ..., .by_group = FALSE) \n",
       "NULL</code></pre>"
      ],
      "text/latex": [
       "\\begin{minted}{r}\n",
       "function (.data, ..., .by\\_group = FALSE) \n",
       "NULL\n",
       "\\end{minted}"
      ],
      "text/markdown": [
       "```r\n",
       "function (.data, ..., .by_group = FALSE) \n",
       "NULL\n",
       "```"
      ],
      "text/plain": [
       "function (.data, ..., .by_group = FALSE) \n",
       "NULL"
      ]
     },
     "metadata": {},
     "output_type": "display_data"
    }
   ],
   "source": [
    "args(arrange)"
   ]
  },
  {
   "cell_type": "markdown",
   "id": "2969ea36",
   "metadata": {},
   "source": [
    "    .data: This is the data frame or tibble you want to arrange."
   ]
  },
  {
   "cell_type": "code",
   "execution_count": null,
   "id": "53854a44",
   "metadata": {},
   "outputs": [],
   "source": []
  },
  {
   "cell_type": "code",
   "execution_count": 25,
   "id": "e0d80475",
   "metadata": {},
   "outputs": [
    {
     "data": {
      "text/html": [
       "<table class=\"dataframe\">\n",
       "<caption>A data.frame: 166 × 2</caption>\n",
       "<thead>\n",
       "\t<tr><th scope=col>country</th><th scope=col>No_of_guests</th></tr>\n",
       "\t<tr><th scope=col>&lt;fct&gt;</th><th scope=col>&lt;int&gt;</th></tr>\n",
       "</thead>\n",
       "<tbody>\n",
       "\t<tr><td>PRT </td><td>17573</td></tr>\n",
       "\t<tr><td>GBR </td><td> 8440</td></tr>\n",
       "\t<tr><td>FRA </td><td> 7091</td></tr>\n",
       "\t<tr><td>ESP </td><td> 5382</td></tr>\n",
       "\t<tr><td>DEU </td><td> 4332</td></tr>\n",
       "\t<tr><td>IRL </td><td> 2347</td></tr>\n",
       "\t<tr><td>ITA </td><td> 1986</td></tr>\n",
       "\t<tr><td>BEL </td><td> 1670</td></tr>\n",
       "\t<tr><td>NLD </td><td> 1560</td></tr>\n",
       "\t<tr><td>USA </td><td> 1412</td></tr>\n",
       "\t<tr><td>BRA </td><td> 1266</td></tr>\n",
       "\t<tr><td>CHE </td><td> 1182</td></tr>\n",
       "\t<tr><td>CN  </td><td>  868</td></tr>\n",
       "\t<tr><td>AUT </td><td>  777</td></tr>\n",
       "\t<tr><td>SWE </td><td>  656</td></tr>\n",
       "\t<tr><td>POL </td><td>  600</td></tr>\n",
       "\t<tr><td>CHN </td><td>  424</td></tr>\n",
       "\t<tr><td>NULL</td><td>  418</td></tr>\n",
       "\t<tr><td>NOR </td><td>  370</td></tr>\n",
       "\t<tr><td>FIN </td><td>  357</td></tr>\n",
       "\t<tr><td>ROU </td><td>  340</td></tr>\n",
       "\t<tr><td>RUS </td><td>  337</td></tr>\n",
       "\t<tr><td>DNK </td><td>  293</td></tr>\n",
       "\t<tr><td>AUS </td><td>  286</td></tr>\n",
       "\t<tr><td>ISR </td><td>  270</td></tr>\n",
       "\t<tr><td>JPN </td><td>  158</td></tr>\n",
       "\t<tr><td>LUX </td><td>  158</td></tr>\n",
       "\t<tr><td>ARG </td><td>  152</td></tr>\n",
       "\t<tr><td>AGO </td><td>  149</td></tr>\n",
       "\t<tr><td>HUN </td><td>  137</td></tr>\n",
       "\t<tr><td>...</td><td>...</td></tr>\n",
       "\t<tr><td>ASM</td><td>1</td></tr>\n",
       "\t<tr><td>ATF</td><td>1</td></tr>\n",
       "\t<tr><td>BDI</td><td>1</td></tr>\n",
       "\t<tr><td>BFA</td><td>1</td></tr>\n",
       "\t<tr><td>BHR</td><td>1</td></tr>\n",
       "\t<tr><td>BHS</td><td>1</td></tr>\n",
       "\t<tr><td>BWA</td><td>1</td></tr>\n",
       "\t<tr><td>CYM</td><td>1</td></tr>\n",
       "\t<tr><td>DJI</td><td>1</td></tr>\n",
       "\t<tr><td>DMA</td><td>1</td></tr>\n",
       "\t<tr><td>FRO</td><td>1</td></tr>\n",
       "\t<tr><td>GUY</td><td>1</td></tr>\n",
       "\t<tr><td>KIR</td><td>1</td></tr>\n",
       "\t<tr><td>LCA</td><td>1</td></tr>\n",
       "\t<tr><td>MAC</td><td>1</td></tr>\n",
       "\t<tr><td>MDG</td><td>1</td></tr>\n",
       "\t<tr><td>MLI</td><td>1</td></tr>\n",
       "\t<tr><td>MMR</td><td>1</td></tr>\n",
       "\t<tr><td>MRT</td><td>1</td></tr>\n",
       "\t<tr><td>NAM</td><td>1</td></tr>\n",
       "\t<tr><td>NCL</td><td>1</td></tr>\n",
       "\t<tr><td>NPL</td><td>1</td></tr>\n",
       "\t<tr><td>PLW</td><td>1</td></tr>\n",
       "\t<tr><td>PYF</td><td>1</td></tr>\n",
       "\t<tr><td>SDN</td><td>1</td></tr>\n",
       "\t<tr><td>SLE</td><td>1</td></tr>\n",
       "\t<tr><td>SMR</td><td>1</td></tr>\n",
       "\t<tr><td>SYC</td><td>1</td></tr>\n",
       "\t<tr><td>TJK</td><td>1</td></tr>\n",
       "\t<tr><td>ZMB</td><td>1</td></tr>\n",
       "</tbody>\n",
       "</table>\n"
      ],
      "text/latex": [
       "A data.frame: 166 × 2\n",
       "\\begin{tabular}{ll}\n",
       " country & No\\_of\\_guests\\\\\n",
       " <fct> & <int>\\\\\n",
       "\\hline\n",
       "\t PRT  & 17573\\\\\n",
       "\t GBR  &  8440\\\\\n",
       "\t FRA  &  7091\\\\\n",
       "\t ESP  &  5382\\\\\n",
       "\t DEU  &  4332\\\\\n",
       "\t IRL  &  2347\\\\\n",
       "\t ITA  &  1986\\\\\n",
       "\t BEL  &  1670\\\\\n",
       "\t NLD  &  1560\\\\\n",
       "\t USA  &  1412\\\\\n",
       "\t BRA  &  1266\\\\\n",
       "\t CHE  &  1182\\\\\n",
       "\t CN   &   868\\\\\n",
       "\t AUT  &   777\\\\\n",
       "\t SWE  &   656\\\\\n",
       "\t POL  &   600\\\\\n",
       "\t CHN  &   424\\\\\n",
       "\t NULL &   418\\\\\n",
       "\t NOR  &   370\\\\\n",
       "\t FIN  &   357\\\\\n",
       "\t ROU  &   340\\\\\n",
       "\t RUS  &   337\\\\\n",
       "\t DNK  &   293\\\\\n",
       "\t AUS  &   286\\\\\n",
       "\t ISR  &   270\\\\\n",
       "\t JPN  &   158\\\\\n",
       "\t LUX  &   158\\\\\n",
       "\t ARG  &   152\\\\\n",
       "\t AGO  &   149\\\\\n",
       "\t HUN  &   137\\\\\n",
       "\t ... & ...\\\\\n",
       "\t ASM & 1\\\\\n",
       "\t ATF & 1\\\\\n",
       "\t BDI & 1\\\\\n",
       "\t BFA & 1\\\\\n",
       "\t BHR & 1\\\\\n",
       "\t BHS & 1\\\\\n",
       "\t BWA & 1\\\\\n",
       "\t CYM & 1\\\\\n",
       "\t DJI & 1\\\\\n",
       "\t DMA & 1\\\\\n",
       "\t FRO & 1\\\\\n",
       "\t GUY & 1\\\\\n",
       "\t KIR & 1\\\\\n",
       "\t LCA & 1\\\\\n",
       "\t MAC & 1\\\\\n",
       "\t MDG & 1\\\\\n",
       "\t MLI & 1\\\\\n",
       "\t MMR & 1\\\\\n",
       "\t MRT & 1\\\\\n",
       "\t NAM & 1\\\\\n",
       "\t NCL & 1\\\\\n",
       "\t NPL & 1\\\\\n",
       "\t PLW & 1\\\\\n",
       "\t PYF & 1\\\\\n",
       "\t SDN & 1\\\\\n",
       "\t SLE & 1\\\\\n",
       "\t SMR & 1\\\\\n",
       "\t SYC & 1\\\\\n",
       "\t TJK & 1\\\\\n",
       "\t ZMB & 1\\\\\n",
       "\\end{tabular}\n"
      ],
      "text/markdown": [
       "\n",
       "A data.frame: 166 × 2\n",
       "\n",
       "| country &lt;fct&gt; | No_of_guests &lt;int&gt; |\n",
       "|---|---|\n",
       "| PRT  | 17573 |\n",
       "| GBR  |  8440 |\n",
       "| FRA  |  7091 |\n",
       "| ESP  |  5382 |\n",
       "| DEU  |  4332 |\n",
       "| IRL  |  2347 |\n",
       "| ITA  |  1986 |\n",
       "| BEL  |  1670 |\n",
       "| NLD  |  1560 |\n",
       "| USA  |  1412 |\n",
       "| BRA  |  1266 |\n",
       "| CHE  |  1182 |\n",
       "| CN   |   868 |\n",
       "| AUT  |   777 |\n",
       "| SWE  |   656 |\n",
       "| POL  |   600 |\n",
       "| CHN  |   424 |\n",
       "| NULL |   418 |\n",
       "| NOR  |   370 |\n",
       "| FIN  |   357 |\n",
       "| ROU  |   340 |\n",
       "| RUS  |   337 |\n",
       "| DNK  |   293 |\n",
       "| AUS  |   286 |\n",
       "| ISR  |   270 |\n",
       "| JPN  |   158 |\n",
       "| LUX  |   158 |\n",
       "| ARG  |   152 |\n",
       "| AGO  |   149 |\n",
       "| HUN  |   137 |\n",
       "| ... | ... |\n",
       "| ASM | 1 |\n",
       "| ATF | 1 |\n",
       "| BDI | 1 |\n",
       "| BFA | 1 |\n",
       "| BHR | 1 |\n",
       "| BHS | 1 |\n",
       "| BWA | 1 |\n",
       "| CYM | 1 |\n",
       "| DJI | 1 |\n",
       "| DMA | 1 |\n",
       "| FRO | 1 |\n",
       "| GUY | 1 |\n",
       "| KIR | 1 |\n",
       "| LCA | 1 |\n",
       "| MAC | 1 |\n",
       "| MDG | 1 |\n",
       "| MLI | 1 |\n",
       "| MMR | 1 |\n",
       "| MRT | 1 |\n",
       "| NAM | 1 |\n",
       "| NCL | 1 |\n",
       "| NPL | 1 |\n",
       "| PLW | 1 |\n",
       "| PYF | 1 |\n",
       "| SDN | 1 |\n",
       "| SLE | 1 |\n",
       "| SMR | 1 |\n",
       "| SYC | 1 |\n",
       "| TJK | 1 |\n",
       "| ZMB | 1 |\n",
       "\n"
      ],
      "text/plain": [
       "    country No_of_guests\n",
       "1   PRT     17573       \n",
       "2   GBR      8440       \n",
       "3   FRA      7091       \n",
       "4   ESP      5382       \n",
       "5   DEU      4332       \n",
       "6   IRL      2347       \n",
       "7   ITA      1986       \n",
       "8   BEL      1670       \n",
       "9   NLD      1560       \n",
       "10  USA      1412       \n",
       "11  BRA      1266       \n",
       "12  CHE      1182       \n",
       "13  CN        868       \n",
       "14  AUT       777       \n",
       "15  SWE       656       \n",
       "16  POL       600       \n",
       "17  CHN       424       \n",
       "18  NULL      418       \n",
       "19  NOR       370       \n",
       "20  FIN       357       \n",
       "21  ROU       340       \n",
       "22  RUS       337       \n",
       "23  DNK       293       \n",
       "24  AUS       286       \n",
       "25  ISR       270       \n",
       "26  JPN       158       \n",
       "27  LUX       158       \n",
       "28  ARG       152       \n",
       "29  AGO       149       \n",
       "30  HUN       137       \n",
       "... ...     ...         \n",
       "137 ASM     1           \n",
       "138 ATF     1           \n",
       "139 BDI     1           \n",
       "140 BFA     1           \n",
       "141 BHR     1           \n",
       "142 BHS     1           \n",
       "143 BWA     1           \n",
       "144 CYM     1           \n",
       "145 DJI     1           \n",
       "146 DMA     1           \n",
       "147 FRO     1           \n",
       "148 GUY     1           \n",
       "149 KIR     1           \n",
       "150 LCA     1           \n",
       "151 MAC     1           \n",
       "152 MDG     1           \n",
       "153 MLI     1           \n",
       "154 MMR     1           \n",
       "155 MRT     1           \n",
       "156 NAM     1           \n",
       "157 NCL     1           \n",
       "158 NPL     1           \n",
       "159 PLW     1           \n",
       "160 PYF     1           \n",
       "161 SDN     1           \n",
       "162 SLE     1           \n",
       "163 SMR     1           \n",
       "164 SYC     1           \n",
       "165 TJK     1           \n",
       "166 ZMB     1           "
      ]
     },
     "metadata": {},
     "output_type": "display_data"
    }
   ],
   "source": [
    "dplyr :: arrange(country_wise_data , desc(No_of_guests))"
   ]
  },
  {
   "cell_type": "code",
   "execution_count": null,
   "id": "13ce9f73",
   "metadata": {},
   "outputs": [],
   "source": []
  },
  {
   "cell_type": "code",
   "execution_count": 17,
   "id": "a6a77d30",
   "metadata": {},
   "outputs": [],
   "source": [
    "library(plotly)"
   ]
  },
  {
   "cell_type": "code",
   "execution_count": 18,
   "id": "05d276cb",
   "metadata": {},
   "outputs": [
    {
     "data": {
      "text/html": [
       "<pre class=language-r><code>function (data = data.frame(), ..., type = NULL, name, color, \n",
       "<span style=white-space:pre-wrap>    colors = NULL, alpha = NULL, stroke, strokes = NULL, alpha_stroke = 1, </span>\n",
       "<span style=white-space:pre-wrap>    size, sizes = c(10, 100), span, spans = c(1, 20), symbol, </span>\n",
       "<span style=white-space:pre-wrap>    symbols = NULL, linetype, linetypes = NULL, split, frame, </span>\n",
       "<span style=white-space:pre-wrap>    width = NULL, height = NULL, source = \"A\") </span>\n",
       "NULL</code></pre>"
      ],
      "text/latex": [
       "\\begin{minted}{r}\n",
       "function (data = data.frame(), ..., type = NULL, name, color, \n",
       "    colors = NULL, alpha = NULL, stroke, strokes = NULL, alpha\\_stroke = 1, \n",
       "    size, sizes = c(10, 100), span, spans = c(1, 20), symbol, \n",
       "    symbols = NULL, linetype, linetypes = NULL, split, frame, \n",
       "    width = NULL, height = NULL, source = \"A\") \n",
       "NULL\n",
       "\\end{minted}"
      ],
      "text/markdown": [
       "```r\n",
       "function (data = data.frame(), ..., type = NULL, name, color, \n",
       "    colors = NULL, alpha = NULL, stroke, strokes = NULL, alpha_stroke = 1, \n",
       "    size, sizes = c(10, 100), span, spans = c(1, 20), symbol, \n",
       "    symbols = NULL, linetype, linetypes = NULL, split, frame, \n",
       "    width = NULL, height = NULL, source = \"A\") \n",
       "NULL\n",
       "```"
      ],
      "text/plain": [
       "function (data = data.frame(), ..., type = NULL, name, color, \n",
       "    colors = NULL, alpha = NULL, stroke, strokes = NULL, alpha_stroke = 1, \n",
       "    size, sizes = c(10, 100), span, spans = c(1, 20), symbol, \n",
       "    symbols = NULL, linetype, linetypes = NULL, split, frame, \n",
       "    width = NULL, height = NULL, source = \"A\") \n",
       "NULL"
      ]
     },
     "metadata": {},
     "output_type": "display_data"
    }
   ],
   "source": [
    "args(plot_ly)"
   ]
  },
  {
   "cell_type": "markdown",
   "id": "9565f732",
   "metadata": {},
   "source": [
    "\n",
    "\n",
    "    data: data frame on which we are working..\n",
    "\n",
    "    ... : The ellipsis (...) allows for additional arguments to be passed..\n",
    "          It is a way to include other optional arguments not explicitly listed.\n",
    "\n",
    "    type : This parameter mentions the type of plot u need.. \n",
    "           In your case, it's set to NULL, meaning it's not explicitly specified. \n",
    "           type = 'scatter' is to create a scatter plot.\n",
    "\n",
    "             \n",
    "    \n",
    "    "
   ]
  },
  {
   "cell_type": "code",
   "execution_count": null,
   "id": "6e0d71a0",
   "metadata": {},
   "outputs": [],
   "source": []
  },
  {
   "cell_type": "code",
   "execution_count": null,
   "id": "7294b923",
   "metadata": {},
   "outputs": [],
   "source": [
    "names(country_wise_data)"
   ]
  },
  {
   "cell_type": "code",
   "execution_count": null,
   "id": "01f54afb",
   "metadata": {},
   "outputs": [],
   "source": [
    "map_guest = plotly ::  plot_ly(\n",
    "  data = country_wise_data ,\n",
    "  locations = ~country ,\n",
    "  z = ~No_of_guests ,\n",
    "  type = \"choropleth\" ,\n",
    "  text = ~country ,\n",
    "  colorbar = list(title = \"Number of Guests\")\n",
    ") %>%\n",
    "  layout(title = \"Home country of guests\")\n",
    "\n",
    "\n",
    "### The tilde (~) is used to create formulas in R\n",
    "### locations = ~country : This part is telling that the 'country' column \n",
    "###   belongs to country_wise_data dataframe"
   ]
  },
  {
   "cell_type": "markdown",
   "id": "0082a6ef",
   "metadata": {},
   "source": [
    "    The tilde (~) in R is a formula operator. \n",
    "    It is telling how variables should be treated in a model or a plot..\n",
    "    \n",
    "    The ~ symbol says that variable is part of the current data context.."
   ]
  },
  {
   "cell_type": "code",
   "execution_count": null,
   "id": "281e0b7a",
   "metadata": {},
   "outputs": [],
   "source": []
  },
  {
   "cell_type": "code",
   "execution_count": null,
   "id": "79ea57b2",
   "metadata": {},
   "outputs": [],
   "source": [
    "## map_guest\n",
    "\n",
    "## it is showing choropleth map !"
   ]
  },
  {
   "cell_type": "markdown",
   "id": "eca7d577",
   "metadata": {},
   "source": [
    "#### People from all over the world are staying in these two hotels. Most guests are from Portugal and other countries in Europe"
   ]
  },
  {
   "cell_type": "code",
   "execution_count": null,
   "id": "769fa967",
   "metadata": {},
   "outputs": [],
   "source": []
  },
  {
   "cell_type": "code",
   "execution_count": null,
   "id": "1f110477",
   "metadata": {},
   "outputs": [],
   "source": []
  },
  {
   "cell_type": "code",
   "execution_count": null,
   "id": "53cccc0f",
   "metadata": {},
   "outputs": [],
   "source": []
  },
  {
   "cell_type": "code",
   "execution_count": null,
   "id": "4886d4ae",
   "metadata": {},
   "outputs": [],
   "source": []
  },
  {
   "cell_type": "code",
   "execution_count": null,
   "id": "c0d41404",
   "metadata": {},
   "outputs": [],
   "source": []
  },
  {
   "cell_type": "markdown",
   "id": "81bef719",
   "metadata": {},
   "source": [
    "## 5.. Is any difference between assigned and reserved room types or not ?"
   ]
  },
  {
   "cell_type": "code",
   "execution_count": null,
   "id": "c82af23f",
   "metadata": {},
   "outputs": [],
   "source": [
    "### ie , lets create cross tabulation between 2 featues ('reserved_room_type' ,'assigned_room_type') ,\n",
    "### ie , Reserved vs Assigned room types table ! "
   ]
  },
  {
   "cell_type": "code",
   "execution_count": null,
   "id": "38337d35",
   "metadata": {},
   "outputs": [],
   "source": []
  },
  {
   "cell_type": "code",
   "execution_count": null,
   "id": "07d372ef",
   "metadata": {},
   "outputs": [],
   "source": [
    "### As we have used table() in 3rd session & dcast() in 8th session to create pivot table in uber case-study , \n",
    "### u can easily use groupby() + pivot_wider to create pivot table , but it is slightly tricky to normalize the \n",
    "### pivot table generated by : groupby() + pivot_wider() bcz it returns O/p as : grouped_df :\n",
    "\n",
    "\n",
    "### do refer Hotel_Booking_R_Oct_2023_possible_ways.ipynb for more understanding !"
   ]
  },
  {
   "cell_type": "code",
   "execution_count": null,
   "id": "abc8174b",
   "metadata": {},
   "outputs": [],
   "source": []
  },
  {
   "cell_type": "code",
   "execution_count": 21,
   "id": "52c63066",
   "metadata": {},
   "outputs": [],
   "source": [
    "help(addmargins)\n",
    "\n",
    "## Puts Arbitrary Margins"
   ]
  },
  {
   "cell_type": "code",
   "execution_count": null,
   "id": "09beb47e",
   "metadata": {},
   "outputs": [],
   "source": [
    "\"\n",
    "\n",
    "addmargins(A, margin = seq_along(dim(A)), FUN = sum, quiet = FALSE)\n",
    "\n",
    "FUN = sum  , ie by default it computes total obs for every row index..\n",
    "                    OR\n",
    "      It sums up total obs for every row index..\n",
    "\n",
    "\n",
    "\""
   ]
  },
  {
   "cell_type": "code",
   "execution_count": 19,
   "id": "3ec81418",
   "metadata": {},
   "outputs": [
    {
     "data": {
      "text/html": [
       "<pre class=language-r><code>function (A, margin = seq_along(dim(A)), FUN = sum, quiet = FALSE) \n",
       "NULL</code></pre>"
      ],
      "text/latex": [
       "\\begin{minted}{r}\n",
       "function (A, margin = seq\\_along(dim(A)), FUN = sum, quiet = FALSE) \n",
       "NULL\n",
       "\\end{minted}"
      ],
      "text/markdown": [
       "```r\n",
       "function (A, margin = seq_along(dim(A)), FUN = sum, quiet = FALSE) \n",
       "NULL\n",
       "```"
      ],
      "text/plain": [
       "function (A, margin = seq_along(dim(A)), FUN = sum, quiet = FALSE) \n",
       "NULL"
      ]
     },
     "metadata": {},
     "output_type": "display_data"
    }
   ],
   "source": [
    "args(addmargins)"
   ]
  },
  {
   "cell_type": "code",
   "execution_count": 30,
   "id": "6a5467cb",
   "metadata": {},
   "outputs": [
    {
     "data": {
      "text/html": [
       "<table class=\"dataframe\">\n",
       "<caption>A table: 10 × 12 of type dbl</caption>\n",
       "<thead>\n",
       "\t<tr><th></th><th scope=col>A</th><th scope=col>B</th><th scope=col>C</th><th scope=col>D</th><th scope=col>E</th><th scope=col>F</th><th scope=col>G</th><th scope=col>H</th><th scope=col>I</th><th scope=col>K</th><th scope=col>L</th><th scope=col>Sum</th></tr>\n",
       "</thead>\n",
       "<tbody>\n",
       "\t<tr><th scope=row>A</th><td>45850</td><td> 892</td><td>1253</td><td> 6402</td><td>1034</td><td> 390</td><td> 176</td><td> 94</td><td>205</td><td>140</td><td>0</td><td>56436</td></tr>\n",
       "\t<tr><th scope=row>B</th><td>  106</td><td> 872</td><td>   0</td><td>    5</td><td>   2</td><td>   2</td><td>   8</td><td>  0</td><td>  0</td><td>  1</td><td>0</td><td>  996</td></tr>\n",
       "\t<tr><th scope=row>C</th><td>    5</td><td>   2</td><td> 866</td><td>    6</td><td>   4</td><td>   2</td><td>  10</td><td>  9</td><td> 10</td><td>  0</td><td>0</td><td>  914</td></tr>\n",
       "\t<tr><th scope=row>D</th><td>  295</td><td>  27</td><td>  32</td><td>15979</td><td> 657</td><td> 199</td><td>  82</td><td>  9</td><td> 67</td><td> 29</td><td>0</td><td>17376</td></tr>\n",
       "\t<tr><th scope=row>E</th><td>   15</td><td>   2</td><td>   6</td><td>   22</td><td>5458</td><td> 383</td><td>  97</td><td>  4</td><td> 40</td><td>  9</td><td>0</td><td> 6036</td></tr>\n",
       "\t<tr><th scope=row>F</th><td>    6</td><td>  14</td><td>   0</td><td>    4</td><td>  31</td><td>2636</td><td> 113</td><td>  3</td><td> 10</td><td>  3</td><td>0</td><td> 2820</td></tr>\n",
       "\t<tr><th scope=row>G</th><td>    5</td><td>   1</td><td>   2</td><td>    0</td><td>   4</td><td>  14</td><td>1999</td><td>  7</td><td> 15</td><td>  3</td><td>0</td><td> 2050</td></tr>\n",
       "\t<tr><th scope=row>H</th><td>    0</td><td>   0</td><td>   0</td><td>    1</td><td>   0</td><td>   0</td><td>  10</td><td>579</td><td>  6</td><td>  0</td><td>0</td><td>  596</td></tr>\n",
       "\t<tr><th scope=row>L</th><td>    1</td><td>   1</td><td>   1</td><td>    0</td><td>   0</td><td>   1</td><td>   0</td><td>  1</td><td>  0</td><td>  0</td><td>1</td><td>    6</td></tr>\n",
       "\t<tr><th scope=row>Sum</th><td>46283</td><td>1811</td><td>2160</td><td>22419</td><td>7190</td><td>3627</td><td>2495</td><td>706</td><td>353</td><td>185</td><td>1</td><td>87230</td></tr>\n",
       "</tbody>\n",
       "</table>\n"
      ],
      "text/latex": [
       "A table: 10 × 12 of type dbl\n",
       "\\begin{tabular}{r|llllllllllll}\n",
       "  & A & B & C & D & E & F & G & H & I & K & L & Sum\\\\\n",
       "\\hline\n",
       "\tA & 45850 &  892 & 1253 &  6402 & 1034 &  390 &  176 &  94 & 205 & 140 & 0 & 56436\\\\\n",
       "\tB &   106 &  872 &    0 &     5 &    2 &    2 &    8 &   0 &   0 &   1 & 0 &   996\\\\\n",
       "\tC &     5 &    2 &  866 &     6 &    4 &    2 &   10 &   9 &  10 &   0 & 0 &   914\\\\\n",
       "\tD &   295 &   27 &   32 & 15979 &  657 &  199 &   82 &   9 &  67 &  29 & 0 & 17376\\\\\n",
       "\tE &    15 &    2 &    6 &    22 & 5458 &  383 &   97 &   4 &  40 &   9 & 0 &  6036\\\\\n",
       "\tF &     6 &   14 &    0 &     4 &   31 & 2636 &  113 &   3 &  10 &   3 & 0 &  2820\\\\\n",
       "\tG &     5 &    1 &    2 &     0 &    4 &   14 & 1999 &   7 &  15 &   3 & 0 &  2050\\\\\n",
       "\tH &     0 &    0 &    0 &     1 &    0 &    0 &   10 & 579 &   6 &   0 & 0 &   596\\\\\n",
       "\tL &     1 &    1 &    1 &     0 &    0 &    1 &    0 &   1 &   0 &   0 & 1 &     6\\\\\n",
       "\tSum & 46283 & 1811 & 2160 & 22419 & 7190 & 3627 & 2495 & 706 & 353 & 185 & 1 & 87230\\\\\n",
       "\\end{tabular}\n"
      ],
      "text/markdown": [
       "\n",
       "A table: 10 × 12 of type dbl\n",
       "\n",
       "| <!--/--> | A | B | C | D | E | F | G | H | I | K | L | Sum |\n",
       "|---|---|---|---|---|---|---|---|---|---|---|---|---|\n",
       "| A | 45850 |  892 | 1253 |  6402 | 1034 |  390 |  176 |  94 | 205 | 140 | 0 | 56436 |\n",
       "| B |   106 |  872 |    0 |     5 |    2 |    2 |    8 |   0 |   0 |   1 | 0 |   996 |\n",
       "| C |     5 |    2 |  866 |     6 |    4 |    2 |   10 |   9 |  10 |   0 | 0 |   914 |\n",
       "| D |   295 |   27 |   32 | 15979 |  657 |  199 |   82 |   9 |  67 |  29 | 0 | 17376 |\n",
       "| E |    15 |    2 |    6 |    22 | 5458 |  383 |   97 |   4 |  40 |   9 | 0 |  6036 |\n",
       "| F |     6 |   14 |    0 |     4 |   31 | 2636 |  113 |   3 |  10 |   3 | 0 |  2820 |\n",
       "| G |     5 |    1 |    2 |     0 |    4 |   14 | 1999 |   7 |  15 |   3 | 0 |  2050 |\n",
       "| H |     0 |    0 |    0 |     1 |    0 |    0 |   10 | 579 |   6 |   0 | 0 |   596 |\n",
       "| L |     1 |    1 |    1 |     0 |    0 |    1 |    0 |   1 |   0 |   0 | 1 |     6 |\n",
       "| Sum | 46283 | 1811 | 2160 | 22419 | 7190 | 3627 | 2495 | 706 | 353 | 185 | 1 | 87230 |\n",
       "\n"
      ],
      "text/plain": [
       "     \n",
       "      A     B    C    D     E    F    G    H   I   K   L Sum  \n",
       "  A   45850  892 1253  6402 1034  390  176  94 205 140 0 56436\n",
       "  B     106  872    0     5    2    2    8   0   0   1 0   996\n",
       "  C       5    2  866     6    4    2   10   9  10   0 0   914\n",
       "  D     295   27   32 15979  657  199   82   9  67  29 0 17376\n",
       "  E      15    2    6    22 5458  383   97   4  40   9 0  6036\n",
       "  F       6   14    0     4   31 2636  113   3  10   3 0  2820\n",
       "  G       5    1    2     0    4   14 1999   7  15   3 0  2050\n",
       "  H       0    0    0     1    0    0   10 579   6   0 0   596\n",
       "  L       1    1    1     0    0    1    0   1   0   0 1     6\n",
       "  Sum 46283 1811 2160 22419 7190 3627 2495 706 353 185 1 87230"
      ]
     },
     "metadata": {},
     "output_type": "display_data"
    }
   ],
   "source": [
    "pvt = table(data$reserved_room_type, data$assigned_room_type )\n",
    "## reshape2 :: dcast(data , reserved_room_type ~ assigned_room_type , margins = TRUE )\n",
    "\n",
    "addmargins(pvt)\n",
    "## The addmargins function adds margins (sums) to the contingency table\n",
    "\n",
    "## lets find meaningful insight from this :\n",
    "\n",
    "## for A category room , 56436 folks have reserved \"A\" & \n",
    "## 45850 folks get assigned_room as \"A\".. & rest are unable to get !\n",
    "\n",
    "## for B category room , 996 folks have reserved \"B\" & \n",
    "## 872 folks get assigned_room as \"B\".. & rest are unable to get !"
   ]
  },
  {
   "cell_type": "code",
   "execution_count": null,
   "id": "93b111ee",
   "metadata": {},
   "outputs": [],
   "source": []
  },
  {
   "cell_type": "code",
   "execution_count": null,
   "id": "d345b08e",
   "metadata": {},
   "outputs": [],
   "source": []
  },
  {
   "cell_type": "code",
   "execution_count": null,
   "id": "a746df18",
   "metadata": {},
   "outputs": [],
   "source": [
    "### Lets normalize above stuff to get more meaningful insights !"
   ]
  },
  {
   "cell_type": "code",
   "execution_count": 22,
   "id": "b9d27c58",
   "metadata": {},
   "outputs": [],
   "source": [
    "help(prop.table)\n",
    "\n",
    "### it normalizes table"
   ]
  },
  {
   "cell_type": "code",
   "execution_count": null,
   "id": "f3af8349",
   "metadata": {},
   "outputs": [],
   "source": [
    "\"\n",
    "\n",
    "prop.table(x, margin = NULL)\n",
    "\n",
    "\n",
    "x : table\n",
    "\n",
    "margin : a vector giving the margins to split by. \n",
    "         E.g., for a matrix ,  1 indicates rows, \n",
    "                               2 indicates columns \n",
    "                               c(1, 2) indicates rows and columns..\n",
    "\n",
    "\n",
    "\""
   ]
  },
  {
   "cell_type": "code",
   "execution_count": null,
   "id": "fd27b2cd",
   "metadata": {},
   "outputs": [],
   "source": [
    "## Syntax :: prop.table(x, margin = NULL)\n",
    "## x receives data in the form of table or array , \n",
    "## This can be a one-dimensional, two-dimensional, or multi-dimensional \n",
    "    table containing counts or frequencies.\n"
   ]
  },
  {
   "cell_type": "code",
   "execution_count": 29,
   "id": "49e6b95e",
   "metadata": {},
   "outputs": [
    {
     "data": {
      "text/html": [
       "'table'"
      ],
      "text/latex": [
       "'table'"
      ],
      "text/markdown": [
       "'table'"
      ],
      "text/plain": [
       "[1] \"table\""
      ]
     },
     "metadata": {},
     "output_type": "display_data"
    }
   ],
   "source": [
    "class(pvt) ## as it is a table , ie we can directly pass pvt to prop.table() "
   ]
  },
  {
   "cell_type": "code",
   "execution_count": 34,
   "id": "56ebee6f",
   "metadata": {},
   "outputs": [
    {
     "data": {
      "text/plain": [
       "   \n",
       "        A     B     C     D     E     F     G     H     I     K     L\n",
       "  A 81.24  1.58  2.22 11.34  1.83  0.69  0.31  0.17  0.36  0.25  0.00\n",
       "  B 10.64 87.55  0.00  0.50  0.20  0.20  0.80  0.00  0.00  0.10  0.00\n",
       "  C  0.55  0.22 94.75  0.66  0.44  0.22  1.09  0.98  1.09  0.00  0.00\n",
       "  D  1.70  0.16  0.18 91.96  3.78  1.15  0.47  0.05  0.39  0.17  0.00\n",
       "  E  0.25  0.03  0.10  0.36 90.42  6.35  1.61  0.07  0.66  0.15  0.00\n",
       "  F  0.21  0.50  0.00  0.14  1.10 93.48  4.01  0.11  0.35  0.11  0.00\n",
       "  G  0.24  0.05  0.10  0.00  0.20  0.68 97.51  0.34  0.73  0.15  0.00\n",
       "  H  0.00  0.00  0.00  0.17  0.00  0.00  1.68 97.15  1.01  0.00  0.00\n",
       "  L 16.67 16.67 16.67  0.00  0.00 16.67  0.00 16.67  0.00  0.00 16.67"
      ]
     },
     "metadata": {},
     "output_type": "display_data"
    }
   ],
   "source": [
    "normalize_pvt = round(prop.table(pvt , margin = 1) * 100 , 2)\n",
    "normalize_pvt\n",
    "\n",
    "## prop.table is a base-R command "
   ]
  },
  {
   "cell_type": "code",
   "execution_count": null,
   "id": "753f91ed",
   "metadata": {},
   "outputs": [],
   "source": [
    "\"\n",
    "If u will pass pvt which is a dataframe to this prop.table()  , \n",
    "u will end up getting below error :\n",
    "\n",
    "Error in marginSums(x, margin): 'x' is not an array\n",
    "\n",
    "\""
   ]
  },
  {
   "cell_type": "code",
   "execution_count": null,
   "id": "4c2978ec",
   "metadata": {},
   "outputs": [],
   "source": []
  },
  {
   "cell_type": "code",
   "execution_count": null,
   "id": "972a54e4",
   "metadata": {},
   "outputs": [],
   "source": [
    "\"\n",
    "\n",
    "Use as.data.frame.matrix() when your input is a matrix \n",
    "        and you want to maintain the matrix structure..\n",
    "\n",
    "Use as.data.frame() when your input is a list, a data frame-like object \n",
    "        or a matrix without specific row or column names.\n",
    "\n",
    "\""
   ]
  },
  {
   "cell_type": "code",
   "execution_count": 35,
   "id": "34bf147b",
   "metadata": {},
   "outputs": [
    {
     "data": {
      "text/html": [
       "<table class=\"dataframe\">\n",
       "<caption>A data.frame: 9 × 11</caption>\n",
       "<thead>\n",
       "\t<tr><th></th><th scope=col>A</th><th scope=col>B</th><th scope=col>C</th><th scope=col>D</th><th scope=col>E</th><th scope=col>F</th><th scope=col>G</th><th scope=col>H</th><th scope=col>I</th><th scope=col>K</th><th scope=col>L</th></tr>\n",
       "\t<tr><th></th><th scope=col>&lt;dbl&gt;</th><th scope=col>&lt;dbl&gt;</th><th scope=col>&lt;dbl&gt;</th><th scope=col>&lt;dbl&gt;</th><th scope=col>&lt;dbl&gt;</th><th scope=col>&lt;dbl&gt;</th><th scope=col>&lt;dbl&gt;</th><th scope=col>&lt;dbl&gt;</th><th scope=col>&lt;dbl&gt;</th><th scope=col>&lt;dbl&gt;</th><th scope=col>&lt;dbl&gt;</th></tr>\n",
       "</thead>\n",
       "<tbody>\n",
       "\t<tr><th scope=row>A</th><td>81.24</td><td> 1.58</td><td> 2.22</td><td>11.34</td><td> 1.83</td><td> 0.69</td><td> 0.31</td><td> 0.17</td><td>0.36</td><td>0.25</td><td> 0.00</td></tr>\n",
       "\t<tr><th scope=row>B</th><td>10.64</td><td>87.55</td><td> 0.00</td><td> 0.50</td><td> 0.20</td><td> 0.20</td><td> 0.80</td><td> 0.00</td><td>0.00</td><td>0.10</td><td> 0.00</td></tr>\n",
       "\t<tr><th scope=row>C</th><td> 0.55</td><td> 0.22</td><td>94.75</td><td> 0.66</td><td> 0.44</td><td> 0.22</td><td> 1.09</td><td> 0.98</td><td>1.09</td><td>0.00</td><td> 0.00</td></tr>\n",
       "\t<tr><th scope=row>D</th><td> 1.70</td><td> 0.16</td><td> 0.18</td><td>91.96</td><td> 3.78</td><td> 1.15</td><td> 0.47</td><td> 0.05</td><td>0.39</td><td>0.17</td><td> 0.00</td></tr>\n",
       "\t<tr><th scope=row>E</th><td> 0.25</td><td> 0.03</td><td> 0.10</td><td> 0.36</td><td>90.42</td><td> 6.35</td><td> 1.61</td><td> 0.07</td><td>0.66</td><td>0.15</td><td> 0.00</td></tr>\n",
       "\t<tr><th scope=row>F</th><td> 0.21</td><td> 0.50</td><td> 0.00</td><td> 0.14</td><td> 1.10</td><td>93.48</td><td> 4.01</td><td> 0.11</td><td>0.35</td><td>0.11</td><td> 0.00</td></tr>\n",
       "\t<tr><th scope=row>G</th><td> 0.24</td><td> 0.05</td><td> 0.10</td><td> 0.00</td><td> 0.20</td><td> 0.68</td><td>97.51</td><td> 0.34</td><td>0.73</td><td>0.15</td><td> 0.00</td></tr>\n",
       "\t<tr><th scope=row>H</th><td> 0.00</td><td> 0.00</td><td> 0.00</td><td> 0.17</td><td> 0.00</td><td> 0.00</td><td> 1.68</td><td>97.15</td><td>1.01</td><td>0.00</td><td> 0.00</td></tr>\n",
       "\t<tr><th scope=row>L</th><td>16.67</td><td>16.67</td><td>16.67</td><td> 0.00</td><td> 0.00</td><td>16.67</td><td> 0.00</td><td>16.67</td><td>0.00</td><td>0.00</td><td>16.67</td></tr>\n",
       "</tbody>\n",
       "</table>\n"
      ],
      "text/latex": [
       "A data.frame: 9 × 11\n",
       "\\begin{tabular}{r|lllllllllll}\n",
       "  & A & B & C & D & E & F & G & H & I & K & L\\\\\n",
       "  & <dbl> & <dbl> & <dbl> & <dbl> & <dbl> & <dbl> & <dbl> & <dbl> & <dbl> & <dbl> & <dbl>\\\\\n",
       "\\hline\n",
       "\tA & 81.24 &  1.58 &  2.22 & 11.34 &  1.83 &  0.69 &  0.31 &  0.17 & 0.36 & 0.25 &  0.00\\\\\n",
       "\tB & 10.64 & 87.55 &  0.00 &  0.50 &  0.20 &  0.20 &  0.80 &  0.00 & 0.00 & 0.10 &  0.00\\\\\n",
       "\tC &  0.55 &  0.22 & 94.75 &  0.66 &  0.44 &  0.22 &  1.09 &  0.98 & 1.09 & 0.00 &  0.00\\\\\n",
       "\tD &  1.70 &  0.16 &  0.18 & 91.96 &  3.78 &  1.15 &  0.47 &  0.05 & 0.39 & 0.17 &  0.00\\\\\n",
       "\tE &  0.25 &  0.03 &  0.10 &  0.36 & 90.42 &  6.35 &  1.61 &  0.07 & 0.66 & 0.15 &  0.00\\\\\n",
       "\tF &  0.21 &  0.50 &  0.00 &  0.14 &  1.10 & 93.48 &  4.01 &  0.11 & 0.35 & 0.11 &  0.00\\\\\n",
       "\tG &  0.24 &  0.05 &  0.10 &  0.00 &  0.20 &  0.68 & 97.51 &  0.34 & 0.73 & 0.15 &  0.00\\\\\n",
       "\tH &  0.00 &  0.00 &  0.00 &  0.17 &  0.00 &  0.00 &  1.68 & 97.15 & 1.01 & 0.00 &  0.00\\\\\n",
       "\tL & 16.67 & 16.67 & 16.67 &  0.00 &  0.00 & 16.67 &  0.00 & 16.67 & 0.00 & 0.00 & 16.67\\\\\n",
       "\\end{tabular}\n"
      ],
      "text/markdown": [
       "\n",
       "A data.frame: 9 × 11\n",
       "\n",
       "| <!--/--> | A &lt;dbl&gt; | B &lt;dbl&gt; | C &lt;dbl&gt; | D &lt;dbl&gt; | E &lt;dbl&gt; | F &lt;dbl&gt; | G &lt;dbl&gt; | H &lt;dbl&gt; | I &lt;dbl&gt; | K &lt;dbl&gt; | L &lt;dbl&gt; |\n",
       "|---|---|---|---|---|---|---|---|---|---|---|---|\n",
       "| A | 81.24 |  1.58 |  2.22 | 11.34 |  1.83 |  0.69 |  0.31 |  0.17 | 0.36 | 0.25 |  0.00 |\n",
       "| B | 10.64 | 87.55 |  0.00 |  0.50 |  0.20 |  0.20 |  0.80 |  0.00 | 0.00 | 0.10 |  0.00 |\n",
       "| C |  0.55 |  0.22 | 94.75 |  0.66 |  0.44 |  0.22 |  1.09 |  0.98 | 1.09 | 0.00 |  0.00 |\n",
       "| D |  1.70 |  0.16 |  0.18 | 91.96 |  3.78 |  1.15 |  0.47 |  0.05 | 0.39 | 0.17 |  0.00 |\n",
       "| E |  0.25 |  0.03 |  0.10 |  0.36 | 90.42 |  6.35 |  1.61 |  0.07 | 0.66 | 0.15 |  0.00 |\n",
       "| F |  0.21 |  0.50 |  0.00 |  0.14 |  1.10 | 93.48 |  4.01 |  0.11 | 0.35 | 0.11 |  0.00 |\n",
       "| G |  0.24 |  0.05 |  0.10 |  0.00 |  0.20 |  0.68 | 97.51 |  0.34 | 0.73 | 0.15 |  0.00 |\n",
       "| H |  0.00 |  0.00 |  0.00 |  0.17 |  0.00 |  0.00 |  1.68 | 97.15 | 1.01 | 0.00 |  0.00 |\n",
       "| L | 16.67 | 16.67 | 16.67 |  0.00 |  0.00 | 16.67 |  0.00 | 16.67 | 0.00 | 0.00 | 16.67 |\n",
       "\n"
      ],
      "text/plain": [
       "  A     B     C     D     E     F     G     H     I    K    L    \n",
       "A 81.24  1.58  2.22 11.34  1.83  0.69  0.31  0.17 0.36 0.25  0.00\n",
       "B 10.64 87.55  0.00  0.50  0.20  0.20  0.80  0.00 0.00 0.10  0.00\n",
       "C  0.55  0.22 94.75  0.66  0.44  0.22  1.09  0.98 1.09 0.00  0.00\n",
       "D  1.70  0.16  0.18 91.96  3.78  1.15  0.47  0.05 0.39 0.17  0.00\n",
       "E  0.25  0.03  0.10  0.36 90.42  6.35  1.61  0.07 0.66 0.15  0.00\n",
       "F  0.21  0.50  0.00  0.14  1.10 93.48  4.01  0.11 0.35 0.11  0.00\n",
       "G  0.24  0.05  0.10  0.00  0.20  0.68 97.51  0.34 0.73 0.15  0.00\n",
       "H  0.00  0.00  0.00  0.17  0.00  0.00  1.68 97.15 1.01 0.00  0.00\n",
       "L 16.67 16.67 16.67  0.00  0.00 16.67  0.00 16.67 0.00 0.00 16.67"
      ]
     },
     "metadata": {},
     "output_type": "display_data"
    }
   ],
   "source": [
    "as.data.frame.matrix(normalize_pvt)"
   ]
  },
  {
   "cell_type": "code",
   "execution_count": null,
   "id": "a23bc7ef",
   "metadata": {},
   "outputs": [],
   "source": []
  },
  {
   "cell_type": "code",
   "execution_count": null,
   "id": "4930ef95",
   "metadata": {},
   "outputs": [],
   "source": []
  },
  {
   "cell_type": "code",
   "execution_count": null,
   "id": "319c1956",
   "metadata": {},
   "outputs": [],
   "source": [
    "'''\n",
    "\n",
    "Q.. Is any difference between assigned and reserved room type ?\n",
    "Ans : Yes \n",
    "\n",
    "\n",
    "'''"
   ]
  },
  {
   "cell_type": "code",
   "execution_count": null,
   "id": "edc2c0f0",
   "metadata": {},
   "outputs": [],
   "source": []
  },
  {
   "cell_type": "code",
   "execution_count": null,
   "id": "7edc649b",
   "metadata": {},
   "outputs": [],
   "source": []
  },
  {
   "cell_type": "code",
   "execution_count": null,
   "id": "74dca63a",
   "metadata": {},
   "outputs": [],
   "source": []
  },
  {
   "cell_type": "code",
   "execution_count": null,
   "id": "953c868c",
   "metadata": {},
   "outputs": [],
   "source": []
  },
  {
   "cell_type": "markdown",
   "id": "98a6bd81",
   "metadata": {},
   "source": [
    "##  6.. Bookings by market segment"
   ]
  },
  {
   "cell_type": "code",
   "execution_count": 36,
   "id": "8dbfa2d2",
   "metadata": {},
   "outputs": [],
   "source": [
    "freq_tb = table(data$market_segment)"
   ]
  },
  {
   "cell_type": "code",
   "execution_count": 37,
   "id": "b0d017b2",
   "metadata": {},
   "outputs": [
    {
     "data": {
      "text/plain": [
       "\n",
       "     Aviation Complementary     Corporate        Direct        Groups \n",
       "          226           692          4200         11780          4922 \n",
       "Offline TA/TO     Online TA     Undefined \n",
       "        13855         51553             2 "
      ]
     },
     "metadata": {},
     "output_type": "display_data"
    }
   ],
   "source": [
    "freq_tb"
   ]
  },
  {
   "cell_type": "code",
   "execution_count": null,
   "id": "9f4de738",
   "metadata": {},
   "outputs": [],
   "source": []
  },
  {
   "cell_type": "code",
   "execution_count": null,
   "id": "1914cbc4",
   "metadata": {},
   "outputs": [],
   "source": [
    "help(sort)\n",
    "\n",
    "## Sorting or Ordering Vectors"
   ]
  },
  {
   "cell_type": "code",
   "execution_count": null,
   "id": "7ad2c3d0",
   "metadata": {},
   "outputs": [],
   "source": [
    "\"\n",
    "\n",
    "sort(x, decreasing = FALSE, ...)\n",
    "\n",
    "x :: an R object that u want to sort \n",
    "\n",
    "\""
   ]
  },
  {
   "cell_type": "code",
   "execution_count": 23,
   "id": "c6f77ee2",
   "metadata": {},
   "outputs": [
    {
     "data": {
      "text/html": [
       "<pre class=language-r><code>function (x, decreasing = FALSE, ...) \n",
       "NULL</code></pre>"
      ],
      "text/latex": [
       "\\begin{minted}{r}\n",
       "function (x, decreasing = FALSE, ...) \n",
       "NULL\n",
       "\\end{minted}"
      ],
      "text/markdown": [
       "```r\n",
       "function (x, decreasing = FALSE, ...) \n",
       "NULL\n",
       "```"
      ],
      "text/plain": [
       "function (x, decreasing = FALSE, ...) \n",
       "NULL"
      ]
     },
     "metadata": {},
     "output_type": "display_data"
    }
   ],
   "source": [
    "args(sort)"
   ]
  },
  {
   "cell_type": "code",
   "execution_count": 38,
   "id": "572e808d",
   "metadata": {},
   "outputs": [
    {
     "data": {
      "text/plain": [
       "\n",
       "    Online TA Offline TA/TO        Direct        Groups     Corporate \n",
       "        51553         13855         11780          4922          4200 \n",
       "Complementary      Aviation     Undefined \n",
       "          692           226             2 "
      ]
     },
     "metadata": {},
     "output_type": "display_data"
    }
   ],
   "source": [
    "sort(freq_tb, decreasing = TRUE)\n",
    "\n",
    "### freq_tb[order(freq_tb , decreasing = TRUE)]"
   ]
  },
  {
   "cell_type": "code",
   "execution_count": 39,
   "id": "638d738a",
   "metadata": {},
   "outputs": [
    {
     "data": {
      "text/html": [
       "<style>\n",
       ".list-inline {list-style: none; margin:0; padding: 0}\n",
       ".list-inline>li {display: inline-block}\n",
       ".list-inline>li:not(:last-child)::after {content: \"\\00b7\"; padding: 0 .5ex}\n",
       "</style>\n",
       "<ol class=list-inline><li>'Online TA'</li><li>'Offline TA/TO'</li><li>'Direct'</li><li>'Groups'</li><li>'Corporate'</li><li>'Complementary'</li><li>'Aviation'</li><li>'Undefined'</li></ol>\n"
      ],
      "text/latex": [
       "\\begin{enumerate*}\n",
       "\\item 'Online TA'\n",
       "\\item 'Offline TA/TO'\n",
       "\\item 'Direct'\n",
       "\\item 'Groups'\n",
       "\\item 'Corporate'\n",
       "\\item 'Complementary'\n",
       "\\item 'Aviation'\n",
       "\\item 'Undefined'\n",
       "\\end{enumerate*}\n"
      ],
      "text/markdown": [
       "1. 'Online TA'\n",
       "2. 'Offline TA/TO'\n",
       "3. 'Direct'\n",
       "4. 'Groups'\n",
       "5. 'Corporate'\n",
       "6. 'Complementary'\n",
       "7. 'Aviation'\n",
       "8. 'Undefined'\n",
       "\n",
       "\n"
      ],
      "text/plain": [
       "[1] \"Online TA\"     \"Offline TA/TO\" \"Direct\"        \"Groups\"       \n",
       "[5] \"Corporate\"     \"Complementary\" \"Aviation\"      \"Undefined\"    "
      ]
     },
     "metadata": {},
     "output_type": "display_data"
    }
   ],
   "source": [
    "idx = rownames(sort(freq_tb, decreasing = TRUE))\n",
    "idx"
   ]
  },
  {
   "cell_type": "code",
   "execution_count": 40,
   "id": "0e3df063",
   "metadata": {},
   "outputs": [
    {
     "data": {
      "text/html": [
       "<style>\n",
       ".list-inline {list-style: none; margin:0; padding: 0}\n",
       ".list-inline>li {display: inline-block}\n",
       ".list-inline>li:not(:last-child)::after {content: \"\\00b7\"; padding: 0 .5ex}\n",
       "</style>\n",
       "<ol class=list-inline><li>51553</li><li>13855</li><li>11780</li><li>4922</li><li>4200</li><li>692</li><li>226</li><li>2</li></ol>\n"
      ],
      "text/latex": [
       "\\begin{enumerate*}\n",
       "\\item 51553\n",
       "\\item 13855\n",
       "\\item 11780\n",
       "\\item 4922\n",
       "\\item 4200\n",
       "\\item 692\n",
       "\\item 226\n",
       "\\item 2\n",
       "\\end{enumerate*}\n"
      ],
      "text/markdown": [
       "1. 51553\n",
       "2. 13855\n",
       "3. 11780\n",
       "4. 4922\n",
       "5. 4200\n",
       "6. 692\n",
       "7. 226\n",
       "8. 2\n",
       "\n",
       "\n"
      ],
      "text/plain": [
       "[1] 51553 13855 11780  4922  4200   692   226     2"
      ]
     },
     "metadata": {},
     "output_type": "display_data"
    }
   ],
   "source": [
    "as.vector(sort(freq_tb, decreasing = TRUE))"
   ]
  },
  {
   "cell_type": "code",
   "execution_count": 41,
   "id": "45a39cfd",
   "metadata": {},
   "outputs": [
    {
     "data": {
      "text/html": [
       "<style>\n",
       ".list-inline {list-style: none; margin:0; padding: 0}\n",
       ".list-inline>li {display: inline-block}\n",
       ".list-inline>li:not(:last-child)::after {content: \"\\00b7\"; padding: 0 .5ex}\n",
       "</style>\n",
       "<ol class=list-inline><li>51553</li><li>13855</li><li>11780</li><li>4922</li><li>4200</li><li>692</li><li>226</li><li>2</li></ol>\n"
      ],
      "text/latex": [
       "\\begin{enumerate*}\n",
       "\\item 51553\n",
       "\\item 13855\n",
       "\\item 11780\n",
       "\\item 4922\n",
       "\\item 4200\n",
       "\\item 692\n",
       "\\item 226\n",
       "\\item 2\n",
       "\\end{enumerate*}\n"
      ],
      "text/markdown": [
       "1. 51553\n",
       "2. 13855\n",
       "3. 11780\n",
       "4. 4922\n",
       "5. 4200\n",
       "6. 692\n",
       "7. 226\n",
       "8. 2\n",
       "\n",
       "\n"
      ],
      "text/plain": [
       "[1] 51553 13855 11780  4922  4200   692   226     2"
      ]
     },
     "metadata": {},
     "output_type": "display_data"
    }
   ],
   "source": [
    "values = as.vector(sort(freq_tb, decreasing = TRUE))\n",
    "values\n",
    "\n",
    "## as.data.frame(freq_tb[order(freq_tb , decreasing = TRUE)])[,'Freq']"
   ]
  },
  {
   "cell_type": "code",
   "execution_count": null,
   "id": "428c0945",
   "metadata": {},
   "outputs": [],
   "source": []
  },
  {
   "cell_type": "code",
   "execution_count": null,
   "id": "2561afd2",
   "metadata": {},
   "outputs": [],
   "source": [
    "help(pie)"
   ]
  },
  {
   "cell_type": "code",
   "execution_count": null,
   "id": "e4b75441",
   "metadata": {},
   "outputs": [],
   "source": [
    "\"\n",
    "\n",
    "pie(x, labels = names(x), edges = 200, radius = 0.8,\n",
    "    clockwise = FALSE, init.angle = if(clockwise) 90 else 0,\n",
    "    density = NULL, angle = 45, col = NULL, border = NULL,\n",
    "    lty = NULL, main = NULL, ...)\n",
    "\n",
    "\""
   ]
  },
  {
   "cell_type": "code",
   "execution_count": 42,
   "id": "e1ac1c2d",
   "metadata": {},
   "outputs": [
    {
     "data": {
      "text/html": [
       "<pre class=language-r><code>function (x, labels = names(x), edges = 200, radius = 0.8, clockwise = FALSE, \n",
       "<span style=white-space:pre-wrap>    init.angle = if (clockwise) 90 else 0, density = NULL, angle = 45, </span>\n",
       "<span style=white-space:pre-wrap>    col = NULL, border = NULL, lty = NULL, main = NULL, ...) </span>\n",
       "NULL</code></pre>"
      ],
      "text/latex": [
       "\\begin{minted}{r}\n",
       "function (x, labels = names(x), edges = 200, radius = 0.8, clockwise = FALSE, \n",
       "    init.angle = if (clockwise) 90 else 0, density = NULL, angle = 45, \n",
       "    col = NULL, border = NULL, lty = NULL, main = NULL, ...) \n",
       "NULL\n",
       "\\end{minted}"
      ],
      "text/markdown": [
       "```r\n",
       "function (x, labels = names(x), edges = 200, radius = 0.8, clockwise = FALSE, \n",
       "    init.angle = if (clockwise) 90 else 0, density = NULL, angle = 45, \n",
       "    col = NULL, border = NULL, lty = NULL, main = NULL, ...) \n",
       "NULL\n",
       "```"
      ],
      "text/plain": [
       "function (x, labels = names(x), edges = 200, radius = 0.8, clockwise = FALSE, \n",
       "    init.angle = if (clockwise) 90 else 0, density = NULL, angle = 45, \n",
       "    col = NULL, border = NULL, lty = NULL, main = NULL, ...) \n",
       "NULL"
      ]
     },
     "metadata": {},
     "output_type": "display_data"
    }
   ],
   "source": [
    "args(pie)\n",
    "### pie(x , labels)\n",
    "\n",
    "## x = values of pie\n",
    "## labels = labels for pie "
   ]
  },
  {
   "cell_type": "code",
   "execution_count": 43,
   "id": "1f5fdf0c",
   "metadata": {},
   "outputs": [
    {
     "data": {
      "image/png": "[encoded data removed]",
      "text/plain": [
       "plot without title"
      ]
     },
     "metadata": {
      "image/png": {
       "height": 420,
       "width": 420
      }
     },
     "output_type": "display_data"
    }
   ],
   "source": [
    "graphics :: pie(x = values , labels = idx)"
   ]
  },
  {
   "cell_type": "code",
   "execution_count": null,
   "id": "267ed634",
   "metadata": {},
   "outputs": [],
   "source": [
    "'''\n",
    "Most of the bookings have been done in Online mode \n",
    "\n",
    "'''"
   ]
  },
  {
   "cell_type": "code",
   "execution_count": null,
   "id": "893e5759",
   "metadata": {},
   "outputs": [],
   "source": []
  },
  {
   "cell_type": "code",
   "execution_count": null,
   "id": "499bfdc7",
   "metadata": {},
   "outputs": [],
   "source": []
  },
  {
   "cell_type": "code",
   "execution_count": null,
   "id": "b207ce76",
   "metadata": {},
   "outputs": [],
   "source": []
  },
  {
   "cell_type": "code",
   "execution_count": null,
   "id": "974bdbcd",
   "metadata": {},
   "outputs": [],
   "source": []
  },
  {
   "cell_type": "markdown",
   "id": "5d123d82",
   "metadata": {},
   "source": [
    "### 6(b) Analysing Avg.price per night (ADR) of various room-types for all the market segment .."
   ]
  },
  {
   "cell_type": "code",
   "execution_count": 44,
   "id": "405226d7",
   "metadata": {},
   "outputs": [
    {
     "data": {
      "text/html": [
       "<table class=\"dataframe\">\n",
       "<caption>A data.frame: 2 × 32</caption>\n",
       "<thead>\n",
       "\t<tr><th></th><th scope=col>hotel</th><th scope=col>is_canceled</th><th scope=col>lead_time</th><th scope=col>arrival_date_year</th><th scope=col>arrival_date_month</th><th scope=col>arrival_date_week_number</th><th scope=col>arrival_date_day_of_month</th><th scope=col>stays_in_weekend_nights</th><th scope=col>stays_in_week_nights</th><th scope=col>adults</th><th scope=col>...</th><th scope=col>deposit_type</th><th scope=col>agent</th><th scope=col>company</th><th scope=col>days_in_waiting_list</th><th scope=col>customer_type</th><th scope=col>adr</th><th scope=col>required_car_parking_spaces</th><th scope=col>total_of_special_requests</th><th scope=col>reservation_status</th><th scope=col>reservation_status_date</th></tr>\n",
       "\t<tr><th></th><th scope=col>&lt;chr&gt;</th><th scope=col>&lt;int&gt;</th><th scope=col>&lt;int&gt;</th><th scope=col>&lt;int&gt;</th><th scope=col>&lt;chr&gt;</th><th scope=col>&lt;int&gt;</th><th scope=col>&lt;int&gt;</th><th scope=col>&lt;int&gt;</th><th scope=col>&lt;int&gt;</th><th scope=col>&lt;int&gt;</th><th scope=col>...</th><th scope=col>&lt;chr&gt;</th><th scope=col>&lt;chr&gt;</th><th scope=col>&lt;chr&gt;</th><th scope=col>&lt;int&gt;</th><th scope=col>&lt;chr&gt;</th><th scope=col>&lt;dbl&gt;</th><th scope=col>&lt;int&gt;</th><th scope=col>&lt;int&gt;</th><th scope=col>&lt;chr&gt;</th><th scope=col>&lt;chr&gt;</th></tr>\n",
       "</thead>\n",
       "<tbody>\n",
       "\t<tr><th scope=row>1</th><td>Resort Hotel</td><td>0</td><td>342</td><td>2015</td><td>July</td><td>27</td><td>1</td><td>0</td><td>0</td><td>2</td><td>...</td><td>No Deposit</td><td>NULL</td><td>NULL</td><td>0</td><td>Transient</td><td>0</td><td>0</td><td>0</td><td>Check-Out</td><td>7/1/2015</td></tr>\n",
       "\t<tr><th scope=row>2</th><td>Resort Hotel</td><td>0</td><td>737</td><td>2015</td><td>July</td><td>27</td><td>1</td><td>0</td><td>0</td><td>2</td><td>...</td><td>No Deposit</td><td>NULL</td><td>NULL</td><td>0</td><td>Transient</td><td>0</td><td>0</td><td>0</td><td>Check-Out</td><td>7/1/2015</td></tr>\n",
       "</tbody>\n",
       "</table>\n"
      ],
      "text/latex": [
       "A data.frame: 2 × 32\n",
       "\\begin{tabular}{r|lllllllllllllllllllll}\n",
       "  & hotel & is\\_canceled & lead\\_time & arrival\\_date\\_year & arrival\\_date\\_month & arrival\\_date\\_week\\_number & arrival\\_date\\_day\\_of\\_month & stays\\_in\\_weekend\\_nights & stays\\_in\\_week\\_nights & adults & ... & deposit\\_type & agent & company & days\\_in\\_waiting\\_list & customer\\_type & adr & required\\_car\\_parking\\_spaces & total\\_of\\_special\\_requests & reservation\\_status & reservation\\_status\\_date\\\\\n",
       "  & <chr> & <int> & <int> & <int> & <chr> & <int> & <int> & <int> & <int> & <int> & ... & <chr> & <chr> & <chr> & <int> & <chr> & <dbl> & <int> & <int> & <chr> & <chr>\\\\\n",
       "\\hline\n",
       "\t1 & Resort Hotel & 0 & 342 & 2015 & July & 27 & 1 & 0 & 0 & 2 & ... & No Deposit & NULL & NULL & 0 & Transient & 0 & 0 & 0 & Check-Out & 7/1/2015\\\\\n",
       "\t2 & Resort Hotel & 0 & 737 & 2015 & July & 27 & 1 & 0 & 0 & 2 & ... & No Deposit & NULL & NULL & 0 & Transient & 0 & 0 & 0 & Check-Out & 7/1/2015\\\\\n",
       "\\end{tabular}\n"
      ],
      "text/markdown": [
       "\n",
       "A data.frame: 2 × 32\n",
       "\n",
       "| <!--/--> | hotel &lt;chr&gt; | is_canceled &lt;int&gt; | lead_time &lt;int&gt; | arrival_date_year &lt;int&gt; | arrival_date_month &lt;chr&gt; | arrival_date_week_number &lt;int&gt; | arrival_date_day_of_month &lt;int&gt; | stays_in_weekend_nights &lt;int&gt; | stays_in_week_nights &lt;int&gt; | adults &lt;int&gt; | ... ... | deposit_type &lt;chr&gt; | agent &lt;chr&gt; | company &lt;chr&gt; | days_in_waiting_list &lt;int&gt; | customer_type &lt;chr&gt; | adr &lt;dbl&gt; | required_car_parking_spaces &lt;int&gt; | total_of_special_requests &lt;int&gt; | reservation_status &lt;chr&gt; | reservation_status_date &lt;chr&gt; |\n",
       "|---|---|---|---|---|---|---|---|---|---|---|---|---|---|---|---|---|---|---|---|---|---|\n",
       "| 1 | Resort Hotel | 0 | 342 | 2015 | July | 27 | 1 | 0 | 0 | 2 | ... | No Deposit | NULL | NULL | 0 | Transient | 0 | 0 | 0 | Check-Out | 7/1/2015 |\n",
       "| 2 | Resort Hotel | 0 | 737 | 2015 | July | 27 | 1 | 0 | 0 | 2 | ... | No Deposit | NULL | NULL | 0 | Transient | 0 | 0 | 0 | Check-Out | 7/1/2015 |\n",
       "\n"
      ],
      "text/plain": [
       "  hotel        is_canceled lead_time arrival_date_year arrival_date_month\n",
       "1 Resort Hotel 0           342       2015              July              \n",
       "2 Resort Hotel 0           737       2015              July              \n",
       "  arrival_date_week_number arrival_date_day_of_month stays_in_weekend_nights\n",
       "1 27                       1                         0                      \n",
       "2 27                       1                         0                      \n",
       "  stays_in_week_nights adults ... deposit_type agent company\n",
       "1 0                    2      ... No Deposit   NULL  NULL   \n",
       "2 0                    2      ... No Deposit   NULL  NULL   \n",
       "  days_in_waiting_list customer_type adr required_car_parking_spaces\n",
       "1 0                    Transient     0   0                          \n",
       "2 0                    Transient     0   0                          \n",
       "  total_of_special_requests reservation_status reservation_status_date\n",
       "1 0                         Check-Out          7/1/2015               \n",
       "2 0                         Check-Out          7/1/2015               "
      ]
     },
     "metadata": {},
     "output_type": "display_data"
    }
   ],
   "source": [
    "head(data , 2)"
   ]
  },
  {
   "cell_type": "code",
   "execution_count": null,
   "id": "98271770",
   "metadata": {},
   "outputs": [],
   "source": []
  },
  {
   "cell_type": "code",
   "execution_count": null,
   "id": "b07181fe",
   "metadata": {},
   "outputs": [],
   "source": []
  },
  {
   "cell_type": "code",
   "execution_count": null,
   "id": "34a5c284",
   "metadata": {},
   "outputs": [],
   "source": [
    "help(group_by)\n",
    "\n",
    "### Group by one or more variables !"
   ]
  },
  {
   "cell_type": "code",
   "execution_count": null,
   "id": "c5d1508f",
   "metadata": {},
   "outputs": [],
   "source": [
    "args(group_by)"
   ]
  },
  {
   "cell_type": "markdown",
   "id": "58509369",
   "metadata": {},
   "source": [
    "    .data: This is the data frame that you want to group. \n",
    "            It represents the dataset on which u want to apply groupby()\n",
    "\n",
    "    ...: The ellipsis (...) is a placeholder for additional arguments. \n",
    "        In the case of group_by(), it allows you to specify the grouping columns. \n",
    "        You can provide column names, expressions, or functions that generate the grouping variables.\n"
   ]
  },
  {
   "cell_type": "code",
   "execution_count": null,
   "id": "c210e414",
   "metadata": {},
   "outputs": [],
   "source": []
  },
  {
   "cell_type": "code",
   "execution_count": null,
   "id": "e9efee47",
   "metadata": {},
   "outputs": [],
   "source": [
    "help(summarise)"
   ]
  },
  {
   "cell_type": "code",
   "execution_count": null,
   "id": "5fb7e8d2",
   "metadata": {},
   "outputs": [],
   "source": [
    "\"\n",
    "\n",
    "summarise() creates a new data frame..\n",
    "It returns one value/row for each combination of grouping variables ;\n",
    "                    OR\n",
    "It returns one value for every sub-category in grouping variables ;\n",
    "eg avg price of category col\n",
    "                    OR\n",
    "for every market_segment & reserved_room_type , it returns 1 value (mean_adr)\n",
    "\n",
    "\n",
    "if there are no grouping variables, the output will have a single value which is summarising rows of a column..\n",
    "\n",
    "\""
   ]
  },
  {
   "cell_type": "code",
   "execution_count": 24,
   "id": "7f1cebf7",
   "metadata": {},
   "outputs": [
    {
     "data": {
      "text/html": [
       "<pre class=language-r><code>function (.data, ..., .by = NULL, .groups = NULL) \n",
       "NULL</code></pre>"
      ],
      "text/latex": [
       "\\begin{minted}{r}\n",
       "function (.data, ..., .by = NULL, .groups = NULL) \n",
       "NULL\n",
       "\\end{minted}"
      ],
      "text/markdown": [
       "```r\n",
       "function (.data, ..., .by = NULL, .groups = NULL) \n",
       "NULL\n",
       "```"
      ],
      "text/plain": [
       "function (.data, ..., .by = NULL, .groups = NULL) \n",
       "NULL"
      ]
     },
     "metadata": {},
     "output_type": "display_data"
    }
   ],
   "source": [
    "args(summarise)"
   ]
  },
  {
   "cell_type": "markdown",
   "id": "336822a4",
   "metadata": {},
   "source": [
    "    .data : data frame or tibble you want to summarize..\n",
    "\n",
    "    ... : The ellipsis (...) means I can pass additional arguments, \n",
    "          which are typically expressions that define the new columns or summary statistics you want to calculate.."
   ]
  },
  {
   "cell_type": "code",
   "execution_count": null,
   "id": "d4eefadd",
   "metadata": {},
   "outputs": [],
   "source": [
    "gdf = group_by(data , market_segment, reserved_room_type)\n",
    "summarise(gdf , avg_adr = mean(adr))\n",
    "\n",
    "## summarise(group_by(market_segment, reserved_room_type) , avg_adr = mean(adr))"
   ]
  },
  {
   "cell_type": "code",
   "execution_count": null,
   "id": "9366d7cd",
   "metadata": {},
   "outputs": [],
   "source": [
    "### lets write similar code using dplyr chaining , as chaining makes code more readable !\n",
    "### before executing below code , make sure u have installed & imported dplyr as pipe operator is defined in dplyr package"
   ]
  },
  {
   "cell_type": "code",
   "execution_count": null,
   "id": "37b52dc3",
   "metadata": {},
   "outputs": [],
   "source": []
  },
  {
   "cell_type": "code",
   "execution_count": 45,
   "id": "eae49a3a",
   "metadata": {},
   "outputs": [
    {
     "name": "stderr",
     "output_type": "stream",
     "text": [
      "\u001b[1m\u001b[22m`summarise()` has grouped output by 'market_segment'. You can override using the `.groups` argument.\n"
     ]
    }
   ],
   "source": [
    "adr_df = data %>% group_by(market_segment, reserved_room_type) %>% summarise(avg_adr = mean(adr))       \n",
    "\n",
    "\n",
    "## if getting Warning : `summarise()` has grouped output by 'market_segment'. You can override using the `.groups` argument..\n",
    "## such warnings occur in group_by , when we group our data using 2 or more features.. \n",
    "## .groups = \"drop\" in summarise() says that you want to drop the grouping after summarization\n",
    "## which results in suppressing the warning message..\n",
    "## ie .groups = 'drop' remove the grouping imposed by group_by() and return an ungrouped data frame."
   ]
  },
  {
   "cell_type": "code",
   "execution_count": 46,
   "id": "72075e73",
   "metadata": {},
   "outputs": [
    {
     "data": {
      "text/html": [
       "<table class=\"dataframe\">\n",
       "<caption>A grouped_df: 53 × 3</caption>\n",
       "<thead>\n",
       "\t<tr><th scope=col>market_segment</th><th scope=col>reserved_room_type</th><th scope=col>avg_adr</th></tr>\n",
       "\t<tr><th scope=col>&lt;chr&gt;</th><th scope=col>&lt;chr&gt;</th><th scope=col>&lt;dbl&gt;</th></tr>\n",
       "</thead>\n",
       "<tbody>\n",
       "\t<tr><td>Aviation     </td><td>A</td><td> 93.812810</td></tr>\n",
       "\t<tr><td>Aviation     </td><td>D</td><td>107.464369</td></tr>\n",
       "\t<tr><td>Aviation     </td><td>E</td><td>159.250000</td></tr>\n",
       "\t<tr><td>Complementary</td><td>A</td><td>  3.557130</td></tr>\n",
       "\t<tr><td>Complementary</td><td>B</td><td>  0.080000</td></tr>\n",
       "\t<tr><td>Complementary</td><td>C</td><td> 10.571429</td></tr>\n",
       "\t<tr><td>Complementary</td><td>D</td><td>  3.023247</td></tr>\n",
       "\t<tr><td>Complementary</td><td>E</td><td>  2.869565</td></tr>\n",
       "\t<tr><td>Complementary</td><td>F</td><td>  2.040816</td></tr>\n",
       "\t<tr><td>Complementary</td><td>G</td><td>  1.076271</td></tr>\n",
       "\t<tr><td>Complementary</td><td>H</td><td>  0.000000</td></tr>\n",
       "\t<tr><td>Corporate    </td><td>A</td><td> 64.997870</td></tr>\n",
       "\t<tr><td>Corporate    </td><td>B</td><td> 45.416667</td></tr>\n",
       "\t<tr><td>Corporate    </td><td>C</td><td> 79.625000</td></tr>\n",
       "\t<tr><td>Corporate    </td><td>D</td><td> 91.805405</td></tr>\n",
       "\t<tr><td>Corporate    </td><td>E</td><td> 99.880785</td></tr>\n",
       "\t<tr><td>Corporate    </td><td>F</td><td>105.414000</td></tr>\n",
       "\t<tr><td>Corporate    </td><td>G</td><td>135.221429</td></tr>\n",
       "\t<tr><td>Corporate    </td><td>H</td><td>163.800000</td></tr>\n",
       "\t<tr><td>Direct       </td><td>A</td><td> 96.395839</td></tr>\n",
       "\t<tr><td>Direct       </td><td>B</td><td> 92.501154</td></tr>\n",
       "\t<tr><td>Direct       </td><td>C</td><td>162.846250</td></tr>\n",
       "\t<tr><td>Direct       </td><td>D</td><td>124.730231</td></tr>\n",
       "\t<tr><td>Direct       </td><td>E</td><td>135.303464</td></tr>\n",
       "\t<tr><td>Direct       </td><td>F</td><td>150.615156</td></tr>\n",
       "\t<tr><td>Direct       </td><td>G</td><td>185.748745</td></tr>\n",
       "\t<tr><td>Direct       </td><td>H</td><td>180.904079</td></tr>\n",
       "\t<tr><td>Direct       </td><td>L</td><td>124.666667</td></tr>\n",
       "\t<tr><td>Groups       </td><td>A</td><td> 74.501230</td></tr>\n",
       "\t<tr><td>Groups       </td><td>B</td><td> 89.214286</td></tr>\n",
       "\t<tr><td>Groups       </td><td>C</td><td> 94.098261</td></tr>\n",
       "\t<tr><td>Groups       </td><td>D</td><td> 75.152362</td></tr>\n",
       "\t<tr><td>Groups       </td><td>E</td><td> 84.578933</td></tr>\n",
       "\t<tr><td>Groups       </td><td>F</td><td> 85.285714</td></tr>\n",
       "\t<tr><td>Groups       </td><td>G</td><td>103.105263</td></tr>\n",
       "\t<tr><td>Groups       </td><td>H</td><td>120.000000</td></tr>\n",
       "\t<tr><td>Offline TA/TO</td><td>A</td><td> 78.180326</td></tr>\n",
       "\t<tr><td>Offline TA/TO</td><td>B</td><td> 75.513922</td></tr>\n",
       "\t<tr><td>Offline TA/TO</td><td>C</td><td>121.855060</td></tr>\n",
       "\t<tr><td>Offline TA/TO</td><td>D</td><td> 86.998079</td></tr>\n",
       "\t<tr><td>Offline TA/TO</td><td>E</td><td>100.366038</td></tr>\n",
       "\t<tr><td>Offline TA/TO</td><td>F</td><td>127.550702</td></tr>\n",
       "\t<tr><td>Offline TA/TO</td><td>G</td><td>180.256818</td></tr>\n",
       "\t<tr><td>Offline TA/TO</td><td>H</td><td>176.900000</td></tr>\n",
       "\t<tr><td>Online TA    </td><td>A</td><td>103.235493</td></tr>\n",
       "\t<tr><td>Online TA    </td><td>B</td><td> 94.109830</td></tr>\n",
       "\t<tr><td>Online TA    </td><td>C</td><td>173.142409</td></tr>\n",
       "\t<tr><td>Online TA    </td><td>D</td><td>132.445205</td></tr>\n",
       "\t<tr><td>Online TA    </td><td>E</td><td>134.740192</td></tr>\n",
       "\t<tr><td>Online TA    </td><td>F</td><td>183.046358</td></tr>\n",
       "\t<tr><td>Online TA    </td><td>G</td><td>182.369972</td></tr>\n",
       "\t<tr><td>Online TA    </td><td>H</td><td>192.854404</td></tr>\n",
       "\t<tr><td>Undefined    </td><td>B</td><td> 15.000000</td></tr>\n",
       "</tbody>\n",
       "</table>\n"
      ],
      "text/latex": [
       "A grouped\\_df: 53 × 3\n",
       "\\begin{tabular}{lll}\n",
       " market\\_segment & reserved\\_room\\_type & avg\\_adr\\\\\n",
       " <chr> & <chr> & <dbl>\\\\\n",
       "\\hline\n",
       "\t Aviation      & A &  93.812810\\\\\n",
       "\t Aviation      & D & 107.464369\\\\\n",
       "\t Aviation      & E & 159.250000\\\\\n",
       "\t Complementary & A &   3.557130\\\\\n",
       "\t Complementary & B &   0.080000\\\\\n",
       "\t Complementary & C &  10.571429\\\\\n",
       "\t Complementary & D &   3.023247\\\\\n",
       "\t Complementary & E &   2.869565\\\\\n",
       "\t Complementary & F &   2.040816\\\\\n",
       "\t Complementary & G &   1.076271\\\\\n",
       "\t Complementary & H &   0.000000\\\\\n",
       "\t Corporate     & A &  64.997870\\\\\n",
       "\t Corporate     & B &  45.416667\\\\\n",
       "\t Corporate     & C &  79.625000\\\\\n",
       "\t Corporate     & D &  91.805405\\\\\n",
       "\t Corporate     & E &  99.880785\\\\\n",
       "\t Corporate     & F & 105.414000\\\\\n",
       "\t Corporate     & G & 135.221429\\\\\n",
       "\t Corporate     & H & 163.800000\\\\\n",
       "\t Direct        & A &  96.395839\\\\\n",
       "\t Direct        & B &  92.501154\\\\\n",
       "\t Direct        & C & 162.846250\\\\\n",
       "\t Direct        & D & 124.730231\\\\\n",
       "\t Direct        & E & 135.303464\\\\\n",
       "\t Direct        & F & 150.615156\\\\\n",
       "\t Direct        & G & 185.748745\\\\\n",
       "\t Direct        & H & 180.904079\\\\\n",
       "\t Direct        & L & 124.666667\\\\\n",
       "\t Groups        & A &  74.501230\\\\\n",
       "\t Groups        & B &  89.214286\\\\\n",
       "\t Groups        & C &  94.098261\\\\\n",
       "\t Groups        & D &  75.152362\\\\\n",
       "\t Groups        & E &  84.578933\\\\\n",
       "\t Groups        & F &  85.285714\\\\\n",
       "\t Groups        & G & 103.105263\\\\\n",
       "\t Groups        & H & 120.000000\\\\\n",
       "\t Offline TA/TO & A &  78.180326\\\\\n",
       "\t Offline TA/TO & B &  75.513922\\\\\n",
       "\t Offline TA/TO & C & 121.855060\\\\\n",
       "\t Offline TA/TO & D &  86.998079\\\\\n",
       "\t Offline TA/TO & E & 100.366038\\\\\n",
       "\t Offline TA/TO & F & 127.550702\\\\\n",
       "\t Offline TA/TO & G & 180.256818\\\\\n",
       "\t Offline TA/TO & H & 176.900000\\\\\n",
       "\t Online TA     & A & 103.235493\\\\\n",
       "\t Online TA     & B &  94.109830\\\\\n",
       "\t Online TA     & C & 173.142409\\\\\n",
       "\t Online TA     & D & 132.445205\\\\\n",
       "\t Online TA     & E & 134.740192\\\\\n",
       "\t Online TA     & F & 183.046358\\\\\n",
       "\t Online TA     & G & 182.369972\\\\\n",
       "\t Online TA     & H & 192.854404\\\\\n",
       "\t Undefined     & B &  15.000000\\\\\n",
       "\\end{tabular}\n"
      ],
      "text/markdown": [
       "\n",
       "A grouped_df: 53 × 3\n",
       "\n",
       "| market_segment &lt;chr&gt; | reserved_room_type &lt;chr&gt; | avg_adr &lt;dbl&gt; |\n",
       "|---|---|---|\n",
       "| Aviation      | A |  93.812810 |\n",
       "| Aviation      | D | 107.464369 |\n",
       "| Aviation      | E | 159.250000 |\n",
       "| Complementary | A |   3.557130 |\n",
       "| Complementary | B |   0.080000 |\n",
       "| Complementary | C |  10.571429 |\n",
       "| Complementary | D |   3.023247 |\n",
       "| Complementary | E |   2.869565 |\n",
       "| Complementary | F |   2.040816 |\n",
       "| Complementary | G |   1.076271 |\n",
       "| Complementary | H |   0.000000 |\n",
       "| Corporate     | A |  64.997870 |\n",
       "| Corporate     | B |  45.416667 |\n",
       "| Corporate     | C |  79.625000 |\n",
       "| Corporate     | D |  91.805405 |\n",
       "| Corporate     | E |  99.880785 |\n",
       "| Corporate     | F | 105.414000 |\n",
       "| Corporate     | G | 135.221429 |\n",
       "| Corporate     | H | 163.800000 |\n",
       "| Direct        | A |  96.395839 |\n",
       "| Direct        | B |  92.501154 |\n",
       "| Direct        | C | 162.846250 |\n",
       "| Direct        | D | 124.730231 |\n",
       "| Direct        | E | 135.303464 |\n",
       "| Direct        | F | 150.615156 |\n",
       "| Direct        | G | 185.748745 |\n",
       "| Direct        | H | 180.904079 |\n",
       "| Direct        | L | 124.666667 |\n",
       "| Groups        | A |  74.501230 |\n",
       "| Groups        | B |  89.214286 |\n",
       "| Groups        | C |  94.098261 |\n",
       "| Groups        | D |  75.152362 |\n",
       "| Groups        | E |  84.578933 |\n",
       "| Groups        | F |  85.285714 |\n",
       "| Groups        | G | 103.105263 |\n",
       "| Groups        | H | 120.000000 |\n",
       "| Offline TA/TO | A |  78.180326 |\n",
       "| Offline TA/TO | B |  75.513922 |\n",
       "| Offline TA/TO | C | 121.855060 |\n",
       "| Offline TA/TO | D |  86.998079 |\n",
       "| Offline TA/TO | E | 100.366038 |\n",
       "| Offline TA/TO | F | 127.550702 |\n",
       "| Offline TA/TO | G | 180.256818 |\n",
       "| Offline TA/TO | H | 176.900000 |\n",
       "| Online TA     | A | 103.235493 |\n",
       "| Online TA     | B |  94.109830 |\n",
       "| Online TA     | C | 173.142409 |\n",
       "| Online TA     | D | 132.445205 |\n",
       "| Online TA     | E | 134.740192 |\n",
       "| Online TA     | F | 183.046358 |\n",
       "| Online TA     | G | 182.369972 |\n",
       "| Online TA     | H | 192.854404 |\n",
       "| Undefined     | B |  15.000000 |\n",
       "\n"
      ],
      "text/plain": [
       "   market_segment reserved_room_type avg_adr   \n",
       "1  Aviation       A                   93.812810\n",
       "2  Aviation       D                  107.464369\n",
       "3  Aviation       E                  159.250000\n",
       "4  Complementary  A                    3.557130\n",
       "5  Complementary  B                    0.080000\n",
       "6  Complementary  C                   10.571429\n",
       "7  Complementary  D                    3.023247\n",
       "8  Complementary  E                    2.869565\n",
       "9  Complementary  F                    2.040816\n",
       "10 Complementary  G                    1.076271\n",
       "11 Complementary  H                    0.000000\n",
       "12 Corporate      A                   64.997870\n",
       "13 Corporate      B                   45.416667\n",
       "14 Corporate      C                   79.625000\n",
       "15 Corporate      D                   91.805405\n",
       "16 Corporate      E                   99.880785\n",
       "17 Corporate      F                  105.414000\n",
       "18 Corporate      G                  135.221429\n",
       "19 Corporate      H                  163.800000\n",
       "20 Direct         A                   96.395839\n",
       "21 Direct         B                   92.501154\n",
       "22 Direct         C                  162.846250\n",
       "23 Direct         D                  124.730231\n",
       "24 Direct         E                  135.303464\n",
       "25 Direct         F                  150.615156\n",
       "26 Direct         G                  185.748745\n",
       "27 Direct         H                  180.904079\n",
       "28 Direct         L                  124.666667\n",
       "29 Groups         A                   74.501230\n",
       "30 Groups         B                   89.214286\n",
       "31 Groups         C                   94.098261\n",
       "32 Groups         D                   75.152362\n",
       "33 Groups         E                   84.578933\n",
       "34 Groups         F                   85.285714\n",
       "35 Groups         G                  103.105263\n",
       "36 Groups         H                  120.000000\n",
       "37 Offline TA/TO  A                   78.180326\n",
       "38 Offline TA/TO  B                   75.513922\n",
       "39 Offline TA/TO  C                  121.855060\n",
       "40 Offline TA/TO  D                   86.998079\n",
       "41 Offline TA/TO  E                  100.366038\n",
       "42 Offline TA/TO  F                  127.550702\n",
       "43 Offline TA/TO  G                  180.256818\n",
       "44 Offline TA/TO  H                  176.900000\n",
       "45 Online TA      A                  103.235493\n",
       "46 Online TA      B                   94.109830\n",
       "47 Online TA      C                  173.142409\n",
       "48 Online TA      D                  132.445205\n",
       "49 Online TA      E                  134.740192\n",
       "50 Online TA      F                  183.046358\n",
       "51 Online TA      G                  182.369972\n",
       "52 Online TA      H                  192.854404\n",
       "53 Undefined      B                   15.000000"
      ]
     },
     "metadata": {},
     "output_type": "display_data"
    }
   ],
   "source": [
    "adr_df"
   ]
  },
  {
   "cell_type": "code",
   "execution_count": null,
   "id": "b548fcca",
   "metadata": {},
   "outputs": [],
   "source": []
  },
  {
   "cell_type": "code",
   "execution_count": null,
   "id": "68f360e4",
   "metadata": {},
   "outputs": [],
   "source": []
  },
  {
   "cell_type": "code",
   "execution_count": null,
   "id": "65b4abd3",
   "metadata": {},
   "outputs": [],
   "source": [
    "### we have built grouped-bar using base-R in 3rd session of Uber case study & ggplot in 4th session of Amazon case-study !"
   ]
  },
  {
   "cell_type": "markdown",
   "id": "481d9f3d",
   "metadata": {},
   "source": [
    "        Basic ggplot structure:\n",
    "        The basic structure of a ggplot2 plot involves :\n",
    "        a) specifying a data frame \n",
    "        b) mapping aesthetic properties, \n",
    "        c) and adding geometric layers(adding required plot as per our need)..\n",
    "        \n",
    "           The main function is ggplot():"
   ]
  },
  {
   "cell_type": "code",
   "execution_count": 12,
   "id": "444a505a",
   "metadata": {},
   "outputs": [],
   "source": [
    "library(ggplot2)"
   ]
  },
  {
   "cell_type": "code",
   "execution_count": 13,
   "id": "18d325db",
   "metadata": {},
   "outputs": [
    {
     "data": {
      "text/html": [
       "<pre class=language-r><code>function (data = NULL, mapping = aes(), ..., environment = parent.frame()) \n",
       "NULL</code></pre>"
      ],
      "text/latex": [
       "\\begin{minted}{r}\n",
       "function (data = NULL, mapping = aes(), ..., environment = parent.frame()) \n",
       "NULL\n",
       "\\end{minted}"
      ],
      "text/markdown": [
       "```r\n",
       "function (data = NULL, mapping = aes(), ..., environment = parent.frame()) \n",
       "NULL\n",
       "```"
      ],
      "text/plain": [
       "function (data = NULL, mapping = aes(), ..., environment = parent.frame()) \n",
       "NULL"
      ]
     },
     "metadata": {},
     "output_type": "display_data"
    }
   ],
   "source": [
    "args(ggplot)"
   ]
  },
  {
   "cell_type": "markdown",
   "id": "ac31d383",
   "metadata": {},
   "source": [
    "    data = Dataframe on which u are running it on !\n",
    "\n",
    "    mapping = u can mention those variables which u want to consider while considering plots\n",
    "              using aes() along with u can customize x-axis , y-axis , color , size, shape etc..\n",
    "\n",
    "    ... : This ellipsis argument allows you to pass additional arguments as per need !"
   ]
  },
  {
   "cell_type": "code",
   "execution_count": null,
   "id": "4976fd07",
   "metadata": {},
   "outputs": [],
   "source": [
    "help(geom_bar)"
   ]
  },
  {
   "cell_type": "code",
   "execution_count": null,
   "id": "387c6e70",
   "metadata": {},
   "outputs": [],
   "source": [
    "\"\n",
    "\n",
    "geom_bar(\n",
    "  mapping = NULL,\n",
    "  data = NULL,\n",
    "  stat = \"count\",\n",
    "  position = \"stack\",\n",
    "  ...,\n",
    "  just = 0.5,\n",
    "  width = NULL,\n",
    "  na.rm = FALSE,\n",
    "  orientation = NA,\n",
    "  show.legend = NA,\n",
    "  inherit.aes = TRUE\n",
    ")\n",
    "\n",
    "\n",
    "\n",
    "    mapping : u can mention those variables which u want to consider while considering plots\n",
    "              along with its customization properties using the aes() function\n",
    "              eg x-axis position, y-axis position, color, shape, size\n",
    "              aes(x = variable1, y = variable2) would map variable1 to the x-axis and variable2 to the y-axis.\n",
    "              If not specified, the data from the ggplot() call is used.\n",
    "\n",
    "    data : The data frame on which we are working.. , If not specified, the data from the ggplot() call is used..\n",
    "\n",
    "    stat : This parameter determines how the heights of the bars are calculated. \n",
    "            By default, it is set to \"count\", which count the occurrences of each category..\n",
    "            Other options include :\n",
    "            \"identity\" (use the values in the data directly), \n",
    "            \"density\" (compute a density estimate)\n",
    "            \"frequency\" (counts the number of cases)\n",
    "\n",
    "\n",
    "    position : This parameter is used to create stacked-bar & grouped-bar as per need..\n",
    "                ie , This parameter specifies how the bars should be positioned. \n",
    "                By default, it is set to \"stack\", which stacks the bars on top of each other. \n",
    "                Other options include :\n",
    "                \"dodge\" (place the bars side by side)  , ie for grouped-bar chart !\n",
    "                \"fill\" (stack bars and normalize each group to have the same height),\n",
    "                \"identity\" (no stacking)\n",
    "\n",
    "\n",
    "\n",
    "\n",
    "    ...: Additional arguments passed on to geom_bar()\n",
    "\n",
    "\n",
    "\n",
    "\n",
    "\n",
    "\""
   ]
  },
  {
   "cell_type": "code",
   "execution_count": null,
   "id": "36d16a15",
   "metadata": {},
   "outputs": [],
   "source": []
  },
  {
   "cell_type": "code",
   "execution_count": null,
   "id": "5a9559fa",
   "metadata": {},
   "outputs": [],
   "source": [
    "help(labs)\n",
    "\n",
    "### plot labels"
   ]
  },
  {
   "cell_type": "code",
   "execution_count": 27,
   "id": "bcb70030",
   "metadata": {},
   "outputs": [
    {
     "data": {
      "text/html": [
       "<pre class=language-r><code>function (..., title = waiver(), subtitle = waiver(), caption = waiver(), \n",
       "<span style=white-space:pre-wrap>    tag = waiver(), alt = waiver(), alt_insight = waiver()) </span>\n",
       "NULL</code></pre>"
      ],
      "text/latex": [
       "\\begin{minted}{r}\n",
       "function (..., title = waiver(), subtitle = waiver(), caption = waiver(), \n",
       "    tag = waiver(), alt = waiver(), alt\\_insight = waiver()) \n",
       "NULL\n",
       "\\end{minted}"
      ],
      "text/markdown": [
       "```r\n",
       "function (..., title = waiver(), subtitle = waiver(), caption = waiver(), \n",
       "    tag = waiver(), alt = waiver(), alt_insight = waiver()) \n",
       "NULL\n",
       "```"
      ],
      "text/plain": [
       "function (..., title = waiver(), subtitle = waiver(), caption = waiver(), \n",
       "    tag = waiver(), alt = waiver(), alt_insight = waiver()) \n",
       "NULL"
      ]
     },
     "metadata": {},
     "output_type": "display_data"
    }
   ],
   "source": [
    "args(labs)"
   ]
  },
  {
   "cell_type": "markdown",
   "id": "44bf1701",
   "metadata": {},
   "source": [
    "    title : A label for the plot's title\n",
    "    subtitle : A label for the plot's subtitle\n",
    "    caption: A label for the plot's caption\n",
    "\n",
    "    : Ellipsis (...) allows you to include additional label arguments.."
   ]
  },
  {
   "cell_type": "code",
   "execution_count": null,
   "id": "19692118",
   "metadata": {},
   "outputs": [],
   "source": []
  },
  {
   "cell_type": "code",
   "execution_count": 48,
   "id": "824f28ec",
   "metadata": {},
   "outputs": [
    {
     "data": {
      "image/png": "[encoded data removed]",
      "text/plain": [
       "plot without title"
      ]
     },
     "metadata": {
      "image/png": {
       "height": 480,
       "width": 720
      }
     },
     "output_type": "display_data"
    }
   ],
   "source": [
    "options(repr.plot.width=12, repr.plot.height=8)\n",
    "\n",
    "\n",
    "ggplot2 :: ggplot(adr_df , aes(x = market_segment, y = avg_adr, fill = as.character(reserved_room_type))) +\n",
    "  geom_bar(stat = \"identity\", position = \"dodge\" ) +\n",
    "  labs(x = \"Market Segment\", y = \"ADR\", fill = \"Reserved Room Type\") +\n",
    "  theme_minimal()\n"
   ]
  },
  {
   "cell_type": "code",
   "execution_count": null,
   "id": "94cdaab9",
   "metadata": {},
   "outputs": [],
   "source": [
    "\"\n",
    "\n",
    "Inside aes(), we specify those parameters that we want to consider while creating plots:\n",
    "\n",
    "x = market_segment ,  ie we want \"market_segment\" column to the x-axis.\n",
    "y = avg_adr ,  ie we want \"avg_adr\" column to the y-axis..\n",
    "\n",
    "fill = as.character(reserved_room_type) , \n",
    "since we have various diff sub-categories in \"reserved_room_type\" column as \"Direct\" , \"Online TA\", \n",
    "ie we have to assign diff colors to various bars just to distinguish ..\n",
    "\n",
    "\n",
    "\n",
    "geom_bar(stat = \"identity\", position = \"dodge\") :\n",
    "\n",
    "stat = \"identity\" means :\n",
    "it will automatically take values \n",
    "            OR\n",
    "This adds the bars to the plot, using \"identity\" as the statistical transformation\n",
    "\n",
    "position = \"dodge\" means I want grouped_bar chart b/w market_segment & avg_adr for the various sub-categories in \"reserved_room_type\"\n",
    "\n",
    "\n",
    "\""
   ]
  },
  {
   "cell_type": "code",
   "execution_count": null,
   "id": "2ce70203",
   "metadata": {},
   "outputs": [],
   "source": []
  },
  {
   "cell_type": "code",
   "execution_count": null,
   "id": "a4c7f4fd",
   "metadata": {},
   "outputs": [],
   "source": []
  },
  {
   "cell_type": "code",
   "execution_count": null,
   "id": "6bcfcef7",
   "metadata": {},
   "outputs": [],
   "source": [
    "### lets adjust color paletter just to make grouped bar more better !"
   ]
  },
  {
   "cell_type": "code",
   "execution_count": null,
   "id": "50660789",
   "metadata": {},
   "outputs": [],
   "source": [
    "\"\n",
    "\n",
    "There are various color palette from RColorBrewer package :\n",
    "\n",
    "Note : \n",
    "        Set1 has max of 9 colors\n",
    "        Set2 has max of 8 colors\n",
    "        Set3 has a max of 12 colours\n",
    "        RdYlBu has a max of 11 colours\n",
    "        RdBu has a max of 11 colours\n",
    "        Greys has a max of 9 colour \n",
    "\n",
    "\""
   ]
  },
  {
   "cell_type": "code",
   "execution_count": 49,
   "id": "8cd78ec1",
   "metadata": {},
   "outputs": [
    {
     "data": {
      "text/html": [
       "<style>\n",
       ".list-inline {list-style: none; margin:0; padding: 0}\n",
       ".list-inline>li {display: inline-block}\n",
       ".list-inline>li:not(:last-child)::after {content: \"\\00b7\"; padding: 0 .5ex}\n",
       "</style>\n",
       "<ol class=list-inline><li>'#E41A1C'</li><li>'#377EB8'</li><li>'#4DAF4A'</li><li>'#984EA3'</li><li>'#FF7F00'</li><li>'#FFFF33'</li><li>'#A65628'</li><li>'#F781BF'</li><li>'#999999'</li></ol>\n"
      ],
      "text/latex": [
       "\\begin{enumerate*}\n",
       "\\item '\\#E41A1C'\n",
       "\\item '\\#377EB8'\n",
       "\\item '\\#4DAF4A'\n",
       "\\item '\\#984EA3'\n",
       "\\item '\\#FF7F00'\n",
       "\\item '\\#FFFF33'\n",
       "\\item '\\#A65628'\n",
       "\\item '\\#F781BF'\n",
       "\\item '\\#999999'\n",
       "\\end{enumerate*}\n"
      ],
      "text/markdown": [
       "1. '#E41A1C'\n",
       "2. '#377EB8'\n",
       "3. '#4DAF4A'\n",
       "4. '#984EA3'\n",
       "5. '#FF7F00'\n",
       "6. '#FFFF33'\n",
       "7. '#A65628'\n",
       "8. '#F781BF'\n",
       "9. '#999999'\n",
       "\n",
       "\n"
      ],
      "text/plain": [
       "[1] \"#E41A1C\" \"#377EB8\" \"#4DAF4A\" \"#984EA3\" \"#FF7F00\" \"#FFFF33\" \"#A65628\"\n",
       "[8] \"#F781BF\" \"#999999\""
      ]
     },
     "metadata": {},
     "output_type": "display_data"
    }
   ],
   "source": [
    "# Generate a vector of colors from the Set2 palette with 9 colors\n",
    "RColorBrewer :: brewer.pal(9 , \"Set1\")"
   ]
  },
  {
   "cell_type": "code",
   "execution_count": null,
   "id": "55b27b3e",
   "metadata": {},
   "outputs": [],
   "source": []
  },
  {
   "cell_type": "code",
   "execution_count": 31,
   "id": "4bcc5d4a",
   "metadata": {},
   "outputs": [],
   "source": [
    "help(scale_fill_manual)\n",
    "\n",
    "### manually specify the colors for filling in different categories or groups in your plot."
   ]
  },
  {
   "cell_type": "code",
   "execution_count": null,
   "id": "7ad35db6",
   "metadata": {},
   "outputs": [],
   "source": [
    "\"\n",
    "\n",
    "scale_fill_manual(\n",
    "  ... ,\n",
    "  values ,\n",
    "  aesthetics = \"fill\" ,\n",
    "  breaks = waiver() ,\n",
    "  na.value = \"grey50\"\n",
    ")\n",
    "\n",
    "\n",
    "\n",
    "values: This argument takes a vector of colors that you want to use for filling.. \n",
    "        You can specify colors either by name (e.g., \"red\", \"blue\") or by hexadecimal codes (e.g., \"#FF0000\", \"#0000FF\").\n",
    "\n",
    "\""
   ]
  },
  {
   "cell_type": "code",
   "execution_count": 28,
   "id": "12bdbcfa",
   "metadata": {},
   "outputs": [
    {
     "data": {
      "text/html": [
       "<pre class=language-r><code>function (..., values, aesthetics = \"fill\", breaks = waiver(), \n",
       "<span style=white-space:pre-wrap>    na.value = \"grey50\") </span>\n",
       "NULL</code></pre>"
      ],
      "text/latex": [
       "\\begin{minted}{r}\n",
       "function (..., values, aesthetics = \"fill\", breaks = waiver(), \n",
       "    na.value = \"grey50\") \n",
       "NULL\n",
       "\\end{minted}"
      ],
      "text/markdown": [
       "```r\n",
       "function (..., values, aesthetics = \"fill\", breaks = waiver(), \n",
       "    na.value = \"grey50\") \n",
       "NULL\n",
       "```"
      ],
      "text/plain": [
       "function (..., values, aesthetics = \"fill\", breaks = waiver(), \n",
       "    na.value = \"grey50\") \n",
       "NULL"
      ]
     },
     "metadata": {},
     "output_type": "display_data"
    }
   ],
   "source": [
    "args(scale_fill_manual)"
   ]
  },
  {
   "cell_type": "code",
   "execution_count": null,
   "id": "73d17419",
   "metadata": {},
   "outputs": [],
   "source": []
  },
  {
   "cell_type": "code",
   "execution_count": 50,
   "id": "b86caf92",
   "metadata": {},
   "outputs": [
    {
     "data": {
      "image/png": "[encoded data removed]",
      "text/plain": [
       "plot without title"
      ]
     },
     "metadata": {
      "image/png": {
       "height": 480,
       "width": 720
      }
     },
     "output_type": "display_data"
    }
   ],
   "source": [
    "options(repr.plot.width=12, repr.plot.height=8)\n",
    "\n",
    "library(ggplot2)\n",
    "\n",
    "# Define a custom color palette\n",
    "custom_colors = RColorBrewer :: brewer.pal(9, \"Set1\")\n",
    "\n",
    "ggplot2 :: ggplot(adr_df, aes(x = market_segment, y = avg_adr, fill = as.character(reserved_room_type))) +\n",
    "  geom_bar(stat = \"identity\", position = \"dodge\") +\n",
    "  scale_fill_manual(values = custom_colors) +  # Set the custom color palette\n",
    "  labs(x = \"Market Segment\", y = \"ADR\", fill = \"Reserved Room Type\") +\n",
    "  theme_minimal()\n",
    "\n",
    "\n",
    "### ie this plot tells avg adr of various room-types for all the market segment .."
   ]
  },
  {
   "cell_type": "code",
   "execution_count": null,
   "id": "a9e54dee",
   "metadata": {},
   "outputs": [],
   "source": []
  },
  {
   "cell_type": "code",
   "execution_count": null,
   "id": "ad46234a",
   "metadata": {},
   "outputs": [],
   "source": []
  },
  {
   "cell_type": "code",
   "execution_count": null,
   "id": "d4817389",
   "metadata": {},
   "outputs": [],
   "source": []
  },
  {
   "cell_type": "code",
   "execution_count": null,
   "id": "747950ed",
   "metadata": {},
   "outputs": [],
   "source": []
  },
  {
   "cell_type": "code",
   "execution_count": null,
   "id": "9a3d9f50",
   "metadata": {},
   "outputs": [],
   "source": []
  },
  {
   "cell_type": "markdown",
   "id": "f771467c",
   "metadata": {},
   "source": [
    "## 7.. Total guests arrival on each day : \n",
    "         Is there any pattern in guests arrival , ie whether Guests number have increased or not ? "
   ]
  },
  {
   "cell_type": "code",
   "execution_count": 51,
   "id": "fa165550",
   "metadata": {},
   "outputs": [
    {
     "data": {
      "text/html": [
       "<table class=\"dataframe\">\n",
       "<caption>A data.frame: 2 × 32</caption>\n",
       "<thead>\n",
       "\t<tr><th></th><th scope=col>hotel</th><th scope=col>is_canceled</th><th scope=col>lead_time</th><th scope=col>arrival_date_year</th><th scope=col>arrival_date_month</th><th scope=col>arrival_date_week_number</th><th scope=col>arrival_date_day_of_month</th><th scope=col>stays_in_weekend_nights</th><th scope=col>stays_in_week_nights</th><th scope=col>adults</th><th scope=col>...</th><th scope=col>deposit_type</th><th scope=col>agent</th><th scope=col>company</th><th scope=col>days_in_waiting_list</th><th scope=col>customer_type</th><th scope=col>adr</th><th scope=col>required_car_parking_spaces</th><th scope=col>total_of_special_requests</th><th scope=col>reservation_status</th><th scope=col>reservation_status_date</th></tr>\n",
       "\t<tr><th></th><th scope=col>&lt;chr&gt;</th><th scope=col>&lt;int&gt;</th><th scope=col>&lt;int&gt;</th><th scope=col>&lt;int&gt;</th><th scope=col>&lt;chr&gt;</th><th scope=col>&lt;int&gt;</th><th scope=col>&lt;int&gt;</th><th scope=col>&lt;int&gt;</th><th scope=col>&lt;int&gt;</th><th scope=col>&lt;int&gt;</th><th scope=col>...</th><th scope=col>&lt;chr&gt;</th><th scope=col>&lt;chr&gt;</th><th scope=col>&lt;chr&gt;</th><th scope=col>&lt;int&gt;</th><th scope=col>&lt;chr&gt;</th><th scope=col>&lt;dbl&gt;</th><th scope=col>&lt;int&gt;</th><th scope=col>&lt;int&gt;</th><th scope=col>&lt;chr&gt;</th><th scope=col>&lt;chr&gt;</th></tr>\n",
       "</thead>\n",
       "<tbody>\n",
       "\t<tr><th scope=row>1</th><td>Resort Hotel</td><td>0</td><td>342</td><td>2015</td><td>July</td><td>27</td><td>1</td><td>0</td><td>0</td><td>2</td><td>...</td><td>No Deposit</td><td>NULL</td><td>NULL</td><td>0</td><td>Transient</td><td>0</td><td>0</td><td>0</td><td>Check-Out</td><td>7/1/2015</td></tr>\n",
       "\t<tr><th scope=row>2</th><td>Resort Hotel</td><td>0</td><td>737</td><td>2015</td><td>July</td><td>27</td><td>1</td><td>0</td><td>0</td><td>2</td><td>...</td><td>No Deposit</td><td>NULL</td><td>NULL</td><td>0</td><td>Transient</td><td>0</td><td>0</td><td>0</td><td>Check-Out</td><td>7/1/2015</td></tr>\n",
       "</tbody>\n",
       "</table>\n"
      ],
      "text/latex": [
       "A data.frame: 2 × 32\n",
       "\\begin{tabular}{r|lllllllllllllllllllll}\n",
       "  & hotel & is\\_canceled & lead\\_time & arrival\\_date\\_year & arrival\\_date\\_month & arrival\\_date\\_week\\_number & arrival\\_date\\_day\\_of\\_month & stays\\_in\\_weekend\\_nights & stays\\_in\\_week\\_nights & adults & ... & deposit\\_type & agent & company & days\\_in\\_waiting\\_list & customer\\_type & adr & required\\_car\\_parking\\_spaces & total\\_of\\_special\\_requests & reservation\\_status & reservation\\_status\\_date\\\\\n",
       "  & <chr> & <int> & <int> & <int> & <chr> & <int> & <int> & <int> & <int> & <int> & ... & <chr> & <chr> & <chr> & <int> & <chr> & <dbl> & <int> & <int> & <chr> & <chr>\\\\\n",
       "\\hline\n",
       "\t1 & Resort Hotel & 0 & 342 & 2015 & July & 27 & 1 & 0 & 0 & 2 & ... & No Deposit & NULL & NULL & 0 & Transient & 0 & 0 & 0 & Check-Out & 7/1/2015\\\\\n",
       "\t2 & Resort Hotel & 0 & 737 & 2015 & July & 27 & 1 & 0 & 0 & 2 & ... & No Deposit & NULL & NULL & 0 & Transient & 0 & 0 & 0 & Check-Out & 7/1/2015\\\\\n",
       "\\end{tabular}\n"
      ],
      "text/markdown": [
       "\n",
       "A data.frame: 2 × 32\n",
       "\n",
       "| <!--/--> | hotel &lt;chr&gt; | is_canceled &lt;int&gt; | lead_time &lt;int&gt; | arrival_date_year &lt;int&gt; | arrival_date_month &lt;chr&gt; | arrival_date_week_number &lt;int&gt; | arrival_date_day_of_month &lt;int&gt; | stays_in_weekend_nights &lt;int&gt; | stays_in_week_nights &lt;int&gt; | adults &lt;int&gt; | ... ... | deposit_type &lt;chr&gt; | agent &lt;chr&gt; | company &lt;chr&gt; | days_in_waiting_list &lt;int&gt; | customer_type &lt;chr&gt; | adr &lt;dbl&gt; | required_car_parking_spaces &lt;int&gt; | total_of_special_requests &lt;int&gt; | reservation_status &lt;chr&gt; | reservation_status_date &lt;chr&gt; |\n",
       "|---|---|---|---|---|---|---|---|---|---|---|---|---|---|---|---|---|---|---|---|---|---|\n",
       "| 1 | Resort Hotel | 0 | 342 | 2015 | July | 27 | 1 | 0 | 0 | 2 | ... | No Deposit | NULL | NULL | 0 | Transient | 0 | 0 | 0 | Check-Out | 7/1/2015 |\n",
       "| 2 | Resort Hotel | 0 | 737 | 2015 | July | 27 | 1 | 0 | 0 | 2 | ... | No Deposit | NULL | NULL | 0 | Transient | 0 | 0 | 0 | Check-Out | 7/1/2015 |\n",
       "\n"
      ],
      "text/plain": [
       "  hotel        is_canceled lead_time arrival_date_year arrival_date_month\n",
       "1 Resort Hotel 0           342       2015              July              \n",
       "2 Resort Hotel 0           737       2015              July              \n",
       "  arrival_date_week_number arrival_date_day_of_month stays_in_weekend_nights\n",
       "1 27                       1                         0                      \n",
       "2 27                       1                         0                      \n",
       "  stays_in_week_nights adults ... deposit_type agent company\n",
       "1 0                    2      ... No Deposit   NULL  NULL   \n",
       "2 0                    2      ... No Deposit   NULL  NULL   \n",
       "  days_in_waiting_list customer_type adr required_car_parking_spaces\n",
       "1 0                    Transient     0   0                          \n",
       "2 0                    Transient     0   0                          \n",
       "  total_of_special_requests reservation_status reservation_status_date\n",
       "1 0                         Check-Out          7/1/2015               \n",
       "2 0                         Check-Out          7/1/2015               "
      ]
     },
     "metadata": {},
     "output_type": "display_data"
    }
   ],
   "source": [
    "head(data , 2)"
   ]
  },
  {
   "cell_type": "code",
   "execution_count": 52,
   "id": "1ffe33e0",
   "metadata": {},
   "outputs": [
    {
     "data": {
      "text/html": [
       "<style>\n",
       ".list-inline {list-style: none; margin:0; padding: 0}\n",
       ".list-inline>li {display: inline-block}\n",
       ".list-inline>li:not(:last-child)::after {content: \"\\00b7\"; padding: 0 .5ex}\n",
       "</style>\n",
       "<ol class=list-inline><li>'July'</li><li>'August'</li><li>'September'</li><li>'October'</li><li>'November'</li><li>'December'</li><li>'January'</li><li>'February'</li><li>'March'</li><li>'April'</li><li>'May'</li><li>'June'</li></ol>\n"
      ],
      "text/latex": [
       "\\begin{enumerate*}\n",
       "\\item 'July'\n",
       "\\item 'August'\n",
       "\\item 'September'\n",
       "\\item 'October'\n",
       "\\item 'November'\n",
       "\\item 'December'\n",
       "\\item 'January'\n",
       "\\item 'February'\n",
       "\\item 'March'\n",
       "\\item 'April'\n",
       "\\item 'May'\n",
       "\\item 'June'\n",
       "\\end{enumerate*}\n"
      ],
      "text/markdown": [
       "1. 'July'\n",
       "2. 'August'\n",
       "3. 'September'\n",
       "4. 'October'\n",
       "5. 'November'\n",
       "6. 'December'\n",
       "7. 'January'\n",
       "8. 'February'\n",
       "9. 'March'\n",
       "10. 'April'\n",
       "11. 'May'\n",
       "12. 'June'\n",
       "\n",
       "\n"
      ],
      "text/plain": [
       " [1] \"July\"      \"August\"    \"September\" \"October\"   \"November\"  \"December\" \n",
       " [7] \"January\"   \"February\"  \"March\"     \"April\"     \"May\"       \"June\"     "
      ]
     },
     "metadata": {},
     "output_type": "display_data"
    }
   ],
   "source": [
    "unique(data$arrival_date_month)"
   ]
  },
  {
   "cell_type": "code",
   "execution_count": null,
   "id": "6438f6be",
   "metadata": {},
   "outputs": [],
   "source": []
  },
  {
   "cell_type": "code",
   "execution_count": 53,
   "id": "441d7897",
   "metadata": {},
   "outputs": [],
   "source": [
    "l1 = list(July=7 , August=8 , September=9 , October=10 , November=11 , December=12,\n",
    "       January=1 , February=2 , March=3 , April=4 , May=5 , June=6 )"
   ]
  },
  {
   "cell_type": "code",
   "execution_count": 34,
   "id": "be9e4709",
   "metadata": {},
   "outputs": [],
   "source": [
    "help(recode)\n",
    "\n",
    "## Recode values"
   ]
  },
  {
   "cell_type": "code",
   "execution_count": 33,
   "id": "43dc2f28",
   "metadata": {},
   "outputs": [
    {
     "data": {
      "text/html": [
       "<pre class=language-r><code>function (.x, ..., .default = NULL, .missing = NULL) \n",
       "NULL</code></pre>"
      ],
      "text/latex": [
       "\\begin{minted}{r}\n",
       "function (.x, ..., .default = NULL, .missing = NULL) \n",
       "NULL\n",
       "\\end{minted}"
      ],
      "text/markdown": [
       "```r\n",
       "function (.x, ..., .default = NULL, .missing = NULL) \n",
       "NULL\n",
       "```"
      ],
      "text/plain": [
       "function (.x, ..., .default = NULL, .missing = NULL) \n",
       "NULL"
      ]
     },
     "metadata": {},
     "output_type": "display_data"
    }
   ],
   "source": [
    "args(dplyr :: recode)"
   ]
  },
  {
   "cell_type": "code",
   "execution_count": null,
   "id": "4414441e",
   "metadata": {},
   "outputs": [],
   "source": [
    "\"\n",
    "recode(.x, ..., .default = NULL, .missing = NULL)\n",
    "\n",
    "\n",
    "\n",
    ".x: This is the input vector or column that you want to recode..\n",
    "\n",
    ".default : This parameter allows you to mention a default value , when no other recoding rules match\n",
    "\n",
    ".missing : This parameter allows you to mention a replacement for missing values (NA) in the input vector .x\n",
    "\n",
    "\n",
    "\""
   ]
  },
  {
   "cell_type": "code",
   "execution_count": 54,
   "id": "2ab568b0",
   "metadata": {},
   "outputs": [],
   "source": [
    "data['arrival_date_month_index'] = dplyr ::: recode(data$arrival_date_month,!!!l1)\n",
    "\n",
    "### ie recode(map) the values in the \"arrival_date_month\" column..\n",
    "### !!!l1 is used to unquote the values from the list l1 and apply the mapping.."
   ]
  },
  {
   "cell_type": "code",
   "execution_count": null,
   "id": "567734b2",
   "metadata": {},
   "outputs": [],
   "source": [
    "\"\n",
    "\n",
    "category_id is the column you want to recode.\n",
    "cat_list is a list that maps the old values to the new values.\n",
    "\n",
    "\n",
    "!!!cat_list : !!! is used to unquote the elements of cat_list..\n",
    "ie it \"spreads\" the contents of the list as separate arguments..\n",
    "\n",
    "\n",
    "\n",
    "So, if cat_list looks like this:\n",
    "cat_list <- list(\"A\" = \"X\", \"B\" = \"Y\", \"C\" = \"Z\")\n",
    "\n",
    "The !!!cat_list would be equivalent to :\n",
    "\"A\" = \"X\", \"B\" = \"Y\", \"C\" = \"Z\"\n",
    "\n",
    "\n",
    "\""
   ]
  },
  {
   "cell_type": "code",
   "execution_count": 55,
   "id": "ed83b209",
   "metadata": {},
   "outputs": [
    {
     "data": {
      "text/html": [
       "<style>\n",
       ".list-inline {list-style: none; margin:0; padding: 0}\n",
       ".list-inline>li {display: inline-block}\n",
       ".list-inline>li:not(:last-child)::after {content: \"\\00b7\"; padding: 0 .5ex}\n",
       "</style>\n",
       "<ol class=list-inline><li>'hotel'</li><li>'is_canceled'</li><li>'lead_time'</li><li>'arrival_date_year'</li><li>'arrival_date_month'</li><li>'arrival_date_week_number'</li><li>'arrival_date_day_of_month'</li><li>'stays_in_weekend_nights'</li><li>'stays_in_week_nights'</li><li>'adults'</li><li>'children'</li><li>'babies'</li><li>'meal'</li><li>'country'</li><li>'market_segment'</li><li>'distribution_channel'</li><li>'is_repeated_guest'</li><li>'previous_cancellations'</li><li>'previous_bookings_not_canceled'</li><li>'reserved_room_type'</li><li>'assigned_room_type'</li><li>'booking_changes'</li><li>'deposit_type'</li><li>'agent'</li><li>'company'</li><li>'days_in_waiting_list'</li><li>'customer_type'</li><li>'adr'</li><li>'required_car_parking_spaces'</li><li>'total_of_special_requests'</li><li>'reservation_status'</li><li>'reservation_status_date'</li><li>'arrival_date_month_index'</li></ol>\n"
      ],
      "text/latex": [
       "\\begin{enumerate*}\n",
       "\\item 'hotel'\n",
       "\\item 'is\\_canceled'\n",
       "\\item 'lead\\_time'\n",
       "\\item 'arrival\\_date\\_year'\n",
       "\\item 'arrival\\_date\\_month'\n",
       "\\item 'arrival\\_date\\_week\\_number'\n",
       "\\item 'arrival\\_date\\_day\\_of\\_month'\n",
       "\\item 'stays\\_in\\_weekend\\_nights'\n",
       "\\item 'stays\\_in\\_week\\_nights'\n",
       "\\item 'adults'\n",
       "\\item 'children'\n",
       "\\item 'babies'\n",
       "\\item 'meal'\n",
       "\\item 'country'\n",
       "\\item 'market\\_segment'\n",
       "\\item 'distribution\\_channel'\n",
       "\\item 'is\\_repeated\\_guest'\n",
       "\\item 'previous\\_cancellations'\n",
       "\\item 'previous\\_bookings\\_not\\_canceled'\n",
       "\\item 'reserved\\_room\\_type'\n",
       "\\item 'assigned\\_room\\_type'\n",
       "\\item 'booking\\_changes'\n",
       "\\item 'deposit\\_type'\n",
       "\\item 'agent'\n",
       "\\item 'company'\n",
       "\\item 'days\\_in\\_waiting\\_list'\n",
       "\\item 'customer\\_type'\n",
       "\\item 'adr'\n",
       "\\item 'required\\_car\\_parking\\_spaces'\n",
       "\\item 'total\\_of\\_special\\_requests'\n",
       "\\item 'reservation\\_status'\n",
       "\\item 'reservation\\_status\\_date'\n",
       "\\item 'arrival\\_date\\_month\\_index'\n",
       "\\end{enumerate*}\n"
      ],
      "text/markdown": [
       "1. 'hotel'\n",
       "2. 'is_canceled'\n",
       "3. 'lead_time'\n",
       "4. 'arrival_date_year'\n",
       "5. 'arrival_date_month'\n",
       "6. 'arrival_date_week_number'\n",
       "7. 'arrival_date_day_of_month'\n",
       "8. 'stays_in_weekend_nights'\n",
       "9. 'stays_in_week_nights'\n",
       "10. 'adults'\n",
       "11. 'children'\n",
       "12. 'babies'\n",
       "13. 'meal'\n",
       "14. 'country'\n",
       "15. 'market_segment'\n",
       "16. 'distribution_channel'\n",
       "17. 'is_repeated_guest'\n",
       "18. 'previous_cancellations'\n",
       "19. 'previous_bookings_not_canceled'\n",
       "20. 'reserved_room_type'\n",
       "21. 'assigned_room_type'\n",
       "22. 'booking_changes'\n",
       "23. 'deposit_type'\n",
       "24. 'agent'\n",
       "25. 'company'\n",
       "26. 'days_in_waiting_list'\n",
       "27. 'customer_type'\n",
       "28. 'adr'\n",
       "29. 'required_car_parking_spaces'\n",
       "30. 'total_of_special_requests'\n",
       "31. 'reservation_status'\n",
       "32. 'reservation_status_date'\n",
       "33. 'arrival_date_month_index'\n",
       "\n",
       "\n"
      ],
      "text/plain": [
       " [1] \"hotel\"                          \"is_canceled\"                   \n",
       " [3] \"lead_time\"                      \"arrival_date_year\"             \n",
       " [5] \"arrival_date_month\"             \"arrival_date_week_number\"      \n",
       " [7] \"arrival_date_day_of_month\"      \"stays_in_weekend_nights\"       \n",
       " [9] \"stays_in_week_nights\"           \"adults\"                        \n",
       "[11] \"children\"                       \"babies\"                        \n",
       "[13] \"meal\"                           \"country\"                       \n",
       "[15] \"market_segment\"                 \"distribution_channel\"          \n",
       "[17] \"is_repeated_guest\"              \"previous_cancellations\"        \n",
       "[19] \"previous_bookings_not_canceled\" \"reserved_room_type\"            \n",
       "[21] \"assigned_room_type\"             \"booking_changes\"               \n",
       "[23] \"deposit_type\"                   \"agent\"                         \n",
       "[25] \"company\"                        \"days_in_waiting_list\"          \n",
       "[27] \"customer_type\"                  \"adr\"                           \n",
       "[29] \"required_car_parking_spaces\"    \"total_of_special_requests\"     \n",
       "[31] \"reservation_status\"             \"reservation_status_date\"       \n",
       "[33] \"arrival_date_month_index\"      "
      ]
     },
     "metadata": {},
     "output_type": "display_data"
    }
   ],
   "source": [
    "colnames(data)"
   ]
  },
  {
   "cell_type": "code",
   "execution_count": 56,
   "id": "16d66a0c",
   "metadata": {},
   "outputs": [
    {
     "data": {
      "text/html": [
       "<table class=\"dataframe\">\n",
       "<caption>A data.frame: 87230 × 3</caption>\n",
       "<thead>\n",
       "\t<tr><th scope=col>arrival_date_year</th><th scope=col>arrival_date_month_index</th><th scope=col>arrival_date_day_of_month</th></tr>\n",
       "\t<tr><th scope=col>&lt;int&gt;</th><th scope=col>&lt;dbl&gt;</th><th scope=col>&lt;int&gt;</th></tr>\n",
       "</thead>\n",
       "<tbody>\n",
       "\t<tr><td>2015</td><td>7</td><td>1</td></tr>\n",
       "\t<tr><td>2015</td><td>7</td><td>1</td></tr>\n",
       "\t<tr><td>2015</td><td>7</td><td>1</td></tr>\n",
       "\t<tr><td>2015</td><td>7</td><td>1</td></tr>\n",
       "\t<tr><td>2015</td><td>7</td><td>1</td></tr>\n",
       "\t<tr><td>2015</td><td>7</td><td>1</td></tr>\n",
       "\t<tr><td>2015</td><td>7</td><td>1</td></tr>\n",
       "\t<tr><td>2015</td><td>7</td><td>1</td></tr>\n",
       "\t<tr><td>2015</td><td>7</td><td>1</td></tr>\n",
       "\t<tr><td>2015</td><td>7</td><td>1</td></tr>\n",
       "\t<tr><td>2015</td><td>7</td><td>1</td></tr>\n",
       "\t<tr><td>2015</td><td>7</td><td>1</td></tr>\n",
       "\t<tr><td>2015</td><td>7</td><td>1</td></tr>\n",
       "\t<tr><td>2015</td><td>7</td><td>1</td></tr>\n",
       "\t<tr><td>2015</td><td>7</td><td>1</td></tr>\n",
       "\t<tr><td>2015</td><td>7</td><td>1</td></tr>\n",
       "\t<tr><td>2015</td><td>7</td><td>1</td></tr>\n",
       "\t<tr><td>2015</td><td>7</td><td>1</td></tr>\n",
       "\t<tr><td>2015</td><td>7</td><td>1</td></tr>\n",
       "\t<tr><td>2015</td><td>7</td><td>1</td></tr>\n",
       "\t<tr><td>2015</td><td>7</td><td>1</td></tr>\n",
       "\t<tr><td>2015</td><td>7</td><td>1</td></tr>\n",
       "\t<tr><td>2015</td><td>7</td><td>1</td></tr>\n",
       "\t<tr><td>2015</td><td>7</td><td>1</td></tr>\n",
       "\t<tr><td>2015</td><td>7</td><td>1</td></tr>\n",
       "\t<tr><td>2015</td><td>7</td><td>1</td></tr>\n",
       "\t<tr><td>2015</td><td>7</td><td>1</td></tr>\n",
       "\t<tr><td>2015</td><td>7</td><td>1</td></tr>\n",
       "\t<tr><td>2015</td><td>7</td><td>1</td></tr>\n",
       "\t<tr><td>2015</td><td>7</td><td>1</td></tr>\n",
       "\t<tr><td>...</td><td>...</td><td>...</td></tr>\n",
       "\t<tr><td>2017</td><td>8</td><td>31</td></tr>\n",
       "\t<tr><td>2017</td><td>8</td><td>29</td></tr>\n",
       "\t<tr><td>2017</td><td>8</td><td>31</td></tr>\n",
       "\t<tr><td>2017</td><td>8</td><td>29</td></tr>\n",
       "\t<tr><td>2017</td><td>8</td><td>28</td></tr>\n",
       "\t<tr><td>2017</td><td>8</td><td>28</td></tr>\n",
       "\t<tr><td>2017</td><td>8</td><td>27</td></tr>\n",
       "\t<tr><td>2017</td><td>8</td><td>28</td></tr>\n",
       "\t<tr><td>2017</td><td>8</td><td>28</td></tr>\n",
       "\t<tr><td>2017</td><td>8</td><td>30</td></tr>\n",
       "\t<tr><td>2017</td><td>8</td><td>25</td></tr>\n",
       "\t<tr><td>2017</td><td>8</td><td>30</td></tr>\n",
       "\t<tr><td>2017</td><td>8</td><td>31</td></tr>\n",
       "\t<tr><td>2017</td><td>8</td><td>31</td></tr>\n",
       "\t<tr><td>2017</td><td>8</td><td>29</td></tr>\n",
       "\t<tr><td>2017</td><td>8</td><td>30</td></tr>\n",
       "\t<tr><td>2017</td><td>8</td><td>29</td></tr>\n",
       "\t<tr><td>2017</td><td>8</td><td>30</td></tr>\n",
       "\t<tr><td>2017</td><td>8</td><td>31</td></tr>\n",
       "\t<tr><td>2017</td><td>8</td><td>31</td></tr>\n",
       "\t<tr><td>2017</td><td>8</td><td>31</td></tr>\n",
       "\t<tr><td>2017</td><td>8</td><td>31</td></tr>\n",
       "\t<tr><td>2017</td><td>8</td><td>30</td></tr>\n",
       "\t<tr><td>2017</td><td>8</td><td>31</td></tr>\n",
       "\t<tr><td>2017</td><td>8</td><td>30</td></tr>\n",
       "\t<tr><td>2017</td><td>8</td><td>30</td></tr>\n",
       "\t<tr><td>2017</td><td>8</td><td>31</td></tr>\n",
       "\t<tr><td>2017</td><td>8</td><td>31</td></tr>\n",
       "\t<tr><td>2017</td><td>8</td><td>31</td></tr>\n",
       "\t<tr><td>2017</td><td>8</td><td>29</td></tr>\n",
       "</tbody>\n",
       "</table>\n"
      ],
      "text/latex": [
       "A data.frame: 87230 × 3\n",
       "\\begin{tabular}{lll}\n",
       " arrival\\_date\\_year & arrival\\_date\\_month\\_index & arrival\\_date\\_day\\_of\\_month\\\\\n",
       " <int> & <dbl> & <int>\\\\\n",
       "\\hline\n",
       "\t 2015 & 7 & 1\\\\\n",
       "\t 2015 & 7 & 1\\\\\n",
       "\t 2015 & 7 & 1\\\\\n",
       "\t 2015 & 7 & 1\\\\\n",
       "\t 2015 & 7 & 1\\\\\n",
       "\t 2015 & 7 & 1\\\\\n",
       "\t 2015 & 7 & 1\\\\\n",
       "\t 2015 & 7 & 1\\\\\n",
       "\t 2015 & 7 & 1\\\\\n",
       "\t 2015 & 7 & 1\\\\\n",
       "\t 2015 & 7 & 1\\\\\n",
       "\t 2015 & 7 & 1\\\\\n",
       "\t 2015 & 7 & 1\\\\\n",
       "\t 2015 & 7 & 1\\\\\n",
       "\t 2015 & 7 & 1\\\\\n",
       "\t 2015 & 7 & 1\\\\\n",
       "\t 2015 & 7 & 1\\\\\n",
       "\t 2015 & 7 & 1\\\\\n",
       "\t 2015 & 7 & 1\\\\\n",
       "\t 2015 & 7 & 1\\\\\n",
       "\t 2015 & 7 & 1\\\\\n",
       "\t 2015 & 7 & 1\\\\\n",
       "\t 2015 & 7 & 1\\\\\n",
       "\t 2015 & 7 & 1\\\\\n",
       "\t 2015 & 7 & 1\\\\\n",
       "\t 2015 & 7 & 1\\\\\n",
       "\t 2015 & 7 & 1\\\\\n",
       "\t 2015 & 7 & 1\\\\\n",
       "\t 2015 & 7 & 1\\\\\n",
       "\t 2015 & 7 & 1\\\\\n",
       "\t ... & ... & ...\\\\\n",
       "\t 2017 & 8 & 31\\\\\n",
       "\t 2017 & 8 & 29\\\\\n",
       "\t 2017 & 8 & 31\\\\\n",
       "\t 2017 & 8 & 29\\\\\n",
       "\t 2017 & 8 & 28\\\\\n",
       "\t 2017 & 8 & 28\\\\\n",
       "\t 2017 & 8 & 27\\\\\n",
       "\t 2017 & 8 & 28\\\\\n",
       "\t 2017 & 8 & 28\\\\\n",
       "\t 2017 & 8 & 30\\\\\n",
       "\t 2017 & 8 & 25\\\\\n",
       "\t 2017 & 8 & 30\\\\\n",
       "\t 2017 & 8 & 31\\\\\n",
       "\t 2017 & 8 & 31\\\\\n",
       "\t 2017 & 8 & 29\\\\\n",
       "\t 2017 & 8 & 30\\\\\n",
       "\t 2017 & 8 & 29\\\\\n",
       "\t 2017 & 8 & 30\\\\\n",
       "\t 2017 & 8 & 31\\\\\n",
       "\t 2017 & 8 & 31\\\\\n",
       "\t 2017 & 8 & 31\\\\\n",
       "\t 2017 & 8 & 31\\\\\n",
       "\t 2017 & 8 & 30\\\\\n",
       "\t 2017 & 8 & 31\\\\\n",
       "\t 2017 & 8 & 30\\\\\n",
       "\t 2017 & 8 & 30\\\\\n",
       "\t 2017 & 8 & 31\\\\\n",
       "\t 2017 & 8 & 31\\\\\n",
       "\t 2017 & 8 & 31\\\\\n",
       "\t 2017 & 8 & 29\\\\\n",
       "\\end{tabular}\n"
      ],
      "text/markdown": [
       "\n",
       "A data.frame: 87230 × 3\n",
       "\n",
       "| arrival_date_year &lt;int&gt; | arrival_date_month_index &lt;dbl&gt; | arrival_date_day_of_month &lt;int&gt; |\n",
       "|---|---|---|\n",
       "| 2015 | 7 | 1 |\n",
       "| 2015 | 7 | 1 |\n",
       "| 2015 | 7 | 1 |\n",
       "| 2015 | 7 | 1 |\n",
       "| 2015 | 7 | 1 |\n",
       "| 2015 | 7 | 1 |\n",
       "| 2015 | 7 | 1 |\n",
       "| 2015 | 7 | 1 |\n",
       "| 2015 | 7 | 1 |\n",
       "| 2015 | 7 | 1 |\n",
       "| 2015 | 7 | 1 |\n",
       "| 2015 | 7 | 1 |\n",
       "| 2015 | 7 | 1 |\n",
       "| 2015 | 7 | 1 |\n",
       "| 2015 | 7 | 1 |\n",
       "| 2015 | 7 | 1 |\n",
       "| 2015 | 7 | 1 |\n",
       "| 2015 | 7 | 1 |\n",
       "| 2015 | 7 | 1 |\n",
       "| 2015 | 7 | 1 |\n",
       "| 2015 | 7 | 1 |\n",
       "| 2015 | 7 | 1 |\n",
       "| 2015 | 7 | 1 |\n",
       "| 2015 | 7 | 1 |\n",
       "| 2015 | 7 | 1 |\n",
       "| 2015 | 7 | 1 |\n",
       "| 2015 | 7 | 1 |\n",
       "| 2015 | 7 | 1 |\n",
       "| 2015 | 7 | 1 |\n",
       "| 2015 | 7 | 1 |\n",
       "| ... | ... | ... |\n",
       "| 2017 | 8 | 31 |\n",
       "| 2017 | 8 | 29 |\n",
       "| 2017 | 8 | 31 |\n",
       "| 2017 | 8 | 29 |\n",
       "| 2017 | 8 | 28 |\n",
       "| 2017 | 8 | 28 |\n",
       "| 2017 | 8 | 27 |\n",
       "| 2017 | 8 | 28 |\n",
       "| 2017 | 8 | 28 |\n",
       "| 2017 | 8 | 30 |\n",
       "| 2017 | 8 | 25 |\n",
       "| 2017 | 8 | 30 |\n",
       "| 2017 | 8 | 31 |\n",
       "| 2017 | 8 | 31 |\n",
       "| 2017 | 8 | 29 |\n",
       "| 2017 | 8 | 30 |\n",
       "| 2017 | 8 | 29 |\n",
       "| 2017 | 8 | 30 |\n",
       "| 2017 | 8 | 31 |\n",
       "| 2017 | 8 | 31 |\n",
       "| 2017 | 8 | 31 |\n",
       "| 2017 | 8 | 31 |\n",
       "| 2017 | 8 | 30 |\n",
       "| 2017 | 8 | 31 |\n",
       "| 2017 | 8 | 30 |\n",
       "| 2017 | 8 | 30 |\n",
       "| 2017 | 8 | 31 |\n",
       "| 2017 | 8 | 31 |\n",
       "| 2017 | 8 | 31 |\n",
       "| 2017 | 8 | 29 |\n",
       "\n"
      ],
      "text/plain": [
       "      arrival_date_year arrival_date_month_index arrival_date_day_of_month\n",
       "1     2015              7                        1                        \n",
       "2     2015              7                        1                        \n",
       "3     2015              7                        1                        \n",
       "4     2015              7                        1                        \n",
       "5     2015              7                        1                        \n",
       "6     2015              7                        1                        \n",
       "7     2015              7                        1                        \n",
       "8     2015              7                        1                        \n",
       "9     2015              7                        1                        \n",
       "10    2015              7                        1                        \n",
       "11    2015              7                        1                        \n",
       "12    2015              7                        1                        \n",
       "13    2015              7                        1                        \n",
       "14    2015              7                        1                        \n",
       "15    2015              7                        1                        \n",
       "16    2015              7                        1                        \n",
       "17    2015              7                        1                        \n",
       "18    2015              7                        1                        \n",
       "19    2015              7                        1                        \n",
       "20    2015              7                        1                        \n",
       "21    2015              7                        1                        \n",
       "22    2015              7                        1                        \n",
       "23    2015              7                        1                        \n",
       "24    2015              7                        1                        \n",
       "25    2015              7                        1                        \n",
       "26    2015              7                        1                        \n",
       "27    2015              7                        1                        \n",
       "28    2015              7                        1                        \n",
       "29    2015              7                        1                        \n",
       "30    2015              7                        1                        \n",
       "...   ...               ...                      ...                      \n",
       "87201 2017              8                        31                       \n",
       "87202 2017              8                        29                       \n",
       "87203 2017              8                        31                       \n",
       "87204 2017              8                        29                       \n",
       "87205 2017              8                        28                       \n",
       "87206 2017              8                        28                       \n",
       "87207 2017              8                        27                       \n",
       "87208 2017              8                        28                       \n",
       "87209 2017              8                        28                       \n",
       "87210 2017              8                        30                       \n",
       "87211 2017              8                        25                       \n",
       "87212 2017              8                        30                       \n",
       "87213 2017              8                        31                       \n",
       "87214 2017              8                        31                       \n",
       "87215 2017              8                        29                       \n",
       "87216 2017              8                        30                       \n",
       "87217 2017              8                        29                       \n",
       "87218 2017              8                        30                       \n",
       "87219 2017              8                        31                       \n",
       "87220 2017              8                        31                       \n",
       "87221 2017              8                        31                       \n",
       "87222 2017              8                        31                       \n",
       "87223 2017              8                        30                       \n",
       "87224 2017              8                        31                       \n",
       "87225 2017              8                        30                       \n",
       "87226 2017              8                        30                       \n",
       "87227 2017              8                        31                       \n",
       "87228 2017              8                        31                       \n",
       "87229 2017              8                        31                       \n",
       "87230 2017              8                        29                       "
      ]
     },
     "metadata": {},
     "output_type": "display_data"
    }
   ],
   "source": [
    "data[ , c('arrival_date_year','arrival_date_month_index','arrival_date_day_of_month')] ## data[rows , cols]\n",
    "\n",
    "### as we need arrival date as : 2015-7-1"
   ]
  },
  {
   "cell_type": "code",
   "execution_count": null,
   "id": "9475e2fa",
   "metadata": {},
   "outputs": [],
   "source": []
  },
  {
   "cell_type": "code",
   "execution_count": null,
   "id": "c6340de5",
   "metadata": {},
   "outputs": [],
   "source": []
  },
  {
   "cell_type": "code",
   "execution_count": null,
   "id": "93fd7e49",
   "metadata": {},
   "outputs": [],
   "source": [
    "help(paste)\n",
    "\n",
    "## Concatenate Strings"
   ]
  },
  {
   "cell_type": "code",
   "execution_count": null,
   "id": "09b6a143",
   "metadata": {},
   "outputs": [],
   "source": [
    "\"\n",
    "\n",
    "... : These are the objects to be concatenated together. \n",
    "        You can provide multiple objects separated by commas (x, y, z, etc.).\n",
    "\n",
    "sep : This is the separator to use between the objects. \n",
    "        By default, it is set to a single space \" \"\n",
    "\n",
    "\n",
    "\""
   ]
  },
  {
   "cell_type": "code",
   "execution_count": 35,
   "id": "01a9d601",
   "metadata": {},
   "outputs": [
    {
     "data": {
      "text/html": [
       "<pre class=language-r><code>function (..., sep = \" \", collapse = NULL, recycle0 = FALSE) \n",
       "NULL</code></pre>"
      ],
      "text/latex": [
       "\\begin{minted}{r}\n",
       "function (..., sep = \" \", collapse = NULL, recycle0 = FALSE) \n",
       "NULL\n",
       "\\end{minted}"
      ],
      "text/markdown": [
       "```r\n",
       "function (..., sep = \" \", collapse = NULL, recycle0 = FALSE) \n",
       "NULL\n",
       "```"
      ],
      "text/plain": [
       "function (..., sep = \" \", collapse = NULL, recycle0 = FALSE) \n",
       "NULL"
      ]
     },
     "metadata": {},
     "output_type": "display_data"
    }
   ],
   "source": [
    "args(paste)"
   ]
  },
  {
   "cell_type": "code",
   "execution_count": null,
   "id": "7a789863",
   "metadata": {},
   "outputs": [],
   "source": [
    "### sep parameter will work only if u are concatenating 2 vectors or more than 2 vectors !\n",
    "### if u are concatenating elements of 1 vector with some separator,  u have to use collapse... , ie collapse = \" \"\n",
    "\n",
    "### as here we have 3 vectors , thats why sep parameter makes sense !"
   ]
  },
  {
   "cell_type": "code",
   "execution_count": 57,
   "id": "a3d84a3f",
   "metadata": {},
   "outputs": [],
   "source": [
    "data['arrival_date'] = paste(data$arrival_date_year, data$arrival_date_month_index , data$arrival_date_day_of_month , sep = '-')"
   ]
  },
  {
   "cell_type": "code",
   "execution_count": 58,
   "id": "01829845",
   "metadata": {},
   "outputs": [
    {
     "data": {
      "text/html": [
       "<table class=\"dataframe\">\n",
       "<caption>A data.frame: 2 × 34</caption>\n",
       "<thead>\n",
       "\t<tr><th></th><th scope=col>hotel</th><th scope=col>is_canceled</th><th scope=col>lead_time</th><th scope=col>arrival_date_year</th><th scope=col>arrival_date_month</th><th scope=col>arrival_date_week_number</th><th scope=col>arrival_date_day_of_month</th><th scope=col>stays_in_weekend_nights</th><th scope=col>stays_in_week_nights</th><th scope=col>adults</th><th scope=col>...</th><th scope=col>company</th><th scope=col>days_in_waiting_list</th><th scope=col>customer_type</th><th scope=col>adr</th><th scope=col>required_car_parking_spaces</th><th scope=col>total_of_special_requests</th><th scope=col>reservation_status</th><th scope=col>reservation_status_date</th><th scope=col>arrival_date_month_index</th><th scope=col>arrival_date</th></tr>\n",
       "\t<tr><th></th><th scope=col>&lt;chr&gt;</th><th scope=col>&lt;int&gt;</th><th scope=col>&lt;int&gt;</th><th scope=col>&lt;int&gt;</th><th scope=col>&lt;chr&gt;</th><th scope=col>&lt;int&gt;</th><th scope=col>&lt;int&gt;</th><th scope=col>&lt;int&gt;</th><th scope=col>&lt;int&gt;</th><th scope=col>&lt;int&gt;</th><th scope=col>...</th><th scope=col>&lt;chr&gt;</th><th scope=col>&lt;int&gt;</th><th scope=col>&lt;chr&gt;</th><th scope=col>&lt;dbl&gt;</th><th scope=col>&lt;int&gt;</th><th scope=col>&lt;int&gt;</th><th scope=col>&lt;chr&gt;</th><th scope=col>&lt;chr&gt;</th><th scope=col>&lt;dbl&gt;</th><th scope=col>&lt;chr&gt;</th></tr>\n",
       "</thead>\n",
       "<tbody>\n",
       "\t<tr><th scope=row>1</th><td>Resort Hotel</td><td>0</td><td>342</td><td>2015</td><td>July</td><td>27</td><td>1</td><td>0</td><td>0</td><td>2</td><td>...</td><td>NULL</td><td>0</td><td>Transient</td><td>0</td><td>0</td><td>0</td><td>Check-Out</td><td>7/1/2015</td><td>7</td><td>2015-7-1</td></tr>\n",
       "\t<tr><th scope=row>2</th><td>Resort Hotel</td><td>0</td><td>737</td><td>2015</td><td>July</td><td>27</td><td>1</td><td>0</td><td>0</td><td>2</td><td>...</td><td>NULL</td><td>0</td><td>Transient</td><td>0</td><td>0</td><td>0</td><td>Check-Out</td><td>7/1/2015</td><td>7</td><td>2015-7-1</td></tr>\n",
       "</tbody>\n",
       "</table>\n"
      ],
      "text/latex": [
       "A data.frame: 2 × 34\n",
       "\\begin{tabular}{r|lllllllllllllllllllll}\n",
       "  & hotel & is\\_canceled & lead\\_time & arrival\\_date\\_year & arrival\\_date\\_month & arrival\\_date\\_week\\_number & arrival\\_date\\_day\\_of\\_month & stays\\_in\\_weekend\\_nights & stays\\_in\\_week\\_nights & adults & ... & company & days\\_in\\_waiting\\_list & customer\\_type & adr & required\\_car\\_parking\\_spaces & total\\_of\\_special\\_requests & reservation\\_status & reservation\\_status\\_date & arrival\\_date\\_month\\_index & arrival\\_date\\\\\n",
       "  & <chr> & <int> & <int> & <int> & <chr> & <int> & <int> & <int> & <int> & <int> & ... & <chr> & <int> & <chr> & <dbl> & <int> & <int> & <chr> & <chr> & <dbl> & <chr>\\\\\n",
       "\\hline\n",
       "\t1 & Resort Hotel & 0 & 342 & 2015 & July & 27 & 1 & 0 & 0 & 2 & ... & NULL & 0 & Transient & 0 & 0 & 0 & Check-Out & 7/1/2015 & 7 & 2015-7-1\\\\\n",
       "\t2 & Resort Hotel & 0 & 737 & 2015 & July & 27 & 1 & 0 & 0 & 2 & ... & NULL & 0 & Transient & 0 & 0 & 0 & Check-Out & 7/1/2015 & 7 & 2015-7-1\\\\\n",
       "\\end{tabular}\n"
      ],
      "text/markdown": [
       "\n",
       "A data.frame: 2 × 34\n",
       "\n",
       "| <!--/--> | hotel &lt;chr&gt; | is_canceled &lt;int&gt; | lead_time &lt;int&gt; | arrival_date_year &lt;int&gt; | arrival_date_month &lt;chr&gt; | arrival_date_week_number &lt;int&gt; | arrival_date_day_of_month &lt;int&gt; | stays_in_weekend_nights &lt;int&gt; | stays_in_week_nights &lt;int&gt; | adults &lt;int&gt; | ... ... | company &lt;chr&gt; | days_in_waiting_list &lt;int&gt; | customer_type &lt;chr&gt; | adr &lt;dbl&gt; | required_car_parking_spaces &lt;int&gt; | total_of_special_requests &lt;int&gt; | reservation_status &lt;chr&gt; | reservation_status_date &lt;chr&gt; | arrival_date_month_index &lt;dbl&gt; | arrival_date &lt;chr&gt; |\n",
       "|---|---|---|---|---|---|---|---|---|---|---|---|---|---|---|---|---|---|---|---|---|---|\n",
       "| 1 | Resort Hotel | 0 | 342 | 2015 | July | 27 | 1 | 0 | 0 | 2 | ... | NULL | 0 | Transient | 0 | 0 | 0 | Check-Out | 7/1/2015 | 7 | 2015-7-1 |\n",
       "| 2 | Resort Hotel | 0 | 737 | 2015 | July | 27 | 1 | 0 | 0 | 2 | ... | NULL | 0 | Transient | 0 | 0 | 0 | Check-Out | 7/1/2015 | 7 | 2015-7-1 |\n",
       "\n"
      ],
      "text/plain": [
       "  hotel        is_canceled lead_time arrival_date_year arrival_date_month\n",
       "1 Resort Hotel 0           342       2015              July              \n",
       "2 Resort Hotel 0           737       2015              July              \n",
       "  arrival_date_week_number arrival_date_day_of_month stays_in_weekend_nights\n",
       "1 27                       1                         0                      \n",
       "2 27                       1                         0                      \n",
       "  stays_in_week_nights adults ... company days_in_waiting_list customer_type\n",
       "1 0                    2      ... NULL    0                    Transient    \n",
       "2 0                    2      ... NULL    0                    Transient    \n",
       "  adr required_car_parking_spaces total_of_special_requests reservation_status\n",
       "1 0   0                           0                         Check-Out         \n",
       "2 0   0                           0                         Check-Out         \n",
       "  reservation_status_date arrival_date_month_index arrival_date\n",
       "1 7/1/2015                7                        2015-7-1    \n",
       "2 7/1/2015                7                        2015-7-1    "
      ]
     },
     "metadata": {},
     "output_type": "display_data"
    }
   ],
   "source": [
    "head(data , 2)"
   ]
  },
  {
   "cell_type": "code",
   "execution_count": 59,
   "id": "83477b56",
   "metadata": {},
   "outputs": [],
   "source": [
    "data[\"Total_Guests\"] = data[\"adults\"] + data[\"children\"] + data[\"babies\"]"
   ]
  },
  {
   "cell_type": "code",
   "execution_count": 60,
   "id": "4e684ae4",
   "metadata": {},
   "outputs": [
    {
     "data": {
      "text/html": [
       "<table class=\"dataframe\">\n",
       "<caption>A data.frame: 2 × 35</caption>\n",
       "<thead>\n",
       "\t<tr><th></th><th scope=col>hotel</th><th scope=col>is_canceled</th><th scope=col>lead_time</th><th scope=col>arrival_date_year</th><th scope=col>arrival_date_month</th><th scope=col>arrival_date_week_number</th><th scope=col>arrival_date_day_of_month</th><th scope=col>stays_in_weekend_nights</th><th scope=col>stays_in_week_nights</th><th scope=col>adults</th><th scope=col>...</th><th scope=col>days_in_waiting_list</th><th scope=col>customer_type</th><th scope=col>adr</th><th scope=col>required_car_parking_spaces</th><th scope=col>total_of_special_requests</th><th scope=col>reservation_status</th><th scope=col>reservation_status_date</th><th scope=col>arrival_date_month_index</th><th scope=col>arrival_date</th><th scope=col>Total_Guests</th></tr>\n",
       "\t<tr><th></th><th scope=col>&lt;chr&gt;</th><th scope=col>&lt;int&gt;</th><th scope=col>&lt;int&gt;</th><th scope=col>&lt;int&gt;</th><th scope=col>&lt;chr&gt;</th><th scope=col>&lt;int&gt;</th><th scope=col>&lt;int&gt;</th><th scope=col>&lt;int&gt;</th><th scope=col>&lt;int&gt;</th><th scope=col>&lt;int&gt;</th><th scope=col>...</th><th scope=col>&lt;int&gt;</th><th scope=col>&lt;chr&gt;</th><th scope=col>&lt;dbl&gt;</th><th scope=col>&lt;int&gt;</th><th scope=col>&lt;int&gt;</th><th scope=col>&lt;chr&gt;</th><th scope=col>&lt;chr&gt;</th><th scope=col>&lt;dbl&gt;</th><th scope=col>&lt;chr&gt;</th><th scope=col>&lt;int&gt;</th></tr>\n",
       "</thead>\n",
       "<tbody>\n",
       "\t<tr><th scope=row>1</th><td>Resort Hotel</td><td>0</td><td>342</td><td>2015</td><td>July</td><td>27</td><td>1</td><td>0</td><td>0</td><td>2</td><td>...</td><td>0</td><td>Transient</td><td>0</td><td>0</td><td>0</td><td>Check-Out</td><td>7/1/2015</td><td>7</td><td>2015-7-1</td><td>2</td></tr>\n",
       "\t<tr><th scope=row>2</th><td>Resort Hotel</td><td>0</td><td>737</td><td>2015</td><td>July</td><td>27</td><td>1</td><td>0</td><td>0</td><td>2</td><td>...</td><td>0</td><td>Transient</td><td>0</td><td>0</td><td>0</td><td>Check-Out</td><td>7/1/2015</td><td>7</td><td>2015-7-1</td><td>2</td></tr>\n",
       "</tbody>\n",
       "</table>\n"
      ],
      "text/latex": [
       "A data.frame: 2 × 35\n",
       "\\begin{tabular}{r|lllllllllllllllllllll}\n",
       "  & hotel & is\\_canceled & lead\\_time & arrival\\_date\\_year & arrival\\_date\\_month & arrival\\_date\\_week\\_number & arrival\\_date\\_day\\_of\\_month & stays\\_in\\_weekend\\_nights & stays\\_in\\_week\\_nights & adults & ... & days\\_in\\_waiting\\_list & customer\\_type & adr & required\\_car\\_parking\\_spaces & total\\_of\\_special\\_requests & reservation\\_status & reservation\\_status\\_date & arrival\\_date\\_month\\_index & arrival\\_date & Total\\_Guests\\\\\n",
       "  & <chr> & <int> & <int> & <int> & <chr> & <int> & <int> & <int> & <int> & <int> & ... & <int> & <chr> & <dbl> & <int> & <int> & <chr> & <chr> & <dbl> & <chr> & <int>\\\\\n",
       "\\hline\n",
       "\t1 & Resort Hotel & 0 & 342 & 2015 & July & 27 & 1 & 0 & 0 & 2 & ... & 0 & Transient & 0 & 0 & 0 & Check-Out & 7/1/2015 & 7 & 2015-7-1 & 2\\\\\n",
       "\t2 & Resort Hotel & 0 & 737 & 2015 & July & 27 & 1 & 0 & 0 & 2 & ... & 0 & Transient & 0 & 0 & 0 & Check-Out & 7/1/2015 & 7 & 2015-7-1 & 2\\\\\n",
       "\\end{tabular}\n"
      ],
      "text/markdown": [
       "\n",
       "A data.frame: 2 × 35\n",
       "\n",
       "| <!--/--> | hotel &lt;chr&gt; | is_canceled &lt;int&gt; | lead_time &lt;int&gt; | arrival_date_year &lt;int&gt; | arrival_date_month &lt;chr&gt; | arrival_date_week_number &lt;int&gt; | arrival_date_day_of_month &lt;int&gt; | stays_in_weekend_nights &lt;int&gt; | stays_in_week_nights &lt;int&gt; | adults &lt;int&gt; | ... ... | days_in_waiting_list &lt;int&gt; | customer_type &lt;chr&gt; | adr &lt;dbl&gt; | required_car_parking_spaces &lt;int&gt; | total_of_special_requests &lt;int&gt; | reservation_status &lt;chr&gt; | reservation_status_date &lt;chr&gt; | arrival_date_month_index &lt;dbl&gt; | arrival_date &lt;chr&gt; | Total_Guests &lt;int&gt; |\n",
       "|---|---|---|---|---|---|---|---|---|---|---|---|---|---|---|---|---|---|---|---|---|---|\n",
       "| 1 | Resort Hotel | 0 | 342 | 2015 | July | 27 | 1 | 0 | 0 | 2 | ... | 0 | Transient | 0 | 0 | 0 | Check-Out | 7/1/2015 | 7 | 2015-7-1 | 2 |\n",
       "| 2 | Resort Hotel | 0 | 737 | 2015 | July | 27 | 1 | 0 | 0 | 2 | ... | 0 | Transient | 0 | 0 | 0 | Check-Out | 7/1/2015 | 7 | 2015-7-1 | 2 |\n",
       "\n"
      ],
      "text/plain": [
       "  hotel        is_canceled lead_time arrival_date_year arrival_date_month\n",
       "1 Resort Hotel 0           342       2015              July              \n",
       "2 Resort Hotel 0           737       2015              July              \n",
       "  arrival_date_week_number arrival_date_day_of_month stays_in_weekend_nights\n",
       "1 27                       1                         0                      \n",
       "2 27                       1                         0                      \n",
       "  stays_in_week_nights adults ... days_in_waiting_list customer_type adr\n",
       "1 0                    2      ... 0                    Transient     0  \n",
       "2 0                    2      ... 0                    Transient     0  \n",
       "  required_car_parking_spaces total_of_special_requests reservation_status\n",
       "1 0                           0                         Check-Out         \n",
       "2 0                           0                         Check-Out         \n",
       "  reservation_status_date arrival_date_month_index arrival_date Total_Guests\n",
       "1 7/1/2015                7                        2015-7-1     2           \n",
       "2 7/1/2015                7                        2015-7-1     2           "
      ]
     },
     "metadata": {},
     "output_type": "display_data"
    }
   ],
   "source": [
    "head(data , 2)"
   ]
  },
  {
   "cell_type": "code",
   "execution_count": 61,
   "id": "ea635a8e",
   "metadata": {},
   "outputs": [],
   "source": [
    "dataNoCancel = data[data['is_canceled'] == 0 , ] ## data[rows , cols]"
   ]
  },
  {
   "cell_type": "code",
   "execution_count": 62,
   "id": "d91c7f0f",
   "metadata": {},
   "outputs": [
    {
     "data": {
      "text/html": [
       "<table class=\"dataframe\">\n",
       "<caption>A data.frame: 63221 × 2</caption>\n",
       "<thead>\n",
       "\t<tr><th></th><th scope=col>arrival_date</th><th scope=col>Total_Guests</th></tr>\n",
       "\t<tr><th></th><th scope=col>&lt;chr&gt;</th><th scope=col>&lt;int&gt;</th></tr>\n",
       "</thead>\n",
       "<tbody>\n",
       "\t<tr><th scope=row>1</th><td>2015-7-1</td><td>2</td></tr>\n",
       "\t<tr><th scope=row>2</th><td>2015-7-1</td><td>2</td></tr>\n",
       "\t<tr><th scope=row>3</th><td>2015-7-1</td><td>1</td></tr>\n",
       "\t<tr><th scope=row>4</th><td>2015-7-1</td><td>1</td></tr>\n",
       "\t<tr><th scope=row>5</th><td>2015-7-1</td><td>2</td></tr>\n",
       "\t<tr><th scope=row>6</th><td>2015-7-1</td><td>2</td></tr>\n",
       "\t<tr><th scope=row>7</th><td>2015-7-1</td><td>2</td></tr>\n",
       "\t<tr><th scope=row>11</th><td>2015-7-1</td><td>2</td></tr>\n",
       "\t<tr><th scope=row>12</th><td>2015-7-1</td><td>2</td></tr>\n",
       "\t<tr><th scope=row>13</th><td>2015-7-1</td><td>3</td></tr>\n",
       "\t<tr><th scope=row>14</th><td>2015-7-1</td><td>2</td></tr>\n",
       "\t<tr><th scope=row>15</th><td>2015-7-1</td><td>2</td></tr>\n",
       "\t<tr><th scope=row>16</th><td>2015-7-1</td><td>2</td></tr>\n",
       "\t<tr><th scope=row>17</th><td>2015-7-1</td><td>2</td></tr>\n",
       "\t<tr><th scope=row>18</th><td>2015-7-1</td><td>2</td></tr>\n",
       "\t<tr><th scope=row>19</th><td>2015-7-1</td><td>2</td></tr>\n",
       "\t<tr><th scope=row>20</th><td>2015-7-1</td><td>1</td></tr>\n",
       "\t<tr><th scope=row>21</th><td>2015-7-1</td><td>2</td></tr>\n",
       "\t<tr><th scope=row>22</th><td>2015-7-1</td><td>2</td></tr>\n",
       "\t<tr><th scope=row>23</th><td>2015-7-1</td><td>2</td></tr>\n",
       "\t<tr><th scope=row>24</th><td>2015-7-1</td><td>2</td></tr>\n",
       "\t<tr><th scope=row>25</th><td>2015-7-1</td><td>2</td></tr>\n",
       "\t<tr><th scope=row>27</th><td>2015-7-1</td><td>2</td></tr>\n",
       "\t<tr><th scope=row>28</th><td>2015-7-1</td><td>2</td></tr>\n",
       "\t<tr><th scope=row>29</th><td>2015-7-1</td><td>1</td></tr>\n",
       "\t<tr><th scope=row>30</th><td>2015-7-1</td><td>2</td></tr>\n",
       "\t<tr><th scope=row>32</th><td>2015-7-2</td><td>2</td></tr>\n",
       "\t<tr><th scope=row>35</th><td>2015-7-2</td><td>2</td></tr>\n",
       "\t<tr><th scope=row>36</th><td>2015-7-2</td><td>3</td></tr>\n",
       "\t<tr><th scope=row>38</th><td>2015-7-2</td><td>2</td></tr>\n",
       "\t<tr><th scope=row>...</th><td>...</td><td>...</td></tr>\n",
       "\t<tr><th scope=row>87201</th><td>2017-8-31</td><td>2</td></tr>\n",
       "\t<tr><th scope=row>87202</th><td>2017-8-29</td><td>2</td></tr>\n",
       "\t<tr><th scope=row>87203</th><td>2017-8-31</td><td>2</td></tr>\n",
       "\t<tr><th scope=row>87204</th><td>2017-8-29</td><td>2</td></tr>\n",
       "\t<tr><th scope=row>87205</th><td>2017-8-28</td><td>2</td></tr>\n",
       "\t<tr><th scope=row>87206</th><td>2017-8-28</td><td>2</td></tr>\n",
       "\t<tr><th scope=row>87207</th><td>2017-8-27</td><td>1</td></tr>\n",
       "\t<tr><th scope=row>87208</th><td>2017-8-28</td><td>2</td></tr>\n",
       "\t<tr><th scope=row>87209</th><td>2017-8-28</td><td>2</td></tr>\n",
       "\t<tr><th scope=row>87210</th><td>2017-8-30</td><td>2</td></tr>\n",
       "\t<tr><th scope=row>87211</th><td>2017-8-25</td><td>2</td></tr>\n",
       "\t<tr><th scope=row>87212</th><td>2017-8-30</td><td>1</td></tr>\n",
       "\t<tr><th scope=row>87213</th><td>2017-8-31</td><td>2</td></tr>\n",
       "\t<tr><th scope=row>87214</th><td>2017-8-31</td><td>1</td></tr>\n",
       "\t<tr><th scope=row>87215</th><td>2017-8-29</td><td>2</td></tr>\n",
       "\t<tr><th scope=row>87216</th><td>2017-8-30</td><td>2</td></tr>\n",
       "\t<tr><th scope=row>87217</th><td>2017-8-29</td><td>3</td></tr>\n",
       "\t<tr><th scope=row>87218</th><td>2017-8-30</td><td>2</td></tr>\n",
       "\t<tr><th scope=row>87219</th><td>2017-8-31</td><td>2</td></tr>\n",
       "\t<tr><th scope=row>87220</th><td>2017-8-31</td><td>2</td></tr>\n",
       "\t<tr><th scope=row>87221</th><td>2017-8-31</td><td>2</td></tr>\n",
       "\t<tr><th scope=row>87222</th><td>2017-8-31</td><td>2</td></tr>\n",
       "\t<tr><th scope=row>87223</th><td>2017-8-30</td><td>3</td></tr>\n",
       "\t<tr><th scope=row>87224</th><td>2017-8-31</td><td>2</td></tr>\n",
       "\t<tr><th scope=row>87225</th><td>2017-8-30</td><td>2</td></tr>\n",
       "\t<tr><th scope=row>87226</th><td>2017-8-30</td><td>2</td></tr>\n",
       "\t<tr><th scope=row>87227</th><td>2017-8-31</td><td>3</td></tr>\n",
       "\t<tr><th scope=row>87228</th><td>2017-8-31</td><td>2</td></tr>\n",
       "\t<tr><th scope=row>87229</th><td>2017-8-31</td><td>2</td></tr>\n",
       "\t<tr><th scope=row>87230</th><td>2017-8-29</td><td>2</td></tr>\n",
       "</tbody>\n",
       "</table>\n"
      ],
      "text/latex": [
       "A data.frame: 63221 × 2\n",
       "\\begin{tabular}{r|ll}\n",
       "  & arrival\\_date & Total\\_Guests\\\\\n",
       "  & <chr> & <int>\\\\\n",
       "\\hline\n",
       "\t1 & 2015-7-1 & 2\\\\\n",
       "\t2 & 2015-7-1 & 2\\\\\n",
       "\t3 & 2015-7-1 & 1\\\\\n",
       "\t4 & 2015-7-1 & 1\\\\\n",
       "\t5 & 2015-7-1 & 2\\\\\n",
       "\t6 & 2015-7-1 & 2\\\\\n",
       "\t7 & 2015-7-1 & 2\\\\\n",
       "\t11 & 2015-7-1 & 2\\\\\n",
       "\t12 & 2015-7-1 & 2\\\\\n",
       "\t13 & 2015-7-1 & 3\\\\\n",
       "\t14 & 2015-7-1 & 2\\\\\n",
       "\t15 & 2015-7-1 & 2\\\\\n",
       "\t16 & 2015-7-1 & 2\\\\\n",
       "\t17 & 2015-7-1 & 2\\\\\n",
       "\t18 & 2015-7-1 & 2\\\\\n",
       "\t19 & 2015-7-1 & 2\\\\\n",
       "\t20 & 2015-7-1 & 1\\\\\n",
       "\t21 & 2015-7-1 & 2\\\\\n",
       "\t22 & 2015-7-1 & 2\\\\\n",
       "\t23 & 2015-7-1 & 2\\\\\n",
       "\t24 & 2015-7-1 & 2\\\\\n",
       "\t25 & 2015-7-1 & 2\\\\\n",
       "\t27 & 2015-7-1 & 2\\\\\n",
       "\t28 & 2015-7-1 & 2\\\\\n",
       "\t29 & 2015-7-1 & 1\\\\\n",
       "\t30 & 2015-7-1 & 2\\\\\n",
       "\t32 & 2015-7-2 & 2\\\\\n",
       "\t35 & 2015-7-2 & 2\\\\\n",
       "\t36 & 2015-7-2 & 3\\\\\n",
       "\t38 & 2015-7-2 & 2\\\\\n",
       "\t... & ... & ...\\\\\n",
       "\t87201 & 2017-8-31 & 2\\\\\n",
       "\t87202 & 2017-8-29 & 2\\\\\n",
       "\t87203 & 2017-8-31 & 2\\\\\n",
       "\t87204 & 2017-8-29 & 2\\\\\n",
       "\t87205 & 2017-8-28 & 2\\\\\n",
       "\t87206 & 2017-8-28 & 2\\\\\n",
       "\t87207 & 2017-8-27 & 1\\\\\n",
       "\t87208 & 2017-8-28 & 2\\\\\n",
       "\t87209 & 2017-8-28 & 2\\\\\n",
       "\t87210 & 2017-8-30 & 2\\\\\n",
       "\t87211 & 2017-8-25 & 2\\\\\n",
       "\t87212 & 2017-8-30 & 1\\\\\n",
       "\t87213 & 2017-8-31 & 2\\\\\n",
       "\t87214 & 2017-8-31 & 1\\\\\n",
       "\t87215 & 2017-8-29 & 2\\\\\n",
       "\t87216 & 2017-8-30 & 2\\\\\n",
       "\t87217 & 2017-8-29 & 3\\\\\n",
       "\t87218 & 2017-8-30 & 2\\\\\n",
       "\t87219 & 2017-8-31 & 2\\\\\n",
       "\t87220 & 2017-8-31 & 2\\\\\n",
       "\t87221 & 2017-8-31 & 2\\\\\n",
       "\t87222 & 2017-8-31 & 2\\\\\n",
       "\t87223 & 2017-8-30 & 3\\\\\n",
       "\t87224 & 2017-8-31 & 2\\\\\n",
       "\t87225 & 2017-8-30 & 2\\\\\n",
       "\t87226 & 2017-8-30 & 2\\\\\n",
       "\t87227 & 2017-8-31 & 3\\\\\n",
       "\t87228 & 2017-8-31 & 2\\\\\n",
       "\t87229 & 2017-8-31 & 2\\\\\n",
       "\t87230 & 2017-8-29 & 2\\\\\n",
       "\\end{tabular}\n"
      ],
      "text/markdown": [
       "\n",
       "A data.frame: 63221 × 2\n",
       "\n",
       "| <!--/--> | arrival_date &lt;chr&gt; | Total_Guests &lt;int&gt; |\n",
       "|---|---|---|\n",
       "| 1 | 2015-7-1 | 2 |\n",
       "| 2 | 2015-7-1 | 2 |\n",
       "| 3 | 2015-7-1 | 1 |\n",
       "| 4 | 2015-7-1 | 1 |\n",
       "| 5 | 2015-7-1 | 2 |\n",
       "| 6 | 2015-7-1 | 2 |\n",
       "| 7 | 2015-7-1 | 2 |\n",
       "| 11 | 2015-7-1 | 2 |\n",
       "| 12 | 2015-7-1 | 2 |\n",
       "| 13 | 2015-7-1 | 3 |\n",
       "| 14 | 2015-7-1 | 2 |\n",
       "| 15 | 2015-7-1 | 2 |\n",
       "| 16 | 2015-7-1 | 2 |\n",
       "| 17 | 2015-7-1 | 2 |\n",
       "| 18 | 2015-7-1 | 2 |\n",
       "| 19 | 2015-7-1 | 2 |\n",
       "| 20 | 2015-7-1 | 1 |\n",
       "| 21 | 2015-7-1 | 2 |\n",
       "| 22 | 2015-7-1 | 2 |\n",
       "| 23 | 2015-7-1 | 2 |\n",
       "| 24 | 2015-7-1 | 2 |\n",
       "| 25 | 2015-7-1 | 2 |\n",
       "| 27 | 2015-7-1 | 2 |\n",
       "| 28 | 2015-7-1 | 2 |\n",
       "| 29 | 2015-7-1 | 1 |\n",
       "| 30 | 2015-7-1 | 2 |\n",
       "| 32 | 2015-7-2 | 2 |\n",
       "| 35 | 2015-7-2 | 2 |\n",
       "| 36 | 2015-7-2 | 3 |\n",
       "| 38 | 2015-7-2 | 2 |\n",
       "| ... | ... | ... |\n",
       "| 87201 | 2017-8-31 | 2 |\n",
       "| 87202 | 2017-8-29 | 2 |\n",
       "| 87203 | 2017-8-31 | 2 |\n",
       "| 87204 | 2017-8-29 | 2 |\n",
       "| 87205 | 2017-8-28 | 2 |\n",
       "| 87206 | 2017-8-28 | 2 |\n",
       "| 87207 | 2017-8-27 | 1 |\n",
       "| 87208 | 2017-8-28 | 2 |\n",
       "| 87209 | 2017-8-28 | 2 |\n",
       "| 87210 | 2017-8-30 | 2 |\n",
       "| 87211 | 2017-8-25 | 2 |\n",
       "| 87212 | 2017-8-30 | 1 |\n",
       "| 87213 | 2017-8-31 | 2 |\n",
       "| 87214 | 2017-8-31 | 1 |\n",
       "| 87215 | 2017-8-29 | 2 |\n",
       "| 87216 | 2017-8-30 | 2 |\n",
       "| 87217 | 2017-8-29 | 3 |\n",
       "| 87218 | 2017-8-30 | 2 |\n",
       "| 87219 | 2017-8-31 | 2 |\n",
       "| 87220 | 2017-8-31 | 2 |\n",
       "| 87221 | 2017-8-31 | 2 |\n",
       "| 87222 | 2017-8-31 | 2 |\n",
       "| 87223 | 2017-8-30 | 3 |\n",
       "| 87224 | 2017-8-31 | 2 |\n",
       "| 87225 | 2017-8-30 | 2 |\n",
       "| 87226 | 2017-8-30 | 2 |\n",
       "| 87227 | 2017-8-31 | 3 |\n",
       "| 87228 | 2017-8-31 | 2 |\n",
       "| 87229 | 2017-8-31 | 2 |\n",
       "| 87230 | 2017-8-29 | 2 |\n",
       "\n"
      ],
      "text/plain": [
       "      arrival_date Total_Guests\n",
       "1     2015-7-1     2           \n",
       "2     2015-7-1     2           \n",
       "3     2015-7-1     1           \n",
       "4     2015-7-1     1           \n",
       "5     2015-7-1     2           \n",
       "6     2015-7-1     2           \n",
       "7     2015-7-1     2           \n",
       "11    2015-7-1     2           \n",
       "12    2015-7-1     2           \n",
       "13    2015-7-1     3           \n",
       "14    2015-7-1     2           \n",
       "15    2015-7-1     2           \n",
       "16    2015-7-1     2           \n",
       "17    2015-7-1     2           \n",
       "18    2015-7-1     2           \n",
       "19    2015-7-1     2           \n",
       "20    2015-7-1     1           \n",
       "21    2015-7-1     2           \n",
       "22    2015-7-1     2           \n",
       "23    2015-7-1     2           \n",
       "24    2015-7-1     2           \n",
       "25    2015-7-1     2           \n",
       "27    2015-7-1     2           \n",
       "28    2015-7-1     2           \n",
       "29    2015-7-1     1           \n",
       "30    2015-7-1     2           \n",
       "32    2015-7-2     2           \n",
       "35    2015-7-2     2           \n",
       "36    2015-7-2     3           \n",
       "38    2015-7-2     2           \n",
       "...   ...          ...         \n",
       "87201 2017-8-31    2           \n",
       "87202 2017-8-29    2           \n",
       "87203 2017-8-31    2           \n",
       "87204 2017-8-29    2           \n",
       "87205 2017-8-28    2           \n",
       "87206 2017-8-28    2           \n",
       "87207 2017-8-27    1           \n",
       "87208 2017-8-28    2           \n",
       "87209 2017-8-28    2           \n",
       "87210 2017-8-30    2           \n",
       "87211 2017-8-25    2           \n",
       "87212 2017-8-30    1           \n",
       "87213 2017-8-31    2           \n",
       "87214 2017-8-31    1           \n",
       "87215 2017-8-29    2           \n",
       "87216 2017-8-30    2           \n",
       "87217 2017-8-29    3           \n",
       "87218 2017-8-30    2           \n",
       "87219 2017-8-31    2           \n",
       "87220 2017-8-31    2           \n",
       "87221 2017-8-31    2           \n",
       "87222 2017-8-31    2           \n",
       "87223 2017-8-30    3           \n",
       "87224 2017-8-31    2           \n",
       "87225 2017-8-30    2           \n",
       "87226 2017-8-30    2           \n",
       "87227 2017-8-31    3           \n",
       "87228 2017-8-31    2           \n",
       "87229 2017-8-31    2           \n",
       "87230 2017-8-29    2           "
      ]
     },
     "metadata": {},
     "output_type": "display_data"
    }
   ],
   "source": [
    "dataNoCancel[ , c('arrival_date','Total_Guests')]  ## data[rows , cols]"
   ]
  },
  {
   "cell_type": "code",
   "execution_count": null,
   "id": "2fea0d15",
   "metadata": {},
   "outputs": [],
   "source": []
  },
  {
   "cell_type": "code",
   "execution_count": null,
   "id": "bda74ff8",
   "metadata": {},
   "outputs": [],
   "source": []
  },
  {
   "cell_type": "code",
   "execution_count": null,
   "id": "4cfa2d20",
   "metadata": {},
   "outputs": [],
   "source": [
    "help(group_by)\n",
    "\n",
    "### Group by one or more variables !"
   ]
  },
  {
   "cell_type": "code",
   "execution_count": 36,
   "id": "fc3f3265",
   "metadata": {},
   "outputs": [
    {
     "data": {
      "text/html": [
       "<pre class=language-r><code>function (.data, ..., .add = FALSE, .drop = group_by_drop_default(.data)) \n",
       "NULL</code></pre>"
      ],
      "text/latex": [
       "\\begin{minted}{r}\n",
       "function (.data, ..., .add = FALSE, .drop = group\\_by\\_drop\\_default(.data)) \n",
       "NULL\n",
       "\\end{minted}"
      ],
      "text/markdown": [
       "```r\n",
       "function (.data, ..., .add = FALSE, .drop = group_by_drop_default(.data)) \n",
       "NULL\n",
       "```"
      ],
      "text/plain": [
       "function (.data, ..., .add = FALSE, .drop = group_by_drop_default(.data)) \n",
       "NULL"
      ]
     },
     "metadata": {},
     "output_type": "display_data"
    }
   ],
   "source": [
    "args(group_by)"
   ]
  },
  {
   "cell_type": "markdown",
   "id": "ec83432b",
   "metadata": {},
   "source": [
    "    .data: This is the data frame that you want to group. \n",
    "            It represents the dataset on which u want to apply groupby()\n",
    "\n",
    "    ...: The ellipsis (...) is a placeholder for additional arguments. \n",
    "        In the case of group_by(), it allows you to specify the grouping columns. \n",
    "        You can provide column names, expressions, or functions that generate the grouping variables.\n"
   ]
  },
  {
   "cell_type": "code",
   "execution_count": null,
   "id": "2d69a734",
   "metadata": {},
   "outputs": [],
   "source": []
  },
  {
   "cell_type": "code",
   "execution_count": null,
   "id": "1b9ef8a4",
   "metadata": {},
   "outputs": [],
   "source": [
    "help(summarise)"
   ]
  },
  {
   "cell_type": "code",
   "execution_count": null,
   "id": "df6799ac",
   "metadata": {},
   "outputs": [],
   "source": [
    "\"\n",
    "\n",
    "summarise() creates a new data frame..\n",
    "It returns one value/row for each combination of grouping variables ;\n",
    "                    OR\n",
    "It returns one value for every sub-category in grouping variables ;\n",
    "eg avg price of category col\n",
    "                    OR\n",
    "for every date , it returns 1 value (total_guests)\n",
    "\n",
    "\n",
    "if there are no grouping variables, the output will have a single value which is summarising rows of a column..\n",
    "\n",
    "\""
   ]
  },
  {
   "cell_type": "code",
   "execution_count": 37,
   "id": "6797bee9",
   "metadata": {},
   "outputs": [
    {
     "data": {
      "text/html": [
       "<pre class=language-r><code>function (.data, ..., .by = NULL, .groups = NULL) \n",
       "NULL</code></pre>"
      ],
      "text/latex": [
       "\\begin{minted}{r}\n",
       "function (.data, ..., .by = NULL, .groups = NULL) \n",
       "NULL\n",
       "\\end{minted}"
      ],
      "text/markdown": [
       "```r\n",
       "function (.data, ..., .by = NULL, .groups = NULL) \n",
       "NULL\n",
       "```"
      ],
      "text/plain": [
       "function (.data, ..., .by = NULL, .groups = NULL) \n",
       "NULL"
      ]
     },
     "metadata": {},
     "output_type": "display_data"
    }
   ],
   "source": [
    "args(summarise)"
   ]
  },
  {
   "cell_type": "code",
   "execution_count": null,
   "id": "5f391c73",
   "metadata": {},
   "outputs": [],
   "source": []
  },
  {
   "cell_type": "code",
   "execution_count": null,
   "id": "a102882e",
   "metadata": {},
   "outputs": [],
   "source": [
    "gdf = group_by(dataNoCancel[ , c('arrival_date','Total_Guests')] , arrival_date )\n",
    "summarise(gdf , total_guests = sum(Total_Guests))\n",
    "\n",
    "## summarise(group_by(dataNoCancel[ , c('arrival_date','Total_Guests')] , arrival_date ) , total_guests = sum(Total_Guests))"
   ]
  },
  {
   "cell_type": "code",
   "execution_count": null,
   "id": "acd1e222",
   "metadata": {},
   "outputs": [],
   "source": [
    "### lets write similar code using dplyr chaining , as chaining makes code more readable !\n",
    "### before executing below code , make sure u have installed & imported dplyr as pipe operator is defined in dplyr package"
   ]
  },
  {
   "cell_type": "code",
   "execution_count": null,
   "id": "30c7141f",
   "metadata": {},
   "outputs": [],
   "source": []
  },
  {
   "cell_type": "code",
   "execution_count": 63,
   "id": "c414c83e",
   "metadata": {},
   "outputs": [],
   "source": [
    "guest_arrival_df = dataNoCancel[ , c('arrival_date','Total_Guests')] %>% group_by(arrival_date) %>% summarise(total_guests = sum(Total_Guests))"
   ]
  },
  {
   "cell_type": "code",
   "execution_count": 64,
   "id": "e538b5ad",
   "metadata": {},
   "outputs": [
    {
     "data": {
      "text/html": [
       "<table class=\"dataframe\">\n",
       "<caption>A tibble: 793 × 2</caption>\n",
       "<thead>\n",
       "\t<tr><th scope=col>arrival_date</th><th scope=col>total_guests</th></tr>\n",
       "\t<tr><th scope=col>&lt;chr&gt;</th><th scope=col>&lt;int&gt;</th></tr>\n",
       "</thead>\n",
       "<tbody>\n",
       "\t<tr><td>2015-10-1 </td><td>149</td></tr>\n",
       "\t<tr><td>2015-10-10</td><td>167</td></tr>\n",
       "\t<tr><td>2015-10-11</td><td>123</td></tr>\n",
       "\t<tr><td>2015-10-12</td><td>186</td></tr>\n",
       "\t<tr><td>2015-10-13</td><td>115</td></tr>\n",
       "\t<tr><td>2015-10-14</td><td>110</td></tr>\n",
       "\t<tr><td>2015-10-15</td><td>197</td></tr>\n",
       "\t<tr><td>2015-10-16</td><td>118</td></tr>\n",
       "\t<tr><td>2015-10-17</td><td> 80</td></tr>\n",
       "\t<tr><td>2015-10-18</td><td>172</td></tr>\n",
       "\t<tr><td>2015-10-19</td><td>190</td></tr>\n",
       "\t<tr><td>2015-10-2 </td><td>151</td></tr>\n",
       "\t<tr><td>2015-10-20</td><td>145</td></tr>\n",
       "\t<tr><td>2015-10-21</td><td>132</td></tr>\n",
       "\t<tr><td>2015-10-22</td><td>133</td></tr>\n",
       "\t<tr><td>2015-10-23</td><td>126</td></tr>\n",
       "\t<tr><td>2015-10-24</td><td> 99</td></tr>\n",
       "\t<tr><td>2015-10-25</td><td> 98</td></tr>\n",
       "\t<tr><td>2015-10-26</td><td> 85</td></tr>\n",
       "\t<tr><td>2015-10-27</td><td> 77</td></tr>\n",
       "\t<tr><td>2015-10-28</td><td> 96</td></tr>\n",
       "\t<tr><td>2015-10-29</td><td> 89</td></tr>\n",
       "\t<tr><td>2015-10-3 </td><td> 94</td></tr>\n",
       "\t<tr><td>2015-10-30</td><td>111</td></tr>\n",
       "\t<tr><td>2015-10-31</td><td>165</td></tr>\n",
       "\t<tr><td>2015-10-4 </td><td>157</td></tr>\n",
       "\t<tr><td>2015-10-5 </td><td>167</td></tr>\n",
       "\t<tr><td>2015-10-6 </td><td>148</td></tr>\n",
       "\t<tr><td>2015-10-7 </td><td>152</td></tr>\n",
       "\t<tr><td>2015-10-8 </td><td>121</td></tr>\n",
       "\t<tr><td>...</td><td>...</td></tr>\n",
       "\t<tr><td>2017-8-10</td><td>181</td></tr>\n",
       "\t<tr><td>2017-8-11</td><td>155</td></tr>\n",
       "\t<tr><td>2017-8-12</td><td>249</td></tr>\n",
       "\t<tr><td>2017-8-13</td><td>209</td></tr>\n",
       "\t<tr><td>2017-8-14</td><td>223</td></tr>\n",
       "\t<tr><td>2017-8-15</td><td>208</td></tr>\n",
       "\t<tr><td>2017-8-16</td><td>227</td></tr>\n",
       "\t<tr><td>2017-8-17</td><td>255</td></tr>\n",
       "\t<tr><td>2017-8-18</td><td>235</td></tr>\n",
       "\t<tr><td>2017-8-19</td><td>240</td></tr>\n",
       "\t<tr><td>2017-8-2 </td><td>193</td></tr>\n",
       "\t<tr><td>2017-8-20</td><td>225</td></tr>\n",
       "\t<tr><td>2017-8-21</td><td>228</td></tr>\n",
       "\t<tr><td>2017-8-22</td><td>159</td></tr>\n",
       "\t<tr><td>2017-8-23</td><td>180</td></tr>\n",
       "\t<tr><td>2017-8-24</td><td>197</td></tr>\n",
       "\t<tr><td>2017-8-25</td><td>189</td></tr>\n",
       "\t<tr><td>2017-8-26</td><td>168</td></tr>\n",
       "\t<tr><td>2017-8-27</td><td>249</td></tr>\n",
       "\t<tr><td>2017-8-28</td><td>189</td></tr>\n",
       "\t<tr><td>2017-8-29</td><td>146</td></tr>\n",
       "\t<tr><td>2017-8-3 </td><td>218</td></tr>\n",
       "\t<tr><td>2017-8-30</td><td>125</td></tr>\n",
       "\t<tr><td>2017-8-31</td><td>160</td></tr>\n",
       "\t<tr><td>2017-8-4 </td><td>216</td></tr>\n",
       "\t<tr><td>2017-8-5 </td><td>205</td></tr>\n",
       "\t<tr><td>2017-8-6 </td><td>199</td></tr>\n",
       "\t<tr><td>2017-8-7 </td><td>287</td></tr>\n",
       "\t<tr><td>2017-8-8 </td><td>191</td></tr>\n",
       "\t<tr><td>2017-8-9 </td><td>185</td></tr>\n",
       "</tbody>\n",
       "</table>\n"
      ],
      "text/latex": [
       "A tibble: 793 × 2\n",
       "\\begin{tabular}{ll}\n",
       " arrival\\_date & total\\_guests\\\\\n",
       " <chr> & <int>\\\\\n",
       "\\hline\n",
       "\t 2015-10-1  & 149\\\\\n",
       "\t 2015-10-10 & 167\\\\\n",
       "\t 2015-10-11 & 123\\\\\n",
       "\t 2015-10-12 & 186\\\\\n",
       "\t 2015-10-13 & 115\\\\\n",
       "\t 2015-10-14 & 110\\\\\n",
       "\t 2015-10-15 & 197\\\\\n",
       "\t 2015-10-16 & 118\\\\\n",
       "\t 2015-10-17 &  80\\\\\n",
       "\t 2015-10-18 & 172\\\\\n",
       "\t 2015-10-19 & 190\\\\\n",
       "\t 2015-10-2  & 151\\\\\n",
       "\t 2015-10-20 & 145\\\\\n",
       "\t 2015-10-21 & 132\\\\\n",
       "\t 2015-10-22 & 133\\\\\n",
       "\t 2015-10-23 & 126\\\\\n",
       "\t 2015-10-24 &  99\\\\\n",
       "\t 2015-10-25 &  98\\\\\n",
       "\t 2015-10-26 &  85\\\\\n",
       "\t 2015-10-27 &  77\\\\\n",
       "\t 2015-10-28 &  96\\\\\n",
       "\t 2015-10-29 &  89\\\\\n",
       "\t 2015-10-3  &  94\\\\\n",
       "\t 2015-10-30 & 111\\\\\n",
       "\t 2015-10-31 & 165\\\\\n",
       "\t 2015-10-4  & 157\\\\\n",
       "\t 2015-10-5  & 167\\\\\n",
       "\t 2015-10-6  & 148\\\\\n",
       "\t 2015-10-7  & 152\\\\\n",
       "\t 2015-10-8  & 121\\\\\n",
       "\t ... & ...\\\\\n",
       "\t 2017-8-10 & 181\\\\\n",
       "\t 2017-8-11 & 155\\\\\n",
       "\t 2017-8-12 & 249\\\\\n",
       "\t 2017-8-13 & 209\\\\\n",
       "\t 2017-8-14 & 223\\\\\n",
       "\t 2017-8-15 & 208\\\\\n",
       "\t 2017-8-16 & 227\\\\\n",
       "\t 2017-8-17 & 255\\\\\n",
       "\t 2017-8-18 & 235\\\\\n",
       "\t 2017-8-19 & 240\\\\\n",
       "\t 2017-8-2  & 193\\\\\n",
       "\t 2017-8-20 & 225\\\\\n",
       "\t 2017-8-21 & 228\\\\\n",
       "\t 2017-8-22 & 159\\\\\n",
       "\t 2017-8-23 & 180\\\\\n",
       "\t 2017-8-24 & 197\\\\\n",
       "\t 2017-8-25 & 189\\\\\n",
       "\t 2017-8-26 & 168\\\\\n",
       "\t 2017-8-27 & 249\\\\\n",
       "\t 2017-8-28 & 189\\\\\n",
       "\t 2017-8-29 & 146\\\\\n",
       "\t 2017-8-3  & 218\\\\\n",
       "\t 2017-8-30 & 125\\\\\n",
       "\t 2017-8-31 & 160\\\\\n",
       "\t 2017-8-4  & 216\\\\\n",
       "\t 2017-8-5  & 205\\\\\n",
       "\t 2017-8-6  & 199\\\\\n",
       "\t 2017-8-7  & 287\\\\\n",
       "\t 2017-8-8  & 191\\\\\n",
       "\t 2017-8-9  & 185\\\\\n",
       "\\end{tabular}\n"
      ],
      "text/markdown": [
       "\n",
       "A tibble: 793 × 2\n",
       "\n",
       "| arrival_date &lt;chr&gt; | total_guests &lt;int&gt; |\n",
       "|---|---|\n",
       "| 2015-10-1  | 149 |\n",
       "| 2015-10-10 | 167 |\n",
       "| 2015-10-11 | 123 |\n",
       "| 2015-10-12 | 186 |\n",
       "| 2015-10-13 | 115 |\n",
       "| 2015-10-14 | 110 |\n",
       "| 2015-10-15 | 197 |\n",
       "| 2015-10-16 | 118 |\n",
       "| 2015-10-17 |  80 |\n",
       "| 2015-10-18 | 172 |\n",
       "| 2015-10-19 | 190 |\n",
       "| 2015-10-2  | 151 |\n",
       "| 2015-10-20 | 145 |\n",
       "| 2015-10-21 | 132 |\n",
       "| 2015-10-22 | 133 |\n",
       "| 2015-10-23 | 126 |\n",
       "| 2015-10-24 |  99 |\n",
       "| 2015-10-25 |  98 |\n",
       "| 2015-10-26 |  85 |\n",
       "| 2015-10-27 |  77 |\n",
       "| 2015-10-28 |  96 |\n",
       "| 2015-10-29 |  89 |\n",
       "| 2015-10-3  |  94 |\n",
       "| 2015-10-30 | 111 |\n",
       "| 2015-10-31 | 165 |\n",
       "| 2015-10-4  | 157 |\n",
       "| 2015-10-5  | 167 |\n",
       "| 2015-10-6  | 148 |\n",
       "| 2015-10-7  | 152 |\n",
       "| 2015-10-8  | 121 |\n",
       "| ... | ... |\n",
       "| 2017-8-10 | 181 |\n",
       "| 2017-8-11 | 155 |\n",
       "| 2017-8-12 | 249 |\n",
       "| 2017-8-13 | 209 |\n",
       "| 2017-8-14 | 223 |\n",
       "| 2017-8-15 | 208 |\n",
       "| 2017-8-16 | 227 |\n",
       "| 2017-8-17 | 255 |\n",
       "| 2017-8-18 | 235 |\n",
       "| 2017-8-19 | 240 |\n",
       "| 2017-8-2  | 193 |\n",
       "| 2017-8-20 | 225 |\n",
       "| 2017-8-21 | 228 |\n",
       "| 2017-8-22 | 159 |\n",
       "| 2017-8-23 | 180 |\n",
       "| 2017-8-24 | 197 |\n",
       "| 2017-8-25 | 189 |\n",
       "| 2017-8-26 | 168 |\n",
       "| 2017-8-27 | 249 |\n",
       "| 2017-8-28 | 189 |\n",
       "| 2017-8-29 | 146 |\n",
       "| 2017-8-3  | 218 |\n",
       "| 2017-8-30 | 125 |\n",
       "| 2017-8-31 | 160 |\n",
       "| 2017-8-4  | 216 |\n",
       "| 2017-8-5  | 205 |\n",
       "| 2017-8-6  | 199 |\n",
       "| 2017-8-7  | 287 |\n",
       "| 2017-8-8  | 191 |\n",
       "| 2017-8-9  | 185 |\n",
       "\n"
      ],
      "text/plain": [
       "    arrival_date total_guests\n",
       "1   2015-10-1    149         \n",
       "2   2015-10-10   167         \n",
       "3   2015-10-11   123         \n",
       "4   2015-10-12   186         \n",
       "5   2015-10-13   115         \n",
       "6   2015-10-14   110         \n",
       "7   2015-10-15   197         \n",
       "8   2015-10-16   118         \n",
       "9   2015-10-17    80         \n",
       "10  2015-10-18   172         \n",
       "11  2015-10-19   190         \n",
       "12  2015-10-2    151         \n",
       "13  2015-10-20   145         \n",
       "14  2015-10-21   132         \n",
       "15  2015-10-22   133         \n",
       "16  2015-10-23   126         \n",
       "17  2015-10-24    99         \n",
       "18  2015-10-25    98         \n",
       "19  2015-10-26    85         \n",
       "20  2015-10-27    77         \n",
       "21  2015-10-28    96         \n",
       "22  2015-10-29    89         \n",
       "23  2015-10-3     94         \n",
       "24  2015-10-30   111         \n",
       "25  2015-10-31   165         \n",
       "26  2015-10-4    157         \n",
       "27  2015-10-5    167         \n",
       "28  2015-10-6    148         \n",
       "29  2015-10-7    152         \n",
       "30  2015-10-8    121         \n",
       "... ...          ...         \n",
       "764 2017-8-10    181         \n",
       "765 2017-8-11    155         \n",
       "766 2017-8-12    249         \n",
       "767 2017-8-13    209         \n",
       "768 2017-8-14    223         \n",
       "769 2017-8-15    208         \n",
       "770 2017-8-16    227         \n",
       "771 2017-8-17    255         \n",
       "772 2017-8-18    235         \n",
       "773 2017-8-19    240         \n",
       "774 2017-8-2     193         \n",
       "775 2017-8-20    225         \n",
       "776 2017-8-21    228         \n",
       "777 2017-8-22    159         \n",
       "778 2017-8-23    180         \n",
       "779 2017-8-24    197         \n",
       "780 2017-8-25    189         \n",
       "781 2017-8-26    168         \n",
       "782 2017-8-27    249         \n",
       "783 2017-8-28    189         \n",
       "784 2017-8-29    146         \n",
       "785 2017-8-3     218         \n",
       "786 2017-8-30    125         \n",
       "787 2017-8-31    160         \n",
       "788 2017-8-4     216         \n",
       "789 2017-8-5     205         \n",
       "790 2017-8-6     199         \n",
       "791 2017-8-7     287         \n",
       "792 2017-8-8     191         \n",
       "793 2017-8-9     185         "
      ]
     },
     "metadata": {},
     "output_type": "display_data"
    }
   ],
   "source": [
    "guest_arrival_df"
   ]
  },
  {
   "cell_type": "code",
   "execution_count": 65,
   "id": "76e1ff3b",
   "metadata": {},
   "outputs": [
    {
     "data": {
      "text/html": [
       "<style>\n",
       ".list-inline {list-style: none; margin:0; padding: 0}\n",
       ".list-inline>li {display: inline-block}\n",
       ".list-inline>li:not(:last-child)::after {content: \"\\00b7\"; padding: 0 .5ex}\n",
       "</style>\n",
       "<ol class=list-inline><li>'tbl_df'</li><li>'tbl'</li><li>'data.frame'</li></ol>\n"
      ],
      "text/latex": [
       "\\begin{enumerate*}\n",
       "\\item 'tbl\\_df'\n",
       "\\item 'tbl'\n",
       "\\item 'data.frame'\n",
       "\\end{enumerate*}\n"
      ],
      "text/markdown": [
       "1. 'tbl_df'\n",
       "2. 'tbl'\n",
       "3. 'data.frame'\n",
       "\n",
       "\n"
      ],
      "text/plain": [
       "[1] \"tbl_df\"     \"tbl\"        \"data.frame\""
      ]
     },
     "metadata": {},
     "output_type": "display_data"
    }
   ],
   "source": [
    "class(guest_arrival_df)\n",
    "\n",
    "## They are related to tibble package , they are almost similar to data frames \n",
    "## but with some enhancements , such as improved printing and handling of column types.."
   ]
  },
  {
   "cell_type": "code",
   "execution_count": null,
   "id": "f7284a7b",
   "metadata": {},
   "outputs": [],
   "source": [
    "\"\n",
    "\n",
    "\"tbl_df\" and \"tbl\": \n",
    "tbl_df' and 'tbl' are related to tibble package , they are almost similar to data frames but with some enhancements, \n",
    "such as improved printing and handling of column types , easier column-wise operations, and improved handling of missing values.\n",
    "\n",
    "So If you are working within the tidyverse ecosystem, especially with packages like \"dplyr\" or \"ggplot2\" , \n",
    "the resulting data structure may be treated as a 'tbl_df' or 'tbl' because these packages often return data frames as tibbles \n",
    "to take advantage of their enhanced features..\n",
    "\n",
    "\n",
    "\n",
    "data.frame: \n",
    "If you are working with base R functions or other packages that do not use tibbles, \n",
    "then data structure may be treated as a standard 'data.frame'...\n",
    "\n",
    "\n",
    "\n",
    "ie In R, \"tbl_df\" is a subclass of \"tbl.\" \n",
    "By the way \"tbl_df\" and \"tbl\" are classes provided by the tibble package, which is an extension of the data frame class in R.\n",
    "\n",
    "\n",
    "\""
   ]
  },
  {
   "cell_type": "code",
   "execution_count": null,
   "id": "ae288ea8",
   "metadata": {},
   "outputs": [],
   "source": [
    "\"\n",
    "\n",
    "Q: if u print your data using head(data , 5) , sometimes u get tibble ,  sometimes u get dataframe , Why so ?\n",
    "\n",
    "Ans : It depend on various factors, including the functions you use, the packages you load and the code u are using !\n",
    "\n",
    "1) Some functions in R have default behavior that returns either a data.frame or a tibble.. \n",
    "   For example:\n",
    "        Functions in the dplyr package, such as mutate() or filter() returns tibble by default.\n",
    "        Base R functions like read.csv() or read.table() returns dataframe \n",
    "\n",
    "2) When you use packages like dplyr or tidyr (part of the tidyverse),  many of the functions work with tibble \n",
    "\n",
    "\n",
    "3) if you read data from a CSV file using read_csv() from the readr package, it typically returns a tibble. \n",
    "   However, if you use read.csv() from base R, it returns a data.frame\n",
    "\n",
    "\n",
    "\""
   ]
  },
  {
   "cell_type": "code",
   "execution_count": null,
   "id": "19afe36f",
   "metadata": {},
   "outputs": [],
   "source": []
  },
  {
   "cell_type": "code",
   "execution_count": null,
   "id": "a0fbeff5",
   "metadata": {},
   "outputs": [],
   "source": []
  },
  {
   "cell_type": "code",
   "execution_count": 66,
   "id": "5529c60a",
   "metadata": {},
   "outputs": [
    {
     "data": {
      "text/html": [
       "<style>\n",
       ".list-inline {list-style: none; margin:0; padding: 0}\n",
       ".list-inline>li {display: inline-block}\n",
       ".list-inline>li:not(:last-child)::after {content: \"\\00b7\"; padding: 0 .5ex}\n",
       "</style>\n",
       "<ol class=list-inline><li>'arrival_date'</li><li>'total_guests'</li></ol>\n"
      ],
      "text/latex": [
       "\\begin{enumerate*}\n",
       "\\item 'arrival\\_date'\n",
       "\\item 'total\\_guests'\n",
       "\\end{enumerate*}\n"
      ],
      "text/markdown": [
       "1. 'arrival_date'\n",
       "2. 'total_guests'\n",
       "\n",
       "\n"
      ],
      "text/plain": [
       "[1] \"arrival_date\" \"total_guests\""
      ]
     },
     "metadata": {},
     "output_type": "display_data"
    }
   ],
   "source": [
    "colnames(guest_arrival_df)"
   ]
  },
  {
   "cell_type": "code",
   "execution_count": null,
   "id": "c434b791",
   "metadata": {},
   "outputs": [],
   "source": []
  },
  {
   "cell_type": "code",
   "execution_count": null,
   "id": "28eec66c",
   "metadata": {},
   "outputs": [],
   "source": [
    "### we have already used plotly lineplot using plot_ly() in 7th session of bitcoin case-study as well !\n",
    "### we have also used base-R lineplot multiple times in Bitcoin case study "
   ]
  },
  {
   "cell_type": "code",
   "execution_count": 67,
   "id": "24328275",
   "metadata": {},
   "outputs": [],
   "source": [
    "### use library function to load it..\n",
    "library(plotly)"
   ]
  },
  {
   "cell_type": "code",
   "execution_count": 39,
   "id": "7255415a",
   "metadata": {},
   "outputs": [],
   "source": [
    "help(add_lines)"
   ]
  },
  {
   "cell_type": "code",
   "execution_count": null,
   "id": "6d6aa9a8",
   "metadata": {},
   "outputs": [],
   "source": [
    "\"\n",
    "\n",
    "\n",
    "p : a plotly object\n",
    "\n",
    "\n",
    "data : A data frame \n",
    "\n",
    "x : the x variable.\n",
    "\n",
    "y : the y variable\n",
    "\n",
    "\n",
    "\""
   ]
  },
  {
   "cell_type": "code",
   "execution_count": 38,
   "id": "c3433321",
   "metadata": {},
   "outputs": [
    {
     "data": {
      "text/html": [
       "<pre class=language-r><code>function (p, x = NULL, y = NULL, z = NULL, ..., data = NULL, \n",
       "<span style=white-space:pre-wrap>    inherit = TRUE) </span>\n",
       "NULL</code></pre>"
      ],
      "text/latex": [
       "\\begin{minted}{r}\n",
       "function (p, x = NULL, y = NULL, z = NULL, ..., data = NULL, \n",
       "    inherit = TRUE) \n",
       "NULL\n",
       "\\end{minted}"
      ],
      "text/markdown": [
       "```r\n",
       "function (p, x = NULL, y = NULL, z = NULL, ..., data = NULL, \n",
       "    inherit = TRUE) \n",
       "NULL\n",
       "```"
      ],
      "text/plain": [
       "function (p, x = NULL, y = NULL, z = NULL, ..., data = NULL, \n",
       "    inherit = TRUE) \n",
       "NULL"
      ]
     },
     "metadata": {},
     "output_type": "display_data"
    }
   ],
   "source": [
    "args(add_lines)"
   ]
  },
  {
   "cell_type": "code",
   "execution_count": null,
   "id": "7d8c96de",
   "metadata": {},
   "outputs": [],
   "source": [
    "## add_lines(plot_ly(data = guest_arrival_df) , x = ~as.Date(arrival_date) , y = ~total_guests )"
   ]
  },
  {
   "cell_type": "code",
   "execution_count": null,
   "id": "3330bb12",
   "metadata": {},
   "outputs": [],
   "source": [
    "### lets write similar code using dplyr chaining , as chaining makes code more readable !"
   ]
  },
  {
   "cell_type": "code",
   "execution_count": null,
   "id": "0fcb21d0",
   "metadata": {},
   "outputs": [],
   "source": [
    "plotly :: plot_ly(data = guest_arrival_df) %>%  add_lines(x = ~as.Date(arrival_date) , y = ~total_guests )\n",
    "\n",
    "### use as.Date() for better x-axis labels.."
   ]
  },
  {
   "cell_type": "code",
   "execution_count": null,
   "id": "10d90855",
   "metadata": {},
   "outputs": [],
   "source": []
  },
  {
   "cell_type": "code",
   "execution_count": null,
   "id": "896584d8",
   "metadata": {},
   "outputs": [],
   "source": [
    "'''\n",
    "\n",
    "Q.. Is there any pattern ?\n",
    "Ans .. No , there is no visible pattern in guests arrival in this line-plot as we have some un-even trend ..\n",
    "\n",
    "'''"
   ]
  },
  {
   "cell_type": "code",
   "execution_count": null,
   "id": "09f43912",
   "metadata": {},
   "outputs": [],
   "source": []
  },
  {
   "cell_type": "code",
   "execution_count": null,
   "id": "fe3a46b0",
   "metadata": {},
   "outputs": [],
   "source": []
  },
  {
   "cell_type": "code",
   "execution_count": null,
   "id": "eb0e62d5",
   "metadata": {},
   "outputs": [],
   "source": []
  },
  {
   "cell_type": "code",
   "execution_count": null,
   "id": "3ec69eed",
   "metadata": {},
   "outputs": [],
   "source": []
  },
  {
   "cell_type": "code",
   "execution_count": null,
   "id": "9c99a97c",
   "metadata": {},
   "outputs": [],
   "source": []
  },
  {
   "cell_type": "markdown",
   "id": "d66dd755",
   "metadata": {},
   "source": [
    "## 8.. Analysing distribution of \"guests arrival\"\n",
    "     lets plot distribution of \"guests arrival\""
   ]
  },
  {
   "cell_type": "code",
   "execution_count": 68,
   "id": "a124742b",
   "metadata": {},
   "outputs": [
    {
     "data": {
      "text/html": [
       "<table class=\"dataframe\">\n",
       "<caption>A tibble: 2 × 2</caption>\n",
       "<thead>\n",
       "\t<tr><th scope=col>arrival_date</th><th scope=col>total_guests</th></tr>\n",
       "\t<tr><th scope=col>&lt;chr&gt;</th><th scope=col>&lt;int&gt;</th></tr>\n",
       "</thead>\n",
       "<tbody>\n",
       "\t<tr><td>2015-10-1 </td><td>149</td></tr>\n",
       "\t<tr><td>2015-10-10</td><td>167</td></tr>\n",
       "</tbody>\n",
       "</table>\n"
      ],
      "text/latex": [
       "A tibble: 2 × 2\n",
       "\\begin{tabular}{ll}\n",
       " arrival\\_date & total\\_guests\\\\\n",
       " <chr> & <int>\\\\\n",
       "\\hline\n",
       "\t 2015-10-1  & 149\\\\\n",
       "\t 2015-10-10 & 167\\\\\n",
       "\\end{tabular}\n"
      ],
      "text/markdown": [
       "\n",
       "A tibble: 2 × 2\n",
       "\n",
       "| arrival_date &lt;chr&gt; | total_guests &lt;int&gt; |\n",
       "|---|---|\n",
       "| 2015-10-1  | 149 |\n",
       "| 2015-10-10 | 167 |\n",
       "\n"
      ],
      "text/plain": [
       "  arrival_date total_guests\n",
       "1 2015-10-1    149         \n",
       "2 2015-10-10   167         "
      ]
     },
     "metadata": {},
     "output_type": "display_data"
    }
   ],
   "source": [
    "head(guest_arrival_df , 2)"
   ]
  },
  {
   "cell_type": "code",
   "execution_count": null,
   "id": "beb3235c",
   "metadata": {},
   "outputs": [],
   "source": []
  },
  {
   "cell_type": "code",
   "execution_count": 69,
   "id": "5048cf4a",
   "metadata": {},
   "outputs": [
    {
     "data": {
      "text/html": [
       "<style>\n",
       ".list-inline {list-style: none; margin:0; padding: 0}\n",
       ".list-inline>li {display: inline-block}\n",
       ".list-inline>li:not(:last-child)::after {content: \"\\00b7\"; padding: 0 .5ex}\n",
       "</style>\n",
       "<ol class=list-inline><li>149</li><li>167</li><li>123</li><li>186</li><li>115</li><li>110</li><li>197</li><li>118</li><li>80</li><li>172</li><li>190</li><li>151</li><li>145</li><li>132</li><li>133</li><li>126</li><li>99</li><li>98</li><li>85</li><li>77</li><li>96</li><li>89</li><li>94</li><li>111</li><li>165</li><li>157</li><li>167</li><li>148</li><li>152</li><li>121</li><li>158</li><li>89</li><li>68</li><li>69</li><li>70</li><li>55</li><li>58</li><li>38</li><li>93</li><li>88</li><li>107</li><li>73</li><li>92</li><li>100</li><li>106</li><li>49</li><li>138</li><li>81</li><li>52</li><li>64</li><li>122</li><li>95</li><li>24</li><li>93</li><li>48</li><li>68</li><li>79</li><li>113</li><li>119</li><li>66</li><li>70</li><li>52</li><li>74</li><li>76</li><li>71</li><li>24</li><li>54</li><li>33</li><li>55</li><li>64</li><li>74</li><li>107</li><li>68</li><li>55</li><li>65</li><li>94</li><li>99</li><li>131</li><li>77</li><li>182</li><li>161</li><li>142</li><li>158</li><li>87</li><li>202</li><li>174</li><li>137</li><li>323</li><li>77</li><li>42</li><li>38</li><li>80</li><li>79</li><li>99</li><li>83</li><li>86</li><li>79</li><li>48</li><li>53</li><li>80</li><li>110</li><li>93</li><li>70</li><li>71</li><li>109</li><li>62</li><li>59</li><li>80</li><li>92</li><li>143</li><li>63</li><li>131</li><li>61</li><li>70</li><li>67</li><li>81</li><li>106</li><li>87</li><li>80</li><li>87</li><li>65</li><li>56</li><li>58</li><li>111</li><li>237</li><li>171</li><li>114</li><li>113</li><li>131</li><li>168</li><li>127</li><li>176</li><li>137</li><li>116</li><li>90</li><li>114</li><li>132</li><li>156</li><li>130</li><li>134</li><li>115</li><li>109</li><li>88</li><li>122</li><li>148</li><li>143</li><li>100</li><li>124</li><li>74</li><li>116</li><li>88</li><li>125</li><li>160</li><li>149</li><li>167</li><li>118</li><li>148</li><li>135</li><li>102</li><li>157</li><li>124</li><li>168</li><li>174</li><li>122</li><li>180</li><li>115</li><li>132</li><li>172</li><li>110</li><li>142</li><li>118</li><li>167</li><li>112</li><li>83</li><li>102</li><li>84</li><li>164</li><li>138</li><li>175</li><li>175</li><li>144</li><li>173</li><li>123</li><li>143</li><li>75</li><li>62</li><li>54</li><li>81</li><li>62</li><li>99</li><li>130</li><li>101</li><li>56</li><li>64</li><li>126</li><li>174</li><li>82</li><li>81</li><li>87</li><li>115</li><li>...</li><li>199</li><li>126</li><li>144</li><li>144</li><li>171</li><li>256</li><li>253</li><li>203</li><li>128</li><li>153</li><li>203</li><li>103</li><li>121</li><li>101</li><li>103</li><li>182</li><li>161</li><li>184</li><li>172</li><li>108</li><li>179</li><li>158</li><li>146</li><li>179</li><li>188</li><li>177</li><li>182</li><li>235</li><li>151</li><li>106</li><li>103</li><li>129</li><li>129</li><li>170</li><li>152</li><li>138</li><li>114</li><li>217</li><li>167</li><li>198</li><li>216</li><li>117</li><li>184</li><li>152</li><li>146</li><li>110</li><li>170</li><li>183</li><li>249</li><li>201</li><li>173</li><li>261</li><li>221</li><li>190</li><li>168</li><li>229</li><li>143</li><li>136</li><li>133</li><li>136</li><li>167</li><li>160</li><li>174</li><li>147</li><li>116</li><li>117</li><li>181</li><li>253</li><li>303</li><li>192</li><li>167</li><li>113</li><li>223</li><li>176</li><li>171</li><li>191</li><li>277</li><li>212</li><li>132</li><li>188</li><li>164</li><li>193</li><li>187</li><li>196</li><li>158</li><li>170</li><li>201</li><li>156</li><li>211</li><li>191</li><li>188</li><li>185</li><li>187</li><li>208</li><li>326</li><li>191</li><li>111</li><li>252</li><li>212</li><li>151</li><li>149</li><li>144</li><li>187</li><li>229</li><li>183</li><li>151</li><li>206</li><li>201</li><li>218</li><li>185</li><li>250</li><li>198</li><li>152</li><li>144</li><li>224</li><li>155</li><li>191</li><li>176</li><li>203</li><li>257</li><li>184</li><li>157</li><li>180</li><li>164</li><li>198</li><li>136</li><li>175</li><li>185</li><li>180</li><li>189</li><li>210</li><li>236</li><li>179</li><li>209</li><li>157</li><li>135</li><li>217</li><li>182</li><li>211</li><li>264</li><li>230</li><li>211</li><li>182</li><li>179</li><li>307</li><li>222</li><li>251</li><li>208</li><li>160</li><li>202</li><li>205</li><li>214</li><li>168</li><li>206</li><li>297</li><li>189</li><li>161</li><li>196</li><li>172</li><li>233</li><li>231</li><li>195</li><li>250</li><li>167</li><li>127</li><li>250</li><li>205</li><li>215</li><li>260</li><li>222</li><li>181</li><li>155</li><li>249</li><li>209</li><li>223</li><li>208</li><li>227</li><li>255</li><li>235</li><li>240</li><li>193</li><li>225</li><li>228</li><li>159</li><li>180</li><li>197</li><li>189</li><li>168</li><li>249</li><li>189</li><li>146</li><li>218</li><li>125</li><li>160</li><li>216</li><li>205</li><li>199</li><li>287</li><li>191</li><li>185</li></ol>\n"
      ],
      "text/latex": [
       "\\begin{enumerate*}\n",
       "\\item 149\n",
       "\\item 167\n",
       "\\item 123\n",
       "\\item 186\n",
       "\\item 115\n",
       "\\item 110\n",
       "\\item 197\n",
       "\\item 118\n",
       "\\item 80\n",
       "\\item 172\n",
       "\\item 190\n",
       "\\item 151\n",
       "\\item 145\n",
       "\\item 132\n",
       "\\item 133\n",
       "\\item 126\n",
       "\\item 99\n",
       "\\item 98\n",
       "\\item 85\n",
       "\\item 77\n",
       "\\item 96\n",
       "\\item 89\n",
       "\\item 94\n",
       "\\item 111\n",
       "\\item 165\n",
       "\\item 157\n",
       "\\item 167\n",
       "\\item 148\n",
       "\\item 152\n",
       "\\item 121\n",
       "\\item 158\n",
       "\\item 89\n",
       "\\item 68\n",
       "\\item 69\n",
       "\\item 70\n",
       "\\item 55\n",
       "\\item 58\n",
       "\\item 38\n",
       "\\item 93\n",
       "\\item 88\n",
       "\\item 107\n",
       "\\item 73\n",
       "\\item 92\n",
       "\\item 100\n",
       "\\item 106\n",
       "\\item 49\n",
       "\\item 138\n",
       "\\item 81\n",
       "\\item 52\n",
       "\\item 64\n",
       "\\item 122\n",
       "\\item 95\n",
       "\\item 24\n",
       "\\item 93\n",
       "\\item 48\n",
       "\\item 68\n",
       "\\item 79\n",
       "\\item 113\n",
       "\\item 119\n",
       "\\item 66\n",
       "\\item 70\n",
       "\\item 52\n",
       "\\item 74\n",
       "\\item 76\n",
       "\\item 71\n",
       "\\item 24\n",
       "\\item 54\n",
       "\\item 33\n",
       "\\item 55\n",
       "\\item 64\n",
       "\\item 74\n",
       "\\item 107\n",
       "\\item 68\n",
       "\\item 55\n",
       "\\item 65\n",
       "\\item 94\n",
       "\\item 99\n",
       "\\item 131\n",
       "\\item 77\n",
       "\\item 182\n",
       "\\item 161\n",
       "\\item 142\n",
       "\\item 158\n",
       "\\item 87\n",
       "\\item 202\n",
       "\\item 174\n",
       "\\item 137\n",
       "\\item 323\n",
       "\\item 77\n",
       "\\item 42\n",
       "\\item 38\n",
       "\\item 80\n",
       "\\item 79\n",
       "\\item 99\n",
       "\\item 83\n",
       "\\item 86\n",
       "\\item 79\n",
       "\\item 48\n",
       "\\item 53\n",
       "\\item 80\n",
       "\\item 110\n",
       "\\item 93\n",
       "\\item 70\n",
       "\\item 71\n",
       "\\item 109\n",
       "\\item 62\n",
       "\\item 59\n",
       "\\item 80\n",
       "\\item 92\n",
       "\\item 143\n",
       "\\item 63\n",
       "\\item 131\n",
       "\\item 61\n",
       "\\item 70\n",
       "\\item 67\n",
       "\\item 81\n",
       "\\item 106\n",
       "\\item 87\n",
       "\\item 80\n",
       "\\item 87\n",
       "\\item 65\n",
       "\\item 56\n",
       "\\item 58\n",
       "\\item 111\n",
       "\\item 237\n",
       "\\item 171\n",
       "\\item 114\n",
       "\\item 113\n",
       "\\item 131\n",
       "\\item 168\n",
       "\\item 127\n",
       "\\item 176\n",
       "\\item 137\n",
       "\\item 116\n",
       "\\item 90\n",
       "\\item 114\n",
       "\\item 132\n",
       "\\item 156\n",
       "\\item 130\n",
       "\\item 134\n",
       "\\item 115\n",
       "\\item 109\n",
       "\\item 88\n",
       "\\item 122\n",
       "\\item 148\n",
       "\\item 143\n",
       "\\item 100\n",
       "\\item 124\n",
       "\\item 74\n",
       "\\item 116\n",
       "\\item 88\n",
       "\\item 125\n",
       "\\item 160\n",
       "\\item 149\n",
       "\\item 167\n",
       "\\item 118\n",
       "\\item 148\n",
       "\\item 135\n",
       "\\item 102\n",
       "\\item 157\n",
       "\\item 124\n",
       "\\item 168\n",
       "\\item 174\n",
       "\\item 122\n",
       "\\item 180\n",
       "\\item 115\n",
       "\\item 132\n",
       "\\item 172\n",
       "\\item 110\n",
       "\\item 142\n",
       "\\item 118\n",
       "\\item 167\n",
       "\\item 112\n",
       "\\item 83\n",
       "\\item 102\n",
       "\\item 84\n",
       "\\item 164\n",
       "\\item 138\n",
       "\\item 175\n",
       "\\item 175\n",
       "\\item 144\n",
       "\\item 173\n",
       "\\item 123\n",
       "\\item 143\n",
       "\\item 75\n",
       "\\item 62\n",
       "\\item 54\n",
       "\\item 81\n",
       "\\item 62\n",
       "\\item 99\n",
       "\\item 130\n",
       "\\item 101\n",
       "\\item 56\n",
       "\\item 64\n",
       "\\item 126\n",
       "\\item 174\n",
       "\\item 82\n",
       "\\item 81\n",
       "\\item 87\n",
       "\\item 115\n",
       "\\item ...\n",
       "\\item 199\n",
       "\\item 126\n",
       "\\item 144\n",
       "\\item 144\n",
       "\\item 171\n",
       "\\item 256\n",
       "\\item 253\n",
       "\\item 203\n",
       "\\item 128\n",
       "\\item 153\n",
       "\\item 203\n",
       "\\item 103\n",
       "\\item 121\n",
       "\\item 101\n",
       "\\item 103\n",
       "\\item 182\n",
       "\\item 161\n",
       "\\item 184\n",
       "\\item 172\n",
       "\\item 108\n",
       "\\item 179\n",
       "\\item 158\n",
       "\\item 146\n",
       "\\item 179\n",
       "\\item 188\n",
       "\\item 177\n",
       "\\item 182\n",
       "\\item 235\n",
       "\\item 151\n",
       "\\item 106\n",
       "\\item 103\n",
       "\\item 129\n",
       "\\item 129\n",
       "\\item 170\n",
       "\\item 152\n",
       "\\item 138\n",
       "\\item 114\n",
       "\\item 217\n",
       "\\item 167\n",
       "\\item 198\n",
       "\\item 216\n",
       "\\item 117\n",
       "\\item 184\n",
       "\\item 152\n",
       "\\item 146\n",
       "\\item 110\n",
       "\\item 170\n",
       "\\item 183\n",
       "\\item 249\n",
       "\\item 201\n",
       "\\item 173\n",
       "\\item 261\n",
       "\\item 221\n",
       "\\item 190\n",
       "\\item 168\n",
       "\\item 229\n",
       "\\item 143\n",
       "\\item 136\n",
       "\\item 133\n",
       "\\item 136\n",
       "\\item 167\n",
       "\\item 160\n",
       "\\item 174\n",
       "\\item 147\n",
       "\\item 116\n",
       "\\item 117\n",
       "\\item 181\n",
       "\\item 253\n",
       "\\item 303\n",
       "\\item 192\n",
       "\\item 167\n",
       "\\item 113\n",
       "\\item 223\n",
       "\\item 176\n",
       "\\item 171\n",
       "\\item 191\n",
       "\\item 277\n",
       "\\item 212\n",
       "\\item 132\n",
       "\\item 188\n",
       "\\item 164\n",
       "\\item 193\n",
       "\\item 187\n",
       "\\item 196\n",
       "\\item 158\n",
       "\\item 170\n",
       "\\item 201\n",
       "\\item 156\n",
       "\\item 211\n",
       "\\item 191\n",
       "\\item 188\n",
       "\\item 185\n",
       "\\item 187\n",
       "\\item 208\n",
       "\\item 326\n",
       "\\item 191\n",
       "\\item 111\n",
       "\\item 252\n",
       "\\item 212\n",
       "\\item 151\n",
       "\\item 149\n",
       "\\item 144\n",
       "\\item 187\n",
       "\\item 229\n",
       "\\item 183\n",
       "\\item 151\n",
       "\\item 206\n",
       "\\item 201\n",
       "\\item 218\n",
       "\\item 185\n",
       "\\item 250\n",
       "\\item 198\n",
       "\\item 152\n",
       "\\item 144\n",
       "\\item 224\n",
       "\\item 155\n",
       "\\item 191\n",
       "\\item 176\n",
       "\\item 203\n",
       "\\item 257\n",
       "\\item 184\n",
       "\\item 157\n",
       "\\item 180\n",
       "\\item 164\n",
       "\\item 198\n",
       "\\item 136\n",
       "\\item 175\n",
       "\\item 185\n",
       "\\item 180\n",
       "\\item 189\n",
       "\\item 210\n",
       "\\item 236\n",
       "\\item 179\n",
       "\\item 209\n",
       "\\item 157\n",
       "\\item 135\n",
       "\\item 217\n",
       "\\item 182\n",
       "\\item 211\n",
       "\\item 264\n",
       "\\item 230\n",
       "\\item 211\n",
       "\\item 182\n",
       "\\item 179\n",
       "\\item 307\n",
       "\\item 222\n",
       "\\item 251\n",
       "\\item 208\n",
       "\\item 160\n",
       "\\item 202\n",
       "\\item 205\n",
       "\\item 214\n",
       "\\item 168\n",
       "\\item 206\n",
       "\\item 297\n",
       "\\item 189\n",
       "\\item 161\n",
       "\\item 196\n",
       "\\item 172\n",
       "\\item 233\n",
       "\\item 231\n",
       "\\item 195\n",
       "\\item 250\n",
       "\\item 167\n",
       "\\item 127\n",
       "\\item 250\n",
       "\\item 205\n",
       "\\item 215\n",
       "\\item 260\n",
       "\\item 222\n",
       "\\item 181\n",
       "\\item 155\n",
       "\\item 249\n",
       "\\item 209\n",
       "\\item 223\n",
       "\\item 208\n",
       "\\item 227\n",
       "\\item 255\n",
       "\\item 235\n",
       "\\item 240\n",
       "\\item 193\n",
       "\\item 225\n",
       "\\item 228\n",
       "\\item 159\n",
       "\\item 180\n",
       "\\item 197\n",
       "\\item 189\n",
       "\\item 168\n",
       "\\item 249\n",
       "\\item 189\n",
       "\\item 146\n",
       "\\item 218\n",
       "\\item 125\n",
       "\\item 160\n",
       "\\item 216\n",
       "\\item 205\n",
       "\\item 199\n",
       "\\item 287\n",
       "\\item 191\n",
       "\\item 185\n",
       "\\end{enumerate*}\n"
      ],
      "text/markdown": [
       "1. 149\n",
       "2. 167\n",
       "3. 123\n",
       "4. 186\n",
       "5. 115\n",
       "6. 110\n",
       "7. 197\n",
       "8. 118\n",
       "9. 80\n",
       "10. 172\n",
       "11. 190\n",
       "12. 151\n",
       "13. 145\n",
       "14. 132\n",
       "15. 133\n",
       "16. 126\n",
       "17. 99\n",
       "18. 98\n",
       "19. 85\n",
       "20. 77\n",
       "21. 96\n",
       "22. 89\n",
       "23. 94\n",
       "24. 111\n",
       "25. 165\n",
       "26. 157\n",
       "27. 167\n",
       "28. 148\n",
       "29. 152\n",
       "30. 121\n",
       "31. 158\n",
       "32. 89\n",
       "33. 68\n",
       "34. 69\n",
       "35. 70\n",
       "36. 55\n",
       "37. 58\n",
       "38. 38\n",
       "39. 93\n",
       "40. 88\n",
       "41. 107\n",
       "42. 73\n",
       "43. 92\n",
       "44. 100\n",
       "45. 106\n",
       "46. 49\n",
       "47. 138\n",
       "48. 81\n",
       "49. 52\n",
       "50. 64\n",
       "51. 122\n",
       "52. 95\n",
       "53. 24\n",
       "54. 93\n",
       "55. 48\n",
       "56. 68\n",
       "57. 79\n",
       "58. 113\n",
       "59. 119\n",
       "60. 66\n",
       "61. 70\n",
       "62. 52\n",
       "63. 74\n",
       "64. 76\n",
       "65. 71\n",
       "66. 24\n",
       "67. 54\n",
       "68. 33\n",
       "69. 55\n",
       "70. 64\n",
       "71. 74\n",
       "72. 107\n",
       "73. 68\n",
       "74. 55\n",
       "75. 65\n",
       "76. 94\n",
       "77. 99\n",
       "78. 131\n",
       "79. 77\n",
       "80. 182\n",
       "81. 161\n",
       "82. 142\n",
       "83. 158\n",
       "84. 87\n",
       "85. 202\n",
       "86. 174\n",
       "87. 137\n",
       "88. 323\n",
       "89. 77\n",
       "90. 42\n",
       "91. 38\n",
       "92. 80\n",
       "93. 79\n",
       "94. 99\n",
       "95. 83\n",
       "96. 86\n",
       "97. 79\n",
       "98. 48\n",
       "99. 53\n",
       "100. 80\n",
       "101. 110\n",
       "102. 93\n",
       "103. 70\n",
       "104. 71\n",
       "105. 109\n",
       "106. 62\n",
       "107. 59\n",
       "108. 80\n",
       "109. 92\n",
       "110. 143\n",
       "111. 63\n",
       "112. 131\n",
       "113. 61\n",
       "114. 70\n",
       "115. 67\n",
       "116. 81\n",
       "117. 106\n",
       "118. 87\n",
       "119. 80\n",
       "120. 87\n",
       "121. 65\n",
       "122. 56\n",
       "123. 58\n",
       "124. 111\n",
       "125. 237\n",
       "126. 171\n",
       "127. 114\n",
       "128. 113\n",
       "129. 131\n",
       "130. 168\n",
       "131. 127\n",
       "132. 176\n",
       "133. 137\n",
       "134. 116\n",
       "135. 90\n",
       "136. 114\n",
       "137. 132\n",
       "138. 156\n",
       "139. 130\n",
       "140. 134\n",
       "141. 115\n",
       "142. 109\n",
       "143. 88\n",
       "144. 122\n",
       "145. 148\n",
       "146. 143\n",
       "147. 100\n",
       "148. 124\n",
       "149. 74\n",
       "150. 116\n",
       "151. 88\n",
       "152. 125\n",
       "153. 160\n",
       "154. 149\n",
       "155. 167\n",
       "156. 118\n",
       "157. 148\n",
       "158. 135\n",
       "159. 102\n",
       "160. 157\n",
       "161. 124\n",
       "162. 168\n",
       "163. 174\n",
       "164. 122\n",
       "165. 180\n",
       "166. 115\n",
       "167. 132\n",
       "168. 172\n",
       "169. 110\n",
       "170. 142\n",
       "171. 118\n",
       "172. 167\n",
       "173. 112\n",
       "174. 83\n",
       "175. 102\n",
       "176. 84\n",
       "177. 164\n",
       "178. 138\n",
       "179. 175\n",
       "180. 175\n",
       "181. 144\n",
       "182. 173\n",
       "183. 123\n",
       "184. 143\n",
       "185. 75\n",
       "186. 62\n",
       "187. 54\n",
       "188. 81\n",
       "189. 62\n",
       "190. 99\n",
       "191. 130\n",
       "192. 101\n",
       "193. 56\n",
       "194. 64\n",
       "195. 126\n",
       "196. 174\n",
       "197. 82\n",
       "198. 81\n",
       "199. 87\n",
       "200. 115\n",
       "201. ...\n",
       "202. 199\n",
       "203. 126\n",
       "204. 144\n",
       "205. 144\n",
       "206. 171\n",
       "207. 256\n",
       "208. 253\n",
       "209. 203\n",
       "210. 128\n",
       "211. 153\n",
       "212. 203\n",
       "213. 103\n",
       "214. 121\n",
       "215. 101\n",
       "216. 103\n",
       "217. 182\n",
       "218. 161\n",
       "219. 184\n",
       "220. 172\n",
       "221. 108\n",
       "222. 179\n",
       "223. 158\n",
       "224. 146\n",
       "225. 179\n",
       "226. 188\n",
       "227. 177\n",
       "228. 182\n",
       "229. 235\n",
       "230. 151\n",
       "231. 106\n",
       "232. 103\n",
       "233. 129\n",
       "234. 129\n",
       "235. 170\n",
       "236. 152\n",
       "237. 138\n",
       "238. 114\n",
       "239. 217\n",
       "240. 167\n",
       "241. 198\n",
       "242. 216\n",
       "243. 117\n",
       "244. 184\n",
       "245. 152\n",
       "246. 146\n",
       "247. 110\n",
       "248. 170\n",
       "249. 183\n",
       "250. 249\n",
       "251. 201\n",
       "252. 173\n",
       "253. 261\n",
       "254. 221\n",
       "255. 190\n",
       "256. 168\n",
       "257. 229\n",
       "258. 143\n",
       "259. 136\n",
       "260. 133\n",
       "261. 136\n",
       "262. 167\n",
       "263. 160\n",
       "264. 174\n",
       "265. 147\n",
       "266. 116\n",
       "267. 117\n",
       "268. 181\n",
       "269. 253\n",
       "270. 303\n",
       "271. 192\n",
       "272. 167\n",
       "273. 113\n",
       "274. 223\n",
       "275. 176\n",
       "276. 171\n",
       "277. 191\n",
       "278. 277\n",
       "279. 212\n",
       "280. 132\n",
       "281. 188\n",
       "282. 164\n",
       "283. 193\n",
       "284. 187\n",
       "285. 196\n",
       "286. 158\n",
       "287. 170\n",
       "288. 201\n",
       "289. 156\n",
       "290. 211\n",
       "291. 191\n",
       "292. 188\n",
       "293. 185\n",
       "294. 187\n",
       "295. 208\n",
       "296. 326\n",
       "297. 191\n",
       "298. 111\n",
       "299. 252\n",
       "300. 212\n",
       "301. 151\n",
       "302. 149\n",
       "303. 144\n",
       "304. 187\n",
       "305. 229\n",
       "306. 183\n",
       "307. 151\n",
       "308. 206\n",
       "309. 201\n",
       "310. 218\n",
       "311. 185\n",
       "312. 250\n",
       "313. 198\n",
       "314. 152\n",
       "315. 144\n",
       "316. 224\n",
       "317. 155\n",
       "318. 191\n",
       "319. 176\n",
       "320. 203\n",
       "321. 257\n",
       "322. 184\n",
       "323. 157\n",
       "324. 180\n",
       "325. 164\n",
       "326. 198\n",
       "327. 136\n",
       "328. 175\n",
       "329. 185\n",
       "330. 180\n",
       "331. 189\n",
       "332. 210\n",
       "333. 236\n",
       "334. 179\n",
       "335. 209\n",
       "336. 157\n",
       "337. 135\n",
       "338. 217\n",
       "339. 182\n",
       "340. 211\n",
       "341. 264\n",
       "342. 230\n",
       "343. 211\n",
       "344. 182\n",
       "345. 179\n",
       "346. 307\n",
       "347. 222\n",
       "348. 251\n",
       "349. 208\n",
       "350. 160\n",
       "351. 202\n",
       "352. 205\n",
       "353. 214\n",
       "354. 168\n",
       "355. 206\n",
       "356. 297\n",
       "357. 189\n",
       "358. 161\n",
       "359. 196\n",
       "360. 172\n",
       "361. 233\n",
       "362. 231\n",
       "363. 195\n",
       "364. 250\n",
       "365. 167\n",
       "366. 127\n",
       "367. 250\n",
       "368. 205\n",
       "369. 215\n",
       "370. 260\n",
       "371. 222\n",
       "372. 181\n",
       "373. 155\n",
       "374. 249\n",
       "375. 209\n",
       "376. 223\n",
       "377. 208\n",
       "378. 227\n",
       "379. 255\n",
       "380. 235\n",
       "381. 240\n",
       "382. 193\n",
       "383. 225\n",
       "384. 228\n",
       "385. 159\n",
       "386. 180\n",
       "387. 197\n",
       "388. 189\n",
       "389. 168\n",
       "390. 249\n",
       "391. 189\n",
       "392. 146\n",
       "393. 218\n",
       "394. 125\n",
       "395. 160\n",
       "396. 216\n",
       "397. 205\n",
       "398. 199\n",
       "399. 287\n",
       "400. 191\n",
       "401. 185\n",
       "\n",
       "\n"
      ],
      "text/plain": [
       "  [1] 149 167 123 186 115 110 197 118  80 172 190 151 145 132 133 126  99  98\n",
       " [19]  85  77  96  89  94 111 165 157 167 148 152 121 158  89  68  69  70  55\n",
       " [37]  58  38  93  88 107  73  92 100 106  49 138  81  52  64 122  95  24  93\n",
       " [55]  48  68  79 113 119  66  70  52  74  76  71  24  54  33  55  64  74 107\n",
       " [73]  68  55  65  94  99 131  77 182 161 142 158  87 202 174 137 323  77  42\n",
       " [91]  38  80  79  99  83  86  79  48  53  80 110  93  70  71 109  62  59  80\n",
       "[109]  92 143  63 131  61  70  67  81 106  87  80  87  65  56  58 111 237 171\n",
       "[127] 114 113 131 168 127 176 137 116  90 114 132 156 130 134 115 109  88 122\n",
       "[145] 148 143 100 124  74 116  88 125 160 149 167 118 148 135 102 157 124 168\n",
       "[163] 174 122 180 115 132 172 110 142 118 167 112  83 102  84 164 138 175 175\n",
       "[181] 144 173 123 143  75  62  54  81  62  99 130 101  56  64 126 174  82  81\n",
       "[199]  87 115  54  91  80  90 112 123  87  87  52  96  58  73  66  86  77 116\n",
       "[217] 195 147 188 165 104 112 235 189 143 143 204 221 199 136 185 191 217 170\n",
       "[235] 162 267 287 240 238 232 177 168 226 197 131 217 159 178 236 170 161 181\n",
       "[253] 111 150 164 241 188 183 100 184  92 109 124 229 156  83 109 108 143  71\n",
       "[271] 186 159 126 175 112  98 141 145  45  80  95  86  78 130 143  92 117 183\n",
       "[289]  94 113 128 154 162 112 152 255 164 162 197 252 107 100 141 104 131 250\n",
       "[307] 122  69 109 129 269 297 152 130 104 121 118 164  67 170 102 143  95 118\n",
       "[325] 167 231 252 106  83 107 127 190 249 155 141  85 136 155 210 198 143 154\n",
       "[343] 143 145 188 190 235 166 242 243 166 190 313 215 128 142 251 179 144 174\n",
       "[361] 219 240 169 108 143 142 170 142 133 234 153 183 140 177 206 186 211 109\n",
       "[379] 122 168 172 206 229 161 174 193 148 217 230 135 222 198 145 156 164 219\n",
       "[397] 198 122 126 155 220 170 152 201 217 179 146 254 246 158 227 204 150 141\n",
       "[415] 150 193  98 104 219  96 236 192 155 206 163 170 180 202 153 193 152 196\n",
       "[433] 186 117 139 149 243 163 174 215 221 183 114 137 117 108 315 214 188 131\n",
       "[451] 198 208 153 102 202 105 141 183 196 196 227 187 210 204 210 235 188 263\n",
       "[469] 161 187 180 193 155 319 201 239 182 183 208 190 185 224 180 215 188 202\n",
       "[487] 164 193 208 321 177 223 238 284 209 255 231 201 180 203 208 286 244 269\n",
       "[505] 171 195 180 223 177 262 227 207 192 183 237 192 230 209 312 182 233 180\n",
       "[523] 242 213 155 136 283 195 140 230 225 205 195 152 168 169 127 199 218 152\n",
       "[541] 131 157 196 170 158 239 145 120 149 192 128 105  75 129 115 156  82 131\n",
       "[559]  80 118 152 237 102 151 105 109  94 123 136 194 157  97 149 132  87 118\n",
       "[577] 117 152 126  96  96  73 214 180 205 220 185 121 156 216 199 190 141 199\n",
       "[595] 126 144 144 171 256 253 203 128 153 203 103 121 101 103 182 161 184 172\n",
       "[613] 108 179 158 146 179 188 177 182 235 151 106 103 129 129 170 152 138 114\n",
       "[631] 217 167 198 216 117 184 152 146 110 170 183 249 201 173 261 221 190 168\n",
       "[649] 229 143 136 133 136 167 160 174 147 116 117 181 253 303 192 167 113 223\n",
       "[667] 176 171 191 277 212 132 188 164 193 187 196 158 170 201 156 211 191 188\n",
       "[685] 185 187 208 326 191 111 252 212 151 149 144 187 229 183 151 206 201 218\n",
       "[703] 185 250 198 152 144 224 155 191 176 203 257 184 157 180 164 198 136 175\n",
       "[721] 185 180 189 210 236 179 209 157 135 217 182 211 264 230 211 182 179 307\n",
       "[739] 222 251 208 160 202 205 214 168 206 297 189 161 196 172 233 231 195 250\n",
       "[757] 167 127 250 205 215 260 222 181 155 249 209 223 208 227 255 235 240 193\n",
       "[775] 225 228 159 180 197 189 168 249 189 146 218 125 160 216 205 199 287 191\n",
       "[793] 185"
      ]
     },
     "metadata": {},
     "output_type": "display_data"
    }
   ],
   "source": [
    "guest_arrival_df$total_guests"
   ]
  },
  {
   "cell_type": "code",
   "execution_count": null,
   "id": "edcebb3a",
   "metadata": {},
   "outputs": [],
   "source": []
  },
  {
   "cell_type": "code",
   "execution_count": null,
   "id": "a3f3b3db",
   "metadata": {},
   "outputs": [],
   "source": [
    "\"\n",
    "explain histogram : \n",
    "\n",
    "A histogram tells distribution of a dataset..\n",
    "\n",
    "On x-axis , we have range of values in our dataset, divided into bins.. ie as , \n",
    "            2.0 - 3.5 ,  3.5 - 4.0  , so this(3.5 - 4.0) is a bin\n",
    "\n",
    "On y-axis , we have height : height of the bar corresponds to the frequency or count of data points within each bin..\n",
    "\n",
    "\n",
    "Histogram : ie for every bin , tell me count !\n",
    "\""
   ]
  },
  {
   "cell_type": "code",
   "execution_count": null,
   "id": "dcb8ea5f",
   "metadata": {},
   "outputs": [],
   "source": [
    "help(hist)"
   ]
  },
  {
   "cell_type": "code",
   "execution_count": null,
   "id": "58212471",
   "metadata": {},
   "outputs": [],
   "source": [
    "\"\n",
    "\n",
    "## Default S3 method:\n",
    "hist(x, breaks = \"Sturges\",\n",
    "     freq = NULL, probability = !freq,\n",
    "     include.lowest = TRUE, right = TRUE,\n",
    "     density = NULL, angle = 45, col = \"lightgray\", border = NULL,\n",
    "     main = paste(\"Histogram of\" , xname),\n",
    "     xlim = range(breaks), ylim = NULL,\n",
    "     xlab = xname, ylab,\n",
    "     axes = TRUE, plot = TRUE, labels = FALSE,\n",
    "     nclass = NULL, warn.unused = TRUE, ...)\n",
    "\n",
    "\n",
    "\""
   ]
  },
  {
   "cell_type": "code",
   "execution_count": null,
   "id": "304f4d12",
   "metadata": {},
   "outputs": [],
   "source": [
    "\"\n",
    "\n",
    "Choosing the right number of bins for a histogram is somewhat of an art and depends on the characteristics of your data. \n",
    "Here are a few common methods:\n",
    "the choice of bins can influence the interpretation of the histogram. \n",
    "Too few bins might oversimplify the distribution, while too many might introduce noise..\n",
    "\n",
    "\n",
    "1) Square Root Rule: Calculate the square root of the number of data points and round it to the nearest whole number. \n",
    "                     This provides a good balance between too much detail (many bins) and too little detail (few bins).\n",
    "                    n <- length(data)\n",
    "                    bins <- round(sqrt(n))\n",
    "\n",
    "\n",
    "2) Sturges' Rule: It calculates the number of bins based on the logarithm of the number of data points. \n",
    "                  It is suitable for a wide range of data types\n",
    "                 n <- length(data)\n",
    "                 bins <- ceiling(log2(n) + 1)\n",
    "\n",
    "\n",
    "3) Scott's Rule: It's based on the standard deviation and the number of data points..\n",
    "                n = length(data)\n",
    "                bins = ceiling((max(data) - min(data)) / (3.5 * sd(data) / n^(1/3)))\n",
    "\n",
    "\n",
    "\""
   ]
  },
  {
   "cell_type": "code",
   "execution_count": 40,
   "id": "26e67205",
   "metadata": {},
   "outputs": [
    {
     "data": {
      "text/html": [
       "<pre class=language-r><code>function (x, ...) \n",
       "NULL</code></pre>"
      ],
      "text/latex": [
       "\\begin{minted}{r}\n",
       "function (x, ...) \n",
       "NULL\n",
       "\\end{minted}"
      ],
      "text/markdown": [
       "```r\n",
       "function (x, ...) \n",
       "NULL\n",
       "```"
      ],
      "text/plain": [
       "function (x, ...) \n",
       "NULL"
      ]
     },
     "metadata": {},
     "output_type": "display_data"
    }
   ],
   "source": [
    "args(hist)"
   ]
  },
  {
   "cell_type": "code",
   "execution_count": null,
   "id": "b486adbd",
   "metadata": {},
   "outputs": [],
   "source": [
    "### number of bins , use breaks parameter :"
   ]
  },
  {
   "cell_type": "code",
   "execution_count": 70,
   "id": "16c42782",
   "metadata": {},
   "outputs": [
    {
     "data": {
      "text/html": [
       "<pre class=language-r><code>function (x, ...) \n",
       "NULL</code></pre>"
      ],
      "text/latex": [
       "\\begin{minted}{r}\n",
       "function (x, ...) \n",
       "NULL\n",
       "\\end{minted}"
      ],
      "text/markdown": [
       "```r\n",
       "function (x, ...) \n",
       "NULL\n",
       "```"
      ],
      "text/plain": [
       "function (x, ...) \n",
       "NULL"
      ]
     },
     "metadata": {},
     "output_type": "display_data"
    }
   ],
   "source": [
    "args(hist)"
   ]
  },
  {
   "cell_type": "code",
   "execution_count": 71,
   "id": "43dee112",
   "metadata": {},
   "outputs": [
    {
     "data": {
      "image/png": "[encoded data removed]",
      "text/plain": [
       "Plot with title \"Histogram of guest_arrival_df$total_guests\""
      ]
     },
     "metadata": {
      "image/png": {
       "height": 480,
       "width": 720
      }
     },
     "output_type": "display_data"
    }
   ],
   "source": [
    "### hist(mydata$columnName, breaks = n)\n",
    "hist(guest_arrival_df$total_guests , breaks = 20)\n",
    "\n",
    "## ie we want 20 bins"
   ]
  },
  {
   "cell_type": "code",
   "execution_count": null,
   "id": "0f5059c4",
   "metadata": {},
   "outputs": [],
   "source": []
  },
  {
   "cell_type": "code",
   "execution_count": null,
   "id": "c6be4fc0",
   "metadata": {},
   "outputs": [],
   "source": []
  },
  {
   "cell_type": "code",
   "execution_count": null,
   "id": "9c65e4db",
   "metadata": {},
   "outputs": [],
   "source": [
    "## creating dist plot using ggplot2\n",
    "\n",
    "## we have shed light multiple times on ggplot2 basic structure !"
   ]
  },
  {
   "cell_type": "markdown",
   "id": "48989e4a",
   "metadata": {},
   "source": [
    "        Basic ggplot structure:\n",
    "        The basic structure of a ggplot2 plot involves :\n",
    "        a) specifying a data frame \n",
    "        b) mapping aesthetic properties, \n",
    "        c) and adding geometric layers(adding required plot as per our need)..\n",
    "        \n",
    "           The main function is ggplot():"
   ]
  },
  {
   "cell_type": "code",
   "execution_count": null,
   "id": "c92900ee",
   "metadata": {},
   "outputs": [],
   "source": []
  },
  {
   "cell_type": "code",
   "execution_count": 45,
   "id": "96b3156e",
   "metadata": {},
   "outputs": [
    {
     "data": {
      "text/html": [
       "<pre class=language-r><code>function (mapping = NULL, data = NULL, stat = \"density\", position = \"identity\", \n",
       "<span style=white-space:pre-wrap>    ..., na.rm = FALSE, orientation = NA, show.legend = NA, inherit.aes = TRUE, </span>\n",
       "<span style=white-space:pre-wrap>    outline.type = \"upper\") </span>\n",
       "NULL</code></pre>"
      ],
      "text/latex": [
       "\\begin{minted}{r}\n",
       "function (mapping = NULL, data = NULL, stat = \"density\", position = \"identity\", \n",
       "    ..., na.rm = FALSE, orientation = NA, show.legend = NA, inherit.aes = TRUE, \n",
       "    outline.type = \"upper\") \n",
       "NULL\n",
       "\\end{minted}"
      ],
      "text/markdown": [
       "```r\n",
       "function (mapping = NULL, data = NULL, stat = \"density\", position = \"identity\", \n",
       "    ..., na.rm = FALSE, orientation = NA, show.legend = NA, inherit.aes = TRUE, \n",
       "    outline.type = \"upper\") \n",
       "NULL\n",
       "```"
      ],
      "text/plain": [
       "function (mapping = NULL, data = NULL, stat = \"density\", position = \"identity\", \n",
       "    ..., na.rm = FALSE, orientation = NA, show.legend = NA, inherit.aes = TRUE, \n",
       "    outline.type = \"upper\") \n",
       "NULL"
      ]
     },
     "metadata": {},
     "output_type": "display_data"
    }
   ],
   "source": [
    "args(geom_density)"
   ]
  },
  {
   "cell_type": "code",
   "execution_count": 72,
   "id": "e0618bbb",
   "metadata": {},
   "outputs": [
    {
     "data": {
      "image/png": "[encoded data removed]",
      "text/plain": [
       "plot without title"
      ]
     },
     "metadata": {
      "image/png": {
       "height": 480,
       "width": 720
      }
     },
     "output_type": "display_data"
    }
   ],
   "source": [
    "ggplot2 :: ggplot(data = guest_arrival_df, aes(x = total_guests)) +\n",
    "  geom_density()\n",
    "\n",
    "## plot_ly(data = guest_arrival_df, x = guest_arrival_df$total_guests, type = \"histogram\", histnorm = \"probability density\")"
   ]
  },
  {
   "cell_type": "code",
   "execution_count": null,
   "id": "7bd5dfd0",
   "metadata": {},
   "outputs": [],
   "source": []
  },
  {
   "cell_type": "code",
   "execution_count": null,
   "id": "51dafaea",
   "metadata": {},
   "outputs": [],
   "source": [
    "'''\n",
    "\n",
    "\n",
    "we can achieve distribution plot by smoothening our histogram using KDE  ie PDF is a smoothen form of your histogram !\n",
    "ie histogram -->> apply KDE -->> we will get distribution plot \n",
    "\n",
    "\n",
    "\n",
    "This is called density plot bcz here height represents how many pts exists at each of these intervals \n",
    "or how dense each of the region is !\n",
    "\n",
    "\n",
    "\n",
    "density(distribution) plot : at a point , what is a density of a data pt. ?\n",
    "                or\n",
    "how many percentage of data pts available at some particular pt .. ?\n",
    "                or \n",
    "What is the % of data points that I will encounter at any point ? \n",
    "                or\n",
    "what is the probability of certain data pt in whole data ?\n",
    "                or \n",
    "prob that my data has value has some specific value \n",
    "\n",
    "\n",
    "\n",
    "Note : Above distribution is close to Gaussian/normal distribution , \n",
    "\n",
    "\n",
    "'''"
   ]
  },
  {
   "cell_type": "code",
   "execution_count": null,
   "id": "55604559",
   "metadata": {},
   "outputs": [],
   "source": [
    "#### close to Gaussian/normal distribution , ie above is not a exact normal distribution "
   ]
  },
  {
   "cell_type": "code",
   "execution_count": null,
   "id": "9e9afcbe",
   "metadata": {},
   "outputs": [],
   "source": []
  },
  {
   "cell_type": "code",
   "execution_count": null,
   "id": "7b0b502f",
   "metadata": {},
   "outputs": [],
   "source": []
  },
  {
   "cell_type": "code",
   "execution_count": 73,
   "id": "77194fa2",
   "metadata": {},
   "outputs": [],
   "source": [
    "library(\"IRdisplay\")"
   ]
  },
  {
   "cell_type": "code",
   "execution_count": 76,
   "id": "0025bb41",
   "metadata": {},
   "outputs": [
    {
     "data": {
      "image/png": "[encoded data removed]"
     },
     "metadata": {},
     "output_type": "display_data"
    }
   ],
   "source": [
    "IRdisplay :: display_png(file=\"R:/Entire_R_Data_Analytics_Project/Hotel/mean_median.png\")"
   ]
  },
  {
   "cell_type": "code",
   "execution_count": null,
   "id": "3ddbaf09",
   "metadata": {},
   "outputs": [],
   "source": [
    "'''\n",
    "\n",
    "If mean & median are equal , it means \n",
    "distribution is symmetrical & bell-shaped \n",
    "\n",
    "If mean > median , it means distribution is not symmetrical \n",
    "& it is Right skewed (positively skewed )\n",
    "\n",
    "If mean < median , it means distribution is not symmetrical \n",
    "& it is Right skewed (negatively skewed )\n",
    "\n",
    "\n",
    "'''"
   ]
  },
  {
   "cell_type": "code",
   "execution_count": null,
   "id": "8ca882b1",
   "metadata": {},
   "outputs": [],
   "source": []
  },
  {
   "cell_type": "markdown",
   "id": "e2062f9d",
   "metadata": {},
   "source": [
    "#### Properties of Normal/Gaussian Distribution : \n",
    "     Bell shaped curve \n",
    "     Symmetrical distribution\n",
    "     68-95-99 rule"
   ]
  },
  {
   "cell_type": "code",
   "execution_count": null,
   "id": "55615928",
   "metadata": {},
   "outputs": [],
   "source": []
  },
  {
   "cell_type": "code",
   "execution_count": null,
   "id": "d90843b9",
   "metadata": {},
   "outputs": [],
   "source": []
  },
  {
   "cell_type": "code",
   "execution_count": 44,
   "id": "80ec7fa2",
   "metadata": {},
   "outputs": [],
   "source": [
    "help(mean)\n",
    "\n",
    "## Arithmetic Mean"
   ]
  },
  {
   "cell_type": "code",
   "execution_count": 41,
   "id": "6e93f526",
   "metadata": {},
   "outputs": [
    {
     "data": {
      "text/html": [
       "<pre class=language-r><code>function (x, ...) \n",
       "NULL</code></pre>"
      ],
      "text/latex": [
       "\\begin{minted}{r}\n",
       "function (x, ...) \n",
       "NULL\n",
       "\\end{minted}"
      ],
      "text/markdown": [
       "```r\n",
       "function (x, ...) \n",
       "NULL\n",
       "```"
      ],
      "text/plain": [
       "function (x, ...) \n",
       "NULL"
      ]
     },
     "metadata": {},
     "output_type": "display_data"
    }
   ],
   "source": [
    "args(mean)"
   ]
  },
  {
   "cell_type": "code",
   "execution_count": 77,
   "id": "fd293b7e",
   "metadata": {},
   "outputs": [
    {
     "data": {
      "text/html": [
       "157.925598991173"
      ],
      "text/latex": [
       "157.925598991173"
      ],
      "text/markdown": [
       "157.925598991173"
      ],
      "text/plain": [
       "[1] 157.9256"
      ]
     },
     "metadata": {},
     "output_type": "display_data"
    }
   ],
   "source": [
    "mean(guest_arrival_df$total_guests , na.rm = TRUE)"
   ]
  },
  {
   "cell_type": "code",
   "execution_count": null,
   "id": "d7c22a10",
   "metadata": {},
   "outputs": [],
   "source": []
  },
  {
   "cell_type": "code",
   "execution_count": 43,
   "id": "cf267b87",
   "metadata": {},
   "outputs": [],
   "source": [
    "help(median)\n",
    "\n",
    "## Median Value"
   ]
  },
  {
   "cell_type": "code",
   "execution_count": 42,
   "id": "0106f63c",
   "metadata": {},
   "outputs": [
    {
     "data": {
      "text/html": [
       "<pre class=language-r><code>function (x, na.rm = FALSE, ...) \n",
       "NULL</code></pre>"
      ],
      "text/latex": [
       "\\begin{minted}{r}\n",
       "function (x, na.rm = FALSE, ...) \n",
       "NULL\n",
       "\\end{minted}"
      ],
      "text/markdown": [
       "```r\n",
       "function (x, na.rm = FALSE, ...) \n",
       "NULL\n",
       "```"
      ],
      "text/plain": [
       "function (x, na.rm = FALSE, ...) \n",
       "NULL"
      ]
     },
     "metadata": {},
     "output_type": "display_data"
    }
   ],
   "source": [
    "args(median)"
   ]
  },
  {
   "cell_type": "code",
   "execution_count": 78,
   "id": "df18ee33",
   "metadata": {},
   "outputs": [
    {
     "data": {
      "text/html": [
       "158"
      ],
      "text/latex": [
       "158"
      ],
      "text/markdown": [
       "158"
      ],
      "text/plain": [
       "[1] 158"
      ]
     },
     "metadata": {},
     "output_type": "display_data"
    }
   ],
   "source": [
    "median(guest_arrival_df$total_guests , na.rm = TRUE)\n",
    "\n",
    "## mean & median are approx equals , \n",
    "## it means distribution is a symmetrical & bell-shaped "
   ]
  },
  {
   "cell_type": "code",
   "execution_count": null,
   "id": "9c58c01d",
   "metadata": {},
   "outputs": [],
   "source": [
    "'''\n",
    " u is mean \n",
    " sigma is std dev\n",
    "\n",
    "'''"
   ]
  },
  {
   "cell_type": "code",
   "execution_count": 79,
   "id": "4f33c829",
   "metadata": {},
   "outputs": [
    {
     "data": {
      "image/png": "[encoded data removed]"
     },
     "metadata": {},
     "output_type": "display_data"
    }
   ],
   "source": [
    "IRdisplay :: display_png(file=\"R:/Entire_R_Data_Analytics_Project/Hotel/normal_dist.png\") "
   ]
  },
  {
   "cell_type": "code",
   "execution_count": 80,
   "id": "37d6fa48",
   "metadata": {},
   "outputs": [
    {
     "data": {
      "text/html": [
       "56.5182840078994"
      ],
      "text/latex": [
       "56.5182840078994"
      ],
      "text/markdown": [
       "56.5182840078994"
      ],
      "text/plain": [
       "[1] 56.51828"
      ]
     },
     "metadata": {},
     "output_type": "display_data"
    }
   ],
   "source": [
    "sd(guest_arrival_df$total_guests , na.rm = TRUE)"
   ]
  },
  {
   "cell_type": "code",
   "execution_count": null,
   "id": "d2bba1e2",
   "metadata": {},
   "outputs": [],
   "source": [
    "'''\n",
    "\n",
    "between 1 std dev ie between u-sigma to u+sigma ie between 100 to 213 , we have approx 68% of data pts \n",
    "ie , approx 68% of total guests arrival values lies between interval of 100 to 213\n",
    "\n",
    "\n",
    "between 2 std dev ie between u-2sigma to u+2sigma ie between 46 to 269 , we have approx 95% of data pts \n",
    "ie , approx 95% of total guests arrival values lies between interval of 46 to 269\n",
    "\n",
    "\n",
    "between 3 std dev ie between u-3sigma to u+3sigma ie between 0 to 320 , we have approx 99.4% of data pts \n",
    "ie , approx 99.7% of total guests arrival values lies between interval of 0 to 320\n",
    "\n",
    "\n",
    "'''"
   ]
  },
  {
   "cell_type": "code",
   "execution_count": null,
   "id": "a2323a0f",
   "metadata": {},
   "outputs": [],
   "source": []
  },
  {
   "cell_type": "code",
   "execution_count": null,
   "id": "1361b782",
   "metadata": {},
   "outputs": [],
   "source": []
  },
  {
   "cell_type": "code",
   "execution_count": null,
   "id": "bb7ea697",
   "metadata": {},
   "outputs": [],
   "source": []
  },
  {
   "cell_type": "code",
   "execution_count": null,
   "id": "c64e14c9",
   "metadata": {},
   "outputs": [],
   "source": []
  },
  {
   "cell_type": "code",
   "execution_count": null,
   "id": "19870474",
   "metadata": {},
   "outputs": [],
   "source": []
  },
  {
   "cell_type": "markdown",
   "id": "19ae018f",
   "metadata": {},
   "source": [
    "## 9.. Which are the most busy month or in which months Guests are high?"
   ]
  },
  {
   "cell_type": "code",
   "execution_count": 81,
   "id": "cddd7910",
   "metadata": {},
   "outputs": [
    {
     "data": {
      "text/html": [
       "<style>\n",
       ".list-inline {list-style: none; margin:0; padding: 0}\n",
       ".list-inline>li {display: inline-block}\n",
       ".list-inline>li:not(:last-child)::after {content: \"\\00b7\"; padding: 0 .5ex}\n",
       "</style>\n",
       "<ol class=list-inline><li>'Resort Hotel'</li><li>'City Hotel'</li></ol>\n"
      ],
      "text/latex": [
       "\\begin{enumerate*}\n",
       "\\item 'Resort Hotel'\n",
       "\\item 'City Hotel'\n",
       "\\end{enumerate*}\n"
      ],
      "text/markdown": [
       "1. 'Resort Hotel'\n",
       "2. 'City Hotel'\n",
       "\n",
       "\n"
      ],
      "text/plain": [
       "[1] \"Resort Hotel\" \"City Hotel\"  "
      ]
     },
     "metadata": {},
     "output_type": "display_data"
    }
   ],
   "source": [
    "unique(data$hotel)"
   ]
  },
  {
   "cell_type": "code",
   "execution_count": 82,
   "id": "f1877bdd",
   "metadata": {},
   "outputs": [],
   "source": [
    "data_resort = data[(data$hotel == \"Resort Hotel\") & (data$is_canceled == 0) , ] ## data[rows , cols ]\n",
    "data_city = data[(data$hotel == \"City Hotel\") & (data$is_canceled == 0) , ] ## data[rows , cols ]"
   ]
  },
  {
   "cell_type": "code",
   "execution_count": 83,
   "id": "32da04e6",
   "metadata": {},
   "outputs": [
    {
     "data": {
      "text/html": [
       "<style>\n",
       ".list-inline {list-style: none; margin:0; padding: 0}\n",
       ".list-inline>li {display: inline-block}\n",
       ".list-inline>li:not(:last-child)::after {content: \"\\00b7\"; padding: 0 .5ex}\n",
       "</style>\n",
       "<ol class=list-inline><li>25982</li><li>35</li></ol>\n"
      ],
      "text/latex": [
       "\\begin{enumerate*}\n",
       "\\item 25982\n",
       "\\item 35\n",
       "\\end{enumerate*}\n"
      ],
      "text/markdown": [
       "1. 25982\n",
       "2. 35\n",
       "\n",
       "\n"
      ],
      "text/plain": [
       "[1] 25982    35"
      ]
     },
     "metadata": {},
     "output_type": "display_data"
    }
   ],
   "source": [
    "dim(data_resort)"
   ]
  },
  {
   "cell_type": "code",
   "execution_count": 84,
   "id": "e6800e93",
   "metadata": {},
   "outputs": [
    {
     "data": {
      "text/html": [
       "<style>\n",
       ".list-inline {list-style: none; margin:0; padding: 0}\n",
       ".list-inline>li {display: inline-block}\n",
       ".list-inline>li:not(:last-child)::after {content: \"\\00b7\"; padding: 0 .5ex}\n",
       "</style>\n",
       "<ol class=list-inline><li>37239</li><li>35</li></ol>\n"
      ],
      "text/latex": [
       "\\begin{enumerate*}\n",
       "\\item 37239\n",
       "\\item 35\n",
       "\\end{enumerate*}\n"
      ],
      "text/markdown": [
       "1. 37239\n",
       "2. 35\n",
       "\n",
       "\n"
      ],
      "text/plain": [
       "[1] 37239    35"
      ]
     },
     "metadata": {},
     "output_type": "display_data"
    }
   ],
   "source": [
    "dim(data_city)"
   ]
  },
  {
   "cell_type": "code",
   "execution_count": 85,
   "id": "dd03657f",
   "metadata": {},
   "outputs": [
    {
     "data": {
      "text/html": [
       "<style>\n",
       ".list-inline {list-style: none; margin:0; padding: 0}\n",
       ".list-inline>li {display: inline-block}\n",
       ".list-inline>li:not(:last-child)::after {content: \"\\00b7\"; padding: 0 .5ex}\n",
       "</style>\n",
       "<ol class=list-inline><li>'hotel'</li><li>'is_canceled'</li><li>'lead_time'</li><li>'arrival_date_year'</li><li>'arrival_date_month'</li><li>'arrival_date_week_number'</li><li>'arrival_date_day_of_month'</li><li>'stays_in_weekend_nights'</li><li>'stays_in_week_nights'</li><li>'adults'</li><li>'children'</li><li>'babies'</li><li>'meal'</li><li>'country'</li><li>'market_segment'</li><li>'distribution_channel'</li><li>'is_repeated_guest'</li><li>'previous_cancellations'</li><li>'previous_bookings_not_canceled'</li><li>'reserved_room_type'</li><li>'assigned_room_type'</li><li>'booking_changes'</li><li>'deposit_type'</li><li>'agent'</li><li>'company'</li><li>'days_in_waiting_list'</li><li>'customer_type'</li><li>'adr'</li><li>'required_car_parking_spaces'</li><li>'total_of_special_requests'</li><li>'reservation_status'</li><li>'reservation_status_date'</li><li>'arrival_date_month_index'</li><li>'arrival_date'</li><li>'Total_Guests'</li></ol>\n"
      ],
      "text/latex": [
       "\\begin{enumerate*}\n",
       "\\item 'hotel'\n",
       "\\item 'is\\_canceled'\n",
       "\\item 'lead\\_time'\n",
       "\\item 'arrival\\_date\\_year'\n",
       "\\item 'arrival\\_date\\_month'\n",
       "\\item 'arrival\\_date\\_week\\_number'\n",
       "\\item 'arrival\\_date\\_day\\_of\\_month'\n",
       "\\item 'stays\\_in\\_weekend\\_nights'\n",
       "\\item 'stays\\_in\\_week\\_nights'\n",
       "\\item 'adults'\n",
       "\\item 'children'\n",
       "\\item 'babies'\n",
       "\\item 'meal'\n",
       "\\item 'country'\n",
       "\\item 'market\\_segment'\n",
       "\\item 'distribution\\_channel'\n",
       "\\item 'is\\_repeated\\_guest'\n",
       "\\item 'previous\\_cancellations'\n",
       "\\item 'previous\\_bookings\\_not\\_canceled'\n",
       "\\item 'reserved\\_room\\_type'\n",
       "\\item 'assigned\\_room\\_type'\n",
       "\\item 'booking\\_changes'\n",
       "\\item 'deposit\\_type'\n",
       "\\item 'agent'\n",
       "\\item 'company'\n",
       "\\item 'days\\_in\\_waiting\\_list'\n",
       "\\item 'customer\\_type'\n",
       "\\item 'adr'\n",
       "\\item 'required\\_car\\_parking\\_spaces'\n",
       "\\item 'total\\_of\\_special\\_requests'\n",
       "\\item 'reservation\\_status'\n",
       "\\item 'reservation\\_status\\_date'\n",
       "\\item 'arrival\\_date\\_month\\_index'\n",
       "\\item 'arrival\\_date'\n",
       "\\item 'Total\\_Guests'\n",
       "\\end{enumerate*}\n"
      ],
      "text/markdown": [
       "1. 'hotel'\n",
       "2. 'is_canceled'\n",
       "3. 'lead_time'\n",
       "4. 'arrival_date_year'\n",
       "5. 'arrival_date_month'\n",
       "6. 'arrival_date_week_number'\n",
       "7. 'arrival_date_day_of_month'\n",
       "8. 'stays_in_weekend_nights'\n",
       "9. 'stays_in_week_nights'\n",
       "10. 'adults'\n",
       "11. 'children'\n",
       "12. 'babies'\n",
       "13. 'meal'\n",
       "14. 'country'\n",
       "15. 'market_segment'\n",
       "16. 'distribution_channel'\n",
       "17. 'is_repeated_guest'\n",
       "18. 'previous_cancellations'\n",
       "19. 'previous_bookings_not_canceled'\n",
       "20. 'reserved_room_type'\n",
       "21. 'assigned_room_type'\n",
       "22. 'booking_changes'\n",
       "23. 'deposit_type'\n",
       "24. 'agent'\n",
       "25. 'company'\n",
       "26. 'days_in_waiting_list'\n",
       "27. 'customer_type'\n",
       "28. 'adr'\n",
       "29. 'required_car_parking_spaces'\n",
       "30. 'total_of_special_requests'\n",
       "31. 'reservation_status'\n",
       "32. 'reservation_status_date'\n",
       "33. 'arrival_date_month_index'\n",
       "34. 'arrival_date'\n",
       "35. 'Total_Guests'\n",
       "\n",
       "\n"
      ],
      "text/plain": [
       " [1] \"hotel\"                          \"is_canceled\"                   \n",
       " [3] \"lead_time\"                      \"arrival_date_year\"             \n",
       " [5] \"arrival_date_month\"             \"arrival_date_week_number\"      \n",
       " [7] \"arrival_date_day_of_month\"      \"stays_in_weekend_nights\"       \n",
       " [9] \"stays_in_week_nights\"           \"adults\"                        \n",
       "[11] \"children\"                       \"babies\"                        \n",
       "[13] \"meal\"                           \"country\"                       \n",
       "[15] \"market_segment\"                 \"distribution_channel\"          \n",
       "[17] \"is_repeated_guest\"              \"previous_cancellations\"        \n",
       "[19] \"previous_bookings_not_canceled\" \"reserved_room_type\"            \n",
       "[21] \"assigned_room_type\"             \"booking_changes\"               \n",
       "[23] \"deposit_type\"                   \"agent\"                         \n",
       "[25] \"company\"                        \"days_in_waiting_list\"          \n",
       "[27] \"customer_type\"                  \"adr\"                           \n",
       "[29] \"required_car_parking_spaces\"    \"total_of_special_requests\"     \n",
       "[31] \"reservation_status\"             \"reservation_status_date\"       \n",
       "[33] \"arrival_date_month_index\"       \"arrival_date\"                  \n",
       "[35] \"Total_Guests\"                  "
      ]
     },
     "metadata": {},
     "output_type": "display_data"
    }
   ],
   "source": [
    "names(data_resort)"
   ]
  },
  {
   "cell_type": "code",
   "execution_count": null,
   "id": "a16b5f76",
   "metadata": {},
   "outputs": [],
   "source": []
  },
  {
   "cell_type": "code",
   "execution_count": null,
   "id": "8b764332",
   "metadata": {},
   "outputs": [],
   "source": []
  },
  {
   "cell_type": "code",
   "execution_count": null,
   "id": "67e0bc1a",
   "metadata": {},
   "outputs": [],
   "source": [
    "## we have shed light multiple times in this case-study(6th session & 7th session) & in previous case study too \n",
    "## ie what group_by & how it works , so lets code it up !"
   ]
  },
  {
   "cell_type": "code",
   "execution_count": 46,
   "id": "1f78539c",
   "metadata": {},
   "outputs": [
    {
     "data": {
      "text/html": [
       "<pre class=language-r><code>function (.data, ..., .add = FALSE, .drop = group_by_drop_default(.data)) \n",
       "NULL</code></pre>"
      ],
      "text/latex": [
       "\\begin{minted}{r}\n",
       "function (.data, ..., .add = FALSE, .drop = group\\_by\\_drop\\_default(.data)) \n",
       "NULL\n",
       "\\end{minted}"
      ],
      "text/markdown": [
       "```r\n",
       "function (.data, ..., .add = FALSE, .drop = group_by_drop_default(.data)) \n",
       "NULL\n",
       "```"
      ],
      "text/plain": [
       "function (.data, ..., .add = FALSE, .drop = group_by_drop_default(.data)) \n",
       "NULL"
      ]
     },
     "metadata": {},
     "output_type": "display_data"
    }
   ],
   "source": [
    "args(group_by)"
   ]
  },
  {
   "cell_type": "code",
   "execution_count": 47,
   "id": "fb2cab0b",
   "metadata": {},
   "outputs": [
    {
     "data": {
      "text/html": [
       "<pre class=language-r><code>function (.data, ..., .by = NULL, .groups = NULL) \n",
       "NULL</code></pre>"
      ],
      "text/latex": [
       "\\begin{minted}{r}\n",
       "function (.data, ..., .by = NULL, .groups = NULL) \n",
       "NULL\n",
       "\\end{minted}"
      ],
      "text/markdown": [
       "```r\n",
       "function (.data, ..., .by = NULL, .groups = NULL) \n",
       "NULL\n",
       "```"
      ],
      "text/plain": [
       "function (.data, ..., .by = NULL, .groups = NULL) \n",
       "NULL"
      ]
     },
     "metadata": {},
     "output_type": "display_data"
    }
   ],
   "source": [
    "args(summarise)"
   ]
  },
  {
   "cell_type": "code",
   "execution_count": 86,
   "id": "b561efc6",
   "metadata": {},
   "outputs": [],
   "source": [
    "rush_resort = data_resort %>% group_by(arrival_date_month) %>% summarise(\"resorts_guests\" = n())\n",
    "\n",
    "rush_city = data_city %>% group_by(arrival_date_month) %>% summarise(\"city_guests\" = n())"
   ]
  },
  {
   "cell_type": "code",
   "execution_count": 87,
   "id": "01b7a45e",
   "metadata": {},
   "outputs": [
    {
     "data": {
      "text/html": [
       "<table class=\"dataframe\">\n",
       "<caption>A tibble: 12 × 2</caption>\n",
       "<thead>\n",
       "\t<tr><th scope=col>arrival_date_month</th><th scope=col>resorts_guests</th></tr>\n",
       "\t<tr><th scope=col>&lt;chr&gt;</th><th scope=col>&lt;int&gt;</th></tr>\n",
       "</thead>\n",
       "<tbody>\n",
       "\t<tr><td>April    </td><td>2169</td></tr>\n",
       "\t<tr><td>August   </td><td>3153</td></tr>\n",
       "\t<tr><td>December </td><td>1716</td></tr>\n",
       "\t<tr><td>February </td><td>2053</td></tr>\n",
       "\t<tr><td>January  </td><td>1687</td></tr>\n",
       "\t<tr><td>July     </td><td>3013</td></tr>\n",
       "\t<tr><td>June     </td><td>1926</td></tr>\n",
       "\t<tr><td>March    </td><td>2191</td></tr>\n",
       "\t<tr><td>May      </td><td>2246</td></tr>\n",
       "\t<tr><td>November </td><td>1744</td></tr>\n",
       "\t<tr><td>October  </td><td>2209</td></tr>\n",
       "\t<tr><td>September</td><td>1875</td></tr>\n",
       "</tbody>\n",
       "</table>\n"
      ],
      "text/latex": [
       "A tibble: 12 × 2\n",
       "\\begin{tabular}{ll}\n",
       " arrival\\_date\\_month & resorts\\_guests\\\\\n",
       " <chr> & <int>\\\\\n",
       "\\hline\n",
       "\t April     & 2169\\\\\n",
       "\t August    & 3153\\\\\n",
       "\t December  & 1716\\\\\n",
       "\t February  & 2053\\\\\n",
       "\t January   & 1687\\\\\n",
       "\t July      & 3013\\\\\n",
       "\t June      & 1926\\\\\n",
       "\t March     & 2191\\\\\n",
       "\t May       & 2246\\\\\n",
       "\t November  & 1744\\\\\n",
       "\t October   & 2209\\\\\n",
       "\t September & 1875\\\\\n",
       "\\end{tabular}\n"
      ],
      "text/markdown": [
       "\n",
       "A tibble: 12 × 2\n",
       "\n",
       "| arrival_date_month &lt;chr&gt; | resorts_guests &lt;int&gt; |\n",
       "|---|---|\n",
       "| April     | 2169 |\n",
       "| August    | 3153 |\n",
       "| December  | 1716 |\n",
       "| February  | 2053 |\n",
       "| January   | 1687 |\n",
       "| July      | 3013 |\n",
       "| June      | 1926 |\n",
       "| March     | 2191 |\n",
       "| May       | 2246 |\n",
       "| November  | 1744 |\n",
       "| October   | 2209 |\n",
       "| September | 1875 |\n",
       "\n"
      ],
      "text/plain": [
       "   arrival_date_month resorts_guests\n",
       "1  April              2169          \n",
       "2  August             3153          \n",
       "3  December           1716          \n",
       "4  February           2053          \n",
       "5  January            1687          \n",
       "6  July               3013          \n",
       "7  June               1926          \n",
       "8  March              2191          \n",
       "9  May                2246          \n",
       "10 November           1744          \n",
       "11 October            2209          \n",
       "12 September          1875          "
      ]
     },
     "metadata": {},
     "output_type": "display_data"
    }
   ],
   "source": [
    "rush_resort"
   ]
  },
  {
   "cell_type": "code",
   "execution_count": 88,
   "id": "e016ec4d",
   "metadata": {},
   "outputs": [
    {
     "data": {
      "text/html": [
       "<style>\n",
       ".list-inline {list-style: none; margin:0; padding: 0}\n",
       ".list-inline>li {display: inline-block}\n",
       ".list-inline>li:not(:last-child)::after {content: \"\\00b7\"; padding: 0 .5ex}\n",
       "</style>\n",
       "<ol class=list-inline><li>'arrival_date_month'</li><li>'resorts_guests'</li></ol>\n"
      ],
      "text/latex": [
       "\\begin{enumerate*}\n",
       "\\item 'arrival\\_date\\_month'\n",
       "\\item 'resorts\\_guests'\n",
       "\\end{enumerate*}\n"
      ],
      "text/markdown": [
       "1. 'arrival_date_month'\n",
       "2. 'resorts_guests'\n",
       "\n",
       "\n"
      ],
      "text/plain": [
       "[1] \"arrival_date_month\" \"resorts_guests\"    "
      ]
     },
     "metadata": {},
     "output_type": "display_data"
    }
   ],
   "source": [
    "names(rush_resort)"
   ]
  },
  {
   "cell_type": "code",
   "execution_count": 89,
   "id": "3bc5d8ac",
   "metadata": {},
   "outputs": [
    {
     "data": {
      "text/html": [
       "<style>\n",
       ".list-inline {list-style: none; margin:0; padding: 0}\n",
       ".list-inline>li {display: inline-block}\n",
       ".list-inline>li:not(:last-child)::after {content: \"\\00b7\"; padding: 0 .5ex}\n",
       "</style>\n",
       "<ol class=list-inline><li>'arrival_date_month'</li><li>'city_guests'</li></ol>\n"
      ],
      "text/latex": [
       "\\begin{enumerate*}\n",
       "\\item 'arrival\\_date\\_month'\n",
       "\\item 'city\\_guests'\n",
       "\\end{enumerate*}\n"
      ],
      "text/markdown": [
       "1. 'arrival_date_month'\n",
       "2. 'city_guests'\n",
       "\n",
       "\n"
      ],
      "text/plain": [
       "[1] \"arrival_date_month\" \"city_guests\"       "
      ]
     },
     "metadata": {},
     "output_type": "display_data"
    }
   ],
   "source": [
    "names(rush_city)"
   ]
  },
  {
   "cell_type": "code",
   "execution_count": null,
   "id": "59fe4563",
   "metadata": {},
   "outputs": [],
   "source": []
  },
  {
   "cell_type": "code",
   "execution_count": 48,
   "id": "15bb78ca",
   "metadata": {},
   "outputs": [],
   "source": [
    "help(merge)\n",
    "\n",
    "## Merge Two Data Frames"
   ]
  },
  {
   "cell_type": "code",
   "execution_count": null,
   "id": "5bf70e5c",
   "metadata": {},
   "outputs": [],
   "source": [
    "\"\n",
    "\n",
    "\n",
    "## S3 method for class 'data.frame'\n",
    "merge(x, y, by = intersect(names(x), names(y)),\n",
    "      by.x = by, by.y = by, all = FALSE, all.x = all, all.y = all,\n",
    "      sort = TRUE, suffixes = c(\".x\",\".y\"), no.dups = TRUE,\n",
    "      incomparables = NULL, ...)\n",
    "\n",
    "\n",
    "\n",
    "x, y : data frames that u want to merge..\n",
    "\n",
    "by, by.x, by.y : columns used for merging..\n",
    "\n",
    "\n",
    "\""
   ]
  },
  {
   "cell_type": "code",
   "execution_count": 15,
   "id": "6ef61a1c",
   "metadata": {},
   "outputs": [
    {
     "data": {
      "text/html": [
       "<pre class=language-r><code>function (x, y, ...) \n",
       "NULL</code></pre>"
      ],
      "text/latex": [
       "\\begin{minted}{r}\n",
       "function (x, y, ...) \n",
       "NULL\n",
       "\\end{minted}"
      ],
      "text/markdown": [
       "```r\n",
       "function (x, y, ...) \n",
       "NULL\n",
       "```"
      ],
      "text/plain": [
       "function (x, y, ...) \n",
       "NULL"
      ]
     },
     "metadata": {},
     "output_type": "display_data"
    }
   ],
   "source": [
    "args(merge)"
   ]
  },
  {
   "cell_type": "code",
   "execution_count": 90,
   "id": "6a086496",
   "metadata": {},
   "outputs": [],
   "source": [
    "final_rush = merge(rush_resort , rush_city , by='arrival_date_month')"
   ]
  },
  {
   "cell_type": "code",
   "execution_count": 91,
   "id": "d0cc27e6",
   "metadata": {},
   "outputs": [
    {
     "data": {
      "text/html": [
       "<table class=\"dataframe\">\n",
       "<caption>A data.frame: 12 × 3</caption>\n",
       "<thead>\n",
       "\t<tr><th scope=col>arrival_date_month</th><th scope=col>resorts_guests</th><th scope=col>city_guests</th></tr>\n",
       "\t<tr><th scope=col>&lt;chr&gt;</th><th scope=col>&lt;int&gt;</th><th scope=col>&lt;int&gt;</th></tr>\n",
       "</thead>\n",
       "<tbody>\n",
       "\t<tr><td>April    </td><td>2169</td><td>3325</td></tr>\n",
       "\t<tr><td>August   </td><td>3153</td><td>4467</td></tr>\n",
       "\t<tr><td>December </td><td>1716</td><td>2019</td></tr>\n",
       "\t<tr><td>February </td><td>2053</td><td>2618</td></tr>\n",
       "\t<tr><td>January  </td><td>1687</td><td>1961</td></tr>\n",
       "\t<tr><td>July     </td><td>3013</td><td>3834</td></tr>\n",
       "\t<tr><td>June     </td><td>1926</td><td>3477</td></tr>\n",
       "\t<tr><td>March    </td><td>2191</td><td>3469</td></tr>\n",
       "\t<tr><td>May      </td><td>2246</td><td>3656</td></tr>\n",
       "\t<tr><td>November </td><td>1744</td><td>2177</td></tr>\n",
       "\t<tr><td>October  </td><td>2209</td><td>3070</td></tr>\n",
       "\t<tr><td>September</td><td>1875</td><td>3166</td></tr>\n",
       "</tbody>\n",
       "</table>\n"
      ],
      "text/latex": [
       "A data.frame: 12 × 3\n",
       "\\begin{tabular}{lll}\n",
       " arrival\\_date\\_month & resorts\\_guests & city\\_guests\\\\\n",
       " <chr> & <int> & <int>\\\\\n",
       "\\hline\n",
       "\t April     & 2169 & 3325\\\\\n",
       "\t August    & 3153 & 4467\\\\\n",
       "\t December  & 1716 & 2019\\\\\n",
       "\t February  & 2053 & 2618\\\\\n",
       "\t January   & 1687 & 1961\\\\\n",
       "\t July      & 3013 & 3834\\\\\n",
       "\t June      & 1926 & 3477\\\\\n",
       "\t March     & 2191 & 3469\\\\\n",
       "\t May       & 2246 & 3656\\\\\n",
       "\t November  & 1744 & 2177\\\\\n",
       "\t October   & 2209 & 3070\\\\\n",
       "\t September & 1875 & 3166\\\\\n",
       "\\end{tabular}\n"
      ],
      "text/markdown": [
       "\n",
       "A data.frame: 12 × 3\n",
       "\n",
       "| arrival_date_month &lt;chr&gt; | resorts_guests &lt;int&gt; | city_guests &lt;int&gt; |\n",
       "|---|---|---|\n",
       "| April     | 2169 | 3325 |\n",
       "| August    | 3153 | 4467 |\n",
       "| December  | 1716 | 2019 |\n",
       "| February  | 2053 | 2618 |\n",
       "| January   | 1687 | 1961 |\n",
       "| July      | 3013 | 3834 |\n",
       "| June      | 1926 | 3477 |\n",
       "| March     | 2191 | 3469 |\n",
       "| May       | 2246 | 3656 |\n",
       "| November  | 1744 | 2177 |\n",
       "| October   | 2209 | 3070 |\n",
       "| September | 1875 | 3166 |\n",
       "\n"
      ],
      "text/plain": [
       "   arrival_date_month resorts_guests city_guests\n",
       "1  April              2169           3325       \n",
       "2  August             3153           4467       \n",
       "3  December           1716           2019       \n",
       "4  February           2053           2618       \n",
       "5  January            1687           1961       \n",
       "6  July               3013           3834       \n",
       "7  June               1926           3477       \n",
       "8  March              2191           3469       \n",
       "9  May                2246           3656       \n",
       "10 November           1744           2177       \n",
       "11 October            2209           3070       \n",
       "12 September          1875           3166       "
      ]
     },
     "metadata": {},
     "output_type": "display_data"
    }
   ],
   "source": [
    "final_rush"
   ]
  },
  {
   "cell_type": "code",
   "execution_count": null,
   "id": "bc05ae11",
   "metadata": {},
   "outputs": [],
   "source": []
  },
  {
   "cell_type": "code",
   "execution_count": null,
   "id": "c4e460d1",
   "metadata": {},
   "outputs": [],
   "source": [
    "### you can sort months using the arrange() from the dplyr package \n",
    "### but arrange() is not designed to assign right hierarchy to days !"
   ]
  },
  {
   "cell_type": "code",
   "execution_count": null,
   "id": "8780b58f",
   "metadata": {},
   "outputs": [],
   "source": [
    "## even u use dplyr :: arrange() to sort \n",
    "## but even after sorting , plotly has some isses that it is not returning sorted months on x-axis !\n",
    "\n",
    "## so we will convert feature into factor to get sorted months order while plotting !"
   ]
  },
  {
   "cell_type": "code",
   "execution_count": null,
   "id": "6750bbf2",
   "metadata": {},
   "outputs": [],
   "source": [
    "\"\n",
    "\n",
    "fct(factor) : R has a special data structure to store categorical variables.. \n",
    "              It tells R that a variable is nominal or ordinal by making it a factor.\n",
    "\n",
    "\n",
    "\"\n",
    "\n",
    "### If you want to maintain the order of days on the x-axis , \n",
    "### you should convert the 'month' variable to a factor with the correct order"
   ]
  },
  {
   "cell_type": "code",
   "execution_count": null,
   "id": "e5df217a",
   "metadata": {},
   "outputs": [],
   "source": []
  },
  {
   "cell_type": "code",
   "execution_count": null,
   "id": "d975006d",
   "metadata": {},
   "outputs": [],
   "source": [
    "## using factor() + levels parameter , x-axis labels will be in sorted order !\n",
    "\n",
    "## using dplyr :: arrange() , x-axis labels will not be in sorted order !\n",
    "## using dplyr :: arrange() + factor() + without levels, x-axis labels will not be in sorted order !"
   ]
  },
  {
   "cell_type": "code",
   "execution_count": null,
   "id": "f824c7a0",
   "metadata": {},
   "outputs": [],
   "source": []
  },
  {
   "cell_type": "code",
   "execution_count": 92,
   "id": "d211ac24",
   "metadata": {},
   "outputs": [],
   "source": [
    "final_rush$arrival_date_month = factor(final_rush$arrival_date_month, levels = month.name)"
   ]
  },
  {
   "cell_type": "code",
   "execution_count": 93,
   "id": "f018e3c9",
   "metadata": {},
   "outputs": [
    {
     "data": {
      "text/html": [
       "<table class=\"dataframe\">\n",
       "<caption>A data.frame: 12 × 3</caption>\n",
       "<thead>\n",
       "\t<tr><th scope=col>arrival_date_month</th><th scope=col>resorts_guests</th><th scope=col>city_guests</th></tr>\n",
       "\t<tr><th scope=col>&lt;fct&gt;</th><th scope=col>&lt;int&gt;</th><th scope=col>&lt;int&gt;</th></tr>\n",
       "</thead>\n",
       "<tbody>\n",
       "\t<tr><td>April    </td><td>2169</td><td>3325</td></tr>\n",
       "\t<tr><td>August   </td><td>3153</td><td>4467</td></tr>\n",
       "\t<tr><td>December </td><td>1716</td><td>2019</td></tr>\n",
       "\t<tr><td>February </td><td>2053</td><td>2618</td></tr>\n",
       "\t<tr><td>January  </td><td>1687</td><td>1961</td></tr>\n",
       "\t<tr><td>July     </td><td>3013</td><td>3834</td></tr>\n",
       "\t<tr><td>June     </td><td>1926</td><td>3477</td></tr>\n",
       "\t<tr><td>March    </td><td>2191</td><td>3469</td></tr>\n",
       "\t<tr><td>May      </td><td>2246</td><td>3656</td></tr>\n",
       "\t<tr><td>November </td><td>1744</td><td>2177</td></tr>\n",
       "\t<tr><td>October  </td><td>2209</td><td>3070</td></tr>\n",
       "\t<tr><td>September</td><td>1875</td><td>3166</td></tr>\n",
       "</tbody>\n",
       "</table>\n"
      ],
      "text/latex": [
       "A data.frame: 12 × 3\n",
       "\\begin{tabular}{lll}\n",
       " arrival\\_date\\_month & resorts\\_guests & city\\_guests\\\\\n",
       " <fct> & <int> & <int>\\\\\n",
       "\\hline\n",
       "\t April     & 2169 & 3325\\\\\n",
       "\t August    & 3153 & 4467\\\\\n",
       "\t December  & 1716 & 2019\\\\\n",
       "\t February  & 2053 & 2618\\\\\n",
       "\t January   & 1687 & 1961\\\\\n",
       "\t July      & 3013 & 3834\\\\\n",
       "\t June      & 1926 & 3477\\\\\n",
       "\t March     & 2191 & 3469\\\\\n",
       "\t May       & 2246 & 3656\\\\\n",
       "\t November  & 1744 & 2177\\\\\n",
       "\t October   & 2209 & 3070\\\\\n",
       "\t September & 1875 & 3166\\\\\n",
       "\\end{tabular}\n"
      ],
      "text/markdown": [
       "\n",
       "A data.frame: 12 × 3\n",
       "\n",
       "| arrival_date_month &lt;fct&gt; | resorts_guests &lt;int&gt; | city_guests &lt;int&gt; |\n",
       "|---|---|---|\n",
       "| April     | 2169 | 3325 |\n",
       "| August    | 3153 | 4467 |\n",
       "| December  | 1716 | 2019 |\n",
       "| February  | 2053 | 2618 |\n",
       "| January   | 1687 | 1961 |\n",
       "| July      | 3013 | 3834 |\n",
       "| June      | 1926 | 3477 |\n",
       "| March     | 2191 | 3469 |\n",
       "| May       | 2246 | 3656 |\n",
       "| November  | 1744 | 2177 |\n",
       "| October   | 2209 | 3070 |\n",
       "| September | 1875 | 3166 |\n",
       "\n"
      ],
      "text/plain": [
       "   arrival_date_month resorts_guests city_guests\n",
       "1  April              2169           3325       \n",
       "2  August             3153           4467       \n",
       "3  December           1716           2019       \n",
       "4  February           2053           2618       \n",
       "5  January            1687           1961       \n",
       "6  July               3013           3834       \n",
       "7  June               1926           3477       \n",
       "8  March              2191           3469       \n",
       "9  May                2246           3656       \n",
       "10 November           1744           2177       \n",
       "11 October            2209           3070       \n",
       "12 September          1875           3166       "
      ]
     },
     "metadata": {},
     "output_type": "display_data"
    }
   ],
   "source": [
    "final_rush"
   ]
  },
  {
   "cell_type": "code",
   "execution_count": null,
   "id": "396d33e6",
   "metadata": {},
   "outputs": [],
   "source": [
    "\"\n",
    "\n",
    "levels = month.name: \n",
    "Here, month.name is a predefined constant in R that returns the names of the months in order in English in a character vector \n",
    "\n",
    "The levels argument is used to specify the order of the levels (categories) for the factor. \n",
    "By setting it to month.name, you are ensuring that the factor levels (months) are ordered as they appear in month.name.\n",
    "\n",
    "\n",
    "In R, a factor is a categorical variable that can take on a limited, fixed set of values, known as \"levels.\" \n",
    "The levels of a factor define the possible values that the factor can have, and they also determine the order of those values.\n",
    "\n",
    "\""
   ]
  },
  {
   "cell_type": "code",
   "execution_count": null,
   "id": "ebb22312",
   "metadata": {},
   "outputs": [],
   "source": []
  },
  {
   "cell_type": "code",
   "execution_count": null,
   "id": "3f835ef5",
   "metadata": {},
   "outputs": [],
   "source": []
  },
  {
   "cell_type": "code",
   "execution_count": null,
   "id": "e6fb38b9",
   "metadata": {},
   "outputs": [],
   "source": [
    "## we have created plotly lineplot in 7th session of Bitcoin case-study , but not a plotly multi-lineplot !"
   ]
  },
  {
   "cell_type": "code",
   "execution_count": null,
   "id": "b67e9e64",
   "metadata": {},
   "outputs": [],
   "source": [
    "help(add_lines)"
   ]
  },
  {
   "cell_type": "code",
   "execution_count": null,
   "id": "af6274e7",
   "metadata": {},
   "outputs": [],
   "source": [
    "\"\n",
    "\n",
    "p : a plotly object\n",
    "\n",
    "\n",
    "data : A data frame \n",
    "\n",
    "x : the x variable.\n",
    "\n",
    "y : the y variable\n",
    "\n",
    "\n",
    "\""
   ]
  },
  {
   "cell_type": "code",
   "execution_count": 49,
   "id": "77457133",
   "metadata": {},
   "outputs": [
    {
     "data": {
      "text/html": [
       "<pre class=language-r><code>function (p, x = NULL, y = NULL, z = NULL, ..., data = NULL, \n",
       "<span style=white-space:pre-wrap>    inherit = TRUE) </span>\n",
       "NULL</code></pre>"
      ],
      "text/latex": [
       "\\begin{minted}{r}\n",
       "function (p, x = NULL, y = NULL, z = NULL, ..., data = NULL, \n",
       "    inherit = TRUE) \n",
       "NULL\n",
       "\\end{minted}"
      ],
      "text/markdown": [
       "```r\n",
       "function (p, x = NULL, y = NULL, z = NULL, ..., data = NULL, \n",
       "    inherit = TRUE) \n",
       "NULL\n",
       "```"
      ],
      "text/plain": [
       "function (p, x = NULL, y = NULL, z = NULL, ..., data = NULL, \n",
       "    inherit = TRUE) \n",
       "NULL"
      ]
     },
     "metadata": {},
     "output_type": "display_data"
    }
   ],
   "source": [
    "args(add_lines)"
   ]
  },
  {
   "cell_type": "code",
   "execution_count": 94,
   "id": "8b153cea",
   "metadata": {},
   "outputs": [],
   "source": [
    "library(plotly)"
   ]
  },
  {
   "cell_type": "code",
   "execution_count": null,
   "id": "ea096f06",
   "metadata": {},
   "outputs": [],
   "source": [
    "### add_lines(plot_ly(data = final_rush) , x = ~arrival_date_month, y = ~resorts_guests, name = \"Resort\")"
   ]
  },
  {
   "cell_type": "code",
   "execution_count": null,
   "id": "e80b19b3",
   "metadata": {},
   "outputs": [],
   "source": [
    "### lets use chaining just to make code more readable !"
   ]
  },
  {
   "cell_type": "code",
   "execution_count": 95,
   "id": "999dad23",
   "metadata": {},
   "outputs": [],
   "source": [
    "plt = plot_ly(data = final_rush) %>%\n",
    "  add_lines(x = ~arrival_date_month, y = ~resorts_guests, name = \"Resort\") %>%\n",
    "  add_lines(x = ~arrival_date_month, y = ~city_guests, name = \"City\") "
   ]
  },
  {
   "cell_type": "code",
   "execution_count": 89,
   "id": "59e1e445",
   "metadata": {},
   "outputs": [],
   "source": [
    "## plt"
   ]
  },
  {
   "cell_type": "code",
   "execution_count": null,
   "id": "72d75489",
   "metadata": {},
   "outputs": [],
   "source": [
    "\"\n",
    "\n",
    "plot_ly(data = final_rush) %>%\n",
    "  add_lines(x = ~arrival_date_month, y = ~resorts_guests, name = \"Resort\") %>%\n",
    "  add_lines(x = ~arrival_date_month, y = ~city_guests, name = \"City\") %>%\n",
    "  layout(xaxis = list(categoryorder = \"array\", categoryarray = month.name))\n",
    "\n",
    "\n",
    "\""
   ]
  },
  {
   "cell_type": "code",
   "execution_count": null,
   "id": "de55e206",
   "metadata": {},
   "outputs": [],
   "source": []
  },
  {
   "cell_type": "code",
   "execution_count": null,
   "id": "de340c70",
   "metadata": {},
   "outputs": [],
   "source": []
  },
  {
   "cell_type": "code",
   "execution_count": null,
   "id": "38b8d98d",
   "metadata": {},
   "outputs": [],
   "source": []
  },
  {
   "cell_type": "code",
   "execution_count": null,
   "id": "779aad83",
   "metadata": {},
   "outputs": [],
   "source": []
  },
  {
   "cell_type": "code",
   "execution_count": null,
   "id": "b6caa239",
   "metadata": {},
   "outputs": [],
   "source": []
  },
  {
   "cell_type": "markdown",
   "id": "04e32788",
   "metadata": {},
   "source": [
    "## 10.. Lets create some more features for analysis\n",
    "        Imagine we have to Analyse whether bookings were made only for weekdays or for weekends or for both ??\n",
    "        But there is no such feature that will directly tell us this , it means first & foremost we have to create this !"
   ]
  },
  {
   "cell_type": "code",
   "execution_count": null,
   "id": "994806e7",
   "metadata": {},
   "outputs": [],
   "source": [
    "#### lets create new features !"
   ]
  },
  {
   "cell_type": "code",
   "execution_count": null,
   "id": "ac851568",
   "metadata": {},
   "outputs": [],
   "source": [
    "'''\n",
    "\n",
    "Another important features which are related to time are stays_in_week_nights and stays_in_weekend_night features..\n",
    "The below table shows the relationship between these two features. According to that, there is some missing data..\n",
    "591 values are inputted zero both weekend and weeknights. However, this missing data is small enough to neglect..\n",
    "\n",
    "'''"
   ]
  },
  {
   "cell_type": "code",
   "execution_count": null,
   "id": "dbf5e335",
   "metadata": {},
   "outputs": [],
   "source": [
    "'''\n",
    "stays_in_weekend_nights =>> Number of weekend nights (Saturday or Sunday) the guest stayed or booked to stay at the hotel\n",
    "stays_in_week_nights =>> Number of week nights (Monday to Friday) the guest stayed or booked to stay at the hotel\n",
    "\n",
    "'''"
   ]
  },
  {
   "cell_type": "code",
   "execution_count": null,
   "id": "1f8ac14f",
   "metadata": {},
   "outputs": [],
   "source": []
  },
  {
   "cell_type": "code",
   "execution_count": 51,
   "id": "bac5439a",
   "metadata": {},
   "outputs": [],
   "source": [
    "library(reshape2)"
   ]
  },
  {
   "cell_type": "code",
   "execution_count": null,
   "id": "5bee2447",
   "metadata": {},
   "outputs": [],
   "source": [
    "## we have used dcast() multiple times[Uber 8th session] in \n",
    "## & table() multiple times to create pivot table.."
   ]
  },
  {
   "cell_type": "code",
   "execution_count": null,
   "id": "3285c686",
   "metadata": {},
   "outputs": [],
   "source": [
    "help(dcast)"
   ]
  },
  {
   "cell_type": "code",
   "execution_count": null,
   "id": "444b7810",
   "metadata": {},
   "outputs": [],
   "source": [
    "\"\n",
    "\n",
    "data : dataframe \n",
    "\n",
    "\n",
    "formula : A formula of the form LHS ~ RHS to cast\n",
    "            LHS means variable that u need on indexes\n",
    "            RHS means variable that u need on column..\n",
    "\n",
    "\n",
    "fun.aggregate : Should the data be aggregated before casting? \n",
    "                Default aggregation is length , ie it counts total_rows for every pair..\n",
    "\n",
    "\n",
    "value.var : Name of the column whose values will be filled to cast\n",
    "\n",
    "\""
   ]
  },
  {
   "cell_type": "code",
   "execution_count": 52,
   "id": "5adddc81",
   "metadata": {},
   "outputs": [
    {
     "data": {
      "text/html": [
       "<pre class=language-r><code>function (data, formula, fun.aggregate = NULL, ..., margins = NULL, \n",
       "<span style=white-space:pre-wrap>    subset = NULL, fill = NULL, drop = TRUE, value.var = guess_value(data)) </span>\n",
       "NULL</code></pre>"
      ],
      "text/latex": [
       "\\begin{minted}{r}\n",
       "function (data, formula, fun.aggregate = NULL, ..., margins = NULL, \n",
       "    subset = NULL, fill = NULL, drop = TRUE, value.var = guess\\_value(data)) \n",
       "NULL\n",
       "\\end{minted}"
      ],
      "text/markdown": [
       "```r\n",
       "function (data, formula, fun.aggregate = NULL, ..., margins = NULL, \n",
       "    subset = NULL, fill = NULL, drop = TRUE, value.var = guess_value(data)) \n",
       "NULL\n",
       "```"
      ],
      "text/plain": [
       "function (data, formula, fun.aggregate = NULL, ..., margins = NULL, \n",
       "    subset = NULL, fill = NULL, drop = TRUE, value.var = guess_value(data)) \n",
       "NULL"
      ]
     },
     "metadata": {},
     "output_type": "display_data"
    }
   ],
   "source": [
    "args(dcast)"
   ]
  },
  {
   "cell_type": "code",
   "execution_count": 96,
   "id": "d7a53f4d",
   "metadata": {},
   "outputs": [
    {
     "name": "stderr",
     "output_type": "stream",
     "text": [
      "Using Total_Guests as value column: use value.var to override.\n",
      "\n",
      "Aggregation function missing: defaulting to length\n",
      "\n"
     ]
    },
    {
     "data": {
      "text/html": [
       "<table class=\"dataframe\">\n",
       "<caption>A data.frame: 33 × 18</caption>\n",
       "<thead>\n",
       "\t<tr><th scope=col>stays_in_week_nights</th><th scope=col>0</th><th scope=col>1</th><th scope=col>2</th><th scope=col>3</th><th scope=col>4</th><th scope=col>5</th><th scope=col>6</th><th scope=col>7</th><th scope=col>8</th><th scope=col>9</th><th scope=col>10</th><th scope=col>12</th><th scope=col>13</th><th scope=col>14</th><th scope=col>16</th><th scope=col>18</th><th scope=col>19</th></tr>\n",
       "\t<tr><th scope=col>&lt;int&gt;</th><th scope=col>&lt;int&gt;</th><th scope=col>&lt;int&gt;</th><th scope=col>&lt;int&gt;</th><th scope=col>&lt;int&gt;</th><th scope=col>&lt;int&gt;</th><th scope=col>&lt;int&gt;</th><th scope=col>&lt;int&gt;</th><th scope=col>&lt;int&gt;</th><th scope=col>&lt;int&gt;</th><th scope=col>&lt;int&gt;</th><th scope=col>&lt;int&gt;</th><th scope=col>&lt;int&gt;</th><th scope=col>&lt;int&gt;</th><th scope=col>&lt;int&gt;</th><th scope=col>&lt;int&gt;</th><th scope=col>&lt;int&gt;</th><th scope=col>&lt;int&gt;</th></tr>\n",
       "</thead>\n",
       "<tbody>\n",
       "\t<tr><td> 0</td><td>  591</td><td>3963</td><td>1558</td><td>  0</td><td>  0</td><td> 0</td><td> 0</td><td>0</td><td> 0</td><td>0</td><td>0</td><td>0</td><td>0</td><td>0</td><td>0</td><td>0</td><td>0</td></tr>\n",
       "\t<tr><td> 1</td><td>13206</td><td>4579</td><td>4388</td><td>  0</td><td>  0</td><td> 0</td><td> 0</td><td>0</td><td> 0</td><td>0</td><td>0</td><td>0</td><td>0</td><td>0</td><td>0</td><td>0</td><td>0</td></tr>\n",
       "\t<tr><td> 2</td><td> 9597</td><td>5990</td><td>5143</td><td>  0</td><td>  0</td><td> 0</td><td> 0</td><td>0</td><td> 0</td><td>0</td><td>0</td><td>0</td><td>0</td><td>0</td><td>0</td><td>0</td><td>0</td></tr>\n",
       "\t<tr><td> 3</td><td> 7449</td><td>4931</td><td>3862</td><td>  0</td><td>  0</td><td> 0</td><td> 0</td><td>0</td><td> 0</td><td>0</td><td>0</td><td>0</td><td>0</td><td>0</td><td>0</td><td>0</td><td>0</td></tr>\n",
       "\t<tr><td> 4</td><td> 3491</td><td>2143</td><td>2223</td><td>  0</td><td>  0</td><td> 0</td><td> 0</td><td>0</td><td> 0</td><td>0</td><td>0</td><td>0</td><td>0</td><td>0</td><td>0</td><td>0</td><td>0</td></tr>\n",
       "\t<tr><td> 5</td><td>  724</td><td>1040</td><td>7520</td><td>282</td><td> 88</td><td> 0</td><td> 0</td><td>0</td><td> 0</td><td>0</td><td>0</td><td>0</td><td>0</td><td>0</td><td>0</td><td>0</td><td>0</td></tr>\n",
       "\t<tr><td> 6</td><td>    0</td><td>   0</td><td> 780</td><td>265</td><td>330</td><td> 0</td><td> 0</td><td>0</td><td> 0</td><td>0</td><td>0</td><td>0</td><td>0</td><td>0</td><td>0</td><td>0</td><td>0</td></tr>\n",
       "\t<tr><td> 7</td><td>    0</td><td>   0</td><td> 426</td><td>370</td><td>166</td><td> 0</td><td> 0</td><td>0</td><td> 0</td><td>0</td><td>0</td><td>0</td><td>0</td><td>0</td><td>0</td><td>0</td><td>0</td></tr>\n",
       "\t<tr><td> 8</td><td>    0</td><td>   0</td><td> 372</td><td>123</td><td>116</td><td> 0</td><td> 0</td><td>0</td><td> 0</td><td>0</td><td>0</td><td>0</td><td>0</td><td>0</td><td>0</td><td>0</td><td>0</td></tr>\n",
       "\t<tr><td> 9</td><td>    0</td><td>   0</td><td>  78</td><td> 54</td><td> 84</td><td> 0</td><td> 0</td><td>0</td><td> 0</td><td>0</td><td>0</td><td>0</td><td>0</td><td>0</td><td>0</td><td>0</td><td>0</td></tr>\n",
       "\t<tr><td>10</td><td>    0</td><td>   0</td><td>  26</td><td> 49</td><td>859</td><td>31</td><td> 1</td><td>0</td><td> 0</td><td>0</td><td>0</td><td>0</td><td>0</td><td>0</td><td>0</td><td>0</td><td>0</td></tr>\n",
       "\t<tr><td>11</td><td>    0</td><td>   0</td><td>   0</td><td>  0</td><td> 38</td><td> 9</td><td> 2</td><td>0</td><td> 0</td><td>0</td><td>0</td><td>0</td><td>0</td><td>0</td><td>0</td><td>0</td><td>0</td></tr>\n",
       "\t<tr><td>12</td><td>    0</td><td>   0</td><td>   0</td><td>  0</td><td> 23</td><td> 7</td><td>10</td><td>0</td><td> 0</td><td>0</td><td>0</td><td>0</td><td>0</td><td>0</td><td>0</td><td>0</td><td>0</td></tr>\n",
       "\t<tr><td>13</td><td>    0</td><td>   0</td><td>   0</td><td>  0</td><td> 11</td><td> 5</td><td>11</td><td>0</td><td> 0</td><td>0</td><td>0</td><td>0</td><td>0</td><td>0</td><td>0</td><td>0</td><td>0</td></tr>\n",
       "\t<tr><td>14</td><td>    0</td><td>   0</td><td>   0</td><td>  0</td><td>  9</td><td> 9</td><td> 7</td><td>0</td><td> 0</td><td>0</td><td>0</td><td>0</td><td>0</td><td>0</td><td>0</td><td>0</td><td>0</td></tr>\n",
       "\t<tr><td>15</td><td>    0</td><td>   0</td><td>   0</td><td>  0</td><td>  2</td><td> 7</td><td>55</td><td>4</td><td> 0</td><td>0</td><td>0</td><td>0</td><td>0</td><td>0</td><td>0</td><td>0</td><td>0</td></tr>\n",
       "\t<tr><td>16</td><td>    0</td><td>   0</td><td>   0</td><td>  0</td><td>  0</td><td> 0</td><td> 8</td><td>2</td><td> 2</td><td>0</td><td>0</td><td>0</td><td>0</td><td>0</td><td>0</td><td>0</td><td>0</td></tr>\n",
       "\t<tr><td>17</td><td>    0</td><td>   0</td><td>   0</td><td>  0</td><td>  0</td><td> 0</td><td> 3</td><td>1</td><td> 0</td><td>0</td><td>0</td><td>0</td><td>0</td><td>0</td><td>0</td><td>0</td><td>0</td></tr>\n",
       "\t<tr><td>18</td><td>    0</td><td>   0</td><td>   0</td><td>  0</td><td>  0</td><td> 0</td><td> 3</td><td>2</td><td> 1</td><td>0</td><td>0</td><td>0</td><td>0</td><td>0</td><td>0</td><td>0</td><td>0</td></tr>\n",
       "\t<tr><td>19</td><td>    0</td><td>   0</td><td>   0</td><td>  0</td><td>  0</td><td> 0</td><td>12</td><td>5</td><td> 3</td><td>0</td><td>0</td><td>0</td><td>0</td><td>0</td><td>0</td><td>0</td><td>0</td></tr>\n",
       "\t<tr><td>20</td><td>    0</td><td>   0</td><td>   0</td><td>  0</td><td>  0</td><td> 0</td><td> 0</td><td>1</td><td>34</td><td>2</td><td>2</td><td>0</td><td>0</td><td>0</td><td>0</td><td>0</td><td>0</td></tr>\n",
       "\t<tr><td>21</td><td>    0</td><td>   0</td><td>   0</td><td>  0</td><td>  0</td><td> 0</td><td> 0</td><td>0</td><td>11</td><td>4</td><td>0</td><td>0</td><td>0</td><td>0</td><td>0</td><td>0</td><td>0</td></tr>\n",
       "\t<tr><td>22</td><td>    0</td><td>   0</td><td>   0</td><td>  0</td><td>  0</td><td> 0</td><td> 0</td><td>0</td><td> 7</td><td>0</td><td>0</td><td>0</td><td>0</td><td>0</td><td>0</td><td>0</td><td>0</td></tr>\n",
       "\t<tr><td>24</td><td>    0</td><td>   0</td><td>   0</td><td>  0</td><td>  0</td><td> 0</td><td> 0</td><td>0</td><td> 0</td><td>2</td><td>0</td><td>0</td><td>0</td><td>0</td><td>0</td><td>0</td><td>0</td></tr>\n",
       "\t<tr><td>25</td><td>    0</td><td>   0</td><td>   0</td><td>  0</td><td>  0</td><td> 0</td><td> 0</td><td>0</td><td> 0</td><td>1</td><td>5</td><td>0</td><td>0</td><td>0</td><td>0</td><td>0</td><td>0</td></tr>\n",
       "\t<tr><td>26</td><td>    0</td><td>   0</td><td>   0</td><td>  0</td><td>  0</td><td> 0</td><td> 0</td><td>0</td><td> 0</td><td>0</td><td>0</td><td>1</td><td>0</td><td>0</td><td>0</td><td>0</td><td>0</td></tr>\n",
       "\t<tr><td>30</td><td>    0</td><td>   0</td><td>   0</td><td>  0</td><td>  0</td><td> 0</td><td> 0</td><td>0</td><td> 0</td><td>0</td><td>0</td><td>4</td><td>0</td><td>0</td><td>0</td><td>0</td><td>0</td></tr>\n",
       "\t<tr><td>32</td><td>    0</td><td>   0</td><td>   0</td><td>  0</td><td>  0</td><td> 0</td><td> 0</td><td>0</td><td> 0</td><td>0</td><td>0</td><td>0</td><td>1</td><td>0</td><td>0</td><td>0</td><td>0</td></tr>\n",
       "\t<tr><td>33</td><td>    0</td><td>   0</td><td>   0</td><td>  0</td><td>  0</td><td> 0</td><td> 0</td><td>0</td><td> 0</td><td>0</td><td>0</td><td>0</td><td>1</td><td>0</td><td>0</td><td>0</td><td>0</td></tr>\n",
       "\t<tr><td>34</td><td>    0</td><td>   0</td><td>   0</td><td>  0</td><td>  0</td><td> 0</td><td> 0</td><td>0</td><td> 0</td><td>0</td><td>0</td><td>0</td><td>0</td><td>1</td><td>0</td><td>0</td><td>0</td></tr>\n",
       "\t<tr><td>40</td><td>    0</td><td>   0</td><td>   0</td><td>  0</td><td>  0</td><td> 0</td><td> 0</td><td>0</td><td> 0</td><td>0</td><td>0</td><td>0</td><td>0</td><td>0</td><td>2</td><td>0</td><td>0</td></tr>\n",
       "\t<tr><td>42</td><td>    0</td><td>   0</td><td>   0</td><td>  0</td><td>  0</td><td> 0</td><td> 0</td><td>0</td><td> 0</td><td>0</td><td>0</td><td>0</td><td>0</td><td>0</td><td>0</td><td>1</td><td>0</td></tr>\n",
       "\t<tr><td>50</td><td>    0</td><td>   0</td><td>   0</td><td>  0</td><td>  0</td><td> 0</td><td> 0</td><td>0</td><td> 0</td><td>0</td><td>0</td><td>0</td><td>0</td><td>0</td><td>0</td><td>0</td><td>1</td></tr>\n",
       "</tbody>\n",
       "</table>\n"
      ],
      "text/latex": [
       "A data.frame: 33 × 18\n",
       "\\begin{tabular}{llllllllllllllllll}\n",
       " stays\\_in\\_week\\_nights & 0 & 1 & 2 & 3 & 4 & 5 & 6 & 7 & 8 & 9 & 10 & 12 & 13 & 14 & 16 & 18 & 19\\\\\n",
       " <int> & <int> & <int> & <int> & <int> & <int> & <int> & <int> & <int> & <int> & <int> & <int> & <int> & <int> & <int> & <int> & <int> & <int>\\\\\n",
       "\\hline\n",
       "\t  0 &   591 & 3963 & 1558 &   0 &   0 &  0 &  0 & 0 &  0 & 0 & 0 & 0 & 0 & 0 & 0 & 0 & 0\\\\\n",
       "\t  1 & 13206 & 4579 & 4388 &   0 &   0 &  0 &  0 & 0 &  0 & 0 & 0 & 0 & 0 & 0 & 0 & 0 & 0\\\\\n",
       "\t  2 &  9597 & 5990 & 5143 &   0 &   0 &  0 &  0 & 0 &  0 & 0 & 0 & 0 & 0 & 0 & 0 & 0 & 0\\\\\n",
       "\t  3 &  7449 & 4931 & 3862 &   0 &   0 &  0 &  0 & 0 &  0 & 0 & 0 & 0 & 0 & 0 & 0 & 0 & 0\\\\\n",
       "\t  4 &  3491 & 2143 & 2223 &   0 &   0 &  0 &  0 & 0 &  0 & 0 & 0 & 0 & 0 & 0 & 0 & 0 & 0\\\\\n",
       "\t  5 &   724 & 1040 & 7520 & 282 &  88 &  0 &  0 & 0 &  0 & 0 & 0 & 0 & 0 & 0 & 0 & 0 & 0\\\\\n",
       "\t  6 &     0 &    0 &  780 & 265 & 330 &  0 &  0 & 0 &  0 & 0 & 0 & 0 & 0 & 0 & 0 & 0 & 0\\\\\n",
       "\t  7 &     0 &    0 &  426 & 370 & 166 &  0 &  0 & 0 &  0 & 0 & 0 & 0 & 0 & 0 & 0 & 0 & 0\\\\\n",
       "\t  8 &     0 &    0 &  372 & 123 & 116 &  0 &  0 & 0 &  0 & 0 & 0 & 0 & 0 & 0 & 0 & 0 & 0\\\\\n",
       "\t  9 &     0 &    0 &   78 &  54 &  84 &  0 &  0 & 0 &  0 & 0 & 0 & 0 & 0 & 0 & 0 & 0 & 0\\\\\n",
       "\t 10 &     0 &    0 &   26 &  49 & 859 & 31 &  1 & 0 &  0 & 0 & 0 & 0 & 0 & 0 & 0 & 0 & 0\\\\\n",
       "\t 11 &     0 &    0 &    0 &   0 &  38 &  9 &  2 & 0 &  0 & 0 & 0 & 0 & 0 & 0 & 0 & 0 & 0\\\\\n",
       "\t 12 &     0 &    0 &    0 &   0 &  23 &  7 & 10 & 0 &  0 & 0 & 0 & 0 & 0 & 0 & 0 & 0 & 0\\\\\n",
       "\t 13 &     0 &    0 &    0 &   0 &  11 &  5 & 11 & 0 &  0 & 0 & 0 & 0 & 0 & 0 & 0 & 0 & 0\\\\\n",
       "\t 14 &     0 &    0 &    0 &   0 &   9 &  9 &  7 & 0 &  0 & 0 & 0 & 0 & 0 & 0 & 0 & 0 & 0\\\\\n",
       "\t 15 &     0 &    0 &    0 &   0 &   2 &  7 & 55 & 4 &  0 & 0 & 0 & 0 & 0 & 0 & 0 & 0 & 0\\\\\n",
       "\t 16 &     0 &    0 &    0 &   0 &   0 &  0 &  8 & 2 &  2 & 0 & 0 & 0 & 0 & 0 & 0 & 0 & 0\\\\\n",
       "\t 17 &     0 &    0 &    0 &   0 &   0 &  0 &  3 & 1 &  0 & 0 & 0 & 0 & 0 & 0 & 0 & 0 & 0\\\\\n",
       "\t 18 &     0 &    0 &    0 &   0 &   0 &  0 &  3 & 2 &  1 & 0 & 0 & 0 & 0 & 0 & 0 & 0 & 0\\\\\n",
       "\t 19 &     0 &    0 &    0 &   0 &   0 &  0 & 12 & 5 &  3 & 0 & 0 & 0 & 0 & 0 & 0 & 0 & 0\\\\\n",
       "\t 20 &     0 &    0 &    0 &   0 &   0 &  0 &  0 & 1 & 34 & 2 & 2 & 0 & 0 & 0 & 0 & 0 & 0\\\\\n",
       "\t 21 &     0 &    0 &    0 &   0 &   0 &  0 &  0 & 0 & 11 & 4 & 0 & 0 & 0 & 0 & 0 & 0 & 0\\\\\n",
       "\t 22 &     0 &    0 &    0 &   0 &   0 &  0 &  0 & 0 &  7 & 0 & 0 & 0 & 0 & 0 & 0 & 0 & 0\\\\\n",
       "\t 24 &     0 &    0 &    0 &   0 &   0 &  0 &  0 & 0 &  0 & 2 & 0 & 0 & 0 & 0 & 0 & 0 & 0\\\\\n",
       "\t 25 &     0 &    0 &    0 &   0 &   0 &  0 &  0 & 0 &  0 & 1 & 5 & 0 & 0 & 0 & 0 & 0 & 0\\\\\n",
       "\t 26 &     0 &    0 &    0 &   0 &   0 &  0 &  0 & 0 &  0 & 0 & 0 & 1 & 0 & 0 & 0 & 0 & 0\\\\\n",
       "\t 30 &     0 &    0 &    0 &   0 &   0 &  0 &  0 & 0 &  0 & 0 & 0 & 4 & 0 & 0 & 0 & 0 & 0\\\\\n",
       "\t 32 &     0 &    0 &    0 &   0 &   0 &  0 &  0 & 0 &  0 & 0 & 0 & 0 & 1 & 0 & 0 & 0 & 0\\\\\n",
       "\t 33 &     0 &    0 &    0 &   0 &   0 &  0 &  0 & 0 &  0 & 0 & 0 & 0 & 1 & 0 & 0 & 0 & 0\\\\\n",
       "\t 34 &     0 &    0 &    0 &   0 &   0 &  0 &  0 & 0 &  0 & 0 & 0 & 0 & 0 & 1 & 0 & 0 & 0\\\\\n",
       "\t 40 &     0 &    0 &    0 &   0 &   0 &  0 &  0 & 0 &  0 & 0 & 0 & 0 & 0 & 0 & 2 & 0 & 0\\\\\n",
       "\t 42 &     0 &    0 &    0 &   0 &   0 &  0 &  0 & 0 &  0 & 0 & 0 & 0 & 0 & 0 & 0 & 1 & 0\\\\\n",
       "\t 50 &     0 &    0 &    0 &   0 &   0 &  0 &  0 & 0 &  0 & 0 & 0 & 0 & 0 & 0 & 0 & 0 & 1\\\\\n",
       "\\end{tabular}\n"
      ],
      "text/markdown": [
       "\n",
       "A data.frame: 33 × 18\n",
       "\n",
       "| stays_in_week_nights &lt;int&gt; | 0 &lt;int&gt; | 1 &lt;int&gt; | 2 &lt;int&gt; | 3 &lt;int&gt; | 4 &lt;int&gt; | 5 &lt;int&gt; | 6 &lt;int&gt; | 7 &lt;int&gt; | 8 &lt;int&gt; | 9 &lt;int&gt; | 10 &lt;int&gt; | 12 &lt;int&gt; | 13 &lt;int&gt; | 14 &lt;int&gt; | 16 &lt;int&gt; | 18 &lt;int&gt; | 19 &lt;int&gt; |\n",
       "|---|---|---|---|---|---|---|---|---|---|---|---|---|---|---|---|---|---|\n",
       "|  0 |   591 | 3963 | 1558 |   0 |   0 |  0 |  0 | 0 |  0 | 0 | 0 | 0 | 0 | 0 | 0 | 0 | 0 |\n",
       "|  1 | 13206 | 4579 | 4388 |   0 |   0 |  0 |  0 | 0 |  0 | 0 | 0 | 0 | 0 | 0 | 0 | 0 | 0 |\n",
       "|  2 |  9597 | 5990 | 5143 |   0 |   0 |  0 |  0 | 0 |  0 | 0 | 0 | 0 | 0 | 0 | 0 | 0 | 0 |\n",
       "|  3 |  7449 | 4931 | 3862 |   0 |   0 |  0 |  0 | 0 |  0 | 0 | 0 | 0 | 0 | 0 | 0 | 0 | 0 |\n",
       "|  4 |  3491 | 2143 | 2223 |   0 |   0 |  0 |  0 | 0 |  0 | 0 | 0 | 0 | 0 | 0 | 0 | 0 | 0 |\n",
       "|  5 |   724 | 1040 | 7520 | 282 |  88 |  0 |  0 | 0 |  0 | 0 | 0 | 0 | 0 | 0 | 0 | 0 | 0 |\n",
       "|  6 |     0 |    0 |  780 | 265 | 330 |  0 |  0 | 0 |  0 | 0 | 0 | 0 | 0 | 0 | 0 | 0 | 0 |\n",
       "|  7 |     0 |    0 |  426 | 370 | 166 |  0 |  0 | 0 |  0 | 0 | 0 | 0 | 0 | 0 | 0 | 0 | 0 |\n",
       "|  8 |     0 |    0 |  372 | 123 | 116 |  0 |  0 | 0 |  0 | 0 | 0 | 0 | 0 | 0 | 0 | 0 | 0 |\n",
       "|  9 |     0 |    0 |   78 |  54 |  84 |  0 |  0 | 0 |  0 | 0 | 0 | 0 | 0 | 0 | 0 | 0 | 0 |\n",
       "| 10 |     0 |    0 |   26 |  49 | 859 | 31 |  1 | 0 |  0 | 0 | 0 | 0 | 0 | 0 | 0 | 0 | 0 |\n",
       "| 11 |     0 |    0 |    0 |   0 |  38 |  9 |  2 | 0 |  0 | 0 | 0 | 0 | 0 | 0 | 0 | 0 | 0 |\n",
       "| 12 |     0 |    0 |    0 |   0 |  23 |  7 | 10 | 0 |  0 | 0 | 0 | 0 | 0 | 0 | 0 | 0 | 0 |\n",
       "| 13 |     0 |    0 |    0 |   0 |  11 |  5 | 11 | 0 |  0 | 0 | 0 | 0 | 0 | 0 | 0 | 0 | 0 |\n",
       "| 14 |     0 |    0 |    0 |   0 |   9 |  9 |  7 | 0 |  0 | 0 | 0 | 0 | 0 | 0 | 0 | 0 | 0 |\n",
       "| 15 |     0 |    0 |    0 |   0 |   2 |  7 | 55 | 4 |  0 | 0 | 0 | 0 | 0 | 0 | 0 | 0 | 0 |\n",
       "| 16 |     0 |    0 |    0 |   0 |   0 |  0 |  8 | 2 |  2 | 0 | 0 | 0 | 0 | 0 | 0 | 0 | 0 |\n",
       "| 17 |     0 |    0 |    0 |   0 |   0 |  0 |  3 | 1 |  0 | 0 | 0 | 0 | 0 | 0 | 0 | 0 | 0 |\n",
       "| 18 |     0 |    0 |    0 |   0 |   0 |  0 |  3 | 2 |  1 | 0 | 0 | 0 | 0 | 0 | 0 | 0 | 0 |\n",
       "| 19 |     0 |    0 |    0 |   0 |   0 |  0 | 12 | 5 |  3 | 0 | 0 | 0 | 0 | 0 | 0 | 0 | 0 |\n",
       "| 20 |     0 |    0 |    0 |   0 |   0 |  0 |  0 | 1 | 34 | 2 | 2 | 0 | 0 | 0 | 0 | 0 | 0 |\n",
       "| 21 |     0 |    0 |    0 |   0 |   0 |  0 |  0 | 0 | 11 | 4 | 0 | 0 | 0 | 0 | 0 | 0 | 0 |\n",
       "| 22 |     0 |    0 |    0 |   0 |   0 |  0 |  0 | 0 |  7 | 0 | 0 | 0 | 0 | 0 | 0 | 0 | 0 |\n",
       "| 24 |     0 |    0 |    0 |   0 |   0 |  0 |  0 | 0 |  0 | 2 | 0 | 0 | 0 | 0 | 0 | 0 | 0 |\n",
       "| 25 |     0 |    0 |    0 |   0 |   0 |  0 |  0 | 0 |  0 | 1 | 5 | 0 | 0 | 0 | 0 | 0 | 0 |\n",
       "| 26 |     0 |    0 |    0 |   0 |   0 |  0 |  0 | 0 |  0 | 0 | 0 | 1 | 0 | 0 | 0 | 0 | 0 |\n",
       "| 30 |     0 |    0 |    0 |   0 |   0 |  0 |  0 | 0 |  0 | 0 | 0 | 4 | 0 | 0 | 0 | 0 | 0 |\n",
       "| 32 |     0 |    0 |    0 |   0 |   0 |  0 |  0 | 0 |  0 | 0 | 0 | 0 | 1 | 0 | 0 | 0 | 0 |\n",
       "| 33 |     0 |    0 |    0 |   0 |   0 |  0 |  0 | 0 |  0 | 0 | 0 | 0 | 1 | 0 | 0 | 0 | 0 |\n",
       "| 34 |     0 |    0 |    0 |   0 |   0 |  0 |  0 | 0 |  0 | 0 | 0 | 0 | 0 | 1 | 0 | 0 | 0 |\n",
       "| 40 |     0 |    0 |    0 |   0 |   0 |  0 |  0 | 0 |  0 | 0 | 0 | 0 | 0 | 0 | 2 | 0 | 0 |\n",
       "| 42 |     0 |    0 |    0 |   0 |   0 |  0 |  0 | 0 |  0 | 0 | 0 | 0 | 0 | 0 | 0 | 1 | 0 |\n",
       "| 50 |     0 |    0 |    0 |   0 |   0 |  0 |  0 | 0 |  0 | 0 | 0 | 0 | 0 | 0 | 0 | 0 | 1 |\n",
       "\n"
      ],
      "text/plain": [
       "   stays_in_week_nights 0     1    2    3   4   5  6  7 8  9 10 12 13 14 16 18\n",
       "1   0                     591 3963 1558   0   0  0  0 0  0 0 0  0  0  0  0  0 \n",
       "2   1                   13206 4579 4388   0   0  0  0 0  0 0 0  0  0  0  0  0 \n",
       "3   2                    9597 5990 5143   0   0  0  0 0  0 0 0  0  0  0  0  0 \n",
       "4   3                    7449 4931 3862   0   0  0  0 0  0 0 0  0  0  0  0  0 \n",
       "5   4                    3491 2143 2223   0   0  0  0 0  0 0 0  0  0  0  0  0 \n",
       "6   5                     724 1040 7520 282  88  0  0 0  0 0 0  0  0  0  0  0 \n",
       "7   6                       0    0  780 265 330  0  0 0  0 0 0  0  0  0  0  0 \n",
       "8   7                       0    0  426 370 166  0  0 0  0 0 0  0  0  0  0  0 \n",
       "9   8                       0    0  372 123 116  0  0 0  0 0 0  0  0  0  0  0 \n",
       "10  9                       0    0   78  54  84  0  0 0  0 0 0  0  0  0  0  0 \n",
       "11 10                       0    0   26  49 859 31  1 0  0 0 0  0  0  0  0  0 \n",
       "12 11                       0    0    0   0  38  9  2 0  0 0 0  0  0  0  0  0 \n",
       "13 12                       0    0    0   0  23  7 10 0  0 0 0  0  0  0  0  0 \n",
       "14 13                       0    0    0   0  11  5 11 0  0 0 0  0  0  0  0  0 \n",
       "15 14                       0    0    0   0   9  9  7 0  0 0 0  0  0  0  0  0 \n",
       "16 15                       0    0    0   0   2  7 55 4  0 0 0  0  0  0  0  0 \n",
       "17 16                       0    0    0   0   0  0  8 2  2 0 0  0  0  0  0  0 \n",
       "18 17                       0    0    0   0   0  0  3 1  0 0 0  0  0  0  0  0 \n",
       "19 18                       0    0    0   0   0  0  3 2  1 0 0  0  0  0  0  0 \n",
       "20 19                       0    0    0   0   0  0 12 5  3 0 0  0  0  0  0  0 \n",
       "21 20                       0    0    0   0   0  0  0 1 34 2 2  0  0  0  0  0 \n",
       "22 21                       0    0    0   0   0  0  0 0 11 4 0  0  0  0  0  0 \n",
       "23 22                       0    0    0   0   0  0  0 0  7 0 0  0  0  0  0  0 \n",
       "24 24                       0    0    0   0   0  0  0 0  0 2 0  0  0  0  0  0 \n",
       "25 25                       0    0    0   0   0  0  0 0  0 1 5  0  0  0  0  0 \n",
       "26 26                       0    0    0   0   0  0  0 0  0 0 0  1  0  0  0  0 \n",
       "27 30                       0    0    0   0   0  0  0 0  0 0 0  4  0  0  0  0 \n",
       "28 32                       0    0    0   0   0  0  0 0  0 0 0  0  1  0  0  0 \n",
       "29 33                       0    0    0   0   0  0  0 0  0 0 0  0  1  0  0  0 \n",
       "30 34                       0    0    0   0   0  0  0 0  0 0 0  0  0  1  0  0 \n",
       "31 40                       0    0    0   0   0  0  0 0  0 0 0  0  0  0  2  0 \n",
       "32 42                       0    0    0   0   0  0  0 0  0 0 0  0  0  0  0  1 \n",
       "33 50                       0    0    0   0   0  0  0 0  0 0 0  0  0  0  0  0 \n",
       "   19\n",
       "1  0 \n",
       "2  0 \n",
       "3  0 \n",
       "4  0 \n",
       "5  0 \n",
       "6  0 \n",
       "7  0 \n",
       "8  0 \n",
       "9  0 \n",
       "10 0 \n",
       "11 0 \n",
       "12 0 \n",
       "13 0 \n",
       "14 0 \n",
       "15 0 \n",
       "16 0 \n",
       "17 0 \n",
       "18 0 \n",
       "19 0 \n",
       "20 0 \n",
       "21 0 \n",
       "22 0 \n",
       "23 0 \n",
       "24 0 \n",
       "25 0 \n",
       "26 0 \n",
       "27 0 \n",
       "28 0 \n",
       "29 0 \n",
       "30 0 \n",
       "31 0 \n",
       "32 0 \n",
       "33 1 "
      ]
     },
     "metadata": {},
     "output_type": "display_data"
    }
   ],
   "source": [
    "# Table of `stay_in_weekend` and `stay_in_week_nights` features\n",
    "\n",
    "reshape2 :: dcast(data = data , stays_in_week_nights ~ stays_in_weekend_nights)\n",
    "\n",
    "## dcast(data , X ~ Y , value.var = \"any_variable_here\")\n",
    "\n",
    "## pivot table is all about  , we have Rows*columns & having value in each cell !\n",
    "\n",
    "## X - feature that I want as rows\n",
    "## Y - feature that I want as columns \n",
    "## value - feature name on which u want to perform your aggregation ..\n",
    "## Note : default aggregation func is length , ie it counts total_rows .."
   ]
  },
  {
   "cell_type": "code",
   "execution_count": null,
   "id": "fc1970e4",
   "metadata": {},
   "outputs": [],
   "source": []
  },
  {
   "cell_type": "code",
   "execution_count": null,
   "id": "358a2fbf",
   "metadata": {},
   "outputs": [],
   "source": [
    "reshape2 :: dcast(data = data , stays_in_week_nights ~ stays_in_weekend_nights , value.var = \"Total_Guests\" , fun.aggregate = length)"
   ]
  },
  {
   "cell_type": "code",
   "execution_count": null,
   "id": "750a8f2c",
   "metadata": {},
   "outputs": [],
   "source": []
  },
  {
   "cell_type": "code",
   "execution_count": null,
   "id": "7bcb4c80",
   "metadata": {},
   "outputs": [],
   "source": [
    "\"\n",
    "\n",
    "set value.var = \"Total_guests\"\n",
    "to get rid of above warning : Using Total_Guests as value column: use value.var to override.\n",
    "\n",
    "\n",
    "\n",
    "set fun.aggregate = length \n",
    "to get rid of above warning : Aggregation function missing: defaulting to length\n",
    "\n",
    "\""
   ]
  },
  {
   "cell_type": "code",
   "execution_count": null,
   "id": "886f6ebd",
   "metadata": {},
   "outputs": [],
   "source": []
  },
  {
   "cell_type": "code",
   "execution_count": null,
   "id": "9414f1be",
   "metadata": {},
   "outputs": [],
   "source": []
  },
  {
   "cell_type": "code",
   "execution_count": 97,
   "id": "3e3a77e7",
   "metadata": {},
   "outputs": [
    {
     "data": {
      "text/html": [
       "591"
      ],
      "text/latex": [
       "591"
      ],
      "text/markdown": [
       "591"
      ],
      "text/plain": [
       "[1] 591"
      ]
     },
     "metadata": {},
     "output_type": "display_data"
    }
   ],
   "source": [
    "nrow(data[(data['stays_in_week_nights']==0) & (data['stays_in_weekend_nights']==0) , ])\n",
    "\n",
    "## These 591 values which are not assigned to any feature, indicated as undefined_data..."
   ]
  },
  {
   "cell_type": "code",
   "execution_count": null,
   "id": "c2564ce7",
   "metadata": {},
   "outputs": [],
   "source": [
    "'''\n",
    "Hence  , The above table brings an idea about creating a new feature. \n",
    "Which is indicated just_stay_weekend, just_stay_weekday & stay_both_weekday_and_weekday.\n",
    "\n",
    "'''"
   ]
  },
  {
   "cell_type": "code",
   "execution_count": 98,
   "id": "bbe81cb1",
   "metadata": {},
   "outputs": [],
   "source": [
    "week_function = function(row , data)\n",
    "\n",
    "{\n",
    "    value1 = row['stays_in_weekend_nights']\n",
    "    value2 = row['stays_in_week_nights']\n",
    "    \n",
    "    if (value2 == 0 & value1 > 0)\n",
    "    {\n",
    "        return ('stay_just_weekend')\n",
    "    \n",
    "    } else if (value2 > 0 & value1 == 0)\n",
    "    {\n",
    "            return ('stay_just_weekday')\n",
    "        \n",
    "    } else if (value2 > 0 & value1 > 0)\n",
    "    {\n",
    "            return ('stay_both_weekday_and_weekend')\n",
    "        \n",
    "    } else \n",
    "    {\n",
    "            return ('undefined_data')\n",
    "    }\n",
    "}"
   ]
  },
  {
   "cell_type": "code",
   "execution_count": null,
   "id": "47432d52",
   "metadata": {},
   "outputs": [],
   "source": []
  },
  {
   "cell_type": "code",
   "execution_count": null,
   "id": "c3ed59c0",
   "metadata": {},
   "outputs": [],
   "source": [
    "help(apply)\n",
    "\n",
    "## Returns a vector or array or list of values obtained by applying a function to an array or matrix."
   ]
  },
  {
   "cell_type": "code",
   "execution_count": 53,
   "id": "75af8cd6",
   "metadata": {},
   "outputs": [
    {
     "data": {
      "text/html": [
       "<pre class=language-r><code>function (X, MARGIN, FUN, ..., simplify = TRUE) \n",
       "NULL</code></pre>"
      ],
      "text/latex": [
       "\\begin{minted}{r}\n",
       "function (X, MARGIN, FUN, ..., simplify = TRUE) \n",
       "NULL\n",
       "\\end{minted}"
      ],
      "text/markdown": [
       "```r\n",
       "function (X, MARGIN, FUN, ..., simplify = TRUE) \n",
       "NULL\n",
       "```"
      ],
      "text/plain": [
       "function (X, MARGIN, FUN, ..., simplify = TRUE) \n",
       "NULL"
      ]
     },
     "metadata": {},
     "output_type": "display_data"
    }
   ],
   "source": [
    "args(apply)"
   ]
  },
  {
   "cell_type": "code",
   "execution_count": null,
   "id": "91f11e10",
   "metadata": {},
   "outputs": [],
   "source": [
    "## Syntax : apply(X, MARGIN, FUN)\n",
    "\n",
    "## If the margin is 1 function is applied across row , \n",
    "## if the margin is 2 it is applied across the column"
   ]
  },
  {
   "cell_type": "markdown",
   "id": "3cd49fce",
   "metadata": {},
   "source": [
    "    apply() is used when we want to apply a function to the rows or columns of a data frame.. \n",
    "    It cannot be applied on lists or vectors.."
   ]
  },
  {
   "cell_type": "code",
   "execution_count": 99,
   "id": "0be30039",
   "metadata": {},
   "outputs": [],
   "source": [
    "data['weekend_or_weekday'] = apply(data[ , c('stays_in_weekend_nights' , 'stays_in_week_nights')] , 1 , FUN = week_function)"
   ]
  },
  {
   "cell_type": "code",
   "execution_count": 100,
   "id": "40ba46da",
   "metadata": {},
   "outputs": [
    {
     "data": {
      "text/plain": [
       "\n",
       "stay_both_weekday_and_weekend             stay_just_weekday \n",
       "                        46651                         34467 \n",
       "            stay_just_weekend                undefined_data \n",
       "                         5521                           591 "
      ]
     },
     "metadata": {},
     "output_type": "display_data"
    }
   ],
   "source": [
    "table(data['weekend_or_weekday'])\n",
    "\n",
    "## most of the bookings are both for stay_both_weekday_and_weekend"
   ]
  },
  {
   "cell_type": "code",
   "execution_count": null,
   "id": "4ba16ec4",
   "metadata": {},
   "outputs": [],
   "source": []
  },
  {
   "cell_type": "code",
   "execution_count": null,
   "id": "9cbe34d9",
   "metadata": {},
   "outputs": [],
   "source": []
  },
  {
   "cell_type": "code",
   "execution_count": null,
   "id": "8583c050",
   "metadata": {},
   "outputs": [],
   "source": []
  },
  {
   "cell_type": "code",
   "execution_count": null,
   "id": "47c522e1",
   "metadata": {},
   "outputs": [],
   "source": []
  },
  {
   "cell_type": "code",
   "execution_count": null,
   "id": "d717e869",
   "metadata": {},
   "outputs": [],
   "source": []
  },
  {
   "cell_type": "code",
   "execution_count": null,
   "id": "dfcbd255",
   "metadata": {},
   "outputs": [],
   "source": []
  },
  {
   "cell_type": "code",
   "execution_count": null,
   "id": "6f25e222",
   "metadata": {},
   "outputs": [],
   "source": []
  },
  {
   "cell_type": "markdown",
   "id": "5551878d",
   "metadata": {},
   "source": [
    "## 11.. Lets analyse whether bookings were made only for weekdays or for weekends or for both ??"
   ]
  },
  {
   "cell_type": "code",
   "execution_count": null,
   "id": "0972690d",
   "metadata": {},
   "outputs": [],
   "source": [
    "### now lets understand whether trend changes with respect to month or not !"
   ]
  },
  {
   "cell_type": "code",
   "execution_count": null,
   "id": "5a43d4e1",
   "metadata": {},
   "outputs": [],
   "source": [
    "### we cant consider other ways to create pivot_table & to normalize it , otherwise tutorial will be lengthy !\n",
    "## so lets consider dcast() which we have used in previous session !"
   ]
  },
  {
   "cell_type": "code",
   "execution_count": 102,
   "id": "3897adec",
   "metadata": {},
   "outputs": [
    {
     "name": "stderr",
     "output_type": "stream",
     "text": [
      "Using weekend_or_weekday as value column: use value.var to override.\n",
      "\n",
      "Aggregation function missing: defaulting to length\n",
      "\n"
     ]
    }
   ],
   "source": [
    "freq_tb_df = dcast(data , arrival_date_month ~ weekend_or_weekday )\n",
    "\n",
    "## dcast(data , X ~ Y , value.var = \"any_variable_here\")\n",
    "\n",
    "## pivot table is all about  , we have Rows*columns & having value in each cell !\n",
    "\n",
    "## X - feature that I want as rows\n",
    "## Y - feature that I want as columns \n",
    "## value - feature name on which u want to perform your aggregation ..\n",
    "## Note : default aggregation func is length , ie it counts total_rows .."
   ]
  },
  {
   "cell_type": "code",
   "execution_count": 103,
   "id": "eed7f464",
   "metadata": {},
   "outputs": [
    {
     "data": {
      "text/html": [
       "<table class=\"dataframe\">\n",
       "<caption>A data.frame: 12 × 5</caption>\n",
       "<thead>\n",
       "\t<tr><th scope=col>arrival_date_month</th><th scope=col>stay_both_weekday_and_weekend</th><th scope=col>stay_just_weekday</th><th scope=col>stay_just_weekend</th><th scope=col>undefined_data</th></tr>\n",
       "\t<tr><th scope=col>&lt;chr&gt;</th><th scope=col>&lt;int&gt;</th><th scope=col>&lt;int&gt;</th><th scope=col>&lt;int&gt;</th><th scope=col>&lt;int&gt;</th></tr>\n",
       "</thead>\n",
       "<tbody>\n",
       "\t<tr><td>April    </td><td>4525</td><td>2891</td><td>454</td><td>30</td></tr>\n",
       "\t<tr><td>August   </td><td>6795</td><td>3798</td><td>601</td><td>48</td></tr>\n",
       "\t<tr><td>December </td><td>2425</td><td>2296</td><td>324</td><td>67</td></tr>\n",
       "\t<tr><td>February </td><td>2996</td><td>2629</td><td>405</td><td>53</td></tr>\n",
       "\t<tr><td>January  </td><td>1959</td><td>2300</td><td>379</td><td>47</td></tr>\n",
       "\t<tr><td>July     </td><td>6214</td><td>3210</td><td>564</td><td>55</td></tr>\n",
       "\t<tr><td>June     </td><td>4180</td><td>3089</td><td>452</td><td>35</td></tr>\n",
       "\t<tr><td>March    </td><td>3617</td><td>3436</td><td>387</td><td>49</td></tr>\n",
       "\t<tr><td>May      </td><td>4319</td><td>3347</td><td>630</td><td>48</td></tr>\n",
       "\t<tr><td>November </td><td>2365</td><td>2259</td><td>292</td><td>57</td></tr>\n",
       "\t<tr><td>October  </td><td>3630</td><td>2663</td><td>549</td><td>79</td></tr>\n",
       "\t<tr><td>September</td><td>3626</td><td>2549</td><td>484</td><td>23</td></tr>\n",
       "</tbody>\n",
       "</table>\n"
      ],
      "text/latex": [
       "A data.frame: 12 × 5\n",
       "\\begin{tabular}{lllll}\n",
       " arrival\\_date\\_month & stay\\_both\\_weekday\\_and\\_weekend & stay\\_just\\_weekday & stay\\_just\\_weekend & undefined\\_data\\\\\n",
       " <chr> & <int> & <int> & <int> & <int>\\\\\n",
       "\\hline\n",
       "\t April     & 4525 & 2891 & 454 & 30\\\\\n",
       "\t August    & 6795 & 3798 & 601 & 48\\\\\n",
       "\t December  & 2425 & 2296 & 324 & 67\\\\\n",
       "\t February  & 2996 & 2629 & 405 & 53\\\\\n",
       "\t January   & 1959 & 2300 & 379 & 47\\\\\n",
       "\t July      & 6214 & 3210 & 564 & 55\\\\\n",
       "\t June      & 4180 & 3089 & 452 & 35\\\\\n",
       "\t March     & 3617 & 3436 & 387 & 49\\\\\n",
       "\t May       & 4319 & 3347 & 630 & 48\\\\\n",
       "\t November  & 2365 & 2259 & 292 & 57\\\\\n",
       "\t October   & 3630 & 2663 & 549 & 79\\\\\n",
       "\t September & 3626 & 2549 & 484 & 23\\\\\n",
       "\\end{tabular}\n"
      ],
      "text/markdown": [
       "\n",
       "A data.frame: 12 × 5\n",
       "\n",
       "| arrival_date_month &lt;chr&gt; | stay_both_weekday_and_weekend &lt;int&gt; | stay_just_weekday &lt;int&gt; | stay_just_weekend &lt;int&gt; | undefined_data &lt;int&gt; |\n",
       "|---|---|---|---|---|\n",
       "| April     | 4525 | 2891 | 454 | 30 |\n",
       "| August    | 6795 | 3798 | 601 | 48 |\n",
       "| December  | 2425 | 2296 | 324 | 67 |\n",
       "| February  | 2996 | 2629 | 405 | 53 |\n",
       "| January   | 1959 | 2300 | 379 | 47 |\n",
       "| July      | 6214 | 3210 | 564 | 55 |\n",
       "| June      | 4180 | 3089 | 452 | 35 |\n",
       "| March     | 3617 | 3436 | 387 | 49 |\n",
       "| May       | 4319 | 3347 | 630 | 48 |\n",
       "| November  | 2365 | 2259 | 292 | 57 |\n",
       "| October   | 3630 | 2663 | 549 | 79 |\n",
       "| September | 3626 | 2549 | 484 | 23 |\n",
       "\n"
      ],
      "text/plain": [
       "   arrival_date_month stay_both_weekday_and_weekend stay_just_weekday\n",
       "1  April              4525                          2891             \n",
       "2  August             6795                          3798             \n",
       "3  December           2425                          2296             \n",
       "4  February           2996                          2629             \n",
       "5  January            1959                          2300             \n",
       "6  July               6214                          3210             \n",
       "7  June               4180                          3089             \n",
       "8  March              3617                          3436             \n",
       "9  May                4319                          3347             \n",
       "10 November           2365                          2259             \n",
       "11 October            3630                          2663             \n",
       "12 September          3626                          2549             \n",
       "   stay_just_weekend undefined_data\n",
       "1  454               30            \n",
       "2  601               48            \n",
       "3  324               67            \n",
       "4  405               53            \n",
       "5  379               47            \n",
       "6  564               55            \n",
       "7  452               35            \n",
       "8  387               49            \n",
       "9  630               48            \n",
       "10 292               57            \n",
       "11 549               79            \n",
       "12 484               23            "
      ]
     },
     "metadata": {},
     "output_type": "display_data"
    }
   ],
   "source": [
    "freq_tb_df"
   ]
  },
  {
   "cell_type": "code",
   "execution_count": null,
   "id": "b740223f",
   "metadata": {},
   "outputs": [],
   "source": []
  },
  {
   "cell_type": "code",
   "execution_count": null,
   "id": "03e55d07",
   "metadata": {},
   "outputs": [],
   "source": [
    "help(arrange)\n",
    "\n",
    "### orders the rows of a data frame by the values of selected columns.."
   ]
  },
  {
   "cell_type": "code",
   "execution_count": null,
   "id": "fb6f6f87",
   "metadata": {},
   "outputs": [],
   "source": [
    "\"\n",
    "\n",
    "function (.data, ..., .by_group = FALSE)\n",
    "    .data : dataframe on which we are working \n",
    "    ... :  <data-masking> Variables, or functions of variables. Use desc() to sort a variable in descending order\n",
    "\n",
    "\""
   ]
  },
  {
   "cell_type": "code",
   "execution_count": 16,
   "id": "3ebcc844",
   "metadata": {},
   "outputs": [
    {
     "data": {
      "text/html": [
       "<pre class=language-r><code>function (.data, ..., .by_group = FALSE) \n",
       "NULL</code></pre>"
      ],
      "text/latex": [
       "\\begin{minted}{r}\n",
       "function (.data, ..., .by\\_group = FALSE) \n",
       "NULL\n",
       "\\end{minted}"
      ],
      "text/markdown": [
       "```r\n",
       "function (.data, ..., .by_group = FALSE) \n",
       "NULL\n",
       "```"
      ],
      "text/plain": [
       "function (.data, ..., .by_group = FALSE) \n",
       "NULL"
      ]
     },
     "metadata": {},
     "output_type": "display_data"
    }
   ],
   "source": [
    "args(dplyr :: arrange)\n",
    "\n",
    "## .data = data that u want to arrange or sort "
   ]
  },
  {
   "cell_type": "code",
   "execution_count": null,
   "id": "4bb901ab",
   "metadata": {},
   "outputs": [],
   "source": []
  },
  {
   "cell_type": "code",
   "execution_count": null,
   "id": "fa8d1510",
   "metadata": {},
   "outputs": [],
   "source": [
    "## freq_tb_df$arrival_date_month = factor(freq_tb_df$arrival_date_month, levels = month.name)\n",
    "## arrange(freq_tb_df , arrival_date_month)\n",
    "\n",
    "\n",
    "## dplyr :: arrange(freq_tb_df , factor(arrival_date_month, levels = month.name))"
   ]
  },
  {
   "cell_type": "code",
   "execution_count": null,
   "id": "11f9772b",
   "metadata": {},
   "outputs": [],
   "source": [
    "## lets use chaining just to make code more readible !"
   ]
  },
  {
   "cell_type": "code",
   "execution_count": null,
   "id": "2dfb0224",
   "metadata": {},
   "outputs": [],
   "source": []
  },
  {
   "cell_type": "code",
   "execution_count": 104,
   "id": "5afb3b1c",
   "metadata": {},
   "outputs": [],
   "source": [
    "freq_tb_df_sorted = freq_tb_df %>%\n",
    "dplyr :: arrange(factor(arrival_date_month, levels = month.name))"
   ]
  },
  {
   "cell_type": "code",
   "execution_count": 105,
   "id": "59608ac5",
   "metadata": {},
   "outputs": [
    {
     "data": {
      "text/html": [
       "<table class=\"dataframe\">\n",
       "<caption>A data.frame: 12 × 5</caption>\n",
       "<thead>\n",
       "\t<tr><th scope=col>arrival_date_month</th><th scope=col>stay_both_weekday_and_weekend</th><th scope=col>stay_just_weekday</th><th scope=col>stay_just_weekend</th><th scope=col>undefined_data</th></tr>\n",
       "\t<tr><th scope=col>&lt;chr&gt;</th><th scope=col>&lt;int&gt;</th><th scope=col>&lt;int&gt;</th><th scope=col>&lt;int&gt;</th><th scope=col>&lt;int&gt;</th></tr>\n",
       "</thead>\n",
       "<tbody>\n",
       "\t<tr><td>January  </td><td>1959</td><td>2300</td><td>379</td><td>47</td></tr>\n",
       "\t<tr><td>February </td><td>2996</td><td>2629</td><td>405</td><td>53</td></tr>\n",
       "\t<tr><td>March    </td><td>3617</td><td>3436</td><td>387</td><td>49</td></tr>\n",
       "\t<tr><td>April    </td><td>4525</td><td>2891</td><td>454</td><td>30</td></tr>\n",
       "\t<tr><td>May      </td><td>4319</td><td>3347</td><td>630</td><td>48</td></tr>\n",
       "\t<tr><td>June     </td><td>4180</td><td>3089</td><td>452</td><td>35</td></tr>\n",
       "\t<tr><td>July     </td><td>6214</td><td>3210</td><td>564</td><td>55</td></tr>\n",
       "\t<tr><td>August   </td><td>6795</td><td>3798</td><td>601</td><td>48</td></tr>\n",
       "\t<tr><td>September</td><td>3626</td><td>2549</td><td>484</td><td>23</td></tr>\n",
       "\t<tr><td>October  </td><td>3630</td><td>2663</td><td>549</td><td>79</td></tr>\n",
       "\t<tr><td>November </td><td>2365</td><td>2259</td><td>292</td><td>57</td></tr>\n",
       "\t<tr><td>December </td><td>2425</td><td>2296</td><td>324</td><td>67</td></tr>\n",
       "</tbody>\n",
       "</table>\n"
      ],
      "text/latex": [
       "A data.frame: 12 × 5\n",
       "\\begin{tabular}{lllll}\n",
       " arrival\\_date\\_month & stay\\_both\\_weekday\\_and\\_weekend & stay\\_just\\_weekday & stay\\_just\\_weekend & undefined\\_data\\\\\n",
       " <chr> & <int> & <int> & <int> & <int>\\\\\n",
       "\\hline\n",
       "\t January   & 1959 & 2300 & 379 & 47\\\\\n",
       "\t February  & 2996 & 2629 & 405 & 53\\\\\n",
       "\t March     & 3617 & 3436 & 387 & 49\\\\\n",
       "\t April     & 4525 & 2891 & 454 & 30\\\\\n",
       "\t May       & 4319 & 3347 & 630 & 48\\\\\n",
       "\t June      & 4180 & 3089 & 452 & 35\\\\\n",
       "\t July      & 6214 & 3210 & 564 & 55\\\\\n",
       "\t August    & 6795 & 3798 & 601 & 48\\\\\n",
       "\t September & 3626 & 2549 & 484 & 23\\\\\n",
       "\t October   & 3630 & 2663 & 549 & 79\\\\\n",
       "\t November  & 2365 & 2259 & 292 & 57\\\\\n",
       "\t December  & 2425 & 2296 & 324 & 67\\\\\n",
       "\\end{tabular}\n"
      ],
      "text/markdown": [
       "\n",
       "A data.frame: 12 × 5\n",
       "\n",
       "| arrival_date_month &lt;chr&gt; | stay_both_weekday_and_weekend &lt;int&gt; | stay_just_weekday &lt;int&gt; | stay_just_weekend &lt;int&gt; | undefined_data &lt;int&gt; |\n",
       "|---|---|---|---|---|\n",
       "| January   | 1959 | 2300 | 379 | 47 |\n",
       "| February  | 2996 | 2629 | 405 | 53 |\n",
       "| March     | 3617 | 3436 | 387 | 49 |\n",
       "| April     | 4525 | 2891 | 454 | 30 |\n",
       "| May       | 4319 | 3347 | 630 | 48 |\n",
       "| June      | 4180 | 3089 | 452 | 35 |\n",
       "| July      | 6214 | 3210 | 564 | 55 |\n",
       "| August    | 6795 | 3798 | 601 | 48 |\n",
       "| September | 3626 | 2549 | 484 | 23 |\n",
       "| October   | 3630 | 2663 | 549 | 79 |\n",
       "| November  | 2365 | 2259 | 292 | 57 |\n",
       "| December  | 2425 | 2296 | 324 | 67 |\n",
       "\n"
      ],
      "text/plain": [
       "   arrival_date_month stay_both_weekday_and_weekend stay_just_weekday\n",
       "1  January            1959                          2300             \n",
       "2  February           2996                          2629             \n",
       "3  March              3617                          3436             \n",
       "4  April              4525                          2891             \n",
       "5  May                4319                          3347             \n",
       "6  June               4180                          3089             \n",
       "7  July               6214                          3210             \n",
       "8  August             6795                          3798             \n",
       "9  September          3626                          2549             \n",
       "10 October            3630                          2663             \n",
       "11 November           2365                          2259             \n",
       "12 December           2425                          2296             \n",
       "   stay_just_weekend undefined_data\n",
       "1  379               47            \n",
       "2  405               53            \n",
       "3  387               49            \n",
       "4  454               30            \n",
       "5  630               48            \n",
       "6  452               35            \n",
       "7  564               55            \n",
       "8  601               48            \n",
       "9  484               23            \n",
       "10 549               79            \n",
       "11 292               57            \n",
       "12 324               67            "
      ]
     },
     "metadata": {},
     "output_type": "display_data"
    }
   ],
   "source": [
    "freq_tb_df_sorted"
   ]
  },
  {
   "cell_type": "code",
   "execution_count": null,
   "id": "406ad299",
   "metadata": {},
   "outputs": [],
   "source": []
  },
  {
   "cell_type": "code",
   "execution_count": null,
   "id": "c45c44e1",
   "metadata": {},
   "outputs": [],
   "source": []
  },
  {
   "cell_type": "code",
   "execution_count": null,
   "id": "604a4d21",
   "metadata": {},
   "outputs": [],
   "source": [
    "#### In order to build stacked-bar using base-R , u basically need data in such format :\n",
    "\n",
    "### for every month , what about total guest that stayed in weekday , weekend & various other factors !\n",
    "### ie we need features/col-names as : april , may , june etc----\n",
    "### row-names(indexes) as : stay_just_weekday , stay_just_weekend , etc---"
   ]
  },
  {
   "cell_type": "code",
   "execution_count": 106,
   "id": "697c08d4",
   "metadata": {},
   "outputs": [
    {
     "data": {
      "text/html": [
       "<table class=\"dataframe\">\n",
       "<caption>A matrix: 4 × 12 of type int</caption>\n",
       "<tbody>\n",
       "\t<tr><th scope=row>stay_both_weekday_and_weekend</th><td>1959</td><td>2996</td><td>3617</td><td>4525</td><td>4319</td><td>4180</td><td>6214</td><td>6795</td><td>3626</td><td>3630</td><td>2365</td><td>2425</td></tr>\n",
       "\t<tr><th scope=row>stay_just_weekday</th><td>2300</td><td>2629</td><td>3436</td><td>2891</td><td>3347</td><td>3089</td><td>3210</td><td>3798</td><td>2549</td><td>2663</td><td>2259</td><td>2296</td></tr>\n",
       "\t<tr><th scope=row>stay_just_weekend</th><td> 379</td><td> 405</td><td> 387</td><td> 454</td><td> 630</td><td> 452</td><td> 564</td><td> 601</td><td> 484</td><td> 549</td><td> 292</td><td> 324</td></tr>\n",
       "\t<tr><th scope=row>undefined_data</th><td>  47</td><td>  53</td><td>  49</td><td>  30</td><td>  48</td><td>  35</td><td>  55</td><td>  48</td><td>  23</td><td>  79</td><td>  57</td><td>  67</td></tr>\n",
       "</tbody>\n",
       "</table>\n"
      ],
      "text/latex": [
       "A matrix: 4 × 12 of type int\n",
       "\\begin{tabular}{r|llllllllllll}\n",
       "\tstay\\_both\\_weekday\\_and\\_weekend & 1959 & 2996 & 3617 & 4525 & 4319 & 4180 & 6214 & 6795 & 3626 & 3630 & 2365 & 2425\\\\\n",
       "\tstay\\_just\\_weekday & 2300 & 2629 & 3436 & 2891 & 3347 & 3089 & 3210 & 3798 & 2549 & 2663 & 2259 & 2296\\\\\n",
       "\tstay\\_just\\_weekend &  379 &  405 &  387 &  454 &  630 &  452 &  564 &  601 &  484 &  549 &  292 &  324\\\\\n",
       "\tundefined\\_data &   47 &   53 &   49 &   30 &   48 &   35 &   55 &   48 &   23 &   79 &   57 &   67\\\\\n",
       "\\end{tabular}\n"
      ],
      "text/markdown": [
       "\n",
       "A matrix: 4 × 12 of type int\n",
       "\n",
       "| stay_both_weekday_and_weekend | 1959 | 2996 | 3617 | 4525 | 4319 | 4180 | 6214 | 6795 | 3626 | 3630 | 2365 | 2425 |\n",
       "| stay_just_weekday | 2300 | 2629 | 3436 | 2891 | 3347 | 3089 | 3210 | 3798 | 2549 | 2663 | 2259 | 2296 |\n",
       "| stay_just_weekend |  379 |  405 |  387 |  454 |  630 |  452 |  564 |  601 |  484 |  549 |  292 |  324 |\n",
       "| undefined_data |   47 |   53 |   49 |   30 |   48 |   35 |   55 |   48 |   23 |   79 |   57 |   67 |\n",
       "\n"
      ],
      "text/plain": [
       "                              [,1] [,2] [,3] [,4] [,5] [,6] [,7] [,8] [,9]\n",
       "stay_both_weekday_and_weekend 1959 2996 3617 4525 4319 4180 6214 6795 3626\n",
       "stay_just_weekday             2300 2629 3436 2891 3347 3089 3210 3798 2549\n",
       "stay_just_weekend              379  405  387  454  630  452  564  601  484\n",
       "undefined_data                  47   53   49   30   48   35   55   48   23\n",
       "                              [,10] [,11] [,12]\n",
       "stay_both_weekday_and_weekend 3630  2365  2425 \n",
       "stay_just_weekday             2663  2259  2296 \n",
       "stay_just_weekend              549   292   324 \n",
       "undefined_data                  79    57    67 "
      ]
     },
     "metadata": {},
     "output_type": "display_data"
    }
   ],
   "source": [
    "t(freq_tb_df_sorted[ , -1])\n",
    "\n",
    "### t(as.matrix(freq_tb_df_sorted[ , -1]))"
   ]
  },
  {
   "cell_type": "code",
   "execution_count": 107,
   "id": "345d3bc0",
   "metadata": {},
   "outputs": [
    {
     "data": {
      "text/html": [
       "<style>\n",
       ".list-inline {list-style: none; margin:0; padding: 0}\n",
       ".list-inline>li {display: inline-block}\n",
       ".list-inline>li:not(:last-child)::after {content: \"\\00b7\"; padding: 0 .5ex}\n",
       "</style>\n",
       "<ol class=list-inline><li>'January'</li><li>'February'</li><li>'March'</li><li>'April'</li><li>'May'</li><li>'June'</li><li>'July'</li><li>'August'</li><li>'September'</li><li>'October'</li><li>'November'</li><li>'December'</li></ol>\n"
      ],
      "text/latex": [
       "\\begin{enumerate*}\n",
       "\\item 'January'\n",
       "\\item 'February'\n",
       "\\item 'March'\n",
       "\\item 'April'\n",
       "\\item 'May'\n",
       "\\item 'June'\n",
       "\\item 'July'\n",
       "\\item 'August'\n",
       "\\item 'September'\n",
       "\\item 'October'\n",
       "\\item 'November'\n",
       "\\item 'December'\n",
       "\\end{enumerate*}\n"
      ],
      "text/markdown": [
       "1. 'January'\n",
       "2. 'February'\n",
       "3. 'March'\n",
       "4. 'April'\n",
       "5. 'May'\n",
       "6. 'June'\n",
       "7. 'July'\n",
       "8. 'August'\n",
       "9. 'September'\n",
       "10. 'October'\n",
       "11. 'November'\n",
       "12. 'December'\n",
       "\n",
       "\n"
      ],
      "text/plain": [
       " [1] \"January\"   \"February\"  \"March\"     \"April\"     \"May\"       \"June\"     \n",
       " [7] \"July\"      \"August\"    \"September\" \"October\"   \"November\"  \"December\" "
      ]
     },
     "metadata": {},
     "output_type": "display_data"
    }
   ],
   "source": [
    "freq_tb_df_sorted$arrival_date_month"
   ]
  },
  {
   "cell_type": "code",
   "execution_count": null,
   "id": "85dd27b1",
   "metadata": {},
   "outputs": [],
   "source": []
  },
  {
   "cell_type": "code",
   "execution_count": 55,
   "id": "9bbfe640",
   "metadata": {},
   "outputs": [],
   "source": [
    "help(barplot)"
   ]
  },
  {
   "cell_type": "code",
   "execution_count": null,
   "id": "8d02758b",
   "metadata": {},
   "outputs": [],
   "source": [
    "\"\n",
    "\n",
    "## Default S3 method:\n",
    "barplot(height, width = 1, space = NULL,\n",
    "        names.arg = NULL, legend.text = NULL, beside = FALSE,\n",
    "        horiz = FALSE, density = NULL, angle = 45,\n",
    "        col = NULL, border = par(\"fg\"),\n",
    "        main = NULL, sub = NULL, xlab = NULL, ylab = NULL,\n",
    "        xlim = NULL, ylim = NULL, xpd = TRUE, log = \"\",\n",
    "        axes = TRUE, axisnames = TRUE,\n",
    "        cex.axis = par(\"cex.axis\"), cex.names = par(\"cex.axis\"),\n",
    "        inside = TRUE, plot = TRUE, axis.lty = 0, offset = 0,\n",
    "        add = FALSE, ann = !add && par(\"ann\"), args.legend = NULL, ...)\n",
    "\n",
    "\n",
    "\n",
    "\n",
    "height: This parameter determine the height of each bar in the barplot\n",
    "\n",
    "names.arg : A vector of names to be plotted below each bar..\n",
    "\n",
    "\n",
    "\""
   ]
  },
  {
   "cell_type": "code",
   "execution_count": 54,
   "id": "86e24eae",
   "metadata": {},
   "outputs": [
    {
     "data": {
      "text/html": [
       "<pre class=language-r><code>function (height, ...) \n",
       "NULL</code></pre>"
      ],
      "text/latex": [
       "\\begin{minted}{r}\n",
       "function (height, ...) \n",
       "NULL\n",
       "\\end{minted}"
      ],
      "text/markdown": [
       "```r\n",
       "function (height, ...) \n",
       "NULL\n",
       "```"
      ],
      "text/plain": [
       "function (height, ...) \n",
       "NULL"
      ]
     },
     "metadata": {},
     "output_type": "display_data"
    }
   ],
   "source": [
    "args(barplot)"
   ]
  },
  {
   "cell_type": "code",
   "execution_count": 108,
   "id": "5e7919cc",
   "metadata": {},
   "outputs": [
    {
     "data": {
      "image/png": "[encoded data removed]",
      "text/plain": [
       "Plot with title \"Stacked Bar Chart\""
      ]
     },
     "metadata": {
      "image/png": {
       "height": 480,
       "width": 720
      }
     },
     "output_type": "display_data"
    }
   ],
   "source": [
    "barplot(t(freq_tb_df_sorted[ , -1]) , legend.text = TRUE , col = c(\"red\", \"blue\" , \"orange\" , \"brown\"), \n",
    "        names.arg = freq_tb_df_sorted$arrival_date_month , main = \"Stacked Bar Chart\")"
   ]
  },
  {
   "cell_type": "code",
   "execution_count": null,
   "id": "7a9c4250",
   "metadata": {},
   "outputs": [],
   "source": [
    "'''\n",
    "\n",
    "above stacked bar graph shows that most bookings were made to stay only for weekdays or both weekdays & weekends. \n",
    "& there is not significant change in the trend !\n",
    "\n",
    "\n",
    "So now lets make this chart or lets make this insight much more clear !\n",
    "\n",
    "So instead of focusing on count here(bar chart scale) , can we obtain proportions(in normalized barplot) ?\n",
    "\n",
    "if u want to analyze proportions within each category in region , then 100% stacked bar-chart is useful !\n",
    "\n",
    "'''"
   ]
  },
  {
   "cell_type": "code",
   "execution_count": null,
   "id": "7e5da3cb",
   "metadata": {},
   "outputs": [],
   "source": []
  },
  {
   "cell_type": "code",
   "execution_count": null,
   "id": "15c387fe",
   "metadata": {},
   "outputs": [],
   "source": []
  },
  {
   "cell_type": "code",
   "execution_count": null,
   "id": "bd0c7fee",
   "metadata": {},
   "outputs": [],
   "source": []
  },
  {
   "cell_type": "code",
   "execution_count": null,
   "id": "2fe825e1",
   "metadata": {},
   "outputs": [],
   "source": [
    "### lets make it as 100% stacked bar chart !"
   ]
  },
  {
   "cell_type": "code",
   "execution_count": 56,
   "id": "021de1f6",
   "metadata": {},
   "outputs": [],
   "source": [
    "help(prop.table)"
   ]
  },
  {
   "cell_type": "code",
   "execution_count": null,
   "id": "122e0a85",
   "metadata": {},
   "outputs": [],
   "source": [
    "\"\n",
    "\n",
    "prop.table(x, margin = NULL)\n",
    "\n",
    "\n",
    "x : table\n",
    "\n",
    "margin : a vector giving the margins to split by. \n",
    "         E.g., for a matrix ,  1 indicates rows, \n",
    "                               2 indicates columns \n",
    "                               c(1, 2) indicates rows and columns..\n",
    "\n",
    "\n",
    "\""
   ]
  },
  {
   "cell_type": "code",
   "execution_count": null,
   "id": "a81ae408",
   "metadata": {},
   "outputs": [],
   "source": [
    "## Syntax :: prop.table(x, margin = NULL)\n",
    "## x receives data in the form of table or array , \n",
    "## This can be a one-dimensional , two-dimensional , or multi-dimensional table containing counts or frequencies.."
   ]
  },
  {
   "cell_type": "code",
   "execution_count": null,
   "id": "975aa4a5",
   "metadata": {},
   "outputs": [],
   "source": [
    "class(freq_tb_df_sorted) \n",
    "\n",
    "## as it is a dataframe , ie we can't directly pass x_Df to it , ie we need to convert it into array or matrix.."
   ]
  },
  {
   "cell_type": "code",
   "execution_count": null,
   "id": "02a541f0",
   "metadata": {},
   "outputs": [],
   "source": [
    "class(as.matrix(freq_tb_df_sorted))"
   ]
  },
  {
   "cell_type": "code",
   "execution_count": 109,
   "id": "367ae546",
   "metadata": {},
   "outputs": [
    {
     "data": {
      "text/html": [
       "<table class=\"dataframe\">\n",
       "<caption>A matrix: 12 × 5 of type chr</caption>\n",
       "<thead>\n",
       "\t<tr><th scope=col>arrival_date_month</th><th scope=col>stay_both_weekday_and_weekend</th><th scope=col>stay_just_weekday</th><th scope=col>stay_just_weekend</th><th scope=col>undefined_data</th></tr>\n",
       "</thead>\n",
       "<tbody>\n",
       "\t<tr><td>January  </td><td>1959</td><td>2300</td><td>379</td><td>47</td></tr>\n",
       "\t<tr><td>February </td><td>2996</td><td>2629</td><td>405</td><td>53</td></tr>\n",
       "\t<tr><td>March    </td><td>3617</td><td>3436</td><td>387</td><td>49</td></tr>\n",
       "\t<tr><td>April    </td><td>4525</td><td>2891</td><td>454</td><td>30</td></tr>\n",
       "\t<tr><td>May      </td><td>4319</td><td>3347</td><td>630</td><td>48</td></tr>\n",
       "\t<tr><td>June     </td><td>4180</td><td>3089</td><td>452</td><td>35</td></tr>\n",
       "\t<tr><td>July     </td><td>6214</td><td>3210</td><td>564</td><td>55</td></tr>\n",
       "\t<tr><td>August   </td><td>6795</td><td>3798</td><td>601</td><td>48</td></tr>\n",
       "\t<tr><td>September</td><td>3626</td><td>2549</td><td>484</td><td>23</td></tr>\n",
       "\t<tr><td>October  </td><td>3630</td><td>2663</td><td>549</td><td>79</td></tr>\n",
       "\t<tr><td>November </td><td>2365</td><td>2259</td><td>292</td><td>57</td></tr>\n",
       "\t<tr><td>December </td><td>2425</td><td>2296</td><td>324</td><td>67</td></tr>\n",
       "</tbody>\n",
       "</table>\n"
      ],
      "text/latex": [
       "A matrix: 12 × 5 of type chr\n",
       "\\begin{tabular}{lllll}\n",
       " arrival\\_date\\_month & stay\\_both\\_weekday\\_and\\_weekend & stay\\_just\\_weekday & stay\\_just\\_weekend & undefined\\_data\\\\\n",
       "\\hline\n",
       "\t January   & 1959 & 2300 & 379 & 47\\\\\n",
       "\t February  & 2996 & 2629 & 405 & 53\\\\\n",
       "\t March     & 3617 & 3436 & 387 & 49\\\\\n",
       "\t April     & 4525 & 2891 & 454 & 30\\\\\n",
       "\t May       & 4319 & 3347 & 630 & 48\\\\\n",
       "\t June      & 4180 & 3089 & 452 & 35\\\\\n",
       "\t July      & 6214 & 3210 & 564 & 55\\\\\n",
       "\t August    & 6795 & 3798 & 601 & 48\\\\\n",
       "\t September & 3626 & 2549 & 484 & 23\\\\\n",
       "\t October   & 3630 & 2663 & 549 & 79\\\\\n",
       "\t November  & 2365 & 2259 & 292 & 57\\\\\n",
       "\t December  & 2425 & 2296 & 324 & 67\\\\\n",
       "\\end{tabular}\n"
      ],
      "text/markdown": [
       "\n",
       "A matrix: 12 × 5 of type chr\n",
       "\n",
       "| arrival_date_month | stay_both_weekday_and_weekend | stay_just_weekday | stay_just_weekend | undefined_data |\n",
       "|---|---|---|---|---|\n",
       "| January   | 1959 | 2300 | 379 | 47 |\n",
       "| February  | 2996 | 2629 | 405 | 53 |\n",
       "| March     | 3617 | 3436 | 387 | 49 |\n",
       "| April     | 4525 | 2891 | 454 | 30 |\n",
       "| May       | 4319 | 3347 | 630 | 48 |\n",
       "| June      | 4180 | 3089 | 452 | 35 |\n",
       "| July      | 6214 | 3210 | 564 | 55 |\n",
       "| August    | 6795 | 3798 | 601 | 48 |\n",
       "| September | 3626 | 2549 | 484 | 23 |\n",
       "| October   | 3630 | 2663 | 549 | 79 |\n",
       "| November  | 2365 | 2259 | 292 | 57 |\n",
       "| December  | 2425 | 2296 | 324 | 67 |\n",
       "\n"
      ],
      "text/plain": [
       "      arrival_date_month stay_both_weekday_and_weekend stay_just_weekday\n",
       " [1,] January            1959                          2300             \n",
       " [2,] February           2996                          2629             \n",
       " [3,] March              3617                          3436             \n",
       " [4,] April              4525                          2891             \n",
       " [5,] May                4319                          3347             \n",
       " [6,] June               4180                          3089             \n",
       " [7,] July               6214                          3210             \n",
       " [8,] August             6795                          3798             \n",
       " [9,] September          3626                          2549             \n",
       "[10,] October            3630                          2663             \n",
       "[11,] November           2365                          2259             \n",
       "[12,] December           2425                          2296             \n",
       "      stay_just_weekend undefined_data\n",
       " [1,] 379               47            \n",
       " [2,] 405               53            \n",
       " [3,] 387               49            \n",
       " [4,] 454               30            \n",
       " [5,] 630               48            \n",
       " [6,] 452               35            \n",
       " [7,] 564               55            \n",
       " [8,] 601               48            \n",
       " [9,] 484               23            \n",
       "[10,] 549               79            \n",
       "[11,] 292               57            \n",
       "[12,] 324               67            "
      ]
     },
     "metadata": {},
     "output_type": "display_data"
    }
   ],
   "source": [
    "as.matrix(freq_tb_df_sorted)"
   ]
  },
  {
   "cell_type": "code",
   "execution_count": 110,
   "id": "7ba8f096",
   "metadata": {},
   "outputs": [],
   "source": [
    "# freq_tb_df_sorted is a data frame in R\n",
    "normalised_df = prop.table(as.matrix(freq_tb_df_sorted[ , -1]), margin = 1) * 100"
   ]
  },
  {
   "cell_type": "code",
   "execution_count": 111,
   "id": "dbace30f",
   "metadata": {},
   "outputs": [
    {
     "data": {
      "text/html": [
       "<table class=\"dataframe\">\n",
       "<caption>A matrix: 12 × 4 of type dbl</caption>\n",
       "<thead>\n",
       "\t<tr><th scope=col>stay_both_weekday_and_weekend</th><th scope=col>stay_just_weekday</th><th scope=col>stay_just_weekend</th><th scope=col>undefined_data</th></tr>\n",
       "</thead>\n",
       "<tbody>\n",
       "\t<tr><td>41.81430</td><td>49.09285</td><td>8.089648</td><td>1.0032017</td></tr>\n",
       "\t<tr><td>49.25201</td><td>43.21881</td><td>6.657899</td><td>0.8712806</td></tr>\n",
       "\t<tr><td>48.29750</td><td>45.88062</td><td>5.167579</td><td>0.6542930</td></tr>\n",
       "\t<tr><td>57.27848</td><td>36.59494</td><td>5.746835</td><td>0.3797468</td></tr>\n",
       "\t<tr><td>51.76174</td><td>40.11266</td><td>7.550336</td><td>0.5752637</td></tr>\n",
       "\t<tr><td>53.89376</td><td>39.82723</td><td>5.827746</td><td>0.4512635</td></tr>\n",
       "\t<tr><td>61.87394</td><td>31.96256</td><td>5.615852</td><td>0.5476451</td></tr>\n",
       "\t<tr><td>60.44298</td><td>33.78402</td><td>5.346024</td><td>0.4269703</td></tr>\n",
       "\t<tr><td>54.26519</td><td>38.14726</td><td>7.243340</td><td>0.3442083</td></tr>\n",
       "\t<tr><td>52.44907</td><td>38.47710</td><td>7.932380</td><td>1.1414535</td></tr>\n",
       "\t<tr><td>47.55681</td><td>45.42530</td><td>5.871707</td><td>1.1461894</td></tr>\n",
       "\t<tr><td>47.43740</td><td>44.91393</td><td>6.338028</td><td>1.3106416</td></tr>\n",
       "</tbody>\n",
       "</table>\n"
      ],
      "text/latex": [
       "A matrix: 12 × 4 of type dbl\n",
       "\\begin{tabular}{llll}\n",
       " stay\\_both\\_weekday\\_and\\_weekend & stay\\_just\\_weekday & stay\\_just\\_weekend & undefined\\_data\\\\\n",
       "\\hline\n",
       "\t 41.81430 & 49.09285 & 8.089648 & 1.0032017\\\\\n",
       "\t 49.25201 & 43.21881 & 6.657899 & 0.8712806\\\\\n",
       "\t 48.29750 & 45.88062 & 5.167579 & 0.6542930\\\\\n",
       "\t 57.27848 & 36.59494 & 5.746835 & 0.3797468\\\\\n",
       "\t 51.76174 & 40.11266 & 7.550336 & 0.5752637\\\\\n",
       "\t 53.89376 & 39.82723 & 5.827746 & 0.4512635\\\\\n",
       "\t 61.87394 & 31.96256 & 5.615852 & 0.5476451\\\\\n",
       "\t 60.44298 & 33.78402 & 5.346024 & 0.4269703\\\\\n",
       "\t 54.26519 & 38.14726 & 7.243340 & 0.3442083\\\\\n",
       "\t 52.44907 & 38.47710 & 7.932380 & 1.1414535\\\\\n",
       "\t 47.55681 & 45.42530 & 5.871707 & 1.1461894\\\\\n",
       "\t 47.43740 & 44.91393 & 6.338028 & 1.3106416\\\\\n",
       "\\end{tabular}\n"
      ],
      "text/markdown": [
       "\n",
       "A matrix: 12 × 4 of type dbl\n",
       "\n",
       "| stay_both_weekday_and_weekend | stay_just_weekday | stay_just_weekend | undefined_data |\n",
       "|---|---|---|---|\n",
       "| 41.81430 | 49.09285 | 8.089648 | 1.0032017 |\n",
       "| 49.25201 | 43.21881 | 6.657899 | 0.8712806 |\n",
       "| 48.29750 | 45.88062 | 5.167579 | 0.6542930 |\n",
       "| 57.27848 | 36.59494 | 5.746835 | 0.3797468 |\n",
       "| 51.76174 | 40.11266 | 7.550336 | 0.5752637 |\n",
       "| 53.89376 | 39.82723 | 5.827746 | 0.4512635 |\n",
       "| 61.87394 | 31.96256 | 5.615852 | 0.5476451 |\n",
       "| 60.44298 | 33.78402 | 5.346024 | 0.4269703 |\n",
       "| 54.26519 | 38.14726 | 7.243340 | 0.3442083 |\n",
       "| 52.44907 | 38.47710 | 7.932380 | 1.1414535 |\n",
       "| 47.55681 | 45.42530 | 5.871707 | 1.1461894 |\n",
       "| 47.43740 | 44.91393 | 6.338028 | 1.3106416 |\n",
       "\n"
      ],
      "text/plain": [
       "      stay_both_weekday_and_weekend stay_just_weekday stay_just_weekend\n",
       " [1,] 41.81430                      49.09285          8.089648         \n",
       " [2,] 49.25201                      43.21881          6.657899         \n",
       " [3,] 48.29750                      45.88062          5.167579         \n",
       " [4,] 57.27848                      36.59494          5.746835         \n",
       " [5,] 51.76174                      40.11266          7.550336         \n",
       " [6,] 53.89376                      39.82723          5.827746         \n",
       " [7,] 61.87394                      31.96256          5.615852         \n",
       " [8,] 60.44298                      33.78402          5.346024         \n",
       " [9,] 54.26519                      38.14726          7.243340         \n",
       "[10,] 52.44907                      38.47710          7.932380         \n",
       "[11,] 47.55681                      45.42530          5.871707         \n",
       "[12,] 47.43740                      44.91393          6.338028         \n",
       "      undefined_data\n",
       " [1,] 1.0032017     \n",
       " [2,] 0.8712806     \n",
       " [3,] 0.6542930     \n",
       " [4,] 0.3797468     \n",
       " [5,] 0.5752637     \n",
       " [6,] 0.4512635     \n",
       " [7,] 0.5476451     \n",
       " [8,] 0.4269703     \n",
       " [9,] 0.3442083     \n",
       "[10,] 1.1414535     \n",
       "[11,] 1.1461894     \n",
       "[12,] 1.3106416     "
      ]
     },
     "metadata": {},
     "output_type": "display_data"
    }
   ],
   "source": [
    "normalised_df"
   ]
  },
  {
   "cell_type": "code",
   "execution_count": null,
   "id": "cebcbaf0",
   "metadata": {},
   "outputs": [],
   "source": []
  },
  {
   "cell_type": "code",
   "execution_count": 112,
   "id": "a7153821",
   "metadata": {},
   "outputs": [
    {
     "data": {
      "image/png": "[encoded data removed]",
      "text/plain": [
       "Plot with title \"Stacked Bar Chart\""
      ]
     },
     "metadata": {
      "image/png": {
       "height": 480,
       "width": 720
      }
     },
     "output_type": "display_data"
    }
   ],
   "source": [
    "barplot(t(normalised_df) , legend.text = TRUE, col = c(\"red\", \"blue\" , \"orange\" , \"brown\"), \n",
    "        main = \"Stacked Bar Chart\" , names.arg = freq_tb_df_sorted$arrival_date_month )"
   ]
  },
  {
   "cell_type": "code",
   "execution_count": null,
   "id": "f973121c",
   "metadata": {},
   "outputs": [],
   "source": []
  },
  {
   "cell_type": "code",
   "execution_count": null,
   "id": "0beb5f48",
   "metadata": {},
   "outputs": [],
   "source": []
  },
  {
   "cell_type": "code",
   "execution_count": null,
   "id": "17486b9b",
   "metadata": {},
   "outputs": [],
   "source": []
  },
  {
   "cell_type": "code",
   "execution_count": null,
   "id": "ed7c4bcb",
   "metadata": {},
   "outputs": [],
   "source": []
  }
 ],
 "metadata": {
  "kernelspec": {
   "display_name": "R 4.4.1",
   "language": "R",
   "name": "ir41"
  },
  "language_info": {
   "codemirror_mode": "r",
   "file_extension": ".r",
   "mimetype": "text/x-r-source",
   "name": "R",
   "pygments_lexer": "r",
   "version": "4.4.1"
  }
 },
 "nbformat": 4,
 "nbformat_minor": 5
}
