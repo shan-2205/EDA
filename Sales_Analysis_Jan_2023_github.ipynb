{
 "cells": [
  {
   "cell_type": "code",
   "execution_count": 1,
   "metadata": {},
   "outputs": [],
   "source": []
  },
  {
   "cell_type": "code",
   "execution_count": null,
   "metadata": {},
   "outputs": [],
   "source": []
  },
  {
   "cell_type": "markdown",
   "metadata": {},
   "source": [
    "### Dataset link : https://github.com/alfifutuhi13/miniproject1/blob/main/Pandas-Data-Science-Tasks-master.zip"
   ]
  },
  {
   "cell_type": "code",
   "execution_count": null,
   "metadata": {},
   "outputs": [],
   "source": []
  },
  {
   "cell_type": "code",
   "execution_count": null,
   "metadata": {},
   "outputs": [],
   "source": []
  },
  {
   "cell_type": "markdown",
   "metadata": {},
   "source": [
    "## 1.. What is Feather & how to read data from data !\n",
    "        Feather is a binary file format that is used for storing data ..\n"
   ]
  },
  {
   "cell_type": "markdown",
   "metadata": {},
   "source": [
    "### different binary formats--\n",
    "    There are plenty of binary formats to store the data on disk, and many of \n",
    "    them pandas supports\n",
    "    Lets talk which one is better in terms of I/O speed, consumed memory \n",
    "    and disk space \n",
    "    Formats to Compare :\n",
    "    We’re going to consider the following formats to store our data.\n",
    "\n",
    "    Plain-text CSV — a good old friend of a data scientist\n",
    "    MessagePack — it’s like JSON but fast and small\n",
    "    HDF5 — a file format designed to store and organize large amounts of data\n",
    "    Feather — a fast, lightweight, and easy-to-use binary file format for \n",
    "                storing data frames\n",
    "    Parquet — an Apache Hadoop’s columnar storage format"
   ]
  },
  {
   "cell_type": "markdown",
   "metadata": {},
   "source": [
    "        Feather is a fast, lightweight, and easy-to-use binary file format \n",
    "        for storing data . It shows high I/O speed, doesn’t take too much memory \n",
    "        on the disk and doesn’t need any unpacking when loaded back into RAM.\n",
    "        \n",
    "        Feather has max I/O speed"
   ]
  },
  {
   "cell_type": "code",
   "execution_count": null,
   "metadata": {},
   "outputs": [],
   "source": []
  },
  {
   "cell_type": "code",
   "execution_count": null,
   "metadata": {},
   "outputs": [],
   "source": [
    "### In order to work with feather files ,install pyarrow package ..\n",
    "## !pip install pyarrow\n",
    "\n",
    "\n",
    "## pandas.to_feather and read_feather are both based on pyarrow,so \n",
    "## u have to install pyarrow first using pip or conda\n",
    "## otherwise u may end up getting ImportErrror..\n"
   ]
  },
  {
   "cell_type": "code",
   "execution_count": 1,
   "metadata": {},
   "outputs": [],
   "source": [
    "import os\n",
    "import pandas as pd\n",
    "import matplotlib.pyplot as plt\n",
    "import seaborn as sns"
   ]
  },
  {
   "cell_type": "code",
   "execution_count": null,
   "metadata": {},
   "outputs": [],
   "source": [
    "'''\n",
    "\n",
    "The data contains hundreds of thousands of electronics store purchases \n",
    "broken down by month, product type, cost ,purchase address, etc\n",
    "\n",
    "'''\n"
   ]
  },
  {
   "cell_type": "code",
   "execution_count": null,
   "metadata": {},
   "outputs": [],
   "source": []
  },
  {
   "cell_type": "code",
   "execution_count": 2,
   "metadata": {},
   "outputs": [],
   "source": [
    "all_data = pd.read_feather(r'G:\\Data Science projects\\EDA_Projects\\\n",
    "                    Sales Analysis\\Updated_data/Sales_data.ftr')"
   ]
  },
  {
   "cell_type": "code",
   "execution_count": 3,
   "metadata": {},
   "outputs": [
    {
     "data": {
      "text/html": [
       "<div>\n",
       "<style scoped>\n",
       "    .dataframe tbody tr th:only-of-type {\n",
       "        vertical-align: middle;\n",
       "    }\n",
       "\n",
       "    .dataframe tbody tr th {\n",
       "        vertical-align: top;\n",
       "    }\n",
       "\n",
       "    .dataframe thead th {\n",
       "        text-align: right;\n",
       "    }\n",
       "</style>\n",
       "<table border=\"1\" class=\"dataframe\">\n",
       "  <thead>\n",
       "    <tr style=\"text-align: right;\">\n",
       "      <th></th>\n",
       "      <th>Order ID</th>\n",
       "      <th>Product</th>\n",
       "      <th>Quantity Ordered</th>\n",
       "      <th>Price Each</th>\n",
       "      <th>Order Date</th>\n",
       "      <th>Purchase Address</th>\n",
       "    </tr>\n",
       "  </thead>\n",
       "  <tbody>\n",
       "    <tr>\n",
       "      <th>0</th>\n",
       "      <td>176558</td>\n",
       "      <td>USB-C Charging Cable</td>\n",
       "      <td>2</td>\n",
       "      <td>11.95</td>\n",
       "      <td>04/19/19 08:46</td>\n",
       "      <td>917 1st St, Dallas, TX 75001</td>\n",
       "    </tr>\n",
       "    <tr>\n",
       "      <th>1</th>\n",
       "      <td>None</td>\n",
       "      <td>None</td>\n",
       "      <td>None</td>\n",
       "      <td>None</td>\n",
       "      <td>None</td>\n",
       "      <td>None</td>\n",
       "    </tr>\n",
       "  </tbody>\n",
       "</table>\n",
       "</div>"
      ],
      "text/plain": [
       "  Order ID               Product Quantity Ordered Price Each      Order Date  \\\n",
       "0   176558  USB-C Charging Cable                2      11.95  04/19/19 08:46   \n",
       "1     None                  None             None       None            None   \n",
       "\n",
       "               Purchase Address  \n",
       "0  917 1st St, Dallas, TX 75001  \n",
       "1                          None  "
      ]
     },
     "execution_count": 3,
     "metadata": {},
     "output_type": "execute_result"
    }
   ],
   "source": [
    "all_data.head(2)"
   ]
  },
  {
   "cell_type": "code",
   "execution_count": null,
   "metadata": {},
   "outputs": [],
   "source": []
  },
  {
   "cell_type": "code",
   "execution_count": null,
   "metadata": {},
   "outputs": [],
   "source": []
  },
  {
   "cell_type": "markdown",
   "metadata": {},
   "source": [
    "##### Data cleaning and formatting"
   ]
  },
  {
   "cell_type": "code",
   "execution_count": 4,
   "metadata": {},
   "outputs": [
    {
     "data": {
      "text/plain": [
       "Order ID            object\n",
       "Product             object\n",
       "Quantity Ordered    object\n",
       "Price Each          object\n",
       "Order Date          object\n",
       "Purchase Address    object\n",
       "dtype: object"
      ]
     },
     "execution_count": 4,
     "metadata": {},
     "output_type": "execute_result"
    }
   ],
   "source": [
    "all_data.dtypes"
   ]
  },
  {
   "cell_type": "code",
   "execution_count": 5,
   "metadata": {},
   "outputs": [
    {
     "data": {
      "text/html": [
       "<div>\n",
       "<style scoped>\n",
       "    .dataframe tbody tr th:only-of-type {\n",
       "        vertical-align: middle;\n",
       "    }\n",
       "\n",
       "    .dataframe tbody tr th {\n",
       "        vertical-align: top;\n",
       "    }\n",
       "\n",
       "    .dataframe thead th {\n",
       "        text-align: right;\n",
       "    }\n",
       "</style>\n",
       "<table border=\"1\" class=\"dataframe\">\n",
       "  <thead>\n",
       "    <tr style=\"text-align: right;\">\n",
       "      <th></th>\n",
       "      <th>Order ID</th>\n",
       "      <th>Product</th>\n",
       "      <th>Quantity Ordered</th>\n",
       "      <th>Price Each</th>\n",
       "      <th>Order Date</th>\n",
       "      <th>Purchase Address</th>\n",
       "    </tr>\n",
       "  </thead>\n",
       "  <tbody>\n",
       "    <tr>\n",
       "      <th>0</th>\n",
       "      <td>176558</td>\n",
       "      <td>USB-C Charging Cable</td>\n",
       "      <td>2</td>\n",
       "      <td>11.95</td>\n",
       "      <td>04/19/19 08:46</td>\n",
       "      <td>917 1st St, Dallas, TX 75001</td>\n",
       "    </tr>\n",
       "    <tr>\n",
       "      <th>1</th>\n",
       "      <td>None</td>\n",
       "      <td>None</td>\n",
       "      <td>None</td>\n",
       "      <td>None</td>\n",
       "      <td>None</td>\n",
       "      <td>None</td>\n",
       "    </tr>\n",
       "    <tr>\n",
       "      <th>2</th>\n",
       "      <td>176559</td>\n",
       "      <td>Bose SoundSport Headphones</td>\n",
       "      <td>1</td>\n",
       "      <td>99.99</td>\n",
       "      <td>04/07/19 22:30</td>\n",
       "      <td>682 Chestnut St, Boston, MA 02215</td>\n",
       "    </tr>\n",
       "    <tr>\n",
       "      <th>3</th>\n",
       "      <td>176560</td>\n",
       "      <td>Google Phone</td>\n",
       "      <td>1</td>\n",
       "      <td>600</td>\n",
       "      <td>04/12/19 14:38</td>\n",
       "      <td>669 Spruce St, Los Angeles, CA 90001</td>\n",
       "    </tr>\n",
       "    <tr>\n",
       "      <th>4</th>\n",
       "      <td>176560</td>\n",
       "      <td>Wired Headphones</td>\n",
       "      <td>1</td>\n",
       "      <td>11.99</td>\n",
       "      <td>04/12/19 14:38</td>\n",
       "      <td>669 Spruce St, Los Angeles, CA 90001</td>\n",
       "    </tr>\n",
       "  </tbody>\n",
       "</table>\n",
       "</div>"
      ],
      "text/plain": [
       "  Order ID                     Product Quantity Ordered Price Each  \\\n",
       "0   176558        USB-C Charging Cable                2      11.95   \n",
       "1     None                        None             None       None   \n",
       "2   176559  Bose SoundSport Headphones                1      99.99   \n",
       "3   176560                Google Phone                1        600   \n",
       "4   176560            Wired Headphones                1      11.99   \n",
       "\n",
       "       Order Date                      Purchase Address  \n",
       "0  04/19/19 08:46          917 1st St, Dallas, TX 75001  \n",
       "1            None                                  None  \n",
       "2  04/07/19 22:30     682 Chestnut St, Boston, MA 02215  \n",
       "3  04/12/19 14:38  669 Spruce St, Los Angeles, CA 90001  \n",
       "4  04/12/19 14:38  669 Spruce St, Los Angeles, CA 90001  "
      ]
     },
     "execution_count": 5,
     "metadata": {},
     "output_type": "execute_result"
    }
   ],
   "source": [
    "all_data.head()"
   ]
  },
  {
   "cell_type": "code",
   "execution_count": 6,
   "metadata": {},
   "outputs": [
    {
     "data": {
      "text/plain": [
       "Order ID            545\n",
       "Product             545\n",
       "Quantity Ordered    545\n",
       "Price Each          545\n",
       "Order Date          545\n",
       "Purchase Address    545\n",
       "dtype: int64"
      ]
     },
     "execution_count": 6,
     "metadata": {},
     "output_type": "execute_result"
    }
   ],
   "source": [
    "all_data.isnull().sum()"
   ]
  },
  {
   "cell_type": "code",
   "execution_count": 7,
   "metadata": {},
   "outputs": [
    {
     "data": {
      "text/plain": [
       "(186305, 6)"
      ]
     },
     "execution_count": 7,
     "metadata": {},
     "output_type": "execute_result"
    }
   ],
   "source": [
    "all_data = all_data.dropna(how='all')\n",
    "all_data.shape"
   ]
  },
  {
   "cell_type": "code",
   "execution_count": null,
   "metadata": {},
   "outputs": [],
   "source": [
    "### do clean Duplicated rows .."
   ]
  },
  {
   "cell_type": "code",
   "execution_count": null,
   "metadata": {},
   "outputs": [],
   "source": [
    "all_data[all_data.duplicated()]"
   ]
  },
  {
   "cell_type": "code",
   "execution_count": 8,
   "metadata": {},
   "outputs": [
    {
     "data": {
      "text/plain": [
       "(618, 6)"
      ]
     },
     "execution_count": 8,
     "metadata": {},
     "output_type": "execute_result"
    }
   ],
   "source": [
    "all_data[all_data.duplicated()].shape"
   ]
  },
  {
   "cell_type": "code",
   "execution_count": 9,
   "metadata": {},
   "outputs": [],
   "source": [
    "all_data = all_data.drop_duplicates()"
   ]
  },
  {
   "cell_type": "code",
   "execution_count": 10,
   "metadata": {},
   "outputs": [
    {
     "data": {
      "text/plain": [
       "(185687, 6)"
      ]
     },
     "execution_count": 10,
     "metadata": {},
     "output_type": "execute_result"
    }
   ],
   "source": [
    "all_data.shape"
   ]
  },
  {
   "cell_type": "code",
   "execution_count": null,
   "metadata": {},
   "outputs": [],
   "source": []
  },
  {
   "cell_type": "code",
   "execution_count": null,
   "metadata": {},
   "outputs": [],
   "source": []
  },
  {
   "cell_type": "code",
   "execution_count": null,
   "metadata": {},
   "outputs": [],
   "source": []
  },
  {
   "cell_type": "markdown",
   "metadata": {},
   "source": [
    "## 2.. Which is the best month for sale ?\n",
    "    Lets first understand what this term 'best' is all about : \n",
    "    if any month has maximum sales, we will consider that as best"
   ]
  },
  {
   "cell_type": "code",
   "execution_count": 11,
   "metadata": {},
   "outputs": [
    {
     "data": {
      "text/plain": [
       "'04'"
      ]
     },
     "execution_count": 11,
     "metadata": {},
     "output_type": "execute_result"
    }
   ],
   "source": [
    "'04/19/19 08:46'.split('/')[0]"
   ]
  },
  {
   "cell_type": "code",
   "execution_count": 12,
   "metadata": {},
   "outputs": [],
   "source": [
    "def month(x):\n",
    "    return x.split('/')[0]"
   ]
  },
  {
   "cell_type": "markdown",
   "metadata": {},
   "source": [
    "##### add month col"
   ]
  },
  {
   "cell_type": "code",
   "execution_count": 13,
   "metadata": {},
   "outputs": [],
   "source": [
    "all_data['Month'] = all_data['Order Date'].apply(month)"
   ]
  },
  {
   "cell_type": "code",
   "execution_count": 16,
   "metadata": {},
   "outputs": [
    {
     "data": {
      "text/plain": [
       "0        04\n",
       "2        04\n",
       "3        04\n",
       "4        04\n",
       "5        04\n",
       "         ..\n",
       "11681    09\n",
       "11682    09\n",
       "11683    09\n",
       "11684    09\n",
       "11685    09\n",
       "Name: Order Date, Length: 186305, dtype: object"
      ]
     },
     "execution_count": 16,
     "metadata": {},
     "output_type": "execute_result"
    }
   ],
   "source": [
    "## all_data['Order Date'].apply(lambda x:str(x).split('/')[0])\n",
    "## all_data['Order Date'].apply(lambda x:x.split('/')[0])"
   ]
  },
  {
   "cell_type": "code",
   "execution_count": null,
   "metadata": {},
   "outputs": [],
   "source": []
  },
  {
   "cell_type": "code",
   "execution_count": 14,
   "metadata": {},
   "outputs": [
    {
     "data": {
      "text/plain": [
       "Order ID            object\n",
       "Product             object\n",
       "Quantity Ordered    object\n",
       "Price Each          object\n",
       "Order Date          object\n",
       "Purchase Address    object\n",
       "Month               object\n",
       "dtype: object"
      ]
     },
     "execution_count": 14,
     "metadata": {},
     "output_type": "execute_result"
    }
   ],
   "source": [
    "all_data.dtypes"
   ]
  },
  {
   "cell_type": "code",
   "execution_count": 15,
   "metadata": {},
   "outputs": [
    {
     "ename": "ValueError",
     "evalue": "invalid literal for int() with base 10: 'Order Date'",
     "output_type": "error",
     "traceback": [
      "\u001b[1;31m---------------------------------------------------------------------------\u001b[0m",
      "\u001b[1;31mValueError\u001b[0m                                Traceback (most recent call last)",
      "\u001b[1;32m~\\AppData\\Local\\Temp\\ipykernel_11396\\162550433.py\u001b[0m in \u001b[0;36m<module>\u001b[1;34m\u001b[0m\n\u001b[1;32m----> 1\u001b[1;33m \u001b[0mall_data\u001b[0m\u001b[1;33m[\u001b[0m\u001b[1;34m'Month'\u001b[0m\u001b[1;33m]\u001b[0m\u001b[1;33m.\u001b[0m\u001b[0mastype\u001b[0m\u001b[1;33m(\u001b[0m\u001b[0mint\u001b[0m\u001b[1;33m)\u001b[0m\u001b[1;33m\u001b[0m\u001b[1;33m\u001b[0m\u001b[0m\n\u001b[0m",
      "\u001b[1;32mR:\\Anaconda\\lib\\site-packages\\pandas\\core\\generic.py\u001b[0m in \u001b[0;36mastype\u001b[1;34m(self, dtype, copy, errors)\u001b[0m\n\u001b[0;32m   5910\u001b[0m         \u001b[1;32melse\u001b[0m\u001b[1;33m:\u001b[0m\u001b[1;33m\u001b[0m\u001b[1;33m\u001b[0m\u001b[0m\n\u001b[0;32m   5911\u001b[0m             \u001b[1;31m# else, only a single dtype is given\u001b[0m\u001b[1;33m\u001b[0m\u001b[1;33m\u001b[0m\u001b[0m\n\u001b[1;32m-> 5912\u001b[1;33m             \u001b[0mnew_data\u001b[0m \u001b[1;33m=\u001b[0m \u001b[0mself\u001b[0m\u001b[1;33m.\u001b[0m\u001b[0m_mgr\u001b[0m\u001b[1;33m.\u001b[0m\u001b[0mastype\u001b[0m\u001b[1;33m(\u001b[0m\u001b[0mdtype\u001b[0m\u001b[1;33m=\u001b[0m\u001b[0mdtype\u001b[0m\u001b[1;33m,\u001b[0m \u001b[0mcopy\u001b[0m\u001b[1;33m=\u001b[0m\u001b[0mcopy\u001b[0m\u001b[1;33m,\u001b[0m \u001b[0merrors\u001b[0m\u001b[1;33m=\u001b[0m\u001b[0merrors\u001b[0m\u001b[1;33m)\u001b[0m\u001b[1;33m\u001b[0m\u001b[1;33m\u001b[0m\u001b[0m\n\u001b[0m\u001b[0;32m   5913\u001b[0m             \u001b[1;32mreturn\u001b[0m \u001b[0mself\u001b[0m\u001b[1;33m.\u001b[0m\u001b[0m_constructor\u001b[0m\u001b[1;33m(\u001b[0m\u001b[0mnew_data\u001b[0m\u001b[1;33m)\u001b[0m\u001b[1;33m.\u001b[0m\u001b[0m__finalize__\u001b[0m\u001b[1;33m(\u001b[0m\u001b[0mself\u001b[0m\u001b[1;33m,\u001b[0m \u001b[0mmethod\u001b[0m\u001b[1;33m=\u001b[0m\u001b[1;34m\"astype\"\u001b[0m\u001b[1;33m)\u001b[0m\u001b[1;33m\u001b[0m\u001b[1;33m\u001b[0m\u001b[0m\n\u001b[0;32m   5914\u001b[0m \u001b[1;33m\u001b[0m\u001b[0m\n",
      "\u001b[1;32mR:\\Anaconda\\lib\\site-packages\\pandas\\core\\internals\\managers.py\u001b[0m in \u001b[0;36mastype\u001b[1;34m(self, dtype, copy, errors)\u001b[0m\n\u001b[0;32m    417\u001b[0m \u001b[1;33m\u001b[0m\u001b[0m\n\u001b[0;32m    418\u001b[0m     \u001b[1;32mdef\u001b[0m \u001b[0mastype\u001b[0m\u001b[1;33m(\u001b[0m\u001b[0mself\u001b[0m\u001b[1;33m:\u001b[0m \u001b[0mT\u001b[0m\u001b[1;33m,\u001b[0m \u001b[0mdtype\u001b[0m\u001b[1;33m,\u001b[0m \u001b[0mcopy\u001b[0m\u001b[1;33m:\u001b[0m \u001b[0mbool\u001b[0m \u001b[1;33m=\u001b[0m \u001b[1;32mFalse\u001b[0m\u001b[1;33m,\u001b[0m \u001b[0merrors\u001b[0m\u001b[1;33m:\u001b[0m \u001b[0mstr\u001b[0m \u001b[1;33m=\u001b[0m \u001b[1;34m\"raise\"\u001b[0m\u001b[1;33m)\u001b[0m \u001b[1;33m->\u001b[0m \u001b[0mT\u001b[0m\u001b[1;33m:\u001b[0m\u001b[1;33m\u001b[0m\u001b[1;33m\u001b[0m\u001b[0m\n\u001b[1;32m--> 419\u001b[1;33m         \u001b[1;32mreturn\u001b[0m \u001b[0mself\u001b[0m\u001b[1;33m.\u001b[0m\u001b[0mapply\u001b[0m\u001b[1;33m(\u001b[0m\u001b[1;34m\"astype\"\u001b[0m\u001b[1;33m,\u001b[0m \u001b[0mdtype\u001b[0m\u001b[1;33m=\u001b[0m\u001b[0mdtype\u001b[0m\u001b[1;33m,\u001b[0m \u001b[0mcopy\u001b[0m\u001b[1;33m=\u001b[0m\u001b[0mcopy\u001b[0m\u001b[1;33m,\u001b[0m \u001b[0merrors\u001b[0m\u001b[1;33m=\u001b[0m\u001b[0merrors\u001b[0m\u001b[1;33m)\u001b[0m\u001b[1;33m\u001b[0m\u001b[1;33m\u001b[0m\u001b[0m\n\u001b[0m\u001b[0;32m    420\u001b[0m \u001b[1;33m\u001b[0m\u001b[0m\n\u001b[0;32m    421\u001b[0m     def convert(\n",
      "\u001b[1;32mR:\\Anaconda\\lib\\site-packages\\pandas\\core\\internals\\managers.py\u001b[0m in \u001b[0;36mapply\u001b[1;34m(self, f, align_keys, ignore_failures, **kwargs)\u001b[0m\n\u001b[0;32m    302\u001b[0m                     \u001b[0mapplied\u001b[0m \u001b[1;33m=\u001b[0m \u001b[0mb\u001b[0m\u001b[1;33m.\u001b[0m\u001b[0mapply\u001b[0m\u001b[1;33m(\u001b[0m\u001b[0mf\u001b[0m\u001b[1;33m,\u001b[0m \u001b[1;33m**\u001b[0m\u001b[0mkwargs\u001b[0m\u001b[1;33m)\u001b[0m\u001b[1;33m\u001b[0m\u001b[1;33m\u001b[0m\u001b[0m\n\u001b[0;32m    303\u001b[0m                 \u001b[1;32melse\u001b[0m\u001b[1;33m:\u001b[0m\u001b[1;33m\u001b[0m\u001b[1;33m\u001b[0m\u001b[0m\n\u001b[1;32m--> 304\u001b[1;33m                     \u001b[0mapplied\u001b[0m \u001b[1;33m=\u001b[0m \u001b[0mgetattr\u001b[0m\u001b[1;33m(\u001b[0m\u001b[0mb\u001b[0m\u001b[1;33m,\u001b[0m \u001b[0mf\u001b[0m\u001b[1;33m)\u001b[0m\u001b[1;33m(\u001b[0m\u001b[1;33m**\u001b[0m\u001b[0mkwargs\u001b[0m\u001b[1;33m)\u001b[0m\u001b[1;33m\u001b[0m\u001b[1;33m\u001b[0m\u001b[0m\n\u001b[0m\u001b[0;32m    305\u001b[0m             \u001b[1;32mexcept\u001b[0m \u001b[1;33m(\u001b[0m\u001b[0mTypeError\u001b[0m\u001b[1;33m,\u001b[0m \u001b[0mNotImplementedError\u001b[0m\u001b[1;33m)\u001b[0m\u001b[1;33m:\u001b[0m\u001b[1;33m\u001b[0m\u001b[1;33m\u001b[0m\u001b[0m\n\u001b[0;32m    306\u001b[0m                 \u001b[1;32mif\u001b[0m \u001b[1;32mnot\u001b[0m \u001b[0mignore_failures\u001b[0m\u001b[1;33m:\u001b[0m\u001b[1;33m\u001b[0m\u001b[1;33m\u001b[0m\u001b[0m\n",
      "\u001b[1;32mR:\\Anaconda\\lib\\site-packages\\pandas\\core\\internals\\blocks.py\u001b[0m in \u001b[0;36mastype\u001b[1;34m(self, dtype, copy, errors)\u001b[0m\n\u001b[0;32m    578\u001b[0m         \u001b[0mvalues\u001b[0m \u001b[1;33m=\u001b[0m \u001b[0mself\u001b[0m\u001b[1;33m.\u001b[0m\u001b[0mvalues\u001b[0m\u001b[1;33m\u001b[0m\u001b[1;33m\u001b[0m\u001b[0m\n\u001b[0;32m    579\u001b[0m \u001b[1;33m\u001b[0m\u001b[0m\n\u001b[1;32m--> 580\u001b[1;33m         \u001b[0mnew_values\u001b[0m \u001b[1;33m=\u001b[0m \u001b[0mastype_array_safe\u001b[0m\u001b[1;33m(\u001b[0m\u001b[0mvalues\u001b[0m\u001b[1;33m,\u001b[0m \u001b[0mdtype\u001b[0m\u001b[1;33m,\u001b[0m \u001b[0mcopy\u001b[0m\u001b[1;33m=\u001b[0m\u001b[0mcopy\u001b[0m\u001b[1;33m,\u001b[0m \u001b[0merrors\u001b[0m\u001b[1;33m=\u001b[0m\u001b[0merrors\u001b[0m\u001b[1;33m)\u001b[0m\u001b[1;33m\u001b[0m\u001b[1;33m\u001b[0m\u001b[0m\n\u001b[0m\u001b[0;32m    581\u001b[0m \u001b[1;33m\u001b[0m\u001b[0m\n\u001b[0;32m    582\u001b[0m         \u001b[0mnew_values\u001b[0m \u001b[1;33m=\u001b[0m \u001b[0mmaybe_coerce_values\u001b[0m\u001b[1;33m(\u001b[0m\u001b[0mnew_values\u001b[0m\u001b[1;33m)\u001b[0m\u001b[1;33m\u001b[0m\u001b[1;33m\u001b[0m\u001b[0m\n",
      "\u001b[1;32mR:\\Anaconda\\lib\\site-packages\\pandas\\core\\dtypes\\cast.py\u001b[0m in \u001b[0;36mastype_array_safe\u001b[1;34m(values, dtype, copy, errors)\u001b[0m\n\u001b[0;32m   1290\u001b[0m \u001b[1;33m\u001b[0m\u001b[0m\n\u001b[0;32m   1291\u001b[0m     \u001b[1;32mtry\u001b[0m\u001b[1;33m:\u001b[0m\u001b[1;33m\u001b[0m\u001b[1;33m\u001b[0m\u001b[0m\n\u001b[1;32m-> 1292\u001b[1;33m         \u001b[0mnew_values\u001b[0m \u001b[1;33m=\u001b[0m \u001b[0mastype_array\u001b[0m\u001b[1;33m(\u001b[0m\u001b[0mvalues\u001b[0m\u001b[1;33m,\u001b[0m \u001b[0mdtype\u001b[0m\u001b[1;33m,\u001b[0m \u001b[0mcopy\u001b[0m\u001b[1;33m=\u001b[0m\u001b[0mcopy\u001b[0m\u001b[1;33m)\u001b[0m\u001b[1;33m\u001b[0m\u001b[1;33m\u001b[0m\u001b[0m\n\u001b[0m\u001b[0;32m   1293\u001b[0m     \u001b[1;32mexcept\u001b[0m \u001b[1;33m(\u001b[0m\u001b[0mValueError\u001b[0m\u001b[1;33m,\u001b[0m \u001b[0mTypeError\u001b[0m\u001b[1;33m)\u001b[0m\u001b[1;33m:\u001b[0m\u001b[1;33m\u001b[0m\u001b[1;33m\u001b[0m\u001b[0m\n\u001b[0;32m   1294\u001b[0m         \u001b[1;31m# e.g. astype_nansafe can fail on object-dtype of strings\u001b[0m\u001b[1;33m\u001b[0m\u001b[1;33m\u001b[0m\u001b[0m\n",
      "\u001b[1;32mR:\\Anaconda\\lib\\site-packages\\pandas\\core\\dtypes\\cast.py\u001b[0m in \u001b[0;36mastype_array\u001b[1;34m(values, dtype, copy)\u001b[0m\n\u001b[0;32m   1235\u001b[0m \u001b[1;33m\u001b[0m\u001b[0m\n\u001b[0;32m   1236\u001b[0m     \u001b[1;32melse\u001b[0m\u001b[1;33m:\u001b[0m\u001b[1;33m\u001b[0m\u001b[1;33m\u001b[0m\u001b[0m\n\u001b[1;32m-> 1237\u001b[1;33m         \u001b[0mvalues\u001b[0m \u001b[1;33m=\u001b[0m \u001b[0mastype_nansafe\u001b[0m\u001b[1;33m(\u001b[0m\u001b[0mvalues\u001b[0m\u001b[1;33m,\u001b[0m \u001b[0mdtype\u001b[0m\u001b[1;33m,\u001b[0m \u001b[0mcopy\u001b[0m\u001b[1;33m=\u001b[0m\u001b[0mcopy\u001b[0m\u001b[1;33m)\u001b[0m\u001b[1;33m\u001b[0m\u001b[1;33m\u001b[0m\u001b[0m\n\u001b[0m\u001b[0;32m   1238\u001b[0m \u001b[1;33m\u001b[0m\u001b[0m\n\u001b[0;32m   1239\u001b[0m     \u001b[1;31m# in pandas we don't store numpy str dtypes, so convert to object\u001b[0m\u001b[1;33m\u001b[0m\u001b[1;33m\u001b[0m\u001b[0m\n",
      "\u001b[1;32mR:\\Anaconda\\lib\\site-packages\\pandas\\core\\dtypes\\cast.py\u001b[0m in \u001b[0;36mastype_nansafe\u001b[1;34m(arr, dtype, copy, skipna)\u001b[0m\n\u001b[0;32m   1152\u001b[0m         \u001b[1;31m# work around NumPy brokenness, #1987\u001b[0m\u001b[1;33m\u001b[0m\u001b[1;33m\u001b[0m\u001b[0m\n\u001b[0;32m   1153\u001b[0m         \u001b[1;32mif\u001b[0m \u001b[0mnp\u001b[0m\u001b[1;33m.\u001b[0m\u001b[0missubdtype\u001b[0m\u001b[1;33m(\u001b[0m\u001b[0mdtype\u001b[0m\u001b[1;33m.\u001b[0m\u001b[0mtype\u001b[0m\u001b[1;33m,\u001b[0m \u001b[0mnp\u001b[0m\u001b[1;33m.\u001b[0m\u001b[0minteger\u001b[0m\u001b[1;33m)\u001b[0m\u001b[1;33m:\u001b[0m\u001b[1;33m\u001b[0m\u001b[1;33m\u001b[0m\u001b[0m\n\u001b[1;32m-> 1154\u001b[1;33m             \u001b[1;32mreturn\u001b[0m \u001b[0mlib\u001b[0m\u001b[1;33m.\u001b[0m\u001b[0mastype_intsafe\u001b[0m\u001b[1;33m(\u001b[0m\u001b[0marr\u001b[0m\u001b[1;33m,\u001b[0m \u001b[0mdtype\u001b[0m\u001b[1;33m)\u001b[0m\u001b[1;33m\u001b[0m\u001b[1;33m\u001b[0m\u001b[0m\n\u001b[0m\u001b[0;32m   1155\u001b[0m \u001b[1;33m\u001b[0m\u001b[0m\n\u001b[0;32m   1156\u001b[0m         \u001b[1;31m# if we have a datetime/timedelta array of objects\u001b[0m\u001b[1;33m\u001b[0m\u001b[1;33m\u001b[0m\u001b[0m\n",
      "\u001b[1;32mR:\\Anaconda\\lib\\site-packages\\pandas\\_libs\\lib.pyx\u001b[0m in \u001b[0;36mpandas._libs.lib.astype_intsafe\u001b[1;34m()\u001b[0m\n",
      "\u001b[1;31mValueError\u001b[0m: invalid literal for int() with base 10: 'Order Date'"
     ]
    }
   ],
   "source": [
    "all_data['Month'].astype(int)"
   ]
  },
  {
   "cell_type": "code",
   "execution_count": 16,
   "metadata": {},
   "outputs": [
    {
     "data": {
      "text/plain": [
       "array(['04', '05', 'Order Date', '08', '09', '12', '01', '02', '03', '07',\n",
       "       '06', '11', '10'], dtype=object)"
      ]
     },
     "execution_count": 16,
     "metadata": {},
     "output_type": "execute_result"
    }
   ],
   "source": [
    "all_data['Month'].unique()"
   ]
  },
  {
   "cell_type": "code",
   "execution_count": 17,
   "metadata": {},
   "outputs": [
    {
     "data": {
      "text/plain": [
       "185686"
      ]
     },
     "execution_count": 17,
     "metadata": {},
     "output_type": "execute_result"
    }
   ],
   "source": [
    "filter1 = all_data['Month']=='Order Date'\n",
    "len(all_data[~filter1])"
   ]
  },
  {
   "cell_type": "code",
   "execution_count": 18,
   "metadata": {},
   "outputs": [],
   "source": [
    "all_data = all_data[~filter1]"
   ]
  },
  {
   "cell_type": "code",
   "execution_count": 19,
   "metadata": {},
   "outputs": [
    {
     "data": {
      "text/plain": [
       "(185686, 7)"
      ]
     },
     "execution_count": 19,
     "metadata": {},
     "output_type": "execute_result"
    }
   ],
   "source": [
    "all_data.shape"
   ]
  },
  {
   "cell_type": "code",
   "execution_count": 20,
   "metadata": {},
   "outputs": [
    {
     "data": {
      "text/html": [
       "<div>\n",
       "<style scoped>\n",
       "    .dataframe tbody tr th:only-of-type {\n",
       "        vertical-align: middle;\n",
       "    }\n",
       "\n",
       "    .dataframe tbody tr th {\n",
       "        vertical-align: top;\n",
       "    }\n",
       "\n",
       "    .dataframe thead th {\n",
       "        text-align: right;\n",
       "    }\n",
       "</style>\n",
       "<table border=\"1\" class=\"dataframe\">\n",
       "  <thead>\n",
       "    <tr style=\"text-align: right;\">\n",
       "      <th></th>\n",
       "      <th>Order ID</th>\n",
       "      <th>Product</th>\n",
       "      <th>Quantity Ordered</th>\n",
       "      <th>Price Each</th>\n",
       "      <th>Order Date</th>\n",
       "      <th>Purchase Address</th>\n",
       "      <th>Month</th>\n",
       "    </tr>\n",
       "  </thead>\n",
       "  <tbody>\n",
       "    <tr>\n",
       "      <th>0</th>\n",
       "      <td>176558</td>\n",
       "      <td>USB-C Charging Cable</td>\n",
       "      <td>2</td>\n",
       "      <td>11.95</td>\n",
       "      <td>04/19/19 08:46</td>\n",
       "      <td>917 1st St, Dallas, TX 75001</td>\n",
       "      <td>04</td>\n",
       "    </tr>\n",
       "    <tr>\n",
       "      <th>2</th>\n",
       "      <td>176559</td>\n",
       "      <td>Bose SoundSport Headphones</td>\n",
       "      <td>1</td>\n",
       "      <td>99.99</td>\n",
       "      <td>04/07/19 22:30</td>\n",
       "      <td>682 Chestnut St, Boston, MA 02215</td>\n",
       "      <td>04</td>\n",
       "    </tr>\n",
       "  </tbody>\n",
       "</table>\n",
       "</div>"
      ],
      "text/plain": [
       "  Order ID                     Product Quantity Ordered Price Each  \\\n",
       "0   176558        USB-C Charging Cable                2      11.95   \n",
       "2   176559  Bose SoundSport Headphones                1      99.99   \n",
       "\n",
       "       Order Date                   Purchase Address Month  \n",
       "0  04/19/19 08:46       917 1st St, Dallas, TX 75001    04  \n",
       "2  04/07/19 22:30  682 Chestnut St, Boston, MA 02215    04  "
      ]
     },
     "execution_count": 20,
     "metadata": {},
     "output_type": "execute_result"
    }
   ],
   "source": [
    "all_data.head(2)"
   ]
  },
  {
   "cell_type": "code",
   "execution_count": 21,
   "metadata": {},
   "outputs": [],
   "source": [
    "all_data['Month'] = all_data['Month'].astype(int)"
   ]
  },
  {
   "cell_type": "code",
   "execution_count": 22,
   "metadata": {},
   "outputs": [
    {
     "data": {
      "text/plain": [
       "Order ID            object\n",
       "Product             object\n",
       "Quantity Ordered    object\n",
       "Price Each          object\n",
       "Order Date          object\n",
       "Purchase Address    object\n",
       "Month                int32\n",
       "dtype: object"
      ]
     },
     "execution_count": 22,
     "metadata": {},
     "output_type": "execute_result"
    }
   ],
   "source": [
    "all_data.dtypes"
   ]
  },
  {
   "cell_type": "code",
   "execution_count": 23,
   "metadata": {},
   "outputs": [],
   "source": [
    "all_data['Price Each'] = all_data['Price Each'].astype(float)"
   ]
  },
  {
   "cell_type": "code",
   "execution_count": 24,
   "metadata": {},
   "outputs": [],
   "source": [
    "all_data['Quantity Ordered'] = all_data['Quantity Ordered'].\\\n",
    "                                        astype(int)"
   ]
  },
  {
   "cell_type": "code",
   "execution_count": 25,
   "metadata": {},
   "outputs": [
    {
     "data": {
      "text/html": [
       "<div>\n",
       "<style scoped>\n",
       "    .dataframe tbody tr th:only-of-type {\n",
       "        vertical-align: middle;\n",
       "    }\n",
       "\n",
       "    .dataframe tbody tr th {\n",
       "        vertical-align: top;\n",
       "    }\n",
       "\n",
       "    .dataframe thead th {\n",
       "        text-align: right;\n",
       "    }\n",
       "</style>\n",
       "<table border=\"1\" class=\"dataframe\">\n",
       "  <thead>\n",
       "    <tr style=\"text-align: right;\">\n",
       "      <th></th>\n",
       "      <th>Order ID</th>\n",
       "      <th>Product</th>\n",
       "      <th>Quantity Ordered</th>\n",
       "      <th>Price Each</th>\n",
       "      <th>Order Date</th>\n",
       "      <th>Purchase Address</th>\n",
       "      <th>Month</th>\n",
       "      <th>sales</th>\n",
       "    </tr>\n",
       "  </thead>\n",
       "  <tbody>\n",
       "    <tr>\n",
       "      <th>0</th>\n",
       "      <td>176558</td>\n",
       "      <td>USB-C Charging Cable</td>\n",
       "      <td>2</td>\n",
       "      <td>11.95</td>\n",
       "      <td>04/19/19 08:46</td>\n",
       "      <td>917 1st St, Dallas, TX 75001</td>\n",
       "      <td>4</td>\n",
       "      <td>23.90</td>\n",
       "    </tr>\n",
       "    <tr>\n",
       "      <th>2</th>\n",
       "      <td>176559</td>\n",
       "      <td>Bose SoundSport Headphones</td>\n",
       "      <td>1</td>\n",
       "      <td>99.99</td>\n",
       "      <td>04/07/19 22:30</td>\n",
       "      <td>682 Chestnut St, Boston, MA 02215</td>\n",
       "      <td>4</td>\n",
       "      <td>99.99</td>\n",
       "    </tr>\n",
       "  </tbody>\n",
       "</table>\n",
       "</div>"
      ],
      "text/plain": [
       "  Order ID                     Product  Quantity Ordered  Price Each  \\\n",
       "0   176558        USB-C Charging Cable                 2       11.95   \n",
       "2   176559  Bose SoundSport Headphones                 1       99.99   \n",
       "\n",
       "       Order Date                   Purchase Address  Month  sales  \n",
       "0  04/19/19 08:46       917 1st St, Dallas, TX 75001      4  23.90  \n",
       "2  04/07/19 22:30  682 Chestnut St, Boston, MA 02215      4  99.99  "
      ]
     },
     "execution_count": 25,
     "metadata": {},
     "output_type": "execute_result"
    }
   ],
   "source": [
    "all_data['sales']=all_data['Quantity Ordered']*all_data['Price Each']\n",
    "all_data.head(2)"
   ]
  },
  {
   "cell_type": "code",
   "execution_count": null,
   "metadata": {},
   "outputs": [],
   "source": []
  },
  {
   "cell_type": "code",
   "execution_count": 26,
   "metadata": {},
   "outputs": [
    {
     "data": {
      "text/plain": [
       "Month\n",
       "1     1821413.16\n",
       "2     2200078.08\n",
       "3     2804973.35\n",
       "4     3389217.98\n",
       "5     3150616.23\n",
       "6     2576280.15\n",
       "7     2646461.32\n",
       "8     2241083.37\n",
       "9     2094465.69\n",
       "10    3734777.86\n",
       "11    3197875.05\n",
       "12    4608295.70\n",
       "Name: sales, dtype: float64"
      ]
     },
     "execution_count": 26,
     "metadata": {},
     "output_type": "execute_result"
    }
   ],
   "source": [
    "all_data.groupby('Month')['sales'].sum()"
   ]
  },
  {
   "cell_type": "code",
   "execution_count": 27,
   "metadata": {},
   "outputs": [
    {
     "data": {
      "text/plain": [
       "<AxesSubplot:xlabel='Month'>"
      ]
     },
     "execution_count": 27,
     "metadata": {},
     "output_type": "execute_result"
    },
    {
     "data": {
      "image/png": "[encoded data removed]",
      "text/plain": [
       "<Figure size 640x480 with 1 Axes>"
      ]
     },
     "metadata": {},
     "output_type": "display_data"
    }
   ],
   "source": [
    "all_data.groupby('Month')['sales'].sum().plot(kind='bar')\n",
    "\n",
    "'''\n",
    "months=range(1,13)\n",
    "plt.bar(months,all_data.groupby('Month')['sales'].sum())\n",
    "plt.xticks(months)\n",
    "plt.ylabel('Sales in USD ($)')\n",
    "plt.xlabel('Month number')\n",
    "plt.show()\n",
    "\n",
    "\n",
    "'''"
   ]
  },
  {
   "cell_type": "code",
   "execution_count": null,
   "metadata": {},
   "outputs": [],
   "source": [
    "'''\n",
    "\n",
    "->> y-axis scale : it is 1e^6\n",
    "\n",
    "E stands for exponential , in short it is *10^\n",
    "\n",
    "So, 1e6 or 1e^6 OR 1 exponent 6 is the same as \n",
    "1*10^6 which is same as 1,000,000\n",
    "\n",
    "\n",
    "'''"
   ]
  },
  {
   "cell_type": "code",
   "execution_count": null,
   "metadata": {},
   "outputs": [],
   "source": []
  },
  {
   "cell_type": "code",
   "execution_count": null,
   "metadata": {},
   "outputs": [],
   "source": []
  },
  {
   "cell_type": "code",
   "execution_count": null,
   "metadata": {},
   "outputs": [],
   "source": []
  },
  {
   "cell_type": "code",
   "execution_count": null,
   "metadata": {},
   "outputs": [],
   "source": []
  },
  {
   "cell_type": "code",
   "execution_count": null,
   "metadata": {},
   "outputs": [],
   "source": []
  },
  {
   "cell_type": "markdown",
   "metadata": {},
   "source": [
    "## 3.. Which city has max order ? "
   ]
  },
  {
   "cell_type": "code",
   "execution_count": 28,
   "metadata": {},
   "outputs": [
    {
     "data": {
      "text/plain": [
       "' Dallas'"
      ]
     },
     "execution_count": 28,
     "metadata": {},
     "output_type": "execute_result"
    }
   ],
   "source": [
    "'917 1st St, Dallas, TX 75001'.split(',')[1]"
   ]
  },
  {
   "cell_type": "code",
   "execution_count": null,
   "metadata": {},
   "outputs": [],
   "source": []
  },
  {
   "cell_type": "code",
   "execution_count": 29,
   "metadata": {},
   "outputs": [],
   "source": [
    "all_data['city'] = all_data['Purchase Address'].\\\n",
    "                    str.split(',').str.get(1)"
   ]
  },
  {
   "cell_type": "code",
   "execution_count": null,
   "metadata": {},
   "outputs": [],
   "source": [
    "'''\n",
    "\n",
    "def city(x):\n",
    "    return x.split(',')[1]\n",
    "    \n",
    "all_data['city'] = all_data['Purchase Address'].apply(city)\n",
    "\n",
    "'''"
   ]
  },
  {
   "cell_type": "code",
   "execution_count": 23,
   "metadata": {},
   "outputs": [],
   "source": []
  },
  {
   "cell_type": "code",
   "execution_count": 24,
   "metadata": {},
   "outputs": [],
   "source": []
  },
  {
   "cell_type": "code",
   "execution_count": 30,
   "metadata": {},
   "outputs": [
    {
     "data": {
      "text/plain": [
       " San Francisco    44662\n",
       " Los Angeles      29564\n",
       " New York City    24847\n",
       " Boston           19901\n",
       " Atlanta          14863\n",
       " Dallas           14797\n",
       " Seattle          14713\n",
       " Portland         12449\n",
       " Austin            9890\n",
       "Name: city, dtype: int64"
      ]
     },
     "execution_count": 30,
     "metadata": {},
     "output_type": "execute_result"
    }
   ],
   "source": [
    "pd.value_counts(all_data['city'])\n",
    "\n",
    "## all_data['city'].value_counts()\n",
    "\n",
    "## all_data.groupby('city')['city'].count()\n",
    "## all_data.groupby('city').agg({'city':'count'})\n",
    "## all_data.groupby('city').size()"
   ]
  },
  {
   "cell_type": "code",
   "execution_count": 31,
   "metadata": {},
   "outputs": [
    {
     "data": {
      "text/plain": [
       "<AxesSubplot:ylabel='city'>"
      ]
     },
     "execution_count": 31,
     "metadata": {},
     "output_type": "execute_result"
    },
    {
     "data": {
      "image/png": "[encoded data removed]",
      "text/plain": [
       "<Figure size 800x600 with 1 Axes>"
      ]
     },
     "metadata": {},
     "output_type": "display_data"
    }
   ],
   "source": [
    "pd.value_counts(all_data['city']).plot(kind='pie' , \\\n",
    "                           figsize=(8,6) , autopct='%1.0f%%' )\n",
    "\n",
    "###  autopct : Adding percentages to pie chart "
   ]
  },
  {
   "cell_type": "code",
   "execution_count": null,
   "metadata": {},
   "outputs": [],
   "source": []
  },
  {
   "cell_type": "code",
   "execution_count": null,
   "metadata": {},
   "outputs": [],
   "source": []
  },
  {
   "cell_type": "code",
   "execution_count": null,
   "metadata": {},
   "outputs": [],
   "source": []
  },
  {
   "cell_type": "code",
   "execution_count": null,
   "metadata": {},
   "outputs": [],
   "source": []
  },
  {
   "cell_type": "code",
   "execution_count": null,
   "metadata": {},
   "outputs": [],
   "source": []
  },
  {
   "cell_type": "code",
   "execution_count": null,
   "metadata": {},
   "outputs": [],
   "source": []
  },
  {
   "cell_type": "markdown",
   "metadata": {},
   "source": [
    "## 4.. What product sold the most &  Why?"
   ]
  },
  {
   "cell_type": "code",
   "execution_count": null,
   "metadata": {},
   "outputs": [],
   "source": []
  },
  {
   "cell_type": "code",
   "execution_count": 32,
   "metadata": {},
   "outputs": [
    {
     "data": {
      "text/html": [
       "<div>\n",
       "<style scoped>\n",
       "    .dataframe tbody tr th:only-of-type {\n",
       "        vertical-align: middle;\n",
       "    }\n",
       "\n",
       "    .dataframe tbody tr th {\n",
       "        vertical-align: top;\n",
       "    }\n",
       "\n",
       "    .dataframe thead th {\n",
       "        text-align: right;\n",
       "    }\n",
       "</style>\n",
       "<table border=\"1\" class=\"dataframe\">\n",
       "  <thead>\n",
       "    <tr style=\"text-align: right;\">\n",
       "      <th></th>\n",
       "      <th>Quantity Ordered</th>\n",
       "      <th>Price Each</th>\n",
       "    </tr>\n",
       "    <tr>\n",
       "      <th>Product</th>\n",
       "      <th></th>\n",
       "      <th></th>\n",
       "    </tr>\n",
       "  </thead>\n",
       "  <tbody>\n",
       "    <tr>\n",
       "      <th>20in Monitor</th>\n",
       "      <td>4126</td>\n",
       "      <td>109.99</td>\n",
       "    </tr>\n",
       "    <tr>\n",
       "      <th>27in 4K Gaming Monitor</th>\n",
       "      <td>6239</td>\n",
       "      <td>389.99</td>\n",
       "    </tr>\n",
       "    <tr>\n",
       "      <th>27in FHD Monitor</th>\n",
       "      <td>7541</td>\n",
       "      <td>149.99</td>\n",
       "    </tr>\n",
       "    <tr>\n",
       "      <th>34in Ultrawide Monitor</th>\n",
       "      <td>6192</td>\n",
       "      <td>379.99</td>\n",
       "    </tr>\n",
       "    <tr>\n",
       "      <th>AA Batteries (4-pack)</th>\n",
       "      <td>27615</td>\n",
       "      <td>3.84</td>\n",
       "    </tr>\n",
       "    <tr>\n",
       "      <th>AAA Batteries (4-pack)</th>\n",
       "      <td>30986</td>\n",
       "      <td>2.99</td>\n",
       "    </tr>\n",
       "    <tr>\n",
       "      <th>Apple Airpods Headphones</th>\n",
       "      <td>15637</td>\n",
       "      <td>150.00</td>\n",
       "    </tr>\n",
       "    <tr>\n",
       "      <th>Bose SoundSport Headphones</th>\n",
       "      <td>13430</td>\n",
       "      <td>99.99</td>\n",
       "    </tr>\n",
       "    <tr>\n",
       "      <th>Flatscreen TV</th>\n",
       "      <td>4813</td>\n",
       "      <td>300.00</td>\n",
       "    </tr>\n",
       "    <tr>\n",
       "      <th>Google Phone</th>\n",
       "      <td>5529</td>\n",
       "      <td>600.00</td>\n",
       "    </tr>\n",
       "    <tr>\n",
       "      <th>LG Dryer</th>\n",
       "      <td>646</td>\n",
       "      <td>600.00</td>\n",
       "    </tr>\n",
       "    <tr>\n",
       "      <th>LG Washing Machine</th>\n",
       "      <td>666</td>\n",
       "      <td>600.00</td>\n",
       "    </tr>\n",
       "    <tr>\n",
       "      <th>Lightning Charging Cable</th>\n",
       "      <td>23169</td>\n",
       "      <td>14.95</td>\n",
       "    </tr>\n",
       "    <tr>\n",
       "      <th>Macbook Pro Laptop</th>\n",
       "      <td>4725</td>\n",
       "      <td>1700.00</td>\n",
       "    </tr>\n",
       "    <tr>\n",
       "      <th>ThinkPad Laptop</th>\n",
       "      <td>4128</td>\n",
       "      <td>999.99</td>\n",
       "    </tr>\n",
       "    <tr>\n",
       "      <th>USB-C Charging Cable</th>\n",
       "      <td>23931</td>\n",
       "      <td>11.95</td>\n",
       "    </tr>\n",
       "    <tr>\n",
       "      <th>Vareebadd Phone</th>\n",
       "      <td>2068</td>\n",
       "      <td>400.00</td>\n",
       "    </tr>\n",
       "    <tr>\n",
       "      <th>Wired Headphones</th>\n",
       "      <td>20524</td>\n",
       "      <td>11.99</td>\n",
       "    </tr>\n",
       "    <tr>\n",
       "      <th>iPhone</th>\n",
       "      <td>6847</td>\n",
       "      <td>700.00</td>\n",
       "    </tr>\n",
       "  </tbody>\n",
       "</table>\n",
       "</div>"
      ],
      "text/plain": [
       "                            Quantity Ordered  Price Each\n",
       "Product                                                 \n",
       "20in Monitor                            4126      109.99\n",
       "27in 4K Gaming Monitor                  6239      389.99\n",
       "27in FHD Monitor                        7541      149.99\n",
       "34in Ultrawide Monitor                  6192      379.99\n",
       "AA Batteries (4-pack)                  27615        3.84\n",
       "AAA Batteries (4-pack)                 30986        2.99\n",
       "Apple Airpods Headphones               15637      150.00\n",
       "Bose SoundSport Headphones             13430       99.99\n",
       "Flatscreen TV                           4813      300.00\n",
       "Google Phone                            5529      600.00\n",
       "LG Dryer                                 646      600.00\n",
       "LG Washing Machine                       666      600.00\n",
       "Lightning Charging Cable               23169       14.95\n",
       "Macbook Pro Laptop                      4725     1700.00\n",
       "ThinkPad Laptop                         4128      999.99\n",
       "USB-C Charging Cable                   23931       11.95\n",
       "Vareebadd Phone                         2068      400.00\n",
       "Wired Headphones                       20524       11.99\n",
       "iPhone                                  6847      700.00"
      ]
     },
     "execution_count": 32,
     "metadata": {},
     "output_type": "execute_result"
    }
   ],
   "source": [
    "all_data.groupby('Product').agg({'Quantity Ordered':'sum' , \\\n",
    "                                 'Price Each':'mean'})"
   ]
  },
  {
   "cell_type": "code",
   "execution_count": 33,
   "metadata": {},
   "outputs": [],
   "source": [
    "count_df = all_data.groupby('Product').agg(\\\n",
    "                       {'Quantity Ordered':'sum' , \\\n",
    "                        'Price Each':'mean'}).\n",
    "                        reset_index()"
   ]
  },
  {
   "cell_type": "code",
   "execution_count": 34,
   "metadata": {},
   "outputs": [
    {
     "data": {
      "text/html": [
       "<div>\n",
       "<style scoped>\n",
       "    .dataframe tbody tr th:only-of-type {\n",
       "        vertical-align: middle;\n",
       "    }\n",
       "\n",
       "    .dataframe tbody tr th {\n",
       "        vertical-align: top;\n",
       "    }\n",
       "\n",
       "    .dataframe thead th {\n",
       "        text-align: right;\n",
       "    }\n",
       "</style>\n",
       "<table border=\"1\" class=\"dataframe\">\n",
       "  <thead>\n",
       "    <tr style=\"text-align: right;\">\n",
       "      <th></th>\n",
       "      <th>Product</th>\n",
       "      <th>Quantity Ordered</th>\n",
       "      <th>Price Each</th>\n",
       "    </tr>\n",
       "  </thead>\n",
       "  <tbody>\n",
       "    <tr>\n",
       "      <th>0</th>\n",
       "      <td>20in Monitor</td>\n",
       "      <td>4126</td>\n",
       "      <td>109.99</td>\n",
       "    </tr>\n",
       "    <tr>\n",
       "      <th>1</th>\n",
       "      <td>27in 4K Gaming Monitor</td>\n",
       "      <td>6239</td>\n",
       "      <td>389.99</td>\n",
       "    </tr>\n",
       "  </tbody>\n",
       "</table>\n",
       "</div>"
      ],
      "text/plain": [
       "                  Product  Quantity Ordered  Price Each\n",
       "0            20in Monitor              4126      109.99\n",
       "1  27in 4K Gaming Monitor              6239      389.99"
      ]
     },
     "execution_count": 34,
     "metadata": {},
     "output_type": "execute_result"
    }
   ],
   "source": [
    "count_df.head(2)"
   ]
  },
  {
   "cell_type": "code",
   "execution_count": null,
   "metadata": {},
   "outputs": [],
   "source": [
    "'''\n",
    "\n",
    "When we say twin axes, it means a figure can have dual x or y-axes.\n",
    "plt.twinx() : function which is used to create a twin Axes \n",
    "                that are sharing the x-axis..\n",
    "\n",
    "Similarly, the function twiny() is used to create a second x axis \n",
    "            in your figure, which means twiny() sharing the y-axis.\n",
    "\n",
    "\n",
    "\n",
    "\n",
    "\n",
    "Note : The twinx() and twiny() functions are used when you want \n",
    "        multiple plots in a single figure...\n",
    "\n",
    "    \n",
    "\n",
    "'''"
   ]
  },
  {
   "cell_type": "code",
   "execution_count": 67,
   "metadata": {},
   "outputs": [
    {
     "name": "stderr",
     "output_type": "stream",
     "text": [
      "<ipython-input-67-aae0e2a7fe2a>:8: UserWarning: FixedFormatter should only be used together with FixedLocator\n",
      "  ax1.set_xticklabels(products, rotation='vertical', size=8)\n"
     ]
    },
    {
     "data": {
      "text/plain": [
       "Text(0, 0.5, 'Avg_price of product')"
      ]
     },
     "execution_count": 67,
     "metadata": {},
     "output_type": "execute_result"
    },
    {
     "data": {
      "image/png": "[encoded data removed]",
      "text/plain": [
       "<Figure size 720x432 with 2 Axes>"
      ]
     },
     "metadata": {
      "needs_background": "light"
     },
     "output_type": "display_data"
    }
   ],
   "source": [
    "### zoom-in your graph , use figsize=(10,6) inside subplots\n",
    "\n",
    "fig,ax1 = plt.subplots(figsize=(10,6))\n",
    "ax2 = ax1.twinx() \n",
    "## as Products are same for both plots , ie we are sharing x-axis , \n",
    "## ie we have to use ax2 = ax1.twinx()\n",
    "\n",
    "ax1.bar(count_df['Product'], count_df['Quantity Ordered'], color='g')\n",
    "ax2.plot(count_df['Product'], count_df['Price Each'], 'b-')\n",
    "ax1.set_xticklabels(products, rotation='vertical', size=8)\n",
    "\n",
    "ax1.set_ylabel('Order_count' , fontsize = 20)\n",
    "ax2.set_ylabel('Avg_price of product' , fontsize = 16)"
   ]
  },
  {
   "cell_type": "code",
   "execution_count": null,
   "metadata": {},
   "outputs": [],
   "source": [
    "'''\n",
    "\n",
    "Insights : \n",
    "\n",
    "The top selling product is 'AAA Batteries'. \n",
    "The top selling products seems to have a correlation with the \n",
    "price of the product. \n",
    "\n",
    "The cheaper the product higher the quantity ordered and vice versa.\n",
    "\n",
    "\n",
    "\n",
    "'''"
   ]
  },
  {
   "cell_type": "code",
   "execution_count": null,
   "metadata": {},
   "outputs": [],
   "source": []
  },
  {
   "cell_type": "code",
   "execution_count": null,
   "metadata": {},
   "outputs": [],
   "source": []
  },
  {
   "cell_type": "code",
   "execution_count": 52,
   "metadata": {},
   "outputs": [],
   "source": []
  },
  {
   "cell_type": "code",
   "execution_count": null,
   "metadata": {},
   "outputs": [],
   "source": []
  },
  {
   "cell_type": "code",
   "execution_count": null,
   "metadata": {},
   "outputs": [],
   "source": []
  },
  {
   "cell_type": "code",
   "execution_count": null,
   "metadata": {},
   "outputs": [],
   "source": []
  },
  {
   "cell_type": "markdown",
   "metadata": {},
   "source": [
    "## 5.. Understanding Trend of the most sold product ? "
   ]
  },
  {
   "cell_type": "code",
   "execution_count": 35,
   "metadata": {},
   "outputs": [
    {
     "data": {
      "text/plain": [
       "Index(['USB-C Charging Cable', 'Lightning Charging Cable',\n",
       "       'AAA Batteries (4-pack)', 'AA Batteries (4-pack)', 'Wired Headphones'],\n",
       "      dtype='object')"
      ]
     },
     "execution_count": 35,
     "metadata": {},
     "output_type": "execute_result"
    }
   ],
   "source": [
    "all_data['Product'].value_counts()[0:5].index "
   ]
  },
  {
   "cell_type": "code",
   "execution_count": 36,
   "metadata": {},
   "outputs": [],
   "source": [
    "most_sold_product = all_data[all_data['Product'].isin(\n",
    "        ['USB-C Charging Cable', 'Lightning Charging Cable',\n",
    "       'AAA Batteries (4-pack)', 'AA Batteries (4-pack)', \n",
    "         'Wired Headphones'])]"
   ]
  },
  {
   "cell_type": "markdown",
   "metadata": {},
   "source": [
    "#### Ways to create pivot_table :\n",
    "    using unstack() on top of groupby\n",
    "    using pd.pivot_Table()\n",
    "    using pd.crosstab()"
   ]
  },
  {
   "cell_type": "code",
   "execution_count": null,
   "metadata": {},
   "outputs": [],
   "source": [
    "#### Since we have learnt how to create frequency table or \n",
    "#### pivot table using crosstab() in zomato case- study , \n",
    "##  lets learn how to do it using groupby + unstack()"
   ]
  },
  {
   "cell_type": "code",
   "execution_count": null,
   "metadata": {},
   "outputs": [],
   "source": [
    "##### simplest way of creating pivot tables,\n",
    "\n",
    "## first of all call groupby on 2 columns so that we will get groups \n",
    "## most_sold_product.groupby(['Month' , 'Product']).size() , \n",
    "## now \"weekday\" becomes rows and \"hour\" becomes cols\n",
    "## & then call unstack"
   ]
  },
  {
   "cell_type": "code",
   "execution_count": 37,
   "metadata": {},
   "outputs": [
    {
     "data": {
      "text/html": [
       "<div>\n",
       "<style scoped>\n",
       "    .dataframe tbody tr th:only-of-type {\n",
       "        vertical-align: middle;\n",
       "    }\n",
       "\n",
       "    .dataframe tbody tr th {\n",
       "        vertical-align: top;\n",
       "    }\n",
       "\n",
       "    .dataframe thead th {\n",
       "        text-align: right;\n",
       "    }\n",
       "</style>\n",
       "<table border=\"1\" class=\"dataframe\">\n",
       "  <thead>\n",
       "    <tr style=\"text-align: right;\">\n",
       "      <th>Product</th>\n",
       "      <th>AA Batteries (4-pack)</th>\n",
       "      <th>AAA Batteries (4-pack)</th>\n",
       "      <th>Lightning Charging Cable</th>\n",
       "      <th>USB-C Charging Cable</th>\n",
       "      <th>Wired Headphones</th>\n",
       "    </tr>\n",
       "    <tr>\n",
       "      <th>Month</th>\n",
       "      <th></th>\n",
       "      <th></th>\n",
       "      <th></th>\n",
       "      <th></th>\n",
       "      <th></th>\n",
       "    </tr>\n",
       "  </thead>\n",
       "  <tbody>\n",
       "    <tr>\n",
       "      <th>1</th>\n",
       "      <td>1037</td>\n",
       "      <td>1084</td>\n",
       "      <td>1069</td>\n",
       "      <td>1171</td>\n",
       "      <td>1004</td>\n",
       "    </tr>\n",
       "    <tr>\n",
       "      <th>2</th>\n",
       "      <td>1274</td>\n",
       "      <td>1320</td>\n",
       "      <td>1393</td>\n",
       "      <td>1511</td>\n",
       "      <td>1179</td>\n",
       "    </tr>\n",
       "    <tr>\n",
       "      <th>3</th>\n",
       "      <td>1672</td>\n",
       "      <td>1645</td>\n",
       "      <td>1749</td>\n",
       "      <td>1766</td>\n",
       "      <td>1512</td>\n",
       "    </tr>\n",
       "    <tr>\n",
       "      <th>4</th>\n",
       "      <td>2062</td>\n",
       "      <td>1988</td>\n",
       "      <td>2197</td>\n",
       "      <td>2074</td>\n",
       "      <td>1888</td>\n",
       "    </tr>\n",
       "    <tr>\n",
       "      <th>5</th>\n",
       "      <td>1821</td>\n",
       "      <td>1888</td>\n",
       "      <td>1929</td>\n",
       "      <td>1879</td>\n",
       "      <td>1729</td>\n",
       "    </tr>\n",
       "    <tr>\n",
       "      <th>6</th>\n",
       "      <td>1540</td>\n",
       "      <td>1451</td>\n",
       "      <td>1560</td>\n",
       "      <td>1531</td>\n",
       "      <td>1334</td>\n",
       "    </tr>\n",
       "    <tr>\n",
       "      <th>7</th>\n",
       "      <td>1555</td>\n",
       "      <td>1554</td>\n",
       "      <td>1690</td>\n",
       "      <td>1667</td>\n",
       "      <td>1434</td>\n",
       "    </tr>\n",
       "    <tr>\n",
       "      <th>8</th>\n",
       "      <td>1357</td>\n",
       "      <td>1340</td>\n",
       "      <td>1354</td>\n",
       "      <td>1339</td>\n",
       "      <td>1191</td>\n",
       "    </tr>\n",
       "    <tr>\n",
       "      <th>9</th>\n",
       "      <td>1314</td>\n",
       "      <td>1281</td>\n",
       "      <td>1324</td>\n",
       "      <td>1451</td>\n",
       "      <td>1173</td>\n",
       "    </tr>\n",
       "    <tr>\n",
       "      <th>10</th>\n",
       "      <td>2240</td>\n",
       "      <td>2234</td>\n",
       "      <td>2414</td>\n",
       "      <td>2437</td>\n",
       "      <td>2091</td>\n",
       "    </tr>\n",
       "    <tr>\n",
       "      <th>11</th>\n",
       "      <td>1970</td>\n",
       "      <td>1999</td>\n",
       "      <td>2044</td>\n",
       "      <td>2054</td>\n",
       "      <td>1777</td>\n",
       "    </tr>\n",
       "    <tr>\n",
       "      <th>12</th>\n",
       "      <td>2716</td>\n",
       "      <td>2828</td>\n",
       "      <td>2887</td>\n",
       "      <td>2979</td>\n",
       "      <td>2537</td>\n",
       "    </tr>\n",
       "  </tbody>\n",
       "</table>\n",
       "</div>"
      ],
      "text/plain": [
       "Product  AA Batteries (4-pack)  AAA Batteries (4-pack)  \\\n",
       "Month                                                    \n",
       "1                         1037                    1084   \n",
       "2                         1274                    1320   \n",
       "3                         1672                    1645   \n",
       "4                         2062                    1988   \n",
       "5                         1821                    1888   \n",
       "6                         1540                    1451   \n",
       "7                         1555                    1554   \n",
       "8                         1357                    1340   \n",
       "9                         1314                    1281   \n",
       "10                        2240                    2234   \n",
       "11                        1970                    1999   \n",
       "12                        2716                    2828   \n",
       "\n",
       "Product  Lightning Charging Cable  USB-C Charging Cable  Wired Headphones  \n",
       "Month                                                                      \n",
       "1                            1069                  1171              1004  \n",
       "2                            1393                  1511              1179  \n",
       "3                            1749                  1766              1512  \n",
       "4                            2197                  2074              1888  \n",
       "5                            1929                  1879              1729  \n",
       "6                            1560                  1531              1334  \n",
       "7                            1690                  1667              1434  \n",
       "8                            1354                  1339              1191  \n",
       "9                            1324                  1451              1173  \n",
       "10                           2414                  2437              2091  \n",
       "11                           2044                  2054              1777  \n",
       "12                           2887                  2979              2537  "
      ]
     },
     "execution_count": 37,
     "metadata": {},
     "output_type": "execute_result"
    }
   ],
   "source": [
    "most_sold_product.groupby(['Month' , 'Product']).size().unstack()\n",
    "\n",
    "## pd.crosstab(most_sold_product['Month'],most_sold_product['Product'])"
   ]
  },
  {
   "cell_type": "code",
   "execution_count": 133,
   "metadata": {},
   "outputs": [
    {
     "data": {
      "text/plain": [
       "<AxesSubplot:xlabel='Month'>"
      ]
     },
     "execution_count": 133,
     "metadata": {},
     "output_type": "execute_result"
    },
    {
     "data": {
      "image/png": "[encoded data removed]",
      "text/plain": [
       "<Figure size 864x432 with 1 Axes>"
      ]
     },
     "metadata": {
      "needs_background": "light"
     },
     "output_type": "display_data"
    }
   ],
   "source": [
    "most_sold_product.groupby(['Month' , 'Product']).size().\\\n",
    "                        unstack().plot(figsize=(12,6))"
   ]
  },
  {
   "cell_type": "code",
   "execution_count": null,
   "metadata": {},
   "outputs": [],
   "source": []
  },
  {
   "cell_type": "code",
   "execution_count": null,
   "metadata": {},
   "outputs": [],
   "source": []
  },
  {
   "cell_type": "code",
   "execution_count": null,
   "metadata": {},
   "outputs": [],
   "source": []
  },
  {
   "cell_type": "code",
   "execution_count": null,
   "metadata": {},
   "outputs": [],
   "source": []
  },
  {
   "cell_type": "markdown",
   "metadata": {},
   "source": [
    "## 6.. What products are most often sold together ?\n",
    "        keep orders that have same order Id, are sold mostly together ..\n",
    "        Approach : ie keep duplicated data "
   ]
  },
  {
   "cell_type": "code",
   "execution_count": 38,
   "metadata": {},
   "outputs": [
    {
     "data": {
      "text/plain": [
       "(185686, 9)"
      ]
     },
     "execution_count": 38,
     "metadata": {},
     "output_type": "execute_result"
    }
   ],
   "source": [
    "all_data.shape"
   ]
  },
  {
   "cell_type": "code",
   "execution_count": 39,
   "metadata": {},
   "outputs": [
    {
     "data": {
      "text/plain": [
       "0         False\n",
       "2         False\n",
       "3          True\n",
       "4          True\n",
       "5         False\n",
       "          ...  \n",
       "186845    False\n",
       "186846    False\n",
       "186847    False\n",
       "186848    False\n",
       "186849    False\n",
       "Name: Order ID, Length: 185686, dtype: bool"
      ]
     },
     "execution_count": 39,
     "metadata": {},
     "output_type": "execute_result"
    }
   ],
   "source": [
    "all_data['Order ID'].duplicated(keep=False)\n",
    "\n",
    "## Where-ever it is True , ie that instance is duplicated "
   ]
  },
  {
   "cell_type": "code",
   "execution_count": 40,
   "metadata": {},
   "outputs": [],
   "source": [
    "df_duplicated = all_data[all_data['Order ID'].duplicated(keep=False)]"
   ]
  },
  {
   "cell_type": "code",
   "execution_count": 41,
   "metadata": {},
   "outputs": [
    {
     "data": {
      "text/plain": [
       "(14128, 9)"
      ]
     },
     "execution_count": 41,
     "metadata": {},
     "output_type": "execute_result"
    }
   ],
   "source": [
    "df_duplicated.shape"
   ]
  },
  {
   "cell_type": "code",
   "execution_count": 42,
   "metadata": {},
   "outputs": [
    {
     "data": {
      "text/html": [
       "<div>\n",
       "<style scoped>\n",
       "    .dataframe tbody tr th:only-of-type {\n",
       "        vertical-align: middle;\n",
       "    }\n",
       "\n",
       "    .dataframe tbody tr th {\n",
       "        vertical-align: top;\n",
       "    }\n",
       "\n",
       "    .dataframe thead th {\n",
       "        text-align: right;\n",
       "    }\n",
       "</style>\n",
       "<table border=\"1\" class=\"dataframe\">\n",
       "  <thead>\n",
       "    <tr style=\"text-align: right;\">\n",
       "      <th></th>\n",
       "      <th>Order ID</th>\n",
       "      <th>Product</th>\n",
       "      <th>Quantity Ordered</th>\n",
       "      <th>Price Each</th>\n",
       "      <th>Order Date</th>\n",
       "      <th>Purchase Address</th>\n",
       "      <th>Month</th>\n",
       "      <th>sales</th>\n",
       "      <th>city</th>\n",
       "    </tr>\n",
       "  </thead>\n",
       "  <tbody>\n",
       "    <tr>\n",
       "      <th>3</th>\n",
       "      <td>176560</td>\n",
       "      <td>Google Phone</td>\n",
       "      <td>1</td>\n",
       "      <td>600.00</td>\n",
       "      <td>04/12/19 14:38</td>\n",
       "      <td>669 Spruce St, Los Angeles, CA 90001</td>\n",
       "      <td>4</td>\n",
       "      <td>600.00</td>\n",
       "      <td>Los Angeles</td>\n",
       "    </tr>\n",
       "    <tr>\n",
       "      <th>4</th>\n",
       "      <td>176560</td>\n",
       "      <td>Wired Headphones</td>\n",
       "      <td>1</td>\n",
       "      <td>11.99</td>\n",
       "      <td>04/12/19 14:38</td>\n",
       "      <td>669 Spruce St, Los Angeles, CA 90001</td>\n",
       "      <td>4</td>\n",
       "      <td>11.99</td>\n",
       "      <td>Los Angeles</td>\n",
       "    </tr>\n",
       "    <tr>\n",
       "      <th>18</th>\n",
       "      <td>176574</td>\n",
       "      <td>Google Phone</td>\n",
       "      <td>1</td>\n",
       "      <td>600.00</td>\n",
       "      <td>04/03/19 19:42</td>\n",
       "      <td>20 Hill St, Los Angeles, CA 90001</td>\n",
       "      <td>4</td>\n",
       "      <td>600.00</td>\n",
       "      <td>Los Angeles</td>\n",
       "    </tr>\n",
       "  </tbody>\n",
       "</table>\n",
       "</div>"
      ],
      "text/plain": [
       "   Order ID           Product  Quantity Ordered  Price Each      Order Date  \\\n",
       "3    176560      Google Phone                 1      600.00  04/12/19 14:38   \n",
       "4    176560  Wired Headphones                 1       11.99  04/12/19 14:38   \n",
       "18   176574      Google Phone                 1      600.00  04/03/19 19:42   \n",
       "\n",
       "                        Purchase Address  Month   sales          city  \n",
       "3   669 Spruce St, Los Angeles, CA 90001      4  600.00   Los Angeles  \n",
       "4   669 Spruce St, Los Angeles, CA 90001      4   11.99   Los Angeles  \n",
       "18     20 Hill St, Los Angeles, CA 90001      4  600.00   Los Angeles  "
      ]
     },
     "execution_count": 42,
     "metadata": {},
     "output_type": "execute_result"
    }
   ],
   "source": [
    "df_duplicated.head(3)"
   ]
  },
  {
   "cell_type": "code",
   "execution_count": null,
   "metadata": {},
   "outputs": [],
   "source": [
    "'''\n",
    "\n",
    "keep='first' (default): return duplicates except for the \n",
    "                first occurrence.\n",
    "\n",
    "keep='last': return duplicates except for the last occurrence.\n",
    "\n",
    "keep=False: return all duplicates.\n",
    "\n",
    "'''"
   ]
  },
  {
   "cell_type": "code",
   "execution_count": null,
   "metadata": {},
   "outputs": [],
   "source": []
  },
  {
   "cell_type": "code",
   "execution_count": 43,
   "metadata": {},
   "outputs": [
    {
     "data": {
      "text/plain": [
       "Order ID\n",
       "141275              USB-C Charging Cable,Wired Headphones\n",
       "141290     Apple Airpods Headphones,AA Batteries (4-pack)\n",
       "141365                   Vareebadd Phone,Wired Headphones\n",
       "141384                  Google Phone,USB-C Charging Cable\n",
       "141450            Google Phone,Bose SoundSport Headphones\n",
       "                               ...                       \n",
       "319536                Macbook Pro Laptop,Wired Headphones\n",
       "319556                      Google Phone,Wired Headphones\n",
       "319584                            iPhone,Wired Headphones\n",
       "319596                    iPhone,Lightning Charging Cable\n",
       "319631    34in Ultrawide Monitor,Lightning Charging Cable\n",
       "Name: Product, Length: 6879, dtype: object"
      ]
     },
     "execution_count": 43,
     "metadata": {},
     "output_type": "execute_result"
    }
   ],
   "source": [
    "df_duplicated.groupby('Order ID')['Product'].apply(lambda x: ','.join(x))\n",
    "\n",
    "## df_duplicated.groupby('Order ID')['Product'].apply(lambda x: ','.join(x))"
   ]
  },
  {
   "cell_type": "code",
   "execution_count": null,
   "metadata": {},
   "outputs": [],
   "source": []
  },
  {
   "cell_type": "code",
   "execution_count": 44,
   "metadata": {},
   "outputs": [],
   "source": [
    "dup_products = df_duplicated.groupby('Order ID')['Product']\\\n",
    "                .apply(lambda x: ','.join(x)).reset_index().\\\n",
    "                rename(columns={'Product':'Grouped_products'})"
   ]
  },
  {
   "cell_type": "code",
   "execution_count": 45,
   "metadata": {},
   "outputs": [
    {
     "data": {
      "text/html": [
       "<div>\n",
       "<style scoped>\n",
       "    .dataframe tbody tr th:only-of-type {\n",
       "        vertical-align: middle;\n",
       "    }\n",
       "\n",
       "    .dataframe tbody tr th {\n",
       "        vertical-align: top;\n",
       "    }\n",
       "\n",
       "    .dataframe thead th {\n",
       "        text-align: right;\n",
       "    }\n",
       "</style>\n",
       "<table border=\"1\" class=\"dataframe\">\n",
       "  <thead>\n",
       "    <tr style=\"text-align: right;\">\n",
       "      <th></th>\n",
       "      <th>Order ID</th>\n",
       "      <th>Grouped_products</th>\n",
       "    </tr>\n",
       "  </thead>\n",
       "  <tbody>\n",
       "    <tr>\n",
       "      <th>0</th>\n",
       "      <td>141275</td>\n",
       "      <td>USB-C Charging Cable,Wired Headphones</td>\n",
       "    </tr>\n",
       "    <tr>\n",
       "      <th>1</th>\n",
       "      <td>141290</td>\n",
       "      <td>Apple Airpods Headphones,AA Batteries (4-pack)</td>\n",
       "    </tr>\n",
       "  </tbody>\n",
       "</table>\n",
       "</div>"
      ],
      "text/plain": [
       "  Order ID                                Grouped_products\n",
       "0   141275           USB-C Charging Cable,Wired Headphones\n",
       "1   141290  Apple Airpods Headphones,AA Batteries (4-pack)"
      ]
     },
     "execution_count": 45,
     "metadata": {},
     "output_type": "execute_result"
    }
   ],
   "source": [
    "dup_products.head(2)"
   ]
  },
  {
   "cell_type": "code",
   "execution_count": 46,
   "metadata": {},
   "outputs": [],
   "source": [
    "dup_products_df = df_duplicated.merge(dup_products , \\\n",
    "                      how = 'left' , on = 'Order ID')"
   ]
  },
  {
   "cell_type": "code",
   "execution_count": 47,
   "metadata": {},
   "outputs": [
    {
     "data": {
      "text/html": [
       "<div>\n",
       "<style scoped>\n",
       "    .dataframe tbody tr th:only-of-type {\n",
       "        vertical-align: middle;\n",
       "    }\n",
       "\n",
       "    .dataframe tbody tr th {\n",
       "        vertical-align: top;\n",
       "    }\n",
       "\n",
       "    .dataframe thead th {\n",
       "        text-align: right;\n",
       "    }\n",
       "</style>\n",
       "<table border=\"1\" class=\"dataframe\">\n",
       "  <thead>\n",
       "    <tr style=\"text-align: right;\">\n",
       "      <th></th>\n",
       "      <th>Order ID</th>\n",
       "      <th>Product</th>\n",
       "      <th>Quantity Ordered</th>\n",
       "      <th>Price Each</th>\n",
       "      <th>Order Date</th>\n",
       "      <th>Purchase Address</th>\n",
       "      <th>Month</th>\n",
       "      <th>sales</th>\n",
       "      <th>city</th>\n",
       "      <th>Grouped_products</th>\n",
       "    </tr>\n",
       "  </thead>\n",
       "  <tbody>\n",
       "    <tr>\n",
       "      <th>0</th>\n",
       "      <td>176560</td>\n",
       "      <td>Google Phone</td>\n",
       "      <td>1</td>\n",
       "      <td>600.00</td>\n",
       "      <td>04/12/19 14:38</td>\n",
       "      <td>669 Spruce St, Los Angeles, CA 90001</td>\n",
       "      <td>4</td>\n",
       "      <td>600.00</td>\n",
       "      <td>Los Angeles</td>\n",
       "      <td>Google Phone,Wired Headphones</td>\n",
       "    </tr>\n",
       "    <tr>\n",
       "      <th>1</th>\n",
       "      <td>176560</td>\n",
       "      <td>Wired Headphones</td>\n",
       "      <td>1</td>\n",
       "      <td>11.99</td>\n",
       "      <td>04/12/19 14:38</td>\n",
       "      <td>669 Spruce St, Los Angeles, CA 90001</td>\n",
       "      <td>4</td>\n",
       "      <td>11.99</td>\n",
       "      <td>Los Angeles</td>\n",
       "      <td>Google Phone,Wired Headphones</td>\n",
       "    </tr>\n",
       "  </tbody>\n",
       "</table>\n",
       "</div>"
      ],
      "text/plain": [
       "  Order ID           Product  Quantity Ordered  Price Each      Order Date  \\\n",
       "0   176560      Google Phone                 1      600.00  04/12/19 14:38   \n",
       "1   176560  Wired Headphones                 1       11.99  04/12/19 14:38   \n",
       "\n",
       "                       Purchase Address  Month   sales          city  \\\n",
       "0  669 Spruce St, Los Angeles, CA 90001      4  600.00   Los Angeles   \n",
       "1  669 Spruce St, Los Angeles, CA 90001      4   11.99   Los Angeles   \n",
       "\n",
       "                Grouped_products  \n",
       "0  Google Phone,Wired Headphones  \n",
       "1  Google Phone,Wired Headphones  "
      ]
     },
     "execution_count": 47,
     "metadata": {},
     "output_type": "execute_result"
    }
   ],
   "source": [
    "dup_products_df.head(2)"
   ]
  },
  {
   "cell_type": "code",
   "execution_count": null,
   "metadata": {},
   "outputs": [],
   "source": []
  },
  {
   "cell_type": "code",
   "execution_count": null,
   "metadata": {},
   "outputs": [],
   "source": []
  },
  {
   "cell_type": "code",
   "execution_count": 49,
   "metadata": {},
   "outputs": [
    {
     "data": {
      "text/plain": [
       "(14128, 9)"
      ]
     },
     "execution_count": 49,
     "metadata": {},
     "output_type": "execute_result"
    }
   ],
   "source": [
    "df_duplicated.shape"
   ]
  },
  {
   "cell_type": "code",
   "execution_count": 50,
   "metadata": {},
   "outputs": [],
   "source": [
    "# lets drop out all duplicate Order ID\n",
    "no_dup_df = dup_products_df.drop_duplicates(subset=['Order ID'])"
   ]
  },
  {
   "cell_type": "code",
   "execution_count": 96,
   "metadata": {},
   "outputs": [
    {
     "data": {
      "text/plain": [
       "<AxesSubplot:ylabel='Grouped_products'>"
      ]
     },
     "execution_count": 96,
     "metadata": {},
     "output_type": "execute_result"
    },
    {
     "data": {
      "image/png": "[encoded data removed]",
      "text/plain": [
       "<Figure size 432x288 with 1 Axes>"
      ]
     },
     "metadata": {},
     "output_type": "display_data"
    }
   ],
   "source": [
    "no_dup_df['Grouped_products'].value_counts()[0:5].plot.pie()"
   ]
  },
  {
   "cell_type": "code",
   "execution_count": null,
   "metadata": {},
   "outputs": [],
   "source": [
    "'''\n",
    "ie as soon as any Person will bought Iphone , we can recommend\n",
    "him charging cable , wired headphones \n",
    "ie as soon as any Person will bought Google phone , we can \n",
    "recommend him USB-c charging cable\n",
    "\n",
    "\n",
    "This is a very important insight if someone is building \n",
    "recommendation system ..\n",
    "\n",
    "'''"
   ]
  },
  {
   "cell_type": "code",
   "execution_count": 99,
   "metadata": {},
   "outputs": [],
   "source": [
    "import plotly.graph_objs as go\n",
    "from plotly.offline import iplot"
   ]
  },
  {
   "cell_type": "code",
   "execution_count": 97,
   "metadata": {},
   "outputs": [],
   "source": [
    "values = no_dup_df['Grouped_products'].value_counts()\\\n",
    "                                        [0:5].values\n",
    "\n",
    "labels = no_dup_df['Grouped_products'].value_counts()\\\n",
    "                                        [0:5].index"
   ]
  },
  {
   "cell_type": "code",
   "execution_count": 100,
   "metadata": {},
   "outputs": [],
   "source": [
    "trace = go.Pie(labels = labels, values = values,\n",
    "               hoverinfo = 'label+percent',textinfo ='value', \n",
    "               textfont = dict(size=25),\n",
    "              pull = [0, 0, 0,0.2, 0]\n",
    "               )"
   ]
  },
  {
   "cell_type": "code",
   "execution_count": null,
   "metadata": {},
   "outputs": [],
   "source": [
    "## iplot([trace])"
   ]
  },
  {
   "cell_type": "code",
   "execution_count": null,
   "metadata": {},
   "outputs": [],
   "source": []
  },
  {
   "cell_type": "code",
   "execution_count": null,
   "metadata": {},
   "outputs": [],
   "source": []
  },
  {
   "cell_type": "code",
   "execution_count": null,
   "metadata": {},
   "outputs": [],
   "source": []
  },
  {
   "cell_type": "code",
   "execution_count": null,
   "metadata": {},
   "outputs": [],
   "source": []
  },
  {
   "cell_type": "code",
   "execution_count": null,
   "metadata": {},
   "outputs": [],
   "source": []
  },
  {
   "cell_type": "code",
   "execution_count": null,
   "metadata": {},
   "outputs": [],
   "source": [
    "## Performing pairwise analysis to find most sold product !\n",
    "## Performing pairwise analysis to find which pair has most sale..\n",
    "\n",
    "## use groupby+unstack+heatmap/pd.pivot_table()/pd.crosstab()\n",
    "## In which pairs of (year,month) most of the product will get sold ..\n",
    "## In which pairs of (month, day) most of the product will get sold ..\n",
    "## In which pairs of ( day, hour) most of the product will get sold ..\n",
    "\n"
   ]
  },
  {
   "cell_type": "code",
   "execution_count": null,
   "metadata": {},
   "outputs": [],
   "source": []
  },
  {
   "cell_type": "code",
   "execution_count": null,
   "metadata": {},
   "outputs": [],
   "source": []
  },
  {
   "cell_type": "markdown",
   "metadata": {},
   "source": [
    "## 7.. Performing Pairwise Analysis \n",
    "       In which pairs of (month, day) most of the product will get sold .."
   ]
  },
  {
   "cell_type": "code",
   "execution_count": 109,
   "metadata": {},
   "outputs": [],
   "source": [
    "all_data['Order Date'] = pd.to_datetime(all_data['Order Date']) ## takes 1 min "
   ]
  },
  {
   "cell_type": "code",
   "execution_count": 111,
   "metadata": {},
   "outputs": [
    {
     "data": {
      "text/plain": [
       "{'cat', 'dt', 'sparse', 'str'}"
      ]
     },
     "execution_count": 111,
     "metadata": {},
     "output_type": "execute_result"
    }
   ],
   "source": [
    "pd.Series._accessors\n",
    "\n",
    "### various accessors of Series !\n",
    "### ie 'dt' is one of the accessors :\n",
    "\n",
    "### datetime is callable as ‘dt’ (as imported)"
   ]
  },
  {
   "cell_type": "code",
   "execution_count": 114,
   "metadata": {},
   "outputs": [
    {
     "data": {
      "text/plain": [
       "0           Friday\n",
       "2           Sunday\n",
       "3           Friday\n",
       "4           Friday\n",
       "5          Tuesday\n",
       "            ...   \n",
       "186845     Tuesday\n",
       "186846      Sunday\n",
       "186847      Monday\n",
       "186848    Thursday\n",
       "186849      Monday\n",
       "Name: Order Date, Length: 185950, dtype: object"
      ]
     },
     "execution_count": 114,
     "metadata": {},
     "output_type": "execute_result"
    }
   ],
   "source": [
    "all_data['Order Date'].dt.day_name()"
   ]
  },
  {
   "cell_type": "code",
   "execution_count": null,
   "metadata": {},
   "outputs": [],
   "source": []
  },
  {
   "cell_type": "code",
   "execution_count": 115,
   "metadata": {},
   "outputs": [],
   "source": [
    "all_data['year'] = all_data['Order Date'].dt.year\n",
    "all_data['month'] = all_data['Order Date'].dt.month\n",
    "all_data['day'] = all_data['Order Date'].dt.day\n",
    "\n",
    "\n",
    "all_data['hour'] = all_data['Order Date'].dt.hour\n",
    "all_data['minute'] = all_data['Order Date'].dt.minute\n",
    "all_data['day_name'] = all_data['Order Date'].dt.day_name()"
   ]
  },
  {
   "cell_type": "code",
   "execution_count": 116,
   "metadata": {},
   "outputs": [
    {
     "data": {
      "text/html": [
       "<div>\n",
       "<style scoped>\n",
       "    .dataframe tbody tr th:only-of-type {\n",
       "        vertical-align: middle;\n",
       "    }\n",
       "\n",
       "    .dataframe tbody tr th {\n",
       "        vertical-align: top;\n",
       "    }\n",
       "\n",
       "    .dataframe thead th {\n",
       "        text-align: right;\n",
       "    }\n",
       "</style>\n",
       "<table border=\"1\" class=\"dataframe\">\n",
       "  <thead>\n",
       "    <tr style=\"text-align: right;\">\n",
       "      <th></th>\n",
       "      <th>Order ID</th>\n",
       "      <th>Product</th>\n",
       "      <th>Quantity Ordered</th>\n",
       "      <th>Price Each</th>\n",
       "      <th>Order Date</th>\n",
       "      <th>Purchase Address</th>\n",
       "      <th>Month</th>\n",
       "      <th>sales</th>\n",
       "      <th>city</th>\n",
       "      <th>year</th>\n",
       "      <th>month</th>\n",
       "      <th>day</th>\n",
       "      <th>hour</th>\n",
       "      <th>minute</th>\n",
       "      <th>day_name</th>\n",
       "    </tr>\n",
       "  </thead>\n",
       "  <tbody>\n",
       "    <tr>\n",
       "      <th>0</th>\n",
       "      <td>176558</td>\n",
       "      <td>USB-C Charging Cable</td>\n",
       "      <td>2</td>\n",
       "      <td>11.95</td>\n",
       "      <td>2019-04-19 08:46:00</td>\n",
       "      <td>917 1st St, Dallas, TX 75001</td>\n",
       "      <td>4</td>\n",
       "      <td>23.9</td>\n",
       "      <td>Dallas</td>\n",
       "      <td>2019</td>\n",
       "      <td>4</td>\n",
       "      <td>19</td>\n",
       "      <td>8</td>\n",
       "      <td>46</td>\n",
       "      <td>Friday</td>\n",
       "    </tr>\n",
       "  </tbody>\n",
       "</table>\n",
       "</div>"
      ],
      "text/plain": [
       "  Order ID               Product  Quantity Ordered  Price Each  \\\n",
       "0   176558  USB-C Charging Cable                 2       11.95   \n",
       "\n",
       "           Order Date              Purchase Address  Month  sales     city  \\\n",
       "0 2019-04-19 08:46:00  917 1st St, Dallas, TX 75001      4   23.9   Dallas   \n",
       "\n",
       "   year  month  day  hour  minute day_name  \n",
       "0  2019      4   19     8      46   Friday  "
      ]
     },
     "execution_count": 116,
     "metadata": {},
     "output_type": "execute_result"
    }
   ],
   "source": [
    "all_data.head(1)"
   ]
  },
  {
   "cell_type": "code",
   "execution_count": null,
   "metadata": {},
   "outputs": [],
   "source": []
  },
  {
   "cell_type": "markdown",
   "metadata": {},
   "source": [
    "#### Ways to create pivot_table :\n",
    "    using unstack() on top of groupby\n",
    "    using pd.pivot_Table()\n",
    "    using pd.crosstab()"
   ]
  },
  {
   "cell_type": "code",
   "execution_count": null,
   "metadata": {},
   "outputs": [],
   "source": [
    "#### Since we have learnt how to create frequency table \n",
    "## or pivot table using crosstab() in zomato case- study , \n",
    "## & we have also learnt how to make pivot table using \n",
    "## groupby + unstack() in 5th prb st. of this case-study ..\n",
    "## lets learn how to do it using pd.pivot_table() function !"
   ]
  },
  {
   "cell_type": "code",
   "execution_count": 137,
   "metadata": {},
   "outputs": [
    {
     "data": {
      "text/html": [
       "<div>\n",
       "<style scoped>\n",
       "    .dataframe tbody tr th:only-of-type {\n",
       "        vertical-align: middle;\n",
       "    }\n",
       "\n",
       "    .dataframe tbody tr th {\n",
       "        vertical-align: top;\n",
       "    }\n",
       "\n",
       "    .dataframe thead th {\n",
       "        text-align: right;\n",
       "    }\n",
       "</style>\n",
       "<table border=\"1\" class=\"dataframe\">\n",
       "  <thead>\n",
       "    <tr style=\"text-align: right;\">\n",
       "      <th>day</th>\n",
       "      <th>1</th>\n",
       "      <th>2</th>\n",
       "      <th>3</th>\n",
       "      <th>4</th>\n",
       "      <th>5</th>\n",
       "      <th>6</th>\n",
       "      <th>7</th>\n",
       "      <th>8</th>\n",
       "      <th>9</th>\n",
       "      <th>10</th>\n",
       "      <th>...</th>\n",
       "      <th>22</th>\n",
       "      <th>23</th>\n",
       "      <th>24</th>\n",
       "      <th>25</th>\n",
       "      <th>26</th>\n",
       "      <th>27</th>\n",
       "      <th>28</th>\n",
       "      <th>29</th>\n",
       "      <th>30</th>\n",
       "      <th>31</th>\n",
       "    </tr>\n",
       "    <tr>\n",
       "      <th>month</th>\n",
       "      <th></th>\n",
       "      <th></th>\n",
       "      <th></th>\n",
       "      <th></th>\n",
       "      <th></th>\n",
       "      <th></th>\n",
       "      <th></th>\n",
       "      <th></th>\n",
       "      <th></th>\n",
       "      <th></th>\n",
       "      <th></th>\n",
       "      <th></th>\n",
       "      <th></th>\n",
       "      <th></th>\n",
       "      <th></th>\n",
       "      <th></th>\n",
       "      <th></th>\n",
       "      <th></th>\n",
       "      <th></th>\n",
       "      <th></th>\n",
       "      <th></th>\n",
       "    </tr>\n",
       "  </thead>\n",
       "  <tbody>\n",
       "    <tr>\n",
       "      <th>1</th>\n",
       "      <td>336.0</td>\n",
       "      <td>324.0</td>\n",
       "      <td>296.0</td>\n",
       "      <td>294.0</td>\n",
       "      <td>308.0</td>\n",
       "      <td>291.0</td>\n",
       "      <td>308.0</td>\n",
       "      <td>284.0</td>\n",
       "      <td>317.0</td>\n",
       "      <td>336.0</td>\n",
       "      <td>...</td>\n",
       "      <td>328.0</td>\n",
       "      <td>277.0</td>\n",
       "      <td>348.0</td>\n",
       "      <td>297.0</td>\n",
       "      <td>369.0</td>\n",
       "      <td>311.0</td>\n",
       "      <td>327.0</td>\n",
       "      <td>320.0</td>\n",
       "      <td>300.0</td>\n",
       "      <td>277.0</td>\n",
       "    </tr>\n",
       "    <tr>\n",
       "      <th>2</th>\n",
       "      <td>416.0</td>\n",
       "      <td>433.0</td>\n",
       "      <td>403.0</td>\n",
       "      <td>402.0</td>\n",
       "      <td>387.0</td>\n",
       "      <td>418.0</td>\n",
       "      <td>427.0</td>\n",
       "      <td>434.0</td>\n",
       "      <td>449.0</td>\n",
       "      <td>450.0</td>\n",
       "      <td>...</td>\n",
       "      <td>433.0</td>\n",
       "      <td>391.0</td>\n",
       "      <td>460.0</td>\n",
       "      <td>414.0</td>\n",
       "      <td>440.0</td>\n",
       "      <td>452.0</td>\n",
       "      <td>405.0</td>\n",
       "      <td>NaN</td>\n",
       "      <td>NaN</td>\n",
       "      <td>NaN</td>\n",
       "    </tr>\n",
       "    <tr>\n",
       "      <th>3</th>\n",
       "      <td>471.0</td>\n",
       "      <td>525.0</td>\n",
       "      <td>474.0</td>\n",
       "      <td>471.0</td>\n",
       "      <td>503.0</td>\n",
       "      <td>471.0</td>\n",
       "      <td>509.0</td>\n",
       "      <td>481.0</td>\n",
       "      <td>506.0</td>\n",
       "      <td>492.0</td>\n",
       "      <td>...</td>\n",
       "      <td>504.0</td>\n",
       "      <td>547.0</td>\n",
       "      <td>468.0</td>\n",
       "      <td>473.0</td>\n",
       "      <td>459.0</td>\n",
       "      <td>505.0</td>\n",
       "      <td>489.0</td>\n",
       "      <td>492.0</td>\n",
       "      <td>483.0</td>\n",
       "      <td>467.0</td>\n",
       "    </tr>\n",
       "    <tr>\n",
       "      <th>4</th>\n",
       "      <td>605.0</td>\n",
       "      <td>588.0</td>\n",
       "      <td>599.0</td>\n",
       "      <td>627.0</td>\n",
       "      <td>611.0</td>\n",
       "      <td>613.0</td>\n",
       "      <td>572.0</td>\n",
       "      <td>610.0</td>\n",
       "      <td>618.0</td>\n",
       "      <td>631.0</td>\n",
       "      <td>...</td>\n",
       "      <td>550.0</td>\n",
       "      <td>589.0</td>\n",
       "      <td>630.0</td>\n",
       "      <td>591.0</td>\n",
       "      <td>578.0</td>\n",
       "      <td>631.0</td>\n",
       "      <td>592.0</td>\n",
       "      <td>590.0</td>\n",
       "      <td>628.0</td>\n",
       "      <td>NaN</td>\n",
       "    </tr>\n",
       "    <tr>\n",
       "      <th>5</th>\n",
       "      <td>513.0</td>\n",
       "      <td>533.0</td>\n",
       "      <td>500.0</td>\n",
       "      <td>544.0</td>\n",
       "      <td>528.0</td>\n",
       "      <td>507.0</td>\n",
       "      <td>544.0</td>\n",
       "      <td>546.0</td>\n",
       "      <td>567.0</td>\n",
       "      <td>548.0</td>\n",
       "      <td>...</td>\n",
       "      <td>568.0</td>\n",
       "      <td>541.0</td>\n",
       "      <td>510.0</td>\n",
       "      <td>543.0</td>\n",
       "      <td>511.0</td>\n",
       "      <td>505.0</td>\n",
       "      <td>546.0</td>\n",
       "      <td>549.0</td>\n",
       "      <td>555.0</td>\n",
       "      <td>475.0</td>\n",
       "    </tr>\n",
       "    <tr>\n",
       "      <th>6</th>\n",
       "      <td>457.0</td>\n",
       "      <td>450.0</td>\n",
       "      <td>422.0</td>\n",
       "      <td>467.0</td>\n",
       "      <td>465.0</td>\n",
       "      <td>487.0</td>\n",
       "      <td>415.0</td>\n",
       "      <td>446.0</td>\n",
       "      <td>438.0</td>\n",
       "      <td>447.0</td>\n",
       "      <td>...</td>\n",
       "      <td>393.0</td>\n",
       "      <td>413.0</td>\n",
       "      <td>444.0</td>\n",
       "      <td>442.0</td>\n",
       "      <td>463.0</td>\n",
       "      <td>408.0</td>\n",
       "      <td>466.0</td>\n",
       "      <td>491.0</td>\n",
       "      <td>447.0</td>\n",
       "      <td>NaN</td>\n",
       "    </tr>\n",
       "    <tr>\n",
       "      <th>7</th>\n",
       "      <td>476.0</td>\n",
       "      <td>467.0</td>\n",
       "      <td>467.0</td>\n",
       "      <td>459.0</td>\n",
       "      <td>452.0</td>\n",
       "      <td>476.0</td>\n",
       "      <td>451.0</td>\n",
       "      <td>478.0</td>\n",
       "      <td>466.0</td>\n",
       "      <td>464.0</td>\n",
       "      <td>...</td>\n",
       "      <td>496.0</td>\n",
       "      <td>422.0</td>\n",
       "      <td>436.0</td>\n",
       "      <td>482.0</td>\n",
       "      <td>476.0</td>\n",
       "      <td>446.0</td>\n",
       "      <td>474.0</td>\n",
       "      <td>418.0</td>\n",
       "      <td>446.0</td>\n",
       "      <td>480.0</td>\n",
       "    </tr>\n",
       "    <tr>\n",
       "      <th>8</th>\n",
       "      <td>368.0</td>\n",
       "      <td>389.0</td>\n",
       "      <td>363.0</td>\n",
       "      <td>383.0</td>\n",
       "      <td>363.0</td>\n",
       "      <td>403.0</td>\n",
       "      <td>387.0</td>\n",
       "      <td>382.0</td>\n",
       "      <td>384.0</td>\n",
       "      <td>427.0</td>\n",
       "      <td>...</td>\n",
       "      <td>406.0</td>\n",
       "      <td>374.0</td>\n",
       "      <td>386.0</td>\n",
       "      <td>390.0</td>\n",
       "      <td>390.0</td>\n",
       "      <td>392.0</td>\n",
       "      <td>404.0</td>\n",
       "      <td>400.0</td>\n",
       "      <td>356.0</td>\n",
       "      <td>420.0</td>\n",
       "    </tr>\n",
       "    <tr>\n",
       "      <th>9</th>\n",
       "      <td>384.0</td>\n",
       "      <td>401.0</td>\n",
       "      <td>380.0</td>\n",
       "      <td>386.0</td>\n",
       "      <td>358.0</td>\n",
       "      <td>385.0</td>\n",
       "      <td>375.0</td>\n",
       "      <td>381.0</td>\n",
       "      <td>400.0</td>\n",
       "      <td>392.0</td>\n",
       "      <td>...</td>\n",
       "      <td>362.0</td>\n",
       "      <td>381.0</td>\n",
       "      <td>389.0</td>\n",
       "      <td>354.0</td>\n",
       "      <td>386.0</td>\n",
       "      <td>412.0</td>\n",
       "      <td>373.0</td>\n",
       "      <td>412.0</td>\n",
       "      <td>380.0</td>\n",
       "      <td>NaN</td>\n",
       "    </tr>\n",
       "    <tr>\n",
       "      <th>10</th>\n",
       "      <td>642.0</td>\n",
       "      <td>676.0</td>\n",
       "      <td>624.0</td>\n",
       "      <td>626.0</td>\n",
       "      <td>678.0</td>\n",
       "      <td>664.0</td>\n",
       "      <td>670.0</td>\n",
       "      <td>639.0</td>\n",
       "      <td>610.0</td>\n",
       "      <td>684.0</td>\n",
       "      <td>...</td>\n",
       "      <td>692.0</td>\n",
       "      <td>676.0</td>\n",
       "      <td>653.0</td>\n",
       "      <td>666.0</td>\n",
       "      <td>713.0</td>\n",
       "      <td>660.0</td>\n",
       "      <td>673.0</td>\n",
       "      <td>626.0</td>\n",
       "      <td>633.0</td>\n",
       "      <td>671.0</td>\n",
       "    </tr>\n",
       "    <tr>\n",
       "      <th>11</th>\n",
       "      <td>601.0</td>\n",
       "      <td>612.0</td>\n",
       "      <td>538.0</td>\n",
       "      <td>611.0</td>\n",
       "      <td>565.0</td>\n",
       "      <td>556.0</td>\n",
       "      <td>610.0</td>\n",
       "      <td>611.0</td>\n",
       "      <td>588.0</td>\n",
       "      <td>571.0</td>\n",
       "      <td>...</td>\n",
       "      <td>591.0</td>\n",
       "      <td>569.0</td>\n",
       "      <td>618.0</td>\n",
       "      <td>598.0</td>\n",
       "      <td>575.0</td>\n",
       "      <td>623.0</td>\n",
       "      <td>535.0</td>\n",
       "      <td>581.0</td>\n",
       "      <td>595.0</td>\n",
       "      <td>NaN</td>\n",
       "    </tr>\n",
       "    <tr>\n",
       "      <th>12</th>\n",
       "      <td>782.0</td>\n",
       "      <td>799.0</td>\n",
       "      <td>753.0</td>\n",
       "      <td>796.0</td>\n",
       "      <td>802.0</td>\n",
       "      <td>817.0</td>\n",
       "      <td>765.0</td>\n",
       "      <td>781.0</td>\n",
       "      <td>771.0</td>\n",
       "      <td>807.0</td>\n",
       "      <td>...</td>\n",
       "      <td>787.0</td>\n",
       "      <td>869.0</td>\n",
       "      <td>808.0</td>\n",
       "      <td>814.0</td>\n",
       "      <td>798.0</td>\n",
       "      <td>772.0</td>\n",
       "      <td>819.0</td>\n",
       "      <td>841.0</td>\n",
       "      <td>810.0</td>\n",
       "      <td>765.0</td>\n",
       "    </tr>\n",
       "  </tbody>\n",
       "</table>\n",
       "<p>12 rows × 31 columns</p>\n",
       "</div>"
      ],
      "text/plain": [
       "day       1      2      3      4      5      6      7      8      9      10  \\\n",
       "month                                                                         \n",
       "1      336.0  324.0  296.0  294.0  308.0  291.0  308.0  284.0  317.0  336.0   \n",
       "2      416.0  433.0  403.0  402.0  387.0  418.0  427.0  434.0  449.0  450.0   \n",
       "3      471.0  525.0  474.0  471.0  503.0  471.0  509.0  481.0  506.0  492.0   \n",
       "4      605.0  588.0  599.0  627.0  611.0  613.0  572.0  610.0  618.0  631.0   \n",
       "5      513.0  533.0  500.0  544.0  528.0  507.0  544.0  546.0  567.0  548.0   \n",
       "6      457.0  450.0  422.0  467.0  465.0  487.0  415.0  446.0  438.0  447.0   \n",
       "7      476.0  467.0  467.0  459.0  452.0  476.0  451.0  478.0  466.0  464.0   \n",
       "8      368.0  389.0  363.0  383.0  363.0  403.0  387.0  382.0  384.0  427.0   \n",
       "9      384.0  401.0  380.0  386.0  358.0  385.0  375.0  381.0  400.0  392.0   \n",
       "10     642.0  676.0  624.0  626.0  678.0  664.0  670.0  639.0  610.0  684.0   \n",
       "11     601.0  612.0  538.0  611.0  565.0  556.0  610.0  611.0  588.0  571.0   \n",
       "12     782.0  799.0  753.0  796.0  802.0  817.0  765.0  781.0  771.0  807.0   \n",
       "\n",
       "day    ...     22     23     24     25     26     27     28     29     30  \\\n",
       "month  ...                                                                  \n",
       "1      ...  328.0  277.0  348.0  297.0  369.0  311.0  327.0  320.0  300.0   \n",
       "2      ...  433.0  391.0  460.0  414.0  440.0  452.0  405.0    NaN    NaN   \n",
       "3      ...  504.0  547.0  468.0  473.0  459.0  505.0  489.0  492.0  483.0   \n",
       "4      ...  550.0  589.0  630.0  591.0  578.0  631.0  592.0  590.0  628.0   \n",
       "5      ...  568.0  541.0  510.0  543.0  511.0  505.0  546.0  549.0  555.0   \n",
       "6      ...  393.0  413.0  444.0  442.0  463.0  408.0  466.0  491.0  447.0   \n",
       "7      ...  496.0  422.0  436.0  482.0  476.0  446.0  474.0  418.0  446.0   \n",
       "8      ...  406.0  374.0  386.0  390.0  390.0  392.0  404.0  400.0  356.0   \n",
       "9      ...  362.0  381.0  389.0  354.0  386.0  412.0  373.0  412.0  380.0   \n",
       "10     ...  692.0  676.0  653.0  666.0  713.0  660.0  673.0  626.0  633.0   \n",
       "11     ...  591.0  569.0  618.0  598.0  575.0  623.0  535.0  581.0  595.0   \n",
       "12     ...  787.0  869.0  808.0  814.0  798.0  772.0  819.0  841.0  810.0   \n",
       "\n",
       "day       31  \n",
       "month         \n",
       "1      277.0  \n",
       "2        NaN  \n",
       "3      467.0  \n",
       "4        NaN  \n",
       "5      475.0  \n",
       "6        NaN  \n",
       "7      480.0  \n",
       "8      420.0  \n",
       "9        NaN  \n",
       "10     671.0  \n",
       "11       NaN  \n",
       "12     765.0  \n",
       "\n",
       "[12 rows x 31 columns]"
      ]
     },
     "execution_count": 137,
     "metadata": {},
     "output_type": "execute_result"
    }
   ],
   "source": [
    "pd.pivot_table(all_data, index='month', columns='day' , \\\n",
    "               aggfunc='count').T.loc['Month'].T\n",
    "\n",
    "### make sure 'Month' MUST not have missing value , \n",
    "## otherwise u will end up getting wrong values in cell..\n",
    "\n",
    "\n",
    "\n",
    "## all_data.groupby(['month','day']).apply(lambda x: len(x)).unstack()"
   ]
  },
  {
   "cell_type": "code",
   "execution_count": null,
   "metadata": {},
   "outputs": [],
   "source": []
  },
  {
   "cell_type": "code",
   "execution_count": 138,
   "metadata": {},
   "outputs": [
    {
     "data": {
      "text/html": [
       "<style  type=\"text/css\" >\n",
       "#T_d6531_row0_col0,#T_d6531_row0_col1,#T_d6531_row0_col2,#T_d6531_row0_col3,#T_d6531_row0_col4,#T_d6531_row0_col5,#T_d6531_row0_col6,#T_d6531_row0_col7,#T_d6531_row0_col8,#T_d6531_row0_col9,#T_d6531_row0_col10,#T_d6531_row0_col11,#T_d6531_row0_col12,#T_d6531_row0_col13,#T_d6531_row0_col14,#T_d6531_row0_col15,#T_d6531_row0_col16,#T_d6531_row0_col17,#T_d6531_row0_col18,#T_d6531_row0_col19,#T_d6531_row0_col20,#T_d6531_row0_col21,#T_d6531_row0_col22,#T_d6531_row0_col23,#T_d6531_row0_col24,#T_d6531_row0_col25,#T_d6531_row0_col26,#T_d6531_row0_col27,#T_d6531_row0_col28,#T_d6531_row0_col29,#T_d6531_row0_col30{\n",
       "            background-color:  #fff7fb;\n",
       "            color:  #000000;\n",
       "        }#T_d6531_row1_col0,#T_d6531_row7_col3,#T_d6531_row8_col5,#T_d6531_row8_col11,#T_d6531_row8_col28{\n",
       "            background-color:  #e0deed;\n",
       "            color:  #000000;\n",
       "        }#T_d6531_row1_col1,#T_d6531_row1_col21,#T_d6531_row5_col22{\n",
       "            background-color:  #d5d5e8;\n",
       "            color:  #000000;\n",
       "        }#T_d6531_row1_col2,#T_d6531_row5_col6{\n",
       "            background-color:  #d4d4e8;\n",
       "            color:  #000000;\n",
       "        }#T_d6531_row1_col3{\n",
       "            background-color:  #d8d7e9;\n",
       "            color:  #000000;\n",
       "        }#T_d6531_row1_col4,#T_d6531_row1_col27,#T_d6531_row7_col27,#T_d6531_row8_col29{\n",
       "            background-color:  #e5e1ef;\n",
       "            color:  #000000;\n",
       "        }#T_d6531_row1_col5,#T_d6531_row1_col9{\n",
       "            background-color:  #d2d3e7;\n",
       "            color:  #000000;\n",
       "        }#T_d6531_row1_col6,#T_d6531_row2_col23,#T_d6531_row5_col16{\n",
       "            background-color:  #cdd0e5;\n",
       "            color:  #000000;\n",
       "        }#T_d6531_row1_col7,#T_d6531_row2_col0,#T_d6531_row6_col1{\n",
       "            background-color:  #bfc9e1;\n",
       "            color:  #000000;\n",
       "        }#T_d6531_row1_col8,#T_d6531_row2_col19,#T_d6531_row6_col4,#T_d6531_row6_col26{\n",
       "            background-color:  #c2cbe2;\n",
       "            color:  #000000;\n",
       "        }#T_d6531_row1_col10,#T_d6531_row7_col6,#T_d6531_row7_col26,#T_d6531_row8_col14,#T_d6531_row8_col22{\n",
       "            background-color:  #e1dfed;\n",
       "            color:  #000000;\n",
       "        }#T_d6531_row1_col11,#T_d6531_row7_col30{\n",
       "            background-color:  #c1cae2;\n",
       "            color:  #000000;\n",
       "        }#T_d6531_row1_col12,#T_d6531_row5_col24{\n",
       "            background-color:  #c6cce3;\n",
       "            color:  #000000;\n",
       "        }#T_d6531_row1_col13,#T_d6531_row5_col1,#T_d6531_row5_col17{\n",
       "            background-color:  #cccfe5;\n",
       "            color:  #000000;\n",
       "        }#T_d6531_row1_col14,#T_d6531_row7_col2,#T_d6531_row7_col8,#T_d6531_row8_col6,#T_d6531_row8_col10{\n",
       "            background-color:  #e7e3f0;\n",
       "            color:  #000000;\n",
       "        }#T_d6531_row1_col15,#T_d6531_row5_col12,#T_d6531_row6_col19,#T_d6531_row6_col25{\n",
       "            background-color:  #d1d2e6;\n",
       "            color:  #000000;\n",
       "        }#T_d6531_row1_col16,#T_d6531_row5_col0,#T_d6531_row5_col19,#T_d6531_row6_col9{\n",
       "            background-color:  #c9cee4;\n",
       "            color:  #000000;\n",
       "        }#T_d6531_row1_col17,#T_d6531_row5_col27{\n",
       "            background-color:  #c5cce3;\n",
       "            color:  #000000;\n",
       "        }#T_d6531_row1_col18,#T_d6531_row7_col21,#T_d6531_row8_col18{\n",
       "            background-color:  #e2dfee;\n",
       "            color:  #000000;\n",
       "        }#T_d6531_row1_col19{\n",
       "            background-color:  #dad9ea;\n",
       "            color:  #000000;\n",
       "        }#T_d6531_row1_col20,#T_d6531_row2_col25,#T_d6531_row5_col10,#T_d6531_row5_col23,#T_d6531_row5_col26,#T_d6531_row7_col5{\n",
       "            background-color:  #d9d8ea;\n",
       "            color:  #000000;\n",
       "        }#T_d6531_row1_col22,#T_d6531_row6_col16,#T_d6531_row7_col9,#T_d6531_row8_col7{\n",
       "            background-color:  #dddbec;\n",
       "            color:  #000000;\n",
       "        }#T_d6531_row1_col23,#T_d6531_row6_col22{\n",
       "            background-color:  #d2d2e7;\n",
       "            color:  #000000;\n",
       "        }#T_d6531_row1_col24,#T_d6531_row8_col13{\n",
       "            background-color:  #d6d6e9;\n",
       "            color:  #000000;\n",
       "        }#T_d6531_row1_col25{\n",
       "            background-color:  #e3e0ee;\n",
       "            color:  #000000;\n",
       "        }#T_d6531_row1_col26,#T_d6531_row5_col14,#T_d6531_row6_col11,#T_d6531_row6_col15{\n",
       "            background-color:  #bdc8e1;\n",
       "            color:  #000000;\n",
       "        }#T_d6531_row1_col28,#T_d6531_row1_col29,#T_d6531_row1_col30,#T_d6531_row3_col30,#T_d6531_row5_col30,#T_d6531_row8_col30,#T_d6531_row10_col30{\n",
       "            background-color:  #000000;\n",
       "            color:  #f1f1f1;\n",
       "        }#T_d6531_row2_col1,#T_d6531_row4_col12,#T_d6531_row10_col27{\n",
       "            background-color:  #93b5d6;\n",
       "            color:  #000000;\n",
       "        }#T_d6531_row2_col2,#T_d6531_row2_col30,#T_d6531_row6_col7{\n",
       "            background-color:  #a1bbda;\n",
       "            color:  #000000;\n",
       "        }#T_d6531_row2_col3,#T_d6531_row4_col23,#T_d6531_row6_col5{\n",
       "            background-color:  #adc1dd;\n",
       "            color:  #000000;\n",
       "        }#T_d6531_row2_col4,#T_d6531_row2_col7,#T_d6531_row4_col0,#T_d6531_row6_col17{\n",
       "            background-color:  #9ebad9;\n",
       "            color:  #000000;\n",
       "        }#T_d6531_row2_col5,#T_d6531_row2_col17,#T_d6531_row2_col24{\n",
       "            background-color:  #b1c2de;\n",
       "            color:  #000000;\n",
       "        }#T_d6531_row2_col6,#T_d6531_row4_col1,#T_d6531_row4_col28{\n",
       "            background-color:  #8cb3d5;\n",
       "            color:  #000000;\n",
       "        }#T_d6531_row2_col8,#T_d6531_row6_col30{\n",
       "            background-color:  #96b6d7;\n",
       "            color:  #000000;\n",
       "        }#T_d6531_row2_col9,#T_d6531_row2_col27,#T_d6531_row2_col28,#T_d6531_row4_col25,#T_d6531_row5_col28,#T_d6531_row6_col3,#T_d6531_row6_col8{\n",
       "            background-color:  #b5c4df;\n",
       "            color:  #000000;\n",
       "        }#T_d6531_row2_col10{\n",
       "            background-color:  #9fbad9;\n",
       "            color:  #000000;\n",
       "        }#T_d6531_row2_col11,#T_d6531_row2_col18,#T_d6531_row2_col20,#T_d6531_row4_col10{\n",
       "            background-color:  #afc1dd;\n",
       "            color:  #000000;\n",
       "        }#T_d6531_row2_col12,#T_d6531_row2_col29,#T_d6531_row4_col14,#T_d6531_row6_col24{\n",
       "            background-color:  #acc0dd;\n",
       "            color:  #000000;\n",
       "        }#T_d6531_row2_col13{\n",
       "            background-color:  #a8bedc;\n",
       "            color:  #000000;\n",
       "        }#T_d6531_row2_col14,#T_d6531_row5_col11,#T_d6531_row6_col13{\n",
       "            background-color:  #b8c6e0;\n",
       "            color:  #000000;\n",
       "        }#T_d6531_row2_col15,#T_d6531_row5_col7{\n",
       "            background-color:  #b7c5df;\n",
       "            color:  #000000;\n",
       "        }#T_d6531_row2_col16,#T_d6531_row5_col15,#T_d6531_row6_col0,#T_d6531_row6_col6{\n",
       "            background-color:  #bbc7e0;\n",
       "            color:  #000000;\n",
       "        }#T_d6531_row2_col21{\n",
       "            background-color:  #a2bcda;\n",
       "            color:  #000000;\n",
       "        }#T_d6531_row2_col22,#T_d6531_row4_col15{\n",
       "            background-color:  #86b0d3;\n",
       "            color:  #000000;\n",
       "        }#T_d6531_row2_col26,#T_d6531_row4_col26{\n",
       "            background-color:  #94b6d7;\n",
       "            color:  #000000;\n",
       "        }#T_d6531_row3_col0{\n",
       "            background-color:  #4094c3;\n",
       "            color:  #000000;\n",
       "        }#T_d6531_row3_col1{\n",
       "            background-color:  #589ec8;\n",
       "            color:  #000000;\n",
       "        }#T_d6531_row3_col2,#T_d6531_row3_col3,#T_d6531_row3_col8,#T_d6531_row9_col3,#T_d6531_row9_col23,#T_d6531_row10_col6{\n",
       "            background-color:  #2786bb;\n",
       "            color:  #000000;\n",
       "        }#T_d6531_row3_col4,#T_d6531_row3_col16,#T_d6531_row9_col12{\n",
       "            background-color:  #3b92c1;\n",
       "            color:  #000000;\n",
       "        }#T_d6531_row3_col5,#T_d6531_row3_col10,#T_d6531_row3_col13,#T_d6531_row3_col23,#T_d6531_row9_col10,#T_d6531_row9_col16{\n",
       "            background-color:  #3d93c2;\n",
       "            color:  #000000;\n",
       "        }#T_d6531_row3_col6{\n",
       "            background-color:  #4e9ac6;\n",
       "            color:  #000000;\n",
       "        }#T_d6531_row3_col7,#T_d6531_row9_col13,#T_d6531_row9_col29{\n",
       "            background-color:  #2a88bc;\n",
       "            color:  #000000;\n",
       "        }#T_d6531_row3_col9,#T_d6531_row3_col11{\n",
       "            background-color:  #358fc0;\n",
       "            color:  #000000;\n",
       "        }#T_d6531_row3_col12,#T_d6531_row3_col15,#T_d6531_row10_col24{\n",
       "            background-color:  #4a98c5;\n",
       "            color:  #000000;\n",
       "        }#T_d6531_row3_col14,#T_d6531_row3_col19,#T_d6531_row3_col28,#T_d6531_row4_col6{\n",
       "            background-color:  #6ba5cd;\n",
       "            color:  #000000;\n",
       "        }#T_d6531_row3_col17{\n",
       "            background-color:  #0f76b3;\n",
       "            color:  #f1f1f1;\n",
       "        }#T_d6531_row3_col18,#T_d6531_row3_col21,#T_d6531_row10_col19{\n",
       "            background-color:  #7bacd1;\n",
       "            color:  #000000;\n",
       "        }#T_d6531_row3_col20{\n",
       "            background-color:  #056ba7;\n",
       "            color:  #f1f1f1;\n",
       "        }#T_d6531_row3_col22,#T_d6531_row4_col7{\n",
       "            background-color:  #67a4cc;\n",
       "            color:  #000000;\n",
       "        }#T_d6531_row3_col24,#T_d6531_row10_col18{\n",
       "            background-color:  #529bc7;\n",
       "            color:  #000000;\n",
       "        }#T_d6531_row3_col25{\n",
       "            background-color:  #79abd0;\n",
       "            color:  #000000;\n",
       "        }#T_d6531_row3_col26{\n",
       "            background-color:  #1b7eb7;\n",
       "            color:  #000000;\n",
       "        }#T_d6531_row3_col27{\n",
       "            background-color:  #62a2cb;\n",
       "            color:  #000000;\n",
       "        }#T_d6531_row3_col29,#T_d6531_row9_col11{\n",
       "            background-color:  #2f8bbe;\n",
       "            color:  #000000;\n",
       "        }#T_d6531_row4_col2,#T_d6531_row4_col4,#T_d6531_row4_col16,#T_d6531_row4_col22{\n",
       "            background-color:  #89b1d4;\n",
       "            color:  #000000;\n",
       "        }#T_d6531_row4_col3,#T_d6531_row4_col18,#T_d6531_row10_col9{\n",
       "            background-color:  #75a9cf;\n",
       "            color:  #000000;\n",
       "        }#T_d6531_row4_col5{\n",
       "            background-color:  #97b7d7;\n",
       "            color:  #000000;\n",
       "        }#T_d6531_row4_col8{\n",
       "            background-color:  #5c9fc9;\n",
       "            color:  #000000;\n",
       "        }#T_d6531_row4_col9{\n",
       "            background-color:  #88b1d4;\n",
       "            color:  #000000;\n",
       "        }#T_d6531_row4_col11{\n",
       "            background-color:  #78abd0;\n",
       "            color:  #000000;\n",
       "        }#T_d6531_row4_col13,#T_d6531_row10_col21{\n",
       "            background-color:  #509ac6;\n",
       "            color:  #000000;\n",
       "        }#T_d6531_row4_col17{\n",
       "            background-color:  #a4bcda;\n",
       "            color:  #000000;\n",
       "        }#T_d6531_row4_col19,#T_d6531_row4_col20,#T_d6531_row4_col27{\n",
       "            background-color:  #8bb2d4;\n",
       "            color:  #000000;\n",
       "        }#T_d6531_row4_col21,#T_d6531_row10_col4{\n",
       "            background-color:  #69a5cc;\n",
       "            color:  #000000;\n",
       "        }#T_d6531_row4_col24{\n",
       "            background-color:  #7eadd1;\n",
       "            color:  #000000;\n",
       "        }#T_d6531_row4_col29,#T_d6531_row10_col5,#T_d6531_row10_col15,#T_d6531_row10_col28{\n",
       "            background-color:  #73a9cf;\n",
       "            color:  #000000;\n",
       "        }#T_d6531_row4_col30{\n",
       "            background-color:  #9ab8d8;\n",
       "            color:  #000000;\n",
       "        }#T_d6531_row5_col2,#T_d6531_row6_col12{\n",
       "            background-color:  #c8cde4;\n",
       "            color:  #000000;\n",
       "        }#T_d6531_row5_col3,#T_d6531_row6_col14{\n",
       "            background-color:  #b0c2de;\n",
       "            color:  #000000;\n",
       "        }#T_d6531_row5_col4{\n",
       "            background-color:  #b9c6e0;\n",
       "            color:  #000000;\n",
       "        }#T_d6531_row5_col5,#T_d6531_row6_col2{\n",
       "            background-color:  #a7bddb;\n",
       "            color:  #000000;\n",
       "        }#T_d6531_row5_col8{\n",
       "            background-color:  #cacee5;\n",
       "            color:  #000000;\n",
       "        }#T_d6531_row5_col9,#T_d6531_row7_col13{\n",
       "            background-color:  #d3d4e7;\n",
       "            color:  #000000;\n",
       "        }#T_d6531_row5_col13,#T_d6531_row6_col21{\n",
       "            background-color:  #a9bfdc;\n",
       "            color:  #000000;\n",
       "        }#T_d6531_row5_col18,#T_d6531_row6_col27{\n",
       "            background-color:  #c0c9e2;\n",
       "            color:  #000000;\n",
       "        }#T_d6531_row5_col20{\n",
       "            background-color:  #abbfdc;\n",
       "            color:  #000000;\n",
       "        }#T_d6531_row5_col21,#T_d6531_row8_col17{\n",
       "            background-color:  #e8e4f0;\n",
       "            color:  #000000;\n",
       "        }#T_d6531_row5_col25,#T_d6531_row8_col26{\n",
       "            background-color:  #d7d6e9;\n",
       "            color:  #000000;\n",
       "        }#T_d6531_row5_col29,#T_d6531_row6_col29{\n",
       "            background-color:  #c4cbe3;\n",
       "            color:  #000000;\n",
       "        }#T_d6531_row6_col10,#T_d6531_row6_col23,#T_d6531_row6_col28,#T_d6531_row7_col15{\n",
       "            background-color:  #dedcec;\n",
       "            color:  #000000;\n",
       "        }#T_d6531_row6_col18{\n",
       "            background-color:  #ced0e6;\n",
       "            color:  #000000;\n",
       "        }#T_d6531_row6_col20{\n",
       "            background-color:  #b3c3de;\n",
       "            color:  #000000;\n",
       "        }#T_d6531_row7_col0,#T_d6531_row8_col21{\n",
       "            background-color:  #f4eef6;\n",
       "            color:  #000000;\n",
       "        }#T_d6531_row7_col1,#T_d6531_row7_col12{\n",
       "            background-color:  #e9e5f1;\n",
       "            color:  #000000;\n",
       "        }#T_d6531_row7_col4,#T_d6531_row7_col29,#T_d6531_row8_col24{\n",
       "            background-color:  #eee9f3;\n",
       "            color:  #000000;\n",
       "        }#T_d6531_row7_col7{\n",
       "            background-color:  #dcdaeb;\n",
       "            color:  #000000;\n",
       "        }#T_d6531_row7_col10{\n",
       "            background-color:  #f3edf5;\n",
       "            color:  #000000;\n",
       "        }#T_d6531_row7_col11,#T_d6531_row7_col14{\n",
       "            background-color:  #ece7f2;\n",
       "            color:  #000000;\n",
       "        }#T_d6531_row7_col16,#T_d6531_row7_col17,#T_d6531_row8_col4{\n",
       "            background-color:  #f0eaf4;\n",
       "            color:  #000000;\n",
       "        }#T_d6531_row7_col18,#T_d6531_row8_col2{\n",
       "            background-color:  #dfddec;\n",
       "            color:  #000000;\n",
       "        }#T_d6531_row7_col19{\n",
       "            background-color:  #faf2f8;\n",
       "            color:  #000000;\n",
       "        }#T_d6531_row7_col20,#T_d6531_row8_col0{\n",
       "            background-color:  #efe9f3;\n",
       "            color:  #000000;\n",
       "        }#T_d6531_row7_col22,#T_d6531_row8_col1{\n",
       "            background-color:  #e4e1ef;\n",
       "            color:  #000000;\n",
       "        }#T_d6531_row7_col23,#T_d6531_row8_col23{\n",
       "            background-color:  #f2ecf5;\n",
       "            color:  #000000;\n",
       "        }#T_d6531_row7_col24,#T_d6531_row8_col3,#T_d6531_row8_col8,#T_d6531_row8_col16{\n",
       "            background-color:  #e0dded;\n",
       "            color:  #000000;\n",
       "        }#T_d6531_row7_col25{\n",
       "            background-color:  #f8f1f8;\n",
       "            color:  #000000;\n",
       "        }#T_d6531_row7_col28{\n",
       "            background-color:  #e6e2ef;\n",
       "            color:  #000000;\n",
       "        }#T_d6531_row8_col9{\n",
       "            background-color:  #ede8f3;\n",
       "            color:  #000000;\n",
       "        }#T_d6531_row8_col12,#T_d6531_row8_col20{\n",
       "            background-color:  #eae6f1;\n",
       "            color:  #000000;\n",
       "        }#T_d6531_row8_col15{\n",
       "            background-color:  #ede7f2;\n",
       "            color:  #000000;\n",
       "        }#T_d6531_row8_col19,#T_d6531_row8_col27{\n",
       "            background-color:  #f1ebf5;\n",
       "            color:  #000000;\n",
       "        }#T_d6531_row8_col25{\n",
       "            background-color:  #f9f2f8;\n",
       "            color:  #000000;\n",
       "        }#T_d6531_row9_col0{\n",
       "            background-color:  #1e80b8;\n",
       "            color:  #000000;\n",
       "        }#T_d6531_row9_col1,#T_d6531_row9_col9{\n",
       "            background-color:  #0872b1;\n",
       "            color:  #f1f1f1;\n",
       "        }#T_d6531_row9_col2{\n",
       "            background-color:  #1278b4;\n",
       "            color:  #f1f1f1;\n",
       "        }#T_d6531_row9_col4{\n",
       "            background-color:  #0570b0;\n",
       "            color:  #f1f1f1;\n",
       "        }#T_d6531_row9_col5,#T_d6531_row9_col18,#T_d6531_row9_col20,#T_d6531_row10_col20{\n",
       "            background-color:  #157ab5;\n",
       "            color:  #000000;\n",
       "        }#T_d6531_row9_col6{\n",
       "            background-color:  #0569a4;\n",
       "            color:  #f1f1f1;\n",
       "        }#T_d6531_row9_col7,#T_d6531_row9_col17,#T_d6531_row9_col24{\n",
       "            background-color:  #1379b5;\n",
       "            color:  #f1f1f1;\n",
       "        }#T_d6531_row9_col8{\n",
       "            background-color:  #2d8abd;\n",
       "            color:  #000000;\n",
       "        }#T_d6531_row9_col14{\n",
       "            background-color:  #2484ba;\n",
       "            color:  #000000;\n",
       "        }#T_d6531_row9_col15,#T_d6531_row9_col28,#T_d6531_row10_col23{\n",
       "            background-color:  #4897c4;\n",
       "            color:  #000000;\n",
       "        }#T_d6531_row9_col19{\n",
       "            background-color:  #187cb6;\n",
       "            color:  #000000;\n",
       "        }#T_d6531_row9_col21{\n",
       "            background-color:  #0568a3;\n",
       "            color:  #f1f1f1;\n",
       "        }#T_d6531_row9_col22{\n",
       "            background-color:  #2383ba;\n",
       "            color:  #000000;\n",
       "        }#T_d6531_row9_col25{\n",
       "            background-color:  #0567a1;\n",
       "            color:  #f1f1f1;\n",
       "        }#T_d6531_row9_col26{\n",
       "            background-color:  #056fae;\n",
       "            color:  #f1f1f1;\n",
       "        }#T_d6531_row9_col27{\n",
       "            background-color:  #167bb6;\n",
       "            color:  #000000;\n",
       "        }#T_d6531_row9_col30{\n",
       "            background-color:  #0566a0;\n",
       "            color:  #f1f1f1;\n",
       "        }#T_d6531_row10_col0,#T_d6531_row10_col8{\n",
       "            background-color:  #4496c3;\n",
       "            color:  #000000;\n",
       "        }#T_d6531_row10_col1{\n",
       "            background-color:  #3f93c2;\n",
       "            color:  #000000;\n",
       "        }#T_d6531_row10_col2{\n",
       "            background-color:  #65a3cb;\n",
       "            color:  #000000;\n",
       "        }#T_d6531_row10_col3{\n",
       "            background-color:  #348ebf;\n",
       "            color:  #000000;\n",
       "        }#T_d6531_row10_col7{\n",
       "            background-color:  #2987bc;\n",
       "            color:  #000000;\n",
       "        }#T_d6531_row10_col10{\n",
       "            background-color:  #84b0d3;\n",
       "            color:  #000000;\n",
       "        }#T_d6531_row10_col11,#T_d6531_row10_col13,#T_d6531_row10_col16{\n",
       "            background-color:  #60a1ca;\n",
       "            color:  #000000;\n",
       "        }#T_d6531_row10_col12{\n",
       "            background-color:  #6fa7ce;\n",
       "            color:  #000000;\n",
       "        }#T_d6531_row10_col14{\n",
       "            background-color:  #8fb4d6;\n",
       "            color:  #000000;\n",
       "        }#T_d6531_row10_col17,#T_d6531_row10_col29{\n",
       "            background-color:  #4c99c5;\n",
       "            color:  #000000;\n",
       "        }#T_d6531_row10_col22{\n",
       "            background-color:  #76aad0;\n",
       "            color:  #000000;\n",
       "        }#T_d6531_row10_col25{\n",
       "            background-color:  #7dacd1;\n",
       "            color:  #000000;\n",
       "        }#T_d6531_row10_col26{\n",
       "            background-color:  #2182b9;\n",
       "            color:  #000000;\n",
       "        }#T_d6531_row11_col0,#T_d6531_row11_col1,#T_d6531_row11_col2,#T_d6531_row11_col3,#T_d6531_row11_col4,#T_d6531_row11_col5,#T_d6531_row11_col6,#T_d6531_row11_col7,#T_d6531_row11_col8,#T_d6531_row11_col9,#T_d6531_row11_col10,#T_d6531_row11_col11,#T_d6531_row11_col12,#T_d6531_row11_col13,#T_d6531_row11_col14,#T_d6531_row11_col15,#T_d6531_row11_col16,#T_d6531_row11_col17,#T_d6531_row11_col18,#T_d6531_row11_col19,#T_d6531_row11_col20,#T_d6531_row11_col21,#T_d6531_row11_col22,#T_d6531_row11_col23,#T_d6531_row11_col24,#T_d6531_row11_col25,#T_d6531_row11_col26,#T_d6531_row11_col27,#T_d6531_row11_col28,#T_d6531_row11_col29,#T_d6531_row11_col30{\n",
       "            background-color:  #023858;\n",
       "            color:  #f1f1f1;\n",
       "        }</style><table id=\"T_d6531_\" ><thead>    <tr>        <th class=\"index_name level0\" >day</th>        <th class=\"col_heading level0 col0\" >1</th>        <th class=\"col_heading level0 col1\" >2</th>        <th class=\"col_heading level0 col2\" >3</th>        <th class=\"col_heading level0 col3\" >4</th>        <th class=\"col_heading level0 col4\" >5</th>        <th class=\"col_heading level0 col5\" >6</th>        <th class=\"col_heading level0 col6\" >7</th>        <th class=\"col_heading level0 col7\" >8</th>        <th class=\"col_heading level0 col8\" >9</th>        <th class=\"col_heading level0 col9\" >10</th>        <th class=\"col_heading level0 col10\" >11</th>        <th class=\"col_heading level0 col11\" >12</th>        <th class=\"col_heading level0 col12\" >13</th>        <th class=\"col_heading level0 col13\" >14</th>        <th class=\"col_heading level0 col14\" >15</th>        <th class=\"col_heading level0 col15\" >16</th>        <th class=\"col_heading level0 col16\" >17</th>        <th class=\"col_heading level0 col17\" >18</th>        <th class=\"col_heading level0 col18\" >19</th>        <th class=\"col_heading level0 col19\" >20</th>        <th class=\"col_heading level0 col20\" >21</th>        <th class=\"col_heading level0 col21\" >22</th>        <th class=\"col_heading level0 col22\" >23</th>        <th class=\"col_heading level0 col23\" >24</th>        <th class=\"col_heading level0 col24\" >25</th>        <th class=\"col_heading level0 col25\" >26</th>        <th class=\"col_heading level0 col26\" >27</th>        <th class=\"col_heading level0 col27\" >28</th>        <th class=\"col_heading level0 col28\" >29</th>        <th class=\"col_heading level0 col29\" >30</th>        <th class=\"col_heading level0 col30\" >31</th>    </tr>    <tr>        <th class=\"index_name level0\" >month</th>        <th class=\"blank\" ></th>        <th class=\"blank\" ></th>        <th class=\"blank\" ></th>        <th class=\"blank\" ></th>        <th class=\"blank\" ></th>        <th class=\"blank\" ></th>        <th class=\"blank\" ></th>        <th class=\"blank\" ></th>        <th class=\"blank\" ></th>        <th class=\"blank\" ></th>        <th class=\"blank\" ></th>        <th class=\"blank\" ></th>        <th class=\"blank\" ></th>        <th class=\"blank\" ></th>        <th class=\"blank\" ></th>        <th class=\"blank\" ></th>        <th class=\"blank\" ></th>        <th class=\"blank\" ></th>        <th class=\"blank\" ></th>        <th class=\"blank\" ></th>        <th class=\"blank\" ></th>        <th class=\"blank\" ></th>        <th class=\"blank\" ></th>        <th class=\"blank\" ></th>        <th class=\"blank\" ></th>        <th class=\"blank\" ></th>        <th class=\"blank\" ></th>        <th class=\"blank\" ></th>        <th class=\"blank\" ></th>        <th class=\"blank\" ></th>        <th class=\"blank\" ></th>    </tr></thead><tbody>\n",
       "                <tr>\n",
       "                        <th id=\"T_d6531_level0_row0\" class=\"row_heading level0 row0\" >1</th>\n",
       "                        <td id=\"T_d6531_row0_col0\" class=\"data row0 col0\" >336.000000</td>\n",
       "                        <td id=\"T_d6531_row0_col1\" class=\"data row0 col1\" >324.000000</td>\n",
       "                        <td id=\"T_d6531_row0_col2\" class=\"data row0 col2\" >296.000000</td>\n",
       "                        <td id=\"T_d6531_row0_col3\" class=\"data row0 col3\" >294.000000</td>\n",
       "                        <td id=\"T_d6531_row0_col4\" class=\"data row0 col4\" >308.000000</td>\n",
       "                        <td id=\"T_d6531_row0_col5\" class=\"data row0 col5\" >291.000000</td>\n",
       "                        <td id=\"T_d6531_row0_col6\" class=\"data row0 col6\" >308.000000</td>\n",
       "                        <td id=\"T_d6531_row0_col7\" class=\"data row0 col7\" >284.000000</td>\n",
       "                        <td id=\"T_d6531_row0_col8\" class=\"data row0 col8\" >317.000000</td>\n",
       "                        <td id=\"T_d6531_row0_col9\" class=\"data row0 col9\" >336.000000</td>\n",
       "                        <td id=\"T_d6531_row0_col10\" class=\"data row0 col10\" >341.000000</td>\n",
       "                        <td id=\"T_d6531_row0_col11\" class=\"data row0 col11\" >294.000000</td>\n",
       "                        <td id=\"T_d6531_row0_col12\" class=\"data row0 col12\" >319.000000</td>\n",
       "                        <td id=\"T_d6531_row0_col13\" class=\"data row0 col13\" >282.000000</td>\n",
       "                        <td id=\"T_d6531_row0_col14\" class=\"data row0 col14\" >328.000000</td>\n",
       "                        <td id=\"T_d6531_row0_col15\" class=\"data row0 col15\" >311.000000</td>\n",
       "                        <td id=\"T_d6531_row0_col16\" class=\"data row0 col16\" >292.000000</td>\n",
       "                        <td id=\"T_d6531_row0_col17\" class=\"data row0 col17\" >320.000000</td>\n",
       "                        <td id=\"T_d6531_row0_col18\" class=\"data row0 col18\" >320.000000</td>\n",
       "                        <td id=\"T_d6531_row0_col19\" class=\"data row0 col19\" >347.000000</td>\n",
       "                        <td id=\"T_d6531_row0_col20\" class=\"data row0 col20\" >307.000000</td>\n",
       "                        <td id=\"T_d6531_row0_col21\" class=\"data row0 col21\" >328.000000</td>\n",
       "                        <td id=\"T_d6531_row0_col22\" class=\"data row0 col22\" >277.000000</td>\n",
       "                        <td id=\"T_d6531_row0_col23\" class=\"data row0 col23\" >348.000000</td>\n",
       "                        <td id=\"T_d6531_row0_col24\" class=\"data row0 col24\" >297.000000</td>\n",
       "                        <td id=\"T_d6531_row0_col25\" class=\"data row0 col25\" >369.000000</td>\n",
       "                        <td id=\"T_d6531_row0_col26\" class=\"data row0 col26\" >311.000000</td>\n",
       "                        <td id=\"T_d6531_row0_col27\" class=\"data row0 col27\" >327.000000</td>\n",
       "                        <td id=\"T_d6531_row0_col28\" class=\"data row0 col28\" >320.000000</td>\n",
       "                        <td id=\"T_d6531_row0_col29\" class=\"data row0 col29\" >300.000000</td>\n",
       "                        <td id=\"T_d6531_row0_col30\" class=\"data row0 col30\" >277.000000</td>\n",
       "            </tr>\n",
       "            <tr>\n",
       "                        <th id=\"T_d6531_level0_row1\" class=\"row_heading level0 row1\" >2</th>\n",
       "                        <td id=\"T_d6531_row1_col0\" class=\"data row1 col0\" >416.000000</td>\n",
       "                        <td id=\"T_d6531_row1_col1\" class=\"data row1 col1\" >433.000000</td>\n",
       "                        <td id=\"T_d6531_row1_col2\" class=\"data row1 col2\" >403.000000</td>\n",
       "                        <td id=\"T_d6531_row1_col3\" class=\"data row1 col3\" >402.000000</td>\n",
       "                        <td id=\"T_d6531_row1_col4\" class=\"data row1 col4\" >387.000000</td>\n",
       "                        <td id=\"T_d6531_row1_col5\" class=\"data row1 col5\" >418.000000</td>\n",
       "                        <td id=\"T_d6531_row1_col6\" class=\"data row1 col6\" >427.000000</td>\n",
       "                        <td id=\"T_d6531_row1_col7\" class=\"data row1 col7\" >434.000000</td>\n",
       "                        <td id=\"T_d6531_row1_col8\" class=\"data row1 col8\" >449.000000</td>\n",
       "                        <td id=\"T_d6531_row1_col9\" class=\"data row1 col9\" >450.000000</td>\n",
       "                        <td id=\"T_d6531_row1_col10\" class=\"data row1 col10\" >423.000000</td>\n",
       "                        <td id=\"T_d6531_row1_col11\" class=\"data row1 col11\" >449.000000</td>\n",
       "                        <td id=\"T_d6531_row1_col12\" class=\"data row1 col12\" >470.000000</td>\n",
       "                        <td id=\"T_d6531_row1_col13\" class=\"data row1 col13\" >423.000000</td>\n",
       "                        <td id=\"T_d6531_row1_col14\" class=\"data row1 col14\" >402.000000</td>\n",
       "                        <td id=\"T_d6531_row1_col15\" class=\"data row1 col15\" >438.000000</td>\n",
       "                        <td id=\"T_d6531_row1_col16\" class=\"data row1 col16\" >452.000000</td>\n",
       "                        <td id=\"T_d6531_row1_col17\" class=\"data row1 col17\" >452.000000</td>\n",
       "                        <td id=\"T_d6531_row1_col18\" class=\"data row1 col18\" >405.000000</td>\n",
       "                        <td id=\"T_d6531_row1_col19\" class=\"data row1 col19\" >442.000000</td>\n",
       "                        <td id=\"T_d6531_row1_col20\" class=\"data row1 col20\" >405.000000</td>\n",
       "                        <td id=\"T_d6531_row1_col21\" class=\"data row1 col21\" >433.000000</td>\n",
       "                        <td id=\"T_d6531_row1_col22\" class=\"data row1 col22\" >391.000000</td>\n",
       "                        <td id=\"T_d6531_row1_col23\" class=\"data row1 col23\" >460.000000</td>\n",
       "                        <td id=\"T_d6531_row1_col24\" class=\"data row1 col24\" >414.000000</td>\n",
       "                        <td id=\"T_d6531_row1_col25\" class=\"data row1 col25\" >440.000000</td>\n",
       "                        <td id=\"T_d6531_row1_col26\" class=\"data row1 col26\" >452.000000</td>\n",
       "                        <td id=\"T_d6531_row1_col27\" class=\"data row1 col27\" >405.000000</td>\n",
       "                        <td id=\"T_d6531_row1_col28\" class=\"data row1 col28\" >nan</td>\n",
       "                        <td id=\"T_d6531_row1_col29\" class=\"data row1 col29\" >nan</td>\n",
       "                        <td id=\"T_d6531_row1_col30\" class=\"data row1 col30\" >nan</td>\n",
       "            </tr>\n",
       "            <tr>\n",
       "                        <th id=\"T_d6531_level0_row2\" class=\"row_heading level0 row2\" >3</th>\n",
       "                        <td id=\"T_d6531_row2_col0\" class=\"data row2 col0\" >471.000000</td>\n",
       "                        <td id=\"T_d6531_row2_col1\" class=\"data row2 col1\" >525.000000</td>\n",
       "                        <td id=\"T_d6531_row2_col2\" class=\"data row2 col2\" >474.000000</td>\n",
       "                        <td id=\"T_d6531_row2_col3\" class=\"data row2 col3\" >471.000000</td>\n",
       "                        <td id=\"T_d6531_row2_col4\" class=\"data row2 col4\" >503.000000</td>\n",
       "                        <td id=\"T_d6531_row2_col5\" class=\"data row2 col5\" >471.000000</td>\n",
       "                        <td id=\"T_d6531_row2_col6\" class=\"data row2 col6\" >509.000000</td>\n",
       "                        <td id=\"T_d6531_row2_col7\" class=\"data row2 col7\" >481.000000</td>\n",
       "                        <td id=\"T_d6531_row2_col8\" class=\"data row2 col8\" >506.000000</td>\n",
       "                        <td id=\"T_d6531_row2_col9\" class=\"data row2 col9\" >492.000000</td>\n",
       "                        <td id=\"T_d6531_row2_col10\" class=\"data row2 col10\" >524.000000</td>\n",
       "                        <td id=\"T_d6531_row2_col11\" class=\"data row2 col11\" >477.000000</td>\n",
       "                        <td id=\"T_d6531_row2_col12\" class=\"data row2 col12\" >513.000000</td>\n",
       "                        <td id=\"T_d6531_row2_col13\" class=\"data row2 col13\" >478.000000</td>\n",
       "                        <td id=\"T_d6531_row2_col14\" class=\"data row2 col14\" >488.000000</td>\n",
       "                        <td id=\"T_d6531_row2_col15\" class=\"data row2 col15\" >478.000000</td>\n",
       "                        <td id=\"T_d6531_row2_col16\" class=\"data row2 col16\" >478.000000</td>\n",
       "                        <td id=\"T_d6531_row2_col17\" class=\"data row2 col17\" >480.000000</td>\n",
       "                        <td id=\"T_d6531_row2_col18\" class=\"data row2 col18\" >495.000000</td>\n",
       "                        <td id=\"T_d6531_row2_col19\" class=\"data row2 col19\" >481.000000</td>\n",
       "                        <td id=\"T_d6531_row2_col20\" class=\"data row2 col20\" >471.000000</td>\n",
       "                        <td id=\"T_d6531_row2_col21\" class=\"data row2 col21\" >504.000000</td>\n",
       "                        <td id=\"T_d6531_row2_col22\" class=\"data row2 col22\" >547.000000</td>\n",
       "                        <td id=\"T_d6531_row2_col23\" class=\"data row2 col23\" >468.000000</td>\n",
       "                        <td id=\"T_d6531_row2_col24\" class=\"data row2 col24\" >473.000000</td>\n",
       "                        <td id=\"T_d6531_row2_col25\" class=\"data row2 col25\" >459.000000</td>\n",
       "                        <td id=\"T_d6531_row2_col26\" class=\"data row2 col26\" >505.000000</td>\n",
       "                        <td id=\"T_d6531_row2_col27\" class=\"data row2 col27\" >489.000000</td>\n",
       "                        <td id=\"T_d6531_row2_col28\" class=\"data row2 col28\" >492.000000</td>\n",
       "                        <td id=\"T_d6531_row2_col29\" class=\"data row2 col29\" >483.000000</td>\n",
       "                        <td id=\"T_d6531_row2_col30\" class=\"data row2 col30\" >467.000000</td>\n",
       "            </tr>\n",
       "            <tr>\n",
       "                        <th id=\"T_d6531_level0_row3\" class=\"row_heading level0 row3\" >4</th>\n",
       "                        <td id=\"T_d6531_row3_col0\" class=\"data row3 col0\" >605.000000</td>\n",
       "                        <td id=\"T_d6531_row3_col1\" class=\"data row3 col1\" >588.000000</td>\n",
       "                        <td id=\"T_d6531_row3_col2\" class=\"data row3 col2\" >599.000000</td>\n",
       "                        <td id=\"T_d6531_row3_col3\" class=\"data row3 col3\" >627.000000</td>\n",
       "                        <td id=\"T_d6531_row3_col4\" class=\"data row3 col4\" >611.000000</td>\n",
       "                        <td id=\"T_d6531_row3_col5\" class=\"data row3 col5\" >613.000000</td>\n",
       "                        <td id=\"T_d6531_row3_col6\" class=\"data row3 col6\" >572.000000</td>\n",
       "                        <td id=\"T_d6531_row3_col7\" class=\"data row3 col7\" >610.000000</td>\n",
       "                        <td id=\"T_d6531_row3_col8\" class=\"data row3 col8\" >618.000000</td>\n",
       "                        <td id=\"T_d6531_row3_col9\" class=\"data row3 col9\" >631.000000</td>\n",
       "                        <td id=\"T_d6531_row3_col10\" class=\"data row3 col10\" >627.000000</td>\n",
       "                        <td id=\"T_d6531_row3_col11\" class=\"data row3 col11\" >623.000000</td>\n",
       "                        <td id=\"T_d6531_row3_col12\" class=\"data row3 col12\" >635.000000</td>\n",
       "                        <td id=\"T_d6531_row3_col13\" class=\"data row3 col13\" >608.000000</td>\n",
       "                        <td id=\"T_d6531_row3_col14\" class=\"data row3 col14\" >585.000000</td>\n",
       "                        <td id=\"T_d6531_row3_col15\" class=\"data row3 col15\" >612.000000</td>\n",
       "                        <td id=\"T_d6531_row3_col16\" class=\"data row3 col16\" >655.000000</td>\n",
       "                        <td id=\"T_d6531_row3_col17\" class=\"data row3 col17\" >660.000000</td>\n",
       "                        <td id=\"T_d6531_row3_col18\" class=\"data row3 col18\" >562.000000</td>\n",
       "                        <td id=\"T_d6531_row3_col19\" class=\"data row3 col19\" >587.000000</td>\n",
       "                        <td id=\"T_d6531_row3_col20\" class=\"data row3 col20\" >672.000000</td>\n",
       "                        <td id=\"T_d6531_row3_col21\" class=\"data row3 col21\" >550.000000</td>\n",
       "                        <td id=\"T_d6531_row3_col22\" class=\"data row3 col22\" >589.000000</td>\n",
       "                        <td id=\"T_d6531_row3_col23\" class=\"data row3 col23\" >630.000000</td>\n",
       "                        <td id=\"T_d6531_row3_col24\" class=\"data row3 col24\" >591.000000</td>\n",
       "                        <td id=\"T_d6531_row3_col25\" class=\"data row3 col25\" >578.000000</td>\n",
       "                        <td id=\"T_d6531_row3_col26\" class=\"data row3 col26\" >631.000000</td>\n",
       "                        <td id=\"T_d6531_row3_col27\" class=\"data row3 col27\" >592.000000</td>\n",
       "                        <td id=\"T_d6531_row3_col28\" class=\"data row3 col28\" >590.000000</td>\n",
       "                        <td id=\"T_d6531_row3_col29\" class=\"data row3 col29\" >628.000000</td>\n",
       "                        <td id=\"T_d6531_row3_col30\" class=\"data row3 col30\" >nan</td>\n",
       "            </tr>\n",
       "            <tr>\n",
       "                        <th id=\"T_d6531_level0_row4\" class=\"row_heading level0 row4\" >5</th>\n",
       "                        <td id=\"T_d6531_row4_col0\" class=\"data row4 col0\" >513.000000</td>\n",
       "                        <td id=\"T_d6531_row4_col1\" class=\"data row4 col1\" >533.000000</td>\n",
       "                        <td id=\"T_d6531_row4_col2\" class=\"data row4 col2\" >500.000000</td>\n",
       "                        <td id=\"T_d6531_row4_col3\" class=\"data row4 col3\" >544.000000</td>\n",
       "                        <td id=\"T_d6531_row4_col4\" class=\"data row4 col4\" >528.000000</td>\n",
       "                        <td id=\"T_d6531_row4_col5\" class=\"data row4 col5\" >507.000000</td>\n",
       "                        <td id=\"T_d6531_row4_col6\" class=\"data row4 col6\" >544.000000</td>\n",
       "                        <td id=\"T_d6531_row4_col7\" class=\"data row4 col7\" >546.000000</td>\n",
       "                        <td id=\"T_d6531_row4_col8\" class=\"data row4 col8\" >567.000000</td>\n",
       "                        <td id=\"T_d6531_row4_col9\" class=\"data row4 col9\" >548.000000</td>\n",
       "                        <td id=\"T_d6531_row4_col10\" class=\"data row4 col10\" >504.000000</td>\n",
       "                        <td id=\"T_d6531_row4_col11\" class=\"data row4 col11\" >552.000000</td>\n",
       "                        <td id=\"T_d6531_row4_col12\" class=\"data row4 col12\" >549.000000</td>\n",
       "                        <td id=\"T_d6531_row4_col13\" class=\"data row4 col13\" >587.000000</td>\n",
       "                        <td id=\"T_d6531_row4_col14\" class=\"data row4 col14\" >505.000000</td>\n",
       "                        <td id=\"T_d6531_row4_col15\" class=\"data row4 col15\" >545.000000</td>\n",
       "                        <td id=\"T_d6531_row4_col16\" class=\"data row4 col16\" >555.000000</td>\n",
       "                        <td id=\"T_d6531_row4_col17\" class=\"data row4 col17\" >499.000000</td>\n",
       "                        <td id=\"T_d6531_row4_col18\" class=\"data row4 col18\" >570.000000</td>\n",
       "                        <td id=\"T_d6531_row4_col19\" class=\"data row4 col19\" >552.000000</td>\n",
       "                        <td id=\"T_d6531_row4_col20\" class=\"data row4 col20\" >515.000000</td>\n",
       "                        <td id=\"T_d6531_row4_col21\" class=\"data row4 col21\" >568.000000</td>\n",
       "                        <td id=\"T_d6531_row4_col22\" class=\"data row4 col22\" >541.000000</td>\n",
       "                        <td id=\"T_d6531_row4_col23\" class=\"data row4 col23\" >510.000000</td>\n",
       "                        <td id=\"T_d6531_row4_col24\" class=\"data row4 col24\" >543.000000</td>\n",
       "                        <td id=\"T_d6531_row4_col25\" class=\"data row4 col25\" >511.000000</td>\n",
       "                        <td id=\"T_d6531_row4_col26\" class=\"data row4 col26\" >505.000000</td>\n",
       "                        <td id=\"T_d6531_row4_col27\" class=\"data row4 col27\" >546.000000</td>\n",
       "                        <td id=\"T_d6531_row4_col28\" class=\"data row4 col28\" >549.000000</td>\n",
       "                        <td id=\"T_d6531_row4_col29\" class=\"data row4 col29\" >555.000000</td>\n",
       "                        <td id=\"T_d6531_row4_col30\" class=\"data row4 col30\" >475.000000</td>\n",
       "            </tr>\n",
       "            <tr>\n",
       "                        <th id=\"T_d6531_level0_row5\" class=\"row_heading level0 row5\" >6</th>\n",
       "                        <td id=\"T_d6531_row5_col0\" class=\"data row5 col0\" >457.000000</td>\n",
       "                        <td id=\"T_d6531_row5_col1\" class=\"data row5 col1\" >450.000000</td>\n",
       "                        <td id=\"T_d6531_row5_col2\" class=\"data row5 col2\" >422.000000</td>\n",
       "                        <td id=\"T_d6531_row5_col3\" class=\"data row5 col3\" >467.000000</td>\n",
       "                        <td id=\"T_d6531_row5_col4\" class=\"data row5 col4\" >465.000000</td>\n",
       "                        <td id=\"T_d6531_row5_col5\" class=\"data row5 col5\" >487.000000</td>\n",
       "                        <td id=\"T_d6531_row5_col6\" class=\"data row5 col6\" >415.000000</td>\n",
       "                        <td id=\"T_d6531_row5_col7\" class=\"data row5 col7\" >446.000000</td>\n",
       "                        <td id=\"T_d6531_row5_col8\" class=\"data row5 col8\" >438.000000</td>\n",
       "                        <td id=\"T_d6531_row5_col9\" class=\"data row5 col9\" >447.000000</td>\n",
       "                        <td id=\"T_d6531_row5_col10\" class=\"data row5 col10\" >441.000000</td>\n",
       "                        <td id=\"T_d6531_row5_col11\" class=\"data row5 col11\" >463.000000</td>\n",
       "                        <td id=\"T_d6531_row5_col12\" class=\"data row5 col12\" >453.000000</td>\n",
       "                        <td id=\"T_d6531_row5_col13\" class=\"data row5 col13\" >476.000000</td>\n",
       "                        <td id=\"T_d6531_row5_col14\" class=\"data row5 col14\" >479.000000</td>\n",
       "                        <td id=\"T_d6531_row5_col15\" class=\"data row5 col15\" >473.000000</td>\n",
       "                        <td id=\"T_d6531_row5_col16\" class=\"data row5 col16\" >446.000000</td>\n",
       "                        <td id=\"T_d6531_row5_col17\" class=\"data row5 col17\" >443.000000</td>\n",
       "                        <td id=\"T_d6531_row5_col18\" class=\"data row5 col18\" >470.000000</td>\n",
       "                        <td id=\"T_d6531_row5_col19\" class=\"data row5 col19\" >473.000000</td>\n",
       "                        <td id=\"T_d6531_row5_col20\" class=\"data row5 col20\" >476.000000</td>\n",
       "                        <td id=\"T_d6531_row5_col21\" class=\"data row5 col21\" >393.000000</td>\n",
       "                        <td id=\"T_d6531_row5_col22\" class=\"data row5 col22\" >413.000000</td>\n",
       "                        <td id=\"T_d6531_row5_col23\" class=\"data row5 col23\" >444.000000</td>\n",
       "                        <td id=\"T_d6531_row5_col24\" class=\"data row5 col24\" >442.000000</td>\n",
       "                        <td id=\"T_d6531_row5_col25\" class=\"data row5 col25\" >463.000000</td>\n",
       "                        <td id=\"T_d6531_row5_col26\" class=\"data row5 col26\" >408.000000</td>\n",
       "                        <td id=\"T_d6531_row5_col27\" class=\"data row5 col27\" >466.000000</td>\n",
       "                        <td id=\"T_d6531_row5_col28\" class=\"data row5 col28\" >491.000000</td>\n",
       "                        <td id=\"T_d6531_row5_col29\" class=\"data row5 col29\" >447.000000</td>\n",
       "                        <td id=\"T_d6531_row5_col30\" class=\"data row5 col30\" >nan</td>\n",
       "            </tr>\n",
       "            <tr>\n",
       "                        <th id=\"T_d6531_level0_row6\" class=\"row_heading level0 row6\" >7</th>\n",
       "                        <td id=\"T_d6531_row6_col0\" class=\"data row6 col0\" >476.000000</td>\n",
       "                        <td id=\"T_d6531_row6_col1\" class=\"data row6 col1\" >467.000000</td>\n",
       "                        <td id=\"T_d6531_row6_col2\" class=\"data row6 col2\" >467.000000</td>\n",
       "                        <td id=\"T_d6531_row6_col3\" class=\"data row6 col3\" >459.000000</td>\n",
       "                        <td id=\"T_d6531_row6_col4\" class=\"data row6 col4\" >452.000000</td>\n",
       "                        <td id=\"T_d6531_row6_col5\" class=\"data row6 col5\" >476.000000</td>\n",
       "                        <td id=\"T_d6531_row6_col6\" class=\"data row6 col6\" >451.000000</td>\n",
       "                        <td id=\"T_d6531_row6_col7\" class=\"data row6 col7\" >478.000000</td>\n",
       "                        <td id=\"T_d6531_row6_col8\" class=\"data row6 col8\" >466.000000</td>\n",
       "                        <td id=\"T_d6531_row6_col9\" class=\"data row6 col9\" >464.000000</td>\n",
       "                        <td id=\"T_d6531_row6_col10\" class=\"data row6 col10\" >429.000000</td>\n",
       "                        <td id=\"T_d6531_row6_col11\" class=\"data row6 col11\" >456.000000</td>\n",
       "                        <td id=\"T_d6531_row6_col12\" class=\"data row6 col12\" >469.000000</td>\n",
       "                        <td id=\"T_d6531_row6_col13\" class=\"data row6 col13\" >453.000000</td>\n",
       "                        <td id=\"T_d6531_row6_col14\" class=\"data row6 col14\" >499.000000</td>\n",
       "                        <td id=\"T_d6531_row6_col15\" class=\"data row6 col15\" >469.000000</td>\n",
       "                        <td id=\"T_d6531_row6_col16\" class=\"data row6 col16\" >405.000000</td>\n",
       "                        <td id=\"T_d6531_row6_col17\" class=\"data row6 col17\" >506.000000</td>\n",
       "                        <td id=\"T_d6531_row6_col18\" class=\"data row6 col18\" >449.000000</td>\n",
       "                        <td id=\"T_d6531_row6_col19\" class=\"data row6 col19\" >461.000000</td>\n",
       "                        <td id=\"T_d6531_row6_col20\" class=\"data row6 col20\" >465.000000</td>\n",
       "                        <td id=\"T_d6531_row6_col21\" class=\"data row6 col21\" >496.000000</td>\n",
       "                        <td id=\"T_d6531_row6_col22\" class=\"data row6 col22\" >422.000000</td>\n",
       "                        <td id=\"T_d6531_row6_col23\" class=\"data row6 col23\" >436.000000</td>\n",
       "                        <td id=\"T_d6531_row6_col24\" class=\"data row6 col24\" >482.000000</td>\n",
       "                        <td id=\"T_d6531_row6_col25\" class=\"data row6 col25\" >476.000000</td>\n",
       "                        <td id=\"T_d6531_row6_col26\" class=\"data row6 col26\" >446.000000</td>\n",
       "                        <td id=\"T_d6531_row6_col27\" class=\"data row6 col27\" >474.000000</td>\n",
       "                        <td id=\"T_d6531_row6_col28\" class=\"data row6 col28\" >418.000000</td>\n",
       "                        <td id=\"T_d6531_row6_col29\" class=\"data row6 col29\" >446.000000</td>\n",
       "                        <td id=\"T_d6531_row6_col30\" class=\"data row6 col30\" >480.000000</td>\n",
       "            </tr>\n",
       "            <tr>\n",
       "                        <th id=\"T_d6531_level0_row7\" class=\"row_heading level0 row7\" >8</th>\n",
       "                        <td id=\"T_d6531_row7_col0\" class=\"data row7 col0\" >368.000000</td>\n",
       "                        <td id=\"T_d6531_row7_col1\" class=\"data row7 col1\" >389.000000</td>\n",
       "                        <td id=\"T_d6531_row7_col2\" class=\"data row7 col2\" >363.000000</td>\n",
       "                        <td id=\"T_d6531_row7_col3\" class=\"data row7 col3\" >383.000000</td>\n",
       "                        <td id=\"T_d6531_row7_col4\" class=\"data row7 col4\" >363.000000</td>\n",
       "                        <td id=\"T_d6531_row7_col5\" class=\"data row7 col5\" >403.000000</td>\n",
       "                        <td id=\"T_d6531_row7_col6\" class=\"data row7 col6\" >387.000000</td>\n",
       "                        <td id=\"T_d6531_row7_col7\" class=\"data row7 col7\" >382.000000</td>\n",
       "                        <td id=\"T_d6531_row7_col8\" class=\"data row7 col8\" >384.000000</td>\n",
       "                        <td id=\"T_d6531_row7_col9\" class=\"data row7 col9\" >427.000000</td>\n",
       "                        <td id=\"T_d6531_row7_col10\" class=\"data row7 col10\" >379.000000</td>\n",
       "                        <td id=\"T_d6531_row7_col11\" class=\"data row7 col11\" >361.000000</td>\n",
       "                        <td id=\"T_d6531_row7_col12\" class=\"data row7 col12\" >395.000000</td>\n",
       "                        <td id=\"T_d6531_row7_col13\" class=\"data row7 col13\" >407.000000</td>\n",
       "                        <td id=\"T_d6531_row7_col14\" class=\"data row7 col14\" >391.000000</td>\n",
       "                        <td id=\"T_d6531_row7_col15\" class=\"data row7 col15\" >408.000000</td>\n",
       "                        <td id=\"T_d6531_row7_col16\" class=\"data row7 col16\" >353.000000</td>\n",
       "                        <td id=\"T_d6531_row7_col17\" class=\"data row7 col17\" >366.000000</td>\n",
       "                        <td id=\"T_d6531_row7_col18\" class=\"data row7 col18\" >413.000000</td>\n",
       "                        <td id=\"T_d6531_row7_col19\" class=\"data row7 col19\" >364.000000</td>\n",
       "                        <td id=\"T_d6531_row7_col20\" class=\"data row7 col20\" >357.000000</td>\n",
       "                        <td id=\"T_d6531_row7_col21\" class=\"data row7 col21\" >406.000000</td>\n",
       "                        <td id=\"T_d6531_row7_col22\" class=\"data row7 col22\" >374.000000</td>\n",
       "                        <td id=\"T_d6531_row7_col23\" class=\"data row7 col23\" >386.000000</td>\n",
       "                        <td id=\"T_d6531_row7_col24\" class=\"data row7 col24\" >390.000000</td>\n",
       "                        <td id=\"T_d6531_row7_col25\" class=\"data row7 col25\" >390.000000</td>\n",
       "                        <td id=\"T_d6531_row7_col26\" class=\"data row7 col26\" >392.000000</td>\n",
       "                        <td id=\"T_d6531_row7_col27\" class=\"data row7 col27\" >404.000000</td>\n",
       "                        <td id=\"T_d6531_row7_col28\" class=\"data row7 col28\" >400.000000</td>\n",
       "                        <td id=\"T_d6531_row7_col29\" class=\"data row7 col29\" >356.000000</td>\n",
       "                        <td id=\"T_d6531_row7_col30\" class=\"data row7 col30\" >420.000000</td>\n",
       "            </tr>\n",
       "            <tr>\n",
       "                        <th id=\"T_d6531_level0_row8\" class=\"row_heading level0 row8\" >9</th>\n",
       "                        <td id=\"T_d6531_row8_col0\" class=\"data row8 col0\" >384.000000</td>\n",
       "                        <td id=\"T_d6531_row8_col1\" class=\"data row8 col1\" >401.000000</td>\n",
       "                        <td id=\"T_d6531_row8_col2\" class=\"data row8 col2\" >380.000000</td>\n",
       "                        <td id=\"T_d6531_row8_col3\" class=\"data row8 col3\" >386.000000</td>\n",
       "                        <td id=\"T_d6531_row8_col4\" class=\"data row8 col4\" >358.000000</td>\n",
       "                        <td id=\"T_d6531_row8_col5\" class=\"data row8 col5\" >385.000000</td>\n",
       "                        <td id=\"T_d6531_row8_col6\" class=\"data row8 col6\" >375.000000</td>\n",
       "                        <td id=\"T_d6531_row8_col7\" class=\"data row8 col7\" >381.000000</td>\n",
       "                        <td id=\"T_d6531_row8_col8\" class=\"data row8 col8\" >400.000000</td>\n",
       "                        <td id=\"T_d6531_row8_col9\" class=\"data row8 col9\" >392.000000</td>\n",
       "                        <td id=\"T_d6531_row8_col10\" class=\"data row8 col10\" >411.000000</td>\n",
       "                        <td id=\"T_d6531_row8_col11\" class=\"data row8 col11\" >387.000000</td>\n",
       "                        <td id=\"T_d6531_row8_col12\" class=\"data row8 col12\" >393.000000</td>\n",
       "                        <td id=\"T_d6531_row8_col13\" class=\"data row8 col13\" >402.000000</td>\n",
       "                        <td id=\"T_d6531_row8_col14\" class=\"data row8 col14\" >414.000000</td>\n",
       "                        <td id=\"T_d6531_row8_col15\" class=\"data row8 col15\" >374.000000</td>\n",
       "                        <td id=\"T_d6531_row8_col16\" class=\"data row8 col16\" >398.000000</td>\n",
       "                        <td id=\"T_d6531_row8_col17\" class=\"data row8 col17\" >387.000000</td>\n",
       "                        <td id=\"T_d6531_row8_col18\" class=\"data row8 col18\" >405.000000</td>\n",
       "                        <td id=\"T_d6531_row8_col19\" class=\"data row8 col19\" >389.000000</td>\n",
       "                        <td id=\"T_d6531_row8_col20\" class=\"data row8 col20\" >370.000000</td>\n",
       "                        <td id=\"T_d6531_row8_col21\" class=\"data row8 col21\" >362.000000</td>\n",
       "                        <td id=\"T_d6531_row8_col22\" class=\"data row8 col22\" >381.000000</td>\n",
       "                        <td id=\"T_d6531_row8_col23\" class=\"data row8 col23\" >389.000000</td>\n",
       "                        <td id=\"T_d6531_row8_col24\" class=\"data row8 col24\" >354.000000</td>\n",
       "                        <td id=\"T_d6531_row8_col25\" class=\"data row8 col25\" >386.000000</td>\n",
       "                        <td id=\"T_d6531_row8_col26\" class=\"data row8 col26\" >412.000000</td>\n",
       "                        <td id=\"T_d6531_row8_col27\" class=\"data row8 col27\" >373.000000</td>\n",
       "                        <td id=\"T_d6531_row8_col28\" class=\"data row8 col28\" >412.000000</td>\n",
       "                        <td id=\"T_d6531_row8_col29\" class=\"data row8 col29\" >380.000000</td>\n",
       "                        <td id=\"T_d6531_row8_col30\" class=\"data row8 col30\" >nan</td>\n",
       "            </tr>\n",
       "            <tr>\n",
       "                        <th id=\"T_d6531_level0_row9\" class=\"row_heading level0 row9\" >10</th>\n",
       "                        <td id=\"T_d6531_row9_col0\" class=\"data row9 col0\" >642.000000</td>\n",
       "                        <td id=\"T_d6531_row9_col1\" class=\"data row9 col1\" >676.000000</td>\n",
       "                        <td id=\"T_d6531_row9_col2\" class=\"data row9 col2\" >624.000000</td>\n",
       "                        <td id=\"T_d6531_row9_col3\" class=\"data row9 col3\" >626.000000</td>\n",
       "                        <td id=\"T_d6531_row9_col4\" class=\"data row9 col4\" >678.000000</td>\n",
       "                        <td id=\"T_d6531_row9_col5\" class=\"data row9 col5\" >664.000000</td>\n",
       "                        <td id=\"T_d6531_row9_col6\" class=\"data row9 col6\" >670.000000</td>\n",
       "                        <td id=\"T_d6531_row9_col7\" class=\"data row9 col7\" >639.000000</td>\n",
       "                        <td id=\"T_d6531_row9_col8\" class=\"data row9 col8\" >610.000000</td>\n",
       "                        <td id=\"T_d6531_row9_col9\" class=\"data row9 col9\" >684.000000</td>\n",
       "                        <td id=\"T_d6531_row9_col10\" class=\"data row9 col10\" >626.000000</td>\n",
       "                        <td id=\"T_d6531_row9_col11\" class=\"data row9 col11\" >633.000000</td>\n",
       "                        <td id=\"T_d6531_row9_col12\" class=\"data row9 col12\" >653.000000</td>\n",
       "                        <td id=\"T_d6531_row9_col13\" class=\"data row9 col13\" >630.000000</td>\n",
       "                        <td id=\"T_d6531_row9_col14\" class=\"data row9 col14\" >659.000000</td>\n",
       "                        <td id=\"T_d6531_row9_col15\" class=\"data row9 col15\" >613.000000</td>\n",
       "                        <td id=\"T_d6531_row9_col16\" class=\"data row9 col16\" >652.000000</td>\n",
       "                        <td id=\"T_d6531_row9_col17\" class=\"data row9 col17\" >653.000000</td>\n",
       "                        <td id=\"T_d6531_row9_col18\" class=\"data row9 col18\" >677.000000</td>\n",
       "                        <td id=\"T_d6531_row9_col19\" class=\"data row9 col19\" >671.000000</td>\n",
       "                        <td id=\"T_d6531_row9_col20\" class=\"data row9 col20\" >639.000000</td>\n",
       "                        <td id=\"T_d6531_row9_col21\" class=\"data row9 col21\" >692.000000</td>\n",
       "                        <td id=\"T_d6531_row9_col22\" class=\"data row9 col22\" >676.000000</td>\n",
       "                        <td id=\"T_d6531_row9_col23\" class=\"data row9 col23\" >653.000000</td>\n",
       "                        <td id=\"T_d6531_row9_col24\" class=\"data row9 col24\" >666.000000</td>\n",
       "                        <td id=\"T_d6531_row9_col25\" class=\"data row9 col25\" >713.000000</td>\n",
       "                        <td id=\"T_d6531_row9_col26\" class=\"data row9 col26\" >660.000000</td>\n",
       "                        <td id=\"T_d6531_row9_col27\" class=\"data row9 col27\" >673.000000</td>\n",
       "                        <td id=\"T_d6531_row9_col28\" class=\"data row9 col28\" >626.000000</td>\n",
       "                        <td id=\"T_d6531_row9_col29\" class=\"data row9 col29\" >633.000000</td>\n",
       "                        <td id=\"T_d6531_row9_col30\" class=\"data row9 col30\" >671.000000</td>\n",
       "            </tr>\n",
       "            <tr>\n",
       "                        <th id=\"T_d6531_level0_row10\" class=\"row_heading level0 row10\" >11</th>\n",
       "                        <td id=\"T_d6531_row10_col0\" class=\"data row10 col0\" >601.000000</td>\n",
       "                        <td id=\"T_d6531_row10_col1\" class=\"data row10 col1\" >612.000000</td>\n",
       "                        <td id=\"T_d6531_row10_col2\" class=\"data row10 col2\" >538.000000</td>\n",
       "                        <td id=\"T_d6531_row10_col3\" class=\"data row10 col3\" >611.000000</td>\n",
       "                        <td id=\"T_d6531_row10_col4\" class=\"data row10 col4\" >565.000000</td>\n",
       "                        <td id=\"T_d6531_row10_col5\" class=\"data row10 col5\" >556.000000</td>\n",
       "                        <td id=\"T_d6531_row10_col6\" class=\"data row10 col6\" >610.000000</td>\n",
       "                        <td id=\"T_d6531_row10_col7\" class=\"data row10 col7\" >611.000000</td>\n",
       "                        <td id=\"T_d6531_row10_col8\" class=\"data row10 col8\" >588.000000</td>\n",
       "                        <td id=\"T_d6531_row10_col9\" class=\"data row10 col9\" >571.000000</td>\n",
       "                        <td id=\"T_d6531_row10_col10\" class=\"data row10 col10\" >555.000000</td>\n",
       "                        <td id=\"T_d6531_row10_col11\" class=\"data row10 col11\" >578.000000</td>\n",
       "                        <td id=\"T_d6531_row10_col12\" class=\"data row10 col12\" >596.000000</td>\n",
       "                        <td id=\"T_d6531_row10_col13\" class=\"data row10 col13\" >569.000000</td>\n",
       "                        <td id=\"T_d6531_row10_col14\" class=\"data row10 col14\" >541.000000</td>\n",
       "                        <td id=\"T_d6531_row10_col15\" class=\"data row10 col15\" >570.000000</td>\n",
       "                        <td id=\"T_d6531_row10_col16\" class=\"data row10 col16\" >610.000000</td>\n",
       "                        <td id=\"T_d6531_row10_col17\" class=\"data row10 col17\" >592.000000</td>\n",
       "                        <td id=\"T_d6531_row10_col18\" class=\"data row10 col18\" >605.000000</td>\n",
       "                        <td id=\"T_d6531_row10_col19\" class=\"data row10 col19\" >571.000000</td>\n",
       "                        <td id=\"T_d6531_row10_col20\" class=\"data row10 col20\" >638.000000</td>\n",
       "                        <td id=\"T_d6531_row10_col21\" class=\"data row10 col21\" >591.000000</td>\n",
       "                        <td id=\"T_d6531_row10_col22\" class=\"data row10 col22\" >569.000000</td>\n",
       "                        <td id=\"T_d6531_row10_col23\" class=\"data row10 col23\" >618.000000</td>\n",
       "                        <td id=\"T_d6531_row10_col24\" class=\"data row10 col24\" >598.000000</td>\n",
       "                        <td id=\"T_d6531_row10_col25\" class=\"data row10 col25\" >575.000000</td>\n",
       "                        <td id=\"T_d6531_row10_col26\" class=\"data row10 col26\" >623.000000</td>\n",
       "                        <td id=\"T_d6531_row10_col27\" class=\"data row10 col27\" >535.000000</td>\n",
       "                        <td id=\"T_d6531_row10_col28\" class=\"data row10 col28\" >581.000000</td>\n",
       "                        <td id=\"T_d6531_row10_col29\" class=\"data row10 col29\" >595.000000</td>\n",
       "                        <td id=\"T_d6531_row10_col30\" class=\"data row10 col30\" >nan</td>\n",
       "            </tr>\n",
       "            <tr>\n",
       "                        <th id=\"T_d6531_level0_row11\" class=\"row_heading level0 row11\" >12</th>\n",
       "                        <td id=\"T_d6531_row11_col0\" class=\"data row11 col0\" >782.000000</td>\n",
       "                        <td id=\"T_d6531_row11_col1\" class=\"data row11 col1\" >799.000000</td>\n",
       "                        <td id=\"T_d6531_row11_col2\" class=\"data row11 col2\" >753.000000</td>\n",
       "                        <td id=\"T_d6531_row11_col3\" class=\"data row11 col3\" >796.000000</td>\n",
       "                        <td id=\"T_d6531_row11_col4\" class=\"data row11 col4\" >802.000000</td>\n",
       "                        <td id=\"T_d6531_row11_col5\" class=\"data row11 col5\" >817.000000</td>\n",
       "                        <td id=\"T_d6531_row11_col6\" class=\"data row11 col6\" >765.000000</td>\n",
       "                        <td id=\"T_d6531_row11_col7\" class=\"data row11 col7\" >781.000000</td>\n",
       "                        <td id=\"T_d6531_row11_col8\" class=\"data row11 col8\" >771.000000</td>\n",
       "                        <td id=\"T_d6531_row11_col9\" class=\"data row11 col9\" >807.000000</td>\n",
       "                        <td id=\"T_d6531_row11_col10\" class=\"data row11 col10\" >808.000000</td>\n",
       "                        <td id=\"T_d6531_row11_col11\" class=\"data row11 col11\" >820.000000</td>\n",
       "                        <td id=\"T_d6531_row11_col12\" class=\"data row11 col12\" >861.000000</td>\n",
       "                        <td id=\"T_d6531_row11_col13\" class=\"data row11 col13\" >814.000000</td>\n",
       "                        <td id=\"T_d6531_row11_col14\" class=\"data row11 col14\" >823.000000</td>\n",
       "                        <td id=\"T_d6531_row11_col15\" class=\"data row11 col15\" >825.000000</td>\n",
       "                        <td id=\"T_d6531_row11_col16\" class=\"data row11 col16\" >881.000000</td>\n",
       "                        <td id=\"T_d6531_row11_col17\" class=\"data row11 col17\" >788.000000</td>\n",
       "                        <td id=\"T_d6531_row11_col18\" class=\"data row11 col18\" >823.000000</td>\n",
       "                        <td id=\"T_d6531_row11_col19\" class=\"data row11 col19\" >810.000000</td>\n",
       "                        <td id=\"T_d6531_row11_col20\" class=\"data row11 col20\" >775.000000</td>\n",
       "                        <td id=\"T_d6531_row11_col21\" class=\"data row11 col21\" >787.000000</td>\n",
       "                        <td id=\"T_d6531_row11_col22\" class=\"data row11 col22\" >869.000000</td>\n",
       "                        <td id=\"T_d6531_row11_col23\" class=\"data row11 col23\" >808.000000</td>\n",
       "                        <td id=\"T_d6531_row11_col24\" class=\"data row11 col24\" >814.000000</td>\n",
       "                        <td id=\"T_d6531_row11_col25\" class=\"data row11 col25\" >798.000000</td>\n",
       "                        <td id=\"T_d6531_row11_col26\" class=\"data row11 col26\" >772.000000</td>\n",
       "                        <td id=\"T_d6531_row11_col27\" class=\"data row11 col27\" >819.000000</td>\n",
       "                        <td id=\"T_d6531_row11_col28\" class=\"data row11 col28\" >841.000000</td>\n",
       "                        <td id=\"T_d6531_row11_col29\" class=\"data row11 col29\" >810.000000</td>\n",
       "                        <td id=\"T_d6531_row11_col30\" class=\"data row11 col30\" >765.000000</td>\n",
       "            </tr>\n",
       "    </tbody></table>"
      ],
      "text/plain": [
       "<pandas.io.formats.style.Styler at 0x21695757190>"
      ]
     },
     "execution_count": 138,
     "metadata": {},
     "output_type": "execute_result"
    }
   ],
   "source": [
    "pd.pivot_table(all_data, index='month', columns='day' , \\\n",
    "               aggfunc='count').T.loc['Month'].T.style.\\\n",
    "                background_gradient()\n",
    "\n",
    "## styling dataframe"
   ]
  },
  {
   "cell_type": "code",
   "execution_count": null,
   "metadata": {},
   "outputs": [],
   "source": [
    "'''\n",
    "\n",
    "In summer , only April & May sounds good as this could be \n",
    "due to Summer Sale where lot of electronic items like \n",
    "AC , Cooler etc.. are sold\n",
    "\n",
    "Then in last months of year like October , November & December  , \n",
    "most of the product are sold as lot of discounts  , offers \n",
    "runs usualls these days like Christmas sale , new year sale , \n",
    "Black friday sale  , some Festival sale ..\n",
    "\n",
    "\n",
    "'''"
   ]
  },
  {
   "cell_type": "code",
   "execution_count": null,
   "metadata": {},
   "outputs": [],
   "source": []
  },
  {
   "cell_type": "code",
   "execution_count": null,
   "metadata": {},
   "outputs": [],
   "source": [
    "### In which pairs of ( day, hour) \n",
    "## most of the product will get sold .."
   ]
  },
  {
   "cell_type": "code",
   "execution_count": null,
   "metadata": {},
   "outputs": [],
   "source": []
  },
  {
   "cell_type": "code",
   "execution_count": null,
   "metadata": {},
   "outputs": [],
   "source": []
  },
  {
   "cell_type": "code",
   "execution_count": null,
   "metadata": {},
   "outputs": [],
   "source": []
  },
  {
   "cell_type": "code",
   "execution_count": null,
   "metadata": {},
   "outputs": [],
   "source": []
  },
  {
   "cell_type": "code",
   "execution_count": null,
   "metadata": {},
   "outputs": [],
   "source": []
  }
 ],
 "metadata": {
  "kernelspec": {
   "display_name": "Python 3 (ipykernel)",
   "language": "python",
   "name": "python3"
  },
  "language_info": {
   "codemirror_mode": {
    "name": "ipython",
    "version": 3
   },
   "file_extension": ".py",
   "mimetype": "text/x-python",
   "name": "python",
   "nbconvert_exporter": "python",
   "pygments_lexer": "ipython3",
   "version": "3.9.13"
  }
 },
 "nbformat": 4,
 "nbformat_minor": 2
}
