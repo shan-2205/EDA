{
 "cells": [
  {
   "cell_type": "code",
   "execution_count": null,
   "id": "4c92f1e7",
   "metadata": {},
   "outputs": [],
   "source": []
  },
  {
   "cell_type": "code",
   "execution_count": null,
   "id": "19cd1f95",
   "metadata": {},
   "outputs": [],
   "source": []
  },
  {
   "cell_type": "code",
   "execution_count": null,
   "id": "16061617",
   "metadata": {},
   "outputs": [],
   "source": []
  },
  {
   "cell_type": "markdown",
   "id": "a9d8b921",
   "metadata": {},
   "source": [
    "### Dataset link : https://github.com/alfifutuhi13/miniproject1/blob/main/Pandas-Data-Science-Tasks-master.zip"
   ]
  },
  {
   "cell_type": "code",
   "execution_count": null,
   "id": "332b56ef",
   "metadata": {},
   "outputs": [],
   "source": []
  },
  {
   "cell_type": "code",
   "execution_count": null,
   "id": "16408f30",
   "metadata": {},
   "outputs": [],
   "source": []
  },
  {
   "cell_type": "markdown",
   "id": "93ca2d6c",
   "metadata": {},
   "source": [
    "# 1.. What is Feather & how to read data from data !\n",
    "        Feather is a binary file format that is used for storing data ..\n"
   ]
  },
  {
   "cell_type": "markdown",
   "id": "456439c6",
   "metadata": {},
   "source": [
    "### different binary formats--\n",
    "    There are plenty of binary formats to store the data on disk, and many of them R supports\n",
    "    Lets talk which one is better in terms of I/O speed, consumed memory and disk space\n",
    "    Formats to Compare\n",
    "    We’re going to consider the following formats to store our data.\n",
    "\n",
    "    Plain-text CSV — a good old friend of a data scientist\n",
    "    MessagePack — it’s like JSON but fast and small\n",
    "    HDF5 —a file format designed to store and organize large amounts of data\n",
    "    Feather — a fast, lightweight, and easy-to-use binary file format for storing data frames\n",
    "    Parquet — an Apache Hadoop’s columnar storage format"
   ]
  },
  {
   "cell_type": "markdown",
   "id": "18e04773",
   "metadata": {},
   "source": [
    "        Feather is a fast, lightweight, \n",
    "        and easy-to-use binary file format for storing data.\n",
    "        \n",
    "        It shows high I/O speed, doesn’t take too much memory on the disk \n",
    "        and doesn’t need any unpacking when loaded back into RAM.\n",
    "        \n",
    "        Feather has max I/O speed"
   ]
  },
  {
   "cell_type": "code",
   "execution_count": null,
   "id": "a1f10fa6",
   "metadata": {},
   "outputs": [],
   "source": [
    "# install.packages('arrow')"
   ]
  },
  {
   "cell_type": "code",
   "execution_count": 9,
   "id": "7e9028be",
   "metadata": {},
   "outputs": [],
   "source": [
    "library(arrow)\n",
    "\n",
    "## execute twice"
   ]
  },
  {
   "cell_type": "code",
   "execution_count": 3,
   "id": "694b22d3",
   "metadata": {},
   "outputs": [],
   "source": [
    "help(read_feather)\n",
    "\n",
    "## Read a Feather file"
   ]
  },
  {
   "cell_type": "code",
   "execution_count": null,
   "id": "f8bc0945",
   "metadata": {},
   "outputs": [],
   "source": [
    "\"\n",
    "read_feather(file, col_select = NULL, as_data_frame = TRUE, mmap = TRUE)\n",
    "\n",
    "\n",
    "\n",
    "file : his parameter specifies the path to the Feather file that you want to read data from..\n",
    "\n",
    "col_select : This parameter allows you to specify a subset of columns to read from the Feather file. \n",
    "             If set to NULL, all columns are read. \n",
    "             If you want to read only specific columns, you can provide their names or indices in this parameter.\n",
    "\n",
    "as_data_frame : Should the function return a data.frame (default) or an Arrow Table?\n",
    "\n",
    "mmap : This is a logical parameter indicating whether memory mapping should be used for reading the file. \n",
    "       Memory mapping can improve performance when working with large files by allowing the \n",
    "       operating system to manage the file access. (default TRUE)\n",
    "\n",
    "\""
   ]
  },
  {
   "cell_type": "code",
   "execution_count": null,
   "id": "03ec4430",
   "metadata": {},
   "outputs": [],
   "source": []
  },
  {
   "cell_type": "code",
   "execution_count": 5,
   "id": "1b7604d2",
   "metadata": {},
   "outputs": [
    {
     "data": {
      "text/html": [
       "<pre class=language-r><code>function (file, col_select = NULL, as_data_frame = TRUE, mmap = TRUE) \n",
       "NULL</code></pre>"
      ],
      "text/latex": [
       "\\begin{minted}{r}\n",
       "function (file, col\\_select = NULL, as\\_data\\_frame = TRUE, mmap = TRUE) \n",
       "NULL\n",
       "\\end{minted}"
      ],
      "text/markdown": [
       "```r\n",
       "function (file, col_select = NULL, as_data_frame = TRUE, mmap = TRUE) \n",
       "NULL\n",
       "```"
      ],
      "text/plain": [
       "function (file, col_select = NULL, as_data_frame = TRUE, mmap = TRUE) \n",
       "NULL"
      ]
     },
     "metadata": {},
     "output_type": "display_data"
    }
   ],
   "source": [
    "args(read_feather)"
   ]
  },
  {
   "cell_type": "code",
   "execution_count": 10,
   "id": "a01c83d6",
   "metadata": {},
   "outputs": [],
   "source": [
    "all_data = arrow :: read_feather('R:/All_Datasets/4.. Sales Analysis/Sales_data.ftr')\n",
    "\n",
    "## while mentioning file path , mention either '/' or '\\\\' or '//'\n",
    "## Note : '\\'(single backward slash) will not work .. \n",
    "## ie R uses forward slash instead of single backward slash in filename"
   ]
  },
  {
   "cell_type": "code",
   "execution_count": 4,
   "id": "5c24624e",
   "metadata": {},
   "outputs": [
    {
     "data": {
      "text/html": [
       "<table class=\"dataframe\">\n",
       "<caption>A tibble: 4 × 6</caption>\n",
       "<thead>\n",
       "\t<tr><th></th><th scope=col>Order ID</th><th scope=col>Product</th><th scope=col>Quantity Ordered</th><th scope=col>Price Each</th><th scope=col>Order Date</th><th scope=col>Purchase Address</th></tr>\n",
       "\t<tr><th></th><th scope=col>&lt;chr&gt;</th><th scope=col>&lt;chr&gt;</th><th scope=col>&lt;chr&gt;</th><th scope=col>&lt;chr&gt;</th><th scope=col>&lt;chr&gt;</th><th scope=col>&lt;chr&gt;</th></tr>\n",
       "</thead>\n",
       "<tbody>\n",
       "\t<tr><th scope=row>1</th><td>176558</td><td>USB-C Charging Cable      </td><td>2 </td><td>11.95</td><td>04/19/19 08:46</td><td>917 1st St, Dallas, TX 75001        </td></tr>\n",
       "\t<tr><th scope=row>2</th><td>NA    </td><td>NA                        </td><td>NA</td><td>NA   </td><td>NA            </td><td>NA                                  </td></tr>\n",
       "\t<tr><th scope=row>3</th><td>176559</td><td>Bose SoundSport Headphones</td><td>1 </td><td>99.99</td><td>04/07/19 22:30</td><td>682 Chestnut St, Boston, MA 02215   </td></tr>\n",
       "\t<tr><th scope=row>4</th><td>176560</td><td>Google Phone              </td><td>1 </td><td>600  </td><td>04/12/19 14:38</td><td>669 Spruce St, Los Angeles, CA 90001</td></tr>\n",
       "</tbody>\n",
       "</table>\n"
      ],
      "text/latex": [
       "A tibble: 4 × 6\n",
       "\\begin{tabular}{r|llllll}\n",
       "  & Order ID & Product & Quantity Ordered & Price Each & Order Date & Purchase Address\\\\\n",
       "  & <chr> & <chr> & <chr> & <chr> & <chr> & <chr>\\\\\n",
       "\\hline\n",
       "\t1 & 176558 & USB-C Charging Cable       & 2  & 11.95 & 04/19/19 08:46 & 917 1st St, Dallas, TX 75001        \\\\\n",
       "\t2 & NA     & NA                         & NA & NA    & NA             & NA                                  \\\\\n",
       "\t3 & 176559 & Bose SoundSport Headphones & 1  & 99.99 & 04/07/19 22:30 & 682 Chestnut St, Boston, MA 02215   \\\\\n",
       "\t4 & 176560 & Google Phone               & 1  & 600   & 04/12/19 14:38 & 669 Spruce St, Los Angeles, CA 90001\\\\\n",
       "\\end{tabular}\n"
      ],
      "text/markdown": [
       "\n",
       "A tibble: 4 × 6\n",
       "\n",
       "| <!--/--> | Order ID &lt;chr&gt; | Product &lt;chr&gt; | Quantity Ordered &lt;chr&gt; | Price Each &lt;chr&gt; | Order Date &lt;chr&gt; | Purchase Address &lt;chr&gt; |\n",
       "|---|---|---|---|---|---|---|\n",
       "| 1 | 176558 | USB-C Charging Cable       | 2  | 11.95 | 04/19/19 08:46 | 917 1st St, Dallas, TX 75001         |\n",
       "| 2 | NA     | NA                         | NA | NA    | NA             | NA                                   |\n",
       "| 3 | 176559 | Bose SoundSport Headphones | 1  | 99.99 | 04/07/19 22:30 | 682 Chestnut St, Boston, MA 02215    |\n",
       "| 4 | 176560 | Google Phone               | 1  | 600   | 04/12/19 14:38 | 669 Spruce St, Los Angeles, CA 90001 |\n",
       "\n"
      ],
      "text/plain": [
       "  Order ID Product                    Quantity Ordered Price Each\n",
       "1 176558   USB-C Charging Cable       2                11.95     \n",
       "2 NA       NA                         NA               NA        \n",
       "3 176559   Bose SoundSport Headphones 1                99.99     \n",
       "4 176560   Google Phone               1                600       \n",
       "  Order Date     Purchase Address                    \n",
       "1 04/19/19 08:46 917 1st St, Dallas, TX 75001        \n",
       "2 NA             NA                                  \n",
       "3 04/07/19 22:30 682 Chestnut St, Boston, MA 02215   \n",
       "4 04/12/19 14:38 669 Spruce St, Los Angeles, CA 90001"
      ]
     },
     "metadata": {},
     "output_type": "display_data"
    }
   ],
   "source": [
    "head(all_data , 4)"
   ]
  },
  {
   "cell_type": "code",
   "execution_count": 5,
   "id": "c5001725",
   "metadata": {},
   "outputs": [
    {
     "data": {
      "text/html": [
       "<style>\n",
       ".list-inline {list-style: none; margin:0; padding: 0}\n",
       ".list-inline>li {display: inline-block}\n",
       ".list-inline>li:not(:last-child)::after {content: \"\\00b7\"; padding: 0 .5ex}\n",
       "</style>\n",
       "<ol class=list-inline><li>'tbl_df'</li><li>'tbl'</li><li>'data.frame'</li></ol>\n"
      ],
      "text/latex": [
       "\\begin{enumerate*}\n",
       "\\item 'tbl\\_df'\n",
       "\\item 'tbl'\n",
       "\\item 'data.frame'\n",
       "\\end{enumerate*}\n"
      ],
      "text/markdown": [
       "1. 'tbl_df'\n",
       "2. 'tbl'\n",
       "3. 'data.frame'\n",
       "\n",
       "\n"
      ],
      "text/plain": [
       "[1] \"tbl_df\"     \"tbl\"        \"data.frame\""
      ]
     },
     "metadata": {},
     "output_type": "display_data"
    }
   ],
   "source": [
    "class(all_data)"
   ]
  },
  {
   "cell_type": "code",
   "execution_count": null,
   "id": "74bdbd8f",
   "metadata": {},
   "outputs": [],
   "source": [
    "## It can be interpreted as multiple data structures ,\n",
    "## depending on how it is treated or used in diff. contexts."
   ]
  },
  {
   "cell_type": "code",
   "execution_count": null,
   "id": "689edbc5",
   "metadata": {},
   "outputs": [],
   "source": [
    "\"\n",
    "\n",
    "\"tbl_df\" and \"tbl\" : \n",
    "tbl_df' and 'tbl' are related to tibble package , they are almost similar to data frames but with some enhancements, \n",
    "such as improved printing and handling of column types , easier column-wise operations, and improved handling of missing values.\n",
    "\n",
    "So If you are working within the tidyverse ecosystem, especially with packages like \"dplyr\" or \"ggplot2\" , \n",
    "the resulting data structure may be treated as a 'tbl_df' or 'tbl' because these packages often return data frames as tibbles \n",
    "to take advantage of their enhanced features..\n",
    "\n",
    "\n",
    "\n",
    "data.frame: \n",
    "If you are working with base R functions or other packages that do not use tibbles, \n",
    "then data structure may be treated as a standard 'data.frame'...\n",
    "\n",
    "\n",
    "\n",
    "ie In R, \"tbl_df\" is a subclass of \"tbl.\" \n",
    "By the way \"tbl_df\" and \"tbl\" are classes provided by the tibble package, which is an extension of the data frame class in R.\n",
    "\n",
    "\n",
    "\""
   ]
  },
  {
   "cell_type": "code",
   "execution_count": null,
   "id": "895f4b1a",
   "metadata": {},
   "outputs": [],
   "source": [
    "\"\n",
    "\n",
    "Q: if u print your data using head(data , 5) , sometimes u get tibble ,  sometimes u get dataframe , Why so ?\n",
    "\n",
    "Ans : It depend on various factors, including the functions you use, the packages you load and the code u are using !\n",
    "\n",
    "1) Some functions in R have default behavior that returns either a data.frame or a tibble.. \n",
    "   For example:\n",
    "        Functions in the dplyr package, such as mutate() or filter() returns tibble by default.\n",
    "        Base R functions like read.csv() or read.table() returns dataframe \n",
    "\n",
    "2) When you use packages like dplyr or tidyr (part of the tidyverse),  many of the functions work with tibble \n",
    "\n",
    "\n",
    "3) if you read data from a CSV file using read_csv() from the readr package, it typically returns a tibble. \n",
    "   However, if you use read.csv() from base R, it returns a data.frame\n",
    "\n",
    "\n",
    "\""
   ]
  },
  {
   "cell_type": "code",
   "execution_count": null,
   "id": "000fb031",
   "metadata": {},
   "outputs": [],
   "source": []
  },
  {
   "cell_type": "code",
   "execution_count": null,
   "id": "a3cf8d79",
   "metadata": {},
   "outputs": [],
   "source": []
  },
  {
   "cell_type": "code",
   "execution_count": null,
   "id": "f1ac7386",
   "metadata": {},
   "outputs": [],
   "source": []
  },
  {
   "cell_type": "code",
   "execution_count": null,
   "id": "afabc146",
   "metadata": {},
   "outputs": [],
   "source": []
  },
  {
   "cell_type": "markdown",
   "id": "8bdbb973",
   "metadata": {},
   "source": [
    "###  Data cleaning and formatting"
   ]
  },
  {
   "cell_type": "code",
   "execution_count": 5,
   "id": "b286a5d8",
   "metadata": {},
   "outputs": [
    {
     "data": {
      "text/html": [
       "<style>\n",
       ".list-inline {list-style: none; margin:0; padding: 0}\n",
       ".list-inline>li {display: inline-block}\n",
       ".list-inline>li:not(:last-child)::after {content: \"\\00b7\"; padding: 0 .5ex}\n",
       "</style>\n",
       "<ol class=list-inline><li>'Order ID'</li><li>'Product'</li><li>'Quantity Ordered'</li><li>'Price Each'</li><li>'Order Date'</li><li>'Purchase Address'</li></ol>\n"
      ],
      "text/latex": [
       "\\begin{enumerate*}\n",
       "\\item 'Order ID'\n",
       "\\item 'Product'\n",
       "\\item 'Quantity Ordered'\n",
       "\\item 'Price Each'\n",
       "\\item 'Order Date'\n",
       "\\item 'Purchase Address'\n",
       "\\end{enumerate*}\n"
      ],
      "text/markdown": [
       "1. 'Order ID'\n",
       "2. 'Product'\n",
       "3. 'Quantity Ordered'\n",
       "4. 'Price Each'\n",
       "5. 'Order Date'\n",
       "6. 'Purchase Address'\n",
       "\n",
       "\n"
      ],
      "text/plain": [
       "[1] \"Order ID\"         \"Product\"          \"Quantity Ordered\" \"Price Each\"      \n",
       "[5] \"Order Date\"       \"Purchase Address\""
      ]
     },
     "metadata": {},
     "output_type": "display_data"
    }
   ],
   "source": [
    "colnames(all_data) ## getting all the cols"
   ]
  },
  {
   "cell_type": "code",
   "execution_count": null,
   "id": "44512336",
   "metadata": {},
   "outputs": [],
   "source": [
    "help(lapply)\n",
    "\n",
    "## lapply returns a list \n",
    "\n",
    "## lapply( x , fun )\n",
    "## X : a vector (atomic or list) \n",
    "## FUN : the function to be applied to each element of x"
   ]
  },
  {
   "cell_type": "code",
   "execution_count": 6,
   "id": "1b35dc23",
   "metadata": {},
   "outputs": [
    {
     "data": {
      "text/html": [
       "<pre class=language-r><code>function (X, FUN, ...) \n",
       "NULL</code></pre>"
      ],
      "text/latex": [
       "\\begin{minted}{r}\n",
       "function (X, FUN, ...) \n",
       "NULL\n",
       "\\end{minted}"
      ],
      "text/markdown": [
       "```r\n",
       "function (X, FUN, ...) \n",
       "NULL\n",
       "```"
      ],
      "text/plain": [
       "function (X, FUN, ...) \n",
       "NULL"
      ]
     },
     "metadata": {},
     "output_type": "display_data"
    }
   ],
   "source": [
    "args(lapply)"
   ]
  },
  {
   "cell_type": "code",
   "execution_count": null,
   "id": "3121e6ee",
   "metadata": {},
   "outputs": [],
   "source": [
    "\"\n",
    "\n",
    "X : This is the list (or vector) , dataframe on which u want to apply function FUN ..\n",
    "\n",
    "FUN : This is the function to be applied to each element of the list X..\n",
    "\n",
    "... : These are additional arguments that can be passed to the lapply as per need..\n",
    "\n",
    "\n",
    "\""
   ]
  },
  {
   "cell_type": "code",
   "execution_count": 6,
   "id": "66f072d1",
   "metadata": {},
   "outputs": [
    {
     "data": {
      "text/html": [
       "<dl>\n",
       "\t<dt>$`Order ID`</dt>\n",
       "\t\t<dd>'character'</dd>\n",
       "\t<dt>$Product</dt>\n",
       "\t\t<dd>'character'</dd>\n",
       "\t<dt>$`Quantity Ordered`</dt>\n",
       "\t\t<dd>'character'</dd>\n",
       "\t<dt>$`Price Each`</dt>\n",
       "\t\t<dd>'character'</dd>\n",
       "\t<dt>$`Order Date`</dt>\n",
       "\t\t<dd>'character'</dd>\n",
       "\t<dt>$`Purchase Address`</dt>\n",
       "\t\t<dd>'character'</dd>\n",
       "</dl>\n"
      ],
      "text/latex": [
       "\\begin{description}\n",
       "\\item[\\$`Order ID`] 'character'\n",
       "\\item[\\$Product] 'character'\n",
       "\\item[\\$`Quantity Ordered`] 'character'\n",
       "\\item[\\$`Price Each`] 'character'\n",
       "\\item[\\$`Order Date`] 'character'\n",
       "\\item[\\$`Purchase Address`] 'character'\n",
       "\\end{description}\n"
      ],
      "text/markdown": [
       "$`Order ID`\n",
       ":   'character'\n",
       "$Product\n",
       ":   'character'\n",
       "$`Quantity Ordered`\n",
       ":   'character'\n",
       "$`Price Each`\n",
       ":   'character'\n",
       "$`Order Date`\n",
       ":   'character'\n",
       "$`Purchase Address`\n",
       ":   'character'\n",
       "\n",
       "\n"
      ],
      "text/plain": [
       "$`Order ID`\n",
       "[1] \"character\"\n",
       "\n",
       "$Product\n",
       "[1] \"character\"\n",
       "\n",
       "$`Quantity Ordered`\n",
       "[1] \"character\"\n",
       "\n",
       "$`Price Each`\n",
       "[1] \"character\"\n",
       "\n",
       "$`Order Date`\n",
       "[1] \"character\"\n",
       "\n",
       "$`Purchase Address`\n",
       "[1] \"character\"\n"
      ]
     },
     "metadata": {},
     "output_type": "display_data"
    }
   ],
   "source": [
    "lapply(all_data , class) ## to understand data-types\n",
    "\n",
    "## ie features have backticks(``) \n",
    "## lapply(all_data , class) : It apply a class function to \n",
    "##                   each element/key of a list or each column of a data frame"
   ]
  },
  {
   "cell_type": "code",
   "execution_count": null,
   "id": "19256537",
   "metadata": {},
   "outputs": [],
   "source": [
    "\"\n",
    "\n",
    "So, when you run lapply(data, class), \n",
    "it takes each column of the 'data' dataframe & applies the class() function to it, \n",
    "\n",
    "and returns a Output as list where each element/col tells \n",
    "class (data type) of a column in the data object..\n",
    "\n",
    "\"\n",
    "\n",
    "\n",
    "\n",
    "\n",
    "\n",
    "\"\n",
    "\n",
    "    $`Order ID`\n",
    "\n",
    "    Since dataframe is all about extension of R list bcz \n",
    "    R list is all about collection of key-value pairs , \n",
    "    where key is all about col-name & value are the values of that corresponding col..\n",
    "    In this , Order ID is a key/col of dataframe \n",
    "              and the $ symbol is used to access this key. \n",
    "\n",
    "    Character: it is Used to store text and are enclosed in double or single quotes.\n",
    "    Examples: \"Hello, World!\", 'R Programming'.\n",
    "\n",
    "\n",
    "\n",
    "\n",
    "\""
   ]
  },
  {
   "cell_type": "code",
   "execution_count": null,
   "id": "e074baaf",
   "metadata": {},
   "outputs": [],
   "source": []
  },
  {
   "cell_type": "code",
   "execution_count": 8,
   "id": "2dcf5e1d",
   "metadata": {},
   "outputs": [],
   "source": [
    "### problem with backticks : \n",
    "\n",
    "### (this will create problem while accessing features or doing some analysis)"
   ]
  },
  {
   "cell_type": "code",
   "execution_count": 5,
   "id": "5214557b",
   "metadata": {},
   "outputs": [],
   "source": [
    "help(make.names)\n",
    "\n",
    "## Make Syntactically Valid Names\n",
    "## ie make.names() function in R is used to create valid names for variables or columns\n",
    "## ie it ensure that it should follow all rules of variable declaration.."
   ]
  },
  {
   "cell_type": "code",
   "execution_count": null,
   "id": "c283f163",
   "metadata": {},
   "outputs": [],
   "source": [
    "\"\n",
    "make.names(names, unique = FALSE, allow_ = TRUE)\n",
    "\n",
    "\n",
    "names : This parameter specifies the character vector of names that you want to make valid. \n",
    "        It can be a single name or a vector of names.\n",
    "\n",
    "\""
   ]
  },
  {
   "cell_type": "code",
   "execution_count": 4,
   "id": "b77f95b2",
   "metadata": {},
   "outputs": [
    {
     "data": {
      "text/html": [
       "<pre class=language-r><code>function (names, unique = FALSE, allow_ = TRUE) \n",
       "NULL</code></pre>"
      ],
      "text/latex": [
       "\\begin{minted}{r}\n",
       "function (names, unique = FALSE, allow\\_ = TRUE) \n",
       "NULL\n",
       "\\end{minted}"
      ],
      "text/markdown": [
       "```r\n",
       "function (names, unique = FALSE, allow_ = TRUE) \n",
       "NULL\n",
       "```"
      ],
      "text/plain": [
       "function (names, unique = FALSE, allow_ = TRUE) \n",
       "NULL"
      ]
     },
     "metadata": {},
     "output_type": "display_data"
    }
   ],
   "source": [
    "args(make.names)"
   ]
  },
  {
   "cell_type": "code",
   "execution_count": 7,
   "id": "2ea393aa",
   "metadata": {},
   "outputs": [
    {
     "data": {
      "text/html": [
       "<style>\n",
       ".list-inline {list-style: none; margin:0; padding: 0}\n",
       ".list-inline>li {display: inline-block}\n",
       ".list-inline>li:not(:last-child)::after {content: \"\\00b7\"; padding: 0 .5ex}\n",
       "</style>\n",
       "<ol class=list-inline><li>'Order.ID'</li><li>'Product'</li><li>'Quantity.Ordered'</li><li>'Price.Each'</li><li>'Order.Date'</li><li>'Purchase.Address'</li></ol>\n"
      ],
      "text/latex": [
       "\\begin{enumerate*}\n",
       "\\item 'Order.ID'\n",
       "\\item 'Product'\n",
       "\\item 'Quantity.Ordered'\n",
       "\\item 'Price.Each'\n",
       "\\item 'Order.Date'\n",
       "\\item 'Purchase.Address'\n",
       "\\end{enumerate*}\n"
      ],
      "text/markdown": [
       "1. 'Order.ID'\n",
       "2. 'Product'\n",
       "3. 'Quantity.Ordered'\n",
       "4. 'Price.Each'\n",
       "5. 'Order.Date'\n",
       "6. 'Purchase.Address'\n",
       "\n",
       "\n"
      ],
      "text/plain": [
       "[1] \"Order.ID\"         \"Product\"          \"Quantity.Ordered\" \"Price.Each\"      \n",
       "[5] \"Order.Date\"       \"Purchase.Address\""
      ]
     },
     "metadata": {},
     "output_type": "display_data"
    }
   ],
   "source": [
    "make.names(colnames(all_data))  \n",
    "\n",
    "# Remove backticks from column names"
   ]
  },
  {
   "cell_type": "code",
   "execution_count": 11,
   "id": "1e830e6a",
   "metadata": {},
   "outputs": [],
   "source": [
    "# Remove backticks from column names\n",
    "\n",
    "colnames(all_data) = make.names(colnames(all_data))"
   ]
  },
  {
   "cell_type": "code",
   "execution_count": 12,
   "id": "8f9a8a22",
   "metadata": {},
   "outputs": [
    {
     "data": {
      "text/html": [
       "<style>\n",
       ".list-inline {list-style: none; margin:0; padding: 0}\n",
       ".list-inline>li {display: inline-block}\n",
       ".list-inline>li:not(:last-child)::after {content: \"\\00b7\"; padding: 0 .5ex}\n",
       "</style>\n",
       "<ol class=list-inline><li>'Order.ID'</li><li>'Product'</li><li>'Quantity.Ordered'</li><li>'Price.Each'</li><li>'Order.Date'</li><li>'Purchase.Address'</li></ol>\n"
      ],
      "text/latex": [
       "\\begin{enumerate*}\n",
       "\\item 'Order.ID'\n",
       "\\item 'Product'\n",
       "\\item 'Quantity.Ordered'\n",
       "\\item 'Price.Each'\n",
       "\\item 'Order.Date'\n",
       "\\item 'Purchase.Address'\n",
       "\\end{enumerate*}\n"
      ],
      "text/markdown": [
       "1. 'Order.ID'\n",
       "2. 'Product'\n",
       "3. 'Quantity.Ordered'\n",
       "4. 'Price.Each'\n",
       "5. 'Order.Date'\n",
       "6. 'Purchase.Address'\n",
       "\n",
       "\n"
      ],
      "text/plain": [
       "[1] \"Order.ID\"         \"Product\"          \"Quantity.Ordered\" \"Price.Each\"      \n",
       "[5] \"Order.Date\"       \"Purchase.Address\""
      ]
     },
     "metadata": {},
     "output_type": "display_data"
    }
   ],
   "source": [
    "colnames(all_data) ## getting all the cols"
   ]
  },
  {
   "cell_type": "code",
   "execution_count": null,
   "id": "c22854fd",
   "metadata": {},
   "outputs": [],
   "source": [
    "lapply(all_data , class) ## to understand data-types"
   ]
  },
  {
   "cell_type": "code",
   "execution_count": null,
   "id": "87a55fb4-8f1d-410b-bf0b-aece51bbff69",
   "metadata": {},
   "outputs": [],
   "source": []
  },
  {
   "cell_type": "code",
   "execution_count": null,
   "id": "7940bcc2-f736-4604-861b-e286efabef75",
   "metadata": {},
   "outputs": [],
   "source": []
  },
  {
   "cell_type": "code",
   "execution_count": null,
   "id": "3e2ece60",
   "metadata": {},
   "outputs": [],
   "source": []
  },
  {
   "cell_type": "markdown",
   "id": "6cbbccad",
   "metadata": {},
   "source": [
    "#### getting total missing values in every feature !"
   ]
  },
  {
   "cell_type": "markdown",
   "id": "66ce4c69",
   "metadata": {},
   "source": [
    "    is: This is a prefix commonly used in R for functions that perform logical tests or checks. \n",
    "        It's not a class , ie it is an indication that the function is checking a condition..\n",
    "\n",
    "    na(): This is the function that checks for missing values (NA) in R. \n",
    "          It returns a logical vector indicating whether \n",
    "          each element in a vector or data frame is missing or not."
   ]
  },
  {
   "cell_type": "code",
   "execution_count": null,
   "id": "f955170f",
   "metadata": {},
   "outputs": [],
   "source": [
    "help(is.na)\n",
    "\n",
    "## The generic function is.na indicates which elements are\n",
    "## missing in vectors and data frames in R\n",
    "\n",
    "## is.na(x)\n",
    "## anyNA(x, recursive = FALSE)"
   ]
  },
  {
   "cell_type": "code",
   "execution_count": null,
   "id": "921c3bec",
   "metadata": {},
   "outputs": [],
   "source": [
    "is.na(df) ## returns logical dataframe ie (True/False)\n",
    "\n",
    "## returns a logical filter of False & True \n",
    "\n",
    "## where-ever TRUE , ie we have missing value for that instance \n",
    "## where-ever FALSE , ie we don't have missing value for that instance "
   ]
  },
  {
   "cell_type": "code",
   "execution_count": null,
   "id": "e9761fd1",
   "metadata": {},
   "outputs": [],
   "source": [
    "class(is.na(df)) "
   ]
  },
  {
   "cell_type": "code",
   "execution_count": 11,
   "id": "e470b9a7",
   "metadata": {},
   "outputs": [
    {
     "data": {
      "text/html": [
       "<style>\n",
       ".dl-inline {width: auto; margin:0; padding: 0}\n",
       ".dl-inline>dt, .dl-inline>dd {float: none; width: auto; display: inline-block}\n",
       ".dl-inline>dt::after {content: \":\\0020\"; padding-right: .5ex}\n",
       ".dl-inline>dt:not(:first-of-type) {padding-left: .5ex}\n",
       "</style><dl class=dl-inline><dt>Order.ID</dt><dd>545</dd><dt>Product</dt><dd>545</dd><dt>Quantity.Ordered</dt><dd>545</dd><dt>Price.Each</dt><dd>545</dd><dt>Order.Date</dt><dd>545</dd><dt>Purchase.Address</dt><dd>545</dd></dl>\n"
      ],
      "text/latex": [
       "\\begin{description*}\n",
       "\\item[Order.ID] 545\n",
       "\\item[Product] 545\n",
       "\\item[Quantity.Ordered] 545\n",
       "\\item[Price.Each] 545\n",
       "\\item[Order.Date] 545\n",
       "\\item[Purchase.Address] 545\n",
       "\\end{description*}\n"
      ],
      "text/markdown": [
       "Order.ID\n",
       ":   545Product\n",
       ":   545Quantity.Ordered\n",
       ":   545Price.Each\n",
       ":   545Order.Date\n",
       ":   545Purchase.Address\n",
       ":   545\n",
       "\n"
      ],
      "text/plain": [
       "        Order.ID          Product Quantity.Ordered       Price.Each \n",
       "             545              545              545              545 \n",
       "      Order.Date Purchase.Address \n",
       "             545              545 "
      ]
     },
     "metadata": {},
     "output_type": "display_data"
    }
   ],
   "source": [
    "colSums(is.na(all_data)) ## return total missing values in all columns :"
   ]
  },
  {
   "cell_type": "code",
   "execution_count": 12,
   "id": "634509e6",
   "metadata": {},
   "outputs": [
    {
     "data": {
      "text/html": [
       "<style>\n",
       ".list-inline {list-style: none; margin:0; padding: 0}\n",
       ".list-inline>li {display: inline-block}\n",
       ".list-inline>li:not(:last-child)::after {content: \"\\00b7\"; padding: 0 .5ex}\n",
       "</style>\n",
       "<ol class=list-inline><li>186850</li><li>6</li></ol>\n"
      ],
      "text/latex": [
       "\\begin{enumerate*}\n",
       "\\item 186850\n",
       "\\item 6\n",
       "\\end{enumerate*}\n"
      ],
      "text/markdown": [
       "1. 186850\n",
       "2. 6\n",
       "\n",
       "\n"
      ],
      "text/plain": [
       "[1] 186850      6"
      ]
     },
     "metadata": {},
     "output_type": "display_data"
    }
   ],
   "source": [
    "dim(all_data)"
   ]
  },
  {
   "cell_type": "code",
   "execution_count": null,
   "id": "b09259a8",
   "metadata": {},
   "outputs": [],
   "source": []
  },
  {
   "cell_type": "code",
   "execution_count": 13,
   "id": "8851d98f",
   "metadata": {},
   "outputs": [],
   "source": [
    "all_data = na.omit(all_data) ## drop all these 545 rows"
   ]
  },
  {
   "cell_type": "code",
   "execution_count": 14,
   "id": "499d9eb2",
   "metadata": {},
   "outputs": [
    {
     "data": {
      "text/html": [
       "<style>\n",
       ".list-inline {list-style: none; margin:0; padding: 0}\n",
       ".list-inline>li {display: inline-block}\n",
       ".list-inline>li:not(:last-child)::after {content: \"\\00b7\"; padding: 0 .5ex}\n",
       "</style>\n",
       "<ol class=list-inline><li>186305</li><li>6</li></ol>\n"
      ],
      "text/latex": [
       "\\begin{enumerate*}\n",
       "\\item 186305\n",
       "\\item 6\n",
       "\\end{enumerate*}\n"
      ],
      "text/markdown": [
       "1. 186305\n",
       "2. 6\n",
       "\n",
       "\n"
      ],
      "text/plain": [
       "[1] 186305      6"
      ]
     },
     "metadata": {},
     "output_type": "display_data"
    }
   ],
   "source": [
    "dim(all_data)"
   ]
  },
  {
   "cell_type": "code",
   "execution_count": null,
   "id": "eadb97aa",
   "metadata": {},
   "outputs": [],
   "source": []
  },
  {
   "cell_type": "code",
   "execution_count": null,
   "id": "c0377816",
   "metadata": {},
   "outputs": [],
   "source": []
  },
  {
   "cell_type": "code",
   "execution_count": 15,
   "id": "c842322e",
   "metadata": {},
   "outputs": [],
   "source": [
    "### do clean Duplicated rows if we have  .."
   ]
  },
  {
   "cell_type": "code",
   "execution_count": 6,
   "id": "7d1d41f1",
   "metadata": {},
   "outputs": [
    {
     "data": {
      "text/html": [
       "<pre class=language-r><code>function (x, incomparables = FALSE, ...) \n",
       "NULL</code></pre>"
      ],
      "text/latex": [
       "\\begin{minted}{r}\n",
       "function (x, incomparables = FALSE, ...) \n",
       "NULL\n",
       "\\end{minted}"
      ],
      "text/markdown": [
       "```r\n",
       "function (x, incomparables = FALSE, ...) \n",
       "NULL\n",
       "```"
      ],
      "text/plain": [
       "function (x, incomparables = FALSE, ...) \n",
       "NULL"
      ]
     },
     "metadata": {},
     "output_type": "display_data"
    }
   ],
   "source": [
    "args(duplicated)"
   ]
  },
  {
   "cell_type": "code",
   "execution_count": null,
   "id": "6af01f04",
   "metadata": {},
   "outputs": [],
   "source": [
    "help(duplicated)"
   ]
  },
  {
   "cell_type": "code",
   "execution_count": null,
   "id": "2b6ecab0",
   "metadata": {},
   "outputs": [],
   "source": [
    "\"\n",
    "\n",
    "duplicated(x, incomparables = FALSE, ...)\n",
    "\n",
    "## Default S3 method:\n",
    "duplicated(x, incomparables = FALSE,\n",
    "           fromLast = FALSE, nmax = NA, ...)\n",
    "\n",
    "## S3 method for class 'array'\n",
    "duplicated(x, incomparables = FALSE, MARGIN = 1,\n",
    "           fromLast = FALSE, ...)\n",
    "\n",
    "\n",
    "\n",
    "\n",
    "\n",
    "\n",
    "1.. duplicated(x, incomparables = FALSE, ...)\n",
    "    duplicated() in R is used to identify duplicate elements in a vector, data frame or array\n",
    "\n",
    "    x : The vector, array, or data frame to check for duplicates..\n",
    "\n",
    "    incomparables : A vector of values that should be considered as unique and not compared for duplication..\n",
    "                            OR\n",
    "                    A vector of values that should not be considered when determining duplicates.\n",
    "                    Default is FALSE..\n",
    "\n",
    "\n",
    "\n",
    "\n",
    "2.. Default S3 method:\n",
    "    duplicated(x, incomparables = FALSE,\n",
    "           fromLast = FALSE, nmax = NA, ...)\n",
    "\n",
    "    This is the default method of the duplicated function, suitable \n",
    "    for most objects like vectors, data frames, etc..\n",
    "\n",
    "    In simple terms in R, S3 stands for \"Simple, Structured, and Sensible.\" \n",
    "    It's a basic system for object-oriented programming\n",
    "                OR\n",
    "    In R, S3 methods are a way to implement object-oriented programming.\n",
    "\n",
    "\n",
    "    x : The vector, array, or data frame to check for duplicates..\n",
    "\n",
    "    incomparables : A vector of values that should be considered as unique and not compared for duplication..\n",
    "                            OR\n",
    "                    A vector specifying values that should not be considered when determining duplicates.\n",
    "                    Default is FALSE..\n",
    "\n",
    "    fromLast : A logical value indicating whether to identify duplicates from the last occurrence. \n",
    "               Default is FALSE..\n",
    "\n",
    "    nmax : An integer specifying the maximum number of duplicates to return. \n",
    "           Default is NA, meaning all duplicates are returned..\n",
    "\n",
    "\n",
    "\n",
    "\n",
    "3.. S3 method for class 'array':\n",
    "    duplicated(x, incomparables = FALSE, MARGIN = 1,\n",
    "           fromLast = FALSE, ...)\n",
    "\n",
    "    This method is specifically for arrays.\n",
    "    It identifies duplicates along a specific margin (dimension) of the array.\n",
    "\n",
    "\n",
    "    MARGIN: An integer indicating which margin to check for duplicates. \n",
    "            Default is 1 (rows).\n",
    "            columns (if MARGIN = 2)\n",
    "\n",
    "\n",
    "\""
   ]
  },
  {
   "cell_type": "code",
   "execution_count": null,
   "id": "311770ad",
   "metadata": {},
   "outputs": [],
   "source": [
    "### since u are working dataframes , \n",
    "### hence u can use 1st & 2nd one , as 3rd one is for \"array\".."
   ]
  },
  {
   "cell_type": "code",
   "execution_count": 16,
   "id": "37f2f16d",
   "metadata": {},
   "outputs": [
    {
     "data": {
      "text/html": [
       "<table class=\"dataframe\">\n",
       "<caption>A tibble: 5 × 6</caption>\n",
       "<thead>\n",
       "\t<tr><th></th><th scope=col>Order.ID</th><th scope=col>Product</th><th scope=col>Quantity.Ordered</th><th scope=col>Price.Each</th><th scope=col>Order.Date</th><th scope=col>Purchase.Address</th></tr>\n",
       "\t<tr><th></th><th scope=col>&lt;chr&gt;</th><th scope=col>&lt;chr&gt;</th><th scope=col>&lt;chr&gt;</th><th scope=col>&lt;chr&gt;</th><th scope=col>&lt;chr&gt;</th><th scope=col>&lt;chr&gt;</th></tr>\n",
       "</thead>\n",
       "<tbody>\n",
       "\t<tr><th scope=row>32</th><td>176585  </td><td>Bose SoundSport Headphones</td><td>1               </td><td>99.99     </td><td>04/07/19 11:31</td><td>823 Highland St, Boston, MA 02215     </td></tr>\n",
       "\t<tr><th scope=row>1150</th><td>Order ID</td><td>Product                   </td><td>Quantity Ordered</td><td>Price Each</td><td>Order Date    </td><td>Purchase Address                      </td></tr>\n",
       "\t<tr><th scope=row>1156</th><td>Order ID</td><td>Product                   </td><td>Quantity Ordered</td><td>Price Each</td><td>Order Date    </td><td>Purchase Address                      </td></tr>\n",
       "\t<tr><th scope=row>1303</th><td>177795  </td><td>Apple Airpods Headphones  </td><td>1               </td><td>150       </td><td>04/27/19 19:45</td><td>740 14th St, Seattle, WA 98101        </td></tr>\n",
       "\t<tr><th scope=row>1685</th><td>178158  </td><td>USB-C Charging Cable      </td><td>1               </td><td>11.95     </td><td>04/28/19 21:13</td><td>197 Center St, San Francisco, CA 94016</td></tr>\n",
       "</tbody>\n",
       "</table>\n"
      ],
      "text/latex": [
       "A tibble: 5 × 6\n",
       "\\begin{tabular}{r|llllll}\n",
       "  & Order.ID & Product & Quantity.Ordered & Price.Each & Order.Date & Purchase.Address\\\\\n",
       "  & <chr> & <chr> & <chr> & <chr> & <chr> & <chr>\\\\\n",
       "\\hline\n",
       "\t32 & 176585   & Bose SoundSport Headphones & 1                & 99.99      & 04/07/19 11:31 & 823 Highland St, Boston, MA 02215     \\\\\n",
       "\t1150 & Order ID & Product                    & Quantity Ordered & Price Each & Order Date     & Purchase Address                      \\\\\n",
       "\t1156 & Order ID & Product                    & Quantity Ordered & Price Each & Order Date     & Purchase Address                      \\\\\n",
       "\t1303 & 177795   & Apple Airpods Headphones   & 1                & 150        & 04/27/19 19:45 & 740 14th St, Seattle, WA 98101        \\\\\n",
       "\t1685 & 178158   & USB-C Charging Cable       & 1                & 11.95      & 04/28/19 21:13 & 197 Center St, San Francisco, CA 94016\\\\\n",
       "\\end{tabular}\n"
      ],
      "text/markdown": [
       "\n",
       "A tibble: 5 × 6\n",
       "\n",
       "| <!--/--> | Order.ID &lt;chr&gt; | Product &lt;chr&gt; | Quantity.Ordered &lt;chr&gt; | Price.Each &lt;chr&gt; | Order.Date &lt;chr&gt; | Purchase.Address &lt;chr&gt; |\n",
       "|---|---|---|---|---|---|---|\n",
       "| 32 | 176585   | Bose SoundSport Headphones | 1                | 99.99      | 04/07/19 11:31 | 823 Highland St, Boston, MA 02215      |\n",
       "| 1150 | Order ID | Product                    | Quantity Ordered | Price Each | Order Date     | Purchase Address                       |\n",
       "| 1156 | Order ID | Product                    | Quantity Ordered | Price Each | Order Date     | Purchase Address                       |\n",
       "| 1303 | 177795   | Apple Airpods Headphones   | 1                | 150        | 04/27/19 19:45 | 740 14th St, Seattle, WA 98101         |\n",
       "| 1685 | 178158   | USB-C Charging Cable       | 1                | 11.95      | 04/28/19 21:13 | 197 Center St, San Francisco, CA 94016 |\n",
       "\n"
      ],
      "text/plain": [
       "     Order.ID Product                    Quantity.Ordered Price.Each\n",
       "32   176585   Bose SoundSport Headphones 1                99.99     \n",
       "1150 Order ID Product                    Quantity Ordered Price Each\n",
       "1156 Order ID Product                    Quantity Ordered Price Each\n",
       "1303 177795   Apple Airpods Headphones   1                150       \n",
       "1685 178158   USB-C Charging Cable       1                11.95     \n",
       "     Order.Date     Purchase.Address                      \n",
       "32   04/07/19 11:31 823 Highland St, Boston, MA 02215     \n",
       "1150 Order Date     Purchase Address                      \n",
       "1156 Order Date     Purchase Address                      \n",
       "1303 04/27/19 19:45 740 14th St, Seattle, WA 98101        \n",
       "1685 04/28/19 21:13 197 Center St, San Francisco, CA 94016"
      ]
     },
     "metadata": {},
     "output_type": "display_data"
    }
   ],
   "source": [
    "head(all_data[duplicated(all_data) ,] , 5)"
   ]
  },
  {
   "cell_type": "code",
   "execution_count": 17,
   "id": "cd8b7373",
   "metadata": {},
   "outputs": [
    {
     "data": {
      "text/html": [
       "<style>\n",
       ".list-inline {list-style: none; margin:0; padding: 0}\n",
       ".list-inline>li {display: inline-block}\n",
       ".list-inline>li:not(:last-child)::after {content: \"\\00b7\"; padding: 0 .5ex}\n",
       "</style>\n",
       "<ol class=list-inline><li>618</li><li>6</li></ol>\n"
      ],
      "text/latex": [
       "\\begin{enumerate*}\n",
       "\\item 618\n",
       "\\item 6\n",
       "\\end{enumerate*}\n"
      ],
      "text/markdown": [
       "1. 618\n",
       "2. 6\n",
       "\n",
       "\n"
      ],
      "text/plain": [
       "[1] 618   6"
      ]
     },
     "metadata": {},
     "output_type": "display_data"
    }
   ],
   "source": [
    "dim(all_data[duplicated(all_data) ,]) ## data[rows , cols]"
   ]
  },
  {
   "cell_type": "code",
   "execution_count": null,
   "id": "c758b220",
   "metadata": {},
   "outputs": [],
   "source": []
  },
  {
   "cell_type": "code",
   "execution_count": 8,
   "id": "7e51da4d",
   "metadata": {},
   "outputs": [],
   "source": [
    "help(unique)\n",
    "\n",
    "## Extract Unique Elements"
   ]
  },
  {
   "cell_type": "code",
   "execution_count": null,
   "id": "9671f0cf",
   "metadata": {},
   "outputs": [],
   "source": [
    "\"\n",
    "unique(x, incomparables = FALSE, ...)\n",
    "\n",
    "## Default S3 method:\n",
    "unique(x, incomparables = FALSE, fromLast = FALSE,\n",
    "        nmax = NA, ...)\n",
    "\n",
    "## S3 method for class 'matrix'\n",
    "unique(x, incomparables = FALSE, MARGIN = 1,\n",
    "       fromLast = FALSE, ...)\n",
    "\n",
    "## S3 method for class 'array'\n",
    "unique(x, incomparables = FALSE, MARGIN = 1,\n",
    "       fromLast = FALSE, ...)\n",
    "\n",
    "\n",
    "\n",
    "\n",
    "\n",
    "## Default S3 method:\n",
    "unique(x, incomparables = FALSE, fromLast = FALSE,\n",
    "        nmax = NA, ...)\n",
    "\n",
    "x : This parameter represents the input object from which unique elements are extracted. \n",
    "    It could be a vector, data frame, or other types of objects.\n",
    "\n",
    "\n",
    "incomparables : This parameter allows you to specify elements that should not be compared when determining uniqueness\n",
    "\n",
    "\n",
    "fromLast : A logical value indicating whether to identify unique elements from the last occurrence. \n",
    "           Default is FALSE..\n",
    "\n",
    "\n",
    "nmax : An integer specifying the maximum number of unique values to return.. \n",
    "           Default is NA, meaning all duplicates are returned..\n",
    "\""
   ]
  },
  {
   "cell_type": "code",
   "execution_count": 7,
   "id": "801284aa",
   "metadata": {},
   "outputs": [
    {
     "data": {
      "text/html": [
       "<pre class=language-r><code>function (x, incomparables = FALSE, ...) \n",
       "NULL</code></pre>"
      ],
      "text/latex": [
       "\\begin{minted}{r}\n",
       "function (x, incomparables = FALSE, ...) \n",
       "NULL\n",
       "\\end{minted}"
      ],
      "text/markdown": [
       "```r\n",
       "function (x, incomparables = FALSE, ...) \n",
       "NULL\n",
       "```"
      ],
      "text/plain": [
       "function (x, incomparables = FALSE, ...) \n",
       "NULL"
      ]
     },
     "metadata": {},
     "output_type": "display_data"
    }
   ],
   "source": [
    "args(unique)"
   ]
  },
  {
   "cell_type": "code",
   "execution_count": 14,
   "id": "76fb4127",
   "metadata": {},
   "outputs": [],
   "source": [
    "all_data = unique(all_data)  ## unique() is a base-R function"
   ]
  },
  {
   "cell_type": "code",
   "execution_count": 15,
   "id": "333a092a",
   "metadata": {},
   "outputs": [
    {
     "data": {
      "text/html": [
       "<style>\n",
       ".list-inline {list-style: none; margin:0; padding: 0}\n",
       ".list-inline>li {display: inline-block}\n",
       ".list-inline>li:not(:last-child)::after {content: \"\\00b7\"; padding: 0 .5ex}\n",
       "</style>\n",
       "<ol class=list-inline><li>185687</li><li>6</li></ol>\n"
      ],
      "text/latex": [
       "\\begin{enumerate*}\n",
       "\\item 185687\n",
       "\\item 6\n",
       "\\end{enumerate*}\n"
      ],
      "text/markdown": [
       "1. 185687\n",
       "2. 6\n",
       "\n",
       "\n"
      ],
      "text/plain": [
       "[1] 185687      6"
      ]
     },
     "metadata": {},
     "output_type": "display_data"
    }
   ],
   "source": [
    "dim(all_data)"
   ]
  },
  {
   "cell_type": "code",
   "execution_count": null,
   "id": "ae313822",
   "metadata": {},
   "outputs": [],
   "source": []
  },
  {
   "cell_type": "code",
   "execution_count": null,
   "id": "cdc0216f",
   "metadata": {},
   "outputs": [],
   "source": []
  },
  {
   "cell_type": "code",
   "execution_count": null,
   "id": "95118fa1",
   "metadata": {},
   "outputs": [],
   "source": []
  },
  {
   "cell_type": "markdown",
   "id": "081f1857",
   "metadata": {},
   "source": [
    "# 2.. Which is the best month for sale ?\n",
    "    Lets first understand what this term 'best' is all about : \n",
    "    if any month has maximum sales, we will consider that as best"
   ]
  },
  {
   "cell_type": "code",
   "execution_count": 20,
   "id": "584a6f38",
   "metadata": {},
   "outputs": [
    {
     "data": {
      "text/html": [
       "'04/19/19 08:46'"
      ],
      "text/latex": [
       "'04/19/19 08:46'"
      ],
      "text/markdown": [
       "'04/19/19 08:46'"
      ],
      "text/plain": [
       "[1] \"04/19/19 08:46\""
      ]
     },
     "metadata": {},
     "output_type": "display_data"
    }
   ],
   "source": [
    "all_data$Order.Date[1]"
   ]
  },
  {
   "cell_type": "code",
   "execution_count": null,
   "id": "b49f1240",
   "metadata": {},
   "outputs": [],
   "source": []
  },
  {
   "cell_type": "code",
   "execution_count": null,
   "id": "fe0d6940",
   "metadata": {},
   "outputs": [],
   "source": [
    "## In zomato case-study , \n",
    "## we have used strsplit() of base-R to split string/character !\n",
    "\n",
    "## In this , lets split it using stringr :: str_split() !\n",
    "\n",
    "\n",
    "## Both strsplit() of base-R and str_split() of stringr packages in R split string are almost similar , \n",
    "## but they have some differences in terms of syntax and behavior.."
   ]
  },
  {
   "cell_type": "code",
   "execution_count": 3,
   "id": "c7b9fe63",
   "metadata": {},
   "outputs": [],
   "source": [
    "library(stringr)"
   ]
  },
  {
   "cell_type": "code",
   "execution_count": 11,
   "id": "1f3cade0",
   "metadata": {},
   "outputs": [],
   "source": [
    "help(str_split)\n",
    "\n",
    "### Split up a string into pieces"
   ]
  },
  {
   "cell_type": "code",
   "execution_count": null,
   "id": "1dfe5adf",
   "metadata": {},
   "outputs": [],
   "source": [
    "\"\n",
    "str_split(string, pattern, n = Inf, simplify = FALSE)\n",
    "\n",
    "\n",
    "\n",
    "\n",
    "\n",
    "string : Input vector.. \n",
    "         Either a character vector, or something coercible to one.\n",
    "\n",
    "pattern : Pattern to look for\n",
    "\n",
    "n : Maximum number of pieces to return.. \n",
    "    Default (Inf) uses all possible split positions.\n",
    "\n",
    "\""
   ]
  },
  {
   "cell_type": "code",
   "execution_count": 10,
   "id": "435e7585",
   "metadata": {},
   "outputs": [
    {
     "data": {
      "text/html": [
       "<pre class=language-r><code>function (string, pattern, n = Inf, simplify = FALSE) \n",
       "NULL</code></pre>"
      ],
      "text/latex": [
       "\\begin{minted}{r}\n",
       "function (string, pattern, n = Inf, simplify = FALSE) \n",
       "NULL\n",
       "\\end{minted}"
      ],
      "text/markdown": [
       "```r\n",
       "function (string, pattern, n = Inf, simplify = FALSE) \n",
       "NULL\n",
       "```"
      ],
      "text/plain": [
       "function (string, pattern, n = Inf, simplify = FALSE) \n",
       "NULL"
      ]
     },
     "metadata": {},
     "output_type": "display_data"
    }
   ],
   "source": [
    "args(str_split)"
   ]
  },
  {
   "cell_type": "code",
   "execution_count": 24,
   "id": "bf00ae9d",
   "metadata": {},
   "outputs": [
    {
     "data": {
      "text/html": [
       "<ol>\n",
       "\t<li><style>\n",
       ".list-inline {list-style: none; margin:0; padding: 0}\n",
       ".list-inline>li {display: inline-block}\n",
       ".list-inline>li:not(:last-child)::after {content: \"\\00b7\"; padding: 0 .5ex}\n",
       "</style>\n",
       "<ol class=list-inline><li>'04'</li><li>'19'</li><li>'19 08:46'</li></ol>\n",
       "</li>\n",
       "</ol>\n"
      ],
      "text/latex": [
       "\\begin{enumerate}\n",
       "\\item \\begin{enumerate*}\n",
       "\\item '04'\n",
       "\\item '19'\n",
       "\\item '19 08:46'\n",
       "\\end{enumerate*}\n",
       "\n",
       "\\end{enumerate}\n"
      ],
      "text/markdown": [
       "1. 1. '04'\n",
       "2. '19'\n",
       "3. '19 08:46'\n",
       "\n",
       "\n",
       "\n",
       "\n",
       "\n"
      ],
      "text/plain": [
       "[[1]]\n",
       "[1] \"04\"       \"19\"       \"19 08:46\"\n"
      ]
     },
     "metadata": {},
     "output_type": "display_data"
    }
   ],
   "source": [
    "stringr :: str_split(all_data$Order.Date[1] , '/')"
   ]
  },
  {
   "cell_type": "code",
   "execution_count": 25,
   "id": "9eb02534",
   "metadata": {},
   "outputs": [
    {
     "data": {
      "text/html": [
       "'list'"
      ],
      "text/latex": [
       "'list'"
      ],
      "text/markdown": [
       "'list'"
      ],
      "text/plain": [
       "[1] \"list\""
      ]
     },
     "metadata": {},
     "output_type": "display_data"
    }
   ],
   "source": [
    "class(str_split(all_data$Order.Date[1] , '/')) \n",
    "\n",
    "### ie this is a List(collect of key-value )  , \n",
    "### so \"1\" is a key of list & \"04\" is a value of list"
   ]
  },
  {
   "cell_type": "code",
   "execution_count": 26,
   "id": "9d6a118e",
   "metadata": {},
   "outputs": [
    {
     "data": {
      "text/html": [
       "<style>\n",
       ".list-inline {list-style: none; margin:0; padding: 0}\n",
       ".list-inline>li {display: inline-block}\n",
       ".list-inline>li:not(:last-child)::after {content: \"\\00b7\"; padding: 0 .5ex}\n",
       "</style>\n",
       "<ol class=list-inline><li>'04'</li><li>'19'</li><li>'19 08:46'</li></ol>\n"
      ],
      "text/latex": [
       "\\begin{enumerate*}\n",
       "\\item '04'\n",
       "\\item '19'\n",
       "\\item '19 08:46'\n",
       "\\end{enumerate*}\n"
      ],
      "text/markdown": [
       "1. '04'\n",
       "2. '19'\n",
       "3. '19 08:46'\n",
       "\n",
       "\n"
      ],
      "text/plain": [
       "[1] \"04\"       \"19\"       \"19 08:46\""
      ]
     },
     "metadata": {},
     "output_type": "display_data"
    }
   ],
   "source": [
    "str_split(all_data[[1 ,'Order.Date']] , '/')[[1]]\n",
    "\n",
    "## unlist(str_split(all_data[[1 ,'Order.Date']] , '/'))"
   ]
  },
  {
   "cell_type": "code",
   "execution_count": 27,
   "id": "e7915b94",
   "metadata": {},
   "outputs": [
    {
     "data": {
      "text/html": [
       "'04'"
      ],
      "text/latex": [
       "'04'"
      ],
      "text/markdown": [
       "'04'"
      ],
      "text/plain": [
       "[1] \"04\""
      ]
     },
     "metadata": {},
     "output_type": "display_data"
    }
   ],
   "source": [
    "str_split(all_data[[1 ,'Order.Date']] , '/')[[1]][1] ## way to access month \n",
    "\n",
    "## u have to double double brackets in order to access key 1.. ie [[1]]\n",
    "## u have to use single brackets in order to access index 1 , ie [1]\n",
    "\n",
    "## stringr :: str_split(all_data$Order.Date[1] , '/')[[1]][1]\n",
    "## unlist(str_split(all_data$Order.Date[1] , '/'))[1]"
   ]
  },
  {
   "cell_type": "code",
   "execution_count": null,
   "id": "3cbf9aa0-d151-4b25-a736-f04120ef42b6",
   "metadata": {},
   "outputs": [],
   "source": []
  },
  {
   "cell_type": "code",
   "execution_count": 16,
   "id": "7a1d3c0a",
   "metadata": {},
   "outputs": [],
   "source": [
    "return_month = function(x)\n",
    "{\n",
    "    splitted_str = stringr :: str_split(x , '/')\n",
    "    month = unlist(splitted_str)[1]\n",
    "    return (month)\n",
    "}"
   ]
  },
  {
   "cell_type": "code",
   "execution_count": 17,
   "id": "144f8fe5",
   "metadata": {},
   "outputs": [
    {
     "data": {
      "text/html": [
       "<style>\n",
       ".list-inline {list-style: none; margin:0; padding: 0}\n",
       ".list-inline>li {display: inline-block}\n",
       ".list-inline>li:not(:last-child)::after {content: \"\\00b7\"; padding: 0 .5ex}\n",
       "</style>\n",
       "<ol class=list-inline><li>'tbl_df'</li><li>'tbl'</li><li>'data.frame'</li></ol>\n"
      ],
      "text/latex": [
       "\\begin{enumerate*}\n",
       "\\item 'tbl\\_df'\n",
       "\\item 'tbl'\n",
       "\\item 'data.frame'\n",
       "\\end{enumerate*}\n"
      ],
      "text/markdown": [
       "1. 'tbl_df'\n",
       "2. 'tbl'\n",
       "3. 'data.frame'\n",
       "\n",
       "\n"
      ],
      "text/plain": [
       "[1] \"tbl_df\"     \"tbl\"        \"data.frame\""
      ]
     },
     "metadata": {},
     "output_type": "display_data"
    }
   ],
   "source": [
    "class(all_data['Order.Date'])\n",
    "\n",
    "### all_data['Order Date']\n",
    "## It can be interpreted as multiple data structure , depending on how it is treated or used in diff. contexts.."
   ]
  },
  {
   "cell_type": "code",
   "execution_count": null,
   "id": "ec2c39df",
   "metadata": {},
   "outputs": [],
   "source": [
    "\"\n",
    "\n",
    "\"tbl_df\" and \"tbl\" : \n",
    "tbl_df' and 'tbl' are related to tibble package , \n",
    "they are almost similar to data frames but with some enhancements, \n",
    "such as improved printing and handling of column types..\n",
    "\n",
    "So If you are working within the tidyverse ecosystem, \n",
    "especially with packages like \"dplyr\" or \"ggplot2\" , \n",
    "the resulting data structure may be treated as a 'tbl_df' or 'tbl' \n",
    "because these packages often return data frames as tibbles \n",
    "to take advantage of their enhanced features..\n",
    "\n",
    "\n",
    "        ie In R, \"tbl_df\" is a subclass of \"tbl.\" \n",
    "        By the way \"tbl_df\" and \"tbl\" are classes provided by the tibble package, \n",
    "        which is an extension of the data frame class in R.\n",
    "\n",
    "\n",
    "\n",
    "data.frame: \n",
    "If you are working with base R functions or other packages that do not use tibbles, \n",
    "then data structure may be treated as a standard 'data.frame'.\n",
    "\n",
    "\n",
    "\n",
    "\n",
    "\""
   ]
  },
  {
   "cell_type": "code",
   "execution_count": null,
   "id": "3f3666d8",
   "metadata": {},
   "outputs": [],
   "source": []
  },
  {
   "cell_type": "code",
   "execution_count": null,
   "id": "e6e34dca",
   "metadata": {},
   "outputs": [],
   "source": [
    "help(apply)\n",
    "\n",
    "## Returns a vector or array or list of values obtained by applying a function to an array or matrix.."
   ]
  },
  {
   "cell_type": "code",
   "execution_count": 18,
   "id": "c9b29f8a",
   "metadata": {},
   "outputs": [
    {
     "data": {
      "text/html": [
       "<pre class=language-r><code>function (X, MARGIN, FUN, ..., simplify = TRUE) \n",
       "NULL</code></pre>"
      ],
      "text/latex": [
       "\\begin{minted}{r}\n",
       "function (X, MARGIN, FUN, ..., simplify = TRUE) \n",
       "NULL\n",
       "\\end{minted}"
      ],
      "text/markdown": [
       "```r\n",
       "function (X, MARGIN, FUN, ..., simplify = TRUE) \n",
       "NULL\n",
       "```"
      ],
      "text/plain": [
       "function (X, MARGIN, FUN, ..., simplify = TRUE) \n",
       "NULL"
      ]
     },
     "metadata": {},
     "output_type": "display_data"
    }
   ],
   "source": [
    "args(apply)\n",
    "\n",
    "## Syntax : apply(X, MARGIN, FUN)\n",
    "\n",
    "## If the margin is 1 ,  function is applied across row, \n",
    "## if the margin is 2 ,  function is applied across the column "
   ]
  },
  {
   "cell_type": "markdown",
   "id": "3284b614",
   "metadata": {},
   "source": [
    "    apply() is used when we want to apply a function to the rows or columns of a data frame.. \n",
    "    It cannot be applied on lists or vectors.."
   ]
  },
  {
   "cell_type": "code",
   "execution_count": null,
   "id": "652312e0",
   "metadata": {},
   "outputs": [],
   "source": []
  },
  {
   "cell_type": "code",
   "execution_count": null,
   "id": "ecbc80dc",
   "metadata": {},
   "outputs": [],
   "source": []
  },
  {
   "cell_type": "markdown",
   "id": "e3541209",
   "metadata": {},
   "source": [
    "    Single bracket [ ] = returns output in dataframe\n",
    "    Double bracket [[ ]] = returns output in vector \n",
    "    Dollar Sign\"$\" = returns output in vector"
   ]
  },
  {
   "cell_type": "code",
   "execution_count": null,
   "id": "4e591dd9",
   "metadata": {},
   "outputs": [],
   "source": [
    "class(all_data$Order.Date) ## ie its a character vector "
   ]
  },
  {
   "cell_type": "code",
   "execution_count": null,
   "id": "82376bd5",
   "metadata": {},
   "outputs": [],
   "source": [
    "class(all_data[['Order.Date']]) ## ie it is also a character vector "
   ]
  },
  {
   "cell_type": "code",
   "execution_count": null,
   "id": "49ec7bfc",
   "metadata": {},
   "outputs": [],
   "source": [
    "class(all_data['Order.Date']) ## ie its a dataframe"
   ]
  },
  {
   "cell_type": "code",
   "execution_count": null,
   "id": "781e7b5d",
   "metadata": {},
   "outputs": [],
   "source": []
  },
  {
   "cell_type": "code",
   "execution_count": 19,
   "id": "031f9646",
   "metadata": {},
   "outputs": [],
   "source": [
    "all_data['Month'] = apply(all_data['Order.Date'] , 1 , return_month) \n",
    "\n",
    "## 1 means : apply this function to evry row of 'Order Date' column..\n",
    "## take 5-10 sec(NEW PC)\n",
    "\n",
    "## takes 20-40 sec..(OLD PC)"
   ]
  },
  {
   "cell_type": "code",
   "execution_count": null,
   "id": "ddde92d8",
   "metadata": {},
   "outputs": [],
   "source": [
    "## apply() is used when we want to apply a function to the rows or columns of a data frame. \n",
    "## I/p : This function takes array, matrix or dataframe\n",
    "\n",
    "## It cannot be applied on lists or vectors.. \n",
    "## ie we use : apply(all_data$Order.Date , 1 , return_month) \n",
    "## this will return an \"error\"\n",
    "\n",
    "## all_data$Order.Date >> this will actually return vector not a dataframe , hence we have to use \n",
    "## head(all_data['Order.Date'] , 10) >> returns O/P in form of dataframe "
   ]
  },
  {
   "cell_type": "code",
   "execution_count": null,
   "id": "fec6b403",
   "metadata": {},
   "outputs": [],
   "source": []
  },
  {
   "cell_type": "code",
   "execution_count": null,
   "id": "74d5911e",
   "metadata": {},
   "outputs": [],
   "source": [
    "help(lapply)\n",
    "\n",
    "## lapply returns a list \n",
    "\n",
    "## lapply( x , fun )\n",
    "## X : a vector (atomic or list) \n",
    "## FUN : the function to be applied to each element of x"
   ]
  },
  {
   "cell_type": "code",
   "execution_count": 20,
   "id": "da87ac9b",
   "metadata": {},
   "outputs": [
    {
     "data": {
      "text/html": [
       "<pre class=language-r><code>function (X, FUN, ...) \n",
       "NULL</code></pre>"
      ],
      "text/latex": [
       "\\begin{minted}{r}\n",
       "function (X, FUN, ...) \n",
       "NULL\n",
       "\\end{minted}"
      ],
      "text/markdown": [
       "```r\n",
       "function (X, FUN, ...) \n",
       "NULL\n",
       "```"
      ],
      "text/plain": [
       "function (X, FUN, ...) \n",
       "NULL"
      ]
     },
     "metadata": {},
     "output_type": "display_data"
    }
   ],
   "source": [
    "args(lapply)"
   ]
  },
  {
   "cell_type": "code",
   "execution_count": null,
   "id": "4b247069",
   "metadata": {},
   "outputs": [],
   "source": [
    "\"\n",
    "\n",
    "X : This is the list (or vector) , dataframe on which u want to apply function FUN ..\n",
    "\n",
    "FUN : This is the function to be applied to each element of the list X..\n",
    "\n",
    "... : These are additional arguments that can be passed to the lapply as per need..\n",
    "\n",
    "\n",
    "\""
   ]
  },
  {
   "cell_type": "code",
   "execution_count": 21,
   "id": "f6f6ce21",
   "metadata": {},
   "outputs": [
    {
     "data": {
      "text/html": [
       "<dl>\n",
       "\t<dt>$Order.ID</dt>\n",
       "\t\t<dd>'character'</dd>\n",
       "\t<dt>$Product</dt>\n",
       "\t\t<dd>'character'</dd>\n",
       "\t<dt>$Quantity.Ordered</dt>\n",
       "\t\t<dd>'character'</dd>\n",
       "\t<dt>$Price.Each</dt>\n",
       "\t\t<dd>'character'</dd>\n",
       "\t<dt>$Order.Date</dt>\n",
       "\t\t<dd>'character'</dd>\n",
       "\t<dt>$Purchase.Address</dt>\n",
       "\t\t<dd>'character'</dd>\n",
       "\t<dt>$Month</dt>\n",
       "\t\t<dd>'character'</dd>\n",
       "</dl>\n"
      ],
      "text/latex": [
       "\\begin{description}\n",
       "\\item[\\$Order.ID] 'character'\n",
       "\\item[\\$Product] 'character'\n",
       "\\item[\\$Quantity.Ordered] 'character'\n",
       "\\item[\\$Price.Each] 'character'\n",
       "\\item[\\$Order.Date] 'character'\n",
       "\\item[\\$Purchase.Address] 'character'\n",
       "\\item[\\$Month] 'character'\n",
       "\\end{description}\n"
      ],
      "text/markdown": [
       "$Order.ID\n",
       ":   'character'\n",
       "$Product\n",
       ":   'character'\n",
       "$Quantity.Ordered\n",
       ":   'character'\n",
       "$Price.Each\n",
       ":   'character'\n",
       "$Order.Date\n",
       ":   'character'\n",
       "$Purchase.Address\n",
       ":   'character'\n",
       "$Month\n",
       ":   'character'\n",
       "\n",
       "\n"
      ],
      "text/plain": [
       "$Order.ID\n",
       "[1] \"character\"\n",
       "\n",
       "$Product\n",
       "[1] \"character\"\n",
       "\n",
       "$Quantity.Ordered\n",
       "[1] \"character\"\n",
       "\n",
       "$Price.Each\n",
       "[1] \"character\"\n",
       "\n",
       "$Order.Date\n",
       "[1] \"character\"\n",
       "\n",
       "$Purchase.Address\n",
       "[1] \"character\"\n",
       "\n",
       "$Month\n",
       "[1] \"character\"\n"
      ]
     },
     "metadata": {},
     "output_type": "display_data"
    }
   ],
   "source": [
    "lapply(all_data , class) ## to understand data-types\n",
    "\n",
    "## lapply(all_data , class) : It apply a class function to each element/key of a list or each column of a data frame"
   ]
  },
  {
   "cell_type": "code",
   "execution_count": 33,
   "id": "960d10af",
   "metadata": {},
   "outputs": [
    {
     "ename": "ERROR",
     "evalue": "Error in eval(expr, envir, enclos): 'list' object cannot be coerced to type 'integer'\n",
     "output_type": "error",
     "traceback": [
      "Error in eval(expr, envir, enclos): 'list' object cannot be coerced to type 'integer'\nTraceback:\n"
     ]
    }
   ],
   "source": [
    "### since data-structure of \"month\" is character , lets convert it into integer..\n",
    "\n",
    "as.integer(all_data[\"Month\"])\n",
    "\n",
    "\n",
    "## ie there is something wrong as the error is all about : \n",
    "## U are trying to convert list object into an integer data type, \n",
    "## and this operation is not possible.. \n",
    "## ie , may be u may not have integer values.."
   ]
  },
  {
   "cell_type": "code",
   "execution_count": null,
   "id": "b16120e5",
   "metadata": {},
   "outputs": [],
   "source": [
    "### as we are getting error , lets check unique values of month in this 'month' feature.."
   ]
  },
  {
   "cell_type": "code",
   "execution_count": null,
   "id": "d453cecd",
   "metadata": {},
   "outputs": [],
   "source": []
  },
  {
   "cell_type": "code",
   "execution_count": 34,
   "id": "42868889",
   "metadata": {},
   "outputs": [
    {
     "data": {
      "text/html": [
       "<style>\n",
       ".list-inline {list-style: none; margin:0; padding: 0}\n",
       ".list-inline>li {display: inline-block}\n",
       ".list-inline>li:not(:last-child)::after {content: \"\\00b7\"; padding: 0 .5ex}\n",
       "</style>\n",
       "<ol class=list-inline><li>'04'</li><li>'05'</li><li>'Order Date'</li><li>'08'</li><li>'09'</li><li>'12'</li><li>'01'</li><li>'02'</li><li>'03'</li><li>'07'</li><li>'06'</li><li>'11'</li><li>'10'</li></ol>\n"
      ],
      "text/latex": [
       "\\begin{enumerate*}\n",
       "\\item '04'\n",
       "\\item '05'\n",
       "\\item 'Order Date'\n",
       "\\item '08'\n",
       "\\item '09'\n",
       "\\item '12'\n",
       "\\item '01'\n",
       "\\item '02'\n",
       "\\item '03'\n",
       "\\item '07'\n",
       "\\item '06'\n",
       "\\item '11'\n",
       "\\item '10'\n",
       "\\end{enumerate*}\n"
      ],
      "text/markdown": [
       "1. '04'\n",
       "2. '05'\n",
       "3. 'Order Date'\n",
       "4. '08'\n",
       "5. '09'\n",
       "6. '12'\n",
       "7. '01'\n",
       "8. '02'\n",
       "9. '03'\n",
       "10. '07'\n",
       "11. '06'\n",
       "12. '11'\n",
       "13. '10'\n",
       "\n",
       "\n"
      ],
      "text/plain": [
       " [1] \"04\"         \"05\"         \"Order Date\" \"08\"         \"09\"        \n",
       " [6] \"12\"         \"01\"         \"02\"         \"03\"         \"07\"        \n",
       "[11] \"06\"         \"11\"         \"10\"        "
      ]
     },
     "metadata": {},
     "output_type": "display_data"
    }
   ],
   "source": [
    "unique(all_data$Month)"
   ]
  },
  {
   "cell_type": "code",
   "execution_count": 22,
   "id": "83b0b385",
   "metadata": {},
   "outputs": [],
   "source": [
    "filter1 = all_data['Month']=='Order Date'"
   ]
  },
  {
   "cell_type": "code",
   "execution_count": 23,
   "id": "57e3abd0",
   "metadata": {},
   "outputs": [
    {
     "data": {
      "text/html": [
       "<table class=\"dataframe\">\n",
       "<caption>A tibble: 1 × 7</caption>\n",
       "<thead>\n",
       "\t<tr><th scope=col>Order.ID</th><th scope=col>Product</th><th scope=col>Quantity.Ordered</th><th scope=col>Price.Each</th><th scope=col>Order.Date</th><th scope=col>Purchase.Address</th><th scope=col>Month</th></tr>\n",
       "\t<tr><th scope=col>&lt;chr&gt;</th><th scope=col>&lt;chr&gt;</th><th scope=col>&lt;chr&gt;</th><th scope=col>&lt;chr&gt;</th><th scope=col>&lt;chr&gt;</th><th scope=col>&lt;chr&gt;</th><th scope=col>&lt;chr&gt;</th></tr>\n",
       "</thead>\n",
       "<tbody>\n",
       "\t<tr><td>Order ID</td><td>Product</td><td>Quantity Ordered</td><td>Price Each</td><td>Order Date</td><td>Purchase Address</td><td>Order Date</td></tr>\n",
       "</tbody>\n",
       "</table>\n"
      ],
      "text/latex": [
       "A tibble: 1 × 7\n",
       "\\begin{tabular}{lllllll}\n",
       " Order.ID & Product & Quantity.Ordered & Price.Each & Order.Date & Purchase.Address & Month\\\\\n",
       " <chr> & <chr> & <chr> & <chr> & <chr> & <chr> & <chr>\\\\\n",
       "\\hline\n",
       "\t Order ID & Product & Quantity Ordered & Price Each & Order Date & Purchase Address & Order Date\\\\\n",
       "\\end{tabular}\n"
      ],
      "text/markdown": [
       "\n",
       "A tibble: 1 × 7\n",
       "\n",
       "| Order.ID &lt;chr&gt; | Product &lt;chr&gt; | Quantity.Ordered &lt;chr&gt; | Price.Each &lt;chr&gt; | Order.Date &lt;chr&gt; | Purchase.Address &lt;chr&gt; | Month &lt;chr&gt; |\n",
       "|---|---|---|---|---|---|---|\n",
       "| Order ID | Product | Quantity Ordered | Price Each | Order Date | Purchase Address | Order Date |\n",
       "\n"
      ],
      "text/plain": [
       "  Order.ID Product Quantity.Ordered Price.Each Order.Date Purchase.Address\n",
       "1 Order ID Product Quantity Ordered Price Each Order Date Purchase Address\n",
       "  Month     \n",
       "1 Order Date"
      ]
     },
     "metadata": {},
     "output_type": "display_data"
    }
   ],
   "source": [
    "all_data[filter1 ,]  ## ie , only 1 row have invalid entry in \"Order.ID\" feature"
   ]
  },
  {
   "cell_type": "code",
   "execution_count": null,
   "id": "d475b2fb",
   "metadata": {},
   "outputs": [],
   "source": []
  },
  {
   "cell_type": "code",
   "execution_count": 24,
   "id": "e7cd87f6",
   "metadata": {},
   "outputs": [],
   "source": [
    "all_data = all_data[!filter1 ,] ## data[rows , cols]"
   ]
  },
  {
   "cell_type": "code",
   "execution_count": 38,
   "id": "54a6ca8b",
   "metadata": {},
   "outputs": [
    {
     "data": {
      "text/html": [
       "<style>\n",
       ".list-inline {list-style: none; margin:0; padding: 0}\n",
       ".list-inline>li {display: inline-block}\n",
       ".list-inline>li:not(:last-child)::after {content: \"\\00b7\"; padding: 0 .5ex}\n",
       "</style>\n",
       "<ol class=list-inline><li>185686</li><li>7</li></ol>\n"
      ],
      "text/latex": [
       "\\begin{enumerate*}\n",
       "\\item 185686\n",
       "\\item 7\n",
       "\\end{enumerate*}\n"
      ],
      "text/markdown": [
       "1. 185686\n",
       "2. 7\n",
       "\n",
       "\n"
      ],
      "text/plain": [
       "[1] 185686      7"
      ]
     },
     "metadata": {},
     "output_type": "display_data"
    }
   ],
   "source": [
    "dim(all_data)"
   ]
  },
  {
   "cell_type": "code",
   "execution_count": 39,
   "id": "9e37d108",
   "metadata": {},
   "outputs": [
    {
     "data": {
      "text/html": [
       "<table class=\"dataframe\">\n",
       "<caption>A tibble: 2 × 7</caption>\n",
       "<thead>\n",
       "\t<tr><th></th><th scope=col>Order.ID</th><th scope=col>Product</th><th scope=col>Quantity.Ordered</th><th scope=col>Price.Each</th><th scope=col>Order.Date</th><th scope=col>Purchase.Address</th><th scope=col>Month</th></tr>\n",
       "\t<tr><th></th><th scope=col>&lt;chr&gt;</th><th scope=col>&lt;chr&gt;</th><th scope=col>&lt;chr&gt;</th><th scope=col>&lt;chr&gt;</th><th scope=col>&lt;chr&gt;</th><th scope=col>&lt;chr&gt;</th><th scope=col>&lt;chr&gt;</th></tr>\n",
       "</thead>\n",
       "<tbody>\n",
       "\t<tr><th scope=row>1</th><td>176558</td><td>USB-C Charging Cable      </td><td>2</td><td>11.95</td><td>04/19/19 08:46</td><td>917 1st St, Dallas, TX 75001     </td><td>04</td></tr>\n",
       "\t<tr><th scope=row>3</th><td>176559</td><td>Bose SoundSport Headphones</td><td>1</td><td>99.99</td><td>04/07/19 22:30</td><td>682 Chestnut St, Boston, MA 02215</td><td>04</td></tr>\n",
       "</tbody>\n",
       "</table>\n"
      ],
      "text/latex": [
       "A tibble: 2 × 7\n",
       "\\begin{tabular}{r|lllllll}\n",
       "  & Order.ID & Product & Quantity.Ordered & Price.Each & Order.Date & Purchase.Address & Month\\\\\n",
       "  & <chr> & <chr> & <chr> & <chr> & <chr> & <chr> & <chr>\\\\\n",
       "\\hline\n",
       "\t1 & 176558 & USB-C Charging Cable       & 2 & 11.95 & 04/19/19 08:46 & 917 1st St, Dallas, TX 75001      & 04\\\\\n",
       "\t3 & 176559 & Bose SoundSport Headphones & 1 & 99.99 & 04/07/19 22:30 & 682 Chestnut St, Boston, MA 02215 & 04\\\\\n",
       "\\end{tabular}\n"
      ],
      "text/markdown": [
       "\n",
       "A tibble: 2 × 7\n",
       "\n",
       "| <!--/--> | Order.ID &lt;chr&gt; | Product &lt;chr&gt; | Quantity.Ordered &lt;chr&gt; | Price.Each &lt;chr&gt; | Order.Date &lt;chr&gt; | Purchase.Address &lt;chr&gt; | Month &lt;chr&gt; |\n",
       "|---|---|---|---|---|---|---|---|\n",
       "| 1 | 176558 | USB-C Charging Cable       | 2 | 11.95 | 04/19/19 08:46 | 917 1st St, Dallas, TX 75001      | 04 |\n",
       "| 3 | 176559 | Bose SoundSport Headphones | 1 | 99.99 | 04/07/19 22:30 | 682 Chestnut St, Boston, MA 02215 | 04 |\n",
       "\n"
      ],
      "text/plain": [
       "  Order.ID Product                    Quantity.Ordered Price.Each\n",
       "1 176558   USB-C Charging Cable       2                11.95     \n",
       "3 176559   Bose SoundSport Headphones 1                99.99     \n",
       "  Order.Date     Purchase.Address                  Month\n",
       "1 04/19/19 08:46 917 1st St, Dallas, TX 75001      04   \n",
       "3 04/07/19 22:30 682 Chestnut St, Boston, MA 02215 04   "
      ]
     },
     "metadata": {},
     "output_type": "display_data"
    }
   ],
   "source": [
    "head(all_data , 2)"
   ]
  },
  {
   "cell_type": "code",
   "execution_count": 25,
   "id": "d9d584de",
   "metadata": {},
   "outputs": [],
   "source": [
    "all_data$Month = as.integer(all_data$Month)  \n",
    "\n",
    "## convert data-type of \"Month\" feature from character to integer .."
   ]
  },
  {
   "cell_type": "code",
   "execution_count": 26,
   "id": "0a363510",
   "metadata": {},
   "outputs": [],
   "source": [
    "all_data$Price.Each = as.double(all_data$Price.Each)\n",
    "\n",
    "## convert data-type of \"Price Each\" feature from character to double(float in python).."
   ]
  },
  {
   "cell_type": "code",
   "execution_count": 27,
   "id": "a77dfbd1",
   "metadata": {},
   "outputs": [],
   "source": [
    "all_data[['Quantity.Ordered']] = as.integer(all_data[['Quantity.Ordered']]) \n",
    "\n",
    "## convert data-type of \"Quantity Ordered\" feature from character to integer.."
   ]
  },
  {
   "cell_type": "code",
   "execution_count": 28,
   "id": "f928fb97",
   "metadata": {},
   "outputs": [],
   "source": [
    "all_data['sales'] = all_data['Quantity.Ordered'] * all_data['Price.Each']"
   ]
  },
  {
   "cell_type": "code",
   "execution_count": 29,
   "id": "f24fdbca",
   "metadata": {},
   "outputs": [
    {
     "data": {
      "text/html": [
       "<table class=\"dataframe\">\n",
       "<caption>A tibble: 2 × 8</caption>\n",
       "<thead>\n",
       "\t<tr><th scope=col>Order.ID</th><th scope=col>Product</th><th scope=col>Quantity.Ordered</th><th scope=col>Price.Each</th><th scope=col>Order.Date</th><th scope=col>Purchase.Address</th><th scope=col>Month</th><th scope=col>sales</th></tr>\n",
       "\t<tr><th scope=col>&lt;chr&gt;</th><th scope=col>&lt;chr&gt;</th><th scope=col>&lt;int&gt;</th><th scope=col>&lt;dbl&gt;</th><th scope=col>&lt;chr&gt;</th><th scope=col>&lt;chr&gt;</th><th scope=col>&lt;int&gt;</th><th scope=col>&lt;dbl&gt;</th></tr>\n",
       "</thead>\n",
       "<tbody>\n",
       "\t<tr><td>176558</td><td>USB-C Charging Cable      </td><td>2</td><td>11.95</td><td>04/19/19 08:46</td><td>917 1st St, Dallas, TX 75001     </td><td>4</td><td>23.90</td></tr>\n",
       "\t<tr><td>176559</td><td>Bose SoundSport Headphones</td><td>1</td><td>99.99</td><td>04/07/19 22:30</td><td>682 Chestnut St, Boston, MA 02215</td><td>4</td><td>99.99</td></tr>\n",
       "</tbody>\n",
       "</table>\n"
      ],
      "text/latex": [
       "A tibble: 2 × 8\n",
       "\\begin{tabular}{llllllll}\n",
       " Order.ID & Product & Quantity.Ordered & Price.Each & Order.Date & Purchase.Address & Month & sales\\\\\n",
       " <chr> & <chr> & <int> & <dbl> & <chr> & <chr> & <int> & <dbl>\\\\\n",
       "\\hline\n",
       "\t 176558 & USB-C Charging Cable       & 2 & 11.95 & 04/19/19 08:46 & 917 1st St, Dallas, TX 75001      & 4 & 23.90\\\\\n",
       "\t 176559 & Bose SoundSport Headphones & 1 & 99.99 & 04/07/19 22:30 & 682 Chestnut St, Boston, MA 02215 & 4 & 99.99\\\\\n",
       "\\end{tabular}\n"
      ],
      "text/markdown": [
       "\n",
       "A tibble: 2 × 8\n",
       "\n",
       "| Order.ID &lt;chr&gt; | Product &lt;chr&gt; | Quantity.Ordered &lt;int&gt; | Price.Each &lt;dbl&gt; | Order.Date &lt;chr&gt; | Purchase.Address &lt;chr&gt; | Month &lt;int&gt; | sales &lt;dbl&gt; |\n",
       "|---|---|---|---|---|---|---|---|\n",
       "| 176558 | USB-C Charging Cable       | 2 | 11.95 | 04/19/19 08:46 | 917 1st St, Dallas, TX 75001      | 4 | 23.90 |\n",
       "| 176559 | Bose SoundSport Headphones | 1 | 99.99 | 04/07/19 22:30 | 682 Chestnut St, Boston, MA 02215 | 4 | 99.99 |\n",
       "\n"
      ],
      "text/plain": [
       "  Order.ID Product                    Quantity.Ordered Price.Each\n",
       "1 176558   USB-C Charging Cable       2                11.95     \n",
       "2 176559   Bose SoundSport Headphones 1                99.99     \n",
       "  Order.Date     Purchase.Address                  Month sales\n",
       "1 04/19/19 08:46 917 1st St, Dallas, TX 75001      4     23.90\n",
       "2 04/07/19 22:30 682 Chestnut St, Boston, MA 02215 4     99.99"
      ]
     },
     "metadata": {},
     "output_type": "display_data"
    }
   ],
   "source": [
    "head(all_data , 2)"
   ]
  },
  {
   "cell_type": "code",
   "execution_count": null,
   "id": "ecca8601",
   "metadata": {},
   "outputs": [],
   "source": []
  },
  {
   "cell_type": "code",
   "execution_count": null,
   "id": "ea31e475",
   "metadata": {},
   "outputs": [],
   "source": [
    "### we have used group_by multiple times in previous case studies !"
   ]
  },
  {
   "cell_type": "code",
   "execution_count": 31,
   "id": "e1f1aac9",
   "metadata": {},
   "outputs": [],
   "source": [
    "library(dplyr)"
   ]
  },
  {
   "cell_type": "code",
   "execution_count": 32,
   "id": "aa271686",
   "metadata": {},
   "outputs": [],
   "source": [
    "help(group_by)\n",
    "\n",
    "### Group by one or more variables !"
   ]
  },
  {
   "cell_type": "code",
   "execution_count": null,
   "id": "e3ebb166",
   "metadata": {},
   "outputs": [],
   "source": [
    "args(group_by)"
   ]
  },
  {
   "cell_type": "markdown",
   "id": "4f0f8f24",
   "metadata": {},
   "source": [
    "    .data: This is the data frame that you want to group. \n",
    "            It represents the dataset on which u want to apply groupby()\n",
    "\n",
    "    ...: The ellipsis (...) is a placeholder for additional arguments. \n",
    "        In the case of group_by(), it allows you to specify the grouping columns. \n",
    "        You can provide column names, expressions, or functions that generate the grouping variables.."
   ]
  },
  {
   "cell_type": "code",
   "execution_count": null,
   "id": "39b3a94b",
   "metadata": {},
   "outputs": [],
   "source": []
  },
  {
   "cell_type": "code",
   "execution_count": null,
   "id": "9bd3e273",
   "metadata": {},
   "outputs": [],
   "source": [
    "help(summarise)"
   ]
  },
  {
   "cell_type": "code",
   "execution_count": null,
   "id": "7c0e2c89",
   "metadata": {},
   "outputs": [],
   "source": [
    "\"\n",
    "\n",
    "summarise() creates a new data frame..\n",
    "It returns one value/row for each combination of grouping variables ;\n",
    "                    OR\n",
    "It returns one value for every sub-category in grouping variables ;\n",
    "eg avg price of category col\n",
    "                    OR\n",
    "for every year & month , it returns 1 value (avg_close)\n",
    "\n",
    "\n",
    "if there are no grouping variables, the output will have a single value \n",
    "which is summarising rows of a column..\n",
    "\n",
    "\""
   ]
  },
  {
   "cell_type": "code",
   "execution_count": 16,
   "id": "a42e3d86",
   "metadata": {},
   "outputs": [
    {
     "data": {
      "text/html": [
       "<pre class=language-r><code>function (.data, ..., .by = NULL, .groups = NULL) \n",
       "NULL</code></pre>"
      ],
      "text/latex": [
       "\\begin{minted}{r}\n",
       "function (.data, ..., .by = NULL, .groups = NULL) \n",
       "NULL\n",
       "\\end{minted}"
      ],
      "text/markdown": [
       "```r\n",
       "function (.data, ..., .by = NULL, .groups = NULL) \n",
       "NULL\n",
       "```"
      ],
      "text/plain": [
       "function (.data, ..., .by = NULL, .groups = NULL) \n",
       "NULL"
      ]
     },
     "metadata": {},
     "output_type": "display_data"
    }
   ],
   "source": [
    "args(summarise)"
   ]
  },
  {
   "cell_type": "markdown",
   "id": "7020558b",
   "metadata": {},
   "source": [
    "    .data : data frame or tibble you want to summarize..\n",
    "\n",
    "    ... : The ellipsis (...) means I can pass additional arguments, \n",
    "          which are typically expressions that define the new columns or summary statistics you want to calculate.."
   ]
  },
  {
   "cell_type": "code",
   "execution_count": null,
   "id": "e321e877",
   "metadata": {},
   "outputs": [],
   "source": []
  },
  {
   "cell_type": "code",
   "execution_count": null,
   "id": "43b1cb68",
   "metadata": {},
   "outputs": [],
   "source": [
    "gdf = group_by(all_data , Month )\n",
    "summarise(gdf , Total_sales = sum(sales))\n",
    "\n",
    "## summarise(group_by(all_data , Month ) , Total_sales = sum(sales))"
   ]
  },
  {
   "cell_type": "code",
   "execution_count": null,
   "id": "ccd3b824",
   "metadata": {},
   "outputs": [],
   "source": [
    "### lets write similar code using dplyr chaining , \n",
    "### as chaining makes code more readable !\n",
    "\n",
    "### before executing below code , make sure u have installed & imported dplyr\n",
    "### as pipe operator is defined in dplyr package"
   ]
  },
  {
   "cell_type": "code",
   "execution_count": 47,
   "id": "d0fabea1",
   "metadata": {},
   "outputs": [],
   "source": [
    "result = all_data %>% dplyr :: group_by(Month) %>%  \n",
    "                    summarize(Total_sales = sum(sales))"
   ]
  },
  {
   "cell_type": "code",
   "execution_count": 48,
   "id": "0ba85fec",
   "metadata": {},
   "outputs": [
    {
     "data": {
      "text/html": [
       "<table class=\"dataframe\">\n",
       "<caption>A tibble: 12 × 2</caption>\n",
       "<thead>\n",
       "\t<tr><th scope=col>Month</th><th scope=col>Total_sales</th></tr>\n",
       "\t<tr><th scope=col>&lt;int&gt;</th><th scope=col>&lt;dbl&gt;</th></tr>\n",
       "</thead>\n",
       "<tbody>\n",
       "\t<tr><td> 1</td><td>1821413</td></tr>\n",
       "\t<tr><td> 2</td><td>2200078</td></tr>\n",
       "\t<tr><td> 3</td><td>2804973</td></tr>\n",
       "\t<tr><td> 4</td><td>3389218</td></tr>\n",
       "\t<tr><td> 5</td><td>3150616</td></tr>\n",
       "\t<tr><td> 6</td><td>2576280</td></tr>\n",
       "\t<tr><td> 7</td><td>2646461</td></tr>\n",
       "\t<tr><td> 8</td><td>2241083</td></tr>\n",
       "\t<tr><td> 9</td><td>2094466</td></tr>\n",
       "\t<tr><td>10</td><td>3734778</td></tr>\n",
       "\t<tr><td>11</td><td>3197875</td></tr>\n",
       "\t<tr><td>12</td><td>4608296</td></tr>\n",
       "</tbody>\n",
       "</table>\n"
      ],
      "text/latex": [
       "A tibble: 12 × 2\n",
       "\\begin{tabular}{ll}\n",
       " Month & Total\\_sales\\\\\n",
       " <int> & <dbl>\\\\\n",
       "\\hline\n",
       "\t  1 & 1821413\\\\\n",
       "\t  2 & 2200078\\\\\n",
       "\t  3 & 2804973\\\\\n",
       "\t  4 & 3389218\\\\\n",
       "\t  5 & 3150616\\\\\n",
       "\t  6 & 2576280\\\\\n",
       "\t  7 & 2646461\\\\\n",
       "\t  8 & 2241083\\\\\n",
       "\t  9 & 2094466\\\\\n",
       "\t 10 & 3734778\\\\\n",
       "\t 11 & 3197875\\\\\n",
       "\t 12 & 4608296\\\\\n",
       "\\end{tabular}\n"
      ],
      "text/markdown": [
       "\n",
       "A tibble: 12 × 2\n",
       "\n",
       "| Month &lt;int&gt; | Total_sales &lt;dbl&gt; |\n",
       "|---|---|\n",
       "|  1 | 1821413 |\n",
       "|  2 | 2200078 |\n",
       "|  3 | 2804973 |\n",
       "|  4 | 3389218 |\n",
       "|  5 | 3150616 |\n",
       "|  6 | 2576280 |\n",
       "|  7 | 2646461 |\n",
       "|  8 | 2241083 |\n",
       "|  9 | 2094466 |\n",
       "| 10 | 3734778 |\n",
       "| 11 | 3197875 |\n",
       "| 12 | 4608296 |\n",
       "\n"
      ],
      "text/plain": [
       "   Month Total_sales\n",
       "1   1    1821413    \n",
       "2   2    2200078    \n",
       "3   3    2804973    \n",
       "4   4    3389218    \n",
       "5   5    3150616    \n",
       "6   6    2576280    \n",
       "7   7    2646461    \n",
       "8   8    2241083    \n",
       "9   9    2094466    \n",
       "10 10    3734778    \n",
       "11 11    3197875    \n",
       "12 12    4608296    "
      ]
     },
     "metadata": {},
     "output_type": "display_data"
    }
   ],
   "source": [
    "result"
   ]
  },
  {
   "cell_type": "code",
   "execution_count": null,
   "id": "525d1e0c",
   "metadata": {},
   "outputs": [],
   "source": []
  },
  {
   "cell_type": "code",
   "execution_count": null,
   "id": "75bb2262",
   "metadata": {},
   "outputs": [],
   "source": []
  },
  {
   "cell_type": "code",
   "execution_count": null,
   "id": "6f10fe98",
   "metadata": {},
   "outputs": [],
   "source": [
    "help(barplot)"
   ]
  },
  {
   "cell_type": "code",
   "execution_count": null,
   "id": "61e9299c",
   "metadata": {},
   "outputs": [],
   "source": [
    "\"\n",
    "\n",
    "barplot(height , width = 1 , space = NULL ,\n",
    "        names.arg = NULL , legend.text = NULL , .....)\n",
    "\n",
    "    In simple terms in R, S3 stands for \"Simple, Structured, and Sensible.\" \n",
    "    It's a basic system for object-oriented programming\n",
    "                OR\n",
    "    In R, S3 methods are a way to implement object-oriented programming.\n",
    "\n",
    "\n",
    "\""
   ]
  },
  {
   "cell_type": "code",
   "execution_count": 49,
   "id": "e2078dc0",
   "metadata": {},
   "outputs": [
    {
     "data": {
      "text/html": [
       "<pre class=language-r><code>function (height, ...) \n",
       "NULL</code></pre>"
      ],
      "text/latex": [
       "\\begin{minted}{r}\n",
       "function (height, ...) \n",
       "NULL\n",
       "\\end{minted}"
      ],
      "text/markdown": [
       "```r\n",
       "function (height, ...) \n",
       "NULL\n",
       "```"
      ],
      "text/plain": [
       "function (height, ...) \n",
       "NULL"
      ]
     },
     "metadata": {},
     "output_type": "display_data"
    }
   ],
   "source": [
    "args(barplot)\n",
    "\n",
    "## help(barplot)\n",
    "\n",
    "### barplot(height , width , names.arg)\n",
    "### height : what about values we have on Y-axis\n",
    "### names.arg : what about labels we want on X-axis\n",
    "### main : what about title of plot\n",
    "### xlab : to set xlabel\n",
    "### ylab : to set ylabel "
   ]
  },
  {
   "cell_type": "code",
   "execution_count": 50,
   "id": "9f9968ef",
   "metadata": {},
   "outputs": [
    {
     "data": {
      "image/png": "[encoded data removed]",
      "text/plain": [
       "Plot with title \"Total Sales by Month\""
      ]
     },
     "metadata": {
      "image/png": {
       "height": 420,
       "width": 420
      }
     },
     "output_type": "display_data"
    }
   ],
   "source": [
    "barplot(height = result$Total_sales , names.arg = result$Month , \n",
    "        main = \"Total Sales by Month\",\n",
    "        xlab = \"Month\",\n",
    "        ylab = \"Total Sales\") "
   ]
  },
  {
   "cell_type": "code",
   "execution_count": null,
   "id": "7a2edd22",
   "metadata": {},
   "outputs": [],
   "source": [
    "\"\n",
    "\n",
    "->> y-axis scale : it is 1e^6\n",
    "\n",
    "E stands for exponential , in short it is *10^\n",
    "\n",
    "So, 1e6 or 1e^6 OR 1 exponent 6 is the same as 1*10^6 which is same as 1,000,000\n",
    "\n",
    "\n",
    "\""
   ]
  },
  {
   "cell_type": "code",
   "execution_count": null,
   "id": "45ef419b",
   "metadata": {},
   "outputs": [],
   "source": []
  },
  {
   "cell_type": "code",
   "execution_count": null,
   "id": "6c05e235",
   "metadata": {},
   "outputs": [],
   "source": []
  },
  {
   "cell_type": "code",
   "execution_count": null,
   "id": "9f7943d7",
   "metadata": {},
   "outputs": [],
   "source": []
  },
  {
   "cell_type": "markdown",
   "id": "4d7ba75e",
   "metadata": {},
   "source": [
    "# 3.. Which city has max order ? "
   ]
  },
  {
   "cell_type": "code",
   "execution_count": 51,
   "id": "2a65d19e",
   "metadata": {},
   "outputs": [
    {
     "data": {
      "text/html": [
       "<table class=\"dataframe\">\n",
       "<caption>A tibble: 3 × 1</caption>\n",
       "<thead>\n",
       "\t<tr><th scope=col>Purchase.Address</th></tr>\n",
       "\t<tr><th scope=col>&lt;chr&gt;</th></tr>\n",
       "</thead>\n",
       "<tbody>\n",
       "\t<tr><td>917 1st St, Dallas, TX 75001        </td></tr>\n",
       "\t<tr><td>682 Chestnut St, Boston, MA 02215   </td></tr>\n",
       "\t<tr><td>669 Spruce St, Los Angeles, CA 90001</td></tr>\n",
       "</tbody>\n",
       "</table>\n"
      ],
      "text/latex": [
       "A tibble: 3 × 1\n",
       "\\begin{tabular}{l}\n",
       " Purchase.Address\\\\\n",
       " <chr>\\\\\n",
       "\\hline\n",
       "\t 917 1st St, Dallas, TX 75001        \\\\\n",
       "\t 682 Chestnut St, Boston, MA 02215   \\\\\n",
       "\t 669 Spruce St, Los Angeles, CA 90001\\\\\n",
       "\\end{tabular}\n"
      ],
      "text/markdown": [
       "\n",
       "A tibble: 3 × 1\n",
       "\n",
       "| Purchase.Address &lt;chr&gt; |\n",
       "|---|\n",
       "| 917 1st St, Dallas, TX 75001         |\n",
       "| 682 Chestnut St, Boston, MA 02215    |\n",
       "| 669 Spruce St, Los Angeles, CA 90001 |\n",
       "\n"
      ],
      "text/plain": [
       "  Purchase.Address                    \n",
       "1 917 1st St, Dallas, TX 75001        \n",
       "2 682 Chestnut St, Boston, MA 02215   \n",
       "3 669 Spruce St, Los Angeles, CA 90001"
      ]
     },
     "metadata": {},
     "output_type": "display_data"
    }
   ],
   "source": [
    "head(all_data['Purchase.Address'] , 3)"
   ]
  },
  {
   "cell_type": "code",
   "execution_count": 34,
   "id": "fb497c1a",
   "metadata": {},
   "outputs": [],
   "source": [
    "library(stringr)"
   ]
  },
  {
   "cell_type": "code",
   "execution_count": null,
   "id": "a7e0e0fa",
   "metadata": {},
   "outputs": [],
   "source": [
    "### since we have used str_split() of stringr already in the last tutorial to split string ,\n",
    "### let me show u one more way to do this using word().."
   ]
  },
  {
   "cell_type": "code",
   "execution_count": 19,
   "id": "0c8ccd6d",
   "metadata": {},
   "outputs": [],
   "source": [
    "help(word)\n",
    "\n",
    "## Extract words from a sentence"
   ]
  },
  {
   "cell_type": "code",
   "execution_count": null,
   "id": "62d8e940",
   "metadata": {},
   "outputs": [],
   "source": [
    "\"\n",
    "word(string, start = 1L, end = start, sep = fixed(\" \"))\n",
    "\n",
    "\n",
    "\n",
    "string = string on which u want to do manipulations\n",
    "\n",
    "start = 1 , ie it select the first word..\n",
    "        If negative, counts backwards from the last word\n",
    "\n",
    "end = This parameter specifies the position of the last word to be extracted\n",
    "\n",
    "sep = Separator between words. Default is single space.\n",
    "\n",
    "\""
   ]
  },
  {
   "cell_type": "code",
   "execution_count": 53,
   "id": "49428311",
   "metadata": {},
   "outputs": [
    {
     "data": {
      "text/html": [
       "<pre class=language-r><code>function (string, start = 1L, end = start, sep = fixed(\" \")) \n",
       "NULL</code></pre>"
      ],
      "text/latex": [
       "\\begin{minted}{r}\n",
       "function (string, start = 1L, end = start, sep = fixed(\" \")) \n",
       "NULL\n",
       "\\end{minted}"
      ],
      "text/markdown": [
       "```r\n",
       "function (string, start = 1L, end = start, sep = fixed(\" \")) \n",
       "NULL\n",
       "```"
      ],
      "text/plain": [
       "function (string, start = 1L, end = start, sep = fixed(\" \")) \n",
       "NULL"
      ]
     },
     "metadata": {},
     "output_type": "display_data"
    }
   ],
   "source": [
    "args(stringr :: word)"
   ]
  },
  {
   "cell_type": "code",
   "execution_count": null,
   "id": "c7f95aa8",
   "metadata": {},
   "outputs": [],
   "source": []
  },
  {
   "cell_type": "code",
   "execution_count": 54,
   "id": "b26a5364",
   "metadata": {},
   "outputs": [
    {
     "data": {
      "text/html": [
       "'917 1st St, Dallas, TX 75001'"
      ],
      "text/latex": [
       "'917 1st St, Dallas, TX 75001'"
      ],
      "text/markdown": [
       "'917 1st St, Dallas, TX 75001'"
      ],
      "text/plain": [
       "[1] \"917 1st St, Dallas, TX 75001\""
      ]
     },
     "metadata": {},
     "output_type": "display_data"
    }
   ],
   "source": [
    "all_data$Purchase.Address[1]"
   ]
  },
  {
   "cell_type": "code",
   "execution_count": 55,
   "id": "fc61a310",
   "metadata": {},
   "outputs": [
    {
     "data": {
      "text/html": [
       "'917 1st St'"
      ],
      "text/latex": [
       "'917 1st St'"
      ],
      "text/markdown": [
       "'917 1st St'"
      ],
      "text/plain": [
       "[1] \"917 1st St\""
      ]
     },
     "metadata": {},
     "output_type": "display_data"
    }
   ],
   "source": [
    "stringr :: word(all_data$Purchase.Address[1]  , sep = \",\") ## ie default index is 1"
   ]
  },
  {
   "cell_type": "code",
   "execution_count": 56,
   "id": "573704bb",
   "metadata": {},
   "outputs": [
    {
     "data": {
      "text/html": [
       "' Dallas'"
      ],
      "text/latex": [
       "' Dallas'"
      ],
      "text/markdown": [
       "' Dallas'"
      ],
      "text/plain": [
       "[1] \" Dallas\""
      ]
     },
     "metadata": {},
     "output_type": "display_data"
    }
   ],
   "source": [
    "word(all_data$Purchase.Address[1] , 2 , sep = \",\")\n",
    "\n",
    "### ie just access 2nd index data"
   ]
  },
  {
   "cell_type": "code",
   "execution_count": null,
   "id": "9e558784",
   "metadata": {},
   "outputs": [],
   "source": []
  },
  {
   "cell_type": "code",
   "execution_count": 35,
   "id": "fa51959d",
   "metadata": {},
   "outputs": [],
   "source": [
    "all_data['city'] = stringr :: word(all_data$Purchase.Address ,\n",
    "                                   2 , sep = \",\") ## takes 2-5 sec in NEW PC\n",
    "\n",
    "## takes 20 sec (OLD PC)"
   ]
  },
  {
   "cell_type": "code",
   "execution_count": 36,
   "id": "6a7136e1",
   "metadata": {},
   "outputs": [
    {
     "data": {
      "text/html": [
       "<table class=\"dataframe\">\n",
       "<caption>A tibble: 3 × 9</caption>\n",
       "<thead>\n",
       "\t<tr><th scope=col>Order.ID</th><th scope=col>Product</th><th scope=col>Quantity.Ordered</th><th scope=col>Price.Each</th><th scope=col>Order.Date</th><th scope=col>Purchase.Address</th><th scope=col>Month</th><th scope=col>sales</th><th scope=col>city</th></tr>\n",
       "\t<tr><th scope=col>&lt;chr&gt;</th><th scope=col>&lt;chr&gt;</th><th scope=col>&lt;int&gt;</th><th scope=col>&lt;dbl&gt;</th><th scope=col>&lt;chr&gt;</th><th scope=col>&lt;chr&gt;</th><th scope=col>&lt;int&gt;</th><th scope=col>&lt;dbl&gt;</th><th scope=col>&lt;chr&gt;</th></tr>\n",
       "</thead>\n",
       "<tbody>\n",
       "\t<tr><td>176558</td><td>USB-C Charging Cable      </td><td>2</td><td> 11.95</td><td>04/19/19 08:46</td><td>917 1st St, Dallas, TX 75001        </td><td>4</td><td> 23.90</td><td> Dallas     </td></tr>\n",
       "\t<tr><td>176559</td><td>Bose SoundSport Headphones</td><td>1</td><td> 99.99</td><td>04/07/19 22:30</td><td>682 Chestnut St, Boston, MA 02215   </td><td>4</td><td> 99.99</td><td> Boston     </td></tr>\n",
       "\t<tr><td>176560</td><td>Google Phone              </td><td>1</td><td>600.00</td><td>04/12/19 14:38</td><td>669 Spruce St, Los Angeles, CA 90001</td><td>4</td><td>600.00</td><td> Los Angeles</td></tr>\n",
       "</tbody>\n",
       "</table>\n"
      ],
      "text/latex": [
       "A tibble: 3 × 9\n",
       "\\begin{tabular}{lllllllll}\n",
       " Order.ID & Product & Quantity.Ordered & Price.Each & Order.Date & Purchase.Address & Month & sales & city\\\\\n",
       " <chr> & <chr> & <int> & <dbl> & <chr> & <chr> & <int> & <dbl> & <chr>\\\\\n",
       "\\hline\n",
       "\t 176558 & USB-C Charging Cable       & 2 &  11.95 & 04/19/19 08:46 & 917 1st St, Dallas, TX 75001         & 4 &  23.90 &  Dallas     \\\\\n",
       "\t 176559 & Bose SoundSport Headphones & 1 &  99.99 & 04/07/19 22:30 & 682 Chestnut St, Boston, MA 02215    & 4 &  99.99 &  Boston     \\\\\n",
       "\t 176560 & Google Phone               & 1 & 600.00 & 04/12/19 14:38 & 669 Spruce St, Los Angeles, CA 90001 & 4 & 600.00 &  Los Angeles\\\\\n",
       "\\end{tabular}\n"
      ],
      "text/markdown": [
       "\n",
       "A tibble: 3 × 9\n",
       "\n",
       "| Order.ID &lt;chr&gt; | Product &lt;chr&gt; | Quantity.Ordered &lt;int&gt; | Price.Each &lt;dbl&gt; | Order.Date &lt;chr&gt; | Purchase.Address &lt;chr&gt; | Month &lt;int&gt; | sales &lt;dbl&gt; | city &lt;chr&gt; |\n",
       "|---|---|---|---|---|---|---|---|---|\n",
       "| 176558 | USB-C Charging Cable       | 2 |  11.95 | 04/19/19 08:46 | 917 1st St, Dallas, TX 75001         | 4 |  23.90 |  Dallas      |\n",
       "| 176559 | Bose SoundSport Headphones | 1 |  99.99 | 04/07/19 22:30 | 682 Chestnut St, Boston, MA 02215    | 4 |  99.99 |  Boston      |\n",
       "| 176560 | Google Phone               | 1 | 600.00 | 04/12/19 14:38 | 669 Spruce St, Los Angeles, CA 90001 | 4 | 600.00 |  Los Angeles |\n",
       "\n"
      ],
      "text/plain": [
       "  Order.ID Product                    Quantity.Ordered Price.Each\n",
       "1 176558   USB-C Charging Cable       2                 11.95    \n",
       "2 176559   Bose SoundSport Headphones 1                 99.99    \n",
       "3 176560   Google Phone               1                600.00    \n",
       "  Order.Date     Purchase.Address                     Month sales  city        \n",
       "1 04/19/19 08:46 917 1st St, Dallas, TX 75001         4      23.90  Dallas     \n",
       "2 04/07/19 22:30 682 Chestnut St, Boston, MA 02215    4      99.99  Boston     \n",
       "3 04/12/19 14:38 669 Spruce St, Los Angeles, CA 90001 4     600.00  Los Angeles"
      ]
     },
     "metadata": {},
     "output_type": "display_data"
    }
   ],
   "source": [
    "head(all_data , 3)"
   ]
  },
  {
   "cell_type": "code",
   "execution_count": null,
   "id": "c52adc7d",
   "metadata": {},
   "outputs": [],
   "source": []
  },
  {
   "cell_type": "code",
   "execution_count": null,
   "id": "ab02f870",
   "metadata": {},
   "outputs": [],
   "source": []
  },
  {
   "cell_type": "code",
   "execution_count": null,
   "id": "24ed8964",
   "metadata": {},
   "outputs": [],
   "source": [
    "help(table)\n",
    "\n",
    "## belongs to base package !\n",
    "## Cross Tabulation and Table Creation !"
   ]
  },
  {
   "cell_type": "code",
   "execution_count": null,
   "id": "ff3a37c2",
   "metadata": {},
   "outputs": [],
   "source": [
    "\"\n",
    "\n",
    "table(...,\n",
    "      exclude = if (useNA == \"no\") c(NA, NaN),\n",
    "      useNA = c(\"no\", \"ifany\", \"always\"),\n",
    "      dnn = list.names(...), deparse.level = 1)\n",
    "\n",
    "\n",
    "\n",
    "\n",
    "... : This refers to the variables for which you want to create the frequency table.. \n",
    "        You can provide one or more variables separated by commas..\n",
    "\n",
    "exclude : This parameter allows you to specify which values should be excluded from the table. \n",
    "          By default, if useNA is set to \"no\", it excludes NA and NaN values.\n",
    "          However, you can override this behavior by specifying the values you want to exclude explicitly..\n",
    "\n",
    "useNA : This parameter determines how NA values should be handled. It can take three values:\n",
    "        \"no\" : Excludes NA values from the table.\n",
    "        \"ifany\" : Includes NA values in the table if they are present.\n",
    "        \"always\" : Treats NA values as a separate category and includes them in the table.\n",
    "\n",
    "\n",
    "\n",
    "\n",
    "\""
   ]
  },
  {
   "cell_type": "code",
   "execution_count": 1,
   "id": "a5d26cb0",
   "metadata": {},
   "outputs": [
    {
     "data": {
      "text/html": [
       "<pre class=language-r><code>function (..., exclude = if (useNA == \"no\") c(NA, NaN), useNA = c(\"no\", \n",
       "<span style=white-space:pre-wrap>    \"ifany\", \"always\"), dnn = list.names(...), deparse.level = 1) </span>\n",
       "NULL</code></pre>"
      ],
      "text/latex": [
       "\\begin{minted}{r}\n",
       "function (..., exclude = if (useNA == \"no\") c(NA, NaN), useNA = c(\"no\", \n",
       "    \"ifany\", \"always\"), dnn = list.names(...), deparse.level = 1) \n",
       "NULL\n",
       "\\end{minted}"
      ],
      "text/markdown": [
       "```r\n",
       "function (..., exclude = if (useNA == \"no\") c(NA, NaN), useNA = c(\"no\", \n",
       "    \"ifany\", \"always\"), dnn = list.names(...), deparse.level = 1) \n",
       "NULL\n",
       "```"
      ],
      "text/plain": [
       "function (..., exclude = if (useNA == \"no\") c(NA, NaN), useNA = c(\"no\", \n",
       "    \"ifany\", \"always\"), dnn = list.names(...), deparse.level = 1) \n",
       "NULL"
      ]
     },
     "metadata": {},
     "output_type": "display_data"
    }
   ],
   "source": [
    "args(table)"
   ]
  },
  {
   "cell_type": "code",
   "execution_count": null,
   "id": "a9529b99",
   "metadata": {},
   "outputs": [],
   "source": []
  },
  {
   "cell_type": "code",
   "execution_count": null,
   "id": "11a8a3b6",
   "metadata": {},
   "outputs": [],
   "source": []
  },
  {
   "cell_type": "code",
   "execution_count": 59,
   "id": "09e112d6",
   "metadata": {},
   "outputs": [
    {
     "data": {
      "text/plain": [
       "\n",
       "       Atlanta         Austin         Boston         Dallas    Los Angeles \n",
       "         14863           9890          19901          14797          29564 \n",
       " New York City       Portland  San Francisco        Seattle \n",
       "         24847          12449          44662          14713 "
      ]
     },
     "metadata": {},
     "output_type": "display_data"
    }
   ],
   "source": [
    "table(all_data['city']) ## returns frequency table"
   ]
  },
  {
   "cell_type": "code",
   "execution_count": null,
   "id": "d20fd9c1",
   "metadata": {},
   "outputs": [],
   "source": [
    "\"\n",
    "\n",
    "Use as.data.frame.matrix() when your input is a matrix or table \n",
    "and you want to maintain the matrix structure..\n",
    "\n",
    "Use as.data.frame() when your input is a list, a data frame-like object \n",
    "or a matrix without specific row or column names.\n",
    "\n",
    "\""
   ]
  },
  {
   "cell_type": "code",
   "execution_count": 60,
   "id": "4ba93861",
   "metadata": {},
   "outputs": [],
   "source": [
    "freq_df = as.data.frame(table(all_data['city']))"
   ]
  },
  {
   "cell_type": "code",
   "execution_count": 61,
   "id": "c0467d00",
   "metadata": {},
   "outputs": [
    {
     "data": {
      "text/html": [
       "<table class=\"dataframe\">\n",
       "<caption>A data.frame: 9 × 2</caption>\n",
       "<thead>\n",
       "\t<tr><th scope=col>Var1</th><th scope=col>Freq</th></tr>\n",
       "\t<tr><th scope=col>&lt;fct&gt;</th><th scope=col>&lt;int&gt;</th></tr>\n",
       "</thead>\n",
       "<tbody>\n",
       "\t<tr><td> Atlanta      </td><td>14863</td></tr>\n",
       "\t<tr><td> Austin       </td><td> 9890</td></tr>\n",
       "\t<tr><td> Boston       </td><td>19901</td></tr>\n",
       "\t<tr><td> Dallas       </td><td>14797</td></tr>\n",
       "\t<tr><td> Los Angeles  </td><td>29564</td></tr>\n",
       "\t<tr><td> New York City</td><td>24847</td></tr>\n",
       "\t<tr><td> Portland     </td><td>12449</td></tr>\n",
       "\t<tr><td> San Francisco</td><td>44662</td></tr>\n",
       "\t<tr><td> Seattle      </td><td>14713</td></tr>\n",
       "</tbody>\n",
       "</table>\n"
      ],
      "text/latex": [
       "A data.frame: 9 × 2\n",
       "\\begin{tabular}{ll}\n",
       " Var1 & Freq\\\\\n",
       " <fct> & <int>\\\\\n",
       "\\hline\n",
       "\t  Atlanta       & 14863\\\\\n",
       "\t  Austin        &  9890\\\\\n",
       "\t  Boston        & 19901\\\\\n",
       "\t  Dallas        & 14797\\\\\n",
       "\t  Los Angeles   & 29564\\\\\n",
       "\t  New York City & 24847\\\\\n",
       "\t  Portland      & 12449\\\\\n",
       "\t  San Francisco & 44662\\\\\n",
       "\t  Seattle       & 14713\\\\\n",
       "\\end{tabular}\n"
      ],
      "text/markdown": [
       "\n",
       "A data.frame: 9 × 2\n",
       "\n",
       "| Var1 &lt;fct&gt; | Freq &lt;int&gt; |\n",
       "|---|---|\n",
       "|  Atlanta       | 14863 |\n",
       "|  Austin        |  9890 |\n",
       "|  Boston        | 19901 |\n",
       "|  Dallas        | 14797 |\n",
       "|  Los Angeles   | 29564 |\n",
       "|  New York City | 24847 |\n",
       "|  Portland      | 12449 |\n",
       "|  San Francisco | 44662 |\n",
       "|  Seattle       | 14713 |\n",
       "\n"
      ],
      "text/plain": [
       "  Var1           Freq \n",
       "1  Atlanta       14863\n",
       "2  Austin         9890\n",
       "3  Boston        19901\n",
       "4  Dallas        14797\n",
       "5  Los Angeles   29564\n",
       "6  New York City 24847\n",
       "7  Portland      12449\n",
       "8  San Francisco 44662\n",
       "9  Seattle       14713"
      ]
     },
     "metadata": {},
     "output_type": "display_data"
    }
   ],
   "source": [
    "freq_df"
   ]
  },
  {
   "cell_type": "code",
   "execution_count": 62,
   "id": "4248c6a7",
   "metadata": {},
   "outputs": [],
   "source": [
    "labels = freq_df$Var1\n",
    "\n",
    "## freq_df[ ,'Var1']\n",
    "## freq_df['Var1']"
   ]
  },
  {
   "cell_type": "code",
   "execution_count": 63,
   "id": "ac91e174",
   "metadata": {},
   "outputs": [],
   "source": [
    "values = freq_df$Freq\n",
    "\n",
    "## values = as.data.frame(table(all_data['city']))[ , \"Freq\"]\n",
    "## values = freq_df[\"Freq\"]"
   ]
  },
  {
   "cell_type": "code",
   "execution_count": null,
   "id": "ec60bc08",
   "metadata": {},
   "outputs": [],
   "source": []
  },
  {
   "cell_type": "code",
   "execution_count": 21,
   "id": "b6682c09",
   "metadata": {},
   "outputs": [],
   "source": [
    "library(plotly)"
   ]
  },
  {
   "cell_type": "code",
   "execution_count": 22,
   "id": "eeb1aadc",
   "metadata": {},
   "outputs": [
    {
     "data": {
      "text/html": [
       "<pre class=language-r><code>function (data = data.frame(), ..., type = NULL, name, color, \n",
       "<span style=white-space:pre-wrap>    colors = NULL, alpha = NULL, stroke, strokes = NULL, alpha_stroke = 1, </span>\n",
       "<span style=white-space:pre-wrap>    size, sizes = c(10, 100), span, spans = c(1, 20), symbol, </span>\n",
       "<span style=white-space:pre-wrap>    symbols = NULL, linetype, linetypes = NULL, split, frame, </span>\n",
       "<span style=white-space:pre-wrap>    width = NULL, height = NULL, source = \"A\") </span>\n",
       "NULL</code></pre>"
      ],
      "text/latex": [
       "\\begin{minted}{r}\n",
       "function (data = data.frame(), ..., type = NULL, name, color, \n",
       "    colors = NULL, alpha = NULL, stroke, strokes = NULL, alpha\\_stroke = 1, \n",
       "    size, sizes = c(10, 100), span, spans = c(1, 20), symbol, \n",
       "    symbols = NULL, linetype, linetypes = NULL, split, frame, \n",
       "    width = NULL, height = NULL, source = \"A\") \n",
       "NULL\n",
       "\\end{minted}"
      ],
      "text/markdown": [
       "```r\n",
       "function (data = data.frame(), ..., type = NULL, name, color, \n",
       "    colors = NULL, alpha = NULL, stroke, strokes = NULL, alpha_stroke = 1, \n",
       "    size, sizes = c(10, 100), span, spans = c(1, 20), symbol, \n",
       "    symbols = NULL, linetype, linetypes = NULL, split, frame, \n",
       "    width = NULL, height = NULL, source = \"A\") \n",
       "NULL\n",
       "```"
      ],
      "text/plain": [
       "function (data = data.frame(), ..., type = NULL, name, color, \n",
       "    colors = NULL, alpha = NULL, stroke, strokes = NULL, alpha_stroke = 1, \n",
       "    size, sizes = c(10, 100), span, spans = c(1, 20), symbol, \n",
       "    symbols = NULL, linetype, linetypes = NULL, split, frame, \n",
       "    width = NULL, height = NULL, source = \"A\") \n",
       "NULL"
      ]
     },
     "metadata": {},
     "output_type": "display_data"
    }
   ],
   "source": [
    "args(plot_ly)"
   ]
  },
  {
   "cell_type": "code",
   "execution_count": null,
   "id": "f35c11fb",
   "metadata": {},
   "outputs": [],
   "source": [
    "plotly :: plot_ly(labels = labels , values = values , type=\"pie\")"
   ]
  },
  {
   "cell_type": "code",
   "execution_count": null,
   "id": "766390d3",
   "metadata": {},
   "outputs": [],
   "source": []
  },
  {
   "cell_type": "code",
   "execution_count": null,
   "id": "a66f29c1",
   "metadata": {},
   "outputs": [],
   "source": []
  },
  {
   "cell_type": "code",
   "execution_count": null,
   "id": "e7500dbe",
   "metadata": {},
   "outputs": [],
   "source": []
  },
  {
   "cell_type": "code",
   "execution_count": null,
   "id": "d9d30d85",
   "metadata": {},
   "outputs": [],
   "source": []
  },
  {
   "cell_type": "code",
   "execution_count": null,
   "id": "0cbc3448",
   "metadata": {},
   "outputs": [],
   "source": []
  },
  {
   "cell_type": "markdown",
   "id": "392b387c",
   "metadata": {},
   "source": [
    "# 4.. What product sold the most &  Why?"
   ]
  },
  {
   "cell_type": "code",
   "execution_count": 23,
   "id": "1f490465",
   "metadata": {},
   "outputs": [],
   "source": [
    "library(dplyr)"
   ]
  },
  {
   "cell_type": "code",
   "execution_count": null,
   "id": "bc52096d",
   "metadata": {},
   "outputs": [],
   "source": [
    "help(lapply)\n",
    "\n",
    "## lapply returns a list \n",
    "\n",
    "## lapply( x , fun )\n",
    "## X : a vector (atomic or list) \n",
    "## FUN : the function to be applied to each element of x"
   ]
  },
  {
   "cell_type": "code",
   "execution_count": 24,
   "id": "21165a4c",
   "metadata": {},
   "outputs": [
    {
     "data": {
      "text/html": [
       "<pre class=language-r><code>function (X, FUN, ...) \n",
       "NULL</code></pre>"
      ],
      "text/latex": [
       "\\begin{minted}{r}\n",
       "function (X, FUN, ...) \n",
       "NULL\n",
       "\\end{minted}"
      ],
      "text/markdown": [
       "```r\n",
       "function (X, FUN, ...) \n",
       "NULL\n",
       "```"
      ],
      "text/plain": [
       "function (X, FUN, ...) \n",
       "NULL"
      ]
     },
     "metadata": {},
     "output_type": "display_data"
    }
   ],
   "source": [
    "args(lapply)"
   ]
  },
  {
   "cell_type": "code",
   "execution_count": null,
   "id": "0eb62a0b",
   "metadata": {},
   "outputs": [],
   "source": [
    "\"\n",
    "\n",
    "X : This is the list (or vector) , dataframe on which u want to apply function FUN ..\n",
    "\n",
    "FUN : This is the function to be applied to each element of the list X..\n",
    "\n",
    "... : These are additional arguments that can be passed to the lapply as per need..\n",
    "\n",
    "\n",
    "\""
   ]
  },
  {
   "cell_type": "code",
   "execution_count": 68,
   "id": "d8b2f6bb",
   "metadata": {},
   "outputs": [
    {
     "data": {
      "text/html": [
       "<dl>\n",
       "\t<dt>$Order.ID</dt>\n",
       "\t\t<dd>'character'</dd>\n",
       "\t<dt>$Product</dt>\n",
       "\t\t<dd>'character'</dd>\n",
       "\t<dt>$Quantity.Ordered</dt>\n",
       "\t\t<dd>'integer'</dd>\n",
       "\t<dt>$Price.Each</dt>\n",
       "\t\t<dd>'numeric'</dd>\n",
       "\t<dt>$Order.Date</dt>\n",
       "\t\t<dd>'character'</dd>\n",
       "\t<dt>$Purchase.Address</dt>\n",
       "\t\t<dd>'character'</dd>\n",
       "\t<dt>$Month</dt>\n",
       "\t\t<dd>'integer'</dd>\n",
       "\t<dt>$sales</dt>\n",
       "\t\t<dd>'numeric'</dd>\n",
       "\t<dt>$city</dt>\n",
       "\t\t<dd>'character'</dd>\n",
       "</dl>\n"
      ],
      "text/latex": [
       "\\begin{description}\n",
       "\\item[\\$Order.ID] 'character'\n",
       "\\item[\\$Product] 'character'\n",
       "\\item[\\$Quantity.Ordered] 'integer'\n",
       "\\item[\\$Price.Each] 'numeric'\n",
       "\\item[\\$Order.Date] 'character'\n",
       "\\item[\\$Purchase.Address] 'character'\n",
       "\\item[\\$Month] 'integer'\n",
       "\\item[\\$sales] 'numeric'\n",
       "\\item[\\$city] 'character'\n",
       "\\end{description}\n"
      ],
      "text/markdown": [
       "$Order.ID\n",
       ":   'character'\n",
       "$Product\n",
       ":   'character'\n",
       "$Quantity.Ordered\n",
       ":   'integer'\n",
       "$Price.Each\n",
       ":   'numeric'\n",
       "$Order.Date\n",
       ":   'character'\n",
       "$Purchase.Address\n",
       ":   'character'\n",
       "$Month\n",
       ":   'integer'\n",
       "$sales\n",
       ":   'numeric'\n",
       "$city\n",
       ":   'character'\n",
       "\n",
       "\n"
      ],
      "text/plain": [
       "$Order.ID\n",
       "[1] \"character\"\n",
       "\n",
       "$Product\n",
       "[1] \"character\"\n",
       "\n",
       "$Quantity.Ordered\n",
       "[1] \"integer\"\n",
       "\n",
       "$Price.Each\n",
       "[1] \"numeric\"\n",
       "\n",
       "$Order.Date\n",
       "[1] \"character\"\n",
       "\n",
       "$Purchase.Address\n",
       "[1] \"character\"\n",
       "\n",
       "$Month\n",
       "[1] \"integer\"\n",
       "\n",
       "$sales\n",
       "[1] \"numeric\"\n",
       "\n",
       "$city\n",
       "[1] \"character\"\n"
      ]
     },
     "metadata": {},
     "output_type": "display_data"
    }
   ],
   "source": [
    "lapply(all_data , class)  ## to understand data-types\n",
    "\n",
    "## lapply(all_data , class) : It apply a class function to each \n",
    "## element/key of a list or each column of a data frame"
   ]
  },
  {
   "cell_type": "code",
   "execution_count": null,
   "id": "b7930c11",
   "metadata": {},
   "outputs": [],
   "source": [
    "\"\n",
    "\n",
    "lapply: lapply is a function in R that stands for 'list apply.''\n",
    "        It is used to apply a specified function to each element of a list \n",
    "        or a vector and returns the results as a list..\n",
    "\n",
    "So, when you run lapply(data, class), \n",
    "it takes each column of the 'data' dataframe & applies the class() function to it, \n",
    "\n",
    "and returns a Output as list where each element/col tells class (data type) of a column in the data object..\n",
    "\n",
    "\n",
    "\""
   ]
  },
  {
   "cell_type": "code",
   "execution_count": null,
   "id": "05a45919",
   "metadata": {},
   "outputs": [],
   "source": []
  },
  {
   "cell_type": "code",
   "execution_count": 69,
   "id": "8b8a46a0",
   "metadata": {},
   "outputs": [
    {
     "data": {
      "text/html": [
       "<style>\n",
       ".list-inline {list-style: none; margin:0; padding: 0}\n",
       ".list-inline>li {display: inline-block}\n",
       ".list-inline>li:not(:last-child)::after {content: \"\\00b7\"; padding: 0 .5ex}\n",
       "</style>\n",
       "<ol class=list-inline><li>'Order.ID'</li><li>'Product'</li><li>'Quantity.Ordered'</li><li>'Price.Each'</li><li>'Order.Date'</li><li>'Purchase.Address'</li><li>'Month'</li><li>'sales'</li><li>'city'</li></ol>\n"
      ],
      "text/latex": [
       "\\begin{enumerate*}\n",
       "\\item 'Order.ID'\n",
       "\\item 'Product'\n",
       "\\item 'Quantity.Ordered'\n",
       "\\item 'Price.Each'\n",
       "\\item 'Order.Date'\n",
       "\\item 'Purchase.Address'\n",
       "\\item 'Month'\n",
       "\\item 'sales'\n",
       "\\item 'city'\n",
       "\\end{enumerate*}\n"
      ],
      "text/markdown": [
       "1. 'Order.ID'\n",
       "2. 'Product'\n",
       "3. 'Quantity.Ordered'\n",
       "4. 'Price.Each'\n",
       "5. 'Order.Date'\n",
       "6. 'Purchase.Address'\n",
       "7. 'Month'\n",
       "8. 'sales'\n",
       "9. 'city'\n",
       "\n",
       "\n"
      ],
      "text/plain": [
       "[1] \"Order.ID\"         \"Product\"          \"Quantity.Ordered\" \"Price.Each\"      \n",
       "[5] \"Order.Date\"       \"Purchase.Address\" \"Month\"            \"sales\"           \n",
       "[9] \"city\"            "
      ]
     },
     "metadata": {},
     "output_type": "display_data"
    }
   ],
   "source": [
    "names(all_data)"
   ]
  },
  {
   "cell_type": "code",
   "execution_count": null,
   "id": "d5b38bcb",
   "metadata": {},
   "outputs": [],
   "source": [
    "### in the previous session [3rd session] , we have used group_by !"
   ]
  },
  {
   "cell_type": "code",
   "execution_count": 25,
   "id": "847689f1",
   "metadata": {},
   "outputs": [
    {
     "data": {
      "text/html": [
       "<pre class=language-r><code>function (.data, ..., .add = FALSE, .drop = group_by_drop_default(.data)) \n",
       "NULL</code></pre>"
      ],
      "text/latex": [
       "\\begin{minted}{r}\n",
       "function (.data, ..., .add = FALSE, .drop = group\\_by\\_drop\\_default(.data)) \n",
       "NULL\n",
       "\\end{minted}"
      ],
      "text/markdown": [
       "```r\n",
       "function (.data, ..., .add = FALSE, .drop = group_by_drop_default(.data)) \n",
       "NULL\n",
       "```"
      ],
      "text/plain": [
       "function (.data, ..., .add = FALSE, .drop = group_by_drop_default(.data)) \n",
       "NULL"
      ]
     },
     "metadata": {},
     "output_type": "display_data"
    }
   ],
   "source": [
    "args(group_by)"
   ]
  },
  {
   "cell_type": "code",
   "execution_count": 37,
   "id": "f9909d6d",
   "metadata": {},
   "outputs": [],
   "source": [
    "### for every product , we have to compute total quantity order & avg price of every product..\n",
    "\n",
    "count_df = all_data  %>% dplyr :: group_by(Product)  %>%\n",
    "                    summarise(Quantity_Ordered = sum(Quantity.Ordered),\n",
    "                              Avg_price = mean(Price.Each , na.rm = TRUE),\n",
    "                              )\n"
   ]
  },
  {
   "cell_type": "code",
   "execution_count": 71,
   "id": "3529bbc5",
   "metadata": {},
   "outputs": [
    {
     "data": {
      "text/html": [
       "<table class=\"dataframe\">\n",
       "<caption>A tibble: 19 × 3</caption>\n",
       "<thead>\n",
       "\t<tr><th scope=col>Product</th><th scope=col>Quantity_Ordered</th><th scope=col>Avg_price</th></tr>\n",
       "\t<tr><th scope=col>&lt;chr&gt;</th><th scope=col>&lt;int&gt;</th><th scope=col>&lt;dbl&gt;</th></tr>\n",
       "</thead>\n",
       "<tbody>\n",
       "\t<tr><td>20in Monitor              </td><td> 4126</td><td> 109.99</td></tr>\n",
       "\t<tr><td>27in 4K Gaming Monitor    </td><td> 6239</td><td> 389.99</td></tr>\n",
       "\t<tr><td>27in FHD Monitor          </td><td> 7541</td><td> 149.99</td></tr>\n",
       "\t<tr><td>34in Ultrawide Monitor    </td><td> 6192</td><td> 379.99</td></tr>\n",
       "\t<tr><td>AA Batteries (4-pack)     </td><td>27615</td><td>   3.84</td></tr>\n",
       "\t<tr><td>AAA Batteries (4-pack)    </td><td>30986</td><td>   2.99</td></tr>\n",
       "\t<tr><td>Apple Airpods Headphones  </td><td>15637</td><td> 150.00</td></tr>\n",
       "\t<tr><td>Bose SoundSport Headphones</td><td>13430</td><td>  99.99</td></tr>\n",
       "\t<tr><td>Flatscreen TV             </td><td> 4813</td><td> 300.00</td></tr>\n",
       "\t<tr><td>Google Phone              </td><td> 5529</td><td> 600.00</td></tr>\n",
       "\t<tr><td>LG Dryer                  </td><td>  646</td><td> 600.00</td></tr>\n",
       "\t<tr><td>LG Washing Machine        </td><td>  666</td><td> 600.00</td></tr>\n",
       "\t<tr><td>Lightning Charging Cable  </td><td>23169</td><td>  14.95</td></tr>\n",
       "\t<tr><td>Macbook Pro Laptop        </td><td> 4725</td><td>1700.00</td></tr>\n",
       "\t<tr><td>ThinkPad Laptop           </td><td> 4128</td><td> 999.99</td></tr>\n",
       "\t<tr><td>USB-C Charging Cable      </td><td>23931</td><td>  11.95</td></tr>\n",
       "\t<tr><td>Vareebadd Phone           </td><td> 2068</td><td> 400.00</td></tr>\n",
       "\t<tr><td>Wired Headphones          </td><td>20524</td><td>  11.99</td></tr>\n",
       "\t<tr><td>iPhone                    </td><td> 6847</td><td> 700.00</td></tr>\n",
       "</tbody>\n",
       "</table>\n"
      ],
      "text/latex": [
       "A tibble: 19 × 3\n",
       "\\begin{tabular}{lll}\n",
       " Product & Quantity\\_Ordered & Avg\\_price\\\\\n",
       " <chr> & <int> & <dbl>\\\\\n",
       "\\hline\n",
       "\t 20in Monitor               &  4126 &  109.99\\\\\n",
       "\t 27in 4K Gaming Monitor     &  6239 &  389.99\\\\\n",
       "\t 27in FHD Monitor           &  7541 &  149.99\\\\\n",
       "\t 34in Ultrawide Monitor     &  6192 &  379.99\\\\\n",
       "\t AA Batteries (4-pack)      & 27615 &    3.84\\\\\n",
       "\t AAA Batteries (4-pack)     & 30986 &    2.99\\\\\n",
       "\t Apple Airpods Headphones   & 15637 &  150.00\\\\\n",
       "\t Bose SoundSport Headphones & 13430 &   99.99\\\\\n",
       "\t Flatscreen TV              &  4813 &  300.00\\\\\n",
       "\t Google Phone               &  5529 &  600.00\\\\\n",
       "\t LG Dryer                   &   646 &  600.00\\\\\n",
       "\t LG Washing Machine         &   666 &  600.00\\\\\n",
       "\t Lightning Charging Cable   & 23169 &   14.95\\\\\n",
       "\t Macbook Pro Laptop         &  4725 & 1700.00\\\\\n",
       "\t ThinkPad Laptop            &  4128 &  999.99\\\\\n",
       "\t USB-C Charging Cable       & 23931 &   11.95\\\\\n",
       "\t Vareebadd Phone            &  2068 &  400.00\\\\\n",
       "\t Wired Headphones           & 20524 &   11.99\\\\\n",
       "\t iPhone                     &  6847 &  700.00\\\\\n",
       "\\end{tabular}\n"
      ],
      "text/markdown": [
       "\n",
       "A tibble: 19 × 3\n",
       "\n",
       "| Product &lt;chr&gt; | Quantity_Ordered &lt;int&gt; | Avg_price &lt;dbl&gt; |\n",
       "|---|---|---|\n",
       "| 20in Monitor               |  4126 |  109.99 |\n",
       "| 27in 4K Gaming Monitor     |  6239 |  389.99 |\n",
       "| 27in FHD Monitor           |  7541 |  149.99 |\n",
       "| 34in Ultrawide Monitor     |  6192 |  379.99 |\n",
       "| AA Batteries (4-pack)      | 27615 |    3.84 |\n",
       "| AAA Batteries (4-pack)     | 30986 |    2.99 |\n",
       "| Apple Airpods Headphones   | 15637 |  150.00 |\n",
       "| Bose SoundSport Headphones | 13430 |   99.99 |\n",
       "| Flatscreen TV              |  4813 |  300.00 |\n",
       "| Google Phone               |  5529 |  600.00 |\n",
       "| LG Dryer                   |   646 |  600.00 |\n",
       "| LG Washing Machine         |   666 |  600.00 |\n",
       "| Lightning Charging Cable   | 23169 |   14.95 |\n",
       "| Macbook Pro Laptop         |  4725 | 1700.00 |\n",
       "| ThinkPad Laptop            |  4128 |  999.99 |\n",
       "| USB-C Charging Cable       | 23931 |   11.95 |\n",
       "| Vareebadd Phone            |  2068 |  400.00 |\n",
       "| Wired Headphones           | 20524 |   11.99 |\n",
       "| iPhone                     |  6847 |  700.00 |\n",
       "\n"
      ],
      "text/plain": [
       "   Product                    Quantity_Ordered Avg_price\n",
       "1  20in Monitor                4126             109.99  \n",
       "2  27in 4K Gaming Monitor      6239             389.99  \n",
       "3  27in FHD Monitor            7541             149.99  \n",
       "4  34in Ultrawide Monitor      6192             379.99  \n",
       "5  AA Batteries (4-pack)      27615               3.84  \n",
       "6  AAA Batteries (4-pack)     30986               2.99  \n",
       "7  Apple Airpods Headphones   15637             150.00  \n",
       "8  Bose SoundSport Headphones 13430              99.99  \n",
       "9  Flatscreen TV               4813             300.00  \n",
       "10 Google Phone                5529             600.00  \n",
       "11 LG Dryer                     646             600.00  \n",
       "12 LG Washing Machine           666             600.00  \n",
       "13 Lightning Charging Cable   23169              14.95  \n",
       "14 Macbook Pro Laptop          4725            1700.00  \n",
       "15 ThinkPad Laptop             4128             999.99  \n",
       "16 USB-C Charging Cable       23931              11.95  \n",
       "17 Vareebadd Phone             2068             400.00  \n",
       "18 Wired Headphones           20524              11.99  \n",
       "19 iPhone                      6847             700.00  "
      ]
     },
     "metadata": {},
     "output_type": "display_data"
    }
   ],
   "source": [
    "count_df"
   ]
  },
  {
   "cell_type": "code",
   "execution_count": 72,
   "id": "867b1fdf",
   "metadata": {},
   "outputs": [
    {
     "data": {
      "text/html": [
       "<style>\n",
       ".list-inline {list-style: none; margin:0; padding: 0}\n",
       ".list-inline>li {display: inline-block}\n",
       ".list-inline>li:not(:last-child)::after {content: \"\\00b7\"; padding: 0 .5ex}\n",
       "</style>\n",
       "<ol class=list-inline><li>'Product'</li><li>'Quantity_Ordered'</li><li>'Avg_price'</li></ol>\n"
      ],
      "text/latex": [
       "\\begin{enumerate*}\n",
       "\\item 'Product'\n",
       "\\item 'Quantity\\_Ordered'\n",
       "\\item 'Avg\\_price'\n",
       "\\end{enumerate*}\n"
      ],
      "text/markdown": [
       "1. 'Product'\n",
       "2. 'Quantity_Ordered'\n",
       "3. 'Avg_price'\n",
       "\n",
       "\n"
      ],
      "text/plain": [
       "[1] \"Product\"          \"Quantity_Ordered\" \"Avg_price\"       "
      ]
     },
     "metadata": {},
     "output_type": "display_data"
    }
   ],
   "source": [
    "names(count_df)"
   ]
  },
  {
   "cell_type": "code",
   "execution_count": null,
   "id": "b1d1111d",
   "metadata": {},
   "outputs": [],
   "source": []
  },
  {
   "cell_type": "code",
   "execution_count": null,
   "id": "d3fcfc7d",
   "metadata": {},
   "outputs": [],
   "source": []
  },
  {
   "cell_type": "code",
   "execution_count": null,
   "id": "3389cbe9",
   "metadata": {},
   "outputs": [],
   "source": []
  },
  {
   "cell_type": "markdown",
   "id": "45046683",
   "metadata": {},
   "source": [
    "        Basic ggplot structure:\n",
    "        The basic structure of a ggplot2 plot involves :\n",
    "        a) specifying a data frame \n",
    "        b) mapping aesthetic properties, \n",
    "        c) and adding geometric layers(adding required plot as per our need)..\n",
    "        \n",
    "           The main function is ggplot():"
   ]
  },
  {
   "cell_type": "code",
   "execution_count": null,
   "id": "6a71d306",
   "metadata": {},
   "outputs": [],
   "source": []
  },
  {
   "cell_type": "code",
   "execution_count": 3,
   "id": "24156ee5",
   "metadata": {},
   "outputs": [],
   "source": [
    "# Load the ggplot2 library\n",
    "library(ggplot2)"
   ]
  },
  {
   "cell_type": "code",
   "execution_count": 5,
   "id": "2b8d8784",
   "metadata": {},
   "outputs": [],
   "source": [
    "help(ggplot)"
   ]
  },
  {
   "cell_type": "code",
   "execution_count": null,
   "id": "ec41c63e",
   "metadata": {},
   "outputs": [],
   "source": [
    "\"\n",
    "\n",
    "ggplot(data = NULL, mapping = aes(), ..., environment = parent.frame())\n",
    "\n",
    "\n",
    "\n",
    "\n",
    "\n",
    "    data = Dataframe on which u are running it on !\n",
    "\n",
    "    mapping = u can mention those variables which u want to consider while considering plots\n",
    "              using aes() along with u can customize x-axis , y-axis , color , size, shape etc..\n",
    "\n",
    "    ... : This ellipsis argument allows you to pass additional arguments as per need !\n",
    "\n",
    "\n",
    "    aes() (short for aesthetic) : \n",
    "    In aes() , mention variables that we want to consider while creating plots along with the customization properties\n",
    "    of plots , eg : x-axis position, y-axis position, color, shape, size\n",
    "\n",
    "\""
   ]
  },
  {
   "cell_type": "code",
   "execution_count": 26,
   "id": "4ecf081e",
   "metadata": {},
   "outputs": [
    {
     "data": {
      "text/html": [
       "<pre class=language-r><code>function (data = NULL, mapping = aes(), ..., environment = parent.frame()) \n",
       "NULL</code></pre>"
      ],
      "text/latex": [
       "\\begin{minted}{r}\n",
       "function (data = NULL, mapping = aes(), ..., environment = parent.frame()) \n",
       "NULL\n",
       "\\end{minted}"
      ],
      "text/markdown": [
       "```r\n",
       "function (data = NULL, mapping = aes(), ..., environment = parent.frame()) \n",
       "NULL\n",
       "```"
      ],
      "text/plain": [
       "function (data = NULL, mapping = aes(), ..., environment = parent.frame()) \n",
       "NULL"
      ]
     },
     "metadata": {},
     "output_type": "display_data"
    }
   ],
   "source": [
    "args(ggplot)"
   ]
  },
  {
   "cell_type": "code",
   "execution_count": null,
   "id": "f6ebe6ba",
   "metadata": {},
   "outputs": [],
   "source": []
  },
  {
   "cell_type": "code",
   "execution_count": 75,
   "id": "0567b4bd",
   "metadata": {},
   "outputs": [
    {
     "data": {
      "image/png": "[encoded data removed]",
      "text/plain": [
       "plot without title"
      ]
     },
     "metadata": {
      "image/png": {
       "height": 420,
       "width": 420
      }
     },
     "output_type": "display_data"
    }
   ],
   "source": [
    "ggplot2 :: ggplot(count_df , aes(x = Product )) ## it returns basically ggplot object \n",
    "\n",
    "### aes() (short for aesthetic) : mention variables that we want to consider while creating plots "
   ]
  },
  {
   "cell_type": "code",
   "execution_count": null,
   "id": "8c5e9212",
   "metadata": {},
   "outputs": [],
   "source": []
  },
  {
   "cell_type": "code",
   "execution_count": null,
   "id": "f19d1720",
   "metadata": {},
   "outputs": [],
   "source": []
  },
  {
   "cell_type": "code",
   "execution_count": null,
   "id": "8bad7e16",
   "metadata": {},
   "outputs": [],
   "source": [
    "help(geom_col)\n",
    "\n",
    "## create bar chart "
   ]
  },
  {
   "cell_type": "code",
   "execution_count": null,
   "id": "cbcaddc3",
   "metadata": {},
   "outputs": [],
   "source": [
    "\"\n",
    "\n",
    "geom_col(\n",
    "  mapping = NULL,\n",
    "  data = NULL,\n",
    "  position = \"stack\",\n",
    "  ...,\n",
    "  just = 0.5,\n",
    "  width = NULL,\n",
    "  na.rm = FALSE,\n",
    "  show.legend = NA,\n",
    "  inherit.aes = TRUE\n",
    ")\n",
    "\n",
    "\n",
    "\n",
    "    mapping : u can mention those variables which u want to consider while considering plots\n",
    "              along with its customization properties using the aes() function\n",
    "              eg x-axis position, y-axis position, color, shape, size\n",
    "              aes(x = variable1, y = variable2) would map variable1 to the x-axis and variable2 to the y-axis.\n",
    "              If not specified, the data from the ggplot() call is used.\n",
    "\n",
    "    data : The data frame on which we are working.. , If not specified, the data from the ggplot() call is used..\n",
    "\n",
    "\n",
    "    position : This parameter is used to create stacked-bar & grouped-bar as per need..\n",
    "                ie , This parameter specifies how the bars should be positioned. \n",
    "                By default, it is set to \"stack\", which stacks the bars on top of each other. \n",
    "                Other options include :\n",
    "                \"dodge\" (place the bars side by side)  , ie for grouped-bar chart !\n",
    "                \"fill\" (stack bars and normalize each group to have the same height),\n",
    "                \"identity\" (no stacking)\n",
    "\n",
    "\n",
    "\""
   ]
  },
  {
   "cell_type": "code",
   "execution_count": null,
   "id": "60f69e5e",
   "metadata": {},
   "outputs": [],
   "source": []
  },
  {
   "cell_type": "code",
   "execution_count": 27,
   "id": "f578ee60",
   "metadata": {},
   "outputs": [],
   "source": [
    "help(scale_y_continuous)\n",
    "\n",
    "## Position scales for continuous data (x & y) , ie adjust the scale of the y-axis in a plot"
   ]
  },
  {
   "cell_type": "code",
   "execution_count": null,
   "id": "57c87e6e",
   "metadata": {},
   "outputs": [],
   "source": [
    "\"\n",
    "scale_x_continuous(\n",
    "  name = waiver(),\n",
    "  breaks = waiver(),\n",
    "  minor_breaks = waiver(),\n",
    "  n.breaks = NULL,\n",
    "  labels = waiver(),\n",
    "  limits = NULL,\n",
    "  expand = waiver(),\n",
    "  oob = censor,\n",
    "  na.value = NA_real_,\n",
    "  trans = \"identity\",\n",
    "  guide = waiver(),\n",
    "  position = \"bottom\",\n",
    "  sec.axis = waiver()\n",
    ")\n",
    "\n",
    "name : waiver() basically means name will be automatically determined based on the data.\n",
    "\n",
    "\n",
    "\n",
    "sec.axis : This parameter allows you to specify a secondary x-axis.. \n",
    "           By default, it's set to waiver(), meaning that no secondary axis will be shown.\n",
    "\n",
    "\""
   ]
  },
  {
   "cell_type": "code",
   "execution_count": 10,
   "id": "1a0ac742",
   "metadata": {},
   "outputs": [
    {
     "data": {
      "text/html": [
       "<pre class=language-r><code>function (name = waiver(), breaks = waiver(), minor_breaks = waiver(), \n",
       "<span style=white-space:pre-wrap>    n.breaks = NULL, labels = waiver(), limits = NULL, expand = waiver(), </span>\n",
       "<span style=white-space:pre-wrap>    oob = censor, na.value = NA_real_, trans = \"identity\", guide = waiver(), </span>\n",
       "<span style=white-space:pre-wrap>    position = \"left\", sec.axis = waiver()) </span>\n",
       "NULL</code></pre>"
      ],
      "text/latex": [
       "\\begin{minted}{r}\n",
       "function (name = waiver(), breaks = waiver(), minor\\_breaks = waiver(), \n",
       "    n.breaks = NULL, labels = waiver(), limits = NULL, expand = waiver(), \n",
       "    oob = censor, na.value = NA\\_real\\_, trans = \"identity\", guide = waiver(), \n",
       "    position = \"left\", sec.axis = waiver()) \n",
       "NULL\n",
       "\\end{minted}"
      ],
      "text/markdown": [
       "```r\n",
       "function (name = waiver(), breaks = waiver(), minor_breaks = waiver(), \n",
       "    n.breaks = NULL, labels = waiver(), limits = NULL, expand = waiver(), \n",
       "    oob = censor, na.value = NA_real_, trans = \"identity\", guide = waiver(), \n",
       "    position = \"left\", sec.axis = waiver()) \n",
       "NULL\n",
       "```"
      ],
      "text/plain": [
       "function (name = waiver(), breaks = waiver(), minor_breaks = waiver(), \n",
       "    n.breaks = NULL, labels = waiver(), limits = NULL, expand = waiver(), \n",
       "    oob = censor, na.value = NA_real_, trans = \"identity\", guide = waiver(), \n",
       "    position = \"left\", sec.axis = waiver()) \n",
       "NULL"
      ]
     },
     "metadata": {},
     "output_type": "display_data"
    }
   ],
   "source": [
    "args(scale_y_continuous)\n",
    "\n",
    "### sec.axis: The secondary axis specification for the y-axis.."
   ]
  },
  {
   "cell_type": "code",
   "execution_count": null,
   "id": "d7cfae9e",
   "metadata": {},
   "outputs": [],
   "source": []
  },
  {
   "cell_type": "code",
   "execution_count": 28,
   "id": "6d934ad5",
   "metadata": {},
   "outputs": [],
   "source": [
    "help(sec_axis)\n",
    "\n",
    "## Specify a secondary axis(or dual-axis) for a plot.."
   ]
  },
  {
   "cell_type": "code",
   "execution_count": null,
   "id": "cc5f93b0",
   "metadata": {},
   "outputs": [],
   "source": [
    "\"\n",
    "sec_axis(\n",
    "  trans = NULL,\n",
    "  name = waiver(),\n",
    "  breaks = waiver(),\n",
    "  labels = waiver(),\n",
    "  guide = waiver()\n",
    ")\n",
    "\n",
    "\n",
    "\n",
    "trans : This parameter allows you to specify a \n",
    "        transformation for the secondary axis. \n",
    "        For example, if you want to display the data on a logarithmic scale, you can specify trans = \"log\".\n",
    "\n",
    "name : This parameter allows you to specify a \n",
    "        label or title for the secondary axis..\n",
    "        It's set to waiver(), which means that the label will be automatically determined based on the data.\n",
    "\n",
    "\n",
    "\n",
    "\""
   ]
  },
  {
   "cell_type": "code",
   "execution_count": null,
   "id": "cbf1998a",
   "metadata": {},
   "outputs": [],
   "source": []
  },
  {
   "cell_type": "code",
   "execution_count": 11,
   "id": "b8effc02",
   "metadata": {},
   "outputs": [
    {
     "data": {
      "text/html": [
       "<pre class=language-r><code>function (trans = NULL, name = waiver(), breaks = waiver(), labels = waiver(), \n",
       "<span style=white-space:pre-wrap>    guide = waiver()) </span>\n",
       "NULL</code></pre>"
      ],
      "text/latex": [
       "\\begin{minted}{r}\n",
       "function (trans = NULL, name = waiver(), breaks = waiver(), labels = waiver(), \n",
       "    guide = waiver()) \n",
       "NULL\n",
       "\\end{minted}"
      ],
      "text/markdown": [
       "```r\n",
       "function (trans = NULL, name = waiver(), breaks = waiver(), labels = waiver(), \n",
       "    guide = waiver()) \n",
       "NULL\n",
       "```"
      ],
      "text/plain": [
       "function (trans = NULL, name = waiver(), breaks = waiver(), labels = waiver(), \n",
       "    guide = waiver()) \n",
       "NULL"
      ]
     },
     "metadata": {},
     "output_type": "display_data"
    }
   ],
   "source": [
    "args(sec_axis)\n",
    "\n",
    "### trans = The transformation function u can apply to the secondary axis"
   ]
  },
  {
   "cell_type": "code",
   "execution_count": null,
   "id": "52576f9d",
   "metadata": {},
   "outputs": [],
   "source": []
  },
  {
   "cell_type": "code",
   "execution_count": null,
   "id": "89f4b0aa",
   "metadata": {},
   "outputs": [],
   "source": [
    "help(theme)"
   ]
  },
  {
   "cell_type": "code",
   "execution_count": 29,
   "id": "8c5694f4",
   "metadata": {},
   "outputs": [
    {
     "data": {
      "text/html": [
       "<pre class=language-r><code>function (line, rect, text, title, aspect.ratio, axis.title, \n",
       "<span style=white-space:pre-wrap>    axis.title.x, axis.title.x.top, axis.title.x.bottom, axis.title.y, </span>\n",
       "<span style=white-space:pre-wrap>    axis.title.y.left, axis.title.y.right, axis.text, axis.text.x, </span>\n",
       "<span style=white-space:pre-wrap>    axis.text.x.top, axis.text.x.bottom, axis.text.y, axis.text.y.left, </span>\n",
       "<span style=white-space:pre-wrap>    axis.text.y.right, axis.ticks, axis.ticks.x, axis.ticks.x.top, </span>\n",
       "<span style=white-space:pre-wrap>    axis.ticks.x.bottom, axis.ticks.y, axis.ticks.y.left, axis.ticks.y.right, </span>\n",
       "<span style=white-space:pre-wrap>    axis.ticks.length, axis.ticks.length.x, axis.ticks.length.x.top, </span>\n",
       "<span style=white-space:pre-wrap>    axis.ticks.length.x.bottom, axis.ticks.length.y, axis.ticks.length.y.left, </span>\n",
       "<span style=white-space:pre-wrap>    axis.ticks.length.y.right, axis.line, axis.line.x, axis.line.x.top, </span>\n",
       "<span style=white-space:pre-wrap>    axis.line.x.bottom, axis.line.y, axis.line.y.left, axis.line.y.right, </span>\n",
       "<span style=white-space:pre-wrap>    legend.background, legend.margin, legend.spacing, legend.spacing.x, </span>\n",
       "<span style=white-space:pre-wrap>    legend.spacing.y, legend.key, legend.key.size, legend.key.height, </span>\n",
       "<span style=white-space:pre-wrap>    legend.key.width, legend.text, legend.text.align, legend.title, </span>\n",
       "<span style=white-space:pre-wrap>    legend.title.align, legend.position, legend.direction, legend.justification, </span>\n",
       "<span style=white-space:pre-wrap>    legend.box, legend.box.just, legend.box.margin, legend.box.background, </span>\n",
       "<span style=white-space:pre-wrap>    legend.box.spacing, panel.background, panel.border, panel.spacing, </span>\n",
       "<span style=white-space:pre-wrap>    panel.spacing.x, panel.spacing.y, panel.grid, panel.grid.major, </span>\n",
       "<span style=white-space:pre-wrap>    panel.grid.minor, panel.grid.major.x, panel.grid.major.y, </span>\n",
       "<span style=white-space:pre-wrap>    panel.grid.minor.x, panel.grid.minor.y, panel.ontop, plot.background, </span>\n",
       "<span style=white-space:pre-wrap>    plot.title, plot.title.position, plot.subtitle, plot.caption, </span>\n",
       "<span style=white-space:pre-wrap>    plot.caption.position, plot.tag, plot.tag.position, plot.margin, </span>\n",
       "<span style=white-space:pre-wrap>    strip.background, strip.background.x, strip.background.y, </span>\n",
       "<span style=white-space:pre-wrap>    strip.clip, strip.placement, strip.text, strip.text.x, strip.text.x.bottom, </span>\n",
       "<span style=white-space:pre-wrap>    strip.text.x.top, strip.text.y, strip.text.y.left, strip.text.y.right, </span>\n",
       "<span style=white-space:pre-wrap>    strip.switch.pad.grid, strip.switch.pad.wrap, ..., complete = FALSE, </span>\n",
       "<span style=white-space:pre-wrap>    validate = TRUE) </span>\n",
       "NULL</code></pre>"
      ],
      "text/latex": [
       "\\begin{minted}{r}\n",
       "function (line, rect, text, title, aspect.ratio, axis.title, \n",
       "    axis.title.x, axis.title.x.top, axis.title.x.bottom, axis.title.y, \n",
       "    axis.title.y.left, axis.title.y.right, axis.text, axis.text.x, \n",
       "    axis.text.x.top, axis.text.x.bottom, axis.text.y, axis.text.y.left, \n",
       "    axis.text.y.right, axis.ticks, axis.ticks.x, axis.ticks.x.top, \n",
       "    axis.ticks.x.bottom, axis.ticks.y, axis.ticks.y.left, axis.ticks.y.right, \n",
       "    axis.ticks.length, axis.ticks.length.x, axis.ticks.length.x.top, \n",
       "    axis.ticks.length.x.bottom, axis.ticks.length.y, axis.ticks.length.y.left, \n",
       "    axis.ticks.length.y.right, axis.line, axis.line.x, axis.line.x.top, \n",
       "    axis.line.x.bottom, axis.line.y, axis.line.y.left, axis.line.y.right, \n",
       "    legend.background, legend.margin, legend.spacing, legend.spacing.x, \n",
       "    legend.spacing.y, legend.key, legend.key.size, legend.key.height, \n",
       "    legend.key.width, legend.text, legend.text.align, legend.title, \n",
       "    legend.title.align, legend.position, legend.direction, legend.justification, \n",
       "    legend.box, legend.box.just, legend.box.margin, legend.box.background, \n",
       "    legend.box.spacing, panel.background, panel.border, panel.spacing, \n",
       "    panel.spacing.x, panel.spacing.y, panel.grid, panel.grid.major, \n",
       "    panel.grid.minor, panel.grid.major.x, panel.grid.major.y, \n",
       "    panel.grid.minor.x, panel.grid.minor.y, panel.ontop, plot.background, \n",
       "    plot.title, plot.title.position, plot.subtitle, plot.caption, \n",
       "    plot.caption.position, plot.tag, plot.tag.position, plot.margin, \n",
       "    strip.background, strip.background.x, strip.background.y, \n",
       "    strip.clip, strip.placement, strip.text, strip.text.x, strip.text.x.bottom, \n",
       "    strip.text.x.top, strip.text.y, strip.text.y.left, strip.text.y.right, \n",
       "    strip.switch.pad.grid, strip.switch.pad.wrap, ..., complete = FALSE, \n",
       "    validate = TRUE) \n",
       "NULL\n",
       "\\end{minted}"
      ],
      "text/markdown": [
       "```r\n",
       "function (line, rect, text, title, aspect.ratio, axis.title, \n",
       "    axis.title.x, axis.title.x.top, axis.title.x.bottom, axis.title.y, \n",
       "    axis.title.y.left, axis.title.y.right, axis.text, axis.text.x, \n",
       "    axis.text.x.top, axis.text.x.bottom, axis.text.y, axis.text.y.left, \n",
       "    axis.text.y.right, axis.ticks, axis.ticks.x, axis.ticks.x.top, \n",
       "    axis.ticks.x.bottom, axis.ticks.y, axis.ticks.y.left, axis.ticks.y.right, \n",
       "    axis.ticks.length, axis.ticks.length.x, axis.ticks.length.x.top, \n",
       "    axis.ticks.length.x.bottom, axis.ticks.length.y, axis.ticks.length.y.left, \n",
       "    axis.ticks.length.y.right, axis.line, axis.line.x, axis.line.x.top, \n",
       "    axis.line.x.bottom, axis.line.y, axis.line.y.left, axis.line.y.right, \n",
       "    legend.background, legend.margin, legend.spacing, legend.spacing.x, \n",
       "    legend.spacing.y, legend.key, legend.key.size, legend.key.height, \n",
       "    legend.key.width, legend.text, legend.text.align, legend.title, \n",
       "    legend.title.align, legend.position, legend.direction, legend.justification, \n",
       "    legend.box, legend.box.just, legend.box.margin, legend.box.background, \n",
       "    legend.box.spacing, panel.background, panel.border, panel.spacing, \n",
       "    panel.spacing.x, panel.spacing.y, panel.grid, panel.grid.major, \n",
       "    panel.grid.minor, panel.grid.major.x, panel.grid.major.y, \n",
       "    panel.grid.minor.x, panel.grid.minor.y, panel.ontop, plot.background, \n",
       "    plot.title, plot.title.position, plot.subtitle, plot.caption, \n",
       "    plot.caption.position, plot.tag, plot.tag.position, plot.margin, \n",
       "    strip.background, strip.background.x, strip.background.y, \n",
       "    strip.clip, strip.placement, strip.text, strip.text.x, strip.text.x.bottom, \n",
       "    strip.text.x.top, strip.text.y, strip.text.y.left, strip.text.y.right, \n",
       "    strip.switch.pad.grid, strip.switch.pad.wrap, ..., complete = FALSE, \n",
       "    validate = TRUE) \n",
       "NULL\n",
       "```"
      ],
      "text/plain": [
       "function (line, rect, text, title, aspect.ratio, axis.title, \n",
       "    axis.title.x, axis.title.x.top, axis.title.x.bottom, axis.title.y, \n",
       "    axis.title.y.left, axis.title.y.right, axis.text, axis.text.x, \n",
       "    axis.text.x.top, axis.text.x.bottom, axis.text.y, axis.text.y.left, \n",
       "    axis.text.y.right, axis.ticks, axis.ticks.x, axis.ticks.x.top, \n",
       "    axis.ticks.x.bottom, axis.ticks.y, axis.ticks.y.left, axis.ticks.y.right, \n",
       "    axis.ticks.length, axis.ticks.length.x, axis.ticks.length.x.top, \n",
       "    axis.ticks.length.x.bottom, axis.ticks.length.y, axis.ticks.length.y.left, \n",
       "    axis.ticks.length.y.right, axis.line, axis.line.x, axis.line.x.top, \n",
       "    axis.line.x.bottom, axis.line.y, axis.line.y.left, axis.line.y.right, \n",
       "    legend.background, legend.margin, legend.spacing, legend.spacing.x, \n",
       "    legend.spacing.y, legend.key, legend.key.size, legend.key.height, \n",
       "    legend.key.width, legend.text, legend.text.align, legend.title, \n",
       "    legend.title.align, legend.position, legend.direction, legend.justification, \n",
       "    legend.box, legend.box.just, legend.box.margin, legend.box.background, \n",
       "    legend.box.spacing, panel.background, panel.border, panel.spacing, \n",
       "    panel.spacing.x, panel.spacing.y, panel.grid, panel.grid.major, \n",
       "    panel.grid.minor, panel.grid.major.x, panel.grid.major.y, \n",
       "    panel.grid.minor.x, panel.grid.minor.y, panel.ontop, plot.background, \n",
       "    plot.title, plot.title.position, plot.subtitle, plot.caption, \n",
       "    plot.caption.position, plot.tag, plot.tag.position, plot.margin, \n",
       "    strip.background, strip.background.x, strip.background.y, \n",
       "    strip.clip, strip.placement, strip.text, strip.text.x, strip.text.x.bottom, \n",
       "    strip.text.x.top, strip.text.y, strip.text.y.left, strip.text.y.right, \n",
       "    strip.switch.pad.grid, strip.switch.pad.wrap, ..., complete = FALSE, \n",
       "    validate = TRUE) \n",
       "NULL"
      ]
     },
     "metadata": {},
     "output_type": "display_data"
    }
   ],
   "source": [
    "args(theme)"
   ]
  },
  {
   "cell_type": "markdown",
   "id": "ef2e3d05",
   "metadata": {},
   "source": [
    "    These arguments allow you to customize the appearance of different elements in a ggplot, \n",
    "    starting from axis labels , titles  , panels , legend properties and plot backgrounds.. "
   ]
  },
  {
   "cell_type": "code",
   "execution_count": null,
   "id": "a64f2b02",
   "metadata": {},
   "outputs": [],
   "source": []
  },
  {
   "cell_type": "code",
   "execution_count": 30,
   "id": "e586b725",
   "metadata": {},
   "outputs": [],
   "source": [
    "help(element_text)\n",
    "\n",
    "### Theme elements\n",
    "## customize the appearance of text elements in plots "
   ]
  },
  {
   "cell_type": "code",
   "execution_count": null,
   "id": "8750fc4f",
   "metadata": {},
   "outputs": [],
   "source": [
    "\"\n",
    "element_text(\n",
    "  family = NULL,\n",
    "  face = NULL,\n",
    "  colour = NULL,\n",
    "  size = NULL,\n",
    "  hjust = NULL,\n",
    "  vjust = NULL,\n",
    "  angle = NULL,\n",
    "  lineheight = NULL,\n",
    "  color = NULL,\n",
    "  margin = NULL,\n",
    "  debug = NULL,\n",
    "  inherit.blank = FALSE\n",
    ")\n",
    "\n",
    "\n",
    "\n",
    "angle :  angle at which the text should be rotated (in degrees).. \n",
    "         If set to NULL, it will inherit the rotation from the plot theme.\n",
    "\n",
    "\n",
    "hjust : This parameter specifies the horizontal alignment of the text relative to its position..\n",
    "        It ranges from 0 (left-aligned) to 1 (right-aligned). \n",
    "        If set to NULL, it will inherit the alignment from the plot theme.\n",
    "\n",
    "\""
   ]
  },
  {
   "cell_type": "code",
   "execution_count": 12,
   "id": "6c07cc4b",
   "metadata": {},
   "outputs": [
    {
     "data": {
      "text/html": [
       "<pre class=language-r><code>function (family = NULL, face = NULL, colour = NULL, size = NULL, \n",
       "<span style=white-space:pre-wrap>    hjust = NULL, vjust = NULL, angle = NULL, lineheight = NULL, </span>\n",
       "<span style=white-space:pre-wrap>    color = NULL, margin = NULL, debug = NULL, inherit.blank = FALSE) </span>\n",
       "NULL</code></pre>"
      ],
      "text/latex": [
       "\\begin{minted}{r}\n",
       "function (family = NULL, face = NULL, colour = NULL, size = NULL, \n",
       "    hjust = NULL, vjust = NULL, angle = NULL, lineheight = NULL, \n",
       "    color = NULL, margin = NULL, debug = NULL, inherit.blank = FALSE) \n",
       "NULL\n",
       "\\end{minted}"
      ],
      "text/markdown": [
       "```r\n",
       "function (family = NULL, face = NULL, colour = NULL, size = NULL, \n",
       "    hjust = NULL, vjust = NULL, angle = NULL, lineheight = NULL, \n",
       "    color = NULL, margin = NULL, debug = NULL, inherit.blank = FALSE) \n",
       "NULL\n",
       "```"
      ],
      "text/plain": [
       "function (family = NULL, face = NULL, colour = NULL, size = NULL, \n",
       "    hjust = NULL, vjust = NULL, angle = NULL, lineheight = NULL, \n",
       "    color = NULL, margin = NULL, debug = NULL, inherit.blank = FALSE) \n",
       "NULL"
      ]
     },
     "metadata": {},
     "output_type": "display_data"
    }
   ],
   "source": [
    "args(element_text)"
   ]
  },
  {
   "cell_type": "code",
   "execution_count": null,
   "id": "be2962b6",
   "metadata": {},
   "outputs": [],
   "source": []
  },
  {
   "cell_type": "code",
   "execution_count": 33,
   "id": "77b7942a",
   "metadata": {},
   "outputs": [],
   "source": [
    "help(coord_cartesian)\n",
    "\n",
    "## xlim, ylim : Limits for the x and y axes"
   ]
  },
  {
   "cell_type": "code",
   "execution_count": 31,
   "id": "e2cf2af6",
   "metadata": {},
   "outputs": [
    {
     "data": {
      "text/html": [
       "<pre class=language-r><code>function (xlim = NULL, ylim = NULL, expand = TRUE, default = FALSE, \n",
       "<span style=white-space:pre-wrap>    clip = \"on\") </span>\n",
       "NULL</code></pre>"
      ],
      "text/latex": [
       "\\begin{minted}{r}\n",
       "function (xlim = NULL, ylim = NULL, expand = TRUE, default = FALSE, \n",
       "    clip = \"on\") \n",
       "NULL\n",
       "\\end{minted}"
      ],
      "text/markdown": [
       "```r\n",
       "function (xlim = NULL, ylim = NULL, expand = TRUE, default = FALSE, \n",
       "    clip = \"on\") \n",
       "NULL\n",
       "```"
      ],
      "text/plain": [
       "function (xlim = NULL, ylim = NULL, expand = TRUE, default = FALSE, \n",
       "    clip = \"on\") \n",
       "NULL"
      ]
     },
     "metadata": {},
     "output_type": "display_data"
    }
   ],
   "source": [
    "args(coord_cartesian)"
   ]
  },
  {
   "cell_type": "code",
   "execution_count": null,
   "id": "3eca3a4f",
   "metadata": {},
   "outputs": [],
   "source": []
  },
  {
   "cell_type": "code",
   "execution_count": 77,
   "id": "5842fd3e",
   "metadata": {},
   "outputs": [
    {
     "data": {
      "image/png": "[encoded data removed]",
      "text/plain": [
       "plot without title"
      ]
     },
     "metadata": {
      "image/png": {
       "height": 420,
       "width": 420
      }
     },
     "output_type": "display_data"
    }
   ],
   "source": [
    "library(ggplot2)\n",
    "\n",
    "# Create a ggplot object\n",
    "plot = ggplot() +\n",
    "  # Use geom_col instead of geom_bar to manually provide y values\n",
    "  geom_col(data = count_df , aes(x = Product , y = Quantity_Ordered), fill = \"yellow\") +  \n",
    "\n",
    "  geom_line(data = count_df , aes(x = Product , y = Avg_price, group = 1), color = \"blue\" , lwd = 1) +\n",
    "\n",
    "  scale_y_continuous(\n",
    "    sec.axis = sec_axis(~./1 ,  name = \"Avg_price of product\")) +\n",
    "\n",
    "  theme(axis.text.x = element_text(angle = 90, hjust = 1)) +\n",
    "\n",
    "  labs(y = \"Order_count\", x = \"Product\") + \n",
    "\n",
    "  coord_cartesian(ylim = c(0, 10000))\n",
    "\n",
    "# Print the plot\n",
    "print(plot)\n"
   ]
  },
  {
   "cell_type": "code",
   "execution_count": null,
   "id": "47aa84cb",
   "metadata": {},
   "outputs": [],
   "source": []
  },
  {
   "cell_type": "code",
   "execution_count": null,
   "id": "1a0a3768",
   "metadata": {},
   "outputs": [],
   "source": [
    "\"\n",
    "\n",
    "Do add group = 1  , otherwise u will not lineplot\n",
    "& u will get below warning as well :\n",
    "\n",
    "`geom_line()`: Each group consists of only one observation.\n",
    "i Do you need to adjust the group aesthetic?\n",
    "\n",
    "\""
   ]
  },
  {
   "cell_type": "code",
   "execution_count": null,
   "id": "977d6425",
   "metadata": {},
   "outputs": [],
   "source": []
  },
  {
   "cell_type": "code",
   "execution_count": null,
   "id": "a36a8094",
   "metadata": {},
   "outputs": [],
   "source": [
    "\"\n",
    "\n",
    "plot = ggplot(count_df, aes(x = Product )) \n",
    "It initializes the plot by specifying the data frame count_df and the \"Product\" on the x-axis\n",
    "using the aes() function..\n",
    "\n",
    "\n",
    "geom_col(data = count_df , aes(x = Product , y = Quantity_Ordered), fill = \"yellow\")  :\n",
    "create the bar chart for 'Product' & 'Quantity Ordered'. \n",
    "\n",
    "Why not geom_bar() , bcz in geom_bar() u can pass either x or y, but not both..\n",
    "it means in geom_bar() , if I mention parameter \"x\" or \"y\" , then it will automatically consider count for either x or y..\n",
    "But by using geom_col(), you can specify both aesthetics explicitly ( both x & y)..\n",
    "\n",
    "\n",
    "\n",
    "You can use geom_bar() instead of geom_col()\n",
    "    geom_bar(aes(x = Product , y = Quantity_Ordered), stat = \"identity\", fill = \"yellow\") : \n",
    "        (in previous release of ggplot2 , it was working , but not in ggplot2 3.5.1\n",
    "        create the bar chart for 'Product' & 'Quantity Ordered'. \n",
    "\n",
    "    stat = \"identity\" , The default value is \"identity,\" meaning no transformation..\n",
    "            ie , statistical transformation to be applied to the data.. \n",
    "       \n",
    "\n",
    "\n",
    "\n",
    "geom_line(data = count_df , aes(x = Product , y = Avg_price, group = 1), color = \"blue\" , lwd = 1) : \n",
    "create the line chart between 'Product' & 'Avg_price'..\n",
    "group = 1 means that all data points are treated as a single group, avoiding grouping issues.\n",
    "lwd = 1 ( to increase linewidth of your line-plot..\n",
    "\n",
    "\n",
    "\n",
    "scale_y_continuous(sec.axis = sec_axis(~. , name = \"Avg_price of product\")): \n",
    "This line sets up a secondary y-axis on the right side of the plot.. \n",
    "sec.axis: This is an parameter of the scale_y_continuous() function, which is used to specify the secondary y-axis\n",
    "\n",
    "sec.axis = sec_axis(~. , name = \"Avg_price of product\") :\n",
    "If u want to perform some transformation on y-axis values , u can use sec_axis function , \n",
    "so If I dont want to do any transformation , I will mention  ~. or ~./1(ie divide each value by 1 , ie no transformation)\n",
    "'~' stands for \"formula operator\".. and let me provide ylabel as \"Avg_price of product..\"\n",
    "ie It modify the value of 'Avg_price' on this secondary axis as per need.\n",
    "\n",
    "Note : ~. means all the average price values or all the original values of average price \n",
    "\n",
    "\n",
    "\n",
    "\n",
    "theme(axis.text.x = element_text(angle = 90, hjust = 1, size = 8)): \n",
    "element_text(...): This function is used to specify various text-related properties for elements in the plot, \n",
    "                    such as the axis labels, titles, and text annotations.\n",
    "ie It customizes the appearance of the x-axis labels. It rotates them by 90 degrees, aligns them to the right (hjust = 1), \n",
    "and sets the text size to 8..\n",
    "\n",
    "\n",
    "\n",
    "labs(y = \"Order_count\", x = \"Product\"): \n",
    "The y-axis label is \"Order_count\" and the x-axis label is \"Product\"\n",
    "\n",
    "\n",
    "coord_cartesian(ylim = c(0, 10000)) : \n",
    "In the coord_cartesian() function, I set the ylim argument to specify the y-axis limits. \n",
    "\n",
    "\n",
    "\""
   ]
  },
  {
   "cell_type": "code",
   "execution_count": null,
   "id": "0bd61553",
   "metadata": {},
   "outputs": [],
   "source": []
  },
  {
   "cell_type": "code",
   "execution_count": null,
   "id": "4b7d6d02",
   "metadata": {},
   "outputs": [],
   "source": []
  },
  {
   "cell_type": "code",
   "execution_count": null,
   "id": "418a7a02",
   "metadata": {},
   "outputs": [],
   "source": []
  },
  {
   "cell_type": "code",
   "execution_count": null,
   "id": "c2313494",
   "metadata": {},
   "outputs": [],
   "source": []
  },
  {
   "cell_type": "code",
   "execution_count": null,
   "id": "4e695e82",
   "metadata": {},
   "outputs": [],
   "source": []
  },
  {
   "cell_type": "markdown",
   "id": "f64d048c",
   "metadata": {},
   "source": [
    "# 5.. Understanding Trend of the most sold product ? "
   ]
  },
  {
   "cell_type": "code",
   "execution_count": 38,
   "id": "ab8ac219",
   "metadata": {},
   "outputs": [],
   "source": [
    "freq_tb = table(all_data$Product)"
   ]
  },
  {
   "cell_type": "code",
   "execution_count": 79,
   "id": "f94383d8",
   "metadata": {},
   "outputs": [
    {
     "data": {
      "text/plain": [
       "\n",
       "              20in Monitor     27in 4K Gaming Monitor \n",
       "                      4098                       6225 \n",
       "          27in FHD Monitor     34in Ultrawide Monitor \n",
       "                      7498                       6174 \n",
       "     AA Batteries (4-pack)     AAA Batteries (4-pack) \n",
       "                     20558                      20612 \n",
       "  Apple Airpods Headphones Bose SoundSport Headphones \n",
       "                     15525                      13298 \n",
       "             Flatscreen TV               Google Phone \n",
       "                      4794                       5522 \n",
       "                    iPhone                   LG Dryer \n",
       "                      6840                        646 \n",
       "        LG Washing Machine   Lightning Charging Cable \n",
       "                       666                      21610 \n",
       "        Macbook Pro Laptop            ThinkPad Laptop \n",
       "                      4721                       4126 \n",
       "      USB-C Charging Cable            Vareebadd Phone \n",
       "                     21859                       2065 \n",
       "          Wired Headphones \n",
       "                     18849 "
      ]
     },
     "metadata": {},
     "output_type": "display_data"
    }
   ],
   "source": [
    "freq_tb"
   ]
  },
  {
   "cell_type": "code",
   "execution_count": null,
   "id": "4fcc765c",
   "metadata": {},
   "outputs": [],
   "source": []
  },
  {
   "cell_type": "code",
   "execution_count": null,
   "id": "6f26319c",
   "metadata": {},
   "outputs": [],
   "source": []
  },
  {
   "cell_type": "code",
   "execution_count": null,
   "id": "6a62cb41",
   "metadata": {},
   "outputs": [],
   "source": [
    "help(sort)\n",
    "\n",
    "## Sorting or Ordering Vectors"
   ]
  },
  {
   "cell_type": "code",
   "execution_count": null,
   "id": "617c24cc",
   "metadata": {},
   "outputs": [],
   "source": [
    "\"\n",
    "\n",
    "sort(x, decreasing = FALSE, ...)\n",
    "\n",
    "x :: an R object that u want to sort \n",
    "\n",
    "\""
   ]
  },
  {
   "cell_type": "code",
   "execution_count": 34,
   "id": "05d36489",
   "metadata": {},
   "outputs": [
    {
     "data": {
      "text/html": [
       "<pre class=language-r><code>function (x, decreasing = FALSE, ...) \n",
       "NULL</code></pre>"
      ],
      "text/latex": [
       "\\begin{minted}{r}\n",
       "function (x, decreasing = FALSE, ...) \n",
       "NULL\n",
       "\\end{minted}"
      ],
      "text/markdown": [
       "```r\n",
       "function (x, decreasing = FALSE, ...) \n",
       "NULL\n",
       "```"
      ],
      "text/plain": [
       "function (x, decreasing = FALSE, ...) \n",
       "NULL"
      ]
     },
     "metadata": {},
     "output_type": "display_data"
    }
   ],
   "source": [
    "args(sort)"
   ]
  },
  {
   "cell_type": "code",
   "execution_count": 39,
   "id": "5b3a029c",
   "metadata": {},
   "outputs": [],
   "source": [
    "most_sold_product = names(head(sort(freq_tb, decreasing = TRUE), 5))"
   ]
  },
  {
   "cell_type": "code",
   "execution_count": 40,
   "id": "0fff22c3",
   "metadata": {},
   "outputs": [
    {
     "data": {
      "text/html": [
       "<style>\n",
       ".list-inline {list-style: none; margin:0; padding: 0}\n",
       ".list-inline>li {display: inline-block}\n",
       ".list-inline>li:not(:last-child)::after {content: \"\\00b7\"; padding: 0 .5ex}\n",
       "</style>\n",
       "<ol class=list-inline><li>'USB-C Charging Cable'</li><li>'Lightning Charging Cable'</li><li>'AAA Batteries (4-pack)'</li><li>'AA Batteries (4-pack)'</li><li>'Wired Headphones'</li></ol>\n"
      ],
      "text/latex": [
       "\\begin{enumerate*}\n",
       "\\item 'USB-C Charging Cable'\n",
       "\\item 'Lightning Charging Cable'\n",
       "\\item 'AAA Batteries (4-pack)'\n",
       "\\item 'AA Batteries (4-pack)'\n",
       "\\item 'Wired Headphones'\n",
       "\\end{enumerate*}\n"
      ],
      "text/markdown": [
       "1. 'USB-C Charging Cable'\n",
       "2. 'Lightning Charging Cable'\n",
       "3. 'AAA Batteries (4-pack)'\n",
       "4. 'AA Batteries (4-pack)'\n",
       "5. 'Wired Headphones'\n",
       "\n",
       "\n"
      ],
      "text/plain": [
       "[1] \"USB-C Charging Cable\"     \"Lightning Charging Cable\"\n",
       "[3] \"AAA Batteries (4-pack)\"   \"AA Batteries (4-pack)\"   \n",
       "[5] \"Wired Headphones\"        "
      ]
     },
     "metadata": {},
     "output_type": "display_data"
    }
   ],
   "source": [
    "most_sold_product"
   ]
  },
  {
   "cell_type": "code",
   "execution_count": null,
   "id": "5a8c4fae",
   "metadata": {},
   "outputs": [],
   "source": []
  },
  {
   "cell_type": "code",
   "execution_count": 41,
   "id": "9dff16fe",
   "metadata": {},
   "outputs": [],
   "source": [
    "### lets extract dataframe of most_sold_products_only..\n",
    "\n",
    "most_sold_product_df = all_data[all_data[['Product']] %in% c('USB-C Charging Cable' ,'Lightning Charging Cable' ,'AAA Batteries (4-pack)' ,'AA Batteries (4-pack)' ,'Wired Headphones')  , ]"
   ]
  },
  {
   "cell_type": "code",
   "execution_count": 42,
   "id": "36e47318",
   "metadata": {},
   "outputs": [
    {
     "data": {
      "text/html": [
       "<style>\n",
       ".list-inline {list-style: none; margin:0; padding: 0}\n",
       ".list-inline>li {display: inline-block}\n",
       ".list-inline>li:not(:last-child)::after {content: \"\\00b7\"; padding: 0 .5ex}\n",
       "</style>\n",
       "<ol class=list-inline><li>103488</li><li>9</li></ol>\n"
      ],
      "text/latex": [
       "\\begin{enumerate*}\n",
       "\\item 103488\n",
       "\\item 9\n",
       "\\end{enumerate*}\n"
      ],
      "text/markdown": [
       "1. 103488\n",
       "2. 9\n",
       "\n",
       "\n"
      ],
      "text/plain": [
       "[1] 103488      9"
      ]
     },
     "metadata": {},
     "output_type": "display_data"
    }
   ],
   "source": [
    "dim(most_sold_product_df)"
   ]
  },
  {
   "cell_type": "code",
   "execution_count": null,
   "id": "895977b3",
   "metadata": {},
   "outputs": [],
   "source": []
  },
  {
   "cell_type": "code",
   "execution_count": 97,
   "id": "3427cf63",
   "metadata": {},
   "outputs": [],
   "source": [
    "## install.packages(\"reshape2\")"
   ]
  },
  {
   "cell_type": "code",
   "execution_count": 44,
   "id": "029f9965",
   "metadata": {},
   "outputs": [],
   "source": [
    "library(reshape2) ## to create pivot tables "
   ]
  },
  {
   "cell_type": "code",
   "execution_count": null,
   "id": "d0df3a93",
   "metadata": {},
   "outputs": [],
   "source": [
    "help(dcast)"
   ]
  },
  {
   "cell_type": "code",
   "execution_count": null,
   "id": "9b0accfe",
   "metadata": {},
   "outputs": [],
   "source": [
    "\"\n",
    "\n",
    "data : dataframe \n",
    "\n",
    "\n",
    "formula : A formula of the form LHS ~ RHS to cast\n",
    "            LHS means variable that u need on indexes\n",
    "            RHS means variable that u need on column..\n",
    "\n",
    "\n",
    "fun.aggregate : Should the data be aggregated before casting? \n",
    "                Default aggregation is length , ie it counts total_rows for every pair..\n",
    "\n",
    "\n",
    "value.var : Name of the column whose values will be filled to cast\n",
    "\n",
    "\""
   ]
  },
  {
   "cell_type": "code",
   "execution_count": 8,
   "id": "f27165af",
   "metadata": {},
   "outputs": [
    {
     "data": {
      "text/html": [
       "<pre class=language-r><code>function (data, formula, fun.aggregate = NULL, ..., margins = NULL, \n",
       "<span style=white-space:pre-wrap>    subset = NULL, fill = NULL, drop = TRUE, value.var = guess_value(data)) </span>\n",
       "NULL</code></pre>"
      ],
      "text/latex": [
       "\\begin{minted}{r}\n",
       "function (data, formula, fun.aggregate = NULL, ..., margins = NULL, \n",
       "    subset = NULL, fill = NULL, drop = TRUE, value.var = guess\\_value(data)) \n",
       "NULL\n",
       "\\end{minted}"
      ],
      "text/markdown": [
       "```r\n",
       "function (data, formula, fun.aggregate = NULL, ..., margins = NULL, \n",
       "    subset = NULL, fill = NULL, drop = TRUE, value.var = guess_value(data)) \n",
       "NULL\n",
       "```"
      ],
      "text/plain": [
       "function (data, formula, fun.aggregate = NULL, ..., margins = NULL, \n",
       "    subset = NULL, fill = NULL, drop = TRUE, value.var = guess_value(data)) \n",
       "NULL"
      ]
     },
     "metadata": {},
     "output_type": "display_data"
    }
   ],
   "source": [
    "args(dcast)"
   ]
  },
  {
   "cell_type": "code",
   "execution_count": null,
   "id": "d04465f1",
   "metadata": {},
   "outputs": [],
   "source": []
  },
  {
   "cell_type": "code",
   "execution_count": null,
   "id": "041607ab",
   "metadata": {},
   "outputs": [],
   "source": [
    "names(most_sold_product_df)"
   ]
  },
  {
   "cell_type": "code",
   "execution_count": 45,
   "id": "11c57db7",
   "metadata": {},
   "outputs": [
    {
     "name": "stderr",
     "output_type": "stream",
     "text": [
      "Aggregation function missing: defaulting to length\n",
      "\n"
     ]
    }
   ],
   "source": [
    "pivot = reshape2 :: dcast(most_sold_product_df , Month ~ Product , value.var = \"Product\"  ) \n",
    "## dcast(data , X ~ Y , value.var = \"any_variable_here\")\n",
    "\n",
    "## pivot table is all about  , we have Rows*columns & having value in each cell !\n",
    "\n",
    "## X - feature that I want as rows\n",
    "## Y - feature that I want as columns \n",
    "## value - feature name on which u want to perform your aggregation ..\n",
    "## Note : default aggregation func is length , ie it counts total_rows .."
   ]
  },
  {
   "cell_type": "code",
   "execution_count": null,
   "id": "83ec7c76",
   "metadata": {},
   "outputs": [],
   "source": [
    "\"\n",
    "\n",
    "set fun.aggregate = length in dcast() to get rid of above warning :\n",
    "\n",
    "Aggregation function missing: defaulting to length\n",
    "\n",
    "\""
   ]
  },
  {
   "cell_type": "code",
   "execution_count": null,
   "id": "5e12ee53",
   "metadata": {},
   "outputs": [],
   "source": []
  },
  {
   "cell_type": "code",
   "execution_count": 87,
   "id": "6a8cfdac",
   "metadata": {},
   "outputs": [
    {
     "data": {
      "text/html": [
       "<table class=\"dataframe\">\n",
       "<caption>A data.frame: 12 × 6</caption>\n",
       "<thead>\n",
       "\t<tr><th scope=col>Month</th><th scope=col>AA Batteries (4-pack)</th><th scope=col>AAA Batteries (4-pack)</th><th scope=col>Lightning Charging Cable</th><th scope=col>USB-C Charging Cable</th><th scope=col>Wired Headphones</th></tr>\n",
       "\t<tr><th scope=col>&lt;int&gt;</th><th scope=col>&lt;int&gt;</th><th scope=col>&lt;int&gt;</th><th scope=col>&lt;int&gt;</th><th scope=col>&lt;int&gt;</th><th scope=col>&lt;int&gt;</th></tr>\n",
       "</thead>\n",
       "<tbody>\n",
       "\t<tr><td> 1</td><td>1037</td><td>1084</td><td>1069</td><td>1171</td><td>1004</td></tr>\n",
       "\t<tr><td> 2</td><td>1274</td><td>1320</td><td>1393</td><td>1511</td><td>1179</td></tr>\n",
       "\t<tr><td> 3</td><td>1672</td><td>1645</td><td>1749</td><td>1766</td><td>1512</td></tr>\n",
       "\t<tr><td> 4</td><td>2062</td><td>1988</td><td>2197</td><td>2074</td><td>1888</td></tr>\n",
       "\t<tr><td> 5</td><td>1821</td><td>1888</td><td>1929</td><td>1879</td><td>1729</td></tr>\n",
       "\t<tr><td> 6</td><td>1540</td><td>1451</td><td>1560</td><td>1531</td><td>1334</td></tr>\n",
       "\t<tr><td> 7</td><td>1555</td><td>1554</td><td>1690</td><td>1667</td><td>1434</td></tr>\n",
       "\t<tr><td> 8</td><td>1357</td><td>1340</td><td>1354</td><td>1339</td><td>1191</td></tr>\n",
       "\t<tr><td> 9</td><td>1314</td><td>1281</td><td>1324</td><td>1451</td><td>1173</td></tr>\n",
       "\t<tr><td>10</td><td>2240</td><td>2234</td><td>2414</td><td>2437</td><td>2091</td></tr>\n",
       "\t<tr><td>11</td><td>1970</td><td>1999</td><td>2044</td><td>2054</td><td>1777</td></tr>\n",
       "\t<tr><td>12</td><td>2716</td><td>2828</td><td>2887</td><td>2979</td><td>2537</td></tr>\n",
       "</tbody>\n",
       "</table>\n"
      ],
      "text/latex": [
       "A data.frame: 12 × 6\n",
       "\\begin{tabular}{llllll}\n",
       " Month & AA Batteries (4-pack) & AAA Batteries (4-pack) & Lightning Charging Cable & USB-C Charging Cable & Wired Headphones\\\\\n",
       " <int> & <int> & <int> & <int> & <int> & <int>\\\\\n",
       "\\hline\n",
       "\t  1 & 1037 & 1084 & 1069 & 1171 & 1004\\\\\n",
       "\t  2 & 1274 & 1320 & 1393 & 1511 & 1179\\\\\n",
       "\t  3 & 1672 & 1645 & 1749 & 1766 & 1512\\\\\n",
       "\t  4 & 2062 & 1988 & 2197 & 2074 & 1888\\\\\n",
       "\t  5 & 1821 & 1888 & 1929 & 1879 & 1729\\\\\n",
       "\t  6 & 1540 & 1451 & 1560 & 1531 & 1334\\\\\n",
       "\t  7 & 1555 & 1554 & 1690 & 1667 & 1434\\\\\n",
       "\t  8 & 1357 & 1340 & 1354 & 1339 & 1191\\\\\n",
       "\t  9 & 1314 & 1281 & 1324 & 1451 & 1173\\\\\n",
       "\t 10 & 2240 & 2234 & 2414 & 2437 & 2091\\\\\n",
       "\t 11 & 1970 & 1999 & 2044 & 2054 & 1777\\\\\n",
       "\t 12 & 2716 & 2828 & 2887 & 2979 & 2537\\\\\n",
       "\\end{tabular}\n"
      ],
      "text/markdown": [
       "\n",
       "A data.frame: 12 × 6\n",
       "\n",
       "| Month &lt;int&gt; | AA Batteries (4-pack) &lt;int&gt; | AAA Batteries (4-pack) &lt;int&gt; | Lightning Charging Cable &lt;int&gt; | USB-C Charging Cable &lt;int&gt; | Wired Headphones &lt;int&gt; |\n",
       "|---|---|---|---|---|---|\n",
       "|  1 | 1037 | 1084 | 1069 | 1171 | 1004 |\n",
       "|  2 | 1274 | 1320 | 1393 | 1511 | 1179 |\n",
       "|  3 | 1672 | 1645 | 1749 | 1766 | 1512 |\n",
       "|  4 | 2062 | 1988 | 2197 | 2074 | 1888 |\n",
       "|  5 | 1821 | 1888 | 1929 | 1879 | 1729 |\n",
       "|  6 | 1540 | 1451 | 1560 | 1531 | 1334 |\n",
       "|  7 | 1555 | 1554 | 1690 | 1667 | 1434 |\n",
       "|  8 | 1357 | 1340 | 1354 | 1339 | 1191 |\n",
       "|  9 | 1314 | 1281 | 1324 | 1451 | 1173 |\n",
       "| 10 | 2240 | 2234 | 2414 | 2437 | 2091 |\n",
       "| 11 | 1970 | 1999 | 2044 | 2054 | 1777 |\n",
       "| 12 | 2716 | 2828 | 2887 | 2979 | 2537 |\n",
       "\n"
      ],
      "text/plain": [
       "   Month AA Batteries (4-pack) AAA Batteries (4-pack) Lightning Charging Cable\n",
       "1   1    1037                  1084                   1069                    \n",
       "2   2    1274                  1320                   1393                    \n",
       "3   3    1672                  1645                   1749                    \n",
       "4   4    2062                  1988                   2197                    \n",
       "5   5    1821                  1888                   1929                    \n",
       "6   6    1540                  1451                   1560                    \n",
       "7   7    1555                  1554                   1690                    \n",
       "8   8    1357                  1340                   1354                    \n",
       "9   9    1314                  1281                   1324                    \n",
       "10 10    2240                  2234                   2414                    \n",
       "11 11    1970                  1999                   2044                    \n",
       "12 12    2716                  2828                   2887                    \n",
       "   USB-C Charging Cable Wired Headphones\n",
       "1  1171                 1004            \n",
       "2  1511                 1179            \n",
       "3  1766                 1512            \n",
       "4  2074                 1888            \n",
       "5  1879                 1729            \n",
       "6  1531                 1334            \n",
       "7  1667                 1434            \n",
       "8  1339                 1191            \n",
       "9  1451                 1173            \n",
       "10 2437                 2091            \n",
       "11 2054                 1777            \n",
       "12 2979                 2537            "
      ]
     },
     "metadata": {},
     "output_type": "display_data"
    }
   ],
   "source": [
    "pivot"
   ]
  },
  {
   "cell_type": "code",
   "execution_count": null,
   "id": "f61426f6",
   "metadata": {},
   "outputs": [],
   "source": []
  },
  {
   "cell_type": "code",
   "execution_count": 88,
   "id": "01f04390",
   "metadata": {},
   "outputs": [
    {
     "data": {
      "text/html": [
       "<style>\n",
       ".list-inline {list-style: none; margin:0; padding: 0}\n",
       ".list-inline>li {display: inline-block}\n",
       ".list-inline>li:not(:last-child)::after {content: \"\\00b7\"; padding: 0 .5ex}\n",
       "</style>\n",
       "<ol class=list-inline><li>'Month'</li><li>'AA Batteries (4-pack)'</li><li>'AAA Batteries (4-pack)'</li><li>'Lightning Charging Cable'</li><li>'USB-C Charging Cable'</li><li>'Wired Headphones'</li></ol>\n"
      ],
      "text/latex": [
       "\\begin{enumerate*}\n",
       "\\item 'Month'\n",
       "\\item 'AA Batteries (4-pack)'\n",
       "\\item 'AAA Batteries (4-pack)'\n",
       "\\item 'Lightning Charging Cable'\n",
       "\\item 'USB-C Charging Cable'\n",
       "\\item 'Wired Headphones'\n",
       "\\end{enumerate*}\n"
      ],
      "text/markdown": [
       "1. 'Month'\n",
       "2. 'AA Batteries (4-pack)'\n",
       "3. 'AAA Batteries (4-pack)'\n",
       "4. 'Lightning Charging Cable'\n",
       "5. 'USB-C Charging Cable'\n",
       "6. 'Wired Headphones'\n",
       "\n",
       "\n"
      ],
      "text/plain": [
       "[1] \"Month\"                    \"AA Batteries (4-pack)\"   \n",
       "[3] \"AAA Batteries (4-pack)\"   \"Lightning Charging Cable\"\n",
       "[5] \"USB-C Charging Cable\"     \"Wired Headphones\"        "
      ]
     },
     "metadata": {},
     "output_type": "display_data"
    }
   ],
   "source": [
    "names(pivot)"
   ]
  },
  {
   "cell_type": "code",
   "execution_count": null,
   "id": "36442e88",
   "metadata": {},
   "outputs": [],
   "source": []
  },
  {
   "cell_type": "code",
   "execution_count": 40,
   "id": "be48868e",
   "metadata": {},
   "outputs": [],
   "source": [
    "help(matplot)\n",
    "\n",
    "## Plot the columns of one matrix against the columns of another\n",
    "## create a scatter plot or line plot with multiple series of data..\n",
    "## ie , It allows plot multiple lines on the same graph"
   ]
  },
  {
   "cell_type": "code",
   "execution_count": null,
   "id": "15f14ce7",
   "metadata": {},
   "outputs": [],
   "source": [
    "\"\n",
    "\n",
    "matplot(x, y, type = \"p\", lty = 1:5, lwd = 1, lend = par(\"lend\"),\n",
    "        pch = NULL,\n",
    "        col = 1:6, cex = NULL, bg = NA,\n",
    "        xlab = NULL, ylab = NULL, xlim = NULL, ylim = NULL,\n",
    "        log = \"\", ..., add = FALSE, verbose = getOption(\"verbose\"))\n",
    "\n",
    "\n",
    "\n",
    "\n",
    "x : The x-coordinates for the plot.. \n",
    "y : The y-coordinates for the plot.. \n",
    "type : The type of plot u need , \"p\" for points, \"l\" for lines, \"b\" for both etc..\n",
    "\n",
    "lty : Line type\n",
    "        lty = 1: Solid line\n",
    "        lty = 2: Dashed line\n",
    "        lty = 3: Dotted line\n",
    "        lty = 4: Dot-dashed line\n",
    "        lty = 5: Long-dashed line\n",
    "\n",
    "\n",
    "lwd : Line width\n",
    "        lwd = 1: Thin line (default)\n",
    "        lwd > 1: Thicker line\n",
    "        lwd < 1: Thinner line\n",
    "\n",
    "lend : Line end style..\n",
    "        This specifies the line end style. Possible values are \"round\", \"butt\", or \"square\".\n",
    "\n",
    "\n",
    "\""
   ]
  },
  {
   "cell_type": "code",
   "execution_count": 39,
   "id": "6a5ee341",
   "metadata": {},
   "outputs": [
    {
     "data": {
      "text/html": [
       "<pre class=language-r><code>function (x, y, type = \"p\", lty = 1:5, lwd = 1, lend = par(\"lend\"), \n",
       "<span style=white-space:pre-wrap>    pch = NULL, col = 1:6, cex = NULL, bg = NA, xlab = NULL, </span>\n",
       "<span style=white-space:pre-wrap>    ylab = NULL, xlim = NULL, ylim = NULL, log = \"\", ..., add = FALSE, </span>\n",
       "<span style=white-space:pre-wrap>    verbose = getOption(\"verbose\")) </span>\n",
       "NULL</code></pre>"
      ],
      "text/latex": [
       "\\begin{minted}{r}\n",
       "function (x, y, type = \"p\", lty = 1:5, lwd = 1, lend = par(\"lend\"), \n",
       "    pch = NULL, col = 1:6, cex = NULL, bg = NA, xlab = NULL, \n",
       "    ylab = NULL, xlim = NULL, ylim = NULL, log = \"\", ..., add = FALSE, \n",
       "    verbose = getOption(\"verbose\")) \n",
       "NULL\n",
       "\\end{minted}"
      ],
      "text/markdown": [
       "```r\n",
       "function (x, y, type = \"p\", lty = 1:5, lwd = 1, lend = par(\"lend\"), \n",
       "    pch = NULL, col = 1:6, cex = NULL, bg = NA, xlab = NULL, \n",
       "    ylab = NULL, xlim = NULL, ylim = NULL, log = \"\", ..., add = FALSE, \n",
       "    verbose = getOption(\"verbose\")) \n",
       "NULL\n",
       "```"
      ],
      "text/plain": [
       "function (x, y, type = \"p\", lty = 1:5, lwd = 1, lend = par(\"lend\"), \n",
       "    pch = NULL, col = 1:6, cex = NULL, bg = NA, xlab = NULL, \n",
       "    ylab = NULL, xlim = NULL, ylim = NULL, log = \"\", ..., add = FALSE, \n",
       "    verbose = getOption(\"verbose\")) \n",
       "NULL"
      ]
     },
     "metadata": {},
     "output_type": "display_data"
    }
   ],
   "source": [
    "args(matplot)"
   ]
  },
  {
   "cell_type": "code",
   "execution_count": 89,
   "id": "fa912a58",
   "metadata": {},
   "outputs": [
    {
     "data": {
      "image/png": "[encoded data removed]",
      "text/plain": [
       "plot without title"
      ]
     },
     "metadata": {
      "image/png": {
       "height": 420,
       "width": 420
      }
     },
     "output_type": "display_data"
    }
   ],
   "source": [
    "# Create a multiline plot\n",
    "matplot(pivot$Month, pivot[, -1], type = \"l\")\n",
    "\n",
    "## pivot[, -1] : gives all data except \"month\"\n",
    "## matplot is a function of graphics package in R which is by-default loaded ->>  help(matplot)"
   ]
  },
  {
   "cell_type": "code",
   "execution_count": null,
   "id": "81a662df",
   "metadata": {},
   "outputs": [],
   "source": [
    "\"\n",
    "\n",
    "Inference : Products have been sold more in Apr , Oct , Nov , Dec \n",
    "These are those months where we have interesting sales ..\n",
    "\n",
    "\n",
    "\""
   ]
  },
  {
   "cell_type": "code",
   "execution_count": null,
   "id": "40789489",
   "metadata": {},
   "outputs": [],
   "source": []
  },
  {
   "cell_type": "code",
   "execution_count": null,
   "id": "7eaeab7e",
   "metadata": {},
   "outputs": [],
   "source": []
  },
  {
   "cell_type": "code",
   "execution_count": null,
   "id": "beff7641",
   "metadata": {},
   "outputs": [],
   "source": []
  },
  {
   "cell_type": "code",
   "execution_count": null,
   "id": "4072301d",
   "metadata": {},
   "outputs": [],
   "source": []
  },
  {
   "cell_type": "code",
   "execution_count": null,
   "id": "91caec60",
   "metadata": {},
   "outputs": [],
   "source": []
  },
  {
   "cell_type": "code",
   "execution_count": null,
   "id": "8dda4f15",
   "metadata": {},
   "outputs": [],
   "source": []
  },
  {
   "cell_type": "markdown",
   "id": "9f7f5679",
   "metadata": {},
   "source": [
    "# 6.. What products are most often sold together ?\n",
    "        keep orders that have same order Id, are sold mostly together ..\n",
    "        Approach : ie keep duplicated data "
   ]
  },
  {
   "cell_type": "code",
   "execution_count": 90,
   "id": "fa1a93ff",
   "metadata": {},
   "outputs": [
    {
     "data": {
      "text/html": [
       "<style>\n",
       ".list-inline {list-style: none; margin:0; padding: 0}\n",
       ".list-inline>li {display: inline-block}\n",
       ".list-inline>li:not(:last-child)::after {content: \"\\00b7\"; padding: 0 .5ex}\n",
       "</style>\n",
       "<ol class=list-inline><li>185686</li><li>9</li></ol>\n"
      ],
      "text/latex": [
       "\\begin{enumerate*}\n",
       "\\item 185686\n",
       "\\item 9\n",
       "\\end{enumerate*}\n"
      ],
      "text/markdown": [
       "1. 185686\n",
       "2. 9\n",
       "\n",
       "\n"
      ],
      "text/plain": [
       "[1] 185686      9"
      ]
     },
     "metadata": {},
     "output_type": "display_data"
    }
   ],
   "source": [
    "dim(all_data)"
   ]
  },
  {
   "cell_type": "code",
   "execution_count": 91,
   "id": "f4a5f6cd",
   "metadata": {},
   "outputs": [
    {
     "data": {
      "text/html": [
       "<table class=\"dataframe\">\n",
       "<caption>A tibble: 6 × 9</caption>\n",
       "<thead>\n",
       "\t<tr><th scope=col>Order.ID</th><th scope=col>Product</th><th scope=col>Quantity.Ordered</th><th scope=col>Price.Each</th><th scope=col>Order.Date</th><th scope=col>Purchase.Address</th><th scope=col>Month</th><th scope=col>sales</th><th scope=col>city</th></tr>\n",
       "\t<tr><th scope=col>&lt;chr&gt;</th><th scope=col>&lt;chr&gt;</th><th scope=col>&lt;int&gt;</th><th scope=col>&lt;dbl&gt;</th><th scope=col>&lt;chr&gt;</th><th scope=col>&lt;chr&gt;</th><th scope=col>&lt;int&gt;</th><th scope=col>&lt;dbl&gt;</th><th scope=col>&lt;chr&gt;</th></tr>\n",
       "</thead>\n",
       "<tbody>\n",
       "\t<tr><td>176558</td><td>USB-C Charging Cable      </td><td>2</td><td> 11.95</td><td>04/19/19 08:46</td><td>917 1st St, Dallas, TX 75001          </td><td>4</td><td> 23.90</td><td> Dallas       </td></tr>\n",
       "\t<tr><td>176559</td><td>Bose SoundSport Headphones</td><td>1</td><td> 99.99</td><td>04/07/19 22:30</td><td>682 Chestnut St, Boston, MA 02215     </td><td>4</td><td> 99.99</td><td> Boston       </td></tr>\n",
       "\t<tr><td>176560</td><td>Google Phone              </td><td>1</td><td>600.00</td><td>04/12/19 14:38</td><td>669 Spruce St, Los Angeles, CA 90001  </td><td>4</td><td>600.00</td><td> Los Angeles  </td></tr>\n",
       "\t<tr><td>176560</td><td>Wired Headphones          </td><td>1</td><td> 11.99</td><td>04/12/19 14:38</td><td>669 Spruce St, Los Angeles, CA 90001  </td><td>4</td><td> 11.99</td><td> Los Angeles  </td></tr>\n",
       "\t<tr><td>176561</td><td>Wired Headphones          </td><td>1</td><td> 11.99</td><td>04/30/19 09:27</td><td>333 8th St, Los Angeles, CA 90001     </td><td>4</td><td> 11.99</td><td> Los Angeles  </td></tr>\n",
       "\t<tr><td>176562</td><td>USB-C Charging Cable      </td><td>1</td><td> 11.95</td><td>04/29/19 13:03</td><td>381 Wilson St, San Francisco, CA 94016</td><td>4</td><td> 11.95</td><td> San Francisco</td></tr>\n",
       "</tbody>\n",
       "</table>\n"
      ],
      "text/latex": [
       "A tibble: 6 × 9\n",
       "\\begin{tabular}{lllllllll}\n",
       " Order.ID & Product & Quantity.Ordered & Price.Each & Order.Date & Purchase.Address & Month & sales & city\\\\\n",
       " <chr> & <chr> & <int> & <dbl> & <chr> & <chr> & <int> & <dbl> & <chr>\\\\\n",
       "\\hline\n",
       "\t 176558 & USB-C Charging Cable       & 2 &  11.95 & 04/19/19 08:46 & 917 1st St, Dallas, TX 75001           & 4 &  23.90 &  Dallas       \\\\\n",
       "\t 176559 & Bose SoundSport Headphones & 1 &  99.99 & 04/07/19 22:30 & 682 Chestnut St, Boston, MA 02215      & 4 &  99.99 &  Boston       \\\\\n",
       "\t 176560 & Google Phone               & 1 & 600.00 & 04/12/19 14:38 & 669 Spruce St, Los Angeles, CA 90001   & 4 & 600.00 &  Los Angeles  \\\\\n",
       "\t 176560 & Wired Headphones           & 1 &  11.99 & 04/12/19 14:38 & 669 Spruce St, Los Angeles, CA 90001   & 4 &  11.99 &  Los Angeles  \\\\\n",
       "\t 176561 & Wired Headphones           & 1 &  11.99 & 04/30/19 09:27 & 333 8th St, Los Angeles, CA 90001      & 4 &  11.99 &  Los Angeles  \\\\\n",
       "\t 176562 & USB-C Charging Cable       & 1 &  11.95 & 04/29/19 13:03 & 381 Wilson St, San Francisco, CA 94016 & 4 &  11.95 &  San Francisco\\\\\n",
       "\\end{tabular}\n"
      ],
      "text/markdown": [
       "\n",
       "A tibble: 6 × 9\n",
       "\n",
       "| Order.ID &lt;chr&gt; | Product &lt;chr&gt; | Quantity.Ordered &lt;int&gt; | Price.Each &lt;dbl&gt; | Order.Date &lt;chr&gt; | Purchase.Address &lt;chr&gt; | Month &lt;int&gt; | sales &lt;dbl&gt; | city &lt;chr&gt; |\n",
       "|---|---|---|---|---|---|---|---|---|\n",
       "| 176558 | USB-C Charging Cable       | 2 |  11.95 | 04/19/19 08:46 | 917 1st St, Dallas, TX 75001           | 4 |  23.90 |  Dallas        |\n",
       "| 176559 | Bose SoundSport Headphones | 1 |  99.99 | 04/07/19 22:30 | 682 Chestnut St, Boston, MA 02215      | 4 |  99.99 |  Boston        |\n",
       "| 176560 | Google Phone               | 1 | 600.00 | 04/12/19 14:38 | 669 Spruce St, Los Angeles, CA 90001   | 4 | 600.00 |  Los Angeles   |\n",
       "| 176560 | Wired Headphones           | 1 |  11.99 | 04/12/19 14:38 | 669 Spruce St, Los Angeles, CA 90001   | 4 |  11.99 |  Los Angeles   |\n",
       "| 176561 | Wired Headphones           | 1 |  11.99 | 04/30/19 09:27 | 333 8th St, Los Angeles, CA 90001      | 4 |  11.99 |  Los Angeles   |\n",
       "| 176562 | USB-C Charging Cable       | 1 |  11.95 | 04/29/19 13:03 | 381 Wilson St, San Francisco, CA 94016 | 4 |  11.95 |  San Francisco |\n",
       "\n"
      ],
      "text/plain": [
       "  Order.ID Product                    Quantity.Ordered Price.Each\n",
       "1 176558   USB-C Charging Cable       2                 11.95    \n",
       "2 176559   Bose SoundSport Headphones 1                 99.99    \n",
       "3 176560   Google Phone               1                600.00    \n",
       "4 176560   Wired Headphones           1                 11.99    \n",
       "5 176561   Wired Headphones           1                 11.99    \n",
       "6 176562   USB-C Charging Cable       1                 11.95    \n",
       "  Order.Date     Purchase.Address                       Month sales \n",
       "1 04/19/19 08:46 917 1st St, Dallas, TX 75001           4      23.90\n",
       "2 04/07/19 22:30 682 Chestnut St, Boston, MA 02215      4      99.99\n",
       "3 04/12/19 14:38 669 Spruce St, Los Angeles, CA 90001   4     600.00\n",
       "4 04/12/19 14:38 669 Spruce St, Los Angeles, CA 90001   4      11.99\n",
       "5 04/30/19 09:27 333 8th St, Los Angeles, CA 90001      4      11.99\n",
       "6 04/29/19 13:03 381 Wilson St, San Francisco, CA 94016 4      11.95\n",
       "  city          \n",
       "1  Dallas       \n",
       "2  Boston       \n",
       "3  Los Angeles  \n",
       "4  Los Angeles  \n",
       "5  Los Angeles  \n",
       "6  San Francisco"
      ]
     },
     "metadata": {},
     "output_type": "display_data"
    }
   ],
   "source": [
    "head(all_data , 6)"
   ]
  },
  {
   "cell_type": "code",
   "execution_count": null,
   "id": "abbaabfa",
   "metadata": {},
   "outputs": [],
   "source": []
  },
  {
   "cell_type": "code",
   "execution_count": null,
   "id": "dd76b4cf",
   "metadata": {},
   "outputs": [],
   "source": [
    "help(duplicated)"
   ]
  },
  {
   "cell_type": "code",
   "execution_count": null,
   "id": "63ca9b27",
   "metadata": {},
   "outputs": [],
   "source": [
    "\"\n",
    "\n",
    "\n",
    "2.. Default S3 method:\n",
    "    duplicated(x, incomparables = FALSE,\n",
    "           fromLast = FALSE, nmax = NA, ...)\n",
    "\n",
    "    This is the default method of the duplicated function, suitable for most objects like vectors, data frames, etc.\n",
    "    In simple terms in R, S3 stands for \"Simple, Structured, and Sensible.\" \n",
    "    It's a basic system for object-oriented programming\n",
    "                OR\n",
    "    In R, S3 methods are a way to implement object-oriented programming.\n",
    "\n",
    "\n",
    "    x : The vector, array, or data frame to check for duplicates..\n",
    "\n",
    "    incomparables : A vector of values that should be considered as unique and not compared for duplication..\n",
    "                            OR\n",
    "                    A vector specifying values that should not be considered when determining duplicates.\n",
    "                    Default is FALSE..\n",
    "\n",
    "    fromLast : A logical value indicating whether to identify duplicates from the last occurrence. \n",
    "               Default is FALSE..\n",
    "\n",
    "    nmax : An integer specifying the maximum number of duplicates to return. \n",
    "           Default is NA, meaning all duplicates are returned..\n",
    "\n",
    "\""
   ]
  },
  {
   "cell_type": "code",
   "execution_count": 46,
   "id": "ed2093fb",
   "metadata": {},
   "outputs": [],
   "source": [
    "df_duplicated = all_data[duplicated(all_data$Order.ID) | duplicated(all_data$Order.ID, fromLast = TRUE), ]\n",
    "\n",
    "## df_duplicated = all_data %>% group_by(`Order ID`) %>% filter( n() > 1 ) ## takes 5-10 sec (OLD PC)"
   ]
  },
  {
   "cell_type": "code",
   "execution_count": null,
   "id": "ba94f8b3",
   "metadata": {},
   "outputs": [],
   "source": [
    "\"\n",
    "\n",
    "duplicated(all_data$Order.ID) : mark all rows as duplicates of `Order ID` except for the first occurrence.\n",
    "duplicated(all_data$Order.ID, fromLast = TRUE) : mark all rows as duplicates of `Order ID` except for the last occurrence..\n",
    "\n",
    "Note : | \"OR\" operator between both gives all the rows as duplicates , which is equivalent to keep=\"False\" in Python\n",
    "\n",
    "\n",
    "In other words , it returns all rows where the Order.ID is duplicated in the dataset..\n",
    "\n",
    "\""
   ]
  },
  {
   "cell_type": "code",
   "execution_count": null,
   "id": "898ba3c2",
   "metadata": {},
   "outputs": [],
   "source": []
  },
  {
   "cell_type": "code",
   "execution_count": 47,
   "id": "7560ee38",
   "metadata": {},
   "outputs": [
    {
     "data": {
      "text/html": [
       "<table class=\"dataframe\">\n",
       "<caption>A tibble: 4 × 9</caption>\n",
       "<thead>\n",
       "\t<tr><th scope=col>Order.ID</th><th scope=col>Product</th><th scope=col>Quantity.Ordered</th><th scope=col>Price.Each</th><th scope=col>Order.Date</th><th scope=col>Purchase.Address</th><th scope=col>Month</th><th scope=col>sales</th><th scope=col>city</th></tr>\n",
       "\t<tr><th scope=col>&lt;chr&gt;</th><th scope=col>&lt;chr&gt;</th><th scope=col>&lt;int&gt;</th><th scope=col>&lt;dbl&gt;</th><th scope=col>&lt;chr&gt;</th><th scope=col>&lt;chr&gt;</th><th scope=col>&lt;int&gt;</th><th scope=col>&lt;dbl&gt;</th><th scope=col>&lt;chr&gt;</th></tr>\n",
       "</thead>\n",
       "<tbody>\n",
       "\t<tr><td>176560</td><td>Google Phone        </td><td>1</td><td>600.00</td><td>04/12/19 14:38</td><td>669 Spruce St, Los Angeles, CA 90001</td><td>4</td><td>600.00</td><td> Los Angeles</td></tr>\n",
       "\t<tr><td>176560</td><td>Wired Headphones    </td><td>1</td><td> 11.99</td><td>04/12/19 14:38</td><td>669 Spruce St, Los Angeles, CA 90001</td><td>4</td><td> 11.99</td><td> Los Angeles</td></tr>\n",
       "\t<tr><td>176574</td><td>Google Phone        </td><td>1</td><td>600.00</td><td>04/03/19 19:42</td><td>20 Hill St, Los Angeles, CA 90001   </td><td>4</td><td>600.00</td><td> Los Angeles</td></tr>\n",
       "\t<tr><td>176574</td><td>USB-C Charging Cable</td><td>1</td><td> 11.95</td><td>04/03/19 19:42</td><td>20 Hill St, Los Angeles, CA 90001   </td><td>4</td><td> 11.95</td><td> Los Angeles</td></tr>\n",
       "</tbody>\n",
       "</table>\n"
      ],
      "text/latex": [
       "A tibble: 4 × 9\n",
       "\\begin{tabular}{lllllllll}\n",
       " Order.ID & Product & Quantity.Ordered & Price.Each & Order.Date & Purchase.Address & Month & sales & city\\\\\n",
       " <chr> & <chr> & <int> & <dbl> & <chr> & <chr> & <int> & <dbl> & <chr>\\\\\n",
       "\\hline\n",
       "\t 176560 & Google Phone         & 1 & 600.00 & 04/12/19 14:38 & 669 Spruce St, Los Angeles, CA 90001 & 4 & 600.00 &  Los Angeles\\\\\n",
       "\t 176560 & Wired Headphones     & 1 &  11.99 & 04/12/19 14:38 & 669 Spruce St, Los Angeles, CA 90001 & 4 &  11.99 &  Los Angeles\\\\\n",
       "\t 176574 & Google Phone         & 1 & 600.00 & 04/03/19 19:42 & 20 Hill St, Los Angeles, CA 90001    & 4 & 600.00 &  Los Angeles\\\\\n",
       "\t 176574 & USB-C Charging Cable & 1 &  11.95 & 04/03/19 19:42 & 20 Hill St, Los Angeles, CA 90001    & 4 &  11.95 &  Los Angeles\\\\\n",
       "\\end{tabular}\n"
      ],
      "text/markdown": [
       "\n",
       "A tibble: 4 × 9\n",
       "\n",
       "| Order.ID &lt;chr&gt; | Product &lt;chr&gt; | Quantity.Ordered &lt;int&gt; | Price.Each &lt;dbl&gt; | Order.Date &lt;chr&gt; | Purchase.Address &lt;chr&gt; | Month &lt;int&gt; | sales &lt;dbl&gt; | city &lt;chr&gt; |\n",
       "|---|---|---|---|---|---|---|---|---|\n",
       "| 176560 | Google Phone         | 1 | 600.00 | 04/12/19 14:38 | 669 Spruce St, Los Angeles, CA 90001 | 4 | 600.00 |  Los Angeles |\n",
       "| 176560 | Wired Headphones     | 1 |  11.99 | 04/12/19 14:38 | 669 Spruce St, Los Angeles, CA 90001 | 4 |  11.99 |  Los Angeles |\n",
       "| 176574 | Google Phone         | 1 | 600.00 | 04/03/19 19:42 | 20 Hill St, Los Angeles, CA 90001    | 4 | 600.00 |  Los Angeles |\n",
       "| 176574 | USB-C Charging Cable | 1 |  11.95 | 04/03/19 19:42 | 20 Hill St, Los Angeles, CA 90001    | 4 |  11.95 |  Los Angeles |\n",
       "\n"
      ],
      "text/plain": [
       "  Order.ID Product              Quantity.Ordered Price.Each Order.Date    \n",
       "1 176560   Google Phone         1                600.00     04/12/19 14:38\n",
       "2 176560   Wired Headphones     1                 11.99     04/12/19 14:38\n",
       "3 176574   Google Phone         1                600.00     04/03/19 19:42\n",
       "4 176574   USB-C Charging Cable 1                 11.95     04/03/19 19:42\n",
       "  Purchase.Address                     Month sales  city        \n",
       "1 669 Spruce St, Los Angeles, CA 90001 4     600.00  Los Angeles\n",
       "2 669 Spruce St, Los Angeles, CA 90001 4      11.99  Los Angeles\n",
       "3 20 Hill St, Los Angeles, CA 90001    4     600.00  Los Angeles\n",
       "4 20 Hill St, Los Angeles, CA 90001    4      11.95  Los Angeles"
      ]
     },
     "metadata": {},
     "output_type": "display_data"
    }
   ],
   "source": [
    "head(df_duplicated , 4)"
   ]
  },
  {
   "cell_type": "code",
   "execution_count": 94,
   "id": "cc6aa2f8",
   "metadata": {},
   "outputs": [
    {
     "data": {
      "text/html": [
       "<style>\n",
       ".list-inline {list-style: none; margin:0; padding: 0}\n",
       ".list-inline>li {display: inline-block}\n",
       ".list-inline>li:not(:last-child)::after {content: \"\\00b7\"; padding: 0 .5ex}\n",
       "</style>\n",
       "<ol class=list-inline><li>14128</li><li>9</li></ol>\n"
      ],
      "text/latex": [
       "\\begin{enumerate*}\n",
       "\\item 14128\n",
       "\\item 9\n",
       "\\end{enumerate*}\n"
      ],
      "text/markdown": [
       "1. 14128\n",
       "2. 9\n",
       "\n",
       "\n"
      ],
      "text/plain": [
       "[1] 14128     9"
      ]
     },
     "metadata": {},
     "output_type": "display_data"
    }
   ],
   "source": [
    "dim(df_duplicated)"
   ]
  },
  {
   "cell_type": "code",
   "execution_count": 95,
   "id": "a4c6d5e9",
   "metadata": {},
   "outputs": [
    {
     "data": {
      "text/html": [
       "6879"
      ],
      "text/latex": [
       "6879"
      ],
      "text/markdown": [
       "6879"
      ],
      "text/plain": [
       "[1] 6879"
      ]
     },
     "metadata": {},
     "output_type": "display_data"
    }
   ],
   "source": [
    "length(unique(df_duplicated$Order.ID))\n",
    "\n",
    "### 6879 orders are duplicated .."
   ]
  },
  {
   "cell_type": "code",
   "execution_count": null,
   "id": "fedf0954",
   "metadata": {},
   "outputs": [],
   "source": []
  },
  {
   "cell_type": "code",
   "execution_count": null,
   "id": "28aeb517",
   "metadata": {},
   "outputs": [],
   "source": []
  },
  {
   "cell_type": "code",
   "execution_count": null,
   "id": "bdf3f9a9",
   "metadata": {},
   "outputs": [],
   "source": [
    "## for every Order-Id , collect all the products in a single string that User has brought .."
   ]
  },
  {
   "cell_type": "code",
   "execution_count": null,
   "id": "478a0e80",
   "metadata": {},
   "outputs": [],
   "source": [
    "## we have used group_by() in 4th session , 6th session of this case-study !"
   ]
  },
  {
   "cell_type": "code",
   "execution_count": 5,
   "id": "cf670bbd",
   "metadata": {},
   "outputs": [],
   "source": [
    "help(mutate)\n",
    "\n",
    "## Create, modify, and delete columns"
   ]
  },
  {
   "cell_type": "code",
   "execution_count": null,
   "id": "053c0e4f",
   "metadata": {},
   "outputs": [],
   "source": [
    "\"\n",
    "## S3 method for class 'data.frame'\n",
    "mutate(\n",
    "  .data,\n",
    "  ...,\n",
    "  .by = NULL,\n",
    "  .keep = c(\"all\", \"used\", \"unused\", \"none\"),\n",
    "  .before = NULL,\n",
    "  .after = NULL\n",
    ")\n",
    "\n",
    "\n",
    "\n",
    "\n",
    "\n",
    "\n",
    ".data : This parameter represents the data frame you want to modify.\n",
    "\n",
    "... : These are the expressions used to create or modify variables. You can specify multiple expressions separated by commas.\n",
    "\n",
    ".by : This parameter allows you to specify grouping variables. \n",
    "        If provided, the mutations will be performed within each group defined by the unique combinations of .by variables.\n",
    "\n",
    ".keep : This parameter determines which variables are retained in the output data frame.. \n",
    "        It has four options:\n",
    "\n",
    "        \"all\" : Keep all variables.\n",
    "        \"used\" : Keep only the variables that were used in the mutation expressions.\n",
    "        \"unused\" : Keep only the variables that were not used in the mutation expressions.\n",
    "        \"none\" : Do not keep any variables other than those specified in the mutation expressions.\n",
    "        .before and .after : These parameters allow you to specify where the new variables should be placed in the output data\n",
    "                             frame. You can provide variable names or positions before or after which the new variables \n",
    "                             should be inserted.\n",
    "\n",
    "\n",
    "\n",
    "\""
   ]
  },
  {
   "cell_type": "code",
   "execution_count": 3,
   "id": "17ae51c8",
   "metadata": {},
   "outputs": [
    {
     "data": {
      "text/html": [
       "<pre class=language-r><code>function (.data, ...) \n",
       "NULL</code></pre>"
      ],
      "text/latex": [
       "\\begin{minted}{r}\n",
       "function (.data, ...) \n",
       "NULL\n",
       "\\end{minted}"
      ],
      "text/markdown": [
       "```r\n",
       "function (.data, ...) \n",
       "NULL\n",
       "```"
      ],
      "text/plain": [
       "function (.data, ...) \n",
       "NULL"
      ]
     },
     "metadata": {},
     "output_type": "display_data"
    }
   ],
   "source": [
    "args(mutate)"
   ]
  },
  {
   "cell_type": "code",
   "execution_count": null,
   "id": "b1e86860",
   "metadata": {},
   "outputs": [],
   "source": []
  },
  {
   "cell_type": "code",
   "execution_count": 7,
   "id": "03d1ec1e",
   "metadata": {},
   "outputs": [],
   "source": [
    "help(paste)\n",
    "\n",
    "## Concatenate Strings"
   ]
  },
  {
   "cell_type": "code",
   "execution_count": 6,
   "id": "91a6152e",
   "metadata": {},
   "outputs": [
    {
     "data": {
      "text/html": [
       "<pre class=language-r><code>function (..., sep = \" \", collapse = NULL, recycle0 = FALSE) \n",
       "NULL</code></pre>"
      ],
      "text/latex": [
       "\\begin{minted}{r}\n",
       "function (..., sep = \" \", collapse = NULL, recycle0 = FALSE) \n",
       "NULL\n",
       "\\end{minted}"
      ],
      "text/markdown": [
       "```r\n",
       "function (..., sep = \" \", collapse = NULL, recycle0 = FALSE) \n",
       "NULL\n",
       "```"
      ],
      "text/plain": [
       "function (..., sep = \" \", collapse = NULL, recycle0 = FALSE) \n",
       "NULL"
      ]
     },
     "metadata": {},
     "output_type": "display_data"
    }
   ],
   "source": [
    "args(paste)"
   ]
  },
  {
   "cell_type": "code",
   "execution_count": null,
   "id": "08d9da50",
   "metadata": {},
   "outputs": [],
   "source": [
    "\"\n",
    "paste (..., sep = \" \", collapse = NULL, recycle0 = FALSE)\n",
    "\n",
    "\n",
    "\n",
    "... : These are the objects to be concatenated together. \n",
    "        You can provide multiple objects separated by commas (x, y, z, etc.).\n",
    "\n",
    "sep : This is the separator to use between the objects. \n",
    "        By default, it is set to a single space \" \"\n",
    "\n",
    "\n",
    "collapse : This parameter specifies the separator to use between the concatenated elements of each input object. \n",
    "           If specified, it collapses the result into a single string. \n",
    "            By default, it is set to NULL, meaning no collapsing occurs.\n",
    "\n",
    "\""
   ]
  },
  {
   "cell_type": "code",
   "execution_count": 17,
   "id": "8151e09a",
   "metadata": {},
   "outputs": [],
   "source": [
    "vec1 = c(\"apple\", \"banana\", \"cherry\")"
   ]
  },
  {
   "cell_type": "code",
   "execution_count": 18,
   "id": "9078ce51",
   "metadata": {},
   "outputs": [
    {
     "data": {
      "text/html": [
       "<style>\n",
       ".list-inline {list-style: none; margin:0; padding: 0}\n",
       ".list-inline>li {display: inline-block}\n",
       ".list-inline>li:not(:last-child)::after {content: \"\\00b7\"; padding: 0 .5ex}\n",
       "</style>\n",
       "<ol class=list-inline><li>'apple'</li><li>'banana'</li><li>'cherry'</li></ol>\n"
      ],
      "text/latex": [
       "\\begin{enumerate*}\n",
       "\\item 'apple'\n",
       "\\item 'banana'\n",
       "\\item 'cherry'\n",
       "\\end{enumerate*}\n"
      ],
      "text/markdown": [
       "1. 'apple'\n",
       "2. 'banana'\n",
       "3. 'cherry'\n",
       "\n",
       "\n"
      ],
      "text/plain": [
       "[1] \"apple\"  \"banana\" \"cherry\""
      ]
     },
     "metadata": {},
     "output_type": "display_data"
    }
   ],
   "source": [
    "paste(vec1 , sep = \" \")\n",
    "\n",
    "### concatenates the elements of vec1 together with spaces between them, resulting in a vector."
   ]
  },
  {
   "cell_type": "code",
   "execution_count": 19,
   "id": "702f6bf0",
   "metadata": {},
   "outputs": [
    {
     "data": {
      "text/html": [
       "'apple banana cherry'"
      ],
      "text/latex": [
       "'apple banana cherry'"
      ],
      "text/markdown": [
       "'apple banana cherry'"
      ],
      "text/plain": [
       "[1] \"apple banana cherry\""
      ]
     },
     "metadata": {},
     "output_type": "display_data"
    }
   ],
   "source": [
    "paste(vec1 , sep = \" \" , collapse = \" \")\n",
    "\n",
    "### It also does the same concatenation but collapses the elements into a single string with spaces between each element..\n",
    "\n",
    "### similar output I want to achieve in this data ! (ie I want all products )"
   ]
  },
  {
   "cell_type": "code",
   "execution_count": null,
   "id": "fd8fee8a",
   "metadata": {},
   "outputs": [],
   "source": []
  },
  {
   "cell_type": "code",
   "execution_count": null,
   "id": "b0d61dc4",
   "metadata": {},
   "outputs": [],
   "source": []
  },
  {
   "cell_type": "code",
   "execution_count": null,
   "id": "1b1198ca",
   "metadata": {},
   "outputs": [],
   "source": [
    "# Grouping by Order.ID\n",
    "grouped_df = group_by(df_duplicated, Order.ID)\n",
    "\n",
    "# create the Grouped_products column\n",
    "dup_products_df = mutate(grouped_df, Grouped_products = paste(Product, collapse = \",\"))\n"
   ]
  },
  {
   "cell_type": "code",
   "execution_count": null,
   "id": "c62858a6",
   "metadata": {},
   "outputs": [],
   "source": [
    "### lets write similar code using dplyr chaining , as chaining makes code more readable !\n",
    "### before executing below code , make sure u have installed & imported dplyr as pipe operator is defined in dplyr package"
   ]
  },
  {
   "cell_type": "code",
   "execution_count": 96,
   "id": "093c00c1",
   "metadata": {},
   "outputs": [],
   "source": [
    "dup_products_df = df_duplicated %>% group_by(Order.ID) %>% mutate(Grouped_products = paste(Product, collapse = \",\"))\n",
    "\n",
    "### group data considering \"Order ID\" & then each join(paste) each of the product for various Order Id having sep as space \" \"\n",
    "## & then we will collapse (convert) vector into string by collapsing by using collapse = \" , \" \n"
   ]
  },
  {
   "cell_type": "code",
   "execution_count": 97,
   "id": "6c661b40",
   "metadata": {},
   "outputs": [
    {
     "data": {
      "text/html": [
       "<table class=\"dataframe\">\n",
       "<caption>A grouped_df: 2 × 10</caption>\n",
       "<thead>\n",
       "\t<tr><th scope=col>Order.ID</th><th scope=col>Product</th><th scope=col>Quantity.Ordered</th><th scope=col>Price.Each</th><th scope=col>Order.Date</th><th scope=col>Purchase.Address</th><th scope=col>Month</th><th scope=col>sales</th><th scope=col>city</th><th scope=col>Grouped_products</th></tr>\n",
       "\t<tr><th scope=col>&lt;chr&gt;</th><th scope=col>&lt;chr&gt;</th><th scope=col>&lt;int&gt;</th><th scope=col>&lt;dbl&gt;</th><th scope=col>&lt;chr&gt;</th><th scope=col>&lt;chr&gt;</th><th scope=col>&lt;int&gt;</th><th scope=col>&lt;dbl&gt;</th><th scope=col>&lt;chr&gt;</th><th scope=col>&lt;chr&gt;</th></tr>\n",
       "</thead>\n",
       "<tbody>\n",
       "\t<tr><td>176560</td><td>Google Phone    </td><td>1</td><td>600.00</td><td>04/12/19 14:38</td><td>669 Spruce St, Los Angeles, CA 90001</td><td>4</td><td>600.00</td><td> Los Angeles</td><td>Google Phone,Wired Headphones</td></tr>\n",
       "\t<tr><td>176560</td><td>Wired Headphones</td><td>1</td><td> 11.99</td><td>04/12/19 14:38</td><td>669 Spruce St, Los Angeles, CA 90001</td><td>4</td><td> 11.99</td><td> Los Angeles</td><td>Google Phone,Wired Headphones</td></tr>\n",
       "</tbody>\n",
       "</table>\n"
      ],
      "text/latex": [
       "A grouped\\_df: 2 × 10\n",
       "\\begin{tabular}{llllllllll}\n",
       " Order.ID & Product & Quantity.Ordered & Price.Each & Order.Date & Purchase.Address & Month & sales & city & Grouped\\_products\\\\\n",
       " <chr> & <chr> & <int> & <dbl> & <chr> & <chr> & <int> & <dbl> & <chr> & <chr>\\\\\n",
       "\\hline\n",
       "\t 176560 & Google Phone     & 1 & 600.00 & 04/12/19 14:38 & 669 Spruce St, Los Angeles, CA 90001 & 4 & 600.00 &  Los Angeles & Google Phone,Wired Headphones\\\\\n",
       "\t 176560 & Wired Headphones & 1 &  11.99 & 04/12/19 14:38 & 669 Spruce St, Los Angeles, CA 90001 & 4 &  11.99 &  Los Angeles & Google Phone,Wired Headphones\\\\\n",
       "\\end{tabular}\n"
      ],
      "text/markdown": [
       "\n",
       "A grouped_df: 2 × 10\n",
       "\n",
       "| Order.ID &lt;chr&gt; | Product &lt;chr&gt; | Quantity.Ordered &lt;int&gt; | Price.Each &lt;dbl&gt; | Order.Date &lt;chr&gt; | Purchase.Address &lt;chr&gt; | Month &lt;int&gt; | sales &lt;dbl&gt; | city &lt;chr&gt; | Grouped_products &lt;chr&gt; |\n",
       "|---|---|---|---|---|---|---|---|---|---|\n",
       "| 176560 | Google Phone     | 1 | 600.00 | 04/12/19 14:38 | 669 Spruce St, Los Angeles, CA 90001 | 4 | 600.00 |  Los Angeles | Google Phone,Wired Headphones |\n",
       "| 176560 | Wired Headphones | 1 |  11.99 | 04/12/19 14:38 | 669 Spruce St, Los Angeles, CA 90001 | 4 |  11.99 |  Los Angeles | Google Phone,Wired Headphones |\n",
       "\n"
      ],
      "text/plain": [
       "  Order.ID Product          Quantity.Ordered Price.Each Order.Date    \n",
       "1 176560   Google Phone     1                600.00     04/12/19 14:38\n",
       "2 176560   Wired Headphones 1                 11.99     04/12/19 14:38\n",
       "  Purchase.Address                     Month sales  city        \n",
       "1 669 Spruce St, Los Angeles, CA 90001 4     600.00  Los Angeles\n",
       "2 669 Spruce St, Los Angeles, CA 90001 4      11.99  Los Angeles\n",
       "  Grouped_products             \n",
       "1 Google Phone,Wired Headphones\n",
       "2 Google Phone,Wired Headphones"
      ]
     },
     "metadata": {},
     "output_type": "display_data"
    }
   ],
   "source": [
    "head(dup_products_df , 2)"
   ]
  },
  {
   "cell_type": "code",
   "execution_count": null,
   "id": "c9994dea",
   "metadata": {},
   "outputs": [],
   "source": []
  },
  {
   "cell_type": "code",
   "execution_count": 98,
   "id": "d233d3d8",
   "metadata": {},
   "outputs": [
    {
     "data": {
      "text/html": [
       "<style>\n",
       ".list-inline {list-style: none; margin:0; padding: 0}\n",
       ".list-inline>li {display: inline-block}\n",
       ".list-inline>li:not(:last-child)::after {content: \"\\00b7\"; padding: 0 .5ex}\n",
       "</style>\n",
       "<ol class=list-inline><li>14128</li><li>10</li></ol>\n"
      ],
      "text/latex": [
       "\\begin{enumerate*}\n",
       "\\item 14128\n",
       "\\item 10\n",
       "\\end{enumerate*}\n"
      ],
      "text/markdown": [
       "1. 14128\n",
       "2. 10\n",
       "\n",
       "\n"
      ],
      "text/plain": [
       "[1] 14128    10"
      ]
     },
     "metadata": {},
     "output_type": "display_data"
    }
   ],
   "source": [
    "dim(dup_products_df) \n",
    "\n",
    "## Since we have collected all products that a particular Order id has brought,so lets drop these order id as they are duplicate"
   ]
  },
  {
   "cell_type": "code",
   "execution_count": null,
   "id": "d0a01b46",
   "metadata": {},
   "outputs": [],
   "source": []
  },
  {
   "cell_type": "code",
   "execution_count": null,
   "id": "fc437cd6",
   "metadata": {},
   "outputs": [],
   "source": []
  },
  {
   "cell_type": "code",
   "execution_count": 20,
   "id": "2a856997",
   "metadata": {},
   "outputs": [
    {
     "data": {
      "text/html": [
       "<pre class=language-r><code>function (x, incomparables = FALSE, ...) \n",
       "NULL</code></pre>"
      ],
      "text/latex": [
       "\\begin{minted}{r}\n",
       "function (x, incomparables = FALSE, ...) \n",
       "NULL\n",
       "\\end{minted}"
      ],
      "text/markdown": [
       "```r\n",
       "function (x, incomparables = FALSE, ...) \n",
       "NULL\n",
       "```"
      ],
      "text/plain": [
       "function (x, incomparables = FALSE, ...) \n",
       "NULL"
      ]
     },
     "metadata": {},
     "output_type": "display_data"
    }
   ],
   "source": [
    "args(duplicated)"
   ]
  },
  {
   "cell_type": "code",
   "execution_count": 21,
   "id": "8406e3bb",
   "metadata": {},
   "outputs": [],
   "source": [
    "help(duplicated)"
   ]
  },
  {
   "cell_type": "code",
   "execution_count": null,
   "id": "37281346",
   "metadata": {},
   "outputs": [],
   "source": [
    "\"\n",
    "\n",
    "duplicated(x, incomparables = FALSE, ...)\n",
    "\n",
    "## Default S3 method:\n",
    "duplicated(x, incomparables = FALSE,\n",
    "           fromLast = FALSE, nmax = NA, ...)\n",
    "\n",
    "## S3 method for class 'array'\n",
    "duplicated(x, incomparables = FALSE, MARGIN = 1,\n",
    "           fromLast = FALSE, ...)\n",
    "\n",
    "\n",
    "\n",
    "\n",
    "\n",
    "\n",
    "1.. duplicated(x, incomparables = FALSE, ...)\n",
    "    duplicated() in R is used to identify duplicate elements in a vector, data frame or array\n",
    "\n",
    "    x : The vector, array, or data frame to check for duplicates..\n",
    "\n",
    "    incomparables : A vector of values that should be considered as unique and not compared for duplication..\n",
    "                            OR\n",
    "                    A vector of values that should not be considered when determining duplicates.\n",
    "                    Default is FALSE..\n",
    "\n",
    "\n",
    "\n",
    "\n",
    "2.. Default S3 method:\n",
    "    duplicated(x, incomparables = FALSE,\n",
    "           fromLast = FALSE, nmax = NA, ...)\n",
    "\n",
    "    This is the default method of the duplicated function, suitable for most objects like vectors, data frames, etc.\n",
    "    In simple terms in R, S3 stands for \"Simple, Structured, and Sensible.\" \n",
    "    It's a basic system for object-oriented programming\n",
    "                OR\n",
    "    In R, S3 methods are a way to implement object-oriented programming.\n",
    "\n",
    "\n",
    "    x : The vector, array, or data frame to check for duplicates..\n",
    "\n",
    "    incomparables : A vector of values that should be considered as unique and not compared for duplication..\n",
    "                            OR\n",
    "                    A vector specifying values that should not be considered when determining duplicates.\n",
    "                    Default is FALSE..\n",
    "\n",
    "    fromLast : A logical value indicating whether to identify duplicates from the last occurrence. \n",
    "               Default is FALSE..\n",
    "\n",
    "    nmax : An integer specifying the maximum number of duplicates to return. \n",
    "           Default is NA, meaning all duplicates are returned..\n",
    "\n",
    "\n",
    "\n",
    "\n",
    "3.. S3 method for class 'array':\n",
    "    duplicated(x, incomparables = FALSE, MARGIN = 1,\n",
    "           fromLast = FALSE, ...)\n",
    "\n",
    "    This method is specifically for arrays.\n",
    "    It identifies duplicates along a specific margin (dimension) of the array.\n",
    "\n",
    "\n",
    "    MARGIN: An integer indicating which margin to check for duplicates. \n",
    "            Default is 1 (rows).\n",
    "            columns (if MARGIN = 2)\n",
    "\n",
    "\n",
    "\""
   ]
  },
  {
   "cell_type": "code",
   "execution_count": null,
   "id": "bd23d0ce",
   "metadata": {},
   "outputs": [],
   "source": [
    "### since u are working dataframes , hence u can use 1st & 2nd one , as 3rd one is for \"array\".."
   ]
  },
  {
   "cell_type": "code",
   "execution_count": null,
   "id": "72fa7710",
   "metadata": {},
   "outputs": [],
   "source": [
    "### duplicated(dup_products_df$Order.ID) : return logical vector or array as \"TRUE\" or \"FALSE\"\n",
    "\n",
    "## \"TRUE\" means : We have duplicated instance at that row-index \n",
    "## \"FALSE\" means : We do not have duplicated instance at that row-index "
   ]
  },
  {
   "cell_type": "code",
   "execution_count": 99,
   "id": "5ace30e8",
   "metadata": {},
   "outputs": [
    {
     "data": {
      "text/html": [
       "<style>\n",
       ".list-inline {list-style: none; margin:0; padding: 0}\n",
       ".list-inline>li {display: inline-block}\n",
       ".list-inline>li:not(:last-child)::after {content: \"\\00b7\"; padding: 0 .5ex}\n",
       "</style>\n",
       "<ol class=list-inline><li>7249</li><li>10</li></ol>\n"
      ],
      "text/latex": [
       "\\begin{enumerate*}\n",
       "\\item 7249\n",
       "\\item 10\n",
       "\\end{enumerate*}\n"
      ],
      "text/markdown": [
       "1. 7249\n",
       "2. 10\n",
       "\n",
       "\n"
      ],
      "text/plain": [
       "[1] 7249   10"
      ]
     },
     "metadata": {},
     "output_type": "display_data"
    }
   ],
   "source": [
    "dim(dup_products_df[duplicated(dup_products_df$Order.ID) , ])   ## data[rows , cols]\n",
    "\n",
    "## ie 7249 Order ids are duplicated "
   ]
  },
  {
   "cell_type": "code",
   "execution_count": 100,
   "id": "9fd3e33e",
   "metadata": {},
   "outputs": [],
   "source": [
    "no_dup_df = dup_products_df[!duplicated(dup_products_df$Order.ID) ,]   ## data[rows , cols]\n",
    "\n",
    "## if u want to ignore/delete these duplicate rows , u can use negation of above filter !"
   ]
  },
  {
   "cell_type": "code",
   "execution_count": 101,
   "id": "65e6bef4",
   "metadata": {},
   "outputs": [],
   "source": [
    "# Calculate the frequency of unique values in the 'grouped_products' column\n",
    "product_counts = table(no_dup_df$Grouped_products)"
   ]
  },
  {
   "cell_type": "code",
   "execution_count": null,
   "id": "a8e242b6",
   "metadata": {},
   "outputs": [],
   "source": []
  },
  {
   "cell_type": "code",
   "execution_count": null,
   "id": "878434fe",
   "metadata": {},
   "outputs": [],
   "source": []
  },
  {
   "cell_type": "code",
   "execution_count": 41,
   "id": "72890b4d",
   "metadata": {},
   "outputs": [],
   "source": [
    "help(sort)\n",
    "\n",
    "## Sorting or Ordering Vectors"
   ]
  },
  {
   "cell_type": "code",
   "execution_count": null,
   "id": "3af96fd9",
   "metadata": {},
   "outputs": [],
   "source": [
    "\"\n",
    "\n",
    "sort(x , decreasing = FALSE , ...)\n",
    "\n",
    "x : an R object that u want to sort \n",
    "\n",
    "\""
   ]
  },
  {
   "cell_type": "code",
   "execution_count": 42,
   "id": "39edb2a4",
   "metadata": {},
   "outputs": [
    {
     "data": {
      "text/html": [
       "<pre class=language-r><code>function (x, decreasing = FALSE, ...) \n",
       "NULL</code></pre>"
      ],
      "text/latex": [
       "\\begin{minted}{r}\n",
       "function (x, decreasing = FALSE, ...) \n",
       "NULL\n",
       "\\end{minted}"
      ],
      "text/markdown": [
       "```r\n",
       "function (x, decreasing = FALSE, ...) \n",
       "NULL\n",
       "```"
      ],
      "text/plain": [
       "function (x, decreasing = FALSE, ...) \n",
       "NULL"
      ]
     },
     "metadata": {},
     "output_type": "display_data"
    }
   ],
   "source": [
    "args(sort)"
   ]
  },
  {
   "cell_type": "code",
   "execution_count": 102,
   "id": "f79b3b78",
   "metadata": {},
   "outputs": [],
   "source": [
    "top_5_products_count = head(sort(product_counts, decreasing = TRUE) , 5)"
   ]
  },
  {
   "cell_type": "code",
   "execution_count": 103,
   "id": "4a63d9f4",
   "metadata": {},
   "outputs": [
    {
     "data": {
      "text/plain": [
       "\n",
       "     iPhone,Lightning Charging Cable    Google Phone,USB-C Charging Cable \n",
       "                                 886                                  857 \n",
       "             iPhone,Wired Headphones Vareebadd Phone,USB-C Charging Cable \n",
       "                                 361                                  312 \n",
       "       Google Phone,Wired Headphones \n",
       "                                 303 "
      ]
     },
     "metadata": {},
     "output_type": "display_data"
    }
   ],
   "source": [
    "top_5_products_count"
   ]
  },
  {
   "cell_type": "code",
   "execution_count": 104,
   "id": "e8d52108",
   "metadata": {},
   "outputs": [
    {
     "data": {
      "text/html": [
       "'table'"
      ],
      "text/latex": [
       "'table'"
      ],
      "text/markdown": [
       "'table'"
      ],
      "text/plain": [
       "[1] \"table\""
      ]
     },
     "metadata": {},
     "output_type": "display_data"
    }
   ],
   "source": [
    "class(top_5_products_count) ## ie its a table data structure "
   ]
  },
  {
   "cell_type": "code",
   "execution_count": null,
   "id": "f9f847b5",
   "metadata": {},
   "outputs": [],
   "source": []
  },
  {
   "cell_type": "code",
   "execution_count": null,
   "id": "c6898961",
   "metadata": {},
   "outputs": [],
   "source": []
  },
  {
   "cell_type": "code",
   "execution_count": null,
   "id": "3c24ecbf",
   "metadata": {},
   "outputs": [],
   "source": [
    "help(pie)"
   ]
  },
  {
   "cell_type": "code",
   "execution_count": null,
   "id": "8f9d35bd",
   "metadata": {},
   "outputs": [],
   "source": [
    "\"\n",
    "\n",
    "pie(x, labels = names(x), edges = 200, radius = 0.8,\n",
    "    clockwise = FALSE, init.angle = if(clockwise) 90 else 0,\n",
    "    density = NULL, angle = 45, col = NULL, border = NULL,\n",
    "    lty = NULL, main = NULL, ...)\n",
    "\n",
    "\""
   ]
  },
  {
   "cell_type": "code",
   "execution_count": null,
   "id": "72d29003",
   "metadata": {},
   "outputs": [],
   "source": [
    "## Now we need values & labels to plot a pie chart , \n",
    "## as we have used as.data.frame() approach to extract values & labels in 3rd tutorial\n",
    "## Lets use names() & as.vector() to extract values & labels\n"
   ]
  },
  {
   "cell_type": "code",
   "execution_count": 105,
   "id": "6c771f09",
   "metadata": {},
   "outputs": [
    {
     "data": {
      "text/html": [
       "<pre class=language-r><code>function (x, labels = names(x), edges = 200, radius = 0.8, clockwise = FALSE, \n",
       "<span style=white-space:pre-wrap>    init.angle = if (clockwise) 90 else 0, density = NULL, angle = 45, </span>\n",
       "<span style=white-space:pre-wrap>    col = NULL, border = NULL, lty = NULL, main = NULL, ...) </span>\n",
       "NULL</code></pre>"
      ],
      "text/latex": [
       "\\begin{minted}{r}\n",
       "function (x, labels = names(x), edges = 200, radius = 0.8, clockwise = FALSE, \n",
       "    init.angle = if (clockwise) 90 else 0, density = NULL, angle = 45, \n",
       "    col = NULL, border = NULL, lty = NULL, main = NULL, ...) \n",
       "NULL\n",
       "\\end{minted}"
      ],
      "text/markdown": [
       "```r\n",
       "function (x, labels = names(x), edges = 200, radius = 0.8, clockwise = FALSE, \n",
       "    init.angle = if (clockwise) 90 else 0, density = NULL, angle = 45, \n",
       "    col = NULL, border = NULL, lty = NULL, main = NULL, ...) \n",
       "NULL\n",
       "```"
      ],
      "text/plain": [
       "function (x, labels = names(x), edges = 200, radius = 0.8, clockwise = FALSE, \n",
       "    init.angle = if (clockwise) 90 else 0, density = NULL, angle = 45, \n",
       "    col = NULL, border = NULL, lty = NULL, main = NULL, ...) \n",
       "NULL"
      ]
     },
     "metadata": {},
     "output_type": "display_data"
    }
   ],
   "source": [
    "args(pie)\n",
    "\n",
    "### pie(x , labels)\n",
    "\n",
    "## x = values of pie\n",
    "## labels = labels for pie "
   ]
  },
  {
   "cell_type": "code",
   "execution_count": 106,
   "id": "e2c704d7",
   "metadata": {},
   "outputs": [
    {
     "data": {
      "text/html": [
       "<style>\n",
       ".list-inline {list-style: none; margin:0; padding: 0}\n",
       ".list-inline>li {display: inline-block}\n",
       ".list-inline>li:not(:last-child)::after {content: \"\\00b7\"; padding: 0 .5ex}\n",
       "</style>\n",
       "<ol class=list-inline><li>'iPhone,Lightning Charging Cable'</li><li>'Google Phone,USB-C Charging Cable'</li><li>'iPhone,Wired Headphones'</li><li>'Vareebadd Phone,USB-C Charging Cable'</li><li>'Google Phone,Wired Headphones'</li></ol>\n"
      ],
      "text/latex": [
       "\\begin{enumerate*}\n",
       "\\item 'iPhone,Lightning Charging Cable'\n",
       "\\item 'Google Phone,USB-C Charging Cable'\n",
       "\\item 'iPhone,Wired Headphones'\n",
       "\\item 'Vareebadd Phone,USB-C Charging Cable'\n",
       "\\item 'Google Phone,Wired Headphones'\n",
       "\\end{enumerate*}\n"
      ],
      "text/markdown": [
       "1. 'iPhone,Lightning Charging Cable'\n",
       "2. 'Google Phone,USB-C Charging Cable'\n",
       "3. 'iPhone,Wired Headphones'\n",
       "4. 'Vareebadd Phone,USB-C Charging Cable'\n",
       "5. 'Google Phone,Wired Headphones'\n",
       "\n",
       "\n"
      ],
      "text/plain": [
       "[1] \"iPhone,Lightning Charging Cable\"     \n",
       "[2] \"Google Phone,USB-C Charging Cable\"   \n",
       "[3] \"iPhone,Wired Headphones\"             \n",
       "[4] \"Vareebadd Phone,USB-C Charging Cable\"\n",
       "[5] \"Google Phone,Wired Headphones\"       "
      ]
     },
     "metadata": {},
     "output_type": "display_data"
    }
   ],
   "source": [
    "names(top_5_products_count)"
   ]
  },
  {
   "cell_type": "code",
   "execution_count": 107,
   "id": "b90edeff",
   "metadata": {},
   "outputs": [],
   "source": [
    "values = as.vector(top_5_products_count)\n",
    "\n",
    "## as.vector() => used to convert a data-structure \"table\" into a vector.\n",
    "## The table() returns a contingency table, and as.vector() can be used to convert it to a simple vector."
   ]
  },
  {
   "cell_type": "code",
   "execution_count": 108,
   "id": "9d95c48c",
   "metadata": {},
   "outputs": [
    {
     "data": {
      "text/html": [
       "<style>\n",
       ".list-inline {list-style: none; margin:0; padding: 0}\n",
       ".list-inline>li {display: inline-block}\n",
       ".list-inline>li:not(:last-child)::after {content: \"\\00b7\"; padding: 0 .5ex}\n",
       "</style>\n",
       "<ol class=list-inline><li>886</li><li>857</li><li>361</li><li>312</li><li>303</li></ol>\n"
      ],
      "text/latex": [
       "\\begin{enumerate*}\n",
       "\\item 886\n",
       "\\item 857\n",
       "\\item 361\n",
       "\\item 312\n",
       "\\item 303\n",
       "\\end{enumerate*}\n"
      ],
      "text/markdown": [
       "1. 886\n",
       "2. 857\n",
       "3. 361\n",
       "4. 312\n",
       "5. 303\n",
       "\n",
       "\n"
      ],
      "text/plain": [
       "[1] 886 857 361 312 303"
      ]
     },
     "metadata": {},
     "output_type": "display_data"
    }
   ],
   "source": [
    "values"
   ]
  },
  {
   "cell_type": "code",
   "execution_count": null,
   "id": "2310ed14",
   "metadata": {},
   "outputs": [],
   "source": []
  },
  {
   "cell_type": "code",
   "execution_count": null,
   "id": "3cd3900a",
   "metadata": {},
   "outputs": [],
   "source": [
    "## since we have used plotly pie chart in 3rd tutorial , let me show u how u can do it using base-R !"
   ]
  },
  {
   "cell_type": "code",
   "execution_count": 109,
   "id": "0752fc5f",
   "metadata": {},
   "outputs": [
    {
     "data": {
      "image/png": "[encoded data removed]",
      "text/plain": [
       "plot without title"
      ]
     },
     "metadata": {
      "image/png": {
       "height": 420,
       "width": 420
      }
     },
     "output_type": "display_data"
    }
   ],
   "source": [
    "# Create a pie chart for the top 5 products\n",
    "pie(values, labels = names(top_5_products_count))\n",
    "\n",
    "## pie(top_5_products_count, labels = names(top_5_products_count))"
   ]
  },
  {
   "cell_type": "code",
   "execution_count": null,
   "id": "bf36f9cc",
   "metadata": {},
   "outputs": [],
   "source": []
  },
  {
   "cell_type": "code",
   "execution_count": null,
   "id": "a077989b",
   "metadata": {},
   "outputs": [],
   "source": [
    "'''\n",
    "\n",
    "ie as soon as any Person will bought Iphone , we can recommend him charging cable , wired headphones \n",
    "ie as soon as any Person will bought Google phone , we can recommend him USB-c charging cable\n",
    "\n",
    "\n",
    "This is a very important insight if someone is building recommendation system ..\n",
    "\n",
    "'''"
   ]
  },
  {
   "cell_type": "code",
   "execution_count": null,
   "id": "09d57e5c",
   "metadata": {},
   "outputs": [],
   "source": []
  },
  {
   "cell_type": "code",
   "execution_count": null,
   "id": "8ee3d844",
   "metadata": {},
   "outputs": [],
   "source": []
  },
  {
   "cell_type": "code",
   "execution_count": null,
   "id": "f887c68a",
   "metadata": {},
   "outputs": [],
   "source": []
  },
  {
   "cell_type": "code",
   "execution_count": null,
   "id": "68d00f85",
   "metadata": {},
   "outputs": [],
   "source": []
  },
  {
   "cell_type": "code",
   "execution_count": null,
   "id": "10831bbe",
   "metadata": {},
   "outputs": [],
   "source": []
  },
  {
   "cell_type": "code",
   "execution_count": null,
   "id": "a728197c",
   "metadata": {},
   "outputs": [],
   "source": []
  },
  {
   "cell_type": "code",
   "execution_count": null,
   "id": "0c61477e",
   "metadata": {},
   "outputs": [],
   "source": []
  },
  {
   "cell_type": "markdown",
   "id": "2eef0a8f",
   "metadata": {},
   "source": [
    "# 7.. Performing Pairwise Analysis \n",
    "       In which pairs of (month, day) most of the product will get sold .."
   ]
  },
  {
   "cell_type": "code",
   "execution_count": null,
   "id": "4a50bf91",
   "metadata": {},
   "outputs": [],
   "source": []
  },
  {
   "cell_type": "code",
   "execution_count": 110,
   "id": "a7a6a507",
   "metadata": {},
   "outputs": [
    {
     "data": {
      "text/html": [
       "<table class=\"dataframe\">\n",
       "<caption>A tibble: 3 × 9</caption>\n",
       "<thead>\n",
       "\t<tr><th scope=col>Order.ID</th><th scope=col>Product</th><th scope=col>Quantity.Ordered</th><th scope=col>Price.Each</th><th scope=col>Order.Date</th><th scope=col>Purchase.Address</th><th scope=col>Month</th><th scope=col>sales</th><th scope=col>city</th></tr>\n",
       "\t<tr><th scope=col>&lt;chr&gt;</th><th scope=col>&lt;chr&gt;</th><th scope=col>&lt;int&gt;</th><th scope=col>&lt;dbl&gt;</th><th scope=col>&lt;chr&gt;</th><th scope=col>&lt;chr&gt;</th><th scope=col>&lt;int&gt;</th><th scope=col>&lt;dbl&gt;</th><th scope=col>&lt;chr&gt;</th></tr>\n",
       "</thead>\n",
       "<tbody>\n",
       "\t<tr><td>176558</td><td>USB-C Charging Cable      </td><td>2</td><td> 11.95</td><td>04/19/19 08:46</td><td>917 1st St, Dallas, TX 75001        </td><td>4</td><td> 23.90</td><td> Dallas     </td></tr>\n",
       "\t<tr><td>176559</td><td>Bose SoundSport Headphones</td><td>1</td><td> 99.99</td><td>04/07/19 22:30</td><td>682 Chestnut St, Boston, MA 02215   </td><td>4</td><td> 99.99</td><td> Boston     </td></tr>\n",
       "\t<tr><td>176560</td><td>Google Phone              </td><td>1</td><td>600.00</td><td>04/12/19 14:38</td><td>669 Spruce St, Los Angeles, CA 90001</td><td>4</td><td>600.00</td><td> Los Angeles</td></tr>\n",
       "</tbody>\n",
       "</table>\n"
      ],
      "text/latex": [
       "A tibble: 3 × 9\n",
       "\\begin{tabular}{lllllllll}\n",
       " Order.ID & Product & Quantity.Ordered & Price.Each & Order.Date & Purchase.Address & Month & sales & city\\\\\n",
       " <chr> & <chr> & <int> & <dbl> & <chr> & <chr> & <int> & <dbl> & <chr>\\\\\n",
       "\\hline\n",
       "\t 176558 & USB-C Charging Cable       & 2 &  11.95 & 04/19/19 08:46 & 917 1st St, Dallas, TX 75001         & 4 &  23.90 &  Dallas     \\\\\n",
       "\t 176559 & Bose SoundSport Headphones & 1 &  99.99 & 04/07/19 22:30 & 682 Chestnut St, Boston, MA 02215    & 4 &  99.99 &  Boston     \\\\\n",
       "\t 176560 & Google Phone               & 1 & 600.00 & 04/12/19 14:38 & 669 Spruce St, Los Angeles, CA 90001 & 4 & 600.00 &  Los Angeles\\\\\n",
       "\\end{tabular}\n"
      ],
      "text/markdown": [
       "\n",
       "A tibble: 3 × 9\n",
       "\n",
       "| Order.ID &lt;chr&gt; | Product &lt;chr&gt; | Quantity.Ordered &lt;int&gt; | Price.Each &lt;dbl&gt; | Order.Date &lt;chr&gt; | Purchase.Address &lt;chr&gt; | Month &lt;int&gt; | sales &lt;dbl&gt; | city &lt;chr&gt; |\n",
       "|---|---|---|---|---|---|---|---|---|\n",
       "| 176558 | USB-C Charging Cable       | 2 |  11.95 | 04/19/19 08:46 | 917 1st St, Dallas, TX 75001         | 4 |  23.90 |  Dallas      |\n",
       "| 176559 | Bose SoundSport Headphones | 1 |  99.99 | 04/07/19 22:30 | 682 Chestnut St, Boston, MA 02215    | 4 |  99.99 |  Boston      |\n",
       "| 176560 | Google Phone               | 1 | 600.00 | 04/12/19 14:38 | 669 Spruce St, Los Angeles, CA 90001 | 4 | 600.00 |  Los Angeles |\n",
       "\n"
      ],
      "text/plain": [
       "  Order.ID Product                    Quantity.Ordered Price.Each\n",
       "1 176558   USB-C Charging Cable       2                 11.95    \n",
       "2 176559   Bose SoundSport Headphones 1                 99.99    \n",
       "3 176560   Google Phone               1                600.00    \n",
       "  Order.Date     Purchase.Address                     Month sales  city        \n",
       "1 04/19/19 08:46 917 1st St, Dallas, TX 75001         4      23.90  Dallas     \n",
       "2 04/07/19 22:30 682 Chestnut St, Boston, MA 02215    4      99.99  Boston     \n",
       "3 04/12/19 14:38 669 Spruce St, Los Angeles, CA 90001 4     600.00  Los Angeles"
      ]
     },
     "metadata": {},
     "output_type": "display_data"
    }
   ],
   "source": [
    "head(all_data , 3)"
   ]
  },
  {
   "cell_type": "code",
   "execution_count": 111,
   "id": "0872f937",
   "metadata": {},
   "outputs": [
    {
     "data": {
      "text/html": [
       "<style>\n",
       ".list-inline {list-style: none; margin:0; padding: 0}\n",
       ".list-inline>li {display: inline-block}\n",
       ".list-inline>li:not(:last-child)::after {content: \"\\00b7\"; padding: 0 .5ex}\n",
       "</style>\n",
       "<ol class=list-inline><li>'04/19/19 08:46'</li><li>'04/07/19 22:30'</li><li>'04/12/19 14:38'</li><li>'04/12/19 14:38'</li><li>'04/30/19 09:27'</li></ol>\n"
      ],
      "text/latex": [
       "\\begin{enumerate*}\n",
       "\\item '04/19/19 08:46'\n",
       "\\item '04/07/19 22:30'\n",
       "\\item '04/12/19 14:38'\n",
       "\\item '04/12/19 14:38'\n",
       "\\item '04/30/19 09:27'\n",
       "\\end{enumerate*}\n"
      ],
      "text/markdown": [
       "1. '04/19/19 08:46'\n",
       "2. '04/07/19 22:30'\n",
       "3. '04/12/19 14:38'\n",
       "4. '04/12/19 14:38'\n",
       "5. '04/30/19 09:27'\n",
       "\n",
       "\n"
      ],
      "text/plain": [
       "[1] \"04/19/19 08:46\" \"04/07/19 22:30\" \"04/12/19 14:38\" \"04/12/19 14:38\"\n",
       "[5] \"04/30/19 09:27\""
      ]
     },
     "metadata": {},
     "output_type": "display_data"
    }
   ],
   "source": [
    "head(all_data$Order.Date , 5)"
   ]
  },
  {
   "cell_type": "code",
   "execution_count": null,
   "id": "d6c8ec8d",
   "metadata": {},
   "outputs": [],
   "source": []
  },
  {
   "cell_type": "code",
   "execution_count": 112,
   "id": "9ac9c98c",
   "metadata": {},
   "outputs": [
    {
     "data": {
      "text/html": [
       "'character'"
      ],
      "text/latex": [
       "'character'"
      ],
      "text/markdown": [
       "'character'"
      ],
      "text/plain": [
       "[1] \"character\""
      ]
     },
     "metadata": {},
     "output_type": "display_data"
    }
   ],
   "source": [
    "class(all_data$Order.Date)"
   ]
  },
  {
   "cell_type": "code",
   "execution_count": null,
   "id": "843c10ca",
   "metadata": {},
   "outputs": [],
   "source": [
    "### it says that \"date\" has character(string) values , but it should have date-time values , \n",
    "### ie in context of R , these are date-time data-types of base-R : \n",
    "### it should have 'POSIXlt' ,'POSIXt' or 'Date' data-types"
   ]
  },
  {
   "cell_type": "code",
   "execution_count": null,
   "id": "760795e5",
   "metadata": {},
   "outputs": [],
   "source": [
    "\"\n",
    "\n",
    "In R,  there are several data types that can be used to represent dates...\n",
    "R's base package provides some basic date and time classes and functions, such as Date, POSIXct, POSIXlt\n",
    ")..and functions like Sys.Date(), Sys.time(), and as.Date()\n",
    "\n",
    "1) Date: base-R\n",
    "The Date data type in R is used to represent dates without a time component. \n",
    "It's suitable for applications where you only need to work with dates, such as tracking events or appointments.\n",
    "\n",
    "\n",
    "\n",
    "2) 'POSIXlt' and 'POSIXt' of base-R\n",
    "Portable Operating System Interface (POSIX) Time, List format.\n",
    "These are data types that which are used to represent date and time values. \n",
    "These data types are part of the base R system and are commonly used for handling date and time-related operations\n",
    "\n",
    "\n",
    "a) 'POSIXlt' (List-Based Date-Time):\n",
    "'POSIXlt' : Portable Operating System Interface (POSIX) Time, List format.\n",
    "ie , 'POSIXlt' stands for \"List-Based Date-Time\"\n",
    "\n",
    "It represents date and time values as a list of components, including year, month, day, hour, minute, second, etc. \n",
    "Each component is stored as a separate element in the list.\n",
    "'POSIXlt' objects are more flexible and provide access to individual date and time components, \n",
    "making them suitable for various date and time calculations.\n",
    "They are less memory-efficient compared to 'POSIXct' because of the storage of individual components..\n",
    "\n",
    "\n",
    "\n",
    "\n",
    "b) 'POSIXct' (Calendar-Based Date-Time):\n",
    "\n",
    "POSIXct() : \"Portable Operating System Interface (POSIX) , compliant date and time\n",
    "POSIXct is a data type in R that represents date and time with fractional seconds..\n",
    "\n",
    "in short , 'POSIXct' stands for \"Calendar-Based Date-Time.\"\n",
    "It represents date and time values as a numeric value, \n",
    "which is the number of seconds since the Unix epoch (January 1, 1970, at 00:00:00 UTC)..\n",
    "'POSIXct' objects are more memory-efficient because they store date and time values as a single numeric value.\n",
    "They are less flexible for accessing individual components directly, \n",
    "but they are faster for certain operations that involve arithmetic with date and time values.\n",
    "\n",
    "\n",
    "\n",
    "\""
   ]
  },
  {
   "cell_type": "code",
   "execution_count": null,
   "id": "f81e5b23",
   "metadata": {},
   "outputs": [],
   "source": [
    "### as we have time component '04/19/19 08:46' , ie its good to use 'POSIXlt' or 'POSIXct'\n",
    "### as \"Date\" data-type of base-R can deal only date values.."
   ]
  },
  {
   "cell_type": "code",
   "execution_count": 113,
   "id": "f368b3c7",
   "metadata": {},
   "outputs": [
    {
     "data": {
      "text/plain": [
       "[1] \"2019-04-19 08:46:00 IST\""
      ]
     },
     "metadata": {},
     "output_type": "display_data"
    }
   ],
   "source": [
    "as.POSIXct(\"04/19/19 08:46\" , format = \"%m/%d/%y %H:%M\") \n",
    "## convert character string into a POSIXct date-time object\n",
    "\n",
    "## POSIXct is a data type in R that represents date and time with fractional seconds."
   ]
  },
  {
   "cell_type": "code",
   "execution_count": null,
   "id": "90164048",
   "metadata": {},
   "outputs": [],
   "source": []
  },
  {
   "cell_type": "code",
   "execution_count": 114,
   "id": "1d64f9b5",
   "metadata": {},
   "outputs": [],
   "source": [
    "all_data$Order.Date = as.POSIXlt(all_data$Order.Date , format = \"%m/%d/%y %H:%M\") ## takes 2 sec (NEW PC)\n",
    "\n",
    "## takes 10 sec (OLD PC)"
   ]
  },
  {
   "cell_type": "code",
   "execution_count": 115,
   "id": "a7e0354a",
   "metadata": {},
   "outputs": [
    {
     "data": {
      "text/plain": [
       "[1] \"2019-04-19 08:46:00 IST\" \"2019-04-07 22:30:00 IST\"\n",
       "[3] \"2019-04-12 14:38:00 IST\" \"2019-04-12 14:38:00 IST\"\n",
       "[5] \"2019-04-30 09:27:00 IST\""
      ]
     },
     "metadata": {},
     "output_type": "display_data"
    }
   ],
   "source": [
    "all_data$Order.Date[1:5]  ### values gets converted into date-time object"
   ]
  },
  {
   "cell_type": "code",
   "execution_count": null,
   "id": "13573fb2",
   "metadata": {},
   "outputs": [],
   "source": [
    "\"\n",
    "\"2019-04-19 08:46:00 IST\" :\n",
    "\n",
    "\n",
    "\"2019-04-19 08:46:00\" indicates the date and time in the format \"YYYY-MM-DD HH:mm:ss\". Here:\n",
    "\n",
    "\"2019\" is the year.\n",
    "\"04\" is the month (April).\n",
    "\"19\" is the day of the month.\n",
    "\"08:46:00\" represents the time in hours, minutes, and seconds (in 24-hour format)..\n",
    "\n",
    "\n",
    "Time Zone: \"IST\" stands for Indian Standard Time. It's the time zone used in India, which is UTC+5:30. \n",
    "            The time zone information in this case tells us that the time provided is in the Indian Standard Time zone..\n",
    "\n",
    "            UTC + 5:30 = it means that the local time is 5 hours and 30 minutes ahead of Coordinated Universal Time(UTC)\n",
    "            The \"5\" represents the full hours, and the \"30\" represents the additional 30 minutes.\n",
    "\n",
    "\n",
    "\""
   ]
  },
  {
   "cell_type": "code",
   "execution_count": 116,
   "id": "c8ebc410",
   "metadata": {},
   "outputs": [
    {
     "data": {
      "text/html": [
       "<style>\n",
       ".list-inline {list-style: none; margin:0; padding: 0}\n",
       ".list-inline>li {display: inline-block}\n",
       ".list-inline>li:not(:last-child)::after {content: \"\\00b7\"; padding: 0 .5ex}\n",
       "</style>\n",
       "<ol class=list-inline><li>'POSIXlt'</li><li>'POSIXt'</li></ol>\n"
      ],
      "text/latex": [
       "\\begin{enumerate*}\n",
       "\\item 'POSIXlt'\n",
       "\\item 'POSIXt'\n",
       "\\end{enumerate*}\n"
      ],
      "text/markdown": [
       "1. 'POSIXlt'\n",
       "2. 'POSIXt'\n",
       "\n",
       "\n"
      ],
      "text/plain": [
       "[1] \"POSIXlt\" \"POSIXt\" "
      ]
     },
     "metadata": {},
     "output_type": "display_data"
    }
   ],
   "source": [
    "class(all_data$Order.Date)"
   ]
  },
  {
   "cell_type": "code",
   "execution_count": null,
   "id": "cc0affe2",
   "metadata": {},
   "outputs": [],
   "source": [
    "\"\n",
    "\n",
    "'POSIXt': Portable Operating System Interface (POSIX) Time.\n",
    "Internal Representation: POSIXt is an umbrella class that includes both POSIXct and POSIXlt. \n",
    "                         It is a numeric vector representing the number of seconds since the \"Epoch.\"\n",
    "\n",
    "Precision: While POSIXct provides second-level precision, POSIXlt (the list format within POSIXt) offers sub-second precision, \n",
    "           storing fractions of a second\n",
    "\n",
    "\n",
    "\n",
    "\n",
    "\n",
    "So, when you see POSIXt in R, think of it as a special type of container or structure that holds information \n",
    "about a specific point in time. It's like a box that contains all the details about a moment, \n",
    "including the year, month, day, hour, minute, and second.\n",
    "\n",
    "For example, when you see a date and time like \"2023-01-15 09:30:00,\" you can use a POSIXt object to store this information \n",
    "in a way that R can understand and manipulate. It helps you perform operations like comparing two dates, \n",
    "calculating durations between them, or extracting specific components like the hour or day.\n",
    "\n",
    "\n",
    "\n",
    "\""
   ]
  },
  {
   "cell_type": "code",
   "execution_count": null,
   "id": "70ebe60c",
   "metadata": {},
   "outputs": [],
   "source": []
  },
  {
   "cell_type": "code",
   "execution_count": 119,
   "id": "c2c1c0e9",
   "metadata": {},
   "outputs": [],
   "source": [
    "## install.packages(\"lubridate\")"
   ]
  },
  {
   "cell_type": "code",
   "execution_count": 16,
   "id": "2f997437",
   "metadata": {},
   "outputs": [],
   "source": [
    "# Load the lubridate package\n",
    "library(lubridate)\n",
    "\n",
    "## execute twice"
   ]
  },
  {
   "cell_type": "code",
   "execution_count": 49,
   "id": "2735517a",
   "metadata": {},
   "outputs": [],
   "source": [
    "help(year)\n",
    "\n",
    "## Get/set years component of a date-time"
   ]
  },
  {
   "cell_type": "code",
   "execution_count": 48,
   "id": "556dc88f",
   "metadata": {},
   "outputs": [
    {
     "data": {
      "text/html": [
       "'\\nyear(x)\\n\\n'"
      ],
      "text/latex": [
       "'\\textbackslash{}nyear(x)\\textbackslash{}n\\textbackslash{}n'"
      ],
      "text/markdown": [
       "'\\nyear(x)\\n\\n'"
      ],
      "text/plain": [
       "[1] \"\\nyear(x)\\n\\n\""
      ]
     },
     "metadata": {},
     "output_type": "display_data"
    }
   ],
   "source": [
    "\"\n",
    "year(x)\n",
    "\n",
    "\n",
    "\n",
    "x : a date-time object\n",
    "\n",
    "\""
   ]
  },
  {
   "cell_type": "code",
   "execution_count": 45,
   "id": "1ccfbb63",
   "metadata": {},
   "outputs": [
    {
     "data": {
      "text/html": [
       "<pre class=language-r><code>function (x) \n",
       "NULL</code></pre>"
      ],
      "text/latex": [
       "\\begin{minted}{r}\n",
       "function (x) \n",
       "NULL\n",
       "\\end{minted}"
      ],
      "text/markdown": [
       "```r\n",
       "function (x) \n",
       "NULL\n",
       "```"
      ],
      "text/plain": [
       "function (x) \n",
       "NULL"
      ]
     },
     "metadata": {},
     "output_type": "display_data"
    }
   ],
   "source": [
    "args(year)"
   ]
  },
  {
   "cell_type": "code",
   "execution_count": null,
   "id": "700b6f9b",
   "metadata": {},
   "outputs": [],
   "source": []
  },
  {
   "cell_type": "code",
   "execution_count": null,
   "id": "4edce799",
   "metadata": {},
   "outputs": [],
   "source": [
    "### similarly we have month() , day() , hour() & other functions.."
   ]
  },
  {
   "cell_type": "code",
   "execution_count": 119,
   "id": "301ec5f4",
   "metadata": {},
   "outputs": [],
   "source": [
    "\n",
    "# Assuming 'Order_Date' is already converted to POSIXct format\n",
    "# Extract year, month, day, hour, minute, and day_name\n",
    "\n",
    "all_data$year = lubridate :: year(all_data$Order.Date)\n",
    "all_data$month = lubridate :: month(all_data$Order.Date)\n",
    "all_data$day = lubridate :: day(all_data$Order.Date)\n",
    "all_data$hour = lubridate :: hour(all_data$Order.Date)\n",
    "all_data$minute = lubridate ::minute(all_data$Order.Date)\n",
    "all_data$day_name = weekdays(all_data$Order.Date)  ## weekdays is a base-R function "
   ]
  },
  {
   "cell_type": "code",
   "execution_count": null,
   "id": "38e0d2e6",
   "metadata": {},
   "outputs": [],
   "source": []
  },
  {
   "cell_type": "code",
   "execution_count": null,
   "id": "6ba9497c",
   "metadata": {},
   "outputs": [],
   "source": []
  },
  {
   "cell_type": "code",
   "execution_count": null,
   "id": "91fad1f3",
   "metadata": {},
   "outputs": [],
   "source": [
    "### Since we have learnt how to create frequency table or pivot table using dcast() in 5th tutorial of this case-study , \n",
    "### let me show u how to do it using groupby() + pivot_wider() approach : "
   ]
  },
  {
   "cell_type": "code",
   "execution_count": 5,
   "id": "24497fc0",
   "metadata": {},
   "outputs": [],
   "source": [
    "library(dplyr)"
   ]
  },
  {
   "cell_type": "code",
   "execution_count": null,
   "id": "b363ae63",
   "metadata": {},
   "outputs": [],
   "source": [
    "help(group_by)\n",
    "\n",
    "### Group by one or more variables !"
   ]
  },
  {
   "cell_type": "code",
   "execution_count": 8,
   "id": "24f339ef",
   "metadata": {},
   "outputs": [
    {
     "data": {
      "text/html": [
       "<pre class=language-r><code>function (.data, ..., .add = FALSE, .drop = group_by_drop_default(.data)) \n",
       "NULL</code></pre>"
      ],
      "text/latex": [
       "\\begin{minted}{r}\n",
       "function (.data, ..., .add = FALSE, .drop = group\\_by\\_drop\\_default(.data)) \n",
       "NULL\n",
       "\\end{minted}"
      ],
      "text/markdown": [
       "```r\n",
       "function (.data, ..., .add = FALSE, .drop = group_by_drop_default(.data)) \n",
       "NULL\n",
       "```"
      ],
      "text/plain": [
       "function (.data, ..., .add = FALSE, .drop = group_by_drop_default(.data)) \n",
       "NULL"
      ]
     },
     "metadata": {},
     "output_type": "display_data"
    }
   ],
   "source": [
    "args(group_by)"
   ]
  },
  {
   "cell_type": "code",
   "execution_count": 2,
   "id": "946d74dd",
   "metadata": {},
   "outputs": [],
   "source": [
    "library(tidyr)"
   ]
  },
  {
   "cell_type": "code",
   "execution_count": 3,
   "id": "2a0c85a5",
   "metadata": {},
   "outputs": [],
   "source": [
    "help(pivot_wider)\n",
    "\n",
    "## Pivot data from long to wide !"
   ]
  },
  {
   "cell_type": "code",
   "execution_count": null,
   "id": "082ff7b5",
   "metadata": {},
   "outputs": [],
   "source": [
    "\"\n",
    "pivot_wider(\n",
    "  data,\n",
    "  ...,\n",
    "  id_cols = NULL,\n",
    "  id_expand = FALSE,\n",
    "  names_from = name,\n",
    "  names_prefix = \"\",\n",
    "  names_sep = \"_\",\n",
    "  names_glue = NULL,\n",
    "  names_sort = FALSE,\n",
    "  names_vary = \"fastest\",\n",
    "  names_expand = FALSE,\n",
    "  names_repair = \"check_unique\",\n",
    "  values_from = value,\n",
    "  values_fill = NULL,\n",
    "  values_fn = NULL,\n",
    "  unused_fn = NULL\n",
    ")\n",
    "\n",
    "\n",
    "data : This could be a dataframe or a tibble you want to transform..\n",
    "\n",
    "id_cols: These are the columns you want to keep as identifiers. \n",
    "         They will remain as they are, and the other columns will be spread or widened based on these identifiers.\n",
    "\n",
    "\n",
    "names_from : The column whose values will become the new column names.\n",
    "names_prefix : A prefix to be added to the new column names.\n",
    "\n",
    "names_sort : If TRUE, the resulting column names will be sorted..\n",
    "values_from : The column(s) from which to take the values to fill the new columns.\n",
    "\n",
    "values_fill : A value to use for filling missing cells..\n",
    "values_fn : A function to be applied to the values before spreading.\n",
    "\n",
    "unused_fn : A function to be applied to unused factor levels..\n",
    "\n",
    "\n",
    "\""
   ]
  },
  {
   "cell_type": "code",
   "execution_count": 16,
   "id": "88b628a4",
   "metadata": {},
   "outputs": [
    {
     "data": {
      "text/html": [
       "<pre class=language-r><code>function (data, ..., id_cols = NULL, id_expand = FALSE, names_from = name, \n",
       "<span style=white-space:pre-wrap>    names_prefix = \"\", names_sep = \"_\", names_glue = NULL, names_sort = FALSE, </span>\n",
       "<span style=white-space:pre-wrap>    names_vary = \"fastest\", names_expand = FALSE, names_repair = \"check_unique\", </span>\n",
       "<span style=white-space:pre-wrap>    values_from = value, values_fill = NULL, values_fn = NULL, </span>\n",
       "<span style=white-space:pre-wrap>    unused_fn = NULL) </span>\n",
       "NULL</code></pre>"
      ],
      "text/latex": [
       "\\begin{minted}{r}\n",
       "function (data, ..., id\\_cols = NULL, id\\_expand = FALSE, names\\_from = name, \n",
       "    names\\_prefix = \"\", names\\_sep = \"\\_\", names\\_glue = NULL, names\\_sort = FALSE, \n",
       "    names\\_vary = \"fastest\", names\\_expand = FALSE, names\\_repair = \"check\\_unique\", \n",
       "    values\\_from = value, values\\_fill = NULL, values\\_fn = NULL, \n",
       "    unused\\_fn = NULL) \n",
       "NULL\n",
       "\\end{minted}"
      ],
      "text/markdown": [
       "```r\n",
       "function (data, ..., id_cols = NULL, id_expand = FALSE, names_from = name, \n",
       "    names_prefix = \"\", names_sep = \"_\", names_glue = NULL, names_sort = FALSE, \n",
       "    names_vary = \"fastest\", names_expand = FALSE, names_repair = \"check_unique\", \n",
       "    values_from = value, values_fill = NULL, values_fn = NULL, \n",
       "    unused_fn = NULL) \n",
       "NULL\n",
       "```"
      ],
      "text/plain": [
       "function (data, ..., id_cols = NULL, id_expand = FALSE, names_from = name, \n",
       "    names_prefix = \"\", names_sep = \"_\", names_glue = NULL, names_sort = FALSE, \n",
       "    names_vary = \"fastest\", names_expand = FALSE, names_repair = \"check_unique\", \n",
       "    values_from = value, values_fill = NULL, values_fn = NULL, \n",
       "    unused_fn = NULL) \n",
       "NULL"
      ]
     },
     "metadata": {},
     "output_type": "display_data"
    }
   ],
   "source": [
    "args(tidyr :: pivot_wider)"
   ]
  },
  {
   "cell_type": "code",
   "execution_count": 120,
   "id": "6b5cfc4a",
   "metadata": {},
   "outputs": [],
   "source": [
    "pvt_table = all_data %>%\n",
    "  dplyr :: group_by(month, day) %>% \n",
    "  dplyr :: tally() %>%  ### tells counts of possible groups.. (equivalent to python groupby size())\n",
    "  tidyr :: pivot_wider(names_from = day , values_from = n)\n",
    "\n",
    "\n",
    "### The categories of 'day' col values become the new column names \n",
    "## and the corresponding counts (from column n) are placed in these new columns"
   ]
  },
  {
   "cell_type": "code",
   "execution_count": 121,
   "id": "c3b29ea6",
   "metadata": {},
   "outputs": [
    {
     "data": {
      "text/html": [
       "<table class=\"dataframe\">\n",
       "<caption>A grouped_df: 12 × 32</caption>\n",
       "<thead>\n",
       "\t<tr><th scope=col>month</th><th scope=col>1</th><th scope=col>2</th><th scope=col>3</th><th scope=col>4</th><th scope=col>5</th><th scope=col>6</th><th scope=col>7</th><th scope=col>8</th><th scope=col>9</th><th scope=col>...</th><th scope=col>22</th><th scope=col>23</th><th scope=col>24</th><th scope=col>25</th><th scope=col>26</th><th scope=col>27</th><th scope=col>28</th><th scope=col>29</th><th scope=col>30</th><th scope=col>31</th></tr>\n",
       "\t<tr><th scope=col>&lt;dbl&gt;</th><th scope=col>&lt;int&gt;</th><th scope=col>&lt;int&gt;</th><th scope=col>&lt;int&gt;</th><th scope=col>&lt;int&gt;</th><th scope=col>&lt;int&gt;</th><th scope=col>&lt;int&gt;</th><th scope=col>&lt;int&gt;</th><th scope=col>&lt;int&gt;</th><th scope=col>&lt;int&gt;</th><th scope=col>...</th><th scope=col>&lt;int&gt;</th><th scope=col>&lt;int&gt;</th><th scope=col>&lt;int&gt;</th><th scope=col>&lt;int&gt;</th><th scope=col>&lt;int&gt;</th><th scope=col>&lt;int&gt;</th><th scope=col>&lt;int&gt;</th><th scope=col>&lt;int&gt;</th><th scope=col>&lt;int&gt;</th><th scope=col>&lt;int&gt;</th></tr>\n",
       "</thead>\n",
       "<tbody>\n",
       "\t<tr><td> 1</td><td>336</td><td>323</td><td>296</td><td>293</td><td>308</td><td>290</td><td>308</td><td>283</td><td>317</td><td>...</td><td>328</td><td>277</td><td>348</td><td>297</td><td>369</td><td>311</td><td>327</td><td>320</td><td>300</td><td>277</td></tr>\n",
       "\t<tr><td> 2</td><td>413</td><td>433</td><td>403</td><td>402</td><td>387</td><td>415</td><td>426</td><td>434</td><td>448</td><td>...</td><td>433</td><td>391</td><td>460</td><td>412</td><td>440</td><td>452</td><td>405</td><td> NA</td><td> NA</td><td> NA</td></tr>\n",
       "\t<tr><td> 3</td><td>471</td><td>525</td><td>474</td><td>471</td><td>503</td><td>471</td><td>508</td><td>481</td><td>505</td><td>...</td><td>503</td><td>545</td><td>466</td><td>473</td><td>458</td><td>503</td><td>489</td><td>491</td><td>483</td><td>466</td></tr>\n",
       "\t<tr><td> 4</td><td>605</td><td>588</td><td>599</td><td>626</td><td>611</td><td>613</td><td>570</td><td>610</td><td>616</td><td>...</td><td>550</td><td>589</td><td>629</td><td>591</td><td>578</td><td>630</td><td>591</td><td>589</td><td>627</td><td> NA</td></tr>\n",
       "\t<tr><td> 5</td><td>513</td><td>532</td><td>500</td><td>544</td><td>528</td><td>507</td><td>543</td><td>545</td><td>565</td><td>...</td><td>568</td><td>541</td><td>509</td><td>542</td><td>511</td><td>505</td><td>546</td><td>549</td><td>553</td><td>475</td></tr>\n",
       "\t<tr><td> 6</td><td>457</td><td>450</td><td>422</td><td>465</td><td>465</td><td>487</td><td>415</td><td>445</td><td>438</td><td>...</td><td>391</td><td>411</td><td>442</td><td>442</td><td>463</td><td>408</td><td>465</td><td>490</td><td>447</td><td> NA</td></tr>\n",
       "\t<tr><td> 7</td><td>476</td><td>465</td><td>467</td><td>459</td><td>451</td><td>474</td><td>451</td><td>477</td><td>466</td><td>...</td><td>496</td><td>422</td><td>436</td><td>479</td><td>476</td><td>446</td><td>473</td><td>418</td><td>446</td><td>480</td></tr>\n",
       "\t<tr><td> 8</td><td>367</td><td>389</td><td>361</td><td>383</td><td>363</td><td>402</td><td>386</td><td>381</td><td>383</td><td>...</td><td>405</td><td>374</td><td>386</td><td>390</td><td>388</td><td>392</td><td>403</td><td>399</td><td>356</td><td>419</td></tr>\n",
       "\t<tr><td> 9</td><td>384</td><td>400</td><td>379</td><td>386</td><td>357</td><td>385</td><td>375</td><td>380</td><td>397</td><td>...</td><td>362</td><td>380</td><td>389</td><td>354</td><td>385</td><td>411</td><td>372</td><td>411</td><td>379</td><td> NA</td></tr>\n",
       "\t<tr><td>10</td><td>640</td><td>672</td><td>624</td><td>626</td><td>678</td><td>664</td><td>670</td><td>639</td><td>608</td><td>...</td><td>692</td><td>674</td><td>651</td><td>662</td><td>713</td><td>659</td><td>672</td><td>623</td><td>631</td><td>669</td></tr>\n",
       "\t<tr><td>11</td><td>600</td><td>612</td><td>538</td><td>608</td><td>562</td><td>556</td><td>610</td><td>610</td><td>587</td><td>...</td><td>590</td><td>569</td><td>617</td><td>598</td><td>574</td><td>621</td><td>534</td><td>579</td><td>594</td><td> NA</td></tr>\n",
       "\t<tr><td>12</td><td>780</td><td>798</td><td>752</td><td>795</td><td>802</td><td>817</td><td>763</td><td>780</td><td>770</td><td>...</td><td>783</td><td>868</td><td>808</td><td>814</td><td>795</td><td>770</td><td>816</td><td>840</td><td>807</td><td>763</td></tr>\n",
       "</tbody>\n",
       "</table>\n"
      ],
      "text/latex": [
       "A grouped\\_df: 12 × 32\n",
       "\\begin{tabular}{lllllllllllllllllllll}\n",
       " month & 1 & 2 & 3 & 4 & 5 & 6 & 7 & 8 & 9 & ... & 22 & 23 & 24 & 25 & 26 & 27 & 28 & 29 & 30 & 31\\\\\n",
       " <dbl> & <int> & <int> & <int> & <int> & <int> & <int> & <int> & <int> & <int> & ... & <int> & <int> & <int> & <int> & <int> & <int> & <int> & <int> & <int> & <int>\\\\\n",
       "\\hline\n",
       "\t  1 & 336 & 323 & 296 & 293 & 308 & 290 & 308 & 283 & 317 & ... & 328 & 277 & 348 & 297 & 369 & 311 & 327 & 320 & 300 & 277\\\\\n",
       "\t  2 & 413 & 433 & 403 & 402 & 387 & 415 & 426 & 434 & 448 & ... & 433 & 391 & 460 & 412 & 440 & 452 & 405 &  NA &  NA &  NA\\\\\n",
       "\t  3 & 471 & 525 & 474 & 471 & 503 & 471 & 508 & 481 & 505 & ... & 503 & 545 & 466 & 473 & 458 & 503 & 489 & 491 & 483 & 466\\\\\n",
       "\t  4 & 605 & 588 & 599 & 626 & 611 & 613 & 570 & 610 & 616 & ... & 550 & 589 & 629 & 591 & 578 & 630 & 591 & 589 & 627 &  NA\\\\\n",
       "\t  5 & 513 & 532 & 500 & 544 & 528 & 507 & 543 & 545 & 565 & ... & 568 & 541 & 509 & 542 & 511 & 505 & 546 & 549 & 553 & 475\\\\\n",
       "\t  6 & 457 & 450 & 422 & 465 & 465 & 487 & 415 & 445 & 438 & ... & 391 & 411 & 442 & 442 & 463 & 408 & 465 & 490 & 447 &  NA\\\\\n",
       "\t  7 & 476 & 465 & 467 & 459 & 451 & 474 & 451 & 477 & 466 & ... & 496 & 422 & 436 & 479 & 476 & 446 & 473 & 418 & 446 & 480\\\\\n",
       "\t  8 & 367 & 389 & 361 & 383 & 363 & 402 & 386 & 381 & 383 & ... & 405 & 374 & 386 & 390 & 388 & 392 & 403 & 399 & 356 & 419\\\\\n",
       "\t  9 & 384 & 400 & 379 & 386 & 357 & 385 & 375 & 380 & 397 & ... & 362 & 380 & 389 & 354 & 385 & 411 & 372 & 411 & 379 &  NA\\\\\n",
       "\t 10 & 640 & 672 & 624 & 626 & 678 & 664 & 670 & 639 & 608 & ... & 692 & 674 & 651 & 662 & 713 & 659 & 672 & 623 & 631 & 669\\\\\n",
       "\t 11 & 600 & 612 & 538 & 608 & 562 & 556 & 610 & 610 & 587 & ... & 590 & 569 & 617 & 598 & 574 & 621 & 534 & 579 & 594 &  NA\\\\\n",
       "\t 12 & 780 & 798 & 752 & 795 & 802 & 817 & 763 & 780 & 770 & ... & 783 & 868 & 808 & 814 & 795 & 770 & 816 & 840 & 807 & 763\\\\\n",
       "\\end{tabular}\n"
      ],
      "text/markdown": [
       "\n",
       "A grouped_df: 12 × 32\n",
       "\n",
       "| month &lt;dbl&gt; | 1 &lt;int&gt; | 2 &lt;int&gt; | 3 &lt;int&gt; | 4 &lt;int&gt; | 5 &lt;int&gt; | 6 &lt;int&gt; | 7 &lt;int&gt; | 8 &lt;int&gt; | 9 &lt;int&gt; | ... ... | 22 &lt;int&gt; | 23 &lt;int&gt; | 24 &lt;int&gt; | 25 &lt;int&gt; | 26 &lt;int&gt; | 27 &lt;int&gt; | 28 &lt;int&gt; | 29 &lt;int&gt; | 30 &lt;int&gt; | 31 &lt;int&gt; |\n",
       "|---|---|---|---|---|---|---|---|---|---|---|---|---|---|---|---|---|---|---|---|---|\n",
       "|  1 | 336 | 323 | 296 | 293 | 308 | 290 | 308 | 283 | 317 | ... | 328 | 277 | 348 | 297 | 369 | 311 | 327 | 320 | 300 | 277 |\n",
       "|  2 | 413 | 433 | 403 | 402 | 387 | 415 | 426 | 434 | 448 | ... | 433 | 391 | 460 | 412 | 440 | 452 | 405 |  NA |  NA |  NA |\n",
       "|  3 | 471 | 525 | 474 | 471 | 503 | 471 | 508 | 481 | 505 | ... | 503 | 545 | 466 | 473 | 458 | 503 | 489 | 491 | 483 | 466 |\n",
       "|  4 | 605 | 588 | 599 | 626 | 611 | 613 | 570 | 610 | 616 | ... | 550 | 589 | 629 | 591 | 578 | 630 | 591 | 589 | 627 |  NA |\n",
       "|  5 | 513 | 532 | 500 | 544 | 528 | 507 | 543 | 545 | 565 | ... | 568 | 541 | 509 | 542 | 511 | 505 | 546 | 549 | 553 | 475 |\n",
       "|  6 | 457 | 450 | 422 | 465 | 465 | 487 | 415 | 445 | 438 | ... | 391 | 411 | 442 | 442 | 463 | 408 | 465 | 490 | 447 |  NA |\n",
       "|  7 | 476 | 465 | 467 | 459 | 451 | 474 | 451 | 477 | 466 | ... | 496 | 422 | 436 | 479 | 476 | 446 | 473 | 418 | 446 | 480 |\n",
       "|  8 | 367 | 389 | 361 | 383 | 363 | 402 | 386 | 381 | 383 | ... | 405 | 374 | 386 | 390 | 388 | 392 | 403 | 399 | 356 | 419 |\n",
       "|  9 | 384 | 400 | 379 | 386 | 357 | 385 | 375 | 380 | 397 | ... | 362 | 380 | 389 | 354 | 385 | 411 | 372 | 411 | 379 |  NA |\n",
       "| 10 | 640 | 672 | 624 | 626 | 678 | 664 | 670 | 639 | 608 | ... | 692 | 674 | 651 | 662 | 713 | 659 | 672 | 623 | 631 | 669 |\n",
       "| 11 | 600 | 612 | 538 | 608 | 562 | 556 | 610 | 610 | 587 | ... | 590 | 569 | 617 | 598 | 574 | 621 | 534 | 579 | 594 |  NA |\n",
       "| 12 | 780 | 798 | 752 | 795 | 802 | 817 | 763 | 780 | 770 | ... | 783 | 868 | 808 | 814 | 795 | 770 | 816 | 840 | 807 | 763 |\n",
       "\n"
      ],
      "text/plain": [
       "   month 1   2   3   4   5   6   7   8   9   ... 22  23  24  25  26  27  28 \n",
       "1   1    336 323 296 293 308 290 308 283 317 ... 328 277 348 297 369 311 327\n",
       "2   2    413 433 403 402 387 415 426 434 448 ... 433 391 460 412 440 452 405\n",
       "3   3    471 525 474 471 503 471 508 481 505 ... 503 545 466 473 458 503 489\n",
       "4   4    605 588 599 626 611 613 570 610 616 ... 550 589 629 591 578 630 591\n",
       "5   5    513 532 500 544 528 507 543 545 565 ... 568 541 509 542 511 505 546\n",
       "6   6    457 450 422 465 465 487 415 445 438 ... 391 411 442 442 463 408 465\n",
       "7   7    476 465 467 459 451 474 451 477 466 ... 496 422 436 479 476 446 473\n",
       "8   8    367 389 361 383 363 402 386 381 383 ... 405 374 386 390 388 392 403\n",
       "9   9    384 400 379 386 357 385 375 380 397 ... 362 380 389 354 385 411 372\n",
       "10 10    640 672 624 626 678 664 670 639 608 ... 692 674 651 662 713 659 672\n",
       "11 11    600 612 538 608 562 556 610 610 587 ... 590 569 617 598 574 621 534\n",
       "12 12    780 798 752 795 802 817 763 780 770 ... 783 868 808 814 795 770 816\n",
       "   29  30  31 \n",
       "1  320 300 277\n",
       "2   NA  NA  NA\n",
       "3  491 483 466\n",
       "4  589 627  NA\n",
       "5  549 553 475\n",
       "6  490 447  NA\n",
       "7  418 446 480\n",
       "8  399 356 419\n",
       "9  411 379  NA\n",
       "10 623 631 669\n",
       "11 579 594  NA\n",
       "12 840 807 763"
      ]
     },
     "metadata": {},
     "output_type": "display_data"
    }
   ],
   "source": [
    "pvt_table"
   ]
  },
  {
   "cell_type": "code",
   "execution_count": null,
   "id": "40526cf1",
   "metadata": {},
   "outputs": [],
   "source": []
  },
  {
   "cell_type": "markdown",
   "id": "c416f3b5",
   "metadata": {},
   "source": [
    "### lets do styling of dataframe using Heatmap : "
   ]
  },
  {
   "cell_type": "code",
   "execution_count": 14,
   "id": "0ad1bafa",
   "metadata": {},
   "outputs": [],
   "source": [
    "help(heatmap)\n",
    "\n",
    "## Draw a Heat Map with a dendrogram added to the left side and to the top"
   ]
  },
  {
   "cell_type": "code",
   "execution_count": null,
   "id": "a79dcbf1",
   "metadata": {},
   "outputs": [],
   "source": [
    "\"\n",
    "\n",
    "heatmap(x, Rowv = NULL, Colv = if(symm)\"Rowv\" else NULL,\n",
    "        distfun = dist, hclustfun = hclust,\n",
    "        reorderfun = function(d, w) reorder(d, w),\n",
    "        add.expr, symm = FALSE, revC = identical(Colv, \"Rowv\"),\n",
    "        scale = c(\"row\", \"column\", \"none\"), na.rm = TRUE,\n",
    "        margins = c(5, 5), ColSideColors, RowSideColors,\n",
    "        cexRow = 0.2 + 1/log10(nr), cexCol = 0.2 + 1/log10(nc),\n",
    "        labRow = NULL, labCol = NULL, main = NULL,\n",
    "        xlab = NULL, ylab = NULL,\n",
    "        keep.dendro = FALSE, verbose = getOption(\"verbose\"), ...)\n",
    "\n",
    "\n",
    "\n",
    "x : numeric matrix of the values to be plotted..\n",
    "\n",
    "\n",
    "\""
   ]
  },
  {
   "cell_type": "code",
   "execution_count": 124,
   "id": "5d99b7f3",
   "metadata": {},
   "outputs": [
    {
     "data": {
      "text/html": [
       "<pre class=language-r><code>function (x, Rowv = NULL, Colv = if (symm) \"Rowv\" else NULL, \n",
       "<span style=white-space:pre-wrap>    distfun = dist, hclustfun = hclust, reorderfun = function(d, </span>\n",
       "<span style=white-space:pre-wrap>        w) reorder(d, w), add.expr, symm = FALSE, revC = identical(Colv, </span>\n",
       "<span style=white-space:pre-wrap>        \"Rowv\"), scale = c(\"row\", \"column\", \"none\"), na.rm = TRUE, </span>\n",
       "<span style=white-space:pre-wrap>    margins = c(5, 5), ColSideColors, RowSideColors, cexRow = 0.2 + </span>\n",
       "<span style=white-space:pre-wrap>        1/log10(nr), cexCol = 0.2 + 1/log10(nc), labRow = NULL, </span>\n",
       "<span style=white-space:pre-wrap>    labCol = NULL, main = NULL, xlab = NULL, ylab = NULL, keep.dendro = FALSE, </span>\n",
       "<span style=white-space:pre-wrap>    verbose = getOption(\"verbose\"), ...) </span>\n",
       "NULL</code></pre>"
      ],
      "text/latex": [
       "\\begin{minted}{r}\n",
       "function (x, Rowv = NULL, Colv = if (symm) \"Rowv\" else NULL, \n",
       "    distfun = dist, hclustfun = hclust, reorderfun = function(d, \n",
       "        w) reorder(d, w), add.expr, symm = FALSE, revC = identical(Colv, \n",
       "        \"Rowv\"), scale = c(\"row\", \"column\", \"none\"), na.rm = TRUE, \n",
       "    margins = c(5, 5), ColSideColors, RowSideColors, cexRow = 0.2 + \n",
       "        1/log10(nr), cexCol = 0.2 + 1/log10(nc), labRow = NULL, \n",
       "    labCol = NULL, main = NULL, xlab = NULL, ylab = NULL, keep.dendro = FALSE, \n",
       "    verbose = getOption(\"verbose\"), ...) \n",
       "NULL\n",
       "\\end{minted}"
      ],
      "text/markdown": [
       "```r\n",
       "function (x, Rowv = NULL, Colv = if (symm) \"Rowv\" else NULL, \n",
       "    distfun = dist, hclustfun = hclust, reorderfun = function(d, \n",
       "        w) reorder(d, w), add.expr, symm = FALSE, revC = identical(Colv, \n",
       "        \"Rowv\"), scale = c(\"row\", \"column\", \"none\"), na.rm = TRUE, \n",
       "    margins = c(5, 5), ColSideColors, RowSideColors, cexRow = 0.2 + \n",
       "        1/log10(nr), cexCol = 0.2 + 1/log10(nc), labRow = NULL, \n",
       "    labCol = NULL, main = NULL, xlab = NULL, ylab = NULL, keep.dendro = FALSE, \n",
       "    verbose = getOption(\"verbose\"), ...) \n",
       "NULL\n",
       "```"
      ],
      "text/plain": [
       "function (x, Rowv = NULL, Colv = if (symm) \"Rowv\" else NULL, \n",
       "    distfun = dist, hclustfun = hclust, reorderfun = function(d, \n",
       "        w) reorder(d, w), add.expr, symm = FALSE, revC = identical(Colv, \n",
       "        \"Rowv\"), scale = c(\"row\", \"column\", \"none\"), na.rm = TRUE, \n",
       "    margins = c(5, 5), ColSideColors, RowSideColors, cexRow = 0.2 + \n",
       "        1/log10(nr), cexCol = 0.2 + 1/log10(nc), labRow = NULL, \n",
       "    labCol = NULL, main = NULL, xlab = NULL, ylab = NULL, keep.dendro = FALSE, \n",
       "    verbose = getOption(\"verbose\"), ...) \n",
       "NULL"
      ]
     },
     "metadata": {},
     "output_type": "display_data"
    }
   ],
   "source": [
    "args(heatmap)\n",
    "\n",
    "## heatmap belongs to base-R stats package !\n",
    "## x : numeric matrix of the values to be plotted.."
   ]
  },
  {
   "cell_type": "code",
   "execution_count": 125,
   "id": "5f744f2d",
   "metadata": {},
   "outputs": [
    {
     "data": {
      "image/png": "[encoded data removed]",
      "text/plain": [
       "plot without title"
      ]
     },
     "metadata": {
      "image/png": {
       "height": 420,
       "width": 420
      }
     },
     "output_type": "display_data"
    }
   ],
   "source": [
    "heatmap(as.matrix(pvt_table))\n",
    "\n",
    "## as x receives I/p in matrix  , ie we have to pass as.matrix(pvt_table)"
   ]
  },
  {
   "cell_type": "code",
   "execution_count": null,
   "id": "d2356e4f",
   "metadata": {},
   "outputs": [],
   "source": []
  },
  {
   "cell_type": "code",
   "execution_count": null,
   "id": "c794928e",
   "metadata": {},
   "outputs": [],
   "source": [
    "## Above one doesn't sound interactive , If u want interactive plot , u can use plotly !"
   ]
  },
  {
   "cell_type": "code",
   "execution_count": 137,
   "id": "b1db9a5d",
   "metadata": {},
   "outputs": [
    {
     "name": "stdout",
     "output_type": "stream",
     "text": [
      "\n",
      "  There is a binary version available but the source version is later:\n",
      "       binary source needs_compilation\n",
      "plotly 4.10.1 4.10.2             FALSE\n",
      "\n"
     ]
    },
    {
     "name": "stderr",
     "output_type": "stream",
     "text": [
      "installing the source package 'plotly'\n",
      "\n",
      "\n"
     ]
    }
   ],
   "source": [
    "## install.packages(\"plotly\")"
   ]
  },
  {
   "cell_type": "code",
   "execution_count": 11,
   "id": "347e708f",
   "metadata": {},
   "outputs": [],
   "source": [
    "# Load required libraries\n",
    "library(plotly)\n",
    "\n",
    "## execute twice.."
   ]
  },
  {
   "cell_type": "code",
   "execution_count": 12,
   "id": "137c4bd3",
   "metadata": {},
   "outputs": [
    {
     "data": {
      "text/html": [
       "<pre class=language-r><code>function (data = data.frame(), ..., type = NULL, name, color, \n",
       "<span style=white-space:pre-wrap>    colors = NULL, alpha = NULL, stroke, strokes = NULL, alpha_stroke = 1, </span>\n",
       "<span style=white-space:pre-wrap>    size, sizes = c(10, 100), span, spans = c(1, 20), symbol, </span>\n",
       "<span style=white-space:pre-wrap>    symbols = NULL, linetype, linetypes = NULL, split, frame, </span>\n",
       "<span style=white-space:pre-wrap>    width = NULL, height = NULL, source = \"A\") </span>\n",
       "NULL</code></pre>"
      ],
      "text/latex": [
       "\\begin{minted}{r}\n",
       "function (data = data.frame(), ..., type = NULL, name, color, \n",
       "    colors = NULL, alpha = NULL, stroke, strokes = NULL, alpha\\_stroke = 1, \n",
       "    size, sizes = c(10, 100), span, spans = c(1, 20), symbol, \n",
       "    symbols = NULL, linetype, linetypes = NULL, split, frame, \n",
       "    width = NULL, height = NULL, source = \"A\") \n",
       "NULL\n",
       "\\end{minted}"
      ],
      "text/markdown": [
       "```r\n",
       "function (data = data.frame(), ..., type = NULL, name, color, \n",
       "    colors = NULL, alpha = NULL, stroke, strokes = NULL, alpha_stroke = 1, \n",
       "    size, sizes = c(10, 100), span, spans = c(1, 20), symbol, \n",
       "    symbols = NULL, linetype, linetypes = NULL, split, frame, \n",
       "    width = NULL, height = NULL, source = \"A\") \n",
       "NULL\n",
       "```"
      ],
      "text/plain": [
       "function (data = data.frame(), ..., type = NULL, name, color, \n",
       "    colors = NULL, alpha = NULL, stroke, strokes = NULL, alpha_stroke = 1, \n",
       "    size, sizes = c(10, 100), span, spans = c(1, 20), symbol, \n",
       "    symbols = NULL, linetype, linetypes = NULL, split, frame, \n",
       "    width = NULL, height = NULL, source = \"A\") \n",
       "NULL"
      ]
     },
     "metadata": {},
     "output_type": "display_data"
    }
   ],
   "source": [
    "args(plot_ly)"
   ]
  },
  {
   "cell_type": "code",
   "execution_count": 13,
   "id": "0c4dfa01",
   "metadata": {},
   "outputs": [],
   "source": [
    "help(plot_ly)\n",
    "\n",
    "## Initiate a plotly visualization"
   ]
  },
  {
   "cell_type": "code",
   "execution_count": null,
   "id": "ec00531f",
   "metadata": {},
   "outputs": [],
   "source": [
    "\"\n",
    "\n",
    "\n",
    "From chatgpt[explain z parameter in context of heatmap] : \n",
    "\n",
    "z : This parameter represents the numeric values that will determine the color intensity at each point in the heatmap..\n",
    "    In summary , z is the data you're visualizing in the heatmap, where each value corresponds to a cell's color intensity \n",
    "    in the heatmap grid..\n",
    "\n",
    "\n",
    "\""
   ]
  },
  {
   "cell_type": "code",
   "execution_count": null,
   "id": "eda3e669",
   "metadata": {},
   "outputs": [],
   "source": []
  },
  {
   "cell_type": "code",
   "execution_count": null,
   "id": "399f3f7d",
   "metadata": {},
   "outputs": [],
   "source": [
    "? plotly :: layout\n",
    "\n",
    "## help(plotly :: layout) => will not work..\n",
    "\n",
    "## This function is used to set layout properties for the plot or Modify the layout of a plotly visualization"
   ]
  },
  {
   "cell_type": "code",
   "execution_count": null,
   "id": "872589bf",
   "metadata": {},
   "outputs": [],
   "source": [
    "\"\n",
    "\n",
    "From official documentation : \n",
    "\n",
    "layout(p, ..., data = NULL)\n",
    "\n",
    "p = plotly graph object\n",
    "\n",
    "\""
   ]
  },
  {
   "cell_type": "code",
   "execution_count": null,
   "id": "196e5727",
   "metadata": {},
   "outputs": [],
   "source": [
    "\"\n",
    "\n",
    "from chatgpt : \n",
    "Here's a summary of the layout() function and some of its commonly used parameters : \n",
    "\n",
    "layout(\n",
    "  title = NULL,\n",
    "  xaxis = NULL,\n",
    "  yaxis = NULL,\n",
    "  annotations = NULL,\n",
    "  legend = NULL,\n",
    "  margin = NULL,\n",
    "  hovermode = NULL,\n",
    "  barmode = NULL,\n",
    "  plot_bgcolor = NULL,\n",
    "  paper_bgcolor = NULL,\n",
    "  ...\n",
    ")\n",
    "\n",
    "\n",
    "\""
   ]
  },
  {
   "cell_type": "code",
   "execution_count": null,
   "id": "6b37b308",
   "metadata": {},
   "outputs": [],
   "source": [
    "args(plotly :: layout)\n",
    "\n",
    "### as we have layout in base-R as well , that's why it is good to use plotly :: layout !"
   ]
  },
  {
   "cell_type": "markdown",
   "id": "affba622",
   "metadata": {},
   "source": [
    "        p : This is typically a plotly object (e.g., the result of a plot_ly() call). \n",
    "            The layout function is applied to this plotly object to customize plot \n",
    "\n",
    "        ... : This ellipsis (...) is telling , it can receive multiple arguments.. \n",
    "              In case of the layout function, it allows you to pass those parameters \n",
    "              which can customize title, axis labels, annotations, etc."
   ]
  },
  {
   "cell_type": "code",
   "execution_count": null,
   "id": "81f80d41",
   "metadata": {},
   "outputs": [],
   "source": [
    "\"\n",
    "\n",
    "heatmap = plotly :: plot_ly(z = as.matrix(pvt_table), type = \"heatmap\")\n",
    "\n",
    "fig = layout(heatmap ,     \n",
    "    xaxis = list(title = \"days\"),\n",
    "    yaxis = list(title = \"months\"),\n",
    "    title = \"Interactive Heatmap Title\")\n",
    "\n",
    "fig\n",
    "\n",
    "\"\n",
    "\n",
    "### lets apply dplyr chaining to make it more interactive !\n",
    "### Make sure u have imported dplyr , bcz %>%(pipe) operator is defined in this package.."
   ]
  },
  {
   "cell_type": "code",
   "execution_count": null,
   "id": "b09cbcae",
   "metadata": {},
   "outputs": [],
   "source": []
  },
  {
   "cell_type": "code",
   "execution_count": null,
   "id": "3bf6c615",
   "metadata": {},
   "outputs": [],
   "source": [
    "\n",
    "\n",
    "# Create a heatmap using plotly\n",
    "plotly :: plot_ly(z = as.matrix(pvt_table), type = \"heatmap\") %>%\n",
    "  layout(\n",
    "    xaxis = list(title = \"days\"),\n",
    "    yaxis = list(title = \"months\"),\n",
    "    title = \"Interactive Heatmap Title\" \n",
    "      \n",
    "  )\n",
    "\n",
    "## \"z\" parameter is used to specify the values that will be plotted on the heatmap !\n",
    "## plot_ly() expects a matrix for the \"z\" parameter , thats why we have to use as.matrix() \n",
    "\n",
    "\n",
    "### in the last month [Oct , Nov , Dec], we have higher no of Order !"
   ]
  },
  {
   "cell_type": "code",
   "execution_count": null,
   "id": "8e66db40",
   "metadata": {},
   "outputs": [],
   "source": [
    "\"\n",
    "\n",
    "z = as.matrix(pivot_table) specifies the data for the heatmap. pivot_table is assumed to be a data frame, \n",
    "    and as.matrix() converts it to a matrix suitable for creating a heatmap..\n",
    "\n",
    "type = \"heatmap\" specifies that we want to create a heatmap.\n",
    "\n",
    "\n",
    "\""
   ]
  },
  {
   "cell_type": "code",
   "execution_count": null,
   "id": "df6a2b32",
   "metadata": {},
   "outputs": [],
   "source": []
  },
  {
   "cell_type": "code",
   "execution_count": null,
   "id": "24091d5b",
   "metadata": {},
   "outputs": [],
   "source": []
  },
  {
   "cell_type": "code",
   "execution_count": null,
   "id": "acb15eff",
   "metadata": {},
   "outputs": [],
   "source": []
  },
  {
   "cell_type": "code",
   "execution_count": null,
   "id": "78499e6b",
   "metadata": {},
   "outputs": [],
   "source": []
  }
 ],
 "metadata": {
  "kernelspec": {
   "display_name": "R 4.4.1",
   "language": "R",
   "name": "ir41"
  },
  "language_info": {
   "codemirror_mode": "r",
   "file_extension": ".r",
   "mimetype": "text/x-r-source",
   "name": "R",
   "pygments_lexer": "r",
   "version": "4.4.1"
  }
 },
 "nbformat": 4,
 "nbformat_minor": 5
}
