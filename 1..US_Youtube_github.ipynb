{
 "cells": [
  {
   "cell_type": "code",
   "execution_count": null,
   "id": "0036b798",
   "metadata": {},
   "outputs": [],
   "source": []
  },
  {
   "cell_type": "code",
   "execution_count": 1,
   "id": "d68d531e",
   "metadata": {},
   "outputs": [],
   "source": [
    "import pandas as pd\n",
    "import numpy as np\n",
    "import matplotlib.pyplot as plt\n",
    "import seaborn as sns\n",
    "\n",
    "### so that u dont have warnings\n",
    "from warnings import filterwarnings\n",
    "filterwarnings('ignore')\n",
    "\n",
    "from wordcloud import WordCloud, STOPWORDS\n",
    "from textblob import TextBlob"
   ]
  },
  {
   "cell_type": "code",
   "execution_count": 2,
   "id": "2d7eb078",
   "metadata": {},
   "outputs": [],
   "source": [
    "from textblob import TextBlob"
   ]
  },
  {
   "cell_type": "code",
   "execution_count": 3,
   "id": "e76bfb1c",
   "metadata": {},
   "outputs": [
    {
     "name": "stderr",
     "output_type": "stream",
     "text": [
      "b'Skipping line 41589: expected 4 fields, saw 11\\nSkipping line 51628: expected 4 fields, saw 7\\nSkipping line 114465: expected 4 fields, saw 5\\n'\n",
      "b'Skipping line 142496: expected 4 fields, saw 8\\nSkipping line 189732: expected 4 fields, saw 6\\nSkipping line 245218: expected 4 fields, saw 7\\n'\n",
      "b'Skipping line 388430: expected 4 fields, saw 5\\n'\n"
     ]
    },
    {
     "data": {
      "text/plain": [
       "\"\\nPossible reasons of getting this error:\\n\\n1..\\n## The parser is getting confused by the header of the file. It reads the first row and infers the number of columns from that row. \\n# But the first two rows aren't representative of the actual data in the file.\\n\\n2..\\n## This is definitely an issue of delimiter, as most of the csv CSV got created using sep='/t' so \\n# try to use read_csv using the tab character (\\t) using separator /t. so, try to open using following code line.\\nread_csv(sep='\\t'))\\n\\n\""
      ]
     },
     "execution_count": 3,
     "metadata": {},
     "output_type": "execute_result"
    }
   ],
   "source": [
    "#read dataset\n",
    "comments=pd.read_csv(r'G:\\Data Science projects\\EDA_Projects\\Youtube/UScomments.csv', error_bad_lines=False)\n",
    "comments\n",
    "\n",
    "\n",
    "'''\n",
    "Possible reasons of getting this error:\n",
    "\n",
    "1..\n",
    "## The parser is getting confused by the header of the file. It reads the first row and infers the number of columns from that row. \n",
    "# But the first two rows aren't representative of the actual data in the file.\n",
    "\n",
    "2..\n",
    "## This is definitely an issue of delimiter, as most of the csv CSV got created using sep='/t' so \n",
    "# try to use read_csv using the tab character (\\t) using separator /t. so, try to open using following code line.\n",
    "read_csv(sep='\\t'))\n",
    "\n",
    "'''"
   ]
  },
  {
   "cell_type": "markdown",
   "id": "7fa7a8ae",
   "metadata": {},
   "source": [
    "### 1..Perform sentiment Analysis on comment_text\n",
    "    Sentiment Analysis is the process of ‘computationally’ determining whether a piece of writing is positive, negative or neutral. It’s also known as opinion mining, deriving the opinion or attitude of a speaker.\n",
    "\n",
    "    1..Textblob ## textblob is a NLP library built on top of NLTK   , good for quick sentiment analysis\n",
    "\n",
    "\n",
    "    2) NLTK Vader SentimentAnalyzer (Valence Aware Dictionary and sEntiment Reasoner)  , a pre-trained nlp model..\n",
    "## https://www.geeksforgeeks.org/python-sentiment-analysis-using-vader/\n",
    "## https://medium.com/@b.terryjack/nlp-pre-trained-sentiment-analysis-1eb52a9d742c\n",
    "\n",
    "    3. using spacy  (doesnt have any in-built function to perform Sentiment analysis)\n",
    "\n",
    "        If you want to use exclusively Spacy, first u have to tokenize the text  , clean the text \n",
    "        removing stopwords , performing stemming & lemmitization ,perform vectorization & then model training..\n",
    "## https://www.section.io/engineering-education/sentiment-analysis-with-spacy-and-scikit-learn/\n",
    "## https://realpython.com/sentiment-analysis-python/\n",
    "\n",
    "    While performing sentiment analysis of text,two things are to be considered..\n",
    "    a) Polarity and \n",
    "    b) subjectivity\n",
    "\n",
    "    Polarity is a value between -1 for highly negative and +1 highly positive.\n",
    "    Subjectivity is something which doesn't carry any sentiment\n",
    "\n",
    "    Eg:I like this movie - Polarity will be +ve and carries a positive sentiment\n",
    "\n",
    "    I am going to movie..There's no sentiment in this statement but it carries a subject"
   ]
  },
  {
   "cell_type": "code",
   "execution_count": null,
   "id": "c1f1768d",
   "metadata": {},
   "outputs": [],
   "source": []
  },
  {
   "cell_type": "code",
   "execution_count": 4,
   "id": "84cb4087",
   "metadata": {},
   "outputs": [
    {
     "data": {
      "text/plain": [
       "0.0"
      ]
     },
     "execution_count": 4,
     "metadata": {},
     "output_type": "execute_result"
    }
   ],
   "source": [
    "TextBlob('Logan Paul its yo big day ‼️‼️‼️').sentiment.polarity"
   ]
  },
  {
   "cell_type": "code",
   "execution_count": 5,
   "id": "0c30fd6e",
   "metadata": {},
   "outputs": [],
   "source": [
    "comments.dropna(inplace=True)"
   ]
  },
  {
   "cell_type": "code",
   "execution_count": 8,
   "id": "a8d1ac6e",
   "metadata": {},
   "outputs": [],
   "source": [
    "polarity=[] # list which will contain the polarity of the comments\n",
    "## almost takes 6 mins\n",
    "for comment in comments['comment_text']:\n",
    "    try:\n",
    "        polarity.append(TextBlob(comment).sentiment.polarity)   \n",
    "    except:\n",
    "        polarity.append(0)"
   ]
  },
  {
   "cell_type": "code",
   "execution_count": 9,
   "id": "ecd564d0",
   "metadata": {},
   "outputs": [],
   "source": [
    "comments['polarity']=polarity"
   ]
  },
  {
   "cell_type": "code",
   "execution_count": 10,
   "id": "bd5c3e2a",
   "metadata": {},
   "outputs": [
    {
     "data": {
      "text/html": [
       "<div>\n",
       "<style scoped>\n",
       "    .dataframe tbody tr th:only-of-type {\n",
       "        vertical-align: middle;\n",
       "    }\n",
       "\n",
       "    .dataframe tbody tr th {\n",
       "        vertical-align: top;\n",
       "    }\n",
       "\n",
       "    .dataframe thead th {\n",
       "        text-align: right;\n",
       "    }\n",
       "</style>\n",
       "<table border=\"1\" class=\"dataframe\">\n",
       "  <thead>\n",
       "    <tr style=\"text-align: right;\">\n",
       "      <th></th>\n",
       "      <th>video_id</th>\n",
       "      <th>comment_text</th>\n",
       "      <th>likes</th>\n",
       "      <th>replies</th>\n",
       "      <th>polarity</th>\n",
       "    </tr>\n",
       "  </thead>\n",
       "  <tbody>\n",
       "    <tr>\n",
       "      <th>0</th>\n",
       "      <td>XpVt6Z1Gjjo</td>\n",
       "      <td>Logan Paul it's yo big day ‼️‼️‼️</td>\n",
       "      <td>4</td>\n",
       "      <td>0</td>\n",
       "      <td>0.000000</td>\n",
       "    </tr>\n",
       "    <tr>\n",
       "      <th>1</th>\n",
       "      <td>XpVt6Z1Gjjo</td>\n",
       "      <td>I've been following you from the start of your...</td>\n",
       "      <td>3</td>\n",
       "      <td>0</td>\n",
       "      <td>0.000000</td>\n",
       "    </tr>\n",
       "    <tr>\n",
       "      <th>2</th>\n",
       "      <td>XpVt6Z1Gjjo</td>\n",
       "      <td>Say hi to Kong and maverick for me</td>\n",
       "      <td>3</td>\n",
       "      <td>0</td>\n",
       "      <td>0.000000</td>\n",
       "    </tr>\n",
       "    <tr>\n",
       "      <th>3</th>\n",
       "      <td>XpVt6Z1Gjjo</td>\n",
       "      <td>MY FAN . attendance</td>\n",
       "      <td>3</td>\n",
       "      <td>0</td>\n",
       "      <td>0.000000</td>\n",
       "    </tr>\n",
       "    <tr>\n",
       "      <th>4</th>\n",
       "      <td>XpVt6Z1Gjjo</td>\n",
       "      <td>trending 😉</td>\n",
       "      <td>3</td>\n",
       "      <td>0</td>\n",
       "      <td>0.000000</td>\n",
       "    </tr>\n",
       "    <tr>\n",
       "      <th>5</th>\n",
       "      <td>XpVt6Z1Gjjo</td>\n",
       "      <td>#1 on trending AYYEEEEE</td>\n",
       "      <td>3</td>\n",
       "      <td>0</td>\n",
       "      <td>0.000000</td>\n",
       "    </tr>\n",
       "    <tr>\n",
       "      <th>6</th>\n",
       "      <td>XpVt6Z1Gjjo</td>\n",
       "      <td>The end though 😭👍🏻❤️</td>\n",
       "      <td>4</td>\n",
       "      <td>0</td>\n",
       "      <td>0.000000</td>\n",
       "    </tr>\n",
       "    <tr>\n",
       "      <th>7</th>\n",
       "      <td>XpVt6Z1Gjjo</td>\n",
       "      <td>#1 trending!!!!!!!!!</td>\n",
       "      <td>3</td>\n",
       "      <td>0</td>\n",
       "      <td>0.000000</td>\n",
       "    </tr>\n",
       "    <tr>\n",
       "      <th>8</th>\n",
       "      <td>XpVt6Z1Gjjo</td>\n",
       "      <td>Happy one year vlogaversary</td>\n",
       "      <td>3</td>\n",
       "      <td>0</td>\n",
       "      <td>0.800000</td>\n",
       "    </tr>\n",
       "    <tr>\n",
       "      <th>9</th>\n",
       "      <td>XpVt6Z1Gjjo</td>\n",
       "      <td>You and your shit brother may have single hand...</td>\n",
       "      <td>0</td>\n",
       "      <td>0</td>\n",
       "      <td>-0.135714</td>\n",
       "    </tr>\n",
       "  </tbody>\n",
       "</table>\n",
       "</div>"
      ],
      "text/plain": [
       "      video_id                                       comment_text likes  \\\n",
       "0  XpVt6Z1Gjjo                  Logan Paul it's yo big day ‼️‼️‼️     4   \n",
       "1  XpVt6Z1Gjjo  I've been following you from the start of your...     3   \n",
       "2  XpVt6Z1Gjjo                 Say hi to Kong and maverick for me     3   \n",
       "3  XpVt6Z1Gjjo                                MY FAN . attendance     3   \n",
       "4  XpVt6Z1Gjjo                                         trending 😉     3   \n",
       "5  XpVt6Z1Gjjo                            #1 on trending AYYEEEEE     3   \n",
       "6  XpVt6Z1Gjjo                               The end though 😭👍🏻❤️     4   \n",
       "7  XpVt6Z1Gjjo                               #1 trending!!!!!!!!!     3   \n",
       "8  XpVt6Z1Gjjo                        Happy one year vlogaversary     3   \n",
       "9  XpVt6Z1Gjjo  You and your shit brother may have single hand...     0   \n",
       "\n",
       "  replies  polarity  \n",
       "0       0  0.000000  \n",
       "1       0  0.000000  \n",
       "2       0  0.000000  \n",
       "3       0  0.000000  \n",
       "4       0  0.000000  \n",
       "5       0  0.000000  \n",
       "6       0  0.000000  \n",
       "7       0  0.000000  \n",
       "8       0  0.800000  \n",
       "9       0 -0.135714  "
      ]
     },
     "execution_count": 10,
     "metadata": {},
     "output_type": "execute_result"
    }
   ],
   "source": [
    "comments.head(10)"
   ]
  },
  {
   "cell_type": "code",
   "execution_count": null,
   "id": "da11e9ae",
   "metadata": {},
   "outputs": [],
   "source": []
  },
  {
   "cell_type": "code",
   "execution_count": null,
   "id": "3cefb0b3",
   "metadata": {},
   "outputs": [],
   "source": []
  },
  {
   "cell_type": "markdown",
   "id": "2d72fdf7",
   "metadata": {},
   "source": [
    "### Lets perform EDA for the Positve sentences"
   ]
  },
  {
   "cell_type": "markdown",
   "id": "fb79b1ff",
   "metadata": {},
   "source": [
    "### ways to extract data where polarity is 1\n",
    "    1..using filter approach\n",
    "    2..using pd.query()\n",
    "    3..using np.where()"
   ]
  },
  {
   "cell_type": "code",
   "execution_count": 11,
   "id": "2403eba1",
   "metadata": {},
   "outputs": [
    {
     "data": {
      "text/html": [
       "<div>\n",
       "<style scoped>\n",
       "    .dataframe tbody tr th:only-of-type {\n",
       "        vertical-align: middle;\n",
       "    }\n",
       "\n",
       "    .dataframe tbody tr th {\n",
       "        vertical-align: top;\n",
       "    }\n",
       "\n",
       "    .dataframe thead th {\n",
       "        text-align: right;\n",
       "    }\n",
       "</style>\n",
       "<table border=\"1\" class=\"dataframe\">\n",
       "  <thead>\n",
       "    <tr style=\"text-align: right;\">\n",
       "      <th></th>\n",
       "      <th>video_id</th>\n",
       "      <th>comment_text</th>\n",
       "      <th>likes</th>\n",
       "      <th>replies</th>\n",
       "      <th>polarity</th>\n",
       "    </tr>\n",
       "  </thead>\n",
       "  <tbody>\n",
       "    <tr>\n",
       "      <th>64</th>\n",
       "      <td>XpVt6Z1Gjjo</td>\n",
       "      <td>yu are the best</td>\n",
       "      <td>1</td>\n",
       "      <td>0</td>\n",
       "      <td>1.0</td>\n",
       "    </tr>\n",
       "    <tr>\n",
       "      <th>156</th>\n",
       "      <td>cLdxuaxaQwc</td>\n",
       "      <td>Power is the disease.  Care is the cure.  Keep...</td>\n",
       "      <td>0</td>\n",
       "      <td>0</td>\n",
       "      <td>1.0</td>\n",
       "    </tr>\n",
       "    <tr>\n",
       "      <th>227</th>\n",
       "      <td>WYYvHb03Eog</td>\n",
       "      <td>YAS Can't wait to get it! I just need to sell ...</td>\n",
       "      <td>0</td>\n",
       "      <td>0</td>\n",
       "      <td>1.0</td>\n",
       "    </tr>\n",
       "    <tr>\n",
       "      <th>307</th>\n",
       "      <td>sjlHnJvXdQs</td>\n",
       "      <td>This is priceless</td>\n",
       "      <td>0</td>\n",
       "      <td>0</td>\n",
       "      <td>1.0</td>\n",
       "    </tr>\n",
       "    <tr>\n",
       "      <th>319</th>\n",
       "      <td>sjlHnJvXdQs</td>\n",
       "      <td>Summed up perfectly</td>\n",
       "      <td>0</td>\n",
       "      <td>0</td>\n",
       "      <td>1.0</td>\n",
       "    </tr>\n",
       "  </tbody>\n",
       "</table>\n",
       "</div>"
      ],
      "text/plain": [
       "        video_id                                       comment_text likes  \\\n",
       "64   XpVt6Z1Gjjo                                    yu are the best     1   \n",
       "156  cLdxuaxaQwc  Power is the disease.  Care is the cure.  Keep...     0   \n",
       "227  WYYvHb03Eog  YAS Can't wait to get it! I just need to sell ...     0   \n",
       "307  sjlHnJvXdQs                                  This is priceless     0   \n",
       "319  sjlHnJvXdQs                                Summed up perfectly     0   \n",
       "\n",
       "    replies  polarity  \n",
       "64        0       1.0  \n",
       "156       0       1.0  \n",
       "227       0       1.0  \n",
       "307       0       1.0  \n",
       "319       0       1.0  "
      ]
     },
     "execution_count": 11,
     "metadata": {},
     "output_type": "execute_result"
    }
   ],
   "source": [
    "comments_positive = comments[comments['polarity']==1]\n",
    "comments_positive.head()"
   ]
  },
  {
   "cell_type": "code",
   "execution_count": 12,
   "id": "a0e9527b",
   "metadata": {},
   "outputs": [],
   "source": [
    "stopwords=set(STOPWORDS)"
   ]
  },
  {
   "cell_type": "code",
   "execution_count": 13,
   "id": "073f34df",
   "metadata": {},
   "outputs": [
    {
     "data": {
      "text/plain": [
       "(-0.5, 999.5, 499.5, -0.5)"
      ]
     },
     "execution_count": 13,
     "metadata": {},
     "output_type": "execute_result"
    },
    {
     "data": {
      "image/png": "[encoded data removed]",
      "text/plain": [
       "<Figure size 1080x360 with 1 Axes>"
      ]
     },
     "metadata": {
      "needs_background": "light"
     },
     "output_type": "display_data"
    }
   ],
   "source": [
    "total_comments= (' '.join(comments_positive['comment_text']))\n",
    "\n",
    "wordcloud = WordCloud(width = 1000, height = 500,stopwords=stopwords).generate(total_comments)\n",
    "plt.figure(figsize=(15,5))\n",
    "plt.imshow(wordcloud)\n",
    "plt.axis('off')"
   ]
  },
  {
   "cell_type": "code",
   "execution_count": null,
   "id": "4f092d39",
   "metadata": {},
   "outputs": [],
   "source": []
  },
  {
   "cell_type": "markdown",
   "id": "0efbe83a",
   "metadata": {},
   "source": [
    "### its time to go for negative sentences"
   ]
  },
  {
   "cell_type": "code",
   "execution_count": 14,
   "id": "32489a97",
   "metadata": {},
   "outputs": [],
   "source": [
    "comments_negative = comments[comments['polarity']==-1]"
   ]
  },
  {
   "cell_type": "code",
   "execution_count": 15,
   "id": "21de7446",
   "metadata": {},
   "outputs": [
    {
     "data": {
      "text/plain": [
       "(-0.5, 999.5, 499.5, -0.5)"
      ]
     },
     "execution_count": 15,
     "metadata": {},
     "output_type": "execute_result"
    },
    {
     "data": {
      "image/png": "[encoded data removed]",
      "text/plain": [
       "<Figure size 1080x360 with 1 Axes>"
      ]
     },
     "metadata": {
      "needs_background": "light"
     },
     "output_type": "display_data"
    }
   ],
   "source": [
    "comments_negative= (' '.join(comments_negative['comment_text']))\n",
    "wordcloud = WordCloud(width = 1000, height = 500).generate(comments_negative)\n",
    "plt.figure(figsize=(15,5))\n",
    "plt.imshow(wordcloud)\n",
    "plt.axis('off')"
   ]
  },
  {
   "cell_type": "code",
   "execution_count": null,
   "id": "c7cc4858",
   "metadata": {},
   "outputs": [],
   "source": []
  },
  {
   "cell_type": "code",
   "execution_count": null,
   "id": "a21bc3b4",
   "metadata": {},
   "outputs": [],
   "source": []
  },
  {
   "cell_type": "markdown",
   "id": "a883ec6d",
   "metadata": {},
   "source": [
    "### 3..Perform Emoji's Analysis.."
   ]
  },
  {
   "cell_type": "markdown",
   "id": "6c39b71a",
   "metadata": {},
   "source": [
    "#### Analyse Emojis in comments"
   ]
  },
  {
   "cell_type": "code",
   "execution_count": 16,
   "id": "4a7fd885",
   "metadata": {},
   "outputs": [],
   "source": [
    "import emoji"
   ]
  },
  {
   "cell_type": "code",
   "execution_count": 17,
   "id": "e144c229",
   "metadata": {},
   "outputs": [
    {
     "data": {
      "text/plain": [
       "'trending 😉'"
      ]
     },
     "execution_count": 17,
     "metadata": {},
     "output_type": "execute_result"
    }
   ],
   "source": [
    "comments['comment_text'][4]"
   ]
  },
  {
   "cell_type": "markdown",
   "id": "fdd2a083",
   "metadata": {},
   "source": [
    "#### Every emoji has a Unicode associated with it\n",
    "     '\\U0001F600' is a unicode for 😀\n",
    "\n",
    "     Unicode-->>The Unicode Standard provides a unique number\n",
    "     for every character, no matter what platform,\n",
    "     device,application or language\n",
    "\n",
    "           ie , Unicode is a universal character encoding \n",
    "           standard that assigns a code to every character\n",
    "           and symbol in every language in the world."
   ]
  },
  {
   "cell_type": "code",
   "execution_count": 18,
   "id": "1a7748a0",
   "metadata": {},
   "outputs": [
    {
     "name": "stdout",
     "output_type": "stream",
     "text": [
      "😀\n"
     ]
    }
   ],
   "source": [
    "print('\\U0001F600')"
   ]
  },
  {
   "cell_type": "code",
   "execution_count": 124,
   "id": "3e3d2c78",
   "metadata": {},
   "outputs": [
    {
     "data": {
      "text/plain": [
       "['😉']"
      ]
     },
     "execution_count": 124,
     "metadata": {},
     "output_type": "execute_result"
    }
   ],
   "source": [
    "comment='trending 😉'\n",
    "[c for c in comment if c in emoji.UNICODE_EMOJI_ENGLISH]"
   ]
  },
  {
   "cell_type": "markdown",
   "id": "802ba465",
   "metadata": {},
   "source": [
    "### ways to do this :\n",
    "    1..using list or list comprehension\n",
    "        \n",
    "    2..using string"
   ]
  },
  {
   "cell_type": "code",
   "execution_count": null,
   "id": "cece2f59",
   "metadata": {},
   "outputs": [],
   "source": [
    "### ..using list"
   ]
  },
  {
   "cell_type": "code",
   "execution_count": 125,
   "id": "42772ebc",
   "metadata": {},
   "outputs": [],
   "source": [
    "emoji_list=[]\n",
    "for comment in comments['comment_text']:\n",
    "    for char in comment:\n",
    "        if char in emoji.UNICODE_EMOJI_ENGLISH:\n",
    "            emoji_list.append(char)\n",
    "            \n",
    "        "
   ]
  },
  {
   "cell_type": "code",
   "execution_count": 130,
   "id": "d30538ae",
   "metadata": {},
   "outputs": [
    {
     "data": {
      "text/plain": [
       "['‼', '‼', '‼', '😉', '😭']"
      ]
     },
     "execution_count": 130,
     "metadata": {},
     "output_type": "execute_result"
    }
   ],
   "source": [
    "emoji_list[0:5]"
   ]
  },
  {
   "cell_type": "code",
   "execution_count": 131,
   "id": "7bd011fb",
   "metadata": {},
   "outputs": [
    {
     "data": {
      "text/plain": [
       "294549"
      ]
     },
     "execution_count": 131,
     "metadata": {},
     "output_type": "execute_result"
    }
   ],
   "source": [
    "len(emoji_list)"
   ]
  },
  {
   "cell_type": "code",
   "execution_count": null,
   "id": "69e83036",
   "metadata": {},
   "outputs": [],
   "source": []
  },
  {
   "cell_type": "markdown",
   "id": "17cea9ac",
   "metadata": {},
   "source": [
    "### NOw we have to compute frequencies of each & evry emojis..\n",
    "    1..code completely from scratch..\n",
    "       (by iterating over the list and counting frequency)\n",
    "       \n",
    "    2..using list count function\n",
    "    3..using collections module\n",
    "    4..using dictionary get function\n",
    "    \n",
    "\n",
    "### https://www.geeksforgeeks.org/counting-the-frequencies-in-a-list-using-dictionary-in-python/\n",
    "### https://www.tutorialsteacher.com/articles/how-to-count-occurences-of-list-items-in-python\n",
    "### https://stackoverflow.com/questions/3496518/using-a-dictionary-to-count-the-items-in-a-list"
   ]
  },
  {
   "cell_type": "code",
   "execution_count": null,
   "id": "c350ae7a",
   "metadata": {},
   "outputs": [],
   "source": []
  },
  {
   "cell_type": "code",
   "execution_count": 132,
   "id": "ea2d4cd5",
   "metadata": {},
   "outputs": [],
   "source": [
    "from collections import Counter"
   ]
  },
  {
   "cell_type": "code",
   "execution_count": 138,
   "id": "44c6ad2b",
   "metadata": {},
   "outputs": [
    {
     "data": {
      "text/plain": [
       "[('😂', 36987),\n",
       " ('😍', 33453),\n",
       " ('❤', 31119),\n",
       " ('🔥', 8694),\n",
       " ('😭', 8398),\n",
       " ('👏', 5719),\n",
       " ('😘', 5545),\n",
       " ('👍', 5476),\n",
       " ('💖', 5359),\n",
       " ('💕', 5147)]"
      ]
     },
     "execution_count": 138,
     "metadata": {},
     "output_type": "execute_result"
    }
   ],
   "source": [
    "Counter(emoji_list).most_common(10)"
   ]
  },
  {
   "cell_type": "code",
   "execution_count": 140,
   "id": "c0b09104",
   "metadata": {},
   "outputs": [
    {
     "data": {
      "text/plain": [
       "[('😂', 36987),\n",
       " ('😍', 33453),\n",
       " ('❤', 31119),\n",
       " ('🔥', 8694),\n",
       " ('😭', 8398),\n",
       " ('👏', 5719),\n",
       " ('😘', 5545),\n",
       " ('👍', 5476),\n",
       " ('💖', 5359),\n",
       " ('💕', 5147)]"
      ]
     },
     "execution_count": 140,
     "metadata": {},
     "output_type": "execute_result"
    }
   ],
   "source": [
    "Counter(emoji_list).most_common(10)"
   ]
  },
  {
   "cell_type": "code",
   "execution_count": 151,
   "id": "08c99e0f",
   "metadata": {},
   "outputs": [],
   "source": [
    "emojis=[Counter(emoji_list).most_common(10)[i][0] \\\n",
    "        for i in range(10)]"
   ]
  },
  {
   "cell_type": "code",
   "execution_count": 152,
   "id": "936c5cb9",
   "metadata": {},
   "outputs": [
    {
     "data": {
      "text/plain": [
       "['😂', '😍', '❤', '🔥', '😭', '👏', '😘', '👍', '💖', '💕']"
      ]
     },
     "execution_count": 152,
     "metadata": {},
     "output_type": "execute_result"
    }
   ],
   "source": [
    "emojis"
   ]
  },
  {
   "cell_type": "code",
   "execution_count": 153,
   "id": "e3ec345c",
   "metadata": {},
   "outputs": [],
   "source": [
    "freqs=[Counter(emoji_list).most_common(10)[i][1] for i in range(10)]"
   ]
  },
  {
   "cell_type": "code",
   "execution_count": 154,
   "id": "0ea872d6",
   "metadata": {},
   "outputs": [
    {
     "data": {
      "text/plain": [
       "[36987, 33453, 31119, 8694, 8398, 5719, 5545, 5476, 5359, 5147]"
      ]
     },
     "execution_count": 154,
     "metadata": {},
     "output_type": "execute_result"
    }
   ],
   "source": [
    "freqs"
   ]
  },
  {
   "cell_type": "code",
   "execution_count": 162,
   "id": "7e1888da",
   "metadata": {},
   "outputs": [],
   "source": [
    "import plotly.graph_objs as go\n",
    "from plotly.offline import iplot"
   ]
  },
  {
   "cell_type": "code",
   "execution_count": 157,
   "id": "7e11171a",
   "metadata": {},
   "outputs": [],
   "source": [
    "trace=go.Bar(x =emojis,\n",
    "             y = freqs\n",
    "            )\n",
    "\n",
    "## iplot([trace]) "
   ]
  },
  {
   "cell_type": "code",
   "execution_count": null,
   "id": "b2177ec1",
   "metadata": {},
   "outputs": [],
   "source": []
  },
  {
   "cell_type": "code",
   "execution_count": null,
   "id": "9c39aecc",
   "metadata": {},
   "outputs": [],
   "source": []
  },
  {
   "cell_type": "code",
   "execution_count": null,
   "id": "6dc184a0",
   "metadata": {},
   "outputs": [],
   "source": []
  },
  {
   "cell_type": "code",
   "execution_count": null,
   "id": "7a784b53",
   "metadata": {},
   "outputs": [],
   "source": []
  },
  {
   "cell_type": "markdown",
   "id": "d2b671eb",
   "metadata": {},
   "source": [
    "#### lets create a dictionary of having each emoji with its frequency as well¶"
   ]
  },
  {
   "cell_type": "code",
   "execution_count": null,
   "id": "622d21cf",
   "metadata": {},
   "outputs": [],
   "source": [
    "str_emoji=''\n",
    "for i in comments['comment_text']:\n",
    "    list_emoji=[c for c in i if c in emoji.UNICODE_EMOJI_ENGLISH]\n",
    "    for ele in list_emoji:\n",
    "        str_emoji = str_emoji + ele\n",
    "    "
   ]
  },
  {
   "cell_type": "code",
   "execution_count": 22,
   "id": "12e18ef5",
   "metadata": {},
   "outputs": [],
   "source": [
    "result={}\n",
    "for i in set(str_emoji):\n",
    "    result[i]=str_emoji.count(i)\n",
    "    \n",
    "## result = {i:str.count(i) for i in set(str)}"
   ]
  },
  {
   "cell_type": "code",
   "execution_count": 23,
   "id": "c174b6ec",
   "metadata": {},
   "outputs": [],
   "source": [
    "### sort the emojis according to its count or frequency ,ie sort this dictionary by values"
   ]
  },
  {
   "cell_type": "code",
   "execution_count": null,
   "id": "1028fdb3",
   "metadata": {},
   "outputs": [],
   "source": []
  },
  {
   "cell_type": "markdown",
   "id": "7e159f5a",
   "metadata": {},
   "source": [
    "### lets sort this dictionary by value\n",
    "    1..using sorted() & items() \n",
    "    2..using operator module\n",
    "    3..Bubble Sorting of List (from scratch)\n",
    "\n",
    "### https://www.tutorialsteacher.com/articles/sort-dict-by-value-in-python\n",
    "### https://www.geeksforgeeks.org/python-split-dictionary-keys-and-values-into-separate-lists/\n",
    "### https://www.articledesk.net/python-sort-a-dictionary-by-value/"
   ]
  },
  {
   "cell_type": "code",
   "execution_count": 24,
   "id": "91e04d3f",
   "metadata": {},
   "outputs": [
    {
     "data": {
      "text/plain": [
       "'\\nLet’s say that you have a dictionary and you want to sort it by key-value pairs.\\nYou can do this by using two functions together: items() and sorted(). \\n\\nThe items() function allows you to retrieve the items in a dictionary. \\nWe can use this function in combination with the sorted() function and a custom key parameter to sort a dictionary by value.\\n\\n'"
      ]
     },
     "execution_count": 24,
     "metadata": {},
     "output_type": "execute_result"
    }
   ],
   "source": [
    "'''\n",
    "Let’s say that you have a dictionary and you want to sort it by key-value pairs.\n",
    "You can do this by using two functions together: items() and sorted(). \n",
    "\n",
    "The items() function allows you to retrieve the items in a dictionary. \n",
    "We can use this function in combination with the sorted() function and a custom key parameter to sort a dictionary by value.\n",
    "\n",
    "'''"
   ]
  },
  {
   "cell_type": "code",
   "execution_count": 25,
   "id": "0533fd10",
   "metadata": {},
   "outputs": [
    {
     "data": {
      "text/plain": [
       "'\\nimport operator\\n\\ndict1 = {1: 1, 2: 9, 3: 4}\\nsorted_tuples = sorted(dict1.items(), key=operator.itemgetter(1))\\nprint(sorted_tuples)  # [(1, 1), (3, 4), (2, 9)]\\n\\nsorted_dict = {}\\nfor k, v in sorted_tuples:\\n    sorted_dict[k] = v\\n\\nprint(sorted_dict)  # {1: 1, 3: 4, 2: 9}\\n\\n\\n'"
      ]
     },
     "execution_count": 25,
     "metadata": {},
     "output_type": "execute_result"
    }
   ],
   "source": [
    "'''\n",
    "import operator\n",
    "\n",
    "dict1 = {1: 1, 2: 9, 3: 4}\n",
    "sorted_tuples = sorted(dict1.items(), key=operator.itemgetter(1))\n",
    "print(sorted_tuples)  # [(1, 1), (3, 4), (2, 9)]\n",
    "\n",
    "sorted_dict = {}\n",
    "for k, v in sorted_tuples:\n",
    "    sorted_dict[k] = v\n",
    "\n",
    "print(sorted_dict)  # {1: 1, 3: 4, 2: 9}\n",
    "\n",
    "\n",
    "'''"
   ]
  },
  {
   "cell_type": "code",
   "execution_count": 26,
   "id": "73584f7c",
   "metadata": {},
   "outputs": [
    {
     "data": {
      "text/plain": [
       "'final={}\\nfor key,value in sorted(result.items(),key=lambda item:item[1] ):\\n    final.update({key:value})'"
      ]
     },
     "execution_count": 26,
     "metadata": {},
     "output_type": "execute_result"
    }
   ],
   "source": [
    "final={}\n",
    "for key,value in sorted(result.items(), key=lambda item: item[1]):\n",
    "    final[key]=value\n",
    "    \n",
    "### final={k: v for k, v in sorted(res.items(), key=lambda item: item[1])}\n",
    "\n",
    "## using update function..\n",
    "'''final={}\n",
    "for key,value in sorted(result.items(),key=lambda item:item[1] ):\n",
    "    final.update({key:value})'''"
   ]
  },
  {
   "cell_type": "code",
   "execution_count": 27,
   "id": "20d8faeb",
   "metadata": {},
   "outputs": [
    {
     "data": {
      "text/plain": [
       "{'♾': 1,\n",
       " '🤟': 1,\n",
       " '🧢': 1,\n",
       " '🤭': 1,\n",
       " '🤬': 1,\n",
       " '🤪': 1,\n",
       " '⚗': 2,\n",
       " '🗄': 2,\n",
       " '⏺': 2,\n",
       " '☣': 2,\n",
       " '🖲': 2,\n",
       " '🎏': 2,\n",
       " '⏸': 2,\n",
       " '⏹': 2,\n",
       " '🤨': 2,\n",
       " '🔟': 2,\n",
       " '☦': 2,\n",
       " '⚙': 2,\n",
       " '⏯': 2,\n",
       " '⏭': 2,\n",
       " '🏷': 2,\n",
       " '🛢': 2,\n",
       " '⚒': 2,\n",
       " '🖨': 2,\n",
       " '🖌': 3,\n",
       " '🏮': 3,\n",
       " '⛰': 3,\n",
       " '🗃': 3,\n",
       " '🔳': 3,\n",
       " '⏲': 3,\n",
       " '🔖': 3,\n",
       " '🛣': 3,\n",
       " '🗜': 3,\n",
       " '☂': 3,\n",
       " '🏑': 3,\n",
       " '💹': 3,\n",
       " '🗓': 3,\n",
       " '➗': 3,\n",
       " '🚏': 3,\n",
       " '⚛': 3,\n",
       " '☸': 3,\n",
       " '🗂': 3,\n",
       " '🗞': 3,\n",
       " '🗒': 3,\n",
       " '🤺': 3,\n",
       " '🎎': 3,\n",
       " '🗳': 3,\n",
       " '🖇': 3,\n",
       " '⏮': 3,\n",
       " '📴': 3,\n",
       " '◽': 3,\n",
       " '◼': 3,\n",
       " '🛩': 3,\n",
       " '🧐': 3,\n",
       " '🕉': 3,\n",
       " '◻': 3,\n",
       " '🚕': 3,\n",
       " '🕹': 3,\n",
       " '🛶': 3,\n",
       " '🏎': 3,\n",
       " '🕳': 3,\n",
       " '🈂': 4,\n",
       " '↕': 4,\n",
       " '⏫': 4,\n",
       " '🎞': 4,\n",
       " '🕚': 4,\n",
       " '🚟': 4,\n",
       " '🛤': 4,\n",
       " '🈸': 4,\n",
       " '🕒': 4,\n",
       " '🏛': 4,\n",
       " '✡': 4,\n",
       " '🚖': 4,\n",
       " '🕣': 4,\n",
       " '➿': 4,\n",
       " '🚃': 4,\n",
       " '🎐': 4,\n",
       " '🎛': 4,\n",
       " '🚎': 4,\n",
       " '🛬': 4,\n",
       " '⏱': 4,\n",
       " '🌥': 4,\n",
       " '⛩': 4,\n",
       " '🔹': 4,\n",
       " '🏖': 4,\n",
       " '🕍': 4,\n",
       " '🕟': 4,\n",
       " '🕦': 4,\n",
       " '🖼': 4,\n",
       " '🛂': 4,\n",
       " '🕘': 4,\n",
       " '🛃': 4,\n",
       " '🛵': 4,\n",
       " '🎽': 4,\n",
       " '🚚': 4,\n",
       " '🌫': 4,\n",
       " '☪': 4,\n",
       " '🛫': 4,\n",
       " '🥅': 4,\n",
       " '🕡': 4,\n",
       " '🔲': 4,\n",
       " '🌘': 4,\n",
       " 'Ⓜ': 4,\n",
       " '⏬': 4,\n",
       " '🈚': 4,\n",
       " '◾': 4,\n",
       " '🦍': 4,\n",
       " '🏧': 4,\n",
       " '🔗': 4,\n",
       " '🖊': 4,\n",
       " '🚜': 4,\n",
       " '🕙': 4,\n",
       " '🈷': 4,\n",
       " '🕗': 4,\n",
       " '⌨': 4,\n",
       " '🔚': 4,\n",
       " '🔏': 4,\n",
       " '🏚': 4,\n",
       " '🕑': 4,\n",
       " '🉑': 4,\n",
       " '↖': 4,\n",
       " '❔': 4,\n",
       " '🛳': 4,\n",
       " '⏪': 4,\n",
       " '🚐': 4,\n",
       " '🆔': 4,\n",
       " '🏔': 4,\n",
       " '🚉': 4,\n",
       " '🕠': 4,\n",
       " '🏘': 4,\n",
       " '🥜': 4,\n",
       " '⛓': 4,\n",
       " '🕔': 4,\n",
       " '🚧': 4,\n",
       " '🏤': 4,\n",
       " '🚛': 4,\n",
       " '🔃': 4,\n",
       " '🈺': 4,\n",
       " '🆖': 4,\n",
       " '🎚': 4,\n",
       " '🦏': 4,\n",
       " '🕜': 4,\n",
       " '🚄': 4,\n",
       " '🆚': 4,\n",
       " '⛏': 4,\n",
       " '🔄': 5,\n",
       " '🏇': 5,\n",
       " '🚍': 5,\n",
       " '📳': 5,\n",
       " '🚊': 5,\n",
       " '📑': 5,\n",
       " '❎': 5,\n",
       " '🏕': 5,\n",
       " '⛱': 5,\n",
       " '🏙': 5,\n",
       " '🈲': 5,\n",
       " '🏦': 5,\n",
       " '🌗': 5,\n",
       " '📶': 5,\n",
       " '🆎': 5,\n",
       " '🏺': 5,\n",
       " '🛅': 5,\n",
       " '🌖': 5,\n",
       " '🎿': 5,\n",
       " '🕢': 5,\n",
       " '🔣': 5,\n",
       " '🏰': 5,\n",
       " '🌂': 5,\n",
       " '🛥': 5,\n",
       " '↔': 5,\n",
       " '🕖': 5,\n",
       " '🔢': 5,\n",
       " '🚈': 5,\n",
       " '📋': 5,\n",
       " '↩': 5,\n",
       " '🚥': 5,\n",
       " '🗿': 5,\n",
       " '🚅': 5,\n",
       " '🕝': 5,\n",
       " '🕞': 5,\n",
       " '㊙': 5,\n",
       " '🎌': 5,\n",
       " '🔂': 5,\n",
       " '🕥': 5,\n",
       " '🆗': 5,\n",
       " '🗻': 5,\n",
       " '🕎': 5,\n",
       " '㊗': 5,\n",
       " '🆑': 5,\n",
       " '🔠': 5,\n",
       " '⛴': 5,\n",
       " '🥚': 5,\n",
       " '📃': 5,\n",
       " '💺': 5,\n",
       " '🌓': 5,\n",
       " '🎑': 5,\n",
       " '🔡': 5,\n",
       " '🚸': 5,\n",
       " '🏪': 5,\n",
       " '🚦': 5,\n",
       " '⛷': 5,\n",
       " '🚌': 5,\n",
       " '🈹': 5,\n",
       " '🏏': 5,\n",
       " '🛒': 5,\n",
       " '🔤': 5,\n",
       " '🏜': 6,\n",
       " '🚳': 6,\n",
       " '🚭': 6,\n",
       " '🦂': 6,\n",
       " '🌔': 6,\n",
       " '🈵': 6,\n",
       " '🏣': 6,\n",
       " '⛎': 6,\n",
       " '🏥': 6,\n",
       " '🕕': 6,\n",
       " '🏨': 6,\n",
       " '📤': 6,\n",
       " 'ℹ': 6,\n",
       " '📄': 6,\n",
       " '🔇': 6,\n",
       " '🌁': 6,\n",
       " '🔘': 6,\n",
       " '🥙': 6,\n",
       " '▫': 6,\n",
       " '📆': 6,\n",
       " '🥄': 6,\n",
       " '🤶': 6,\n",
       " '🎰': 6,\n",
       " '🖱': 6,\n",
       " '🥗': 6,\n",
       " '🛰': 6,\n",
       " '🗝': 6,\n",
       " '🛡': 6,\n",
       " '🏝': 6,\n",
       " '🛋': 6,\n",
       " '🚝': 6,\n",
       " '♿': 6,\n",
       " '📗': 6,\n",
       " '🚁': 6,\n",
       " '🗨': 6,\n",
       " '🚷': 6,\n",
       " '🕐': 6,\n",
       " '🕌': 6,\n",
       " '🛁': 6,\n",
       " '🕧': 6,\n",
       " '🏩': 6,\n",
       " '🏞': 6,\n",
       " '🤾': 6,\n",
       " '🌜': 6,\n",
       " '🔎': 6,\n",
       " '🚱': 6,\n",
       " '🕰': 6,\n",
       " '📊': 6,\n",
       " '♉': 6,\n",
       " '♒': 6,\n",
       " '📯': 6,\n",
       " '🤯': 6,\n",
       " '🚆': 6,\n",
       " '🗾': 6,\n",
       " '🏯': 7,\n",
       " '🛠': 7,\n",
       " '🏌': 7,\n",
       " '🕤': 7,\n",
       " '🖋': 7,\n",
       " '📮': 7,\n",
       " '🕓': 7,\n",
       " '📵': 7,\n",
       " '🚯': 7,\n",
       " '⚱': 7,\n",
       " '⛽': 7,\n",
       " '🛄': 7,\n",
       " '🔀': 7,\n",
       " '📪': 7,\n",
       " '⏳': 7,\n",
       " '🤩': 7,\n",
       " '🈶': 7,\n",
       " '🥋': 7,\n",
       " '🦉': 7,\n",
       " '📧': 7,\n",
       " '📔': 7,\n",
       " '🈯': 7,\n",
       " '⚔': 7,\n",
       " '♊': 7,\n",
       " '🎦': 7,\n",
       " '📍': 7,\n",
       " '🈁': 7,\n",
       " '♌': 7,\n",
       " '🛏': 7,\n",
       " '💈': 7,\n",
       " '👲': 7,\n",
       " '🏹': 7,\n",
       " '🚠': 7,\n",
       " '⤵': 7,\n",
       " '☢': 7,\n",
       " '🌦': 7,\n",
       " '🤹': 7,\n",
       " '🚡': 7,\n",
       " '📓': 7,\n",
       " '🚿': 7,\n",
       " '⤴': 7,\n",
       " '🌡': 7,\n",
       " '🔁': 7,\n",
       " '♓': 7,\n",
       " '🔈': 7,\n",
       " '⌛': 7,\n",
       " '🥈': 7,\n",
       " '♠': 7,\n",
       " '🥑': 7,\n",
       " '🖍': 7,\n",
       " '🆕': 7,\n",
       " '🌆': 7,\n",
       " '🍘': 7,\n",
       " '☔': 7,\n",
       " '💱': 7,\n",
       " '🚇': 7,\n",
       " '🉐': 7,\n",
       " '🦐': 7,\n",
       " '🚓': 7,\n",
       " '🕛': 7,\n",
       " '🏒': 7,\n",
       " '🚹': 7,\n",
       " '⚕': 8,\n",
       " '♍': 8,\n",
       " '🐿': 8,\n",
       " '🆓': 8,\n",
       " '🏵': 8,\n",
       " '🔦': 8,\n",
       " '⏩': 8,\n",
       " '🌄': 8,\n",
       " '♻': 8,\n",
       " '⛄': 8,\n",
       " '♈': 8,\n",
       " '▪': 8,\n",
       " '💾': 8,\n",
       " '🏟': 8,\n",
       " '⚪': 8,\n",
       " '👤': 8,\n",
       " '🍽': 8,\n",
       " '🔭': 8,\n",
       " '🤽': 8,\n",
       " '🚤': 8,\n",
       " '🥒': 8,\n",
       " '💠': 8,\n",
       " '🥉': 8,\n",
       " '📜': 8,\n",
       " '💮': 8,\n",
       " '🎪': 8,\n",
       " '🕯': 8,\n",
       " '🤼': 8,\n",
       " '〽': 8,\n",
       " '🤳': 8,\n",
       " '☘': 8,\n",
       " '📕': 8,\n",
       " '📒': 8,\n",
       " '📩': 8,\n",
       " '👝': 8,\n",
       " '📫': 8,\n",
       " '📇': 8,\n",
       " '📠': 8,\n",
       " '⚫': 8,\n",
       " '📸': 8,\n",
       " '📥': 8,\n",
       " '📙': 8,\n",
       " '↘': 8,\n",
       " '♐': 8,\n",
       " '🏬': 8,\n",
       " '🚞': 8,\n",
       " '🌇': 8,\n",
       " '📨': 9,\n",
       " '🏸': 9,\n",
       " '👴': 9,\n",
       " '🗯': 9,\n",
       " '✍': 9,\n",
       " '🥞': 9,\n",
       " '🏍': 9,\n",
       " '📬': 9,\n",
       " '📼': 9,\n",
       " '🎒': 9,\n",
       " '🛍': 9,\n",
       " '🚴': 9,\n",
       " '🔓': 9,\n",
       " '🐁': 9,\n",
       " '🔙': 9,\n",
       " '📭': 9,\n",
       " '🌒': 9,\n",
       " '👚': 9,\n",
       " '🐗': 9,\n",
       " '🔍': 9,\n",
       " '⛲': 9,\n",
       " '🈴': 9,\n",
       " '🔕': 9,\n",
       " '🎴': 9,\n",
       " '🏢': 9,\n",
       " '🤵': 9,\n",
       " '📟': 9,\n",
       " '⛺': 9,\n",
       " '🏂': 9,\n",
       " '📐': 9,\n",
       " '🎋': 9,\n",
       " '🥕': 9,\n",
       " '♑': 9,\n",
       " '📰': 9,\n",
       " '🐪': 9,\n",
       " '🚑': 9,\n",
       " '☑': 10,\n",
       " '👔': 10,\n",
       " '🏗': 10,\n",
       " '🚋': 10,\n",
       " '👡': 10,\n",
       " '🆙': 10,\n",
       " '📻': 10,\n",
       " '📌': 10,\n",
       " '🌳': 10,\n",
       " '👵': 10,\n",
       " '🈳': 10,\n",
       " '🕸': 10,\n",
       " '🛑': 10,\n",
       " '↪': 10,\n",
       " '🦊': 10,\n",
       " '📎': 10,\n",
       " '🐌': 10,\n",
       " '🥐': 10,\n",
       " '🐅': 10,\n",
       " '🚺': 10,\n",
       " '🌉': 10,\n",
       " '🥝': 10,\n",
       " '🦌': 10,\n",
       " '👜': 10,\n",
       " '⛹': 10,\n",
       " '⛅': 10,\n",
       " '🥖': 10,\n",
       " '🍙': 10,\n",
       " '🎖': 10,\n",
       " '📛': 10,\n",
       " '🦈': 10,\n",
       " '🔼': 11,\n",
       " '🧡': 11,\n",
       " '➖': 11,\n",
       " '🚰': 11,\n",
       " '📘': 11,\n",
       " '📞': 11,\n",
       " '🦑': 11,\n",
       " '⛸': 11,\n",
       " '🔋': 11,\n",
       " '📽': 11,\n",
       " '🚵': 11,\n",
       " '🔆': 11,\n",
       " '🀄': 11,\n",
       " '🔽': 11,\n",
       " '🗑': 11,\n",
       " '🛀': 11,\n",
       " '🚂': 11,\n",
       " '⛔': 11,\n",
       " '🌧': 11,\n",
       " '🌤': 11,\n",
       " '🦎': 11,\n",
       " '📅': 11,\n",
       " '🚢': 11,\n",
       " '👒': 12,\n",
       " '🔨': 12,\n",
       " '🦀': 12,\n",
       " '⛵': 12,\n",
       " '🚘': 12,\n",
       " '🎡': 12,\n",
       " '🍲': 12,\n",
       " '🐆': 12,\n",
       " '🐹': 12,\n",
       " '🐚': 12,\n",
       " '🥓': 12,\n",
       " '🛴': 12,\n",
       " '🎗': 12,\n",
       " '🎙': 12,\n",
       " '⏰': 12,\n",
       " '🛎': 12,\n",
       " '↙': 12,\n",
       " '🖥': 12,\n",
       " '🙎': 12,\n",
       " '🐀': 12,\n",
       " '🔉': 12,\n",
       " '🎫': 12,\n",
       " '📡': 12,\n",
       " '🚻': 12,\n",
       " '🐂': 12,\n",
       " '♋': 12,\n",
       " '⛳': 12,\n",
       " '⚖': 12,\n",
       " '👥': 12,\n",
       " '🏭': 12,\n",
       " '🚲': 12,\n",
       " '♣': 12,\n",
       " '♏': 13,\n",
       " '🏋': 13,\n",
       " '🌃': 13,\n",
       " '🐮': 13,\n",
       " '💢': 13,\n",
       " '💬': 13,\n",
       " '🥃': 13,\n",
       " '🦃': 13,\n",
       " '🚗': 13,\n",
       " '✏': 13,\n",
       " '🌬': 13,\n",
       " '🔧': 13,\n",
       " '☎': 13,\n",
       " '🅿': 13,\n",
       " '🐭': 13,\n",
       " '📈': 13,\n",
       " '🛐': 13,\n",
       " '🔺': 13,\n",
       " '✂': 13,\n",
       " '🍠': 13,\n",
       " '🌅': 13,\n",
       " '🔰': 14,\n",
       " '🛌': 14,\n",
       " '➕': 14,\n",
       " '↗': 14,\n",
       " '👘': 14,\n",
       " '🤰': 14,\n",
       " '✳': 14,\n",
       " '🚙': 14,\n",
       " '🔌': 14,\n",
       " '💊': 14,\n",
       " '👪': 14,\n",
       " '🔅': 14,\n",
       " '🚾': 14,\n",
       " '👛': 14,\n",
       " '💒': 14,\n",
       " '🚔': 14,\n",
       " '🥛': 14,\n",
       " '🌑': 14,\n",
       " '💉': 14,\n",
       " '📿': 14,\n",
       " '📺': 14,\n",
       " '🐃': 14,\n",
       " '🥘': 14,\n",
       " '🚶': 14,\n",
       " '➰': 14,\n",
       " '🎍': 14,\n",
       " '👷': 15,\n",
       " '🆘': 15,\n",
       " '🚣': 15,\n",
       " '🍮': 15,\n",
       " '♦': 15,\n",
       " '⬅': 15,\n",
       " '💼': 15,\n",
       " '🐡': 15,\n",
       " '🔩': 15,\n",
       " '💂': 15,\n",
       " '🎣': 15,\n",
       " '🗼': 15,\n",
       " '🏴': 15,\n",
       " '🐋': 15,\n",
       " '🥊': 15,\n",
       " '🦇': 15,\n",
       " '⬇': 15,\n",
       " '🍱': 16,\n",
       " '🍴': 16,\n",
       " '🔱': 16,\n",
       " '🎢': 16,\n",
       " '🕋': 16,\n",
       " '⚓': 16,\n",
       " '☯': 16,\n",
       " '🏊': 16,\n",
       " '🚼': 16,\n",
       " '🃏': 16,\n",
       " '🔞': 16,\n",
       " '🍢': 16,\n",
       " '🚩': 16,\n",
       " '🌨': 16,\n",
       " '🎺': 17,\n",
       " '🌾': 17,\n",
       " '👞': 17,\n",
       " '📏': 17,\n",
       " '☮': 17,\n",
       " '🎓': 17,\n",
       " '📦': 17,\n",
       " '🥔': 17,\n",
       " '🔛': 17,\n",
       " '🆒': 17,\n",
       " '🤝': 17,\n",
       " '✉': 17,\n",
       " '🏫': 17,\n",
       " '🐊': 17,\n",
       " '✖': 17,\n",
       " '🍧': 17,\n",
       " '❇': 18,\n",
       " '🍞': 18,\n",
       " '🕶': 18,\n",
       " '🏁': 18,\n",
       " '©': 18,\n",
       " '✒': 18,\n",
       " '🔜': 18,\n",
       " '🎾': 18,\n",
       " '⚜': 18,\n",
       " '📉': 18,\n",
       " '♎': 18,\n",
       " '🔒': 18,\n",
       " '👢': 19,\n",
       " '💡': 19,\n",
       " '🌭': 19,\n",
       " '🍤': 19,\n",
       " '⌚': 19,\n",
       " '🅾': 19,\n",
       " '🍄': 19,\n",
       " '🔻': 19,\n",
       " '📝': 19,\n",
       " '🌱': 19,\n",
       " '🗡': 19,\n",
       " '🙍': 20,\n",
       " '◀': 20,\n",
       " '🦅': 20,\n",
       " '🗽': 20,\n",
       " '🌐': 20,\n",
       " '🐵': 20,\n",
       " '💆': 20,\n",
       " '🐘': 20,\n",
       " '🐯': 20,\n",
       " '🍛': 21,\n",
       " '👓': 21,\n",
       " '🎭': 21,\n",
       " '🐔': 21,\n",
       " '🗺': 21,\n",
       " '🎳': 21,\n",
       " '🌛': 21,\n",
       " '⁉': 21,\n",
       " '🐠': 21,\n",
       " '⛪': 21,\n",
       " '💇': 22,\n",
       " '🏓': 22,\n",
       " '⚾': 22,\n",
       " '⛈': 22,\n",
       " '🐬': 22,\n",
       " '⭕': 22,\n",
       " '📷': 22,\n",
       " '🍥': 22,\n",
       " '🤚': 22,\n",
       " '🎨': 22,\n",
       " '📢': 22,\n",
       " '👂': 23,\n",
       " '🐽': 23,\n",
       " '💽': 23,\n",
       " '🐨': 23,\n",
       " '🎠': 23,\n",
       " '📲': 23,\n",
       " '🎷': 23,\n",
       " '🍣': 23,\n",
       " '🍵': 23,\n",
       " '🥁': 23,\n",
       " '✴': 23,\n",
       " '🐞': 23,\n",
       " '👕': 24,\n",
       " '🐎': 24,\n",
       " '😾': 24,\n",
       " '🤴': 24,\n",
       " '👗': 24,\n",
       " '👮': 24,\n",
       " '❓': 24,\n",
       " '🐛': 24,\n",
       " '🍨': 24,\n",
       " '🌀': 24,\n",
       " '🐳': 24,\n",
       " '🔬': 24,\n",
       " '🌪': 24,\n",
       " '🐴': 24,\n",
       " '👱': 24,\n",
       " '📹': 24,\n",
       " '📂': 25,\n",
       " '🕵': 25,\n",
       " '🏄': 25,\n",
       " '🍈': 25,\n",
       " '💷': 25,\n",
       " '🍅': 25,\n",
       " '🍯': 25,\n",
       " '🚽': 25,\n",
       " '🔐': 25,\n",
       " '🏡': 25,\n",
       " '😼': 25,\n",
       " '👳': 26,\n",
       " '❕': 26,\n",
       " '😽': 26,\n",
       " '🦁': 26,\n",
       " '🍝': 26,\n",
       " '🌵': 26,\n",
       " '🍋': 26,\n",
       " '📖': 26,\n",
       " '⛑': 26,\n",
       " '☄': 27,\n",
       " '👃': 27,\n",
       " '🚬': 27,\n",
       " '🤒': 27,\n",
       " '💻': 27,\n",
       " '🚒': 27,\n",
       " '🖖': 27,\n",
       " '🌿': 27,\n",
       " '🤖': 27,\n",
       " '⚰': 28,\n",
       " '🍳': 28,\n",
       " '🏠': 28,\n",
       " '🧀': 28,\n",
       " '🔑': 28,\n",
       " '🥀': 28,\n",
       " '🌶': 28,\n",
       " '🐲': 28,\n",
       " '🅰': 28,\n",
       " '🐇': 28,\n",
       " '🐖': 29,\n",
       " '🤜': 29,\n",
       " '🖐': 29,\n",
       " '🎩': 29,\n",
       " '🍚': 29,\n",
       " '🍹': 29,\n",
       " '🐄': 29,\n",
       " '🍶': 29,\n",
       " '🐉': 30,\n",
       " '🐧': 30,\n",
       " '💤': 31,\n",
       " '💳': 31,\n",
       " '🐙': 31,\n",
       " '👖': 31,\n",
       " '🎬': 31,\n",
       " '🔔': 32,\n",
       " '⬆': 32,\n",
       " '💏': 32,\n",
       " '💶': 32,\n",
       " '🐏': 32,\n",
       " '🤕': 32,\n",
       " '☃': 32,\n",
       " '👬': 32,\n",
       " '🌝': 32,\n",
       " '🤛': 33,\n",
       " '🕊': 33,\n",
       " '👫': 33,\n",
       " '🏐': 33,\n",
       " '🥂': 33,\n",
       " '🐈': 34,\n",
       " '🍀': 35,\n",
       " '🕷': 35,\n",
       " '🍌': 35,\n",
       " '👼': 36,\n",
       " '🐒': 36,\n",
       " '🍐': 36,\n",
       " '🏈': 36,\n",
       " '🎮': 36,\n",
       " '🌽': 36,\n",
       " '🕴': 37,\n",
       " '🔮': 37,\n",
       " '🐤': 37,\n",
       " '🐰': 38,\n",
       " '🐷': 38,\n",
       " '📁': 38,\n",
       " '🎟': 38,\n",
       " '👠': 39,\n",
       " '♨': 39,\n",
       " '🌲': 39,\n",
       " '🎯': 39,\n",
       " '👙': 39,\n",
       " '®': 39,\n",
       " '👟': 39,\n",
       " '📣': 40,\n",
       " '🎻': 40,\n",
       " '🐩': 40,\n",
       " '💴': 40,\n",
       " '🚮': 40,\n",
       " '🌕': 40,\n",
       " '🏅': 41,\n",
       " '🏉': 41,\n",
       " '🦆': 41,\n",
       " '🥇': 41,\n",
       " '🌙': 41,\n",
       " '🌠': 41,\n",
       " '✈': 42,\n",
       " '🌋': 42,\n",
       " '🍊': 43,\n",
       " '🍡': 43,\n",
       " '💭': 43,\n",
       " '🎲': 43,\n",
       " '🙉': 43,\n",
       " '💧': 43,\n",
       " '🍟': 43,\n",
       " '🍿': 43,\n",
       " '▶': 44,\n",
       " '™': 46,\n",
       " '🎀': 46,\n",
       " '👺': 48,\n",
       " '🦋': 48,\n",
       " '📚': 48,\n",
       " '🐜': 48,\n",
       " '🍖': 48,\n",
       " '🔸': 48,\n",
       " '🌰': 49,\n",
       " '🍎': 49,\n",
       " '👯': 49,\n",
       " '🔯': 49,\n",
       " '🏃': 49,\n",
       " '👹': 49,\n",
       " '🤥': 50,\n",
       " '🌯': 50,\n",
       " '🍒': 51,\n",
       " '🐼': 52,\n",
       " '🍼': 52,\n",
       " '👶': 53,\n",
       " '🌴': 54,\n",
       " '🌞': 54,\n",
       " '👭': 54,\n",
       " '🎅': 55,\n",
       " '🏳': 55,\n",
       " '🤸': 55,\n",
       " '🌏': 55,\n",
       " '🔊': 56,\n",
       " '🍏': 56,\n",
       " '☀': 57,\n",
       " '🚪': 57,\n",
       " '🎱': 57,\n",
       " '🐟': 57,\n",
       " '🍜': 59,\n",
       " '🍃': 59,\n",
       " '🍪': 59,\n",
       " '🤠': 60,\n",
       " '❌': 60,\n",
       " '👰': 60,\n",
       " '🤐': 61,\n",
       " '🌩': 61,\n",
       " '🍩': 61,\n",
       " '🙀': 62,\n",
       " '🌊': 62,\n",
       " '🗣': 64,\n",
       " '🙇': 64,\n",
       " '➡': 66,\n",
       " '🌚': 66,\n",
       " '💨': 67,\n",
       " '📀': 68,\n",
       " '⚠': 68,\n",
       " '🌮': 69,\n",
       " '🍺': 69,\n",
       " '👦': 69,\n",
       " '🤞': 69,\n",
       " '👆': 70,\n",
       " '🌌': 70,\n",
       " '🐦': 70,\n",
       " '💌': 71,\n",
       " '🐣': 71,\n",
       " '🚫': 72,\n",
       " '🍦': 73,\n",
       " '🍰': 73,\n",
       " '🌷': 73,\n",
       " '🕺': 74,\n",
       " '☕': 75,\n",
       " '😸': 75,\n",
       " '🔪': 76,\n",
       " '🎥': 76,\n",
       " '⚽': 76,\n",
       " '🍇': 77,\n",
       " '🏀': 78,\n",
       " '🍷': 80,\n",
       " '💍': 80,\n",
       " '👾': 81,\n",
       " '🌺': 81,\n",
       " '🎁': 81,\n",
       " '🍻': 83,\n",
       " '😺': 83,\n",
       " '👁': 83,\n",
       " '🌻': 84,\n",
       " '🎆': 86,\n",
       " '☁': 87,\n",
       " '💐': 88,\n",
       " '🍭': 89,\n",
       " '👄': 90,\n",
       " '🍬': 91,\n",
       " '🌎': 94,\n",
       " '🙆': 96,\n",
       " '🎄': 97,\n",
       " '🍉': 97,\n",
       " '🚀': 98,\n",
       " '✋': 99,\n",
       " '🍆': 100,\n",
       " '🍾': 101,\n",
       " '🔶': 103,\n",
       " '🐾': 103,\n",
       " '🐱': 103,\n",
       " '🔷': 103,\n",
       " '🐥': 104,\n",
       " '💲': 106,\n",
       " '💫': 107,\n",
       " '🤑': 108,\n",
       " '🌼': 108,\n",
       " '🐕': 108,\n",
       " '🤧': 109,\n",
       " '🐫': 111,\n",
       " '✅': 115,\n",
       " '🐑': 117,\n",
       " '👸': 120,\n",
       " '🏆': 121,\n",
       " '😟': 122,\n",
       " '🔫': 123,\n",
       " '🐸': 124,\n",
       " '💑': 125,\n",
       " '🎊': 125,\n",
       " '😿': 126,\n",
       " '👈': 126,\n",
       " '🍑': 127,\n",
       " '💅': 127,\n",
       " '🎸': 128,\n",
       " '🐻': 128,\n",
       " '🐓': 129,\n",
       " '👣': 130,\n",
       " '⚡': 133,\n",
       " '🙁': 133,\n",
       " '😷': 139,\n",
       " '🙊': 139,\n",
       " '❗': 140,\n",
       " '⬛': 141,\n",
       " '⬜': 142,\n",
       " '🔝': 143,\n",
       " '🙅': 143,\n",
       " '👧': 145,\n",
       " '🍸': 146,\n",
       " '😧': 146,\n",
       " '✝': 146,\n",
       " '🎹': 147,\n",
       " '👐': 147,\n",
       " '🤙': 147,\n",
       " '😯': 148,\n",
       " '👇': 151,\n",
       " '🍫': 152,\n",
       " '😦': 154,\n",
       " '☝': 156,\n",
       " '☠': 156,\n",
       " '🎂': 156,\n",
       " '🎼': 159,\n",
       " '👽': 162,\n",
       " '🍍': 165,\n",
       " '🎇': 165,\n",
       " '✔': 169,\n",
       " '☹': 173,\n",
       " '👿': 175,\n",
       " '😶': 176,\n",
       " '🤓': 176,\n",
       " '🚨': 176,\n",
       " '💄': 177,\n",
       " '💁': 180,\n",
       " '🌸': 185,\n",
       " '🎧': 186,\n",
       " '😴': 187,\n",
       " '👋': 193,\n",
       " '👅': 194,\n",
       " '💣': 197,\n",
       " '⭐': 198,\n",
       " '😹': 201,\n",
       " '👉': 204,\n",
       " '❄': 206,\n",
       " '🅱': 207,\n",
       " '‼': 211,\n",
       " '👨': 212,\n",
       " '🍁': 223,\n",
       " '🐐': 224,\n",
       " '📱': 231,\n",
       " '😰': 231,\n",
       " '💸': 235,\n",
       " '😪': 249,\n",
       " '🍓': 252,\n",
       " '🙃': 253,\n",
       " '🍕': 258,\n",
       " '🐝': 261,\n",
       " '😛': 266,\n",
       " '👻': 268,\n",
       " '👩': 270,\n",
       " '🤢': 274,\n",
       " '😵': 277,\n",
       " '😓': 280,\n",
       " '🙋': 282,\n",
       " '🎵': 284,\n",
       " '😖': 287,\n",
       " '✊': 289,\n",
       " '〰': 290,\n",
       " '🐺': 303,\n",
       " '🤡': 305,\n",
       " '🙈': 312,\n",
       " '💎': 316,\n",
       " '🐶': 325,\n",
       " '🍗': 327,\n",
       " '🤷': 334,\n",
       " '😨': 335,\n",
       " '😌': 338,\n",
       " '💥': 344,\n",
       " '🍂': 354,\n",
       " '😗': 354,\n",
       " '🌈': 359,\n",
       " '🎤': 360,\n",
       " '😞': 364,\n",
       " '😤': 378,\n",
       " '👊': 379,\n",
       " '🐢': 380,\n",
       " '😣': 381,\n",
       " '💃': 382,\n",
       " '🤤': 389,\n",
       " '🤦': 390,\n",
       " '🦄': 391,\n",
       " '😈': 393,\n",
       " '😳': 398,\n",
       " '😝': 413,\n",
       " ...}"
      ]
     },
     "execution_count": 27,
     "metadata": {},
     "output_type": "execute_result"
    }
   ],
   "source": [
    "final"
   ]
  },
  {
   "cell_type": "markdown",
   "id": "d57e3671",
   "metadata": {},
   "source": [
    "###  convert dictionary into 2 lists--\n",
    "    1..using loop along with items() function of dictionary\n",
    "    2..unzip \n"
   ]
  },
  {
   "cell_type": "code",
   "execution_count": 28,
   "id": "51387475",
   "metadata": {},
   "outputs": [
    {
     "data": {
      "text/plain": [
       "'\\nkeys, values = [], []\\nfor key, value in final.items():\\n    keys.append(key)\\n    values.append(value)\\n\\n'"
      ]
     },
     "execution_count": 28,
     "metadata": {},
     "output_type": "execute_result"
    }
   ],
   "source": [
    "'''\n",
    "keys, values = [], []\n",
    "for key, value in final.items():\n",
    "    keys.append(key)\n",
    "    values.append(value)\n",
    "\n",
    "'''"
   ]
  },
  {
   "cell_type": "code",
   "execution_count": 29,
   "id": "8455c9b7",
   "metadata": {},
   "outputs": [],
   "source": [
    "## convert dictionary into list for this we have to unzip \n",
    "keys=[*final.keys()]\n",
    "values=[*final.values()]"
   ]
  },
  {
   "cell_type": "code",
   "execution_count": 31,
   "id": "63a3ed1f",
   "metadata": {},
   "outputs": [
    {
     "data": {
      "text/html": [
       "<div>\n",
       "<style scoped>\n",
       "    .dataframe tbody tr th:only-of-type {\n",
       "        vertical-align: middle;\n",
       "    }\n",
       "\n",
       "    .dataframe tbody tr th {\n",
       "        vertical-align: top;\n",
       "    }\n",
       "\n",
       "    .dataframe thead th {\n",
       "        text-align: right;\n",
       "    }\n",
       "</style>\n",
       "<table border=\"1\" class=\"dataframe\">\n",
       "  <thead>\n",
       "    <tr style=\"text-align: right;\">\n",
       "      <th></th>\n",
       "      <th>chars</th>\n",
       "      <th>num</th>\n",
       "    </tr>\n",
       "  </thead>\n",
       "  <tbody>\n",
       "    <tr>\n",
       "      <th>0</th>\n",
       "      <td>🤣</td>\n",
       "      <td>2279</td>\n",
       "    </tr>\n",
       "    <tr>\n",
       "      <th>1</th>\n",
       "      <td>🏼</td>\n",
       "      <td>2549</td>\n",
       "    </tr>\n",
       "    <tr>\n",
       "      <th>2</th>\n",
       "      <td>😢</td>\n",
       "      <td>2672</td>\n",
       "    </tr>\n",
       "    <tr>\n",
       "      <th>3</th>\n",
       "      <td>💙</td>\n",
       "      <td>2831</td>\n",
       "    </tr>\n",
       "    <tr>\n",
       "      <th>4</th>\n",
       "      <td>👌</td>\n",
       "      <td>3112</td>\n",
       "    </tr>\n",
       "    <tr>\n",
       "      <th>5</th>\n",
       "      <td>😬</td>\n",
       "      <td>3381</td>\n",
       "    </tr>\n",
       "    <tr>\n",
       "      <th>6</th>\n",
       "      <td>💜</td>\n",
       "      <td>3429</td>\n",
       "    </tr>\n",
       "    <tr>\n",
       "      <th>7</th>\n",
       "      <td>🏻</td>\n",
       "      <td>3438</td>\n",
       "    </tr>\n",
       "    <tr>\n",
       "      <th>8</th>\n",
       "      <td>😊</td>\n",
       "      <td>3596</td>\n",
       "    </tr>\n",
       "    <tr>\n",
       "      <th>9</th>\n",
       "      <td>♥</td>\n",
       "      <td>4909</td>\n",
       "    </tr>\n",
       "    <tr>\n",
       "      <th>10</th>\n",
       "      <td>💕</td>\n",
       "      <td>5147</td>\n",
       "    </tr>\n",
       "    <tr>\n",
       "      <th>11</th>\n",
       "      <td>💖</td>\n",
       "      <td>5359</td>\n",
       "    </tr>\n",
       "    <tr>\n",
       "      <th>12</th>\n",
       "      <td>👍</td>\n",
       "      <td>5476</td>\n",
       "    </tr>\n",
       "    <tr>\n",
       "      <th>13</th>\n",
       "      <td>😘</td>\n",
       "      <td>5545</td>\n",
       "    </tr>\n",
       "    <tr>\n",
       "      <th>14</th>\n",
       "      <td>👏</td>\n",
       "      <td>5719</td>\n",
       "    </tr>\n",
       "    <tr>\n",
       "      <th>15</th>\n",
       "      <td>😭</td>\n",
       "      <td>8398</td>\n",
       "    </tr>\n",
       "    <tr>\n",
       "      <th>16</th>\n",
       "      <td>🔥</td>\n",
       "      <td>8694</td>\n",
       "    </tr>\n",
       "    <tr>\n",
       "      <th>17</th>\n",
       "      <td>❤</td>\n",
       "      <td>31119</td>\n",
       "    </tr>\n",
       "    <tr>\n",
       "      <th>18</th>\n",
       "      <td>😍</td>\n",
       "      <td>33453</td>\n",
       "    </tr>\n",
       "    <tr>\n",
       "      <th>19</th>\n",
       "      <td>😂</td>\n",
       "      <td>36987</td>\n",
       "    </tr>\n",
       "  </tbody>\n",
       "</table>\n",
       "</div>"
      ],
      "text/plain": [
       "   chars    num\n",
       "0      🤣   2279\n",
       "1      🏼   2549\n",
       "2      😢   2672\n",
       "3      💙   2831\n",
       "4      👌   3112\n",
       "5      😬   3381\n",
       "6      💜   3429\n",
       "7      🏻   3438\n",
       "8      😊   3596\n",
       "9      ♥   4909\n",
       "10     💕   5147\n",
       "11     💖   5359\n",
       "12     👍   5476\n",
       "13     😘   5545\n",
       "14     👏   5719\n",
       "15     😭   8398\n",
       "16     🔥   8694\n",
       "17     ❤  31119\n",
       "18     😍  33453\n",
       "19     😂  36987"
      ]
     },
     "execution_count": 31,
     "metadata": {},
     "output_type": "execute_result"
    }
   ],
   "source": [
    "df = pd.DataFrame({'chars':keys[-20:], 'num':values[-20:]})\n",
    "df"
   ]
  },
  {
   "cell_type": "code",
   "execution_count": null,
   "id": "345d2ffc",
   "metadata": {},
   "outputs": [],
   "source": []
  },
  {
   "cell_type": "code",
   "execution_count": 32,
   "id": "512d0436",
   "metadata": {},
   "outputs": [],
   "source": [
    "import plotly.graph_objs as go\n",
    "from plotly.offline import iplot"
   ]
  },
  {
   "cell_type": "code",
   "execution_count": 33,
   "id": "d3ad537e",
   "metadata": {},
   "outputs": [],
   "source": [
    "### modules that can think of-->>\n",
    "# Pandas , Matplotlib , Seaborn , Plotnine(ggplot) , Bokeh , pygal , Plotly"
   ]
  },
  {
   "cell_type": "code",
   "execution_count": 34,
   "id": "d1e3516c",
   "metadata": {},
   "outputs": [],
   "source": [
    "trace=go.Bar(x = df['chars'],\n",
    "             y = df['num']\n",
    "            )\n",
    "# iplot([trace])                      "
   ]
  },
  {
   "cell_type": "code",
   "execution_count": null,
   "id": "5a5e49f5",
   "metadata": {},
   "outputs": [],
   "source": []
  },
  {
   "cell_type": "code",
   "execution_count": null,
   "id": "8159660c",
   "metadata": {},
   "outputs": [],
   "source": []
  },
  {
   "cell_type": "code",
   "execution_count": null,
   "id": "1d13d9e0",
   "metadata": {},
   "outputs": [],
   "source": []
  },
  {
   "cell_type": "markdown",
   "id": "4f01be51",
   "metadata": {},
   "source": [
    "### 4..Lets collect data"
   ]
  },
  {
   "cell_type": "markdown",
   "id": "94ab10e6",
   "metadata": {},
   "source": [
    "### Now lets store entire data of all countries in full_df\n",
    "    Ways to do it--\n",
    "    1) using os , access all the files..\n",
    "        a)using while loop & pd.merge()\n",
    "        b)using for loop & pd.merge()\n",
    "        c)using while loop & pd.concat()\n",
    "        d)using for loop & pd.concat()\n",
    "\n",
    "    2)using glob , find all the files along with the path..\n",
    "        a)using dataframe & concat\n",
    "        b)using list & append"
   ]
  },
  {
   "cell_type": "code",
   "execution_count": 35,
   "id": "96c3e3fe",
   "metadata": {},
   "outputs": [],
   "source": [
    "path=r'G:\\Data Science projects\\EDA_Projects\\Youtube\\Updated_data'"
   ]
  },
  {
   "cell_type": "code",
   "execution_count": 36,
   "id": "f754e6f2",
   "metadata": {},
   "outputs": [],
   "source": [
    "import os"
   ]
  },
  {
   "cell_type": "code",
   "execution_count": 37,
   "id": "e3f3e378",
   "metadata": {},
   "outputs": [
    {
     "data": {
      "text/plain": [
       "['CA_category_id.json',\n",
       " 'CAvideos.csv',\n",
       " 'DE_category_id.json',\n",
       " 'DEvideos.csv',\n",
       " 'FR_category_id.json',\n",
       " 'FRvideos.csv',\n",
       " 'GB_category_id.json',\n",
       " 'GBvideos.csv',\n",
       " 'IN_category_id.json',\n",
       " 'INvideos.csv',\n",
       " 'JP_category_id.json',\n",
       " 'JPvideos.csv',\n",
       " 'KR_category_id.json',\n",
       " 'KRvideos.csv',\n",
       " 'MX_category_id.json',\n",
       " 'MXvideos.csv',\n",
       " 'RU_category_id.json',\n",
       " 'RUvideos.csv',\n",
       " 'US_category_id.json',\n",
       " 'USvideos.csv']"
      ]
     },
     "execution_count": 37,
     "metadata": {},
     "output_type": "execute_result"
    }
   ],
   "source": [
    "os.listdir(path)  "
   ]
  },
  {
   "cell_type": "code",
   "execution_count": 38,
   "id": "952c3612",
   "metadata": {},
   "outputs": [
    {
     "data": {
      "text/plain": [
       "['CA_category_id.json',\n",
       " 'CAvideos.csv',\n",
       " 'DE_category_id.json',\n",
       " 'DEvideos.csv',\n",
       " 'FR_category_id.json',\n",
       " 'FRvideos.csv',\n",
       " 'GB_category_id.json',\n",
       " 'GBvideos.csv',\n",
       " 'IN_category_id.json',\n",
       " 'INvideos.csv',\n",
       " 'JP_category_id.json',\n",
       " 'JPvideos.csv',\n",
       " 'KR_category_id.json',\n",
       " 'KRvideos.csv',\n",
       " 'MX_category_id.json',\n",
       " 'MXvideos.csv',\n",
       " 'RU_category_id.json',\n",
       " 'RUvideos.csv',\n",
       " 'US_category_id.json',\n",
       " 'USvideos.csv']"
      ]
     },
     "execution_count": 38,
     "metadata": {},
     "output_type": "execute_result"
    }
   ],
   "source": [
    "files=os.listdir(path)\n",
    "files"
   ]
  },
  {
   "cell_type": "code",
   "execution_count": 39,
   "id": "802cae7c",
   "metadata": {},
   "outputs": [
    {
     "name": "stdout",
     "output_type": "stream",
     "text": [
      "CAvideos.csv\n",
      "DEvideos.csv\n",
      "FRvideos.csv\n",
      "GBvideos.csv\n",
      "INvideos.csv\n",
      "JPvideos.csv\n",
      "KRvideos.csv\n",
      "MXvideos.csv\n",
      "RUvideos.csv\n",
      "USvideos.csv\n"
     ]
    }
   ],
   "source": [
    "for i in range(1,len(files),2):\n",
    "    print(files[i])"
   ]
  },
  {
   "cell_type": "code",
   "execution_count": 40,
   "id": "da9b44d1",
   "metadata": {},
   "outputs": [
    {
     "data": {
      "text/plain": [
       "['CAvideos.csv',\n",
       " 'DEvideos.csv',\n",
       " 'FRvideos.csv',\n",
       " 'GBvideos.csv',\n",
       " 'INvideos.csv',\n",
       " 'JPvideos.csv',\n",
       " 'KRvideos.csv',\n",
       " 'MXvideos.csv',\n",
       " 'RUvideos.csv',\n",
       " 'USvideos.csv']"
      ]
     },
     "execution_count": 40,
     "metadata": {},
     "output_type": "execute_result"
    }
   ],
   "source": [
    "files=[files[i] for i in range(1,len(files),2)]\n",
    "files"
   ]
  },
  {
   "cell_type": "markdown",
   "id": "8d94a537",
   "metadata": {},
   "source": [
    "### different types of encoding-->>\n",
    "    Try calling read_csv with encoding='latin1',\n",
    "        encoding='iso-8859-1' or encoding='cp1252'\n",
    "    By-default is UTF-8\n",
    "    \n",
    "    Again , encoding may change depending upon data  ,\n",
    "    country data , sometimes regional data as well.\n",
    "    Fore more inforation on Encoding -- Follow below\n",
    "### https://docs.python.org/3/library/codecs.html#standard-encodings¶"
   ]
  },
  {
   "cell_type": "code",
   "execution_count": 41,
   "id": "b75184f9",
   "metadata": {},
   "outputs": [
    {
     "data": {
      "text/html": [
       "<div>\n",
       "<style scoped>\n",
       "    .dataframe tbody tr th:only-of-type {\n",
       "        vertical-align: middle;\n",
       "    }\n",
       "\n",
       "    .dataframe tbody tr th {\n",
       "        vertical-align: top;\n",
       "    }\n",
       "\n",
       "    .dataframe thead th {\n",
       "        text-align: right;\n",
       "    }\n",
       "</style>\n",
       "<table border=\"1\" class=\"dataframe\">\n",
       "  <thead>\n",
       "    <tr style=\"text-align: right;\">\n",
       "      <th></th>\n",
       "      <th>video_id</th>\n",
       "      <th>trending_date</th>\n",
       "      <th>title</th>\n",
       "      <th>channel_title</th>\n",
       "      <th>category_id</th>\n",
       "      <th>publish_time</th>\n",
       "      <th>tags</th>\n",
       "      <th>views</th>\n",
       "      <th>likes</th>\n",
       "      <th>dislikes</th>\n",
       "      <th>comment_count</th>\n",
       "      <th>thumbnail_link</th>\n",
       "      <th>comments_disabled</th>\n",
       "      <th>ratings_disabled</th>\n",
       "      <th>video_error_or_removed</th>\n",
       "      <th>description</th>\n",
       "      <th>country</th>\n",
       "    </tr>\n",
       "  </thead>\n",
       "  <tbody>\n",
       "    <tr>\n",
       "      <th>0</th>\n",
       "      <td>n1WpP7iowLc</td>\n",
       "      <td>17.14.11</td>\n",
       "      <td>Eminem - Walk On Water (Audio) ft. BeyoncÃ©</td>\n",
       "      <td>EminemVEVO</td>\n",
       "      <td>10</td>\n",
       "      <td>2017-11-10T17:00:03.000Z</td>\n",
       "      <td>Eminem|\"Walk\"|\"On\"|\"Water\"|\"Aftermath/Shady/In...</td>\n",
       "      <td>17158579</td>\n",
       "      <td>787425</td>\n",
       "      <td>43420</td>\n",
       "      <td>125882</td>\n",
       "      <td>https://i.ytimg.com/vi/n1WpP7iowLc/default.jpg</td>\n",
       "      <td>False</td>\n",
       "      <td>False</td>\n",
       "      <td>False</td>\n",
       "      <td>Eminem's new track Walk on Water ft. BeyoncÃ© ...</td>\n",
       "      <td>CA</td>\n",
       "    </tr>\n",
       "    <tr>\n",
       "      <th>1</th>\n",
       "      <td>0dBIkQ4Mz1M</td>\n",
       "      <td>17.14.11</td>\n",
       "      <td>PLUSH - Bad Unboxing Fan Mail</td>\n",
       "      <td>iDubbbzTV</td>\n",
       "      <td>23</td>\n",
       "      <td>2017-11-13T17:00:00.000Z</td>\n",
       "      <td>plush|\"bad unboxing\"|\"unboxing\"|\"fan mail\"|\"id...</td>\n",
       "      <td>1014651</td>\n",
       "      <td>127794</td>\n",
       "      <td>1688</td>\n",
       "      <td>13030</td>\n",
       "      <td>https://i.ytimg.com/vi/0dBIkQ4Mz1M/default.jpg</td>\n",
       "      <td>False</td>\n",
       "      <td>False</td>\n",
       "      <td>False</td>\n",
       "      <td>STill got a lot of packages. Probably will las...</td>\n",
       "      <td>CA</td>\n",
       "    </tr>\n",
       "    <tr>\n",
       "      <th>2</th>\n",
       "      <td>5qpjK5DgCt4</td>\n",
       "      <td>17.14.11</td>\n",
       "      <td>Racist Superman | Rudy Mancuso, King Bach &amp; Le...</td>\n",
       "      <td>Rudy Mancuso</td>\n",
       "      <td>23</td>\n",
       "      <td>2017-11-12T19:05:24.000Z</td>\n",
       "      <td>racist superman|\"rudy\"|\"mancuso\"|\"king\"|\"bach\"...</td>\n",
       "      <td>3191434</td>\n",
       "      <td>146035</td>\n",
       "      <td>5339</td>\n",
       "      <td>8181</td>\n",
       "      <td>https://i.ytimg.com/vi/5qpjK5DgCt4/default.jpg</td>\n",
       "      <td>False</td>\n",
       "      <td>False</td>\n",
       "      <td>False</td>\n",
       "      <td>WATCH MY PREVIOUS VIDEO â¶ \\n\\nSUBSCRIBE âº ...</td>\n",
       "      <td>CA</td>\n",
       "    </tr>\n",
       "  </tbody>\n",
       "</table>\n",
       "</div>"
      ],
      "text/plain": [
       "      video_id trending_date  \\\n",
       "0  n1WpP7iowLc      17.14.11   \n",
       "1  0dBIkQ4Mz1M      17.14.11   \n",
       "2  5qpjK5DgCt4      17.14.11   \n",
       "\n",
       "                                               title channel_title  \\\n",
       "0        Eminem - Walk On Water (Audio) ft. BeyoncÃ©    EminemVEVO   \n",
       "1                      PLUSH - Bad Unboxing Fan Mail     iDubbbzTV   \n",
       "2  Racist Superman | Rudy Mancuso, King Bach & Le...  Rudy Mancuso   \n",
       "\n",
       "   category_id              publish_time  \\\n",
       "0           10  2017-11-10T17:00:03.000Z   \n",
       "1           23  2017-11-13T17:00:00.000Z   \n",
       "2           23  2017-11-12T19:05:24.000Z   \n",
       "\n",
       "                                                tags     views   likes  \\\n",
       "0  Eminem|\"Walk\"|\"On\"|\"Water\"|\"Aftermath/Shady/In...  17158579  787425   \n",
       "1  plush|\"bad unboxing\"|\"unboxing\"|\"fan mail\"|\"id...   1014651  127794   \n",
       "2  racist superman|\"rudy\"|\"mancuso\"|\"king\"|\"bach\"...   3191434  146035   \n",
       "\n",
       "   dislikes  comment_count                                  thumbnail_link  \\\n",
       "0     43420         125882  https://i.ytimg.com/vi/n1WpP7iowLc/default.jpg   \n",
       "1      1688          13030  https://i.ytimg.com/vi/0dBIkQ4Mz1M/default.jpg   \n",
       "2      5339           8181  https://i.ytimg.com/vi/5qpjK5DgCt4/default.jpg   \n",
       "\n",
       "   comments_disabled  ratings_disabled  video_error_or_removed  \\\n",
       "0              False             False                   False   \n",
       "1              False             False                   False   \n",
       "2              False             False                   False   \n",
       "\n",
       "                                         description country  \n",
       "0  Eminem's new track Walk on Water ft. BeyoncÃ© ...      CA  \n",
       "1  STill got a lot of packages. Probably will las...      CA  \n",
       "2  WATCH MY PREVIOUS VIDEO â¶ \\n\\nSUBSCRIBE âº ...      CA  "
      ]
     },
     "execution_count": 41,
     "metadata": {},
     "output_type": "execute_result"
    }
   ],
   "source": [
    "#now to create a final dataframe with all the datapoints in it of all the countries..\n",
    "\n",
    "\n",
    "full_df = pd.DataFrame()\n",
    "for file in files:\n",
    "    \n",
    "    ## define encoding as in japanese data , we are getting UnicodeDecode error..\n",
    "    current_df = pd.read_csv(path+'/'+file,encoding='iso-8859-1',error_bad_lines=False)\n",
    "    \n",
    "    ### inserting country column in dataframe..\n",
    "    current_df['country'] = file.split('.')[0][0:2]\n",
    "    full_df=pd.concat([full_df,current_df])\n",
    "\n",
    "full_df.head(3)\n"
   ]
  },
  {
   "cell_type": "code",
   "execution_count": 42,
   "id": "5cefae3c",
   "metadata": {},
   "outputs": [
    {
     "data": {
      "text/plain": [
       "(375942, 17)"
      ]
     },
     "execution_count": 42,
     "metadata": {},
     "output_type": "execute_result"
    }
   ],
   "source": [
    "full_df.shape"
   ]
  },
  {
   "cell_type": "code",
   "execution_count": 43,
   "id": "e5d90e05",
   "metadata": {},
   "outputs": [
    {
     "data": {
      "text/plain": [
       "video_id                      0\n",
       "trending_date                 0\n",
       "title                         0\n",
       "channel_title                 0\n",
       "category_id                   0\n",
       "publish_time                  0\n",
       "tags                          0\n",
       "views                         0\n",
       "likes                         0\n",
       "dislikes                      0\n",
       "comment_count                 0\n",
       "thumbnail_link                0\n",
       "comments_disabled             0\n",
       "ratings_disabled              0\n",
       "video_error_or_removed        0\n",
       "description               19478\n",
       "country                       0\n",
       "dtype: int64"
      ]
     },
     "execution_count": 43,
     "metadata": {},
     "output_type": "execute_result"
    }
   ],
   "source": [
    "full_df.isnull().sum()"
   ]
  },
  {
   "cell_type": "code",
   "execution_count": 44,
   "id": "834837b8",
   "metadata": {},
   "outputs": [],
   "source": [
    "### but imagine what if there are 100 datasets including \n",
    "# json ,txt , tsv & csv & u have to read specific files ie csv..\n",
    "### at that time ,above will not be very handy..\n",
    "\n",
    "\n",
    "### lets use some better approaches for it..\n",
    "### lets store only csv files bcz it makes sense in real-world scenarios..\n",
    "### lets store all the csv in a separate list \\\n",
    "    # along with path using glob module.."
   ]
  },
  {
   "cell_type": "code",
   "execution_count": null,
   "id": "b49a3a9f",
   "metadata": {},
   "outputs": [],
   "source": []
  },
  {
   "cell_type": "code",
   "execution_count": null,
   "id": "35864055",
   "metadata": {},
   "outputs": [],
   "source": []
  },
  {
   "cell_type": "markdown",
   "id": "8a4e1e3d",
   "metadata": {},
   "source": [
    "### 5..distribution of likes of all categories  ,\\\n",
    "    # which category has maximum likes ?"
   ]
  },
  {
   "cell_type": "code",
   "execution_count": null,
   "id": "81908037",
   "metadata": {},
   "outputs": [],
   "source": [
    "### first we need category_name"
   ]
  },
  {
   "cell_type": "markdown",
   "id": "9131d0ff",
   "metadata": {},
   "source": [
    "### Assigning category_name from ccategory_id\n",
    "    Ways to do it..\n",
    "    1.Reading txt file\n",
    "    2.Reading json file"
   ]
  },
  {
   "cell_type": "code",
   "execution_count": 46,
   "id": "e673136a",
   "metadata": {},
   "outputs": [
    {
     "data": {
      "text/plain": [
       "array([10, 23, 24, 25, 22, 26,  1, 28, 20, 17, 29, 15, 19,  2, 27, 43, 30,\n",
       "       44], dtype=int64)"
      ]
     },
     "execution_count": 46,
     "metadata": {},
     "output_type": "execute_result"
    }
   ],
   "source": [
    "full_df['category_id'].unique()"
   ]
  },
  {
   "cell_type": "code",
   "execution_count": 47,
   "id": "545cbdd2",
   "metadata": {},
   "outputs": [
    {
     "data": {
      "text/html": [
       "<div>\n",
       "<style scoped>\n",
       "    .dataframe tbody tr th:only-of-type {\n",
       "        vertical-align: middle;\n",
       "    }\n",
       "\n",
       "    .dataframe tbody tr th {\n",
       "        vertical-align: top;\n",
       "    }\n",
       "\n",
       "    .dataframe thead th {\n",
       "        text-align: right;\n",
       "    }\n",
       "</style>\n",
       "<table border=\"1\" class=\"dataframe\">\n",
       "  <thead>\n",
       "    <tr style=\"text-align: right;\">\n",
       "      <th></th>\n",
       "      <th>Category_id      Category_name</th>\n",
       "    </tr>\n",
       "  </thead>\n",
       "  <tbody>\n",
       "    <tr>\n",
       "      <th>1</th>\n",
       "      <td>Film &amp; Animation</td>\n",
       "    </tr>\n",
       "    <tr>\n",
       "      <th>2</th>\n",
       "      <td>Autos &amp; Vehicles</td>\n",
       "    </tr>\n",
       "    <tr>\n",
       "      <th>10</th>\n",
       "      <td>Music</td>\n",
       "    </tr>\n",
       "  </tbody>\n",
       "</table>\n",
       "</div>"
      ],
      "text/plain": [
       "   Category_id      Category_name\n",
       "1                Film & Animation\n",
       "2                Autos & Vehicles\n",
       "10                          Music"
      ]
     },
     "execution_count": 47,
     "metadata": {},
     "output_type": "execute_result"
    }
   ],
   "source": [
    "#read text file..\n",
    "cat=pd.read_csv(r'G:\\Data Science projects\\EDA_Projects\\\\\n",
    "                Youtube/category_file.txt',sep=':')\n",
    "cat.head(3)"
   ]
  },
  {
   "cell_type": "code",
   "execution_count": 48,
   "id": "ae88795b",
   "metadata": {},
   "outputs": [],
   "source": [
    "cat.reset_index(inplace=True)\n",
    "cat.columns=['category_id','category_columns']\n",
    "cat.set_index('category_id',inplace=True)"
   ]
  },
  {
   "cell_type": "code",
   "execution_count": 49,
   "id": "af17c38e",
   "metadata": {},
   "outputs": [
    {
     "data": {
      "text/html": [
       "<div>\n",
       "<style scoped>\n",
       "    .dataframe tbody tr th:only-of-type {\n",
       "        vertical-align: middle;\n",
       "    }\n",
       "\n",
       "    .dataframe tbody tr th {\n",
       "        vertical-align: top;\n",
       "    }\n",
       "\n",
       "    .dataframe thead th {\n",
       "        text-align: right;\n",
       "    }\n",
       "</style>\n",
       "<table border=\"1\" class=\"dataframe\">\n",
       "  <thead>\n",
       "    <tr style=\"text-align: right;\">\n",
       "      <th></th>\n",
       "      <th>category_columns</th>\n",
       "    </tr>\n",
       "    <tr>\n",
       "      <th>category_id</th>\n",
       "      <th></th>\n",
       "    </tr>\n",
       "  </thead>\n",
       "  <tbody>\n",
       "    <tr>\n",
       "      <th>1</th>\n",
       "      <td>Film &amp; Animation</td>\n",
       "    </tr>\n",
       "    <tr>\n",
       "      <th>2</th>\n",
       "      <td>Autos &amp; Vehicles</td>\n",
       "    </tr>\n",
       "    <tr>\n",
       "      <th>10</th>\n",
       "      <td>Music</td>\n",
       "    </tr>\n",
       "  </tbody>\n",
       "</table>\n",
       "</div>"
      ],
      "text/plain": [
       "              category_columns\n",
       "category_id                   \n",
       "1             Film & Animation\n",
       "2             Autos & Vehicles\n",
       "10                       Music"
      ]
     },
     "execution_count": 49,
     "metadata": {},
     "output_type": "execute_result"
    }
   ],
   "source": [
    "cat.head(3)"
   ]
  },
  {
   "cell_type": "code",
   "execution_count": null,
   "id": "565e278e",
   "metadata": {},
   "outputs": [],
   "source": [
    "### lets convert this dataframe into dictionary \\\n",
    "# & map it on category_id to get my category_names"
   ]
  },
  {
   "cell_type": "code",
   "execution_count": 50,
   "id": "6a1575ea",
   "metadata": {},
   "outputs": [],
   "source": [
    "dct=cat.to_dict()"
   ]
  },
  {
   "cell_type": "code",
   "execution_count": 51,
   "id": "b3cfa4c2",
   "metadata": {},
   "outputs": [
    {
     "data": {
      "text/plain": [
       "{1: ' Film & Animation',\n",
       " 2: ' Autos & Vehicles',\n",
       " 10: ' Music',\n",
       " 15: ' Pets & Animals',\n",
       " 17: ' Sports',\n",
       " 18: ' Short Movies',\n",
       " 19: ' Travel & Events',\n",
       " 20: ' Gaming',\n",
       " 21: ' Videoblogging',\n",
       " 22: ' People & Blogs',\n",
       " 23: ' Comedy',\n",
       " 24: ' Entertainment',\n",
       " 25: ' News & Politics',\n",
       " 26: ' Howto & Style',\n",
       " 27: ' Education',\n",
       " 28: ' Science & Technology',\n",
       " 29: ' Nonprofits & Activism',\n",
       " 30: ' Movies',\n",
       " 31: ' Anime/Animation',\n",
       " 32: ' Action/Adventure',\n",
       " 33: ' Classics',\n",
       " 34: ' Comedy',\n",
       " 35: ' Documentary',\n",
       " 36: ' Drama',\n",
       " 37: ' Family',\n",
       " 38: ' Foreign',\n",
       " 39: ' Horror',\n",
       " 40: ' Sci-Fi/Fantasy',\n",
       " 41: ' Thriller',\n",
       " 42: ' Shorts',\n",
       " 43: ' Shows',\n",
       " 44: ' Trailers            '}"
      ]
     },
     "execution_count": 51,
     "metadata": {},
     "output_type": "execute_result"
    }
   ],
   "source": [
    "dct['category_columns']"
   ]
  },
  {
   "cell_type": "code",
   "execution_count": 52,
   "id": "17d75e47",
   "metadata": {},
   "outputs": [],
   "source": [
    "full_df['category_name']=full_df['category_id'].\\\n",
    "                    map(dct['category_columns'])"
   ]
  },
  {
   "cell_type": "code",
   "execution_count": 53,
   "id": "093122f1",
   "metadata": {},
   "outputs": [
    {
     "data": {
      "text/plain": [
       "0                    Music\n",
       "1                   Comedy\n",
       "2                   Comedy\n",
       "3            Entertainment\n",
       "4                    Music\n",
       "               ...        \n",
       "40944       Pets & Animals\n",
       "40945       People & Blogs\n",
       "40946        Entertainment\n",
       "40947     Film & Animation\n",
       "40948               Gaming\n",
       "Name: category_name, Length: 375942, dtype: object"
      ]
     },
     "execution_count": 53,
     "metadata": {},
     "output_type": "execute_result"
    }
   ],
   "source": [
    "full_df['category_name']"
   ]
  },
  {
   "cell_type": "code",
   "execution_count": null,
   "id": "b5cf66d4",
   "metadata": {},
   "outputs": [],
   "source": []
  },
  {
   "cell_type": "code",
   "execution_count": 55,
   "id": "47daca97",
   "metadata": {},
   "outputs": [
    {
     "data": {
      "text/plain": [
       "(array([ 0,  1,  2,  3,  4,  5,  6,  7,  8,  9, 10, 11, 12, 13, 14, 15, 16,\n",
       "        17]),\n",
       " [Text(0, 0, ' Music'),\n",
       "  Text(1, 0, ' Comedy'),\n",
       "  Text(2, 0, ' Entertainment'),\n",
       "  Text(3, 0, ' News & Politics'),\n",
       "  Text(4, 0, ' People & Blogs'),\n",
       "  Text(5, 0, ' Howto & Style'),\n",
       "  Text(6, 0, ' Film & Animation'),\n",
       "  Text(7, 0, ' Science & Technology'),\n",
       "  Text(8, 0, ' Gaming'),\n",
       "  Text(9, 0, ' Sports'),\n",
       "  Text(10, 0, ' Nonprofits & Activism'),\n",
       "  Text(11, 0, ' Pets & Animals'),\n",
       "  Text(12, 0, ' Travel & Events'),\n",
       "  Text(13, 0, ' Autos & Vehicles'),\n",
       "  Text(14, 0, ' Education'),\n",
       "  Text(15, 0, ' Shows'),\n",
       "  Text(16, 0, ' Movies'),\n",
       "  Text(17, 0, ' Trailers            ')])"
      ]
     },
     "execution_count": 55,
     "metadata": {},
     "output_type": "execute_result"
    },
    {
     "data": {
      "image/png": "[encoded data removed]",
      "text/plain": [
       "<Figure size 864x576 with 1 Axes>"
      ]
     },
     "metadata": {
      "needs_background": "light"
     },
     "output_type": "display_data"
    }
   ],
   "source": [
    "plt.figure(figsize=(12,8))\n",
    "sns.boxplot(x='category_name', y='likes',\\\n",
    "            data=full_df, palette=\"Set1\")\n",
    "plt.xticks(rotation='vertical')\n",
    "\n",
    "### Significant number of likes in Music & entertainment\n"
   ]
  },
  {
   "cell_type": "code",
   "execution_count": null,
   "id": "1bcfa58f",
   "metadata": {},
   "outputs": [],
   "source": []
  },
  {
   "cell_type": "markdown",
   "id": "ab6ff4dd",
   "metadata": {},
   "source": [
    "### 6...lets analyse whether audience is engaged or not"
   ]
  },
  {
   "cell_type": "markdown",
   "id": "4b645363",
   "metadata": {},
   "source": [
    "#### out of total views , how many persons have liked it ,\n",
    " ## disliked it & commented on it..??\n",
    " \n",
    "    like_rate-->> likes/views\n",
    "    dislike_rate-->> dislike/views\n",
    "    comment_rate-->> comment/views\n",
    "\n",
    "    These features are often referred as Engaging features(Upto what extent audience is engaged)"
   ]
  },
  {
   "cell_type": "code",
   "execution_count": null,
   "id": "0d841520",
   "metadata": {},
   "outputs": [],
   "source": [
    "full_df['like_rate'] =  (full_df['likes'] /\\\n",
    "                         full_df['views']) * 100\n",
    "\n",
    "full_df['dislike_rate'] =  (full_df['dislikes'] /\\\n",
    "                            full_df['views']) * 100\n",
    "\n",
    "full_df['comment_count_rate']= (full_df['comment_count'] \\\n",
    "                                / full_df['views']) * 100 "
   ]
  },
  {
   "cell_type": "code",
   "execution_count": 59,
   "id": "7cb34365",
   "metadata": {},
   "outputs": [
    {
     "data": {
      "text/plain": [
       "Index(['video_id', 'trending_date', 'title', 'channel_title', 'category_id',\n",
       "       'publish_time', 'tags', 'views', 'likes', 'dislikes', 'comment_count',\n",
       "       'thumbnail_link', 'comments_disabled', 'ratings_disabled',\n",
       "       'video_error_or_removed', 'description', 'country', 'category_name',\n",
       "       'like_rate', 'dislike_rate', 'comment_count_rate'],\n",
       "      dtype='object')"
      ]
     },
     "execution_count": 59,
     "metadata": {},
     "output_type": "execute_result"
    }
   ],
   "source": [
    "full_df.columns"
   ]
  },
  {
   "cell_type": "code",
   "execution_count": 60,
   "id": "5de0b6e6",
   "metadata": {},
   "outputs": [
    {
     "data": {
      "text/plain": [
       "(array([ 0,  1,  2,  3,  4,  5,  6,  7,  8,  9, 10, 11, 12, 13, 14, 15, 16,\n",
       "        17]),\n",
       " [Text(0, 0, ' Music'),\n",
       "  Text(1, 0, ' Comedy'),\n",
       "  Text(2, 0, ' Entertainment'),\n",
       "  Text(3, 0, ' News & Politics'),\n",
       "  Text(4, 0, ' People & Blogs'),\n",
       "  Text(5, 0, ' Howto & Style'),\n",
       "  Text(6, 0, ' Film & Animation'),\n",
       "  Text(7, 0, ' Science & Technology'),\n",
       "  Text(8, 0, ' Gaming'),\n",
       "  Text(9, 0, ' Sports'),\n",
       "  Text(10, 0, ' Nonprofits & Activism'),\n",
       "  Text(11, 0, ' Pets & Animals'),\n",
       "  Text(12, 0, ' Travel & Events'),\n",
       "  Text(13, 0, ' Autos & Vehicles'),\n",
       "  Text(14, 0, ' Education'),\n",
       "  Text(15, 0, ' Shows'),\n",
       "  Text(16, 0, ' Movies'),\n",
       "  Text(17, 0, ' Trailers            ')])"
      ]
     },
     "execution_count": 60,
     "metadata": {},
     "output_type": "execute_result"
    },
    {
     "data": {
      "image/png": "[encoded data removed]",
      "text/plain": [
       "<Figure size 864x576 with 1 Axes>"
      ]
     },
     "metadata": {
      "needs_background": "light"
     },
     "output_type": "display_data"
    }
   ],
   "source": [
    "plt.figure(figsize=(12,8))\n",
    "sns.boxplot(x='category_name', y='like_rate',\\\n",
    "            data=full_df, palette=\"Set1\")\n",
    "\n",
    "plt.xticks(rotation='vertical')\n",
    "\n",
    "### Significant number of likes in Music & entertainment\n"
   ]
  },
  {
   "cell_type": "code",
   "execution_count": null,
   "id": "aa55f449",
   "metadata": {},
   "outputs": [],
   "source": [
    "## in music ,comedy and sceince & technology we have a very\n",
    "# interesting pattern of like rate..he music category have\n",
    "\n",
    "# the good engagement rate."
   ]
  },
  {
   "cell_type": "code",
   "execution_count": null,
   "id": "0696bd2d",
   "metadata": {},
   "outputs": [],
   "source": []
  },
  {
   "cell_type": "markdown",
   "id": "739f6342",
   "metadata": {},
   "source": [
    "### Does Views affect likes ?"
   ]
  },
  {
   "cell_type": "markdown",
   "id": "4614a6b3",
   "metadata": {},
   "source": [
    "### Finding the relationship between continuous variables..\n",
    "    u can think of using :\n",
    "        1..scatterplot\n",
    "        2..regression-plot\n",
    "\n",
    "    Lets find out the relation among continuous variables\n",
    "    "
   ]
  },
  {
   "cell_type": "code",
   "execution_count": null,
   "id": "2554f6eb",
   "metadata": {},
   "outputs": [],
   "source": [
    "### takes 2 mins approx.."
   ]
  },
  {
   "cell_type": "code",
   "execution_count": 61,
   "id": "2fd8ac28",
   "metadata": {},
   "outputs": [
    {
     "data": {
      "text/plain": [
       "Text(0.5, 1.0, 'Regression plot for likes & views')"
      ]
     },
     "execution_count": 61,
     "metadata": {},
     "output_type": "execute_result"
    },
    {
     "data": {
      "image/png": "[encoded data removed]",
      "text/plain": [
       "<Figure size 432x288 with 1 Axes>"
      ]
     },
     "metadata": {
      "needs_background": "light"
     },
     "output_type": "display_data"
    }
   ],
   "source": [
    "sns.regplot(data=full_df,x='views',y='likes')\n",
    "plt.title(\"Regression plot for likes & views\")\n",
    "\n",
    "## As it is quite obvious that the number of \n",
    "# likes have very strong relation with views"
   ]
  },
  {
   "cell_type": "code",
   "execution_count": null,
   "id": "02aa365e",
   "metadata": {},
   "outputs": [],
   "source": []
  },
  {
   "cell_type": "markdown",
   "id": "db6fc78c",
   "metadata": {},
   "source": [
    "#### Correlation matrix is the evidence of above analysis!"
   ]
  },
  {
   "cell_type": "code",
   "execution_count": 62,
   "id": "1b4a8d37",
   "metadata": {},
   "outputs": [
    {
     "data": {
      "text/plain": [
       "<AxesSubplot:>"
      ]
     },
     "execution_count": 62,
     "metadata": {},
     "output_type": "execute_result"
    },
    {
     "data": {
      "image/png": "[encoded data removed]",
      "text/plain": [
       "<Figure size 432x288 with 2 Axes>"
      ]
     },
     "metadata": {
      "needs_background": "light"
     },
     "output_type": "display_data"
    }
   ],
   "source": [
    "df_corr = full_df[['views','likes','dislikes']]\n",
    "sns.heatmap(df_corr.corr(),annot=True)"
   ]
  },
  {
   "cell_type": "code",
   "execution_count": null,
   "id": "b35d1620",
   "metadata": {},
   "outputs": [],
   "source": []
  },
  {
   "cell_type": "code",
   "execution_count": null,
   "id": "352b9763",
   "metadata": {},
   "outputs": [],
   "source": []
  },
  {
   "cell_type": "code",
   "execution_count": null,
   "id": "9d1663a3",
   "metadata": {},
   "outputs": [],
   "source": []
  },
  {
   "cell_type": "markdown",
   "id": "085e82b8",
   "metadata": {},
   "source": [
    "\n",
    "\n",
    "### 7..Which channels have the largest number of trending videos?"
   ]
  },
  {
   "cell_type": "code",
   "execution_count": 163,
   "id": "77eaf12a",
   "metadata": {},
   "outputs": [],
   "source": [
    "cdf=full_df.groupby(\"channel_title\")['video_id'].count().\\\n",
    "    sort_values(ascending=False).to_frame().reset_index().\\\n",
    "    rename(columns={'video_id':'total_videos'})"
   ]
  },
  {
   "cell_type": "code",
   "execution_count": 164,
   "id": "ed147e06",
   "metadata": {},
   "outputs": [
    {
     "data": {
      "text/html": [
       "<div>\n",
       "<style scoped>\n",
       "    .dataframe tbody tr th:only-of-type {\n",
       "        vertical-align: middle;\n",
       "    }\n",
       "\n",
       "    .dataframe tbody tr th {\n",
       "        vertical-align: top;\n",
       "    }\n",
       "\n",
       "    .dataframe thead th {\n",
       "        text-align: right;\n",
       "    }\n",
       "</style>\n",
       "<table border=\"1\" class=\"dataframe\">\n",
       "  <thead>\n",
       "    <tr style=\"text-align: right;\">\n",
       "      <th></th>\n",
       "      <th>channel_title</th>\n",
       "      <th>total_videos</th>\n",
       "    </tr>\n",
       "  </thead>\n",
       "  <tbody>\n",
       "    <tr>\n",
       "      <th>0</th>\n",
       "      <td>The Late Show with Stephen Colbert</td>\n",
       "      <td>984</td>\n",
       "    </tr>\n",
       "    <tr>\n",
       "      <th>1</th>\n",
       "      <td>WWE</td>\n",
       "      <td>804</td>\n",
       "    </tr>\n",
       "    <tr>\n",
       "      <th>2</th>\n",
       "      <td>Late Night with Seth Meyers</td>\n",
       "      <td>773</td>\n",
       "    </tr>\n",
       "    <tr>\n",
       "      <th>3</th>\n",
       "      <td>VikatanTV</td>\n",
       "      <td>763</td>\n",
       "    </tr>\n",
       "    <tr>\n",
       "      <th>4</th>\n",
       "      <td>TheEllenShow</td>\n",
       "      <td>743</td>\n",
       "    </tr>\n",
       "    <tr>\n",
       "      <th>...</th>\n",
       "      <td>...</td>\n",
       "      <td>...</td>\n",
       "    </tr>\n",
       "    <tr>\n",
       "      <th>37819</th>\n",
       "      <td>LIGHTS - 001 jrny</td>\n",
       "      <td>1</td>\n",
       "    </tr>\n",
       "    <tr>\n",
       "      <th>37820</th>\n",
       "      <td>bangtanist</td>\n",
       "      <td>1</td>\n",
       "    </tr>\n",
       "    <tr>\n",
       "      <th>37821</th>\n",
       "      <td>LIGAMX Femenil</td>\n",
       "      <td>1</td>\n",
       "    </tr>\n",
       "    <tr>\n",
       "      <th>37822</th>\n",
       "      <td>LIGA COLOMBIANA OFICIAL</td>\n",
       "      <td>1</td>\n",
       "    </tr>\n",
       "    <tr>\n",
       "      <th>37823</th>\n",
       "      <td>Pavel Sidorik TV</td>\n",
       "      <td>1</td>\n",
       "    </tr>\n",
       "  </tbody>\n",
       "</table>\n",
       "<p>37824 rows × 2 columns</p>\n",
       "</div>"
      ],
      "text/plain": [
       "                            channel_title  total_videos\n",
       "0      The Late Show with Stephen Colbert           984\n",
       "1                                     WWE           804\n",
       "2             Late Night with Seth Meyers           773\n",
       "3                               VikatanTV           763\n",
       "4                            TheEllenShow           743\n",
       "...                                   ...           ...\n",
       "37819                   LIGHTS - 001 jrny             1\n",
       "37820                          bangtanist             1\n",
       "37821                      LIGAMX Femenil             1\n",
       "37822             LIGA COLOMBIANA OFICIAL             1\n",
       "37823                    Pavel Sidorik TV             1\n",
       "\n",
       "[37824 rows x 2 columns]"
      ]
     },
     "execution_count": 164,
     "metadata": {},
     "output_type": "execute_result"
    }
   ],
   "source": [
    "cdf"
   ]
  },
  {
   "cell_type": "code",
   "execution_count": 165,
   "id": "d399c0a5",
   "metadata": {},
   "outputs": [],
   "source": [
    "import plotly.express as px"
   ]
  },
  {
   "cell_type": "code",
   "execution_count": null,
   "id": "c365cf2a",
   "metadata": {},
   "outputs": [],
   "source": [
    "## px.bar(data_frame=cdf[0:20] , x='channel_title',y='total_videos')"
   ]
  },
  {
   "cell_type": "code",
   "execution_count": null,
   "id": "e94b8f10",
   "metadata": {},
   "outputs": [],
   "source": []
  },
  {
   "cell_type": "code",
   "execution_count": null,
   "id": "f9b572a1",
   "metadata": {},
   "outputs": [],
   "source": []
  },
  {
   "cell_type": "markdown",
   "id": "93ad1ddb",
   "metadata": {},
   "source": [
    "### 8..Have the Punctuations title and tags\n",
    "##    any relation with views, likes, dislikes comments?"
   ]
  },
  {
   "cell_type": "code",
   "execution_count": 107,
   "id": "d3b3ea22",
   "metadata": {},
   "outputs": [],
   "source": [
    "import string\n",
    "def punctutation_count(x):\n",
    "    return len([c for c in x if c in string.punctuation])"
   ]
  },
  {
   "cell_type": "code",
   "execution_count": 97,
   "id": "0cb391ac",
   "metadata": {},
   "outputs": [
    {
     "data": {
      "text/plain": [
       "'!\"#$%&\\'()*+,-./:;<=>?@[\\\\]^_`{|}~'"
      ]
     },
     "execution_count": 97,
     "metadata": {},
     "output_type": "execute_result"
    }
   ],
   "source": [
    "string.punctuation"
   ]
  },
  {
   "cell_type": "code",
   "execution_count": 100,
   "id": "aeb78809",
   "metadata": {},
   "outputs": [
    {
     "data": {
      "text/plain": [
       "'Eminem - Walk On Water (Audio) ft. BeyoncÃ©'"
      ]
     },
     "execution_count": 100,
     "metadata": {},
     "output_type": "execute_result"
    }
   ],
   "source": [
    "sample['title'][0]"
   ]
  },
  {
   "cell_type": "code",
   "execution_count": 108,
   "id": "d1478005",
   "metadata": {},
   "outputs": [
    {
     "data": {
      "text/plain": [
       "4"
      ]
     },
     "execution_count": 108,
     "metadata": {},
     "output_type": "execute_result"
    }
   ],
   "source": [
    "punctutation_count('Eminem - Walk On Water (Audio) ft. BeyoncÃ©')"
   ]
  },
  {
   "cell_type": "code",
   "execution_count": 110,
   "id": "563d6368",
   "metadata": {},
   "outputs": [],
   "source": [
    "sample[\"count_punctuations\"] = sample['title'].\\\n",
    "                        apply(punctutation_count)"
   ]
  },
  {
   "cell_type": "code",
   "execution_count": 112,
   "id": "35bf6ab1",
   "metadata": {},
   "outputs": [
    {
     "data": {
      "text/plain": [
       "Text(0, 0.5, 'Views')"
      ]
     },
     "execution_count": 112,
     "metadata": {},
     "output_type": "execute_result"
    },
    {
     "data": {
      "image/png": "[encoded data removed]",
      "text/plain": [
       "<Figure size 864x576 with 1 Axes>"
      ]
     },
     "metadata": {
      "needs_background": "light"
     },
     "output_type": "display_data"
    }
   ],
   "source": [
    "plt.figure(figsize = (12,8))\n",
    "\n",
    "sns.boxplot(x='count_punctuations', y='views',\\\n",
    "                            data=sample)\n",
    "\n",
    "plt.title(\"Vews by Ponctuations\")\n",
    "plt.xlabel(\"Numer of Punctuations\")\n",
    "plt.ylabel(\"Views\")\n"
   ]
  },
  {
   "cell_type": "code",
   "execution_count": 116,
   "id": "85751967",
   "metadata": {},
   "outputs": [
    {
     "data": {
      "text/plain": [
       "0.06447081087620599"
      ]
     },
     "execution_count": 116,
     "metadata": {},
     "output_type": "execute_result"
    }
   ],
   "source": [
    "sample['count_punctuations'].corr(sample['views'])"
   ]
  },
  {
   "cell_type": "code",
   "execution_count": null,
   "id": "01b816b2",
   "metadata": {},
   "outputs": [],
   "source": [
    "### there is 6 % probability that if count_punctuations\n",
    "    # increases , views also increases.."
   ]
  },
  {
   "cell_type": "code",
   "execution_count": null,
   "id": "c8b23b18",
   "metadata": {},
   "outputs": [],
   "source": []
  },
  {
   "cell_type": "code",
   "execution_count": null,
   "id": "6770c94b",
   "metadata": {},
   "outputs": [],
   "source": []
  }
 ],
 "metadata": {
  "kernelspec": {
   "display_name": "Python 3",
   "language": "python",
   "name": "python3"
  },
  "language_info": {
   "codemirror_mode": {
    "name": "ipython",
    "version": 3
   },
   "file_extension": ".py",
   "mimetype": "text/x-python",
   "name": "python",
   "nbconvert_exporter": "python",
   "pygments_lexer": "ipython3",
   "version": "3.8.8"
  }
 },
 "nbformat": 4,
 "nbformat_minor": 5
}
