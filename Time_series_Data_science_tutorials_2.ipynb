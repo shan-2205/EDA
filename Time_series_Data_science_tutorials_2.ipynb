{
 "cells": [
  {
   "cell_type": "code",
   "execution_count": null,
   "metadata": {},
   "outputs": [],
   "source": []
  },
  {
   "cell_type": "markdown",
   "metadata": {},
   "source": [
    "#### Dataset link-->> https://drive.google.com/drive/folders/1eEL3dpCk_mfSsvEhME04-qJkWjrpi8Ib"
   ]
  },
  {
   "cell_type": "code",
   "execution_count": 1,
   "metadata": {},
   "outputs": [],
   "source": [
    "import numpy as np\n",
    "import pandas as pd\n",
    "import matplotlib.pyplot as plt"
   ]
  },
  {
   "cell_type": "code",
   "execution_count": 2,
   "metadata": {},
   "outputs": [
    {
     "data": {
      "text/html": [
       "<div>\n",
       "<style scoped>\n",
       "    .dataframe tbody tr th:only-of-type {\n",
       "        vertical-align: middle;\n",
       "    }\n",
       "\n",
       "    .dataframe tbody tr th {\n",
       "        vertical-align: top;\n",
       "    }\n",
       "\n",
       "    .dataframe thead th {\n",
       "        text-align: right;\n",
       "    }\n",
       "</style>\n",
       "<table border=\"1\" class=\"dataframe\">\n",
       "  <thead>\n",
       "    <tr style=\"text-align: right;\">\n",
       "      <th></th>\n",
       "      <th>Month</th>\n",
       "      <th>Sales</th>\n",
       "      <th>Inflation</th>\n",
       "    </tr>\n",
       "  </thead>\n",
       "  <tbody>\n",
       "    <tr>\n",
       "      <th>0</th>\n",
       "      <td>1-Jan</td>\n",
       "      <td>266.0</td>\n",
       "      <td>1</td>\n",
       "    </tr>\n",
       "    <tr>\n",
       "      <th>1</th>\n",
       "      <td>2-Jan</td>\n",
       "      <td>145.9</td>\n",
       "      <td>3</td>\n",
       "    </tr>\n",
       "    <tr>\n",
       "      <th>2</th>\n",
       "      <td>3-Jan</td>\n",
       "      <td>183.1</td>\n",
       "      <td>5</td>\n",
       "    </tr>\n",
       "    <tr>\n",
       "      <th>3</th>\n",
       "      <td>4-Jan</td>\n",
       "      <td>119.3</td>\n",
       "      <td>5</td>\n",
       "    </tr>\n",
       "    <tr>\n",
       "      <th>4</th>\n",
       "      <td>5-Jan</td>\n",
       "      <td>180.3</td>\n",
       "      <td>4</td>\n",
       "    </tr>\n",
       "  </tbody>\n",
       "</table>\n",
       "</div>"
      ],
      "text/plain": [
       "   Month  Sales  Inflation\n",
       "0  1-Jan  266.0          1\n",
       "1  2-Jan  145.9          3\n",
       "2  3-Jan  183.1          5\n",
       "3  4-Jan  119.3          5\n",
       "4  5-Jan  180.3          4"
      ]
     },
     "execution_count": 2,
     "metadata": {},
     "output_type": "execute_result"
    }
   ],
   "source": [
    "shampoo=pd.read_csv('F:\\Time_Series Data Analysis\\data science Tutorials/shampoo_with_exog.csv')\n",
    "shampoo.head()"
   ]
  },
  {
   "cell_type": "code",
   "execution_count": 3,
   "metadata": {},
   "outputs": [
    {
     "data": {
      "text/plain": [
       "pandas.core.frame.DataFrame"
      ]
     },
     "execution_count": 3,
     "metadata": {},
     "output_type": "execute_result"
    }
   ],
   "source": [
    "type(shampoo)"
   ]
  },
  {
   "cell_type": "markdown",
   "metadata": {},
   "source": [
    "#### import csv data in a csv format"
   ]
  },
  {
   "cell_type": "code",
   "execution_count": 4,
   "metadata": {},
   "outputs": [
    {
     "data": {
      "text/html": [
       "<div>\n",
       "<style scoped>\n",
       "    .dataframe tbody tr th:only-of-type {\n",
       "        vertical-align: middle;\n",
       "    }\n",
       "\n",
       "    .dataframe tbody tr th {\n",
       "        vertical-align: top;\n",
       "    }\n",
       "\n",
       "    .dataframe thead th {\n",
       "        text-align: right;\n",
       "    }\n",
       "</style>\n",
       "<table border=\"1\" class=\"dataframe\">\n",
       "  <thead>\n",
       "    <tr style=\"text-align: right;\">\n",
       "      <th></th>\n",
       "      <th>Sales</th>\n",
       "      <th>Inflation</th>\n",
       "    </tr>\n",
       "    <tr>\n",
       "      <th>Month</th>\n",
       "      <th></th>\n",
       "      <th></th>\n",
       "    </tr>\n",
       "  </thead>\n",
       "  <tbody>\n",
       "    <tr>\n",
       "      <th>1-Jan</th>\n",
       "      <td>266.0</td>\n",
       "      <td>1</td>\n",
       "    </tr>\n",
       "    <tr>\n",
       "      <th>2-Jan</th>\n",
       "      <td>145.9</td>\n",
       "      <td>3</td>\n",
       "    </tr>\n",
       "    <tr>\n",
       "      <th>3-Jan</th>\n",
       "      <td>183.1</td>\n",
       "      <td>5</td>\n",
       "    </tr>\n",
       "    <tr>\n",
       "      <th>4-Jan</th>\n",
       "      <td>119.3</td>\n",
       "      <td>5</td>\n",
       "    </tr>\n",
       "    <tr>\n",
       "      <th>5-Jan</th>\n",
       "      <td>180.3</td>\n",
       "      <td>4</td>\n",
       "    </tr>\n",
       "  </tbody>\n",
       "</table>\n",
       "</div>"
      ],
      "text/plain": [
       "       Sales  Inflation\n",
       "Month                  \n",
       "1-Jan  266.0          1\n",
       "2-Jan  145.9          3\n",
       "3-Jan  183.1          5\n",
       "4-Jan  119.3          5\n",
       "5-Jan  180.3          4"
      ]
     },
     "execution_count": 4,
     "metadata": {},
     "output_type": "execute_result"
    }
   ],
   "source": [
    "shampoo=pd.read_csv('F:\\Time_Series Data Analysis\\data science Tutorials/shampoo_with_exog.csv',index_col=[0],parse_dates=True)\n",
    "shampoo.head()"
   ]
  },
  {
   "cell_type": "code",
   "execution_count": 5,
   "metadata": {},
   "outputs": [
    {
     "data": {
      "text/plain": [
       "pandas.core.frame.DataFrame"
      ]
     },
     "execution_count": 5,
     "metadata": {},
     "output_type": "execute_result"
    }
   ],
   "source": [
    "type(shampoo)"
   ]
  },
  {
   "cell_type": "code",
   "execution_count": 6,
   "metadata": {},
   "outputs": [
    {
     "data": {
      "text/plain": [
       "<matplotlib.axes._subplots.AxesSubplot at 0xa2f5570508>"
      ]
     },
     "execution_count": 6,
     "metadata": {},
     "output_type": "execute_result"
    },
    {
     "data": {
      "image/png": "[encoded data removed]",
      "text/plain": [
       "<Figure size 432x288 with 1 Axes>"
      ]
     },
     "metadata": {
      "needs_background": "light"
     },
     "output_type": "display_data"
    }
   ],
   "source": [
    "shampoo['Sales'].plot()"
   ]
  },
  {
   "cell_type": "markdown",
   "metadata": {},
   "source": [
    "#### clearly visible that a trend is present with some cyclical variation"
   ]
  },
  {
   "cell_type": "markdown",
   "metadata": {},
   "source": [
    "##### plot sales in terms of lets say using dot or something else"
   ]
  },
  {
   "cell_type": "code",
   "execution_count": 7,
   "metadata": {},
   "outputs": [
    {
     "data": {
      "text/plain": [
       "<matplotlib.axes._subplots.AxesSubplot at 0xa2f7800388>"
      ]
     },
     "execution_count": 7,
     "metadata": {},
     "output_type": "execute_result"
    },
    {
     "data": {
      "image/png": "[encoded data removed]",
      "text/plain": [
       "<Figure size 432x288 with 1 Axes>"
      ]
     },
     "metadata": {
      "needs_background": "light"
     },
     "output_type": "display_data"
    }
   ],
   "source": [
    "shampoo['Sales'].plot(style='k.')"
   ]
  },
  {
   "cell_type": "code",
   "execution_count": null,
   "metadata": {},
   "outputs": [],
   "source": []
  },
  {
   "cell_type": "code",
   "execution_count": 8,
   "metadata": {},
   "outputs": [
    {
     "data": {
      "text/plain": [
       "(36, 2)"
      ]
     },
     "execution_count": 8,
     "metadata": {},
     "output_type": "execute_result"
    }
   ],
   "source": [
    "shampoo.shape"
   ]
  },
  {
   "cell_type": "code",
   "execution_count": 9,
   "metadata": {},
   "outputs": [
    {
     "data": {
      "text/html": [
       "<div>\n",
       "<style scoped>\n",
       "    .dataframe tbody tr th:only-of-type {\n",
       "        vertical-align: middle;\n",
       "    }\n",
       "\n",
       "    .dataframe tbody tr th {\n",
       "        vertical-align: top;\n",
       "    }\n",
       "\n",
       "    .dataframe thead th {\n",
       "        text-align: right;\n",
       "    }\n",
       "</style>\n",
       "<table border=\"1\" class=\"dataframe\">\n",
       "  <thead>\n",
       "    <tr style=\"text-align: right;\">\n",
       "      <th></th>\n",
       "      <th>count</th>\n",
       "      <th>mean</th>\n",
       "      <th>std</th>\n",
       "      <th>min</th>\n",
       "      <th>25%</th>\n",
       "      <th>50%</th>\n",
       "      <th>75%</th>\n",
       "      <th>max</th>\n",
       "    </tr>\n",
       "  </thead>\n",
       "  <tbody>\n",
       "    <tr>\n",
       "      <th>Sales</th>\n",
       "      <td>36.0</td>\n",
       "      <td>312.600000</td>\n",
       "      <td>148.937164</td>\n",
       "      <td>119.3</td>\n",
       "      <td>192.45</td>\n",
       "      <td>280.15</td>\n",
       "      <td>411.1</td>\n",
       "      <td>682.0</td>\n",
       "    </tr>\n",
       "    <tr>\n",
       "      <th>Inflation</th>\n",
       "      <td>36.0</td>\n",
       "      <td>3.388889</td>\n",
       "      <td>1.535816</td>\n",
       "      <td>1.0</td>\n",
       "      <td>2.00</td>\n",
       "      <td>4.00</td>\n",
       "      <td>5.0</td>\n",
       "      <td>5.0</td>\n",
       "    </tr>\n",
       "  </tbody>\n",
       "</table>\n",
       "</div>"
      ],
      "text/plain": [
       "           count        mean         std    min     25%     50%    75%    max\n",
       "Sales       36.0  312.600000  148.937164  119.3  192.45  280.15  411.1  682.0\n",
       "Inflation   36.0    3.388889    1.535816    1.0    2.00    4.00    5.0    5.0"
      ]
     },
     "execution_count": 9,
     "metadata": {},
     "output_type": "execute_result"
    }
   ],
   "source": [
    "shampoo.describe().T"
   ]
  },
  {
   "cell_type": "markdown",
   "metadata": {},
   "source": [
    "### smoothing time-series \n",
    "#### smoothing is basically done by Moving Avearge\n",
    "#### MA highly used in Stock Market Analysis as well as in Some business as well"
   ]
  },
  {
   "cell_type": "code",
   "execution_count": 10,
   "metadata": {},
   "outputs": [],
   "source": [
    "### lets say I consider first 5 days as a Moving value\n",
    "shampoo_ma=shampoo['Sales'].rolling(window=5).mean()"
   ]
  },
  {
   "cell_type": "code",
   "execution_count": 11,
   "metadata": {},
   "outputs": [
    {
     "data": {
      "text/plain": [
       "<matplotlib.axes._subplots.AxesSubplot at 0xa2f54e1808>"
      ]
     },
     "execution_count": 11,
     "metadata": {},
     "output_type": "execute_result"
    },
    {
     "data": {
      "image/png": "[encoded data removed]",
      "text/plain": [
       "<Figure size 432x288 with 1 Axes>"
      ]
     },
     "metadata": {
      "needs_background": "light"
     },
     "output_type": "display_data"
    }
   ],
   "source": [
    "shampoo_ma.plot()"
   ]
  },
  {
   "cell_type": "code",
   "execution_count": null,
   "metadata": {},
   "outputs": [],
   "source": []
  },
  {
   "cell_type": "markdown",
   "metadata": {},
   "source": [
    "## create a baseline model(Naive Model or Initial Model)"
   ]
  },
  {
   "cell_type": "markdown",
   "metadata": {},
   "source": [
    "#### previous value is a best reflector of next value,    the recent history is a best refection of the future\n",
    "#### using shift we can create baseline model\n",
    "    "
   ]
  },
  {
   "cell_type": "code",
   "execution_count": 12,
   "metadata": {},
   "outputs": [],
   "source": [
    "shampoo['sales_shift']=shampoo['Sales'].shift(1)"
   ]
  },
  {
   "cell_type": "code",
   "execution_count": 13,
   "metadata": {},
   "outputs": [
    {
     "data": {
      "text/html": [
       "<div>\n",
       "<style scoped>\n",
       "    .dataframe tbody tr th:only-of-type {\n",
       "        vertical-align: middle;\n",
       "    }\n",
       "\n",
       "    .dataframe tbody tr th {\n",
       "        vertical-align: top;\n",
       "    }\n",
       "\n",
       "    .dataframe thead th {\n",
       "        text-align: right;\n",
       "    }\n",
       "</style>\n",
       "<table border=\"1\" class=\"dataframe\">\n",
       "  <thead>\n",
       "    <tr style=\"text-align: right;\">\n",
       "      <th></th>\n",
       "      <th>Sales</th>\n",
       "      <th>Inflation</th>\n",
       "      <th>sales_shift</th>\n",
       "    </tr>\n",
       "    <tr>\n",
       "      <th>Month</th>\n",
       "      <th></th>\n",
       "      <th></th>\n",
       "      <th></th>\n",
       "    </tr>\n",
       "  </thead>\n",
       "  <tbody>\n",
       "    <tr>\n",
       "      <th>1-Jan</th>\n",
       "      <td>266.0</td>\n",
       "      <td>1</td>\n",
       "      <td>NaN</td>\n",
       "    </tr>\n",
       "    <tr>\n",
       "      <th>2-Jan</th>\n",
       "      <td>145.9</td>\n",
       "      <td>3</td>\n",
       "      <td>266.0</td>\n",
       "    </tr>\n",
       "    <tr>\n",
       "      <th>3-Jan</th>\n",
       "      <td>183.1</td>\n",
       "      <td>5</td>\n",
       "      <td>145.9</td>\n",
       "    </tr>\n",
       "    <tr>\n",
       "      <th>4-Jan</th>\n",
       "      <td>119.3</td>\n",
       "      <td>5</td>\n",
       "      <td>183.1</td>\n",
       "    </tr>\n",
       "    <tr>\n",
       "      <th>5-Jan</th>\n",
       "      <td>180.3</td>\n",
       "      <td>4</td>\n",
       "      <td>119.3</td>\n",
       "    </tr>\n",
       "  </tbody>\n",
       "</table>\n",
       "</div>"
      ],
      "text/plain": [
       "       Sales  Inflation  sales_shift\n",
       "Month                               \n",
       "1-Jan  266.0          1          NaN\n",
       "2-Jan  145.9          3        266.0\n",
       "3-Jan  183.1          5        145.9\n",
       "4-Jan  119.3          5        183.1\n",
       "5-Jan  180.3          4        119.3"
      ]
     },
     "execution_count": 13,
     "metadata": {},
     "output_type": "execute_result"
    }
   ],
   "source": [
    "shampoo.head()"
   ]
  },
  {
   "cell_type": "code",
   "execution_count": 14,
   "metadata": {},
   "outputs": [],
   "source": [
    "shampoo.columns=['Actual_sales','Inflation','Forecast_sales']"
   ]
  },
  {
   "cell_type": "code",
   "execution_count": 15,
   "metadata": {},
   "outputs": [],
   "source": [
    "shampoo.dropna(inplace=True)"
   ]
  },
  {
   "cell_type": "code",
   "execution_count": 16,
   "metadata": {},
   "outputs": [
    {
     "data": {
      "text/html": [
       "<div>\n",
       "<style scoped>\n",
       "    .dataframe tbody tr th:only-of-type {\n",
       "        vertical-align: middle;\n",
       "    }\n",
       "\n",
       "    .dataframe tbody tr th {\n",
       "        vertical-align: top;\n",
       "    }\n",
       "\n",
       "    .dataframe thead th {\n",
       "        text-align: right;\n",
       "    }\n",
       "</style>\n",
       "<table border=\"1\" class=\"dataframe\">\n",
       "  <thead>\n",
       "    <tr style=\"text-align: right;\">\n",
       "      <th></th>\n",
       "      <th>Actual_sales</th>\n",
       "      <th>Inflation</th>\n",
       "      <th>Forecast_sales</th>\n",
       "    </tr>\n",
       "    <tr>\n",
       "      <th>Month</th>\n",
       "      <th></th>\n",
       "      <th></th>\n",
       "      <th></th>\n",
       "    </tr>\n",
       "  </thead>\n",
       "  <tbody>\n",
       "    <tr>\n",
       "      <th>2-Jan</th>\n",
       "      <td>145.9</td>\n",
       "      <td>3</td>\n",
       "      <td>266.0</td>\n",
       "    </tr>\n",
       "    <tr>\n",
       "      <th>3-Jan</th>\n",
       "      <td>183.1</td>\n",
       "      <td>5</td>\n",
       "      <td>145.9</td>\n",
       "    </tr>\n",
       "    <tr>\n",
       "      <th>4-Jan</th>\n",
       "      <td>119.3</td>\n",
       "      <td>5</td>\n",
       "      <td>183.1</td>\n",
       "    </tr>\n",
       "    <tr>\n",
       "      <th>5-Jan</th>\n",
       "      <td>180.3</td>\n",
       "      <td>4</td>\n",
       "      <td>119.3</td>\n",
       "    </tr>\n",
       "    <tr>\n",
       "      <th>6-Jan</th>\n",
       "      <td>168.5</td>\n",
       "      <td>5</td>\n",
       "      <td>180.3</td>\n",
       "    </tr>\n",
       "  </tbody>\n",
       "</table>\n",
       "</div>"
      ],
      "text/plain": [
       "       Actual_sales  Inflation  Forecast_sales\n",
       "Month                                         \n",
       "2-Jan         145.9          3           266.0\n",
       "3-Jan         183.1          5           145.9\n",
       "4-Jan         119.3          5           183.1\n",
       "5-Jan         180.3          4           119.3\n",
       "6-Jan         168.5          5           180.3"
      ]
     },
     "execution_count": 16,
     "metadata": {},
     "output_type": "execute_result"
    }
   ],
   "source": [
    "shampoo.head()"
   ]
  },
  {
   "cell_type": "code",
   "execution_count": 17,
   "metadata": {},
   "outputs": [],
   "source": [
    "from sklearn.metrics import mean_squared_error"
   ]
  },
  {
   "cell_type": "code",
   "execution_count": 18,
   "metadata": {},
   "outputs": [
    {
     "data": {
      "text/plain": [
       "108.23764726616282"
      ]
     },
     "execution_count": 18,
     "metadata": {},
     "output_type": "execute_result"
    }
   ],
   "source": [
    "### then check accuracy\n",
    "np.sqrt(mean_squared_error(shampoo['Actual_sales'],shampoo['Forecast_sales']))"
   ]
  },
  {
   "cell_type": "code",
   "execution_count": null,
   "metadata": {},
   "outputs": [],
   "source": []
  },
  {
   "cell_type": "markdown",
   "metadata": {},
   "source": [
    "#### now u will see we dont have good model, so now we can create some more model lets say AR, MA & MAny more\n",
    "#### but at the end of the day, we will see most of the practitioner uses ARIMA for Time-Series, ARIMA(p,d,q)\n"
   ]
  },
  {
   "cell_type": "raw",
   "metadata": {},
   "source": [
    "ARIMA(p,d,q)\n",
    "ARIMA(0,0,2)-->> its only a MA model, because  we have p & d as 0, P,d & q can be calculated using ACF & PACF"
   ]
  },
  {
   "cell_type": "code",
   "execution_count": 19,
   "metadata": {},
   "outputs": [],
   "source": [
    "from statsmodels.graphics.tsaplots import plot_acf,plot_pacf\n",
    "from statsmodels.graphics.api import qqplot"
   ]
  },
  {
   "cell_type": "code",
   "execution_count": 20,
   "metadata": {
    "scrolled": true
   },
   "outputs": [
    {
     "data": {
      "image/png": "[encoded data removed]",
      "text/plain": [
       "<Figure size 432x288 with 1 Axes>"
      ]
     },
     "execution_count": 20,
     "metadata": {},
     "output_type": "execute_result"
    },
    {
     "data": {
      "image/png": "[encoded data removed]",
      "text/plain": [
       "<Figure size 432x288 with 1 Axes>"
      ]
     },
     "metadata": {
      "needs_background": "light"
     },
     "output_type": "display_data"
    }
   ],
   "source": [
    "plot_acf(shampoo['Actual_sales'])"
   ]
  },
  {
   "cell_type": "code",
   "execution_count": 21,
   "metadata": {},
   "outputs": [],
   "source": [
    "### p-->3, q-->2, d-->?? (usually between 0 to 2)"
   ]
  },
  {
   "cell_type": "code",
   "execution_count": 22,
   "metadata": {},
   "outputs": [
    {
     "data": {
      "image/png": "[encoded data removed]",
      "text/plain": [
       "<Figure size 432x288 with 1 Axes>"
      ]
     },
     "execution_count": 22,
     "metadata": {},
     "output_type": "execute_result"
    },
    {
     "data": {
      "image/png": "[encoded data removed]",
      "text/plain": [
       "<Figure size 432x288 with 1 Axes>"
      ]
     },
     "metadata": {
      "needs_background": "light"
     },
     "output_type": "display_data"
    }
   ],
   "source": [
    "plot_pacf(shampoo['Actual_sales'])"
   ]
  },
  {
   "cell_type": "code",
   "execution_count": null,
   "metadata": {},
   "outputs": [],
   "source": []
  },
  {
   "cell_type": "code",
   "execution_count": 23,
   "metadata": {},
   "outputs": [],
   "source": [
    "from statsmodels.tsa.arima_model import ARIMA"
   ]
  },
  {
   "cell_type": "code",
   "execution_count": 24,
   "metadata": {},
   "outputs": [
    {
     "data": {
      "text/html": [
       "<div>\n",
       "<style scoped>\n",
       "    .dataframe tbody tr th:only-of-type {\n",
       "        vertical-align: middle;\n",
       "    }\n",
       "\n",
       "    .dataframe tbody tr th {\n",
       "        vertical-align: top;\n",
       "    }\n",
       "\n",
       "    .dataframe thead th {\n",
       "        text-align: right;\n",
       "    }\n",
       "</style>\n",
       "<table border=\"1\" class=\"dataframe\">\n",
       "  <thead>\n",
       "    <tr style=\"text-align: right;\">\n",
       "      <th></th>\n",
       "      <th>Actual_sales</th>\n",
       "      <th>Inflation</th>\n",
       "      <th>Forecast_sales</th>\n",
       "    </tr>\n",
       "    <tr>\n",
       "      <th>Month</th>\n",
       "      <th></th>\n",
       "      <th></th>\n",
       "      <th></th>\n",
       "    </tr>\n",
       "  </thead>\n",
       "  <tbody>\n",
       "    <tr>\n",
       "      <th>2-Jan</th>\n",
       "      <td>145.9</td>\n",
       "      <td>3</td>\n",
       "      <td>266.0</td>\n",
       "    </tr>\n",
       "    <tr>\n",
       "      <th>3-Jan</th>\n",
       "      <td>183.1</td>\n",
       "      <td>5</td>\n",
       "      <td>145.9</td>\n",
       "    </tr>\n",
       "    <tr>\n",
       "      <th>4-Jan</th>\n",
       "      <td>119.3</td>\n",
       "      <td>5</td>\n",
       "      <td>183.1</td>\n",
       "    </tr>\n",
       "    <tr>\n",
       "      <th>5-Jan</th>\n",
       "      <td>180.3</td>\n",
       "      <td>4</td>\n",
       "      <td>119.3</td>\n",
       "    </tr>\n",
       "    <tr>\n",
       "      <th>6-Jan</th>\n",
       "      <td>168.5</td>\n",
       "      <td>5</td>\n",
       "      <td>180.3</td>\n",
       "    </tr>\n",
       "  </tbody>\n",
       "</table>\n",
       "</div>"
      ],
      "text/plain": [
       "       Actual_sales  Inflation  Forecast_sales\n",
       "Month                                         \n",
       "2-Jan         145.9          3           266.0\n",
       "3-Jan         183.1          5           145.9\n",
       "4-Jan         119.3          5           183.1\n",
       "5-Jan         180.3          4           119.3\n",
       "6-Jan         168.5          5           180.3"
      ]
     },
     "execution_count": 24,
     "metadata": {},
     "output_type": "execute_result"
    }
   ],
   "source": [
    "shampoo.head()"
   ]
  },
  {
   "cell_type": "code",
   "execution_count": 25,
   "metadata": {},
   "outputs": [],
   "source": [
    "shampoo_clean=shampoo['Actual_sales']"
   ]
  },
  {
   "cell_type": "code",
   "execution_count": 26,
   "metadata": {},
   "outputs": [],
   "source": [
    "training_data=shampoo_clean[0:25]\n",
    "test_data=shampoo_clean[25:]\n",
    "\n",
    "### create test data that is basically unseen to our model, or which is basically is used for evalaution"
   ]
  },
  {
   "cell_type": "code",
   "execution_count": 27,
   "metadata": {},
   "outputs": [
    {
     "data": {
      "text/plain": [
       "25"
      ]
     },
     "execution_count": 27,
     "metadata": {},
     "output_type": "execute_result"
    }
   ],
   "source": [
    "len(training_data)"
   ]
  },
  {
   "cell_type": "code",
   "execution_count": 28,
   "metadata": {},
   "outputs": [
    {
     "data": {
      "text/plain": [
       "10"
      ]
     },
     "execution_count": 28,
     "metadata": {},
     "output_type": "execute_result"
    }
   ],
   "source": [
    "len(test_data)"
   ]
  },
  {
   "cell_type": "code",
   "execution_count": 29,
   "metadata": {},
   "outputs": [
    {
     "name": "stderr",
     "output_type": "stream",
     "text": [
      "C:\\Users\\mcr\\Anaconda3\\lib\\site-packages\\statsmodels\\tsa\\base\\tsa_model.py:214: ValueWarning: An unsupported index was provided and will be ignored when e.g. forecasting.\n",
      "  ' ignored when e.g. forecasting.', ValueWarning)\n",
      "C:\\Users\\mcr\\Anaconda3\\lib\\site-packages\\statsmodels\\tsa\\base\\tsa_model.py:214: ValueWarning: An unsupported index was provided and will be ignored when e.g. forecasting.\n",
      "  ' ignored when e.g. forecasting.', ValueWarning)\n"
     ]
    }
   ],
   "source": [
    "### arima= ARIMA(training_data,order=(p,d,q))\n",
    "\n",
    "arima= ARIMA(training_data,order=(2,1,3))"
   ]
  },
  {
   "cell_type": "code",
   "execution_count": 30,
   "metadata": {},
   "outputs": [
    {
     "name": "stderr",
     "output_type": "stream",
     "text": [
      "C:\\Users\\mcr\\Anaconda3\\lib\\site-packages\\statsmodels\\base\\model.py:548: HessianInversionWarning: Inverting hessian failed, no bse or cov_params available\n",
      "  'available', HessianInversionWarning)\n"
     ]
    }
   ],
   "source": [
    "### then doing model.fit ie fitting our model to data\n",
    "model=arima.fit()"
   ]
  },
  {
   "cell_type": "code",
   "execution_count": 31,
   "metadata": {},
   "outputs": [
    {
     "data": {
      "text/plain": [
       "273.77727211628843"
      ]
     },
     "execution_count": 31,
     "metadata": {},
     "output_type": "execute_result"
    }
   ],
   "source": [
    "model.aic"
   ]
  },
  {
   "cell_type": "code",
   "execution_count": 32,
   "metadata": {},
   "outputs": [],
   "source": [
    "pred= model.forecast(steps=10)[0]"
   ]
  },
  {
   "cell_type": "code",
   "execution_count": 33,
   "metadata": {},
   "outputs": [],
   "source": [
    "#### now we can compare our prediction in some cases, we are doing very well whereas in some cases, we are not doing good prediction"
   ]
  },
  {
   "cell_type": "code",
   "execution_count": 34,
   "metadata": {},
   "outputs": [
    {
     "data": {
      "text/plain": [
       "136.83463601621352"
      ]
     },
     "execution_count": 34,
     "metadata": {},
     "output_type": "execute_result"
    }
   ],
   "source": [
    "np.sqrt(mean_squared_error(test_data,pred))"
   ]
  },
  {
   "cell_type": "code",
   "execution_count": 35,
   "metadata": {},
   "outputs": [],
   "source": [
    "### now u will see it is better than the model that we have created as Error is not decreasing, that shows baseline model\n",
    "### is much more good in such sceario rather than ARIMA as, 108<136\n"
   ]
  },
  {
   "cell_type": "code",
   "execution_count": null,
   "metadata": {},
   "outputs": [],
   "source": []
  },
  {
   "cell_type": "markdown",
   "metadata": {},
   "source": [
    "## model Tuning or Hyperparameter Tuning or choosing the best pair of (p,d,q)"
   ]
  },
  {
   "cell_type": "code",
   "execution_count": 36,
   "metadata": {},
   "outputs": [],
   "source": [
    "#### now define hyper-para=meters \n",
    "p_values=range(0,5)\n",
    "d_values=range(0,3)\n",
    "q_values=range(0,5)\n"
   ]
  },
  {
   "cell_type": "code",
   "execution_count": 37,
   "metadata": {},
   "outputs": [],
   "source": [
    "import warnings\n",
    "warnings.filterwarnings('ignore')"
   ]
  },
  {
   "cell_type": "code",
   "execution_count": 38,
   "metadata": {},
   "outputs": [
    {
     "name": "stdout",
     "output_type": "stream",
     "text": [
      "MSE is 77876.373016 with order (0, 0, 0)\n",
      "MSE is 58397.26977495443 with order (0, 0, 1)\n",
      "MSE is 37686.44683575291 with order (0, 0, 2)\n",
      "MSE is 38298.46710021833 with order (0, 0, 3)\n",
      "MSE is 14624.996267361112 with order (0, 1, 0)\n",
      "MSE is 32822.09484223045 with order (0, 1, 1)\n",
      "MSE is 48339.14958644049 with order (0, 1, 2)\n",
      "MSE is 44379.20908931899 with order (0, 1, 3)\n",
      "MSE is 14992.647400756145 with order (0, 2, 0)\n",
      "MSE is 13794.288171003145 with order (0, 2, 1)\n",
      "MSE is 22489.950538001336 with order (0, 2, 2)\n",
      "MSE is 26634.814487919888 with order (0, 2, 3)\n",
      "MSE is 37922.16900492167 with order (1, 0, 0)\n",
      "MSE is 77876.05773899806 with order (1, 0, 1)\n",
      "MSE is 23690.10486158566 with order (1, 1, 0)\n",
      "MSE is 33466.7263137738 with order (1, 1, 1)\n",
      "MSE is 42066.41923296686 with order (1, 1, 2)\n",
      "MSE is 38991.98471158688 with order (1, 1, 3)\n",
      "MSE is 45715.93647349282 with order (1, 1, 4)\n",
      "MSE is 13690.990306270429 with order (1, 2, 0)\n",
      "MSE is 33870.15007018153 with order (2, 0, 0)\n",
      "MSE is 36963.03792325884 with order (2, 0, 1)\n",
      "MSE is 25884.163736374598 with order (2, 1, 0)\n",
      "MSE is 37323.85136401977 with order (2, 1, 1)\n",
      "MSE is 37909.98096047524 with order (2, 1, 3)\n",
      "MSE is 13687.39181940661 with order (2, 2, 0)\n",
      "MSE is 34366.45985823374 with order (3, 0, 0)\n",
      "MSE is 28675.189419706458 with order (3, 0, 1)\n",
      "MSE is 38389.7588347876 with order (3, 1, 0)\n",
      "MSE is 35940.34817306315 with order (3, 1, 1)\n",
      "MSE is 28687.080428753474 with order (3, 1, 2)\n",
      "MSE is 28985.705292463324 with order (3, 1, 3)\n",
      "MSE is 30205.0568702023 with order (3, 2, 0)\n",
      "MSE is 31939.305284583796 with order (3, 2, 1)\n",
      "MSE is 25503.281389147003 with order (3, 2, 4)\n",
      "MSE is 44323.70807177345 with order (4, 0, 0)\n",
      "MSE is 50145.486438312284 with order (4, 0, 1)\n",
      "MSE is 33357.10766484593 with order (4, 1, 0)\n",
      "MSE is 33293.09894049739 with order (4, 1, 1)\n",
      "MSE is 28936.5743422338 with order (4, 1, 2)\n",
      "MSE is 30427.083875581215 with order (4, 1, 4)\n",
      "MSE is 29032.69727608936 with order (4, 2, 0)\n",
      "MSE is 26077.446948009216 with order (4, 2, 1)\n",
      "MSE is 25809.517438347837 with order (4, 2, 2)\n",
      "MSE is 28707.06196878819 with order (4, 2, 3)\n",
      "MSE is 20448.50271081862 with order (4, 2, 4)\n"
     ]
    }
   ],
   "source": [
    "### so we are just trying to provide pairs of (p,d,q) & whichever pair will give me least error i will consider that pair, \n",
    "for p in p_values:\n",
    "    for d in d_values:\n",
    "        for q in q_values:\n",
    "            order=(p,d,q)\n",
    "            train=shampoo_clean[0:25]\n",
    "            test=shampoo_clean[25:]\n",
    "            predictions=[]\n",
    "            ### now we have train & test data that we can pass to our algorithm\n",
    "            for i in range(len(test)):\n",
    "                try:\n",
    "                    arima=ARIMA(train,order)\n",
    "                    ##displacement=0\n",
    "                    model=arima.fit(disp=0)\n",
    "                    pred_y=model.forecast()[0]\n",
    "                    predictions.append(pred_y)\n",
    "                    error=mean_squared_error(test,predictions)\n",
    "                    print('MSE is {} with order {}'.format(error, order))\n",
    "                except:\n",
    "                    continue\n"
   ]
  },
  {
   "cell_type": "code",
   "execution_count": null,
   "metadata": {},
   "outputs": [],
   "source": [
    "#### min MSE-13687 on (2,2,0)"
   ]
  },
  {
   "cell_type": "code",
   "execution_count": 39,
   "metadata": {},
   "outputs": [
    {
     "data": {
      "text/plain": [
       "116.9914526792449"
      ]
     },
     "execution_count": 39,
     "metadata": {},
     "output_type": "execute_result"
    }
   ],
   "source": [
    "np.sqrt(13687)"
   ]
  },
  {
   "cell_type": "code",
   "execution_count": null,
   "metadata": {},
   "outputs": [],
   "source": []
  },
  {
   "cell_type": "code",
   "execution_count": null,
   "metadata": {},
   "outputs": [],
   "source": [
    "#### now we will see still, Baseline performs bettter so we can stay with Baseline , lets try Arima Model"
   ]
  },
  {
   "cell_type": "code",
   "execution_count": null,
   "metadata": {},
   "outputs": [],
   "source": []
  },
  {
   "cell_type": "code",
   "execution_count": null,
   "metadata": {},
   "outputs": [],
   "source": []
  },
  {
   "cell_type": "code",
   "execution_count": null,
   "metadata": {},
   "outputs": [],
   "source": []
  },
  {
   "cell_type": "code",
   "execution_count": null,
   "metadata": {},
   "outputs": [],
   "source": []
  }
 ],
 "metadata": {
  "kernelspec": {
   "display_name": "Python 3",
   "language": "python",
   "name": "python3"
  },
  "language_info": {
   "codemirror_mode": {
    "name": "ipython",
    "version": 3
   },
   "file_extension": ".py",
   "mimetype": "text/x-python",
   "name": "python",
   "nbconvert_exporter": "python",
   "pygments_lexer": "ipython3",
   "version": "3.7.4"
  }
 },
 "nbformat": 4,
 "nbformat_minor": 2
}
