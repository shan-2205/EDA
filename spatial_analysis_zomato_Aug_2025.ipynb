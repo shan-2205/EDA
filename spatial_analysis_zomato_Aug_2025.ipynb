{
 "cells": [
  {
   "cell_type": "code",
   "execution_count": null,
   "id": "ad46ba02",
   "metadata": {},
   "outputs": [],
   "source": []
  },
  {
   "cell_type": "code",
   "execution_count": null,
   "id": "41d66122",
   "metadata": {},
   "outputs": [],
   "source": [
    "### till now case-study is of 1 hr 30 mins !\n",
    "    ### in latest release it will be of 1 hr 45 mins ! \n",
    "        ( & 10th prblm statement added + some new code added + new explaination added + new plots added + Conclusions Added )"
   ]
  },
  {
   "cell_type": "code",
   "execution_count": 160,
   "id": "08a5aa4d",
   "metadata": {},
   "outputs": [
    {
     "data": {
      "text/plain": [
       "'\\n\\nExtracted from chatgpt :\\n\\n\\n\\n\\n\\n\\n\\n'"
      ]
     },
     "execution_count": 160,
     "metadata": {},
     "output_type": "execute_result"
    }
   ],
   "source": [
    "\n",
    "'''\n",
    "\n",
    "Extracted from chatgpt :\n",
    "\n",
    "\n",
    "\n",
    "\n",
    "📊 A. Descriptive & Summary Analysis\n",
    "Total restaurants per location\n",
    "Top cuisines overall and per location\n",
    "Most common restaurant types (rest_type)\n",
    "How many allow online orders?\n",
    "How many support table booking?\n",
    "Average cost for two per area / city\n",
    "Ratings distribution\n",
    "Votes vs Ratings correlation\n",
    "\n",
    "\n",
    "\n",
    "🗺️ B. Geospatial Analysis\n",
    "Using location and lat/lon you generate:\n",
    "Heatmap of restaurant density\n",
    "Best-rated zones on a city map\n",
    "Clustering of types (fine-dining vs cafes)\n",
    "Marker-based popups with details (e.g., Yelahanka: 6 restaurants)\n",
    "\n",
    "\n",
    "\n",
    "🍽️ C. Culinary Preferences\n",
    "Most liked dishes (from dish_liked)\n",
    "Cuisine popularity vs rating\n",
    "Type of restaurant vs cost vs rating\n",
    "Location-wise most common cuisine\n",
    "\n",
    "\n",
    "\n",
    "📉 D. Cost vs Rating Analysis\n",
    "Is expensive food better rated?\n",
    "Scatter plots: rating vs cost, cost vs votes\n",
    "Boxplot of rating by cost brackets\n",
    "\n",
    "\n",
    "\n",
    "🌟 E. Top Restaurant Finder\n",
    "Top 10 restaurants by rating\n",
    "Top by votes or reviews\n",
    "Most frequently mentioned in reviews (reviews_list)\n",
    "\n",
    "\n",
    "\n",
    "📲 F. Platform Readiness\n",
    "How many restaurants allow online orders?\n",
    "Do online-ordering restaurants get better ratings?\n",
    "Do table-booking restaurants have higher cost?\n",
    "\n",
    "\n",
    "\n",
    "🧠 G. Sentiment Analysis (Advanced)\n",
    "If you process reviews_list:\n",
    "\n",
    "Extract text and run basic sentiment analysis\n",
    "Show location-wise customer satisfaction\n",
    "Word cloud of most common terms in good/bad reviews\n",
    "\n",
    "\n",
    "\n",
    "🧮 H. Clustering & Recommendation (ML)\n",
    "Cluster restaurants by price, rating, cuisine\n",
    "Recommend top 3 restaurants in a location based on filters\n",
    "Build a \"restaurant explorer\" app (Streamlit)\n",
    "\n",
    "\n",
    "\n",
    "🧾 I. Data Cleaning & Transformation Ideas\n",
    "Clean cost (approx_cost(for two people)) and rating (rate) columns\n",
    "Split cuisines and dish_liked into lists\n",
    "Parse reviews_list into structured format (if in text format)\n",
    "\n",
    "\n",
    "\n",
    "\n",
    "\n",
    "\n",
    "'''"
   ]
  },
  {
   "cell_type": "code",
   "execution_count": null,
   "id": "444e23ab",
   "metadata": {},
   "outputs": [],
   "source": []
  },
  {
   "cell_type": "markdown",
   "id": "430e1e40",
   "metadata": {},
   "source": [
    "## 1.. Lets Read Data For Analysis"
   ]
  },
  {
   "cell_type": "code",
   "execution_count": 1,
   "id": "090e7f76",
   "metadata": {},
   "outputs": [],
   "source": [
    "### import necessary packages \n",
    "\n",
    "import pandas as pd\n",
    "import numpy as np\n",
    "import matplotlib.pyplot as plt\n",
    "import seaborn as sns"
   ]
  },
  {
   "cell_type": "code",
   "execution_count": 2,
   "id": "a412f3c2",
   "metadata": {},
   "outputs": [],
   "source": [
    "data = pd.read_csv(r'R:\\All_Datasets\\Spatial_Analysis\\1.. Zomato/zomato.csv')"
   ]
  },
  {
   "cell_type": "code",
   "execution_count": null,
   "id": "fef7ad3c",
   "metadata": {},
   "outputs": [],
   "source": [
    "'''\n",
    "windows OS uses backslash \"\\\" in their file path \n",
    "whereas in MacOS , file paths use the forward slash / as the separator in their file path — just like Linux and Unix systems.\n",
    "\n",
    "So just to get rid of this issue , u have concept of raw string(r) just before file path which tells Python\n",
    "to read file as it is !\n",
    "\n",
    "'''"
   ]
  },
  {
   "cell_type": "code",
   "execution_count": 3,
   "id": "c6dcbfeb",
   "metadata": {},
   "outputs": [
    {
     "data": {
      "text/plain": [
       "pandas.core.frame.DataFrame"
      ]
     },
     "execution_count": 3,
     "metadata": {},
     "output_type": "execute_result"
    }
   ],
   "source": [
    "type(data) ## ie above \"data\" belongs to dataframe data-structure"
   ]
  },
  {
   "cell_type": "code",
   "execution_count": 4,
   "id": "22d00b64",
   "metadata": {},
   "outputs": [
    {
     "data": {
      "text/plain": [
       "'\\n\\npandas – This is the name of the Python library used for data manipulation and analysis.\\ncore – This is an internal module inside pandas that contains the core functionality.\\nframe – This is a submodule which contains the DataFrame class.\\nDataFrame – This is the actual class used to dataframe ( a data structures in pandas)..\\n\\n\\n\\n'"
      ]
     },
     "execution_count": 4,
     "metadata": {},
     "output_type": "execute_result"
    }
   ],
   "source": [
    "'''\n",
    "\n",
    "pandas – This is the name of the Python library used for data manipulation and analysis.\n",
    "core – This is an internal module inside pandas that contains the core functionality.\n",
    "frame – This is a submodule which contains the DataFrame class.\n",
    "DataFrame – This is the actual class used to dataframe ( a data structures in pandas)..\n",
    "\n",
    "\n",
    "\n",
    "'''"
   ]
  },
  {
   "cell_type": "code",
   "execution_count": 5,
   "id": "c6e7b461",
   "metadata": {},
   "outputs": [
    {
     "data": {
      "text/html": [
       "<div>\n",
       "<style scoped>\n",
       "    .dataframe tbody tr th:only-of-type {\n",
       "        vertical-align: middle;\n",
       "    }\n",
       "\n",
       "    .dataframe tbody tr th {\n",
       "        vertical-align: top;\n",
       "    }\n",
       "\n",
       "    .dataframe thead th {\n",
       "        text-align: right;\n",
       "    }\n",
       "</style>\n",
       "<table border=\"1\" class=\"dataframe\">\n",
       "  <thead>\n",
       "    <tr style=\"text-align: right;\">\n",
       "      <th></th>\n",
       "      <th>url</th>\n",
       "      <th>address</th>\n",
       "      <th>name</th>\n",
       "      <th>online_order</th>\n",
       "      <th>book_table</th>\n",
       "      <th>rate</th>\n",
       "      <th>votes</th>\n",
       "      <th>phone</th>\n",
       "      <th>location</th>\n",
       "      <th>rest_type</th>\n",
       "      <th>dish_liked</th>\n",
       "      <th>cuisines</th>\n",
       "      <th>approx_cost(for two people)</th>\n",
       "      <th>reviews_list</th>\n",
       "      <th>menu_item</th>\n",
       "      <th>listed_in(type)</th>\n",
       "      <th>listed_in(city)</th>\n",
       "    </tr>\n",
       "  </thead>\n",
       "  <tbody>\n",
       "    <tr>\n",
       "      <th>0</th>\n",
       "      <td>https://www.zomato.com/bangalore/jalsa-banasha...</td>\n",
       "      <td>942, 21st Main Road, 2nd Stage, Banashankari, ...</td>\n",
       "      <td>Jalsa</td>\n",
       "      <td>Yes</td>\n",
       "      <td>Yes</td>\n",
       "      <td>4.1/5</td>\n",
       "      <td>775</td>\n",
       "      <td>080 42297555\\r\\n+91 9743772233</td>\n",
       "      <td>Banashankari</td>\n",
       "      <td>Casual Dining</td>\n",
       "      <td>Pasta, Lunch Buffet, Masala Papad, Paneer Laja...</td>\n",
       "      <td>North Indian, Mughlai, Chinese</td>\n",
       "      <td>800</td>\n",
       "      <td>[('Rated 4.0', 'RATED\\n  A beautiful place to ...</td>\n",
       "      <td>[]</td>\n",
       "      <td>Buffet</td>\n",
       "      <td>Banashankari</td>\n",
       "    </tr>\n",
       "    <tr>\n",
       "      <th>1</th>\n",
       "      <td>https://www.zomato.com/bangalore/spice-elephan...</td>\n",
       "      <td>2nd Floor, 80 Feet Road, Near Big Bazaar, 6th ...</td>\n",
       "      <td>Spice Elephant</td>\n",
       "      <td>Yes</td>\n",
       "      <td>No</td>\n",
       "      <td>4.1/5</td>\n",
       "      <td>787</td>\n",
       "      <td>080 41714161</td>\n",
       "      <td>Banashankari</td>\n",
       "      <td>Casual Dining</td>\n",
       "      <td>Momos, Lunch Buffet, Chocolate Nirvana, Thai G...</td>\n",
       "      <td>Chinese, North Indian, Thai</td>\n",
       "      <td>800</td>\n",
       "      <td>[('Rated 4.0', 'RATED\\n  Had been here for din...</td>\n",
       "      <td>[]</td>\n",
       "      <td>Buffet</td>\n",
       "      <td>Banashankari</td>\n",
       "    </tr>\n",
       "    <tr>\n",
       "      <th>2</th>\n",
       "      <td>https://www.zomato.com/SanchurroBangalore?cont...</td>\n",
       "      <td>1112, Next to KIMS Medical College, 17th Cross...</td>\n",
       "      <td>San Churro Cafe</td>\n",
       "      <td>Yes</td>\n",
       "      <td>No</td>\n",
       "      <td>3.8/5</td>\n",
       "      <td>918</td>\n",
       "      <td>+91 9663487993</td>\n",
       "      <td>Banashankari</td>\n",
       "      <td>Cafe, Casual Dining</td>\n",
       "      <td>Churros, Cannelloni, Minestrone Soup, Hot Choc...</td>\n",
       "      <td>Cafe, Mexican, Italian</td>\n",
       "      <td>800</td>\n",
       "      <td>[('Rated 3.0', \"RATED\\n  Ambience is not that ...</td>\n",
       "      <td>[]</td>\n",
       "      <td>Buffet</td>\n",
       "      <td>Banashankari</td>\n",
       "    </tr>\n",
       "  </tbody>\n",
       "</table>\n",
       "</div>"
      ],
      "text/plain": [
       "                                                 url  \\\n",
       "0  https://www.zomato.com/bangalore/jalsa-banasha...   \n",
       "1  https://www.zomato.com/bangalore/spice-elephan...   \n",
       "2  https://www.zomato.com/SanchurroBangalore?cont...   \n",
       "\n",
       "                                             address             name  \\\n",
       "0  942, 21st Main Road, 2nd Stage, Banashankari, ...            Jalsa   \n",
       "1  2nd Floor, 80 Feet Road, Near Big Bazaar, 6th ...   Spice Elephant   \n",
       "2  1112, Next to KIMS Medical College, 17th Cross...  San Churro Cafe   \n",
       "\n",
       "  online_order book_table   rate  votes                           phone  \\\n",
       "0          Yes        Yes  4.1/5    775  080 42297555\\r\\n+91 9743772233   \n",
       "1          Yes         No  4.1/5    787                    080 41714161   \n",
       "2          Yes         No  3.8/5    918                  +91 9663487993   \n",
       "\n",
       "       location            rest_type  \\\n",
       "0  Banashankari        Casual Dining   \n",
       "1  Banashankari        Casual Dining   \n",
       "2  Banashankari  Cafe, Casual Dining   \n",
       "\n",
       "                                          dish_liked  \\\n",
       "0  Pasta, Lunch Buffet, Masala Papad, Paneer Laja...   \n",
       "1  Momos, Lunch Buffet, Chocolate Nirvana, Thai G...   \n",
       "2  Churros, Cannelloni, Minestrone Soup, Hot Choc...   \n",
       "\n",
       "                         cuisines approx_cost(for two people)  \\\n",
       "0  North Indian, Mughlai, Chinese                         800   \n",
       "1     Chinese, North Indian, Thai                         800   \n",
       "2          Cafe, Mexican, Italian                         800   \n",
       "\n",
       "                                        reviews_list menu_item  \\\n",
       "0  [('Rated 4.0', 'RATED\\n  A beautiful place to ...        []   \n",
       "1  [('Rated 4.0', 'RATED\\n  Had been here for din...        []   \n",
       "2  [('Rated 3.0', \"RATED\\n  Ambience is not that ...        []   \n",
       "\n",
       "  listed_in(type) listed_in(city)  \n",
       "0          Buffet    Banashankari  \n",
       "1          Buffet    Banashankari  \n",
       "2          Buffet    Banashankari  "
      ]
     },
     "execution_count": 5,
     "metadata": {},
     "output_type": "execute_result"
    }
   ],
   "source": [
    "data.head(3) ## getting first 3 rows of data"
   ]
  },
  {
   "cell_type": "code",
   "execution_count": 6,
   "id": "9a3dd2ff",
   "metadata": {},
   "outputs": [
    {
     "data": {
      "text/plain": [
       "Index(['url', 'address', 'name', 'online_order', 'book_table', 'rate', 'votes',\n",
       "       'phone', 'location', 'rest_type', 'dish_liked', 'cuisines',\n",
       "       'approx_cost(for two people)', 'reviews_list', 'menu_item',\n",
       "       'listed_in(type)', 'listed_in(city)'],\n",
       "      dtype='object')"
      ]
     },
     "execution_count": 6,
     "metadata": {},
     "output_type": "execute_result"
    }
   ],
   "source": [
    "data.columns ## getting all the columns of dataframe"
   ]
  },
  {
   "cell_type": "code",
   "execution_count": 7,
   "id": "231508e7",
   "metadata": {},
   "outputs": [
    {
     "data": {
      "text/plain": [
       "(51717, 17)"
      ]
     },
     "execution_count": 7,
     "metadata": {},
     "output_type": "execute_result"
    }
   ],
   "source": [
    "data.shape ## getting dimensions of dataframe .."
   ]
  },
  {
   "cell_type": "code",
   "execution_count": null,
   "id": "a55cac7b",
   "metadata": {},
   "outputs": [],
   "source": []
  },
  {
   "cell_type": "code",
   "execution_count": null,
   "id": "9b628378",
   "metadata": {},
   "outputs": [],
   "source": []
  },
  {
   "cell_type": "code",
   "execution_count": null,
   "id": "cd3f79e1",
   "metadata": {},
   "outputs": [],
   "source": []
  },
  {
   "cell_type": "markdown",
   "id": "46fcf814",
   "metadata": {},
   "source": [
    "## 2.. Performing data-preprocessing on data .."
   ]
  },
  {
   "cell_type": "code",
   "execution_count": 8,
   "id": "5d6fc97b",
   "metadata": {},
   "outputs": [
    {
     "data": {
      "text/plain": [
       "0"
      ]
     },
     "execution_count": 8,
     "metadata": {},
     "output_type": "execute_result"
    }
   ],
   "source": [
    "data.duplicated().sum() ## 0 duplicated entries"
   ]
  },
  {
   "cell_type": "code",
   "execution_count": 9,
   "id": "8ba49ab3",
   "metadata": {},
   "outputs": [
    {
     "data": {
      "text/plain": [
       "url                                0\n",
       "address                            0\n",
       "name                               0\n",
       "online_order                       0\n",
       "book_table                         0\n",
       "rate                            7775\n",
       "votes                              0\n",
       "phone                           1208\n",
       "location                          21\n",
       "rest_type                        227\n",
       "dish_liked                     28078\n",
       "cuisines                          45\n",
       "approx_cost(for two people)      346\n",
       "reviews_list                       0\n",
       "menu_item                          0\n",
       "listed_in(type)                    0\n",
       "listed_in(city)                    0\n",
       "dtype: int64"
      ]
     },
     "execution_count": 9,
     "metadata": {},
     "output_type": "execute_result"
    }
   ],
   "source": [
    "data.isnull().sum() ## getting total missing values in every feature of dataframe"
   ]
  },
  {
   "cell_type": "code",
   "execution_count": null,
   "id": "d8d6a5a4",
   "metadata": {},
   "outputs": [],
   "source": []
  },
  {
   "cell_type": "code",
   "execution_count": 10,
   "id": "6e83fa87",
   "metadata": {},
   "outputs": [],
   "source": [
    "### So first & foremost  we have to clean the missing values of location feature in order to come up with interesting results.."
   ]
  },
  {
   "cell_type": "code",
   "execution_count": 11,
   "id": "d47c4d43",
   "metadata": {},
   "outputs": [],
   "source": [
    "### As we have few missing values in location feature ,then we can drop that..\n",
    "\n",
    "data.dropna(subset=['location'] , inplace = True)"
   ]
  },
  {
   "cell_type": "code",
   "execution_count": 12,
   "id": "d4dde8c9",
   "metadata": {},
   "outputs": [
    {
     "data": {
      "text/plain": [
       "url                                0\n",
       "address                            0\n",
       "name                               0\n",
       "online_order                       0\n",
       "book_table                         0\n",
       "rate                            7754\n",
       "votes                              0\n",
       "phone                           1187\n",
       "location                           0\n",
       "rest_type                        206\n",
       "dish_liked                     28057\n",
       "cuisines                          24\n",
       "approx_cost(for two people)      325\n",
       "reviews_list                       0\n",
       "menu_item                          0\n",
       "listed_in(type)                    0\n",
       "listed_in(city)                    0\n",
       "dtype: int64"
      ]
     },
     "execution_count": 12,
     "metadata": {},
     "output_type": "execute_result"
    }
   ],
   "source": [
    "data.isnull().sum()"
   ]
  },
  {
   "cell_type": "code",
   "execution_count": null,
   "id": "decc6ac8",
   "metadata": {},
   "outputs": [],
   "source": []
  },
  {
   "cell_type": "code",
   "execution_count": 13,
   "id": "99718df2",
   "metadata": {},
   "outputs": [
    {
     "data": {
      "text/html": [
       "<div>\n",
       "<style scoped>\n",
       "    .dataframe tbody tr th:only-of-type {\n",
       "        vertical-align: middle;\n",
       "    }\n",
       "\n",
       "    .dataframe tbody tr th {\n",
       "        vertical-align: top;\n",
       "    }\n",
       "\n",
       "    .dataframe thead th {\n",
       "        text-align: right;\n",
       "    }\n",
       "</style>\n",
       "<table border=\"1\" class=\"dataframe\">\n",
       "  <thead>\n",
       "    <tr style=\"text-align: right;\">\n",
       "      <th></th>\n",
       "      <th>url</th>\n",
       "      <th>address</th>\n",
       "      <th>name</th>\n",
       "      <th>online_order</th>\n",
       "      <th>book_table</th>\n",
       "      <th>rate</th>\n",
       "      <th>votes</th>\n",
       "      <th>phone</th>\n",
       "      <th>location</th>\n",
       "      <th>rest_type</th>\n",
       "      <th>dish_liked</th>\n",
       "      <th>cuisines</th>\n",
       "      <th>approx_cost(for two people)</th>\n",
       "      <th>reviews_list</th>\n",
       "      <th>menu_item</th>\n",
       "      <th>listed_in(type)</th>\n",
       "      <th>listed_in(city)</th>\n",
       "    </tr>\n",
       "  </thead>\n",
       "  <tbody>\n",
       "    <tr>\n",
       "      <th>0</th>\n",
       "      <td>https://www.zomato.com/bangalore/jalsa-banasha...</td>\n",
       "      <td>942, 21st Main Road, 2nd Stage, Banashankari, ...</td>\n",
       "      <td>Jalsa</td>\n",
       "      <td>Yes</td>\n",
       "      <td>Yes</td>\n",
       "      <td>4.1/5</td>\n",
       "      <td>775</td>\n",
       "      <td>080 42297555\\r\\n+91 9743772233</td>\n",
       "      <td>Banashankari</td>\n",
       "      <td>Casual Dining</td>\n",
       "      <td>Pasta, Lunch Buffet, Masala Papad, Paneer Laja...</td>\n",
       "      <td>North Indian, Mughlai, Chinese</td>\n",
       "      <td>800</td>\n",
       "      <td>[('Rated 4.0', 'RATED\\n  A beautiful place to ...</td>\n",
       "      <td>[]</td>\n",
       "      <td>Buffet</td>\n",
       "      <td>Banashankari</td>\n",
       "    </tr>\n",
       "    <tr>\n",
       "      <th>1</th>\n",
       "      <td>https://www.zomato.com/bangalore/spice-elephan...</td>\n",
       "      <td>2nd Floor, 80 Feet Road, Near Big Bazaar, 6th ...</td>\n",
       "      <td>Spice Elephant</td>\n",
       "      <td>Yes</td>\n",
       "      <td>No</td>\n",
       "      <td>4.1/5</td>\n",
       "      <td>787</td>\n",
       "      <td>080 41714161</td>\n",
       "      <td>Banashankari</td>\n",
       "      <td>Casual Dining</td>\n",
       "      <td>Momos, Lunch Buffet, Chocolate Nirvana, Thai G...</td>\n",
       "      <td>Chinese, North Indian, Thai</td>\n",
       "      <td>800</td>\n",
       "      <td>[('Rated 4.0', 'RATED\\n  Had been here for din...</td>\n",
       "      <td>[]</td>\n",
       "      <td>Buffet</td>\n",
       "      <td>Banashankari</td>\n",
       "    </tr>\n",
       "    <tr>\n",
       "      <th>2</th>\n",
       "      <td>https://www.zomato.com/SanchurroBangalore?cont...</td>\n",
       "      <td>1112, Next to KIMS Medical College, 17th Cross...</td>\n",
       "      <td>San Churro Cafe</td>\n",
       "      <td>Yes</td>\n",
       "      <td>No</td>\n",
       "      <td>3.8/5</td>\n",
       "      <td>918</td>\n",
       "      <td>+91 9663487993</td>\n",
       "      <td>Banashankari</td>\n",
       "      <td>Cafe, Casual Dining</td>\n",
       "      <td>Churros, Cannelloni, Minestrone Soup, Hot Choc...</td>\n",
       "      <td>Cafe, Mexican, Italian</td>\n",
       "      <td>800</td>\n",
       "      <td>[('Rated 3.0', \"RATED\\n  Ambience is not that ...</td>\n",
       "      <td>[]</td>\n",
       "      <td>Buffet</td>\n",
       "      <td>Banashankari</td>\n",
       "    </tr>\n",
       "  </tbody>\n",
       "</table>\n",
       "</div>"
      ],
      "text/plain": [
       "                                                 url  \\\n",
       "0  https://www.zomato.com/bangalore/jalsa-banasha...   \n",
       "1  https://www.zomato.com/bangalore/spice-elephan...   \n",
       "2  https://www.zomato.com/SanchurroBangalore?cont...   \n",
       "\n",
       "                                             address             name  \\\n",
       "0  942, 21st Main Road, 2nd Stage, Banashankari, ...            Jalsa   \n",
       "1  2nd Floor, 80 Feet Road, Near Big Bazaar, 6th ...   Spice Elephant   \n",
       "2  1112, Next to KIMS Medical College, 17th Cross...  San Churro Cafe   \n",
       "\n",
       "  online_order book_table   rate  votes                           phone  \\\n",
       "0          Yes        Yes  4.1/5    775  080 42297555\\r\\n+91 9743772233   \n",
       "1          Yes         No  4.1/5    787                    080 41714161   \n",
       "2          Yes         No  3.8/5    918                  +91 9663487993   \n",
       "\n",
       "       location            rest_type  \\\n",
       "0  Banashankari        Casual Dining   \n",
       "1  Banashankari        Casual Dining   \n",
       "2  Banashankari  Cafe, Casual Dining   \n",
       "\n",
       "                                          dish_liked  \\\n",
       "0  Pasta, Lunch Buffet, Masala Papad, Paneer Laja...   \n",
       "1  Momos, Lunch Buffet, Chocolate Nirvana, Thai G...   \n",
       "2  Churros, Cannelloni, Minestrone Soup, Hot Choc...   \n",
       "\n",
       "                         cuisines approx_cost(for two people)  \\\n",
       "0  North Indian, Mughlai, Chinese                         800   \n",
       "1     Chinese, North Indian, Thai                         800   \n",
       "2          Cafe, Mexican, Italian                         800   \n",
       "\n",
       "                                        reviews_list menu_item  \\\n",
       "0  [('Rated 4.0', 'RATED\\n  A beautiful place to ...        []   \n",
       "1  [('Rated 4.0', 'RATED\\n  Had been here for din...        []   \n",
       "2  [('Rated 3.0', \"RATED\\n  Ambience is not that ...        []   \n",
       "\n",
       "  listed_in(type) listed_in(city)  \n",
       "0          Buffet    Banashankari  \n",
       "1          Buffet    Banashankari  \n",
       "2          Buffet    Banashankari  "
      ]
     },
     "execution_count": 13,
     "metadata": {},
     "output_type": "execute_result"
    }
   ],
   "source": [
    "data.head(3)"
   ]
  },
  {
   "cell_type": "code",
   "execution_count": null,
   "id": "492edd65",
   "metadata": {},
   "outputs": [],
   "source": []
  },
  {
   "cell_type": "code",
   "execution_count": 14,
   "id": "7ee032fb",
   "metadata": {},
   "outputs": [],
   "source": [
    "df = data.copy() ## creating copy of \"data\" into \"df\" ,so that whatever manipulations we will do , we will do on top of df"
   ]
  },
  {
   "cell_type": "code",
   "execution_count": null,
   "id": "d5bc0017",
   "metadata": {},
   "outputs": [],
   "source": []
  },
  {
   "cell_type": "code",
   "execution_count": 15,
   "id": "9f99b580",
   "metadata": {},
   "outputs": [],
   "source": [
    "### Lets make every place more readible so that u will get more more accurate geographical co-ordinates..\n",
    "### kindly make sure that u have only 1 white space just to make your location more readable  , \n",
    "## So lets remove all extra white-spaces if available in data.."
   ]
  },
  {
   "cell_type": "code",
   "execution_count": 16,
   "id": "2c9bb482",
   "metadata": {},
   "outputs": [],
   "source": [
    "df['location'] = df['location'].str.strip() + ' , Bangalore , Karnataka , India'\n",
    "\n",
    "### .str is pandas' string accessor' (it means using str ,u can apply all string operations on every value of \"location\" series)\n",
    "## strip() will remove all the leading and trailing spaces.."
   ]
  },
  {
   "cell_type": "code",
   "execution_count": 17,
   "id": "14a4417b",
   "metadata": {},
   "outputs": [
    {
     "data": {
      "text/plain": [
       "0             Banashankari , Bangalore , Karnataka , India\n",
       "1             Banashankari , Bangalore , Karnataka , India\n",
       "2             Banashankari , Bangalore , Karnataka , India\n",
       "3             Banashankari , Bangalore , Karnataka , India\n",
       "4             Basavanagudi , Bangalore , Karnataka , India\n",
       "                               ...                        \n",
       "51712           Whitefield , Bangalore , Karnataka , India\n",
       "51713           Whitefield , Bangalore , Karnataka , India\n",
       "51714           Whitefield , Bangalore , Karnataka , India\n",
       "51715    ITPL Main Road, Whitefield , Bangalore , Karna...\n",
       "51716    ITPL Main Road, Whitefield , Bangalore , Karna...\n",
       "Name: location, Length: 51696, dtype: object"
      ]
     },
     "execution_count": 17,
     "metadata": {},
     "output_type": "execute_result"
    }
   ],
   "source": [
    "df['location']"
   ]
  },
  {
   "cell_type": "code",
   "execution_count": null,
   "id": "a6819d42",
   "metadata": {},
   "outputs": [],
   "source": []
  },
  {
   "cell_type": "code",
   "execution_count": 18,
   "id": "0addbff0",
   "metadata": {},
   "outputs": [
    {
     "data": {
      "text/plain": [
       "url                            object\n",
       "address                        object\n",
       "name                           object\n",
       "online_order                   object\n",
       "book_table                     object\n",
       "rate                           object\n",
       "votes                           int64\n",
       "phone                          object\n",
       "location                       object\n",
       "rest_type                      object\n",
       "dish_liked                     object\n",
       "cuisines                       object\n",
       "approx_cost(for two people)    object\n",
       "reviews_list                   object\n",
       "menu_item                      object\n",
       "listed_in(type)                object\n",
       "listed_in(city)                object\n",
       "dtype: object"
      ]
     },
     "execution_count": 18,
     "metadata": {},
     "output_type": "execute_result"
    }
   ],
   "source": [
    "df.dtypes ## various data-types"
   ]
  },
  {
   "cell_type": "code",
   "execution_count": 19,
   "id": "535f24cc",
   "metadata": {},
   "outputs": [
    {
     "data": {
      "text/plain": [
       "'\\n\\n🟨 Categorical Data\\nCategorical data refers to a data type that can be stored into groups/categories/labels \\nIncludes data types like : object and bool\\nexample : age group, blood type etc.. \\n\\n\\n🔢 Numerical Data\\nNumerical data refers to the data that is in the form of numbers\\nNumerical data have : Integer & Float data-type\\nexample : your Bank balance: , no of Bank accounts you have !\\n\\n\\n\\nNumerical data has two categories: discrete data and continuous data\\n\\nDiscrete data : It basically takes countable numbers like 1, 2, 3, 4, 5, and so on. \\n                age of a fly : 8 , 9 day etc..\\n                \\nContinuous data : which is continuous in nature \\n                  amount of sugar , 11.2 kg  , temp of a city  , your bank balance !\\n                  \\n\\n\\n'"
      ]
     },
     "execution_count": 19,
     "metadata": {},
     "output_type": "execute_result"
    }
   ],
   "source": [
    "'''\n",
    "\n",
    "🟨 Categorical Data\n",
    "Categorical data refers to a data type that can be stored into groups/categories/labels \n",
    "Includes data types like : object and bool\n",
    "example : age group, blood type etc.. \n",
    "\n",
    "\n",
    "🔢 Numerical Data\n",
    "Numerical data refers to the data that is in the form of numbers\n",
    "Numerical data have : Integer & Float data-type\n",
    "example : your Bank balance: , no of Bank accounts you have !\n",
    "\n",
    "\n",
    "\n",
    "Numerical data has two categories: discrete data and continuous data\n",
    "\n",
    "Discrete data : It basically takes countable numbers like 1, 2, 3, 4, 5, and so on. \n",
    "                age of a fly : 8 , 9 day etc..\n",
    "                \n",
    "Continuous data : which is continuous in nature \n",
    "                  amount of sugar , 11.2 kg  , temp of a city  , your bank balance !\n",
    "                  \n",
    "\n",
    "\n",
    "'''"
   ]
  },
  {
   "cell_type": "code",
   "execution_count": 20,
   "id": "cfe3687f",
   "metadata": {},
   "outputs": [
    {
     "data": {
      "text/plain": [
       "\"\\n\\nVariations of int are : ('int64','int32','int16') in numpy library..\\n\\n\\nInt16 is a 16 bit signed integer , it means it can store both positive & negative values\\nint16 has has a range of  (2^15 − 1) to -2^15 \\nint16 has a length of 16 bits (2 bytes) of memory to store data.. ie Int16 uses 16 bits \\n\\n\\nInt32 is a 32 bit signed integer , it means it storesboth positive & negative values\\nint32 has has a range of (2³¹ − 1) to  -2^31\\nint32 has a length of 32 bits (4 bytes) of memory to store data.. ie Int32 uses 32 bits\\n\\n\\nInt64 is a 64 bit signed integer , it means it can store both positive & negative values\\nint64 has has a range of  (2^63 − 1) to -2^63 \\nint64 has a length of 64 bits (8 bytes) of memory to store data.. ie Int64 uses 64 bits.\\n             \\n\\n\\n📌 Key Points:\\n\\n1 ) Storage Capacity (Range):\\n\\nint16: Stores smaller numbers\\nint32: Stores bigger numbers\\nint64: Stores very large numbers\\n\\n\\n2 ) Memory Usage:\\n\\nint16 uses 2 bytes\\nint32 uses 4 bytes\\nint64 uses 8 bytes\\n→ So, int64 takes the most space in memory.\\n\\n\\n3 ) Speed & Performance:\\n\\nSmaller types like int16 or int32 are usually faster on most systems.\\nint64 can be slower because it uses more memory and processing power.\\n\\n\\n4 ) When to Use What:\\n\\nUse int16 for small numbers to save memory.\\nUse int32 for medium-size numbers (common default).\\nUse int64 if your numbers are very large (like population data, big IDs, etc.).\\n\\n\\n5 ) Precision Advantage:\\n\\nint64 can store big whole numbers more accurately than float32, which might lose precision.\\n\\n\\n\\n\""
      ]
     },
     "execution_count": 20,
     "metadata": {},
     "output_type": "execute_result"
    }
   ],
   "source": [
    "'''\n",
    "\n",
    "Variations of int are : ('int64','int32','int16') in numpy library..\n",
    "\n",
    "\n",
    "Int16 is a 16 bit signed integer , it means it can store both positive & negative values\n",
    "int16 has has a range of  (2^15 − 1) to -2^15 \n",
    "int16 has a length of 16 bits (2 bytes) of memory to store data.. ie Int16 uses 16 bits \n",
    "\n",
    "\n",
    "Int32 is a 32 bit signed integer , it means it storesboth positive & negative values\n",
    "int32 has has a range of (2³¹ − 1) to  -2^31\n",
    "int32 has a length of 32 bits (4 bytes) of memory to store data.. ie Int32 uses 32 bits\n",
    "\n",
    "\n",
    "Int64 is a 64 bit signed integer , it means it can store both positive & negative values\n",
    "int64 has has a range of  (2^63 − 1) to -2^63 \n",
    "int64 has a length of 64 bits (8 bytes) of memory to store data.. ie Int64 uses 64 bits.\n",
    "             \n",
    "\n",
    "\n",
    "📌 Key Points:\n",
    "\n",
    "1 ) Storage Capacity (Range):\n",
    "\n",
    "int16: Stores smaller numbers\n",
    "int32: Stores bigger numbers\n",
    "int64: Stores very large numbers\n",
    "\n",
    "\n",
    "2 ) Memory Usage:\n",
    "\n",
    "int16 uses 2 bytes\n",
    "int32 uses 4 bytes\n",
    "int64 uses 8 bytes\n",
    "→ So, int64 takes the most space in memory.\n",
    "\n",
    "\n",
    "3 ) Speed & Performance:\n",
    "\n",
    "Smaller types like int16 or int32 are usually faster on most systems.\n",
    "int64 can be slower because it uses more memory and processing power.\n",
    "\n",
    "\n",
    "4 ) When to Use What:\n",
    "\n",
    "Use int16 for small numbers to save memory.\n",
    "Use int32 for medium-size numbers (common default).\n",
    "Use int64 if your numbers are very large (like population data, big IDs, etc.).\n",
    "\n",
    "\n",
    "5 ) Precision Advantage:\n",
    "\n",
    "int64 can store big whole numbers more accurately than float32, which might lose precision.\n",
    "\n",
    "\n",
    "\n",
    "'''\n"
   ]
  },
  {
   "cell_type": "code",
   "execution_count": null,
   "id": "8d5cdc94",
   "metadata": {},
   "outputs": [],
   "source": []
  },
  {
   "cell_type": "code",
   "execution_count": null,
   "id": "64e35446",
   "metadata": {},
   "outputs": [],
   "source": []
  },
  {
   "cell_type": "code",
   "execution_count": null,
   "id": "77ad65a6",
   "metadata": {},
   "outputs": [],
   "source": []
  },
  {
   "cell_type": "code",
   "execution_count": null,
   "id": "b2aec9d5",
   "metadata": {},
   "outputs": [],
   "source": []
  },
  {
   "cell_type": "code",
   "execution_count": null,
   "id": "97a863a6",
   "metadata": {},
   "outputs": [],
   "source": []
  },
  {
   "cell_type": "markdown",
   "id": "1e778b05",
   "metadata": {},
   "source": [
    "## 3.. Extract Latitudes & longitudes from data.."
   ]
  },
  {
   "cell_type": "code",
   "execution_count": null,
   "id": "3c960e54",
   "metadata": {},
   "outputs": [],
   "source": [
    "## now the immediate question is - how to extract lat & lon of location ??"
   ]
  },
  {
   "cell_type": "code",
   "execution_count": null,
   "id": "632767cf",
   "metadata": {},
   "outputs": [],
   "source": [
    "### so using address or location feature , we can extract what the geographical co-ordinates are !\n",
    "\n",
    "### so just for simplicity first we will learn how to extract it using 'location' feature ,then \n",
    "### in the next session we will learn how to do it using 'address' feature.."
   ]
  },
  {
   "cell_type": "code",
   "execution_count": null,
   "id": "f6d37315",
   "metadata": {},
   "outputs": [],
   "source": []
  },
  {
   "cell_type": "markdown",
   "id": "ea0d0c96",
   "metadata": {},
   "source": [
    "#### definition of latitudes & Longitudes :\n",
    "\n",
    "    Every place on Earth can be located using a unique pair of numbers called coordinates (Lat , Lon) :\n",
    "\n",
    "    The first number is the latitude\n",
    "    The second number is the longitude\n",
    "    \n",
    "    These coordinates are useful for maps, GPS, navigation and geolocation..\n",
    "    \n",
    "    Lets understand what latitudes & longitudes are ( From Globe ) :\n",
    "    We have a Equator (the line around the middle of the Earth)..\n",
    "    We have a Prime Meridian (a line running from the North Pole to the South Pole passing through Greenwich, England).\n",
    "    \n",
    "    The globe is split into an imaginary 360 sections from both top to bottom (north to south) \n",
    "    and 180 sections from side to side (ie east to west). \n",
    "    \n",
    "    The sections running from top to bottom(ie north to south) on a globe are called longitude &\n",
    "    it measure how far east or west a place is from the Prime Meridian.\n",
    "    \n",
    "    The sections running from side to side (ie east to west) on a globe are called latitude &\n",
    "    it measures how far north or south a place is from the Equator.\n",
    "    "
   ]
  },
  {
   "cell_type": "code",
   "execution_count": 21,
   "id": "3afcbe96",
   "metadata": {},
   "outputs": [
    {
     "data": {
      "image/png": "[encoded data removed]",
      "text/plain": [
       "<IPython.core.display.Image object>"
      ]
     },
     "metadata": {},
     "output_type": "display_data"
    }
   ],
   "source": [
    "from IPython.display import Image, display\n",
    "\n",
    "# Replace with your image file name\n",
    "display(Image(filename=r'R:\\3.. Entire_Spatial_Analysis_Projects\\1.. Zomato_use_case\\2.. Current_Spatial_Zomato_Udemy/Globe.png'))\n"
   ]
  },
  {
   "cell_type": "code",
   "execution_count": null,
   "id": "d0427a41",
   "metadata": {},
   "outputs": [],
   "source": []
  },
  {
   "cell_type": "code",
   "execution_count": null,
   "id": "0afcb42d",
   "metadata": {},
   "outputs": [],
   "source": []
  },
  {
   "cell_type": "code",
   "execution_count": 22,
   "id": "3122fe8f",
   "metadata": {},
   "outputs": [],
   "source": [
    "## first we will learn how to extract Latitudes & longitudes using 'location' feature"
   ]
  },
  {
   "cell_type": "code",
   "execution_count": 23,
   "id": "8c44a7e1",
   "metadata": {},
   "outputs": [
    {
     "data": {
      "text/plain": [
       "Index(['url', 'address', 'name', 'online_order', 'book_table', 'rate', 'votes',\n",
       "       'phone', 'location', 'rest_type', 'dish_liked', 'cuisines',\n",
       "       'approx_cost(for two people)', 'reviews_list', 'menu_item',\n",
       "       'listed_in(type)', 'listed_in(city)'],\n",
       "      dtype='object')"
      ]
     },
     "execution_count": 23,
     "metadata": {},
     "output_type": "execute_result"
    }
   ],
   "source": [
    "df.columns"
   ]
  },
  {
   "cell_type": "code",
   "execution_count": 24,
   "id": "64f48646",
   "metadata": {},
   "outputs": [
    {
     "data": {
      "text/html": [
       "<div>\n",
       "<style scoped>\n",
       "    .dataframe tbody tr th:only-of-type {\n",
       "        vertical-align: middle;\n",
       "    }\n",
       "\n",
       "    .dataframe tbody tr th {\n",
       "        vertical-align: top;\n",
       "    }\n",
       "\n",
       "    .dataframe thead th {\n",
       "        text-align: right;\n",
       "    }\n",
       "</style>\n",
       "<table border=\"1\" class=\"dataframe\">\n",
       "  <thead>\n",
       "    <tr style=\"text-align: right;\">\n",
       "      <th></th>\n",
       "      <th>url</th>\n",
       "      <th>address</th>\n",
       "      <th>name</th>\n",
       "      <th>online_order</th>\n",
       "      <th>book_table</th>\n",
       "      <th>rate</th>\n",
       "      <th>votes</th>\n",
       "      <th>phone</th>\n",
       "      <th>location</th>\n",
       "      <th>rest_type</th>\n",
       "      <th>dish_liked</th>\n",
       "      <th>cuisines</th>\n",
       "      <th>approx_cost(for two people)</th>\n",
       "      <th>reviews_list</th>\n",
       "      <th>menu_item</th>\n",
       "      <th>listed_in(type)</th>\n",
       "      <th>listed_in(city)</th>\n",
       "    </tr>\n",
       "  </thead>\n",
       "  <tbody>\n",
       "    <tr>\n",
       "      <th>0</th>\n",
       "      <td>https://www.zomato.com/bangalore/jalsa-banasha...</td>\n",
       "      <td>942, 21st Main Road, 2nd Stage, Banashankari, ...</td>\n",
       "      <td>Jalsa</td>\n",
       "      <td>Yes</td>\n",
       "      <td>Yes</td>\n",
       "      <td>4.1/5</td>\n",
       "      <td>775</td>\n",
       "      <td>080 42297555\\r\\n+91 9743772233</td>\n",
       "      <td>Banashankari , Bangalore , Karnataka , India</td>\n",
       "      <td>Casual Dining</td>\n",
       "      <td>Pasta, Lunch Buffet, Masala Papad, Paneer Laja...</td>\n",
       "      <td>North Indian, Mughlai, Chinese</td>\n",
       "      <td>800</td>\n",
       "      <td>[('Rated 4.0', 'RATED\\n  A beautiful place to ...</td>\n",
       "      <td>[]</td>\n",
       "      <td>Buffet</td>\n",
       "      <td>Banashankari</td>\n",
       "    </tr>\n",
       "    <tr>\n",
       "      <th>1</th>\n",
       "      <td>https://www.zomato.com/bangalore/spice-elephan...</td>\n",
       "      <td>2nd Floor, 80 Feet Road, Near Big Bazaar, 6th ...</td>\n",
       "      <td>Spice Elephant</td>\n",
       "      <td>Yes</td>\n",
       "      <td>No</td>\n",
       "      <td>4.1/5</td>\n",
       "      <td>787</td>\n",
       "      <td>080 41714161</td>\n",
       "      <td>Banashankari , Bangalore , Karnataka , India</td>\n",
       "      <td>Casual Dining</td>\n",
       "      <td>Momos, Lunch Buffet, Chocolate Nirvana, Thai G...</td>\n",
       "      <td>Chinese, North Indian, Thai</td>\n",
       "      <td>800</td>\n",
       "      <td>[('Rated 4.0', 'RATED\\n  Had been here for din...</td>\n",
       "      <td>[]</td>\n",
       "      <td>Buffet</td>\n",
       "      <td>Banashankari</td>\n",
       "    </tr>\n",
       "  </tbody>\n",
       "</table>\n",
       "</div>"
      ],
      "text/plain": [
       "                                                 url  \\\n",
       "0  https://www.zomato.com/bangalore/jalsa-banasha...   \n",
       "1  https://www.zomato.com/bangalore/spice-elephan...   \n",
       "\n",
       "                                             address            name  \\\n",
       "0  942, 21st Main Road, 2nd Stage, Banashankari, ...           Jalsa   \n",
       "1  2nd Floor, 80 Feet Road, Near Big Bazaar, 6th ...  Spice Elephant   \n",
       "\n",
       "  online_order book_table   rate  votes                           phone  \\\n",
       "0          Yes        Yes  4.1/5    775  080 42297555\\r\\n+91 9743772233   \n",
       "1          Yes         No  4.1/5    787                    080 41714161   \n",
       "\n",
       "                                       location      rest_type  \\\n",
       "0  Banashankari , Bangalore , Karnataka , India  Casual Dining   \n",
       "1  Banashankari , Bangalore , Karnataka , India  Casual Dining   \n",
       "\n",
       "                                          dish_liked  \\\n",
       "0  Pasta, Lunch Buffet, Masala Papad, Paneer Laja...   \n",
       "1  Momos, Lunch Buffet, Chocolate Nirvana, Thai G...   \n",
       "\n",
       "                         cuisines approx_cost(for two people)  \\\n",
       "0  North Indian, Mughlai, Chinese                         800   \n",
       "1     Chinese, North Indian, Thai                         800   \n",
       "\n",
       "                                        reviews_list menu_item  \\\n",
       "0  [('Rated 4.0', 'RATED\\n  A beautiful place to ...        []   \n",
       "1  [('Rated 4.0', 'RATED\\n  Had been here for din...        []   \n",
       "\n",
       "  listed_in(type) listed_in(city)  \n",
       "0          Buffet    Banashankari  \n",
       "1          Buffet    Banashankari  "
      ]
     },
     "execution_count": 24,
     "metadata": {},
     "output_type": "execute_result"
    }
   ],
   "source": [
    "df.head(2)"
   ]
  },
  {
   "cell_type": "code",
   "execution_count": null,
   "id": "af0ccfa0",
   "metadata": {},
   "outputs": [],
   "source": []
  },
  {
   "cell_type": "code",
   "execution_count": null,
   "id": "a40a7f79",
   "metadata": {},
   "outputs": [],
   "source": []
  },
  {
   "cell_type": "code",
   "execution_count": 25,
   "id": "7cbb4799",
   "metadata": {},
   "outputs": [],
   "source": [
    "rest_loc = pd.DataFrame() ## creating dataframe of all the unique locations of Bengalore"
   ]
  },
  {
   "cell_type": "code",
   "execution_count": 26,
   "id": "7d6b85f8",
   "metadata": {},
   "outputs": [],
   "source": [
    "rest_loc['Name'] = df['location'].unique()"
   ]
  },
  {
   "cell_type": "code",
   "execution_count": 27,
   "id": "eb6000b4",
   "metadata": {},
   "outputs": [
    {
     "data": {
      "text/html": [
       "<div>\n",
       "<style scoped>\n",
       "    .dataframe tbody tr th:only-of-type {\n",
       "        vertical-align: middle;\n",
       "    }\n",
       "\n",
       "    .dataframe tbody tr th {\n",
       "        vertical-align: top;\n",
       "    }\n",
       "\n",
       "    .dataframe thead th {\n",
       "        text-align: right;\n",
       "    }\n",
       "</style>\n",
       "<table border=\"1\" class=\"dataframe\">\n",
       "  <thead>\n",
       "    <tr style=\"text-align: right;\">\n",
       "      <th></th>\n",
       "      <th>Name</th>\n",
       "    </tr>\n",
       "  </thead>\n",
       "  <tbody>\n",
       "    <tr>\n",
       "      <th>0</th>\n",
       "      <td>Banashankari , Bangalore , Karnataka , India</td>\n",
       "    </tr>\n",
       "    <tr>\n",
       "      <th>1</th>\n",
       "      <td>Basavanagudi , Bangalore , Karnataka , India</td>\n",
       "    </tr>\n",
       "    <tr>\n",
       "      <th>2</th>\n",
       "      <td>Mysore Road , Bangalore , Karnataka , India</td>\n",
       "    </tr>\n",
       "    <tr>\n",
       "      <th>3</th>\n",
       "      <td>Jayanagar , Bangalore , Karnataka , India</td>\n",
       "    </tr>\n",
       "    <tr>\n",
       "      <th>4</th>\n",
       "      <td>Kumaraswamy Layout , Bangalore , Karnataka , I...</td>\n",
       "    </tr>\n",
       "    <tr>\n",
       "      <th>...</th>\n",
       "      <td>...</td>\n",
       "    </tr>\n",
       "    <tr>\n",
       "      <th>88</th>\n",
       "      <td>West Bangalore , Bangalore , Karnataka , India</td>\n",
       "    </tr>\n",
       "    <tr>\n",
       "      <th>89</th>\n",
       "      <td>Magadi Road , Bangalore , Karnataka , India</td>\n",
       "    </tr>\n",
       "    <tr>\n",
       "      <th>90</th>\n",
       "      <td>Yelahanka , Bangalore , Karnataka , India</td>\n",
       "    </tr>\n",
       "    <tr>\n",
       "      <th>91</th>\n",
       "      <td>Sahakara Nagar , Bangalore , Karnataka , India</td>\n",
       "    </tr>\n",
       "    <tr>\n",
       "      <th>92</th>\n",
       "      <td>Peenya , Bangalore , Karnataka , India</td>\n",
       "    </tr>\n",
       "  </tbody>\n",
       "</table>\n",
       "<p>93 rows × 1 columns</p>\n",
       "</div>"
      ],
      "text/plain": [
       "                                                 Name\n",
       "0        Banashankari , Bangalore , Karnataka , India\n",
       "1        Basavanagudi , Bangalore , Karnataka , India\n",
       "2         Mysore Road , Bangalore , Karnataka , India\n",
       "3           Jayanagar , Bangalore , Karnataka , India\n",
       "4   Kumaraswamy Layout , Bangalore , Karnataka , I...\n",
       "..                                                ...\n",
       "88     West Bangalore , Bangalore , Karnataka , India\n",
       "89        Magadi Road , Bangalore , Karnataka , India\n",
       "90          Yelahanka , Bangalore , Karnataka , India\n",
       "91     Sahakara Nagar , Bangalore , Karnataka , India\n",
       "92             Peenya , Bangalore , Karnataka , India\n",
       "\n",
       "[93 rows x 1 columns]"
      ]
     },
     "execution_count": 27,
     "metadata": {},
     "output_type": "execute_result"
    }
   ],
   "source": [
    "rest_loc"
   ]
  },
  {
   "cell_type": "code",
   "execution_count": null,
   "id": "e9b4b6c9",
   "metadata": {},
   "outputs": [],
   "source": []
  },
  {
   "cell_type": "code",
   "execution_count": 28,
   "id": "aa8f49d4",
   "metadata": {},
   "outputs": [],
   "source": [
    "# !pip install geopy"
   ]
  },
  {
   "cell_type": "code",
   "execution_count": 29,
   "id": "2ba4b826",
   "metadata": {},
   "outputs": [],
   "source": [
    "from geopy.geocoders import Nominatim\n",
    "\n",
    "### Nominatim is a tool that uses OpenStreetMap data & it extracts Geographical co-ordinates from address or location"
   ]
  },
  {
   "cell_type": "code",
   "execution_count": 30,
   "id": "b734f207",
   "metadata": {},
   "outputs": [],
   "source": [
    "geolocator = Nominatim(user_agent=\"app\" , timeout = None ) ## set timeout=None to get rid of timeout error"
   ]
  },
  {
   "cell_type": "code",
   "execution_count": null,
   "id": "a03e213c",
   "metadata": {},
   "outputs": [],
   "source": [
    "'''\n",
    "'user_agent' = \"app\" , ie u are trying to establish connection to the Nominatim server..\n",
    "🚫 If you don’t set user_agent, Nominatim will reject your requests.\n",
    "\n",
    "\n",
    "By default, geopy has a timeout (usually 1 second or 5 seconds).\n",
    "\n",
    "If the API is slow or your network is lagging or u may have slow Internet, it may throw GeocoderTimedOut.\n",
    "Setting timeout = None means: “Wait untill a response comes.”\n",
    " \n",
    "\n",
    "'''"
   ]
  },
  {
   "cell_type": "code",
   "execution_count": 31,
   "id": "bdc8b84d",
   "metadata": {},
   "outputs": [
    {
     "data": {
      "text/plain": [
       "'\\n\\nNominatim (especially the free version have a limit of 1 request per second maximum from an individual IP.\\nIf you exceed this limit, your requests may:\\n\\nBe blocked temporarily\\nGet delayed\\nOr start returning errors (like 429: Too Many Requests)\\n\\n\\n\\n\\nHow to get rid of this issue :\\n1sy way : Use a paid geocoding API (like Google Maps, Mapbox) \\n2nd way : U can add time.sleep(1) between requests:\\n\\n'"
      ]
     },
     "execution_count": 31,
     "metadata": {},
     "output_type": "execute_result"
    }
   ],
   "source": [
    "'''\n",
    "regarding time.sleep(1) : \n",
    "Nominatim (especially the free version have a limit of 1 request per second maximum from an individual IP.\n",
    "If you exceed this limit, your requests may:\n",
    "\n",
    "Be blocked temporarily\n",
    "Get delayed\n",
    "Or start returning errors (like 429: Too Many Requests)\n",
    "\n",
    "\n",
    "\n",
    "\n",
    "How to get rid of this issue :\n",
    "1sy way : Use a paid geocoding API (like Google Maps, Mapbox) \n",
    "2nd way : U can add time.sleep(1) between requests:\n",
    "\n",
    "'''"
   ]
  },
  {
   "cell_type": "code",
   "execution_count": 32,
   "id": "b3ce4aa8",
   "metadata": {},
   "outputs": [],
   "source": [
    "import time\n",
    "lat = [] ## define lat list to store all the latitudes\n",
    "lon = [] ## define lon list to store all the longitudes\n",
    "\n",
    "for location in rest_loc['Name']:\n",
    "    geocoded_location = geolocator.geocode(location)\n",
    "    time.sleep(1)  # wait 1 second to respect Nominatim's rate limit\n",
    "\n",
    "    if location:\n",
    "        lat.append(geocoded_location.latitude)\n",
    "        lon.append(geocoded_location.longitude)\n",
    "    else:\n",
    "        lat.append(np.nan)\n",
    "        lon.append(np.nan)\n",
    "\n",
    "        \n",
    "### you have around 90 entries & since u add time.sleep(1) just to respect Nominatim's rate limit\n",
    "### So whole code will take around 1.5 - 2 mins to execute it.."
   ]
  },
  {
   "cell_type": "code",
   "execution_count": 33,
   "id": "9d741a6e",
   "metadata": {},
   "outputs": [
    {
     "name": "stdout",
     "output_type": "stream",
     "text": [
      "[12.9278196, 12.9417261, 12.9467026, 12.9292731, 12.9067683, 12.9274413, 12.9660722, 12.9055682, 12.9096941, 12.9287596, 12.965718, 12.9651215, 12.9060737, 12.9112758, 12.8591407, 12.9089453, 12.9850987, 12.8487599, 12.9116225, 12.9552572, 12.9239942, 12.9489339, 12.9555367, 12.9348429, 12.9408685, 12.9684808, 12.9364846, 13.0394104, 12.9327778, 12.9361208, 12.9963995, 12.9833162, 12.9584696, 12.9732913, 12.9277245, 12.9975851, 13.0227204, 12.9755264, 12.971609, 12.9722287, 12.9749142, 12.9778793, 12.9672634, 12.9855286, 12.9800059, 12.9758014, 12.9884255, 12.9813402, 12.9822423, 12.9921738, 13.031992, 12.9624669, 12.945245, 12.9678074, 13.0219668, 13.0027353, 12.9931876, 13.0148544, 12.9390255, 12.9779079, 12.957998, 12.9730087, 12.9578658, 12.9652094, 12.9876393, 12.9616273, 13.007516, 12.9243692, 12.9282918, 12.9357366, 12.9553487, 13.0005359, 13.0141618, 13.0222347, 13.0422794, 13.037077, 13.0221416, 13.039186, 13.0784743, nan, 12.8744383, 12.9846713, 13.0382184, 12.9176571, 12.9957937, nan, 12.9911804, 13.0221838, 12.9529035, 12.975608, 13.1006982, 13.0621474, 13.0329814]\n"
     ]
    }
   ],
   "source": [
    "print(lat)"
   ]
  },
  {
   "cell_type": "code",
   "execution_count": 34,
   "id": "df4d22ed",
   "metadata": {},
   "outputs": [],
   "source": [
    "rest_loc['lat'] = lat\n",
    "rest_loc['lon'] = lon"
   ]
  },
  {
   "cell_type": "code",
   "execution_count": 35,
   "id": "fb97a184",
   "metadata": {},
   "outputs": [
    {
     "data": {
      "text/html": [
       "<div>\n",
       "<style scoped>\n",
       "    .dataframe tbody tr th:only-of-type {\n",
       "        vertical-align: middle;\n",
       "    }\n",
       "\n",
       "    .dataframe tbody tr th {\n",
       "        vertical-align: top;\n",
       "    }\n",
       "\n",
       "    .dataframe thead th {\n",
       "        text-align: right;\n",
       "    }\n",
       "</style>\n",
       "<table border=\"1\" class=\"dataframe\">\n",
       "  <thead>\n",
       "    <tr style=\"text-align: right;\">\n",
       "      <th></th>\n",
       "      <th>Name</th>\n",
       "      <th>lat</th>\n",
       "      <th>lon</th>\n",
       "    </tr>\n",
       "  </thead>\n",
       "  <tbody>\n",
       "    <tr>\n",
       "      <th>0</th>\n",
       "      <td>Banashankari , Bangalore , Karnataka , India</td>\n",
       "      <td>12.927820</td>\n",
       "      <td>77.556621</td>\n",
       "    </tr>\n",
       "    <tr>\n",
       "      <th>1</th>\n",
       "      <td>Basavanagudi , Bangalore , Karnataka , India</td>\n",
       "      <td>12.941726</td>\n",
       "      <td>77.575502</td>\n",
       "    </tr>\n",
       "    <tr>\n",
       "      <th>2</th>\n",
       "      <td>Mysore Road , Bangalore , Karnataka , India</td>\n",
       "      <td>12.946703</td>\n",
       "      <td>77.530070</td>\n",
       "    </tr>\n",
       "    <tr>\n",
       "      <th>3</th>\n",
       "      <td>Jayanagar , Bangalore , Karnataka , India</td>\n",
       "      <td>12.929273</td>\n",
       "      <td>77.582423</td>\n",
       "    </tr>\n",
       "    <tr>\n",
       "      <th>4</th>\n",
       "      <td>Kumaraswamy Layout , Bangalore , Karnataka , I...</td>\n",
       "      <td>12.906768</td>\n",
       "      <td>77.559502</td>\n",
       "    </tr>\n",
       "    <tr>\n",
       "      <th>...</th>\n",
       "      <td>...</td>\n",
       "      <td>...</td>\n",
       "      <td>...</td>\n",
       "    </tr>\n",
       "    <tr>\n",
       "      <th>88</th>\n",
       "      <td>West Bangalore , Bangalore , Karnataka , India</td>\n",
       "      <td>12.952903</td>\n",
       "      <td>77.515800</td>\n",
       "    </tr>\n",
       "    <tr>\n",
       "      <th>89</th>\n",
       "      <td>Magadi Road , Bangalore , Karnataka , India</td>\n",
       "      <td>12.975608</td>\n",
       "      <td>77.555356</td>\n",
       "    </tr>\n",
       "    <tr>\n",
       "      <th>90</th>\n",
       "      <td>Yelahanka , Bangalore , Karnataka , India</td>\n",
       "      <td>13.100698</td>\n",
       "      <td>77.596345</td>\n",
       "    </tr>\n",
       "    <tr>\n",
       "      <th>91</th>\n",
       "      <td>Sahakara Nagar , Bangalore , Karnataka , India</td>\n",
       "      <td>13.062147</td>\n",
       "      <td>77.580061</td>\n",
       "    </tr>\n",
       "    <tr>\n",
       "      <th>92</th>\n",
       "      <td>Peenya , Bangalore , Karnataka , India</td>\n",
       "      <td>13.032981</td>\n",
       "      <td>77.533180</td>\n",
       "    </tr>\n",
       "  </tbody>\n",
       "</table>\n",
       "<p>93 rows × 3 columns</p>\n",
       "</div>"
      ],
      "text/plain": [
       "                                                 Name        lat        lon\n",
       "0        Banashankari , Bangalore , Karnataka , India  12.927820  77.556621\n",
       "1        Basavanagudi , Bangalore , Karnataka , India  12.941726  77.575502\n",
       "2         Mysore Road , Bangalore , Karnataka , India  12.946703  77.530070\n",
       "3           Jayanagar , Bangalore , Karnataka , India  12.929273  77.582423\n",
       "4   Kumaraswamy Layout , Bangalore , Karnataka , I...  12.906768  77.559502\n",
       "..                                                ...        ...        ...\n",
       "88     West Bangalore , Bangalore , Karnataka , India  12.952903  77.515800\n",
       "89        Magadi Road , Bangalore , Karnataka , India  12.975608  77.555356\n",
       "90          Yelahanka , Bangalore , Karnataka , India  13.100698  77.596345\n",
       "91     Sahakara Nagar , Bangalore , Karnataka , India  13.062147  77.580061\n",
       "92             Peenya , Bangalore , Karnataka , India  13.032981  77.533180\n",
       "\n",
       "[93 rows x 3 columns]"
      ]
     },
     "execution_count": 35,
     "metadata": {},
     "output_type": "execute_result"
    }
   ],
   "source": [
    "rest_loc"
   ]
  },
  {
   "cell_type": "raw",
   "id": "ae6e9161",
   "metadata": {},
   "source": [
    "We have found out latitude and longitude of each location listed in the dataset using geopy\n",
    "This is used to plot maps."
   ]
  },
  {
   "cell_type": "code",
   "execution_count": null,
   "id": "85720120",
   "metadata": {},
   "outputs": [],
   "source": []
  },
  {
   "cell_type": "code",
   "execution_count": 36,
   "id": "c1e5fd4d",
   "metadata": {},
   "outputs": [
    {
     "data": {
      "text/plain": [
       "Name    0\n",
       "lat     2\n",
       "lon     2\n",
       "dtype: int64"
      ]
     },
     "execution_count": 36,
     "metadata": {},
     "output_type": "execute_result"
    }
   ],
   "source": [
    "rest_loc.isnull().sum() ## checking missing values in a rest_loc dataframe.."
   ]
  },
  {
   "cell_type": "code",
   "execution_count": 37,
   "id": "25f85e6e",
   "metadata": {},
   "outputs": [
    {
     "data": {
      "text/plain": [
       "0     False\n",
       "1     False\n",
       "2     False\n",
       "3     False\n",
       "4     False\n",
       "      ...  \n",
       "88    False\n",
       "89    False\n",
       "90    False\n",
       "91    False\n",
       "92    False\n",
       "Name: lat, Length: 93, dtype: bool"
      ]
     },
     "execution_count": 37,
     "metadata": {},
     "output_type": "execute_result"
    }
   ],
   "source": [
    "rest_loc['lat'].isnull()"
   ]
  },
  {
   "cell_type": "code",
   "execution_count": 38,
   "id": "f058ddd9",
   "metadata": {},
   "outputs": [
    {
     "data": {
      "text/html": [
       "<div>\n",
       "<style scoped>\n",
       "    .dataframe tbody tr th:only-of-type {\n",
       "        vertical-align: middle;\n",
       "    }\n",
       "\n",
       "    .dataframe tbody tr th {\n",
       "        vertical-align: top;\n",
       "    }\n",
       "\n",
       "    .dataframe thead th {\n",
       "        text-align: right;\n",
       "    }\n",
       "</style>\n",
       "<table border=\"1\" class=\"dataframe\">\n",
       "  <thead>\n",
       "    <tr style=\"text-align: right;\">\n",
       "      <th></th>\n",
       "      <th>Name</th>\n",
       "      <th>lat</th>\n",
       "      <th>lon</th>\n",
       "    </tr>\n",
       "  </thead>\n",
       "  <tbody>\n",
       "    <tr>\n",
       "      <th>79</th>\n",
       "      <td>Rammurthy Nagar , Bangalore , Karnataka , India</td>\n",
       "      <td>NaN</td>\n",
       "      <td>NaN</td>\n",
       "    </tr>\n",
       "    <tr>\n",
       "      <th>85</th>\n",
       "      <td>Sadashiv Nagar , Bangalore , Karnataka , India</td>\n",
       "      <td>NaN</td>\n",
       "      <td>NaN</td>\n",
       "    </tr>\n",
       "  </tbody>\n",
       "</table>\n",
       "</div>"
      ],
      "text/plain": [
       "                                               Name  lat  lon\n",
       "79  Rammurthy Nagar , Bangalore , Karnataka , India  NaN  NaN\n",
       "85   Sadashiv Nagar , Bangalore , Karnataka , India  NaN  NaN"
      ]
     },
     "execution_count": 38,
     "metadata": {},
     "output_type": "execute_result"
    }
   ],
   "source": [
    "rest_loc[rest_loc['lat'].isnull()]"
   ]
  },
  {
   "cell_type": "code",
   "execution_count": null,
   "id": "5e41bc8c",
   "metadata": {},
   "outputs": [],
   "source": []
  },
  {
   "cell_type": "code",
   "execution_count": 39,
   "id": "c4618367",
   "metadata": {},
   "outputs": [],
   "source": [
    "\n",
    "### lets take help of Google or chatGPT or Search engine in such circumstances..\n",
    "### google as \"co-ordinates of Rammurthy Nagar , Bangalore , Karnataka\" & find co-ordinates as :"
   ]
  },
  {
   "cell_type": "code",
   "execution_count": 40,
   "id": "5577c8a2",
   "metadata": {},
   "outputs": [],
   "source": [
    "### for Rammurthy Nagar , Bangalore ( Rammurthy Nagar is situated in north-eastern part of Bangalore)\n",
    "### 13.0163° N, 77.6785° E"
   ]
  },
  {
   "cell_type": "code",
   "execution_count": 41,
   "id": "232a65ce",
   "metadata": {},
   "outputs": [],
   "source": [
    "rest_loc.loc[79, 'lat'] = 13.0163\n",
    "rest_loc.loc[79, 'lon'] = 77.6785"
   ]
  },
  {
   "cell_type": "code",
   "execution_count": null,
   "id": "62aa721d",
   "metadata": {},
   "outputs": [],
   "source": []
  },
  {
   "cell_type": "code",
   "execution_count": 42,
   "id": "18b5150f",
   "metadata": {},
   "outputs": [],
   "source": [
    "### for Sadashiv Nagar ,\n",
    "### 13.0068 (Lat) & 77.5813(Lon)"
   ]
  },
  {
   "cell_type": "code",
   "execution_count": 43,
   "id": "f97040fc",
   "metadata": {},
   "outputs": [],
   "source": [
    "rest_loc.loc[85, 'lat'] = 13.0068\n",
    "rest_loc.loc[85, 'lon'] = 77.5813"
   ]
  },
  {
   "cell_type": "code",
   "execution_count": 44,
   "id": "d698ffea",
   "metadata": {},
   "outputs": [
    {
     "data": {
      "text/plain": [
       "Name    0\n",
       "lat     0\n",
       "lon     0\n",
       "dtype: int64"
      ]
     },
     "execution_count": 44,
     "metadata": {},
     "output_type": "execute_result"
    }
   ],
   "source": [
    "rest_loc.isnull().sum()"
   ]
  },
  {
   "cell_type": "code",
   "execution_count": null,
   "id": "1813c21c",
   "metadata": {},
   "outputs": [],
   "source": []
  },
  {
   "cell_type": "code",
   "execution_count": null,
   "id": "2eaee88e",
   "metadata": {},
   "outputs": [],
   "source": []
  },
  {
   "cell_type": "code",
   "execution_count": null,
   "id": "9d8fd479",
   "metadata": {},
   "outputs": [],
   "source": []
  },
  {
   "cell_type": "code",
   "execution_count": null,
   "id": "098c062c",
   "metadata": {},
   "outputs": [],
   "source": []
  },
  {
   "cell_type": "markdown",
   "id": "f6ad1a91",
   "metadata": {},
   "source": [
    "## 4.. Writing Structured Queries to extract Latitudes & Longitudes"
   ]
  },
  {
   "cell_type": "code",
   "execution_count": 45,
   "id": "403bc0c3",
   "metadata": {},
   "outputs": [
    {
     "data": {
      "text/html": [
       "<div>\n",
       "<style scoped>\n",
       "    .dataframe tbody tr th:only-of-type {\n",
       "        vertical-align: middle;\n",
       "    }\n",
       "\n",
       "    .dataframe tbody tr th {\n",
       "        vertical-align: top;\n",
       "    }\n",
       "\n",
       "    .dataframe thead th {\n",
       "        text-align: right;\n",
       "    }\n",
       "</style>\n",
       "<table border=\"1\" class=\"dataframe\">\n",
       "  <thead>\n",
       "    <tr style=\"text-align: right;\">\n",
       "      <th></th>\n",
       "      <th>url</th>\n",
       "      <th>address</th>\n",
       "      <th>name</th>\n",
       "      <th>online_order</th>\n",
       "      <th>book_table</th>\n",
       "      <th>rate</th>\n",
       "      <th>votes</th>\n",
       "      <th>phone</th>\n",
       "      <th>location</th>\n",
       "      <th>rest_type</th>\n",
       "      <th>dish_liked</th>\n",
       "      <th>cuisines</th>\n",
       "      <th>approx_cost(for two people)</th>\n",
       "      <th>reviews_list</th>\n",
       "      <th>menu_item</th>\n",
       "      <th>listed_in(type)</th>\n",
       "      <th>listed_in(city)</th>\n",
       "    </tr>\n",
       "  </thead>\n",
       "  <tbody>\n",
       "    <tr>\n",
       "      <th>0</th>\n",
       "      <td>https://www.zomato.com/bangalore/jalsa-banasha...</td>\n",
       "      <td>942, 21st Main Road, 2nd Stage, Banashankari, ...</td>\n",
       "      <td>Jalsa</td>\n",
       "      <td>Yes</td>\n",
       "      <td>Yes</td>\n",
       "      <td>4.1/5</td>\n",
       "      <td>775</td>\n",
       "      <td>080 42297555\\r\\n+91 9743772233</td>\n",
       "      <td>Banashankari , Bangalore , Karnataka , India</td>\n",
       "      <td>Casual Dining</td>\n",
       "      <td>Pasta, Lunch Buffet, Masala Papad, Paneer Laja...</td>\n",
       "      <td>North Indian, Mughlai, Chinese</td>\n",
       "      <td>800</td>\n",
       "      <td>[('Rated 4.0', 'RATED\\n  A beautiful place to ...</td>\n",
       "      <td>[]</td>\n",
       "      <td>Buffet</td>\n",
       "      <td>Banashankari</td>\n",
       "    </tr>\n",
       "    <tr>\n",
       "      <th>1</th>\n",
       "      <td>https://www.zomato.com/bangalore/spice-elephan...</td>\n",
       "      <td>2nd Floor, 80 Feet Road, Near Big Bazaar, 6th ...</td>\n",
       "      <td>Spice Elephant</td>\n",
       "      <td>Yes</td>\n",
       "      <td>No</td>\n",
       "      <td>4.1/5</td>\n",
       "      <td>787</td>\n",
       "      <td>080 41714161</td>\n",
       "      <td>Banashankari , Bangalore , Karnataka , India</td>\n",
       "      <td>Casual Dining</td>\n",
       "      <td>Momos, Lunch Buffet, Chocolate Nirvana, Thai G...</td>\n",
       "      <td>Chinese, North Indian, Thai</td>\n",
       "      <td>800</td>\n",
       "      <td>[('Rated 4.0', 'RATED\\n  Had been here for din...</td>\n",
       "      <td>[]</td>\n",
       "      <td>Buffet</td>\n",
       "      <td>Banashankari</td>\n",
       "    </tr>\n",
       "  </tbody>\n",
       "</table>\n",
       "</div>"
      ],
      "text/plain": [
       "                                                 url  \\\n",
       "0  https://www.zomato.com/bangalore/jalsa-banasha...   \n",
       "1  https://www.zomato.com/bangalore/spice-elephan...   \n",
       "\n",
       "                                             address            name  \\\n",
       "0  942, 21st Main Road, 2nd Stage, Banashankari, ...           Jalsa   \n",
       "1  2nd Floor, 80 Feet Road, Near Big Bazaar, 6th ...  Spice Elephant   \n",
       "\n",
       "  online_order book_table   rate  votes                           phone  \\\n",
       "0          Yes        Yes  4.1/5    775  080 42297555\\r\\n+91 9743772233   \n",
       "1          Yes         No  4.1/5    787                    080 41714161   \n",
       "\n",
       "                                       location      rest_type  \\\n",
       "0  Banashankari , Bangalore , Karnataka , India  Casual Dining   \n",
       "1  Banashankari , Bangalore , Karnataka , India  Casual Dining   \n",
       "\n",
       "                                          dish_liked  \\\n",
       "0  Pasta, Lunch Buffet, Masala Papad, Paneer Laja...   \n",
       "1  Momos, Lunch Buffet, Chocolate Nirvana, Thai G...   \n",
       "\n",
       "                         cuisines approx_cost(for two people)  \\\n",
       "0  North Indian, Mughlai, Chinese                         800   \n",
       "1     Chinese, North Indian, Thai                         800   \n",
       "\n",
       "                                        reviews_list menu_item  \\\n",
       "0  [('Rated 4.0', 'RATED\\n  A beautiful place to ...        []   \n",
       "1  [('Rated 4.0', 'RATED\\n  Had been here for din...        []   \n",
       "\n",
       "  listed_in(type) listed_in(city)  \n",
       "0          Buffet    Banashankari  \n",
       "1          Buffet    Banashankari  "
      ]
     },
     "execution_count": 45,
     "metadata": {},
     "output_type": "execute_result"
    }
   ],
   "source": [
    "df.head(2)"
   ]
  },
  {
   "cell_type": "code",
   "execution_count": null,
   "id": "f718e1dd",
   "metadata": {},
   "outputs": [],
   "source": []
  },
  {
   "cell_type": "code",
   "execution_count": 46,
   "id": "ad47276f",
   "metadata": {},
   "outputs": [],
   "source": [
    "geolocator = Nominatim(user_agent = \"app\" , timeout = None )"
   ]
  },
  {
   "cell_type": "code",
   "execution_count": 47,
   "id": "c23dc860",
   "metadata": {},
   "outputs": [
    {
     "data": {
      "text/plain": [
       "'942, 21st Main Road, 2nd Stage, Banashankari, Bangalore'"
      ]
     },
     "execution_count": 47,
     "metadata": {},
     "output_type": "execute_result"
    }
   ],
   "source": [
    "df['address'][0]"
   ]
  },
  {
   "cell_type": "code",
   "execution_count": 48,
   "id": "8ae76951",
   "metadata": {},
   "outputs": [],
   "source": [
    "loc = geolocator.geocode(df['address'][0])"
   ]
  },
  {
   "cell_type": "code",
   "execution_count": 49,
   "id": "7f612339",
   "metadata": {},
   "outputs": [
    {
     "data": {
      "text/plain": [
       "False"
      ]
     },
     "execution_count": 49,
     "metadata": {},
     "output_type": "execute_result"
    }
   ],
   "source": [
    "hasattr(loc , 'latitude')\n",
    "\n",
    "\n",
    "## hasattr(loc,'latitude')  Return whether the loc has an attribute of latitude or not..\n",
    "\n",
    "### it means address doesn't have any property as latitudeie it is unable to find any geo-graphical feature for address feature."
   ]
  },
  {
   "cell_type": "code",
   "execution_count": null,
   "id": "91b243d6",
   "metadata": {},
   "outputs": [],
   "source": []
  },
  {
   "cell_type": "code",
   "execution_count": 50,
   "id": "48549f9b",
   "metadata": {},
   "outputs": [
    {
     "data": {
      "text/plain": [
       "'\\n\\nthis address might be incomplete bcz :\\n\\na ) it doesn\\'t have any postal code (PIN)\\n        eg Banashankari, Bangalore – 560070\\n\\nb ) Nominatim may not able to recognize House numbers and local-level details (like \"942\") \\n    unless they\\'re part of public databases..\\n    Its quite possible that House numbers like 942 are not saved or visible in OpenStreetMap\\'s public data \\n    (which Nominatim uses)..\\n    [ It is almost equivalent to how Google Maps might not find a small house in a remote area.]\\n    \\n    \\nc ) Country name is also missing \\n\\n'"
      ]
     },
     "execution_count": 50,
     "metadata": {},
     "output_type": "execute_result"
    }
   ],
   "source": [
    "'''\n",
    "\n",
    "this address might be incomplete bcz :\n",
    "\n",
    "a ) it doesn't have any postal code (PIN)\n",
    "        eg Banashankari, Bangalore – 560070\n",
    "\n",
    "b ) Nominatim may not able to recognize House numbers and local-level details (like \"942\") \n",
    "    unless they're part of public databases..\n",
    "    Its quite possible that House numbers like 942 are not saved or visible in OpenStreetMap's public data \n",
    "    (which Nominatim uses)..\n",
    "    [ It is almost equivalent to how Google Maps might not find a small house in a remote area.]\n",
    "    \n",
    "    \n",
    "c ) Country name is also missing \n",
    "\n",
    "'''"
   ]
  },
  {
   "cell_type": "code",
   "execution_count": 51,
   "id": "669a9518",
   "metadata": {},
   "outputs": [
    {
     "data": {
      "text/plain": [
       "True"
      ]
     },
     "execution_count": 51,
     "metadata": {},
     "output_type": "execute_result"
    }
   ],
   "source": [
    "a = geolocator.geocode(\"2nd Stage, Banashankari, Bangalore\")\n",
    "hasattr(a , \"latitude\")"
   ]
  },
  {
   "cell_type": "code",
   "execution_count": 155,
   "id": "c6218c10",
   "metadata": {},
   "outputs": [
    {
     "data": {
      "text/plain": [
       "12.9268667"
      ]
     },
     "execution_count": 155,
     "metadata": {},
     "output_type": "execute_result"
    }
   ],
   "source": [
    "a.latitude"
   ]
  },
  {
   "cell_type": "code",
   "execution_count": 52,
   "id": "df56aac9",
   "metadata": {},
   "outputs": [
    {
     "data": {
      "text/plain": [
       "True"
      ]
     },
     "execution_count": 52,
     "metadata": {},
     "output_type": "execute_result"
    }
   ],
   "source": [
    "b  = geolocator.geocode(\"21st Main Road, 2nd Stage, Banashankari, Bangalore\")\n",
    "hasattr(b , \"latitude\")"
   ]
  },
  {
   "cell_type": "code",
   "execution_count": null,
   "id": "a224e770",
   "metadata": {},
   "outputs": [],
   "source": []
  },
  {
   "cell_type": "code",
   "execution_count": null,
   "id": "c074bf18",
   "metadata": {},
   "outputs": [],
   "source": []
  },
  {
   "cell_type": "code",
   "execution_count": null,
   "id": "b39e0f4f",
   "metadata": {},
   "outputs": [],
   "source": [
    "### So more complete the info(address) , more accurate co-ordinates you have !\n",
    "### & thats what the structured queries are bcz u are actually trying to provide structure to your address so that Nominatim \n",
    "### is able to understand it.."
   ]
  },
  {
   "cell_type": "markdown",
   "id": "36d3e2b7",
   "metadata": {},
   "source": [
    "#### now how to find geo-graphical co-ordinates of address feature..\n",
    "    For this u have to use structured query ..."
   ]
  },
  {
   "cell_type": "raw",
   "id": "827083bf",
   "metadata": {},
   "source": [
    "For a structured query, provide a dictionary whose keys\n",
    "    are like: `street`, `city`, `county`, `state`, `country`, or\n",
    "    `postalcode`"
   ]
  },
  {
   "cell_type": "code",
   "execution_count": 53,
   "id": "6f95c0e0",
   "metadata": {},
   "outputs": [],
   "source": [
    "address = {'street':'21st Main Road' , 'city':'Bangalore' , 'country':'India' , 'state':'Karnataka'}\n",
    "\n",
    "### So more complete the info(address) , more accurate co-ordinates you have !\n",
    "### & thats what the structured queries bcz u are actually trying to provide structure to your address so that Nominatim \n",
    "### is able to understand it.."
   ]
  },
  {
   "cell_type": "code",
   "execution_count": 54,
   "id": "c870f61c",
   "metadata": {},
   "outputs": [],
   "source": [
    "address_geocode = geolocator.geocode(address)"
   ]
  },
  {
   "cell_type": "code",
   "execution_count": 55,
   "id": "12d09db3",
   "metadata": {},
   "outputs": [
    {
     "data": {
      "text/plain": [
       "True"
      ]
     },
     "execution_count": 55,
     "metadata": {},
     "output_type": "execute_result"
    }
   ],
   "source": [
    "hasattr(address_geocode , 'latitude')"
   ]
  },
  {
   "cell_type": "code",
   "execution_count": 56,
   "id": "ce6dfb3d",
   "metadata": {},
   "outputs": [
    {
     "data": {
      "text/plain": [
       "True"
      ]
     },
     "execution_count": 56,
     "metadata": {},
     "output_type": "execute_result"
    }
   ],
   "source": [
    "hasattr(address_geocode , 'longitude')"
   ]
  },
  {
   "cell_type": "code",
   "execution_count": 57,
   "id": "3a790c40",
   "metadata": {},
   "outputs": [
    {
     "data": {
      "text/plain": [
       "12.9172918"
      ]
     },
     "execution_count": 57,
     "metadata": {},
     "output_type": "execute_result"
    }
   ],
   "source": [
    "address_geocode.latitude"
   ]
  },
  {
   "cell_type": "code",
   "execution_count": 58,
   "id": "e7f4f012",
   "metadata": {},
   "outputs": [
    {
     "data": {
      "text/plain": [
       "77.645951"
      ]
     },
     "execution_count": 58,
     "metadata": {},
     "output_type": "execute_result"
    }
   ],
   "source": [
    "address_geocode.longitude"
   ]
  },
  {
   "cell_type": "code",
   "execution_count": null,
   "id": "3093fa09",
   "metadata": {},
   "outputs": [],
   "source": []
  },
  {
   "cell_type": "code",
   "execution_count": null,
   "id": "ae486ee7",
   "metadata": {},
   "outputs": [],
   "source": []
  },
  {
   "cell_type": "code",
   "execution_count": 59,
   "id": "71bda5d2",
   "metadata": {},
   "outputs": [],
   "source": [
    "address2 = {\n",
    "    'street': '21st Main Road, 2nd Stage, Banashankari',\n",
    "    'city': 'Bangalore',\n",
    "    'state': 'Karnataka',\n",
    "    'country': 'India',\n",
    "    'postalcode': '560070'  # Optional but improves accuracy\n",
    "}\n"
   ]
  },
  {
   "cell_type": "code",
   "execution_count": 60,
   "id": "6b2d8d86",
   "metadata": {},
   "outputs": [],
   "source": [
    "address_geocode2 = geolocator.geocode(address2)"
   ]
  },
  {
   "cell_type": "code",
   "execution_count": 61,
   "id": "7614b204",
   "metadata": {},
   "outputs": [
    {
     "data": {
      "text/plain": [
       "True"
      ]
     },
     "execution_count": 61,
     "metadata": {},
     "output_type": "execute_result"
    }
   ],
   "source": [
    "hasattr(address_geocode2 , 'latitude')"
   ]
  },
  {
   "cell_type": "code",
   "execution_count": null,
   "id": "444a0cfc",
   "metadata": {},
   "outputs": [],
   "source": []
  },
  {
   "cell_type": "markdown",
   "id": "a5d1d68d",
   "metadata": {},
   "source": [
    "### Reverse Geocoding : How to fetch Address from Latitudes and Longitudes?"
   ]
  },
  {
   "cell_type": "code",
   "execution_count": 62,
   "id": "b18d171a",
   "metadata": {},
   "outputs": [
    {
     "name": "stdout",
     "output_type": "stream",
     "text": [
      "21st Main Road, Mahadeshwara Nagara, BTM Layout, Bengaluru South City Corporation, Bengaluru, Bangalore South, Bengaluru Urban, Karnataka, 560076, India\n"
     ]
    }
   ],
   "source": [
    "#Installing the dependencies\n",
    "from geopy.geocoders import Nominatim\n",
    "\n",
    "#Mention the latitudes and Longitudes here\n",
    "latitude = '12.9097242'\n",
    "longitude = '77.6112546'\n",
    "\n",
    "coordinates = '{},{}'.format(latitude,longitude)\n",
    "\n",
    "locator = Nominatim(user_agent=\"test\")\n",
    "Location = locator.reverse(coordinates)\n",
    "\n",
    "#Printing the address\n",
    "print(Location.address)"
   ]
  },
  {
   "cell_type": "code",
   "execution_count": null,
   "id": "da7accc9",
   "metadata": {},
   "outputs": [],
   "source": []
  },
  {
   "cell_type": "code",
   "execution_count": null,
   "id": "3c872935",
   "metadata": {},
   "outputs": [],
   "source": []
  },
  {
   "cell_type": "code",
   "execution_count": null,
   "id": "37d2a1e8",
   "metadata": {},
   "outputs": [],
   "source": []
  },
  {
   "cell_type": "code",
   "execution_count": null,
   "id": "558ab7a5",
   "metadata": {},
   "outputs": [],
   "source": []
  },
  {
   "cell_type": "markdown",
   "id": "778f096c",
   "metadata": {},
   "source": [
    "## 5.. Where are most number of restaurants located in Bengalore ?"
   ]
  },
  {
   "cell_type": "code",
   "execution_count": 63,
   "id": "43651c65",
   "metadata": {},
   "outputs": [
    {
     "data": {
      "text/plain": [
       "location\n",
       "BTM , Bangalore , Karnataka , India                      5124\n",
       "HSR , Bangalore , Karnataka , India                      2523\n",
       "Koramangala 5th Block , Bangalore , Karnataka , India    2504\n",
       "JP Nagar , Bangalore , Karnataka , India                 2235\n",
       "Whitefield , Bangalore , Karnataka , India               2144\n",
       "                                                         ... \n",
       "West Bangalore , Bangalore , Karnataka , India              6\n",
       "Yelahanka , Bangalore , Karnataka , India                   6\n",
       "Jakkur , Bangalore , Karnataka , India                      3\n",
       "Rajarajeshwari Nagar , Bangalore , Karnataka , India        2\n",
       "Peenya , Bangalore , Karnataka , India                      1\n",
       "Name: count, Length: 93, dtype: int64"
      ]
     },
     "execution_count": 63,
     "metadata": {},
     "output_type": "execute_result"
    }
   ],
   "source": [
    "df['location'].value_counts()"
   ]
  },
  {
   "cell_type": "code",
   "execution_count": 64,
   "id": "ca32b062",
   "metadata": {},
   "outputs": [
    {
     "data": {
      "text/plain": [
       "pandas.core.series.Series"
      ]
     },
     "execution_count": 64,
     "metadata": {},
     "output_type": "execute_result"
    }
   ],
   "source": [
    "type(df['location'].value_counts())"
   ]
  },
  {
   "cell_type": "code",
   "execution_count": 65,
   "id": "33a25fdd",
   "metadata": {},
   "outputs": [],
   "source": [
    "Rest_locations = df['location'].value_counts().reset_index()"
   ]
  },
  {
   "cell_type": "code",
   "execution_count": 66,
   "id": "1c72d7b7",
   "metadata": {},
   "outputs": [],
   "source": [
    "Rest_locations.columns = ['Name' , 'count']"
   ]
  },
  {
   "cell_type": "code",
   "execution_count": 67,
   "id": "df749fef",
   "metadata": {},
   "outputs": [
    {
     "data": {
      "text/html": [
       "<div>\n",
       "<style scoped>\n",
       "    .dataframe tbody tr th:only-of-type {\n",
       "        vertical-align: middle;\n",
       "    }\n",
       "\n",
       "    .dataframe tbody tr th {\n",
       "        vertical-align: top;\n",
       "    }\n",
       "\n",
       "    .dataframe thead th {\n",
       "        text-align: right;\n",
       "    }\n",
       "</style>\n",
       "<table border=\"1\" class=\"dataframe\">\n",
       "  <thead>\n",
       "    <tr style=\"text-align: right;\">\n",
       "      <th></th>\n",
       "      <th>Name</th>\n",
       "      <th>count</th>\n",
       "    </tr>\n",
       "  </thead>\n",
       "  <tbody>\n",
       "    <tr>\n",
       "      <th>0</th>\n",
       "      <td>BTM , Bangalore , Karnataka , India</td>\n",
       "      <td>5124</td>\n",
       "    </tr>\n",
       "    <tr>\n",
       "      <th>1</th>\n",
       "      <td>HSR , Bangalore , Karnataka , India</td>\n",
       "      <td>2523</td>\n",
       "    </tr>\n",
       "    <tr>\n",
       "      <th>2</th>\n",
       "      <td>Koramangala 5th Block , Bangalore , Karnataka ...</td>\n",
       "      <td>2504</td>\n",
       "    </tr>\n",
       "    <tr>\n",
       "      <th>3</th>\n",
       "      <td>JP Nagar , Bangalore , Karnataka , India</td>\n",
       "      <td>2235</td>\n",
       "    </tr>\n",
       "    <tr>\n",
       "      <th>4</th>\n",
       "      <td>Whitefield , Bangalore , Karnataka , India</td>\n",
       "      <td>2144</td>\n",
       "    </tr>\n",
       "    <tr>\n",
       "      <th>...</th>\n",
       "      <td>...</td>\n",
       "      <td>...</td>\n",
       "    </tr>\n",
       "    <tr>\n",
       "      <th>88</th>\n",
       "      <td>West Bangalore , Bangalore , Karnataka , India</td>\n",
       "      <td>6</td>\n",
       "    </tr>\n",
       "    <tr>\n",
       "      <th>89</th>\n",
       "      <td>Yelahanka , Bangalore , Karnataka , India</td>\n",
       "      <td>6</td>\n",
       "    </tr>\n",
       "    <tr>\n",
       "      <th>90</th>\n",
       "      <td>Jakkur , Bangalore , Karnataka , India</td>\n",
       "      <td>3</td>\n",
       "    </tr>\n",
       "    <tr>\n",
       "      <th>91</th>\n",
       "      <td>Rajarajeshwari Nagar , Bangalore , Karnataka ,...</td>\n",
       "      <td>2</td>\n",
       "    </tr>\n",
       "    <tr>\n",
       "      <th>92</th>\n",
       "      <td>Peenya , Bangalore , Karnataka , India</td>\n",
       "      <td>1</td>\n",
       "    </tr>\n",
       "  </tbody>\n",
       "</table>\n",
       "<p>93 rows × 2 columns</p>\n",
       "</div>"
      ],
      "text/plain": [
       "                                                 Name  count\n",
       "0                 BTM , Bangalore , Karnataka , India   5124\n",
       "1                 HSR , Bangalore , Karnataka , India   2523\n",
       "2   Koramangala 5th Block , Bangalore , Karnataka ...   2504\n",
       "3            JP Nagar , Bangalore , Karnataka , India   2235\n",
       "4          Whitefield , Bangalore , Karnataka , India   2144\n",
       "..                                                ...    ...\n",
       "88     West Bangalore , Bangalore , Karnataka , India      6\n",
       "89          Yelahanka , Bangalore , Karnataka , India      6\n",
       "90             Jakkur , Bangalore , Karnataka , India      3\n",
       "91  Rajarajeshwari Nagar , Bangalore , Karnataka ,...      2\n",
       "92             Peenya , Bangalore , Karnataka , India      1\n",
       "\n",
       "[93 rows x 2 columns]"
      ]
     },
     "execution_count": 67,
     "metadata": {},
     "output_type": "execute_result"
    }
   ],
   "source": [
    "Rest_locations"
   ]
  },
  {
   "cell_type": "code",
   "execution_count": 68,
   "id": "0afad27e",
   "metadata": {},
   "outputs": [],
   "source": [
    "### Now we can say that These are my locations where most of my restaurants are located.."
   ]
  },
  {
   "cell_type": "code",
   "execution_count": 69,
   "id": "c33fbb10",
   "metadata": {},
   "outputs": [
    {
     "data": {
      "text/plain": [
       "'\\n\\nlets create Heatmap of this results so that it becomes more user-friendly..\\nnow In order to perform Spatial Anlysis(Geographical Analysis) , we need latitudes & longitudes of every location..\\n\\n'"
      ]
     },
     "execution_count": 69,
     "metadata": {},
     "output_type": "execute_result"
    }
   ],
   "source": [
    "'''\n",
    "\n",
    "lets create Heatmap of this results so that it becomes more user-friendly..\n",
    "now In order to perform Spatial Anlysis(Geographical Analysis) , we need latitudes & longitudes of every location..\n",
    "\n",
    "'''"
   ]
  },
  {
   "cell_type": "code",
   "execution_count": null,
   "id": "816af434",
   "metadata": {},
   "outputs": [],
   "source": []
  },
  {
   "cell_type": "code",
   "execution_count": 70,
   "id": "8f81f5a2",
   "metadata": {},
   "outputs": [
    {
     "data": {
      "text/html": [
       "<div>\n",
       "<style scoped>\n",
       "    .dataframe tbody tr th:only-of-type {\n",
       "        vertical-align: middle;\n",
       "    }\n",
       "\n",
       "    .dataframe tbody tr th {\n",
       "        vertical-align: top;\n",
       "    }\n",
       "\n",
       "    .dataframe thead th {\n",
       "        text-align: right;\n",
       "    }\n",
       "</style>\n",
       "<table border=\"1\" class=\"dataframe\">\n",
       "  <thead>\n",
       "    <tr style=\"text-align: right;\">\n",
       "      <th></th>\n",
       "      <th>Name</th>\n",
       "      <th>lat</th>\n",
       "      <th>lon</th>\n",
       "    </tr>\n",
       "  </thead>\n",
       "  <tbody>\n",
       "    <tr>\n",
       "      <th>0</th>\n",
       "      <td>Banashankari , Bangalore , Karnataka , India</td>\n",
       "      <td>12.927820</td>\n",
       "      <td>77.556621</td>\n",
       "    </tr>\n",
       "    <tr>\n",
       "      <th>1</th>\n",
       "      <td>Basavanagudi , Bangalore , Karnataka , India</td>\n",
       "      <td>12.941726</td>\n",
       "      <td>77.575502</td>\n",
       "    </tr>\n",
       "    <tr>\n",
       "      <th>2</th>\n",
       "      <td>Mysore Road , Bangalore , Karnataka , India</td>\n",
       "      <td>12.946703</td>\n",
       "      <td>77.530070</td>\n",
       "    </tr>\n",
       "    <tr>\n",
       "      <th>3</th>\n",
       "      <td>Jayanagar , Bangalore , Karnataka , India</td>\n",
       "      <td>12.929273</td>\n",
       "      <td>77.582423</td>\n",
       "    </tr>\n",
       "    <tr>\n",
       "      <th>4</th>\n",
       "      <td>Kumaraswamy Layout , Bangalore , Karnataka , I...</td>\n",
       "      <td>12.906768</td>\n",
       "      <td>77.559502</td>\n",
       "    </tr>\n",
       "    <tr>\n",
       "      <th>...</th>\n",
       "      <td>...</td>\n",
       "      <td>...</td>\n",
       "      <td>...</td>\n",
       "    </tr>\n",
       "    <tr>\n",
       "      <th>88</th>\n",
       "      <td>West Bangalore , Bangalore , Karnataka , India</td>\n",
       "      <td>12.952903</td>\n",
       "      <td>77.515800</td>\n",
       "    </tr>\n",
       "    <tr>\n",
       "      <th>89</th>\n",
       "      <td>Magadi Road , Bangalore , Karnataka , India</td>\n",
       "      <td>12.975608</td>\n",
       "      <td>77.555356</td>\n",
       "    </tr>\n",
       "    <tr>\n",
       "      <th>90</th>\n",
       "      <td>Yelahanka , Bangalore , Karnataka , India</td>\n",
       "      <td>13.100698</td>\n",
       "      <td>77.596345</td>\n",
       "    </tr>\n",
       "    <tr>\n",
       "      <th>91</th>\n",
       "      <td>Sahakara Nagar , Bangalore , Karnataka , India</td>\n",
       "      <td>13.062147</td>\n",
       "      <td>77.580061</td>\n",
       "    </tr>\n",
       "    <tr>\n",
       "      <th>92</th>\n",
       "      <td>Peenya , Bangalore , Karnataka , India</td>\n",
       "      <td>13.032981</td>\n",
       "      <td>77.533180</td>\n",
       "    </tr>\n",
       "  </tbody>\n",
       "</table>\n",
       "<p>93 rows × 3 columns</p>\n",
       "</div>"
      ],
      "text/plain": [
       "                                                 Name        lat        lon\n",
       "0        Banashankari , Bangalore , Karnataka , India  12.927820  77.556621\n",
       "1        Basavanagudi , Bangalore , Karnataka , India  12.941726  77.575502\n",
       "2         Mysore Road , Bangalore , Karnataka , India  12.946703  77.530070\n",
       "3           Jayanagar , Bangalore , Karnataka , India  12.929273  77.582423\n",
       "4   Kumaraswamy Layout , Bangalore , Karnataka , I...  12.906768  77.559502\n",
       "..                                                ...        ...        ...\n",
       "88     West Bangalore , Bangalore , Karnataka , India  12.952903  77.515800\n",
       "89        Magadi Road , Bangalore , Karnataka , India  12.975608  77.555356\n",
       "90          Yelahanka , Bangalore , Karnataka , India  13.100698  77.596345\n",
       "91     Sahakara Nagar , Bangalore , Karnataka , India  13.062147  77.580061\n",
       "92             Peenya , Bangalore , Karnataka , India  13.032981  77.533180\n",
       "\n",
       "[93 rows x 3 columns]"
      ]
     },
     "execution_count": 70,
     "metadata": {},
     "output_type": "execute_result"
    }
   ],
   "source": [
    "rest_loc"
   ]
  },
  {
   "cell_type": "code",
   "execution_count": 71,
   "id": "7057885c",
   "metadata": {},
   "outputs": [],
   "source": [
    "### so lets merge both the dataframes or append one into another in order to get geographical co-ordinates.."
   ]
  },
  {
   "cell_type": "code",
   "execution_count": 72,
   "id": "81ffe61c",
   "metadata": {},
   "outputs": [],
   "source": [
    "Beng_rest_locations = Rest_locations.merge(rest_loc , on = \"Name\")"
   ]
  },
  {
   "cell_type": "code",
   "execution_count": 73,
   "id": "1b2d6a0c",
   "metadata": {},
   "outputs": [
    {
     "data": {
      "text/plain": [
       "pandas.core.frame.DataFrame"
      ]
     },
     "execution_count": 73,
     "metadata": {},
     "output_type": "execute_result"
    }
   ],
   "source": [
    "type(Beng_rest_locations)"
   ]
  },
  {
   "cell_type": "code",
   "execution_count": 74,
   "id": "271e4ffc",
   "metadata": {},
   "outputs": [
    {
     "data": {
      "text/html": [
       "<div>\n",
       "<style scoped>\n",
       "    .dataframe tbody tr th:only-of-type {\n",
       "        vertical-align: middle;\n",
       "    }\n",
       "\n",
       "    .dataframe tbody tr th {\n",
       "        vertical-align: top;\n",
       "    }\n",
       "\n",
       "    .dataframe thead th {\n",
       "        text-align: right;\n",
       "    }\n",
       "</style>\n",
       "<table border=\"1\" class=\"dataframe\">\n",
       "  <thead>\n",
       "    <tr style=\"text-align: right;\">\n",
       "      <th></th>\n",
       "      <th>Name</th>\n",
       "      <th>count</th>\n",
       "      <th>lat</th>\n",
       "      <th>lon</th>\n",
       "    </tr>\n",
       "  </thead>\n",
       "  <tbody>\n",
       "    <tr>\n",
       "      <th>0</th>\n",
       "      <td>BTM , Bangalore , Karnataka , India</td>\n",
       "      <td>5124</td>\n",
       "      <td>12.911276</td>\n",
       "      <td>77.604565</td>\n",
       "    </tr>\n",
       "    <tr>\n",
       "      <th>1</th>\n",
       "      <td>HSR , Bangalore , Karnataka , India</td>\n",
       "      <td>2523</td>\n",
       "      <td>12.911623</td>\n",
       "      <td>77.638862</td>\n",
       "    </tr>\n",
       "    <tr>\n",
       "      <th>2</th>\n",
       "      <td>Koramangala 5th Block , Bangalore , Karnataka ...</td>\n",
       "      <td>2504</td>\n",
       "      <td>12.934843</td>\n",
       "      <td>77.618977</td>\n",
       "    </tr>\n",
       "    <tr>\n",
       "      <th>3</th>\n",
       "      <td>JP Nagar , Bangalore , Karnataka , India</td>\n",
       "      <td>2235</td>\n",
       "      <td>12.909694</td>\n",
       "      <td>77.586607</td>\n",
       "    </tr>\n",
       "    <tr>\n",
       "      <th>4</th>\n",
       "      <td>Whitefield , Bangalore , Karnataka , India</td>\n",
       "      <td>2144</td>\n",
       "      <td>12.996400</td>\n",
       "      <td>77.761423</td>\n",
       "    </tr>\n",
       "  </tbody>\n",
       "</table>\n",
       "</div>"
      ],
      "text/plain": [
       "                                                Name  count        lat  \\\n",
       "0                BTM , Bangalore , Karnataka , India   5124  12.911276   \n",
       "1                HSR , Bangalore , Karnataka , India   2523  12.911623   \n",
       "2  Koramangala 5th Block , Bangalore , Karnataka ...   2504  12.934843   \n",
       "3           JP Nagar , Bangalore , Karnataka , India   2235  12.909694   \n",
       "4         Whitefield , Bangalore , Karnataka , India   2144  12.996400   \n",
       "\n",
       "         lon  \n",
       "0  77.604565  \n",
       "1  77.638862  \n",
       "2  77.618977  \n",
       "3  77.586607  \n",
       "4  77.761423  "
      ]
     },
     "execution_count": 74,
     "metadata": {},
     "output_type": "execute_result"
    }
   ],
   "source": [
    "Beng_rest_locations.head(5)"
   ]
  },
  {
   "cell_type": "code",
   "execution_count": null,
   "id": "5afa06fc",
   "metadata": {},
   "outputs": [],
   "source": []
  },
  {
   "cell_type": "code",
   "execution_count": null,
   "id": "d6decfb7",
   "metadata": {},
   "outputs": [],
   "source": []
  },
  {
   "cell_type": "markdown",
   "id": "b2d2169f",
   "metadata": {},
   "source": [
    "#### Simple 2 step process to create GeoSpatial plots :\n",
    "    a ) Create basemap of that respective city or state using folium..\n",
    "    b ) Add your required plot (e.g., markers, clusters, heatmaps) on top of that basemap.."
   ]
  },
  {
   "cell_type": "code",
   "execution_count": null,
   "id": "07e61fe6",
   "metadata": {},
   "outputs": [],
   "source": []
  },
  {
   "cell_type": "code",
   "execution_count": 75,
   "id": "7791e198",
   "metadata": {},
   "outputs": [],
   "source": [
    "#!pip install folium"
   ]
  },
  {
   "cell_type": "code",
   "execution_count": 76,
   "id": "d245d7d2",
   "metadata": {},
   "outputs": [],
   "source": [
    "import folium"
   ]
  },
  {
   "cell_type": "code",
   "execution_count": 77,
   "id": "b87a12a6",
   "metadata": {},
   "outputs": [],
   "source": [
    "def Generate_basemap():\n",
    "    basemap = folium.Map(location= [12.9629, 77.5775])\n",
    "    return basemap\n",
    "\n",
    "## As i want map(basemap) of Bengaluru so that we can create various plots \n",
    "## Do google or chatgpt search as : coordinates of bengaluru \n",
    "## answer : 12.9629, 77.5775"
   ]
  },
  {
   "cell_type": "code",
   "execution_count": 78,
   "id": "ed631355",
   "metadata": {},
   "outputs": [],
   "source": [
    "basemap = Generate_basemap()"
   ]
  },
  {
   "cell_type": "markdown",
   "id": "fdb70b03",
   "metadata": {},
   "source": [
    "#### now in order to show-case it via Map(Heatmap) ,first we need to create BaseMap so that I can map our Heatmap on top of BaseMap !"
   ]
  },
  {
   "cell_type": "code",
   "execution_count": null,
   "id": "e47c614a",
   "metadata": {},
   "outputs": [],
   "source": []
  },
  {
   "cell_type": "code",
   "execution_count": 79,
   "id": "314f191f",
   "metadata": {},
   "outputs": [],
   "source": [
    "### Geographic heat maps are used to identify where something occurs, and demonstrate areas of high and low density...\n",
    "\n",
    "from folium.plugins import HeatMap"
   ]
  },
  {
   "cell_type": "code",
   "execution_count": 80,
   "id": "1ca66148",
   "metadata": {},
   "outputs": [
    {
     "data": {
      "text/plain": [
       "Index(['Name', 'count', 'lat', 'lon'], dtype='object')"
      ]
     },
     "execution_count": 80,
     "metadata": {},
     "output_type": "execute_result"
    }
   ],
   "source": [
    "Beng_rest_locations.columns"
   ]
  },
  {
   "cell_type": "code",
   "execution_count": 81,
   "id": "5eb1d695",
   "metadata": {},
   "outputs": [
    {
     "data": {
      "text/html": [
       "<div>\n",
       "<style scoped>\n",
       "    .dataframe tbody tr th:only-of-type {\n",
       "        vertical-align: middle;\n",
       "    }\n",
       "\n",
       "    .dataframe tbody tr th {\n",
       "        vertical-align: top;\n",
       "    }\n",
       "\n",
       "    .dataframe thead th {\n",
       "        text-align: right;\n",
       "    }\n",
       "</style>\n",
       "<table border=\"1\" class=\"dataframe\">\n",
       "  <thead>\n",
       "    <tr style=\"text-align: right;\">\n",
       "      <th></th>\n",
       "      <th>lat</th>\n",
       "      <th>lon</th>\n",
       "      <th>count</th>\n",
       "    </tr>\n",
       "  </thead>\n",
       "  <tbody>\n",
       "    <tr>\n",
       "      <th>0</th>\n",
       "      <td>12.911276</td>\n",
       "      <td>77.604565</td>\n",
       "      <td>5124</td>\n",
       "    </tr>\n",
       "    <tr>\n",
       "      <th>1</th>\n",
       "      <td>12.911623</td>\n",
       "      <td>77.638862</td>\n",
       "      <td>2523</td>\n",
       "    </tr>\n",
       "    <tr>\n",
       "      <th>2</th>\n",
       "      <td>12.934843</td>\n",
       "      <td>77.618977</td>\n",
       "      <td>2504</td>\n",
       "    </tr>\n",
       "    <tr>\n",
       "      <th>3</th>\n",
       "      <td>12.909694</td>\n",
       "      <td>77.586607</td>\n",
       "      <td>2235</td>\n",
       "    </tr>\n",
       "    <tr>\n",
       "      <th>4</th>\n",
       "      <td>12.996400</td>\n",
       "      <td>77.761423</td>\n",
       "      <td>2144</td>\n",
       "    </tr>\n",
       "    <tr>\n",
       "      <th>...</th>\n",
       "      <td>...</td>\n",
       "      <td>...</td>\n",
       "      <td>...</td>\n",
       "    </tr>\n",
       "    <tr>\n",
       "      <th>88</th>\n",
       "      <td>12.952903</td>\n",
       "      <td>77.515800</td>\n",
       "      <td>6</td>\n",
       "    </tr>\n",
       "    <tr>\n",
       "      <th>89</th>\n",
       "      <td>13.100698</td>\n",
       "      <td>77.596345</td>\n",
       "      <td>6</td>\n",
       "    </tr>\n",
       "    <tr>\n",
       "      <th>90</th>\n",
       "      <td>13.078474</td>\n",
       "      <td>77.606894</td>\n",
       "      <td>3</td>\n",
       "    </tr>\n",
       "    <tr>\n",
       "      <th>91</th>\n",
       "      <td>12.927441</td>\n",
       "      <td>77.515522</td>\n",
       "      <td>2</td>\n",
       "    </tr>\n",
       "    <tr>\n",
       "      <th>92</th>\n",
       "      <td>13.032981</td>\n",
       "      <td>77.533180</td>\n",
       "      <td>1</td>\n",
       "    </tr>\n",
       "  </tbody>\n",
       "</table>\n",
       "<p>93 rows × 3 columns</p>\n",
       "</div>"
      ],
      "text/plain": [
       "          lat        lon  count\n",
       "0   12.911276  77.604565   5124\n",
       "1   12.911623  77.638862   2523\n",
       "2   12.934843  77.618977   2504\n",
       "3   12.909694  77.586607   2235\n",
       "4   12.996400  77.761423   2144\n",
       "..        ...        ...    ...\n",
       "88  12.952903  77.515800      6\n",
       "89  13.100698  77.596345      6\n",
       "90  13.078474  77.606894      3\n",
       "91  12.927441  77.515522      2\n",
       "92  13.032981  77.533180      1\n",
       "\n",
       "[93 rows x 3 columns]"
      ]
     },
     "execution_count": 81,
     "metadata": {},
     "output_type": "execute_result"
    }
   ],
   "source": [
    "Beng_rest_locations[['lat', 'lon' , 'count']]"
   ]
  },
  {
   "cell_type": "code",
   "execution_count": 82,
   "id": "9a513ca9",
   "metadata": {},
   "outputs": [
    {
     "data": {
      "text/plain": [
       "<folium.plugins.heat_map.HeatMap at 0x29a7fc76f60>"
      ]
     },
     "execution_count": 82,
     "metadata": {},
     "output_type": "execute_result"
    }
   ],
   "source": [
    "HeatMap(Beng_rest_locations[['lat', 'lon' , 'count']]).add_to(basemap)"
   ]
  },
  {
   "cell_type": "code",
   "execution_count": 83,
   "id": "762cf471",
   "metadata": {},
   "outputs": [
    {
     "data": {
      "text/html": [
       "<div style=\"width:100%;\"><div style=\"position:relative;width:100%;height:0;padding-bottom:60%;\"><span style=\"color:#565656\">Make this Notebook Trusted to load map: File -> Trust Notebook</span><iframe srcdoc=\"&lt;!DOCTYPE html&gt;\n",
       "&lt;html&gt;\n",
       "&lt;head&gt;\n",
       "    \n",
       "    &lt;meta http-equiv=&quot;content-type&quot; content=&quot;text/html; charset=UTF-8&quot; /&gt;\n",
       "    &lt;script src=&quot;https://cdn.jsdelivr.net/npm/leaflet@1.9.3/dist/leaflet.js&quot;&gt;&lt;/script&gt;\n",
       "    &lt;script src=&quot;https://code.jquery.com/jquery-3.7.1.min.js&quot;&gt;&lt;/script&gt;\n",
       "    &lt;script src=&quot;https://cdn.jsdelivr.net/npm/bootstrap@5.2.2/dist/js/bootstrap.bundle.min.js&quot;&gt;&lt;/script&gt;\n",
       "    &lt;script src=&quot;https://cdnjs.cloudflare.com/ajax/libs/Leaflet.awesome-markers/2.0.2/leaflet.awesome-markers.js&quot;&gt;&lt;/script&gt;\n",
       "    &lt;link rel=&quot;stylesheet&quot; href=&quot;https://cdn.jsdelivr.net/npm/leaflet@1.9.3/dist/leaflet.css&quot;/&gt;\n",
       "    &lt;link rel=&quot;stylesheet&quot; href=&quot;https://cdn.jsdelivr.net/npm/bootstrap@5.2.2/dist/css/bootstrap.min.css&quot;/&gt;\n",
       "    &lt;link rel=&quot;stylesheet&quot; href=&quot;https://netdna.bootstrapcdn.com/bootstrap/3.0.0/css/bootstrap-glyphicons.css&quot;/&gt;\n",
       "    &lt;link rel=&quot;stylesheet&quot; href=&quot;https://cdn.jsdelivr.net/npm/@fortawesome/fontawesome-free@6.2.0/css/all.min.css&quot;/&gt;\n",
       "    &lt;link rel=&quot;stylesheet&quot; href=&quot;https://cdnjs.cloudflare.com/ajax/libs/Leaflet.awesome-markers/2.0.2/leaflet.awesome-markers.css&quot;/&gt;\n",
       "    &lt;link rel=&quot;stylesheet&quot; href=&quot;https://cdn.jsdelivr.net/gh/python-visualization/folium/folium/templates/leaflet.awesome.rotate.min.css&quot;/&gt;\n",
       "    \n",
       "            &lt;meta name=&quot;viewport&quot; content=&quot;width=device-width,\n",
       "                initial-scale=1.0, maximum-scale=1.0, user-scalable=no&quot; /&gt;\n",
       "            &lt;style&gt;\n",
       "                #map_35385078641600c9873994a8179d9b73 {\n",
       "                    position: relative;\n",
       "                    width: 100.0%;\n",
       "                    height: 100.0%;\n",
       "                    left: 0.0%;\n",
       "                    top: 0.0%;\n",
       "                }\n",
       "                .leaflet-container { font-size: 1rem; }\n",
       "            &lt;/style&gt;\n",
       "\n",
       "            &lt;style&gt;html, body {\n",
       "                width: 100%;\n",
       "                height: 100%;\n",
       "                margin: 0;\n",
       "                padding: 0;\n",
       "            }\n",
       "            &lt;/style&gt;\n",
       "\n",
       "            &lt;style&gt;#map {\n",
       "                position:absolute;\n",
       "                top:0;\n",
       "                bottom:0;\n",
       "                right:0;\n",
       "                left:0;\n",
       "                }\n",
       "            &lt;/style&gt;\n",
       "\n",
       "            &lt;script&gt;\n",
       "                L_NO_TOUCH = false;\n",
       "                L_DISABLE_3D = false;\n",
       "            &lt;/script&gt;\n",
       "\n",
       "        \n",
       "    &lt;script src=&quot;https://cdn.jsdelivr.net/gh/python-visualization/folium@main/folium/templates/leaflet_heat.min.js&quot;&gt;&lt;/script&gt;\n",
       "&lt;/head&gt;\n",
       "&lt;body&gt;\n",
       "    \n",
       "    \n",
       "            &lt;div class=&quot;folium-map&quot; id=&quot;map_35385078641600c9873994a8179d9b73&quot; &gt;&lt;/div&gt;\n",
       "        \n",
       "&lt;/body&gt;\n",
       "&lt;script&gt;\n",
       "    \n",
       "    \n",
       "            var map_35385078641600c9873994a8179d9b73 = L.map(\n",
       "                &quot;map_35385078641600c9873994a8179d9b73&quot;,\n",
       "                {\n",
       "                    center: [12.9629, 77.5775],\n",
       "                    crs: L.CRS.EPSG3857,\n",
       "                    ...{\n",
       "  &quot;zoom&quot;: 10,\n",
       "  &quot;zoomControl&quot;: true,\n",
       "  &quot;preferCanvas&quot;: false,\n",
       "}\n",
       "\n",
       "                }\n",
       "            );\n",
       "\n",
       "            \n",
       "\n",
       "        \n",
       "    \n",
       "            var tile_layer_4dc14136f19afc05df6fca25f2859426 = L.tileLayer(\n",
       "                &quot;https://tile.openstreetmap.org/{z}/{x}/{y}.png&quot;,\n",
       "                {\n",
       "  &quot;minZoom&quot;: 0,\n",
       "  &quot;maxZoom&quot;: 19,\n",
       "  &quot;maxNativeZoom&quot;: 19,\n",
       "  &quot;noWrap&quot;: false,\n",
       "  &quot;attribution&quot;: &quot;\\u0026copy; \\u003ca href=\\&quot;https://www.openstreetmap.org/copyright\\&quot;\\u003eOpenStreetMap\\u003c/a\\u003e contributors&quot;,\n",
       "  &quot;subdomains&quot;: &quot;abc&quot;,\n",
       "  &quot;detectRetina&quot;: false,\n",
       "  &quot;tms&quot;: false,\n",
       "  &quot;opacity&quot;: 1,\n",
       "}\n",
       "\n",
       "            );\n",
       "        \n",
       "    \n",
       "            tile_layer_4dc14136f19afc05df6fca25f2859426.addTo(map_35385078641600c9873994a8179d9b73);\n",
       "        \n",
       "    \n",
       "            var heat_map_03703ba34d80dd740d7f32e1f46226a5 = L.heatLayer(\n",
       "                [[12.9112758, 77.6045654, 5124.0], [12.9116225, 77.6388622, 2523.0], [12.9348429, 77.6189768, 2504.0], [12.9096941, 77.5866067, 2235.0], [12.9963995, 77.7614229, 2144.0], [12.9732913, 77.6404672, 2083.0], [12.9292731, 77.5824229, 1926.0], [12.9552572, 77.6984163, 1846.0], [12.9060737, 77.6016519, 1630.0], [12.9361208, 77.6671843, 1286.0], [12.8487599, 77.648253, 1258.0], [12.9277245, 77.6327822, 1238.0], [12.971609, 77.6070463, 1218.0], [12.9364846, 77.6134783, 1181.0], [12.9390255, 77.6238477, 1156.0], [12.9239942, 77.6530304, 1065.0], [12.9778793, 77.6246697, 1023.0], [12.9327778, 77.6294052, 1017.0], [12.9755264, 77.6067902, 918.0], [12.9278196, 77.556621, 906.0], [13.0221416, 77.6403368, 853.0], [12.9684808, 77.614415, 812.0], [12.9975851, 77.6136744, 727.0], [13.0027353, 77.5703253, 725.0], [12.9417261, 77.5755021, 684.0], [12.9672634, 77.5993931, 675.0], [13.0141618, 77.6518539, 664.0], [12.9652094, 77.717936, 658.0], [13.039186, 77.564284, 649.0], [13.0148544, 77.6382029, 648.0], [13.0005359, 77.5496996, 591.0], [12.9749142, 77.6052474, 569.0], [12.9722287, 77.5986661, 529.0], [12.9555367, 77.5924278, 511.0], [12.9855286, 77.6054496, 499.0], [12.9624669, 77.6381958, 496.0], [12.9884255, 77.5938978, 491.0], [12.9584696, 77.665621, 446.0], [12.945245, 77.6274776, 439.0], [12.9822423, 77.608265, 370.0], [12.9758014, 77.6016924, 352.0], [12.9408685, 77.617338, 320.0], [12.9921738, 77.591459, 295.0], [12.9678074, 77.6568367, 272.0], [12.9489339, 77.5968273, 246.0], [12.9089453, 77.6239038, 238.0], [12.9282918, 77.6254034, 216.0], [12.9067683, 77.5595021, 195.0], [12.8744383, 77.5579029, 194.0], [12.9911804, 77.5448918, 191.0], [13.0422794, 77.6248577, 187.0], [12.9931876, 77.5753419, 165.0], [13.037077, 77.6413572, 161.0], [12.9779079, 77.5723936, 155.0], [13.031992, 77.6280789, 153.0], [12.9800059, 77.6050006, 151.0], [12.9813402, 77.575178, 139.0], [12.965718, 77.5762705, 126.0], [13.0221838, 77.5530824, 119.0], [12.9616273, 77.7478198, 117.0], [12.9876393, 77.7377718, 113.0], [12.9287596, 77.6287122, 107.0], [12.9243692, 77.6242433, 102.0], [12.9553487, 77.6056093, 102.0], [12.9846713, 77.6790908, 101.0], [12.9850987, 77.6631173, 90.0], [12.9660722, 77.6125941, 80.0], [13.0227204, 77.595715, 80.0], [12.9578658, 77.6958748, 76.0], [13.0068, 77.5813, 63.0], [13.0621474, 77.5800614, 53.0], [12.9357366, 77.624081, 48.0], [12.9833162, 77.7083182, 44.0], [13.0394104, 77.5197351, 38.0], [12.975608, 77.5553564, 34.0], [13.0163, 77.6785, 32.0], [12.957998, 77.6037312, 27.0], [12.9957937, 77.5847787, 27.0], [13.0219668, 77.7127257, 22.0], [12.9467026, 77.5300705, 22.0], [12.8591407, 77.5284991, 19.0], [13.007516, 77.695935, 18.0], [12.9055682, 77.5455438, 17.0], [13.0382184, 77.5919, 14.0], [13.0222347, 77.5671832, 14.0], [12.9176571, 77.4837568, 9.0], [12.9651215, 77.5090098, 9.0], [12.9730087, 77.5804711, 8.0], [12.9529035, 77.5158003, 6.0], [13.1006982, 77.5963454, 6.0], [13.0784743, 77.6068938, 3.0], [12.9274413, 77.5155224, 2.0], [13.0329814, 77.5331801, 1.0]],\n",
       "                {\n",
       "  &quot;minOpacity&quot;: 0.5,\n",
       "  &quot;maxZoom&quot;: 18,\n",
       "  &quot;radius&quot;: 25,\n",
       "  &quot;blur&quot;: 15,\n",
       "}\n",
       "            );\n",
       "        \n",
       "    \n",
       "            heat_map_03703ba34d80dd740d7f32e1f46226a5.addTo(map_35385078641600c9873994a8179d9b73);\n",
       "        \n",
       "&lt;/script&gt;\n",
       "&lt;/html&gt;\" style=\"position:absolute;width:100%;height:100%;left:0;top:0;border:none !important;\" allowfullscreen webkitallowfullscreen mozallowfullscreen></iframe></div></div>"
      ],
      "text/plain": [
       "<folium.folium.Map at 0x29a7f637a40>"
      ]
     },
     "execution_count": 83,
     "metadata": {},
     "output_type": "execute_result"
    }
   ],
   "source": [
    "basemap"
   ]
  },
  {
   "cell_type": "markdown",
   "id": "d09da961",
   "metadata": {},
   "source": [
    "### Conclusions : \n",
    "    Notable high-density zones:\n",
    "\n",
    "    Central Bengaluru\n",
    "\n",
    "    Koramangala, Indiranagar\n",
    "\n",
    "    Whitefield\n",
    "\n",
    "    HSR Layout\n",
    "\n",
    "    JP Nagar, BTM Layout\n",
    "\n",
    "    Some parts of Electronic City"
   ]
  },
  {
   "cell_type": "code",
   "execution_count": 84,
   "id": "2d9f811e",
   "metadata": {},
   "outputs": [],
   "source": [
    "### Note : Its always good to write conclusions bcz as a Data Analyst or a Data Scientist u have to work in a team \n",
    "### & probably some of your Team members are completely unaware about Technical things.."
   ]
  },
  {
   "cell_type": "code",
   "execution_count": null,
   "id": "3a4a3c64",
   "metadata": {},
   "outputs": [],
   "source": []
  },
  {
   "cell_type": "code",
   "execution_count": null,
   "id": "287a6183",
   "metadata": {},
   "outputs": [],
   "source": []
  },
  {
   "cell_type": "code",
   "execution_count": null,
   "id": "52fa9fb6",
   "metadata": {},
   "outputs": [],
   "source": []
  },
  {
   "cell_type": "code",
   "execution_count": null,
   "id": "01f676c5",
   "metadata": {},
   "outputs": [],
   "source": []
  },
  {
   "cell_type": "code",
   "execution_count": null,
   "id": "87827f0d",
   "metadata": {},
   "outputs": [],
   "source": []
  },
  {
   "cell_type": "code",
   "execution_count": null,
   "id": "69766942",
   "metadata": {},
   "outputs": [],
   "source": []
  },
  {
   "cell_type": "code",
   "execution_count": null,
   "id": "907e6f69",
   "metadata": {},
   "outputs": [],
   "source": []
  },
  {
   "cell_type": "markdown",
   "id": "ea1a8e21",
   "metadata": {},
   "source": [
    "## 6.. Performing Marker Cluster Analysis !\n",
    "        Similar to previous one , but just use Marker Cluster "
   ]
  },
  {
   "cell_type": "markdown",
   "id": "e2482eeb",
   "metadata": {},
   "source": [
    "###    \n",
    "\n",
    "    ✅ Why Use a Cluster Map?\n",
    "    \n",
    "    Easy to explore – Zoom in to see where restaurants are grouped.\n",
    "    Shows counts clearly – Tells how many restaurants are in each area.\n",
    "    Works well with big data – No lag even with many restaurants.\n",
    "    Looks clean – No mess of overlapping points or having heatmap.."
   ]
  },
  {
   "cell_type": "code",
   "execution_count": 85,
   "id": "1546d483",
   "metadata": {},
   "outputs": [],
   "source": [
    "from folium.plugins import FastMarkerCluster"
   ]
  },
  {
   "cell_type": "code",
   "execution_count": 86,
   "id": "6e94beac",
   "metadata": {},
   "outputs": [],
   "source": [
    "basemap = Generate_basemap()"
   ]
  },
  {
   "cell_type": "code",
   "execution_count": 87,
   "id": "ad705bb2",
   "metadata": {},
   "outputs": [
    {
     "data": {
      "text/html": [
       "<div>\n",
       "<style scoped>\n",
       "    .dataframe tbody tr th:only-of-type {\n",
       "        vertical-align: middle;\n",
       "    }\n",
       "\n",
       "    .dataframe tbody tr th {\n",
       "        vertical-align: top;\n",
       "    }\n",
       "\n",
       "    .dataframe thead th {\n",
       "        text-align: right;\n",
       "    }\n",
       "</style>\n",
       "<table border=\"1\" class=\"dataframe\">\n",
       "  <thead>\n",
       "    <tr style=\"text-align: right;\">\n",
       "      <th></th>\n",
       "      <th>lat</th>\n",
       "      <th>lon</th>\n",
       "      <th>count</th>\n",
       "    </tr>\n",
       "  </thead>\n",
       "  <tbody>\n",
       "    <tr>\n",
       "      <th>0</th>\n",
       "      <td>12.911276</td>\n",
       "      <td>77.604565</td>\n",
       "      <td>5124</td>\n",
       "    </tr>\n",
       "    <tr>\n",
       "      <th>1</th>\n",
       "      <td>12.911623</td>\n",
       "      <td>77.638862</td>\n",
       "      <td>2523</td>\n",
       "    </tr>\n",
       "    <tr>\n",
       "      <th>2</th>\n",
       "      <td>12.934843</td>\n",
       "      <td>77.618977</td>\n",
       "      <td>2504</td>\n",
       "    </tr>\n",
       "    <tr>\n",
       "      <th>3</th>\n",
       "      <td>12.909694</td>\n",
       "      <td>77.586607</td>\n",
       "      <td>2235</td>\n",
       "    </tr>\n",
       "    <tr>\n",
       "      <th>4</th>\n",
       "      <td>12.996400</td>\n",
       "      <td>77.761423</td>\n",
       "      <td>2144</td>\n",
       "    </tr>\n",
       "    <tr>\n",
       "      <th>...</th>\n",
       "      <td>...</td>\n",
       "      <td>...</td>\n",
       "      <td>...</td>\n",
       "    </tr>\n",
       "    <tr>\n",
       "      <th>88</th>\n",
       "      <td>12.952903</td>\n",
       "      <td>77.515800</td>\n",
       "      <td>6</td>\n",
       "    </tr>\n",
       "    <tr>\n",
       "      <th>89</th>\n",
       "      <td>13.100698</td>\n",
       "      <td>77.596345</td>\n",
       "      <td>6</td>\n",
       "    </tr>\n",
       "    <tr>\n",
       "      <th>90</th>\n",
       "      <td>13.078474</td>\n",
       "      <td>77.606894</td>\n",
       "      <td>3</td>\n",
       "    </tr>\n",
       "    <tr>\n",
       "      <th>91</th>\n",
       "      <td>12.927441</td>\n",
       "      <td>77.515522</td>\n",
       "      <td>2</td>\n",
       "    </tr>\n",
       "    <tr>\n",
       "      <th>92</th>\n",
       "      <td>13.032981</td>\n",
       "      <td>77.533180</td>\n",
       "      <td>1</td>\n",
       "    </tr>\n",
       "  </tbody>\n",
       "</table>\n",
       "<p>93 rows × 3 columns</p>\n",
       "</div>"
      ],
      "text/plain": [
       "          lat        lon  count\n",
       "0   12.911276  77.604565   5124\n",
       "1   12.911623  77.638862   2523\n",
       "2   12.934843  77.618977   2504\n",
       "3   12.909694  77.586607   2235\n",
       "4   12.996400  77.761423   2144\n",
       "..        ...        ...    ...\n",
       "88  12.952903  77.515800      6\n",
       "89  13.100698  77.596345      6\n",
       "90  13.078474  77.606894      3\n",
       "91  12.927441  77.515522      2\n",
       "92  13.032981  77.533180      1\n",
       "\n",
       "[93 rows x 3 columns]"
      ]
     },
     "execution_count": 87,
     "metadata": {},
     "output_type": "execute_result"
    }
   ],
   "source": [
    "Beng_rest_locations[['lat', 'lon' , 'count']]"
   ]
  },
  {
   "cell_type": "code",
   "execution_count": 88,
   "id": "f58163d0",
   "metadata": {},
   "outputs": [
    {
     "data": {
      "text/plain": [
       "<folium.plugins.fast_marker_cluster.FastMarkerCluster at 0x29a7fd97260>"
      ]
     },
     "execution_count": 88,
     "metadata": {},
     "output_type": "execute_result"
    }
   ],
   "source": [
    "FastMarkerCluster(Beng_rest_locations[['lat', 'lon' , 'count']]).add_to(basemap)"
   ]
  },
  {
   "cell_type": "code",
   "execution_count": 89,
   "id": "f50cbbed",
   "metadata": {},
   "outputs": [
    {
     "data": {
      "text/html": [
       "<div style=\"width:100%;\"><div style=\"position:relative;width:100%;height:0;padding-bottom:60%;\"><span style=\"color:#565656\">Make this Notebook Trusted to load map: File -> Trust Notebook</span><iframe srcdoc=\"&lt;!DOCTYPE html&gt;\n",
       "&lt;html&gt;\n",
       "&lt;head&gt;\n",
       "    \n",
       "    &lt;meta http-equiv=&quot;content-type&quot; content=&quot;text/html; charset=UTF-8&quot; /&gt;\n",
       "    &lt;script src=&quot;https://cdn.jsdelivr.net/npm/leaflet@1.9.3/dist/leaflet.js&quot;&gt;&lt;/script&gt;\n",
       "    &lt;script src=&quot;https://code.jquery.com/jquery-3.7.1.min.js&quot;&gt;&lt;/script&gt;\n",
       "    &lt;script src=&quot;https://cdn.jsdelivr.net/npm/bootstrap@5.2.2/dist/js/bootstrap.bundle.min.js&quot;&gt;&lt;/script&gt;\n",
       "    &lt;script src=&quot;https://cdnjs.cloudflare.com/ajax/libs/Leaflet.awesome-markers/2.0.2/leaflet.awesome-markers.js&quot;&gt;&lt;/script&gt;\n",
       "    &lt;link rel=&quot;stylesheet&quot; href=&quot;https://cdn.jsdelivr.net/npm/leaflet@1.9.3/dist/leaflet.css&quot;/&gt;\n",
       "    &lt;link rel=&quot;stylesheet&quot; href=&quot;https://cdn.jsdelivr.net/npm/bootstrap@5.2.2/dist/css/bootstrap.min.css&quot;/&gt;\n",
       "    &lt;link rel=&quot;stylesheet&quot; href=&quot;https://netdna.bootstrapcdn.com/bootstrap/3.0.0/css/bootstrap-glyphicons.css&quot;/&gt;\n",
       "    &lt;link rel=&quot;stylesheet&quot; href=&quot;https://cdn.jsdelivr.net/npm/@fortawesome/fontawesome-free@6.2.0/css/all.min.css&quot;/&gt;\n",
       "    &lt;link rel=&quot;stylesheet&quot; href=&quot;https://cdnjs.cloudflare.com/ajax/libs/Leaflet.awesome-markers/2.0.2/leaflet.awesome-markers.css&quot;/&gt;\n",
       "    &lt;link rel=&quot;stylesheet&quot; href=&quot;https://cdn.jsdelivr.net/gh/python-visualization/folium/folium/templates/leaflet.awesome.rotate.min.css&quot;/&gt;\n",
       "    \n",
       "            &lt;meta name=&quot;viewport&quot; content=&quot;width=device-width,\n",
       "                initial-scale=1.0, maximum-scale=1.0, user-scalable=no&quot; /&gt;\n",
       "            &lt;style&gt;\n",
       "                #map_37631a1e6838be55fdd34766d6732381 {\n",
       "                    position: relative;\n",
       "                    width: 100.0%;\n",
       "                    height: 100.0%;\n",
       "                    left: 0.0%;\n",
       "                    top: 0.0%;\n",
       "                }\n",
       "                .leaflet-container { font-size: 1rem; }\n",
       "            &lt;/style&gt;\n",
       "\n",
       "            &lt;style&gt;html, body {\n",
       "                width: 100%;\n",
       "                height: 100%;\n",
       "                margin: 0;\n",
       "                padding: 0;\n",
       "            }\n",
       "            &lt;/style&gt;\n",
       "\n",
       "            &lt;style&gt;#map {\n",
       "                position:absolute;\n",
       "                top:0;\n",
       "                bottom:0;\n",
       "                right:0;\n",
       "                left:0;\n",
       "                }\n",
       "            &lt;/style&gt;\n",
       "\n",
       "            &lt;script&gt;\n",
       "                L_NO_TOUCH = false;\n",
       "                L_DISABLE_3D = false;\n",
       "            &lt;/script&gt;\n",
       "\n",
       "        \n",
       "    &lt;script src=&quot;https://cdnjs.cloudflare.com/ajax/libs/leaflet.markercluster/1.1.0/leaflet.markercluster.js&quot;&gt;&lt;/script&gt;\n",
       "    &lt;link rel=&quot;stylesheet&quot; href=&quot;https://cdnjs.cloudflare.com/ajax/libs/leaflet.markercluster/1.1.0/MarkerCluster.css&quot;/&gt;\n",
       "    &lt;link rel=&quot;stylesheet&quot; href=&quot;https://cdnjs.cloudflare.com/ajax/libs/leaflet.markercluster/1.1.0/MarkerCluster.Default.css&quot;/&gt;\n",
       "&lt;/head&gt;\n",
       "&lt;body&gt;\n",
       "    \n",
       "    \n",
       "            &lt;div class=&quot;folium-map&quot; id=&quot;map_37631a1e6838be55fdd34766d6732381&quot; &gt;&lt;/div&gt;\n",
       "        \n",
       "&lt;/body&gt;\n",
       "&lt;script&gt;\n",
       "    \n",
       "    \n",
       "            var map_37631a1e6838be55fdd34766d6732381 = L.map(\n",
       "                &quot;map_37631a1e6838be55fdd34766d6732381&quot;,\n",
       "                {\n",
       "                    center: [12.9629, 77.5775],\n",
       "                    crs: L.CRS.EPSG3857,\n",
       "                    ...{\n",
       "  &quot;zoom&quot;: 10,\n",
       "  &quot;zoomControl&quot;: true,\n",
       "  &quot;preferCanvas&quot;: false,\n",
       "}\n",
       "\n",
       "                }\n",
       "            );\n",
       "\n",
       "            \n",
       "\n",
       "        \n",
       "    \n",
       "            var tile_layer_9a578eaedb5f44f61ad5bcdd05c6fa13 = L.tileLayer(\n",
       "                &quot;https://tile.openstreetmap.org/{z}/{x}/{y}.png&quot;,\n",
       "                {\n",
       "  &quot;minZoom&quot;: 0,\n",
       "  &quot;maxZoom&quot;: 19,\n",
       "  &quot;maxNativeZoom&quot;: 19,\n",
       "  &quot;noWrap&quot;: false,\n",
       "  &quot;attribution&quot;: &quot;\\u0026copy; \\u003ca href=\\&quot;https://www.openstreetmap.org/copyright\\&quot;\\u003eOpenStreetMap\\u003c/a\\u003e contributors&quot;,\n",
       "  &quot;subdomains&quot;: &quot;abc&quot;,\n",
       "  &quot;detectRetina&quot;: false,\n",
       "  &quot;tms&quot;: false,\n",
       "  &quot;opacity&quot;: 1,\n",
       "}\n",
       "\n",
       "            );\n",
       "        \n",
       "    \n",
       "            tile_layer_9a578eaedb5f44f61ad5bcdd05c6fa13.addTo(map_37631a1e6838be55fdd34766d6732381);\n",
       "        \n",
       "    \n",
       "            var fast_marker_cluster_c7de65d81fa786895e3202cff54ef367 = (function(){\n",
       "                \n",
       "                var callback = function (row) {\n",
       "                    var icon = L.AwesomeMarkers.icon();\n",
       "                    var marker = L.marker(new L.LatLng(row[0], row[1]));\n",
       "                    marker.setIcon(icon);\n",
       "                    return marker;\n",
       "                };\n",
       "\n",
       "                var data = [[12.9112758, 77.6045654, 5124.0], [12.9116225, 77.6388622, 2523.0], [12.9348429, 77.6189768, 2504.0], [12.9096941, 77.5866067, 2235.0], [12.9963995, 77.7614229, 2144.0], [12.9732913, 77.6404672, 2083.0], [12.9292731, 77.5824229, 1926.0], [12.9552572, 77.6984163, 1846.0], [12.9060737, 77.6016519, 1630.0], [12.9361208, 77.6671843, 1286.0], [12.8487599, 77.648253, 1258.0], [12.9277245, 77.6327822, 1238.0], [12.971609, 77.6070463, 1218.0], [12.9364846, 77.6134783, 1181.0], [12.9390255, 77.6238477, 1156.0], [12.9239942, 77.6530304, 1065.0], [12.9778793, 77.6246697, 1023.0], [12.9327778, 77.6294052, 1017.0], [12.9755264, 77.6067902, 918.0], [12.9278196, 77.556621, 906.0], [13.0221416, 77.6403368, 853.0], [12.9684808, 77.614415, 812.0], [12.9975851, 77.6136744, 727.0], [13.0027353, 77.5703253, 725.0], [12.9417261, 77.5755021, 684.0], [12.9672634, 77.5993931, 675.0], [13.0141618, 77.6518539, 664.0], [12.9652094, 77.717936, 658.0], [13.039186, 77.564284, 649.0], [13.0148544, 77.6382029, 648.0], [13.0005359, 77.5496996, 591.0], [12.9749142, 77.6052474, 569.0], [12.9722287, 77.5986661, 529.0], [12.9555367, 77.5924278, 511.0], [12.9855286, 77.6054496, 499.0], [12.9624669, 77.6381958, 496.0], [12.9884255, 77.5938978, 491.0], [12.9584696, 77.665621, 446.0], [12.945245, 77.6274776, 439.0], [12.9822423, 77.608265, 370.0], [12.9758014, 77.6016924, 352.0], [12.9408685, 77.617338, 320.0], [12.9921738, 77.591459, 295.0], [12.9678074, 77.6568367, 272.0], [12.9489339, 77.5968273, 246.0], [12.9089453, 77.6239038, 238.0], [12.9282918, 77.6254034, 216.0], [12.9067683, 77.5595021, 195.0], [12.8744383, 77.5579029, 194.0], [12.9911804, 77.5448918, 191.0], [13.0422794, 77.6248577, 187.0], [12.9931876, 77.5753419, 165.0], [13.037077, 77.6413572, 161.0], [12.9779079, 77.5723936, 155.0], [13.031992, 77.6280789, 153.0], [12.9800059, 77.6050006, 151.0], [12.9813402, 77.575178, 139.0], [12.965718, 77.5762705, 126.0], [13.0221838, 77.5530824, 119.0], [12.9616273, 77.7478198, 117.0], [12.9876393, 77.7377718, 113.0], [12.9287596, 77.6287122, 107.0], [12.9243692, 77.6242433, 102.0], [12.9553487, 77.6056093, 102.0], [12.9846713, 77.6790908, 101.0], [12.9850987, 77.6631173, 90.0], [12.9660722, 77.6125941, 80.0], [13.0227204, 77.595715, 80.0], [12.9578658, 77.6958748, 76.0], [13.0068, 77.5813, 63.0], [13.0621474, 77.5800614, 53.0], [12.9357366, 77.624081, 48.0], [12.9833162, 77.7083182, 44.0], [13.0394104, 77.5197351, 38.0], [12.975608, 77.5553564, 34.0], [13.0163, 77.6785, 32.0], [12.957998, 77.6037312, 27.0], [12.9957937, 77.5847787, 27.0], [13.0219668, 77.7127257, 22.0], [12.9467026, 77.5300705, 22.0], [12.8591407, 77.5284991, 19.0], [13.007516, 77.695935, 18.0], [12.9055682, 77.5455438, 17.0], [13.0382184, 77.5919, 14.0], [13.0222347, 77.5671832, 14.0], [12.9176571, 77.4837568, 9.0], [12.9651215, 77.5090098, 9.0], [12.9730087, 77.5804711, 8.0], [12.9529035, 77.5158003, 6.0], [13.1006982, 77.5963454, 6.0], [13.0784743, 77.6068938, 3.0], [12.9274413, 77.5155224, 2.0], [13.0329814, 77.5331801, 1.0]];\n",
       "                var cluster = L.markerClusterGroup({\n",
       "});\n",
       "\n",
       "                for (var i = 0; i &lt; data.length; i++) {\n",
       "                    var row = data[i];\n",
       "                    var marker = callback(row);\n",
       "                    marker.addTo(cluster);\n",
       "                }\n",
       "\n",
       "                cluster.addTo(map_37631a1e6838be55fdd34766d6732381);\n",
       "                return cluster;\n",
       "            })();\n",
       "        \n",
       "    \n",
       "            fast_marker_cluster_c7de65d81fa786895e3202cff54ef367.addTo(map_37631a1e6838be55fdd34766d6732381);\n",
       "        \n",
       "&lt;/script&gt;\n",
       "&lt;/html&gt;\" style=\"position:absolute;width:100%;height:100%;left:0;top:0;border:none !important;\" allowfullscreen webkitallowfullscreen mozallowfullscreen></iframe></div></div>"
      ],
      "text/plain": [
       "<folium.folium.Map at 0x29a7fd96ba0>"
      ]
     },
     "execution_count": 89,
     "metadata": {},
     "output_type": "execute_result"
    }
   ],
   "source": [
    "basemap"
   ]
  },
  {
   "cell_type": "markdown",
   "id": "81df9a73",
   "metadata": {},
   "source": [
    "### Insights:\n",
    "\n",
    "    The central region of Bangalore has the highest concentration (e.g., 69 restaurants).\n",
    "    Other popular clusters include areas around Whitefield, Koramangala, and Indiranagar."
   ]
  },
  {
   "cell_type": "code",
   "execution_count": null,
   "id": "779f08c8",
   "metadata": {},
   "outputs": [],
   "source": []
  },
  {
   "cell_type": "code",
   "execution_count": null,
   "id": "267cbd36",
   "metadata": {},
   "outputs": [],
   "source": []
  },
  {
   "cell_type": "code",
   "execution_count": null,
   "id": "aab19aa6",
   "metadata": {},
   "outputs": [],
   "source": []
  },
  {
   "cell_type": "markdown",
   "id": "45e253f5",
   "metadata": {},
   "source": [
    "## 7.. Plotting all the markers of places of Bangalore !"
   ]
  },
  {
   "cell_type": "markdown",
   "id": "16c3003e",
   "metadata": {},
   "source": [
    "Plotting Markers on the Map :\n",
    "\n",
    "    Folium gives a folium.Marker() class for plotting markers on a map\n",
    "    Just pass the latitude and longitude of the location, mention the popup and tooltip and add it to the map.\n",
    "\n",
    "#### Plotting markers is a two-step process ( as above discussed )..\n",
    "    1) you need to create a base map of Bengaluru city on which your markers will be placed\n",
    "    2) and then add your markers to it:"
   ]
  },
  {
   "cell_type": "code",
   "execution_count": 90,
   "id": "e387d612",
   "metadata": {},
   "outputs": [
    {
     "data": {
      "text/html": [
       "<div>\n",
       "<style scoped>\n",
       "    .dataframe tbody tr th:only-of-type {\n",
       "        vertical-align: middle;\n",
       "    }\n",
       "\n",
       "    .dataframe tbody tr th {\n",
       "        vertical-align: top;\n",
       "    }\n",
       "\n",
       "    .dataframe thead th {\n",
       "        text-align: right;\n",
       "    }\n",
       "</style>\n",
       "<table border=\"1\" class=\"dataframe\">\n",
       "  <thead>\n",
       "    <tr style=\"text-align: right;\">\n",
       "      <th></th>\n",
       "      <th>Name</th>\n",
       "      <th>count</th>\n",
       "      <th>lat</th>\n",
       "      <th>lon</th>\n",
       "    </tr>\n",
       "  </thead>\n",
       "  <tbody>\n",
       "    <tr>\n",
       "      <th>0</th>\n",
       "      <td>BTM , Bangalore , Karnataka , India</td>\n",
       "      <td>5124</td>\n",
       "      <td>12.911276</td>\n",
       "      <td>77.604565</td>\n",
       "    </tr>\n",
       "    <tr>\n",
       "      <th>1</th>\n",
       "      <td>HSR , Bangalore , Karnataka , India</td>\n",
       "      <td>2523</td>\n",
       "      <td>12.911623</td>\n",
       "      <td>77.638862</td>\n",
       "    </tr>\n",
       "    <tr>\n",
       "      <th>2</th>\n",
       "      <td>Koramangala 5th Block , Bangalore , Karnataka ...</td>\n",
       "      <td>2504</td>\n",
       "      <td>12.934843</td>\n",
       "      <td>77.618977</td>\n",
       "    </tr>\n",
       "    <tr>\n",
       "      <th>3</th>\n",
       "      <td>JP Nagar , Bangalore , Karnataka , India</td>\n",
       "      <td>2235</td>\n",
       "      <td>12.909694</td>\n",
       "      <td>77.586607</td>\n",
       "    </tr>\n",
       "    <tr>\n",
       "      <th>4</th>\n",
       "      <td>Whitefield , Bangalore , Karnataka , India</td>\n",
       "      <td>2144</td>\n",
       "      <td>12.996400</td>\n",
       "      <td>77.761423</td>\n",
       "    </tr>\n",
       "    <tr>\n",
       "      <th>...</th>\n",
       "      <td>...</td>\n",
       "      <td>...</td>\n",
       "      <td>...</td>\n",
       "      <td>...</td>\n",
       "    </tr>\n",
       "    <tr>\n",
       "      <th>88</th>\n",
       "      <td>West Bangalore , Bangalore , Karnataka , India</td>\n",
       "      <td>6</td>\n",
       "      <td>12.952903</td>\n",
       "      <td>77.515800</td>\n",
       "    </tr>\n",
       "    <tr>\n",
       "      <th>89</th>\n",
       "      <td>Yelahanka , Bangalore , Karnataka , India</td>\n",
       "      <td>6</td>\n",
       "      <td>13.100698</td>\n",
       "      <td>77.596345</td>\n",
       "    </tr>\n",
       "    <tr>\n",
       "      <th>90</th>\n",
       "      <td>Jakkur , Bangalore , Karnataka , India</td>\n",
       "      <td>3</td>\n",
       "      <td>13.078474</td>\n",
       "      <td>77.606894</td>\n",
       "    </tr>\n",
       "    <tr>\n",
       "      <th>91</th>\n",
       "      <td>Rajarajeshwari Nagar , Bangalore , Karnataka ,...</td>\n",
       "      <td>2</td>\n",
       "      <td>12.927441</td>\n",
       "      <td>77.515522</td>\n",
       "    </tr>\n",
       "    <tr>\n",
       "      <th>92</th>\n",
       "      <td>Peenya , Bangalore , Karnataka , India</td>\n",
       "      <td>1</td>\n",
       "      <td>13.032981</td>\n",
       "      <td>77.533180</td>\n",
       "    </tr>\n",
       "  </tbody>\n",
       "</table>\n",
       "<p>93 rows × 4 columns</p>\n",
       "</div>"
      ],
      "text/plain": [
       "                                                 Name  count        lat  \\\n",
       "0                 BTM , Bangalore , Karnataka , India   5124  12.911276   \n",
       "1                 HSR , Bangalore , Karnataka , India   2523  12.911623   \n",
       "2   Koramangala 5th Block , Bangalore , Karnataka ...   2504  12.934843   \n",
       "3            JP Nagar , Bangalore , Karnataka , India   2235  12.909694   \n",
       "4          Whitefield , Bangalore , Karnataka , India   2144  12.996400   \n",
       "..                                                ...    ...        ...   \n",
       "88     West Bangalore , Bangalore , Karnataka , India      6  12.952903   \n",
       "89          Yelahanka , Bangalore , Karnataka , India      6  13.100698   \n",
       "90             Jakkur , Bangalore , Karnataka , India      3  13.078474   \n",
       "91  Rajarajeshwari Nagar , Bangalore , Karnataka ,...      2  12.927441   \n",
       "92             Peenya , Bangalore , Karnataka , India      1  13.032981   \n",
       "\n",
       "          lon  \n",
       "0   77.604565  \n",
       "1   77.638862  \n",
       "2   77.618977  \n",
       "3   77.586607  \n",
       "4   77.761423  \n",
       "..        ...  \n",
       "88  77.515800  \n",
       "89  77.596345  \n",
       "90  77.606894  \n",
       "91  77.515522  \n",
       "92  77.533180  \n",
       "\n",
       "[93 rows x 4 columns]"
      ]
     },
     "execution_count": 90,
     "metadata": {},
     "output_type": "execute_result"
    }
   ],
   "source": [
    "Beng_rest_locations"
   ]
  },
  {
   "cell_type": "code",
   "execution_count": 156,
   "id": "bc4bb8e9",
   "metadata": {},
   "outputs": [],
   "source": [
    "m = Generate_basemap() ## it will generate basemap"
   ]
  },
  {
   "cell_type": "code",
   "execution_count": 157,
   "id": "2a7267ee",
   "metadata": {},
   "outputs": [
    {
     "data": {
      "text/html": [
       "<div style=\"width:100%;\"><div style=\"position:relative;width:100%;height:0;padding-bottom:60%;\"><span style=\"color:#565656\">Make this Notebook Trusted to load map: File -> Trust Notebook</span><iframe srcdoc=\"&lt;!DOCTYPE html&gt;\n",
       "&lt;html&gt;\n",
       "&lt;head&gt;\n",
       "    \n",
       "    &lt;meta http-equiv=&quot;content-type&quot; content=&quot;text/html; charset=UTF-8&quot; /&gt;\n",
       "    &lt;script src=&quot;https://cdn.jsdelivr.net/npm/leaflet@1.9.3/dist/leaflet.js&quot;&gt;&lt;/script&gt;\n",
       "    &lt;script src=&quot;https://code.jquery.com/jquery-3.7.1.min.js&quot;&gt;&lt;/script&gt;\n",
       "    &lt;script src=&quot;https://cdn.jsdelivr.net/npm/bootstrap@5.2.2/dist/js/bootstrap.bundle.min.js&quot;&gt;&lt;/script&gt;\n",
       "    &lt;script src=&quot;https://cdnjs.cloudflare.com/ajax/libs/Leaflet.awesome-markers/2.0.2/leaflet.awesome-markers.js&quot;&gt;&lt;/script&gt;\n",
       "    &lt;link rel=&quot;stylesheet&quot; href=&quot;https://cdn.jsdelivr.net/npm/leaflet@1.9.3/dist/leaflet.css&quot;/&gt;\n",
       "    &lt;link rel=&quot;stylesheet&quot; href=&quot;https://cdn.jsdelivr.net/npm/bootstrap@5.2.2/dist/css/bootstrap.min.css&quot;/&gt;\n",
       "    &lt;link rel=&quot;stylesheet&quot; href=&quot;https://netdna.bootstrapcdn.com/bootstrap/3.0.0/css/bootstrap-glyphicons.css&quot;/&gt;\n",
       "    &lt;link rel=&quot;stylesheet&quot; href=&quot;https://cdn.jsdelivr.net/npm/@fortawesome/fontawesome-free@6.2.0/css/all.min.css&quot;/&gt;\n",
       "    &lt;link rel=&quot;stylesheet&quot; href=&quot;https://cdnjs.cloudflare.com/ajax/libs/Leaflet.awesome-markers/2.0.2/leaflet.awesome-markers.css&quot;/&gt;\n",
       "    &lt;link rel=&quot;stylesheet&quot; href=&quot;https://cdn.jsdelivr.net/gh/python-visualization/folium/folium/templates/leaflet.awesome.rotate.min.css&quot;/&gt;\n",
       "    \n",
       "            &lt;meta name=&quot;viewport&quot; content=&quot;width=device-width,\n",
       "                initial-scale=1.0, maximum-scale=1.0, user-scalable=no&quot; /&gt;\n",
       "            &lt;style&gt;\n",
       "                #map_0a3d78100bee575b363ccd0fac0e5368 {\n",
       "                    position: relative;\n",
       "                    width: 100.0%;\n",
       "                    height: 100.0%;\n",
       "                    left: 0.0%;\n",
       "                    top: 0.0%;\n",
       "                }\n",
       "                .leaflet-container { font-size: 1rem; }\n",
       "            &lt;/style&gt;\n",
       "\n",
       "            &lt;style&gt;html, body {\n",
       "                width: 100%;\n",
       "                height: 100%;\n",
       "                margin: 0;\n",
       "                padding: 0;\n",
       "            }\n",
       "            &lt;/style&gt;\n",
       "\n",
       "            &lt;style&gt;#map {\n",
       "                position:absolute;\n",
       "                top:0;\n",
       "                bottom:0;\n",
       "                right:0;\n",
       "                left:0;\n",
       "                }\n",
       "            &lt;/style&gt;\n",
       "\n",
       "            &lt;script&gt;\n",
       "                L_NO_TOUCH = false;\n",
       "                L_DISABLE_3D = false;\n",
       "            &lt;/script&gt;\n",
       "\n",
       "        \n",
       "&lt;/head&gt;\n",
       "&lt;body&gt;\n",
       "    \n",
       "    \n",
       "            &lt;div class=&quot;folium-map&quot; id=&quot;map_0a3d78100bee575b363ccd0fac0e5368&quot; &gt;&lt;/div&gt;\n",
       "        \n",
       "&lt;/body&gt;\n",
       "&lt;script&gt;\n",
       "    \n",
       "    \n",
       "            var map_0a3d78100bee575b363ccd0fac0e5368 = L.map(\n",
       "                &quot;map_0a3d78100bee575b363ccd0fac0e5368&quot;,\n",
       "                {\n",
       "                    center: [12.9629, 77.5775],\n",
       "                    crs: L.CRS.EPSG3857,\n",
       "                    ...{\n",
       "  &quot;zoom&quot;: 10,\n",
       "  &quot;zoomControl&quot;: true,\n",
       "  &quot;preferCanvas&quot;: false,\n",
       "}\n",
       "\n",
       "                }\n",
       "            );\n",
       "\n",
       "            \n",
       "\n",
       "        \n",
       "    \n",
       "            var tile_layer_b94d45f842caeabb9a946cbdbc8a9ea8 = L.tileLayer(\n",
       "                &quot;https://tile.openstreetmap.org/{z}/{x}/{y}.png&quot;,\n",
       "                {\n",
       "  &quot;minZoom&quot;: 0,\n",
       "  &quot;maxZoom&quot;: 19,\n",
       "  &quot;maxNativeZoom&quot;: 19,\n",
       "  &quot;noWrap&quot;: false,\n",
       "  &quot;attribution&quot;: &quot;\\u0026copy; \\u003ca href=\\&quot;https://www.openstreetmap.org/copyright\\&quot;\\u003eOpenStreetMap\\u003c/a\\u003e contributors&quot;,\n",
       "  &quot;subdomains&quot;: &quot;abc&quot;,\n",
       "  &quot;detectRetina&quot;: false,\n",
       "  &quot;tms&quot;: false,\n",
       "  &quot;opacity&quot;: 1,\n",
       "}\n",
       "\n",
       "            );\n",
       "        \n",
       "    \n",
       "            tile_layer_b94d45f842caeabb9a946cbdbc8a9ea8.addTo(map_0a3d78100bee575b363ccd0fac0e5368);\n",
       "        \n",
       "&lt;/script&gt;\n",
       "&lt;/html&gt;\" style=\"position:absolute;width:100%;height:100%;left:0;top:0;border:none !important;\" allowfullscreen webkitallowfullscreen mozallowfullscreen></iframe></div></div>"
      ],
      "text/plain": [
       "<folium.folium.Map at 0x29a7bf078f0>"
      ]
     },
     "execution_count": 157,
     "metadata": {},
     "output_type": "execute_result"
    }
   ],
   "source": [
    "m"
   ]
  },
  {
   "cell_type": "code",
   "execution_count": null,
   "id": "52a5eca3",
   "metadata": {},
   "outputs": [],
   "source": []
  },
  {
   "cell_type": "code",
   "execution_count": 158,
   "id": "793594f2",
   "metadata": {},
   "outputs": [
    {
     "data": {
      "text/html": [
       "<div>\n",
       "<style scoped>\n",
       "    .dataframe tbody tr th:only-of-type {\n",
       "        vertical-align: middle;\n",
       "    }\n",
       "\n",
       "    .dataframe tbody tr th {\n",
       "        vertical-align: top;\n",
       "    }\n",
       "\n",
       "    .dataframe thead th {\n",
       "        text-align: right;\n",
       "    }\n",
       "</style>\n",
       "<table border=\"1\" class=\"dataframe\">\n",
       "  <thead>\n",
       "    <tr style=\"text-align: right;\">\n",
       "      <th></th>\n",
       "      <th>Name</th>\n",
       "      <th>count</th>\n",
       "      <th>lat</th>\n",
       "      <th>lon</th>\n",
       "    </tr>\n",
       "  </thead>\n",
       "  <tbody>\n",
       "    <tr>\n",
       "      <th>0</th>\n",
       "      <td>BTM , Bangalore , Karnataka , India</td>\n",
       "      <td>5124</td>\n",
       "      <td>12.911276</td>\n",
       "      <td>77.604565</td>\n",
       "    </tr>\n",
       "    <tr>\n",
       "      <th>1</th>\n",
       "      <td>HSR , Bangalore , Karnataka , India</td>\n",
       "      <td>2523</td>\n",
       "      <td>12.911623</td>\n",
       "      <td>77.638862</td>\n",
       "    </tr>\n",
       "    <tr>\n",
       "      <th>2</th>\n",
       "      <td>Koramangala 5th Block , Bangalore , Karnataka ...</td>\n",
       "      <td>2504</td>\n",
       "      <td>12.934843</td>\n",
       "      <td>77.618977</td>\n",
       "    </tr>\n",
       "    <tr>\n",
       "      <th>3</th>\n",
       "      <td>JP Nagar , Bangalore , Karnataka , India</td>\n",
       "      <td>2235</td>\n",
       "      <td>12.909694</td>\n",
       "      <td>77.586607</td>\n",
       "    </tr>\n",
       "    <tr>\n",
       "      <th>4</th>\n",
       "      <td>Whitefield , Bangalore , Karnataka , India</td>\n",
       "      <td>2144</td>\n",
       "      <td>12.996400</td>\n",
       "      <td>77.761423</td>\n",
       "    </tr>\n",
       "    <tr>\n",
       "      <th>...</th>\n",
       "      <td>...</td>\n",
       "      <td>...</td>\n",
       "      <td>...</td>\n",
       "      <td>...</td>\n",
       "    </tr>\n",
       "    <tr>\n",
       "      <th>88</th>\n",
       "      <td>West Bangalore , Bangalore , Karnataka , India</td>\n",
       "      <td>6</td>\n",
       "      <td>12.952903</td>\n",
       "      <td>77.515800</td>\n",
       "    </tr>\n",
       "    <tr>\n",
       "      <th>89</th>\n",
       "      <td>Yelahanka , Bangalore , Karnataka , India</td>\n",
       "      <td>6</td>\n",
       "      <td>13.100698</td>\n",
       "      <td>77.596345</td>\n",
       "    </tr>\n",
       "    <tr>\n",
       "      <th>90</th>\n",
       "      <td>Jakkur , Bangalore , Karnataka , India</td>\n",
       "      <td>3</td>\n",
       "      <td>13.078474</td>\n",
       "      <td>77.606894</td>\n",
       "    </tr>\n",
       "    <tr>\n",
       "      <th>91</th>\n",
       "      <td>Rajarajeshwari Nagar , Bangalore , Karnataka ,...</td>\n",
       "      <td>2</td>\n",
       "      <td>12.927441</td>\n",
       "      <td>77.515522</td>\n",
       "    </tr>\n",
       "    <tr>\n",
       "      <th>92</th>\n",
       "      <td>Peenya , Bangalore , Karnataka , India</td>\n",
       "      <td>1</td>\n",
       "      <td>13.032981</td>\n",
       "      <td>77.533180</td>\n",
       "    </tr>\n",
       "  </tbody>\n",
       "</table>\n",
       "<p>93 rows × 4 columns</p>\n",
       "</div>"
      ],
      "text/plain": [
       "                                                 Name  count        lat  \\\n",
       "0                 BTM , Bangalore , Karnataka , India   5124  12.911276   \n",
       "1                 HSR , Bangalore , Karnataka , India   2523  12.911623   \n",
       "2   Koramangala 5th Block , Bangalore , Karnataka ...   2504  12.934843   \n",
       "3            JP Nagar , Bangalore , Karnataka , India   2235  12.909694   \n",
       "4          Whitefield , Bangalore , Karnataka , India   2144  12.996400   \n",
       "..                                                ...    ...        ...   \n",
       "88     West Bangalore , Bangalore , Karnataka , India      6  12.952903   \n",
       "89          Yelahanka , Bangalore , Karnataka , India      6  13.100698   \n",
       "90             Jakkur , Bangalore , Karnataka , India      3  13.078474   \n",
       "91  Rajarajeshwari Nagar , Bangalore , Karnataka ,...      2  12.927441   \n",
       "92             Peenya , Bangalore , Karnataka , India      1  13.032981   \n",
       "\n",
       "          lon  \n",
       "0   77.604565  \n",
       "1   77.638862  \n",
       "2   77.618977  \n",
       "3   77.586607  \n",
       "4   77.761423  \n",
       "..        ...  \n",
       "88  77.515800  \n",
       "89  77.596345  \n",
       "90  77.606894  \n",
       "91  77.515522  \n",
       "92  77.533180  \n",
       "\n",
       "[93 rows x 4 columns]"
      ]
     },
     "execution_count": 158,
     "metadata": {},
     "output_type": "execute_result"
    }
   ],
   "source": [
    "Beng_rest_locations"
   ]
  },
  {
   "cell_type": "code",
   "execution_count": 159,
   "id": "ddd93ddc",
   "metadata": {},
   "outputs": [],
   "source": [
    "# Add points to the map\n",
    "  \n",
    "    \n",
    "# Add restaurant count markers on the map\n",
    "for index , row in Beng_rest_locations.iterrows():\n",
    "    place_name = row['Name'].split(',')[0].strip()\n",
    "    popup_text = (\n",
    "    \"<b>📍 Location:</b> \" + place_name + \"<br>\" +\n",
    "    \"<b>🍽️ Total Restaurants:</b> \" + str(row['count']))\n",
    "\n",
    "    \n",
    "    folium.Marker(location = [row['lat'], row['lon']] , popup = popup_text).add_to(m)\n"
   ]
  },
  {
   "cell_type": "code",
   "execution_count": 95,
   "id": "113eb476",
   "metadata": {},
   "outputs": [
    {
     "data": {
      "text/html": [
       "<div style=\"width:100%;\"><div style=\"position:relative;width:100%;height:0;padding-bottom:60%;\"><span style=\"color:#565656\">Make this Notebook Trusted to load map: File -> Trust Notebook</span><iframe srcdoc=\"&lt;!DOCTYPE html&gt;\n",
       "&lt;html&gt;\n",
       "&lt;head&gt;\n",
       "    \n",
       "    &lt;meta http-equiv=&quot;content-type&quot; content=&quot;text/html; charset=UTF-8&quot; /&gt;\n",
       "    &lt;script src=&quot;https://cdn.jsdelivr.net/npm/leaflet@1.9.3/dist/leaflet.js&quot;&gt;&lt;/script&gt;\n",
       "    &lt;script src=&quot;https://code.jquery.com/jquery-3.7.1.min.js&quot;&gt;&lt;/script&gt;\n",
       "    &lt;script src=&quot;https://cdn.jsdelivr.net/npm/bootstrap@5.2.2/dist/js/bootstrap.bundle.min.js&quot;&gt;&lt;/script&gt;\n",
       "    &lt;script src=&quot;https://cdnjs.cloudflare.com/ajax/libs/Leaflet.awesome-markers/2.0.2/leaflet.awesome-markers.js&quot;&gt;&lt;/script&gt;\n",
       "    &lt;link rel=&quot;stylesheet&quot; href=&quot;https://cdn.jsdelivr.net/npm/leaflet@1.9.3/dist/leaflet.css&quot;/&gt;\n",
       "    &lt;link rel=&quot;stylesheet&quot; href=&quot;https://cdn.jsdelivr.net/npm/bootstrap@5.2.2/dist/css/bootstrap.min.css&quot;/&gt;\n",
       "    &lt;link rel=&quot;stylesheet&quot; href=&quot;https://netdna.bootstrapcdn.com/bootstrap/3.0.0/css/bootstrap-glyphicons.css&quot;/&gt;\n",
       "    &lt;link rel=&quot;stylesheet&quot; href=&quot;https://cdn.jsdelivr.net/npm/@fortawesome/fontawesome-free@6.2.0/css/all.min.css&quot;/&gt;\n",
       "    &lt;link rel=&quot;stylesheet&quot; href=&quot;https://cdnjs.cloudflare.com/ajax/libs/Leaflet.awesome-markers/2.0.2/leaflet.awesome-markers.css&quot;/&gt;\n",
       "    &lt;link rel=&quot;stylesheet&quot; href=&quot;https://cdn.jsdelivr.net/gh/python-visualization/folium/folium/templates/leaflet.awesome.rotate.min.css&quot;/&gt;\n",
       "    \n",
       "            &lt;meta name=&quot;viewport&quot; content=&quot;width=device-width,\n",
       "                initial-scale=1.0, maximum-scale=1.0, user-scalable=no&quot; /&gt;\n",
       "            &lt;style&gt;\n",
       "                #map_70913d925aa1d203d02dc92273d382af {\n",
       "                    position: relative;\n",
       "                    width: 100.0%;\n",
       "                    height: 100.0%;\n",
       "                    left: 0.0%;\n",
       "                    top: 0.0%;\n",
       "                }\n",
       "                .leaflet-container { font-size: 1rem; }\n",
       "            &lt;/style&gt;\n",
       "\n",
       "            &lt;style&gt;html, body {\n",
       "                width: 100%;\n",
       "                height: 100%;\n",
       "                margin: 0;\n",
       "                padding: 0;\n",
       "            }\n",
       "            &lt;/style&gt;\n",
       "\n",
       "            &lt;style&gt;#map {\n",
       "                position:absolute;\n",
       "                top:0;\n",
       "                bottom:0;\n",
       "                right:0;\n",
       "                left:0;\n",
       "                }\n",
       "            &lt;/style&gt;\n",
       "\n",
       "            &lt;script&gt;\n",
       "                L_NO_TOUCH = false;\n",
       "                L_DISABLE_3D = false;\n",
       "            &lt;/script&gt;\n",
       "\n",
       "        \n",
       "&lt;/head&gt;\n",
       "&lt;body&gt;\n",
       "    \n",
       "    \n",
       "            &lt;div class=&quot;folium-map&quot; id=&quot;map_70913d925aa1d203d02dc92273d382af&quot; &gt;&lt;/div&gt;\n",
       "        \n",
       "&lt;/body&gt;\n",
       "&lt;script&gt;\n",
       "    \n",
       "    \n",
       "            var map_70913d925aa1d203d02dc92273d382af = L.map(\n",
       "                &quot;map_70913d925aa1d203d02dc92273d382af&quot;,\n",
       "                {\n",
       "                    center: [12.9629, 77.5775],\n",
       "                    crs: L.CRS.EPSG3857,\n",
       "                    ...{\n",
       "  &quot;zoom&quot;: 10,\n",
       "  &quot;zoomControl&quot;: true,\n",
       "  &quot;preferCanvas&quot;: false,\n",
       "}\n",
       "\n",
       "                }\n",
       "            );\n",
       "\n",
       "            \n",
       "\n",
       "        \n",
       "    \n",
       "            var tile_layer_a3e07b5fd7e72dade7b3da711ffd6453 = L.tileLayer(\n",
       "                &quot;https://tile.openstreetmap.org/{z}/{x}/{y}.png&quot;,\n",
       "                {\n",
       "  &quot;minZoom&quot;: 0,\n",
       "  &quot;maxZoom&quot;: 19,\n",
       "  &quot;maxNativeZoom&quot;: 19,\n",
       "  &quot;noWrap&quot;: false,\n",
       "  &quot;attribution&quot;: &quot;\\u0026copy; \\u003ca href=\\&quot;https://www.openstreetmap.org/copyright\\&quot;\\u003eOpenStreetMap\\u003c/a\\u003e contributors&quot;,\n",
       "  &quot;subdomains&quot;: &quot;abc&quot;,\n",
       "  &quot;detectRetina&quot;: false,\n",
       "  &quot;tms&quot;: false,\n",
       "  &quot;opacity&quot;: 1,\n",
       "}\n",
       "\n",
       "            );\n",
       "        \n",
       "    \n",
       "            tile_layer_a3e07b5fd7e72dade7b3da711ffd6453.addTo(map_70913d925aa1d203d02dc92273d382af);\n",
       "        \n",
       "    \n",
       "            tile_layer_a3e07b5fd7e72dade7b3da711ffd6453.addTo(map_70913d925aa1d203d02dc92273d382af);\n",
       "        \n",
       "    \n",
       "            var marker_cb70b7027d0b6f6530c6493df72c23fe = L.marker(\n",
       "                [12.9112758, 77.6045654],\n",
       "                {\n",
       "}\n",
       "            ).addTo(map_70913d925aa1d203d02dc92273d382af);\n",
       "        \n",
       "    \n",
       "        var popup_681fc0e28528ca3bf3de53b223276f28 = L.popup({\n",
       "  &quot;maxWidth&quot;: &quot;100%&quot;,\n",
       "});\n",
       "\n",
       "        \n",
       "            \n",
       "                var html_372c0b2060d9de97e52ec8ecfcaf5532 = $(`&lt;div id=&quot;html_372c0b2060d9de97e52ec8ecfcaf5532&quot; style=&quot;width: 100.0%; height: 100.0%;&quot;&gt;&lt;b&gt;📍 Location:&lt;/b&gt; BTM&lt;br&gt;&lt;b&gt;🍽️ Total Restaurants:&lt;/b&gt; 5124&lt;/div&gt;`)[0];\n",
       "                popup_681fc0e28528ca3bf3de53b223276f28.setContent(html_372c0b2060d9de97e52ec8ecfcaf5532);\n",
       "            \n",
       "        \n",
       "\n",
       "        marker_cb70b7027d0b6f6530c6493df72c23fe.bindPopup(popup_681fc0e28528ca3bf3de53b223276f28)\n",
       "        ;\n",
       "\n",
       "        \n",
       "    \n",
       "    \n",
       "            var marker_be48bc1d0e6446ce1d457ec1d7912fae = L.marker(\n",
       "                [12.9116225, 77.6388622],\n",
       "                {\n",
       "}\n",
       "            ).addTo(map_70913d925aa1d203d02dc92273d382af);\n",
       "        \n",
       "    \n",
       "        var popup_4ef0c12e77dac09c2585f931312575a0 = L.popup({\n",
       "  &quot;maxWidth&quot;: &quot;100%&quot;,\n",
       "});\n",
       "\n",
       "        \n",
       "            \n",
       "                var html_42faabb114701c264eb3edcbab62664d = $(`&lt;div id=&quot;html_42faabb114701c264eb3edcbab62664d&quot; style=&quot;width: 100.0%; height: 100.0%;&quot;&gt;&lt;b&gt;📍 Location:&lt;/b&gt; HSR&lt;br&gt;&lt;b&gt;🍽️ Total Restaurants:&lt;/b&gt; 2523&lt;/div&gt;`)[0];\n",
       "                popup_4ef0c12e77dac09c2585f931312575a0.setContent(html_42faabb114701c264eb3edcbab62664d);\n",
       "            \n",
       "        \n",
       "\n",
       "        marker_be48bc1d0e6446ce1d457ec1d7912fae.bindPopup(popup_4ef0c12e77dac09c2585f931312575a0)\n",
       "        ;\n",
       "\n",
       "        \n",
       "    \n",
       "    \n",
       "            var marker_cc22447e3f4e2c07ef58fb43f0228bc1 = L.marker(\n",
       "                [12.9348429, 77.6189768],\n",
       "                {\n",
       "}\n",
       "            ).addTo(map_70913d925aa1d203d02dc92273d382af);\n",
       "        \n",
       "    \n",
       "        var popup_763bbddd854580ab81a23be125257a41 = L.popup({\n",
       "  &quot;maxWidth&quot;: &quot;100%&quot;,\n",
       "});\n",
       "\n",
       "        \n",
       "            \n",
       "                var html_df37b980e45f407b6b0f92465bb31e79 = $(`&lt;div id=&quot;html_df37b980e45f407b6b0f92465bb31e79&quot; style=&quot;width: 100.0%; height: 100.0%;&quot;&gt;&lt;b&gt;📍 Location:&lt;/b&gt; Koramangala 5th Block&lt;br&gt;&lt;b&gt;🍽️ Total Restaurants:&lt;/b&gt; 2504&lt;/div&gt;`)[0];\n",
       "                popup_763bbddd854580ab81a23be125257a41.setContent(html_df37b980e45f407b6b0f92465bb31e79);\n",
       "            \n",
       "        \n",
       "\n",
       "        marker_cc22447e3f4e2c07ef58fb43f0228bc1.bindPopup(popup_763bbddd854580ab81a23be125257a41)\n",
       "        ;\n",
       "\n",
       "        \n",
       "    \n",
       "    \n",
       "            var marker_dbeac979241145ce402a1e4137df7b9a = L.marker(\n",
       "                [12.9096941, 77.5866067],\n",
       "                {\n",
       "}\n",
       "            ).addTo(map_70913d925aa1d203d02dc92273d382af);\n",
       "        \n",
       "    \n",
       "        var popup_c51f7d24058e7965f4f3cedbe5669086 = L.popup({\n",
       "  &quot;maxWidth&quot;: &quot;100%&quot;,\n",
       "});\n",
       "\n",
       "        \n",
       "            \n",
       "                var html_c7beb4e0d7defd5de8683e96ec3914a0 = $(`&lt;div id=&quot;html_c7beb4e0d7defd5de8683e96ec3914a0&quot; style=&quot;width: 100.0%; height: 100.0%;&quot;&gt;&lt;b&gt;📍 Location:&lt;/b&gt; JP Nagar&lt;br&gt;&lt;b&gt;🍽️ Total Restaurants:&lt;/b&gt; 2235&lt;/div&gt;`)[0];\n",
       "                popup_c51f7d24058e7965f4f3cedbe5669086.setContent(html_c7beb4e0d7defd5de8683e96ec3914a0);\n",
       "            \n",
       "        \n",
       "\n",
       "        marker_dbeac979241145ce402a1e4137df7b9a.bindPopup(popup_c51f7d24058e7965f4f3cedbe5669086)\n",
       "        ;\n",
       "\n",
       "        \n",
       "    \n",
       "    \n",
       "            var marker_231d7bfa41522b17c57817c4e9024f62 = L.marker(\n",
       "                [12.9963995, 77.7614229],\n",
       "                {\n",
       "}\n",
       "            ).addTo(map_70913d925aa1d203d02dc92273d382af);\n",
       "        \n",
       "    \n",
       "        var popup_cd918b54319e81808d5c60383d97c8ee = L.popup({\n",
       "  &quot;maxWidth&quot;: &quot;100%&quot;,\n",
       "});\n",
       "\n",
       "        \n",
       "            \n",
       "                var html_53441e8cbf292e8f95deb90e301bb3f6 = $(`&lt;div id=&quot;html_53441e8cbf292e8f95deb90e301bb3f6&quot; style=&quot;width: 100.0%; height: 100.0%;&quot;&gt;&lt;b&gt;📍 Location:&lt;/b&gt; Whitefield&lt;br&gt;&lt;b&gt;🍽️ Total Restaurants:&lt;/b&gt; 2144&lt;/div&gt;`)[0];\n",
       "                popup_cd918b54319e81808d5c60383d97c8ee.setContent(html_53441e8cbf292e8f95deb90e301bb3f6);\n",
       "            \n",
       "        \n",
       "\n",
       "        marker_231d7bfa41522b17c57817c4e9024f62.bindPopup(popup_cd918b54319e81808d5c60383d97c8ee)\n",
       "        ;\n",
       "\n",
       "        \n",
       "    \n",
       "    \n",
       "            var marker_8bc4937e6d3c34e9bef0126c6295435d = L.marker(\n",
       "                [12.9732913, 77.6404672],\n",
       "                {\n",
       "}\n",
       "            ).addTo(map_70913d925aa1d203d02dc92273d382af);\n",
       "        \n",
       "    \n",
       "        var popup_d74e783ea9f132a4f196e5ff003ae78b = L.popup({\n",
       "  &quot;maxWidth&quot;: &quot;100%&quot;,\n",
       "});\n",
       "\n",
       "        \n",
       "            \n",
       "                var html_7d7dd4c1136e6b770d1ffd27c0709526 = $(`&lt;div id=&quot;html_7d7dd4c1136e6b770d1ffd27c0709526&quot; style=&quot;width: 100.0%; height: 100.0%;&quot;&gt;&lt;b&gt;📍 Location:&lt;/b&gt; Indiranagar&lt;br&gt;&lt;b&gt;🍽️ Total Restaurants:&lt;/b&gt; 2083&lt;/div&gt;`)[0];\n",
       "                popup_d74e783ea9f132a4f196e5ff003ae78b.setContent(html_7d7dd4c1136e6b770d1ffd27c0709526);\n",
       "            \n",
       "        \n",
       "\n",
       "        marker_8bc4937e6d3c34e9bef0126c6295435d.bindPopup(popup_d74e783ea9f132a4f196e5ff003ae78b)\n",
       "        ;\n",
       "\n",
       "        \n",
       "    \n",
       "    \n",
       "            var marker_8f4485f6b44f0b1e30d3c83ee8d12c2f = L.marker(\n",
       "                [12.9292731, 77.5824229],\n",
       "                {\n",
       "}\n",
       "            ).addTo(map_70913d925aa1d203d02dc92273d382af);\n",
       "        \n",
       "    \n",
       "        var popup_e831940e7fc9464fa06d1c8b93c93350 = L.popup({\n",
       "  &quot;maxWidth&quot;: &quot;100%&quot;,\n",
       "});\n",
       "\n",
       "        \n",
       "            \n",
       "                var html_853ca35c67da593b0f17579e02747093 = $(`&lt;div id=&quot;html_853ca35c67da593b0f17579e02747093&quot; style=&quot;width: 100.0%; height: 100.0%;&quot;&gt;&lt;b&gt;📍 Location:&lt;/b&gt; Jayanagar&lt;br&gt;&lt;b&gt;🍽️ Total Restaurants:&lt;/b&gt; 1926&lt;/div&gt;`)[0];\n",
       "                popup_e831940e7fc9464fa06d1c8b93c93350.setContent(html_853ca35c67da593b0f17579e02747093);\n",
       "            \n",
       "        \n",
       "\n",
       "        marker_8f4485f6b44f0b1e30d3c83ee8d12c2f.bindPopup(popup_e831940e7fc9464fa06d1c8b93c93350)\n",
       "        ;\n",
       "\n",
       "        \n",
       "    \n",
       "    \n",
       "            var marker_22da0f4b3c97140c5f44025f639bca73 = L.marker(\n",
       "                [12.9552572, 77.6984163],\n",
       "                {\n",
       "}\n",
       "            ).addTo(map_70913d925aa1d203d02dc92273d382af);\n",
       "        \n",
       "    \n",
       "        var popup_abecc939db020f982795bafb2711fde2 = L.popup({\n",
       "  &quot;maxWidth&quot;: &quot;100%&quot;,\n",
       "});\n",
       "\n",
       "        \n",
       "            \n",
       "                var html_d78c911b8c348906a71f1848792116bf = $(`&lt;div id=&quot;html_d78c911b8c348906a71f1848792116bf&quot; style=&quot;width: 100.0%; height: 100.0%;&quot;&gt;&lt;b&gt;📍 Location:&lt;/b&gt; Marathahalli&lt;br&gt;&lt;b&gt;🍽️ Total Restaurants:&lt;/b&gt; 1846&lt;/div&gt;`)[0];\n",
       "                popup_abecc939db020f982795bafb2711fde2.setContent(html_d78c911b8c348906a71f1848792116bf);\n",
       "            \n",
       "        \n",
       "\n",
       "        marker_22da0f4b3c97140c5f44025f639bca73.bindPopup(popup_abecc939db020f982795bafb2711fde2)\n",
       "        ;\n",
       "\n",
       "        \n",
       "    \n",
       "    \n",
       "            var marker_899c13085f2af7e8c5c2e3f09af9de9c = L.marker(\n",
       "                [12.9060737, 77.6016519],\n",
       "                {\n",
       "}\n",
       "            ).addTo(map_70913d925aa1d203d02dc92273d382af);\n",
       "        \n",
       "    \n",
       "        var popup_f6426ddac91f3ef678b44af0ac2166f2 = L.popup({\n",
       "  &quot;maxWidth&quot;: &quot;100%&quot;,\n",
       "});\n",
       "\n",
       "        \n",
       "            \n",
       "                var html_483c60693dc4af3dc85c1b0e91f31e1d = $(`&lt;div id=&quot;html_483c60693dc4af3dc85c1b0e91f31e1d&quot; style=&quot;width: 100.0%; height: 100.0%;&quot;&gt;&lt;b&gt;📍 Location:&lt;/b&gt; Bannerghatta Road&lt;br&gt;&lt;b&gt;🍽️ Total Restaurants:&lt;/b&gt; 1630&lt;/div&gt;`)[0];\n",
       "                popup_f6426ddac91f3ef678b44af0ac2166f2.setContent(html_483c60693dc4af3dc85c1b0e91f31e1d);\n",
       "            \n",
       "        \n",
       "\n",
       "        marker_899c13085f2af7e8c5c2e3f09af9de9c.bindPopup(popup_f6426ddac91f3ef678b44af0ac2166f2)\n",
       "        ;\n",
       "\n",
       "        \n",
       "    \n",
       "    \n",
       "            var marker_7a9282a4bc497fde85203647ebe8d464 = L.marker(\n",
       "                [12.9361208, 77.6671843],\n",
       "                {\n",
       "}\n",
       "            ).addTo(map_70913d925aa1d203d02dc92273d382af);\n",
       "        \n",
       "    \n",
       "        var popup_406939a125ee98f06238e02ca8afe8a5 = L.popup({\n",
       "  &quot;maxWidth&quot;: &quot;100%&quot;,\n",
       "});\n",
       "\n",
       "        \n",
       "            \n",
       "                var html_75805f00da01a7f46acdfa48ee37e402 = $(`&lt;div id=&quot;html_75805f00da01a7f46acdfa48ee37e402&quot; style=&quot;width: 100.0%; height: 100.0%;&quot;&gt;&lt;b&gt;📍 Location:&lt;/b&gt; Bellandur&lt;br&gt;&lt;b&gt;🍽️ Total Restaurants:&lt;/b&gt; 1286&lt;/div&gt;`)[0];\n",
       "                popup_406939a125ee98f06238e02ca8afe8a5.setContent(html_75805f00da01a7f46acdfa48ee37e402);\n",
       "            \n",
       "        \n",
       "\n",
       "        marker_7a9282a4bc497fde85203647ebe8d464.bindPopup(popup_406939a125ee98f06238e02ca8afe8a5)\n",
       "        ;\n",
       "\n",
       "        \n",
       "    \n",
       "    \n",
       "            var marker_34bf95a195669aa0cf2c6ea5b77691bb = L.marker(\n",
       "                [12.8487599, 77.648253],\n",
       "                {\n",
       "}\n",
       "            ).addTo(map_70913d925aa1d203d02dc92273d382af);\n",
       "        \n",
       "    \n",
       "        var popup_75f3b25632a4fd8001895219ff965765 = L.popup({\n",
       "  &quot;maxWidth&quot;: &quot;100%&quot;,\n",
       "});\n",
       "\n",
       "        \n",
       "            \n",
       "                var html_cae6e4f23375fafb4e9ee7886cde57bb = $(`&lt;div id=&quot;html_cae6e4f23375fafb4e9ee7886cde57bb&quot; style=&quot;width: 100.0%; height: 100.0%;&quot;&gt;&lt;b&gt;📍 Location:&lt;/b&gt; Electronic City&lt;br&gt;&lt;b&gt;🍽️ Total Restaurants:&lt;/b&gt; 1258&lt;/div&gt;`)[0];\n",
       "                popup_75f3b25632a4fd8001895219ff965765.setContent(html_cae6e4f23375fafb4e9ee7886cde57bb);\n",
       "            \n",
       "        \n",
       "\n",
       "        marker_34bf95a195669aa0cf2c6ea5b77691bb.bindPopup(popup_75f3b25632a4fd8001895219ff965765)\n",
       "        ;\n",
       "\n",
       "        \n",
       "    \n",
       "    \n",
       "            var marker_6b78c7f809533289848055ac365b508f = L.marker(\n",
       "                [12.9277245, 77.6327822],\n",
       "                {\n",
       "}\n",
       "            ).addTo(map_70913d925aa1d203d02dc92273d382af);\n",
       "        \n",
       "    \n",
       "        var popup_ae0231ce05d55cfa998d6671742162bb = L.popup({\n",
       "  &quot;maxWidth&quot;: &quot;100%&quot;,\n",
       "});\n",
       "\n",
       "        \n",
       "            \n",
       "                var html_23c59aee1b0c788a985c8858fdd38c93 = $(`&lt;div id=&quot;html_23c59aee1b0c788a985c8858fdd38c93&quot; style=&quot;width: 100.0%; height: 100.0%;&quot;&gt;&lt;b&gt;📍 Location:&lt;/b&gt; Koramangala 1st Block&lt;br&gt;&lt;b&gt;🍽️ Total Restaurants:&lt;/b&gt; 1238&lt;/div&gt;`)[0];\n",
       "                popup_ae0231ce05d55cfa998d6671742162bb.setContent(html_23c59aee1b0c788a985c8858fdd38c93);\n",
       "            \n",
       "        \n",
       "\n",
       "        marker_6b78c7f809533289848055ac365b508f.bindPopup(popup_ae0231ce05d55cfa998d6671742162bb)\n",
       "        ;\n",
       "\n",
       "        \n",
       "    \n",
       "    \n",
       "            var marker_cd8e538f41800ef4836af979e7d6ae5d = L.marker(\n",
       "                [12.971609, 77.6070463],\n",
       "                {\n",
       "}\n",
       "            ).addTo(map_70913d925aa1d203d02dc92273d382af);\n",
       "        \n",
       "    \n",
       "        var popup_32904ec62109b7637f6bd0fa8dc4ace9 = L.popup({\n",
       "  &quot;maxWidth&quot;: &quot;100%&quot;,\n",
       "});\n",
       "\n",
       "        \n",
       "            \n",
       "                var html_7ee60a62e022aa2eaf667ed90999246f = $(`&lt;div id=&quot;html_7ee60a62e022aa2eaf667ed90999246f&quot; style=&quot;width: 100.0%; height: 100.0%;&quot;&gt;&lt;b&gt;📍 Location:&lt;/b&gt; Brigade Road&lt;br&gt;&lt;b&gt;🍽️ Total Restaurants:&lt;/b&gt; 1218&lt;/div&gt;`)[0];\n",
       "                popup_32904ec62109b7637f6bd0fa8dc4ace9.setContent(html_7ee60a62e022aa2eaf667ed90999246f);\n",
       "            \n",
       "        \n",
       "\n",
       "        marker_cd8e538f41800ef4836af979e7d6ae5d.bindPopup(popup_32904ec62109b7637f6bd0fa8dc4ace9)\n",
       "        ;\n",
       "\n",
       "        \n",
       "    \n",
       "    \n",
       "            var marker_32cd0f4df0c28bf1f132d3a34bf6f4aa = L.marker(\n",
       "                [12.9364846, 77.6134783],\n",
       "                {\n",
       "}\n",
       "            ).addTo(map_70913d925aa1d203d02dc92273d382af);\n",
       "        \n",
       "    \n",
       "        var popup_46897ab6a6bd11b7910b12ba886cbcdb = L.popup({\n",
       "  &quot;maxWidth&quot;: &quot;100%&quot;,\n",
       "});\n",
       "\n",
       "        \n",
       "            \n",
       "                var html_7a15111ad29800f1e52c7afbb67fcab5 = $(`&lt;div id=&quot;html_7a15111ad29800f1e52c7afbb67fcab5&quot; style=&quot;width: 100.0%; height: 100.0%;&quot;&gt;&lt;b&gt;📍 Location:&lt;/b&gt; Koramangala 7th Block&lt;br&gt;&lt;b&gt;🍽️ Total Restaurants:&lt;/b&gt; 1181&lt;/div&gt;`)[0];\n",
       "                popup_46897ab6a6bd11b7910b12ba886cbcdb.setContent(html_7a15111ad29800f1e52c7afbb67fcab5);\n",
       "            \n",
       "        \n",
       "\n",
       "        marker_32cd0f4df0c28bf1f132d3a34bf6f4aa.bindPopup(popup_46897ab6a6bd11b7910b12ba886cbcdb)\n",
       "        ;\n",
       "\n",
       "        \n",
       "    \n",
       "    \n",
       "            var marker_8ab7e543c770d2bab5648a0feac48d44 = L.marker(\n",
       "                [12.9390255, 77.6238477],\n",
       "                {\n",
       "}\n",
       "            ).addTo(map_70913d925aa1d203d02dc92273d382af);\n",
       "        \n",
       "    \n",
       "        var popup_a1b63ccb2ea3cb35f0de666aca7de758 = L.popup({\n",
       "  &quot;maxWidth&quot;: &quot;100%&quot;,\n",
       "});\n",
       "\n",
       "        \n",
       "            \n",
       "                var html_69845246d6a910ce825e61b45170f85d = $(`&lt;div id=&quot;html_69845246d6a910ce825e61b45170f85d&quot; style=&quot;width: 100.0%; height: 100.0%;&quot;&gt;&lt;b&gt;📍 Location:&lt;/b&gt; Koramangala 6th Block&lt;br&gt;&lt;b&gt;🍽️ Total Restaurants:&lt;/b&gt; 1156&lt;/div&gt;`)[0];\n",
       "                popup_a1b63ccb2ea3cb35f0de666aca7de758.setContent(html_69845246d6a910ce825e61b45170f85d);\n",
       "            \n",
       "        \n",
       "\n",
       "        marker_8ab7e543c770d2bab5648a0feac48d44.bindPopup(popup_a1b63ccb2ea3cb35f0de666aca7de758)\n",
       "        ;\n",
       "\n",
       "        \n",
       "    \n",
       "    \n",
       "            var marker_ed284eeab93dbcc4df2949e6f7fff5e0 = L.marker(\n",
       "                [12.9239942, 77.6530304],\n",
       "                {\n",
       "}\n",
       "            ).addTo(map_70913d925aa1d203d02dc92273d382af);\n",
       "        \n",
       "    \n",
       "        var popup_32fa08c5249cf250692216168fe4ebe9 = L.popup({\n",
       "  &quot;maxWidth&quot;: &quot;100%&quot;,\n",
       "});\n",
       "\n",
       "        \n",
       "            \n",
       "                var html_86dc906e97003743d0126b599ce43b11 = $(`&lt;div id=&quot;html_86dc906e97003743d0126b599ce43b11&quot; style=&quot;width: 100.0%; height: 100.0%;&quot;&gt;&lt;b&gt;📍 Location:&lt;/b&gt; Sarjapur Road&lt;br&gt;&lt;b&gt;🍽️ Total Restaurants:&lt;/b&gt; 1065&lt;/div&gt;`)[0];\n",
       "                popup_32fa08c5249cf250692216168fe4ebe9.setContent(html_86dc906e97003743d0126b599ce43b11);\n",
       "            \n",
       "        \n",
       "\n",
       "        marker_ed284eeab93dbcc4df2949e6f7fff5e0.bindPopup(popup_32fa08c5249cf250692216168fe4ebe9)\n",
       "        ;\n",
       "\n",
       "        \n",
       "    \n",
       "    \n",
       "            var marker_9876362964ac2017c5b372b455dc27de = L.marker(\n",
       "                [12.9778793, 77.6246697],\n",
       "                {\n",
       "}\n",
       "            ).addTo(map_70913d925aa1d203d02dc92273d382af);\n",
       "        \n",
       "    \n",
       "        var popup_e4731a7f57114aced881b2f070a032ae = L.popup({\n",
       "  &quot;maxWidth&quot;: &quot;100%&quot;,\n",
       "});\n",
       "\n",
       "        \n",
       "            \n",
       "                var html_a8f94c9bd13f0492f901d7ca93c987b5 = $(`&lt;div id=&quot;html_a8f94c9bd13f0492f901d7ca93c987b5&quot; style=&quot;width: 100.0%; height: 100.0%;&quot;&gt;&lt;b&gt;📍 Location:&lt;/b&gt; Ulsoor&lt;br&gt;&lt;b&gt;🍽️ Total Restaurants:&lt;/b&gt; 1023&lt;/div&gt;`)[0];\n",
       "                popup_e4731a7f57114aced881b2f070a032ae.setContent(html_a8f94c9bd13f0492f901d7ca93c987b5);\n",
       "            \n",
       "        \n",
       "\n",
       "        marker_9876362964ac2017c5b372b455dc27de.bindPopup(popup_e4731a7f57114aced881b2f070a032ae)\n",
       "        ;\n",
       "\n",
       "        \n",
       "    \n",
       "    \n",
       "            var marker_8067b149e1b634499d183545638b930b = L.marker(\n",
       "                [12.9327778, 77.6294052],\n",
       "                {\n",
       "}\n",
       "            ).addTo(map_70913d925aa1d203d02dc92273d382af);\n",
       "        \n",
       "    \n",
       "        var popup_b8d027e643840be238199bb39c4a971b = L.popup({\n",
       "  &quot;maxWidth&quot;: &quot;100%&quot;,\n",
       "});\n",
       "\n",
       "        \n",
       "            \n",
       "                var html_385a78b1d8a9b5448858c30b93ffe01a = $(`&lt;div id=&quot;html_385a78b1d8a9b5448858c30b93ffe01a&quot; style=&quot;width: 100.0%; height: 100.0%;&quot;&gt;&lt;b&gt;📍 Location:&lt;/b&gt; Koramangala 4th Block&lt;br&gt;&lt;b&gt;🍽️ Total Restaurants:&lt;/b&gt; 1017&lt;/div&gt;`)[0];\n",
       "                popup_b8d027e643840be238199bb39c4a971b.setContent(html_385a78b1d8a9b5448858c30b93ffe01a);\n",
       "            \n",
       "        \n",
       "\n",
       "        marker_8067b149e1b634499d183545638b930b.bindPopup(popup_b8d027e643840be238199bb39c4a971b)\n",
       "        ;\n",
       "\n",
       "        \n",
       "    \n",
       "    \n",
       "            var marker_d6276c4fbe3021a76820c2563e0724ca = L.marker(\n",
       "                [12.9755264, 77.6067902],\n",
       "                {\n",
       "}\n",
       "            ).addTo(map_70913d925aa1d203d02dc92273d382af);\n",
       "        \n",
       "    \n",
       "        var popup_c7714255ed86d3a8b4e8d7d2b71c05ed = L.popup({\n",
       "  &quot;maxWidth&quot;: &quot;100%&quot;,\n",
       "});\n",
       "\n",
       "        \n",
       "            \n",
       "                var html_7bdcd74fc1ee55382bc093d79644cae0 = $(`&lt;div id=&quot;html_7bdcd74fc1ee55382bc093d79644cae0&quot; style=&quot;width: 100.0%; height: 100.0%;&quot;&gt;&lt;b&gt;📍 Location:&lt;/b&gt; MG Road&lt;br&gt;&lt;b&gt;🍽️ Total Restaurants:&lt;/b&gt; 918&lt;/div&gt;`)[0];\n",
       "                popup_c7714255ed86d3a8b4e8d7d2b71c05ed.setContent(html_7bdcd74fc1ee55382bc093d79644cae0);\n",
       "            \n",
       "        \n",
       "\n",
       "        marker_d6276c4fbe3021a76820c2563e0724ca.bindPopup(popup_c7714255ed86d3a8b4e8d7d2b71c05ed)\n",
       "        ;\n",
       "\n",
       "        \n",
       "    \n",
       "    \n",
       "            var marker_bbfe9033caec14b2db0cd7473aead5df = L.marker(\n",
       "                [12.9278196, 77.556621],\n",
       "                {\n",
       "}\n",
       "            ).addTo(map_70913d925aa1d203d02dc92273d382af);\n",
       "        \n",
       "    \n",
       "        var popup_f54bebbf7a4f728af8719159712461b1 = L.popup({\n",
       "  &quot;maxWidth&quot;: &quot;100%&quot;,\n",
       "});\n",
       "\n",
       "        \n",
       "            \n",
       "                var html_f91ad7cfff51b6f819f7d67d32487c0c = $(`&lt;div id=&quot;html_f91ad7cfff51b6f819f7d67d32487c0c&quot; style=&quot;width: 100.0%; height: 100.0%;&quot;&gt;&lt;b&gt;📍 Location:&lt;/b&gt; Banashankari&lt;br&gt;&lt;b&gt;🍽️ Total Restaurants:&lt;/b&gt; 906&lt;/div&gt;`)[0];\n",
       "                popup_f54bebbf7a4f728af8719159712461b1.setContent(html_f91ad7cfff51b6f819f7d67d32487c0c);\n",
       "            \n",
       "        \n",
       "\n",
       "        marker_bbfe9033caec14b2db0cd7473aead5df.bindPopup(popup_f54bebbf7a4f728af8719159712461b1)\n",
       "        ;\n",
       "\n",
       "        \n",
       "    \n",
       "    \n",
       "            var marker_79afab0e6c75b6b247b38cd68df428c6 = L.marker(\n",
       "                [13.0221416, 77.6403368],\n",
       "                {\n",
       "}\n",
       "            ).addTo(map_70913d925aa1d203d02dc92273d382af);\n",
       "        \n",
       "    \n",
       "        var popup_5080a750b88201c6527e73fa0b86b3b1 = L.popup({\n",
       "  &quot;maxWidth&quot;: &quot;100%&quot;,\n",
       "});\n",
       "\n",
       "        \n",
       "            \n",
       "                var html_622eec66515adcfb9616f2e29f961fb2 = $(`&lt;div id=&quot;html_622eec66515adcfb9616f2e29f961fb2&quot; style=&quot;width: 100.0%; height: 100.0%;&quot;&gt;&lt;b&gt;📍 Location:&lt;/b&gt; Kalyan Nagar&lt;br&gt;&lt;b&gt;🍽️ Total Restaurants:&lt;/b&gt; 853&lt;/div&gt;`)[0];\n",
       "                popup_5080a750b88201c6527e73fa0b86b3b1.setContent(html_622eec66515adcfb9616f2e29f961fb2);\n",
       "            \n",
       "        \n",
       "\n",
       "        marker_79afab0e6c75b6b247b38cd68df428c6.bindPopup(popup_5080a750b88201c6527e73fa0b86b3b1)\n",
       "        ;\n",
       "\n",
       "        \n",
       "    \n",
       "    \n",
       "            var marker_199562f96498e69fcf2d127d1edbd3a8 = L.marker(\n",
       "                [12.9684808, 77.614415],\n",
       "                {\n",
       "}\n",
       "            ).addTo(map_70913d925aa1d203d02dc92273d382af);\n",
       "        \n",
       "    \n",
       "        var popup_08567c98118d757293e2e1c755b50547 = L.popup({\n",
       "  &quot;maxWidth&quot;: &quot;100%&quot;,\n",
       "});\n",
       "\n",
       "        \n",
       "            \n",
       "                var html_cbf1586e1b1629f75b420b7da7cbb2e9 = $(`&lt;div id=&quot;html_cbf1586e1b1629f75b420b7da7cbb2e9&quot; style=&quot;width: 100.0%; height: 100.0%;&quot;&gt;&lt;b&gt;📍 Location:&lt;/b&gt; Richmond Road&lt;br&gt;&lt;b&gt;🍽️ Total Restaurants:&lt;/b&gt; 812&lt;/div&gt;`)[0];\n",
       "                popup_08567c98118d757293e2e1c755b50547.setContent(html_cbf1586e1b1629f75b420b7da7cbb2e9);\n",
       "            \n",
       "        \n",
       "\n",
       "        marker_199562f96498e69fcf2d127d1edbd3a8.bindPopup(popup_08567c98118d757293e2e1c755b50547)\n",
       "        ;\n",
       "\n",
       "        \n",
       "    \n",
       "    \n",
       "            var marker_83098d2fb08638e32302e33659a80231 = L.marker(\n",
       "                [12.9975851, 77.6136744],\n",
       "                {\n",
       "}\n",
       "            ).addTo(map_70913d925aa1d203d02dc92273d382af);\n",
       "        \n",
       "    \n",
       "        var popup_bb558c2edd939c193439026fea0250b8 = L.popup({\n",
       "  &quot;maxWidth&quot;: &quot;100%&quot;,\n",
       "});\n",
       "\n",
       "        \n",
       "            \n",
       "                var html_10a84f196751d3e26b38a55cfe2efb9b = $(`&lt;div id=&quot;html_10a84f196751d3e26b38a55cfe2efb9b&quot; style=&quot;width: 100.0%; height: 100.0%;&quot;&gt;&lt;b&gt;📍 Location:&lt;/b&gt; Frazer Town&lt;br&gt;&lt;b&gt;🍽️ Total Restaurants:&lt;/b&gt; 727&lt;/div&gt;`)[0];\n",
       "                popup_bb558c2edd939c193439026fea0250b8.setContent(html_10a84f196751d3e26b38a55cfe2efb9b);\n",
       "            \n",
       "        \n",
       "\n",
       "        marker_83098d2fb08638e32302e33659a80231.bindPopup(popup_bb558c2edd939c193439026fea0250b8)\n",
       "        ;\n",
       "\n",
       "        \n",
       "    \n",
       "    \n",
       "            var marker_da4f128ee2edf47e449bae665267c3e7 = L.marker(\n",
       "                [13.0027353, 77.5703253],\n",
       "                {\n",
       "}\n",
       "            ).addTo(map_70913d925aa1d203d02dc92273d382af);\n",
       "        \n",
       "    \n",
       "        var popup_00472579f34a1c23942a10810cba5f95 = L.popup({\n",
       "  &quot;maxWidth&quot;: &quot;100%&quot;,\n",
       "});\n",
       "\n",
       "        \n",
       "            \n",
       "                var html_bf9892008e8f9fd74450a8beb8090a57 = $(`&lt;div id=&quot;html_bf9892008e8f9fd74450a8beb8090a57&quot; style=&quot;width: 100.0%; height: 100.0%;&quot;&gt;&lt;b&gt;📍 Location:&lt;/b&gt; Malleshwaram&lt;br&gt;&lt;b&gt;🍽️ Total Restaurants:&lt;/b&gt; 725&lt;/div&gt;`)[0];\n",
       "                popup_00472579f34a1c23942a10810cba5f95.setContent(html_bf9892008e8f9fd74450a8beb8090a57);\n",
       "            \n",
       "        \n",
       "\n",
       "        marker_da4f128ee2edf47e449bae665267c3e7.bindPopup(popup_00472579f34a1c23942a10810cba5f95)\n",
       "        ;\n",
       "\n",
       "        \n",
       "    \n",
       "    \n",
       "            var marker_5e515d574258fc87d282b5d9babaea69 = L.marker(\n",
       "                [12.9417261, 77.5755021],\n",
       "                {\n",
       "}\n",
       "            ).addTo(map_70913d925aa1d203d02dc92273d382af);\n",
       "        \n",
       "    \n",
       "        var popup_0a7c0d5ab8745d62a22f23789692b3de = L.popup({\n",
       "  &quot;maxWidth&quot;: &quot;100%&quot;,\n",
       "});\n",
       "\n",
       "        \n",
       "            \n",
       "                var html_01e0efcbeca08a87b7287b6a436ba57c = $(`&lt;div id=&quot;html_01e0efcbeca08a87b7287b6a436ba57c&quot; style=&quot;width: 100.0%; height: 100.0%;&quot;&gt;&lt;b&gt;📍 Location:&lt;/b&gt; Basavanagudi&lt;br&gt;&lt;b&gt;🍽️ Total Restaurants:&lt;/b&gt; 684&lt;/div&gt;`)[0];\n",
       "                popup_0a7c0d5ab8745d62a22f23789692b3de.setContent(html_01e0efcbeca08a87b7287b6a436ba57c);\n",
       "            \n",
       "        \n",
       "\n",
       "        marker_5e515d574258fc87d282b5d9babaea69.bindPopup(popup_0a7c0d5ab8745d62a22f23789692b3de)\n",
       "        ;\n",
       "\n",
       "        \n",
       "    \n",
       "    \n",
       "            var marker_d15632d908441ae4698e96a64605d272 = L.marker(\n",
       "                [12.9672634, 77.5993931],\n",
       "                {\n",
       "}\n",
       "            ).addTo(map_70913d925aa1d203d02dc92273d382af);\n",
       "        \n",
       "    \n",
       "        var popup_df55d98cc25253b5aa16eb87856ffca6 = L.popup({\n",
       "  &quot;maxWidth&quot;: &quot;100%&quot;,\n",
       "});\n",
       "\n",
       "        \n",
       "            \n",
       "                var html_4c0845fbe3995fe79299eee2bb58066c = $(`&lt;div id=&quot;html_4c0845fbe3995fe79299eee2bb58066c&quot; style=&quot;width: 100.0%; height: 100.0%;&quot;&gt;&lt;b&gt;📍 Location:&lt;/b&gt; Residency Road&lt;br&gt;&lt;b&gt;🍽️ Total Restaurants:&lt;/b&gt; 675&lt;/div&gt;`)[0];\n",
       "                popup_df55d98cc25253b5aa16eb87856ffca6.setContent(html_4c0845fbe3995fe79299eee2bb58066c);\n",
       "            \n",
       "        \n",
       "\n",
       "        marker_d15632d908441ae4698e96a64605d272.bindPopup(popup_df55d98cc25253b5aa16eb87856ffca6)\n",
       "        ;\n",
       "\n",
       "        \n",
       "    \n",
       "    \n",
       "            var marker_6e1dc3cab3fa89b5f18861d104ac025f = L.marker(\n",
       "                [13.0141618, 77.6518539],\n",
       "                {\n",
       "}\n",
       "            ).addTo(map_70913d925aa1d203d02dc92273d382af);\n",
       "        \n",
       "    \n",
       "        var popup_bcf3ca279ecadef8f55f24a4094b2b7e = L.popup({\n",
       "  &quot;maxWidth&quot;: &quot;100%&quot;,\n",
       "});\n",
       "\n",
       "        \n",
       "            \n",
       "                var html_b526d3f106d623f895812a49a73539d9 = $(`&lt;div id=&quot;html_b526d3f106d623f895812a49a73539d9&quot; style=&quot;width: 100.0%; height: 100.0%;&quot;&gt;&lt;b&gt;📍 Location:&lt;/b&gt; Banaswadi&lt;br&gt;&lt;b&gt;🍽️ Total Restaurants:&lt;/b&gt; 664&lt;/div&gt;`)[0];\n",
       "                popup_bcf3ca279ecadef8f55f24a4094b2b7e.setContent(html_b526d3f106d623f895812a49a73539d9);\n",
       "            \n",
       "        \n",
       "\n",
       "        marker_6e1dc3cab3fa89b5f18861d104ac025f.bindPopup(popup_bcf3ca279ecadef8f55f24a4094b2b7e)\n",
       "        ;\n",
       "\n",
       "        \n",
       "    \n",
       "    \n",
       "            var marker_e8ab0c89b9854e4bb2d3ca4dc1d43e9c = L.marker(\n",
       "                [12.9652094, 77.717936],\n",
       "                {\n",
       "}\n",
       "            ).addTo(map_70913d925aa1d203d02dc92273d382af);\n",
       "        \n",
       "    \n",
       "        var popup_7b37ebd9410773fd545f5adb19018b85 = L.popup({\n",
       "  &quot;maxWidth&quot;: &quot;100%&quot;,\n",
       "});\n",
       "\n",
       "        \n",
       "            \n",
       "                var html_87a44ebea569045ce7a16acbc5f11aed = $(`&lt;div id=&quot;html_87a44ebea569045ce7a16acbc5f11aed&quot; style=&quot;width: 100.0%; height: 100.0%;&quot;&gt;&lt;b&gt;📍 Location:&lt;/b&gt; Brookefield&lt;br&gt;&lt;b&gt;🍽️ Total Restaurants:&lt;/b&gt; 658&lt;/div&gt;`)[0];\n",
       "                popup_7b37ebd9410773fd545f5adb19018b85.setContent(html_87a44ebea569045ce7a16acbc5f11aed);\n",
       "            \n",
       "        \n",
       "\n",
       "        marker_e8ab0c89b9854e4bb2d3ca4dc1d43e9c.bindPopup(popup_7b37ebd9410773fd545f5adb19018b85)\n",
       "        ;\n",
       "\n",
       "        \n",
       "    \n",
       "    \n",
       "            var marker_954a4bd962fe8a80c78318d658868bf3 = L.marker(\n",
       "                [13.039186, 77.564284],\n",
       "                {\n",
       "}\n",
       "            ).addTo(map_70913d925aa1d203d02dc92273d382af);\n",
       "        \n",
       "    \n",
       "        var popup_16990091534fd94b88265a4b7c727019 = L.popup({\n",
       "  &quot;maxWidth&quot;: &quot;100%&quot;,\n",
       "});\n",
       "\n",
       "        \n",
       "            \n",
       "                var html_66c98f519cd4c9284f4eae2cf7b1af6e = $(`&lt;div id=&quot;html_66c98f519cd4c9284f4eae2cf7b1af6e&quot; style=&quot;width: 100.0%; height: 100.0%;&quot;&gt;&lt;b&gt;📍 Location:&lt;/b&gt; New BEL Road&lt;br&gt;&lt;b&gt;🍽️ Total Restaurants:&lt;/b&gt; 649&lt;/div&gt;`)[0];\n",
       "                popup_16990091534fd94b88265a4b7c727019.setContent(html_66c98f519cd4c9284f4eae2cf7b1af6e);\n",
       "            \n",
       "        \n",
       "\n",
       "        marker_954a4bd962fe8a80c78318d658868bf3.bindPopup(popup_16990091534fd94b88265a4b7c727019)\n",
       "        ;\n",
       "\n",
       "        \n",
       "    \n",
       "    \n",
       "            var marker_5a20bb0001ff3862120526f63d03ef2f = L.marker(\n",
       "                [13.0148544, 77.6382029],\n",
       "                {\n",
       "}\n",
       "            ).addTo(map_70913d925aa1d203d02dc92273d382af);\n",
       "        \n",
       "    \n",
       "        var popup_a87acc1fb69c77b86424e8d1b1526d65 = L.popup({\n",
       "  &quot;maxWidth&quot;: &quot;100%&quot;,\n",
       "});\n",
       "\n",
       "        \n",
       "            \n",
       "                var html_f688f9d291af698bdea29f4501f206dc = $(`&lt;div id=&quot;html_f688f9d291af698bdea29f4501f206dc&quot; style=&quot;width: 100.0%; height: 100.0%;&quot;&gt;&lt;b&gt;📍 Location:&lt;/b&gt; Kammanahalli&lt;br&gt;&lt;b&gt;🍽️ Total Restaurants:&lt;/b&gt; 648&lt;/div&gt;`)[0];\n",
       "                popup_a87acc1fb69c77b86424e8d1b1526d65.setContent(html_f688f9d291af698bdea29f4501f206dc);\n",
       "            \n",
       "        \n",
       "\n",
       "        marker_5a20bb0001ff3862120526f63d03ef2f.bindPopup(popup_a87acc1fb69c77b86424e8d1b1526d65)\n",
       "        ;\n",
       "\n",
       "        \n",
       "    \n",
       "    \n",
       "            var marker_d6895279d6531ab10760772f8bb5977b = L.marker(\n",
       "                [13.0005359, 77.5496996],\n",
       "                {\n",
       "}\n",
       "            ).addTo(map_70913d925aa1d203d02dc92273d382af);\n",
       "        \n",
       "    \n",
       "        var popup_4e5d0aa430da866a3f41747930bc9afa = L.popup({\n",
       "  &quot;maxWidth&quot;: &quot;100%&quot;,\n",
       "});\n",
       "\n",
       "        \n",
       "            \n",
       "                var html_190cce72dcf7cf54de441d0d350f630a = $(`&lt;div id=&quot;html_190cce72dcf7cf54de441d0d350f630a&quot; style=&quot;width: 100.0%; height: 100.0%;&quot;&gt;&lt;b&gt;📍 Location:&lt;/b&gt; Rajajinagar&lt;br&gt;&lt;b&gt;🍽️ Total Restaurants:&lt;/b&gt; 591&lt;/div&gt;`)[0];\n",
       "                popup_4e5d0aa430da866a3f41747930bc9afa.setContent(html_190cce72dcf7cf54de441d0d350f630a);\n",
       "            \n",
       "        \n",
       "\n",
       "        marker_d6895279d6531ab10760772f8bb5977b.bindPopup(popup_4e5d0aa430da866a3f41747930bc9afa)\n",
       "        ;\n",
       "\n",
       "        \n",
       "    \n",
       "    \n",
       "            var marker_4311e7f6f352c9f01bf879e8661bd666 = L.marker(\n",
       "                [12.9749142, 77.6052474],\n",
       "                {\n",
       "}\n",
       "            ).addTo(map_70913d925aa1d203d02dc92273d382af);\n",
       "        \n",
       "    \n",
       "        var popup_677663a756eab3e96545ca6e0a1127cc = L.popup({\n",
       "  &quot;maxWidth&quot;: &quot;100%&quot;,\n",
       "});\n",
       "\n",
       "        \n",
       "            \n",
       "                var html_92a733934388012f2e7dbb5972d0c710 = $(`&lt;div id=&quot;html_92a733934388012f2e7dbb5972d0c710&quot; style=&quot;width: 100.0%; height: 100.0%;&quot;&gt;&lt;b&gt;📍 Location:&lt;/b&gt; Church Street&lt;br&gt;&lt;b&gt;🍽️ Total Restaurants:&lt;/b&gt; 569&lt;/div&gt;`)[0];\n",
       "                popup_677663a756eab3e96545ca6e0a1127cc.setContent(html_92a733934388012f2e7dbb5972d0c710);\n",
       "            \n",
       "        \n",
       "\n",
       "        marker_4311e7f6f352c9f01bf879e8661bd666.bindPopup(popup_677663a756eab3e96545ca6e0a1127cc)\n",
       "        ;\n",
       "\n",
       "        \n",
       "    \n",
       "    \n",
       "            var marker_909f400d948a8f4cbefe5f350ca23df5 = L.marker(\n",
       "                [12.9722287, 77.5986661],\n",
       "                {\n",
       "}\n",
       "            ).addTo(map_70913d925aa1d203d02dc92273d382af);\n",
       "        \n",
       "    \n",
       "        var popup_0bf64093cc4d738d44ff2b199fb68078 = L.popup({\n",
       "  &quot;maxWidth&quot;: &quot;100%&quot;,\n",
       "});\n",
       "\n",
       "        \n",
       "            \n",
       "                var html_ec13cba8dfc19db1e4d99ec0bd1abec0 = $(`&lt;div id=&quot;html_ec13cba8dfc19db1e4d99ec0bd1abec0&quot; style=&quot;width: 100.0%; height: 100.0%;&quot;&gt;&lt;b&gt;📍 Location:&lt;/b&gt; Lavelle Road&lt;br&gt;&lt;b&gt;🍽️ Total Restaurants:&lt;/b&gt; 529&lt;/div&gt;`)[0];\n",
       "                popup_0bf64093cc4d738d44ff2b199fb68078.setContent(html_ec13cba8dfc19db1e4d99ec0bd1abec0);\n",
       "            \n",
       "        \n",
       "\n",
       "        marker_909f400d948a8f4cbefe5f350ca23df5.bindPopup(popup_0bf64093cc4d738d44ff2b199fb68078)\n",
       "        ;\n",
       "\n",
       "        \n",
       "    \n",
       "    \n",
       "            var marker_3366ec5596c67aea1d30aa329dcbdad1 = L.marker(\n",
       "                [12.9555367, 77.5924278],\n",
       "                {\n",
       "}\n",
       "            ).addTo(map_70913d925aa1d203d02dc92273d382af);\n",
       "        \n",
       "    \n",
       "        var popup_3b4e7cfd0a8b592351b4c2f2441260dc = L.popup({\n",
       "  &quot;maxWidth&quot;: &quot;100%&quot;,\n",
       "});\n",
       "\n",
       "        \n",
       "            \n",
       "                var html_74987fcd3e57d62b7f7c897b869dafcd = $(`&lt;div id=&quot;html_74987fcd3e57d62b7f7c897b869dafcd&quot; style=&quot;width: 100.0%; height: 100.0%;&quot;&gt;&lt;b&gt;📍 Location:&lt;/b&gt; Shanti Nagar&lt;br&gt;&lt;b&gt;🍽️ Total Restaurants:&lt;/b&gt; 511&lt;/div&gt;`)[0];\n",
       "                popup_3b4e7cfd0a8b592351b4c2f2441260dc.setContent(html_74987fcd3e57d62b7f7c897b869dafcd);\n",
       "            \n",
       "        \n",
       "\n",
       "        marker_3366ec5596c67aea1d30aa329dcbdad1.bindPopup(popup_3b4e7cfd0a8b592351b4c2f2441260dc)\n",
       "        ;\n",
       "\n",
       "        \n",
       "    \n",
       "    \n",
       "            var marker_3d7f44d65f2c8b7de2d5319ed3759439 = L.marker(\n",
       "                [12.9855286, 77.6054496],\n",
       "                {\n",
       "}\n",
       "            ).addTo(map_70913d925aa1d203d02dc92273d382af);\n",
       "        \n",
       "    \n",
       "        var popup_4f55f28f1aa40c00542a503c2b6ce0de = L.popup({\n",
       "  &quot;maxWidth&quot;: &quot;100%&quot;,\n",
       "});\n",
       "\n",
       "        \n",
       "            \n",
       "                var html_986297ad8e4de97cd120a3dabc069b80 = $(`&lt;div id=&quot;html_986297ad8e4de97cd120a3dabc069b80&quot; style=&quot;width: 100.0%; height: 100.0%;&quot;&gt;&lt;b&gt;📍 Location:&lt;/b&gt; Shivajinagar&lt;br&gt;&lt;b&gt;🍽️ Total Restaurants:&lt;/b&gt; 499&lt;/div&gt;`)[0];\n",
       "                popup_4f55f28f1aa40c00542a503c2b6ce0de.setContent(html_986297ad8e4de97cd120a3dabc069b80);\n",
       "            \n",
       "        \n",
       "\n",
       "        marker_3d7f44d65f2c8b7de2d5319ed3759439.bindPopup(popup_4f55f28f1aa40c00542a503c2b6ce0de)\n",
       "        ;\n",
       "\n",
       "        \n",
       "    \n",
       "    \n",
       "            var marker_2ea49d65a1dbae123f1e210438982126 = L.marker(\n",
       "                [12.9624669, 77.6381958],\n",
       "                {\n",
       "}\n",
       "            ).addTo(map_70913d925aa1d203d02dc92273d382af);\n",
       "        \n",
       "    \n",
       "        var popup_70c60c0a2cc6bf17d15c21bca7bf9909 = L.popup({\n",
       "  &quot;maxWidth&quot;: &quot;100%&quot;,\n",
       "});\n",
       "\n",
       "        \n",
       "            \n",
       "                var html_8f0d521f503bf6bc1380b9ee40080c49 = $(`&lt;div id=&quot;html_8f0d521f503bf6bc1380b9ee40080c49&quot; style=&quot;width: 100.0%; height: 100.0%;&quot;&gt;&lt;b&gt;📍 Location:&lt;/b&gt; Domlur&lt;br&gt;&lt;b&gt;🍽️ Total Restaurants:&lt;/b&gt; 496&lt;/div&gt;`)[0];\n",
       "                popup_70c60c0a2cc6bf17d15c21bca7bf9909.setContent(html_8f0d521f503bf6bc1380b9ee40080c49);\n",
       "            \n",
       "        \n",
       "\n",
       "        marker_2ea49d65a1dbae123f1e210438982126.bindPopup(popup_70c60c0a2cc6bf17d15c21bca7bf9909)\n",
       "        ;\n",
       "\n",
       "        \n",
       "    \n",
       "    \n",
       "            var marker_7894900f9837ba7fe06515fbd96ed0e9 = L.marker(\n",
       "                [12.9884255, 77.5938978],\n",
       "                {\n",
       "}\n",
       "            ).addTo(map_70913d925aa1d203d02dc92273d382af);\n",
       "        \n",
       "    \n",
       "        var popup_7d3b4be4e6482b3719712c2811570dc9 = L.popup({\n",
       "  &quot;maxWidth&quot;: &quot;100%&quot;,\n",
       "});\n",
       "\n",
       "        \n",
       "            \n",
       "                var html_cf413cba1e06f3a9695fe0e9fe18b2d1 = $(`&lt;div id=&quot;html_cf413cba1e06f3a9695fe0e9fe18b2d1&quot; style=&quot;width: 100.0%; height: 100.0%;&quot;&gt;&lt;b&gt;📍 Location:&lt;/b&gt; Cunningham Road&lt;br&gt;&lt;b&gt;🍽️ Total Restaurants:&lt;/b&gt; 491&lt;/div&gt;`)[0];\n",
       "                popup_7d3b4be4e6482b3719712c2811570dc9.setContent(html_cf413cba1e06f3a9695fe0e9fe18b2d1);\n",
       "            \n",
       "        \n",
       "\n",
       "        marker_7894900f9837ba7fe06515fbd96ed0e9.bindPopup(popup_7d3b4be4e6482b3719712c2811570dc9)\n",
       "        ;\n",
       "\n",
       "        \n",
       "    \n",
       "    \n",
       "            var marker_05af158e92c2cc032dae73f4897d5c12 = L.marker(\n",
       "                [12.9584696, 77.665621],\n",
       "                {\n",
       "}\n",
       "            ).addTo(map_70913d925aa1d203d02dc92273d382af);\n",
       "        \n",
       "    \n",
       "        var popup_24f7ba7f23bc8db738e8229bfeb100d0 = L.popup({\n",
       "  &quot;maxWidth&quot;: &quot;100%&quot;,\n",
       "});\n",
       "\n",
       "        \n",
       "            \n",
       "                var html_db28154f8d8b21bcb81509aeab5a63d3 = $(`&lt;div id=&quot;html_db28154f8d8b21bcb81509aeab5a63d3&quot; style=&quot;width: 100.0%; height: 100.0%;&quot;&gt;&lt;b&gt;📍 Location:&lt;/b&gt; Old Airport Road&lt;br&gt;&lt;b&gt;🍽️ Total Restaurants:&lt;/b&gt; 446&lt;/div&gt;`)[0];\n",
       "                popup_24f7ba7f23bc8db738e8229bfeb100d0.setContent(html_db28154f8d8b21bcb81509aeab5a63d3);\n",
       "            \n",
       "        \n",
       "\n",
       "        marker_05af158e92c2cc032dae73f4897d5c12.bindPopup(popup_24f7ba7f23bc8db738e8229bfeb100d0)\n",
       "        ;\n",
       "\n",
       "        \n",
       "    \n",
       "    \n",
       "            var marker_886fda71fa1cd8cad52bfac6c5418ba2 = L.marker(\n",
       "                [12.945245, 77.6274776],\n",
       "                {\n",
       "}\n",
       "            ).addTo(map_70913d925aa1d203d02dc92273d382af);\n",
       "        \n",
       "    \n",
       "        var popup_06da763d92a34a25f12d8b3c61704297 = L.popup({\n",
       "  &quot;maxWidth&quot;: &quot;100%&quot;,\n",
       "});\n",
       "\n",
       "        \n",
       "            \n",
       "                var html_048e1070928da1635379a283f45496d1 = $(`&lt;div id=&quot;html_048e1070928da1635379a283f45496d1&quot; style=&quot;width: 100.0%; height: 100.0%;&quot;&gt;&lt;b&gt;📍 Location:&lt;/b&gt; Ejipura&lt;br&gt;&lt;b&gt;🍽️ Total Restaurants:&lt;/b&gt; 439&lt;/div&gt;`)[0];\n",
       "                popup_06da763d92a34a25f12d8b3c61704297.setContent(html_048e1070928da1635379a283f45496d1);\n",
       "            \n",
       "        \n",
       "\n",
       "        marker_886fda71fa1cd8cad52bfac6c5418ba2.bindPopup(popup_06da763d92a34a25f12d8b3c61704297)\n",
       "        ;\n",
       "\n",
       "        \n",
       "    \n",
       "    \n",
       "            var marker_5a76276529463df6a5dd63312d4c51e0 = L.marker(\n",
       "                [12.9822423, 77.608265],\n",
       "                {\n",
       "}\n",
       "            ).addTo(map_70913d925aa1d203d02dc92273d382af);\n",
       "        \n",
       "    \n",
       "        var popup_b38343356ccdafd558302a84099d8e6d = L.popup({\n",
       "  &quot;maxWidth&quot;: &quot;100%&quot;,\n",
       "});\n",
       "\n",
       "        \n",
       "            \n",
       "                var html_09cb359a494f2ce0cd248e0c16293b51 = $(`&lt;div id=&quot;html_09cb359a494f2ce0cd248e0c16293b51&quot; style=&quot;width: 100.0%; height: 100.0%;&quot;&gt;&lt;b&gt;📍 Location:&lt;/b&gt; Commercial Street&lt;br&gt;&lt;b&gt;🍽️ Total Restaurants:&lt;/b&gt; 370&lt;/div&gt;`)[0];\n",
       "                popup_b38343356ccdafd558302a84099d8e6d.setContent(html_09cb359a494f2ce0cd248e0c16293b51);\n",
       "            \n",
       "        \n",
       "\n",
       "        marker_5a76276529463df6a5dd63312d4c51e0.bindPopup(popup_b38343356ccdafd558302a84099d8e6d)\n",
       "        ;\n",
       "\n",
       "        \n",
       "    \n",
       "    \n",
       "            var marker_a0d83cc489f650131b1561dd308a049e = L.marker(\n",
       "                [12.9758014, 77.6016924],\n",
       "                {\n",
       "}\n",
       "            ).addTo(map_70913d925aa1d203d02dc92273d382af);\n",
       "        \n",
       "    \n",
       "        var popup_23c4820806add8d62ab73295053257b3 = L.popup({\n",
       "  &quot;maxWidth&quot;: &quot;100%&quot;,\n",
       "});\n",
       "\n",
       "        \n",
       "            \n",
       "                var html_ded67643ca44d1d4286269adab3b33ec = $(`&lt;div id=&quot;html_ded67643ca44d1d4286269adab3b33ec&quot; style=&quot;width: 100.0%; height: 100.0%;&quot;&gt;&lt;b&gt;📍 Location:&lt;/b&gt; St. Marks Road&lt;br&gt;&lt;b&gt;🍽️ Total Restaurants:&lt;/b&gt; 352&lt;/div&gt;`)[0];\n",
       "                popup_23c4820806add8d62ab73295053257b3.setContent(html_ded67643ca44d1d4286269adab3b33ec);\n",
       "            \n",
       "        \n",
       "\n",
       "        marker_a0d83cc489f650131b1561dd308a049e.bindPopup(popup_23c4820806add8d62ab73295053257b3)\n",
       "        ;\n",
       "\n",
       "        \n",
       "    \n",
       "    \n",
       "            var marker_720845608291613c54fc90579eb1d376 = L.marker(\n",
       "                [12.9408685, 77.617338],\n",
       "                {\n",
       "}\n",
       "            ).addTo(map_70913d925aa1d203d02dc92273d382af);\n",
       "        \n",
       "    \n",
       "        var popup_8cb7d093e23ee49a01c022974f70bf24 = L.popup({\n",
       "  &quot;maxWidth&quot;: &quot;100%&quot;,\n",
       "});\n",
       "\n",
       "        \n",
       "            \n",
       "                var html_3cc86df42c9f0a32f79fc487cc30adec = $(`&lt;div id=&quot;html_3cc86df42c9f0a32f79fc487cc30adec&quot; style=&quot;width: 100.0%; height: 100.0%;&quot;&gt;&lt;b&gt;📍 Location:&lt;/b&gt; Koramangala 8th Block&lt;br&gt;&lt;b&gt;🍽️ Total Restaurants:&lt;/b&gt; 320&lt;/div&gt;`)[0];\n",
       "                popup_8cb7d093e23ee49a01c022974f70bf24.setContent(html_3cc86df42c9f0a32f79fc487cc30adec);\n",
       "            \n",
       "        \n",
       "\n",
       "        marker_720845608291613c54fc90579eb1d376.bindPopup(popup_8cb7d093e23ee49a01c022974f70bf24)\n",
       "        ;\n",
       "\n",
       "        \n",
       "    \n",
       "    \n",
       "            var marker_dd26309fd73ad74ddcdfb9e071cbb1f0 = L.marker(\n",
       "                [12.9921738, 77.591459],\n",
       "                {\n",
       "}\n",
       "            ).addTo(map_70913d925aa1d203d02dc92273d382af);\n",
       "        \n",
       "    \n",
       "        var popup_e03a39f6904c5abcbaec8cf3a833dc0b = L.popup({\n",
       "  &quot;maxWidth&quot;: &quot;100%&quot;,\n",
       "});\n",
       "\n",
       "        \n",
       "            \n",
       "                var html_e0f5a9b76fcdff3433a339ed686dddb5 = $(`&lt;div id=&quot;html_e0f5a9b76fcdff3433a339ed686dddb5&quot; style=&quot;width: 100.0%; height: 100.0%;&quot;&gt;&lt;b&gt;📍 Location:&lt;/b&gt; Vasanth Nagar&lt;br&gt;&lt;b&gt;🍽️ Total Restaurants:&lt;/b&gt; 295&lt;/div&gt;`)[0];\n",
       "                popup_e03a39f6904c5abcbaec8cf3a833dc0b.setContent(html_e0f5a9b76fcdff3433a339ed686dddb5);\n",
       "            \n",
       "        \n",
       "\n",
       "        marker_dd26309fd73ad74ddcdfb9e071cbb1f0.bindPopup(popup_e03a39f6904c5abcbaec8cf3a833dc0b)\n",
       "        ;\n",
       "\n",
       "        \n",
       "    \n",
       "    \n",
       "            var marker_1deeaf5ab421b61f1a729eb62f37110d = L.marker(\n",
       "                [12.9678074, 77.6568367],\n",
       "                {\n",
       "}\n",
       "            ).addTo(map_70913d925aa1d203d02dc92273d382af);\n",
       "        \n",
       "    \n",
       "        var popup_db03049a298a52799518c3b4f1dc0900 = L.popup({\n",
       "  &quot;maxWidth&quot;: &quot;100%&quot;,\n",
       "});\n",
       "\n",
       "        \n",
       "            \n",
       "                var html_0319ce39c912929f611057b41c96cde5 = $(`&lt;div id=&quot;html_0319ce39c912929f611057b41c96cde5&quot; style=&quot;width: 100.0%; height: 100.0%;&quot;&gt;&lt;b&gt;📍 Location:&lt;/b&gt; Jeevan Bhima Nagar&lt;br&gt;&lt;b&gt;🍽️ Total Restaurants:&lt;/b&gt; 272&lt;/div&gt;`)[0];\n",
       "                popup_db03049a298a52799518c3b4f1dc0900.setContent(html_0319ce39c912929f611057b41c96cde5);\n",
       "            \n",
       "        \n",
       "\n",
       "        marker_1deeaf5ab421b61f1a729eb62f37110d.bindPopup(popup_db03049a298a52799518c3b4f1dc0900)\n",
       "        ;\n",
       "\n",
       "        \n",
       "    \n",
       "    \n",
       "            var marker_48bc8f3beda0787c7e49955908c136d8 = L.marker(\n",
       "                [12.9489339, 77.5968273],\n",
       "                {\n",
       "}\n",
       "            ).addTo(map_70913d925aa1d203d02dc92273d382af);\n",
       "        \n",
       "    \n",
       "        var popup_ff291c5c5bfee8ee26a51158a73c4b46 = L.popup({\n",
       "  &quot;maxWidth&quot;: &quot;100%&quot;,\n",
       "});\n",
       "\n",
       "        \n",
       "            \n",
       "                var html_39357944d5581e4728b85b93b639a1d4 = $(`&lt;div id=&quot;html_39357944d5581e4728b85b93b639a1d4&quot; style=&quot;width: 100.0%; height: 100.0%;&quot;&gt;&lt;b&gt;📍 Location:&lt;/b&gt; Wilson Garden&lt;br&gt;&lt;b&gt;🍽️ Total Restaurants:&lt;/b&gt; 246&lt;/div&gt;`)[0];\n",
       "                popup_ff291c5c5bfee8ee26a51158a73c4b46.setContent(html_39357944d5581e4728b85b93b639a1d4);\n",
       "            \n",
       "        \n",
       "\n",
       "        marker_48bc8f3beda0787c7e49955908c136d8.bindPopup(popup_ff291c5c5bfee8ee26a51158a73c4b46)\n",
       "        ;\n",
       "\n",
       "        \n",
       "    \n",
       "    \n",
       "            var marker_0195981f69493e2acab87bbca74257fc = L.marker(\n",
       "                [12.9089453, 77.6239038],\n",
       "                {\n",
       "}\n",
       "            ).addTo(map_70913d925aa1d203d02dc92273d382af);\n",
       "        \n",
       "    \n",
       "        var popup_34cec237a5cc11d399e110e638fa1b15 = L.popup({\n",
       "  &quot;maxWidth&quot;: &quot;100%&quot;,\n",
       "});\n",
       "\n",
       "        \n",
       "            \n",
       "                var html_8c334b78c1a6d29379fd32f42ea387a0 = $(`&lt;div id=&quot;html_8c334b78c1a6d29379fd32f42ea387a0&quot; style=&quot;width: 100.0%; height: 100.0%;&quot;&gt;&lt;b&gt;📍 Location:&lt;/b&gt; Bommanahalli&lt;br&gt;&lt;b&gt;🍽️ Total Restaurants:&lt;/b&gt; 238&lt;/div&gt;`)[0];\n",
       "                popup_34cec237a5cc11d399e110e638fa1b15.setContent(html_8c334b78c1a6d29379fd32f42ea387a0);\n",
       "            \n",
       "        \n",
       "\n",
       "        marker_0195981f69493e2acab87bbca74257fc.bindPopup(popup_34cec237a5cc11d399e110e638fa1b15)\n",
       "        ;\n",
       "\n",
       "        \n",
       "    \n",
       "    \n",
       "            var marker_7f00a87f0be40dc5c4df8c7598c9c854 = L.marker(\n",
       "                [12.9282918, 77.6254034],\n",
       "                {\n",
       "}\n",
       "            ).addTo(map_70913d925aa1d203d02dc92273d382af);\n",
       "        \n",
       "    \n",
       "        var popup_b5b5d06b8b1533926d4286fab5b7d00f = L.popup({\n",
       "  &quot;maxWidth&quot;: &quot;100%&quot;,\n",
       "});\n",
       "\n",
       "        \n",
       "            \n",
       "                var html_aa0d5f441cbad4cdc6ae5ff37e6c1c36 = $(`&lt;div id=&quot;html_aa0d5f441cbad4cdc6ae5ff37e6c1c36&quot; style=&quot;width: 100.0%; height: 100.0%;&quot;&gt;&lt;b&gt;📍 Location:&lt;/b&gt; Koramangala 3rd Block&lt;br&gt;&lt;b&gt;🍽️ Total Restaurants:&lt;/b&gt; 216&lt;/div&gt;`)[0];\n",
       "                popup_b5b5d06b8b1533926d4286fab5b7d00f.setContent(html_aa0d5f441cbad4cdc6ae5ff37e6c1c36);\n",
       "            \n",
       "        \n",
       "\n",
       "        marker_7f00a87f0be40dc5c4df8c7598c9c854.bindPopup(popup_b5b5d06b8b1533926d4286fab5b7d00f)\n",
       "        ;\n",
       "\n",
       "        \n",
       "    \n",
       "    \n",
       "            var marker_fc395fcdd55f6aa3e9204f048204cbca = L.marker(\n",
       "                [12.9067683, 77.5595021],\n",
       "                {\n",
       "}\n",
       "            ).addTo(map_70913d925aa1d203d02dc92273d382af);\n",
       "        \n",
       "    \n",
       "        var popup_f5663700c2c048c756bd8dab2f9161ef = L.popup({\n",
       "  &quot;maxWidth&quot;: &quot;100%&quot;,\n",
       "});\n",
       "\n",
       "        \n",
       "            \n",
       "                var html_509b4d9760cf97737fc9d730d431c3b6 = $(`&lt;div id=&quot;html_509b4d9760cf97737fc9d730d431c3b6&quot; style=&quot;width: 100.0%; height: 100.0%;&quot;&gt;&lt;b&gt;📍 Location:&lt;/b&gt; Kumaraswamy Layout&lt;br&gt;&lt;b&gt;🍽️ Total Restaurants:&lt;/b&gt; 195&lt;/div&gt;`)[0];\n",
       "                popup_f5663700c2c048c756bd8dab2f9161ef.setContent(html_509b4d9760cf97737fc9d730d431c3b6);\n",
       "            \n",
       "        \n",
       "\n",
       "        marker_fc395fcdd55f6aa3e9204f048204cbca.bindPopup(popup_f5663700c2c048c756bd8dab2f9161ef)\n",
       "        ;\n",
       "\n",
       "        \n",
       "    \n",
       "    \n",
       "            var marker_8e0d9eacb89fa11188d3585c3665f7de = L.marker(\n",
       "                [12.8744383, 77.5579029],\n",
       "                {\n",
       "}\n",
       "            ).addTo(map_70913d925aa1d203d02dc92273d382af);\n",
       "        \n",
       "    \n",
       "        var popup_85b4a74ddfb07489501dbc418c7a08a2 = L.popup({\n",
       "  &quot;maxWidth&quot;: &quot;100%&quot;,\n",
       "});\n",
       "\n",
       "        \n",
       "            \n",
       "                var html_814152d9e0d0945d780effea278a0865 = $(`&lt;div id=&quot;html_814152d9e0d0945d780effea278a0865&quot; style=&quot;width: 100.0%; height: 100.0%;&quot;&gt;&lt;b&gt;📍 Location:&lt;/b&gt; Thippasandra&lt;br&gt;&lt;b&gt;🍽️ Total Restaurants:&lt;/b&gt; 194&lt;/div&gt;`)[0];\n",
       "                popup_85b4a74ddfb07489501dbc418c7a08a2.setContent(html_814152d9e0d0945d780effea278a0865);\n",
       "            \n",
       "        \n",
       "\n",
       "        marker_8e0d9eacb89fa11188d3585c3665f7de.bindPopup(popup_85b4a74ddfb07489501dbc418c7a08a2)\n",
       "        ;\n",
       "\n",
       "        \n",
       "    \n",
       "    \n",
       "            var marker_dd6c4841bc173cc06519ac29559e5b88 = L.marker(\n",
       "                [12.9911804, 77.5448918],\n",
       "                {\n",
       "}\n",
       "            ).addTo(map_70913d925aa1d203d02dc92273d382af);\n",
       "        \n",
       "    \n",
       "        var popup_63b8e4e94b0164d41737f4dfb37fa9b7 = L.popup({\n",
       "  &quot;maxWidth&quot;: &quot;100%&quot;,\n",
       "});\n",
       "\n",
       "        \n",
       "            \n",
       "                var html_88787b9e04658490f5d70414e3545a89 = $(`&lt;div id=&quot;html_88787b9e04658490f5d70414e3545a89&quot; style=&quot;width: 100.0%; height: 100.0%;&quot;&gt;&lt;b&gt;📍 Location:&lt;/b&gt; Basaveshwara Nagar&lt;br&gt;&lt;b&gt;🍽️ Total Restaurants:&lt;/b&gt; 191&lt;/div&gt;`)[0];\n",
       "                popup_63b8e4e94b0164d41737f4dfb37fa9b7.setContent(html_88787b9e04658490f5d70414e3545a89);\n",
       "            \n",
       "        \n",
       "\n",
       "        marker_dd6c4841bc173cc06519ac29559e5b88.bindPopup(popup_63b8e4e94b0164d41737f4dfb37fa9b7)\n",
       "        ;\n",
       "\n",
       "        \n",
       "    \n",
       "    \n",
       "            var marker_0011301a22c88fc0fa6178669ce73454 = L.marker(\n",
       "                [13.0422794, 77.6248577],\n",
       "                {\n",
       "}\n",
       "            ).addTo(map_70913d925aa1d203d02dc92273d382af);\n",
       "        \n",
       "    \n",
       "        var popup_c00d76604b618ae435c45d83c69758ae = L.popup({\n",
       "  &quot;maxWidth&quot;: &quot;100%&quot;,\n",
       "});\n",
       "\n",
       "        \n",
       "            \n",
       "                var html_a234b0bc834adc64f14e0c8f0f48ee37 = $(`&lt;div id=&quot;html_a234b0bc834adc64f14e0c8f0f48ee37&quot; style=&quot;width: 100.0%; height: 100.0%;&quot;&gt;&lt;b&gt;📍 Location:&lt;/b&gt; Nagawara&lt;br&gt;&lt;b&gt;🍽️ Total Restaurants:&lt;/b&gt; 187&lt;/div&gt;`)[0];\n",
       "                popup_c00d76604b618ae435c45d83c69758ae.setContent(html_a234b0bc834adc64f14e0c8f0f48ee37);\n",
       "            \n",
       "        \n",
       "\n",
       "        marker_0011301a22c88fc0fa6178669ce73454.bindPopup(popup_c00d76604b618ae435c45d83c69758ae)\n",
       "        ;\n",
       "\n",
       "        \n",
       "    \n",
       "    \n",
       "            var marker_69bbabf65cf46edc1b26212e301e08a6 = L.marker(\n",
       "                [12.9931876, 77.5753419],\n",
       "                {\n",
       "}\n",
       "            ).addTo(map_70913d925aa1d203d02dc92273d382af);\n",
       "        \n",
       "    \n",
       "        var popup_3d5e221429c59014c805cbdc28981e90 = L.popup({\n",
       "  &quot;maxWidth&quot;: &quot;100%&quot;,\n",
       "});\n",
       "\n",
       "        \n",
       "            \n",
       "                var html_9ab405dc27925fe8e11806789365d621 = $(`&lt;div id=&quot;html_9ab405dc27925fe8e11806789365d621&quot; style=&quot;width: 100.0%; height: 100.0%;&quot;&gt;&lt;b&gt;📍 Location:&lt;/b&gt; Seshadripuram&lt;br&gt;&lt;b&gt;🍽️ Total Restaurants:&lt;/b&gt; 165&lt;/div&gt;`)[0];\n",
       "                popup_3d5e221429c59014c805cbdc28981e90.setContent(html_9ab405dc27925fe8e11806789365d621);\n",
       "            \n",
       "        \n",
       "\n",
       "        marker_69bbabf65cf46edc1b26212e301e08a6.bindPopup(popup_3d5e221429c59014c805cbdc28981e90)\n",
       "        ;\n",
       "\n",
       "        \n",
       "    \n",
       "    \n",
       "            var marker_73bf2feb26c9771d06e5cd96a09a97c8 = L.marker(\n",
       "                [13.037077, 77.6413572],\n",
       "                {\n",
       "}\n",
       "            ).addTo(map_70913d925aa1d203d02dc92273d382af);\n",
       "        \n",
       "    \n",
       "        var popup_b78a77305d3237805e25ba88a34194fc = L.popup({\n",
       "  &quot;maxWidth&quot;: &quot;100%&quot;,\n",
       "});\n",
       "\n",
       "        \n",
       "            \n",
       "                var html_0b360045cbfacb8d8ea7cf1b40d52813 = $(`&lt;div id=&quot;html_0b360045cbfacb8d8ea7cf1b40d52813&quot; style=&quot;width: 100.0%; height: 100.0%;&quot;&gt;&lt;b&gt;📍 Location:&lt;/b&gt; Hennur&lt;br&gt;&lt;b&gt;🍽️ Total Restaurants:&lt;/b&gt; 161&lt;/div&gt;`)[0];\n",
       "                popup_b78a77305d3237805e25ba88a34194fc.setContent(html_0b360045cbfacb8d8ea7cf1b40d52813);\n",
       "            \n",
       "        \n",
       "\n",
       "        marker_73bf2feb26c9771d06e5cd96a09a97c8.bindPopup(popup_b78a77305d3237805e25ba88a34194fc)\n",
       "        ;\n",
       "\n",
       "        \n",
       "    \n",
       "    \n",
       "            var marker_1cb3d4e87a13ac699062d1cb8023206f = L.marker(\n",
       "                [12.9779079, 77.5723936],\n",
       "                {\n",
       "}\n",
       "            ).addTo(map_70913d925aa1d203d02dc92273d382af);\n",
       "        \n",
       "    \n",
       "        var popup_562d726cd4bfcb3b5d1772580dfd8169 = L.popup({\n",
       "  &quot;maxWidth&quot;: &quot;100%&quot;,\n",
       "});\n",
       "\n",
       "        \n",
       "            \n",
       "                var html_b7f49950884749b9064959223303cc4d = $(`&lt;div id=&quot;html_b7f49950884749b9064959223303cc4d&quot; style=&quot;width: 100.0%; height: 100.0%;&quot;&gt;&lt;b&gt;📍 Location:&lt;/b&gt; Majestic&lt;br&gt;&lt;b&gt;🍽️ Total Restaurants:&lt;/b&gt; 155&lt;/div&gt;`)[0];\n",
       "                popup_562d726cd4bfcb3b5d1772580dfd8169.setContent(html_b7f49950884749b9064959223303cc4d);\n",
       "            \n",
       "        \n",
       "\n",
       "        marker_1cb3d4e87a13ac699062d1cb8023206f.bindPopup(popup_562d726cd4bfcb3b5d1772580dfd8169)\n",
       "        ;\n",
       "\n",
       "        \n",
       "    \n",
       "    \n",
       "            var marker_cf1d28e5252d2d340a2bf517dc311e89 = L.marker(\n",
       "                [13.031992, 77.6280789],\n",
       "                {\n",
       "}\n",
       "            ).addTo(map_70913d925aa1d203d02dc92273d382af);\n",
       "        \n",
       "    \n",
       "        var popup_538bdcb78e2765b38aa993099f90b612 = L.popup({\n",
       "  &quot;maxWidth&quot;: &quot;100%&quot;,\n",
       "});\n",
       "\n",
       "        \n",
       "            \n",
       "                var html_9858da1723f01279f0f72c79360e56b8 = $(`&lt;div id=&quot;html_9858da1723f01279f0f72c79360e56b8&quot; style=&quot;width: 100.0%; height: 100.0%;&quot;&gt;&lt;b&gt;📍 Location:&lt;/b&gt; HBR Layout&lt;br&gt;&lt;b&gt;🍽️ Total Restaurants:&lt;/b&gt; 153&lt;/div&gt;`)[0];\n",
       "                popup_538bdcb78e2765b38aa993099f90b612.setContent(html_9858da1723f01279f0f72c79360e56b8);\n",
       "            \n",
       "        \n",
       "\n",
       "        marker_cf1d28e5252d2d340a2bf517dc311e89.bindPopup(popup_538bdcb78e2765b38aa993099f90b612)\n",
       "        ;\n",
       "\n",
       "        \n",
       "    \n",
       "    \n",
       "            var marker_e19e14dd82b1cc95739a532c57e372e0 = L.marker(\n",
       "                [12.9800059, 77.6050006],\n",
       "                {\n",
       "}\n",
       "            ).addTo(map_70913d925aa1d203d02dc92273d382af);\n",
       "        \n",
       "    \n",
       "        var popup_b4da9a71849286975de020189c95499d = L.popup({\n",
       "  &quot;maxWidth&quot;: &quot;100%&quot;,\n",
       "});\n",
       "\n",
       "        \n",
       "            \n",
       "                var html_a376e5b2666c75bc7a2f04f1b83b2452 = $(`&lt;div id=&quot;html_a376e5b2666c75bc7a2f04f1b83b2452&quot; style=&quot;width: 100.0%; height: 100.0%;&quot;&gt;&lt;b&gt;📍 Location:&lt;/b&gt; Infantry Road&lt;br&gt;&lt;b&gt;🍽️ Total Restaurants:&lt;/b&gt; 151&lt;/div&gt;`)[0];\n",
       "                popup_b4da9a71849286975de020189c95499d.setContent(html_a376e5b2666c75bc7a2f04f1b83b2452);\n",
       "            \n",
       "        \n",
       "\n",
       "        marker_e19e14dd82b1cc95739a532c57e372e0.bindPopup(popup_b4da9a71849286975de020189c95499d)\n",
       "        ;\n",
       "\n",
       "        \n",
       "    \n",
       "    \n",
       "            var marker_7c07851f703a0c60a8469b046c6ff2b5 = L.marker(\n",
       "                [12.9813402, 77.575178],\n",
       "                {\n",
       "}\n",
       "            ).addTo(map_70913d925aa1d203d02dc92273d382af);\n",
       "        \n",
       "    \n",
       "        var popup_40e699dc8c50c17095e0deff5f9642f8 = L.popup({\n",
       "  &quot;maxWidth&quot;: &quot;100%&quot;,\n",
       "});\n",
       "\n",
       "        \n",
       "            \n",
       "                var html_c02dd6013107eae43f027f94f5aff504 = $(`&lt;div id=&quot;html_c02dd6013107eae43f027f94f5aff504&quot; style=&quot;width: 100.0%; height: 100.0%;&quot;&gt;&lt;b&gt;📍 Location:&lt;/b&gt; Race Course Road&lt;br&gt;&lt;b&gt;🍽️ Total Restaurants:&lt;/b&gt; 139&lt;/div&gt;`)[0];\n",
       "                popup_40e699dc8c50c17095e0deff5f9642f8.setContent(html_c02dd6013107eae43f027f94f5aff504);\n",
       "            \n",
       "        \n",
       "\n",
       "        marker_7c07851f703a0c60a8469b046c6ff2b5.bindPopup(popup_40e699dc8c50c17095e0deff5f9642f8)\n",
       "        ;\n",
       "\n",
       "        \n",
       "    \n",
       "    \n",
       "            var marker_14826768909789d31d0d6c46fbb54ecb = L.marker(\n",
       "                [12.965718, 77.5762705],\n",
       "                {\n",
       "}\n",
       "            ).addTo(map_70913d925aa1d203d02dc92273d382af);\n",
       "        \n",
       "    \n",
       "        var popup_05a6a06c30dfd14e586b2b93dd491468 = L.popup({\n",
       "  &quot;maxWidth&quot;: &quot;100%&quot;,\n",
       "});\n",
       "\n",
       "        \n",
       "            \n",
       "                var html_d0dc802b0c5646e1fab04ceeca66366a = $(`&lt;div id=&quot;html_d0dc802b0c5646e1fab04ceeca66366a&quot; style=&quot;width: 100.0%; height: 100.0%;&quot;&gt;&lt;b&gt;📍 Location:&lt;/b&gt; City Market&lt;br&gt;&lt;b&gt;🍽️ Total Restaurants:&lt;/b&gt; 126&lt;/div&gt;`)[0];\n",
       "                popup_05a6a06c30dfd14e586b2b93dd491468.setContent(html_d0dc802b0c5646e1fab04ceeca66366a);\n",
       "            \n",
       "        \n",
       "\n",
       "        marker_14826768909789d31d0d6c46fbb54ecb.bindPopup(popup_05a6a06c30dfd14e586b2b93dd491468)\n",
       "        ;\n",
       "\n",
       "        \n",
       "    \n",
       "    \n",
       "            var marker_96a35f24420fbb9f253194157551c369 = L.marker(\n",
       "                [13.0221838, 77.5530824],\n",
       "                {\n",
       "}\n",
       "            ).addTo(map_70913d925aa1d203d02dc92273d382af);\n",
       "        \n",
       "    \n",
       "        var popup_b2ea16288897b166c75cd7b4dbb41a24 = L.popup({\n",
       "  &quot;maxWidth&quot;: &quot;100%&quot;,\n",
       "});\n",
       "\n",
       "        \n",
       "            \n",
       "                var html_faa697164c0eadc415d002cd5922963b = $(`&lt;div id=&quot;html_faa697164c0eadc415d002cd5922963b&quot; style=&quot;width: 100.0%; height: 100.0%;&quot;&gt;&lt;b&gt;📍 Location:&lt;/b&gt; Yeshwantpur&lt;br&gt;&lt;b&gt;🍽️ Total Restaurants:&lt;/b&gt; 119&lt;/div&gt;`)[0];\n",
       "                popup_b2ea16288897b166c75cd7b4dbb41a24.setContent(html_faa697164c0eadc415d002cd5922963b);\n",
       "            \n",
       "        \n",
       "\n",
       "        marker_96a35f24420fbb9f253194157551c369.bindPopup(popup_b2ea16288897b166c75cd7b4dbb41a24)\n",
       "        ;\n",
       "\n",
       "        \n",
       "    \n",
       "    \n",
       "            var marker_578a705387bf3637111c4f21166c8b61 = L.marker(\n",
       "                [12.9616273, 77.7478198],\n",
       "                {\n",
       "}\n",
       "            ).addTo(map_70913d925aa1d203d02dc92273d382af);\n",
       "        \n",
       "    \n",
       "        var popup_957bb6d0dbcac39afd64b42785ed2447 = L.popup({\n",
       "  &quot;maxWidth&quot;: &quot;100%&quot;,\n",
       "});\n",
       "\n",
       "        \n",
       "            \n",
       "                var html_a838158da4b0b6ceae2ea7c04515f42a = $(`&lt;div id=&quot;html_a838158da4b0b6ceae2ea7c04515f42a&quot; style=&quot;width: 100.0%; height: 100.0%;&quot;&gt;&lt;b&gt;📍 Location:&lt;/b&gt; Varthur Main Road&lt;br&gt;&lt;b&gt;🍽️ Total Restaurants:&lt;/b&gt; 117&lt;/div&gt;`)[0];\n",
       "                popup_957bb6d0dbcac39afd64b42785ed2447.setContent(html_a838158da4b0b6ceae2ea7c04515f42a);\n",
       "            \n",
       "        \n",
       "\n",
       "        marker_578a705387bf3637111c4f21166c8b61.bindPopup(popup_957bb6d0dbcac39afd64b42785ed2447)\n",
       "        ;\n",
       "\n",
       "        \n",
       "    \n",
       "    \n",
       "            var marker_61b8f84f887ba9d560557fdb5c2cf485 = L.marker(\n",
       "                [12.9876393, 77.7377718],\n",
       "                {\n",
       "}\n",
       "            ).addTo(map_70913d925aa1d203d02dc92273d382af);\n",
       "        \n",
       "    \n",
       "        var popup_b0c566e0b54e483e9d0bc6beff8e486c = L.popup({\n",
       "  &quot;maxWidth&quot;: &quot;100%&quot;,\n",
       "});\n",
       "\n",
       "        \n",
       "            \n",
       "                var html_95b9403a099c7481571f455cfee3246a = $(`&lt;div id=&quot;html_95b9403a099c7481571f455cfee3246a&quot; style=&quot;width: 100.0%; height: 100.0%;&quot;&gt;&lt;b&gt;📍 Location:&lt;/b&gt; ITPL Main Road&lt;br&gt;&lt;b&gt;🍽️ Total Restaurants:&lt;/b&gt; 113&lt;/div&gt;`)[0];\n",
       "                popup_b0c566e0b54e483e9d0bc6beff8e486c.setContent(html_95b9403a099c7481571f455cfee3246a);\n",
       "            \n",
       "        \n",
       "\n",
       "        marker_61b8f84f887ba9d560557fdb5c2cf485.bindPopup(popup_b0c566e0b54e483e9d0bc6beff8e486c)\n",
       "        ;\n",
       "\n",
       "        \n",
       "    \n",
       "    \n",
       "            var marker_30f261300bdfb53eee19fe5bae179c63 = L.marker(\n",
       "                [12.9287596, 77.6287122],\n",
       "                {\n",
       "}\n",
       "            ).addTo(map_70913d925aa1d203d02dc92273d382af);\n",
       "        \n",
       "    \n",
       "        var popup_69b0f9154b54c1ac003eabaaff75fe4d = L.popup({\n",
       "  &quot;maxWidth&quot;: &quot;100%&quot;,\n",
       "});\n",
       "\n",
       "        \n",
       "            \n",
       "                var html_7d259f56efd6f2c836c6de3827fb03ab = $(`&lt;div id=&quot;html_7d259f56efd6f2c836c6de3827fb03ab&quot; style=&quot;width: 100.0%; height: 100.0%;&quot;&gt;&lt;b&gt;📍 Location:&lt;/b&gt; South Bangalore&lt;br&gt;&lt;b&gt;🍽️ Total Restaurants:&lt;/b&gt; 107&lt;/div&gt;`)[0];\n",
       "                popup_69b0f9154b54c1ac003eabaaff75fe4d.setContent(html_7d259f56efd6f2c836c6de3827fb03ab);\n",
       "            \n",
       "        \n",
       "\n",
       "        marker_30f261300bdfb53eee19fe5bae179c63.bindPopup(popup_69b0f9154b54c1ac003eabaaff75fe4d)\n",
       "        ;\n",
       "\n",
       "        \n",
       "    \n",
       "    \n",
       "            var marker_3701b15963c7165dfbef4e66d3b8e5bd = L.marker(\n",
       "                [12.9243692, 77.6242433],\n",
       "                {\n",
       "}\n",
       "            ).addTo(map_70913d925aa1d203d02dc92273d382af);\n",
       "        \n",
       "    \n",
       "        var popup_aff39e941237a365c4deb26922be021a = L.popup({\n",
       "  &quot;maxWidth&quot;: &quot;100%&quot;,\n",
       "});\n",
       "\n",
       "        \n",
       "            \n",
       "                var html_57531c5391ef5c508176fee5e38f7650 = $(`&lt;div id=&quot;html_57531c5391ef5c508176fee5e38f7650&quot; style=&quot;width: 100.0%; height: 100.0%;&quot;&gt;&lt;b&gt;📍 Location:&lt;/b&gt; Koramangala 2nd Block&lt;br&gt;&lt;b&gt;🍽️ Total Restaurants:&lt;/b&gt; 102&lt;/div&gt;`)[0];\n",
       "                popup_aff39e941237a365c4deb26922be021a.setContent(html_57531c5391ef5c508176fee5e38f7650);\n",
       "            \n",
       "        \n",
       "\n",
       "        marker_3701b15963c7165dfbef4e66d3b8e5bd.bindPopup(popup_aff39e941237a365c4deb26922be021a)\n",
       "        ;\n",
       "\n",
       "        \n",
       "    \n",
       "    \n",
       "            var marker_2de5f66a379da7f215318318bcd2a363 = L.marker(\n",
       "                [12.9553487, 77.6056093],\n",
       "                {\n",
       "}\n",
       "            ).addTo(map_70913d925aa1d203d02dc92273d382af);\n",
       "        \n",
       "    \n",
       "        var popup_ef424484a9ceef86e801ce00ce49e5ae = L.popup({\n",
       "  &quot;maxWidth&quot;: &quot;100%&quot;,\n",
       "});\n",
       "\n",
       "        \n",
       "            \n",
       "                var html_7afb7477fcb9e2a44d6e1cd9da65d742 = $(`&lt;div id=&quot;html_7afb7477fcb9e2a44d6e1cd9da65d742&quot; style=&quot;width: 100.0%; height: 100.0%;&quot;&gt;&lt;b&gt;📍 Location:&lt;/b&gt; Hosur Road&lt;br&gt;&lt;b&gt;🍽️ Total Restaurants:&lt;/b&gt; 102&lt;/div&gt;`)[0];\n",
       "                popup_ef424484a9ceef86e801ce00ce49e5ae.setContent(html_7afb7477fcb9e2a44d6e1cd9da65d742);\n",
       "            \n",
       "        \n",
       "\n",
       "        marker_2de5f66a379da7f215318318bcd2a363.bindPopup(popup_ef424484a9ceef86e801ce00ce49e5ae)\n",
       "        ;\n",
       "\n",
       "        \n",
       "    \n",
       "    \n",
       "            var marker_5188d8d949641530b505c560f3ad61de = L.marker(\n",
       "                [12.9846713, 77.6790908],\n",
       "                {\n",
       "}\n",
       "            ).addTo(map_70913d925aa1d203d02dc92273d382af);\n",
       "        \n",
       "    \n",
       "        var popup_a99cf50d371a9a27dad1d2d481a69553 = L.popup({\n",
       "  &quot;maxWidth&quot;: &quot;100%&quot;,\n",
       "});\n",
       "\n",
       "        \n",
       "            \n",
       "                var html_9bf1c0804216a8de578a09c1381a046d = $(`&lt;div id=&quot;html_9bf1c0804216a8de578a09c1381a046d&quot; style=&quot;width: 100.0%; height: 100.0%;&quot;&gt;&lt;b&gt;📍 Location:&lt;/b&gt; Kaggadasapura&lt;br&gt;&lt;b&gt;🍽️ Total Restaurants:&lt;/b&gt; 101&lt;/div&gt;`)[0];\n",
       "                popup_a99cf50d371a9a27dad1d2d481a69553.setContent(html_9bf1c0804216a8de578a09c1381a046d);\n",
       "            \n",
       "        \n",
       "\n",
       "        marker_5188d8d949641530b505c560f3ad61de.bindPopup(popup_a99cf50d371a9a27dad1d2d481a69553)\n",
       "        ;\n",
       "\n",
       "        \n",
       "    \n",
       "    \n",
       "            var marker_2e1136880e86c6b0762408fb77f000b1 = L.marker(\n",
       "                [12.9850987, 77.6631173],\n",
       "                {\n",
       "}\n",
       "            ).addTo(map_70913d925aa1d203d02dc92273d382af);\n",
       "        \n",
       "    \n",
       "        var popup_02eb7b16d102e98cbfb88696ed130440 = L.popup({\n",
       "  &quot;maxWidth&quot;: &quot;100%&quot;,\n",
       "});\n",
       "\n",
       "        \n",
       "            \n",
       "                var html_6cb23b92101c58ed65e98d3cf8ebee82 = $(`&lt;div id=&quot;html_6cb23b92101c58ed65e98d3cf8ebee82&quot; style=&quot;width: 100.0%; height: 100.0%;&quot;&gt;&lt;b&gt;📍 Location:&lt;/b&gt; CV Raman Nagar&lt;br&gt;&lt;b&gt;🍽️ Total Restaurants:&lt;/b&gt; 90&lt;/div&gt;`)[0];\n",
       "                popup_02eb7b16d102e98cbfb88696ed130440.setContent(html_6cb23b92101c58ed65e98d3cf8ebee82);\n",
       "            \n",
       "        \n",
       "\n",
       "        marker_2e1136880e86c6b0762408fb77f000b1.bindPopup(popup_02eb7b16d102e98cbfb88696ed130440)\n",
       "        ;\n",
       "\n",
       "        \n",
       "    \n",
       "    \n",
       "            var marker_d59067b374cdf9fab3c384248680cd88 = L.marker(\n",
       "                [12.9660722, 77.6125941],\n",
       "                {\n",
       "}\n",
       "            ).addTo(map_70913d925aa1d203d02dc92273d382af);\n",
       "        \n",
       "    \n",
       "        var popup_ddbc988c4546b00ea521d6e9e97a4688 = L.popup({\n",
       "  &quot;maxWidth&quot;: &quot;100%&quot;,\n",
       "});\n",
       "\n",
       "        \n",
       "            \n",
       "                var html_7f56cbb66ac1b0694be50cd870ee7767 = $(`&lt;div id=&quot;html_7f56cbb66ac1b0694be50cd870ee7767&quot; style=&quot;width: 100.0%; height: 100.0%;&quot;&gt;&lt;b&gt;📍 Location:&lt;/b&gt; Vijay Nagar&lt;br&gt;&lt;b&gt;🍽️ Total Restaurants:&lt;/b&gt; 80&lt;/div&gt;`)[0];\n",
       "                popup_ddbc988c4546b00ea521d6e9e97a4688.setContent(html_7f56cbb66ac1b0694be50cd870ee7767);\n",
       "            \n",
       "        \n",
       "\n",
       "        marker_d59067b374cdf9fab3c384248680cd88.bindPopup(popup_ddbc988c4546b00ea521d6e9e97a4688)\n",
       "        ;\n",
       "\n",
       "        \n",
       "    \n",
       "    \n",
       "            var marker_0caa0f7c8a1cba6266f126fd5c6afc75 = L.marker(\n",
       "                [13.0227204, 77.595715],\n",
       "                {\n",
       "}\n",
       "            ).addTo(map_70913d925aa1d203d02dc92273d382af);\n",
       "        \n",
       "    \n",
       "        var popup_211222e647510be79e095df7d698ebe8 = L.popup({\n",
       "  &quot;maxWidth&quot;: &quot;100%&quot;,\n",
       "});\n",
       "\n",
       "        \n",
       "            \n",
       "                var html_e181cfa4dcfd55e3eb20b67ef415b064 = $(`&lt;div id=&quot;html_e181cfa4dcfd55e3eb20b67ef415b064&quot; style=&quot;width: 100.0%; height: 100.0%;&quot;&gt;&lt;b&gt;📍 Location:&lt;/b&gt; RT Nagar&lt;br&gt;&lt;b&gt;🍽️ Total Restaurants:&lt;/b&gt; 80&lt;/div&gt;`)[0];\n",
       "                popup_211222e647510be79e095df7d698ebe8.setContent(html_e181cfa4dcfd55e3eb20b67ef415b064);\n",
       "            \n",
       "        \n",
       "\n",
       "        marker_0caa0f7c8a1cba6266f126fd5c6afc75.bindPopup(popup_211222e647510be79e095df7d698ebe8)\n",
       "        ;\n",
       "\n",
       "        \n",
       "    \n",
       "    \n",
       "            var marker_db56ae2ef8373e372df3291822b408fd = L.marker(\n",
       "                [12.9578658, 77.6958748],\n",
       "                {\n",
       "}\n",
       "            ).addTo(map_70913d925aa1d203d02dc92273d382af);\n",
       "        \n",
       "    \n",
       "        var popup_2ab8857f5eb92c3a93b05777f39cdf22 = L.popup({\n",
       "  &quot;maxWidth&quot;: &quot;100%&quot;,\n",
       "});\n",
       "\n",
       "        \n",
       "            \n",
       "                var html_34c5070d5bfef4ac5526b99b11f9c950 = $(`&lt;div id=&quot;html_34c5070d5bfef4ac5526b99b11f9c950&quot; style=&quot;width: 100.0%; height: 100.0%;&quot;&gt;&lt;b&gt;📍 Location:&lt;/b&gt; Sanjay Nagar&lt;br&gt;&lt;b&gt;🍽️ Total Restaurants:&lt;/b&gt; 76&lt;/div&gt;`)[0];\n",
       "                popup_2ab8857f5eb92c3a93b05777f39cdf22.setContent(html_34c5070d5bfef4ac5526b99b11f9c950);\n",
       "            \n",
       "        \n",
       "\n",
       "        marker_db56ae2ef8373e372df3291822b408fd.bindPopup(popup_2ab8857f5eb92c3a93b05777f39cdf22)\n",
       "        ;\n",
       "\n",
       "        \n",
       "    \n",
       "    \n",
       "            var marker_3987ff18cf228c0e1b05db004affcf40 = L.marker(\n",
       "                [13.0068, 77.5813],\n",
       "                {\n",
       "}\n",
       "            ).addTo(map_70913d925aa1d203d02dc92273d382af);\n",
       "        \n",
       "    \n",
       "        var popup_d7dc54cbcac10e6068c680b6980c3885 = L.popup({\n",
       "  &quot;maxWidth&quot;: &quot;100%&quot;,\n",
       "});\n",
       "\n",
       "        \n",
       "            \n",
       "                var html_4433b52668575ef53a35b475be8be453 = $(`&lt;div id=&quot;html_4433b52668575ef53a35b475be8be453&quot; style=&quot;width: 100.0%; height: 100.0%;&quot;&gt;&lt;b&gt;📍 Location:&lt;/b&gt; Sadashiv Nagar&lt;br&gt;&lt;b&gt;🍽️ Total Restaurants:&lt;/b&gt; 63&lt;/div&gt;`)[0];\n",
       "                popup_d7dc54cbcac10e6068c680b6980c3885.setContent(html_4433b52668575ef53a35b475be8be453);\n",
       "            \n",
       "        \n",
       "\n",
       "        marker_3987ff18cf228c0e1b05db004affcf40.bindPopup(popup_d7dc54cbcac10e6068c680b6980c3885)\n",
       "        ;\n",
       "\n",
       "        \n",
       "    \n",
       "    \n",
       "            var marker_293e38599d5c7a830048d9bac6bf8f63 = L.marker(\n",
       "                [13.0621474, 77.5800614],\n",
       "                {\n",
       "}\n",
       "            ).addTo(map_70913d925aa1d203d02dc92273d382af);\n",
       "        \n",
       "    \n",
       "        var popup_de87650726f3acee2a35476e107eaedd = L.popup({\n",
       "  &quot;maxWidth&quot;: &quot;100%&quot;,\n",
       "});\n",
       "\n",
       "        \n",
       "            \n",
       "                var html_5eed0452dbca1d394940e439610f2182 = $(`&lt;div id=&quot;html_5eed0452dbca1d394940e439610f2182&quot; style=&quot;width: 100.0%; height: 100.0%;&quot;&gt;&lt;b&gt;📍 Location:&lt;/b&gt; Sahakara Nagar&lt;br&gt;&lt;b&gt;🍽️ Total Restaurants:&lt;/b&gt; 53&lt;/div&gt;`)[0];\n",
       "                popup_de87650726f3acee2a35476e107eaedd.setContent(html_5eed0452dbca1d394940e439610f2182);\n",
       "            \n",
       "        \n",
       "\n",
       "        marker_293e38599d5c7a830048d9bac6bf8f63.bindPopup(popup_de87650726f3acee2a35476e107eaedd)\n",
       "        ;\n",
       "\n",
       "        \n",
       "    \n",
       "    \n",
       "            var marker_cc92267c25f820196779054f8a2e6308 = L.marker(\n",
       "                [12.9357366, 77.624081],\n",
       "                {\n",
       "}\n",
       "            ).addTo(map_70913d925aa1d203d02dc92273d382af);\n",
       "        \n",
       "    \n",
       "        var popup_ce4756d16eb44fb8363bdf738abcc14e = L.popup({\n",
       "  &quot;maxWidth&quot;: &quot;100%&quot;,\n",
       "});\n",
       "\n",
       "        \n",
       "            \n",
       "                var html_03bb57ba5ecfab0fa72cf96fad6ab04d = $(`&lt;div id=&quot;html_03bb57ba5ecfab0fa72cf96fad6ab04d&quot; style=&quot;width: 100.0%; height: 100.0%;&quot;&gt;&lt;b&gt;📍 Location:&lt;/b&gt; Koramangala&lt;br&gt;&lt;b&gt;🍽️ Total Restaurants:&lt;/b&gt; 48&lt;/div&gt;`)[0];\n",
       "                popup_ce4756d16eb44fb8363bdf738abcc14e.setContent(html_03bb57ba5ecfab0fa72cf96fad6ab04d);\n",
       "            \n",
       "        \n",
       "\n",
       "        marker_cc92267c25f820196779054f8a2e6308.bindPopup(popup_ce4756d16eb44fb8363bdf738abcc14e)\n",
       "        ;\n",
       "\n",
       "        \n",
       "    \n",
       "    \n",
       "            var marker_4b755eae66e7980c84c1ffca5b4e1bdb = L.marker(\n",
       "                [12.9833162, 77.7083182],\n",
       "                {\n",
       "}\n",
       "            ).addTo(map_70913d925aa1d203d02dc92273d382af);\n",
       "        \n",
       "    \n",
       "        var popup_1f4e7e66111f9858016629798c27ea1c = L.popup({\n",
       "  &quot;maxWidth&quot;: &quot;100%&quot;,\n",
       "});\n",
       "\n",
       "        \n",
       "            \n",
       "                var html_f2159a57bfd4b44267c9d9c64de3dfa0 = $(`&lt;div id=&quot;html_f2159a57bfd4b44267c9d9c64de3dfa0&quot; style=&quot;width: 100.0%; height: 100.0%;&quot;&gt;&lt;b&gt;📍 Location:&lt;/b&gt; East Bangalore&lt;br&gt;&lt;b&gt;🍽️ Total Restaurants:&lt;/b&gt; 44&lt;/div&gt;`)[0];\n",
       "                popup_1f4e7e66111f9858016629798c27ea1c.setContent(html_f2159a57bfd4b44267c9d9c64de3dfa0);\n",
       "            \n",
       "        \n",
       "\n",
       "        marker_4b755eae66e7980c84c1ffca5b4e1bdb.bindPopup(popup_1f4e7e66111f9858016629798c27ea1c)\n",
       "        ;\n",
       "\n",
       "        \n",
       "    \n",
       "    \n",
       "            var marker_8edd19753b9d637d659bbb95ea70c992 = L.marker(\n",
       "                [13.0394104, 77.5197351],\n",
       "                {\n",
       "}\n",
       "            ).addTo(map_70913d925aa1d203d02dc92273d382af);\n",
       "        \n",
       "    \n",
       "        var popup_1fb8d068c1aae72c7f0412977616e6c1 = L.popup({\n",
       "  &quot;maxWidth&quot;: &quot;100%&quot;,\n",
       "});\n",
       "\n",
       "        \n",
       "            \n",
       "                var html_55d713dbe8bec8ef78ea666864578861 = $(`&lt;div id=&quot;html_55d713dbe8bec8ef78ea666864578861&quot; style=&quot;width: 100.0%; height: 100.0%;&quot;&gt;&lt;b&gt;📍 Location:&lt;/b&gt; Jalahalli&lt;br&gt;&lt;b&gt;🍽️ Total Restaurants:&lt;/b&gt; 38&lt;/div&gt;`)[0];\n",
       "                popup_1fb8d068c1aae72c7f0412977616e6c1.setContent(html_55d713dbe8bec8ef78ea666864578861);\n",
       "            \n",
       "        \n",
       "\n",
       "        marker_8edd19753b9d637d659bbb95ea70c992.bindPopup(popup_1fb8d068c1aae72c7f0412977616e6c1)\n",
       "        ;\n",
       "\n",
       "        \n",
       "    \n",
       "    \n",
       "            var marker_2e7c03bce60884f2cab784a51ad37a34 = L.marker(\n",
       "                [12.975608, 77.5553564],\n",
       "                {\n",
       "}\n",
       "            ).addTo(map_70913d925aa1d203d02dc92273d382af);\n",
       "        \n",
       "    \n",
       "        var popup_667b6fef8e4b9d69b0afcd6bdd35cc69 = L.popup({\n",
       "  &quot;maxWidth&quot;: &quot;100%&quot;,\n",
       "});\n",
       "\n",
       "        \n",
       "            \n",
       "                var html_76049f9e36c0ba4bab3edc5507f61dbf = $(`&lt;div id=&quot;html_76049f9e36c0ba4bab3edc5507f61dbf&quot; style=&quot;width: 100.0%; height: 100.0%;&quot;&gt;&lt;b&gt;📍 Location:&lt;/b&gt; Magadi Road&lt;br&gt;&lt;b&gt;🍽️ Total Restaurants:&lt;/b&gt; 34&lt;/div&gt;`)[0];\n",
       "                popup_667b6fef8e4b9d69b0afcd6bdd35cc69.setContent(html_76049f9e36c0ba4bab3edc5507f61dbf);\n",
       "            \n",
       "        \n",
       "\n",
       "        marker_2e7c03bce60884f2cab784a51ad37a34.bindPopup(popup_667b6fef8e4b9d69b0afcd6bdd35cc69)\n",
       "        ;\n",
       "\n",
       "        \n",
       "    \n",
       "    \n",
       "            var marker_a75f34eb5b27b664538587d2b036b06b = L.marker(\n",
       "                [13.0163, 77.6785],\n",
       "                {\n",
       "}\n",
       "            ).addTo(map_70913d925aa1d203d02dc92273d382af);\n",
       "        \n",
       "    \n",
       "        var popup_9ec641a984fc24d50818526da3a7ca32 = L.popup({\n",
       "  &quot;maxWidth&quot;: &quot;100%&quot;,\n",
       "});\n",
       "\n",
       "        \n",
       "            \n",
       "                var html_aad8698dd248e8b6076a0d44b5db3429 = $(`&lt;div id=&quot;html_aad8698dd248e8b6076a0d44b5db3429&quot; style=&quot;width: 100.0%; height: 100.0%;&quot;&gt;&lt;b&gt;📍 Location:&lt;/b&gt; Rammurthy Nagar&lt;br&gt;&lt;b&gt;🍽️ Total Restaurants:&lt;/b&gt; 32&lt;/div&gt;`)[0];\n",
       "                popup_9ec641a984fc24d50818526da3a7ca32.setContent(html_aad8698dd248e8b6076a0d44b5db3429);\n",
       "            \n",
       "        \n",
       "\n",
       "        marker_a75f34eb5b27b664538587d2b036b06b.bindPopup(popup_9ec641a984fc24d50818526da3a7ca32)\n",
       "        ;\n",
       "\n",
       "        \n",
       "    \n",
       "    \n",
       "            var marker_d843de4a75276b4673f41359db2fd094 = L.marker(\n",
       "                [12.957998, 77.6037312],\n",
       "                {\n",
       "}\n",
       "            ).addTo(map_70913d925aa1d203d02dc92273d382af);\n",
       "        \n",
       "    \n",
       "        var popup_273a6ac1e09b734d5a0734db7c8deac0 = L.popup({\n",
       "  &quot;maxWidth&quot;: &quot;100%&quot;,\n",
       "});\n",
       "\n",
       "        \n",
       "            \n",
       "                var html_ec98b2751ef3a1bd02768a82acaf04b3 = $(`&lt;div id=&quot;html_ec98b2751ef3a1bd02768a82acaf04b3&quot; style=&quot;width: 100.0%; height: 100.0%;&quot;&gt;&lt;b&gt;📍 Location:&lt;/b&gt; Langford Town&lt;br&gt;&lt;b&gt;🍽️ Total Restaurants:&lt;/b&gt; 27&lt;/div&gt;`)[0];\n",
       "                popup_273a6ac1e09b734d5a0734db7c8deac0.setContent(html_ec98b2751ef3a1bd02768a82acaf04b3);\n",
       "            \n",
       "        \n",
       "\n",
       "        marker_d843de4a75276b4673f41359db2fd094.bindPopup(popup_273a6ac1e09b734d5a0734db7c8deac0)\n",
       "        ;\n",
       "\n",
       "        \n",
       "    \n",
       "    \n",
       "            var marker_a525effefec309020e065c964164294d = L.marker(\n",
       "                [12.9957937, 77.5847787],\n",
       "                {\n",
       "}\n",
       "            ).addTo(map_70913d925aa1d203d02dc92273d382af);\n",
       "        \n",
       "    \n",
       "        var popup_d8c2bea9eab95f46f673e52c646c45ca = L.popup({\n",
       "  &quot;maxWidth&quot;: &quot;100%&quot;,\n",
       "});\n",
       "\n",
       "        \n",
       "            \n",
       "                var html_2a51fca33d8628b7d7e9a34748a594f2 = $(`&lt;div id=&quot;html_2a51fca33d8628b7d7e9a34748a594f2&quot; style=&quot;width: 100.0%; height: 100.0%;&quot;&gt;&lt;b&gt;📍 Location:&lt;/b&gt; Sankey Road&lt;br&gt;&lt;b&gt;🍽️ Total Restaurants:&lt;/b&gt; 27&lt;/div&gt;`)[0];\n",
       "                popup_d8c2bea9eab95f46f673e52c646c45ca.setContent(html_2a51fca33d8628b7d7e9a34748a594f2);\n",
       "            \n",
       "        \n",
       "\n",
       "        marker_a525effefec309020e065c964164294d.bindPopup(popup_d8c2bea9eab95f46f673e52c646c45ca)\n",
       "        ;\n",
       "\n",
       "        \n",
       "    \n",
       "    \n",
       "            var marker_352e8b722cbcb134ef3833c21eacf532 = L.marker(\n",
       "                [13.0219668, 77.7127257],\n",
       "                {\n",
       "}\n",
       "            ).addTo(map_70913d925aa1d203d02dc92273d382af);\n",
       "        \n",
       "    \n",
       "        var popup_7010327c13e29c12a9d920897751f7f1 = L.popup({\n",
       "  &quot;maxWidth&quot;: &quot;100%&quot;,\n",
       "});\n",
       "\n",
       "        \n",
       "            \n",
       "                var html_4e76a8d402057e269f4f420168bd1c4a = $(`&lt;div id=&quot;html_4e76a8d402057e269f4f420168bd1c4a&quot; style=&quot;width: 100.0%; height: 100.0%;&quot;&gt;&lt;b&gt;📍 Location:&lt;/b&gt; Old Madras Road&lt;br&gt;&lt;b&gt;🍽️ Total Restaurants:&lt;/b&gt; 22&lt;/div&gt;`)[0];\n",
       "                popup_7010327c13e29c12a9d920897751f7f1.setContent(html_4e76a8d402057e269f4f420168bd1c4a);\n",
       "            \n",
       "        \n",
       "\n",
       "        marker_352e8b722cbcb134ef3833c21eacf532.bindPopup(popup_7010327c13e29c12a9d920897751f7f1)\n",
       "        ;\n",
       "\n",
       "        \n",
       "    \n",
       "    \n",
       "            var marker_7f0de8d87981ee57fddfe4a111ba52dc = L.marker(\n",
       "                [12.9467026, 77.5300705],\n",
       "                {\n",
       "}\n",
       "            ).addTo(map_70913d925aa1d203d02dc92273d382af);\n",
       "        \n",
       "    \n",
       "        var popup_38ba3caa811be5032725737000c5af60 = L.popup({\n",
       "  &quot;maxWidth&quot;: &quot;100%&quot;,\n",
       "});\n",
       "\n",
       "        \n",
       "            \n",
       "                var html_fc0bc1d60a78316f20c6fd46fe7d3131 = $(`&lt;div id=&quot;html_fc0bc1d60a78316f20c6fd46fe7d3131&quot; style=&quot;width: 100.0%; height: 100.0%;&quot;&gt;&lt;b&gt;📍 Location:&lt;/b&gt; Mysore Road&lt;br&gt;&lt;b&gt;🍽️ Total Restaurants:&lt;/b&gt; 22&lt;/div&gt;`)[0];\n",
       "                popup_38ba3caa811be5032725737000c5af60.setContent(html_fc0bc1d60a78316f20c6fd46fe7d3131);\n",
       "            \n",
       "        \n",
       "\n",
       "        marker_7f0de8d87981ee57fddfe4a111ba52dc.bindPopup(popup_38ba3caa811be5032725737000c5af60)\n",
       "        ;\n",
       "\n",
       "        \n",
       "    \n",
       "    \n",
       "            var marker_ad43ead114ddf1680c54fdd6e816bf88 = L.marker(\n",
       "                [12.8591407, 77.5284991],\n",
       "                {\n",
       "}\n",
       "            ).addTo(map_70913d925aa1d203d02dc92273d382af);\n",
       "        \n",
       "    \n",
       "        var popup_6e73bed67bda5a6004866b3bbb596acd = L.popup({\n",
       "  &quot;maxWidth&quot;: &quot;100%&quot;,\n",
       "});\n",
       "\n",
       "        \n",
       "            \n",
       "                var html_4d2008262b84ffc3da5f2cb849148077 = $(`&lt;div id=&quot;html_4d2008262b84ffc3da5f2cb849148077&quot; style=&quot;width: 100.0%; height: 100.0%;&quot;&gt;&lt;b&gt;📍 Location:&lt;/b&gt; Kanakapura Road&lt;br&gt;&lt;b&gt;🍽️ Total Restaurants:&lt;/b&gt; 19&lt;/div&gt;`)[0];\n",
       "                popup_6e73bed67bda5a6004866b3bbb596acd.setContent(html_4d2008262b84ffc3da5f2cb849148077);\n",
       "            \n",
       "        \n",
       "\n",
       "        marker_ad43ead114ddf1680c54fdd6e816bf88.bindPopup(popup_6e73bed67bda5a6004866b3bbb596acd)\n",
       "        ;\n",
       "\n",
       "        \n",
       "    \n",
       "    \n",
       "            var marker_d5ec2fdca4d99faac8e0bfc5a65ec706 = L.marker(\n",
       "                [13.007516, 77.695935],\n",
       "                {\n",
       "}\n",
       "            ).addTo(map_70913d925aa1d203d02dc92273d382af);\n",
       "        \n",
       "    \n",
       "        var popup_2659e82686aa79b3c5ff99c74aefc9c5 = L.popup({\n",
       "  &quot;maxWidth&quot;: &quot;100%&quot;,\n",
       "});\n",
       "\n",
       "        \n",
       "            \n",
       "                var html_d00d091e52beccbb9577fce93747fa01 = $(`&lt;div id=&quot;html_d00d091e52beccbb9577fce93747fa01&quot; style=&quot;width: 100.0%; height: 100.0%;&quot;&gt;&lt;b&gt;📍 Location:&lt;/b&gt; KR Puram&lt;br&gt;&lt;b&gt;🍽️ Total Restaurants:&lt;/b&gt; 18&lt;/div&gt;`)[0];\n",
       "                popup_2659e82686aa79b3c5ff99c74aefc9c5.setContent(html_d00d091e52beccbb9577fce93747fa01);\n",
       "            \n",
       "        \n",
       "\n",
       "        marker_d5ec2fdca4d99faac8e0bfc5a65ec706.bindPopup(popup_2659e82686aa79b3c5ff99c74aefc9c5)\n",
       "        ;\n",
       "\n",
       "        \n",
       "    \n",
       "    \n",
       "            var marker_45b5ba409a787832c0bd3dd6aed8c510 = L.marker(\n",
       "                [12.9055682, 77.5455438],\n",
       "                {\n",
       "}\n",
       "            ).addTo(map_70913d925aa1d203d02dc92273d382af);\n",
       "        \n",
       "    \n",
       "        var popup_4af899b77effbc2d26f3be36fecf2f11 = L.popup({\n",
       "  &quot;maxWidth&quot;: &quot;100%&quot;,\n",
       "});\n",
       "\n",
       "        \n",
       "            \n",
       "                var html_55f6c89b05a27c01add7e03d0b5b1090 = $(`&lt;div id=&quot;html_55f6c89b05a27c01add7e03d0b5b1090&quot; style=&quot;width: 100.0%; height: 100.0%;&quot;&gt;&lt;b&gt;📍 Location:&lt;/b&gt; Uttarahalli&lt;br&gt;&lt;b&gt;🍽️ Total Restaurants:&lt;/b&gt; 17&lt;/div&gt;`)[0];\n",
       "                popup_4af899b77effbc2d26f3be36fecf2f11.setContent(html_55f6c89b05a27c01add7e03d0b5b1090);\n",
       "            \n",
       "        \n",
       "\n",
       "        marker_45b5ba409a787832c0bd3dd6aed8c510.bindPopup(popup_4af899b77effbc2d26f3be36fecf2f11)\n",
       "        ;\n",
       "\n",
       "        \n",
       "    \n",
       "    \n",
       "            var marker_de8f8b8eac1e8b2cbf063d44567f9915 = L.marker(\n",
       "                [13.0382184, 77.5919],\n",
       "                {\n",
       "}\n",
       "            ).addTo(map_70913d925aa1d203d02dc92273d382af);\n",
       "        \n",
       "    \n",
       "        var popup_e9cf5d40b223f45f39709ce180a7f26c = L.popup({\n",
       "  &quot;maxWidth&quot;: &quot;100%&quot;,\n",
       "});\n",
       "\n",
       "        \n",
       "            \n",
       "                var html_fe0b1ac1cfc272dd3a43a4022f9eaa25 = $(`&lt;div id=&quot;html_fe0b1ac1cfc272dd3a43a4022f9eaa25&quot; style=&quot;width: 100.0%; height: 100.0%;&quot;&gt;&lt;b&gt;📍 Location:&lt;/b&gt; Hebbal&lt;br&gt;&lt;b&gt;🍽️ Total Restaurants:&lt;/b&gt; 14&lt;/div&gt;`)[0];\n",
       "                popup_e9cf5d40b223f45f39709ce180a7f26c.setContent(html_fe0b1ac1cfc272dd3a43a4022f9eaa25);\n",
       "            \n",
       "        \n",
       "\n",
       "        marker_de8f8b8eac1e8b2cbf063d44567f9915.bindPopup(popup_e9cf5d40b223f45f39709ce180a7f26c)\n",
       "        ;\n",
       "\n",
       "        \n",
       "    \n",
       "    \n",
       "            var marker_d396aece118686e30778ab7e5390f426 = L.marker(\n",
       "                [13.0222347, 77.5671832],\n",
       "                {\n",
       "}\n",
       "            ).addTo(map_70913d925aa1d203d02dc92273d382af);\n",
       "        \n",
       "    \n",
       "        var popup_9d3835cf7223c7a64ae749b30b3d51d9 = L.popup({\n",
       "  &quot;maxWidth&quot;: &quot;100%&quot;,\n",
       "});\n",
       "\n",
       "        \n",
       "            \n",
       "                var html_703b01f324efac13e7dd73595fe7cf29 = $(`&lt;div id=&quot;html_703b01f324efac13e7dd73595fe7cf29&quot; style=&quot;width: 100.0%; height: 100.0%;&quot;&gt;&lt;b&gt;📍 Location:&lt;/b&gt; North Bangalore&lt;br&gt;&lt;b&gt;🍽️ Total Restaurants:&lt;/b&gt; 14&lt;/div&gt;`)[0];\n",
       "                popup_9d3835cf7223c7a64ae749b30b3d51d9.setContent(html_703b01f324efac13e7dd73595fe7cf29);\n",
       "            \n",
       "        \n",
       "\n",
       "        marker_d396aece118686e30778ab7e5390f426.bindPopup(popup_9d3835cf7223c7a64ae749b30b3d51d9)\n",
       "        ;\n",
       "\n",
       "        \n",
       "    \n",
       "    \n",
       "            var marker_71a2d354d06b5f9e7237efbf7719a627 = L.marker(\n",
       "                [12.9176571, 77.4837568],\n",
       "                {\n",
       "}\n",
       "            ).addTo(map_70913d925aa1d203d02dc92273d382af);\n",
       "        \n",
       "    \n",
       "        var popup_fd3425143c624baf5ec301b77c3a0272 = L.popup({\n",
       "  &quot;maxWidth&quot;: &quot;100%&quot;,\n",
       "});\n",
       "\n",
       "        \n",
       "            \n",
       "                var html_ffc350741e72c971e6c87b9f9ef72b59 = $(`&lt;div id=&quot;html_ffc350741e72c971e6c87b9f9ef72b59&quot; style=&quot;width: 100.0%; height: 100.0%;&quot;&gt;&lt;b&gt;📍 Location:&lt;/b&gt; Kengeri&lt;br&gt;&lt;b&gt;🍽️ Total Restaurants:&lt;/b&gt; 9&lt;/div&gt;`)[0];\n",
       "                popup_fd3425143c624baf5ec301b77c3a0272.setContent(html_ffc350741e72c971e6c87b9f9ef72b59);\n",
       "            \n",
       "        \n",
       "\n",
       "        marker_71a2d354d06b5f9e7237efbf7719a627.bindPopup(popup_fd3425143c624baf5ec301b77c3a0272)\n",
       "        ;\n",
       "\n",
       "        \n",
       "    \n",
       "    \n",
       "            var marker_06a1d48c08a6c29627ea6d4622a2b483 = L.marker(\n",
       "                [12.9651215, 77.5090098],\n",
       "                {\n",
       "}\n",
       "            ).addTo(map_70913d925aa1d203d02dc92273d382af);\n",
       "        \n",
       "    \n",
       "        var popup_7e370c6b897a89af37d2b2e3485fc62d = L.popup({\n",
       "  &quot;maxWidth&quot;: &quot;100%&quot;,\n",
       "});\n",
       "\n",
       "        \n",
       "            \n",
       "                var html_7aafab428ce8dc9673e79fe7413c4576 = $(`&lt;div id=&quot;html_7aafab428ce8dc9673e79fe7413c4576&quot; style=&quot;width: 100.0%; height: 100.0%;&quot;&gt;&lt;b&gt;📍 Location:&lt;/b&gt; Nagarbhavi&lt;br&gt;&lt;b&gt;🍽️ Total Restaurants:&lt;/b&gt; 9&lt;/div&gt;`)[0];\n",
       "                popup_7e370c6b897a89af37d2b2e3485fc62d.setContent(html_7aafab428ce8dc9673e79fe7413c4576);\n",
       "            \n",
       "        \n",
       "\n",
       "        marker_06a1d48c08a6c29627ea6d4622a2b483.bindPopup(popup_7e370c6b897a89af37d2b2e3485fc62d)\n",
       "        ;\n",
       "\n",
       "        \n",
       "    \n",
       "    \n",
       "            var marker_c38318dff7d1a36c87a8e629b45d44f2 = L.marker(\n",
       "                [12.9730087, 77.5804711],\n",
       "                {\n",
       "}\n",
       "            ).addTo(map_70913d925aa1d203d02dc92273d382af);\n",
       "        \n",
       "    \n",
       "        var popup_e5c33d9976a08e700813f350dd85d949 = L.popup({\n",
       "  &quot;maxWidth&quot;: &quot;100%&quot;,\n",
       "});\n",
       "\n",
       "        \n",
       "            \n",
       "                var html_edd5709022c71afcc43ad2a0f68536cb = $(`&lt;div id=&quot;html_edd5709022c71afcc43ad2a0f68536cb&quot; style=&quot;width: 100.0%; height: 100.0%;&quot;&gt;&lt;b&gt;📍 Location:&lt;/b&gt; Central Bangalore&lt;br&gt;&lt;b&gt;🍽️ Total Restaurants:&lt;/b&gt; 8&lt;/div&gt;`)[0];\n",
       "                popup_e5c33d9976a08e700813f350dd85d949.setContent(html_edd5709022c71afcc43ad2a0f68536cb);\n",
       "            \n",
       "        \n",
       "\n",
       "        marker_c38318dff7d1a36c87a8e629b45d44f2.bindPopup(popup_e5c33d9976a08e700813f350dd85d949)\n",
       "        ;\n",
       "\n",
       "        \n",
       "    \n",
       "    \n",
       "            var marker_9143af201f3d91b1f3b5d4a3111e8b54 = L.marker(\n",
       "                [12.9529035, 77.5158003],\n",
       "                {\n",
       "}\n",
       "            ).addTo(map_70913d925aa1d203d02dc92273d382af);\n",
       "        \n",
       "    \n",
       "        var popup_05f2296ae8ee079e9f32702743598120 = L.popup({\n",
       "  &quot;maxWidth&quot;: &quot;100%&quot;,\n",
       "});\n",
       "\n",
       "        \n",
       "            \n",
       "                var html_a60e338492938c0802fc217af7e499e7 = $(`&lt;div id=&quot;html_a60e338492938c0802fc217af7e499e7&quot; style=&quot;width: 100.0%; height: 100.0%;&quot;&gt;&lt;b&gt;📍 Location:&lt;/b&gt; West Bangalore&lt;br&gt;&lt;b&gt;🍽️ Total Restaurants:&lt;/b&gt; 6&lt;/div&gt;`)[0];\n",
       "                popup_05f2296ae8ee079e9f32702743598120.setContent(html_a60e338492938c0802fc217af7e499e7);\n",
       "            \n",
       "        \n",
       "\n",
       "        marker_9143af201f3d91b1f3b5d4a3111e8b54.bindPopup(popup_05f2296ae8ee079e9f32702743598120)\n",
       "        ;\n",
       "\n",
       "        \n",
       "    \n",
       "    \n",
       "            var marker_103da34daa6052d2df97e461881c01bd = L.marker(\n",
       "                [13.1006982, 77.5963454],\n",
       "                {\n",
       "}\n",
       "            ).addTo(map_70913d925aa1d203d02dc92273d382af);\n",
       "        \n",
       "    \n",
       "        var popup_304c52e72f94709f373dd60e8f3b8488 = L.popup({\n",
       "  &quot;maxWidth&quot;: &quot;100%&quot;,\n",
       "});\n",
       "\n",
       "        \n",
       "            \n",
       "                var html_a3f7ae27a499abe6f19e262acaa0ee89 = $(`&lt;div id=&quot;html_a3f7ae27a499abe6f19e262acaa0ee89&quot; style=&quot;width: 100.0%; height: 100.0%;&quot;&gt;&lt;b&gt;📍 Location:&lt;/b&gt; Yelahanka&lt;br&gt;&lt;b&gt;🍽️ Total Restaurants:&lt;/b&gt; 6&lt;/div&gt;`)[0];\n",
       "                popup_304c52e72f94709f373dd60e8f3b8488.setContent(html_a3f7ae27a499abe6f19e262acaa0ee89);\n",
       "            \n",
       "        \n",
       "\n",
       "        marker_103da34daa6052d2df97e461881c01bd.bindPopup(popup_304c52e72f94709f373dd60e8f3b8488)\n",
       "        ;\n",
       "\n",
       "        \n",
       "    \n",
       "    \n",
       "            var marker_254447330c6424f49480380c0f04fe6b = L.marker(\n",
       "                [13.0784743, 77.6068938],\n",
       "                {\n",
       "}\n",
       "            ).addTo(map_70913d925aa1d203d02dc92273d382af);\n",
       "        \n",
       "    \n",
       "        var popup_e00ec593b327e748e8d54917d5f44d44 = L.popup({\n",
       "  &quot;maxWidth&quot;: &quot;100%&quot;,\n",
       "});\n",
       "\n",
       "        \n",
       "            \n",
       "                var html_856283d87a6e3e5f835f585a316a3426 = $(`&lt;div id=&quot;html_856283d87a6e3e5f835f585a316a3426&quot; style=&quot;width: 100.0%; height: 100.0%;&quot;&gt;&lt;b&gt;📍 Location:&lt;/b&gt; Jakkur&lt;br&gt;&lt;b&gt;🍽️ Total Restaurants:&lt;/b&gt; 3&lt;/div&gt;`)[0];\n",
       "                popup_e00ec593b327e748e8d54917d5f44d44.setContent(html_856283d87a6e3e5f835f585a316a3426);\n",
       "            \n",
       "        \n",
       "\n",
       "        marker_254447330c6424f49480380c0f04fe6b.bindPopup(popup_e00ec593b327e748e8d54917d5f44d44)\n",
       "        ;\n",
       "\n",
       "        \n",
       "    \n",
       "    \n",
       "            var marker_118b853eda6cf8fec36b724919fd0bc3 = L.marker(\n",
       "                [12.9274413, 77.5155224],\n",
       "                {\n",
       "}\n",
       "            ).addTo(map_70913d925aa1d203d02dc92273d382af);\n",
       "        \n",
       "    \n",
       "        var popup_ded307a52ffdad50127067c24e44441b = L.popup({\n",
       "  &quot;maxWidth&quot;: &quot;100%&quot;,\n",
       "});\n",
       "\n",
       "        \n",
       "            \n",
       "                var html_5663cfc419c2aac867424a1e4ca67107 = $(`&lt;div id=&quot;html_5663cfc419c2aac867424a1e4ca67107&quot; style=&quot;width: 100.0%; height: 100.0%;&quot;&gt;&lt;b&gt;📍 Location:&lt;/b&gt; Rajarajeshwari Nagar&lt;br&gt;&lt;b&gt;🍽️ Total Restaurants:&lt;/b&gt; 2&lt;/div&gt;`)[0];\n",
       "                popup_ded307a52ffdad50127067c24e44441b.setContent(html_5663cfc419c2aac867424a1e4ca67107);\n",
       "            \n",
       "        \n",
       "\n",
       "        marker_118b853eda6cf8fec36b724919fd0bc3.bindPopup(popup_ded307a52ffdad50127067c24e44441b)\n",
       "        ;\n",
       "\n",
       "        \n",
       "    \n",
       "    \n",
       "            var marker_33b0241468eadbb99cfbf56c4e9ceb20 = L.marker(\n",
       "                [13.0329814, 77.5331801],\n",
       "                {\n",
       "}\n",
       "            ).addTo(map_70913d925aa1d203d02dc92273d382af);\n",
       "        \n",
       "    \n",
       "        var popup_29736e49001344562da773badc8d4733 = L.popup({\n",
       "  &quot;maxWidth&quot;: &quot;100%&quot;,\n",
       "});\n",
       "\n",
       "        \n",
       "            \n",
       "                var html_f46f1459104e4e92ac8d59aba924104d = $(`&lt;div id=&quot;html_f46f1459104e4e92ac8d59aba924104d&quot; style=&quot;width: 100.0%; height: 100.0%;&quot;&gt;&lt;b&gt;📍 Location:&lt;/b&gt; Peenya&lt;br&gt;&lt;b&gt;🍽️ Total Restaurants:&lt;/b&gt; 1&lt;/div&gt;`)[0];\n",
       "                popup_29736e49001344562da773badc8d4733.setContent(html_f46f1459104e4e92ac8d59aba924104d);\n",
       "            \n",
       "        \n",
       "\n",
       "        marker_33b0241468eadbb99cfbf56c4e9ceb20.bindPopup(popup_29736e49001344562da773badc8d4733)\n",
       "        ;\n",
       "\n",
       "        \n",
       "    \n",
       "&lt;/script&gt;\n",
       "&lt;/html&gt;\" style=\"position:absolute;width:100%;height:100%;left:0;top:0;border:none !important;\" allowfullscreen webkitallowfullscreen mozallowfullscreen></iframe></div></div>"
      ],
      "text/plain": [
       "<folium.folium.Map at 0x29a7fd971d0>"
      ]
     },
     "execution_count": 95,
     "metadata": {},
     "output_type": "execute_result"
    }
   ],
   "source": [
    "m"
   ]
  },
  {
   "cell_type": "code",
   "execution_count": null,
   "id": "8ce63491",
   "metadata": {},
   "outputs": [],
   "source": []
  },
  {
   "cell_type": "code",
   "execution_count": null,
   "id": "1ad0359a",
   "metadata": {},
   "outputs": [],
   "source": [
    "#### Now, here's how you can extend this analysis and make it more insightful. \n",
    "    Category-based Analysis\n",
    "        Color markers by restaurant type, rating, or price level.\n",
    "\n",
    "        # Example: color by rating\n",
    "        color = \"green\" if rating > 4.5 else \"orange\" if rating > 3.5 else \"red\"\n",
    "        folium.Marker(..., icon=folium.Icon(color=color)).add_to(map)\n",
    "\n",
    "\n",
    "\n",
    "    Interactive Filters (with Streamlit or Dash)\n",
    "        Create a dashboard where users can:\n",
    "\n",
    "        Select area\n",
    "        Filter by cuisine or price\n",
    "        View number of restaurants dynamically\n",
    "    \n",
    "    \n",
    "    Service Area / Buffer Zone Analysis\n",
    "        Use libraries like shapely or geopandas to draw buffer circles (e.g., 1km around top restaurant zones)."
   ]
  },
  {
   "cell_type": "code",
   "execution_count": null,
   "id": "539f7d55",
   "metadata": {},
   "outputs": [],
   "source": []
  },
  {
   "cell_type": "code",
   "execution_count": null,
   "id": "bcfe0041",
   "metadata": {},
   "outputs": [],
   "source": []
  },
  {
   "cell_type": "code",
   "execution_count": null,
   "id": "266a92ee",
   "metadata": {},
   "outputs": [],
   "source": []
  },
  {
   "cell_type": "code",
   "execution_count": null,
   "id": "e1e1a717",
   "metadata": {},
   "outputs": [],
   "source": []
  },
  {
   "cell_type": "code",
   "execution_count": null,
   "id": "b0567156",
   "metadata": {},
   "outputs": [],
   "source": [
    "1"
   ]
  },
  {
   "cell_type": "code",
   "execution_count": null,
   "id": "ea0b403b",
   "metadata": {},
   "outputs": [],
   "source": []
  },
  {
   "cell_type": "markdown",
   "id": "1b386374",
   "metadata": {},
   "source": [
    "## 8.. Data cleaning in rate !\n",
    "        In order to Analyse :\n",
    "        Which are the highest rated restaurant ?\n",
    "        where are the highest restaurants situated in Bengaluru ?\n",
    "        \n",
    "        In all above tasks , u will notice that \"rate\" is a important feature  , ie first we need to clean 'rate' feature .."
   ]
  },
  {
   "cell_type": "code",
   "execution_count": 96,
   "id": "98052dde",
   "metadata": {},
   "outputs": [
    {
     "data": {
      "text/html": [
       "<div>\n",
       "<style scoped>\n",
       "    .dataframe tbody tr th:only-of-type {\n",
       "        vertical-align: middle;\n",
       "    }\n",
       "\n",
       "    .dataframe tbody tr th {\n",
       "        vertical-align: top;\n",
       "    }\n",
       "\n",
       "    .dataframe thead th {\n",
       "        text-align: right;\n",
       "    }\n",
       "</style>\n",
       "<table border=\"1\" class=\"dataframe\">\n",
       "  <thead>\n",
       "    <tr style=\"text-align: right;\">\n",
       "      <th></th>\n",
       "      <th>url</th>\n",
       "      <th>address</th>\n",
       "      <th>name</th>\n",
       "      <th>online_order</th>\n",
       "      <th>book_table</th>\n",
       "      <th>rate</th>\n",
       "      <th>votes</th>\n",
       "      <th>phone</th>\n",
       "      <th>location</th>\n",
       "      <th>rest_type</th>\n",
       "      <th>dish_liked</th>\n",
       "      <th>cuisines</th>\n",
       "      <th>approx_cost(for two people)</th>\n",
       "      <th>reviews_list</th>\n",
       "      <th>menu_item</th>\n",
       "      <th>listed_in(type)</th>\n",
       "      <th>listed_in(city)</th>\n",
       "    </tr>\n",
       "  </thead>\n",
       "  <tbody>\n",
       "    <tr>\n",
       "      <th>0</th>\n",
       "      <td>https://www.zomato.com/bangalore/jalsa-banasha...</td>\n",
       "      <td>942, 21st Main Road, 2nd Stage, Banashankari, ...</td>\n",
       "      <td>Jalsa</td>\n",
       "      <td>Yes</td>\n",
       "      <td>Yes</td>\n",
       "      <td>4.1/5</td>\n",
       "      <td>775</td>\n",
       "      <td>080 42297555\\r\\n+91 9743772233</td>\n",
       "      <td>Banashankari , Bangalore , Karnataka , India</td>\n",
       "      <td>Casual Dining</td>\n",
       "      <td>Pasta, Lunch Buffet, Masala Papad, Paneer Laja...</td>\n",
       "      <td>North Indian, Mughlai, Chinese</td>\n",
       "      <td>800</td>\n",
       "      <td>[('Rated 4.0', 'RATED\\n  A beautiful place to ...</td>\n",
       "      <td>[]</td>\n",
       "      <td>Buffet</td>\n",
       "      <td>Banashankari</td>\n",
       "    </tr>\n",
       "    <tr>\n",
       "      <th>1</th>\n",
       "      <td>https://www.zomato.com/bangalore/spice-elephan...</td>\n",
       "      <td>2nd Floor, 80 Feet Road, Near Big Bazaar, 6th ...</td>\n",
       "      <td>Spice Elephant</td>\n",
       "      <td>Yes</td>\n",
       "      <td>No</td>\n",
       "      <td>4.1/5</td>\n",
       "      <td>787</td>\n",
       "      <td>080 41714161</td>\n",
       "      <td>Banashankari , Bangalore , Karnataka , India</td>\n",
       "      <td>Casual Dining</td>\n",
       "      <td>Momos, Lunch Buffet, Chocolate Nirvana, Thai G...</td>\n",
       "      <td>Chinese, North Indian, Thai</td>\n",
       "      <td>800</td>\n",
       "      <td>[('Rated 4.0', 'RATED\\n  Had been here for din...</td>\n",
       "      <td>[]</td>\n",
       "      <td>Buffet</td>\n",
       "      <td>Banashankari</td>\n",
       "    </tr>\n",
       "    <tr>\n",
       "      <th>2</th>\n",
       "      <td>https://www.zomato.com/SanchurroBangalore?cont...</td>\n",
       "      <td>1112, Next to KIMS Medical College, 17th Cross...</td>\n",
       "      <td>San Churro Cafe</td>\n",
       "      <td>Yes</td>\n",
       "      <td>No</td>\n",
       "      <td>3.8/5</td>\n",
       "      <td>918</td>\n",
       "      <td>+91 9663487993</td>\n",
       "      <td>Banashankari , Bangalore , Karnataka , India</td>\n",
       "      <td>Cafe, Casual Dining</td>\n",
       "      <td>Churros, Cannelloni, Minestrone Soup, Hot Choc...</td>\n",
       "      <td>Cafe, Mexican, Italian</td>\n",
       "      <td>800</td>\n",
       "      <td>[('Rated 3.0', \"RATED\\n  Ambience is not that ...</td>\n",
       "      <td>[]</td>\n",
       "      <td>Buffet</td>\n",
       "      <td>Banashankari</td>\n",
       "    </tr>\n",
       "  </tbody>\n",
       "</table>\n",
       "</div>"
      ],
      "text/plain": [
       "                                                 url  \\\n",
       "0  https://www.zomato.com/bangalore/jalsa-banasha...   \n",
       "1  https://www.zomato.com/bangalore/spice-elephan...   \n",
       "2  https://www.zomato.com/SanchurroBangalore?cont...   \n",
       "\n",
       "                                             address             name  \\\n",
       "0  942, 21st Main Road, 2nd Stage, Banashankari, ...            Jalsa   \n",
       "1  2nd Floor, 80 Feet Road, Near Big Bazaar, 6th ...   Spice Elephant   \n",
       "2  1112, Next to KIMS Medical College, 17th Cross...  San Churro Cafe   \n",
       "\n",
       "  online_order book_table   rate  votes                           phone  \\\n",
       "0          Yes        Yes  4.1/5    775  080 42297555\\r\\n+91 9743772233   \n",
       "1          Yes         No  4.1/5    787                    080 41714161   \n",
       "2          Yes         No  3.8/5    918                  +91 9663487993   \n",
       "\n",
       "                                       location            rest_type  \\\n",
       "0  Banashankari , Bangalore , Karnataka , India        Casual Dining   \n",
       "1  Banashankari , Bangalore , Karnataka , India        Casual Dining   \n",
       "2  Banashankari , Bangalore , Karnataka , India  Cafe, Casual Dining   \n",
       "\n",
       "                                          dish_liked  \\\n",
       "0  Pasta, Lunch Buffet, Masala Papad, Paneer Laja...   \n",
       "1  Momos, Lunch Buffet, Chocolate Nirvana, Thai G...   \n",
       "2  Churros, Cannelloni, Minestrone Soup, Hot Choc...   \n",
       "\n",
       "                         cuisines approx_cost(for two people)  \\\n",
       "0  North Indian, Mughlai, Chinese                         800   \n",
       "1     Chinese, North Indian, Thai                         800   \n",
       "2          Cafe, Mexican, Italian                         800   \n",
       "\n",
       "                                        reviews_list menu_item  \\\n",
       "0  [('Rated 4.0', 'RATED\\n  A beautiful place to ...        []   \n",
       "1  [('Rated 4.0', 'RATED\\n  Had been here for din...        []   \n",
       "2  [('Rated 3.0', \"RATED\\n  Ambience is not that ...        []   \n",
       "\n",
       "  listed_in(type) listed_in(city)  \n",
       "0          Buffet    Banashankari  \n",
       "1          Buffet    Banashankari  \n",
       "2          Buffet    Banashankari  "
      ]
     },
     "execution_count": 96,
     "metadata": {},
     "output_type": "execute_result"
    }
   ],
   "source": [
    "df.head(3)"
   ]
  },
  {
   "cell_type": "code",
   "execution_count": 97,
   "id": "2e9c6ceb",
   "metadata": {},
   "outputs": [
    {
     "data": {
      "text/plain": [
       "0         4.1/5\n",
       "1         4.1/5\n",
       "2         3.8/5\n",
       "3         3.7/5\n",
       "4         3.8/5\n",
       "          ...  \n",
       "51712    3.6 /5\n",
       "51713       NaN\n",
       "51714       NaN\n",
       "51715    4.3 /5\n",
       "51716    3.4 /5\n",
       "Name: rate, Length: 51696, dtype: object"
      ]
     },
     "execution_count": 97,
     "metadata": {},
     "output_type": "execute_result"
    }
   ],
   "source": [
    "df['rate']"
   ]
  },
  {
   "cell_type": "code",
   "execution_count": 98,
   "id": "8d813340",
   "metadata": {},
   "outputs": [
    {
     "data": {
      "text/plain": [
       "array(['4.1/5', '3.8/5', '3.7/5', '3.6/5', '4.6/5', '4.0/5', '4.2/5',\n",
       "       '3.9/5', '3.1/5', '3.0/5', '3.2/5', '3.3/5', '2.8/5', '4.4/5',\n",
       "       '4.3/5', 'NEW', '2.9/5', '3.5/5', nan, '2.6/5', '3.8 /5', '3.4/5',\n",
       "       '4.5/5', '2.5/5', '2.7/5', '4.7/5', '2.4/5', '2.2/5', '2.3/5',\n",
       "       '3.4 /5', '-', '3.6 /5', '4.8/5', '3.9 /5', '4.2 /5', '4.0 /5',\n",
       "       '4.1 /5', '3.7 /5', '3.1 /5', '2.9 /5', '3.3 /5', '2.8 /5',\n",
       "       '3.5 /5', '2.7 /5', '2.5 /5', '3.2 /5', '2.6 /5', '4.5 /5',\n",
       "       '4.3 /5', '4.4 /5', '4.9/5', '2.1/5', '2.0/5', '1.8/5', '4.6 /5',\n",
       "       '4.9 /5', '3.0 /5', '4.8 /5', '2.3 /5', '4.7 /5', '2.4 /5',\n",
       "       '2.1 /5', '2.2 /5', '2.0 /5', '1.8 /5'], dtype=object)"
      ]
     },
     "execution_count": 98,
     "metadata": {},
     "output_type": "execute_result"
    }
   ],
   "source": [
    "df['rate'].unique()"
   ]
  },
  {
   "cell_type": "code",
   "execution_count": 99,
   "id": "fb2b1251",
   "metadata": {},
   "outputs": [],
   "source": [
    "### now it needs cleaning.."
   ]
  },
  {
   "cell_type": "code",
   "execution_count": null,
   "id": "2bedeaae",
   "metadata": {},
   "outputs": [],
   "source": []
  },
  {
   "cell_type": "code",
   "execution_count": 100,
   "id": "65e6bad7",
   "metadata": {},
   "outputs": [
    {
     "data": {
      "text/plain": [
       "7754"
      ]
     },
     "execution_count": 100,
     "metadata": {},
     "output_type": "execute_result"
    }
   ],
   "source": [
    "df['rate'].isnull().sum()"
   ]
  },
  {
   "cell_type": "code",
   "execution_count": 101,
   "id": "06b24289",
   "metadata": {},
   "outputs": [
    {
     "data": {
      "text/plain": [
       "14.999226245744351"
      ]
     },
     "execution_count": 101,
     "metadata": {},
     "output_type": "execute_result"
    }
   ],
   "source": [
    "df['rate'].isnull().sum()/len(df)*100 ## ie approximately 15% of your rating belongs to missing values.."
   ]
  },
  {
   "cell_type": "code",
   "execution_count": null,
   "id": "cd13eb0c",
   "metadata": {},
   "outputs": [],
   "source": []
  },
  {
   "cell_type": "code",
   "execution_count": 102,
   "id": "8a1832f5",
   "metadata": {},
   "outputs": [],
   "source": [
    "df.dropna(subset = ['rate'] , inplace = True)"
   ]
  },
  {
   "cell_type": "code",
   "execution_count": 103,
   "id": "1f089815",
   "metadata": {},
   "outputs": [
    {
     "data": {
      "text/plain": [
       "0"
      ]
     },
     "execution_count": 103,
     "metadata": {},
     "output_type": "execute_result"
    }
   ],
   "source": [
    "df['rate'].isnull().sum()"
   ]
  },
  {
   "cell_type": "code",
   "execution_count": null,
   "id": "76d76876",
   "metadata": {},
   "outputs": [],
   "source": []
  },
  {
   "cell_type": "code",
   "execution_count": 104,
   "id": "0fb90860",
   "metadata": {},
   "outputs": [
    {
     "data": {
      "text/plain": [
       "array(['4.1/5', '3.8/5', '3.7/5', '3.6/5', '4.6/5', '4.0/5', '4.2/5',\n",
       "       '3.9/5', '3.1/5', '3.0/5', '3.2/5', '3.3/5', '2.8/5', '4.4/5',\n",
       "       '4.3/5', 'NEW', '2.9/5', '3.5/5', '2.6/5', '3.8 /5', '3.4/5',\n",
       "       '4.5/5', '2.5/5', '2.7/5', '4.7/5', '2.4/5', '2.2/5', '2.3/5',\n",
       "       '3.4 /5', '-', '3.6 /5', '4.8/5', '3.9 /5', '4.2 /5', '4.0 /5',\n",
       "       '4.1 /5', '3.7 /5', '3.1 /5', '2.9 /5', '3.3 /5', '2.8 /5',\n",
       "       '3.5 /5', '2.7 /5', '2.5 /5', '3.2 /5', '2.6 /5', '4.5 /5',\n",
       "       '4.3 /5', '4.4 /5', '4.9/5', '2.1/5', '2.0/5', '1.8/5', '4.6 /5',\n",
       "       '4.9 /5', '3.0 /5', '4.8 /5', '2.3 /5', '4.7 /5', '2.4 /5',\n",
       "       '2.1 /5', '2.2 /5', '2.0 /5', '1.8 /5'], dtype=object)"
      ]
     },
     "execution_count": 104,
     "metadata": {},
     "output_type": "execute_result"
    }
   ],
   "source": [
    "df['rate'].unique()"
   ]
  },
  {
   "cell_type": "code",
   "execution_count": 105,
   "id": "af621a68",
   "metadata": {},
   "outputs": [],
   "source": [
    "df.replace('NEW' , '0' , inplace=True)\n",
    "df.replace('-' , '0' , inplace=True)\n",
    "\n",
    "## Replacing 'NEW' and '-' with '0' is a domain-specific decision.\n",
    "## In real-world , Always consult a domain expert or business analyst before making such replacements\n",
    "### especially in production systems."
   ]
  },
  {
   "cell_type": "code",
   "execution_count": 106,
   "id": "0ac7a3c2",
   "metadata": {},
   "outputs": [
    {
     "data": {
      "text/plain": [
       "array(['4.1/5', '3.8/5', '3.7/5', '3.6/5', '4.6/5', '4.0/5', '4.2/5',\n",
       "       '3.9/5', '3.1/5', '3.0/5', '3.2/5', '3.3/5', '2.8/5', '4.4/5',\n",
       "       '4.3/5', '0', '2.9/5', '3.5/5', '2.6/5', '3.8 /5', '3.4/5',\n",
       "       '4.5/5', '2.5/5', '2.7/5', '4.7/5', '2.4/5', '2.2/5', '2.3/5',\n",
       "       '3.4 /5', '3.6 /5', '4.8/5', '3.9 /5', '4.2 /5', '4.0 /5',\n",
       "       '4.1 /5', '3.7 /5', '3.1 /5', '2.9 /5', '3.3 /5', '2.8 /5',\n",
       "       '3.5 /5', '2.7 /5', '2.5 /5', '3.2 /5', '2.6 /5', '4.5 /5',\n",
       "       '4.3 /5', '4.4 /5', '4.9/5', '2.1/5', '2.0/5', '1.8/5', '4.6 /5',\n",
       "       '4.9 /5', '3.0 /5', '4.8 /5', '2.3 /5', '4.7 /5', '2.4 /5',\n",
       "       '2.1 /5', '2.2 /5', '2.0 /5', '1.8 /5'], dtype=object)"
      ]
     },
     "execution_count": 106,
     "metadata": {},
     "output_type": "execute_result"
    }
   ],
   "source": [
    "df['rate'].unique()"
   ]
  },
  {
   "cell_type": "code",
   "execution_count": null,
   "id": "df10bb5a",
   "metadata": {},
   "outputs": [],
   "source": []
  },
  {
   "cell_type": "code",
   "execution_count": 107,
   "id": "027c0530",
   "metadata": {},
   "outputs": [
    {
     "data": {
      "text/plain": [
       "str"
      ]
     },
     "execution_count": 107,
     "metadata": {},
     "output_type": "execute_result"
    }
   ],
   "source": [
    "type(df['rate'][0])"
   ]
  },
  {
   "cell_type": "code",
   "execution_count": 108,
   "id": "0ee3704a",
   "metadata": {},
   "outputs": [],
   "source": [
    "### Since every value is a string , ie we have to apply string operations on every rating on \"rating\" columns to clean it..\n",
    "### & if we have to apply string operations on Pnadas series , we have to use .str accessor ( ie df['rate'].str)"
   ]
  },
  {
   "cell_type": "code",
   "execution_count": 109,
   "id": "78892bc9",
   "metadata": {},
   "outputs": [],
   "source": [
    "df['rating'] = df['rate'].str.replace('/5' ,'') ## replace \"/5\" with ''"
   ]
  },
  {
   "cell_type": "code",
   "execution_count": 110,
   "id": "b8ca8af3",
   "metadata": {},
   "outputs": [
    {
     "data": {
      "text/plain": [
       "0         4.1\n",
       "1         4.1\n",
       "2         3.8\n",
       "3         3.7\n",
       "4         3.8\n",
       "         ... \n",
       "51709    3.7 \n",
       "51711    2.5 \n",
       "51712    3.6 \n",
       "51715    4.3 \n",
       "51716    3.4 \n",
       "Name: rating, Length: 43942, dtype: object"
      ]
     },
     "execution_count": 110,
     "metadata": {},
     "output_type": "execute_result"
    }
   ],
   "source": [
    "df['rating']"
   ]
  },
  {
   "cell_type": "code",
   "execution_count": 111,
   "id": "45b159fa",
   "metadata": {},
   "outputs": [],
   "source": [
    "df['rating'] = df['rating'].astype(float) ## converting its data-type into float"
   ]
  },
  {
   "cell_type": "code",
   "execution_count": 112,
   "id": "a2cef0c3",
   "metadata": {},
   "outputs": [
    {
     "data": {
      "text/plain": [
       "dtype('float64')"
      ]
     },
     "execution_count": 112,
     "metadata": {},
     "output_type": "execute_result"
    }
   ],
   "source": [
    "df['rating'].dtype"
   ]
  },
  {
   "cell_type": "code",
   "execution_count": 113,
   "id": "1032e726",
   "metadata": {},
   "outputs": [
    {
     "data": {
      "text/plain": [
       "array([4.1, 3.8, 3.7, 3.6, 4.6, 4. , 4.2, 3.9, 3.1, 3. , 3.2, 3.3, 2.8,\n",
       "       4.4, 4.3, 0. , 2.9, 3.5, 2.6, 3.4, 4.5, 2.5, 2.7, 4.7, 2.4, 2.2,\n",
       "       2.3, 4.8, 4.9, 2.1, 2. , 1.8])"
      ]
     },
     "execution_count": 113,
     "metadata": {},
     "output_type": "execute_result"
    }
   ],
   "source": [
    "df['rating'].unique()"
   ]
  },
  {
   "cell_type": "code",
   "execution_count": null,
   "id": "72e76a87",
   "metadata": {},
   "outputs": [],
   "source": []
  },
  {
   "cell_type": "code",
   "execution_count": 114,
   "id": "d0e9e9c1",
   "metadata": {},
   "outputs": [],
   "source": [
    "# df.to_csv(r\"R:\\All_Datasets\\Spatial_Analysis\\1.. Zomato/processed_Zomato.csv\" , index = False)"
   ]
  },
  {
   "cell_type": "code",
   "execution_count": null,
   "id": "cc90667e",
   "metadata": {},
   "outputs": [],
   "source": []
  },
  {
   "cell_type": "code",
   "execution_count": null,
   "id": "ec868306",
   "metadata": {},
   "outputs": [],
   "source": []
  },
  {
   "cell_type": "code",
   "execution_count": null,
   "id": "5b873681",
   "metadata": {},
   "outputs": [],
   "source": []
  },
  {
   "cell_type": "code",
   "execution_count": null,
   "id": "4f8aeb77",
   "metadata": {},
   "outputs": [],
   "source": []
  },
  {
   "cell_type": "markdown",
   "id": "128fe586",
   "metadata": {},
   "source": [
    "## 9.. Most highest rated restaurants ?"
   ]
  },
  {
   "cell_type": "code",
   "execution_count": 115,
   "id": "4c2097d7",
   "metadata": {},
   "outputs": [
    {
     "data": {
      "text/html": [
       "<div>\n",
       "<style scoped>\n",
       "    .dataframe tbody tr th:only-of-type {\n",
       "        vertical-align: middle;\n",
       "    }\n",
       "\n",
       "    .dataframe tbody tr th {\n",
       "        vertical-align: top;\n",
       "    }\n",
       "\n",
       "    .dataframe thead th {\n",
       "        text-align: right;\n",
       "    }\n",
       "</style>\n",
       "<table border=\"1\" class=\"dataframe\">\n",
       "  <thead>\n",
       "    <tr style=\"text-align: right;\">\n",
       "      <th></th>\n",
       "      <th>url</th>\n",
       "      <th>address</th>\n",
       "      <th>name</th>\n",
       "      <th>online_order</th>\n",
       "      <th>book_table</th>\n",
       "      <th>rate</th>\n",
       "      <th>votes</th>\n",
       "      <th>phone</th>\n",
       "      <th>location</th>\n",
       "      <th>rest_type</th>\n",
       "      <th>dish_liked</th>\n",
       "      <th>cuisines</th>\n",
       "      <th>approx_cost(for two people)</th>\n",
       "      <th>reviews_list</th>\n",
       "      <th>menu_item</th>\n",
       "      <th>listed_in(type)</th>\n",
       "      <th>listed_in(city)</th>\n",
       "      <th>rating</th>\n",
       "    </tr>\n",
       "  </thead>\n",
       "  <tbody>\n",
       "    <tr>\n",
       "      <th>0</th>\n",
       "      <td>https://www.zomato.com/bangalore/jalsa-banasha...</td>\n",
       "      <td>942, 21st Main Road, 2nd Stage, Banashankari, ...</td>\n",
       "      <td>Jalsa</td>\n",
       "      <td>Yes</td>\n",
       "      <td>Yes</td>\n",
       "      <td>4.1/5</td>\n",
       "      <td>775</td>\n",
       "      <td>080 42297555\\r\\n+91 9743772233</td>\n",
       "      <td>Banashankari , Bangalore , Karnataka , India</td>\n",
       "      <td>Casual Dining</td>\n",
       "      <td>Pasta, Lunch Buffet, Masala Papad, Paneer Laja...</td>\n",
       "      <td>North Indian, Mughlai, Chinese</td>\n",
       "      <td>800</td>\n",
       "      <td>[('Rated 4.0', 'RATED\\n  A beautiful place to ...</td>\n",
       "      <td>[]</td>\n",
       "      <td>Buffet</td>\n",
       "      <td>Banashankari</td>\n",
       "      <td>4.1</td>\n",
       "    </tr>\n",
       "    <tr>\n",
       "      <th>1</th>\n",
       "      <td>https://www.zomato.com/bangalore/spice-elephan...</td>\n",
       "      <td>2nd Floor, 80 Feet Road, Near Big Bazaar, 6th ...</td>\n",
       "      <td>Spice Elephant</td>\n",
       "      <td>Yes</td>\n",
       "      <td>No</td>\n",
       "      <td>4.1/5</td>\n",
       "      <td>787</td>\n",
       "      <td>080 41714161</td>\n",
       "      <td>Banashankari , Bangalore , Karnataka , India</td>\n",
       "      <td>Casual Dining</td>\n",
       "      <td>Momos, Lunch Buffet, Chocolate Nirvana, Thai G...</td>\n",
       "      <td>Chinese, North Indian, Thai</td>\n",
       "      <td>800</td>\n",
       "      <td>[('Rated 4.0', 'RATED\\n  Had been here for din...</td>\n",
       "      <td>[]</td>\n",
       "      <td>Buffet</td>\n",
       "      <td>Banashankari</td>\n",
       "      <td>4.1</td>\n",
       "    </tr>\n",
       "    <tr>\n",
       "      <th>2</th>\n",
       "      <td>https://www.zomato.com/SanchurroBangalore?cont...</td>\n",
       "      <td>1112, Next to KIMS Medical College, 17th Cross...</td>\n",
       "      <td>San Churro Cafe</td>\n",
       "      <td>Yes</td>\n",
       "      <td>No</td>\n",
       "      <td>3.8/5</td>\n",
       "      <td>918</td>\n",
       "      <td>+91 9663487993</td>\n",
       "      <td>Banashankari , Bangalore , Karnataka , India</td>\n",
       "      <td>Cafe, Casual Dining</td>\n",
       "      <td>Churros, Cannelloni, Minestrone Soup, Hot Choc...</td>\n",
       "      <td>Cafe, Mexican, Italian</td>\n",
       "      <td>800</td>\n",
       "      <td>[('Rated 3.0', \"RATED\\n  Ambience is not that ...</td>\n",
       "      <td>[]</td>\n",
       "      <td>Buffet</td>\n",
       "      <td>Banashankari</td>\n",
       "      <td>3.8</td>\n",
       "    </tr>\n",
       "    <tr>\n",
       "      <th>3</th>\n",
       "      <td>https://www.zomato.com/bangalore/addhuri-udupi...</td>\n",
       "      <td>1st Floor, Annakuteera, 3rd Stage, Banashankar...</td>\n",
       "      <td>Addhuri Udupi Bhojana</td>\n",
       "      <td>No</td>\n",
       "      <td>No</td>\n",
       "      <td>3.7/5</td>\n",
       "      <td>88</td>\n",
       "      <td>+91 9620009302</td>\n",
       "      <td>Banashankari , Bangalore , Karnataka , India</td>\n",
       "      <td>Quick Bites</td>\n",
       "      <td>Masala Dosa</td>\n",
       "      <td>South Indian, North Indian</td>\n",
       "      <td>300</td>\n",
       "      <td>[('Rated 4.0', \"RATED\\n  Great food and proper...</td>\n",
       "      <td>[]</td>\n",
       "      <td>Buffet</td>\n",
       "      <td>Banashankari</td>\n",
       "      <td>3.7</td>\n",
       "    </tr>\n",
       "  </tbody>\n",
       "</table>\n",
       "</div>"
      ],
      "text/plain": [
       "                                                 url  \\\n",
       "0  https://www.zomato.com/bangalore/jalsa-banasha...   \n",
       "1  https://www.zomato.com/bangalore/spice-elephan...   \n",
       "2  https://www.zomato.com/SanchurroBangalore?cont...   \n",
       "3  https://www.zomato.com/bangalore/addhuri-udupi...   \n",
       "\n",
       "                                             address                   name  \\\n",
       "0  942, 21st Main Road, 2nd Stage, Banashankari, ...                  Jalsa   \n",
       "1  2nd Floor, 80 Feet Road, Near Big Bazaar, 6th ...         Spice Elephant   \n",
       "2  1112, Next to KIMS Medical College, 17th Cross...        San Churro Cafe   \n",
       "3  1st Floor, Annakuteera, 3rd Stage, Banashankar...  Addhuri Udupi Bhojana   \n",
       "\n",
       "  online_order book_table   rate  votes                           phone  \\\n",
       "0          Yes        Yes  4.1/5    775  080 42297555\\r\\n+91 9743772233   \n",
       "1          Yes         No  4.1/5    787                    080 41714161   \n",
       "2          Yes         No  3.8/5    918                  +91 9663487993   \n",
       "3           No         No  3.7/5     88                  +91 9620009302   \n",
       "\n",
       "                                       location            rest_type  \\\n",
       "0  Banashankari , Bangalore , Karnataka , India        Casual Dining   \n",
       "1  Banashankari , Bangalore , Karnataka , India        Casual Dining   \n",
       "2  Banashankari , Bangalore , Karnataka , India  Cafe, Casual Dining   \n",
       "3  Banashankari , Bangalore , Karnataka , India          Quick Bites   \n",
       "\n",
       "                                          dish_liked  \\\n",
       "0  Pasta, Lunch Buffet, Masala Papad, Paneer Laja...   \n",
       "1  Momos, Lunch Buffet, Chocolate Nirvana, Thai G...   \n",
       "2  Churros, Cannelloni, Minestrone Soup, Hot Choc...   \n",
       "3                                        Masala Dosa   \n",
       "\n",
       "                         cuisines approx_cost(for two people)  \\\n",
       "0  North Indian, Mughlai, Chinese                         800   \n",
       "1     Chinese, North Indian, Thai                         800   \n",
       "2          Cafe, Mexican, Italian                         800   \n",
       "3      South Indian, North Indian                         300   \n",
       "\n",
       "                                        reviews_list menu_item  \\\n",
       "0  [('Rated 4.0', 'RATED\\n  A beautiful place to ...        []   \n",
       "1  [('Rated 4.0', 'RATED\\n  Had been here for din...        []   \n",
       "2  [('Rated 3.0', \"RATED\\n  Ambience is not that ...        []   \n",
       "3  [('Rated 4.0', \"RATED\\n  Great food and proper...        []   \n",
       "\n",
       "  listed_in(type) listed_in(city)  rating  \n",
       "0          Buffet    Banashankari     4.1  \n",
       "1          Buffet    Banashankari     4.1  \n",
       "2          Buffet    Banashankari     3.8  \n",
       "3          Buffet    Banashankari     3.7  "
      ]
     },
     "execution_count": 115,
     "metadata": {},
     "output_type": "execute_result"
    }
   ],
   "source": [
    "df.head(4)"
   ]
  },
  {
   "cell_type": "code",
   "execution_count": 116,
   "id": "e8ecba80",
   "metadata": {},
   "outputs": [
    {
     "data": {
      "text/plain": [
       "Index(['url', 'address', 'name', 'online_order', 'book_table', 'rate', 'votes',\n",
       "       'phone', 'location', 'rest_type', 'dish_liked', 'cuisines',\n",
       "       'approx_cost(for two people)', 'reviews_list', 'menu_item',\n",
       "       'listed_in(type)', 'listed_in(city)', 'rating'],\n",
       "      dtype='object')"
      ]
     },
     "execution_count": 116,
     "metadata": {},
     "output_type": "execute_result"
    }
   ],
   "source": [
    "df.columns"
   ]
  },
  {
   "cell_type": "code",
   "execution_count": null,
   "id": "b1bd587e",
   "metadata": {},
   "outputs": [],
   "source": []
  },
  {
   "cell_type": "code",
   "execution_count": 117,
   "id": "c9452392",
   "metadata": {},
   "outputs": [],
   "source": [
    "grp_df = df.groupby(['location'] , as_index=False).agg({'rating' : 'mean' , 'name' : 'size'})\n",
    "\n",
    "## size tells number of restaurants in each location..\n",
    "## More restaurants in an area usually mean it's a popular or commercial zone.."
   ]
  },
  {
   "cell_type": "code",
   "execution_count": 161,
   "id": "058521ef",
   "metadata": {},
   "outputs": [],
   "source": [
    "grp_df.columns = ['Name' , 'avg_rating' , 'Total_Restaurant']"
   ]
  },
  {
   "cell_type": "code",
   "execution_count": 162,
   "id": "0be9718b",
   "metadata": {},
   "outputs": [
    {
     "data": {
      "text/html": [
       "<div>\n",
       "<style scoped>\n",
       "    .dataframe tbody tr th:only-of-type {\n",
       "        vertical-align: middle;\n",
       "    }\n",
       "\n",
       "    .dataframe tbody tr th {\n",
       "        vertical-align: top;\n",
       "    }\n",
       "\n",
       "    .dataframe thead th {\n",
       "        text-align: right;\n",
       "    }\n",
       "</style>\n",
       "<table border=\"1\" class=\"dataframe\">\n",
       "  <thead>\n",
       "    <tr style=\"text-align: right;\">\n",
       "      <th></th>\n",
       "      <th>Name</th>\n",
       "      <th>avg_rating</th>\n",
       "      <th>Total_Restaurant</th>\n",
       "    </tr>\n",
       "  </thead>\n",
       "  <tbody>\n",
       "    <tr>\n",
       "      <th>0</th>\n",
       "      <td>BTM , Bangalore , Karnataka , India</td>\n",
       "      <td>3.296128</td>\n",
       "      <td>4261</td>\n",
       "    </tr>\n",
       "    <tr>\n",
       "      <th>1</th>\n",
       "      <td>Banashankari , Bangalore , Karnataka , India</td>\n",
       "      <td>3.373292</td>\n",
       "      <td>805</td>\n",
       "    </tr>\n",
       "    <tr>\n",
       "      <th>2</th>\n",
       "      <td>Banaswadi , Bangalore , Karnataka , India</td>\n",
       "      <td>3.362926</td>\n",
       "      <td>499</td>\n",
       "    </tr>\n",
       "    <tr>\n",
       "      <th>3</th>\n",
       "      <td>Bannerghatta Road , Bangalore , Karnataka , India</td>\n",
       "      <td>3.271677</td>\n",
       "      <td>1324</td>\n",
       "    </tr>\n",
       "    <tr>\n",
       "      <th>4</th>\n",
       "      <td>Basavanagudi , Bangalore , Karnataka , India</td>\n",
       "      <td>3.478185</td>\n",
       "      <td>628</td>\n",
       "    </tr>\n",
       "    <tr>\n",
       "      <th>...</th>\n",
       "      <td>...</td>\n",
       "      <td>...</td>\n",
       "      <td>...</td>\n",
       "    </tr>\n",
       "    <tr>\n",
       "      <th>87</th>\n",
       "      <td>West Bangalore , Bangalore , Karnataka , India</td>\n",
       "      <td>2.020000</td>\n",
       "      <td>5</td>\n",
       "    </tr>\n",
       "    <tr>\n",
       "      <th>88</th>\n",
       "      <td>Whitefield , Bangalore , Karnataka , India</td>\n",
       "      <td>3.384170</td>\n",
       "      <td>1693</td>\n",
       "    </tr>\n",
       "    <tr>\n",
       "      <th>89</th>\n",
       "      <td>Wilson Garden , Bangalore , Karnataka , India</td>\n",
       "      <td>3.257635</td>\n",
       "      <td>203</td>\n",
       "    </tr>\n",
       "    <tr>\n",
       "      <th>90</th>\n",
       "      <td>Yelahanka , Bangalore , Karnataka , India</td>\n",
       "      <td>3.640000</td>\n",
       "      <td>5</td>\n",
       "    </tr>\n",
       "    <tr>\n",
       "      <th>91</th>\n",
       "      <td>Yeshwantpur , Bangalore , Karnataka , India</td>\n",
       "      <td>3.502679</td>\n",
       "      <td>112</td>\n",
       "    </tr>\n",
       "  </tbody>\n",
       "</table>\n",
       "<p>92 rows × 3 columns</p>\n",
       "</div>"
      ],
      "text/plain": [
       "                                                 Name  avg_rating  \\\n",
       "0                 BTM , Bangalore , Karnataka , India    3.296128   \n",
       "1        Banashankari , Bangalore , Karnataka , India    3.373292   \n",
       "2           Banaswadi , Bangalore , Karnataka , India    3.362926   \n",
       "3   Bannerghatta Road , Bangalore , Karnataka , India    3.271677   \n",
       "4        Basavanagudi , Bangalore , Karnataka , India    3.478185   \n",
       "..                                                ...         ...   \n",
       "87     West Bangalore , Bangalore , Karnataka , India    2.020000   \n",
       "88         Whitefield , Bangalore , Karnataka , India    3.384170   \n",
       "89      Wilson Garden , Bangalore , Karnataka , India    3.257635   \n",
       "90          Yelahanka , Bangalore , Karnataka , India    3.640000   \n",
       "91        Yeshwantpur , Bangalore , Karnataka , India    3.502679   \n",
       "\n",
       "    Total_Restaurant  \n",
       "0               4261  \n",
       "1                805  \n",
       "2                499  \n",
       "3               1324  \n",
       "4                628  \n",
       "..               ...  \n",
       "87                 5  \n",
       "88              1693  \n",
       "89               203  \n",
       "90                 5  \n",
       "91               112  \n",
       "\n",
       "[92 rows x 3 columns]"
      ]
     },
     "execution_count": 162,
     "metadata": {},
     "output_type": "execute_result"
    }
   ],
   "source": [
    "grp_df"
   ]
  },
  {
   "cell_type": "code",
   "execution_count": null,
   "id": "f37ec991",
   "metadata": {},
   "outputs": [],
   "source": []
  },
  {
   "cell_type": "code",
   "execution_count": 166,
   "id": "650c8f5e",
   "metadata": {},
   "outputs": [
    {
     "data": {
      "text/html": [
       "<div>\n",
       "<style scoped>\n",
       "    .dataframe tbody tr th:only-of-type {\n",
       "        vertical-align: middle;\n",
       "    }\n",
       "\n",
       "    .dataframe tbody tr th {\n",
       "        vertical-align: top;\n",
       "    }\n",
       "\n",
       "    .dataframe thead th {\n",
       "        text-align: right;\n",
       "    }\n",
       "</style>\n",
       "<table border=\"1\" class=\"dataframe\">\n",
       "  <thead>\n",
       "    <tr style=\"text-align: right;\">\n",
       "      <th></th>\n",
       "      <th>Name</th>\n",
       "      <th>lat</th>\n",
       "      <th>lon</th>\n",
       "    </tr>\n",
       "  </thead>\n",
       "  <tbody>\n",
       "    <tr>\n",
       "      <th>0</th>\n",
       "      <td>Banashankari , Bangalore , Karnataka , India</td>\n",
       "      <td>12.927820</td>\n",
       "      <td>77.556621</td>\n",
       "    </tr>\n",
       "    <tr>\n",
       "      <th>1</th>\n",
       "      <td>Basavanagudi , Bangalore , Karnataka , India</td>\n",
       "      <td>12.941726</td>\n",
       "      <td>77.575502</td>\n",
       "    </tr>\n",
       "    <tr>\n",
       "      <th>2</th>\n",
       "      <td>Mysore Road , Bangalore , Karnataka , India</td>\n",
       "      <td>12.946703</td>\n",
       "      <td>77.530070</td>\n",
       "    </tr>\n",
       "    <tr>\n",
       "      <th>3</th>\n",
       "      <td>Jayanagar , Bangalore , Karnataka , India</td>\n",
       "      <td>12.929273</td>\n",
       "      <td>77.582423</td>\n",
       "    </tr>\n",
       "    <tr>\n",
       "      <th>4</th>\n",
       "      <td>Kumaraswamy Layout , Bangalore , Karnataka , I...</td>\n",
       "      <td>12.906768</td>\n",
       "      <td>77.559502</td>\n",
       "    </tr>\n",
       "    <tr>\n",
       "      <th>...</th>\n",
       "      <td>...</td>\n",
       "      <td>...</td>\n",
       "      <td>...</td>\n",
       "    </tr>\n",
       "    <tr>\n",
       "      <th>88</th>\n",
       "      <td>West Bangalore , Bangalore , Karnataka , India</td>\n",
       "      <td>12.952903</td>\n",
       "      <td>77.515800</td>\n",
       "    </tr>\n",
       "    <tr>\n",
       "      <th>89</th>\n",
       "      <td>Magadi Road , Bangalore , Karnataka , India</td>\n",
       "      <td>12.975608</td>\n",
       "      <td>77.555356</td>\n",
       "    </tr>\n",
       "    <tr>\n",
       "      <th>90</th>\n",
       "      <td>Yelahanka , Bangalore , Karnataka , India</td>\n",
       "      <td>13.100698</td>\n",
       "      <td>77.596345</td>\n",
       "    </tr>\n",
       "    <tr>\n",
       "      <th>91</th>\n",
       "      <td>Sahakara Nagar , Bangalore , Karnataka , India</td>\n",
       "      <td>13.062147</td>\n",
       "      <td>77.580061</td>\n",
       "    </tr>\n",
       "    <tr>\n",
       "      <th>92</th>\n",
       "      <td>Peenya , Bangalore , Karnataka , India</td>\n",
       "      <td>13.032981</td>\n",
       "      <td>77.533180</td>\n",
       "    </tr>\n",
       "  </tbody>\n",
       "</table>\n",
       "<p>93 rows × 3 columns</p>\n",
       "</div>"
      ],
      "text/plain": [
       "                                                 Name        lat        lon\n",
       "0        Banashankari , Bangalore , Karnataka , India  12.927820  77.556621\n",
       "1        Basavanagudi , Bangalore , Karnataka , India  12.941726  77.575502\n",
       "2         Mysore Road , Bangalore , Karnataka , India  12.946703  77.530070\n",
       "3           Jayanagar , Bangalore , Karnataka , India  12.929273  77.582423\n",
       "4   Kumaraswamy Layout , Bangalore , Karnataka , I...  12.906768  77.559502\n",
       "..                                                ...        ...        ...\n",
       "88     West Bangalore , Bangalore , Karnataka , India  12.952903  77.515800\n",
       "89        Magadi Road , Bangalore , Karnataka , India  12.975608  77.555356\n",
       "90          Yelahanka , Bangalore , Karnataka , India  13.100698  77.596345\n",
       "91     Sahakara Nagar , Bangalore , Karnataka , India  13.062147  77.580061\n",
       "92             Peenya , Bangalore , Karnataka , India  13.032981  77.533180\n",
       "\n",
       "[93 rows x 3 columns]"
      ]
     },
     "execution_count": 166,
     "metadata": {},
     "output_type": "execute_result"
    }
   ],
   "source": [
    "rest_loc"
   ]
  },
  {
   "cell_type": "code",
   "execution_count": null,
   "id": "50de2b9d",
   "metadata": {},
   "outputs": [],
   "source": []
  },
  {
   "cell_type": "code",
   "execution_count": 167,
   "id": "16bfc142",
   "metadata": {},
   "outputs": [],
   "source": [
    "### lets merge both the dataframe so that we can get \"latitudes\" & \"Longitudes\" as well !"
   ]
  },
  {
   "cell_type": "code",
   "execution_count": 176,
   "id": "99ecd0f7",
   "metadata": {},
   "outputs": [],
   "source": [
    "Ratings_locations = grp_df.merge(rest_loc , on = 'Name')"
   ]
  },
  {
   "cell_type": "code",
   "execution_count": 177,
   "id": "ec806dfa",
   "metadata": {},
   "outputs": [
    {
     "data": {
      "text/html": [
       "<div>\n",
       "<style scoped>\n",
       "    .dataframe tbody tr th:only-of-type {\n",
       "        vertical-align: middle;\n",
       "    }\n",
       "\n",
       "    .dataframe tbody tr th {\n",
       "        vertical-align: top;\n",
       "    }\n",
       "\n",
       "    .dataframe thead th {\n",
       "        text-align: right;\n",
       "    }\n",
       "</style>\n",
       "<table border=\"1\" class=\"dataframe\">\n",
       "  <thead>\n",
       "    <tr style=\"text-align: right;\">\n",
       "      <th></th>\n",
       "      <th>Name</th>\n",
       "      <th>avg_rating</th>\n",
       "      <th>Total_Restaurant</th>\n",
       "      <th>lat</th>\n",
       "      <th>lon</th>\n",
       "    </tr>\n",
       "  </thead>\n",
       "  <tbody>\n",
       "    <tr>\n",
       "      <th>0</th>\n",
       "      <td>BTM , Bangalore , Karnataka , India</td>\n",
       "      <td>3.296128</td>\n",
       "      <td>4261</td>\n",
       "      <td>12.911276</td>\n",
       "      <td>77.604565</td>\n",
       "    </tr>\n",
       "    <tr>\n",
       "      <th>1</th>\n",
       "      <td>Banashankari , Bangalore , Karnataka , India</td>\n",
       "      <td>3.373292</td>\n",
       "      <td>805</td>\n",
       "      <td>12.927820</td>\n",
       "      <td>77.556621</td>\n",
       "    </tr>\n",
       "    <tr>\n",
       "      <th>2</th>\n",
       "      <td>Banaswadi , Bangalore , Karnataka , India</td>\n",
       "      <td>3.362926</td>\n",
       "      <td>499</td>\n",
       "      <td>13.014162</td>\n",
       "      <td>77.651854</td>\n",
       "    </tr>\n",
       "    <tr>\n",
       "      <th>3</th>\n",
       "      <td>Bannerghatta Road , Bangalore , Karnataka , India</td>\n",
       "      <td>3.271677</td>\n",
       "      <td>1324</td>\n",
       "      <td>12.906074</td>\n",
       "      <td>77.601652</td>\n",
       "    </tr>\n",
       "    <tr>\n",
       "      <th>4</th>\n",
       "      <td>Basavanagudi , Bangalore , Karnataka , India</td>\n",
       "      <td>3.478185</td>\n",
       "      <td>628</td>\n",
       "      <td>12.941726</td>\n",
       "      <td>77.575502</td>\n",
       "    </tr>\n",
       "    <tr>\n",
       "      <th>...</th>\n",
       "      <td>...</td>\n",
       "      <td>...</td>\n",
       "      <td>...</td>\n",
       "      <td>...</td>\n",
       "      <td>...</td>\n",
       "    </tr>\n",
       "    <tr>\n",
       "      <th>87</th>\n",
       "      <td>West Bangalore , Bangalore , Karnataka , India</td>\n",
       "      <td>2.020000</td>\n",
       "      <td>5</td>\n",
       "      <td>12.952903</td>\n",
       "      <td>77.515800</td>\n",
       "    </tr>\n",
       "    <tr>\n",
       "      <th>88</th>\n",
       "      <td>Whitefield , Bangalore , Karnataka , India</td>\n",
       "      <td>3.384170</td>\n",
       "      <td>1693</td>\n",
       "      <td>12.996400</td>\n",
       "      <td>77.761423</td>\n",
       "    </tr>\n",
       "    <tr>\n",
       "      <th>89</th>\n",
       "      <td>Wilson Garden , Bangalore , Karnataka , India</td>\n",
       "      <td>3.257635</td>\n",
       "      <td>203</td>\n",
       "      <td>12.948934</td>\n",
       "      <td>77.596827</td>\n",
       "    </tr>\n",
       "    <tr>\n",
       "      <th>90</th>\n",
       "      <td>Yelahanka , Bangalore , Karnataka , India</td>\n",
       "      <td>3.640000</td>\n",
       "      <td>5</td>\n",
       "      <td>13.100698</td>\n",
       "      <td>77.596345</td>\n",
       "    </tr>\n",
       "    <tr>\n",
       "      <th>91</th>\n",
       "      <td>Yeshwantpur , Bangalore , Karnataka , India</td>\n",
       "      <td>3.502679</td>\n",
       "      <td>112</td>\n",
       "      <td>13.022184</td>\n",
       "      <td>77.553082</td>\n",
       "    </tr>\n",
       "  </tbody>\n",
       "</table>\n",
       "<p>92 rows × 5 columns</p>\n",
       "</div>"
      ],
      "text/plain": [
       "                                                 Name  avg_rating  \\\n",
       "0                 BTM , Bangalore , Karnataka , India    3.296128   \n",
       "1        Banashankari , Bangalore , Karnataka , India    3.373292   \n",
       "2           Banaswadi , Bangalore , Karnataka , India    3.362926   \n",
       "3   Bannerghatta Road , Bangalore , Karnataka , India    3.271677   \n",
       "4        Basavanagudi , Bangalore , Karnataka , India    3.478185   \n",
       "..                                                ...         ...   \n",
       "87     West Bangalore , Bangalore , Karnataka , India    2.020000   \n",
       "88         Whitefield , Bangalore , Karnataka , India    3.384170   \n",
       "89      Wilson Garden , Bangalore , Karnataka , India    3.257635   \n",
       "90          Yelahanka , Bangalore , Karnataka , India    3.640000   \n",
       "91        Yeshwantpur , Bangalore , Karnataka , India    3.502679   \n",
       "\n",
       "    Total_Restaurant        lat        lon  \n",
       "0               4261  12.911276  77.604565  \n",
       "1                805  12.927820  77.556621  \n",
       "2                499  13.014162  77.651854  \n",
       "3               1324  12.906074  77.601652  \n",
       "4                628  12.941726  77.575502  \n",
       "..               ...        ...        ...  \n",
       "87                 5  12.952903  77.515800  \n",
       "88              1693  12.996400  77.761423  \n",
       "89               203  12.948934  77.596827  \n",
       "90                 5  13.100698  77.596345  \n",
       "91               112  13.022184  77.553082  \n",
       "\n",
       "[92 rows x 5 columns]"
      ]
     },
     "execution_count": 177,
     "metadata": {},
     "output_type": "execute_result"
    }
   ],
   "source": [
    "Ratings_locations"
   ]
  },
  {
   "cell_type": "code",
   "execution_count": 178,
   "id": "7664f348",
   "metadata": {},
   "outputs": [
    {
     "data": {
      "text/html": [
       "<div>\n",
       "<style scoped>\n",
       "    .dataframe tbody tr th:only-of-type {\n",
       "        vertical-align: middle;\n",
       "    }\n",
       "\n",
       "    .dataframe tbody tr th {\n",
       "        vertical-align: top;\n",
       "    }\n",
       "\n",
       "    .dataframe thead th {\n",
       "        text-align: right;\n",
       "    }\n",
       "</style>\n",
       "<table border=\"1\" class=\"dataframe\">\n",
       "  <thead>\n",
       "    <tr style=\"text-align: right;\">\n",
       "      <th></th>\n",
       "      <th>Name</th>\n",
       "      <th>avg_rating</th>\n",
       "      <th>Total_Restaurant</th>\n",
       "      <th>lat</th>\n",
       "      <th>lon</th>\n",
       "    </tr>\n",
       "  </thead>\n",
       "  <tbody>\n",
       "    <tr>\n",
       "      <th>50</th>\n",
       "      <td>Lavelle Road , Bangalore , Karnataka , India</td>\n",
       "      <td>4.042886</td>\n",
       "      <td>499</td>\n",
       "      <td>12.972229</td>\n",
       "      <td>77.598666</td>\n",
       "    </tr>\n",
       "    <tr>\n",
       "      <th>80</th>\n",
       "      <td>St. Marks Road , Bangalore , Karnataka , India</td>\n",
       "      <td>4.017201</td>\n",
       "      <td>343</td>\n",
       "      <td>12.975801</td>\n",
       "      <td>77.601692</td>\n",
       "    </tr>\n",
       "    <tr>\n",
       "      <th>42</th>\n",
       "      <td>Koramangala 3rd Block , Bangalore , Karnataka ...</td>\n",
       "      <td>3.978756</td>\n",
       "      <td>193</td>\n",
       "      <td>12.928292</td>\n",
       "      <td>77.625403</td>\n",
       "    </tr>\n",
       "    <tr>\n",
       "      <th>74</th>\n",
       "      <td>Sankey Road , Bangalore , Karnataka , India</td>\n",
       "      <td>3.965385</td>\n",
       "      <td>26</td>\n",
       "      <td>12.995794</td>\n",
       "      <td>77.584779</td>\n",
       "    </tr>\n",
       "    <tr>\n",
       "      <th>12</th>\n",
       "      <td>Church Street , Bangalore , Karnataka , India</td>\n",
       "      <td>3.963091</td>\n",
       "      <td>550</td>\n",
       "      <td>12.974914</td>\n",
       "      <td>77.605247</td>\n",
       "    </tr>\n",
       "    <tr>\n",
       "      <th>...</th>\n",
       "      <td>...</td>\n",
       "      <td>...</td>\n",
       "      <td>...</td>\n",
       "      <td>...</td>\n",
       "      <td>...</td>\n",
       "    </tr>\n",
       "    <tr>\n",
       "      <th>19</th>\n",
       "      <td>Electronic City , Bangalore , Karnataka , India</td>\n",
       "      <td>3.041909</td>\n",
       "      <td>964</td>\n",
       "      <td>12.848760</td>\n",
       "      <td>77.648253</td>\n",
       "    </tr>\n",
       "    <tr>\n",
       "      <th>7</th>\n",
       "      <td>Bommanahalli , Bangalore , Karnataka , India</td>\n",
       "      <td>2.926752</td>\n",
       "      <td>157</td>\n",
       "      <td>12.908945</td>\n",
       "      <td>77.623904</td>\n",
       "    </tr>\n",
       "    <tr>\n",
       "      <th>23</th>\n",
       "      <td>Hebbal , Bangalore , Karnataka , India</td>\n",
       "      <td>2.880000</td>\n",
       "      <td>10</td>\n",
       "      <td>13.038218</td>\n",
       "      <td>77.591900</td>\n",
       "    </tr>\n",
       "    <tr>\n",
       "      <th>60</th>\n",
       "      <td>North Bangalore , Bangalore , Karnataka , India</td>\n",
       "      <td>2.385714</td>\n",
       "      <td>14</td>\n",
       "      <td>13.022235</td>\n",
       "      <td>77.567183</td>\n",
       "    </tr>\n",
       "    <tr>\n",
       "      <th>87</th>\n",
       "      <td>West Bangalore , Bangalore , Karnataka , India</td>\n",
       "      <td>2.020000</td>\n",
       "      <td>5</td>\n",
       "      <td>12.952903</td>\n",
       "      <td>77.515800</td>\n",
       "    </tr>\n",
       "  </tbody>\n",
       "</table>\n",
       "<p>92 rows × 5 columns</p>\n",
       "</div>"
      ],
      "text/plain": [
       "                                                 Name  avg_rating  \\\n",
       "50       Lavelle Road , Bangalore , Karnataka , India    4.042886   \n",
       "80     St. Marks Road , Bangalore , Karnataka , India    4.017201   \n",
       "42  Koramangala 3rd Block , Bangalore , Karnataka ...    3.978756   \n",
       "74        Sankey Road , Bangalore , Karnataka , India    3.965385   \n",
       "12      Church Street , Bangalore , Karnataka , India    3.963091   \n",
       "..                                                ...         ...   \n",
       "19    Electronic City , Bangalore , Karnataka , India    3.041909   \n",
       "7        Bommanahalli , Bangalore , Karnataka , India    2.926752   \n",
       "23             Hebbal , Bangalore , Karnataka , India    2.880000   \n",
       "60    North Bangalore , Bangalore , Karnataka , India    2.385714   \n",
       "87     West Bangalore , Bangalore , Karnataka , India    2.020000   \n",
       "\n",
       "    Total_Restaurant        lat        lon  \n",
       "50               499  12.972229  77.598666  \n",
       "80               343  12.975801  77.601692  \n",
       "42               193  12.928292  77.625403  \n",
       "74                26  12.995794  77.584779  \n",
       "12               550  12.974914  77.605247  \n",
       "..               ...        ...        ...  \n",
       "19               964  12.848760  77.648253  \n",
       "7                157  12.908945  77.623904  \n",
       "23                10  13.038218  77.591900  \n",
       "60                14  13.022235  77.567183  \n",
       "87                 5  12.952903  77.515800  \n",
       "\n",
       "[92 rows x 5 columns]"
      ]
     },
     "execution_count": 178,
     "metadata": {},
     "output_type": "execute_result"
    }
   ],
   "source": [
    "Ratings_locations.sort_values(by = \"avg_rating\" , ascending= False)"
   ]
  },
  {
   "cell_type": "code",
   "execution_count": null,
   "id": "9edfe857",
   "metadata": {},
   "outputs": [],
   "source": []
  },
  {
   "cell_type": "code",
   "execution_count": null,
   "id": "de4f64b5",
   "metadata": {},
   "outputs": [],
   "source": []
  },
  {
   "cell_type": "code",
   "execution_count": null,
   "id": "7fe3233b",
   "metadata": {},
   "outputs": [],
   "source": [
    "### Now u may ask : what is the best plot which I can use !\n",
    "### Note :  Heatmap doesn't give clear insights : ( show in video snapshot)\n",
    "### Here is the bubble map-based plot which is one of the best plot here to make insights !"
   ]
  },
  {
   "cell_type": "code",
   "execution_count": null,
   "id": "87c89fb8",
   "metadata": {},
   "outputs": [],
   "source": [
    "'''\n",
    "\n",
    "Let’s create an interactive bubble map using Plotly where :\n",
    "\n",
    "📍 Each location (lat/lon) represents a restaurant area in Bangalore\n",
    "🔵 Bubble size = total number of restaurants (count)\n",
    "🎨 Bubble color = average rating (avg_rating)\n",
    "🗺️ Base map = \"carto-positron\"\n",
    "\n",
    "'''"
   ]
  },
  {
   "cell_type": "code",
   "execution_count": null,
   "id": "5f13166c",
   "metadata": {},
   "outputs": [],
   "source": [
    "'''\n",
    "\n",
    "px.scatter_mapbox() : create interactive maps with points (scatter plot) on them using Mapbox tiles.\n",
    "Think of it as:\n",
    "map = scatter plot + interactive map background (Mapbox) + hover effects\n",
    "\n",
    "\n",
    "'''"
   ]
  },
  {
   "cell_type": "code",
   "execution_count": 174,
   "id": "0474f65e",
   "metadata": {},
   "outputs": [],
   "source": [
    "import plotly.express as px\n",
    "\n",
    "\n",
    "## Viridis is a color scale (or colormap) used in data visualizations to represent continuous values with varying colors.\n",
    "## ie in colormap , we transitions smoothly from dark purple → blue → green → yellow, like below"
   ]
  },
  {
   "cell_type": "code",
   "execution_count": null,
   "id": "e5e22d28",
   "metadata": {},
   "outputs": [],
   "source": [
    "'''\n",
    "\n",
    "hover_name = 'name'\n",
    "This tells Plotly: 👉 When you hover over a marker, show the location name column as the main title in the tooltip.\n",
    "Example: Location name will be the bold headline..\n",
    "\n",
    "\n",
    "🏷️hover_data = {\n",
    "        \"avg_rating\": True,\n",
    "        'Total_Restaurant': True,\n",
    "        \"lat\": False,\n",
    "        \"lon\": False\n",
    "    }\n",
    "This says , In the hover tooltip, also show these two extra details:\n",
    "avg_rating\n",
    "Total_restaurant\n",
    "\n",
    "\n",
    "Size_max = 30px , ie even the largest marker doesn't exceed a specified size\"30px\" & it Enhances readability of bubbles\n",
    "## 100 restaurants → large marker\n",
    "## 10 restaurants → small marker\n",
    "# Without size_max, the first might dominate the map.\n",
    "# With size_max=30, the largest marker is capped, and the smaller one still remains visible and comparable.\n",
    "\n",
    "\n",
    "\n",
    "\n",
    "mapbox_style=\"carto-positron\" : If u want to see(roads, city) on map , set the map style to Carto Positron (a clean, light-grey map background)..\n",
    "\n",
    "\n",
    "'''"
   ]
  },
  {
   "cell_type": "code",
   "execution_count": 192,
   "id": "b238f414",
   "metadata": {},
   "outputs": [
    {
     "data": {
      "application/vnd.plotly.v1+json": {
       "config": {
        "plotlyServerURL": "https://plot.ly"
       },
       "data": [
        {
         "customdata": [
          [
           3.2961276695611357,
           4261,
           12.9112758,
           77.6045654
          ],
          [
           3.3732919254658387,
           805,
           12.9278196,
           77.556621
          ],
          [
           3.3629258517034066,
           499,
           13.0141618,
           77.6518539
          ],
          [
           3.2716767371601208,
           1324,
           12.9060737,
           77.6016519
          ],
          [
           3.4781847133757964,
           628,
           12.9417261,
           77.5755021
          ],
          [
           3.4455172413793105,
           145,
           12.9911804,
           77.5448918
          ],
          [
           3.3098330241187384,
           1078,
           12.9361208,
           77.6671843
          ],
          [
           2.926751592356688,
           157,
           12.9089453,
           77.6239038
          ],
          [
           3.595848708487085,
           1084,
           12.971609,
           77.6070463
          ],
          [
           3.374698795180723,
           581,
           12.9652094,
           77.717936
          ],
          [
           3.215151515151515,
           66,
           12.9850987,
           77.6631173
          ],
          [
           3.625,
           8,
           12.9730087,
           77.5804711
          ],
          [
           3.9630909090909086,
           550,
           12.9749142,
           77.6052474
          ],
          [
           3.4461538461538463,
           78,
           12.965718,
           77.5762705
          ],
          [
           3.1097087378640778,
           309,
           12.9822423,
           77.608265
          ],
          [
           3.9010526315789473,
           475,
           12.9884255,
           77.5938978
          ],
          [
           3.385547785547786,
           429,
           12.9624669,
           77.6381958
          ],
          [
           3.243333333333333,
           30,
           12.9833162,
           77.7083182
          ],
          [
           3.05472972972973,
           296,
           12.945245,
           77.6274776
          ],
          [
           3.0419087136929464,
           964,
           12.8487599,
           77.648253
          ],
          [
           3.564878892733564,
           578,
           12.9975851,
           77.6136744
          ],
          [
           3.279279279279279,
           111,
           13.031992,
           77.6280789
          ],
          [
           3.4840695488721805,
           2128,
           12.9116225,
           77.6388622
          ],
          [
           2.88,
           10,
           13.0382184,
           77.5919
          ],
          [
           3.0938931297709926,
           131,
           13.037077,
           77.6413572
          ],
          [
           3.6878378378378374,
           74,
           12.9553487,
           77.6056093
          ],
          [
           3.320238095238095,
           84,
           12.9876393,
           77.7377718
          ],
          [
           3.6521694214876037,
           1936,
           12.9732913,
           77.6404672
          ],
          [
           3.7964285714285713,
           140,
           12.9800059,
           77.6050006
          ],
          [
           3.4129259058950785,
           1849,
           12.9096941,
           77.5866067
          ],
          [
           3.4869565217391307,
           23,
           13.0394104,
           77.5197351
          ],
          [
           3.6152502910360886,
           1718,
           12.9292731,
           77.5824229
          ],
          [
           3.429770992366412,
           262,
           12.9678074,
           77.6568367
          ],
          [
           3.2181818181818183,
           11,
           13.007516,
           77.695935
          ],
          [
           3.4736263736263737,
           91,
           12.9846713,
           77.6790908
          ],
          [
           3.529144385026738,
           748,
           13.0221416,
           77.6403368
          ],
          [
           3.499809523809524,
           525,
           13.0148544,
           77.6382029
          ],
          [
           3.478947368421052,
           19,
           12.8591407,
           77.5284991
          ],
          [
           3.7222222222222223,
           9,
           12.9176571,
           77.4837568
          ],
          [
           3.606451612903226,
           31,
           12.9357366,
           77.624081
          ],
          [
           3.2639378238341967,
           965,
           12.9277245,
           77.6327822
          ],
          [
           3.5456521739130435,
           92,
           12.9243692,
           77.6242433
          ],
          [
           3.978756476683938,
           193,
           12.9282918,
           77.6254034
          ],
          [
           3.8143518518518515,
           864,
           12.9327778,
           77.6294052
          ],
          [
           3.901511969760605,
           2381,
           12.9348429,
           77.6189768
          ],
          [
           3.6624662466246622,
           1111,
           12.9390255,
           77.6238477
          ],
          [
           3.7478420569329662,
           1089,
           12.9364846,
           77.6134783
          ],
          [
           3.6075,
           240,
           12.9408685,
           77.617338
          ],
          [
           3.320238095238095,
           168,
           12.9067683,
           77.5595021
          ],
          [
           3.8074074074074074,
           27,
           12.957998,
           77.6037312
          ],
          [
           4.042885771543086,
           499,
           12.9722287,
           77.5986661
          ],
          [
           3.74055023923445,
           836,
           12.9755264,
           77.6067902
          ],
          [
           3.4375,
           24,
           12.975608,
           77.5553564
          ],
          [
           3.2940677966101695,
           118,
           12.9779079,
           77.5723936
          ],
          [
           3.668237082066869,
           658,
           13.0027353,
           77.5703253
          ],
          [
           3.4005322687957418,
           1503,
           12.9552572,
           77.6984163
          ],
          [
           3.4555555555555557,
           18,
           12.9467026,
           77.5300705
          ],
          [
           3.4,
           1,
           12.9651215,
           77.5090098
          ],
          [
           3.3333333333333335,
           165,
           13.0422794,
           77.6248577
          ],
          [
           3.5831739961759084,
           523,
           13.039186,
           77.564284
          ],
          [
           2.3857142857142857,
           14,
           13.0222347,
           77.5671832
          ],
          [
           3.389119170984456,
           386,
           12.9584696,
           77.665621
          ],
          [
           3.1818181818181817,
           22,
           13.0219668,
           77.7127257
          ],
          [
           3.2,
           1,
           13.0329814,
           77.5331801
          ],
          [
           3.278125,
           64,
           13.0227204,
           77.595715
          ],
          [
           3.727007299270073,
           137,
           12.9813402,
           77.575178
          ],
          [
           3.422381930184805,
           487,
           13.0005359,
           77.5496996
          ],
          [
           3.85,
           2,
           12.9274413,
           77.5155224
          ],
          [
           3.107142857142857,
           28,
           13.0163,
           77.6785
          ],
          [
           3.8445723684210527,
           608,
           12.9672634,
           77.5993931
          ],
          [
           3.6880126182965296,
           634,
           12.9684808,
           77.614415
          ],
          [
           3.839655172413793,
           58,
           13.0068,
           77.5813
          ],
          [
           3.478723404255319,
           47,
           13.0621474,
           77.5800614
          ],
          [
           3.36,
           50,
           12.9578658,
           77.6958748
          ],
          [
           3.965384615384615,
           26,
           12.9957937,
           77.5847787
          ],
          [
           3.4735582154515776,
           919,
           12.9239942,
           77.6530304
          ],
          [
           3.704929577464789,
           142,
           12.9931876,
           77.5753419
          ],
          [
           3.3235897435897437,
           390,
           12.9555367,
           77.5924278
          ],
          [
           3.4989169675090253,
           277,
           12.9855286,
           77.6054496
          ],
          [
           3.4197802197802196,
           91,
           12.9287596,
           77.6287122
          ],
          [
           4.017201166180758,
           343,
           12.9758014,
           77.6016924
          ],
          [
           3.0953947368421053,
           152,
           12.8744383,
           77.5579029
          ],
          [
           3.5413984461709216,
           901,
           12.9778793,
           77.6246697
          ],
          [
           3.511111111111111,
           9,
           12.9055682,
           77.5455438
          ],
          [
           3.2989247311827956,
           93,
           12.9616273,
           77.7478198
          ],
          [
           3.5809523809523807,
           252,
           12.9921738,
           77.591459
          ],
          [
           3.249295774647887,
           71,
           12.9660722,
           77.6125941
          ],
          [
           2.02,
           5,
           12.9529035,
           77.5158003
          ],
          [
           3.384170112226816,
           1693,
           12.9963995,
           77.7614229
          ],
          [
           3.2576354679802955,
           203,
           12.9489339,
           77.5968273
          ],
          [
           3.6399999999999997,
           5,
           13.1006982,
           77.5963454
          ],
          [
           3.5026785714285715,
           112,
           13.0221838,
           77.5530824
          ]
         ],
         "hovertemplate": "<b>%{hovertext}</b><br><br>Total_Restaurant=%{customdata[1]}<br>avg_rating=%{marker.color}<extra></extra>",
         "hovertext": [
          "BTM , Bangalore , Karnataka , India",
          "Banashankari , Bangalore , Karnataka , India",
          "Banaswadi , Bangalore , Karnataka , India",
          "Bannerghatta Road , Bangalore , Karnataka , India",
          "Basavanagudi , Bangalore , Karnataka , India",
          "Basaveshwara Nagar , Bangalore , Karnataka , India",
          "Bellandur , Bangalore , Karnataka , India",
          "Bommanahalli , Bangalore , Karnataka , India",
          "Brigade Road , Bangalore , Karnataka , India",
          "Brookefield , Bangalore , Karnataka , India",
          "CV Raman Nagar , Bangalore , Karnataka , India",
          "Central Bangalore , Bangalore , Karnataka , India",
          "Church Street , Bangalore , Karnataka , India",
          "City Market , Bangalore , Karnataka , India",
          "Commercial Street , Bangalore , Karnataka , India",
          "Cunningham Road , Bangalore , Karnataka , India",
          "Domlur , Bangalore , Karnataka , India",
          "East Bangalore , Bangalore , Karnataka , India",
          "Ejipura , Bangalore , Karnataka , India",
          "Electronic City , Bangalore , Karnataka , India",
          "Frazer Town , Bangalore , Karnataka , India",
          "HBR Layout , Bangalore , Karnataka , India",
          "HSR , Bangalore , Karnataka , India",
          "Hebbal , Bangalore , Karnataka , India",
          "Hennur , Bangalore , Karnataka , India",
          "Hosur Road , Bangalore , Karnataka , India",
          "ITPL Main Road, Whitefield , Bangalore , Karnataka , India",
          "Indiranagar , Bangalore , Karnataka , India",
          "Infantry Road , Bangalore , Karnataka , India",
          "JP Nagar , Bangalore , Karnataka , India",
          "Jalahalli , Bangalore , Karnataka , India",
          "Jayanagar , Bangalore , Karnataka , India",
          "Jeevan Bhima Nagar , Bangalore , Karnataka , India",
          "KR Puram , Bangalore , Karnataka , India",
          "Kaggadasapura , Bangalore , Karnataka , India",
          "Kalyan Nagar , Bangalore , Karnataka , India",
          "Kammanahalli , Bangalore , Karnataka , India",
          "Kanakapura Road , Bangalore , Karnataka , India",
          "Kengeri , Bangalore , Karnataka , India",
          "Koramangala , Bangalore , Karnataka , India",
          "Koramangala 1st Block , Bangalore , Karnataka , India",
          "Koramangala 2nd Block , Bangalore , Karnataka , India",
          "Koramangala 3rd Block , Bangalore , Karnataka , India",
          "Koramangala 4th Block , Bangalore , Karnataka , India",
          "Koramangala 5th Block , Bangalore , Karnataka , India",
          "Koramangala 6th Block , Bangalore , Karnataka , India",
          "Koramangala 7th Block , Bangalore , Karnataka , India",
          "Koramangala 8th Block , Bangalore , Karnataka , India",
          "Kumaraswamy Layout , Bangalore , Karnataka , India",
          "Langford Town , Bangalore , Karnataka , India",
          "Lavelle Road , Bangalore , Karnataka , India",
          "MG Road , Bangalore , Karnataka , India",
          "Magadi Road , Bangalore , Karnataka , India",
          "Majestic , Bangalore , Karnataka , India",
          "Malleshwaram , Bangalore , Karnataka , India",
          "Marathahalli , Bangalore , Karnataka , India",
          "Mysore Road , Bangalore , Karnataka , India",
          "Nagarbhavi , Bangalore , Karnataka , India",
          "Nagawara , Bangalore , Karnataka , India",
          "New BEL Road , Bangalore , Karnataka , India",
          "North Bangalore , Bangalore , Karnataka , India",
          "Old Airport Road , Bangalore , Karnataka , India",
          "Old Madras Road , Bangalore , Karnataka , India",
          "Peenya , Bangalore , Karnataka , India",
          "RT Nagar , Bangalore , Karnataka , India",
          "Race Course Road , Bangalore , Karnataka , India",
          "Rajajinagar , Bangalore , Karnataka , India",
          "Rajarajeshwari Nagar , Bangalore , Karnataka , India",
          "Rammurthy Nagar , Bangalore , Karnataka , India",
          "Residency Road , Bangalore , Karnataka , India",
          "Richmond Road , Bangalore , Karnataka , India",
          "Sadashiv Nagar , Bangalore , Karnataka , India",
          "Sahakara Nagar , Bangalore , Karnataka , India",
          "Sanjay Nagar , Bangalore , Karnataka , India",
          "Sankey Road , Bangalore , Karnataka , India",
          "Sarjapur Road , Bangalore , Karnataka , India",
          "Seshadripuram , Bangalore , Karnataka , India",
          "Shanti Nagar , Bangalore , Karnataka , India",
          "Shivajinagar , Bangalore , Karnataka , India",
          "South Bangalore , Bangalore , Karnataka , India",
          "St. Marks Road , Bangalore , Karnataka , India",
          "Thippasandra , Bangalore , Karnataka , India",
          "Ulsoor , Bangalore , Karnataka , India",
          "Uttarahalli , Bangalore , Karnataka , India",
          "Varthur Main Road, Whitefield , Bangalore , Karnataka , India",
          "Vasanth Nagar , Bangalore , Karnataka , India",
          "Vijay Nagar , Bangalore , Karnataka , India",
          "West Bangalore , Bangalore , Karnataka , India",
          "Whitefield , Bangalore , Karnataka , India",
          "Wilson Garden , Bangalore , Karnataka , India",
          "Yelahanka , Bangalore , Karnataka , India",
          "Yeshwantpur , Bangalore , Karnataka , India"
         ],
         "lat": [
          12.9112758,
          12.9278196,
          13.0141618,
          12.9060737,
          12.9417261,
          12.9911804,
          12.9361208,
          12.9089453,
          12.971609,
          12.9652094,
          12.9850987,
          12.9730087,
          12.9749142,
          12.965718,
          12.9822423,
          12.9884255,
          12.9624669,
          12.9833162,
          12.945245,
          12.8487599,
          12.9975851,
          13.031992,
          12.9116225,
          13.0382184,
          13.037077,
          12.9553487,
          12.9876393,
          12.9732913,
          12.9800059,
          12.9096941,
          13.0394104,
          12.9292731,
          12.9678074,
          13.007516,
          12.9846713,
          13.0221416,
          13.0148544,
          12.8591407,
          12.9176571,
          12.9357366,
          12.9277245,
          12.9243692,
          12.9282918,
          12.9327778,
          12.9348429,
          12.9390255,
          12.9364846,
          12.9408685,
          12.9067683,
          12.957998,
          12.9722287,
          12.9755264,
          12.975608,
          12.9779079,
          13.0027353,
          12.9552572,
          12.9467026,
          12.9651215,
          13.0422794,
          13.039186,
          13.0222347,
          12.9584696,
          13.0219668,
          13.0329814,
          13.0227204,
          12.9813402,
          13.0005359,
          12.9274413,
          13.0163,
          12.9672634,
          12.9684808,
          13.0068,
          13.0621474,
          12.9578658,
          12.9957937,
          12.9239942,
          12.9931876,
          12.9555367,
          12.9855286,
          12.9287596,
          12.9758014,
          12.8744383,
          12.9778793,
          12.9055682,
          12.9616273,
          12.9921738,
          12.9660722,
          12.9529035,
          12.9963995,
          12.9489339,
          13.1006982,
          13.0221838
         ],
         "legendgroup": "",
         "lon": [
          77.6045654,
          77.556621,
          77.6518539,
          77.6016519,
          77.5755021,
          77.5448918,
          77.6671843,
          77.6239038,
          77.6070463,
          77.717936,
          77.6631173,
          77.5804711,
          77.6052474,
          77.5762705,
          77.608265,
          77.5938978,
          77.6381958,
          77.7083182,
          77.6274776,
          77.648253,
          77.6136744,
          77.6280789,
          77.6388622,
          77.5919,
          77.6413572,
          77.6056093,
          77.7377718,
          77.6404672,
          77.6050006,
          77.5866067,
          77.5197351,
          77.5824229,
          77.6568367,
          77.695935,
          77.6790908,
          77.6403368,
          77.6382029,
          77.5284991,
          77.4837568,
          77.624081,
          77.6327822,
          77.6242433,
          77.6254034,
          77.6294052,
          77.6189768,
          77.6238477,
          77.6134783,
          77.617338,
          77.5595021,
          77.6037312,
          77.5986661,
          77.6067902,
          77.5553564,
          77.5723936,
          77.5703253,
          77.6984163,
          77.5300705,
          77.5090098,
          77.6248577,
          77.564284,
          77.5671832,
          77.665621,
          77.7127257,
          77.5331801,
          77.595715,
          77.575178,
          77.5496996,
          77.5155224,
          77.6785,
          77.5993931,
          77.614415,
          77.5813,
          77.5800614,
          77.6958748,
          77.5847787,
          77.6530304,
          77.5753419,
          77.5924278,
          77.6054496,
          77.6287122,
          77.6016924,
          77.5579029,
          77.6246697,
          77.5455438,
          77.7478198,
          77.591459,
          77.6125941,
          77.5158003,
          77.7614229,
          77.5968273,
          77.5963454,
          77.5530824
         ],
         "marker": {
          "color": [
           3.2961276695611357,
           3.3732919254658387,
           3.3629258517034066,
           3.2716767371601208,
           3.4781847133757964,
           3.4455172413793105,
           3.3098330241187384,
           2.926751592356688,
           3.595848708487085,
           3.374698795180723,
           3.215151515151515,
           3.625,
           3.9630909090909086,
           3.4461538461538463,
           3.1097087378640778,
           3.9010526315789473,
           3.385547785547786,
           3.243333333333333,
           3.05472972972973,
           3.0419087136929464,
           3.564878892733564,
           3.279279279279279,
           3.4840695488721805,
           2.88,
           3.0938931297709926,
           3.6878378378378374,
           3.320238095238095,
           3.6521694214876037,
           3.7964285714285713,
           3.4129259058950785,
           3.4869565217391307,
           3.6152502910360886,
           3.429770992366412,
           3.2181818181818183,
           3.4736263736263737,
           3.529144385026738,
           3.499809523809524,
           3.478947368421052,
           3.7222222222222223,
           3.606451612903226,
           3.2639378238341967,
           3.5456521739130435,
           3.978756476683938,
           3.8143518518518515,
           3.901511969760605,
           3.6624662466246622,
           3.7478420569329662,
           3.6075,
           3.320238095238095,
           3.8074074074074074,
           4.042885771543086,
           3.74055023923445,
           3.4375,
           3.2940677966101695,
           3.668237082066869,
           3.4005322687957418,
           3.4555555555555557,
           3.4,
           3.3333333333333335,
           3.5831739961759084,
           2.3857142857142857,
           3.389119170984456,
           3.1818181818181817,
           3.2,
           3.278125,
           3.727007299270073,
           3.422381930184805,
           3.85,
           3.107142857142857,
           3.8445723684210527,
           3.6880126182965296,
           3.839655172413793,
           3.478723404255319,
           3.36,
           3.965384615384615,
           3.4735582154515776,
           3.704929577464789,
           3.3235897435897437,
           3.4989169675090253,
           3.4197802197802196,
           4.017201166180758,
           3.0953947368421053,
           3.5413984461709216,
           3.511111111111111,
           3.2989247311827956,
           3.5809523809523807,
           3.249295774647887,
           2.02,
           3.384170112226816,
           3.2576354679802955,
           3.6399999999999997,
           3.5026785714285715
          ],
          "coloraxis": "coloraxis",
          "size": [
           4261,
           805,
           499,
           1324,
           628,
           145,
           1078,
           157,
           1084,
           581,
           66,
           8,
           550,
           78,
           309,
           475,
           429,
           30,
           296,
           964,
           578,
           111,
           2128,
           10,
           131,
           74,
           84,
           1936,
           140,
           1849,
           23,
           1718,
           262,
           11,
           91,
           748,
           525,
           19,
           9,
           31,
           965,
           92,
           193,
           864,
           2381,
           1111,
           1089,
           240,
           168,
           27,
           499,
           836,
           24,
           118,
           658,
           1503,
           18,
           1,
           165,
           523,
           14,
           386,
           22,
           1,
           64,
           137,
           487,
           2,
           28,
           608,
           634,
           58,
           47,
           50,
           26,
           919,
           142,
           390,
           277,
           91,
           343,
           152,
           901,
           9,
           93,
           252,
           71,
           5,
           1693,
           203,
           5,
           112
          ],
          "sizemode": "area",
          "sizeref": 4.734444444444445
         },
         "mode": "markers",
         "name": "",
         "showlegend": false,
         "subplot": "mapbox",
         "type": "scattermapbox"
        }
       ],
       "layout": {
        "coloraxis": {
         "colorbar": {
          "title": {
           "text": "avg_rating"
          }
         },
         "colorscale": [
          [
           0,
           "#440154"
          ],
          [
           0.1111111111111111,
           "#482878"
          ],
          [
           0.2222222222222222,
           "#3e4989"
          ],
          [
           0.3333333333333333,
           "#31688e"
          ],
          [
           0.4444444444444444,
           "#26828e"
          ],
          [
           0.5555555555555556,
           "#1f9e89"
          ],
          [
           0.6666666666666666,
           "#35b779"
          ],
          [
           0.7777777777777778,
           "#6ece58"
          ],
          [
           0.8888888888888888,
           "#b5de2b"
          ],
          [
           1,
           "#fde725"
          ]
         ]
        },
        "height": 600,
        "legend": {
         "itemsizing": "constant",
         "tracegroupgap": 0
        },
        "mapbox": {
         "center": {
          "lat": 12.969236215217391,
          "lon": 77.61007656086956
         },
         "domain": {
          "x": [
           0,
           1
          ],
          "y": [
           0,
           1
          ]
         },
         "style": "carto-positron",
         "zoom": 11
        },
        "margin": {
         "t": 60
        },
        "template": {
         "data": {
          "bar": [
           {
            "error_x": {
             "color": "#2a3f5f"
            },
            "error_y": {
             "color": "#2a3f5f"
            },
            "marker": {
             "line": {
              "color": "#E5ECF6",
              "width": 0.5
             },
             "pattern": {
              "fillmode": "overlay",
              "size": 10,
              "solidity": 0.2
             }
            },
            "type": "bar"
           }
          ],
          "barpolar": [
           {
            "marker": {
             "line": {
              "color": "#E5ECF6",
              "width": 0.5
             },
             "pattern": {
              "fillmode": "overlay",
              "size": 10,
              "solidity": 0.2
             }
            },
            "type": "barpolar"
           }
          ],
          "carpet": [
           {
            "aaxis": {
             "endlinecolor": "#2a3f5f",
             "gridcolor": "white",
             "linecolor": "white",
             "minorgridcolor": "white",
             "startlinecolor": "#2a3f5f"
            },
            "baxis": {
             "endlinecolor": "#2a3f5f",
             "gridcolor": "white",
             "linecolor": "white",
             "minorgridcolor": "white",
             "startlinecolor": "#2a3f5f"
            },
            "type": "carpet"
           }
          ],
          "choropleth": [
           {
            "colorbar": {
             "outlinewidth": 0,
             "ticks": ""
            },
            "type": "choropleth"
           }
          ],
          "contour": [
           {
            "colorbar": {
             "outlinewidth": 0,
             "ticks": ""
            },
            "colorscale": [
             [
              0,
              "#0d0887"
             ],
             [
              0.1111111111111111,
              "#46039f"
             ],
             [
              0.2222222222222222,
              "#7201a8"
             ],
             [
              0.3333333333333333,
              "#9c179e"
             ],
             [
              0.4444444444444444,
              "#bd3786"
             ],
             [
              0.5555555555555556,
              "#d8576b"
             ],
             [
              0.6666666666666666,
              "#ed7953"
             ],
             [
              0.7777777777777778,
              "#fb9f3a"
             ],
             [
              0.8888888888888888,
              "#fdca26"
             ],
             [
              1,
              "#f0f921"
             ]
            ],
            "type": "contour"
           }
          ],
          "contourcarpet": [
           {
            "colorbar": {
             "outlinewidth": 0,
             "ticks": ""
            },
            "type": "contourcarpet"
           }
          ],
          "heatmap": [
           {
            "colorbar": {
             "outlinewidth": 0,
             "ticks": ""
            },
            "colorscale": [
             [
              0,
              "#0d0887"
             ],
             [
              0.1111111111111111,
              "#46039f"
             ],
             [
              0.2222222222222222,
              "#7201a8"
             ],
             [
              0.3333333333333333,
              "#9c179e"
             ],
             [
              0.4444444444444444,
              "#bd3786"
             ],
             [
              0.5555555555555556,
              "#d8576b"
             ],
             [
              0.6666666666666666,
              "#ed7953"
             ],
             [
              0.7777777777777778,
              "#fb9f3a"
             ],
             [
              0.8888888888888888,
              "#fdca26"
             ],
             [
              1,
              "#f0f921"
             ]
            ],
            "type": "heatmap"
           }
          ],
          "heatmapgl": [
           {
            "colorbar": {
             "outlinewidth": 0,
             "ticks": ""
            },
            "colorscale": [
             [
              0,
              "#0d0887"
             ],
             [
              0.1111111111111111,
              "#46039f"
             ],
             [
              0.2222222222222222,
              "#7201a8"
             ],
             [
              0.3333333333333333,
              "#9c179e"
             ],
             [
              0.4444444444444444,
              "#bd3786"
             ],
             [
              0.5555555555555556,
              "#d8576b"
             ],
             [
              0.6666666666666666,
              "#ed7953"
             ],
             [
              0.7777777777777778,
              "#fb9f3a"
             ],
             [
              0.8888888888888888,
              "#fdca26"
             ],
             [
              1,
              "#f0f921"
             ]
            ],
            "type": "heatmapgl"
           }
          ],
          "histogram": [
           {
            "marker": {
             "pattern": {
              "fillmode": "overlay",
              "size": 10,
              "solidity": 0.2
             }
            },
            "type": "histogram"
           }
          ],
          "histogram2d": [
           {
            "colorbar": {
             "outlinewidth": 0,
             "ticks": ""
            },
            "colorscale": [
             [
              0,
              "#0d0887"
             ],
             [
              0.1111111111111111,
              "#46039f"
             ],
             [
              0.2222222222222222,
              "#7201a8"
             ],
             [
              0.3333333333333333,
              "#9c179e"
             ],
             [
              0.4444444444444444,
              "#bd3786"
             ],
             [
              0.5555555555555556,
              "#d8576b"
             ],
             [
              0.6666666666666666,
              "#ed7953"
             ],
             [
              0.7777777777777778,
              "#fb9f3a"
             ],
             [
              0.8888888888888888,
              "#fdca26"
             ],
             [
              1,
              "#f0f921"
             ]
            ],
            "type": "histogram2d"
           }
          ],
          "histogram2dcontour": [
           {
            "colorbar": {
             "outlinewidth": 0,
             "ticks": ""
            },
            "colorscale": [
             [
              0,
              "#0d0887"
             ],
             [
              0.1111111111111111,
              "#46039f"
             ],
             [
              0.2222222222222222,
              "#7201a8"
             ],
             [
              0.3333333333333333,
              "#9c179e"
             ],
             [
              0.4444444444444444,
              "#bd3786"
             ],
             [
              0.5555555555555556,
              "#d8576b"
             ],
             [
              0.6666666666666666,
              "#ed7953"
             ],
             [
              0.7777777777777778,
              "#fb9f3a"
             ],
             [
              0.8888888888888888,
              "#fdca26"
             ],
             [
              1,
              "#f0f921"
             ]
            ],
            "type": "histogram2dcontour"
           }
          ],
          "mesh3d": [
           {
            "colorbar": {
             "outlinewidth": 0,
             "ticks": ""
            },
            "type": "mesh3d"
           }
          ],
          "parcoords": [
           {
            "line": {
             "colorbar": {
              "outlinewidth": 0,
              "ticks": ""
             }
            },
            "type": "parcoords"
           }
          ],
          "pie": [
           {
            "automargin": true,
            "type": "pie"
           }
          ],
          "scatter": [
           {
            "fillpattern": {
             "fillmode": "overlay",
             "size": 10,
             "solidity": 0.2
            },
            "type": "scatter"
           }
          ],
          "scatter3d": [
           {
            "line": {
             "colorbar": {
              "outlinewidth": 0,
              "ticks": ""
             }
            },
            "marker": {
             "colorbar": {
              "outlinewidth": 0,
              "ticks": ""
             }
            },
            "type": "scatter3d"
           }
          ],
          "scattercarpet": [
           {
            "marker": {
             "colorbar": {
              "outlinewidth": 0,
              "ticks": ""
             }
            },
            "type": "scattercarpet"
           }
          ],
          "scattergeo": [
           {
            "marker": {
             "colorbar": {
              "outlinewidth": 0,
              "ticks": ""
             }
            },
            "type": "scattergeo"
           }
          ],
          "scattergl": [
           {
            "marker": {
             "colorbar": {
              "outlinewidth": 0,
              "ticks": ""
             }
            },
            "type": "scattergl"
           }
          ],
          "scattermapbox": [
           {
            "marker": {
             "colorbar": {
              "outlinewidth": 0,
              "ticks": ""
             }
            },
            "type": "scattermapbox"
           }
          ],
          "scatterpolar": [
           {
            "marker": {
             "colorbar": {
              "outlinewidth": 0,
              "ticks": ""
             }
            },
            "type": "scatterpolar"
           }
          ],
          "scatterpolargl": [
           {
            "marker": {
             "colorbar": {
              "outlinewidth": 0,
              "ticks": ""
             }
            },
            "type": "scatterpolargl"
           }
          ],
          "scatterternary": [
           {
            "marker": {
             "colorbar": {
              "outlinewidth": 0,
              "ticks": ""
             }
            },
            "type": "scatterternary"
           }
          ],
          "surface": [
           {
            "colorbar": {
             "outlinewidth": 0,
             "ticks": ""
            },
            "colorscale": [
             [
              0,
              "#0d0887"
             ],
             [
              0.1111111111111111,
              "#46039f"
             ],
             [
              0.2222222222222222,
              "#7201a8"
             ],
             [
              0.3333333333333333,
              "#9c179e"
             ],
             [
              0.4444444444444444,
              "#bd3786"
             ],
             [
              0.5555555555555556,
              "#d8576b"
             ],
             [
              0.6666666666666666,
              "#ed7953"
             ],
             [
              0.7777777777777778,
              "#fb9f3a"
             ],
             [
              0.8888888888888888,
              "#fdca26"
             ],
             [
              1,
              "#f0f921"
             ]
            ],
            "type": "surface"
           }
          ],
          "table": [
           {
            "cells": {
             "fill": {
              "color": "#EBF0F8"
             },
             "line": {
              "color": "white"
             }
            },
            "header": {
             "fill": {
              "color": "#C8D4E3"
             },
             "line": {
              "color": "white"
             }
            },
            "type": "table"
           }
          ]
         },
         "layout": {
          "annotationdefaults": {
           "arrowcolor": "#2a3f5f",
           "arrowhead": 0,
           "arrowwidth": 1
          },
          "autotypenumbers": "strict",
          "coloraxis": {
           "colorbar": {
            "outlinewidth": 0,
            "ticks": ""
           }
          },
          "colorscale": {
           "diverging": [
            [
             0,
             "#8e0152"
            ],
            [
             0.1,
             "#c51b7d"
            ],
            [
             0.2,
             "#de77ae"
            ],
            [
             0.3,
             "#f1b6da"
            ],
            [
             0.4,
             "#fde0ef"
            ],
            [
             0.5,
             "#f7f7f7"
            ],
            [
             0.6,
             "#e6f5d0"
            ],
            [
             0.7,
             "#b8e186"
            ],
            [
             0.8,
             "#7fbc41"
            ],
            [
             0.9,
             "#4d9221"
            ],
            [
             1,
             "#276419"
            ]
           ],
           "sequential": [
            [
             0,
             "#0d0887"
            ],
            [
             0.1111111111111111,
             "#46039f"
            ],
            [
             0.2222222222222222,
             "#7201a8"
            ],
            [
             0.3333333333333333,
             "#9c179e"
            ],
            [
             0.4444444444444444,
             "#bd3786"
            ],
            [
             0.5555555555555556,
             "#d8576b"
            ],
            [
             0.6666666666666666,
             "#ed7953"
            ],
            [
             0.7777777777777778,
             "#fb9f3a"
            ],
            [
             0.8888888888888888,
             "#fdca26"
            ],
            [
             1,
             "#f0f921"
            ]
           ],
           "sequentialminus": [
            [
             0,
             "#0d0887"
            ],
            [
             0.1111111111111111,
             "#46039f"
            ],
            [
             0.2222222222222222,
             "#7201a8"
            ],
            [
             0.3333333333333333,
             "#9c179e"
            ],
            [
             0.4444444444444444,
             "#bd3786"
            ],
            [
             0.5555555555555556,
             "#d8576b"
            ],
            [
             0.6666666666666666,
             "#ed7953"
            ],
            [
             0.7777777777777778,
             "#fb9f3a"
            ],
            [
             0.8888888888888888,
             "#fdca26"
            ],
            [
             1,
             "#f0f921"
            ]
           ]
          },
          "colorway": [
           "#636efa",
           "#EF553B",
           "#00cc96",
           "#ab63fa",
           "#FFA15A",
           "#19d3f3",
           "#FF6692",
           "#B6E880",
           "#FF97FF",
           "#FECB52"
          ],
          "font": {
           "color": "#2a3f5f"
          },
          "geo": {
           "bgcolor": "white",
           "lakecolor": "white",
           "landcolor": "#E5ECF6",
           "showlakes": true,
           "showland": true,
           "subunitcolor": "white"
          },
          "hoverlabel": {
           "align": "left"
          },
          "hovermode": "closest",
          "mapbox": {
           "style": "light"
          },
          "paper_bgcolor": "white",
          "plot_bgcolor": "#E5ECF6",
          "polar": {
           "angularaxis": {
            "gridcolor": "white",
            "linecolor": "white",
            "ticks": ""
           },
           "bgcolor": "#E5ECF6",
           "radialaxis": {
            "gridcolor": "white",
            "linecolor": "white",
            "ticks": ""
           }
          },
          "scene": {
           "xaxis": {
            "backgroundcolor": "#E5ECF6",
            "gridcolor": "white",
            "gridwidth": 2,
            "linecolor": "white",
            "showbackground": true,
            "ticks": "",
            "zerolinecolor": "white"
           },
           "yaxis": {
            "backgroundcolor": "#E5ECF6",
            "gridcolor": "white",
            "gridwidth": 2,
            "linecolor": "white",
            "showbackground": true,
            "ticks": "",
            "zerolinecolor": "white"
           },
           "zaxis": {
            "backgroundcolor": "#E5ECF6",
            "gridcolor": "white",
            "gridwidth": 2,
            "linecolor": "white",
            "showbackground": true,
            "ticks": "",
            "zerolinecolor": "white"
           }
          },
          "shapedefaults": {
           "line": {
            "color": "#2a3f5f"
           }
          },
          "ternary": {
           "aaxis": {
            "gridcolor": "white",
            "linecolor": "white",
            "ticks": ""
           },
           "baxis": {
            "gridcolor": "white",
            "linecolor": "white",
            "ticks": ""
           },
           "bgcolor": "#E5ECF6",
           "caxis": {
            "gridcolor": "white",
            "linecolor": "white",
            "ticks": ""
           }
          },
          "title": {
           "x": 0.05
          },
          "xaxis": {
           "automargin": true,
           "gridcolor": "white",
           "linecolor": "white",
           "ticks": "",
           "title": {
            "standoff": 15
           },
           "zerolinecolor": "white",
           "zerolinewidth": 2
          },
          "yaxis": {
           "automargin": true,
           "gridcolor": "white",
           "linecolor": "white",
           "ticks": "",
           "title": {
            "standoff": 15
           },
           "zerolinecolor": "white",
           "zerolinewidth": 2
          }
         }
        },
        "title": {
         "text": "Bangalore Restaurant Hotspots"
        }
       }
      },
      "text/html": [
       "<div>                            <div id=\"7f816a7a-eb33-4755-9d8e-fa39d3e6dc48\" class=\"plotly-graph-div\" style=\"height:600px; width:100%;\"></div>            <script type=\"text/javascript\">                require([\"plotly\"], function(Plotly) {                    window.PLOTLYENV=window.PLOTLYENV || {};                                    if (document.getElementById(\"7f816a7a-eb33-4755-9d8e-fa39d3e6dc48\")) {                    Plotly.newPlot(                        \"7f816a7a-eb33-4755-9d8e-fa39d3e6dc48\",                        [{\"customdata\":[[3.2961276695611357,4261.0,12.9112758,77.6045654],[3.3732919254658387,805.0,12.9278196,77.556621],[3.3629258517034066,499.0,13.0141618,77.6518539],[3.2716767371601208,1324.0,12.9060737,77.6016519],[3.4781847133757964,628.0,12.9417261,77.5755021],[3.4455172413793105,145.0,12.9911804,77.5448918],[3.3098330241187384,1078.0,12.9361208,77.6671843],[2.926751592356688,157.0,12.9089453,77.6239038],[3.595848708487085,1084.0,12.971609,77.6070463],[3.374698795180723,581.0,12.9652094,77.717936],[3.215151515151515,66.0,12.9850987,77.6631173],[3.625,8.0,12.9730087,77.5804711],[3.9630909090909086,550.0,12.9749142,77.6052474],[3.4461538461538463,78.0,12.965718,77.5762705],[3.1097087378640778,309.0,12.9822423,77.608265],[3.9010526315789473,475.0,12.9884255,77.5938978],[3.385547785547786,429.0,12.9624669,77.6381958],[3.243333333333333,30.0,12.9833162,77.7083182],[3.05472972972973,296.0,12.945245,77.6274776],[3.0419087136929464,964.0,12.8487599,77.648253],[3.564878892733564,578.0,12.9975851,77.6136744],[3.279279279279279,111.0,13.031992,77.6280789],[3.4840695488721805,2128.0,12.9116225,77.6388622],[2.88,10.0,13.0382184,77.5919],[3.0938931297709926,131.0,13.037077,77.6413572],[3.6878378378378374,74.0,12.9553487,77.6056093],[3.320238095238095,84.0,12.9876393,77.7377718],[3.6521694214876037,1936.0,12.9732913,77.6404672],[3.7964285714285713,140.0,12.9800059,77.6050006],[3.4129259058950785,1849.0,12.9096941,77.5866067],[3.4869565217391307,23.0,13.0394104,77.5197351],[3.6152502910360886,1718.0,12.9292731,77.5824229],[3.429770992366412,262.0,12.9678074,77.6568367],[3.2181818181818183,11.0,13.007516,77.695935],[3.4736263736263737,91.0,12.9846713,77.6790908],[3.529144385026738,748.0,13.0221416,77.6403368],[3.499809523809524,525.0,13.0148544,77.6382029],[3.478947368421052,19.0,12.8591407,77.5284991],[3.7222222222222223,9.0,12.9176571,77.4837568],[3.606451612903226,31.0,12.9357366,77.624081],[3.2639378238341967,965.0,12.9277245,77.6327822],[3.5456521739130435,92.0,12.9243692,77.6242433],[3.978756476683938,193.0,12.9282918,77.6254034],[3.8143518518518515,864.0,12.9327778,77.6294052],[3.901511969760605,2381.0,12.9348429,77.6189768],[3.6624662466246622,1111.0,12.9390255,77.6238477],[3.7478420569329662,1089.0,12.9364846,77.6134783],[3.6075,240.0,12.9408685,77.617338],[3.320238095238095,168.0,12.9067683,77.5595021],[3.8074074074074074,27.0,12.957998,77.6037312],[4.042885771543086,499.0,12.9722287,77.5986661],[3.74055023923445,836.0,12.9755264,77.6067902],[3.4375,24.0,12.975608,77.5553564],[3.2940677966101695,118.0,12.9779079,77.5723936],[3.668237082066869,658.0,13.0027353,77.5703253],[3.4005322687957418,1503.0,12.9552572,77.6984163],[3.4555555555555557,18.0,12.9467026,77.5300705],[3.4,1.0,12.9651215,77.5090098],[3.3333333333333335,165.0,13.0422794,77.6248577],[3.5831739961759084,523.0,13.039186,77.564284],[2.3857142857142857,14.0,13.0222347,77.5671832],[3.389119170984456,386.0,12.9584696,77.665621],[3.1818181818181817,22.0,13.0219668,77.7127257],[3.2,1.0,13.0329814,77.5331801],[3.278125,64.0,13.0227204,77.595715],[3.727007299270073,137.0,12.9813402,77.575178],[3.422381930184805,487.0,13.0005359,77.5496996],[3.85,2.0,12.9274413,77.5155224],[3.107142857142857,28.0,13.0163,77.6785],[3.8445723684210527,608.0,12.9672634,77.5993931],[3.6880126182965296,634.0,12.9684808,77.614415],[3.839655172413793,58.0,13.0068,77.5813],[3.478723404255319,47.0,13.0621474,77.5800614],[3.36,50.0,12.9578658,77.6958748],[3.965384615384615,26.0,12.9957937,77.5847787],[3.4735582154515776,919.0,12.9239942,77.6530304],[3.704929577464789,142.0,12.9931876,77.5753419],[3.3235897435897437,390.0,12.9555367,77.5924278],[3.4989169675090253,277.0,12.9855286,77.6054496],[3.4197802197802196,91.0,12.9287596,77.6287122],[4.017201166180758,343.0,12.9758014,77.6016924],[3.0953947368421053,152.0,12.8744383,77.5579029],[3.5413984461709216,901.0,12.9778793,77.6246697],[3.511111111111111,9.0,12.9055682,77.5455438],[3.2989247311827956,93.0,12.9616273,77.7478198],[3.5809523809523807,252.0,12.9921738,77.591459],[3.249295774647887,71.0,12.9660722,77.6125941],[2.02,5.0,12.9529035,77.5158003],[3.384170112226816,1693.0,12.9963995,77.7614229],[3.2576354679802955,203.0,12.9489339,77.5968273],[3.6399999999999997,5.0,13.1006982,77.5963454],[3.5026785714285715,112.0,13.0221838,77.5530824]],\"hovertemplate\":\"\\u003cb\\u003e%{hovertext}\\u003c\\u002fb\\u003e\\u003cbr\\u003e\\u003cbr\\u003eTotal_Restaurant=%{customdata[1]}\\u003cbr\\u003eavg_rating=%{marker.color}\\u003cextra\\u003e\\u003c\\u002fextra\\u003e\",\"hovertext\":[\"BTM , Bangalore , Karnataka , India\",\"Banashankari , Bangalore , Karnataka , India\",\"Banaswadi , Bangalore , Karnataka , India\",\"Bannerghatta Road , Bangalore , Karnataka , India\",\"Basavanagudi , Bangalore , Karnataka , India\",\"Basaveshwara Nagar , Bangalore , Karnataka , India\",\"Bellandur , Bangalore , Karnataka , India\",\"Bommanahalli , Bangalore , Karnataka , India\",\"Brigade Road , Bangalore , Karnataka , India\",\"Brookefield , Bangalore , Karnataka , India\",\"CV Raman Nagar , Bangalore , Karnataka , India\",\"Central Bangalore , Bangalore , Karnataka , India\",\"Church Street , Bangalore , Karnataka , India\",\"City Market , Bangalore , Karnataka , India\",\"Commercial Street , Bangalore , Karnataka , India\",\"Cunningham Road , Bangalore , Karnataka , India\",\"Domlur , Bangalore , Karnataka , India\",\"East Bangalore , Bangalore , Karnataka , India\",\"Ejipura , Bangalore , Karnataka , India\",\"Electronic City , Bangalore , Karnataka , India\",\"Frazer Town , Bangalore , Karnataka , India\",\"HBR Layout , Bangalore , Karnataka , India\",\"HSR , Bangalore , Karnataka , India\",\"Hebbal , Bangalore , Karnataka , India\",\"Hennur , Bangalore , Karnataka , India\",\"Hosur Road , Bangalore , Karnataka , India\",\"ITPL Main Road, Whitefield , Bangalore , Karnataka , India\",\"Indiranagar , Bangalore , Karnataka , India\",\"Infantry Road , Bangalore , Karnataka , India\",\"JP Nagar , Bangalore , Karnataka , India\",\"Jalahalli , Bangalore , Karnataka , India\",\"Jayanagar , Bangalore , Karnataka , India\",\"Jeevan Bhima Nagar , Bangalore , Karnataka , India\",\"KR Puram , Bangalore , Karnataka , India\",\"Kaggadasapura , Bangalore , Karnataka , India\",\"Kalyan Nagar , Bangalore , Karnataka , India\",\"Kammanahalli , Bangalore , Karnataka , India\",\"Kanakapura Road , Bangalore , Karnataka , India\",\"Kengeri , Bangalore , Karnataka , India\",\"Koramangala , Bangalore , Karnataka , India\",\"Koramangala 1st Block , Bangalore , Karnataka , India\",\"Koramangala 2nd Block , Bangalore , Karnataka , India\",\"Koramangala 3rd Block , Bangalore , Karnataka , India\",\"Koramangala 4th Block , Bangalore , Karnataka , India\",\"Koramangala 5th Block , Bangalore , Karnataka , India\",\"Koramangala 6th Block , Bangalore , Karnataka , India\",\"Koramangala 7th Block , Bangalore , Karnataka , India\",\"Koramangala 8th Block , Bangalore , Karnataka , India\",\"Kumaraswamy Layout , Bangalore , Karnataka , India\",\"Langford Town , Bangalore , Karnataka , India\",\"Lavelle Road , Bangalore , Karnataka , India\",\"MG Road , Bangalore , Karnataka , India\",\"Magadi Road , Bangalore , Karnataka , India\",\"Majestic , Bangalore , Karnataka , India\",\"Malleshwaram , Bangalore , Karnataka , India\",\"Marathahalli , Bangalore , Karnataka , India\",\"Mysore Road , Bangalore , Karnataka , India\",\"Nagarbhavi , Bangalore , Karnataka , India\",\"Nagawara , Bangalore , Karnataka , India\",\"New BEL Road , Bangalore , Karnataka , India\",\"North Bangalore , Bangalore , Karnataka , India\",\"Old Airport Road , Bangalore , Karnataka , India\",\"Old Madras Road , Bangalore , Karnataka , India\",\"Peenya , Bangalore , Karnataka , India\",\"RT Nagar , Bangalore , Karnataka , India\",\"Race Course Road , Bangalore , Karnataka , India\",\"Rajajinagar , Bangalore , Karnataka , India\",\"Rajarajeshwari Nagar , Bangalore , Karnataka , India\",\"Rammurthy Nagar , Bangalore , Karnataka , India\",\"Residency Road , Bangalore , Karnataka , India\",\"Richmond Road , Bangalore , Karnataka , India\",\"Sadashiv Nagar , Bangalore , Karnataka , India\",\"Sahakara Nagar , Bangalore , Karnataka , India\",\"Sanjay Nagar , Bangalore , Karnataka , India\",\"Sankey Road , Bangalore , Karnataka , India\",\"Sarjapur Road , Bangalore , Karnataka , India\",\"Seshadripuram , Bangalore , Karnataka , India\",\"Shanti Nagar , Bangalore , Karnataka , India\",\"Shivajinagar , Bangalore , Karnataka , India\",\"South Bangalore , Bangalore , Karnataka , India\",\"St. Marks Road , Bangalore , Karnataka , India\",\"Thippasandra , Bangalore , Karnataka , India\",\"Ulsoor , Bangalore , Karnataka , India\",\"Uttarahalli , Bangalore , Karnataka , India\",\"Varthur Main Road, Whitefield , Bangalore , Karnataka , India\",\"Vasanth Nagar , Bangalore , Karnataka , India\",\"Vijay Nagar , Bangalore , Karnataka , India\",\"West Bangalore , Bangalore , Karnataka , India\",\"Whitefield , Bangalore , Karnataka , India\",\"Wilson Garden , Bangalore , Karnataka , India\",\"Yelahanka , Bangalore , Karnataka , India\",\"Yeshwantpur , Bangalore , Karnataka , India\"],\"lat\":[12.9112758,12.9278196,13.0141618,12.9060737,12.9417261,12.9911804,12.9361208,12.9089453,12.971609,12.9652094,12.9850987,12.9730087,12.9749142,12.965718,12.9822423,12.9884255,12.9624669,12.9833162,12.945245,12.8487599,12.9975851,13.031992,12.9116225,13.0382184,13.037077,12.9553487,12.9876393,12.9732913,12.9800059,12.9096941,13.0394104,12.9292731,12.9678074,13.007516,12.9846713,13.0221416,13.0148544,12.8591407,12.9176571,12.9357366,12.9277245,12.9243692,12.9282918,12.9327778,12.9348429,12.9390255,12.9364846,12.9408685,12.9067683,12.957998,12.9722287,12.9755264,12.975608,12.9779079,13.0027353,12.9552572,12.9467026,12.9651215,13.0422794,13.039186,13.0222347,12.9584696,13.0219668,13.0329814,13.0227204,12.9813402,13.0005359,12.9274413,13.0163,12.9672634,12.9684808,13.0068,13.0621474,12.9578658,12.9957937,12.9239942,12.9931876,12.9555367,12.9855286,12.9287596,12.9758014,12.8744383,12.9778793,12.9055682,12.9616273,12.9921738,12.9660722,12.9529035,12.9963995,12.9489339,13.1006982,13.0221838],\"legendgroup\":\"\",\"lon\":[77.6045654,77.556621,77.6518539,77.6016519,77.5755021,77.5448918,77.6671843,77.6239038,77.6070463,77.717936,77.6631173,77.5804711,77.6052474,77.5762705,77.608265,77.5938978,77.6381958,77.7083182,77.6274776,77.648253,77.6136744,77.6280789,77.6388622,77.5919,77.6413572,77.6056093,77.7377718,77.6404672,77.6050006,77.5866067,77.5197351,77.5824229,77.6568367,77.695935,77.6790908,77.6403368,77.6382029,77.5284991,77.4837568,77.624081,77.6327822,77.6242433,77.6254034,77.6294052,77.6189768,77.6238477,77.6134783,77.617338,77.5595021,77.6037312,77.5986661,77.6067902,77.5553564,77.5723936,77.5703253,77.6984163,77.5300705,77.5090098,77.6248577,77.564284,77.5671832,77.665621,77.7127257,77.5331801,77.595715,77.575178,77.5496996,77.5155224,77.6785,77.5993931,77.614415,77.5813,77.5800614,77.6958748,77.5847787,77.6530304,77.5753419,77.5924278,77.6054496,77.6287122,77.6016924,77.5579029,77.6246697,77.5455438,77.7478198,77.591459,77.6125941,77.5158003,77.7614229,77.5968273,77.5963454,77.5530824],\"marker\":{\"color\":[3.2961276695611357,3.3732919254658387,3.3629258517034066,3.2716767371601208,3.4781847133757964,3.4455172413793105,3.3098330241187384,2.926751592356688,3.595848708487085,3.374698795180723,3.215151515151515,3.625,3.9630909090909086,3.4461538461538463,3.1097087378640778,3.9010526315789473,3.385547785547786,3.243333333333333,3.05472972972973,3.0419087136929464,3.564878892733564,3.279279279279279,3.4840695488721805,2.88,3.0938931297709926,3.6878378378378374,3.320238095238095,3.6521694214876037,3.7964285714285713,3.4129259058950785,3.4869565217391307,3.6152502910360886,3.429770992366412,3.2181818181818183,3.4736263736263737,3.529144385026738,3.499809523809524,3.478947368421052,3.7222222222222223,3.606451612903226,3.2639378238341967,3.5456521739130435,3.978756476683938,3.8143518518518515,3.901511969760605,3.6624662466246622,3.7478420569329662,3.6075,3.320238095238095,3.8074074074074074,4.042885771543086,3.74055023923445,3.4375,3.2940677966101695,3.668237082066869,3.4005322687957418,3.4555555555555557,3.4,3.3333333333333335,3.5831739961759084,2.3857142857142857,3.389119170984456,3.1818181818181817,3.2,3.278125,3.727007299270073,3.422381930184805,3.85,3.107142857142857,3.8445723684210527,3.6880126182965296,3.839655172413793,3.478723404255319,3.36,3.965384615384615,3.4735582154515776,3.704929577464789,3.3235897435897437,3.4989169675090253,3.4197802197802196,4.017201166180758,3.0953947368421053,3.5413984461709216,3.511111111111111,3.2989247311827956,3.5809523809523807,3.249295774647887,2.02,3.384170112226816,3.2576354679802955,3.6399999999999997,3.5026785714285715],\"coloraxis\":\"coloraxis\",\"size\":[4261,805,499,1324,628,145,1078,157,1084,581,66,8,550,78,309,475,429,30,296,964,578,111,2128,10,131,74,84,1936,140,1849,23,1718,262,11,91,748,525,19,9,31,965,92,193,864,2381,1111,1089,240,168,27,499,836,24,118,658,1503,18,1,165,523,14,386,22,1,64,137,487,2,28,608,634,58,47,50,26,919,142,390,277,91,343,152,901,9,93,252,71,5,1693,203,5,112],\"sizemode\":\"area\",\"sizeref\":4.734444444444445},\"mode\":\"markers\",\"name\":\"\",\"showlegend\":false,\"subplot\":\"mapbox\",\"type\":\"scattermapbox\"}],                        {\"template\":{\"data\":{\"histogram2dcontour\":[{\"type\":\"histogram2dcontour\",\"colorbar\":{\"outlinewidth\":0,\"ticks\":\"\"},\"colorscale\":[[0.0,\"#0d0887\"],[0.1111111111111111,\"#46039f\"],[0.2222222222222222,\"#7201a8\"],[0.3333333333333333,\"#9c179e\"],[0.4444444444444444,\"#bd3786\"],[0.5555555555555556,\"#d8576b\"],[0.6666666666666666,\"#ed7953\"],[0.7777777777777778,\"#fb9f3a\"],[0.8888888888888888,\"#fdca26\"],[1.0,\"#f0f921\"]]}],\"choropleth\":[{\"type\":\"choropleth\",\"colorbar\":{\"outlinewidth\":0,\"ticks\":\"\"}}],\"histogram2d\":[{\"type\":\"histogram2d\",\"colorbar\":{\"outlinewidth\":0,\"ticks\":\"\"},\"colorscale\":[[0.0,\"#0d0887\"],[0.1111111111111111,\"#46039f\"],[0.2222222222222222,\"#7201a8\"],[0.3333333333333333,\"#9c179e\"],[0.4444444444444444,\"#bd3786\"],[0.5555555555555556,\"#d8576b\"],[0.6666666666666666,\"#ed7953\"],[0.7777777777777778,\"#fb9f3a\"],[0.8888888888888888,\"#fdca26\"],[1.0,\"#f0f921\"]]}],\"heatmap\":[{\"type\":\"heatmap\",\"colorbar\":{\"outlinewidth\":0,\"ticks\":\"\"},\"colorscale\":[[0.0,\"#0d0887\"],[0.1111111111111111,\"#46039f\"],[0.2222222222222222,\"#7201a8\"],[0.3333333333333333,\"#9c179e\"],[0.4444444444444444,\"#bd3786\"],[0.5555555555555556,\"#d8576b\"],[0.6666666666666666,\"#ed7953\"],[0.7777777777777778,\"#fb9f3a\"],[0.8888888888888888,\"#fdca26\"],[1.0,\"#f0f921\"]]}],\"heatmapgl\":[{\"type\":\"heatmapgl\",\"colorbar\":{\"outlinewidth\":0,\"ticks\":\"\"},\"colorscale\":[[0.0,\"#0d0887\"],[0.1111111111111111,\"#46039f\"],[0.2222222222222222,\"#7201a8\"],[0.3333333333333333,\"#9c179e\"],[0.4444444444444444,\"#bd3786\"],[0.5555555555555556,\"#d8576b\"],[0.6666666666666666,\"#ed7953\"],[0.7777777777777778,\"#fb9f3a\"],[0.8888888888888888,\"#fdca26\"],[1.0,\"#f0f921\"]]}],\"contourcarpet\":[{\"type\":\"contourcarpet\",\"colorbar\":{\"outlinewidth\":0,\"ticks\":\"\"}}],\"contour\":[{\"type\":\"contour\",\"colorbar\":{\"outlinewidth\":0,\"ticks\":\"\"},\"colorscale\":[[0.0,\"#0d0887\"],[0.1111111111111111,\"#46039f\"],[0.2222222222222222,\"#7201a8\"],[0.3333333333333333,\"#9c179e\"],[0.4444444444444444,\"#bd3786\"],[0.5555555555555556,\"#d8576b\"],[0.6666666666666666,\"#ed7953\"],[0.7777777777777778,\"#fb9f3a\"],[0.8888888888888888,\"#fdca26\"],[1.0,\"#f0f921\"]]}],\"surface\":[{\"type\":\"surface\",\"colorbar\":{\"outlinewidth\":0,\"ticks\":\"\"},\"colorscale\":[[0.0,\"#0d0887\"],[0.1111111111111111,\"#46039f\"],[0.2222222222222222,\"#7201a8\"],[0.3333333333333333,\"#9c179e\"],[0.4444444444444444,\"#bd3786\"],[0.5555555555555556,\"#d8576b\"],[0.6666666666666666,\"#ed7953\"],[0.7777777777777778,\"#fb9f3a\"],[0.8888888888888888,\"#fdca26\"],[1.0,\"#f0f921\"]]}],\"mesh3d\":[{\"type\":\"mesh3d\",\"colorbar\":{\"outlinewidth\":0,\"ticks\":\"\"}}],\"scatter\":[{\"fillpattern\":{\"fillmode\":\"overlay\",\"size\":10,\"solidity\":0.2},\"type\":\"scatter\"}],\"parcoords\":[{\"type\":\"parcoords\",\"line\":{\"colorbar\":{\"outlinewidth\":0,\"ticks\":\"\"}}}],\"scatterpolargl\":[{\"type\":\"scatterpolargl\",\"marker\":{\"colorbar\":{\"outlinewidth\":0,\"ticks\":\"\"}}}],\"bar\":[{\"error_x\":{\"color\":\"#2a3f5f\"},\"error_y\":{\"color\":\"#2a3f5f\"},\"marker\":{\"line\":{\"color\":\"#E5ECF6\",\"width\":0.5},\"pattern\":{\"fillmode\":\"overlay\",\"size\":10,\"solidity\":0.2}},\"type\":\"bar\"}],\"scattergeo\":[{\"type\":\"scattergeo\",\"marker\":{\"colorbar\":{\"outlinewidth\":0,\"ticks\":\"\"}}}],\"scatterpolar\":[{\"type\":\"scatterpolar\",\"marker\":{\"colorbar\":{\"outlinewidth\":0,\"ticks\":\"\"}}}],\"histogram\":[{\"marker\":{\"pattern\":{\"fillmode\":\"overlay\",\"size\":10,\"solidity\":0.2}},\"type\":\"histogram\"}],\"scattergl\":[{\"type\":\"scattergl\",\"marker\":{\"colorbar\":{\"outlinewidth\":0,\"ticks\":\"\"}}}],\"scatter3d\":[{\"type\":\"scatter3d\",\"line\":{\"colorbar\":{\"outlinewidth\":0,\"ticks\":\"\"}},\"marker\":{\"colorbar\":{\"outlinewidth\":0,\"ticks\":\"\"}}}],\"scattermapbox\":[{\"type\":\"scattermapbox\",\"marker\":{\"colorbar\":{\"outlinewidth\":0,\"ticks\":\"\"}}}],\"scatterternary\":[{\"type\":\"scatterternary\",\"marker\":{\"colorbar\":{\"outlinewidth\":0,\"ticks\":\"\"}}}],\"scattercarpet\":[{\"type\":\"scattercarpet\",\"marker\":{\"colorbar\":{\"outlinewidth\":0,\"ticks\":\"\"}}}],\"carpet\":[{\"aaxis\":{\"endlinecolor\":\"#2a3f5f\",\"gridcolor\":\"white\",\"linecolor\":\"white\",\"minorgridcolor\":\"white\",\"startlinecolor\":\"#2a3f5f\"},\"baxis\":{\"endlinecolor\":\"#2a3f5f\",\"gridcolor\":\"white\",\"linecolor\":\"white\",\"minorgridcolor\":\"white\",\"startlinecolor\":\"#2a3f5f\"},\"type\":\"carpet\"}],\"table\":[{\"cells\":{\"fill\":{\"color\":\"#EBF0F8\"},\"line\":{\"color\":\"white\"}},\"header\":{\"fill\":{\"color\":\"#C8D4E3\"},\"line\":{\"color\":\"white\"}},\"type\":\"table\"}],\"barpolar\":[{\"marker\":{\"line\":{\"color\":\"#E5ECF6\",\"width\":0.5},\"pattern\":{\"fillmode\":\"overlay\",\"size\":10,\"solidity\":0.2}},\"type\":\"barpolar\"}],\"pie\":[{\"automargin\":true,\"type\":\"pie\"}]},\"layout\":{\"autotypenumbers\":\"strict\",\"colorway\":[\"#636efa\",\"#EF553B\",\"#00cc96\",\"#ab63fa\",\"#FFA15A\",\"#19d3f3\",\"#FF6692\",\"#B6E880\",\"#FF97FF\",\"#FECB52\"],\"font\":{\"color\":\"#2a3f5f\"},\"hovermode\":\"closest\",\"hoverlabel\":{\"align\":\"left\"},\"paper_bgcolor\":\"white\",\"plot_bgcolor\":\"#E5ECF6\",\"polar\":{\"bgcolor\":\"#E5ECF6\",\"angularaxis\":{\"gridcolor\":\"white\",\"linecolor\":\"white\",\"ticks\":\"\"},\"radialaxis\":{\"gridcolor\":\"white\",\"linecolor\":\"white\",\"ticks\":\"\"}},\"ternary\":{\"bgcolor\":\"#E5ECF6\",\"aaxis\":{\"gridcolor\":\"white\",\"linecolor\":\"white\",\"ticks\":\"\"},\"baxis\":{\"gridcolor\":\"white\",\"linecolor\":\"white\",\"ticks\":\"\"},\"caxis\":{\"gridcolor\":\"white\",\"linecolor\":\"white\",\"ticks\":\"\"}},\"coloraxis\":{\"colorbar\":{\"outlinewidth\":0,\"ticks\":\"\"}},\"colorscale\":{\"sequential\":[[0.0,\"#0d0887\"],[0.1111111111111111,\"#46039f\"],[0.2222222222222222,\"#7201a8\"],[0.3333333333333333,\"#9c179e\"],[0.4444444444444444,\"#bd3786\"],[0.5555555555555556,\"#d8576b\"],[0.6666666666666666,\"#ed7953\"],[0.7777777777777778,\"#fb9f3a\"],[0.8888888888888888,\"#fdca26\"],[1.0,\"#f0f921\"]],\"sequentialminus\":[[0.0,\"#0d0887\"],[0.1111111111111111,\"#46039f\"],[0.2222222222222222,\"#7201a8\"],[0.3333333333333333,\"#9c179e\"],[0.4444444444444444,\"#bd3786\"],[0.5555555555555556,\"#d8576b\"],[0.6666666666666666,\"#ed7953\"],[0.7777777777777778,\"#fb9f3a\"],[0.8888888888888888,\"#fdca26\"],[1.0,\"#f0f921\"]],\"diverging\":[[0,\"#8e0152\"],[0.1,\"#c51b7d\"],[0.2,\"#de77ae\"],[0.3,\"#f1b6da\"],[0.4,\"#fde0ef\"],[0.5,\"#f7f7f7\"],[0.6,\"#e6f5d0\"],[0.7,\"#b8e186\"],[0.8,\"#7fbc41\"],[0.9,\"#4d9221\"],[1,\"#276419\"]]},\"xaxis\":{\"gridcolor\":\"white\",\"linecolor\":\"white\",\"ticks\":\"\",\"title\":{\"standoff\":15},\"zerolinecolor\":\"white\",\"automargin\":true,\"zerolinewidth\":2},\"yaxis\":{\"gridcolor\":\"white\",\"linecolor\":\"white\",\"ticks\":\"\",\"title\":{\"standoff\":15},\"zerolinecolor\":\"white\",\"automargin\":true,\"zerolinewidth\":2},\"scene\":{\"xaxis\":{\"backgroundcolor\":\"#E5ECF6\",\"gridcolor\":\"white\",\"linecolor\":\"white\",\"showbackground\":true,\"ticks\":\"\",\"zerolinecolor\":\"white\",\"gridwidth\":2},\"yaxis\":{\"backgroundcolor\":\"#E5ECF6\",\"gridcolor\":\"white\",\"linecolor\":\"white\",\"showbackground\":true,\"ticks\":\"\",\"zerolinecolor\":\"white\",\"gridwidth\":2},\"zaxis\":{\"backgroundcolor\":\"#E5ECF6\",\"gridcolor\":\"white\",\"linecolor\":\"white\",\"showbackground\":true,\"ticks\":\"\",\"zerolinecolor\":\"white\",\"gridwidth\":2}},\"shapedefaults\":{\"line\":{\"color\":\"#2a3f5f\"}},\"annotationdefaults\":{\"arrowcolor\":\"#2a3f5f\",\"arrowhead\":0,\"arrowwidth\":1},\"geo\":{\"bgcolor\":\"white\",\"landcolor\":\"#E5ECF6\",\"subunitcolor\":\"white\",\"showland\":true,\"showlakes\":true,\"lakecolor\":\"white\"},\"title\":{\"x\":0.05},\"mapbox\":{\"style\":\"light\"}}},\"mapbox\":{\"domain\":{\"x\":[0.0,1.0],\"y\":[0.0,1.0]},\"center\":{\"lat\":12.969236215217391,\"lon\":77.61007656086956},\"zoom\":11,\"style\":\"carto-positron\"},\"coloraxis\":{\"colorbar\":{\"title\":{\"text\":\"avg_rating\"}},\"colorscale\":[[0.0,\"#440154\"],[0.1111111111111111,\"#482878\"],[0.2222222222222222,\"#3e4989\"],[0.3333333333333333,\"#31688e\"],[0.4444444444444444,\"#26828e\"],[0.5555555555555556,\"#1f9e89\"],[0.6666666666666666,\"#35b779\"],[0.7777777777777778,\"#6ece58\"],[0.8888888888888888,\"#b5de2b\"],[1.0,\"#fde725\"]]},\"legend\":{\"tracegroupgap\":0,\"itemsizing\":\"constant\"},\"margin\":{\"t\":60},\"height\":600,\"title\":{\"text\":\"Bangalore Restaurant Hotspots\"}},                        {\"responsive\": true}                    ).then(function(){\n",
       "                            \n",
       "var gd = document.getElementById('7f816a7a-eb33-4755-9d8e-fa39d3e6dc48');\n",
       "var x = new MutationObserver(function (mutations, observer) {{\n",
       "        var display = window.getComputedStyle(gd).display;\n",
       "        if (!display || display === 'none') {{\n",
       "            console.log([gd, 'removed!']);\n",
       "            Plotly.purge(gd);\n",
       "            observer.disconnect();\n",
       "        }}\n",
       "}});\n",
       "\n",
       "// Listen for the removal of the full notebook cells\n",
       "var notebookContainer = gd.closest('#notebook-container');\n",
       "if (notebookContainer) {{\n",
       "    x.observe(notebookContainer, {childList: true});\n",
       "}}\n",
       "\n",
       "// Listen for the clearing of the current output cell\n",
       "var outputEl = gd.closest('.output');\n",
       "if (outputEl) {{\n",
       "    x.observe(outputEl, {childList: true});\n",
       "}}\n",
       "\n",
       "                        })                };                });            </script>        </div>"
      ]
     },
     "metadata": {},
     "output_type": "display_data"
    }
   ],
   "source": [
    "\n",
    "fig = px.scatter_mapbox(\n",
    "    data_frame = Ratings_locations,\n",
    "    lat = \"lat\",\n",
    "    lon = \"lon\",\n",
    "    size = 'Total_Restaurant',                # size = number of restaurants\n",
    "    color = \"avg_rating\",          # color = rating\n",
    "    hover_name = \"Name\",\n",
    "    hover_data = {\n",
    "        \"avg_rating\": True,\n",
    "        'Total_Restaurant': True,\n",
    "        \"lat\": False,\n",
    "        \"lon\": False\n",
    "    },\n",
    "    color_continuous_scale = \"Viridis\",\n",
    "    size_max = 30,\n",
    "    zoom = 11, ## controls the zoom level of your map\n",
    "    height=600,\n",
    ")\n",
    "\n",
    "fig.update_layout(mapbox_style=\"carto-positron\", title=\"Bangalore Restaurant Hotspots\")\n",
    "fig.show()\n"
   ]
  },
  {
   "cell_type": "code",
   "execution_count": null,
   "id": "48638aef",
   "metadata": {},
   "outputs": [],
   "source": [
    "'''\n",
    "\n",
    "Key Insights\n",
    "🎯 Popular Areas Have Higher Density\n",
    "Areas like Koramangala, Indiranagar, BTM, and Marathahalli (center & south-east cluster) \n",
    "have larger bubbles ➜ High restaurant count, indicating they are food hubs.\n",
    "\n",
    "\n",
    "🌟 Better Ratings in Central Zones\n",
    "Central Bengaluru (near MG Road, Church Street, and Koramangala) shows yellowish colors, \n",
    "which indicates higher average ratings (⭐ 3.8+).\n",
    "These areas likely offer better dining experiences, as users rate them well.\n",
    "\n",
    "\n",
    "\n",
    "Not All Popular Areas Have High Ratings\n",
    "Some large-sized greenish (mid-level) circles suggest that high number of restaurants doesn’t always mean high quality.\n",
    "This could hint at quantity > quality in some clusters.( BTM Layout , JP Nagar , Electronic City)\n",
    "\n",
    "\n",
    "\n",
    "'''"
   ]
  },
  {
   "cell_type": "code",
   "execution_count": null,
   "id": "d38cc10a",
   "metadata": {},
   "outputs": [],
   "source": []
  },
  {
   "cell_type": "code",
   "execution_count": null,
   "id": "7a40fd1e",
   "metadata": {},
   "outputs": [],
   "source": []
  },
  {
   "cell_type": "code",
   "execution_count": null,
   "id": "bf535633",
   "metadata": {},
   "outputs": [],
   "source": []
  },
  {
   "cell_type": "code",
   "execution_count": null,
   "id": "1c773ad4",
   "metadata": {},
   "outputs": [],
   "source": []
  },
  {
   "cell_type": "code",
   "execution_count": null,
   "id": "6e6465e3",
   "metadata": {},
   "outputs": [],
   "source": []
  },
  {
   "cell_type": "code",
   "execution_count": null,
   "id": "12e2142b",
   "metadata": {},
   "outputs": [],
   "source": []
  },
  {
   "cell_type": "code",
   "execution_count": null,
   "id": "8b19ff05",
   "metadata": {},
   "outputs": [],
   "source": []
  },
  {
   "cell_type": "code",
   "execution_count": null,
   "id": "d7529934",
   "metadata": {},
   "outputs": [],
   "source": []
  },
  {
   "cell_type": "code",
   "execution_count": null,
   "id": "84f4810f",
   "metadata": {},
   "outputs": [],
   "source": []
  },
  {
   "cell_type": "code",
   "execution_count": 125,
   "id": "8db9c644",
   "metadata": {},
   "outputs": [],
   "source": [
    "#rest_loc.to_csv(r\"R:\\All_Datasets\\Spatial_Analysis\\1.. Zomato\\Deployment\\Zomato_Bengalore_rest_coordinates.csv\" , index= False)\n",
    "\n",
    "#df.to_csv(r\"R:\\All_Datasets\\Spatial_Analysis\\1.. Zomato\\Deployment\\preprocessed_Zomato.csv\" , index= False)"
   ]
  },
  {
   "cell_type": "code",
   "execution_count": null,
   "id": "de3da242",
   "metadata": {},
   "outputs": [],
   "source": []
  },
  {
   "cell_type": "code",
   "execution_count": 126,
   "id": "f63a4f7e",
   "metadata": {},
   "outputs": [
    {
     "ename": "NameError",
     "evalue": "name 'de' is not defined",
     "output_type": "error",
     "traceback": [
      "\u001b[1;31m---------------------------------------------------------------------------\u001b[0m",
      "\u001b[1;31mNameError\u001b[0m                                 Traceback (most recent call last)",
      "Cell \u001b[1;32mIn[126], line 1\u001b[0m\n\u001b[1;32m----> 1\u001b[0m de\n",
      "\u001b[1;31mNameError\u001b[0m: name 'de' is not defined"
     ]
    }
   ],
   "source": [
    "de"
   ]
  },
  {
   "cell_type": "code",
   "execution_count": null,
   "id": "38eafb79",
   "metadata": {},
   "outputs": [],
   "source": []
  },
  {
   "cell_type": "code",
   "execution_count": null,
   "id": "e87ea400",
   "metadata": {},
   "outputs": [],
   "source": []
  },
  {
   "cell_type": "code",
   "execution_count": null,
   "id": "49bcc577",
   "metadata": {},
   "outputs": [],
   "source": []
  },
  {
   "cell_type": "code",
   "execution_count": null,
   "id": "4f5b89f9",
   "metadata": {},
   "outputs": [],
   "source": []
  },
  {
   "cell_type": "markdown",
   "id": "e03abb84",
   "metadata": {},
   "source": [
    "## 10.. Analysing which are Best Rated Restaurants Near You !\n",
    "    which are high-rated restaurants within 2 km ?\n",
    "    "
   ]
  },
  {
   "cell_type": "code",
   "execution_count": null,
   "id": "f34d1fcb",
   "metadata": {},
   "outputs": [],
   "source": [
    "'''\n",
    "Goal :\n",
    "Given a location (e.g., user’s or new restaurant location), \n",
    "find nearby restaurants within a specific radius (e.g., 2 km), and recommend based on rating, cuisine, etc\n",
    "'''"
   ]
  },
  {
   "cell_type": "code",
   "execution_count": null,
   "id": "84cc1f62",
   "metadata": {},
   "outputs": [],
   "source": [
    "## 🔹 1. Choose a Reference Point\n",
    "## Let’s say a user is in Koramangala, Bangalore and you have their coordinates:\n",
    "\n",
    "## user_location = (12.9352, 77.6146)  # (latitude, longitude)"
   ]
  },
  {
   "cell_type": "code",
   "execution_count": null,
   "id": "bdd91b88",
   "metadata": {},
   "outputs": [],
   "source": []
  },
  {
   "cell_type": "code",
   "execution_count": 137,
   "id": "b34f3f2a",
   "metadata": {},
   "outputs": [],
   "source": [
    "## Loop Through Restaurants and Calculate Distance\n",
    "\n",
    "user_location = (12.9716, 77.5946)\n",
    "\n",
    "from geopy.distance import distance\n",
    "## distance() uses the geodesic distance by default ( which is used in GPS like apps )\n",
    "\n",
    "# Example: filter restaurants within 2km !\n",
    "within_2km = []\n",
    "\n",
    "for index, row in Ratings_locations.iterrows():\n",
    "    restaurant_coords = (row['lat'], row['lon'])\n",
    "    dist = distance(user_location, restaurant_coords).km\n",
    "    \n",
    "    if dist <= 2:\n",
    "        within_2km.append({\n",
    "            'name': row['Name'],\n",
    "            'rating': row['avg_rating'],\n",
    "            'lat': row['lat'],\n",
    "            'lon': row['lon'],\n",
    "            'distance_km': round(dist, 2)\n",
    "        })\n",
    "        \n",
    "        ## this is a list of dictionaries"
   ]
  },
  {
   "cell_type": "code",
   "execution_count": 138,
   "id": "6a08fbf3",
   "metadata": {},
   "outputs": [
    {
     "data": {
      "text/plain": [
       "[{'name': 'Brigade Road , Bangalore , Karnataka , India',\n",
       "  'rating': 3.595848708487085,\n",
       "  'lat': 12.971609,\n",
       "  'lon': 77.6070463,\n",
       "  'distance_km': 1.35},\n",
       " {'name': 'Church Street , Bangalore , Karnataka , India',\n",
       "  'rating': 3.9630909090909086,\n",
       "  'lat': 12.9749142,\n",
       "  'lon': 77.6052474,\n",
       "  'distance_km': 1.21},\n",
       " {'name': 'Cunningham Road , Bangalore , Karnataka , India',\n",
       "  'rating': 3.9010526315789473,\n",
       "  'lat': 12.9884255,\n",
       "  'lon': 77.5938978,\n",
       "  'distance_km': 1.86},\n",
       " {'name': 'Lavelle Road , Bangalore , Karnataka , India',\n",
       "  'rating': 4.042885771543086,\n",
       "  'lat': 12.9722287,\n",
       "  'lon': 77.5986661,\n",
       "  'distance_km': 0.45},\n",
       " {'name': 'MG Road , Bangalore , Karnataka , India',\n",
       "  'rating': 3.74055023923445,\n",
       "  'lat': 12.9755264,\n",
       "  'lon': 77.6067902,\n",
       "  'distance_km': 1.39},\n",
       " {'name': 'Residency Road , Bangalore , Karnataka , India',\n",
       "  'rating': 3.8445723684210527,\n",
       "  'lat': 12.9672634,\n",
       "  'lon': 77.5993931,\n",
       "  'distance_km': 0.71}]"
      ]
     },
     "execution_count": 138,
     "metadata": {},
     "output_type": "execute_result"
    }
   ],
   "source": [
    "within_2km"
   ]
  },
  {
   "cell_type": "code",
   "execution_count": 139,
   "id": "e917fc17",
   "metadata": {},
   "outputs": [],
   "source": [
    "#type(within_2km)             # <class 'list'>\n",
    "#type(within_2km[0])          # <class 'dict'>"
   ]
  },
  {
   "cell_type": "code",
   "execution_count": 140,
   "id": "77db4190",
   "metadata": {},
   "outputs": [],
   "source": [
    "# Convert to DataFrame if needed\n",
    "import pandas as pd\n",
    "nearby_df = pd.DataFrame(within_2km).sort_values(by='rating', ascending=False)"
   ]
  },
  {
   "cell_type": "code",
   "execution_count": 141,
   "id": "720bb583",
   "metadata": {},
   "outputs": [
    {
     "data": {
      "text/html": [
       "<div>\n",
       "<style scoped>\n",
       "    .dataframe tbody tr th:only-of-type {\n",
       "        vertical-align: middle;\n",
       "    }\n",
       "\n",
       "    .dataframe tbody tr th {\n",
       "        vertical-align: top;\n",
       "    }\n",
       "\n",
       "    .dataframe thead th {\n",
       "        text-align: right;\n",
       "    }\n",
       "</style>\n",
       "<table border=\"1\" class=\"dataframe\">\n",
       "  <thead>\n",
       "    <tr style=\"text-align: right;\">\n",
       "      <th></th>\n",
       "      <th>name</th>\n",
       "      <th>rating</th>\n",
       "      <th>lat</th>\n",
       "      <th>lon</th>\n",
       "      <th>distance_km</th>\n",
       "    </tr>\n",
       "  </thead>\n",
       "  <tbody>\n",
       "    <tr>\n",
       "      <th>3</th>\n",
       "      <td>Lavelle Road , Bangalore , Karnataka , India</td>\n",
       "      <td>4.042886</td>\n",
       "      <td>12.972229</td>\n",
       "      <td>77.598666</td>\n",
       "      <td>0.45</td>\n",
       "    </tr>\n",
       "    <tr>\n",
       "      <th>1</th>\n",
       "      <td>Church Street , Bangalore , Karnataka , India</td>\n",
       "      <td>3.963091</td>\n",
       "      <td>12.974914</td>\n",
       "      <td>77.605247</td>\n",
       "      <td>1.21</td>\n",
       "    </tr>\n",
       "    <tr>\n",
       "      <th>2</th>\n",
       "      <td>Cunningham Road , Bangalore , Karnataka , India</td>\n",
       "      <td>3.901053</td>\n",
       "      <td>12.988425</td>\n",
       "      <td>77.593898</td>\n",
       "      <td>1.86</td>\n",
       "    </tr>\n",
       "    <tr>\n",
       "      <th>5</th>\n",
       "      <td>Residency Road , Bangalore , Karnataka , India</td>\n",
       "      <td>3.844572</td>\n",
       "      <td>12.967263</td>\n",
       "      <td>77.599393</td>\n",
       "      <td>0.71</td>\n",
       "    </tr>\n",
       "    <tr>\n",
       "      <th>4</th>\n",
       "      <td>MG Road , Bangalore , Karnataka , India</td>\n",
       "      <td>3.740550</td>\n",
       "      <td>12.975526</td>\n",
       "      <td>77.606790</td>\n",
       "      <td>1.39</td>\n",
       "    </tr>\n",
       "  </tbody>\n",
       "</table>\n",
       "</div>"
      ],
      "text/plain": [
       "                                              name    rating        lat  \\\n",
       "3     Lavelle Road , Bangalore , Karnataka , India  4.042886  12.972229   \n",
       "1    Church Street , Bangalore , Karnataka , India  3.963091  12.974914   \n",
       "2  Cunningham Road , Bangalore , Karnataka , India  3.901053  12.988425   \n",
       "5   Residency Road , Bangalore , Karnataka , India  3.844572  12.967263   \n",
       "4          MG Road , Bangalore , Karnataka , India  3.740550  12.975526   \n",
       "\n",
       "         lon  distance_km  \n",
       "3  77.598666         0.45  \n",
       "1  77.605247         1.21  \n",
       "2  77.593898         1.86  \n",
       "5  77.599393         0.71  \n",
       "4  77.606790         1.39  "
      ]
     },
     "execution_count": 141,
     "metadata": {},
     "output_type": "execute_result"
    }
   ],
   "source": [
    "nearby_df.head(5)"
   ]
  },
  {
   "cell_type": "code",
   "execution_count": 142,
   "id": "2c26cc51",
   "metadata": {},
   "outputs": [
    {
     "data": {
      "text/plain": [
       "Index(['name', 'rating', 'lat', 'lon', 'distance_km'], dtype='object')"
      ]
     },
     "execution_count": 142,
     "metadata": {},
     "output_type": "execute_result"
    }
   ],
   "source": [
    "nearby_df.columns"
   ]
  },
  {
   "cell_type": "code",
   "execution_count": 143,
   "id": "cacf4b97",
   "metadata": {},
   "outputs": [
    {
     "data": {
      "text/plain": [
       "name            object\n",
       "rating         float64\n",
       "lat            float64\n",
       "lon            float64\n",
       "distance_km    float64\n",
       "dtype: object"
      ]
     },
     "execution_count": 143,
     "metadata": {},
     "output_type": "execute_result"
    }
   ],
   "source": [
    "nearby_df.dtypes"
   ]
  },
  {
   "cell_type": "code",
   "execution_count": null,
   "id": "768bf128",
   "metadata": {},
   "outputs": [],
   "source": []
  },
  {
   "cell_type": "code",
   "execution_count": 144,
   "id": "5246e45b",
   "metadata": {},
   "outputs": [],
   "source": [
    "\n",
    "# ✅ Add the user location as a separate row..\n",
    "\n",
    "user_df = pd.DataFrame([{\n",
    "    'name': 'User Location',\n",
    "    'rating': np.float16(None),\n",
    "    'lat': user_location[0],\n",
    "    'lon': user_location[1],\n",
    "    'distance_km': 0\n",
    "}])"
   ]
  },
  {
   "cell_type": "code",
   "execution_count": 148,
   "id": "b2799142",
   "metadata": {},
   "outputs": [
    {
     "ename": "SyntaxError",
     "evalue": "(unicode error) 'unicodeescape' codec can't decode bytes in position 280-281: truncated \\UXXXXXXXX escape (1787626433.py, line 1)",
     "output_type": "error",
     "traceback": [
      "\u001b[1;36m  Cell \u001b[1;32mIn[148], line 1\u001b[1;36m\u001b[0m\n\u001b[1;33m    '''\u001b[0m\n\u001b[1;37m    ^\u001b[0m\n\u001b[1;31mSyntaxError\u001b[0m\u001b[1;31m:\u001b[0m (unicode error) 'unicodeescape' codec can't decode bytes in position 280-281: truncated \\UXXXXXXXX escape\n"
     ]
    }
   ],
   "source": [
    "'''\n",
    "\n",
    "use np.float16(None) bcz while concatening we were getting warnings as :\n",
    "Summary of warning :\n",
    "When you use pd.concat() to combine DataFrames, pandas tries to infer the data type (dtype) of each column.\n",
    "ie kindly make sure that all cols of both dataframe have same data-type\n",
    "\n",
    "\n",
    "C:\\Users\\shant\\AppData\\Local\\Temp\\ipykernel_22656\\2893167078.py:11: FutureWarning:\n",
    "The behavior of DataFrame concatenation with empty or all-NA entries is deprecated..\n",
    "In a future version, this will no longer exclude empty or all-NA columns when determining the result dtypes. \n",
    "To retain the old behavior, exclude the relevant entries before the concat operation\n",
    "\n",
    "\n",
    "'''"
   ]
  },
  {
   "cell_type": "code",
   "execution_count": null,
   "id": "fcc065e5",
   "metadata": {},
   "outputs": [],
   "source": []
  },
  {
   "cell_type": "code",
   "execution_count": 149,
   "id": "e8f18c73",
   "metadata": {},
   "outputs": [
    {
     "data": {
      "text/plain": [
       "name            object\n",
       "rating         float16\n",
       "lat            float64\n",
       "lon            float64\n",
       "distance_km      int64\n",
       "dtype: object"
      ]
     },
     "execution_count": 149,
     "metadata": {},
     "output_type": "execute_result"
    }
   ],
   "source": [
    "user_df.dtypes"
   ]
  },
  {
   "cell_type": "code",
   "execution_count": 150,
   "id": "400eaacf",
   "metadata": {},
   "outputs": [
    {
     "data": {
      "text/html": [
       "<div>\n",
       "<style scoped>\n",
       "    .dataframe tbody tr th:only-of-type {\n",
       "        vertical-align: middle;\n",
       "    }\n",
       "\n",
       "    .dataframe tbody tr th {\n",
       "        vertical-align: top;\n",
       "    }\n",
       "\n",
       "    .dataframe thead th {\n",
       "        text-align: right;\n",
       "    }\n",
       "</style>\n",
       "<table border=\"1\" class=\"dataframe\">\n",
       "  <thead>\n",
       "    <tr style=\"text-align: right;\">\n",
       "      <th></th>\n",
       "      <th>name</th>\n",
       "      <th>rating</th>\n",
       "      <th>lat</th>\n",
       "      <th>lon</th>\n",
       "      <th>distance_km</th>\n",
       "      <th>Type</th>\n",
       "    </tr>\n",
       "  </thead>\n",
       "  <tbody>\n",
       "    <tr>\n",
       "      <th>0</th>\n",
       "      <td>User Location</td>\n",
       "      <td>NaN</td>\n",
       "      <td>12.971600</td>\n",
       "      <td>77.594600</td>\n",
       "      <td>0.00</td>\n",
       "      <td>User</td>\n",
       "    </tr>\n",
       "    <tr>\n",
       "      <th>1</th>\n",
       "      <td>Lavelle Road , Bangalore , Karnataka , India</td>\n",
       "      <td>4.042886</td>\n",
       "      <td>12.972229</td>\n",
       "      <td>77.598666</td>\n",
       "      <td>0.45</td>\n",
       "      <td>Restaurant</td>\n",
       "    </tr>\n",
       "    <tr>\n",
       "      <th>2</th>\n",
       "      <td>Church Street , Bangalore , Karnataka , India</td>\n",
       "      <td>3.963091</td>\n",
       "      <td>12.974914</td>\n",
       "      <td>77.605247</td>\n",
       "      <td>1.21</td>\n",
       "      <td>Restaurant</td>\n",
       "    </tr>\n",
       "    <tr>\n",
       "      <th>3</th>\n",
       "      <td>Cunningham Road , Bangalore , Karnataka , India</td>\n",
       "      <td>3.901053</td>\n",
       "      <td>12.988425</td>\n",
       "      <td>77.593898</td>\n",
       "      <td>1.86</td>\n",
       "      <td>Restaurant</td>\n",
       "    </tr>\n",
       "    <tr>\n",
       "      <th>4</th>\n",
       "      <td>Residency Road , Bangalore , Karnataka , India</td>\n",
       "      <td>3.844572</td>\n",
       "      <td>12.967263</td>\n",
       "      <td>77.599393</td>\n",
       "      <td>0.71</td>\n",
       "      <td>Restaurant</td>\n",
       "    </tr>\n",
       "    <tr>\n",
       "      <th>5</th>\n",
       "      <td>MG Road , Bangalore , Karnataka , India</td>\n",
       "      <td>3.740550</td>\n",
       "      <td>12.975526</td>\n",
       "      <td>77.606790</td>\n",
       "      <td>1.39</td>\n",
       "      <td>Restaurant</td>\n",
       "    </tr>\n",
       "    <tr>\n",
       "      <th>6</th>\n",
       "      <td>Brigade Road , Bangalore , Karnataka , India</td>\n",
       "      <td>3.595849</td>\n",
       "      <td>12.971609</td>\n",
       "      <td>77.607046</td>\n",
       "      <td>1.35</td>\n",
       "      <td>Restaurant</td>\n",
       "    </tr>\n",
       "  </tbody>\n",
       "</table>\n",
       "</div>"
      ],
      "text/plain": [
       "                                              name    rating        lat  \\\n",
       "0                                    User Location       NaN  12.971600   \n",
       "1     Lavelle Road , Bangalore , Karnataka , India  4.042886  12.972229   \n",
       "2    Church Street , Bangalore , Karnataka , India  3.963091  12.974914   \n",
       "3  Cunningham Road , Bangalore , Karnataka , India  3.901053  12.988425   \n",
       "4   Residency Road , Bangalore , Karnataka , India  3.844572  12.967263   \n",
       "5          MG Road , Bangalore , Karnataka , India  3.740550  12.975526   \n",
       "6     Brigade Road , Bangalore , Karnataka , India  3.595849  12.971609   \n",
       "\n",
       "         lon  distance_km        Type  \n",
       "0  77.594600         0.00        User  \n",
       "1  77.598666         0.45  Restaurant  \n",
       "2  77.605247         1.21  Restaurant  \n",
       "3  77.593898         1.86  Restaurant  \n",
       "4  77.599393         0.71  Restaurant  \n",
       "5  77.606790         1.39  Restaurant  \n",
       "6  77.607046         1.35  Restaurant  "
      ]
     },
     "execution_count": 150,
     "metadata": {},
     "output_type": "execute_result"
    }
   ],
   "source": [
    "\n",
    "\n",
    "# Combine\n",
    "plot_df = pd.concat([user_df, nearby_df], ignore_index=True)\n",
    "\n",
    "# ✅ Add a column to highlight the user vs restaurants\n",
    "plot_df['Type'] = plot_df['name'].apply(lambda x: 'User' if x == 'User Location' else 'Restaurant')\n",
    "plot_df"
   ]
  },
  {
   "cell_type": "code",
   "execution_count": null,
   "id": "e20539d0",
   "metadata": {},
   "outputs": [],
   "source": []
  },
  {
   "cell_type": "code",
   "execution_count": 151,
   "id": "3508a096",
   "metadata": {},
   "outputs": [
    {
     "data": {
      "application/vnd.plotly.v1+json": {
       "config": {
        "plotlyServerURL": "https://plot.ly"
       },
       "data": [
        {
         "customdata": [
          [
           null,
           0
          ]
         ],
         "hovertemplate": "<b>%{hovertext}</b><br><br>Type=User<br>size=%{marker.size}<br>lat=%{lat}<br>lon=%{lon}<br>rating=%{customdata[0]}<br>distance_km=%{customdata[1]}<extra></extra>",
         "hovertext": [
          "User Location"
         ],
         "lat": [
          12.9716
         ],
         "legendgroup": "User",
         "lon": [
          77.5946
         ],
         "marker": {
          "color": "#636efa",
          "size": [
           15
          ],
          "sizemode": "area",
          "sizeref": 0.0375
         },
         "mode": "markers",
         "name": "User",
         "showlegend": true,
         "subplot": "mapbox",
         "type": "scattermapbox"
        },
        {
         "customdata": [
          [
           4.042885771543086,
           0.45
          ],
          [
           3.9630909090909086,
           1.21
          ],
          [
           3.9010526315789473,
           1.86
          ],
          [
           3.8445723684210527,
           0.71
          ],
          [
           3.74055023923445,
           1.39
          ],
          [
           3.595848708487085,
           1.35
          ]
         ],
         "hovertemplate": "<b>%{hovertext}</b><br><br>Type=Restaurant<br>size=%{marker.size}<br>lat=%{lat}<br>lon=%{lon}<br>rating=%{customdata[0]}<br>distance_km=%{customdata[1]}<extra></extra>",
         "hovertext": [
          "Lavelle Road , Bangalore , Karnataka , India",
          "Church Street , Bangalore , Karnataka , India",
          "Cunningham Road , Bangalore , Karnataka , India",
          "Residency Road , Bangalore , Karnataka , India",
          "MG Road , Bangalore , Karnataka , India",
          "Brigade Road , Bangalore , Karnataka , India"
         ],
         "lat": [
          12.9722287,
          12.9749142,
          12.9884255,
          12.9672634,
          12.9755264,
          12.971609
         ],
         "legendgroup": "Restaurant",
         "lon": [
          77.5986661,
          77.6052474,
          77.5938978,
          77.5993931,
          77.6067902,
          77.6070463
         ],
         "marker": {
          "color": "#EF553B",
          "size": [
           8,
           8,
           8,
           8,
           8,
           8
          ],
          "sizemode": "area",
          "sizeref": 0.0375
         },
         "mode": "markers",
         "name": "Restaurant",
         "showlegend": true,
         "subplot": "mapbox",
         "type": "scattermapbox"
        }
       ],
       "layout": {
        "height": 600,
        "legend": {
         "itemsizing": "constant",
         "title": {
          "text": "Location Type"
         },
         "tracegroupgap": 0
        },
        "mapbox": {
         "center": {
          "lat": 12.974509600000001,
          "lon": 77.60080584285713
         },
         "domain": {
          "x": [
           0,
           1
          ],
          "y": [
           0,
           1
          ]
         },
         "style": "open-street-map",
         "zoom": 14
        },
        "margin": {
         "t": 60
        },
        "template": {
         "data": {
          "bar": [
           {
            "error_x": {
             "color": "#2a3f5f"
            },
            "error_y": {
             "color": "#2a3f5f"
            },
            "marker": {
             "line": {
              "color": "#E5ECF6",
              "width": 0.5
             },
             "pattern": {
              "fillmode": "overlay",
              "size": 10,
              "solidity": 0.2
             }
            },
            "type": "bar"
           }
          ],
          "barpolar": [
           {
            "marker": {
             "line": {
              "color": "#E5ECF6",
              "width": 0.5
             },
             "pattern": {
              "fillmode": "overlay",
              "size": 10,
              "solidity": 0.2
             }
            },
            "type": "barpolar"
           }
          ],
          "carpet": [
           {
            "aaxis": {
             "endlinecolor": "#2a3f5f",
             "gridcolor": "white",
             "linecolor": "white",
             "minorgridcolor": "white",
             "startlinecolor": "#2a3f5f"
            },
            "baxis": {
             "endlinecolor": "#2a3f5f",
             "gridcolor": "white",
             "linecolor": "white",
             "minorgridcolor": "white",
             "startlinecolor": "#2a3f5f"
            },
            "type": "carpet"
           }
          ],
          "choropleth": [
           {
            "colorbar": {
             "outlinewidth": 0,
             "ticks": ""
            },
            "type": "choropleth"
           }
          ],
          "contour": [
           {
            "colorbar": {
             "outlinewidth": 0,
             "ticks": ""
            },
            "colorscale": [
             [
              0,
              "#0d0887"
             ],
             [
              0.1111111111111111,
              "#46039f"
             ],
             [
              0.2222222222222222,
              "#7201a8"
             ],
             [
              0.3333333333333333,
              "#9c179e"
             ],
             [
              0.4444444444444444,
              "#bd3786"
             ],
             [
              0.5555555555555556,
              "#d8576b"
             ],
             [
              0.6666666666666666,
              "#ed7953"
             ],
             [
              0.7777777777777778,
              "#fb9f3a"
             ],
             [
              0.8888888888888888,
              "#fdca26"
             ],
             [
              1,
              "#f0f921"
             ]
            ],
            "type": "contour"
           }
          ],
          "contourcarpet": [
           {
            "colorbar": {
             "outlinewidth": 0,
             "ticks": ""
            },
            "type": "contourcarpet"
           }
          ],
          "heatmap": [
           {
            "colorbar": {
             "outlinewidth": 0,
             "ticks": ""
            },
            "colorscale": [
             [
              0,
              "#0d0887"
             ],
             [
              0.1111111111111111,
              "#46039f"
             ],
             [
              0.2222222222222222,
              "#7201a8"
             ],
             [
              0.3333333333333333,
              "#9c179e"
             ],
             [
              0.4444444444444444,
              "#bd3786"
             ],
             [
              0.5555555555555556,
              "#d8576b"
             ],
             [
              0.6666666666666666,
              "#ed7953"
             ],
             [
              0.7777777777777778,
              "#fb9f3a"
             ],
             [
              0.8888888888888888,
              "#fdca26"
             ],
             [
              1,
              "#f0f921"
             ]
            ],
            "type": "heatmap"
           }
          ],
          "heatmapgl": [
           {
            "colorbar": {
             "outlinewidth": 0,
             "ticks": ""
            },
            "colorscale": [
             [
              0,
              "#0d0887"
             ],
             [
              0.1111111111111111,
              "#46039f"
             ],
             [
              0.2222222222222222,
              "#7201a8"
             ],
             [
              0.3333333333333333,
              "#9c179e"
             ],
             [
              0.4444444444444444,
              "#bd3786"
             ],
             [
              0.5555555555555556,
              "#d8576b"
             ],
             [
              0.6666666666666666,
              "#ed7953"
             ],
             [
              0.7777777777777778,
              "#fb9f3a"
             ],
             [
              0.8888888888888888,
              "#fdca26"
             ],
             [
              1,
              "#f0f921"
             ]
            ],
            "type": "heatmapgl"
           }
          ],
          "histogram": [
           {
            "marker": {
             "pattern": {
              "fillmode": "overlay",
              "size": 10,
              "solidity": 0.2
             }
            },
            "type": "histogram"
           }
          ],
          "histogram2d": [
           {
            "colorbar": {
             "outlinewidth": 0,
             "ticks": ""
            },
            "colorscale": [
             [
              0,
              "#0d0887"
             ],
             [
              0.1111111111111111,
              "#46039f"
             ],
             [
              0.2222222222222222,
              "#7201a8"
             ],
             [
              0.3333333333333333,
              "#9c179e"
             ],
             [
              0.4444444444444444,
              "#bd3786"
             ],
             [
              0.5555555555555556,
              "#d8576b"
             ],
             [
              0.6666666666666666,
              "#ed7953"
             ],
             [
              0.7777777777777778,
              "#fb9f3a"
             ],
             [
              0.8888888888888888,
              "#fdca26"
             ],
             [
              1,
              "#f0f921"
             ]
            ],
            "type": "histogram2d"
           }
          ],
          "histogram2dcontour": [
           {
            "colorbar": {
             "outlinewidth": 0,
             "ticks": ""
            },
            "colorscale": [
             [
              0,
              "#0d0887"
             ],
             [
              0.1111111111111111,
              "#46039f"
             ],
             [
              0.2222222222222222,
              "#7201a8"
             ],
             [
              0.3333333333333333,
              "#9c179e"
             ],
             [
              0.4444444444444444,
              "#bd3786"
             ],
             [
              0.5555555555555556,
              "#d8576b"
             ],
             [
              0.6666666666666666,
              "#ed7953"
             ],
             [
              0.7777777777777778,
              "#fb9f3a"
             ],
             [
              0.8888888888888888,
              "#fdca26"
             ],
             [
              1,
              "#f0f921"
             ]
            ],
            "type": "histogram2dcontour"
           }
          ],
          "mesh3d": [
           {
            "colorbar": {
             "outlinewidth": 0,
             "ticks": ""
            },
            "type": "mesh3d"
           }
          ],
          "parcoords": [
           {
            "line": {
             "colorbar": {
              "outlinewidth": 0,
              "ticks": ""
             }
            },
            "type": "parcoords"
           }
          ],
          "pie": [
           {
            "automargin": true,
            "type": "pie"
           }
          ],
          "scatter": [
           {
            "fillpattern": {
             "fillmode": "overlay",
             "size": 10,
             "solidity": 0.2
            },
            "type": "scatter"
           }
          ],
          "scatter3d": [
           {
            "line": {
             "colorbar": {
              "outlinewidth": 0,
              "ticks": ""
             }
            },
            "marker": {
             "colorbar": {
              "outlinewidth": 0,
              "ticks": ""
             }
            },
            "type": "scatter3d"
           }
          ],
          "scattercarpet": [
           {
            "marker": {
             "colorbar": {
              "outlinewidth": 0,
              "ticks": ""
             }
            },
            "type": "scattercarpet"
           }
          ],
          "scattergeo": [
           {
            "marker": {
             "colorbar": {
              "outlinewidth": 0,
              "ticks": ""
             }
            },
            "type": "scattergeo"
           }
          ],
          "scattergl": [
           {
            "marker": {
             "colorbar": {
              "outlinewidth": 0,
              "ticks": ""
             }
            },
            "type": "scattergl"
           }
          ],
          "scattermapbox": [
           {
            "marker": {
             "colorbar": {
              "outlinewidth": 0,
              "ticks": ""
             }
            },
            "type": "scattermapbox"
           }
          ],
          "scatterpolar": [
           {
            "marker": {
             "colorbar": {
              "outlinewidth": 0,
              "ticks": ""
             }
            },
            "type": "scatterpolar"
           }
          ],
          "scatterpolargl": [
           {
            "marker": {
             "colorbar": {
              "outlinewidth": 0,
              "ticks": ""
             }
            },
            "type": "scatterpolargl"
           }
          ],
          "scatterternary": [
           {
            "marker": {
             "colorbar": {
              "outlinewidth": 0,
              "ticks": ""
             }
            },
            "type": "scatterternary"
           }
          ],
          "surface": [
           {
            "colorbar": {
             "outlinewidth": 0,
             "ticks": ""
            },
            "colorscale": [
             [
              0,
              "#0d0887"
             ],
             [
              0.1111111111111111,
              "#46039f"
             ],
             [
              0.2222222222222222,
              "#7201a8"
             ],
             [
              0.3333333333333333,
              "#9c179e"
             ],
             [
              0.4444444444444444,
              "#bd3786"
             ],
             [
              0.5555555555555556,
              "#d8576b"
             ],
             [
              0.6666666666666666,
              "#ed7953"
             ],
             [
              0.7777777777777778,
              "#fb9f3a"
             ],
             [
              0.8888888888888888,
              "#fdca26"
             ],
             [
              1,
              "#f0f921"
             ]
            ],
            "type": "surface"
           }
          ],
          "table": [
           {
            "cells": {
             "fill": {
              "color": "#EBF0F8"
             },
             "line": {
              "color": "white"
             }
            },
            "header": {
             "fill": {
              "color": "#C8D4E3"
             },
             "line": {
              "color": "white"
             }
            },
            "type": "table"
           }
          ]
         },
         "layout": {
          "annotationdefaults": {
           "arrowcolor": "#2a3f5f",
           "arrowhead": 0,
           "arrowwidth": 1
          },
          "autotypenumbers": "strict",
          "coloraxis": {
           "colorbar": {
            "outlinewidth": 0,
            "ticks": ""
           }
          },
          "colorscale": {
           "diverging": [
            [
             0,
             "#8e0152"
            ],
            [
             0.1,
             "#c51b7d"
            ],
            [
             0.2,
             "#de77ae"
            ],
            [
             0.3,
             "#f1b6da"
            ],
            [
             0.4,
             "#fde0ef"
            ],
            [
             0.5,
             "#f7f7f7"
            ],
            [
             0.6,
             "#e6f5d0"
            ],
            [
             0.7,
             "#b8e186"
            ],
            [
             0.8,
             "#7fbc41"
            ],
            [
             0.9,
             "#4d9221"
            ],
            [
             1,
             "#276419"
            ]
           ],
           "sequential": [
            [
             0,
             "#0d0887"
            ],
            [
             0.1111111111111111,
             "#46039f"
            ],
            [
             0.2222222222222222,
             "#7201a8"
            ],
            [
             0.3333333333333333,
             "#9c179e"
            ],
            [
             0.4444444444444444,
             "#bd3786"
            ],
            [
             0.5555555555555556,
             "#d8576b"
            ],
            [
             0.6666666666666666,
             "#ed7953"
            ],
            [
             0.7777777777777778,
             "#fb9f3a"
            ],
            [
             0.8888888888888888,
             "#fdca26"
            ],
            [
             1,
             "#f0f921"
            ]
           ],
           "sequentialminus": [
            [
             0,
             "#0d0887"
            ],
            [
             0.1111111111111111,
             "#46039f"
            ],
            [
             0.2222222222222222,
             "#7201a8"
            ],
            [
             0.3333333333333333,
             "#9c179e"
            ],
            [
             0.4444444444444444,
             "#bd3786"
            ],
            [
             0.5555555555555556,
             "#d8576b"
            ],
            [
             0.6666666666666666,
             "#ed7953"
            ],
            [
             0.7777777777777778,
             "#fb9f3a"
            ],
            [
             0.8888888888888888,
             "#fdca26"
            ],
            [
             1,
             "#f0f921"
            ]
           ]
          },
          "colorway": [
           "#636efa",
           "#EF553B",
           "#00cc96",
           "#ab63fa",
           "#FFA15A",
           "#19d3f3",
           "#FF6692",
           "#B6E880",
           "#FF97FF",
           "#FECB52"
          ],
          "font": {
           "color": "#2a3f5f"
          },
          "geo": {
           "bgcolor": "white",
           "lakecolor": "white",
           "landcolor": "#E5ECF6",
           "showlakes": true,
           "showland": true,
           "subunitcolor": "white"
          },
          "hoverlabel": {
           "align": "left"
          },
          "hovermode": "closest",
          "mapbox": {
           "style": "light"
          },
          "paper_bgcolor": "white",
          "plot_bgcolor": "#E5ECF6",
          "polar": {
           "angularaxis": {
            "gridcolor": "white",
            "linecolor": "white",
            "ticks": ""
           },
           "bgcolor": "#E5ECF6",
           "radialaxis": {
            "gridcolor": "white",
            "linecolor": "white",
            "ticks": ""
           }
          },
          "scene": {
           "xaxis": {
            "backgroundcolor": "#E5ECF6",
            "gridcolor": "white",
            "gridwidth": 2,
            "linecolor": "white",
            "showbackground": true,
            "ticks": "",
            "zerolinecolor": "white"
           },
           "yaxis": {
            "backgroundcolor": "#E5ECF6",
            "gridcolor": "white",
            "gridwidth": 2,
            "linecolor": "white",
            "showbackground": true,
            "ticks": "",
            "zerolinecolor": "white"
           },
           "zaxis": {
            "backgroundcolor": "#E5ECF6",
            "gridcolor": "white",
            "gridwidth": 2,
            "linecolor": "white",
            "showbackground": true,
            "ticks": "",
            "zerolinecolor": "white"
           }
          },
          "shapedefaults": {
           "line": {
            "color": "#2a3f5f"
           }
          },
          "ternary": {
           "aaxis": {
            "gridcolor": "white",
            "linecolor": "white",
            "ticks": ""
           },
           "baxis": {
            "gridcolor": "white",
            "linecolor": "white",
            "ticks": ""
           },
           "bgcolor": "#E5ECF6",
           "caxis": {
            "gridcolor": "white",
            "linecolor": "white",
            "ticks": ""
           }
          },
          "title": {
           "x": 0.05
          },
          "xaxis": {
           "automargin": true,
           "gridcolor": "white",
           "linecolor": "white",
           "ticks": "",
           "title": {
            "standoff": 15
           },
           "zerolinecolor": "white",
           "zerolinewidth": 2
          },
          "yaxis": {
           "automargin": true,
           "gridcolor": "white",
           "linecolor": "white",
           "ticks": "",
           "title": {
            "standoff": 15
           },
           "zerolinecolor": "white",
           "zerolinewidth": 2
          }
         }
        },
        "title": {
         "text": "📍 Restaurants within 2 km of User Location"
        }
       }
      },
      "text/html": [
       "<div>                            <div id=\"2f682227-c4bb-4324-9c5f-399627c175e0\" class=\"plotly-graph-div\" style=\"height:600px; width:100%;\"></div>            <script type=\"text/javascript\">                require([\"plotly\"], function(Plotly) {                    window.PLOTLYENV=window.PLOTLYENV || {};                                    if (document.getElementById(\"2f682227-c4bb-4324-9c5f-399627c175e0\")) {                    Plotly.newPlot(                        \"2f682227-c4bb-4324-9c5f-399627c175e0\",                        [{\"customdata\":[[null,0.0]],\"hovertemplate\":\"\\u003cb\\u003e%{hovertext}\\u003c\\u002fb\\u003e\\u003cbr\\u003e\\u003cbr\\u003eType=User\\u003cbr\\u003esize=%{marker.size}\\u003cbr\\u003elat=%{lat}\\u003cbr\\u003elon=%{lon}\\u003cbr\\u003erating=%{customdata[0]}\\u003cbr\\u003edistance_km=%{customdata[1]}\\u003cextra\\u003e\\u003c\\u002fextra\\u003e\",\"hovertext\":[\"User Location\"],\"lat\":[12.9716],\"legendgroup\":\"User\",\"lon\":[77.5946],\"marker\":{\"color\":\"#636efa\",\"size\":[15],\"sizemode\":\"area\",\"sizeref\":0.0375},\"mode\":\"markers\",\"name\":\"User\",\"showlegend\":true,\"subplot\":\"mapbox\",\"type\":\"scattermapbox\"},{\"customdata\":[[4.042885771543086,0.45],[3.9630909090909086,1.21],[3.9010526315789473,1.86],[3.8445723684210527,0.71],[3.74055023923445,1.39],[3.595848708487085,1.35]],\"hovertemplate\":\"\\u003cb\\u003e%{hovertext}\\u003c\\u002fb\\u003e\\u003cbr\\u003e\\u003cbr\\u003eType=Restaurant\\u003cbr\\u003esize=%{marker.size}\\u003cbr\\u003elat=%{lat}\\u003cbr\\u003elon=%{lon}\\u003cbr\\u003erating=%{customdata[0]}\\u003cbr\\u003edistance_km=%{customdata[1]}\\u003cextra\\u003e\\u003c\\u002fextra\\u003e\",\"hovertext\":[\"Lavelle Road , Bangalore , Karnataka , India\",\"Church Street , Bangalore , Karnataka , India\",\"Cunningham Road , Bangalore , Karnataka , India\",\"Residency Road , Bangalore , Karnataka , India\",\"MG Road , Bangalore , Karnataka , India\",\"Brigade Road , Bangalore , Karnataka , India\"],\"lat\":[12.9722287,12.9749142,12.9884255,12.9672634,12.9755264,12.971609],\"legendgroup\":\"Restaurant\",\"lon\":[77.5986661,77.6052474,77.5938978,77.5993931,77.6067902,77.6070463],\"marker\":{\"color\":\"#EF553B\",\"size\":[8,8,8,8,8,8],\"sizemode\":\"area\",\"sizeref\":0.0375},\"mode\":\"markers\",\"name\":\"Restaurant\",\"showlegend\":true,\"subplot\":\"mapbox\",\"type\":\"scattermapbox\"}],                        {\"template\":{\"data\":{\"histogram2dcontour\":[{\"type\":\"histogram2dcontour\",\"colorbar\":{\"outlinewidth\":0,\"ticks\":\"\"},\"colorscale\":[[0.0,\"#0d0887\"],[0.1111111111111111,\"#46039f\"],[0.2222222222222222,\"#7201a8\"],[0.3333333333333333,\"#9c179e\"],[0.4444444444444444,\"#bd3786\"],[0.5555555555555556,\"#d8576b\"],[0.6666666666666666,\"#ed7953\"],[0.7777777777777778,\"#fb9f3a\"],[0.8888888888888888,\"#fdca26\"],[1.0,\"#f0f921\"]]}],\"choropleth\":[{\"type\":\"choropleth\",\"colorbar\":{\"outlinewidth\":0,\"ticks\":\"\"}}],\"histogram2d\":[{\"type\":\"histogram2d\",\"colorbar\":{\"outlinewidth\":0,\"ticks\":\"\"},\"colorscale\":[[0.0,\"#0d0887\"],[0.1111111111111111,\"#46039f\"],[0.2222222222222222,\"#7201a8\"],[0.3333333333333333,\"#9c179e\"],[0.4444444444444444,\"#bd3786\"],[0.5555555555555556,\"#d8576b\"],[0.6666666666666666,\"#ed7953\"],[0.7777777777777778,\"#fb9f3a\"],[0.8888888888888888,\"#fdca26\"],[1.0,\"#f0f921\"]]}],\"heatmap\":[{\"type\":\"heatmap\",\"colorbar\":{\"outlinewidth\":0,\"ticks\":\"\"},\"colorscale\":[[0.0,\"#0d0887\"],[0.1111111111111111,\"#46039f\"],[0.2222222222222222,\"#7201a8\"],[0.3333333333333333,\"#9c179e\"],[0.4444444444444444,\"#bd3786\"],[0.5555555555555556,\"#d8576b\"],[0.6666666666666666,\"#ed7953\"],[0.7777777777777778,\"#fb9f3a\"],[0.8888888888888888,\"#fdca26\"],[1.0,\"#f0f921\"]]}],\"heatmapgl\":[{\"type\":\"heatmapgl\",\"colorbar\":{\"outlinewidth\":0,\"ticks\":\"\"},\"colorscale\":[[0.0,\"#0d0887\"],[0.1111111111111111,\"#46039f\"],[0.2222222222222222,\"#7201a8\"],[0.3333333333333333,\"#9c179e\"],[0.4444444444444444,\"#bd3786\"],[0.5555555555555556,\"#d8576b\"],[0.6666666666666666,\"#ed7953\"],[0.7777777777777778,\"#fb9f3a\"],[0.8888888888888888,\"#fdca26\"],[1.0,\"#f0f921\"]]}],\"contourcarpet\":[{\"type\":\"contourcarpet\",\"colorbar\":{\"outlinewidth\":0,\"ticks\":\"\"}}],\"contour\":[{\"type\":\"contour\",\"colorbar\":{\"outlinewidth\":0,\"ticks\":\"\"},\"colorscale\":[[0.0,\"#0d0887\"],[0.1111111111111111,\"#46039f\"],[0.2222222222222222,\"#7201a8\"],[0.3333333333333333,\"#9c179e\"],[0.4444444444444444,\"#bd3786\"],[0.5555555555555556,\"#d8576b\"],[0.6666666666666666,\"#ed7953\"],[0.7777777777777778,\"#fb9f3a\"],[0.8888888888888888,\"#fdca26\"],[1.0,\"#f0f921\"]]}],\"surface\":[{\"type\":\"surface\",\"colorbar\":{\"outlinewidth\":0,\"ticks\":\"\"},\"colorscale\":[[0.0,\"#0d0887\"],[0.1111111111111111,\"#46039f\"],[0.2222222222222222,\"#7201a8\"],[0.3333333333333333,\"#9c179e\"],[0.4444444444444444,\"#bd3786\"],[0.5555555555555556,\"#d8576b\"],[0.6666666666666666,\"#ed7953\"],[0.7777777777777778,\"#fb9f3a\"],[0.8888888888888888,\"#fdca26\"],[1.0,\"#f0f921\"]]}],\"mesh3d\":[{\"type\":\"mesh3d\",\"colorbar\":{\"outlinewidth\":0,\"ticks\":\"\"}}],\"scatter\":[{\"fillpattern\":{\"fillmode\":\"overlay\",\"size\":10,\"solidity\":0.2},\"type\":\"scatter\"}],\"parcoords\":[{\"type\":\"parcoords\",\"line\":{\"colorbar\":{\"outlinewidth\":0,\"ticks\":\"\"}}}],\"scatterpolargl\":[{\"type\":\"scatterpolargl\",\"marker\":{\"colorbar\":{\"outlinewidth\":0,\"ticks\":\"\"}}}],\"bar\":[{\"error_x\":{\"color\":\"#2a3f5f\"},\"error_y\":{\"color\":\"#2a3f5f\"},\"marker\":{\"line\":{\"color\":\"#E5ECF6\",\"width\":0.5},\"pattern\":{\"fillmode\":\"overlay\",\"size\":10,\"solidity\":0.2}},\"type\":\"bar\"}],\"scattergeo\":[{\"type\":\"scattergeo\",\"marker\":{\"colorbar\":{\"outlinewidth\":0,\"ticks\":\"\"}}}],\"scatterpolar\":[{\"type\":\"scatterpolar\",\"marker\":{\"colorbar\":{\"outlinewidth\":0,\"ticks\":\"\"}}}],\"histogram\":[{\"marker\":{\"pattern\":{\"fillmode\":\"overlay\",\"size\":10,\"solidity\":0.2}},\"type\":\"histogram\"}],\"scattergl\":[{\"type\":\"scattergl\",\"marker\":{\"colorbar\":{\"outlinewidth\":0,\"ticks\":\"\"}}}],\"scatter3d\":[{\"type\":\"scatter3d\",\"line\":{\"colorbar\":{\"outlinewidth\":0,\"ticks\":\"\"}},\"marker\":{\"colorbar\":{\"outlinewidth\":0,\"ticks\":\"\"}}}],\"scattermapbox\":[{\"type\":\"scattermapbox\",\"marker\":{\"colorbar\":{\"outlinewidth\":0,\"ticks\":\"\"}}}],\"scatterternary\":[{\"type\":\"scatterternary\",\"marker\":{\"colorbar\":{\"outlinewidth\":0,\"ticks\":\"\"}}}],\"scattercarpet\":[{\"type\":\"scattercarpet\",\"marker\":{\"colorbar\":{\"outlinewidth\":0,\"ticks\":\"\"}}}],\"carpet\":[{\"aaxis\":{\"endlinecolor\":\"#2a3f5f\",\"gridcolor\":\"white\",\"linecolor\":\"white\",\"minorgridcolor\":\"white\",\"startlinecolor\":\"#2a3f5f\"},\"baxis\":{\"endlinecolor\":\"#2a3f5f\",\"gridcolor\":\"white\",\"linecolor\":\"white\",\"minorgridcolor\":\"white\",\"startlinecolor\":\"#2a3f5f\"},\"type\":\"carpet\"}],\"table\":[{\"cells\":{\"fill\":{\"color\":\"#EBF0F8\"},\"line\":{\"color\":\"white\"}},\"header\":{\"fill\":{\"color\":\"#C8D4E3\"},\"line\":{\"color\":\"white\"}},\"type\":\"table\"}],\"barpolar\":[{\"marker\":{\"line\":{\"color\":\"#E5ECF6\",\"width\":0.5},\"pattern\":{\"fillmode\":\"overlay\",\"size\":10,\"solidity\":0.2}},\"type\":\"barpolar\"}],\"pie\":[{\"automargin\":true,\"type\":\"pie\"}]},\"layout\":{\"autotypenumbers\":\"strict\",\"colorway\":[\"#636efa\",\"#EF553B\",\"#00cc96\",\"#ab63fa\",\"#FFA15A\",\"#19d3f3\",\"#FF6692\",\"#B6E880\",\"#FF97FF\",\"#FECB52\"],\"font\":{\"color\":\"#2a3f5f\"},\"hovermode\":\"closest\",\"hoverlabel\":{\"align\":\"left\"},\"paper_bgcolor\":\"white\",\"plot_bgcolor\":\"#E5ECF6\",\"polar\":{\"bgcolor\":\"#E5ECF6\",\"angularaxis\":{\"gridcolor\":\"white\",\"linecolor\":\"white\",\"ticks\":\"\"},\"radialaxis\":{\"gridcolor\":\"white\",\"linecolor\":\"white\",\"ticks\":\"\"}},\"ternary\":{\"bgcolor\":\"#E5ECF6\",\"aaxis\":{\"gridcolor\":\"white\",\"linecolor\":\"white\",\"ticks\":\"\"},\"baxis\":{\"gridcolor\":\"white\",\"linecolor\":\"white\",\"ticks\":\"\"},\"caxis\":{\"gridcolor\":\"white\",\"linecolor\":\"white\",\"ticks\":\"\"}},\"coloraxis\":{\"colorbar\":{\"outlinewidth\":0,\"ticks\":\"\"}},\"colorscale\":{\"sequential\":[[0.0,\"#0d0887\"],[0.1111111111111111,\"#46039f\"],[0.2222222222222222,\"#7201a8\"],[0.3333333333333333,\"#9c179e\"],[0.4444444444444444,\"#bd3786\"],[0.5555555555555556,\"#d8576b\"],[0.6666666666666666,\"#ed7953\"],[0.7777777777777778,\"#fb9f3a\"],[0.8888888888888888,\"#fdca26\"],[1.0,\"#f0f921\"]],\"sequentialminus\":[[0.0,\"#0d0887\"],[0.1111111111111111,\"#46039f\"],[0.2222222222222222,\"#7201a8\"],[0.3333333333333333,\"#9c179e\"],[0.4444444444444444,\"#bd3786\"],[0.5555555555555556,\"#d8576b\"],[0.6666666666666666,\"#ed7953\"],[0.7777777777777778,\"#fb9f3a\"],[0.8888888888888888,\"#fdca26\"],[1.0,\"#f0f921\"]],\"diverging\":[[0,\"#8e0152\"],[0.1,\"#c51b7d\"],[0.2,\"#de77ae\"],[0.3,\"#f1b6da\"],[0.4,\"#fde0ef\"],[0.5,\"#f7f7f7\"],[0.6,\"#e6f5d0\"],[0.7,\"#b8e186\"],[0.8,\"#7fbc41\"],[0.9,\"#4d9221\"],[1,\"#276419\"]]},\"xaxis\":{\"gridcolor\":\"white\",\"linecolor\":\"white\",\"ticks\":\"\",\"title\":{\"standoff\":15},\"zerolinecolor\":\"white\",\"automargin\":true,\"zerolinewidth\":2},\"yaxis\":{\"gridcolor\":\"white\",\"linecolor\":\"white\",\"ticks\":\"\",\"title\":{\"standoff\":15},\"zerolinecolor\":\"white\",\"automargin\":true,\"zerolinewidth\":2},\"scene\":{\"xaxis\":{\"backgroundcolor\":\"#E5ECF6\",\"gridcolor\":\"white\",\"linecolor\":\"white\",\"showbackground\":true,\"ticks\":\"\",\"zerolinecolor\":\"white\",\"gridwidth\":2},\"yaxis\":{\"backgroundcolor\":\"#E5ECF6\",\"gridcolor\":\"white\",\"linecolor\":\"white\",\"showbackground\":true,\"ticks\":\"\",\"zerolinecolor\":\"white\",\"gridwidth\":2},\"zaxis\":{\"backgroundcolor\":\"#E5ECF6\",\"gridcolor\":\"white\",\"linecolor\":\"white\",\"showbackground\":true,\"ticks\":\"\",\"zerolinecolor\":\"white\",\"gridwidth\":2}},\"shapedefaults\":{\"line\":{\"color\":\"#2a3f5f\"}},\"annotationdefaults\":{\"arrowcolor\":\"#2a3f5f\",\"arrowhead\":0,\"arrowwidth\":1},\"geo\":{\"bgcolor\":\"white\",\"landcolor\":\"#E5ECF6\",\"subunitcolor\":\"white\",\"showland\":true,\"showlakes\":true,\"lakecolor\":\"white\"},\"title\":{\"x\":0.05},\"mapbox\":{\"style\":\"light\"}}},\"mapbox\":{\"domain\":{\"x\":[0.0,1.0],\"y\":[0.0,1.0]},\"center\":{\"lat\":12.974509600000001,\"lon\":77.60080584285713},\"zoom\":14,\"style\":\"open-street-map\"},\"legend\":{\"title\":{\"text\":\"Location Type\"},\"tracegroupgap\":0,\"itemsizing\":\"constant\"},\"margin\":{\"t\":60},\"height\":600,\"title\":{\"text\":\"\\ud83d\\udccd Restaurants within 2 km of User Location\"}},                        {\"responsive\": true}                    ).then(function(){\n",
       "                            \n",
       "var gd = document.getElementById('2f682227-c4bb-4324-9c5f-399627c175e0');\n",
       "var x = new MutationObserver(function (mutations, observer) {{\n",
       "        var display = window.getComputedStyle(gd).display;\n",
       "        if (!display || display === 'none') {{\n",
       "            console.log([gd, 'removed!']);\n",
       "            Plotly.purge(gd);\n",
       "            observer.disconnect();\n",
       "        }}\n",
       "}});\n",
       "\n",
       "// Listen for the removal of the full notebook cells\n",
       "var notebookContainer = gd.closest('#notebook-container');\n",
       "if (notebookContainer) {{\n",
       "    x.observe(notebookContainer, {childList: true});\n",
       "}}\n",
       "\n",
       "// Listen for the clearing of the current output cell\n",
       "var outputEl = gd.closest('.output');\n",
       "if (outputEl) {{\n",
       "    x.observe(outputEl, {childList: true});\n",
       "}}\n",
       "\n",
       "                        })                };                });            </script>        </div>"
      ]
     },
     "metadata": {},
     "output_type": "display_data"
    }
   ],
   "source": [
    "\n",
    "# Plot\n",
    "fig = px.scatter_mapbox(\n",
    "    plot_df,\n",
    "    lat='lat',\n",
    "    lon='lon',\n",
    "    hover_name='name',\n",
    "    hover_data={'rating': True, 'distance_km': True},\n",
    "    color='Type',\n",
    "    size=plot_df['Type'].apply(lambda x: 15 if x == 'User' else 8),\n",
    "    zoom=14,\n",
    "    height=600\n",
    ")\n",
    "\n",
    "fig.update_layout(\n",
    "    mapbox_style=\"open-street-map\",\n",
    "    title=\"📍 Restaurants within 2 km of User Location\",\n",
    "    legend_title=\"Location Type\"\n",
    ")\n",
    "\n",
    "fig.show()\n"
   ]
  },
  {
   "cell_type": "code",
   "execution_count": null,
   "id": "28565ab3",
   "metadata": {},
   "outputs": [],
   "source": []
  },
  {
   "cell_type": "code",
   "execution_count": 183,
   "id": "4332f2f6",
   "metadata": {},
   "outputs": [],
   "source": [
    "#### For clear dots/circle :\n",
    "\n",
    "    To make your map more visually dark-themed, you should :\n",
    "\n",
    "    ✅ Switch to a dark map style like \"carto-darkmatter\" (instead of \"open-street-map\").\n",
    "    ✅ Use brighter, high-contrast colors for points so they stand out."
   ]
  },
  {
   "cell_type": "code",
   "execution_count": null,
   "id": "4a186f58",
   "metadata": {},
   "outputs": [],
   "source": [
    "'''\n",
    "\n",
    "hover_name = 'name'\n",
    "This tells Plotly: 👉 When you hover over a marker, show the name column as the main title in the tooltip.\n",
    "Example: Restaurant name or User name will be the bold headline..\n",
    "\n",
    "\n",
    "🏷️ hover_data={'rating': True, 'distance_km': True}\n",
    "This says , In the hover tooltip, also show these two extra details:\n",
    "rating\n",
    "distance_km\n",
    "\n",
    "\n",
    "'''"
   ]
  },
  {
   "cell_type": "code",
   "execution_count": 152,
   "id": "8ba2e7b3",
   "metadata": {},
   "outputs": [
    {
     "data": {
      "application/vnd.plotly.v1+json": {
       "config": {
        "plotlyServerURL": "https://plot.ly"
       },
       "data": [
        {
         "customdata": [
          [
           null,
           0
          ]
         ],
         "hovertemplate": "<b>%{hovertext}</b><br><br>Type=User<br>size=%{marker.size}<br>lat=%{lat}<br>lon=%{lon}<br>rating=%{customdata[0]}<br>distance_km=%{customdata[1]}<extra></extra>",
         "hovertext": [
          "User Location"
         ],
         "lat": [
          12.9716
         ],
         "legendgroup": "User",
         "lon": [
          77.5946
         ],
         "marker": {
          "color": "#1f77b4",
          "size": [
           15
          ],
          "sizemode": "area",
          "sizeref": 0.0375
         },
         "mode": "markers",
         "name": "User",
         "showlegend": true,
         "subplot": "mapbox",
         "type": "scattermapbox"
        },
        {
         "customdata": [
          [
           4.042885771543086,
           0.45
          ],
          [
           3.9630909090909086,
           1.21
          ],
          [
           3.9010526315789473,
           1.86
          ],
          [
           3.8445723684210527,
           0.71
          ],
          [
           3.74055023923445,
           1.39
          ],
          [
           3.595848708487085,
           1.35
          ]
         ],
         "hovertemplate": "<b>%{hovertext}</b><br><br>Type=Restaurant<br>size=%{marker.size}<br>lat=%{lat}<br>lon=%{lon}<br>rating=%{customdata[0]}<br>distance_km=%{customdata[1]}<extra></extra>",
         "hovertext": [
          "Lavelle Road , Bangalore , Karnataka , India",
          "Church Street , Bangalore , Karnataka , India",
          "Cunningham Road , Bangalore , Karnataka , India",
          "Residency Road , Bangalore , Karnataka , India",
          "MG Road , Bangalore , Karnataka , India",
          "Brigade Road , Bangalore , Karnataka , India"
         ],
         "lat": [
          12.9722287,
          12.9749142,
          12.9884255,
          12.9672634,
          12.9755264,
          12.971609
         ],
         "legendgroup": "Restaurant",
         "lon": [
          77.5986661,
          77.6052474,
          77.5938978,
          77.5993931,
          77.6067902,
          77.6070463
         ],
         "marker": {
          "color": "#2ca02c",
          "size": [
           8,
           8,
           8,
           8,
           8,
           8
          ],
          "sizemode": "area",
          "sizeref": 0.0375
         },
         "mode": "markers",
         "name": "Restaurant",
         "showlegend": true,
         "subplot": "mapbox",
         "type": "scattermapbox"
        }
       ],
       "layout": {
        "height": 600,
        "legend": {
         "itemsizing": "constant",
         "title": {
          "text": "Location Type"
         },
         "tracegroupgap": 0
        },
        "mapbox": {
         "center": {
          "lat": 12.974509600000001,
          "lon": 77.60080584285713
         },
         "domain": {
          "x": [
           0,
           1
          ],
          "y": [
           0,
           1
          ]
         },
         "style": "carto-darkmatter",
         "zoom": 14
        },
        "margin": {
         "t": 60
        },
        "template": {
         "data": {
          "bar": [
           {
            "error_x": {
             "color": "#2a3f5f"
            },
            "error_y": {
             "color": "#2a3f5f"
            },
            "marker": {
             "line": {
              "color": "#E5ECF6",
              "width": 0.5
             },
             "pattern": {
              "fillmode": "overlay",
              "size": 10,
              "solidity": 0.2
             }
            },
            "type": "bar"
           }
          ],
          "barpolar": [
           {
            "marker": {
             "line": {
              "color": "#E5ECF6",
              "width": 0.5
             },
             "pattern": {
              "fillmode": "overlay",
              "size": 10,
              "solidity": 0.2
             }
            },
            "type": "barpolar"
           }
          ],
          "carpet": [
           {
            "aaxis": {
             "endlinecolor": "#2a3f5f",
             "gridcolor": "white",
             "linecolor": "white",
             "minorgridcolor": "white",
             "startlinecolor": "#2a3f5f"
            },
            "baxis": {
             "endlinecolor": "#2a3f5f",
             "gridcolor": "white",
             "linecolor": "white",
             "minorgridcolor": "white",
             "startlinecolor": "#2a3f5f"
            },
            "type": "carpet"
           }
          ],
          "choropleth": [
           {
            "colorbar": {
             "outlinewidth": 0,
             "ticks": ""
            },
            "type": "choropleth"
           }
          ],
          "contour": [
           {
            "colorbar": {
             "outlinewidth": 0,
             "ticks": ""
            },
            "colorscale": [
             [
              0,
              "#0d0887"
             ],
             [
              0.1111111111111111,
              "#46039f"
             ],
             [
              0.2222222222222222,
              "#7201a8"
             ],
             [
              0.3333333333333333,
              "#9c179e"
             ],
             [
              0.4444444444444444,
              "#bd3786"
             ],
             [
              0.5555555555555556,
              "#d8576b"
             ],
             [
              0.6666666666666666,
              "#ed7953"
             ],
             [
              0.7777777777777778,
              "#fb9f3a"
             ],
             [
              0.8888888888888888,
              "#fdca26"
             ],
             [
              1,
              "#f0f921"
             ]
            ],
            "type": "contour"
           }
          ],
          "contourcarpet": [
           {
            "colorbar": {
             "outlinewidth": 0,
             "ticks": ""
            },
            "type": "contourcarpet"
           }
          ],
          "heatmap": [
           {
            "colorbar": {
             "outlinewidth": 0,
             "ticks": ""
            },
            "colorscale": [
             [
              0,
              "#0d0887"
             ],
             [
              0.1111111111111111,
              "#46039f"
             ],
             [
              0.2222222222222222,
              "#7201a8"
             ],
             [
              0.3333333333333333,
              "#9c179e"
             ],
             [
              0.4444444444444444,
              "#bd3786"
             ],
             [
              0.5555555555555556,
              "#d8576b"
             ],
             [
              0.6666666666666666,
              "#ed7953"
             ],
             [
              0.7777777777777778,
              "#fb9f3a"
             ],
             [
              0.8888888888888888,
              "#fdca26"
             ],
             [
              1,
              "#f0f921"
             ]
            ],
            "type": "heatmap"
           }
          ],
          "heatmapgl": [
           {
            "colorbar": {
             "outlinewidth": 0,
             "ticks": ""
            },
            "colorscale": [
             [
              0,
              "#0d0887"
             ],
             [
              0.1111111111111111,
              "#46039f"
             ],
             [
              0.2222222222222222,
              "#7201a8"
             ],
             [
              0.3333333333333333,
              "#9c179e"
             ],
             [
              0.4444444444444444,
              "#bd3786"
             ],
             [
              0.5555555555555556,
              "#d8576b"
             ],
             [
              0.6666666666666666,
              "#ed7953"
             ],
             [
              0.7777777777777778,
              "#fb9f3a"
             ],
             [
              0.8888888888888888,
              "#fdca26"
             ],
             [
              1,
              "#f0f921"
             ]
            ],
            "type": "heatmapgl"
           }
          ],
          "histogram": [
           {
            "marker": {
             "pattern": {
              "fillmode": "overlay",
              "size": 10,
              "solidity": 0.2
             }
            },
            "type": "histogram"
           }
          ],
          "histogram2d": [
           {
            "colorbar": {
             "outlinewidth": 0,
             "ticks": ""
            },
            "colorscale": [
             [
              0,
              "#0d0887"
             ],
             [
              0.1111111111111111,
              "#46039f"
             ],
             [
              0.2222222222222222,
              "#7201a8"
             ],
             [
              0.3333333333333333,
              "#9c179e"
             ],
             [
              0.4444444444444444,
              "#bd3786"
             ],
             [
              0.5555555555555556,
              "#d8576b"
             ],
             [
              0.6666666666666666,
              "#ed7953"
             ],
             [
              0.7777777777777778,
              "#fb9f3a"
             ],
             [
              0.8888888888888888,
              "#fdca26"
             ],
             [
              1,
              "#f0f921"
             ]
            ],
            "type": "histogram2d"
           }
          ],
          "histogram2dcontour": [
           {
            "colorbar": {
             "outlinewidth": 0,
             "ticks": ""
            },
            "colorscale": [
             [
              0,
              "#0d0887"
             ],
             [
              0.1111111111111111,
              "#46039f"
             ],
             [
              0.2222222222222222,
              "#7201a8"
             ],
             [
              0.3333333333333333,
              "#9c179e"
             ],
             [
              0.4444444444444444,
              "#bd3786"
             ],
             [
              0.5555555555555556,
              "#d8576b"
             ],
             [
              0.6666666666666666,
              "#ed7953"
             ],
             [
              0.7777777777777778,
              "#fb9f3a"
             ],
             [
              0.8888888888888888,
              "#fdca26"
             ],
             [
              1,
              "#f0f921"
             ]
            ],
            "type": "histogram2dcontour"
           }
          ],
          "mesh3d": [
           {
            "colorbar": {
             "outlinewidth": 0,
             "ticks": ""
            },
            "type": "mesh3d"
           }
          ],
          "parcoords": [
           {
            "line": {
             "colorbar": {
              "outlinewidth": 0,
              "ticks": ""
             }
            },
            "type": "parcoords"
           }
          ],
          "pie": [
           {
            "automargin": true,
            "type": "pie"
           }
          ],
          "scatter": [
           {
            "fillpattern": {
             "fillmode": "overlay",
             "size": 10,
             "solidity": 0.2
            },
            "type": "scatter"
           }
          ],
          "scatter3d": [
           {
            "line": {
             "colorbar": {
              "outlinewidth": 0,
              "ticks": ""
             }
            },
            "marker": {
             "colorbar": {
              "outlinewidth": 0,
              "ticks": ""
             }
            },
            "type": "scatter3d"
           }
          ],
          "scattercarpet": [
           {
            "marker": {
             "colorbar": {
              "outlinewidth": 0,
              "ticks": ""
             }
            },
            "type": "scattercarpet"
           }
          ],
          "scattergeo": [
           {
            "marker": {
             "colorbar": {
              "outlinewidth": 0,
              "ticks": ""
             }
            },
            "type": "scattergeo"
           }
          ],
          "scattergl": [
           {
            "marker": {
             "colorbar": {
              "outlinewidth": 0,
              "ticks": ""
             }
            },
            "type": "scattergl"
           }
          ],
          "scattermapbox": [
           {
            "marker": {
             "colorbar": {
              "outlinewidth": 0,
              "ticks": ""
             }
            },
            "type": "scattermapbox"
           }
          ],
          "scatterpolar": [
           {
            "marker": {
             "colorbar": {
              "outlinewidth": 0,
              "ticks": ""
             }
            },
            "type": "scatterpolar"
           }
          ],
          "scatterpolargl": [
           {
            "marker": {
             "colorbar": {
              "outlinewidth": 0,
              "ticks": ""
             }
            },
            "type": "scatterpolargl"
           }
          ],
          "scatterternary": [
           {
            "marker": {
             "colorbar": {
              "outlinewidth": 0,
              "ticks": ""
             }
            },
            "type": "scatterternary"
           }
          ],
          "surface": [
           {
            "colorbar": {
             "outlinewidth": 0,
             "ticks": ""
            },
            "colorscale": [
             [
              0,
              "#0d0887"
             ],
             [
              0.1111111111111111,
              "#46039f"
             ],
             [
              0.2222222222222222,
              "#7201a8"
             ],
             [
              0.3333333333333333,
              "#9c179e"
             ],
             [
              0.4444444444444444,
              "#bd3786"
             ],
             [
              0.5555555555555556,
              "#d8576b"
             ],
             [
              0.6666666666666666,
              "#ed7953"
             ],
             [
              0.7777777777777778,
              "#fb9f3a"
             ],
             [
              0.8888888888888888,
              "#fdca26"
             ],
             [
              1,
              "#f0f921"
             ]
            ],
            "type": "surface"
           }
          ],
          "table": [
           {
            "cells": {
             "fill": {
              "color": "#EBF0F8"
             },
             "line": {
              "color": "white"
             }
            },
            "header": {
             "fill": {
              "color": "#C8D4E3"
             },
             "line": {
              "color": "white"
             }
            },
            "type": "table"
           }
          ]
         },
         "layout": {
          "annotationdefaults": {
           "arrowcolor": "#2a3f5f",
           "arrowhead": 0,
           "arrowwidth": 1
          },
          "autotypenumbers": "strict",
          "coloraxis": {
           "colorbar": {
            "outlinewidth": 0,
            "ticks": ""
           }
          },
          "colorscale": {
           "diverging": [
            [
             0,
             "#8e0152"
            ],
            [
             0.1,
             "#c51b7d"
            ],
            [
             0.2,
             "#de77ae"
            ],
            [
             0.3,
             "#f1b6da"
            ],
            [
             0.4,
             "#fde0ef"
            ],
            [
             0.5,
             "#f7f7f7"
            ],
            [
             0.6,
             "#e6f5d0"
            ],
            [
             0.7,
             "#b8e186"
            ],
            [
             0.8,
             "#7fbc41"
            ],
            [
             0.9,
             "#4d9221"
            ],
            [
             1,
             "#276419"
            ]
           ],
           "sequential": [
            [
             0,
             "#0d0887"
            ],
            [
             0.1111111111111111,
             "#46039f"
            ],
            [
             0.2222222222222222,
             "#7201a8"
            ],
            [
             0.3333333333333333,
             "#9c179e"
            ],
            [
             0.4444444444444444,
             "#bd3786"
            ],
            [
             0.5555555555555556,
             "#d8576b"
            ],
            [
             0.6666666666666666,
             "#ed7953"
            ],
            [
             0.7777777777777778,
             "#fb9f3a"
            ],
            [
             0.8888888888888888,
             "#fdca26"
            ],
            [
             1,
             "#f0f921"
            ]
           ],
           "sequentialminus": [
            [
             0,
             "#0d0887"
            ],
            [
             0.1111111111111111,
             "#46039f"
            ],
            [
             0.2222222222222222,
             "#7201a8"
            ],
            [
             0.3333333333333333,
             "#9c179e"
            ],
            [
             0.4444444444444444,
             "#bd3786"
            ],
            [
             0.5555555555555556,
             "#d8576b"
            ],
            [
             0.6666666666666666,
             "#ed7953"
            ],
            [
             0.7777777777777778,
             "#fb9f3a"
            ],
            [
             0.8888888888888888,
             "#fdca26"
            ],
            [
             1,
             "#f0f921"
            ]
           ]
          },
          "colorway": [
           "#636efa",
           "#EF553B",
           "#00cc96",
           "#ab63fa",
           "#FFA15A",
           "#19d3f3",
           "#FF6692",
           "#B6E880",
           "#FF97FF",
           "#FECB52"
          ],
          "font": {
           "color": "#2a3f5f"
          },
          "geo": {
           "bgcolor": "white",
           "lakecolor": "white",
           "landcolor": "#E5ECF6",
           "showlakes": true,
           "showland": true,
           "subunitcolor": "white"
          },
          "hoverlabel": {
           "align": "left"
          },
          "hovermode": "closest",
          "mapbox": {
           "style": "light"
          },
          "paper_bgcolor": "white",
          "plot_bgcolor": "#E5ECF6",
          "polar": {
           "angularaxis": {
            "gridcolor": "white",
            "linecolor": "white",
            "ticks": ""
           },
           "bgcolor": "#E5ECF6",
           "radialaxis": {
            "gridcolor": "white",
            "linecolor": "white",
            "ticks": ""
           }
          },
          "scene": {
           "xaxis": {
            "backgroundcolor": "#E5ECF6",
            "gridcolor": "white",
            "gridwidth": 2,
            "linecolor": "white",
            "showbackground": true,
            "ticks": "",
            "zerolinecolor": "white"
           },
           "yaxis": {
            "backgroundcolor": "#E5ECF6",
            "gridcolor": "white",
            "gridwidth": 2,
            "linecolor": "white",
            "showbackground": true,
            "ticks": "",
            "zerolinecolor": "white"
           },
           "zaxis": {
            "backgroundcolor": "#E5ECF6",
            "gridcolor": "white",
            "gridwidth": 2,
            "linecolor": "white",
            "showbackground": true,
            "ticks": "",
            "zerolinecolor": "white"
           }
          },
          "shapedefaults": {
           "line": {
            "color": "#2a3f5f"
           }
          },
          "ternary": {
           "aaxis": {
            "gridcolor": "white",
            "linecolor": "white",
            "ticks": ""
           },
           "baxis": {
            "gridcolor": "white",
            "linecolor": "white",
            "ticks": ""
           },
           "bgcolor": "#E5ECF6",
           "caxis": {
            "gridcolor": "white",
            "linecolor": "white",
            "ticks": ""
           }
          },
          "title": {
           "x": 0.05
          },
          "xaxis": {
           "automargin": true,
           "gridcolor": "white",
           "linecolor": "white",
           "ticks": "",
           "title": {
            "standoff": 15
           },
           "zerolinecolor": "white",
           "zerolinewidth": 2
          },
          "yaxis": {
           "automargin": true,
           "gridcolor": "white",
           "linecolor": "white",
           "ticks": "",
           "title": {
            "standoff": 15
           },
           "zerolinecolor": "white",
           "zerolinewidth": 2
          }
         }
        },
        "title": {
         "text": "📍 Restaurants within 2 km of User Location"
        }
       }
      },
      "text/html": [
       "<div>                            <div id=\"2ebf3869-db49-4e9c-a277-13bb39694bf0\" class=\"plotly-graph-div\" style=\"height:600px; width:100%;\"></div>            <script type=\"text/javascript\">                require([\"plotly\"], function(Plotly) {                    window.PLOTLYENV=window.PLOTLYENV || {};                                    if (document.getElementById(\"2ebf3869-db49-4e9c-a277-13bb39694bf0\")) {                    Plotly.newPlot(                        \"2ebf3869-db49-4e9c-a277-13bb39694bf0\",                        [{\"customdata\":[[null,0.0]],\"hovertemplate\":\"\\u003cb\\u003e%{hovertext}\\u003c\\u002fb\\u003e\\u003cbr\\u003e\\u003cbr\\u003eType=User\\u003cbr\\u003esize=%{marker.size}\\u003cbr\\u003elat=%{lat}\\u003cbr\\u003elon=%{lon}\\u003cbr\\u003erating=%{customdata[0]}\\u003cbr\\u003edistance_km=%{customdata[1]}\\u003cextra\\u003e\\u003c\\u002fextra\\u003e\",\"hovertext\":[\"User Location\"],\"lat\":[12.9716],\"legendgroup\":\"User\",\"lon\":[77.5946],\"marker\":{\"color\":\"#1f77b4\",\"size\":[15],\"sizemode\":\"area\",\"sizeref\":0.0375},\"mode\":\"markers\",\"name\":\"User\",\"showlegend\":true,\"subplot\":\"mapbox\",\"type\":\"scattermapbox\"},{\"customdata\":[[4.042885771543086,0.45],[3.9630909090909086,1.21],[3.9010526315789473,1.86],[3.8445723684210527,0.71],[3.74055023923445,1.39],[3.595848708487085,1.35]],\"hovertemplate\":\"\\u003cb\\u003e%{hovertext}\\u003c\\u002fb\\u003e\\u003cbr\\u003e\\u003cbr\\u003eType=Restaurant\\u003cbr\\u003esize=%{marker.size}\\u003cbr\\u003elat=%{lat}\\u003cbr\\u003elon=%{lon}\\u003cbr\\u003erating=%{customdata[0]}\\u003cbr\\u003edistance_km=%{customdata[1]}\\u003cextra\\u003e\\u003c\\u002fextra\\u003e\",\"hovertext\":[\"Lavelle Road , Bangalore , Karnataka , India\",\"Church Street , Bangalore , Karnataka , India\",\"Cunningham Road , Bangalore , Karnataka , India\",\"Residency Road , Bangalore , Karnataka , India\",\"MG Road , Bangalore , Karnataka , India\",\"Brigade Road , Bangalore , Karnataka , India\"],\"lat\":[12.9722287,12.9749142,12.9884255,12.9672634,12.9755264,12.971609],\"legendgroup\":\"Restaurant\",\"lon\":[77.5986661,77.6052474,77.5938978,77.5993931,77.6067902,77.6070463],\"marker\":{\"color\":\"#2ca02c\",\"size\":[8,8,8,8,8,8],\"sizemode\":\"area\",\"sizeref\":0.0375},\"mode\":\"markers\",\"name\":\"Restaurant\",\"showlegend\":true,\"subplot\":\"mapbox\",\"type\":\"scattermapbox\"}],                        {\"template\":{\"data\":{\"histogram2dcontour\":[{\"type\":\"histogram2dcontour\",\"colorbar\":{\"outlinewidth\":0,\"ticks\":\"\"},\"colorscale\":[[0.0,\"#0d0887\"],[0.1111111111111111,\"#46039f\"],[0.2222222222222222,\"#7201a8\"],[0.3333333333333333,\"#9c179e\"],[0.4444444444444444,\"#bd3786\"],[0.5555555555555556,\"#d8576b\"],[0.6666666666666666,\"#ed7953\"],[0.7777777777777778,\"#fb9f3a\"],[0.8888888888888888,\"#fdca26\"],[1.0,\"#f0f921\"]]}],\"choropleth\":[{\"type\":\"choropleth\",\"colorbar\":{\"outlinewidth\":0,\"ticks\":\"\"}}],\"histogram2d\":[{\"type\":\"histogram2d\",\"colorbar\":{\"outlinewidth\":0,\"ticks\":\"\"},\"colorscale\":[[0.0,\"#0d0887\"],[0.1111111111111111,\"#46039f\"],[0.2222222222222222,\"#7201a8\"],[0.3333333333333333,\"#9c179e\"],[0.4444444444444444,\"#bd3786\"],[0.5555555555555556,\"#d8576b\"],[0.6666666666666666,\"#ed7953\"],[0.7777777777777778,\"#fb9f3a\"],[0.8888888888888888,\"#fdca26\"],[1.0,\"#f0f921\"]]}],\"heatmap\":[{\"type\":\"heatmap\",\"colorbar\":{\"outlinewidth\":0,\"ticks\":\"\"},\"colorscale\":[[0.0,\"#0d0887\"],[0.1111111111111111,\"#46039f\"],[0.2222222222222222,\"#7201a8\"],[0.3333333333333333,\"#9c179e\"],[0.4444444444444444,\"#bd3786\"],[0.5555555555555556,\"#d8576b\"],[0.6666666666666666,\"#ed7953\"],[0.7777777777777778,\"#fb9f3a\"],[0.8888888888888888,\"#fdca26\"],[1.0,\"#f0f921\"]]}],\"heatmapgl\":[{\"type\":\"heatmapgl\",\"colorbar\":{\"outlinewidth\":0,\"ticks\":\"\"},\"colorscale\":[[0.0,\"#0d0887\"],[0.1111111111111111,\"#46039f\"],[0.2222222222222222,\"#7201a8\"],[0.3333333333333333,\"#9c179e\"],[0.4444444444444444,\"#bd3786\"],[0.5555555555555556,\"#d8576b\"],[0.6666666666666666,\"#ed7953\"],[0.7777777777777778,\"#fb9f3a\"],[0.8888888888888888,\"#fdca26\"],[1.0,\"#f0f921\"]]}],\"contourcarpet\":[{\"type\":\"contourcarpet\",\"colorbar\":{\"outlinewidth\":0,\"ticks\":\"\"}}],\"contour\":[{\"type\":\"contour\",\"colorbar\":{\"outlinewidth\":0,\"ticks\":\"\"},\"colorscale\":[[0.0,\"#0d0887\"],[0.1111111111111111,\"#46039f\"],[0.2222222222222222,\"#7201a8\"],[0.3333333333333333,\"#9c179e\"],[0.4444444444444444,\"#bd3786\"],[0.5555555555555556,\"#d8576b\"],[0.6666666666666666,\"#ed7953\"],[0.7777777777777778,\"#fb9f3a\"],[0.8888888888888888,\"#fdca26\"],[1.0,\"#f0f921\"]]}],\"surface\":[{\"type\":\"surface\",\"colorbar\":{\"outlinewidth\":0,\"ticks\":\"\"},\"colorscale\":[[0.0,\"#0d0887\"],[0.1111111111111111,\"#46039f\"],[0.2222222222222222,\"#7201a8\"],[0.3333333333333333,\"#9c179e\"],[0.4444444444444444,\"#bd3786\"],[0.5555555555555556,\"#d8576b\"],[0.6666666666666666,\"#ed7953\"],[0.7777777777777778,\"#fb9f3a\"],[0.8888888888888888,\"#fdca26\"],[1.0,\"#f0f921\"]]}],\"mesh3d\":[{\"type\":\"mesh3d\",\"colorbar\":{\"outlinewidth\":0,\"ticks\":\"\"}}],\"scatter\":[{\"fillpattern\":{\"fillmode\":\"overlay\",\"size\":10,\"solidity\":0.2},\"type\":\"scatter\"}],\"parcoords\":[{\"type\":\"parcoords\",\"line\":{\"colorbar\":{\"outlinewidth\":0,\"ticks\":\"\"}}}],\"scatterpolargl\":[{\"type\":\"scatterpolargl\",\"marker\":{\"colorbar\":{\"outlinewidth\":0,\"ticks\":\"\"}}}],\"bar\":[{\"error_x\":{\"color\":\"#2a3f5f\"},\"error_y\":{\"color\":\"#2a3f5f\"},\"marker\":{\"line\":{\"color\":\"#E5ECF6\",\"width\":0.5},\"pattern\":{\"fillmode\":\"overlay\",\"size\":10,\"solidity\":0.2}},\"type\":\"bar\"}],\"scattergeo\":[{\"type\":\"scattergeo\",\"marker\":{\"colorbar\":{\"outlinewidth\":0,\"ticks\":\"\"}}}],\"scatterpolar\":[{\"type\":\"scatterpolar\",\"marker\":{\"colorbar\":{\"outlinewidth\":0,\"ticks\":\"\"}}}],\"histogram\":[{\"marker\":{\"pattern\":{\"fillmode\":\"overlay\",\"size\":10,\"solidity\":0.2}},\"type\":\"histogram\"}],\"scattergl\":[{\"type\":\"scattergl\",\"marker\":{\"colorbar\":{\"outlinewidth\":0,\"ticks\":\"\"}}}],\"scatter3d\":[{\"type\":\"scatter3d\",\"line\":{\"colorbar\":{\"outlinewidth\":0,\"ticks\":\"\"}},\"marker\":{\"colorbar\":{\"outlinewidth\":0,\"ticks\":\"\"}}}],\"scattermapbox\":[{\"type\":\"scattermapbox\",\"marker\":{\"colorbar\":{\"outlinewidth\":0,\"ticks\":\"\"}}}],\"scatterternary\":[{\"type\":\"scatterternary\",\"marker\":{\"colorbar\":{\"outlinewidth\":0,\"ticks\":\"\"}}}],\"scattercarpet\":[{\"type\":\"scattercarpet\",\"marker\":{\"colorbar\":{\"outlinewidth\":0,\"ticks\":\"\"}}}],\"carpet\":[{\"aaxis\":{\"endlinecolor\":\"#2a3f5f\",\"gridcolor\":\"white\",\"linecolor\":\"white\",\"minorgridcolor\":\"white\",\"startlinecolor\":\"#2a3f5f\"},\"baxis\":{\"endlinecolor\":\"#2a3f5f\",\"gridcolor\":\"white\",\"linecolor\":\"white\",\"minorgridcolor\":\"white\",\"startlinecolor\":\"#2a3f5f\"},\"type\":\"carpet\"}],\"table\":[{\"cells\":{\"fill\":{\"color\":\"#EBF0F8\"},\"line\":{\"color\":\"white\"}},\"header\":{\"fill\":{\"color\":\"#C8D4E3\"},\"line\":{\"color\":\"white\"}},\"type\":\"table\"}],\"barpolar\":[{\"marker\":{\"line\":{\"color\":\"#E5ECF6\",\"width\":0.5},\"pattern\":{\"fillmode\":\"overlay\",\"size\":10,\"solidity\":0.2}},\"type\":\"barpolar\"}],\"pie\":[{\"automargin\":true,\"type\":\"pie\"}]},\"layout\":{\"autotypenumbers\":\"strict\",\"colorway\":[\"#636efa\",\"#EF553B\",\"#00cc96\",\"#ab63fa\",\"#FFA15A\",\"#19d3f3\",\"#FF6692\",\"#B6E880\",\"#FF97FF\",\"#FECB52\"],\"font\":{\"color\":\"#2a3f5f\"},\"hovermode\":\"closest\",\"hoverlabel\":{\"align\":\"left\"},\"paper_bgcolor\":\"white\",\"plot_bgcolor\":\"#E5ECF6\",\"polar\":{\"bgcolor\":\"#E5ECF6\",\"angularaxis\":{\"gridcolor\":\"white\",\"linecolor\":\"white\",\"ticks\":\"\"},\"radialaxis\":{\"gridcolor\":\"white\",\"linecolor\":\"white\",\"ticks\":\"\"}},\"ternary\":{\"bgcolor\":\"#E5ECF6\",\"aaxis\":{\"gridcolor\":\"white\",\"linecolor\":\"white\",\"ticks\":\"\"},\"baxis\":{\"gridcolor\":\"white\",\"linecolor\":\"white\",\"ticks\":\"\"},\"caxis\":{\"gridcolor\":\"white\",\"linecolor\":\"white\",\"ticks\":\"\"}},\"coloraxis\":{\"colorbar\":{\"outlinewidth\":0,\"ticks\":\"\"}},\"colorscale\":{\"sequential\":[[0.0,\"#0d0887\"],[0.1111111111111111,\"#46039f\"],[0.2222222222222222,\"#7201a8\"],[0.3333333333333333,\"#9c179e\"],[0.4444444444444444,\"#bd3786\"],[0.5555555555555556,\"#d8576b\"],[0.6666666666666666,\"#ed7953\"],[0.7777777777777778,\"#fb9f3a\"],[0.8888888888888888,\"#fdca26\"],[1.0,\"#f0f921\"]],\"sequentialminus\":[[0.0,\"#0d0887\"],[0.1111111111111111,\"#46039f\"],[0.2222222222222222,\"#7201a8\"],[0.3333333333333333,\"#9c179e\"],[0.4444444444444444,\"#bd3786\"],[0.5555555555555556,\"#d8576b\"],[0.6666666666666666,\"#ed7953\"],[0.7777777777777778,\"#fb9f3a\"],[0.8888888888888888,\"#fdca26\"],[1.0,\"#f0f921\"]],\"diverging\":[[0,\"#8e0152\"],[0.1,\"#c51b7d\"],[0.2,\"#de77ae\"],[0.3,\"#f1b6da\"],[0.4,\"#fde0ef\"],[0.5,\"#f7f7f7\"],[0.6,\"#e6f5d0\"],[0.7,\"#b8e186\"],[0.8,\"#7fbc41\"],[0.9,\"#4d9221\"],[1,\"#276419\"]]},\"xaxis\":{\"gridcolor\":\"white\",\"linecolor\":\"white\",\"ticks\":\"\",\"title\":{\"standoff\":15},\"zerolinecolor\":\"white\",\"automargin\":true,\"zerolinewidth\":2},\"yaxis\":{\"gridcolor\":\"white\",\"linecolor\":\"white\",\"ticks\":\"\",\"title\":{\"standoff\":15},\"zerolinecolor\":\"white\",\"automargin\":true,\"zerolinewidth\":2},\"scene\":{\"xaxis\":{\"backgroundcolor\":\"#E5ECF6\",\"gridcolor\":\"white\",\"linecolor\":\"white\",\"showbackground\":true,\"ticks\":\"\",\"zerolinecolor\":\"white\",\"gridwidth\":2},\"yaxis\":{\"backgroundcolor\":\"#E5ECF6\",\"gridcolor\":\"white\",\"linecolor\":\"white\",\"showbackground\":true,\"ticks\":\"\",\"zerolinecolor\":\"white\",\"gridwidth\":2},\"zaxis\":{\"backgroundcolor\":\"#E5ECF6\",\"gridcolor\":\"white\",\"linecolor\":\"white\",\"showbackground\":true,\"ticks\":\"\",\"zerolinecolor\":\"white\",\"gridwidth\":2}},\"shapedefaults\":{\"line\":{\"color\":\"#2a3f5f\"}},\"annotationdefaults\":{\"arrowcolor\":\"#2a3f5f\",\"arrowhead\":0,\"arrowwidth\":1},\"geo\":{\"bgcolor\":\"white\",\"landcolor\":\"#E5ECF6\",\"subunitcolor\":\"white\",\"showland\":true,\"showlakes\":true,\"lakecolor\":\"white\"},\"title\":{\"x\":0.05},\"mapbox\":{\"style\":\"light\"}}},\"mapbox\":{\"domain\":{\"x\":[0.0,1.0],\"y\":[0.0,1.0]},\"center\":{\"lat\":12.974509600000001,\"lon\":77.60080584285713},\"zoom\":14,\"style\":\"carto-darkmatter\"},\"legend\":{\"title\":{\"text\":\"Location Type\"},\"tracegroupgap\":0,\"itemsizing\":\"constant\"},\"margin\":{\"t\":60},\"height\":600,\"title\":{\"text\":\"\\ud83d\\udccd Restaurants within 2 km of User Location\"}},                        {\"responsive\": true}                    ).then(function(){\n",
       "                            \n",
       "var gd = document.getElementById('2ebf3869-db49-4e9c-a277-13bb39694bf0');\n",
       "var x = new MutationObserver(function (mutations, observer) {{\n",
       "        var display = window.getComputedStyle(gd).display;\n",
       "        if (!display || display === 'none') {{\n",
       "            console.log([gd, 'removed!']);\n",
       "            Plotly.purge(gd);\n",
       "            observer.disconnect();\n",
       "        }}\n",
       "}});\n",
       "\n",
       "// Listen for the removal of the full notebook cells\n",
       "var notebookContainer = gd.closest('#notebook-container');\n",
       "if (notebookContainer) {{\n",
       "    x.observe(notebookContainer, {childList: true});\n",
       "}}\n",
       "\n",
       "// Listen for the clearing of the current output cell\n",
       "var outputEl = gd.closest('.output');\n",
       "if (outputEl) {{\n",
       "    x.observe(outputEl, {childList: true});\n",
       "}}\n",
       "\n",
       "                        })                };                });            </script>        </div>"
      ]
     },
     "metadata": {},
     "output_type": "display_data"
    }
   ],
   "source": [
    "color_map = {\n",
    "    'User': '#1f77b4',         # dark blue\n",
    "    'Restaurant': '#2ca02c'    # dark green\n",
    "}\n",
    "\n",
    "\n",
    "\n",
    "# Plot\n",
    "fig = px.scatter_mapbox(\n",
    "    plot_df,\n",
    "    lat = 'lat',\n",
    "    lon = 'lon',\n",
    "    hover_name = 'name',\n",
    "    hover_data = {'rating': True, 'distance_km': True},\n",
    "    color = 'Type',\n",
    "    color_discrete_map = color_map,\n",
    "    size = plot_df['Type'].apply(lambda x: 15 if x == 'User' else 8),\n",
    "    zoom = 14,\n",
    "    height = 600\n",
    ")\n",
    "\n",
    "fig.update_layout(\n",
    "    mapbox_style=\"carto-darkmatter\",\n",
    "    title=\"📍 Restaurants within 2 km of User Location\",\n",
    "    legend_title=\"Location Type\"\n",
    ")\n",
    "\n",
    "fig.show()\n"
   ]
  },
  {
   "cell_type": "code",
   "execution_count": null,
   "id": "60856da6",
   "metadata": {},
   "outputs": [],
   "source": []
  },
  {
   "cell_type": "code",
   "execution_count": null,
   "id": "c4b29055",
   "metadata": {},
   "outputs": [],
   "source": [
    "## So if u live at this blue point( Imagine this is your home or let say u have booked a hotel at this location)\n",
    "## Then these are 5 best rated restaurants near you (REd dots)"
   ]
  },
  {
   "cell_type": "code",
   "execution_count": null,
   "id": "65ed1ec2",
   "metadata": {},
   "outputs": [],
   "source": []
  },
  {
   "cell_type": "code",
   "execution_count": null,
   "id": "29471aa1",
   "metadata": {},
   "outputs": [],
   "source": []
  },
  {
   "cell_type": "code",
   "execution_count": null,
   "id": "d63bbebc",
   "metadata": {},
   "outputs": [],
   "source": []
  }
 ],
 "metadata": {
  "kernelspec": {
   "display_name": "Python 3 (ipykernel)",
   "language": "python",
   "name": "python3"
  },
  "language_info": {
   "codemirror_mode": {
    "name": "ipython",
    "version": 3
   },
   "file_extension": ".py",
   "mimetype": "text/x-python",
   "name": "python",
   "nbconvert_exporter": "python",
   "pygments_lexer": "ipython3",
   "version": "3.12.3"
  }
 },
 "nbformat": 4,
 "nbformat_minor": 5
}
