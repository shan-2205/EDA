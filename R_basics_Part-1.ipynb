{
 "cells": [
  {
   "cell_type": "code",
   "execution_count": null,
   "id": "008fa452",
   "metadata": {},
   "outputs": [],
   "source": []
  },
  {
   "cell_type": "code",
   "execution_count": null,
   "id": "cfb98cb1",
   "metadata": {},
   "outputs": [],
   "source": []
  },
  {
   "cell_type": "code",
   "execution_count": null,
   "id": "21cdcfdf",
   "metadata": {},
   "outputs": [],
   "source": []
  },
  {
   "cell_type": "markdown",
   "id": "32132baf-576b-47e6-af4d-e2bca1481f43",
   "metadata": {},
   "source": [
    "# Module 1.. Introduction : 15 mins\n",
    "                  Intro to R & why it is so important : 4 mins \n",
    "                  Installing Rstudio : 4 mins \n",
    "                  Installing R in Jupyter Notebook : 7 mins"
   ]
  },
  {
   "cell_type": "code",
   "execution_count": null,
   "id": "283b81c5",
   "metadata": {},
   "outputs": [],
   "source": []
  },
  {
   "cell_type": "code",
   "execution_count": null,
   "id": "5e26bebe",
   "metadata": {},
   "outputs": [],
   "source": []
  },
  {
   "cell_type": "markdown",
   "id": "230dd323",
   "metadata": {},
   "source": [
    "## Intro to R & why it is so important !"
   ]
  },
  {
   "cell_type": "markdown",
   "id": "fae4b0d0",
   "metadata": {},
   "source": [
    "    -> Used in data analysis , data science , Statistics  & in graphical field..\n",
    "    \n",
    "    -> high demand in industry..\n",
    "    \n",
    "    -> It gives us a broad variety of libraries related to data science , ML , Data analysis etc \n",
    "       which makes things simple for us to learn data science & data analysis\n",
    "       R has CRAN(Comprehensive R Archive Network), which is a repository holding more than 10,0000 packages for Data\n",
    "       science & ML ..\n",
    "    \n",
    "    -> It is open-source , ie anyone can use it & you can run R anywhere and at any time.\n",
    "    -> R is available across widely used platforms like Windows, Linux, and macOS. \n",
    "    -> It has a vast community of users and it’s growing day by day.\n",
    "    -> It allows us to integrate with other languages (C, C++). \n",
    "       Thus, you can easily interact with many data sources and statistical packages."
   ]
  },
  {
   "cell_type": "code",
   "execution_count": null,
   "id": "efb40bfd",
   "metadata": {},
   "outputs": [],
   "source": []
  },
  {
   "cell_type": "code",
   "execution_count": null,
   "id": "95b64942",
   "metadata": {},
   "outputs": [],
   "source": []
  },
  {
   "cell_type": "code",
   "execution_count": null,
   "id": "4588dcda",
   "metadata": {},
   "outputs": [],
   "source": []
  },
  {
   "cell_type": "markdown",
   "id": "43d6b93c",
   "metadata": {},
   "source": [
    "## Installing Rstudio : "
   ]
  },
  {
   "cell_type": "code",
   "execution_count": null,
   "id": "12bd69d7",
   "metadata": {},
   "outputs": [],
   "source": []
  },
  {
   "cell_type": "code",
   "execution_count": null,
   "id": "2d3987df",
   "metadata": {},
   "outputs": [],
   "source": []
  },
  {
   "cell_type": "code",
   "execution_count": null,
   "id": "9cce83f4",
   "metadata": {},
   "outputs": [],
   "source": []
  },
  {
   "cell_type": "code",
   "execution_count": null,
   "id": "e042a1a2",
   "metadata": {},
   "outputs": [],
   "source": []
  },
  {
   "cell_type": "markdown",
   "id": "5bd45d9f",
   "metadata": {},
   "source": [
    "## Installing R in Jupyter Notebook !"
   ]
  },
  {
   "cell_type": "code",
   "execution_count": null,
   "id": "d9a40c62",
   "metadata": {},
   "outputs": [],
   "source": [
    "## first show installing of Anaconda navigator !\n",
    "## Then explain what is virtual environment !\n",
    "\n",
    "## Then show how to install R in Jupyter Notebook ! ( Refer R_in_Anaconda_with_latest_version.txt)\n",
    "\n",
    "## Show how to open Jupyter notebook !\n",
    "## Then show how to open Jupyter notebook at other directories !"
   ]
  },
  {
   "cell_type": "code",
   "execution_count": null,
   "id": "24346842",
   "metadata": {},
   "outputs": [],
   "source": []
  },
  {
   "cell_type": "code",
   "execution_count": null,
   "id": "a542bd79",
   "metadata": {},
   "outputs": [],
   "source": []
  },
  {
   "cell_type": "code",
   "execution_count": null,
   "id": "13b2448b",
   "metadata": {},
   "outputs": [],
   "source": []
  },
  {
   "cell_type": "code",
   "execution_count": null,
   "id": "678f9bf1",
   "metadata": {},
   "outputs": [],
   "source": []
  },
  {
   "cell_type": "code",
   "execution_count": null,
   "id": "10df01fa",
   "metadata": {},
   "outputs": [],
   "source": []
  },
  {
   "cell_type": "markdown",
   "id": "1e2d65b4",
   "metadata": {},
   "source": [
    "# Module 2.. Basics of R : 1hr 9 mins\n",
    "\n",
    "                  What are keywords In R ? : 4 mins \n",
    "                  What are Identifiers in R ? : 6 mins \n",
    "                  Comments in R : 4 mins \n",
    "                  Statements in R : 5 mins \n",
    "                  Variables in R & its use : 4 mins \n",
    "                  Types of Variable assignment in R : 5 mins \n",
    "                  Data types In R : 10 mins \n",
    "                  Operators In R : 7 mins \n",
    "                  Conditional Statements in R : 8 mins \n",
    "                  Loops & Indentation in R (For loop , while , repeat ) : 10 mins \n",
    "                  what is function & how to define custom function ? : 6 mins "
   ]
  },
  {
   "cell_type": "code",
   "execution_count": null,
   "id": "3782fe03",
   "metadata": {},
   "outputs": [],
   "source": []
  },
  {
   "cell_type": "code",
   "execution_count": null,
   "id": "9748bc55",
   "metadata": {},
   "outputs": [],
   "source": []
  },
  {
   "cell_type": "code",
   "execution_count": null,
   "id": "c6d7931b-afb3-4f5a-8b16-f353d171a5fb",
   "metadata": {},
   "outputs": [],
   "source": [
    "## What are keywords In R ? \n",
    "     Keywords are predefined by the programming language\n",
    "     (ie my R language knows what these words are all about\n",
    "     and they are reserved for specific tasks or operations.. \n",
    "     \n",
    "     Keywords are specific reserved words in R , \n",
    "      each of which has a specific meaning.."
   ]
  },
  {
   "cell_type": "code",
   "execution_count": null,
   "id": "1565bc06",
   "metadata": {},
   "outputs": [],
   "source": [
    "### Just like as soon as u write function() , your R programming \n",
    "    knows u are trying to define a function !"
   ]
  },
  {
   "cell_type": "code",
   "execution_count": 6,
   "id": "011f2e64",
   "metadata": {},
   "outputs": [
    {
     "data": {
      "text/html": [
       "FALSE"
      ],
      "text/latex": [
       "FALSE"
      ],
      "text/markdown": [
       "FALSE"
      ],
      "text/plain": [
       "[1] FALSE"
      ]
     },
     "metadata": {},
     "output_type": "display_data"
    }
   ],
   "source": [
    "2 == 5\n",
    "\n",
    "## is a logical comparison , ie it will return a logical value, either TRUE or FALSE:\n",
    "## FALSE is a keyword "
   ]
  },
  {
   "cell_type": "code",
   "execution_count": null,
   "id": "2e533cad-e4b9-4103-b966-e93f2334ec02",
   "metadata": {},
   "outputs": [],
   "source": [
    "help(reserved)\n",
    "\n",
    "### it's important to note that reserved is not a function but a help topic."
   ]
  },
  {
   "cell_type": "code",
   "execution_count": 23,
   "id": "30520955",
   "metadata": {},
   "outputs": [],
   "source": [
    "?reserved"
   ]
  },
  {
   "cell_type": "code",
   "execution_count": null,
   "id": "307f2d0c",
   "metadata": {},
   "outputs": [],
   "source": [
    "'''\n",
    "if\n",
    "else\n",
    "while\n",
    "repeat\n",
    "for\n",
    "function\n",
    "in\n",
    "next\n",
    "break\n",
    "TRUE\n",
    "FALSE\n",
    "NULL\n",
    "Inf\n",
    "NaN\n",
    "NA\n",
    "NA_integer\n",
    "NA_real\n",
    "NA_complex_\n",
    "NA_character_\n",
    "…\n",
    "\n",
    "'''"
   ]
  },
  {
   "cell_type": "code",
   "execution_count": null,
   "id": "15bdb75a",
   "metadata": {},
   "outputs": [],
   "source": []
  },
  {
   "cell_type": "code",
   "execution_count": null,
   "id": "5fbfdce2",
   "metadata": {},
   "outputs": [],
   "source": []
  },
  {
   "cell_type": "code",
   "execution_count": null,
   "id": "4a66353c",
   "metadata": {},
   "outputs": [],
   "source": []
  },
  {
   "cell_type": "markdown",
   "id": "e59579fa",
   "metadata": {},
   "source": [
    "## What are Identifiers in R ? \n",
    "     In R, an identifier is a name assigned to a variable, function, or other objects(vector_obj , lis_obj , dataframe_obj\n",
    "     to do code.."
   ]
  },
  {
   "cell_type": "markdown",
   "id": "2acb400f",
   "metadata": {},
   "source": [
    "    Rules for Identifiers:\n",
    "\n",
    "    Identifiers can contain [A-Z], [a-z] , [0-9], and  (dots) ,(underscore) [ no special chars like +, -, *, / ] \n",
    "    They cannot start with a digits & special character(except dot(.))\n",
    "    They must start with a letter or a dot followed by a letter..\n",
    "    \n",
    "    Avoid using reserved words or keywords (e.g., if, else, function) as identifiers..\n",
    "    Identifiers are case-sensitive, meaning my_variable and My_Variable would be considered different."
   ]
  },
  {
   "cell_type": "code",
   "execution_count": 1,
   "id": "2e9871d8",
   "metadata": {},
   "outputs": [],
   "source": [
    "a_b = 6 ## identifier can have (underscore) & (dots)"
   ]
  },
  {
   "cell_type": "code",
   "execution_count": 2,
   "id": "695ac493",
   "metadata": {},
   "outputs": [
    {
     "data": {
      "text/html": [
       "6"
      ],
      "text/latex": [
       "6"
      ],
      "text/markdown": [
       "6"
      ],
      "text/plain": [
       "[1] 6"
      ]
     },
     "metadata": {},
     "output_type": "display_data"
    }
   ],
   "source": [
    "a_b"
   ]
  },
  {
   "cell_type": "code",
   "execution_count": 3,
   "id": "b990ca0d",
   "metadata": {},
   "outputs": [],
   "source": [
    ".b = 9 ## identifier can start with only special character which is dot(.)"
   ]
  },
  {
   "cell_type": "code",
   "execution_count": 4,
   "id": "1875432c",
   "metadata": {},
   "outputs": [
    {
     "data": {
      "text/html": [
       "9"
      ],
      "text/latex": [
       "9"
      ],
      "text/markdown": [
       "9"
      ],
      "text/plain": [
       "[1] 9"
      ]
     },
     "metadata": {},
     "output_type": "display_data"
    }
   ],
   "source": [
    ".b"
   ]
  },
  {
   "cell_type": "code",
   "execution_count": null,
   "id": "88a3ca52",
   "metadata": {},
   "outputs": [],
   "source": [
    "9b = 7 ## return error as identifer cant start with a digit"
   ]
  },
  {
   "cell_type": "code",
   "execution_count": null,
   "id": "27749ccb",
   "metadata": {},
   "outputs": [],
   "source": []
  },
  {
   "cell_type": "code",
   "execution_count": null,
   "id": "3639be9a",
   "metadata": {},
   "outputs": [],
   "source": []
  },
  {
   "cell_type": "code",
   "execution_count": null,
   "id": "7fdc3550",
   "metadata": {},
   "outputs": [],
   "source": []
  },
  {
   "cell_type": "markdown",
   "id": "16658f18",
   "metadata": {},
   "source": [
    "## Comments in R : "
   ]
  },
  {
   "cell_type": "markdown",
   "id": "0356256b",
   "metadata": {},
   "source": [
    "\n",
    "    In R, comments are used to annotate and explain the code. \n",
    "    Comments are ignored by the R interpreter and are intended for human readers to better understand the code. "
   ]
  },
  {
   "cell_type": "markdown",
   "id": "bf014c17",
   "metadata": {},
   "source": [
    "    1.. Using Single-line comment (use the # symbol)\n",
    "    2.. using multi-line comment (you can use # at the beginning of each line.)"
   ]
  },
  {
   "cell_type": "code",
   "execution_count": null,
   "id": "6ddcfb5d",
   "metadata": {},
   "outputs": [],
   "source": [
    "# doing addition (Single-line comment)\n",
    "a + b"
   ]
  },
  {
   "cell_type": "code",
   "execution_count": 8,
   "id": "858bd5bb",
   "metadata": {},
   "outputs": [],
   "source": [
    "# Example: Calculating the area of a circle\n",
    "# Step 1: Define the radius of the circle\n",
    "# Step 2: Calculate the area using the formula A = π * r^2\n",
    "\n",
    "radius <- 5\n",
    "area <- pi * radius^2 \n",
    "\n",
    "# pi is a predefined constant in R that represents the \n",
    "mathematical constant π (pi) ,approx equal to 3.14."
   ]
  },
  {
   "cell_type": "code",
   "execution_count": 9,
   "id": "7b842d13",
   "metadata": {},
   "outputs": [
    {
     "data": {
      "text/html": [
       "78.5398163397448"
      ],
      "text/latex": [
       "78.5398163397448"
      ],
      "text/markdown": [
       "78.5398163397448"
      ],
      "text/plain": [
       "[1] 78.53982"
      ]
     },
     "metadata": {},
     "output_type": "display_data"
    }
   ],
   "source": [
    "area"
   ]
  },
  {
   "cell_type": "code",
   "execution_count": 10,
   "id": "0019f3c0",
   "metadata": {},
   "outputs": [
    {
     "data": {
      "text/html": [
       "3.14159265358979"
      ],
      "text/latex": [
       "3.14159265358979"
      ],
      "text/markdown": [
       "3.14159265358979"
      ],
      "text/plain": [
       "[1] 3.141593"
      ]
     },
     "metadata": {},
     "output_type": "display_data"
    }
   ],
   "source": [
    "pi"
   ]
  },
  {
   "cell_type": "code",
   "execution_count": null,
   "id": "d69d5019",
   "metadata": {},
   "outputs": [],
   "source": []
  },
  {
   "cell_type": "code",
   "execution_count": null,
   "id": "49219418",
   "metadata": {},
   "outputs": [],
   "source": []
  },
  {
   "cell_type": "code",
   "execution_count": null,
   "id": "31622222",
   "metadata": {},
   "outputs": [],
   "source": []
  },
  {
   "cell_type": "markdown",
   "id": "e69cf0bb",
   "metadata": {},
   "source": [
    "## Statements in R : \n",
    "    Single-line statements\n",
    "    Multi-line statements"
   ]
  },
  {
   "cell_type": "markdown",
   "id": "4e9bf66b",
   "metadata": {},
   "source": [
    "    Single-line statements are suitable for simple and concise expressions \n",
    "    They are appropriate when the code is short and can be easily understood in a single line."
   ]
  },
  {
   "cell_type": "code",
   "execution_count": 19,
   "id": "da285cc8",
   "metadata": {},
   "outputs": [
    {
     "data": {
      "text/html": [
       "15"
      ],
      "text/latex": [
       "15"
      ],
      "text/markdown": [
       "15"
      ],
      "text/plain": [
       "[1] 15"
      ]
     },
     "metadata": {},
     "output_type": "display_data"
    }
   ],
   "source": [
    "x = 1 + 2 + 3 + 4 + 5 \n",
    "x\n",
    "\n",
    "### So When the statement is short and doesn't require line continuation, \n",
    "### using a single line can enhance readability."
   ]
  },
  {
   "cell_type": "code",
   "execution_count": null,
   "id": "3da693c7",
   "metadata": {},
   "outputs": [],
   "source": []
  },
  {
   "cell_type": "code",
   "execution_count": null,
   "id": "2f39bbde",
   "metadata": {},
   "outputs": [],
   "source": []
  },
  {
   "cell_type": "markdown",
   "id": "98fab80a",
   "metadata": {},
   "source": [
    "     Multi-line statements are often used for better code readability, especially when dealing with long expressions \n",
    "     or function calls.. As multiline statements can improve readability"
   ]
  },
  {
   "cell_type": "code",
   "execution_count": 17,
   "id": "24b29562",
   "metadata": {},
   "outputs": [],
   "source": [
    "# Multiline statement example\n",
    "total_sum <- 1 + 2 + 3 +\n",
    "             4 + 5 + 6 +\n",
    "             7 + 8 + 9 + \n",
    "            10 + 11 + 12 + \n",
    "            13 + 14 + 15 \n",
    "\n",
    "\n",
    "### Multi-line statements enhance readability by providing visual separation \n",
    "## between different parts of the code, making it easier to understand."
   ]
  },
  {
   "cell_type": "code",
   "execution_count": 18,
   "id": "c28f33c7",
   "metadata": {},
   "outputs": [
    {
     "data": {
      "text/html": [
       "78"
      ],
      "text/latex": [
       "78"
      ],
      "text/markdown": [
       "78"
      ],
      "text/plain": [
       "[1] 78"
      ]
     },
     "metadata": {},
     "output_type": "display_data"
    }
   ],
   "source": [
    "total_sum"
   ]
  },
  {
   "cell_type": "code",
   "execution_count": null,
   "id": "3634a0b9",
   "metadata": {},
   "outputs": [],
   "source": []
  },
  {
   "cell_type": "code",
   "execution_count": null,
   "id": "98113bd2",
   "metadata": {},
   "outputs": [],
   "source": []
  },
  {
   "cell_type": "code",
   "execution_count": null,
   "id": "f633a354",
   "metadata": {},
   "outputs": [],
   "source": []
  },
  {
   "cell_type": "code",
   "execution_count": null,
   "id": "a0ed2ece",
   "metadata": {},
   "outputs": [],
   "source": []
  },
  {
   "cell_type": "markdown",
   "id": "b89c7d5b",
   "metadata": {},
   "source": [
    "## Variables in R & its use\n",
    "    Same rules of defining identifier "
   ]
  },
  {
   "cell_type": "code",
   "execution_count": null,
   "id": "f3505219",
   "metadata": {},
   "outputs": [],
   "source": [
    "\"\n",
    "\n",
    "In R, when you create a variable and assign it a value, the variable is stored in the computer's memory. \n",
    "Let's understand it : \n",
    "\n",
    "Its a 3 step process :\n",
    "\n",
    "1.. Variable creation :\n",
    "    When you execute a = 10 or a <- 10, \n",
    "    R creates a symbol table that contains variable names and their corresponding addresses in its memory where 10 is stored..\n",
    "\n",
    "\n",
    "2.. Allocating memory :\n",
    "    Then R allocates a section of memory to store the value 10..\n",
    "    The size of the allocated memory depends on the type of data it is (like numbers , text, etc.).\n",
    "    In this case, it's an integer, so a certain amount of memory is reserved for storing an integer value..\n",
    "\n",
    "\n",
    "3.. Linking variable with memory :\n",
    "    The variable a is linked with the memory address where the value 10 is stored.\n",
    "    So, when you later use a in your code, R knows to go to the memory address XYZ to access the value 10.. \n",
    "\n",
    "\n",
    "Summary : \n",
    "This process involves the creation of a variable, memory allocation, \n",
    "and the establishment of a connection between the variable and the memory location where its value is stored..\n",
    "\n",
    "\""
   ]
  },
  {
   "cell_type": "code",
   "execution_count": null,
   "id": "d6a6ff34",
   "metadata": {},
   "outputs": [],
   "source": [
    "a = 10 "
   ]
  },
  {
   "cell_type": "code",
   "execution_count": null,
   "id": "a6efdfb1",
   "metadata": {},
   "outputs": [],
   "source": [
    "Symbol Table:\n",
    "  - Variable: a\n",
    "  - Memory Address: XYZ\n",
    "\n",
    "Memory:\n",
    "  - Address XYZ: 10\n"
   ]
  },
  {
   "cell_type": "code",
   "execution_count": null,
   "id": "47099b5b",
   "metadata": {},
   "outputs": [],
   "source": []
  },
  {
   "cell_type": "code",
   "execution_count": null,
   "id": "81bda2ef",
   "metadata": {},
   "outputs": [],
   "source": []
  },
  {
   "cell_type": "code",
   "execution_count": null,
   "id": "f23f60da",
   "metadata": {},
   "outputs": [],
   "source": []
  },
  {
   "cell_type": "markdown",
   "id": "e44b6592",
   "metadata": {},
   "source": [
    "## Types of Variable assignment in R"
   ]
  },
  {
   "cell_type": "code",
   "execution_count": null,
   "id": "c35c72b6-eb1c-49b5-b15d-e4f60c5c9684",
   "metadata": {},
   "outputs": [],
   "source": [
    "### 4 ways to declare variable..\n",
    "    1.. using =  (Equuals to operator)\n",
    "    2.. using <- (Leftward Assignment (<-))\n",
    "    3.. using >- (Rightward Assignment >- )\n",
    "    4.. using assign function "
   ]
  },
  {
   "cell_type": "markdown",
   "id": "f85a0bb6",
   "metadata": {},
   "source": [
    "### 1.. Leftward Assignment (<-):\n",
    "\n",
    "    This is the most common way to assign values to variables in R.\n",
    "    The arrow (<-) is read as \"gets\" or \"is assigned.\""
   ]
  },
  {
   "cell_type": "code",
   "execution_count": 31,
   "id": "3cff1f54",
   "metadata": {},
   "outputs": [
    {
     "data": {
      "text/html": [
       "25"
      ],
      "text/latex": [
       "25"
      ],
      "text/markdown": [
       "25"
      ],
      "text/plain": [
       "[1] 25"
      ]
     },
     "metadata": {},
     "output_type": "display_data"
    }
   ],
   "source": [
    "age <- 25\n",
    "age"
   ]
  },
  {
   "cell_type": "code",
   "execution_count": null,
   "id": "0d932ca2",
   "metadata": {},
   "outputs": [],
   "source": []
  },
  {
   "cell_type": "markdown",
   "id": "d5ee2e8c",
   "metadata": {},
   "source": [
    "### 2.. Rightward Assignment (->):\n",
    "\n",
    "    Similar to leftward assignment but with the arrow pointing to the right.\n",
    "    Less commonly used compared to <-"
   ]
  },
  {
   "cell_type": "code",
   "execution_count": 32,
   "id": "777b1abf",
   "metadata": {},
   "outputs": [
    {
     "data": {
      "text/html": [
       "25"
      ],
      "text/latex": [
       "25"
      ],
      "text/markdown": [
       "25"
      ],
      "text/plain": [
       "[1] 25"
      ]
     },
     "metadata": {},
     "output_type": "display_data"
    }
   ],
   "source": [
    "25 -> age\n",
    "age"
   ]
  },
  {
   "cell_type": "code",
   "execution_count": null,
   "id": "06c76305",
   "metadata": {},
   "outputs": [],
   "source": []
  },
  {
   "cell_type": "markdown",
   "id": "8db019a3",
   "metadata": {},
   "source": [
    "### 3.. Equal Sign (=):\n",
    "\n",
    "        The equal sign can also be used for assignment, though <- is more idiomatic in R.\n",
    "        It's more commonly used in function arguments."
   ]
  },
  {
   "cell_type": "code",
   "execution_count": 33,
   "id": "ed873949",
   "metadata": {},
   "outputs": [],
   "source": [
    "age = 25"
   ]
  },
  {
   "cell_type": "code",
   "execution_count": 34,
   "id": "01eb092d",
   "metadata": {},
   "outputs": [
    {
     "data": {
      "text/html": [
       "25"
      ],
      "text/latex": [
       "25"
      ],
      "text/markdown": [
       "25"
      ],
      "text/plain": [
       "[1] 25"
      ]
     },
     "metadata": {},
     "output_type": "display_data"
    }
   ],
   "source": [
    "age"
   ]
  },
  {
   "cell_type": "code",
   "execution_count": null,
   "id": "d6a50462",
   "metadata": {},
   "outputs": [],
   "source": []
  },
  {
   "cell_type": "markdown",
   "id": "69371f95",
   "metadata": {},
   "source": [
    "### 4.. using assign function \n",
    "        The assign() function allows dynamic variable assignment.\n",
    "        It takes a variable name as a character string and a value."
   ]
  },
  {
   "cell_type": "code",
   "execution_count": 35,
   "id": "09878744",
   "metadata": {},
   "outputs": [],
   "source": [
    "assign(\"age\", 25)"
   ]
  },
  {
   "cell_type": "code",
   "execution_count": 36,
   "id": "b8bba473",
   "metadata": {},
   "outputs": [
    {
     "data": {
      "text/html": [
       "25"
      ],
      "text/latex": [
       "25"
      ],
      "text/markdown": [
       "25"
      ],
      "text/plain": [
       "[1] 25"
      ]
     },
     "metadata": {},
     "output_type": "display_data"
    }
   ],
   "source": [
    "age"
   ]
  },
  {
   "cell_type": "code",
   "execution_count": null,
   "id": "f00d00a2",
   "metadata": {},
   "outputs": [],
   "source": [
    "\"\n",
    "\n",
    "All these methods achieve the same result\n",
    "But the leftward assignment (<-) is the most commonly used and recommended style in R. \n",
    "\n",
    "\n",
    "\""
   ]
  },
  {
   "cell_type": "code",
   "execution_count": null,
   "id": "653e11ce",
   "metadata": {},
   "outputs": [],
   "source": []
  },
  {
   "cell_type": "code",
   "execution_count": null,
   "id": "3eb788db",
   "metadata": {},
   "outputs": [],
   "source": []
  },
  {
   "cell_type": "code",
   "execution_count": null,
   "id": "6f8bef4f",
   "metadata": {},
   "outputs": [],
   "source": []
  },
  {
   "cell_type": "code",
   "execution_count": null,
   "id": "61b008bd",
   "metadata": {},
   "outputs": [],
   "source": []
  },
  {
   "cell_type": "markdown",
   "id": "48079a52",
   "metadata": {},
   "source": [
    "## Data types In R"
   ]
  },
  {
   "cell_type": "markdown",
   "id": "a35ac777",
   "metadata": {},
   "source": [
    "    R supports several fundamental data types. \n",
    "    Here are some of the primary data types in R:"
   ]
  },
  {
   "cell_type": "code",
   "execution_count": null,
   "id": "5c9e98a6",
   "metadata": {},
   "outputs": [],
   "source": []
  },
  {
   "cell_type": "markdown",
   "id": "6d5338b8",
   "metadata": {},
   "source": [
    "### 1.. Numeric:\n",
    "\n",
    "        Used for storing numeric values, which can be integers or decimals."
   ]
  },
  {
   "cell_type": "code",
   "execution_count": null,
   "id": "78218e52",
   "metadata": {},
   "outputs": [],
   "source": [
    "## In R ,we can use class(x) or typeof(x)\n",
    "## in Python , we have type(x)"
   ]
  },
  {
   "cell_type": "code",
   "execution_count": null,
   "id": "ad121ba1",
   "metadata": {},
   "outputs": [],
   "source": [
    "### Decimal values are called numerics in R. It is the default data type for numbers in R.. \n",
    "### If you assign a decimal value to a variable x as follows, x will be of numeric type.."
   ]
  },
  {
   "cell_type": "code",
   "execution_count": 37,
   "id": "68f57361",
   "metadata": {},
   "outputs": [
    {
     "name": "stdout",
     "output_type": "stream",
     "text": [
      "[1] \"numeric\"\n",
      "[1] \"double\"\n"
     ]
    }
   ],
   "source": [
    "x = 5.6\n",
    "\n",
    "# print the class name of variable\n",
    "print(class(x))\n",
    "## To find the data type of an object you have to use class() function\n",
    "\n",
    "\n",
    "# print the type of variable\n",
    "print(typeof(x)) ## ie its a double type or a floting type value\n"
   ]
  },
  {
   "cell_type": "code",
   "execution_count": null,
   "id": "0822c560",
   "metadata": {},
   "outputs": [],
   "source": []
  },
  {
   "cell_type": "markdown",
   "id": "10ba5ed7",
   "metadata": {},
   "source": [
    "#### Note-->> Even if an integer is assigned to a variable y, it is still being saved as a numeric value."
   ]
  },
  {
   "cell_type": "code",
   "execution_count": 38,
   "id": "1a39b729",
   "metadata": {},
   "outputs": [
    {
     "name": "stdout",
     "output_type": "stream",
     "text": [
      "[1] \"numeric\"\n",
      "[1] \"double\"\n"
     ]
    }
   ],
   "source": [
    "# Assign an integer value to y\n",
    "y = 5\n",
    " \n",
    "# print the class name of variable\n",
    "print(class(y))\n",
    " \n",
    "# print the type of variable\n",
    "print(typeof(y))"
   ]
  },
  {
   "cell_type": "code",
   "execution_count": null,
   "id": "d4486246",
   "metadata": {},
   "outputs": [],
   "source": [
    "'''\n",
    "When R stores a number in a variable, it converts the number into a “double” value \n",
    "or a decimal type with at least two decimal places. \n",
    "This means that a value such as 5 is stored as 5.00 with a type of double and a class of numeric. \n",
    "And also y is not an integer here can be confirmed with the is.integer() function. \n",
    "\n",
    "\n",
    "'''"
   ]
  },
  {
   "cell_type": "code",
   "execution_count": null,
   "id": "e22bdb27",
   "metadata": {},
   "outputs": [],
   "source": []
  },
  {
   "cell_type": "code",
   "execution_count": null,
   "id": "b5d8e0ef",
   "metadata": {},
   "outputs": [],
   "source": []
  },
  {
   "cell_type": "markdown",
   "id": "6da6e0bd",
   "metadata": {},
   "source": [
    "### 2.. Integer:\n",
    "\n",
    "    Similar to numeric but specifically used for integers."
   ]
  },
  {
   "cell_type": "markdown",
   "id": "52913829",
   "metadata": {},
   "source": [
    "    \n",
    "    a.. using as.integer()..  , ie y = as.integer(5)\n",
    "         ie convert 5 to integer , as is basically used for conversion..\n",
    "         \n",
    "    b.. adding suffix as L..  , ie y = 5L"
   ]
  },
  {
   "cell_type": "code",
   "execution_count": 39,
   "id": "139a619b",
   "metadata": {},
   "outputs": [],
   "source": [
    "y = as.integer(5)"
   ]
  },
  {
   "cell_type": "code",
   "execution_count": 40,
   "id": "b788f12e",
   "metadata": {},
   "outputs": [
    {
     "name": "stdout",
     "output_type": "stream",
     "text": [
      "[1] \"integer\"\n",
      "[1] \"integer\"\n"
     ]
    }
   ],
   "source": [
    "print(class(y))\n",
    " \n",
    "print(typeof(y))"
   ]
  },
  {
   "cell_type": "code",
   "execution_count": null,
   "id": "e93ac07c",
   "metadata": {},
   "outputs": [],
   "source": []
  },
  {
   "cell_type": "code",
   "execution_count": 41,
   "id": "3bbb7076",
   "metadata": {},
   "outputs": [
    {
     "name": "stdout",
     "output_type": "stream",
     "text": [
      "[1] \"integer\"\n",
      "[1] \"integer\"\n"
     ]
    }
   ],
   "source": [
    "y=3L\n",
    "\n",
    "print(class(y))\n",
    "\n",
    "print(typeof(y))"
   ]
  },
  {
   "cell_type": "code",
   "execution_count": null,
   "id": "463d8812",
   "metadata": {},
   "outputs": [],
   "source": []
  },
  {
   "cell_type": "markdown",
   "id": "39270c78",
   "metadata": {},
   "source": [
    "### 3.. Complex: \n",
    "        Used for complex numbers with both real and imaginary parts."
   ]
  },
  {
   "cell_type": "code",
   "execution_count": 43,
   "id": "a23003f2",
   "metadata": {},
   "outputs": [
    {
     "data": {
      "text/html": [
       "3+4i"
      ],
      "text/latex": [
       "3+4i"
      ],
      "text/markdown": [
       "3+4i"
      ],
      "text/plain": [
       "[1] 3+4i"
      ]
     },
     "metadata": {},
     "output_type": "display_data"
    }
   ],
   "source": [
    "complex_num <- 3 + 4i\n",
    "complex_num"
   ]
  },
  {
   "cell_type": "code",
   "execution_count": null,
   "id": "ca8a90bc",
   "metadata": {},
   "outputs": [],
   "source": []
  },
  {
   "cell_type": "markdown",
   "id": "f50cb758",
   "metadata": {},
   "source": [
    "### 4.. logical \n",
    "        R has logical data types that take either a value of true or false. \n",
    "        A logical value is often created via a comparison between variables. "
   ]
  },
  {
   "cell_type": "code",
   "execution_count": 45,
   "id": "1ca801bc",
   "metadata": {},
   "outputs": [
    {
     "data": {
      "text/html": [
       "TRUE"
      ],
      "text/latex": [
       "TRUE"
      ],
      "text/markdown": [
       "TRUE"
      ],
      "text/plain": [
       "[1] TRUE"
      ]
     },
     "metadata": {},
     "output_type": "display_data"
    }
   ],
   "source": [
    "# Sample values\n",
    "x = 4\n",
    "y = 3\n",
    " \n",
    "z = x > y\n",
    "z"
   ]
  },
  {
   "cell_type": "code",
   "execution_count": 47,
   "id": "54852ab8",
   "metadata": {},
   "outputs": [
    {
     "name": "stdout",
     "output_type": "stream",
     "text": [
      "[1] \"logical\"\n"
     ]
    }
   ],
   "source": [
    "# print the class name of z\n",
    "print(class(z))\n"
   ]
  },
  {
   "cell_type": "code",
   "execution_count": null,
   "id": "e5bdaacd",
   "metadata": {},
   "outputs": [],
   "source": []
  },
  {
   "cell_type": "markdown",
   "id": "d62b51fe",
   "metadata": {},
   "source": [
    "### 5.. Character "
   ]
  },
  {
   "cell_type": "markdown",
   "id": "06314d3d",
   "metadata": {},
   "source": [
    "    Used for storing text or strings.\n",
    "    The easiest way to denote that a value is of character type in R is to wrap the value inside \n",
    "    single or double inverted commas. "
   ]
  },
  {
   "cell_type": "code",
   "execution_count": 48,
   "id": "25420885",
   "metadata": {},
   "outputs": [],
   "source": [
    "x = \"shan\""
   ]
  },
  {
   "cell_type": "code",
   "execution_count": 49,
   "id": "524dc8ab",
   "metadata": {},
   "outputs": [
    {
     "data": {
      "text/html": [
       "'character'"
      ],
      "text/latex": [
       "'character'"
      ],
      "text/markdown": [
       "'character'"
      ],
      "text/plain": [
       "[1] \"character\""
      ]
     },
     "metadata": {},
     "output_type": "display_data"
    }
   ],
   "source": [
    "class(x)"
   ]
  },
  {
   "cell_type": "code",
   "execution_count": 51,
   "id": "55021250",
   "metadata": {},
   "outputs": [
    {
     "data": {
      "text/html": [
       "'character'"
      ],
      "text/latex": [
       "'character'"
      ],
      "text/markdown": [
       "'character'"
      ],
      "text/plain": [
       "[1] \"character\""
      ]
     },
     "metadata": {},
     "output_type": "display_data"
    }
   ],
   "source": [
    "typeof(x)"
   ]
  },
  {
   "cell_type": "code",
   "execution_count": null,
   "id": "6fbbc510",
   "metadata": {},
   "outputs": [],
   "source": []
  },
  {
   "cell_type": "code",
   "execution_count": null,
   "id": "d5c3335f",
   "metadata": {},
   "outputs": [],
   "source": []
  },
  {
   "cell_type": "code",
   "execution_count": null,
   "id": "9e7df1e5",
   "metadata": {},
   "outputs": [],
   "source": []
  },
  {
   "cell_type": "code",
   "execution_count": null,
   "id": "3ee30ed1",
   "metadata": {},
   "outputs": [],
   "source": []
  },
  {
   "cell_type": "markdown",
   "id": "ff5adba0",
   "metadata": {},
   "source": [
    "## Operators In R\n",
    "    a.. Arithmetic Operators\n",
    "    b.. Comparison Operators \n",
    "    c.. Logical operators \n",
    "    d.. Concatenation Operator : c()\n",
    "    e.. membership operator"
   ]
  },
  {
   "cell_type": "markdown",
   "id": "005ede86",
   "metadata": {},
   "source": [
    "### a.. Arithmetic Operators\n",
    "         Used for basic arithmetic operations."
   ]
  },
  {
   "cell_type": "code",
   "execution_count": 71,
   "id": "6196274c",
   "metadata": {},
   "outputs": [
    {
     "data": {
      "text/html": [
       "8"
      ],
      "text/latex": [
       "8"
      ],
      "text/markdown": [
       "8"
      ],
      "text/plain": [
       "[1] 8"
      ]
     },
     "metadata": {},
     "output_type": "display_data"
    },
    {
     "data": {
      "text/html": [
       "2"
      ],
      "text/latex": [
       "2"
      ],
      "text/markdown": [
       "2"
      ],
      "text/plain": [
       "[1] 2"
      ]
     },
     "metadata": {},
     "output_type": "display_data"
    },
    {
     "data": {
      "text/html": [
       "15"
      ],
      "text/latex": [
       "15"
      ],
      "text/markdown": [
       "15"
      ],
      "text/plain": [
       "[1] 15"
      ]
     },
     "metadata": {},
     "output_type": "display_data"
    },
    {
     "data": {
      "text/html": [
       "1.66666666666667"
      ],
      "text/latex": [
       "1.66666666666667"
      ],
      "text/markdown": [
       "1.66666666666667"
      ],
      "text/plain": [
       "[1] 1.666667"
      ]
     },
     "metadata": {},
     "output_type": "display_data"
    },
    {
     "data": {
      "text/html": [
       "3"
      ],
      "text/latex": [
       "3"
      ],
      "text/markdown": [
       "3"
      ],
      "text/plain": [
       "[1] 3"
      ]
     },
     "metadata": {},
     "output_type": "display_data"
    },
    {
     "data": {
      "text/html": [
       "1"
      ],
      "text/latex": [
       "1"
      ],
      "text/markdown": [
       "1"
      ],
      "text/plain": [
       "[1] 1"
      ]
     },
     "metadata": {},
     "output_type": "display_data"
    }
   ],
   "source": [
    "# Addition\n",
    "5 + 3  \n",
    "\n",
    "# Subtraction\n",
    "5 - 3  \n",
    "\n",
    "# Multiplication\n",
    "5 * 3  \n",
    "\n",
    "# Division\n",
    "5 / 3  \n",
    "\n",
    "\n",
    "7 %/% 2 # Integer division (returns quotient) : Integer Division Operator\n",
    "\n",
    "7 %% 2 # Remainder after division (returns remainder ) : Modulus Operator "
   ]
  },
  {
   "cell_type": "code",
   "execution_count": null,
   "id": "c7e804fe",
   "metadata": {},
   "outputs": [],
   "source": []
  },
  {
   "cell_type": "code",
   "execution_count": null,
   "id": "40546a13",
   "metadata": {},
   "outputs": [],
   "source": []
  },
  {
   "cell_type": "markdown",
   "id": "87f4a7ee",
   "metadata": {},
   "source": [
    "### b.. Relational Operators (Comparison Operators ) :\n",
    "         Used to compare values and return logical values (TRUE or FALSE)."
   ]
  },
  {
   "cell_type": "code",
   "execution_count": 57,
   "id": "c9d72bc9",
   "metadata": {},
   "outputs": [
    {
     "data": {
      "text/html": [
       "FALSE"
      ],
      "text/latex": [
       "FALSE"
      ],
      "text/markdown": [
       "FALSE"
      ],
      "text/plain": [
       "[1] FALSE"
      ]
     },
     "metadata": {},
     "output_type": "display_data"
    },
    {
     "data": {
      "text/html": [
       "TRUE"
      ],
      "text/latex": [
       "TRUE"
      ],
      "text/markdown": [
       "TRUE"
      ],
      "text/plain": [
       "[1] TRUE"
      ]
     },
     "metadata": {},
     "output_type": "display_data"
    },
    {
     "data": {
      "text/html": [
       "TRUE"
      ],
      "text/latex": [
       "TRUE"
      ],
      "text/markdown": [
       "TRUE"
      ],
      "text/plain": [
       "[1] TRUE"
      ]
     },
     "metadata": {},
     "output_type": "display_data"
    },
    {
     "data": {
      "text/html": [
       "FALSE"
      ],
      "text/latex": [
       "FALSE"
      ],
      "text/markdown": [
       "FALSE"
      ],
      "text/plain": [
       "[1] FALSE"
      ]
     },
     "metadata": {},
     "output_type": "display_data"
    }
   ],
   "source": [
    "# Equal to\n",
    "5 == 3  # Result: FALSE\n",
    "\n",
    "# Not equal to\n",
    "5 != 3  # Result: TRUE\n",
    "\n",
    "# Greater than\n",
    "5 > 3   # Result: TRUE\n",
    "\n",
    "# Less than or equal to\n",
    "5 <= 3  # Result: FALSE\n"
   ]
  },
  {
   "cell_type": "code",
   "execution_count": null,
   "id": "d59f569c",
   "metadata": {},
   "outputs": [],
   "source": []
  },
  {
   "cell_type": "code",
   "execution_count": null,
   "id": "e25b6076",
   "metadata": {},
   "outputs": [],
   "source": []
  },
  {
   "cell_type": "markdown",
   "id": "e74f4048",
   "metadata": {},
   "source": [
    "### c.. Logical Operators:\n",
    "         Used to perform logical operations."
   ]
  },
  {
   "cell_type": "code",
   "execution_count": 61,
   "id": "68c81249",
   "metadata": {},
   "outputs": [],
   "source": [
    "a = TRUE\n",
    "b = FALSE\n",
    "\n",
    "## TRUE & FALSE are reserved keywords in R : ?reserved"
   ]
  },
  {
   "cell_type": "code",
   "execution_count": 62,
   "id": "33e18f00",
   "metadata": {},
   "outputs": [
    {
     "data": {
      "text/html": [
       "FALSE"
      ],
      "text/latex": [
       "FALSE"
      ],
      "text/markdown": [
       "FALSE"
      ],
      "text/plain": [
       "[1] FALSE"
      ]
     },
     "metadata": {},
     "output_type": "display_data"
    },
    {
     "data": {
      "text/html": [
       "TRUE"
      ],
      "text/latex": [
       "TRUE"
      ],
      "text/markdown": [
       "TRUE"
      ],
      "text/plain": [
       "[1] TRUE"
      ]
     },
     "metadata": {},
     "output_type": "display_data"
    },
    {
     "data": {
      "text/html": [
       "FALSE"
      ],
      "text/latex": [
       "FALSE"
      ],
      "text/markdown": [
       "FALSE"
      ],
      "text/plain": [
       "[1] FALSE"
      ]
     },
     "metadata": {},
     "output_type": "display_data"
    }
   ],
   "source": [
    "# AND\n",
    "a & b  # Result: FALSE\n",
    "\n",
    "# OR\n",
    "a | b  # Result: TRUE\n",
    "\n",
    "# NOT\n",
    "!a         # Result: FALSE\n"
   ]
  },
  {
   "cell_type": "code",
   "execution_count": 64,
   "id": "7541b4f9",
   "metadata": {},
   "outputs": [],
   "source": []
  },
  {
   "cell_type": "code",
   "execution_count": null,
   "id": "917770b2",
   "metadata": {},
   "outputs": [],
   "source": []
  },
  {
   "cell_type": "markdown",
   "id": "1ac42caf",
   "metadata": {},
   "source": [
    "### d.. Concatenation Operator : c() \n",
    "\n",
    "        This operator is used to concatenate or combine elements into a vector.\n",
    "        Example: names <- c(\"Alice\", \"Bob\", \"Charlie\") means \"create a vector of names with Alice, Bob, and Charlie.\""
   ]
  },
  {
   "cell_type": "code",
   "execution_count": null,
   "id": "9d91d903",
   "metadata": {},
   "outputs": [],
   "source": []
  },
  {
   "cell_type": "code",
   "execution_count": null,
   "id": "bfd37e99",
   "metadata": {},
   "outputs": [],
   "source": []
  },
  {
   "cell_type": "markdown",
   "id": "c4a1de36",
   "metadata": {},
   "source": [
    "### e.. Membership Operator (%in%):\n",
    "\n",
    "         The %in% operator checks if an element belongs to a vector, list or other objects."
   ]
  },
  {
   "cell_type": "code",
   "execution_count": 72,
   "id": "1af7f453",
   "metadata": {},
   "outputs": [
    {
     "data": {
      "text/html": [
       "<style>\n",
       ".list-inline {list-style: none; margin:0; padding: 0}\n",
       ".list-inline>li {display: inline-block}\n",
       ".list-inline>li:not(:last-child)::after {content: \"\\00b7\"; padding: 0 .5ex}\n",
       "</style>\n",
       "<ol class=list-inline><li>'red'</li><li>'green'</li><li>'blue'</li></ol>\n"
      ],
      "text/latex": [
       "\\begin{enumerate*}\n",
       "\\item 'red'\n",
       "\\item 'green'\n",
       "\\item 'blue'\n",
       "\\end{enumerate*}\n"
      ],
      "text/markdown": [
       "1. 'red'\n",
       "2. 'green'\n",
       "3. 'blue'\n",
       "\n",
       "\n"
      ],
      "text/plain": [
       "[1] \"red\"   \"green\" \"blue\" "
      ]
     },
     "metadata": {},
     "output_type": "display_data"
    }
   ],
   "source": [
    "colors = c(\"red\", \"green\", \"blue\")\n",
    "colors"
   ]
  },
  {
   "cell_type": "code",
   "execution_count": 73,
   "id": "2f492b6a",
   "metadata": {},
   "outputs": [
    {
     "data": {
      "text/html": [
       "TRUE"
      ],
      "text/latex": [
       "TRUE"
      ],
      "text/markdown": [
       "TRUE"
      ],
      "text/plain": [
       "[1] TRUE"
      ]
     },
     "metadata": {},
     "output_type": "display_data"
    },
    {
     "data": {
      "text/html": [
       "FALSE"
      ],
      "text/latex": [
       "FALSE"
      ],
      "text/markdown": [
       "FALSE"
      ],
      "text/plain": [
       "[1] FALSE"
      ]
     },
     "metadata": {},
     "output_type": "display_data"
    }
   ],
   "source": [
    "\"green\" %in% colors # Returns TRUE because \"green\" is in the vector\n",
    "\"yellow\" %in% colors # Returns FALSE because \"yellow\" is not in the vector\n"
   ]
  },
  {
   "cell_type": "code",
   "execution_count": null,
   "id": "a4ea00a7",
   "metadata": {},
   "outputs": [],
   "source": []
  },
  {
   "cell_type": "code",
   "execution_count": null,
   "id": "8d665d5a",
   "metadata": {},
   "outputs": [],
   "source": []
  },
  {
   "cell_type": "markdown",
   "id": "8b516f32",
   "metadata": {},
   "source": [
    "#### Note : in R , there is no identity operator like in Python we have (is , is not)\n",
    "            here we have identical() to do it , but it is slightly different !"
   ]
  },
  {
   "cell_type": "markdown",
   "id": "a8d134c9",
   "metadata": {},
   "source": [
    "    The identical function checks if two objects are exactly the same."
   ]
  },
  {
   "cell_type": "code",
   "execution_count": 74,
   "id": "9392d9df",
   "metadata": {},
   "outputs": [
    {
     "data": {
      "text/html": [
       "TRUE"
      ],
      "text/latex": [
       "TRUE"
      ],
      "text/markdown": [
       "TRUE"
      ],
      "text/plain": [
       "[1] TRUE"
      ]
     },
     "metadata": {},
     "output_type": "display_data"
    },
    {
     "data": {
      "text/html": [
       "FALSE"
      ],
      "text/latex": [
       "FALSE"
      ],
      "text/markdown": [
       "FALSE"
      ],
      "text/plain": [
       "[1] FALSE"
      ]
     },
     "metadata": {},
     "output_type": "display_data"
    }
   ],
   "source": [
    "identical(5, 5)   # Returns TRUE because the values are the same\n",
    "identical(5, \"5\") # Returns FALSE because the values are the same, but types differ\n"
   ]
  },
  {
   "cell_type": "code",
   "execution_count": 75,
   "id": "aaff96da",
   "metadata": {},
   "outputs": [],
   "source": [
    "l1 = c(1 , 2 , 3)\n",
    "l2 = c(1 , 2 , 3)"
   ]
  },
  {
   "cell_type": "code",
   "execution_count": 76,
   "id": "537c67a9",
   "metadata": {},
   "outputs": [
    {
     "data": {
      "text/html": [
       "TRUE"
      ],
      "text/latex": [
       "TRUE"
      ],
      "text/markdown": [
       "TRUE"
      ],
      "text/plain": [
       "[1] TRUE"
      ]
     },
     "metadata": {},
     "output_type": "display_data"
    }
   ],
   "source": [
    "identical(l1 , l2)"
   ]
  },
  {
   "cell_type": "code",
   "execution_count": null,
   "id": "9f0ee79e",
   "metadata": {},
   "outputs": [],
   "source": []
  },
  {
   "cell_type": "code",
   "execution_count": null,
   "id": "eaa524e7",
   "metadata": {},
   "outputs": [],
   "source": []
  },
  {
   "cell_type": "code",
   "execution_count": null,
   "id": "bb6e18a6",
   "metadata": {},
   "outputs": [],
   "source": []
  },
  {
   "cell_type": "code",
   "execution_count": null,
   "id": "55e09888",
   "metadata": {},
   "outputs": [],
   "source": []
  },
  {
   "cell_type": "markdown",
   "id": "4c780e9c",
   "metadata": {},
   "source": [
    "## Conditional Statements in R"
   ]
  },
  {
   "cell_type": "markdown",
   "id": "a11374bb",
   "metadata": {},
   "source": [
    "    R programming provides 4 different types of Flow-Control Statement ( Conditional Statement)\n",
    "\n",
    "        1 ) if statement\n",
    "        2 ) if-else statement\n",
    "        3 ) if-else_if-else\n",
    "        4 ) switch statement"
   ]
  },
  {
   "cell_type": "markdown",
   "id": "85427411",
   "metadata": {},
   "source": [
    "### 1 ) if statement"
   ]
  },
  {
   "cell_type": "markdown",
   "id": "22da273d",
   "metadata": {},
   "source": [
    "    if (expression) \n",
    "    {\n",
    "       #statement to execute if condition is true\n",
    "    }"
   ]
  },
  {
   "cell_type": "code",
   "execution_count": 80,
   "id": "32e13c3b",
   "metadata": {},
   "outputs": [
    {
     "name": "stdout",
     "output_type": "stream",
     "text": [
      "[1] \"Greater than or equals to 100\"\n"
     ]
    }
   ],
   "source": [
    "k = 101\n",
    "\n",
    "if(k >= 100)\n",
    "{\n",
    "  print(\"Greater than or equals to 100\")\n",
    "} "
   ]
  },
  {
   "cell_type": "code",
   "execution_count": null,
   "id": "11bcf495",
   "metadata": {},
   "outputs": [],
   "source": []
  },
  {
   "cell_type": "code",
   "execution_count": null,
   "id": "18489969",
   "metadata": {},
   "outputs": [],
   "source": []
  },
  {
   "cell_type": "markdown",
   "id": "34bab0e5",
   "metadata": {},
   "source": [
    "###  2 ) If-else (conditional-statements)\n",
    "    if (condition)\n",
    "    {\n",
    "        // Executes this block if\n",
    "        // condition is true\n",
    "    } else\n",
    "    {\n",
    "        // Executes this block if\n",
    "        // condition is false\n",
    "    }"
   ]
  },
  {
   "cell_type": "code",
   "execution_count": 78,
   "id": "ac375185",
   "metadata": {},
   "outputs": [
    {
     "name": "stdout",
     "output_type": "stream",
     "text": [
      "[1] \"Less than 100\"\n"
     ]
    }
   ],
   "source": [
    "k = 99\n",
    "\n",
    "if(k >= 100)\n",
    "{\n",
    "  print(\"Greater than or equals to 100\")\n",
    "} else \n",
    "{\n",
    "  print(\"Less than 100\")\n",
    "} "
   ]
  },
  {
   "cell_type": "code",
   "execution_count": null,
   "id": "4e26c0f5",
   "metadata": {},
   "outputs": [],
   "source": []
  },
  {
   "cell_type": "markdown",
   "id": "eb1e5179",
   "metadata": {},
   "source": [
    "### 3) if - else-if -      else"
   ]
  },
  {
   "cell_type": "code",
   "execution_count": 79,
   "id": "cfd56eec",
   "metadata": {},
   "outputs": [
    {
     "name": "stdout",
     "output_type": "stream",
     "text": [
      "[1] \"Equal to 100\"\n"
     ]
    }
   ],
   "source": [
    "k = 100\n",
    "\n",
    "if(k > 100)\n",
    "{\n",
    "  print(\"Greater than 100\")\n",
    "} else if (k < 100)\n",
    "{\n",
    "  print(\"Less than 100\")\n",
    "} else \n",
    "{\n",
    "  print (\"Equal to 100\")\n",
    "}"
   ]
  },
  {
   "cell_type": "code",
   "execution_count": null,
   "id": "773a86e2",
   "metadata": {},
   "outputs": [],
   "source": []
  },
  {
   "cell_type": "code",
   "execution_count": null,
   "id": "57e45218",
   "metadata": {},
   "outputs": [],
   "source": []
  },
  {
   "cell_type": "code",
   "execution_count": null,
   "id": "ee483f12",
   "metadata": {},
   "outputs": [],
   "source": []
  },
  {
   "cell_type": "code",
   "execution_count": null,
   "id": "5755ecb2",
   "metadata": {},
   "outputs": [],
   "source": []
  },
  {
   "cell_type": "markdown",
   "id": "c1e3b721",
   "metadata": {},
   "source": [
    "## Loops in R (For loop , while , repeat ) & Indentation :\n",
    "    There are three types of loop in R programming: \n",
    "        a ) For Loop\n",
    "        b ) While Loop\n",
    "        c ) Repeat Loop"
   ]
  },
  {
   "cell_type": "markdown",
   "id": "6f4dd30c",
   "metadata": {},
   "source": [
    "### a.. For Loop\n",
    "    for (value in sequence)\n",
    "    {\n",
    "      statement\n",
    "    }"
   ]
  },
  {
   "cell_type": "markdown",
   "id": "1f7ab548",
   "metadata": {},
   "source": [
    "### Indentation in R\n",
    "    Indentation in R is not required for the code to execute correctly. \n",
    "    But, proper indentation improves code readability, making it easier to understand the \n",
    "    structure and flow of your program."
   ]
  },
  {
   "cell_type": "code",
   "execution_count": null,
   "id": "1cfdb384",
   "metadata": {},
   "outputs": [],
   "source": [
    "\n",
    "## for is a reserved keywords in R (help(reserved))\n",
    "## ie as soon as I mention for , my R will get to know about what this for is all about :\n",
    "## Dont worry , we will discuss what for loop is in great detail\n",
    "\n",
    "## so let me explain things in simple way : \n",
    "\n",
    "\n",
    "\n",
    "for (i in 1:5)\n",
    "{\n",
    "    # displaying each i\n",
    "    print(i)\n",
    "\n",
    "}\n",
    "\n",
    "\n",
    "## The most common convention is to use : four spaces or Tab key for indentation\n",
    "## Keep the same level of indentation for all codes \n",
    "\n",
    "\n",
    "\n"
   ]
  },
  {
   "cell_type": "code",
   "execution_count": null,
   "id": "8a6a887a",
   "metadata": {},
   "outputs": [],
   "source": [
    "\n",
    "\n",
    "\"\n",
    "\n",
    "\n",
    "{} (Curly Braces): \n",
    "The curly braces enclose the body of the loop. The code inside the curly braces will be executed for each iteration of the loop.\n",
    "\n",
    "\n",
    "print(i): \n",
    "Within the loop, the print(i) statement is used to display the current value of i during each iteration. \n",
    "\n",
    "    print(i) : ie print(i) belongs to for loop , ie as soon as value of i gets increased , my print(i) will print that\n",
    "\n",
    "\""
   ]
  },
  {
   "cell_type": "code",
   "execution_count": 81,
   "id": "4bbedb19",
   "metadata": {},
   "outputs": [
    {
     "name": "stdout",
     "output_type": "stream",
     "text": [
      "[1] 1\n",
      "[1] 2\n",
      "[1] 3\n",
      "[1] 4\n",
      "[1] 5\n"
     ]
    }
   ],
   "source": [
    "for (i in 1:5)\n",
    "{\n",
    "    # displaying each i\n",
    "    print(i)\n",
    "\n",
    "}"
   ]
  },
  {
   "cell_type": "code",
   "execution_count": null,
   "id": "2f4678aa",
   "metadata": {},
   "outputs": [],
   "source": []
  },
  {
   "cell_type": "code",
   "execution_count": null,
   "id": "768f999e",
   "metadata": {},
   "outputs": [],
   "source": []
  },
  {
   "cell_type": "markdown",
   "id": "15940c03",
   "metadata": {},
   "source": [
    "### b.. While Loop\n",
    "    while ( condition ) \n",
    "    {\n",
    "      statement\n",
    "    }"
   ]
  },
  {
   "cell_type": "code",
   "execution_count": 82,
   "id": "0ddaf9fa",
   "metadata": {},
   "outputs": [
    {
     "name": "stdout",
     "output_type": "stream",
     "text": [
      "[1] 1\n",
      "[1] 2\n",
      "[1] 3\n",
      "[1] 4\n",
      "[1] 5\n"
     ]
    }
   ],
   "source": [
    "i = 1\n",
    " \n",
    "# using while loop\n",
    "while (i <= 5)\n",
    "{\n",
    "    # statements\n",
    "    print(i)\n",
    "    i = i + 1\n",
    "}"
   ]
  },
  {
   "cell_type": "code",
   "execution_count": null,
   "id": "37023b93",
   "metadata": {},
   "outputs": [],
   "source": []
  },
  {
   "cell_type": "code",
   "execution_count": null,
   "id": "39128412",
   "metadata": {},
   "outputs": [],
   "source": []
  },
  {
   "cell_type": "code",
   "execution_count": null,
   "id": "deb291df",
   "metadata": {},
   "outputs": [],
   "source": []
  },
  {
   "cell_type": "code",
   "execution_count": null,
   "id": "d7dcb08d",
   "metadata": {},
   "outputs": [],
   "source": []
  },
  {
   "cell_type": "markdown",
   "id": "d37b85bd",
   "metadata": {},
   "source": [
    "## what is function & how to define custom function ?\n",
    "    In R, a function is a reusable block of code that performs a specific task. \n",
    "    Functions in R are created using the function keyword. \n",
    "    They take input arguments, perform some operations, and return a result."
   ]
  },
  {
   "cell_type": "code",
   "execution_count": 2,
   "id": "e750c5f2",
   "metadata": {},
   "outputs": [],
   "source": [
    "help(mean)"
   ]
  },
  {
   "cell_type": "code",
   "execution_count": 1,
   "id": "0bb7464a",
   "metadata": {},
   "outputs": [
    {
     "data": {
      "text/html": [
       "<pre class=language-r><code>function (x, ...) \n",
       "NULL</code></pre>"
      ],
      "text/latex": [
       "\\begin{minted}{r}\n",
       "function (x, ...) \n",
       "NULL\n",
       "\\end{minted}"
      ],
      "text/markdown": [
       "```r\n",
       "function (x, ...) \n",
       "NULL\n",
       "```"
      ],
      "text/plain": [
       "function (x, ...) \n",
       "NULL"
      ]
     },
     "metadata": {},
     "output_type": "display_data"
    }
   ],
   "source": [
    "args(mean)"
   ]
  },
  {
   "cell_type": "code",
   "execution_count": 3,
   "id": "bd23011b",
   "metadata": {},
   "outputs": [
    {
     "data": {
      "text/html": [
       "2.66666666666667"
      ],
      "text/latex": [
       "2.66666666666667"
      ],
      "text/markdown": [
       "2.66666666666667"
      ],
      "text/plain": [
       "[1] 2.666667"
      ]
     },
     "metadata": {},
     "output_type": "display_data"
    }
   ],
   "source": [
    "mean(c(1 , 3 , 4 )) ## here mean is in-built or a defined function !"
   ]
  },
  {
   "cell_type": "code",
   "execution_count": null,
   "id": "f5f66186",
   "metadata": {},
   "outputs": [],
   "source": []
  },
  {
   "cell_type": "code",
   "execution_count": null,
   "id": "84c7279a",
   "metadata": {},
   "outputs": [],
   "source": [
    "### when-ever we have to do some task again & again  , it's always to good to define a function..."
   ]
  },
  {
   "cell_type": "code",
   "execution_count": null,
   "id": "710fd92e",
   "metadata": {},
   "outputs": [],
   "source": [
    "\"\n",
    "\n",
    "In R, functions are defined using the function keyword. \n",
    "The function body is enclosed in curly braces {}, \n",
    "and the return statement is used to specify the value that the function should return.\n",
    "\n",
    "\""
   ]
  },
  {
   "cell_type": "markdown",
   "id": "2b9c53e0",
   "metadata": {},
   "source": [
    "    function_name <- function(arg_1, arg_2, ...) \n",
    "    {\n",
    "       Function body \n",
    "    }"
   ]
  },
  {
   "cell_type": "code",
   "execution_count": 88,
   "id": "362de5d4",
   "metadata": {},
   "outputs": [],
   "source": [
    "return_summation = function(x , y)  ## define a function with the name return_summation\n",
    "{\n",
    "    return (x + y)  ## or only x+y\n",
    "}"
   ]
  },
  {
   "cell_type": "code",
   "execution_count": 89,
   "id": "45fe9147",
   "metadata": {},
   "outputs": [
    {
     "data": {
      "text/html": [
       "10"
      ],
      "text/latex": [
       "10"
      ],
      "text/markdown": [
       "10"
      ],
      "text/plain": [
       "[1] 10"
      ]
     },
     "metadata": {},
     "output_type": "display_data"
    }
   ],
   "source": [
    "return_summation(4 , 6)"
   ]
  },
  {
   "cell_type": "code",
   "execution_count": null,
   "id": "ceb3ff34",
   "metadata": {},
   "outputs": [],
   "source": []
  },
  {
   "cell_type": "code",
   "execution_count": null,
   "id": "fdd4db71",
   "metadata": {},
   "outputs": [],
   "source": []
  },
  {
   "cell_type": "code",
   "execution_count": null,
   "id": "b34e4729",
   "metadata": {},
   "outputs": [],
   "source": []
  },
  {
   "cell_type": "code",
   "execution_count": null,
   "id": "55bbdf79",
   "metadata": {},
   "outputs": [],
   "source": []
  },
  {
   "cell_type": "code",
   "execution_count": null,
   "id": "88d551ce",
   "metadata": {},
   "outputs": [],
   "source": []
  },
  {
   "cell_type": "markdown",
   "id": "13c2fbf9",
   "metadata": {},
   "source": [
    "# Module  3.. Basic Data Structures in R : 36 mins\n",
    "                  Vector in R : 7 mins\n",
    "                  Basic operations on vector : 7 mins\n",
    "                  \n",
    "                  List in R : 7 mins \n",
    "                  Basic operations on list : 7 mins\n",
    "                  \n",
    "                  DataFrame in R : 8 mins "
   ]
  },
  {
   "cell_type": "code",
   "execution_count": null,
   "id": "9fddfddd",
   "metadata": {},
   "outputs": [],
   "source": []
  },
  {
   "cell_type": "code",
   "execution_count": null,
   "id": "d839c077",
   "metadata": {},
   "outputs": [],
   "source": [
    "\"\n",
    "\n",
    "Data structures : Its all about efficient way of storing data..\n",
    "\n",
    "\""
   ]
  },
  {
   "cell_type": "code",
   "execution_count": null,
   "id": "89dbb61e",
   "metadata": {},
   "outputs": [],
   "source": []
  },
  {
   "cell_type": "markdown",
   "id": "9a6ba8d9",
   "metadata": {},
   "source": [
    "## Vector & basic operations on vector :\n",
    "    Defining vector\n",
    "    \n",
    "    Basic operations on vector : \n",
    "        a) indexing / slicing\n",
    "        b) append or insert values in vector "
   ]
  },
  {
   "cell_type": "markdown",
   "id": "1279a37e",
   "metadata": {},
   "source": [
    "    list & vector are 2 different classes in R..\n",
    "    \n",
    "    List in Python -~ vector in R\n",
    "    closest thing to python dict is simply R list"
   ]
  },
  {
   "cell_type": "markdown",
   "id": "70d247c2",
   "metadata": {},
   "source": [
    "        \n",
    "    Imagine I want to compute mean of some set of numbers : (3 , 5 , 8 , 6 , 8)\n",
    "    First we have store these numbers so that we can compute mean !\n",
    "    As it is numerical data & since it is a 1-D data , ie we can use vector data structure to store these numbers ...\n",
    "        \n",
    "        \n",
    "        \n",
    "        \n",
    "        Vectors : 1D data structure\n",
    "            (collection of same data-type)  \n",
    "            All the values in a vector must have the same type (numeric, character, or logical)..\n",
    "            A vector is an object that contains a set of same type of values called its elements..\n",
    "            \n",
    "            X = c(1, 3, 5, 7, 8)\n",
    "            e.g , c = used for concatenation / combine / concatenate / convert / coerce function..\n",
    "https://www.computerworld.com/article/2497319/business-intelligence-beginner-s-guide-to-r-syntax-quirks-you-ll-want-to-know.html\n",
    "             \n",
    "             To put multiple values into a single variable, you use the c() function, such as:\n",
    "             X = c(1, 3, 5, 7, 8)\n",
    "             \n",
    "             In R , we could have :\n",
    "\n",
    "            \"numeric vector\" = c(1 , 3 , 4 , 5)\n",
    "            \"character vector\" = c(\"shan\" , \"singh\" , \"tanu\")\n",
    "            \"logical vector\" = c(TRUE , FALSE , TRUE )"
   ]
  },
  {
   "cell_type": "code",
   "execution_count": null,
   "id": "2d274d04",
   "metadata": {},
   "outputs": [],
   "source": []
  },
  {
   "cell_type": "code",
   "execution_count": null,
   "id": "adecb62c",
   "metadata": {},
   "outputs": [],
   "source": []
  },
  {
   "cell_type": "code",
   "execution_count": 1,
   "id": "18159d40",
   "metadata": {},
   "outputs": [],
   "source": [
    "## One more important point about the c() function: \n",
    "## It assumes that everything in your vector is of the same data type — that is all numbers or all characters. \n",
    "## If you create a vector such as:\n",
    "\n",
    "my_vector = c(1, 4, \"hello\", TRUE)"
   ]
  },
  {
   "cell_type": "code",
   "execution_count": 2,
   "id": "f08d6eef",
   "metadata": {},
   "outputs": [
    {
     "data": {
      "text/html": [
       "<style>\n",
       ".list-inline {list-style: none; margin:0; padding: 0}\n",
       ".list-inline>li {display: inline-block}\n",
       ".list-inline>li:not(:last-child)::after {content: \"\\00b7\"; padding: 0 .5ex}\n",
       "</style>\n",
       "<ol class=list-inline><li>'1'</li><li>'4'</li><li>'hello'</li><li>'TRUE'</li></ol>\n"
      ],
      "text/latex": [
       "\\begin{enumerate*}\n",
       "\\item '1'\n",
       "\\item '4'\n",
       "\\item 'hello'\n",
       "\\item 'TRUE'\n",
       "\\end{enumerate*}\n"
      ],
      "text/markdown": [
       "1. '1'\n",
       "2. '4'\n",
       "3. 'hello'\n",
       "4. 'TRUE'\n",
       "\n",
       "\n"
      ],
      "text/plain": [
       "[1] \"1\"     \"4\"     \"hello\" \"TRUE\" "
      ]
     },
     "metadata": {},
     "output_type": "display_data"
    }
   ],
   "source": [
    "my_vector"
   ]
  },
  {
   "cell_type": "code",
   "execution_count": null,
   "id": "1811da1e",
   "metadata": {},
   "outputs": [],
   "source": [
    "## You will not have a vector with two integer objects, one character object and one logical object.\n",
    "## Instead, What c() will do : it will convert all into same object type, in this case all character objects.\n",
    "## ie here , c works as convert or coerce.."
   ]
  },
  {
   "cell_type": "code",
   "execution_count": null,
   "id": "ddac7938",
   "metadata": {},
   "outputs": [],
   "source": []
  },
  {
   "cell_type": "code",
   "execution_count": null,
   "id": "4cf90dbe",
   "metadata": {},
   "outputs": [],
   "source": []
  },
  {
   "cell_type": "markdown",
   "id": "53ae89f1",
   "metadata": {},
   "source": [
    "### Basic operations on vector :\n",
    "    a) indexing / slicing\n",
    "    b) append or insert values in vector "
   ]
  },
  {
   "cell_type": "code",
   "execution_count": null,
   "id": "197f4100",
   "metadata": {},
   "outputs": [],
   "source": [
    "### Vector indexes in R start at 1, not 0"
   ]
  },
  {
   "cell_type": "code",
   "execution_count": 3,
   "id": "dc2f5ff3",
   "metadata": {},
   "outputs": [
    {
     "data": {
      "text/html": [
       "<style>\n",
       ".list-inline {list-style: none; margin:0; padding: 0}\n",
       ".list-inline>li {display: inline-block}\n",
       ".list-inline>li:not(:last-child)::after {content: \"\\00b7\"; padding: 0 .5ex}\n",
       "</style>\n",
       "<ol class=list-inline><li>'1'</li><li>'4'</li><li>'hello'</li><li>'TRUE'</li></ol>\n"
      ],
      "text/latex": [
       "\\begin{enumerate*}\n",
       "\\item '1'\n",
       "\\item '4'\n",
       "\\item 'hello'\n",
       "\\item 'TRUE'\n",
       "\\end{enumerate*}\n"
      ],
      "text/markdown": [
       "1. '1'\n",
       "2. '4'\n",
       "3. 'hello'\n",
       "4. 'TRUE'\n",
       "\n",
       "\n"
      ],
      "text/plain": [
       "[1] \"1\"     \"4\"     \"hello\" \"TRUE\" "
      ]
     },
     "metadata": {},
     "output_type": "display_data"
    }
   ],
   "source": [
    "my_vector"
   ]
  },
  {
   "cell_type": "code",
   "execution_count": 4,
   "id": "845f13f0",
   "metadata": {},
   "outputs": [
    {
     "data": {
      "text/html": [
       "'1'"
      ],
      "text/latex": [
       "'1'"
      ],
      "text/markdown": [
       "'1'"
      ],
      "text/plain": [
       "[1] \"1\""
      ]
     },
     "metadata": {},
     "output_type": "display_data"
    }
   ],
   "source": [
    "my_vector[1]"
   ]
  },
  {
   "cell_type": "code",
   "execution_count": 5,
   "id": "e465fe94",
   "metadata": {},
   "outputs": [
    {
     "data": {
      "text/html": [
       "<style>\n",
       ".list-inline {list-style: none; margin:0; padding: 0}\n",
       ".list-inline>li {display: inline-block}\n",
       ".list-inline>li:not(:last-child)::after {content: \"\\00b7\"; padding: 0 .5ex}\n",
       "</style>\n",
       "<ol class=list-inline><li>'1'</li><li>'4'</li><li>'hello'</li></ol>\n"
      ],
      "text/latex": [
       "\\begin{enumerate*}\n",
       "\\item '1'\n",
       "\\item '4'\n",
       "\\item 'hello'\n",
       "\\end{enumerate*}\n"
      ],
      "text/markdown": [
       "1. '1'\n",
       "2. '4'\n",
       "3. 'hello'\n",
       "\n",
       "\n"
      ],
      "text/plain": [
       "[1] \"1\"     \"4\"     \"hello\""
      ]
     },
     "metadata": {},
     "output_type": "display_data"
    }
   ],
   "source": [
    "my_vector[1:3]"
   ]
  },
  {
   "cell_type": "code",
   "execution_count": null,
   "id": "be61b9a9",
   "metadata": {},
   "outputs": [],
   "source": []
  },
  {
   "cell_type": "code",
   "execution_count": null,
   "id": "5efe47ac",
   "metadata": {},
   "outputs": [],
   "source": []
  },
  {
   "cell_type": "code",
   "execution_count": null,
   "id": "c9ba0145",
   "metadata": {},
   "outputs": [],
   "source": [
    "### insert/append values in vector : "
   ]
  },
  {
   "cell_type": "code",
   "execution_count": 28,
   "id": "4ab8c67a",
   "metadata": {},
   "outputs": [],
   "source": [
    "my_vector = append(my_vector, value = 99)"
   ]
  },
  {
   "cell_type": "code",
   "execution_count": 29,
   "id": "a515a7f3",
   "metadata": {},
   "outputs": [
    {
     "data": {
      "text/html": [
       "<style>\n",
       ".list-inline {list-style: none; margin:0; padding: 0}\n",
       ".list-inline>li {display: inline-block}\n",
       ".list-inline>li:not(:last-child)::after {content: \"\\00b7\"; padding: 0 .5ex}\n",
       "</style>\n",
       "<ol class=list-inline><li>'1'</li><li>'4'</li><li>'hello'</li><li>'TRUE'</li><li>'99'</li></ol>\n"
      ],
      "text/latex": [
       "\\begin{enumerate*}\n",
       "\\item '1'\n",
       "\\item '4'\n",
       "\\item 'hello'\n",
       "\\item 'TRUE'\n",
       "\\item '99'\n",
       "\\end{enumerate*}\n"
      ],
      "text/markdown": [
       "1. '1'\n",
       "2. '4'\n",
       "3. 'hello'\n",
       "4. 'TRUE'\n",
       "5. '99'\n",
       "\n",
       "\n"
      ],
      "text/plain": [
       "[1] \"1\"     \"4\"     \"hello\" \"TRUE\"  \"99\"   "
      ]
     },
     "metadata": {},
     "output_type": "display_data"
    }
   ],
   "source": [
    "my_vector"
   ]
  },
  {
   "cell_type": "code",
   "execution_count": null,
   "id": "1879c7f1",
   "metadata": {},
   "outputs": [],
   "source": []
  },
  {
   "cell_type": "code",
   "execution_count": null,
   "id": "1602fd0f",
   "metadata": {},
   "outputs": [],
   "source": []
  },
  {
   "cell_type": "code",
   "execution_count": null,
   "id": "dd289364",
   "metadata": {},
   "outputs": [],
   "source": []
  },
  {
   "cell_type": "markdown",
   "id": "e5a03eed",
   "metadata": {},
   "source": [
    "## List & basic operations on list : \n",
    "    Defining List\n",
    "    Naming list elements\n",
    "    \n",
    "    Basic operations on list\n",
    "        a) accessing elements/keys of a list \n",
    "        b) Insert values in list"
   ]
  },
  {
   "cell_type": "markdown",
   "id": "f117438d",
   "metadata": {},
   "source": [
    "### Defining List : \n",
    "     "
   ]
  },
  {
   "cell_type": "code",
   "execution_count": 6,
   "id": "b65b55e8",
   "metadata": {},
   "outputs": [],
   "source": [
    "## To create a collection with multiple object types, you need an R list, not a vector\n",
    "## You create a list with the list() function not c(), such as:\n",
    "\n",
    "My_list = list(1 , 4 , \"hello\" , TRUE)"
   ]
  },
  {
   "cell_type": "code",
   "execution_count": 7,
   "id": "52741089",
   "metadata": {},
   "outputs": [
    {
     "data": {
      "text/html": [
       "<ol>\n",
       "\t<li>1</li>\n",
       "\t<li>4</li>\n",
       "\t<li>'hello'</li>\n",
       "\t<li>TRUE</li>\n",
       "</ol>\n"
      ],
      "text/latex": [
       "\\begin{enumerate}\n",
       "\\item 1\n",
       "\\item 4\n",
       "\\item 'hello'\n",
       "\\item TRUE\n",
       "\\end{enumerate}\n"
      ],
      "text/markdown": [
       "1. 1\n",
       "2. 4\n",
       "3. 'hello'\n",
       "4. TRUE\n",
       "\n",
       "\n"
      ],
      "text/plain": [
       "[[1]]\n",
       "[1] 1\n",
       "\n",
       "[[2]]\n",
       "[1] 4\n",
       "\n",
       "[[3]]\n",
       "[1] \"hello\"\n",
       "\n",
       "[[4]]\n",
       "[1] TRUE\n"
      ]
     },
     "metadata": {},
     "output_type": "display_data"
    }
   ],
   "source": [
    "My_list"
   ]
  },
  {
   "cell_type": "code",
   "execution_count": null,
   "id": "118ace2c",
   "metadata": {},
   "outputs": [],
   "source": [
    "### ie for key1 , we have value as 1\n",
    "### ie for key2 , we have value as 4\n",
    "\n",
    "### ie , List is a Collection of multiple key:value pairs"
   ]
  },
  {
   "cell_type": "code",
   "execution_count": null,
   "id": "341617dc",
   "metadata": {},
   "outputs": [],
   "source": []
  },
  {
   "cell_type": "code",
   "execution_count": null,
   "id": "ef7a046c",
   "metadata": {},
   "outputs": [],
   "source": []
  },
  {
   "cell_type": "code",
   "execution_count": null,
   "id": "08e0f104",
   "metadata": {},
   "outputs": [],
   "source": [
    "### Imagine Facebook wants to store multiple users Fb profile data , then Programmers have to use list data-structure to store it.."
   ]
  },
  {
   "cell_type": "code",
   "execution_count": null,
   "id": "f0b18dc7",
   "metadata": {},
   "outputs": [],
   "source": [
    "### Lists(collection of multiple objects[Integer , char , logical] or diff. data-type or collection of vectors)\n",
    "## Its a (1D data structure)"
   ]
  },
  {
   "cell_type": "code",
   "execution_count": 9,
   "id": "d9682473",
   "metadata": {},
   "outputs": [],
   "source": [
    "Pro_Id = c(1, 2, 3, 4)\n",
    "name = c(\"Shan\", \"Sandeep\", \"John\", \"Warner\")\n",
    "Interests = c(\"Teaching\" , \"dancing\" , \"Coding\" , \"Travelling\")\n",
    "\n",
    "fb_data = list(Pro_Id, name, Interests)\n",
    "\n",
    "\n",
    "### empList = list(c(1, 2, 3, 4) , c(\"Shan\", \"Sandeep\", \"John\", \"Warner\") , c(\"Teaching\" , \"dancing\" , \"Coding\" , \"Travelling\"))\n",
    "### empList <-list(c(1, 2, 3, 4) , c(\"Shan\", \"Sandeep\", \"John\", \"Warner\") , c(\"Teaching\" , \"dancing\" , \"Coding\" , \"Travelling\"))"
   ]
  },
  {
   "cell_type": "code",
   "execution_count": 10,
   "id": "2db662cb",
   "metadata": {},
   "outputs": [
    {
     "data": {
      "text/html": [
       "<ol>\n",
       "\t<li><style>\n",
       ".list-inline {list-style: none; margin:0; padding: 0}\n",
       ".list-inline>li {display: inline-block}\n",
       ".list-inline>li:not(:last-child)::after {content: \"\\00b7\"; padding: 0 .5ex}\n",
       "</style>\n",
       "<ol class=list-inline><li>1</li><li>2</li><li>3</li><li>4</li></ol>\n",
       "</li>\n",
       "\t<li><style>\n",
       ".list-inline {list-style: none; margin:0; padding: 0}\n",
       ".list-inline>li {display: inline-block}\n",
       ".list-inline>li:not(:last-child)::after {content: \"\\00b7\"; padding: 0 .5ex}\n",
       "</style>\n",
       "<ol class=list-inline><li>'Shan'</li><li>'Sandeep'</li><li>'John'</li><li>'Warner'</li></ol>\n",
       "</li>\n",
       "\t<li><style>\n",
       ".list-inline {list-style: none; margin:0; padding: 0}\n",
       ".list-inline>li {display: inline-block}\n",
       ".list-inline>li:not(:last-child)::after {content: \"\\00b7\"; padding: 0 .5ex}\n",
       "</style>\n",
       "<ol class=list-inline><li>'Teaching'</li><li>'dancing'</li><li>'Coding'</li><li>'Travelling'</li></ol>\n",
       "</li>\n",
       "</ol>\n"
      ],
      "text/latex": [
       "\\begin{enumerate}\n",
       "\\item \\begin{enumerate*}\n",
       "\\item 1\n",
       "\\item 2\n",
       "\\item 3\n",
       "\\item 4\n",
       "\\end{enumerate*}\n",
       "\n",
       "\\item \\begin{enumerate*}\n",
       "\\item 'Shan'\n",
       "\\item 'Sandeep'\n",
       "\\item 'John'\n",
       "\\item 'Warner'\n",
       "\\end{enumerate*}\n",
       "\n",
       "\\item \\begin{enumerate*}\n",
       "\\item 'Teaching'\n",
       "\\item 'dancing'\n",
       "\\item 'Coding'\n",
       "\\item 'Travelling'\n",
       "\\end{enumerate*}\n",
       "\n",
       "\\end{enumerate}\n"
      ],
      "text/markdown": [
       "1. 1. 1\n",
       "2. 2\n",
       "3. 3\n",
       "4. 4\n",
       "\n",
       "\n",
       "\n",
       "2. 1. 'Shan'\n",
       "2. 'Sandeep'\n",
       "3. 'John'\n",
       "4. 'Warner'\n",
       "\n",
       "\n",
       "\n",
       "3. 1. 'Teaching'\n",
       "2. 'dancing'\n",
       "3. 'Coding'\n",
       "4. 'Travelling'\n",
       "\n",
       "\n",
       "\n",
       "\n",
       "\n"
      ],
      "text/plain": [
       "[[1]]\n",
       "[1] 1 2 3 4\n",
       "\n",
       "[[2]]\n",
       "[1] \"Shan\"    \"Sandeep\" \"John\"    \"Warner\" \n",
       "\n",
       "[[3]]\n",
       "[1] \"Teaching\"   \"dancing\"    \"Coding\"     \"Travelling\"\n"
      ]
     },
     "metadata": {},
     "output_type": "display_data"
    }
   ],
   "source": [
    "fb_data"
   ]
  },
  {
   "cell_type": "code",
   "execution_count": null,
   "id": "c948ee75",
   "metadata": {},
   "outputs": [],
   "source": []
  },
  {
   "cell_type": "code",
   "execution_count": null,
   "id": "bff43e7b",
   "metadata": {},
   "outputs": [],
   "source": []
  },
  {
   "cell_type": "markdown",
   "id": "9ecab7f7",
   "metadata": {},
   "source": [
    "### Naming list elements : \n",
    "     ie assign features to list..\n",
    "     ie , list elements can be given names and they can be accessed using these names."
   ]
  },
  {
   "cell_type": "code",
   "execution_count": 11,
   "id": "21329085",
   "metadata": {},
   "outputs": [],
   "source": [
    "Pro_Id = c(1, 2, 3, 4)\n",
    "name = c(\"Shan\", \"Sandeep\", \"John\", \"Warner\")\n",
    "Interests = c(\"Teaching\" , \"dancing\" , \"Coding\" , \"Travelling\")\n",
    "\n",
    "fb_data2 = list(Profile_id = Pro_Id, Profile_name = name , Interests = Interests)\n",
    "\n",
    "### names(empList2) <- c(\"Profile_id\", \"Profile_name\", \"Interests\")"
   ]
  },
  {
   "cell_type": "code",
   "execution_count": 12,
   "id": "d4cbbc5d",
   "metadata": {},
   "outputs": [
    {
     "data": {
      "text/html": [
       "<dl>\n",
       "\t<dt>$Profile_id</dt>\n",
       "\t\t<dd><style>\n",
       ".list-inline {list-style: none; margin:0; padding: 0}\n",
       ".list-inline>li {display: inline-block}\n",
       ".list-inline>li:not(:last-child)::after {content: \"\\00b7\"; padding: 0 .5ex}\n",
       "</style>\n",
       "<ol class=list-inline><li>1</li><li>2</li><li>3</li><li>4</li></ol>\n",
       "</dd>\n",
       "\t<dt>$Profile_name</dt>\n",
       "\t\t<dd><style>\n",
       ".list-inline {list-style: none; margin:0; padding: 0}\n",
       ".list-inline>li {display: inline-block}\n",
       ".list-inline>li:not(:last-child)::after {content: \"\\00b7\"; padding: 0 .5ex}\n",
       "</style>\n",
       "<ol class=list-inline><li>'Shan'</li><li>'Sandeep'</li><li>'John'</li><li>'Warner'</li></ol>\n",
       "</dd>\n",
       "\t<dt>$Interests</dt>\n",
       "\t\t<dd><style>\n",
       ".list-inline {list-style: none; margin:0; padding: 0}\n",
       ".list-inline>li {display: inline-block}\n",
       ".list-inline>li:not(:last-child)::after {content: \"\\00b7\"; padding: 0 .5ex}\n",
       "</style>\n",
       "<ol class=list-inline><li>'Teaching'</li><li>'dancing'</li><li>'Coding'</li><li>'Travelling'</li></ol>\n",
       "</dd>\n",
       "</dl>\n"
      ],
      "text/latex": [
       "\\begin{description}\n",
       "\\item[\\$Profile\\_id] \\begin{enumerate*}\n",
       "\\item 1\n",
       "\\item 2\n",
       "\\item 3\n",
       "\\item 4\n",
       "\\end{enumerate*}\n",
       "\n",
       "\\item[\\$Profile\\_name] \\begin{enumerate*}\n",
       "\\item 'Shan'\n",
       "\\item 'Sandeep'\n",
       "\\item 'John'\n",
       "\\item 'Warner'\n",
       "\\end{enumerate*}\n",
       "\n",
       "\\item[\\$Interests] \\begin{enumerate*}\n",
       "\\item 'Teaching'\n",
       "\\item 'dancing'\n",
       "\\item 'Coding'\n",
       "\\item 'Travelling'\n",
       "\\end{enumerate*}\n",
       "\n",
       "\\end{description}\n"
      ],
      "text/markdown": [
       "$Profile_id\n",
       ":   1. 1\n",
       "2. 2\n",
       "3. 3\n",
       "4. 4\n",
       "\n",
       "\n",
       "\n",
       "$Profile_name\n",
       ":   1. 'Shan'\n",
       "2. 'Sandeep'\n",
       "3. 'John'\n",
       "4. 'Warner'\n",
       "\n",
       "\n",
       "\n",
       "$Interests\n",
       ":   1. 'Teaching'\n",
       "2. 'dancing'\n",
       "3. 'Coding'\n",
       "4. 'Travelling'\n",
       "\n",
       "\n",
       "\n",
       "\n",
       "\n"
      ],
      "text/plain": [
       "$Profile_id\n",
       "[1] 1 2 3 4\n",
       "\n",
       "$Profile_name\n",
       "[1] \"Shan\"    \"Sandeep\" \"John\"    \"Warner\" \n",
       "\n",
       "$Interests\n",
       "[1] \"Teaching\"   \"dancing\"    \"Coding\"     \"Travelling\"\n"
      ]
     },
     "metadata": {},
     "output_type": "display_data"
    }
   ],
   "source": [
    "fb_data2"
   ]
  },
  {
   "cell_type": "code",
   "execution_count": null,
   "id": "ddcc7b43",
   "metadata": {},
   "outputs": [],
   "source": [
    "\"\n",
    "\n",
    "ie R List is a collection of (key-value pairs)\n",
    "\n",
    "\""
   ]
  },
  {
   "cell_type": "code",
   "execution_count": null,
   "id": "68d5e5ab",
   "metadata": {},
   "outputs": [],
   "source": []
  },
  {
   "cell_type": "code",
   "execution_count": null,
   "id": "1b265ca9",
   "metadata": {},
   "outputs": [],
   "source": []
  },
  {
   "cell_type": "markdown",
   "id": "21c27bfe",
   "metadata": {},
   "source": [
    "### Basic operations on list : \n",
    "    a) accessing elements of a list \n",
    "    b) Insert values in list"
   ]
  },
  {
   "cell_type": "markdown",
   "id": "9828b0fb",
   "metadata": {},
   "source": [
    "#### a) accessing elements of a list : \n",
    "    R has main 3 indexing operators..\n",
    "    They are as follows :\n",
    "\n",
    "        [ ] = always returns a list with a mentioned key..\n",
    "        [[ ]] = returns a object of the class of item contained in the list.\n",
    "        $(dollar operator) = returns elements from list that have names associated with it, not necessarily same class"
   ]
  },
  {
   "cell_type": "code",
   "execution_count": null,
   "id": "729ed810",
   "metadata": {},
   "outputs": [],
   "source": []
  },
  {
   "cell_type": "code",
   "execution_count": 13,
   "id": "704c56e6",
   "metadata": {},
   "outputs": [
    {
     "data": {
      "text/html": [
       "<style>\n",
       ".list-inline {list-style: none; margin:0; padding: 0}\n",
       ".list-inline>li {display: inline-block}\n",
       ".list-inline>li:not(:last-child)::after {content: \"\\00b7\"; padding: 0 .5ex}\n",
       "</style>\n",
       "<ol class=list-inline><li>1</li><li>2</li><li>3</li><li>4</li></ol>\n"
      ],
      "text/latex": [
       "\\begin{enumerate*}\n",
       "\\item 1\n",
       "\\item 2\n",
       "\\item 3\n",
       "\\item 4\n",
       "\\end{enumerate*}\n"
      ],
      "text/markdown": [
       "1. 1\n",
       "2. 2\n",
       "3. 3\n",
       "4. 4\n",
       "\n",
       "\n"
      ],
      "text/plain": [
       "[1] 1 2 3 4"
      ]
     },
     "metadata": {},
     "output_type": "display_data"
    }
   ],
   "source": [
    "fb_data2$Profile_id"
   ]
  },
  {
   "cell_type": "code",
   "execution_count": 13,
   "id": "5c8822ef",
   "metadata": {},
   "outputs": [
    {
     "data": {
      "text/html": [
       "<style>\n",
       ".list-inline {list-style: none; margin:0; padding: 0}\n",
       ".list-inline>li {display: inline-block}\n",
       ".list-inline>li:not(:last-child)::after {content: \"\\00b7\"; padding: 0 .5ex}\n",
       "</style>\n",
       "<ol class=list-inline><li>1</li><li>2</li><li>3</li><li>4</li></ol>\n"
      ],
      "text/latex": [
       "\\begin{enumerate*}\n",
       "\\item 1\n",
       "\\item 2\n",
       "\\item 3\n",
       "\\item 4\n",
       "\\end{enumerate*}\n"
      ],
      "text/markdown": [
       "1. 1\n",
       "2. 2\n",
       "3. 3\n",
       "4. 4\n",
       "\n",
       "\n"
      ],
      "text/plain": [
       "[1] 1 2 3 4"
      ]
     },
     "metadata": {},
     "output_type": "display_data"
    }
   ],
   "source": [
    "fb_data2[[\"Profile_id\"]]"
   ]
  },
  {
   "cell_type": "code",
   "execution_count": 14,
   "id": "31fcd1db",
   "metadata": {},
   "outputs": [
    {
     "data": {
      "text/html": [
       "<strong>$Profile_id</strong> = <style>\n",
       ".list-inline {list-style: none; margin:0; padding: 0}\n",
       ".list-inline>li {display: inline-block}\n",
       ".list-inline>li:not(:last-child)::after {content: \"\\00b7\"; padding: 0 .5ex}\n",
       "</style>\n",
       "<ol class=list-inline><li>1</li><li>2</li><li>3</li><li>4</li></ol>\n"
      ],
      "text/latex": [
       "\\textbf{\\$Profile\\_id} = \\begin{enumerate*}\n",
       "\\item 1\n",
       "\\item 2\n",
       "\\item 3\n",
       "\\item 4\n",
       "\\end{enumerate*}\n"
      ],
      "text/markdown": [
       "**$Profile_id** = 1. 1\n",
       "2. 2\n",
       "3. 3\n",
       "4. 4\n",
       "\n",
       "\n"
      ],
      "text/plain": [
       "$Profile_id\n",
       "[1] 1 2 3 4\n"
      ]
     },
     "metadata": {},
     "output_type": "display_data"
    }
   ],
   "source": [
    "fb_data2[\"Profile_id\"] ## it returns a list with the mentioned key/element"
   ]
  },
  {
   "cell_type": "code",
   "execution_count": null,
   "id": "12ad5bb8",
   "metadata": {},
   "outputs": [],
   "source": []
  },
  {
   "cell_type": "markdown",
   "id": "b043ea75",
   "metadata": {},
   "source": [
    "#### b) Insert values in list"
   ]
  },
  {
   "cell_type": "code",
   "execution_count": null,
   "id": "3bb33784",
   "metadata": {},
   "outputs": [],
   "source": [
    "\"\n",
    "\n",
    "Refer below syntax to insert :\n",
    "\n",
    "list[[key]] = value \n",
    "list$key = value \n",
    "\n",
    "\n",
    "\""
   ]
  },
  {
   "cell_type": "code",
   "execution_count": 15,
   "id": "0269a43a",
   "metadata": {},
   "outputs": [
    {
     "data": {
      "text/html": [
       "<dl>\n",
       "\t<dt>$Profile_id</dt>\n",
       "\t\t<dd><style>\n",
       ".list-inline {list-style: none; margin:0; padding: 0}\n",
       ".list-inline>li {display: inline-block}\n",
       ".list-inline>li:not(:last-child)::after {content: \"\\00b7\"; padding: 0 .5ex}\n",
       "</style>\n",
       "<ol class=list-inline><li>1</li><li>2</li><li>3</li><li>4</li></ol>\n",
       "</dd>\n",
       "\t<dt>$Profile_name</dt>\n",
       "\t\t<dd><style>\n",
       ".list-inline {list-style: none; margin:0; padding: 0}\n",
       ".list-inline>li {display: inline-block}\n",
       ".list-inline>li:not(:last-child)::after {content: \"\\00b7\"; padding: 0 .5ex}\n",
       "</style>\n",
       "<ol class=list-inline><li>'Shan'</li><li>'Sandeep'</li><li>'John'</li><li>'Warner'</li></ol>\n",
       "</dd>\n",
       "\t<dt>$Interests</dt>\n",
       "\t\t<dd><style>\n",
       ".list-inline {list-style: none; margin:0; padding: 0}\n",
       ".list-inline>li {display: inline-block}\n",
       ".list-inline>li:not(:last-child)::after {content: \"\\00b7\"; padding: 0 .5ex}\n",
       "</style>\n",
       "<ol class=list-inline><li>'Teaching'</li><li>'dancing'</li><li>'Coding'</li><li>'Travelling'</li></ol>\n",
       "</dd>\n",
       "</dl>\n"
      ],
      "text/latex": [
       "\\begin{description}\n",
       "\\item[\\$Profile\\_id] \\begin{enumerate*}\n",
       "\\item 1\n",
       "\\item 2\n",
       "\\item 3\n",
       "\\item 4\n",
       "\\end{enumerate*}\n",
       "\n",
       "\\item[\\$Profile\\_name] \\begin{enumerate*}\n",
       "\\item 'Shan'\n",
       "\\item 'Sandeep'\n",
       "\\item 'John'\n",
       "\\item 'Warner'\n",
       "\\end{enumerate*}\n",
       "\n",
       "\\item[\\$Interests] \\begin{enumerate*}\n",
       "\\item 'Teaching'\n",
       "\\item 'dancing'\n",
       "\\item 'Coding'\n",
       "\\item 'Travelling'\n",
       "\\end{enumerate*}\n",
       "\n",
       "\\end{description}\n"
      ],
      "text/markdown": [
       "$Profile_id\n",
       ":   1. 1\n",
       "2. 2\n",
       "3. 3\n",
       "4. 4\n",
       "\n",
       "\n",
       "\n",
       "$Profile_name\n",
       ":   1. 'Shan'\n",
       "2. 'Sandeep'\n",
       "3. 'John'\n",
       "4. 'Warner'\n",
       "\n",
       "\n",
       "\n",
       "$Interests\n",
       ":   1. 'Teaching'\n",
       "2. 'dancing'\n",
       "3. 'Coding'\n",
       "4. 'Travelling'\n",
       "\n",
       "\n",
       "\n",
       "\n",
       "\n"
      ],
      "text/plain": [
       "$Profile_id\n",
       "[1] 1 2 3 4\n",
       "\n",
       "$Profile_name\n",
       "[1] \"Shan\"    \"Sandeep\" \"John\"    \"Warner\" \n",
       "\n",
       "$Interests\n",
       "[1] \"Teaching\"   \"dancing\"    \"Coding\"     \"Travelling\"\n"
      ]
     },
     "metadata": {},
     "output_type": "display_data"
    }
   ],
   "source": [
    "fb_data2"
   ]
  },
  {
   "cell_type": "code",
   "execution_count": 16,
   "id": "70bab35e",
   "metadata": {},
   "outputs": [],
   "source": [
    "fb_data2$city = c(\"New York\" , \"Mumbai\" , \"Delhi\" , \"Shanghai\")"
   ]
  },
  {
   "cell_type": "code",
   "execution_count": 17,
   "id": "0efa07d5",
   "metadata": {},
   "outputs": [
    {
     "data": {
      "text/html": [
       "<dl>\n",
       "\t<dt>$Profile_id</dt>\n",
       "\t\t<dd><style>\n",
       ".list-inline {list-style: none; margin:0; padding: 0}\n",
       ".list-inline>li {display: inline-block}\n",
       ".list-inline>li:not(:last-child)::after {content: \"\\00b7\"; padding: 0 .5ex}\n",
       "</style>\n",
       "<ol class=list-inline><li>1</li><li>2</li><li>3</li><li>4</li></ol>\n",
       "</dd>\n",
       "\t<dt>$Profile_name</dt>\n",
       "\t\t<dd><style>\n",
       ".list-inline {list-style: none; margin:0; padding: 0}\n",
       ".list-inline>li {display: inline-block}\n",
       ".list-inline>li:not(:last-child)::after {content: \"\\00b7\"; padding: 0 .5ex}\n",
       "</style>\n",
       "<ol class=list-inline><li>'Shan'</li><li>'Sandeep'</li><li>'John'</li><li>'Warner'</li></ol>\n",
       "</dd>\n",
       "\t<dt>$Interests</dt>\n",
       "\t\t<dd><style>\n",
       ".list-inline {list-style: none; margin:0; padding: 0}\n",
       ".list-inline>li {display: inline-block}\n",
       ".list-inline>li:not(:last-child)::after {content: \"\\00b7\"; padding: 0 .5ex}\n",
       "</style>\n",
       "<ol class=list-inline><li>'Teaching'</li><li>'dancing'</li><li>'Coding'</li><li>'Travelling'</li></ol>\n",
       "</dd>\n",
       "\t<dt>$city</dt>\n",
       "\t\t<dd><style>\n",
       ".list-inline {list-style: none; margin:0; padding: 0}\n",
       ".list-inline>li {display: inline-block}\n",
       ".list-inline>li:not(:last-child)::after {content: \"\\00b7\"; padding: 0 .5ex}\n",
       "</style>\n",
       "<ol class=list-inline><li>'New York'</li><li>'Mumbai'</li><li>'Delhi'</li><li>'Shanghai'</li></ol>\n",
       "</dd>\n",
       "</dl>\n"
      ],
      "text/latex": [
       "\\begin{description}\n",
       "\\item[\\$Profile\\_id] \\begin{enumerate*}\n",
       "\\item 1\n",
       "\\item 2\n",
       "\\item 3\n",
       "\\item 4\n",
       "\\end{enumerate*}\n",
       "\n",
       "\\item[\\$Profile\\_name] \\begin{enumerate*}\n",
       "\\item 'Shan'\n",
       "\\item 'Sandeep'\n",
       "\\item 'John'\n",
       "\\item 'Warner'\n",
       "\\end{enumerate*}\n",
       "\n",
       "\\item[\\$Interests] \\begin{enumerate*}\n",
       "\\item 'Teaching'\n",
       "\\item 'dancing'\n",
       "\\item 'Coding'\n",
       "\\item 'Travelling'\n",
       "\\end{enumerate*}\n",
       "\n",
       "\\item[\\$city] \\begin{enumerate*}\n",
       "\\item 'New York'\n",
       "\\item 'Mumbai'\n",
       "\\item 'Delhi'\n",
       "\\item 'Shanghai'\n",
       "\\end{enumerate*}\n",
       "\n",
       "\\end{description}\n"
      ],
      "text/markdown": [
       "$Profile_id\n",
       ":   1. 1\n",
       "2. 2\n",
       "3. 3\n",
       "4. 4\n",
       "\n",
       "\n",
       "\n",
       "$Profile_name\n",
       ":   1. 'Shan'\n",
       "2. 'Sandeep'\n",
       "3. 'John'\n",
       "4. 'Warner'\n",
       "\n",
       "\n",
       "\n",
       "$Interests\n",
       ":   1. 'Teaching'\n",
       "2. 'dancing'\n",
       "3. 'Coding'\n",
       "4. 'Travelling'\n",
       "\n",
       "\n",
       "\n",
       "$city\n",
       ":   1. 'New York'\n",
       "2. 'Mumbai'\n",
       "3. 'Delhi'\n",
       "4. 'Shanghai'\n",
       "\n",
       "\n",
       "\n",
       "\n",
       "\n"
      ],
      "text/plain": [
       "$Profile_id\n",
       "[1] 1 2 3 4\n",
       "\n",
       "$Profile_name\n",
       "[1] \"Shan\"    \"Sandeep\" \"John\"    \"Warner\" \n",
       "\n",
       "$Interests\n",
       "[1] \"Teaching\"   \"dancing\"    \"Coding\"     \"Travelling\"\n",
       "\n",
       "$city\n",
       "[1] \"New York\" \"Mumbai\"   \"Delhi\"    \"Shanghai\"\n"
      ]
     },
     "metadata": {},
     "output_type": "display_data"
    }
   ],
   "source": [
    "fb_data2"
   ]
  },
  {
   "cell_type": "code",
   "execution_count": null,
   "id": "60e53699",
   "metadata": {},
   "outputs": [],
   "source": []
  },
  {
   "cell_type": "code",
   "execution_count": null,
   "id": "22f7ef03",
   "metadata": {},
   "outputs": [],
   "source": []
  },
  {
   "cell_type": "code",
   "execution_count": null,
   "id": "afa5db70",
   "metadata": {},
   "outputs": [],
   "source": []
  },
  {
   "cell_type": "code",
   "execution_count": null,
   "id": "32387497",
   "metadata": {},
   "outputs": [],
   "source": []
  },
  {
   "cell_type": "markdown",
   "id": "705595fb",
   "metadata": {},
   "source": [
    "## DataFrame in R\n",
    "\n",
    "    Defining DataFrame\n",
    "    \n",
    "    Basic operations on DataFrame\n",
    "        a) accessing cols of a DataFrame : \n",
    "        \n"
   ]
  },
  {
   "cell_type": "markdown",
   "id": "e054dcf2",
   "metadata": {},
   "source": [
    "    dataframe is all about collection of vectors \n",
    "    as Each column in a data frame is essentially a vector..\n",
    "    \n",
    "    you can think of an R data frame as an extension of an R list..\n",
    "    Key of list will be col of dataframe & values of list will be values of column"
   ]
  },
  {
   "cell_type": "code",
   "execution_count": 18,
   "id": "5547c953",
   "metadata": {},
   "outputs": [
    {
     "data": {
      "text/html": [
       "<dl>\n",
       "\t<dt>$Profile_id</dt>\n",
       "\t\t<dd><style>\n",
       ".list-inline {list-style: none; margin:0; padding: 0}\n",
       ".list-inline>li {display: inline-block}\n",
       ".list-inline>li:not(:last-child)::after {content: \"\\00b7\"; padding: 0 .5ex}\n",
       "</style>\n",
       "<ol class=list-inline><li>1</li><li>2</li><li>3</li><li>4</li></ol>\n",
       "</dd>\n",
       "\t<dt>$Profile_name</dt>\n",
       "\t\t<dd><style>\n",
       ".list-inline {list-style: none; margin:0; padding: 0}\n",
       ".list-inline>li {display: inline-block}\n",
       ".list-inline>li:not(:last-child)::after {content: \"\\00b7\"; padding: 0 .5ex}\n",
       "</style>\n",
       "<ol class=list-inline><li>'Shan'</li><li>'Sandeep'</li><li>'John'</li><li>'Warner'</li></ol>\n",
       "</dd>\n",
       "\t<dt>$Interests</dt>\n",
       "\t\t<dd><style>\n",
       ".list-inline {list-style: none; margin:0; padding: 0}\n",
       ".list-inline>li {display: inline-block}\n",
       ".list-inline>li:not(:last-child)::after {content: \"\\00b7\"; padding: 0 .5ex}\n",
       "</style>\n",
       "<ol class=list-inline><li>'Teaching'</li><li>'dancing'</li><li>'Coding'</li><li>'Travelling'</li></ol>\n",
       "</dd>\n",
       "\t<dt>$city</dt>\n",
       "\t\t<dd><style>\n",
       ".list-inline {list-style: none; margin:0; padding: 0}\n",
       ".list-inline>li {display: inline-block}\n",
       ".list-inline>li:not(:last-child)::after {content: \"\\00b7\"; padding: 0 .5ex}\n",
       "</style>\n",
       "<ol class=list-inline><li>'New York'</li><li>'Mumbai'</li><li>'Delhi'</li><li>'Shanghai'</li></ol>\n",
       "</dd>\n",
       "</dl>\n"
      ],
      "text/latex": [
       "\\begin{description}\n",
       "\\item[\\$Profile\\_id] \\begin{enumerate*}\n",
       "\\item 1\n",
       "\\item 2\n",
       "\\item 3\n",
       "\\item 4\n",
       "\\end{enumerate*}\n",
       "\n",
       "\\item[\\$Profile\\_name] \\begin{enumerate*}\n",
       "\\item 'Shan'\n",
       "\\item 'Sandeep'\n",
       "\\item 'John'\n",
       "\\item 'Warner'\n",
       "\\end{enumerate*}\n",
       "\n",
       "\\item[\\$Interests] \\begin{enumerate*}\n",
       "\\item 'Teaching'\n",
       "\\item 'dancing'\n",
       "\\item 'Coding'\n",
       "\\item 'Travelling'\n",
       "\\end{enumerate*}\n",
       "\n",
       "\\item[\\$city] \\begin{enumerate*}\n",
       "\\item 'New York'\n",
       "\\item 'Mumbai'\n",
       "\\item 'Delhi'\n",
       "\\item 'Shanghai'\n",
       "\\end{enumerate*}\n",
       "\n",
       "\\end{description}\n"
      ],
      "text/markdown": [
       "$Profile_id\n",
       ":   1. 1\n",
       "2. 2\n",
       "3. 3\n",
       "4. 4\n",
       "\n",
       "\n",
       "\n",
       "$Profile_name\n",
       ":   1. 'Shan'\n",
       "2. 'Sandeep'\n",
       "3. 'John'\n",
       "4. 'Warner'\n",
       "\n",
       "\n",
       "\n",
       "$Interests\n",
       ":   1. 'Teaching'\n",
       "2. 'dancing'\n",
       "3. 'Coding'\n",
       "4. 'Travelling'\n",
       "\n",
       "\n",
       "\n",
       "$city\n",
       ":   1. 'New York'\n",
       "2. 'Mumbai'\n",
       "3. 'Delhi'\n",
       "4. 'Shanghai'\n",
       "\n",
       "\n",
       "\n",
       "\n",
       "\n"
      ],
      "text/plain": [
       "$Profile_id\n",
       "[1] 1 2 3 4\n",
       "\n",
       "$Profile_name\n",
       "[1] \"Shan\"    \"Sandeep\" \"John\"    \"Warner\" \n",
       "\n",
       "$Interests\n",
       "[1] \"Teaching\"   \"dancing\"    \"Coding\"     \"Travelling\"\n",
       "\n",
       "$city\n",
       "[1] \"New York\" \"Mumbai\"   \"Delhi\"    \"Shanghai\"\n"
      ]
     },
     "metadata": {},
     "output_type": "display_data"
    }
   ],
   "source": [
    "fb_data2"
   ]
  },
  {
   "cell_type": "code",
   "execution_count": null,
   "id": "00ae8cdd",
   "metadata": {},
   "outputs": [],
   "source": []
  },
  {
   "cell_type": "code",
   "execution_count": null,
   "id": "abd8055f",
   "metadata": {},
   "outputs": [],
   "source": [
    "### moment u call data.frame() , ie u can trying to create a obj of data.frame class..."
   ]
  },
  {
   "cell_type": "code",
   "execution_count": 19,
   "id": "c5873c4b",
   "metadata": {},
   "outputs": [],
   "source": [
    "df = data.frame(fb_data2) ## R dataframe is a simple extension of R list "
   ]
  },
  {
   "cell_type": "code",
   "execution_count": 20,
   "id": "ee98d33a",
   "metadata": {},
   "outputs": [
    {
     "data": {
      "text/html": [
       "<table class=\"dataframe\">\n",
       "<caption>A data.frame: 4 × 4</caption>\n",
       "<thead>\n",
       "\t<tr><th scope=col>Profile_id</th><th scope=col>Profile_name</th><th scope=col>Interests</th><th scope=col>city</th></tr>\n",
       "\t<tr><th scope=col>&lt;dbl&gt;</th><th scope=col>&lt;chr&gt;</th><th scope=col>&lt;chr&gt;</th><th scope=col>&lt;chr&gt;</th></tr>\n",
       "</thead>\n",
       "<tbody>\n",
       "\t<tr><td>1</td><td>Shan   </td><td>Teaching  </td><td>New York</td></tr>\n",
       "\t<tr><td>2</td><td>Sandeep</td><td>dancing   </td><td>Mumbai  </td></tr>\n",
       "\t<tr><td>3</td><td>John   </td><td>Coding    </td><td>Delhi   </td></tr>\n",
       "\t<tr><td>4</td><td>Warner </td><td>Travelling</td><td>Shanghai</td></tr>\n",
       "</tbody>\n",
       "</table>\n"
      ],
      "text/latex": [
       "A data.frame: 4 × 4\n",
       "\\begin{tabular}{llll}\n",
       " Profile\\_id & Profile\\_name & Interests & city\\\\\n",
       " <dbl> & <chr> & <chr> & <chr>\\\\\n",
       "\\hline\n",
       "\t 1 & Shan    & Teaching   & New York\\\\\n",
       "\t 2 & Sandeep & dancing    & Mumbai  \\\\\n",
       "\t 3 & John    & Coding     & Delhi   \\\\\n",
       "\t 4 & Warner  & Travelling & Shanghai\\\\\n",
       "\\end{tabular}\n"
      ],
      "text/markdown": [
       "\n",
       "A data.frame: 4 × 4\n",
       "\n",
       "| Profile_id &lt;dbl&gt; | Profile_name &lt;chr&gt; | Interests &lt;chr&gt; | city &lt;chr&gt; |\n",
       "|---|---|---|---|\n",
       "| 1 | Shan    | Teaching   | New York |\n",
       "| 2 | Sandeep | dancing    | Mumbai   |\n",
       "| 3 | John    | Coding     | Delhi    |\n",
       "| 4 | Warner  | Travelling | Shanghai |\n",
       "\n"
      ],
      "text/plain": [
       "  Profile_id Profile_name Interests  city    \n",
       "1 1          Shan         Teaching   New York\n",
       "2 2          Sandeep      dancing    Mumbai  \n",
       "3 3          John         Coding     Delhi   \n",
       "4 4          Warner       Travelling Shanghai"
      ]
     },
     "metadata": {},
     "output_type": "display_data"
    }
   ],
   "source": [
    "df"
   ]
  },
  {
   "cell_type": "markdown",
   "id": "cd5784aa",
   "metadata": {},
   "source": [
    "\n",
    "#### what is Dataframe ?? \n",
    "    Its all about data in the form of Rows & colums , ie It is exactly equal to csv data (excel)\n",
    "    If you're familiar with the Table in Excel then you already have a grasp of what a R dataframe is. \n",
    "    It's a table of data. It has rows and columns\n",
    "    Its 2-D data structure\n",
    "    Its like a Table or a matrix\n",
    "    \n",
    "    If we see internally , implementation of R dataframe is all about ' Sequence/collection of vector '\n",
    "    \n",
    "    \n",
    "    From Programming - point of view , we have data-structure called List..\n",
    "    It is just a extension of List (data-structure of R) \n",
    "    e.g->> l1 = list(first_name = c('Shan' , 'Rahul') ,\n",
    "                      last_name = c('Singh' , 'Singh')\n",
    "                  )\n",
    "    ie , R Dataframe is exactly a extended form of R List(key-value pairs) , key becomes feature/col & value becomes rows..\n",
    "    \n",
    "    \n",
    "    Dataframe are size-mutable,  heterogeneous tabular data\n",
    "    \n",
    "     R DataFrame will be created by loading the data sets from various storage: \n",
    "     storage can be SQL Database, .CSV file,json,flat files and Excel file. \n",
    "     R DataFrame can also be created internally from the list, R etc.\n",
    "     \n",
    "     \n",
    "     \n",
    "     list & vector are 2 different classes in R..\n",
    "     \n",
    "     "
   ]
  },
  {
   "cell_type": "code",
   "execution_count": null,
   "id": "23ac8e06",
   "metadata": {},
   "outputs": [],
   "source": []
  },
  {
   "cell_type": "code",
   "execution_count": null,
   "id": "be119bd4",
   "metadata": {},
   "outputs": [],
   "source": [
    "### R dataframe is a collection of R vector !"
   ]
  },
  {
   "cell_type": "code",
   "execution_count": 21,
   "id": "a9a58a85",
   "metadata": {},
   "outputs": [],
   "source": [
    "Pro_Id = c(1, 2, 3, 4)\n",
    "name = c(\"Shan\" , \"Sandeep\" , \"John\" , \"Warner\")"
   ]
  },
  {
   "cell_type": "code",
   "execution_count": 23,
   "id": "160960b3",
   "metadata": {},
   "outputs": [
    {
     "data": {
      "text/html": [
       "<table class=\"dataframe\">\n",
       "<caption>A data.frame: 4 × 2</caption>\n",
       "<thead>\n",
       "\t<tr><th scope=col>Pro_Id</th><th scope=col>name</th></tr>\n",
       "\t<tr><th scope=col>&lt;dbl&gt;</th><th scope=col>&lt;chr&gt;</th></tr>\n",
       "</thead>\n",
       "<tbody>\n",
       "\t<tr><td>1</td><td>Shan   </td></tr>\n",
       "\t<tr><td>2</td><td>Sandeep</td></tr>\n",
       "\t<tr><td>3</td><td>John   </td></tr>\n",
       "\t<tr><td>4</td><td>Warner </td></tr>\n",
       "</tbody>\n",
       "</table>\n"
      ],
      "text/latex": [
       "A data.frame: 4 × 2\n",
       "\\begin{tabular}{ll}\n",
       " Pro\\_Id & name\\\\\n",
       " <dbl> & <chr>\\\\\n",
       "\\hline\n",
       "\t 1 & Shan   \\\\\n",
       "\t 2 & Sandeep\\\\\n",
       "\t 3 & John   \\\\\n",
       "\t 4 & Warner \\\\\n",
       "\\end{tabular}\n"
      ],
      "text/markdown": [
       "\n",
       "A data.frame: 4 × 2\n",
       "\n",
       "| Pro_Id &lt;dbl&gt; | name &lt;chr&gt; |\n",
       "|---|---|\n",
       "| 1 | Shan    |\n",
       "| 2 | Sandeep |\n",
       "| 3 | John    |\n",
       "| 4 | Warner  |\n",
       "\n"
      ],
      "text/plain": [
       "  Pro_Id name   \n",
       "1 1      Shan   \n",
       "2 2      Sandeep\n",
       "3 3      John   \n",
       "4 4      Warner "
      ]
     },
     "metadata": {},
     "output_type": "display_data"
    }
   ],
   "source": [
    "data.frame(Pro_Id , name)"
   ]
  },
  {
   "cell_type": "code",
   "execution_count": null,
   "id": "705f9c79",
   "metadata": {},
   "outputs": [],
   "source": []
  },
  {
   "cell_type": "code",
   "execution_count": null,
   "id": "2878b75d",
   "metadata": {},
   "outputs": [],
   "source": []
  },
  {
   "cell_type": "markdown",
   "id": "49f2d710",
   "metadata": {},
   "source": [
    "### Accessing cols in dataframe : "
   ]
  },
  {
   "cell_type": "markdown",
   "id": "02a31a60",
   "metadata": {},
   "source": [
    "        Single bracket [ ] = returns output in dataframe\n",
    "        Double bracket [[ ]] = returns output in vector \n",
    "        Dollar Sign\"$\" = returns output in vector \n",
    "        "
   ]
  },
  {
   "cell_type": "code",
   "execution_count": null,
   "id": "c63e4920",
   "metadata": {},
   "outputs": [],
   "source": [
    "### as R dataframe is a extension of R list , hence u can of think of accessing R dataframe columns using R list operators : "
   ]
  },
  {
   "cell_type": "code",
   "execution_count": 24,
   "id": "becdbcf1",
   "metadata": {},
   "outputs": [
    {
     "data": {
      "text/html": [
       "<style>\n",
       ".list-inline {list-style: none; margin:0; padding: 0}\n",
       ".list-inline>li {display: inline-block}\n",
       ".list-inline>li:not(:last-child)::after {content: \"\\00b7\"; padding: 0 .5ex}\n",
       "</style>\n",
       "<ol class=list-inline><li>1</li><li>2</li><li>3</li><li>4</li></ol>\n"
      ],
      "text/latex": [
       "\\begin{enumerate*}\n",
       "\\item 1\n",
       "\\item 2\n",
       "\\item 3\n",
       "\\item 4\n",
       "\\end{enumerate*}\n"
      ],
      "text/markdown": [
       "1. 1\n",
       "2. 2\n",
       "3. 3\n",
       "4. 4\n",
       "\n",
       "\n"
      ],
      "text/plain": [
       "[1] 1 2 3 4"
      ]
     },
     "metadata": {},
     "output_type": "display_data"
    }
   ],
   "source": [
    "df$Profile_id"
   ]
  },
  {
   "cell_type": "code",
   "execution_count": 25,
   "id": "d7637287",
   "metadata": {},
   "outputs": [
    {
     "data": {
      "text/html": [
       "<table class=\"dataframe\">\n",
       "<caption>A data.frame: 4 × 1</caption>\n",
       "<thead>\n",
       "\t<tr><th scope=col>Profile_id</th></tr>\n",
       "\t<tr><th scope=col>&lt;dbl&gt;</th></tr>\n",
       "</thead>\n",
       "<tbody>\n",
       "\t<tr><td>1</td></tr>\n",
       "\t<tr><td>2</td></tr>\n",
       "\t<tr><td>3</td></tr>\n",
       "\t<tr><td>4</td></tr>\n",
       "</tbody>\n",
       "</table>\n"
      ],
      "text/latex": [
       "A data.frame: 4 × 1\n",
       "\\begin{tabular}{l}\n",
       " Profile\\_id\\\\\n",
       " <dbl>\\\\\n",
       "\\hline\n",
       "\t 1\\\\\n",
       "\t 2\\\\\n",
       "\t 3\\\\\n",
       "\t 4\\\\\n",
       "\\end{tabular}\n"
      ],
      "text/markdown": [
       "\n",
       "A data.frame: 4 × 1\n",
       "\n",
       "| Profile_id &lt;dbl&gt; |\n",
       "|---|\n",
       "| 1 |\n",
       "| 2 |\n",
       "| 3 |\n",
       "| 4 |\n",
       "\n"
      ],
      "text/plain": [
       "  Profile_id\n",
       "1 1         \n",
       "2 2         \n",
       "3 3         \n",
       "4 4         "
      ]
     },
     "metadata": {},
     "output_type": "display_data"
    }
   ],
   "source": [
    "df[\"Profile_id\"]"
   ]
  },
  {
   "cell_type": "code",
   "execution_count": 26,
   "id": "c2734e8d",
   "metadata": {},
   "outputs": [
    {
     "data": {
      "text/html": [
       "<style>\n",
       ".list-inline {list-style: none; margin:0; padding: 0}\n",
       ".list-inline>li {display: inline-block}\n",
       ".list-inline>li:not(:last-child)::after {content: \"\\00b7\"; padding: 0 .5ex}\n",
       "</style>\n",
       "<ol class=list-inline><li>1</li><li>2</li><li>3</li><li>4</li></ol>\n"
      ],
      "text/latex": [
       "\\begin{enumerate*}\n",
       "\\item 1\n",
       "\\item 2\n",
       "\\item 3\n",
       "\\item 4\n",
       "\\end{enumerate*}\n"
      ],
      "text/markdown": [
       "1. 1\n",
       "2. 2\n",
       "3. 3\n",
       "4. 4\n",
       "\n",
       "\n"
      ],
      "text/plain": [
       "[1] 1 2 3 4"
      ]
     },
     "metadata": {},
     "output_type": "display_data"
    }
   ],
   "source": [
    "df[[\"Profile_id\"]]"
   ]
  },
  {
   "cell_type": "code",
   "execution_count": null,
   "id": "7726ae96",
   "metadata": {},
   "outputs": [],
   "source": []
  },
  {
   "cell_type": "code",
   "execution_count": null,
   "id": "865a8f32",
   "metadata": {},
   "outputs": [],
   "source": []
  },
  {
   "cell_type": "code",
   "execution_count": null,
   "id": "28e351ff",
   "metadata": {},
   "outputs": [],
   "source": []
  },
  {
   "cell_type": "code",
   "execution_count": null,
   "id": "ee9084f7",
   "metadata": {},
   "outputs": [],
   "source": []
  },
  {
   "cell_type": "code",
   "execution_count": null,
   "id": "861147de",
   "metadata": {},
   "outputs": [],
   "source": []
  }
 ],
 "metadata": {
  "kernelspec": {
   "display_name": "R 4.4.1",
   "language": "R",
   "name": "ir41"
  },
  "language_info": {
   "codemirror_mode": "r",
   "file_extension": ".r",
   "mimetype": "text/x-r-source",
   "name": "R",
   "pygments_lexer": "r",
   "version": "4.4.1"
  }
 },
 "nbformat": 4,
 "nbformat_minor": 5
}
