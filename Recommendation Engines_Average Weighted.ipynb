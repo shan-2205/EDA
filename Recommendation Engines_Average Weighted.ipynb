{
 "cells": [
  {
   "cell_type": "markdown",
   "metadata": {},
   "source": [
    "## Building a Basic Recommendation System"
   ]
  },
  {
   "cell_type": "code",
   "execution_count": null,
   "metadata": {},
   "outputs": [],
   "source": []
  },
  {
   "cell_type": "code",
   "execution_count": null,
   "metadata": {},
   "outputs": [],
   "source": []
  },
  {
   "cell_type": "code",
   "execution_count": 86,
   "metadata": {},
   "outputs": [],
   "source": [
    "import pandas as pd\n",
    "import numpy as np\n",
    "import matplotlib.pyplot as plt"
   ]
  },
  {
   "cell_type": "code",
   "execution_count": 87,
   "metadata": {},
   "outputs": [],
   "source": [
    "credits = pd.read_csv(r\"F:\\Data_science_projects\\Recommendation_sytem\\Recommendation_system/tmdb_5000_credits.csv\")"
   ]
  },
  {
   "cell_type": "code",
   "execution_count": 88,
   "metadata": {},
   "outputs": [],
   "source": [
    "movies_df = pd.read_csv(r\"F:\\Data_science_projects\\Recommendation_sytem\\Recommendation_system/tmdb_5000_movies.csv\")"
   ]
  },
  {
   "cell_type": "code",
   "execution_count": 89,
   "metadata": {},
   "outputs": [
    {
     "data": {
      "text/html": [
       "<div>\n",
       "<style scoped>\n",
       "    .dataframe tbody tr th:only-of-type {\n",
       "        vertical-align: middle;\n",
       "    }\n",
       "\n",
       "    .dataframe tbody tr th {\n",
       "        vertical-align: top;\n",
       "    }\n",
       "\n",
       "    .dataframe thead th {\n",
       "        text-align: right;\n",
       "    }\n",
       "</style>\n",
       "<table border=\"1\" class=\"dataframe\">\n",
       "  <thead>\n",
       "    <tr style=\"text-align: right;\">\n",
       "      <th></th>\n",
       "      <th>movie_id</th>\n",
       "      <th>title</th>\n",
       "      <th>cast</th>\n",
       "      <th>crew</th>\n",
       "    </tr>\n",
       "  </thead>\n",
       "  <tbody>\n",
       "    <tr>\n",
       "      <th>0</th>\n",
       "      <td>19995</td>\n",
       "      <td>Avatar</td>\n",
       "      <td>[{\"cast_id\": 242, \"character\": \"Jake Sully\", \"...</td>\n",
       "      <td>[{\"credit_id\": \"52fe48009251416c750aca23\", \"de...</td>\n",
       "    </tr>\n",
       "    <tr>\n",
       "      <th>1</th>\n",
       "      <td>285</td>\n",
       "      <td>Pirates of the Caribbean: At World's End</td>\n",
       "      <td>[{\"cast_id\": 4, \"character\": \"Captain Jack Spa...</td>\n",
       "      <td>[{\"credit_id\": \"52fe4232c3a36847f800b579\", \"de...</td>\n",
       "    </tr>\n",
       "    <tr>\n",
       "      <th>2</th>\n",
       "      <td>206647</td>\n",
       "      <td>Spectre</td>\n",
       "      <td>[{\"cast_id\": 1, \"character\": \"James Bond\", \"cr...</td>\n",
       "      <td>[{\"credit_id\": \"54805967c3a36829b5002c41\", \"de...</td>\n",
       "    </tr>\n",
       "    <tr>\n",
       "      <th>3</th>\n",
       "      <td>49026</td>\n",
       "      <td>The Dark Knight Rises</td>\n",
       "      <td>[{\"cast_id\": 2, \"character\": \"Bruce Wayne / Ba...</td>\n",
       "      <td>[{\"credit_id\": \"52fe4781c3a36847f81398c3\", \"de...</td>\n",
       "    </tr>\n",
       "    <tr>\n",
       "      <th>4</th>\n",
       "      <td>49529</td>\n",
       "      <td>John Carter</td>\n",
       "      <td>[{\"cast_id\": 5, \"character\": \"John Carter\", \"c...</td>\n",
       "      <td>[{\"credit_id\": \"52fe479ac3a36847f813eaa3\", \"de...</td>\n",
       "    </tr>\n",
       "  </tbody>\n",
       "</table>\n",
       "</div>"
      ],
      "text/plain": [
       "   movie_id                                     title  \\\n",
       "0     19995                                    Avatar   \n",
       "1       285  Pirates of the Caribbean: At World's End   \n",
       "2    206647                                   Spectre   \n",
       "3     49026                     The Dark Knight Rises   \n",
       "4     49529                               John Carter   \n",
       "\n",
       "                                                cast  \\\n",
       "0  [{\"cast_id\": 242, \"character\": \"Jake Sully\", \"...   \n",
       "1  [{\"cast_id\": 4, \"character\": \"Captain Jack Spa...   \n",
       "2  [{\"cast_id\": 1, \"character\": \"James Bond\", \"cr...   \n",
       "3  [{\"cast_id\": 2, \"character\": \"Bruce Wayne / Ba...   \n",
       "4  [{\"cast_id\": 5, \"character\": \"John Carter\", \"c...   \n",
       "\n",
       "                                                crew  \n",
       "0  [{\"credit_id\": \"52fe48009251416c750aca23\", \"de...  \n",
       "1  [{\"credit_id\": \"52fe4232c3a36847f800b579\", \"de...  \n",
       "2  [{\"credit_id\": \"54805967c3a36829b5002c41\", \"de...  \n",
       "3  [{\"credit_id\": \"52fe4781c3a36847f81398c3\", \"de...  \n",
       "4  [{\"credit_id\": \"52fe479ac3a36847f813eaa3\", \"de...  "
      ]
     },
     "execution_count": 89,
     "metadata": {},
     "output_type": "execute_result"
    }
   ],
   "source": [
    "credits.head()"
   ]
  },
  {
   "cell_type": "code",
   "execution_count": 90,
   "metadata": {},
   "outputs": [
    {
     "data": {
      "text/html": [
       "<div>\n",
       "<style scoped>\n",
       "    .dataframe tbody tr th:only-of-type {\n",
       "        vertical-align: middle;\n",
       "    }\n",
       "\n",
       "    .dataframe tbody tr th {\n",
       "        vertical-align: top;\n",
       "    }\n",
       "\n",
       "    .dataframe thead th {\n",
       "        text-align: right;\n",
       "    }\n",
       "</style>\n",
       "<table border=\"1\" class=\"dataframe\">\n",
       "  <thead>\n",
       "    <tr style=\"text-align: right;\">\n",
       "      <th></th>\n",
       "      <th>budget</th>\n",
       "      <th>genres</th>\n",
       "      <th>homepage</th>\n",
       "      <th>id</th>\n",
       "      <th>keywords</th>\n",
       "      <th>original_language</th>\n",
       "      <th>original_title</th>\n",
       "      <th>overview</th>\n",
       "      <th>popularity</th>\n",
       "      <th>production_companies</th>\n",
       "      <th>production_countries</th>\n",
       "      <th>release_date</th>\n",
       "      <th>revenue</th>\n",
       "      <th>runtime</th>\n",
       "      <th>spoken_languages</th>\n",
       "      <th>status</th>\n",
       "      <th>tagline</th>\n",
       "      <th>title</th>\n",
       "      <th>vote_average</th>\n",
       "      <th>vote_count</th>\n",
       "    </tr>\n",
       "  </thead>\n",
       "  <tbody>\n",
       "    <tr>\n",
       "      <th>0</th>\n",
       "      <td>237000000</td>\n",
       "      <td>[{\"id\": 28, \"name\": \"Action\"}, {\"id\": 12, \"nam...</td>\n",
       "      <td>http://www.avatarmovie.com/</td>\n",
       "      <td>19995</td>\n",
       "      <td>[{\"id\": 1463, \"name\": \"culture clash\"}, {\"id\":...</td>\n",
       "      <td>en</td>\n",
       "      <td>Avatar</td>\n",
       "      <td>In the 22nd century, a paraplegic Marine is di...</td>\n",
       "      <td>150.437577</td>\n",
       "      <td>[{\"name\": \"Ingenious Film Partners\", \"id\": 289...</td>\n",
       "      <td>[{\"iso_3166_1\": \"US\", \"name\": \"United States o...</td>\n",
       "      <td>2009-12-10</td>\n",
       "      <td>2787965087</td>\n",
       "      <td>162.0</td>\n",
       "      <td>[{\"iso_639_1\": \"en\", \"name\": \"English\"}, {\"iso...</td>\n",
       "      <td>Released</td>\n",
       "      <td>Enter the World of Pandora.</td>\n",
       "      <td>Avatar</td>\n",
       "      <td>7.2</td>\n",
       "      <td>11800</td>\n",
       "    </tr>\n",
       "    <tr>\n",
       "      <th>1</th>\n",
       "      <td>300000000</td>\n",
       "      <td>[{\"id\": 12, \"name\": \"Adventure\"}, {\"id\": 14, \"...</td>\n",
       "      <td>http://disney.go.com/disneypictures/pirates/</td>\n",
       "      <td>285</td>\n",
       "      <td>[{\"id\": 270, \"name\": \"ocean\"}, {\"id\": 726, \"na...</td>\n",
       "      <td>en</td>\n",
       "      <td>Pirates of the Caribbean: At World's End</td>\n",
       "      <td>Captain Barbossa, long believed to be dead, ha...</td>\n",
       "      <td>139.082615</td>\n",
       "      <td>[{\"name\": \"Walt Disney Pictures\", \"id\": 2}, {\"...</td>\n",
       "      <td>[{\"iso_3166_1\": \"US\", \"name\": \"United States o...</td>\n",
       "      <td>2007-05-19</td>\n",
       "      <td>961000000</td>\n",
       "      <td>169.0</td>\n",
       "      <td>[{\"iso_639_1\": \"en\", \"name\": \"English\"}]</td>\n",
       "      <td>Released</td>\n",
       "      <td>At the end of the world, the adventure begins.</td>\n",
       "      <td>Pirates of the Caribbean: At World's End</td>\n",
       "      <td>6.9</td>\n",
       "      <td>4500</td>\n",
       "    </tr>\n",
       "    <tr>\n",
       "      <th>2</th>\n",
       "      <td>245000000</td>\n",
       "      <td>[{\"id\": 28, \"name\": \"Action\"}, {\"id\": 12, \"nam...</td>\n",
       "      <td>http://www.sonypictures.com/movies/spectre/</td>\n",
       "      <td>206647</td>\n",
       "      <td>[{\"id\": 470, \"name\": \"spy\"}, {\"id\": 818, \"name...</td>\n",
       "      <td>en</td>\n",
       "      <td>Spectre</td>\n",
       "      <td>A cryptic message from Bond’s past sends him o...</td>\n",
       "      <td>107.376788</td>\n",
       "      <td>[{\"name\": \"Columbia Pictures\", \"id\": 5}, {\"nam...</td>\n",
       "      <td>[{\"iso_3166_1\": \"GB\", \"name\": \"United Kingdom\"...</td>\n",
       "      <td>2015-10-26</td>\n",
       "      <td>880674609</td>\n",
       "      <td>148.0</td>\n",
       "      <td>[{\"iso_639_1\": \"fr\", \"name\": \"Fran\\u00e7ais\"},...</td>\n",
       "      <td>Released</td>\n",
       "      <td>A Plan No One Escapes</td>\n",
       "      <td>Spectre</td>\n",
       "      <td>6.3</td>\n",
       "      <td>4466</td>\n",
       "    </tr>\n",
       "    <tr>\n",
       "      <th>3</th>\n",
       "      <td>250000000</td>\n",
       "      <td>[{\"id\": 28, \"name\": \"Action\"}, {\"id\": 80, \"nam...</td>\n",
       "      <td>http://www.thedarkknightrises.com/</td>\n",
       "      <td>49026</td>\n",
       "      <td>[{\"id\": 849, \"name\": \"dc comics\"}, {\"id\": 853,...</td>\n",
       "      <td>en</td>\n",
       "      <td>The Dark Knight Rises</td>\n",
       "      <td>Following the death of District Attorney Harve...</td>\n",
       "      <td>112.312950</td>\n",
       "      <td>[{\"name\": \"Legendary Pictures\", \"id\": 923}, {\"...</td>\n",
       "      <td>[{\"iso_3166_1\": \"US\", \"name\": \"United States o...</td>\n",
       "      <td>2012-07-16</td>\n",
       "      <td>1084939099</td>\n",
       "      <td>165.0</td>\n",
       "      <td>[{\"iso_639_1\": \"en\", \"name\": \"English\"}]</td>\n",
       "      <td>Released</td>\n",
       "      <td>The Legend Ends</td>\n",
       "      <td>The Dark Knight Rises</td>\n",
       "      <td>7.6</td>\n",
       "      <td>9106</td>\n",
       "    </tr>\n",
       "    <tr>\n",
       "      <th>4</th>\n",
       "      <td>260000000</td>\n",
       "      <td>[{\"id\": 28, \"name\": \"Action\"}, {\"id\": 12, \"nam...</td>\n",
       "      <td>http://movies.disney.com/john-carter</td>\n",
       "      <td>49529</td>\n",
       "      <td>[{\"id\": 818, \"name\": \"based on novel\"}, {\"id\":...</td>\n",
       "      <td>en</td>\n",
       "      <td>John Carter</td>\n",
       "      <td>John Carter is a war-weary, former military ca...</td>\n",
       "      <td>43.926995</td>\n",
       "      <td>[{\"name\": \"Walt Disney Pictures\", \"id\": 2}]</td>\n",
       "      <td>[{\"iso_3166_1\": \"US\", \"name\": \"United States o...</td>\n",
       "      <td>2012-03-07</td>\n",
       "      <td>284139100</td>\n",
       "      <td>132.0</td>\n",
       "      <td>[{\"iso_639_1\": \"en\", \"name\": \"English\"}]</td>\n",
       "      <td>Released</td>\n",
       "      <td>Lost in our world, found in another.</td>\n",
       "      <td>John Carter</td>\n",
       "      <td>6.1</td>\n",
       "      <td>2124</td>\n",
       "    </tr>\n",
       "  </tbody>\n",
       "</table>\n",
       "</div>"
      ],
      "text/plain": [
       "      budget                                             genres  \\\n",
       "0  237000000  [{\"id\": 28, \"name\": \"Action\"}, {\"id\": 12, \"nam...   \n",
       "1  300000000  [{\"id\": 12, \"name\": \"Adventure\"}, {\"id\": 14, \"...   \n",
       "2  245000000  [{\"id\": 28, \"name\": \"Action\"}, {\"id\": 12, \"nam...   \n",
       "3  250000000  [{\"id\": 28, \"name\": \"Action\"}, {\"id\": 80, \"nam...   \n",
       "4  260000000  [{\"id\": 28, \"name\": \"Action\"}, {\"id\": 12, \"nam...   \n",
       "\n",
       "                                       homepage      id  \\\n",
       "0                   http://www.avatarmovie.com/   19995   \n",
       "1  http://disney.go.com/disneypictures/pirates/     285   \n",
       "2   http://www.sonypictures.com/movies/spectre/  206647   \n",
       "3            http://www.thedarkknightrises.com/   49026   \n",
       "4          http://movies.disney.com/john-carter   49529   \n",
       "\n",
       "                                            keywords original_language  \\\n",
       "0  [{\"id\": 1463, \"name\": \"culture clash\"}, {\"id\":...                en   \n",
       "1  [{\"id\": 270, \"name\": \"ocean\"}, {\"id\": 726, \"na...                en   \n",
       "2  [{\"id\": 470, \"name\": \"spy\"}, {\"id\": 818, \"name...                en   \n",
       "3  [{\"id\": 849, \"name\": \"dc comics\"}, {\"id\": 853,...                en   \n",
       "4  [{\"id\": 818, \"name\": \"based on novel\"}, {\"id\":...                en   \n",
       "\n",
       "                             original_title  \\\n",
       "0                                    Avatar   \n",
       "1  Pirates of the Caribbean: At World's End   \n",
       "2                                   Spectre   \n",
       "3                     The Dark Knight Rises   \n",
       "4                               John Carter   \n",
       "\n",
       "                                            overview  popularity  \\\n",
       "0  In the 22nd century, a paraplegic Marine is di...  150.437577   \n",
       "1  Captain Barbossa, long believed to be dead, ha...  139.082615   \n",
       "2  A cryptic message from Bond’s past sends him o...  107.376788   \n",
       "3  Following the death of District Attorney Harve...  112.312950   \n",
       "4  John Carter is a war-weary, former military ca...   43.926995   \n",
       "\n",
       "                                production_companies  \\\n",
       "0  [{\"name\": \"Ingenious Film Partners\", \"id\": 289...   \n",
       "1  [{\"name\": \"Walt Disney Pictures\", \"id\": 2}, {\"...   \n",
       "2  [{\"name\": \"Columbia Pictures\", \"id\": 5}, {\"nam...   \n",
       "3  [{\"name\": \"Legendary Pictures\", \"id\": 923}, {\"...   \n",
       "4        [{\"name\": \"Walt Disney Pictures\", \"id\": 2}]   \n",
       "\n",
       "                                production_countries release_date     revenue  \\\n",
       "0  [{\"iso_3166_1\": \"US\", \"name\": \"United States o...   2009-12-10  2787965087   \n",
       "1  [{\"iso_3166_1\": \"US\", \"name\": \"United States o...   2007-05-19   961000000   \n",
       "2  [{\"iso_3166_1\": \"GB\", \"name\": \"United Kingdom\"...   2015-10-26   880674609   \n",
       "3  [{\"iso_3166_1\": \"US\", \"name\": \"United States o...   2012-07-16  1084939099   \n",
       "4  [{\"iso_3166_1\": \"US\", \"name\": \"United States o...   2012-03-07   284139100   \n",
       "\n",
       "   runtime                                   spoken_languages    status  \\\n",
       "0    162.0  [{\"iso_639_1\": \"en\", \"name\": \"English\"}, {\"iso...  Released   \n",
       "1    169.0           [{\"iso_639_1\": \"en\", \"name\": \"English\"}]  Released   \n",
       "2    148.0  [{\"iso_639_1\": \"fr\", \"name\": \"Fran\\u00e7ais\"},...  Released   \n",
       "3    165.0           [{\"iso_639_1\": \"en\", \"name\": \"English\"}]  Released   \n",
       "4    132.0           [{\"iso_639_1\": \"en\", \"name\": \"English\"}]  Released   \n",
       "\n",
       "                                          tagline  \\\n",
       "0                     Enter the World of Pandora.   \n",
       "1  At the end of the world, the adventure begins.   \n",
       "2                           A Plan No One Escapes   \n",
       "3                                 The Legend Ends   \n",
       "4            Lost in our world, found in another.   \n",
       "\n",
       "                                      title  vote_average  vote_count  \n",
       "0                                    Avatar           7.2       11800  \n",
       "1  Pirates of the Caribbean: At World's End           6.9        4500  \n",
       "2                                   Spectre           6.3        4466  \n",
       "3                     The Dark Knight Rises           7.6        9106  \n",
       "4                               John Carter           6.1        2124  "
      ]
     },
     "execution_count": 90,
     "metadata": {},
     "output_type": "execute_result"
    }
   ],
   "source": [
    "movies_df.head()"
   ]
  },
  {
   "cell_type": "code",
   "execution_count": 91,
   "metadata": {},
   "outputs": [
    {
     "name": "stdout",
     "output_type": "stream",
     "text": [
      "Credits: (4803, 4)\n",
      "Movies Dataframe: (4803, 20)\n"
     ]
    }
   ],
   "source": [
    "print(\"Credits:\",credits.shape)\n",
    "print(\"Movies Dataframe:\",movies_df.shape)"
   ]
  },
  {
   "cell_type": "code",
   "execution_count": null,
   "metadata": {},
   "outputs": [],
   "source": []
  },
  {
   "cell_type": "code",
   "execution_count": 93,
   "metadata": {},
   "outputs": [
    {
     "data": {
      "text/html": [
       "<div>\n",
       "<style scoped>\n",
       "    .dataframe tbody tr th:only-of-type {\n",
       "        vertical-align: middle;\n",
       "    }\n",
       "\n",
       "    .dataframe tbody tr th {\n",
       "        vertical-align: top;\n",
       "    }\n",
       "\n",
       "    .dataframe thead th {\n",
       "        text-align: right;\n",
       "    }\n",
       "</style>\n",
       "<table border=\"1\" class=\"dataframe\">\n",
       "  <thead>\n",
       "    <tr style=\"text-align: right;\">\n",
       "      <th></th>\n",
       "      <th>budget</th>\n",
       "      <th>genres</th>\n",
       "      <th>homepage</th>\n",
       "      <th>id</th>\n",
       "      <th>keywords</th>\n",
       "      <th>original_language</th>\n",
       "      <th>original_title</th>\n",
       "      <th>overview</th>\n",
       "      <th>popularity</th>\n",
       "      <th>production_companies</th>\n",
       "      <th>...</th>\n",
       "      <th>runtime</th>\n",
       "      <th>spoken_languages</th>\n",
       "      <th>status</th>\n",
       "      <th>tagline</th>\n",
       "      <th>title_x</th>\n",
       "      <th>vote_average</th>\n",
       "      <th>vote_count</th>\n",
       "      <th>title_y</th>\n",
       "      <th>cast</th>\n",
       "      <th>crew</th>\n",
       "    </tr>\n",
       "  </thead>\n",
       "  <tbody>\n",
       "    <tr>\n",
       "      <th>0</th>\n",
       "      <td>237000000</td>\n",
       "      <td>[{\"id\": 28, \"name\": \"Action\"}, {\"id\": 12, \"nam...</td>\n",
       "      <td>http://www.avatarmovie.com/</td>\n",
       "      <td>19995</td>\n",
       "      <td>[{\"id\": 1463, \"name\": \"culture clash\"}, {\"id\":...</td>\n",
       "      <td>en</td>\n",
       "      <td>Avatar</td>\n",
       "      <td>In the 22nd century, a paraplegic Marine is di...</td>\n",
       "      <td>150.437577</td>\n",
       "      <td>[{\"name\": \"Ingenious Film Partners\", \"id\": 289...</td>\n",
       "      <td>...</td>\n",
       "      <td>162.0</td>\n",
       "      <td>[{\"iso_639_1\": \"en\", \"name\": \"English\"}, {\"iso...</td>\n",
       "      <td>Released</td>\n",
       "      <td>Enter the World of Pandora.</td>\n",
       "      <td>Avatar</td>\n",
       "      <td>7.2</td>\n",
       "      <td>11800</td>\n",
       "      <td>Avatar</td>\n",
       "      <td>[{\"cast_id\": 242, \"character\": \"Jake Sully\", \"...</td>\n",
       "      <td>[{\"credit_id\": \"52fe48009251416c750aca23\", \"de...</td>\n",
       "    </tr>\n",
       "    <tr>\n",
       "      <th>1</th>\n",
       "      <td>300000000</td>\n",
       "      <td>[{\"id\": 12, \"name\": \"Adventure\"}, {\"id\": 14, \"...</td>\n",
       "      <td>http://disney.go.com/disneypictures/pirates/</td>\n",
       "      <td>285</td>\n",
       "      <td>[{\"id\": 270, \"name\": \"ocean\"}, {\"id\": 726, \"na...</td>\n",
       "      <td>en</td>\n",
       "      <td>Pirates of the Caribbean: At World's End</td>\n",
       "      <td>Captain Barbossa, long believed to be dead, ha...</td>\n",
       "      <td>139.082615</td>\n",
       "      <td>[{\"name\": \"Walt Disney Pictures\", \"id\": 2}, {\"...</td>\n",
       "      <td>...</td>\n",
       "      <td>169.0</td>\n",
       "      <td>[{\"iso_639_1\": \"en\", \"name\": \"English\"}]</td>\n",
       "      <td>Released</td>\n",
       "      <td>At the end of the world, the adventure begins.</td>\n",
       "      <td>Pirates of the Caribbean: At World's End</td>\n",
       "      <td>6.9</td>\n",
       "      <td>4500</td>\n",
       "      <td>Pirates of the Caribbean: At World's End</td>\n",
       "      <td>[{\"cast_id\": 4, \"character\": \"Captain Jack Spa...</td>\n",
       "      <td>[{\"credit_id\": \"52fe4232c3a36847f800b579\", \"de...</td>\n",
       "    </tr>\n",
       "    <tr>\n",
       "      <th>2</th>\n",
       "      <td>245000000</td>\n",
       "      <td>[{\"id\": 28, \"name\": \"Action\"}, {\"id\": 12, \"nam...</td>\n",
       "      <td>http://www.sonypictures.com/movies/spectre/</td>\n",
       "      <td>206647</td>\n",
       "      <td>[{\"id\": 470, \"name\": \"spy\"}, {\"id\": 818, \"name...</td>\n",
       "      <td>en</td>\n",
       "      <td>Spectre</td>\n",
       "      <td>A cryptic message from Bond’s past sends him o...</td>\n",
       "      <td>107.376788</td>\n",
       "      <td>[{\"name\": \"Columbia Pictures\", \"id\": 5}, {\"nam...</td>\n",
       "      <td>...</td>\n",
       "      <td>148.0</td>\n",
       "      <td>[{\"iso_639_1\": \"fr\", \"name\": \"Fran\\u00e7ais\"},...</td>\n",
       "      <td>Released</td>\n",
       "      <td>A Plan No One Escapes</td>\n",
       "      <td>Spectre</td>\n",
       "      <td>6.3</td>\n",
       "      <td>4466</td>\n",
       "      <td>Spectre</td>\n",
       "      <td>[{\"cast_id\": 1, \"character\": \"James Bond\", \"cr...</td>\n",
       "      <td>[{\"credit_id\": \"54805967c3a36829b5002c41\", \"de...</td>\n",
       "    </tr>\n",
       "    <tr>\n",
       "      <th>3</th>\n",
       "      <td>250000000</td>\n",
       "      <td>[{\"id\": 28, \"name\": \"Action\"}, {\"id\": 80, \"nam...</td>\n",
       "      <td>http://www.thedarkknightrises.com/</td>\n",
       "      <td>49026</td>\n",
       "      <td>[{\"id\": 849, \"name\": \"dc comics\"}, {\"id\": 853,...</td>\n",
       "      <td>en</td>\n",
       "      <td>The Dark Knight Rises</td>\n",
       "      <td>Following the death of District Attorney Harve...</td>\n",
       "      <td>112.312950</td>\n",
       "      <td>[{\"name\": \"Legendary Pictures\", \"id\": 923}, {\"...</td>\n",
       "      <td>...</td>\n",
       "      <td>165.0</td>\n",
       "      <td>[{\"iso_639_1\": \"en\", \"name\": \"English\"}]</td>\n",
       "      <td>Released</td>\n",
       "      <td>The Legend Ends</td>\n",
       "      <td>The Dark Knight Rises</td>\n",
       "      <td>7.6</td>\n",
       "      <td>9106</td>\n",
       "      <td>The Dark Knight Rises</td>\n",
       "      <td>[{\"cast_id\": 2, \"character\": \"Bruce Wayne / Ba...</td>\n",
       "      <td>[{\"credit_id\": \"52fe4781c3a36847f81398c3\", \"de...</td>\n",
       "    </tr>\n",
       "    <tr>\n",
       "      <th>4</th>\n",
       "      <td>260000000</td>\n",
       "      <td>[{\"id\": 28, \"name\": \"Action\"}, {\"id\": 12, \"nam...</td>\n",
       "      <td>http://movies.disney.com/john-carter</td>\n",
       "      <td>49529</td>\n",
       "      <td>[{\"id\": 818, \"name\": \"based on novel\"}, {\"id\":...</td>\n",
       "      <td>en</td>\n",
       "      <td>John Carter</td>\n",
       "      <td>John Carter is a war-weary, former military ca...</td>\n",
       "      <td>43.926995</td>\n",
       "      <td>[{\"name\": \"Walt Disney Pictures\", \"id\": 2}]</td>\n",
       "      <td>...</td>\n",
       "      <td>132.0</td>\n",
       "      <td>[{\"iso_639_1\": \"en\", \"name\": \"English\"}]</td>\n",
       "      <td>Released</td>\n",
       "      <td>Lost in our world, found in another.</td>\n",
       "      <td>John Carter</td>\n",
       "      <td>6.1</td>\n",
       "      <td>2124</td>\n",
       "      <td>John Carter</td>\n",
       "      <td>[{\"cast_id\": 5, \"character\": \"John Carter\", \"c...</td>\n",
       "      <td>[{\"credit_id\": \"52fe479ac3a36847f813eaa3\", \"de...</td>\n",
       "    </tr>\n",
       "  </tbody>\n",
       "</table>\n",
       "<p>5 rows × 23 columns</p>\n",
       "</div>"
      ],
      "text/plain": [
       "      budget                                             genres  \\\n",
       "0  237000000  [{\"id\": 28, \"name\": \"Action\"}, {\"id\": 12, \"nam...   \n",
       "1  300000000  [{\"id\": 12, \"name\": \"Adventure\"}, {\"id\": 14, \"...   \n",
       "2  245000000  [{\"id\": 28, \"name\": \"Action\"}, {\"id\": 12, \"nam...   \n",
       "3  250000000  [{\"id\": 28, \"name\": \"Action\"}, {\"id\": 80, \"nam...   \n",
       "4  260000000  [{\"id\": 28, \"name\": \"Action\"}, {\"id\": 12, \"nam...   \n",
       "\n",
       "                                       homepage      id  \\\n",
       "0                   http://www.avatarmovie.com/   19995   \n",
       "1  http://disney.go.com/disneypictures/pirates/     285   \n",
       "2   http://www.sonypictures.com/movies/spectre/  206647   \n",
       "3            http://www.thedarkknightrises.com/   49026   \n",
       "4          http://movies.disney.com/john-carter   49529   \n",
       "\n",
       "                                            keywords original_language  \\\n",
       "0  [{\"id\": 1463, \"name\": \"culture clash\"}, {\"id\":...                en   \n",
       "1  [{\"id\": 270, \"name\": \"ocean\"}, {\"id\": 726, \"na...                en   \n",
       "2  [{\"id\": 470, \"name\": \"spy\"}, {\"id\": 818, \"name...                en   \n",
       "3  [{\"id\": 849, \"name\": \"dc comics\"}, {\"id\": 853,...                en   \n",
       "4  [{\"id\": 818, \"name\": \"based on novel\"}, {\"id\":...                en   \n",
       "\n",
       "                             original_title  \\\n",
       "0                                    Avatar   \n",
       "1  Pirates of the Caribbean: At World's End   \n",
       "2                                   Spectre   \n",
       "3                     The Dark Knight Rises   \n",
       "4                               John Carter   \n",
       "\n",
       "                                            overview  popularity  \\\n",
       "0  In the 22nd century, a paraplegic Marine is di...  150.437577   \n",
       "1  Captain Barbossa, long believed to be dead, ha...  139.082615   \n",
       "2  A cryptic message from Bond’s past sends him o...  107.376788   \n",
       "3  Following the death of District Attorney Harve...  112.312950   \n",
       "4  John Carter is a war-weary, former military ca...   43.926995   \n",
       "\n",
       "                                production_companies  ... runtime  \\\n",
       "0  [{\"name\": \"Ingenious Film Partners\", \"id\": 289...  ...   162.0   \n",
       "1  [{\"name\": \"Walt Disney Pictures\", \"id\": 2}, {\"...  ...   169.0   \n",
       "2  [{\"name\": \"Columbia Pictures\", \"id\": 5}, {\"nam...  ...   148.0   \n",
       "3  [{\"name\": \"Legendary Pictures\", \"id\": 923}, {\"...  ...   165.0   \n",
       "4        [{\"name\": \"Walt Disney Pictures\", \"id\": 2}]  ...   132.0   \n",
       "\n",
       "                                    spoken_languages    status  \\\n",
       "0  [{\"iso_639_1\": \"en\", \"name\": \"English\"}, {\"iso...  Released   \n",
       "1           [{\"iso_639_1\": \"en\", \"name\": \"English\"}]  Released   \n",
       "2  [{\"iso_639_1\": \"fr\", \"name\": \"Fran\\u00e7ais\"},...  Released   \n",
       "3           [{\"iso_639_1\": \"en\", \"name\": \"English\"}]  Released   \n",
       "4           [{\"iso_639_1\": \"en\", \"name\": \"English\"}]  Released   \n",
       "\n",
       "                                          tagline  \\\n",
       "0                     Enter the World of Pandora.   \n",
       "1  At the end of the world, the adventure begins.   \n",
       "2                           A Plan No One Escapes   \n",
       "3                                 The Legend Ends   \n",
       "4            Lost in our world, found in another.   \n",
       "\n",
       "                                    title_x vote_average vote_count  \\\n",
       "0                                    Avatar          7.2      11800   \n",
       "1  Pirates of the Caribbean: At World's End          6.9       4500   \n",
       "2                                   Spectre          6.3       4466   \n",
       "3                     The Dark Knight Rises          7.6       9106   \n",
       "4                               John Carter          6.1       2124   \n",
       "\n",
       "                                    title_y  \\\n",
       "0                                    Avatar   \n",
       "1  Pirates of the Caribbean: At World's End   \n",
       "2                                   Spectre   \n",
       "3                     The Dark Knight Rises   \n",
       "4                               John Carter   \n",
       "\n",
       "                                                cast  \\\n",
       "0  [{\"cast_id\": 242, \"character\": \"Jake Sully\", \"...   \n",
       "1  [{\"cast_id\": 4, \"character\": \"Captain Jack Spa...   \n",
       "2  [{\"cast_id\": 1, \"character\": \"James Bond\", \"cr...   \n",
       "3  [{\"cast_id\": 2, \"character\": \"Bruce Wayne / Ba...   \n",
       "4  [{\"cast_id\": 5, \"character\": \"John Carter\", \"c...   \n",
       "\n",
       "                                                crew  \n",
       "0  [{\"credit_id\": \"52fe48009251416c750aca23\", \"de...  \n",
       "1  [{\"credit_id\": \"52fe4232c3a36847f800b579\", \"de...  \n",
       "2  [{\"credit_id\": \"54805967c3a36829b5002c41\", \"de...  \n",
       "3  [{\"credit_id\": \"52fe4781c3a36847f81398c3\", \"de...  \n",
       "4  [{\"credit_id\": \"52fe479ac3a36847f813eaa3\", \"de...  \n",
       "\n",
       "[5 rows x 23 columns]"
      ]
     },
     "execution_count": 93,
     "metadata": {},
     "output_type": "execute_result"
    }
   ],
   "source": [
    "credits_column_renamed = credits.rename(columns={\"movie_id\": \"id\"})\n",
    "\n",
    "movies_df_merge = movies_df.merge(credits_column_renamed, on='id')\n",
    "movies_df_merge.head()"
   ]
  },
  {
   "cell_type": "code",
   "execution_count": 94,
   "metadata": {},
   "outputs": [
    {
     "data": {
      "text/plain": [
       "(4803, 23)"
      ]
     },
     "execution_count": 94,
     "metadata": {},
     "output_type": "execute_result"
    }
   ],
   "source": [
    "movies_df_merge.shape"
   ]
  },
  {
   "cell_type": "code",
   "execution_count": 95,
   "metadata": {},
   "outputs": [
    {
     "data": {
      "text/plain": [
       "Index(['budget', 'genres', 'homepage', 'id', 'keywords', 'original_language',\n",
       "       'original_title', 'overview', 'popularity', 'production_companies',\n",
       "       'production_countries', 'release_date', 'revenue', 'runtime',\n",
       "       'spoken_languages', 'status', 'tagline', 'title_x', 'vote_average',\n",
       "       'vote_count', 'title_y', 'cast', 'crew'],\n",
       "      dtype='object')"
      ]
     },
     "execution_count": 95,
     "metadata": {},
     "output_type": "execute_result"
    }
   ],
   "source": [
    "movies_df_merge.columns"
   ]
  },
  {
   "cell_type": "code",
   "execution_count": null,
   "metadata": {},
   "outputs": [],
   "source": []
  },
  {
   "cell_type": "code",
   "execution_count": 83,
   "metadata": {},
   "outputs": [
    {
     "data": {
      "text/html": [
       "<div>\n",
       "<style scoped>\n",
       "    .dataframe tbody tr th:only-of-type {\n",
       "        vertical-align: middle;\n",
       "    }\n",
       "\n",
       "    .dataframe tbody tr th {\n",
       "        vertical-align: top;\n",
       "    }\n",
       "\n",
       "    .dataframe thead th {\n",
       "        text-align: right;\n",
       "    }\n",
       "</style>\n",
       "<table border=\"1\" class=\"dataframe\">\n",
       "  <thead>\n",
       "    <tr style=\"text-align: right;\">\n",
       "      <th></th>\n",
       "      <th>budget</th>\n",
       "      <th>genres</th>\n",
       "      <th>id</th>\n",
       "      <th>keywords</th>\n",
       "      <th>original_language</th>\n",
       "      <th>original_title</th>\n",
       "      <th>overview</th>\n",
       "      <th>popularity</th>\n",
       "      <th>production_companies</th>\n",
       "      <th>release_date</th>\n",
       "      <th>revenue</th>\n",
       "      <th>runtime</th>\n",
       "      <th>spoken_languages</th>\n",
       "      <th>tagline</th>\n",
       "      <th>vote_average</th>\n",
       "      <th>vote_count</th>\n",
       "      <th>cast</th>\n",
       "      <th>crew</th>\n",
       "    </tr>\n",
       "  </thead>\n",
       "  <tbody>\n",
       "    <tr>\n",
       "      <th>0</th>\n",
       "      <td>237000000</td>\n",
       "      <td>[{\"id\": 28, \"name\": \"Action\"}, {\"id\": 12, \"nam...</td>\n",
       "      <td>19995</td>\n",
       "      <td>[{\"id\": 1463, \"name\": \"culture clash\"}, {\"id\":...</td>\n",
       "      <td>en</td>\n",
       "      <td>Avatar</td>\n",
       "      <td>In the 22nd century, a paraplegic Marine is di...</td>\n",
       "      <td>150.437577</td>\n",
       "      <td>[{\"name\": \"Ingenious Film Partners\", \"id\": 289...</td>\n",
       "      <td>2009-12-10</td>\n",
       "      <td>2787965087</td>\n",
       "      <td>162.0</td>\n",
       "      <td>[{\"iso_639_1\": \"en\", \"name\": \"English\"}, {\"iso...</td>\n",
       "      <td>Enter the World of Pandora.</td>\n",
       "      <td>7.2</td>\n",
       "      <td>11800</td>\n",
       "      <td>[{\"cast_id\": 242, \"character\": \"Jake Sully\", \"...</td>\n",
       "      <td>[{\"credit_id\": \"52fe48009251416c750aca23\", \"de...</td>\n",
       "    </tr>\n",
       "    <tr>\n",
       "      <th>1</th>\n",
       "      <td>300000000</td>\n",
       "      <td>[{\"id\": 12, \"name\": \"Adventure\"}, {\"id\": 14, \"...</td>\n",
       "      <td>285</td>\n",
       "      <td>[{\"id\": 270, \"name\": \"ocean\"}, {\"id\": 726, \"na...</td>\n",
       "      <td>en</td>\n",
       "      <td>Pirates of the Caribbean: At World's End</td>\n",
       "      <td>Captain Barbossa, long believed to be dead, ha...</td>\n",
       "      <td>139.082615</td>\n",
       "      <td>[{\"name\": \"Walt Disney Pictures\", \"id\": 2}, {\"...</td>\n",
       "      <td>2007-05-19</td>\n",
       "      <td>961000000</td>\n",
       "      <td>169.0</td>\n",
       "      <td>[{\"iso_639_1\": \"en\", \"name\": \"English\"}]</td>\n",
       "      <td>At the end of the world, the adventure begins.</td>\n",
       "      <td>6.9</td>\n",
       "      <td>4500</td>\n",
       "      <td>[{\"cast_id\": 4, \"character\": \"Captain Jack Spa...</td>\n",
       "      <td>[{\"credit_id\": \"52fe4232c3a36847f800b579\", \"de...</td>\n",
       "    </tr>\n",
       "    <tr>\n",
       "      <th>2</th>\n",
       "      <td>245000000</td>\n",
       "      <td>[{\"id\": 28, \"name\": \"Action\"}, {\"id\": 12, \"nam...</td>\n",
       "      <td>206647</td>\n",
       "      <td>[{\"id\": 470, \"name\": \"spy\"}, {\"id\": 818, \"name...</td>\n",
       "      <td>en</td>\n",
       "      <td>Spectre</td>\n",
       "      <td>A cryptic message from Bond’s past sends him o...</td>\n",
       "      <td>107.376788</td>\n",
       "      <td>[{\"name\": \"Columbia Pictures\", \"id\": 5}, {\"nam...</td>\n",
       "      <td>2015-10-26</td>\n",
       "      <td>880674609</td>\n",
       "      <td>148.0</td>\n",
       "      <td>[{\"iso_639_1\": \"fr\", \"name\": \"Fran\\u00e7ais\"},...</td>\n",
       "      <td>A Plan No One Escapes</td>\n",
       "      <td>6.3</td>\n",
       "      <td>4466</td>\n",
       "      <td>[{\"cast_id\": 1, \"character\": \"James Bond\", \"cr...</td>\n",
       "      <td>[{\"credit_id\": \"54805967c3a36829b5002c41\", \"de...</td>\n",
       "    </tr>\n",
       "    <tr>\n",
       "      <th>3</th>\n",
       "      <td>250000000</td>\n",
       "      <td>[{\"id\": 28, \"name\": \"Action\"}, {\"id\": 80, \"nam...</td>\n",
       "      <td>49026</td>\n",
       "      <td>[{\"id\": 849, \"name\": \"dc comics\"}, {\"id\": 853,...</td>\n",
       "      <td>en</td>\n",
       "      <td>The Dark Knight Rises</td>\n",
       "      <td>Following the death of District Attorney Harve...</td>\n",
       "      <td>112.312950</td>\n",
       "      <td>[{\"name\": \"Legendary Pictures\", \"id\": 923}, {\"...</td>\n",
       "      <td>2012-07-16</td>\n",
       "      <td>1084939099</td>\n",
       "      <td>165.0</td>\n",
       "      <td>[{\"iso_639_1\": \"en\", \"name\": \"English\"}]</td>\n",
       "      <td>The Legend Ends</td>\n",
       "      <td>7.6</td>\n",
       "      <td>9106</td>\n",
       "      <td>[{\"cast_id\": 2, \"character\": \"Bruce Wayne / Ba...</td>\n",
       "      <td>[{\"credit_id\": \"52fe4781c3a36847f81398c3\", \"de...</td>\n",
       "    </tr>\n",
       "    <tr>\n",
       "      <th>4</th>\n",
       "      <td>260000000</td>\n",
       "      <td>[{\"id\": 28, \"name\": \"Action\"}, {\"id\": 12, \"nam...</td>\n",
       "      <td>49529</td>\n",
       "      <td>[{\"id\": 818, \"name\": \"based on novel\"}, {\"id\":...</td>\n",
       "      <td>en</td>\n",
       "      <td>John Carter</td>\n",
       "      <td>John Carter is a war-weary, former military ca...</td>\n",
       "      <td>43.926995</td>\n",
       "      <td>[{\"name\": \"Walt Disney Pictures\", \"id\": 2}]</td>\n",
       "      <td>2012-03-07</td>\n",
       "      <td>284139100</td>\n",
       "      <td>132.0</td>\n",
       "      <td>[{\"iso_639_1\": \"en\", \"name\": \"English\"}]</td>\n",
       "      <td>Lost in our world, found in another.</td>\n",
       "      <td>6.1</td>\n",
       "      <td>2124</td>\n",
       "      <td>[{\"cast_id\": 5, \"character\": \"John Carter\", \"c...</td>\n",
       "      <td>[{\"credit_id\": \"52fe479ac3a36847f813eaa3\", \"de...</td>\n",
       "    </tr>\n",
       "  </tbody>\n",
       "</table>\n",
       "</div>"
      ],
      "text/plain": [
       "      budget                                             genres      id  \\\n",
       "0  237000000  [{\"id\": 28, \"name\": \"Action\"}, {\"id\": 12, \"nam...   19995   \n",
       "1  300000000  [{\"id\": 12, \"name\": \"Adventure\"}, {\"id\": 14, \"...     285   \n",
       "2  245000000  [{\"id\": 28, \"name\": \"Action\"}, {\"id\": 12, \"nam...  206647   \n",
       "3  250000000  [{\"id\": 28, \"name\": \"Action\"}, {\"id\": 80, \"nam...   49026   \n",
       "4  260000000  [{\"id\": 28, \"name\": \"Action\"}, {\"id\": 12, \"nam...   49529   \n",
       "\n",
       "                                            keywords original_language  \\\n",
       "0  [{\"id\": 1463, \"name\": \"culture clash\"}, {\"id\":...                en   \n",
       "1  [{\"id\": 270, \"name\": \"ocean\"}, {\"id\": 726, \"na...                en   \n",
       "2  [{\"id\": 470, \"name\": \"spy\"}, {\"id\": 818, \"name...                en   \n",
       "3  [{\"id\": 849, \"name\": \"dc comics\"}, {\"id\": 853,...                en   \n",
       "4  [{\"id\": 818, \"name\": \"based on novel\"}, {\"id\":...                en   \n",
       "\n",
       "                             original_title  \\\n",
       "0                                    Avatar   \n",
       "1  Pirates of the Caribbean: At World's End   \n",
       "2                                   Spectre   \n",
       "3                     The Dark Knight Rises   \n",
       "4                               John Carter   \n",
       "\n",
       "                                            overview  popularity  \\\n",
       "0  In the 22nd century, a paraplegic Marine is di...  150.437577   \n",
       "1  Captain Barbossa, long believed to be dead, ha...  139.082615   \n",
       "2  A cryptic message from Bond’s past sends him o...  107.376788   \n",
       "3  Following the death of District Attorney Harve...  112.312950   \n",
       "4  John Carter is a war-weary, former military ca...   43.926995   \n",
       "\n",
       "                                production_companies release_date     revenue  \\\n",
       "0  [{\"name\": \"Ingenious Film Partners\", \"id\": 289...   2009-12-10  2787965087   \n",
       "1  [{\"name\": \"Walt Disney Pictures\", \"id\": 2}, {\"...   2007-05-19   961000000   \n",
       "2  [{\"name\": \"Columbia Pictures\", \"id\": 5}, {\"nam...   2015-10-26   880674609   \n",
       "3  [{\"name\": \"Legendary Pictures\", \"id\": 923}, {\"...   2012-07-16  1084939099   \n",
       "4        [{\"name\": \"Walt Disney Pictures\", \"id\": 2}]   2012-03-07   284139100   \n",
       "\n",
       "   runtime                                   spoken_languages  \\\n",
       "0    162.0  [{\"iso_639_1\": \"en\", \"name\": \"English\"}, {\"iso...   \n",
       "1    169.0           [{\"iso_639_1\": \"en\", \"name\": \"English\"}]   \n",
       "2    148.0  [{\"iso_639_1\": \"fr\", \"name\": \"Fran\\u00e7ais\"},...   \n",
       "3    165.0           [{\"iso_639_1\": \"en\", \"name\": \"English\"}]   \n",
       "4    132.0           [{\"iso_639_1\": \"en\", \"name\": \"English\"}]   \n",
       "\n",
       "                                          tagline  vote_average  vote_count  \\\n",
       "0                     Enter the World of Pandora.           7.2       11800   \n",
       "1  At the end of the world, the adventure begins.           6.9        4500   \n",
       "2                           A Plan No One Escapes           6.3        4466   \n",
       "3                                 The Legend Ends           7.6        9106   \n",
       "4            Lost in our world, found in another.           6.1        2124   \n",
       "\n",
       "                                                cast  \\\n",
       "0  [{\"cast_id\": 242, \"character\": \"Jake Sully\", \"...   \n",
       "1  [{\"cast_id\": 4, \"character\": \"Captain Jack Spa...   \n",
       "2  [{\"cast_id\": 1, \"character\": \"James Bond\", \"cr...   \n",
       "3  [{\"cast_id\": 2, \"character\": \"Bruce Wayne / Ba...   \n",
       "4  [{\"cast_id\": 5, \"character\": \"John Carter\", \"c...   \n",
       "\n",
       "                                                crew  \n",
       "0  [{\"credit_id\": \"52fe48009251416c750aca23\", \"de...  \n",
       "1  [{\"credit_id\": \"52fe4232c3a36847f800b579\", \"de...  \n",
       "2  [{\"credit_id\": \"54805967c3a36829b5002c41\", \"de...  \n",
       "3  [{\"credit_id\": \"52fe4781c3a36847f81398c3\", \"de...  \n",
       "4  [{\"credit_id\": \"52fe479ac3a36847f813eaa3\", \"de...  "
      ]
     },
     "execution_count": 83,
     "metadata": {},
     "output_type": "execute_result"
    }
   ],
   "source": [
    "movies_cleaned_df = movies_df_merge.drop(columns=['homepage', 'title_x', 'title_y', 'status','production_countries'])\n",
    "movies_cleaned_df.head()"
   ]
  },
  {
   "cell_type": "code",
   "execution_count": 84,
   "metadata": {},
   "outputs": [
    {
     "name": "stdout",
     "output_type": "stream",
     "text": [
      "<class 'pandas.core.frame.DataFrame'>\n",
      "Int64Index: 4803 entries, 0 to 4802\n",
      "Data columns (total 18 columns):\n",
      " #   Column                Non-Null Count  Dtype  \n",
      "---  ------                --------------  -----  \n",
      " 0   budget                4803 non-null   int64  \n",
      " 1   genres                4803 non-null   object \n",
      " 2   id                    4803 non-null   int64  \n",
      " 3   keywords              4803 non-null   object \n",
      " 4   original_language     4803 non-null   object \n",
      " 5   original_title        4803 non-null   object \n",
      " 6   overview              4800 non-null   object \n",
      " 7   popularity            4803 non-null   float64\n",
      " 8   production_companies  4803 non-null   object \n",
      " 9   release_date          4802 non-null   object \n",
      " 10  revenue               4803 non-null   int64  \n",
      " 11  runtime               4801 non-null   float64\n",
      " 12  spoken_languages      4803 non-null   object \n",
      " 13  tagline               3959 non-null   object \n",
      " 14  vote_average          4803 non-null   float64\n",
      " 15  vote_count            4803 non-null   int64  \n",
      " 16  cast                  4803 non-null   object \n",
      " 17  crew                  4803 non-null   object \n",
      "dtypes: float64(3), int64(4), object(11)\n",
      "memory usage: 712.9+ KB\n"
     ]
    }
   ],
   "source": [
    "movies_cleaned_df.info()"
   ]
  },
  {
   "cell_type": "code",
   "execution_count": 85,
   "metadata": {},
   "outputs": [],
   "source": [
    "movies_cleaned_df.to_csv(r'F:\\Data_science_projects\\Recommendation_sytem/clean_data.csv',index=False)"
   ]
  },
  {
   "cell_type": "code",
   "execution_count": null,
   "metadata": {},
   "outputs": [],
   "source": []
  },
  {
   "cell_type": "markdown",
   "metadata": {},
   "source": [
    "### Recommend movies to users Using Weighted average "
   ]
  },
  {
   "cell_type": "code",
   "execution_count": null,
   "metadata": {},
   "outputs": [],
   "source": []
  },
  {
   "cell_type": "raw",
   "metadata": {},
   "source": [
    "Weighted average rating for each movie is calculated as below:"
   ]
  },
  {
   "attachments": {
    "image.png": {
     "image/png": "[encoded data removed]"
    }
   },
   "cell_type": "markdown",
   "metadata": {},
   "source": [
    "![image.png](attachment:image.png)\n",
    "\n",
    "\n",
    "                  Source: http://trailerpark.weebly.com/imdb-rating.html?source=post_page---------------------------"
   ]
  },
  {
   "cell_type": "raw",
   "metadata": {},
   "source": [
    "v = no of votes for movie\n",
    "m = the minimum votes required to be listed in the chart (Often works as filter)\n",
    "R = the average rating of the movie\n",
    "C = mean vote across the whole report"
   ]
  },
  {
   "cell_type": "code",
   "execution_count": null,
   "metadata": {},
   "outputs": [],
   "source": []
  },
  {
   "cell_type": "code",
   "execution_count": 11,
   "metadata": {},
   "outputs": [],
   "source": [
    "# Calculate all the components based on the above formula\n",
    "v=movies_cleaned_df['vote_count']\n",
    "R=movies_cleaned_df['vote_average']\n",
    "C=movies_cleaned_df['vote_average'].mean()\n"
   ]
  },
  {
   "cell_type": "code",
   "execution_count": 12,
   "metadata": {},
   "outputs": [
    {
     "data": {
      "text/plain": [
       "6.092171559442011"
      ]
     },
     "execution_count": 12,
     "metadata": {},
     "output_type": "execute_result"
    }
   ],
   "source": [
    "C\n",
    "\n",
    "### So, the mean rating for all the movies is approx 6.09 on a scale of 10"
   ]
  },
  {
   "cell_type": "code",
   "execution_count": 14,
   "metadata": {},
   "outputs": [
    {
     "data": {
      "text/plain": [
       "1838.4000000000015"
      ]
     },
     "execution_count": 14,
     "metadata": {},
     "output_type": "execute_result"
    }
   ],
   "source": [
    "\n",
    "#### The next step is to determine an appropriate value for m, the minimum votes required to be listed in the chart. \n",
    "#### We will use 90th percentile as our cutoff. In other words, for a movie to feature in the charts, \n",
    "#### it must have more votes than at least 90% of the movies in the list.\n",
    "\n",
    "\n",
    "movies_cleaned_df['vote_count'].quantile(0.9)\n",
    "\n",
    "\n",
    "#ie movies whose vote count are greater than 90% of total votes,so above of 90 we will consider all"
   ]
  },
  {
   "cell_type": "code",
   "execution_count": null,
   "metadata": {},
   "outputs": [],
   "source": []
  },
  {
   "cell_type": "code",
   "execution_count": null,
   "metadata": {},
   "outputs": [],
   "source": []
  },
  {
   "cell_type": "code",
   "execution_count": 19,
   "metadata": {},
   "outputs": [
    {
     "data": {
      "text/plain": [
       "<matplotlib.axes._subplots.AxesSubplot at 0xafa1c9f308>"
      ]
     },
     "execution_count": 19,
     "metadata": {},
     "output_type": "execute_result"
    },
    {
     "data": {
      "image/png": "[encoded data removed]",
      "text/plain": [
       "<Figure size 720x432 with 1 Axes>"
      ]
     },
     "metadata": {
      "needs_background": "light"
     },
     "output_type": "display_data"
    }
   ],
   "source": [
    "import seaborn as sns\n",
    "import matplotlib.pyplot as plt\n",
    "plt.figure(figsize=(10,6))\n",
    "sns.boxplot(movies_cleaned_df['vote_count'])"
   ]
  },
  {
   "cell_type": "code",
   "execution_count": null,
   "metadata": {},
   "outputs": [],
   "source": []
  },
  {
   "cell_type": "code",
   "execution_count": 25,
   "metadata": {},
   "outputs": [],
   "source": [
    "threshold=movies_cleaned_df['vote_count'].quantile(0.90)\n",
    "df=movies_cleaned_df[movies_cleaned_df['vote_count']>=threshold]"
   ]
  },
  {
   "cell_type": "code",
   "execution_count": 27,
   "metadata": {},
   "outputs": [
    {
     "data": {
      "text/plain": [
       "(4803, 19)"
      ]
     },
     "execution_count": 27,
     "metadata": {},
     "output_type": "execute_result"
    }
   ],
   "source": [
    "movies_cleaned_df.shape"
   ]
  },
  {
   "cell_type": "code",
   "execution_count": 26,
   "metadata": {},
   "outputs": [
    {
     "data": {
      "text/plain": [
       "(481, 19)"
      ]
     },
     "execution_count": 26,
     "metadata": {},
     "output_type": "execute_result"
    }
   ],
   "source": [
    "df.shape"
   ]
  },
  {
   "cell_type": "code",
   "execution_count": null,
   "metadata": {},
   "outputs": [],
   "source": []
  },
  {
   "cell_type": "code",
   "execution_count": 28,
   "metadata": {},
   "outputs": [],
   "source": [
    "def weighted_avg_rating(x, m=m, C=C):\n",
    "    v = x['vote_count']\n",
    "    R = x['vote_average']\n",
    "    # Calculation based on the IMDB formula\n",
    "    return ((R*v)+ (C*m))/(v+m)"
   ]
  },
  {
   "cell_type": "code",
   "execution_count": 30,
   "metadata": {},
   "outputs": [
    {
     "data": {
      "text/plain": [
       "0       7.050669\n",
       "1       6.665696\n",
       "2       6.239396\n",
       "3       7.346721\n",
       "4       6.096368\n",
       "          ...   \n",
       "4291    6.693677\n",
       "4300    7.366378\n",
       "4302    7.210428\n",
       "4337    7.198026\n",
       "4602    7.210563\n",
       "Length: 481, dtype: float64"
      ]
     },
     "execution_count": 30,
     "metadata": {},
     "output_type": "execute_result"
    }
   ],
   "source": [
    "df.apply(weighted_avg_rating, axis=1)"
   ]
  },
  {
   "cell_type": "code",
   "execution_count": 32,
   "metadata": {},
   "outputs": [
    {
     "name": "stderr",
     "output_type": "stream",
     "text": [
      "<ipython-input-32-3376afa59417>:2: SettingWithCopyWarning: \n",
      "A value is trying to be set on a copy of a slice from a DataFrame.\n",
      "Try using .loc[row_indexer,col_indexer] = value instead\n",
      "\n",
      "See the caveats in the documentation: https://pandas.pydata.org/pandas-docs/stable/user_guide/indexing.html#returning-a-view-versus-a-copy\n",
      "  df['weighted_avg'] = df.apply(weighted_avg_rating, axis=1)\n"
     ]
    }
   ],
   "source": [
    "# Define a new feature 'score' and calculate its value with `weighted_rating()`\n",
    "df['weighted_avg'] = df.apply(weighted_avg_rating, axis=1)"
   ]
  },
  {
   "cell_type": "code",
   "execution_count": null,
   "metadata": {},
   "outputs": [],
   "source": []
  },
  {
   "cell_type": "code",
   "execution_count": 21,
   "metadata": {},
   "outputs": [],
   "source": [
    "### df['weighted_average']=((R*v)+ (C*m))/(v+m)"
   ]
  },
  {
   "cell_type": "code",
   "execution_count": 33,
   "metadata": {},
   "outputs": [
    {
     "data": {
      "text/html": [
       "<div>\n",
       "<style scoped>\n",
       "    .dataframe tbody tr th:only-of-type {\n",
       "        vertical-align: middle;\n",
       "    }\n",
       "\n",
       "    .dataframe tbody tr th {\n",
       "        vertical-align: top;\n",
       "    }\n",
       "\n",
       "    .dataframe thead th {\n",
       "        text-align: right;\n",
       "    }\n",
       "</style>\n",
       "<table border=\"1\" class=\"dataframe\">\n",
       "  <thead>\n",
       "    <tr style=\"text-align: right;\">\n",
       "      <th></th>\n",
       "      <th>budget</th>\n",
       "      <th>genres</th>\n",
       "      <th>id</th>\n",
       "      <th>keywords</th>\n",
       "      <th>original_language</th>\n",
       "      <th>original_title</th>\n",
       "      <th>overview</th>\n",
       "      <th>popularity</th>\n",
       "      <th>production_companies</th>\n",
       "      <th>release_date</th>\n",
       "      <th>revenue</th>\n",
       "      <th>runtime</th>\n",
       "      <th>spoken_languages</th>\n",
       "      <th>tagline</th>\n",
       "      <th>vote_average</th>\n",
       "      <th>vote_count</th>\n",
       "      <th>cast</th>\n",
       "      <th>crew</th>\n",
       "      <th>weighted_average</th>\n",
       "      <th>weighted_avg</th>\n",
       "    </tr>\n",
       "  </thead>\n",
       "  <tbody>\n",
       "    <tr>\n",
       "      <th>0</th>\n",
       "      <td>237000000</td>\n",
       "      <td>[{\"id\": 28, \"name\": \"Action\"}, {\"id\": 12, \"nam...</td>\n",
       "      <td>19995</td>\n",
       "      <td>[{\"id\": 1463, \"name\": \"culture clash\"}, {\"id\":...</td>\n",
       "      <td>en</td>\n",
       "      <td>Avatar</td>\n",
       "      <td>In the 22nd century, a paraplegic Marine is di...</td>\n",
       "      <td>150.437577</td>\n",
       "      <td>[{\"name\": \"Ingenious Film Partners\", \"id\": 289...</td>\n",
       "      <td>2009-12-10</td>\n",
       "      <td>2787965087</td>\n",
       "      <td>162.0</td>\n",
       "      <td>[{\"iso_639_1\": \"en\", \"name\": \"English\"}, {\"iso...</td>\n",
       "      <td>Enter the World of Pandora.</td>\n",
       "      <td>7.2</td>\n",
       "      <td>11800</td>\n",
       "      <td>[{\"cast_id\": 242, \"character\": \"Jake Sully\", \"...</td>\n",
       "      <td>[{\"credit_id\": \"52fe48009251416c750aca23\", \"de...</td>\n",
       "      <td>7.050669</td>\n",
       "      <td>7.050669</td>\n",
       "    </tr>\n",
       "    <tr>\n",
       "      <th>1</th>\n",
       "      <td>300000000</td>\n",
       "      <td>[{\"id\": 12, \"name\": \"Adventure\"}, {\"id\": 14, \"...</td>\n",
       "      <td>285</td>\n",
       "      <td>[{\"id\": 270, \"name\": \"ocean\"}, {\"id\": 726, \"na...</td>\n",
       "      <td>en</td>\n",
       "      <td>Pirates of the Caribbean: At World's End</td>\n",
       "      <td>Captain Barbossa, long believed to be dead, ha...</td>\n",
       "      <td>139.082615</td>\n",
       "      <td>[{\"name\": \"Walt Disney Pictures\", \"id\": 2}, {\"...</td>\n",
       "      <td>2007-05-19</td>\n",
       "      <td>961000000</td>\n",
       "      <td>169.0</td>\n",
       "      <td>[{\"iso_639_1\": \"en\", \"name\": \"English\"}]</td>\n",
       "      <td>At the end of the world, the adventure begins.</td>\n",
       "      <td>6.9</td>\n",
       "      <td>4500</td>\n",
       "      <td>[{\"cast_id\": 4, \"character\": \"Captain Jack Spa...</td>\n",
       "      <td>[{\"credit_id\": \"52fe4232c3a36847f800b579\", \"de...</td>\n",
       "      <td>6.665696</td>\n",
       "      <td>6.665696</td>\n",
       "    </tr>\n",
       "  </tbody>\n",
       "</table>\n",
       "</div>"
      ],
      "text/plain": [
       "      budget                                             genres     id  \\\n",
       "0  237000000  [{\"id\": 28, \"name\": \"Action\"}, {\"id\": 12, \"nam...  19995   \n",
       "1  300000000  [{\"id\": 12, \"name\": \"Adventure\"}, {\"id\": 14, \"...    285   \n",
       "\n",
       "                                            keywords original_language  \\\n",
       "0  [{\"id\": 1463, \"name\": \"culture clash\"}, {\"id\":...                en   \n",
       "1  [{\"id\": 270, \"name\": \"ocean\"}, {\"id\": 726, \"na...                en   \n",
       "\n",
       "                             original_title  \\\n",
       "0                                    Avatar   \n",
       "1  Pirates of the Caribbean: At World's End   \n",
       "\n",
       "                                            overview  popularity  \\\n",
       "0  In the 22nd century, a paraplegic Marine is di...  150.437577   \n",
       "1  Captain Barbossa, long believed to be dead, ha...  139.082615   \n",
       "\n",
       "                                production_companies release_date     revenue  \\\n",
       "0  [{\"name\": \"Ingenious Film Partners\", \"id\": 289...   2009-12-10  2787965087   \n",
       "1  [{\"name\": \"Walt Disney Pictures\", \"id\": 2}, {\"...   2007-05-19   961000000   \n",
       "\n",
       "   runtime                                   spoken_languages  \\\n",
       "0    162.0  [{\"iso_639_1\": \"en\", \"name\": \"English\"}, {\"iso...   \n",
       "1    169.0           [{\"iso_639_1\": \"en\", \"name\": \"English\"}]   \n",
       "\n",
       "                                          tagline  vote_average  vote_count  \\\n",
       "0                     Enter the World of Pandora.           7.2       11800   \n",
       "1  At the end of the world, the adventure begins.           6.9        4500   \n",
       "\n",
       "                                                cast  \\\n",
       "0  [{\"cast_id\": 242, \"character\": \"Jake Sully\", \"...   \n",
       "1  [{\"cast_id\": 4, \"character\": \"Captain Jack Spa...   \n",
       "\n",
       "                                                crew  weighted_average  \\\n",
       "0  [{\"credit_id\": \"52fe48009251416c750aca23\", \"de...          7.050669   \n",
       "1  [{\"credit_id\": \"52fe4232c3a36847f800b579\", \"de...          6.665696   \n",
       "\n",
       "   weighted_avg  \n",
       "0      7.050669  \n",
       "1      6.665696  "
      ]
     },
     "execution_count": 33,
     "metadata": {},
     "output_type": "execute_result"
    }
   ],
   "source": [
    "df.head(2)"
   ]
  },
  {
   "cell_type": "code",
   "execution_count": null,
   "metadata": {},
   "outputs": [],
   "source": []
  },
  {
   "cell_type": "code",
   "execution_count": null,
   "metadata": {},
   "outputs": [],
   "source": []
  },
  {
   "cell_type": "code",
   "execution_count": 34,
   "metadata": {},
   "outputs": [],
   "source": [
    "df_sorted_ranking=df.sort_values('weighted_average',ascending=False)\n"
   ]
  },
  {
   "cell_type": "code",
   "execution_count": 35,
   "metadata": {},
   "outputs": [
    {
     "data": {
      "text/html": [
       "<div>\n",
       "<style scoped>\n",
       "    .dataframe tbody tr th:only-of-type {\n",
       "        vertical-align: middle;\n",
       "    }\n",
       "\n",
       "    .dataframe tbody tr th {\n",
       "        vertical-align: top;\n",
       "    }\n",
       "\n",
       "    .dataframe thead th {\n",
       "        text-align: right;\n",
       "    }\n",
       "</style>\n",
       "<table border=\"1\" class=\"dataframe\">\n",
       "  <thead>\n",
       "    <tr style=\"text-align: right;\">\n",
       "      <th></th>\n",
       "      <th>original_title</th>\n",
       "      <th>vote_count</th>\n",
       "      <th>vote_average</th>\n",
       "      <th>weighted_average</th>\n",
       "      <th>popularity</th>\n",
       "    </tr>\n",
       "  </thead>\n",
       "  <tbody>\n",
       "    <tr>\n",
       "      <th>1881</th>\n",
       "      <td>The Shawshank Redemption</td>\n",
       "      <td>8205</td>\n",
       "      <td>8.5</td>\n",
       "      <td>8.059258</td>\n",
       "      <td>136.747729</td>\n",
       "    </tr>\n",
       "    <tr>\n",
       "      <th>662</th>\n",
       "      <td>Fight Club</td>\n",
       "      <td>9413</td>\n",
       "      <td>8.3</td>\n",
       "      <td>7.939256</td>\n",
       "      <td>146.757391</td>\n",
       "    </tr>\n",
       "    <tr>\n",
       "      <th>65</th>\n",
       "      <td>The Dark Knight</td>\n",
       "      <td>12002</td>\n",
       "      <td>8.2</td>\n",
       "      <td>7.920020</td>\n",
       "      <td>187.322927</td>\n",
       "    </tr>\n",
       "    <tr>\n",
       "      <th>3232</th>\n",
       "      <td>Pulp Fiction</td>\n",
       "      <td>8428</td>\n",
       "      <td>8.3</td>\n",
       "      <td>7.904645</td>\n",
       "      <td>121.463076</td>\n",
       "    </tr>\n",
       "    <tr>\n",
       "      <th>96</th>\n",
       "      <td>Inception</td>\n",
       "      <td>13752</td>\n",
       "      <td>8.1</td>\n",
       "      <td>7.863239</td>\n",
       "      <td>167.583710</td>\n",
       "    </tr>\n",
       "    <tr>\n",
       "      <th>3337</th>\n",
       "      <td>The Godfather</td>\n",
       "      <td>5893</td>\n",
       "      <td>8.4</td>\n",
       "      <td>7.851236</td>\n",
       "      <td>143.659698</td>\n",
       "    </tr>\n",
       "    <tr>\n",
       "      <th>95</th>\n",
       "      <td>Interstellar</td>\n",
       "      <td>10867</td>\n",
       "      <td>8.1</td>\n",
       "      <td>7.809479</td>\n",
       "      <td>724.247784</td>\n",
       "    </tr>\n",
       "    <tr>\n",
       "      <th>809</th>\n",
       "      <td>Forrest Gump</td>\n",
       "      <td>7927</td>\n",
       "      <td>8.2</td>\n",
       "      <td>7.803188</td>\n",
       "      <td>138.133331</td>\n",
       "    </tr>\n",
       "    <tr>\n",
       "      <th>329</th>\n",
       "      <td>The Lord of the Rings: The Return of the King</td>\n",
       "      <td>8064</td>\n",
       "      <td>8.1</td>\n",
       "      <td>7.727243</td>\n",
       "      <td>123.630332</td>\n",
       "    </tr>\n",
       "    <tr>\n",
       "      <th>1990</th>\n",
       "      <td>The Empire Strikes Back</td>\n",
       "      <td>5879</td>\n",
       "      <td>8.2</td>\n",
       "      <td>7.697884</td>\n",
       "      <td>78.517830</td>\n",
       "    </tr>\n",
       "    <tr>\n",
       "      <th>262</th>\n",
       "      <td>The Lord of the Rings: The Fellowship of the Ring</td>\n",
       "      <td>8705</td>\n",
       "      <td>8.0</td>\n",
       "      <td>7.667341</td>\n",
       "      <td>138.049577</td>\n",
       "    </tr>\n",
       "    <tr>\n",
       "      <th>2912</th>\n",
       "      <td>Star Wars</td>\n",
       "      <td>6624</td>\n",
       "      <td>8.1</td>\n",
       "      <td>7.663813</td>\n",
       "      <td>126.393695</td>\n",
       "    </tr>\n",
       "    <tr>\n",
       "      <th>1818</th>\n",
       "      <td>Schindler's List</td>\n",
       "      <td>4329</td>\n",
       "      <td>8.3</td>\n",
       "      <td>7.641883</td>\n",
       "      <td>104.469351</td>\n",
       "    </tr>\n",
       "    <tr>\n",
       "      <th>3865</th>\n",
       "      <td>Whiplash</td>\n",
       "      <td>4254</td>\n",
       "      <td>8.3</td>\n",
       "      <td>7.633781</td>\n",
       "      <td>192.528841</td>\n",
       "    </tr>\n",
       "    <tr>\n",
       "      <th>330</th>\n",
       "      <td>The Lord of the Rings: The Two Towers</td>\n",
       "      <td>7487</td>\n",
       "      <td>8.0</td>\n",
       "      <td>7.623893</td>\n",
       "      <td>106.914973</td>\n",
       "    </tr>\n",
       "    <tr>\n",
       "      <th>1553</th>\n",
       "      <td>Se7en</td>\n",
       "      <td>5765</td>\n",
       "      <td>8.1</td>\n",
       "      <td>7.614534</td>\n",
       "      <td>79.579532</td>\n",
       "    </tr>\n",
       "    <tr>\n",
       "      <th>94</th>\n",
       "      <td>Guardians of the Galaxy</td>\n",
       "      <td>9742</td>\n",
       "      <td>7.9</td>\n",
       "      <td>7.613005</td>\n",
       "      <td>481.098624</td>\n",
       "    </tr>\n",
       "    <tr>\n",
       "      <th>634</th>\n",
       "      <td>The Matrix</td>\n",
       "      <td>8907</td>\n",
       "      <td>7.9</td>\n",
       "      <td>7.590704</td>\n",
       "      <td>104.309993</td>\n",
       "    </tr>\n",
       "    <tr>\n",
       "      <th>2294</th>\n",
       "      <td>千と千尋の神隠し</td>\n",
       "      <td>3840</td>\n",
       "      <td>8.3</td>\n",
       "      <td>7.585209</td>\n",
       "      <td>118.968562</td>\n",
       "    </tr>\n",
       "    <tr>\n",
       "      <th>77</th>\n",
       "      <td>Inside Out</td>\n",
       "      <td>6560</td>\n",
       "      <td>8.0</td>\n",
       "      <td>7.582379</td>\n",
       "      <td>128.655964</td>\n",
       "    </tr>\n",
       "  </tbody>\n",
       "</table>\n",
       "</div>"
      ],
      "text/plain": [
       "                                         original_title  vote_count  \\\n",
       "1881                           The Shawshank Redemption        8205   \n",
       "662                                          Fight Club        9413   \n",
       "65                                      The Dark Knight       12002   \n",
       "3232                                       Pulp Fiction        8428   \n",
       "96                                            Inception       13752   \n",
       "3337                                      The Godfather        5893   \n",
       "95                                         Interstellar       10867   \n",
       "809                                        Forrest Gump        7927   \n",
       "329       The Lord of the Rings: The Return of the King        8064   \n",
       "1990                            The Empire Strikes Back        5879   \n",
       "262   The Lord of the Rings: The Fellowship of the Ring        8705   \n",
       "2912                                          Star Wars        6624   \n",
       "1818                                   Schindler's List        4329   \n",
       "3865                                           Whiplash        4254   \n",
       "330               The Lord of the Rings: The Two Towers        7487   \n",
       "1553                                              Se7en        5765   \n",
       "94                              Guardians of the Galaxy        9742   \n",
       "634                                          The Matrix        8907   \n",
       "2294                                           千と千尋の神隠し        3840   \n",
       "77                                           Inside Out        6560   \n",
       "\n",
       "      vote_average  weighted_average  popularity  \n",
       "1881           8.5          8.059258  136.747729  \n",
       "662            8.3          7.939256  146.757391  \n",
       "65             8.2          7.920020  187.322927  \n",
       "3232           8.3          7.904645  121.463076  \n",
       "96             8.1          7.863239  167.583710  \n",
       "3337           8.4          7.851236  143.659698  \n",
       "95             8.1          7.809479  724.247784  \n",
       "809            8.2          7.803188  138.133331  \n",
       "329            8.1          7.727243  123.630332  \n",
       "1990           8.2          7.697884   78.517830  \n",
       "262            8.0          7.667341  138.049577  \n",
       "2912           8.1          7.663813  126.393695  \n",
       "1818           8.3          7.641883  104.469351  \n",
       "3865           8.3          7.633781  192.528841  \n",
       "330            8.0          7.623893  106.914973  \n",
       "1553           8.1          7.614534   79.579532  \n",
       "94             7.9          7.613005  481.098624  \n",
       "634            7.9          7.590704  104.309993  \n",
       "2294           8.3          7.585209  118.968562  \n",
       "77             8.0          7.582379  128.655964  "
      ]
     },
     "execution_count": 35,
     "metadata": {},
     "output_type": "execute_result"
    }
   ],
   "source": [
    "df_sorted_ranking[['original_title', 'vote_count', 'vote_average', 'weighted_average', 'popularity']].head(20)"
   ]
  },
  {
   "cell_type": "code",
   "execution_count": null,
   "metadata": {},
   "outputs": [],
   "source": []
  },
  {
   "cell_type": "markdown",
   "metadata": {},
   "source": [
    "### finding most recommended movies on the basis of Weighted avg "
   ]
  },
  {
   "cell_type": "code",
   "execution_count": 28,
   "metadata": {},
   "outputs": [
    {
     "data": {
      "image/png": "[encoded data removed]",
      "text/plain": [
       "<Figure size 864x432 with 1 Axes>"
      ]
     },
     "metadata": {
      "needs_background": "light"
     },
     "output_type": "display_data"
    }
   ],
   "source": [
    "\n",
    "plt.figure(figsize=(12,6))\n",
    "axis1=sns.barplot(x=movie_sorted_ranking['weighted_average'].head(10), y=movie_sorted_ranking['original_title'].head(10), data=movie_sorted_ranking)\n",
    "plt.xlim(4,10)\n",
    "plt.title('Best Movies by average votes', weight='bold')\n",
    "plt.xlabel('Weighted Average Score', weight='bold')\n",
    "plt.ylabel('Movie Title', weight='bold')\n",
    "plt.savefig('best_movies.png')"
   ]
  },
  {
   "cell_type": "code",
   "execution_count": null,
   "metadata": {},
   "outputs": [],
   "source": [
    "'''\n",
    "## using matplotlib\n",
    "movie_sorted_ranking.set_index('original_title',inplace=True)\n",
    "movie_sorted_ranking['weighted_average'].nlargest(10).plot.barh()\n",
    "plt.xlim(4, 10)\n",
    "plt.title('Best Movies by average votes', weight='bold')\n",
    "plt.xlabel('Weighted Average Score', weight='bold')\n",
    "plt.ylabel('Movie Title', weight='bold')\n",
    "'''"
   ]
  },
  {
   "cell_type": "code",
   "execution_count": null,
   "metadata": {},
   "outputs": [],
   "source": []
  },
  {
   "cell_type": "code",
   "execution_count": null,
   "metadata": {},
   "outputs": [],
   "source": []
  },
  {
   "cell_type": "markdown",
   "metadata": {},
   "source": [
    "### Recommend movies to users considering its popularity"
   ]
  },
  {
   "cell_type": "code",
   "execution_count": null,
   "metadata": {},
   "outputs": [],
   "source": [
    "### Under the Trending Now tab of these systems we find movies that are very popular and they can just be obtained by \n",
    "### sorting the dataset by the popularity column."
   ]
  },
  {
   "cell_type": "code",
   "execution_count": 41,
   "metadata": {},
   "outputs": [],
   "source": [
    "popularity=df.sort_values('popularity',ascending=False)"
   ]
  },
  {
   "cell_type": "code",
   "execution_count": 42,
   "metadata": {},
   "outputs": [
    {
     "data": {
      "text/html": [
       "<div>\n",
       "<style scoped>\n",
       "    .dataframe tbody tr th:only-of-type {\n",
       "        vertical-align: middle;\n",
       "    }\n",
       "\n",
       "    .dataframe tbody tr th {\n",
       "        vertical-align: top;\n",
       "    }\n",
       "\n",
       "    .dataframe thead th {\n",
       "        text-align: right;\n",
       "    }\n",
       "</style>\n",
       "<table border=\"1\" class=\"dataframe\">\n",
       "  <thead>\n",
       "    <tr style=\"text-align: right;\">\n",
       "      <th></th>\n",
       "      <th>original_title</th>\n",
       "      <th>vote_count</th>\n",
       "      <th>vote_average</th>\n",
       "      <th>weighted_average</th>\n",
       "      <th>popularity</th>\n",
       "    </tr>\n",
       "  </thead>\n",
       "  <tbody>\n",
       "    <tr>\n",
       "      <th>546</th>\n",
       "      <td>Minions</td>\n",
       "      <td>4571</td>\n",
       "      <td>6.4</td>\n",
       "      <td>6.311706</td>\n",
       "      <td>875.581305</td>\n",
       "    </tr>\n",
       "    <tr>\n",
       "      <th>95</th>\n",
       "      <td>Interstellar</td>\n",
       "      <td>10867</td>\n",
       "      <td>8.1</td>\n",
       "      <td>7.809479</td>\n",
       "      <td>724.247784</td>\n",
       "    </tr>\n",
       "    <tr>\n",
       "      <th>788</th>\n",
       "      <td>Deadpool</td>\n",
       "      <td>10995</td>\n",
       "      <td>7.4</td>\n",
       "      <td>7.212652</td>\n",
       "      <td>514.569956</td>\n",
       "    </tr>\n",
       "    <tr>\n",
       "      <th>94</th>\n",
       "      <td>Guardians of the Galaxy</td>\n",
       "      <td>9742</td>\n",
       "      <td>7.9</td>\n",
       "      <td>7.613005</td>\n",
       "      <td>481.098624</td>\n",
       "    </tr>\n",
       "    <tr>\n",
       "      <th>127</th>\n",
       "      <td>Mad Max: Fury Road</td>\n",
       "      <td>9427</td>\n",
       "      <td>7.2</td>\n",
       "      <td>7.019214</td>\n",
       "      <td>434.278564</td>\n",
       "    </tr>\n",
       "    <tr>\n",
       "      <th>...</th>\n",
       "      <td>...</td>\n",
       "      <td>...</td>\n",
       "      <td>...</td>\n",
       "      <td>...</td>\n",
       "      <td>...</td>\n",
       "    </tr>\n",
       "    <tr>\n",
       "      <th>101</th>\n",
       "      <td>X-Men: First Class</td>\n",
       "      <td>5181</td>\n",
       "      <td>7.1</td>\n",
       "      <td>6.836047</td>\n",
       "      <td>3.195174</td>\n",
       "    </tr>\n",
       "    <tr>\n",
       "      <th>203</th>\n",
       "      <td>X2</td>\n",
       "      <td>3506</td>\n",
       "      <td>6.8</td>\n",
       "      <td>6.556517</td>\n",
       "      <td>2.871739</td>\n",
       "    </tr>\n",
       "    <tr>\n",
       "      <th>508</th>\n",
       "      <td>The Lost World: Jurassic Park</td>\n",
       "      <td>2487</td>\n",
       "      <td>6.2</td>\n",
       "      <td>6.154170</td>\n",
       "      <td>2.502487</td>\n",
       "    </tr>\n",
       "    <tr>\n",
       "      <th>2511</th>\n",
       "      <td>Home Alone</td>\n",
       "      <td>2414</td>\n",
       "      <td>7.1</td>\n",
       "      <td>6.664295</td>\n",
       "      <td>2.186927</td>\n",
       "    </tr>\n",
       "    <tr>\n",
       "      <th>334</th>\n",
       "      <td>Jurassic Park III</td>\n",
       "      <td>2077</td>\n",
       "      <td>5.7</td>\n",
       "      <td>5.884137</td>\n",
       "      <td>1.859364</td>\n",
       "    </tr>\n",
       "  </tbody>\n",
       "</table>\n",
       "<p>481 rows × 5 columns</p>\n",
       "</div>"
      ],
      "text/plain": [
       "                     original_title  vote_count  vote_average  \\\n",
       "546                         Minions        4571           6.4   \n",
       "95                     Interstellar       10867           8.1   \n",
       "788                        Deadpool       10995           7.4   \n",
       "94          Guardians of the Galaxy        9742           7.9   \n",
       "127              Mad Max: Fury Road        9427           7.2   \n",
       "...                             ...         ...           ...   \n",
       "101              X-Men: First Class        5181           7.1   \n",
       "203                              X2        3506           6.8   \n",
       "508   The Lost World: Jurassic Park        2487           6.2   \n",
       "2511                     Home Alone        2414           7.1   \n",
       "334               Jurassic Park III        2077           5.7   \n",
       "\n",
       "      weighted_average  popularity  \n",
       "546           6.311706  875.581305  \n",
       "95            7.809479  724.247784  \n",
       "788           7.212652  514.569956  \n",
       "94            7.613005  481.098624  \n",
       "127           7.019214  434.278564  \n",
       "...                ...         ...  \n",
       "101           6.836047    3.195174  \n",
       "203           6.556517    2.871739  \n",
       "508           6.154170    2.502487  \n",
       "2511          6.664295    2.186927  \n",
       "334           5.884137    1.859364  \n",
       "\n",
       "[481 rows x 5 columns]"
      ]
     },
     "execution_count": 42,
     "metadata": {},
     "output_type": "execute_result"
    }
   ],
   "source": [
    "popularity[['original_title', 'vote_count', 'vote_average', 'weighted_average', 'popularity']]"
   ]
  },
  {
   "cell_type": "code",
   "execution_count": null,
   "metadata": {},
   "outputs": [],
   "source": []
  },
  {
   "cell_type": "code",
   "execution_count": 32,
   "metadata": {},
   "outputs": [
    {
     "data": {
      "text/plain": [
       "Index(['budget', 'genres', 'id', 'keywords', 'original_language',\n",
       "       'original_title', 'overview', 'popularity', 'production_companies',\n",
       "       'release_date', 'revenue', 'runtime', 'spoken_languages', 'tagline',\n",
       "       'vote_average', 'vote_count', 'cast', 'crew', 'weighted_average'],\n",
       "      dtype='object')"
      ]
     },
     "execution_count": 32,
     "metadata": {},
     "output_type": "execute_result"
    }
   ],
   "source": [
    "popularity.columns"
   ]
  },
  {
   "cell_type": "code",
   "execution_count": 44,
   "metadata": {},
   "outputs": [
    {
     "data": {
      "text/plain": [
       "\"\\nplt.figure(figsize=(12,6))\\nax=sns.barplot(x=popularity['popularity'].head(10), y=popularity['original_title'].head(10), data=popularity)\\n\\nplt.title('Most Popular by Popularity', weight='bold')\\nplt.xlabel('Score of Popularity', weight='bold')\\nplt.ylabel('Movie Title', weight='bold')\\n\\n\""
      ]
     },
     "execution_count": 44,
     "metadata": {},
     "output_type": "execute_result"
    }
   ],
   "source": [
    "''' using seaborn barplot\n",
    "plt.figure(figsize=(12,6))\n",
    "ax=sns.barplot(x=popularity['popularity'].head(10), y=popularity['original_title'].head(10), data=popularity)\n",
    "\n",
    "plt.title('Most Popular by Popularity', weight='bold')\n",
    "plt.xlabel('Score of Popularity', weight='bold')\n",
    "plt.ylabel('Movie Title', weight='bold')\n",
    "\n",
    "'''"
   ]
  },
  {
   "cell_type": "code",
   "execution_count": 48,
   "metadata": {},
   "outputs": [
    {
     "data": {
      "text/plain": [
       "Text(0, 0.5, 'Movie Title')"
      ]
     },
     "execution_count": 48,
     "metadata": {},
     "output_type": "execute_result"
    },
    {
     "data": {
      "image/png": "[encoded data removed]",
      "text/plain": [
       "<Figure size 432x288 with 1 Axes>"
      ]
     },
     "metadata": {
      "needs_background": "light"
     },
     "output_type": "display_data"
    }
   ],
   "source": [
    "popularity.set_index('original_title')['popularity'].nlargest(10).plot.barh()\n",
    "plt.title('Most Popular by Popularity', weight='bold')\n",
    "plt.xlabel('Score of Popularity', weight='bold')\n",
    "plt.ylabel('Movie Title', weight='bold')"
   ]
  },
  {
   "cell_type": "code",
   "execution_count": null,
   "metadata": {},
   "outputs": [],
   "source": []
  },
  {
   "cell_type": "code",
   "execution_count": null,
   "metadata": {},
   "outputs": [],
   "source": []
  },
  {
   "cell_type": "code",
   "execution_count": null,
   "metadata": {},
   "outputs": [],
   "source": []
  },
  {
   "cell_type": "code",
   "execution_count": null,
   "metadata": {},
   "outputs": [],
   "source": []
  },
  {
   "cell_type": "code",
   "execution_count": null,
   "metadata": {},
   "outputs": [],
   "source": []
  },
  {
   "cell_type": "code",
   "execution_count": null,
   "metadata": {},
   "outputs": [],
   "source": []
  },
  {
   "cell_type": "markdown",
   "metadata": {},
   "source": [
    "### Build Recommendation system based on scaled weighted average and normalized_popularity score(Priority is given 50% to both)"
   ]
  },
  {
   "cell_type": "code",
   "execution_count": 50,
   "metadata": {},
   "outputs": [],
   "source": [
    "from sklearn.preprocessing import MinMaxScaler\n",
    "scaling=MinMaxScaler()\n",
    "\n",
    "df_scaled=scaling.fit_transform(df[['weighted_average','popularity']])"
   ]
  },
  {
   "cell_type": "code",
   "execution_count": 51,
   "metadata": {},
   "outputs": [
    {
     "data": {
      "text/plain": [
       "array([[6.52633428e-01, 1.70052057e-01],\n",
       "       [5.20045321e-01, 1.57055975e-01],\n",
       "       [3.73223870e-01, 1.20767740e-01],\n",
       "       [7.54596040e-01, 1.26417320e-01],\n",
       "       [3.23963751e-01, 4.81476189e-02],\n",
       "       [2.78805517e-01, 1.30293683e-01],\n",
       "       [6.12728893e-01, 5.35898240e-02],\n",
       "       [6.49636495e-01, 1.51558361e-01],\n",
       "       [6.56830484e-01, 1.11049372e-01],\n",
       "       [2.15532689e-01, 1.76178577e-01],\n",
       "       [3.24182768e-01, 1.21399546e-01],\n",
       "       [5.54046256e-01, 1.64798442e-01],\n",
       "       [2.85656582e-01, 5.40075621e-02],\n",
       "       [4.31477788e-01, 1.11635797e-01],\n",
       "       [7.12123157e-01, 1.63197537e-01],\n",
       "       [3.99817347e-01, 1.52856974e-01],\n",
       "       [3.48273715e-01, 5.74276697e-02],\n",
       "       [5.72915424e-01, 1.36320691e-01],\n",
       "       [4.32326582e-01, 1.00726453e-01],\n",
       "       [6.91774557e-01, 1.05881741e-01],\n",
       "       [4.20411512e-01, 6.79468412e-02],\n",
       "       [7.12562988e-01, 1.12354435e-01],\n",
       "       [5.99341439e-01, 2.24914840e-01],\n",
       "       [2.13433321e-01, 7.21843129e-02],\n",
       "       [4.38386603e-01, 4.77095937e-01],\n",
       "       [5.46572612e-01, 1.04318805e-01],\n",
       "       [4.69377624e-01, 3.81016207e-02],\n",
       "       [5.24196984e-01, 8.67812887e-02],\n",
       "       [3.98475129e-01, 8.77518778e-02],\n",
       "       [3.69561816e-01, 2.28695413e-03],\n",
       "       [5.28071294e-01, 9.99484205e-02],\n",
       "       [3.02501046e-01, 2.29824822e-02],\n",
       "       [2.59389866e-01, 1.31598998e-01],\n",
       "       [2.33704783e-01, 5.16481032e-02],\n",
       "       [4.20065753e-01, 1.00044246e-01],\n",
       "       [3.65975531e-01, 8.23324706e-02],\n",
       "       [2.69676237e-01, 5.50830004e-02],\n",
       "       [1.26042106e-01, 5.72418668e-02],\n",
       "       [6.93476686e-01, 6.65383931e-02],\n",
       "       [2.84620363e-01, 8.01210599e-02],\n",
       "       [6.11351959e-01, 1.14982637e-01],\n",
       "       [4.79841442e-01, 9.15342596e-02],\n",
       "       [6.94129305e-01, 1.33016377e-01],\n",
       "       [6.40590948e-01, 8.74782358e-02],\n",
       "       [2.03083916e-01, 4.74870655e-02],\n",
       "       [6.02122848e-01, 6.79125752e-02],\n",
       "       [3.43225656e-01, 6.90271288e-02],\n",
       "       [4.73833644e-01, 6.25643451e-02],\n",
       "       [3.24249856e-01, 3.05248635e-02],\n",
       "       [2.44752101e-01, 8.44835073e-02],\n",
       "       [4.72463453e-01, 1.41068919e-01],\n",
       "       [4.24448534e-01, 7.26702009e-02],\n",
       "       [7.77776419e-01, 7.38579919e-02],\n",
       "       [1.99235721e-01, 4.96895625e-02],\n",
       "       [1.37878024e-01, 9.55792822e-02],\n",
       "       [2.06410321e-01, 4.67910362e-02],\n",
       "       [4.45712857e-01, 7.50032258e-02],\n",
       "       [3.98823442e-01, 1.57272779e-01],\n",
       "       [9.52045433e-01, 2.12268405e-01],\n",
       "       [7.59368306e-01, 1.03399713e-01],\n",
       "       [6.94932512e-01, 1.36045215e-01],\n",
       "       [4.90738224e-01, 3.48619825e-02],\n",
       "       [2.69421396e-01, 1.01151810e-01],\n",
       "       [6.99258839e-01, 8.88121465e-02],\n",
       "       [2.35007968e-01, 3.54724742e-02],\n",
       "       [8.35758712e-01, 1.45122371e-01],\n",
       "       [4.50502445e-01, 1.05685742e-01],\n",
       "       [4.60407120e-01, 8.63442091e-02],\n",
       "       [2.59215859e-01, 8.62054682e-02],\n",
       "       [5.44439636e-01, 1.24480430e-01],\n",
       "       [6.16113791e-01, 2.76898596e-01],\n",
       "       [7.16249181e-01, 8.05358063e-02],\n",
       "       [3.06142067e-01, 4.82783138e-02],\n",
       "       [3.45081050e-01, 1.47017014e-01],\n",
       "       [7.75092218e-01, 2.31052028e-01],\n",
       "       [5.70048171e-01, 6.92230630e-02],\n",
       "       [8.62755457e-02, 5.36971281e-02],\n",
       "       [6.60425046e-01, 7.48566585e-02],\n",
       "       [2.86893929e-01, 7.73081467e-02],\n",
       "       [8.46306871e-01, 5.48503176e-01],\n",
       "       [9.13973899e-01, 8.26794414e-01],\n",
       "       [9.32489632e-01, 1.89676301e-01],\n",
       "       [5.78470218e-01, 1.22453440e-01],\n",
       "       [4.36364570e-01, 5.78053241e-03],\n",
       "       [5.89442681e-01, 6.68518350e-02],\n",
       "       [5.78715640e-01, 1.52887313e-03],\n",
       "       [4.42194858e-01, 1.43552608e-01],\n",
       "       [3.04951106e-01, 4.70711574e-02],\n",
       "       [3.62051591e-01, 7.01472198e-02],\n",
       "       [2.55715090e-01, 2.29115536e-01],\n",
       "       [4.42720945e-01, 2.70213301e-02],\n",
       "       [6.60013508e-01, 8.73104216e-02],\n",
       "       [6.87680392e-01, 1.13755930e-01],\n",
       "       [3.45430274e-01, 6.28335451e-02],\n",
       "       [5.24302396e-01, 7.89816917e-02],\n",
       "       [4.61404914e-01, 5.95684114e-02],\n",
       "       [6.63786932e-01, 7.30415845e-02],\n",
       "       [7.10470088e-01, 1.29538535e-01],\n",
       "       [2.88273802e-01, 9.14732975e-02],\n",
       "       [3.48003709e-01, 4.68681145e-03],\n",
       "       [3.89038061e-01, 8.17818011e-02],\n",
       "       [6.31298177e-01, 1.86862655e-01],\n",
       "       [4.58990336e-01, 7.88884229e-02],\n",
       "       [4.98328335e-01, 1.11752065e-01],\n",
       "       [6.41799791e-01, 4.94916265e-01],\n",
       "       [3.97892440e-01, 7.50676719e-02],\n",
       "       [4.58973270e-01, 9.68661264e-02],\n",
       "       [2.47163523e-01, 5.54494076e-02],\n",
       "       [5.43572944e-01, 1.28945913e-01],\n",
       "       [4.28360201e-01, 5.65259434e-02],\n",
       "       [3.96192239e-01, 7.00676452e-02],\n",
       "       [3.76275537e-01, 4.25137819e-02],\n",
       "       [4.89486255e-01, 7.43300379e-02],\n",
       "       [1.75698204e-01, 7.36603867e-02],\n",
       "       [3.83424572e-01, 6.48107829e-02],\n",
       "       [3.02557878e-01, 1.02404988e-01],\n",
       "       [4.89168485e-01, 8.68873751e-02],\n",
       "       [4.99929282e-01, 6.85900951e-02],\n",
       "       [5.33665059e-01, 5.77779493e-02],\n",
       "       [2.35902234e-01, 1.14155383e-01],\n",
       "       [6.42673180e-01, 8.21284675e-02],\n",
       "       [5.03208524e-01, 9.22984742e-02],\n",
       "       [6.48740957e-01, 1.12569619e-01],\n",
       "       [5.11553308e-01, 7.20360861e-02],\n",
       "       [1.74241688e-01, 6.57717545e-02],\n",
       "       [4.61231883e-01, 8.31464549e-02],\n",
       "       [3.24085955e-01, 1.11966651e-01],\n",
       "       [3.24194660e-01, 6.98608666e-02],\n",
       "       [6.45632530e-01, 1.13052578e-01],\n",
       "       [4.14748905e-01, 3.21088034e-02],\n",
       "       [5.76701227e-01, 4.98123430e-02],\n",
       "       [4.98103779e-01, 9.48016527e-02],\n",
       "       [5.60710897e-01, 1.35322510e-01],\n",
       "       [6.73578845e-01, 8.52110397e-02],\n",
       "       [3.43245401e-01, 5.34647922e-02],\n",
       "       [3.42289527e-01, 5.37586053e-02],\n",
       "       [2.27411970e-01, 5.06527213e-02],\n",
       "       [4.33164386e-01, 1.00808882e-01],\n",
       "       [7.44322819e-01, 8.90675092e-02],\n",
       "       [1.04593291e-01, 4.69041878e-02],\n",
       "       [3.23871188e-01, 1.30176872e-01],\n",
       "       [4.29407210e-01, 7.65665538e-02],\n",
       "       [7.06601922e-01, 1.23752171e-01],\n",
       "       [7.06362051e-01, 3.09152732e-01],\n",
       "       [4.54099181e-01, 2.33904836e-01],\n",
       "       [4.06131318e-01, 4.97341671e-02],\n",
       "       [4.82443008e-01, 1.15869243e-03],\n",
       "       [5.20404948e-01, 6.17628303e-03],\n",
       "       [5.34769953e-01, 9.11505746e-02],\n",
       "       [2.29550052e-01, 5.24504145e-02],\n",
       "       [3.03773191e-01, 1.01264993e-01],\n",
       "       [3.43516938e-01, 4.52326171e-02],\n",
       "       [2.88638463e-01, 6.07424027e-02],\n",
       "       [1.83115814e-01, 6.74715333e-02],\n",
       "       [6.12198216e-01, 5.66184488e-02],\n",
       "       [2.85446095e-01, 6.95666655e-02],\n",
       "       [3.75076284e-01, 7.67178067e-02],\n",
       "       [3.91605278e-01, 7.49418126e-02],\n",
       "       [2.46849278e-01, 7.42782136e-02],\n",
       "       [3.99177050e-01, 7.53542253e-02],\n",
       "       [5.62455948e-01, 4.83552730e-02],\n",
       "       [3.95108193e-01, 4.82163661e-02],\n",
       "       [6.93608873e-01, 1.20125381e-01],\n",
       "       [3.71760659e-01, 1.61310817e-02],\n",
       "       [3.73110693e-01, 5.97168259e-02],\n",
       "       [4.60535585e-01, 7.13315691e-02],\n",
       "       [2.63236524e-01, 1.61940550e-01],\n",
       "       [6.37739575e-01, 1.23945902e-01],\n",
       "       [0.00000000e+00, 4.15083212e-02],\n",
       "       [3.66101166e-01, 5.37020679e-02],\n",
       "       [3.02915833e-01, 1.12796755e-01],\n",
       "       [3.79348671e-01, 8.58183187e-02],\n",
       "       [4.09220177e-01, 4.89584684e-02],\n",
       "       [3.47608969e-01, 1.16580594e-01],\n",
       "       [3.24044382e-01, 7.97178470e-02],\n",
       "       [2.88049008e-01, 9.64222678e-02],\n",
       "       [4.26445783e-01, 4.04427088e-02],\n",
       "       [4.19779297e-01, 5.04611066e-02],\n",
       "       [3.78910315e-01, 5.38775597e-02],\n",
       "       [8.65020676e-01, 1.55873633e-01],\n",
       "       [4.63519288e-01, 1.07648789e-01],\n",
       "       [7.36989547e-01, 1.90075925e-01],\n",
       "       [7.87862479e-01, 1.06946990e-01],\n",
       "       [5.26110042e-01, 7.33523928e-02],\n",
       "       [6.64750137e-01, 1.49404939e-01],\n",
       "       [6.04182930e-01, 9.96607695e-02],\n",
       "       [7.07258673e-01, 1.14318047e-01],\n",
       "       [8.20126026e-01, 9.18625517e-02],\n",
       "       [3.24167729e-01, 5.93707512e-02],\n",
       "       [3.76761448e-01, 6.52265776e-02],\n",
       "       [5.52859176e-01, 5.82946491e-02],\n",
       "       [8.09035191e-01, 1.06611229e-01],\n",
       "       [4.30646342e-01, 8.24209346e-02],\n",
       "       [3.05203496e-01, 4.57852975e-02],\n",
       "       [4.99386029e-01, 5.07034125e-02],\n",
       "       [6.04886998e-01, 1.23230519e-01],\n",
       "       [3.44518803e-01, 7.25293724e-02],\n",
       "       [4.40497899e-01, 1.13683408e-01],\n",
       "       [7.21896775e-01, 9.59451984e-02],\n",
       "       [8.85651177e-01, 1.39370390e-01],\n",
       "       [8.50056509e-01, 1.20239179e-01],\n",
       "       [2.49059905e-01, 4.53682861e-02],\n",
       "       [2.85770091e-01, 6.53892518e-02],\n",
       "       [2.50869426e-01, 0.00000000e+00],\n",
       "       [5.42253733e-01, 1.56312664e-01],\n",
       "       [1.21201807e-01, 7.27270634e-02],\n",
       "       [6.54488375e-01, 8.69363621e-02],\n",
       "       [3.05938403e-01, 6.78274749e-02],\n",
       "       [5.18909189e-01, 1.17042032e-01],\n",
       "       [6.03016856e-01, 8.20807521e-02],\n",
       "       [4.00141472e-01, 7.73684748e-02],\n",
       "       [5.19816096e-01, 4.74849675e-02],\n",
       "       [7.59854484e-01, 7.04684066e-02],\n",
       "       [5.93622085e-01, 7.50449175e-02],\n",
       "       [5.39886316e-01, 5.24099451e-02],\n",
       "       [4.69739312e-01, 5.72512955e-02],\n",
       "       [5.59594469e-01, 6.40654885e-02],\n",
       "       [2.24624943e-01, 1.59078220e-01],\n",
       "       [4.48745061e-01, 3.68260753e-02],\n",
       "       [4.56002820e-01, 5.68560027e-02],\n",
       "       [3.98493821e-01, 5.07491868e-02],\n",
       "       [6.31098959e-01, 6.39566736e-02],\n",
       "       [5.53651715e-01, 5.87767854e-02],\n",
       "       [5.79285040e-01, 6.76073076e-02],\n",
       "       [4.64545843e-01, 6.22601361e-02],\n",
       "       [3.95687525e-01, 4.60222264e-02],\n",
       "       [5.22068500e-01, 8.97964161e-02],\n",
       "       [5.27131097e-01, 4.23771331e-02],\n",
       "       [4.12320263e-01, 6.38813853e-02],\n",
       "       [3.05576829e-01, 4.49997478e-02],\n",
       "       [5.40455218e-01, 5.73541062e-02],\n",
       "       [3.88354007e-01, 1.23409312e-01],\n",
       "       [3.03022870e-01, 8.66652117e-02],\n",
       "       [4.45751407e-01, 8.40446263e-02],\n",
       "       [5.55450968e-01, 7.63301582e-02],\n",
       "       [3.47414579e-01, 6.43005313e-02],\n",
       "       [7.78426904e-01, 9.16256400e-02],\n",
       "       [4.17082935e-01, 3.49129083e-02],\n",
       "       [6.29790941e-01, 1.57619621e-01],\n",
       "       [6.66256152e-01, 6.56834518e-02],\n",
       "       [8.12153477e-01, 1.01403568e-01],\n",
       "       [3.41997579e-01, 9.91344797e-03],\n",
       "       [2.79288853e-01, 3.39049606e-02],\n",
       "       [5.46415536e-01, 1.54542691e-01],\n",
       "       [4.56374785e-01, 6.70501978e-02],\n",
       "       [3.43871395e-01, 7.36072851e-04],\n",
       "       [4.34066938e-01, 5.29362293e-02],\n",
       "       [5.61131903e-01, 3.83743482e-02],\n",
       "       [4.90792896e-01, 3.21560655e-03],\n",
       "       [3.83899834e-01, 8.23643343e-02],\n",
       "       [4.09063035e-01, 9.52885467e-02],\n",
       "       [4.15880970e-01, 6.81889961e-02],\n",
       "       [6.34108088e-01, 7.92761618e-02],\n",
       "       [4.81836660e-01, 6.39729271e-02],\n",
       "       [5.14113877e-01, 5.36610594e-02],\n",
       "       [4.65585344e-01, 4.59500238e-02],\n",
       "       [3.98128045e-01, 1.00000000e+00],\n",
       "       [6.79528040e-01, 6.73701726e-02],\n",
       "       [4.76062064e-01, 5.15221249e-02],\n",
       "       [4.52120694e-01, 5.20319279e-02],\n",
       "       [4.41160987e-01, 9.24592461e-02],\n",
       "       [8.06714037e-01, 8.09600786e-02],\n",
       "       [4.11317600e-01, 6.39094698e-02],\n",
       "       [3.45489308e-01, 6.58892221e-02],\n",
       "       [5.92715374e-01, 5.07485459e-02],\n",
       "       [3.43505485e-01, 7.16458865e-02],\n",
       "       [3.23875182e-01, 6.47137692e-02],\n",
       "       [2.66582514e-01, 1.20416341e-01],\n",
       "       [5.92893325e-01, 1.28185987e-01],\n",
       "       [3.43783326e-01, 7.65405398e-02],\n",
       "       [7.78931901e-01, 8.49040175e-02],\n",
       "       [5.57582479e-01, 1.11823457e-01],\n",
       "       [8.38625980e-01, 1.17257704e-01],\n",
       "       [4.98196966e-01, 5.32169879e-02],\n",
       "       [4.44001874e-01, 6.61247730e-02],\n",
       "       [9.58670493e-01, 1.65839977e-01],\n",
       "       [6.99216246e-01, 4.41259687e-02],\n",
       "       [6.85637315e-01, 7.65205140e-02],\n",
       "       [5.51090625e-01, 7.24928619e-02],\n",
       "       [8.21747800e-01, 1.16557286e-01],\n",
       "       [7.96502647e-01, 1.61587082e-01],\n",
       "       [5.97443780e-01, 9.68471192e-02],\n",
       "       [7.41099638e-01, 6.25240828e-02],\n",
       "       [4.11844648e-01, 6.97103817e-02],\n",
       "       [3.88584643e-01, 1.27388490e-01],\n",
       "       [4.28217670e-01, 4.52900164e-02],\n",
       "       [3.66888395e-01, 6.29594296e-02],\n",
       "       [3.99430125e-01, 5.22138553e-02],\n",
       "       [6.25783458e-01, 6.60262279e-02],\n",
       "       [7.08421675e-01, 5.86812083e-01],\n",
       "       [6.41661136e-01, 9.80575192e-02],\n",
       "       [9.11807257e-01, 1.55969492e-01],\n",
       "       [6.19411783e-01, 5.82880555e-02],\n",
       "       [5.36471365e-01, 8.93450094e-02],\n",
       "       [6.42961015e-01, 9.00996064e-02],\n",
       "       [7.26282680e-01, 8.91537666e-02],\n",
       "       [6.76837705e-01, 5.58109402e-02],\n",
       "       [5.77495156e-01, 4.53382686e-02],\n",
       "       [6.95558127e-01, 8.25030042e-02],\n",
       "       [2.25915025e-01, 1.06391403e-01],\n",
       "       [6.08763337e-01, 7.48972470e-02],\n",
       "       [3.73961630e-01, 7.67035173e-02],\n",
       "       [4.22177491e-01, 4.02987350e-02],\n",
       "       [5.23730688e-01, 5.78234512e-02],\n",
       "       [5.00926986e-01, 4.13533635e-02],\n",
       "       [4.57161526e-01, 9.32063488e-02],\n",
       "       [7.14174719e-01, 9.47344929e-02],\n",
       "       [2.36355704e-01, 5.85638332e-02],\n",
       "       [6.50520772e-01, 9.05472408e-02],\n",
       "       [4.31804549e-01, 1.31438790e-01],\n",
       "       [3.23987293e-01, 9.95573179e-02],\n",
       "       [3.24136062e-01, 5.43584380e-02],\n",
       "       [7.12659266e-01, 9.91591317e-02],\n",
       "       [3.93997799e-01, 4.80200005e-02],\n",
       "       [4.80140814e-01, 4.03031689e-02],\n",
       "       [4.58083889e-01, 9.78474203e-02],\n",
       "       [5.48340502e-01, 6.88447814e-02],\n",
       "       [4.66767327e-01, 6.96499185e-02],\n",
       "       [3.24018108e-01, 8.27593409e-02],\n",
       "       [6.72069469e-01, 8.15204571e-02],\n",
       "       [4.69824814e-01, 5.47139333e-02],\n",
       "       [6.26835593e-01, 4.74817972e-02],\n",
       "       [3.77043271e-01, 1.29769700e-01],\n",
       "       [1.26174556e-01, 1.10900606e-01],\n",
       "       [4.83415708e-01, 7.66093947e-02],\n",
       "       [5.47598342e-01, 7.71628282e-02],\n",
       "       [5.34953931e-01, 5.02564900e-02],\n",
       "       [4.98058696e-01, 5.86630673e-02],\n",
       "       [5.49201837e-01, 7.34147399e-02],\n",
       "       [5.45419068e-01, 5.33197254e-02],\n",
       "       [7.85678036e-01, 8.30714448e-02],\n",
       "       [4.86401232e-01, 5.23056156e-02],\n",
       "       [7.00677138e-01, 8.22468529e-02],\n",
       "       [4.49843597e-01, 7.13949382e-02],\n",
       "       [3.42029490e-01, 5.12413571e-02],\n",
       "       [2.35376409e-01, 6.41286402e-02],\n",
       "       [5.34756549e-01, 6.39954388e-02],\n",
       "       [6.28901563e-01, 3.56457387e-02],\n",
       "       [2.56153586e-01, 1.43324287e-01],\n",
       "       [4.73134005e-01, 1.12724010e-01],\n",
       "       [6.16509774e-01, 9.19655238e-02],\n",
       "       [4.89086132e-01, 4.83507430e-02],\n",
       "       [4.00233084e-01, 5.54529728e-02],\n",
       "       [5.18504689e-01, 9.38901602e-02],\n",
       "       [3.99617242e-01, 4.42557537e-02],\n",
       "       [3.78605184e-01, 4.44721108e-02],\n",
       "       [4.58629829e-01, 6.68084607e-02],\n",
       "       [6.53326466e-01, 5.57708061e-02],\n",
       "       [5.55453034e-01, 1.48738637e-01],\n",
       "       [7.69142923e-01, 5.11028794e-02],\n",
       "       [3.62746326e-01, 4.16124562e-02],\n",
       "       [5.28988278e-01, 6.56267324e-02],\n",
       "       [6.69332157e-01, 5.50679750e-02],\n",
       "       [4.02268824e-01, 4.61867776e-02],\n",
       "       [7.89582286e-01, 8.30448322e-02],\n",
       "       [7.33035569e-01, 8.21555207e-02],\n",
       "       [8.46833338e-01, 8.89529773e-02],\n",
       "       [5.92012526e-01, 7.01337727e-02],\n",
       "       [6.38270210e-01, 7.85108451e-02],\n",
       "       [6.68739277e-01, 6.09459045e-02],\n",
       "       [3.85132473e-01, 4.79361626e-02],\n",
       "       [4.48219711e-01, 5.09524391e-02],\n",
       "       [5.56650412e-01, 4.79491461e-02],\n",
       "       [5.16133218e-01, 4.77408727e-02],\n",
       "       [5.39191694e-01, 6.13063041e-02],\n",
       "       [5.42686538e-01, 7.26834076e-02],\n",
       "       [5.56650412e-01, 9.17828525e-02],\n",
       "       [4.00018905e-01, 8.25530499e-02],\n",
       "       [2.29456171e-01, 7.36886302e-02],\n",
       "       [4.47687234e-01, 7.97021647e-02],\n",
       "       [6.15351204e-01, 1.04292499e-01],\n",
       "       [5.31484723e-01, 7.45287590e-02],\n",
       "       [6.53339063e-01, 7.36049548e-02],\n",
       "       [5.66473377e-01, 6.37034569e-02],\n",
       "       [5.71200057e-01, 4.94385799e-02],\n",
       "       [7.31093682e-01, 1.05521863e-01],\n",
       "       [3.61704513e-01, 4.39807955e-02],\n",
       "       [3.41789642e-01, 4.19062018e-02],\n",
       "       [6.91123237e-01, 5.59513659e-02],\n",
       "       [5.91064625e-01, 9.04402926e-02],\n",
       "       [8.56252497e-01, 1.17440094e-01],\n",
       "       [6.22231616e-01, 4.61613050e-02],\n",
       "       [3.80876267e-01, 5.15988324e-02],\n",
       "       [6.65995881e-01, 5.92704619e-02],\n",
       "       [7.79748146e-01, 7.07260252e-02],\n",
       "       [7.27217266e-01, 7.81102245e-02],\n",
       "       [1.00000000e+00, 1.54383630e-01],\n",
       "       [6.99960181e-01, 5.45832922e-02],\n",
       "       [5.73889459e-01, 6.34541808e-02],\n",
       "       [8.75539704e-01, 8.77378287e-02],\n",
       "       [7.52299546e-01, 5.93129239e-02],\n",
       "       [4.23509230e-01, 9.15278297e-02],\n",
       "       [5.23012998e-01, 7.06639105e-02],\n",
       "       [6.97431136e-01, 7.58825307e-02],\n",
       "       [3.63012921e-01, 9.11369135e-02],\n",
       "       [8.11644262e-01, 1.86734924e-02],\n",
       "       [6.04994904e-01, 5.50702034e-02],\n",
       "       [7.37500935e-01, 1.07658434e-01],\n",
       "       [6.43511771e-01, 5.22526262e-02],\n",
       "       [6.24870586e-01, 5.87172401e-02],\n",
       "       [6.71709729e-01, 4.53739595e-02],\n",
       "       [7.36668885e-01, 6.25165976e-02],\n",
       "       [5.10863940e-01, 6.99015695e-02],\n",
       "       [7.27533450e-01, 1.04390765e-01],\n",
       "       [6.89279637e-01, 4.78248423e-02],\n",
       "       [6.99230579e-01, 6.73822772e-02],\n",
       "       [7.86831380e-01, 8.79463195e-02],\n",
       "       [8.27020565e-01, 8.55465171e-02],\n",
       "       [8.36733379e-01, 1.34034860e-01],\n",
       "       [3.44655158e-01, 3.96142816e-02],\n",
       "       [4.22823356e-01, 9.55038578e-02],\n",
       "       [5.43981568e-01, 5.51091162e-02],\n",
       "       [4.77741088e-01, 3.95599004e-02],\n",
       "       [6.43020661e-01, 1.00663364e-01],\n",
       "       [5.05850856e-01, 5.79194714e-02],\n",
       "       [4.89234513e-01, 3.61404773e-02],\n",
       "       [6.75016356e-01, 7.53118045e-02],\n",
       "       [5.51314172e-01, 3.53512033e-02],\n",
       "       [7.34224285e-01, 6.13458556e-02],\n",
       "       [3.93139603e-01, 3.88197908e-02],\n",
       "       [6.46168789e-01, 1.01805895e-01],\n",
       "       [5.67847165e-01, 4.20772471e-02],\n",
       "       [5.19562779e-01, 3.74905316e-04],\n",
       "       [7.22949276e-01, 9.04398039e-02],\n",
       "       [6.33850598e-01, 5.97377833e-02],\n",
       "       [8.19837355e-01, 1.64245878e-01],\n",
       "       [7.00717926e-01, 6.78968493e-02],\n",
       "       [6.24104264e-01, 5.42913000e-02],\n",
       "       [5.13374335e-01, 5.16718144e-02],\n",
       "       [6.83749005e-01, 5.42171631e-02],\n",
       "       [5.72901055e-01, 5.82393146e-02],\n",
       "       [6.37193995e-01, 6.56955060e-02],\n",
       "       [6.16504294e-01, 1.02351005e-01],\n",
       "       [8.12859152e-01, 1.18954975e-01],\n",
       "       [5.42334924e-01, 8.17744704e-02],\n",
       "       [6.96635298e-01, 1.06750984e-01],\n",
       "       [7.37390495e-01, 7.35405316e-02],\n",
       "       [6.64464685e-01, 4.75949716e-02],\n",
       "       [5.75461458e-01, 5.23339026e-02],\n",
       "       [6.03893546e-01, 5.52726912e-02],\n",
       "       [3.81395024e-01, 6.74216833e-02],\n",
       "       [4.12207501e-01, 7.16994504e-02],\n",
       "       [6.71266707e-01, 8.29778945e-02],\n",
       "       [3.23901791e-01, 7.18206835e-02],\n",
       "       [6.33828639e-01, 8.35028555e-02],\n",
       "       [6.61967839e-01, 5.92137150e-02],\n",
       "       [8.63805316e-01, 1.42533139e-01],\n",
       "       [7.08477082e-01, 9.65316493e-02],\n",
       "       [5.88771413e-01, 6.20866107e-02],\n",
       "       [6.98958028e-01, 4.79277446e-02],\n",
       "       [7.73548169e-01, 8.20717263e-02],\n",
       "       [7.63702330e-01, 1.05668966e-01],\n",
       "       [4.12634413e-01, 9.28401511e-02],\n",
       "       [9.46750091e-01, 1.36889903e-01],\n",
       "       [6.59403636e-01, 9.98443211e-02],\n",
       "       [5.42636384e-01, 4.97310151e-02],\n",
       "       [4.36796841e-01, 4.98287532e-02],\n",
       "       [4.94382590e-01, 2.05138044e-02],\n",
       "       [9.28355640e-01, 1.62294578e-01],\n",
       "       [5.56157321e-01, 5.00750032e-02],\n",
       "       [6.10329006e-01, 8.28357691e-02],\n",
       "       [7.64389717e-01, 7.11504016e-02],\n",
       "       [4.62230225e-01, 5.93315980e-02],\n",
       "       [7.02866338e-01, 6.59192660e-02],\n",
       "       [7.97326977e-01, 6.73621483e-02],\n",
       "       [5.98063614e-01, 5.40967255e-02],\n",
       "       [6.77797017e-01, 1.11175759e-02],\n",
       "       [6.83841872e-01, 6.79285356e-02],\n",
       "       [7.67942649e-01, 1.43828615e-01],\n",
       "       [5.33665059e-01, 5.01386699e-02],\n",
       "       [5.73391457e-01, 4.75484866e-02],\n",
       "       [8.53462201e-01, 2.18226724e-01],\n",
       "       [6.70060868e-01, 7.05647382e-02],\n",
       "       [3.04452654e-01, 6.01377470e-02],\n",
       "       [6.60311570e-01, 6.28393582e-02],\n",
       "       [4.64432749e-01, 8.96302534e-02],\n",
       "       [5.29682340e-01, 7.07280041e-02],\n",
       "       [7.61366206e-01, 7.44704911e-02],\n",
       "       [7.07655564e-01, 9.90220206e-02],\n",
       "       [7.03384454e-01, 6.52217351e-02],\n",
       "       [7.07702140e-01, 6.56957749e-02]])"
      ]
     },
     "execution_count": 51,
     "metadata": {},
     "output_type": "execute_result"
    }
   ],
   "source": [
    "df_scaled"
   ]
  },
  {
   "cell_type": "code",
   "execution_count": null,
   "metadata": {},
   "outputs": [],
   "source": []
  },
  {
   "cell_type": "code",
   "execution_count": 57,
   "metadata": {},
   "outputs": [
    {
     "name": "stderr",
     "output_type": "stream",
     "text": [
      "<ipython-input-57-6e95e967147b>:3: SettingWithCopyWarning: \n",
      "A value is trying to be set on a copy of a slice from a DataFrame.\n",
      "Try using .loc[row_indexer,col_indexer] = value instead\n",
      "\n",
      "See the caveats in the documentation: https://pandas.pydata.org/pandas-docs/stable/user_guide/indexing.html#returning-a-view-versus-a-copy\n",
      "  df[['weighted_average_scaled','popularity_scaled']]= df_scaled\n",
      "C:\\Users\\mcr\\anaconda3\\lib\\site-packages\\pandas\\core\\indexing.py:1738: SettingWithCopyWarning: \n",
      "A value is trying to be set on a copy of a slice from a DataFrame.\n",
      "Try using .loc[row_indexer,col_indexer] = value instead\n",
      "\n",
      "See the caveats in the documentation: https://pandas.pydata.org/pandas-docs/stable/user_guide/indexing.html#returning-a-view-versus-a-copy\n",
      "  self._setitem_single_column(loc, value[:, i].tolist(), pi)\n"
     ]
    }
   ],
   "source": [
    "## storing your df_normalized into df\n",
    "\n",
    "df[['weighted_average_scaled','popularity_scaled']]= df_scaled"
   ]
  },
  {
   "cell_type": "code",
   "execution_count": null,
   "metadata": {},
   "outputs": [],
   "source": []
  },
  {
   "cell_type": "code",
   "execution_count": 58,
   "metadata": {},
   "outputs": [
    {
     "data": {
      "text/html": [
       "<div>\n",
       "<style scoped>\n",
       "    .dataframe tbody tr th:only-of-type {\n",
       "        vertical-align: middle;\n",
       "    }\n",
       "\n",
       "    .dataframe tbody tr th {\n",
       "        vertical-align: top;\n",
       "    }\n",
       "\n",
       "    .dataframe thead th {\n",
       "        text-align: right;\n",
       "    }\n",
       "</style>\n",
       "<table border=\"1\" class=\"dataframe\">\n",
       "  <thead>\n",
       "    <tr style=\"text-align: right;\">\n",
       "      <th></th>\n",
       "      <th>budget</th>\n",
       "      <th>genres</th>\n",
       "      <th>id</th>\n",
       "      <th>keywords</th>\n",
       "      <th>original_language</th>\n",
       "      <th>original_title</th>\n",
       "      <th>overview</th>\n",
       "      <th>popularity</th>\n",
       "      <th>production_companies</th>\n",
       "      <th>release_date</th>\n",
       "      <th>...</th>\n",
       "      <th>spoken_languages</th>\n",
       "      <th>tagline</th>\n",
       "      <th>vote_average</th>\n",
       "      <th>vote_count</th>\n",
       "      <th>cast</th>\n",
       "      <th>crew</th>\n",
       "      <th>weighted_average</th>\n",
       "      <th>weighted_avg</th>\n",
       "      <th>weighted_average_scaled</th>\n",
       "      <th>popularity_scaled</th>\n",
       "    </tr>\n",
       "  </thead>\n",
       "  <tbody>\n",
       "    <tr>\n",
       "      <th>0</th>\n",
       "      <td>237000000</td>\n",
       "      <td>[{\"id\": 28, \"name\": \"Action\"}, {\"id\": 12, \"nam...</td>\n",
       "      <td>19995</td>\n",
       "      <td>[{\"id\": 1463, \"name\": \"culture clash\"}, {\"id\":...</td>\n",
       "      <td>en</td>\n",
       "      <td>Avatar</td>\n",
       "      <td>In the 22nd century, a paraplegic Marine is di...</td>\n",
       "      <td>150.437577</td>\n",
       "      <td>[{\"name\": \"Ingenious Film Partners\", \"id\": 289...</td>\n",
       "      <td>2009-12-10</td>\n",
       "      <td>...</td>\n",
       "      <td>[{\"iso_639_1\": \"en\", \"name\": \"English\"}, {\"iso...</td>\n",
       "      <td>Enter the World of Pandora.</td>\n",
       "      <td>7.2</td>\n",
       "      <td>11800</td>\n",
       "      <td>[{\"cast_id\": 242, \"character\": \"Jake Sully\", \"...</td>\n",
       "      <td>[{\"credit_id\": \"52fe48009251416c750aca23\", \"de...</td>\n",
       "      <td>7.050669</td>\n",
       "      <td>7.050669</td>\n",
       "      <td>0.652633</td>\n",
       "      <td>0.170052</td>\n",
       "    </tr>\n",
       "    <tr>\n",
       "      <th>1</th>\n",
       "      <td>300000000</td>\n",
       "      <td>[{\"id\": 12, \"name\": \"Adventure\"}, {\"id\": 14, \"...</td>\n",
       "      <td>285</td>\n",
       "      <td>[{\"id\": 270, \"name\": \"ocean\"}, {\"id\": 726, \"na...</td>\n",
       "      <td>en</td>\n",
       "      <td>Pirates of the Caribbean: At World's End</td>\n",
       "      <td>Captain Barbossa, long believed to be dead, ha...</td>\n",
       "      <td>139.082615</td>\n",
       "      <td>[{\"name\": \"Walt Disney Pictures\", \"id\": 2}, {\"...</td>\n",
       "      <td>2007-05-19</td>\n",
       "      <td>...</td>\n",
       "      <td>[{\"iso_639_1\": \"en\", \"name\": \"English\"}]</td>\n",
       "      <td>At the end of the world, the adventure begins.</td>\n",
       "      <td>6.9</td>\n",
       "      <td>4500</td>\n",
       "      <td>[{\"cast_id\": 4, \"character\": \"Captain Jack Spa...</td>\n",
       "      <td>[{\"credit_id\": \"52fe4232c3a36847f800b579\", \"de...</td>\n",
       "      <td>6.665696</td>\n",
       "      <td>6.665696</td>\n",
       "      <td>0.520045</td>\n",
       "      <td>0.157056</td>\n",
       "    </tr>\n",
       "    <tr>\n",
       "      <th>2</th>\n",
       "      <td>245000000</td>\n",
       "      <td>[{\"id\": 28, \"name\": \"Action\"}, {\"id\": 12, \"nam...</td>\n",
       "      <td>206647</td>\n",
       "      <td>[{\"id\": 470, \"name\": \"spy\"}, {\"id\": 818, \"name...</td>\n",
       "      <td>en</td>\n",
       "      <td>Spectre</td>\n",
       "      <td>A cryptic message from Bond’s past sends him o...</td>\n",
       "      <td>107.376788</td>\n",
       "      <td>[{\"name\": \"Columbia Pictures\", \"id\": 5}, {\"nam...</td>\n",
       "      <td>2015-10-26</td>\n",
       "      <td>...</td>\n",
       "      <td>[{\"iso_639_1\": \"fr\", \"name\": \"Fran\\u00e7ais\"},...</td>\n",
       "      <td>A Plan No One Escapes</td>\n",
       "      <td>6.3</td>\n",
       "      <td>4466</td>\n",
       "      <td>[{\"cast_id\": 1, \"character\": \"James Bond\", \"cr...</td>\n",
       "      <td>[{\"credit_id\": \"54805967c3a36829b5002c41\", \"de...</td>\n",
       "      <td>6.239396</td>\n",
       "      <td>6.239396</td>\n",
       "      <td>0.373224</td>\n",
       "      <td>0.120768</td>\n",
       "    </tr>\n",
       "    <tr>\n",
       "      <th>3</th>\n",
       "      <td>250000000</td>\n",
       "      <td>[{\"id\": 28, \"name\": \"Action\"}, {\"id\": 80, \"nam...</td>\n",
       "      <td>49026</td>\n",
       "      <td>[{\"id\": 849, \"name\": \"dc comics\"}, {\"id\": 853,...</td>\n",
       "      <td>en</td>\n",
       "      <td>The Dark Knight Rises</td>\n",
       "      <td>Following the death of District Attorney Harve...</td>\n",
       "      <td>112.312950</td>\n",
       "      <td>[{\"name\": \"Legendary Pictures\", \"id\": 923}, {\"...</td>\n",
       "      <td>2012-07-16</td>\n",
       "      <td>...</td>\n",
       "      <td>[{\"iso_639_1\": \"en\", \"name\": \"English\"}]</td>\n",
       "      <td>The Legend Ends</td>\n",
       "      <td>7.6</td>\n",
       "      <td>9106</td>\n",
       "      <td>[{\"cast_id\": 2, \"character\": \"Bruce Wayne / Ba...</td>\n",
       "      <td>[{\"credit_id\": \"52fe4781c3a36847f81398c3\", \"de...</td>\n",
       "      <td>7.346721</td>\n",
       "      <td>7.346721</td>\n",
       "      <td>0.754596</td>\n",
       "      <td>0.126417</td>\n",
       "    </tr>\n",
       "    <tr>\n",
       "      <th>4</th>\n",
       "      <td>260000000</td>\n",
       "      <td>[{\"id\": 28, \"name\": \"Action\"}, {\"id\": 12, \"nam...</td>\n",
       "      <td>49529</td>\n",
       "      <td>[{\"id\": 818, \"name\": \"based on novel\"}, {\"id\":...</td>\n",
       "      <td>en</td>\n",
       "      <td>John Carter</td>\n",
       "      <td>John Carter is a war-weary, former military ca...</td>\n",
       "      <td>43.926995</td>\n",
       "      <td>[{\"name\": \"Walt Disney Pictures\", \"id\": 2}]</td>\n",
       "      <td>2012-03-07</td>\n",
       "      <td>...</td>\n",
       "      <td>[{\"iso_639_1\": \"en\", \"name\": \"English\"}]</td>\n",
       "      <td>Lost in our world, found in another.</td>\n",
       "      <td>6.1</td>\n",
       "      <td>2124</td>\n",
       "      <td>[{\"cast_id\": 5, \"character\": \"John Carter\", \"c...</td>\n",
       "      <td>[{\"credit_id\": \"52fe479ac3a36847f813eaa3\", \"de...</td>\n",
       "      <td>6.096368</td>\n",
       "      <td>6.096368</td>\n",
       "      <td>0.323964</td>\n",
       "      <td>0.048148</td>\n",
       "    </tr>\n",
       "  </tbody>\n",
       "</table>\n",
       "<p>5 rows × 22 columns</p>\n",
       "</div>"
      ],
      "text/plain": [
       "      budget                                             genres      id  \\\n",
       "0  237000000  [{\"id\": 28, \"name\": \"Action\"}, {\"id\": 12, \"nam...   19995   \n",
       "1  300000000  [{\"id\": 12, \"name\": \"Adventure\"}, {\"id\": 14, \"...     285   \n",
       "2  245000000  [{\"id\": 28, \"name\": \"Action\"}, {\"id\": 12, \"nam...  206647   \n",
       "3  250000000  [{\"id\": 28, \"name\": \"Action\"}, {\"id\": 80, \"nam...   49026   \n",
       "4  260000000  [{\"id\": 28, \"name\": \"Action\"}, {\"id\": 12, \"nam...   49529   \n",
       "\n",
       "                                            keywords original_language  \\\n",
       "0  [{\"id\": 1463, \"name\": \"culture clash\"}, {\"id\":...                en   \n",
       "1  [{\"id\": 270, \"name\": \"ocean\"}, {\"id\": 726, \"na...                en   \n",
       "2  [{\"id\": 470, \"name\": \"spy\"}, {\"id\": 818, \"name...                en   \n",
       "3  [{\"id\": 849, \"name\": \"dc comics\"}, {\"id\": 853,...                en   \n",
       "4  [{\"id\": 818, \"name\": \"based on novel\"}, {\"id\":...                en   \n",
       "\n",
       "                             original_title  \\\n",
       "0                                    Avatar   \n",
       "1  Pirates of the Caribbean: At World's End   \n",
       "2                                   Spectre   \n",
       "3                     The Dark Knight Rises   \n",
       "4                               John Carter   \n",
       "\n",
       "                                            overview  popularity  \\\n",
       "0  In the 22nd century, a paraplegic Marine is di...  150.437577   \n",
       "1  Captain Barbossa, long believed to be dead, ha...  139.082615   \n",
       "2  A cryptic message from Bond’s past sends him o...  107.376788   \n",
       "3  Following the death of District Attorney Harve...  112.312950   \n",
       "4  John Carter is a war-weary, former military ca...   43.926995   \n",
       "\n",
       "                                production_companies release_date  ...  \\\n",
       "0  [{\"name\": \"Ingenious Film Partners\", \"id\": 289...   2009-12-10  ...   \n",
       "1  [{\"name\": \"Walt Disney Pictures\", \"id\": 2}, {\"...   2007-05-19  ...   \n",
       "2  [{\"name\": \"Columbia Pictures\", \"id\": 5}, {\"nam...   2015-10-26  ...   \n",
       "3  [{\"name\": \"Legendary Pictures\", \"id\": 923}, {\"...   2012-07-16  ...   \n",
       "4        [{\"name\": \"Walt Disney Pictures\", \"id\": 2}]   2012-03-07  ...   \n",
       "\n",
       "                                    spoken_languages  \\\n",
       "0  [{\"iso_639_1\": \"en\", \"name\": \"English\"}, {\"iso...   \n",
       "1           [{\"iso_639_1\": \"en\", \"name\": \"English\"}]   \n",
       "2  [{\"iso_639_1\": \"fr\", \"name\": \"Fran\\u00e7ais\"},...   \n",
       "3           [{\"iso_639_1\": \"en\", \"name\": \"English\"}]   \n",
       "4           [{\"iso_639_1\": \"en\", \"name\": \"English\"}]   \n",
       "\n",
       "                                          tagline vote_average vote_count  \\\n",
       "0                     Enter the World of Pandora.          7.2      11800   \n",
       "1  At the end of the world, the adventure begins.          6.9       4500   \n",
       "2                           A Plan No One Escapes          6.3       4466   \n",
       "3                                 The Legend Ends          7.6       9106   \n",
       "4            Lost in our world, found in another.          6.1       2124   \n",
       "\n",
       "                                                cast  \\\n",
       "0  [{\"cast_id\": 242, \"character\": \"Jake Sully\", \"...   \n",
       "1  [{\"cast_id\": 4, \"character\": \"Captain Jack Spa...   \n",
       "2  [{\"cast_id\": 1, \"character\": \"James Bond\", \"cr...   \n",
       "3  [{\"cast_id\": 2, \"character\": \"Bruce Wayne / Ba...   \n",
       "4  [{\"cast_id\": 5, \"character\": \"John Carter\", \"c...   \n",
       "\n",
       "                                                crew weighted_average  \\\n",
       "0  [{\"credit_id\": \"52fe48009251416c750aca23\", \"de...         7.050669   \n",
       "1  [{\"credit_id\": \"52fe4232c3a36847f800b579\", \"de...         6.665696   \n",
       "2  [{\"credit_id\": \"54805967c3a36829b5002c41\", \"de...         6.239396   \n",
       "3  [{\"credit_id\": \"52fe4781c3a36847f81398c3\", \"de...         7.346721   \n",
       "4  [{\"credit_id\": \"52fe479ac3a36847f813eaa3\", \"de...         6.096368   \n",
       "\n",
       "  weighted_avg  weighted_average_scaled  popularity_scaled  \n",
       "0     7.050669                 0.652633           0.170052  \n",
       "1     6.665696                 0.520045           0.157056  \n",
       "2     6.239396                 0.373224           0.120768  \n",
       "3     7.346721                 0.754596           0.126417  \n",
       "4     6.096368                 0.323964           0.048148  \n",
       "\n",
       "[5 rows x 22 columns]"
      ]
     },
     "execution_count": 58,
     "metadata": {},
     "output_type": "execute_result"
    }
   ],
   "source": [
    "df.head()"
   ]
  },
  {
   "cell_type": "code",
   "execution_count": 59,
   "metadata": {},
   "outputs": [
    {
     "data": {
      "text/plain": [
       "(481, 22)"
      ]
     },
     "execution_count": 59,
     "metadata": {},
     "output_type": "execute_result"
    }
   ],
   "source": [
    "df.shape"
   ]
  },
  {
   "cell_type": "code",
   "execution_count": null,
   "metadata": {},
   "outputs": [],
   "source": []
  },
  {
   "cell_type": "markdown",
   "metadata": {},
   "source": [
    "##### ie score_mix must have share of  50 percent of weight_average & 50 % of popularity"
   ]
  },
  {
   "cell_type": "code",
   "execution_count": 60,
   "metadata": {},
   "outputs": [
    {
     "name": "stderr",
     "output_type": "stream",
     "text": [
      "<ipython-input-60-fd1766311242>:1: SettingWithCopyWarning: \n",
      "A value is trying to be set on a copy of a slice from a DataFrame.\n",
      "Try using .loc[row_indexer,col_indexer] = value instead\n",
      "\n",
      "See the caveats in the documentation: https://pandas.pydata.org/pandas-docs/stable/user_guide/indexing.html#returning-a-view-versus-a-copy\n",
      "  df['score_mix'] = df['weighted_average_scaled'] * 0.5 + df['popularity_scaled'] * 0.5\n"
     ]
    }
   ],
   "source": [
    "df['score_mix'] = df['weighted_average_scaled'] * 0.5 + df['popularity_scaled'] * 0.5\n"
   ]
  },
  {
   "cell_type": "code",
   "execution_count": null,
   "metadata": {},
   "outputs": [],
   "source": []
  },
  {
   "cell_type": "code",
   "execution_count": 61,
   "metadata": {},
   "outputs": [
    {
     "data": {
      "text/html": [
       "<div>\n",
       "<style scoped>\n",
       "    .dataframe tbody tr th:only-of-type {\n",
       "        vertical-align: middle;\n",
       "    }\n",
       "\n",
       "    .dataframe tbody tr th {\n",
       "        vertical-align: top;\n",
       "    }\n",
       "\n",
       "    .dataframe thead th {\n",
       "        text-align: right;\n",
       "    }\n",
       "</style>\n",
       "<table border=\"1\" class=\"dataframe\">\n",
       "  <thead>\n",
       "    <tr style=\"text-align: right;\">\n",
       "      <th></th>\n",
       "      <th>budget</th>\n",
       "      <th>genres</th>\n",
       "      <th>id</th>\n",
       "      <th>keywords</th>\n",
       "      <th>original_language</th>\n",
       "      <th>original_title</th>\n",
       "      <th>overview</th>\n",
       "      <th>popularity</th>\n",
       "      <th>production_companies</th>\n",
       "      <th>release_date</th>\n",
       "      <th>...</th>\n",
       "      <th>tagline</th>\n",
       "      <th>vote_average</th>\n",
       "      <th>vote_count</th>\n",
       "      <th>cast</th>\n",
       "      <th>crew</th>\n",
       "      <th>weighted_average</th>\n",
       "      <th>weighted_avg</th>\n",
       "      <th>weighted_average_scaled</th>\n",
       "      <th>popularity_scaled</th>\n",
       "      <th>score_mix</th>\n",
       "    </tr>\n",
       "  </thead>\n",
       "  <tbody>\n",
       "    <tr>\n",
       "      <th>95</th>\n",
       "      <td>165000000</td>\n",
       "      <td>[{\"id\": 12, \"name\": \"Adventure\"}, {\"id\": 18, \"...</td>\n",
       "      <td>157336</td>\n",
       "      <td>[{\"id\": 83, \"name\": \"saving the world\"}, {\"id\"...</td>\n",
       "      <td>en</td>\n",
       "      <td>Interstellar</td>\n",
       "      <td>Interstellar chronicles the adventures of a gr...</td>\n",
       "      <td>724.247784</td>\n",
       "      <td>[{\"name\": \"Paramount Pictures\", \"id\": 4}, {\"na...</td>\n",
       "      <td>2014-11-05</td>\n",
       "      <td>...</td>\n",
       "      <td>Mankind was born on Earth. It was never meant ...</td>\n",
       "      <td>8.1</td>\n",
       "      <td>10867</td>\n",
       "      <td>[{\"cast_id\": 9, \"character\": \"Joseph Cooper\", ...</td>\n",
       "      <td>[{\"credit_id\": \"52fe4bbf9251416c910e4801\", \"de...</td>\n",
       "      <td>7.809479</td>\n",
       "      <td>7.809479</td>\n",
       "      <td>0.913974</td>\n",
       "      <td>0.826794</td>\n",
       "      <td>0.870384</td>\n",
       "    </tr>\n",
       "    <tr>\n",
       "      <th>546</th>\n",
       "      <td>74000000</td>\n",
       "      <td>[{\"id\": 10751, \"name\": \"Family\"}, {\"id\": 16, \"...</td>\n",
       "      <td>211672</td>\n",
       "      <td>[{\"id\": 3487, \"name\": \"assistant\"}, {\"id\": 179...</td>\n",
       "      <td>en</td>\n",
       "      <td>Minions</td>\n",
       "      <td>Minions Stuart, Kevin and Bob are recruited by...</td>\n",
       "      <td>875.581305</td>\n",
       "      <td>[{\"name\": \"Universal Pictures\", \"id\": 33}, {\"n...</td>\n",
       "      <td>2015-06-17</td>\n",
       "      <td>...</td>\n",
       "      <td>Before Gru, they had a history of bad bosses</td>\n",
       "      <td>6.4</td>\n",
       "      <td>4571</td>\n",
       "      <td>[{\"cast_id\": 22, \"character\": \"Scarlet Overkil...</td>\n",
       "      <td>[{\"credit_id\": \"5431b2b10e0a2656e20026c7\", \"de...</td>\n",
       "      <td>6.311706</td>\n",
       "      <td>6.311706</td>\n",
       "      <td>0.398128</td>\n",
       "      <td>1.000000</td>\n",
       "      <td>0.699064</td>\n",
       "    </tr>\n",
       "    <tr>\n",
       "      <th>94</th>\n",
       "      <td>170000000</td>\n",
       "      <td>[{\"id\": 28, \"name\": \"Action\"}, {\"id\": 878, \"na...</td>\n",
       "      <td>118340</td>\n",
       "      <td>[{\"id\": 8828, \"name\": \"marvel comic\"}, {\"id\": ...</td>\n",
       "      <td>en</td>\n",
       "      <td>Guardians of the Galaxy</td>\n",
       "      <td>Light years from Earth, 26 years after being a...</td>\n",
       "      <td>481.098624</td>\n",
       "      <td>[{\"name\": \"Marvel Studios\", \"id\": 420}, {\"name...</td>\n",
       "      <td>2014-07-30</td>\n",
       "      <td>...</td>\n",
       "      <td>All heroes start somewhere.</td>\n",
       "      <td>7.9</td>\n",
       "      <td>9742</td>\n",
       "      <td>[{\"cast_id\": 1, \"character\": \"Peter Quill / St...</td>\n",
       "      <td>[{\"credit_id\": \"538ce329c3a3687155003358\", \"de...</td>\n",
       "      <td>7.613005</td>\n",
       "      <td>7.613005</td>\n",
       "      <td>0.846307</td>\n",
       "      <td>0.548503</td>\n",
       "      <td>0.697405</td>\n",
       "    </tr>\n",
       "    <tr>\n",
       "      <th>788</th>\n",
       "      <td>58000000</td>\n",
       "      <td>[{\"id\": 28, \"name\": \"Action\"}, {\"id\": 12, \"nam...</td>\n",
       "      <td>293660</td>\n",
       "      <td>[{\"id\": 2095, \"name\": \"anti hero\"}, {\"id\": 307...</td>\n",
       "      <td>en</td>\n",
       "      <td>Deadpool</td>\n",
       "      <td>Deadpool tells the origin story of former Spec...</td>\n",
       "      <td>514.569956</td>\n",
       "      <td>[{\"name\": \"Twentieth Century Fox Film Corporat...</td>\n",
       "      <td>2016-02-09</td>\n",
       "      <td>...</td>\n",
       "      <td>Witness the beginning of a happy ending</td>\n",
       "      <td>7.4</td>\n",
       "      <td>10995</td>\n",
       "      <td>[{\"cast_id\": 99, \"character\": \"Wade Wilson / D...</td>\n",
       "      <td>[{\"credit_id\": \"56c986b2925141172f0068b6\", \"de...</td>\n",
       "      <td>7.212652</td>\n",
       "      <td>7.212652</td>\n",
       "      <td>0.708422</td>\n",
       "      <td>0.586812</td>\n",
       "      <td>0.647617</td>\n",
       "    </tr>\n",
       "    <tr>\n",
       "      <th>65</th>\n",
       "      <td>185000000</td>\n",
       "      <td>[{\"id\": 18, \"name\": \"Drama\"}, {\"id\": 28, \"name...</td>\n",
       "      <td>155</td>\n",
       "      <td>[{\"id\": 849, \"name\": \"dc comics\"}, {\"id\": 853,...</td>\n",
       "      <td>en</td>\n",
       "      <td>The Dark Knight</td>\n",
       "      <td>Batman raises the stakes in his war on crime. ...</td>\n",
       "      <td>187.322927</td>\n",
       "      <td>[{\"name\": \"DC Comics\", \"id\": 429}, {\"name\": \"L...</td>\n",
       "      <td>2008-07-16</td>\n",
       "      <td>...</td>\n",
       "      <td>Why So Serious?</td>\n",
       "      <td>8.2</td>\n",
       "      <td>12002</td>\n",
       "      <td>[{\"cast_id\": 35, \"character\": \"Bruce Wayne\", \"...</td>\n",
       "      <td>[{\"credit_id\": \"55a0eb4a925141296b0010f8\", \"de...</td>\n",
       "      <td>7.920020</td>\n",
       "      <td>7.920020</td>\n",
       "      <td>0.952045</td>\n",
       "      <td>0.212268</td>\n",
       "      <td>0.582157</td>\n",
       "    </tr>\n",
       "    <tr>\n",
       "      <th>...</th>\n",
       "      <td>...</td>\n",
       "      <td>...</td>\n",
       "      <td>...</td>\n",
       "      <td>...</td>\n",
       "      <td>...</td>\n",
       "      <td>...</td>\n",
       "      <td>...</td>\n",
       "      <td>...</td>\n",
       "      <td>...</td>\n",
       "      <td>...</td>\n",
       "      <td>...</td>\n",
       "      <td>...</td>\n",
       "      <td>...</td>\n",
       "      <td>...</td>\n",
       "      <td>...</td>\n",
       "      <td>...</td>\n",
       "      <td>...</td>\n",
       "      <td>...</td>\n",
       "      <td>...</td>\n",
       "      <td>...</td>\n",
       "      <td>...</td>\n",
       "    </tr>\n",
       "    <tr>\n",
       "      <th>337</th>\n",
       "      <td>92000000</td>\n",
       "      <td>[{\"id\": 28, \"name\": \"Action\"}, {\"id\": 53, \"nam...</td>\n",
       "      <td>47964</td>\n",
       "      <td>[{\"id\": 258, \"name\": \"bomb\"}, {\"id\": 591, \"nam...</td>\n",
       "      <td>en</td>\n",
       "      <td>A Good Day to Die Hard</td>\n",
       "      <td>Iconoclastic, take-no-prisoners cop John McCla...</td>\n",
       "      <td>65.402595</td>\n",
       "      <td>[{\"name\": \"Ingenious Media\", \"id\": 290}, {\"nam...</td>\n",
       "      <td>2013-02-06</td>\n",
       "      <td>...</td>\n",
       "      <td>Yippee Ki-Yay Mother Russia</td>\n",
       "      <td>5.2</td>\n",
       "      <td>3493</td>\n",
       "      <td>[{\"cast_id\": 1, \"character\": \"John McClane\", \"...</td>\n",
       "      <td>[{\"credit_id\": \"5336b04a9251417db4000c80\", \"de...</td>\n",
       "      <td>5.507643</td>\n",
       "      <td>5.507643</td>\n",
       "      <td>0.121202</td>\n",
       "      <td>0.072727</td>\n",
       "      <td>0.096964</td>\n",
       "    </tr>\n",
       "    <tr>\n",
       "      <th>41</th>\n",
       "      <td>200000000</td>\n",
       "      <td>[{\"id\": 12, \"name\": \"Adventure\"}, {\"id\": 28, \"...</td>\n",
       "      <td>44912</td>\n",
       "      <td>[{\"id\": 849, \"name\": \"dc comics\"}, {\"id\": 4375...</td>\n",
       "      <td>en</td>\n",
       "      <td>Green Lantern</td>\n",
       "      <td>For centuries, a small but powerful force of w...</td>\n",
       "      <td>51.872839</td>\n",
       "      <td>[{\"name\": \"De Line Pictures\", \"id\": 2609}, {\"n...</td>\n",
       "      <td>2011-06-16</td>\n",
       "      <td>...</td>\n",
       "      <td>In our darkest hour, there will be light.</td>\n",
       "      <td>5.1</td>\n",
       "      <td>2487</td>\n",
       "      <td>[{\"cast_id\": 6, \"character\": \"Hal Jordan / Gre...</td>\n",
       "      <td>[{\"credit_id\": \"52fe46a3c3a36847f8109f09\", \"de...</td>\n",
       "      <td>5.521697</td>\n",
       "      <td>5.521697</td>\n",
       "      <td>0.126042</td>\n",
       "      <td>0.057242</td>\n",
       "      <td>0.091642</td>\n",
       "    </tr>\n",
       "    <tr>\n",
       "      <th>193</th>\n",
       "      <td>130000000</td>\n",
       "      <td>[{\"id\": 878, \"name\": \"Science Fiction\"}, {\"id\"...</td>\n",
       "      <td>82700</td>\n",
       "      <td>[{\"id\": 4565, \"name\": \"dystopia\"}]</td>\n",
       "      <td>en</td>\n",
       "      <td>After Earth</td>\n",
       "      <td>One thousand years after cataclysmic events fo...</td>\n",
       "      <td>42.840582</td>\n",
       "      <td>[{\"name\": \"Columbia Pictures\", \"id\": 5}, {\"nam...</td>\n",
       "      <td>2013-05-30</td>\n",
       "      <td>...</td>\n",
       "      <td>Danger is real, fear is a choice</td>\n",
       "      <td>5.0</td>\n",
       "      <td>2532</td>\n",
       "      <td>[{\"cast_id\": 11, \"character\": \"Kitai Raige\", \"...</td>\n",
       "      <td>[{\"credit_id\": \"52fe486f9251416c9108c631\", \"de...</td>\n",
       "      <td>5.459420</td>\n",
       "      <td>5.459420</td>\n",
       "      <td>0.104593</td>\n",
       "      <td>0.046904</td>\n",
       "      <td>0.075749</td>\n",
       "    </tr>\n",
       "    <tr>\n",
       "      <th>91</th>\n",
       "      <td>165000000</td>\n",
       "      <td>[{\"id\": 28, \"name\": \"Action\"}, {\"id\": 12, \"nam...</td>\n",
       "      <td>47933</td>\n",
       "      <td>[{\"id\": 12026, \"name\": \"alternate history\"}, {...</td>\n",
       "      <td>en</td>\n",
       "      <td>Independence Day: Resurgence</td>\n",
       "      <td>We always knew they were coming back. Using re...</td>\n",
       "      <td>48.775723</td>\n",
       "      <td>[{\"name\": \"Twentieth Century Fox Film Corporat...</td>\n",
       "      <td>2016-06-22</td>\n",
       "      <td>...</td>\n",
       "      <td>We had twenty years to prepare. So did they.</td>\n",
       "      <td>4.9</td>\n",
       "      <td>2491</td>\n",
       "      <td>[{\"cast_id\": 5, \"character\": \"Jake Morrison\", ...</td>\n",
       "      <td>[{\"credit_id\": \"5763d39cc3a36860a5000168\", \"de...</td>\n",
       "      <td>5.406234</td>\n",
       "      <td>5.406234</td>\n",
       "      <td>0.086276</td>\n",
       "      <td>0.053697</td>\n",
       "      <td>0.069986</td>\n",
       "    </tr>\n",
       "    <tr>\n",
       "      <th>242</th>\n",
       "      <td>120000000</td>\n",
       "      <td>[{\"id\": 28, \"name\": \"Action\"}, {\"id\": 12, \"nam...</td>\n",
       "      <td>166424</td>\n",
       "      <td>[{\"id\": 3822, \"name\": \"teleportation\"}, {\"id\":...</td>\n",
       "      <td>en</td>\n",
       "      <td>Fantastic Four</td>\n",
       "      <td>Four young outsiders teleport to a dangerous u...</td>\n",
       "      <td>38.126095</td>\n",
       "      <td>[{\"name\": \"Twentieth Century Fox Film Corporat...</td>\n",
       "      <td>2015-08-05</td>\n",
       "      <td>...</td>\n",
       "      <td>Change is coming.</td>\n",
       "      <td>4.4</td>\n",
       "      <td>2278</td>\n",
       "      <td>[{\"cast_id\": 169, \"character\": \"Reed Richards ...</td>\n",
       "      <td>[{\"credit_id\": \"566e93a9925141664f00eb4c\", \"de...</td>\n",
       "      <td>5.155730</td>\n",
       "      <td>5.155730</td>\n",
       "      <td>0.000000</td>\n",
       "      <td>0.041508</td>\n",
       "      <td>0.020754</td>\n",
       "    </tr>\n",
       "  </tbody>\n",
       "</table>\n",
       "<p>481 rows × 23 columns</p>\n",
       "</div>"
      ],
      "text/plain": [
       "        budget                                             genres      id  \\\n",
       "95   165000000  [{\"id\": 12, \"name\": \"Adventure\"}, {\"id\": 18, \"...  157336   \n",
       "546   74000000  [{\"id\": 10751, \"name\": \"Family\"}, {\"id\": 16, \"...  211672   \n",
       "94   170000000  [{\"id\": 28, \"name\": \"Action\"}, {\"id\": 878, \"na...  118340   \n",
       "788   58000000  [{\"id\": 28, \"name\": \"Action\"}, {\"id\": 12, \"nam...  293660   \n",
       "65   185000000  [{\"id\": 18, \"name\": \"Drama\"}, {\"id\": 28, \"name...     155   \n",
       "..         ...                                                ...     ...   \n",
       "337   92000000  [{\"id\": 28, \"name\": \"Action\"}, {\"id\": 53, \"nam...   47964   \n",
       "41   200000000  [{\"id\": 12, \"name\": \"Adventure\"}, {\"id\": 28, \"...   44912   \n",
       "193  130000000  [{\"id\": 878, \"name\": \"Science Fiction\"}, {\"id\"...   82700   \n",
       "91   165000000  [{\"id\": 28, \"name\": \"Action\"}, {\"id\": 12, \"nam...   47933   \n",
       "242  120000000  [{\"id\": 28, \"name\": \"Action\"}, {\"id\": 12, \"nam...  166424   \n",
       "\n",
       "                                              keywords original_language  \\\n",
       "95   [{\"id\": 83, \"name\": \"saving the world\"}, {\"id\"...                en   \n",
       "546  [{\"id\": 3487, \"name\": \"assistant\"}, {\"id\": 179...                en   \n",
       "94   [{\"id\": 8828, \"name\": \"marvel comic\"}, {\"id\": ...                en   \n",
       "788  [{\"id\": 2095, \"name\": \"anti hero\"}, {\"id\": 307...                en   \n",
       "65   [{\"id\": 849, \"name\": \"dc comics\"}, {\"id\": 853,...                en   \n",
       "..                                                 ...               ...   \n",
       "337  [{\"id\": 258, \"name\": \"bomb\"}, {\"id\": 591, \"nam...                en   \n",
       "41   [{\"id\": 849, \"name\": \"dc comics\"}, {\"id\": 4375...                en   \n",
       "193                 [{\"id\": 4565, \"name\": \"dystopia\"}]                en   \n",
       "91   [{\"id\": 12026, \"name\": \"alternate history\"}, {...                en   \n",
       "242  [{\"id\": 3822, \"name\": \"teleportation\"}, {\"id\":...                en   \n",
       "\n",
       "                   original_title  \\\n",
       "95                   Interstellar   \n",
       "546                       Minions   \n",
       "94        Guardians of the Galaxy   \n",
       "788                      Deadpool   \n",
       "65                The Dark Knight   \n",
       "..                            ...   \n",
       "337        A Good Day to Die Hard   \n",
       "41                  Green Lantern   \n",
       "193                   After Earth   \n",
       "91   Independence Day: Resurgence   \n",
       "242                Fantastic Four   \n",
       "\n",
       "                                              overview  popularity  \\\n",
       "95   Interstellar chronicles the adventures of a gr...  724.247784   \n",
       "546  Minions Stuart, Kevin and Bob are recruited by...  875.581305   \n",
       "94   Light years from Earth, 26 years after being a...  481.098624   \n",
       "788  Deadpool tells the origin story of former Spec...  514.569956   \n",
       "65   Batman raises the stakes in his war on crime. ...  187.322927   \n",
       "..                                                 ...         ...   \n",
       "337  Iconoclastic, take-no-prisoners cop John McCla...   65.402595   \n",
       "41   For centuries, a small but powerful force of w...   51.872839   \n",
       "193  One thousand years after cataclysmic events fo...   42.840582   \n",
       "91   We always knew they were coming back. Using re...   48.775723   \n",
       "242  Four young outsiders teleport to a dangerous u...   38.126095   \n",
       "\n",
       "                                  production_companies release_date  ...  \\\n",
       "95   [{\"name\": \"Paramount Pictures\", \"id\": 4}, {\"na...   2014-11-05  ...   \n",
       "546  [{\"name\": \"Universal Pictures\", \"id\": 33}, {\"n...   2015-06-17  ...   \n",
       "94   [{\"name\": \"Marvel Studios\", \"id\": 420}, {\"name...   2014-07-30  ...   \n",
       "788  [{\"name\": \"Twentieth Century Fox Film Corporat...   2016-02-09  ...   \n",
       "65   [{\"name\": \"DC Comics\", \"id\": 429}, {\"name\": \"L...   2008-07-16  ...   \n",
       "..                                                 ...          ...  ...   \n",
       "337  [{\"name\": \"Ingenious Media\", \"id\": 290}, {\"nam...   2013-02-06  ...   \n",
       "41   [{\"name\": \"De Line Pictures\", \"id\": 2609}, {\"n...   2011-06-16  ...   \n",
       "193  [{\"name\": \"Columbia Pictures\", \"id\": 5}, {\"nam...   2013-05-30  ...   \n",
       "91   [{\"name\": \"Twentieth Century Fox Film Corporat...   2016-06-22  ...   \n",
       "242  [{\"name\": \"Twentieth Century Fox Film Corporat...   2015-08-05  ...   \n",
       "\n",
       "                                               tagline  vote_average  \\\n",
       "95   Mankind was born on Earth. It was never meant ...           8.1   \n",
       "546       Before Gru, they had a history of bad bosses           6.4   \n",
       "94                         All heroes start somewhere.           7.9   \n",
       "788            Witness the beginning of a happy ending           7.4   \n",
       "65                                     Why So Serious?           8.2   \n",
       "..                                                 ...           ...   \n",
       "337                        Yippee Ki-Yay Mother Russia           5.2   \n",
       "41           In our darkest hour, there will be light.           5.1   \n",
       "193                   Danger is real, fear is a choice           5.0   \n",
       "91        We had twenty years to prepare. So did they.           4.9   \n",
       "242                                  Change is coming.           4.4   \n",
       "\n",
       "    vote_count                                               cast  \\\n",
       "95       10867  [{\"cast_id\": 9, \"character\": \"Joseph Cooper\", ...   \n",
       "546       4571  [{\"cast_id\": 22, \"character\": \"Scarlet Overkil...   \n",
       "94        9742  [{\"cast_id\": 1, \"character\": \"Peter Quill / St...   \n",
       "788      10995  [{\"cast_id\": 99, \"character\": \"Wade Wilson / D...   \n",
       "65       12002  [{\"cast_id\": 35, \"character\": \"Bruce Wayne\", \"...   \n",
       "..         ...                                                ...   \n",
       "337       3493  [{\"cast_id\": 1, \"character\": \"John McClane\", \"...   \n",
       "41        2487  [{\"cast_id\": 6, \"character\": \"Hal Jordan / Gre...   \n",
       "193       2532  [{\"cast_id\": 11, \"character\": \"Kitai Raige\", \"...   \n",
       "91        2491  [{\"cast_id\": 5, \"character\": \"Jake Morrison\", ...   \n",
       "242       2278  [{\"cast_id\": 169, \"character\": \"Reed Richards ...   \n",
       "\n",
       "                                                  crew  weighted_average  \\\n",
       "95   [{\"credit_id\": \"52fe4bbf9251416c910e4801\", \"de...          7.809479   \n",
       "546  [{\"credit_id\": \"5431b2b10e0a2656e20026c7\", \"de...          6.311706   \n",
       "94   [{\"credit_id\": \"538ce329c3a3687155003358\", \"de...          7.613005   \n",
       "788  [{\"credit_id\": \"56c986b2925141172f0068b6\", \"de...          7.212652   \n",
       "65   [{\"credit_id\": \"55a0eb4a925141296b0010f8\", \"de...          7.920020   \n",
       "..                                                 ...               ...   \n",
       "337  [{\"credit_id\": \"5336b04a9251417db4000c80\", \"de...          5.507643   \n",
       "41   [{\"credit_id\": \"52fe46a3c3a36847f8109f09\", \"de...          5.521697   \n",
       "193  [{\"credit_id\": \"52fe486f9251416c9108c631\", \"de...          5.459420   \n",
       "91   [{\"credit_id\": \"5763d39cc3a36860a5000168\", \"de...          5.406234   \n",
       "242  [{\"credit_id\": \"566e93a9925141664f00eb4c\", \"de...          5.155730   \n",
       "\n",
       "    weighted_avg weighted_average_scaled  popularity_scaled  score_mix  \n",
       "95      7.809479                0.913974           0.826794   0.870384  \n",
       "546     6.311706                0.398128           1.000000   0.699064  \n",
       "94      7.613005                0.846307           0.548503   0.697405  \n",
       "788     7.212652                0.708422           0.586812   0.647617  \n",
       "65      7.920020                0.952045           0.212268   0.582157  \n",
       "..           ...                     ...                ...        ...  \n",
       "337     5.507643                0.121202           0.072727   0.096964  \n",
       "41      5.521697                0.126042           0.057242   0.091642  \n",
       "193     5.459420                0.104593           0.046904   0.075749  \n",
       "91      5.406234                0.086276           0.053697   0.069986  \n",
       "242     5.155730                0.000000           0.041508   0.020754  \n",
       "\n",
       "[481 rows x 23 columns]"
      ]
     },
     "execution_count": 61,
     "metadata": {},
     "output_type": "execute_result"
    }
   ],
   "source": [
    "df.sort_values(['score_mix'], ascending=False)\n"
   ]
  },
  {
   "cell_type": "code",
   "execution_count": 65,
   "metadata": {},
   "outputs": [],
   "source": [
    "rank=df.sort_values(['score_mix'], ascending=False)[['original_title', 'weighted_average_scaled','popularity_scaled', 'score_mix']].head(10)"
   ]
  },
  {
   "cell_type": "code",
   "execution_count": 66,
   "metadata": {},
   "outputs": [
    {
     "data": {
      "text/html": [
       "<div>\n",
       "<style scoped>\n",
       "    .dataframe tbody tr th:only-of-type {\n",
       "        vertical-align: middle;\n",
       "    }\n",
       "\n",
       "    .dataframe tbody tr th {\n",
       "        vertical-align: top;\n",
       "    }\n",
       "\n",
       "    .dataframe thead th {\n",
       "        text-align: right;\n",
       "    }\n",
       "</style>\n",
       "<table border=\"1\" class=\"dataframe\">\n",
       "  <thead>\n",
       "    <tr style=\"text-align: right;\">\n",
       "      <th></th>\n",
       "      <th>original_title</th>\n",
       "      <th>weighted_average_scaled</th>\n",
       "      <th>popularity_scaled</th>\n",
       "      <th>score_mix</th>\n",
       "    </tr>\n",
       "  </thead>\n",
       "  <tbody>\n",
       "    <tr>\n",
       "      <th>95</th>\n",
       "      <td>Interstellar</td>\n",
       "      <td>0.913974</td>\n",
       "      <td>0.826794</td>\n",
       "      <td>0.870384</td>\n",
       "    </tr>\n",
       "    <tr>\n",
       "      <th>546</th>\n",
       "      <td>Minions</td>\n",
       "      <td>0.398128</td>\n",
       "      <td>1.000000</td>\n",
       "      <td>0.699064</td>\n",
       "    </tr>\n",
       "    <tr>\n",
       "      <th>94</th>\n",
       "      <td>Guardians of the Galaxy</td>\n",
       "      <td>0.846307</td>\n",
       "      <td>0.548503</td>\n",
       "      <td>0.697405</td>\n",
       "    </tr>\n",
       "    <tr>\n",
       "      <th>788</th>\n",
       "      <td>Deadpool</td>\n",
       "      <td>0.708422</td>\n",
       "      <td>0.586812</td>\n",
       "      <td>0.647617</td>\n",
       "    </tr>\n",
       "    <tr>\n",
       "      <th>65</th>\n",
       "      <td>The Dark Knight</td>\n",
       "      <td>0.952045</td>\n",
       "      <td>0.212268</td>\n",
       "      <td>0.582157</td>\n",
       "    </tr>\n",
       "    <tr>\n",
       "      <th>1881</th>\n",
       "      <td>The Shawshank Redemption</td>\n",
       "      <td>1.000000</td>\n",
       "      <td>0.154384</td>\n",
       "      <td>0.577192</td>\n",
       "    </tr>\n",
       "    <tr>\n",
       "      <th>127</th>\n",
       "      <td>Mad Max: Fury Road</td>\n",
       "      <td>0.641800</td>\n",
       "      <td>0.494916</td>\n",
       "      <td>0.568358</td>\n",
       "    </tr>\n",
       "    <tr>\n",
       "      <th>662</th>\n",
       "      <td>Fight Club</td>\n",
       "      <td>0.958670</td>\n",
       "      <td>0.165840</td>\n",
       "      <td>0.562255</td>\n",
       "    </tr>\n",
       "    <tr>\n",
       "      <th>96</th>\n",
       "      <td>Inception</td>\n",
       "      <td>0.932490</td>\n",
       "      <td>0.189676</td>\n",
       "      <td>0.561083</td>\n",
       "    </tr>\n",
       "    <tr>\n",
       "      <th>3337</th>\n",
       "      <td>The Godfather</td>\n",
       "      <td>0.928356</td>\n",
       "      <td>0.162295</td>\n",
       "      <td>0.545325</td>\n",
       "    </tr>\n",
       "  </tbody>\n",
       "</table>\n",
       "</div>"
      ],
      "text/plain": [
       "                original_title  weighted_average_scaled  popularity_scaled  \\\n",
       "95                Interstellar                 0.913974           0.826794   \n",
       "546                    Minions                 0.398128           1.000000   \n",
       "94     Guardians of the Galaxy                 0.846307           0.548503   \n",
       "788                   Deadpool                 0.708422           0.586812   \n",
       "65             The Dark Knight                 0.952045           0.212268   \n",
       "1881  The Shawshank Redemption                 1.000000           0.154384   \n",
       "127         Mad Max: Fury Road                 0.641800           0.494916   \n",
       "662                 Fight Club                 0.958670           0.165840   \n",
       "96                   Inception                 0.932490           0.189676   \n",
       "3337             The Godfather                 0.928356           0.162295   \n",
       "\n",
       "      score_mix  \n",
       "95     0.870384  \n",
       "546    0.699064  \n",
       "94     0.697405  \n",
       "788    0.647617  \n",
       "65     0.582157  \n",
       "1881   0.577192  \n",
       "127    0.568358  \n",
       "662    0.562255  \n",
       "96     0.561083  \n",
       "3337   0.545325  "
      ]
     },
     "execution_count": 66,
     "metadata": {},
     "output_type": "execute_result"
    }
   ],
   "source": [
    "rank"
   ]
  },
  {
   "cell_type": "code",
   "execution_count": null,
   "metadata": {},
   "outputs": [],
   "source": []
  },
  {
   "cell_type": "code",
   "execution_count": null,
   "metadata": {},
   "outputs": [],
   "source": [
    "### using plotly"
   ]
  },
  {
   "cell_type": "code",
   "execution_count": 64,
   "metadata": {},
   "outputs": [],
   "source": [
    "import plotly.express as px"
   ]
  },
  {
   "cell_type": "code",
   "execution_count": 68,
   "metadata": {},
   "outputs": [
    {
     "data": {
      "application/vnd.plotly.v1+json": {
       "config": {
        "plotlyServerURL": "https://plot.ly"
       },
       "data": [
        {
         "alignmentgroup": "True",
         "hovertemplate": "x=%{x}<br>y=%{y}<extra></extra>",
         "legendgroup": "",
         "marker": {
          "color": "#636efa",
          "pattern": {
           "shape": ""
          }
         },
         "name": "",
         "offsetgroup": "",
         "orientation": "v",
         "showlegend": false,
         "textposition": "auto",
         "type": "bar",
         "x": [
          "Interstellar",
          "Minions",
          "Guardians of the Galaxy",
          "Deadpool",
          "The Dark Knight",
          "The Shawshank Redemption",
          "Mad Max: Fury Road",
          "Fight Club",
          "Inception",
          "The Godfather"
         ],
         "xaxis": "x",
         "y": [
          0.8703841563891469,
          0.699064022512515,
          0.6974050239360943,
          0.6476168788583088,
          0.5821569190891333,
          0.5771918150788431,
          0.568358027931897,
          0.562255235233399,
          0.5610829665867078,
          0.5453251090907417
         ],
         "yaxis": "y"
        }
       ],
       "layout": {
        "barmode": "relative",
        "legend": {
         "tracegroupgap": 0
        },
        "margin": {
         "t": 60
        },
        "template": {
         "data": {
          "bar": [
           {
            "error_x": {
             "color": "#2a3f5f"
            },
            "error_y": {
             "color": "#2a3f5f"
            },
            "marker": {
             "line": {
              "color": "#E5ECF6",
              "width": 0.5
             },
             "pattern": {
              "fillmode": "overlay",
              "size": 10,
              "solidity": 0.2
             }
            },
            "type": "bar"
           }
          ],
          "barpolar": [
           {
            "marker": {
             "line": {
              "color": "#E5ECF6",
              "width": 0.5
             },
             "pattern": {
              "fillmode": "overlay",
              "size": 10,
              "solidity": 0.2
             }
            },
            "type": "barpolar"
           }
          ],
          "carpet": [
           {
            "aaxis": {
             "endlinecolor": "#2a3f5f",
             "gridcolor": "white",
             "linecolor": "white",
             "minorgridcolor": "white",
             "startlinecolor": "#2a3f5f"
            },
            "baxis": {
             "endlinecolor": "#2a3f5f",
             "gridcolor": "white",
             "linecolor": "white",
             "minorgridcolor": "white",
             "startlinecolor": "#2a3f5f"
            },
            "type": "carpet"
           }
          ],
          "choropleth": [
           {
            "colorbar": {
             "outlinewidth": 0,
             "ticks": ""
            },
            "type": "choropleth"
           }
          ],
          "contour": [
           {
            "colorbar": {
             "outlinewidth": 0,
             "ticks": ""
            },
            "colorscale": [
             [
              0,
              "#0d0887"
             ],
             [
              0.1111111111111111,
              "#46039f"
             ],
             [
              0.2222222222222222,
              "#7201a8"
             ],
             [
              0.3333333333333333,
              "#9c179e"
             ],
             [
              0.4444444444444444,
              "#bd3786"
             ],
             [
              0.5555555555555556,
              "#d8576b"
             ],
             [
              0.6666666666666666,
              "#ed7953"
             ],
             [
              0.7777777777777778,
              "#fb9f3a"
             ],
             [
              0.8888888888888888,
              "#fdca26"
             ],
             [
              1,
              "#f0f921"
             ]
            ],
            "type": "contour"
           }
          ],
          "contourcarpet": [
           {
            "colorbar": {
             "outlinewidth": 0,
             "ticks": ""
            },
            "type": "contourcarpet"
           }
          ],
          "heatmap": [
           {
            "colorbar": {
             "outlinewidth": 0,
             "ticks": ""
            },
            "colorscale": [
             [
              0,
              "#0d0887"
             ],
             [
              0.1111111111111111,
              "#46039f"
             ],
             [
              0.2222222222222222,
              "#7201a8"
             ],
             [
              0.3333333333333333,
              "#9c179e"
             ],
             [
              0.4444444444444444,
              "#bd3786"
             ],
             [
              0.5555555555555556,
              "#d8576b"
             ],
             [
              0.6666666666666666,
              "#ed7953"
             ],
             [
              0.7777777777777778,
              "#fb9f3a"
             ],
             [
              0.8888888888888888,
              "#fdca26"
             ],
             [
              1,
              "#f0f921"
             ]
            ],
            "type": "heatmap"
           }
          ],
          "heatmapgl": [
           {
            "colorbar": {
             "outlinewidth": 0,
             "ticks": ""
            },
            "colorscale": [
             [
              0,
              "#0d0887"
             ],
             [
              0.1111111111111111,
              "#46039f"
             ],
             [
              0.2222222222222222,
              "#7201a8"
             ],
             [
              0.3333333333333333,
              "#9c179e"
             ],
             [
              0.4444444444444444,
              "#bd3786"
             ],
             [
              0.5555555555555556,
              "#d8576b"
             ],
             [
              0.6666666666666666,
              "#ed7953"
             ],
             [
              0.7777777777777778,
              "#fb9f3a"
             ],
             [
              0.8888888888888888,
              "#fdca26"
             ],
             [
              1,
              "#f0f921"
             ]
            ],
            "type": "heatmapgl"
           }
          ],
          "histogram": [
           {
            "marker": {
             "pattern": {
              "fillmode": "overlay",
              "size": 10,
              "solidity": 0.2
             }
            },
            "type": "histogram"
           }
          ],
          "histogram2d": [
           {
            "colorbar": {
             "outlinewidth": 0,
             "ticks": ""
            },
            "colorscale": [
             [
              0,
              "#0d0887"
             ],
             [
              0.1111111111111111,
              "#46039f"
             ],
             [
              0.2222222222222222,
              "#7201a8"
             ],
             [
              0.3333333333333333,
              "#9c179e"
             ],
             [
              0.4444444444444444,
              "#bd3786"
             ],
             [
              0.5555555555555556,
              "#d8576b"
             ],
             [
              0.6666666666666666,
              "#ed7953"
             ],
             [
              0.7777777777777778,
              "#fb9f3a"
             ],
             [
              0.8888888888888888,
              "#fdca26"
             ],
             [
              1,
              "#f0f921"
             ]
            ],
            "type": "histogram2d"
           }
          ],
          "histogram2dcontour": [
           {
            "colorbar": {
             "outlinewidth": 0,
             "ticks": ""
            },
            "colorscale": [
             [
              0,
              "#0d0887"
             ],
             [
              0.1111111111111111,
              "#46039f"
             ],
             [
              0.2222222222222222,
              "#7201a8"
             ],
             [
              0.3333333333333333,
              "#9c179e"
             ],
             [
              0.4444444444444444,
              "#bd3786"
             ],
             [
              0.5555555555555556,
              "#d8576b"
             ],
             [
              0.6666666666666666,
              "#ed7953"
             ],
             [
              0.7777777777777778,
              "#fb9f3a"
             ],
             [
              0.8888888888888888,
              "#fdca26"
             ],
             [
              1,
              "#f0f921"
             ]
            ],
            "type": "histogram2dcontour"
           }
          ],
          "mesh3d": [
           {
            "colorbar": {
             "outlinewidth": 0,
             "ticks": ""
            },
            "type": "mesh3d"
           }
          ],
          "parcoords": [
           {
            "line": {
             "colorbar": {
              "outlinewidth": 0,
              "ticks": ""
             }
            },
            "type": "parcoords"
           }
          ],
          "pie": [
           {
            "automargin": true,
            "type": "pie"
           }
          ],
          "scatter": [
           {
            "marker": {
             "colorbar": {
              "outlinewidth": 0,
              "ticks": ""
             }
            },
            "type": "scatter"
           }
          ],
          "scatter3d": [
           {
            "line": {
             "colorbar": {
              "outlinewidth": 0,
              "ticks": ""
             }
            },
            "marker": {
             "colorbar": {
              "outlinewidth": 0,
              "ticks": ""
             }
            },
            "type": "scatter3d"
           }
          ],
          "scattercarpet": [
           {
            "marker": {
             "colorbar": {
              "outlinewidth": 0,
              "ticks": ""
             }
            },
            "type": "scattercarpet"
           }
          ],
          "scattergeo": [
           {
            "marker": {
             "colorbar": {
              "outlinewidth": 0,
              "ticks": ""
             }
            },
            "type": "scattergeo"
           }
          ],
          "scattergl": [
           {
            "marker": {
             "colorbar": {
              "outlinewidth": 0,
              "ticks": ""
             }
            },
            "type": "scattergl"
           }
          ],
          "scattermapbox": [
           {
            "marker": {
             "colorbar": {
              "outlinewidth": 0,
              "ticks": ""
             }
            },
            "type": "scattermapbox"
           }
          ],
          "scatterpolar": [
           {
            "marker": {
             "colorbar": {
              "outlinewidth": 0,
              "ticks": ""
             }
            },
            "type": "scatterpolar"
           }
          ],
          "scatterpolargl": [
           {
            "marker": {
             "colorbar": {
              "outlinewidth": 0,
              "ticks": ""
             }
            },
            "type": "scatterpolargl"
           }
          ],
          "scatterternary": [
           {
            "marker": {
             "colorbar": {
              "outlinewidth": 0,
              "ticks": ""
             }
            },
            "type": "scatterternary"
           }
          ],
          "surface": [
           {
            "colorbar": {
             "outlinewidth": 0,
             "ticks": ""
            },
            "colorscale": [
             [
              0,
              "#0d0887"
             ],
             [
              0.1111111111111111,
              "#46039f"
             ],
             [
              0.2222222222222222,
              "#7201a8"
             ],
             [
              0.3333333333333333,
              "#9c179e"
             ],
             [
              0.4444444444444444,
              "#bd3786"
             ],
             [
              0.5555555555555556,
              "#d8576b"
             ],
             [
              0.6666666666666666,
              "#ed7953"
             ],
             [
              0.7777777777777778,
              "#fb9f3a"
             ],
             [
              0.8888888888888888,
              "#fdca26"
             ],
             [
              1,
              "#f0f921"
             ]
            ],
            "type": "surface"
           }
          ],
          "table": [
           {
            "cells": {
             "fill": {
              "color": "#EBF0F8"
             },
             "line": {
              "color": "white"
             }
            },
            "header": {
             "fill": {
              "color": "#C8D4E3"
             },
             "line": {
              "color": "white"
             }
            },
            "type": "table"
           }
          ]
         },
         "layout": {
          "annotationdefaults": {
           "arrowcolor": "#2a3f5f",
           "arrowhead": 0,
           "arrowwidth": 1
          },
          "autotypenumbers": "strict",
          "coloraxis": {
           "colorbar": {
            "outlinewidth": 0,
            "ticks": ""
           }
          },
          "colorscale": {
           "diverging": [
            [
             0,
             "#8e0152"
            ],
            [
             0.1,
             "#c51b7d"
            ],
            [
             0.2,
             "#de77ae"
            ],
            [
             0.3,
             "#f1b6da"
            ],
            [
             0.4,
             "#fde0ef"
            ],
            [
             0.5,
             "#f7f7f7"
            ],
            [
             0.6,
             "#e6f5d0"
            ],
            [
             0.7,
             "#b8e186"
            ],
            [
             0.8,
             "#7fbc41"
            ],
            [
             0.9,
             "#4d9221"
            ],
            [
             1,
             "#276419"
            ]
           ],
           "sequential": [
            [
             0,
             "#0d0887"
            ],
            [
             0.1111111111111111,
             "#46039f"
            ],
            [
             0.2222222222222222,
             "#7201a8"
            ],
            [
             0.3333333333333333,
             "#9c179e"
            ],
            [
             0.4444444444444444,
             "#bd3786"
            ],
            [
             0.5555555555555556,
             "#d8576b"
            ],
            [
             0.6666666666666666,
             "#ed7953"
            ],
            [
             0.7777777777777778,
             "#fb9f3a"
            ],
            [
             0.8888888888888888,
             "#fdca26"
            ],
            [
             1,
             "#f0f921"
            ]
           ],
           "sequentialminus": [
            [
             0,
             "#0d0887"
            ],
            [
             0.1111111111111111,
             "#46039f"
            ],
            [
             0.2222222222222222,
             "#7201a8"
            ],
            [
             0.3333333333333333,
             "#9c179e"
            ],
            [
             0.4444444444444444,
             "#bd3786"
            ],
            [
             0.5555555555555556,
             "#d8576b"
            ],
            [
             0.6666666666666666,
             "#ed7953"
            ],
            [
             0.7777777777777778,
             "#fb9f3a"
            ],
            [
             0.8888888888888888,
             "#fdca26"
            ],
            [
             1,
             "#f0f921"
            ]
           ]
          },
          "colorway": [
           "#636efa",
           "#EF553B",
           "#00cc96",
           "#ab63fa",
           "#FFA15A",
           "#19d3f3",
           "#FF6692",
           "#B6E880",
           "#FF97FF",
           "#FECB52"
          ],
          "font": {
           "color": "#2a3f5f"
          },
          "geo": {
           "bgcolor": "white",
           "lakecolor": "white",
           "landcolor": "#E5ECF6",
           "showlakes": true,
           "showland": true,
           "subunitcolor": "white"
          },
          "hoverlabel": {
           "align": "left"
          },
          "hovermode": "closest",
          "mapbox": {
           "style": "light"
          },
          "paper_bgcolor": "white",
          "plot_bgcolor": "#E5ECF6",
          "polar": {
           "angularaxis": {
            "gridcolor": "white",
            "linecolor": "white",
            "ticks": ""
           },
           "bgcolor": "#E5ECF6",
           "radialaxis": {
            "gridcolor": "white",
            "linecolor": "white",
            "ticks": ""
           }
          },
          "scene": {
           "xaxis": {
            "backgroundcolor": "#E5ECF6",
            "gridcolor": "white",
            "gridwidth": 2,
            "linecolor": "white",
            "showbackground": true,
            "ticks": "",
            "zerolinecolor": "white"
           },
           "yaxis": {
            "backgroundcolor": "#E5ECF6",
            "gridcolor": "white",
            "gridwidth": 2,
            "linecolor": "white",
            "showbackground": true,
            "ticks": "",
            "zerolinecolor": "white"
           },
           "zaxis": {
            "backgroundcolor": "#E5ECF6",
            "gridcolor": "white",
            "gridwidth": 2,
            "linecolor": "white",
            "showbackground": true,
            "ticks": "",
            "zerolinecolor": "white"
           }
          },
          "shapedefaults": {
           "line": {
            "color": "#2a3f5f"
           }
          },
          "ternary": {
           "aaxis": {
            "gridcolor": "white",
            "linecolor": "white",
            "ticks": ""
           },
           "baxis": {
            "gridcolor": "white",
            "linecolor": "white",
            "ticks": ""
           },
           "bgcolor": "#E5ECF6",
           "caxis": {
            "gridcolor": "white",
            "linecolor": "white",
            "ticks": ""
           }
          },
          "title": {
           "x": 0.05
          },
          "xaxis": {
           "automargin": true,
           "gridcolor": "white",
           "linecolor": "white",
           "ticks": "",
           "title": {
            "standoff": 15
           },
           "zerolinecolor": "white",
           "zerolinewidth": 2
          },
          "yaxis": {
           "automargin": true,
           "gridcolor": "white",
           "linecolor": "white",
           "ticks": "",
           "title": {
            "standoff": 15
           },
           "zerolinecolor": "white",
           "zerolinewidth": 2
          }
         }
        },
        "xaxis": {
         "anchor": "y",
         "domain": [
          0,
          1
         ],
         "title": {
          "text": "x"
         }
        },
        "yaxis": {
         "anchor": "x",
         "domain": [
          0,
          1
         ],
         "title": {
          "text": "y"
         }
        }
       }
      },
      "text/html": [
       "<div>                            <div id=\"8385940a-dfe4-4985-874c-3c5014c91fe7\" class=\"plotly-graph-div\" style=\"height:525px; width:100%;\"></div>            <script type=\"text/javascript\">                require([\"plotly\"], function(Plotly) {                    window.PLOTLYENV=window.PLOTLYENV || {};                                    if (document.getElementById(\"8385940a-dfe4-4985-874c-3c5014c91fe7\")) {                    Plotly.newPlot(                        \"8385940a-dfe4-4985-874c-3c5014c91fe7\",                        [{\"alignmentgroup\":\"True\",\"hovertemplate\":\"x=%{x}<br>y=%{y}<extra></extra>\",\"legendgroup\":\"\",\"marker\":{\"color\":\"#636efa\",\"pattern\":{\"shape\":\"\"}},\"name\":\"\",\"offsetgroup\":\"\",\"orientation\":\"v\",\"showlegend\":false,\"textposition\":\"auto\",\"type\":\"bar\",\"x\":[\"Interstellar\",\"Minions\",\"Guardians of the Galaxy\",\"Deadpool\",\"The Dark Knight\",\"The Shawshank Redemption\",\"Mad Max: Fury Road\",\"Fight Club\",\"Inception\",\"The Godfather\"],\"xaxis\":\"x\",\"y\":[0.8703841563891469,0.699064022512515,0.6974050239360943,0.6476168788583088,0.5821569190891333,0.5771918150788431,0.568358027931897,0.562255235233399,0.5610829665867078,0.5453251090907417],\"yaxis\":\"y\"}],                        {\"barmode\":\"relative\",\"legend\":{\"tracegroupgap\":0},\"margin\":{\"t\":60},\"template\":{\"data\":{\"bar\":[{\"error_x\":{\"color\":\"#2a3f5f\"},\"error_y\":{\"color\":\"#2a3f5f\"},\"marker\":{\"line\":{\"color\":\"#E5ECF6\",\"width\":0.5},\"pattern\":{\"fillmode\":\"overlay\",\"size\":10,\"solidity\":0.2}},\"type\":\"bar\"}],\"barpolar\":[{\"marker\":{\"line\":{\"color\":\"#E5ECF6\",\"width\":0.5},\"pattern\":{\"fillmode\":\"overlay\",\"size\":10,\"solidity\":0.2}},\"type\":\"barpolar\"}],\"carpet\":[{\"aaxis\":{\"endlinecolor\":\"#2a3f5f\",\"gridcolor\":\"white\",\"linecolor\":\"white\",\"minorgridcolor\":\"white\",\"startlinecolor\":\"#2a3f5f\"},\"baxis\":{\"endlinecolor\":\"#2a3f5f\",\"gridcolor\":\"white\",\"linecolor\":\"white\",\"minorgridcolor\":\"white\",\"startlinecolor\":\"#2a3f5f\"},\"type\":\"carpet\"}],\"choropleth\":[{\"colorbar\":{\"outlinewidth\":0,\"ticks\":\"\"},\"type\":\"choropleth\"}],\"contour\":[{\"colorbar\":{\"outlinewidth\":0,\"ticks\":\"\"},\"colorscale\":[[0.0,\"#0d0887\"],[0.1111111111111111,\"#46039f\"],[0.2222222222222222,\"#7201a8\"],[0.3333333333333333,\"#9c179e\"],[0.4444444444444444,\"#bd3786\"],[0.5555555555555556,\"#d8576b\"],[0.6666666666666666,\"#ed7953\"],[0.7777777777777778,\"#fb9f3a\"],[0.8888888888888888,\"#fdca26\"],[1.0,\"#f0f921\"]],\"type\":\"contour\"}],\"contourcarpet\":[{\"colorbar\":{\"outlinewidth\":0,\"ticks\":\"\"},\"type\":\"contourcarpet\"}],\"heatmap\":[{\"colorbar\":{\"outlinewidth\":0,\"ticks\":\"\"},\"colorscale\":[[0.0,\"#0d0887\"],[0.1111111111111111,\"#46039f\"],[0.2222222222222222,\"#7201a8\"],[0.3333333333333333,\"#9c179e\"],[0.4444444444444444,\"#bd3786\"],[0.5555555555555556,\"#d8576b\"],[0.6666666666666666,\"#ed7953\"],[0.7777777777777778,\"#fb9f3a\"],[0.8888888888888888,\"#fdca26\"],[1.0,\"#f0f921\"]],\"type\":\"heatmap\"}],\"heatmapgl\":[{\"colorbar\":{\"outlinewidth\":0,\"ticks\":\"\"},\"colorscale\":[[0.0,\"#0d0887\"],[0.1111111111111111,\"#46039f\"],[0.2222222222222222,\"#7201a8\"],[0.3333333333333333,\"#9c179e\"],[0.4444444444444444,\"#bd3786\"],[0.5555555555555556,\"#d8576b\"],[0.6666666666666666,\"#ed7953\"],[0.7777777777777778,\"#fb9f3a\"],[0.8888888888888888,\"#fdca26\"],[1.0,\"#f0f921\"]],\"type\":\"heatmapgl\"}],\"histogram\":[{\"marker\":{\"pattern\":{\"fillmode\":\"overlay\",\"size\":10,\"solidity\":0.2}},\"type\":\"histogram\"}],\"histogram2d\":[{\"colorbar\":{\"outlinewidth\":0,\"ticks\":\"\"},\"colorscale\":[[0.0,\"#0d0887\"],[0.1111111111111111,\"#46039f\"],[0.2222222222222222,\"#7201a8\"],[0.3333333333333333,\"#9c179e\"],[0.4444444444444444,\"#bd3786\"],[0.5555555555555556,\"#d8576b\"],[0.6666666666666666,\"#ed7953\"],[0.7777777777777778,\"#fb9f3a\"],[0.8888888888888888,\"#fdca26\"],[1.0,\"#f0f921\"]],\"type\":\"histogram2d\"}],\"histogram2dcontour\":[{\"colorbar\":{\"outlinewidth\":0,\"ticks\":\"\"},\"colorscale\":[[0.0,\"#0d0887\"],[0.1111111111111111,\"#46039f\"],[0.2222222222222222,\"#7201a8\"],[0.3333333333333333,\"#9c179e\"],[0.4444444444444444,\"#bd3786\"],[0.5555555555555556,\"#d8576b\"],[0.6666666666666666,\"#ed7953\"],[0.7777777777777778,\"#fb9f3a\"],[0.8888888888888888,\"#fdca26\"],[1.0,\"#f0f921\"]],\"type\":\"histogram2dcontour\"}],\"mesh3d\":[{\"colorbar\":{\"outlinewidth\":0,\"ticks\":\"\"},\"type\":\"mesh3d\"}],\"parcoords\":[{\"line\":{\"colorbar\":{\"outlinewidth\":0,\"ticks\":\"\"}},\"type\":\"parcoords\"}],\"pie\":[{\"automargin\":true,\"type\":\"pie\"}],\"scatter\":[{\"marker\":{\"colorbar\":{\"outlinewidth\":0,\"ticks\":\"\"}},\"type\":\"scatter\"}],\"scatter3d\":[{\"line\":{\"colorbar\":{\"outlinewidth\":0,\"ticks\":\"\"}},\"marker\":{\"colorbar\":{\"outlinewidth\":0,\"ticks\":\"\"}},\"type\":\"scatter3d\"}],\"scattercarpet\":[{\"marker\":{\"colorbar\":{\"outlinewidth\":0,\"ticks\":\"\"}},\"type\":\"scattercarpet\"}],\"scattergeo\":[{\"marker\":{\"colorbar\":{\"outlinewidth\":0,\"ticks\":\"\"}},\"type\":\"scattergeo\"}],\"scattergl\":[{\"marker\":{\"colorbar\":{\"outlinewidth\":0,\"ticks\":\"\"}},\"type\":\"scattergl\"}],\"scattermapbox\":[{\"marker\":{\"colorbar\":{\"outlinewidth\":0,\"ticks\":\"\"}},\"type\":\"scattermapbox\"}],\"scatterpolar\":[{\"marker\":{\"colorbar\":{\"outlinewidth\":0,\"ticks\":\"\"}},\"type\":\"scatterpolar\"}],\"scatterpolargl\":[{\"marker\":{\"colorbar\":{\"outlinewidth\":0,\"ticks\":\"\"}},\"type\":\"scatterpolargl\"}],\"scatterternary\":[{\"marker\":{\"colorbar\":{\"outlinewidth\":0,\"ticks\":\"\"}},\"type\":\"scatterternary\"}],\"surface\":[{\"colorbar\":{\"outlinewidth\":0,\"ticks\":\"\"},\"colorscale\":[[0.0,\"#0d0887\"],[0.1111111111111111,\"#46039f\"],[0.2222222222222222,\"#7201a8\"],[0.3333333333333333,\"#9c179e\"],[0.4444444444444444,\"#bd3786\"],[0.5555555555555556,\"#d8576b\"],[0.6666666666666666,\"#ed7953\"],[0.7777777777777778,\"#fb9f3a\"],[0.8888888888888888,\"#fdca26\"],[1.0,\"#f0f921\"]],\"type\":\"surface\"}],\"table\":[{\"cells\":{\"fill\":{\"color\":\"#EBF0F8\"},\"line\":{\"color\":\"white\"}},\"header\":{\"fill\":{\"color\":\"#C8D4E3\"},\"line\":{\"color\":\"white\"}},\"type\":\"table\"}]},\"layout\":{\"annotationdefaults\":{\"arrowcolor\":\"#2a3f5f\",\"arrowhead\":0,\"arrowwidth\":1},\"autotypenumbers\":\"strict\",\"coloraxis\":{\"colorbar\":{\"outlinewidth\":0,\"ticks\":\"\"}},\"colorscale\":{\"diverging\":[[0,\"#8e0152\"],[0.1,\"#c51b7d\"],[0.2,\"#de77ae\"],[0.3,\"#f1b6da\"],[0.4,\"#fde0ef\"],[0.5,\"#f7f7f7\"],[0.6,\"#e6f5d0\"],[0.7,\"#b8e186\"],[0.8,\"#7fbc41\"],[0.9,\"#4d9221\"],[1,\"#276419\"]],\"sequential\":[[0.0,\"#0d0887\"],[0.1111111111111111,\"#46039f\"],[0.2222222222222222,\"#7201a8\"],[0.3333333333333333,\"#9c179e\"],[0.4444444444444444,\"#bd3786\"],[0.5555555555555556,\"#d8576b\"],[0.6666666666666666,\"#ed7953\"],[0.7777777777777778,\"#fb9f3a\"],[0.8888888888888888,\"#fdca26\"],[1.0,\"#f0f921\"]],\"sequentialminus\":[[0.0,\"#0d0887\"],[0.1111111111111111,\"#46039f\"],[0.2222222222222222,\"#7201a8\"],[0.3333333333333333,\"#9c179e\"],[0.4444444444444444,\"#bd3786\"],[0.5555555555555556,\"#d8576b\"],[0.6666666666666666,\"#ed7953\"],[0.7777777777777778,\"#fb9f3a\"],[0.8888888888888888,\"#fdca26\"],[1.0,\"#f0f921\"]]},\"colorway\":[\"#636efa\",\"#EF553B\",\"#00cc96\",\"#ab63fa\",\"#FFA15A\",\"#19d3f3\",\"#FF6692\",\"#B6E880\",\"#FF97FF\",\"#FECB52\"],\"font\":{\"color\":\"#2a3f5f\"},\"geo\":{\"bgcolor\":\"white\",\"lakecolor\":\"white\",\"landcolor\":\"#E5ECF6\",\"showlakes\":true,\"showland\":true,\"subunitcolor\":\"white\"},\"hoverlabel\":{\"align\":\"left\"},\"hovermode\":\"closest\",\"mapbox\":{\"style\":\"light\"},\"paper_bgcolor\":\"white\",\"plot_bgcolor\":\"#E5ECF6\",\"polar\":{\"angularaxis\":{\"gridcolor\":\"white\",\"linecolor\":\"white\",\"ticks\":\"\"},\"bgcolor\":\"#E5ECF6\",\"radialaxis\":{\"gridcolor\":\"white\",\"linecolor\":\"white\",\"ticks\":\"\"}},\"scene\":{\"xaxis\":{\"backgroundcolor\":\"#E5ECF6\",\"gridcolor\":\"white\",\"gridwidth\":2,\"linecolor\":\"white\",\"showbackground\":true,\"ticks\":\"\",\"zerolinecolor\":\"white\"},\"yaxis\":{\"backgroundcolor\":\"#E5ECF6\",\"gridcolor\":\"white\",\"gridwidth\":2,\"linecolor\":\"white\",\"showbackground\":true,\"ticks\":\"\",\"zerolinecolor\":\"white\"},\"zaxis\":{\"backgroundcolor\":\"#E5ECF6\",\"gridcolor\":\"white\",\"gridwidth\":2,\"linecolor\":\"white\",\"showbackground\":true,\"ticks\":\"\",\"zerolinecolor\":\"white\"}},\"shapedefaults\":{\"line\":{\"color\":\"#2a3f5f\"}},\"ternary\":{\"aaxis\":{\"gridcolor\":\"white\",\"linecolor\":\"white\",\"ticks\":\"\"},\"baxis\":{\"gridcolor\":\"white\",\"linecolor\":\"white\",\"ticks\":\"\"},\"bgcolor\":\"#E5ECF6\",\"caxis\":{\"gridcolor\":\"white\",\"linecolor\":\"white\",\"ticks\":\"\"}},\"title\":{\"x\":0.05},\"xaxis\":{\"automargin\":true,\"gridcolor\":\"white\",\"linecolor\":\"white\",\"ticks\":\"\",\"title\":{\"standoff\":15},\"zerolinecolor\":\"white\",\"zerolinewidth\":2},\"yaxis\":{\"automargin\":true,\"gridcolor\":\"white\",\"linecolor\":\"white\",\"ticks\":\"\",\"title\":{\"standoff\":15},\"zerolinecolor\":\"white\",\"zerolinewidth\":2}}},\"xaxis\":{\"anchor\":\"y\",\"domain\":[0.0,1.0],\"title\":{\"text\":\"x\"}},\"yaxis\":{\"anchor\":\"x\",\"domain\":[0.0,1.0],\"title\":{\"text\":\"y\"}}},                        {\"responsive\": true}                    ).then(function(){\n",
       "                            \n",
       "var gd = document.getElementById('8385940a-dfe4-4985-874c-3c5014c91fe7');\n",
       "var x = new MutationObserver(function (mutations, observer) {{\n",
       "        var display = window.getComputedStyle(gd).display;\n",
       "        if (!display || display === 'none') {{\n",
       "            console.log([gd, 'removed!']);\n",
       "            Plotly.purge(gd);\n",
       "            observer.disconnect();\n",
       "        }}\n",
       "}});\n",
       "\n",
       "// Listen for the removal of the full notebook cells\n",
       "var notebookContainer = gd.closest('#notebook-container');\n",
       "if (notebookContainer) {{\n",
       "    x.observe(notebookContainer, {childList: true});\n",
       "}}\n",
       "\n",
       "// Listen for the clearing of the current output cell\n",
       "var outputEl = gd.closest('.output');\n",
       "if (outputEl) {{\n",
       "    x.observe(outputEl, {childList: true});\n",
       "}}\n",
       "\n",
       "                        })                };                });            </script>        </div>"
      ]
     },
     "metadata": {},
     "output_type": "display_data"
    }
   ],
   "source": [
    "## px.bar(x=rank['original_title'],y=rank['score_mix'])"
   ]
  },
  {
   "cell_type": "code",
   "execution_count": null,
   "metadata": {},
   "outputs": [],
   "source": []
  },
  {
   "cell_type": "code",
   "execution_count": null,
   "metadata": {},
   "outputs": [],
   "source": []
  },
  {
   "cell_type": "code",
   "execution_count": 44,
   "metadata": {},
   "outputs": [
    {
     "data": {
      "text/plain": [
       "Text(0, 0.5, 'Movie Title')"
      ]
     },
     "execution_count": 44,
     "metadata": {},
     "output_type": "execute_result"
    },
    {
     "data": {
      "image/png": "[encoded data removed]",
      "text/plain": [
       "<Figure size 1152x432 with 1 Axes>"
      ]
     },
     "metadata": {
      "needs_background": "light"
     },
     "output_type": "display_data"
    }
   ],
   "source": [
    "\n",
    "'''\n",
    "plt.figure(figsize=(16,6))\n",
    "ax = sns.barplot(x=movies_scored_df['score'].head(10), y=movies_scored_df['original_title'].head(10), palette='deep')\n",
    "\n",
    "#plt.xlim(3.55, 5.25)\n",
    "plt.title('Best Rated & Most Popular Blend', weight='bold')\n",
    "plt.xlabel('Score', weight='bold')\n",
    "plt.ylabel('Movie Title', weight='bold')\n",
    "\n",
    "\n",
    "## using matplotlib\n",
    "## scored_df = movies_cleaned_df.sort_values('score', ascending=False)\n",
    "## scored_df.set_index('original_title',inplace=True)\n",
    "## scored_df['score'].nlargest(10).plot.barh()\n",
    "\n",
    "\n",
    "'''"
   ]
  },
  {
   "cell_type": "code",
   "execution_count": null,
   "metadata": {},
   "outputs": [],
   "source": []
  },
  {
   "cell_type": "code",
   "execution_count": null,
   "metadata": {},
   "outputs": [],
   "source": []
  }
 ],
 "metadata": {
  "kernelspec": {
   "display_name": "Python 3",
   "language": "python",
   "name": "python3"
  },
  "language_info": {
   "codemirror_mode": {
    "name": "ipython",
    "version": 3
   },
   "file_extension": ".py",
   "mimetype": "text/x-python",
   "name": "python",
   "nbconvert_exporter": "python",
   "pygments_lexer": "ipython3",
   "version": "3.8.8"
  }
 },
 "nbformat": 4,
 "nbformat_minor": 2
}
