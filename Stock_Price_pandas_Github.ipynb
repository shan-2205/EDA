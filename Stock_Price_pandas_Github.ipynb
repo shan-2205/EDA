{
 "cells": [
  {
   "cell_type": "code",
   "execution_count": null,
   "metadata": {},
   "outputs": [],
   "source": []
  },
  {
   "cell_type": "code",
   "execution_count": null,
   "metadata": {},
   "outputs": [],
   "source": []
  },
  {
   "cell_type": "code",
   "execution_count": null,
   "metadata": {},
   "outputs": [],
   "source": []
  },
  {
   "cell_type": "code",
   "execution_count": 20,
   "metadata": {},
   "outputs": [],
   "source": [
    "import pandas as pd\n",
    "\n",
    "### so that u dont have warnings\n",
    "from warnings import filterwarnings\n",
    "filterwarnings('ignore')"
   ]
  },
  {
   "cell_type": "markdown",
   "metadata": {},
   "source": [
    "# 1.. collect data"
   ]
  },
  {
   "cell_type": "markdown",
   "metadata": {},
   "source": [
    "### There are 2 ways to find all the stuffs available \n",
    "      at this particular path :\n",
    "      \n",
    "    1..use listdir function of os \n",
    "    2..glob module.."
   ]
  },
  {
   "cell_type": "code",
   "execution_count": 21,
   "metadata": {},
   "outputs": [
    {
     "data": {
      "text/plain": [
       "\"\\n\\nimport os\\nos.listdir(r'G:\\\\EDA_projects\\\\Stock_Data\\\\individual_stocks_5yr\\\\individual_stocks_5yr')\\n\\n\""
      ]
     },
     "execution_count": 21,
     "metadata": {},
     "output_type": "execute_result"
    }
   ],
   "source": [
    "'''\n",
    "\n",
    "import os\n",
    "os.listdir(r'G:\\EDA_projects\\Stock_Data\\individual_stocks_5yr\\individual_stocks_5yr')\n",
    "\n",
    "'''"
   ]
  },
  {
   "cell_type": "code",
   "execution_count": null,
   "metadata": {},
   "outputs": [],
   "source": []
  },
  {
   "cell_type": "code",
   "execution_count": 22,
   "metadata": {},
   "outputs": [],
   "source": [
    "import glob"
   ]
  },
  {
   "cell_type": "code",
   "execution_count": 23,
   "metadata": {},
   "outputs": [
    {
     "data": {
      "text/plain": [
       "['G:\\\\EDA_projects\\\\Stock_Data\\\\individual_stocks_5yr\\\\individual_stocks_5yr\\\\AAL_data.csv',\n",
       " 'G:\\\\EDA_projects\\\\Stock_Data\\\\individual_stocks_5yr\\\\individual_stocks_5yr\\\\AAPL_data.csv',\n",
       " 'G:\\\\EDA_projects\\\\Stock_Data\\\\individual_stocks_5yr\\\\individual_stocks_5yr\\\\AAP_data.csv',\n",
       " 'G:\\\\EDA_projects\\\\Stock_Data\\\\individual_stocks_5yr\\\\individual_stocks_5yr\\\\ABBV_data.csv',\n",
       " 'G:\\\\EDA_projects\\\\Stock_Data\\\\individual_stocks_5yr\\\\individual_stocks_5yr\\\\ABC_data.csv',\n",
       " 'G:\\\\EDA_projects\\\\Stock_Data\\\\individual_stocks_5yr\\\\individual_stocks_5yr\\\\ABT_data.csv',\n",
       " 'G:\\\\EDA_projects\\\\Stock_Data\\\\individual_stocks_5yr\\\\individual_stocks_5yr\\\\ACN_data.csv',\n",
       " 'G:\\\\EDA_projects\\\\Stock_Data\\\\individual_stocks_5yr\\\\individual_stocks_5yr\\\\ADBE_data.csv',\n",
       " 'G:\\\\EDA_projects\\\\Stock_Data\\\\individual_stocks_5yr\\\\individual_stocks_5yr\\\\ADI_data.csv',\n",
       " 'G:\\\\EDA_projects\\\\Stock_Data\\\\individual_stocks_5yr\\\\individual_stocks_5yr\\\\ADM_data.csv',\n",
       " 'G:\\\\EDA_projects\\\\Stock_Data\\\\individual_stocks_5yr\\\\individual_stocks_5yr\\\\ADP_data.csv',\n",
       " 'G:\\\\EDA_projects\\\\Stock_Data\\\\individual_stocks_5yr\\\\individual_stocks_5yr\\\\ADSK_data.csv',\n",
       " 'G:\\\\EDA_projects\\\\Stock_Data\\\\individual_stocks_5yr\\\\individual_stocks_5yr\\\\ADS_data.csv',\n",
       " 'G:\\\\EDA_projects\\\\Stock_Data\\\\individual_stocks_5yr\\\\individual_stocks_5yr\\\\AEE_data.csv',\n",
       " 'G:\\\\EDA_projects\\\\Stock_Data\\\\individual_stocks_5yr\\\\individual_stocks_5yr\\\\AEP_data.csv',\n",
       " 'G:\\\\EDA_projects\\\\Stock_Data\\\\individual_stocks_5yr\\\\individual_stocks_5yr\\\\AES_data.csv',\n",
       " 'G:\\\\EDA_projects\\\\Stock_Data\\\\individual_stocks_5yr\\\\individual_stocks_5yr\\\\AET_data.csv',\n",
       " 'G:\\\\EDA_projects\\\\Stock_Data\\\\individual_stocks_5yr\\\\individual_stocks_5yr\\\\AFL_data.csv',\n",
       " 'G:\\\\EDA_projects\\\\Stock_Data\\\\individual_stocks_5yr\\\\individual_stocks_5yr\\\\AGN_data.csv',\n",
       " 'G:\\\\EDA_projects\\\\Stock_Data\\\\individual_stocks_5yr\\\\individual_stocks_5yr\\\\AIG_data.csv',\n",
       " 'G:\\\\EDA_projects\\\\Stock_Data\\\\individual_stocks_5yr\\\\individual_stocks_5yr\\\\AIV_data.csv',\n",
       " 'G:\\\\EDA_projects\\\\Stock_Data\\\\individual_stocks_5yr\\\\individual_stocks_5yr\\\\AIZ_data.csv',\n",
       " 'G:\\\\EDA_projects\\\\Stock_Data\\\\individual_stocks_5yr\\\\individual_stocks_5yr\\\\AJG_data.csv',\n",
       " 'G:\\\\EDA_projects\\\\Stock_Data\\\\individual_stocks_5yr\\\\individual_stocks_5yr\\\\AKAM_data.csv',\n",
       " 'G:\\\\EDA_projects\\\\Stock_Data\\\\individual_stocks_5yr\\\\individual_stocks_5yr\\\\ALB_data.csv',\n",
       " 'G:\\\\EDA_projects\\\\Stock_Data\\\\individual_stocks_5yr\\\\individual_stocks_5yr\\\\ALGN_data.csv',\n",
       " 'G:\\\\EDA_projects\\\\Stock_Data\\\\individual_stocks_5yr\\\\individual_stocks_5yr\\\\ALK_data.csv',\n",
       " 'G:\\\\EDA_projects\\\\Stock_Data\\\\individual_stocks_5yr\\\\individual_stocks_5yr\\\\ALLE_data.csv',\n",
       " 'G:\\\\EDA_projects\\\\Stock_Data\\\\individual_stocks_5yr\\\\individual_stocks_5yr\\\\ALL_data.csv',\n",
       " 'G:\\\\EDA_projects\\\\Stock_Data\\\\individual_stocks_5yr\\\\individual_stocks_5yr\\\\ALXN_data.csv',\n",
       " 'G:\\\\EDA_projects\\\\Stock_Data\\\\individual_stocks_5yr\\\\individual_stocks_5yr\\\\AMAT_data.csv',\n",
       " 'G:\\\\EDA_projects\\\\Stock_Data\\\\individual_stocks_5yr\\\\individual_stocks_5yr\\\\AMD_data.csv',\n",
       " 'G:\\\\EDA_projects\\\\Stock_Data\\\\individual_stocks_5yr\\\\individual_stocks_5yr\\\\AME_data.csv',\n",
       " 'G:\\\\EDA_projects\\\\Stock_Data\\\\individual_stocks_5yr\\\\individual_stocks_5yr\\\\AMGN_data.csv',\n",
       " 'G:\\\\EDA_projects\\\\Stock_Data\\\\individual_stocks_5yr\\\\individual_stocks_5yr\\\\AMG_data.csv',\n",
       " 'G:\\\\EDA_projects\\\\Stock_Data\\\\individual_stocks_5yr\\\\individual_stocks_5yr\\\\AMP_data.csv',\n",
       " 'G:\\\\EDA_projects\\\\Stock_Data\\\\individual_stocks_5yr\\\\individual_stocks_5yr\\\\AMT_data.csv',\n",
       " 'G:\\\\EDA_projects\\\\Stock_Data\\\\individual_stocks_5yr\\\\individual_stocks_5yr\\\\AMZN_data.csv',\n",
       " 'G:\\\\EDA_projects\\\\Stock_Data\\\\individual_stocks_5yr\\\\individual_stocks_5yr\\\\ANDV_data.csv',\n",
       " 'G:\\\\EDA_projects\\\\Stock_Data\\\\individual_stocks_5yr\\\\individual_stocks_5yr\\\\ANSS_data.csv',\n",
       " 'G:\\\\EDA_projects\\\\Stock_Data\\\\individual_stocks_5yr\\\\individual_stocks_5yr\\\\ANTM_data.csv',\n",
       " 'G:\\\\EDA_projects\\\\Stock_Data\\\\individual_stocks_5yr\\\\individual_stocks_5yr\\\\AON_data.csv',\n",
       " 'G:\\\\EDA_projects\\\\Stock_Data\\\\individual_stocks_5yr\\\\individual_stocks_5yr\\\\AOS_data.csv',\n",
       " 'G:\\\\EDA_projects\\\\Stock_Data\\\\individual_stocks_5yr\\\\individual_stocks_5yr\\\\APA_data.csv',\n",
       " 'G:\\\\EDA_projects\\\\Stock_Data\\\\individual_stocks_5yr\\\\individual_stocks_5yr\\\\APC_data.csv',\n",
       " 'G:\\\\EDA_projects\\\\Stock_Data\\\\individual_stocks_5yr\\\\individual_stocks_5yr\\\\APD_data.csv',\n",
       " 'G:\\\\EDA_projects\\\\Stock_Data\\\\individual_stocks_5yr\\\\individual_stocks_5yr\\\\APH_data.csv',\n",
       " 'G:\\\\EDA_projects\\\\Stock_Data\\\\individual_stocks_5yr\\\\individual_stocks_5yr\\\\APTV_data.csv',\n",
       " 'G:\\\\EDA_projects\\\\Stock_Data\\\\individual_stocks_5yr\\\\individual_stocks_5yr\\\\ARE_data.csv',\n",
       " 'G:\\\\EDA_projects\\\\Stock_Data\\\\individual_stocks_5yr\\\\individual_stocks_5yr\\\\ARNC_data.csv',\n",
       " 'G:\\\\EDA_projects\\\\Stock_Data\\\\individual_stocks_5yr\\\\individual_stocks_5yr\\\\ATVI_data.csv',\n",
       " 'G:\\\\EDA_projects\\\\Stock_Data\\\\individual_stocks_5yr\\\\individual_stocks_5yr\\\\AVB_data.csv',\n",
       " 'G:\\\\EDA_projects\\\\Stock_Data\\\\individual_stocks_5yr\\\\individual_stocks_5yr\\\\AVGO_data.csv',\n",
       " 'G:\\\\EDA_projects\\\\Stock_Data\\\\individual_stocks_5yr\\\\individual_stocks_5yr\\\\AVY_data.csv',\n",
       " 'G:\\\\EDA_projects\\\\Stock_Data\\\\individual_stocks_5yr\\\\individual_stocks_5yr\\\\AWK_data.csv',\n",
       " 'G:\\\\EDA_projects\\\\Stock_Data\\\\individual_stocks_5yr\\\\individual_stocks_5yr\\\\AXP_data.csv',\n",
       " 'G:\\\\EDA_projects\\\\Stock_Data\\\\individual_stocks_5yr\\\\individual_stocks_5yr\\\\AYI_data.csv',\n",
       " 'G:\\\\EDA_projects\\\\Stock_Data\\\\individual_stocks_5yr\\\\individual_stocks_5yr\\\\AZO_data.csv',\n",
       " 'G:\\\\EDA_projects\\\\Stock_Data\\\\individual_stocks_5yr\\\\individual_stocks_5yr\\\\A_data.csv',\n",
       " 'G:\\\\EDA_projects\\\\Stock_Data\\\\individual_stocks_5yr\\\\individual_stocks_5yr\\\\BAC_data.csv',\n",
       " 'G:\\\\EDA_projects\\\\Stock_Data\\\\individual_stocks_5yr\\\\individual_stocks_5yr\\\\BAX_data.csv',\n",
       " 'G:\\\\EDA_projects\\\\Stock_Data\\\\individual_stocks_5yr\\\\individual_stocks_5yr\\\\BA_data.csv',\n",
       " 'G:\\\\EDA_projects\\\\Stock_Data\\\\individual_stocks_5yr\\\\individual_stocks_5yr\\\\BBT_data.csv',\n",
       " 'G:\\\\EDA_projects\\\\Stock_Data\\\\individual_stocks_5yr\\\\individual_stocks_5yr\\\\BBY_data.csv',\n",
       " 'G:\\\\EDA_projects\\\\Stock_Data\\\\individual_stocks_5yr\\\\individual_stocks_5yr\\\\BDX_data.csv',\n",
       " 'G:\\\\EDA_projects\\\\Stock_Data\\\\individual_stocks_5yr\\\\individual_stocks_5yr\\\\BEN_data.csv',\n",
       " 'G:\\\\EDA_projects\\\\Stock_Data\\\\individual_stocks_5yr\\\\individual_stocks_5yr\\\\BF.B_data.csv',\n",
       " 'G:\\\\EDA_projects\\\\Stock_Data\\\\individual_stocks_5yr\\\\individual_stocks_5yr\\\\BHF_data.csv',\n",
       " 'G:\\\\EDA_projects\\\\Stock_Data\\\\individual_stocks_5yr\\\\individual_stocks_5yr\\\\BHGE_data.csv',\n",
       " 'G:\\\\EDA_projects\\\\Stock_Data\\\\individual_stocks_5yr\\\\individual_stocks_5yr\\\\BIIB_data.csv',\n",
       " 'G:\\\\EDA_projects\\\\Stock_Data\\\\individual_stocks_5yr\\\\individual_stocks_5yr\\\\BK_data.csv',\n",
       " 'G:\\\\EDA_projects\\\\Stock_Data\\\\individual_stocks_5yr\\\\individual_stocks_5yr\\\\BLK_data.csv',\n",
       " 'G:\\\\EDA_projects\\\\Stock_Data\\\\individual_stocks_5yr\\\\individual_stocks_5yr\\\\BLL_data.csv',\n",
       " 'G:\\\\EDA_projects\\\\Stock_Data\\\\individual_stocks_5yr\\\\individual_stocks_5yr\\\\BMY_data.csv',\n",
       " 'G:\\\\EDA_projects\\\\Stock_Data\\\\individual_stocks_5yr\\\\individual_stocks_5yr\\\\BRK.B_data.csv',\n",
       " 'G:\\\\EDA_projects\\\\Stock_Data\\\\individual_stocks_5yr\\\\individual_stocks_5yr\\\\BSX_data.csv',\n",
       " 'G:\\\\EDA_projects\\\\Stock_Data\\\\individual_stocks_5yr\\\\individual_stocks_5yr\\\\BWA_data.csv',\n",
       " 'G:\\\\EDA_projects\\\\Stock_Data\\\\individual_stocks_5yr\\\\individual_stocks_5yr\\\\BXP_data.csv',\n",
       " 'G:\\\\EDA_projects\\\\Stock_Data\\\\individual_stocks_5yr\\\\individual_stocks_5yr\\\\CAG_data.csv',\n",
       " 'G:\\\\EDA_projects\\\\Stock_Data\\\\individual_stocks_5yr\\\\individual_stocks_5yr\\\\CAH_data.csv',\n",
       " 'G:\\\\EDA_projects\\\\Stock_Data\\\\individual_stocks_5yr\\\\individual_stocks_5yr\\\\CAT_data.csv',\n",
       " 'G:\\\\EDA_projects\\\\Stock_Data\\\\individual_stocks_5yr\\\\individual_stocks_5yr\\\\CA_data.csv',\n",
       " 'G:\\\\EDA_projects\\\\Stock_Data\\\\individual_stocks_5yr\\\\individual_stocks_5yr\\\\CBG_data.csv',\n",
       " 'G:\\\\EDA_projects\\\\Stock_Data\\\\individual_stocks_5yr\\\\individual_stocks_5yr\\\\CBOE_data.csv',\n",
       " 'G:\\\\EDA_projects\\\\Stock_Data\\\\individual_stocks_5yr\\\\individual_stocks_5yr\\\\CBS_data.csv',\n",
       " 'G:\\\\EDA_projects\\\\Stock_Data\\\\individual_stocks_5yr\\\\individual_stocks_5yr\\\\CB_data.csv',\n",
       " 'G:\\\\EDA_projects\\\\Stock_Data\\\\individual_stocks_5yr\\\\individual_stocks_5yr\\\\CCI_data.csv',\n",
       " 'G:\\\\EDA_projects\\\\Stock_Data\\\\individual_stocks_5yr\\\\individual_stocks_5yr\\\\CCL_data.csv',\n",
       " 'G:\\\\EDA_projects\\\\Stock_Data\\\\individual_stocks_5yr\\\\individual_stocks_5yr\\\\CDNS_data.csv',\n",
       " 'G:\\\\EDA_projects\\\\Stock_Data\\\\individual_stocks_5yr\\\\individual_stocks_5yr\\\\CELG_data.csv',\n",
       " 'G:\\\\EDA_projects\\\\Stock_Data\\\\individual_stocks_5yr\\\\individual_stocks_5yr\\\\CERN_data.csv',\n",
       " 'G:\\\\EDA_projects\\\\Stock_Data\\\\individual_stocks_5yr\\\\individual_stocks_5yr\\\\CFG_data.csv',\n",
       " 'G:\\\\EDA_projects\\\\Stock_Data\\\\individual_stocks_5yr\\\\individual_stocks_5yr\\\\CF_data.csv',\n",
       " 'G:\\\\EDA_projects\\\\Stock_Data\\\\individual_stocks_5yr\\\\individual_stocks_5yr\\\\CHD_data.csv',\n",
       " 'G:\\\\EDA_projects\\\\Stock_Data\\\\individual_stocks_5yr\\\\individual_stocks_5yr\\\\CHK_data.csv',\n",
       " 'G:\\\\EDA_projects\\\\Stock_Data\\\\individual_stocks_5yr\\\\individual_stocks_5yr\\\\CHRW_data.csv',\n",
       " 'G:\\\\EDA_projects\\\\Stock_Data\\\\individual_stocks_5yr\\\\individual_stocks_5yr\\\\CHTR_data.csv',\n",
       " 'G:\\\\EDA_projects\\\\Stock_Data\\\\individual_stocks_5yr\\\\individual_stocks_5yr\\\\CINF_data.csv',\n",
       " 'G:\\\\EDA_projects\\\\Stock_Data\\\\individual_stocks_5yr\\\\individual_stocks_5yr\\\\CI_data.csv',\n",
       " 'G:\\\\EDA_projects\\\\Stock_Data\\\\individual_stocks_5yr\\\\individual_stocks_5yr\\\\CLX_data.csv',\n",
       " 'G:\\\\EDA_projects\\\\Stock_Data\\\\individual_stocks_5yr\\\\individual_stocks_5yr\\\\CL_data.csv',\n",
       " 'G:\\\\EDA_projects\\\\Stock_Data\\\\individual_stocks_5yr\\\\individual_stocks_5yr\\\\CMA_data.csv',\n",
       " 'G:\\\\EDA_projects\\\\Stock_Data\\\\individual_stocks_5yr\\\\individual_stocks_5yr\\\\CMCSA_data.csv',\n",
       " 'G:\\\\EDA_projects\\\\Stock_Data\\\\individual_stocks_5yr\\\\individual_stocks_5yr\\\\CME_data.csv',\n",
       " 'G:\\\\EDA_projects\\\\Stock_Data\\\\individual_stocks_5yr\\\\individual_stocks_5yr\\\\CMG_data.csv',\n",
       " 'G:\\\\EDA_projects\\\\Stock_Data\\\\individual_stocks_5yr\\\\individual_stocks_5yr\\\\CMI_data.csv',\n",
       " 'G:\\\\EDA_projects\\\\Stock_Data\\\\individual_stocks_5yr\\\\individual_stocks_5yr\\\\CMS_data.csv',\n",
       " 'G:\\\\EDA_projects\\\\Stock_Data\\\\individual_stocks_5yr\\\\individual_stocks_5yr\\\\CNC_data.csv',\n",
       " 'G:\\\\EDA_projects\\\\Stock_Data\\\\individual_stocks_5yr\\\\individual_stocks_5yr\\\\CNP_data.csv',\n",
       " 'G:\\\\EDA_projects\\\\Stock_Data\\\\individual_stocks_5yr\\\\individual_stocks_5yr\\\\COF_data.csv',\n",
       " 'G:\\\\EDA_projects\\\\Stock_Data\\\\individual_stocks_5yr\\\\individual_stocks_5yr\\\\COG_data.csv',\n",
       " 'G:\\\\EDA_projects\\\\Stock_Data\\\\individual_stocks_5yr\\\\individual_stocks_5yr\\\\COL_data.csv',\n",
       " 'G:\\\\EDA_projects\\\\Stock_Data\\\\individual_stocks_5yr\\\\individual_stocks_5yr\\\\COO_data.csv',\n",
       " 'G:\\\\EDA_projects\\\\Stock_Data\\\\individual_stocks_5yr\\\\individual_stocks_5yr\\\\COP_data.csv',\n",
       " 'G:\\\\EDA_projects\\\\Stock_Data\\\\individual_stocks_5yr\\\\individual_stocks_5yr\\\\COST_data.csv',\n",
       " 'G:\\\\EDA_projects\\\\Stock_Data\\\\individual_stocks_5yr\\\\individual_stocks_5yr\\\\COTY_data.csv',\n",
       " 'G:\\\\EDA_projects\\\\Stock_Data\\\\individual_stocks_5yr\\\\individual_stocks_5yr\\\\CPB_data.csv',\n",
       " 'G:\\\\EDA_projects\\\\Stock_Data\\\\individual_stocks_5yr\\\\individual_stocks_5yr\\\\CRM_data.csv',\n",
       " 'G:\\\\EDA_projects\\\\Stock_Data\\\\individual_stocks_5yr\\\\individual_stocks_5yr\\\\CSCO_data.csv',\n",
       " 'G:\\\\EDA_projects\\\\Stock_Data\\\\individual_stocks_5yr\\\\individual_stocks_5yr\\\\CSRA_data.csv',\n",
       " 'G:\\\\EDA_projects\\\\Stock_Data\\\\individual_stocks_5yr\\\\individual_stocks_5yr\\\\CSX_data.csv',\n",
       " 'G:\\\\EDA_projects\\\\Stock_Data\\\\individual_stocks_5yr\\\\individual_stocks_5yr\\\\CTAS_data.csv',\n",
       " 'G:\\\\EDA_projects\\\\Stock_Data\\\\individual_stocks_5yr\\\\individual_stocks_5yr\\\\CTL_data.csv',\n",
       " 'G:\\\\EDA_projects\\\\Stock_Data\\\\individual_stocks_5yr\\\\individual_stocks_5yr\\\\CTSH_data.csv',\n",
       " 'G:\\\\EDA_projects\\\\Stock_Data\\\\individual_stocks_5yr\\\\individual_stocks_5yr\\\\CTXS_data.csv',\n",
       " 'G:\\\\EDA_projects\\\\Stock_Data\\\\individual_stocks_5yr\\\\individual_stocks_5yr\\\\CVS_data.csv',\n",
       " 'G:\\\\EDA_projects\\\\Stock_Data\\\\individual_stocks_5yr\\\\individual_stocks_5yr\\\\CVX_data.csv',\n",
       " 'G:\\\\EDA_projects\\\\Stock_Data\\\\individual_stocks_5yr\\\\individual_stocks_5yr\\\\CXO_data.csv',\n",
       " 'G:\\\\EDA_projects\\\\Stock_Data\\\\individual_stocks_5yr\\\\individual_stocks_5yr\\\\C_data.csv',\n",
       " 'G:\\\\EDA_projects\\\\Stock_Data\\\\individual_stocks_5yr\\\\individual_stocks_5yr\\\\DAL_data.csv',\n",
       " 'G:\\\\EDA_projects\\\\Stock_Data\\\\individual_stocks_5yr\\\\individual_stocks_5yr\\\\DE_data.csv',\n",
       " 'G:\\\\EDA_projects\\\\Stock_Data\\\\individual_stocks_5yr\\\\individual_stocks_5yr\\\\DFS_data.csv',\n",
       " 'G:\\\\EDA_projects\\\\Stock_Data\\\\individual_stocks_5yr\\\\individual_stocks_5yr\\\\DGX_data.csv',\n",
       " 'G:\\\\EDA_projects\\\\Stock_Data\\\\individual_stocks_5yr\\\\individual_stocks_5yr\\\\DG_data.csv',\n",
       " 'G:\\\\EDA_projects\\\\Stock_Data\\\\individual_stocks_5yr\\\\individual_stocks_5yr\\\\DHI_data.csv',\n",
       " 'G:\\\\EDA_projects\\\\Stock_Data\\\\individual_stocks_5yr\\\\individual_stocks_5yr\\\\DHR_data.csv',\n",
       " 'G:\\\\EDA_projects\\\\Stock_Data\\\\individual_stocks_5yr\\\\individual_stocks_5yr\\\\DISCA_data.csv',\n",
       " 'G:\\\\EDA_projects\\\\Stock_Data\\\\individual_stocks_5yr\\\\individual_stocks_5yr\\\\DISCK_data.csv',\n",
       " 'G:\\\\EDA_projects\\\\Stock_Data\\\\individual_stocks_5yr\\\\individual_stocks_5yr\\\\DISH_data.csv',\n",
       " 'G:\\\\EDA_projects\\\\Stock_Data\\\\individual_stocks_5yr\\\\individual_stocks_5yr\\\\DIS_data.csv',\n",
       " 'G:\\\\EDA_projects\\\\Stock_Data\\\\individual_stocks_5yr\\\\individual_stocks_5yr\\\\DLR_data.csv',\n",
       " 'G:\\\\EDA_projects\\\\Stock_Data\\\\individual_stocks_5yr\\\\individual_stocks_5yr\\\\DLTR_data.csv',\n",
       " 'G:\\\\EDA_projects\\\\Stock_Data\\\\individual_stocks_5yr\\\\individual_stocks_5yr\\\\DOV_data.csv',\n",
       " 'G:\\\\EDA_projects\\\\Stock_Data\\\\individual_stocks_5yr\\\\individual_stocks_5yr\\\\DPS_data.csv',\n",
       " 'G:\\\\EDA_projects\\\\Stock_Data\\\\individual_stocks_5yr\\\\individual_stocks_5yr\\\\DRE_data.csv',\n",
       " 'G:\\\\EDA_projects\\\\Stock_Data\\\\individual_stocks_5yr\\\\individual_stocks_5yr\\\\DRI_data.csv',\n",
       " 'G:\\\\EDA_projects\\\\Stock_Data\\\\individual_stocks_5yr\\\\individual_stocks_5yr\\\\DTE_data.csv',\n",
       " 'G:\\\\EDA_projects\\\\Stock_Data\\\\individual_stocks_5yr\\\\individual_stocks_5yr\\\\DUK_data.csv',\n",
       " 'G:\\\\EDA_projects\\\\Stock_Data\\\\individual_stocks_5yr\\\\individual_stocks_5yr\\\\DVA_data.csv',\n",
       " 'G:\\\\EDA_projects\\\\Stock_Data\\\\individual_stocks_5yr\\\\individual_stocks_5yr\\\\DVN_data.csv',\n",
       " 'G:\\\\EDA_projects\\\\Stock_Data\\\\individual_stocks_5yr\\\\individual_stocks_5yr\\\\DWDP_data.csv',\n",
       " 'G:\\\\EDA_projects\\\\Stock_Data\\\\individual_stocks_5yr\\\\individual_stocks_5yr\\\\DXC_data.csv',\n",
       " 'G:\\\\EDA_projects\\\\Stock_Data\\\\individual_stocks_5yr\\\\individual_stocks_5yr\\\\D_data.csv',\n",
       " 'G:\\\\EDA_projects\\\\Stock_Data\\\\individual_stocks_5yr\\\\individual_stocks_5yr\\\\EA_data.csv',\n",
       " 'G:\\\\EDA_projects\\\\Stock_Data\\\\individual_stocks_5yr\\\\individual_stocks_5yr\\\\EBAY_data.csv',\n",
       " 'G:\\\\EDA_projects\\\\Stock_Data\\\\individual_stocks_5yr\\\\individual_stocks_5yr\\\\ECL_data.csv',\n",
       " 'G:\\\\EDA_projects\\\\Stock_Data\\\\individual_stocks_5yr\\\\individual_stocks_5yr\\\\ED_data.csv',\n",
       " 'G:\\\\EDA_projects\\\\Stock_Data\\\\individual_stocks_5yr\\\\individual_stocks_5yr\\\\EFX_data.csv',\n",
       " 'G:\\\\EDA_projects\\\\Stock_Data\\\\individual_stocks_5yr\\\\individual_stocks_5yr\\\\EIX_data.csv',\n",
       " 'G:\\\\EDA_projects\\\\Stock_Data\\\\individual_stocks_5yr\\\\individual_stocks_5yr\\\\EL_data.csv',\n",
       " 'G:\\\\EDA_projects\\\\Stock_Data\\\\individual_stocks_5yr\\\\individual_stocks_5yr\\\\EMN_data.csv',\n",
       " 'G:\\\\EDA_projects\\\\Stock_Data\\\\individual_stocks_5yr\\\\individual_stocks_5yr\\\\EMR_data.csv',\n",
       " 'G:\\\\EDA_projects\\\\Stock_Data\\\\individual_stocks_5yr\\\\individual_stocks_5yr\\\\EOG_data.csv',\n",
       " 'G:\\\\EDA_projects\\\\Stock_Data\\\\individual_stocks_5yr\\\\individual_stocks_5yr\\\\EQIX_data.csv',\n",
       " 'G:\\\\EDA_projects\\\\Stock_Data\\\\individual_stocks_5yr\\\\individual_stocks_5yr\\\\EQR_data.csv',\n",
       " 'G:\\\\EDA_projects\\\\Stock_Data\\\\individual_stocks_5yr\\\\individual_stocks_5yr\\\\EQT_data.csv',\n",
       " 'G:\\\\EDA_projects\\\\Stock_Data\\\\individual_stocks_5yr\\\\individual_stocks_5yr\\\\ESRX_data.csv',\n",
       " 'G:\\\\EDA_projects\\\\Stock_Data\\\\individual_stocks_5yr\\\\individual_stocks_5yr\\\\ESS_data.csv',\n",
       " 'G:\\\\EDA_projects\\\\Stock_Data\\\\individual_stocks_5yr\\\\individual_stocks_5yr\\\\ES_data.csv',\n",
       " 'G:\\\\EDA_projects\\\\Stock_Data\\\\individual_stocks_5yr\\\\individual_stocks_5yr\\\\ETFC_data.csv',\n",
       " 'G:\\\\EDA_projects\\\\Stock_Data\\\\individual_stocks_5yr\\\\individual_stocks_5yr\\\\ETN_data.csv',\n",
       " 'G:\\\\EDA_projects\\\\Stock_Data\\\\individual_stocks_5yr\\\\individual_stocks_5yr\\\\ETR_data.csv',\n",
       " 'G:\\\\EDA_projects\\\\Stock_Data\\\\individual_stocks_5yr\\\\individual_stocks_5yr\\\\EVHC_data.csv',\n",
       " 'G:\\\\EDA_projects\\\\Stock_Data\\\\individual_stocks_5yr\\\\individual_stocks_5yr\\\\EW_data.csv',\n",
       " 'G:\\\\EDA_projects\\\\Stock_Data\\\\individual_stocks_5yr\\\\individual_stocks_5yr\\\\EXC_data.csv',\n",
       " 'G:\\\\EDA_projects\\\\Stock_Data\\\\individual_stocks_5yr\\\\individual_stocks_5yr\\\\EXPD_data.csv',\n",
       " 'G:\\\\EDA_projects\\\\Stock_Data\\\\individual_stocks_5yr\\\\individual_stocks_5yr\\\\EXPE_data.csv',\n",
       " 'G:\\\\EDA_projects\\\\Stock_Data\\\\individual_stocks_5yr\\\\individual_stocks_5yr\\\\EXR_data.csv',\n",
       " 'G:\\\\EDA_projects\\\\Stock_Data\\\\individual_stocks_5yr\\\\individual_stocks_5yr\\\\FAST_data.csv',\n",
       " 'G:\\\\EDA_projects\\\\Stock_Data\\\\individual_stocks_5yr\\\\individual_stocks_5yr\\\\FBHS_data.csv',\n",
       " 'G:\\\\EDA_projects\\\\Stock_Data\\\\individual_stocks_5yr\\\\individual_stocks_5yr\\\\FB_data.csv',\n",
       " 'G:\\\\EDA_projects\\\\Stock_Data\\\\individual_stocks_5yr\\\\individual_stocks_5yr\\\\FCX_data.csv',\n",
       " 'G:\\\\EDA_projects\\\\Stock_Data\\\\individual_stocks_5yr\\\\individual_stocks_5yr\\\\FDX_data.csv',\n",
       " 'G:\\\\EDA_projects\\\\Stock_Data\\\\individual_stocks_5yr\\\\individual_stocks_5yr\\\\FE_data.csv',\n",
       " 'G:\\\\EDA_projects\\\\Stock_Data\\\\individual_stocks_5yr\\\\individual_stocks_5yr\\\\FFIV_data.csv',\n",
       " 'G:\\\\EDA_projects\\\\Stock_Data\\\\individual_stocks_5yr\\\\individual_stocks_5yr\\\\FISV_data.csv',\n",
       " 'G:\\\\EDA_projects\\\\Stock_Data\\\\individual_stocks_5yr\\\\individual_stocks_5yr\\\\FIS_data.csv',\n",
       " 'G:\\\\EDA_projects\\\\Stock_Data\\\\individual_stocks_5yr\\\\individual_stocks_5yr\\\\FITB_data.csv',\n",
       " 'G:\\\\EDA_projects\\\\Stock_Data\\\\individual_stocks_5yr\\\\individual_stocks_5yr\\\\FLIR_data.csv',\n",
       " 'G:\\\\EDA_projects\\\\Stock_Data\\\\individual_stocks_5yr\\\\individual_stocks_5yr\\\\FLR_data.csv',\n",
       " 'G:\\\\EDA_projects\\\\Stock_Data\\\\individual_stocks_5yr\\\\individual_stocks_5yr\\\\FLS_data.csv',\n",
       " 'G:\\\\EDA_projects\\\\Stock_Data\\\\individual_stocks_5yr\\\\individual_stocks_5yr\\\\FL_data.csv',\n",
       " 'G:\\\\EDA_projects\\\\Stock_Data\\\\individual_stocks_5yr\\\\individual_stocks_5yr\\\\FMC_data.csv',\n",
       " 'G:\\\\EDA_projects\\\\Stock_Data\\\\individual_stocks_5yr\\\\individual_stocks_5yr\\\\FOXA_data.csv',\n",
       " 'G:\\\\EDA_projects\\\\Stock_Data\\\\individual_stocks_5yr\\\\individual_stocks_5yr\\\\FOX_data.csv',\n",
       " 'G:\\\\EDA_projects\\\\Stock_Data\\\\individual_stocks_5yr\\\\individual_stocks_5yr\\\\FRT_data.csv',\n",
       " 'G:\\\\EDA_projects\\\\Stock_Data\\\\individual_stocks_5yr\\\\individual_stocks_5yr\\\\FTI_data.csv',\n",
       " 'G:\\\\EDA_projects\\\\Stock_Data\\\\individual_stocks_5yr\\\\individual_stocks_5yr\\\\FTV_data.csv',\n",
       " 'G:\\\\EDA_projects\\\\Stock_Data\\\\individual_stocks_5yr\\\\individual_stocks_5yr\\\\F_data.csv',\n",
       " 'G:\\\\EDA_projects\\\\Stock_Data\\\\individual_stocks_5yr\\\\individual_stocks_5yr\\\\GD_data.csv',\n",
       " 'G:\\\\EDA_projects\\\\Stock_Data\\\\individual_stocks_5yr\\\\individual_stocks_5yr\\\\GE_data.csv',\n",
       " 'G:\\\\EDA_projects\\\\Stock_Data\\\\individual_stocks_5yr\\\\individual_stocks_5yr\\\\GGP_data.csv',\n",
       " 'G:\\\\EDA_projects\\\\Stock_Data\\\\individual_stocks_5yr\\\\individual_stocks_5yr\\\\GILD_data.csv',\n",
       " 'G:\\\\EDA_projects\\\\Stock_Data\\\\individual_stocks_5yr\\\\individual_stocks_5yr\\\\GIS_data.csv',\n",
       " 'G:\\\\EDA_projects\\\\Stock_Data\\\\individual_stocks_5yr\\\\individual_stocks_5yr\\\\GLW_data.csv',\n",
       " 'G:\\\\EDA_projects\\\\Stock_Data\\\\individual_stocks_5yr\\\\individual_stocks_5yr\\\\GM_data.csv',\n",
       " 'G:\\\\EDA_projects\\\\Stock_Data\\\\individual_stocks_5yr\\\\individual_stocks_5yr\\\\GOOGL_data.csv',\n",
       " 'G:\\\\EDA_projects\\\\Stock_Data\\\\individual_stocks_5yr\\\\individual_stocks_5yr\\\\GOOG_data.csv',\n",
       " 'G:\\\\EDA_projects\\\\Stock_Data\\\\individual_stocks_5yr\\\\individual_stocks_5yr\\\\GPC_data.csv',\n",
       " 'G:\\\\EDA_projects\\\\Stock_Data\\\\individual_stocks_5yr\\\\individual_stocks_5yr\\\\GPN_data.csv',\n",
       " 'G:\\\\EDA_projects\\\\Stock_Data\\\\individual_stocks_5yr\\\\individual_stocks_5yr\\\\GPS_data.csv',\n",
       " 'G:\\\\EDA_projects\\\\Stock_Data\\\\individual_stocks_5yr\\\\individual_stocks_5yr\\\\GRMN_data.csv',\n",
       " 'G:\\\\EDA_projects\\\\Stock_Data\\\\individual_stocks_5yr\\\\individual_stocks_5yr\\\\GS_data.csv',\n",
       " 'G:\\\\EDA_projects\\\\Stock_Data\\\\individual_stocks_5yr\\\\individual_stocks_5yr\\\\GT_data.csv',\n",
       " 'G:\\\\EDA_projects\\\\Stock_Data\\\\individual_stocks_5yr\\\\individual_stocks_5yr\\\\GWW_data.csv',\n",
       " 'G:\\\\EDA_projects\\\\Stock_Data\\\\individual_stocks_5yr\\\\individual_stocks_5yr\\\\HAL_data.csv',\n",
       " 'G:\\\\EDA_projects\\\\Stock_Data\\\\individual_stocks_5yr\\\\individual_stocks_5yr\\\\HAS_data.csv',\n",
       " 'G:\\\\EDA_projects\\\\Stock_Data\\\\individual_stocks_5yr\\\\individual_stocks_5yr\\\\HBAN_data.csv',\n",
       " 'G:\\\\EDA_projects\\\\Stock_Data\\\\individual_stocks_5yr\\\\individual_stocks_5yr\\\\HBI_data.csv',\n",
       " 'G:\\\\EDA_projects\\\\Stock_Data\\\\individual_stocks_5yr\\\\individual_stocks_5yr\\\\HCA_data.csv',\n",
       " 'G:\\\\EDA_projects\\\\Stock_Data\\\\individual_stocks_5yr\\\\individual_stocks_5yr\\\\HCN_data.csv',\n",
       " 'G:\\\\EDA_projects\\\\Stock_Data\\\\individual_stocks_5yr\\\\individual_stocks_5yr\\\\HCP_data.csv',\n",
       " 'G:\\\\EDA_projects\\\\Stock_Data\\\\individual_stocks_5yr\\\\individual_stocks_5yr\\\\HD_data.csv',\n",
       " 'G:\\\\EDA_projects\\\\Stock_Data\\\\individual_stocks_5yr\\\\individual_stocks_5yr\\\\HES_data.csv',\n",
       " 'G:\\\\EDA_projects\\\\Stock_Data\\\\individual_stocks_5yr\\\\individual_stocks_5yr\\\\HIG_data.csv',\n",
       " 'G:\\\\EDA_projects\\\\Stock_Data\\\\individual_stocks_5yr\\\\individual_stocks_5yr\\\\HII_data.csv',\n",
       " 'G:\\\\EDA_projects\\\\Stock_Data\\\\individual_stocks_5yr\\\\individual_stocks_5yr\\\\HLT_data.csv',\n",
       " 'G:\\\\EDA_projects\\\\Stock_Data\\\\individual_stocks_5yr\\\\individual_stocks_5yr\\\\HOG_data.csv',\n",
       " 'G:\\\\EDA_projects\\\\Stock_Data\\\\individual_stocks_5yr\\\\individual_stocks_5yr\\\\HOLX_data.csv',\n",
       " 'G:\\\\EDA_projects\\\\Stock_Data\\\\individual_stocks_5yr\\\\individual_stocks_5yr\\\\HON_data.csv',\n",
       " 'G:\\\\EDA_projects\\\\Stock_Data\\\\individual_stocks_5yr\\\\individual_stocks_5yr\\\\HPE_data.csv',\n",
       " 'G:\\\\EDA_projects\\\\Stock_Data\\\\individual_stocks_5yr\\\\individual_stocks_5yr\\\\HPQ_data.csv',\n",
       " 'G:\\\\EDA_projects\\\\Stock_Data\\\\individual_stocks_5yr\\\\individual_stocks_5yr\\\\HP_data.csv',\n",
       " 'G:\\\\EDA_projects\\\\Stock_Data\\\\individual_stocks_5yr\\\\individual_stocks_5yr\\\\HRB_data.csv',\n",
       " 'G:\\\\EDA_projects\\\\Stock_Data\\\\individual_stocks_5yr\\\\individual_stocks_5yr\\\\HRL_data.csv',\n",
       " 'G:\\\\EDA_projects\\\\Stock_Data\\\\individual_stocks_5yr\\\\individual_stocks_5yr\\\\HRS_data.csv',\n",
       " 'G:\\\\EDA_projects\\\\Stock_Data\\\\individual_stocks_5yr\\\\individual_stocks_5yr\\\\HSIC_data.csv',\n",
       " 'G:\\\\EDA_projects\\\\Stock_Data\\\\individual_stocks_5yr\\\\individual_stocks_5yr\\\\HST_data.csv',\n",
       " 'G:\\\\EDA_projects\\\\Stock_Data\\\\individual_stocks_5yr\\\\individual_stocks_5yr\\\\HSY_data.csv',\n",
       " 'G:\\\\EDA_projects\\\\Stock_Data\\\\individual_stocks_5yr\\\\individual_stocks_5yr\\\\HUM_data.csv',\n",
       " 'G:\\\\EDA_projects\\\\Stock_Data\\\\individual_stocks_5yr\\\\individual_stocks_5yr\\\\IBM_data.csv',\n",
       " 'G:\\\\EDA_projects\\\\Stock_Data\\\\individual_stocks_5yr\\\\individual_stocks_5yr\\\\ICE_data.csv',\n",
       " 'G:\\\\EDA_projects\\\\Stock_Data\\\\individual_stocks_5yr\\\\individual_stocks_5yr\\\\IDXX_data.csv',\n",
       " 'G:\\\\EDA_projects\\\\Stock_Data\\\\individual_stocks_5yr\\\\individual_stocks_5yr\\\\IFF_data.csv',\n",
       " 'G:\\\\EDA_projects\\\\Stock_Data\\\\individual_stocks_5yr\\\\individual_stocks_5yr\\\\ILMN_data.csv',\n",
       " 'G:\\\\EDA_projects\\\\Stock_Data\\\\individual_stocks_5yr\\\\individual_stocks_5yr\\\\INCY_data.csv',\n",
       " 'G:\\\\EDA_projects\\\\Stock_Data\\\\individual_stocks_5yr\\\\individual_stocks_5yr\\\\INFO_data.csv',\n",
       " 'G:\\\\EDA_projects\\\\Stock_Data\\\\individual_stocks_5yr\\\\individual_stocks_5yr\\\\INTC_data.csv',\n",
       " 'G:\\\\EDA_projects\\\\Stock_Data\\\\individual_stocks_5yr\\\\individual_stocks_5yr\\\\INTU_data.csv',\n",
       " 'G:\\\\EDA_projects\\\\Stock_Data\\\\individual_stocks_5yr\\\\individual_stocks_5yr\\\\IPG_data.csv',\n",
       " 'G:\\\\EDA_projects\\\\Stock_Data\\\\individual_stocks_5yr\\\\individual_stocks_5yr\\\\IP_data.csv',\n",
       " 'G:\\\\EDA_projects\\\\Stock_Data\\\\individual_stocks_5yr\\\\individual_stocks_5yr\\\\IQV_data.csv',\n",
       " 'G:\\\\EDA_projects\\\\Stock_Data\\\\individual_stocks_5yr\\\\individual_stocks_5yr\\\\IRM_data.csv',\n",
       " 'G:\\\\EDA_projects\\\\Stock_Data\\\\individual_stocks_5yr\\\\individual_stocks_5yr\\\\IR_data.csv',\n",
       " 'G:\\\\EDA_projects\\\\Stock_Data\\\\individual_stocks_5yr\\\\individual_stocks_5yr\\\\ISRG_data.csv',\n",
       " 'G:\\\\EDA_projects\\\\Stock_Data\\\\individual_stocks_5yr\\\\individual_stocks_5yr\\\\ITW_data.csv',\n",
       " 'G:\\\\EDA_projects\\\\Stock_Data\\\\individual_stocks_5yr\\\\individual_stocks_5yr\\\\IT_data.csv',\n",
       " 'G:\\\\EDA_projects\\\\Stock_Data\\\\individual_stocks_5yr\\\\individual_stocks_5yr\\\\IVZ_data.csv',\n",
       " 'G:\\\\EDA_projects\\\\Stock_Data\\\\individual_stocks_5yr\\\\individual_stocks_5yr\\\\JBHT_data.csv',\n",
       " 'G:\\\\EDA_projects\\\\Stock_Data\\\\individual_stocks_5yr\\\\individual_stocks_5yr\\\\JCI_data.csv',\n",
       " 'G:\\\\EDA_projects\\\\Stock_Data\\\\individual_stocks_5yr\\\\individual_stocks_5yr\\\\JEC_data.csv',\n",
       " 'G:\\\\EDA_projects\\\\Stock_Data\\\\individual_stocks_5yr\\\\individual_stocks_5yr\\\\JNJ_data.csv',\n",
       " 'G:\\\\EDA_projects\\\\Stock_Data\\\\individual_stocks_5yr\\\\individual_stocks_5yr\\\\JNPR_data.csv',\n",
       " 'G:\\\\EDA_projects\\\\Stock_Data\\\\individual_stocks_5yr\\\\individual_stocks_5yr\\\\JPM_data.csv',\n",
       " 'G:\\\\EDA_projects\\\\Stock_Data\\\\individual_stocks_5yr\\\\individual_stocks_5yr\\\\JWN_data.csv',\n",
       " 'G:\\\\EDA_projects\\\\Stock_Data\\\\individual_stocks_5yr\\\\individual_stocks_5yr\\\\KEY_data.csv',\n",
       " 'G:\\\\EDA_projects\\\\Stock_Data\\\\individual_stocks_5yr\\\\individual_stocks_5yr\\\\KHC_data.csv',\n",
       " 'G:\\\\EDA_projects\\\\Stock_Data\\\\individual_stocks_5yr\\\\individual_stocks_5yr\\\\KIM_data.csv',\n",
       " 'G:\\\\EDA_projects\\\\Stock_Data\\\\individual_stocks_5yr\\\\individual_stocks_5yr\\\\KLAC_data.csv',\n",
       " 'G:\\\\EDA_projects\\\\Stock_Data\\\\individual_stocks_5yr\\\\individual_stocks_5yr\\\\KMB_data.csv',\n",
       " 'G:\\\\EDA_projects\\\\Stock_Data\\\\individual_stocks_5yr\\\\individual_stocks_5yr\\\\KMI_data.csv',\n",
       " 'G:\\\\EDA_projects\\\\Stock_Data\\\\individual_stocks_5yr\\\\individual_stocks_5yr\\\\KMX_data.csv',\n",
       " 'G:\\\\EDA_projects\\\\Stock_Data\\\\individual_stocks_5yr\\\\individual_stocks_5yr\\\\KORS_data.csv',\n",
       " 'G:\\\\EDA_projects\\\\Stock_Data\\\\individual_stocks_5yr\\\\individual_stocks_5yr\\\\KO_data.csv',\n",
       " 'G:\\\\EDA_projects\\\\Stock_Data\\\\individual_stocks_5yr\\\\individual_stocks_5yr\\\\KR_data.csv',\n",
       " 'G:\\\\EDA_projects\\\\Stock_Data\\\\individual_stocks_5yr\\\\individual_stocks_5yr\\\\KSS_data.csv',\n",
       " 'G:\\\\EDA_projects\\\\Stock_Data\\\\individual_stocks_5yr\\\\individual_stocks_5yr\\\\KSU_data.csv',\n",
       " 'G:\\\\EDA_projects\\\\Stock_Data\\\\individual_stocks_5yr\\\\individual_stocks_5yr\\\\K_data.csv',\n",
       " 'G:\\\\EDA_projects\\\\Stock_Data\\\\individual_stocks_5yr\\\\individual_stocks_5yr\\\\LB_data.csv',\n",
       " 'G:\\\\EDA_projects\\\\Stock_Data\\\\individual_stocks_5yr\\\\individual_stocks_5yr\\\\LEG_data.csv',\n",
       " 'G:\\\\EDA_projects\\\\Stock_Data\\\\individual_stocks_5yr\\\\individual_stocks_5yr\\\\LEN_data.csv',\n",
       " 'G:\\\\EDA_projects\\\\Stock_Data\\\\individual_stocks_5yr\\\\individual_stocks_5yr\\\\LH_data.csv',\n",
       " 'G:\\\\EDA_projects\\\\Stock_Data\\\\individual_stocks_5yr\\\\individual_stocks_5yr\\\\LKQ_data.csv',\n",
       " 'G:\\\\EDA_projects\\\\Stock_Data\\\\individual_stocks_5yr\\\\individual_stocks_5yr\\\\LLL_data.csv',\n",
       " 'G:\\\\EDA_projects\\\\Stock_Data\\\\individual_stocks_5yr\\\\individual_stocks_5yr\\\\LLY_data.csv',\n",
       " 'G:\\\\EDA_projects\\\\Stock_Data\\\\individual_stocks_5yr\\\\individual_stocks_5yr\\\\LMT_data.csv',\n",
       " 'G:\\\\EDA_projects\\\\Stock_Data\\\\individual_stocks_5yr\\\\individual_stocks_5yr\\\\LNC_data.csv',\n",
       " 'G:\\\\EDA_projects\\\\Stock_Data\\\\individual_stocks_5yr\\\\individual_stocks_5yr\\\\LNT_data.csv',\n",
       " 'G:\\\\EDA_projects\\\\Stock_Data\\\\individual_stocks_5yr\\\\individual_stocks_5yr\\\\LOW_data.csv',\n",
       " 'G:\\\\EDA_projects\\\\Stock_Data\\\\individual_stocks_5yr\\\\individual_stocks_5yr\\\\LRCX_data.csv',\n",
       " 'G:\\\\EDA_projects\\\\Stock_Data\\\\individual_stocks_5yr\\\\individual_stocks_5yr\\\\LUK_data.csv',\n",
       " 'G:\\\\EDA_projects\\\\Stock_Data\\\\individual_stocks_5yr\\\\individual_stocks_5yr\\\\LUV_data.csv',\n",
       " 'G:\\\\EDA_projects\\\\Stock_Data\\\\individual_stocks_5yr\\\\individual_stocks_5yr\\\\LYB_data.csv',\n",
       " 'G:\\\\EDA_projects\\\\Stock_Data\\\\individual_stocks_5yr\\\\individual_stocks_5yr\\\\L_data.csv',\n",
       " 'G:\\\\EDA_projects\\\\Stock_Data\\\\individual_stocks_5yr\\\\individual_stocks_5yr\\\\MAA_data.csv',\n",
       " 'G:\\\\EDA_projects\\\\Stock_Data\\\\individual_stocks_5yr\\\\individual_stocks_5yr\\\\MAC_data.csv',\n",
       " 'G:\\\\EDA_projects\\\\Stock_Data\\\\individual_stocks_5yr\\\\individual_stocks_5yr\\\\MAR_data.csv',\n",
       " 'G:\\\\EDA_projects\\\\Stock_Data\\\\individual_stocks_5yr\\\\individual_stocks_5yr\\\\MAS_data.csv',\n",
       " 'G:\\\\EDA_projects\\\\Stock_Data\\\\individual_stocks_5yr\\\\individual_stocks_5yr\\\\MAT_data.csv',\n",
       " 'G:\\\\EDA_projects\\\\Stock_Data\\\\individual_stocks_5yr\\\\individual_stocks_5yr\\\\MA_data.csv',\n",
       " 'G:\\\\EDA_projects\\\\Stock_Data\\\\individual_stocks_5yr\\\\individual_stocks_5yr\\\\MCD_data.csv',\n",
       " 'G:\\\\EDA_projects\\\\Stock_Data\\\\individual_stocks_5yr\\\\individual_stocks_5yr\\\\MCHP_data.csv',\n",
       " 'G:\\\\EDA_projects\\\\Stock_Data\\\\individual_stocks_5yr\\\\individual_stocks_5yr\\\\MCK_data.csv',\n",
       " 'G:\\\\EDA_projects\\\\Stock_Data\\\\individual_stocks_5yr\\\\individual_stocks_5yr\\\\MCO_data.csv',\n",
       " 'G:\\\\EDA_projects\\\\Stock_Data\\\\individual_stocks_5yr\\\\individual_stocks_5yr\\\\MDLZ_data.csv',\n",
       " 'G:\\\\EDA_projects\\\\Stock_Data\\\\individual_stocks_5yr\\\\individual_stocks_5yr\\\\MDT_data.csv',\n",
       " 'G:\\\\EDA_projects\\\\Stock_Data\\\\individual_stocks_5yr\\\\individual_stocks_5yr\\\\MET_data.csv',\n",
       " 'G:\\\\EDA_projects\\\\Stock_Data\\\\individual_stocks_5yr\\\\individual_stocks_5yr\\\\MGM_data.csv',\n",
       " 'G:\\\\EDA_projects\\\\Stock_Data\\\\individual_stocks_5yr\\\\individual_stocks_5yr\\\\MHK_data.csv',\n",
       " 'G:\\\\EDA_projects\\\\Stock_Data\\\\individual_stocks_5yr\\\\individual_stocks_5yr\\\\MKC_data.csv',\n",
       " 'G:\\\\EDA_projects\\\\Stock_Data\\\\individual_stocks_5yr\\\\individual_stocks_5yr\\\\MLM_data.csv',\n",
       " 'G:\\\\EDA_projects\\\\Stock_Data\\\\individual_stocks_5yr\\\\individual_stocks_5yr\\\\MMC_data.csv',\n",
       " 'G:\\\\EDA_projects\\\\Stock_Data\\\\individual_stocks_5yr\\\\individual_stocks_5yr\\\\MMM_data.csv',\n",
       " 'G:\\\\EDA_projects\\\\Stock_Data\\\\individual_stocks_5yr\\\\individual_stocks_5yr\\\\MNST_data.csv',\n",
       " 'G:\\\\EDA_projects\\\\Stock_Data\\\\individual_stocks_5yr\\\\individual_stocks_5yr\\\\MON_data.csv',\n",
       " 'G:\\\\EDA_projects\\\\Stock_Data\\\\individual_stocks_5yr\\\\individual_stocks_5yr\\\\MOS_data.csv',\n",
       " 'G:\\\\EDA_projects\\\\Stock_Data\\\\individual_stocks_5yr\\\\individual_stocks_5yr\\\\MO_data.csv',\n",
       " 'G:\\\\EDA_projects\\\\Stock_Data\\\\individual_stocks_5yr\\\\individual_stocks_5yr\\\\MPC_data.csv',\n",
       " 'G:\\\\EDA_projects\\\\Stock_Data\\\\individual_stocks_5yr\\\\individual_stocks_5yr\\\\MRK_data.csv',\n",
       " 'G:\\\\EDA_projects\\\\Stock_Data\\\\individual_stocks_5yr\\\\individual_stocks_5yr\\\\MRO_data.csv',\n",
       " 'G:\\\\EDA_projects\\\\Stock_Data\\\\individual_stocks_5yr\\\\individual_stocks_5yr\\\\MSFT_data.csv',\n",
       " 'G:\\\\EDA_projects\\\\Stock_Data\\\\individual_stocks_5yr\\\\individual_stocks_5yr\\\\MSI_data.csv',\n",
       " 'G:\\\\EDA_projects\\\\Stock_Data\\\\individual_stocks_5yr\\\\individual_stocks_5yr\\\\MS_data.csv',\n",
       " 'G:\\\\EDA_projects\\\\Stock_Data\\\\individual_stocks_5yr\\\\individual_stocks_5yr\\\\MTB_data.csv',\n",
       " 'G:\\\\EDA_projects\\\\Stock_Data\\\\individual_stocks_5yr\\\\individual_stocks_5yr\\\\MTD_data.csv',\n",
       " 'G:\\\\EDA_projects\\\\Stock_Data\\\\individual_stocks_5yr\\\\individual_stocks_5yr\\\\MU_data.csv',\n",
       " 'G:\\\\EDA_projects\\\\Stock_Data\\\\individual_stocks_5yr\\\\individual_stocks_5yr\\\\MYL_data.csv',\n",
       " 'G:\\\\EDA_projects\\\\Stock_Data\\\\individual_stocks_5yr\\\\individual_stocks_5yr\\\\M_data.csv',\n",
       " 'G:\\\\EDA_projects\\\\Stock_Data\\\\individual_stocks_5yr\\\\individual_stocks_5yr\\\\NAVI_data.csv',\n",
       " 'G:\\\\EDA_projects\\\\Stock_Data\\\\individual_stocks_5yr\\\\individual_stocks_5yr\\\\NBL_data.csv',\n",
       " 'G:\\\\EDA_projects\\\\Stock_Data\\\\individual_stocks_5yr\\\\individual_stocks_5yr\\\\NCLH_data.csv',\n",
       " 'G:\\\\EDA_projects\\\\Stock_Data\\\\individual_stocks_5yr\\\\individual_stocks_5yr\\\\NDAQ_data.csv',\n",
       " 'G:\\\\EDA_projects\\\\Stock_Data\\\\individual_stocks_5yr\\\\individual_stocks_5yr\\\\NEE_data.csv',\n",
       " 'G:\\\\EDA_projects\\\\Stock_Data\\\\individual_stocks_5yr\\\\individual_stocks_5yr\\\\NEM_data.csv',\n",
       " 'G:\\\\EDA_projects\\\\Stock_Data\\\\individual_stocks_5yr\\\\individual_stocks_5yr\\\\NFLX_data.csv',\n",
       " 'G:\\\\EDA_projects\\\\Stock_Data\\\\individual_stocks_5yr\\\\individual_stocks_5yr\\\\NFX_data.csv',\n",
       " 'G:\\\\EDA_projects\\\\Stock_Data\\\\individual_stocks_5yr\\\\individual_stocks_5yr\\\\NI_data.csv',\n",
       " 'G:\\\\EDA_projects\\\\Stock_Data\\\\individual_stocks_5yr\\\\individual_stocks_5yr\\\\NKE_data.csv',\n",
       " 'G:\\\\EDA_projects\\\\Stock_Data\\\\individual_stocks_5yr\\\\individual_stocks_5yr\\\\NLSN_data.csv',\n",
       " 'G:\\\\EDA_projects\\\\Stock_Data\\\\individual_stocks_5yr\\\\individual_stocks_5yr\\\\NOC_data.csv',\n",
       " 'G:\\\\EDA_projects\\\\Stock_Data\\\\individual_stocks_5yr\\\\individual_stocks_5yr\\\\NOV_data.csv',\n",
       " 'G:\\\\EDA_projects\\\\Stock_Data\\\\individual_stocks_5yr\\\\individual_stocks_5yr\\\\NRG_data.csv',\n",
       " 'G:\\\\EDA_projects\\\\Stock_Data\\\\individual_stocks_5yr\\\\individual_stocks_5yr\\\\NSC_data.csv',\n",
       " 'G:\\\\EDA_projects\\\\Stock_Data\\\\individual_stocks_5yr\\\\individual_stocks_5yr\\\\NTAP_data.csv',\n",
       " 'G:\\\\EDA_projects\\\\Stock_Data\\\\individual_stocks_5yr\\\\individual_stocks_5yr\\\\NTRS_data.csv',\n",
       " 'G:\\\\EDA_projects\\\\Stock_Data\\\\individual_stocks_5yr\\\\individual_stocks_5yr\\\\NUE_data.csv',\n",
       " 'G:\\\\EDA_projects\\\\Stock_Data\\\\individual_stocks_5yr\\\\individual_stocks_5yr\\\\NVDA_data.csv',\n",
       " 'G:\\\\EDA_projects\\\\Stock_Data\\\\individual_stocks_5yr\\\\individual_stocks_5yr\\\\NWL_data.csv',\n",
       " 'G:\\\\EDA_projects\\\\Stock_Data\\\\individual_stocks_5yr\\\\individual_stocks_5yr\\\\NWSA_data.csv',\n",
       " 'G:\\\\EDA_projects\\\\Stock_Data\\\\individual_stocks_5yr\\\\individual_stocks_5yr\\\\NWS_data.csv',\n",
       " 'G:\\\\EDA_projects\\\\Stock_Data\\\\individual_stocks_5yr\\\\individual_stocks_5yr\\\\OKE_data.csv',\n",
       " 'G:\\\\EDA_projects\\\\Stock_Data\\\\individual_stocks_5yr\\\\individual_stocks_5yr\\\\OMC_data.csv',\n",
       " 'G:\\\\EDA_projects\\\\Stock_Data\\\\individual_stocks_5yr\\\\individual_stocks_5yr\\\\ORCL_data.csv',\n",
       " 'G:\\\\EDA_projects\\\\Stock_Data\\\\individual_stocks_5yr\\\\individual_stocks_5yr\\\\ORLY_data.csv',\n",
       " 'G:\\\\EDA_projects\\\\Stock_Data\\\\individual_stocks_5yr\\\\individual_stocks_5yr\\\\OXY_data.csv',\n",
       " 'G:\\\\EDA_projects\\\\Stock_Data\\\\individual_stocks_5yr\\\\individual_stocks_5yr\\\\O_data.csv',\n",
       " 'G:\\\\EDA_projects\\\\Stock_Data\\\\individual_stocks_5yr\\\\individual_stocks_5yr\\\\PAYX_data.csv',\n",
       " 'G:\\\\EDA_projects\\\\Stock_Data\\\\individual_stocks_5yr\\\\individual_stocks_5yr\\\\PBCT_data.csv',\n",
       " 'G:\\\\EDA_projects\\\\Stock_Data\\\\individual_stocks_5yr\\\\individual_stocks_5yr\\\\PCAR_data.csv',\n",
       " 'G:\\\\EDA_projects\\\\Stock_Data\\\\individual_stocks_5yr\\\\individual_stocks_5yr\\\\PCG_data.csv',\n",
       " 'G:\\\\EDA_projects\\\\Stock_Data\\\\individual_stocks_5yr\\\\individual_stocks_5yr\\\\PCLN_data.csv',\n",
       " 'G:\\\\EDA_projects\\\\Stock_Data\\\\individual_stocks_5yr\\\\individual_stocks_5yr\\\\PDCO_data.csv',\n",
       " 'G:\\\\EDA_projects\\\\Stock_Data\\\\individual_stocks_5yr\\\\individual_stocks_5yr\\\\PEG_data.csv',\n",
       " 'G:\\\\EDA_projects\\\\Stock_Data\\\\individual_stocks_5yr\\\\individual_stocks_5yr\\\\PEP_data.csv',\n",
       " 'G:\\\\EDA_projects\\\\Stock_Data\\\\individual_stocks_5yr\\\\individual_stocks_5yr\\\\PFE_data.csv',\n",
       " 'G:\\\\EDA_projects\\\\Stock_Data\\\\individual_stocks_5yr\\\\individual_stocks_5yr\\\\PFG_data.csv',\n",
       " 'G:\\\\EDA_projects\\\\Stock_Data\\\\individual_stocks_5yr\\\\individual_stocks_5yr\\\\PGR_data.csv',\n",
       " 'G:\\\\EDA_projects\\\\Stock_Data\\\\individual_stocks_5yr\\\\individual_stocks_5yr\\\\PG_data.csv',\n",
       " 'G:\\\\EDA_projects\\\\Stock_Data\\\\individual_stocks_5yr\\\\individual_stocks_5yr\\\\PHM_data.csv',\n",
       " 'G:\\\\EDA_projects\\\\Stock_Data\\\\individual_stocks_5yr\\\\individual_stocks_5yr\\\\PH_data.csv',\n",
       " 'G:\\\\EDA_projects\\\\Stock_Data\\\\individual_stocks_5yr\\\\individual_stocks_5yr\\\\PKG_data.csv',\n",
       " 'G:\\\\EDA_projects\\\\Stock_Data\\\\individual_stocks_5yr\\\\individual_stocks_5yr\\\\PKI_data.csv',\n",
       " 'G:\\\\EDA_projects\\\\Stock_Data\\\\individual_stocks_5yr\\\\individual_stocks_5yr\\\\PLD_data.csv',\n",
       " 'G:\\\\EDA_projects\\\\Stock_Data\\\\individual_stocks_5yr\\\\individual_stocks_5yr\\\\PM_data.csv',\n",
       " 'G:\\\\EDA_projects\\\\Stock_Data\\\\individual_stocks_5yr\\\\individual_stocks_5yr\\\\PNC_data.csv',\n",
       " 'G:\\\\EDA_projects\\\\Stock_Data\\\\individual_stocks_5yr\\\\individual_stocks_5yr\\\\PNR_data.csv',\n",
       " 'G:\\\\EDA_projects\\\\Stock_Data\\\\individual_stocks_5yr\\\\individual_stocks_5yr\\\\PNW_data.csv',\n",
       " 'G:\\\\EDA_projects\\\\Stock_Data\\\\individual_stocks_5yr\\\\individual_stocks_5yr\\\\PPG_data.csv',\n",
       " 'G:\\\\EDA_projects\\\\Stock_Data\\\\individual_stocks_5yr\\\\individual_stocks_5yr\\\\PPL_data.csv',\n",
       " 'G:\\\\EDA_projects\\\\Stock_Data\\\\individual_stocks_5yr\\\\individual_stocks_5yr\\\\PRGO_data.csv',\n",
       " 'G:\\\\EDA_projects\\\\Stock_Data\\\\individual_stocks_5yr\\\\individual_stocks_5yr\\\\PRU_data.csv',\n",
       " 'G:\\\\EDA_projects\\\\Stock_Data\\\\individual_stocks_5yr\\\\individual_stocks_5yr\\\\PSA_data.csv',\n",
       " 'G:\\\\EDA_projects\\\\Stock_Data\\\\individual_stocks_5yr\\\\individual_stocks_5yr\\\\PSX_data.csv',\n",
       " 'G:\\\\EDA_projects\\\\Stock_Data\\\\individual_stocks_5yr\\\\individual_stocks_5yr\\\\PVH_data.csv',\n",
       " 'G:\\\\EDA_projects\\\\Stock_Data\\\\individual_stocks_5yr\\\\individual_stocks_5yr\\\\PWR_data.csv',\n",
       " 'G:\\\\EDA_projects\\\\Stock_Data\\\\individual_stocks_5yr\\\\individual_stocks_5yr\\\\PXD_data.csv',\n",
       " 'G:\\\\EDA_projects\\\\Stock_Data\\\\individual_stocks_5yr\\\\individual_stocks_5yr\\\\PX_data.csv',\n",
       " 'G:\\\\EDA_projects\\\\Stock_Data\\\\individual_stocks_5yr\\\\individual_stocks_5yr\\\\PYPL_data.csv',\n",
       " 'G:\\\\EDA_projects\\\\Stock_Data\\\\individual_stocks_5yr\\\\individual_stocks_5yr\\\\QCOM_data.csv',\n",
       " 'G:\\\\EDA_projects\\\\Stock_Data\\\\individual_stocks_5yr\\\\individual_stocks_5yr\\\\QRVO_data.csv',\n",
       " 'G:\\\\EDA_projects\\\\Stock_Data\\\\individual_stocks_5yr\\\\individual_stocks_5yr\\\\RCL_data.csv',\n",
       " 'G:\\\\EDA_projects\\\\Stock_Data\\\\individual_stocks_5yr\\\\individual_stocks_5yr\\\\REGN_data.csv',\n",
       " 'G:\\\\EDA_projects\\\\Stock_Data\\\\individual_stocks_5yr\\\\individual_stocks_5yr\\\\REG_data.csv',\n",
       " 'G:\\\\EDA_projects\\\\Stock_Data\\\\individual_stocks_5yr\\\\individual_stocks_5yr\\\\RE_data.csv',\n",
       " 'G:\\\\EDA_projects\\\\Stock_Data\\\\individual_stocks_5yr\\\\individual_stocks_5yr\\\\RF_data.csv',\n",
       " 'G:\\\\EDA_projects\\\\Stock_Data\\\\individual_stocks_5yr\\\\individual_stocks_5yr\\\\RHI_data.csv',\n",
       " 'G:\\\\EDA_projects\\\\Stock_Data\\\\individual_stocks_5yr\\\\individual_stocks_5yr\\\\RHT_data.csv',\n",
       " 'G:\\\\EDA_projects\\\\Stock_Data\\\\individual_stocks_5yr\\\\individual_stocks_5yr\\\\RJF_data.csv',\n",
       " 'G:\\\\EDA_projects\\\\Stock_Data\\\\individual_stocks_5yr\\\\individual_stocks_5yr\\\\RL_data.csv',\n",
       " 'G:\\\\EDA_projects\\\\Stock_Data\\\\individual_stocks_5yr\\\\individual_stocks_5yr\\\\RMD_data.csv',\n",
       " 'G:\\\\EDA_projects\\\\Stock_Data\\\\individual_stocks_5yr\\\\individual_stocks_5yr\\\\ROK_data.csv',\n",
       " 'G:\\\\EDA_projects\\\\Stock_Data\\\\individual_stocks_5yr\\\\individual_stocks_5yr\\\\ROP_data.csv',\n",
       " 'G:\\\\EDA_projects\\\\Stock_Data\\\\individual_stocks_5yr\\\\individual_stocks_5yr\\\\ROST_data.csv',\n",
       " 'G:\\\\EDA_projects\\\\Stock_Data\\\\individual_stocks_5yr\\\\individual_stocks_5yr\\\\RRC_data.csv',\n",
       " 'G:\\\\EDA_projects\\\\Stock_Data\\\\individual_stocks_5yr\\\\individual_stocks_5yr\\\\RSG_data.csv',\n",
       " 'G:\\\\EDA_projects\\\\Stock_Data\\\\individual_stocks_5yr\\\\individual_stocks_5yr\\\\RTN_data.csv',\n",
       " 'G:\\\\EDA_projects\\\\Stock_Data\\\\individual_stocks_5yr\\\\individual_stocks_5yr\\\\SBAC_data.csv',\n",
       " 'G:\\\\EDA_projects\\\\Stock_Data\\\\individual_stocks_5yr\\\\individual_stocks_5yr\\\\SBUX_data.csv',\n",
       " 'G:\\\\EDA_projects\\\\Stock_Data\\\\individual_stocks_5yr\\\\individual_stocks_5yr\\\\SCG_data.csv',\n",
       " 'G:\\\\EDA_projects\\\\Stock_Data\\\\individual_stocks_5yr\\\\individual_stocks_5yr\\\\SCHW_data.csv',\n",
       " 'G:\\\\EDA_projects\\\\Stock_Data\\\\individual_stocks_5yr\\\\individual_stocks_5yr\\\\SEE_data.csv',\n",
       " 'G:\\\\EDA_projects\\\\Stock_Data\\\\individual_stocks_5yr\\\\individual_stocks_5yr\\\\SHW_data.csv',\n",
       " 'G:\\\\EDA_projects\\\\Stock_Data\\\\individual_stocks_5yr\\\\individual_stocks_5yr\\\\SIG_data.csv',\n",
       " 'G:\\\\EDA_projects\\\\Stock_Data\\\\individual_stocks_5yr\\\\individual_stocks_5yr\\\\SJM_data.csv',\n",
       " 'G:\\\\EDA_projects\\\\Stock_Data\\\\individual_stocks_5yr\\\\individual_stocks_5yr\\\\SLB_data.csv',\n",
       " 'G:\\\\EDA_projects\\\\Stock_Data\\\\individual_stocks_5yr\\\\individual_stocks_5yr\\\\SLG_data.csv',\n",
       " 'G:\\\\EDA_projects\\\\Stock_Data\\\\individual_stocks_5yr\\\\individual_stocks_5yr\\\\SNA_data.csv',\n",
       " 'G:\\\\EDA_projects\\\\Stock_Data\\\\individual_stocks_5yr\\\\individual_stocks_5yr\\\\SNI_data.csv',\n",
       " 'G:\\\\EDA_projects\\\\Stock_Data\\\\individual_stocks_5yr\\\\individual_stocks_5yr\\\\SNPS_data.csv',\n",
       " 'G:\\\\EDA_projects\\\\Stock_Data\\\\individual_stocks_5yr\\\\individual_stocks_5yr\\\\SO_data.csv',\n",
       " 'G:\\\\EDA_projects\\\\Stock_Data\\\\individual_stocks_5yr\\\\individual_stocks_5yr\\\\SPGI_data.csv',\n",
       " 'G:\\\\EDA_projects\\\\Stock_Data\\\\individual_stocks_5yr\\\\individual_stocks_5yr\\\\SPG_data.csv',\n",
       " 'G:\\\\EDA_projects\\\\Stock_Data\\\\individual_stocks_5yr\\\\individual_stocks_5yr\\\\SRCL_data.csv',\n",
       " 'G:\\\\EDA_projects\\\\Stock_Data\\\\individual_stocks_5yr\\\\individual_stocks_5yr\\\\SRE_data.csv',\n",
       " 'G:\\\\EDA_projects\\\\Stock_Data\\\\individual_stocks_5yr\\\\individual_stocks_5yr\\\\STI_data.csv',\n",
       " 'G:\\\\EDA_projects\\\\Stock_Data\\\\individual_stocks_5yr\\\\individual_stocks_5yr\\\\STT_data.csv',\n",
       " 'G:\\\\EDA_projects\\\\Stock_Data\\\\individual_stocks_5yr\\\\individual_stocks_5yr\\\\STX_data.csv',\n",
       " 'G:\\\\EDA_projects\\\\Stock_Data\\\\individual_stocks_5yr\\\\individual_stocks_5yr\\\\STZ_data.csv',\n",
       " 'G:\\\\EDA_projects\\\\Stock_Data\\\\individual_stocks_5yr\\\\individual_stocks_5yr\\\\SWKS_data.csv',\n",
       " 'G:\\\\EDA_projects\\\\Stock_Data\\\\individual_stocks_5yr\\\\individual_stocks_5yr\\\\SWK_data.csv',\n",
       " 'G:\\\\EDA_projects\\\\Stock_Data\\\\individual_stocks_5yr\\\\individual_stocks_5yr\\\\SYF_data.csv',\n",
       " 'G:\\\\EDA_projects\\\\Stock_Data\\\\individual_stocks_5yr\\\\individual_stocks_5yr\\\\SYK_data.csv',\n",
       " 'G:\\\\EDA_projects\\\\Stock_Data\\\\individual_stocks_5yr\\\\individual_stocks_5yr\\\\SYMC_data.csv',\n",
       " 'G:\\\\EDA_projects\\\\Stock_Data\\\\individual_stocks_5yr\\\\individual_stocks_5yr\\\\SYY_data.csv',\n",
       " 'G:\\\\EDA_projects\\\\Stock_Data\\\\individual_stocks_5yr\\\\individual_stocks_5yr\\\\TAP_data.csv',\n",
       " 'G:\\\\EDA_projects\\\\Stock_Data\\\\individual_stocks_5yr\\\\individual_stocks_5yr\\\\TDG_data.csv',\n",
       " 'G:\\\\EDA_projects\\\\Stock_Data\\\\individual_stocks_5yr\\\\individual_stocks_5yr\\\\TEL_data.csv',\n",
       " 'G:\\\\EDA_projects\\\\Stock_Data\\\\individual_stocks_5yr\\\\individual_stocks_5yr\\\\TGT_data.csv',\n",
       " 'G:\\\\EDA_projects\\\\Stock_Data\\\\individual_stocks_5yr\\\\individual_stocks_5yr\\\\TIF_data.csv',\n",
       " 'G:\\\\EDA_projects\\\\Stock_Data\\\\individual_stocks_5yr\\\\individual_stocks_5yr\\\\TJX_data.csv',\n",
       " 'G:\\\\EDA_projects\\\\Stock_Data\\\\individual_stocks_5yr\\\\individual_stocks_5yr\\\\TMK_data.csv',\n",
       " 'G:\\\\EDA_projects\\\\Stock_Data\\\\individual_stocks_5yr\\\\individual_stocks_5yr\\\\TMO_data.csv',\n",
       " 'G:\\\\EDA_projects\\\\Stock_Data\\\\individual_stocks_5yr\\\\individual_stocks_5yr\\\\TPR_data.csv',\n",
       " 'G:\\\\EDA_projects\\\\Stock_Data\\\\individual_stocks_5yr\\\\individual_stocks_5yr\\\\TRIP_data.csv',\n",
       " 'G:\\\\EDA_projects\\\\Stock_Data\\\\individual_stocks_5yr\\\\individual_stocks_5yr\\\\TROW_data.csv',\n",
       " 'G:\\\\EDA_projects\\\\Stock_Data\\\\individual_stocks_5yr\\\\individual_stocks_5yr\\\\TRV_data.csv',\n",
       " 'G:\\\\EDA_projects\\\\Stock_Data\\\\individual_stocks_5yr\\\\individual_stocks_5yr\\\\TSCO_data.csv',\n",
       " 'G:\\\\EDA_projects\\\\Stock_Data\\\\individual_stocks_5yr\\\\individual_stocks_5yr\\\\TSN_data.csv',\n",
       " 'G:\\\\EDA_projects\\\\Stock_Data\\\\individual_stocks_5yr\\\\individual_stocks_5yr\\\\TSS_data.csv',\n",
       " 'G:\\\\EDA_projects\\\\Stock_Data\\\\individual_stocks_5yr\\\\individual_stocks_5yr\\\\TWX_data.csv',\n",
       " 'G:\\\\EDA_projects\\\\Stock_Data\\\\individual_stocks_5yr\\\\individual_stocks_5yr\\\\TXN_data.csv',\n",
       " 'G:\\\\EDA_projects\\\\Stock_Data\\\\individual_stocks_5yr\\\\individual_stocks_5yr\\\\TXT_data.csv',\n",
       " 'G:\\\\EDA_projects\\\\Stock_Data\\\\individual_stocks_5yr\\\\individual_stocks_5yr\\\\T_data.csv',\n",
       " 'G:\\\\EDA_projects\\\\Stock_Data\\\\individual_stocks_5yr\\\\individual_stocks_5yr\\\\UAA_data.csv',\n",
       " 'G:\\\\EDA_projects\\\\Stock_Data\\\\individual_stocks_5yr\\\\individual_stocks_5yr\\\\UAL_data.csv',\n",
       " 'G:\\\\EDA_projects\\\\Stock_Data\\\\individual_stocks_5yr\\\\individual_stocks_5yr\\\\UA_data.csv',\n",
       " 'G:\\\\EDA_projects\\\\Stock_Data\\\\individual_stocks_5yr\\\\individual_stocks_5yr\\\\UDR_data.csv',\n",
       " 'G:\\\\EDA_projects\\\\Stock_Data\\\\individual_stocks_5yr\\\\individual_stocks_5yr\\\\UHS_data.csv',\n",
       " 'G:\\\\EDA_projects\\\\Stock_Data\\\\individual_stocks_5yr\\\\individual_stocks_5yr\\\\ULTA_data.csv',\n",
       " 'G:\\\\EDA_projects\\\\Stock_Data\\\\individual_stocks_5yr\\\\individual_stocks_5yr\\\\UNH_data.csv',\n",
       " 'G:\\\\EDA_projects\\\\Stock_Data\\\\individual_stocks_5yr\\\\individual_stocks_5yr\\\\UNM_data.csv',\n",
       " 'G:\\\\EDA_projects\\\\Stock_Data\\\\individual_stocks_5yr\\\\individual_stocks_5yr\\\\UNP_data.csv',\n",
       " 'G:\\\\EDA_projects\\\\Stock_Data\\\\individual_stocks_5yr\\\\individual_stocks_5yr\\\\UPS_data.csv',\n",
       " 'G:\\\\EDA_projects\\\\Stock_Data\\\\individual_stocks_5yr\\\\individual_stocks_5yr\\\\URI_data.csv',\n",
       " 'G:\\\\EDA_projects\\\\Stock_Data\\\\individual_stocks_5yr\\\\individual_stocks_5yr\\\\USB_data.csv',\n",
       " 'G:\\\\EDA_projects\\\\Stock_Data\\\\individual_stocks_5yr\\\\individual_stocks_5yr\\\\UTX_data.csv',\n",
       " 'G:\\\\EDA_projects\\\\Stock_Data\\\\individual_stocks_5yr\\\\individual_stocks_5yr\\\\VAR_data.csv',\n",
       " 'G:\\\\EDA_projects\\\\Stock_Data\\\\individual_stocks_5yr\\\\individual_stocks_5yr\\\\VFC_data.csv',\n",
       " 'G:\\\\EDA_projects\\\\Stock_Data\\\\individual_stocks_5yr\\\\individual_stocks_5yr\\\\VIAB_data.csv',\n",
       " 'G:\\\\EDA_projects\\\\Stock_Data\\\\individual_stocks_5yr\\\\individual_stocks_5yr\\\\VLO_data.csv',\n",
       " 'G:\\\\EDA_projects\\\\Stock_Data\\\\individual_stocks_5yr\\\\individual_stocks_5yr\\\\VMC_data.csv',\n",
       " 'G:\\\\EDA_projects\\\\Stock_Data\\\\individual_stocks_5yr\\\\individual_stocks_5yr\\\\VNO_data.csv',\n",
       " 'G:\\\\EDA_projects\\\\Stock_Data\\\\individual_stocks_5yr\\\\individual_stocks_5yr\\\\VRSK_data.csv',\n",
       " 'G:\\\\EDA_projects\\\\Stock_Data\\\\individual_stocks_5yr\\\\individual_stocks_5yr\\\\VRSN_data.csv',\n",
       " 'G:\\\\EDA_projects\\\\Stock_Data\\\\individual_stocks_5yr\\\\individual_stocks_5yr\\\\VRTX_data.csv',\n",
       " 'G:\\\\EDA_projects\\\\Stock_Data\\\\individual_stocks_5yr\\\\individual_stocks_5yr\\\\VTR_data.csv',\n",
       " 'G:\\\\EDA_projects\\\\Stock_Data\\\\individual_stocks_5yr\\\\individual_stocks_5yr\\\\VZ_data.csv',\n",
       " 'G:\\\\EDA_projects\\\\Stock_Data\\\\individual_stocks_5yr\\\\individual_stocks_5yr\\\\V_data.csv',\n",
       " 'G:\\\\EDA_projects\\\\Stock_Data\\\\individual_stocks_5yr\\\\individual_stocks_5yr\\\\WAT_data.csv',\n",
       " 'G:\\\\EDA_projects\\\\Stock_Data\\\\individual_stocks_5yr\\\\individual_stocks_5yr\\\\WBA_data.csv',\n",
       " 'G:\\\\EDA_projects\\\\Stock_Data\\\\individual_stocks_5yr\\\\individual_stocks_5yr\\\\WDC_data.csv',\n",
       " 'G:\\\\EDA_projects\\\\Stock_Data\\\\individual_stocks_5yr\\\\individual_stocks_5yr\\\\WEC_data.csv',\n",
       " 'G:\\\\EDA_projects\\\\Stock_Data\\\\individual_stocks_5yr\\\\individual_stocks_5yr\\\\WFC_data.csv',\n",
       " 'G:\\\\EDA_projects\\\\Stock_Data\\\\individual_stocks_5yr\\\\individual_stocks_5yr\\\\WHR_data.csv',\n",
       " 'G:\\\\EDA_projects\\\\Stock_Data\\\\individual_stocks_5yr\\\\individual_stocks_5yr\\\\WLTW_data.csv',\n",
       " 'G:\\\\EDA_projects\\\\Stock_Data\\\\individual_stocks_5yr\\\\individual_stocks_5yr\\\\WMB_data.csv',\n",
       " 'G:\\\\EDA_projects\\\\Stock_Data\\\\individual_stocks_5yr\\\\individual_stocks_5yr\\\\WMT_data.csv',\n",
       " 'G:\\\\EDA_projects\\\\Stock_Data\\\\individual_stocks_5yr\\\\individual_stocks_5yr\\\\WM_data.csv',\n",
       " 'G:\\\\EDA_projects\\\\Stock_Data\\\\individual_stocks_5yr\\\\individual_stocks_5yr\\\\WRK_data.csv',\n",
       " 'G:\\\\EDA_projects\\\\Stock_Data\\\\individual_stocks_5yr\\\\individual_stocks_5yr\\\\WU_data.csv',\n",
       " 'G:\\\\EDA_projects\\\\Stock_Data\\\\individual_stocks_5yr\\\\individual_stocks_5yr\\\\WYNN_data.csv',\n",
       " 'G:\\\\EDA_projects\\\\Stock_Data\\\\individual_stocks_5yr\\\\individual_stocks_5yr\\\\WYN_data.csv',\n",
       " 'G:\\\\EDA_projects\\\\Stock_Data\\\\individual_stocks_5yr\\\\individual_stocks_5yr\\\\WY_data.csv',\n",
       " 'G:\\\\EDA_projects\\\\Stock_Data\\\\individual_stocks_5yr\\\\individual_stocks_5yr\\\\XEC_data.csv',\n",
       " 'G:\\\\EDA_projects\\\\Stock_Data\\\\individual_stocks_5yr\\\\individual_stocks_5yr\\\\XEL_data.csv',\n",
       " 'G:\\\\EDA_projects\\\\Stock_Data\\\\individual_stocks_5yr\\\\individual_stocks_5yr\\\\XLNX_data.csv',\n",
       " 'G:\\\\EDA_projects\\\\Stock_Data\\\\individual_stocks_5yr\\\\individual_stocks_5yr\\\\XL_data.csv',\n",
       " 'G:\\\\EDA_projects\\\\Stock_Data\\\\individual_stocks_5yr\\\\individual_stocks_5yr\\\\XOM_data.csv',\n",
       " 'G:\\\\EDA_projects\\\\Stock_Data\\\\individual_stocks_5yr\\\\individual_stocks_5yr\\\\XRAY_data.csv',\n",
       " 'G:\\\\EDA_projects\\\\Stock_Data\\\\individual_stocks_5yr\\\\individual_stocks_5yr\\\\XRX_data.csv',\n",
       " 'G:\\\\EDA_projects\\\\Stock_Data\\\\individual_stocks_5yr\\\\individual_stocks_5yr\\\\XYL_data.csv',\n",
       " 'G:\\\\EDA_projects\\\\Stock_Data\\\\individual_stocks_5yr\\\\individual_stocks_5yr\\\\YUM_data.csv',\n",
       " 'G:\\\\EDA_projects\\\\Stock_Data\\\\individual_stocks_5yr\\\\individual_stocks_5yr\\\\ZBH_data.csv',\n",
       " 'G:\\\\EDA_projects\\\\Stock_Data\\\\individual_stocks_5yr\\\\individual_stocks_5yr\\\\ZION_data.csv',\n",
       " 'G:\\\\EDA_projects\\\\Stock_Data\\\\individual_stocks_5yr\\\\individual_stocks_5yr\\\\ZTS_data.csv']"
      ]
     },
     "execution_count": 23,
     "metadata": {},
     "output_type": "execute_result"
    }
   ],
   "source": [
    "\n",
    "### ie ,at this path 'G:\\EDA_projects\\Stock_Data\\individual_stocks_5yr\\individual_stocks_5yr'\n",
    "### I need all the csv files..\n",
    "\n",
    "glob.glob(r'G:\\EDA_projects\\Stock_Data\\individual_stocks_5yr\\\n",
    "            individual_stocks_5yr/*csv')"
   ]
  },
  {
   "cell_type": "markdown",
   "metadata": {},
   "source": [
    "#### The tech stocks we'll use for this analysis--\n",
    "    Apple\n",
    "    Amazon\n",
    "    Google\n",
    "    Microsoft"
   ]
  },
  {
   "cell_type": "code",
   "execution_count": 24,
   "metadata": {},
   "outputs": [
    {
     "data": {
      "text/plain": [
       "'\\n    \\nNow lets store entire data of all countries in full_df\\nWays to do it--\\n    1) using os.listdir() , access all the files..\\n        a)using while loop & pd.append()\\n        b)using for loop & pd.append()\\n        c)using while loop & pd.concat()\\n        d)using for loop & pd.concat()\\n        e)using for loop & list append\\n\\n    2) using glob , find all the files along with the path..\\n        a)using dataframe & concat\\n        b)using list & list append\\n        c)using dataframe & pandas append()\\n        \\n'"
      ]
     },
     "execution_count": 24,
     "metadata": {},
     "output_type": "execute_result"
    }
   ],
   "source": [
    "'''\n",
    "    \n",
    "Now lets store entire data of all countries in full_df\n",
    "Ways to do it--\n",
    "    1) using os.listdir() , access all the files..\n",
    "        a)using while loop & pd.append()\n",
    "        b)using for loop & pd.append()\n",
    "        c)using while loop & pd.concat()\n",
    "        d)using for loop & pd.concat()\n",
    "        e)using for loop & list append\n",
    "\n",
    "    2) using glob , find all the files along with the path..\n",
    "        a)using dataframe & concat\n",
    "        b)using list & list append\n",
    "        c)using dataframe & pandas append()\n",
    "        \n",
    "'''"
   ]
  },
  {
   "cell_type": "code",
   "execution_count": null,
   "metadata": {},
   "outputs": [],
   "source": []
  },
  {
   "cell_type": "code",
   "execution_count": null,
   "metadata": {},
   "outputs": [],
   "source": []
  },
  {
   "cell_type": "code",
   "execution_count": 25,
   "metadata": {},
   "outputs": [],
   "source": [
    "## take AAPL , AMZN , GOOG , MSFT.csv \n",
    "\n",
    "company_list=\n",
    "[\n",
    "r'G:\\\\EDA_projects\\\\Stock_Data\\\\individual_stocks_5yr\\\\individual_stocks_5yr\\\\AAPL_data.csv',\n",
    "r'G:\\\\EDA_projects\\\\Stock_Data\\\\individual_stocks_5yr\\\\individual_stocks_5yr\\\\AMZN_data.csv',\n",
    "r'G:\\\\EDA_projects\\\\Stock_Data\\\\individual_stocks_5yr\\\\individual_stocks_5yr\\\\GOOG_data.csv',\n",
    "r'G:\\\\EDA_projects\\\\Stock_Data\\\\individual_stocks_5yr\\\\individual_stocks_5yr\\\\MSFT_data.csv'\n",
    "]\n",
    "\n",
    "\n",
    "#blank dataframe\n",
    "\n",
    "all_data = pd.DataFrame()\n",
    "for file in company_list:\n",
    "    current_df = pd.read_csv(file)\n",
    "    all_data=current_df.append(all_data , \\\n",
    "                               ignore_index=True)\n",
    "\n"
   ]
  },
  {
   "cell_type": "code",
   "execution_count": 26,
   "metadata": {},
   "outputs": [
    {
     "data": {
      "text/html": [
       "<div>\n",
       "<style scoped>\n",
       "    .dataframe tbody tr th:only-of-type {\n",
       "        vertical-align: middle;\n",
       "    }\n",
       "\n",
       "    .dataframe tbody tr th {\n",
       "        vertical-align: top;\n",
       "    }\n",
       "\n",
       "    .dataframe thead th {\n",
       "        text-align: right;\n",
       "    }\n",
       "</style>\n",
       "<table border=\"1\" class=\"dataframe\">\n",
       "  <thead>\n",
       "    <tr style=\"text-align: right;\">\n",
       "      <th></th>\n",
       "      <th>date</th>\n",
       "      <th>open</th>\n",
       "      <th>high</th>\n",
       "      <th>low</th>\n",
       "      <th>close</th>\n",
       "      <th>volume</th>\n",
       "      <th>Name</th>\n",
       "    </tr>\n",
       "  </thead>\n",
       "  <tbody>\n",
       "    <tr>\n",
       "      <th>0</th>\n",
       "      <td>2013-02-08</td>\n",
       "      <td>27.35</td>\n",
       "      <td>27.71</td>\n",
       "      <td>27.31</td>\n",
       "      <td>27.55</td>\n",
       "      <td>33318306</td>\n",
       "      <td>MSFT</td>\n",
       "    </tr>\n",
       "    <tr>\n",
       "      <th>1</th>\n",
       "      <td>2013-02-11</td>\n",
       "      <td>27.65</td>\n",
       "      <td>27.92</td>\n",
       "      <td>27.50</td>\n",
       "      <td>27.86</td>\n",
       "      <td>32247549</td>\n",
       "      <td>MSFT</td>\n",
       "    </tr>\n",
       "  </tbody>\n",
       "</table>\n",
       "</div>"
      ],
      "text/plain": [
       "         date   open   high    low  close    volume  Name\n",
       "0  2013-02-08  27.35  27.71  27.31  27.55  33318306  MSFT\n",
       "1  2013-02-11  27.65  27.92  27.50  27.86  32247549  MSFT"
      ]
     },
     "execution_count": 26,
     "metadata": {},
     "output_type": "execute_result"
    }
   ],
   "source": [
    "all_data.head(2)"
   ]
  },
  {
   "cell_type": "code",
   "execution_count": 27,
   "metadata": {},
   "outputs": [
    {
     "data": {
      "text/plain": [
       "(4752, 7)"
      ]
     },
     "execution_count": 27,
     "metadata": {},
     "output_type": "execute_result"
    }
   ],
   "source": [
    "all_data.shape"
   ]
  },
  {
   "cell_type": "code",
   "execution_count": null,
   "metadata": {},
   "outputs": [],
   "source": []
  },
  {
   "cell_type": "code",
   "execution_count": 28,
   "metadata": {},
   "outputs": [],
   "source": [
    "my_df=all_data.copy()"
   ]
  },
  {
   "cell_type": "code",
   "execution_count": null,
   "metadata": {},
   "outputs": [],
   "source": []
  },
  {
   "cell_type": "code",
   "execution_count": 29,
   "metadata": {},
   "outputs": [],
   "source": [
    "my_df['date']=pd.to_datetime(my_df['date'])"
   ]
  },
  {
   "cell_type": "code",
   "execution_count": null,
   "metadata": {},
   "outputs": [],
   "source": [
    "my_df['date'].dtype"
   ]
  },
  {
   "cell_type": "code",
   "execution_count": null,
   "metadata": {},
   "outputs": [],
   "source": [
    "my_df.dtypes"
   ]
  },
  {
   "cell_type": "code",
   "execution_count": null,
   "metadata": {},
   "outputs": [],
   "source": [
    "'''\n",
    "Refer 2_(6).. pandas_dtypes\n",
    "\n",
    "actual data-type is \"DatetimeTZDtype\" &  by the way \n",
    "'datetime64[ns, <tz>]' is tha string alias\n",
    "In date-time , we have 2 data-type (datetime64[ns]) and (<M8[ns])\n",
    "\n",
    "datetime64[ns] is a general dtype,\n",
    "while <M8[ns] is a specific dtype ,\n",
    "\n",
    "Both are similar , it entirely depends upon how your numpy \n",
    "was compiled & on the bit architecture of the OS ..\n",
    "\n",
    "Now architecture of numpy itself depends upon lots of factors like \n",
    "what environment u are using , what about the generation of your laptop too..\n",
    "\n",
    "\n",
    "in dtype('<M8[ns]') , \n",
    "M is a character code in Python which stands for Date-time\n",
    "and '<'  is little-endian\n",
    "<M8[ns] also have a length of 8 Bytes(64 bits)\n",
    "\n",
    "\n",
    "\n",
    "whereas datetime64[ns] basically have a length of 64 bits or 8 bytes ,\n",
    "\n",
    "\n",
    "\n",
    "\n",
    "\n",
    "But if u want to think it bluntly , they are same..\n",
    "By the way ,u can cross_check using below code:\n",
    "\n",
    "np.dtype('datetime64[ns]') == np.dtype('<M8[ns]')\n",
    "\n",
    "\n",
    "'''"
   ]
  },
  {
   "cell_type": "code",
   "execution_count": 30,
   "metadata": {},
   "outputs": [
    {
     "data": {
      "text/plain": [
       "Timestamp('2013-02-08 00:00:00')"
      ]
     },
     "execution_count": 30,
     "metadata": {},
     "output_type": "execute_result"
    }
   ],
   "source": [
    "my_df['date'][0]"
   ]
  },
  {
   "cell_type": "code",
   "execution_count": 31,
   "metadata": {},
   "outputs": [
    {
     "data": {
      "text/plain": [
       "Index(['date', 'open', 'high', 'low', 'close', 'volume', 'Name'], dtype='object')"
      ]
     },
     "execution_count": 31,
     "metadata": {},
     "output_type": "execute_result"
    }
   ],
   "source": [
    "my_df.columns"
   ]
  },
  {
   "cell_type": "code",
   "execution_count": null,
   "metadata": {},
   "outputs": [],
   "source": []
  },
  {
   "cell_type": "code",
   "execution_count": null,
   "metadata": {},
   "outputs": [],
   "source": []
  },
  {
   "cell_type": "code",
   "execution_count": null,
   "metadata": {},
   "outputs": [],
   "source": []
  },
  {
   "cell_type": "code",
   "execution_count": null,
   "metadata": {},
   "outputs": [],
   "source": []
  },
  {
   "cell_type": "markdown",
   "metadata": {},
   "source": [
    "#  2. Analysing closing price of the stock   \n",
    "        overtime?"
   ]
  },
  {
   "cell_type": "markdown",
   "metadata": {},
   "source": [
    "### ways to do it..\n",
    "    1..using lineplot (pandas )\n",
    "    "
   ]
  },
  {
   "cell_type": "code",
   "execution_count": null,
   "metadata": {},
   "outputs": [],
   "source": []
  },
  {
   "cell_type": "code",
   "execution_count": 32,
   "metadata": {},
   "outputs": [
    {
     "data": {
      "text/plain": [
       "date      datetime64[ns]\n",
       "open             float64\n",
       "high             float64\n",
       "low              float64\n",
       "close            float64\n",
       "volume             int64\n",
       "Name              object\n",
       "dtype: object"
      ]
     },
     "execution_count": 32,
     "metadata": {},
     "output_type": "execute_result"
    }
   ],
   "source": [
    "my_df.dtypes"
   ]
  },
  {
   "cell_type": "markdown",
   "metadata": {},
   "source": [
    "#### using pandas lineplot"
   ]
  },
  {
   "cell_type": "code",
   "execution_count": 33,
   "metadata": {},
   "outputs": [],
   "source": [
    "tech_list = my_df['Name'].unique()"
   ]
  },
  {
   "cell_type": "code",
   "execution_count": 34,
   "metadata": {},
   "outputs": [
    {
     "data": {
      "text/plain": [
       "array(['MSFT', 'GOOG', 'AMZN', 'AAPL'], dtype=object)"
      ]
     },
     "execution_count": 34,
     "metadata": {},
     "output_type": "execute_result"
    }
   ],
   "source": [
    "tech_list"
   ]
  },
  {
   "cell_type": "code",
   "execution_count": 35,
   "metadata": {},
   "outputs": [
    {
     "name": "stdout",
     "output_type": "stream",
     "text": [
      "<class 'str'>\n",
      "<class 'str'>\n",
      "<class 'str'>\n",
      "<class 'str'>\n"
     ]
    }
   ],
   "source": [
    "for i, company in enumerate(tech_list,1):\n",
    "    print(type(company))"
   ]
  },
  {
   "cell_type": "code",
   "execution_count": 36,
   "metadata": {},
   "outputs": [],
   "source": [
    "import matplotlib.pyplot as plt"
   ]
  },
  {
   "cell_type": "code",
   "execution_count": 37,
   "metadata": {},
   "outputs": [
    {
     "data": {
      "image/png": "[encoded data removed]",
      "text/plain": [
       "<Figure size 1080x504 with 4 Axes>"
      ]
     },
     "metadata": {
      "needs_background": "light"
     },
     "output_type": "display_data"
    }
   ],
   "source": [
    "# Now let's plot the total volume of stock being traded each day\n",
    "plt.figure(figsize=(15, 7))\n",
    "plt.subplots_adjust(top=1.25)\n",
    "\n",
    "for index, tech in enumerate(tech_list, 1):\n",
    "    plt.subplot(2, 2, index)\n",
    "    df=all_data[all_data['Name']==tech]\n",
    "    df['close'].plot()\n",
    "    plt.ylabel('closing price')\n",
    "    plt.xlabel('date')\n",
    "    plt.title(tech)\n",
    "    "
   ]
  },
  {
   "cell_type": "code",
   "execution_count": null,
   "metadata": {},
   "outputs": [],
   "source": []
  },
  {
   "cell_type": "code",
   "execution_count": 38,
   "metadata": {},
   "outputs": [],
   "source": [
    "### Similarly we can analyse total volume of stock being \n",
    "    traded each day"
   ]
  },
  {
   "cell_type": "code",
   "execution_count": null,
   "metadata": {},
   "outputs": [],
   "source": []
  },
  {
   "cell_type": "code",
   "execution_count": null,
   "metadata": {},
   "outputs": [],
   "source": []
  },
  {
   "cell_type": "markdown",
   "metadata": {},
   "source": [
    "# 3.. What was the moving average of \n",
    "      the various stocks?"
   ]
  },
  {
   "cell_type": "code",
   "execution_count": null,
   "metadata": {},
   "outputs": [],
   "source": [
    "'''\n",
    "Smoothening your series using moving average\n",
    "Rolling is just like a window that you are going to consider\n",
    "or I can say its a window that we have considered for Moving average,\n",
    "lets say 5 is the window size or 5 is the business period\n",
    "\n",
    "lets day u r expertise in any area & u know within 7 days, \n",
    "the maximum value is the true reflector of our business \n",
    "as we are in high growth era\n",
    "& minimum value is a true reflector of our baseline, \n",
    "so in such case instead of mean , u can call min & max function\n",
    "\n",
    "this technique has already used lots of time in Stock Market &\n",
    "stock Analyst used basically Moving average to remove such noise in data..\n",
    "\n",
    "\n",
    "'''"
   ]
  },
  {
   "cell_type": "code",
   "execution_count": 39,
   "metadata": {},
   "outputs": [
    {
     "data": {
      "text/html": [
       "<div>\n",
       "<style scoped>\n",
       "    .dataframe tbody tr th:only-of-type {\n",
       "        vertical-align: middle;\n",
       "    }\n",
       "\n",
       "    .dataframe tbody tr th {\n",
       "        vertical-align: top;\n",
       "    }\n",
       "\n",
       "    .dataframe thead th {\n",
       "        text-align: right;\n",
       "    }\n",
       "</style>\n",
       "<table border=\"1\" class=\"dataframe\">\n",
       "  <thead>\n",
       "    <tr style=\"text-align: right;\">\n",
       "      <th></th>\n",
       "      <th>date</th>\n",
       "      <th>open</th>\n",
       "      <th>high</th>\n",
       "      <th>low</th>\n",
       "      <th>close</th>\n",
       "      <th>volume</th>\n",
       "      <th>Name</th>\n",
       "    </tr>\n",
       "  </thead>\n",
       "  <tbody>\n",
       "    <tr>\n",
       "      <th>0</th>\n",
       "      <td>2013-02-08</td>\n",
       "      <td>27.35</td>\n",
       "      <td>27.71</td>\n",
       "      <td>27.31</td>\n",
       "      <td>27.55</td>\n",
       "      <td>33318306</td>\n",
       "      <td>MSFT</td>\n",
       "    </tr>\n",
       "    <tr>\n",
       "      <th>1</th>\n",
       "      <td>2013-02-11</td>\n",
       "      <td>27.65</td>\n",
       "      <td>27.92</td>\n",
       "      <td>27.50</td>\n",
       "      <td>27.86</td>\n",
       "      <td>32247549</td>\n",
       "      <td>MSFT</td>\n",
       "    </tr>\n",
       "    <tr>\n",
       "      <th>2</th>\n",
       "      <td>2013-02-12</td>\n",
       "      <td>27.88</td>\n",
       "      <td>28.00</td>\n",
       "      <td>27.75</td>\n",
       "      <td>27.88</td>\n",
       "      <td>35990829</td>\n",
       "      <td>MSFT</td>\n",
       "    </tr>\n",
       "  </tbody>\n",
       "</table>\n",
       "</div>"
      ],
      "text/plain": [
       "        date   open   high    low  close    volume  Name\n",
       "0 2013-02-08  27.35  27.71  27.31  27.55  33318306  MSFT\n",
       "1 2013-02-11  27.65  27.92  27.50  27.86  32247549  MSFT\n",
       "2 2013-02-12  27.88  28.00  27.75  27.88  35990829  MSFT"
      ]
     },
     "execution_count": 39,
     "metadata": {},
     "output_type": "execute_result"
    }
   ],
   "source": [
    "my_df.head(3)"
   ]
  },
  {
   "cell_type": "code",
   "execution_count": 40,
   "metadata": {},
   "outputs": [
    {
     "data": {
      "text/plain": [
       "0           NaN\n",
       "1           NaN\n",
       "2           NaN\n",
       "3           NaN\n",
       "4           NaN\n",
       "         ...   \n",
       "4747    171.948\n",
       "4748    170.152\n",
       "4749    168.101\n",
       "4750    166.700\n",
       "4751    165.232\n",
       "Name: close, Length: 4752, dtype: float64"
      ]
     },
     "execution_count": 40,
     "metadata": {},
     "output_type": "execute_result"
    }
   ],
   "source": [
    "my_df['close'].rolling(10).mean()"
   ]
  },
  {
   "cell_type": "code",
   "execution_count": 41,
   "metadata": {},
   "outputs": [],
   "source": [
    "#### now lets consider different windows of rolling ,ie \n",
    "    10 days ,20 days ,30 days "
   ]
  },
  {
   "cell_type": "code",
   "execution_count": 42,
   "metadata": {},
   "outputs": [
    {
     "data": {
      "text/plain": [
       "\"\\n\\nmy_df['close_10']=my_df['close'].rolling(10).mean()\\nmy_df['close_20']=my_df['close'].rolling(20).mean()\\nmy_df['close_30']=my_df['close'].rolling(30).mean()\\n\\n\""
      ]
     },
     "execution_count": 42,
     "metadata": {},
     "output_type": "execute_result"
    }
   ],
   "source": [
    "ma_day = [10, 20, 50]\n",
    "\n",
    "for ma in ma_day:\n",
    "    my_df['close'+'_'+str(ma)] = my_df['close'].rolling(ma).mean()\n",
    "    \n",
    "    \n",
    "'''\n",
    "\n",
    "my_df['close_10']=my_df['close'].rolling(10).mean()\n",
    "my_df['close_20']=my_df['close'].rolling(20).mean()\n",
    "my_df['close_30']=my_df['close'].rolling(30).mean()\n",
    "\n",
    "'''"
   ]
  },
  {
   "cell_type": "code",
   "execution_count": null,
   "metadata": {},
   "outputs": [],
   "source": []
  },
  {
   "cell_type": "code",
   "execution_count": 43,
   "metadata": {},
   "outputs": [
    {
     "data": {
      "text/html": [
       "<div>\n",
       "<style scoped>\n",
       "    .dataframe tbody tr th:only-of-type {\n",
       "        vertical-align: middle;\n",
       "    }\n",
       "\n",
       "    .dataframe tbody tr th {\n",
       "        vertical-align: top;\n",
       "    }\n",
       "\n",
       "    .dataframe thead th {\n",
       "        text-align: right;\n",
       "    }\n",
       "</style>\n",
       "<table border=\"1\" class=\"dataframe\">\n",
       "  <thead>\n",
       "    <tr style=\"text-align: right;\">\n",
       "      <th></th>\n",
       "      <th>date</th>\n",
       "      <th>open</th>\n",
       "      <th>high</th>\n",
       "      <th>low</th>\n",
       "      <th>close</th>\n",
       "      <th>volume</th>\n",
       "      <th>Name</th>\n",
       "      <th>close_10</th>\n",
       "      <th>close_20</th>\n",
       "      <th>close_50</th>\n",
       "    </tr>\n",
       "  </thead>\n",
       "  <tbody>\n",
       "    <tr>\n",
       "      <th>4747</th>\n",
       "      <td>2018-02-01</td>\n",
       "      <td>167.165</td>\n",
       "      <td>168.62</td>\n",
       "      <td>166.7600</td>\n",
       "      <td>167.78</td>\n",
       "      <td>47230787</td>\n",
       "      <td>AAPL</td>\n",
       "      <td>171.948</td>\n",
       "      <td>173.8700</td>\n",
       "      <td>172.8252</td>\n",
       "    </tr>\n",
       "    <tr>\n",
       "      <th>4748</th>\n",
       "      <td>2018-02-02</td>\n",
       "      <td>166.000</td>\n",
       "      <td>166.80</td>\n",
       "      <td>160.1000</td>\n",
       "      <td>160.50</td>\n",
       "      <td>86593825</td>\n",
       "      <td>AAPL</td>\n",
       "      <td>170.152</td>\n",
       "      <td>173.2435</td>\n",
       "      <td>172.6356</td>\n",
       "    </tr>\n",
       "    <tr>\n",
       "      <th>4749</th>\n",
       "      <td>2018-02-05</td>\n",
       "      <td>159.100</td>\n",
       "      <td>163.88</td>\n",
       "      <td>156.0000</td>\n",
       "      <td>156.49</td>\n",
       "      <td>72738522</td>\n",
       "      <td>AAPL</td>\n",
       "      <td>168.101</td>\n",
       "      <td>172.3180</td>\n",
       "      <td>172.3026</td>\n",
       "    </tr>\n",
       "    <tr>\n",
       "      <th>4750</th>\n",
       "      <td>2018-02-06</td>\n",
       "      <td>154.830</td>\n",
       "      <td>163.72</td>\n",
       "      <td>154.0000</td>\n",
       "      <td>163.03</td>\n",
       "      <td>68243838</td>\n",
       "      <td>AAPL</td>\n",
       "      <td>166.700</td>\n",
       "      <td>171.7520</td>\n",
       "      <td>172.0640</td>\n",
       "    </tr>\n",
       "    <tr>\n",
       "      <th>4751</th>\n",
       "      <td>2018-02-07</td>\n",
       "      <td>163.085</td>\n",
       "      <td>163.40</td>\n",
       "      <td>159.0685</td>\n",
       "      <td>159.54</td>\n",
       "      <td>51608580</td>\n",
       "      <td>AAPL</td>\n",
       "      <td>165.232</td>\n",
       "      <td>171.0125</td>\n",
       "      <td>171.7554</td>\n",
       "    </tr>\n",
       "  </tbody>\n",
       "</table>\n",
       "</div>"
      ],
      "text/plain": [
       "           date     open    high       low   close    volume  Name  close_10  \\\n",
       "4747 2018-02-01  167.165  168.62  166.7600  167.78  47230787  AAPL   171.948   \n",
       "4748 2018-02-02  166.000  166.80  160.1000  160.50  86593825  AAPL   170.152   \n",
       "4749 2018-02-05  159.100  163.88  156.0000  156.49  72738522  AAPL   168.101   \n",
       "4750 2018-02-06  154.830  163.72  154.0000  163.03  68243838  AAPL   166.700   \n",
       "4751 2018-02-07  163.085  163.40  159.0685  159.54  51608580  AAPL   165.232   \n",
       "\n",
       "      close_20  close_50  \n",
       "4747  173.8700  172.8252  \n",
       "4748  173.2435  172.6356  \n",
       "4749  172.3180  172.3026  \n",
       "4750  171.7520  172.0640  \n",
       "4751  171.0125  171.7554  "
      ]
     },
     "execution_count": 43,
     "metadata": {},
     "output_type": "execute_result"
    }
   ],
   "source": [
    "my_df.tail(5)"
   ]
  },
  {
   "cell_type": "code",
   "execution_count": 44,
   "metadata": {},
   "outputs": [
    {
     "data": {
      "text/plain": [
       "Index(['date', 'open', 'high', 'low', 'close', 'volume', 'Name', 'close_10',\n",
       "       'close_20', 'close_50'],\n",
       "      dtype='object')"
      ]
     },
     "execution_count": 44,
     "metadata": {},
     "output_type": "execute_result"
    }
   ],
   "source": [
    "my_df.columns"
   ]
  },
  {
   "cell_type": "code",
   "execution_count": 45,
   "metadata": {},
   "outputs": [
    {
     "data": {
      "text/plain": [
       "array(['MSFT', 'GOOG', 'AMZN', 'AAPL'], dtype=object)"
      ]
     },
     "execution_count": 45,
     "metadata": {},
     "output_type": "execute_result"
    }
   ],
   "source": [
    "my_df['Name'].unique()"
   ]
  },
  {
   "cell_type": "code",
   "execution_count": 46,
   "metadata": {},
   "outputs": [],
   "source": [
    "import matplotlib.pyplot as plt"
   ]
  },
  {
   "cell_type": "code",
   "execution_count": 47,
   "metadata": {},
   "outputs": [
    {
     "data": {
      "image/png": "[encoded data removed]",
      "text/plain": [
       "<Figure size 432x288 with 1 Axes>"
      ]
     },
     "metadata": {
      "needs_background": "light"
     },
     "output_type": "display_data"
    },
    {
     "data": {
      "image/png": "[encoded data removed]",
      "text/plain": [
       "<Figure size 432x288 with 1 Axes>"
      ]
     },
     "metadata": {
      "needs_background": "light"
     },
     "output_type": "display_data"
    },
    {
     "data": {
      "image/png": "[encoded data removed]",
      "text/plain": [
       "<Figure size 432x288 with 1 Axes>"
      ]
     },
     "metadata": {
      "needs_background": "light"
     },
     "output_type": "display_data"
    },
    {
     "data": {
      "image/png": "[encoded data removed]",
      "text/plain": [
       "<Figure size 432x288 with 1 Axes>"
      ]
     },
     "metadata": {
      "needs_background": "light"
     },
     "output_type": "display_data"
    }
   ],
   "source": [
    "for name in my_df['Name'].unique():\n",
    "    current_df=my_df[my_df['Name']==name]\n",
    "    current_df.set_index('date')[['close','close_10',\\\n",
    "                          'close_20', 'close_50']].plot()\n",
    "    plt.title(name)"
   ]
  },
  {
   "cell_type": "code",
   "execution_count": null,
   "metadata": {},
   "outputs": [],
   "source": []
  },
  {
   "cell_type": "code",
   "execution_count": null,
   "metadata": {},
   "outputs": [],
   "source": []
  },
  {
   "cell_type": "code",
   "execution_count": null,
   "metadata": {},
   "outputs": [],
   "source": []
  },
  {
   "cell_type": "code",
   "execution_count": null,
   "metadata": {},
   "outputs": [],
   "source": []
  },
  {
   "cell_type": "code",
   "execution_count": null,
   "metadata": {},
   "outputs": [],
   "source": []
  },
  {
   "cell_type": "markdown",
   "metadata": {},
   "source": [
    "# 4..Analyse monthly mean of closing Price"
   ]
  },
  {
   "cell_type": "markdown",
   "metadata": {},
   "source": [
    "#### ways to do it..\n",
    "    1..using resampling\n",
    "    2..using grouping"
   ]
  },
  {
   "cell_type": "markdown",
   "metadata": {},
   "source": [
    "##### 1..using resampling\n",
    "    Before doing resampling,first u have to make sure that \n",
    "    your date feature must be 'row-index' so that u can resample it :\n",
    "    \n",
    "    a..yearly('Y')  , \n",
    "    b..quarterly('Q')   ,\n",
    "    c..monthly('M') ,\n",
    "    d..weekly basis ('W'), \n",
    "    e..Daily_basis('D')  \n",
    "    f..minutes ('3T') , \n",
    "    g..30 second bins('30S')   ,\n",
    "    h..resample('17min')"
   ]
  },
  {
   "cell_type": "code",
   "execution_count": 48,
   "metadata": {},
   "outputs": [
    {
     "data": {
      "text/html": [
       "<div>\n",
       "<style scoped>\n",
       "    .dataframe tbody tr th:only-of-type {\n",
       "        vertical-align: middle;\n",
       "    }\n",
       "\n",
       "    .dataframe tbody tr th {\n",
       "        vertical-align: top;\n",
       "    }\n",
       "\n",
       "    .dataframe thead th {\n",
       "        text-align: right;\n",
       "    }\n",
       "</style>\n",
       "<table border=\"1\" class=\"dataframe\">\n",
       "  <thead>\n",
       "    <tr style=\"text-align: right;\">\n",
       "      <th></th>\n",
       "      <th>date</th>\n",
       "      <th>open</th>\n",
       "      <th>high</th>\n",
       "      <th>low</th>\n",
       "      <th>close</th>\n",
       "      <th>volume</th>\n",
       "      <th>Name</th>\n",
       "      <th>close_10</th>\n",
       "      <th>close_20</th>\n",
       "      <th>close_50</th>\n",
       "    </tr>\n",
       "  </thead>\n",
       "  <tbody>\n",
       "    <tr>\n",
       "      <th>0</th>\n",
       "      <td>2013-02-08</td>\n",
       "      <td>27.35</td>\n",
       "      <td>27.71</td>\n",
       "      <td>27.31</td>\n",
       "      <td>27.55</td>\n",
       "      <td>33318306</td>\n",
       "      <td>MSFT</td>\n",
       "      <td>NaN</td>\n",
       "      <td>NaN</td>\n",
       "      <td>NaN</td>\n",
       "    </tr>\n",
       "    <tr>\n",
       "      <th>1</th>\n",
       "      <td>2013-02-11</td>\n",
       "      <td>27.65</td>\n",
       "      <td>27.92</td>\n",
       "      <td>27.50</td>\n",
       "      <td>27.86</td>\n",
       "      <td>32247549</td>\n",
       "      <td>MSFT</td>\n",
       "      <td>NaN</td>\n",
       "      <td>NaN</td>\n",
       "      <td>NaN</td>\n",
       "    </tr>\n",
       "  </tbody>\n",
       "</table>\n",
       "</div>"
      ],
      "text/plain": [
       "        date   open   high    low  close    volume  Name  close_10  close_20  \\\n",
       "0 2013-02-08  27.35  27.71  27.31  27.55  33318306  MSFT       NaN       NaN   \n",
       "1 2013-02-11  27.65  27.92  27.50  27.86  32247549  MSFT       NaN       NaN   \n",
       "\n",
       "   close_50  \n",
       "0       NaN  \n",
       "1       NaN  "
      ]
     },
     "execution_count": 48,
     "metadata": {},
     "output_type": "execute_result"
    }
   ],
   "source": [
    "my_df.head(2)"
   ]
  },
  {
   "cell_type": "code",
   "execution_count": 49,
   "metadata": {},
   "outputs": [],
   "source": [
    "my_df.set_index('date',inplace=True)"
   ]
  },
  {
   "cell_type": "code",
   "execution_count": 50,
   "metadata": {},
   "outputs": [
    {
     "data": {
      "text/html": [
       "<div>\n",
       "<style scoped>\n",
       "    .dataframe tbody tr th:only-of-type {\n",
       "        vertical-align: middle;\n",
       "    }\n",
       "\n",
       "    .dataframe tbody tr th {\n",
       "        vertical-align: top;\n",
       "    }\n",
       "\n",
       "    .dataframe thead th {\n",
       "        text-align: right;\n",
       "    }\n",
       "</style>\n",
       "<table border=\"1\" class=\"dataframe\">\n",
       "  <thead>\n",
       "    <tr style=\"text-align: right;\">\n",
       "      <th></th>\n",
       "      <th>open</th>\n",
       "      <th>high</th>\n",
       "      <th>low</th>\n",
       "      <th>close</th>\n",
       "      <th>volume</th>\n",
       "      <th>Name</th>\n",
       "      <th>close_10</th>\n",
       "      <th>close_20</th>\n",
       "      <th>close_50</th>\n",
       "    </tr>\n",
       "    <tr>\n",
       "      <th>date</th>\n",
       "      <th></th>\n",
       "      <th></th>\n",
       "      <th></th>\n",
       "      <th></th>\n",
       "      <th></th>\n",
       "      <th></th>\n",
       "      <th></th>\n",
       "      <th></th>\n",
       "      <th></th>\n",
       "    </tr>\n",
       "  </thead>\n",
       "  <tbody>\n",
       "    <tr>\n",
       "      <th>2013-02-08</th>\n",
       "      <td>27.35</td>\n",
       "      <td>27.71</td>\n",
       "      <td>27.31</td>\n",
       "      <td>27.55</td>\n",
       "      <td>33318306</td>\n",
       "      <td>MSFT</td>\n",
       "      <td>NaN</td>\n",
       "      <td>NaN</td>\n",
       "      <td>NaN</td>\n",
       "    </tr>\n",
       "    <tr>\n",
       "      <th>2013-02-11</th>\n",
       "      <td>27.65</td>\n",
       "      <td>27.92</td>\n",
       "      <td>27.50</td>\n",
       "      <td>27.86</td>\n",
       "      <td>32247549</td>\n",
       "      <td>MSFT</td>\n",
       "      <td>NaN</td>\n",
       "      <td>NaN</td>\n",
       "      <td>NaN</td>\n",
       "    </tr>\n",
       "    <tr>\n",
       "      <th>2013-02-12</th>\n",
       "      <td>27.88</td>\n",
       "      <td>28.00</td>\n",
       "      <td>27.75</td>\n",
       "      <td>27.88</td>\n",
       "      <td>35990829</td>\n",
       "      <td>MSFT</td>\n",
       "      <td>NaN</td>\n",
       "      <td>NaN</td>\n",
       "      <td>NaN</td>\n",
       "    </tr>\n",
       "    <tr>\n",
       "      <th>2013-02-13</th>\n",
       "      <td>27.93</td>\n",
       "      <td>28.11</td>\n",
       "      <td>27.88</td>\n",
       "      <td>28.03</td>\n",
       "      <td>41715530</td>\n",
       "      <td>MSFT</td>\n",
       "      <td>NaN</td>\n",
       "      <td>NaN</td>\n",
       "      <td>NaN</td>\n",
       "    </tr>\n",
       "    <tr>\n",
       "      <th>2013-02-14</th>\n",
       "      <td>27.92</td>\n",
       "      <td>28.06</td>\n",
       "      <td>27.87</td>\n",
       "      <td>28.04</td>\n",
       "      <td>32663174</td>\n",
       "      <td>MSFT</td>\n",
       "      <td>NaN</td>\n",
       "      <td>NaN</td>\n",
       "      <td>NaN</td>\n",
       "    </tr>\n",
       "  </tbody>\n",
       "</table>\n",
       "</div>"
      ],
      "text/plain": [
       "             open   high    low  close    volume  Name  close_10  close_20  \\\n",
       "date                                                                         \n",
       "2013-02-08  27.35  27.71  27.31  27.55  33318306  MSFT       NaN       NaN   \n",
       "2013-02-11  27.65  27.92  27.50  27.86  32247549  MSFT       NaN       NaN   \n",
       "2013-02-12  27.88  28.00  27.75  27.88  35990829  MSFT       NaN       NaN   \n",
       "2013-02-13  27.93  28.11  27.88  28.03  41715530  MSFT       NaN       NaN   \n",
       "2013-02-14  27.92  28.06  27.87  28.04  32663174  MSFT       NaN       NaN   \n",
       "\n",
       "            close_50  \n",
       "date                  \n",
       "2013-02-08       NaN  \n",
       "2013-02-11       NaN  \n",
       "2013-02-12       NaN  \n",
       "2013-02-13       NaN  \n",
       "2013-02-14       NaN  "
      ]
     },
     "execution_count": 50,
     "metadata": {},
     "output_type": "execute_result"
    }
   ],
   "source": [
    "my_df.head()"
   ]
  },
  {
   "cell_type": "code",
   "execution_count": 51,
   "metadata": {},
   "outputs": [
    {
     "data": {
      "text/plain": [
       "<AxesSubplot:xlabel='date'>"
      ]
     },
     "execution_count": 51,
     "metadata": {},
     "output_type": "execute_result"
    },
    {
     "data": {
      "image/png": "[encoded data removed]",
      "text/plain": [
       "<Figure size 432x288 with 1 Axes>"
      ]
     },
     "metadata": {
      "needs_background": "light"
     },
     "output_type": "display_data"
    }
   ],
   "source": [
    "my_df['close'].resample('M').mean().plot()"
   ]
  },
  {
   "cell_type": "markdown",
   "metadata": {},
   "source": [
    "##### resampling close column year wise"
   ]
  },
  {
   "cell_type": "code",
   "execution_count": 52,
   "metadata": {},
   "outputs": [
    {
     "data": {
      "text/plain": [
       "<AxesSubplot:xlabel='date'>"
      ]
     },
     "execution_count": 52,
     "metadata": {},
     "output_type": "execute_result"
    },
    {
     "data": {
      "image/png": "[encoded data removed]",
      "text/plain": [
       "<Figure size 432x288 with 1 Axes>"
      ]
     },
     "metadata": {
      "needs_background": "light"
     },
     "output_type": "display_data"
    }
   ],
   "source": [
    "my_df['close'].resample('Y').mean().plot()"
   ]
  },
  {
   "cell_type": "code",
   "execution_count": null,
   "metadata": {},
   "outputs": [],
   "source": []
  },
  {
   "cell_type": "code",
   "execution_count": null,
   "metadata": {},
   "outputs": [],
   "source": []
  },
  {
   "cell_type": "code",
   "execution_count": null,
   "metadata": {},
   "outputs": [],
   "source": []
  },
  {
   "cell_type": "code",
   "execution_count": null,
   "metadata": {},
   "outputs": [],
   "source": []
  },
  {
   "cell_type": "code",
   "execution_count": null,
   "metadata": {},
   "outputs": [],
   "source": []
  },
  {
   "cell_type": "code",
   "execution_count": null,
   "metadata": {},
   "outputs": [],
   "source": []
  },
  {
   "cell_type": "markdown",
   "metadata": {},
   "source": [
    "# 5.. Checking if the Stock prices of these tech     companies(Amazon,Apple,Google,Microsoft)\n",
    "are correlated or not !"
   ]
  },
  {
   "cell_type": "raw",
   "metadata": {},
   "source": [
    "\n",
    "ie I Need such type of data :\\\n",
    "\n",
    "    AAPL_close  AMZN_close   GOOG_close  MSFT_close\n",
    "0\t67.8542     261.95        558.46       27.55\n",
    "1\t68.5614     257.21        559.99       27.86\n",
    "\n"
   ]
  },
  {
   "cell_type": "code",
   "execution_count": 53,
   "metadata": {},
   "outputs": [
    {
     "data": {
      "text/html": [
       "<div>\n",
       "<style scoped>\n",
       "    .dataframe tbody tr th:only-of-type {\n",
       "        vertical-align: middle;\n",
       "    }\n",
       "\n",
       "    .dataframe tbody tr th {\n",
       "        vertical-align: top;\n",
       "    }\n",
       "\n",
       "    .dataframe thead th {\n",
       "        text-align: right;\n",
       "    }\n",
       "</style>\n",
       "<table border=\"1\" class=\"dataframe\">\n",
       "  <thead>\n",
       "    <tr style=\"text-align: right;\">\n",
       "      <th></th>\n",
       "      <th>open</th>\n",
       "      <th>high</th>\n",
       "      <th>low</th>\n",
       "      <th>close</th>\n",
       "      <th>volume</th>\n",
       "      <th>Name</th>\n",
       "      <th>close_10</th>\n",
       "      <th>close_20</th>\n",
       "      <th>close_50</th>\n",
       "    </tr>\n",
       "    <tr>\n",
       "      <th>date</th>\n",
       "      <th></th>\n",
       "      <th></th>\n",
       "      <th></th>\n",
       "      <th></th>\n",
       "      <th></th>\n",
       "      <th></th>\n",
       "      <th></th>\n",
       "      <th></th>\n",
       "      <th></th>\n",
       "    </tr>\n",
       "  </thead>\n",
       "  <tbody>\n",
       "    <tr>\n",
       "      <th>2013-02-08</th>\n",
       "      <td>27.35</td>\n",
       "      <td>27.71</td>\n",
       "      <td>27.31</td>\n",
       "      <td>27.55</td>\n",
       "      <td>33318306</td>\n",
       "      <td>MSFT</td>\n",
       "      <td>NaN</td>\n",
       "      <td>NaN</td>\n",
       "      <td>NaN</td>\n",
       "    </tr>\n",
       "    <tr>\n",
       "      <th>2013-02-11</th>\n",
       "      <td>27.65</td>\n",
       "      <td>27.92</td>\n",
       "      <td>27.50</td>\n",
       "      <td>27.86</td>\n",
       "      <td>32247549</td>\n",
       "      <td>MSFT</td>\n",
       "      <td>NaN</td>\n",
       "      <td>NaN</td>\n",
       "      <td>NaN</td>\n",
       "    </tr>\n",
       "    <tr>\n",
       "      <th>2013-02-12</th>\n",
       "      <td>27.88</td>\n",
       "      <td>28.00</td>\n",
       "      <td>27.75</td>\n",
       "      <td>27.88</td>\n",
       "      <td>35990829</td>\n",
       "      <td>MSFT</td>\n",
       "      <td>NaN</td>\n",
       "      <td>NaN</td>\n",
       "      <td>NaN</td>\n",
       "    </tr>\n",
       "    <tr>\n",
       "      <th>2013-02-13</th>\n",
       "      <td>27.93</td>\n",
       "      <td>28.11</td>\n",
       "      <td>27.88</td>\n",
       "      <td>28.03</td>\n",
       "      <td>41715530</td>\n",
       "      <td>MSFT</td>\n",
       "      <td>NaN</td>\n",
       "      <td>NaN</td>\n",
       "      <td>NaN</td>\n",
       "    </tr>\n",
       "    <tr>\n",
       "      <th>2013-02-14</th>\n",
       "      <td>27.92</td>\n",
       "      <td>28.06</td>\n",
       "      <td>27.87</td>\n",
       "      <td>28.04</td>\n",
       "      <td>32663174</td>\n",
       "      <td>MSFT</td>\n",
       "      <td>NaN</td>\n",
       "      <td>NaN</td>\n",
       "      <td>NaN</td>\n",
       "    </tr>\n",
       "  </tbody>\n",
       "</table>\n",
       "</div>"
      ],
      "text/plain": [
       "             open   high    low  close    volume  Name  close_10  close_20  \\\n",
       "date                                                                         \n",
       "2013-02-08  27.35  27.71  27.31  27.55  33318306  MSFT       NaN       NaN   \n",
       "2013-02-11  27.65  27.92  27.50  27.86  32247549  MSFT       NaN       NaN   \n",
       "2013-02-12  27.88  28.00  27.75  27.88  35990829  MSFT       NaN       NaN   \n",
       "2013-02-13  27.93  28.11  27.88  28.03  41715530  MSFT       NaN       NaN   \n",
       "2013-02-14  27.92  28.06  27.87  28.04  32663174  MSFT       NaN       NaN   \n",
       "\n",
       "            close_50  \n",
       "date                  \n",
       "2013-02-08       NaN  \n",
       "2013-02-11       NaN  \n",
       "2013-02-12       NaN  \n",
       "2013-02-13       NaN  \n",
       "2013-02-14       NaN  "
      ]
     },
     "execution_count": 53,
     "metadata": {},
     "output_type": "execute_result"
    }
   ],
   "source": [
    "my_df.head()"
   ]
  },
  {
   "cell_type": "code",
   "execution_count": 54,
   "metadata": {},
   "outputs": [
    {
     "data": {
      "text/plain": [
       "open         0\n",
       "high         0\n",
       "low          0\n",
       "close        0\n",
       "volume       0\n",
       "Name         0\n",
       "close_10     9\n",
       "close_20    19\n",
       "close_50    49\n",
       "dtype: int64"
      ]
     },
     "execution_count": 54,
     "metadata": {},
     "output_type": "execute_result"
    }
   ],
   "source": [
    "my_df.isnull().sum()"
   ]
  },
  {
   "cell_type": "markdown",
   "metadata": {},
   "source": [
    "#### 1..using loop"
   ]
  },
  {
   "cell_type": "code",
   "execution_count": 55,
   "metadata": {},
   "outputs": [
    {
     "data": {
      "text/plain": [
       "array(['MSFT', 'GOOG', 'AMZN', 'AAPL'], dtype=object)"
      ]
     },
     "execution_count": 55,
     "metadata": {},
     "output_type": "execute_result"
    }
   ],
   "source": [
    "my_df['Name'].unique()"
   ]
  },
  {
   "cell_type": "code",
   "execution_count": 56,
   "metadata": {},
   "outputs": [],
   "source": [
    "closing_price = pd.DataFrame()"
   ]
  },
  {
   "cell_type": "code",
   "execution_count": 57,
   "metadata": {},
   "outputs": [],
   "source": [
    "for comp in my_df['Name'].unique():\n",
    "    current_df=my_df[my_df['Name']==comp]\n",
    "    closing_price[comp+'_close']=current_df['close']"
   ]
  },
  {
   "cell_type": "code",
   "execution_count": 58,
   "metadata": {},
   "outputs": [
    {
     "data": {
      "text/html": [
       "<div>\n",
       "<style scoped>\n",
       "    .dataframe tbody tr th:only-of-type {\n",
       "        vertical-align: middle;\n",
       "    }\n",
       "\n",
       "    .dataframe tbody tr th {\n",
       "        vertical-align: top;\n",
       "    }\n",
       "\n",
       "    .dataframe thead th {\n",
       "        text-align: right;\n",
       "    }\n",
       "</style>\n",
       "<table border=\"1\" class=\"dataframe\">\n",
       "  <thead>\n",
       "    <tr style=\"text-align: right;\">\n",
       "      <th></th>\n",
       "      <th>MSFT_close</th>\n",
       "      <th>GOOG_close</th>\n",
       "      <th>AMZN_close</th>\n",
       "      <th>AAPL_close</th>\n",
       "    </tr>\n",
       "    <tr>\n",
       "      <th>date</th>\n",
       "      <th></th>\n",
       "      <th></th>\n",
       "      <th></th>\n",
       "      <th></th>\n",
       "    </tr>\n",
       "  </thead>\n",
       "  <tbody>\n",
       "    <tr>\n",
       "      <th>2013-02-08</th>\n",
       "      <td>27.55</td>\n",
       "      <td>NaN</td>\n",
       "      <td>261.95</td>\n",
       "      <td>67.8542</td>\n",
       "    </tr>\n",
       "    <tr>\n",
       "      <th>2013-02-11</th>\n",
       "      <td>27.86</td>\n",
       "      <td>NaN</td>\n",
       "      <td>257.21</td>\n",
       "      <td>68.5614</td>\n",
       "    </tr>\n",
       "  </tbody>\n",
       "</table>\n",
       "</div>"
      ],
      "text/plain": [
       "            MSFT_close  GOOG_close  AMZN_close  AAPL_close\n",
       "date                                                      \n",
       "2013-02-08       27.55         NaN      261.95     67.8542\n",
       "2013-02-11       27.86         NaN      257.21     68.5614"
      ]
     },
     "execution_count": 58,
     "metadata": {},
     "output_type": "execute_result"
    }
   ],
   "source": [
    "closing_price.head(2)"
   ]
  },
  {
   "cell_type": "code",
   "execution_count": 32,
   "metadata": {},
   "outputs": [],
   "source": [
    "for comp in my_df['Name'].unique():\n",
    "    current_df=my_df[my_df['Name']==comp]\n",
    "    closing_price[comp+'_close']=current_df['close']"
   ]
  },
  {
   "cell_type": "code",
   "execution_count": 33,
   "metadata": {},
   "outputs": [
    {
     "data": {
      "text/html": [
       "<div>\n",
       "<style scoped>\n",
       "    .dataframe tbody tr th:only-of-type {\n",
       "        vertical-align: middle;\n",
       "    }\n",
       "\n",
       "    .dataframe tbody tr th {\n",
       "        vertical-align: top;\n",
       "    }\n",
       "\n",
       "    .dataframe thead th {\n",
       "        text-align: right;\n",
       "    }\n",
       "</style>\n",
       "<table border=\"1\" class=\"dataframe\">\n",
       "  <thead>\n",
       "    <tr style=\"text-align: right;\">\n",
       "      <th></th>\n",
       "      <th>MSFT_close</th>\n",
       "      <th>GOOG_close</th>\n",
       "      <th>AMZN_close</th>\n",
       "      <th>AAPL_close</th>\n",
       "    </tr>\n",
       "    <tr>\n",
       "      <th>date</th>\n",
       "      <th></th>\n",
       "      <th></th>\n",
       "      <th></th>\n",
       "      <th></th>\n",
       "    </tr>\n",
       "  </thead>\n",
       "  <tbody>\n",
       "    <tr>\n",
       "      <th>2013-02-08</th>\n",
       "      <td>27.55</td>\n",
       "      <td>NaN</td>\n",
       "      <td>261.95</td>\n",
       "      <td>67.8542</td>\n",
       "    </tr>\n",
       "    <tr>\n",
       "      <th>2013-02-11</th>\n",
       "      <td>27.86</td>\n",
       "      <td>NaN</td>\n",
       "      <td>257.21</td>\n",
       "      <td>68.5614</td>\n",
       "    </tr>\n",
       "  </tbody>\n",
       "</table>\n",
       "</div>"
      ],
      "text/plain": [
       "            MSFT_close  GOOG_close  AMZN_close  AAPL_close\n",
       "date                                                      \n",
       "2013-02-08       27.55         NaN      261.95     67.8542\n",
       "2013-02-11       27.86         NaN      257.21     68.5614"
      ]
     },
     "execution_count": 33,
     "metadata": {},
     "output_type": "execute_result"
    }
   ],
   "source": [
    "closing_price.head(2)"
   ]
  },
  {
   "cell_type": "markdown",
   "metadata": {},
   "source": [
    "##### co-relation plot for stock prices"
   ]
  },
  {
   "cell_type": "code",
   "execution_count": 34,
   "metadata": {},
   "outputs": [
    {
     "data": {
      "text/html": [
       "<div>\n",
       "<style scoped>\n",
       "    .dataframe tbody tr th:only-of-type {\n",
       "        vertical-align: middle;\n",
       "    }\n",
       "\n",
       "    .dataframe tbody tr th {\n",
       "        vertical-align: top;\n",
       "    }\n",
       "\n",
       "    .dataframe thead th {\n",
       "        text-align: right;\n",
       "    }\n",
       "</style>\n",
       "<table border=\"1\" class=\"dataframe\">\n",
       "  <thead>\n",
       "    <tr style=\"text-align: right;\">\n",
       "      <th></th>\n",
       "      <th>MSFT_close</th>\n",
       "      <th>GOOG_close</th>\n",
       "      <th>AMZN_close</th>\n",
       "      <th>AAPL_close</th>\n",
       "    </tr>\n",
       "  </thead>\n",
       "  <tbody>\n",
       "    <tr>\n",
       "      <th>MSFT_close</th>\n",
       "      <td>1.000000</td>\n",
       "      <td>0.967981</td>\n",
       "      <td>0.955977</td>\n",
       "      <td>0.899689</td>\n",
       "    </tr>\n",
       "    <tr>\n",
       "      <th>GOOG_close</th>\n",
       "      <td>0.967981</td>\n",
       "      <td>1.000000</td>\n",
       "      <td>0.978721</td>\n",
       "      <td>0.755274</td>\n",
       "    </tr>\n",
       "    <tr>\n",
       "      <th>AMZN_close</th>\n",
       "      <td>0.955977</td>\n",
       "      <td>0.978721</td>\n",
       "      <td>1.000000</td>\n",
       "      <td>0.819078</td>\n",
       "    </tr>\n",
       "    <tr>\n",
       "      <th>AAPL_close</th>\n",
       "      <td>0.899689</td>\n",
       "      <td>0.755274</td>\n",
       "      <td>0.819078</td>\n",
       "      <td>1.000000</td>\n",
       "    </tr>\n",
       "  </tbody>\n",
       "</table>\n",
       "</div>"
      ],
      "text/plain": [
       "            MSFT_close  GOOG_close  AMZN_close  AAPL_close\n",
       "MSFT_close    1.000000    0.967981    0.955977    0.899689\n",
       "GOOG_close    0.967981    1.000000    0.978721    0.755274\n",
       "AMZN_close    0.955977    0.978721    1.000000    0.819078\n",
       "AAPL_close    0.899689    0.755274    0.819078    1.000000"
      ]
     },
     "execution_count": 34,
     "metadata": {},
     "output_type": "execute_result"
    }
   ],
   "source": [
    "closing_price.corr()"
   ]
  },
  {
   "cell_type": "code",
   "execution_count": 35,
   "metadata": {},
   "outputs": [
    {
     "data": {
      "text/html": [
       "<style  type=\"text/css\" >\n",
       "#T_9b502_row0_col0,#T_9b502_row1_col1,#T_9b502_row2_col2,#T_9b502_row3_col3{\n",
       "            background-color:  #023858;\n",
       "            color:  #f1f1f1;\n",
       "        }#T_9b502_row0_col1{\n",
       "            background-color:  #045b8e;\n",
       "            color:  #f1f1f1;\n",
       "        }#T_9b502_row0_col2{\n",
       "            background-color:  #056fae;\n",
       "            color:  #f1f1f1;\n",
       "        }#T_9b502_row0_col3{\n",
       "            background-color:  #4697c4;\n",
       "            color:  #000000;\n",
       "        }#T_9b502_row1_col0{\n",
       "            background-color:  #2081b9;\n",
       "            color:  #000000;\n",
       "        }#T_9b502_row1_col2{\n",
       "            background-color:  #04588a;\n",
       "            color:  #f1f1f1;\n",
       "        }#T_9b502_row1_col3,#T_9b502_row3_col0,#T_9b502_row3_col1,#T_9b502_row3_col2{\n",
       "            background-color:  #fff7fb;\n",
       "            color:  #000000;\n",
       "        }#T_9b502_row2_col0{\n",
       "            background-color:  #569dc8;\n",
       "            color:  #000000;\n",
       "        }#T_9b502_row2_col1{\n",
       "            background-color:  #034f7d;\n",
       "            color:  #f1f1f1;\n",
       "        }#T_9b502_row2_col3{\n",
       "            background-color:  #cdd0e5;\n",
       "            color:  #000000;\n",
       "        }</style><table id=\"T_9b502_\" ><thead>    <tr>        <th class=\"blank level0\" ></th>        <th class=\"col_heading level0 col0\" >MSFT_close</th>        <th class=\"col_heading level0 col1\" >GOOG_close</th>        <th class=\"col_heading level0 col2\" >AMZN_close</th>        <th class=\"col_heading level0 col3\" >AAPL_close</th>    </tr></thead><tbody>\n",
       "                <tr>\n",
       "                        <th id=\"T_9b502_level0_row0\" class=\"row_heading level0 row0\" >MSFT_close</th>\n",
       "                        <td id=\"T_9b502_row0_col0\" class=\"data row0 col0\" >1.000000</td>\n",
       "                        <td id=\"T_9b502_row0_col1\" class=\"data row0 col1\" >0.967981</td>\n",
       "                        <td id=\"T_9b502_row0_col2\" class=\"data row0 col2\" >0.955977</td>\n",
       "                        <td id=\"T_9b502_row0_col3\" class=\"data row0 col3\" >0.899689</td>\n",
       "            </tr>\n",
       "            <tr>\n",
       "                        <th id=\"T_9b502_level0_row1\" class=\"row_heading level0 row1\" >GOOG_close</th>\n",
       "                        <td id=\"T_9b502_row1_col0\" class=\"data row1 col0\" >0.967981</td>\n",
       "                        <td id=\"T_9b502_row1_col1\" class=\"data row1 col1\" >1.000000</td>\n",
       "                        <td id=\"T_9b502_row1_col2\" class=\"data row1 col2\" >0.978721</td>\n",
       "                        <td id=\"T_9b502_row1_col3\" class=\"data row1 col3\" >0.755274</td>\n",
       "            </tr>\n",
       "            <tr>\n",
       "                        <th id=\"T_9b502_level0_row2\" class=\"row_heading level0 row2\" >AMZN_close</th>\n",
       "                        <td id=\"T_9b502_row2_col0\" class=\"data row2 col0\" >0.955977</td>\n",
       "                        <td id=\"T_9b502_row2_col1\" class=\"data row2 col1\" >0.978721</td>\n",
       "                        <td id=\"T_9b502_row2_col2\" class=\"data row2 col2\" >1.000000</td>\n",
       "                        <td id=\"T_9b502_row2_col3\" class=\"data row2 col3\" >0.819078</td>\n",
       "            </tr>\n",
       "            <tr>\n",
       "                        <th id=\"T_9b502_level0_row3\" class=\"row_heading level0 row3\" >AAPL_close</th>\n",
       "                        <td id=\"T_9b502_row3_col0\" class=\"data row3 col0\" >0.899689</td>\n",
       "                        <td id=\"T_9b502_row3_col1\" class=\"data row3 col1\" >0.755274</td>\n",
       "                        <td id=\"T_9b502_row3_col2\" class=\"data row3 col2\" >0.819078</td>\n",
       "                        <td id=\"T_9b502_row3_col3\" class=\"data row3 col3\" >1.000000</td>\n",
       "            </tr>\n",
       "    </tbody></table>"
      ],
      "text/plain": [
       "<pandas.io.formats.style.Styler at 0x1b78784b490>"
      ]
     },
     "execution_count": 35,
     "metadata": {},
     "output_type": "execute_result"
    }
   ],
   "source": [
    "### u can think of using styling this dataframe\n",
    "closing_price.corr().style.background_gradient()"
   ]
  },
  {
   "cell_type": "code",
   "execution_count": null,
   "metadata": {},
   "outputs": [],
   "source": []
  },
  {
   "cell_type": "code",
   "execution_count": 36,
   "metadata": {},
   "outputs": [],
   "source": [
    "from pandas.plotting import scatter_matrix"
   ]
  },
  {
   "cell_type": "code",
   "execution_count": 43,
   "metadata": {},
   "outputs": [
    {
     "data": {
      "image/png": "[encoded data removed]",
      "text/plain": [
       "<Figure size 864x576 with 16 Axes>"
      ]
     },
     "metadata": {
      "needs_background": "light"
     },
     "output_type": "display_data"
    },
    {
     "data": {
      "text/plain": [
       "'\\nEach scatter plot in the matrix helps us understand the correlation between the corresponding pair of attributes\\n\\n'"
      ]
     },
     "execution_count": 43,
     "metadata": {},
     "output_type": "execute_result"
    }
   ],
   "source": [
    "scatter_matrix(closing_price ,figsize=(12,8))\n",
    "plt.show()\n",
    "\n",
    "\n",
    "'''\n",
    "Each scatter plot in the matrix helps us understand the \n",
    "correlation between the corresponding pair of attributes\n",
    "\n",
    "'''"
   ]
  },
  {
   "cell_type": "code",
   "execution_count": 140,
   "metadata": {},
   "outputs": [
    {
     "data": {
      "text/plain": [
       "<AxesSubplot:>"
      ]
     },
     "execution_count": 140,
     "metadata": {},
     "output_type": "execute_result"
    },
    {
     "data": {
      "image/png": "[encoded data removed]",
      "text/plain": [
       "<Figure size 432x288 with 2 Axes>"
      ]
     },
     "metadata": {
      "needs_background": "light"
     },
     "output_type": "display_data"
    }
   ],
   "source": [
    "## sns.heatmap(closing_price.corr(),annot=True)"
   ]
  },
  {
   "cell_type": "markdown",
   "metadata": {},
   "source": [
    "##### Closing price of Google and Microsoft are well correlated\n",
    "       and Closing price of Amazon and Microsoft have a \n",
    "        co-relation of 0.96"
   ]
  },
  {
   "cell_type": "code",
   "execution_count": null,
   "metadata": {},
   "outputs": [],
   "source": []
  },
  {
   "cell_type": "code",
   "execution_count": null,
   "metadata": {},
   "outputs": [],
   "source": []
  },
  {
   "cell_type": "code",
   "execution_count": null,
   "metadata": {},
   "outputs": [],
   "source": []
  },
  {
   "cell_type": "code",
   "execution_count": null,
   "metadata": {},
   "outputs": [],
   "source": []
  },
  {
   "cell_type": "markdown",
   "metadata": {},
   "source": [
    "# 6. Doing in-depth analysis of 'closing_price' feature ..\n",
    "    boxplot\n",
    "    density_plot()\n",
    "    histogram\n",
    "    kde\n",
    "    "
   ]
  },
  {
   "cell_type": "code",
   "execution_count": 47,
   "metadata": {},
   "outputs": [],
   "source": [
    "aapl=pd.read_csv(r'G:\\\\EDA_projects\\\\Stock_Data\\\\individual_stocks_5yr\\\\individual_stocks_5yr\\\\AAPL_data.csv')"
   ]
  },
  {
   "cell_type": "code",
   "execution_count": 48,
   "metadata": {},
   "outputs": [
    {
     "data": {
      "text/html": [
       "<div>\n",
       "<style scoped>\n",
       "    .dataframe tbody tr th:only-of-type {\n",
       "        vertical-align: middle;\n",
       "    }\n",
       "\n",
       "    .dataframe tbody tr th {\n",
       "        vertical-align: top;\n",
       "    }\n",
       "\n",
       "    .dataframe thead th {\n",
       "        text-align: right;\n",
       "    }\n",
       "</style>\n",
       "<table border=\"1\" class=\"dataframe\">\n",
       "  <thead>\n",
       "    <tr style=\"text-align: right;\">\n",
       "      <th></th>\n",
       "      <th>date</th>\n",
       "      <th>open</th>\n",
       "      <th>high</th>\n",
       "      <th>low</th>\n",
       "      <th>close</th>\n",
       "      <th>volume</th>\n",
       "      <th>Name</th>\n",
       "    </tr>\n",
       "  </thead>\n",
       "  <tbody>\n",
       "    <tr>\n",
       "      <th>0</th>\n",
       "      <td>2013-02-08</td>\n",
       "      <td>67.7142</td>\n",
       "      <td>68.4014</td>\n",
       "      <td>66.8928</td>\n",
       "      <td>67.8542</td>\n",
       "      <td>158168416</td>\n",
       "      <td>AAPL</td>\n",
       "    </tr>\n",
       "    <tr>\n",
       "      <th>1</th>\n",
       "      <td>2013-02-11</td>\n",
       "      <td>68.0714</td>\n",
       "      <td>69.2771</td>\n",
       "      <td>67.6071</td>\n",
       "      <td>68.5614</td>\n",
       "      <td>129029425</td>\n",
       "      <td>AAPL</td>\n",
       "    </tr>\n",
       "    <tr>\n",
       "      <th>2</th>\n",
       "      <td>2013-02-12</td>\n",
       "      <td>68.5014</td>\n",
       "      <td>68.9114</td>\n",
       "      <td>66.8205</td>\n",
       "      <td>66.8428</td>\n",
       "      <td>151829363</td>\n",
       "      <td>AAPL</td>\n",
       "    </tr>\n",
       "    <tr>\n",
       "      <th>3</th>\n",
       "      <td>2013-02-13</td>\n",
       "      <td>66.7442</td>\n",
       "      <td>67.6628</td>\n",
       "      <td>66.1742</td>\n",
       "      <td>66.7156</td>\n",
       "      <td>118721995</td>\n",
       "      <td>AAPL</td>\n",
       "    </tr>\n",
       "    <tr>\n",
       "      <th>4</th>\n",
       "      <td>2013-02-14</td>\n",
       "      <td>66.3599</td>\n",
       "      <td>67.3771</td>\n",
       "      <td>66.2885</td>\n",
       "      <td>66.6556</td>\n",
       "      <td>88809154</td>\n",
       "      <td>AAPL</td>\n",
       "    </tr>\n",
       "    <tr>\n",
       "      <th>...</th>\n",
       "      <td>...</td>\n",
       "      <td>...</td>\n",
       "      <td>...</td>\n",
       "      <td>...</td>\n",
       "      <td>...</td>\n",
       "      <td>...</td>\n",
       "      <td>...</td>\n",
       "    </tr>\n",
       "    <tr>\n",
       "      <th>1254</th>\n",
       "      <td>2018-02-01</td>\n",
       "      <td>167.1650</td>\n",
       "      <td>168.6200</td>\n",
       "      <td>166.7600</td>\n",
       "      <td>167.7800</td>\n",
       "      <td>47230787</td>\n",
       "      <td>AAPL</td>\n",
       "    </tr>\n",
       "    <tr>\n",
       "      <th>1255</th>\n",
       "      <td>2018-02-02</td>\n",
       "      <td>166.0000</td>\n",
       "      <td>166.8000</td>\n",
       "      <td>160.1000</td>\n",
       "      <td>160.5000</td>\n",
       "      <td>86593825</td>\n",
       "      <td>AAPL</td>\n",
       "    </tr>\n",
       "    <tr>\n",
       "      <th>1256</th>\n",
       "      <td>2018-02-05</td>\n",
       "      <td>159.1000</td>\n",
       "      <td>163.8800</td>\n",
       "      <td>156.0000</td>\n",
       "      <td>156.4900</td>\n",
       "      <td>72738522</td>\n",
       "      <td>AAPL</td>\n",
       "    </tr>\n",
       "    <tr>\n",
       "      <th>1257</th>\n",
       "      <td>2018-02-06</td>\n",
       "      <td>154.8300</td>\n",
       "      <td>163.7200</td>\n",
       "      <td>154.0000</td>\n",
       "      <td>163.0300</td>\n",
       "      <td>68243838</td>\n",
       "      <td>AAPL</td>\n",
       "    </tr>\n",
       "    <tr>\n",
       "      <th>1258</th>\n",
       "      <td>2018-02-07</td>\n",
       "      <td>163.0850</td>\n",
       "      <td>163.4000</td>\n",
       "      <td>159.0685</td>\n",
       "      <td>159.5400</td>\n",
       "      <td>51608580</td>\n",
       "      <td>AAPL</td>\n",
       "    </tr>\n",
       "  </tbody>\n",
       "</table>\n",
       "<p>1259 rows × 7 columns</p>\n",
       "</div>"
      ],
      "text/plain": [
       "            date      open      high       low     close     volume  Name\n",
       "0     2013-02-08   67.7142   68.4014   66.8928   67.8542  158168416  AAPL\n",
       "1     2013-02-11   68.0714   69.2771   67.6071   68.5614  129029425  AAPL\n",
       "2     2013-02-12   68.5014   68.9114   66.8205   66.8428  151829363  AAPL\n",
       "3     2013-02-13   66.7442   67.6628   66.1742   66.7156  118721995  AAPL\n",
       "4     2013-02-14   66.3599   67.3771   66.2885   66.6556   88809154  AAPL\n",
       "...          ...       ...       ...       ...       ...        ...   ...\n",
       "1254  2018-02-01  167.1650  168.6200  166.7600  167.7800   47230787  AAPL\n",
       "1255  2018-02-02  166.0000  166.8000  160.1000  160.5000   86593825  AAPL\n",
       "1256  2018-02-05  159.1000  163.8800  156.0000  156.4900   72738522  AAPL\n",
       "1257  2018-02-06  154.8300  163.7200  154.0000  163.0300   68243838  AAPL\n",
       "1258  2018-02-07  163.0850  163.4000  159.0685  159.5400   51608580  AAPL\n",
       "\n",
       "[1259 rows x 7 columns]"
      ]
     },
     "execution_count": 48,
     "metadata": {},
     "output_type": "execute_result"
    }
   ],
   "source": [
    "aapl"
   ]
  },
  {
   "cell_type": "code",
   "execution_count": 52,
   "metadata": {},
   "outputs": [
    {
     "data": {
      "text/plain": [
       "<AxesSubplot:ylabel='Frequency'>"
      ]
     },
     "execution_count": 52,
     "metadata": {},
     "output_type": "execute_result"
    },
    {
     "data": {
      "image/png": "[encoded data removed]",
      "text/plain": [
       "<Figure size 432x288 with 1 Axes>"
      ]
     },
     "metadata": {
      "needs_background": "light"
     },
     "output_type": "display_data"
    }
   ],
   "source": [
    "aapl['open'].plot(kind='hist')\n",
    "## aapl['open'].plot.hist()\n",
    "## aapl['open'].hist()\n",
    "\n",
    "\n",
    "\n",
    "## lets smoothen this histogram & achieve density plot.."
   ]
  },
  {
   "cell_type": "code",
   "execution_count": 53,
   "metadata": {},
   "outputs": [
    {
     "data": {
      "text/plain": [
       "<AxesSubplot:ylabel='Density'>"
      ]
     },
     "execution_count": 53,
     "metadata": {},
     "output_type": "execute_result"
    },
    {
     "data": {
      "image/png": "[encoded data removed]",
      "text/plain": [
       "<Figure size 432x288 with 1 Axes>"
      ]
     },
     "metadata": {
      "needs_background": "light"
     },
     "output_type": "display_data"
    }
   ],
   "source": [
    "aapl['open'].plot(kind='kde')\n",
    "\n",
    "## aapl['open'].plot(kind='density')"
   ]
  },
  {
   "cell_type": "code",
   "execution_count": 55,
   "metadata": {},
   "outputs": [
    {
     "data": {
      "text/plain": [
       "<AxesSubplot:>"
      ]
     },
     "execution_count": 55,
     "metadata": {},
     "output_type": "execute_result"
    },
    {
     "data": {
      "image/png": "[encoded data removed]",
      "text/plain": [
       "<Figure size 432x288 with 1 Axes>"
      ]
     },
     "metadata": {
      "needs_background": "light"
     },
     "output_type": "display_data"
    }
   ],
   "source": [
    "aapl['open'].plot(kind='box')"
   ]
  },
  {
   "cell_type": "code",
   "execution_count": null,
   "metadata": {},
   "outputs": [],
   "source": []
  },
  {
   "cell_type": "code",
   "execution_count": null,
   "metadata": {},
   "outputs": [],
   "source": []
  },
  {
   "cell_type": "code",
   "execution_count": null,
   "metadata": {},
   "outputs": [],
   "source": []
  }
 ],
 "metadata": {
  "kernelspec": {
   "display_name": "Python 3",
   "language": "python",
   "name": "python3"
  },
  "language_info": {
   "codemirror_mode": {
    "name": "ipython",
    "version": 3
   },
   "file_extension": ".py",
   "mimetype": "text/x-python",
   "name": "python",
   "nbconvert_exporter": "python",
   "pygments_lexer": "ipython3",
   "version": "3.8.8"
  }
 },
 "nbformat": 4,
 "nbformat_minor": 2
}
