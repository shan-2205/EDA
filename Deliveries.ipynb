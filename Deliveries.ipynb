{
 "cells": [
  {
   "cell_type": "code",
   "execution_count": 1,
   "metadata": {},
   "outputs": [
    {
     "data": {
      "text/html": [
       "<div>\n",
       "<style scoped>\n",
       "    .dataframe tbody tr th:only-of-type {\n",
       "        vertical-align: middle;\n",
       "    }\n",
       "\n",
       "    .dataframe tbody tr th {\n",
       "        vertical-align: top;\n",
       "    }\n",
       "\n",
       "    .dataframe thead th {\n",
       "        text-align: right;\n",
       "    }\n",
       "</style>\n",
       "<table border=\"1\" class=\"dataframe\">\n",
       "  <thead>\n",
       "    <tr style=\"text-align: right;\">\n",
       "      <th></th>\n",
       "      <th>match_id</th>\n",
       "      <th>inning</th>\n",
       "      <th>batting_team</th>\n",
       "      <th>bowling_team</th>\n",
       "      <th>over</th>\n",
       "      <th>ball</th>\n",
       "      <th>batsman</th>\n",
       "      <th>non_striker</th>\n",
       "      <th>bowler</th>\n",
       "      <th>is_super_over</th>\n",
       "      <th>...</th>\n",
       "      <th>bye_runs</th>\n",
       "      <th>legbye_runs</th>\n",
       "      <th>noball_runs</th>\n",
       "      <th>penalty_runs</th>\n",
       "      <th>batsman_runs</th>\n",
       "      <th>extra_runs</th>\n",
       "      <th>total_runs</th>\n",
       "      <th>player_dismissed</th>\n",
       "      <th>dismissal_kind</th>\n",
       "      <th>fielder</th>\n",
       "    </tr>\n",
       "  </thead>\n",
       "  <tbody>\n",
       "    <tr>\n",
       "      <td>0</td>\n",
       "      <td>1</td>\n",
       "      <td>1</td>\n",
       "      <td>Sunrisers Hyderabad</td>\n",
       "      <td>Royal Challengers Bangalore</td>\n",
       "      <td>1</td>\n",
       "      <td>1</td>\n",
       "      <td>DA Warner</td>\n",
       "      <td>S Dhawan</td>\n",
       "      <td>TS Mills</td>\n",
       "      <td>0</td>\n",
       "      <td>...</td>\n",
       "      <td>0</td>\n",
       "      <td>0</td>\n",
       "      <td>0</td>\n",
       "      <td>0</td>\n",
       "      <td>0</td>\n",
       "      <td>0</td>\n",
       "      <td>0</td>\n",
       "      <td>NaN</td>\n",
       "      <td>NaN</td>\n",
       "      <td>NaN</td>\n",
       "    </tr>\n",
       "    <tr>\n",
       "      <td>1</td>\n",
       "      <td>1</td>\n",
       "      <td>1</td>\n",
       "      <td>Sunrisers Hyderabad</td>\n",
       "      <td>Royal Challengers Bangalore</td>\n",
       "      <td>1</td>\n",
       "      <td>2</td>\n",
       "      <td>DA Warner</td>\n",
       "      <td>S Dhawan</td>\n",
       "      <td>TS Mills</td>\n",
       "      <td>0</td>\n",
       "      <td>...</td>\n",
       "      <td>0</td>\n",
       "      <td>0</td>\n",
       "      <td>0</td>\n",
       "      <td>0</td>\n",
       "      <td>0</td>\n",
       "      <td>0</td>\n",
       "      <td>0</td>\n",
       "      <td>NaN</td>\n",
       "      <td>NaN</td>\n",
       "      <td>NaN</td>\n",
       "    </tr>\n",
       "    <tr>\n",
       "      <td>2</td>\n",
       "      <td>1</td>\n",
       "      <td>1</td>\n",
       "      <td>Sunrisers Hyderabad</td>\n",
       "      <td>Royal Challengers Bangalore</td>\n",
       "      <td>1</td>\n",
       "      <td>3</td>\n",
       "      <td>DA Warner</td>\n",
       "      <td>S Dhawan</td>\n",
       "      <td>TS Mills</td>\n",
       "      <td>0</td>\n",
       "      <td>...</td>\n",
       "      <td>0</td>\n",
       "      <td>0</td>\n",
       "      <td>0</td>\n",
       "      <td>0</td>\n",
       "      <td>4</td>\n",
       "      <td>0</td>\n",
       "      <td>4</td>\n",
       "      <td>NaN</td>\n",
       "      <td>NaN</td>\n",
       "      <td>NaN</td>\n",
       "    </tr>\n",
       "    <tr>\n",
       "      <td>3</td>\n",
       "      <td>1</td>\n",
       "      <td>1</td>\n",
       "      <td>Sunrisers Hyderabad</td>\n",
       "      <td>Royal Challengers Bangalore</td>\n",
       "      <td>1</td>\n",
       "      <td>4</td>\n",
       "      <td>DA Warner</td>\n",
       "      <td>S Dhawan</td>\n",
       "      <td>TS Mills</td>\n",
       "      <td>0</td>\n",
       "      <td>...</td>\n",
       "      <td>0</td>\n",
       "      <td>0</td>\n",
       "      <td>0</td>\n",
       "      <td>0</td>\n",
       "      <td>0</td>\n",
       "      <td>0</td>\n",
       "      <td>0</td>\n",
       "      <td>NaN</td>\n",
       "      <td>NaN</td>\n",
       "      <td>NaN</td>\n",
       "    </tr>\n",
       "    <tr>\n",
       "      <td>4</td>\n",
       "      <td>1</td>\n",
       "      <td>1</td>\n",
       "      <td>Sunrisers Hyderabad</td>\n",
       "      <td>Royal Challengers Bangalore</td>\n",
       "      <td>1</td>\n",
       "      <td>5</td>\n",
       "      <td>DA Warner</td>\n",
       "      <td>S Dhawan</td>\n",
       "      <td>TS Mills</td>\n",
       "      <td>0</td>\n",
       "      <td>...</td>\n",
       "      <td>0</td>\n",
       "      <td>0</td>\n",
       "      <td>0</td>\n",
       "      <td>0</td>\n",
       "      <td>0</td>\n",
       "      <td>2</td>\n",
       "      <td>2</td>\n",
       "      <td>NaN</td>\n",
       "      <td>NaN</td>\n",
       "      <td>NaN</td>\n",
       "    </tr>\n",
       "  </tbody>\n",
       "</table>\n",
       "<p>5 rows × 21 columns</p>\n",
       "</div>"
      ],
      "text/plain": [
       "   match_id  inning         batting_team                 bowling_team  over  \\\n",
       "0         1       1  Sunrisers Hyderabad  Royal Challengers Bangalore     1   \n",
       "1         1       1  Sunrisers Hyderabad  Royal Challengers Bangalore     1   \n",
       "2         1       1  Sunrisers Hyderabad  Royal Challengers Bangalore     1   \n",
       "3         1       1  Sunrisers Hyderabad  Royal Challengers Bangalore     1   \n",
       "4         1       1  Sunrisers Hyderabad  Royal Challengers Bangalore     1   \n",
       "\n",
       "   ball    batsman non_striker    bowler  is_super_over  ...  bye_runs  \\\n",
       "0     1  DA Warner    S Dhawan  TS Mills              0  ...         0   \n",
       "1     2  DA Warner    S Dhawan  TS Mills              0  ...         0   \n",
       "2     3  DA Warner    S Dhawan  TS Mills              0  ...         0   \n",
       "3     4  DA Warner    S Dhawan  TS Mills              0  ...         0   \n",
       "4     5  DA Warner    S Dhawan  TS Mills              0  ...         0   \n",
       "\n",
       "   legbye_runs  noball_runs  penalty_runs  batsman_runs  extra_runs  \\\n",
       "0            0            0             0             0           0   \n",
       "1            0            0             0             0           0   \n",
       "2            0            0             0             4           0   \n",
       "3            0            0             0             0           0   \n",
       "4            0            0             0             0           2   \n",
       "\n",
       "   total_runs  player_dismissed dismissal_kind fielder  \n",
       "0           0               NaN            NaN     NaN  \n",
       "1           0               NaN            NaN     NaN  \n",
       "2           4               NaN            NaN     NaN  \n",
       "3           0               NaN            NaN     NaN  \n",
       "4           2               NaN            NaN     NaN  \n",
       "\n",
       "[5 rows x 21 columns]"
      ]
     },
     "execution_count": 1,
     "metadata": {},
     "output_type": "execute_result"
    }
   ],
   "source": [
    "import pandas as pd\n",
    "import numpy as np\n",
    "import matplotlib.pyplot as plt\n",
    "import seaborn as sns\n",
    "\n",
    "df=pd.read_csv('F:/Data Science projects/by_me/IPL/deliveries.csv')\n",
    "df.head()\n"
   ]
  },
  {
   "cell_type": "code",
   "execution_count": null,
   "metadata": {},
   "outputs": [],
   "source": []
  },
  {
   "cell_type": "markdown",
   "metadata": {},
   "source": [
    "# Part 1 ,Indepth Analysis of David Warner(Australian Batsman) Performance"
   ]
  },
  {
   "cell_type": "code",
   "execution_count": null,
   "metadata": {},
   "outputs": [],
   "source": [
    "\n",
    "How many times super_over decides match decision\n",
    "how many times DA warner dismissed when he was on striker end\n",
    "entire data of total 4s by da warner\n",
    "total 6s by da warner\n",
    "total runs made by DA warner\n",
    "\n",
    "out of total runs,how many runs score by 6's\n",
    "out of total runs,how many runs score by 4's\n",
    "Do above 2 tasks using function\n",
    "Now create pie plot, Runs contribution of David Warner\n",
    "\n",
    "\n",
    "\n",
    "Kinds for dismissal for yuvi\n",
    "create a func that will count how many times a player gets dismissed\n",
    "create a func that will count total runs made by any player\n",
    "create a func that will count total runs made by any player of  1's,2's,4's etc"
   ]
  },
  {
   "cell_type": "code",
   "execution_count": null,
   "metadata": {},
   "outputs": [],
   "source": []
  },
  {
   "cell_type": "markdown",
   "metadata": {},
   "source": [
    "# How many times super_over decides match decision"
   ]
  },
  {
   "cell_type": "code",
   "execution_count": 2,
   "metadata": {},
   "outputs": [
    {
     "data": {
      "text/plain": [
       "0    150379\n",
       "1        81\n",
       "Name: is_super_over, dtype: int64"
      ]
     },
     "execution_count": 2,
     "metadata": {},
     "output_type": "execute_result"
    }
   ],
   "source": [
    "df['is_super_over'].value_counts()"
   ]
  },
  {
   "cell_type": "code",
   "execution_count": 19,
   "metadata": {},
   "outputs": [],
   "source": [
    "super=dict(df['is_super_over'].value_counts())"
   ]
  },
  {
   "cell_type": "code",
   "execution_count": 21,
   "metadata": {},
   "outputs": [
    {
     "data": {
      "text/plain": [
       "81"
      ]
     },
     "execution_count": 21,
     "metadata": {},
     "output_type": "execute_result"
    }
   ],
   "source": [
    "total_super_overs=super[1]\n",
    "total_super_overs"
   ]
  },
  {
   "cell_type": "markdown",
   "metadata": {},
   "source": [
    "# #how many times DA warner dismissed when he was on striker end"
   ]
  },
  {
   "cell_type": "code",
   "execution_count": 2,
   "metadata": {},
   "outputs": [
    {
     "data": {
      "text/html": [
       "<div>\n",
       "<style scoped>\n",
       "    .dataframe tbody tr th:only-of-type {\n",
       "        vertical-align: middle;\n",
       "    }\n",
       "\n",
       "    .dataframe tbody tr th {\n",
       "        vertical-align: top;\n",
       "    }\n",
       "\n",
       "    .dataframe thead th {\n",
       "        text-align: right;\n",
       "    }\n",
       "</style>\n",
       "<table border=\"1\" class=\"dataframe\">\n",
       "  <thead>\n",
       "    <tr style=\"text-align: right;\">\n",
       "      <th></th>\n",
       "      <th>match_id</th>\n",
       "      <th>inning</th>\n",
       "      <th>batting_team</th>\n",
       "      <th>bowling_team</th>\n",
       "      <th>over</th>\n",
       "      <th>ball</th>\n",
       "      <th>batsman</th>\n",
       "      <th>non_striker</th>\n",
       "      <th>bowler</th>\n",
       "      <th>is_super_over</th>\n",
       "      <th>...</th>\n",
       "      <th>bye_runs</th>\n",
       "      <th>legbye_runs</th>\n",
       "      <th>noball_runs</th>\n",
       "      <th>penalty_runs</th>\n",
       "      <th>batsman_runs</th>\n",
       "      <th>extra_runs</th>\n",
       "      <th>total_runs</th>\n",
       "      <th>player_dismissed</th>\n",
       "      <th>dismissal_kind</th>\n",
       "      <th>fielder</th>\n",
       "    </tr>\n",
       "  </thead>\n",
       "  <tbody>\n",
       "    <tr>\n",
       "      <td>0</td>\n",
       "      <td>1</td>\n",
       "      <td>1</td>\n",
       "      <td>Sunrisers Hyderabad</td>\n",
       "      <td>Royal Challengers Bangalore</td>\n",
       "      <td>1</td>\n",
       "      <td>1</td>\n",
       "      <td>DA Warner</td>\n",
       "      <td>S Dhawan</td>\n",
       "      <td>TS Mills</td>\n",
       "      <td>0</td>\n",
       "      <td>...</td>\n",
       "      <td>0</td>\n",
       "      <td>0</td>\n",
       "      <td>0</td>\n",
       "      <td>0</td>\n",
       "      <td>0</td>\n",
       "      <td>0</td>\n",
       "      <td>0</td>\n",
       "      <td>NaN</td>\n",
       "      <td>NaN</td>\n",
       "      <td>NaN</td>\n",
       "    </tr>\n",
       "    <tr>\n",
       "      <td>1</td>\n",
       "      <td>1</td>\n",
       "      <td>1</td>\n",
       "      <td>Sunrisers Hyderabad</td>\n",
       "      <td>Royal Challengers Bangalore</td>\n",
       "      <td>1</td>\n",
       "      <td>2</td>\n",
       "      <td>DA Warner</td>\n",
       "      <td>S Dhawan</td>\n",
       "      <td>TS Mills</td>\n",
       "      <td>0</td>\n",
       "      <td>...</td>\n",
       "      <td>0</td>\n",
       "      <td>0</td>\n",
       "      <td>0</td>\n",
       "      <td>0</td>\n",
       "      <td>0</td>\n",
       "      <td>0</td>\n",
       "      <td>0</td>\n",
       "      <td>NaN</td>\n",
       "      <td>NaN</td>\n",
       "      <td>NaN</td>\n",
       "    </tr>\n",
       "    <tr>\n",
       "      <td>2</td>\n",
       "      <td>1</td>\n",
       "      <td>1</td>\n",
       "      <td>Sunrisers Hyderabad</td>\n",
       "      <td>Royal Challengers Bangalore</td>\n",
       "      <td>1</td>\n",
       "      <td>3</td>\n",
       "      <td>DA Warner</td>\n",
       "      <td>S Dhawan</td>\n",
       "      <td>TS Mills</td>\n",
       "      <td>0</td>\n",
       "      <td>...</td>\n",
       "      <td>0</td>\n",
       "      <td>0</td>\n",
       "      <td>0</td>\n",
       "      <td>0</td>\n",
       "      <td>4</td>\n",
       "      <td>0</td>\n",
       "      <td>4</td>\n",
       "      <td>NaN</td>\n",
       "      <td>NaN</td>\n",
       "      <td>NaN</td>\n",
       "    </tr>\n",
       "    <tr>\n",
       "      <td>3</td>\n",
       "      <td>1</td>\n",
       "      <td>1</td>\n",
       "      <td>Sunrisers Hyderabad</td>\n",
       "      <td>Royal Challengers Bangalore</td>\n",
       "      <td>1</td>\n",
       "      <td>4</td>\n",
       "      <td>DA Warner</td>\n",
       "      <td>S Dhawan</td>\n",
       "      <td>TS Mills</td>\n",
       "      <td>0</td>\n",
       "      <td>...</td>\n",
       "      <td>0</td>\n",
       "      <td>0</td>\n",
       "      <td>0</td>\n",
       "      <td>0</td>\n",
       "      <td>0</td>\n",
       "      <td>0</td>\n",
       "      <td>0</td>\n",
       "      <td>NaN</td>\n",
       "      <td>NaN</td>\n",
       "      <td>NaN</td>\n",
       "    </tr>\n",
       "    <tr>\n",
       "      <td>4</td>\n",
       "      <td>1</td>\n",
       "      <td>1</td>\n",
       "      <td>Sunrisers Hyderabad</td>\n",
       "      <td>Royal Challengers Bangalore</td>\n",
       "      <td>1</td>\n",
       "      <td>5</td>\n",
       "      <td>DA Warner</td>\n",
       "      <td>S Dhawan</td>\n",
       "      <td>TS Mills</td>\n",
       "      <td>0</td>\n",
       "      <td>...</td>\n",
       "      <td>0</td>\n",
       "      <td>0</td>\n",
       "      <td>0</td>\n",
       "      <td>0</td>\n",
       "      <td>0</td>\n",
       "      <td>2</td>\n",
       "      <td>2</td>\n",
       "      <td>NaN</td>\n",
       "      <td>NaN</td>\n",
       "      <td>NaN</td>\n",
       "    </tr>\n",
       "    <tr>\n",
       "      <td>...</td>\n",
       "      <td>...</td>\n",
       "      <td>...</td>\n",
       "      <td>...</td>\n",
       "      <td>...</td>\n",
       "      <td>...</td>\n",
       "      <td>...</td>\n",
       "      <td>...</td>\n",
       "      <td>...</td>\n",
       "      <td>...</td>\n",
       "      <td>...</td>\n",
       "      <td>...</td>\n",
       "      <td>...</td>\n",
       "      <td>...</td>\n",
       "      <td>...</td>\n",
       "      <td>...</td>\n",
       "      <td>...</td>\n",
       "      <td>...</td>\n",
       "      <td>...</td>\n",
       "      <td>...</td>\n",
       "      <td>...</td>\n",
       "      <td>...</td>\n",
       "    </tr>\n",
       "    <tr>\n",
       "      <td>150283</td>\n",
       "      <td>636</td>\n",
       "      <td>1</td>\n",
       "      <td>Sunrisers Hyderabad</td>\n",
       "      <td>Royal Challengers Bangalore</td>\n",
       "      <td>12</td>\n",
       "      <td>6</td>\n",
       "      <td>DA Warner</td>\n",
       "      <td>Yuvraj Singh</td>\n",
       "      <td>CJ Jordan</td>\n",
       "      <td>0</td>\n",
       "      <td>...</td>\n",
       "      <td>0</td>\n",
       "      <td>0</td>\n",
       "      <td>0</td>\n",
       "      <td>0</td>\n",
       "      <td>1</td>\n",
       "      <td>0</td>\n",
       "      <td>1</td>\n",
       "      <td>NaN</td>\n",
       "      <td>NaN</td>\n",
       "      <td>NaN</td>\n",
       "    </tr>\n",
       "    <tr>\n",
       "      <td>150284</td>\n",
       "      <td>636</td>\n",
       "      <td>1</td>\n",
       "      <td>Sunrisers Hyderabad</td>\n",
       "      <td>Royal Challengers Bangalore</td>\n",
       "      <td>13</td>\n",
       "      <td>1</td>\n",
       "      <td>DA Warner</td>\n",
       "      <td>Yuvraj Singh</td>\n",
       "      <td>YS Chahal</td>\n",
       "      <td>0</td>\n",
       "      <td>...</td>\n",
       "      <td>0</td>\n",
       "      <td>0</td>\n",
       "      <td>0</td>\n",
       "      <td>0</td>\n",
       "      <td>1</td>\n",
       "      <td>0</td>\n",
       "      <td>1</td>\n",
       "      <td>NaN</td>\n",
       "      <td>NaN</td>\n",
       "      <td>NaN</td>\n",
       "    </tr>\n",
       "    <tr>\n",
       "      <td>150288</td>\n",
       "      <td>636</td>\n",
       "      <td>1</td>\n",
       "      <td>Sunrisers Hyderabad</td>\n",
       "      <td>Royal Challengers Bangalore</td>\n",
       "      <td>13</td>\n",
       "      <td>5</td>\n",
       "      <td>DA Warner</td>\n",
       "      <td>Yuvraj Singh</td>\n",
       "      <td>YS Chahal</td>\n",
       "      <td>0</td>\n",
       "      <td>...</td>\n",
       "      <td>0</td>\n",
       "      <td>0</td>\n",
       "      <td>0</td>\n",
       "      <td>0</td>\n",
       "      <td>1</td>\n",
       "      <td>0</td>\n",
       "      <td>1</td>\n",
       "      <td>NaN</td>\n",
       "      <td>NaN</td>\n",
       "      <td>NaN</td>\n",
       "    </tr>\n",
       "    <tr>\n",
       "      <td>150291</td>\n",
       "      <td>636</td>\n",
       "      <td>1</td>\n",
       "      <td>Sunrisers Hyderabad</td>\n",
       "      <td>Royal Challengers Bangalore</td>\n",
       "      <td>14</td>\n",
       "      <td>2</td>\n",
       "      <td>DA Warner</td>\n",
       "      <td>Yuvraj Singh</td>\n",
       "      <td>S Aravind</td>\n",
       "      <td>0</td>\n",
       "      <td>...</td>\n",
       "      <td>0</td>\n",
       "      <td>0</td>\n",
       "      <td>0</td>\n",
       "      <td>0</td>\n",
       "      <td>4</td>\n",
       "      <td>0</td>\n",
       "      <td>4</td>\n",
       "      <td>NaN</td>\n",
       "      <td>NaN</td>\n",
       "      <td>NaN</td>\n",
       "    </tr>\n",
       "    <tr>\n",
       "      <td>150292</td>\n",
       "      <td>636</td>\n",
       "      <td>1</td>\n",
       "      <td>Sunrisers Hyderabad</td>\n",
       "      <td>Royal Challengers Bangalore</td>\n",
       "      <td>14</td>\n",
       "      <td>3</td>\n",
       "      <td>DA Warner</td>\n",
       "      <td>Yuvraj Singh</td>\n",
       "      <td>S Aravind</td>\n",
       "      <td>0</td>\n",
       "      <td>...</td>\n",
       "      <td>0</td>\n",
       "      <td>0</td>\n",
       "      <td>0</td>\n",
       "      <td>0</td>\n",
       "      <td>0</td>\n",
       "      <td>0</td>\n",
       "      <td>0</td>\n",
       "      <td>DA Warner</td>\n",
       "      <td>caught</td>\n",
       "      <td>Iqbal Abdulla</td>\n",
       "    </tr>\n",
       "  </tbody>\n",
       "</table>\n",
       "<p>2902 rows × 21 columns</p>\n",
       "</div>"
      ],
      "text/plain": [
       "        match_id  inning         batting_team                 bowling_team  \\\n",
       "0              1       1  Sunrisers Hyderabad  Royal Challengers Bangalore   \n",
       "1              1       1  Sunrisers Hyderabad  Royal Challengers Bangalore   \n",
       "2              1       1  Sunrisers Hyderabad  Royal Challengers Bangalore   \n",
       "3              1       1  Sunrisers Hyderabad  Royal Challengers Bangalore   \n",
       "4              1       1  Sunrisers Hyderabad  Royal Challengers Bangalore   \n",
       "...          ...     ...                  ...                          ...   \n",
       "150283       636       1  Sunrisers Hyderabad  Royal Challengers Bangalore   \n",
       "150284       636       1  Sunrisers Hyderabad  Royal Challengers Bangalore   \n",
       "150288       636       1  Sunrisers Hyderabad  Royal Challengers Bangalore   \n",
       "150291       636       1  Sunrisers Hyderabad  Royal Challengers Bangalore   \n",
       "150292       636       1  Sunrisers Hyderabad  Royal Challengers Bangalore   \n",
       "\n",
       "        over  ball    batsman   non_striker     bowler  is_super_over  ...  \\\n",
       "0          1     1  DA Warner      S Dhawan   TS Mills              0  ...   \n",
       "1          1     2  DA Warner      S Dhawan   TS Mills              0  ...   \n",
       "2          1     3  DA Warner      S Dhawan   TS Mills              0  ...   \n",
       "3          1     4  DA Warner      S Dhawan   TS Mills              0  ...   \n",
       "4          1     5  DA Warner      S Dhawan   TS Mills              0  ...   \n",
       "...      ...   ...        ...           ...        ...            ...  ...   \n",
       "150283    12     6  DA Warner  Yuvraj Singh  CJ Jordan              0  ...   \n",
       "150284    13     1  DA Warner  Yuvraj Singh  YS Chahal              0  ...   \n",
       "150288    13     5  DA Warner  Yuvraj Singh  YS Chahal              0  ...   \n",
       "150291    14     2  DA Warner  Yuvraj Singh  S Aravind              0  ...   \n",
       "150292    14     3  DA Warner  Yuvraj Singh  S Aravind              0  ...   \n",
       "\n",
       "        bye_runs  legbye_runs  noball_runs  penalty_runs  batsman_runs  \\\n",
       "0              0            0            0             0             0   \n",
       "1              0            0            0             0             0   \n",
       "2              0            0            0             0             4   \n",
       "3              0            0            0             0             0   \n",
       "4              0            0            0             0             0   \n",
       "...          ...          ...          ...           ...           ...   \n",
       "150283         0            0            0             0             1   \n",
       "150284         0            0            0             0             1   \n",
       "150288         0            0            0             0             1   \n",
       "150291         0            0            0             0             4   \n",
       "150292         0            0            0             0             0   \n",
       "\n",
       "        extra_runs  total_runs  player_dismissed dismissal_kind        fielder  \n",
       "0                0           0               NaN            NaN            NaN  \n",
       "1                0           0               NaN            NaN            NaN  \n",
       "2                0           4               NaN            NaN            NaN  \n",
       "3                0           0               NaN            NaN            NaN  \n",
       "4                2           2               NaN            NaN            NaN  \n",
       "...            ...         ...               ...            ...            ...  \n",
       "150283           0           1               NaN            NaN            NaN  \n",
       "150284           0           1               NaN            NaN            NaN  \n",
       "150288           0           1               NaN            NaN            NaN  \n",
       "150291           0           4               NaN            NaN            NaN  \n",
       "150292           0           0         DA Warner         caught  Iqbal Abdulla  \n",
       "\n",
       "[2902 rows x 21 columns]"
      ]
     },
     "execution_count": 2,
     "metadata": {},
     "output_type": "execute_result"
    }
   ],
   "source": [
    "\n",
    "filt=(df['batsman']=='DA Warner')\n",
    "df_warner=df[filt]\n",
    "df_warner"
   ]
  },
  {
   "cell_type": "code",
   "execution_count": 4,
   "metadata": {},
   "outputs": [
    {
     "data": {
      "text/plain": [
       "<matplotlib.axes._subplots.AxesSubplot at 0xc6eea6c108>"
      ]
     },
     "execution_count": 4,
     "metadata": {},
     "output_type": "execute_result"
    },
    {
     "data": {
      "image/png": "[encoded data removed]",
      "text/plain": [
       "<Figure size 432x288 with 1 Axes>"
      ]
     },
     "metadata": {},
     "output_type": "display_data"
    }
   ],
   "source": [
    "df_warner['dismissal_kind'].value_counts().plot.pie()"
   ]
  },
  {
   "cell_type": "code",
   "execution_count": 5,
   "metadata": {},
   "outputs": [
    {
     "data": {
      "text/plain": [
       "<matplotlib.axes._subplots.AxesSubplot at 0xc6e7e124c8>"
      ]
     },
     "execution_count": 5,
     "metadata": {},
     "output_type": "execute_result"
    },
    {
     "data": {
      "image/png": "[encoded data removed]",
      "text/plain": [
       "<Figure size 432x288 with 1 Axes>"
      ]
     },
     "metadata": {
      "needs_background": "light"
     },
     "output_type": "display_data"
    }
   ],
   "source": [
    "df_warner['dismissal_kind'].value_counts().plot.bar()"
   ]
  },
  {
   "cell_type": "code",
   "execution_count": 136,
   "metadata": {},
   "outputs": [
    {
     "data": {
      "text/plain": [
       "array([nan, 'caught', 'bowled', 'lbw', 'stumped', 'run out',\n",
       "       'caught and bowled', 'hit wicket'], dtype=object)"
      ]
     },
     "execution_count": 136,
     "metadata": {},
     "output_type": "execute_result"
    }
   ],
   "source": [
    "df_warner['dismissal_kind'].unique()"
   ]
  },
  {
   "cell_type": "markdown",
   "metadata": {},
   "source": [
    "# entire data of total 4s by da warner"
   ]
  },
  {
   "cell_type": "code",
   "execution_count": 140,
   "metadata": {},
   "outputs": [
    {
     "data": {
      "text/html": [
       "<div>\n",
       "<style scoped>\n",
       "    .dataframe tbody tr th:only-of-type {\n",
       "        vertical-align: middle;\n",
       "    }\n",
       "\n",
       "    .dataframe tbody tr th {\n",
       "        vertical-align: top;\n",
       "    }\n",
       "\n",
       "    .dataframe thead th {\n",
       "        text-align: right;\n",
       "    }\n",
       "</style>\n",
       "<table border=\"1\" class=\"dataframe\">\n",
       "  <thead>\n",
       "    <tr style=\"text-align: right;\">\n",
       "      <th></th>\n",
       "      <th>match_id</th>\n",
       "      <th>inning</th>\n",
       "      <th>batting_team</th>\n",
       "      <th>bowling_team</th>\n",
       "      <th>over</th>\n",
       "      <th>ball</th>\n",
       "      <th>batsman</th>\n",
       "      <th>non_striker</th>\n",
       "      <th>bowler</th>\n",
       "      <th>is_super_over</th>\n",
       "      <th>...</th>\n",
       "      <th>bye_runs</th>\n",
       "      <th>legbye_runs</th>\n",
       "      <th>noball_runs</th>\n",
       "      <th>penalty_runs</th>\n",
       "      <th>batsman_runs</th>\n",
       "      <th>extra_runs</th>\n",
       "      <th>total_runs</th>\n",
       "      <th>player_dismissed</th>\n",
       "      <th>dismissal_kind</th>\n",
       "      <th>fielder</th>\n",
       "    </tr>\n",
       "  </thead>\n",
       "  <tbody>\n",
       "    <tr>\n",
       "      <td>2</td>\n",
       "      <td>1</td>\n",
       "      <td>1</td>\n",
       "      <td>Sunrisers Hyderabad</td>\n",
       "      <td>Royal Challengers Bangalore</td>\n",
       "      <td>1</td>\n",
       "      <td>3</td>\n",
       "      <td>DA Warner</td>\n",
       "      <td>S Dhawan</td>\n",
       "      <td>TS Mills</td>\n",
       "      <td>0</td>\n",
       "      <td>...</td>\n",
       "      <td>0</td>\n",
       "      <td>0</td>\n",
       "      <td>0</td>\n",
       "      <td>0</td>\n",
       "      <td>4</td>\n",
       "      <td>0</td>\n",
       "      <td>4</td>\n",
       "      <td>NaN</td>\n",
       "      <td>NaN</td>\n",
       "      <td>NaN</td>\n",
       "    </tr>\n",
       "    <tr>\n",
       "      <td>8</td>\n",
       "      <td>1</td>\n",
       "      <td>1</td>\n",
       "      <td>Sunrisers Hyderabad</td>\n",
       "      <td>Royal Challengers Bangalore</td>\n",
       "      <td>2</td>\n",
       "      <td>2</td>\n",
       "      <td>DA Warner</td>\n",
       "      <td>S Dhawan</td>\n",
       "      <td>A Choudhary</td>\n",
       "      <td>0</td>\n",
       "      <td>...</td>\n",
       "      <td>0</td>\n",
       "      <td>0</td>\n",
       "      <td>0</td>\n",
       "      <td>0</td>\n",
       "      <td>4</td>\n",
       "      <td>0</td>\n",
       "      <td>4</td>\n",
       "      <td>NaN</td>\n",
       "      <td>NaN</td>\n",
       "      <td>NaN</td>\n",
       "    </tr>\n",
       "    <tr>\n",
       "      <td>1334</td>\n",
       "      <td>6</td>\n",
       "      <td>2</td>\n",
       "      <td>Sunrisers Hyderabad</td>\n",
       "      <td>Gujarat Lions</td>\n",
       "      <td>2</td>\n",
       "      <td>1</td>\n",
       "      <td>DA Warner</td>\n",
       "      <td>S Dhawan</td>\n",
       "      <td>P Kumar</td>\n",
       "      <td>0</td>\n",
       "      <td>...</td>\n",
       "      <td>0</td>\n",
       "      <td>0</td>\n",
       "      <td>0</td>\n",
       "      <td>0</td>\n",
       "      <td>4</td>\n",
       "      <td>0</td>\n",
       "      <td>4</td>\n",
       "      <td>NaN</td>\n",
       "      <td>NaN</td>\n",
       "      <td>NaN</td>\n",
       "    </tr>\n",
       "    <tr>\n",
       "      <td>1352</td>\n",
       "      <td>6</td>\n",
       "      <td>2</td>\n",
       "      <td>Sunrisers Hyderabad</td>\n",
       "      <td>Gujarat Lions</td>\n",
       "      <td>5</td>\n",
       "      <td>1</td>\n",
       "      <td>DA Warner</td>\n",
       "      <td>MC Henriques</td>\n",
       "      <td>Tejas Baroka</td>\n",
       "      <td>0</td>\n",
       "      <td>...</td>\n",
       "      <td>0</td>\n",
       "      <td>0</td>\n",
       "      <td>0</td>\n",
       "      <td>0</td>\n",
       "      <td>4</td>\n",
       "      <td>0</td>\n",
       "      <td>4</td>\n",
       "      <td>NaN</td>\n",
       "      <td>NaN</td>\n",
       "      <td>NaN</td>\n",
       "    </tr>\n",
       "    <tr>\n",
       "      <td>1353</td>\n",
       "      <td>6</td>\n",
       "      <td>2</td>\n",
       "      <td>Sunrisers Hyderabad</td>\n",
       "      <td>Gujarat Lions</td>\n",
       "      <td>5</td>\n",
       "      <td>2</td>\n",
       "      <td>DA Warner</td>\n",
       "      <td>MC Henriques</td>\n",
       "      <td>Tejas Baroka</td>\n",
       "      <td>0</td>\n",
       "      <td>...</td>\n",
       "      <td>0</td>\n",
       "      <td>0</td>\n",
       "      <td>0</td>\n",
       "      <td>0</td>\n",
       "      <td>4</td>\n",
       "      <td>0</td>\n",
       "      <td>4</td>\n",
       "      <td>NaN</td>\n",
       "      <td>NaN</td>\n",
       "      <td>NaN</td>\n",
       "    </tr>\n",
       "    <tr>\n",
       "      <td>...</td>\n",
       "      <td>...</td>\n",
       "      <td>...</td>\n",
       "      <td>...</td>\n",
       "      <td>...</td>\n",
       "      <td>...</td>\n",
       "      <td>...</td>\n",
       "      <td>...</td>\n",
       "      <td>...</td>\n",
       "      <td>...</td>\n",
       "      <td>...</td>\n",
       "      <td>...</td>\n",
       "      <td>...</td>\n",
       "      <td>...</td>\n",
       "      <td>...</td>\n",
       "      <td>...</td>\n",
       "      <td>...</td>\n",
       "      <td>...</td>\n",
       "      <td>...</td>\n",
       "      <td>...</td>\n",
       "      <td>...</td>\n",
       "      <td>...</td>\n",
       "    </tr>\n",
       "    <tr>\n",
       "      <td>150262</td>\n",
       "      <td>636</td>\n",
       "      <td>1</td>\n",
       "      <td>Sunrisers Hyderabad</td>\n",
       "      <td>Royal Challengers Bangalore</td>\n",
       "      <td>9</td>\n",
       "      <td>3</td>\n",
       "      <td>DA Warner</td>\n",
       "      <td>MC Henriques</td>\n",
       "      <td>YS Chahal</td>\n",
       "      <td>0</td>\n",
       "      <td>...</td>\n",
       "      <td>0</td>\n",
       "      <td>0</td>\n",
       "      <td>0</td>\n",
       "      <td>0</td>\n",
       "      <td>4</td>\n",
       "      <td>0</td>\n",
       "      <td>4</td>\n",
       "      <td>NaN</td>\n",
       "      <td>NaN</td>\n",
       "      <td>NaN</td>\n",
       "    </tr>\n",
       "    <tr>\n",
       "      <td>150264</td>\n",
       "      <td>636</td>\n",
       "      <td>1</td>\n",
       "      <td>Sunrisers Hyderabad</td>\n",
       "      <td>Royal Challengers Bangalore</td>\n",
       "      <td>9</td>\n",
       "      <td>5</td>\n",
       "      <td>DA Warner</td>\n",
       "      <td>MC Henriques</td>\n",
       "      <td>YS Chahal</td>\n",
       "      <td>0</td>\n",
       "      <td>...</td>\n",
       "      <td>0</td>\n",
       "      <td>0</td>\n",
       "      <td>0</td>\n",
       "      <td>0</td>\n",
       "      <td>4</td>\n",
       "      <td>0</td>\n",
       "      <td>4</td>\n",
       "      <td>NaN</td>\n",
       "      <td>NaN</td>\n",
       "      <td>NaN</td>\n",
       "    </tr>\n",
       "    <tr>\n",
       "      <td>150266</td>\n",
       "      <td>636</td>\n",
       "      <td>1</td>\n",
       "      <td>Sunrisers Hyderabad</td>\n",
       "      <td>Royal Challengers Bangalore</td>\n",
       "      <td>10</td>\n",
       "      <td>1</td>\n",
       "      <td>DA Warner</td>\n",
       "      <td>MC Henriques</td>\n",
       "      <td>CJ Jordan</td>\n",
       "      <td>0</td>\n",
       "      <td>...</td>\n",
       "      <td>0</td>\n",
       "      <td>0</td>\n",
       "      <td>0</td>\n",
       "      <td>0</td>\n",
       "      <td>4</td>\n",
       "      <td>0</td>\n",
       "      <td>4</td>\n",
       "      <td>NaN</td>\n",
       "      <td>NaN</td>\n",
       "      <td>NaN</td>\n",
       "    </tr>\n",
       "    <tr>\n",
       "      <td>150267</td>\n",
       "      <td>636</td>\n",
       "      <td>1</td>\n",
       "      <td>Sunrisers Hyderabad</td>\n",
       "      <td>Royal Challengers Bangalore</td>\n",
       "      <td>10</td>\n",
       "      <td>2</td>\n",
       "      <td>DA Warner</td>\n",
       "      <td>MC Henriques</td>\n",
       "      <td>CJ Jordan</td>\n",
       "      <td>0</td>\n",
       "      <td>...</td>\n",
       "      <td>0</td>\n",
       "      <td>0</td>\n",
       "      <td>0</td>\n",
       "      <td>0</td>\n",
       "      <td>4</td>\n",
       "      <td>0</td>\n",
       "      <td>4</td>\n",
       "      <td>NaN</td>\n",
       "      <td>NaN</td>\n",
       "      <td>NaN</td>\n",
       "    </tr>\n",
       "    <tr>\n",
       "      <td>150291</td>\n",
       "      <td>636</td>\n",
       "      <td>1</td>\n",
       "      <td>Sunrisers Hyderabad</td>\n",
       "      <td>Royal Challengers Bangalore</td>\n",
       "      <td>14</td>\n",
       "      <td>2</td>\n",
       "      <td>DA Warner</td>\n",
       "      <td>Yuvraj Singh</td>\n",
       "      <td>S Aravind</td>\n",
       "      <td>0</td>\n",
       "      <td>...</td>\n",
       "      <td>0</td>\n",
       "      <td>0</td>\n",
       "      <td>0</td>\n",
       "      <td>0</td>\n",
       "      <td>4</td>\n",
       "      <td>0</td>\n",
       "      <td>4</td>\n",
       "      <td>NaN</td>\n",
       "      <td>NaN</td>\n",
       "      <td>NaN</td>\n",
       "    </tr>\n",
       "  </tbody>\n",
       "</table>\n",
       "<p>401 rows × 21 columns</p>\n",
       "</div>"
      ],
      "text/plain": [
       "        match_id  inning         batting_team                 bowling_team  \\\n",
       "2              1       1  Sunrisers Hyderabad  Royal Challengers Bangalore   \n",
       "8              1       1  Sunrisers Hyderabad  Royal Challengers Bangalore   \n",
       "1334           6       2  Sunrisers Hyderabad                Gujarat Lions   \n",
       "1352           6       2  Sunrisers Hyderabad                Gujarat Lions   \n",
       "1353           6       2  Sunrisers Hyderabad                Gujarat Lions   \n",
       "...          ...     ...                  ...                          ...   \n",
       "150262       636       1  Sunrisers Hyderabad  Royal Challengers Bangalore   \n",
       "150264       636       1  Sunrisers Hyderabad  Royal Challengers Bangalore   \n",
       "150266       636       1  Sunrisers Hyderabad  Royal Challengers Bangalore   \n",
       "150267       636       1  Sunrisers Hyderabad  Royal Challengers Bangalore   \n",
       "150291       636       1  Sunrisers Hyderabad  Royal Challengers Bangalore   \n",
       "\n",
       "        over  ball    batsman   non_striker        bowler  is_super_over  ...  \\\n",
       "2          1     3  DA Warner      S Dhawan      TS Mills              0  ...   \n",
       "8          2     2  DA Warner      S Dhawan   A Choudhary              0  ...   \n",
       "1334       2     1  DA Warner      S Dhawan       P Kumar              0  ...   \n",
       "1352       5     1  DA Warner  MC Henriques  Tejas Baroka              0  ...   \n",
       "1353       5     2  DA Warner  MC Henriques  Tejas Baroka              0  ...   \n",
       "...      ...   ...        ...           ...           ...            ...  ...   \n",
       "150262     9     3  DA Warner  MC Henriques     YS Chahal              0  ...   \n",
       "150264     9     5  DA Warner  MC Henriques     YS Chahal              0  ...   \n",
       "150266    10     1  DA Warner  MC Henriques     CJ Jordan              0  ...   \n",
       "150267    10     2  DA Warner  MC Henriques     CJ Jordan              0  ...   \n",
       "150291    14     2  DA Warner  Yuvraj Singh     S Aravind              0  ...   \n",
       "\n",
       "        bye_runs  legbye_runs  noball_runs  penalty_runs  batsman_runs  \\\n",
       "2              0            0            0             0             4   \n",
       "8              0            0            0             0             4   \n",
       "1334           0            0            0             0             4   \n",
       "1352           0            0            0             0             4   \n",
       "1353           0            0            0             0             4   \n",
       "...          ...          ...          ...           ...           ...   \n",
       "150262         0            0            0             0             4   \n",
       "150264         0            0            0             0             4   \n",
       "150266         0            0            0             0             4   \n",
       "150267         0            0            0             0             4   \n",
       "150291         0            0            0             0             4   \n",
       "\n",
       "        extra_runs  total_runs  player_dismissed dismissal_kind fielder  \n",
       "2                0           4               NaN            NaN     NaN  \n",
       "8                0           4               NaN            NaN     NaN  \n",
       "1334             0           4               NaN            NaN     NaN  \n",
       "1352             0           4               NaN            NaN     NaN  \n",
       "1353             0           4               NaN            NaN     NaN  \n",
       "...            ...         ...               ...            ...     ...  \n",
       "150262           0           4               NaN            NaN     NaN  \n",
       "150264           0           4               NaN            NaN     NaN  \n",
       "150266           0           4               NaN            NaN     NaN  \n",
       "150267           0           4               NaN            NaN     NaN  \n",
       "150291           0           4               NaN            NaN     NaN  \n",
       "\n",
       "[401 rows x 21 columns]"
      ]
     },
     "execution_count": 140,
     "metadata": {},
     "output_type": "execute_result"
    }
   ],
   "source": [
    "\n",
    "df_warner[df_warner['batsman_runs']==4]"
   ]
  },
  {
   "cell_type": "code",
   "execution_count": 6,
   "metadata": {},
   "outputs": [
    {
     "data": {
      "text/plain": [
       "401"
      ]
     },
     "execution_count": 6,
     "metadata": {},
     "output_type": "execute_result"
    }
   ],
   "source": [
    "\n",
    "len(df_warner[df_warner['batsman_runs']==4])"
   ]
  },
  {
   "cell_type": "markdown",
   "metadata": {},
   "source": [
    "# #total 6s by da warner"
   ]
  },
  {
   "cell_type": "code",
   "execution_count": 142,
   "metadata": {},
   "outputs": [
    {
     "data": {
      "text/plain": [
       "160"
      ]
     },
     "execution_count": 142,
     "metadata": {},
     "output_type": "execute_result"
    }
   ],
   "source": [
    "\n",
    "len(df_warner[df_warner['batsman_runs']==6])"
   ]
  },
  {
   "cell_type": "code",
   "execution_count": null,
   "metadata": {},
   "outputs": [],
   "source": []
  },
  {
   "cell_type": "code",
   "execution_count": null,
   "metadata": {},
   "outputs": [],
   "source": []
  },
  {
   "cell_type": "code",
   "execution_count": null,
   "metadata": {},
   "outputs": [],
   "source": []
  },
  {
   "cell_type": "code",
   "execution_count": null,
   "metadata": {},
   "outputs": [],
   "source": []
  },
  {
   "cell_type": "markdown",
   "metadata": {},
   "source": [
    "# total runs made by DA warner"
   ]
  },
  {
   "cell_type": "code",
   "execution_count": 144,
   "metadata": {},
   "outputs": [
    {
     "data": {
      "text/plain": [
       "4213"
      ]
     },
     "execution_count": 144,
     "metadata": {},
     "output_type": "execute_result"
    }
   ],
   "source": [
    "\n",
    "df_warner['total_runs'].sum()"
   ]
  },
  {
   "cell_type": "markdown",
   "metadata": {},
   "source": [
    "# #out of total runs,how many runs score by 6's"
   ]
  },
  {
   "cell_type": "code",
   "execution_count": 145,
   "metadata": {},
   "outputs": [
    {
     "data": {
      "text/plain": [
       "960"
      ]
     },
     "execution_count": 145,
     "metadata": {},
     "output_type": "execute_result"
    }
   ],
   "source": [
    "\n",
    "six=len(df_warner[df_warner['batsman_runs']==6])*6\n",
    "six"
   ]
  },
  {
   "cell_type": "markdown",
   "metadata": {},
   "source": [
    "# out of total runs,how many runs score by 4's"
   ]
  },
  {
   "cell_type": "code",
   "execution_count": 146,
   "metadata": {},
   "outputs": [
    {
     "data": {
      "text/plain": [
       "1604"
      ]
     },
     "execution_count": 146,
     "metadata": {},
     "output_type": "execute_result"
    }
   ],
   "source": [
    "\n",
    "four=len(df_warner[df_warner['batsman_runs']==4])*4\n",
    "four"
   ]
  },
  {
   "cell_type": "markdown",
   "metadata": {},
   "source": [
    "# Create same task using Function"
   ]
  },
  {
   "cell_type": "code",
   "execution_count": 13,
   "metadata": {},
   "outputs": [],
   "source": [
    "def count(df,runs):\n",
    "    return len(df_warner[df_warner['batsman_runs']==runs])*runs"
   ]
  },
  {
   "cell_type": "code",
   "execution_count": 15,
   "metadata": {},
   "outputs": [
    {
     "data": {
      "text/plain": [
       "414"
      ]
     },
     "execution_count": 15,
     "metadata": {},
     "output_type": "execute_result"
    }
   ],
   "source": [
    "count(df_warner,2)"
   ]
  },
  {
   "cell_type": "code",
   "execution_count": 16,
   "metadata": {},
   "outputs": [
    {
     "data": {
      "text/plain": [
       "39"
      ]
     },
     "execution_count": 16,
     "metadata": {},
     "output_type": "execute_result"
    }
   ],
   "source": [
    "count(df_warner,3)"
   ]
  },
  {
   "cell_type": "code",
   "execution_count": 17,
   "metadata": {},
   "outputs": [
    {
     "data": {
      "text/plain": [
       "1604"
      ]
     },
     "execution_count": 17,
     "metadata": {},
     "output_type": "execute_result"
    }
   ],
   "source": [
    "count(df_warner,4)"
   ]
  },
  {
   "cell_type": "markdown",
   "metadata": {},
   "source": [
    "# Now create pie plot, Runs contribution of David Warner"
   ]
  },
  {
   "cell_type": "code",
   "execution_count": 18,
   "metadata": {},
   "outputs": [
    {
     "data": {
      "image/png": "[encoded data removed]",
      "text/plain": [
       "<Figure size 432x288 with 1 Axes>"
      ]
     },
     "metadata": {},
     "output_type": "display_data"
    }
   ],
   "source": [
    "slices=[997,414,39,1604,960]\n",
    "labels=[1,2,3,4,6]\n",
    "explode=[0,0,0,0,0.1]\n",
    "plt.pie(slices,labels=labels,autopct='%1.1f%%',explode=explode)\n",
    "plt.title(\"DA Warner total runs contribution\")\n",
    "plt.tight_layout()\n",
    "plt.show()"
   ]
  },
  {
   "cell_type": "code",
   "execution_count": null,
   "metadata": {},
   "outputs": [],
   "source": []
  },
  {
   "cell_type": "code",
   "execution_count": 19,
   "metadata": {},
   "outputs": [],
   "source": [
    "batsman=list(df['batsman'].unique())"
   ]
  },
  {
   "cell_type": "code",
   "execution_count": 20,
   "metadata": {},
   "outputs": [
    {
     "data": {
      "text/plain": [
       "461"
      ]
     },
     "execution_count": 20,
     "metadata": {},
     "output_type": "execute_result"
    }
   ],
   "source": [
    "len(batsman)"
   ]
  },
  {
   "cell_type": "code",
   "execution_count": null,
   "metadata": {},
   "outputs": [],
   "source": []
  },
  {
   "cell_type": "markdown",
   "metadata": {},
   "source": [
    "# #Kinds for dismissal for yuvi"
   ]
  },
  {
   "cell_type": "code",
   "execution_count": 85,
   "metadata": {},
   "outputs": [
    {
     "data": {
      "text/plain": [
       "<matplotlib.axes._subplots.AxesSubplot at 0xfa84210908>"
      ]
     },
     "execution_count": 85,
     "metadata": {},
     "output_type": "execute_result"
    },
    {
     "data": {
      "image/png": "[encoded data removed]",
      "text/plain": [
       "<Figure size 432x288 with 1 Axes>"
      ]
     },
     "metadata": {
      "needs_background": "light"
     },
     "output_type": "display_data"
    }
   ],
   "source": [
    "\n",
    "df[df['player_dismissed']=='Yuvraj Singh']['dismissal_kind'].value_counts().plot.bar()"
   ]
  },
  {
   "cell_type": "markdown",
   "metadata": {},
   "source": [
    "# create a func that will count how many times a player gets dismissed"
   ]
  },
  {
   "cell_type": "code",
   "execution_count": 105,
   "metadata": {},
   "outputs": [],
   "source": [
    "\n",
    "def dismissed(player_name):\n",
    "    return(df[df['player_dismissed']==player_name]['dismissal_kind'].value_counts())\n",
    "    "
   ]
  },
  {
   "cell_type": "code",
   "execution_count": 108,
   "metadata": {},
   "outputs": [
    {
     "data": {
      "text/plain": [
       "<matplotlib.axes._subplots.AxesSubplot at 0xfa86623648>"
      ]
     },
     "execution_count": 108,
     "metadata": {},
     "output_type": "execute_result"
    },
    {
     "data": {
      "image/png": "[encoded data removed]",
      "text/plain": [
       "<Figure size 432x288 with 1 Axes>"
      ]
     },
     "metadata": {
      "needs_background": "light"
     },
     "output_type": "display_data"
    }
   ],
   "source": [
    "dismissed('CH Gayle').plot.bar()"
   ]
  },
  {
   "cell_type": "markdown",
   "metadata": {},
   "source": [
    "# create a func that will count total runs made by any player"
   ]
  },
  {
   "cell_type": "code",
   "execution_count": 21,
   "metadata": {},
   "outputs": [],
   "source": [
    "#create a func that will count total runs made by any player\n",
    "def total_runs(player_name):\n",
    "    return df[df['batsman']==player_name]['total_runs'].sum()"
   ]
  },
  {
   "cell_type": "code",
   "execution_count": 22,
   "metadata": {},
   "outputs": [
    {
     "data": {
      "text/plain": [
       "2710"
      ]
     },
     "execution_count": 22,
     "metadata": {},
     "output_type": "execute_result"
    }
   ],
   "source": [
    "total_runs('Yuvraj Singh')"
   ]
  },
  {
   "cell_type": "code",
   "execution_count": null,
   "metadata": {},
   "outputs": [],
   "source": []
  },
  {
   "cell_type": "markdown",
   "metadata": {},
   "source": [
    "# create a func that will count total runs made by any player in 1's,2's,4's etc"
   ]
  },
  {
   "cell_type": "code",
   "execution_count": 172,
   "metadata": {},
   "outputs": [],
   "source": [
    "\n",
    "def cont_runs(player_name):\n",
    "    return df[df['batsman']==player_name]['batsman_runs'].value_counts()"
   ]
  },
  {
   "cell_type": "code",
   "execution_count": 174,
   "metadata": {},
   "outputs": [
    {
     "data": {
      "text/plain": [
       "0    898\n",
       "1    690\n",
       "4    205\n",
       "6    141\n",
       "2    113\n",
       "3      3\n",
       "Name: batsman_runs, dtype: int64"
      ]
     },
     "execution_count": 174,
     "metadata": {},
     "output_type": "execute_result"
    }
   ],
   "source": [
    "cont_runs('Yuvraj Singh')"
   ]
  },
  {
   "cell_type": "code",
   "execution_count": 232,
   "metadata": {},
   "outputs": [
    {
     "data": {
      "text/plain": [
       "<matplotlib.axes._subplots.AxesSubplot at 0xfa868c7dc8>"
      ]
     },
     "execution_count": 232,
     "metadata": {},
     "output_type": "execute_result"
    },
    {
     "data": {
      "image/png": "[encoded data removed]",
      "text/plain": [
       "<Figure size 432x288 with 1 Axes>"
      ]
     },
     "metadata": {
      "needs_background": "light"
     },
     "output_type": "display_data"
    }
   ],
   "source": [
    "cont_runs('Yuvraj Singh').plot.bar()"
   ]
  },
  {
   "cell_type": "markdown",
   "metadata": {},
   "source": [
    "# create a func that will count total sixes by any player"
   ]
  },
  {
   "cell_type": "code",
   "execution_count": 218,
   "metadata": {},
   "outputs": [],
   "source": [
    "\n",
    "def six(player_name):\n",
    "    df_player=df[df['batsman']==player_name]\n",
    "    return( len(df_player[df_player['batsman_runs']==6]))\n",
    "    \n"
   ]
  },
  {
   "cell_type": "code",
   "execution_count": 219,
   "metadata": {},
   "outputs": [
    {
     "data": {
      "text/plain": [
       "141"
      ]
     },
     "execution_count": 219,
     "metadata": {},
     "output_type": "execute_result"
    }
   ],
   "source": [
    "six('Yuvraj Singh')"
   ]
  },
  {
   "cell_type": "markdown",
   "metadata": {},
   "source": [
    "# create a func that will count total 4's by any player"
   ]
  },
  {
   "cell_type": "code",
   "execution_count": 224,
   "metadata": {},
   "outputs": [],
   "source": [
    "\n",
    "def four(player_name):\n",
    "    df_player=df[df['batsman']==player_name]\n",
    "    return( len(df_player[df_player['batsman_runs']==4]))"
   ]
  },
  {
   "cell_type": "code",
   "execution_count": 225,
   "metadata": {},
   "outputs": [
    {
     "data": {
      "text/plain": [
       "205"
      ]
     },
     "execution_count": 225,
     "metadata": {},
     "output_type": "execute_result"
    }
   ],
   "source": [
    "four('Yuvraj Singh')"
   ]
  },
  {
   "cell_type": "markdown",
   "metadata": {},
   "source": [
    "# create a func that will count total 2 runs by any"
   ]
  },
  {
   "cell_type": "code",
   "execution_count": 222,
   "metadata": {},
   "outputs": [],
   "source": [
    "\n",
    "def two(player_name):\n",
    "    df_player=df[df['batsman']==player_name]\n",
    "    return( len(df_player[df_player['batsman_runs']==2]))"
   ]
  },
  {
   "cell_type": "code",
   "execution_count": 223,
   "metadata": {},
   "outputs": [
    {
     "data": {
      "text/plain": [
       "113"
      ]
     },
     "execution_count": 223,
     "metadata": {},
     "output_type": "execute_result"
    }
   ],
   "source": [
    "two('Yuvraj Singh')"
   ]
  },
  {
   "cell_type": "code",
   "execution_count": null,
   "metadata": {},
   "outputs": [],
   "source": []
  },
  {
   "cell_type": "markdown",
   "metadata": {},
   "source": [
    "# create a func that will count total singles by any player"
   ]
  },
  {
   "cell_type": "code",
   "execution_count": 220,
   "metadata": {},
   "outputs": [],
   "source": [
    "\n",
    "def singles(player_name):\n",
    "    df_player=df[df['batsman']==player_name]\n",
    "    return( len(df_player[df_player['batsman_runs']==1]))"
   ]
  },
  {
   "cell_type": "code",
   "execution_count": 221,
   "metadata": {},
   "outputs": [
    {
     "data": {
      "text/plain": [
       "690"
      ]
     },
     "execution_count": 221,
     "metadata": {},
     "output_type": "execute_result"
    }
   ],
   "source": [
    "singles('Yuvraj Singh')"
   ]
  },
  {
   "cell_type": "markdown",
   "metadata": {},
   "source": [
    "# create a func that will count total Dot balls by any player"
   ]
  },
  {
   "cell_type": "code",
   "execution_count": 228,
   "metadata": {},
   "outputs": [],
   "source": [
    "def dots(player_name):\n",
    "    df_player=df[df['batsman']==player_name]\n",
    "    return( len(df_player[df_player['batsman_runs']==0]))"
   ]
  },
  {
   "cell_type": "code",
   "execution_count": 229,
   "metadata": {},
   "outputs": [
    {
     "data": {
      "text/plain": [
       "898"
      ]
     },
     "execution_count": 229,
     "metadata": {},
     "output_type": "execute_result"
    }
   ],
   "source": [
    "dots('Yuvraj Singh')"
   ]
  },
  {
   "cell_type": "markdown",
   "metadata": {},
   "source": [
    "# create a func that will count total Threes by any player"
   ]
  },
  {
   "cell_type": "code",
   "execution_count": 230,
   "metadata": {},
   "outputs": [],
   "source": [
    "def three(player_name):\n",
    "    df_player=df[df['batsman']==player_name]\n",
    "    return( len(df_player[df_player['batsman_runs']==3]))"
   ]
  },
  {
   "cell_type": "code",
   "execution_count": 231,
   "metadata": {},
   "outputs": [
    {
     "data": {
      "text/plain": [
       "3"
      ]
     },
     "execution_count": 231,
     "metadata": {},
     "output_type": "execute_result"
    }
   ],
   "source": [
    "three('Yuvraj Singh')"
   ]
  },
  {
   "cell_type": "markdown",
   "metadata": {},
   "source": [
    "# how many times TS Mills give  wide run"
   ]
  },
  {
   "cell_type": "code",
   "execution_count": 241,
   "metadata": {},
   "outputs": [
    {
     "data": {
      "text/html": [
       "<div>\n",
       "<style scoped>\n",
       "    .dataframe tbody tr th:only-of-type {\n",
       "        vertical-align: middle;\n",
       "    }\n",
       "\n",
       "    .dataframe tbody tr th {\n",
       "        vertical-align: top;\n",
       "    }\n",
       "\n",
       "    .dataframe thead th {\n",
       "        text-align: right;\n",
       "    }\n",
       "</style>\n",
       "<table border=\"1\" class=\"dataframe\">\n",
       "  <thead>\n",
       "    <tr style=\"text-align: right;\">\n",
       "      <th></th>\n",
       "      <th>match_id</th>\n",
       "      <th>inning</th>\n",
       "      <th>batting_team</th>\n",
       "      <th>bowling_team</th>\n",
       "      <th>over</th>\n",
       "      <th>ball</th>\n",
       "      <th>batsman</th>\n",
       "      <th>non_striker</th>\n",
       "      <th>bowler</th>\n",
       "      <th>is_super_over</th>\n",
       "      <th>...</th>\n",
       "      <th>bye_runs</th>\n",
       "      <th>legbye_runs</th>\n",
       "      <th>noball_runs</th>\n",
       "      <th>penalty_runs</th>\n",
       "      <th>batsman_runs</th>\n",
       "      <th>extra_runs</th>\n",
       "      <th>total_runs</th>\n",
       "      <th>player_dismissed</th>\n",
       "      <th>dismissal_kind</th>\n",
       "      <th>fielder</th>\n",
       "    </tr>\n",
       "  </thead>\n",
       "  <tbody>\n",
       "    <tr>\n",
       "      <td>0</td>\n",
       "      <td>1</td>\n",
       "      <td>1</td>\n",
       "      <td>Sunrisers Hyderabad</td>\n",
       "      <td>Royal Challengers Bangalore</td>\n",
       "      <td>1</td>\n",
       "      <td>1</td>\n",
       "      <td>DA Warner</td>\n",
       "      <td>S Dhawan</td>\n",
       "      <td>TS Mills</td>\n",
       "      <td>0</td>\n",
       "      <td>...</td>\n",
       "      <td>0</td>\n",
       "      <td>0</td>\n",
       "      <td>0</td>\n",
       "      <td>0</td>\n",
       "      <td>0</td>\n",
       "      <td>0</td>\n",
       "      <td>0</td>\n",
       "      <td>NaN</td>\n",
       "      <td>NaN</td>\n",
       "      <td>NaN</td>\n",
       "    </tr>\n",
       "    <tr>\n",
       "      <td>1</td>\n",
       "      <td>1</td>\n",
       "      <td>1</td>\n",
       "      <td>Sunrisers Hyderabad</td>\n",
       "      <td>Royal Challengers Bangalore</td>\n",
       "      <td>1</td>\n",
       "      <td>2</td>\n",
       "      <td>DA Warner</td>\n",
       "      <td>S Dhawan</td>\n",
       "      <td>TS Mills</td>\n",
       "      <td>0</td>\n",
       "      <td>...</td>\n",
       "      <td>0</td>\n",
       "      <td>0</td>\n",
       "      <td>0</td>\n",
       "      <td>0</td>\n",
       "      <td>0</td>\n",
       "      <td>0</td>\n",
       "      <td>0</td>\n",
       "      <td>NaN</td>\n",
       "      <td>NaN</td>\n",
       "      <td>NaN</td>\n",
       "    </tr>\n",
       "    <tr>\n",
       "      <td>2</td>\n",
       "      <td>1</td>\n",
       "      <td>1</td>\n",
       "      <td>Sunrisers Hyderabad</td>\n",
       "      <td>Royal Challengers Bangalore</td>\n",
       "      <td>1</td>\n",
       "      <td>3</td>\n",
       "      <td>DA Warner</td>\n",
       "      <td>S Dhawan</td>\n",
       "      <td>TS Mills</td>\n",
       "      <td>0</td>\n",
       "      <td>...</td>\n",
       "      <td>0</td>\n",
       "      <td>0</td>\n",
       "      <td>0</td>\n",
       "      <td>0</td>\n",
       "      <td>4</td>\n",
       "      <td>0</td>\n",
       "      <td>4</td>\n",
       "      <td>NaN</td>\n",
       "      <td>NaN</td>\n",
       "      <td>NaN</td>\n",
       "    </tr>\n",
       "    <tr>\n",
       "      <td>3</td>\n",
       "      <td>1</td>\n",
       "      <td>1</td>\n",
       "      <td>Sunrisers Hyderabad</td>\n",
       "      <td>Royal Challengers Bangalore</td>\n",
       "      <td>1</td>\n",
       "      <td>4</td>\n",
       "      <td>DA Warner</td>\n",
       "      <td>S Dhawan</td>\n",
       "      <td>TS Mills</td>\n",
       "      <td>0</td>\n",
       "      <td>...</td>\n",
       "      <td>0</td>\n",
       "      <td>0</td>\n",
       "      <td>0</td>\n",
       "      <td>0</td>\n",
       "      <td>0</td>\n",
       "      <td>0</td>\n",
       "      <td>0</td>\n",
       "      <td>NaN</td>\n",
       "      <td>NaN</td>\n",
       "      <td>NaN</td>\n",
       "    </tr>\n",
       "    <tr>\n",
       "      <td>4</td>\n",
       "      <td>1</td>\n",
       "      <td>1</td>\n",
       "      <td>Sunrisers Hyderabad</td>\n",
       "      <td>Royal Challengers Bangalore</td>\n",
       "      <td>1</td>\n",
       "      <td>5</td>\n",
       "      <td>DA Warner</td>\n",
       "      <td>S Dhawan</td>\n",
       "      <td>TS Mills</td>\n",
       "      <td>0</td>\n",
       "      <td>...</td>\n",
       "      <td>0</td>\n",
       "      <td>0</td>\n",
       "      <td>0</td>\n",
       "      <td>0</td>\n",
       "      <td>0</td>\n",
       "      <td>2</td>\n",
       "      <td>2</td>\n",
       "      <td>NaN</td>\n",
       "      <td>NaN</td>\n",
       "      <td>NaN</td>\n",
       "    </tr>\n",
       "    <tr>\n",
       "      <td>...</td>\n",
       "      <td>...</td>\n",
       "      <td>...</td>\n",
       "      <td>...</td>\n",
       "      <td>...</td>\n",
       "      <td>...</td>\n",
       "      <td>...</td>\n",
       "      <td>...</td>\n",
       "      <td>...</td>\n",
       "      <td>...</td>\n",
       "      <td>...</td>\n",
       "      <td>...</td>\n",
       "      <td>...</td>\n",
       "      <td>...</td>\n",
       "      <td>...</td>\n",
       "      <td>...</td>\n",
       "      <td>...</td>\n",
       "      <td>...</td>\n",
       "      <td>...</td>\n",
       "      <td>...</td>\n",
       "      <td>...</td>\n",
       "      <td>...</td>\n",
       "    </tr>\n",
       "    <tr>\n",
       "      <td>6367</td>\n",
       "      <td>27</td>\n",
       "      <td>1</td>\n",
       "      <td>Kolkata Knight Riders</td>\n",
       "      <td>Royal Challengers Bangalore</td>\n",
       "      <td>19</td>\n",
       "      <td>2</td>\n",
       "      <td>Kuldeep Yadav</td>\n",
       "      <td>UT Yadav</td>\n",
       "      <td>TS Mills</td>\n",
       "      <td>0</td>\n",
       "      <td>...</td>\n",
       "      <td>0</td>\n",
       "      <td>0</td>\n",
       "      <td>0</td>\n",
       "      <td>0</td>\n",
       "      <td>1</td>\n",
       "      <td>0</td>\n",
       "      <td>1</td>\n",
       "      <td>NaN</td>\n",
       "      <td>NaN</td>\n",
       "      <td>NaN</td>\n",
       "    </tr>\n",
       "    <tr>\n",
       "      <td>6368</td>\n",
       "      <td>27</td>\n",
       "      <td>1</td>\n",
       "      <td>Kolkata Knight Riders</td>\n",
       "      <td>Royal Challengers Bangalore</td>\n",
       "      <td>19</td>\n",
       "      <td>3</td>\n",
       "      <td>UT Yadav</td>\n",
       "      <td>Kuldeep Yadav</td>\n",
       "      <td>TS Mills</td>\n",
       "      <td>0</td>\n",
       "      <td>...</td>\n",
       "      <td>0</td>\n",
       "      <td>0</td>\n",
       "      <td>0</td>\n",
       "      <td>0</td>\n",
       "      <td>0</td>\n",
       "      <td>0</td>\n",
       "      <td>0</td>\n",
       "      <td>NaN</td>\n",
       "      <td>NaN</td>\n",
       "      <td>NaN</td>\n",
       "    </tr>\n",
       "    <tr>\n",
       "      <td>6369</td>\n",
       "      <td>27</td>\n",
       "      <td>1</td>\n",
       "      <td>Kolkata Knight Riders</td>\n",
       "      <td>Royal Challengers Bangalore</td>\n",
       "      <td>19</td>\n",
       "      <td>4</td>\n",
       "      <td>UT Yadav</td>\n",
       "      <td>Kuldeep Yadav</td>\n",
       "      <td>TS Mills</td>\n",
       "      <td>0</td>\n",
       "      <td>...</td>\n",
       "      <td>0</td>\n",
       "      <td>0</td>\n",
       "      <td>0</td>\n",
       "      <td>0</td>\n",
       "      <td>2</td>\n",
       "      <td>0</td>\n",
       "      <td>2</td>\n",
       "      <td>NaN</td>\n",
       "      <td>NaN</td>\n",
       "      <td>NaN</td>\n",
       "    </tr>\n",
       "    <tr>\n",
       "      <td>6370</td>\n",
       "      <td>27</td>\n",
       "      <td>1</td>\n",
       "      <td>Kolkata Knight Riders</td>\n",
       "      <td>Royal Challengers Bangalore</td>\n",
       "      <td>19</td>\n",
       "      <td>5</td>\n",
       "      <td>UT Yadav</td>\n",
       "      <td>Kuldeep Yadav</td>\n",
       "      <td>TS Mills</td>\n",
       "      <td>0</td>\n",
       "      <td>...</td>\n",
       "      <td>0</td>\n",
       "      <td>0</td>\n",
       "      <td>0</td>\n",
       "      <td>0</td>\n",
       "      <td>0</td>\n",
       "      <td>0</td>\n",
       "      <td>0</td>\n",
       "      <td>NaN</td>\n",
       "      <td>NaN</td>\n",
       "      <td>NaN</td>\n",
       "    </tr>\n",
       "    <tr>\n",
       "      <td>6371</td>\n",
       "      <td>27</td>\n",
       "      <td>1</td>\n",
       "      <td>Kolkata Knight Riders</td>\n",
       "      <td>Royal Challengers Bangalore</td>\n",
       "      <td>19</td>\n",
       "      <td>6</td>\n",
       "      <td>UT Yadav</td>\n",
       "      <td>Kuldeep Yadav</td>\n",
       "      <td>TS Mills</td>\n",
       "      <td>0</td>\n",
       "      <td>...</td>\n",
       "      <td>0</td>\n",
       "      <td>0</td>\n",
       "      <td>0</td>\n",
       "      <td>0</td>\n",
       "      <td>0</td>\n",
       "      <td>0</td>\n",
       "      <td>0</td>\n",
       "      <td>NaN</td>\n",
       "      <td>NaN</td>\n",
       "      <td>NaN</td>\n",
       "    </tr>\n",
       "  </tbody>\n",
       "</table>\n",
       "<p>111 rows × 21 columns</p>\n",
       "</div>"
      ],
      "text/plain": [
       "      match_id  inning           batting_team                 bowling_team  \\\n",
       "0            1       1    Sunrisers Hyderabad  Royal Challengers Bangalore   \n",
       "1            1       1    Sunrisers Hyderabad  Royal Challengers Bangalore   \n",
       "2            1       1    Sunrisers Hyderabad  Royal Challengers Bangalore   \n",
       "3            1       1    Sunrisers Hyderabad  Royal Challengers Bangalore   \n",
       "4            1       1    Sunrisers Hyderabad  Royal Challengers Bangalore   \n",
       "...        ...     ...                    ...                          ...   \n",
       "6367        27       1  Kolkata Knight Riders  Royal Challengers Bangalore   \n",
       "6368        27       1  Kolkata Knight Riders  Royal Challengers Bangalore   \n",
       "6369        27       1  Kolkata Knight Riders  Royal Challengers Bangalore   \n",
       "6370        27       1  Kolkata Knight Riders  Royal Challengers Bangalore   \n",
       "6371        27       1  Kolkata Knight Riders  Royal Challengers Bangalore   \n",
       "\n",
       "      over  ball        batsman    non_striker    bowler  is_super_over  ...  \\\n",
       "0        1     1      DA Warner       S Dhawan  TS Mills              0  ...   \n",
       "1        1     2      DA Warner       S Dhawan  TS Mills              0  ...   \n",
       "2        1     3      DA Warner       S Dhawan  TS Mills              0  ...   \n",
       "3        1     4      DA Warner       S Dhawan  TS Mills              0  ...   \n",
       "4        1     5      DA Warner       S Dhawan  TS Mills              0  ...   \n",
       "...    ...   ...            ...            ...       ...            ...  ...   \n",
       "6367    19     2  Kuldeep Yadav       UT Yadav  TS Mills              0  ...   \n",
       "6368    19     3       UT Yadav  Kuldeep Yadav  TS Mills              0  ...   \n",
       "6369    19     4       UT Yadav  Kuldeep Yadav  TS Mills              0  ...   \n",
       "6370    19     5       UT Yadav  Kuldeep Yadav  TS Mills              0  ...   \n",
       "6371    19     6       UT Yadav  Kuldeep Yadav  TS Mills              0  ...   \n",
       "\n",
       "      bye_runs  legbye_runs  noball_runs  penalty_runs  batsman_runs  \\\n",
       "0            0            0            0             0             0   \n",
       "1            0            0            0             0             0   \n",
       "2            0            0            0             0             4   \n",
       "3            0            0            0             0             0   \n",
       "4            0            0            0             0             0   \n",
       "...        ...          ...          ...           ...           ...   \n",
       "6367         0            0            0             0             1   \n",
       "6368         0            0            0             0             0   \n",
       "6369         0            0            0             0             2   \n",
       "6370         0            0            0             0             0   \n",
       "6371         0            0            0             0             0   \n",
       "\n",
       "      extra_runs  total_runs  player_dismissed dismissal_kind fielder  \n",
       "0              0           0               NaN            NaN     NaN  \n",
       "1              0           0               NaN            NaN     NaN  \n",
       "2              0           4               NaN            NaN     NaN  \n",
       "3              0           0               NaN            NaN     NaN  \n",
       "4              2           2               NaN            NaN     NaN  \n",
       "...          ...         ...               ...            ...     ...  \n",
       "6367           0           1               NaN            NaN     NaN  \n",
       "6368           0           0               NaN            NaN     NaN  \n",
       "6369           0           2               NaN            NaN     NaN  \n",
       "6370           0           0               NaN            NaN     NaN  \n",
       "6371           0           0               NaN            NaN     NaN  \n",
       "\n",
       "[111 rows x 21 columns]"
      ]
     },
     "execution_count": 241,
     "metadata": {},
     "output_type": "execute_result"
    }
   ],
   "source": [
    "\n",
    "df[df['bowler']=='TS Mills']"
   ]
  },
  {
   "cell_type": "code",
   "execution_count": 242,
   "metadata": {},
   "outputs": [],
   "source": [
    "df_bowler=df[df['bowler']=='TS Mills']\n"
   ]
  },
  {
   "cell_type": "code",
   "execution_count": 244,
   "metadata": {},
   "outputs": [
    {
     "data": {
      "text/plain": [
       "1    2\n",
       "5    1\n",
       "2    1\n",
       "Name: wide_runs, dtype: int64"
      ]
     },
     "execution_count": 244,
     "metadata": {},
     "output_type": "execute_result"
    }
   ],
   "source": [
    "filt=df_bowler['wide_runs']==0\n",
    "df_bowler[~filt]['wide_runs'].value_counts()"
   ]
  },
  {
   "cell_type": "code",
   "execution_count": null,
   "metadata": {},
   "outputs": [],
   "source": []
  },
  {
   "cell_type": "markdown",
   "metadata": {},
   "source": [
    "# Part2 EDA"
   ]
  },
  {
   "cell_type": "code",
   "execution_count": null,
   "metadata": {},
   "outputs": [],
   "source": [
    "\n",
    "create a func that give info about wide runs of any bowler\n",
    "create a func that give all wide runs given by bowler\n",
    "Total wickets taken by TS Mills\n",
    "Create a func that returns total wickets taken by any player\n",
    "Create a dataframe that has 2 columns Bowler_name and wickets and which consists \n",
    "of all the bowler_name with their wickets\n",
    "\n",
    "Top 10 Wickets Takers\n",
    "how many times TS mills Bowled yuvraj singh\n",
    "create a func that will count how many times bowler bowled batsman\n",
    "reate a func that counts all no ball by a  bowler\n",
    "most catches taken by \n",
    "Create a func that will count total catches taken by any player\n",
    "which batsman scores highest runs"
   ]
  },
  {
   "cell_type": "markdown",
   "metadata": {},
   "source": [
    "# create a func that give info about wide runs of any bowler"
   ]
  },
  {
   "cell_type": "code",
   "execution_count": 3,
   "metadata": {},
   "outputs": [],
   "source": [
    "\n",
    "\n",
    "def wide_runs(player_name):\n",
    "    df_bowler=df[df['bowler']==player_name]\n",
    "    filt=df_bowler['wide_runs']==0\n",
    "    return  df_bowler[~filt]['wide_runs'].value_counts()"
   ]
  },
  {
   "cell_type": "code",
   "execution_count": 246,
   "metadata": {},
   "outputs": [
    {
     "data": {
      "text/plain": [
       "1    2\n",
       "5    1\n",
       "2    1\n",
       "Name: wide_runs, dtype: int64"
      ]
     },
     "execution_count": 246,
     "metadata": {},
     "output_type": "execute_result"
    }
   ],
   "source": [
    "wide_runs('TS Mills')"
   ]
  },
  {
   "cell_type": "code",
   "execution_count": 4,
   "metadata": {},
   "outputs": [
    {
     "data": {
      "text/plain": [
       "<matplotlib.axes._subplots.AxesSubplot at 0xf1e437ee08>"
      ]
     },
     "execution_count": 4,
     "metadata": {},
     "output_type": "execute_result"
    },
    {
     "data": {
      "image/png": "[encoded data removed]",
      "text/plain": [
       "<Figure size 432x288 with 1 Axes>"
      ]
     },
     "metadata": {
      "needs_background": "light"
     },
     "output_type": "display_data"
    }
   ],
   "source": [
    "wide_runs('TS Mills').plot.bar()"
   ]
  },
  {
   "cell_type": "markdown",
   "metadata": {},
   "source": [
    "# create a func that give all wide runs given by each bowler"
   ]
  },
  {
   "cell_type": "code",
   "execution_count": 254,
   "metadata": {},
   "outputs": [],
   "source": [
    "\n",
    "def all_wide_runs(player_name):\n",
    "    df_bowler=df[df['bowler']=='TS Mills']\n",
    "    filt=df_bowler['wide_runs']==0\n",
    "    return (df_bowler[~filt]['wide_runs'].sum())"
   ]
  },
  {
   "cell_type": "code",
   "execution_count": 255,
   "metadata": {},
   "outputs": [
    {
     "data": {
      "text/plain": [
       "9"
      ]
     },
     "execution_count": 255,
     "metadata": {},
     "output_type": "execute_result"
    }
   ],
   "source": [
    "all_wide_runs('TS Miils')"
   ]
  },
  {
   "cell_type": "markdown",
   "metadata": {},
   "source": [
    "# #total wickets taken by TS Mills"
   ]
  },
  {
   "cell_type": "code",
   "execution_count": 262,
   "metadata": {},
   "outputs": [
    {
     "data": {
      "text/plain": [
       "AP Tare         1\n",
       "CR Woakes       1\n",
       "G Gambhir       1\n",
       "M Vohra         1\n",
       "Yuvraj Singh    1\n",
       "Name: player_dismissed, dtype: int64"
      ]
     },
     "execution_count": 262,
     "metadata": {},
     "output_type": "execute_result"
    }
   ],
   "source": [
    "\n",
    "df_bowler=df[df['bowler']=='TS Mills']\n",
    "df_bowler['player_dismissed'].value_counts()"
   ]
  },
  {
   "cell_type": "markdown",
   "metadata": {},
   "source": [
    "# Create a func that returns total wickets taken by any player"
   ]
  },
  {
   "cell_type": "code",
   "execution_count": 5,
   "metadata": {},
   "outputs": [],
   "source": [
    "\n",
    "def wickets(player_name):\n",
    "    return len(df[df['bowler']==player_name]['player_dismissed'].value_counts())\n",
    "   "
   ]
  },
  {
   "cell_type": "code",
   "execution_count": 6,
   "metadata": {},
   "outputs": [
    {
     "data": {
      "text/plain": [
       "5"
      ]
     },
     "execution_count": 6,
     "metadata": {},
     "output_type": "execute_result"
    }
   ],
   "source": [
    "wickets('TS Mills')"
   ]
  },
  {
   "cell_type": "code",
   "execution_count": null,
   "metadata": {},
   "outputs": [],
   "source": []
  },
  {
   "cell_type": "markdown",
   "metadata": {},
   "source": [
    "# Create a dataframe that has 2 columns Bowler_name and wickets and which consists of all the bowler_name with their wickets"
   ]
  },
  {
   "cell_type": "code",
   "execution_count": 8,
   "metadata": {},
   "outputs": [
    {
     "data": {
      "text/plain": [
       "array(['TS Mills', 'A Choudhary', 'YS Chahal', 'S Aravind', 'SR Watson',\n",
       "       'TM Head', 'STR Binny', 'A Nehra', 'B Kumar', 'BCJ Cutting',\n",
       "       'Rashid Khan', 'DJ Hooda', 'MC Henriques', 'Bipul Sharma',\n",
       "       'AB Dinda', 'DL Chahar', 'BA Stokes', 'Imran Tahir', 'A Zampa',\n",
       "       'R Bhatia', 'TG Southee', 'HH Pandya', 'MJ McClenaghan',\n",
       "       'JJ Bumrah', 'KH Pandya', 'KA Pollard', 'TA Boult', 'PP Chawla',\n",
       "       'SP Narine', 'CR Woakes', 'Kuldeep Yadav', 'YK Pathan', 'P Kumar',\n",
       "       'DS Kulkarni', 'MS Gony', 'S Kaushik', 'DR Smith', 'SB Jakati',\n",
       "       'Sandeep Sharma', 'MM Sharma', 'AR Patel', 'T Natarajan',\n",
       "       'MP Stoinis', 'Swapnil Singh', 'DT Christian', 'RD Chahar',\n",
       "       'Z Khan', 'CH Morris', 'PJ Cummins', 'S Nadeem', 'A Mishra',\n",
       "       'CR Brathwaite', 'B Stanlake', 'Iqbal Abdulla', 'P Negi',\n",
       "       'SK Raina', 'Tejas Baroka', 'Basil Thampi', 'SL Malinga',\n",
       "       'Harbhajan Singh', 'AS Rajpoot', 'VR Aaron', 'CJ Anderson',\n",
       "       'Mustafizur Rahman', 'UT Yadav', 'C de Grandhomme', 'I Sharma',\n",
       "       'GJ Maxwell', 'S Badree', 'AJ Tye', 'RA Jadeja', 'Ankit Sharma',\n",
       "       'LH Ferguson', 'SN Thakur', 'KC Cariappa', 'MM Patel', 'AF Milne',\n",
       "       'JD Unadkat', 'NM Coulter-Nile', 'Mohammed Shami', 'AD Mathews',\n",
       "       'BB Sran', 'S Kaul', 'Mohammad Nabi', 'J Yadav', 'Mohammed Siraj',\n",
       "       'Yuvraj Singh', 'JP Faulkner', 'Shakib Al Hasan', 'K Rabada',\n",
       "       'MG Johnson', 'Washington Sundar', 'SS Agarwal', 'NB Singh',\n",
       "       'KV Sharma', 'RA Tripathi', 'Ankit Soni', 'Anureet Singh',\n",
       "       'IK Pathan', 'PJ Sangwan', 'MN Samuels', 'MJ Henry', 'R Tewatia',\n",
       "       'R Vinay Kumar', 'Avesh Khan', 'HV Patel', 'CJ Jordan',\n",
       "       'AA Noffke', 'JH Kallis', 'SB Joshi', 'CL White', 'AB Agarkar',\n",
       "       'SC Ganguly', 'LR Shukla', 'B Lee', 'S Sreesanth', 'JR Hopes',\n",
       "       'K Goel', 'WA Mota', 'JDP Oram', 'M Muralitharan', 'P Amarnath',\n",
       "       'Joginder Sharma', 'GD McGrath', 'B Geeves', 'MF Maharoof',\n",
       "       'DL Vettori', 'SK Trivedi', 'SK Warne', 'D Salunkhe', 'B Akhil',\n",
       "       'SM Pollock', 'ST Jayasuriya', 'AM Nayar', 'M Kartik',\n",
       "       'Mohammad Hafeez', 'DJ Hussey', 'WPUJC Vaas', 'RP Singh',\n",
       "       'SB Styris', 'SB Bangar', 'A Symonds', 'PP Ojha', 'Pankaj Singh',\n",
       "       'Mohammad Asif', 'VY Mahesh', 'Shahid Afridi', 'DJ Bravo',\n",
       "       'VS Yeligati', 'MA Khote', 'D Kalyankrishna', 'VRV Singh',\n",
       "       'Sohail Tanvir', 'A Kumble', 'DNT Zoysa', 'SD Chitnis',\n",
       "       'Shoaib Malik', 'DW Steyn', 'JA Morkel', 'CRD Fernando', 'V Kohli',\n",
       "       'V Sehwag', 'Gagandeep Singh', 'Y Venugopal Rao', 'Umar Gul',\n",
       "       'M Ntini', 'DP Vijaykumar', 'DB Ravi Teja', 'LPC Silva',\n",
       "       'DJ Thornely', 'RR Raje', 'S Vidyut', 'L Balaji', 'CK Kapugedera',\n",
       "       'AD Mascarenhas', 'Shoaib Akhtar', 'RR Powar', 'PM Sarvesh Kumar',\n",
       "       'Abdur Razzak', 'TM Dilshan', 'RG Sharma', 'A Nel', 'BAW Mendis',\n",
       "       'T Thushara', 'A Flintoff', 'Kamran Khan', 'T Henderson',\n",
       "       'JD Ryder', 'DP Nannes', 'AM Salvi', 'YA Abdulla', 'VS Malik',\n",
       "       'FH Edwards', 'Harmeet Singh', 'CH Gayle', 'KP Pietersen',\n",
       "       'LRPL Taylor', 'RS Bopara', 'MK Tiwary', 'RR Bose', 'KP Appanna',\n",
       "       'Shoaib Ahmed', 'BJ Hodge', 'SR Tendulkar', 'RE van der Merwe',\n",
       "       'JP Duminy', 'S Tyagi', 'GR Napier', 'SM Harwood', 'AS Raut',\n",
       "       'D du Preez', 'RJ Harris', 'TL Suman', 'A Singh', 'M Morkel',\n",
       "       'LA Carseldine', 'A Mithun', 'C Nanda', 'SS Sarkar', 'AM Rahane',\n",
       "       'J Botha', 'Mashrafe Mortaza', 'AB McDonald', 'Y Nagar',\n",
       "       'CK Langeveldt', 'R Ashwin', 'RA Shaikh', 'Jaskaran Singh',\n",
       "       'SW Tait', 'A Uniyal', 'AA Jhunjhunwala', 'R McLaren',\n",
       "       'AG Murtaza', 'R Sathish', 'RS Gavaskar', 'JM Kemp', 'S Ladda',\n",
       "       'SE Bond', 'S Narwal', 'SJ Srivastava', 'AC Voges', 'R Sharma',\n",
       "       'J Theron', 'NLTC Perera', 'KAJ Roach', 'PD Collingwood',\n",
       "       'C Ganapathy', 'MB Parmar', 'SB Wagh', 'DE Bollinger', 'AP Dole',\n",
       "       'AN Ahmed', 'FY Fazal', 'MR Marsh', 'L Ablish', 'S Sriram',\n",
       "       'AJ Finch', 'ND Doshi', 'S Randiv', 'AL Menaria', 'AUK Pathan',\n",
       "       'RV Gomez', 'JEC Franklin', 'AC Thomas', 'WD Parnell', 'M Manhas',\n",
       "       'NJ Rimmington', 'RN ten Doeschate', 'BA Bhatt', 'JJ van der Wath',\n",
       "       'R Ninan', 'PC Valthaty', 'S Dhawan', 'J Syed Mohammad',\n",
       "       'NL McCullum', 'JE Taylor', 'KMDN Kulasekara', 'P Parameswaran',\n",
       "       'I Malhotra', 'B Chipli', 'AA Kazi', 'Anand Rajan', 'P Prasanth',\n",
       "       'Y Gnaneswara Rao', 'AA Chavan', 'S Rana', 'SS Mundhe', 'RW Price',\n",
       "       'M de Lange', 'KK Cooper', 'DAJ Bracewell', 'DJ Harris',\n",
       "       'TP Sudhindra', 'F du Plessis', 'GB Hogg', 'RR Bhatkal', 'P Awana',\n",
       "       'V Pratap Singh', 'CJ McKay', 'AD Russell', 'A Ashish Reddy',\n",
       "       'Azhar Mahmood', 'A Chandila', 'LJ Wright', 'RJ Peterson',\n",
       "       'R Shukla', 'MJ Clarke', 'BW Hilfenhaus', 'SPD Smith',\n",
       "       'K Upadhyay', 'Sunny Gupta', 'B Laughlin', 'GH Vihari',\n",
       "       'BMAJ Mendis', 'Harmeet Singh (2)', 'R Dhawan', 'R Rampaul',\n",
       "       'SMSM Senanayake', 'JO Holder', 'IC Pandey', 'DJG Sammy',\n",
       "       'KW Richardson', 'P Suyal', 'PV Tambe', 'BJ Rohrer',\n",
       "       'Parvez Rasool', 'MG Neser', 'AC Gilchrist', 'MA Starc',\n",
       "       'JDS Neesham', 'M Vijay', 'SA Yadav', 'Shivam Sharma', 'V Shankar',\n",
       "       'LMP Simmons', 'K Santokie', 'S Gopal', 'BE Hendricks',\n",
       "       'JW Hastings', 'Karanveer Singh', 'DJ Muthuswami', 'SA Abbott',\n",
       "       'J Suchith', 'RG More', 'D Wiese', 'GS Sandhu', 'Gurkeerat Singh',\n",
       "       'M Ashwin', 'C Munro', 'P Sahu', 'KJ Abbott', 'T Shamsi',\n",
       "       'SM Boland', 'Sachin Baby', 'N Rana', 'KS Williamson'],\n",
       "      dtype=object)"
      ]
     },
     "execution_count": 8,
     "metadata": {},
     "output_type": "execute_result"
    }
   ],
   "source": [
    "\n",
    "df['bowler'].unique()"
   ]
  },
  {
   "cell_type": "code",
   "execution_count": 26,
   "metadata": {},
   "outputs": [
    {
     "data": {
      "text/html": [
       "<div>\n",
       "<style scoped>\n",
       "    .dataframe tbody tr th:only-of-type {\n",
       "        vertical-align: middle;\n",
       "    }\n",
       "\n",
       "    .dataframe tbody tr th {\n",
       "        vertical-align: top;\n",
       "    }\n",
       "\n",
       "    .dataframe thead th {\n",
       "        text-align: right;\n",
       "    }\n",
       "</style>\n",
       "<table border=\"1\" class=\"dataframe\">\n",
       "  <thead>\n",
       "    <tr style=\"text-align: right;\">\n",
       "      <th></th>\n",
       "      <th>0</th>\n",
       "    </tr>\n",
       "  </thead>\n",
       "  <tbody>\n",
       "    <tr>\n",
       "      <td>0</td>\n",
       "      <td>TS Mills</td>\n",
       "    </tr>\n",
       "    <tr>\n",
       "      <td>1</td>\n",
       "      <td>A Choudhary</td>\n",
       "    </tr>\n",
       "    <tr>\n",
       "      <td>2</td>\n",
       "      <td>YS Chahal</td>\n",
       "    </tr>\n",
       "    <tr>\n",
       "      <td>3</td>\n",
       "      <td>S Aravind</td>\n",
       "    </tr>\n",
       "    <tr>\n",
       "      <td>4</td>\n",
       "      <td>SR Watson</td>\n",
       "    </tr>\n",
       "    <tr>\n",
       "      <td>...</td>\n",
       "      <td>...</td>\n",
       "    </tr>\n",
       "    <tr>\n",
       "      <td>351</td>\n",
       "      <td>T Shamsi</td>\n",
       "    </tr>\n",
       "    <tr>\n",
       "      <td>352</td>\n",
       "      <td>SM Boland</td>\n",
       "    </tr>\n",
       "    <tr>\n",
       "      <td>353</td>\n",
       "      <td>Sachin Baby</td>\n",
       "    </tr>\n",
       "    <tr>\n",
       "      <td>354</td>\n",
       "      <td>N Rana</td>\n",
       "    </tr>\n",
       "    <tr>\n",
       "      <td>355</td>\n",
       "      <td>KS Williamson</td>\n",
       "    </tr>\n",
       "  </tbody>\n",
       "</table>\n",
       "<p>356 rows × 1 columns</p>\n",
       "</div>"
      ],
      "text/plain": [
       "                 0\n",
       "0         TS Mills\n",
       "1      A Choudhary\n",
       "2        YS Chahal\n",
       "3        S Aravind\n",
       "4        SR Watson\n",
       "..             ...\n",
       "351       T Shamsi\n",
       "352      SM Boland\n",
       "353    Sachin Baby\n",
       "354         N Rana\n",
       "355  KS Williamson\n",
       "\n",
       "[356 rows x 1 columns]"
      ]
     },
     "execution_count": 26,
     "metadata": {},
     "output_type": "execute_result"
    }
   ],
   "source": [
    "bowler_list=list(df['bowler'].unique())\n",
    "df_bowler=pd.DataFrame(bowler_list)\n",
    "df_bowler"
   ]
  },
  {
   "cell_type": "code",
   "execution_count": 57,
   "metadata": {},
   "outputs": [
    {
     "data": {
      "text/plain": [
       "5"
      ]
     },
     "execution_count": 57,
     "metadata": {},
     "output_type": "execute_result"
    }
   ],
   "source": [
    "#len(df[df['bowler']=='TS Mills']['player_dismissed'].value_counts())"
   ]
  },
  {
   "cell_type": "code",
   "execution_count": null,
   "metadata": {},
   "outputs": [],
   "source": [
    "#or bowler in bowler_list:\n",
    "   # df_bowler['wickets']=len(df[df['bowler']==bowler]['player_dismissed'].value_counts())\n",
    "#df_bowler"
   ]
  },
  {
   "cell_type": "code",
   "execution_count": null,
   "metadata": {},
   "outputs": [],
   "source": [
    "#df_bowler.columns=['bowler_name','wickets']\n",
    "#df_bowler"
   ]
  },
  {
   "cell_type": "code",
   "execution_count": 27,
   "metadata": {},
   "outputs": [
    {
     "data": {
      "text/plain": [
       "[5,\n",
       " 5,\n",
       " 53,\n",
       " 40,\n",
       " 75,\n",
       " 3,\n",
       " 26,\n",
       " 87,\n",
       " 81,\n",
       " 9,\n",
       " 17,\n",
       " 6,\n",
       " 36,\n",
       " 17,\n",
       " 64,\n",
       " 1,\n",
       " 14,\n",
       " 40,\n",
       " 17,\n",
       " 67,\n",
       " 24,\n",
       " 10,\n",
       " 45,\n",
       " 40,\n",
       " 13,\n",
       " 52,\n",
       " 16,\n",
       " 88,\n",
       " 76,\n",
       " 18,\n",
       " 17,\n",
       " 36,\n",
       " 74,\n",
       " 62,\n",
       " 34,\n",
       " 6,\n",
       " 26,\n",
       " 40,\n",
       " 50,\n",
       " 66,\n",
       " 48,\n",
       " 2,\n",
       " 11,\n",
       " 1,\n",
       " 31,\n",
       " 2,\n",
       " 77,\n",
       " 48,\n",
       " 18,\n",
       " 32,\n",
       " 98,\n",
       " 10,\n",
       " 2,\n",
       " 41,\n",
       " 29,\n",
       " 27,\n",
       " 0,\n",
       " 15,\n",
       " 114,\n",
       " 88,\n",
       " 8,\n",
       " 36,\n",
       " 8,\n",
       " 16,\n",
       " 74,\n",
       " 4,\n",
       " 48,\n",
       " 12,\n",
       " 10,\n",
       " 12,\n",
       " 67,\n",
       " 11,\n",
       " 5,\n",
       " 14,\n",
       " 8,\n",
       " 64,\n",
       " 5,\n",
       " 52,\n",
       " 34,\n",
       " 25,\n",
       " 23,\n",
       " 12,\n",
       " 23,\n",
       " 2,\n",
       " 4,\n",
       " 9,\n",
       " 31,\n",
       " 55,\n",
       " 40,\n",
       " 8,\n",
       " 49,\n",
       " 9,\n",
       " 1,\n",
       " 1,\n",
       " 45,\n",
       " 0,\n",
       " 4,\n",
       " 19,\n",
       " 70,\n",
       " 33,\n",
       " 9,\n",
       " 2,\n",
       " 8,\n",
       " 83,\n",
       " 1,\n",
       " 32,\n",
       " 11,\n",
       " 1,\n",
       " 56,\n",
       " 1,\n",
       " 1,\n",
       " 32,\n",
       " 11,\n",
       " 17,\n",
       " 27,\n",
       " 35,\n",
       " 14,\n",
       " 0,\n",
       " 3,\n",
       " 13,\n",
       " 53,\n",
       " 7,\n",
       " 12,\n",
       " 13,\n",
       " 2,\n",
       " 30,\n",
       " 27,\n",
       " 55,\n",
       " 50,\n",
       " 1,\n",
       " 7,\n",
       " 13,\n",
       " 15,\n",
       " 9,\n",
       " 35,\n",
       " 2,\n",
       " 10,\n",
       " 21,\n",
       " 72,\n",
       " 8,\n",
       " 6,\n",
       " 23,\n",
       " 67,\n",
       " 11,\n",
       " 9,\n",
       " 22,\n",
       " 9,\n",
       " 98,\n",
       " 0,\n",
       " 2,\n",
       " 2,\n",
       " 15,\n",
       " 21,\n",
       " 39,\n",
       " 2,\n",
       " 2,\n",
       " 2,\n",
       " 81,\n",
       " 69,\n",
       " 19,\n",
       " 5,\n",
       " 6,\n",
       " 3,\n",
       " 7,\n",
       " 13,\n",
       " 8,\n",
       " 4,\n",
       " 1,\n",
       " 0,\n",
       " 3,\n",
       " 6,\n",
       " 1,\n",
       " 67,\n",
       " 0,\n",
       " 15,\n",
       " 5,\n",
       " 13,\n",
       " 1,\n",
       " 0,\n",
       " 5,\n",
       " 16,\n",
       " 1,\n",
       " 9,\n",
       " 10,\n",
       " 2,\n",
       " 13,\n",
       " 1,\n",
       " 11,\n",
       " 34,\n",
       " 7,\n",
       " 15,\n",
       " 6,\n",
       " 6,\n",
       " 27,\n",
       " 19,\n",
       " 9,\n",
       " 0,\n",
       " 13,\n",
       " 1,\n",
       " 0,\n",
       " 11,\n",
       " 5,\n",
       " 17,\n",
       " 0,\n",
       " 22,\n",
       " 18,\n",
       " 6,\n",
       " 1,\n",
       " 3,\n",
       " 0,\n",
       " 4,\n",
       " 41,\n",
       " 6,\n",
       " 27,\n",
       " 67,\n",
       " 1,\n",
       " 8,\n",
       " 2,\n",
       " 1,\n",
       " 1,\n",
       " 25,\n",
       " 1,\n",
       " 13,\n",
       " 4,\n",
       " 13,\n",
       " 73,\n",
       " 0,\n",
       " 6,\n",
       " 25,\n",
       " 3,\n",
       " 1,\n",
       " 14,\n",
       " 9,\n",
       " 6,\n",
       " 0,\n",
       " 3,\n",
       " 5,\n",
       " 9,\n",
       " 6,\n",
       " 14,\n",
       " 1,\n",
       " 35,\n",
       " 11,\n",
       " 31,\n",
       " 0,\n",
       " 5,\n",
       " 0,\n",
       " 0,\n",
       " 5,\n",
       " 40,\n",
       " 5,\n",
       " 15,\n",
       " 1,\n",
       " 18,\n",
       " 5,\n",
       " 0,\n",
       " 1,\n",
       " 2,\n",
       " 8,\n",
       " 3,\n",
       " 0,\n",
       " 6,\n",
       " 9,\n",
       " 15,\n",
       " 28,\n",
       " 0,\n",
       " 0,\n",
       " 3,\n",
       " 12,\n",
       " 3,\n",
       " 3,\n",
       " 7,\n",
       " 4,\n",
       " 10,\n",
       " 0,\n",
       " 6,\n",
       " 5,\n",
       " 8,\n",
       " 0,\n",
       " 0,\n",
       " 1,\n",
       " 9,\n",
       " 0,\n",
       " 0,\n",
       " 8,\n",
       " 0,\n",
       " 1,\n",
       " 0,\n",
       " 6,\n",
       " 30,\n",
       " 3,\n",
       " 0,\n",
       " 1,\n",
       " 0,\n",
       " 21,\n",
       " 0,\n",
       " 36,\n",
       " 12,\n",
       " 1,\n",
       " 31,\n",
       " 16,\n",
       " 29,\n",
       " 11,\n",
       " 2,\n",
       " 3,\n",
       " 7,\n",
       " 3,\n",
       " 19,\n",
       " 0,\n",
       " 0,\n",
       " 0,\n",
       " 1,\n",
       " 1,\n",
       " 1,\n",
       " 1,\n",
       " 18,\n",
       " 15,\n",
       " 9,\n",
       " 8,\n",
       " 15,\n",
       " 14,\n",
       " 19,\n",
       " 2,\n",
       " 27,\n",
       " 0,\n",
       " 3,\n",
       " 0,\n",
       " 1,\n",
       " 35,\n",
       " 1,\n",
       " 0,\n",
       " 0,\n",
       " 4,\n",
       " 0,\n",
       " 1,\n",
       " 3,\n",
       " 7,\n",
       " 10,\n",
       " 3,\n",
       " 12,\n",
       " 4,\n",
       " 0,\n",
       " 8,\n",
       " 1,\n",
       " 17,\n",
       " 1,\n",
       " 5,\n",
       " 7,\n",
       " 0,\n",
       " 3,\n",
       " 2,\n",
       " 3,\n",
       " 3,\n",
       " 3,\n",
       " 0,\n",
       " 0]"
      ]
     },
     "execution_count": 27,
     "metadata": {},
     "output_type": "execute_result"
    }
   ],
   "source": [
    "wickets=[]\n",
    "for bowler in bowler_list:\n",
    "   wickets.append(len(df[df['bowler']==bowler]['player_dismissed'].value_counts()))\n",
    "wickets\n"
   ]
  },
  {
   "cell_type": "code",
   "execution_count": 28,
   "metadata": {},
   "outputs": [
    {
     "data": {
      "text/html": [
       "<div>\n",
       "<style scoped>\n",
       "    .dataframe tbody tr th:only-of-type {\n",
       "        vertical-align: middle;\n",
       "    }\n",
       "\n",
       "    .dataframe tbody tr th {\n",
       "        vertical-align: top;\n",
       "    }\n",
       "\n",
       "    .dataframe thead th {\n",
       "        text-align: right;\n",
       "    }\n",
       "</style>\n",
       "<table border=\"1\" class=\"dataframe\">\n",
       "  <thead>\n",
       "    <tr style=\"text-align: right;\">\n",
       "      <th></th>\n",
       "      <th>0</th>\n",
       "      <th>wickets</th>\n",
       "    </tr>\n",
       "  </thead>\n",
       "  <tbody>\n",
       "    <tr>\n",
       "      <td>0</td>\n",
       "      <td>TS Mills</td>\n",
       "      <td>5</td>\n",
       "    </tr>\n",
       "    <tr>\n",
       "      <td>1</td>\n",
       "      <td>A Choudhary</td>\n",
       "      <td>5</td>\n",
       "    </tr>\n",
       "    <tr>\n",
       "      <td>2</td>\n",
       "      <td>YS Chahal</td>\n",
       "      <td>53</td>\n",
       "    </tr>\n",
       "    <tr>\n",
       "      <td>3</td>\n",
       "      <td>S Aravind</td>\n",
       "      <td>40</td>\n",
       "    </tr>\n",
       "    <tr>\n",
       "      <td>4</td>\n",
       "      <td>SR Watson</td>\n",
       "      <td>75</td>\n",
       "    </tr>\n",
       "    <tr>\n",
       "      <td>...</td>\n",
       "      <td>...</td>\n",
       "      <td>...</td>\n",
       "    </tr>\n",
       "    <tr>\n",
       "      <td>351</td>\n",
       "      <td>T Shamsi</td>\n",
       "      <td>3</td>\n",
       "    </tr>\n",
       "    <tr>\n",
       "      <td>352</td>\n",
       "      <td>SM Boland</td>\n",
       "      <td>3</td>\n",
       "    </tr>\n",
       "    <tr>\n",
       "      <td>353</td>\n",
       "      <td>Sachin Baby</td>\n",
       "      <td>3</td>\n",
       "    </tr>\n",
       "    <tr>\n",
       "      <td>354</td>\n",
       "      <td>N Rana</td>\n",
       "      <td>0</td>\n",
       "    </tr>\n",
       "    <tr>\n",
       "      <td>355</td>\n",
       "      <td>KS Williamson</td>\n",
       "      <td>0</td>\n",
       "    </tr>\n",
       "  </tbody>\n",
       "</table>\n",
       "<p>356 rows × 2 columns</p>\n",
       "</div>"
      ],
      "text/plain": [
       "                 0  wickets\n",
       "0         TS Mills        5\n",
       "1      A Choudhary        5\n",
       "2        YS Chahal       53\n",
       "3        S Aravind       40\n",
       "4        SR Watson       75\n",
       "..             ...      ...\n",
       "351       T Shamsi        3\n",
       "352      SM Boland        3\n",
       "353    Sachin Baby        3\n",
       "354         N Rana        0\n",
       "355  KS Williamson        0\n",
       "\n",
       "[356 rows x 2 columns]"
      ]
     },
     "execution_count": 28,
     "metadata": {},
     "output_type": "execute_result"
    }
   ],
   "source": [
    "#append wicket col to dataframe\n",
    "df_bowler['wickets']=wickets\n",
    "df_bowler"
   ]
  },
  {
   "cell_type": "code",
   "execution_count": 29,
   "metadata": {},
   "outputs": [
    {
     "data": {
      "text/html": [
       "<div>\n",
       "<style scoped>\n",
       "    .dataframe tbody tr th:only-of-type {\n",
       "        vertical-align: middle;\n",
       "    }\n",
       "\n",
       "    .dataframe tbody tr th {\n",
       "        vertical-align: top;\n",
       "    }\n",
       "\n",
       "    .dataframe thead th {\n",
       "        text-align: right;\n",
       "    }\n",
       "</style>\n",
       "<table border=\"1\" class=\"dataframe\">\n",
       "  <thead>\n",
       "    <tr style=\"text-align: right;\">\n",
       "      <th></th>\n",
       "      <th>bowler_name</th>\n",
       "      <th>wickets</th>\n",
       "    </tr>\n",
       "  </thead>\n",
       "  <tbody>\n",
       "    <tr>\n",
       "      <td>0</td>\n",
       "      <td>TS Mills</td>\n",
       "      <td>5</td>\n",
       "    </tr>\n",
       "    <tr>\n",
       "      <td>1</td>\n",
       "      <td>A Choudhary</td>\n",
       "      <td>5</td>\n",
       "    </tr>\n",
       "    <tr>\n",
       "      <td>2</td>\n",
       "      <td>YS Chahal</td>\n",
       "      <td>53</td>\n",
       "    </tr>\n",
       "    <tr>\n",
       "      <td>3</td>\n",
       "      <td>S Aravind</td>\n",
       "      <td>40</td>\n",
       "    </tr>\n",
       "    <tr>\n",
       "      <td>4</td>\n",
       "      <td>SR Watson</td>\n",
       "      <td>75</td>\n",
       "    </tr>\n",
       "    <tr>\n",
       "      <td>...</td>\n",
       "      <td>...</td>\n",
       "      <td>...</td>\n",
       "    </tr>\n",
       "    <tr>\n",
       "      <td>351</td>\n",
       "      <td>T Shamsi</td>\n",
       "      <td>3</td>\n",
       "    </tr>\n",
       "    <tr>\n",
       "      <td>352</td>\n",
       "      <td>SM Boland</td>\n",
       "      <td>3</td>\n",
       "    </tr>\n",
       "    <tr>\n",
       "      <td>353</td>\n",
       "      <td>Sachin Baby</td>\n",
       "      <td>3</td>\n",
       "    </tr>\n",
       "    <tr>\n",
       "      <td>354</td>\n",
       "      <td>N Rana</td>\n",
       "      <td>0</td>\n",
       "    </tr>\n",
       "    <tr>\n",
       "      <td>355</td>\n",
       "      <td>KS Williamson</td>\n",
       "      <td>0</td>\n",
       "    </tr>\n",
       "  </tbody>\n",
       "</table>\n",
       "<p>356 rows × 2 columns</p>\n",
       "</div>"
      ],
      "text/plain": [
       "       bowler_name  wickets\n",
       "0         TS Mills        5\n",
       "1      A Choudhary        5\n",
       "2        YS Chahal       53\n",
       "3        S Aravind       40\n",
       "4        SR Watson       75\n",
       "..             ...      ...\n",
       "351       T Shamsi        3\n",
       "352      SM Boland        3\n",
       "353    Sachin Baby        3\n",
       "354         N Rana        0\n",
       "355  KS Williamson        0\n",
       "\n",
       "[356 rows x 2 columns]"
      ]
     },
     "execution_count": 29,
     "metadata": {},
     "output_type": "execute_result"
    }
   ],
   "source": [
    "df_bowler.columns=['bowler_name','wickets']\n",
    "df_bowler"
   ]
  },
  {
   "cell_type": "code",
   "execution_count": 30,
   "metadata": {},
   "outputs": [],
   "source": [
    "df_bowler.set_index('bowler_name',inplace=True)\n"
   ]
  },
  {
   "cell_type": "code",
   "execution_count": 89,
   "metadata": {},
   "outputs": [
    {
     "data": {
      "text/html": [
       "<div>\n",
       "<style scoped>\n",
       "    .dataframe tbody tr th:only-of-type {\n",
       "        vertical-align: middle;\n",
       "    }\n",
       "\n",
       "    .dataframe tbody tr th {\n",
       "        vertical-align: top;\n",
       "    }\n",
       "\n",
       "    .dataframe thead th {\n",
       "        text-align: right;\n",
       "    }\n",
       "</style>\n",
       "<table border=\"1\" class=\"dataframe\">\n",
       "  <thead>\n",
       "    <tr style=\"text-align: right;\">\n",
       "      <th></th>\n",
       "      <th>wickets</th>\n",
       "    </tr>\n",
       "    <tr>\n",
       "      <th>bowler_name</th>\n",
       "      <th></th>\n",
       "    </tr>\n",
       "  </thead>\n",
       "  <tbody>\n",
       "    <tr>\n",
       "      <td>TS Mills</td>\n",
       "      <td>5</td>\n",
       "    </tr>\n",
       "    <tr>\n",
       "      <td>A Choudhary</td>\n",
       "      <td>5</td>\n",
       "    </tr>\n",
       "    <tr>\n",
       "      <td>YS Chahal</td>\n",
       "      <td>53</td>\n",
       "    </tr>\n",
       "    <tr>\n",
       "      <td>S Aravind</td>\n",
       "      <td>40</td>\n",
       "    </tr>\n",
       "    <tr>\n",
       "      <td>SR Watson</td>\n",
       "      <td>75</td>\n",
       "    </tr>\n",
       "    <tr>\n",
       "      <td>...</td>\n",
       "      <td>...</td>\n",
       "    </tr>\n",
       "    <tr>\n",
       "      <td>T Shamsi</td>\n",
       "      <td>3</td>\n",
       "    </tr>\n",
       "    <tr>\n",
       "      <td>SM Boland</td>\n",
       "      <td>3</td>\n",
       "    </tr>\n",
       "    <tr>\n",
       "      <td>Sachin Baby</td>\n",
       "      <td>3</td>\n",
       "    </tr>\n",
       "    <tr>\n",
       "      <td>N Rana</td>\n",
       "      <td>0</td>\n",
       "    </tr>\n",
       "    <tr>\n",
       "      <td>KS Williamson</td>\n",
       "      <td>0</td>\n",
       "    </tr>\n",
       "  </tbody>\n",
       "</table>\n",
       "<p>356 rows × 1 columns</p>\n",
       "</div>"
      ],
      "text/plain": [
       "               wickets\n",
       "bowler_name           \n",
       "TS Mills             5\n",
       "A Choudhary          5\n",
       "YS Chahal           53\n",
       "S Aravind           40\n",
       "SR Watson           75\n",
       "...                ...\n",
       "T Shamsi             3\n",
       "SM Boland            3\n",
       "Sachin Baby          3\n",
       "N Rana               0\n",
       "KS Williamson        0\n",
       "\n",
       "[356 rows x 1 columns]"
      ]
     },
     "execution_count": 89,
     "metadata": {},
     "output_type": "execute_result"
    }
   ],
   "source": [
    "df_bowler"
   ]
  },
  {
   "cell_type": "markdown",
   "metadata": {},
   "source": [
    "# Top 10 Wickets Takers\n"
   ]
  },
  {
   "cell_type": "code",
   "execution_count": 31,
   "metadata": {},
   "outputs": [
    {
     "data": {
      "image/png": "[encoded data removed]",
      "text/plain": [
       "<Figure size 432x288 with 1 Axes>"
      ]
     },
     "metadata": {
      "needs_background": "light"
     },
     "output_type": "display_data"
    }
   ],
   "source": [
    "\n",
    "df_bowler['wickets'].sort_values(ascending=False).nlargest(10).plot.bar()\n",
    "plt.xlabel('bowler_name')\n",
    "plt.ylabel('wickets_taken')\n",
    "plt.title('Total wickets in IPL')\n",
    "plt.show()"
   ]
  },
  {
   "cell_type": "markdown",
   "metadata": {},
   "source": [
    "# how many times TS mills Bowled yuvraj singh"
   ]
  },
  {
   "cell_type": "code",
   "execution_count": 268,
   "metadata": {},
   "outputs": [
    {
     "data": {
      "text/plain": [
       "1"
      ]
     },
     "execution_count": 268,
     "metadata": {},
     "output_type": "execute_result"
    }
   ],
   "source": [
    "\n",
    "df_bowler=df[df['bowler']=='TS Mills']\n",
    "len(df_bowler[df_bowler['player_dismissed']=='Yuvraj Singh'])"
   ]
  },
  {
   "cell_type": "markdown",
   "metadata": {},
   "source": [
    "# #create a func that will count how many times bowler bowled batsman"
   ]
  },
  {
   "cell_type": "code",
   "execution_count": 272,
   "metadata": {},
   "outputs": [],
   "source": [
    "\n",
    "def count_freq(bowler_name,batsman_name):    \n",
    "    df_bowler=df[df['bowler']==bowler_name]\n",
    "    return len(df_bowler[df_bowler['player_dismissed']==batsman_name])"
   ]
  },
  {
   "cell_type": "code",
   "execution_count": 273,
   "metadata": {},
   "outputs": [
    {
     "data": {
      "text/plain": [
       "1"
      ]
     },
     "execution_count": 273,
     "metadata": {},
     "output_type": "execute_result"
    }
   ],
   "source": [
    "count_freq('TS Mills','Yuvraj Singh')"
   ]
  },
  {
   "cell_type": "markdown",
   "metadata": {},
   "source": [
    "# create a func that counts all no ball by a  bowler"
   ]
  },
  {
   "cell_type": "code",
   "execution_count": 278,
   "metadata": {},
   "outputs": [],
   "source": [
    "\n",
    "def all_noball_runs(player_name):\n",
    "    df_bowler=df[df['bowler']==player_name]\n",
    "    filt=df_bowler['noball_runs']==0\n",
    "    return (df_bowler[~filt]['noball_runs'].sum())"
   ]
  },
  {
   "cell_type": "code",
   "execution_count": 279,
   "metadata": {},
   "outputs": [
    {
     "data": {
      "text/plain": [
       "0"
      ]
     },
     "execution_count": 279,
     "metadata": {},
     "output_type": "execute_result"
    }
   ],
   "source": [
    "all_noball_runs('TS Mills')"
   ]
  },
  {
   "cell_type": "code",
   "execution_count": 281,
   "metadata": {},
   "outputs": [
    {
     "data": {
      "text/plain": [
       "9"
      ]
     },
     "execution_count": 281,
     "metadata": {},
     "output_type": "execute_result"
    }
   ],
   "source": [
    "all_noball_runs('A Nehra')"
   ]
  },
  {
   "cell_type": "markdown",
   "metadata": {},
   "source": [
    "# most catches taken by "
   ]
  },
  {
   "cell_type": "code",
   "execution_count": 282,
   "metadata": {},
   "outputs": [
    {
     "data": {
      "text/plain": [
       "KD Karthik          127\n",
       "MS Dhoni            126\n",
       "RV Uthappa          115\n",
       "AB de Villiers      101\n",
       "SK Raina             96\n",
       "                   ... \n",
       "MA Agarwal (sub)      1\n",
       "JM Kemp               1\n",
       "JJ Roy                1\n",
       "JP Duminy (sub)       1\n",
       "Younis Khan           1\n",
       "Name: fielder, Length: 451, dtype: int64"
      ]
     },
     "execution_count": 282,
     "metadata": {},
     "output_type": "execute_result"
    }
   ],
   "source": [
    "\n",
    "df['fielder'].value_counts()"
   ]
  },
  {
   "cell_type": "markdown",
   "metadata": {},
   "source": [
    "# create a func that will count total catches taken by any player"
   ]
  },
  {
   "cell_type": "code",
   "execution_count": 286,
   "metadata": {},
   "outputs": [],
   "source": [
    "\n",
    "def catches(player_name):    \n",
    "    return len(df[df['fielder']==player_name])"
   ]
  },
  {
   "cell_type": "code",
   "execution_count": 287,
   "metadata": {},
   "outputs": [
    {
     "data": {
      "text/plain": [
       "126"
      ]
     },
     "execution_count": 287,
     "metadata": {},
     "output_type": "execute_result"
    }
   ],
   "source": [
    "catches('MS Dhoni')"
   ]
  },
  {
   "cell_type": "markdown",
   "metadata": {},
   "source": [
    "# which batsman scores highest runs"
   ]
  },
  {
   "cell_type": "code",
   "execution_count": 113,
   "metadata": {},
   "outputs": [
    {
     "data": {
      "text/html": [
       "<div>\n",
       "<style scoped>\n",
       "    .dataframe tbody tr th:only-of-type {\n",
       "        vertical-align: middle;\n",
       "    }\n",
       "\n",
       "    .dataframe tbody tr th {\n",
       "        vertical-align: top;\n",
       "    }\n",
       "\n",
       "    .dataframe thead th {\n",
       "        text-align: right;\n",
       "    }\n",
       "</style>\n",
       "<table border=\"1\" class=\"dataframe\">\n",
       "  <thead>\n",
       "    <tr style=\"text-align: right;\">\n",
       "      <th></th>\n",
       "      <th>0</th>\n",
       "    </tr>\n",
       "  </thead>\n",
       "  <tbody>\n",
       "    <tr>\n",
       "      <td>0</td>\n",
       "      <td>DA Warner</td>\n",
       "    </tr>\n",
       "    <tr>\n",
       "      <td>1</td>\n",
       "      <td>S Dhawan</td>\n",
       "    </tr>\n",
       "    <tr>\n",
       "      <td>2</td>\n",
       "      <td>MC Henriques</td>\n",
       "    </tr>\n",
       "    <tr>\n",
       "      <td>3</td>\n",
       "      <td>Yuvraj Singh</td>\n",
       "    </tr>\n",
       "    <tr>\n",
       "      <td>4</td>\n",
       "      <td>DJ Hooda</td>\n",
       "    </tr>\n",
       "    <tr>\n",
       "      <td>...</td>\n",
       "      <td>...</td>\n",
       "    </tr>\n",
       "    <tr>\n",
       "      <td>456</td>\n",
       "      <td>UT Khawaja</td>\n",
       "    </tr>\n",
       "    <tr>\n",
       "      <td>457</td>\n",
       "      <td>F Behardien</td>\n",
       "    </tr>\n",
       "    <tr>\n",
       "      <td>458</td>\n",
       "      <td>BB Sran</td>\n",
       "    </tr>\n",
       "    <tr>\n",
       "      <td>459</td>\n",
       "      <td>S Kaushik</td>\n",
       "    </tr>\n",
       "    <tr>\n",
       "      <td>460</td>\n",
       "      <td>ER Dwivedi</td>\n",
       "    </tr>\n",
       "  </tbody>\n",
       "</table>\n",
       "<p>461 rows × 1 columns</p>\n",
       "</div>"
      ],
      "text/plain": [
       "                0\n",
       "0       DA Warner\n",
       "1        S Dhawan\n",
       "2    MC Henriques\n",
       "3    Yuvraj Singh\n",
       "4        DJ Hooda\n",
       "..            ...\n",
       "456    UT Khawaja\n",
       "457   F Behardien\n",
       "458       BB Sran\n",
       "459     S Kaushik\n",
       "460    ER Dwivedi\n",
       "\n",
       "[461 rows x 1 columns]"
      ]
     },
     "execution_count": 113,
     "metadata": {},
     "output_type": "execute_result"
    }
   ],
   "source": [
    "\n",
    "batsman=list(df['batsman'].unique())\n",
    "batsman\n",
    "df_batsman=pd.DataFrame(batsman)\n",
    "df_batsman"
   ]
  },
  {
   "cell_type": "code",
   "execution_count": 111,
   "metadata": {},
   "outputs": [
    {
     "data": {
      "text/plain": [
       "[4213,\n",
       " 3754,\n",
       " 999,\n",
       " 2710,\n",
       " 386,\n",
       " 135,\n",
       " 3914,\n",
       " 1160,\n",
       " 214,\n",
       " 936,\n",
       " 2744,\n",
       " 145,\n",
       " 807,\n",
       " 64,\n",
       " 16,\n",
       " 9,\n",
       " 25,\n",
       " 2490,\n",
       " 554,\n",
       " 4334,\n",
       " 461,\n",
       " 2518,\n",
       " 501,\n",
       " 2494,\n",
       " 445,\n",
       " 57,\n",
       " 3191,\n",
       " 864,\n",
       " 1784,\n",
       " 324,\n",
       " 3728,\n",
       " 60,\n",
       " 2965,\n",
       " 4745,\n",
       " 1705,\n",
       " 3036,\n",
       " 4388,\n",
       " 410,\n",
       " 1728,\n",
       " 439,\n",
       " 600,\n",
       " 1008,\n",
       " 1624,\n",
       " 634,\n",
       " 1306,\n",
       " 1647,\n",
       " 19,\n",
       " 97,\n",
       " 379,\n",
       " 365,\n",
       " 240,\n",
       " 1205,\n",
       " 1466,\n",
       " 577,\n",
       " 456,\n",
       " 105,\n",
       " 80,\n",
       " 374,\n",
       " 33,\n",
       " 121,\n",
       " 2515,\n",
       " 97,\n",
       " 363,\n",
       " 32,\n",
       " 4004,\n",
       " 2333,\n",
       " 3066,\n",
       " 643,\n",
       " 46,\n",
       " 292,\n",
       " 856,\n",
       " 3621,\n",
       " 542,\n",
       " 1343,\n",
       " 411,\n",
       " 356,\n",
       " 14,\n",
       " 5,\n",
       " 30,\n",
       " 18,\n",
       " 1642,\n",
       " 105,\n",
       " 12,\n",
       " 164,\n",
       " 172,\n",
       " 115,\n",
       " 48,\n",
       " 4588,\n",
       " 64,\n",
       " 89,\n",
       " 7,\n",
       " 3,\n",
       " 1,\n",
       " 130,\n",
       " 190,\n",
       " 849,\n",
       " 907,\n",
       " 15,\n",
       " 29,\n",
       " 333,\n",
       " 6,\n",
       " 7,\n",
       " 15,\n",
       " 765,\n",
       " 49,\n",
       " 2,\n",
       " 48,\n",
       " 1826,\n",
       " 56,\n",
       " 437,\n",
       " 2612,\n",
       " 538,\n",
       " 554,\n",
       " 166,\n",
       " 60,\n",
       " 20,\n",
       " 55,\n",
       " 20,\n",
       " 99,\n",
       " 12,\n",
       " 343,\n",
       " 6,\n",
       " 12,\n",
       " 38,\n",
       " 194,\n",
       " 36,\n",
       " 1250,\n",
       " 9,\n",
       " 26,\n",
       " 95,\n",
       " 30,\n",
       " 9,\n",
       " 1127,\n",
       " 174,\n",
       " 12,\n",
       " 39,\n",
       " 40,\n",
       " 1356,\n",
       " 5,\n",
       " 4,\n",
       " 84,\n",
       " 548,\n",
       " 6,\n",
       " 1464,\n",
       " 104,\n",
       " 1384,\n",
       " 69,\n",
       " 2270,\n",
       " 139,\n",
       " 2567,\n",
       " 1000,\n",
       " 416,\n",
       " 80,\n",
       " 11,\n",
       " 8,\n",
       " 1205,\n",
       " 2064,\n",
       " 110,\n",
       " 1515,\n",
       " 234,\n",
       " 433,\n",
       " 1780,\n",
       " 254,\n",
       " 12,\n",
       " 280,\n",
       " 20,\n",
       " 59,\n",
       " 33,\n",
       " 210,\n",
       " 47,\n",
       " 2915,\n",
       " 37,\n",
       " 843,\n",
       " 53,\n",
       " 104,\n",
       " 722,\n",
       " 154,\n",
       " 27,\n",
       " 1084,\n",
       " 2215,\n",
       " 1051,\n",
       " 296,\n",
       " 1028,\n",
       " 139,\n",
       " 52,\n",
       " 53,\n",
       " 84,\n",
       " 59,\n",
       " 432,\n",
       " 1929,\n",
       " 400,\n",
       " 133,\n",
       " 63,\n",
       " 132,\n",
       " 82,\n",
       " 1335,\n",
       " 27,\n",
       " 49,\n",
       " 800,\n",
       " 7,\n",
       " 77,\n",
       " 44,\n",
       " 5,\n",
       " 331,\n",
       " 193,\n",
       " 119,\n",
       " 57,\n",
       " 181,\n",
       " 21,\n",
       " 8,\n",
       " 292,\n",
       " 178,\n",
       " 321,\n",
       " 955,\n",
       " 13,\n",
       " 4,\n",
       " 462,\n",
       " 40,\n",
       " 211,\n",
       " 1477,\n",
       " 44,\n",
       " 209,\n",
       " 156,\n",
       " 1026,\n",
       " 43,\n",
       " 401,\n",
       " 124,\n",
       " 207,\n",
       " 20,\n",
       " 3,\n",
       " 4,\n",
       " 36,\n",
       " 106,\n",
       " 22,\n",
       " 12,\n",
       " 13,\n",
       " 42,\n",
       " 164,\n",
       " 19,\n",
       " 58,\n",
       " 31,\n",
       " 25,\n",
       " 22,\n",
       " 251,\n",
       " 2537,\n",
       " 0,\n",
       " 1251,\n",
       " 81,\n",
       " 131,\n",
       " 330,\n",
       " 3,\n",
       " 1,\n",
       " 1,\n",
       " 3,\n",
       " 0,\n",
       " 2,\n",
       " 104,\n",
       " 4,\n",
       " 2,\n",
       " 41,\n",
       " 20,\n",
       " 68,\n",
       " 2083,\n",
       " 72,\n",
       " 13,\n",
       " 630,\n",
       " 1039,\n",
       " 12,\n",
       " 3,\n",
       " 557,\n",
       " 19,\n",
       " 4,\n",
       " 539,\n",
       " 114,\n",
       " 204,\n",
       " 49,\n",
       " 544,\n",
       " 78,\n",
       " 7,\n",
       " 3,\n",
       " 141,\n",
       " 175,\n",
       " 170,\n",
       " 701,\n",
       " 1,\n",
       " 15,\n",
       " 3,\n",
       " 87,\n",
       " 13,\n",
       " 2636,\n",
       " 29,\n",
       " 119,\n",
       " 10,\n",
       " 130,\n",
       " 424,\n",
       " 0,\n",
       " 2,\n",
       " 3,\n",
       " 692,\n",
       " 130,\n",
       " 309,\n",
       " 6,\n",
       " 244,\n",
       " 5,\n",
       " 421,\n",
       " 550,\n",
       " 66,\n",
       " 8,\n",
       " 288,\n",
       " 172,\n",
       " 235,\n",
       " 131,\n",
       " 4,\n",
       " 894,\n",
       " 1,\n",
       " 27,\n",
       " 3,\n",
       " 2,\n",
       " 1,\n",
       " 1,\n",
       " 4,\n",
       " 297,\n",
       " 21,\n",
       " 39,\n",
       " 44,\n",
       " 207,\n",
       " 190,\n",
       " 254,\n",
       " 11,\n",
       " 5,\n",
       " 71,\n",
       " 23,\n",
       " 64,\n",
       " 10,\n",
       " 213,\n",
       " 8,\n",
       " 9,\n",
       " 37,\n",
       " 35,\n",
       " 38,\n",
       " 4,\n",
       " 24,\n",
       " 39,\n",
       " 36,\n",
       " 22,\n",
       " 56,\n",
       " 234,\n",
       " 18,\n",
       " 60,\n",
       " 42,\n",
       " 327,\n",
       " 102,\n",
       " 44,\n",
       " 1,\n",
       " 416,\n",
       " 74,\n",
       " 19,\n",
       " 4,\n",
       " 23,\n",
       " 15,\n",
       " 2,\n",
       " 20,\n",
       " 342,\n",
       " 187,\n",
       " 2,\n",
       " 18,\n",
       " 461,\n",
       " 28,\n",
       " 4,\n",
       " 30,\n",
       " 338,\n",
       " 79,\n",
       " 10,\n",
       " 20,\n",
       " 77,\n",
       " 126,\n",
       " 7,\n",
       " 0,\n",
       " 27,\n",
       " 2,\n",
       " 101,\n",
       " 12,\n",
       " 0,\n",
       " 20,\n",
       " 96,\n",
       " 6,\n",
       " 89,\n",
       " 122,\n",
       " 52,\n",
       " 12,\n",
       " 119,\n",
       " 22,\n",
       " 0,\n",
       " 8,\n",
       " 145,\n",
       " 409,\n",
       " 37,\n",
       " 6,\n",
       " 288,\n",
       " 0,\n",
       " 132,\n",
       " 104,\n",
       " 362,\n",
       " 90,\n",
       " 172,\n",
       " 12,\n",
       " 5,\n",
       " 615,\n",
       " 4,\n",
       " 0,\n",
       " 138,\n",
       " 299,\n",
       " 15,\n",
       " 19,\n",
       " 4,\n",
       " 23,\n",
       " 56,\n",
       " 11,\n",
       " 205,\n",
       " 763,\n",
       " 768,\n",
       " 159,\n",
       " 110,\n",
       " 0,\n",
       " 199,\n",
       " 10,\n",
       " 317,\n",
       " 36,\n",
       " 9,\n",
       " 18,\n",
       " 20,\n",
       " 20,\n",
       " 45,\n",
       " 107,\n",
       " 44,\n",
       " 54,\n",
       " 5,\n",
       " 29,\n",
       " 1,\n",
       " 14,\n",
       " 1,\n",
       " 41,\n",
       " 12,\n",
       " 16,\n",
       " 51,\n",
       " 2,\n",
       " 136,\n",
       " 180,\n",
       " 1,\n",
       " 35,\n",
       " 19,\n",
       " 13,\n",
       " 0,\n",
       " 27,\n",
       " 6,\n",
       " 8,\n",
       " 134,\n",
       " 14,\n",
       " 5,\n",
       " 0,\n",
       " 29]"
      ]
     },
     "execution_count": 111,
     "metadata": {},
     "output_type": "execute_result"
    }
   ],
   "source": [
    "runs=[]\n",
    "for batsman in batsman:\n",
    "    runs.append(df[df['batsman']==batsman]['total_runs'].sum())\n",
    "runs                "
   ]
  },
  {
   "cell_type": "markdown",
   "metadata": {},
   "source": [
    "# append runs column to dataframe"
   ]
  },
  {
   "cell_type": "code",
   "execution_count": 116,
   "metadata": {},
   "outputs": [
    {
     "data": {
      "text/html": [
       "<div>\n",
       "<style scoped>\n",
       "    .dataframe tbody tr th:only-of-type {\n",
       "        vertical-align: middle;\n",
       "    }\n",
       "\n",
       "    .dataframe tbody tr th {\n",
       "        vertical-align: top;\n",
       "    }\n",
       "\n",
       "    .dataframe thead th {\n",
       "        text-align: right;\n",
       "    }\n",
       "</style>\n",
       "<table border=\"1\" class=\"dataframe\">\n",
       "  <thead>\n",
       "    <tr style=\"text-align: right;\">\n",
       "      <th></th>\n",
       "      <th>0</th>\n",
       "      <th>runs</th>\n",
       "    </tr>\n",
       "  </thead>\n",
       "  <tbody>\n",
       "    <tr>\n",
       "      <td>0</td>\n",
       "      <td>DA Warner</td>\n",
       "      <td>4213</td>\n",
       "    </tr>\n",
       "    <tr>\n",
       "      <td>1</td>\n",
       "      <td>S Dhawan</td>\n",
       "      <td>3754</td>\n",
       "    </tr>\n",
       "    <tr>\n",
       "      <td>2</td>\n",
       "      <td>MC Henriques</td>\n",
       "      <td>999</td>\n",
       "    </tr>\n",
       "    <tr>\n",
       "      <td>3</td>\n",
       "      <td>Yuvraj Singh</td>\n",
       "      <td>2710</td>\n",
       "    </tr>\n",
       "    <tr>\n",
       "      <td>4</td>\n",
       "      <td>DJ Hooda</td>\n",
       "      <td>386</td>\n",
       "    </tr>\n",
       "    <tr>\n",
       "      <td>...</td>\n",
       "      <td>...</td>\n",
       "      <td>...</td>\n",
       "    </tr>\n",
       "    <tr>\n",
       "      <td>456</td>\n",
       "      <td>UT Khawaja</td>\n",
       "      <td>134</td>\n",
       "    </tr>\n",
       "    <tr>\n",
       "      <td>457</td>\n",
       "      <td>F Behardien</td>\n",
       "      <td>14</td>\n",
       "    </tr>\n",
       "    <tr>\n",
       "      <td>458</td>\n",
       "      <td>BB Sran</td>\n",
       "      <td>5</td>\n",
       "    </tr>\n",
       "    <tr>\n",
       "      <td>459</td>\n",
       "      <td>S Kaushik</td>\n",
       "      <td>0</td>\n",
       "    </tr>\n",
       "    <tr>\n",
       "      <td>460</td>\n",
       "      <td>ER Dwivedi</td>\n",
       "      <td>29</td>\n",
       "    </tr>\n",
       "  </tbody>\n",
       "</table>\n",
       "<p>461 rows × 2 columns</p>\n",
       "</div>"
      ],
      "text/plain": [
       "                0  runs\n",
       "0       DA Warner  4213\n",
       "1        S Dhawan  3754\n",
       "2    MC Henriques   999\n",
       "3    Yuvraj Singh  2710\n",
       "4        DJ Hooda   386\n",
       "..            ...   ...\n",
       "456    UT Khawaja   134\n",
       "457   F Behardien    14\n",
       "458       BB Sran     5\n",
       "459     S Kaushik     0\n",
       "460    ER Dwivedi    29\n",
       "\n",
       "[461 rows x 2 columns]"
      ]
     },
     "execution_count": 116,
     "metadata": {},
     "output_type": "execute_result"
    }
   ],
   "source": [
    "\n",
    "df_batsman['runs']=runs\n",
    "df_batsman"
   ]
  },
  {
   "cell_type": "code",
   "execution_count": 117,
   "metadata": {},
   "outputs": [],
   "source": [
    "df_batsman.columns=['batsman_name','runs']"
   ]
  },
  {
   "cell_type": "code",
   "execution_count": 118,
   "metadata": {},
   "outputs": [
    {
     "data": {
      "text/html": [
       "<div>\n",
       "<style scoped>\n",
       "    .dataframe tbody tr th:only-of-type {\n",
       "        vertical-align: middle;\n",
       "    }\n",
       "\n",
       "    .dataframe tbody tr th {\n",
       "        vertical-align: top;\n",
       "    }\n",
       "\n",
       "    .dataframe thead th {\n",
       "        text-align: right;\n",
       "    }\n",
       "</style>\n",
       "<table border=\"1\" class=\"dataframe\">\n",
       "  <thead>\n",
       "    <tr style=\"text-align: right;\">\n",
       "      <th></th>\n",
       "      <th>batsman_name</th>\n",
       "      <th>runs</th>\n",
       "    </tr>\n",
       "  </thead>\n",
       "  <tbody>\n",
       "    <tr>\n",
       "      <td>0</td>\n",
       "      <td>DA Warner</td>\n",
       "      <td>4213</td>\n",
       "    </tr>\n",
       "    <tr>\n",
       "      <td>1</td>\n",
       "      <td>S Dhawan</td>\n",
       "      <td>3754</td>\n",
       "    </tr>\n",
       "    <tr>\n",
       "      <td>2</td>\n",
       "      <td>MC Henriques</td>\n",
       "      <td>999</td>\n",
       "    </tr>\n",
       "    <tr>\n",
       "      <td>3</td>\n",
       "      <td>Yuvraj Singh</td>\n",
       "      <td>2710</td>\n",
       "    </tr>\n",
       "    <tr>\n",
       "      <td>4</td>\n",
       "      <td>DJ Hooda</td>\n",
       "      <td>386</td>\n",
       "    </tr>\n",
       "    <tr>\n",
       "      <td>...</td>\n",
       "      <td>...</td>\n",
       "      <td>...</td>\n",
       "    </tr>\n",
       "    <tr>\n",
       "      <td>456</td>\n",
       "      <td>UT Khawaja</td>\n",
       "      <td>134</td>\n",
       "    </tr>\n",
       "    <tr>\n",
       "      <td>457</td>\n",
       "      <td>F Behardien</td>\n",
       "      <td>14</td>\n",
       "    </tr>\n",
       "    <tr>\n",
       "      <td>458</td>\n",
       "      <td>BB Sran</td>\n",
       "      <td>5</td>\n",
       "    </tr>\n",
       "    <tr>\n",
       "      <td>459</td>\n",
       "      <td>S Kaushik</td>\n",
       "      <td>0</td>\n",
       "    </tr>\n",
       "    <tr>\n",
       "      <td>460</td>\n",
       "      <td>ER Dwivedi</td>\n",
       "      <td>29</td>\n",
       "    </tr>\n",
       "  </tbody>\n",
       "</table>\n",
       "<p>461 rows × 2 columns</p>\n",
       "</div>"
      ],
      "text/plain": [
       "     batsman_name  runs\n",
       "0       DA Warner  4213\n",
       "1        S Dhawan  3754\n",
       "2    MC Henriques   999\n",
       "3    Yuvraj Singh  2710\n",
       "4        DJ Hooda   386\n",
       "..            ...   ...\n",
       "456    UT Khawaja   134\n",
       "457   F Behardien    14\n",
       "458       BB Sran     5\n",
       "459     S Kaushik     0\n",
       "460    ER Dwivedi    29\n",
       "\n",
       "[461 rows x 2 columns]"
      ]
     },
     "execution_count": 118,
     "metadata": {},
     "output_type": "execute_result"
    }
   ],
   "source": [
    "df_batsman"
   ]
  },
  {
   "cell_type": "code",
   "execution_count": 119,
   "metadata": {},
   "outputs": [],
   "source": [
    "df_batsman.set_index('batsman_name',inplace=True)"
   ]
  },
  {
   "cell_type": "code",
   "execution_count": 129,
   "metadata": {},
   "outputs": [
    {
     "data": {
      "image/png": "[encoded data removed]",
      "text/plain": [
       "<Figure size 432x288 with 1 Axes>"
      ]
     },
     "metadata": {
      "needs_background": "light"
     },
     "output_type": "display_data"
    }
   ],
   "source": [
    "df_batsman['runs'].sort_values(ascending=False).nlargest(10).plot.bar(width=0.3)\n",
    "plt.xlabel('player_name')\n",
    "plt.ylabel('runs')\n",
    "plt.title('Total runs in IPL')\n",
    "plt.show()\n"
   ]
  },
  {
   "cell_type": "code",
   "execution_count": null,
   "metadata": {},
   "outputs": [],
   "source": []
  }
 ],
 "metadata": {
  "kernelspec": {
   "display_name": "Python 3",
   "language": "python",
   "name": "python3"
  },
  "language_info": {
   "codemirror_mode": {
    "name": "ipython",
    "version": 3
   },
   "file_extension": ".py",
   "mimetype": "text/x-python",
   "name": "python",
   "nbconvert_exporter": "python",
   "pygments_lexer": "ipython3",
   "version": "3.7.4"
  }
 },
 "nbformat": 4,
 "nbformat_minor": 2
}
