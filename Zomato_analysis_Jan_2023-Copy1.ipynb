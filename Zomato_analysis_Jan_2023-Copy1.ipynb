{
 "cells": [
  {
   "cell_type": "code",
   "execution_count": null,
   "id": "88bb5f4a",
   "metadata": {},
   "outputs": [],
   "source": []
  },
  {
   "cell_type": "code",
   "execution_count": null,
   "id": "0cdbb6aa",
   "metadata": {},
   "outputs": [],
   "source": []
  },
  {
   "cell_type": "code",
   "execution_count": null,
   "id": "c4ea2120",
   "metadata": {},
   "outputs": [],
   "source": []
  },
  {
   "cell_type": "code",
   "execution_count": null,
   "id": "a7f347cd",
   "metadata": {},
   "outputs": [],
   "source": []
  },
  {
   "cell_type": "markdown",
   "id": "464e0e5b",
   "metadata": {},
   "source": [
    "## 1.. How to read data using sqlite3"
   ]
  },
  {
   "cell_type": "code",
   "execution_count": 1,
   "id": "3ab7c3a4",
   "metadata": {},
   "outputs": [],
   "source": [
    "import pandas as pd\n",
    "import numpy as np\n",
    "import matplotlib.pyplot as plt\n",
    "import seaborn as sns\n",
    "\n",
    "### so that u dont have warnings\n",
    "from warnings import filterwarnings\n",
    "filterwarnings('ignore')"
   ]
  },
  {
   "cell_type": "markdown",
   "id": "ba87a8bd",
   "metadata": {},
   "source": [
    "#### Columns description\n",
    "\n",
    "1. url contains the url of the restaurant in the zomato website\n",
    "\n",
    "2. address contains the address of the restaurant in Bengaluru\n",
    "\n",
    "3. name contains the name of the restaurant\n",
    "\n",
    "4. online_order whether online ordering is available in the restaurant or not\n",
    "\n",
    "5. book_table table book option available or not\n",
    "\n",
    "6. rate contains the overall rating of the restaurant out of 5\n",
    "\n",
    "7. votes contains total number of rating for the restaurant as of the above mentioned date\n",
    "\n",
    "8. phone contains the phone number of the restaurant\n",
    "\n",
    "9. location contains the neighborhood in which the restaurant is located\n",
    "\n",
    "10. rest_type restaurant type\n",
    "\n",
    "11. dish_liked dishes people liked in the restaurant\n",
    "\n",
    "12. cuisines food styles, separated by comma\n",
    "\n",
    "13. approx_cost(for two people) contains the approximate cost for meal for two people\n",
    "\n",
    "14. reviews_list list of tuples containing reviews for the restaurant, each tuple\n",
    "\n",
    "15. menu_item contains list of menus available in the restaurant\n",
    "\n",
    "16. listed_in(type) type of meal\n",
    "\n",
    "17. listed_in(city) contains the neighborhood in which the restaurant is listed"
   ]
  },
  {
   "cell_type": "code",
   "execution_count": 2,
   "id": "36a0bde1",
   "metadata": {},
   "outputs": [],
   "source": [
    "import sqlite3"
   ]
  },
  {
   "cell_type": "code",
   "execution_count": 3,
   "id": "d4a44916",
   "metadata": {},
   "outputs": [],
   "source": [
    "# very first u have to create a SQL connection to our SQLite database\n",
    "con = sqlite3.connect(r'G:\\Data Science projects\\EDA_Projects\\\n",
    "zomato-bangalore-restaurants\\Data_enginnering/zomato_rawdata.sqlite')"
   ]
  },
  {
   "cell_type": "code",
   "execution_count": 4,
   "id": "4785d7d7",
   "metadata": {},
   "outputs": [],
   "source": [
    "#### check online its table name on https://sqliteonline.com/"
   ]
  },
  {
   "cell_type": "code",
   "execution_count": 5,
   "id": "e475f956",
   "metadata": {},
   "outputs": [
    {
     "data": {
      "text/html": [
       "<div>\n",
       "<style scoped>\n",
       "    .dataframe tbody tr th:only-of-type {\n",
       "        vertical-align: middle;\n",
       "    }\n",
       "\n",
       "    .dataframe tbody tr th {\n",
       "        vertical-align: top;\n",
       "    }\n",
       "\n",
       "    .dataframe thead th {\n",
       "        text-align: right;\n",
       "    }\n",
       "</style>\n",
       "<table border=\"1\" class=\"dataframe\">\n",
       "  <thead>\n",
       "    <tr style=\"text-align: right;\">\n",
       "      <th></th>\n",
       "      <th>index</th>\n",
       "      <th>url</th>\n",
       "      <th>address</th>\n",
       "      <th>name</th>\n",
       "      <th>online_order</th>\n",
       "      <th>book_table</th>\n",
       "      <th>rate</th>\n",
       "      <th>votes</th>\n",
       "      <th>phone</th>\n",
       "      <th>location</th>\n",
       "      <th>rest_type</th>\n",
       "      <th>dish_liked</th>\n",
       "      <th>cuisines</th>\n",
       "      <th>approx_cost(for two people)</th>\n",
       "      <th>reviews_list</th>\n",
       "      <th>menu_item</th>\n",
       "      <th>listed_in(type)</th>\n",
       "      <th>listed_in(city)</th>\n",
       "    </tr>\n",
       "  </thead>\n",
       "  <tbody>\n",
       "    <tr>\n",
       "      <th>0</th>\n",
       "      <td>0</td>\n",
       "      <td>https://www.zomato.com/bangalore/jalsa-banasha...</td>\n",
       "      <td>942, 21st Main Road, 2nd Stage, Banashankari, ...</td>\n",
       "      <td>Jalsa</td>\n",
       "      <td>Yes</td>\n",
       "      <td>Yes</td>\n",
       "      <td>4.1/5</td>\n",
       "      <td>775</td>\n",
       "      <td>080 42297555\\r\\n+91 9743772233</td>\n",
       "      <td>Banashankari</td>\n",
       "      <td>Casual Dining</td>\n",
       "      <td>Pasta, Lunch Buffet, Masala Papad, Paneer Laja...</td>\n",
       "      <td>North Indian, Mughlai, Chinese</td>\n",
       "      <td>800</td>\n",
       "      <td>[('Rated 4.0', 'RATED\\n  A beautiful place to ...</td>\n",
       "      <td>[]</td>\n",
       "      <td>Buffet</td>\n",
       "      <td>Banashankari</td>\n",
       "    </tr>\n",
       "    <tr>\n",
       "      <th>1</th>\n",
       "      <td>1</td>\n",
       "      <td>https://www.zomato.com/bangalore/spice-elephan...</td>\n",
       "      <td>2nd Floor, 80 Feet Road, Near Big Bazaar, 6th ...</td>\n",
       "      <td>Spice Elephant</td>\n",
       "      <td>Yes</td>\n",
       "      <td>No</td>\n",
       "      <td>4.1/5</td>\n",
       "      <td>787</td>\n",
       "      <td>080 41714161</td>\n",
       "      <td>Banashankari</td>\n",
       "      <td>Casual Dining</td>\n",
       "      <td>Momos, Lunch Buffet, Chocolate Nirvana, Thai G...</td>\n",
       "      <td>Chinese, North Indian, Thai</td>\n",
       "      <td>800</td>\n",
       "      <td>[('Rated 4.0', 'RATED\\n  Had been here for din...</td>\n",
       "      <td>[]</td>\n",
       "      <td>Buffet</td>\n",
       "      <td>Banashankari</td>\n",
       "    </tr>\n",
       "  </tbody>\n",
       "</table>\n",
       "</div>"
      ],
      "text/plain": [
       "   index                                                url  \\\n",
       "0      0  https://www.zomato.com/bangalore/jalsa-banasha...   \n",
       "1      1  https://www.zomato.com/bangalore/spice-elephan...   \n",
       "\n",
       "                                             address            name  \\\n",
       "0  942, 21st Main Road, 2nd Stage, Banashankari, ...           Jalsa   \n",
       "1  2nd Floor, 80 Feet Road, Near Big Bazaar, 6th ...  Spice Elephant   \n",
       "\n",
       "  online_order book_table   rate  votes                           phone  \\\n",
       "0          Yes        Yes  4.1/5    775  080 42297555\\r\\n+91 9743772233   \n",
       "1          Yes         No  4.1/5    787                    080 41714161   \n",
       "\n",
       "       location      rest_type  \\\n",
       "0  Banashankari  Casual Dining   \n",
       "1  Banashankari  Casual Dining   \n",
       "\n",
       "                                          dish_liked  \\\n",
       "0  Pasta, Lunch Buffet, Masala Papad, Paneer Laja...   \n",
       "1  Momos, Lunch Buffet, Chocolate Nirvana, Thai G...   \n",
       "\n",
       "                         cuisines approx_cost(for two people)  \\\n",
       "0  North Indian, Mughlai, Chinese                         800   \n",
       "1     Chinese, North Indian, Thai                         800   \n",
       "\n",
       "                                        reviews_list menu_item  \\\n",
       "0  [('Rated 4.0', 'RATED\\n  A beautiful place to ...        []   \n",
       "1  [('Rated 4.0', 'RATED\\n  Had been here for din...        []   \n",
       "\n",
       "  listed_in(type) listed_in(city)  \n",
       "0          Buffet    Banashankari  \n",
       "1          Buffet    Banashankari  "
      ]
     },
     "execution_count": 5,
     "metadata": {},
     "output_type": "execute_result"
    }
   ],
   "source": [
    "## takes 40-50 sec\n",
    "\n",
    "pd.read_sql_query(\"SELECT * FROM Users\", con).head(2)"
   ]
  },
  {
   "cell_type": "markdown",
   "id": "fa7f957b",
   "metadata": {},
   "source": [
    "#### reading some n number of rows, use LIMIT over there"
   ]
  },
  {
   "cell_type": "code",
   "execution_count": 6,
   "id": "6e0d48f3",
   "metadata": {},
   "outputs": [
    {
     "data": {
      "text/html": [
       "<div>\n",
       "<style scoped>\n",
       "    .dataframe tbody tr th:only-of-type {\n",
       "        vertical-align: middle;\n",
       "    }\n",
       "\n",
       "    .dataframe tbody tr th {\n",
       "        vertical-align: top;\n",
       "    }\n",
       "\n",
       "    .dataframe thead th {\n",
       "        text-align: right;\n",
       "    }\n",
       "</style>\n",
       "<table border=\"1\" class=\"dataframe\">\n",
       "  <thead>\n",
       "    <tr style=\"text-align: right;\">\n",
       "      <th></th>\n",
       "      <th>index</th>\n",
       "      <th>url</th>\n",
       "      <th>address</th>\n",
       "      <th>name</th>\n",
       "      <th>online_order</th>\n",
       "      <th>book_table</th>\n",
       "      <th>rate</th>\n",
       "      <th>votes</th>\n",
       "      <th>phone</th>\n",
       "      <th>location</th>\n",
       "      <th>rest_type</th>\n",
       "      <th>dish_liked</th>\n",
       "      <th>cuisines</th>\n",
       "      <th>approx_cost(for two people)</th>\n",
       "      <th>reviews_list</th>\n",
       "      <th>menu_item</th>\n",
       "      <th>listed_in(type)</th>\n",
       "      <th>listed_in(city)</th>\n",
       "    </tr>\n",
       "  </thead>\n",
       "  <tbody>\n",
       "    <tr>\n",
       "      <th>0</th>\n",
       "      <td>0</td>\n",
       "      <td>https://www.zomato.com/bangalore/jalsa-banasha...</td>\n",
       "      <td>942, 21st Main Road, 2nd Stage, Banashankari, ...</td>\n",
       "      <td>Jalsa</td>\n",
       "      <td>Yes</td>\n",
       "      <td>Yes</td>\n",
       "      <td>4.1/5</td>\n",
       "      <td>775</td>\n",
       "      <td>080 42297555\\r\\n+91 9743772233</td>\n",
       "      <td>Banashankari</td>\n",
       "      <td>Casual Dining</td>\n",
       "      <td>Pasta, Lunch Buffet, Masala Papad, Paneer Laja...</td>\n",
       "      <td>North Indian, Mughlai, Chinese</td>\n",
       "      <td>800</td>\n",
       "      <td>[('Rated 4.0', 'RATED\\n  A beautiful place to ...</td>\n",
       "      <td>[]</td>\n",
       "      <td>Buffet</td>\n",
       "      <td>Banashankari</td>\n",
       "    </tr>\n",
       "    <tr>\n",
       "      <th>1</th>\n",
       "      <td>1</td>\n",
       "      <td>https://www.zomato.com/bangalore/spice-elephan...</td>\n",
       "      <td>2nd Floor, 80 Feet Road, Near Big Bazaar, 6th ...</td>\n",
       "      <td>Spice Elephant</td>\n",
       "      <td>Yes</td>\n",
       "      <td>No</td>\n",
       "      <td>4.1/5</td>\n",
       "      <td>787</td>\n",
       "      <td>080 41714161</td>\n",
       "      <td>Banashankari</td>\n",
       "      <td>Casual Dining</td>\n",
       "      <td>Momos, Lunch Buffet, Chocolate Nirvana, Thai G...</td>\n",
       "      <td>Chinese, North Indian, Thai</td>\n",
       "      <td>800</td>\n",
       "      <td>[('Rated 4.0', 'RATED\\n  Had been here for din...</td>\n",
       "      <td>[]</td>\n",
       "      <td>Buffet</td>\n",
       "      <td>Banashankari</td>\n",
       "    </tr>\n",
       "  </tbody>\n",
       "</table>\n",
       "</div>"
      ],
      "text/plain": [
       "   index                                                url  \\\n",
       "0      0  https://www.zomato.com/bangalore/jalsa-banasha...   \n",
       "1      1  https://www.zomato.com/bangalore/spice-elephan...   \n",
       "\n",
       "                                             address            name  \\\n",
       "0  942, 21st Main Road, 2nd Stage, Banashankari, ...           Jalsa   \n",
       "1  2nd Floor, 80 Feet Road, Near Big Bazaar, 6th ...  Spice Elephant   \n",
       "\n",
       "  online_order book_table   rate  votes                           phone  \\\n",
       "0          Yes        Yes  4.1/5    775  080 42297555\\r\\n+91 9743772233   \n",
       "1          Yes         No  4.1/5    787                    080 41714161   \n",
       "\n",
       "       location      rest_type  \\\n",
       "0  Banashankari  Casual Dining   \n",
       "1  Banashankari  Casual Dining   \n",
       "\n",
       "                                          dish_liked  \\\n",
       "0  Pasta, Lunch Buffet, Masala Papad, Paneer Laja...   \n",
       "1  Momos, Lunch Buffet, Chocolate Nirvana, Thai G...   \n",
       "\n",
       "                         cuisines approx_cost(for two people)  \\\n",
       "0  North Indian, Mughlai, Chinese                         800   \n",
       "1     Chinese, North Indian, Thai                         800   \n",
       "\n",
       "                                        reviews_list menu_item  \\\n",
       "0  [('Rated 4.0', 'RATED\\n  A beautiful place to ...        []   \n",
       "1  [('Rated 4.0', 'RATED\\n  Had been here for din...        []   \n",
       "\n",
       "  listed_in(type) listed_in(city)  \n",
       "0          Buffet    Banashankari  \n",
       "1          Buffet    Banashankari  "
      ]
     },
     "execution_count": 6,
     "metadata": {},
     "output_type": "execute_result"
    }
   ],
   "source": [
    "pd.read_sql_query(\"SELECT * FROM Users LIMIT 2\", con).head(2)\n",
    "\n",
    "#If we want to load huge amount of data into batches,we can use \n",
    "# chunksize parameter,by default it is None\n",
    "\n",
    "#Syntax is = pd.read_sql_query(query,engine,chunksize=None,parse_dates=None)"
   ]
  },
  {
   "cell_type": "code",
   "execution_count": 7,
   "id": "26a926ab",
   "metadata": {},
   "outputs": [],
   "source": [
    "## takes 40-50 sec\n",
    "\n",
    "df = pd.read_sql_query(\"SELECT * FROM Users \", con)"
   ]
  },
  {
   "cell_type": "code",
   "execution_count": 8,
   "id": "a39ee669",
   "metadata": {},
   "outputs": [
    {
     "data": {
      "text/plain": [
       "(51717, 18)"
      ]
     },
     "execution_count": 8,
     "metadata": {},
     "output_type": "execute_result"
    }
   ],
   "source": [
    "df.shape"
   ]
  },
  {
   "cell_type": "code",
   "execution_count": null,
   "id": "15496b96",
   "metadata": {},
   "outputs": [],
   "source": []
  },
  {
   "cell_type": "code",
   "execution_count": null,
   "id": "94ce4510",
   "metadata": {},
   "outputs": [],
   "source": []
  },
  {
   "cell_type": "code",
   "execution_count": null,
   "id": "24c86707",
   "metadata": {},
   "outputs": [],
   "source": []
  },
  {
   "cell_type": "markdown",
   "id": "53c11a6d",
   "metadata": {},
   "source": [
    "## 2.. how to deal with missing values ? \n",
    "\n",
    "    its not good to drop missing value right now as we might \n",
    "    loose important info , so \n",
    "    we will deal with it depending upon the problem statements .."
   ]
  },
  {
   "cell_type": "code",
   "execution_count": 9,
   "id": "4e0f1350",
   "metadata": {},
   "outputs": [
    {
     "data": {
      "text/plain": [
       "index                              0\n",
       "url                                0\n",
       "address                            0\n",
       "name                               0\n",
       "online_order                       0\n",
       "book_table                         0\n",
       "rate                            7775\n",
       "votes                              0\n",
       "phone                           1208\n",
       "location                          21\n",
       "rest_type                        227\n",
       "dish_liked                     28078\n",
       "cuisines                          45\n",
       "approx_cost(for two people)      346\n",
       "reviews_list                       0\n",
       "menu_item                          0\n",
       "listed_in(type)                    0\n",
       "listed_in(city)                    0\n",
       "dtype: int64"
      ]
     },
     "execution_count": 9,
     "metadata": {},
     "output_type": "execute_result"
    }
   ],
   "source": [
    "df.isnull().sum()"
   ]
  },
  {
   "cell_type": "code",
   "execution_count": 10,
   "id": "752bf8e5",
   "metadata": {},
   "outputs": [
    {
     "data": {
      "text/plain": [
       "index                           0.000000\n",
       "url                             0.000000\n",
       "address                         0.000000\n",
       "name                            0.000000\n",
       "online_order                    0.000000\n",
       "book_table                      0.000000\n",
       "rate                           15.033741\n",
       "votes                           0.000000\n",
       "phone                           2.335789\n",
       "location                        0.040606\n",
       "rest_type                       0.438927\n",
       "dish_liked                     54.291626\n",
       "cuisines                        0.087012\n",
       "approx_cost(for two people)     0.669026\n",
       "reviews_list                    0.000000\n",
       "menu_item                       0.000000\n",
       "listed_in(type)                 0.000000\n",
       "listed_in(city)                 0.000000\n",
       "dtype: float64"
      ]
     },
     "execution_count": 10,
     "metadata": {},
     "output_type": "execute_result"
    }
   ],
   "source": [
    "df.isnull().sum()/len(df)*100"
   ]
  },
  {
   "cell_type": "code",
   "execution_count": 11,
   "id": "c76b400e",
   "metadata": {},
   "outputs": [
    {
     "data": {
      "text/plain": [
       "\"\\n     -->> As we notice around 50 % of data will be lost if we delete the nan values in dish_liked column\\n         We will keep that column for now..\\n        \\n     -->> let's check for rate column as it contains 15% of its points as null value which \\n         is one of the most important feature.. \\n         \\n\""
      ]
     },
     "execution_count": 11,
     "metadata": {},
     "output_type": "execute_result"
    }
   ],
   "source": [
    "'''\n",
    "     -->> As we notice around 50 % of data will be lost if \n",
    "          we delete the nan values in dish_liked column\n",
    "          We will keep that column for now..\n",
    "        \n",
    "     -->> let's check for rate column as it contains 15% of \n",
    "          its points as null value which is one of the most \n",
    "          important feature.. \n",
    "         \n",
    "'''"
   ]
  },
  {
   "cell_type": "code",
   "execution_count": 12,
   "id": "808ab749",
   "metadata": {},
   "outputs": [
    {
     "data": {
      "text/plain": [
       "array(['4.1/5', '3.8/5', '3.7/5', '3.6/5', '4.6/5', '4.0/5', '4.2/5',\n",
       "       '3.9/5', '3.1/5', '3.0/5', '3.2/5', '3.3/5', '2.8/5', '4.4/5',\n",
       "       '4.3/5', 'NEW', '2.9/5', '3.5/5', None, '2.6/5', '3.8 /5', '3.4/5',\n",
       "       '4.5/5', '2.5/5', '2.7/5', '4.7/5', '2.4/5', '2.2/5', '2.3/5',\n",
       "       '3.4 /5', '-', '3.6 /5', '4.8/5', '3.9 /5', '4.2 /5', '4.0 /5',\n",
       "       '4.1 /5', '3.7 /5', '3.1 /5', '2.9 /5', '3.3 /5', '2.8 /5',\n",
       "       '3.5 /5', '2.7 /5', '2.5 /5', '3.2 /5', '2.6 /5', '4.5 /5',\n",
       "       '4.3 /5', '4.4 /5', '4.9/5', '2.1/5', '2.0/5', '1.8/5', '4.6 /5',\n",
       "       '4.9 /5', '3.0 /5', '4.8 /5', '2.3 /5', '4.7 /5', '2.4 /5',\n",
       "       '2.1 /5', '2.2 /5', '2.0 /5', '1.8 /5'], dtype=object)"
      ]
     },
     "execution_count": 12,
     "metadata": {},
     "output_type": "execute_result"
    }
   ],
   "source": [
    "df['rate'].unique()"
   ]
  },
  {
   "cell_type": "markdown",
   "id": "1354f588",
   "metadata": {},
   "source": [
    "    -->> 1... So, Now we found this column has 'NEW' ,\"-\" values \n",
    "              which should replaced by \"zero\" or \"np.nan\" \n",
    "              after having conversation with my business team \n",
    "              ( Domain Expertise)..\n",
    "\n",
    "    -->> 2...there are values as '3.8/5' instead of 3.8 , \n",
    "             ie we have to fix this .. "
   ]
  },
  {
   "cell_type": "markdown",
   "id": "6ff3e04a",
   "metadata": {},
   "source": [
    "#### so lets replace 'NEW' & '-' with np.nan ,so that we can fill later it with some value.."
   ]
  },
  {
   "cell_type": "code",
   "execution_count": 13,
   "id": "7a49ae06",
   "metadata": {},
   "outputs": [],
   "source": [
    "df['rate'].replace(('NEW','-'),np.nan,inplace =True)\n",
    "\n",
    "\n",
    "#df.replace('NEW', np.nan,inplace=True)\n",
    "#df.replace('-', np.nan,inplace=True)\n",
    "\n",
    "### df['rate'].str.replace('NEW','np.nan')\n",
    "### df['rate'].str.replace('-','np.nan')"
   ]
  },
  {
   "cell_type": "code",
   "execution_count": 14,
   "id": "9dbfcf06",
   "metadata": {},
   "outputs": [
    {
     "data": {
      "text/plain": [
       "array(['4.1/5', '3.8/5', '3.7/5', '3.6/5', '4.6/5', '4.0/5', '4.2/5',\n",
       "       '3.9/5', '3.1/5', '3.0/5', '3.2/5', '3.3/5', '2.8/5', '4.4/5',\n",
       "       '4.3/5', nan, '2.9/5', '3.5/5', None, '2.6/5', '3.8 /5', '3.4/5',\n",
       "       '4.5/5', '2.5/5', '2.7/5', '4.7/5', '2.4/5', '2.2/5', '2.3/5',\n",
       "       '3.4 /5', '3.6 /5', '4.8/5', '3.9 /5', '4.2 /5', '4.0 /5',\n",
       "       '4.1 /5', '3.7 /5', '3.1 /5', '2.9 /5', '3.3 /5', '2.8 /5',\n",
       "       '3.5 /5', '2.7 /5', '2.5 /5', '3.2 /5', '2.6 /5', '4.5 /5',\n",
       "       '4.3 /5', '4.4 /5', '4.9/5', '2.1/5', '2.0/5', '1.8/5', '4.6 /5',\n",
       "       '4.9 /5', '3.0 /5', '4.8 /5', '2.3 /5', '4.7 /5', '2.4 /5',\n",
       "       '2.1 /5', '2.2 /5', '2.0 /5', '1.8 /5'], dtype=object)"
      ]
     },
     "execution_count": 14,
     "metadata": {},
     "output_type": "execute_result"
    }
   ],
   "source": [
    "df['rate'].unique()"
   ]
  },
  {
   "cell_type": "markdown",
   "id": "fabdc953",
   "metadata": {},
   "source": [
    "####  /5 is un-necessary in every rating , ie there is no need of this !\n",
    "    Ways to do it..\n",
    "    a.. Just access 4.1 from 4.1/5\n",
    "    b.. Just replace '/5' to ' '"
   ]
  },
  {
   "cell_type": "code",
   "execution_count": 15,
   "id": "c54720fd",
   "metadata": {},
   "outputs": [],
   "source": [
    "df['rate'] = df['rate'].apply(lambda x: \\\n",
    "              float(x.split('/')[0]) if type(x)==str else x)"
   ]
  },
  {
   "cell_type": "code",
   "execution_count": 16,
   "id": "cc866781",
   "metadata": {},
   "outputs": [
    {
     "data": {
      "text/plain": [
       "10052"
      ]
     },
     "execution_count": 16,
     "metadata": {},
     "output_type": "execute_result"
    }
   ],
   "source": [
    "df['rate'].isnull().sum()"
   ]
  },
  {
   "cell_type": "markdown",
   "id": "356fb345",
   "metadata": {},
   "source": [
    "###### how to deal with these missing values ,, \n",
    "    -->> if its a ML/NLP/DL project , then filling \n",
    "          missing values makes alot of sense..\n",
    "\n",
    "    -->> but as its is data analysis project & Imagine we do not \n",
    "        have domain knowledge , then its good to continue with existing \n",
    "        Genuine data rather than filling missing values  or deleting it..\n",
    "    \n",
    "        -->>> Bcz if we fill missing values then it can \n",
    "              affect our real analysis  ,\n",
    "              \n",
    "        -->>  & if we delete our missing values,then we will \n",
    "                lose our data & hence we will end up having \n",
    "                incomplete analysis"
   ]
  },
  {
   "cell_type": "code",
   "execution_count": 17,
   "id": "09953da7",
   "metadata": {},
   "outputs": [],
   "source": [
    "### conclusion-->> we will stay with these missing values \n",
    "# in our data... & we will deal it further.."
   ]
  },
  {
   "cell_type": "code",
   "execution_count": 18,
   "id": "b6d2c197",
   "metadata": {},
   "outputs": [],
   "source": [
    "## drop missing values.. -- it will not make sense as \n",
    "# we can loose some important information...\n",
    "\n",
    "## df.dropna(axis='index',subset=['rate'],inplace=True)"
   ]
  },
  {
   "cell_type": "code",
   "execution_count": null,
   "id": "9e2c01ff",
   "metadata": {},
   "outputs": [],
   "source": []
  },
  {
   "cell_type": "code",
   "execution_count": 19,
   "id": "886306f4",
   "metadata": {},
   "outputs": [
    {
     "data": {
      "text/plain": [
       "0"
      ]
     },
     "execution_count": 19,
     "metadata": {},
     "output_type": "execute_result"
    }
   ],
   "source": [
    "df.duplicated().sum() ## takes 1 min "
   ]
  },
  {
   "cell_type": "code",
   "execution_count": null,
   "id": "eaf6d324",
   "metadata": {},
   "outputs": [],
   "source": []
  },
  {
   "cell_type": "code",
   "execution_count": null,
   "id": "472fe78c",
   "metadata": {},
   "outputs": [],
   "source": []
  },
  {
   "cell_type": "code",
   "execution_count": null,
   "id": "1be1a3e1",
   "metadata": {},
   "outputs": [],
   "source": []
  },
  {
   "cell_type": "markdown",
   "id": "f1591dfe",
   "metadata": {},
   "source": [
    "## 3.. Is there a relation between online order option and rating of the restaurant ?"
   ]
  },
  {
   "cell_type": "code",
   "execution_count": 20,
   "id": "2d193854",
   "metadata": {},
   "outputs": [],
   "source": [
    "### lets find out relation b/w rating & online_order\n",
    "### ie how many restaurants that have rating 0 , 1 , 1.2 , \n",
    "# 1.4 , 1.6--- & that accepts online_order & do not accept order\n",
    "\n",
    "### for such problem statement , we will create frequency tables.."
   ]
  },
  {
   "cell_type": "code",
   "execution_count": 21,
   "id": "fc2772a1",
   "metadata": {},
   "outputs": [
    {
     "data": {
      "text/plain": [
       "'\\n\\n## online order with rating :\\n    ie whether offline order rest have good rating\\n    or whether online order rest have good rating\\n\\n'"
      ]
     },
     "execution_count": 21,
     "metadata": {},
     "output_type": "execute_result"
    }
   ],
   "source": [
    "'''\n",
    "\n",
    "## online order with rating :\n",
    "    ie whether offline order rest have good rating\n",
    "    or whether online order rest have good rating\n",
    "\n",
    "'''"
   ]
  },
  {
   "cell_type": "code",
   "execution_count": 22,
   "id": "b1db8c5f",
   "metadata": {},
   "outputs": [],
   "source": [
    "x = pd.crosstab(df['rate'], df['online_order'])"
   ]
  },
  {
   "cell_type": "code",
   "execution_count": 23,
   "id": "a8125df7",
   "metadata": {},
   "outputs": [
    {
     "data": {
      "text/plain": [
       "'\\n\\nDo follow : 5.. DA_Uber_trip_analysis_possible_ways.piynb\\n\\n2.. ways to create same pivot_table : 3 ways\\n\\tusing pd.pivot_table() , pd.crosstab() , groupby() + unstack()\\n\\n'"
      ]
     },
     "execution_count": 23,
     "metadata": {},
     "output_type": "execute_result"
    }
   ],
   "source": [
    "'''\n",
    "\n",
    "Do follow : 5.. DA_Uber_trip_analysis_possible_ways.piynb\n",
    "\n",
    "2.. ways to create same pivot_table : 3 ways\n",
    "\tusing pd.pivot_table() , pd.crosstab() , groupby() + unstack()\n",
    "\n",
    "'''"
   ]
  },
  {
   "cell_type": "code",
   "execution_count": 24,
   "id": "4a3658a4",
   "metadata": {},
   "outputs": [
    {
     "data": {
      "text/plain": [
       "pandas.core.frame.DataFrame"
      ]
     },
     "execution_count": 24,
     "metadata": {},
     "output_type": "execute_result"
    }
   ],
   "source": [
    "type(x)"
   ]
  },
  {
   "cell_type": "code",
   "execution_count": 25,
   "id": "e31f71c6",
   "metadata": {},
   "outputs": [
    {
     "data": {
      "text/html": [
       "<div>\n",
       "<style scoped>\n",
       "    .dataframe tbody tr th:only-of-type {\n",
       "        vertical-align: middle;\n",
       "    }\n",
       "\n",
       "    .dataframe tbody tr th {\n",
       "        vertical-align: top;\n",
       "    }\n",
       "\n",
       "    .dataframe thead th {\n",
       "        text-align: right;\n",
       "    }\n",
       "</style>\n",
       "<table border=\"1\" class=\"dataframe\">\n",
       "  <thead>\n",
       "    <tr style=\"text-align: right;\">\n",
       "      <th>online_order</th>\n",
       "      <th>No</th>\n",
       "      <th>Yes</th>\n",
       "    </tr>\n",
       "    <tr>\n",
       "      <th>rate</th>\n",
       "      <th></th>\n",
       "      <th></th>\n",
       "    </tr>\n",
       "  </thead>\n",
       "  <tbody>\n",
       "    <tr>\n",
       "      <th>1.8</th>\n",
       "      <td>5</td>\n",
       "      <td>0</td>\n",
       "    </tr>\n",
       "    <tr>\n",
       "      <th>2.0</th>\n",
       "      <td>11</td>\n",
       "      <td>0</td>\n",
       "    </tr>\n",
       "    <tr>\n",
       "      <th>2.1</th>\n",
       "      <td>9</td>\n",
       "      <td>15</td>\n",
       "    </tr>\n",
       "    <tr>\n",
       "      <th>2.2</th>\n",
       "      <td>10</td>\n",
       "      <td>16</td>\n",
       "    </tr>\n",
       "    <tr>\n",
       "      <th>2.3</th>\n",
       "      <td>29</td>\n",
       "      <td>22</td>\n",
       "    </tr>\n",
       "    <tr>\n",
       "      <th>2.4</th>\n",
       "      <td>36</td>\n",
       "      <td>34</td>\n",
       "    </tr>\n",
       "    <tr>\n",
       "      <th>2.5</th>\n",
       "      <td>38</td>\n",
       "      <td>63</td>\n",
       "    </tr>\n",
       "    <tr>\n",
       "      <th>2.6</th>\n",
       "      <td>83</td>\n",
       "      <td>177</td>\n",
       "    </tr>\n",
       "    <tr>\n",
       "      <th>2.7</th>\n",
       "      <td>141</td>\n",
       "      <td>166</td>\n",
       "    </tr>\n",
       "    <tr>\n",
       "      <th>2.8</th>\n",
       "      <td>224</td>\n",
       "      <td>376</td>\n",
       "    </tr>\n",
       "    <tr>\n",
       "      <th>2.9</th>\n",
       "      <td>314</td>\n",
       "      <td>488</td>\n",
       "    </tr>\n",
       "    <tr>\n",
       "      <th>3.0</th>\n",
       "      <td>439</td>\n",
       "      <td>584</td>\n",
       "    </tr>\n",
       "    <tr>\n",
       "      <th>3.1</th>\n",
       "      <td>587</td>\n",
       "      <td>974</td>\n",
       "    </tr>\n",
       "    <tr>\n",
       "      <th>3.2</th>\n",
       "      <td>829</td>\n",
       "      <td>1044</td>\n",
       "    </tr>\n",
       "    <tr>\n",
       "      <th>3.3</th>\n",
       "      <td>1137</td>\n",
       "      <td>1173</td>\n",
       "    </tr>\n",
       "    <tr>\n",
       "      <th>3.4</th>\n",
       "      <td>1024</td>\n",
       "      <td>1452</td>\n",
       "    </tr>\n",
       "    <tr>\n",
       "      <th>3.5</th>\n",
       "      <td>1090</td>\n",
       "      <td>1694</td>\n",
       "    </tr>\n",
       "    <tr>\n",
       "      <th>3.6</th>\n",
       "      <td>1090</td>\n",
       "      <td>2226</td>\n",
       "    </tr>\n",
       "    <tr>\n",
       "      <th>3.7</th>\n",
       "      <td>1172</td>\n",
       "      <td>2649</td>\n",
       "    </tr>\n",
       "    <tr>\n",
       "      <th>3.8</th>\n",
       "      <td>1147</td>\n",
       "      <td>2726</td>\n",
       "    </tr>\n",
       "    <tr>\n",
       "      <th>3.9</th>\n",
       "      <td>1017</td>\n",
       "      <td>2955</td>\n",
       "    </tr>\n",
       "    <tr>\n",
       "      <th>4.0</th>\n",
       "      <td>874</td>\n",
       "      <td>2309</td>\n",
       "    </tr>\n",
       "    <tr>\n",
       "      <th>4.1</th>\n",
       "      <td>843</td>\n",
       "      <td>2105</td>\n",
       "    </tr>\n",
       "    <tr>\n",
       "      <th>4.2</th>\n",
       "      <td>648</td>\n",
       "      <td>1536</td>\n",
       "    </tr>\n",
       "    <tr>\n",
       "      <th>4.3</th>\n",
       "      <td>692</td>\n",
       "      <td>1001</td>\n",
       "    </tr>\n",
       "    <tr>\n",
       "      <th>4.4</th>\n",
       "      <td>374</td>\n",
       "      <td>773</td>\n",
       "    </tr>\n",
       "    <tr>\n",
       "      <th>4.5</th>\n",
       "      <td>297</td>\n",
       "      <td>359</td>\n",
       "    </tr>\n",
       "    <tr>\n",
       "      <th>4.6</th>\n",
       "      <td>140</td>\n",
       "      <td>160</td>\n",
       "    </tr>\n",
       "    <tr>\n",
       "      <th>4.7</th>\n",
       "      <td>113</td>\n",
       "      <td>54</td>\n",
       "    </tr>\n",
       "    <tr>\n",
       "      <th>4.8</th>\n",
       "      <td>34</td>\n",
       "      <td>32</td>\n",
       "    </tr>\n",
       "    <tr>\n",
       "      <th>4.9</th>\n",
       "      <td>12</td>\n",
       "      <td>43</td>\n",
       "    </tr>\n",
       "  </tbody>\n",
       "</table>\n",
       "</div>"
      ],
      "text/plain": [
       "online_order    No   Yes\n",
       "rate                    \n",
       "1.8              5     0\n",
       "2.0             11     0\n",
       "2.1              9    15\n",
       "2.2             10    16\n",
       "2.3             29    22\n",
       "2.4             36    34\n",
       "2.5             38    63\n",
       "2.6             83   177\n",
       "2.7            141   166\n",
       "2.8            224   376\n",
       "2.9            314   488\n",
       "3.0            439   584\n",
       "3.1            587   974\n",
       "3.2            829  1044\n",
       "3.3           1137  1173\n",
       "3.4           1024  1452\n",
       "3.5           1090  1694\n",
       "3.6           1090  2226\n",
       "3.7           1172  2649\n",
       "3.8           1147  2726\n",
       "3.9           1017  2955\n",
       "4.0            874  2309\n",
       "4.1            843  2105\n",
       "4.2            648  1536\n",
       "4.3            692  1001\n",
       "4.4            374   773\n",
       "4.5            297   359\n",
       "4.6            140   160\n",
       "4.7            113    54\n",
       "4.8             34    32\n",
       "4.9             12    43"
      ]
     },
     "execution_count": 25,
     "metadata": {},
     "output_type": "execute_result"
    }
   ],
   "source": [
    "x"
   ]
  },
  {
   "cell_type": "code",
   "execution_count": 26,
   "id": "3afe512c",
   "metadata": {},
   "outputs": [
    {
     "data": {
      "text/plain": [
       "\"\\n\\n### u can also create this table using groupby !\\n\\ndf.groupby(['rate','online_order']).apply(lambda x : len(x)).unstack()\\n\\n\""
      ]
     },
     "execution_count": 26,
     "metadata": {},
     "output_type": "execute_result"
    }
   ],
   "source": [
    "'''\n",
    "\n",
    "### u can also create this table using groupby !\n",
    "\n",
    "df.groupby(['rate','online_order']).apply(lambda x : len(x)).unstack()\n",
    "\n",
    "'''"
   ]
  },
  {
   "cell_type": "code",
   "execution_count": 27,
   "id": "3c25e8cd",
   "metadata": {},
   "outputs": [
    {
     "data": {
      "text/plain": [
       "<AxesSubplot:xlabel='rate'>"
      ]
     },
     "execution_count": 27,
     "metadata": {},
     "output_type": "execute_result"
    },
    {
     "data": {
      "image/png": "[encoded data removed]",
      "text/plain": [
       "<Figure size 640x480 with 1 Axes>"
      ]
     },
     "metadata": {},
     "output_type": "display_data"
    }
   ],
   "source": [
    "### stacked = True gives basically stacked bar chart\n",
    "x.plot(kind='bar', stacked = True)"
   ]
  },
  {
   "cell_type": "code",
   "execution_count": 28,
   "id": "381c980e",
   "metadata": {},
   "outputs": [],
   "source": [
    "### lets modify above visual & get better results/inferences.."
   ]
  },
  {
   "cell_type": "code",
   "execution_count": 29,
   "id": "d2b300cc",
   "metadata": {},
   "outputs": [
    {
     "data": {
      "text/plain": [
       "rate\n",
       "1.8       5.0\n",
       "2.0      11.0\n",
       "2.1      24.0\n",
       "2.2      26.0\n",
       "2.3      51.0\n",
       "2.4      70.0\n",
       "2.5     101.0\n",
       "2.6     260.0\n",
       "2.7     307.0\n",
       "2.8     600.0\n",
       "2.9     802.0\n",
       "3.0    1023.0\n",
       "3.1    1561.0\n",
       "3.2    1873.0\n",
       "3.3    2310.0\n",
       "3.4    2476.0\n",
       "3.5    2784.0\n",
       "3.6    3316.0\n",
       "3.7    3821.0\n",
       "3.8    3873.0\n",
       "3.9    3972.0\n",
       "4.0    3183.0\n",
       "4.1    2948.0\n",
       "4.2    2184.0\n",
       "4.3    1693.0\n",
       "4.4    1147.0\n",
       "4.5     656.0\n",
       "4.6     300.0\n",
       "4.7     167.0\n",
       "4.8      66.0\n",
       "4.9      55.0\n",
       "dtype: float64"
      ]
     },
     "execution_count": 29,
     "metadata": {},
     "output_type": "execute_result"
    }
   ],
   "source": [
    "## axis = 1 means summation across rows.,as by-default axis is 0\n",
    "x.sum(axis=1).astype(float)"
   ]
  },
  {
   "cell_type": "code",
   "execution_count": 30,
   "id": "4ab9ba56",
   "metadata": {},
   "outputs": [
    {
     "data": {
      "text/html": [
       "<div>\n",
       "<style scoped>\n",
       "    .dataframe tbody tr th:only-of-type {\n",
       "        vertical-align: middle;\n",
       "    }\n",
       "\n",
       "    .dataframe tbody tr th {\n",
       "        vertical-align: top;\n",
       "    }\n",
       "\n",
       "    .dataframe thead th {\n",
       "        text-align: right;\n",
       "    }\n",
       "</style>\n",
       "<table border=\"1\" class=\"dataframe\">\n",
       "  <thead>\n",
       "    <tr style=\"text-align: right;\">\n",
       "      <th>online_order</th>\n",
       "      <th>No</th>\n",
       "      <th>Yes</th>\n",
       "    </tr>\n",
       "    <tr>\n",
       "      <th>rate</th>\n",
       "      <th></th>\n",
       "      <th></th>\n",
       "    </tr>\n",
       "  </thead>\n",
       "  <tbody>\n",
       "    <tr>\n",
       "      <th>1.8</th>\n",
       "      <td>1.000000</td>\n",
       "      <td>0.000000</td>\n",
       "    </tr>\n",
       "    <tr>\n",
       "      <th>2.0</th>\n",
       "      <td>1.000000</td>\n",
       "      <td>0.000000</td>\n",
       "    </tr>\n",
       "    <tr>\n",
       "      <th>2.1</th>\n",
       "      <td>0.375000</td>\n",
       "      <td>0.625000</td>\n",
       "    </tr>\n",
       "    <tr>\n",
       "      <th>2.2</th>\n",
       "      <td>0.384615</td>\n",
       "      <td>0.615385</td>\n",
       "    </tr>\n",
       "    <tr>\n",
       "      <th>2.3</th>\n",
       "      <td>0.568627</td>\n",
       "      <td>0.431373</td>\n",
       "    </tr>\n",
       "    <tr>\n",
       "      <th>2.4</th>\n",
       "      <td>0.514286</td>\n",
       "      <td>0.485714</td>\n",
       "    </tr>\n",
       "    <tr>\n",
       "      <th>2.5</th>\n",
       "      <td>0.376238</td>\n",
       "      <td>0.623762</td>\n",
       "    </tr>\n",
       "    <tr>\n",
       "      <th>2.6</th>\n",
       "      <td>0.319231</td>\n",
       "      <td>0.680769</td>\n",
       "    </tr>\n",
       "    <tr>\n",
       "      <th>2.7</th>\n",
       "      <td>0.459283</td>\n",
       "      <td>0.540717</td>\n",
       "    </tr>\n",
       "    <tr>\n",
       "      <th>2.8</th>\n",
       "      <td>0.373333</td>\n",
       "      <td>0.626667</td>\n",
       "    </tr>\n",
       "    <tr>\n",
       "      <th>2.9</th>\n",
       "      <td>0.391521</td>\n",
       "      <td>0.608479</td>\n",
       "    </tr>\n",
       "    <tr>\n",
       "      <th>3.0</th>\n",
       "      <td>0.429130</td>\n",
       "      <td>0.570870</td>\n",
       "    </tr>\n",
       "    <tr>\n",
       "      <th>3.1</th>\n",
       "      <td>0.376041</td>\n",
       "      <td>0.623959</td>\n",
       "    </tr>\n",
       "    <tr>\n",
       "      <th>3.2</th>\n",
       "      <td>0.442605</td>\n",
       "      <td>0.557395</td>\n",
       "    </tr>\n",
       "    <tr>\n",
       "      <th>3.3</th>\n",
       "      <td>0.492208</td>\n",
       "      <td>0.507792</td>\n",
       "    </tr>\n",
       "    <tr>\n",
       "      <th>3.4</th>\n",
       "      <td>0.413570</td>\n",
       "      <td>0.586430</td>\n",
       "    </tr>\n",
       "    <tr>\n",
       "      <th>3.5</th>\n",
       "      <td>0.391523</td>\n",
       "      <td>0.608477</td>\n",
       "    </tr>\n",
       "    <tr>\n",
       "      <th>3.6</th>\n",
       "      <td>0.328709</td>\n",
       "      <td>0.671291</td>\n",
       "    </tr>\n",
       "    <tr>\n",
       "      <th>3.7</th>\n",
       "      <td>0.306726</td>\n",
       "      <td>0.693274</td>\n",
       "    </tr>\n",
       "    <tr>\n",
       "      <th>3.8</th>\n",
       "      <td>0.296153</td>\n",
       "      <td>0.703847</td>\n",
       "    </tr>\n",
       "    <tr>\n",
       "      <th>3.9</th>\n",
       "      <td>0.256042</td>\n",
       "      <td>0.743958</td>\n",
       "    </tr>\n",
       "    <tr>\n",
       "      <th>4.0</th>\n",
       "      <td>0.274584</td>\n",
       "      <td>0.725416</td>\n",
       "    </tr>\n",
       "    <tr>\n",
       "      <th>4.1</th>\n",
       "      <td>0.285957</td>\n",
       "      <td>0.714043</td>\n",
       "    </tr>\n",
       "    <tr>\n",
       "      <th>4.2</th>\n",
       "      <td>0.296703</td>\n",
       "      <td>0.703297</td>\n",
       "    </tr>\n",
       "    <tr>\n",
       "      <th>4.3</th>\n",
       "      <td>0.408742</td>\n",
       "      <td>0.591258</td>\n",
       "    </tr>\n",
       "    <tr>\n",
       "      <th>4.4</th>\n",
       "      <td>0.326068</td>\n",
       "      <td>0.673932</td>\n",
       "    </tr>\n",
       "    <tr>\n",
       "      <th>4.5</th>\n",
       "      <td>0.452744</td>\n",
       "      <td>0.547256</td>\n",
       "    </tr>\n",
       "    <tr>\n",
       "      <th>4.6</th>\n",
       "      <td>0.466667</td>\n",
       "      <td>0.533333</td>\n",
       "    </tr>\n",
       "    <tr>\n",
       "      <th>4.7</th>\n",
       "      <td>0.676647</td>\n",
       "      <td>0.323353</td>\n",
       "    </tr>\n",
       "    <tr>\n",
       "      <th>4.8</th>\n",
       "      <td>0.515152</td>\n",
       "      <td>0.484848</td>\n",
       "    </tr>\n",
       "    <tr>\n",
       "      <th>4.9</th>\n",
       "      <td>0.218182</td>\n",
       "      <td>0.781818</td>\n",
       "    </tr>\n",
       "  </tbody>\n",
       "</table>\n",
       "</div>"
      ],
      "text/plain": [
       "online_order        No       Yes\n",
       "rate                            \n",
       "1.8           1.000000  0.000000\n",
       "2.0           1.000000  0.000000\n",
       "2.1           0.375000  0.625000\n",
       "2.2           0.384615  0.615385\n",
       "2.3           0.568627  0.431373\n",
       "2.4           0.514286  0.485714\n",
       "2.5           0.376238  0.623762\n",
       "2.6           0.319231  0.680769\n",
       "2.7           0.459283  0.540717\n",
       "2.8           0.373333  0.626667\n",
       "2.9           0.391521  0.608479\n",
       "3.0           0.429130  0.570870\n",
       "3.1           0.376041  0.623959\n",
       "3.2           0.442605  0.557395\n",
       "3.3           0.492208  0.507792\n",
       "3.4           0.413570  0.586430\n",
       "3.5           0.391523  0.608477\n",
       "3.6           0.328709  0.671291\n",
       "3.7           0.306726  0.693274\n",
       "3.8           0.296153  0.703847\n",
       "3.9           0.256042  0.743958\n",
       "4.0           0.274584  0.725416\n",
       "4.1           0.285957  0.714043\n",
       "4.2           0.296703  0.703297\n",
       "4.3           0.408742  0.591258\n",
       "4.4           0.326068  0.673932\n",
       "4.5           0.452744  0.547256\n",
       "4.6           0.466667  0.533333\n",
       "4.7           0.676647  0.323353\n",
       "4.8           0.515152  0.484848\n",
       "4.9           0.218182  0.781818"
      ]
     },
     "execution_count": 30,
     "metadata": {},
     "output_type": "execute_result"
    }
   ],
   "source": [
    "## we need Floating division of dataframe or normalized values \n",
    "## of x dataframe across rows..just call x.div() & set axis=0\n",
    "\n",
    "## div is a in-built function of pandas designed for \n",
    "## dataframe data-structure..\n",
    "\n",
    "normalise_df = x.div(x.sum(1).astype(float) , axis = 0)\n",
    "normalise_df"
   ]
  },
  {
   "cell_type": "code",
   "execution_count": 31,
   "id": "29df442d",
   "metadata": {},
   "outputs": [
    {
     "data": {
      "text/html": [
       "<div>\n",
       "<style scoped>\n",
       "    .dataframe tbody tr th:only-of-type {\n",
       "        vertical-align: middle;\n",
       "    }\n",
       "\n",
       "    .dataframe tbody tr th {\n",
       "        vertical-align: top;\n",
       "    }\n",
       "\n",
       "    .dataframe thead th {\n",
       "        text-align: right;\n",
       "    }\n",
       "</style>\n",
       "<table border=\"1\" class=\"dataframe\">\n",
       "  <thead>\n",
       "    <tr style=\"text-align: right;\">\n",
       "      <th>online_order</th>\n",
       "      <th>No</th>\n",
       "      <th>Yes</th>\n",
       "    </tr>\n",
       "    <tr>\n",
       "      <th>rate</th>\n",
       "      <th></th>\n",
       "      <th></th>\n",
       "    </tr>\n",
       "  </thead>\n",
       "  <tbody>\n",
       "    <tr>\n",
       "      <th>1.8</th>\n",
       "      <td>100.000000</td>\n",
       "      <td>0.000000</td>\n",
       "    </tr>\n",
       "    <tr>\n",
       "      <th>2.0</th>\n",
       "      <td>100.000000</td>\n",
       "      <td>0.000000</td>\n",
       "    </tr>\n",
       "    <tr>\n",
       "      <th>2.1</th>\n",
       "      <td>37.500000</td>\n",
       "      <td>62.500000</td>\n",
       "    </tr>\n",
       "    <tr>\n",
       "      <th>2.2</th>\n",
       "      <td>38.461538</td>\n",
       "      <td>61.538462</td>\n",
       "    </tr>\n",
       "    <tr>\n",
       "      <th>2.3</th>\n",
       "      <td>56.862745</td>\n",
       "      <td>43.137255</td>\n",
       "    </tr>\n",
       "    <tr>\n",
       "      <th>2.4</th>\n",
       "      <td>51.428571</td>\n",
       "      <td>48.571429</td>\n",
       "    </tr>\n",
       "    <tr>\n",
       "      <th>2.5</th>\n",
       "      <td>37.623762</td>\n",
       "      <td>62.376238</td>\n",
       "    </tr>\n",
       "    <tr>\n",
       "      <th>2.6</th>\n",
       "      <td>31.923077</td>\n",
       "      <td>68.076923</td>\n",
       "    </tr>\n",
       "    <tr>\n",
       "      <th>2.7</th>\n",
       "      <td>45.928339</td>\n",
       "      <td>54.071661</td>\n",
       "    </tr>\n",
       "    <tr>\n",
       "      <th>2.8</th>\n",
       "      <td>37.333333</td>\n",
       "      <td>62.666667</td>\n",
       "    </tr>\n",
       "    <tr>\n",
       "      <th>2.9</th>\n",
       "      <td>39.152120</td>\n",
       "      <td>60.847880</td>\n",
       "    </tr>\n",
       "    <tr>\n",
       "      <th>3.0</th>\n",
       "      <td>42.913001</td>\n",
       "      <td>57.086999</td>\n",
       "    </tr>\n",
       "    <tr>\n",
       "      <th>3.1</th>\n",
       "      <td>37.604100</td>\n",
       "      <td>62.395900</td>\n",
       "    </tr>\n",
       "    <tr>\n",
       "      <th>3.2</th>\n",
       "      <td>44.260545</td>\n",
       "      <td>55.739455</td>\n",
       "    </tr>\n",
       "    <tr>\n",
       "      <th>3.3</th>\n",
       "      <td>49.220779</td>\n",
       "      <td>50.779221</td>\n",
       "    </tr>\n",
       "    <tr>\n",
       "      <th>3.4</th>\n",
       "      <td>41.357027</td>\n",
       "      <td>58.642973</td>\n",
       "    </tr>\n",
       "    <tr>\n",
       "      <th>3.5</th>\n",
       "      <td>39.152299</td>\n",
       "      <td>60.847701</td>\n",
       "    </tr>\n",
       "    <tr>\n",
       "      <th>3.6</th>\n",
       "      <td>32.870929</td>\n",
       "      <td>67.129071</td>\n",
       "    </tr>\n",
       "    <tr>\n",
       "      <th>3.7</th>\n",
       "      <td>30.672599</td>\n",
       "      <td>69.327401</td>\n",
       "    </tr>\n",
       "    <tr>\n",
       "      <th>3.8</th>\n",
       "      <td>29.615285</td>\n",
       "      <td>70.384715</td>\n",
       "    </tr>\n",
       "    <tr>\n",
       "      <th>3.9</th>\n",
       "      <td>25.604230</td>\n",
       "      <td>74.395770</td>\n",
       "    </tr>\n",
       "    <tr>\n",
       "      <th>4.0</th>\n",
       "      <td>27.458373</td>\n",
       "      <td>72.541627</td>\n",
       "    </tr>\n",
       "    <tr>\n",
       "      <th>4.1</th>\n",
       "      <td>28.595658</td>\n",
       "      <td>71.404342</td>\n",
       "    </tr>\n",
       "    <tr>\n",
       "      <th>4.2</th>\n",
       "      <td>29.670330</td>\n",
       "      <td>70.329670</td>\n",
       "    </tr>\n",
       "    <tr>\n",
       "      <th>4.3</th>\n",
       "      <td>40.874188</td>\n",
       "      <td>59.125812</td>\n",
       "    </tr>\n",
       "    <tr>\n",
       "      <th>4.4</th>\n",
       "      <td>32.606800</td>\n",
       "      <td>67.393200</td>\n",
       "    </tr>\n",
       "    <tr>\n",
       "      <th>4.5</th>\n",
       "      <td>45.274390</td>\n",
       "      <td>54.725610</td>\n",
       "    </tr>\n",
       "    <tr>\n",
       "      <th>4.6</th>\n",
       "      <td>46.666667</td>\n",
       "      <td>53.333333</td>\n",
       "    </tr>\n",
       "    <tr>\n",
       "      <th>4.7</th>\n",
       "      <td>67.664671</td>\n",
       "      <td>32.335329</td>\n",
       "    </tr>\n",
       "    <tr>\n",
       "      <th>4.8</th>\n",
       "      <td>51.515152</td>\n",
       "      <td>48.484848</td>\n",
       "    </tr>\n",
       "    <tr>\n",
       "      <th>4.9</th>\n",
       "      <td>21.818182</td>\n",
       "      <td>78.181818</td>\n",
       "    </tr>\n",
       "  </tbody>\n",
       "</table>\n",
       "</div>"
      ],
      "text/plain": [
       "online_order          No        Yes\n",
       "rate                               \n",
       "1.8           100.000000   0.000000\n",
       "2.0           100.000000   0.000000\n",
       "2.1            37.500000  62.500000\n",
       "2.2            38.461538  61.538462\n",
       "2.3            56.862745  43.137255\n",
       "2.4            51.428571  48.571429\n",
       "2.5            37.623762  62.376238\n",
       "2.6            31.923077  68.076923\n",
       "2.7            45.928339  54.071661\n",
       "2.8            37.333333  62.666667\n",
       "2.9            39.152120  60.847880\n",
       "3.0            42.913001  57.086999\n",
       "3.1            37.604100  62.395900\n",
       "3.2            44.260545  55.739455\n",
       "3.3            49.220779  50.779221\n",
       "3.4            41.357027  58.642973\n",
       "3.5            39.152299  60.847701\n",
       "3.6            32.870929  67.129071\n",
       "3.7            30.672599  69.327401\n",
       "3.8            29.615285  70.384715\n",
       "3.9            25.604230  74.395770\n",
       "4.0            27.458373  72.541627\n",
       "4.1            28.595658  71.404342\n",
       "4.2            29.670330  70.329670\n",
       "4.3            40.874188  59.125812\n",
       "4.4            32.606800  67.393200\n",
       "4.5            45.274390  54.725610\n",
       "4.6            46.666667  53.333333\n",
       "4.7            67.664671  32.335329\n",
       "4.8            51.515152  48.484848\n",
       "4.9            21.818182  78.181818"
      ]
     },
     "execution_count": 31,
     "metadata": {},
     "output_type": "execute_result"
    }
   ],
   "source": [
    "normalise_df.apply(lambda x : x * 100) \n",
    "\n",
    "## multiply each value by 100 so that we will get better results in % !"
   ]
  },
  {
   "cell_type": "code",
   "execution_count": 32,
   "id": "890e7079",
   "metadata": {},
   "outputs": [
    {
     "data": {
      "text/plain": [
       "<AxesSubplot:xlabel='rate'>"
      ]
     },
     "execution_count": 32,
     "metadata": {},
     "output_type": "execute_result"
    },
    {
     "data": {
      "image/png": "[encoded data removed]",
      "text/plain": [
       "<Figure size 640x480 with 1 Axes>"
      ]
     },
     "metadata": {},
     "output_type": "display_data"
    }
   ],
   "source": [
    "###  stacked=True gives basically stacked bar chart\n",
    "normalise_df.apply(lambda x : x * 100).plot(kind = 'bar' ,\\\n",
    "                                            stacked = True)"
   ]
  },
  {
   "cell_type": "code",
   "execution_count": 33,
   "id": "850b0388",
   "metadata": {},
   "outputs": [
    {
     "data": {
      "text/plain": [
       "\"\\n\\nFor good rating ie > 4 , for most instances it seems that rest who accepts online order have received more number of ratings\\nthan those rest. who don't accept online order \\n\\n\""
      ]
     },
     "execution_count": 33,
     "metadata": {},
     "output_type": "execute_result"
    }
   ],
   "source": [
    "'''\n",
    "\n",
    "For good rating ie > 4 , for most instances it seems that rest \n",
    "who accepts online order have received more number of ratings\n",
    "than those rest. who don't accept online order \n",
    "\n",
    "'''"
   ]
  },
  {
   "cell_type": "code",
   "execution_count": 34,
   "id": "25a5b1b0",
   "metadata": {},
   "outputs": [],
   "source": [
    "### similar to above one -->> Is there a relation between table \n",
    "## booking option and rating of the restaurant?"
   ]
  },
  {
   "cell_type": "code",
   "execution_count": null,
   "id": "f19f2104",
   "metadata": {},
   "outputs": [],
   "source": []
  },
  {
   "cell_type": "code",
   "execution_count": null,
   "id": "ceac0013",
   "metadata": {},
   "outputs": [],
   "source": []
  },
  {
   "cell_type": "code",
   "execution_count": null,
   "id": "ed3cbaf1",
   "metadata": {},
   "outputs": [],
   "source": []
  },
  {
   "cell_type": "code",
   "execution_count": null,
   "id": "51f8ba6b",
   "metadata": {},
   "outputs": [],
   "source": []
  },
  {
   "cell_type": "code",
   "execution_count": null,
   "id": "75608c30",
   "metadata": {},
   "outputs": [],
   "source": []
  },
  {
   "cell_type": "markdown",
   "id": "0266ad4f",
   "metadata": {},
   "source": [
    "## 4.. Data Cleaning to perform Text Analysis \n",
    "    Perform Text Analysis.. ie analysing customer reviews of Quick Bites restaurant : "
   ]
  },
  {
   "cell_type": "markdown",
   "id": "7bbe5f73",
   "metadata": {},
   "source": [
    "## ways to do it..\n",
    "\n",
    "    a) using wordcloud\n",
    "    \n",
    "        But wordcloud will not give a clear cut , how important words are\n",
    "        So lets use a concept of frequency over here...\n",
    "        \n",
    "    b) using plots/charts-- where each word have some frequency..\n",
    "    "
   ]
  },
  {
   "cell_type": "code",
   "execution_count": null,
   "id": "f3250acf",
   "metadata": {},
   "outputs": [],
   "source": []
  },
  {
   "cell_type": "markdown",
   "id": "eba76434",
   "metadata": {},
   "source": [
    "### b) using plots/charts\n",
    "    We need Pre-processed data so that we can plot charts\n",
    "    ie  (Biryani , 10K)\n",
    "        (Chicken , 15K)\n",
    "        etc..\n",
    "        \n",
    "        How to Perform Data Pre-processing to pre-process this data..\n",
    "        Steps-->>\n",
    "            a) Perform Lower-case operation\n",
    "            \n",
    "            b) Do tokenization\n",
    "            \n",
    "            c) Removal of stopwords from data\n",
    "            \n",
    "            d) Store your entire data in the list so that we can \n",
    "                commpute frequency of each word\n",
    "                \n",
    "            e) Do plotting using Unigram ,bigram & Trigram analysis.."
   ]
  },
  {
   "cell_type": "code",
   "execution_count": null,
   "id": "f6b59d8e",
   "metadata": {},
   "outputs": [],
   "source": []
  },
  {
   "cell_type": "code",
   "execution_count": 35,
   "id": "d5383374",
   "metadata": {},
   "outputs": [],
   "source": [
    "### ie first we need whole data of 'Quick Bites' , \n",
    "## but first & foremost lets make this feature 'rest_type' clean , ie \n",
    "## remove missing values in this feature if available .."
   ]
  },
  {
   "cell_type": "code",
   "execution_count": 36,
   "id": "657d1605",
   "metadata": {},
   "outputs": [
    {
     "data": {
      "text/plain": [
       "index                              0\n",
       "url                                0\n",
       "address                            0\n",
       "name                               0\n",
       "online_order                       0\n",
       "book_table                         0\n",
       "rate                           10052\n",
       "votes                              0\n",
       "phone                           1208\n",
       "location                          21\n",
       "rest_type                        227\n",
       "dish_liked                     28078\n",
       "cuisines                          45\n",
       "approx_cost(for two people)      346\n",
       "reviews_list                       0\n",
       "menu_item                          0\n",
       "listed_in(type)                    0\n",
       "listed_in(city)                    0\n",
       "dtype: int64"
      ]
     },
     "execution_count": 36,
     "metadata": {},
     "output_type": "execute_result"
    }
   ],
   "source": [
    "df.isnull().sum()"
   ]
  },
  {
   "cell_type": "code",
   "execution_count": 37,
   "id": "d8f82f55",
   "metadata": {},
   "outputs": [],
   "source": [
    "data = df.dropna(subset=['rest_type'])"
   ]
  },
  {
   "cell_type": "code",
   "execution_count": 38,
   "id": "5d7916ae",
   "metadata": {},
   "outputs": [
    {
     "data": {
      "text/plain": [
       "0"
      ]
     },
     "execution_count": 38,
     "metadata": {},
     "output_type": "execute_result"
    }
   ],
   "source": [
    "data['rest_type'].isnull().sum()"
   ]
  },
  {
   "cell_type": "code",
   "execution_count": null,
   "id": "afd4075b",
   "metadata": {},
   "outputs": [],
   "source": []
  },
  {
   "cell_type": "code",
   "execution_count": 39,
   "id": "c7505063",
   "metadata": {},
   "outputs": [],
   "source": [
    "### extracting data of 'Quick Bites' only .."
   ]
  },
  {
   "cell_type": "code",
   "execution_count": 40,
   "id": "2a72532a",
   "metadata": {},
   "outputs": [],
   "source": [
    "quick_bites_df = data[data['rest_type'].str.contains('Quick Bites')]"
   ]
  },
  {
   "cell_type": "code",
   "execution_count": 41,
   "id": "7bfa76a3",
   "metadata": {},
   "outputs": [
    {
     "data": {
      "text/plain": [
       "(20639, 18)"
      ]
     },
     "execution_count": 41,
     "metadata": {},
     "output_type": "execute_result"
    }
   ],
   "source": [
    "quick_bites_df .shape"
   ]
  },
  {
   "cell_type": "code",
   "execution_count": null,
   "id": "5c11f96a",
   "metadata": {},
   "outputs": [],
   "source": []
  },
  {
   "cell_type": "code",
   "execution_count": 42,
   "id": "38d973fc",
   "metadata": {},
   "outputs": [],
   "source": [
    "#### a) Perform Lower-case operation"
   ]
  },
  {
   "cell_type": "code",
   "execution_count": 43,
   "id": "1a74d7a4",
   "metadata": {},
   "outputs": [],
   "source": [
    "# Converting all the text to lowercase , takes 2 min for whole df..\n",
    "\n",
    "quick_bites_df ['reviews_list'] = quick_bites_df ['reviews_list'].\\\n",
    "                                        apply(lambda x: x.lower())"
   ]
  },
  {
   "cell_type": "code",
   "execution_count": null,
   "id": "ad5ec527",
   "metadata": {},
   "outputs": [],
   "source": []
  },
  {
   "cell_type": "code",
   "execution_count": null,
   "id": "3cd4b465",
   "metadata": {},
   "outputs": [],
   "source": []
  },
  {
   "cell_type": "code",
   "execution_count": 44,
   "id": "1a7642d7",
   "metadata": {},
   "outputs": [],
   "source": [
    "#### b) Do tokenization"
   ]
  },
  {
   "cell_type": "code",
   "execution_count": 45,
   "id": "ff691989",
   "metadata": {},
   "outputs": [],
   "source": [
    "from nltk.corpus import RegexpTokenizer as regextoken"
   ]
  },
  {
   "cell_type": "code",
   "execution_count": 46,
   "id": "f085312d",
   "metadata": {},
   "outputs": [],
   "source": [
    "##  Creating a regular expression tokenizer that have only \n",
    "## alphabets , ie remove all the special characters\n",
    "# This will return separate words (tokens) from the text in the form of list\n",
    "\n",
    "tokenizer = regextoken(\"[a-zA-Z]+\") "
   ]
  },
  {
   "cell_type": "code",
   "execution_count": 47,
   "id": "4f7bd831",
   "metadata": {},
   "outputs": [
    {
     "data": {
      "text/plain": [
       "RegexpTokenizer(pattern='[a-zA-Z]+', gaps=False, discard_empty=True, flags=re.UNICODE|re.MULTILINE|re.DOTALL)"
      ]
     },
     "execution_count": 47,
     "metadata": {},
     "output_type": "execute_result"
    }
   ],
   "source": [
    "tokenizer"
   ]
  },
  {
   "cell_type": "code",
   "execution_count": 48,
   "id": "c1b807d5",
   "metadata": {},
   "outputs": [
    {
     "data": {
      "text/plain": [
       "Int64Index([    3,    23,    26,    31,    34,    36,    39,    40,    42,\n",
       "               43,\n",
       "            ...\n",
       "            51634, 51635, 51638, 51639, 51640, 51641, 51642, 51643, 51644,\n",
       "            51645],\n",
       "           dtype='int64', length=20639)"
      ]
     },
     "execution_count": 48,
     "metadata": {},
     "output_type": "execute_result"
    }
   ],
   "source": [
    "quick_bites_df['reviews_list'].index"
   ]
  },
  {
   "cell_type": "code",
   "execution_count": 49,
   "id": "14ac3040",
   "metadata": {},
   "outputs": [
    {
     "data": {
      "text/plain": [
       "'[(\\'rated 4.0\\', \"rated\\\\n  great food and proper karnataka style full meals. been there twice and was fully satisfied.. will give 5 stars if it\\'s well managed............\"), (\\'rated 2.0\\', \\'rated\\\\n  reached the place at 3pm on saturday. half of the items on the menu were over. what was annoying was is the food was cold. the taste was also very average. only dosa and holige were good. there were very few people in the restaurant and the service was still very slow. the waiters were all standing in one corner and talking. had to call them repeatedly.\\'), (\\'rated 4.0\\', \\'rated\\\\n  had been here, good food served and tasty,good place to go with freinds and family, should be first to get served well with all food. one of the good hotel there for this price.\\'), (\\'rated 2.0\\', \\'rated\\\\n  how can a udupi restaurant be so dirty.the floor the walls the waiters are all stained in food.why cant they clean it? the floor even had decorative colour paper every where and lot of food.now coming to the taste of the food- it was pretty decent for what they chargw.what upset us was the menu says they serve thambuli, two variety of rice etc but they were all over at 2.45 but they still charged us full amount.lastly if u r ok to b seated with random people and adjust with their table manners( burrping etc) then tis place is decent for a quick veg udupi meals\\'), (\\'rated 4.0\\', \\'rated\\\\n  aadhuri udupi bhojana is one of the best vegetarian hotel in and around banashankari locality\\\\nwere we can enjoy the authentic south karnataka style food.\\'), (\\'rated 5.0\\', \\'rated\\\\n  one of the best restaurants for unlimited food. price for one full unlimited meal is ?150 and the service is awesome here. if youã\\x83\\\\x83ã\\x82\\\\x83ã\\x83\\\\x82ã\\x82\\\\x82ã\\x83\\\\x83ã\\x82\\\\x82ã\\x83\\\\x82ã\\x82\\\\x92re a costalian you will love the food served here.\\'), (\\'rated 4.0\\', \"rated\\\\n  been here a couple of times. highly satisfying on both the ocassions. great food. decent service. at price of 160 per person it is of a great value. the staff here serves in a traditional mysore style dresses. the food is authentic karnataka meals. i really liked the pineapple pickle/chutney. they serve some 4 varities of rice of which you shouldn\\'t try all as you would already be full. roti, dosa were decent. in the deserts, payasam& holige were good.\\\\ni think it is one the must try places to try some authentic south food even if you have been to the likes of kamath etc. this one is a little different. :)\"), (\\'rated 5.0\\', \\'rated\\\\n  very good restorent good south indian food very nice all food s are good we spent good time and food in this hotel value of money we loved it\\'), (\\'rated 3.5\\', \\'rated\\\\n  i went to this restaurant on sunday afternoon.it was a bit crowded.\\\\n\\\\nits located in the 1st floor above anna kuteera kathriguppe\\\\n\\\\nyou need to take food coupon in the ground floor itself.\\\\nit was 160 rs.\\\\n\\\\ntaste wise it was good.\\\\nservice was slow.\\\\nnothing exciting/different in the menu.\\\\nwhatever they serve its good.\\\\nworth for money.\\'), (\\'rated 5.0\\', \\'rated\\\\n  awesome place , worth with price , quality , quantity , service , hygiene and discipline i loved it ???? wish there were more rating stars to give i give 100 on 5 for sure\\'), (\\'rated 3.5\\', \\'rated\\\\n  nice food, good ambiance, so many verity of food, this time i was in hurry so, next review will be detailed one. its good to see all dishes at one place\\'), (\\'rated 1.5\\', \\'rated\\\\n  the food was not satisfactory. not one item served could be eaten again . only advantage is the price but even that is not going to be enough to make me visit the place again . dear udupi staff people wouldnã\\x83\\\\x83ã\\x82\\\\x83ã\\x83\\\\x82ã\\x82\\\\x82ã\\x83\\\\x83ã\\x82\\\\x82ã\\x83\\\\x82ã\\x82\\\\x92t mind if the food quality was better for a higher price and please get more fans so that people wonã\\x83\\\\x83ã\\x82\\\\x83ã\\x83\\\\x82ã\\x82\\\\x82ã\\x83\\\\x83ã\\x82\\\\x82ã\\x83\\\\x82ã\\x82\\\\x92t have to deal with another disappointment of sweating while eating.\\'), (\\'rated 5.0\\', \\'rated\\\\n  excellent quality and taste, more variety of authentic south indian food. excellent service. highly recommended. worth the money we pay here.\\'), (\\'rated 2.0\\', \"rated\\\\n  i\\'m rating 2 only because of the large number of items they serve for the price they charge. while the taste is moderate, the biggest turn off is the poor service and totally unresponsive staff. they are either understaffed or poorly trained. i didn\\'t get to taste a few items, thanks to their ever busy staff, and ended eating what was served. please learn the crowd management from other peers like maiyya and roti ghar\"), (\\'rated 5.0\\', \\'rated\\\\n  one of my colleagues suggested this place. went there at 1 pm and place wasnt crowded. ambience is decent and cool. a welcome drink \"appekai saru\" was served. then started..typical \"baale yele uta\" . diffrerent types of palya, kosambari and sides. then came masala dosa, pulka,pulav, veg rice bath. masala dosa was very very tasty. service is bit fast as people will be coming, but they will make it slow if u tell them to. then comes rice with sambar,rasam, daal,tambali. and yes, dont forget to eat holige,payasam and icecream. service is very nice. one best thing is all of this comes in just 160 rs and its unlimited!!! what else you want!! a must visit place for south indian foodie!\\'), (\\'rated 3.0\\', \"rated\\\\n  been here last week with high expectations based on few reviews. but utterly disappointed with the food quality & taste. i feel it\\'s an overhyped place! there are many better places in the vicinity for plantain leaf meal. there was too much of waiting & these staffs were too hurry in serving food & asking people to finish meal & leave quickly. i can understand there is a waiting and staffs should approach in a positive way. i will never go there again!\\\\n\\\\nbangaloreepicure.com\"), (\\'rated 4.0\\', \\'rated\\\\n  i have a confession, being a south indian i distaste south indian food(not that i hate it, i don\\\\\\'t like it either).but still made up my mind on sankaranti to have authentic south indian food visited \"adduri udupi bhojana\" because it was close to my place.i just had a look at the menu told myself that i can do it(i am not blessed with a tremendous appetite).welcomed with the mango soup followed by the wide variety of dishes served, i have developed the new love for pongal(both sweet and khara).i can still feel the taste of the ghee bursting in my mouth but it was\"kai holige\" that made my day, crisp and soft.not to forget food is served on a banana leaf that adds in more flavor and taste.waiters are attentive and responsive.the customer\\\\\\'s needs are monitored and addressed.so much variety for just 160rs without compromising on quantity and quality and yes it is unlimited.this visit turned out to be a surprise package.\\'), (\\'rated 3.5\\', \\'rated\\\\n  food is good.\\\\nno parking\\\\nambience is average\\\\noverall its value for money if you looking for south indian food.\\\\npreferred the tiffin items......\\'), (\\'rated 3.0\\', \"rated\\\\n  been here last week with high expectations based on few reviews. but utterly disappointed with the food quality & taste. i feel it\\'s an overhyped place! there are many better places in the vicinity for plantain leaf meal. there was too much of waiting & these staffs were too hurry in serving food & asking people to finish meal & leave quickly. i can understand there is a waiting and staffs should approach in a positive way. i will never go there again!\\\\n\\\\nbangaloreepicure.com\"), (\\'rated 4.0\\', \\'rated\\\\n  i have a confession, being a south indian i distaste south indian food(not that i hate it, i don\\\\\\'t like it either).but still made up my mind on sankaranti to have authentic south indian food visited \"adduri udupi bhojana\" because it was close to my place.i just had a look at the menu told myself that i can do it(i am not blessed with a tremendous appetite).welcomed with the mango soup followed by the wide variety of dishes served, i have developed the new love for pongal(both sweet and khara).i can still feel the taste of the ghee bursting in my mouth but it was\"kai holige\" that made my day, crisp and soft.not to forget food is served on a banana leaf that adds in more flavor and taste.waiters are attentive and responsive.the customer\\\\\\'s needs are monitored and addressed.so much variety for just 160rs without compromising on quantity and quality and yes it is unlimited.this visit turned out to be a surprise package.\\'), (\\'rated 3.5\\', \\'rated\\\\n  food is good.\\\\nno parking\\\\nambience is average\\\\noverall its value for money if you looking for south indian food.\\\\npreferred the tiffin items......\\'), (\\'rated 3.0\\', \"rated\\\\n  been here last week with high expectations based on few reviews. but utterly disappointed with the food quality & taste. i feel it\\'s an overhyped place! there are many better places in the vicinity for plantain leaf meal. there was too much of waiting & these staffs were too hurry in serving food & asking people to finish meal & leave quickly. i can understand there is a waiting and staffs should approach in a positive way. i will never go there again!\\\\n\\\\nbangaloreepicure.com\"), (\\'rated 4.0\\', \\'rated\\\\n  i have a confession, being a south indian i distaste south indian food(not that i hate it, i don\\\\\\'t like it either).but still made up my mind on sankaranti to have authentic south indian food visited \"adduri udupi bhojana\" because it was close to my place.i just had a look at the menu told myself that i can do it(i am not blessed with a tremendous appetite).welcomed with the mango soup followed by the wide variety of dishes served, i have developed the new love for pongal(both sweet and khara).i can still feel the taste of the ghee bursting in my mouth but it was\"kai holige\" that made my day, crisp and soft.not to forget food is served on a banana leaf that adds in more flavor and taste.waiters are attentive and responsive.the customer\\\\\\'s needs are monitored and addressed.so much variety for just 160rs without compromising on quantity and quality and yes it is unlimited.this visit turned out to be a surprise package.\\'), (\\'rated 3.5\\', \\'rated\\\\n  food is good.\\\\nno parking\\\\nambience is average\\\\noverall its value for money if you looking for south indian food.\\\\npreferred the tiffin items......\\'), (\\'rated 3.0\\', \"rated\\\\n  been here last week with high expectations based on few reviews. but utterly disappointed with the food quality & taste. i feel it\\'s an overhyped place! there are many better places in the vicinity for plantain leaf meal. there was too much of waiting & these staffs were too hurry in serving food & asking people to finish meal & leave quickly. i can understand there is a waiting and staffs should approach in a positive way. i will never go there again!\\\\n\\\\nbangaloreepicure.com\"), (\\'rated 4.0\\', \\'rated\\\\n  i have a confession, being a south indian i distaste south indian food(not that i hate it, i don\\\\\\'t like it either).but still made up my mind on sankaranti to have authentic south indian food visited \"adduri udupi bhojana\" because it was close to my place.i just had a look at the menu told myself that i can do it(i am not blessed with a tremendous appetite).welcomed with the mango soup followed by the wide variety of dishes served, i have developed the new love for pongal(both sweet and khara).i can still feel the taste of the ghee bursting in my mouth but it was\"kai holige\" that made my day, crisp and soft.not to forget food is served on a banana leaf that adds in more flavor and taste.waiters are attentive and responsive.the customer\\\\\\'s needs are monitored and addressed.so much variety for just 160rs without compromising on quantity and quality and yes it is unlimited.this visit turned out to be a surprise package.\\'), (\\'rated 3.5\\', \\'rated\\\\n  food is good.\\\\nno parking\\\\nambience is average\\\\noverall its value for money if you looking for south indian food.\\\\npreferred the tiffin items......\\'), (\\'rated 3.0\\', \"rated\\\\n  been here last week with high expectations based on few reviews. but utterly disappointed with the food quality & taste. i feel it\\'s an overhyped place! there are many better places in the vicinity for plantain leaf meal. there was too much of waiting & these staffs were too hurry in serving food & asking people to finish meal & leave quickly. i can understand there is a waiting and staffs should approach in a positive way. i will never go there again!\\\\n\\\\nbangaloreepicure.com\"), (\\'rated 4.0\\', \\'rated\\\\n  i have a confession, being a south indian i distaste south indian food(not that i hate it, i don\\\\\\'t like it either).but still made up my mind on sankaranti to have authentic south indian food visited \"adduri udupi bhojana\" because it was close to my place.i just had a look at the menu told myself that i can do it(i am not blessed with a tremendous appetite).welcomed with the mango soup followed by the wide variety of dishes served, i have developed the new love for pongal(both sweet and khara).i can still feel the taste of the ghee bursting in my mouth but it was\"kai holige\" that made my day, crisp and soft.not to forget food is served on a banana leaf that adds in more flavor and taste.waiters are attentive and responsive.the customer\\\\\\'s needs are monitored and addressed.so much variety for just 160rs without compromising on quantity and quality and yes it is unlimited.this visit turned out to be a surprise package.\\'), (\\'rated 3.5\\', \\'rated\\\\n  food is good.\\\\nno parking\\\\nambience is average\\\\noverall its value for money if you looking for south indian food.\\\\npreferred the tiffin items......\\'), (\\'rated 4.0\\', \"rated\\\\n  had been on a week night for an authentic south indian food. i personally love being served on banyan leaf. the waiters are all dressed up in traditional mysore attire wearing with a peta. the food was delicious and definitely worth it\\'s price. the waiters are friendly and serve u well with a smile. the food is prepared without garlic which is a plus point attracting many senior customers.\"), (\\'rated 3.5\\', \"rated\\\\n  food is good and enjoyed. with 150 rs. is very nice.\\\\nnote: (it happen with us)\\\\n - if you going two people, you may need to share the table there. its almost crowed.\\\\n - you have to sit where they ask, you can\\'t choose even if all the table are empty. \\\\njust wait, eat and come back.\"), (\\'rated 5.0\\', \\'rated\\\\n  excellent ambience with delicious meals with 10-15 variety types. worth paying for money and you can dine out if you are with more friends/relatives in home.\\'), (\\'rated 4.5\\', \\'rated\\\\n  very good and unlimited . especially masala dosa . service and ambience was also good. will visit again with friends . very very reasonble and wholesome food\\'), (\\'rated 3.5\\', \\'rated\\\\n  aaaa wt to tell, unlimited food, food was like exactly like south indian marriage food, 2 soups, sides masala dosa, all were unlimited for just ?150, except ice cream in the end ?? they give a water bottle, and main thing is have patience to get place to sit..... ??,there is no parking place of this outlet, and difficult to park in front of the restaurants,\\')]'"
      ]
     },
     "execution_count": 49,
     "metadata": {},
     "output_type": "execute_result"
    }
   ],
   "source": [
    "quick_bites_df ['reviews_list'][3]"
   ]
  },
  {
   "cell_type": "code",
   "execution_count": 50,
   "id": "2086dcdf",
   "metadata": {},
   "outputs": [
    {
     "name": "stdout",
     "output_type": "stream",
     "text": [
      "['Rated', 'RATED', 'n', 'Great', 'food', 'and', 'proper', 'Karnataka', 'style', 'full', 'meals', 'Been', 'there', 'twice', 'and', 'was', 'fully', 'satisfied', 'Will', 'give', 'stars', 'if', 'it', 's', 'well', 'managed', 'Rated', 'RATED', 'n', 'Reached', 'the', 'place', 'at', 'pm', 'on', 'Saturday', 'Half', 'of', 'the', 'items', 'on', 'the', 'menu', 'were', 'over', 'What', 'was', 'annoying', 'was', 'is', 'the', 'food', 'was', 'cold', 'The', 'taste', 'was', 'also', 'very', 'average', 'Only', 'dosa', 'and', 'holige', 'were', 'good', 'There', 'were', 'very', 'few', 'people', 'in', 'the', 'restaurant', 'and', 'the', 'service', 'was', 'still', 'very', 'slow', 'The', 'waiters', 'were', 'all', 'standing', 'in', 'one', 'corner', 'and', 'talking', 'Had', 'to', 'call', 'them', 'repeatedly', 'Rated', 'RATED', 'n', 'Had', 'been', 'here', 'good', 'food', 'served', 'and', 'tasty', 'good', 'place', 'to', 'go', 'with', 'freinds', 'and', 'family', 'should', 'be', 'first', 'to', 'get', 'served', 'well', 'with', 'all', 'food', 'One', 'of', 'the', 'good', 'hotel', 'there', 'for', 'this', 'price', 'Rated', 'RATED', 'n', 'How', 'can', 'a', 'Udupi', 'restaurant', 'be', 'so', 'dirty', 'the', 'floor', 'the', 'walls', 'the', 'waiters', 'are', 'all', 'stained', 'in', 'food', 'Why', 'cant', 'they', 'clean', 'it', 'The', 'floor', 'even', 'had', 'decorative', 'colour', 'paper', 'every', 'where', 'and', 'lot', 'of', 'food', 'Now', 'coming', 'to', 'the', 'taste', 'of', 'the', 'food', 'it', 'was', 'pretty', 'decent', 'for', 'what', 'they', 'chargw', 'What', 'upset', 'us', 'was', 'the', 'menu', 'says', 'they', 'serve', 'thambuli', 'two', 'variety', 'of', 'rice', 'etc', 'but', 'they', 'were', 'all', 'over', 'at', 'but', 'they', 'still', 'charged', 'us', 'full', 'amount', 'Lastly', 'if', 'u', 'r', 'ok', 'to', 'b', 'seated', 'with', 'random', 'people', 'and', 'adjust', 'with', 'their', 'table', 'manners', 'burrping', 'etc', 'then', 'tis', 'place', 'is', 'decent', 'for', 'a', 'quick', 'veg', 'udupi', 'meals', 'Rated', 'RATED', 'n', 'Aadhuri', 'Udupi', 'bhojana', 'is', 'one', 'of', 'the', 'best', 'vegetarian', 'hotel', 'in', 'and', 'around', 'Banashankari', 'locality', 'nwere', 'we', 'can', 'enjoy', 'the', 'authentic', 'south', 'Karnataka', 'style', 'food', 'Rated', 'RATED', 'n', 'One', 'of', 'the', 'best', 'restaurants', 'for', 'unlimited', 'food', 'Price', 'for', 'one', 'full', 'unlimited', 'meal', 'is', 'and', 'the', 'service', 'is', 'awesome', 'here', 'If', 'you', 'x', 'x', 'x', 'x', 'x', 'x', 'x', 'x', 're', 'a', 'costalian', 'you', 'will', 'love', 'the', 'food', 'served', 'here', 'Rated', 'RATED', 'n', 'Been', 'here', 'a', 'couple', 'of', 'times', 'Highly', 'satisfying', 'on', 'both', 'the', 'ocassions', 'Great', 'food', 'Decent', 'service', 'At', 'price', 'of', 'per', 'person', 'it', 'is', 'of', 'a', 'great', 'value', 'The', 'staff', 'here', 'serves', 'in', 'a', 'traditional', 'Mysore', 'style', 'dresses', 'The', 'food', 'is', 'authentic', 'Karnataka', 'meals', 'I', 'really', 'liked', 'the', 'pineapple', 'pickle', 'chutney', 'They', 'serve', 'some', 'varities', 'of', 'rice', 'of', 'which', 'you', 'shouldn', 't', 'try', 'all', 'as', 'you', 'would', 'already', 'be', 'full', 'Roti', 'Dosa', 'were', 'decent', 'In', 'the', 'deserts', 'Payasam', 'Holige', 'were', 'good', 'nI', 'think', 'it', 'is', 'one', 'the', 'must', 'try', 'places', 'to', 'try', 'some', 'authentic', 'south', 'food', 'even', 'if', 'you', 'have', 'been', 'to', 'the', 'likes', 'of', 'Kamath', 'etc', 'this', 'one', 'is', 'a', 'little', 'different', 'Rated', 'RATED', 'n', 'Very', 'good', 'restorent', 'good', 'south', 'Indian', 'food', 'very', 'nice', 'all', 'food', 's', 'are', 'good', 'we', 'spent', 'good', 'time', 'and', 'food', 'in', 'this', 'hotel', 'value', 'of', 'money', 'we', 'loved', 'it', 'Rated', 'RATED', 'n', 'I', 'went', 'to', 'this', 'restaurant', 'on', 'Sunday', 'afternoon', 'It', 'was', 'a', 'bit', 'crowded', 'n', 'nIts', 'located', 'in', 'the', 'st', 'floor', 'Above', 'anna', 'kuteera', 'kathriguppe', 'n', 'nYou', 'need', 'to', 'take', 'food', 'coupon', 'in', 'the', 'ground', 'floor', 'itself', 'nit', 'was', 'rs', 'n', 'nTaste', 'wise', 'it', 'was', 'good', 'nService', 'was', 'slow', 'nNothing', 'exciting', 'different', 'in', 'the', 'menu', 'nWhatever', 'they', 'serve', 'its', 'good', 'nWorth', 'for', 'money', 'Rated', 'RATED', 'n', 'Awesome', 'place', 'worth', 'with', 'price', 'quality', 'quantity', 'service', 'hygiene', 'and', 'discipline', 'I', 'loved', 'it', 'wish', 'there', 'were', 'more', 'rating', 'stars', 'to', 'give', 'I', 'give', 'on', 'for', 'sure', 'Rated', 'RATED', 'n', 'Nice', 'food', 'good', 'ambiance', 'so', 'many', 'verity', 'of', 'food', 'this', 'time', 'i', 'was', 'in', 'hurry', 'so', 'next', 'review', 'will', 'be', 'detailed', 'one', 'Its', 'good', 'to', 'see', 'all', 'dishes', 'at', 'one', 'place', 'Rated', 'RATED', 'n', 'The', 'food', 'was', 'not', 'satisfactory', 'Not', 'one', 'item', 'served', 'could', 'be', 'eaten', 'again', 'Only', 'advantage', 'is', 'the', 'price', 'but', 'even', 'that', 'is', 'not', 'going', 'to', 'be', 'enough', 'to', 'make', 'me', 'visit', 'the', 'place', 'again', 'Dear', 'Udupi', 'staff', 'people', 'wouldn', 'x', 'x', 'x', 'x', 'x', 'x', 'x', 'x', 't', 'mind', 'if', 'the', 'food', 'quality', 'was', 'better', 'for', 'a', 'higher', 'price', 'and', 'please', 'get', 'more', 'fans', 'so', 'that', 'people', 'won', 'x', 'x', 'x', 'x', 'x', 'x', 'x', 'x', 't', 'have', 'to', 'deal', 'with', 'another', 'disappointment', 'of', 'sweating', 'while', 'eating', 'Rated', 'RATED', 'n', 'Excellent', 'quality', 'and', 'taste', 'more', 'variety', 'of', 'authentic', 'south', 'Indian', 'food', 'Excellent', 'service', 'Highly', 'recommended', 'Worth', 'the', 'money', 'we', 'pay', 'here', 'Rated', 'RATED', 'n', 'I', 'm', 'rating', 'only', 'because', 'of', 'the', 'large', 'number', 'of', 'items', 'they', 'serve', 'for', 'the', 'price', 'they', 'charge', 'While', 'the', 'taste', 'is', 'moderate', 'the', 'biggest', 'turn', 'off', 'is', 'the', 'poor', 'service', 'and', 'totally', 'unresponsive', 'staff', 'They', 'are', 'either', 'understaffed', 'or', 'poorly', 'trained', 'I', 'didn', 't', 'get', 'to', 'taste', 'a', 'few', 'items', 'thanks', 'to', 'their', 'ever', 'busy', 'staff', 'and', 'ended', 'eating', 'what', 'was', 'served', 'Please', 'learn', 'the', 'crowd', 'management', 'from', 'other', 'peers', 'like', 'maiyya', 'and', 'roti', 'ghar', 'Rated', 'RATED', 'n', 'One', 'of', 'my', 'colleagues', 'suggested', 'this', 'place', 'Went', 'there', 'at', 'pm', 'and', 'place', 'wasnt', 'crowded', 'Ambience', 'is', 'decent', 'and', 'cool', 'A', 'welcome', 'drink', 'appekai', 'saru', 'was', 'served', 'Then', 'started', 'typical', 'baale', 'yele', 'uta', 'Diffrerent', 'types', 'of', 'palya', 'kosambari', 'and', 'sides', 'Then', 'came', 'masala', 'dosa', 'pulka', 'pulav', 'veg', 'rice', 'bath', 'Masala', 'dosa', 'was', 'very', 'very', 'tasty', 'Service', 'is', 'bit', 'fast', 'as', 'people', 'will', 'be', 'coming', 'but', 'they', 'will', 'make', 'it', 'slow', 'if', 'u', 'tell', 'them', 'to', 'Then', 'comes', 'rice', 'with', 'sambar', 'rasam', 'daal', 'tambali', 'And', 'yes', 'dont', 'forget', 'to', 'eat', 'holige', 'payasam', 'and', 'icecream', 'Service', 'is', 'very', 'nice', 'One', 'best', 'thing', 'is', 'all', 'of', 'this', 'comes', 'in', 'just', 'rs', 'and', 'its', 'unlimited', 'What', 'else', 'you', 'want', 'A', 'must', 'visit', 'place', 'for', 'south', 'indian', 'foodie', 'Rated', 'RATED', 'n', 'Been', 'here', 'last', 'week', 'with', 'high', 'expectations', 'based', 'on', 'few', 'reviews', 'But', 'utterly', 'disappointed', 'with', 'the', 'food', 'quality', 'taste', 'I', 'feel', 'it', 's', 'an', 'overhyped', 'place', 'There', 'are', 'many', 'better', 'places', 'in', 'the', 'vicinity', 'for', 'Plantain', 'leaf', 'meal', 'There', 'was', 'too', 'much', 'of', 'waiting', 'these', 'staffs', 'were', 'too', 'hurry', 'in', 'serving', 'food', 'asking', 'people', 'to', 'finish', 'meal', 'leave', 'quickly', 'I', 'can', 'understand', 'there', 'is', 'a', 'waiting', 'and', 'staffs', 'should', 'approach', 'in', 'a', 'positive', 'way', 'I', 'will', 'never', 'go', 'there', 'again', 'n', 'nbangaloreepicure', 'com', 'Rated', 'RATED', 'n', 'I', 'have', 'a', 'confession', 'being', 'a', 'south', 'Indian', 'I', 'distaste', 'south', 'Indian', 'food', 'not', 'that', 'I', 'hate', 'it', 'I', 'don', 't', 'like', 'it', 'either', 'But', 'still', 'made', 'up', 'my', 'mind', 'on', 'Sankaranti', 'to', 'have', 'authentic', 'south', 'Indian', 'food', 'visited', 'Adduri', 'Udupi', 'Bhojana', 'because', 'it', 'was', 'close', 'to', 'my', 'place', 'I', 'just', 'had', 'a', 'look', 'at', 'the', 'menu', 'told', 'myself', 'that', 'I', 'can', 'do', 'it', 'I', 'am', 'not', 'blessed', 'with', 'a', 'tremendous', 'appetite', 'welcomed', 'with', 'the', 'mango', 'soup', 'followed', 'by', 'the', 'wide', 'variety', 'of', 'dishes', 'served', 'I', 'have', 'developed', 'the', 'new', 'love', 'for', 'Pongal', 'both', 'sweet', 'and', 'Khara', 'I', 'can', 'still', 'feel', 'the', 'taste', 'of', 'the', 'ghee', 'bursting', 'in', 'my', 'mouth', 'but', 'it', 'was', 'kai', 'holige', 'that', 'made', 'my', 'day', 'crisp', 'and', 'soft', 'not', 'to', 'forget', 'food', 'is', 'served', 'on', 'a', 'banana', 'leaf', 'that', 'adds', 'in', 'more', 'flavor', 'and', 'taste', 'waiters', 'are', 'attentive', 'and', 'responsive', 'The', 'customer', 's', 'needs', 'are', 'monitored', 'and', 'addressed', 'so', 'much', 'variety', 'for', 'just', 'Rs', 'without', 'compromising', 'on', 'quantity', 'and', 'quality', 'and', 'yes', 'it', 'is', 'unlimited', 'This', 'visit', 'turned', 'out', 'to', 'be', 'a', 'surprise', 'package', 'Rated', 'RATED', 'n', 'Food', 'is', 'good', 'nNo', 'parking', 'nAmbience', 'is', 'average', 'nOverall', 'its', 'value', 'for', 'money', 'if', 'you', 'looking', 'for', 'south', 'Indian', 'food', 'nPreferred', 'the', 'tiffin', 'items', 'Rated', 'RATED', 'n', 'Been', 'here', 'last', 'week', 'with', 'high', 'expectations', 'based', 'on', 'few', 'reviews', 'But', 'utterly', 'disappointed', 'with', 'the', 'food', 'quality', 'taste', 'I', 'feel', 'it', 's', 'an', 'overhyped', 'place', 'There', 'are', 'many', 'better', 'places', 'in', 'the', 'vicinity', 'for', 'Plantain', 'leaf', 'meal', 'There', 'was', 'too', 'much', 'of', 'waiting', 'these', 'staffs', 'were', 'too', 'hurry', 'in', 'serving', 'food', 'asking', 'people', 'to', 'finish', 'meal', 'leave', 'quickly', 'I', 'can', 'understand', 'there', 'is', 'a', 'waiting', 'and', 'staffs', 'should', 'approach', 'in', 'a', 'positive', 'way', 'I', 'will', 'never', 'go', 'there', 'again', 'n', 'nbangaloreepicure', 'com', 'Rated', 'RATED', 'n', 'I', 'have', 'a', 'confession', 'being', 'a', 'south', 'Indian', 'I', 'distaste', 'south', 'Indian', 'food', 'not', 'that', 'I', 'hate', 'it', 'I', 'don', 't', 'like', 'it', 'either', 'But', 'still', 'made', 'up', 'my', 'mind', 'on', 'Sankaranti', 'to', 'have', 'authentic', 'south', 'Indian', 'food', 'visited', 'Adduri', 'Udupi', 'Bhojana', 'because', 'it', 'was', 'close', 'to', 'my', 'place', 'I', 'just', 'had', 'a', 'look', 'at', 'the', 'menu', 'told', 'myself', 'that', 'I', 'can', 'do', 'it', 'I', 'am', 'not', 'blessed', 'with', 'a', 'tremendous', 'appetite', 'welcomed', 'with', 'the', 'mango', 'soup', 'followed', 'by', 'the', 'wide', 'variety', 'of', 'dishes', 'served', 'I', 'have', 'developed', 'the', 'new', 'love', 'for', 'Pongal', 'both', 'sweet', 'and', 'Khara', 'I', 'can', 'still', 'feel', 'the', 'taste', 'of', 'the', 'ghee', 'bursting', 'in', 'my', 'mouth', 'but', 'it', 'was', 'kai', 'holige', 'that', 'made', 'my', 'day', 'crisp', 'and', 'soft', 'not', 'to', 'forget', 'food', 'is', 'served', 'on', 'a', 'banana', 'leaf', 'that', 'adds', 'in', 'more', 'flavor', 'and', 'taste', 'waiters', 'are', 'attentive', 'and', 'responsive', 'The', 'customer', 's', 'needs', 'are', 'monitored', 'and', 'addressed', 'so', 'much', 'variety', 'for', 'just', 'Rs', 'without', 'compromising', 'on', 'quantity', 'and', 'quality', 'and', 'yes', 'it', 'is', 'unlimited', 'This', 'visit', 'turned', 'out', 'to', 'be', 'a', 'surprise', 'package', 'Rated', 'RATED', 'n', 'Food', 'is', 'good', 'nNo', 'parking', 'nAmbience', 'is', 'average', 'nOverall', 'its', 'value', 'for', 'money', 'if', 'you', 'looking', 'for', 'south', 'Indian', 'food', 'nPreferred', 'the', 'tiffin', 'items', 'Rated', 'RATED', 'n', 'Been', 'here', 'last', 'week', 'with', 'high', 'expectations', 'based', 'on', 'few', 'reviews', 'But', 'utterly', 'disappointed', 'with', 'the', 'food', 'quality', 'taste', 'I', 'feel', 'it', 's', 'an', 'overhyped', 'place', 'There', 'are', 'many', 'better', 'places', 'in', 'the', 'vicinity', 'for', 'Plantain', 'leaf', 'meal', 'There', 'was', 'too', 'much', 'of', 'waiting', 'these', 'staffs', 'were', 'too', 'hurry', 'in', 'serving', 'food', 'asking', 'people', 'to', 'finish', 'meal', 'leave', 'quickly', 'I', 'can', 'understand', 'there', 'is', 'a', 'waiting', 'and', 'staffs', 'should', 'approach', 'in', 'a', 'positive', 'way', 'I', 'will', 'never', 'go', 'there', 'again', 'n', 'nbangaloreepicure', 'com', 'Rated', 'RATED', 'n', 'I', 'have', 'a', 'confession', 'being', 'a', 'south', 'Indian', 'I', 'distaste', 'south', 'Indian', 'food', 'not', 'that', 'I', 'hate', 'it', 'I', 'don', 't', 'like', 'it', 'either', 'But', 'still', 'made', 'up', 'my', 'mind', 'on', 'Sankaranti', 'to', 'have', 'authentic', 'south', 'Indian', 'food', 'visited', 'Adduri', 'Udupi', 'Bhojana', 'because', 'it', 'was', 'close', 'to', 'my', 'place', 'I', 'just', 'had', 'a', 'look', 'at', 'the', 'menu', 'told', 'myself', 'that', 'I', 'can', 'do', 'it', 'I', 'am', 'not', 'blessed', 'with', 'a', 'tremendous', 'appetite', 'welcomed', 'with', 'the', 'mango', 'soup', 'followed', 'by', 'the', 'wide', 'variety', 'of', 'dishes', 'served', 'I', 'have', 'developed', 'the', 'new', 'love', 'for', 'Pongal', 'both', 'sweet', 'and', 'Khara', 'I', 'can', 'still', 'feel', 'the', 'taste', 'of', 'the', 'ghee', 'bursting', 'in', 'my', 'mouth', 'but', 'it', 'was', 'kai', 'holige', 'that', 'made', 'my', 'day', 'crisp', 'and', 'soft', 'not', 'to', 'forget', 'food', 'is', 'served', 'on', 'a', 'banana', 'leaf', 'that', 'adds', 'in', 'more', 'flavor', 'and', 'taste', 'waiters', 'are', 'attentive', 'and', 'responsive', 'The', 'customer', 's', 'needs', 'are', 'monitored', 'and', 'addressed', 'so', 'much', 'variety', 'for', 'just', 'Rs', 'without', 'compromising', 'on', 'quantity', 'and', 'quality', 'and', 'yes', 'it', 'is', 'unlimited', 'This', 'visit', 'turned', 'out', 'to', 'be', 'a', 'surprise', 'package', 'Rated', 'RATED', 'n', 'Food', 'is', 'good', 'nNo', 'parking', 'nAmbience', 'is', 'average', 'nOverall', 'its', 'value', 'for', 'money', 'if', 'you', 'looking', 'for', 'south', 'Indian', 'food', 'nPreferred', 'the', 'tiffin', 'items', 'Rated', 'RATED', 'n', 'Been', 'here', 'last', 'week', 'with', 'high', 'expectations', 'based', 'on', 'few', 'reviews', 'But', 'utterly', 'disappointed', 'with', 'the', 'food', 'quality', 'taste', 'I', 'feel', 'it', 's', 'an', 'overhyped', 'place', 'There', 'are', 'many', 'better', 'places', 'in', 'the', 'vicinity', 'for', 'Plantain', 'leaf', 'meal', 'There', 'was', 'too', 'much', 'of', 'waiting', 'these', 'staffs', 'were', 'too', 'hurry', 'in', 'serving', 'food', 'asking', 'people', 'to', 'finish', 'meal', 'leave', 'quickly', 'I', 'can', 'understand', 'there', 'is', 'a', 'waiting', 'and', 'staffs', 'should', 'approach', 'in', 'a', 'positive', 'way', 'I', 'will', 'never', 'go', 'there', 'again', 'n', 'nbangaloreepicure', 'com', 'Rated', 'RATED', 'n', 'I', 'have', 'a', 'confession', 'being', 'a', 'south', 'Indian', 'I', 'distaste', 'south', 'Indian', 'food', 'not', 'that', 'I', 'hate', 'it', 'I', 'don', 't', 'like', 'it', 'either', 'But', 'still', 'made', 'up', 'my', 'mind', 'on', 'Sankaranti', 'to', 'have', 'authentic', 'south', 'Indian', 'food', 'visited', 'Adduri', 'Udupi', 'Bhojana', 'because', 'it', 'was', 'close', 'to', 'my', 'place', 'I', 'just', 'had', 'a', 'look', 'at', 'the', 'menu', 'told', 'myself', 'that', 'I', 'can', 'do', 'it', 'I', 'am', 'not', 'blessed', 'with', 'a', 'tremendous', 'appetite', 'welcomed', 'with', 'the', 'mango', 'soup', 'followed', 'by', 'the', 'wide', 'variety', 'of', 'dishes', 'served', 'I', 'have', 'developed', 'the', 'new', 'love', 'for', 'Pongal', 'both', 'sweet', 'and', 'Khara', 'I', 'can', 'still', 'feel', 'the', 'taste', 'of', 'the', 'ghee', 'bursting', 'in', 'my', 'mouth', 'but', 'it', 'was', 'kai', 'holige', 'that', 'made', 'my', 'day', 'crisp', 'and', 'soft', 'not', 'to', 'forget', 'food', 'is', 'served', 'on', 'a', 'banana', 'leaf', 'that', 'adds', 'in', 'more', 'flavor', 'and', 'taste', 'waiters', 'are', 'attentive', 'and', 'responsive', 'The', 'customer', 's', 'needs', 'are', 'monitored', 'and', 'addressed', 'so', 'much', 'variety', 'for', 'just', 'Rs', 'without', 'compromising', 'on', 'quantity', 'and', 'quality', 'and', 'yes', 'it', 'is', 'unlimited', 'This', 'visit', 'turned', 'out', 'to', 'be', 'a', 'surprise', 'package', 'Rated', 'RATED', 'n', 'Food', 'is', 'good', 'nNo', 'parking', 'nAmbience', 'is', 'average', 'nOverall', 'its', 'value', 'for', 'money', 'if', 'you', 'looking', 'for', 'south', 'Indian', 'food', 'nPreferred', 'the', 'tiffin', 'items', 'Rated', 'RATED', 'n', 'Been', 'here', 'last', 'week', 'with', 'high', 'expectations', 'based', 'on', 'few', 'reviews', 'But', 'utterly', 'disappointed', 'with', 'the', 'food', 'quality', 'taste', 'I', 'feel', 'it', 's', 'an', 'overhyped', 'place', 'There', 'are', 'many', 'better', 'places', 'in', 'the', 'vicinity', 'for', 'Plantain', 'leaf', 'meal', 'There', 'was', 'too', 'much', 'of', 'waiting', 'these', 'staffs', 'were', 'too', 'hurry', 'in', 'serving', 'food', 'asking', 'people', 'to', 'finish', 'meal', 'leave', 'quickly', 'I', 'can', 'understand', 'there', 'is', 'a', 'waiting', 'and', 'staffs', 'should', 'approach', 'in', 'a', 'positive', 'way', 'I', 'will', 'never', 'go', 'there', 'again', 'n', 'nbangaloreepicure', 'com', 'Rated', 'RATED', 'n', 'I', 'have', 'a', 'confession', 'being', 'a', 'south', 'Indian', 'I', 'distaste', 'south', 'Indian', 'food', 'not', 'that', 'I', 'hate', 'it', 'I', 'don', 't', 'like', 'it', 'either', 'But', 'still', 'made', 'up', 'my', 'mind', 'on', 'Sankaranti', 'to', 'have', 'authentic', 'south', 'Indian', 'food', 'visited', 'Adduri', 'Udupi', 'Bhojana', 'because', 'it', 'was', 'close', 'to', 'my', 'place', 'I', 'just', 'had', 'a', 'look', 'at', 'the', 'menu', 'told', 'myself', 'that', 'I', 'can', 'do', 'it', 'I', 'am', 'not', 'blessed', 'with', 'a', 'tremendous', 'appetite', 'welcomed', 'with', 'the', 'mango', 'soup', 'followed', 'by', 'the', 'wide', 'variety', 'of', 'dishes', 'served', 'I', 'have', 'developed', 'the', 'new', 'love', 'for', 'Pongal', 'both', 'sweet', 'and', 'Khara', 'I', 'can', 'still', 'feel', 'the', 'taste', 'of', 'the', 'ghee', 'bursting', 'in', 'my', 'mouth', 'but', 'it', 'was', 'kai', 'holige', 'that', 'made', 'my', 'day', 'crisp', 'and', 'soft', 'not', 'to', 'forget', 'food', 'is', 'served', 'on', 'a', 'banana', 'leaf', 'that', 'adds', 'in', 'more', 'flavor', 'and', 'taste', 'waiters', 'are', 'attentive', 'and', 'responsive', 'The', 'customer', 's', 'needs', 'are', 'monitored', 'and', 'addressed', 'so', 'much', 'variety', 'for', 'just', 'Rs', 'without', 'compromising', 'on', 'quantity', 'and', 'quality', 'and', 'yes', 'it', 'is', 'unlimited', 'This', 'visit', 'turned', 'out', 'to', 'be', 'a', 'surprise', 'package', 'Rated', 'RATED', 'n', 'Food', 'is', 'good', 'nNo', 'parking', 'nAmbience', 'is', 'average', 'nOverall', 'its', 'value', 'for', 'money', 'if', 'you', 'looking', 'for', 'south', 'Indian', 'food', 'nPreferred', 'the', 'tiffin', 'items', 'Rated', 'RATED', 'n', 'Had', 'been', 'on', 'a', 'week', 'night', 'for', 'an', 'authentic', 'south', 'Indian', 'food', 'I', 'personally', 'love', 'being', 'served', 'on', 'banyan', 'leaf', 'The', 'waiters', 'are', 'all', 'dressed', 'up', 'in', 'traditional', 'Mysore', 'attire', 'wearing', 'with', 'a', 'peta', 'The', 'food', 'was', 'delicious', 'and', 'definitely', 'worth', 'it', 's', 'price', 'The', 'waiters', 'are', 'friendly', 'and', 'serve', 'u', 'well', 'with', 'a', 'smile', 'The', 'food', 'is', 'prepared', 'without', 'garlic', 'which', 'is', 'a', 'plus', 'point', 'attracting', 'many', 'senior', 'customers', 'Rated', 'RATED', 'n', 'Food', 'is', 'good', 'and', 'enjoyed', 'With', 'Rs', 'is', 'very', 'nice', 'nNote', 'It', 'happen', 'with', 'us', 'n', 'If', 'you', 'going', 'TWO', 'people', 'you', 'may', 'need', 'to', 'share', 'the', 'table', 'there', 'Its', 'almost', 'crowed', 'n', 'You', 'have', 'to', 'sit', 'where', 'they', 'ask', 'you', 'can', 't', 'choose', 'even', 'if', 'all', 'the', 'table', 'are', 'empty', 'nJust', 'wait', 'eat', 'and', 'come', 'back', 'Rated', 'RATED', 'n', 'Excellent', 'Ambience', 'with', 'delicious', 'meals', 'with', 'variety', 'types', 'Worth', 'paying', 'for', 'money', 'and', 'you', 'can', 'dine', 'out', 'if', 'you', 'are', 'with', 'more', 'friends', 'relatives', 'in', 'home', 'Rated', 'RATED', 'n', 'Very', 'good', 'and', 'Unlimited', 'especially', 'masala', 'dosa', 'Service', 'and', 'ambience', 'was', 'also', 'good', 'will', 'visit', 'again', 'with', 'friends', 'very', 'very', 'reasonble', 'and', 'wholesome', 'food', 'Rated', 'RATED', 'n', 'Aaaa', 'wt', 'to', 'tell', 'Unlimited', 'food', 'food', 'was', 'like', 'exactly', 'like', 'south', 'indian', 'marriage', 'food', 'soups', 'sides', 'masala', 'dosa', 'all', 'were', 'unlimited', 'for', 'just', 'except', 'ice', 'cream', 'in', 'the', 'end', 'they', 'give', 'a', 'water', 'bottle', 'and', 'main', 'thing', 'is', 'have', 'patience', 'to', 'get', 'place', 'to', 'sit', 'there', 'is', 'no', 'parking', 'place', 'of', 'this', 'outlet', 'and', 'difficult', 'to', 'park', 'in', 'front', 'of', 'the', 'restaurants']\n"
     ]
    }
   ],
   "source": [
    "## tokenize data of very first review\n",
    "print(tokenizer.tokenize(data['reviews_list'][3]))"
   ]
  },
  {
   "cell_type": "code",
   "execution_count": 51,
   "id": "1f92f1e6",
   "metadata": {},
   "outputs": [
    {
     "data": {
      "text/plain": [
       "(51490, 18)"
      ]
     },
     "execution_count": 51,
     "metadata": {},
     "output_type": "execute_result"
    }
   ],
   "source": [
    "data.shape"
   ]
  },
  {
   "cell_type": "code",
   "execution_count": 52,
   "id": "3bb14c90",
   "metadata": {},
   "outputs": [],
   "source": [
    "# Applying the tokenizer to each row of the reviews\n",
    "# take around 8-10 mins for 51490 rows .. \n",
    "# take 1-2 mins for 1k-10K Rows\n",
    "\n",
    "# reviews_tokens = data['reviews_list'].apply(tokenizer.tokenize)"
   ]
  },
  {
   "cell_type": "code",
   "execution_count": 56,
   "id": "dd46054a",
   "metadata": {},
   "outputs": [],
   "source": [
    "sample = data[0:10000]"
   ]
  },
  {
   "cell_type": "code",
   "execution_count": 57,
   "id": "4b81f934",
   "metadata": {},
   "outputs": [],
   "source": [
    "reviews_tokens = sample['reviews_list'].apply(tokenizer.tokenize)"
   ]
  },
  {
   "cell_type": "code",
   "execution_count": 58,
   "id": "0a83b566",
   "metadata": {},
   "outputs": [
    {
     "data": {
      "text/plain": [
       "10000"
      ]
     },
     "execution_count": 58,
     "metadata": {},
     "output_type": "execute_result"
    }
   ],
   "source": [
    "len(reviews_tokens)"
   ]
  },
  {
   "cell_type": "code",
   "execution_count": null,
   "id": "669a5930",
   "metadata": {},
   "outputs": [],
   "source": []
  },
  {
   "cell_type": "code",
   "execution_count": null,
   "id": "9e633707",
   "metadata": {},
   "outputs": [],
   "source": []
  },
  {
   "cell_type": "code",
   "execution_count": null,
   "id": "e3a3c4ad",
   "metadata": {},
   "outputs": [],
   "source": []
  },
  {
   "cell_type": "markdown",
   "id": "d747413b",
   "metadata": {},
   "source": [
    "## 5.. Performing Unigram analysis & removal of stopwords .."
   ]
  },
  {
   "cell_type": "code",
   "execution_count": 55,
   "id": "9fad2505",
   "metadata": {},
   "outputs": [],
   "source": [
    "#### c) Removal of stopwords from data"
   ]
  },
  {
   "cell_type": "code",
   "execution_count": 59,
   "id": "829df648",
   "metadata": {},
   "outputs": [],
   "source": [
    "from nltk.corpus import stopwords"
   ]
  },
  {
   "cell_type": "code",
   "execution_count": 60,
   "id": "102815b9",
   "metadata": {},
   "outputs": [
    {
     "name": "stdout",
     "output_type": "stream",
     "text": [
      "['i', 'me', 'my', 'myself', 'we', 'our', 'ours', 'ourselves', 'you', \"you're\", \"you've\", \"you'll\", \"you'd\", 'your', 'yours', 'yourself', 'yourselves', 'he', 'him', 'his', 'himself', 'she', \"she's\", 'her', 'hers', 'herself', 'it', \"it's\", 'its', 'itself', 'they', 'them', 'their', 'theirs', 'themselves', 'what', 'which', 'who', 'whom', 'this', 'that', \"that'll\", 'these', 'those', 'am', 'is', 'are', 'was', 'were', 'be', 'been', 'being', 'have', 'has', 'had', 'having', 'do', 'does', 'did', 'doing', 'a', 'an', 'the', 'and', 'but', 'if', 'or', 'because', 'as', 'until', 'while', 'of', 'at', 'by', 'for', 'with', 'about', 'against', 'between', 'into', 'through', 'during', 'before', 'after', 'above', 'below', 'to', 'from', 'up', 'down', 'in', 'out', 'on', 'off', 'over', 'under', 'again', 'further', 'then', 'once', 'here', 'there', 'when', 'where', 'why', 'how', 'all', 'any', 'both', 'each', 'few', 'more', 'most', 'other', 'some', 'such', 'no', 'nor', 'not', 'only', 'own', 'same', 'so', 'than', 'too', 'very', 's', 't', 'can', 'will', 'just', 'don', \"don't\", 'should', \"should've\", 'now', 'd', 'll', 'm', 'o', 're', 've', 'y', 'ain', 'aren', \"aren't\", 'couldn', \"couldn't\", 'didn', \"didn't\", 'doesn', \"doesn't\", 'hadn', \"hadn't\", 'hasn', \"hasn't\", 'haven', \"haven't\", 'isn', \"isn't\", 'ma', 'mightn', \"mightn't\", 'mustn', \"mustn't\", 'needn', \"needn't\", 'shan', \"shan't\", 'shouldn', \"shouldn't\", 'wasn', \"wasn't\", 'weren', \"weren't\", 'won', \"won't\", 'wouldn', \"wouldn't\"]\n"
     ]
    }
   ],
   "source": [
    "# These are common words defined by Python developers that typically \n",
    "## don't add meaning to the text and can be removed\n",
    "\n",
    "stop = stopwords.words(\"english\")\n",
    "print(stop)"
   ]
  },
  {
   "cell_type": "code",
   "execution_count": 58,
   "id": "ed5e950b",
   "metadata": {},
   "outputs": [],
   "source": [
    "### we will figure out there are some more stopwords in my data, that we can add it to my stop list"
   ]
  },
  {
   "cell_type": "code",
   "execution_count": 76,
   "id": "442aa319",
   "metadata": {},
   "outputs": [],
   "source": [
    "# Adding custom words to stopwords \n",
    "stop.extend([\"rated\", \"n\", \"nan\", \"x\" , \"RATED\" , \"Rated\"])"
   ]
  },
  {
   "cell_type": "code",
   "execution_count": 77,
   "id": "48fcc9b2",
   "metadata": {},
   "outputs": [
    {
     "name": "stdout",
     "output_type": "stream",
     "text": [
      "['i', 'me', 'my', 'myself', 'we', 'our', 'ours', 'ourselves', 'you', \"you're\", \"you've\", \"you'll\", \"you'd\", 'your', 'yours', 'yourself', 'yourselves', 'he', 'him', 'his', 'himself', 'she', \"she's\", 'her', 'hers', 'herself', 'it', \"it's\", 'its', 'itself', 'they', 'them', 'their', 'theirs', 'themselves', 'what', 'which', 'who', 'whom', 'this', 'that', \"that'll\", 'these', 'those', 'am', 'is', 'are', 'was', 'were', 'be', 'been', 'being', 'have', 'has', 'had', 'having', 'do', 'does', 'did', 'doing', 'a', 'an', 'the', 'and', 'but', 'if', 'or', 'because', 'as', 'until', 'while', 'of', 'at', 'by', 'for', 'with', 'about', 'against', 'between', 'into', 'through', 'during', 'before', 'after', 'above', 'below', 'to', 'from', 'up', 'down', 'in', 'out', 'on', 'off', 'over', 'under', 'again', 'further', 'then', 'once', 'here', 'there', 'when', 'where', 'why', 'how', 'all', 'any', 'both', 'each', 'few', 'more', 'most', 'other', 'some', 'such', 'no', 'nor', 'not', 'only', 'own', 'same', 'so', 'than', 'too', 'very', 's', 't', 'can', 'will', 'just', 'don', \"don't\", 'should', \"should've\", 'now', 'd', 'll', 'm', 'o', 're', 've', 'y', 'ain', 'aren', \"aren't\", 'couldn', \"couldn't\", 'didn', \"didn't\", 'doesn', \"doesn't\", 'hadn', \"hadn't\", 'hasn', \"hasn't\", 'haven', \"haven't\", 'isn', \"isn't\", 'ma', 'mightn', \"mightn't\", 'mustn', \"mustn't\", 'needn', \"needn't\", 'shan', \"shan't\", 'shouldn', \"shouldn't\", 'wasn', \"wasn't\", 'weren', \"weren't\", 'won', \"won't\", 'wouldn', \"wouldn't\", 'rated', 'n', 'nan', 'x', 'rated', 'n', 'nan', 'x', 'RATED', 'rated', 'n', 'nan', 'x', 'RATED', 'Rated']\n"
     ]
    }
   ],
   "source": [
    "print(stop)"
   ]
  },
  {
   "cell_type": "code",
   "execution_count": 78,
   "id": "201a59d4",
   "metadata": {},
   "outputs": [
    {
     "name": "stdout",
     "output_type": "stream",
     "text": [
      "['Rated', 'RATED', 'n', 'Great', 'food', 'and', 'proper', 'Karnataka', 'style', 'full', 'meals', 'Been', 'there', 'twice', 'and', 'was', 'fully', 'satisfied', 'Will', 'give', 'stars', 'if', 'it', 's', 'well', 'managed', 'Rated', 'RATED', 'n', 'Reached', 'the', 'place', 'at', 'pm', 'on', 'Saturday', 'Half', 'of', 'the', 'items', 'on', 'the', 'menu', 'were', 'over', 'What', 'was', 'annoying', 'was', 'is', 'the', 'food', 'was', 'cold', 'The', 'taste', 'was', 'also', 'very', 'average', 'Only', 'dosa', 'and', 'holige', 'were', 'good', 'There', 'were', 'very', 'few', 'people', 'in', 'the', 'restaurant', 'and', 'the', 'service', 'was', 'still', 'very', 'slow', 'The', 'waiters', 'were', 'all', 'standing', 'in', 'one', 'corner', 'and', 'talking', 'Had', 'to', 'call', 'them', 'repeatedly', 'Rated', 'RATED', 'n', 'Had', 'been', 'here', 'good', 'food', 'served', 'and', 'tasty', 'good', 'place', 'to', 'go', 'with', 'freinds', 'and', 'family', 'should', 'be', 'first', 'to', 'get', 'served', 'well', 'with', 'all', 'food', 'One', 'of', 'the', 'good', 'hotel', 'there', 'for', 'this', 'price', 'Rated', 'RATED', 'n', 'How', 'can', 'a', 'Udupi', 'restaurant', 'be', 'so', 'dirty', 'the', 'floor', 'the', 'walls', 'the', 'waiters', 'are', 'all', 'stained', 'in', 'food', 'Why', 'cant', 'they', 'clean', 'it', 'The', 'floor', 'even', 'had', 'decorative', 'colour', 'paper', 'every', 'where', 'and', 'lot', 'of', 'food', 'Now', 'coming', 'to', 'the', 'taste', 'of', 'the', 'food', 'it', 'was', 'pretty', 'decent', 'for', 'what', 'they', 'chargw', 'What', 'upset', 'us', 'was', 'the', 'menu', 'says', 'they', 'serve', 'thambuli', 'two', 'variety', 'of', 'rice', 'etc', 'but', 'they', 'were', 'all', 'over', 'at', 'but', 'they', 'still', 'charged', 'us', 'full', 'amount', 'Lastly', 'if', 'u', 'r', 'ok', 'to', 'b', 'seated', 'with', 'random', 'people', 'and', 'adjust', 'with', 'their', 'table', 'manners', 'burrping', 'etc', 'then', 'tis', 'place', 'is', 'decent', 'for', 'a', 'quick', 'veg', 'udupi', 'meals', 'Rated', 'RATED', 'n', 'Aadhuri', 'Udupi', 'bhojana', 'is', 'one', 'of', 'the', 'best', 'vegetarian', 'hotel', 'in', 'and', 'around', 'Banashankari', 'locality', 'nwere', 'we', 'can', 'enjoy', 'the', 'authentic', 'south', 'Karnataka', 'style', 'food', 'Rated', 'RATED', 'n', 'One', 'of', 'the', 'best', 'restaurants', 'for', 'unlimited', 'food', 'Price', 'for', 'one', 'full', 'unlimited', 'meal', 'is', 'and', 'the', 'service', 'is', 'awesome', 'here', 'If', 'you', 'x', 'x', 'x', 'x', 'x', 'x', 'x', 'x', 're', 'a', 'costalian', 'you', 'will', 'love', 'the', 'food', 'served', 'here', 'Rated', 'RATED', 'n', 'Been', 'here', 'a', 'couple', 'of', 'times', 'Highly', 'satisfying', 'on', 'both', 'the', 'ocassions', 'Great', 'food', 'Decent', 'service', 'At', 'price', 'of', 'per', 'person', 'it', 'is', 'of', 'a', 'great', 'value', 'The', 'staff', 'here', 'serves', 'in', 'a', 'traditional', 'Mysore', 'style', 'dresses', 'The', 'food', 'is', 'authentic', 'Karnataka', 'meals', 'I', 'really', 'liked', 'the', 'pineapple', 'pickle', 'chutney', 'They', 'serve', 'some', 'varities', 'of', 'rice', 'of', 'which', 'you', 'shouldn', 't', 'try', 'all', 'as', 'you', 'would', 'already', 'be', 'full', 'Roti', 'Dosa', 'were', 'decent', 'In', 'the', 'deserts', 'Payasam', 'Holige', 'were', 'good', 'nI', 'think', 'it', 'is', 'one', 'the', 'must', 'try', 'places', 'to', 'try', 'some', 'authentic', 'south', 'food', 'even', 'if', 'you', 'have', 'been', 'to', 'the', 'likes', 'of', 'Kamath', 'etc', 'this', 'one', 'is', 'a', 'little', 'different', 'Rated', 'RATED', 'n', 'Very', 'good', 'restorent', 'good', 'south', 'Indian', 'food', 'very', 'nice', 'all', 'food', 's', 'are', 'good', 'we', 'spent', 'good', 'time', 'and', 'food', 'in', 'this', 'hotel', 'value', 'of', 'money', 'we', 'loved', 'it', 'Rated', 'RATED', 'n', 'I', 'went', 'to', 'this', 'restaurant', 'on', 'Sunday', 'afternoon', 'It', 'was', 'a', 'bit', 'crowded', 'n', 'nIts', 'located', 'in', 'the', 'st', 'floor', 'Above', 'anna', 'kuteera', 'kathriguppe', 'n', 'nYou', 'need', 'to', 'take', 'food', 'coupon', 'in', 'the', 'ground', 'floor', 'itself', 'nit', 'was', 'rs', 'n', 'nTaste', 'wise', 'it', 'was', 'good', 'nService', 'was', 'slow', 'nNothing', 'exciting', 'different', 'in', 'the', 'menu', 'nWhatever', 'they', 'serve', 'its', 'good', 'nWorth', 'for', 'money', 'Rated', 'RATED', 'n', 'Awesome', 'place', 'worth', 'with', 'price', 'quality', 'quantity', 'service', 'hygiene', 'and', 'discipline', 'I', 'loved', 'it', 'wish', 'there', 'were', 'more', 'rating', 'stars', 'to', 'give', 'I', 'give', 'on', 'for', 'sure', 'Rated', 'RATED', 'n', 'Nice', 'food', 'good', 'ambiance', 'so', 'many', 'verity', 'of', 'food', 'this', 'time', 'i', 'was', 'in', 'hurry', 'so', 'next', 'review', 'will', 'be', 'detailed', 'one', 'Its', 'good', 'to', 'see', 'all', 'dishes', 'at', 'one', 'place', 'Rated', 'RATED', 'n', 'The', 'food', 'was', 'not', 'satisfactory', 'Not', 'one', 'item', 'served', 'could', 'be', 'eaten', 'again', 'Only', 'advantage', 'is', 'the', 'price', 'but', 'even', 'that', 'is', 'not', 'going', 'to', 'be', 'enough', 'to', 'make', 'me', 'visit', 'the', 'place', 'again', 'Dear', 'Udupi', 'staff', 'people', 'wouldn', 'x', 'x', 'x', 'x', 'x', 'x', 'x', 'x', 't', 'mind', 'if', 'the', 'food', 'quality', 'was', 'better', 'for', 'a', 'higher', 'price', 'and', 'please', 'get', 'more', 'fans', 'so', 'that', 'people', 'won', 'x', 'x', 'x', 'x', 'x', 'x', 'x', 'x', 't', 'have', 'to', 'deal', 'with', 'another', 'disappointment', 'of', 'sweating', 'while', 'eating', 'Rated', 'RATED', 'n', 'Excellent', 'quality', 'and', 'taste', 'more', 'variety', 'of', 'authentic', 'south', 'Indian', 'food', 'Excellent', 'service', 'Highly', 'recommended', 'Worth', 'the', 'money', 'we', 'pay', 'here', 'Rated', 'RATED', 'n', 'I', 'm', 'rating', 'only', 'because', 'of', 'the', 'large', 'number', 'of', 'items', 'they', 'serve', 'for', 'the', 'price', 'they', 'charge', 'While', 'the', 'taste', 'is', 'moderate', 'the', 'biggest', 'turn', 'off', 'is', 'the', 'poor', 'service', 'and', 'totally', 'unresponsive', 'staff', 'They', 'are', 'either', 'understaffed', 'or', 'poorly', 'trained', 'I', 'didn', 't', 'get', 'to', 'taste', 'a', 'few', 'items', 'thanks', 'to', 'their', 'ever', 'busy', 'staff', 'and', 'ended', 'eating', 'what', 'was', 'served', 'Please', 'learn', 'the', 'crowd', 'management', 'from', 'other', 'peers', 'like', 'maiyya', 'and', 'roti', 'ghar', 'Rated', 'RATED', 'n', 'One', 'of', 'my', 'colleagues', 'suggested', 'this', 'place', 'Went', 'there', 'at', 'pm', 'and', 'place', 'wasnt', 'crowded', 'Ambience', 'is', 'decent', 'and', 'cool', 'A', 'welcome', 'drink', 'appekai', 'saru', 'was', 'served', 'Then', 'started', 'typical', 'baale', 'yele', 'uta', 'Diffrerent', 'types', 'of', 'palya', 'kosambari', 'and', 'sides', 'Then', 'came', 'masala', 'dosa', 'pulka', 'pulav', 'veg', 'rice', 'bath', 'Masala', 'dosa', 'was', 'very', 'very', 'tasty', 'Service', 'is', 'bit', 'fast', 'as', 'people', 'will', 'be', 'coming', 'but', 'they', 'will', 'make', 'it', 'slow', 'if', 'u', 'tell', 'them', 'to', 'Then', 'comes', 'rice', 'with', 'sambar', 'rasam', 'daal', 'tambali', 'And', 'yes', 'dont', 'forget', 'to', 'eat', 'holige', 'payasam', 'and', 'icecream', 'Service', 'is', 'very', 'nice', 'One', 'best', 'thing', 'is', 'all', 'of', 'this', 'comes', 'in', 'just', 'rs', 'and', 'its', 'unlimited', 'What', 'else', 'you', 'want', 'A', 'must', 'visit', 'place', 'for', 'south', 'indian', 'foodie', 'Rated', 'RATED', 'n', 'Been', 'here', 'last', 'week', 'with', 'high', 'expectations', 'based', 'on', 'few', 'reviews', 'But', 'utterly', 'disappointed', 'with', 'the', 'food', 'quality', 'taste', 'I', 'feel', 'it', 's', 'an', 'overhyped', 'place', 'There', 'are', 'many', 'better', 'places', 'in', 'the', 'vicinity', 'for', 'Plantain', 'leaf', 'meal', 'There', 'was', 'too', 'much', 'of', 'waiting', 'these', 'staffs', 'were', 'too', 'hurry', 'in', 'serving', 'food', 'asking', 'people', 'to', 'finish', 'meal', 'leave', 'quickly', 'I', 'can', 'understand', 'there', 'is', 'a', 'waiting', 'and', 'staffs', 'should', 'approach', 'in', 'a', 'positive', 'way', 'I', 'will', 'never', 'go', 'there', 'again', 'n', 'nbangaloreepicure', 'com', 'Rated', 'RATED', 'n', 'I', 'have', 'a', 'confession', 'being', 'a', 'south', 'Indian', 'I', 'distaste', 'south', 'Indian', 'food', 'not', 'that', 'I', 'hate', 'it', 'I', 'don', 't', 'like', 'it', 'either', 'But', 'still', 'made', 'up', 'my', 'mind', 'on', 'Sankaranti', 'to', 'have', 'authentic', 'south', 'Indian', 'food', 'visited', 'Adduri', 'Udupi', 'Bhojana', 'because', 'it', 'was', 'close', 'to', 'my', 'place', 'I', 'just', 'had', 'a', 'look', 'at', 'the', 'menu', 'told', 'myself', 'that', 'I', 'can', 'do', 'it', 'I', 'am', 'not', 'blessed', 'with', 'a', 'tremendous', 'appetite', 'welcomed', 'with', 'the', 'mango', 'soup', 'followed', 'by', 'the', 'wide', 'variety', 'of', 'dishes', 'served', 'I', 'have', 'developed', 'the', 'new', 'love', 'for', 'Pongal', 'both', 'sweet', 'and', 'Khara', 'I', 'can', 'still', 'feel', 'the', 'taste', 'of', 'the', 'ghee', 'bursting', 'in', 'my', 'mouth', 'but', 'it', 'was', 'kai', 'holige', 'that', 'made', 'my', 'day', 'crisp', 'and', 'soft', 'not', 'to', 'forget', 'food', 'is', 'served', 'on', 'a', 'banana', 'leaf', 'that', 'adds', 'in', 'more', 'flavor', 'and', 'taste', 'waiters', 'are', 'attentive', 'and', 'responsive', 'The', 'customer', 's', 'needs', 'are', 'monitored', 'and', 'addressed', 'so', 'much', 'variety', 'for', 'just', 'Rs', 'without', 'compromising', 'on', 'quantity', 'and', 'quality', 'and', 'yes', 'it', 'is', 'unlimited', 'This', 'visit', 'turned', 'out', 'to', 'be', 'a', 'surprise', 'package', 'Rated', 'RATED', 'n', 'Food', 'is', 'good', 'nNo', 'parking', 'nAmbience', 'is', 'average', 'nOverall', 'its', 'value', 'for', 'money', 'if', 'you', 'looking', 'for', 'south', 'Indian', 'food', 'nPreferred', 'the', 'tiffin', 'items', 'Rated', 'RATED', 'n', 'Been', 'here', 'last', 'week', 'with', 'high', 'expectations', 'based', 'on', 'few', 'reviews', 'But', 'utterly', 'disappointed', 'with', 'the', 'food', 'quality', 'taste', 'I', 'feel', 'it', 's', 'an', 'overhyped', 'place', 'There', 'are', 'many', 'better', 'places', 'in', 'the', 'vicinity', 'for', 'Plantain', 'leaf', 'meal', 'There', 'was', 'too', 'much', 'of', 'waiting', 'these', 'staffs', 'were', 'too', 'hurry', 'in', 'serving', 'food', 'asking', 'people', 'to', 'finish', 'meal', 'leave', 'quickly', 'I', 'can', 'understand', 'there', 'is', 'a', 'waiting', 'and', 'staffs', 'should', 'approach', 'in', 'a', 'positive', 'way', 'I', 'will', 'never', 'go', 'there', 'again', 'n', 'nbangaloreepicure', 'com', 'Rated', 'RATED', 'n', 'I', 'have', 'a', 'confession', 'being', 'a', 'south', 'Indian', 'I', 'distaste', 'south', 'Indian', 'food', 'not', 'that', 'I', 'hate', 'it', 'I', 'don', 't', 'like', 'it', 'either', 'But', 'still', 'made', 'up', 'my', 'mind', 'on', 'Sankaranti', 'to', 'have', 'authentic', 'south', 'Indian', 'food', 'visited', 'Adduri', 'Udupi', 'Bhojana', 'because', 'it', 'was', 'close', 'to', 'my', 'place', 'I', 'just', 'had', 'a', 'look', 'at', 'the', 'menu', 'told', 'myself', 'that', 'I', 'can', 'do', 'it', 'I', 'am', 'not', 'blessed', 'with', 'a', 'tremendous', 'appetite', 'welcomed', 'with', 'the', 'mango', 'soup', 'followed', 'by', 'the', 'wide', 'variety', 'of', 'dishes', 'served', 'I', 'have', 'developed', 'the', 'new', 'love', 'for', 'Pongal', 'both', 'sweet', 'and', 'Khara', 'I', 'can', 'still', 'feel', 'the', 'taste', 'of', 'the', 'ghee', 'bursting', 'in', 'my', 'mouth', 'but', 'it', 'was', 'kai', 'holige', 'that', 'made', 'my', 'day', 'crisp', 'and', 'soft', 'not', 'to', 'forget', 'food', 'is', 'served', 'on', 'a', 'banana', 'leaf', 'that', 'adds', 'in', 'more', 'flavor', 'and', 'taste', 'waiters', 'are', 'attentive', 'and', 'responsive', 'The', 'customer', 's', 'needs', 'are', 'monitored', 'and', 'addressed', 'so', 'much', 'variety', 'for', 'just', 'Rs', 'without', 'compromising', 'on', 'quantity', 'and', 'quality', 'and', 'yes', 'it', 'is', 'unlimited', 'This', 'visit', 'turned', 'out', 'to', 'be', 'a', 'surprise', 'package', 'Rated', 'RATED', 'n', 'Food', 'is', 'good', 'nNo', 'parking', 'nAmbience', 'is', 'average', 'nOverall', 'its', 'value', 'for', 'money', 'if', 'you', 'looking', 'for', 'south', 'Indian', 'food', 'nPreferred', 'the', 'tiffin', 'items', 'Rated', 'RATED', 'n', 'Been', 'here', 'last', 'week', 'with', 'high', 'expectations', 'based', 'on', 'few', 'reviews', 'But', 'utterly', 'disappointed', 'with', 'the', 'food', 'quality', 'taste', 'I', 'feel', 'it', 's', 'an', 'overhyped', 'place', 'There', 'are', 'many', 'better', 'places', 'in', 'the', 'vicinity', 'for', 'Plantain', 'leaf', 'meal', 'There', 'was', 'too', 'much', 'of', 'waiting', 'these', 'staffs', 'were', 'too', 'hurry', 'in', 'serving', 'food', 'asking', 'people', 'to', 'finish', 'meal', 'leave', 'quickly', 'I', 'can', 'understand', 'there', 'is', 'a', 'waiting', 'and', 'staffs', 'should', 'approach', 'in', 'a', 'positive', 'way', 'I', 'will', 'never', 'go', 'there', 'again', 'n', 'nbangaloreepicure', 'com', 'Rated', 'RATED', 'n', 'I', 'have', 'a', 'confession', 'being', 'a', 'south', 'Indian', 'I', 'distaste', 'south', 'Indian', 'food', 'not', 'that', 'I', 'hate', 'it', 'I', 'don', 't', 'like', 'it', 'either', 'But', 'still', 'made', 'up', 'my', 'mind', 'on', 'Sankaranti', 'to', 'have', 'authentic', 'south', 'Indian', 'food', 'visited', 'Adduri', 'Udupi', 'Bhojana', 'because', 'it', 'was', 'close', 'to', 'my', 'place', 'I', 'just', 'had', 'a', 'look', 'at', 'the', 'menu', 'told', 'myself', 'that', 'I', 'can', 'do', 'it', 'I', 'am', 'not', 'blessed', 'with', 'a', 'tremendous', 'appetite', 'welcomed', 'with', 'the', 'mango', 'soup', 'followed', 'by', 'the', 'wide', 'variety', 'of', 'dishes', 'served', 'I', 'have', 'developed', 'the', 'new', 'love', 'for', 'Pongal', 'both', 'sweet', 'and', 'Khara', 'I', 'can', 'still', 'feel', 'the', 'taste', 'of', 'the', 'ghee', 'bursting', 'in', 'my', 'mouth', 'but', 'it', 'was', 'kai', 'holige', 'that', 'made', 'my', 'day', 'crisp', 'and', 'soft', 'not', 'to', 'forget', 'food', 'is', 'served', 'on', 'a', 'banana', 'leaf', 'that', 'adds', 'in', 'more', 'flavor', 'and', 'taste', 'waiters', 'are', 'attentive', 'and', 'responsive', 'The', 'customer', 's', 'needs', 'are', 'monitored', 'and', 'addressed', 'so', 'much', 'variety', 'for', 'just', 'Rs', 'without', 'compromising', 'on', 'quantity', 'and', 'quality', 'and', 'yes', 'it', 'is', 'unlimited', 'This', 'visit', 'turned', 'out', 'to', 'be', 'a', 'surprise', 'package', 'Rated', 'RATED', 'n', 'Food', 'is', 'good', 'nNo', 'parking', 'nAmbience', 'is', 'average', 'nOverall', 'its', 'value', 'for', 'money', 'if', 'you', 'looking', 'for', 'south', 'Indian', 'food', 'nPreferred', 'the', 'tiffin', 'items', 'Rated', 'RATED', 'n', 'Been', 'here', 'last', 'week', 'with', 'high', 'expectations', 'based', 'on', 'few', 'reviews', 'But', 'utterly', 'disappointed', 'with', 'the', 'food', 'quality', 'taste', 'I', 'feel', 'it', 's', 'an', 'overhyped', 'place', 'There', 'are', 'many', 'better', 'places', 'in', 'the', 'vicinity', 'for', 'Plantain', 'leaf', 'meal', 'There', 'was', 'too', 'much', 'of', 'waiting', 'these', 'staffs', 'were', 'too', 'hurry', 'in', 'serving', 'food', 'asking', 'people', 'to', 'finish', 'meal', 'leave', 'quickly', 'I', 'can', 'understand', 'there', 'is', 'a', 'waiting', 'and', 'staffs', 'should', 'approach', 'in', 'a', 'positive', 'way', 'I', 'will', 'never', 'go', 'there', 'again', 'n', 'nbangaloreepicure', 'com', 'Rated', 'RATED', 'n', 'I', 'have', 'a', 'confession', 'being', 'a', 'south', 'Indian', 'I', 'distaste', 'south', 'Indian', 'food', 'not', 'that', 'I', 'hate', 'it', 'I', 'don', 't', 'like', 'it', 'either', 'But', 'still', 'made', 'up', 'my', 'mind', 'on', 'Sankaranti', 'to', 'have', 'authentic', 'south', 'Indian', 'food', 'visited', 'Adduri', 'Udupi', 'Bhojana', 'because', 'it', 'was', 'close', 'to', 'my', 'place', 'I', 'just', 'had', 'a', 'look', 'at', 'the', 'menu', 'told', 'myself', 'that', 'I', 'can', 'do', 'it', 'I', 'am', 'not', 'blessed', 'with', 'a', 'tremendous', 'appetite', 'welcomed', 'with', 'the', 'mango', 'soup', 'followed', 'by', 'the', 'wide', 'variety', 'of', 'dishes', 'served', 'I', 'have', 'developed', 'the', 'new', 'love', 'for', 'Pongal', 'both', 'sweet', 'and', 'Khara', 'I', 'can', 'still', 'feel', 'the', 'taste', 'of', 'the', 'ghee', 'bursting', 'in', 'my', 'mouth', 'but', 'it', 'was', 'kai', 'holige', 'that', 'made', 'my', 'day', 'crisp', 'and', 'soft', 'not', 'to', 'forget', 'food', 'is', 'served', 'on', 'a', 'banana', 'leaf', 'that', 'adds', 'in', 'more', 'flavor', 'and', 'taste', 'waiters', 'are', 'attentive', 'and', 'responsive', 'The', 'customer', 's', 'needs', 'are', 'monitored', 'and', 'addressed', 'so', 'much', 'variety', 'for', 'just', 'Rs', 'without', 'compromising', 'on', 'quantity', 'and', 'quality', 'and', 'yes', 'it', 'is', 'unlimited', 'This', 'visit', 'turned', 'out', 'to', 'be', 'a', 'surprise', 'package', 'Rated', 'RATED', 'n', 'Food', 'is', 'good', 'nNo', 'parking', 'nAmbience', 'is', 'average', 'nOverall', 'its', 'value', 'for', 'money', 'if', 'you', 'looking', 'for', 'south', 'Indian', 'food', 'nPreferred', 'the', 'tiffin', 'items', 'Rated', 'RATED', 'n', 'Been', 'here', 'last', 'week', 'with', 'high', 'expectations', 'based', 'on', 'few', 'reviews', 'But', 'utterly', 'disappointed', 'with', 'the', 'food', 'quality', 'taste', 'I', 'feel', 'it', 's', 'an', 'overhyped', 'place', 'There', 'are', 'many', 'better', 'places', 'in', 'the', 'vicinity', 'for', 'Plantain', 'leaf', 'meal', 'There', 'was', 'too', 'much', 'of', 'waiting', 'these', 'staffs', 'were', 'too', 'hurry', 'in', 'serving', 'food', 'asking', 'people', 'to', 'finish', 'meal', 'leave', 'quickly', 'I', 'can', 'understand', 'there', 'is', 'a', 'waiting', 'and', 'staffs', 'should', 'approach', 'in', 'a', 'positive', 'way', 'I', 'will', 'never', 'go', 'there', 'again', 'n', 'nbangaloreepicure', 'com', 'Rated', 'RATED', 'n', 'I', 'have', 'a', 'confession', 'being', 'a', 'south', 'Indian', 'I', 'distaste', 'south', 'Indian', 'food', 'not', 'that', 'I', 'hate', 'it', 'I', 'don', 't', 'like', 'it', 'either', 'But', 'still', 'made', 'up', 'my', 'mind', 'on', 'Sankaranti', 'to', 'have', 'authentic', 'south', 'Indian', 'food', 'visited', 'Adduri', 'Udupi', 'Bhojana', 'because', 'it', 'was', 'close', 'to', 'my', 'place', 'I', 'just', 'had', 'a', 'look', 'at', 'the', 'menu', 'told', 'myself', 'that', 'I', 'can', 'do', 'it', 'I', 'am', 'not', 'blessed', 'with', 'a', 'tremendous', 'appetite', 'welcomed', 'with', 'the', 'mango', 'soup', 'followed', 'by', 'the', 'wide', 'variety', 'of', 'dishes', 'served', 'I', 'have', 'developed', 'the', 'new', 'love', 'for', 'Pongal', 'both', 'sweet', 'and', 'Khara', 'I', 'can', 'still', 'feel', 'the', 'taste', 'of', 'the', 'ghee', 'bursting', 'in', 'my', 'mouth', 'but', 'it', 'was', 'kai', 'holige', 'that', 'made', 'my', 'day', 'crisp', 'and', 'soft', 'not', 'to', 'forget', 'food', 'is', 'served', 'on', 'a', 'banana', 'leaf', 'that', 'adds', 'in', 'more', 'flavor', 'and', 'taste', 'waiters', 'are', 'attentive', 'and', 'responsive', 'The', 'customer', 's', 'needs', 'are', 'monitored', 'and', 'addressed', 'so', 'much', 'variety', 'for', 'just', 'Rs', 'without', 'compromising', 'on', 'quantity', 'and', 'quality', 'and', 'yes', 'it', 'is', 'unlimited', 'This', 'visit', 'turned', 'out', 'to', 'be', 'a', 'surprise', 'package', 'Rated', 'RATED', 'n', 'Food', 'is', 'good', 'nNo', 'parking', 'nAmbience', 'is', 'average', 'nOverall', 'its', 'value', 'for', 'money', 'if', 'you', 'looking', 'for', 'south', 'Indian', 'food', 'nPreferred', 'the', 'tiffin', 'items', 'Rated', 'RATED', 'n', 'Had', 'been', 'on', 'a', 'week', 'night', 'for', 'an', 'authentic', 'south', 'Indian', 'food', 'I', 'personally', 'love', 'being', 'served', 'on', 'banyan', 'leaf', 'The', 'waiters', 'are', 'all', 'dressed', 'up', 'in', 'traditional', 'Mysore', 'attire', 'wearing', 'with', 'a', 'peta', 'The', 'food', 'was', 'delicious', 'and', 'definitely', 'worth', 'it', 's', 'price', 'The', 'waiters', 'are', 'friendly', 'and', 'serve', 'u', 'well', 'with', 'a', 'smile', 'The', 'food', 'is', 'prepared', 'without', 'garlic', 'which', 'is', 'a', 'plus', 'point', 'attracting', 'many', 'senior', 'customers', 'Rated', 'RATED', 'n', 'Food', 'is', 'good', 'and', 'enjoyed', 'With', 'Rs', 'is', 'very', 'nice', 'nNote', 'It', 'happen', 'with', 'us', 'n', 'If', 'you', 'going', 'TWO', 'people', 'you', 'may', 'need', 'to', 'share', 'the', 'table', 'there', 'Its', 'almost', 'crowed', 'n', 'You', 'have', 'to', 'sit', 'where', 'they', 'ask', 'you', 'can', 't', 'choose', 'even', 'if', 'all', 'the', 'table', 'are', 'empty', 'nJust', 'wait', 'eat', 'and', 'come', 'back', 'Rated', 'RATED', 'n', 'Excellent', 'Ambience', 'with', 'delicious', 'meals', 'with', 'variety', 'types', 'Worth', 'paying', 'for', 'money', 'and', 'you', 'can', 'dine', 'out', 'if', 'you', 'are', 'with', 'more', 'friends', 'relatives', 'in', 'home', 'Rated', 'RATED', 'n', 'Very', 'good', 'and', 'Unlimited', 'especially', 'masala', 'dosa', 'Service', 'and', 'ambience', 'was', 'also', 'good', 'will', 'visit', 'again', 'with', 'friends', 'very', 'very', 'reasonble', 'and', 'wholesome', 'food', 'Rated', 'RATED', 'n', 'Aaaa', 'wt', 'to', 'tell', 'Unlimited', 'food', 'food', 'was', 'like', 'exactly', 'like', 'south', 'indian', 'marriage', 'food', 'soups', 'sides', 'masala', 'dosa', 'all', 'were', 'unlimited', 'for', 'just', 'except', 'ice', 'cream', 'in', 'the', 'end', 'they', 'give', 'a', 'water', 'bottle', 'and', 'main', 'thing', 'is', 'have', 'patience', 'to', 'get', 'place', 'to', 'sit', 'there', 'is', 'no', 'parking', 'place', 'of', 'this', 'outlet', 'and', 'difficult', 'to', 'park', 'in', 'front', 'of', 'the', 'restaurants']\n"
     ]
    }
   ],
   "source": [
    "### with respect to very first row, how to remove stopwords\n",
    "rev3 = reviews_tokens[3]\n",
    "print(rev3)"
   ]
  },
  {
   "cell_type": "code",
   "execution_count": 79,
   "id": "84e45ba4",
   "metadata": {},
   "outputs": [
    {
     "name": "stdout",
     "output_type": "stream",
     "text": [
      "['Great', 'food', 'proper', 'Karnataka', 'style', 'full', 'meals', 'Been', 'twice', 'fully', 'satisfied', 'Will', 'give', 'stars', 'well', 'managed', 'Reached', 'place', 'pm', 'Saturday', 'Half', 'items', 'menu', 'What', 'annoying', 'food', 'cold', 'The', 'taste', 'also', 'average', 'Only', 'dosa', 'holige', 'good', 'There', 'people', 'restaurant', 'service', 'still', 'slow', 'The', 'waiters', 'standing', 'one', 'corner', 'talking', 'Had', 'call', 'repeatedly', 'Had', 'good', 'food', 'served', 'tasty', 'good', 'place', 'go', 'freinds', 'family', 'first', 'get', 'served', 'well', 'food', 'One', 'good', 'hotel', 'price', 'How', 'Udupi', 'restaurant', 'dirty', 'floor', 'walls', 'waiters', 'stained', 'food', 'Why', 'cant', 'clean', 'The', 'floor', 'even', 'decorative', 'colour', 'paper', 'every', 'lot', 'food', 'Now', 'coming', 'taste', 'food', 'pretty', 'decent', 'chargw', 'What', 'upset', 'us', 'menu', 'says', 'serve', 'thambuli', 'two', 'variety', 'rice', 'etc', 'still', 'charged', 'us', 'full', 'amount', 'Lastly', 'u', 'r', 'ok', 'b', 'seated', 'random', 'people', 'adjust', 'table', 'manners', 'burrping', 'etc', 'tis', 'place', 'decent', 'quick', 'veg', 'udupi', 'meals', 'Aadhuri', 'Udupi', 'bhojana', 'one', 'best', 'vegetarian', 'hotel', 'around', 'Banashankari', 'locality', 'nwere', 'enjoy', 'authentic', 'south', 'Karnataka', 'style', 'food', 'One', 'best', 'restaurants', 'unlimited', 'food', 'Price', 'one', 'full', 'unlimited', 'meal', 'service', 'awesome', 'If', 'costalian', 'love', 'food', 'served', 'Been', 'couple', 'times', 'Highly', 'satisfying', 'ocassions', 'Great', 'food', 'Decent', 'service', 'At', 'price', 'per', 'person', 'great', 'value', 'The', 'staff', 'serves', 'traditional', 'Mysore', 'style', 'dresses', 'The', 'food', 'authentic', 'Karnataka', 'meals', 'I', 'really', 'liked', 'pineapple', 'pickle', 'chutney', 'They', 'serve', 'varities', 'rice', 'try', 'would', 'already', 'full', 'Roti', 'Dosa', 'decent', 'In', 'deserts', 'Payasam', 'Holige', 'good', 'nI', 'think', 'one', 'must', 'try', 'places', 'try', 'authentic', 'south', 'food', 'even', 'likes', 'Kamath', 'etc', 'one', 'little', 'different', 'Very', 'good', 'restorent', 'good', 'south', 'Indian', 'food', 'nice', 'food', 'good', 'spent', 'good', 'time', 'food', 'hotel', 'value', 'money', 'loved', 'I', 'went', 'restaurant', 'Sunday', 'afternoon', 'It', 'bit', 'crowded', 'nIts', 'located', 'st', 'floor', 'Above', 'anna', 'kuteera', 'kathriguppe', 'nYou', 'need', 'take', 'food', 'coupon', 'ground', 'floor', 'nit', 'rs', 'nTaste', 'wise', 'good', 'nService', 'slow', 'nNothing', 'exciting', 'different', 'menu', 'nWhatever', 'serve', 'good', 'nWorth', 'money', 'Awesome', 'place', 'worth', 'price', 'quality', 'quantity', 'service', 'hygiene', 'discipline', 'I', 'loved', 'wish', 'rating', 'stars', 'give', 'I', 'give', 'sure', 'Nice', 'food', 'good', 'ambiance', 'many', 'verity', 'food', 'time', 'hurry', 'next', 'review', 'detailed', 'one', 'Its', 'good', 'see', 'dishes', 'one', 'place', 'The', 'food', 'satisfactory', 'Not', 'one', 'item', 'served', 'could', 'eaten', 'Only', 'advantage', 'price', 'even', 'going', 'enough', 'make', 'visit', 'place', 'Dear', 'Udupi', 'staff', 'people', 'mind', 'food', 'quality', 'better', 'higher', 'price', 'please', 'get', 'fans', 'people', 'deal', 'another', 'disappointment', 'sweating', 'eating', 'Excellent', 'quality', 'taste', 'variety', 'authentic', 'south', 'Indian', 'food', 'Excellent', 'service', 'Highly', 'recommended', 'Worth', 'money', 'pay', 'I', 'rating', 'large', 'number', 'items', 'serve', 'price', 'charge', 'While', 'taste', 'moderate', 'biggest', 'turn', 'poor', 'service', 'totally', 'unresponsive', 'staff', 'They', 'either', 'understaffed', 'poorly', 'trained', 'I', 'get', 'taste', 'items', 'thanks', 'ever', 'busy', 'staff', 'ended', 'eating', 'served', 'Please', 'learn', 'crowd', 'management', 'peers', 'like', 'maiyya', 'roti', 'ghar', 'One', 'colleagues', 'suggested', 'place', 'Went', 'pm', 'place', 'wasnt', 'crowded', 'Ambience', 'decent', 'cool', 'A', 'welcome', 'drink', 'appekai', 'saru', 'served', 'Then', 'started', 'typical', 'baale', 'yele', 'uta', 'Diffrerent', 'types', 'palya', 'kosambari', 'sides', 'Then', 'came', 'masala', 'dosa', 'pulka', 'pulav', 'veg', 'rice', 'bath', 'Masala', 'dosa', 'tasty', 'Service', 'bit', 'fast', 'people', 'coming', 'make', 'slow', 'u', 'tell', 'Then', 'comes', 'rice', 'sambar', 'rasam', 'daal', 'tambali', 'And', 'yes', 'dont', 'forget', 'eat', 'holige', 'payasam', 'icecream', 'Service', 'nice', 'One', 'best', 'thing', 'comes', 'rs', 'unlimited', 'What', 'else', 'want', 'A', 'must', 'visit', 'place', 'south', 'indian', 'foodie', 'Been', 'last', 'week', 'high', 'expectations', 'based', 'reviews', 'But', 'utterly', 'disappointed', 'food', 'quality', 'taste', 'I', 'feel', 'overhyped', 'place', 'There', 'many', 'better', 'places', 'vicinity', 'Plantain', 'leaf', 'meal', 'There', 'much', 'waiting', 'staffs', 'hurry', 'serving', 'food', 'asking', 'people', 'finish', 'meal', 'leave', 'quickly', 'I', 'understand', 'waiting', 'staffs', 'approach', 'positive', 'way', 'I', 'never', 'go', 'nbangaloreepicure', 'com', 'I', 'confession', 'south', 'Indian', 'I', 'distaste', 'south', 'Indian', 'food', 'I', 'hate', 'I', 'like', 'either', 'But', 'still', 'made', 'mind', 'Sankaranti', 'authentic', 'south', 'Indian', 'food', 'visited', 'Adduri', 'Udupi', 'Bhojana', 'close', 'place', 'I', 'look', 'menu', 'told', 'I', 'I', 'blessed', 'tremendous', 'appetite', 'welcomed', 'mango', 'soup', 'followed', 'wide', 'variety', 'dishes', 'served', 'I', 'developed', 'new', 'love', 'Pongal', 'sweet', 'Khara', 'I', 'still', 'feel', 'taste', 'ghee', 'bursting', 'mouth', 'kai', 'holige', 'made', 'day', 'crisp', 'soft', 'forget', 'food', 'served', 'banana', 'leaf', 'adds', 'flavor', 'taste', 'waiters', 'attentive', 'responsive', 'The', 'customer', 'needs', 'monitored', 'addressed', 'much', 'variety', 'Rs', 'without', 'compromising', 'quantity', 'quality', 'yes', 'unlimited', 'This', 'visit', 'turned', 'surprise', 'package', 'Food', 'good', 'nNo', 'parking', 'nAmbience', 'average', 'nOverall', 'value', 'money', 'looking', 'south', 'Indian', 'food', 'nPreferred', 'tiffin', 'items', 'Been', 'last', 'week', 'high', 'expectations', 'based', 'reviews', 'But', 'utterly', 'disappointed', 'food', 'quality', 'taste', 'I', 'feel', 'overhyped', 'place', 'There', 'many', 'better', 'places', 'vicinity', 'Plantain', 'leaf', 'meal', 'There', 'much', 'waiting', 'staffs', 'hurry', 'serving', 'food', 'asking', 'people', 'finish', 'meal', 'leave', 'quickly', 'I', 'understand', 'waiting', 'staffs', 'approach', 'positive', 'way', 'I', 'never', 'go', 'nbangaloreepicure', 'com', 'I', 'confession', 'south', 'Indian', 'I', 'distaste', 'south', 'Indian', 'food', 'I', 'hate', 'I', 'like', 'either', 'But', 'still', 'made', 'mind', 'Sankaranti', 'authentic', 'south', 'Indian', 'food', 'visited', 'Adduri', 'Udupi', 'Bhojana', 'close', 'place', 'I', 'look', 'menu', 'told', 'I', 'I', 'blessed', 'tremendous', 'appetite', 'welcomed', 'mango', 'soup', 'followed', 'wide', 'variety', 'dishes', 'served', 'I', 'developed', 'new', 'love', 'Pongal', 'sweet', 'Khara', 'I', 'still', 'feel', 'taste', 'ghee', 'bursting', 'mouth', 'kai', 'holige', 'made', 'day', 'crisp', 'soft', 'forget', 'food', 'served', 'banana', 'leaf', 'adds', 'flavor', 'taste', 'waiters', 'attentive', 'responsive', 'The', 'customer', 'needs', 'monitored', 'addressed', 'much', 'variety', 'Rs', 'without', 'compromising', 'quantity', 'quality', 'yes', 'unlimited', 'This', 'visit', 'turned', 'surprise', 'package', 'Food', 'good', 'nNo', 'parking', 'nAmbience', 'average', 'nOverall', 'value', 'money', 'looking', 'south', 'Indian', 'food', 'nPreferred', 'tiffin', 'items', 'Been', 'last', 'week', 'high', 'expectations', 'based', 'reviews', 'But', 'utterly', 'disappointed', 'food', 'quality', 'taste', 'I', 'feel', 'overhyped', 'place', 'There', 'many', 'better', 'places', 'vicinity', 'Plantain', 'leaf', 'meal', 'There', 'much', 'waiting', 'staffs', 'hurry', 'serving', 'food', 'asking', 'people', 'finish', 'meal', 'leave', 'quickly', 'I', 'understand', 'waiting', 'staffs', 'approach', 'positive', 'way', 'I', 'never', 'go', 'nbangaloreepicure', 'com', 'I', 'confession', 'south', 'Indian', 'I', 'distaste', 'south', 'Indian', 'food', 'I', 'hate', 'I', 'like', 'either', 'But', 'still', 'made', 'mind', 'Sankaranti', 'authentic', 'south', 'Indian', 'food', 'visited', 'Adduri', 'Udupi', 'Bhojana', 'close', 'place', 'I', 'look', 'menu', 'told', 'I', 'I', 'blessed', 'tremendous', 'appetite', 'welcomed', 'mango', 'soup', 'followed', 'wide', 'variety', 'dishes', 'served', 'I', 'developed', 'new', 'love', 'Pongal', 'sweet', 'Khara', 'I', 'still', 'feel', 'taste', 'ghee', 'bursting', 'mouth', 'kai', 'holige', 'made', 'day', 'crisp', 'soft', 'forget', 'food', 'served', 'banana', 'leaf', 'adds', 'flavor', 'taste', 'waiters', 'attentive', 'responsive', 'The', 'customer', 'needs', 'monitored', 'addressed', 'much', 'variety', 'Rs', 'without', 'compromising', 'quantity', 'quality', 'yes', 'unlimited', 'This', 'visit', 'turned', 'surprise', 'package', 'Food', 'good', 'nNo', 'parking', 'nAmbience', 'average', 'nOverall', 'value', 'money', 'looking', 'south', 'Indian', 'food', 'nPreferred', 'tiffin', 'items', 'Been', 'last', 'week', 'high', 'expectations', 'based', 'reviews', 'But', 'utterly', 'disappointed', 'food', 'quality', 'taste', 'I', 'feel', 'overhyped', 'place', 'There', 'many', 'better', 'places', 'vicinity', 'Plantain', 'leaf', 'meal', 'There', 'much', 'waiting', 'staffs', 'hurry', 'serving', 'food', 'asking', 'people', 'finish', 'meal', 'leave', 'quickly', 'I', 'understand', 'waiting', 'staffs', 'approach', 'positive', 'way', 'I', 'never', 'go', 'nbangaloreepicure', 'com', 'I', 'confession', 'south', 'Indian', 'I', 'distaste', 'south', 'Indian', 'food', 'I', 'hate', 'I', 'like', 'either', 'But', 'still', 'made', 'mind', 'Sankaranti', 'authentic', 'south', 'Indian', 'food', 'visited', 'Adduri', 'Udupi', 'Bhojana', 'close', 'place', 'I', 'look', 'menu', 'told', 'I', 'I', 'blessed', 'tremendous', 'appetite', 'welcomed', 'mango', 'soup', 'followed', 'wide', 'variety', 'dishes', 'served', 'I', 'developed', 'new', 'love', 'Pongal', 'sweet', 'Khara', 'I', 'still', 'feel', 'taste', 'ghee', 'bursting', 'mouth', 'kai', 'holige', 'made', 'day', 'crisp', 'soft', 'forget', 'food', 'served', 'banana', 'leaf', 'adds', 'flavor', 'taste', 'waiters', 'attentive', 'responsive', 'The', 'customer', 'needs', 'monitored', 'addressed', 'much', 'variety', 'Rs', 'without', 'compromising', 'quantity', 'quality', 'yes', 'unlimited', 'This', 'visit', 'turned', 'surprise', 'package', 'Food', 'good', 'nNo', 'parking', 'nAmbience', 'average', 'nOverall', 'value', 'money', 'looking', 'south', 'Indian', 'food', 'nPreferred', 'tiffin', 'items', 'Been', 'last', 'week', 'high', 'expectations', 'based', 'reviews', 'But', 'utterly', 'disappointed', 'food', 'quality', 'taste', 'I', 'feel', 'overhyped', 'place', 'There', 'many', 'better', 'places', 'vicinity', 'Plantain', 'leaf', 'meal', 'There', 'much', 'waiting', 'staffs', 'hurry', 'serving', 'food', 'asking', 'people', 'finish', 'meal', 'leave', 'quickly', 'I', 'understand', 'waiting', 'staffs', 'approach', 'positive', 'way', 'I', 'never', 'go', 'nbangaloreepicure', 'com', 'I', 'confession', 'south', 'Indian', 'I', 'distaste', 'south', 'Indian', 'food', 'I', 'hate', 'I', 'like', 'either', 'But', 'still', 'made', 'mind', 'Sankaranti', 'authentic', 'south', 'Indian', 'food', 'visited', 'Adduri', 'Udupi', 'Bhojana', 'close', 'place', 'I', 'look', 'menu', 'told', 'I', 'I', 'blessed', 'tremendous', 'appetite', 'welcomed', 'mango', 'soup', 'followed', 'wide', 'variety', 'dishes', 'served', 'I', 'developed', 'new', 'love', 'Pongal', 'sweet', 'Khara', 'I', 'still', 'feel', 'taste', 'ghee', 'bursting', 'mouth', 'kai', 'holige', 'made', 'day', 'crisp', 'soft', 'forget', 'food', 'served', 'banana', 'leaf', 'adds', 'flavor', 'taste', 'waiters', 'attentive', 'responsive', 'The', 'customer', 'needs', 'monitored', 'addressed', 'much', 'variety', 'Rs', 'without', 'compromising', 'quantity', 'quality', 'yes', 'unlimited', 'This', 'visit', 'turned', 'surprise', 'package', 'Food', 'good', 'nNo', 'parking', 'nAmbience', 'average', 'nOverall', 'value', 'money', 'looking', 'south', 'Indian', 'food', 'nPreferred', 'tiffin', 'items', 'Had', 'week', 'night', 'authentic', 'south', 'Indian', 'food', 'I', 'personally', 'love', 'served', 'banyan', 'leaf', 'The', 'waiters', 'dressed', 'traditional', 'Mysore', 'attire', 'wearing', 'peta', 'The', 'food', 'delicious', 'definitely', 'worth', 'price', 'The', 'waiters', 'friendly', 'serve', 'u', 'well', 'smile', 'The', 'food', 'prepared', 'without', 'garlic', 'plus', 'point', 'attracting', 'many', 'senior', 'customers', 'Food', 'good', 'enjoyed', 'With', 'Rs', 'nice', 'nNote', 'It', 'happen', 'us', 'If', 'going', 'TWO', 'people', 'may', 'need', 'share', 'table', 'Its', 'almost', 'crowed', 'You', 'sit', 'ask', 'choose', 'even', 'table', 'empty', 'nJust', 'wait', 'eat', 'come', 'back', 'Excellent', 'Ambience', 'delicious', 'meals', 'variety', 'types', 'Worth', 'paying', 'money', 'dine', 'friends', 'relatives', 'home', 'Very', 'good', 'Unlimited', 'especially', 'masala', 'dosa', 'Service', 'ambience', 'also', 'good', 'visit', 'friends', 'reasonble', 'wholesome', 'food', 'Aaaa', 'wt', 'tell', 'Unlimited', 'food', 'food', 'like', 'exactly', 'like', 'south', 'indian', 'marriage', 'food', 'soups', 'sides', 'masala', 'dosa', 'unlimited', 'except', 'ice', 'cream', 'end', 'give', 'water', 'bottle', 'main', 'thing', 'patience', 'get', 'place', 'sit', 'parking', 'place', 'outlet', 'difficult', 'park', 'front', 'restaurants']\n"
     ]
    }
   ],
   "source": [
    "print([token for token in rev3 if token not in stop])"
   ]
  },
  {
   "cell_type": "code",
   "execution_count": 63,
   "id": "b9d3c114",
   "metadata": {},
   "outputs": [],
   "source": [
    "## takes 1 mins\n",
    "## remove stopwords from my entire data\n",
    "\n",
    "## reviews_tokens_clean = reviews_tokens.apply(lambda x: \\\n",
    "##                       [token for token in x if token not in stop])"
   ]
  },
  {
   "cell_type": "code",
   "execution_count": 80,
   "id": "2a2c8f0a",
   "metadata": {},
   "outputs": [],
   "source": [
    "## takes 1 min for 10K rows !\n",
    "\n",
    "reviews_tokens_clean = reviews_tokens.apply(lambda each_review: \\\n",
    "            [token for token in each_review if token not in stop])"
   ]
  },
  {
   "cell_type": "code",
   "execution_count": null,
   "id": "88660c2d",
   "metadata": {},
   "outputs": [],
   "source": []
  },
  {
   "cell_type": "code",
   "execution_count": null,
   "id": "41ed114d",
   "metadata": {},
   "outputs": [],
   "source": [
    "'''\n",
    "\n",
    "### using function\n",
    "\n",
    "def remove_stopwords(text):\n",
    "    updated_text=[token for token in text if token not in stop]\n",
    "    return updated_text\n",
    "\n",
    "reviews_tokens_clean = reviews_tokens.apply(remove_stopwords)\n",
    "\n",
    "'''"
   ]
  },
  {
   "cell_type": "code",
   "execution_count": 73,
   "id": "5f58a557",
   "metadata": {},
   "outputs": [
    {
     "data": {
      "text/plain": [
       "pandas.core.series.Series"
      ]
     },
     "execution_count": 73,
     "metadata": {},
     "output_type": "execute_result"
    }
   ],
   "source": [
    "type(reviews_tokens_clean)"
   ]
  },
  {
   "cell_type": "code",
   "execution_count": 81,
   "id": "4ef332e9",
   "metadata": {},
   "outputs": [
    {
     "data": {
      "text/plain": [
       "10000"
      ]
     },
     "execution_count": 81,
     "metadata": {},
     "output_type": "execute_result"
    }
   ],
   "source": [
    "len(reviews_tokens_clean)"
   ]
  },
  {
   "cell_type": "code",
   "execution_count": 82,
   "id": "df5a14ea",
   "metadata": {},
   "outputs": [
    {
     "data": {
      "text/plain": [
       "0        [A, beautiful, place, dine, The, interiors, ta...\n",
       "1        [Had, dinner, family, Turned, good, choose, su...\n",
       "2        [Ambience, good, enough, pocket, friendly, caf...\n",
       "3        [Great, food, proper, Karnataka, style, full, ...\n",
       "4        [Very, good, restaurant, neighbourhood, Buffet...\n",
       "                               ...                        \n",
       "10046    [A, simplistic, joy, local, biryani, lovers, n...\n",
       "10047                                               [Good]\n",
       "10048    [Vry, gud, taste, something, different, must, ...\n",
       "10049                                                   []\n",
       "10050                                                   []\n",
       "Name: reviews_list, Length: 10000, dtype: object"
      ]
     },
     "execution_count": 82,
     "metadata": {},
     "output_type": "execute_result"
    }
   ],
   "source": [
    "reviews_tokens_clean"
   ]
  },
  {
   "cell_type": "code",
   "execution_count": null,
   "id": "9a1b58df",
   "metadata": {},
   "outputs": [],
   "source": []
  },
  {
   "cell_type": "code",
   "execution_count": null,
   "id": "a573d8ac",
   "metadata": {},
   "outputs": [],
   "source": []
  },
  {
   "cell_type": "code",
   "execution_count": null,
   "id": "332e4134",
   "metadata": {},
   "outputs": [],
   "source": []
  },
  {
   "cell_type": "markdown",
   "id": "76cb9982",
   "metadata": {},
   "source": [
    "#### d) Store your entire data in the list so that we can compute frequency of each word"
   ]
  },
  {
   "cell_type": "code",
   "execution_count": null,
   "id": "00cb40f6",
   "metadata": {},
   "outputs": [],
   "source": [
    "### now this reviews_tokens_clean is a series ,but we need entire data \n",
    "## in the form of 1-D list so that we can compute frequency of each word"
   ]
  },
  {
   "cell_type": "markdown",
   "id": "5d12674e",
   "metadata": {},
   "source": [
    "#### Approach-->>>\n",
    "    There are 2 ways to come up with your final list..\n",
    "    1)list(reviews_tokens_clean) gives us 2-D list(list inside list) , \n",
    "      as each row is already a list..so we will convert \n",
    "      2-D list into 1-D list\n",
    "        \n",
    "    2) Store all the data of reviews_tokens_clean in a string\n",
    "       & then tokenize to get data in the form of list.."
   ]
  },
  {
   "cell_type": "markdown",
   "id": "6678083e",
   "metadata": {},
   "source": [
    "##### 1) Get your final data in the form of 1-D list\n",
    "        list( reviews_tokens_clean ) gives us 2-D list (list inside list)\n",
    "     , as each row is already a list & we will convert 2-D list into 1-D list"
   ]
  },
  {
   "cell_type": "code",
   "execution_count": 83,
   "id": "591d4c8e",
   "metadata": {},
   "outputs": [],
   "source": [
    "total_reviews = list(reviews_tokens_clean)"
   ]
  },
  {
   "cell_type": "code",
   "execution_count": 84,
   "id": "47feeb01",
   "metadata": {},
   "outputs": [],
   "source": [
    "total_reviews_1D = []\n",
    "\n",
    "for review in total_reviews:\n",
    "    for word in review:\n",
    "        total_reviews_1D.append(word)"
   ]
  },
  {
   "cell_type": "code",
   "execution_count": 85,
   "id": "82c90712",
   "metadata": {},
   "outputs": [
    {
     "data": {
      "text/plain": [
       "6519571"
      ]
     },
     "execution_count": 85,
     "metadata": {},
     "output_type": "execute_result"
    }
   ],
   "source": [
    "len(total_reviews_1D)"
   ]
  },
  {
   "cell_type": "code",
   "execution_count": null,
   "id": "b83dbb3b",
   "metadata": {},
   "outputs": [],
   "source": []
  },
  {
   "cell_type": "code",
   "execution_count": null,
   "id": "098fca66",
   "metadata": {},
   "outputs": [],
   "source": []
  },
  {
   "cell_type": "code",
   "execution_count": null,
   "id": "2d0f71bc",
   "metadata": {},
   "outputs": [],
   "source": []
  },
  {
   "cell_type": "code",
   "execution_count": null,
   "id": "f19104d6",
   "metadata": {},
   "outputs": [],
   "source": []
  },
  {
   "cell_type": "markdown",
   "id": "6e05d708",
   "metadata": {},
   "source": [
    "#### e) Do plotting\n",
    "    1..Unigram analysis\n",
    "    2..Bigram Analysis\n",
    "    3..Trigram analysis"
   ]
  },
  {
   "cell_type": "markdown",
   "id": "fe86c43a",
   "metadata": {},
   "source": [
    "###### 1..Unigram analysis"
   ]
  },
  {
   "cell_type": "code",
   "execution_count": null,
   "id": "8f15a561",
   "metadata": {},
   "outputs": [],
   "source": [
    "# obtain the frequency of individual words in the reviews, \n",
    "# for this u have to use FreqDist .. "
   ]
  },
  {
   "cell_type": "code",
   "execution_count": 86,
   "id": "f281ac9f",
   "metadata": {},
   "outputs": [],
   "source": [
    "from nltk import FreqDist"
   ]
  },
  {
   "cell_type": "code",
   "execution_count": 87,
   "id": "1619caa2",
   "metadata": {},
   "outputs": [],
   "source": [
    "fd = FreqDist()"
   ]
  },
  {
   "cell_type": "code",
   "execution_count": 88,
   "id": "7108eaa9",
   "metadata": {},
   "outputs": [],
   "source": [
    "## takes 1 min\n",
    "## checkout documentation by pressing Shift+Tab\n",
    "\n",
    "for word in total_reviews_1D:\n",
    "    fd[word] = fd[word] + 1"
   ]
  },
  {
   "cell_type": "code",
   "execution_count": 152,
   "id": "0ed09ef8",
   "metadata": {},
   "outputs": [
    {
     "data": {
      "text/plain": [
       "[('place', 139173),\n",
       " ('I', 137965),\n",
       " ('good', 134232),\n",
       " ('food', 126195),\n",
       " ('The', 97479),\n",
       " ('chicken', 46887),\n",
       " ('service', 41216),\n",
       " ('taste', 40063),\n",
       " ('ordered', 39651),\n",
       " ('great', 34402),\n",
       " ('really', 33942),\n",
       " ('time', 33052),\n",
       " ('try', 32415),\n",
       " ('one', 32079),\n",
       " ('ambience', 31703),\n",
       " ('like', 30679),\n",
       " ('also', 30647),\n",
       " ('It', 30487),\n",
       " ('visit', 27355),\n",
       " ('restaurant', 26421)]"
      ]
     },
     "execution_count": 152,
     "metadata": {},
     "output_type": "execute_result"
    }
   ],
   "source": [
    "# Examining the top 5 most frequent words\n",
    "fd.most_common(20)"
   ]
  },
  {
   "cell_type": "code",
   "execution_count": 90,
   "id": "4322ef6d",
   "metadata": {},
   "outputs": [
    {
     "data": {
      "image/png": "[encoded data removed]",
      "text/plain": [
       "<Figure size 1500x800 with 1 Axes>"
      ]
     },
     "metadata": {},
     "output_type": "display_data"
    },
    {
     "data": {
      "text/plain": [
       "<AxesSubplot:xlabel='Samples', ylabel='Counts'>"
      ]
     },
     "execution_count": 90,
     "metadata": {},
     "output_type": "execute_result"
    }
   ],
   "source": [
    "## takes 1 min\n",
    "# Plotting the top 20 most frequent words\n",
    "\n",
    "plt.figure(figsize = (15, 8))\n",
    "fd.plot(20)"
   ]
  },
  {
   "cell_type": "code",
   "execution_count": null,
   "id": "e4b7b09b",
   "metadata": {},
   "outputs": [],
   "source": [
    "## Observations\n",
    "## Of the 20 most frequent words across customer reviews place,\n",
    "# food , good , chicken ,taste ,service ,biryani\n",
    "\n",
    "## but it is not that much clear whether food is good or not , \n",
    "## similarly what about chicken ??\n",
    "## so to come up with meaningful insights , we can think of \n",
    "# using Bi-gram analysis.."
   ]
  },
  {
   "cell_type": "code",
   "execution_count": null,
   "id": "cd4d39ff",
   "metadata": {},
   "outputs": [],
   "source": []
  },
  {
   "cell_type": "code",
   "execution_count": null,
   "id": "aa0e32ae",
   "metadata": {},
   "outputs": [],
   "source": []
  },
  {
   "cell_type": "code",
   "execution_count": null,
   "id": "7be125b7",
   "metadata": {},
   "outputs": [],
   "source": []
  },
  {
   "cell_type": "code",
   "execution_count": null,
   "id": "73cd705a",
   "metadata": {},
   "outputs": [],
   "source": []
  },
  {
   "cell_type": "code",
   "execution_count": null,
   "id": "d9057c4e",
   "metadata": {},
   "outputs": [],
   "source": []
  },
  {
   "cell_type": "markdown",
   "id": "f5c067ae",
   "metadata": {},
   "source": [
    "## 6.. Performing Bi-gram & Trigram analysis on data"
   ]
  },
  {
   "cell_type": "markdown",
   "id": "28bc6d35",
   "metadata": {},
   "source": [
    "###### b..Bigram Analysis"
   ]
  },
  {
   "cell_type": "code",
   "execution_count": 91,
   "id": "1af698cb",
   "metadata": {},
   "outputs": [],
   "source": [
    "from nltk import FreqDist, bigrams, trigrams"
   ]
  },
  {
   "cell_type": "code",
   "execution_count": 92,
   "id": "a935a3b5",
   "metadata": {},
   "outputs": [],
   "source": [
    "# Generating bigrams from the reviews\n",
    "bi_grams = bigrams(total_reviews_1D)"
   ]
  },
  {
   "cell_type": "code",
   "execution_count": 93,
   "id": "1ccf7142",
   "metadata": {},
   "outputs": [
    {
     "data": {
      "text/plain": [
       "<generator object bigrams at 0x00000200F737E9E0>"
      ]
     },
     "execution_count": 93,
     "metadata": {},
     "output_type": "execute_result"
    }
   ],
   "source": [
    "bi_grams"
   ]
  },
  {
   "cell_type": "code",
   "execution_count": 94,
   "id": "3dfdf993",
   "metadata": {},
   "outputs": [
    {
     "data": {
      "text/plain": [
       "[(('The', 'food'), 10497),\n",
       " (('I', 'ordered'), 10159),\n",
       " (('really', 'good'), 9575),\n",
       " (('This', 'place'), 8208),\n",
       " (('must', 'try'), 7824)]"
      ]
     },
     "execution_count": 94,
     "metadata": {},
     "output_type": "execute_result"
    }
   ],
   "source": [
    "## takes 6-7 min for 10K Sample\n",
    "\n",
    "# Getting the bigram frequency distribution\n",
    "fd_bigrams = FreqDist()\n",
    "\n",
    "for bigram in bi_grams:\n",
    "    fd_bigrams[bigram] = fd_bigrams[bigram] + 1\n",
    "# Examining the top 5 most frequent bigrams\n",
    "fd_bigrams.most_common(5)"
   ]
  },
  {
   "cell_type": "code",
   "execution_count": 95,
   "id": "54e8b987",
   "metadata": {},
   "outputs": [
    {
     "data": {
      "image/png": "[encoded data removed]",
      "text/plain": [
       "<Figure size 1500x800 with 1 Axes>"
      ]
     },
     "metadata": {},
     "output_type": "display_data"
    },
    {
     "data": {
      "text/plain": [
       "<AxesSubplot:xlabel='Samples', ylabel='Counts'>"
      ]
     },
     "execution_count": 95,
     "metadata": {},
     "output_type": "execute_result"
    }
   ],
   "source": [
    "# Plotting the top 50 most frequent bigrams\n",
    "# takes 1 min\n",
    "\n",
    "plt.figure(figsize = (15, 8))\n",
    "fd_bigrams.plot(20)\n"
   ]
  },
  {
   "cell_type": "code",
   "execution_count": 97,
   "id": "4ecc5b2b",
   "metadata": {},
   "outputs": [
    {
     "data": {
      "text/plain": [
       "[(('The', 'food'), 10497),\n",
       " (('I', 'ordered'), 10159),\n",
       " (('really', 'good'), 9575),\n",
       " (('This', 'place'), 8208),\n",
       " (('must', 'try'), 7824),\n",
       " (('I', 'would'), 7353),\n",
       " (('We', 'ordered'), 7223),\n",
       " (('visit', 'place'), 6897),\n",
       " (('food', 'good'), 6823),\n",
       " (('good', 'food'), 6482),\n",
       " (('The', 'place'), 6158),\n",
       " (('main', 'course'), 5544),\n",
       " (('non', 'veg'), 5364),\n",
       " (('good', 'place'), 5339),\n",
       " (('ice', 'cream'), 5287),\n",
       " (('also', 'good'), 5083),\n",
       " (('The', 'ambience'), 4798),\n",
       " (('I', 'tried'), 4523),\n",
       " (('good', 'I'), 4139),\n",
       " (('good', 'The'), 4078),\n",
       " (('food', 'I'), 3998),\n",
       " (('place', 'I'), 3896),\n",
       " (('The', 'service'), 3830),\n",
       " (('one', 'best'), 3711),\n",
       " (('must', 'visit'), 3658),\n",
       " (('I', 'love'), 3529),\n",
       " (('quality', 'food'), 3510),\n",
       " (('nWe', 'ordered'), 3490),\n",
       " (('time', 'I'), 3398),\n",
       " (('nice', 'place'), 3290),\n",
       " (('The', 'staff'), 3286),\n",
       " (('taste', 'good'), 3275),\n",
       " (('pretty', 'good'), 3270),\n",
       " (('fried', 'rice'), 3127),\n",
       " (('pocket', 'friendly'), 3097),\n",
       " (('place', 'good'), 3083),\n",
       " (('I', 'loved'), 3078),\n",
       " (('good', 'service'), 3036),\n",
       " (('value', 'money'), 2966),\n",
       " (('place', 'hangout'), 2883),\n",
       " (('good', 'taste'), 2866),\n",
       " (('I', 'like'), 2828),\n",
       " (('I', 'visited'), 2824),\n",
       " (('service', 'good'), 2806),\n",
       " (('great', 'place'), 2708),\n",
       " (('good', 'experience'), 2589),\n",
       " (('nThe', 'food'), 2546),\n",
       " (('ambience', 'good'), 2543),\n",
       " (('first', 'time'), 2533),\n",
       " (('visited', 'place'), 2521),\n",
       " (('chicken', 'biryani'), 2457),\n",
       " (('North', 'Indian'), 2439),\n",
       " (('food', 'The'), 2436),\n",
       " (('I', 'went'), 2416),\n",
       " (('I', 'really'), 2407),\n",
       " (('place', 'The'), 2393),\n",
       " (('recommend', 'place'), 2322),\n",
       " (('I', 'think'), 2271),\n",
       " (('I', 'liked'), 2242),\n",
       " (('One', 'best'), 2225),\n",
       " (('food', 'quality'), 2223),\n",
       " (('Must', 'try'), 2210),\n",
       " (('The', 'best'), 2182),\n",
       " (('I', 'ever'), 2171),\n",
       " (('long', 'time'), 2156),\n",
       " (('really', 'nice'), 2108),\n",
       " (('I', 'got'), 2059),\n",
       " (('nValue', 'money'), 2054),\n",
       " (('food', 'great'), 2051),\n",
       " (('tasted', 'good'), 2049),\n",
       " (('ordered', 'chicken'), 2039),\n",
       " (('best', 'place'), 2021),\n",
       " (('Food', 'good'), 2019),\n",
       " (('food', 'really'), 1992),\n",
       " (('home', 'delivery'), 1992),\n",
       " (('Good', 'place'), 1986),\n",
       " (('We', 'went'), 1981),\n",
       " (('I', 'felt'), 1961),\n",
       " (('Indian', 'food'), 1960),\n",
       " (('nFood', 'nService'), 1953),\n",
       " (('Good', 'food'), 1925),\n",
       " (('nAmbience', 'nService'), 1924),\n",
       " (('great', 'food'), 1924),\n",
       " (('quite', 'good'), 1917),\n",
       " (('try', 'place'), 1913),\n",
       " (('food', 'service'), 1879),\n",
       " (('good', 'ambience'), 1873),\n",
       " (('place', 'hang'), 1861),\n",
       " (('The', 'taste'), 1857),\n",
       " (('place', 'visit'), 1856),\n",
       " (('would', 'recommend'), 1849),\n",
       " (('The', 'chicken'), 1826),\n",
       " (('We', 'tried'), 1822),\n",
       " (('tasty', 'food'), 1810),\n",
       " (('worth', 'money'), 1746),\n",
       " (('nThe', 'service'), 1739),\n",
       " (('Nice', 'place'), 1738),\n",
       " (('best', 'part'), 1707),\n",
       " (('go', 'place'), 1687),\n",
       " (('next', 'time'), 1663)]"
      ]
     },
     "execution_count": 97,
     "metadata": {},
     "output_type": "execute_result"
    }
   ],
   "source": [
    "fd_bigrams.most_common(100)"
   ]
  },
  {
   "cell_type": "markdown",
   "id": "34c72b23",
   "metadata": {},
   "source": [
    "    Observations\n",
    "    We have some new insights! Food items/preferences mentioned in the top\n",
    "    50 bigrams are  :\n",
    "    \n",
    "    Fried Rice , Ice cream , non-veg , chicken biryani , main course\n",
    "    Fried Rice\n",
    " \n",
    "\n",
    "    Factors contributing to restaurant experience are : \n",
    "    good food > pocket friendly > good place > good place >\n",
    "    value (for) money  > Home delivery..\n",
    "\n",
    "    There's a key insight here: \n",
    "    the expense factor, which was missed by individual word frequency counts, \n",
    "    was picked up by the bigram frequency counts."
   ]
  },
  {
   "cell_type": "code",
   "execution_count": null,
   "id": "83fd3a02",
   "metadata": {},
   "outputs": [],
   "source": [
    "### but there is no conclusion about north Indian or south Indian \n",
    "## bcz it can be dish or it can be regional people as well..\n",
    "### so lets perform trigram anlysis to come up with some more meaningful insights.."
   ]
  },
  {
   "cell_type": "code",
   "execution_count": null,
   "id": "365ccdf5",
   "metadata": {},
   "outputs": [],
   "source": []
  },
  {
   "cell_type": "code",
   "execution_count": null,
   "id": "50bba33c",
   "metadata": {},
   "outputs": [],
   "source": []
  },
  {
   "cell_type": "markdown",
   "id": "291279b0",
   "metadata": {},
   "source": [
    "##### c.. Trigram Analysis"
   ]
  },
  {
   "cell_type": "code",
   "execution_count": 98,
   "id": "fe147b4e",
   "metadata": {},
   "outputs": [],
   "source": [
    "from nltk import trigrams"
   ]
  },
  {
   "cell_type": "code",
   "execution_count": 99,
   "id": "2d4d91b3",
   "metadata": {},
   "outputs": [],
   "source": [
    "# Generating trigrams from the reviews\n",
    "trigrams = trigrams(total_reviews_1D)"
   ]
  },
  {
   "cell_type": "code",
   "execution_count": 100,
   "id": "6361a5f4",
   "metadata": {},
   "outputs": [],
   "source": [
    "## takes 1 min \n",
    "fd_trigrams = FreqDist()\n",
    "\n",
    "for trigram in trigrams:\n",
    "    fd_trigrams[trigram] += 1"
   ]
  },
  {
   "cell_type": "code",
   "execution_count": 101,
   "id": "67c0e4f2",
   "metadata": {},
   "outputs": [
    {
     "data": {
      "text/plain": [
       "[(('veg', 'non', 'veg'), 1525),\n",
       " (('must', 'visit', 'place'), 1487),\n",
       " (('The', 'food', 'good'), 1339),\n",
       " (('place', 'hangout', 'friends'), 1165),\n",
       " (('I', 'must', 'say'), 1131)]"
      ]
     },
     "execution_count": 101,
     "metadata": {},
     "output_type": "execute_result"
    }
   ],
   "source": [
    "fd_trigrams.most_common(5)"
   ]
  },
  {
   "cell_type": "code",
   "execution_count": 102,
   "id": "ffc8f144",
   "metadata": {},
   "outputs": [
    {
     "data": {
      "image/png": "[encoded data removed]",
      "text/plain": [
       "<Figure size 1000x500 with 1 Axes>"
      ]
     },
     "metadata": {},
     "output_type": "display_data"
    },
    {
     "data": {
      "text/plain": [
       "<AxesSubplot:xlabel='Samples', ylabel='Counts'>"
      ]
     },
     "execution_count": 102,
     "metadata": {},
     "output_type": "execute_result"
    }
   ],
   "source": [
    "plt.figure(figsize = (10, 5))\n",
    "fd_trigrams.plot(20)"
   ]
  },
  {
   "cell_type": "code",
   "execution_count": 103,
   "id": "c8c54960",
   "metadata": {},
   "outputs": [
    {
     "data": {
      "text/plain": [
       "[(('veg', 'non', 'veg'), 1525),\n",
       " (('must', 'visit', 'place'), 1487),\n",
       " (('The', 'food', 'good'), 1339),\n",
       " (('place', 'hangout', 'friends'), 1165),\n",
       " (('I', 'must', 'say'), 1131),\n",
       " (('I', 'would', 'recommend'), 1059),\n",
       " (('I', 'visited', 'place'), 1054),\n",
       " (('I', 'would', 'say'), 979),\n",
       " (('place', 'hang', 'friends'), 967),\n",
       " (('food', 'really', 'good'), 886),\n",
       " (('nFood', 'nAmbience', 'nService'), 845),\n",
       " (('A', 'must', 'visit'), 768),\n",
       " (('The', 'ambience', 'good'), 751),\n",
       " (('A', 'good', 'place'), 737),\n",
       " (('North', 'Indian', 'food'), 675),\n",
       " (('I', 'would', 'like'), 619),\n",
       " (('nFood', 'nService', 'nAmbience'), 607),\n",
       " (('A', 'must', 'try'), 603),\n",
       " (('I', 'really', 'liked'), 595),\n",
       " (('I', 'ordered', 'chicken'), 582),\n",
       " (('first', 'time', 'I'), 570),\n",
       " (('The', 'staff', 'friendly'), 561),\n",
       " (('The', 'best', 'part'), 561),\n",
       " (('The', 'food', 'really'), 559),\n",
       " (('Overall', 'good', 'experience'), 558),\n",
       " (('I', 'love', 'place'), 554),\n",
       " (('paneer', 'butter', 'masala'), 554),\n",
       " (('really', 'good', 'The'), 552),\n",
       " (('A', 'nice', 'place'), 549),\n",
       " (('starters', 'main', 'course'), 541),\n",
       " (('food', 'I', 'ordered'), 539),\n",
       " (('I', 'would', 'suggest'), 539),\n",
       " (('The', 'staff', 'courteous'), 534),\n",
       " (('nService', 'nValue', 'money'), 528),\n",
       " (('I', 'would', 'definitely'), 520),\n",
       " (('I', 'ordered', 'food'), 516),\n",
       " (('place', 'good', 'food'), 513),\n",
       " (('must', 'try', 'place'), 486),\n",
       " (('nAmbience', 'nFood', 'nService'), 486),\n",
       " (('north', 'Indian', 'food'), 480),\n",
       " (('nRead', 'full', 'post'), 478),\n",
       " (('good', 'We', 'ordered'), 473),\n",
       " (('good', 'food', 'good'), 466),\n",
       " (('The', 'service', 'good'), 457),\n",
       " (('One', 'best', 'places'), 438),\n",
       " (('would', 'recommend', 'place'), 436),\n",
       " (('A', 'great', 'place'), 436),\n",
       " (('chicken', 'fried', 'rice'), 428),\n",
       " (('place', 'The', 'food'), 427),\n",
       " (('I', 'recommend', 'place'), 427)]"
      ]
     },
     "execution_count": 103,
     "metadata": {},
     "output_type": "execute_result"
    }
   ],
   "source": [
    "fd_trigrams.most_common(50)"
   ]
  },
  {
   "cell_type": "markdown",
   "id": "322f4184",
   "metadata": {},
   "source": [
    "## Observations\n",
    "    There appears to be some bad data (strings of \"f f f\") \n",
    "    somewhere in the reviews, but we'll ignore that.\n",
    "\n",
    "    The specific food preferences we can see here are \n",
    "    north Indian Food , paneer butter masala, South Indian food \n",
    "    & chicken fried rice...\n",
    "    ie , Bangalore is full of chicken lovers..."
   ]
  },
  {
   "cell_type": "code",
   "execution_count": null,
   "id": "98ff5acc",
   "metadata": {},
   "outputs": [],
   "source": []
  },
  {
   "cell_type": "code",
   "execution_count": null,
   "id": "5938716a",
   "metadata": {},
   "outputs": [],
   "source": [
    "### Similarly we can use cuisines features for Text Analysis as well.."
   ]
  },
  {
   "cell_type": "code",
   "execution_count": null,
   "id": "ce3e7d05",
   "metadata": {},
   "outputs": [],
   "source": []
  },
  {
   "cell_type": "code",
   "execution_count": null,
   "id": "5f1c396a",
   "metadata": {},
   "outputs": [],
   "source": []
  },
  {
   "cell_type": "code",
   "execution_count": null,
   "id": "afe18357",
   "metadata": {},
   "outputs": [],
   "source": []
  },
  {
   "cell_type": "code",
   "execution_count": null,
   "id": "a1e701d4",
   "metadata": {},
   "outputs": [],
   "source": []
  },
  {
   "cell_type": "markdown",
   "id": "797cf937",
   "metadata": {},
   "source": [
    "## 7.. Extract geographical-coordinates from data ..\n",
    "\n",
    "    Prb st : where are most of the North-Indian restaurants situated\n",
    "             in Bengaluru ? \n",
    "              First extract latitudes & longitudes from data \n",
    "              so that we are able to use maps.."
   ]
  },
  {
   "cell_type": "code",
   "execution_count": null,
   "id": "2544ac86",
   "metadata": {},
   "outputs": [],
   "source": []
  },
  {
   "cell_type": "code",
   "execution_count": null,
   "id": "4a487a2f",
   "metadata": {},
   "outputs": [],
   "source": []
  },
  {
   "cell_type": "markdown",
   "id": "dc3c120d",
   "metadata": {},
   "source": [
    "\n",
    "    I need Latitudes & longitudes for each of the place for \n",
    "    geaographical Data analysis,so to fetch lat,lon of each place,\n",
    "    use Geopy or \n",
    "    \n",
    "\n",
    "        \n",
    "### https://stackoverflow.com/questions/25888396/how-to-get-latitude-longitude-with-python\n",
    "    There are couple of ways from which u can extract \n",
    "    latitudes & longitudes , follow above link :\n",
    "    \n",
    "    \n",
    "    \n",
    "### definition of latitudes & Longitudes :\n",
    "    The globe is split into an imaginary 360 sections from \n",
    "    both top to bottom (north to south) \n",
    "    and 180 sections from side to side (west to east). \n",
    "    The sections running from top to bottom on a globe are called\n",
    "    longitude \n",
    "    and the sections running from side to side on a globe are called latitude.\n",
    "    \n",
    "    Latitude is the measurement of distance north or south of the Equator.\n",
    "    \n",
    "    Every location on earth has a global address. \n",
    "    Because the address is in numbers, \n",
    "    people can communicate about location no matter what language they might speak. \n",
    "    A global address is given as two numbers called coordinates. \n",
    "    The two numbers are a location's latitude number and its longitude number \n",
    "    (\"Lat/Long\").\n",
    "    \n",
    "    \n",
    "    now the immediate question is - how to extract lat & lon of location ??\n",
    "    \n",
    "    \n",
    "    so using address or location feature , \n",
    "    we can extract what the geographical co-ordinates are !\n",
    "\n",
    "    a) so just for simplicity  we will learn how to extract it \n",
    "        using 'location' feature\n",
    "        \n",
    "    b) If we have 'address' feature , we can extract more \n",
    "        accurate co-ordinates as address is breifly described..\n",
    "    "
   ]
  },
  {
   "cell_type": "code",
   "execution_count": null,
   "id": "16c3654d",
   "metadata": {},
   "outputs": [],
   "source": [
    "#pip install geocoder"
   ]
  },
  {
   "cell_type": "code",
   "execution_count": 104,
   "id": "d0b3e40f",
   "metadata": {},
   "outputs": [
    {
     "data": {
      "text/html": [
       "<div>\n",
       "<style scoped>\n",
       "    .dataframe tbody tr th:only-of-type {\n",
       "        vertical-align: middle;\n",
       "    }\n",
       "\n",
       "    .dataframe tbody tr th {\n",
       "        vertical-align: top;\n",
       "    }\n",
       "\n",
       "    .dataframe thead th {\n",
       "        text-align: right;\n",
       "    }\n",
       "</style>\n",
       "<table border=\"1\" class=\"dataframe\">\n",
       "  <thead>\n",
       "    <tr style=\"text-align: right;\">\n",
       "      <th></th>\n",
       "      <th>index</th>\n",
       "      <th>url</th>\n",
       "      <th>address</th>\n",
       "      <th>name</th>\n",
       "      <th>online_order</th>\n",
       "      <th>book_table</th>\n",
       "      <th>rate</th>\n",
       "      <th>votes</th>\n",
       "      <th>phone</th>\n",
       "      <th>location</th>\n",
       "      <th>rest_type</th>\n",
       "      <th>dish_liked</th>\n",
       "      <th>cuisines</th>\n",
       "      <th>approx_cost(for two people)</th>\n",
       "      <th>reviews_list</th>\n",
       "      <th>menu_item</th>\n",
       "      <th>listed_in(type)</th>\n",
       "      <th>listed_in(city)</th>\n",
       "    </tr>\n",
       "  </thead>\n",
       "  <tbody>\n",
       "    <tr>\n",
       "      <th>0</th>\n",
       "      <td>0</td>\n",
       "      <td>https://www.zomato.com/bangalore/jalsa-banasha...</td>\n",
       "      <td>942, 21st Main Road, 2nd Stage, Banashankari, ...</td>\n",
       "      <td>Jalsa</td>\n",
       "      <td>Yes</td>\n",
       "      <td>Yes</td>\n",
       "      <td>4.1</td>\n",
       "      <td>775</td>\n",
       "      <td>080 42297555\\r\\n+91 9743772233</td>\n",
       "      <td>Banashankari</td>\n",
       "      <td>Casual Dining</td>\n",
       "      <td>Pasta, Lunch Buffet, Masala Papad, Paneer Laja...</td>\n",
       "      <td>North Indian, Mughlai, Chinese</td>\n",
       "      <td>800</td>\n",
       "      <td>[('Rated 4.0', 'RATED\\n  A beautiful place to ...</td>\n",
       "      <td>[]</td>\n",
       "      <td>Buffet</td>\n",
       "      <td>Banashankari</td>\n",
       "    </tr>\n",
       "    <tr>\n",
       "      <th>1</th>\n",
       "      <td>1</td>\n",
       "      <td>https://www.zomato.com/bangalore/spice-elephan...</td>\n",
       "      <td>2nd Floor, 80 Feet Road, Near Big Bazaar, 6th ...</td>\n",
       "      <td>Spice Elephant</td>\n",
       "      <td>Yes</td>\n",
       "      <td>No</td>\n",
       "      <td>4.1</td>\n",
       "      <td>787</td>\n",
       "      <td>080 41714161</td>\n",
       "      <td>Banashankari</td>\n",
       "      <td>Casual Dining</td>\n",
       "      <td>Momos, Lunch Buffet, Chocolate Nirvana, Thai G...</td>\n",
       "      <td>Chinese, North Indian, Thai</td>\n",
       "      <td>800</td>\n",
       "      <td>[('Rated 4.0', 'RATED\\n  Had been here for din...</td>\n",
       "      <td>[]</td>\n",
       "      <td>Buffet</td>\n",
       "      <td>Banashankari</td>\n",
       "    </tr>\n",
       "  </tbody>\n",
       "</table>\n",
       "</div>"
      ],
      "text/plain": [
       "   index                                                url  \\\n",
       "0      0  https://www.zomato.com/bangalore/jalsa-banasha...   \n",
       "1      1  https://www.zomato.com/bangalore/spice-elephan...   \n",
       "\n",
       "                                             address            name  \\\n",
       "0  942, 21st Main Road, 2nd Stage, Banashankari, ...           Jalsa   \n",
       "1  2nd Floor, 80 Feet Road, Near Big Bazaar, 6th ...  Spice Elephant   \n",
       "\n",
       "  online_order book_table  rate  votes                           phone  \\\n",
       "0          Yes        Yes   4.1    775  080 42297555\\r\\n+91 9743772233   \n",
       "1          Yes         No   4.1    787                    080 41714161   \n",
       "\n",
       "       location      rest_type  \\\n",
       "0  Banashankari  Casual Dining   \n",
       "1  Banashankari  Casual Dining   \n",
       "\n",
       "                                          dish_liked  \\\n",
       "0  Pasta, Lunch Buffet, Masala Papad, Paneer Laja...   \n",
       "1  Momos, Lunch Buffet, Chocolate Nirvana, Thai G...   \n",
       "\n",
       "                         cuisines approx_cost(for two people)  \\\n",
       "0  North Indian, Mughlai, Chinese                         800   \n",
       "1     Chinese, North Indian, Thai                         800   \n",
       "\n",
       "                                        reviews_list menu_item  \\\n",
       "0  [('Rated 4.0', 'RATED\\n  A beautiful place to ...        []   \n",
       "1  [('Rated 4.0', 'RATED\\n  Had been here for din...        []   \n",
       "\n",
       "  listed_in(type) listed_in(city)  \n",
       "0          Buffet    Banashankari  \n",
       "1          Buffet    Banashankari  "
      ]
     },
     "execution_count": 104,
     "metadata": {},
     "output_type": "execute_result"
    }
   ],
   "source": [
    "df.head(2)"
   ]
  },
  {
   "cell_type": "code",
   "execution_count": null,
   "id": "39213c87",
   "metadata": {},
   "outputs": [],
   "source": []
  },
  {
   "cell_type": "code",
   "execution_count": null,
   "id": "21c3faa0",
   "metadata": {},
   "outputs": [],
   "source": [
    "### lets make this places more accurate , so that we are able \n",
    "## to extract more accurate latitudes & longitudes\n",
    "\n",
    "### otherwise it might return geographical co-ordinates outside \n",
    "## of Bengaluru as well "
   ]
  },
  {
   "cell_type": "code",
   "execution_count": 106,
   "id": "b499d3b5",
   "metadata": {},
   "outputs": [],
   "source": [
    "### Lets add 'Bangalore , Karnataka , India' so that u will get \n",
    "## more more accurate geographical co-ordinates..\n",
    "\n",
    "df['location'] = df['location'] + ', Bangalore, Karnataka, India'"
   ]
  },
  {
   "cell_type": "code",
   "execution_count": 107,
   "id": "37e84fac",
   "metadata": {},
   "outputs": [
    {
     "data": {
      "text/plain": [
       "(51717, 18)"
      ]
     },
     "execution_count": 107,
     "metadata": {},
     "output_type": "execute_result"
    }
   ],
   "source": [
    "df.shape"
   ]
  },
  {
   "cell_type": "code",
   "execution_count": 108,
   "id": "c1bf4610",
   "metadata": {},
   "outputs": [],
   "source": [
    "df_copy = df.copy()"
   ]
  },
  {
   "cell_type": "code",
   "execution_count": 109,
   "id": "948682c9",
   "metadata": {},
   "outputs": [
    {
     "data": {
      "text/plain": [
       "(51717, 18)"
      ]
     },
     "execution_count": 109,
     "metadata": {},
     "output_type": "execute_result"
    }
   ],
   "source": [
    "df_copy.shape"
   ]
  },
  {
   "cell_type": "code",
   "execution_count": 110,
   "id": "61273bca",
   "metadata": {},
   "outputs": [],
   "source": [
    "df_copy = df_copy.dropna(subset=['location'] )"
   ]
  },
  {
   "cell_type": "code",
   "execution_count": 111,
   "id": "d4094fd5",
   "metadata": {},
   "outputs": [
    {
     "data": {
      "text/plain": [
       "(51696, 18)"
      ]
     },
     "execution_count": 111,
     "metadata": {},
     "output_type": "execute_result"
    }
   ],
   "source": [
    "df_copy.shape"
   ]
  },
  {
   "cell_type": "code",
   "execution_count": 112,
   "id": "a1253887",
   "metadata": {},
   "outputs": [
    {
     "data": {
      "text/plain": [
       "0"
      ]
     },
     "execution_count": 112,
     "metadata": {},
     "output_type": "execute_result"
    }
   ],
   "source": [
    "df_copy['location'].isnull().sum()"
   ]
  },
  {
   "cell_type": "code",
   "execution_count": null,
   "id": "4c5cfc57",
   "metadata": {},
   "outputs": [],
   "source": []
  },
  {
   "cell_type": "code",
   "execution_count": 113,
   "id": "6dac5b78",
   "metadata": {},
   "outputs": [
    {
     "data": {
      "text/html": [
       "<div>\n",
       "<style scoped>\n",
       "    .dataframe tbody tr th:only-of-type {\n",
       "        vertical-align: middle;\n",
       "    }\n",
       "\n",
       "    .dataframe tbody tr th {\n",
       "        vertical-align: top;\n",
       "    }\n",
       "\n",
       "    .dataframe thead th {\n",
       "        text-align: right;\n",
       "    }\n",
       "</style>\n",
       "<table border=\"1\" class=\"dataframe\">\n",
       "  <thead>\n",
       "    <tr style=\"text-align: right;\">\n",
       "      <th></th>\n",
       "      <th>name</th>\n",
       "    </tr>\n",
       "  </thead>\n",
       "  <tbody>\n",
       "    <tr>\n",
       "      <th>0</th>\n",
       "      <td>Banashankari, Bangalore, Karnataka, India</td>\n",
       "    </tr>\n",
       "    <tr>\n",
       "      <th>1</th>\n",
       "      <td>Basavanagudi, Bangalore, Karnataka, India</td>\n",
       "    </tr>\n",
       "    <tr>\n",
       "      <th>2</th>\n",
       "      <td>Mysore Road, Bangalore, Karnataka, India</td>\n",
       "    </tr>\n",
       "    <tr>\n",
       "      <th>3</th>\n",
       "      <td>Jayanagar, Bangalore, Karnataka, India</td>\n",
       "    </tr>\n",
       "    <tr>\n",
       "      <th>4</th>\n",
       "      <td>Kumaraswamy Layout, Bangalore, Karnataka, India</td>\n",
       "    </tr>\n",
       "    <tr>\n",
       "      <th>...</th>\n",
       "      <td>...</td>\n",
       "    </tr>\n",
       "    <tr>\n",
       "      <th>88</th>\n",
       "      <td>West Bangalore, Bangalore, Karnataka, India</td>\n",
       "    </tr>\n",
       "    <tr>\n",
       "      <th>89</th>\n",
       "      <td>Magadi Road, Bangalore, Karnataka, India</td>\n",
       "    </tr>\n",
       "    <tr>\n",
       "      <th>90</th>\n",
       "      <td>Yelahanka, Bangalore, Karnataka, India</td>\n",
       "    </tr>\n",
       "    <tr>\n",
       "      <th>91</th>\n",
       "      <td>Sahakara Nagar, Bangalore, Karnataka, India</td>\n",
       "    </tr>\n",
       "    <tr>\n",
       "      <th>92</th>\n",
       "      <td>Peenya, Bangalore, Karnataka, India</td>\n",
       "    </tr>\n",
       "  </tbody>\n",
       "</table>\n",
       "<p>93 rows × 1 columns</p>\n",
       "</div>"
      ],
      "text/plain": [
       "                                               name\n",
       "0         Banashankari, Bangalore, Karnataka, India\n",
       "1         Basavanagudi, Bangalore, Karnataka, India\n",
       "2          Mysore Road, Bangalore, Karnataka, India\n",
       "3            Jayanagar, Bangalore, Karnataka, India\n",
       "4   Kumaraswamy Layout, Bangalore, Karnataka, India\n",
       "..                                              ...\n",
       "88      West Bangalore, Bangalore, Karnataka, India\n",
       "89         Magadi Road, Bangalore, Karnataka, India\n",
       "90           Yelahanka, Bangalore, Karnataka, India\n",
       "91      Sahakara Nagar, Bangalore, Karnataka, India\n",
       "92              Peenya, Bangalore, Karnataka, India\n",
       "\n",
       "[93 rows x 1 columns]"
      ]
     },
     "execution_count": 113,
     "metadata": {},
     "output_type": "execute_result"
    }
   ],
   "source": [
    "pd.DataFrame({\"name\":df_copy['location'].unique()})"
   ]
  },
  {
   "cell_type": "code",
   "execution_count": null,
   "id": "f8be4c36",
   "metadata": {},
   "outputs": [],
   "source": []
  },
  {
   "cell_type": "code",
   "execution_count": 115,
   "id": "b518f23d",
   "metadata": {},
   "outputs": [],
   "source": [
    "locations = pd.DataFrame({\"name\":df_copy['location'].unique()})"
   ]
  },
  {
   "cell_type": "code",
   "execution_count": 116,
   "id": "9c762fdc",
   "metadata": {},
   "outputs": [
    {
     "data": {
      "text/html": [
       "<div>\n",
       "<style scoped>\n",
       "    .dataframe tbody tr th:only-of-type {\n",
       "        vertical-align: middle;\n",
       "    }\n",
       "\n",
       "    .dataframe tbody tr th {\n",
       "        vertical-align: top;\n",
       "    }\n",
       "\n",
       "    .dataframe thead th {\n",
       "        text-align: right;\n",
       "    }\n",
       "</style>\n",
       "<table border=\"1\" class=\"dataframe\">\n",
       "  <thead>\n",
       "    <tr style=\"text-align: right;\">\n",
       "      <th></th>\n",
       "      <th>name</th>\n",
       "    </tr>\n",
       "  </thead>\n",
       "  <tbody>\n",
       "    <tr>\n",
       "      <th>0</th>\n",
       "      <td>Banashankari, Bangalore, Karnataka, India</td>\n",
       "    </tr>\n",
       "    <tr>\n",
       "      <th>1</th>\n",
       "      <td>Basavanagudi, Bangalore, Karnataka, India</td>\n",
       "    </tr>\n",
       "  </tbody>\n",
       "</table>\n",
       "</div>"
      ],
      "text/plain": [
       "                                        name\n",
       "0  Banashankari, Bangalore, Karnataka, India\n",
       "1  Basavanagudi, Bangalore, Karnataka, India"
      ]
     },
     "execution_count": 116,
     "metadata": {},
     "output_type": "execute_result"
    }
   ],
   "source": [
    "locations.head(2)"
   ]
  },
  {
   "cell_type": "code",
   "execution_count": null,
   "id": "bd9f8a85",
   "metadata": {},
   "outputs": [],
   "source": [
    "### lets make this places more accurate , so that we are able to \n",
    "## extract more accurate latitudes & longitudes\n",
    "\n",
    "### otherwise it might return geographical co-ordinates outside \n",
    "## of Bengaluru as well "
   ]
  },
  {
   "cell_type": "code",
   "execution_count": null,
   "id": "459d53f8",
   "metadata": {},
   "outputs": [],
   "source": []
  },
  {
   "cell_type": "code",
   "execution_count": 117,
   "id": "1e1da6a2",
   "metadata": {},
   "outputs": [
    {
     "data": {
      "text/plain": [
       "(93, 1)"
      ]
     },
     "execution_count": 117,
     "metadata": {},
     "output_type": "execute_result"
    }
   ],
   "source": [
    "locations.shape"
   ]
  },
  {
   "cell_type": "code",
   "execution_count": null,
   "id": "b221f3a1",
   "metadata": {},
   "outputs": [],
   "source": [
    "## !pip install geopy\n",
    "\n",
    "## (2.0.0)-2.2.0"
   ]
  },
  {
   "cell_type": "code",
   "execution_count": null,
   "id": "abb65c74",
   "metadata": {},
   "outputs": [],
   "source": [
    "#!pip install geopy"
   ]
  },
  {
   "cell_type": "code",
   "execution_count": 118,
   "id": "66963784",
   "metadata": {},
   "outputs": [],
   "source": [
    "from geopy.geocoders import Nominatim"
   ]
  },
  {
   "cell_type": "code",
   "execution_count": 119,
   "id": "3ec9fdf7",
   "metadata": {},
   "outputs": [],
   "source": [
    "## takes 2 mins\n",
    "\n",
    "lat=[]\n",
    "lon=[]\n",
    "\n",
    "### assign timeout=None in order to get rid of timeout error..\n",
    "\n",
    "geolocator = Nominatim(user_agent = \"app\", timeout = None)\n",
    "\n",
    "for location in locations['name']:\n",
    "    location = geolocator.geocode(location)\n",
    "    if location is None:\n",
    "        lat.append(np.nan)\n",
    "        lon.append(np.nan)\n",
    "    else:    \n",
    "        lat.append(location.latitude)\n",
    "        lon.append(location.longitude)\n",
    "        "
   ]
  },
  {
   "cell_type": "code",
   "execution_count": null,
   "id": "4a3458ee",
   "metadata": {},
   "outputs": [],
   "source": [
    "'''\n",
    "\n",
    "## increase your recursion limit , if u will get a error as \n",
    "Maximum Recursion Depth Exceeded\n",
    "\n",
    "use below code :\n",
    "\n",
    "import sys\n",
    "sys.getrecursionlimit()\n",
    "\n",
    "sys.setrecursionlimit(10000)\n",
    "sys.getrecursionlimit()\n",
    "\n",
    ":: Do follow Spatial_Zomato_whole.ipynb\n",
    "\n",
    "'''"
   ]
  },
  {
   "cell_type": "code",
   "execution_count": 120,
   "id": "6e7d0a30",
   "metadata": {},
   "outputs": [],
   "source": [
    "locations['latitude'] = lat\n",
    "locations['longitude'] = lon"
   ]
  },
  {
   "cell_type": "markdown",
   "id": "da5b0aed",
   "metadata": {},
   "source": [
    "    We have found out latitude and longitude of each location listed in the dataset using geopy\n",
    "    This is used to plot maps."
   ]
  },
  {
   "cell_type": "code",
   "execution_count": 153,
   "id": "49745d2b",
   "metadata": {},
   "outputs": [
    {
     "data": {
      "text/html": [
       "<div>\n",
       "<style scoped>\n",
       "    .dataframe tbody tr th:only-of-type {\n",
       "        vertical-align: middle;\n",
       "    }\n",
       "\n",
       "    .dataframe tbody tr th {\n",
       "        vertical-align: top;\n",
       "    }\n",
       "\n",
       "    .dataframe thead th {\n",
       "        text-align: right;\n",
       "    }\n",
       "</style>\n",
       "<table border=\"1\" class=\"dataframe\">\n",
       "  <thead>\n",
       "    <tr style=\"text-align: right;\">\n",
       "      <th></th>\n",
       "      <th>name</th>\n",
       "      <th>latitude</th>\n",
       "      <th>longitude</th>\n",
       "    </tr>\n",
       "  </thead>\n",
       "  <tbody>\n",
       "    <tr>\n",
       "      <th>0</th>\n",
       "      <td>Banashankari, Bangalore, Karnataka, India</td>\n",
       "      <td>12.915221</td>\n",
       "      <td>77.573598</td>\n",
       "    </tr>\n",
       "    <tr>\n",
       "      <th>1</th>\n",
       "      <td>Basavanagudi, Bangalore, Karnataka, India</td>\n",
       "      <td>12.941726</td>\n",
       "      <td>77.575502</td>\n",
       "    </tr>\n",
       "    <tr>\n",
       "      <th>2</th>\n",
       "      <td>Mysore Road, Bangalore, Karnataka, India</td>\n",
       "      <td>12.946662</td>\n",
       "      <td>77.530090</td>\n",
       "    </tr>\n",
       "    <tr>\n",
       "      <th>3</th>\n",
       "      <td>Jayanagar, Bangalore, Karnataka, India</td>\n",
       "      <td>12.929273</td>\n",
       "      <td>77.582423</td>\n",
       "    </tr>\n",
       "    <tr>\n",
       "      <th>4</th>\n",
       "      <td>Kumaraswamy Layout, Bangalore, Karnataka, India</td>\n",
       "      <td>12.908149</td>\n",
       "      <td>77.555318</td>\n",
       "    </tr>\n",
       "    <tr>\n",
       "      <th>...</th>\n",
       "      <td>...</td>\n",
       "      <td>...</td>\n",
       "      <td>...</td>\n",
       "    </tr>\n",
       "    <tr>\n",
       "      <th>88</th>\n",
       "      <td>West Bangalore, Bangalore, Karnataka, India</td>\n",
       "      <td>13.022235</td>\n",
       "      <td>77.567183</td>\n",
       "    </tr>\n",
       "    <tr>\n",
       "      <th>89</th>\n",
       "      <td>Magadi Road, Bangalore, Karnataka, India</td>\n",
       "      <td>12.975608</td>\n",
       "      <td>77.555356</td>\n",
       "    </tr>\n",
       "    <tr>\n",
       "      <th>90</th>\n",
       "      <td>Yelahanka, Bangalore, Karnataka, India</td>\n",
       "      <td>13.100698</td>\n",
       "      <td>77.596345</td>\n",
       "    </tr>\n",
       "    <tr>\n",
       "      <th>91</th>\n",
       "      <td>Sahakara Nagar, Bangalore, Karnataka, India</td>\n",
       "      <td>13.062147</td>\n",
       "      <td>77.580061</td>\n",
       "    </tr>\n",
       "    <tr>\n",
       "      <th>92</th>\n",
       "      <td>Peenya, Bangalore, Karnataka, India</td>\n",
       "      <td>13.032942</td>\n",
       "      <td>77.527325</td>\n",
       "    </tr>\n",
       "  </tbody>\n",
       "</table>\n",
       "<p>93 rows × 3 columns</p>\n",
       "</div>"
      ],
      "text/plain": [
       "                                               name   latitude  longitude\n",
       "0         Banashankari, Bangalore, Karnataka, India  12.915221  77.573598\n",
       "1         Basavanagudi, Bangalore, Karnataka, India  12.941726  77.575502\n",
       "2          Mysore Road, Bangalore, Karnataka, India  12.946662  77.530090\n",
       "3            Jayanagar, Bangalore, Karnataka, India  12.929273  77.582423\n",
       "4   Kumaraswamy Layout, Bangalore, Karnataka, India  12.908149  77.555318\n",
       "..                                              ...        ...        ...\n",
       "88      West Bangalore, Bangalore, Karnataka, India  13.022235  77.567183\n",
       "89         Magadi Road, Bangalore, Karnataka, India  12.975608  77.555356\n",
       "90           Yelahanka, Bangalore, Karnataka, India  13.100698  77.596345\n",
       "91      Sahakara Nagar, Bangalore, Karnataka, India  13.062147  77.580061\n",
       "92              Peenya, Bangalore, Karnataka, India  13.032942  77.527325\n",
       "\n",
       "[93 rows x 3 columns]"
      ]
     },
     "execution_count": 153,
     "metadata": {},
     "output_type": "execute_result"
    }
   ],
   "source": [
    "locations"
   ]
  },
  {
   "cell_type": "code",
   "execution_count": null,
   "id": "1c72fba6",
   "metadata": {},
   "outputs": [],
   "source": []
  },
  {
   "cell_type": "code",
   "execution_count": null,
   "id": "84dbcfbd",
   "metadata": {},
   "outputs": [],
   "source": []
  },
  {
   "cell_type": "code",
   "execution_count": null,
   "id": "f75a0984",
   "metadata": {},
   "outputs": [],
   "source": []
  },
  {
   "cell_type": "markdown",
   "id": "059f2755",
   "metadata": {},
   "source": [
    "## 8.. Lets build geographical Heat-Maps "
   ]
  },
  {
   "cell_type": "code",
   "execution_count": 121,
   "id": "e376b8aa",
   "metadata": {},
   "outputs": [
    {
     "data": {
      "text/plain": [
       "name         0\n",
       "latitude     3\n",
       "longitude    3\n",
       "dtype: int64"
      ]
     },
     "execution_count": 121,
     "metadata": {},
     "output_type": "execute_result"
    }
   ],
   "source": [
    "### lets figure it out whether we have misssing values or not !\n",
    "locations.isnull().sum()"
   ]
  },
  {
   "cell_type": "code",
   "execution_count": 122,
   "id": "694d8309",
   "metadata": {},
   "outputs": [
    {
     "data": {
      "text/html": [
       "<div>\n",
       "<style scoped>\n",
       "    .dataframe tbody tr th:only-of-type {\n",
       "        vertical-align: middle;\n",
       "    }\n",
       "\n",
       "    .dataframe tbody tr th {\n",
       "        vertical-align: top;\n",
       "    }\n",
       "\n",
       "    .dataframe thead th {\n",
       "        text-align: right;\n",
       "    }\n",
       "</style>\n",
       "<table border=\"1\" class=\"dataframe\">\n",
       "  <thead>\n",
       "    <tr style=\"text-align: right;\">\n",
       "      <th></th>\n",
       "      <th>name</th>\n",
       "      <th>latitude</th>\n",
       "      <th>longitude</th>\n",
       "    </tr>\n",
       "  </thead>\n",
       "  <tbody>\n",
       "    <tr>\n",
       "      <th>45</th>\n",
       "      <td>St. Marks Road, Bangalore, Karnataka, India</td>\n",
       "      <td>NaN</td>\n",
       "      <td>NaN</td>\n",
       "    </tr>\n",
       "    <tr>\n",
       "      <th>79</th>\n",
       "      <td>Rammurthy Nagar, Bangalore, Karnataka, India</td>\n",
       "      <td>NaN</td>\n",
       "      <td>NaN</td>\n",
       "    </tr>\n",
       "    <tr>\n",
       "      <th>85</th>\n",
       "      <td>Sadashiv Nagar, Bangalore, Karnataka, India</td>\n",
       "      <td>NaN</td>\n",
       "      <td>NaN</td>\n",
       "    </tr>\n",
       "  </tbody>\n",
       "</table>\n",
       "</div>"
      ],
      "text/plain": [
       "                                            name  latitude  longitude\n",
       "45   St. Marks Road, Bangalore, Karnataka, India       NaN        NaN\n",
       "79  Rammurthy Nagar, Bangalore, Karnataka, India       NaN        NaN\n",
       "85   Sadashiv Nagar, Bangalore, Karnataka, India       NaN        NaN"
      ]
     },
     "execution_count": 122,
     "metadata": {},
     "output_type": "execute_result"
    }
   ],
   "source": [
    "locations[locations['latitude'].isna()]"
   ]
  },
  {
   "cell_type": "code",
   "execution_count": 123,
   "id": "02bc106e",
   "metadata": {},
   "outputs": [
    {
     "data": {
      "text/plain": [
       "False"
      ]
     },
     "execution_count": 123,
     "metadata": {},
     "output_type": "execute_result"
    }
   ],
   "source": [
    "### Rammurthy Nagar is situated in north-eastern part of Bangalore\n",
    "### lets find out whether Rammurthy Nagar has geographical \n",
    "## attributes or not..\n",
    "\n",
    "loc= geolocator.geocode(locations['name'][79])\n",
    "hasattr(loc,'latitude')\n",
    "\n",
    "### it means that \"Rammurthy Nagar\" doesn't have property as latitude , \n",
    "## ie geopy is unable to find geo-graphical co-ordinates for \"Rammurthy Nagar\".\n"
   ]
  },
  {
   "cell_type": "code",
   "execution_count": null,
   "id": "44eda124",
   "metadata": {},
   "outputs": [],
   "source": [
    "### lets take help of google in such circumstances..\n",
    "### google as \"co-ordinates of Rammurthy Nagar bengalore\" & find co-ordinates as :\n",
    "### 13.0163° N, 77.6785° E"
   ]
  },
  {
   "cell_type": "code",
   "execution_count": 124,
   "id": "2204e8d4",
   "metadata": {},
   "outputs": [],
   "source": [
    "locations['latitude'][79] = 13.0163\n",
    "locations['longitude'][79] = 77.6785"
   ]
  },
  {
   "cell_type": "code",
   "execution_count": null,
   "id": "a183cd16",
   "metadata": {},
   "outputs": [],
   "source": [
    "### for St. Marks Road ,\n",
    "### 12.969332 (Lat) & 77.600509(Lon)"
   ]
  },
  {
   "cell_type": "code",
   "execution_count": 125,
   "id": "f7154261",
   "metadata": {},
   "outputs": [],
   "source": [
    "locations['latitude'][45] = 12.969332\n",
    "locations['longitude'][45] = 77.600509"
   ]
  },
  {
   "cell_type": "code",
   "execution_count": 126,
   "id": "f71787b7",
   "metadata": {},
   "outputs": [],
   "source": [
    "locations['latitude'][85] = 13.0068\n",
    "locations['longitude'][85] = 77.5813"
   ]
  },
  {
   "cell_type": "code",
   "execution_count": 127,
   "id": "d1411bed",
   "metadata": {},
   "outputs": [
    {
     "data": {
      "text/plain": [
       "name         0\n",
       "latitude     0\n",
       "longitude    0\n",
       "dtype: int64"
      ]
     },
     "execution_count": 127,
     "metadata": {},
     "output_type": "execute_result"
    }
   ],
   "source": [
    "locations.isnull().sum()"
   ]
  },
  {
   "cell_type": "code",
   "execution_count": null,
   "id": "ea19f41d",
   "metadata": {},
   "outputs": [],
   "source": []
  },
  {
   "cell_type": "code",
   "execution_count": null,
   "id": "85da87bf",
   "metadata": {},
   "outputs": [],
   "source": []
  },
  {
   "cell_type": "code",
   "execution_count": null,
   "id": "0b75dec2",
   "metadata": {},
   "outputs": [],
   "source": []
  },
  {
   "cell_type": "code",
   "execution_count": 128,
   "id": "d4be90b3",
   "metadata": {},
   "outputs": [
    {
     "data": {
      "text/html": [
       "<div>\n",
       "<style scoped>\n",
       "    .dataframe tbody tr th:only-of-type {\n",
       "        vertical-align: middle;\n",
       "    }\n",
       "\n",
       "    .dataframe tbody tr th {\n",
       "        vertical-align: top;\n",
       "    }\n",
       "\n",
       "    .dataframe thead th {\n",
       "        text-align: right;\n",
       "    }\n",
       "</style>\n",
       "<table border=\"1\" class=\"dataframe\">\n",
       "  <thead>\n",
       "    <tr style=\"text-align: right;\">\n",
       "      <th></th>\n",
       "      <th>name</th>\n",
       "      <th>latitude</th>\n",
       "      <th>longitude</th>\n",
       "    </tr>\n",
       "  </thead>\n",
       "  <tbody>\n",
       "    <tr>\n",
       "      <th>0</th>\n",
       "      <td>Banashankari, Bangalore, Karnataka, India</td>\n",
       "      <td>12.915221</td>\n",
       "      <td>77.573598</td>\n",
       "    </tr>\n",
       "    <tr>\n",
       "      <th>1</th>\n",
       "      <td>Basavanagudi, Bangalore, Karnataka, India</td>\n",
       "      <td>12.941726</td>\n",
       "      <td>77.575502</td>\n",
       "    </tr>\n",
       "    <tr>\n",
       "      <th>2</th>\n",
       "      <td>Mysore Road, Bangalore, Karnataka, India</td>\n",
       "      <td>12.946662</td>\n",
       "      <td>77.530090</td>\n",
       "    </tr>\n",
       "  </tbody>\n",
       "</table>\n",
       "</div>"
      ],
      "text/plain": [
       "                                        name   latitude  longitude\n",
       "0  Banashankari, Bangalore, Karnataka, India  12.915221  77.573598\n",
       "1  Basavanagudi, Bangalore, Karnataka, India  12.941726  77.575502\n",
       "2   Mysore Road, Bangalore, Karnataka, India  12.946662  77.530090"
      ]
     },
     "execution_count": 128,
     "metadata": {},
     "output_type": "execute_result"
    }
   ],
   "source": [
    "locations.head(3)"
   ]
  },
  {
   "cell_type": "code",
   "execution_count": null,
   "id": "1a38c853",
   "metadata": {},
   "outputs": [],
   "source": [
    "### lets find it out what are those areas where we have most \n",
    "## number of North-Indian restaurants ?\n",
    "\n",
    "## ie lets extract dataframe of only 'North Indian' cuisine restaurant.."
   ]
  },
  {
   "cell_type": "code",
   "execution_count": null,
   "id": "6ad7a62f",
   "metadata": {},
   "outputs": [],
   "source": [
    "### so if we have any missing value in cuisines feature , lets fix that .."
   ]
  },
  {
   "cell_type": "code",
   "execution_count": 129,
   "id": "5c86a941",
   "metadata": {},
   "outputs": [
    {
     "data": {
      "text/plain": [
       "45"
      ]
     },
     "execution_count": 129,
     "metadata": {},
     "output_type": "execute_result"
    }
   ],
   "source": [
    "df['cuisines'].isnull().sum()"
   ]
  },
  {
   "cell_type": "code",
   "execution_count": 130,
   "id": "3f351033",
   "metadata": {},
   "outputs": [],
   "source": [
    "df2 = df.dropna(subset=['cuisines'])"
   ]
  },
  {
   "cell_type": "code",
   "execution_count": 131,
   "id": "907d8a92",
   "metadata": {},
   "outputs": [
    {
     "data": {
      "text/plain": [
       "45"
      ]
     },
     "execution_count": 131,
     "metadata": {},
     "output_type": "execute_result"
    }
   ],
   "source": [
    "df['cuisines'].isnull().sum()"
   ]
  },
  {
   "cell_type": "code",
   "execution_count": 132,
   "id": "419a23d8",
   "metadata": {},
   "outputs": [],
   "source": [
    "north_indian = df2[df2['cuisines'].str.contains('North Indian')]"
   ]
  },
  {
   "cell_type": "code",
   "execution_count": 133,
   "id": "9a90c8b7",
   "metadata": {},
   "outputs": [],
   "source": [
    "north_indian_Rest_count = north_indian['location'].value_counts().\\\n",
    "                            to_frame().reset_index().rename(columns=\\\n",
    "                            {'index':'name','location':'count'})"
   ]
  },
  {
   "cell_type": "code",
   "execution_count": 134,
   "id": "1a5f2899",
   "metadata": {},
   "outputs": [
    {
     "data": {
      "text/html": [
       "<div>\n",
       "<style scoped>\n",
       "    .dataframe tbody tr th:only-of-type {\n",
       "        vertical-align: middle;\n",
       "    }\n",
       "\n",
       "    .dataframe tbody tr th {\n",
       "        vertical-align: top;\n",
       "    }\n",
       "\n",
       "    .dataframe thead th {\n",
       "        text-align: right;\n",
       "    }\n",
       "</style>\n",
       "<table border=\"1\" class=\"dataframe\">\n",
       "  <thead>\n",
       "    <tr style=\"text-align: right;\">\n",
       "      <th></th>\n",
       "      <th>name</th>\n",
       "      <th>count</th>\n",
       "    </tr>\n",
       "  </thead>\n",
       "  <tbody>\n",
       "    <tr>\n",
       "      <th>0</th>\n",
       "      <td>BTM, Bangalore, Karnataka, India</td>\n",
       "      <td>2469</td>\n",
       "    </tr>\n",
       "    <tr>\n",
       "      <th>1</th>\n",
       "      <td>HSR, Bangalore, Karnataka, India</td>\n",
       "      <td>1123</td>\n",
       "    </tr>\n",
       "    <tr>\n",
       "      <th>2</th>\n",
       "      <td>Whitefield, Bangalore, Karnataka, India</td>\n",
       "      <td>1059</td>\n",
       "    </tr>\n",
       "    <tr>\n",
       "      <th>3</th>\n",
       "      <td>Marathahalli, Bangalore, Karnataka, India</td>\n",
       "      <td>1038</td>\n",
       "    </tr>\n",
       "    <tr>\n",
       "      <th>4</th>\n",
       "      <td>JP Nagar, Bangalore, Karnataka, India</td>\n",
       "      <td>958</td>\n",
       "    </tr>\n",
       "    <tr>\n",
       "      <th>...</th>\n",
       "      <td>...</td>\n",
       "      <td>...</td>\n",
       "    </tr>\n",
       "    <tr>\n",
       "      <th>85</th>\n",
       "      <td>Hebbal, Bangalore, Karnataka, India</td>\n",
       "      <td>4</td>\n",
       "    </tr>\n",
       "    <tr>\n",
       "      <th>86</th>\n",
       "      <td>Jakkur, Bangalore, Karnataka, India</td>\n",
       "      <td>3</td>\n",
       "    </tr>\n",
       "    <tr>\n",
       "      <th>87</th>\n",
       "      <td>Central Bangalore, Bangalore, Karnataka, India</td>\n",
       "      <td>2</td>\n",
       "    </tr>\n",
       "    <tr>\n",
       "      <th>88</th>\n",
       "      <td>West Bangalore, Bangalore, Karnataka, India</td>\n",
       "      <td>1</td>\n",
       "    </tr>\n",
       "    <tr>\n",
       "      <th>89</th>\n",
       "      <td>Peenya, Bangalore, Karnataka, India</td>\n",
       "      <td>1</td>\n",
       "    </tr>\n",
       "  </tbody>\n",
       "</table>\n",
       "<p>90 rows × 2 columns</p>\n",
       "</div>"
      ],
      "text/plain": [
       "                                              name  count\n",
       "0                 BTM, Bangalore, Karnataka, India   2469\n",
       "1                 HSR, Bangalore, Karnataka, India   1123\n",
       "2          Whitefield, Bangalore, Karnataka, India   1059\n",
       "3        Marathahalli, Bangalore, Karnataka, India   1038\n",
       "4            JP Nagar, Bangalore, Karnataka, India    958\n",
       "..                                             ...    ...\n",
       "85             Hebbal, Bangalore, Karnataka, India      4\n",
       "86             Jakkur, Bangalore, Karnataka, India      3\n",
       "87  Central Bangalore, Bangalore, Karnataka, India      2\n",
       "88     West Bangalore, Bangalore, Karnataka, India      1\n",
       "89             Peenya, Bangalore, Karnataka, India      1\n",
       "\n",
       "[90 rows x 2 columns]"
      ]
     },
     "execution_count": 134,
     "metadata": {},
     "output_type": "execute_result"
    }
   ],
   "source": [
    "north_indian_Rest_count"
   ]
  },
  {
   "cell_type": "code",
   "execution_count": null,
   "id": "8fb8b0e9",
   "metadata": {},
   "outputs": [],
   "source": [
    "#### lets create Heatmap of this results so that it becomes more \n",
    "## user-friendly..\n",
    "## now In order to perform Spatial Anlysis(Geographical Analysis) ,\n",
    "## we need latitudes & longitudes of every location..\n",
    "\n",
    "### so lets merge both the dataframes or append one into another\n",
    "## in order to get geographical co-ordinates.."
   ]
  },
  {
   "cell_type": "code",
   "execution_count": 135,
   "id": "82c2e8c0",
   "metadata": {},
   "outputs": [
    {
     "data": {
      "text/html": [
       "<div>\n",
       "<style scoped>\n",
       "    .dataframe tbody tr th:only-of-type {\n",
       "        vertical-align: middle;\n",
       "    }\n",
       "\n",
       "    .dataframe tbody tr th {\n",
       "        vertical-align: top;\n",
       "    }\n",
       "\n",
       "    .dataframe thead th {\n",
       "        text-align: right;\n",
       "    }\n",
       "</style>\n",
       "<table border=\"1\" class=\"dataframe\">\n",
       "  <thead>\n",
       "    <tr style=\"text-align: right;\">\n",
       "      <th></th>\n",
       "      <th>name</th>\n",
       "      <th>count</th>\n",
       "      <th>latitude</th>\n",
       "      <th>longitude</th>\n",
       "    </tr>\n",
       "  </thead>\n",
       "  <tbody>\n",
       "    <tr>\n",
       "      <th>0</th>\n",
       "      <td>BTM, Bangalore, Karnataka, India</td>\n",
       "      <td>2469</td>\n",
       "      <td>12.911276</td>\n",
       "      <td>77.604565</td>\n",
       "    </tr>\n",
       "    <tr>\n",
       "      <th>1</th>\n",
       "      <td>HSR, Bangalore, Karnataka, India</td>\n",
       "      <td>1123</td>\n",
       "      <td>12.911623</td>\n",
       "      <td>77.638862</td>\n",
       "    </tr>\n",
       "    <tr>\n",
       "      <th>2</th>\n",
       "      <td>Whitefield, Bangalore, Karnataka, India</td>\n",
       "      <td>1059</td>\n",
       "      <td>12.969637</td>\n",
       "      <td>77.749745</td>\n",
       "    </tr>\n",
       "    <tr>\n",
       "      <th>3</th>\n",
       "      <td>Marathahalli, Bangalore, Karnataka, India</td>\n",
       "      <td>1038</td>\n",
       "      <td>12.955257</td>\n",
       "      <td>77.698416</td>\n",
       "    </tr>\n",
       "    <tr>\n",
       "      <th>4</th>\n",
       "      <td>JP Nagar, Bangalore, Karnataka, India</td>\n",
       "      <td>958</td>\n",
       "      <td>12.880358</td>\n",
       "      <td>77.579658</td>\n",
       "    </tr>\n",
       "    <tr>\n",
       "      <th>...</th>\n",
       "      <td>...</td>\n",
       "      <td>...</td>\n",
       "      <td>...</td>\n",
       "      <td>...</td>\n",
       "    </tr>\n",
       "    <tr>\n",
       "      <th>85</th>\n",
       "      <td>Hebbal, Bangalore, Karnataka, India</td>\n",
       "      <td>4</td>\n",
       "      <td>13.038218</td>\n",
       "      <td>77.591900</td>\n",
       "    </tr>\n",
       "    <tr>\n",
       "      <th>86</th>\n",
       "      <td>Jakkur, Bangalore, Karnataka, India</td>\n",
       "      <td>3</td>\n",
       "      <td>13.078474</td>\n",
       "      <td>77.606894</td>\n",
       "    </tr>\n",
       "    <tr>\n",
       "      <th>87</th>\n",
       "      <td>Central Bangalore, Bangalore, Karnataka, India</td>\n",
       "      <td>2</td>\n",
       "      <td>13.010129</td>\n",
       "      <td>77.554801</td>\n",
       "    </tr>\n",
       "    <tr>\n",
       "      <th>88</th>\n",
       "      <td>West Bangalore, Bangalore, Karnataka, India</td>\n",
       "      <td>1</td>\n",
       "      <td>13.022235</td>\n",
       "      <td>77.567183</td>\n",
       "    </tr>\n",
       "    <tr>\n",
       "      <th>89</th>\n",
       "      <td>Peenya, Bangalore, Karnataka, India</td>\n",
       "      <td>1</td>\n",
       "      <td>13.032942</td>\n",
       "      <td>77.527325</td>\n",
       "    </tr>\n",
       "  </tbody>\n",
       "</table>\n",
       "<p>90 rows × 4 columns</p>\n",
       "</div>"
      ],
      "text/plain": [
       "                                              name  count   latitude  \\\n",
       "0                 BTM, Bangalore, Karnataka, India   2469  12.911276   \n",
       "1                 HSR, Bangalore, Karnataka, India   1123  12.911623   \n",
       "2          Whitefield, Bangalore, Karnataka, India   1059  12.969637   \n",
       "3        Marathahalli, Bangalore, Karnataka, India   1038  12.955257   \n",
       "4            JP Nagar, Bangalore, Karnataka, India    958  12.880358   \n",
       "..                                             ...    ...        ...   \n",
       "85             Hebbal, Bangalore, Karnataka, India      4  13.038218   \n",
       "86             Jakkur, Bangalore, Karnataka, India      3  13.078474   \n",
       "87  Central Bangalore, Bangalore, Karnataka, India      2  13.010129   \n",
       "88     West Bangalore, Bangalore, Karnataka, India      1  13.022235   \n",
       "89             Peenya, Bangalore, Karnataka, India      1  13.032942   \n",
       "\n",
       "    longitude  \n",
       "0   77.604565  \n",
       "1   77.638862  \n",
       "2   77.749745  \n",
       "3   77.698416  \n",
       "4   77.579658  \n",
       "..        ...  \n",
       "85  77.591900  \n",
       "86  77.606894  \n",
       "87  77.554801  \n",
       "88  77.567183  \n",
       "89  77.527325  \n",
       "\n",
       "[90 rows x 4 columns]"
      ]
     },
     "execution_count": 135,
     "metadata": {},
     "output_type": "execute_result"
    }
   ],
   "source": [
    "heatmap_df = north_indian_Rest_count.merge(locations , \\\n",
    "                                       on='name' , how='left')\n",
    "heatmap_df"
   ]
  },
  {
   "cell_type": "code",
   "execution_count": 136,
   "id": "808eac73",
   "metadata": {},
   "outputs": [
    {
     "data": {
      "text/plain": [
       "name         0\n",
       "count        0\n",
       "latitude     0\n",
       "longitude    0\n",
       "dtype: int64"
      ]
     },
     "execution_count": 136,
     "metadata": {},
     "output_type": "execute_result"
    }
   ],
   "source": [
    "heatmap_df.isna().sum()"
   ]
  },
  {
   "cell_type": "code",
   "execution_count": null,
   "id": "5c3268b1",
   "metadata": {},
   "outputs": [],
   "source": []
  },
  {
   "cell_type": "code",
   "execution_count": null,
   "id": "831334ed",
   "metadata": {},
   "outputs": [],
   "source": []
  },
  {
   "cell_type": "code",
   "execution_count": 137,
   "id": "08c7f366",
   "metadata": {},
   "outputs": [],
   "source": [
    "import folium\n",
    "\n",
    "def generateBaseMap(location=None, zoom_start=None):\n",
    "    base_map = folium.Map(location=location, zoom_start=zoom_start)\n",
    "    return base_map\n"
   ]
  },
  {
   "cell_type": "code",
   "execution_count": null,
   "id": "a1c402a9",
   "metadata": {},
   "outputs": [],
   "source": [
    "'''\n",
    "\n",
    "### geographical co-ordinates of Bengalore-->> 12.9716° N, 77.5946° E ( Just google it )\n",
    "\n",
    "basemap = generateBaseMap(location=[12.97, 77.59],zoom_start=12)\n",
    "basemap\n",
    "\n",
    "\n",
    "'''"
   ]
  },
  {
   "cell_type": "code",
   "execution_count": null,
   "id": "19804acc",
   "metadata": {},
   "outputs": [],
   "source": []
  },
  {
   "cell_type": "code",
   "execution_count": 138,
   "id": "8916e354",
   "metadata": {},
   "outputs": [],
   "source": [
    "from folium.plugins import HeatMap"
   ]
  },
  {
   "cell_type": "code",
   "execution_count": 139,
   "id": "4af76ea2",
   "metadata": {},
   "outputs": [
    {
     "data": {
      "text/plain": [
       "array([[1.29112758e+01, 7.76045654e+01, 2.46900000e+03],\n",
       "       [1.29116225e+01, 7.76388622e+01, 1.12300000e+03],\n",
       "       [1.29696365e+01, 7.77497448e+01, 1.05900000e+03],\n",
       "       [1.29552572e+01, 7.76984163e+01, 1.03800000e+03],\n",
       "       [1.28803576e+01, 7.75796579e+01, 9.58000000e+02],\n",
       "       [1.29348429e+01, 7.76189768e+01, 7.55000000e+02],\n",
       "       [1.29521804e+01, 7.76041899e+01, 7.01000000e+02],\n",
       "       [1.29732913e+01, 7.76404672e+01, 6.78000000e+02],\n",
       "       [1.28487599e+01, 7.76482530e+01, 6.75000000e+02],\n",
       "       [1.29292731e+01, 7.75824229e+01, 6.64000000e+02],\n",
       "       [1.29310319e+01, 7.76782471e+01, 6.59000000e+02],\n",
       "       [1.29277245e+01, 7.76327822e+01, 6.01000000e+02],\n",
       "       [1.29204410e+01, 7.76653284e+01, 5.29000000e+02],\n",
       "       [1.29390255e+01, 7.76238477e+01, 4.08000000e+02],\n",
       "       [1.29364846e+01, 7.76134783e+01, 3.90000000e+02],\n",
       "       [1.29778793e+01, 7.76246697e+01, 3.76000000e+02],\n",
       "       [1.29755264e+01, 7.76067902e+01, 3.59000000e+02],\n",
       "       [1.29327778e+01, 7.76294052e+01, 3.51000000e+02],\n",
       "       [1.29736132e+01, 7.76074716e+01, 3.23000000e+02],\n",
       "       [1.29682513e+01, 7.76124832e+01, 3.12000000e+02],\n",
       "       [1.29152208e+01, 7.75735980e+01, 3.09000000e+02],\n",
       "       [1.29668213e+01, 7.77168891e+01, 2.82000000e+02],\n",
       "       [1.29863910e+01, 7.76075416e+01, 2.72000000e+02],\n",
       "       [1.30170461e+01, 7.75726933e+01, 2.67000000e+02],\n",
       "       [1.30221416e+01, 7.76403368e+01, 2.62000000e+02],\n",
       "       [1.29882338e+01, 7.75548830e+01, 2.30000000e+02],\n",
       "       [1.30141618e+01, 7.76518539e+01, 2.27000000e+02],\n",
       "       [1.29859035e+01, 7.75958864e+01, 2.24000000e+02],\n",
       "       [1.29575547e+01, 7.75979099e+01, 2.23000000e+02],\n",
       "       [1.30027353e+01, 7.75703253e+01, 2.15000000e+02],\n",
       "       [1.30530002e+01, 7.76204833e+01, 2.14000000e+02],\n",
       "       [1.29594408e+01, 7.76542883e+01, 2.14000000e+02],\n",
       "       [1.29452450e+01, 7.76269144e+01, 2.02000000e+02],\n",
       "       [1.29986827e+01, 7.76155250e+01, 2.01000000e+02],\n",
       "       [1.29624669e+01, 7.76381958e+01, 1.99000000e+02],\n",
       "       [1.29417261e+01, 7.75755021e+01, 1.89000000e+02],\n",
       "       [1.30093455e+01, 7.76377094e+01, 1.75000000e+02],\n",
       "       [1.29755105e+01, 7.76026774e+01, 1.73000000e+02],\n",
       "       [1.29489339e+01, 7.75968273e+01, 1.32000000e+02],\n",
       "       [1.29089453e+01, 7.76239038e+01, 1.29000000e+02],\n",
       "       [1.29749487e+01, 7.75997248e+01, 1.28000000e+02],\n",
       "       [1.29887213e+01, 7.75851688e+01, 1.27000000e+02],\n",
       "       [1.29693320e+01, 7.76005090e+01, 1.21000000e+02],\n",
       "       [1.29678074e+01, 7.76568367e+01, 1.17000000e+02],\n",
       "       [1.29408685e+01, 7.76173380e+01, 1.03000000e+02],\n",
       "       [1.29081487e+01, 7.75553179e+01, 9.80000000e+01],\n",
       "       [1.30431413e+01, 7.76209093e+01, 9.60000000e+01],\n",
       "       [1.29282918e+01, 7.76254034e+01, 8.40000000e+01],\n",
       "       [1.29931876e+01, 7.75753419e+01, 8.30000000e+01],\n",
       "       [1.29739360e+01, 7.76509982e+01, 7.80000000e+01],\n",
       "       [1.29822323e+01, 7.76082954e+01, 7.60000000e+01],\n",
       "       [1.29838010e+01, 7.75808654e+01, 7.60000000e+01],\n",
       "       [1.29212213e+01, 7.76201362e+01, 7.30000000e+01],\n",
       "       [1.30238300e+01, 7.75529215e+01, 7.20000000e+01],\n",
       "       [1.29757079e+01, 7.75728757e+01, 6.90000000e+01],\n",
       "       [1.30258087e+01, 7.76305067e+01, 6.80000000e+01],\n",
       "       [1.29933829e+01, 7.75389467e+01, 6.50000000e+01],\n",
       "       [1.29837879e+01, 7.75940558e+01, 6.10000000e+01],\n",
       "       [1.29657180e+01, 7.75762705e+01, 5.80000000e+01],\n",
       "       [1.29243692e+01, 7.76242433e+01, 5.80000000e+01],\n",
       "       [1.30227204e+01, 7.75957150e+01, 5.10000000e+01],\n",
       "       [1.30358698e+01, 7.76323597e+01, 5.10000000e+01],\n",
       "       [1.29862452e+01, 7.77316850e+01, 5.00000000e+01],\n",
       "       [1.29846713e+01, 7.76790908e+01, 4.70000000e+01],\n",
       "       [1.29413238e+01, 7.77471103e+01, 4.70000000e+01],\n",
       "       [1.29659137e+01, 7.76126970e+01, 3.50000000e+01],\n",
       "       [1.29578658e+01, 7.76958748e+01, 3.40000000e+01],\n",
       "       [1.28624679e+01, 7.75608933e+01, 3.10000000e+01],\n",
       "       [1.29856596e+01, 7.76638971e+01, 3.00000000e+01],\n",
       "       [1.29579980e+01, 7.76037312e+01, 2.20000000e+01],\n",
       "       [1.30068000e+01, 7.75813000e+01, 2.00000000e+01],\n",
       "       [1.29340114e+01, 7.76222304e+01, 1.90000000e+01],\n",
       "       [1.30464531e+01, 7.75483803e+01, 1.90000000e+01],\n",
       "       [1.29935935e+01, 7.75850997e+01, 1.70000000e+01],\n",
       "       [1.28799448e+01, 7.75458570e+01, 1.60000000e+01],\n",
       "       [1.30163000e+01, 7.76785000e+01, 1.40000000e+01],\n",
       "       [1.28504319e+01, 7.76601401e+01, 1.40000000e+01],\n",
       "       [1.30621474e+01, 7.75800614e+01, 1.30000000e+01],\n",
       "       [1.29055682e+01, 7.75455438e+01, 1.30000000e+01],\n",
       "       [1.29756080e+01, 7.75553564e+01, 1.20000000e+01],\n",
       "       [1.30075160e+01, 7.76959350e+01, 1.20000000e+01],\n",
       "       [1.29466619e+01, 7.75300896e+01, 1.10000000e+01],\n",
       "       [1.30149966e+01, 7.77006275e+01, 7.00000000e+00],\n",
       "       [1.30222347e+01, 7.75671832e+01, 6.00000000e+00],\n",
       "       [1.29841958e+01, 7.75191930e+01, 5.00000000e+00],\n",
       "       [1.30382184e+01, 7.75919000e+01, 4.00000000e+00],\n",
       "       [1.30784743e+01, 7.76068938e+01, 3.00000000e+00],\n",
       "       [1.30101286e+01, 7.75548006e+01, 2.00000000e+00],\n",
       "       [1.30222347e+01, 7.75671832e+01, 1.00000000e+00],\n",
       "       [1.30329419e+01, 7.75273253e+01, 1.00000000e+00]])"
      ]
     },
     "execution_count": 139,
     "metadata": {},
     "output_type": "execute_result"
    }
   ],
   "source": [
    "heatmap_df[['latitude','longitude','count']].values"
   ]
  },
  {
   "cell_type": "code",
   "execution_count": 141,
   "id": "a234c33c",
   "metadata": {},
   "outputs": [],
   "source": [
    "basemap = generateBaseMap(location = [])"
   ]
  },
  {
   "cell_type": "code",
   "execution_count": 142,
   "id": "9f7fde28",
   "metadata": {},
   "outputs": [
    {
     "data": {
      "text/plain": [
       "<folium.plugins.heat_map.HeatMap at 0x20110a9a190>"
      ]
     },
     "execution_count": 142,
     "metadata": {},
     "output_type": "execute_result"
    }
   ],
   "source": [
    "HeatMap(heatmap_df[['latitude','longitude','count']].\\\n",
    "        values.tolist() ,zoom=20,radius=15).add_to(basemap)"
   ]
  },
  {
   "cell_type": "code",
   "execution_count": 143,
   "id": "2ef49aec",
   "metadata": {},
   "outputs": [
    {
     "data": {
      "text/html": [
       "<div style=\"width:100%;\"><div style=\"position:relative;width:100%;height:0;padding-bottom:60%;\"><span style=\"color:#565656\">Make this Notebook Trusted to load map: File -> Trust Notebook</span><iframe srcdoc=\"&lt;!DOCTYPE html&gt;\n",
       "&lt;html&gt;\n",
       "&lt;head&gt;\n",
       "    \n",
       "    &lt;meta http-equiv=&quot;content-type&quot; content=&quot;text/html; charset=UTF-8&quot; /&gt;\n",
       "    \n",
       "        &lt;script&gt;\n",
       "            L_NO_TOUCH = false;\n",
       "            L_DISABLE_3D = false;\n",
       "        &lt;/script&gt;\n",
       "    \n",
       "    &lt;style&gt;html, body {width: 100%;height: 100%;margin: 0;padding: 0;}&lt;/style&gt;\n",
       "    &lt;style&gt;#map {position:absolute;top:0;bottom:0;right:0;left:0;}&lt;/style&gt;\n",
       "    &lt;script src=&quot;https://cdn.jsdelivr.net/npm/leaflet@1.9.3/dist/leaflet.js&quot;&gt;&lt;/script&gt;\n",
       "    &lt;script src=&quot;https://code.jquery.com/jquery-1.12.4.min.js&quot;&gt;&lt;/script&gt;\n",
       "    &lt;script src=&quot;https://cdn.jsdelivr.net/npm/bootstrap@5.2.2/dist/js/bootstrap.bundle.min.js&quot;&gt;&lt;/script&gt;\n",
       "    &lt;script src=&quot;https://cdnjs.cloudflare.com/ajax/libs/Leaflet.awesome-markers/2.0.2/leaflet.awesome-markers.js&quot;&gt;&lt;/script&gt;\n",
       "    &lt;link rel=&quot;stylesheet&quot; href=&quot;https://cdn.jsdelivr.net/npm/leaflet@1.9.3/dist/leaflet.css&quot;/&gt;\n",
       "    &lt;link rel=&quot;stylesheet&quot; href=&quot;https://cdn.jsdelivr.net/npm/bootstrap@5.2.2/dist/css/bootstrap.min.css&quot;/&gt;\n",
       "    &lt;link rel=&quot;stylesheet&quot; href=&quot;https://netdna.bootstrapcdn.com/bootstrap/3.0.0/css/bootstrap.min.css&quot;/&gt;\n",
       "    &lt;link rel=&quot;stylesheet&quot; href=&quot;https://cdn.jsdelivr.net/npm/@fortawesome/fontawesome-free@6.2.0/css/all.min.css&quot;/&gt;\n",
       "    &lt;link rel=&quot;stylesheet&quot; href=&quot;https://cdnjs.cloudflare.com/ajax/libs/Leaflet.awesome-markers/2.0.2/leaflet.awesome-markers.css&quot;/&gt;\n",
       "    &lt;link rel=&quot;stylesheet&quot; href=&quot;https://cdn.jsdelivr.net/gh/python-visualization/folium/folium/templates/leaflet.awesome.rotate.min.css&quot;/&gt;\n",
       "    \n",
       "            &lt;meta name=&quot;viewport&quot; content=&quot;width=device-width,\n",
       "                initial-scale=1.0, maximum-scale=1.0, user-scalable=no&quot; /&gt;\n",
       "            &lt;style&gt;\n",
       "                #map_94d9844dc789a7c4b1bc99796a5e71eb {\n",
       "                    position: relative;\n",
       "                    width: 100.0%;\n",
       "                    height: 100.0%;\n",
       "                    left: 0.0%;\n",
       "                    top: 0.0%;\n",
       "                }\n",
       "                .leaflet-container { font-size: 1rem; }\n",
       "            &lt;/style&gt;\n",
       "        \n",
       "    &lt;script src=&quot;https://cdn.jsdelivr.net/gh/python-visualization/folium@main/folium/templates/leaflet_heat.min.js&quot;&gt;&lt;/script&gt;\n",
       "&lt;/head&gt;\n",
       "&lt;body&gt;\n",
       "    \n",
       "    \n",
       "            &lt;div class=&quot;folium-map&quot; id=&quot;map_94d9844dc789a7c4b1bc99796a5e71eb&quot; &gt;&lt;/div&gt;\n",
       "        \n",
       "&lt;/body&gt;\n",
       "&lt;script&gt;\n",
       "    \n",
       "    \n",
       "            var map_94d9844dc789a7c4b1bc99796a5e71eb = L.map(\n",
       "                &quot;map_94d9844dc789a7c4b1bc99796a5e71eb&quot;,\n",
       "                {\n",
       "                    center: [0, 0],\n",
       "                    crs: L.CRS.EPSG3857,\n",
       "                    zoom: 1,\n",
       "                    zoomControl: true,\n",
       "                    preferCanvas: false,\n",
       "                }\n",
       "            );\n",
       "\n",
       "            \n",
       "\n",
       "        \n",
       "    \n",
       "            var tile_layer_9c0af9bc4178cc7cd1e6f2797e5f44a1 = L.tileLayer(\n",
       "                &quot;https://{s}.tile.openstreetmap.org/{z}/{x}/{y}.png&quot;,\n",
       "                {&quot;attribution&quot;: &quot;Data by \\u0026copy; \\u003ca target=\\&quot;_blank\\&quot; href=\\&quot;http://openstreetmap.org\\&quot;\\u003eOpenStreetMap\\u003c/a\\u003e, under \\u003ca target=\\&quot;_blank\\&quot; href=\\&quot;http://www.openstreetmap.org/copyright\\&quot;\\u003eODbL\\u003c/a\\u003e.&quot;, &quot;detectRetina&quot;: false, &quot;maxNativeZoom&quot;: 18, &quot;maxZoom&quot;: 18, &quot;minZoom&quot;: 0, &quot;noWrap&quot;: false, &quot;opacity&quot;: 1, &quot;subdomains&quot;: &quot;abc&quot;, &quot;tms&quot;: false}\n",
       "            ).addTo(map_94d9844dc789a7c4b1bc99796a5e71eb);\n",
       "        \n",
       "    \n",
       "            var heat_map_eafcb4e674c27b0984f51f4178f7ed31 = L.heatLayer(\n",
       "                [[12.911275849999999, 77.60456543431182, 2469.0], [12.9116225, 77.6388622, 1123.0], [12.9696365, 77.7497448, 1059.0], [12.9552572, 77.6984163, 1038.0], [12.8803576, 77.5796579, 958.0], [12.9348429, 77.6189768, 755.0], [12.9521804, 77.6041899, 701.0], [12.9732913, 77.6404672, 678.0], [12.848759900000001, 77.64825295827616, 675.0], [12.9292731, 77.5824229, 664.0], [12.93103185, 77.6782471, 659.0], [12.9277245, 77.6327822, 601.0], [12.920441, 77.6653284, 529.0], [12.9390255, 77.6238477, 408.0], [12.9364846, 77.6134783, 390.0], [12.9778793, 77.6246697, 376.0], [12.9755264, 77.6067902, 359.0], [12.9327778, 77.6294052, 351.0], [12.9736132, 77.6074716, 323.0], [12.9682513, 77.6124832, 312.0], [12.9152208, 77.573598, 309.0], [12.9668213, 77.7168891, 282.0], [12.986391, 77.6075416, 272.0], [13.0170461, 77.5726933, 267.0], [13.0221416, 77.6403368, 262.0], [12.9882338, 77.554883, 230.0], [13.0141618, 77.6518539, 227.0], [12.9859035, 77.5958864, 224.0], [12.9575547, 77.5979099, 223.0], [13.0027353, 77.5703253, 215.0], [13.0530002, 77.6204833, 214.0], [12.9594408, 77.6542883, 214.0], [12.945245, 77.6269144, 202.0], [12.9986827, 77.615525, 201.0], [12.9624669, 77.6381958, 199.0], [12.9417261, 77.5755021, 189.0], [13.0093455, 77.6377094, 175.0], [12.9755105, 77.6026774, 173.0], [12.9489339, 77.5968273, 132.0], [12.9089453, 77.6239038, 129.0], [12.9749487, 77.5997248, 128.0], [12.988721250000001, 77.58516877601824, 127.0], [12.969332, 77.600509, 121.0], [12.9678074, 77.6568367, 117.0], [12.9408685, 77.617338, 103.0], [12.9081487, 77.5553179, 98.0], [13.0431413, 77.6209093, 96.0], [12.9282918, 77.6254034, 84.0], [12.9931876, 77.5753419, 83.0], [12.973936, 77.6509982, 78.0], [12.9822323, 77.6082954, 76.0], [12.983801, 77.5808654, 76.0], [12.9212213, 77.6201362, 73.0], [13.02383, 77.5529215, 72.0], [12.9757079, 77.5728757, 69.0], [13.0258087, 77.6305067, 68.0], [12.9933829, 77.5389467, 65.0], [12.9837879, 77.5940558, 61.0], [12.965717999999999, 77.5762705372058, 58.0], [12.9243692, 77.6242433, 58.0], [13.0227204, 77.595715, 51.0], [13.0358698, 77.6323597, 51.0], [12.9862452, 77.731685, 50.0], [12.9846713, 77.6790908, 47.0], [12.9413238, 77.7471103, 47.0], [12.965913650000001, 77.61269701826657, 35.0], [12.9578658, 77.6958748, 34.0], [12.862467899999999, 77.56089325971044, 31.0], [12.9856596, 77.6638971, 30.0], [12.957998, 77.6037312, 22.0], [13.0068, 77.5813, 20.0], [12.9340114, 77.6222304, 19.0], [13.0464531, 77.5483803, 19.0], [12.99359355, 77.58509974889078, 17.0], [12.8799448, 77.545857, 16.0], [13.0163, 77.6785, 14.0], [12.8504319, 77.6601401, 14.0], [13.0621474, 77.58006135480495, 13.0], [12.9055682, 77.5455438, 13.0], [12.975608, 77.5553564, 12.0], [13.007516, 77.695935, 12.0], [12.9466619, 77.5300896, 11.0], [13.0149966, 77.7006275, 7.0], [13.022234699999998, 77.56718324768107, 6.0], [12.9841958, 77.51919296908994, 5.0], [13.0382184, 77.5919, 4.0], [13.0784743, 77.6068938, 3.0], [13.0101286, 77.5548006, 2.0], [13.022234699999998, 77.56718324768107, 1.0], [13.0329419, 77.5273253, 1.0]],\n",
       "                {&quot;blur&quot;: 15, &quot;maxZoom&quot;: 18, &quot;minOpacity&quot;: 0.5, &quot;radius&quot;: 15, &quot;zoom&quot;: 20}\n",
       "            ).addTo(map_94d9844dc789a7c4b1bc99796a5e71eb);\n",
       "        \n",
       "&lt;/script&gt;\n",
       "&lt;/html&gt;\" style=\"position:absolute;width:100%;height:100%;left:0;top:0;border:none !important;\" allowfullscreen webkitallowfullscreen mozallowfullscreen></iframe></div></div>"
      ],
      "text/plain": [
       "<folium.folium.Map at 0x2011079ab20>"
      ]
     },
     "execution_count": 143,
     "metadata": {},
     "output_type": "execute_result"
    }
   ],
   "source": [
    "basemap"
   ]
  },
  {
   "cell_type": "code",
   "execution_count": null,
   "id": "66c747dc",
   "metadata": {},
   "outputs": [],
   "source": [
    "## basemap"
   ]
  },
  {
   "cell_type": "code",
   "execution_count": null,
   "id": "b55ad9e3",
   "metadata": {},
   "outputs": [],
   "source": []
  },
  {
   "cell_type": "code",
   "execution_count": null,
   "id": "81a92276",
   "metadata": {},
   "outputs": [],
   "source": [
    "### Conclusions : \n",
    "## in the city centre area ,majority of the Restaurants are avaiable :"
   ]
  },
  {
   "cell_type": "code",
   "execution_count": null,
   "id": "2af73aa8",
   "metadata": {},
   "outputs": [],
   "source": [
    "### Note : Its always good to write conclusions bcz as a Data Analyst \n",
    "## or a Data Scientist u have to work in a team \n",
    "\n",
    "### & probably some of your Team members are completely unaware \n",
    "## about Technical things.."
   ]
  },
  {
   "cell_type": "markdown",
   "id": "6c0c0f5b",
   "metadata": {},
   "source": [
    "### conclusions(Inferences)\n",
    "    1..It is clear that restaurants tend to concentrate in central bangalore area.\n",
    "    2..The clutter of restaurants lowers are we move away from central.\n",
    "    3..So,potential restaurant entrepreneurs can refer this and \n",
    "        find out good locations for their venture.\n",
    "        \n",
    "    4..note heatmap is good when we have latitude,longitude or \n",
    "        importance of that particular place or count of that place¶"
   ]
  },
  {
   "cell_type": "code",
   "execution_count": null,
   "id": "34176d88",
   "metadata": {},
   "outputs": [],
   "source": []
  },
  {
   "cell_type": "markdown",
   "id": "c387ecce",
   "metadata": {},
   "source": [
    "### Similar Problem Statements :\n",
    "    In which area of Bengalore most of the South Indian Restaurants available ?\n",
    "    In which area of Bengalore most of the Chinese Restaurants avaialble ?\n",
    "    In which area of Bengalore most of the Mughlai Restaurants avaialble ?"
   ]
  },
  {
   "cell_type": "code",
   "execution_count": null,
   "id": "3c882efa",
   "metadata": {},
   "outputs": [],
   "source": []
  },
  {
   "cell_type": "code",
   "execution_count": null,
   "id": "daa6bf08",
   "metadata": {},
   "outputs": [],
   "source": []
  },
  {
   "cell_type": "code",
   "execution_count": null,
   "id": "50efc39b",
   "metadata": {},
   "outputs": [],
   "source": []
  },
  {
   "cell_type": "markdown",
   "id": "0c4dd153",
   "metadata": {},
   "source": [
    "## 9.. How to automate your task : ie Perform Automation .."
   ]
  },
  {
   "cell_type": "code",
   "execution_count": null,
   "id": "72c791f3",
   "metadata": {},
   "outputs": [],
   "source": [
    "### For above problems - Lets Automate our Analysis :\n",
    "## (bcz writing same 100 LOC again makes no sense .. )\n",
    "\n",
    "### So whenever automation comes into picture  , lets design a function :    "
   ]
  },
  {
   "cell_type": "code",
   "execution_count": null,
   "id": "cbca6824",
   "metadata": {},
   "outputs": [],
   "source": []
  },
  {
   "cell_type": "markdown",
   "id": "5914d0c5",
   "metadata": {},
   "source": [
    "#### lets automate all these for north indian  , south Indian & chinese..."
   ]
  },
  {
   "cell_type": "code",
   "execution_count": 144,
   "id": "48261a9a",
   "metadata": {},
   "outputs": [],
   "source": [
    "def get_heatmap(cuisine):\n",
    "    \n",
    "    cuisine_df = df2[df2['cuisines'].str.contains(cuisine)]\n",
    "    \n",
    "    cuisine_Rest_count = cuisine_df['location'].value_counts().\\\n",
    "                        to_frame().reset_index().rename(columns=\\\n",
    "                        {'index':'name','location':'count'})\n",
    "    \n",
    "    heatmap_df = cuisine_Rest_count.merge(locations, on='name',\\\n",
    "                                          how='left')\n",
    "    \n",
    "    print(heatmap_df.head(4))\n",
    "    \n",
    "    basemap = generateBaseMap(location=[12.97, 77.59],zoom_start=12)\n",
    "    \n",
    "    HeatMap(heatmap_df[['latitude','longitude','count']].values.\\\n",
    "                    tolist(),zoom=20,radius=15).add_to(basemap)\n",
    "    return basemap"
   ]
  },
  {
   "cell_type": "code",
   "execution_count": null,
   "id": "642551fa",
   "metadata": {},
   "outputs": [],
   "source": [
    "get_heatmap('South Indian')"
   ]
  },
  {
   "cell_type": "code",
   "execution_count": null,
   "id": "1cee2b77",
   "metadata": {},
   "outputs": [],
   "source": []
  },
  {
   "cell_type": "code",
   "execution_count": null,
   "id": "38e71f72",
   "metadata": {},
   "outputs": [],
   "source": []
  },
  {
   "cell_type": "code",
   "execution_count": null,
   "id": "4e3bf098",
   "metadata": {},
   "outputs": [],
   "source": []
  },
  {
   "cell_type": "code",
   "execution_count": null,
   "id": "02b2a3ab",
   "metadata": {},
   "outputs": [],
   "source": []
  },
  {
   "cell_type": "markdown",
   "id": "a8f2c076",
   "metadata": {},
   "source": [
    "## 10.. Which are top 10 menu_item ..?"
   ]
  },
  {
   "cell_type": "code",
   "execution_count": null,
   "id": "f5fa74c0",
   "metadata": {},
   "outputs": [],
   "source": [
    "df['menu_item'].sample(7)\n",
    "\n",
    "### good to use some own code as we have couple of menus for \n",
    "## each of the row.. ie value_counts() will not be handy !\n",
    "\n",
    "\n",
    "## gives little wrong results -->> df['menu_item'].value_counts()\n",
    "## [0:10].plot(kind='bar')"
   ]
  },
  {
   "cell_type": "code",
   "execution_count": null,
   "id": "323a49db",
   "metadata": {},
   "outputs": [],
   "source": []
  },
  {
   "cell_type": "code",
   "execution_count": 145,
   "id": "776533b1",
   "metadata": {},
   "outputs": [
    {
     "data": {
      "text/plain": [
       "0"
      ]
     },
     "execution_count": 145,
     "metadata": {},
     "output_type": "execute_result"
    }
   ],
   "source": [
    "df['menu_item'].isnull().sum()\n",
    "\n",
    "## if u have missing values , u have to deal with that .."
   ]
  },
  {
   "cell_type": "code",
   "execution_count": 149,
   "id": "9c57ba44",
   "metadata": {},
   "outputs": [],
   "source": [
    "def clear_text(data):\n",
    "    \n",
    "    menu_item_list = []\n",
    "    \n",
    "    for row in data['menu_item']:\n",
    "        for item in row.split(','):\n",
    "            if item!='[]':\n",
    "                menu_item_list.append(item.strip())\n",
    "    return pd.Series(menu_item_list)"
   ]
  },
  {
   "cell_type": "code",
   "execution_count": 150,
   "id": "11df430b",
   "metadata": {},
   "outputs": [
    {
     "data": {
      "text/plain": [
       "0           ['Chocolate Fantasy (Pack Of 5)'\n",
       "1                     'Pan Cake (Pack Of 6)'\n",
       "2                 'Gulab Jamun (Pack Of 10)'\n",
       "3                 'Gulkand Shot (Pack Of 5)'\n",
       "4          'Chocolate Decadence (Pack of 2)'\n",
       "                         ...                \n",
       "1311320             'Fresh Sweet Lime Water'\n",
       "1311321            'Fresh Salted Lime Water'\n",
       "1311322                     'Lemon Iced Tea'\n",
       "1311323                     'Berry Iced Tea'\n",
       "1311324                    'Kokum and Lime']\n",
       "Length: 1311325, dtype: object"
      ]
     },
     "execution_count": 150,
     "metadata": {},
     "output_type": "execute_result"
    }
   ],
   "source": [
    "clear_text(df)"
   ]
  },
  {
   "cell_type": "code",
   "execution_count": 151,
   "id": "754d8cbb",
   "metadata": {},
   "outputs": [
    {
     "data": {
      "text/plain": [
       "<AxesSubplot:>"
      ]
     },
     "execution_count": 151,
     "metadata": {},
     "output_type": "execute_result"
    },
    {
     "data": {
      "image/png": "[encoded data removed]",
      "text/plain": [
       "<Figure size 640x480 with 1 Axes>"
      ]
     },
     "metadata": {},
     "output_type": "display_data"
    }
   ],
   "source": [
    "clear_text(df).value_counts()[0:10].plot(kind='bar')"
   ]
  },
  {
   "cell_type": "markdown",
   "id": "93723865",
   "metadata": {},
   "source": [
    "    --->> As we can notice from the above chart that North indian \n",
    "            at the top of cuisines provided in Bangalore\n",
    "            \n",
    "    --->> Still we find some bars for Fast Food, Biryani which is not \n",
    "            related to specific culture/ or cuisines\n",
    "            \n",
    "    --->> Let's extract those related to country culture wise"
   ]
  },
  {
   "cell_type": "code",
   "execution_count": null,
   "id": "f7ba0d00",
   "metadata": {},
   "outputs": [],
   "source": []
  },
  {
   "cell_type": "code",
   "execution_count": null,
   "id": "6729b110",
   "metadata": {},
   "outputs": [],
   "source": []
  },
  {
   "cell_type": "code",
   "execution_count": null,
   "id": "1306f92b",
   "metadata": {},
   "outputs": [],
   "source": []
  },
  {
   "cell_type": "code",
   "execution_count": null,
   "id": "b6e8fd63",
   "metadata": {},
   "outputs": [],
   "source": []
  },
  {
   "cell_type": "code",
   "execution_count": null,
   "id": "325219b0",
   "metadata": {},
   "outputs": [],
   "source": []
  },
  {
   "cell_type": "code",
   "execution_count": null,
   "id": "0973fa31",
   "metadata": {},
   "outputs": [],
   "source": []
  },
  {
   "cell_type": "code",
   "execution_count": null,
   "id": "885dafe8",
   "metadata": {},
   "outputs": [],
   "source": []
  }
 ],
 "metadata": {
  "kernelspec": {
   "display_name": "Python 3 (ipykernel)",
   "language": "python",
   "name": "python3"
  },
  "language_info": {
   "codemirror_mode": {
    "name": "ipython",
    "version": 3
   },
   "file_extension": ".py",
   "mimetype": "text/x-python",
   "name": "python",
   "nbconvert_exporter": "python",
   "pygments_lexer": "ipython3",
   "version": "3.9.13"
  }
 },
 "nbformat": 4,
 "nbformat_minor": 5
}
