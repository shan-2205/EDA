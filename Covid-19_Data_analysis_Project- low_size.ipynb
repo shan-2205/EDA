{
 "cells": [
  {
   "cell_type": "markdown",
   "metadata": {},
   "source": [
    "### https://www.kaggle.com/madhumuppavarapu/covid-19-visualization"
   ]
  },
  {
   "cell_type": "markdown",
   "metadata": {},
   "source": [
    "#### https://www.kaggle.com/mathurinache/predicting-covid19-with-facebook-prophet--for Time Series use-case"
   ]
  },
  {
   "cell_type": "code",
   "execution_count": 1,
   "metadata": {},
   "outputs": [],
   "source": [
    "import numpy as np\n",
    "import pandas as pd\n",
    "import matplotlib.pyplot as plt\n",
    "import seaborn as sns\n",
    "\n",
    "# for better interactive visualization\n",
    "import plotly.graph_objects as go\n",
    "import plotly.express as px\n",
    "\n",
    "import warnings\n",
    "warnings.filterwarnings('ignore')"
   ]
  },
  {
   "cell_type": "code",
   "execution_count": 19,
   "metadata": {},
   "outputs": [],
   "source": [
    "import os"
   ]
  },
  {
   "cell_type": "code",
   "execution_count": 21,
   "metadata": {},
   "outputs": [
    {
     "data": {
      "text/plain": [
       "['country_wise_latest.csv',\n",
       " 'covid_19_clean_complete.csv',\n",
       " 'day_wise.csv',\n",
       " 'full_grouped.csv',\n",
       " 'usa_country_wise.csv',\n",
       " 'worldometer_data.csv']"
      ]
     },
     "execution_count": 21,
     "metadata": {},
     "output_type": "execute_result"
    }
   ],
   "source": [
    "files=os.listdir('E:\\Data_Analysis_projects\\Covid-19')\n",
    "files"
   ]
  },
  {
   "cell_type": "code",
   "execution_count": 8,
   "metadata": {},
   "outputs": [],
   "source": [
    "### lets create a function to make our task simpler as we have to read data aggain & again \n",
    "def read_data(path,filename):\n",
    "    return pd.read_csv(path+'/'+filename)\n",
    "    "
   ]
  },
  {
   "cell_type": "code",
   "execution_count": 22,
   "metadata": {},
   "outputs": [],
   "source": [
    "path='E:\\Data_Analysis_projects\\Covid-19'\n",
    "world_data=read_data(path,'worldometer_data.csv')"
   ]
  },
  {
   "cell_type": "code",
   "execution_count": null,
   "metadata": {},
   "outputs": [],
   "source": []
  },
  {
   "cell_type": "code",
   "execution_count": 24,
   "metadata": {},
   "outputs": [],
   "source": [
    "day_wise=read_data(path,files[2])"
   ]
  },
  {
   "cell_type": "code",
   "execution_count": 25,
   "metadata": {},
   "outputs": [],
   "source": [
    "group_data=read_data(path,files[3])"
   ]
  },
  {
   "cell_type": "code",
   "execution_count": 26,
   "metadata": {},
   "outputs": [],
   "source": [
    "usa_data=read_data(path,files[4])"
   ]
  },
  {
   "cell_type": "code",
   "execution_count": 27,
   "metadata": {},
   "outputs": [],
   "source": [
    "province_data=read_data(path,files[1])"
   ]
  },
  {
   "cell_type": "code",
   "execution_count": null,
   "metadata": {},
   "outputs": [],
   "source": []
  },
  {
   "cell_type": "markdown",
   "metadata": {},
   "source": [
    "#### Which Country has maximum Total cases, Deaths, Recovered & active cases \n",
    "#### lets create TreeMap Representation of our data"
   ]
  },
  {
   "cell_type": "code",
   "execution_count": 8,
   "metadata": {},
   "outputs": [
    {
     "data": {
      "text/plain": [
       "Index(['Country/Region', 'Continent', 'Population', 'TotalCases', 'NewCases',\n",
       "       'TotalDeaths', 'NewDeaths', 'TotalRecovered', 'NewRecovered',\n",
       "       'ActiveCases', 'Serious,Critical', 'Tot Cases/1M pop', 'Deaths/1M pop',\n",
       "       'TotalTests', 'Tests/1M pop', 'WHO Region'],\n",
       "      dtype='object')"
      ]
     },
     "execution_count": 8,
     "metadata": {},
     "output_type": "execute_result"
    }
   ],
   "source": [
    "world_data.columns"
   ]
  },
  {
   "cell_type": "code",
   "execution_count": null,
   "metadata": {},
   "outputs": [],
   "source": [
    "columns=['TotalCases','TotalDeaths','TotalRecovered','ActiveCases']\n",
    "for i in columns:\n",
    "    fig=px.treemap(world_data[0:20],values=i,path=['Country/Region'],template=\"plotly_dark\",title=\"<b>TreeMap representation of different Countries w.r.t. their {}</b>\".format(i))\n",
    "    fig.show()"
   ]
  },
  {
   "cell_type": "code",
   "execution_count": null,
   "metadata": {},
   "outputs": [],
   "source": []
  },
  {
   "cell_type": "markdown",
   "metadata": {},
   "source": [
    "### what is the trend of Confirmed Deaths Recovered Active cases"
   ]
  },
  {
   "cell_type": "markdown",
   "metadata": {},
   "source": [
    "### Line Plot"
   ]
  },
  {
   "cell_type": "code",
   "execution_count": null,
   "metadata": {},
   "outputs": [],
   "source": [
    "fig=px.line(daywise,x=\"Date\",y=[\"Confirmed\",\"Deaths\",\"Recovered\",\"Active\"],title=\"covid cases w.r.t. date\",template=\"plotly_dark\")\n",
    "fig.show()"
   ]
  },
  {
   "cell_type": "code",
   "execution_count": null,
   "metadata": {},
   "outputs": [],
   "source": []
  },
  {
   "cell_type": "markdown",
   "metadata": {},
   "source": [
    "### find 20 most effected countries"
   ]
  },
  {
   "cell_type": "markdown",
   "metadata": {},
   "source": [
    "### BarPlot Representation of Population to Tests Done Ratio"
   ]
  },
  {
   "cell_type": "code",
   "execution_count": 31,
   "metadata": {},
   "outputs": [],
   "source": [
    "pop_test_ratio=world_data.iloc[0:20]['Population']/world_data.iloc[0:20]['TotalTests']"
   ]
  },
  {
   "cell_type": "code",
   "execution_count": 32,
   "metadata": {},
   "outputs": [
    {
     "data": {
      "text/plain": [
       "0       5.245489\n",
       "1      16.106896\n",
       "2      62.365033\n",
       "3       4.911040\n",
       "4      18.852446\n",
       "5     122.115932\n",
       "6      13.241331\n",
       "7      10.866949\n",
       "8      28.269105\n",
       "9       6.618696\n",
       "10     32.187237\n",
       "11      3.877883\n",
       "12      9.589865\n",
       "13    107.484026\n",
       "14    134.558952\n",
       "15      8.514790\n",
       "16     16.613857\n",
       "17     56.934398\n",
       "18      9.760649\n",
       "19     16.353942\n",
       "dtype: float64"
      ]
     },
     "execution_count": 32,
     "metadata": {},
     "output_type": "execute_result"
    }
   ],
   "source": [
    "pop_test_ratio"
   ]
  },
  {
   "cell_type": "code",
   "execution_count": null,
   "metadata": {},
   "outputs": [],
   "source": [
    "fig=px.bar(world_data.iloc[0:20],color='Country/Region',y=pop_test_ratio,x='Country/Region',template=\"plotly_dark\",title=\"<b>population to tests done ratio</b>\")\n",
    "fig.show()"
   ]
  },
  {
   "cell_type": "code",
   "execution_count": null,
   "metadata": {},
   "outputs": [],
   "source": []
  },
  {
   "cell_type": "markdown",
   "metadata": {},
   "source": [
    "### 20 countries that are badly affected by corona "
   ]
  },
  {
   "cell_type": "markdown",
   "metadata": {},
   "source": [
    "#### BarPlot Representation of CoronaViruses Cases w.r.t Time"
   ]
  },
  {
   "cell_type": "code",
   "execution_count": 13,
   "metadata": {},
   "outputs": [],
   "source": [
    "fig=px.bar(world_data.iloc[0:20],x='Country/Region',y=['Serious,Critical','TotalDeaths','TotalRecovered','ActiveCases','TotalCases'],template=\"plotly_dark\")\n"
   ]
  },
  {
   "cell_type": "code",
   "execution_count": null,
   "metadata": {},
   "outputs": [],
   "source": [
    "fig.update_layout({'title':\"Coronavirus cases w.r.t. time\"})\n",
    "fig.show()"
   ]
  },
  {
   "cell_type": "code",
   "execution_count": null,
   "metadata": {},
   "outputs": [],
   "source": []
  },
  {
   "cell_type": "code",
   "execution_count": null,
   "metadata": {},
   "outputs": [],
   "source": []
  },
  {
   "cell_type": "markdown",
   "metadata": {},
   "source": [
    "#### Top 20 countries of Total Confirmed Cases, Total Recovered Cases, Total Deaths,Total Active Cases"
   ]
  },
  {
   "cell_type": "code",
   "execution_count": 15,
   "metadata": {},
   "outputs": [
    {
     "data": {
      "text/html": [
       "<div>\n",
       "<style scoped>\n",
       "    .dataframe tbody tr th:only-of-type {\n",
       "        vertical-align: middle;\n",
       "    }\n",
       "\n",
       "    .dataframe tbody tr th {\n",
       "        vertical-align: top;\n",
       "    }\n",
       "\n",
       "    .dataframe thead th {\n",
       "        text-align: right;\n",
       "    }\n",
       "</style>\n",
       "<table border=\"1\" class=\"dataframe\">\n",
       "  <thead>\n",
       "    <tr style=\"text-align: right;\">\n",
       "      <th></th>\n",
       "      <th>Country/Region</th>\n",
       "      <th>Continent</th>\n",
       "      <th>Population</th>\n",
       "      <th>TotalCases</th>\n",
       "      <th>NewCases</th>\n",
       "      <th>TotalDeaths</th>\n",
       "      <th>NewDeaths</th>\n",
       "      <th>TotalRecovered</th>\n",
       "      <th>NewRecovered</th>\n",
       "      <th>ActiveCases</th>\n",
       "      <th>Serious,Critical</th>\n",
       "      <th>Tot Cases/1M pop</th>\n",
       "      <th>Deaths/1M pop</th>\n",
       "      <th>TotalTests</th>\n",
       "      <th>Tests/1M pop</th>\n",
       "      <th>WHO Region</th>\n",
       "    </tr>\n",
       "  </thead>\n",
       "  <tbody>\n",
       "    <tr>\n",
       "      <th>0</th>\n",
       "      <td>USA</td>\n",
       "      <td>North America</td>\n",
       "      <td>3.311981e+08</td>\n",
       "      <td>5032179</td>\n",
       "      <td>NaN</td>\n",
       "      <td>162804.0</td>\n",
       "      <td>NaN</td>\n",
       "      <td>2576668.0</td>\n",
       "      <td>NaN</td>\n",
       "      <td>2292707.0</td>\n",
       "      <td>18296.0</td>\n",
       "      <td>15194.0</td>\n",
       "      <td>492.0</td>\n",
       "      <td>63139605.0</td>\n",
       "      <td>190640.0</td>\n",
       "      <td>Americas</td>\n",
       "    </tr>\n",
       "    <tr>\n",
       "      <th>1</th>\n",
       "      <td>Brazil</td>\n",
       "      <td>South America</td>\n",
       "      <td>2.127107e+08</td>\n",
       "      <td>2917562</td>\n",
       "      <td>NaN</td>\n",
       "      <td>98644.0</td>\n",
       "      <td>NaN</td>\n",
       "      <td>2047660.0</td>\n",
       "      <td>NaN</td>\n",
       "      <td>771258.0</td>\n",
       "      <td>8318.0</td>\n",
       "      <td>13716.0</td>\n",
       "      <td>464.0</td>\n",
       "      <td>13206188.0</td>\n",
       "      <td>62085.0</td>\n",
       "      <td>Americas</td>\n",
       "    </tr>\n",
       "    <tr>\n",
       "      <th>2</th>\n",
       "      <td>India</td>\n",
       "      <td>Asia</td>\n",
       "      <td>1.381345e+09</td>\n",
       "      <td>2025409</td>\n",
       "      <td>NaN</td>\n",
       "      <td>41638.0</td>\n",
       "      <td>NaN</td>\n",
       "      <td>1377384.0</td>\n",
       "      <td>NaN</td>\n",
       "      <td>606387.0</td>\n",
       "      <td>8944.0</td>\n",
       "      <td>1466.0</td>\n",
       "      <td>30.0</td>\n",
       "      <td>22149351.0</td>\n",
       "      <td>16035.0</td>\n",
       "      <td>South-EastAsia</td>\n",
       "    </tr>\n",
       "    <tr>\n",
       "      <th>3</th>\n",
       "      <td>Russia</td>\n",
       "      <td>Europe</td>\n",
       "      <td>1.459409e+08</td>\n",
       "      <td>871894</td>\n",
       "      <td>NaN</td>\n",
       "      <td>14606.0</td>\n",
       "      <td>NaN</td>\n",
       "      <td>676357.0</td>\n",
       "      <td>NaN</td>\n",
       "      <td>180931.0</td>\n",
       "      <td>2300.0</td>\n",
       "      <td>5974.0</td>\n",
       "      <td>100.0</td>\n",
       "      <td>29716907.0</td>\n",
       "      <td>203623.0</td>\n",
       "      <td>Europe</td>\n",
       "    </tr>\n",
       "    <tr>\n",
       "      <th>4</th>\n",
       "      <td>South Africa</td>\n",
       "      <td>Africa</td>\n",
       "      <td>5.938157e+07</td>\n",
       "      <td>538184</td>\n",
       "      <td>NaN</td>\n",
       "      <td>9604.0</td>\n",
       "      <td>NaN</td>\n",
       "      <td>387316.0</td>\n",
       "      <td>NaN</td>\n",
       "      <td>141264.0</td>\n",
       "      <td>539.0</td>\n",
       "      <td>9063.0</td>\n",
       "      <td>162.0</td>\n",
       "      <td>3149807.0</td>\n",
       "      <td>53044.0</td>\n",
       "      <td>Africa</td>\n",
       "    </tr>\n",
       "  </tbody>\n",
       "</table>\n",
       "</div>"
      ],
      "text/plain": [
       "  Country/Region      Continent    Population  TotalCases  NewCases  \\\n",
       "0            USA  North America  3.311981e+08     5032179       NaN   \n",
       "1         Brazil  South America  2.127107e+08     2917562       NaN   \n",
       "2          India           Asia  1.381345e+09     2025409       NaN   \n",
       "3         Russia         Europe  1.459409e+08      871894       NaN   \n",
       "4   South Africa         Africa  5.938157e+07      538184       NaN   \n",
       "\n",
       "   TotalDeaths  NewDeaths  TotalRecovered  NewRecovered  ActiveCases  \\\n",
       "0     162804.0        NaN       2576668.0           NaN    2292707.0   \n",
       "1      98644.0        NaN       2047660.0           NaN     771258.0   \n",
       "2      41638.0        NaN       1377384.0           NaN     606387.0   \n",
       "3      14606.0        NaN        676357.0           NaN     180931.0   \n",
       "4       9604.0        NaN        387316.0           NaN     141264.0   \n",
       "\n",
       "   Serious,Critical  Tot Cases/1M pop  Deaths/1M pop  TotalTests  \\\n",
       "0           18296.0           15194.0          492.0  63139605.0   \n",
       "1            8318.0           13716.0          464.0  13206188.0   \n",
       "2            8944.0            1466.0           30.0  22149351.0   \n",
       "3            2300.0            5974.0          100.0  29716907.0   \n",
       "4             539.0            9063.0          162.0   3149807.0   \n",
       "\n",
       "   Tests/1M pop      WHO Region  \n",
       "0      190640.0        Americas  \n",
       "1       62085.0        Americas  \n",
       "2       16035.0  South-EastAsia  \n",
       "3      203623.0          Europe  \n",
       "4       53044.0          Africa  "
      ]
     },
     "execution_count": 15,
     "metadata": {},
     "output_type": "execute_result"
    }
   ],
   "source": [
    "world_data.head()"
   ]
  },
  {
   "cell_type": "code",
   "execution_count": 16,
   "metadata": {},
   "outputs": [
    {
     "data": {
      "text/plain": [
       "209"
      ]
     },
     "execution_count": 16,
     "metadata": {},
     "output_type": "execute_result"
    }
   ],
   "source": [
    "world_data['Country/Region'].nunique()"
   ]
  },
  {
   "cell_type": "code",
   "execution_count": null,
   "metadata": {},
   "outputs": [],
   "source": []
  },
  {
   "cell_type": "markdown",
   "metadata": {},
   "source": [
    "### Top 20 countries of Total Confirmed cases"
   ]
  },
  {
   "cell_type": "code",
   "execution_count": null,
   "metadata": {},
   "outputs": [],
   "source": [
    "fig=px.bar(world_data.iloc[0:20],y='Country/Region',x='TotalCases',color='TotalCases',text=\"TotalCases\")\n",
    "fig.update_layout(template=\"plotly_dark\",title_text=\"<b>Top 20 countries of Total confirmed cases</b>\")\n",
    "fig.show()"
   ]
  },
  {
   "cell_type": "code",
   "execution_count": null,
   "metadata": {},
   "outputs": [],
   "source": []
  },
  {
   "cell_type": "code",
   "execution_count": null,
   "metadata": {},
   "outputs": [],
   "source": []
  },
  {
   "cell_type": "markdown",
   "metadata": {},
   "source": [
    "### Top 20 countries of Total deaths"
   ]
  },
  {
   "cell_type": "code",
   "execution_count": null,
   "metadata": {},
   "outputs": [],
   "source": [
    "fig=px.bar(world_data.sort_values(by='TotalDeaths',ascending=False)[0:20],y='Country/Region',x='TotalDeaths',color='TotalDeaths',text=\"TotalDeaths\")\n",
    "fig.update_layout(template=\"plotly_dark\",title_text=\"<b>Top 20 countries of Total deaths</b>\")\n",
    "fig.show()"
   ]
  },
  {
   "cell_type": "code",
   "execution_count": null,
   "metadata": {},
   "outputs": [],
   "source": []
  },
  {
   "cell_type": "markdown",
   "metadata": {},
   "source": [
    "### Top 20 countries of Total active cases"
   ]
  },
  {
   "cell_type": "code",
   "execution_count": null,
   "metadata": {},
   "outputs": [],
   "source": [
    "fig=px.bar(world_data.sort_values(by='ActiveCases',ascending=False)[0:20], y='Country/Region',x='ActiveCases',color='ActiveCases',text='ActiveCases')\n",
    "fig.update_layout(template=\"plotly_dark\",title_text=\"<b>Top 20 countries of Total Active cases\")\n",
    "fig.show()"
   ]
  },
  {
   "cell_type": "code",
   "execution_count": null,
   "metadata": {},
   "outputs": [],
   "source": []
  },
  {
   "cell_type": "code",
   "execution_count": null,
   "metadata": {},
   "outputs": [],
   "source": []
  },
  {
   "cell_type": "markdown",
   "metadata": {},
   "source": [
    "### Top 20 countries of Total Recoveries"
   ]
  },
  {
   "cell_type": "code",
   "execution_count": null,
   "metadata": {},
   "outputs": [],
   "source": [
    "fig=px.bar(world_data.sort_values(by='TotalRecovered',ascending=False)[:20],y='Country/Region',x='TotalRecovered',color='TotalRecovered',text='TotalRecovered')\n",
    "fig.update_layout(template=\"plotly_dark\",title_text=\"<b>Top 20 countries of Total Recovered\")\n",
    "fig.show()"
   ]
  },
  {
   "cell_type": "code",
   "execution_count": null,
   "metadata": {},
   "outputs": [],
   "source": []
  },
  {
   "cell_type": "code",
   "execution_count": 21,
   "metadata": {},
   "outputs": [
    {
     "data": {
      "text/plain": [
       "Index(['Country/Region', 'Continent', 'Population', 'TotalCases', 'NewCases',\n",
       "       'TotalDeaths', 'NewDeaths', 'TotalRecovered', 'NewRecovered',\n",
       "       'ActiveCases', 'Serious,Critical', 'Tot Cases/1M pop', 'Deaths/1M pop',\n",
       "       'TotalTests', 'Tests/1M pop', 'WHO Region'],\n",
       "      dtype='object')"
      ]
     },
     "execution_count": 21,
     "metadata": {},
     "output_type": "execute_result"
    }
   ],
   "source": [
    "world_data.columns"
   ]
  },
  {
   "cell_type": "code",
   "execution_count": 22,
   "metadata": {},
   "outputs": [
    {
     "data": {
      "text/plain": [
       "array(['USA', 'Brazil', 'India', 'Russia', 'South Africa', 'Mexico',\n",
       "       'Peru', 'Chile', 'Colombia', 'Spain', 'Iran', 'UK', 'Saudi Arabia',\n",
       "       'Pakistan', 'Bangladesh'], dtype=object)"
      ]
     },
     "execution_count": 22,
     "metadata": {},
     "output_type": "execute_result"
    }
   ],
   "source": [
    "world_data[0:15]['Country/Region'].values"
   ]
  },
  {
   "cell_type": "code",
   "execution_count": null,
   "metadata": {},
   "outputs": [],
   "source": []
  },
  {
   "cell_type": "markdown",
   "metadata": {},
   "source": [
    "### Pie Chart Representation of stats of worst affected countries"
   ]
  },
  {
   "cell_type": "markdown",
   "metadata": {},
   "source": [
    "### Pie Charts in Donut Shape"
   ]
  },
  {
   "cell_type": "code",
   "execution_count": null,
   "metadata": {},
   "outputs": [],
   "source": [
    "labels=world_data[0:15]['Country/Region'].values\n",
    "cases=['TotalCases','TotalDeaths','TotalRecovered','ActiveCases']\n",
    "for i in cases:\n",
    "    fig=px.pie(world_data[0:15],values=i,names=labels,template=\"plotly_dark\",hole=0.3,title=\" {} Recordeded w.r.t. to WHO Region of 15 worst effected countries \".format(i))\n",
    "    fig.show()"
   ]
  },
  {
   "cell_type": "code",
   "execution_count": null,
   "metadata": {},
   "outputs": [],
   "source": []
  },
  {
   "cell_type": "code",
   "execution_count": null,
   "metadata": {},
   "outputs": [],
   "source": []
  },
  {
   "cell_type": "markdown",
   "metadata": {},
   "source": [
    "### Deaths to Confirmed ratio"
   ]
  },
  {
   "cell_type": "code",
   "execution_count": null,
   "metadata": {},
   "outputs": [],
   "source": [
    "deaths_to_confirmed=((world_data['TotalDeaths']/world_data['TotalCases']))\n",
    "fig = px.bar(world_data,x='Country/Region',y=deaths_to_confirmed)\n",
    "fig.update_layout(title={'text':\"Death to confirmed ratio of some  worst effected countries\",'xanchor':'left'},template=\"plotly_dark\")\n",
    "fig.show()\n"
   ]
  },
  {
   "cell_type": "code",
   "execution_count": null,
   "metadata": {},
   "outputs": [],
   "source": []
  },
  {
   "cell_type": "code",
   "execution_count": null,
   "metadata": {},
   "outputs": [],
   "source": []
  },
  {
   "cell_type": "markdown",
   "metadata": {},
   "source": [
    "### Deaths to recovered ratio"
   ]
  },
  {
   "cell_type": "code",
   "execution_count": null,
   "metadata": {},
   "outputs": [],
   "source": [
    "deaths_to_recovered=((world_data['TotalDeaths']/world_data['TotalRecovered']))\n",
    "fig = px.bar(world_data,x='Country/Region',y=deaths_to_recovered)\n",
    "fig.update_layout(title={'text':\"Death to recovered ratio of some  worst effected countries\",'xanchor':'left'},template=\"plotly_dark\")\n",
    "fig.show()\n"
   ]
  },
  {
   "cell_type": "code",
   "execution_count": null,
   "metadata": {},
   "outputs": [],
   "source": []
  },
  {
   "cell_type": "code",
   "execution_count": null,
   "metadata": {},
   "outputs": [],
   "source": []
  },
  {
   "cell_type": "markdown",
   "metadata": {},
   "source": [
    "### Tests to Confirmed Ratio"
   ]
  },
  {
   "cell_type": "code",
   "execution_count": null,
   "metadata": {},
   "outputs": [],
   "source": [
    "tests_to_confirmed=((world_data['TotalTests']/world_data['TotalCases']))\n",
    "fig = px.bar(world_data,x='Country/Region',y=tests_to_confirmed)\n",
    "fig.update_layout(title={'text':\"Tests to confirmed ratio of some  worst effected countries\",'xanchor':'left'},template=\"plotly_dark\")\n",
    "fig.show()"
   ]
  },
  {
   "cell_type": "code",
   "execution_count": null,
   "metadata": {},
   "outputs": [],
   "source": []
  },
  {
   "cell_type": "markdown",
   "metadata": {},
   "source": [
    "### Serious to Deaths Ratio"
   ]
  },
  {
   "cell_type": "code",
   "execution_count": null,
   "metadata": {},
   "outputs": [],
   "source": [
    "serious_to_death=((world_data['Serious,Critical']/world_data['TotalDeaths']))\n",
    "fig = px.bar(world_data,x='Country/Region',y=serious_to_death)\n",
    "fig.update_layout(title={'text':\"serious to Death ratio of some  worst effected countries\",'xanchor':'left'},template=\"plotly_dark\")\n",
    "fig.show()"
   ]
  },
  {
   "cell_type": "code",
   "execution_count": null,
   "metadata": {},
   "outputs": [],
   "source": []
  },
  {
   "cell_type": "markdown",
   "metadata": {},
   "source": [
    "#### Visualize Confirmed,  Active,  Recovered , Deaths Cases(entire statistics ) of a particular country"
   ]
  },
  {
   "cell_type": "code",
   "execution_count": 28,
   "metadata": {},
   "outputs": [
    {
     "data": {
      "text/html": [
       "<div>\n",
       "<style scoped>\n",
       "    .dataframe tbody tr th:only-of-type {\n",
       "        vertical-align: middle;\n",
       "    }\n",
       "\n",
       "    .dataframe tbody tr th {\n",
       "        vertical-align: top;\n",
       "    }\n",
       "\n",
       "    .dataframe thead th {\n",
       "        text-align: right;\n",
       "    }\n",
       "</style>\n",
       "<table border=\"1\" class=\"dataframe\">\n",
       "  <thead>\n",
       "    <tr style=\"text-align: right;\">\n",
       "      <th></th>\n",
       "      <th>Date</th>\n",
       "      <th>Country/Region</th>\n",
       "      <th>Confirmed</th>\n",
       "      <th>Deaths</th>\n",
       "      <th>Recovered</th>\n",
       "      <th>Active</th>\n",
       "      <th>New cases</th>\n",
       "      <th>New deaths</th>\n",
       "      <th>New recovered</th>\n",
       "      <th>WHO Region</th>\n",
       "    </tr>\n",
       "  </thead>\n",
       "  <tbody>\n",
       "    <tr>\n",
       "      <th>0</th>\n",
       "      <td>2020-01-22</td>\n",
       "      <td>Afghanistan</td>\n",
       "      <td>0</td>\n",
       "      <td>0</td>\n",
       "      <td>0</td>\n",
       "      <td>0</td>\n",
       "      <td>0</td>\n",
       "      <td>0</td>\n",
       "      <td>0</td>\n",
       "      <td>Eastern Mediterranean</td>\n",
       "    </tr>\n",
       "    <tr>\n",
       "      <th>1</th>\n",
       "      <td>2020-01-22</td>\n",
       "      <td>Albania</td>\n",
       "      <td>0</td>\n",
       "      <td>0</td>\n",
       "      <td>0</td>\n",
       "      <td>0</td>\n",
       "      <td>0</td>\n",
       "      <td>0</td>\n",
       "      <td>0</td>\n",
       "      <td>Europe</td>\n",
       "    </tr>\n",
       "    <tr>\n",
       "      <th>2</th>\n",
       "      <td>2020-01-22</td>\n",
       "      <td>Algeria</td>\n",
       "      <td>0</td>\n",
       "      <td>0</td>\n",
       "      <td>0</td>\n",
       "      <td>0</td>\n",
       "      <td>0</td>\n",
       "      <td>0</td>\n",
       "      <td>0</td>\n",
       "      <td>Africa</td>\n",
       "    </tr>\n",
       "    <tr>\n",
       "      <th>3</th>\n",
       "      <td>2020-01-22</td>\n",
       "      <td>Andorra</td>\n",
       "      <td>0</td>\n",
       "      <td>0</td>\n",
       "      <td>0</td>\n",
       "      <td>0</td>\n",
       "      <td>0</td>\n",
       "      <td>0</td>\n",
       "      <td>0</td>\n",
       "      <td>Europe</td>\n",
       "    </tr>\n",
       "    <tr>\n",
       "      <th>4</th>\n",
       "      <td>2020-01-22</td>\n",
       "      <td>Angola</td>\n",
       "      <td>0</td>\n",
       "      <td>0</td>\n",
       "      <td>0</td>\n",
       "      <td>0</td>\n",
       "      <td>0</td>\n",
       "      <td>0</td>\n",
       "      <td>0</td>\n",
       "      <td>Africa</td>\n",
       "    </tr>\n",
       "  </tbody>\n",
       "</table>\n",
       "</div>"
      ],
      "text/plain": [
       "         Date Country/Region  Confirmed  Deaths  Recovered  Active  New cases  \\\n",
       "0  2020-01-22    Afghanistan          0       0          0       0          0   \n",
       "1  2020-01-22        Albania          0       0          0       0          0   \n",
       "2  2020-01-22        Algeria          0       0          0       0          0   \n",
       "3  2020-01-22        Andorra          0       0          0       0          0   \n",
       "4  2020-01-22         Angola          0       0          0       0          0   \n",
       "\n",
       "   New deaths  New recovered             WHO Region  \n",
       "0           0              0  Eastern Mediterranean  \n",
       "1           0              0                 Europe  \n",
       "2           0              0                 Africa  \n",
       "3           0              0                 Europe  \n",
       "4           0              0                 Africa  "
      ]
     },
     "execution_count": 28,
     "metadata": {},
     "output_type": "execute_result"
    }
   ],
   "source": [
    "group_data.head()"
   ]
  },
  {
   "cell_type": "code",
   "execution_count": 29,
   "metadata": {},
   "outputs": [],
   "source": [
    "from plotly.subplots import make_subplots  ## for creating subplots in plotly\n",
    "import plotly.graph_objects as go"
   ]
  },
  {
   "cell_type": "code",
   "execution_count": 33,
   "metadata": {},
   "outputs": [],
   "source": [
    "\n",
    "def country_visualization(group_data,country):\n",
    "    \n",
    "    data=group_data[group_data['Country/Region']==country]\n",
    "    df=data.loc[:,['Date','Confirmed','Deaths','Recovered','Active']]\n",
    "    fig = make_subplots(rows=1, cols=4,subplot_titles=(\"Confirmed\", \"Active\", \"Recovered\",'Deaths'))\n",
    "    fig.add_trace(\n",
    "        go.Scatter(name=\"Confirmed\",x=df['Date'],y=df['Confirmed']),\n",
    "        row=1, col=1\n",
    "    )\n",
    "\n",
    "    fig.add_trace(\n",
    "        go.Scatter(name=\"Active\",x=df['Date'],y=df['Active']),\n",
    "        row=1, col=2\n",
    "    )\n",
    "    fig.add_trace(\n",
    "        go.Scatter(name=\"Recovered\",x=df['Date'],y=df['Recovered']),\n",
    "        row=1, col=3\n",
    "    )\n",
    "\n",
    "    fig.add_trace(\n",
    "        go.Scatter(name=\"Deaths\",x=df['Date'],y=df['Deaths']),\n",
    "        row=1, col=4\n",
    "    )\n",
    "\n",
    "    fig.update_layout(height=600, width=1000, title_text=\"Date Vs Recorded Cases of {}\".format(country),template=\"plotly_dark\")\n",
    "    fig.show()"
   ]
  },
  {
   "cell_type": "code",
   "execution_count": null,
   "metadata": {},
   "outputs": [],
   "source": [
    "country_visualization(group_data,'Brazil')"
   ]
  },
  {
   "cell_type": "code",
   "execution_count": null,
   "metadata": {},
   "outputs": [],
   "source": []
  }
 ],
 "metadata": {
  "kernelspec": {
   "display_name": "Python 3",
   "language": "python",
   "name": "python3"
  },
  "language_info": {
   "codemirror_mode": {
    "name": "ipython",
    "version": 3
   },
   "file_extension": ".py",
   "mimetype": "text/x-python",
   "name": "python",
   "nbconvert_exporter": "python",
   "pygments_lexer": "ipython3",
   "version": "3.7.4"
  }
 },
 "nbformat": 4,
 "nbformat_minor": 2
}
